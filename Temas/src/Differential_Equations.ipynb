{
  "nbformat": 4,
  "nbformat_minor": 0,
  "metadata": {
    "colab": {
      "name": "Differential Equations.ipynb",
      "provenance": [],
      "include_colab_link": true
    },
    "kernelspec": {
      "name": "python3",
      "display_name": "Python 3"
    },
    "language_info": {
      "name": "python"
    }
  },
  "cells": [
    {
      "cell_type": "markdown",
      "metadata": {
        "id": "view-in-github",
        "colab_type": "text"
      },
      "source": [
        "<a href=\"https://colab.research.google.com/github/dbremont/Notas/blob/main/Temas%20de%20Estudio/Differential_Equations.ipynb\" target=\"_parent\"><img src=\"https://colab.research.google.com/assets/colab-badge.svg\" alt=\"Open In Colab\"/></a>"
      ]
    },
    {
      "cell_type": "markdown",
      "metadata": {
        "id": "KeDb4EeR9woR"
      },
      "source": [
        "- [Differential Equations I](https://brilliant.org/courses/differential-equations/)\n",
        "\n",
        "- [Differential Equations II](https://brilliant.org/courses/differential-equations-ii/)"
      ]
    },
    {
      "cell_type": "markdown",
      "metadata": {
        "id": "j6wIAVHK-n8T"
      },
      "source": [
        "* [Differential Equations in Action](https://classroom.udacity.com/courses/cs222)\n",
        "\n",
        "- [18.03 Differential Equations](https://ocw.mit.edu/courses/mathematics/18-03sc-differential-equations-fall-2011/)"
      ]
    }
  ]
}