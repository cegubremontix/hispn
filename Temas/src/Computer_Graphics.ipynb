{
  "nbformat": 4,
  "nbformat_minor": 0,
  "metadata": {
    "colab": {
      "name": "Computer Graphics.ipynb",
      "provenance": [],
      "authorship_tag": "ABX9TyPSfKl0K0LWkEwMNXzr6Tr7",
      "include_colab_link": true
    },
    "kernelspec": {
      "name": "python3",
      "display_name": "Python 3"
    },
    "language_info": {
      "name": "python"
    }
  },
  "cells": [
    {
      "cell_type": "markdown",
      "metadata": {
        "id": "view-in-github",
        "colab_type": "text"
      },
      "source": [
        "<a href=\"https://colab.research.google.com/github/dbremont/Notas/blob/main/Temas/src/Computer_Graphics.ipynb\" target=\"_parent\"><img src=\"https://colab.research.google.com/assets/colab-badge.svg\" alt=\"Open In Colab\"/></a>"
      ]
    },
    {
      "cell_type": "markdown",
      "metadata": {
        "id": "DxJXD0hN9tga"
      },
      "source": [
        "[6.837: Introduction to Computer Graphics](https://www.youtube.com/playlist?list=PLQ3UicqQtfNuBjzJ-KEWmG1yjiRMXYKhh)\n",
        "\n",
        "[15-462/662  Computer Graphics](http://15462.courses.cs.cmu.edu/fall2020/)\n",
        "\n",
        "[Computer Vision](https://classroom.udacity.com/courses/ud810)"
      ]
    }
  ]
}