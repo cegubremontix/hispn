{
  "nbformat": 4,
  "nbformat_minor": 0,
  "metadata": {
    "colab": {
      "name": "Linear Algebra.ipynb",
      "provenance": [],
      "collapsed_sections": [],
      "include_colab_link": true
    },
    "kernelspec": {
      "name": "python3",
      "display_name": "Python 3"
    }
  },
  "cells": [
    {
      "cell_type": "markdown",
      "metadata": {
        "id": "view-in-github",
        "colab_type": "text"
      },
      "source": [
        "<a href=\"https://colab.research.google.com/github/dbremont/Notas/blob/main/Temas%20de%20Estudio/Linear%20Algebra.ipynb\" target=\"_parent\"><img src=\"https://colab.research.google.com/assets/colab-badge.svg\" alt=\"Open In Colab\"/></a>"
      ]
    },
    {
      "cell_type": "markdown",
      "metadata": {
        "id": "L6KihY0U0pWb"
      },
      "source": [
        "\n",
        "## Linear Algebra\n",
        "\n",
        "- Concepts\n",
        "- Problems\n",
        "- Programming"
      ]
    },
    {
      "cell_type": "markdown",
      "metadata": {
        "id": "IZZOrHsaKi0B"
      },
      "source": [
        "## Primario"
      ]
    },
    {
      "cell_type": "markdown",
      "metadata": {
        "id": "R9jaDStMKmYo"
      },
      "source": [
        "* [Introduction to Linear Algebra](https://brilliant.org/courses/linear-algebra/)\n",
        "\n",
        "* [Linear Algebra with Applications](https://brilliant.org/courses/lin-alg/)"
      ]
    },
    {
      "cell_type": "markdown",
      "metadata": {
        "id": "y_e1vH73LXrQ"
      },
      "source": [
        "## Secundario"
      ]
    },
    {
      "cell_type": "markdown",
      "metadata": {
        "id": "97YtpxAIKzli"
      },
      "source": [
        "* [Linear Algebra](https://ocw.mit.edu/courses/mathematics/18-06sc-linear-algebra-fall-2011/)\n",
        "\n",
        "* [Linear Algebra (18.06) Notebooks](https://github.com/juanklopper/MIT_OCW_Linear_Algebra_18_06)"
      ]
    },
    {
      "cell_type": "markdown",
      "metadata": {
        "id": "GpKJ5u3WVKwK"
      },
      "source": [
        "* [Computational Linear Algebra](https://github.com/fastai/numerical-linear-algebra)\n"
      ]
    }
  ]
}