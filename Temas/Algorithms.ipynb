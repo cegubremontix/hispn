{
  "nbformat": 4,
  "nbformat_minor": 0,
  "metadata": {
    "colab": {
      "name": "Algorithms.ipynb",
      "provenance": [],
      "include_colab_link": true
    },
    "kernelspec": {
      "name": "python3",
      "display_name": "Python 3"
    },
    "language_info": {
      "name": "python"
    }
  },
  "cells": [
    {
      "cell_type": "markdown",
      "metadata": {
        "id": "view-in-github",
        "colab_type": "text"
      },
      "source": [
        "<a href=\"https://colab.research.google.com/github/dbremont/Notas/blob/main/Temas%20de%20Estudio/Algorithms.ipynb\" target=\"_parent\"><img src=\"https://colab.research.google.com/assets/colab-badge.svg\" alt=\"Open In Colab\"/></a>"
      ]
    },
    {
      "cell_type": "markdown",
      "metadata": {
        "id": "DE464ucb4Amw"
      },
      "source": [
        "# Algorithms\n",
        "\n",
        "The hardest problem in computer science is people; the second hardest problem is designing systems that are able to evolve & adapt to new goals & constraints over a span of many years or even decades."
      ]
    },
    {
      "cell_type": "markdown",
      "metadata": {
        "id": "cP2nTNv84m1F"
      },
      "source": [
        "## Primario"
      ]
    },
    {
      "cell_type": "markdown",
      "metadata": {
        "id": "0Z70NHuz4Bm4"
      },
      "source": [
        "* [Computer Science Fundamentals](https://brilliant.org/courses/computer-science-essentials/)\n",
        "\n",
        "* [Data Structures](https://brilliant.org/courses/computer-science-fundamentals/)\n",
        "\n",
        "* [Algorithm Fundamentals](https://brilliant.org/courses/computer-science-algorithms/)"
      ]
    },
    {
      "cell_type": "markdown",
      "metadata": {
        "id": "VuHCjrZq4opP"
      },
      "source": [
        "## Secundario"
      ]
    },
    {
      "cell_type": "markdown",
      "metadata": {
        "id": "fuFsy3BI4rS-"
      },
      "source": [
        "[Introduction to Algorithms](https://ocw.mit.edu/courses/electrical-engineering-and-computer-science/6-006-introduction-to-algorithms-spring-2020/)\n",
        "\n",
        "[Theory of Computation](https://ocw.mit.edu/courses/mathematics/18-404j-theory-of-computation-fall-2020/)\n",
        "\n",
        "[Design and Analysis of Algorithms](https://ocw.mit.edu/courses/electrical-engineering-and-computer-science/6-046j-design-and-analysis-of-algorithms-spring-2015/)\n",
        "\n",
        "[Advanced Data Structures](https://ocw.mit.edu/courses/electrical-engineering-and-computer-science/6-851-advanced-data-structures-spring-2012/)\n",
        "\n",
        "[Algorithms - Shai Simonson](https://www.youtube.com/playlist?list=PLvpBp8IpAuw_FzmUGJAAE410Pmq_8QQgd)"
      ]
    }
  ]
}