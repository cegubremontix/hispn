{
  "nbformat": 4,
  "nbformat_minor": 0,
  "metadata": {
    "colab": {
      "name": "MonthNotes.ipynb",
      "provenance": [],
      "collapsed_sections": []
    },
    "kernelspec": {
      "name": "python3",
      "display_name": "Python 3"
    },
    "language_info": {
      "name": "python"
    }
  },
  "cells": [
    {
      "cell_type": "markdown",
      "source": [
        "**febrero 2022**"
      ],
      "metadata": {
        "id": "k4n3_ztRw7ec"
      }
    },
    {
      "cell_type": "markdown",
      "source": [
        "Edge case behavior is much more informative about how a system works than typical behavior."
      ],
      "metadata": {
        "id": "GqfZoh1nQRe-"
      }
    },
    {
      "cell_type": "markdown",
      "source": [
        "[Payara Platform Resources - Know What You're Looking For? Find it Here](https://www.payara.fish/learn/resources/#jakarta)"
      ],
      "metadata": {
        "id": "TvFIVxba5wnv"
      }
    },
    {
      "cell_type": "markdown",
      "source": [
        "Behavioral priming makes predictions that can be measured, whereas system 1/2 is more a broad conceptual framework that claims a crucial distinction yet interaction between automatic processes and those requiring reflexive control. How would you dispute, let alone disprove that?"
      ],
      "metadata": {
        "id": "et40YXdc1Ngy"
      }
    },
    {
      "cell_type": "markdown",
      "source": [
        "[The Kalman Filter. Helping Chickens Cross the Road](https://mathvoices.ams.org/featurecolumn/2022/02/01/the-kalman-filter-helping-chickens-cross-the-road/)"
      ],
      "metadata": {
        "id": "369dT46eYP2E"
      }
    },
    {
      "cell_type": "markdown",
      "source": [
        "1. netstat\n",
        "2. nslookup\n",
        "3. ping\n",
        "4. telnet\n",
        "5. sftp\n",
        "6. ssh\n",
        "7. scp\n",
        "8. rsync\n",
        "9. ifconfig\n",
        "10. traceroute"
      ],
      "metadata": {
        "id": "fycQErSm4F7l"
      }
    },
    {
      "cell_type": "markdown",
      "source": [
        "[Open Liberty Java Tutorials](https://openliberty.io/guides/#restful_service)\n",
        "\n",
        "[The Malthusian Trap Never Existed](https://rafaelrguthmann.substack.com/p/the-malthusian-trap-never-existed?utm_source=url)\n",
        "\n",
        "[Zig Build System Internals](https://mitchellh.com/zig/build-internals)\n",
        "\n",
        "[Society for Worldwide Interbank Financial Telecommunication](https://es.wikipedia.org/wiki/Society_for_Worldwide_Interbank_Financial_Telecommunication)"
      ],
      "metadata": {
        "id": "9V0hL3fjfd49"
      }
    },
    {
      "cell_type": "markdown",
      "source": [
        "[Fibonacci retracement](https://en.wikipedia.org/wiki/Fibonacci_retracement)\n",
        "\n",
        "[RESTFul Web Services for Java](https://docs.jboss.org/resteasy/docs/3.0.6.Final/userguide/html_single/index.html#Securing_JAX-RS_and_RESTeasy)\n",
        "\n",
        "**DownGit** -  Bookmark\n",
        "[DownGit](https://downgit.github.io/#/home?url=https:%2F%2Fgithub.com%2Feugenp%2Ftutorials%2Ftree%2Fmaster%2Fresteasy)\n",
        "\n",
        "[Skip list](https://en.wikipedia.org/wiki/Skip_list)\n",
        "\n",
        "[CSE591D: Database Group Meeting](https://courses.cs.washington.edu/courses/cse591d/)\n",
        "\n",
        "[CSE590Q: Database Seminar](https://courses.cs.washington.edu/courses/cse590q/)\n",
        "\n",
        "[HashiCorp - Vagrant Development Environments Made Easy](https://www.vagrantup.com/)"
      ],
      "metadata": {
        "id": "xeJFSTcvKWYt"
      }
    },
    {
      "cell_type": "markdown",
      "source": [
        "[The Punk Strategy Guide to the Logical Thinking Process](https://fortelabs.co/blog/the-punk-strategy-guide-to-the-logical-thinking-process/)\n",
        "\n",
        "[Graph Geometry](https://people.math.harvard.edu/~knill/graphgeometry/)\n",
        "\n",
        "[Multi Variable Calculus Harvard](https://people.math.harvard.edu/~knill/teaching/summer2020/)\n",
        "\n",
        "[Math 1a Spring 2020 1a Introduction to Calculus](https://people.math.harvard.edu/~knill/teaching/math1a2020/index.html)\n",
        "\n",
        "[Cognitive Bias Codex](https://www.sog.unc.edu/sites/www.sog.unc.edu/files/course_materials/Cognitive%20Biases%20Codex.pdf)\n",
        "\n",
        "[Unicode® 15.0.0](https://www.unicode.org/versions/Unicode15.0.0/)\n",
        "\n",
        "[(How to Write a (Lisp) Interpreter (in Python](https://norvig.com/lispy.html)"
      ],
      "metadata": {
        "id": "BwYE41F_jcER"
      }
    },
    {
      "cell_type": "markdown",
      "source": [
        "[GPT-J is self-hosted open-source analog of GPT-3: how to run in Docker](https://tracklify.com/blog/gpt-j-is-self-hosted-open-source-analog-of-gpt-3-how-to-run-in-docker/)\n",
        "\n",
        "[Server Side Rendering at Scale](https://engineeringblog.yelp.com/2022/02/server-side-rendering-at-scale.html)\n",
        "\n",
        "[Mastering Metacognition: The What, Why, and How](https://www.activelylearn.com/post/metacognition)\n",
        "\n",
        "[Dive into Deep Learning Compiler](https://tvm.d2l.ai/index.html#)"
      ],
      "metadata": {
        "id": "czPTrBE01UpM"
      }
    },
    {
      "cell_type": "markdown",
      "source": [
        "[Notes on software abstraction](https://oh4.co/site/on-abstraction.html)\n",
        "\n",
        "[Cubix framework - buildign a programmign tool - build for 5 languages at once](http://www.cubix-framework.com/)\n",
        "\n",
        "[RoarVM is a manycore Smalltalk Virtual Machine](https://github.com/smarr/RoarVM)"
      ],
      "metadata": {
        "id": "mwo6uP-SnNTm"
      }
    },
    {
      "cell_type": "markdown",
      "source": [
        "[How can I capture network traffic of a single process?](https://askubuntu.com/questions/11709/how-can-i-capture-network-traffic-of-a-single-process)\n",
        "\n",
        "[code.gov sharing us code - unlok the tremendous potential of the Federal  goverment's software](https://code.gov/)\n",
        "\n",
        "[Java Idioms Catalog](https://wiki.c2.com/?JavaIdioms)"
      ],
      "metadata": {
        "id": "NfFj9dgLLoDo"
      }
    },
    {
      "cell_type": "markdown",
      "source": [
        "[crossminds](https://crossminds.ai/)\n",
        "\n",
        "[Optimizing Postgres Text Search with Trigrams](https://alexklibisz.com/2022/02/18/optimizing-postgres-trigram-search.html)"
      ],
      "metadata": {
        "id": "RWLkPmHduV_3"
      }
    },
    {
      "cell_type": "markdown",
      "source": [
        "[Brain Efficiency: Much More than You Wanted to Know](https://www.lesswrong.com/posts/xwBuoE9p8GE7RAuhd/brain-efficiency-much-more-than-you-wanted-to-know)"
      ],
      "metadata": {
        "id": "dtLZe561ecZz"
      }
    },
    {
      "cell_type": "markdown",
      "source": [
        "[Reload used classes at runtime Java](https://stackoverflow.com/questions/20091075/reload-used-classes-at-runtime-java)\n",
        "\n",
        "[Jakarta Server Page](https://jakarta.ee/specifications/pages/3.0/jakarta-server-pages-spec-3.0.html)\n",
        "\n",
        "[JavaServer Pages](https://es.wikipedia.org/wiki/JavaServer_Pages)\n",
        "\n",
        "[What does Exploded Development mean? (In Java)](https://stackoverflow.com/questions/1289358/what-does-exploded-development-mean-in-java)\n",
        "\n",
        "[Loading class file from a different filesystem](https://stackoverflow.com/questions/34567137/loading-class-file-from-a-different-filesystem)"
      ],
      "metadata": {
        "id": "guKGe42GudxU"
      }
    },
    {
      "cell_type": "markdown",
      "source": [
        "[My Notebook System](http://ratfactor.com/notes)\n",
        "\n",
        "[Reseña Sebastian Mazucca - Latecomers  State Formation : Politial Geography and Capacity Failure in Latin America](https://revistas.uasb.edu.ec/index.php/procesos/article/view/2948/2854)\n",
        "\n",
        "[Antifragility Resume](https://twitter.com/carefullycnsdrd/status/1494774246660263949)\n",
        "\n",
        "Model of Programming -  [how I think when I think about programming](https://www.alicemaz.com/writing/program.html)\n",
        "\n",
        "[Server-Sent Events, WebSockets, and HTTP](https://www.mnot.net/blog/2022/02/20/websockets)\n",
        "\n",
        "[Git repositories on chromium](https://chromium.googlesource.com/?format=HTML)"
      ],
      "metadata": {
        "id": "Gc_e_wnfonAm"
      }
    },
    {
      "cell_type": "markdown",
      "source": [
        "[ADVANCED: MAKING DYNAMIC DECISIONS AND THE BI-LSTM CRF](https://pytorch.org/tutorials/beginner/nlp/advanced_tutorial.html)"
      ],
      "metadata": {
        "id": "6qe5YMxMhmwX"
      }
    },
    {
      "cell_type": "markdown",
      "source": [
        "Dask library for parallel computing in python\n"
      ],
      "metadata": {
        "id": "IKHnk_vQZr3Y"
      }
    },
    {
      "cell_type": "markdown",
      "source": [
        "https://root-servers.org/\n",
        "\n",
        "https://jvns.ca/blog/2022/02/14/some-dns-terminology/"
      ],
      "metadata": {
        "id": "lvvAQkLzbnTf"
      }
    },
    {
      "cell_type": "markdown",
      "source": [
        "https://highlyscalable.wordpress.com/2015/03/10/data-mining-problems-in-retail/\n",
        "\n",
        "https://highlyscalable.wordpress.com/2012/09/18/distributed-algorithms-in-nosql-databases/\n",
        "\n",
        "https://highlyscalable.wordpress.com/2012/06/05/fast-intersection-sorted-lists-sse/\n",
        "\n",
        "https://highlyscalable.wordpress.com/2012/04/02/architecture-of-high-performance-ecommerce-backend/\n",
        "\n",
        "https://highlyscalable.wordpress.com/2012/01/07/mvcc-transactions-key-value/\n",
        "\n",
        "https://highlyscalable.wordpress.com/2013/08/20/in-stream-big-data-processing/\n",
        "\n",
        "https://highlyscalable.wordpress.com/2012/02/01/mapreduce-patterns/\n",
        "\n",
        "https://highlyscalable.wordpress.com/2012/03/01/nosql-data-modeling-techniques/\n",
        "\n",
        "https://highlyscalable.wordpress.com/2012/01/01/osgi-4-2-core-specification-tutorial/\n",
        "\n",
        "https://highlyscalable.wordpress.com/2012/01/02/sorting-with-pagination/\n",
        "\n",
        "https://highlyscalable.wordpress.com/2012/05/01/probabilistic-structures-web-analytics-data-mining/\n",
        "\n",
        "https://highlyscalable.wordpress.com/2012/08/14/speeding-up-hadoop-builds-distributed-parallel-unit-tests-on-jenkins/\n",
        "\n",
        "https://highlyscalable.wordpress.com/2012/02/02/direct-memory-access-in-java/\n",
        "\n",
        "https://highlyscalable.wordpress.com/2011/12/29/ultimate-sets-and-maps-for-java-p1/\n",
        "\n",
        "https://highlyscalable.wordpress.com/2012/01/01/ultimate-sets-and-maps-for-java-p2/"
      ],
      "metadata": {
        "id": "mEmzct5VYoF7"
      }
    },
    {
      "cell_type": "markdown",
      "source": [
        "@Plinz\n",
        "\n",
        "My computer science curriculum let me build from first principles: a CPU, a compiler, a logical language, Gödel’s incompleteness theorem, a cypher, a text retrieval system, a speech generator, a perceptron. Things we did not build but should have: an OS, a math library, a VR.\n",
        "\n",
        "With hindsight, the CS curriculum I absorbed at HU+TU Berlin and Waikato was better than I thought, but some missing courses delayed my development by many years: epistemology, geometric understanding of linear algebra, statistics, combinators, and interfacing with humans.\n",
        "\n",
        "Useful languages I learned/used at university: C, C++, C#, Pascal, Forth, SQL, Prolog, Javascript. Languages I should have avoided: Java, Modula2. Languages I should have learned earlier: Python, Lisp, Erlang. My first languages were BASIC and assembler. Great languages for kids!\n",
        "\n",
        "I attended linear algebra and calculus and fulfilled the examination requirements, but I did not gain a useful and deeply applicable first principles understanding of either back then. The best C is currently Swift."
      ],
      "metadata": {
        "id": "7m6LCrjqhoEV"
      }
    },
    {
      "cell_type": "markdown",
      "source": [
        "Backprop is reverse-mode automatic differentiation.\n",
        "But frameworks like PyTorch can do all kinds of differentiation: reverse mode, forward mode, second order...\n",
        "Plus, it can do this for complex functions with loops and conditionals.\n",
        "In two words: differentiable programming.\n",
        "\n"
      ],
      "metadata": {
        "id": "pbzpioHMsZsL"
      }
    },
    {
      "cell_type": "markdown",
      "source": [
        "[Likely and unlikely cuases of Heisenbugs in Java](https://stackoverflow.com/questions/34679813/likely-and-unlikely-causes-of-heisenbugs-in-java)\n",
        "\n",
        "[How do you approach intermittent bugs?](https://stackoverflow.com/questions/352906/how-do-you-approach-intermittent-bugs)\n",
        "\n",
        "[Code4Dev: Conozca cuatro herramientas de código abierto que están apoyando a la digitalización del sector público en la #ALC](https://events.iadb.org/calendar/event/25143?lang=es)\n",
        "\n",
        "[Popular Vim Commands - Comprehensive Vim Cheat Sheet](https://www.keycdn.com/blog/vim-commands)"
      ],
      "metadata": {
        "id": "7Q25W67af1St"
      }
    },
    {
      "cell_type": "markdown",
      "source": [
        "[Coarse-grained modeling](https://en.wikipedia.org/wiki/Coarse-grained_modeling)\n",
        "\n",
        "[SICP terminology: computational object](https://stackoverflow.com/questions/25382286/sicp-terminology-computational-object)\n",
        "\n",
        "[Algorithms for Modern Hardware](https://en.algorithmica.org/hpc/)"
      ],
      "metadata": {
        "id": "fjdGdkVJrgT5"
      }
    },
    {
      "cell_type": "markdown",
      "source": [
        "[Website analysis: your go-to optimization resource](https://www.hotjar.com/website-analysis/)\n",
        "\n",
        "[What does it mean to listen on a port?](https://paulbutler.org/2022/what-does-it-mean-to-listen-on-a-port/)\n",
        "\n",
        "[Scheduling Tasks and Threads](https://browser.engineering/scheduling.html)"
      ],
      "metadata": {
        "id": "q6hxXUOxnl4n"
      }
    },
    {
      "cell_type": "markdown",
      "source": [
        "[What is WebAssembly?](https://medium.com/javascript-scene/what-is-webassembly-the-dawn-of-a-new-era-61256ec5a8f6)\n",
        "\n",
        "[Bringing the Web Up to Speed with WebAssembly](https://sing.stanford.edu/curis-fellowships/rh/wasm.pdf)\n",
        "\n",
        "[Web Assembly](https://webassembly.org/)\n",
        "\n",
        "[Not So Fast: Analyzing the Performance of WebAssembly vs. Native Code](https://www.usenix.org/system/files/atc19-jangda.pdf)\n",
        "\n",
        "[WebAssembly](https://en.wikipedia.org/wiki/WebAssembly)\n",
        "\n",
        "[Shuhari](https://en.wikipedia.org/wiki/Shuhari)\n",
        "\n",
        "[State of art for unikernels](https://github.com/seeker89/unikernels)\n",
        "\n",
        "[Imitate, Then Innovate](https://news.ycombinator.com/item?id=30357746)"
      ],
      "metadata": {
        "id": "7WhUxAvormxT"
      }
    },
    {
      "cell_type": "markdown",
      "source": [
        "[Principles of Computer Systems](https://ocw.mit.edu/courses/electrical-engineering-and-computer-science/6-826-principles-of-computer-systems-spring-2002/)\n",
        "\n",
        "[JDK Tools and Utilities](https://docs.oracle.com/javase/8/docs/technotes/tools/)\n",
        "\n",
        "[A Java Reference: Assorted Java Reference Material](https://inst.eecs.berkeley.edu/~cs61b/fa17/materials/book1/java.pdf)\n",
        "\n",
        "[Examples for making good programming ankis cards](https://sp18.datastructur.es/materials/review/FinalReviewDocument.pdf)"
      ],
      "metadata": {
        "id": "kT4qidfsYwtQ"
      }
    },
    {
      "cell_type": "markdown",
      "source": [
        "[Open Souce - Knowledge Base System](https://github.com/outline/outline)\n",
        "\n",
        "[Benford's law](https://en.wikipedia.org/wiki/Benford%27s_law)"
      ],
      "metadata": {
        "id": "BYRm4gklBYZM"
      }
    },
    {
      "cell_type": "markdown",
      "source": [
        "[How to Write 3v1L, Untestable Code](https://testing.googleblog.com/2008/07/how-to-write-3v1l-untestable-code.html)\n",
        "\n",
        "[The Free Lunch Is Over: A Fundamental Turn Toward Concurrency in Software](http://www.gotw.ca/publications/concurrency-ddj.htm)\n",
        "\n",
        "[Repo Graphics](https://repography.com/)"
      ],
      "metadata": {
        "id": "Wk1AFNgc406y"
      }
    },
    {
      "cell_type": "markdown",
      "source": [
        "[Diccionario](https://dle.rae.es/diccionario) : Repertorio en forma de libro o en soporte electrónico en el que se recogen, según un orden determinado, las palabras o expresiones de una o más lenguas, o de una materia concreta, acompañadas de su definición, equivalencia o explicación.\n",
        "\n",
        "[Alegoría](https://es.wikipedia.org/wiki/Alegor%C3%ADa)\n",
        "\n",
        "[Session:](https://www.etymonline.com/word/session)\n",
        "\n",
        "[Rhetorical question](https://en.wikipedia.org/wiki/Rhetorical_question)\n",
        "\n",
        "Critical mass\n",
        "\n",
        "[Signal](https://en.wikipedia.org/wiki/Signal)\n",
        "\n",
        "[Abstraction](https://en.wikipedia.org/wiki/Abstraction)\n",
        "\n",
        "[Heuristic](https://en.wikipedia.org/wiki/Heuristic)\n",
        "\n",
        "[Cognition](https://en.wikipedia.org/wiki/Cognition)\n",
        "\n",
        "[Verbalism](https://www.merriam-webster.com/dictionary/verbalism)\n",
        "\n",
        "[Galimatías](https://es.wikipedia.org/wiki/Galimat%C3%ADas)\n",
        "\n",
        "[Feedback](https://en.wikipedia.org/wiki/Feedback)\n",
        "\n",
        "[Cybernetics](https://en.wikipedia.org/wiki/Cybernetics)\n",
        "\n",
        "[Thought](https://en.wikipedia.org/wiki/Thought)\n",
        "\n",
        "[Teleology](https://en.wikipedia.org/wiki/Teleology)\n",
        "\n",
        "[Information](https://en.wikipedia.org/wiki/Information)\n",
        "\n",
        "Window of Oportunity\n",
        "\n",
        "Affirming the consequent\n",
        "\n",
        "[Pedro Grullo](https://es.wikipedia.org/wiki/Pedro_Grullo): Pedro Grullo, Pedrogrullo, Pero Grullo o Perogrullo, \"que a la mano cerrada llamaba puño\", es un personaje paremiológico o de la literatura tradicional cuyo origen histórico es de difícil determinación. Su idiosincrasia es la de un personaje cómico, producto de la imaginación popular, pero existen hipótesis e investigaciones en las que se afirma que habría existido un Pedro Grullo real. En cualquier caso, en el habla corriente se identifica al personaje como el primer, o el más famoso, decidor de perogrulladas -tautologías retóricas-, esto es, verdades redundantes o pleonásticas del tipo \"ha amanecido porque es de día\". \n",
        "\n",
        "Natural Computing: Bio-inspired algorithms for optimisation and search problems. The algorithms are based on simulated evolution (including Genetic algorithms and Genetic programming), particle swarm optimisation, ant colony optimisation as well as systems made of membranes or biochemical reactions among molecules. These techniques are useful for searching very large spaces. For example, they can be used to search large parameter spaces in engineering design and spaces of possible schedules in scheduling. However, they can also be used to search for rules and rule sets, for data mining, for good feed-forward or recurrent neural nets and so on. The idea of evolving, rather than designing, algorithms and controllers is especially appealing in AI. In a similar way it is tempting to use the intrinsic dynamics of real systems consisting e.g. of quadrillions of molecules to perform computations for us.\n",
        "\n",
        "Galimatías: Lenguaje oscuro por la impropiedad de la frase o por la confusión de las ideas.\n",
        "\n",
        "[Gimmick/Gemática](https://en.wikipedia.org/wiki/Gimmick) : A gimmick is a novel device or idea designed primarily to attract attention or increase appeal, often with little intrinsic value.[1][2] When applied to retail marketing, it is a unique or quirky feature designed to make a product or service \"stand out\" from its competitors. Product gimmicks are sometimes considered mere novelties, and tangential to the product's functioning. Gimmicks are occasionally viewed negatively, but some seemingly trivial gimmicks of the past have evolved into useful, permanent features. The term is also sometimes used to describe unusual features or playstyles in video games, usually if they are unnecessary or obnoxious.\n",
        "\n",
        "Hooking: Conjunto de técnicas utilizadas para alterar el comportamiento de un **sistema operativo**, de **aplicaciones**  o de otros componentes de softwarwe.\n",
        "\n",
        "abstract syntax tree\n",
        "\n",
        "abstraction\n",
        "\n",
        "abstraction function (AF)\n",
        "\n",
        "alias\n",
        "\n",
        "application programming interface (API)\n",
        "\n",
        "assertion\n",
        "\n",
        "atomic\n",
        "\n",
        "attribute\n",
        "\n",
        "automated testing\n",
        "\n",
        "base case\n",
        "\n",
        "behavioral equality\n",
        "\n",
        "behavioral equivalence\n",
        "\n",
        "beneficent mutation\n",
        "\n",
        "black box testing\n",
        "\n",
        "blocking, ×2\n",
        "\n",
        "blocking method\n",
        "\n",
        "boundary value\n",
        "\n",
        "buffer\n",
        "\n",
        "callback\n",
        "\n",
        "character encoding\n",
        "\n",
        "checked exception\n",
        "\n",
        "client, ×2\n",
        "\n",
        "code review\n",
        "\n",
        "commit\n",
        "\n",
        "composite pattern\n",
        "\n",
        "concrete syntax tree\n",
        "\n",
        "concurrency\n",
        "\n",
        "confinement\n",
        "\n",
        "connected socket\n",
        "\n",
        "coverage\n",
        "\n",
        "creator\n",
        "\n",
        "data abstraction\n",
        "\n",
        "deadlock\n",
        "\n",
        "declarative specification\n",
        "\n",
        "decoupling\n",
        "\n",
        "defensive copy, ×2\n",
        "\n",
        "defensive programming\n",
        "\n",
        "delta debugging\n",
        "\n",
        "design pattern\n",
        "\n",
        "deterministic specification\n",
        "\n",
        "domain-specific language (dsl)\n",
        "\n",
        "don't repeat yourself (DRY)\n",
        "\n",
        "dynamic checking, ×2\n",
        "\n",
        "dynamic dispatch\n",
        "\n",
        "dynamic typing\n",
        "\n",
        "encapsulation, ×2\n",
        "\n",
        "enumeration, ×2\n",
        "\n",
        "equivalence relation\n",
        "\n",
        "event loop\n",
        "\n",
        "exception\n",
        "\n",
        "exception translation\n",
        "\n",
        "extends (Java)\n",
        "\n",
        "factory method\n",
        "\n",
        "fail fast, ×2\n",
        "\n",
        "field\n",
        "\n",
        "filter\n",
        "\n",
        "final (Java), ×2\n",
        "\n",
        "first-class\n",
        "\n",
        "functional object\n",
        "\n",
        "functional programming\n",
        "\n",
        "generic type\n",
        "\n",
        "glass box testing\n",
        "\n",
        "global constant\n",
        "\n",
        "global variable\n",
        "\n",
        "grammar\n",
        "\n",
        "HEAD\n",
        "\n",
        "helper method\n",
        "\n",
        "higher-order function\n",
        "\n",
        "immutability\n",
        "\n",
        "imperative programming\n",
        "\n",
        "implementation\n",
        "\n",
        "implements (Java)\n",
        "\n",
        "incremental development\n",
        "\n",
        "index (git)\n",
        "\n",
        "information hiding\n",
        "\n",
        "inheritance\n",
        "\n",
        "instance method\n",
        "\n",
        "instance variable\n",
        "\n",
        "instanceof (Java)\n",
        "\n",
        "integration testing, ×2\n",
        "\n",
        "interface (Java)\n",
        "\n",
        "interleaving\n",
        "\n",
        "invariant\n",
        "\n",
        "iterative development\n",
        "\n",
        "iterator\n",
        "\n",
        "lambda expression\n",
        "\n",
        "left recursion (parsing)\n",
        "\n",
        "List (Java)\n",
        "\n",
        "listening socket\n",
        "\n",
        "local variable\n",
        "\n",
        "localization\n",
        "\n",
        "lock\n",
        "\n",
        "magic number\n",
        "\n",
        "map\n",
        "\n",
        "Map (Java)\n",
        "\n",
        "member variable\n",
        "\n",
        "merge conflict\n",
        "\n",
        "message passing\n",
        "\n",
        "method reference (Java)\n",
        "\n",
        "modular\n",
        "\n",
        "modularity\n",
        "\n",
        "module\n",
        "\n",
        "monitor pattern\n",
        "\n",
        "monolithic\n",
        "\n",
        "mutability\n",
        "\n",
        "mutator\n",
        "\n",
        "mutual exclusion\n",
        "\n",
        "mutual recursion\n",
        "\n",
        "nondeterministic\n",
        "\n",
        "nonterminal\n",
        "\n",
        "null\n",
        "\n",
        "object contract\n",
        "\n",
        "object equality\n",
        "\n",
        "object type\n",
        "\n",
        "observational equality\n",
        "\n",
        "observer\n",
        "\n",
        "operation\n",
        "\n",
        "operational specification\n",
        "\n",
        "overloading\n",
        "\n",
        "override\n",
        "\n",
        "parse tree, ×2\n",
        "\n",
        "parser\n",
        "\n",
        "parser generator\n",
        "\n",
        "partition\n",
        "\n",
        "postcondition\n",
        "\n",
        "precondition\n",
        "\n",
        "primitive type\n",
        "\n",
        "process\n",
        "\n",
        "producer\n",
        "\n",
        "producer-consumer pattern\n",
        "\n",
        "production\n",
        "\n",
        "property\n",
        "\n",
        "protocol\n",
        "\n",
        "race condition\n",
        "\n",
        "reassignable reference\n",
        "\n",
        "recursive step\n",
        "\n",
        "reduce\n",
        "\n",
        "reentrancy\n",
        "\n",
        "reference equality\n",
        "\n",
        "reflexive\n",
        "\n",
        "regression testing\n",
        "\n",
        "regular expression\n",
        "\n",
        "repository\n",
        "\n",
        "representation\n",
        "\n",
        "representation exposure\n",
        "\n",
        "representation independence\n",
        "\n",
        "representation invariant (RI)\n",
        "\n",
        "revision\n",
        "\n",
        "root nonterminal\n",
        "\n",
        "safety-from-rep-exposure argument (SRE)\n",
        "\n",
        "scope\n",
        "\n",
        "self check\n",
        "\n",
        "sentinel object\n",
        "\n",
        "separation of concern\n",
        "\n",
        "serializability\n",
        "\n",
        "Set (Java)\n",
        "\n",
        "shared memory\n",
        "\n",
        "side-effect\n",
        "\n",
        "slicing\n",
        "\n",
        "snapshot diagram\n",
        "\n",
        "socket\n",
        "\n",
        "specification, ×2\n",
        "\n",
        "staging area\n",
        "\n",
        "static checking, ×2\n",
        "\n",
        "static method\n",
        "\n",
        "static typing\n",
        "\n",
        "static variable\n",
        "\n",
        "stream\n",
        "\n",
        "stronger\n",
        "\n",
        "structural induction\n",
        "\n",
        "stub\n",
        "\n",
        "subclassing\n",
        "\n",
        "subdomain\n",
        "\n",
        "subtype\n",
        "\n",
        "supertype\n",
        "\n",
        "symmetric\n",
        "\n",
        "systematic testing\n",
        "\n",
        "terminal\n",
        "\n",
        "test case\n",
        "\n",
        "test suite\n",
        "\n",
        "test-first programming\n",
        "\n",
        "thread\n",
        "\n",
        "thread safety argument (TSA)\n",
        "\n",
        "threadsafe\n",
        "\n",
        "threadsafe immutable\n",
        "\n",
        "time slicing\n",
        "\n",
        "timeout\n",
        "\n",
        "transitive\n",
        "\n",
        "type\n",
        "\n",
        "unchecked exception\n",
        "\n",
        "underdetermined specification\n",
        "\n",
        "unit testing, ×2\n",
        "\n",
        "unreassignable reference\n",
        "\n",
        "validation\n",
        "\n",
        "verification\n",
        "\n",
        "version (git)\n",
        "\n",
        "visitor pattern\n",
        "\n",
        "weaker\n",
        "\n",
        "wire protocol\n",
        "\n",
        "working copy\n",
        "\n",
        "How to build a static analysis tool?\n",
        "\n",
        "How to build a dynamic analysis tool?\n",
        "\n",
        "What is software analysis?\n",
        "\n",
        "Intro to Software Analysis\n",
        "\n",
        "Intro to Software Testing\n",
        "\n",
        "Random Testing\n",
        "\n",
        "Automated Test Generation\n",
        "\n",
        "Dataflow Analysis\n",
        "\n",
        "Pointer Analysis\n",
        "\n",
        "Contraint-based Analysis\n",
        "\n",
        "Type Systems\n",
        "\n",
        "Statistical Debugging\n",
        "\n",
        "Delta Debugging\n",
        "\n",
        "Dynamic Symbolic Execution\n",
        "\n",
        "**Non sequitur** (del latín «no se sigue») es un argumento en el cual la conclusión no se deduce (no se sigue) de las premisas. En sentido amplio, se aplica a cualquier razonamiento inconsecuente o inválido, es decir, toda falacia es un non sequitur.\n",
        "\n",
        "Precepto, Cada una de las instrucciones o reglas que se dan o establecen para el conocimiento o manejo de un arte o facultad. - RAE\n",
        "\n",
        "\n",
        "\n",
        "\n",
        "\n",
        "\n",
        "\n",
        "Precepto, Cada una de las instrucciones o reglas que se dan o establecen para el conocimiento o manejo de un arte o facultad. - RAE\n"
      ],
      "metadata": {
        "id": "_BPWQFYoyVNa"
      }
    },
    {
      "cell_type": "markdown",
      "source": [
        "[How to Write 3v1L, Untestable Code](https://testing.googleblog.com/2008/07/how-to-write-3v1l-untestable-code.html)\n",
        "\n",
        "[C++11 threads, affinity and hyperthreading](https://eli.thegreenplace.net/2016/c11-threads-affinity-and-hyperthreading/)\n",
        "\n",
        "[Manifold Markets](https://manifold.markets/)\n",
        "\n",
        "[Concatenative programming language](https://en.wikipedia.org/wiki/Concatenative_programming_language)\n",
        "\n",
        "[]()"
      ],
      "metadata": {
        "id": "VXvda0qfZkff"
      }
    },
    {
      "cell_type": "markdown",
      "source": [
        "JavaScript and Its Concurrency Model\n",
        "\n",
        "- [Modelo de concurrencia y loop de eventos](https://developer.mozilla.org/es/docs/Web/JavaScript/EventLoop)\n",
        "\n",
        "- [Callback Hell](http://callbackhell.com/)\n",
        "\n",
        "- [Analyze V8 Source Code](https://v8.dev/)\n",
        "\n",
        "- [What the heck is the java even loop anyway](http://latentflip.com/loupe/?code=JC5vbignYnV0dG9uJywgJ2NsaWNrJywgZnVuY3Rpb24gb25DbGljaygpIHsKICAgIHNldFRpbWVvdXQoZnVuY3Rpb24gdGltZXIoKSB7CiAgICAgICAgY29uc29sZS5sb2coJ1lvdSBjbGlja2VkIHRoZSBidXR0b24hJyk7ICAgIAogICAgfSwgMjAwMCk7Cn0pOwoKY29uc29sZS5sb2coIkhpISIpOwoKc2V0VGltZW91dChmdW5jdGlvbiB0aW1lb3V0KCkgewogICAgY29uc29sZS5sb2coIkNsaWNrIHRoZSBidXR0b24hIik7Cn0sIDUwMDApOwoKY29uc29sZS5sb2coIldlbGNvbWUgdG8gbG91cGUuIik7!!!PGJ1dHRvbj5DbGljayBtZSE8L2J1dHRvbj4%3D)"
      ],
      "metadata": {
        "id": "zHjwRtDrUHBr"
      }
    },
    {
      "cell_type": "markdown",
      "source": [
        "[What You Should Know About The Stock Market](https://betterexplained.com/articles/what-you-should-know-about-the-stock-market/)\n",
        "\n",
        "[An Empirical Investigation of Personalization Factors on TikTok](https://arxiv.org/pdf/2201.12271.pdf)\n",
        "\n",
        "[Text Rendering Hates You](https://gankra.github.io/blah/text-hates-you/)"
      ],
      "metadata": {
        "id": "5j_1TyzEF4OA"
      }
    },
    {
      "cell_type": "markdown",
      "source": [
        "[Weak vs. Strong Memory Models](https://preshing.com/20120930/weak-vs-strong-memory-models/)\n",
        "\n",
        "[Interrogating Texts: Six Reading Habits do Develop in Your First Year At Harvard](https://acrobat.adobe.com/link/track?uri=urn:aaid:scds:US:643dbb6d-189e-41ad-816c-279dde63de8e#pageNum=1)\n",
        "\n",
        "[So You Want To Run A Microgrants Program](https://astralcodexten.substack.com/p/so-you-want-to-run-a-microgrants)"
      ],
      "metadata": {
        "id": "IvICitkuSi3U"
      }
    },
    {
      "cell_type": "markdown",
      "source": [
        "[CFAR's Training Regime - Notes](https://www.lesswrong.com/s/d922gAtBM8JNzkKKJ)"
      ],
      "metadata": {
        "id": "bH7r30VBEnlL"
      }
    },
    {
      "cell_type": "markdown",
      "source": [
        "Algorithms design techniques\n",
        "\n",
        "- Brute-force or exhaustive search\n",
        "- Divide and Conquer\n",
        "- Greedy Algorithms\n",
        "- Dynamic Programming\n",
        "- Branch and Bound Algorithm\n",
        "- Randomized Algorithm\n",
        "- Backtracking"
      ],
      "metadata": {
        "id": "93LU0XY924Rg"
      }
    },
    {
      "cell_type": "markdown",
      "source": [
        "[How YC Decides How to Fund?](http://paulgraham.com/ace.html)"
      ],
      "metadata": {
        "id": "3OwwgDimmICP"
      }
    },
    {
      "cell_type": "markdown",
      "source": [
        "- A/B test.\n",
        "\n",
        "- Monte Carlo Simulation (using randomness to solve problems).\n",
        "\n",
        "- Machines that make machines.\n",
        "\n",
        "- Multiplicative effects.\n",
        "\n",
        "KPI: Rates, Impressions, Conversion rates, operatantes, ROAS, page views, ROI, CPM, CPC, impression share, average position, sessions.\n",
        "\n",
        "\n",
        "Theory of the mind.\n",
        "\n",
        "Incentive structure.\n",
        "\n",
        "Models: Simplified version of the real world each model has a purpose.\n",
        "\n",
        "If you’re not surprising yourself on a regular basis you’re not creating you’re just following recipes.\n",
        "\n",
        "Computation graph.\n",
        "\n",
        "Permission system for running applications. Run application as “x” user? Meaning that.\n",
        "\n",
        "The LLVM compiler infrastructure project is a set of compiler and toolchain technologies, which can be used to develop a front end for any programming language and a back end for any instruction set architecture. Hardware failure.\n",
        "\n",
        "We keep re-learning this lesson a few times every year: Every a single \"reasonable\" assumption you think you can safely make about code is broken by somebody's real-world program.\n",
        "\n",
        "Self-Reinforcement learning\n",
        "\n",
        "Data generating process\n",
        "\n",
        "Programming languages as a medium for describing computations.\n",
        "\n",
        "“Dying societies accumulate laws like dying men accumulate remedies.” —  Nicolás Gómez Dávila\n",
        "\n",
        "**Cui bono** - Aquel a quien aprovecha el crimen es quien lo ha cometido.\n",
        "\n",
        "-  El chiste se cuenta solo.\n",
        "\n",
        "- Tensor  - In mathematics is an algebraic object that describes a (multilinear) relationship between sets of algebraic objects related to a vector space. Objects that tensors may map between include vectors and scalars, and even other tensors. Tensors can take several different forms – for example: scalars and vectors (which are the simplest tensors), dual vectors, multilinear maps between vector spaces, and even some operations such as the dot product. Tensors are defined independent of any basis, although they are often referred to by their components in a basis related to a particular \n",
        "\n",
        "\"The simpler, the better. Complications lead to multiplicative chains of unanticipated effects.\" - Nassim Nicholas Taleb\n",
        "\n",
        "Criterio: Regla o norma conforme a la cual se establece un juicio o se toma una determinación.\n",
        "\n",
        "Distribución “latin distributio” y significa “acción y efecto de repartir”.\n",
        "\n",
        "Comparing apple to apple.\n",
        "\n",
        "**How to start in a new field**:  Search classics papers of field x.\n",
        "\n",
        "Stream processing.\n",
        "\n",
        "The only learning “style” is the one you used as a child.\n",
        "\n",
        "- To discover something, you must first expect to find it. **Chollet**\n",
        "\n",
        "- Considering that alternative outcomes could have taken place, that the world could have been different is the core of probabilistic thinking. - **Taleb**\n",
        "\n",
        "- “For learning input less and output more”. - **Dr. Robert Bjork**"
      ],
      "metadata": {
        "id": "5RGGloHgr3UW"
      }
    },
    {
      "cell_type": "markdown",
      "source": [
        "- Strace\n",
        "- P-trace\n",
        "- Wget\n",
        "- Sq\n",
        "- Sed\n",
        "- Grep\n",
        "- Watch\n",
        "- Shuf -n 1"
      ],
      "metadata": {
        "id": "VKUPL8Fyr2qO"
      }
    },
    {
      "cell_type": "markdown",
      "source": [
        "- Decreasing return (negative feedback)\n",
        "- Increasing return (positive feedback) (unstable equilibrium)\n",
        "\n",
        "- Economic surpluses.\n",
        "- Economic simulation software.\n",
        "\n",
        "- Control theory vs Reinforcement Learning.\n",
        "\n",
        "- Real Wage.\n",
        "\n",
        "- Naked objects.\n",
        "- Interoperable software.\n",
        "\n",
        "- CRDT (Conflict-free replicated data types)\n",
        "\n",
        "- Centrifugal governor."
      ],
      "metadata": {
        "id": "FWmAzJjurLn_"
      }
    },
    {
      "cell_type": "markdown",
      "source": [
        "- Statistical Signal\n",
        "- ML Inference as a Service."
      ],
      "metadata": {
        "id": "cYtWMrTfq5wb"
      }
    },
    {
      "cell_type": "markdown",
      "source": [
        "- DMA: Direct memory access.\n",
        "- MPI: Message Passing.\n",
        "- DA: Distributed Arrays.\n",
        "- MW: Manager/Worker\n",
        "- MR: Map Reduce\n",
        "- DMR: Dynamic Distributed Dimensional Data Model"
      ],
      "metadata": {
        "id": "Gq-VLok5q08Q"
      }
    },
    {
      "cell_type": "markdown",
      "source": [
        "- A **range query** is a common database operation that retrieves all records where some value is between an upper and lower boundary."
      ],
      "metadata": {
        "id": "WO1115R2qSP8"
      }
    },
    {
      "cell_type": "markdown",
      "source": [
        "- Model Compression\n",
        "- Hybrid AI\n",
        "- Knowledge basis\n",
        "- Ml ops\n",
        "- Deep RL\n",
        "- GNNs\n",
        "- Clustering\n",
        "- Neural Network\n",
        "- Topic Modelling\n",
        "- Graph analysis\n",
        "- Classification"
      ],
      "metadata": {
        "id": "t4rjrcvdpsUD"
      }
    },
    {
      "cell_type": "markdown",
      "source": [
        "- Agent-based modeling and simulation\n",
        "- Mathematical description of field theories\n",
        "- Data manifolds\n",
        "- Generalization\n",
        "- Facturas digitales\n",
        "- Signed documents\n",
        "- Homeostasis\n",
        "- Simultaneous equations\n",
        "- Systems of equations\n",
        "- Energy storage industry\n",
        "- Production chain\n",
        "- Prediction machines\n",
        "- Data  poisoning\n",
        "- Tinkerer\n",
        "- Simulation models\n",
        "- Market Design\n",
        "- Rate\n",
        "- Ratio\n",
        "- Goodharr’t law\n",
        "- Frontera tecnologica\n",
        "- Random number generator\n",
        "- Random seed\n",
        "- Memorizing the data distribution\n",
        "- Catchup and technological upgrading\n",
        "- Policity space and kitching away the ladder\n",
        "- Rabbit hole"
      ],
      "metadata": {
        "id": "rAFsKFZjpqIJ"
      }
    },
    {
      "cell_type": "markdown",
      "source": [
        "- Dynamic Linking (Loading library at run time)\n",
        "- Static Linking\n"
      ],
      "metadata": {
        "id": "K-cTEgwVpjqn"
      }
    },
    {
      "cell_type": "markdown",
      "source": [
        "- Decision support system\n",
        "- Simulations\n",
        "- Anomaly detection\n",
        "- Summarization\n",
        "- Association rule mining\n",
        "- Ensemble mining\n",
        "- Intention mining"
      ],
      "metadata": {
        "id": "StGSdInhphBz"
      }
    },
    {
      "cell_type": "markdown",
      "source": [
        "- Devenir de la historia\n",
        "- Equilibrios de poder\n",
        "- Entidad o unidad política\n",
        "- Anacronismo"
      ],
      "metadata": {
        "id": "4dsWU-JCpfXp"
      }
    },
    {
      "cell_type": "markdown",
      "source": [
        "- Electromagnetism\n",
        "- Classical field theories\n",
        "- Hamiltonian dynamics\n",
        "- Gravitational potential energy\n",
        "\n"
      ],
      "metadata": {
        "id": "bbd4ZdvNpdk7"
      }
    },
    {
      "cell_type": "markdown",
      "source": [
        "- Training loop\n",
        "- Grid and cluster computing"
      ],
      "metadata": {
        "id": "bF6uzSUipAry"
      }
    },
    {
      "cell_type": "markdown",
      "source": [
        "- Closure"
      ],
      "metadata": {
        "id": "VEFU2ZTjo_lx"
      }
    },
    {
      "cell_type": "markdown",
      "source": [
        "- Logging executed command files in bash\n",
        "- Prompt-command\n",
        "- Ssh session\n",
        "- Ssh keys"
      ],
      "metadata": {
        "id": "4ws8KVW6o5tY"
      }
    },
    {
      "cell_type": "markdown",
      "source": [
        "- Cluster Index\n",
        "- Non-Cluster Index\n"
      ],
      "metadata": {
        "id": "REqHZlspmagb"
      }
    },
    {
      "cell_type": "markdown",
      "source": [
        "- Parallel computing"
      ],
      "metadata": {
        "id": "AQjMFTIkmJU-"
      }
    },
    {
      "cell_type": "markdown",
      "source": [
        "- Bayesian optimization\n",
        "- Auto ml - platform"
      ],
      "metadata": {
        "id": "Os5_W5hOmHej"
      }
    },
    {
      "cell_type": "markdown",
      "source": [
        "- Yield\n",
        "- Generator\n",
        "- Lazy evaluation\n",
        "- Eager evaluation\n"
      ],
      "metadata": {
        "id": "l3RPn7oqmEMh"
      }
    },
    {
      "cell_type": "markdown",
      "source": [
        "- Short  term desire is addiction, Long term desire is purpose."
      ],
      "metadata": {
        "id": "QTDv2e_jmBi0"
      }
    },
    {
      "cell_type": "markdown",
      "source": [
        "Learning and reading ~ upgrading your mental models."
      ],
      "metadata": {
        "id": "seQbvE7Dl-rz"
      }
    },
    {
      "cell_type": "markdown",
      "source": [
        "Session:a temporary and interactive information interchange between two or more communication devices."
      ],
      "metadata": {
        "id": "7FjAH6jIl6SS"
      }
    },
    {
      "cell_type": "markdown",
      "source": [
        "- Conceptual integrity"
      ],
      "metadata": {
        "id": "c63WMZqNl2zF"
      }
    },
    {
      "cell_type": "markdown",
      "source": [
        "- Why are gpu good at matrix multiplication?"
      ],
      "metadata": {
        "id": "NVgIzkAUl0cn"
      }
    },
    {
      "cell_type": "markdown",
      "source": [
        "- Computation time \n",
        "\n",
        "- Sim locked\n",
        "\n",
        "- Flashing  a cell phone to linux\n",
        "\n",
        "- Bootloader for you device is unlocked \n",
        "\n",
        "- Routing a phone\n",
        "\n",
        "- Convert a simple phone in a server \n",
        "\n",
        "- Virtual threads\n",
        "\n",
        "- Os threads\n",
        "\n",
        "[What is thread contention?](https://stackoverflow.com/questions/1970345/what-is-thread-contention)"
      ],
      "metadata": {
        "id": "CKyBmCwYleIA"
      }
    },
    {
      "cell_type": "markdown",
      "source": [
        "- Service availability\n",
        "- Up time of software systems\n",
        "- Log all cpu-instructions that a program is executing\n",
        "- Data-flow vs control flow\n",
        "- Latency\n",
        "- Container file system\n"
      ],
      "metadata": {
        "id": "_Hh0HfW5lcGw"
      }
    },
    {
      "cell_type": "markdown",
      "source": [
        "- End-to-End data processing system"
      ],
      "metadata": {
        "id": "Qp3s8PoklaET"
      }
    },
    {
      "cell_type": "markdown",
      "source": [
        "- Probability distribution\n",
        "- Joint probability distribution\n",
        "- Summary -> granularity\n",
        "- High-dimensional statistics\n",
        "- High-dimensional probability\n",
        "- What can I do when I know a probability distribution?\n"
      ],
      "metadata": {
        "id": "fl_5PBY8lQmB"
      }
    },
    {
      "cell_type": "markdown",
      "source": [
        "- Topology\n",
        "- Maths vs computer science\n",
        "- Monte carlo tree search\n",
        "- Embedding\n",
        "- Local computation\n",
        "- Batch processing\n"
      ],
      "metadata": {
        "id": "W_Zls1wulNm3"
      }
    },
    {
      "cell_type": "markdown",
      "source": [
        "- Skill rating system\n",
        "- Conversational interfaces\n",
        "- Prediction markets\n"
      ],
      "metadata": {
        "id": "fXnFXtbelJh1"
      }
    },
    {
      "cell_type": "markdown",
      "source": [
        "- Ld-preload\n",
        "- Interposing\n",
        "- Signal hooking\n"
      ],
      "metadata": {
        "id": "4nEry755lHWp"
      }
    },
    {
      "cell_type": "markdown",
      "source": [
        "- Bayesian network based  help desk\n",
        "- Markov Decision process\n",
        "- Self adjustment computation\n",
        "- Incremental computation\n",
        "- Directly computational problems\n",
        "- Indirectly computational problems\n"
      ],
      "metadata": {
        "id": "XrfAQPFqlETd"
      }
    },
    {
      "cell_type": "markdown",
      "source": [
        "- Ubuntu repositories\n",
        "- Apt cache\n",
        "- Bitacora\n",
        "- User groups in linux\n",
        "- Permission in linux\n",
        "- Execute a container in docker\n",
        "- Snaps app\n",
        "- Disk partition / storage partition\n",
        "- PPA"
      ],
      "metadata": {
        "id": "p4hHEfIplBbO"
      }
    },
    {
      "cell_type": "markdown",
      "source": [
        "- [Language Models](https://en.wikipedia.org/wiki/Language_model)"
      ],
      "metadata": {
        "id": "lABfaKl5k_ge"
      }
    },
    {
      "cell_type": "markdown",
      "source": [
        "Cuando uno define un nuevo nombre? Como se llaman a ese tipo de definiciones.\n",
        "Ej. Talasocracia: Dominio político y económico basado en el dominio de los mares.\n",
        "\n",
        "Como se llaman las definiciones en las cuales uno inventa un fenomeno y lo nombre.\n",
        "- Tomar cualquier idea, metodo, tecnica en ciencias de la computación."
      ],
      "metadata": {
        "id": "G3EnGjWAj9fJ"
      }
    },
    {
      "cell_type": "markdown",
      "source": [
        "[Mark Eichenlaub: How to develop scientific intuition](https://www.lesswrong.com/posts/xs7noq52qYaCYNCws/mark-eichenlaub-how-to-develop-scientific-intuition)\n",
        "\n",
        "[How to (not) do a literature review](https://www.lesswrong.com/posts/tRQek3Xb9cKZ2o6iA/how-to-not-do-a-literature-review)\n",
        "\n",
        "[]()"
      ],
      "metadata": {
        "id": "57AmNnfu9y0v"
      }
    },
    {
      "cell_type": "markdown",
      "source": [
        "[\tServer-Sent Events: the alternative to WebSockets you should be using (germano.dev)](https://news.ycombinator.com/item?id=30312897)\n",
        "\n",
        "[Highly Advanced Epistemology 101 for Beginners](https://www.lesswrong.com/s/SqFbMbtxGybdS2gRs)\n",
        "\n",
        "[The Best Textbooks on Every Subject](https://www.lesswrong.com/posts/xg3hXCYQPJkwHyik2/the-best-textbooks-on-every-subject)\n",
        "\n",
        "[How to take smart notes (Ahrens, 2017)](https://www.lesswrong.com/posts/T382CLwAjsy3fmecf/how-to-take-smart-notes-ahrens-2017)\n",
        "\n",
        "[The Zettelkasten Method](https://www.lesswrong.com/posts/NfdHG6oHBJ8Qxc26s/the-zettelkasten-method-1)\n",
        "\n",
        "[How to (not) do a literature review](https://www.lesswrong.com/posts/tRQek3Xb9cKZ2o6iA/how-to-not-do-a-literature-review)\n",
        "\n",
        "[How to Measure Anything](https://www.lesswrong.com/posts/ybYBCK9D7MZCcdArB/how-to-measure-anything)\n",
        "\n",
        "[The Best Textbooks on Every Subject](https://www.lesswrong.com/posts/xg3hXCYQPJkwHyik2/the-best-textbooks-on-every-subject)\n",
        "\n",
        "[On learning difficult things](https://www.lesswrong.com/posts/w5F4w8tNZc6LcBKRP/on-learning-difficult-things)\n",
        "\n",
        "[Paper-Reading for Gears](https://www.lesswrong.com/posts/TPjbTXntR54XSZ3F2/paper-reading-for-gears)\n",
        "\n",
        "[The 3 Books Technique for Learning a New Skilll](https://www.lesswrong.com/posts/oPEWyxJjRo4oKHzMu/the-3-books-technique-for-learning-a-new-skilll)\n",
        "\n",
        "[]()"
      ],
      "metadata": {
        "id": "aPhiMEeAmx89"
      }
    },
    {
      "cell_type": "markdown",
      "source": [
        "[Introduction to the A* Algorithm](https://www.redblobgames.com/pathfinding/a-star/introduction.html)\n",
        "\n",
        "[Teach Yourself Programming in Ten Years](https://norvig.com/21-days.html)\n",
        "\n",
        "[Thought as a Technology](https://cognitivemedium.com/tat/index.html)\n",
        "\n",
        "[Building an Intelligent Emacs](https://ianyepan.github.io/posts/emacs-ide/)"
      ],
      "metadata": {
        "id": "wGA9dkwiZ-M7"
      }
    },
    {
      "cell_type": "markdown",
      "source": [
        "[What are the most exciting future features in Java and JVM?](https://www.reddit.com/r/java/comments/slz70e/what_are_the_most_exciting_future_features_in/)\n",
        "\n",
        "[Say hello to Graph Buddy!](https://graphbuddy.virtuslab.com/)\n",
        "\n",
        "[Java Weekly Review](https://www.baeldung.com/category/weekly-review/)\n",
        "\n",
        "[Awesome - Falsehoods Programmers Believe in](https://github.com/kdeldycke/awesome-falsehood)"
      ],
      "metadata": {
        "id": "BuO8gAnWZIHx"
      }
    },
    {
      "cell_type": "markdown",
      "source": [
        "[Specifying Java version in maven - differences between properties and compiler plugin](https://stackoverflow.com/questions/38882080/specifying-java-version-in-maven-differences-between-properties-and-compiler-p)\n",
        "\n",
        "[Eclipse java debugging: source not found](https://stackoverflow.gg/questions/6174550/eclipse-java-debugging-source-not-found)\n",
        "\n",
        "[What is the best way in JDBC to insert blob into oracle?](https://stackoverflow.com/questions/55004306/what-is-the-best-way-in-jdbc-to-insert-blob-into-oracle)\n",
        "\n",
        "[What is a good way to test a file to see if its a zip file?](https://stackoverflow.com/questions/1887041/what-is-a-good-way-to-test-a-file-to-see-if-its-a-zip-file)\n",
        "\n",
        "[What is the best way in JDBC to insert blob into oracle?](https://stackoverflow.com/questions/55004306/what-is-the-best-way-in-jdbc-to-insert-blob-into-oracle)\n",
        "\n",
        "[ZIP (file format)](https://en.wikipedia.org/wiki/ZIP_(file_format))\n",
        "\n",
        "[How to view files in binary from bash?](https://stackoverflow.com/questions/1765311/how-to-view-files-in-binary-from-bash)\n",
        "\n",
        "[How to tell if a Linux system is big endian or little endian?](https://serverfault.com/questions/163487/how-to-tell-if-a-linux-system-is-big-endian-or-little-endian)\n",
        "\n",
        "[How can I view an old version of a file with Git?](https://stackoverflow.com/questions/338436/how-can-i-view-an-old-version-of-a-file-with-git)\n",
        "\n",
        "[How to get a file's Media Type (MIME type)?](https://stackoverflow.com/questions/51438/how-to-get-a-files-media-type-mime-type)\n",
        "\n",
        "[Apache Tika](https://tika.apache.org/)\n",
        "\n",
        "[Maven Quickstart Archetype](https://maven.apache.org/archetypes/maven-archetype-quickstart/)"
      ],
      "metadata": {
        "id": "_t1c2mQy-oWb"
      }
    },
    {
      "cell_type": "markdown",
      "source": [
        "[The structure of a PKZip file](https://users.cs.jmu.edu/buchhofp/forensics/formats/pkzip.html)\n",
        "\n",
        "[Case against OOP is understated, not oversated](https://news.ycombinator.com/item?id=30293622)\n",
        "\n",
        "[Testing Distributed Systems](https://asatarin.github.io/testing-distributed-systems/)\n",
        "\n",
        "[A decade of major cache incidents at Twi](https://danluu.com/cache-incidents/)"
      ],
      "metadata": {
        "id": "RaeWHcYnKCrW"
      }
    },
    {
      "cell_type": "markdown",
      "source": [
        "[Single dependency stacks](https://brandur.org/fragments/single-dependency-stacks)\n",
        "\n",
        "[Understanding LSM Trees: What Powers Write-Heavy Databases](https://yetanotherdevblog.com/lsm/)\n",
        "\n",
        "* [Single dependency stacks](https://news.ycombinator.com/item?id=30274886)"
      ],
      "metadata": {
        "id": "u0boHtOhtjk5"
      }
    },
    {
      "cell_type": "markdown",
      "source": [
        "Two Steps Authentication with phones\n",
        "\n",
        "Your YYYY security key was added to your account.\n",
        "When you sign in with 2-Step Verification, you'll use your password and your YYYY.\n",
        "\n",
        "Make sure Bluetooth & Location are on\n",
        "When you’re signing in, Bluetooth & Location are needed to check that your devices are near each other.\n",
        "\n",
        "Bluetooth pairing isn’t required.\n",
        "\n",
        "Works only on Chrome\n",
        "Built-in security keys currently **only work on Chrome**."
      ],
      "metadata": {
        "id": "sS6kVfSOtJgd"
      }
    },
    {
      "cell_type": "markdown",
      "source": [
        "[Sha256 Algorithm Explained](https://sha256algorithm.com/)\n",
        "\n",
        "[How does UTF-8 turn “😂” into “F09F9882”?](https://sethmlarson.dev/blog/utf-8)\n",
        "\n",
        "[The Semiconductor Ecosystem Explained](https://semiwiki.com/semiconductor-manufacturers/307494-the-semiconductor-ecosystem-explained/)\n",
        "\n",
        "[PDEs You Should Know](https://www.lucaspauker.com/pdes)"
      ],
      "metadata": {
        "id": "jNbaHOZvywE2"
      }
    },
    {
      "cell_type": "markdown",
      "source": [
        "[Node-RED](https://github.com/node-red)\n",
        "\n",
        "[n8n - Free and open fair-code licenced node based Worlflow Automation Tool. Easily automate tasks across different services](https://github.com/n8n-io/n8n)\n",
        "\n",
        "[huginn - Create agents that monitor and act on your behalf. Your agents are standing by!](https://github.com/huginn/huginn)\n",
        "\n",
        "[How does UTF-8 turn “😂” into “F09F9882”?](https://sethmlarson.dev/blog/utf-8)"
      ],
      "metadata": {
        "id": "MoU61J5Ap_mj"
      }
    },
    {
      "cell_type": "markdown",
      "source": [
        "[The Kelly criterion: How to size bets](https://explore.paulbutler.org/bet/)"
      ],
      "metadata": {
        "id": "-xnFh_2Jp_la"
      }
    },
    {
      "cell_type": "markdown",
      "source": [
        "[Slaves or wage slaves](https://aeon.co/essays/were-roman-slaveowners-the-first-management-theorists)\n",
        "\n",
        "[EleutherAI](https://www.eleuther.ai/)\n",
        "\n",
        "[Competition-Level Code Generation with AlphaCode](https://storage.googleapis.com/deepmind-media/AlphaCode/competition_level_code_generation_with_alphacode.pdf)\n",
        "\n",
        "[What DeepMind’s AlphaCode is and isn’t](https://bdtechtalks.com/2022/02/07/deepmind-alphacode-competitive-programming/)\n"
      ],
      "metadata": {
        "id": "iP9uMi2I6rFq"
      }
    },
    {
      "cell_type": "markdown",
      "source": [
        "[Effective Code Browsing - Part 1](https://noahan.me/posts/effective-code-browsing-part1/)\n",
        "\n",
        "[Effective Code Browsing - Part 2](https://noahan.me/posts/effective-code-browsing-part2/)\n",
        "\n",
        "[Number Representacion](http://www.cs.utoronto.ca/~hehner/NR.pdf)\n",
        "\n",
        "[Ask HN: Multiprocessing & concurrency: C, Python, Clojure (& Go :))](https://news.ycombinator.com/item?id=1825063)\n",
        "\n"
      ],
      "metadata": {
        "id": "fMYiZ8Ap48mW"
      }
    },
    {
      "cell_type": "markdown",
      "source": [
        "[Alan Key On Messaging](http://wiki.c2.com/?AlanKayOnMessaging)"
      ],
      "metadata": {
        "id": "n0TIq33GUlIU"
      }
    },
    {
      "cell_type": "markdown",
      "source": [
        "[Cómo superar la dependencia petrolera en Ecuador usuando ciencia de datos](https://www.facebook.com/EduSuperiorEc/videos/212480056856929/)\n",
        "\n",
        "[Science & Democracy: “Imitation, Invasion, Innovation: What Really Matters in Global History of Technology” with David Edgerton](https://vimeo.com/339144318)\n",
        "\n",
        "[A Crash Course in Modern Hardware](https://www.infoq.com/presentations/click-crash-course-modern-hardware/)\n",
        "\n",
        "[Everything I Ever Learned about JVM Performance Tuning @twitter](https://www.infoq.com/presentations/JVM-Performance-Tuning-twitter/)\n",
        "\n",
        "[What's in a Good Error Message?](https://www.morling.dev/blog/whats-in-a-good-error-message/)\n",
        "\n",
        "[awaitility- is a small Java DSL for synchonizing asynchronous operations](https://github.com/awaitility/awaitility)\n",
        "\n",
        "[The Federal Reserve Bank of Boston and Massachusetts Institute of Technology release technological research on a central bank digital currency](https://www.bostonfed.org/news-and-events/press-releases/2022/frbb-and-mit-open-cbdc-phase-one.aspx)\n",
        "\n",
        "[Synchronization (computer science)](https://en.wikipedia.org/wiki/Synchronization_(computer_science))\n",
        "\n",
        "[Interaction nets](https://en.wikipedia.org/wiki/Interaction_nets)\n",
        "\n",
        "[HVM A Assively parallel, optional functional in Rust](https://github.com/Kindelia/HVM)"
      ],
      "metadata": {
        "id": "9oprdJrRbH0g"
      }
    },
    {
      "cell_type": "markdown",
      "source": [
        "http://jboss-modules.github.io/jboss-modules/manual/\n",
        "\n",
        "https://www.infoq.com/presentations/click-crash-course-modern-hardware/\n",
        "\n",
        "[Mining Source Code Repositorise at Masive Scale using Language Modeling](https://homepages.inf.ed.ac.uk/csutton/publications/msr2013.pdf)\n",
        "\n",
        "[Java Idioms](http://c2.com/ppr/wiki/JavaIdioms/JavaIdioms.html)\n",
        "\n",
        "[Advanced Algorithms Pardue](https://fas22.s3.amazonaws.com/fas22-book.pdf)\n",
        "\n",
        "[A Survey of Automatic Generating Source Code Comments: Algorithms and Techniques](https://arxiv.org/pdf/1907.10863.pdf)\n",
        "\n",
        "[CloCom: Mining Existing Source Code for Automatic Comment Generation](https://www.cs.purdue.edu/homes/lintan/publications/clocom-saner15.pdf)\n",
        "\n",
        "[Mining Idioms from Source Code](https://homepages.inf.ed.ac.uk/csutton/publications/idioms.pdf)\n",
        "\n",
        "[Spring Cloud Contract](https://spring.io/projects/spring-cloud-contract)\n",
        "\n",
        "[The McNamara Fallacy](http://mcnamarafallacy.com/)\n",
        "\n",
        "[A toy DNS resolver in GO](https://jvns.ca/blog/2022/02/01/a-dns-resolver-in-80-lines-of-go/)\n",
        "\n",
        "[Ctags](https://en.wikipedia.org/wiki/Ctags)\n",
        "\n",
        "[jdeps : java class dependency analyzer](https://docs.oracle.com/javase/8/docs/technotes/tools/unix/jdeps.html)\n",
        "\n",
        "[Reducing Programs to Objects](https://arxiv.org/pdf/2112.11988.pdf)\n",
        "\n",
        "[A Longitudinal Analysis of Bloated Java Dependencies](https://arxiv.org/pdf/2105.14226.pdf)\n",
        "\n",
        "[Mono2Micro: A Practical and Effective Tool for Decomposing Monolithic Java Applications to Microservices](https://arxiv.org/pdf/2107.09698.pdf)\n",
        "\n",
        "[Automating the Removal of Obsolete TODO Comments](https://arxiv.org/pdf/2108.05846.pdf)\n",
        "\n",
        "[JavaBERT: Training a transformer-based model for the Java programming language](https://arxiv.org/pdf/2110.10404.pdf)\n",
        "\n",
        "[Automatic Program Repair with OpenAI’s Codex Evaluating QuixBugs](https://arxiv.org/pdf/2111.03922.pdf)\n",
        "\n",
        "[Unicode at Gigabytes per Second](https://arxiv.org/pdf/2111.08692.pdf)\n",
        "\n",
        "[Challenges and Opportunities for Grounding Cognition](http://barsaloulab.org/Online_Articles/2020-Barsalou-Jour_Cognition-challenges_opportunities.pdf)\n",
        "\n",
        "[]()\n",
        "\n",
        "How to Find Papers about Java\n",
        "- https://dblp.uni-trier.de/search?q=java+jvm\n",
        "\n",
        "- https://ieeexplore.ieee.org/search/searchresult.jsp?newsearch=true&queryText=java%20jvm\n",
        "\n",
        "- https://dl.acm.org/action/doSearch?AllField=java+jvm\n",
        "\n",
        "- https://www.usenix.org/search/site/%2520corretto%2520jvm?page=1\n",
        "\n",
        "- \n",
        "\n"
      ],
      "metadata": {
        "id": "22JnnWREPKxO"
      }
    },
    {
      "cell_type": "markdown",
      "source": [
        "[8 Top Metrics for Measuring Your Technical Debt in 2022](https://dzone.com/articles/8-top-metrics-for-measuring-your-technical-debt?fromrel=true)\n",
        "\n",
        "[]()"
      ],
      "metadata": {
        "id": "nDCYflpmYONj"
      }
    },
    {
      "cell_type": "markdown",
      "source": [
        "[Time Travel Deguging](https://www.youtube.com/watch?v=rsbCV9IRlEw)\n",
        "\n",
        "Session Replay\n",
        "\n",
        "[Valgrind](https://valgrind.org/)\n",
        "\n",
        "[Keeping documentation in sync with source code (cerbos.dev)](https://news.ycombinator.com/item?id=30161756)\n",
        "\n",
        "[Declarative, sliding window aggregations for computations at the edge](https://www.researchgate.net/publication/299642208_Declarative_sliding_window_aggregations_for_computations_at_the_edge)\n",
        "\n",
        "[Conflict-Free Partially Replicated Data Types](https://www.researchgate.net/publication/304407020_Conflict-Free_Partially_Replicated_Data_Types)\n",
        "\n",
        "[Implementing a Hash Table](http://daslab.seas.harvard.edu/classes/cs265/files/classes/project0.pdf)\n",
        "\n",
        "[Event-Based Modularization of Reactive Systems](https://research.utwente.nl/en/publications/event-based-modularization-of-reactive-systems)"
      ],
      "metadata": {
        "id": "HQ1IOxk7ux0g"
      }
    },
    {
      "cell_type": "markdown",
      "source": [
        "[Everything I Ever Learned about JVM Performance Tuning @twitter](https://www.infoq.com/presentations/JVM-Performance-Tuning-twitter/)"
      ],
      "metadata": {
        "id": "ESecNsx1L0Xa"
      }
    },
    {
      "cell_type": "markdown",
      "source": [
        "[Lee Hsien Loong- Sudoku Solver](https://www.facebook.com/leehsienloong/photos/a.344710778924968.83425.125845680811480/905828379479869/?type=3&permPage=1)"
      ],
      "metadata": {
        "id": "QqipP8AiGeHJ"
      }
    },
    {
      "cell_type": "markdown",
      "source": [
        "[Reality by Consensus](https://lockwood.dev/philosophy/2022/01/31/reality-by-consensus.html)\n",
        "\n",
        "[Netflix: Lessons in Experimentation](https://www.aakashg.com/2022/01/18/netflix-experimentation/)\n",
        "\n",
        "[What's worked in Computer Science: 1999 v. 2015](http://danluu.com/butler-lampson-1999/)\n",
        "\n",
        "[Reentrancy](https://en.wikipedia.org/wiki/Reentrancy_(computing))\n",
        "\n",
        "[Btrace - Java Tracing Tool](https://github.com/btraceio/btrace)\n",
        "\n",
        "[Stream processing](https://en.wikipedia.org/wiki/Stream_processing)\n",
        "\n",
        "[Real-time computing](https://en.wikipedia.org/wiki/Real-time_computing)\n",
        "\n",
        "[Reading on smarphone affects sigh generation, brain activity, and comprehesion](https://news.ycombinator.com/item?id=30181560)\n",
        "\n",
        "[ACX Grants Results](https://astralcodexten.substack.com/p/acx-grants-results)\n",
        "\n",
        "[MPRIS D-Bus Interface Specification](https://specifications.freedesktop.org/mpris-spec/latest/)"
      ],
      "metadata": {
        "id": "N-qJPma-Ne6i"
      }
    }
  ]
}