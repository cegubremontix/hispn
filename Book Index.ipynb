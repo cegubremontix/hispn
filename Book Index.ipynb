{
  "nbformat": 4,
  "nbformat_minor": 0,
  "metadata": {
    "colab": {
      "name": "Primary Resorces Index.ipynb",
      "provenance": [],
      "collapsed_sections": [],
      "toc_visible": true,
      "include_colab_link": true
    },
    "kernelspec": {
      "display_name": "Python 3",
      "name": "python3"
    },
    "language_info": {}
  },
  "cells": [
    {
      "cell_type": "markdown",
      "metadata": {
        "id": "view-in-github",
        "colab_type": "text"
      },
      "source": [
        "<a href=\"https://colab.research.google.com/github/dbremont/Notas/blob/main/Book%20Index.ipynb\" target=\"_parent\"><img src=\"https://colab.research.google.com/assets/colab-badge.svg\" alt=\"Open In Colab\"/></a>"
      ]
    },
    {
      "cell_type": "markdown",
      "metadata": {
        "id": "I-qG8JUiAnOv"
      },
      "source": [
        "# Book Index"
      ]
    },
    {
      "cell_type": "markdown",
      "metadata": {
        "id": "Fq2SqGExAQCm"
      },
      "source": [
        "# Matematicas"
      ]
    },
    {
      "cell_type": "markdown",
      "metadata": {
        "id": "7F_uwzsJur6a"
      },
      "source": [
        "### Algebra"
      ]
    },
    {
      "cell_type": "markdown",
      "metadata": {
        "id": "N4OBBlPvuuzz"
      },
      "source": [
        "* [Pre Algebra](https://colab.research.google.com/github/dbremont/Notas/blob/main/Libros/Matematicas/Pre%20Algebra.ipynb)\n",
        "\n",
        "* [Introduction to Algebra](https://colab.research.google.com/github/dbremont/Notas/blob/main/Libros/Matematicas/Introduction%20to%20Algebra.ipynb)\n",
        "\n",
        "* [Intermediate Algebra](https://colab.research.google.com/github/dbremont/Notas/blob/main/Libros/Matematicas/Intermediate%20Algebra.ipynb)\n",
        "\n",
        "* [No Bullshit guide to Linear Algebra](https://colab.research.google.com/github/dbremont/Notas/blob/main/Libros/Matematicas/No%20Bullshit%20guide%20to%20Linear%20Algebra.ipynb)\n",
        "\n",
        "* [Introduction to Applied Linear Algebra - Stephen Boyd & Lieven Vandenberghe](https://colab.research.google.com/github/dbremont/Notas/blob/main/Libros/Matematicas/Introduction%20to%20Applied%20Linear%20Algebra.ipynb)"
      ]
    },
    {
      "cell_type": "markdown",
      "metadata": {
        "id": "UUnVNq2Zu7dV"
      },
      "source": [
        "### Analysis"
      ]
    },
    {
      "cell_type": "markdown",
      "metadata": {
        "id": "LXuysVitu8v5"
      },
      "source": [
        "* [Pre Calculus](https://colab.research.google.com/github/dbremont/Notas/blob/main/Libros/Matematicas/Pre%20Calculus.ipynb)\n",
        "\n",
        "* [Calculus](https://colab.research.google.com/github/dbremont/Notas/blob/main/Libros/Matematicas/Calculus.ipynb)\n",
        "\n",
        "* [Calculus Made Easy](https://colab.research.google.com/github/dbremont/Notas/blob/main/Libros/Matematicas/Calculus%20Made%20Easy.ipynb)"
      ]
    },
    {
      "cell_type": "markdown",
      "metadata": {
        "id": "7KOw_rk0vBmQ"
      },
      "source": [
        "### Probability and Statistics"
      ]
    },
    {
      "cell_type": "markdown",
      "metadata": {
        "id": "O2gmMNHPvHdM"
      },
      "source": [
        "* (K) The Great Ideas About Change\n",
        "\n",
        "* (F) Introduction to Probability\n",
        "    * (D) Introduction to Probability\n",
        "\n",
        "* (D) [Statistical Models](http://0.0.0.0:8000/1%20Matematicas/Libros/Probability%20and%20Statistics/All%20of%20Statistics%20-%20Larry%20Wasserman.pdf)\n",
        "\n",
        "* (D) [All of Statistics](http://0.0.0.0:8000/1%20Matematicas/Libros/Probability%20and%20Statistics/Statistical%20Models.pdf)\n",
        "\n",
        "* (D) [Statistical Rethinking](http://0.0.0.0:8000/1%20Matematicas/Libros/Probability%20and%20Statistics/Statistical%20Rethinking%202nd%20Edition.pdf)\n",
        "\n",
        "\n",
        "* [Probabilistic Thinking](http://www.princeton.edu/~bayesway/ProbThink/TableOfContents.html)"
      ]
    },
    {
      "cell_type": "markdown",
      "metadata": {
        "id": "kxq-OPinvLzd"
      },
      "source": [
        "### Discrete Mathematics"
      ]
    },
    {
      "cell_type": "markdown",
      "metadata": {
        "id": "mSf0FBsAvQSO"
      },
      "source": [
        "- [Introduction to Counting and Probability](https://artofproblemsolving.com/ebooks/intro-counting-ebook/c0toc)\n",
        "\n",
        "- [Intermediate Counting and Probability](https://artofproblemsolving.com/ebooks/intermediate-counting-ebook/c0toc)\n",
        "\n",
        "- (F) A Walk Through Combinatorics - An Introduction to Enumeration and Graph Theory"
      ]
    },
    {
      "cell_type": "markdown",
      "metadata": {
        "id": "p_oQ-_j9vVJj"
      },
      "source": [
        "### General"
      ]
    },
    {
      "cell_type": "markdown",
      "metadata": {
        "id": "CITNFd_KvZmh"
      },
      "source": [
        "- (F) Mathematics for Machine Learning\n",
        "    - [Code / Solutions](https://github.com/ilmoi/MML-Book)\n",
        "\n",
        "* The Art of Problem Solving, Volume 1: the Basics\n",
        "    -  (D) The Art of Problem Solving - Volume 1: The Basics\n",
        "    - [The Art of Problem Solving, Volume 1: the Basics](https://artofproblemsolving.com/ebooks/aops-vol1-ebook/c0toc)\n",
        "\n",
        "* The Art of Problem Solving, Volume 2: and Beyond\n",
        "    - (D) The Art of Problem Solving - Volume 2: and Beyond\n",
        "    - [The Art of Problem Solving, Volume 2: and Beyond](https://artofproblemsolving.com/ebooks/aops-vol2-ebook/cftoc)\n",
        "\n",
        "* (F) Problem-Solving Strategies\n",
        "\n",
        "* (F) Problem-Solving Through Problems\n",
        "\n",
        "* (F) A Mathematical Mosaic Patterns & Problem Solving\n",
        "\n",
        "* (F) Street-Fighting Mathematics\n",
        "\n",
        "* (F) The Heart of Mathematics\n",
        "\n",
        "* (F) Beyond Numeracy\n",
        "\n",
        "* (F) An Introduction to Game Theory\n",
        "\n",
        "* (F) The Mathematical Experience\n",
        "\n",
        "* (F) How Mathematicians Think\n",
        "\n",
        "* (F) Networks An Introduction\n",
        "\n",
        "* (F) A First Course in Mathematical Modeling\n",
        "\n",
        "* (F) The Nature of Mathematical Modeling\n",
        "\n",
        "* (F) The Model Thinker\n",
        "\n",
        "* (F) The Practice of Econometrics Classic and Contemporary\n",
        "\n",
        "* (F) A Course in Econometrics"
      ]
    },
    {
      "cell_type": "markdown",
      "metadata": {
        "id": "TpgGdywAAVTH"
      },
      "source": [
        "# Aprendisaje Automatico"
      ]
    },
    {
      "cell_type": "markdown",
      "metadata": {
        "id": "sP8Y9knFXY0c"
      },
      "source": [
        "* [Scipy Lecture Notes](http://scipy-lectures.org/index.html)\n",
        "\n",
        "* [Data Science in Julia for Hackers](https://datasciencejuliahackers.com/)\n",
        "\n",
        "* [Patterns, Predictions, and Actions - A story about machine learning](https://mlstory.org/)\n",
        "\n",
        "* [Causal Inference: The Mixtape](https://mixtape.scunning.com/index.html)\n",
        "\n",
        "* (D) Grokking Machine Learning\n",
        "    * [Grokking Machine Learning](https://livebook.manning.com/book/grokking-machine-learning/chapter-1/v-9/)\n",
        "\n",
        "* [Ml From Scratch](https://dafriedman97.github.io/mlbook/content/introduction.html)\n",
        "\n",
        "* [Probabilistic Models of Cognition](https://probmods.org/)\n",
        "\n",
        "* [Neural Networks and Deep Learning](http://neuralnetworksanddeeplearning.com/)\n",
        "\n",
        "* [Deep Learning - Ian Goodfellow and Yoshua Bengio and Aaron Courville](https://www.deeplearningbook.org/)\n",
        "  - [Notes on the Deep Learning book from Ian Goodfellow, Yoshua Bengio and Aaron Courville (2016)](https://github.com/hadrienj/deepLearningBook-Notes)\n",
        "\n",
        "* (F) Building Machine Learning Powered Applications\n",
        "\n",
        "* (F) Deep Learning for Coders with fastai & PyTorch\n",
        "\n",
        "* (F) Hands-On Machine Learning with Scikit-Learn & TensorFlow\n",
        "\n",
        "* (F) Artificial Intelligence A Modern Approach\n",
        "    * (D) Instructor’s Manual Exercise Solutions for Artificial Intelligence A Modern Approac\n",
        "\n",
        "* (F) Introduction to Information Retrieval\n",
        "\n",
        "* (F) The Analytics Edge\n",
        "\n",
        "* (F) Qualitative Social Science An Introduction - Kosuke Imai\n",
        "\n",
        "* (F) Patern Recognition and Machine Learning - Bishop\n",
        "    * [Repository of notes, code and notebooks for the book Pattern Recognition and Machine Learning by Christopher Bishop](https://github.com/gerdm/prml)\n",
        "\n",
        "* [Algorithms for Decision Making](http://algorithmsbook.com/)"
      ]
    },
    {
      "cell_type": "markdown",
      "metadata": {
        "id": "UsbzojHRAXKo"
      },
      "source": [
        "# Computacion"
      ]
    },
    {
      "cell_type": "markdown",
      "metadata": {
        "id": "oN_fbopKb1Wc"
      },
      "source": [
        "* [Python Programming And Numerical Methods: A Guide For Engineers And Scientists](https://pythonnumericalmethods.berkeley.edu/notebooks/Index.html)\n",
        "\n",
        "* [Data Compression Explained](http://mattmahoney.net/dc/dce.html)\n",
        "\n",
        "* [How to Design Programs](https://htdp.org/2018-01-06/Book/index.html)\n",
        "\n",
        "* [Making reliable distributed systems in the presence of odware error](https://erlang.org/download/armstrong_thesis_2003.pdf)\n",
        "\n",
        "\n",
        "* (F) Algorithms The Spirit of Computing\n",
        "\n",
        "* (F) Concepts, Techniques, and Models of Computer Programming\n",
        "\n",
        "* [The Structure and Interpretation of Computer Programs](https://mitpress.mit.edu/sites/default/files/sicp/full-text/book/book.html)\n",
        "\n",
        "* [Crafting Interpreters](https://craftinginterpreters.com/)\n",
        "\n",
        "* (F) The Definitive ANTLR 4 Reference\n",
        "\n",
        "* (F) Language Implementantion Patterns\n",
        "\n",
        "* [Our Pattern Language](https://patterns.eecs.berkeley.edu/)\n",
        "\n",
        "* [Games Programming Patterns](https://gameprogrammingpatterns.com/)\n",
        "\n",
        "* (F) Design Patterns - Elements of Reusable Object-Oriented Software\n",
        "\n",
        "* (F) Introduction to Algorithms\n",
        "\n",
        "* [Algorithmic Thinking - lubaladong](https://labuladong.gitbook.io/algo-en/)\n",
        "\n",
        "\n",
        "* (F) The Hidden Language of Computer Hardware and Software\n",
        "* (F) Computer Systems\n",
        "* (F) The Elements of Computing Systems\n",
        "* (F) Computers as Components - Principles of Embedded Computing Systems Design\n",
        "* (F) ARM System Developer's Guide - Designing and Optimizing System Software\n",
        "* (D) [The DataCenter as a Computer](http://0.0.0.0:8000/3%20Computacion/Libros/The%20DataCenter%20as%20a%20Computer.pdf)\n",
        "* (D) [Principles of Computer System Design An Introduction](http://0.0.0.0:8000/3%20Computacion/Libros/Principles%20of%20Computer%20System%20Design%20An%20Introduction.pdf)\n",
        "\n",
        "\n",
        "* (F) Designing Data-Intensive Applications\n",
        "* (F) Database Internals - A Deep Dive into How Distributed Data Systems Work\n",
        "* (F) Database Systems Concepts\n",
        "\n",
        "\n",
        "\n",
        "\n",
        "\n",
        "\n",
        "\n",
        "\n",
        "* (F) Beautiful Architecture\n",
        "* (F) Clean Architecture - A Craftsman's Guide to Software Structure and Design\n",
        "\n",
        "\n",
        "\n",
        "* (F) The Art of Unix Programming\n",
        "* (F) The Practice of Programming\n",
        "* (F) Understanding the Linux Kernel\n",
        "\n",
        "\n",
        "* (F) Practical Object-Oriented Design in Ruby\n",
        "* (K) A Phylosophy of Software Design\n",
        "* (F) 201 Principles of Software Development\n",
        "* (F) Code Reading - The Open Source Perspective\n",
        "* (F) Clean Code - A Handbook of Agile Software Craftmanship\n",
        "* (F) Code Quality - The Open Source Perspective\n",
        "* (F) Code Complete 2 Ed.\n",
        "\n",
        "\n",
        "* (F) The Pragmatic Programmer\n",
        "\n",
        "\n",
        "* (F) Scalability Rules\n",
        "* (F) System Performace\n",
        "\n",
        "\n",
        "\n",
        "* (F) The Linux Programming Interface\n",
        "\n",
        "* (F) Operating Systems - Design and Implementation\n",
        "\n",
        "* (F) C Interfaces and Implementations\n",
        "\n",
        "\n",
        "\n",
        "\n",
        "\n",
        "* (D) [Engineering Software As a Service - An Agile Approach Using Cloud Computing](http://0.0.0.0:8000/3%20Computacion/Libros/Engineering%20Software%20as%20a%20Service%20An%20Agile%20Approach%20Using%20Cloud%20Computing.pdf)\n",
        "\n",
        "\n",
        "* (D) [Mature Optimization Handbook](http://0.0.0.0:8000/3%20Computacion/Libros/Mature%20Optimization%20Handbook.pdf)\n",
        "\n",
        "* (K) Web Scalability for Startups - Edmon\n",
        "\n",
        "\n",
        "\n",
        "\n",
        "\n",
        "\n",
        "* (D) [Self Ajusting Computation](http://0.0.0.0:8000/3%20Computacion/Libros/Self%20Ajusting%20Computation.pdf)\n",
        "\n",
        "* (D) [Nine Algorithms That Changed the Future](http://0.0.0.0:8000/3%20Computacion/Libros/Nine%20Algorithms%20That%20Changed%20the%20Future.pdf)\n"
      ]
    },
    {
      "cell_type": "markdown",
      "metadata": {
        "id": "Ju1_Fc1lAaN0"
      },
      "source": [
        "# Ingenieria"
      ]
    },
    {
      "cell_type": "markdown",
      "metadata": {
        "id": "MQVcbgXBcoLG"
      },
      "source": [
        "* [Underactuated Robotics](http://underactuated.mit.edu/)"
      ]
    },
    {
      "cell_type": "markdown",
      "metadata": {
        "id": "Y4Amx--MAbZ9"
      },
      "source": [
        "# Ciencia"
      ]
    },
    {
      "cell_type": "markdown",
      "metadata": {
        "id": "zFzVf0I-du4W"
      },
      "source": [
        "* [The Feymann Lectures on Physics](https://www.feynmanlectures.caltech.edu/)\n",
        "\n",
        "* [Britney Spears' Guide to Semiconductor Physics](http://britneyspears.ac/lasers.htm)\n",
        "\n",
        "* [General Chemistry: Principles, Patterns, and Applications](https://saylordotorg.github.io/text_general-chemistry-principles-patterns-and-applications-v1.0/index.html)\n",
        "\n",
        "* (F) How Nature Works - Per Bak\n",
        "\n",
        "* (F) Biological sequence analysis\n",
        "\n",
        "* (F) An Introduction Bioinformatics Algorithms\n",
        "\n",
        "* (F) The Physics of Information Technology"
      ]
    },
    {
      "cell_type": "markdown",
      "metadata": {
        "id": "misSIO48Aldv"
      },
      "source": [
        "# Otros"
      ]
    },
    {
      "cell_type": "markdown",
      "metadata": {
        "id": "Jk5DKKIGUoE4"
      },
      "source": [
        "* [LambdaClass Finance Playground](https://lambdaclass.com/finance_playground/)\n",
        "\n",
        "* (F) A Mind at Play - How Claude Shannon Invented the Information Age\n",
        "\n",
        "* (F) Conceptual Blockbusting - A Guide to Better Ideas\n",
        "\n",
        "* (F) A Mind for Numbers\n",
        "\n",
        "* (F) Naked money - A Revealing Look at Our Financial System\n",
        "\n",
        "* (F) Pragmatic  Thinking & Learning\n",
        "\n",
        "* (K) Why Stock Markets Crash\n",
        "\n",
        "* (K) Super Thinking\n",
        "\n",
        "* (K) Data & Reality\n",
        "\n",
        "* (K) The Tiny Small Changes Habits That Change BJ. Fogg\n",
        "\n",
        "* (K) How to Read a Book\n",
        "\n",
        "* (K) Thinking, Fast and Slow\n",
        "\n",
        "* (K) How We know What Isn't So\n",
        "\n",
        "* (K) Bad Samaritans: The guilty secrets of rich nations & the threat to global prosperity\n",
        "\n",
        "* (K) La Sociedad Novohispana\n",
        "\n",
        "* (F) Republicas Urbanas En Una Monarquia Imperial\n",
        "\n",
        "* (F) Elegia Criolla - Una reinterpretacion de las guerras de independencia hispanoamericanas\n",
        "\n",
        "* (F) Why Information Grows\n",
        "\n",
        "* (F) How Rich Countries Got Rich ... and Why Poor Countries Stay Poor\n",
        "\n",
        "* (F) Simulation and Similarity\n",
        "\n",
        "* (F) Science in Action\n"
      ]
    }
  ]
}