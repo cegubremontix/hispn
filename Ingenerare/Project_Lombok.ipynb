{
  "nbformat": 4,
  "nbformat_minor": 0,
  "metadata": {
    "colab": {
      "name": "Project Lombok.ipynb",
      "provenance": [],
      "collapsed_sections": [],
      "authorship_tag": "ABX9TyNLV5jcZNrbQ4lYTKScZDz+",
      "include_colab_link": true
    },
    "kernelspec": {
      "name": "python3",
      "display_name": "Python 3"
    },
    "language_info": {
      "name": "python"
    }
  },
  "cells": [
    {
      "cell_type": "markdown",
      "metadata": {
        "id": "view-in-github",
        "colab_type": "text"
      },
      "source": [
        "<a href=\"https://colab.research.google.com/github/dbremont/Notas/blob/main/Ingenerare/Project_Lombok.ipynb\" target=\"_parent\"><img src=\"https://colab.research.google.com/assets/colab-badge.svg\" alt=\"Open In Colab\"/></a>"
      ]
    },
    {
      "cell_type": "markdown",
      "metadata": {
        "id": "eDroi9dN9NXs"
      },
      "source": [
        "Ir\n",
        "\n",
        "[Video Tutorial](https://projectlombok.org/videos/lombok.ogv)\n",
        "\n",
        "[Lombok Features](https://projectlombok.org/features/all)\n",
        "\n",
        "\n",
        "Lombok: how it works, run time, compile time.\n",
        "\n",
        "- Para verificar esto,  descompilar las clases.\n",
        "- En tiempo de ejecucion ver los miembros de la clases y verificar si puede ver el bytecode cargado.\n",
        "\n",
        "[Delombok](https://projectlombok.org/features/delombok): takes the annotations in java-lombok files and generate java files.\n",
        "\n",
        "Practico: Utilizar varias anotaciones, para ver la magia del codigo que genera. Y de paso verificar que pasa con los cuando los archivos no se cierran.\n",
        "\n",
        "- [Download](https://projectlombok.org/downloads/lombok.jar)\n",
        "\n",
        "- javac -cp \"lombok.jar:.\" Hello.java DtoPersona.java\n",
        "- java -jar lombok.jar delombok . -d ./delombok\n",
        "- [Source Code](https://github.com/projectlombok/lombok)\n",
        "- javap:java decompiler\n"
      ]
    },
    {
      "cell_type": "markdown",
      "metadata": {
        "id": "ktUuXfeNG6V-"
      },
      "source": [
        "## How This Works:\n",
        "\n",
        "- javac -cp \"lombok.jar:.\" Hello.java DtoPersona.java\n",
        "\n",
        "- [Java Annotation Processing and Creating a Builder](https://www.baeldung.com/java-annotation-processing-builder)\n",
        "\n",
        "- [Code Generation in the Java Compiler: Annotation Processors Do the Hard Work](https://www.youtube.com/watch?v=xswPPwYPAFM)\n",
        "\n",
        "- [Bootstrapping (compilers)](https://en.wikipedia.org/wiki/Bootstrapping_(compilers))\n",
        "\n",
        "- [Google AutoService](https://www.baeldung.com/google-autoservice)\n",
        "\n",
        "- [Can I use Java annotations to define compile time checks?](https://stackoverflow.com/questions/36538133/can-i-use-java-annotations-to-define-compile-time-checks/36648271)"
      ]
    }
  ]
}