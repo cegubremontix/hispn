{
  "nbformat": 4,
  "nbformat_minor": 0,
  "metadata": {
    "colab": {
      "name": " How to go  From Basic Hunting and Gathering Society to Advanced Highly Automated (How Information Grow) .ipynb",
      "provenance": [],
      "collapsed_sections": [],
      "authorship_tag": "ABX9TyMjgixd/Dtq1RWAH9Wg4jJX",
      "include_colab_link": true
    },
    "kernelspec": {
      "name": "python3",
      "display_name": "Python 3"
    },
    "language_info": {
      "name": "python"
    }
  },
  "cells": [
    {
      "cell_type": "markdown",
      "metadata": {
        "id": "view-in-github",
        "colab_type": "text"
      },
      "source": [
        "<a href=\"https://colab.research.google.com/github/dbremont/Notas/blob/main/Ingenerare/%20How%20to%20go%20%20From%20Basic%20Hunting%20and%20Gathering%20Society%20to%20Advanced%20Highly%20Automated%20(How%20Information%20Grow)%20.ipynb\" target=\"_parent\"><img src=\"https://colab.research.google.com/assets/colab-badge.svg\" alt=\"Open In Colab\"/></a>"
      ]
    },
    {
      "cell_type": "markdown",
      "metadata": {
        "id": "dCa9K5fOWavh"
      },
      "source": [
        "* (D)[Machine Tools](http://0.0.0.0:8000/6%20Otros/Articulos/Machine%20Tools.pdf)\n",
        "\n",
        "* (D)[How State Capacity Drives Industrialization](http://0.0.0.0:8000/6%20Otros/Articulos/How%20State%20Capacity%20Drives%20Industrialization.pdf)\n",
        "\n",
        "* (D)[China's Rapid Rise - From Backward Agrarian Society to Industrial Powerhouse in Just 35 Years](http://0.0.0.0:8000/6%20Otros/Papers/China%27s%20Rapid%20Rise%20-%20From%20Backward%20Agrarian%20Society%20to%20Industrial%20Powerhouse%20in%20Just%2035%20Years.pdf)\n",
        "\n",
        "* (D)[Household Innovation and R&D Bigger than You Think](http://0.0.0.0:8000/6%20Otros/Papers/Household%20Innovation%20and%20R%26D%20Bigger%20than%20You%20Think.pdf)\n",
        "\n",
        "* (D)[How to jump further and catch up Path breaking in an uneven industry space](http://0.0.0.0:8000/6%20Otros/Papers/How%20to%20jump%20further%20and%20catch%20up%20%20Path%20breaking%20in%20an%20uneven%20industry%20space.pdf)\n",
        "\n",
        "* (D)[Collective Learning in China’s Regional Economic Development](http://0.0.0.0:8000/6%20Otros/Papers/Collective%20Learning%20in%20China%E2%80%99s%20Regional%20Economic%20Development.pdf)\n",
        "\n",
        "* (D)[The new model innovation agencies - An overview](http://0.0.0.0:8000/6%20Otros/Papers/The%20new%20model%20innovation%20agencies%20-%20An%20overview.pdf)\n",
        "\n",
        "* (D)[Possitive Feedbacks in the Economy](http://0.0.0.0:8000/6%20Otros/Papers/Possitive%20Feedbacks%20in%20the%20Economy.pdf)\n",
        "\n",
        "* (D)[Motivating Innovation](http://0.0.0.0:8000/6%20Otros/Papers/Motivating%20Innovation.pdf)"
      ]
    }
  ]
}