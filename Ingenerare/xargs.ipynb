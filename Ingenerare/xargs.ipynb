{
  "nbformat": 4,
  "nbformat_minor": 0,
  "metadata": {
    "colab": {
      "name": "xargs.ipynb",
      "provenance": [],
      "include_colab_link": true
    },
    "kernelspec": {
      "name": "python3",
      "display_name": "Python 3"
    },
    "language_info": {
      "name": "python"
    }
  },
  "cells": [
    {
      "cell_type": "markdown",
      "metadata": {
        "id": "view-in-github",
        "colab_type": "text"
      },
      "source": [
        "<a href=\"https://colab.research.google.com/github/dbremont/Notas/blob/main/Ingenerare/xargs.ipynb\" target=\"_parent\"><img src=\"https://colab.research.google.com/assets/colab-badge.svg\" alt=\"Open In Colab\"/></a>"
      ]
    },
    {
      "cell_type": "markdown",
      "metadata": {
        "id": "tlQPErYDn4bb"
      },
      "source": [
        "[xargs: unmatched single quote; by default quotes are special to xargs unless you use the -0 option : bash](https://www.reddit.com/r/bash/comments/pl1ukb/xargs_unmatched_single_quote_by_default_quotes/)\n",
        "\n",
        "[xargs](https://man7.org/linux/man-pages/man1/xargs.1.html)\n",
        "\n",
        "[If xargs is map, what is filter?](https://stackoverflow.com/questions/24979323/if-xargs-is-map-what-is-filter)"
      ]
    },
    {
      "cell_type": "markdown",
      "metadata": {
        "id": "LAodFvqSZfdu"
      },
      "source": [
        "- ```groups |  xargs -d \" \" -l1 echo``` : list the groups in my system line by \n",
        "\n",
        "- line\n"
      ]
    }
  ]
}