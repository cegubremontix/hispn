{
  "nbformat": 4,
  "nbformat_minor": 0,
  "metadata": {
    "colab": {
      "name": "Topics in Mathematics with Applications in Finance.ipynb",
      "provenance": [],
      "authorship_tag": "ABX9TyMvU+kHuIv8OCMhOp3Jfrhi",
      "include_colab_link": true
    },
    "kernelspec": {
      "name": "python3",
      "display_name": "Python 3"
    },
    "language_info": {
      "name": "python"
    }
  },
  "cells": [
    {
      "cell_type": "markdown",
      "metadata": {
        "id": "view-in-github",
        "colab_type": "text"
      },
      "source": [
        "<a href=\"https://colab.research.google.com/github/dbremont/Notas/blob/main/Ingenerare/Topics_in_Mathematics_with_Applications_in_Finance.ipynb\" target=\"_parent\"><img src=\"https://colab.research.google.com/assets/colab-badge.svg\" alt=\"Open In Colab\"/></a>"
      ]
    },
    {
      "cell_type": "markdown",
      "metadata": {
        "id": "E_V2rc6SbH9U"
      },
      "source": [
        "- [Lecture 1: Introduction, Fi...](https://ocw.mit.edu/courses/mathematics/18-s096-topics-in-mathematics-with-applications-in-finance-fall-2013/video-lectures/lecture-1-introduction-financial-terms-and-concepts/)\n",
        "- [Lecture 2: Linear Algebra](https://ocw.mit.edu/courses/mathematics/18-s096-topics-in-mathematics-with-applications-in-finance-fall-2013/video-lectures/lecture-2-linear-algebra)\n",
        "- [Lecture 3: Probability Theory](https://ocw.mit.edu/courses/mathematics/18-s096-topics-in-mathematics-with-applications-in-finance-fall-2013/video-lectures/lecture-3-probability-theory)\n",
        "- [Lecture 5: Stochastic Proce...](https://ocw.mit.edu/courses/mathematics/18-s096-topics-in-mathematics-with-applications-in-finance-fall-2013/video-lectures/lecture-5-stochastic-processes-i)\n",
        "- [Lecture 6: Regression Analysis](https://ocw.mit.edu/courses/mathematics/18-s096-topics-in-mathematics-with-applications-in-finance-fall-2013/video-lectures/lecture-6-regression-analysis)\n",
        "- [Lecture 7: Value At Risk (V...](https://ocw.mit.edu/courses/mathematics/18-s096-topics-in-mathematics-with-applications-in-finance-fall-2013/video-lectures/lecture-7-value-at-risk-var-models)\n",
        "- [Lecture 8: Time Series Anal...](https://ocw.mit.edu/courses/mathematics/18-s096-topics-in-mathematics-with-applications-in-finance-fall-2013/video-lectures/lecture-8-time-series-analysis-i)\n",
        "- [Lecture 9: Volatility Modeling](https://ocw.mit.edu/courses/mathematics/18-s096-topics-in-mathematics-with-applications-in-finance-fall-2013/video-lectures/lecture-9-volatility-modeling)\n",
        "- [Lecture 10: Regularized Pri...](https://ocw.mit.edu/courses/mathematics/18-s096-topics-in-mathematics-with-applications-in-finance-fall-2013/video-lectures/lecture-10-regularized-pricing-and-risk-models)\n",
        "- [Lecture 11: Time Series Ana...](https://ocw.mit.edu/courses/mathematics/18-s096-topics-in-mathematics-with-applications-in-finance-fall-2013/video-lectures/lecture-11-time-series-analysis-ii)\n",
        "- [Lecture 12: Time Series Ana...](https://ocw.mit.edu/courses/mathematics/18-s096-topics-in-mathematics-with-applications-in-finance-fall-2013/video-lectures/lecture-12-time-series-analysis-iii)\n",
        "- [Lecture 13: Commodity Models](https://ocw.mit.edu/courses/mathematics/18-s096-topics-in-mathematics-with-applications-in-finance-fall-2013/video-lectures/lecture-13-commodity-models)\n",
        "- [Lecture 14: Portfolio Theory](https://ocw.mit.edu/courses/mathematics/18-s096-topics-in-mathematics-with-applications-in-finance-fall-2013/video-lectures/lecture-14-portfolio-theory)\n",
        "- [Lecture 15: Factor Modeling](https://ocw.mit.edu/courses/mathematics/18-s096-topics-in-mathematics-with-applications-in-finance-fall-2013/video-lectures/lecture-15-factor-modeling)\n",
        "- [Lecture 16: Portfolio Manag...](https://ocw.mit.edu/courses/mathematics/18-s096-topics-in-mathematics-with-applications-in-finance-fall-2013/video-lectures/lecture-16-portfolio-management)\n",
        "- [Lecture 17: Stochastic Proc...](https://ocw.mit.edu/courses/mathematics/18-s096-topics-in-mathematics-with-applications-in-finance-fall-2013/video-lectures/lecture-17-stochastic-processes-ii)\n",
        "- [Lecture 18: Itō Calculus](https://ocw.mit.edu/courses/mathematics/18-s096-topics-in-mathematics-with-applications-in-finance-fall-2013/video-lectures/lecture-18-ito-calculus)\n",
        "- [Lecture  19: Black-Scholes ...](https://ocw.mit.edu/courses/mathematics/18-s096-topics-in-mathematics-with-applications-in-finance-fall-2013/video-lectures/lecture-19-black-scholes-formula-risk-neutral-valuation)\n",
        "- [Lecture 20: Option Price an...](https://ocw.mit.edu/courses/mathematics/18-s096-topics-in-mathematics-with-applications-in-finance-fall-2013/video-lectures/lecture-20-option-price-and-probability-duality)\n",
        "- [Lecture 21: Stochastic Diff...](https://ocw.mit.edu/courses/mathematics/18-s096-topics-in-mathematics-with-applications-in-finance-fall-2013/video-lectures/lecture-21-stochastic-differential-equations)\n",
        "- [Lecture 23: Quanto Credit H...](https://ocw.mit.edu/courses/mathematics/18-s096-topics-in-mathematics-with-applications-in-finance-fall-2013/video-lectures/lecture-23-quanto-credit-hedging)\n",
        "- [Lecture 24: HJM Model for I...](https://ocw.mit.edu/courses/mathematics/18-s096-topics-in-mathematics-with-applications-in-finance-fall-2013/video-lectures/lecture-24-hjm-model-for-interest-rates-and-credit)\n",
        "- [Lecture 25: Ross Recovery T...](https://ocw.mit.edu/courses/mathematics/18-s096-topics-in-mathematics-with-applications-in-finance-fall-2013/video-lectures/lecture-25-ross-recovery-theorem)\n",
        "- [Lecture 26: Introduction to...](https://ocw.mit.edu/courses/mathematics/18-s096-topics-in-mathematics-with-applications-in-finance-fall-2013/video-lectures/lecture-26-introduction-to-counterparty-credit-risk)"
      ]
    }
  ]
}