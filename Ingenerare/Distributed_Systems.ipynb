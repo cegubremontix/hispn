{
  "nbformat": 4,
  "nbformat_minor": 0,
  "metadata": {
    "colab": {
      "name": "Distributed Systems.ipynb",
      "provenance": [],
      "authorship_tag": "ABX9TyMQvh8ogBHi24Tzs9JHuA41",
      "include_colab_link": true
    },
    "kernelspec": {
      "name": "python3",
      "display_name": "Python 3"
    },
    "language_info": {
      "name": "python"
    }
  },
  "cells": [
    {
      "cell_type": "markdown",
      "metadata": {
        "id": "view-in-github",
        "colab_type": "text"
      },
      "source": [
        "<a href=\"https://colab.research.google.com/github/dbremont/Notas/blob/main/Ingenerare/Distributed_Systems.ipynb\" target=\"_parent\"><img src=\"https://colab.research.google.com/assets/colab-badge.svg\" alt=\"Open In Colab\"/></a>"
      ]
    },
    {
      "cell_type": "markdown",
      "metadata": {
        "id": "Elz31sjbpwAe"
      },
      "source": [
        "* [A curated list to learn about distributed systems](https://github.com/theanalyst/awesome-distributed-systems)\n",
        "\n",
        "* [COS 316: Principles of Computer System Design](https://cos316.princeton.edu/)\n",
        "\n",
        "* [COS 518: Advanced Computer Systems](https://www.cs.princeton.edu/courses/archive/spring17/cos518/syllabus.html)\n",
        "\n",
        "* [Distributed Systems](http://www.distributedsystemscourse.com/)\n",
        "\n",
        "* [18-845 Internet Services](https://course.ece.cmu.edu/~ece845/)\n",
        "\n",
        "* [6.824 Distributed Systems](https://pdos.csail.mit.edu/6.824/schedule.html)\n",
        "    * [Posts](https://timilearning.com/)\n",
        "\n",
        "* [Cloud Computing and Distributed Systems](https://nptel.ac.in/courses/106/104/106104182/#)\n"
      ]
    }
  ]
}