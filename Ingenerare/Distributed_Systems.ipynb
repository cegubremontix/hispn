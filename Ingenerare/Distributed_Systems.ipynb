{
  "nbformat": 4,
  "nbformat_minor": 0,
  "metadata": {
    "colab": {
      "name": "Distributed Systems.ipynb",
      "provenance": [],
      "include_colab_link": true
    },
    "kernelspec": {
      "name": "python3",
      "display_name": "Python 3"
    },
    "language_info": {
      "name": "python"
    }
  },
  "cells": [
    {
      "cell_type": "markdown",
      "metadata": {
        "id": "view-in-github",
        "colab_type": "text"
      },
      "source": [
        "<a href=\"https://colab.research.google.com/github/dbremont/Notas/blob/main/Ingenerare/Distributed_Systems.ipynb\" target=\"_parent\"><img src=\"https://colab.research.google.com/assets/colab-badge.svg\" alt=\"Open In Colab\"/></a>"
      ]
    },
    {
      "cell_type": "markdown",
      "metadata": {
        "id": "H279wJKdbWCH"
      },
      "source": [
        "## Primario"
      ]
    },
    {
      "cell_type": "markdown",
      "metadata": {
        "id": "brX7ju05bqx3"
      },
      "source": [
        "[6.824 Distributed Systems](https://pdos.csail.mit.edu/6.824/schedule.html)\n",
        "- [Posts](https://timilearning.com/)\n",
        "\n",
        "[CS 18-845 Internet Services](https://course.ece.cmu.edu/~ece845/)"
      ]
    },
    {
      "cell_type": "markdown",
      "metadata": {
        "id": "sV6o3m3NbYDM"
      },
      "source": [
        "\n",
        "## Secundario"
      ]
    },
    {
      "cell_type": "markdown",
      "metadata": {
        "id": "Elz31sjbpwAe"
      },
      "source": [
        "[A curated list to learn about distributed systems](https://github.com/theanalyst/awesome-distributed-systems)\n",
        "\n",
        "[Distributed Systems](http://www.distributedsystemscourse.com/)\n",
        "\n",
        "[CS 349W: Abstractions for Highly Interactive Web Applications](https://web.stanford.edu/~ouster/CS349W/)"
      ]
    },
    {
      "cell_type": "markdown",
      "metadata": {
        "id": "00rYJPr0LeeM"
      },
      "source": [
        "- Mapreduce\n",
        "- Raft\n",
        "- Fault-tolerant Key/Value Service\n",
        "- Sharded Key/Value Service\n",
        "- Design and implement your own protocol for serving dynamic Web content\n"
      ]
    }
  ]
}