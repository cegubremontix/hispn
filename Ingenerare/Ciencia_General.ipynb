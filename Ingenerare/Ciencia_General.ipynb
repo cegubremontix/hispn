{
  "nbformat": 4,
  "nbformat_minor": 0,
  "metadata": {
    "colab": {
      "name": "Ciencia-General.ipynb",
      "provenance": [],
      "authorship_tag": "ABX9TyPERBKE84Ks7ZUEcsCNynBA",
      "include_colab_link": true
    },
    "kernelspec": {
      "name": "python3",
      "display_name": "Python 3"
    },
    "language_info": {
      "name": "python"
    }
  },
  "cells": [
    {
      "cell_type": "markdown",
      "metadata": {
        "id": "view-in-github",
        "colab_type": "text"
      },
      "source": [
        "<a href=\"https://colab.research.google.com/github/dbremont/Notas/blob/main/Ingenerare/Ciencia_General.ipynb\" target=\"_parent\"><img src=\"https://colab.research.google.com/assets/colab-badge.svg\" alt=\"Open In Colab\"/></a>"
      ]
    },
    {
      "cell_type": "markdown",
      "metadata": {
        "id": "bMupeddUvstT"
      },
      "source": [
        "* [Joy of Science](https://www.thegreatcourses.com/player/Video/1100?autoplay=false)\n",
        "\n",
        "* [Science Essentials](https://brilliant.org/courses/science-essentials/)\n",
        "\n",
        "* [Scientific Thinking](https://brilliant.org/courses/puzzle-science/)"
      ]
    }
  ]
}