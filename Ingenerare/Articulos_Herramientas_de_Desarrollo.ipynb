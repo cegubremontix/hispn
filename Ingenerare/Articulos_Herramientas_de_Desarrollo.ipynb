{
  "nbformat": 4,
  "nbformat_minor": 0,
  "metadata": {
    "colab": {
      "name": "Articulos Herramientas de Desarrollo.ipynb",
      "provenance": [],
      "authorship_tag": "ABX9TyO9TD2fwEaebS0BlsxAmNZw",
      "include_colab_link": true
    },
    "kernelspec": {
      "name": "python3",
      "display_name": "Python 3"
    },
    "language_info": {
      "name": "python"
    }
  },
  "cells": [
    {
      "cell_type": "markdown",
      "metadata": {
        "id": "view-in-github",
        "colab_type": "text"
      },
      "source": [
        "<a href=\"https://colab.research.google.com/github/dbremont/Notas/blob/main/Ingenerare/Articulos_Herramientas_de_Desarrollo.ipynb\" target=\"_parent\"><img src=\"https://colab.research.google.com/assets/colab-badge.svg\" alt=\"Open In Colab\"/></a>"
      ]
    },
    {
      "cell_type": "markdown",
      "metadata": {
        "id": "Xcg1CxvbpYMw"
      },
      "source": [
        "## Text Editors"
      ]
    },
    {
      "cell_type": "markdown",
      "metadata": {
        "id": "xTAekWmApWX2"
      },
      "source": [
        "- [Editors (Vim)](https://missing.csail.mit.edu/2020/editors/)\n",
        "\n",
        "- [Seven habits of effective text editing](https://www.moolenaar.net/habits.html)"
      ]
    },
    {
      "cell_type": "markdown",
      "metadata": {
        "id": "Ntqxnm0SpgUz"
      },
      "source": [
        "## Shells"
      ]
    },
    {
      "cell_type": "markdown",
      "metadata": {
        "id": "kJXVy9XVph1d"
      },
      "source": [
        "- [GNU Coreutils](https://www.gnu.org/software/coreutils/manual/coreutils.html)\n",
        "\n",
        "- [bash reference manual](https://www.gnu.org/software/bash/manual/bash.html),\n",
        "\n",
        "- [Advanced Bash-Scripting Guide](https://tldp.org/LDP/abs/html/index.html)\n",
        "\n",
        "- [Advanced Bash-Scripting Guide An in-depth exploration of the art of shell scripting](https://tldp.org/LDP/abs/html/index.html)\n",
        "\n",
        "- [Environment variable](https://en.wikipedia.org/wiki/Environment_variable)\n",
        "\n",
        "- [Oh-My-Zsh! A Work of CLI Magic — Tutorial for Ubuntu](https://medium.com/wearetheledger/oh-my-zsh-made-for-cli-lovers-installation-guide-3131ca5491fb)\n",
        "\n",
        "- [ohmyzsh Cheatsheet](https://github.com/ohmyzsh/ohmyzsh/wiki/Cheatsheet)\n",
        "\n",
        "- [ohmyzsh Plugins](https://github.com/ohmyzsh/ohmyzsh/wiki/Plugins)\n",
        "\n",
        "- [A collection of ZSH frameworks, plugins, themes and tutorials](https://github.com/unixorn/awesome-zsh-plugins)\n",
        "\n",
        "- oh-my-zsh \n",
        "  - git\n",
        "  - colored-man-pages\n",
        "  - emoji-clock\n",
        "\n",
        "- [the-art-of-command-line - Master the command line, in one page](https://github.com/jlevy/the-art-of-command-line)\n",
        "\n",
        "- [Advanced Bash-Scripting Guide](https://tldp.org/LDP/abs/html/index.html)\n",
        "\n",
        "- [Design patterns or best practices for shell scripts](https://stackoverflow.com/questions/78497/design-patterns-or-best-practices-for-shell-scripts)\n",
        "\n",
        "- [BashWeaknesses](http://mywiki.wooledge.org/BashWeaknesses)\n",
        "\n",
        "\n"
      ]
    },
    {
      "cell_type": "markdown",
      "metadata": {
        "id": "Vr0fr8wZqFXM"
      },
      "source": [
        "- To list all the ```alias```: alias\n",
        "- info\n",
        "- \n",
        "\n",
        "Input interfaces for give commands to the computer.\n",
        "\n",
        "- Graphical User Interface\n",
        "- Voice Interface\n",
        "- Text Interface (Shell)\n",
        "- AR / VR\n",
        "\n",
        "- The prompt\n",
        "- Command\n",
        "- The shell parses the program. \n",
        "  - And call it with the specific arguments.\n",
        "\n",
        "- Caracteres de escape? Tengo que escribir algo mas interesante sobre esto?\n",
        "\n",
        "\n",
        "\n",
        "- The $PATH, environment variable.\n",
        "- which comands to determine a program path, using the \\$PATH environement variable.\n",
        "  - That is the program how it's goin the be run.\n",
        "- What is a path, is delimited by a list directories, separated by /on linux.\n",
        "  - A path that starts with /, is an absolute path any other is a relative path.\n",
        "\n",
        "- *ls*\n",
        "\n",
        "- r: read, w (write), x(execute)\n",
        "- user, group, everyone else.\n",
        "\n",
        "- absolute path\n",
        "- relative path\n",
        "\n",
        "- cd\n",
        "\n",
        "- tldr cd\n",
        "\n",
        "  - .\n",
        "  - ..\n",
        "\n",
        "- traverse the file system\n",
        "\n",
        "- - [What is the difference between “Redirection” and “Pipe”?](https://askubuntu.com/questions/172982/what-is-the-difference-between-redirection-and-pipe)\n",
        "\n",
        "- how many files systems are in my computer?\n",
        "\n",
        "- ls /sys (interesting file system)?\n",
        "\n",
        "\n",
        "- sudo \n",
        "- sudo terminal\n",
        "- sudo echo 0 | sudo tee brightness\n",
        "  -  pwd: /sys/class/leds/dell::kbd_backlight\n",
        "- \n",
        "\n",
        "- ```bash\n",
        "ls  /proc | grep \"^[0-9]*$\" | xargs -I {}  echo /proc/{}/task | xargs -I {}  ./count {} | sort -n  -k 2,2 --reverse\n",
        "```\n",
        "\n",
        "**Connecting Programs**\n",
        "\n",
        "- sudo !!\n",
        "- !! ()\n",
        "- false || echo \"hello\"\n",
        "- true  || echo \"true\"\n",
        "- combining commands\n",
        "\n",
        "- [comands substituion](https://en.wikipedia.org/wiki/Command_substitution) and expansion\n",
        "  - name=daniel; echo \"hola $(name)\"\n",
        "  - touch foo{1,2,3}\n",
        "  - touch project{1,2}/src/test/test/{1,2,3}.py\n",
        "    - cartesian product\n",
        "  - touch project{a..j}\n",
        "\n",
        "- [process substitution](Process substitution)\n",
        "  - wc <(ls)\n",
        "\n",
        "- echo $RANDOM\n",
        "\n",
        "- echo $HOME\n",
        "\n",
        "- spellcheck count\n",
        "\n",
        "- [glob (programming)](https://en.wikipedia.org/wiki/Glob_(programming))\n",
        "\n",
        "- [Matching wildcards](https://en.wikipedia.org/wiki/Matching_wildcards)\n",
        "\n",
        "- [Wildcard character](https://en.wikipedia.org/wiki/Wildcard_character)\n",
        "\n",
        "- [Regular expression](https://en.wikipedia.org/wiki/Regular_expression)\n",
        "\n",
        "- [What is the difference between using `sh` and `source`?](https://stackoverflow.com/questions/13786499/what-is-the-difference-between-using-sh-and-source) \n",
        "\n",
        "- [Coprocesses](https://www.gnu.org/software/bash/manual/html_node/Coprocesses.html)\n",
        "\n",
        "- Producir un articulo para la configuracion de mi ambiente de desarrollo\n",
        "\n",
        "- find . -name src -type d\n",
        "\n",
        "- locate : locate reads one or more databases prepared by **updatedb** and writes file names matching at least one of the PATTERNs to standard output, one per line.\n",
        "\n",
        "- [shebang](https://en.wikipedia.org/wiki/Shebang_(Unix))\n",
        "\n",
        "- env: run a program in a modified environment\n",
        "\n",
        "- functions can modify environment variables, scripts can't why?\n",
        "\n",
        "- functions are great construct that helps with modularity, code reuse, and clarity.\n",
        "\n",
        "- [locate vs find: usage, pros and cons of each other](https://unix.stackexchange.com/questions/60205/locate-vs-find-usage-pros-and-cons-of-each-other)\n",
        "\n",
        "- [Findutils](https://www.gnu.org/software/findutils/)\n",
        "\n",
        "- update-alternatives\n",
        "\n",
        "- ranger\n",
        "\n",
        "- how programs recieve inputs:\n",
        "  - commans lines arguments\n",
        "  - stdin"
      ]
    }
  ]
}