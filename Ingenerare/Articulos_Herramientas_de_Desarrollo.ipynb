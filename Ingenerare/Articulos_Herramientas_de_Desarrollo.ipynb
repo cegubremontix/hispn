{
  "nbformat": 4,
  "nbformat_minor": 0,
  "metadata": {
    "colab": {
      "name": "Articulos Herramientas de Desarrollo.ipynb",
      "provenance": [],
      "toc_visible": true,
      "include_colab_link": true
    },
    "kernelspec": {
      "name": "python3",
      "display_name": "Python 3"
    },
    "language_info": {
      "name": "python"
    }
  },
  "cells": [
    {
      "cell_type": "markdown",
      "metadata": {
        "id": "view-in-github",
        "colab_type": "text"
      },
      "source": [
        "<a href=\"https://colab.research.google.com/github/dbremont/Notas/blob/main/Ingenerare/Articulos_Herramientas_de_Desarrollo.ipynb\" target=\"_parent\"><img src=\"https://colab.research.google.com/assets/colab-badge.svg\" alt=\"Open In Colab\"/></a>"
      ]
    },
    {
      "cell_type": "markdown",
      "metadata": {
        "id": "MxPYRac_uipX"
      },
      "source": [
        "- [Docker Mastery: with Kubernetes +Swarm from a Docker Captain](https://www.udemy.com/course/docker-mastery/learn/lecture/7742894?start=0#overview)\n",
        "\n",
        "- [Elasticsearch 7 and the Elastic Stack: In Depth and Hands On](https://www.udemy.com/course/elasticsearch-7-and-elastic-stack/learn/lecture/14728392?start=0#overview)"
      ]
    },
    {
      "cell_type": "markdown",
      "metadata": {
        "id": "Xcg1CxvbpYMw"
      },
      "source": [
        "## Text Editors"
      ]
    },
    {
      "cell_type": "markdown",
      "metadata": {
        "id": "xTAekWmApWX2"
      },
      "source": [
        "- [Editors (Vim)](https://missing.csail.mit.edu/2020/editors/)\n",
        "\n",
        "- [Seven habits of effective text editing](https://www.moolenaar.net/habits.html)\n",
        "\n",
        "- [Refactoring in Vim](https://stackoverflow.com/questions/8781975/refactoring-in-vim)"
      ]
    },
    {
      "cell_type": "markdown",
      "metadata": {
        "id": "Ntqxnm0SpgUz"
      },
      "source": [
        "## Shells"
      ]
    },
    {
      "cell_type": "markdown",
      "metadata": {
        "id": "kJXVy9XVph1d"
      },
      "source": [
        "- [GNU Coreutils](https://www.gnu.org/software/coreutils/manual/coreutils.html)\n",
        "\n",
        "- [bash reference manual](https://www.gnu.org/software/bash/manual/bash.html),\n",
        "\n",
        "- [Advanced Bash-Scripting Guide](https://tldp.org/LDP/abs/html/index.html)\n",
        "\n",
        "- [Advanced Bash-Scripting Guide An in-depth exploration of the art of shell scripting](https://tldp.org/LDP/abs/html/index.html)\n",
        "\n",
        "- [Environment variable](https://en.wikipedia.org/wiki/Environment_variable)\n",
        "\n",
        "- [Oh-My-Zsh! A Work of CLI Magic — Tutorial for Ubuntu](https://medium.com/wearetheledger/oh-my-zsh-made-for-cli-lovers-installation-guide-3131ca5491fb)\n",
        "\n",
        "- [ohmyzsh Cheatsheet](https://github.com/ohmyzsh/ohmyzsh/wiki/Cheatsheet)\n",
        "\n",
        "- [ohmyzsh Plugins](https://github.com/ohmyzsh/ohmyzsh/wiki/Plugins)\n",
        "\n",
        "- [A collection of ZSH frameworks, plugins, themes and tutorials](https://github.com/unixorn/awesome-zsh-plugins)\n",
        "\n",
        "- oh-my-zsh \n",
        "  - git\n",
        "  - colored-man-pages\n",
        "  - emoji-clock\n",
        "\n",
        "- [the-art-of-command-line - Master the command line, in one page](https://github.com/jlevy/the-art-of-command-line)\n",
        "\n",
        "- [Advanced Bash-Scripting Guide](https://tldp.org/LDP/abs/html/index.html)\n",
        "\n",
        "- [Design patterns or best practices for shell scripts](https://stackoverflow.com/questions/78497/design-patterns-or-best-practices-for-shell-scripts)\n",
        "\n",
        "- [BashWeaknesses](http://mywiki.wooledge.org/BashWeaknesses)\n",
        "\n",
        "\n"
      ]
    },
    {
      "cell_type": "markdown",
      "metadata": {
        "id": "Vr0fr8wZqFXM"
      },
      "source": [
        "- To list all the ```alias```: alias\n",
        "- info\n",
        "- \n",
        "\n",
        "Input interfaces for give commands to the computer.\n",
        "\n",
        "- Graphical User Interface\n",
        "- Voice Interface\n",
        "- Text Interface (Shell)\n",
        "- AR / VR\n",
        "\n",
        "- The prompt\n",
        "- Command\n",
        "- The shell parses the program. \n",
        "  - And call it with the specific arguments.\n",
        "\n",
        "- Caracteres de escape? Tengo que escribir algo mas interesante sobre esto?\n",
        "\n",
        "\n",
        "\n",
        "- The $PATH, environment variable.\n",
        "- which comands to determine a program path, using the \\$PATH environement variable.\n",
        "  - That is the program how it's goin the be run.\n",
        "- What is a path, is delimited by a list directories, separated by /on linux.\n",
        "  - A path that starts with /, is an absolute path any other is a relative path.\n",
        "\n",
        "- *ls*\n",
        "\n",
        "- r: read, w (write), x(execute)\n",
        "- user, group, everyone else.\n",
        "\n",
        "- absolute path\n",
        "- relative path\n",
        "\n",
        "- cd\n",
        "\n",
        "- tldr cd\n",
        "\n",
        "  - .\n",
        "  - ..\n",
        "\n",
        "- traverse the file system\n",
        "\n",
        "- - [What is the difference between “Redirection” and “Pipe”?](https://askubuntu.com/questions/172982/what-is-the-difference-between-redirection-and-pipe)\n",
        "\n",
        "- how many files systems are in my computer?\n",
        "\n",
        "- ls /sys (interesting file system)?\n",
        "\n",
        "\n",
        "- sudo \n",
        "- sudo terminal\n",
        "- sudo echo 0 | sudo tee brightness\n",
        "  -  pwd: /sys/class/leds/dell::kbd_backlight\n",
        "- \n",
        "\n",
        "- ```bash\n",
        "ls  /proc | grep \"^[0-9]*$\" | xargs -I {}  echo /proc/{}/task | xargs -I {}  ./count {} | sort -n  -k 2,2 --reverse\n",
        "```\n",
        "\n",
        "**Connecting Programs**\n",
        "\n",
        "- sudo !!\n",
        "- !! ()\n",
        "- false || echo \"hello\"\n",
        "- true  || echo \"true\"\n",
        "- combining commands\n",
        "\n",
        "- [comands substituion](https://en.wikipedia.org/wiki/Command_substitution) and expansion\n",
        "  - name=daniel; echo \"hola $(name)\"\n",
        "  - touch foo{1,2,3}\n",
        "  - touch project{1,2}/src/test/test/{1,2,3}.py\n",
        "    - cartesian product\n",
        "  - touch project{a..j}\n",
        "\n",
        "- [process substitution](Process substitution)\n",
        "  - wc <(ls)\n",
        "\n",
        "- echo $RANDOM\n",
        "\n",
        "- echo $HOME\n",
        "\n",
        "- spellcheck count\n",
        "\n",
        "- [glob (programming)](https://en.wikipedia.org/wiki/Glob_(programming))\n",
        "\n",
        "- [Matching wildcards](https://en.wikipedia.org/wiki/Matching_wildcards)\n",
        "\n",
        "- [Wildcard character](https://en.wikipedia.org/wiki/Wildcard_character)\n",
        "\n",
        "- [Regular expression](https://en.wikipedia.org/wiki/Regular_expression)\n",
        "\n",
        "- [What is the difference between using `sh` and `source`?](https://stackoverflow.com/questions/13786499/what-is-the-difference-between-using-sh-and-source) \n",
        "\n",
        "- [Coprocesses](https://www.gnu.org/software/bash/manual/html_node/Coprocesses.html)\n",
        "\n",
        "- Producir un articulo para la configuracion de mi ambiente de desarrollo\n",
        "\n",
        "- find . -name src -type d\n",
        "\n",
        "- locate : locate reads one or more databases prepared by **updatedb** and writes file names matching at least one of the PATTERNs to standard output, one per line.\n",
        "\n",
        "- [shebang](https://en.wikipedia.org/wiki/Shebang_(Unix))\n",
        "\n",
        "- env: run a program in a modified environment\n",
        "\n",
        "- functions can modify environment variables, scripts can't why?\n",
        "\n",
        "- functions are great construct that helps with modularity, code reuse, and clarity.\n",
        "\n",
        "- [locate vs find: usage, pros and cons of each other](https://unix.stackexchange.com/questions/60205/locate-vs-find-usage-pros-and-cons-of-each-other)\n",
        "\n",
        "- [Findutils](https://www.gnu.org/software/findutils/)\n",
        "\n",
        "- update-alternatives\n",
        "\n",
        "- ranger\n",
        "\n",
        "- how programs recieve inputs:\n",
        "  - commans lines arguments\n",
        "  - stdin\n",
        "\n",
        "**Terminal Multiplexers**\n",
        "\n",
        "- [Terminal Multiplexers](http://linuxcommand.org/lc3_adv_termmux.php)\n",
        "\n",
        "- [A Quick and Easy Guide to tmux](https://www.hamvocke.com/blog/a-quick-and-easy-guide-to-tmux/)\n",
        "\n",
        "- [How do I scroll in tmux?](https://superuser.com/questions/209437/how-do-i-scroll-in-tmux)\n",
        "\n",
        "- [True reloading of tmux config?](https://unix.stackexchange.com/questions/373409/true-reloading-of-tmux-config) \n",
        "\n",
        "- [10 practical examples of tmux configuration with example](https://www.golinuxcloud.com/tmux-config/)\n",
        "\n",
        "- [A Quick and Easy Guide to tmux](https://www.hamvocke.com/blog/a-quick-and-easy-guide-to-tmux/)\n",
        "\n",
        "- TMUX\n",
        "  - SESSIONS : a session is an independent workspace with one or more windows\n",
        "  - WINDOWS : Equivalent to tabs in editors or browsers, they are visually separate parts of the same session\n",
        "  - Panes : Like vim splits, panes let you have multiple shells in the same visual display.\n",
        "\n",
        "- [Tactical tmux: The 10 Most Important Commands](https://danielmiessler.com/study/tmux/)\n",
        "\n",
        "- [\"Maximizing\" a pane in tmux](https://superuser.com/questions/238702/maximizing-a-pane-in-tmux)\n",
        "\n",
        "- [How do I scroll in tmux?](https://superuser.com/questions/209437/how-do-i-scroll-in-tmux)\n",
        "\n",
        "- [A Quick and Easy Guide to tmux](https://www.hamvocke.com/blog/a-quick-and-easy-guide-to-tmux/)\n",
        "\n",
        "- [How can I search within the output buffer of a tmux shell?](https://superuser.com/questions/231002/how-can-i-search-within-the-output-buffer-of-a-tmux-shell)"
      ]
    },
    {
      "cell_type": "markdown",
      "metadata": {
        "id": "rO0V77lLrFEa"
      },
      "source": [
        "## Data Wrangling"
      ]
    },
    {
      "cell_type": "markdown",
      "metadata": {
        "id": "8BnvuT5jrG5n"
      },
      "source": [
        "- [missing csail data wrangling](https://missing.csail.mit.edu/2020/data-wrangling/)\n",
        "\n",
        "- [Web scraping](https://en.wikipedia.org/wiki/Web_scraping)\n",
        "\n",
        "- [Data scraping](https://en.wikipedia.org/wiki/Data_wrangling)\n",
        "\n",
        "- [Data Science at the Command Line, 2e](https://www.datascienceatthecommandline.com/2e/)\n",
        "\n",
        "- [Regular expressions](https://en.wikipedia.org/wiki/Regular_expression)\n",
        "\n",
        "- [Idiomatic awk](https://backreference.org/2010/02/10/idiomatic-awk/)\n",
        "\n",
        "- [In search of the perfect URL validation regex](https://mathiasbynens.be/demo/url-regex)\n",
        "\n",
        "- [Almost Perfect Email Regex Everything About Email Expression! Email Address Regular Expression That 99.99% Works](https://emailregex.com/)\n",
        "\n",
        "- [Comparing E-mail Address Validating Regular Expressions](https://fightingforalostcause.net/content/misc/2006/compare-email-regex.php)\n",
        "\n",
        "- [A regular expression to check for prime numbers](https://www.noulakaz.net/2007/03/18/a-regular-expression-to-check-for-prime-numbers/)\n",
        "\n",
        "- [Tutorial: Web Scraping with Python Using Beautiful Soup](https://www.dataquest.io/blog/web-scraping-python-using-beautiful-soup/)\n",
        "\n",
        "- [Awk by example](https://developer.ibm.com/tutorials/l-awk1/)"
      ]
    },
    {
      "cell_type": "markdown",
      "metadata": {
        "id": "UM8V1M6QrXUM"
      },
      "source": [
        "## Linux"
      ]
    },
    {
      "cell_type": "markdown",
      "metadata": {
        "id": "PFK6pRHrrZmO"
      },
      "source": [
        "[Filesystem Hierarchy Standard](https://refspecs.linuxfoundation.org/FHS_2.3/fhs-2.3.html)\n",
        "\n",
        "**Signals**\n",
        "\n",
        "- SIGNAL\n",
        "- SINHUP\n",
        "- NOHUP"
      ]
    },
    {
      "cell_type": "markdown",
      "metadata": {
        "id": "YZoIvzNirkig"
      },
      "source": [
        "## Version Control (GIT)"
      ]
    },
    {
      "cell_type": "markdown",
      "metadata": {
        "id": "InBzX6pDrjXE"
      },
      "source": [
        "\n",
        "\n",
        "[Ir](https://missing.csail.mit.edu/2020/version-control/)\n",
        "\n",
        "- [How to Write a Git Commit Message](https://chris.beams.io/posts/git-commit/)\n",
        "\n",
        "- [A successful Git branching model](https://nvie.com/posts/a-sucessful-git-branching-model/)\n",
        "\n",
        "- [Gitflow considered harmful](https://www.endoflineblog.com/gitflow-considered-harmful)\n",
        "\n",
        "- [Gitflow Workflow](https://www.atlassian.com/git/tutorials/comparing-workflows/gitflow-workflow)\n",
        "\n",
        "- [Pro Git](https://git-scm.com/book/en/v2)\n",
        "\n",
        "- [Oh Shit, Git!?!](https://ohshitgit.com/)\n",
        "\n",
        "- [Git for Computer Scientists](https://eagain.net/articles/git-for-computer-scientists/)\n",
        "\n",
        "- [Git from the Bottom Up](https://jwiegley.github.io/git-from-the-bottom-up/)\n",
        "\n",
        "- [How to explain git in simple words?](https://xosh.org/explain-git-in-simple-words/)\n",
        "\n",
        "- [Tig: text-mode interface for Git](https://jonas.github.io/tig/)\n",
        "\n",
        "- [Learn Git Branching](https://learngitbranching.js.org/)\n",
        "\n",
        "- Create a Config repository.\n",
        "  - [Configs](https://github.com/jonhoo/configs)\n",
        "\n",
        "- [Git](https://en.wikipedia.org/wiki/Git)\n",
        "\n"
      ]
    },
    {
      "cell_type": "markdown",
      "metadata": {
        "id": "keQnzYmdrngx"
      },
      "source": [
        "Version control systems (VCSs) are tools used to track changes to source code (or other collections of files and folders). \n",
        "\n",
        "While git *ugly interfaces*  must me memorized, its principles can be undertood.\n",
        "\n",
        "- Git's data model\n",
        "- Modelling history\n",
        "- Data model, as pseudocode\n",
        "- Repositories\n",
        "  - objects\n",
        "  - references\n",
        "- Staging Area area\n",
        "- git data model\n",
        "  - objects\n",
        "  - references\n",
        "- how git commands affect the data model\n",
        "- what commit introduce this change in git\n",
        "- git snapshopts\n",
        "\n",
        "\n",
        "- leaky abstraction in git"
      ]
    },
    {
      "cell_type": "markdown",
      "metadata": {
        "id": "CrUC5hSxtOPp"
      },
      "source": [
        "## Automatizacion"
      ]
    },
    {
      "cell_type": "markdown",
      "metadata": {
        "id": "w8DyH-dKtPWq"
      },
      "source": [
        "[How do I set up a Cron job?](https://askubuntu.com/questions/2368/how-do-i-set-up-a-cron-job)\n"
      ]
    },
    {
      "cell_type": "markdown",
      "metadata": {
        "id": "bLLGTv8EtSSo"
      },
      "source": [
        "## Jupyter"
      ]
    },
    {
      "cell_type": "markdown",
      "metadata": {
        "id": "ONr7ycUztUNP"
      },
      "source": [
        "- [Java kernel for Jupyter](https://stackoverflow.com/questions/33972860/java-kernel-for-jupyter)\n",
        "\n",
        "- [Jupyter kernels](https://github.com/jupyter/jupyter/wiki/Jupyter-kernels)\n",
        "\n",
        "- Para instalar [IJava](https://github.com/SpencerPark/IJava#requirements).\n",
        "\n",
        "- Tube algunos inconvenientes intentando isntalar el kernel global para todos los usuario /usr/share/, pero yo tengo jupyter en mi usuario y eso me jenero problemas para resolverlo, en share puse enlaces apuntdo a directorios y ejecutables concretos.\n",
        "\n",
        "- Pero una forma mas práctica de hacerlo, es instalarlo local para el usuario verificar el help de la instalacion."
      ]
    }
  ]
}