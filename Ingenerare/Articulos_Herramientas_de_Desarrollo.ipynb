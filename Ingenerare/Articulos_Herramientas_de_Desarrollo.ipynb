{
  "nbformat": 4,
  "nbformat_minor": 0,
  "metadata": {
    "colab": {
      "name": "Articulos Herramientas de Desarrollo.ipynb",
      "provenance": [],
      "authorship_tag": "ABX9TyOCzyglzr5VED04ku5iMYvT",
      "include_colab_link": true
    },
    "kernelspec": {
      "name": "python3",
      "display_name": "Python 3"
    },
    "language_info": {
      "name": "python"
    }
  },
  "cells": [
    {
      "cell_type": "markdown",
      "metadata": {
        "id": "view-in-github",
        "colab_type": "text"
      },
      "source": [
        "<a href=\"https://colab.research.google.com/github/dbremont/Notas/blob/main/Ingenerare/Articulos_Herramientas_de_Desarrollo.ipynb\" target=\"_parent\"><img src=\"https://colab.research.google.com/assets/colab-badge.svg\" alt=\"Open In Colab\"/></a>"
      ]
    },
    {
      "cell_type": "markdown",
      "metadata": {
        "id": "Xcg1CxvbpYMw"
      },
      "source": [
        "## Text Editors"
      ]
    },
    {
      "cell_type": "markdown",
      "metadata": {
        "id": "xTAekWmApWX2"
      },
      "source": [
        "- [Editors (Vim)](https://missing.csail.mit.edu/2020/editors/)\n",
        "\n",
        "- [Seven habits of effective text editing](https://www.moolenaar.net/habits.html)"
      ]
    }
  ]
}