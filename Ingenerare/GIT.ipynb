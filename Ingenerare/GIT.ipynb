{
  "nbformat": 4,
  "nbformat_minor": 0,
  "metadata": {
    "colab": {
      "name": "GIT.ipynb",
      "provenance": [],
      "include_colab_link": true
    },
    "kernelspec": {
      "name": "python3",
      "display_name": "Python 3"
    },
    "language_info": {
      "name": "python"
    }
  },
  "cells": [
    {
      "cell_type": "markdown",
      "metadata": {
        "id": "view-in-github",
        "colab_type": "text"
      },
      "source": [
        "<a href=\"https://colab.research.google.com/github/dbremont/Notas/blob/main/Ingenerare/GIT.ipynb\" target=\"_parent\"><img src=\"https://colab.research.google.com/assets/colab-badge.svg\" alt=\"Open In Colab\"/></a>"
      ]
    },
    {
      "cell_type": "markdown",
      "metadata": {
        "id": "bKFi18A6nm1l"
      },
      "source": [
        "[Pro Git](https://git-scm.com/book/en/v2)"
      ]
    },
    {
      "cell_type": "markdown",
      "metadata": {
        "id": "d9vkj_WpV8tB"
      },
      "source": [
        "[What exactly does the \"u\" do? \"git push -u origin master\" vs \"git push origin master\"](https://stackoverflow.com/questions/5697750/what-exactly-does-the-u-do-git-push-u-origin-master-vs-git-push-origin-ma)\n",
        "\n",
        "- git branch -b <name>\n",
        "- git checkout master\n",
        "- git push -u origin  <name> : This creates a merge request"
      ]
    }
  ]
}