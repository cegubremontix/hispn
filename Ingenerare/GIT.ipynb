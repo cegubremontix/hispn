{
  "nbformat": 4,
  "nbformat_minor": 0,
  "metadata": {
    "colab": {
      "name": "GIT.ipynb",
      "provenance": [],
      "include_colab_link": true
    },
    "kernelspec": {
      "name": "python3",
      "display_name": "Python 3"
    },
    "language_info": {
      "name": "python"
    }
  },
  "cells": [
    {
      "cell_type": "markdown",
      "metadata": {
        "id": "view-in-github",
        "colab_type": "text"
      },
      "source": [
        "<a href=\"https://colab.research.google.com/github/dbremont/Notas/blob/main/Ingenerare/GIT.ipynb\" target=\"_parent\"><img src=\"https://colab.research.google.com/assets/colab-badge.svg\" alt=\"Open In Colab\"/></a>"
      ]
    },
    {
      "cell_type": "markdown",
      "metadata": {
        "id": "bKFi18A6nm1l"
      },
      "source": [
        "[Pro Git](https://colab.research.google.com/github/dbremont/Notas/blob/main/Libros/Computacion/Pro_GIT.ipynb)"
      ]
    },
    {
      "cell_type": "markdown",
      "metadata": {
        "id": "d9vkj_WpV8tB"
      },
      "source": [
        "[What exactly does the \"u\" do? \"git push -u origin master\" vs \"git push origin master\"](https://stackoverflow.com/questions/5697750/what-exactly-does-the-u-do-git-push-u-origin-master-vs-git-push-origin-ma)\n",
        "\n",
        "- git branch -b <name>\n",
        "- git checkout master\n",
        "- git push -u origin  <name> : This creates a merge request"
      ]
    },
    {
      "cell_type": "markdown",
      "metadata": {
        "id": "HHS7-B1x-9SP"
      },
      "source": [
        "[The Mising Semester Version Control](https://missing.csail.mit.edu/2020/version-control/)\n",
        "\n",
        "[How to Write a Git Commit Message](https://chris.beams.io/posts/git-commit/)\n",
        "\n",
        "[A successful Git branching model](https://nvie.com/posts/a-sucessful-git-branching-model/)\n",
        "\n",
        "[Gitflow considered harmful](https://www.endoflineblog.com/gitflow-considered-harmful)\n",
        "\n",
        "[Gitflow Workflow](https://www.atlassian.com/git/tutorials/comparing-workflows/gitflow-workflow)\n",
        "\n",
        "\n",
        "[Oh Shit, Git!?!](https://ohshitgit.com/)\n",
        "\n",
        "[Git for Computer Scientists](https://eagain.net/articles/git-for-computer-scientists/)\n",
        "\n",
        "[Git from the Bottom Up](https://jwiegley.github.io/git-from-the-bottom-up/)\n",
        "\n",
        "[How to explain git in simple words?](https://xosh.org/explain-git-in-simple-words/)\n",
        "\n",
        "[Tig: text-mode interface for Git](https://jonas.github.io/tig/)\n",
        "\n",
        "[Learn Git Branching](https://learngitbranching.js.org/)\n",
        "\n",
        "Create a Config repository.\n",
        "  - [Configs](https://github.com/jonhoo/configs)\n",
        "\n",
        "[Git](https://en.wikipedia.org/wiki/Git)\n",
        "\n"
      ]
    },
    {
      "cell_type": "markdown",
      "metadata": {
        "id": "qxQEwm7QJNyF"
      },
      "source": [
        "[Sergey Bronnikov - Git as a storage](https://bronevichok.ru/posts/git-as-a-storage.html)\n",
        "\n",
        "[Git Magic](https://crypto.stanford.edu/~blynn/gitmagic/)"
      ]
    }
  ]
}