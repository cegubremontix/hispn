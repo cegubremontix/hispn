{
  "nbformat": 4,
  "nbformat_minor": 0,
  "metadata": {
    "colab": {
      "name": "luxlabs.ai.ipynb",
      "provenance": [],
      "collapsed_sections": [],
      "toc_visible": true,
      "authorship_tag": "ABX9TyNoxXCFIV2UZdKJu7194J9P",
      "include_colab_link": true
    },
    "kernelspec": {
      "name": "python3",
      "display_name": "Python 3"
    }
  },
  "cells": [
    {
      "cell_type": "markdown",
      "metadata": {
        "id": "view-in-github",
        "colab_type": "text"
      },
      "source": [
        "<a href=\"https://colab.research.google.com/github/dbremont/Notas/blob/main/Ingenerare/luxlabs.ai.ipynb\" target=\"_parent\"><img src=\"https://colab.research.google.com/assets/colab-badge.svg\" alt=\"Open In Colab\"/></a>"
      ]
    },
    {
      "cell_type": "markdown",
      "metadata": {
        "id": "IzdDoRc9_V3P"
      },
      "source": [
        "# LuxLabs.ai\n",
        "\n",
        "- [Answer Engine](https://en.wikipedia.org/wiki/Question_answering)\n",
        "- Trading\n",
        "- Data Recollection\n",
        "- Data Analytics\n",
        "- ...\n",
        "\n",
        "- Start by replicating (for spanish) [Etimologia](https://www.wolframalpha.com/input/?i=etymology+intelligence)\n",
        "\n",
        "- Questions -> Answers\n",
        "\n",
        "- Domains\n",
        "\n",
        "- ? To be defined\n",
        "\n",
        "- [Change the domain name](https://www.namecheap.com/domains/registration/results/?domain=luxlabs.ai)"
      ]
    },
    {
      "cell_type": "markdown",
      "metadata": {
        "id": "vH_d-Ejkc9xG"
      },
      "source": [
        "## Skills\n",
        "\n",
        "- Market Data\n",
        "- Natural Language Processing\n",
        "- Data Visualization\n",
        "- Services"
      ]
    },
    {
      "cell_type": "markdown",
      "metadata": {
        "id": "OgYAP-ibeZQs"
      },
      "source": [
        "## Markets"
      ]
    },
    {
      "cell_type": "markdown",
      "metadata": {
        "id": "CqDVmqbR_u39"
      },
      "source": [
        "Technology:\n",
        "\n",
        "- Natural Language Understanding\n",
        "- Curate Data + Knowledge\n",
        "- Dynamic Algorithmic Computation\n",
        "- Computer Visual Presentation \n",
        "\n",
        "Solutions:\n",
        "\n",
        "- Questions -> Answer \n",
        "\n",
        "- Primero para el mercado hispano.\n",
        "\n",
        "- If one integrated with personal data can become a personal assitent.\n",
        "\n",
        "\n",
        "Name of the Company:\n",
        "\n",
        "- inferlabs.ai\n",
        "- luzlabs.ai\n",
        "- **luxlabs.ai**\n",
        "- ferrelabs.ai"
      ]
    },
    {
      "cell_type": "markdown",
      "metadata": {
        "id": "wBJtI3-tkrcM"
      },
      "source": [
        "## Examples of Companies in this Industry"
      ]
    },
    {
      "cell_type": "markdown",
      "metadata": {
        "id": "xryIT8eHkuvQ"
      },
      "source": [
        "- [WolframAlpha](https://en.wikipedia.org/wiki/WolframAlpha)\n",
        "\n",
        "- [Wolfram.Com](https://www.wolfram.com/)\n",
        "\n",
        "- [Wolfram Alpha](https://www.wolframalpha.com/)\n",
        "\n",
        "- [IBM Watson](https://www.ibm.com/watson)\n",
        "\n",
        "- [Elemental Cognition](https://ec.ai/)"
      ]
    },
    {
      "cell_type": "markdown",
      "metadata": {
        "id": "pkw69xn8lZO3"
      },
      "source": [
        "## Resources"
      ]
    },
    {
      "cell_type": "markdown",
      "metadata": {
        "id": "o0TIvAVwk9kq"
      },
      "source": [
        "- [Facebook DrQA](https://github.com/facebookresearch/DrQA)\n",
        "\n",
        "- [David Ferruci - Lex Conversation](https://www.youtube.com/watch?v=Whtt2H5_isM)\n",
        "\n",
        "- [BI 069 David Ferrucci: Machines To Understand Stories](https://www.youtube.com/watch?v=E0IXeCBmH6I)\n",
        "\n",
        "\n",
        "- [To Test Machine Comprehension, Start by Defining Comprehension](https://arxiv.org/pdf/2005.01525.pdf)\n",
        "\n",
        "- [Melanie Mitchell: Concepts, Analogies, Common Sense & Future of AI | Lex Fridman Podcast #61](https://www.youtube.com/watch?v=ImKkaeUx1MU)\n",
        "\n",
        "- [Learning to Automatically Solve Algebra Word Problems](https://homes.cs.washington.edu/~lsz/papers/kazb-acl14.pdf)\n",
        "\n",
        "- [Code from MIT NLP](http://groups.csail.mit.edu/rbg/code/)\n",
        "\n",
        "- [Computer system automatically solves word problems](http://groups.csail.mit.edu/rbg/code/wordprobs/)\n",
        "\n",
        "  "
      ]
    },
    {
      "cell_type": "markdown",
      "metadata": {
        "id": "JZNSAKYu-n70"
      },
      "source": [
        "## 2021 Plan"
      ]
    },
    {
      "cell_type": "markdown",
      "metadata": {
        "id": "_GOutHGq-n6M"
      },
      "source": [
        "- [MicroMasters Program in Statistics and Data Science](https://micromasters.mit.edu/ds/)\n",
        "\n",
        "  - [Plan](https://do5zh7b0lqdye.cloudfront.net/documents/SDS_MicroMasters_Program_SDS_Schedule_202122.pdf)\n",
        "\n",
        "Metrics\n",
        "\n",
        "* Kaggle\n",
        "* Freenlance\n",
        "* Improve stack profile on my skills\n",
        "* Prepare a good curriculum"
      ]
    }
  ]
}