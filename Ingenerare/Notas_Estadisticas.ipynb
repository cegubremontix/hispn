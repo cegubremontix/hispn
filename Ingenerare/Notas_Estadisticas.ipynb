{
  "nbformat": 4,
  "nbformat_minor": 0,
  "metadata": {
    "colab": {
      "name": "Notas Estadisticas.ipynb",
      "provenance": [],
      "toc_visible": true,
      "authorship_tag": "ABX9TyNqlpEtKYdyh7X5qeazCNc9",
      "include_colab_link": true
    },
    "kernelspec": {
      "name": "python3",
      "display_name": "Python 3"
    },
    "language_info": {
      "name": "python"
    }
  },
  "cells": [
    {
      "cell_type": "markdown",
      "metadata": {
        "id": "view-in-github",
        "colab_type": "text"
      },
      "source": [
        "<a href=\"https://colab.research.google.com/github/dbremont/Notas/blob/main/Ingenerare/Notas_Estadisticas.ipynb\" target=\"_parent\"><img src=\"https://colab.research.google.com/assets/colab-badge.svg\" alt=\"Open In Colab\"/></a>"
      ]
    },
    {
      "cell_type": "markdown",
      "metadata": {
        "id": "5pY5Dq1f1BX-"
      },
      "source": [
        "Priority Concepts\n",
        "\n",
        "- Hypotesis\n",
        "- Statistical Test\n",
        "- P-value\n",
        "- Variables in modelling reality\n",
        "  - From each places do we optain data.\n",
        "  "
      ]
    },
    {
      "cell_type": "code",
      "metadata": {
        "id": "3ddCtxcxOLUz"
      },
      "source": [
        "import pandas as pd\n",
        "import numpy as np\n",
        "from scipy import stats\n",
        "from matplotlib import pyplot as plt"
      ],
      "execution_count": 23,
      "outputs": []
    },
    {
      "cell_type": "markdown",
      "metadata": {
        "id": "jG1LiMxny7vK"
      },
      "source": [
        "## Descriptive Statistics"
      ]
    },
    {
      "cell_type": "markdown",
      "metadata": {
        "id": "3U6C7p6n0Yer"
      },
      "source": [
        "**Data Types**\n",
        "In this video, two data types are introduced: Quantitative and Categorical.\n",
        "\n",
        "- **Quantitative** data takes on numeric values that allow us to perform mathematical operations (like the number of dogs).\n",
        "\n",
        "- **Categorical** are used to label a group or set of items (like dog breeds - Collies, Labs, Poodles, etc.).\n",
        "\n",
        "\n",
        "Ejercicio?\n",
        "\n",
        "- Codigo Postal: Quantitativa vs Catagorica \n",
        "- Hay mas tipos de datos como imagenes, videos, texto, redes, ...\n",
        "\n"
      ]
    },
    {
      "cell_type": "markdown",
      "metadata": {
        "id": "SSU8RPt_07dQ"
      },
      "source": [
        "**Categorical Ordinal** vs. **Categorical Nominal**\n",
        "\n",
        "We can divide categorical data further into two types: Ordinal and Nominal.\n",
        "\n",
        "-  **Categorical Ordinal** data take on a ranked ordering (like a ranked interaction on a scale from Very Poor to Very Good with the dogs).\n",
        "\n",
        "- **Categorical Nominal** data do not have an order or ranking (like the breeds of the dog).\n"
      ]
    },
    {
      "cell_type": "markdown",
      "metadata": {
        "id": "ml6j2Nxc2Ume"
      },
      "source": [
        "**Continuous vs. Discrete**\n",
        "\n",
        "We can think of quantitative data as being either continuous or discrete.\n",
        "\n",
        "Continuous data can be split into smaller and smaller units, and still a smaller unit exists. An example of this is the age of the dog - we can measure the units of the age in years, months, days, hours, seconds, but there are still smaller units that could be associated with the age.\n",
        "\n",
        "Discrete data only takes on countable values. The number of dogs we interact with is an example of a discrete data type."
      ]
    },
    {
      "cell_type": "markdown",
      "metadata": {
        "id": "lVQazG1_2-BO"
      },
      "source": [
        "Continous Variable\n",
        "\n",
        "A variable that can take any real value bewteen its defined range."
      ]
    },
    {
      "cell_type": "markdown",
      "metadata": {
        "id": "HWJJiebt5ssj"
      },
      "source": [
        "[**Summary Statistics**](https://en.wikipedia.org/wiki/Summary_statistics)\n",
        "\n",
        "- [Measures of Centrality](https://en.wikipedia.org/wiki/Centrality): Whats the average value in a dataset.\n",
        "\n",
        "- [Measures of Spread](https://en.wikipedia.org/wiki/Statistical_dispersion): How the values in a dataset differ.\n",
        "\n",
        "- Some types:\n",
        "  - Median,\n",
        "  - Mean,\n",
        "  - Mode,\n",
        "  - ..."
      ]
    },
    {
      "cell_type": "markdown",
      "metadata": {
        "id": "UuNpiLgwBPCs"
      },
      "source": [
        "**Notation**\n",
        "\n",
        "[Notation Recap](https://classroom.udacity.com/nanodegrees/nd880/parts/c092c850-2aa3-44ec-9e8b-1a599e33e869/modules/6c3fdd94-c269-47d3-ad3c-2dcb793a1c24/lessons/2e4f9313-11d5-4ecd-9af7-b4b6680d075a/concepts/1db965b6-1e00-4dfb-aa9c-bbfbe56aa33e)\n",
        "\n",
        "**Random Variables**\n",
        "\n",
        "\n",
        "A random variable is a placeholder for the possible values of some process (mostly... the term 'some process' is a bit ambiguous). As was stated before, notation is useful in that it helps us take complex ideas and simplify (often to a single letter or single symbol). We see random variables represented by capital letters ($X$, $Y$, or $Z$ are common ways to represent a random variable).\n",
        "\n",
        "We might have the random variable $X$, which is a holder for the possible values of the amount of time someone spends on our site. Or the random variable $Y$, which is a holder for the possible values of whether or not an individual purchases a product.\n",
        "\n",
        "$X$ is 'a holder' of the values that could possibly occur for the amount of time spent on our website. Any number from 0 to infinity really.\n",
        "\n",
        "\n",
        "**Lowercase Letters**\n",
        "\n",
        "Observe values of the random variables. $x_n$\n",
        "\n",
        "Median notation $ \\bar{x} $ : \n",
        "\n",
        "- $  \\bar{x} =  \\frac{1}{n}  \\sum_{i=1}^n{x_i}$\n"
      ]
    },
    {
      "cell_type": "markdown",
      "metadata": {
        "id": "qsrdb4gWJtX8"
      },
      "source": [
        "## Spread (Dispersion)"
      ]
    },
    {
      "cell_type": "markdown",
      "metadata": {
        "id": "A9eB2xjlLShX"
      },
      "source": [
        "**Calculating the 5 Number Summary**\n",
        "\n",
        "The five number summary consist of 5 values:\n",
        "\n",
        "1. **Minimum** : The smallest number in the dataset.\n",
        "\n",
        "2. **${Q_1}$** : The value such that 25% of the data fall below.\n",
        "\n",
        "3. **${Q_2}$** : The value such that 50% of the data fall below.\n",
        "\n",
        "4. **${Q_3}$** : The value such that 75% of the data fall below.\n",
        "\n",
        "5. **Maximum** : The largest value in the dataset.\n",
        "\n",
        "\n",
        "In the above video we saw that calculating each of these values was essentially just finding the median of a bunch of different dataset. Because we are essentially calculating a bunch of medians, the calculation depends on whether we have an odd or even number of values.\n",
        "\n",
        "**Range**\n",
        "\n",
        "The range is then calculated as the difference between the maximum and the minimum.\n",
        "\n",
        "**IQR**\n",
        "\n",
        "The interquartile range is calculated as the difference between ${Q_3}$ and ${Q_1}$.\n",
        "\n",
        "For ploting the quartiles information read:\n",
        "  \n",
        "  - [Boxplot API](https://matplotlib.org/stable/api/_as_gen/matplotlib.pyplot.boxplot.html)\n",
        "  \n",
        "  - [Histogram](https://matplotlib.org/stable/api/_as_gen/matplotlib.pyplot.hist.html)\n",
        "\n",
        "Other measures of spread:\n",
        "\n",
        "- Variance: The variance is the average squared difference of each observation from the mean.\n",
        "\n",
        "- Standard Deviation: \n",
        "\n",
        "The idea of Symetric Data Sets.\n"
      ]
    },
    {
      "cell_type": "markdown",
      "metadata": {
        "id": "FxWn_HZqPRJY"
      },
      "source": [
        "Computing Quartiles with Numpy"
      ]
    },
    {
      "cell_type": "code",
      "metadata": {
        "id": "bcAKvxXENBpC",
        "colab": {
          "base_uri": "https://localhost:8080/"
        },
        "outputId": "fb4c22a8-9bc0-4ca6-8b18-090de6115b79"
      },
      "source": [
        "# Import numpy library\n",
        "data = [15, 4, 3, 8, 15, 22, 7, 9, 2, 3, 3, 12, 6]\n",
        "  \n",
        "# First quartile (Q1)\n",
        "Q1 = np.percentile(data, 25, interpolation = 'midpoint')\n",
        "\n",
        "Q2 = np.percentile(data, 50, interpolation = 'midpoint')\n",
        "\n",
        "# Third quartile (Q3)\n",
        "Q3 = np.percentile(data, 75, interpolation = 'midpoint')\n",
        "  \n",
        "# Interquaritle range (IQR)\n",
        "IQR = Q3 - Q1\n",
        "\n",
        "print(Q1)\n",
        "print(Q2) # The median value\n",
        "print(Q3)\n",
        "print(IQR)\n",
        "print(np.var(data))\n",
        "print(np.std(data))\n"
      ],
      "execution_count": 26,
      "outputs": [
        {
          "output_type": "stream",
          "text": [
            "3.0\n",
            "7.0\n",
            "12.0\n",
            "9.0\n",
            "33.92899408284024\n",
            "5.824860005428477\n"
          ],
          "name": "stdout"
        }
      ]
    },
    {
      "cell_type": "markdown",
      "metadata": {
        "id": "KqApXhF1Pqzk"
      },
      "source": [
        "**Standard Deviation and Variance**\n",
        "\n",
        "The **standard deviation** is one of the most common measures for talking about the spread of data. It is defined as **the average distance of each observation from the mean**.\n",
        "\n",
        "In the above video we saw this as how far individuals were from the average distance from work (the example distances shown are examples from the full data set, the mean of just those 4 numbers is 38.5. The mean of 18 shown later in the video is the mean of the full data set which is not shown in the video). In the next video, you will see exactly how this is calculated.\n",
        "\n",
        "\n",
        "[**Variance**](https://en.wikipedia.org/wiki/Variance):\n",
        "\n",
        "- $S^2$, es solo una notacion.\n",
        "- Es la varianza.\n",
        "- La notacion se utiliza para indicar, que ($x_i - \\bar{x})^2$,\n",
        "  es como se puede ver al cuadrado.\n",
        "- [La deviacion standard](https://en.wikipedia.org/wiki/Standard_deviation) ($\\sigma$)\n",
        "\n",
        "![image.png](data:image/png;base64,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)\n",
        "\n",
        "\n",
        "\n"
      ]
    },
    {
      "cell_type": "code",
      "metadata": {
        "id": "FOJ_FygBN8tZ",
        "outputId": "a6876c7f-648f-4e57-b34f-69be9a0fd975",
        "colab": {
          "base_uri": "https://localhost:8080/"
        }
      },
      "source": [
        "data = [13,4, 3, 8, 15, 22, 7, 9, 2, 3, 3, 12, 6]\n",
        "\n",
        "# print(np.mean(data))\n",
        "\n",
        "m = stats.mode(data)\n",
        "print(m)\n",
        "\n",
        "# print(len(data))\n",
        "\n",
        "# print(np.median(data))\n",
        "\n",
        "\n",
        "# Q1 = np.percentile(data, 25, interpolation = 'midpoint')\n",
        "\n",
        "# Q2 = np.percentile(data, 50, interpolation = 'midpoint')\n",
        "\n",
        "# Third quartile (Q3)\n",
        "# Q3 = np.percentile(data, 75, interpolation = 'midpoint')\n",
        "\n",
        "# print(Q1, Q3)\n",
        "\n",
        "# print(np.mean(data))\n",
        "\n",
        "\n",
        "# np.var(data)\n",
        "\n",
        "\n",
        "#np.std(data)"
      ],
      "execution_count": 22,
      "outputs": [
        {
          "output_type": "stream",
          "text": [
            "ModeResult(mode=array([3]), count=array([3]))\n"
          ],
          "name": "stdout"
        }
      ]
    },
    {
      "cell_type": "markdown",
      "metadata": {
        "id": "kJ9UrEKEQRV-"
      },
      "source": [
        "**Quantitative Variables**\n",
        "\n",
        "Then we learned there are four main aspects used to describe quantitative variables:\n",
        "\n",
        "**Measures of Center**\n",
        "\n",
        "1. Measures of Spread\n",
        "2. Shape of the Distribution\n",
        "3. Outliers\n",
        "\n",
        "We looked at calculating measures of Center\n",
        "\n",
        "1. Means\n",
        "2. Medians\n",
        "3. Modes\n",
        "\n",
        "We also looked at calculating measures of Spread\n",
        "\n",
        "1. Range\n",
        "2. Interquartile Range\n",
        "3. Standard Deviation\n",
        "4. Variance\n",
        "\n",
        "**Standard Deviation vs. Variance**\n",
        "\n",
        "The standard deviation is the square root of the variance. In practice, you usually use the standard deviation rather than the variance. The reason for this is because the standard deviation shares the same units with our original data, while the variance has squared units."
      ]
    },
    {
      "cell_type": "markdown",
      "metadata": {
        "id": "Zp8ESmufjn2B"
      },
      "source": [
        "## Shape"
      ]
    },
    {
      "cell_type": "markdown",
      "metadata": {
        "id": "VA-v8i_1jjqp"
      },
      "source": [
        "- The box plot is also called and whisker plot.\n",
        "\n",
        "- :TODO Normaly distributed data must have a mean equal to the median. Check this\n",
        "\n",
        "- A box plot relates directly to the 5 number symmary.\n",
        "\n",
        "- **Aspects of Quantitative Variables**\n",
        "\n",
        "  - Center\n",
        "  \n",
        "  - Spread\n",
        "  \n",
        "  - Shape\n",
        "  \n",
        "  - Outliers"
      ]
    },
    {
      "cell_type": "markdown",
      "metadata": {
        "id": "3KvghTZcm1y8"
      },
      "source": [
        "## Outliers"
      ]
    },
    {
      "cell_type": "markdown",
      "metadata": {
        "id": "bud0ilzKm3mp"
      },
      "source": [
        "- Outliers\n",
        "\n",
        "We learned that outliers are points that fall very far from the rest of our data points. This influences measures like the mean and standard deviation much more than measures associated with the five number summary.\n",
        "\n",
        "- Anomaly Detection\n",
        "\n",
        "\n",
        "**Common Techniques**\n",
        "\n",
        "When outliers are present we should consider the following points.\n",
        "\n",
        "1. Noting they exist and the impact on summary statistics.\n",
        "\n",
        "2. If typo - remove or fix\n",
        "\n",
        "3. Understanding why they exist, and the impact on questions we are trying to answer about our data.\n",
        "\n",
        "4. Reporting the 5 number summary values is often a better indication than measures like the mean and standard deviation when we have outliers.\n",
        "\n",
        "5. Be careful in reporting. Know how to ask the right questions.\n",
        "\n",
        "\n",
        "\n",
        "**Outliers Advice**\n",
        "\n",
        "Below are my guidelines for working with any column (random variable) in your dataset.\n",
        "\n",
        "1. Plot your data to identify if you have outliers.\n",
        "\n",
        "2. Handle outliers accordingly via the methods above.\n",
        "\n",
        "3. If no outliers and your data follow a normal distribution - use the mean and standard deviation to describe your dataset, and report that the data are normally distributed.\n",
        "\n",
        "\n",
        "If you aren't sure if your data are **normally distributed**, there are plots called normal quantile plots and statistical methods like the **Kolmogorov-Smirnov** test that are aimed to help you understand whether or not your data are normally distributed. Implementing this test is beyond the scope of this class, but can be used as a fun fact.\n",
        "\n",
        "* :TODO I need more practice with the box plot.\n"
      ]
    },
    {
      "cell_type": "markdown",
      "metadata": {
        "id": "qoOtbXJgsTQe"
      },
      "source": [
        "**Descriptive Statistics**\n",
        "\n",
        "Descriptive statistics is about describing our collected data.\n",
        "\n",
        "**Inferential Statistics**\n",
        "\n",
        "Inferential Statistics is about using our collected data to draw conclusions to a larger population.\n",
        "\n",
        "We looked at specific examples that allowed us to identify the\n",
        "\n",
        "- **Population** - our entire group of interest\n",
        "- **Parameter**  - numeric summary about a population\n",
        "- **Sample**     - subset of the population\n",
        "- **Statistic**  - numeric summary about a sample\n",
        "- **Inference**  - Drawing conclusions regarding a populatio nusing information from a sample"
      ]
    },
    {
      "cell_type": "code",
      "metadata": {
        "id": "Iea3K0WQ8FX6",
        "outputId": "67fa672f-a9a3-46f6-adb8-c377a1534573",
        "colab": {
          "base_uri": "https://localhost:8080/"
        }
      },
      "source": [
        "print(450 / 900.0)"
      ],
      "execution_count": 1,
      "outputs": [
        {
          "output_type": "stream",
          "text": [
            "0.5\n"
          ],
          "name": "stdout"
        }
      ]
    },
    {
      "cell_type": "markdown",
      "metadata": {
        "id": "XNClaGUC_GeS"
      },
      "source": [
        "## Simpson's Paradox"
      ]
    },
    {
      "cell_type": "markdown",
      "metadata": {
        "id": "iYME29gZ_E1Q"
      },
      "source": [
        "In this lesson, you learned about Simpson's Paradox, and had the opportunity to apply it to a small example with Sebastian.\n",
        "\n",
        "In the lessons ahead, you will learn a lot by following along with Sebastian, but it is really important to put these ideas to practice using data and computing, because that is how you will apply these skills in a day to day environment as a Data Analyst or Data Scientist.\n",
        "\n",
        "It is so easy to get caught up in looking at full aggregates of your data. Hopefully, the examples here serve as a reminder to look at your data multiple ways.\n",
        "\n",
        "Upcoming Lessons\n",
        "In the upcoming lessons, you will learn the fundamentals of probability by working through some examples. After finishing the lessons on probability with Sebastian, you will put what you learned to practice using Python!"
      ]
    },
    {
      "cell_type": "markdown",
      "metadata": {
        "id": "6Fi_hMXbBDda"
      },
      "source": [
        "##  Plots"
      ]
    },
    {
      "cell_type": "markdown",
      "metadata": {
        "id": "p0Cybbx5BHNX"
      },
      "source": [
        "### Boxplot"
      ]
    },
    {
      "cell_type": "code",
      "metadata": {
        "colab": {
          "base_uri": "https://localhost:8080/",
          "height": 406
        },
        "id": "eZQoeSZr86-j",
        "outputId": "40c4314e-57d4-4c19-9c33-bfb01a41dbce"
      },
      "source": [
        "plt.boxplot([5,6,7,7,8])"
      ],
      "execution_count": null,
      "outputs": [
        {
          "output_type": "execute_result",
          "data": {
            "text/plain": [
              "{'boxes': [<matplotlib.lines.Line2D at 0x7f7e78c65a50>],\n",
              " 'caps': [<matplotlib.lines.Line2D at 0x7f7e78675e90>,\n",
              "  <matplotlib.lines.Line2D at 0x7f7e7867f410>],\n",
              " 'fliers': [<matplotlib.lines.Line2D at 0x7f7e7867ff10>],\n",
              " 'means': [],\n",
              " 'medians': [<matplotlib.lines.Line2D at 0x7f7e7867f990>],\n",
              " 'whiskers': [<matplotlib.lines.Line2D at 0x7f7e78675410>,\n",
              "  <matplotlib.lines.Line2D at 0x7f7e78675950>]}"
            ]
          },
          "metadata": {
            "tags": []
          },
          "execution_count": 2
        },
        {
          "output_type": "display_data",
          "data": {
            "image/png": "[encoded data removed]",
            "text/plain": [
              "<Figure size 432x288 with 1 Axes>"
            ]
          },
          "metadata": {
            "tags": [],
            "needs_background": "light"
          }
        }
      ]
    },
    {
      "cell_type": "markdown",
      "metadata": {
        "id": "H9YvPKbvBLZf"
      },
      "source": [
        ""
      ]
    }
  ]
}