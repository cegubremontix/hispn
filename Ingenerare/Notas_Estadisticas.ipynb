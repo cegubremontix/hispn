{
  "nbformat": 4,
  "nbformat_minor": 0,
  "metadata": {
    "colab": {
      "name": "Notas Estadisticas.ipynb",
      "provenance": [],
      "toc_visible": true,
      "authorship_tag": "ABX9TyNex9UdaSd5RdI5+M/OaPxo",
      "include_colab_link": true
    },
    "kernelspec": {
      "name": "python3",
      "display_name": "Python 3"
    },
    "language_info": {
      "name": "python"
    }
  },
  "cells": [
    {
      "cell_type": "markdown",
      "metadata": {
        "id": "view-in-github",
        "colab_type": "text"
      },
      "source": [
        "<a href=\"https://colab.research.google.com/github/dbremont/Notas/blob/main/Ingenerare/Notas_Estadisticas.ipynb\" target=\"_parent\"><img src=\"https://colab.research.google.com/assets/colab-badge.svg\" alt=\"Open In Colab\"/></a>"
      ]
    },
    {
      "cell_type": "markdown",
      "metadata": {
        "id": "5pY5Dq1f1BX-"
      },
      "source": [
        "Priority Concepts\n",
        "\n",
        "- Hypotesis\n",
        "- Statistical Test\n",
        "- P-value\n",
        "- Variables in modelling reality\n",
        "  - From each places do we optain data.\n",
        "  "
      ]
    },
    {
      "cell_type": "markdown",
      "metadata": {
        "id": "jG1LiMxny7vK"
      },
      "source": [
        "## Descriptive Statistics"
      ]
    },
    {
      "cell_type": "markdown",
      "metadata": {
        "id": "3U6C7p6n0Yer"
      },
      "source": [
        "**Data Types**\n",
        "In this video, two data types are introduced: Quantitative and Categorical.\n",
        "\n",
        "- **Quantitative** data takes on numeric values that allow us to perform mathematical operations (like the number of dogs).\n",
        "\n",
        "- **Categorical** are used to label a group or set of items (like dog breeds - Collies, Labs, Poodles, etc.).\n",
        "\n",
        "\n",
        "Ejercicio?\n",
        "\n",
        "- Codigo Postal: Quantitativa vs Catagorica \n",
        "- Hay mas tipos de datos como imagenes, videos, texto, redes, ...\n",
        "\n"
      ]
    },
    {
      "cell_type": "markdown",
      "metadata": {
        "id": "SSU8RPt_07dQ"
      },
      "source": [
        "**Categorical Ordinal** vs. **Categorical Nominal**\n",
        "\n",
        "We can divide categorical data further into two types: Ordinal and Nominal.\n",
        "\n",
        "-  **Categorical Ordinal** data take on a ranked ordering (like a ranked interaction on a scale from Very Poor to Very Good with the dogs).\n",
        "\n",
        "- **Categorical Nominal** data do not have an order or ranking (like the breeds of the dog).\n"
      ]
    },
    {
      "cell_type": "markdown",
      "metadata": {
        "id": "ml6j2Nxc2Ume"
      },
      "source": [
        "**Continuous vs. Discrete**\n",
        "\n",
        "We can think of quantitative data as being either continuous or discrete.\n",
        "\n",
        "Continuous data can be split into smaller and smaller units, and still a smaller unit exists. An example of this is the age of the dog - we can measure the units of the age in years, months, days, hours, seconds, but there are still smaller units that could be associated with the age.\n",
        "\n",
        "Discrete data only takes on countable values. The number of dogs we interact with is an example of a discrete data type."
      ]
    },
    {
      "cell_type": "markdown",
      "metadata": {
        "id": "lVQazG1_2-BO"
      },
      "source": [
        "Continous Variable\n",
        "\n",
        "A variable that can take any real value bewteen its defined range."
      ]
    },
    {
      "cell_type": "markdown",
      "metadata": {
        "id": "HWJJiebt5ssj"
      },
      "source": [
        "[**Summary Statistics**](https://en.wikipedia.org/wiki/Summary_statistics)\n",
        "\n",
        "- [Measures of Centrality](https://en.wikipedia.org/wiki/Centrality): Whats the average value in a dataset.\n",
        "\n",
        "- [Measures of Spread](https://en.wikipedia.org/wiki/Statistical_dispersion): How the values in a dataset differ.\n",
        "\n",
        "- Some types:\n",
        "  - Median,\n",
        "  - Mean,\n",
        "  - Mode,\n",
        "  - ..."
      ]
    },
    {
      "cell_type": "markdown",
      "metadata": {
        "id": "UuNpiLgwBPCs"
      },
      "source": [
        "**Notation**\n",
        "\n",
        "[Notation Recap](https://classroom.udacity.com/nanodegrees/nd880/parts/c092c850-2aa3-44ec-9e8b-1a599e33e869/modules/6c3fdd94-c269-47d3-ad3c-2dcb793a1c24/lessons/2e4f9313-11d5-4ecd-9af7-b4b6680d075a/concepts/1db965b6-1e00-4dfb-aa9c-bbfbe56aa33e)\n",
        "\n",
        "**Random Variables**\n",
        "\n",
        "\n",
        "A random variable is a placeholder for the possible values of some process (mostly... the term 'some process' is a bit ambiguous). As was stated before, notation is useful in that it helps us take complex ideas and simplify (often to a single letter or single symbol). We see random variables represented by capital letters ($X$, $Y$, or $Z$ are common ways to represent a random variable).\n",
        "\n",
        "We might have the random variable $X$, which is a holder for the possible values of the amount of time someone spends on our site. Or the random variable $Y$, which is a holder for the possible values of whether or not an individual purchases a product.\n",
        "\n",
        "$X$ is 'a holder' of the values that could possibly occur for the amount of time spent on our website. Any number from 0 to infinity really.\n",
        "\n",
        "\n",
        "**Lowercase Letters**\n",
        "\n",
        "Observe values of the random variables. $x_n$\n",
        "\n",
        "Median notation $ \\bar{x} $ : \n",
        "\n",
        "- $  \\bar{x} =  \\frac{1}{n}  \\sum_{i=1}^n{x_i}$\n"
      ]
    },
    {
      "cell_type": "markdown",
      "metadata": {
        "id": "qsrdb4gWJtX8"
      },
      "source": [
        "## Spread (Dispersion)\n",
        "\n",
        "Five Number Summary"
      ]
    },
    {
      "cell_type": "markdown",
      "metadata": {
        "id": "6Fi_hMXbBDda"
      },
      "source": [
        "##  Plots"
      ]
    },
    {
      "cell_type": "markdown",
      "metadata": {
        "id": "p0Cybbx5BHNX"
      },
      "source": [
        "### Boxplot"
      ]
    },
    {
      "cell_type": "code",
      "metadata": {
        "id": "JwQ2U_jF82Hi"
      },
      "source": [
        "from matplotlib import pyplot as plt"
      ],
      "execution_count": 1,
      "outputs": []
    },
    {
      "cell_type": "code",
      "metadata": {
        "id": "eZQoeSZr86-j",
        "outputId": "40c4314e-57d4-4c19-9c33-bfb01a41dbce",
        "colab": {
          "base_uri": "https://localhost:8080/",
          "height": 406
        }
      },
      "source": [
        "plt.boxplot([5,6,7,7,8])"
      ],
      "execution_count": 2,
      "outputs": [
        {
          "output_type": "execute_result",
          "data": {
            "text/plain": [
              "{'boxes': [<matplotlib.lines.Line2D at 0x7f7e78c65a50>],\n",
              " 'caps': [<matplotlib.lines.Line2D at 0x7f7e78675e90>,\n",
              "  <matplotlib.lines.Line2D at 0x7f7e7867f410>],\n",
              " 'fliers': [<matplotlib.lines.Line2D at 0x7f7e7867ff10>],\n",
              " 'means': [],\n",
              " 'medians': [<matplotlib.lines.Line2D at 0x7f7e7867f990>],\n",
              " 'whiskers': [<matplotlib.lines.Line2D at 0x7f7e78675410>,\n",
              "  <matplotlib.lines.Line2D at 0x7f7e78675950>]}"
            ]
          },
          "metadata": {
            "tags": []
          },
          "execution_count": 2
        },
        {
          "output_type": "display_data",
          "data": {
            "image/png": "[encoded data removed]",
            "text/plain": [
              "<Figure size 432x288 with 1 Axes>"
            ]
          },
          "metadata": {
            "tags": [],
            "needs_background": "light"
          }
        }
      ]
    },
    {
      "cell_type": "markdown",
      "metadata": {
        "id": "H9YvPKbvBLZf"
      },
      "source": [
        ""
      ]
    }
  ]
}