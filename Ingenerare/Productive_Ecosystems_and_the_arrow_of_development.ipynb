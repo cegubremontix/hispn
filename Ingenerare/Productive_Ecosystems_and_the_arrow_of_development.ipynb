{
  "nbformat": 4,
  "nbformat_minor": 0,
  "metadata": {
    "colab": {
      "name": "Productive Ecosystems and the arrow of development.ipynb",
      "provenance": [],
      "authorship_tag": "ABX9TyOvk+j2d8E/7dt90TyCsD8v",
      "include_colab_link": true
    },
    "kernelspec": {
      "name": "python3",
      "display_name": "Python 3"
    },
    "language_info": {
      "name": "python"
    }
  },
  "cells": [
    {
      "cell_type": "markdown",
      "metadata": {
        "id": "view-in-github",
        "colab_type": "text"
      },
      "source": [
        "<a href=\"https://colab.research.google.com/github/dbremont/Notas/blob/main/Ingenerare/Productive_Ecosystems_and_the_arrow_of_development.ipynb\" target=\"_parent\"><img src=\"https://colab.research.google.com/assets/colab-badge.svg\" alt=\"Open In Colab\"/></a>"
      ]
    },
    {
      "cell_type": "markdown",
      "metadata": {
        "id": "onSF2kOJ28cw"
      },
      "source": [
        "- [Productive Ecosystems and the arrow of development](https://www.nature.com/articles/s41467-021-21689-0)"
      ]
    }
  ]
}