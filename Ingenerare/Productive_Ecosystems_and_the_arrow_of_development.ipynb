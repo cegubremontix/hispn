{
  "nbformat": 4,
  "nbformat_minor": 0,
  "metadata": {
    "colab": {
      "name": "Productive Ecosystems and the arrow of development.ipynb",
      "provenance": [],
      "authorship_tag": "ABX9TyOtaUj/7wglDxaLfAPxXkwn",
      "include_colab_link": true
    },
    "kernelspec": {
      "name": "python3",
      "display_name": "Python 3"
    },
    "language_info": {
      "name": "python"
    }
  },
  "cells": [
    {
      "cell_type": "markdown",
      "metadata": {
        "id": "view-in-github",
        "colab_type": "text"
      },
      "source": [
        "<a href=\"https://colab.research.google.com/github/dbremont/Notas/blob/main/Ingenerare/Productive_Ecosystems_and_the_arrow_of_development.ipynb\" target=\"_parent\"><img src=\"https://colab.research.google.com/assets/colab-badge.svg\" alt=\"Open In Colab\"/></a>"
      ]
    },
    {
      "cell_type": "markdown",
      "metadata": {
        "id": "onSF2kOJ28cw"
      },
      "source": [
        "- [Productive Ecosystems and the arrow of development](https://www.nature.com/articles/s41467-021-21689-0)"
      ]
    },
    {
      "cell_type": "markdown",
      "metadata": {
        "id": "FZq55ONRu4m1"
      },
      "source": [
        "First Pass\n",
        "\n",
        "**Abstract**\n",
        "\n",
        "Economic growth is associated with the diversification of economic activities, which can be observed via the evolution of product export baskets. \n",
        "\n",
        "Exporting a new product is dependent on having, and acquiring, a specific set of capabilities, making the diversification process path-dependent. \n",
        "\n",
        "Taking an **agnostic view on the identity of the capabilities?**, here we derive a **probabilistic model** for the **directed dynamical process of capability accumulation and product diversification of countries**.\n",
        "\n",
        "**Using international trade data**, we identify the **set of pre-existing products, the product Ecosystem**, that enables a product to be exported competitively. \n",
        "\n",
        "\n",
        "**Results**\n",
        "\n",
        "We construct a **directed network of products, the Eco Space**, where the edge weight corresponds to **capability overlap?**. \n",
        "\n",
        "- We uncover a modular structure, and show that low- and middle-income countries move from product communities dominated by small Ecosystem products to advanced (large Ecosystem) product clusters over time. \n",
        "\n",
        "- We show that our network model is predictive of product appearances.\n",
        "\n",
        "**Introduction**\n",
        "\n",
        "**Maths**\n",
        "\n",
        "$M_{n, i} =\n",
        "  \\begin{cases} \n",
        "      1 &  \\text{product } i \\text{ is present in country } n \\\\\n",
        "      0 & \\text{otherwise}\n",
        "  \\end{cases}\n",
        "$\n",
        "\n",
        "- $M_{n, i}$ is a matrix that represents the products that a country produces.\n",
        "\n",
        "$J_{n, i} =\n",
        "  \\begin{cases} \n",
        "      1 &  \\text{product } i \\text{ is appears in country } n \\\\\n",
        "      0 & \\text{otherwise}\n",
        "  \\end{cases}\n",
        "$\n",
        "\n",
        "- $J_{n, i}$ is a matrix that we want to predict, knowing  $M_{n, i}$.\n",
        "\n",
        "- Matrix Transpose\n",
        "\n",
        "- Probit model\n",
        "\n",
        "- ∥∥1 denotes the Euclidean 1-norm and T denotes the transpose\n",
        "\n",
        "- [Norm (mathematics)](https://en.wikipedia.org/wiki/Norm_(mathematics))\n",
        "\n",
        "- Apply Bayes’ Rule.\n",
        "\n",
        "**Conclusions**\n",
        "\n",
        "**References**\n",
        "\n"
      ]
    }
  ]
}