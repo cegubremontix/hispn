{
  "nbformat": 4,
  "nbformat_minor": 0,
  "metadata": {
    "colab": {
      "name": "Computer Security.ipynb",
      "provenance": [],
      "authorship_tag": "ABX9TyPh19mQMoEbIauYK4Pp7k1d",
      "include_colab_link": true
    },
    "kernelspec": {
      "name": "python3",
      "display_name": "Python 3"
    },
    "language_info": {
      "name": "python"
    }
  },
  "cells": [
    {
      "cell_type": "markdown",
      "metadata": {
        "id": "view-in-github",
        "colab_type": "text"
      },
      "source": [
        "<a href=\"https://colab.research.google.com/github/dbremont/Notas/blob/main/Ingenerare/Computer_Security.ipynb\" target=\"_parent\"><img src=\"https://colab.research.google.com/assets/colab-badge.svg\" alt=\"Open In Colab\"/></a>"
      ]
    },
    {
      "cell_type": "markdown",
      "metadata": {
        "id": "Elz31sjbpwAe"
      },
      "source": [
        "- [CS 161: Computer Security](https://cs161.org/)\n",
        "\n",
        "- [6.858: Computer Systems Security](https://css.csail.mit.edu/6.858/2020/)\n",
        "\n",
        "- [Intro to Information Security](https://www.udacity.com/course/intro-to-information-security--ud459)"
      ]
    }
  ]
}