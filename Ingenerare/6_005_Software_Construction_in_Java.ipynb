{
  "nbformat": 4,
  "nbformat_minor": 0,
  "metadata": {
    "colab": {
      "name": "6.005 Software Construction in Java.ipynb",
      "provenance": []
    },
    "kernelspec": {
      "name": "python3",
      "display_name": "Python 3"
    },
    "language_info": {
      "name": "python"
    }
  },
  "cells": [
    {
      "cell_type": "markdown",
      "metadata": {
        "id": "ztdOJr4SfxCN"
      },
      "source": [
        "# 6.005 Software Construction in Java"
      ]
    },
    {
      "cell_type": "markdown",
      "metadata": {
        "id": "4DYiRqCuOhQ1"
      },
      "source": [
        "## Primario"
      ]
    },
    {
      "cell_type": "markdown",
      "metadata": {
        "id": "qSPWydqFOlGh"
      },
      "source": [
        "* [6.005.1x Software Construction in Java](https://openlearninglibrary.mit.edu/courses/course-v1:MITx+6.005.1x+3T2016/about)\n",
        "\n",
        "* [6.005.2x Advanced Software Construction in Java](https://openlearninglibrary.mit.edu/courses/course-v1:MITx+6.005.2x+1T2017/about)\n",
        "\n",
        "* [6.031: Software Construction](https://web.mit.edu/6.031/www/sp21/)\n",
        "\n",
        "* [Object-Oriented Program Design and Software Engineering](http://www.infocobuild.com/education/audio-video-courses/computer-science/object-oriented-programming-arsdigita.html)"
      ]
    },
    {
      "cell_type": "markdown",
      "metadata": {
        "id": "KxjCRzdvOjbv"
      },
      "source": [
        "## Secundario"
      ]
    },
    {
      "cell_type": "markdown",
      "metadata": {
        "id": "rt5asSLgfyPr"
      },
      "source": [
        "* [The Structure and Interpretation of Computer Programs](http://www.infocobuild.com/education/audio-video-courses/computer-science/computer-programs-arsdigita.html)\n",
        "\n",
        "- [CS 190: Software Design Studio](https://web.stanford.edu/~ouster/cgi-bin/cs190-winter21/index.php)\n",
        "\n",
        "- [CSCB07 Software Design](http://www.cs.toronto.edu/~shiva/cscb07/index.html)\n",
        "\n",
        "- [Foundations of Software Engineering](https://cmu-313.github.io/?)\n",
        "\n",
        "- [Software Debugging](https://classroom.udacity.com/courses/cs259)\n",
        "\n",
        "- [Software Testing](https://classroom.udacity.com/courses/cs258)\n",
        "\n",
        "- [CSE 599W: Systems Verification](https://courses.cs.washington.edu/courses/cse599w/16sp/)\n",
        "\n",
        "- [CIS 500: Software Foundations](https://www.seas.upenn.edu/~cis500/current/index.html)\n",
        "\n",
        "- [CIS 670, Fall 2015: Verified Systems Software](https://www.cis.upenn.edu/~bcpierce/courses/670Fall15/)\n",
        "\n",
        "- [6.888: Certified Systems Software](http://css.csail.mit.edu/6.888/2015/)\n",
        "\n",
        "- [6.826 Principles of Computer Systems 2004](http://web.mit.edu/6.826/www/notes/)\n",
        "\n",
        "- [Designing RESTful APIs](https://classroom.udacity.com/courses/ud388)\n",
        "\n",
        "- [Software Analysis & Testing](https://www.udacity.com/course/software-analysis-testing--ud333)\n",
        "\n",
        "- [Software Analysis](https://www.youtube.com/playlist?list=PLF3-CvSRq2SYXEiS80KuZQ80q8K2aHLQX)\n",
        "\n",
        "- [Formal Methods of Software Design](http://www.cs.utoronto.ca/~hehner/FMSD/)\n",
        "\n",
        "- [CSC302: Engineering Large Software Systems](https://www.cs.toronto.edu/~sme/CSC302/index.html)\n",
        "\n",
        "- [CSC444F: Software Engineering I](https://www.cs.toronto.edu/~sme/CSC444F/)\n",
        "\n",
        "- [CSC340F: Requirements Engineering](https://www.cs.toronto.edu/~sme/CSC340F/)\n",
        "\n",
        "- [Software Engineering](https://web.eecs.umich.edu/~weimerw/481/)"
      ]
    },
    {
      "cell_type": "markdown",
      "metadata": {
        "id": "voUFrVTiw6sy"
      },
      "source": [
        "## Static Typing"
      ]
    },
    {
      "cell_type": "markdown",
      "metadata": {
        "id": "kHlLlfJNw-AK"
      },
      "source": [
        "- [Reading 1: Static Checking](http://web.mit.edu/6.031/www/sp21/classes/01-static-checking/)\n",
        "- Ya esta pasado a anki.\n",
        "\n",
        "- [A community-driven list of awesome linters](https://github.com/caramelomartins/awesome-linters)\n",
        "\n",
        "- [A curated list of static analysis (SAST) tools for all programming languages, config files, build tools, and more](https://github.com/analysis-tools-dev/static-analysis)\n",
        "\n",
        "- [Static program analysis](https://en.wikipedia.org/wiki/Static_program_analysis)\n",
        "\n",
        "- [Program Analysis an Apetizer](https://arxiv.org/pdf/2012.10086.pdf)\n",
        "\n",
        "- [Principles of Program Analysis](http://faculty.sist.shanghaitech.edu.cn/faculty/songfu/cav/PPA.pdf)\n",
        "\n",
        "- [Extended Static Checking for Java](https://www.cs.utexas.edu/~isil/cs389L/esc-pldi02.pdf)\n",
        "\n",
        "- [Our journey to type checking 4 million lines of Python](https://dropbox.tech/application/our-journey-to-type-checking-4-million-lines-of-python)"
      ]
    },
    {
      "cell_type": "markdown",
      "metadata": {
        "id": "SRvaFpgA6fsi"
      },
      "source": [
        "## Testing\n"
      ]
    },
    {
      "cell_type": "markdown",
      "metadata": {
        "id": "LMbQXBy36hIx"
      },
      "source": [
        "[Ir](http://web.mit.edu/6.031/www/sp21/classes/03-testing/#reading_3_testing)"
      ]
    }
  ]
}