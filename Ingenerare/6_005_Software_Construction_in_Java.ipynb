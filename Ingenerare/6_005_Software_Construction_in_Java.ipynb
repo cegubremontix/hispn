{
  "nbformat": 4,
  "nbformat_minor": 0,
  "metadata": {
    "colab": {
      "name": "6.005 Software Construction in Java.ipynb",
      "provenance": [],
      "toc_visible": true
    },
    "kernelspec": {
      "name": "python3",
      "display_name": "Python 3"
    },
    "language_info": {
      "name": "python"
    }
  },
  "cells": [
    {
      "cell_type": "markdown",
      "metadata": {
        "id": "ztdOJr4SfxCN"
      },
      "source": [
        "# 6.005 Software Engineering in Java"
      ]
    },
    {
      "cell_type": "markdown",
      "metadata": {
        "id": "4DYiRqCuOhQ1"
      },
      "source": [
        "## Primario"
      ]
    },
    {
      "cell_type": "markdown",
      "metadata": {
        "id": "qSPWydqFOlGh"
      },
      "source": [
        "[6.031: Software Construction](https://web.mit.edu/6.031/www/sp21/)\n",
        "\n",
        "[Software Engineering](https://web.eecs.umich.edu/~weimerw/481/)\n",
        "\n",
        "[Formal Methods of Software Design](http://www.cs.utoronto.ca/~hehner/FMSD/)\n",
        "\n",
        "[Software Debugging](https://classroom.udacity.com/courses/cs259)\n",
        "\n",
        "[Software Analysis & Testing](https://www.udacity.com/course/software-analysis-testing--ud333)"
      ]
    },
    {
      "cell_type": "markdown",
      "metadata": {
        "id": "KxjCRzdvOjbv"
      },
      "source": [
        "## Secundario"
      ]
    },
    {
      "cell_type": "markdown",
      "metadata": {
        "id": "rt5asSLgfyPr"
      },
      "source": [
        "[Object-Oriented Program Design and Software Engineering](http://www.infocobuild.com/education/audio-video-courses/computer-science/object-oriented-programming-arsdigita.html)\n",
        "\n",
        "[Parallel, Concurrent, and Distributed Programming in Java Specialization](https://www.coursera.org/specializations/pcdp)"
      ]
    },
    {
      "cell_type": "markdown",
      "metadata": {
        "id": "voUFrVTiw6sy"
      },
      "source": [
        "## Static Typing"
      ]
    },
    {
      "cell_type": "markdown",
      "metadata": {
        "id": "kHlLlfJNw-AK"
      },
      "source": [
        "- [Reading 1: Static Checking](http://web.mit.edu/6.031/www/sp21/classes/01-static-checking/)\n",
        "- Ya esta pasado a anki.\n",
        "\n",
        "- [A community-driven list of awesome linters](https://github.com/caramelomartins/awesome-linters)\n",
        "\n",
        "- [A curated list of static analysis (SAST) tools for all programming languages, config files, build tools, and more](https://github.com/analysis-tools-dev/static-analysis)\n",
        "\n",
        "- [Static program analysis](https://en.wikipedia.org/wiki/Static_program_analysis)\n",
        "\n",
        "- [Program Analysis an Apetizer](https://arxiv.org/pdf/2012.10086.pdf)\n",
        "\n",
        "- [Principles of Program Analysis](http://faculty.sist.shanghaitech.edu.cn/faculty/songfu/cav/PPA.pdf)\n",
        "\n",
        "- [Extended Static Checking for Java](https://www.cs.utexas.edu/~isil/cs389L/esc-pldi02.pdf)\n",
        "\n",
        "- [Our journey to type checking 4 million lines of Python](https://dropbox.tech/application/our-journey-to-type-checking-4-million-lines-of-python)"
      ]
    },
    {
      "cell_type": "markdown",
      "metadata": {
        "id": "SRvaFpgA6fsi"
      },
      "source": [
        "## Testing\n",
        "\n",
        "Takes the Topics fro mhere\n",
        "\n",
        "[Ir](http://web.mit.edu/6.031/www/sp21/classes/03-testing/#reading_3_testing)\n"
      ]
    },
    {
      "cell_type": "markdown",
      "metadata": {
        "id": "Hph0mCRKHR8V"
      },
      "source": [
        "Validation\n",
        "\n",
        "Why software testing is hard\n",
        "\n",
        "Test-first programming\n",
        "\n",
        "Systematic testing\n",
        "\n",
        "Choosing test cases by partitioning\n",
        "\n",
        "Automated unit testing with JUnit\n",
        "\n",
        "Documenting your testing strategy\n",
        "\n",
        "Black box and glass box testing\n",
        "\n",
        "Coverage\n",
        "\n",
        "Unit and integration testing\n",
        "\n",
        "Automated regression testing\n",
        "\n",
        "Iterative test-first programming\n"
      ]
    },
    {
      "cell_type": "markdown",
      "metadata": {
        "id": "T8HITasRDcSr"
      },
      "source": [
        "## Code Review\n",
        "[Ir](https://web.mit.edu/6.031/www/sp21/classes/04-code-review/)"
      ]
    },
    {
      "cell_type": "markdown",
      "metadata": {
        "id": "0uumQClyHX2C"
      },
      "source": [
        "\n",
        "Code review\n",
        "\n",
        "Smelly example #1\n",
        "\n",
        "Don’t repeat yourself (DRY)\n",
        "\n",
        "Comments where needed\n",
        "\n",
        "Fail fast\n",
        "\n",
        "Avoid magic numbers\n",
        "\n",
        "One purpose for each variable\n",
        "\n",
        "Smelly example #2\n",
        "\n",
        "Use good names\n",
        "\n",
        "Use whitespace to help the reader\n",
        "\n",
        "Smelly example #3\n",
        "\n",
        "Don’t use global variables\n",
        "\n",
        "Methods should return results, not print them\n",
        "\n",
        "Avoid special-case code\n",
        "\n",
        "How this makes softawre:\n",
        "\n",
        "- safe from bugs,\n",
        "- easy to understand,\n",
        "- ready for change"
      ]
    },
    {
      "cell_type": "markdown",
      "metadata": {
        "id": "CpdNyj35DhPg"
      },
      "source": [
        "## Version Control\n",
        "[Ir](https://web.mit.edu/6.031/www/sp21/classes/05-version-control/)"
      ]
    },
    {
      "cell_type": "markdown",
      "metadata": {
        "id": "BsEuNBY-V3kK"
      },
      "source": [
        "Introduction\n",
        "\n",
        "Inventing version control\n",
        "\n",
        "Git\n",
        "\n",
        "Copy an object graph with git clone\n",
        "\n",
        "What else is in the object graph?\n",
        "\n",
        "Add to the object graph with git commit\n",
        "\n",
        "Send & receive object graphs with git push & git pull\n",
        "\n",
        "Merging\n",
        "\n",
        "Why do commits look like diffs?\n",
        "\n",
        "Version control and the big three\n",
        "\n",
        "More practice"
      ]
    },
    {
      "cell_type": "markdown",
      "metadata": {
        "id": "562eqU4qDlcW"
      },
      "source": [
        "## Specifications\n",
        "[Ir](https://web.mit.edu/6.031/www/sp21/classes/06-specifications/)"
      ]
    },
    {
      "cell_type": "markdown",
      "metadata": {
        "id": "LLIUZT0LV6AR"
      },
      "source": [
        "Introduction\n",
        "\n",
        "Java needed for this reading\n",
        "\n",
        "Behavioral equivalence\n",
        "\n",
        "Why specifications?\n",
        "\n",
        "Specification structure\n",
        "\n",
        "Specifications in Java\n",
        "\n",
        "Do not allow null references\n",
        "\n",
        "Include emptiness\n",
        "\n",
        "Testing and specifications\n",
        "\n",
        "Specifications for mutating methods\n",
        "\n",
        "Exceptions\n",
        "\n",
        "Checked and unchecked exceptions\n",
        "\n",
        "Summary\n",
        "\n",
        "More practice"
      ]
    },
    {
      "cell_type": "markdown",
      "metadata": {
        "id": "Wlanfu92Dp-s"
      },
      "source": [
        "## Designing Specifications\n",
        "[Ir](https://web.mit.edu/6.031/www/sp21/classes/07-designing-specs/)"
      ]
    },
    {
      "cell_type": "markdown",
      "metadata": {
        "id": "AmU_Cx_jWDop"
      },
      "source": [
        "Introduction\n",
        "\n",
        "Deterministic vs. underdetermined specs\n",
        "\n",
        "Declarative vs. operational specs\n",
        "\n",
        "Stronger vs. weaker specs\n",
        "\n",
        "Diagramming specifications\n",
        "\n",
        "Designing good specifications\n",
        "\n",
        "Precondition or postcondition?\n",
        "\n",
        "About access control\n",
        "\n",
        "About static vs. instance methods\n",
        "\n",
        "Summary\n",
        "\n",
        "More practice"
      ]
    },
    {
      "cell_type": "markdown",
      "metadata": {
        "id": "6On6oQnjDzNR"
      },
      "source": [
        "## Mutability & Immutability\n",
        "[Ir](https://web.mit.edu/6.031/www/sp21/classes/08-immutability/)"
      ]
    },
    {
      "cell_type": "markdown",
      "metadata": {
        "id": "c0ThishfWFcJ"
      },
      "source": [
        "Creating and using objects\n",
        "\n",
        "Mutability\n",
        "\n",
        "Risks of mutation\n",
        "\n",
        "Aliasing is what makes mutable types risky\n",
        "\n",
        "Specifications for mutating methods\n",
        "\n",
        "Iterating over arrays and lists\n",
        "\n",
        "Mutation undermines an iterator\n",
        "\n",
        "Mutation and contracts\n",
        "\n",
        "Immutability and performance\n",
        "\n",
        "Useful immutable types\n",
        "\n",
        "Summary\n",
        "\n",
        "More practice"
      ]
    },
    {
      "cell_type": "markdown",
      "metadata": {
        "id": "n1oBjvJjD5Dk"
      },
      "source": [
        "## Avoiding Debugging\n",
        "[Ir](https://web.mit.edu/6.031/www/sp21/classes/09-avoiding-debugging/)"
      ]
    },
    {
      "cell_type": "markdown",
      "metadata": {
        "id": "qbxhY3rLWJM5"
      },
      "source": [
        "First defense: make bugs impossible\n",
        "\n",
        "Second defense: localize bugs\n",
        "\n",
        "Assertions\n",
        "\n",
        "What to assert\n",
        "\n",
        "What not to assert\n",
        "\n",
        "Incremental development\n",
        "\n",
        "Modularity & encapsulation\n",
        "\n",
        "More practice"
      ]
    },
    {
      "cell_type": "markdown",
      "metadata": {
        "id": "LuON9XiSD9-z"
      },
      "source": [
        "## Abstract Data Types\n",
        "[Ir](https://web.mit.edu/6.031/www/sp21/classes/10-abstract-data-types/)"
      ]
    },
    {
      "cell_type": "markdown",
      "metadata": {
        "id": "gJqvRYuDWLyQ"
      },
      "source": [
        "Introduction\n",
        "\n",
        "What abstraction means\n",
        "\n",
        "Classifying types and operations\n",
        "\n",
        "An abstract type is defined by its operations\n",
        "\n",
        "Designing an abstract type\n",
        "\n",
        "Representation independence\n",
        "\n",
        "Realizing ADT concepts in Java\n",
        "\n",
        "Testing an abstract data type\n",
        "\n",
        "Summary\n",
        "More practice"
      ]
    },
    {
      "cell_type": "markdown",
      "metadata": {
        "id": "PvZIylXaEFPn"
      },
      "source": [
        "## Abstraction Functions & Rep Invariants\n",
        "[Ir](https://web.mit.edu/6.031/www/sp21/classes/11-abstraction-functions-rep-invariants/)"
      ]
    },
    {
      "cell_type": "markdown",
      "metadata": {
        "id": "20zdIAGtWPla"
      },
      "source": [
        "Invariants\n",
        "\n",
        "Rep invariant and abstraction function\n",
        "\n",
        "Beneficent mutation\n",
        "\n",
        "Documenting the AF, RI, and safety from rep exposure\n",
        "\n",
        "ADT invariants replace preconditions\n",
        "\n",
        "Summary\n",
        "\n",
        "More practice"
      ]
    },
    {
      "cell_type": "markdown",
      "metadata": {
        "id": "NEbQ-fAOEHI-"
      },
      "source": [
        "## Interfaces, Generics, & Enums\n",
        "[Ir](https://web.mit.edu/6.031/www/sp21/classes/12-interfaces-generics-enums/)"
      ]
    },
    {
      "cell_type": "markdown",
      "metadata": {
        "id": "cWtfLhJJWRdZ"
      },
      "source": [
        "Interfaces\n",
        "\n",
        "Subtypes\n",
        "\n",
        "Example: MyString\n",
        "\n",
        "Why interfaces?\n",
        "\n",
        "Subclassing\n",
        "\n",
        "Generic types\n",
        "\n",
        "Enumerations\n",
        "\n",
        "ADTs in non-OOP languages\n",
        "\n",
        "ADTs in Java\n",
        "\n",
        "Summary\n",
        "\n",
        "More practice"
      ]
    },
    {
      "cell_type": "markdown",
      "metadata": {
        "id": "DRedg1AQEPcA"
      },
      "source": [
        "## Debugging\n",
        "[Ir](https://web.mit.edu/6.031/www/sp21/classes/13-debugging/)"
      ]
    },
    {
      "cell_type": "markdown",
      "metadata": {
        "id": "888DE-6DWUkg"
      },
      "source": [
        "Reproduce the bug\n",
        "\n",
        "Find the bug using the scientific method\n",
        "1. Study the data\n",
        "2. Hypothesize\n",
        "3. Experiment\n",
        "4. Repeat\n",
        "\n",
        "Fix the bug\n",
        "\n",
        "More practice\n"
      ]
    },
    {
      "cell_type": "markdown",
      "metadata": {
        "id": "7godLSYYVU2V"
      },
      "source": [
        "## Recursion\n",
        "[Ir](https://web.mit.edu/6.031/www/sp21/classes/14-recursion/)"
      ]
    },
    {
      "cell_type": "markdown",
      "metadata": {
        "id": "V_0VPWU9WiIr"
      },
      "source": [
        "Recursion\n",
        "\n",
        "Choosing the right decomposition for a problem\n",
        "\n",
        "Structure of recursive implementations\n",
        "\n",
        "Helper methods\n",
        "\n",
        "Choosing the right recursive subproblem\n",
        "Recursive problems vs. recursive data\n",
        "\n",
        "Mutual recursion\n",
        "\n",
        "Reentrant code\n",
        "\n",
        "When to use recursion rather than iteration\n",
        "\n",
        "Common mistakes in recursive implementations\n",
        "\n",
        "Summary\n",
        "\n",
        "More practice"
      ]
    },
    {
      "cell_type": "markdown",
      "metadata": {
        "id": "OzsUSufdVXBb"
      },
      "source": [
        "## Equality\n",
        "[Ir](https://web.mit.edu/6.031/www/sp21/classes/15-equality/)"
      ]
    },
    {
      "cell_type": "markdown",
      "metadata": {
        "id": "4qc-f7OOXElB"
      },
      "source": [
        "Introduction\n",
        "\n",
        "Equivalence relation\n",
        "\n",
        "Equality of immutable types\n",
        "\n",
        "== vs. equals()\n",
        "\n",
        "Implementing equals()\n",
        "\n",
        "The Object contract\n",
        "\n",
        "Equality of mutable types\n",
        "\n",
        "Breaking a HashSet’s rep invariant\n",
        "\n",
        "The final rule for equals() and hashCode()\n",
        "\n",
        "Summary\n",
        "\n",
        "More practice"
      ]
    },
    {
      "cell_type": "markdown",
      "metadata": {
        "id": "CerlgeCZVZID"
      },
      "source": [
        "## Recursive Data Types\n",
        "[Ir](https://web.mit.edu/6.031/www/sp21/classes/16-recursive-data-types/)"
      ]
    },
    {
      "cell_type": "markdown",
      "metadata": {
        "id": "60fErvxLXHqZ"
      },
      "source": [
        "Introduction\n",
        "\n",
        "Recursive functions\n",
        "\n",
        "Immutable lists\n",
        "\n",
        "Recursive datatype definitions\n",
        "\n",
        "Functions over recursive datatypes\n",
        "\n",
        "Rep independence and rep exposure revisited\n",
        "\n",
        "Null vs. empty\n",
        "\n",
        "Declared type vs. actual type\n",
        "\n",
        "Another example: Boolean formulas\n",
        "\n",
        "Backtracking search with immutability\n",
        "\n",
        "Summary\n",
        "\n",
        "More practice"
      ]
    },
    {
      "cell_type": "markdown",
      "metadata": {
        "id": "XZIDYqs4VbZq"
      },
      "source": [
        "## Regular Expressions & Grammars\n",
        "[Ir](https://web.mit.edu/6.031/www/sp21/classes/17-regex-grammars/)"
      ]
    },
    {
      "cell_type": "markdown",
      "metadata": {
        "id": "cO62OheCXZ7W"
      },
      "source": [
        "Introduction\n",
        "\n",
        "Grammars\n",
        "\n",
        "Parse trees\n",
        "\n",
        "Regular expressions\n",
        "\n",
        "Summary\n",
        "\n",
        "More practice"
      ]
    },
    {
      "cell_type": "markdown",
      "metadata": {
        "id": "NGTEGo6NVdPL"
      },
      "source": [
        "## Parsers\n",
        "[Ir](https://web.mit.edu/6.031/www/sp21/classes/18-parsers/)"
      ]
    },
    {
      "cell_type": "markdown",
      "metadata": {
        "id": "Z7AI_TgyXfZz"
      },
      "source": [
        "Parser generators\n",
        "\n",
        "A ParserLib grammar\n",
        "\n",
        "Whitespace\n",
        "\n",
        "Generating the parser\n",
        "\n",
        "Calling the parser\n",
        "\n",
        "Traversing the parse tree\n",
        "\n",
        "Constructing an abstract syntax tree\n",
        "\n",
        "Handling errors\n",
        "\n",
        "Left recursion and other ParserLib limitations\n",
        "\n",
        "Summary\n",
        "\n",
        "More practice"
      ]
    },
    {
      "cell_type": "markdown",
      "metadata": {
        "id": "NlZVRS7-Vfca"
      },
      "source": [
        "## Programming with ADTs\n",
        "[Ir](https://web.mit.edu/6.031/www/sp21/classes/19-programming-with-adts/)"
      ]
    },
    {
      "cell_type": "markdown",
      "metadata": {
        "id": "v-3W2bF7XndO"
      },
      "source": [
        "Introduction\n",
        "\n",
        "Recipes for programming\n",
        "\n",
        "Problem: matrix multiplication\n",
        "\n",
        "Spec\n",
        "\n",
        "Test\n",
        "\n",
        "Implement\n",
        "\n",
        "Summary\n",
        "\n",
        "More practice"
      ]
    },
    {
      "cell_type": "markdown",
      "metadata": {
        "id": "4sE9CwP5VhSK"
      },
      "source": [
        "## Concurrency\n",
        "[Ir](https://web.mit.edu/6.031/www/sp21/classes/20-concurrency/)"
      ]
    },
    {
      "cell_type": "markdown",
      "metadata": {
        "id": "vd3BiyiYXsKW"
      },
      "source": [
        "Concurrency\n",
        "\n",
        "Two models for concurrent programming\n",
        "\n",
        "Processes, threads, time-slicing\n",
        "\n",
        "Starting a thread in Java\n",
        "\n",
        "Anonymous classes\n",
        "\n",
        "Using an anonymous Runnable to start a thread\n",
        "\n",
        "Shared memory example\n",
        "\n",
        "Interleaving\n",
        "\n",
        "Race condition\n",
        "\n",
        "Tweaking the code won’t help\n",
        "\n",
        "Reordering\n",
        "\n",
        "Message passing example\n",
        "\n",
        "Concurrency is hard to test and debug\n",
        "\n",
        "Summary\n",
        "\n",
        "More practice"
      ]
    },
    {
      "cell_type": "markdown",
      "metadata": {
        "id": "CdKcNmErVjfT"
      },
      "source": [
        "## Thread Safety\n",
        "[Ir](https://web.mit.edu/6.031/www/sp21/classes/21-thread-safety/)"
      ]
    },
    {
      "cell_type": "markdown",
      "metadata": {
        "id": "Hd0GxX16Xx1w"
      },
      "source": [
        "What threadsafe means\n",
        "\n",
        "Strategy 1: confinement\n",
        "\n",
        "Strategy 2: immutability\n",
        "\n",
        "Strategy 3: using threadsafe data types\n",
        "\n",
        "How to make a safety argument\n",
        "\n",
        "Summary\n",
        "\n",
        "More practice"
      ]
    },
    {
      "cell_type": "markdown",
      "metadata": {
        "id": "2MpAX42FVlKb"
      },
      "source": [
        "## Locks & Synchronization\n",
        "[Ir](https://web.mit.edu/6.031/www/sp21/classes/22-locks/)"
      ]
    },
    {
      "cell_type": "markdown",
      "metadata": {
        "id": "z4O0bxNTX3bt"
      },
      "source": [
        "Introduction\n",
        "\n",
        "Synchronization\n",
        "\n",
        "Deadlock\n",
        "\n",
        "Developing a threadsafe abstract data type\n",
        "\n",
        "Locking\n",
        "\n",
        "Monitor pattern\n",
        "\n",
        "Thread safety argument with synchronization\n",
        "\n",
        "Atomic operations\n",
        "Designing a datatype for concurrency\n",
        "\n",
        "Deadlock rears its ugly head\n",
        "\n",
        "Concurrency in practice\n",
        "\n",
        "Summary\n",
        "\n",
        "More practice"
      ]
    },
    {
      "cell_type": "markdown",
      "metadata": {
        "id": "72fruxSyVm7S"
      },
      "source": [
        "## Queues & Message-Passing\n",
        "[Ir](https://web.mit.edu/6.031/www/sp21/classes/23-queues/)"
      ]
    },
    {
      "cell_type": "markdown",
      "metadata": {
        "id": "kte7_t40X98N"
      },
      "source": [
        "Two models for concurrency\n",
        "\n",
        "Message passing between threads\n",
        "\n",
        "Message passing example\n",
        "\n",
        "Stopping\n",
        "\n",
        "Thread safety arguments with message passing\n",
        "\n",
        "Race conditions\n",
        "\n",
        "Deadlock\n",
        "\n",
        "Summary\n",
        "\n",
        "More practice"
      ]
    },
    {
      "cell_type": "markdown",
      "metadata": {
        "id": "QFQuhdAaVo7q"
      },
      "source": [
        "## Sockets & Networking\n",
        "[Ir](https://web.mit.edu/6.031/www/sp21/classes/24-sockets-networking/)"
      ]
    },
    {
      "cell_type": "markdown",
      "metadata": {
        "id": "NCKviFhLYEDN"
      },
      "source": [
        "Client/server design pattern\n",
        "\n",
        "Sockets and streams\n",
        "\n",
        "Using network sockets in Java\n",
        "\n",
        "Wire protocols\n",
        "\n",
        "Testing client/server code\n",
        "\n",
        "Summary\n",
        "\n",
        "More practice"
      ]
    },
    {
      "cell_type": "markdown",
      "metadata": {
        "id": "InUq01INVqr2"
      },
      "source": [
        "## Callbacks\n",
        "[Ir](https://web.mit.edu/6.031/www/sp21/classes/25-callbacks/)"
      ]
    },
    {
      "cell_type": "markdown",
      "metadata": {
        "id": "wXItekoNYNcM"
      },
      "source": [
        "Input handling in a graphical user interface\n",
        "\n",
        "Callbacks\n",
        "\n",
        "Route handling in a web server\n",
        "\n",
        "First-class functions\n",
        "\n",
        "Concurrency in event processing systems\n",
        "\n",
        "Implementing an event source\n",
        "\n",
        "Summary\n",
        "\n",
        "More practice"
      ]
    },
    {
      "cell_type": "markdown",
      "metadata": {
        "id": "FqPYeqbAVqqu"
      },
      "source": [
        "## Map, Filter, Reduce\n",
        "[Ir](https://web.mit.edu/6.031/www/sp21/classes/26-map-filter-reduce/)\n",
        "\n"
      ]
    },
    {
      "cell_type": "markdown",
      "metadata": {
        "id": "OxSEpssIYz71"
      },
      "source": [
        "Introduction: an example\n",
        "\n",
        "Abstracting out control flow\n",
        "\n",
        "Map\n",
        "\n",
        "Method references\n",
        "\n",
        "Filter\n",
        "\n",
        "Reduce\n",
        "\n",
        "Back to the intro example\n",
        "\n",
        "Benefits of abstracting out control\n",
        "\n",
        "Summary\n",
        "\n",
        "More practice"
      ]
    },
    {
      "cell_type": "markdown",
      "metadata": {
        "id": "51flzbAxVt8J"
      },
      "source": [
        "## Little Languages I\n",
        "[Ir](https://web.mit.edu/6.031/www/sp21/classes/27-little-languages-1/)"
      ]
    },
    {
      "cell_type": "markdown",
      "metadata": {
        "id": "SZi1tE-DY4YR"
      },
      "source": [
        "Representing code as data\n",
        "\n",
        "Building languages to solve problems\n",
        "\n",
        "Music language\n",
        "\n",
        "To be continued\n",
        "\n",
        "More practice"
      ]
    },
    {
      "cell_type": "markdown",
      "metadata": {
        "id": "P_eekoCCVt6_"
      },
      "source": [
        "## Little Languages II\n",
        "[Ir](https://web.mit.edu/6.031/www/sp21/classes/28-little-languages-2/)"
      ]
    },
    {
      "cell_type": "markdown",
      "metadata": {
        "id": "mlKH9nAjZA1D"
      },
      "source": [
        "Functions on recursive types\n",
        "\n",
        "Pattern matching\n",
        "\n",
        "A function on a recursive type\n",
        "\n",
        "Visitor pattern\n",
        "\n",
        "Why visitor?\n",
        "\n",
        "Summary\n",
        "\n",
        "More practice"
      ]
    },
    {
      "cell_type": "markdown",
      "metadata": {
        "id": "AWL3jyhRDOjH"
      },
      "source": [
        "\n",
        "\n",
        "## Team Version Control\n",
        "[Ir](https://web.mit.edu/6.031/www/sp21/classes/29-team-version-control/)\n",
        "\n"
      ]
    },
    {
      "cell_type": "markdown",
      "metadata": {
        "id": "LE06T-HDZFZe"
      },
      "source": [
        "Git workflow\n",
        "\n",
        "Viewing commit history\n",
        "\n",
        "Graph of commits\n",
        "\n",
        "Disaster recovery\n",
        "\n",
        "Using version control in a team\n",
        "\n",
        "Team project\n",
        "\n",
        "More practice"
      ]
    },
    {
      "cell_type": "markdown",
      "metadata": {
        "id": "xnwW7LXqZaVX"
      },
      "source": [
        "## Terminologia"
      ]
    },
    {
      "cell_type": "markdown",
      "metadata": {
        "id": "TafAjtfKZLeB"
      },
      "source": [
        "abstract syntax tree\n",
        "\n",
        "abstraction\n",
        "\n",
        "abstraction function (AF)\n",
        "\n",
        "alias\n",
        "\n",
        "application programming interface (API)\n",
        "\n",
        "assertion\n",
        "\n",
        "atomic\n",
        "\n",
        "attribute\n",
        "\n",
        "automated testing\n",
        "\n",
        "base case\n",
        "\n",
        "behavioral equality\n",
        "\n",
        "behavioral equivalence\n",
        "\n",
        "beneficent mutation\n",
        "\n",
        "black box testing\n",
        "\n",
        "blocking, ×2\n",
        "\n",
        "blocking method\n",
        "\n",
        "boundary value\n",
        "\n",
        "buffer\n",
        "\n",
        "callback\n",
        "\n",
        "character encoding\n",
        "\n",
        "checked exception\n",
        "\n",
        "client, ×2\n",
        "\n",
        "code review\n",
        "\n",
        "commit\n",
        "\n",
        "composite pattern\n",
        "\n",
        "concrete syntax tree\n",
        "\n",
        "concurrency\n",
        "\n",
        "confinement\n",
        "\n",
        "connected socket\n",
        "\n",
        "coverage\n",
        "\n",
        "creator\n",
        "\n",
        "data abstraction\n",
        "\n",
        "deadlock\n",
        "\n",
        "declarative specification\n",
        "\n",
        "decoupling\n",
        "\n",
        "defensive copy, ×2\n",
        "\n",
        "defensive programming\n",
        "\n",
        "delta debugging\n",
        "\n",
        "design pattern\n",
        "\n",
        "deterministic specification\n",
        "\n",
        "domain-specific language (dsl)\n",
        "\n",
        "don't repeat yourself (DRY)\n",
        "\n",
        "dynamic checking, ×2\n",
        "\n",
        "dynamic dispatch\n",
        "\n",
        "dynamic typing\n",
        "\n",
        "encapsulation, ×2\n",
        "\n",
        "enumeration, ×2\n",
        "\n",
        "equivalence relation\n",
        "\n",
        "event loop\n",
        "\n",
        "exception\n",
        "\n",
        "exception translation\n",
        "\n",
        "extends (Java)\n",
        "\n",
        "factory method\n",
        "\n",
        "fail fast, ×2\n",
        "\n",
        "field\n",
        "\n",
        "filter\n",
        "\n",
        "final (Java), ×2\n",
        "\n",
        "first-class\n",
        "\n",
        "functional object\n",
        "\n",
        "functional programming\n",
        "\n",
        "generic type\n",
        "\n",
        "glass box testing\n",
        "\n",
        "global constant\n",
        "\n",
        "global variable\n",
        "\n",
        "grammar\n",
        "\n",
        "HEAD\n",
        "\n",
        "helper method\n",
        "\n",
        "higher-order function\n",
        "\n",
        "immutability\n",
        "\n",
        "imperative programming\n",
        "\n",
        "implementation\n",
        "\n",
        "implements (Java)\n",
        "\n",
        "incremental development\n",
        "\n",
        "index (git)\n",
        "\n",
        "information hiding\n",
        "\n",
        "inheritance\n",
        "\n",
        "instance method\n",
        "\n",
        "instance variable\n",
        "\n",
        "instanceof (Java)\n",
        "\n",
        "integration testing, ×2\n",
        "\n",
        "interface (Java)\n",
        "\n",
        "interleaving\n",
        "\n",
        "invariant\n",
        "\n",
        "iterative development\n",
        "\n",
        "iterator\n",
        "\n",
        "lambda expression\n",
        "\n",
        "left recursion (parsing)\n",
        "\n",
        "List (Java)\n",
        "\n",
        "listening socket\n",
        "\n",
        "local variable\n",
        "\n",
        "localization\n",
        "\n",
        "lock\n",
        "\n",
        "magic number\n",
        "\n",
        "map\n",
        "\n",
        "Map (Java)\n",
        "\n",
        "member variable\n",
        "\n",
        "merge conflict\n",
        "\n",
        "message passing\n",
        "\n",
        "method reference (Java)\n",
        "\n",
        "modular\n",
        "\n",
        "modularity\n",
        "\n",
        "module\n",
        "\n",
        "monitor pattern\n",
        "\n",
        "monolithic\n",
        "\n",
        "mutability\n",
        "\n",
        "mutator\n",
        "\n",
        "mutual exclusion\n",
        "\n",
        "mutual recursion\n",
        "\n",
        "nondeterministic\n",
        "\n",
        "nonterminal\n",
        "\n",
        "null\n",
        "\n",
        "object contract\n",
        "\n",
        "object equality\n",
        "\n",
        "object type\n",
        "\n",
        "observational equality\n",
        "\n",
        "observer\n",
        "\n",
        "operation\n",
        "\n",
        "operational specification\n",
        "\n",
        "overloading\n",
        "\n",
        "override\n",
        "\n",
        "parse tree, ×2\n",
        "\n",
        "parser\n",
        "\n",
        "parser generator\n",
        "\n",
        "partition\n",
        "\n",
        "postcondition\n",
        "\n",
        "precondition\n",
        "\n",
        "primitive type\n",
        "\n",
        "process\n",
        "\n",
        "producer\n",
        "\n",
        "producer-consumer pattern\n",
        "\n",
        "production\n",
        "\n",
        "property\n",
        "\n",
        "protocol\n",
        "\n",
        "race condition\n",
        "\n",
        "reassignable reference\n",
        "\n",
        "recursive step\n",
        "\n",
        "reduce\n",
        "\n",
        "reentrancy\n",
        "\n",
        "reference equality\n",
        "\n",
        "reflexive\n",
        "\n",
        "regression testing\n",
        "\n",
        "regular expression\n",
        "\n",
        "repository\n",
        "\n",
        "representation\n",
        "\n",
        "representation exposure\n",
        "\n",
        "representation independence\n",
        "\n",
        "representation invariant (RI)\n",
        "\n",
        "revision\n",
        "\n",
        "root nonterminal\n",
        "\n",
        "safety-from-rep-exposure argument (SRE)\n",
        "\n",
        "scope\n",
        "\n",
        "self check\n",
        "\n",
        "sentinel object\n",
        "\n",
        "separation of concern\n",
        "\n",
        "serializability\n",
        "\n",
        "Set (Java)\n",
        "\n",
        "shared memory\n",
        "\n",
        "side-effect\n",
        "\n",
        "slicing\n",
        "\n",
        "snapshot diagram\n",
        "\n",
        "socket\n",
        "\n",
        "specification, ×2\n",
        "\n",
        "staging area\n",
        "\n",
        "static checking, ×2\n",
        "\n",
        "static method\n",
        "\n",
        "static typing\n",
        "\n",
        "static variable\n",
        "\n",
        "stream\n",
        "\n",
        "stronger\n",
        "\n",
        "structural induction\n",
        "\n",
        "stub\n",
        "\n",
        "subclassing\n",
        "\n",
        "subdomain\n",
        "\n",
        "subtype\n",
        "\n",
        "supertype\n",
        "\n",
        "symmetric\n",
        "\n",
        "systematic testing\n",
        "\n",
        "terminal\n",
        "\n",
        "test case\n",
        "\n",
        "test suite\n",
        "\n",
        "test-first programming\n",
        "\n",
        "thread\n",
        "\n",
        "thread safety argument (TSA)\n",
        "\n",
        "threadsafe\n",
        "\n",
        "threadsafe immutable\n",
        "\n",
        "time slicing\n",
        "\n",
        "timeout\n",
        "\n",
        "transitive\n",
        "\n",
        "type\n",
        "\n",
        "unchecked exception\n",
        "\n",
        "underdetermined specification\n",
        "\n",
        "unit testing, ×2\n",
        "\n",
        "unreassignable reference\n",
        "\n",
        "validation\n",
        "\n",
        "verification\n",
        "\n",
        "version (git)\n",
        "\n",
        "visitor pattern\n",
        "\n",
        "weaker\n",
        "\n",
        "wire protocol\n",
        "\n",
        "working copy"
      ]
    },
    {
      "cell_type": "markdown",
      "metadata": {
        "id": "JxcJ_QSZcKby"
      },
      "source": [
        "## Formal Methods"
      ]
    },
    {
      "cell_type": "markdown",
      "metadata": {
        "id": "BKPPCpVrcMOj"
      },
      "source": [
        "**Chapter 0**\n",
        "\n",
        "0 What are formal methods?\n",
        "\n",
        "1 How are formal methods helpful?\n",
        "\n",
        "**Chapter 1**\n",
        "\n",
        "1 What are binary expressions used for?\n",
        "\n",
        "2 What are consistency and completeness?\n",
        "\n",
        "3 What are the rules of proof?\n",
        "\n",
        "4 How is monotonicity used in proof?\n",
        "\n",
        "5 How is context used in proof?\n",
        "\n",
        "**Chapter 2**\n",
        "\n",
        "0 What are bunches used for?\n",
        "\n",
        "1 What are sets used for?\n",
        "\n",
        "2 How do bunches and sets differ?\n",
        "\n",
        "3 What are strings used for?\n",
        "\n",
        "4 What are lists used for?\n",
        "\n",
        "5 How do strings and lists differ?\n",
        "\n",
        "**Chapter 3**\n",
        "\n",
        "0 What is the formal notation for “substitute a for b in c”?\n",
        "\n",
        "1 What is a predicate? What is a relation?\n",
        "\n",
        "2 What is the difference between function application and function composition?\n",
        "\n",
        "3 How do you get the result of a quantifier applied to a function with a null domain?\n",
        "\n",
        "4 What is a partial function? What is a total function?\n",
        "\n",
        "5 What is a deterministic function? What is a nondeterministic function?\n",
        "\n",
        "**Chapter 4**\n",
        "\n",
        "0 How is computer behavior specified?\n",
        "\n",
        "1 What is the difference between low level and high level specification?\n",
        "\n",
        "2 How do you know whether a specification is implementable?\n",
        "\n",
        "3 What does refinement mean?\n",
        "\n",
        "4 How could you find the initial conditions under which execution of a program would\n",
        "\n",
        "result in a satisfactory final condition?\n",
        "\n",
        "5 What is a program?\n",
        "\n",
        "6 What is refinement by steps? by parts? by cases?\n",
        "\n",
        "7 What is a compiler's (or interpreter's) view of a program?\n",
        "\n",
        "8 What is a prover's view of a program?\n",
        "\n",
        "9 What is implementability with a time variable?\n",
        "\n",
        "10 What is real-time?\n",
        "\n",
        "11 What is recursive time?\n",
        "\n",
        "12 What are the three levels of care in programming?\n",
        "\n",
        "13 What variables and assignments must be added to a program to find its maximum\n",
        "\n",
        "space usage?\n",
        "\n",
        "14 What variables and assignments must be added to a program to find its average\n",
        "\n",
        "space usage?\n",
        "\n",
        "\n",
        "**Chapter 5**\n",
        "\n",
        "0 What kind of quantification is variable declaration?\n",
        "\n",
        "1 What problem does array element assignment cause, and how is it solved?\n",
        "\n",
        "2 How do you prove properties of while-loops? \n",
        "\n",
        "3 How do you prove properties of for-loops?\n",
        "\n",
        "4 What is an invariant?\n",
        "\n",
        "5 Can the time variable be used in an assignment to another variable?\n",
        "\n",
        "6 What are assertions used for? Do they help verification?\n",
        "\n",
        "7 What are side-effects used for? Do they help verification?\n",
        "\n",
        "8 Which is better for modularity: value parameters, or reference parameters?\n",
        "\n",
        "9 How do you find the average value of an expression whose variables have probability\n",
        "\n",
        "distributions?\n",
        "\n",
        "10 How do you write a probabilistic specification?\n",
        "\n",
        "11 How do you handle a random number function formally?\n",
        "\n",
        "12 How do you write a functional specification?\n",
        "\n",
        "13 What is refinement between functional specifications?\n",
        "\n",
        "\n",
        "**Chapter 6**\n",
        "\n",
        "0 What information do you get from a construction axiom?\n",
        "\n",
        "1 What information do you get from an induction axiom?\n",
        "\n",
        "2 What bunch cannot be defined by construction and induction?\n",
        "\n",
        "3 How can you find out what is defined by construction and induction?\n",
        "\n",
        "4 Does it always work?\n",
        "\n",
        "5 Can programs be defined by construction and induction?\n",
        "\n",
        "\n",
        "**Chapter 7**\n",
        "\n",
        "0 Why do you want a theory for a data structure, rather than just an implementation?\n",
        "\n",
        "1 Why might you want a strong theory? Why might you want a weak theory?\n",
        "\n",
        "2 How do you prove that an implementation of a data structure is correct?\n",
        "\n",
        "3 What's the difference between a data-theory and a program-theory?\n",
        "\n",
        "4 What's the difference between user's variables and implementer's variables?\n",
        "\n",
        "5 What is a data transformer?\n",
        "\n",
        "6 How do you use it?\n",
        "\n",
        "7 What happens if you make a bad choice of data transformer?\n",
        "\n",
        "**Chapter 8**\n",
        "\n",
        "\n",
        "0 How do you partition the variables for a concurrent composition?\n",
        "\n",
        "1 In a process, what information is available about other processes?\n",
        "\n",
        "2 What is the execution time of a sequential composition? of a concurrent composition?\n",
        "\n",
        "3 When can sequential programs become concurrent processes?\n",
        "\n",
        "4 When is a buffer useful? How big a buffer?\n",
        "\n",
        "5 How can you synchronize two processes at their mid points?\n",
        "\n",
        "**Chapter 9**\n",
        "\n",
        "0 What are shared, interactive, and boundary variables?\n",
        "\n",
        "1 When are interactive variables useful?\n",
        "\n",
        "2 How do you build a shared variable?\n",
        "\n",
        "3 What programming problems are caused by shared variables?\n",
        "\n",
        "4 What are the components of a communication channel?\n",
        "\n",
        "5 Which gives processes more information about each other: shared variables, or\n",
        "\n",
        "communication channels?\n",
        "\n",
        "6 What's a deadlock?\n",
        "\n",
        "7 How can you tell if a computation can get into a deadlock?\n",
        "\n",
        "8 How can you program dynamic process generation?\n",
        "\n",
        "9 How could you build a logic-checker that works like syntax-checkers and typecheckers do now?"
      ]
    },
    {
      "cell_type": "markdown",
      "metadata": {
        "id": "G5wJOhOUdg0m"
      },
      "source": [
        "## Software Analysis"
      ]
    },
    {
      "cell_type": "markdown",
      "metadata": {
        "id": "uli6iun9dgy6"
      },
      "source": [
        "How to build a static analysis tool?\n",
        "\n",
        "How to build a dynamic analysis tool?\n",
        "\n",
        "What is software analysis?\n",
        "\n",
        "Intro to Software Analysis\n",
        "\n",
        "Intro to Software Testing\n",
        "\n",
        "Random Testing\n",
        "\n",
        "Automated Test Generation\n",
        "\n",
        "Dataflow Analysis\n",
        "\n",
        "Pointer Analysis\n",
        "\n",
        "Contraint-based Analysis\n",
        "\n",
        "Type Systems\n",
        "\n",
        "Statistical Debugging\n",
        "\n",
        "Delta Debugging\n",
        "\n",
        "Dynamic Symbolic Execution"
      ]
    }
  ]
}