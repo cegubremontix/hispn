{
  "nbformat": 4,
  "nbformat_minor": 0,
  "metadata": {
    "colab": {
      "name": "6.005 Software Construction in Java.ipynb",
      "provenance": [],
      "authorship_tag": "ABX9TyMYgxTWA23JAb0qBD6zOEbe",
      "include_colab_link": true
    },
    "kernelspec": {
      "name": "python3",
      "display_name": "Python 3"
    },
    "language_info": {
      "name": "python"
    }
  },
  "cells": [
    {
      "cell_type": "markdown",
      "metadata": {
        "id": "view-in-github",
        "colab_type": "text"
      },
      "source": [
        "<a href=\"https://colab.research.google.com/github/dbremont/Notas/blob/main/Ingenerare/6_005_Software_Construction_in_Java.ipynb\" target=\"_parent\"><img src=\"https://colab.research.google.com/assets/colab-badge.svg\" alt=\"Open In Colab\"/></a>"
      ]
    },
    {
      "cell_type": "markdown",
      "metadata": {
        "id": "ztdOJr4SfxCN"
      },
      "source": [
        "# 6.005 Software Construction in Java"
      ]
    },
    {
      "cell_type": "markdown",
      "metadata": {
        "id": "rt5asSLgfyPr"
      },
      "source": [
        "* [6.005.1x Software Construction in Java](https://openlearninglibrary.mit.edu/courses/course-v1:MITx+6.005.1x+3T2016/about)\n",
        "\n",
        "* [6.005.2x Advanced Software Construction in Java](https://openlearninglibrary.mit.edu/courses/course-v1:MITx+6.005.2x+1T2017/about)\n",
        "\n",
        "* [6.031: Software Construction](https://web.mit.edu/6.031/www/sp21/)\n",
        "\n",
        "- [Software Architecture](https://www.youtube.com/playlist?list=PLRqKmfi2Jh3vB5comrBD3ruD1qI622GUa)\n",
        "\n",
        "- [Tag: architecture](http://www.se-radio.net/tag/architecture/)\n",
        "\n",
        "- [Foundations of Software Engineering](https://cmu-313.github.io/?)\n",
        "\n",
        "* [Software Engineering ](https://github.com/floe/software-engineering)\n",
        "\n",
        "* [Software Debugging](https://classroom.udacity.com/courses/cs259)\n",
        "\n",
        "* [Software Testing](https://classroom.udacity.com/courses/cs258)\n",
        "\n",
        "- [Software Engineering Course](https://ci.mines-stetienne.fr/i2si/softeng/)\n",
        "\n",
        "- [Software Architecture](https://www.emse.fr/~boissier/enseignement/tbi2si/SoftArch/index.html)\n",
        "\n",
        "- [Software Development Good Practices](https://www.emse.fr/~boissier/enseignement/tbi2si/SoftGoodPractices/index.html)"
      ]
    }
  ]
}