{
  "nbformat": 4,
  "nbformat_minor": 0,
  "metadata": {
    "colab": {
      "name": "6.005 Software Construction in Java.ipynb",
      "provenance": [],
      "toc_visible": true
    },
    "kernelspec": {
      "name": "python3",
      "display_name": "Python 3"
    },
    "language_info": {
      "name": "python"
    }
  },
  "cells": [
    {
      "cell_type": "markdown",
      "metadata": {
        "id": "ztdOJr4SfxCN"
      },
      "source": [
        "# 6.005 Software Construction in Java"
      ]
    },
    {
      "cell_type": "markdown",
      "metadata": {
        "id": "4DYiRqCuOhQ1"
      },
      "source": [
        "## Primario"
      ]
    },
    {
      "cell_type": "markdown",
      "metadata": {
        "id": "qSPWydqFOlGh"
      },
      "source": [
        "* [6.005.1x Software Construction in Java](https://openlearninglibrary.mit.edu/courses/course-v1:MITx+6.005.1x+3T2016/about)\n",
        "\n",
        "* [6.005.2x Advanced Software Construction in Java](https://openlearninglibrary.mit.edu/courses/course-v1:MITx+6.005.2x+1T2017/about)\n",
        "\n",
        "* [6.031: Software Construction](https://web.mit.edu/6.031/www/sp21/)\n",
        "\n",
        "* [Object-Oriented Program Design and Software Engineering](http://www.infocobuild.com/education/audio-video-courses/computer-science/object-oriented-programming-arsdigita.html)"
      ]
    },
    {
      "cell_type": "markdown",
      "metadata": {
        "id": "KxjCRzdvOjbv"
      },
      "source": [
        "## Secundario"
      ]
    },
    {
      "cell_type": "markdown",
      "metadata": {
        "id": "rt5asSLgfyPr"
      },
      "source": [
        "* [The Structure and Interpretation of Computer Programs](http://www.infocobuild.com/education/audio-video-courses/computer-science/computer-programs-arsdigita.html)\n",
        "\n",
        "- [CS 190: Software Design Studio](https://web.stanford.edu/~ouster/cgi-bin/cs190-winter21/index.php)\n",
        "\n",
        "- [CSCB07 Software Design](http://www.cs.toronto.edu/~shiva/cscb07/index.html)\n",
        "\n",
        "- [Foundations of Software Engineering](https://cmu-313.github.io/?)\n",
        "\n",
        "- [Software Debugging](https://classroom.udacity.com/courses/cs259)\n",
        "\n",
        "- [Software Testing](https://classroom.udacity.com/courses/cs258)\n",
        "\n",
        "- [CSE 599W: Systems Verification](https://courses.cs.washington.edu/courses/cse599w/16sp/)\n",
        "\n",
        "- [CIS 500: Software Foundations](https://www.seas.upenn.edu/~cis500/current/index.html)\n",
        "\n",
        "- [CIS 670, Fall 2015: Verified Systems Software](https://www.cis.upenn.edu/~bcpierce/courses/670Fall15/)\n",
        "\n",
        "- [6.888: Certified Systems Software](http://css.csail.mit.edu/6.888/2015/)\n",
        "\n",
        "- [6.826 Principles of Computer Systems 2004](http://web.mit.edu/6.826/www/notes/)\n",
        "\n",
        "- [Designing RESTful APIs](https://classroom.udacity.com/courses/ud388)\n",
        "\n",
        "- [Software Analysis & Testing](https://www.udacity.com/course/software-analysis-testing--ud333)\n",
        "\n",
        "- [Software Analysis](https://www.youtube.com/playlist?list=PLF3-CvSRq2SYXEiS80KuZQ80q8K2aHLQX)\n",
        "\n",
        "- [Formal Methods of Software Design](http://www.cs.utoronto.ca/~hehner/FMSD/)\n",
        "\n",
        "- [CSC302: Engineering Large Software Systems](https://www.cs.toronto.edu/~sme/CSC302/index.html)\n",
        "\n",
        "- [CSC444F: Software Engineering I](https://www.cs.toronto.edu/~sme/CSC444F/)\n",
        "\n",
        "- [CSC340F: Requirements Engineering](https://www.cs.toronto.edu/~sme/CSC340F/)\n",
        "\n",
        "- [Software Engineering](https://web.eecs.umich.edu/~weimerw/481/)"
      ]
    },
    {
      "cell_type": "markdown",
      "metadata": {
        "id": "voUFrVTiw6sy"
      },
      "source": [
        "## Static Typing"
      ]
    },
    {
      "cell_type": "markdown",
      "metadata": {
        "id": "kHlLlfJNw-AK"
      },
      "source": [
        "- [Reading 1: Static Checking](http://web.mit.edu/6.031/www/sp21/classes/01-static-checking/)\n",
        "- Ya esta pasado a anki.\n",
        "\n",
        "- [A community-driven list of awesome linters](https://github.com/caramelomartins/awesome-linters)\n",
        "\n",
        "- [A curated list of static analysis (SAST) tools for all programming languages, config files, build tools, and more](https://github.com/analysis-tools-dev/static-analysis)\n",
        "\n",
        "- [Static program analysis](https://en.wikipedia.org/wiki/Static_program_analysis)\n",
        "\n",
        "- [Program Analysis an Apetizer](https://arxiv.org/pdf/2012.10086.pdf)\n",
        "\n",
        "- [Principles of Program Analysis](http://faculty.sist.shanghaitech.edu.cn/faculty/songfu/cav/PPA.pdf)\n",
        "\n",
        "- [Extended Static Checking for Java](https://www.cs.utexas.edu/~isil/cs389L/esc-pldi02.pdf)\n",
        "\n",
        "- [Our journey to type checking 4 million lines of Python](https://dropbox.tech/application/our-journey-to-type-checking-4-million-lines-of-python)"
      ]
    },
    {
      "cell_type": "markdown",
      "metadata": {
        "id": "SRvaFpgA6fsi"
      },
      "source": [
        "## Testing\n",
        "\n",
        "Takes the Topics fro mhere\n",
        "\n",
        "[Ir](http://web.mit.edu/6.031/www/sp21/classes/03-testing/#reading_3_testing)\n"
      ]
    },
    {
      "cell_type": "markdown",
      "metadata": {
        "id": "Hph0mCRKHR8V"
      },
      "source": [
        "Validation\n",
        "\n",
        "Why software testing is hard\n",
        "\n",
        "Test-first programming\n",
        "\n",
        "Systematic testing\n",
        "\n",
        "Choosing test cases by partitioning\n",
        "\n",
        "Automated unit testing with JUnit\n",
        "\n",
        "Documenting your testing strategy\n",
        "\n",
        "Black box and glass box testing\n",
        "\n",
        "Coverage\n",
        "\n",
        "Unit and integration testing\n",
        "\n",
        "Automated regression testing\n",
        "\n",
        "Iterative test-first programming\n"
      ]
    },
    {
      "cell_type": "markdown",
      "metadata": {
        "id": "T8HITasRDcSr"
      },
      "source": [
        "## Code Review\n",
        "[Ir](https://web.mit.edu/6.031/www/sp21/classes/04-code-review/)"
      ]
    },
    {
      "cell_type": "markdown",
      "metadata": {
        "id": "0uumQClyHX2C"
      },
      "source": [
        "\n",
        "Code review\n",
        "\n",
        "Smelly example #1\n",
        "\n",
        "Don’t repeat yourself (DRY)\n",
        "\n",
        "Comments where needed\n",
        "\n",
        "Fail fast\n",
        "\n",
        "Avoid magic numbers\n",
        "\n",
        "One purpose for each variable\n",
        "\n",
        "Smelly example #2\n",
        "\n",
        "Use good names\n",
        "\n",
        "Use whitespace to help the reader\n",
        "\n",
        "Smelly example #3\n",
        "\n",
        "Don’t use global variables\n",
        "\n",
        "Methods should return results, not print them\n",
        "\n",
        "Avoid special-case code\n",
        "\n",
        "How this makes softawre:\n",
        "\n",
        "- safe from bugs,\n",
        "- easy to understand,\n",
        "- ready for change"
      ]
    },
    {
      "cell_type": "markdown",
      "metadata": {
        "id": "CpdNyj35DhPg"
      },
      "source": [
        "## Version Control\n",
        "[Ir](https://web.mit.edu/6.031/www/sp21/classes/05-version-control/)"
      ]
    },
    {
      "cell_type": "markdown",
      "metadata": {
        "id": "562eqU4qDlcW"
      },
      "source": [
        "## Specifications\n",
        "[Ir](https://web.mit.edu/6.031/www/sp21/classes/06-specifications/)"
      ]
    },
    {
      "cell_type": "markdown",
      "metadata": {
        "id": "Wlanfu92Dp-s"
      },
      "source": [
        "## Designing Specifications\n",
        "[Ir](https://web.mit.edu/6.031/www/sp21/classes/07-designing-specs/)"
      ]
    },
    {
      "cell_type": "markdown",
      "metadata": {
        "id": "6On6oQnjDzNR"
      },
      "source": [
        "## Mutability & Immutability\n",
        "[Ir](https://web.mit.edu/6.031/www/sp21/classes/08-immutability/)"
      ]
    },
    {
      "cell_type": "markdown",
      "metadata": {
        "id": "n1oBjvJjD5Dk"
      },
      "source": [
        "## Avoiding Debugging\n",
        "[Ir](https://web.mit.edu/6.031/www/sp21/classes/09-avoiding-debugging/)"
      ]
    },
    {
      "cell_type": "markdown",
      "metadata": {
        "id": "LuON9XiSD9-z"
      },
      "source": [
        "## Abstract Data Types\n",
        "[Ir](https://web.mit.edu/6.031/www/sp21/classes/10-abstract-data-types/)"
      ]
    },
    {
      "cell_type": "markdown",
      "metadata": {
        "id": "PvZIylXaEFPn"
      },
      "source": [
        "## Abstraction Functions & Rep Invariants\n",
        "[Ir](https://web.mit.edu/6.031/www/sp21/classes/11-abstraction-functions-rep-invariants/)"
      ]
    },
    {
      "cell_type": "markdown",
      "metadata": {
        "id": "NEbQ-fAOEHI-"
      },
      "source": [
        "## Interfaces, Generics, & Enums\n",
        "[Ir](https://web.mit.edu/6.031/www/sp21/classes/12-interfaces-generics-enums/)"
      ]
    },
    {
      "cell_type": "markdown",
      "metadata": {
        "id": "DRedg1AQEPcA"
      },
      "source": [
        "## Debugging\n",
        "[Ir](https://web.mit.edu/6.031/www/sp21/classes/13-debugging/)"
      ]
    },
    {
      "cell_type": "markdown",
      "metadata": {
        "id": "AWL3jyhRDOjH"
      },
      "source": [
        "## Recursion\n",
        "[Ir](https://web.mit.edu/6.031/www/sp21/classes/14-recursion/)\n",
        "\n",
        "## Equality\n",
        "[Ir](https://web.mit.edu/6.031/www/sp21/classes/15-equality/)\n",
        "\n",
        "## Recursive Data Types\n",
        "[Ir](https://web.mit.edu/6.031/www/sp21/classes/16-recursive-data-types/)\n",
        "\n",
        "## Regular Expressions & Grammars\n",
        "[Ir](https://web.mit.edu/6.031/www/sp21/classes/17-regex-grammars/)\n",
        "\n",
        "## Parsers\n",
        "[Ir](https://web.mit.edu/6.031/www/sp21/classes/18-parsers/)\n",
        "\n",
        "## Programming with ADTs\n",
        "[Ir](https://web.mit.edu/6.031/www/sp21/classes/19-programming-with-adts/)\n",
        "\n",
        "## Concurrency\n",
        "[Ir](https://web.mit.edu/6.031/www/sp21/classes/20-concurrency/)\n",
        "\n",
        "## Thread Safety\n",
        "[Ir](https://web.mit.edu/6.031/www/sp21/classes/21-thread-safety/)\n",
        "\n",
        "## Locks & Synchronization\n",
        "[Ir](https://web.mit.edu/6.031/www/sp21/classes/22-locks/)\n",
        "\n",
        "## Queues & Message-Passing\n",
        "[Ir](https://web.mit.edu/6.031/www/sp21/classes/23-queues/)\n",
        "\n",
        "## Sockets & Networking\n",
        "[Ir](https://web.mit.edu/6.031/www/sp21/classes/24-sockets-networking/)\n",
        "\n",
        "## Callbacks\n",
        "[Ir](https://web.mit.edu/6.031/www/sp21/classes/25-callbacks/)\n",
        "\n",
        "## Map, Filter, Reduce\n",
        "[Ir](https://web.mit.edu/6.031/www/sp21/classes/26-map-filter-reduce/)\n",
        "\n",
        "## Little Languages I\n",
        "[Ir](https://web.mit.edu/6.031/www/sp21/classes/27-little-languages-1/)\n",
        "\n",
        "## Little Languages II\n",
        "[Ir](https://web.mit.edu/6.031/www/sp21/classes/28-little-languages-2/)\n",
        "\n",
        "## Team Version Control\n",
        "[Ir](https://web.mit.edu/6.031/www/sp21/classes/29-team-version-control/)\n",
        "\n"
      ]
    }
  ]
}