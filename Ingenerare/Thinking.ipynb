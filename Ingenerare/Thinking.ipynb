{
  "nbformat": 4,
  "nbformat_minor": 0,
  "metadata": {
    "colab": {
      "name": "Thinking.ipynb",
      "provenance": [],
      "authorship_tag": "ABX9TyP5oPzUPZSCRkxreaEFfYyB",
      "include_colab_link": true
    },
    "kernelspec": {
      "name": "python3",
      "display_name": "Python 3"
    },
    "language_info": {
      "name": "python"
    }
  },
  "cells": [
    {
      "cell_type": "markdown",
      "metadata": {
        "id": "view-in-github",
        "colab_type": "text"
      },
      "source": [
        "<a href=\"https://colab.research.google.com/github/dbremont/Notas/blob/main/Ingenerare/Thinking.ipynb\" target=\"_parent\"><img src=\"https://colab.research.google.com/assets/colab-badge.svg\" alt=\"Open In Colab\"/></a>"
      ]
    },
    {
      "cell_type": "markdown",
      "metadata": {
        "id": "XxEVmW_-E4J3"
      },
      "source": [
        "* [Outline of thought](https://en.wikipedia.org/wiki/Outline_of_thought)\n",
        "\n",
        "* [Bayes Theorem: A Framework for Critical Thinking](https://neilkakkar.com/Bayes-Theorem-Framework-for-Critical-Thinking.html)\n",
        "\n",
        "* [First Principles](https://fs.blog/2018/04/first-principles/)\n",
        "\n",
        "* [Second Order Thinking](https://models.substack.com/p/second-order-thinking)\n",
        "\n",
        "* [Major flaws of human thinking](https://dandanua.github.io/posts/major-flaws-of-human-thinking/)\n",
        "\n",
        "* [A Framework for First Principles Thinking](https://neilkakkar.com/A-framework-for-First-Principles-Thinking.html)\n",
        "\n",
        "* [Second Order Thinking - A Practical Guide](https://neilkakkar.com/second-order-thinking.html)"
      ]
    }
  ]
}