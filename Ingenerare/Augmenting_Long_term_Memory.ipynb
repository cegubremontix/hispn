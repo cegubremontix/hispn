{
  "nbformat": 4,
  "nbformat_minor": 0,
  "metadata": {
    "colab": {
      "name": "Augmenting Long-term Memory.ipynb",
      "provenance": [],
      "authorship_tag": "ABX9TyN5NuBW3SZWykrFYq/RwbpM",
      "include_colab_link": true
    },
    "kernelspec": {
      "name": "python3",
      "display_name": "Python 3"
    },
    "language_info": {
      "name": "python"
    }
  },
  "cells": [
    {
      "cell_type": "markdown",
      "metadata": {
        "id": "view-in-github",
        "colab_type": "text"
      },
      "source": [
        "<a href=\"https://colab.research.google.com/github/dbremont/Notas/blob/main/Ingenerare/Augmenting_Long_term_Memory.ipynb\" target=\"_parent\"><img src=\"https://colab.research.google.com/assets/colab-badge.svg\" alt=\"Open In Colab\"/></a>"
      ]
    },
    {
      "cell_type": "markdown",
      "metadata": {
        "id": "_nUSFeDFF0oq"
      },
      "source": [
        "* [Augmenting Long-term Memory](http://augmentingcognition.com/ltm.html)\n",
        "\n",
        "* [Using Artificial Intelligence to Augment Human Intelligence](https://distill.pub/2017/aia/)\n",
        "\n",
        "* [Anki as Learning Superpower: Computer Science Edition](https://www.gresearch.co.uk/article/anki-as-learning-superpower-computer-science-edition/)\n",
        "\n",
        "* [13 Lucky Tips for using Anki and Spaced Repetition in 2019](https://getpolarized.io/2019/05/25/13-lucky-tips-for-using-anki-and-spaced-repetition-2019.html#)"
      ]
    }
  ]
}