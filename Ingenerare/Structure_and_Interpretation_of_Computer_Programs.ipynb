{
  "nbformat": 4,
  "nbformat_minor": 0,
  "metadata": {
    "colab": {
      "name": "Structure and Interpretation of Computer Programs.ipynb",
      "provenance": [],
      "authorship_tag": "ABX9TyOYpUElXJfp0yyTTZD5OrDA",
      "include_colab_link": true
    },
    "kernelspec": {
      "name": "python3",
      "display_name": "Python 3"
    },
    "language_info": {
      "name": "python"
    }
  },
  "cells": [
    {
      "cell_type": "markdown",
      "metadata": {
        "id": "view-in-github",
        "colab_type": "text"
      },
      "source": [
        "<a href=\"https://colab.research.google.com/github/dbremont/Notas/blob/main/Ingenerare/Structure_and_Interpretation_of_Computer_Programs.ipynb\" target=\"_parent\"><img src=\"https://colab.research.google.com/assets/colab-badge.svg\" alt=\"Open In Colab\"/></a>"
      ]
    },
    {
      "cell_type": "markdown",
      "metadata": {
        "id": "8mGy9Q6Kwklx"
      },
      "source": [
        "Ingenerare"
      ]
    },
    {
      "cell_type": "markdown",
      "metadata": {
        "id": "k6j7S61KwmD9"
      },
      "source": [
        "* [Structure and Interpretation of Computer Programs](https://ocw.mit.edu/courses/electrical-engineering-and-computer-science/6-001-structure-and-interpretation-of-computer-programs-spring-2005/)\n",
        "\n",
        "- Clases,  funciones, clases abstractas, interfaces, threads, streams\n",
        "\n",
        "- means to model objects\n",
        "\n",
        "- relate object in the world with objects in the computer\n",
        "\n",
        "- local state\n",
        "\n",
        "- electrical systems: physisics best objects"
      ]
    }
  ]
}