{
  "nbformat": 4,
  "nbformat_minor": 0,
  "metadata": {
    "colab": {
      "name": "Structure and Interpretation of Computer Programs.ipynb",
      "provenance": [],
      "authorship_tag": "ABX9TyMUPa2btrpsiqa1vjw59uQV",
      "include_colab_link": true
    },
    "kernelspec": {
      "name": "python3",
      "display_name": "Python 3"
    },
    "language_info": {
      "name": "python"
    }
  },
  "cells": [
    {
      "cell_type": "markdown",
      "metadata": {
        "id": "view-in-github",
        "colab_type": "text"
      },
      "source": [
        "<a href=\"https://colab.research.google.com/github/dbremont/Notas/blob/main/Ingenerare/Structure_and_Interpretation_of_Computer_Programs.ipynb\" target=\"_parent\"><img src=\"https://colab.research.google.com/assets/colab-badge.svg\" alt=\"Open In Colab\"/></a>"
      ]
    },
    {
      "cell_type": "markdown",
      "metadata": {
        "id": "k6j7S61KwmD9"
      },
      "source": [
        "[Structure and Interpretation of Computer Programs](https://ocw.mit.edu/courses/electrical-engineering-and-computer-science/6-001-structure-and-interpretation-of-computer-programs-spring-2005/)\n"
      ]
    },
    {
      "cell_type": "markdown",
      "metadata": {
        "id": "iqsuqbw9zKfe"
      },
      "source": [
        "## 1A: Overview and Introduction to Lisp\n",
        "[Ir](https://ocw.mit.edu/courses/electrical-engineering-and-computer-science/6-001-structure-and-interpretation-of-computer-programs-spring-2005/video-lectures/1a-overview-and-introduction-to-lisp/)"
      ]
    },
    {
      "cell_type": "markdown",
      "metadata": {
        "id": "vgUwS3MKzMgg"
      },
      "source": [
        "- Clases,  funciones, clases abstractas, interfaces, threads, streams\n",
        "\n",
        "- means to model objects\n",
        "\n",
        "- relate object in the world with objects in the computer\n",
        "\n",
        "- local state\n",
        "\n",
        "- electrical systems: physisics best objects"
      ]
    },
    {
      "cell_type": "markdown",
      "metadata": {
        "id": "ChisxORCzRyW"
      },
      "source": [
        "## 1B: Procedures and Processes; Substitution Model\n",
        "[Ir](https://ocw.mit.edu/courses/electrical-engineering-and-computer-science/6-001-structure-and-interpretation-of-computer-programs-spring-2005/video-lectures/1a-overview-and-introduction-to-lisp/)"
      ]
    },
    {
      "cell_type": "markdown",
      "metadata": {
        "id": "kVpEsWGyzUYZ"
      },
      "source": [
        "## 2A: Higher-order Procedures\n",
        "[Ir](https://ocw.mit.edu/courses/electrical-engineering-and-computer-science/6-001-structure-and-interpretation-of-computer-programs-spring-2005/video-lectures/1b-procedures-and-processes-substitution-model/)\n"
      ]
    },
    {
      "cell_type": "markdown",
      "metadata": {
        "id": "b1P2BYITzUW-"
      },
      "source": [
        "## 2B: Compound Data\n",
        "[Ir](https://ocw.mit.edu/courses/electrical-engineering-and-computer-science/6-001-structure-and-interpretation-of-computer-programs-spring-2005/video-lectures/2b-compound-data)"
      ]
    },
    {
      "cell_type": "markdown",
      "metadata": {
        "id": "589TROnCzYgf"
      },
      "source": [
        "## 3A: Henderson Escher Example\n",
        "[Ir](https://ocw.mit.edu/courses/electrical-engineering-and-computer-science/6-001-structure-and-interpretation-of-computer-programs-spring-2005/video-lectures/3a-henderson-escher-example)"
      ]
    },
    {
      "cell_type": "markdown",
      "metadata": {
        "id": "R60rbZA_zbNm"
      },
      "source": [
        "## 3B: Symbolic Differentiation; Quotation\n",
        "[Ir](https://ocw.mit.edu/courses/electrical-engineering-and-computer-science/6-001-structure-and-interpretation-of-computer-programs-spring-2005/video-lectures/3b-symbolic-differentiation-quotation)"
      ]
    },
    {
      "cell_type": "markdown",
      "metadata": {
        "id": "zESlygiozdc-"
      },
      "source": [
        "## 4A: Pattern Matching and Rule-based Substitution\n",
        "[Ir](https://ocw.mit.edu/courses/electrical-engineering-and-computer-science/6-001-structure-and-interpretation-of-computer-programs-spring-2005/video-lectures/4a-pattern-matching-and-rule-based-substitution)"
      ]
    },
    {
      "cell_type": "markdown",
      "metadata": {
        "id": "yvNFsVwmzmSH"
      },
      "source": [
        "## 5A: Assignment, State, and Side-effects\n",
        "[Ir](https://ocw.mit.edu/courses/electrical-engineering-and-computer-science/6-001-structure-and-interpretation-of-computer-programs-spring-2005/video-lectures/5a-assignment-state-and-side-effects)"
      ]
    },
    {
      "cell_type": "markdown",
      "metadata": {
        "id": "wTaobOgKzof_"
      },
      "source": [
        "## 5B: Computational Objects\n",
        "[Ir](https://ocw.mit.edu/courses/electrical-engineering-and-computer-science/6-001-structure-and-interpretation-of-computer-programs-spring-2005/video-lectures/video-lectures/5b-computational-objects)"
      ]
    },
    {
      "cell_type": "markdown",
      "metadata": {
        "id": "97RE1hwTzq0R"
      },
      "source": [
        "## 6A: Streams, Part 1\n",
        "[Ir](https://ocw.mit.edu/courses/electrical-engineering-and-computer-science/6-001-structure-and-interpretation-of-computer-programs-spring-2005/video-lectures/video-lectures/6a-streams-part-1)"
      ]
    },
    {
      "cell_type": "markdown",
      "metadata": {
        "id": "Henv-3KXzqy_"
      },
      "source": [
        "## 6B: Streams, Part 2\n",
        "[Ir](https://ocw.mit.edu/courses/electrical-engineering-and-computer-science/6-001-structure-and-interpretation-of-computer-programs-spring-2005/video-lectures/video-lectures/6b-streams-part-2)\n"
      ]
    },
    {
      "cell_type": "markdown",
      "metadata": {
        "id": "oyoLguiuzvZX"
      },
      "source": [
        "## 7A: Metacircular Evaluator, Part 1\n",
        "[Ir](https://ocw.mit.edu/courses/electrical-engineering-and-computer-science/6-001-structure-and-interpretation-of-computer-programs-spring-2005/video-lectures/7a-metacircular-evaluator-part-1)"
      ]
    },
    {
      "cell_type": "markdown",
      "metadata": {
        "id": "5mIsR3rLzxp_"
      },
      "source": [
        "## 7B: Metacircular Evaluator, Part 2\n",
        "[Ir](https://ocw.mit.edu/courses/electrical-engineering-and-computer-science/6-001-structure-and-interpretation-of-computer-programs-spring-2005/video-lectures/7b-metacircular-evaluator-part-2)"
      ]
    },
    {
      "cell_type": "markdown",
      "metadata": {
        "id": "mlV3LLo8zz2X"
      },
      "source": [
        "## 8A: Logic Programming, Part 1\n",
        "[Ir](https://ocw.mit.edu/courses/electrical-engineering-and-computer-science/6-001-structure-and-interpretation-of-computer-programs-spring-2005/video-lectures/8a-logic-programming-part-1)"
      ]
    },
    {
      "cell_type": "markdown",
      "metadata": {
        "id": "COwch-Wez1kf"
      },
      "source": [
        "\n",
        "## 8B: Logic Programming, Part 2\n",
        "[Ir](https://ocw.mit.edu/courses/electrical-engineering-and-computer-science/6-001-structure-and-interpretation-of-computer-programs-spring-2005/video-lectures/8b-logic-programming-part-2)\n"
      ]
    },
    {
      "cell_type": "markdown",
      "metadata": {
        "id": "10plMQPGz3RA"
      },
      "source": [
        "## 9A: Register Machines\n",
        "[Ir](https://ocw.mit.edu/courses/electrical-engineering-and-computer-science/6-001-structure-and-interpretation-of-computer-programs-spring-2005/video-lectures/video-lectures/9a-register-machines)"
      ]
    },
    {
      "cell_type": "markdown",
      "metadata": {
        "id": "NyUYqsQJz4uc"
      },
      "source": [
        "## 9B: Explicit-control Evaluator\n",
        "[Ir](https://ocw.mit.edu/courses/electrical-engineering-and-computer-science/6-001-structure-and-interpretation-of-computer-programs-spring-2005/video-lectures/9b-explicit-control-evaluator)"
      ]
    },
    {
      "cell_type": "markdown",
      "metadata": {
        "id": "8k1c0D7qz4tZ"
      },
      "source": [
        "## 10A: Compilation\n",
        "[Ir](https://ocw.mit.edu/courses/electrical-engineering-and-computer-science/6-001-structure-and-interpretation-of-computer-programs-spring-2005/video-lectures/10a-compilation)"
      ]
    },
    {
      "cell_type": "markdown",
      "metadata": {
        "id": "bRPxzQAxzHOm"
      },
      "source": [
        "## 10B: Storage Allocation and Garbage Collection\n",
        "[Ir](https://ocw.mit.edu/courses/electrical-engineering-and-computer-science/6-001-structure-and-interpretation-of-computer-programs-spring-2005/video-lectures/10b-storage-allocation-and-garbage-collection)"
      ]
    }
  ]
}