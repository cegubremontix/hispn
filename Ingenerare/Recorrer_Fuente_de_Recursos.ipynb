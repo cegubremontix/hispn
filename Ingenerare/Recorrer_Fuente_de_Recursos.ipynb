{
  "nbformat": 4,
  "nbformat_minor": 0,
  "metadata": {
    "colab": {
      "name": "Recorrer Fuente de Recursos.ipynb",
      "provenance": [],
      "authorship_tag": "ABX9TyPWzlqD7xCKjy5eSomZB13o",
      "include_colab_link": true
    },
    "kernelspec": {
      "name": "python3",
      "display_name": "Python 3"
    },
    "language_info": {
      "name": "python"
    }
  },
  "cells": [
    {
      "cell_type": "markdown",
      "metadata": {
        "id": "view-in-github",
        "colab_type": "text"
      },
      "source": [
        "<a href=\"https://colab.research.google.com/github/dbremont/Notas/blob/main/Ingenerare/Recorrer_Fuente_de_Recursos.ipynb\" target=\"_parent\"><img src=\"https://colab.research.google.com/assets/colab-badge.svg\" alt=\"Open In Colab\"/></a>"
      ]
    },
    {
      "cell_type": "markdown",
      "metadata": {
        "id": "zKchYEv5Gp7d"
      },
      "source": [
        "- [Plan ME](https://colab.research.google.com/github/dbremont/Notas/blob/main/Ingenerare/Planme.ipynb)\n",
        "\n",
        "- [Tech Crunch](https://techcrunch.com/)\n",
        "\n",
        "- [tweedeck.twitter.com](https://tweetdeck.twitter.com/)\n",
        "\n",
        "- [hacker news](https://news.ycombinator.com/)\n",
        "\n",
        "- [reddit api](https://api.pushshift.io/reddit/search/submission/?subreddit=java&sort=desc&sort_type=created_utc&after=1523588521&before=1523934121&size=1000)\n",
        "\n",
        "- [r/java](https://www.reddit.com/r/java/) | [r/ProgrammingLanguages](https://www.reddit.com/r/ProgrammingLanguages/)\n",
        "\n",
        "- [r/bash](https://www.reddit.com/r/bash/)\n",
        "\n",
        "- [r/physics](https://www.reddit.com/r/physics/) | [r/chemistry](https://www.reddit.com/r/chemistry/) | [r/neuroscience](https://www.reddit.com/r/neuroscience/)\n",
        "\n",
        "- [r/learnmachinelearning](https://www.reddit.com/r/learnmachinelearning/)  |  [r/MachineLearning](https://www.reddit.com/r/MachineLearning/) | [r/dataisbeautiful](https://www.reddit.com/r/dataisbeautiful/)\n",
        "\n",
        "- [r/statistics](https://www.reddit.com/r/statistics/)\n",
        "\n",
        "- [r/learnmath](https://www.reddit.com/r/learnmath/)\n",
        "\n",
        "- [Neuron Journal](https://www.cell.com/neuron/home)\n",
        "\n",
        "- [Nature](https://www.nature.com/)\n",
        "\n",
        "- [The Atlas Of Economic Complexity](https://atlas.cid.harvard.edu/)\n",
        "\n",
        "- [List of emerging technologies](https://en.wikipedia.org/wiki/List_of_emerging_technologies)\n",
        "\n",
        "- [usenix](https://www.usenix.org/) \n",
        "\n",
        "- [IEEE Transactions on Software Engineering](https://ieeexplore.ieee.org/xpl/RecentIssue.jsp?punumber=32)\n"
      ]
    }
  ]
}