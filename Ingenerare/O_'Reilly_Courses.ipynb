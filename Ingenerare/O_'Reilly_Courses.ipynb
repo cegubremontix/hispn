{
  "nbformat": 4,
  "nbformat_minor": 0,
  "metadata": {
    "colab": {
      "name": "O 'Reilly Courses.ipynb",
      "provenance": [],
      "toc_visible": true,
      "authorship_tag": "ABX9TyOeJaAR7/RpYvZL+Bgnllow",
      "include_colab_link": true
    },
    "kernelspec": {
      "name": "python3",
      "display_name": "Python 3"
    },
    "language_info": {
      "name": "python"
    }
  },
  "cells": [
    {
      "cell_type": "markdown",
      "metadata": {
        "id": "view-in-github",
        "colab_type": "text"
      },
      "source": [
        "<a href=\"https://colab.research.google.com/github/dbremont/Notas/blob/main/Ingenerare/O_'Reilly_Courses.ipynb\" target=\"_parent\"><img src=\"https://colab.research.google.com/assets/colab-badge.svg\" alt=\"Open In Colab\"/></a>"
      ]
    },
    {
      "cell_type": "markdown",
      "metadata": {
        "id": "Ece22H0tpTpb"
      },
      "source": [
        "# O 'Reilly Courses\n",
        "\n"
      ]
    },
    {
      "cell_type": "markdown",
      "metadata": {
        "id": "Tbg0QDozhCYd"
      },
      "source": [
        "- [Clean Code](https://learning.oreilly.com/videos/clean-code/9780134661742)\n",
        "\n",
        "- [Learn Java Design Patterns: The Complete Guide](https://learning.oreilly.com/videos/learn-java-design/9781800567320/)\n",
        "\n",
        "- [Clean Code](https://learning.oreilly.com/videos/clean-code/9780134661742/)\n",
        "\n",
        "- [Design Patterns in the Real World, an Analysis-Based Approach](https://learning.oreilly.com/videos/design-patterns-in/9781491935828/)\n",
        "\n",
        "- [Java Concurrency, 2/e](https://learning.oreilly.com/videos/java-concurrency-2-e/9780134510644/?autoplay=false)\n",
        "\n",
        "- [Design Patterns in Java](https://learning.oreilly.com/videos/design-patterns-in/9780133489989?autoplay=false)\n",
        "\n",
        "- [Parallel Functional Programming with Java LiveLessons](https://learning.oreilly.com/videos/parallel-functional-programming/9780136808558/?autoplay=false)\n",
        "\n",
        "- [High-Performance Computing and Concurrency](https://learning.oreilly.com/videos/high-performance-computing-and/9781491967560/?autoplay=false)\n",
        "\n",
        "- [Java Concurrency LiveLessons (Video Training)](https://learning.oreilly.com/videos/java-concurrency-livelessons/9780134070957/?autoplay=false)\n",
        "\n",
        "- [Optimizing Java](https://learning.oreilly.com/videos/optimizing-java/9781771374866/?autoplay=false)\n",
        "\n",
        "- [The Productive Programmer](https://learning.oreilly.com/videos/the-productive-programmer/9781449396411)\n",
        "\n",
        "- [Building Linux Servers: DHCP, DNS, and Directory Services](https://learning.oreilly.com/videos/building-linux-servers/9780137368495/?autoplay=false)\n",
        "\n",
        "- [Java 8 Fundamentals: Modern Java Development with Lambdas, Streams, and Introducing Java 9’s JShell and the Java Platform Module System (JPMS)](https://learning.oreilly.com/videos/java-8-fundamentals/9780133489354/?autoplay=false)\n",
        "\n",
        "- [Complete Bash Shell Scripting](https://learning.oreilly.com/videos/complete-bash-shell/9781800209695/?autoplay=false)"
      ]
    }
  ]
}