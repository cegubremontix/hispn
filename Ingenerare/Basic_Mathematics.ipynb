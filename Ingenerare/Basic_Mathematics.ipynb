{
  "nbformat": 4,
  "nbformat_minor": 0,
  "metadata": {
    "colab": {
      "name": "Basic Mathematics.ipynb",
      "provenance": [],
      "authorship_tag": "ABX9TyMXqHsn3xsErCrReQAdljOI",
      "include_colab_link": true
    },
    "kernelspec": {
      "name": "python3",
      "display_name": "Python 3"
    },
    "language_info": {
      "name": "python"
    }
  },
  "cells": [
    {
      "cell_type": "markdown",
      "metadata": {
        "id": "view-in-github",
        "colab_type": "text"
      },
      "source": [
        "<a href=\"https://colab.research.google.com/github/dbremont/Notas/blob/main/Ingenerare/Basic_Mathematics.ipynb\" target=\"_parent\"><img src=\"https://colab.research.google.com/assets/colab-badge.svg\" alt=\"Open In Colab\"/></a>"
      ]
    },
    {
      "cell_type": "markdown",
      "metadata": {
        "id": "Xp94XIsEAi_Z"
      },
      "source": [
        "* [Algebra Fundamentals](https://brilliant.org/courses/algebra-fundamentals/?from_topic=algebra)\n",
        "\n",
        "* [Pre-Algebra](https://brilliant.org/courses/pre-algebra/)\n",
        "\n",
        "* [Algebra I](https://brilliant.org/courses/algebra-extensions/?from_topic=algebra)\n",
        "\n",
        "* [Algebra II](https://brilliant.org/courses/graphing-and-modeling/?from_topic=algebra)\n",
        "\n",
        "* [Number Bases](https://brilliant.org/courses/number-bases/)\n",
        "\n",
        "* [Pre-Calculus](https://brilliant.org/courses/pre-calculus/)\n",
        "\n",
        "* [Trigonometry](https://brilliant.org/courses/trigonometry/)\n",
        "\n",
        "* [Complex Numbers](https://brilliant.org/courses/complex-algebra/)"
      ]
    }
  ]
}