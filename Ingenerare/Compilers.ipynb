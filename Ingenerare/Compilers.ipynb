{
  "nbformat": 4,
  "nbformat_minor": 0,
  "metadata": {
    "colab": {
      "name": "Compilers.ipynb",
      "provenance": [],
      "authorship_tag": "ABX9TyMrrY6SYPZX470uwz65/jU8",
      "include_colab_link": true
    },
    "kernelspec": {
      "name": "python3",
      "display_name": "Python 3"
    },
    "language_info": {
      "name": "python"
    }
  },
  "cells": [
    {
      "cell_type": "markdown",
      "metadata": {
        "id": "view-in-github",
        "colab_type": "text"
      },
      "source": [
        "<a href=\"https://colab.research.google.com/github/dbremont/Notas/blob/main/Ingenerare/Compilers.ipynb\" target=\"_parent\"><img src=\"https://colab.research.google.com/assets/colab-badge.svg\" alt=\"Open In Colab\"/></a>"
      ]
    },
    {
      "cell_type": "markdown",
      "metadata": {
        "id": "huLJuDTyqXzr"
      },
      "source": [
        "- [CS 6120: Advanced Compilers: The Self-Guided](https://www.cs.cornell.edu/courses/cs6120/2020fa/self-guided/)\n",
        "\n",
        "* [Programming Languages](https://classroom.udacity.com/courses/cs262)"
      ]
    }
  ]
}