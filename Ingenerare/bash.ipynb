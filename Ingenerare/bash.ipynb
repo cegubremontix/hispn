{
  "nbformat": 4,
  "nbformat_minor": 0,
  "metadata": {
    "colab": {
      "name": "bash.ipynb",
      "provenance": [],
      "authorship_tag": "ABX9TyO09V1Y4DhWg/IkRocazE47",
      "include_colab_link": true
    },
    "kernelspec": {
      "name": "python3",
      "display_name": "Python 3"
    },
    "language_info": {
      "name": "python"
    }
  },
  "cells": [
    {
      "cell_type": "markdown",
      "metadata": {
        "id": "view-in-github",
        "colab_type": "text"
      },
      "source": [
        "<a href=\"https://colab.research.google.com/github/dbremont/Notas/blob/main/Ingenerare/bash.ipynb\" target=\"_parent\"><img src=\"https://colab.research.google.com/assets/colab-badge.svg\" alt=\"Open In Colab\"/></a>"
      ]
    },
    {
      "cell_type": "markdown",
      "metadata": {
        "id": "5WisNjhZnTU9"
      },
      "source": [
        "- [A language server for Bash](https://github.com/bash-lsp/bash-language-server)\n",
        "\n",
        "- [BashWeaknesses](http://mywiki.wooledge.org/BashWeaknesses)\n",
        "\n",
        "- [bash reference manual](https://www.gnu.org/software/bash/manual/bash.html),\n",
        "\n",
        "- [Advanced Bash-Scripting Guide](https://tldp.org/LDP/abs/html/index.html)\n",
        "\n",
        "- [Advanced Bash-Scripting Guide An in-depth exploration of the art of shell scripting](https://tldp.org/LDP/abs/html/index.html)\n",
        "\n",
        "- [Combine two .csv tables? : bash](https://www.reddit.com/r/bash/comments/pkbtm8/combine_two_csv_tables/)\n",
        "\n",
        "- [Advanced Bash-Scripting Guide](https://tldp.org/LDP/abs/html/index.html)"
      ]
    }
  ]
}