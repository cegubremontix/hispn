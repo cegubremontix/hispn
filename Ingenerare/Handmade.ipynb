{
  "nbformat": 4,
  "nbformat_minor": 0,
  "metadata": {
    "colab": {
      "name": "Handmade.ipynb",
      "provenance": [],
      "authorship_tag": "ABX9TyNOQQwwMwssw0Ct5tfPSYgT",
      "include_colab_link": true
    },
    "kernelspec": {
      "name": "python3",
      "display_name": "Python 3"
    },
    "language_info": {
      "name": "python"
    }
  },
  "cells": [
    {
      "cell_type": "markdown",
      "metadata": {
        "id": "view-in-github",
        "colab_type": "text"
      },
      "source": [
        "<a href=\"https://colab.research.google.com/github/dbremont/Notas/blob/main/Ingenerare/Handmade.ipynb\" target=\"_parent\"><img src=\"https://colab.research.google.com/assets/colab-badge.svg\" alt=\"Open In Colab\"/></a>"
      ]
    },
    {
      "cell_type": "markdown",
      "metadata": {
        "id": "9efCTh4Kd7cL"
      },
      "source": [
        "# Handmade"
      ]
    },
    {
      "cell_type": "markdown",
      "metadata": {
        "id": "5dhsSyz3d8_i"
      },
      "source": [
        "-  Game C:\n",
        "* From scratch\n",
        "* 2D Game, no libraries\n",
        "* Low level as you can get\n",
        "* He is using visual studio (debugging), editing (emacs), windows (os)\n",
        "* The game will be multiplatform (but for me only ubuntu (linux))\n",
        "* Put all the bitmap into memory, and tell the os put that into the screen\n",
        "        * The audio will be the same.\n",
        "        * Learn how to render from scratch, audio engine, video engine.\n",
        "      * Programming = Modifying memory (But plese used abstraction)\n",
        "* Virtual memory: memory into pages.  OS Map virtual pages to physical memory.\n",
        "* Stack vs Heap (look at assembly for more information).\n",
        "* Latency\n",
        "* Througput\n",
        "\n",
        " According to Casey Muratori he can improve the cached management.\n",
        "* Visual Studio is used in game industry for debuggin."
      ]
    }
  ]
}