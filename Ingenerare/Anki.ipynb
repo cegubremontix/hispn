{
  "nbformat": 4,
  "nbformat_minor": 0,
  "metadata": {
    "colab": {
      "name": "Anki.ipynb",
      "provenance": [],
      "toc_visible": true,
      "authorship_tag": "ABX9TyMWUuWEByNf0Jg/qVgx9Ccm",
      "include_colab_link": true
    },
    "kernelspec": {
      "name": "python3",
      "display_name": "Python 3"
    },
    "language_info": {
      "name": "python"
    }
  },
  "cells": [
    {
      "cell_type": "markdown",
      "metadata": {
        "id": "view-in-github",
        "colab_type": "text"
      },
      "source": [
        "<a href=\"https://colab.research.google.com/github/dbremont/Notas/blob/main/Ingenerare/Anki.ipynb\" target=\"_parent\"><img src=\"https://colab.research.google.com/assets/colab-badge.svg\" alt=\"Open In Colab\"/></a>"
      ]
    },
    {
      "cell_type": "markdown",
      "metadata": {
        "id": "ISf94D46sp6r"
      },
      "source": [
        "* [Augmenting Long-term Memory](http://augmentingcognition.com/ltm.html)\n",
        "\n",
        "* [Anki as Learning Superpower: Computer Science Edition](https://www.gresearch.co.uk/article/anki-as-learning-superpower-computer-science-edition/)\n",
        "\n",
        "* [13 Lucky Tips for using Anki and Spaced Repetition in 2019](https://getpolarized.io/2019/05/25/13-lucky-tips-for-using-anki-and-spaced-repetition-2019.html#)"
      ]
    },
    {
      "cell_type": "markdown",
      "metadata": {
        "id": "n6dsSryg1aL_"
      },
      "source": [
        "## Mis Decks"
      ]
    },
    {
      "cell_type": "markdown",
      "metadata": {
        "id": "t9zAtaca2lj_"
      },
      "source": [
        "### algorithms-data-structures\n",
        "\n",
        "- terminologia,\n",
        "- solucion de problemas,\n",
        "- explication de algoritmos,\n",
        "- Concentrarme en data compression,\n",
        "- [Hutter Price](http://prize.hutter1.net/)\n",
        "- ...\n"
      ]
    },
    {
      "cell_type": "markdown",
      "metadata": {
        "id": "ypRjM_Oe8306"
      },
      "source": [
        "* [Algorithms & Data Structures](https://colab.research.google.com/github/dbremont/Notas/blob/main/Temas%20de%20Estudio/Algorithms.ipynb)\n",
        "\n",
        "- [Genetic Algorithms + Data Structures = Evolution Programs](https://colab.research.google.com/github/dbremont/Notas/blob/main/Libros/Aprendisaje%20Automatico/Genetic_Algorithms_%2B_Data_Structures_%3D_Evolution_Programs.ipynb)\n",
        "\n",
        "- [Algorithms The Spirit of Computing](https://colab.research.google.com/github/dbremont/Notas/blob/main/Libros/Computacion/Algorithms%20The%20Spirit%20of%20Computing.ipynb)\n",
        "\n",
        "- [Introduction to Algorithms](https://colab.research.google.com/github/dbremont/Notas/blob/main/Libros/Computacion/Introduction%20to%20Algorithms.ipynb)\n",
        "\n",
        "* [Nine Algorithms That Changed the Future](https://colab.research.google.com/github/dbremont/Notas/blob/main/Libros/Computacion/Nine%20ALgorithms%20That%20Changed%20the%20Future.ipynb)\n",
        "\n",
        "* [Programming Perls](https://colab.research.google.com/github/dbremont/Notas/blob/main/Libros/Computacion/Programming_Pearls.ipynb)"
      ]
    },
    {
      "cell_type": "markdown",
      "metadata": {
        "id": "Wca-n1wb2q64"
      },
      "source": [
        "### calculus"
      ]
    },
    {
      "cell_type": "markdown",
      "metadata": {
        "id": "JAQw6qwc2sF5"
      },
      "source": [
        "### ciencia"
      ]
    },
    {
      "cell_type": "markdown",
      "metadata": {
        "id": "R0FOzvOl2tFg"
      },
      "source": [
        "### compilers"
      ]
    },
    {
      "cell_type": "markdown",
      "metadata": {
        "id": "ZKXGGW4m23Ql"
      },
      "source": [
        "### computational-learning"
      ]
    },
    {
      "cell_type": "markdown",
      "metadata": {
        "id": "oIPn0NwI24yU"
      },
      "source": [
        "### computer-systems"
      ]
    },
    {
      "cell_type": "markdown",
      "metadata": {
        "id": "o1IeN1dJ27PI"
      },
      "source": [
        "### databases\n"
      ]
    },
    {
      "cell_type": "markdown",
      "metadata": {
        "id": "9sIF2ZDYKZ2p"
      },
      "source": [
        "* [Databases](https://colab.research.google.com/github/dbremont/Notas/blob/main/Ingenerare/Databases.ipynb)\n",
        "\n",
        "* [Readings in Database Systems **Add Notebook**](http://www.redbook.io/)\n",
        "\n",
        "* [Designing Data-Intensive Applications](https://colab.research.google.com/github/dbremont/Notas/blob/main/Libros/Computacion/Designing%20Data-Intensive%20Applications.ipynb)\n",
        "\n",
        "* [Database Internals - A Deep Dive into How Distributed Data Systems Work](https://colab.research.google.com/github/dbremont/Notas/blob/main/Libros/Computacion/Database%20Internals%20-%20A%20Deep%20Dive%20into%20How%20Distributed%20Data%20Systems%20Work.ipynb)\n",
        "\n",
        "* [Database Systems Concepts](https://colab.research.google.com/github/dbremont/Notas/blob/main/Libros/Computacion/Database%20Systems%20Concepts.ipynb)"
      ]
    },
    {
      "cell_type": "markdown",
      "metadata": {
        "id": "jsE7LBOj291n"
      },
      "source": [
        "### devtools"
      ]
    },
    {
      "cell_type": "markdown",
      "metadata": {
        "id": "NzFDbCxg3AHo"
      },
      "source": [
        "### differential-equations"
      ]
    },
    {
      "cell_type": "markdown",
      "metadata": {
        "id": "_9eWxdUa3EZz"
      },
      "source": [
        "### distributed-system"
      ]
    },
    {
      "cell_type": "markdown",
      "metadata": {
        "id": "7mmE4cBt31u_"
      },
      "source": [
        "### economia"
      ]
    },
    {
      "cell_type": "markdown",
      "metadata": {
        "id": "D2RUjasK4Bvl"
      },
      "source": [
        "### lexico-frases"
      ]
    },
    {
      "cell_type": "markdown",
      "metadata": {
        "id": "_XRNfFrO4FdK"
      },
      "source": [
        "### historia"
      ]
    },
    {
      "cell_type": "markdown",
      "metadata": {
        "id": "RW01pkDW4Ike"
      },
      "source": [
        "### java"
      ]
    },
    {
      "cell_type": "markdown",
      "metadata": {
        "id": "E1IRg1FcLNS7"
      },
      "source": [
        "* [Optimizing Java](https://colab.research.google.com/github/dbremont/Notas/blob/main/Libros/Computacion/Optimizing_Java.ipynb)\n",
        "\n",
        "* [Java Cookbook](https://github.com/dbremont/Notas/blob/main/Libros/Computacion/Java_Cookbook.ipynb)\n",
        "\n",
        "* [Concurrent Programming in Java : Design Principles and Patterns](https://colab.research.google.com/github/dbremont/Notas/blob/main/Libros/Computacion/Concurent_Programming_in_Java_Design_Principles_and_Patterns.ipynb)\n",
        "\n",
        "* [The Java Language Specification](https://colab.research.google.com/github/dbremont/Notas/blob/main/Libros/Computacion/The_Java_Language_Specification.ipynb)\n",
        "\n",
        "* [The Java Virtual Machine Specification](https://colab.research.google.com/github/dbremont/Notas/blob/main/Libros/Computacion/The_Java_Virtual_Machine_Specification.ipynb)\n",
        "\n",
        "* [Java EE 8](https://colab.research.google.com/github/dbremont/Notas/blob/main/Libros/Computacion/Java_EE_8.ipynb)\n",
        "\n",
        "* [97 Things Every Java Programmer Should Know](https://colab.research.google.com/github/dbremont/Notas/blob/main/Libros/Computacion/97_Things_Every_Java_Programmer_Should_Know.ipynb)\n",
        "\n",
        "* [Effective Java](https://colab.research.google.com/github/dbremont/Notas/blob/main/Libros/Computacion/Effective_Java.ipynb)\n",
        "\n",
        "* [Java Concurrency in Practice](https://colab.research.google.com/github/dbremont/Notas/blob/main/Libros/Computacion/Java_Concurrency_in_Practice.ipynb)\n",
        "\n",
        "* [Java Puzzlers: Traps, Pitfalls and Corner Cases](https://colab.research.google.com/github/dbremont/Notas/blob/main/Libros/Computacion/Java_Puzzlers_Traps%2C_Pitfalls_and_Corner_Cases.ipynb)"
      ]
    },
    {
      "cell_type": "markdown",
      "metadata": {
        "id": "cnPDxfsP4K3P"
      },
      "source": [
        "### cogtools\n",
        "\n",
        "- Learn,\n",
        "- Organize,\n",
        "- Problem,\n",
        "- Memorize"
      ]
    },
    {
      "cell_type": "markdown",
      "metadata": {
        "id": "8Xuym3Es4QhK"
      },
      "source": [
        "### linear-algebra"
      ]
    },
    {
      "cell_type": "markdown",
      "metadata": {
        "id": "ZJp3EXLP4SbG"
      },
      "source": [
        "### network-systems"
      ]
    },
    {
      "cell_type": "markdown",
      "metadata": {
        "id": "FSGqt7Va4UEU"
      },
      "source": [
        "### operative-systems"
      ]
    },
    {
      "cell_type": "markdown",
      "metadata": {
        "id": "rw2zIaVR4Vja"
      },
      "source": [
        "### probability-statistics"
      ]
    },
    {
      "cell_type": "markdown",
      "metadata": {
        "id": "RdjzBKzl4Wq1"
      },
      "source": [
        "### security"
      ]
    },
    {
      "cell_type": "markdown",
      "metadata": {
        "id": "TTde9_GM1eLh"
      },
      "source": [
        "\n",
        "### software-design"
      ]
    },
    {
      "cell_type": "markdown",
      "metadata": {
        "id": "tm2IwllmvDON"
      },
      "source": [
        "## Strategy to Used Anki"
      ]
    },
    {
      "cell_type": "markdown",
      "metadata": {
        "id": "aInrun8PvGld"
      },
      "source": [
        "- I live in an environment with a set of current tasks/problems to solve, a set of future skills to learn to increase my problem solving and money making capacity.\n",
        "\n",
        "- How to choose the set of topics to ankify? And create desks for them.\n",
        "\n",
        "  - Cost/Effectiness?\n",
        "  - How much time memorize *x* is going to save me.\n",
        "  - importance of remember *x*?\n",
        "  - value of remembering *x*?\n",
        "  - opportunity cost of learning *x*\n",
        "  - how much would i used *x*?\n",
        "  - when to forget *x*?\n",
        "\n",
        "- What tools to i have today to solve problems.\n",
        "   - Improve them, learn the basics better.\n",
        "\n",
        "- Do you want to add more tools to solve more problems.\n",
        "\n",
        "- What concepts i used the most, an i have to be looking at them?\n",
        "  -  Learn them better.\n",
        "\n",
        "- What time does learning *x* is going to save me?\n",
        "\n",
        "- With 25 minutes a day, how much **descks** should i have?"
      ]
    },
    {
      "cell_type": "markdown",
      "metadata": {
        "id": "dBKUiJX4toxF"
      },
      "source": [
        "## Michel Nilsen Anki"
      ]
    },
    {
      "cell_type": "markdown",
      "metadata": {
        "id": "YokER-jTtnLc"
      },
      "source": [
        "- The single biggest change is that memory is no longer a haphazard event, to be left to chance. Rather, I can guarantee I will remember something, with minimal effort: it makes memory a _choice_.\n",
        "\n",
        "- Rule of thumb: if memorizing something will likely save me five minutes in the future, into the spaced repetion system it goes. The expected lifetime review time is less than five minutes, i.e., it takes < 5 minutes to learn something... forever.\n",
        "\n",
        "- I review cards on the mobile app, while going for walks, in line at the coffeeshop, in transit, and so on. I find it meditative. It takes about 20 mins each day.\n",
        "\n",
        "-  A caveat: there is a difference between remembering facts and\n",
        "mastering processes. It's one thing to know a command; it's another to\n",
        "actually type the command.\n",
        "\n",
        "- To really internalize a process, you need to actually do the process. Still, I've found the transfer relatively easy.\n",
        "\n",
        "- It's best to make cards as atomic as possible.\n",
        "\n",
        "- I use Anki for almost everything.\n",
        "  - Learning places and all kinds of facts about my city, from the best things to order at a particular restaurant to demographic statistics (really) to favourite places in parts of the city I don't visit often.\n",
        "  - Learning APIs.\n",
        "  - Reading papers and books and watching  videos.  This is especially helpful for building mastery outside your area of expertise. You can (say) read a paper multiple times through, each time just grabbing what is easy, gradually building up an understanding.\n",
        "- ej:  Reading [Alpha Go Paper](https://www.quantamagazine.org/is-alphago-really-such-a-big-deal-20160329/)\n",
        "  - I read and reread the paper several times, as well as consulting a lot of adjacent papers, Wikipedia etc.\n",
        "  - I added several hundred Anki cards while doing.\n",
        "  - The early cards were mostly very simple things: facts about TDGammon (which used a similar approach to beat Backgammon), very basic facts about how Go works, and reinforcement learning and Monte Carlo Tree search.\n",
        "-  Verb form: I talk and think of \"Ankifying\" a paper or book etc.\n",
        "- It's easy to overdo it, especially initially, and waste time Ankifying useless info. Over time, I've found myself cultivating heuristics for how much to Ankify.\n",
        "- E.g., for many papers the answer is 0 to 5 questions. But for papers I want to understand better it might be 20 to 40. And for deep papers that I want to master it may be hundreds."
      ]
    }
  ]
}