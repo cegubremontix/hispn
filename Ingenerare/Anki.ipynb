{
  "nbformat": 4,
  "nbformat_minor": 0,
  "metadata": {
    "colab": {
      "name": "Anki.ipynb",
      "provenance": [],
      "toc_visible": true,
      "include_colab_link": true
    },
    "kernelspec": {
      "name": "python3",
      "display_name": "Python 3"
    },
    "language_info": {
      "name": "python"
    }
  },
  "cells": [
    {
      "cell_type": "markdown",
      "metadata": {
        "id": "view-in-github",
        "colab_type": "text"
      },
      "source": [
        "<a href=\"https://colab.research.google.com/github/dbremont/Notas/blob/main/Ingenerare/Anki.ipynb\" target=\"_parent\"><img src=\"https://colab.research.google.com/assets/colab-badge.svg\" alt=\"Open In Colab\"/></a>"
      ]
    },
    {
      "cell_type": "markdown",
      "metadata": {
        "id": "ISf94D46sp6r"
      },
      "source": [
        "[Augmenting Long-term Memory](https://colab.research.google.com/github/dbremont/Notas/blob/main/Ingenerare/Augmenting_Long_term_Memory.ipynb)\n",
        "\n"
      ]
    },
    {
      "cell_type": "markdown",
      "metadata": {
        "id": "ZC8tfymxAkaI"
      },
      "source": [
        "[computer-systems](https://colab.research.google.com/github/dbremont/Notas/blob/main/Ingenerare/Anki.ipynb#scrollTo=cogtools)\n",
        "\n",
        "[devtools](https://colab.research.google.com/github/dbremont/Notas/blob/main/Ingenerare/Anki.ipynb#scrollTo=RhG4LXc3ivz6)\n",
        "\n",
        "software-design\n",
        "\n",
        "[programming](https://colab.research.google.com/github/dbremont/Notas/blob/main/Ingenerare/Anki.ipynb#scrollTo=SWFAD2QG1UTa)\n",
        "\n",
        "[algorithms-data-structures](https://colab.research.google.com/github/dbremont/Notas/blob/main/Ingenerare/Anki.ipynb#scrollTo=t9zAtaca2lj_)\n",
        "\n",
        "[operative-systems](https://colab.research.google.com/github/dbremont/Notas/blob/main/Ingenerare/Anki.ipynb#scrollTo=FSGqt7Va4UEU)\n",
        "\n",
        "[databases](https://colab.research.google.com/github/dbremont/Notas/blob/main/Ingenerare/Anki.ipynb#scrollTo=o1IeN1dJ27PI)\n",
        "\n",
        "[java](https://colab.research.google.com/github/dbremont/Notas/blob/main/Ingenerare/Anki.ipynb#scrollTo=RW01pkDW4Ike)\n",
        "\n",
        "[c](https://colab.research.google.com/github/dbremont/Notas/blob/main/Ingenerare/Anki.ipynb#scrollTo=C2BYtLhvDPE-)\n",
        "\n",
        "distributed-system\n",
        "\n",
        "systems-performace"
      ]
    },
    {
      "cell_type": "markdown",
      "metadata": {
        "id": "n6dsSryg1aL_"
      },
      "source": [
        "## Mis Decks"
      ]
    },
    {
      "cell_type": "markdown",
      "metadata": {
        "id": "t9zAtaca2lj_"
      },
      "source": [
        "## algorithms-data-structures\n",
        "\n",
        "- terminologia,\n",
        "- solucion de problemas,\n",
        "- explication de algoritmos,\n",
        "- Concentrarme en data compression,\n",
        "- [Hutter Price](http://prize.hutter1.net/)\n",
        "- ...\n"
      ]
    },
    {
      "cell_type": "markdown",
      "metadata": {
        "id": "ypRjM_Oe8306"
      },
      "source": [
        "* [Algorithms & Data Structures](https://colab.research.google.com/github/dbremont/Notas/blob/main/Temas%20de%20Estudio/Algorithms.ipynb)\n",
        "\n",
        "- [Introduction to Algorithms](https://colab.research.google.com/github/dbremont/Notas/blob/main/Libros/Computacion/Introduction%20to%20Algorithms.ipynb)\n",
        "\n",
        "* [Nine Algorithms That Changed the Future](https://colab.research.google.com/github/dbremont/Notas/blob/main/Libros/Computacion/Nine%20ALgorithms%20That%20Changed%20the%20Future.ipynb)\n",
        "\n",
        "* [Programming Perls](https://colab.research.google.com/github/dbremont/Notas/blob/main/Libros/Computacion/Programming_Pearls.ipynb)"
      ]
    },
    {
      "cell_type": "markdown",
      "metadata": {
        "id": "Wca-n1wb2q64"
      },
      "source": [
        "## calculus"
      ]
    },
    {
      "cell_type": "markdown",
      "metadata": {
        "id": "T_azr7tdHd82"
      },
      "source": [
        "* [Pre Calculus](https://colab.research.google.com/github/dbremont/Notas/blob/main/Libros/Matematicas/Pre%20Calculus.ipynb)\n",
        "\n",
        "* [Calculus](https://colab.research.google.com/github/dbremont/Notas/blob/main/Libros/Matematicas/Calculus.ipynb)\n",
        "\n",
        "* [Calculus Made Easy](https://colab.research.google.com/github/dbremont/Notas/blob/main/Libros/Matematicas/Calculus%20Made%20Easy.ipynb)\n",
        "\n",
        "* [Single Variable Calculus](https://colab.research.google.com/github/dbremont/Notas/blob/main/Temas%20de%20Estudio/Single_Variable_Calculus.ipynb)\n",
        "\n",
        "* [Multi Variable Calculus](https://colab.research.google.com/github/dbremont/Notas/blob/main/Temas%20de%20Estudio/Multi_Variable_Calculus.ipynb)"
      ]
    },
    {
      "cell_type": "markdown",
      "metadata": {
        "id": "JAQw6qwc2sF5"
      },
      "source": [
        "## ciencia"
      ]
    },
    {
      "cell_type": "markdown",
      "metadata": {
        "id": "2DZTHqE25j3i"
      },
      "source": [
        "* [Simulation and Similarity](https://colab.research.google.com/github/dbremont/Notas/blob/main/Libros/Otros/Simulation%20and%20Similarity.ipynb)\n",
        "\n",
        "* [Galileo's Finger](https://colab.research.google.com/github/dbremont/Notas/blob/main/Libros/Ciencia/Galileo's_Finger.ipynb)\n",
        "\n",
        "* [Four Laws That Drive The Universe](https://colab.research.google.com/github/dbremont/Notas/blob/main/Libros/Ciencia/Four_Laws_That_Drive_The_Universe.ipynb)\n",
        "\n",
        "* [How Explain The World The Discovery of Modern Science](https://colab.research.google.com/github/dbremont/Notas/blob/main/Libros/Ciencia/How_Explain_The_World_The_Discovery_of_Modern_Science.ipynb)\n",
        "\n",
        "* [Science and Method](https://colab.research.google.com/github/dbremont/Notas/blob/main/Libros/Ciencia/Science_and_Method.ipynb)"
      ]
    },
    {
      "cell_type": "markdown",
      "metadata": {
        "id": "pwZojGjV96Tf"
      },
      "source": [
        "## fisica"
      ]
    },
    {
      "cell_type": "markdown",
      "metadata": {
        "id": "LT3kXMGz9-ss"
      },
      "source": [
        "* [Physics](https://colab.research.google.com/github/dbremont/Notas/blob/main/Temas%20de%20Estudio/Physics.ipynb)\n",
        "\n",
        "\n",
        "* [The forces of nature](https://github.com/dbremont/Notas/blob/main/Libros/Ciencia/The_forces_of_nature.ipynb)\n",
        "\n",
        "* [Physics from Finance](https://colab.research.google.com/github/dbremont/Notas/blob/main/Libros/Ciencia/Physics_from_Finance.ipynb)\n",
        "\n",
        "* [The Theoretical Minimum - What You Need to Know to Start Doing Physics](https://colab.research.google.com/github/dbremont/Notas/blob/main/Libros/Ciencia/The_Theoretical_Minimum_What_You_Need_to_Know_to_Start_Doing_Physics.ipynb)\n",
        "\n",
        "* [The force of symmetry](https://colab.research.google.com/github/dbremont/Notas/blob/main/Libros/Ciencia/The_force_of_symmetry.ipynb)\n",
        "\n",
        "* [Classical Mechanics A Modern Introduction](https://colab.research.google.com/github/dbremont/Notas/blob/main/Libros/Ciencia/Classical_Mechanics_A_Modern_Introduction.ipynb)"
      ]
    },
    {
      "cell_type": "markdown",
      "metadata": {
        "id": "k1QrG1H697Y_"
      },
      "source": [
        "## quimica"
      ]
    },
    {
      "cell_type": "markdown",
      "metadata": {
        "id": "1pKxeZBa98xJ"
      },
      "source": [
        "## biologia"
      ]
    },
    {
      "cell_type": "markdown",
      "metadata": {
        "id": "cst45UemDmei"
      },
      "source": [
        "* [Biology  Campbell - Reece](https://colab.research.google.com/github/dbremont/Notas/blob/main/Libros/Ciencia/Biology_Campbell_Reece.ipynb)"
      ]
    },
    {
      "cell_type": "markdown",
      "metadata": {
        "id": "R0FOzvOl2tFg"
      },
      "source": [
        "## compilers"
      ]
    },
    {
      "cell_type": "markdown",
      "metadata": {
        "id": "2uLv_CILHkUF"
      },
      "source": [
        "* [Compilers](https://colab.research.google.com/github/dbremont/Notas/blob/main/Ingenerare/Compilers.ipynb)\n",
        "\n",
        "* [Crafting Interpreters](https://colab.research.google.com/github/dbremont/Notas/blob/main/Libros/Computacion/Crafting%20Interpreters.ipynb)\n",
        "\n",
        "* [The Definitive ANTLR 4 Reference](https://colab.research.google.com/github/dbremont/Notas/blob/main/Libros/Computacion/The%20Definitive%20ANTLR%204%20Reference.ipynb)\n",
        "\n",
        "* [Language Implementantion Patterns](https://colab.research.google.com/github/dbremont/Notas/blob/main/Libros/Computacion/Language%20Implementation%20Patterns.ipynb)"
      ]
    },
    {
      "cell_type": "markdown",
      "metadata": {
        "id": "ZKXGGW4m23Ql"
      },
      "source": [
        "## computational-learning"
      ]
    },
    {
      "cell_type": "markdown",
      "metadata": {
        "id": "8JOv5NZVHj1f"
      },
      "source": [
        "* [Deep Learning - Goodfellow, Bengio & Courville](https://colab.research.google.com/github/dbremont/Notas/blob/main/Libros/Aprendisaje%20Automatico/Deep_Learning_Goodfellow%2C_Bengio_%26_Courville.ipynb)\n",
        "\n",
        "* [Grokking Machine Learning](https://colab.research.google.com/github/dbremont/Notas/blob/main/Libros/Aprendisaje%20Automatico/Grokking%20Machine%20Learning.ipynb)\n",
        "\n",
        "* [Approaching (Almost) Any Machine Learning Problem](https://colab.research.google.com/github/dbremont/Notas/blob/main/Libros/Aprendisaje%20Automatico/Approaching_(Almost)_Any_Machine_Learning_Problem.ipynb)\n",
        "\n",
        "* [Mathematics for Machine Learning](https://colab.research.google.com/github/dbremont/Notas/blob/main/Libros/Matematicas/Mathematics%20for%20Machine%20Learning.ipynb)\n",
        "\n",
        "\n",
        "\n"
      ]
    },
    {
      "cell_type": "markdown",
      "metadata": {
        "id": "oIPn0NwI24yU"
      },
      "source": [
        "## computer-systems"
      ]
    },
    {
      "cell_type": "markdown",
      "metadata": {
        "id": "mTwtxmJNHjfr"
      },
      "source": [
        "[Computer Systems](https://colab.research.google.com/github/dbremont/Notas/blob/main/Ingenerare/Computer_Systems.ipynb)\n",
        "\n",
        "[Computer Systems A Programmer's Perspective](https://colab.research.google.com/github/dbremont/Notas/blob/main/Libros/Computacion/Computer%20Systems%20A%20Programmer's%20Perspective.ipynb)\n",
        "\n",
        "[The Elements of Computing Systems](https://colab.research.google.com/github/dbremont/Notas/blob/main/Libros/Computacion/The%20Elements%20of%20Computing%20Systems.ipynb)\n",
        "\n",
        "[The Linux Programming Interface](https://colab.research.google.com/github/dbremont/Notas/blob/main/Libros/Computacion/The%20Linux%20Programming%20Interface.ipynb)\n",
        "\n",
        "[The Little Book of Semaphores](https://colab.research.google.com/github/dbremont/Notas/blob/main/Libros/Computacion/The_Little_Book_of_Semaphores.ipynb)"
      ]
    },
    {
      "cell_type": "markdown",
      "metadata": {
        "id": "o1IeN1dJ27PI"
      },
      "source": [
        "## databases\n"
      ]
    },
    {
      "cell_type": "markdown",
      "metadata": {
        "id": "9sIF2ZDYKZ2p"
      },
      "source": [
        "[Databases](https://colab.research.google.com/github/dbremont/Notas/blob/main/Ingenerare/Databases.ipynb)\n",
        "\n",
        "[Readings in Database Systems **Add Notebook**](http://www.redbook.io/)\n",
        "\n",
        "[Designing Data-Intensive Applications](https://colab.research.google.com/github/dbremont/Notas/blob/main/Libros/Computacion/Designing%20Data-Intensive%20Applications.ipynb)\n",
        "\n",
        "[Database Internals - A Deep Dive into How Distributed Data Systems Work](https://colab.research.google.com/github/dbremont/Notas/blob/main/Libros/Computacion/Database%20Internals%20-%20A%20Deep%20Dive%20into%20How%20Distributed%20Data%20Systems%20Work.ipynb)\n",
        "\n",
        "[Database Systems Concepts](https://colab.research.google.com/github/dbremont/Notas/blob/main/Libros/Computacion/Database%20Systems%20Concepts.ipynb)"
      ]
    },
    {
      "cell_type": "markdown",
      "metadata": {
        "id": "jsE7LBOj291n"
      },
      "source": [
        "## devtools"
      ]
    },
    {
      "cell_type": "markdown",
      "metadata": {
        "id": "RhG4LXc3ivz6"
      },
      "source": [
        "[Herramientas de Desarollo](https://colab.research.google.com/github/dbremont/Notas/blob/main/Ingenerare/Herramientas_de_Desarollo.ipynb)\n",
        "\n",
        "[Articulos Herramientas de Desarrollo](https://colab.research.google.com/github/dbremont/Notas/blob/main/Ingenerare/Articulos_Herramientas_de_Desarrollo.ipynb)\n",
        "\n",
        "[Bash Reference Manual](https://colab.research.google.com/github/dbremont/Notas/blob/main/Libros/Computacion/Bash_Reference_Manual.ipynb)\n",
        "\n",
        "[Advanced Bash-Scripting Guide](https://colab.research.google.com/github/dbremont/Notas/blob/main/Libros/Computacion/Advanced_Bash_Scripting_Guide_An_in_depth_exploration_of_the_art_of_shell_scripting.ipynb)\n",
        "\n",
        "[Pro GIT](https://colab.research.google.com/github/dbremont/Notas/blob/main/Libros/Computacion/Pro_GIT.ipynb)"
      ]
    },
    {
      "cell_type": "markdown",
      "metadata": {
        "id": "NzFDbCxg3AHo"
      },
      "source": [
        "## differential-equations"
      ]
    },
    {
      "cell_type": "markdown",
      "metadata": {
        "id": "_9eWxdUa3EZz"
      },
      "source": [
        "## distributed-system"
      ]
    },
    {
      "cell_type": "markdown",
      "metadata": {
        "id": "Z4kwJAjzGOzF"
      },
      "source": [
        "* [Distributed Systems](https://colab.research.google.com/github/dbremont/Notas/blob/main/Ingenerare/Distributed_Systems.ipynb)"
      ]
    },
    {
      "cell_type": "markdown",
      "metadata": {
        "id": "7mmE4cBt31u_"
      },
      "source": [
        "## economia"
      ]
    },
    {
      "cell_type": "markdown",
      "metadata": {
        "id": "pF8jmQD3EnH-"
      },
      "source": [
        "* [Modern Evolutionary Economics An Overview](https://colab.research.google.com/github/dbremont/Notas/blob/main/Libros/Otros/Modern_Evolutionary_Economics_An_Overview.ipynb)\n",
        "\n",
        "* [Naked money - A Revealing Look at Our Financial System](https://colab.research.google.com/github/dbremont/Notas/blob/main/Libros/Otros/Naked%20money%20-%20A%20Revealing%20Look%20at%20Our%20Financial%20System.ipynb)\n",
        "\n",
        "* [Why Stock Markets Crash](https://colab.research.google.com/github/dbremont/Notas/blob/main/Libros/Otros/Why%20Stock%20Markets%20Crash.ipynb)\n",
        "\n",
        "* [Bad Samaritans: The guilty secrets of rich nations & the threat to global prosperity](https://colab.research.google.com/github/dbremont/Notas/blob/main/Libros/Otros/Bad%20Samaritans:%20The%20guilty%20secrets%20of%20rich%20nations%20%26%20the%20threat%20to%20global%20prosperity.ipynb)\n",
        "\n",
        "* [How Rich Countries Got Rich ... and Why Poor Countries Stay Poor](https://colab.research.google.com/github/dbremont/Notas/blob/main/Libros/Otros/How%20Rich%20Countries%20Got%20Rich%20...%20and%20Why%20Poor%20Countries%20Stay%20Poor.ipynb)\n",
        "\n",
        "* [Why Information Grows](https://colab.research.google.com/github/dbremont/Notas/blob/main/Libros/Otros/Why%20Information%20Grows.ipynb)\n",
        "\n",
        "\n",
        "* [Debt: The First 5000 Years](https://colab.research.google.com/github/dbremont/Notas/blob/main/Libros/Otros/Debt_The_First_5000_Years.ipynb)\n",
        "\n",
        "* [The Making of an Economic Superpower: Unlocking China's Secret of Rapid Industrialization](https://colab.research.google.com/github/dbremont/Notas/blob/main/Libros/Otros/The_Making_of_an_Economic_Superpower_Unlocking_China's_Secret_of_Rapid_Industrialization.ipynb)\n",
        "\n",
        "* [The Art of Economic Catch-Up: Barriers, Detours and Leapfrogging in Innovation Systems](https://colab.research.google.com/github/dbremont/Notas/blob/main/Libros/Otros/The_Art_of_Economic_Catch_Up_Barriers%2C_Detours_and_Leapfrogging_in_Innovation_Systems.ipynb)\n",
        "\n",
        "* [Guide for the Young Economist](https://colab.research.google.com/github/dbremont/Notas/blob/main/Libros/Otros/Guide_for_the_Young_Economist.ipynb)\n",
        "\n",
        "* [Economics A Very Short Introduction](https://colab.research.google.com/github/dbremont/Notas/blob/main/Libros/Otros/Economics_A_Very_Short_Introduction.ipynb)"
      ]
    },
    {
      "cell_type": "markdown",
      "metadata": {
        "id": "D2RUjasK4Bvl"
      },
      "source": [
        "## lexico-frases"
      ]
    },
    {
      "cell_type": "markdown",
      "metadata": {
        "id": "_XRNfFrO4FdK"
      },
      "source": [
        "## historia"
      ]
    },
    {
      "cell_type": "markdown",
      "metadata": {
        "id": "ppQa2gXpEd-u"
      },
      "source": [
        "* [La Sociedad Novohispana](https://colab.research.google.com/github/dbremont/Notas/blob/main/Libros/Otros/La%20Sociedad%20Novohispana.ipynb)\n",
        "\n",
        "* [Elegia Criolla - Una reinterpretacion de las guerras de independencia hispanoamericanas](https://colab.research.google.com/github/dbremont/Notas/blob/main/Libros/Otros/Elegia%20Criolla%20-%20Una%20reinterpretacion%20de%20las%20guerras%20de%20independencia%20hispanoamericanas.ipynb)\n",
        "\n",
        "* [La disputa del pasado: España, México y la leyenda negra](https://colab.research.google.com/github/dbremont/Notas/blob/main/Libros/Otros/La_disputa_del_pasado_Espa%C3%B1a%2C_M%C3%A9xico_y_la_leyenda_negra.ipynb)"
      ]
    },
    {
      "cell_type": "markdown",
      "metadata": {
        "id": "RW01pkDW4Ike"
      },
      "source": [
        "## java"
      ]
    },
    {
      "cell_type": "markdown",
      "metadata": {
        "id": "E1IRg1FcLNS7"
      },
      "source": [
        "[Notes on Java](https://colab.research.google.com/github/dbremont/Notas/blob/main/Herramientas/Java.ipynb)\n",
        "\n",
        "[The Java Virtual Machine Specification](https://colab.research.google.com/github/dbremont/Notas/blob/main/Libros/Computacion/The_Java_Virtual_Machine_Specification.ipynb)\n",
        "\n",
        "[The Java Language Specification](https://colab.research.google.com/github/dbremont/Notas/blob/main/Libros/Computacion/The_Java_Language_Specification.ipynb)\n",
        "\n",
        "[Java Cookbook](https://colab.research.google.com/github/dbremont/Notas/blob/main/Libros/Computacion/Java_Cookbook.ipynb)\n",
        "\n",
        "[Concurrent Programming in Java : Design Principles and Patterns](https://colab.research.google.com/github/dbremont/Notas/blob/main/Libros/Computacion/Concurent_Programming_in_Java_Design_Principles_and_Patterns.ipynb)\n",
        "\n",
        "\n",
        "[Java EE 8](https://colab.research.google.com/github/dbremont/Notas/blob/main/Libros/Computacion/Java_EE_8.ipynb)\n",
        "\n",
        "\n",
        "[Effective Java](https://colab.research.google.com/github/dbremont/Notas/blob/main/Libros/Computacion/Effective_Java.ipynb)\n",
        "\n",
        "[Java Concurrency in Practice](https://colab.research.google.com/github/dbremont/Notas/blob/main/Libros/Computacion/Java_Concurrency_in_Practice.ipynb)\n",
        "\n",
        "[Java Puzzlers: Traps, Pitfalls and Corner Cases](https://colab.research.google.com/github/dbremont/Notas/blob/main/Libros/Computacion/Java_Puzzlers_Traps%2C_Pitfalls_and_Corner_Cases.ipynb)\n",
        "\n",
        "[6.005 Software Engineering in Java](https://colab.research.google.com/github/dbremont/Notas/blob/main/Ingenerare/6_005_Software_Construction_in_Java.ipynb#scrollTo=qSPWydqFOlGh)\n",
        "\n",
        "--- \n",
        "\n",
        "[JAR File Specification](https://docs.oracle.com/javase/7/docs/technotes/guides/jar/jar.html)"
      ]
    },
    {
      "cell_type": "markdown",
      "metadata": {
        "id": "C2BYtLhvDPE-"
      },
      "source": [
        "## c"
      ]
    },
    {
      "cell_type": "markdown",
      "metadata": {
        "id": "lmEp658rDRBV"
      },
      "source": [
        "[Practical C Programming](https://colab.research.google.com/github/dbremont/Notas/blob/main/Libros/Computacion/C_Programming.ipynb)\n",
        "\n",
        "[C Interfaces and Implementations](https://colab.research.google.com/github/dbremont/Notas/blob/main/Libros/Computacion/C%20Interfaces%20and%20Implementations.ipynb)"
      ]
    },
    {
      "cell_type": "markdown",
      "metadata": {
        "id": "cnPDxfsP4K3P"
      },
      "source": [
        "## cogtools\n",
        "\n",
        "- Learn,\n",
        "- Organize,\n",
        "- Problem,\n",
        "- Memorize,\n",
        "- Analyze,\n",
        "- Model,\n",
        "- Syntethize,\n",
        "- Interpret,\n",
        "- Desicion Making"
      ]
    },
    {
      "cell_type": "markdown",
      "metadata": {
        "id": "cxjoLpptE7VS"
      },
      "source": [
        "[Articulos](https://colab.research.google.com/github/dbremont/Notas/blob/main/Ingenerare/Articulos_Generales.ipynb)\n",
        "\n",
        "[50 Ideas That Changed My Life](https://perell.com/essay/50-ideas-that-changed-my-life/)\n",
        "\n",
        "\n",
        "* [The Five Elements of Effective Thinking](https://colab.research.google.com/github/dbremont/Notas/blob/main/Libros/Otros/The_Five_Elements_of_Effective_Thinking.ipynb)\n",
        "\n",
        "* [Think like a Stoic: Ancient Wisdom for Today's World](https://www.thegreatcourses.com/player/Video/5030?autoplay=false)\n",
        "\n",
        "* [Outsmart Yourself: Brain-Based Strategies to a Better You](https://www.thegreatcourses.com/player/Video/1670)\n",
        "\n",
        "* [The Science of Everyday Thinking](https://www.edx.org/es/course/the-science-of-everyday-thinking)\n",
        "\n",
        "* [Conceptual Blockbusting - A Guide to Better Ideas](https://colab.research.google.com/github/dbremont/Notas/blob/main/Libros/Otros/Conceptual%20Blockbusting%20-%20A%20Guide%20to%20Better%20Ideas.ipynb)\n",
        "\n",
        "* [A Mind for Numbers](https://colab.research.google.com/github/dbremont/Notas/blob/main/Libros/Otros/A%20Mind%20for%20Numbers.ipynb)\n",
        "\n",
        "* [Pragmatic  Thinking & Learning](https://colab.research.google.com/github/dbremont/Notas/blob/main/Libros/Otros/Pragmatic%20Thinking%20%26%20Learning.ipynb)\n",
        "\n",
        "* [Super Thinking](https://colab.research.google.com/github/dbremont/Notas/blob/main/Libros/Otros/Super%20Thinking.ipynb)\n",
        "\n",
        "* [Noise](https://colab.research.google.com/github/dbremont/Notas/blob/main/Libros/Otros/Noise.ipynb)\n",
        "\n",
        "* [How to Take Smart Notes](https://colab.research.google.com/github/dbremont/Notas/blob/main/Libros/Otros/How_to_take_smart_notess.ipynb)\n",
        "\n",
        "* [The Five Elements of Effective Thinking](https://colab.research.google.com/github/dbremont/Notas/blob/main/Libros/Otros/The_Five_Elements_of_Effective_Thinking.ipynb)\n",
        "\n",
        "* [How to Read a Book](https://colab.research.google.com/github/dbremont/Notas/blob/main/Libros/Otros/How%20to%20Read%20a%20Book.ipynb)\n",
        "\n",
        "* [The Daily Stoic](https://colab.research.google.com/github/dbremont/Notas/blob/main/Libros/Otros/The_Daily_Stoic.ipynb)\n",
        "\n",
        "* [A Guide to the Good Life: The Ancient Art of Stoic Joy](https://colab.research.google.com/github/dbremont/Notas/blob/main/Libros/Otros/A_Guide_to_the_Good_Life_The_Ancient_Art_of_Stoic_Joy.ipynb)\n",
        "\n",
        "* [The Model Thinker](https://colab.research.google.com/github/dbremont/Notas/blob/main/Libros/Matematicas/The%20Model%20Thinker.ipynb)\n",
        "\n",
        "* [Mathematical Modelling](https://colab.research.google.com/github/dbremont/Notas/blob/main/Libros/Matematicas/Mathematical_Modelling.ipynb)\n",
        "\n"
      ]
    },
    {
      "cell_type": "markdown",
      "metadata": {
        "id": "8Xuym3Es4QhK"
      },
      "source": [
        "## linear-algebra"
      ]
    },
    {
      "cell_type": "markdown",
      "metadata": {
        "id": "zPlrbY6uGCIf"
      },
      "source": [
        "* [No Bullshit guide to Linear Algebra](https://colab.research.google.com/github/dbremont/Notas/blob/main/Libros/Matematicas/No%20Bullshit%20guide%20to%20Linear%20Algebra.ipynb)\n",
        "\n",
        "* [Linear Algebra](https://colab.research.google.com/github/dbremont/Notas/blob/main/Temas%20de%20Estudio/Linear%20Algebra.ipynb)"
      ]
    },
    {
      "cell_type": "markdown",
      "metadata": {
        "id": "ZJp3EXLP4SbG"
      },
      "source": [
        "## network-systems"
      ]
    },
    {
      "cell_type": "markdown",
      "metadata": {
        "id": "8xP-G41lGJ7U"
      },
      "source": [
        "[Computer Networks a systems approach](https://github.com/dbremont/Notas/blob/main/Libros/Computacion/Computer_Networks_a_systems_approach.ipynb)"
      ]
    },
    {
      "cell_type": "markdown",
      "metadata": {
        "id": "FSGqt7Va4UEU"
      },
      "source": [
        "## operative-systems"
      ]
    },
    {
      "cell_type": "markdown",
      "metadata": {
        "id": "9Rs6AdOmGRdr"
      },
      "source": [
        "[Operating Systems](https://colab.research.google.com/github/dbremont/Notas/blob/main/Ingenerare/Operating_Systems.ipynb)\n",
        "\n",
        "[xv6: a simple, Unix-like teaching operating system](https://colab.research.google.com/github/dbremont/Notas/blob/main/Libros/Computacion/xv6_a_simple%2C_Unix_like_teaching_operating_system.ipynb)\n",
        "\n",
        "[The Design of the Unix Operating System](https://colab.research.google.com/github/dbremont/Notas/blob/main/Libros/Computacion/The_Design_of_the_Unix_Operating_System.ipynb)\n",
        "\n",
        "[Operating Systems - Design and Implementation](https://colab.research.google.com/github/dbremont/Notas/blob/main/Libros/Computacion/Operating%20Systems%20-%20Design%20and%20Implementation.ipynb)\n",
        "\n",
        "[Operative System Three Easy Pieces](https://colab.research.google.com/github/dbremont/Notas/blob/main/Libros/Computacion/Operative_System_Three_Easy_Pieces.ipynb)\n",
        "\n",
        "[The Design and Implementation of the FreeBSD Operative System](https://github.com/dbremont/Notas/blob/main/Libros/Computacion/The_Design_and_Implementation_of_the_FreeBSD_Operative_System.ipynb)"
      ]
    },
    {
      "cell_type": "markdown",
      "metadata": {
        "id": "K3x4xfQSPnnD"
      },
      "source": [
        "### systems-performace"
      ]
    },
    {
      "cell_type": "markdown",
      "metadata": {
        "id": "oEtY5j62PpxI"
      },
      "source": [
        "[Performace Engineering](https://colab.research.google.com/github/dbremont/Notas/blob/main/Temas%20de%20Estudio/Performace_Engineering.ipynb)\n",
        "\n",
        "[Systems Performace](https://colab.research.google.com/github/dbremont/Notas/blob/main/Libros/Computacion/Systems_Performace.ipynb)\n",
        "\n",
        "[Optimizing Java](https://colab.research.google.com/github/dbremont/Notas/blob/main/Libros/Computacion/Optimizing_Java.ipynb)"
      ]
    },
    {
      "cell_type": "markdown",
      "metadata": {
        "id": "rw2zIaVR4Vja"
      },
      "source": [
        "## probability-statistics"
      ]
    },
    {
      "cell_type": "markdown",
      "metadata": {
        "id": "XqXHKNWW7Djh"
      },
      "source": [
        "[Statistical Models](https://colab.research.google.com/github/dbremont/Notas/blob/main/Libros/Matematicas/Statistical%20Models.ipynb)"
      ]
    },
    {
      "cell_type": "markdown",
      "metadata": {
        "id": "RdjzBKzl4Wq1"
      },
      "source": [
        "## security"
      ]
    },
    {
      "cell_type": "markdown",
      "metadata": {
        "id": "TTde9_GM1eLh"
      },
      "source": [
        "## software-design"
      ]
    },
    {
      "cell_type": "markdown",
      "metadata": {
        "id": "vfGNq6szHH-o"
      },
      "source": [
        "[Clean Code - A Handbook of Agile Software Craftmanship](https://colab.research.google.com/github/dbremont/Notas/blob/main/Libros/Computacion/Clean%20Code%20-%20A%20Handbook%20of%20Agile%20Software%20Craftmanship.ipynb)\n",
        "\n",
        "[Code Complete 2 Ed.](https://colab.research.google.com/github/dbremont/Notas/blob/main/Libros/Computacion/Code%20Complete%202%20Ed.ipynb)\n",
        "\n",
        "[Beautiful Code](https://colab.research.google.com/github/dbremont/Notas/blob/main/Libros/Computacion/Beautiful_Code.ipynb)\n",
        "\n",
        "[The Pragmatic Programmer](https://colab.research.google.com/github/dbremont/Notas/blob/main/Libros/Computacion/The%20Pragmatic%20Programmer.ipynb)\n",
        "\n",
        "[System Design Interview](https://colab.research.google.com/github/dbremont/Notas/blob/main/Libros/Computacion/System_Design_Interview.)\n",
        "\n",
        "[A Philosophy of Software Design](https://colab.research.google.com/github/dbremont/Notas/blob/main/Libros/Computacion/A%20Philosophy%20of%20Software%20Design.ipynb)\n",
        "\n",
        "[The Art of Unix Programming](https://colab.research.google.com/github/dbremont/Notas/blob/main/Libros/Computacion/The%20Art%20of%20Unix%20Programming.ipynb)\n",
        "\n",
        "[Design Patterns - Elements of Reusable Object-Oriented Software](https://colab.research.google.com/github/dbremont/Notas/blob/main/Libros/Computacion/Design%20Patterns%20-%20Elements%20of%20Reusable%20Object-Oriented%20Software.ipynb)\n",
        "\n",
        "[Software Engineering At Google](https://colab.research.google.com/github/dbremont/Notas/blob/main/Libros/Computacion/Software_Engineering_At_Google.ipynb)\n",
        "\n",
        "[Code Reading - The Open Source Perspective](https://colab.research.google.com/github/dbremont/Notas/blob/main/Libros/Computacion/Code%20Reading%20-%20The%20Open%20Source%20Perspective.ipynb)"
      ]
    },
    {
      "cell_type": "markdown",
      "metadata": {
        "id": "SWFAD2QG1UTa"
      },
      "source": [
        "## programming\n",
        "implementing designs"
      ]
    },
    {
      "cell_type": "markdown",
      "metadata": {
        "id": "aO_NdrJc1V6_"
      },
      "source": [
        "[Structure and Interpreration of Computer Programs](https://github.com/dbremont/Notas/blob/main/Libros/Computacion/Structure_and_Interpretation_of_Computer_Programs.ipynb)\n",
        "\n",
        "[Concepts, Techniques, and Models of Computer Programming](https://colab.research.google.com/github/dbremont/Notas/blob/main/Libros/Computacion/Concepts%2C%20Techniques%2C%20and%20Models%20of%20Computer%20Programming.ipynb)\n",
        "\n",
        "[Software Design for Flexibility](https://colab.research.google.com/github/dbremont/Notas/blob/main/Libros/Computacion/Software%20Design%20for%20Flexibility.ipynb)\n",
        "\n",
        "[The Practice of Programming](https://colab.research.google.com/github/dbremont/Notas/blob/main/Libros/Computacion/The%20Practice%20of%20Programming.ipynb)\n"
      ]
    }
  ]
}