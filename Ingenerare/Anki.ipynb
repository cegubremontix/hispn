{
  "nbformat": 4,
  "nbformat_minor": 0,
  "metadata": {
    "colab": {
      "name": "Anki.ipynb",
      "provenance": [],
      "authorship_tag": "ABX9TyPrkmHs/zOv5xH6JQc7I5CB",
      "include_colab_link": true
    },
    "kernelspec": {
      "name": "python3",
      "display_name": "Python 3"
    },
    "language_info": {
      "name": "python"
    }
  },
  "cells": [
    {
      "cell_type": "markdown",
      "metadata": {
        "id": "view-in-github",
        "colab_type": "text"
      },
      "source": [
        "<a href=\"https://colab.research.google.com/github/dbremont/Notas/blob/main/Ingenerare/Anki.ipynb\" target=\"_parent\"><img src=\"https://colab.research.google.com/assets/colab-badge.svg\" alt=\"Open In Colab\"/></a>"
      ]
    },
    {
      "cell_type": "markdown",
      "metadata": {
        "id": "ISf94D46sp6r"
      },
      "source": [
        "* [Augmenting Long-term Memory](http://augmentingcognition.com/ltm.html)\n",
        "\n",
        "* [Anki as Learning Superpower: Computer Science Edition](https://www.gresearch.co.uk/article/anki-as-learning-superpower-computer-science-edition/)\n",
        "\n",
        "* [13 Lucky Tips for using Anki and Spaced Repetition in 2019](https://getpolarized.io/2019/05/25/13-lucky-tips-for-using-anki-and-spaced-repetition-2019.html#)"
      ]
    },
    {
      "cell_type": "markdown",
      "metadata": {
        "id": "dBKUiJX4toxF"
      },
      "source": [
        "## Michel Nilsen Anki"
      ]
    },
    {
      "cell_type": "markdown",
      "metadata": {
        "id": "YokER-jTtnLc"
      },
      "source": [
        "- The single biggest change is that memory is no longer a haphazard event, to be left to chance. Rather, I can guarantee I will remember something, with minimal effort: it makes memory a _choice_.\n",
        "\n",
        "- Rule of thumb: if memorizing something will likely save me five minutes in the future, into the spaced repetion system it goes. The expected lifetime review time is less than five minutes, i.e., it takes < 5 minutes to learn something... forever.\n",
        "\n",
        "- I review cards on the mobile app, while going for walks, in line at the coffeeshop, in transit, and so on. I find it meditative. It takes about 20 mins each day.\n",
        "\n",
        "-  A caveat: there is a difference between remembering facts and\n",
        "mastering processes. It's one thing to know a command; it's another to\n",
        "actually type the command.\n",
        "\n",
        "- To really internalize a process, you need to actually do the process. Still, I've found the transfer relatively easy.\n",
        "\n",
        "- It's best to make cards as atomic as possible.\n",
        "\n",
        "- I use Anki for almost everything.\n",
        "  - Learning places and all kinds of facts about my city, from the best things to order at a particular restaurant to demographic statistics (really) to favourite places in parts of the city I don't visit often.\n",
        "  - Learning APIs.\n",
        "  - Reading papers and books and watching  videos.  This is especially helpful for building mastery outside your area of expertise. You can (say) read a paper multiple times through, each time just grabbing what is easy, gradually building up an understanding.\n",
        "- ej:  Reading [Alpha Go Paper](https://www.quantamagazine.org/is-alphago-really-such-a-big-deal-20160329/)\n",
        "  - I read and reread the paper several times, as well as consulting a lot of adjacent papers, Wikipedia etc.\n",
        "  - I added several hundred Anki cards while doing.\n",
        "  - The early cards were mostly very simple things: facts about TDGammon (which used a similar approach to beat Backgammon), very basic facts about how Go works, and reinforcement learning and Monte Carlo Tree search.\n",
        "-  Verb form: I talk and think of \"Ankifying\" a paper or book etc.\n",
        "- It's easy to overdo it, especially initially, and waste time Ankifying useless info. Over time, I've found myself cultivating heuristics for how much to Ankify.\n",
        "- E.g., for many papers the answer is 0 to 5 questions. But for papers I want to understand better it might be 20 to 40. And for deep papers that I want to master it may be hundreds."
      ]
    }
  ]
}