{
  "nbformat": 4,
  "nbformat_minor": 0,
  "metadata": {
    "colab": {
      "name": "Program Syntesis.ipynb",
      "provenance": [],
      "authorship_tag": "ABX9TyOfr4Sq9OWJuEdOIRGCZHXy",
      "include_colab_link": true
    },
    "kernelspec": {
      "name": "python3",
      "display_name": "Python 3"
    },
    "language_info": {
      "name": "python"
    }
  },
  "cells": [
    {
      "cell_type": "markdown",
      "metadata": {
        "id": "view-in-github",
        "colab_type": "text"
      },
      "source": [
        "<a href=\"https://colab.research.google.com/github/dbremont/Notas/blob/main/Ingenerare/Program_Syntesis.ipynb\" target=\"_parent\"><img src=\"https://colab.research.google.com/assets/colab-badge.svg\" alt=\"Open In Colab\"/></a>"
      ]
    },
    {
      "cell_type": "markdown",
      "metadata": {
        "id": "pkbQszmD7xDC"
      },
      "source": [
        "In computer science, **program synthesis** is the task to construct a program that provably satisfies a given high-level formal specification."
      ]
    },
    {
      "cell_type": "markdown",
      "metadata": {
        "id": "Elz31sjbpwAe"
      },
      "source": [
        "* [Program Analysis](https://software-lab.org/teaching/winter2020/pa/)\n",
        "\n",
        "* [CSE 507: Computer-Aided Reasoning for Software](https://courses.cs.washington.edu/courses/cse507/14au/index.html)\n",
        "\n",
        "* [Introduction to Program Synthesis](https://people.csail.mit.edu/asolar/SynthesisCourse/index.htm)\n",
        "\n",
        "* [Deep Learning and Program Synthesis](https://sites.google.com/view/program-synthesis/)"
      ]
    }
  ]
}