{
  "nbformat": 4,
  "nbformat_minor": 0,
  "metadata": {
    "colab": {
      "name": "Cience Articles.ipynb",
      "provenance": [],
      "authorship_tag": "ABX9TyN39nQ8Vz7OmHGXLji1mFWW",
      "include_colab_link": true
    },
    "kernelspec": {
      "name": "python3",
      "display_name": "Python 3"
    },
    "language_info": {
      "name": "python"
    }
  },
  "cells": [
    {
      "cell_type": "markdown",
      "metadata": {
        "id": "view-in-github",
        "colab_type": "text"
      },
      "source": [
        "<a href=\"https://colab.research.google.com/github/dbremont/Notas/blob/main/Ingenerare/Cience_Articles.ipynb\" target=\"_parent\"><img src=\"https://colab.research.google.com/assets/colab-badge.svg\" alt=\"Open In Colab\"/></a>"
      ]
    },
    {
      "cell_type": "markdown",
      "metadata": {
        "id": "Lr9aPiiJ9NMN"
      },
      "source": [
        "[Beautiful Ideas in Physics](https://colab.research.google.com/github/dbremont/Notas/blob/main/Ingenerare/Beautiful_Ideas_in_Physics.ipynb)\n",
        "\n",
        "[Beautiful Ideas in Neuroscience](https://colab.research.google.com/github/dbremont/Notas/blob/main/Ingenerare/Beautiful_Ideas_in_Neuroscience.ipynb)"
      ]
    },
    {
      "cell_type": "markdown",
      "metadata": {
        "id": "g1_Zzw0XV2wn"
      },
      "source": [
        "* [Neural Algorithms Reading Group](https://brabeeba.github.io/neuralReadingGroup/index.html)\n",
        "\n",
        "* [Neural Algorithms Reading Group](http://www.cameronmusco.com/neuralReadingGroup/)\n",
        "\n",
        "* [How Should We Critique Research?](https://www.gwern.net/Research-criticism)\n",
        "\n",
        "- [Brain Sumulator](https://briansimulator.org/)\n",
        "\n",
        "* [Intelligence, Complexity, and the Failed “Science” of IQ](https://seanamcclure.medium.com/intelligence-complexity-and-the-failed-science-of-iq-4fb17ce3f12)\n",
        "\n",
        "* [Science](https://en.wikipedia.org/wiki/Science)\n",
        "\n",
        "* [Scientific law](https://en.wikipedia.org/wiki/Scientific_law)\n",
        "\n",
        "* [Steam engine](https://en.wikipedia.org/wiki/Steam_engine)\n",
        "\n",
        "* [String metric](https://en.wikipedia.org/wiki/String_metric)\n",
        "\n",
        "* [Memristor](https://en.wikipedia.org/wiki/Memristor)\n",
        "\n",
        "* [Meshtastic](https://meshtastic.letstalkthis.com/)\n",
        "\n",
        "* [What is Complexity Science?](https://complexityexplained.github.io/)\n",
        "\n",
        "* [Engine](https://en.wikipedia.org/wiki/Engine)\n",
        "\n",
        "* [Servomotor](https://en.wikipedia.org/wiki/Servomotor)\n",
        "\n",
        "* [Plasma (physics)](https://en.wikipedia.org/wiki/Plasma_(physics))\n",
        "\n"
      ]
    },
    {
      "cell_type": "markdown",
      "metadata": {
        "id": "uKw2_Zak5gzv"
      },
      "source": [
        "* [What's the standard “roadmap” to learning quantum physics? [closed]](https://physics.stackexchange.com/questions/19262/whats-the-standard-roadmap-to-learning-quantum-physics)\n",
        "\n",
        "* [How to become a GOOD Theoretical Physicist](https://webspace.science.uu.nl/~gadda001/goodtheorist/classmech.html)\n",
        "\n",
        "* [Old quantum theory](https://en.wikipedia.org/wiki/Old_quantum_theory)\n",
        "\n",
        "* [Adiabatic invariant](https://en.wikipedia.org/wiki/Adiabatic_invariant)\n",
        "\n",
        "* [Correspondence principle](https://en.wikipedia.org/wiki/Correspondence_principle)\n",
        "\n",
        "* [Matrix mechanics](https://en.wikipedia.org/wiki/Matrix_mechanics)\n",
        "\n",
        "* [The Feynman Lectures on Physics, Volume I](https://www.feynmanlectures.caltech.edu/I_toc.html)\n",
        "\n",
        "* [The Principle of the least action, the universal law of motion and posology.](http://www.homeoint.org/cazalet/fincke/leastaction.htm)\n",
        "\n",
        "* [Lagrangian](https://en.wikipedia.org/wiki/Lagrangian)\n",
        "\n",
        "* [Noether's theorem](https://en.wikipedia.org/wiki/Noether's_theorem)\n",
        "\n",
        "* [Hamilton's principle](https://en.wikipedia.org/wiki/Hamilton's_principle)\n",
        "\n",
        "* [Fermat's principle](https://en.wikipedia.org/wiki/Fermat's_principle)\n",
        "\n",
        "* [Morse theory](https://en.wikipedia.org/wiki/Morse_theory)\n",
        "\n",
        "* [Action (physics)](https://en.wikipedia.org/wiki/Action_(physics))\n",
        "\n",
        "* [Stationary Action Principle](https://en.wikipedia.org/wiki/Stationary_Action_Principle)\n",
        "\n",
        "* [The Principles of Quantum Mechanics](https://en.wikipedia.org/wiki/The_Principles_of_Quantum_Mechanics)\n",
        "\n",
        "* [Fluid dynamics](https://en.wikipedia.org/wiki/Fluid_dynamics)\n",
        "\n",
        "* [The Future of Deep Learning if Photonic](https://spectrum.ieee.org/the-future-of-deep-learning-is-photonic)\n",
        "\n",
        "* [Denis Papin](https://en.wikipedia.org/wiki/Denis_Papin)\n",
        "\n",
        "* [Christiaan Huygens](https://en.wikipedia.org/wiki/Christiaan_Huygens)\n",
        "\n",
        "* [Fertilisation](https://en.wikipedia.org/wiki/Fertilisation)\n",
        "\n",
        "* [Is This the Most Interesting Idea in All of Science?](https://join.substack.com/p/is-this-the-most-interesting-idea)\n",
        "\n",
        "* [Radiation](https://en.wikipedia.org/wiki/Radiation)\n",
        "\n",
        "* [Vibration](https://en.wikipedia.org/wiki/Vibration)\n",
        "\n",
        "* [Insulator](https://en.wikipedia.org/wiki/Insulator_(electricity))\n",
        "\n",
        "* [Cognitive Model](https://en.wikipedia.org/wiki/Cognitive_model)"
      ]
    }
  ]
}