{
  "nbformat": 4,
  "nbformat_minor": 0,
  "metadata": {
    "colab": {
      "name": "Cience Articles.ipynb",
      "provenance": [],
      "authorship_tag": "ABX9TyPdipaBnYgMY8tDAJlsaDME",
      "include_colab_link": true
    },
    "kernelspec": {
      "name": "python3",
      "display_name": "Python 3"
    },
    "language_info": {
      "name": "python"
    }
  },
  "cells": [
    {
      "cell_type": "markdown",
      "metadata": {
        "id": "view-in-github",
        "colab_type": "text"
      },
      "source": [
        "<a href=\"https://colab.research.google.com/github/dbremont/Notas/blob/main/Ingenerare/Cience_Articles.ipynb\" target=\"_parent\"><img src=\"https://colab.research.google.com/assets/colab-badge.svg\" alt=\"Open In Colab\"/></a>"
      ]
    },
    {
      "cell_type": "markdown",
      "metadata": {
        "id": "g1_Zzw0XV2wn"
      },
      "source": [
        "* [How Should We Critique Research?](https://www.gwern.net/Research-criticism)\n",
        "\n",
        "* [Intelligence, Complexity, and the Failed “Science” of IQ](https://seanamcclure.medium.com/intelligence-complexity-and-the-failed-science-of-iq-4fb17ce3f12)\n",
        "\n",
        "* [Science](https://en.wikipedia.org/wiki/Science)\n",
        "\n",
        "* [Scientific law](https://en.wikipedia.org/wiki/Scientific_law)\n",
        "\n",
        "* [Steam engine](https://en.wikipedia.org/wiki/Steam_engine)\n",
        "\n",
        "* [String metric](https://en.wikipedia.org/wiki/String_metric)\n",
        "\n",
        "* [Memristor](https://en.wikipedia.org/wiki/Memristor)\n",
        "\n",
        "* [Meshtastic](https://meshtastic.letstalkthis.com/)\n",
        "\n",
        "* [What is Complexity Science?](https://complexityexplained.github.io/)\n",
        "\n",
        "* [Engine](https://en.wikipedia.org/wiki/Engine)\n",
        "\n",
        "* [Servomotor](https://en.wikipedia.org/wiki/Servomotor)\n",
        "\n",
        "* [Plasma (physics)](https://en.wikipedia.org/wiki/Plasma_(physics))\n",
        "\n"
      ]
    }
  ]
}