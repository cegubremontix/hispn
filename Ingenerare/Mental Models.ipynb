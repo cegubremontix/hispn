{
  "nbformat": 4,
  "nbformat_minor": 0,
  "metadata": {
    "colab": {
      "name": "Mental Models.ipynb",
      "provenance": [],
      "collapsed_sections": [],
      "authorship_tag": "ABX9TyPbAco10kCv2T/ndS3MU3eJ"
    },
    "kernelspec": {
      "name": "python3",
      "display_name": "Python 3"
    },
    "language_info": {
      "name": "python"
    }
  },
  "cells": [
    {
      "cell_type": "markdown",
      "metadata": {
        "id": "XVIraxYgVKbm"
      },
      "source": [
        "* [Mental models for designers](https://dropbox.design/article/mental-models-for-designers)\n",
        "\n",
        "* [Product Management Mental Models for Everyone](https://blackboxofpm.com/product-management-mental-models-for-everyone-31e7828cb50b)\n",
        "\n",
        "* [50 Ideas That Changed My Life](https://www.perell.com/blog/50-ideas-that-changed-my-life)\n",
        "\n",
        "* [Mental models for designers](https://dropbox.design/article/mental-models-for-designers)\n",
        "\n",
        "* [A Framework for First Principles Thinking](https://neilkakkar.com/A-framework-for-First-Principles-Thinking.html)\n",
        "\n",
        "* [Second Order Thinking - A Practical Guide](https://neilkakkar.com/second-order-thinking.html)\n",
        "\n",
        "* [Vocabulary as a Meta Mental Model](https://neilkakkar.com/vocabulary-mental-model.html)\n",
        "\n",
        "* [Bayes Theorem: A Framework for Critical Thinking](https://neilkakkar.com/Bayes-Theorem-Framework-for-Critical-Thinking.html)\n",
        "\n",
        "* [First Principles](https://fs.blog/2018/04/first-principles/)\n",
        "\n",
        "* [Second Order Thinking](https://models.substack.com/p/second-order-thinking)\n",
        "\n",
        "* [Major flaws of human thinking](https://dandanua.github.io/posts/major-flaws-of-human-thinking/)"
      ]
    }
  ]
}