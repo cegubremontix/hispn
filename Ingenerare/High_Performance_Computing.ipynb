{
  "nbformat": 4,
  "nbformat_minor": 0,
  "metadata": {
    "colab": {
      "name": "High Performance Computing.ipynb",
      "provenance": [],
      "authorship_tag": "ABX9TyMhql5Ejzj3HqySdGlIOAQ4",
      "include_colab_link": true
    },
    "kernelspec": {
      "name": "python3",
      "display_name": "Python 3"
    },
    "language_info": {
      "name": "python"
    }
  },
  "cells": [
    {
      "cell_type": "markdown",
      "metadata": {
        "id": "view-in-github",
        "colab_type": "text"
      },
      "source": [
        "<a href=\"https://colab.research.google.com/github/dbremont/Notas/blob/main/Ingenerare/High_Performance_Computing.ipynb\" target=\"_parent\"><img src=\"https://colab.research.google.com/assets/colab-badge.svg\" alt=\"Open In Colab\"/></a>"
      ]
    },
    {
      "cell_type": "markdown",
      "metadata": {
        "id": "Elz31sjbpwAe"
      },
      "source": [
        "* [High Performance Computing](https://nptel.ac.in/courses/106/108/106108055/)\n",
        "\n",
        "* [UD281 High Performance Computing](https://www.udacity.com/course/high-performance-computing--ud281)\n",
        "\n",
        "* [6.172 Performance Engineering of Software Systems](https://ocw.mit.edu/courses/electrical-engineering-and-computer-science/6-172-performance-engineering-of-software-systems-fall-2018/)\n",
        "\n",
        "* [High Performance Computing](https://classroom.udacity.com/courses/ud281)\n",
        "\n",
        "* [High Performance Computer Architecture](https://classroom.udacity.com/courses/ud007)"
      ]
    }
  ]
}