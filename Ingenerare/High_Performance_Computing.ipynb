{
  "nbformat": 4,
  "nbformat_minor": 0,
  "metadata": {
    "colab": {
      "name": "High Performance Computing.ipynb",
      "provenance": [],
      "authorship_tag": "ABX9TyOi3Wx2tTXzXPYVmyH60ihY",
      "include_colab_link": true
    },
    "kernelspec": {
      "name": "python3",
      "display_name": "Python 3"
    },
    "language_info": {
      "name": "python"
    }
  },
  "cells": [
    {
      "cell_type": "markdown",
      "metadata": {
        "id": "view-in-github",
        "colab_type": "text"
      },
      "source": [
        "<a href=\"https://colab.research.google.com/github/dbremont/Notas/blob/main/Ingenerare/High_Performance_Computing.ipynb\" target=\"_parent\"><img src=\"https://colab.research.google.com/assets/colab-badge.svg\" alt=\"Open In Colab\"/></a>"
      ]
    },
    {
      "cell_type": "markdown",
      "metadata": {
        "id": "Elz31sjbpwAe"
      },
      "source": [
        "* [High Performance Computing](https://nptel.ac.in/courses/106/108/106108055/)\n",
        "\n",
        "* [UD281 High Performance Computing](https://www.udacity.com/course/high-performance-computing--ud281)"
      ]
    }
  ]
}