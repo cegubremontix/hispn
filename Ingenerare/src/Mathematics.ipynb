{
  "nbformat": 4,
  "nbformat_minor": 0,
  "metadata": {
    "colab": {
      "name": "Mathematics.ipynb",
      "provenance": [],
      "authorship_tag": "ABX9TyMaDEDeSKP8UXqAXZeetakD",
      "include_colab_link": true
    },
    "kernelspec": {
      "name": "python3",
      "display_name": "Python 3"
    },
    "language_info": {
      "name": "python"
    }
  },
  "cells": [
    {
      "cell_type": "markdown",
      "metadata": {
        "id": "view-in-github",
        "colab_type": "text"
      },
      "source": [
        "<a href=\"https://colab.research.google.com/github/dbremont/Notas/blob/main/Ingenerare/src/Mathematics.ipynb\" target=\"_parent\"><img src=\"https://colab.research.google.com/assets/colab-badge.svg\" alt=\"Open In Colab\"/></a>"
      ]
    },
    {
      "cell_type": "markdown",
      "source": [
        "* [Mathematical Fundamentals](https://brilliant.org/courses/math-fundamentals/)\n",
        "\n",
        "* [Algebra Fundamentals](https://brilliant.org/courses/algebra-fundamentals/?from_topic=algebra)\n",
        "\n",
        "* [Pre-Algebra](https://brilliant.org/courses/pre-algebra/)\n",
        "\n",
        "* [Algebra I](https://brilliant.org/courses/algebra-extensions/?from_topic=algebra)\n",
        "\n",
        "* [Algebra II](https://brilliant.org/courses/graphing-and-modeling/?from_topic=algebra)\n",
        "\n",
        "* [Number Bases](https://brilliant.org/courses/number-bases/)\n",
        "\n",
        "* [Pre-Calculus](https://brilliant.org/courses/pre-calculus/)\n",
        "\n",
        "* [Trigonometry](https://brilliant.org/courses/trigonometry/)\n",
        "\n",
        "* [Complex Numbers](https://brilliant.org/courses/complex-algebra/)\n",
        "\n",
        "* [Contest Math II](https://brilliant.org/courses/ace-the-amc/)\n",
        "\n",
        "* [Art and Craft of Mathematical Problem Solving](https://www.thegreatcourses.com/player/Video/1483)\n",
        "\n"
      ],
      "metadata": {
        "id": "yNb2OrEYAg5U"
      }
    },
    {
      "cell_type": "markdown",
      "source": [
        ""
      ],
      "metadata": {
        "id": "xFLRQV0LApGQ"
      }
    },
    {
      "cell_type": "markdown",
      "metadata": {
        "id": "gkELxlHjTEVe"
      },
      "source": [
        "## Primarios"
      ]
    },
    {
      "cell_type": "markdown",
      "metadata": {
        "id": "Oa3SSBMQTFrT"
      },
      "source": [
        "* [Calculus in a Nutshell](https://brilliant.org/courses/calculus-nutshell/)\n",
        "\n",
        "* [Calculus Fundamentals](https://brilliant.org/courses/calculus-done-right/)\n",
        "\n",
        "* [Integral Calculus](https://brilliant.org/courses/calculus-ii/)"
      ]
    },
    {
      "cell_type": "markdown",
      "metadata": {
        "id": "ssKWSxrdTGGL"
      },
      "source": [
        "## Adicionales"
      ]
    },
    {
      "cell_type": "markdown",
      "metadata": {
        "id": "s7k9ZofSTIbK"
      },
      "source": [
        "* [18-01SC Single Variable Calculus](https://ocw.mit.edu/courses/mathematics/18-01sc-single-variable-calculus-fall-2010)"
      ]
    },
    {
      "cell_type": "markdown",
      "metadata": {
        "id": "yVsdQo3oNfiU"
      },
      "source": [
        "- Convergencia\n",
        "- Divergencia\n",
        "- [Block-stacking problem](https://en.wikipedia.org/wiki/Block-stacking_problem)\n",
        "\n",
        "- Practicar un poco mas de divergencia\n"
      ]
    },
    {
      "cell_type": "markdown",
      "metadata": {
        "id": "CBwj8NtBQwr6"
      },
      "source": [
        "# Limits"
      ]
    },
    {
      "cell_type": "markdown",
      "metadata": {
        "id": "N9NFWkmFQzjw"
      },
      "source": [
        "**What is a Limit?**"
      ]
    },
    {
      "cell_type": "markdown",
      "metadata": {
        "id": "cmW7hWFuQ3gA"
      },
      "source": [
        "**How are Limits found?**"
      ]
    },
    {
      "cell_type": "markdown",
      "metadata": {
        "id": "2adN8w6FQ6nt"
      },
      "source": [
        "**How are Limits defined?**"
      ]
    },
    {
      "cell_type": "markdown",
      "metadata": {
        "id": "f0xie_ImQ-Va"
      },
      "source": [
        "**When do Limits exists?**"
      ]
    },
    {
      "cell_type": "markdown",
      "source": [
        "* [Multivariable Calculus](https://brilliant.org/courses/multivariable-calculus/)\n",
        "\n",
        "* [Vector Calculus](https://brilliant.org/courses/vector-calculus/)\n",
        "\n",
        "* [18-02 Multivariable Calculus](https://ocw.mit.edu/courses/mathematics/18-02sc-multivariable-calculus-fall-2010)"
      ],
      "metadata": {
        "id": "3y6OZXzyAwkG"
      }
    },
    {
      "cell_type": "markdown",
      "source": [
        ""
      ],
      "metadata": {
        "id": "EU4a2OaVA1-h"
      }
    },
    {
      "cell_type": "markdown",
      "metadata": {
        "id": "HYRR7I6_yquN"
      },
      "source": [
        "- [Notas Estadisticas](https://colab.research.google.com/github/dbremont/Notas/blob/main/Ingenerare/Notas_Estadisticas.ipynb)\n",
        "\n",
        "- [Notas Probabilidad](https://colab.research.google.com/github/dbremont/Notas/blob/main/Ingenerare/Notas_Probabilidad.ipynb)"
      ]
    },
    {
      "cell_type": "markdown",
      "metadata": {
        "id": "GL4mnsRhjj5A"
      },
      "source": [
        "# Primario"
      ]
    },
    {
      "cell_type": "markdown",
      "metadata": {
        "id": "RKLMv6D5flwU"
      },
      "source": [
        "* [Probability Fundamentals](https://brilliant.org/courses/probability-fundamentals/)\n",
        "\n",
        "* [Applied Probability](https://brilliant.org/courses/probability/)\n",
        "\n",
        "* [Random Variables & Distributions](https://brilliant.org/courses/probability_ii/)\n",
        "\n",
        "* [Statistics Fundamentals](https://brilliant.org/courses/statistics/)\n",
        "\n",
        "* [Statistics I](https://brilliant.org/courses/advanced-statistics-i/)"
      ]
    },
    {
      "cell_type": "markdown",
      "metadata": {
        "id": "v75sN7B3fhcD"
      },
      "source": [
        "# Secundario"
      ]
    },
    {
      "cell_type": "markdown",
      "metadata": {
        "id": "BBCItpj0fpLD"
      },
      "source": [
        "* [6.041 Probabilistic Systems Analysis and Applied Probability](https://ocw.mit.edu/courses/electrical-engineering-and-computer-science/6-041sc-probabilistic-systems-analysis-and-applied-probability-fall-2013/)\n",
        "\n",
        "* [6.008 Computational Probability and Inference](https://courses.edx.org/courses/course-v1:MITx+6.008.1x+3T2016/course/)\n",
        "\n",
        "* [18.6501 Statistics for Applications](https://ocw.mit.edu/courses/mathematics/18-650-statistics-for-applications-fall-2016/)\n",
        "\n",
        "* [6.419 Data Analysis: Statistical Modeling and Computation in Applications](https://colab.research.google.com/github/dbremont/Notas/blob/main/Ingenerare/6_419_Data_Analysis_Statistical_Modeling_and_Computation_in_Applications.ipynb)\n",
        "\n",
        "* [Statistics Fundamentals](https://www.youtube.com/embed/playlist?list=PLblh5JKOoLUK0FLuzwntyYI10UQFUhsY9)\n",
        "\n",
        "* [Statistical Thinking](https://www.youtube.com/embed/playlist?list=PLRKtJ4IpxJpBxX2S9wXJUhB1_ha3ADFpF)\n",
        "\n",
        "* [Learn random things!](https://www.youtube.com/embed/playlist?list=PLRKtJ4IpxJpDsOT_8YDREJrO8cQUtPUVg)\n",
        "\n",
        "* [Quantitative Social Science Methods I](https://www.youtube.com/embed/playlist?list=PL0n492lUg2sgSevEQ3bLilGbFph4l92gH)"
      ]
    },
    {
      "cell_type": "markdown",
      "metadata": {
        "id": "L6KihY0U0pWb"
      },
      "source": [
        "\n",
        "## Linear Algebra\n",
        "\n",
        "- Concepts\n",
        "- Problems\n",
        "- Programming"
      ]
    },
    {
      "cell_type": "markdown",
      "metadata": {
        "id": "IZZOrHsaKi0B"
      },
      "source": [
        "## Primario"
      ]
    },
    {
      "cell_type": "markdown",
      "metadata": {
        "id": "R9jaDStMKmYo"
      },
      "source": [
        "* [Introduction to Linear Algebra](https://brilliant.org/courses/linear-algebra/)\n",
        "\n",
        "* [Linear Algebra with Applications](https://brilliant.org/courses/lin-alg/)"
      ]
    },
    {
      "cell_type": "markdown",
      "metadata": {
        "id": "y_e1vH73LXrQ"
      },
      "source": [
        "## Secundario"
      ]
    },
    {
      "cell_type": "markdown",
      "metadata": {
        "id": "97YtpxAIKzli"
      },
      "source": [
        "* [Linear Algebra](https://ocw.mit.edu/courses/mathematics/18-06sc-linear-algebra-fall-2011/)\n",
        "\n",
        "* [Linear Algebra (18.06) Notebooks](https://github.com/juanklopper/MIT_OCW_Linear_Algebra_18_06)"
      ]
    },
    {
      "cell_type": "markdown",
      "metadata": {
        "id": "GpKJ5u3WVKwK"
      },
      "source": [
        "* [Computational Linear Algebra](https://github.com/fastai/numerical-linear-algebra)\n"
      ]
    },
    {
      "cell_type": "markdown",
      "metadata": {
        "id": "KeDb4EeR9woR"
      },
      "source": [
        "- [Differential Equations I](https://brilliant.org/courses/differential-equations/)\n",
        "\n",
        "- [Differential Equations II](https://brilliant.org/courses/differential-equations-ii/)"
      ]
    },
    {
      "cell_type": "markdown",
      "metadata": {
        "id": "j6wIAVHK-n8T"
      },
      "source": [
        "* [Differential Equations in Action](https://classroom.udacity.com/courses/cs222)\n",
        "\n",
        "- [18.03 Differential Equations](https://ocw.mit.edu/courses/mathematics/18-03sc-differential-equations-fall-2011/)"
      ]
    }
  ]
}