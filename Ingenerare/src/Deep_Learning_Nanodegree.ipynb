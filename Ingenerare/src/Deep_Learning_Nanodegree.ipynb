{
  "nbformat": 4,
  "nbformat_minor": 0,
  "metadata": {
    "colab": {
      "name": "Deep Learning Nanodegree.ipynb",
      "provenance": [],
      "toc_visible": true,
      "authorship_tag": "ABX9TyOGZMxzOTO9c5kNuX9wH8EZ",
      "include_colab_link": true
    },
    "kernelspec": {
      "name": "python3",
      "display_name": "Python 3"
    },
    "language_info": {
      "name": "python"
    }
  },
  "cells": [
    {
      "cell_type": "markdown",
      "metadata": {
        "id": "view-in-github",
        "colab_type": "text"
      },
      "source": [
        "<a href=\"https://colab.research.google.com/github/dbremont/Notas/blob/main/Ingenerare/src/Deep_Learning_Nanodegree.ipynb\" target=\"_parent\"><img src=\"https://colab.research.google.com/assets/colab-badge.svg\" alt=\"Open In Colab\"/></a>"
      ]
    },
    {
      "cell_type": "markdown",
      "metadata": {
        "id": "g2cW1QQuSUkl"
      },
      "source": [
        "# Deep Learning Nanodegree"
      ]
    },
    {
      "cell_type": "markdown",
      "metadata": {
        "id": "I3oMz8xUSWtw"
      },
      "source": [
        "## Introduction\n",
        "\n",
        "**Prerequisites**\n",
        "\n",
        "We've designed this program such that you only require the following prerequisite knowledge:\n",
        "\n",
        "Required\n",
        "- Intermediate Python experience.\n",
        "\n",
        "**Optional**\n",
        "\n",
        "- Multivariable Calculus and Linear Algebra if possible.\n",
        "\n",
        "That being said, we've included a lot of the detailed mathematics for those of you who do want to go in depth and understand the theory behind these concepts. \n",
        "Such content is optional and shouldn't prevent you from doing the projects. \n",
        "\n",
        "However, **it is encouraged for a theoretical understanding**."
      ]
    },
    {
      "cell_type": "markdown",
      "metadata": {
        "id": "7GJcqSkAVrb0"
      },
      "source": [
        "Tools:\n",
        "\n",
        "- Anaconda, I'am going to use Jupyter alone,\n",
        "- Pandas,\n",
        "- Numpy"
      ]
    },
    {
      "cell_type": "markdown",
      "metadata": {
        "id": "z-WUuJX-WqAH"
      },
      "source": [
        "#### Applying Deep Learning\n",
        "\n",
        "[Ir](https://classroom.udacity.com/nanodegrees/nd101/parts/38543a0e-e395-42fe-9b16-1c2fdd8a3bf4/modules/c3289945-9afb-4a5f-806b-25b96cc7ee4e/lessons/06fec0e0-a78e-4ef9-b07d-29a92b4ae706/concepts/2c0a7702-083d-4983-bf85-78f44f8b9239)"
      ]
    },
    {
      "cell_type": "markdown",
      "metadata": {
        "id": "oR9PccL_VrWl"
      },
      "source": [
        "[**Style Transfer**](https://classroom.udacity.com/nanodegrees/nd101/parts/38543a0e-e395-42fe-9b16-1c2fdd8a3bf4/modules/c3289945-9afb-4a5f-806b-25b96cc7ee4e/lessons/06fec0e0-a78e-4ef9-b07d-29a92b4ae706/concepts/83fb61aa-cf8f-4334-abb9-a8beb6e5beba)\n",
        "\n",
        "Demostración de tranferencias de estilos\n",
        "\n",
        "- Transfer :  (x) -> y\n",
        "\n",
        "- `python evaluate.py --checkpoint ./rain-princess.ckpt --in-path <path_to_input_file> --out-path ./output_image.jpg`\n",
        "\n",
        "[fast-style-transfer](https://github.com/lengstrom/fast-style-transfer)\n",
        "\n",
        "[Rain Princess checkpoint](https://d17h27t6h515a5.cloudfront.net/topher/2017/January/587d1865_rain-princess/rain-princess.ckpt)\n",
        "\n",
        "\n",
        "[**DeepTraffic**](https://classroom.udacity.com/nanodegrees/nd101/parts/38543a0e-e395-42fe-9b16-1c2fdd8a3bf4/modules/c3289945-9afb-4a5f-806b-25b96cc7ee4e/lessons/06fec0e0-a78e-4ef9-b07d-29a92b4ae706/concepts/4a0a6357-30af-439b-9697-088427e6ddb8)\n",
        "\n",
        "[DeepTraffic Solution | MIT: Deep Learning for Self-Driving Cars](https://www.youtube.com/watch?v=JC-bI0baVv0)\n",
        "\n",
        "[Reinforcement learning](https://en.wikipedia.org/wiki/Reinforcement_learning)\n",
        "\n",
        "[Deep Neural Networks for YouTube Recommendations](https://storage.googleapis.com/pub-tools-public-publication-data/pdf/45530.pdf)\n",
        "\n",
        "[**Flappy Bird**](https://classroom.udacity.com/nanodegrees/nd101/parts/38543a0e-e395-42fe-9b16-1c2fdd8a3bf4/modules/c3289945-9afb-4a5f-806b-25b96cc7ee4e/lessons/06fec0e0-a78e-4ef9-b07d-29a92b4ae706/concepts/8a8c1d16-6261-4bbd-8a0c-6bc41e71e5d1)\n",
        "\n",
        "[DeepLearningFlappyBird](https://github.com/yenchenlin/DeepLearningFlappyBird)\n",
        "\n",
        "**Books**\n",
        "\n",
        "- [Grokking Deep Learning](https://colab.research.google.com/github/dbremont/Notas/blob/main/Libros/Aprendisaje%20Automatico/Grokking_Deep_Learning.ipynb)\n",
        "\n",
        "- [Neural Networks And Deep Learning](https://colab.research.google.com/github/dbremont/Notas/blob/main/Libros/Aprendisaje%20Automatico/Neural%20Networks%20and%20Deep%20Learning.ipynb)\n",
        "\n",
        "- [The Deep Learning Textbook](https://colab.research.google.com/github/dbremont/Notas/blob/main/Libros/Aprendisaje%20Automatico/Deep_Learning_Goodfellow,_Bengio_&_Courville.ipynb)"
      ]
    },
    {
      "cell_type": "markdown",
      "metadata": {
        "id": "LlGq8Fmce9jL"
      },
      "source": [
        "#### Jupyter Notebooks\n",
        "[Ir](https://classroom.udacity.com/nanodegrees/nd101/parts/38543a0e-e395-42fe-9b16-1c2fdd8a3bf4/modules/c3289945-9afb-4a5f-806b-25b96cc7ee4e/lessons/430aa4e8-23a7-4576-8651-1bf739f651da/concepts/f98abbc9-9260-43e4-9180-ae3b2e4f5cd9)"
      ]
    },
    {
      "cell_type": "markdown",
      "metadata": {
        "id": "ziPNprevfDUP"
      },
      "source": [
        "**What are Jupyter notebooks?**\n",
        "\n",
        "[Ir](https://classroom.udacity.com/nanodegrees/nd101/parts/38543a0e-e395-42fe-9b16-1c2fdd8a3bf4/modules/c3289945-9afb-4a5f-806b-25b96cc7ee4e/lessons/430aa4e8-23a7-4576-8651-1bf739f651da/concepts/4b44ef20-6f78-4a3b-9654-4ffb8593618f)\n",
        "\n",
        "For some notebooks go to:\n",
        "\n",
        "[Gravitational Wave Open Science Center](https://www.gw-openscience.org/tutorials/)\n",
        "\n",
        "You can create slides with nbconvert:\n",
        "\n",
        "`jupyter nbconvert notebook.ipynb --to slides --post serve`\n",
        "\n",
        "[Notebook Examples](https://jupyter-notebook.readthedocs.io/en/stable/examples/Notebook/examples_index.html)"
      ]
    },
    {
      "cell_type": "markdown",
      "metadata": {
        "id": "mk-i6hqNivFy"
      },
      "source": [
        "#### Matrix Math and Numpy Refresher\n",
        "\n",
        "[Ir](https://classroom.udacity.com/nanodegrees/nd101/parts/38543a0e-e395-42fe-9b16-1c2fdd8a3bf4/modules/c3289945-9afb-4a5f-806b-25b96cc7ee4e/lessons/4abae103-361f-4614-ab3c-7cc2a6758a0e/concepts/050b3d0d-34f5-4772-af2a-d2182634ac00)"
      ]
    },
    {
      "cell_type": "markdown",
      "metadata": {
        "id": "WHSH4VDri1EA"
      },
      "source": [
        "![Matrix](https://video.udacity-data.com/topher/2017/January/58895788_input-times-weights/input-times-weights.png )\n",
        "\n",
        "Deep learning involves a lot of matrix math, and it’s important for you to understand the basics before diving into building your own neural networks. These lessons provide a short refresher on what you need to know for this course, along with some guidance for using the [NumPy](http://www.numpy.org/) library to work efficiently with matrices in Python."
      ]
    },
    {
      "cell_type": "markdown",
      "metadata": {
        "id": "PDxNI4Xff3do"
      },
      "source": [
        "**Data Dimensions**\n",
        "[Ir](https://classroom.udacity.com/nanodegrees/nd101/parts/38543a0e-e395-42fe-9b16-1c2fdd8a3bf4/modules/c3289945-9afb-4a5f-806b-25b96cc7ee4e/lessons/4abae103-361f-4614-ab3c-7cc2a6758a0e/concepts/987e90aa-11a2-41c1-ae61-a52a1351158c)\n",
        "\n",
        "- How to map data to numbers, to be able manipulated in the computer.\n",
        "\n",
        "Dimensions:\n",
        " - Scalar, 0D,\n",
        " - Vectors (row vector, column vector) 1D,\n",
        " - Matrix 2D,\n",
        " - ... Tensor  (Tensor ND)\n",
        "\n",
        " Structure - Element is the structure\n",
        " - How to refer to elements in that structures, using an index. Recordar la etimologia del indice. (Lo que apunta a )"
      ]
    },
    {
      "cell_type": "markdown",
      "metadata": {
        "id": "cfC2YxXnwa_h"
      },
      "source": [
        "**Introducing NumPy**\n",
        "\n",
        "[Ir](https://classroom.udacity.com/nanodegrees/nd101/parts/38543a0e-e395-42fe-9b16-1c2fdd8a3bf4/modules/c3289945-9afb-4a5f-806b-25b96cc7ee4e/lessons/4abae103-361f-4614-ab3c-7cc2a6758a0e/concepts/bc46810e-694d-4cfd-9cf5-ba4a90b5a413)"
      ]
    },
    {
      "cell_type": "markdown",
      "metadata": {
        "id": "GB5RbS8lSY1K"
      },
      "source": [
        "## Neural Networks\n",
        "\n",
        "**Predicting Bike-Sharing Data**\n",
        "\n",
        "In this part, you'll learn how to build a simple neural network from scratch using python. We'll cover the algorithms used to train networks such as gradient descent and backpropagation.\n",
        "\n"
      ]
    },
    {
      "cell_type": "markdown",
      "metadata": {
        "id": "UD_knm-1Saix"
      },
      "source": [
        "## Convolutional Networks\n",
        "\n",
        "**Dog Breed Classifier**\n",
        "\n",
        "Convolutional networks have achieved state of the art results in computer vision. These types of networks can detect and identify objects in images. You'll learn how to build convolutional networks in PyTorch."
      ]
    },
    {
      "cell_type": "markdown",
      "metadata": {
        "id": "bmLeBE2iSffp"
      },
      "source": [
        "## Recurrent Neural Networks\n",
        "\n",
        "**Generate TV Scripts**\n",
        "\n",
        "In this part, you’ll learn about Recurrent Neural Networks (RNNs) — a type of network architecture particularly well suited to data that forms sequences like text, music, and time series data. You'll build a recurrent neural network that can generate new text character by character."
      ]
    },
    {
      "cell_type": "markdown",
      "metadata": {
        "id": "t8c6T6pMShUz"
      },
      "source": [
        "## Generative Adversarial Networks\n",
        "\n",
        "**Generate Faces**\n",
        "\n",
        "Generative adversarial networks (GANs) are one of the newest and most exciting deep learning architectures, showing incredible capacity for understanding real-world data. In this part, you'll learn about and implement GANs for a variety of tasks. You'll even see how to code a CycleGAN for generating images, and learn from one of the creators of this formulation, Jun-Yan Zhu, a researcher at MIT's CSAIL."
      ]
    },
    {
      "cell_type": "markdown",
      "metadata": {
        "id": "qTFRgKVOSi_z"
      },
      "source": [
        "## Deploying Machine Learning Models\n",
        "\n",
        "**Deploy a Sentiment Analysis Model**\n",
        "\n",
        "As more and more companies look to build AI products, there is a growing demand for engineers who are able to deploy machine learning models to global audiences. In this part, you’ll get experience deploying a model so that it can be accessed via a web app and respond to user input."
      ]
    }
  ]
}