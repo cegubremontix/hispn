{
  "nbformat": 4,
  "nbformat_minor": 0,
  "metadata": {
    "colab": {
      "name": "Ciencia-General.ipynb",
      "provenance": [],
      "authorship_tag": "ABX9TyNCDK+QlKGpIJ93sa5mDNEY",
      "include_colab_link": true
    },
    "kernelspec": {
      "name": "python3",
      "display_name": "Python 3"
    },
    "language_info": {
      "name": "python"
    }
  },
  "cells": [
    {
      "cell_type": "markdown",
      "metadata": {
        "id": "view-in-github",
        "colab_type": "text"
      },
      "source": [
        "<a href=\"https://colab.research.google.com/github/dbremont/Notas/blob/main/Ingenerare/src/Ciencia_General.ipynb\" target=\"_parent\"><img src=\"https://colab.research.google.com/assets/colab-badge.svg\" alt=\"Open In Colab\"/></a>"
      ]
    },
    {
      "cell_type": "markdown",
      "metadata": {
        "id": "bMupeddUvstT"
      },
      "source": [
        "* [Joy of Science](https://www.thegreatcourses.com/player/Video/1100?autoplay=false)\n",
        "\n",
        "* [Science Essentials](https://brilliant.org/courses/science-essentials/)\n",
        "\n",
        "* [Scientific Thinking](https://brilliant.org/courses/puzzle-science/)\n",
        "\n",
        "* [Computational Biology](https://brilliant.org/courses/computational-biology/)\n",
        "\n"
      ]
    },
    {
      "cell_type": "markdown",
      "metadata": {
        "id": "Z4M3brxK4E4V"
      },
      "source": [
        "# Physics\n",
        "\n",
        "- [List of unsolved problems in physics](https://en.wikipedia.org/wiki/List_of_unsolved_problems_in_physics)\n",
        "\n",
        "- [David Tong: Lectures on Theoretical Physics](http://www.damtp.cam.ac.uk/user/tong/teaching.html)\n",
        "\n",
        "- How natures works\n",
        "- Building Computing Devices\n",
        "- How computers works"
      ]
    },
    {
      "cell_type": "markdown",
      "metadata": {
        "id": "fkM2WPxAxQou"
      },
      "source": [
        "## Principal"
      ]
    },
    {
      "cell_type": "markdown",
      "metadata": {
        "id": "6Bxv2Nj6Nkb_"
      },
      "source": [
        "* [Physics of the Everyday](https://brilliant.org/courses/physics-everyday/)\n",
        "\n",
        "* [Classical Mechanics](https://brilliant.org/courses/dynamics-bootcamp/)\n",
        "\n",
        "* [Electricity and Magnetism](https://brilliant.org/courses/electromagnetism/)\n",
        "\n",
        "* [Waves and Light](https://brilliant.org/courses/waves-and-light/)\n",
        "\n",
        "* [Special Relativity](https://brilliant.org/courses/special-relativity/)\n",
        "\n",
        "* [Quantum Objects](https://brilliant.org/courses/quantum-objects/)\n",
        "\n",
        "* [Quantum Computing](https://brilliant.org/courses/quantum-computing/)\n"
      ]
    },
    {
      "cell_type": "markdown",
      "metadata": {
        "id": "ffVzUTeyNb3f"
      },
      "source": [
        "## Secundario"
      ]
    },
    {
      "cell_type": "markdown",
      "metadata": {
        "id": "JrEBKtawNlAM"
      },
      "source": [
        "* [Vibrations and Waves](https://ocw.mit.edu/courses/physics/8-03sc-physics-iii-vibrations-and-waves-fall-2016/)\n",
        "\n",
        "* [Introduction into General Theory of Relativity](https://www.coursera.org/learn/general-relativity)\n",
        "\n",
        "* [General Relativity](https://ocw.mit.edu/courses/physics/8-962-general-relativity-spring-2020/index.htm)\n",
        "\n",
        "* [Understanding Einstein: The Special Theory of Relativity](https://www.coursera.org/learn/einstein-relativity)\n",
        "\n",
        "* [Statistical Mechanics: Algorithms and Computations](https://www.coursera.org/learn/statistical-mechanics)\n",
        "\n",
        "* [Exploring Quantum Physics](https://www.coursera.org/learn/quantum-physics)\n",
        "\n",
        "* [The Introduction to Quantum Computing](https://www.coursera.org/learn/quantum-computing-algorithms) "
      ]
    },
    {
      "cell_type": "markdown",
      "metadata": {
        "id": "5sNDDWp53Qug"
      },
      "source": [
        "[Introduction to Neural Computation](https://ocw.mit.edu/courses/brain-and-cognitive-sciences/9-40-introduction-to-neural-computation-spring-2018/)\n",
        "\n",
        "[Advanced Neurobiology I](https://www.coursera.org/learn/advanced-neurobiology1)\n",
        "\n",
        "[Synapses, Neurons and Brains](https://www.coursera.org/learn/synapses/home/welcome)\n",
        "\n",
        "[Advanced Neurobiology II](https://www.coursera.org/learn/advancedneurobiologyii)\n",
        "\n",
        "[Computational Neuroscience](https://www.coursera.org/learn/computational-neuroscience)\n",
        "\n",
        "[Fundamentals of Biology](https://ocw.mit.edu/courses/biology/7-01sc-fundamentals-of-biology-fall-2011/)\n",
        "\n",
        "[PSYC 51.09 Human Memory](https://github.com/ContextLab/human-memory)"
      ]
    },
    {
      "cell_type": "markdown",
      "metadata": {
        "id": "GzCdgKzC3k3C"
      },
      "source": [
        "[9.11 The Human Brain](https://www.youtube.com/watch?v=i1pdQjdAndc&list=PLyGKBDfnk-iAQx4Kw9JeVqspbg77sfAK0)\n",
        "\n",
        "[Introduction to Neuroscience: systems and behavior](https://www.youtube.com/watch?v=h6C5iIz9zWs&list=PLbNK684iNG-ltAPR2tpurM3_GVkpVI-oo)\n",
        "\n",
        "[MIT RES.9-003 Brains, Minds and Machines Summer C](https://www.youtube.com/watch?v=_svW8NV1A6k&list=PLUl4u3cNGP61RTZrT3MIAikp2G5EEvTjf)\n",
        "\n",
        "[Mathematical Neuroscience](https://www.youtube.com/watch?v=BIih4iv7Wkg&list=PLnev50dI4t3B-yai2diRaZneSXEsY6Tb8)\n",
        "\n",
        "[BT5270 Principles of Neuroscience](https://www.youtube.com/watch?v=tNpkQhWhP40&list=PLqFGS_otF-c42kOMr7q7KBzviQyIxNR0L)\n",
        "\n",
        "[Computational Neuroscience - SYDE 552](https://www.youtube.com/watch?v=OroZCO00ts4&list=PLX-XEf1yTMrkcpni8RJMnqGBlA9uEHlaE)\n",
        "\n",
        "[Introduction to Modern Brain-Computer Interface Design](https://www.youtube.com/watch?v=Wlwvgm3AHvc&list=PLbbCsk7MUIGcO_lZMbyymWU2UezVHNaMq)\n",
        "\n",
        "[Computational Tutorials](https://www.youtube.com/watch?v=QTvNTEh04to&list=PLyGKBDfnk-iAU7N6dYVy7HhK2aLjLSPKM)"
      ]
    },
    {
      "cell_type": "markdown",
      "metadata": {
        "id": "skD6db0yvNDC"
      },
      "source": [
        "* [The Chemical Reaction](https://brilliant.org/courses/chemical-reaction/)\n",
        "\n",
        "* [Introduction to Solid State Chemistry](https://ocw.mit.edu/courses/materials-science-and-engineering/3-091sc-introduction-to-solid-state-chemistry-fall-2010/)"
      ]
    }
  ]
}