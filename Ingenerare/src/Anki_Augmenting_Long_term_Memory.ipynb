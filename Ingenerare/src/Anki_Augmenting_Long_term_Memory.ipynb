{
  "nbformat": 4,
  "nbformat_minor": 0,
  "metadata": {
    "colab": {
      "name": "Anki - Augmenting Long-term Memory.ipynb",
      "provenance": [],
      "authorship_tag": "ABX9TyMqbpY50JB4qmO/LikQThTG",
      "include_colab_link": true
    },
    "kernelspec": {
      "name": "python3",
      "display_name": "Python 3"
    },
    "language_info": {
      "name": "python"
    }
  },
  "cells": [
    {
      "cell_type": "markdown",
      "metadata": {
        "id": "view-in-github",
        "colab_type": "text"
      },
      "source": [
        "<a href=\"https://colab.research.google.com/github/dbremont/Notas/blob/main/Ingenerare/src/Anki_Augmenting_Long_term_Memory.ipynb\" target=\"_parent\"><img src=\"https://colab.research.google.com/assets/colab-badge.svg\" alt=\"Open In Colab\"/></a>"
      ]
    },
    {
      "cell_type": "markdown",
      "metadata": {
        "id": "_nUSFeDFF0oq"
      },
      "source": [
        "* [Augmenting Long-term Memory](http://augmentingcognition.com/ltm.html)\n",
        "\n",
        "* [Using Artificial Intelligence to Augment Human Intelligence](https://distill.pub/2017/aia/)\n",
        "\n",
        "* [The right time to learn: mechanisms and optimization of spaced learning](https://www.ncbi.nlm.nih.gov/pmc/articles/PMC5126970/)\n",
        "\n",
        "* [Associative learning predicts intelligence above and beyond working memory and processing speed](https://www.sciencedirect.com/science/article/abs/pii/S0160289609000300)\n",
        "\n",
        "* [Spaced repetition](https://en.wikipedia.org/wiki/Spaced_repetition)\n",
        "\n",
        "* [Effective learning: Twenty rules of formulating knowledge](https://www.supermemo.com/en/archives1990-2015/articles/20rules)\n",
        "\n",
        "* [Space Repetition for Efficient Learning](https://www.gwern.net/Spaced-repetition)\n",
        "\n",
        "* [Anki as Learning Superpower: Computer Science Edition](https://www.gresearch.co.uk/article/anki-as-learning-superpower-computer-science-edition/)\n",
        "\n",
        "* [A free introduction to quantum computing and quantum mechanics](https://quantum.country/)\n",
        "\n",
        "* [Augmenting Human Intellect: A Conceptual Framework](https://dougengelbart.org/content/view/138#9)\n",
        "\n",
        "* [The Spacing Effect: How to Improve Learning and Maximize Retention](https://fs.blog/spacing-effect/)\n",
        "\n",
        "* [A Gentle Introduction on How to Use Anki to Improve Your Memory](https://www.lesswrong.com/posts/tY6xbqNhyAw8NEYo2/a-gentle-introduction-on-how-to-use-anki-to-improve-your#A_Gentle_Introduction_to_Anki)\n",
        "\n",
        "* [Strategies, Tips, and Tricks for Anki](https://www.gwern.net/blog/everything-i-know-strategies-tips-and-tricks-for-spaced-repetition-anki/)\n",
        "\n",
        "How to make good cards:\n",
        "\n",
        "- [Bloom's taxonomy](https://en.wikipedia.org/wiki/Bloom%27s_taxonomy)\n",
        "- [A Short Guide to Writing Effective Test Questions](https://www.k-state.edu/ksde/alp/resources/Handout-Module6.pdf)"
      ]
    },
    {
      "cell_type": "markdown",
      "metadata": {
        "id": "tm2IwllmvDON"
      },
      "source": [
        "## Strategy to Used Anki"
      ]
    },
    {
      "cell_type": "markdown",
      "metadata": {
        "id": "aInrun8PvGld"
      },
      "source": [
        "- I live in an environment with a set of current tasks/problems to solve, a set of future skills to learn to increase my problem solving and money making capacity.\n",
        "\n",
        "- How to choose the set of topics to ankify? And create desks for them.\n",
        "\n",
        "  - Cost/Effectiness?\n",
        "  - How much time memorize *x* is going to save me.\n",
        "  - importance of remember *x*?\n",
        "  - value of remembering *x*?\n",
        "  - opportunity cost of learning *x*\n",
        "  - how much would i used *x*?\n",
        "  - when to forget *x*?\n",
        "\n",
        "- What tools to i have today to solve problems.\n",
        "   - Improve them, learn the basics better.\n",
        "\n",
        "- Do you want to add more tools to solve more problems.\n",
        "\n",
        "- What concepts i used the most, an i have to be looking at them?\n",
        "  -  Learn them better.\n",
        "\n",
        "- What time does learning *x* is going to save me?\n",
        "\n",
        "- With 25 minutes a day, how much **descks** should i have?"
      ]
    },
    {
      "cell_type": "markdown",
      "metadata": {
        "id": "dBKUiJX4toxF"
      },
      "source": [
        "## Michel Nilsen Anki"
      ]
    },
    {
      "cell_type": "markdown",
      "metadata": {
        "id": "YokER-jTtnLc"
      },
      "source": [
        "- The single biggest change is that memory is no longer a haphazard event, to be left to chance. Rather, I can guarantee I will remember something, with minimal effort: it makes memory a _choice_.\n",
        "\n",
        "- Rule of thumb: if memorizing something will likely save me five minutes in the future, into the spaced repetion system it goes. The expected lifetime review time is less than five minutes, i.e., it takes < 5 minutes to learn something... forever.\n",
        "\n",
        "- I review cards on the mobile app, while going for walks, in line at the coffeeshop, in transit, and so on. I find it meditative. It takes about 20 mins each day.\n",
        "\n",
        "-  A caveat: there is a difference between remembering facts and\n",
        "mastering processes. It's one thing to know a command; it's another to\n",
        "actually type the command.\n",
        "\n",
        "- To really internalize a process, you need to actually do the process. Still, I've found the transfer relatively easy.\n",
        "\n",
        "- It's best to make cards as atomic as possible.\n",
        "\n",
        "- I use Anki for almost everything.\n",
        "  - Learning places and all kinds of facts about my city, from the best things to order at a particular restaurant to demographic statistics (really) to favourite places in parts of the city I don't visit often.\n",
        "  - Learning APIs.\n",
        "  - Reading papers and books and watching  videos.  This is especially helpful for building mastery outside your area of expertise. You can (say) read a paper multiple times through, each time just grabbing what is easy, gradually building up an understanding.\n",
        "- ej:  Reading [Alpha Go Paper](https://www.quantamagazine.org/is-alphago-really-such-a-big-deal-20160329/)\n",
        "  - I read and reread the paper several times, as well as consulting a lot of adjacent papers, Wikipedia etc.\n",
        "  - I added several hundred Anki cards while doing.\n",
        "  - The early cards were mostly very simple things: facts about TDGammon (which used a similar approach to beat Backgammon), very basic facts about how Go works, and reinforcement learning and Monte Carlo Tree search.\n",
        "-  Verb form: I talk and think of \"Ankifying\" a paper or book etc.\n",
        "- It's easy to overdo it, especially initially, and waste time Ankifying useless info. Over time, I've found myself cultivating heuristics for how much to Ankify.\n",
        "- E.g., for many papers the answer is 0 to 5 questions. But for papers I want to understand better it might be 20 to 40. And for deep papers that I want to master it may be hundreds."
      ]
    }
  ]
}