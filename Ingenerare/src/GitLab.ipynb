{
  "nbformat": 4,
  "nbformat_minor": 0,
  "metadata": {
    "colab": {
      "name": "GitLab.ipynb",
      "provenance": [],
      "authorship_tag": "ABX9TyNO1x5ogeDiOGYpWY7WCK3v",
      "include_colab_link": true
    },
    "kernelspec": {
      "name": "python3",
      "display_name": "Python 3"
    },
    "language_info": {
      "name": "python"
    }
  },
  "cells": [
    {
      "cell_type": "markdown",
      "metadata": {
        "id": "view-in-github",
        "colab_type": "text"
      },
      "source": [
        "<a href=\"https://colab.research.google.com/github/dbremont/Notas/blob/main/Ingenerare/GitLab.ipynb\" target=\"_parent\"><img src=\"https://colab.research.google.com/assets/colab-badge.svg\" alt=\"Open In Colab\"/></a>"
      ]
    },
    {
      "cell_type": "markdown",
      "metadata": {
        "id": "rCMlysRYQKow"
      },
      "source": [
        "Snipetts para la documentacion\n",
        "\n",
        "Agregar busqueda a la documentación\n",
        "\n",
        "- \n",
        "\n",
        "[Docs](https://docs.gitlab.com/)\n",
        "\n",
        "[Contribution Analytics | GitLab -  ](https://docs.gitlab.com/ee/user/group/contribution_analytics/index.html)\n",
        "\n",
        "[Badges | GitLab -  ](https://docs.gitlab.com/ee/user/project/badges.html)\n",
        "\n",
        "[GitLab Flavored Markdown | GitLab -  ](https://docs.gitlab.com/ee/user/markdown.html#task-lists)\n",
        "\n",
        "[GitLab Advanced Search | GitLab -  ](https://docs.gitlab.com/ee/user/search/advanced_search.html)\n",
        "\n",
        "[Search API | GitLab -  ](https://docs.gitlab.com/ee/api/search.html)\n",
        "\n",
        "[Monitoring GitLab with Prometheus | GitLab -  ](https://docs.gitlab.com/ee/administration/monitoring/prometheus/index.html)\n",
        "\n",
        "[Prometheus integration | GitLab -  ](https://docs.gitlab.com/ee/user/project/integrations/prometheus.html)\n",
        "\n",
        "[Monitor your environment's metrics | GitLab -  ](https://docs.gitlab.com/ee/operations/metrics/index.html#setting-up-alerts-for-prometheus-metrics)\n",
        "\n",
        "[Unleash/unleash: Unleash is the open source feature toggle service. -  ](https://github.com/Unleash/unleash)\n",
        "\n",
        "[Code Quality | GitLab -  ](https://docs.gitlab.com/ee/user/project/merge_requests/code_quality.html#code-quality-reports)\n",
        "\n",
        "[Secret Detection | GitLab -  ](https://docs.gitlab.com/ee/user/application_security/secret_detection/)\n",
        "\n",
        "[Snippets | GitLab -  ](https://docs.gitlab.com/ee/user/snippets.html)\n",
        "\n",
        "[Static Site Editor | GitLab -  ](https://docs.gitlab.com/ee/user/project/static_site_editor/)\n",
        "\n",
        "[Wiki | GitLab -  ](https://docs.gitlab.com/ee/user/project/wiki/)\n",
        "\n",
        "[Sourcegraph integration | GitLab -  ](https://docs.gitlab.com/ee/integration/sourcegraph.html)\n",
        "\n",
        "[Sourcegraph docs - Sourcegraph docs -  ](https://docs.sourcegraph.com/)\n",
        "\n",
        "[Code Intelligence | GitLab -  ](https://docs.gitlab.com/ee/user/project/code_intelligence.html)\n",
        "\n",
        "[To-Do List | GitLab -  ](https://docs.gitlab.com/ee/user/todos.html)\n",
        "\n",
        "[Push Rules | GitLab -  ](https://docs.gitlab.com/ee/push_rules/push_rules.html)\n",
        "\n",
        "[Code Owners | GitLab -  ](https://docs.gitlab.com/ee/user/project/code_owners.html)\n",
        "\n",
        "[Code Intelligence | GitLab -  ](https://docs.gitlab.com/ee/user/project/code_intelligence.html)\n",
        "\n",
        "[Profile preferences | GitLab -  ](https://docs.gitlab.com/ee/user/profile/preferences.html)\n",
        "\n",
        "[Cherry-pick changes | GitLab -  ](https://docs.gitlab.com/ee/user/project/merge_requests/cherry_pick_changes.html)\n",
        "\n",
        "[File finder | GitLab -  ](https://docs.gitlab.com/ee/user/project/repository/file_finder.html)\n",
        "\n",
        "[Git | GitLab -  ](https://docs.gitlab.com/ee/topics/git/index.html)\n",
        "\n",
        "[To-Do List | GitLab -  ](https://docs.gitlab.com/ee/user/todos.html)\n",
        "\n",
        "[Productivity Analytics | GitLab -  ](https://docs.gitlab.com/ee/user/analytics/productivity_analytics.html)\n",
        "\n",
        "[Contribution Analytics | GitLab -  ](https://docs.gitlab.com/ee/user/group/contribution_analytics/index.html)\n",
        "\n"
      ]
    }
  ]
}