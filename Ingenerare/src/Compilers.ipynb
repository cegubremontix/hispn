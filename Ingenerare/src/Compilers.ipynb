{
  "nbformat": 4,
  "nbformat_minor": 0,
  "metadata": {
    "colab": {
      "name": "Compilers.ipynb",
      "provenance": [],
      "include_colab_link": true
    },
    "kernelspec": {
      "name": "python3",
      "display_name": "Python 3"
    },
    "language_info": {
      "name": "python"
    }
  },
  "cells": [
    {
      "cell_type": "markdown",
      "metadata": {
        "id": "view-in-github",
        "colab_type": "text"
      },
      "source": [
        "<a href=\"https://colab.research.google.com/github/dbremont/Notas/blob/main/Ingenerare/src/Compilers.ipynb\" target=\"_parent\"><img src=\"https://colab.research.google.com/assets/colab-badge.svg\" alt=\"Open In Colab\"/></a>"
      ]
    },
    {
      "cell_type": "markdown",
      "metadata": {
        "id": "huLJuDTyqXzr"
      },
      "source": [
        "- [Essentials of Compilation An Incremental Approach in Racket](https://iucompilercourse.github.io/IU-P423-P523-E313-E513-Fall-2020/)\n",
        "\n",
        "- [CS 6120: Advanced Compilers: The Self-Guided](https://www.cs.cornell.edu/courses/cs6120/2020fa/self-guided/)\n",
        "\n",
        "* [Programming Languages](https://classroom.udacity.com/courses/cs262)\n",
        "\n",
        "* [A minimal Smalltalk for teaching of and research on Virtual Machines](https://som-st.github.io/)\n",
        "\n",
        "* [Introduction to Program Synthesis](https://people.csail.mit.edu/asolar/SynthesisCourse/TOC.htm) "
      ]
    }
  ]
}