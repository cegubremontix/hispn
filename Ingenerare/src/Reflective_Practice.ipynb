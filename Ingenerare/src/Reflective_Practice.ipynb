{
  "nbformat": 4,
  "nbformat_minor": 0,
  "metadata": {
    "colab": {
      "name": "Reflective Practice.ipynb",
      "provenance": [],
      "authorship_tag": "ABX9TyP5+H7ty6OjJcxucDtUNXOi",
      "include_colab_link": true
    },
    "kernelspec": {
      "name": "python3",
      "display_name": "Python 3"
    },
    "language_info": {
      "name": "python"
    }
  },
  "cells": [
    {
      "cell_type": "markdown",
      "metadata": {
        "id": "view-in-github",
        "colab_type": "text"
      },
      "source": [
        "<a href=\"https://colab.research.google.com/github/dbremont/Notas/blob/main/Ingenerare/src/Reflective_Practice.ipynb\" target=\"_parent\"><img src=\"https://colab.research.google.com/assets/colab-badge.svg\" alt=\"Open In Colab\"/></a>"
      ]
    },
    {
      "cell_type": "markdown",
      "source": [
        "Why : Making a Blog"
      ],
      "metadata": {
        "id": "tUAOxCrzOF5G"
      }
    },
    {
      "cell_type": "markdown",
      "source": [
        "[Reflective practice](https://en.wikipedia.org/wiki/Reflective_practice)\n",
        "\n",
        "* [Models of reflective practice](https://www.youtube.com/watch?v=r1aYWbLj0U8)\n",
        "\n",
        "Examples : \n",
        "- Marcus Aurelius, Meditations\n",
        "- Normal Dev Blogs about experience,  [Eli Bendersky](https://eli.thegreenplace.net/)"
      ],
      "metadata": {
        "id": "8pdlaj5hODb9"
      }
    }
  ]
}