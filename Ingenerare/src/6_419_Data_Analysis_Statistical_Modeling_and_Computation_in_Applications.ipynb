{
  "nbformat": 4,
  "nbformat_minor": 0,
  "metadata": {
    "colab": {
      "name": "6.419 Data Analysis: Statistical Modeling and Computation in Applications.ipynb",
      "provenance": [],
      "authorship_tag": "ABX9TyO2hEMByBClcvOH1UstCRax",
      "include_colab_link": true
    },
    "kernelspec": {
      "name": "python3",
      "display_name": "Python 3"
    },
    "language_info": {
      "name": "python"
    }
  },
  "cells": [
    {
      "cell_type": "markdown",
      "metadata": {
        "id": "view-in-github",
        "colab_type": "text"
      },
      "source": [
        "<a href=\"https://colab.research.google.com/github/dbremont/Notas/blob/main/Ingenerare/6_419_Data_Analysis_Statistical_Modeling_and_Computation_in_Applications.ipynb\" target=\"_parent\"><img src=\"https://colab.research.google.com/assets/colab-badge.svg\" alt=\"Open In Colab\"/></a>"
      ]
    },
    {
      "cell_type": "markdown",
      "metadata": {
        "id": "BjsYhTNigWeY"
      },
      "source": [
        "[6.419 Data Analysis: Statistical Modeling and Computation in Applications](https://learning.edx.org/course/course-v1:MITx+6.419x+1T2021/home)"
      ]
    },
    {
      "cell_type": "markdown",
      "metadata": {
        "id": "TkyUANJao1rk"
      },
      "source": [
        "Data science requires multi-disciplinary skills ranging from mathematics, statistics, machine learning, problem solving to programming, visualization, and communication skills. In this course, learners will combine these foundational and practical skills with domain knowledge to ask and answer questions using real data.\n",
        "\n",
        "This course will start with a review of common statistical and computational tools such as **hypothesis testing, regression, and gradient descent methods**. Then, learners will study common models and methods to analyze specific types of data in four different domain areas:\n",
        "\n",
        "Epigenetic Codes and Data Visualization\n",
        "Criminal Networks and Network Analysis\n",
        "Prices, Economics and Time Series\n",
        "Environmental Data and Spatial Statistics\n",
        "Learners will be guided to analyze a real data set from each of these areas of focus, and present their findings in written reports. They will also discuss relevant and practical issues with peers."
      ]
    },
    {
      "cell_type": "markdown",
      "metadata": {
        "id": "-hbM7f0Oo2rx"
      },
      "source": [
        "# Pre-requisites\n",
        "\n",
        "- Undergraduate Python programming\n",
        "- Undergraduate multi-variable calculus, and linear algebra\n",
        "- Undergraduate probability theory and statistics\n",
        "- Undergraduate machine learning"
      ]
    },
    {
      "cell_type": "markdown",
      "metadata": {
        "id": "Ztida403ga5F"
      },
      "source": [
        "Data Colection Courses\n",
        "\n",
        "- Pilot study\n",
        "\n",
        "- Benchmark\n",
        "\n",
        "- Randomization\n",
        "\n",
        "- Causal Graph\n",
        "\n",
        "- Generating data and modelling with causal graph.\n",
        "\n",
        "- Confounder  variable.\n",
        "\n",
        "- Effect of offerig mamography **\"hips study\"** to prevent breast cancer.\n",
        "\n"
      ]
    },
    {
      "cell_type": "markdown",
      "metadata": {
        "id": "ZrD8pW5Vgf1u"
      },
      "source": [
        "OCW Statistics\n",
        "Concepts and Psets\n",
        "\n",
        "- Convergence of random variables\n",
        "- Bernoulli random variable\n",
        "- i.i.d sequence\n",
        "\n",
        "- Poisson random variable\n",
        "- Common variance\n",
        "- Estimator\n",
        "- Bias of an estimator\n",
        "\n",
        "Define a statistical model:\n",
        "\n",
        "- The US Census Bureau is interested in finding out the average commute time of\n",
        "Bostonians. To that end, it randomly selects n individuals, with replacement,\n",
        "among the people who work and live in the Boston area, and asks to each if their\n",
        "commute time is at least 20 minutes. The commute time of a random person is\n",
        "assumed to follow an exponential distribution.\n",
        "\n",
        "- Willy Wonka’s contains 67 identical machines. Each machine has a lifetime that\n",
        "is modeled as an exponential random variable with some unknown parameter λ.\n",
        "After a certain time T = 500 days, one has observed the lifetime of all machines\n",
        "that have stopped working before T. The parameter of interest is λ. \n",
        "\n",
        "- A confidence interval for Poisson distributions\n",
        "\n",
        "- Maximum likelihood estimato\n",
        "\n",
        "- Kullback-Leibler divergence\n",
        "\n",
        "- Total variation distance\n",
        "\n",
        "- Fisher information\n",
        "\n",
        "- Hypotheses testing\n",
        "\n",
        "- Bayesian estimation\n",
        "\n",
        "- Covariance Matrices\n",
        "\n",
        "- Linear model with latent variables\n",
        "\n",
        "Statistical methods are based on models.\n",
        "\n",
        "\n"
      ]
    },
    {
      "cell_type": "markdown",
      "metadata": {
        "id": "s0Gi2vG3gkbP"
      },
      "source": [
        "**Statistical models: Bernoulli and binomial models**\n",
        "\n",
        "- Indicator variable\n",
        "\n",
        "- Bernoulli Distribution: use to model ramdom experiments with only two possible outcomes. **Random Models**\n",
        "\n",
        "- Binomial Distributions: \n",
        "  - We can comppute the probability masss function (pmf) of a binomial random variable Y with parameters $n$ and $p$\n",
        "\n",
        "  - $f(Y = k) = \\binom {n}{k} \\cdot p^ k \\cdot (1-p)^{n-k}$\n",
        "  - $ \\binom {n}{k}$ is the number of different ways of choosing k out the the n Bernoulli variables.\n",
        "  - $ p^ k$ is the probability that a given set of $k$ Bernoulli random variables all take value 1.\n",
        "  - $(1-p)^{n-k}$ is the probability that a given set of $n-k$ Bernoulli random variables al take value $0$.\n",
        "\n",
        "  \n"
      ]
    },
    {
      "cell_type": "markdown",
      "metadata": {
        "id": "s6lzvgRYgokV"
      },
      "source": [
        "**Find out whether offering a mammography for early detection reduces deaths due to breast cancer.**\n"
      ]
    },
    {
      "cell_type": "markdown",
      "metadata": {
        "id": "YIAN7n23gpQd"
      },
      "source": [
        "- **Hypothesis testing** allows us to see so meaninful is the results in the **treatment group** vs **countrol group**. So we reject the idea that the results observed we not just by change.\n",
        "\n",
        "- A high-level summary of hypothesis testing is that it involves calculating the probability, under a given model, that an observation equal to or more extreme than what is observed in the treatment group is obtained, conditioned on the treatment having no effect\n",
        "\n",
        "- The role of a statistical model is in calculating this probability. \n",
        "\n",
        "- **Null hypothesis  H0** : claim that the treatment does not have a significant effect on the outcome, also known as the status-quo.\n",
        "\n",
        "- **Alternative hypothesis  HA** : claim that the treatment does have a significant effect on the outcome.\n",
        "\n",
        "- In other words, the  p -value measures the \"compatibilty\" of the observed data with the null hypothesis. \n",
        "\n",
        "- Type I error (false positive) \n",
        "\n",
        "- Type II error (false negative)\n",
        "\n",
        "- **Hypergeometric distribution**\n",
        "\n",
        "- **Fisher's Exact Test**\n",
        "\n",
        "- **Likelihood Ratio Test**\n",
        "\n",
        "- **Family-wise error rate (FWER)** : the probability of making at least one false discovery, or type I error;\n",
        "\n",
        "- **False discovery rate (FDR)** : the expected fraction of false significance results among all false significance results.\n",
        "\n",
        "- The concepts of variance and covariance of data.\n",
        "\n",
        "- What the corelation coefficient is and how it relates to covariance.\n",
        "\n",
        "- How linear regression relates to correlation.\n",
        "\n",
        "- How to transform data with non-linear relationship so that they may be analyzed with linear regression.\n",
        "\n",
        "- The extension of linear regression to multiple dimensions.\n",
        "\n",
        "- Application of the t-test to determine the significance of predictors in a multidimensional linear model.\n",
        "\n",
        "- Correlation coefitient:\n",
        "\n",
        "   - $r = \\frac{1}{N} \\sum_{i=1}^n (\\frac{x_i - \\bar{y}}{s_X})(\\frac{y_i - \\bar{y}}{s_y}) = \n",
        "   \\frac{cov(x,y)}{s_xs_y}$\n",
        "\n",
        "   - Measures linear association between variables."
      ]
    },
    {
      "cell_type": "markdown",
      "metadata": {
        "id": "e5QWUHyMgrLi"
      },
      "source": [
        "In this lecture and series of exercises you will learn:\n",
        "\n",
        "- What it means for a function to be convex, and why convex functions are important in optimization.\n",
        "\n",
        "- Critical points and saddle points in multi-dimensional optimization.\n",
        "\n",
        "- Definitions for convexity in multiple dimensions.\n",
        "\n",
        "- How to create local quadratic approximations to a function.\n",
        "\n",
        "- The method of gradient descent.\n",
        "\n",
        "- How to select the step size in gradient descent.\n",
        "\n",
        "- The stochastic gradient descent algorithm."
      ]
    },
    {
      "cell_type": "markdown",
      "metadata": {
        "id": "sFCtSzwugtrg"
      },
      "source": [
        "- **What is a loss function**\n",
        "\n",
        "- Measure of performace."
      ]
    }
  ]
}