{
  "nbformat": 4,
  "nbformat_minor": 0,
  "metadata": {
    "colab": {
      "name": "Articulos Generales.ipynb",
      "provenance": [],
      "toc_visible": true,
      "include_colab_link": true
    },
    "kernelspec": {
      "name": "python3",
      "display_name": "Python 3"
    },
    "language_info": {
      "name": "python"
    }
  },
  "cells": [
    {
      "cell_type": "markdown",
      "metadata": {
        "id": "view-in-github",
        "colab_type": "text"
      },
      "source": [
        "<a href=\"https://colab.research.google.com/github/dbremont/Notas/blob/main/Ingenerare/src/Articulos_Generales.ipynb\" target=\"_parent\"><img src=\"https://colab.research.google.com/assets/colab-badge.svg\" alt=\"Open In Colab\"/></a>"
      ]
    },
    {
      "cell_type": "markdown",
      "metadata": {
        "id": "u7qcZSSkt6o7"
      },
      "source": [
        "[Beautiful Ideas In Personal Organization](https://colab.research.google.com/github/dbremont/Notas/blob/main/Ingenerare/src/Beautiful_Ideas_In_Personal_Organization.ipynb)\n"
      ]
    },
    {
      "cell_type": "markdown",
      "metadata": {
        "id": "3UvYko9PvQ6e"
      },
      "source": [
        "## Models"
      ]
    },
    {
      "cell_type": "markdown",
      "metadata": {
        "id": "8M-Hgrx5u1zg"
      },
      "source": [
        "> Models are potential representations of target systems.\n",
        "\n",
        "\n",
        "[Mental Models: The Best Way to Make Intelligent Decisions (~100 Models Explained)](https://fs.blog/mental-models)\n",
        "\n",
        "[Mental model](https://en.wikipedia.org/wiki/Mental_model)\n",
        "\n",
        "[Mental Models: The Best Way to Make Intelligent Decisions](https://fs.blog/mental-models/)\n",
        "\n",
        "[Setting up the data and the model](https://cs231n.github.io/neural-networks-2/)\n",
        "\n",
        "[Conceptual model](https://en.wikipedia.org/wiki/Conceptual_model)\n",
        "\n",
        "[Why Model?](http://jasss.soc.surrey.ac.uk/11/4/12.html)\n",
        "\n",
        "[Statistical model](https://en.wikipedia.org/wiki/Statistical_model)\n",
        "\n",
        "[Scientific modelling](https://en.wikipedia.org/wiki/Scientific_modelling)\n",
        "\n",
        "[Simulated annealing](https://en.wikipedia.org/wiki/Simulated_annealing)\n",
        "\n",
        "[50 Ideas That Changed My Life](https://perell.com/essay/50-ideas-that-changed-my-life/)\n",
        "\n",
        "* [Mental models for designers](https://dropbox.design/article/mental-models-for-designers)\n",
        "\n",
        "* [Product Management Mental Models for Everyone](https://blackboxofpm.com/product-management-mental-models-for-everyone-31e7828cb50b)\n",
        "\n",
        "* [50 Ideas That Changed My Life](https://www.perell.com/blog/50-ideas-that-changed-my-life)\n",
        "\n",
        "* [Mental models for designers](https://dropbox.design/article/mental-models-for-designers)\n",
        "\n",
        "* [A Framework for First Principles Thinking](https://neilkakkar.com/A-framework-for-First-Principles-Thinking.html)\n",
        "\n",
        "* [Second Order Thinking - A Practical Guide](https://neilkakkar.com/second-order-thinking.html)\n",
        "\n",
        "* [Vocabulary as a Meta Mental Model](https://neilkakkar.com/vocabulary-mental-model.html)\n",
        "\n",
        "* [Bayes Theorem: A Framework for Critical Thinking](https://neilkakkar.com/Bayes-Theorem-Framework-for-Critical-Thinking.html)\n",
        "\n",
        "* [First Principles](https://fs.blog/2018/04/first-principles/)\n",
        "\n",
        "* [Second Order Thinking](https://models.substack.com/p/second-order-thinking)\n",
        "\n",
        "* [Major flaws of human thinking](https://dandanua.github.io/posts/major-flaws-of-human-thinking/)\n",
        "\n",
        "Otros Recursos\n",
        "\n",
        "- [Models in Science](https://plato.stanford.edu/entries/models-science/)\n",
        "- [Models - Internet Encyclopedia of Philosophy](https://iep.utm.edu/models/)\n",
        "- [Scientific modelling](https://en.wikipedia.org/wiki/Scientific_modelling)\n",
        "- [Conceptual model](https://en.wikipedia.org/wiki/Conceptual_model)\n",
        "- Simulation and Similarity"
      ]
    },
    {
      "cell_type": "markdown",
      "metadata": {
        "id": "u15t3WSU7qjC"
      },
      "source": [
        "## Filosofía"
      ]
    },
    {
      "cell_type": "markdown",
      "metadata": {
        "id": "lBVonejJ7sHA"
      },
      "source": [
        "[Philosophy of physics](https://en.wikipedia.org/wiki/Philosophy_of_physics)\n",
        "\n",
        "[Philosophy of science](https://en.wikipedia.org/wiki/Philosophy_of_science#Philosophy_of_statistics)\n",
        "\n",
        "[On Denoting](https://en.wikipedia.org/wiki/On_Denoting)\n",
        "\n",
        "[On Induction](http://www.ditext.com/russell/rus6.html)\n",
        "\n",
        "[Philosophy of language](https://en.wikipedia.org/wiki/Philosophy_of_language)\n",
        "\n",
        "[Philosophy of statistics](https://en.wikipedia.org/wiki/Philosophy_of_statistics)\n",
        "\n",
        "[Philosophy of Statistics](https://plato.stanford.edu/entries/statistics/)\n",
        "\n",
        "[Is Justified True Belief Knowledge?](http://www.ditext.com/gettier/gettier.html)\n",
        "\n",
        "[Identity of indiscernibles](https://en.wikipedia.org/wiki/Identity_of_indiscernibles)\n",
        "\n",
        "[Dialectic](https://en.wikipedia.org/wiki/Dialectic)\n",
        "\n",
        "[An Intuitive Explanation of Solomonoff Induction](https://www.lesswrong.com/posts/Kyc5dFDzBg4WccrbK/an-intuitive-explanation-of-solomonoff-induction)\n",
        "\n",
        "[A Semitechnical Introductory Dialogue on Solomonoff Induction](https://www.lesswrong.com/posts/EL4HNa92Z95FKL9R2/a-semitechnical-introductory-dialogue-on-solomonoff-1)\n",
        "\n",
        "[Structure](https://en.wikipedia.org/wiki/Structure)\n",
        "\n",
        "[Sense and reference](https://en.wikipedia.org/wiki/Sense_and_reference)\n",
        "\n",
        "[Naming and Necessity](https://en.wikipedia.org/wiki/Naming_and_Necessity)\n",
        "\n",
        "[A Treatise Concerning the Principles of Human Knowledge](https://en.wikisource.org/wiki/A_Treatise_Concerning_the_Principles_of_Human_Knowledge)\n",
        "\n",
        "[Abstract and concrete](https://en.wikipedia.org/wiki/Abstract_and_concrete)\n",
        "\n",
        "[An Enquiry Concerning Human Understanding](https://en.wikisource.org/wiki/An_Enquiry_Concerning_Human_Understanding)\n",
        "\n",
        "[Connotation](https://en.wikipedia.org/wiki/Connotation)\n",
        "\n",
        "[Denotation](https://en.wikipedia.org/wiki/Denotation)\n",
        "\n",
        "[Normativity](https://en.wikipedia.org/wiki/Normativity)"
      ]
    },
    {
      "cell_type": "markdown",
      "metadata": {
        "id": "CxcVTL878yMX"
      },
      "source": [
        "## Linguistica"
      ]
    },
    {
      "cell_type": "markdown",
      "metadata": {
        "id": "7cO8mN-i80wU"
      },
      "source": [
        "[Noun](https://en.wikipedia.org/wiki/Noun)\n",
        "\n",
        "[Nominal (linguistics)](https://en.wikipedia.org/wiki/Nominal_(linguistics))\n",
        "\n",
        "[Modality (natural language)](https://en.wikipedia.org/wiki/Modality_(natural_language))"
      ]
    },
    {
      "cell_type": "markdown",
      "metadata": {
        "id": "AyJMzbsAFcRz"
      },
      "source": [
        "## Contabilidad y Responsabilidad\n",
        "\n",
        "[Double Entry Accounting for Developers](https://django-hordak.readthedocs.io/en/latest/accounting-for-developers.html)\n",
        "\n",
        "[Account (bookkeeping)](https://en.wikipedia.org/wiki/Account_(bookkeeping))\n"
      ]
    },
    {
      "cell_type": "markdown",
      "source": [
        "## Tools\n",
        "\n",
        "Communication\n",
        "Writing\n",
        "Modeling\n",
        "Problems Solving\n",
        "Reading\n",
        "Learning"
      ],
      "metadata": {
        "id": "tQvnnKRUWatL"
      }
    },
    {
      "cell_type": "markdown",
      "source": [
        "[An ultimate guide to memory palaces](https://metacognitive.me/memory-palace/)\n",
        "\n",
        "[HN: How to Think Clearly?](https://news.ycombinator.com/item?id=24896237)\n",
        "\n",
        "[Decision-making](https://en.wikipedia.org/wiki/Decision-making)\n",
        "\n",
        "[List of cognitive biases](https://en.wikipedia.org/wiki/List_of_cognitive_biases)\n",
        "\n",
        "[Learning curve](https://en.wikipedia.org/wiki/Learning_curve)\n",
        "\n",
        "[Just-in-time learning](https://en.wikipedia.org/wiki/Just-in-time_learning)\n",
        "\n",
        "[What I learned from Patrick Winston](https://holdenlee.github.io/What%20I%20learned%20from%20Patrick%20Winston.html)\n",
        "\n",
        "[Write a rapid prototype first](https://terrytao.wordpress.com/advice-on-writing-papers/write-a-rapid-prototype-first/)\n",
        "\n",
        "[A Simple and Dynamic Method for Consistent Productivity](https://matthewsaltz.wordpress.com/2020/11/24/a-simple-and-dynamic-method-for-consistent-productivity/)\n",
        "\n",
        "[Soft skills](https://es.wikipedia.org/wiki/Soft_skills)\n",
        "\n",
        "[Five whys](https://en.wikipedia.org/wiki/Five_whys)\n",
        "\n",
        "[5 second feedback](https://critter.blog/2020/11/26/5-second-feedback/)\n",
        "\n",
        "\n",
        "[Oportunity Cost](https://en.wikipedia.org/wiki/Opportunity_cost)\n",
        "\n",
        "[Cost–benefit analysis](https://en.wikipedia.org/wiki/Cost%E2%80%93benefit_analysis)\n",
        "\n",
        "[Bean Machine](https://en.wikipedia.org/wiki/Bean_machine)\n",
        "\n",
        "[Argument map](https://en.wikipedia.org/wiki/Argument_map)\n",
        "\n",
        "[Using Artificial Intelligence to Augment Human Intelligence](https://distill.pub/2017/aia/)\n",
        "\n",
        "[Incremental note-taking](https://thesephist.com/posts/inc/)"
      ],
      "metadata": {
        "id": "7nxXp8ccWd-s"
      }
    },
    {
      "cell_type": "markdown",
      "metadata": {
        "id": "ND4k-rozPPTJ"
      },
      "source": [
        "## Others"
      ]
    },
    {
      "cell_type": "markdown",
      "source": [
        "* (D) [How to read a research paper](http://0.0.0.0:8000/6%20Otros/Articulos/How%20to%20read%20a%20research%20paper.pdf)\n",
        "\n",
        "* (D) [Efficient Reading of Papers in Science and Technology](http://0.0.0.0:8000/6%20Otros/Articulos/Efficient%20Reading%20of%20Papers%20in%20Science%20and%20Technology.pdf)\n",
        "\n",
        "* [The Feynman Technique: The Best Way to Learn Anything](https://fs.blog/2012/04/feynman-technique/)\n",
        "\n",
        "* [How to remember what you learn](https://vasilishynkarenka.com/learning/)\n",
        "\n",
        "* [Using spaced repetition systems to see through a piece of mathematics](http://cognitivemedium.com/srs-mathematics) \n",
        "\n",
        "* [How to take smart notes](https://www.lesswrong.com/posts/T382CLwAjsy3fmecf/how-to-take-smart-section-ahrens-2017)\n",
        "\n",
        "\n",
        "* [The Polymath Playbook](https://salman.io/posts/polymath-playbook/)\n",
        "\n",
        "* [Why Tacit Knowledge is More Important Than Deliberate Practice](https://commoncog.com/blog/tacit-knowledge-is-a-real-thing/)\n",
        "\n",
        "* [Recognizing vs Generating](https://mlu.red/52622266310.html)\n",
        "\n",
        "\n",
        "* [The Role of Deliberate Practice in the Acquisition of Expert Performance](https://mrbartonmaths.com/resourcesnew/8.%20Research/Explicit%20Instruction/Deliberate%20Practice.PDF)\n",
        "\n",
        "* [How to Memorize Faster With The Spaced Repetition Learning Technique](https://productive.fish/blog/spaced-repetition/)\n",
        "\n",
        "* [The Complete Guide to Effective Reading](https://maartenvandoorn.nl/reading-guide/)\n",
        "\n",
        "* (D)[Introduction into Luhmanns Zettelkasten](http://0.0.0.0:8000/6%20Otros/Articulos/Introduction%20into%20Luhmanns%20Zettelkasten.pdf)"
      ],
      "metadata": {
        "id": "JkmXDUAijRMo"
      }
    },
    {
      "cell_type": "markdown",
      "metadata": {
        "id": "gOTHYBKYRRlr"
      },
      "source": [
        "[Overton window](https://en.wikipedia.org/wiki/Overton_window)\n",
        "\n",
        "[Ad Hoc](https://es.wikipedia.org/wiki/Ad_hoc)\n",
        "\n",
        "[Humanistic intelligence](https://en.wikipedia.org/wiki/Humanistic_intelligence)\n",
        "\n",
        "[Six Ways to Think Long-term: A Cognitive Toolkit for Good Ancestors](https://blog.longnow.org/02020/07/20/six-ways-to-think-long-term-a-cognitive-toolkit-for-good-ancestors/)\n",
        "\n",
        "[Trapped Priors As A Basic Problem Of Rationality](https://astralcodexten.substack.com/p/trapped-priors-as-a-basic-problem)\n",
        "\n",
        "[Heuristic](https://en.wikipedia.org/wiki/Heuristic)\n",
        "\n",
        "[Critical Mass and Tipping Points: How To Identify Inflection Points Before They Happen](https://fs.blog/2017/07/critical-mass/)"
      ]
    },
    {
      "cell_type": "markdown",
      "metadata": {
        "id": "ENmQ-ynv3wRS"
      },
      "source": [
        "(D) [15 pieces of advice I wish my PhD advisor had given me](http://0.0.0.0:8000/5%20Ciencia/Articulos/15%20pieces%20of%20advice%20I%20wish%20my%20PhD%20advisor%20had%20given%20me.pdf)\n",
        "\n",
        "[Survivorship bias](https://en.wikipedia.org/wiki/Survivorship_bias)\n",
        "\n",
        "[A Philosophical Notebook, by Nassim Nicholas Taleb](https://www.fooledbyrandomness.com/notebook.htm)\n",
        "\n",
        "Evidence that we human use thought largely for ornamental purpose\n",
        "At the Harvard Symposium for Hard Problems in Social Science, Emily Oster presented a very simple, elementary problem: almost all people with type-2 diabetes who are overweight can be cured by losing a little bit of weight. They are made aware of it, yet they usually gain weight after diagnosis (she mentioned \"Atkins\" among the options, so it was not just AMA low-fat.). It is so obvious that we know what to do yet do not carry the action because thinking can be largely ornamental. The proof of the sterility of (a significant class of) knowledge was right there (among the obvious evidence that the population has been gaining weight in spire of technological and educational progress). Yet the others social scientists kept exalting the value of \"education\" in spite of this simple devastating evidence. Someone even suggested teaching more \"critical thinking\". This is the great sucker problem: people who teach truly think that teaching, or, worse, preaching, cures.\n",
        "\n",
        "[Theory of mind](https://en.wikipedia.org/wiki/Theory_of_mind)\n",
        "\n",
        "[Adding is favoured over subtracting in problem solving](https://www.nature.com/articles/d41586-021-00592-0) - Model  of we Interact with the a System\n",
        "\n",
        "[The Six Levels of Interaction with a System](https://www.charlieharrington.com/the-six-levels-of-interaction-with-a-system) Orden de Interaccion con un Sistema\n",
        "- Non-use\n",
        "- Use\n",
        "- Monitor\n",
        "- Maintain\n",
        "- Repair\n",
        "- (Re)build\n",
        "\n",
        "\n",
        "[Book Review: Antifragile](https://astralcodexten.substack.com/p/book-review-antifragile)\n",
        "\n",
        "[More Antifragile, Diversity Libertarianism, And Corporate Censorship](https://astralcodexten.substack.com/p/more-antifragile-diversity-libertarianism)\n",
        "\n",
        "[Experience curve effects](https://en.wikipedia.org/wiki/Experience_curve_effects)\n",
        "\n",
        "[Delphi method](https://en.wikipedia.org/wiki/Delphi_method)\n",
        "\n",
        "[Wicked problem](https://en.wikipedia.org/wiki/Wicked_problem)\n",
        "\n",
        "[Inverse problem](https://en.wikipedia.org/wiki/Inverse_problem)\n",
        "\n",
        "[Lectio Divina](https://en.wikipedia.org/wiki/Lectio_Divina)\n",
        "\n",
        "[Negative feedback](https://en.wikipedia.org/wiki/Negative_feedback)\n",
        "\n",
        "[Ora et labora](https://es.wikipedia.org/wiki/Ora_et_labora)\n",
        "\n",
        "[Outline of thought](https://en.wikipedia.org/wiki/Outline_of_thought)\n",
        "\n",
        "[Ugly duckling theorem](https://en.wikipedia.org/wiki/Ugly_duckling_theorem)\n",
        "\n",
        "Terminology as a tool for thinking: La terminología nos brinda abstrae ideas y nos permite comunicarnos con más efectiva. Utilizando menos palabras.\n",
        "- Alfred North Whitehead\n",
        "\n",
        "[Systems thinking](https://en.wikipedia.org/wiki/Systems_thinking)\n",
        "\n",
        "[Map–territory relation](https://en.wikipedia.org/wiki/Map%E2%80%93territory_relation)\n",
        "\n",
        "[Hindsight bias](https://en.wikipedia.org/wiki/Hindsight_bias)\n",
        "\n",
        "[Congruence bias](https://en.wikipedia.org/wiki/Congruence_bias)\n",
        "\n",
        "[Demarcation problem](https://en.wikipedia.org/wiki/Demarcation_problem)\n",
        "\n",
        "[Identity of indiscernibles](https://en.wikipedia.org/wiki/Identity_of_indiscernibles)\n",
        "\n",
        "[Anchoring (cognitive bias)](https://en.wikipedia.org/wiki/Anchoring_(cognitive_bias))"
      ]
    }
  ]
}