{
  "nbformat": 4,
  "nbformat_minor": 0,
  "metadata": {
    "colab": {
      "name": "Léxico Personal.ipynb",
      "provenance": [],
      "authorship_tag": "ABX9TyNV1ebU8RKJnZV1ucA6qKpn",
      "include_colab_link": true
    },
    "kernelspec": {
      "name": "python3",
      "display_name": "Python 3"
    },
    "language_info": {
      "name": "python"
    }
  },
  "cells": [
    {
      "cell_type": "markdown",
      "metadata": {
        "id": "view-in-github",
        "colab_type": "text"
      },
      "source": [
        "<a href=\"https://colab.research.google.com/github/dbremont/Notas/blob/main/Ingenerare/L%C3%A9xico_Personal.ipynb\" target=\"_parent\"><img src=\"https://colab.research.google.com/assets/colab-badge.svg\" alt=\"Open In Colab\"/></a>"
      ]
    },
    {
      "cell_type": "markdown",
      "metadata": {
        "id": "EVI5aLXesQ4P"
      },
      "source": [
        "[Léxico](https://es.wikipedia.org/wiki/L%C3%A9xico) - Vocabulario\n",
        "\n",
        "- Por que mejorarlo?\n",
        "  - Tener mejores conversaciones.\n",
        "  - Expresar mejor las ideas.\n",
        "  - Analogias,\n",
        "  - Frases.\n",
        "\n",
        "- Como medir mejora?\n",
        "\n",
        "- Mecanismo de retro-alimentación?\n",
        "  - Anki,\n",
        "  - Comparar con [Jesus G Maestro](https://www.youtube.com/channel/UCfWWjBMY6zpvvU6wAe5j_Eg)"
      ]
    }
  ]
}