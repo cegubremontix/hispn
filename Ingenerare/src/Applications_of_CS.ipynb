{
  "nbformat": 4,
  "nbformat_minor": 0,
  "metadata": {
    "colab": {
      "name": "Applications of CS.ipynb",
      "provenance": [],
      "authorship_tag": "ABX9TyPYNlDH8A6cZQSBEqD/yaiA",
      "include_colab_link": true
    },
    "kernelspec": {
      "name": "python3",
      "display_name": "Python 3"
    },
    "language_info": {
      "name": "python"
    }
  },
  "cells": [
    {
      "cell_type": "markdown",
      "metadata": {
        "id": "view-in-github",
        "colab_type": "text"
      },
      "source": [
        "<a href=\"https://colab.research.google.com/github/dbremont/Notas/blob/main/Ingenerare/src/Applications_of_CS.ipynb\" target=\"_parent\"><img src=\"https://colab.research.google.com/assets/colab-badge.svg\" alt=\"Open In Colab\"/></a>"
      ]
    },
    {
      "cell_type": "markdown",
      "metadata": {
        "id": "yMHQHlxrDW-b"
      },
      "source": [
        "Technology:\n",
        "\n",
        "- Natural Language Understanding\n",
        "- Curate Data + Knowledge\n",
        "- Dynamic Algorithmic Computation\n",
        "- Computer Visual Presentation \n",
        "\n",
        "Solutions:\n",
        "\n",
        "- Questions -> Answer \n",
        "\n",
        "- Primero para el mercado hispano.\n",
        "\n",
        "- If one integrated with personal data can become a personal assitent.\n",
        "\n",
        "\n",
        "Name of the Company:\n",
        "\n",
        "- inferlabs.ai\n",
        "- luzlabs.ai\n",
        "- **luxlabs.ai**\n",
        "- ferrelabs.ai"
      ]
    }
  ]
}