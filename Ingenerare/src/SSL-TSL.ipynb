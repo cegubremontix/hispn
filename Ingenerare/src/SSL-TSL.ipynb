{
  "nbformat": 4,
  "nbformat_minor": 0,
  "metadata": {
    "colab": {
      "name": "SSL, TSL.ipynb",
      "provenance": [],
      "include_colab_link": true
    },
    "kernelspec": {
      "name": "python3",
      "display_name": "Python 3"
    },
    "language_info": {
      "name": "python"
    }
  },
  "cells": [
    {
      "cell_type": "markdown",
      "metadata": {
        "id": "view-in-github",
        "colab_type": "text"
      },
      "source": [
        "<a href=\"https://colab.research.google.com/github/dbremont/Notas/blob/main/Ingenerare/src/SSL-TSL.ipynb\" target=\"_parent\"><img src=\"https://colab.research.google.com/assets/colab-badge.svg\" alt=\"Open In Colab\"/></a>"
      ]
    },
    {
      "cell_type": "markdown",
      "metadata": {
        "id": "onj7-4f8aNtb"
      },
      "source": [
        "## Ejercicios"
      ]
    },
    {
      "cell_type": "markdown",
      "metadata": {
        "id": "IOkERKRbaPVR"
      },
      "source": [
        "TODO"
      ]
    },
    {
      "cell_type": "markdown",
      "metadata": {
        "id": "xPGkz-eDaPUF"
      },
      "source": [
        "## Preguntas Socraticas"
      ]
    },
    {
      "cell_type": "markdown",
      "metadata": {
        "id": "BaLAYb1iaS7Q"
      },
      "source": [
        "- Como funciona?\n",
        "- Como se implementa?\n",
        "- Puedo implementar una simple version?\n",
        "- Cuales son los artefactos involucrados, procesos, librerias, archivos ..."
      ]
    },
    {
      "cell_type": "markdown",
      "metadata": {
        "id": "hoteSilMaS6A"
      },
      "source": [
        "## Recursos"
      ]
    },
    {
      "cell_type": "markdown",
      "metadata": {
        "id": "1aCdKKDLaVuy"
      },
      "source": [
        "* [Exploring HTTPS With Python](https://realpython.com/python-https/)\n",
        "\n",
        "* [TLS - CS161](https://textbook.cs161.org/network/tls.html)\n",
        "* [Analysis of the SSL 3.0 protocol](https://css.csail.mit.edu/6.858/2020/readings/ssl-analysis.pdf)\n",
        "*   [Using JSSE for secure socket communication](https://cs.wmich.edu/~alfuqaha/Spring07/cs6030/lectures/jsse.pdf)\n",
        "*   [Java Secure Socket Extension (JSSE) Reference Guide](https://docs.oracle.com/javase/8/docs/technotes/guides/security/jsse/JSSERefGuide.html)\n",
        "*   [Introduction to SSL in Java](https://www.baeldung.com/java-ssl)\n",
        "*   [python-tls](https://github.com/python-tls)\n",
        "*   [How do I install the OpenSSL libraries on Ubuntu?](https://stackoverflow.com/questions/3016956/how-do-i-install-the-openssl-libraries-on-ubuntu)\n",
        "*   [Bouncy Castle Java Distribution](https://github.com/bcgit/bc-java)\n",
        "*   [Comparison of TLS implementations](https://en.wikipedia.org/wiki/Comparison_of_TLS_implementations)\n",
        "*   [Transport Layer Security](https://en.wikipedia.org/wiki/Transport_Layer_Security)\n",
        "*   [Dissecting an SSL Certificate (2017) (jvns.ca)](https://www.google.com/url?q=https://news.ycombinator.com/item?id%3D23096166&sa=D&source=calendar&usd=2&usg=AOvVaw38_S6edpgMMeKzIswQ8tXf)\n",
        "*    [Everything you should know about certificates and PKI but are too afraid to ask](https://www.google.com/url?q=https://smallstep.com/blog/everything-pki.html&sa=D&source=calendar&usd=2&usg=AOvVaw10dj5Gi24t69e7sipCKOxb) ([smallstep.com](https://www.google.com/url?q=https://news.ycombinator.com/from?site%3Dsmallstep.com&sa=D&source=calendar&usd=2&usg=AOvVaw2OQIjwAuARc9uLb3c9oGL9))\n",
        "*   [SSL: CERTIFICATE\\_VERIFY\\_FAILED error from Python pip in Ubuntu 16.0.4](https://www.google.com/url?q=https://stackoverflow.com/questions/49540737/ssl-certificate-verify-failed-error-from-python-pip-in-ubuntu-16-0-4&sa=D&source=calendar&usd=2&usg=AOvVaw1hn87nZF5JcdUaPt8kdIXo)\n",
        "*   [Security and Cryptography 2020](https://missing.csail.mit.edu/2020/security/)\n",
        "*   [Security and Cryptography 2019](https://missing.csail.mit.edu/2019/security/)\n",
        "*   [Lecture 14: SSL and HTTPS](https://ocw.mit.edu/courses/electrical-engineering-and-computer-science/6-858-computer-systems-security-fall-2014/video-lectures/lecture-14-ssl-and-https/)\n",
        "*   [How's my SSL?](https://www.howsmyssl.com/)\n",
        "*   [SSL tools we wish we'd known about earlier](https://certsimple.com/blog/new-ssl-tools)\n",
        "*    [SSL Labs in 2016 and Beyond](https://blog.qualys.com/ssllabs/2016/05/16/ssl-labs-in-2016-and-beyond)\n",
        "*   [How does SSL work?](http://security.stackexchange.com/questions/20803/how-does-ssl-work/20833)\n",
        "*   [Tips to accelerate SSL](http://unhandledexpression.com/2013/01/25/5-easy-tips-to-accelerate-ssl/)\n",
        "*   [Boring SSL](https://www.imperialviolet.org/2014/06/20/boringssl.html)\n",
        "*   [SSL, Gone in 30 seconds](http://breachattack.com/)\n",
        "*   [SSL with Rails](http://collectiveidea.com/blog/archives/2010/11/29/ssl-with-rails/)\n",
        "*   [SSL in Plain English](http://alexle.net/archives/309)\n",
        "*   [SSL Performance Overhead in MySQL](http://www.mysqlperformanceblog.com/2013/10/10/mysql-ssl-performance-overhead/)\n",
        "*   [BadSSL: site for testing broken SSL](https://badssl.com/)\n",
        "*   [SSL and TLS Penetration Testing \\[Definitive Guide\\]](https://www.aptive.co.uk/blog/tls-ssl-security-testing/)\n",
        "*   [Testssl.sh: Testing TLS/SSL encryption](https://testssl.sh/)\n",
        "*   [TSL HandShake](https://www.youtube.com/watch?v=cuR05y_2Gxc)"
      ]
    },
    {
      "cell_type": "markdown",
      "source": [
        "SSL: Secure Socket Layer\n",
        "TSL: Transport Socket Layer, the continuation of SSL\n",
        "\n",
        "Objetivos:\n",
        "- Autenticación con certificados\n",
        "- Encriptación\n",
        "  - El cliente utiliza la clave publica del certificado para cifrar los mensajes y el servidor utiliza su clave privada para para descifrar los mensajes.\n",
        "\n",
        "HTTP + TSL = HTTPS\n",
        "\n",
        "Como verificar que los mensajes de los clientes no fueron alterados?\n",
        "\n",
        "Sniffer: Captura trafico de red.\n",
        "- Wireshark\n",
        "\n",
        "Que es un certificado?\n",
        "- Objeto informatico, permite cifrar la information envaida y reciibad del serivico en el cual es desplegado, mediante el uso de llaves criptograficas.\n",
        "\n",
        "TLS Handshake\n",
        "\n",
        "Entidad Certificadora\n",
        "\n",
        "- /etc/ssl/certs : trusted store of my computer\n",
        "\n",
        "Two way certification\n",
        "\n",
        "- En el caso del sigef los clientes deben de enviar sus certificados, en hacienda hay una entidad certificadora.\n",
        "  - Esa entidad certificadora solo en valida para generar certificadores para clientes y validarlos.\n",
        "\n",
        "- Los certificadores que genera hacienda deben de cer instalados en el navegador.\n",
        "\n",
        "Procolos no Seguros:\n",
        "- telnet,\n",
        "- ftp,\n",
        "- http"
      ],
      "metadata": {
        "id": "BoRDR3zT2xEZ"
      }
    }
  ]
}