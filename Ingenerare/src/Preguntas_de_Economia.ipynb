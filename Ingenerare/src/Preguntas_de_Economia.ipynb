{
  "nbformat": 4,
  "nbformat_minor": 0,
  "metadata": {
    "colab": {
      "name": "Preguntas de Economia.ipynb",
      "provenance": [],
      "authorship_tag": "ABX9TyOJve6l7jyD8QPvPdFZAJY9",
      "include_colab_link": true
    },
    "kernelspec": {
      "name": "python3",
      "display_name": "Python 3"
    },
    "language_info": {
      "name": "python"
    }
  },
  "cells": [
    {
      "cell_type": "markdown",
      "metadata": {
        "id": "view-in-github",
        "colab_type": "text"
      },
      "source": [
        "<a href=\"https://colab.research.google.com/github/dbremont/Notas/blob/main/Ingenerare/Preguntas_de_Economia.ipynb\" target=\"_parent\"><img src=\"https://colab.research.google.com/assets/colab-badge.svg\" alt=\"Open In Colab\"/></a>"
      ]
    },
    {
      "cell_type": "markdown",
      "metadata": {
        "id": "eRmPB8w7STx-"
      },
      "source": [
        "Ingenerare"
      ]
    },
    {
      "cell_type": "markdown",
      "metadata": {
        "id": "kIChhaiLSlMC"
      },
      "source": [
        "## Preguntas"
      ]
    },
    {
      "cell_type": "markdown",
      "metadata": {
        "id": "lTkrL5aXSi-V"
      },
      "source": [
        "- Que es el desarollo de un pais?\n",
        "- Como un pais se desarollo?\n",
        "- Como se mide el desarollo?\n",
        "\n",
        "\n",
        "- How to make a contrie reacher?\n",
        "- Increasing returns\n",
        "- Knowledge difussion\n",
        "- Industries\n",
        "- Moving a region to the tech fronteir\n",
        "- Applied Research\n",
        "- Bascic Research\n",
        "- Economic Complexity\n",
        "\n",
        "- What is a develop economy?\n",
        "- How to move to the technological fronteir?\n",
        "  - Innovation, learning, product space, research, space, patent space."
      ]
    }
  ]
}