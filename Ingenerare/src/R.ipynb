{
  "nbformat": 4,
  "nbformat_minor": 0,
  "metadata": {
    "colab": {
      "name": "R.ipynb",
      "provenance": [],
      "include_colab_link": true
    },
    "kernelspec": {
      "name": "python3",
      "display_name": "Python 3"
    },
    "language_info": {
      "name": "python"
    }
  },
  "cells": [
    {
      "cell_type": "markdown",
      "metadata": {
        "id": "view-in-github",
        "colab_type": "text"
      },
      "source": [
        "<a href=\"https://colab.research.google.com/github/dbremont/Notas/blob/main/Ingenerare/src/R.ipynb\" target=\"_parent\"><img src=\"https://colab.research.google.com/assets/colab-badge.svg\" alt=\"Open In Colab\"/></a>"
      ]
    },
    {
      "cell_type": "markdown",
      "metadata": {
        "id": "VNZh50s7ePje"
      },
      "source": [
        "[R: The R Project for Statistical Computing](https://www.r-project.org/)\n",
        "\n",
        "[R for Data Science](https://r4ds.had.co.nz/index.html)\n",
        "\n",
        "[ggplot2 Elegant Graphics for Data Analysis](https://ggplot2-book.org/)\n",
        "\n",
        "[Tidyverse ](https://www.tidyverse.org/)\n",
        "\n",
        "[The R Graph Gallery](https://www.r-graph-gallery.com/)\n",
        "\n",
        "[Data Visualization with ggplot2 : : CHEAT SHEET](https://www.maths.usyd.edu.au/u/UG/SM/STAT3022/r/current/Misc/data-visualization-2.1.pdf)"
      ]
    }
  ]
}