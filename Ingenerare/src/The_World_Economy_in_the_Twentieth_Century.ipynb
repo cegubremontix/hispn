{
  "nbformat": 4,
  "nbformat_minor": 0,
  "metadata": {
    "colab": {
      "name": "The World Economy in the Twentieth Century.ipynb",
      "provenance": [],
      "authorship_tag": "ABX9TyP+oCVhiwR1c0Is2/OPFwTM",
      "include_colab_link": true
    },
    "kernelspec": {
      "name": "python3",
      "display_name": "Python 3"
    },
    "language_info": {
      "name": "python"
    }
  },
  "cells": [
    {
      "cell_type": "markdown",
      "metadata": {
        "id": "view-in-github",
        "colab_type": "text"
      },
      "source": [
        "<a href=\"https://colab.research.google.com/github/dbremont/Notas/blob/main/Ingenerare/The_World_Economy_in_the_Twentieth_Century.ipynb\" target=\"_parent\"><img src=\"https://colab.research.google.com/assets/colab-badge.svg\" alt=\"Open In Colab\"/></a>"
      ]
    },
    {
      "cell_type": "markdown",
      "metadata": {
        "id": "W4l38nCkaakO"
      },
      "source": [
        "- [Economic Growth in Historical and Comparative Perspective](https://delong.typepad.com/teaching_economics/econ-135.html)"
      ]
    },
    {
      "cell_type": "markdown",
      "metadata": {
        "id": "dL7P2zjlcv1w"
      },
      "source": [
        "- [Books](https://classes.berkeley.edu/content/2020-spring-econ-115-001-lec-001)"
      ]
    },
    {
      "cell_type": "markdown",
      "metadata": {
        "id": "mFA3Sx9NqnxV"
      },
      "source": [
        "- [Bradford Delong - Economic Growth](https://www.bradford-delong.com/economics_growth/)"
      ]
    }
  ]
}