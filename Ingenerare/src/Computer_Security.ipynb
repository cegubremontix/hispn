{
  "nbformat": 4,
  "nbformat_minor": 0,
  "metadata": {
    "colab": {
      "name": "Computer Security.ipynb",
      "provenance": [],
      "authorship_tag": "ABX9TyPFVjelqEgoR+2VVwJTnP4U",
      "include_colab_link": true
    },
    "kernelspec": {
      "name": "python3",
      "display_name": "Python 3"
    },
    "language_info": {
      "name": "python"
    }
  },
  "cells": [
    {
      "cell_type": "markdown",
      "metadata": {
        "id": "view-in-github",
        "colab_type": "text"
      },
      "source": [
        "<a href=\"https://colab.research.google.com/github/dbremont/Notas/blob/main/Ingenerare/src/Computer_Security.ipynb\" target=\"_parent\"><img src=\"https://colab.research.google.com/assets/colab-badge.svg\" alt=\"Open In Colab\"/></a>"
      ]
    },
    {
      "cell_type": "markdown",
      "metadata": {
        "id": "Elz31sjbpwAe"
      },
      "source": [
        "[6.858: Computer Systems Security](https://css.csail.mit.edu/6.858/2020/)\n",
        "\n",
        "[Intro to Information Security](https://www.udacity.com/course/intro-to-information-security--ud459)\n",
        "\n",
        "[CS155: Computer and Network Security](https://cs155.stanford.edu/)\n",
        "\n",
        "[CS6038/CS5138 Malware Analysis](https://class.malware.re/)"
      ]
    },
    {
      "cell_type": "markdown",
      "metadata": {
        "id": "Xf-vFd8WQFuX"
      },
      "source": [
        "[OverTheWire: Wargames](https://overthewire.org/wargames/)"
      ]
    }
  ]
}