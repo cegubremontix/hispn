{
  "nbformat": 4,
  "nbformat_minor": 0,
  "metadata": {
    "colab": {
      "name": "Developer Productiy.ipynb",
      "provenance": [],
      "include_colab_link": true
    },
    "kernelspec": {
      "name": "python3",
      "display_name": "Python 3"
    },
    "language_info": {
      "name": "python"
    }
  },
  "cells": [
    {
      "cell_type": "markdown",
      "metadata": {
        "id": "view-in-github",
        "colab_type": "text"
      },
      "source": [
        "<a href=\"https://colab.research.google.com/github/dbremont/Notas/blob/main/Ingenerare/src/developer_productivity.ipynb\" target=\"_parent\"><img src=\"https://colab.research.google.com/assets/colab-badge.svg\" alt=\"Open In Colab\"/></a>"
      ]
    },
    {
      "cell_type": "markdown",
      "metadata": {
        "id": "mcrwckfhRn1y"
      },
      "source": [
        "[ctrlp.vim](https://github.com/ctrlpvim/ctrlp.vim)\n",
        "\n",
        "[vundle.vim](https://github.com/VundleVim/Vundle.vim)\n",
        "\n",
        "[coc.nvim](https://github.com/neoclide/coc.nvim)\n",
        "\n",
        "[gundo.vim](https://github.com/sjl/gundo.vim)\n",
        "\n",
        "[vim-easymotion](https://github.com/easymotion/vim-easymotion)\n",
        "\n",
        "abc"
      ]
    },
    {
      "cell_type": "markdown",
      "metadata": {
        "id": "3w4I3-SqTRHK"
      },
      "source": [
        "[Editors (Vim)](https://missing.csail.mit.edu/2020/editors/)\n",
        "\n",
        "[Seven habits of effective text editing](https://www.moolenaar.net/habits.html)\n",
        "\n",
        "[Refactoring in Vim](https://stackoverflow.com/questions/8781975/refactoring-in-vim)\n",
        "\n",
        "[Where does Visual Studio Code cache Java dependency information for autocomplete?](https://stackoverflow.com/questions/54441094/where-does-visual-studio-code-cache-java-dependency-information-for-autocomplete)\n",
        "\n",
        "[Vim Spell-Checking](https://thoughtbot.com/blog/vim-spell-checking)"
      ]
    }
  ]
}