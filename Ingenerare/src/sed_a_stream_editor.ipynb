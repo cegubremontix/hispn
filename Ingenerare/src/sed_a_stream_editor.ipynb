{
  "nbformat": 4,
  "nbformat_minor": 0,
  "metadata": {
    "colab": {
      "name": "sed, a stream editor.ipynb",
      "provenance": [],
      "include_colab_link": true
    },
    "kernelspec": {
      "name": "python3",
      "display_name": "Python 3"
    },
    "language_info": {
      "name": "python"
    }
  },
  "cells": [
    {
      "cell_type": "markdown",
      "metadata": {
        "id": "view-in-github",
        "colab_type": "text"
      },
      "source": [
        "<a href=\"https://colab.research.google.com/github/dbremont/Notas/blob/main/Ingenerare/sed_a_stream_editor.ipynb\" target=\"_parent\"><img src=\"https://colab.research.google.com/assets/colab-badge.svg\" alt=\"Open In Colab\"/></a>"
      ]
    },
    {
      "cell_type": "markdown",
      "metadata": {
        "id": "_wcR3TXQJuf4"
      },
      "source": [
        "[sed, a stream editor](https://www.gnu.org/software/sed/manual/sed.html)\n",
        "\n",
        "[sed - Replace all white spaces with commas in a text file - Unix & Linux Stack Exchange](https://unix.stackexchange.com/questions/11801/replace-all-white-spaces-with-commas-in-a-text-file)"
      ]
    },
    {
      "cell_type": "markdown",
      "metadata": {
        "id": "ujY3s63wCT6R"
      },
      "source": [
        "[sed - How to use a shell command to only show the first column and last column in a text file? - Unix & Linux Stack Exchange -  ](https://unix.stackexchange.com/questions/136884/how-to-use-a-shell-command-to-only-show-the-first-column-and-last-column-in-a-te)\n",
        "\n",
        "[regex - How to replace space with comma using sed? - Stack Overflow -  ](https://stackoverflow.com/questions/13538772/how-to-replace-space-with-comma-using-sed)"
      ]
    }
  ]
}