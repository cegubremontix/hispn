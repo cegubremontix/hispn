{
  "nbformat": 4,
  "nbformat_minor": 0,
  "metadata": {
    "colab": {
      "name": "Productivity System.ipynb",
      "provenance": [],
      "collapsed_sections": [],
      "include_colab_link": true
    },
    "kernelspec": {
      "name": "python3",
      "display_name": "Python 3"
    },
    "language_info": {
      "name": "python"
    }
  },
  "cells": [
    {
      "cell_type": "markdown",
      "metadata": {
        "id": "view-in-github",
        "colab_type": "text"
      },
      "source": [
        "<a href=\"https://colab.research.google.com/github/dbremont/Notas/blob/main/Ingenerare/src/Productivity_System.ipynb\" target=\"_parent\"><img src=\"https://colab.research.google.com/assets/colab-badge.svg\" alt=\"Open In Colab\"/></a>"
      ]
    },
    {
      "cell_type": "markdown",
      "metadata": {
        "id": "cTpaNtiptFPR"
      },
      "source": [
        "## Productivity System"
      ]
    },
    {
      "cell_type": "markdown",
      "metadata": {
        "id": "FUS85tJ1OG8x"
      },
      "source": [
        "## Tools"
      ]
    },
    {
      "cell_type": "markdown",
      "source": [
        "* [Using Paper for Everyday Tasks](https://christine.website/blog/gtd-on-paper-2021-06-13)\n",
        "\n",
        "* [Memex](https://en.wikipedia.org/wiki/Memex)\n",
        "\n",
        "* [Indicative planning](https://en.wikipedia.org/wiki/Indicative_planning)\n",
        "\n",
        "* [Intelligence amplification](https://en.wikipedia.org/wiki/Intelligence_amplification)"
      ],
      "metadata": {
        "id": "vmnWMFEJiJRh"
      }
    },
    {
      "cell_type": "markdown",
      "source": [
        "Data about computer usage\n",
        "\n",
        "https://unix.stackexchange.com/questions/146287/monitoring-events-keyboard-mouse-in-x\n",
        "\n",
        "https://www.systutorials.com/docs/linux/man/1-xinput/\n",
        "\n",
        "https://www.reddit.com/r/archlinux/comments/8ped08/how_do_i_get_the_x11_root_window_name/\n",
        "\n",
        "https://unix.stackexchange.com/questions/129159/record-every-keystroke-and-store-in-a-file"
      ],
      "metadata": {
        "id": "cjs1zTkNQkon"
      }
    },
    {
      "cell_type": "markdown",
      "metadata": {
        "id": "jJ2eIdd3OIED"
      },
      "source": [
        "[Null Board](https://github.com/apankrat/nullboard)\n",
        "\n",
        "[Calendar](https://calendar.google.com/calendar/u/0/r)\n",
        "\n",
        "ActivityWatch  to monitor my time in the computer:\n",
        "\n",
        "https://unix.stackexchange.com/questions/56957/how-to-start-an-application-automatically-on-boot\n",
        "\n",
        "https://docs.activitywatch.net/en/latest/getting-started.html\n",
        "\n",
        "https://forum.activitywatch.net/c/features/8"
      ]
    },
    {
      "cell_type": "markdown",
      "metadata": {
        "id": "RyZ76Bqysjay"
      },
      "source": [
        "Tools:\n",
        "- Calendar\n",
        "- todo.txt\n",
        "\n",
        "When a new todo arrives:\n",
        "\n",
        "Decition points:\n",
        "\n",
        " -) Put on the calendar or not.\n",
        " -) Specific time, not (due date), no (without due date).\n",
        " \n",
        "\n",
        "Each day before bed:\n",
        "\n",
        "- Take the items in the calendar for the next day, append those add the end of the todo.txt file.\n",
        "- If some of those items we not done, put then back into the calendar.\n",
        "\n",
        "\n"
      ]
    },
    {
      "cell_type": "markdown",
      "metadata": {
        "id": "bEdgiWMQD9I-"
      },
      "source": [
        "**Puntualidad**\n",
        "\n",
        "Para productividad adelantar el reloj del celular, y atrasar el reloj del trabajo"
      ]
    },
    {
      "cell_type": "markdown",
      "metadata": {
        "id": "v-76NunlumMh"
      },
      "source": [
        "## Referencias"
      ]
    },
    {
      "cell_type": "markdown",
      "metadata": {
        "id": "ZkcsYizNuniP"
      },
      "source": [
        "* [My productivity app for the past 12 years has been a single .txt file](https://jeffhuang.com/productivity_text_file/)"
      ]
    }
  ]
}