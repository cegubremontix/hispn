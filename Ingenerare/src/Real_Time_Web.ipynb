{
  "nbformat": 4,
  "nbformat_minor": 0,
  "metadata": {
    "colab": {
      "name": "Ingenerare/src/Real Time Web.ipynb",
      "provenance": [],
      "authorship_tag": "ABX9TyPwb1vqCQXzAZPQ6IlprTVy",
      "include_colab_link": true
    },
    "kernelspec": {
      "name": "python3",
      "display_name": "Python 3"
    },
    "language_info": {
      "name": "python"
    }
  },
  "cells": [
    {
      "cell_type": "markdown",
      "metadata": {
        "id": "view-in-github",
        "colab_type": "text"
      },
      "source": [
        "<a href=\"https://colab.research.google.com/github/dbremont/Notas/blob/main/Ingenerare/src/Real_Time_Web.ipynb\" target=\"_parent\"><img src=\"https://colab.research.google.com/assets/colab-badge.svg\" alt=\"Open In Colab\"/></a>"
      ]
    },
    {
      "cell_type": "markdown",
      "source": [
        "- notificaciones\n",
        "\n",
        "- real time colaboration\n",
        "\n",
        "- chat systems,\n",
        "\n",
        "- etc\n",
        "\n",
        "[What are Long-Polling, Websockets, Server-Sent Events (SSE) and Comet?](https://stackoverflow.com/questions/11077857/what-are-long-polling-websockets-server-sent-events-sse-and-comet)\n",
        "\n",
        "[Comet (programming)](https://en.wikipedia.org/wiki/Comet_(programming))\n",
        "\n",
        "[Push technology](https://en.wikipedia.org/wiki/Push_technology)\n",
        "\n",
        "[WebSocket](https://en.wikipedia.org/wiki/WebSocket)\n",
        "\n",
        "[WebRTC](https://en.wikipedia.org/wiki/WebRTC)\n"
      ],
      "metadata": {
        "id": "rLDBuDUtEWRg"
      }
    }
  ]
}