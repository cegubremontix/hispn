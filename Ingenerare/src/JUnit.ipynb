{
  "nbformat": 4,
  "nbformat_minor": 0,
  "metadata": {
    "colab": {
      "name": "JUnit.ipynb",
      "provenance": [],
      "authorship_tag": "ABX9TyOfsI6hmHhBlrWCkine7U/T",
      "include_colab_link": true
    },
    "kernelspec": {
      "name": "python3",
      "display_name": "Python 3"
    },
    "language_info": {
      "name": "python"
    }
  },
  "cells": [
    {
      "cell_type": "markdown",
      "metadata": {
        "id": "view-in-github",
        "colab_type": "text"
      },
      "source": [
        "<a href=\"https://colab.research.google.com/github/dbremont/Notas/blob/main/JUnit.ipynb\" target=\"_parent\"><img src=\"https://colab.research.google.com/assets/colab-badge.svg\" alt=\"Open In Colab\"/></a>"
      ]
    },
    {
      "cell_type": "markdown",
      "metadata": {
        "id": "7f89V1hkplbB"
      },
      "source": [
        "## JUnit"
      ]
    },
    {
      "cell_type": "markdown",
      "metadata": {
        "id": "39JFPfgLporJ"
      },
      "source": [
        "- [JUnit 5 Parameterized Test Yaml Test Data Source (yamaledt)](https://github.com/verhas/yamaledt)\n",
        "\n",
        "- [JUnit](https://github.com/junit-team/junit5)\n",
        "\n",
        "- [Running JUnit Tests Programmatically, from a Java Application](https://www.baeldung.com/junit-tests-run-programmatically-from-java)\n",
        "\n",
        "- [JUnit Tutorial](https://www.tutorialspoint.com/junit/index.htm)\n",
        "\n",
        "- [Given-When-Then](https://en.wikipedia.org/wiki/Given-When-Then)\n",
        "\n",
        "- [GivenWhenThen](https://martinfowler.com/bliki/GivenWhenThen.html)\n",
        "\n",
        "- [Should we create Java source code and Junit test as different project in java like they do in .Net? [closed]](https://stackoverflow.com/questions/54799532/should-we-create-java-source-code-and-junit-test-as-different-project-in-java-li)\n",
        "\n",
        "- [7 Popular Unit Test Naming Conventions](https://dzone.com/articles/7-popular-unit-test-naming)\n",
        "\n"
      ]
    }
  ]
}