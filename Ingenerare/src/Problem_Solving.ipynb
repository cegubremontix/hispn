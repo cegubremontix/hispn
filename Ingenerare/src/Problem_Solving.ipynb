{
  "nbformat": 4,
  "nbformat_minor": 0,
  "metadata": {
    "colab": {
      "name": "Problem Solving.ipynb",
      "provenance": [],
      "authorship_tag": "ABX9TyO+ft7BMaIuei97mLR88XMS",
      "include_colab_link": true
    },
    "kernelspec": {
      "name": "python3",
      "display_name": "Python 3"
    },
    "language_info": {
      "name": "python"
    }
  },
  "cells": [
    {
      "cell_type": "markdown",
      "metadata": {
        "id": "view-in-github",
        "colab_type": "text"
      },
      "source": [
        "<a href=\"https://colab.research.google.com/github/dbremont/Notas/blob/main/Ingenerare/Problem_Solving.ipynb\" target=\"_parent\"><img src=\"https://colab.research.google.com/assets/colab-badge.svg\" alt=\"Open In Colab\"/></a>"
      ]
    },
    {
      "cell_type": "markdown",
      "metadata": {
        "id": "7-SLZmzV_5jN"
      },
      "source": [
        "* [Contest Math II](https://brilliant.org/courses/ace-the-amc/)\n",
        "\n",
        "* [Art and Craft of Mathematical Problem Solving](https://www.thegreatcourses.com/player/Video/1483)"
      ]
    }
  ]
}