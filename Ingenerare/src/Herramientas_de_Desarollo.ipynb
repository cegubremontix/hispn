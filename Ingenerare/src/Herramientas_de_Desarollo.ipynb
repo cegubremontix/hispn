{
  "nbformat": 4,
  "nbformat_minor": 0,
  "metadata": {
    "colab": {
      "name": "Herramientas de Desarollo.ipynb",
      "provenance": [],
      "toc_visible": true,
      "include_colab_link": true
    },
    "kernelspec": {
      "name": "python3",
      "display_name": "Python 3"
    },
    "language_info": {
      "name": "python"
    }
  },
  "cells": [
    {
      "cell_type": "markdown",
      "metadata": {
        "id": "view-in-github",
        "colab_type": "text"
      },
      "source": [
        "<a href=\"https://colab.research.google.com/github/dbremont/Notas/blob/main/Ingenerare/src/Herramientas_de_Desarollo.ipynb\" target=\"_parent\"><img src=\"https://colab.research.google.com/assets/colab-badge.svg\" alt=\"Open In Colab\"/></a>"
      ]
    },
    {
      "cell_type": "markdown",
      "metadata": {
        "id": "pWDbL13wEtqF"
      },
      "source": [
        "## Herramientas de Desarollo\n",
        "\n",
        "[Articulos Herramientas de Desarrollo](https://colab.research.google.com/github/dbremont/Notas/blob/main/Ingenerare/src/Articulos_Herramientas_de_Desarrollo.ipynb)\n",
        "\n",
        "[The Missing Semester of Your CS Education](https://missing.csail.mit.edu/)"
      ]
    },
    {
      "cell_type": "markdown",
      "metadata": {
        "id": "RMC0T41rtnEy"
      },
      "source": [
        "## Text Editors\n"
      ]
    },
    {
      "cell_type": "markdown",
      "metadata": {
        "id": "6czKUXctv4jl"
      },
      "source": [
        "[vim](https://colab.research.google.com/github/dbremont/Notas/blob/main/Ingenerare/vim.ipynb)\n",
        "\n",
        "[sed, a stream editor](https://colab.research.google.com/github/dbremont/Notas/blob/main/Ingenerare/sed_a_stream_editor.ipynb)"
      ]
    },
    {
      "cell_type": "markdown",
      "metadata": {
        "id": "xuh_Utkbv1hj"
      },
      "source": [
        "## Shells"
      ]
    },
    {
      "cell_type": "markdown",
      "metadata": {
        "id": "8J4sIDabvx_C"
      },
      "source": [
        "[An Introduction to the Z Shell](https://zsh.sourceforge.io/Intro/intro_toc.html)\n",
        "\n",
        "[kitty](https://colab.research.google.com/github/dbremont/Notas/blob/main/Ingenerare/Kitty.ipynb)\n",
        "\n",
        "[zsh](https://colab.research.google.com/github/dbremont/Notas/blob/main/Libros/Computacion/Advanced_Bash_Scripting_Guide_An_in_depth_exploration_of_the_art_of_shell_scripting.ipynb)\n",
        "\n",
        "[tmux](https://colab.research.google.com/github/dbremont/Notas/blob/main/Ingenerare/tmux.ipynb)\n",
        "\n",
        "[xargs](https://colab.research.google.com/github/dbremont/Notas/blob/main/Ingenerare/xargs.ipynb)\n",
        "\n",
        "[autojump](https://github.com/wting/autojump)\n",
        "\n",
        "[locate](https://man7.org/linux/man-pages/man1/locate.1.html)\n",
        "\n",
        "[ripgrep](https://github.com/BurntSushi/ripgrep)\n",
        "\n",
        "[exa](https://the.exa.website/)\n",
        "\n",
        "[curl](https://colab.research.google.com/github/dbremont/Notas/blob/main/Herramientas/curl.ipynb)\n",
        "\n",
        "[doitlive](https://doitlive.readthedocs.io/en/stable/)\n",
        "\n",
        "[screen](https://ss64.com/bash/screen.html)\n",
        "\n",
        "[explainshell](https://explainshell.com/)\n",
        "\n",
        "[funky](https://github.com/bbugyi200/funky)\n",
        "\n",
        "[mcfly](https://github.com/cantino/mcfly/)\n",
        "\n",
        "[playerctl](https://github.com/altdesktop/playerctl)\n",
        "\n",
        "[gnuspeech](https://www.gnu.org/software/gnuspeech/)\n",
        "\n",
        "[apt](https://en.wikipedia.org/wiki/APT_(software))\n",
        "\n",
        "[dpkg](https://en.wikipedia.org/wiki/Dpkg)"
      ]
    },
    {
      "cell_type": "markdown",
      "metadata": {
        "id": "CgEEnMCSvqO0"
      },
      "source": [
        "## Automatizacion"
      ]
    },
    {
      "cell_type": "markdown",
      "metadata": {
        "id": "5gMjF7O9vsMY"
      },
      "source": [
        "[autokey](https://colab.research.google.com/github/dbremont/Notas/blob/main/Ingenerare/Autokey.ipynb)"
      ]
    },
    {
      "cell_type": "markdown",
      "metadata": {
        "id": "Gt23uTjpnKs8"
      },
      "source": [
        "## Languages"
      ]
    },
    {
      "cell_type": "markdown",
      "metadata": {
        "id": "mSsgbUjovFWP"
      },
      "source": [
        "[C](https://colab.research.google.com/github/dbremont/Notas/blob/main//Ingenerare/src/C.ipynb)\n",
        "\n",
        "[GNU Assembler](https://colab.research.google.com/github/dbremont/Notas/blob/main/Ingenerare/src/GNU_Assembler.ipynb)\n",
        "\n",
        "[Java](https://colab.research.google.com/github/dbremont/Notas/blob/main/Ingenerare/src/Java.ipynb)\n",
        "\n",
        "[Python](https://colab.research.google.com/github/dbremont/Notas/blob/main/Ingenerare/src/Python.ipynb)\n",
        "\n",
        "[Go](https://colab.research.google.com/github/dbremont/Notas/blob/main/Ingenerare/src/GO.ipynb)\n",
        "\n",
        "[Scheme](https://colab.research.google.com/github/dbremont/Notas/blob/main/Ingenerare/src/Scheme.ipynb)"
      ]
    },
    {
      "cell_type": "markdown",
      "metadata": {
        "id": "K-UOyfvx-Nv4"
      },
      "source": [
        "## Program Analysis"
      ]
    },
    {
      "cell_type": "markdown",
      "metadata": {
        "id": "PrTeH5xU-OhK"
      },
      "source": [
        "[ctags](https://en.wikipedia.org/wiki/Ctags)\n",
        "\n",
        "[cflow](https://en.wikipedia.org/wiki/GNU_cflow#cflow_(UNIX_utility))\n",
        "\n",
        "[strace](https://en.wikipedia.org/wiki/Strace)\n",
        "\n",
        "[gdb](https://en.wikipedia.org/wiki/GNU_Debugger)\n",
        "\n",
        "[flamegraphs](https://www.brendangregg.com/flamegraphs.html)\n",
        "\n",
        "[perf](https://www.brendangregg.com/perf.html)\n",
        "\n",
        "[time](https://man7.org/linux/man-pages/man1/time.1.html)\n",
        "\n",
        "[valgrind](https://valgrind.org/)\n",
        "\n",
        "[cloc](https://github.com/AlDanial/cloc)\n",
        "\n",
        "[locust](https://locust.io/)\n",
        "\n",
        "[selenium](https://www.selenium.dev/)\n",
        "\n",
        "[Memzoom](https://justine.lol/memzoom/index.html)\n",
        "\n",
        "[Visualizing Codebases](https://octo-repo-visualization.vercel.app)\n",
        "\n",
        "Benchmark\n",
        "\n",
        "Telemetry\n",
        "\n",
        "Security"
      ]
    },
    {
      "cell_type": "markdown",
      "metadata": {
        "id": "R-2Lu3evtEZM"
      },
      "source": [
        "\n",
        "\n",
        "## Otros"
      ]
    },
    {
      "cell_type": "markdown",
      "metadata": {
        "id": "9-tkqah-tE7H"
      },
      "source": [
        "[Docker](https://colab.research.google.com/github/dbremont/Notas/blob/main/Ingenerare/src/Docker.ipynb)\n",
        "\n",
        "[Qemu](https://www.qemu.org/documentation/)\n",
        "\n",
        "[GIT](https://colab.research.google.com/github/dbremont/Notas/blob/main/Libros/Computacion/Pro_GIT.ipynb)\n",
        "\n",
        "[Jupyter](https://colab.research.google.com/github/dbremont/Notas/blob/main/Ingenerare/src/Jupyter.ipynb)\n",
        "\n",
        "[Maven](https://colab.research.google.com/github/dbremont/Notas/blob/main/Ingenerare/src/OCaml.ipynb)\n",
        "\n",
        "[GNU Make](https://colab.research.google.com/github/dbremont/Notas/blob/main/Ingenerare/src/GNU_Make.ipynb)\n",
        "\n",
        "[Oracle DB](https://colab.research.google.com/github/dbremont/Notas/blob/main/Ingenerare/src/Oracle_DB.ipynb)\n",
        "\n",
        "[X11](https://colab.research.google.com/github/dbremont/Notas/blob/main/Ingenerare/src/X11.ipynb)"
      ]
    }
  ]
}