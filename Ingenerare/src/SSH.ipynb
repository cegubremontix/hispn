{
  "nbformat": 4,
  "nbformat_minor": 0,
  "metadata": {
    "colab": {
      "name": "SSH.ipynb",
      "provenance": [],
      "authorship_tag": "ABX9TyN5nSRYIxTg5/eae4xCZxty",
      "include_colab_link": true
    },
    "kernelspec": {
      "name": "python3",
      "display_name": "Python 3"
    },
    "language_info": {
      "name": "python"
    }
  },
  "cells": [
    {
      "cell_type": "markdown",
      "metadata": {
        "id": "view-in-github",
        "colab_type": "text"
      },
      "source": [
        "<a href=\"https://colab.research.google.com/github/dbremont/Notas/blob/main/Ingenerare/src/SSH.ipynb\" target=\"_parent\"><img src=\"https://colab.research.google.com/assets/colab-badge.svg\" alt=\"Open In Colab\"/></a>"
      ]
    },
    {
      "cell_type": "markdown",
      "source": [
        "- https://stackoverflow.com/questions/29181150/ssh-protocol-has-been-blocked-and-i-dont-have-access-to-remote-git-repository\n",
        "\n",
        "- https://dev.to/sndrx/how-to-set-up-an-ssh-key-and-use-it-in-gitlab--42p1\n",
        "\n",
        "- https://stackoverflow.com/questions/16608086/git-and-bitbucket-without-ssh"
      ],
      "metadata": {
        "id": "3w0ionpveMUL"
      }
    }
  ]
}