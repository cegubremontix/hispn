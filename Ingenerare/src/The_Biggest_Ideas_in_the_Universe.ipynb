{
  "nbformat": 4,
  "nbformat_minor": 0,
  "metadata": {
    "colab": {
      "name": "The Biggest Ideas in the Universe.ipynb",
      "provenance": [],
      "toc_visible": true,
      "authorship_tag": "ABX9TyPdMIsssyjx/5lhh+mhpVIR",
      "include_colab_link": true
    },
    "kernelspec": {
      "name": "python3",
      "display_name": "Python 3"
    },
    "language_info": {
      "name": "python"
    }
  },
  "cells": [
    {
      "cell_type": "markdown",
      "metadata": {
        "id": "view-in-github",
        "colab_type": "text"
      },
      "source": [
        "<a href=\"https://colab.research.google.com/github/dbremont/Notas/blob/main/Ingenerare/The_Biggest_Ideas_in_the_Universe.ipynb\" target=\"_parent\"><img src=\"https://colab.research.google.com/assets/colab-badge.svg\" alt=\"Open In Colab\"/></a>"
      ]
    },
    {
      "cell_type": "markdown",
      "metadata": {
        "id": "_8SRlpmmcTMY"
      },
      "source": [
        "- [Introduction](https://www.youtube.com/watch?v=HI09kat_GeI&list=PLrxfgDEc2NxZJcWcrxH3jyjUUrJlnoyzX&index=2&t=24s)"
      ]
    },
    {
      "cell_type": "markdown",
      "metadata": {
        "id": "olZdl1Czcfk5"
      },
      "source": [
        "## Conservation\n",
        "\n",
        "* [Conservation](https://www.youtube.com/watch?v=AeNSMJtKGc0&list=PLrxfgDEc2NxZJcWcrxH3jyjUUrJlnoyzX&index=2)\n",
        "* [Q&A](https://www.youtube.com/watch?v=liVg8LCU6i4&list=PLrxfgDEc2NxZJcWcrxH3jyjUUrJlnoyzX&index=3)"
      ]
    },
    {
      "cell_type": "markdown",
      "metadata": {
        "id": "Vb-pomzccsxh"
      },
      "source": [
        "## Change\n",
        "\n",
        "- [Change](https://www.youtube.com/watch?v=PZozMO3wWfo&list=PLrxfgDEc2NxZJcWcrxH3jyjUUrJlnoyzX&index=4)\n",
        "- [Q&A](https://www.youtube.com/watch?v=m2qrXl0g0OE&list=PLrxfgDEc2NxZJcWcrxH3jyjUUrJlnoyzX&index=5)"
      ]
    },
    {
      "cell_type": "markdown",
      "metadata": {
        "id": "EQPr0o5Oc1HA"
      },
      "source": [
        "## Force, Energy, and Action\n",
        "\n",
        "- [Force, Energy, and Action](https://www.youtube.com/watch?v=sZb64bZ07aE&list=PLrxfgDEc2NxZJcWcrxH3jyjUUrJlnoyzX&index=6)\n",
        "- [Q&A](https://www.youtube.com/watch?v=x6YWpe9xHMg&list=PLrxfgDEc2NxZJcWcrxH3jyjUUrJlnoyzX&index=7)"
      ]
    },
    {
      "cell_type": "markdown",
      "metadata": {
        "id": "rDP1o73kc-_E"
      },
      "source": [
        "## Space\n",
        "\n",
        "- [Space](https://www.youtube.com/watch?v=77LM_t19djI&list=PLrxfgDEc2NxZJcWcrxH3jyjUUrJlnoyzX&index=8)\n",
        "- [Q&A](https://www.youtube.com/watch?v=tBWNRo7rmuQ&list=PLrxfgDEc2NxZJcWcrxH3jyjUUrJlnoyzX&index=9)"
      ]
    },
    {
      "cell_type": "markdown",
      "metadata": {
        "id": "7igfpcPFdMXd"
      },
      "source": [
        "## Time\n",
        "\n",
        "- [Time](https://www.youtube.com/watch?v=KYfFCApo-Rg&list=PLrxfgDEc2NxZJcWcrxH3jyjUUrJlnoyzX&index=10)\n",
        "- [Q&A](https://www.youtube.com/watch?v=IEBXFEQyPuw&list=PLrxfgDEc2NxZJcWcrxH3jyjUUrJlnoyzX&index=11)"
      ]
    },
    {
      "cell_type": "markdown",
      "metadata": {
        "id": "mN59DkpfdZ0X"
      },
      "source": [
        "## Spacetime\n",
        "\n",
        "- [Spacetime](https://www.youtube.com/watch?v=Cg2tOUTE2F4&list=PLrxfgDEc2NxZJcWcrxH3jyjUUrJlnoyzX&index=12)\n",
        "- [Q&A](https://www.youtube.com/watch?v=7bCToECHXqY&list=PLrxfgDEc2NxZJcWcrxH3jyjUUrJlnoyzX&index=13)"
      ]
    },
    {
      "cell_type": "markdown",
      "metadata": {
        "id": "cAkTywLndjRb"
      },
      "source": [
        "## Quantum Mechanics\n",
        "\n",
        "- [Quantum Mechanics](https://www.youtube.com/watch?v=BJlkkOIFjx4&list=PLrxfgDEc2NxZJcWcrxH3jyjUUrJlnoyzX&index=14)\n",
        "- [Q&A](https://www.youtube.com/watch?v=4ov5hCkj3hQ&list=PLrxfgDEc2NxZJcWcrxH3jyjUUrJlnoyzX&index=15)"
      ]
    },
    {
      "cell_type": "markdown",
      "metadata": {
        "id": "T39_GcwCdw6R"
      },
      "source": [
        "## Entanglement\n",
        "\n",
        "- [Entanglement](https://www.youtube.com/watch?v=yZ1KSJbJAng&list=PLrxfgDEc2NxZJcWcrxH3jyjUUrJlnoyzX&index=16)\n",
        "- [Q&A](https://www.youtube.com/watch?v=IB50S4J4c8k&list=PLrxfgDEc2NxZJcWcrxH3jyjUUrJlnoyzX&index=17)"
      ]
    },
    {
      "cell_type": "markdown",
      "metadata": {
        "id": "VJVicBEEeMXF"
      },
      "source": [
        "## Fields\n",
        "\n",
        "- [Fields](https://www.youtube.com/watch?v=Dy1LNk_B6IE&list=PLrxfgDEc2NxZJcWcrxH3jyjUUrJlnoyzX&index=18)\n",
        "- [Q&A](https://www.youtube.com/watch?v=hxR9RBujJUY&list=PLrxfgDEc2NxZJcWcrxH3jyjUUrJlnoyzX&index=19)"
      ]
    },
    {
      "cell_type": "markdown",
      "metadata": {
        "id": "40RF2wH7ftAu"
      },
      "source": [
        "## Interactions\n",
        "\n",
        "- [Interactions](https://www.youtube.com/watch?v=PaRGj5Phpm0&list=PLrxfgDEc2NxZJcWcrxH3jyjUUrJlnoyzX&index=20)\n",
        "- [Q&A](https://www.youtube.com/watch?v=Xwpd_z-ipu4&list=PLrxfgDEc2NxZJcWcrxH3jyjUUrJlnoyzX&index=21)"
      ]
    },
    {
      "cell_type": "markdown",
      "metadata": {
        "id": "hkEXiKYAgAHe"
      },
      "source": [
        "## Renormalization\n",
        "\n",
        "- [Renormalization](https://www.youtube.com/watch?v=Nm8DRUgmjZc&list=PLrxfgDEc2NxZJcWcrxH3jyjUUrJlnoyzX&index=22)\n",
        "- [Q&A](https://www.youtube.com/watch?v=1M0PJAUW9Vg&list=PLrxfgDEc2NxZJcWcrxH3jyjUUrJlnoyzX&index=23)"
      ]
    },
    {
      "cell_type": "markdown",
      "metadata": {
        "id": "dx8ei0mugHrS"
      },
      "source": [
        "## Scale\n",
        "\n",
        "- [Scale](https://www.youtube.com/watch?v=cm22AogSULg&list=PLrxfgDEc2NxZJcWcrxH3jyjUUrJlnoyzX&index=24)\n",
        "- [Q&A](https://www.youtube.com/watch?v=OGgQ4-Ak9ew&list=PLrxfgDEc2NxZJcWcrxH3jyjUUrJlnoyzX&index=25)"
      ]
    },
    {
      "cell_type": "markdown",
      "metadata": {
        "id": "olq1mDnZgYGv"
      },
      "source": [
        "## Geometry and Topology\n",
        "\n",
        "- [Geometry and Topology](https://www.youtube.com/watch?v=kp1k90zNVLc&list=PLrxfgDEc2NxZJcWcrxH3jyjUUrJlnoyzX&index=26)\n",
        "- [Q&A](https://www.youtube.com/watch?v=TXgezspaGi8&list=PLrxfgDEc2NxZJcWcrxH3jyjUUrJlnoyzX&index=27)"
      ]
    },
    {
      "cell_type": "markdown",
      "metadata": {
        "id": "gC3ustjCgljV"
      },
      "source": [
        "## Symmetry\n",
        "\n",
        "- [Symmetry](https://www.youtube.com/watch?v=yCxacFBLHIY&list=PLrxfgDEc2NxZJcWcrxH3jyjUUrJlnoyzX&index=28)\n",
        "- [Q&A](https://www.youtube.com/watch?v=7m-USntpQh4&list=PLrxfgDEc2NxZJcWcrxH3jyjUUrJlnoyzX&index=29)"
      ]
    },
    {
      "cell_type": "markdown",
      "metadata": {
        "id": "ohqVLRZqguVB"
      },
      "source": [
        "## Gauge Theory\n",
        "\n",
        "- [Gauge Theory](https://www.youtube.com/watch?v=AuqKsBQnE2A&list=PLrxfgDEc2NxZJcWcrxH3jyjUUrJlnoyzX&index=30)\n",
        "- [Q&A](https://www.youtube.com/watch?v=KIs5mYNZ15o&list=PLrxfgDEc2NxZJcWcrxH3jyjUUrJlnoyzX&index=31)\n"
      ]
    },
    {
      "cell_type": "markdown",
      "metadata": {
        "id": "8tAldKLUg-3C"
      },
      "source": [
        "## Gravity\n",
        "\n",
        "- [Gravity](https://www.youtube.com/watch?v=353lEB63iyg&list=PLrxfgDEc2NxZJcWcrxH3jyjUUrJlnoyzX&index=32)\n",
        "- [Q&A](https://www.youtube.com/watch?v=2mxAyD28icU&list=PLrxfgDEc2NxZJcWcrxH3jyjUUrJlnoyzX&index=33)"
      ]
    },
    {
      "cell_type": "markdown",
      "metadata": {
        "id": "y9q-FVCkhIHL"
      },
      "source": [
        "## Matter\n",
        "\n",
        "- [Matter](https://www.youtube.com/watch?v=dQWn9NzvX4s&list=PLrxfgDEc2NxZJcWcrxH3jyjUUrJlnoyzX&index=34)\n",
        "- [Q&A](https://www.youtube.com/watch?v=AzYJTiQSGjw&list=PLrxfgDEc2NxZJcWcrxH3jyjUUrJlnoyzX&index=35)"
      ]
    },
    {
      "cell_type": "markdown",
      "metadata": {
        "id": "6B6nqDuOhV18"
      },
      "source": [
        "## Atoms\n",
        "\n",
        "- [Atoms](https://www.youtube.com/watch?v=yj_ckNi_DCA&list=PLrxfgDEc2NxZJcWcrxH3jyjUUrJlnoyzX&index=36)\n",
        "- [Q&A](https://www.youtube.com/watch?v=x4-65D3Selo&list=PLrxfgDEc2NxZJcWcrxH3jyjUUrJlnoyzX&index=37)"
      ]
    },
    {
      "cell_type": "markdown",
      "metadata": {
        "id": "9F8xSsFChiAj"
      },
      "source": [
        "## Probability and Randomness\n",
        "\n",
        "- [Probability and Randomness](https://www.youtube.com/watch?v=mDUgPJrXqRc&list=PLrxfgDEc2NxZJcWcrxH3jyjUUrJlnoyzX&index=38)\n",
        "- [Q&A](https://www.youtube.com/watch?v=B-uungDRP6E&list=PLrxfgDEc2NxZJcWcrxH3jyjUUrJlnoyzX&index=39)"
      ]
    },
    {
      "cell_type": "markdown",
      "metadata": {
        "id": "6vdVPeiWhrh-"
      },
      "source": [
        "## Entropy and Information\n",
        "\n",
        "- [Entropy and Information](https://www.youtube.com/watch?v=rBPPOI5UIe0&list=PLrxfgDEc2NxZJcWcrxH3jyjUUrJlnoyzX&index=40)\n",
        "- [Q&A](https://www.youtube.com/watch?v=5F-2mJfCYFI&list=PLrxfgDEc2NxZJcWcrxH3jyjUUrJlnoyzX&index=41)\n"
      ]
    },
    {
      "cell_type": "markdown",
      "metadata": {
        "id": "anFhkpFth1vF"
      },
      "source": [
        "## Emergence\n",
        "\n",
        "- [Emergence](https://www.youtube.com/watch?v=0_PdLja-eGQ&list=PLrxfgDEc2NxZJcWcrxH3jyjUUrJlnoyzX&index=42)\n",
        "- [Q&A](https://www.youtube.com/watch?v=P2KPj7xS_Fo&list=PLrxfgDEc2NxZJcWcrxH3jyjUUrJlnoyzX&index=43)"
      ]
    },
    {
      "cell_type": "markdown",
      "metadata": {
        "id": "kXs-OQeViMhu"
      },
      "source": [
        "## Cosmology\n",
        "\n",
        "- [Cosmology](https://www.youtube.com/watch?v=tZQadPmTd84&list=PLrxfgDEc2NxZJcWcrxH3jyjUUrJlnoyzX&index=44)\n",
        "- [Q&A](https://www.youtube.com/watch?v=Qf_4vWO6UTk&list=PLrxfgDEc2NxZJcWcrxH3jyjUUrJlnoyzX&index=45)"
      ]
    },
    {
      "cell_type": "markdown",
      "metadata": {
        "id": "L-dmIQIqiWWH"
      },
      "source": [
        "## Criticality and Complexity\n",
        "\n",
        "- [Criticality and Complexity](https://www.youtube.com/watch?v=__aFwrR702U&list=PLrxfgDEc2NxZJcWcrxH3jyjUUrJlnoyzX&index=46)\n",
        "- [Q&A](https://www.youtube.com/watch?v=b0sSHn2jSqk&list=PLrxfgDEc2NxZJcWcrxH3jyjUUrJlnoyzX&index=47)"
      ]
    },
    {
      "cell_type": "markdown",
      "metadata": {
        "id": "CLCHNl3HigfB"
      },
      "source": [
        "## Science\n",
        "\n",
        "- [Science](https://www.youtube.com/watch?v=ZqphkIO7yt4&list=PLrxfgDEc2NxZJcWcrxH3jyjUUrJlnoyzX&index=48)"
      ]
    }
  ]
}