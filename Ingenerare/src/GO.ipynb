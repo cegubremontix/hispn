{
  "nbformat": 4,
  "nbformat_minor": 0,
  "metadata": {
    "colab": {
      "name": "GO.ipynb",
      "provenance": [],
      "include_colab_link": true
    },
    "kernelspec": {
      "name": "python3",
      "display_name": "Python 3"
    },
    "language_info": {
      "name": "python"
    }
  },
  "cells": [
    {
      "cell_type": "markdown",
      "metadata": {
        "id": "view-in-github",
        "colab_type": "text"
      },
      "source": [
        "<a href=\"https://colab.research.google.com/github/dbremont/Notas/blob/main/Ingenerare/src/GO.ipynb\" target=\"_parent\"><img src=\"https://colab.research.google.com/assets/colab-badge.svg\" alt=\"Open In Colab\"/></a>"
      ]
    },
    {
      "cell_type": "markdown",
      "metadata": {
        "id": "TTO54JkFYdHX"
      },
      "source": [
        "[Build a Simple To-Do List App in Golang | by Mohamad Fadhil | Better Programming -  ](https://betterprogramming.pub/build-a-simple-todolist-app-in-golang-82297ec25c7d)\n",
        "\n",
        "[What's so great about Go? - Stack Overflow Blog -  ](https://stackoverflow.blog/2020/11/02/go-golang-learn-fast-programming-languages/)\n",
        "\n",
        "[The Go Programming Language Specification - The Go Programming Language -  ](https://golang.org/ref/spec)"
      ]
    },
    {
      "cell_type": "markdown",
      "metadata": {
        "id": "y4C-fFQ4kZpQ"
      },
      "source": [
        "[dapr docs](https://docs.dapr.io/)\n",
        "\n",
        "[dapr github](https://github.com/dapr/dapr)\n",
        "\n",
        "[Dapr at 20,000 feet](https://docs.microsoft.com/en-us/dotnet/architecture/dapr-for-net-developers/dapr-at-20000-feet)"
      ]
    }
  ]
}