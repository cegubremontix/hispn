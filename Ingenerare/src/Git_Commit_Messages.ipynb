{
  "nbformat": 4,
  "nbformat_minor": 0,
  "metadata": {
    "colab": {
      "name": "Git Commit Messages.ipynb",
      "provenance": [],
      "include_colab_link": true
    },
    "kernelspec": {
      "name": "python3",
      "display_name": "Python 3"
    },
    "language_info": {
      "name": "python"
    }
  },
  "cells": [
    {
      "cell_type": "markdown",
      "metadata": {
        "id": "view-in-github",
        "colab_type": "text"
      },
      "source": [
        "<a href=\"https://colab.research.google.com/github/dbremont/Notas/blob/main/Ingenerare/Git_Commit_Messages.ipynb\" target=\"_parent\"><img src=\"https://colab.research.google.com/assets/colab-badge.svg\" alt=\"Open In Colab\"/></a>"
      ]
    },
    {
      "cell_type": "markdown",
      "metadata": {
        "id": "xWPAOrV79p2b"
      },
      "source": [
        "## Git Commit Messages"
      ]
    },
    {
      "cell_type": "markdown",
      "metadata": {
        "id": "YVyrfSW19Xn7"
      },
      "source": [
        "Proposed format of the commit message\n",
        "\n",
        "```bash\n",
        "<type>(<optional scope>): <description>\n",
        "\n",
        "<optional body>\n",
        "\n",
        "<optional footer>\n",
        "<fix>: jira-46564\n",
        "```\n",
        "\n",
        "All lines are wrapped at 70 characters !\n",
        "\n",
        "Allowed `<type>`\n",
        "\n",
        "- feat (feature)\n",
        "- fix (bug fix)\n",
        "- docs (documentation)\n",
        "- style (formatting, missing semi colons, …)\n",
        "- refactor\n",
        "- test (when adding missing tests)\n",
        "- chore (maintain)\n",
        "\n",
        "**Allowed `<scope>`**\n",
        "\n",
        "Scope could be anything specifying place of the commit change. For example `$location`, `$browser`, compiler, scope, ng:href, etc...\n",
        "\n",
        "**Breaking changes**\n",
        "\n",
        "All breaking changes have to be mentioned in message body, on separated line:\n",
        "\n",
        "- Breaks removed `$browser.setUrl()` method (use `$browser.url(newUrl)`)\n",
        "\n",
        "- Breaks ng:repeat option is no longer supported on selects (use `ng:options`)\n",
        "\n",
        "**Message body**\n",
        "- uses the imperative, present tense: “change” not “changed” nor “changes”\n",
        "- includes motivation for the change and contrasts with previous behavior\n",
        "\n",
        "\n",
        "\n",
        "Modelado a Partir de [Angular Conventional Commits](https://www.conventionalcommits.org/en/v1.0.0-beta.4/)"
      ]
    },
    {
      "cell_type": "markdown",
      "metadata": {
        "id": "lv2ETC6A-yqk"
      },
      "source": [
        "**GIT Commit Quality Message Metrics**\n",
        "\n",
        "- **Spell metric** : (cantidad de palabras con spelling errors) / (cantidad de palabras totales) **Simple Aproximación**\n",
        "\n",
        "- **Adherance to format metric** : ❓\n",
        "  - formato obligatorio\n",
        "  - tipo obligatorio\n",
        "  - description: imperative present tense [\"change\", \"add\", ... etc]\n",
        "    \n",
        "    - [python - NLTK. Detecting whether a sentence is Interogative or Not?](https://stackoverflow.com/questions/49100615/nltk-detecting-whether-a-sentence-is-interogative-or-not/50583762)\n",
        "    \n",
        "    - [Natural Language Processing With Python's NLTK Package](https://realpython.com/nltk-nlp-python/)"
      ]
    },
    {
      "cell_type": "markdown",
      "metadata": {
        "id": "jfVEfklNDYfx"
      },
      "source": [
        "**Hooks**:\n",
        "\n",
        "- Verificar cantidad de cambios, reportados y comparados cuando se convierten los archivos al mismo formato.\n",
        "\n",
        "- Hook para verificar formato del mensaje.\n",
        "  - Mensaje corto \n",
        "  - Mensaje largo\n",
        "  - git shortlog --author='dvictoriano' (Analiar mis mensajes)\n",
        "\n",
        "- Crear branch para nuevo jira.\n",
        "- Crear nuevo archivo con nomemclatura para nuevo script."
      ]
    },
    {
      "cell_type": "markdown",
      "metadata": {
        "id": "8TryX81IDaPY"
      },
      "source": [
        "[Get commit message in git hook](https://stackoverflow.com/questions/5393178/get-commit-message-in-git-hook)\n",
        "\n",
        "[Writing Meaningful Commit Messages](https://reflectoring.io/meaningful-commit-messages/)\n",
        "\n",
        "[How to write meaningful and better commit messages](https://dev.to/rubiin/how-to-write-meaningful-and-better-commit-messages-2d84)\n",
        "\n",
        "[Conventional Commits](https://www.conventionalcommits.org/en/v1.0.0/)\n",
        "\n",
        "[Semantic Commit Messages](https://sparkbox.com/foundry/semantic_commit_messages)\n",
        "\n",
        "[Karma - Git Commit Msg](http://karma-runner.github.io/6.3/dev/git-commit-msg.html)"
      ]
    },
    {
      "cell_type": "markdown",
      "metadata": {
        "id": "c6--x_ulDcc_"
      },
      "source": [
        "**commit-msg hook**\n",
        "\n",
        "```bash\n",
        "#!/bin/sh\n",
        "#\n",
        "# An example hook script to check the commit log message.\n",
        "# Called by \"git commit\" with one argument, the name of the file\n",
        "# that has the commit message.  The hook should exit with non-zero\n",
        "# status after issuing an appropriate message if it wants to stop the\n",
        "# commit.  The hook is allowed to edit the commit message file.\n",
        "#\n",
        "# To enable this hook, rename this file to \"commit-msg\".\n",
        "\n",
        "# Uncomment the below to add a Signed-off-by line to the message.\n",
        "# Doing this in a hook is a bad idea in general, but the prepare-commit-msg\n",
        "# hook is more suited to it.\n",
        "#\n",
        "# SOB=$(git var GIT_AUTHOR_IDENT | sed -n 's/^\\(.*>\\).*$/Signed-off-by: \\1/p')\n",
        "# grep -qs \"^$SOB\" \"$1\" || echo \"$SOB\" >> \"$1\"\n",
        "\n",
        "INPUT_FILE=$1\n",
        "\n",
        "validate-commit-message.sh $INPUT_FILE\n",
        "\n",
        "exit $?\n",
        "```\n",
        "\n",
        "**validate-commit-message.sh**\n",
        "```\n",
        "#!/bin/bash\n",
        "\n",
        "# Git COMMIT-MSG hook for validating commit message\n",
        "#See https://docs.google.com/document/d/1rk04jEuGfk9kYzfqCuOlPTSJw3hEDZJTBN5E5f1SALo/edit\n",
        "\n",
        "\n",
        "MESSAGE=`head -n 1 \"$1\"`\n",
        "FOOTER=`tail -n1 \"$1\"`\n",
        "\n",
        "echo \n",
        "echo \n",
        "echo 'salida'\n",
        "echo $MESSAGE\n",
        "cat $1\n",
        "echo $FOOTER\n",
        "echo\n",
        "echo\n",
        "\n",
        "MAX_LENGTH=70\n",
        "TYPES=\"chore demo docs feat fix refactor revert style test\"\n",
        "PATTERN=\"^([a-z]+)\\([a-z\\0-9\\-\\*]+\\)\\:\\ (.*)$\"\n",
        "FOOTER_PATTERN=\"^Fix: [a-z\\A-Z]+-[0-9]+$\"\n",
        "\n",
        "if [[ ${#MESSAGE} > $MAX_LENGTH ]]; then\n",
        "     echo \"ERROR: Commit message was ${#MESSAGE} characters long, but should be at most $MAX_LENGTH characters\"\n",
        "     exit 1\n",
        "fi\n",
        "\n",
        "if [[ \"$MESSAGE\" =~ ^WIP ]]; then\n",
        "    exit 0\n",
        "fi\n",
        "\n",
        "if ! [[ \"$MESSAGE\" =~ $PATTERN ]]; then\n",
        "    echo \"ERROR: Commit message did not match 'type(scope): subject'\"\n",
        "    exit 1\n",
        "fi\n",
        "\n",
        "TYPE=${BASH_REMATCH[1]}\n",
        "\n",
        "if ! [[ $TYPES =~ (^| )$TYPE($| ) ]]; then\n",
        "    echo \"ERROR: Commit message's type '$TYPE' must be one of '$TYPES'\"\n",
        "    exit 1\n",
        "fi\n",
        "\n",
        "if ! [[ \"$FOOTER\" =~ $FOOTER_PATTERN ]]; then\n",
        "    echo \"Error Footer did not match 'Fix: TEXT-NUMBER'\"\n",
        "    exit 1\n",
        "fi\n",
        "```"
      ]
    }
  ]
}