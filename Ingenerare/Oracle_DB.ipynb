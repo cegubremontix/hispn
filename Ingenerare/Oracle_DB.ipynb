{
  "nbformat": 4,
  "nbformat_minor": 0,
  "metadata": {
    "colab": {
      "name": "Oracle DB.ipynb",
      "provenance": [],
      "authorship_tag": "ABX9TyP4r/m2/H2H3oeIMvsAY266",
      "include_colab_link": true
    },
    "kernelspec": {
      "name": "python3",
      "display_name": "Python 3"
    },
    "language_info": {
      "name": "python"
    }
  },
  "cells": [
    {
      "cell_type": "markdown",
      "metadata": {
        "id": "view-in-github",
        "colab_type": "text"
      },
      "source": [
        "<a href=\"https://colab.research.google.com/github/dbremont/Notas/blob/main/Ingenerare/Oracle_DB.ipynb\" target=\"_parent\"><img src=\"https://colab.research.google.com/assets/colab-badge.svg\" alt=\"Open In Colab\"/></a>"
      ]
    },
    {
      "cell_type": "markdown",
      "metadata": {
        "id": "GcnwXjk4retq"
      },
      "source": [
        "- Oracle\n",
        "  - select * from NLS_SESSION_PARAMETERS where PARAMETER = 'NLS_DATE_FORMAT';\n",
        "\n",
        "  - [NLS_DATE_LANGUAGE](https://docs.oracle.com/cd/B28359_01/olap.111/b28126/dml_options067.htm#OLADM408)\n",
        "\n",
        "  - [TO_DATE](https://docs.oracle.com/cd/B19306_01/server.102/b14200/functions183.htm)\n",
        "\n",
        "  - [How to setup Docker container Oracle Database 19c for Liferay Development Environment](https://dev.to/amusarra/how-to-setup-docker-container-oracle-database-19c-for-liferay-development-environment-f0j)\n",
        "\n",
        "  - [How do I limit the number of rows returned by an Oracle query after ordering?](https://stackoverflow.com/questions/470542/how-do-i-limit-the-number-of-rows-returned-by-an-oracle-query-after-ordering)\n",
        "  \n",
        "  - Fechas y Tiempos:\n",
        "\n",
        "  En la capa de interraccion del sistema de base de datos, se utilizan varios formatos para repreesntar la data de las fechas y tiempos, lo cual puede generar problemas al interpretarlo por el dbms ya que este usa el formato estlecido para la session actual.\n"
      ]
    }
  ]
}