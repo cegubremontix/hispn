{
  "nbformat": 4,
  "nbformat_minor": 0,
  "metadata": {
    "colab": {
      "name": "A Recordar.ipynb",
      "provenance": [],
      "authorship_tag": "ABX9TyOyC6j21qCNP3GjTlWnURpU",
      "include_colab_link": true
    },
    "kernelspec": {
      "name": "python3",
      "display_name": "Python 3"
    },
    "language_info": {
      "name": "python"
    }
  },
  "cells": [
    {
      "cell_type": "markdown",
      "metadata": {
        "id": "view-in-github",
        "colab_type": "text"
      },
      "source": [
        "<a href=\"https://colab.research.google.com/github/dbremont/Notas/blob/main/Ingenerare/A%20Recordar.ipynb\" target=\"_parent\"><img src=\"https://colab.research.google.com/assets/colab-badge.svg\" alt=\"Open In Colab\"/></a>"
      ]
    },
    {
      "cell_type": "markdown",
      "metadata": {
        "id": "vdZnK0esivui"
      },
      "source": [
        "**A Recordar**"
      ]
    },
    {
      "cell_type": "markdown",
      "metadata": {
        "id": "amtnsUFMicK1"
      },
      "source": [
        "- You'll know you understand it when you can build it, when you can see its structure."
      ]
    },
    {
      "cell_type": "markdown",
      "metadata": {
        "id": "g6TMjbL4isnL"
      },
      "source": [
        "- \"Smart data structures and dumb code works a lot better than the other way around.\" -- Guy Steele"
      ]
    },
    {
      "cell_type": "markdown",
      "metadata": {
        "id": "NSyZu4T0i1jr"
      },
      "source": [
        "- \"The Representation Principle: Once a problem is described using an appropriate representation, the problem is almost solved.\" -- P. H. Winston"
      ]
    },
    {
      "cell_type": "markdown",
      "metadata": {
        "id": "K76jwq0QjPgL"
      },
      "source": [
        "- **Rumpelstiltskin principle**: When you give a name to something, you gain power over it."
      ]
    },
    {
      "cell_type": "markdown",
      "metadata": {
        "id": "YiX7awPzjTMZ"
      },
      "source": [
        "- **Reification**: Turn an abstract idea into something concrete (ex. a cell in a data model)."
      ]
    },
    {
      "cell_type": "markdown",
      "metadata": {
        "id": "Ba72mKc4jWVR"
      },
      "source": [
        "- **Goldilocks principle**: To classify things, look at their **intermediate’’ features, not too small and not too large."
      ]
    },
    {
      "cell_type": "markdown",
      "metadata": {
        "id": "volP4rM1jeCa"
      },
      "source": [
        "- \"Show me your [code] and conceal your [data structures], and I shall continue to be mystified. Show me your [data structures], and I won't usually need your [code]; it'll be obvious.\" -- Fred Brooks"
      ]
    },
    {
      "cell_type": "markdown",
      "metadata": {
        "id": "fed2kGYUjihj"
      },
      "source": [
        "- \"Rule 5: Data dominates. If you've chosen the right data structures and organized things well, the algorithms will almost always be self-evident. Data structures, not algorithms, are central to programming.\" -- Rob Pike"
      ]
    },
    {
      "cell_type": "markdown",
      "metadata": {
        "id": "llGSxYQwjlv7"
      },
      "source": [
        "- \"What are tensors? The facts of the universe.\" -- Lillian Lieber"
      ]
    },
    {
      "cell_type": "markdown",
      "metadata": {
        "id": "ZqilPeJijqNd"
      },
      "source": [
        "- \"Information is antifragile; it feeds more on attempts to harm it than it does on efforts to promote it.\" - Nassim Nicholas Taleb"
      ]
    },
    {
      "cell_type": "markdown",
      "metadata": {
        "id": "F4Nl_aoLjyvb"
      },
      "source": [
        "* Brains and computers process information in radically different ways, with the constitutive elements of brains – synapses and neurons – exhibiting decidedly inferior performance characteristics, in terms of transmission speed, clock rate, signal-to-noise ratio, etc. Yet somehow, brains still outperform the best computer algorithms in most domains of sensory, motor, and cognitive function."
      ]
    },
    {
      "cell_type": "markdown",
      "metadata": {
        "id": "5TrjYuI7lM79"
      },
      "source": [
        "- Explore the emergent computational mechanisms and principles by which neural ensembles collectively instantiate remarkable behavioral competencies, despite the inherent limitations of messy biological wetware. This biologically-grounded perspective provides important insights in the domains of both neurobiology and neuro-inspired artificial intelligence. On the neurobiological side, we look to identify signatures of these computational mechanisms in actual neurophysiological data; on the artificial intelligence side, we gain an understanding of which biological motifs have been algorithmically implemented and which have not."
      ]
    }
  ]
}