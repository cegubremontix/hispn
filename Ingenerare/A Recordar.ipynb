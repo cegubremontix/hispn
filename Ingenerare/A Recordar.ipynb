{
  "nbformat": 4,
  "nbformat_minor": 0,
  "metadata": {
    "colab": {
      "name": "A Recordar.ipynb",
      "provenance": [],
      "authorship_tag": "ABX9TyOCpwprnVH9itQCzJe82t5Y",
      "include_colab_link": true
    },
    "kernelspec": {
      "name": "python3",
      "display_name": "Python 3"
    },
    "language_info": {
      "name": "python"
    }
  },
  "cells": [
    {
      "cell_type": "markdown",
      "metadata": {
        "id": "view-in-github",
        "colab_type": "text"
      },
      "source": [
        "<a href=\"https://colab.research.google.com/github/dbremont/Notas/blob/main/Ingenerare/A%20Recordar.ipynb\" target=\"_parent\"><img src=\"https://colab.research.google.com/assets/colab-badge.svg\" alt=\"Open In Colab\"/></a>"
      ]
    },
    {
      "cell_type": "markdown",
      "metadata": {
        "id": "vdZnK0esivui"
      },
      "source": [
        "**A Recordar**"
      ]
    },
    {
      "cell_type": "markdown",
      "metadata": {
        "id": "amtnsUFMicK1"
      },
      "source": [
        "- You'll know you understand it when you can build it, when you can see its structure."
      ]
    },
    {
      "cell_type": "markdown",
      "metadata": {
        "id": "g6TMjbL4isnL"
      },
      "source": [
        "- \"Smart data structures and dumb code works a lot better than the other way around.\" -- Guy Steele"
      ]
    },
    {
      "cell_type": "markdown",
      "metadata": {
        "id": "NSyZu4T0i1jr"
      },
      "source": [
        "- \"The Representation Principle: Once a problem is described using an appropriate representation, the problem is almost solved.\" -- P. H. Winston"
      ]
    },
    {
      "cell_type": "markdown",
      "metadata": {
        "id": "K76jwq0QjPgL"
      },
      "source": [
        "- **Rumpelstiltskin principle**: When you give a name to something, you gain power over it."
      ]
    },
    {
      "cell_type": "markdown",
      "metadata": {
        "id": "YiX7awPzjTMZ"
      },
      "source": [
        "- **Reification**: Turn an abstract idea into something concrete (ex. a cell in a data model)."
      ]
    },
    {
      "cell_type": "markdown",
      "metadata": {
        "id": "Ba72mKc4jWVR"
      },
      "source": [
        "- **Goldilocks principle**: To classify things, look at their **intermediate’’ features, not too small and not too large."
      ]
    },
    {
      "cell_type": "markdown",
      "metadata": {
        "id": "volP4rM1jeCa"
      },
      "source": [
        "- \"Show me your [code] and conceal your [data structures], and I shall continue to be mystified. Show me your [data structures], and I won't usually need your [code]; it'll be obvious.\" -- Fred Brooks"
      ]
    },
    {
      "cell_type": "markdown",
      "metadata": {
        "id": "fed2kGYUjihj"
      },
      "source": [
        "- \"Rule 5: Data dominates. If you've chosen the right data structures and organized things well, the algorithms will almost always be self-evident. Data structures, not algorithms, are central to programming.\" -- Rob Pike"
      ]
    },
    {
      "cell_type": "markdown",
      "metadata": {
        "id": "llGSxYQwjlv7"
      },
      "source": [
        "- \"What are tensors? The facts of the universe.\" -- Lillian Lieber"
      ]
    },
    {
      "cell_type": "markdown",
      "metadata": {
        "id": "ZqilPeJijqNd"
      },
      "source": [
        "- \"Information is antifragile; it feeds more on attempts to harm it than it does on efforts to promote it.\" - Nassim Nicholas Taleb"
      ]
    },
    {
      "cell_type": "markdown",
      "metadata": {
        "id": "F4Nl_aoLjyvb"
      },
      "source": [
        "* Brains and computers process information in radically different ways, with the constitutive elements of brains – synapses and neurons – exhibiting decidedly inferior performance characteristics, in terms of transmission speed, clock rate, signal-to-noise ratio, etc. Yet somehow, brains still outperform the best computer algorithms in most domains of sensory, motor, and cognitive function."
      ]
    },
    {
      "cell_type": "markdown",
      "metadata": {
        "id": "5TrjYuI7lM79"
      },
      "source": [
        "- Explore the emergent computational mechanisms and principles by which neural ensembles collectively instantiate remarkable behavioral competencies, despite the inherent limitations of messy biological wetware. This biologically-grounded perspective provides important insights in the domains of both neurobiology and neuro-inspired artificial intelligence. On the neurobiological side, we look to identify signatures of these computational mechanisms in actual neurophysiological data; on the artificial intelligence side, we gain an understanding of which biological motifs have been algorithmically implemented and which have not."
      ]
    },
    {
      "cell_type": "markdown",
      "metadata": {
        "id": "F02nD1_KIiuQ"
      },
      "source": [
        "- The McCulloch-Pitts neuron, classification task vs. functional mapping."
      ]
    },
    {
      "cell_type": "markdown",
      "metadata": {
        "id": "yHJWmg7kImRG"
      },
      "source": [
        "- Levels of abstraction: binary threshold unit, firing rate approximation w. linear sum + sigmoidal nonlinearity, leaky integrate-and-fire, Hodgkin-Huxley."
      ]
    },
    {
      "cell_type": "markdown",
      "metadata": {
        "id": "Xm14GsvQIozy"
      },
      "source": [
        "- Simple Perceptron and learning convergence, LMS algorithm, Minsky-Papert critique."
      ]
    },
    {
      "cell_type": "markdown",
      "metadata": {
        "id": "FQHC2CkoIroY"
      },
      "source": [
        "- Different types of learning: unsupervised, supervised, reinforcement."
      ]
    },
    {
      "cell_type": "markdown",
      "metadata": {
        "id": "8RFTa9DLJlmw"
      },
      "source": [
        "- Basic back-propagation (Werbos, Rumelhart et al.), kernel-based methods (radial basis functions) function approximation capability, gradient descent, generalization, biological plausibility."
      ]
    },
    {
      "cell_type": "markdown",
      "metadata": {
        "id": "_W4CG-zuJotf"
      },
      "source": [
        "- Stability, types of equilibrium points, attractor networks, Lyapunov functions."
      ]
    },
    {
      "cell_type": "markdown",
      "metadata": {
        "id": "OB_gZlaWJrDk"
      },
      "source": [
        "- Neuro Dynamical models and content-addressable memory: discrete Hopfield model, pattern completion, storage capacity, energy function, continuous Hopfield model, Cohen-Grossberg Theorem."
      ]
    },
    {
      "cell_type": "markdown",
      "metadata": {
        "id": "oim9rQfsJs9r"
      },
      "source": [
        "- Associative learning vs. auto-associative memory."
      ]
    },
    {
      "cell_type": "markdown",
      "metadata": {
        "id": "NjikwnQyJwYV"
      },
      "source": [
        "- Other models of memory: expansion recording (Marr/Albus model of the cerebellum), Kanerva’s sparse distributed memory, Marr model of the hippocampus."
      ]
    },
    {
      "cell_type": "markdown",
      "metadata": {
        "id": "NnHb0HDIJyb1"
      },
      "source": [
        "- Experimental data on memory: evidence of the cerebellum as an expansion recorder, CA3 as an attractor network, system-level consolidation, synaptic trace theory, engram cells."
      ]
    },
    {
      "cell_type": "markdown",
      "metadata": {
        "id": "B-9n_pljJ0eX"
      },
      "source": [
        "- Unsupervised learning basics: Hebbian learning, PCA, Oja’s rule, Sanger’s rule."
      ]
    },
    {
      "cell_type": "markdown",
      "metadata": {
        "id": "Mc3PydIMJ54x"
      },
      "source": [
        "- Competitive learning: recurrent competitive fields as automatic “gain control” (Grossberg), winner-take-all networks."
      ]
    },
    {
      "cell_type": "markdown",
      "metadata": {
        "id": "fITBY3gaJ-po"
      },
      "source": [
        "- Reinforcement learning, differences with supervised learning, level of biological plausibility."
      ]
    },
    {
      "cell_type": "markdown",
      "metadata": {
        "id": "OxmazqndKB3R"
      },
      "source": [
        "- Experimental data: feature maps in the visual/auditory systems, representation of acoustic sensorimotor structure in birdsong from beginner to expert, evidence of “gain control in V1."
      ]
    },
    {
      "cell_type": "markdown",
      "metadata": {
        "id": "QtaQ0JckKFb7"
      },
      "source": [
        "- Back-propagation through time (Werbos), recurrent neural networks, echo state networks and reservoir computing, Trade-off between Interference and generalization in distributed circuits, how the problem is solved in machine learning, biological solutions, synaptic dynamics."
      ]
    },
    {
      "cell_type": "markdown",
      "metadata": {
        "id": "LHuzZ_R6K1IB"
      },
      "source": [
        "- Adaptive resonance theory (Carpenter and Grossberg)."
      ]
    },
    {
      "cell_type": "markdown",
      "metadata": {
        "id": "yHIRxdWJK-nS"
      },
      "source": [
        "- Serialización"
      ]
    },
    {
      "cell_type": "markdown",
      "metadata": {
        "id": "_5JEBlpqLATA"
      },
      "source": [
        "- Des-serialización"
      ]
    },
    {
      "cell_type": "markdown",
      "metadata": {
        "id": "vbHsFbagLCuN"
      },
      "source": [
        "- \"Capitalism is about adventurers who get harmed by their mistakes, not people who harm others with their mistakes.\" - **Nassim Nicholas Taleb**"
      ]
    },
    {
      "cell_type": "markdown",
      "metadata": {
        "id": "JuiJvSEXLLxv"
      },
      "source": [
        "There’s a progression of understanding I’ve seen over and over. \n",
        "\n",
        "1. Oblivious to exceptions,  \n",
        "2. Aware of exceptions, \n",
        "3. Over-emphasis on exceptions, \n",
        "4. Exceptions in proper perspective. A lot of Twitter snipers are stuck on step \n",
        "\n",
        "Example: \n",
        "1. Dogs have four legs. \n",
        "2. A dog might not have four legs. \n",
        "3. A dog might have any number of legs. Maybe there’s a dog with 13 legs. You never know. \n",
        "4. Dogs nearly always have four legs. \n",
        "- **John D. Cook**"
      ]
    },
    {
      "cell_type": "markdown",
      "metadata": {
        "id": "Sq5mf_b6Lslq"
      },
      "source": [
        "- \"However beautiful the strategy, you should occasionally look at the results.\" -- **Winston Churchill**"
      ]
    },
    {
      "cell_type": "markdown",
      "metadata": {
        "id": "HGroUnopLuRy"
      },
      "source": [
        "- If a headline says \"study shows ...\" see whether it was a simulation study or an empirical study. This might be difficult since the author might not appreciate the difference. -- **John D. Cook**"
      ]
    },
    {
      "cell_type": "markdown",
      "metadata": {
        "id": "70Cw_MPBLxOX"
      },
      "source": [
        "- \"Walking on water and developing software from a specification are easy if both are frozen.\" – **Edward V. Berard**"
      ]
    },
    {
      "cell_type": "markdown",
      "metadata": {
        "id": "GQAsbtx-L6SK"
      },
      "source": [
        "- \"You never cure structural defects; the system corrects itself by collapsing.\" - **@nntaleb**"
      ]
    },
    {
      "cell_type": "markdown",
      "metadata": {
        "id": "39XfqvCCMHsG"
      },
      "source": [
        "- Abandon normal instruments"
      ]
    },
    {
      "cell_type": "markdown",
      "metadata": {
        "id": "xfgQUuzKMJsv"
      },
      "source": [
        "- Accept advice"
      ]
    },
    {
      "cell_type": "markdown",
      "metadata": {
        "id": "Jj9w16gRMLab"
      },
      "source": [
        "- Accretion"
      ]
    },
    {
      "cell_type": "markdown",
      "metadata": {
        "id": "hGuXPBMdMP2x"
      },
      "source": [
        "- A line has two sides"
      ]
    },
    {
      "cell_type": "markdown",
      "metadata": {
        "id": "cJkssxX4MWKJ"
      },
      "source": [
        "- It is easy to overestimate what you can do in a year, and underestimate what you can do in ten. **Patrick Winston**."
      ]
    },
    {
      "cell_type": "markdown",
      "metadata": {
        "id": "zEMiaA0kMaf4"
      },
      "source": [
        "- You cannot get educated by this self propagating system in which people study to pass exams, and teach others to pass exams, but nobody knows anything. **Richard Fayman.**"
      ]
    },
    {
      "cell_type": "markdown",
      "metadata": {
        "id": "skzqmDLTMqqh"
      },
      "source": [
        "- When you try to make fewer mistakes by making fewer mistakes,  you slow down feedback, learn less, and make more mistakes. When you speed feedback you learn more and make fewer mistakes.   **Kent Beck**"
      ]
    },
    {
      "cell_type": "markdown",
      "metadata": {
        "id": "lvDJ95V3Mt_P"
      },
      "source": [
        "- Take feedback from nature and markets, not from people. **Naval**"
      ]
    },
    {
      "cell_type": "markdown",
      "metadata": {
        "id": "p3NsK5HLMxyC"
      },
      "source": [
        "- Make it correct, make it clear, make it concise, make it fast.   **Wes Dyer**"
      ]
    },
    {
      "cell_type": "markdown",
      "metadata": {
        "id": "EP2gpE4oM16c"
      },
      "source": [
        "- The purpose of abstraction is not to be vague, but to create a new semantic level in which one can be absolutely precise. **Edsger Dijkstra**"
      ]
    },
    {
      "cell_type": "markdown",
      "metadata": {
        "id": "De0WNnkaM5i_"
      },
      "source": [
        "- Confía, pero verifica. **Proverbio Ruso**"
      ]
    },
    {
      "cell_type": "markdown",
      "metadata": {
        "id": "zF2V4pQIM9G7"
      },
      "source": [
        "- The scientist seeks to understand what is; the engineer seeks to create what never was. **Von Karman**"
      ]
    },
    {
      "cell_type": "markdown",
      "metadata": {
        "id": "AAisijboNAO3"
      },
      "source": [
        "- Programming is like cooking; in Python, you use pre-made bolognese, in c++ you start from fresh tomatoes and minced meat; in Assembly you have a farm and grow your tomatoes, and raise your cow. **@gr_barroso**"
      ]
    },
    {
      "cell_type": "markdown",
      "metadata": {
        "id": "7vEuNipGNPNG"
      },
      "source": [
        "- The Most dangerous phrase in the English language is it has always been done this way.  **Grace Hopper**"
      ]
    },
    {
      "cell_type": "markdown",
      "metadata": {
        "id": "8eoTLOuhNSUW"
      },
      "source": [
        "- The tools we use have a profound (and devious!) influence on our thinking habits, and therefore, on our thinking abilities. **Edsger W. Dijkstra**"
      ]
    },
    {
      "cell_type": "markdown",
      "metadata": {
        "id": "79Nrg7HANZPv"
      },
      "source": [
        "- Confusion is a feeling that precedes learning something. It means you should pay close attention, not disengage. **Anonimo**"
      ]
    },
    {
      "cell_type": "markdown",
      "metadata": {
        "id": "kj1Ib-BwNbq7"
      },
      "source": [
        "- Debugging is like being the detective in a crime movie where you are also the  murderer. **Felipe Fortes**"
      ]
    },
    {
      "cell_type": "markdown",
      "metadata": {
        "id": "uBOpGjg9NjAG"
      },
      "source": [
        "- If the work doesn't require creativity, delegate it, automate it, or leave it. **Naval**"
      ]
    },
    {
      "cell_type": "markdown",
      "metadata": {
        "id": "XwpwDusUNr8T"
      },
      "source": [
        "- The entire history of software engineering is about raising the level of abstraction. **Grady Booch**"
      ]
    },
    {
      "cell_type": "markdown",
      "metadata": {
        "id": "slV42c0CNt7r"
      },
      "source": [
        "How to become expert at things (**Andrej Kaparty**): \n",
        "\n",
        "1. Iteratively take on concrete projects and accomplish them depth wise, learning  ”on demand” (ie don’t learn bottom up breath wise) \n",
        "\n",
        "2. Teach/summarise everything you learn in your own words. \n",
        "\n",
        "3. Only compare yourself to younger you, never with others. \n"
      ]
    },
    {
      "cell_type": "markdown",
      "metadata": {
        "id": "Zz--GH0fN6zO"
      },
      "source": [
        "Factors of success of a system over different times-scales (army example) (**Francois Chollet**)\n",
        "\n",
        "1. Short term: execution  (ej. To win the next battle: Fight well),  \n",
        "2. Medium term: strategy (to win the year’s battle: strategize well), \n",
        "3. Long term: meta (make a better system) (to win the next work: economic development and tech R&D). "
      ]
    },
    {
      "cell_type": "markdown",
      "metadata": {
        "id": "0ExLiEXQOIaI"
      },
      "source": [
        "- In Practice randomness is incomplete information. **Taleb**"
      ]
    },
    {
      "cell_type": "markdown",
      "metadata": {
        "id": "30zrTNmUOMhb"
      },
      "source": [
        "- “Be curious. Read widely. Try new things. I think a lot of what people call Intelligence boils down to curiosity”.  **Aaron Swartz**"
      ]
    },
    {
      "cell_type": "markdown",
      "metadata": {
        "id": "DHO4t5u9OO7q"
      },
      "source": [
        "- So many of the great ideas of PL are “What if we took X and made it a first-class value?” X -> first-class value,  a procedure -> higher order function  , a stack -> continuations, some code -> quotation."
      ]
    },
    {
      "cell_type": "markdown",
      "metadata": {
        "id": "5zjiQvkrOV7l"
      },
      "source": [
        "- A good predictor in someone who knows *what to predict*. **Taleb**"
      ]
    },
    {
      "cell_type": "markdown",
      "metadata": {
        "id": "vRc6yhDbOZ91"
      },
      "source": [
        "Life as computation: if you zoom out a bit, \n",
        "\n",
        "- DNA is a filesystem, \n",
        "- and evolution is a computer that operates on it. \n",
        "- Environmental fitness (The sum of all interactions of all life forms with their environment and each other) is its input data. - Francois Chollet"
      ]
    },
    {
      "cell_type": "markdown",
      "metadata": {
        "id": "XsFUBCXgOnh4"
      },
      "source": [
        "- Machine learning is about fitting to a  static distribution -- human learning is about gathering knowledge that may turn out to be useful in future that is guaranteed to share little commonality with the past. - **Francois Chollet**\n"
      ]
    },
    {
      "cell_type": "markdown",
      "metadata": {
        "id": "pKp0yf3JQHsN"
      },
      "source": [
        "- The problem with data-driven decisions: you don’t see what happens to the long term. What looks good for metrics right now might kill your product in a few years. It’s like AI: data gives you local generalization but for long term, you need principles. - **Francois Chollet**"
      ]
    },
    {
      "cell_type": "markdown",
      "metadata": {
        "id": "TxclpLGDQ3x1"
      },
      "source": [
        "- Any problem can be treated as a pattern recognition problem if your training data covers a sufficiently dense sampling of the problem space. What’s interesting is what happens when your training data is a spare sampling of the space, to extrapolate, you will need intelligence. - **Francois Chollet**\n"
      ]
    },
    {
      "cell_type": "markdown",
      "metadata": {
        "id": "18IkJ4ANQ9T9"
      },
      "source": [
        "- The purpose of models it to generalise not to optimize. - **Francois Chollet**"
      ]
    },
    {
      "cell_type": "markdown",
      "metadata": {
        "id": "9jvRnrArQ9Sg"
      },
      "source": [
        "- In the  ML model that generalice are those with significant constraints-regularization, limited memory capacity, architecture  encoding, abstract assumptions about the data. - Francois Chollet"
      ]
    },
    {
      "cell_type": "markdown",
      "metadata": {
        "id": "CMSzN1toRKuq"
      },
      "source": [
        "- Thinking scientifically requires intellectual honesty: a desire to get to the truth, not just to gather data to confirm your views. - Francois Chollet"
      ]
    },
    {
      "cell_type": "markdown",
      "metadata": {
        "id": "FZNANM5HRPj8"
      },
      "source": [
        "- Arguably, intelligence is not about learning the latent manifold of some data, it is about taking control of the process that generated it. - **Francois Chollet**"
      ]
    },
    {
      "cell_type": "markdown",
      "metadata": {
        "id": "jIY5vRZCRVo_"
      },
      "source": [
        "- Considering that alternative outcomes could have taken place, that the world could have been different is the core of probabilistic thinking. - **Taleb**"
      ]
    },
    {
      "cell_type": "markdown",
      "metadata": {
        "id": "JEGX_O54RXhV"
      },
      "source": [
        "- In god we trust. All others must bring data. - **Richard Demming**"
      ]
    },
    {
      "cell_type": "markdown",
      "metadata": {
        "id": "Vxu6SlLWRkrf"
      },
      "source": [
        "- General methods that leverage computation are ultimately the most effective, and by a large margin. - **Sutton a bitter lesson**"
      ]
    },
    {
      "cell_type": "markdown",
      "metadata": {
        "id": "A0Hpwl7dR2lP"
      },
      "source": [
        "- Technology is the result of antifragility, exploited by risk takers in the form of tinkering and  trial and error, with nerd driven design confined to the backstage. - **Taleb**"
      ]
    },
    {
      "cell_type": "markdown",
      "metadata": {
        "id": "xTyLHy4jR7YO"
      },
      "source": [
        "- Los conceptos tienen unas definiciones que no se pueden cambiar, y si se hace hay que especificarlo. Y estructuran (organización)  conocimiento. Concepto <symbols | pronunciation |  word | set of words, meaning>\n"
      ]
    },
    {
      "cell_type": "markdown",
      "metadata": {
        "id": "OYftSFpISRU5"
      },
      "source": [
        "- Merely knowing that a different, better way is possible, causes the breakthrough to manifest into existence. Our beliefs determine our outcomes. **Chollet**"
      ]
    },
    {
      "cell_type": "markdown",
      "metadata": {
        "id": "_e4O6J5QSWBb"
      },
      "source": [
        "- To discover something, you must first expect to find it. **Chollet**"
      ]
    },
    {
      "cell_type": "markdown",
      "metadata": {
        "id": "Ujzi-gmfTEcg"
      },
      "source": [
        "**Heilmeier's Catechism** - A set of questions credited to Heilmeier that anyone proposing a research project or product development effort should be able to answer.  \n",
        "\n",
        "1. What are you trying to do? Articulate your objectives using absolutely no jargon. \n",
        "\n",
        "2. How is it done today, and what are the limits of current practice? \n",
        "\n",
        "3. What's new in your approach and why do you think it will be successful? \n",
        "\n",
        "4. Who cares? If you're successful, what difference will it make? \n",
        "\n",
        "5. What are the risks and the payoffs? \n",
        "\n",
        "6. How much will it cost? \n",
        "\n",
        "7. How long will it take? \n",
        "\n",
        "8. What are the midterm and final \"exams\" to check for success? "
      ]
    },
    {
      "cell_type": "markdown",
      "metadata": {
        "id": "VN7aLzgzTbOu"
      },
      "source": [
        "- Among the more egregious sins of our educational system is insistence that the best way to learn is from textbooks, rather than experience, in cloisters, rather than in nature, and from instruction, rather than converse with the wise. **Dee W Hock**\n"
      ]
    },
    {
      "cell_type": "markdown",
      "metadata": {
        "id": "-zqbQeE_T4tI"
      },
      "source": [
        "- **The frequentist approach**:\n",
        "\n",
        "  -  Observe data\n",
        "  -  These data were generated randomly (by Nature, by\n",
        "measurements, by designing a survey, etc...)\n",
        "  -  We made assumptions on the generating process (e.g., i.i.d.,\n",
        "Gaussian data, smooth density, linear regression function,\n",
        "etc...)\n",
        "  -  The generating process was associated to some object of\n",
        "interest (e.g., a parameter, a density, etc...)\n",
        "  -  This object was unknown but fixed and we wanted to find it:\n",
        "we either estimated it or tested a hypothesis about this object,\n",
        "etc... \n"
      ]
    },
    {
      "cell_type": "markdown",
      "metadata": {
        "id": "8dXR3q_iT_uX"
      },
      "source": [
        "- **The bayesian approach**:\n",
        "\n",
        "  - Now, we still observe data, assumed to be randomly generated\n",
        "by some process. Under some assumptions (e.g., parametric\n",
        "distribution), this process is associated with some fixed object.\n",
        "  - We have a prior belief about it.\n",
        "  - Using the data, we want to update that belief and transform\n",
        "it into a posterior belief. "
      ]
    },
    {
      "cell_type": "markdown",
      "metadata": {
        "id": "2brsfLlhULoV"
      },
      "source": [
        "- “The real difference in politics isn't the \"right\" vs \"left\" gradation but rather \"Greek\" vs \"Roman\". Greek = puts theory above practice. Roman= puts practice above theory.  Be Roman. Now.\" - **@nntaleb**"
      ]
    },
    {
      "cell_type": "markdown",
      "metadata": {
        "id": "P5494ekBURBh"
      },
      "source": [
        "- A human being should be able to change a diaper, plan an invasion, butcher a hog, conn a ship, design a building, write a sonnet, balance accounts, build a wall, set a bone, comfort the dying, take orders, give orders, cooperate, act alone, solve equations, analyse a new problem, pitch manure, program a computer, cook a tasty meal, fight efficiently, die gallantly. Specialization is for insects. — **Robert Heinlein**, Time Enough for Love"
      ]
    },
    {
      "cell_type": "markdown",
      "metadata": {
        "id": "0fOO4-QhUrAn"
      },
      "source": [
        "- La historia es “madre de la verdad, émula del tiempo, depósito de las acciones, testigo de lo pasado, ejemplo y aviso de lo presente, advertencia de lo porvenir”. - **Cervantes**"
      ]
    },
    {
      "cell_type": "markdown",
      "metadata": {
        "id": "xGHvQqOvUyF5"
      },
      "source": [
        "- **A statistical model** is a probability distribution constructed to enable inferences to be drawn or decisions made from data."
      ]
    },
    {
      "cell_type": "markdown",
      "metadata": {
        "id": "4PZIA201U5Xz"
      },
      "source": [
        "- \"As countries get rich they start increasing education and the very educated people tend to not like trial and error, because they think they're obligated to use the body of knowledge they have.\" - **Nassim Nicholas Taleb**"
      ]
    },
    {
      "cell_type": "markdown",
      "metadata": {
        "id": "ddLfw6kIVA6e"
      },
      "source": [
        "- “For learning input less and output more”. - **Dr. Robert Bjork**"
      ]
    },
    {
      "cell_type": "markdown",
      "metadata": {
        "id": "xTYyd8mtVGD-"
      },
      "source": [
        "- When programmers say \"I like solving problems\" they really mean \"I like implementing solutions\". - **Einar W. Høst**"
      ]
    },
    {
      "cell_type": "markdown",
      "metadata": {
        "id": "0deh8AfAVL5K"
      },
      "source": [
        "- A single system shouldn't do too much, as that ties the viability & success of the whole to the viability & success of the additional features. Feature expansion means repeatedly taking on additional risk & complexity. Know when to say no. **fchollet**"
      ]
    },
    {
      "cell_type": "markdown",
      "metadata": {
        "id": "VRjsDoYLVQXD"
      },
      "source": [
        "- Compartmentalize risk and complexity: start a new side system. If it fails, at least it doesn't bring down the whole. **Fchollet**"
      ]
    },
    {
      "cell_type": "markdown",
      "metadata": {
        "id": "v89I_qIDVVrK"
      },
      "source": [
        "- \"Social science means inventing a certain brand of human we can understand.\" - **Nassim Nicholas Taleb in The Bed of Procrustes**"
      ]
    },
    {
      "cell_type": "markdown",
      "metadata": {
        "id": "cLeDQU5BVa5C"
      },
      "source": [
        "- \"Too many people think in labels.\" - **Nassim Nicholas Taleb**"
      ]
    },
    {
      "cell_type": "markdown",
      "metadata": {
        "id": "4Y8FmQYwWav5"
      },
      "source": [
        "- Bitcoinism, like Statism, Communism, Soviet Socialism,  Architectural  Modernism, Naive Scale-free Libertarianism, is a severe form of UTOPIANISM (what I called \"Platonicity'' in the Incerto). There is this destructive urge to reinvent utopianism under new unrecognized forms. - **Nassim Nicholas Taleb**\n"
      ]
    },
    {
      "cell_type": "markdown",
      "metadata": {
        "id": "_Ebu0AG6WmAO"
      },
      "source": [
        "- Creo que se podría estimar la probabilidad de éxito de que un equipo saque adelante un proyecto por: A) comprensión lectora B) que los proyectos tengan un vocabulario definido y preciso. La de gente que confunde \"ganar\" con \"ingresar\", \"coste\" con \"precio\", etc - **Andres Torrubia**"
      ]
    },
    {
      "cell_type": "markdown",
      "metadata": {
        "id": "_lMm5PFGWqh7"
      },
      "source": [
        "- To understand the media, it is important to keep in mind that they are in the business of attention, more than information. That is not to say that they don’t care about truth or information, but it is to say that their survival depends on attracting attention. - **Cesar H. Hidalgo**\n"
      ]
    },
    {
      "cell_type": "markdown",
      "metadata": {
        "id": "suszRFHtW2AN"
      },
      "source": [
        "- \"Nature builds things that are antifragile. In the case of evolution, nature uses disorder to grow stronger. Occasional starvation or going to the gym also makes you stronger, because you subject your body to stressors and gain from them.\" - **@nntaleb**"
      ]
    },
    {
      "cell_type": "markdown",
      "metadata": {
        "id": "rzfD6viNW7lS"
      },
      "source": [
        "- If you are a beginner starting with @kaggle, I recommend the following: \n",
        "\n",
        "  -  Start with a couple of playground competitions (< 2 months),  \n",
        "  -  Read solutions from past competitions & implement them yourself, \n",
        "  - Immediately move to an on-going competition w/ prize money (most to learn)  \n",
        "  -  Also, try to join a competition that just recently started, and try to spend half an hour on it *every* day. PS: Don't look at anyone else's notebooks for the 1st 2 weeks. \n",
        "  - Exactly!!! If you look at someone's notebook when the competition has just started, you are compelled to think like them. You don't want that. Do it yourself first then look at what others are doing. I like to look at notebooks early but only the EDA ones and not too detailed.  - **abhi1thakur**\n"
      ]
    },
    {
      "cell_type": "markdown",
      "metadata": {
        "id": "wCuxkogaW7jk"
      },
      "source": [
        "- **Precepto**, Cada una de las instrucciones o reglas que se dan o establecen para el conocimiento o manejo de un arte o facultad.  - RAE\n"
      ]
    },
    {
      "cell_type": "markdown",
      "metadata": {
        "id": "pn3cORkCXU8u"
      },
      "source": [
        "- Ubuntu repositories\n",
        "- Apt cache\n",
        "- Bitacora\n",
        "- User groups in linux\n",
        "- Permission in linux\n",
        "- Execute a container in docker\n",
        "- Snaps app\n",
        "- Disk partition / storage partition\n",
        "- PPA\n",
        "\n"
      ]
    },
    {
      "cell_type": "markdown",
      "metadata": {
        "id": "2rduVtcuXm6b"
      },
      "source": [
        "- [Language Models](https://en.wikipedia.org/wiki/Language_model)"
      ]
    },
    {
      "cell_type": "markdown",
      "metadata": {
        "id": "pYzCEHdQYR31"
      },
      "source": [
        "- Bayesian network based  help desk\n",
        "- Markov Decision process\n",
        "- Self adjustment computation\n",
        "- Incremental computation\n",
        "- Directly computational problems\n",
        "- Indirectly computational problems\n"
      ]
    },
    {
      "cell_type": "markdown",
      "metadata": {
        "id": "Fnlw3WxXYZQW"
      },
      "source": [
        "- Ld-preload\n",
        "- Interposing\n",
        "- Signal hooking\n"
      ]
    },
    {
      "cell_type": "markdown",
      "metadata": {
        "id": "8KkWTeANYdj3"
      },
      "source": [
        "- Skill rating system\n",
        "- Conversational interfaces\n",
        "- Prediction markets\n"
      ]
    },
    {
      "cell_type": "markdown",
      "metadata": {
        "id": "b9KMwlhkYiKk"
      },
      "source": [
        "- Topology\n",
        "- Maths vs computer science\n",
        "- Monte carlo tree search\n",
        "- Embedding\n",
        "- Local computation\n",
        "- Batch processing\n"
      ]
    },
    {
      "cell_type": "markdown",
      "metadata": {
        "id": "erxf69kcYvuL"
      },
      "source": [
        "- Probability distribution\n",
        "- Joint probability distribution\n",
        "- Summary -> granularity\n",
        "- High-dimensional statistics\n",
        "- High-dimensional probability\n",
        "- What can I do when I know a probability distribution?\n"
      ]
    },
    {
      "cell_type": "markdown",
      "metadata": {
        "id": "9PbevF2PY_Pd"
      },
      "source": [
        "- Verificar la calidad de mi vocabulario, para eso grabar lo que hablo por semanas, y verificar las palabras que uso."
      ]
    },
    {
      "cell_type": "markdown",
      "metadata": {
        "id": "xCUj2u4ZZCHm"
      },
      "source": [
        "- Computational irreducibility"
      ]
    },
    {
      "cell_type": "markdown",
      "metadata": {
        "id": "4I0LGwstZCFw"
      },
      "source": [
        "- End-to-End data processing system"
      ]
    },
    {
      "cell_type": "markdown",
      "metadata": {
        "id": "f9LEeNaQZMcn"
      },
      "source": [
        "- Service availability\n",
        "- Up time of software systems\n",
        "- Log all cpu-instructions that a program is executing\n",
        "- Data-flow vs control flow\n",
        "- Latency\n",
        "- Container file system\n"
      ]
    },
    {
      "cell_type": "markdown",
      "metadata": {
        "id": "aCuCqNGMZQrE"
      },
      "source": [
        "- Computation time \n",
        "- Sim locked\n",
        "- Flashing  a cell phone to linux\n",
        "- Bootloader for you device is unlocked \n",
        "- Routing a phone\n",
        "- Convert a simple phone in a server \n",
        "- Virtual threads\n",
        "- Os threads\n"
      ]
    },
    {
      "cell_type": "markdown",
      "metadata": {
        "id": "JgGjPmxeZYTi"
      },
      "source": [
        "- Bitset, bitmap\n",
        "- BItmap index\n",
        "- HISTFILE\n"
      ]
    },
    {
      "cell_type": "markdown",
      "metadata": {
        "id": "0B1_KIFaZqGn"
      },
      "source": [
        "- Text encoding"
      ]
    },
    {
      "cell_type": "markdown",
      "metadata": {
        "id": "kE3ieuv9ZoST"
      },
      "source": [
        "- Why are gpu good at matrix multiplication?"
      ]
    },
    {
      "cell_type": "markdown",
      "metadata": {
        "id": "1ayP4ycQZlDs"
      },
      "source": [
        "- Conceptual integrity"
      ]
    },
    {
      "cell_type": "markdown",
      "metadata": {
        "id": "I6ZOc_CwZhYc"
      },
      "source": [
        "- Session:a temporary and interactive information interchange between two or more communication devices."
      ]
    },
    {
      "cell_type": "markdown",
      "metadata": {
        "id": "rul9kFlcZitf"
      },
      "source": [
        "- Learning and reading ~ upgrading your mental models."
      ]
    },
    {
      "cell_type": "markdown",
      "metadata": {
        "id": "rJFKZDkoZuX8"
      },
      "source": [
        "- Short  term desire is addiction, Long term desire is purpose."
      ]
    },
    {
      "cell_type": "markdown",
      "metadata": {
        "id": "X94QLN_XZxql"
      },
      "source": [
        "- Yield\n",
        "- Generator\n",
        "- Lazy evaluation\n",
        "- Eager evaluation\n"
      ]
    },
    {
      "cell_type": "markdown",
      "metadata": {
        "id": "JXwPosefZ3Ea"
      },
      "source": [
        "- Bayesian optimization\n",
        "- Auto ml - platform"
      ]
    },
    {
      "cell_type": "markdown",
      "metadata": {
        "id": "C4szkuvYZ7Ii"
      },
      "source": [
        "- Parallel computing"
      ]
    },
    {
      "cell_type": "markdown",
      "metadata": {
        "id": "dLztUVkGawoY"
      },
      "source": [
        "- Logging executed command files in bash\n",
        "- Prompt-command\n",
        "- Ssh session\n",
        "- Ssh keys"
      ]
    },
    {
      "cell_type": "markdown",
      "metadata": {
        "id": "j-r6sthdbAB5"
      },
      "source": [
        "- Closure"
      ]
    },
    {
      "cell_type": "markdown",
      "metadata": {
        "id": "R1GWNlR1bGcj"
      },
      "source": [
        "- Training loop\n",
        "- Grid and cluster computing"
      ]
    },
    {
      "cell_type": "markdown",
      "metadata": {
        "id": "GF7WfdjRbNHH"
      },
      "source": [
        "- Electromagnetism\n",
        "- Classical field theories\n",
        "- Hamiltonian dynamics\n",
        "- Gravitational potential energy\n",
        "\n"
      ]
    },
    {
      "cell_type": "markdown",
      "metadata": {
        "id": "ezwAkAqtbVAJ"
      },
      "source": [
        "- Devenir de la historia\n",
        "- Equilibrios de poder\n",
        "- Entidad o unidad política\n",
        "- Anacronismo"
      ]
    },
    {
      "cell_type": "markdown",
      "metadata": {
        "id": "Rx3M6iDPbatv"
      },
      "source": [
        "- Decision support system\n",
        "- Simulations\n",
        "- Anomaly detection\n",
        "- Summarization\n",
        "- Association rule mining\n",
        "- Ensemble mining\n",
        "- Intention mining"
      ]
    },
    {
      "cell_type": "markdown",
      "metadata": {
        "id": "PUz2ZrMYbarn"
      },
      "source": [
        "- Dynamic Linking (Loading library at run time)\n",
        "- Static Linking\n"
      ]
    },
    {
      "cell_type": "markdown",
      "metadata": {
        "id": "B4-4o-c9aFd1"
      },
      "source": [
        "- Agent-based modeling and simulation\n",
        "- Mathematical description of field theories\n",
        "- Data manifolds\n",
        "- Generalization\n",
        "- Facturas digitales\n",
        "- Signed documents\n",
        "- Homeostasis\n",
        "- Simultaneous equations\n",
        "- Systems of equations\n",
        "- Energy storage industry\n",
        "- Production chain\n",
        "- Prediction machines\n",
        "- Data  poisoning\n",
        "- Tinkerer\n",
        "- Simulation models\n",
        "- Market Design\n",
        "- Rate\n",
        "- Ratio\n",
        "- Goodharr’t law\n",
        "- Frontera tecnologica\n",
        "- Random number generator\n",
        "- Random seed\n",
        "- Memorizing the data distribution\n",
        "- Catchup and technological upgrading\n",
        "- Policity space and kitching away the ladder\n",
        "- Rabbit hole"
      ]
    },
    {
      "cell_type": "markdown",
      "metadata": {
        "id": "0mmWJ0qvamoo"
      },
      "source": [
        "- Model Compression\n",
        "- Hybrid AI\n",
        "- Knowledge basis\n",
        "- Ml ops\n",
        "- Deep RL\n",
        "- GNNs\n",
        "- Clustering\n",
        "- Neural Network\n",
        "- Topic Modelling\n",
        "- Graph analysis\n",
        "- Classification"
      ]
    },
    {
      "cell_type": "markdown",
      "metadata": {
        "id": "jJlZOhTneiJk"
      },
      "source": [
        "- A **range query** is a common database operation that retrieves all records where some value is between an upper and lower boundary."
      ]
    },
    {
      "cell_type": "markdown",
      "metadata": {
        "id": "_RbeHCRCeq84"
      },
      "source": [
        "- Cluster Index\n",
        "- Non-Cluster Index\n"
      ]
    }
  ]
}