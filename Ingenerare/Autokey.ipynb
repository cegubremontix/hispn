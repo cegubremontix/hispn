{
  "nbformat": 4,
  "nbformat_minor": 0,
  "metadata": {
    "colab": {
      "name": "Autokey.ipynb",
      "provenance": [],
      "authorship_tag": "ABX9TyOqV3F3Y6IJULYPY/BMwgHi",
      "include_colab_link": true
    },
    "kernelspec": {
      "name": "python3",
      "display_name": "Python 3"
    },
    "language_info": {
      "name": "python"
    }
  },
  "cells": [
    {
      "cell_type": "markdown",
      "metadata": {
        "id": "view-in-github",
        "colab_type": "text"
      },
      "source": [
        "<a href=\"https://colab.research.google.com/github/dbremont/Notas/blob/main/Ingenerare/Autokey.ipynb\" target=\"_parent\"><img src=\"https://colab.research.google.com/assets/colab-badge.svg\" alt=\"Open In Colab\"/></a>"
      ]
    },
    {
      "cell_type": "markdown",
      "metadata": {
        "id": "KTmqW3yHxTpD"
      },
      "source": [
        "- [autokey](https://github.com/autokey/autokey)\n",
        "\n",
        "- events -> actions\n",
        "\n",
        "- [Beginners Guide](https://github.com/autokey/autokey/wiki/Beginners-Guide)\n",
        "\n",
        "- [AutoKey: How to Replace Characters with Predefined Text Automatically in Linux](https://www.cloudsavvyit.com/7870/autokey-how-to-replace-characters-with-predefined-text-automatically-in-linux/)"
      ]
    }
  ]
}