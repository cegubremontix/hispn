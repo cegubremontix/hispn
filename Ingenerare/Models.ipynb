{
  "nbformat": 4,
  "nbformat_minor": 0,
  "metadata": {
    "colab": {
      "name": "Models.ipynb",
      "provenance": [],
      "authorship_tag": "ABX9TyO6+CYyXdQIWxx9P6Os8O4g",
      "include_colab_link": true
    },
    "kernelspec": {
      "name": "python3",
      "display_name": "Python 3"
    },
    "language_info": {
      "name": "python"
    }
  },
  "cells": [
    {
      "cell_type": "markdown",
      "metadata": {
        "id": "view-in-github",
        "colab_type": "text"
      },
      "source": [
        "<a href=\"https://colab.research.google.com/github/dbremont/Notas/blob/main/Ingenerare/Models.ipynb\" target=\"_parent\"><img src=\"https://colab.research.google.com/assets/colab-badge.svg\" alt=\"Open In Colab\"/></a>"
      ]
    },
    {
      "cell_type": "markdown",
      "metadata": {
        "id": "sBFtqDNRC04X"
      },
      "source": [
        "> Models are potential representations of target systems."
      ]
    },
    {
      "cell_type": "markdown",
      "metadata": {
        "id": "wPli5FS2AEQ2"
      },
      "source": [
        "## Mentals Models"
      ]
    },
    {
      "cell_type": "markdown",
      "metadata": {
        "id": "Eudcf8g9AGAL"
      },
      "source": [
        "* [Mental models for designers](https://dropbox.design/article/mental-models-for-designers)\n",
        "\n",
        "* [Product Management Mental Models for Everyone](https://blackboxofpm.com/product-management-mental-models-for-everyone-31e7828cb50b)\n",
        "\n",
        "* [50 Ideas That Changed My Life](https://www.perell.com/blog/50-ideas-that-changed-my-life)\n",
        "\n",
        "* [Mental models for designers](https://dropbox.design/article/mental-models-for-designers)\n",
        "\n",
        "* [A Framework for First Principles Thinking](https://neilkakkar.com/A-framework-for-First-Principles-Thinking.html)\n",
        "\n",
        "* [Second Order Thinking - A Practical Guide](https://neilkakkar.com/second-order-thinking.html)\n",
        "\n",
        "* [Vocabulary as a Meta Mental Model](https://neilkakkar.com/vocabulary-mental-model.html)\n",
        "\n",
        "* [Bayes Theorem: A Framework for Critical Thinking](https://neilkakkar.com/Bayes-Theorem-Framework-for-Critical-Thinking.html)\n",
        "\n",
        "* [First Principles](https://fs.blog/2018/04/first-principles/)\n",
        "\n",
        "* [Second Order Thinking](https://models.substack.com/p/second-order-thinking)\n",
        "\n",
        "* [Major flaws of human thinking](https://dandanua.github.io/posts/major-flaws-of-human-thinking/)"
      ]
    },
    {
      "cell_type": "markdown",
      "metadata": {
        "id": "wy5hRen5CIzw"
      },
      "source": [
        "Otros Recursos"
      ]
    },
    {
      "cell_type": "markdown",
      "metadata": {
        "id": "xKFwGvSQCLVT"
      },
      "source": [
        "- [Models in Science](https://plato.stanford.edu/entries/models-science/)\n",
        "- [Models - Internet Encyclopedia of Philosophy](https://iep.utm.edu/models/)\n",
        "- [Scientific modelling](https://en.wikipedia.org/wiki/Scientific_modelling)\n",
        "- [Conceptual model](https://en.wikipedia.org/wiki/Conceptual_model)\n",
        "- Simulation and Similarity\n"
      ]
    }
  ]
}