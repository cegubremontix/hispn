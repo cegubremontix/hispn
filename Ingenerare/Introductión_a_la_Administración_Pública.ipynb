{
  "nbformat": 4,
  "nbformat_minor": 0,
  "metadata": {
    "colab": {
      "name": " Introductión a la Administración Pública.ipynb",
      "provenance": [],
      "toc_visible": true,
      "authorship_tag": "ABX9TyMKLKCVPR8MV8jCd+mwMGr3",
      "include_colab_link": true
    },
    "kernelspec": {
      "name": "python3",
      "display_name": "Python 3"
    },
    "language_info": {
      "name": "python"
    }
  },
  "cells": [
    {
      "cell_type": "markdown",
      "metadata": {
        "id": "view-in-github",
        "colab_type": "text"
      },
      "source": [
        "<a href=\"https://colab.research.google.com/github/dbremont/Notas/blob/main/Ingenerare/Introducti%C3%B3n_a_la_Administraci%C3%B3n_P%C3%BAblica.ipynb\" target=\"_parent\"><img src=\"https://colab.research.google.com/assets/colab-badge.svg\" alt=\"Open In Colab\"/></a>"
      ]
    },
    {
      "cell_type": "markdown",
      "metadata": {
        "id": "q2QUBHmsFSjU"
      },
      "source": [
        "[Introductión  a la Administración Pública](https://inapvirtual.edu.do/course/view.php?id=1484)"
      ]
    },
    {
      "cell_type": "markdown",
      "metadata": {
        "id": "mTBFS5XdFWqR"
      },
      "source": [
        "## 1 Nociones sobre la organización del Estado"
      ]
    },
    {
      "cell_type": "markdown",
      "metadata": {
        "id": "rR-nn55HFYEa"
      },
      "source": [
        "Objetivos Unidad:\n",
        "\n",
        "- Fines y propósitos del Estado,\n",
        "- la forma de organización del sector público y \n",
        "- sus leyes que le regulan.\n",
        "\n",
        "**Administración Pública**\n",
        "\n",
        "**Principios de la Administración Pública**\n",
        "\n",
        "**Órgano Individuo**\n",
        "\n",
        "**Organo Institucion**\n",
        "\n",
        "**Organo Constitucionales**\n",
        "\n",
        "**Administracion Publica Central**\n",
        "\n",
        "**Consejo de Ministros**\n"
      ]
    },
    {
      "cell_type": "markdown",
      "metadata": {
        "id": "qEG96_xlPdbe"
      },
      "source": [
        "**Que es el estado**\n",
        "\n",
        "Un Estado es una organización política constituida por un conjunto de instituciones burocráticas estables, a través de las cuales ejerce el monopolio del uso de la fuerza (soberanía) aplicada a una población dentro de unos límites territoriales establecidos.\n",
        "\n",
        "La republica dominicana es un estado unitario y en el presidente convergen **jefe de gobierno** y **jefe de estado**.\n",
        "\n",
        "**Que es el gobierno**\n",
        "\n",
        "Conjunto de personas que administran el estado por un determinado tiempo, en democracia estos son elegidos.\n",
        "\n",
        "Ejercen el poder político, estratégico, de dirección del Estado que la ciudadanía elige democráticamente mediante la elección del Presidente de la República, máxima autoridad del gobierno y que organiza a partir de su\n",
        "Gabinete Ministerial.\n",
        "\n",
        "**Que es el sector publico**\n",
        "\n",
        "Todas las instituciones, órganos, entes y demás formas de organización del Estado, es lo que conocemos con el Sector Público.\n",
        "\n",
        "**Administración publica**\n",
        "\n",
        "**Función administrativa**\n",
        "\n",
        "**principios de actuación de la función pública los siguientes**\n",
        "\n",
        "- Eficacia,\n",
        "- Jerarquia,\n",
        "- Objetividad,\n",
        "- Igualdad,\n",
        "- Transparencia,\n",
        "- Publicidad,\n",
        "- Economía (Eficencia),\n",
        "- Coordinación,\n",
        "- Juridicidad\n",
        " \n",
        "\n",
        "**Entidades, entes, organos y organismos del Estado**\n",
        "\n",
        "- **Ente**: podemos entender aquellas figuras orgánicas del Estado dominicano en las que se ha concretizado y que cuentan con personería jurídica, son titulares de competencias y prerrogativas públicas. Para la normativa dominicana se consideran “Entes públicos” el Estado, el Distrito Nacional, los municipios, los distritos municipales y los organismos autónomos y descentralizados provistos de personalidad jurídica de derecho público.\n",
        "\n",
        "- **Organos**,  a las   unidades administrativas habilitadas a ejercer en nombre de los entes públicos las compotencias que se les atribuyen.\n",
        "\n",
        "**Organismos e Instituciones**\n",
        "\n",
        "Por organismos e instituciones podemos entender a la razón social de derecho público que forma parte de la administración pública de gobierno central o del Estado, que bajo una organización administrativa ejercen una competencia de un ente del Estado de forma centralizada, descentralizada o autónoma.\n",
        "\n",
        "**Entidades autonomas**\n",
        "\n",
        "Organismos autónomos a aquellos que son dotados desde su concepción\n",
        "con total independencia administrativa, presupuestaria, de personería jurídica, jerárquica, territorial y con autoridad para la designación de sus propias autoridades.\n",
        "\n",
        "**Entidades centralizadas**\n",
        "\n",
        "**Entidades descentralizadas**\n",
        "\n",
        "**Tipos de descentralizacion administrativa**\n",
        "\n",
        "La descentralización administrativa constituye una forma de organización administrativa que conlleva la transferencia de competencias o funciones administrativa públicas a personas jurídicas públicas diferentes del Estado para que las ejerzan en su propio nombre y bajo su propia responsabilidad.\n",
        "\n",
        "- Descentralización territorial,\n",
        "- Descentralización funcional.\n",
        "\n",
        "\n",
        "**Desconcentracion Administrativa**\n",
        "\n",
        "Se refiere a la atribución de porciones de competencias a órganos inferiores, pero siempre dentro de la misma organización o ente estatal del que se trata. \n",
        "\n",
        "**La Función Pública**\n",
        "\n",
        "Figura jurídica en torno al cual interactúan el poder público representado en la autoridad delegada por la sociedad en su conjunto y quienes se vinculan al servicio bajo una sumisión jerárquica y de “dedicación exclusiva” para actuar en favor del interés general y que se conoce como la **Función Pública**.\n",
        "\n",
        "\n",
        "**Servidor  publico o funcionario**\n",
        "\n",
        "Para la ley de función pública, se considera servidor público aquella persona que ejerce un cargo permanente de la función pública, designado por autoridad competente.\n",
        "\n",
        "**Funcionarios o servidores publicos de libre nombramiento y remocion**\n",
        "\n",
        "Servidores públicos que ocupan Cargos de Alto Nivel.\n",
        "\n",
        "-  Secretarios de Estado\n",
        "-  Consultor Jurídico del Poder Ejecutivo, Contralor General\n",
        "de la República, y Procurador General de la República;\n",
        "- Directores Nacionales y Generales y Subdirectores;\n",
        "- etc .\n",
        "\n",
        "**Funcionarios o servidores publicos de carrera**\n",
        "\n",
        "La carrera administrativa es una condición o prerrogativa que se adquiere para ostentar cargos clasificados de carrera, mediante la participación y cumplimiento de los requisitos establecidos para los concursos públicos en las diferentes categorías que establece la ley de función pública y sus reglamentos correspondientes, y que superadas\n",
        "dichas pruebas e instrumentos de evaluación es nombrado por autoridad competente para desempeñar dicho cargo.\n",
        "\n",
        "**Funciono o servidores publicos de estatudo simplificado**\n",
        "\n",
        "Por funcionario o servidor público de estatuto simplificado se entiende a aquellos que\n",
        "desempeñan tareas de servicios generales y oficios afines tales como:\n",
        "\n",
        "- Concerjes, porterías, etc.\n",
        "\n",
        "**Empleados temporales**\n",
        "\n",
        "\n",
        "\n",
        "**Organos rectores de la administracion publica**\n",
        "\n",
        "La administración pública es una actividad muy regulada en la que los servidores públicos someten su disciplina para contribuir al cumplimiento de los fines públicos para el que fueron creadas las instituciones públicas.\n",
        "\n",
        "- Camara de Cuentas de la República Dominicana,\n",
        "\n",
        "- Contraloría General Republica (CGR),\n",
        "\n",
        "- Dirección General de Bienes Nacionales,\n",
        "\n",
        "- Dirección General de Contabilidad Gubernamental (DIGECOG),\n",
        "\n",
        "- Dirección General de Contrataciones Públicas (DGCP),\n",
        "\n",
        "- Dirección General de Crédito Publico,\n",
        "\n",
        "- Dirección General de Ética e Integridad Gubernamental (DIGEIG),\n",
        "\n",
        "- Dirección General de Presupuesto (DIGEPRES),\n",
        "\n",
        "- Instituto Nacional de Adminsitración Pública (INAP),\n",
        "\n",
        "- Oficina Presidencial de Tecnologicas y de la Información y Comunicación (OPTIC),\n",
        "\n",
        "- Ministerio de Adminsitracion Pública (MAP),\n",
        "\n",
        "- Ministerio de Economía, Planificación y Desarollo  (MEPyD),\n",
        "\n",
        "- Tesorería Nacional"
      ]
    },
    {
      "cell_type": "markdown",
      "metadata": {
        "id": "ag4RzV3hIySC"
      },
      "source": [
        "Significado de ser un servidor público?\n",
        "\n",
        "Ser funcionario publico significa, trabajar por y para los ciudadanos de un estado. Se tiene la responsabilidad de brindar  servicios de calidad para facilitar y no impedir el progreso de los ciudadanos/pais.\n",
        "\n",
        "De los funcionarios publicos se espera que no sean el punto de atasco en la vida de los ciudadanos.\n",
        "\n",
        "\n",
        "\n",
        "- Es una dependencia del Poder Ejecutivo creada con la finalidad de  ejercer la fiscalización interna y la evaluación del  debido recaudo, manejo, uso e inversión de los recursos:\n",
        "\n",
        "rocura salvaguardar lasprerrogativas e impedir el abuso de poder, así como la inobservancia al régimen de deberes y responsabilidades ante las instancias jurisdiccionales correspondientes:\n",
        "  - Tutele judicial,\n",
        "  - "
      ]
    },
    {
      "cell_type": "markdown",
      "metadata": {
        "id": "nVmVI0IzD9Y5"
      },
      "source": [
        "# 2 La organización del sector público"
      ]
    },
    {
      "cell_type": "markdown",
      "metadata": {
        "id": "04Zcjkw7MIf8"
      },
      "source": [
        "## Presentacion"
      ]
    },
    {
      "cell_type": "markdown",
      "metadata": {
        "id": "Kf-Zjs4ZEXvJ"
      },
      "source": [
        "Los poderes del estado\n",
        "\n",
        "- Legislativo : Lesgila y fiscaliza en representacion del pueblo.\n",
        "   - Senado,\n",
        "   - Camara de Diputados\n",
        " \n",
        "  -  Atribuciones lesgilativas:\n",
        "    - establecer inpuestos,\n",
        "    - verificar las observaciones que el poder ejecutivo haga de las leyes,\n",
        "    - votar anualmente la ley de presupuesto general del estado,\n",
        "    - aprobar o desaprobar los tratados y convenciones internaciones que subcriba el **poder ejecutivo**\n",
        "\n",
        "  - Fiscalizacio y control\n",
        "    - examinar anualmente todos los actos del poder ejecutivo.\n",
        "    - citar a funcionarios del estado antes las comiciones permanentes del congreso,\n",
        "    - supervisar todas las politicas publicas que implemente el gobierno,\n",
        "    - nombrar comisiones permanentes y especiales, para investigar cualquier asunto que resulte de intereses publico, y rindan el informe correspondiente\n",
        "\n",
        "> \"Para que no se pueda abusar del poder hace falta que, por la disposición de las cosas, el poder detenga al poder\". Montesquie\n",
        "\n",
        "- "
      ]
    },
    {
      "cell_type": "markdown",
      "metadata": {
        "id": "4-Py5AOpMGNW"
      },
      "source": [
        "## La organizacion del sector publico"
      ]
    },
    {
      "cell_type": "markdown",
      "metadata": {
        "id": "KyEPlHLfND8-"
      },
      "source": [
        "- La nocion de pueblo, para formar el estado y organizar el gobierno.\n",
        "\n",
        "- Formas de ver el estado:\n",
        "  - unidad territorial que cuenta con soberania y que le distingue de otros Estados,\n",
        "  - unidad politica que unifica un pueblo en base al cual se constituye un estado dominicao republica dominicana ...\n",
        "\n",
        "El modelo que ha adoptado el gobierno ode la nacion es civil, republicano, democratico y representativo y que se concretiza en el poder publico administrado desde tres **ejes fundamentales del poder**:\n",
        "  - la representacion (poder legislativo),\n",
        "  - la administracion de la justicia (poder judicial),\n",
        "  - administracion publica (poder ejecutivo)\n",
        "\n",
        "Sistema de contrapesos"
      ]
    },
    {
      "cell_type": "markdown",
      "metadata": {
        "id": "aJPiR3bRMpwO"
      },
      "source": [
        "### Los poderes del Estado"
      ]
    },
    {
      "cell_type": "markdown",
      "metadata": {
        "id": "RyVZ9YXzMBKH"
      },
      "source": [
        "**Los poderes del Estado**\n",
        "\n",
        "Emana y se ejerce en nombre del pueblo, por lo que se conoce como el **poder más representativo**.\n",
        "\n",
        "Contituido por el congreso nacional, senado y camara de diputados.\n",
        "\n",
        "**Poder Legislativo**\n",
        "\n",
        "**El senado** de la republica esta intregados por miembros de la 31 provincias y el distrito nacional. \n",
        "\n",
        "**La camara de diputados** esta integrada por miembros elejidos en razon de uno para cada una de las circunscripcioens territoriales distribuidas en proprcion a al densidad poblacional del país. Estas circunscripcioens electorales so ndeterminadas por la autoridad electroal, la junta central electoral, ...\n",
        "\n",
        "Actualmente la **camara de diputados** tiene 190 escaños.\n",
        "\n",
        "**Poder Judicial**\n",
        "\n",
        "- Suprema corte de justicia,\n",
        "- tribunales ...\n",
        "\n",
        "- la integracion del poder judicial se hace en bae a la **carrera judicial** que conforme a la ley regula ingreso, formacion, ascenso, promocion, desvinculacion y retiro de jueces, bajos los principios de merito, capacidad y profesionalidad.\n",
        "\n",
        "- requisitos para la suprema corte de justicia\n",
        "- composicion del tribunacl constitucional y el tribunal superior electoral\n",
        "\n",
        "- El órgano de administración y disciplina del Poder Judicial es el Consejo del Poder\n",
        "Judicial\n",
        "\n",
        "- El Poder Judicial también ejerce una función de contrapeso del Poder político, por lo\n",
        "que dentro de sus autoridades está el control de legalidad de la administración\n",
        "pública.\n",
        "\n",
        "**Poder Ejecutivo**\n",
        "\n",
        "Poder reside en el pueblo es ejercido por el presidente o la presidenta de la republica sobre quien recae la figura de jefe de estado  y jefe de gobierno. se elige mediante voto universal  y directo, para la cual se requiere cumplir con los siguientes requisitos.\n",
        " \n",
        " - ....\n",
        "\n",
        "- El presidente es el jefe del estado y jefe del gobierno.\n",
        "\n",
        "- ministros,\n",
        "- no mas de 6 viceministros por cada ministerio\n",
        "\n"
      ]
    },
    {
      "cell_type": "markdown",
      "metadata": {
        "id": "qmj9lnDhMt-2"
      },
      "source": [
        "### Articulo 80: Atribuciones - Son atribuciones exclusivas del senado"
      ]
    },
    {
      "cell_type": "markdown",
      "metadata": {
        "id": "AzLEwaixPi2t"
      },
      "source": [
        "- Conocer de las acusacioes formuladas por la camara de diputados contra las y los funcionarios publicos señalados en el articulo 83, ...\n",
        "\n",
        "- aprobar o desaprobar los nombramientos de embajadores y jefes de misiones permantes acreditados en el exterior que le someta el Presidente de la Republica\n",
        "\n",
        "- Elegir los miembros de la camara de cuentas de las ternas representadas por la camara de diputos.\n",
        "\n",
        "- Elegir los miembros de la junta central electoral y sus suplentes, con el voto de las dos terceras partes de los presentes;\n",
        "\n",
        "- Elegir al defensor del pueblo, sus suplentes y sus adjuntos, a partir de las ternas que le presente la camara de diputados, con el voto de las dos terceras partes de los presentes;\n",
        "\n",
        "- autorizar, previa solicitud del presidente de la republica, en ausencia de convenio que lo permita, la presencia de tropas extranjeras en ejercicios militares en el territorio de la republica dominica, asi como determinar el tiempo y las condiciones de sus estadia.\n",
        "\n",
        "- aprobar o desaprobar el envio al extranjero de tropas en misiones de paz, autorizadas por organismos internaciones, fijando las doncieione sy duracion de dichas mision."
      ]
    },
    {
      "cell_type": "markdown",
      "metadata": {
        "id": "QuyC162ZR8iB"
      },
      "source": [
        "### Atribuciones del la camara de diputados"
      ]
    },
    {
      "cell_type": "markdown",
      "metadata": {
        "id": "fMSdiELOR_FF"
      },
      "source": [
        "- acusar ante el senado a las/los funcionadrios publicvos elegidos por voto popular, a los elegidos  po rel senado y por el consejo nacional de la magistartura, por la comision de faltas graves en el ejercicios de sus funciones.\n",
        "\n",
        "- someter al senado las ternas para la eleccion de los miembros de la camara de cuentas con el voto favorable de las dos terceras partes de los presentes;\n",
        "\n",
        "- someter al senado las ternas del Defensor del pueblo, sus suplentes, que on podran ser mas de dos, y los adjuntos, que on podran ser mas de cinco, con el voto favorable de las dos terceras partes de los presentes.\n"
      ]
    },
    {
      "cell_type": "markdown",
      "metadata": {
        "id": "IFiG7qj6Mye2"
      },
      "source": [
        "### Diferencias entre el gobierno nacional y local"
      ]
    },
    {
      "cell_type": "markdown",
      "metadata": {
        "id": "ukWtLEnMWCRo"
      },
      "source": [
        "La republica dominicana es un estado unitario, modalidad de organizacion territorial y politica diferente a los estados federados.\n",
        "\n",
        "**Regimen de municipios**, concebido para establecer una gestión descentralizada que procura ola transferencia de ciertas compentencias del Estado a los gobiernos locales que lo adminsitran en nombre dle pueblo que representan."
      ]
    },
    {
      "cell_type": "markdown",
      "metadata": {
        "id": "bZfir0WqYCZv"
      },
      "source": [
        "## Preguntas"
      ]
    },
    {
      "cell_type": "markdown",
      "metadata": {
        "id": "Gp8C_sxnXIpC"
      },
      "source": [
        "- Es el máximo órgano de coordinación estratégica de las políticas públicas y de los asuntos generales de la acción de gobierno: \n",
        "  - Consejo de Ministros\n",
        "\n",
        "- actividad específica y continua del Estado, encaminada a satisfacer necesidades inmediatas de los individuos que integran la sociedad.  - administración pública\n",
        "\n",
        "- Órgano rector de la Administración Pública\n",
        "  - Ministerio de Administración Publica\n",
        "\n",
        "- Consiste en el traslado mediante disposición jurídica de actividades que corresponden a un órgano superior a otro que le es jerárquicamente inferior, pero no implica transferencia de titularidad de competencias ni de recursos económicos, mucho menos dotación de personalidad jurídica:\n",
        "  - Desconcentración\n",
        "\n",
        "- Tiene a su cargo administrar justicia para decidir sobre los conflictos entre personas físicas o morales, en derecho privado o público, en todo tipo de procesos, juzgando y haciendo ejecutar lo juzgado\n",
        "  - Poder Judicial\n",
        " \n",
        "- Ejerce la dirección superior del aparato administrativo en su conjunto, con el propósito de garantizar una gestión administrativa armónica y eficiente:\n",
        "  - Presidente de la Republica\n",
        "  - me la pusieron mal, [pero ver material](https://mt.gob.do/transparencia/images/docs/marco_legal_de_transparencia/leyes/2018/Ley-247-12-Organica-Administracion-Publica2c-de-fecha-9-de-agosto-de-2012.pdf)\n",
        "\n",
        "- El Gobierno de la Nación dominicana se divide en:\n",
        "  - Poder Legislativo, Ejecutivo y Judicial\n",
        "\n",
        "- La República Dominicana es un Estado:\n",
        "  - Social y Democrático de Derecho\n",
        "\n",
        "- Es la instancia judicial que se encarga de conocer de los recursos contenciosos contra los actos, actuaciones y disposiciones de autoridades administrativas contrarias al Derecho como consecuencia de las relaciones entre la Administración del Estado y los particulares:\n",
        "  -  \n",
        "Tribunal Superior Administrativo\n"
      ]
    },
    {
      "cell_type": "markdown",
      "metadata": {
        "id": "uR1onDJSbKZ2"
      },
      "source": [
        "## 3 Leyes transversales a la administracion publica"
      ]
    },
    {
      "cell_type": "markdown",
      "metadata": {
        "id": "XbWTePMf_V7Y"
      },
      "source": [
        "- Constitucion\n",
        "\n",
        "- Ley 247-12 Organica de la Administracion Publica\n",
        "\n",
        "- Ley 107-13: Sobre los Derechos de las Personas en sus Relaciones con la Administración y de Procedimiento Administrativo\n",
        "\n",
        "- Ley 41-08 de la funcion publica: trata sobre las relaciones laborales de los servidores públicos en el Estado, incluyendo los municipios, pero excluyendo los cargos de elección popular, Junta Central Electoral, Cámara de Cuentas, personal militar y policial, así como las entidades que tienen relaciones de trabajo por el código de trabajo l\n",
        "\n",
        "- 200-04 Ley de acceso a la informacion publica"
      ]
    },
    {
      "cell_type": "markdown",
      "metadata": {
        "id": "JiE1BgGM9x1n"
      },
      "source": [
        "- Supremasia de la constitución\n",
        "\n",
        "- Derecho a la igualdad\n",
        "\n",
        "- Derechos del consumidor\n",
        "\n",
        "- Garantías de los derechos fundamentales\n",
        "\n",
        "- Función Pública\n",
        "\n",
        "- Régimen de compensación\n",
        "\n",
        "- Proteccion de la funcion publica\n",
        "  - Los empleados de carrera no pueden ser separados en violacion al regimen de la Funcion Publica.\n",
        "\n",
        "- Finalidad de servicios públicos"
      ]
    },
    {
      "cell_type": "markdown",
      "metadata": {
        "id": "ZwgTKqBQBICJ"
      },
      "source": [
        "**Leyes transversales a la administración pública**\n",
        "\n",
        "1. Constitución de la Republica Dominicana\n",
        "2. Ley No. 41-08 Funcion Publica\n",
        "3. Ley No. 247-12, Organica de la Administracion Publica, del 14 de agosto del 2021\n",
        "4. Ley 107-13 sobre los Derechos de las Personas en sus relaciones con la Administración y de Proced\n",
        "\n",
        "\n",
        "**Incidencia a Nivel Personal y organizacional**\n",
        "\n",
        "**Deberes de la Administracion Publica y del personal a su servicio en materia de información al público**\n",
        "\n",
        "5. Ley General de Libre Acceso a la Información Pública no. 200-04 del 25 de febrero de 2005\n",
        "\n",
        "6. Decreto 211-10, que declara de Cáracter Obligatorio la Aplicación del Modelo CAF-Marco Común de Evaluación - en la Administraciíón Pública\n",
        "\n",
        "- CAF : Common Assesment Framework-  Marco Común de Evaluación."
      ]
    },
    {
      "cell_type": "markdown",
      "metadata": {
        "id": "39WM-3ceTjdi"
      },
      "source": [
        "## Preguntas"
      ]
    },
    {
      "cell_type": "markdown",
      "metadata": {
        "id": "CIHQX-gsTlJw"
      },
      "source": [
        ""
      ]
    },
    {
      "cell_type": "markdown",
      "metadata": {
        "id": "_dh8mpPhWKlo"
      },
      "source": [
        "## Asignación - Transparencia\n",
        "\n",
        "Busque el portal de transparencia de la institución donde usted sirve al país y detalle las informaciones que se obtienen de cada uno de sus enunciados.\n",
        "\n"
      ]
    },
    {
      "cell_type": "markdown",
      "metadata": {
        "id": "XnLDKKeXWMDQ"
      },
      "source": [
        "Podemos encontrar el portar de transparencia del ministerio en,\n",
        "https://transparencia.hacienda.gob.do/\n",
        "\n",
        "**Información básica sobre servicios públicos**\n",
        "Ir https://www.hacienda.gob.do/nuestros-servicios/ \n",
        "\n",
        "- Exequatur,\n",
        "- Exoneraciones,\n",
        "- Expedición  de Licencias,\n",
        "- Juegos de Azar,\n",
        "- Renovación de Fianzas\n",
        "\n",
        "**Plan estratégico de la Institución**\n",
        "Ir  [Plan estratégico de la Institución](https://transparencia.hacienda.gob.do/web/guest/plan-estrat%C3%A9gico-institucional)\n",
        "\n",
        "Aqui podemos encontrar informacion sobre los proyectos que la institucion tiene pleneado ejecutar por años.\n",
        "\n",
        "**Estadisticas Intitucionales**\n",
        "\n",
        "- [Dirección de Casinos y Juegos de Azar](https://transparencia.hacienda.gob.do/web/guest/direcci%C3%B3n-de-casinos-y-juegos-de-azar-2021)\n",
        " \n",
        "- [Dirección Jurídica](https://transparencia.hacienda.gob.do/web/guest/direccion-juridica-2021)\n",
        "  - Estaditicas de Servicios,\n",
        "  - Expedicion, Cancelación o Traspaso de Placas Oficiales y Exoneradas Estatales,\n",
        "  - ...\n",
        "\n",
        "\n",
        "**Declaración Jurada de Patrimonio**\n",
        "\n",
        "Ir [Declaraciones Juradas](https://transparencia.hacienda.gob.do/web/guest/declaraciones-juradas)\n",
        "\n",
        "Se obtiene informacion del patrimonio del ministro, vice-minitros, y  otros funcionarios.\n",
        "\n",
        "**Presupuesto**\n",
        "\n",
        "- Ejecución Presupuestaria: Se refiere a la partidas aprobadas que fueron ejecutadas.\n",
        "\n",
        "- Presupuesto Aprobado: SE refiere a las partidas presupuestarias aprobadas.\n",
        "\n",
        "**Nomina de Recursos Humanos**\n",
        "\n",
        "- Información de los empleados tanto contratados y fijos,\n",
        "- Informacion sobre las Jubilaciones, Pensiones Y Retiros\n",
        "\n",
        "**Compras y Contrataciones**\n",
        "\n",
        "- Plan Anual de Compras Y Contrataciones (PACC), no da informacion sobre los articulos que se tiene previstos a comprar."
      ]
    },
    {
      "cell_type": "markdown",
      "metadata": {
        "id": "0XEjVNy8bbdc"
      },
      "source": [
        "## 4 La responsabilidad de civil de los servidores  publicos"
      ]
    },
    {
      "cell_type": "markdown",
      "metadata": {
        "id": "3fY3VdXYHKLP"
      },
      "source": [
        "### Preguntas"
      ]
    },
    {
      "cell_type": "markdown",
      "metadata": {
        "id": "lKvZCHpzHfC5"
      },
      "source": [
        "[ANTEPROYECTO DE LEY DE LA RESPONSABILIDAD CIVIL DE LAS ENTIDADES PUBLICAS, SUS FUNCIONARIOS O AGENTES](https://s-sil.camaradediputados.gob.do:8095/ReportesGenerales/VerDocumento2?documentoId=105393)"
      ]
    },
    {
      "cell_type": "markdown",
      "metadata": {
        "id": "jHKY0Dd8HLew"
      },
      "source": [
        "Dano indemnizable. Son indemnizables los danos de cualquier tipo,\n",
        "patrimonial, flsico o moral, por dano emergente o lucro cesante, siempre que\n",
        "sean reales y efectivo. La prueba del dano corresponde al reclamante."
      ]
    },
    {
      "cell_type": "markdown",
      "metadata": {
        "id": "SKVRp7orHMAU"
      },
      "source": [
        "El derecho de reclamar indemnizacion\n",
        "prescribe en dos (2) anos contados a partir del dia siguiente a aquel en que se\n",
        "hubiera producido la lesion patrimonial o en su caso, a partir del momento que\n",
        "hubiesen cesado sus efectos lesivos, si fuesen de caracter continuo."
      ]
    },
    {
      "cell_type": "markdown",
      "metadata": {
        "id": "ZOEQ8VEjHZ2k"
      },
      "source": [
        "http://etimologias.dechile.net/?indemnizar"
      ]
    },
    {
      "cell_type": "markdown",
      "metadata": {
        "id": "E5PckfMqMOyp"
      },
      "source": [
        "## Responsabilidad Civil y patrimonial"
      ]
    },
    {
      "cell_type": "markdown",
      "metadata": {
        "id": "VHXJdb-iLYD9"
      },
      "source": [
        "### Funcionario que expide permisos para la venta de un producto, pero niega el permiso sin justificación alguna. Situación que ocasiona perjuicio en el patrimonio del ciudadano solicitante."
      ]
    },
    {
      "cell_type": "markdown",
      "metadata": {
        "id": "FFqrmJX1LaaP"
      },
      "source": [
        "En general el funcionario al actuar de forma anti-juridica, ha ocacionado unos daños al patrimonio del \"ciudadano solicitante\".\n",
        "\n",
        "En base a la Responsabilidad Civil el Estado a travéz de uan reparación que consiste en una indemnización por los daños  y perjuicios ocasionados principalmente por una actuación u omisión administrativa antijuridica."
      ]
    },
    {
      "cell_type": "markdown",
      "metadata": {
        "id": "-pRjuLZvLZm0"
      },
      "source": [
        "### En la realización de un paseo guiado a un museo.  El guía, Servidor público, al momento de brindar explicación, objeto se desprende y ocasiona una lesión a uno de los visitantes. "
      ]
    },
    {
      "cell_type": "markdown",
      "metadata": {
        "id": "wN8ylqBALa1L"
      },
      "source": [
        "En este caso no ha habido conducta antijurica y fueron daños derivados por eventos ajenos al ambito de la actuacion administrativa.\n",
        "\n",
        "Es posible que el caso proceda en base a otra ley. Pero este se escapa de responsabilidad administrativa."
      ]
    },
    {
      "cell_type": "markdown",
      "metadata": {
        "id": "ZCeNxLimlURk"
      },
      "source": [
        "## 5 Enfoque General"
      ]
    },
    {
      "cell_type": "markdown",
      "metadata": {
        "id": "GJtTASHUlYuv"
      },
      "source": [
        "[Ir](https://inapvirtual.edu.do/course/view.php?id=1484#section-5)"
      ]
    },
    {
      "cell_type": "markdown",
      "metadata": {
        "id": "lnOaOZpSlcYn"
      },
      "source": [
        "Observe el video explicativo del código de ética y comente sobre los beneficios de tener un código de ética en la institución donde usted sirve.\n",
        "\n",
        "[Video](https://youtu.be/7_1HAf9p0mQ)"
      ]
    }
  ]
}