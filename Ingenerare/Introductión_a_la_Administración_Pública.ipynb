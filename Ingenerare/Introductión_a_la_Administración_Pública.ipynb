{
  "nbformat": 4,
  "nbformat_minor": 0,
  "metadata": {
    "colab": {
      "name": " Introductión a la Administración Pública.ipynb",
      "provenance": [],
      "toc_visible": true,
      "authorship_tag": "ABX9TyM6SSp6BmmB1kDIGdsRT2wF",
      "include_colab_link": true
    },
    "kernelspec": {
      "name": "python3",
      "display_name": "Python 3"
    },
    "language_info": {
      "name": "python"
    }
  },
  "cells": [
    {
      "cell_type": "markdown",
      "metadata": {
        "id": "view-in-github",
        "colab_type": "text"
      },
      "source": [
        "<a href=\"https://colab.research.google.com/github/dbremont/Notas/blob/main/Ingenerare/Introducti%C3%B3n_a_la_Administraci%C3%B3n_P%C3%BAblica.ipynb\" target=\"_parent\"><img src=\"https://colab.research.google.com/assets/colab-badge.svg\" alt=\"Open In Colab\"/></a>"
      ]
    },
    {
      "cell_type": "markdown",
      "metadata": {
        "id": "q2QUBHmsFSjU"
      },
      "source": [
        "Introductión  a la Administración Pública"
      ]
    },
    {
      "cell_type": "markdown",
      "metadata": {
        "id": "mTBFS5XdFWqR"
      },
      "source": [
        "## 1 Nociones sobre la organización del Estado"
      ]
    },
    {
      "cell_type": "markdown",
      "metadata": {
        "id": "rR-nn55HFYEa"
      },
      "source": [
        "Objetivos Unidad:\n",
        "\n",
        "- Fines y propósitos del Estado,\n",
        "- la forma de organización del sector público y \n",
        "- sus leyes que le regulan.\n",
        "\n",
        "**Administración Pública**\n",
        "\n",
        "**Principios de la Administración Pública**\n",
        "\n",
        "**Órgano Individuo**\n",
        "\n",
        "**Organo Institucion**\n",
        "\n",
        "**Organo Constitucionales**\n",
        "\n",
        "**Administracion Publica Central**\n",
        "\n",
        "**Consejo de Ministros**\n"
      ]
    },
    {
      "cell_type": "markdown",
      "metadata": {
        "id": "qEG96_xlPdbe"
      },
      "source": [
        "**Que es el estado**\n",
        "\n",
        "Un Estado es una organización política constituida por un conjunto de instituciones burocráticas estables, a través de las cuales ejerce el monopolio del uso de la fuerza (soberanía) aplicada a una población dentro de unos límites territoriales establecidos.\n",
        "\n",
        "La republica dominicana es un estado unitario y en el presidente convergen **jefe de gobierno** y **jefe de estado**.\n",
        "\n",
        "**Que es el gobierno**\n",
        "\n",
        "Conjunto de personas que administran el estado por un determinado tiempo, en democracia estos son elegidos.\n",
        "\n",
        "Ejercen el poder político, estratégico, de dirección del Estado que la ciudadanía elige democráticamente mediante la elección del Presidente de la República, máxima autoridad del gobierno y que organiza a partir de su\n",
        "Gabinete Ministerial.\n",
        "\n",
        "**Que es el sector publico**\n",
        "\n",
        "Todas las instituciones, órganos, entes y demás formas de organización del Estado, es lo que conocemos con el Sector Público.\n",
        "\n",
        "**Administración publica**\n",
        "\n",
        "**Función administrativa**\n",
        "\n",
        "**principios de actuación de la función pública los siguientes**\n",
        "\n",
        "- Eficacia,\n",
        "- Jerarquia,\n",
        "- Objetividad,\n",
        "- Igualdad,\n",
        "- Transparencia,\n",
        "- Publicidad,\n",
        "- Economía (Eficencia),\n",
        "- Coordinación,\n",
        "- Juridicidad\n",
        " \n",
        "\n",
        "**Entidades, entes, organos y organismos del Estado**\n",
        "\n",
        "- **Ente**: podemos entender aquellas figuras orgánicas del Estado dominicano en las que se ha concretizado y que cuentan con personería jurídica, son titulares de competencias y prerrogativas públicas. Para la normativa dominicana se consideran “Entes públicos” el Estado, el Distrito Nacional, los municipios, los distritos municipales y los organismos autónomos y descentralizados provistos de personalidad jurídica de derecho público.\n",
        "\n",
        "- **Organos**,  a las   unidades administrativas habilitadas a ejercer en nombre de los entes públicos las compotencias que se les atribuyen.\n",
        "\n",
        "**Organismos e Instituciones**\n",
        "\n",
        "Por organismos e instituciones podemos entender a la razón social de derecho público que forma parte de la administración pública de gobierno central o del Estado, que bajo una organización administrativa ejercen una competencia de un ente del Estado de forma centralizada, descentralizada o autónoma.\n",
        "\n",
        "**Entidades autonomas**\n",
        "\n",
        "Organismos autónomos a aquellos que son dotados desde su concepción\n",
        "con total independencia administrativa, presupuestaria, de personería jurídica, jerárquica, territorial y con autoridad para la designación de sus propias autoridades.\n",
        "\n",
        "**Entidades centralizadas**\n",
        "\n",
        "**Entidades descentralizadas**\n",
        "\n",
        "**Tipos de descentralizacion administrativa**\n",
        "\n",
        "La descentralización administrativa constituye una forma de organización administrativa que conlleva la transferencia de competencias o funciones administrativa públicas a personas jurídicas públicas diferentes del Estado para que las ejerzan en su propio nombre y bajo su propia responsabilidad.\n",
        "\n",
        "- Descentralización territorial,\n",
        "- Descentralización funcional.\n",
        "\n",
        "\n",
        "**Desconcentracion Administrativa**\n",
        "\n",
        "Se refiere a la atribución de porciones de competencias a órganos inferiores, pero siempre dentro de la misma organización o ente estatal del que se trata. \n",
        "\n",
        "**La Función Pública**\n",
        "\n",
        "Figura jurídica en torno al cual interactúan el poder público representado en la autoridad delegada por la sociedad en su conjunto y quienes se vinculan al servicio bajo una sumisión jerárquica y de “dedicación exclusiva” para actuar en favor del interés general y que se conoce como la **Función Pública**.\n",
        "\n",
        "\n",
        "**Servidor  publico o funcionario**\n",
        "\n",
        "Para la ley de función pública, se considera servidor público aquella persona que ejerce un cargo permanente de la función pública, designado por autoridad competente.\n",
        "\n",
        "**Funcionarios o servidores publicos de libre nombramiento y remocion**\n",
        "\n",
        "Servidores públicos que ocupan Cargos de Alto Nivel.\n",
        "\n",
        "-  Secretarios de Estado\n",
        "-  Consultor Jurídico del Poder Ejecutivo, Contralor General\n",
        "de la República, y Procurador General de la República;\n",
        "- Directores Nacionales y Generales y Subdirectores;\n",
        "- etc .\n",
        "\n",
        "**Funcionarios o servidores publicos de carrera**\n",
        "\n",
        "La carrera administrativa es una condición o prerrogativa que se adquiere para ostentar cargos clasificados de carrera, mediante la participación y cumplimiento de los requisitos establecidos para los concursos públicos en las diferentes categorías que establece la ley de función pública y sus reglamentos correspondientes, y que superadas\n",
        "dichas pruebas e instrumentos de evaluación es nombrado por autoridad competente para desempeñar dicho cargo.\n",
        "\n",
        "**Funciono o servidores publicos de estatudo simplificado**\n",
        "\n",
        "Por funcionario o servidor público de estatuto simplificado se entiende a aquellos que\n",
        "desempeñan tareas de servicios generales y oficios afines tales como:\n",
        "\n",
        "- Concerjes, porterías, etc.\n",
        "\n",
        "**Empleados temporales**\n",
        "\n",
        "\n",
        "\n",
        "**Organos rectores de la administracion publica**\n",
        "\n",
        "La administración pública es una actividad muy regulada en la que los servidores públicos someten su disciplina para contribuir al cumplimiento de los fines públicos para el que fueron creadas las instituciones públicas.\n",
        "\n",
        "- Camara de Cuentas de la República Dominicana,\n",
        "\n",
        "- Contraloría General Republica (CGR),\n",
        "\n",
        "- Dirección General de Bienes Nacionales,\n",
        "\n",
        "- Dirección General de Contabilidad Gubernamental (DIGECOG),\n",
        "\n",
        "- Dirección General de Contrataciones Públicas (DGCP),\n",
        "\n",
        "- Dirección General de Crédito Publico,\n",
        "\n",
        "- Dirección General de Ética e Integridad Gubernamental (DIGEIG),\n",
        "\n",
        "- Dirección General de Presupuesto (DIGEPRES),\n",
        "\n",
        "- Instituto Nacional de Adminsitración Pública (INAP),\n",
        "\n",
        "- Oficina Presidencial de Tecnologicas y de la Información y Comunicación (OPTIC),\n",
        "\n",
        "- Ministerio de Adminsitracion Pública (MAP),\n",
        "\n",
        "- Ministerio de Economía, Planificación y Desarollo  (MEPyD),\n",
        "\n",
        "- Tesorería Nacional"
      ]
    },
    {
      "cell_type": "markdown",
      "metadata": {
        "id": "ag4RzV3hIySC"
      },
      "source": [
        "Significado de ser un servidor público?\n",
        "\n",
        "Ser funcionario publico significa, trabajar por y para los ciudadanos de un estado. Se tiene la responsabilidad de brindar  servicios de calidad para facilitar y no impedir el progreso de los ciudadanos/pais.\n",
        "\n",
        "De los funcionarios publicos se espera que no sean el punto de atasco en la vida de los ciudadanos.\n",
        "\n",
        "\n",
        "\n",
        "- Es una dependencia del Poder Ejecutivo creada con la finalidad de  ejercer la fiscalización interna y la evaluación del  debido recaudo, manejo, uso e inversión de los recursos:\n",
        "\n",
        "rocura salvaguardar lasprerrogativas e impedir el abuso de poder, así como la inobservancia al régimen de deberes y responsabilidades ante las instancias jurisdiccionales correspondientes:\n",
        "  - Tutele judicial,\n",
        "  - "
      ]
    }
  ]
}