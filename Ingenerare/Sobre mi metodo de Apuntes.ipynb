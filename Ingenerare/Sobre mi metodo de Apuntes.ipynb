{
  "nbformat": 4,
  "nbformat_minor": 0,
  "metadata": {
    "colab": {
      "name": "Sobre mi metodo de Apuntes.ipynb",
      "provenance": [],
      "authorship_tag": "ABX9TyNdAcaQ53n5f52cd3VLxsdd",
      "include_colab_link": true
    },
    "kernelspec": {
      "name": "python3",
      "display_name": "Python 3"
    },
    "language_info": {
      "name": "python"
    }
  },
  "cells": [
    {
      "cell_type": "markdown",
      "metadata": {
        "id": "view-in-github",
        "colab_type": "text"
      },
      "source": [
        "<a href=\"https://colab.research.google.com/github/dbremont/Notas/blob/main/Ingenerare/Sobre%20mi%20metodo%20de%20Apuntes.ipynb\" target=\"_parent\"><img src=\"https://colab.research.google.com/assets/colab-badge.svg\" alt=\"Open In Colab\"/></a>"
      ]
    },
    {
      "cell_type": "markdown",
      "metadata": {
        "id": "o1vbPxUSzQxi"
      },
      "source": [
        "- Sobre mi metodo de Apuntes"
      ]
    }
  ]
}