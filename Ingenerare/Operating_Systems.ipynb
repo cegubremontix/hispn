{
  "nbformat": 4,
  "nbformat_minor": 0,
  "metadata": {
    "colab": {
      "name": "Operating Systems.ipynb",
      "provenance": [],
      "include_colab_link": true
    },
    "kernelspec": {
      "name": "python3",
      "display_name": "Python 3"
    },
    "language_info": {
      "name": "python"
    }
  },
  "cells": [
    {
      "cell_type": "markdown",
      "metadata": {
        "id": "view-in-github",
        "colab_type": "text"
      },
      "source": [
        "<a href=\"https://colab.research.google.com/github/dbremont/Notas/blob/main/Ingenerare/Operating_Systems.ipynb\" target=\"_parent\"><img src=\"https://colab.research.google.com/assets/colab-badge.svg\" alt=\"Open In Colab\"/></a>"
      ]
    },
    {
      "cell_type": "markdown",
      "metadata": {
        "id": "UfFM64gicINH"
      },
      "source": [
        "## Primario\n",
        "\n"
      ]
    },
    {
      "cell_type": "markdown",
      "metadata": {
        "id": "Elz31sjbpwAe"
      },
      "source": [
        "[Developing a Multithreaded Kernel From Scratch!](https://www.udemy.com/course/developing-a-multithreaded-kernel-from-scratch/learn/lecture/23966854?start=0#overview)\n",
        "\n",
        "[ CS 4414-001 – Operating Systems](https://www.cs.virginia.edu/~cr4bd/4414/S2021/)\n",
        "\n",
        "[6.828 Operating System Engineering](https://pdos.csail.mit.edu/6.828/2020/)"
      ]
    },
    {
      "cell_type": "markdown",
      "metadata": {
        "id": "5Tb0UxfccMKs"
      },
      "source": [
        "## Secundario"
      ]
    },
    {
      "cell_type": "markdown",
      "metadata": {
        "id": "vT8dtqytcNa6"
      },
      "source": [
        "[Lecture Notes on Operating Systems](https://www.cse.iitb.ac.in/~mythili/os/)\n",
        "\n",
        "[Introduction to Operating Systems](https://classroom.udacity.com/courses/ud923)\n",
        "\n",
        "[Advanced Operating Systems](https://classroom.udacity.com/courses/ud189)\n",
        "\n",
        "[CS 111: Operating Systems Principles](https://web.stanford.edu/~ouster/cs111-spring21/)\n",
        "\n",
        "[ECE 350 - Real-time Operating Systems](https://www.youtube.com/playlist?list=PL-zHubGth7-RyfTv97pBbu1Y9RngQXh9y)"
      ]
    },
    {
      "cell_type": "markdown",
      "metadata": {
        "id": "f3MucbhgcE09"
      },
      "source": [
        "## Topicos"
      ]
    },
    {
      "cell_type": "markdown",
      "metadata": {
        "id": "m65aP7lHcGAW"
      },
      "source": [
        "1. What are OSes? / Logistics \n",
        "2. Multiprogramming and Dual-Mode Operation\n",
        "3. Monolithic Kernels, the Unix API 1 \n",
        "4. The Unix API 2 \n",
        "5. Scheduling 1\n",
        "6. Scheduling 2\n",
        "7. Scheduling 3 / Threads\n",
        "8. Threads 2 / Synchronization 1: Locks 1\n",
        "9. Synchronization 2: Locks 2, Mutexes\n",
        "10. Synchronization 3: Semaphores and Monitors \n",
        "11. Synchronization 4: Monitors continued / Reader+Writer Locks / Deadlock\n",
        "12. Synchronization 5\n",
        "13. Virtual Memory 1\n",
        "14. Virtual Memory 2: mmap, page cache\n",
        "15. Virtual Memory 3: Page Replacement\n",
        "16. Virtual 4 / I/O\n",
        "17. I/O 2 / Filesystems 1\n",
        "18. Filesystems 2\n",
        "19. Filesystems 3\n",
        "20. Filesystems 4 / Distributed Systems 0 \n",
        "21. Sockets / Distributed Systems 1\n",
        "22. Distributed Systems 2: RPC / Network filesystems\n",
        "23. Distributed Systems 3: Failure\n",
        "24. Access Control\n",
        "25. Virtual Machines"
      ]
    }
  ]
}