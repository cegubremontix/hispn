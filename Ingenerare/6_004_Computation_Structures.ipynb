{
  "nbformat": 4,
  "nbformat_minor": 0,
  "metadata": {
    "colab": {
      "name": "6.004 Computation Structures.ipynb",
      "provenance": [],
      "authorship_tag": "ABX9TyNrAgk0bpgW5/lLNlgJIDu/",
      "include_colab_link": true
    },
    "kernelspec": {
      "name": "python3",
      "display_name": "Python 3"
    },
    "language_info": {
      "name": "python"
    }
  },
  "cells": [
    {
      "cell_type": "markdown",
      "metadata": {
        "id": "view-in-github",
        "colab_type": "text"
      },
      "source": [
        "<a href=\"https://colab.research.google.com/github/dbremont/Notas/blob/main/Ingenerare/6_004_Computation_Structures.ipynb\" target=\"_parent\"><img src=\"https://colab.research.google.com/assets/colab-badge.svg\" alt=\"Open In Colab\"/></a>"
      ]
    },
    {
      "cell_type": "markdown",
      "metadata": {
        "id": "YKlCvct4WA_O"
      },
      "source": [
        "## Primario"
      ]
    },
    {
      "cell_type": "markdown",
      "metadata": {
        "id": "Elz31sjbpwAe"
      },
      "source": [
        "* [6.004 Computation Structures](https://ocw.mit.edu/courses/electrical-engineering-and-computer-science/6-004-computation-structures-spring-2017/)\n",
        "\n",
        "* [Computation Structures Book](https://computationstructures.org/) \n",
        "\n",
        "* [Performance Engineering of Software Systems](https://ocw.mit.edu/courses/electrical-engineering-and-computer-science/6-172-performance-engineering-of-software-systems-fall-2018/)"
      ]
    },
    {
      "cell_type": "markdown",
      "metadata": {
        "id": "KgZ5ptgUWAQn"
      },
      "source": [
        "## Adicional"
      ]
    },
    {
      "cell_type": "markdown",
      "metadata": {
        "id": "lu-Qk7YiV68r"
      },
      "source": [
        "* [The Computing Technology Inside Your Smartphone](https://learning.edx.org/course/course-v1:CornellX+ENGRI1210x+2T2016/home)\n",
        "\n",
        "* [Understanding Modern Electronics](https://www.thegreatcourses.com/player/Video/1162)\n",
        "\n",
        "* [High Performance Computing](https://www.udacity.com/course/high-performance-computing--ud281)\n",
        "\n",
        "* [Computer Architecture](https://www.coursera.org/learn/comparch)"
      ]
    }
  ]
}