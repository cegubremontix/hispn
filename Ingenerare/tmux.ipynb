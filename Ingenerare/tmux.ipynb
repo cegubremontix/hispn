{
  "nbformat": 4,
  "nbformat_minor": 0,
  "metadata": {
    "colab": {
      "name": "tmux.ipynb",
      "provenance": [],
      "include_colab_link": true
    },
    "kernelspec": {
      "name": "python3",
      "display_name": "Python 3"
    },
    "language_info": {
      "name": "python"
    }
  },
  "cells": [
    {
      "cell_type": "markdown",
      "metadata": {
        "id": "view-in-github",
        "colab_type": "text"
      },
      "source": [
        "<a href=\"https://colab.research.google.com/github/dbremont/Notas/blob/main/Ingenerare/tmux.ipynb\" target=\"_parent\"><img src=\"https://colab.research.google.com/assets/colab-badge.svg\" alt=\"Open In Colab\"/></a>"
      ]
    },
    {
      "cell_type": "markdown",
      "metadata": {
        "id": "29WN49pVXj_F"
      },
      "source": [
        "- tmux\n",
        "\n",
        "- **tmux**:  ctlr  + b + q -> shows numbers of panels, and if you press the panel, that panel become the focus panel."
      ]
    },
    {
      "cell_type": "markdown",
      "metadata": {
        "id": "YEBbLzuCX2Gg"
      },
      "source": [
        "- [Making tmux Pretty and Usable - A Guide to Customizing your tmux.conf](https://www.hamvocke.com/blog/a-guide-to-customizing-your-tmux-conf/)\n",
        "\n",
        "- [Command-line Environment](https://missing.csail.mit.edu/2020/command-line/)\n",
        "\n",
        "- [tmux Getting Started](https://github.com/tmux/tmux/wiki/Getting-Started)\n",
        "\n",
        "- [tmux source code](https://github.com/tmux)\n",
        "\n",
        "- [Terminal Multiplexers](http://linuxcommand.org/lc3_adv_termmux.php)\n",
        "\n",
        "- [A Quick and Easy Guide to tmux](https://www.hamvocke.com/blog/a-quick-and-easy-guide-to-tmux/)\n",
        "\n",
        "- [How do I scroll in tmux?](https://superuser.com/questions/209437/how-do-i-scroll-in-tmux)\n",
        "\n",
        "- [True reloading of tmux config?](https://unix.stackexchange.com/questions/373409/true-reloading-of-tmux-config) \n",
        "\n",
        "- [10 practical examples of tmux configuration with example](https://www.golinuxcloud.com/tmux-config/)\n",
        "\n",
        "- [base16 color theme for tmux](https://github.com/mattdavis90/base16-tmux)\n",
        "\n",
        "- [tmux FAQ](https://github.com/tmux/tmux/wiki/FAQ)\n",
        "\n",
        "- TMUX\n",
        "  - SESSIONS : a session is an independent workspace with one or more windows\n",
        "  - WINDOWS : Equivalent to tabs in editors or browsers, they are visually separate parts of the same session\n",
        "  - Panes : Like vim splits, panes let you have multiple shells in the same visual display.\n",
        "\n",
        "- [Tactical tmux: The 10 Most Important Commands](https://danielmiessler.com/study/tmux/)\n",
        "\n",
        "- [\"Maximizing\" a pane in tmux](https://superuser.com/questions/238702/maximizing-a-pane-in-tmux)\n",
        "\n",
        "- [How do I scroll in tmux?](https://superuser.com/questions/209437/how-do-i-scroll-in-tmux)\n",
        "\n",
        "- [A Quick and Easy Guide to tmux](https://www.hamvocke.com/blog/a-quick-and-easy-guide-to-tmux/)\n",
        "\n",
        "- [How can I search within the output buffer of a tmux shell?](https://superuser.com/questions/231002/how-can-i-search-within-the-output-buffer-of-a-tmux-shell)\n",
        "\n",
        "- [What is a \"buffer\" in VIM?](https://stackoverflow.com/questions/9962201/what-is-a-buffer-in-vim)"
      ]
    },
    {
      "cell_type": "markdown",
      "metadata": {
        "id": "1c3CzjMiTXBl"
      },
      "source": [
        "dotfiles\n",
        "\n",
        "- [jonhoo](https://github.com/jonhoo/configs/blob/master/shell/.tmux.conf)\n",
        "- [anishathalye](https://github.com/anishathalye/dotfiles/blob/master/tmux.conf)"
      ]
    },
    {
      "cell_type": "markdown",
      "metadata": {
        "id": "9sBXk6asjQRq"
      },
      "source": [
        "tmux concepts:\n",
        "\n",
        "- panes\n",
        "- screens\n",
        "- sessions\n",
        "- windows\n",
        "- buffer\n",
        "\n",
        "- **Gnu Screen** as the antecesor to **tmux**\n",
        "\n",
        "tmux configuracion\n",
        "- chaging colors\n",
        "- binding / unbinding keys\n",
        "- pair programming with tmux\n",
        "- ...\n",
        "- read the tmux book and play with the configuracion file\n",
        "- vi mode in tmux ...\n",
        "- searching on tmux ...\n",
        "- "
      ]
    }
  ]
}