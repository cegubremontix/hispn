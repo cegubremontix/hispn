{
  "nbformat": 4,
  "nbformat_minor": 0,
  "metadata": {
    "colab": {
      "name": "tmux.ipynb",
      "provenance": [],
      "toc_visible": true,
      "include_colab_link": true
    },
    "kernelspec": {
      "name": "python3",
      "display_name": "Python 3"
    },
    "language_info": {
      "name": "python"
    }
  },
  "cells": [
    {
      "cell_type": "markdown",
      "metadata": {
        "id": "view-in-github",
        "colab_type": "text"
      },
      "source": [
        "<a href=\"https://colab.research.google.com/github/dbremont/Notas/blob/main/Ingenerare/tmux.ipynb\" target=\"_parent\"><img src=\"https://colab.research.google.com/assets/colab-badge.svg\" alt=\"Open In Colab\"/></a>"
      ]
    },
    {
      "cell_type": "markdown",
      "metadata": {
        "id": "29WN49pVXj_F"
      },
      "source": [
        "[Getting Started](https://github.com/tmux/tmux/wiki/Getting-Started)\n",
        "\n",
        "[FAQ](https://github.com/tmux/tmux/wiki/FAQ)\n",
        "\n",
        "[Source](https://github.com/tmux)"
      ]
    },
    {
      "cell_type": "markdown",
      "metadata": {
        "id": "YEBbLzuCX2Gg"
      },
      "source": [
        "[Command-line Environment](https://missing.csail.mit.edu/2020/command-line/)\n",
        "\n",
        "[Terminal Multiplexers](http://linuxcommand.org/lc3_adv_termmux.php)\n",
        "\n",
        "[A Quick and Easy Guide to tmux](https://www.hamvocke.com/blog/a-quick-and-easy-guide-to-tmux/)\n",
        "\n",
        "[Making tmux Pretty and Usable A Guide to Customizing your tmux.conf](https://www.hamvocke.com/blog/a-guide-to-customizing-your-tmux-conf/)\n",
        "\n",
        "[Tactical tmux: The 10 Most Important Commands](https://danielmiessler.com/study/tmux/)\n",
        "\n",
        "[Doug Bell \"Organized Development With tmux\"](https://www.youtube.com/watch?v=o7Dg1kmjhfQ)\n",
        "\n",
        "**dotfiles**\n",
        "\n",
        "- [jonhoo](https://github.com/jonhoo/configs/blob/master/shell/.tmux.conf)\n",
        "- [anishathalye](https://github.com/anishathalye/dotfiles/blob/master/tmux.conf)"
      ]
    },
    {
      "cell_type": "markdown",
      "metadata": {
        "id": "CapXxZJUO4ui"
      },
      "source": [
        "## Terminal Multiplexers"
      ]
    },
    {
      "cell_type": "markdown",
      "metadata": {
        "id": "p0xfFsMbO5x7"
      },
      "source": [
        "When using the command line interface you will often want to run more than one thing at once. For instance, you might want to run your editor and your program side by side. Although this can be achieved by opening new terminal windows, using a terminal multiplexer is a more versatile solution.\n",
        "\n",
        "Terminal multiplexers like [tmux](https://www.man7.org/linux/man-pages/man1/tmux.1.html) allow you to multiplex terminal windows using panes and tabs so you can interact with multiple shell sessions. Moreover, terminal multiplexers let you detach a current terminal session and reattach at some point later in time. This can make your workflow much better when working with remote machines since it avoids the need to use nohup and similar tricks.\n",
        "\n",
        "The most popular terminal multiplexer these days is [tmux]((https://www.man7.org/linux/man-pages/man1/tmux.1.html). tmux is highly configurable and by using the associated keybindings you can create multiple tabs and panes and quickly navigate through them.\n",
        "\n",
        "tmux expects you to know its keybindings, and they all have the form <C-b> x where that means (1) press Ctrl+b, (2) release Ctrl+b, and then (3) press x. tmux has the following hierarchy of objects:\n"
      ]
    },
    {
      "cell_type": "markdown",
      "metadata": {
        "id": "LHxuKcjFSBxT"
      },
      "source": [
        "### Basic"
      ]
    },
    {
      "cell_type": "markdown",
      "metadata": {
        "id": "ejvOn602SC1c"
      },
      "source": [
        "- ```<C-b>?``` :  get help.\n",
        "- ```tmux show-options -g``` : get list of global options.\n",
        "- ```tmux show-options -w```: To get the list of window options.\n",
        "- ```tmux show-options -s```: To get the list of server options.\n"
      ]
    },
    {
      "cell_type": "markdown",
      "metadata": {
        "id": "CajHuzwyPPhA"
      },
      "source": [
        "### Sessions"
      ]
    },
    {
      "cell_type": "markdown",
      "metadata": {
        "id": "J2NcgaEJPQnt"
      },
      "source": [
        "A session is an independent workspace with one or more windows:\n",
        "\n",
        "- ```tmux``` starts a new session.\n",
        "- ```tmux new -s NAME``` starts it with that name.\n",
        "- ```tmux ls``` lists the current sessions\n",
        "- ```Within tmux typing <C-b> d``` detaches the current session\n",
        "- ```tmux``` a attaches the last session. You can use ```-t``` flag to specify which"
      ]
    },
    {
      "cell_type": "markdown",
      "metadata": {
        "id": "X97L6KYWPecK"
      },
      "source": [
        "### Windows"
      ]
    },
    {
      "cell_type": "markdown",
      "metadata": {
        "id": "OquHUfWdPgVk"
      },
      "source": [
        "Equivalent to tabs in editors or browsers, they are visually separate parts of the same session.\n",
        "\n",
        "- ```<C-b> c``` Creates a new window. To close it you can just terminate the shells doing ```<C-d>```\n",
        "- ```<C-b> N``` Go to the N th window. Note they are numbered\n",
        "- ```<C-b> p``` Goes to the previous window\n",
        "- ```<C-b> n``` Goes to the next window\n",
        "- ```<C-b> ,``` Rename the current window\n",
        "- ```<C-b> w``` List current windows"
      ]
    },
    {
      "cell_type": "markdown",
      "metadata": {
        "id": "BtDGanm6Pzad"
      },
      "source": [
        "### Panes"
      ]
    },
    {
      "cell_type": "markdown",
      "metadata": {
        "id": "fp3khsPnP20t"
      },
      "source": [
        "Panes - Like vim splits, panes let you have multiple shells in the same visual display.\n",
        "\n",
        "- ```<C-b> \"``` Split the current pane horizontally\n",
        "\n",
        "- ```<C-b> %``` Split the current pane vertically\n",
        "\n",
        "- ```<C-b> <direction>``` Move to the pane in the specified direction. Direction here means arrow keys.\n",
        "\n",
        "- ```<C-b> z``` Toggle zoom for the current pane\n",
        "\n",
        "- ```<C-b>``` [ Start scrollback. You can then press ```<space>``` to start a selection and <enter> to copy that selection.\n",
        "\n",
        "- ```<C-b> <space>``` Cycle through pane arrangements.\n",
        "\n",
        "- ```<C-b> q``` Go to ```n``` pane, note that they are numbered."
      ]
    },
    {
      "cell_type": "markdown",
      "metadata": {
        "id": "nMoAJE4ETzq0"
      },
      "source": [
        "## Practicar"
      ]
    },
    {
      "cell_type": "markdown",
      "metadata": {
        "id": "lqEOzyEqT12O"
      },
      "source": [
        "- Cambiar de paneles con las teclas vim\n",
        "- Abrir paneles\n",
        "- vim mode"
      ]
    },
    {
      "cell_type": "markdown",
      "metadata": {
        "id": "HjTcNB0NTlDk"
      },
      "source": [
        "## How To's"
      ]
    },
    {
      "cell_type": "markdown",
      "metadata": {
        "id": "OGsMN1ZaTnYo"
      },
      "source": [
        "[How do I scroll in tmux?](https://superuser.com/questions/209437/how-do-i-scroll-in-tmux)\n",
        "\n",
        "[True reloading of tmux config?](https://unix.stackexchange.com/questions/373409/true-reloading-of-tmux-config) \n",
        "\n",
        "[\"Maximizing\" a pane in tmux](https://superuser.com/questions/238702/maximizing-a-pane-in-tmux)\n",
        "\n",
        "[How do I scroll in tmux?](https://superuser.com/questions/209437/how-do-i-scroll-in-tmux)\n",
        "\n",
        "[How can I search within the output buffer of a tmux shell?](https://superuser.com/questions/231002/how-can-i-search-within-the-output-buffer-of-a-tmux-shell)\n",
        "\n",
        "[What is a \"buffer\" in VIM?](https://stackoverflow.com/questions/9962201/what-is-a-buffer-in-vim)"
      ]
    }
  ]
}