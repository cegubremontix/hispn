{
  "nbformat": 4,
  "nbformat_minor": 0,
  "metadata": {
    "colab": {
      "name": "Virtual Machines.ipynb",
      "provenance": [],
      "authorship_tag": "ABX9TyO6W2RypCTk4rR0vJo0+Aie",
      "include_colab_link": true
    },
    "kernelspec": {
      "name": "python3",
      "display_name": "Python 3"
    },
    "language_info": {
      "name": "python"
    }
  },
  "cells": [
    {
      "cell_type": "markdown",
      "metadata": {
        "id": "view-in-github",
        "colab_type": "text"
      },
      "source": [
        "<a href=\"https://colab.research.google.com/github/dbremont/Notas/blob/main/Ingenerare/Virtual_Machines.ipynb\" target=\"_parent\"><img src=\"https://colab.research.google.com/assets/colab-badge.svg\" alt=\"Open In Colab\"/></a>"
      ]
    },
    {
      "cell_type": "markdown",
      "metadata": {
        "id": "Elz31sjbpwAe"
      },
      "source": [
        "* [A minimal Smalltalk for teaching of and research on Virtual Machines](https://som-st.github.io/)\n",
        "\n",
        "* [UCB CS294-113: Virtual Machines and Managed Runtimes](http://www.wolczko.com/CS294/)\n",
        "\n",
        "* [Design and Implementation of Object-Oriented Virtual Machines](https://web.archive.org/web/20080305035237/http://www.daimi.au.dk/~ups/OOVM/)\n",
        "\n",
        "* [CS842 Virtual Machines for Dynamic Languages](http://the.gregor.institute/t/5k/842/)"
      ]
    }
  ]
}