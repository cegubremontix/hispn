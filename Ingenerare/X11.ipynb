{
  "nbformat": 4,
  "nbformat_minor": 0,
  "metadata": {
    "colab": {
      "name": "Ingenerare/X11.ipynb",
      "provenance": [],
      "authorship_tag": "ABX9TyN4srXEGjWEC1LbAsYm+lxy",
      "include_colab_link": true
    },
    "kernelspec": {
      "name": "python3",
      "display_name": "Python 3"
    },
    "language_info": {
      "name": "python"
    }
  },
  "cells": [
    {
      "cell_type": "markdown",
      "metadata": {
        "id": "view-in-github",
        "colab_type": "text"
      },
      "source": [
        "<a href=\"https://colab.research.google.com/github/dbremont/Notas/blob/main/Ingenerare/X11.ipynb\" target=\"_parent\"><img src=\"https://colab.research.google.com/assets/colab-badge.svg\" alt=\"Open In Colab\"/></a>"
      ]
    },
    {
      "cell_type": "markdown",
      "metadata": {
        "id": "1xsPC1oAaFBL"
      },
      "source": [
        "[xdotool](https://www.semicomplete.com/projects/xdotool/)\n",
        "\n",
        "xrandr\n",
        "\n",
        "xclip\n",
        "\n",
        "wmctrl"
      ]
    },
    {
      "cell_type": "markdown",
      "metadata": {
        "id": "2yz35_7P43xN"
      },
      "source": [
        "[X.Org Server - Wikipedia -  ](https://en.wikipedia.org/wiki/X.Org_Server)\n",
        "\n",
        "https://en.wikipedia.org/wiki/X_Window_System\n",
        "\n",
        "https://en.wikipedia.org/wiki/Xmonad\n",
        "\n",
        "https://en.wikipedia.org/wiki/Comparison_of_X_window_managers\n",
        "\n",
        "https://wiki.haskell.org/Xmonad/Using_xmonad_in_Gnome\n",
        "\n",
        "https://en.wikipedia.org/wiki/X_Window_System\n",
        "\n",
        "https://en.wikipedia.org/wiki/X_session_manager\n",
        "\n",
        "[evdev - Wikipedia -  ](https://en.wikipedia.org/wiki/Evdev)\n",
        "\n",
        "[Kevin Boone: Using the Linux framebuffer in C/C++ -- just the essentials -  ](https://kevinboone.me/linuxfbc.html?i=1)\n",
        "\n",
        "[kevinboone/fbclock: A direct-to-framebuffer analogue clock display, for embedded Linux applications -  ](https://github.com/kevinboone/fbclock)\n",
        "\n",
        "[dranga/GOL-framebuffer: Conway's Game of Life implemented with the Linux framebuffer](https://github.com/dranga/GOL-framebuffer)\n",
        "\n",
        "[BetterOS.org : an attempt to make computer machines run better -  ](http://betteros.org/tut/graphics1.php)\n",
        "\n",
        "[Windowing system - Wikipedia -  ](https://en.wikipedia.org/wiki/Windowing_system#Display_server)\n",
        "\n",
        "[freedesktop/xorg-xserver: X server -  ](https://github.com/freedesktop/xorg-xserver)"
      ]
    }
  ]
}