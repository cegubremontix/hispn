{
  "nbformat": 4,
  "nbformat_minor": 0,
  "metadata": {
    "colab": {
      "name": "Soft Skills.ipynb",
      "provenance": [],
      "collapsed_sections": [],
      "toc_visible": true,
      "authorship_tag": "ABX9TyOvMr94NOMWh/4fB/z01Wad",
      "include_colab_link": true
    },
    "kernelspec": {
      "name": "python3",
      "display_name": "Python 3"
    },
    "language_info": {
      "name": "python"
    }
  },
  "cells": [
    {
      "cell_type": "markdown",
      "metadata": {
        "id": "view-in-github",
        "colab_type": "text"
      },
      "source": [
        "<a href=\"https://colab.research.google.com/github/dbremont/Notas/blob/main/Ingenerare/Soft%20Skills.ipynb\" target=\"_parent\"><img src=\"https://colab.research.google.com/assets/colab-badge.svg\" alt=\"Open In Colab\"/></a>"
      ]
    },
    {
      "cell_type": "markdown",
      "metadata": {
        "id": "j2emROHVFEVY"
      },
      "source": [
        "## Learning"
      ]
    },
    {
      "cell_type": "markdown",
      "metadata": {
        "id": "d8GCLEvWFFZ9"
      },
      "source": [
        "* (D) [How to read a research paper](http://0.0.0.0:8000/6%20Otros/Articulos/How%20to%20read%20a%20research%20paper.pdf)\n",
        "\n",
        "* (D) [Efficient Reading of Papers in Science and Technology](http://0.0.0.0:8000/6%20Otros/Articulos/Efficient%20Reading%20of%20Papers%20in%20Science%20and%20Technology.pdf)\n",
        "\n",
        "* [The Feynman Technique: The Best Way to Learn Anything](https://fs.blog/2012/04/feynman-technique/)\n",
        "\n",
        "* [How to remember what you learn](https://vasilishynkarenka.com/learning/)\n",
        "\n",
        "* [Using spaced repetition systems to see through a piece of mathematics](http://cognitivemedium.com/srs-mathematics) \n",
        "\n",
        "* [How to take smart notes](https://www.lesswrong.com/posts/T382CLwAjsy3fmecf/how-to-take-smart-section-ahrens-2017)\n",
        "\n",
        "\n",
        "* [The Polymath Playbook](https://salman.io/posts/polymath-playbook/)\n",
        "\n",
        "* [Why Tacit Knowledge is More Important Than Deliberate Practice](https://commoncog.com/blog/tacit-knowledge-is-a-real-thing/)\n",
        "\n",
        "* [Recognizing vs Generating](https://mlu.red/52622266310.html)\n",
        "\n",
        "\n",
        "* [The Role of Deliberate Practice in the Acquisition of Expert Performance](https://mrbartonmaths.com/resourcesnew/8.%20Research/Explicit%20Instruction/Deliberate%20Practice.PDF)\n",
        "\n",
        "* [How to Memorize Faster With The Spaced Repetition Learning Technique](https://productive.fish/blog/spaced-repetition/)\n",
        "\n",
        "* [The Complete Guide to Effective Reading](https://maartenvandoorn.nl/reading-guide/)\n",
        "\n",
        "* (D)[Introduction into Luhmanns Zettelkasten](http://0.0.0.0:8000/6%20Otros/Articulos/Introduction%20into%20Luhmanns%20Zettelkasten.pdf)"
      ]
    },
    {
      "cell_type": "markdown",
      "metadata": {
        "id": "xueElEJAFRFm"
      },
      "source": [
        "## Productividad"
      ]
    },
    {
      "cell_type": "markdown",
      "metadata": {
        "id": "5ooJx-t6FTKs"
      },
      "source": [
        "* [Get started with 2-minute rule](https://hoanhan.co/2-minute-rule) \n",
        "\n",
        "* [Time Management](https://www.cs.utexas.edu/users/dahlin/bookshelf/timetalk.htm)\n",
        "\n",
        "* [The Art of Automation](https://blog.jessfraz.com/post/the-art-of-automation/)\n",
        "\n",
        "* [How to finish your side project](https://hugozap.com/posts/how-to-finish-your-side-project/)\n",
        "\n",
        "* [Start with pen and paper](https://sethetter.com/posts/start-with-pen-and-paper/)\n",
        "\n",
        "* [How to stop procrastinating by using the Fogg Behavior Model](https://www.deprocrastination.co/blog/how-to-stop-procrastinating-by-using-the-fogg-behavior-model)\n",
        "\n",
        "* [Time Management Strategies](https://www.focalityapp.com/en/resources/time-management-strategies/)\n",
        "\n",
        "* [The Personal Analytics of My Life](https://writings.stephenwolfram.com/2012/03/the-personal-analytics-of-my-life/)\n",
        "\n",
        "* [Work habits - Brian Kihoon Lee](https://www.moderndescartes.com/essays/work_habits/)\n",
        "\n",
        "* [todo.txt.system.productivity.txt](https://colab.research.google.com/drive/1m5mYVwK5k9o73DOVERIgdLVdvDJujMCb)"
      ]
    }
  ]
}