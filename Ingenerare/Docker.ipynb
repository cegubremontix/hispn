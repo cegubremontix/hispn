{
  "nbformat": 4,
  "nbformat_minor": 0,
  "metadata": {
    "colab": {
      "name": "Docker.ipynb",
      "provenance": [],
      "authorship_tag": "ABX9TyPcG+dwb61C0W9Iaq+a3aC0",
      "include_colab_link": true
    },
    "kernelspec": {
      "name": "python3",
      "display_name": "Python 3"
    },
    "language_info": {
      "name": "python"
    }
  },
  "cells": [
    {
      "cell_type": "markdown",
      "metadata": {
        "id": "view-in-github",
        "colab_type": "text"
      },
      "source": [
        "<a href=\"https://colab.research.google.com/github/dbremont/Notas/blob/main/Ingenerare/Docker.ipynb\" target=\"_parent\"><img src=\"https://colab.research.google.com/assets/colab-badge.svg\" alt=\"Open In Colab\"/></a>"
      ]
    },
    {
      "cell_type": "markdown",
      "metadata": {
        "id": "56s_QMKFQB7_"
      },
      "source": [
        "Fundamentos\n",
        " - En base a que sistemas se implementa docker hardware / software. (usar bocker como ejemplo)\n",
        " - Que problemas resuelve docker\n",
        " - Pros y Const de Docker\n",
        "\n",
        "Uso\n",
        " \n",
        "- Crear una imagen de docker\n",
        "- Interacción de imagenes docker con los recursos del ordenador red / disco duro, etc.\n",
        "- ..."
      ]
    },
    {
      "cell_type": "markdown",
      "metadata": {
        "id": "TIlzeViAj6tj"
      },
      "source": [
        "[docker](https://www.docker.com/)\n",
        "\n",
        "[vagrant](https://www.vagrantup.com/)\n",
        "\n",
        "[bocker](https://github.com/p8952/bocker)\n"
      ]
    },
    {
      "cell_type": "markdown",
      "metadata": {
        "id": "KIunhWisVzKe"
      },
      "source": [
        "[Analysis of Docker Security](https://arxiv.org/pdf/1501.02967.pdf)\n",
        "\n",
        "[Challenges in Docker Development: A Large-scale Study Using Stack Overflow](https://arxiv.org/pdf/2008.04467.pdf)\n",
        "\n",
        "[Automatic Observability for Dockerized Java Applications](https://arxiv.org/pdf/1912.06914.pdf)\n",
        "\n",
        "[Towards a Formal Model for Composable Container Systems](https://arxiv.org/pdf/1912.01107.pdf)\n",
        "\n",
        "[A Code Injection Method for Rapid Docker Image Building](https://arxiv.org/pdf/1911.07444.pdf)\n",
        "\n",
        "[Observability and Chaos Engineering on System Calls for Containerized Applications in Docker](https://arxiv.org/pdf/1907.13039.pdf)\n",
        "\n",
        "[DockerizeMe: Automatic Inference of Environment Dependencies for Python Code Snippets](https://arxiv.org/pdf/1905.11127.pdf)\n",
        "\n",
        "[Dockerization Impacts in Database Performance Benchmarking](https://arxiv.org/pdf/1812.04362.pdf)\n",
        "\n",
        "[Data Analytics Service Composition and Deployment on Edge Devices](https://arxiv.org/pdf/1805.05995.pdf)"
      ]
    },
    {
      "cell_type": "markdown",
      "metadata": {
        "id": "3BwTLNI2hb2q"
      },
      "source": [
        "[New zine: How Containers Work!](https://jvns.ca/blog/2020/04/27/new-zine-how-containers-work/)\n",
        "\n",
        "[File Permissions: the painful side of Docker](https://blog.gougousis.net/file-permissions-the-painful-side-of-docker/)\n",
        "\n",
        "[Docker and the host filesystem owner matching problem](https://www.joyfulbikeshedding.com/blog/2021-03-15-docker-and-the-host-filesystem-owner-matching-problem.html)\n",
        "\n",
        "[Using LDAP in Docker with caching](https://dev.l1x.be/posts/2021/03/22/using-ldap-in-docker-with-caching/)\n",
        "\n",
        "[A Concise Docker Quick Start Guide for Beginners: Part One](https://blog.manimuridi.com/2020/09/28/a-concise-docker-quick-start-guide-for-beginners-part-one/)\n",
        "\n",
        "[Docker is dead. Long live the Unikernel](https://hackernoon.com/docker-is-dead-long-live-the-unikernel-2yn3zdr)\n",
        "\n",
        "[How to clean your Docker data](https://dockerwebdev.com/tutorials/clean-up-docker/)\n",
        "\n",
        "[Ask HN: Good resources on learning how docker works under the hood?](https://news.ycombinator.com/item?id=15822583)\n",
        "\n",
        "[How the docker container creation process works (from docker run to runc)](https://prefetch.net/blog/2018/02/19/how-the-docker-container-creation-process-works-from-docker-run-to-runc/)\n",
        "\n",
        "[Intro Guide to Dockerfile Best Practices](https://www.docker.com/blog/intro-guide-to-dockerfile-best-practices/)\n",
        "\n",
        "[Production-ready Docker packaging for Python developers](https://pythonspeed.com/docker/)\n",
        "\n",
        "[A review of the official Dockerfile best practices: good, bad, and insecure](https://pythonspeed.com/articles/official-docker-best-practices/)\n",
        "\n",
        "[dive - A tool for exploring each layer in a docker image](https://github.com/wagoodman/dive)\n",
        "\n",
        "[Reverse Engineering a Docker Image](https://theartofmachinery.com/2021/03/18/reverse_engineering_a_docker_image.html)\n",
        "\n",
        "[DOCKER IN 10 MINUTES](https://smalldata.tech/blog/2019/06/08/docker-in-10-minutes)\n",
        "\n",
        "[Containerized Python Development](https://matteoguadrini.github.io/posts/containerized-python-development/)\n",
        "\n",
        "[Towards a Strong Mental Model of Docker](https://blog.andrewray.me/towards-a-strong-mental-model-of-docker/)\n",
        "\n",
        "[Docker is Object Oriented Programming (OOP) for Systems](https://chsasank.com/docker-is-object-oriented-programming-oop-for-systems.html)\n",
        "\n",
        "[Write a Good Dockerfile in 19 'Easy' Steps](https://jkutner.github.io/2021/04/26/write-good-dockerfile.html)\n",
        "\n",
        "[Docker guide](https://robertcooper.me/post/docker-guide)\n",
        "\n",
        "[Docker GUIDE](https://www.evernote.com/shard/s637/client/snv?noteGuid=7911d994-4a86-791a-4b7d-cc2827c72937&noteKey=ef21ebae653307021bea832a1af51c49&sn=https%3A%2F%2Fwww.evernote.com%2Fshard%2Fs637%2Fsh%2F7911d994-4a86-791a-4b7d-cc2827c72937%2Fef21ebae653307021bea832a1af51c49&title=Docker%2BGUIDE)\n",
        "\n",
        "\n",
        "[Swarm mode overview](https://docs.docker.com/engine/swarm/)"
      ]
    },
    {
      "cell_type": "markdown",
      "metadata": {
        "id": "4P0Tn3ClrBjP"
      },
      "source": [
        "Docker\n",
        "\n",
        "[Open Containers](https://opencontainers.org/)\n",
        "\n",
        "[containerd](https://github.com/containerd/containerd): containers runtime\n",
        "\n",
        "[runc](https://github.com/opencontainers/runc): runc is a CLI tool for spawning and running containers on Linux according to the OCI specification.\n",
        "\n",
        "[namespaces](https://man7.org/linux/man-pages/man7/namespaces.7.html)\n",
        "\n",
        "A namespace wraps a global system resource in an abstraction that\n",
        "makes it appear to the processes within the namespace that they\n",
        "have their own isolated instance of the global resource.  Changes\n",
        "to the global resource are visible to other processes that are\n",
        "members of the namespace, but are invisible to other processes.\n",
        "One use of namespaces is to implement containers.\n",
        "\n",
        "This page provides pointers to information on the various\n",
        "namespace types, describes the associated ```/proc``` files, and\n",
        "summarizes the APIs for working with namespaces.\n",
        "\n",
        "\n",
        "[cgroups](https://man7.org/linux/man-pages/man7/cgroups.7.html)\n",
        "\n",
        "Control groups, usually referred to as cgroups, are a Linux\n",
        "kernel feature which allow processes to be organized into\n",
        "hierarchical groups whose usage of various types of resources can\n",
        "then be limited and monitored.  The kernel's cgroup interface is\n",
        "provided through a pseudo-filesystem called cgroupfs.  Grouping\n",
        "is implemented in the core cgroup kernel code, while resource\n",
        "tracking and limits are implemented in a set of per-resource-type\n",
        "subsystems (memory, CPU, and so on).\n",
        "\n",
        "- sycalls\n",
        "\n",
        "[unshare](https://man7.org/linux/man-pages/man1/unshare.1.html)\n",
        "\n",
        "The unshare command creates new namespaces (as specified by the\n",
        "command-line options described below) and then executes the\n",
        "specified program. If program is not given, then \"${SHELL}\" is\n",
        "run (default: /bin/sh).\n",
        "\n",
        "By default, a new namespace persists only as long as it has\n",
        "member processes. A new namespace can be made persistent even\n",
        "when it has no member processes by bind mounting\n",
        "/proc/pid/ns/type files to a filesystem path. A namespace that\n",
        "has been made persistent in this way can subsequently be entered\n",
        "with nsenter(1) even after the program terminates (except PID\n",
        "namespaces where a permanently running init process is required).\n",
        "Once a persistent namespace is no longer needed, it can be\n",
        "unpersisted by using umount(8) to remove the bind mount. See the\n",
        "EXAMPLES section for more details.\n",
        "\n",
        "--- \n",
        "- mount -t overlay (create and view overlay filesystems)\n",
        "\n",
        "- unshare (create namespaces)\n",
        "\n",
        "- nsenter (use an existing namespace)\n",
        "\n",
        "- getpcaps (get a process’s capabilities)\n",
        "\n",
        "- capsh (drop or add capabilities, etc)\n",
        "\n",
        "- cgcreate (create a cgroup)\n",
        "\n",
        "- cgexec (run a command in an existing cgroup)\n",
        "\n",
        "- chroot (change root directory. not actually what containers use but interesting to play with anyway)\n",
        "\n",
        "- /sys/fs/cgroups (for information about cgroups, like memory.usage_in_bytes)\n",
        "\n",
        "- /proc/PID/ns (all a process’s namespaces)\n",
        "lsns (another way to view namespaces)"
      ]
    }
  ]
}