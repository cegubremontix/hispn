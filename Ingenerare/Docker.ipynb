{
  "nbformat": 4,
  "nbformat_minor": 0,
  "metadata": {
    "colab": {
      "name": "Docker.ipynb",
      "provenance": [],
      "authorship_tag": "ABX9TyO1o4o5lwC9wwjLZlH5O/HM",
      "include_colab_link": true
    },
    "kernelspec": {
      "name": "python3",
      "display_name": "Python 3"
    },
    "language_info": {
      "name": "python"
    }
  },
  "cells": [
    {
      "cell_type": "markdown",
      "metadata": {
        "id": "view-in-github",
        "colab_type": "text"
      },
      "source": [
        "<a href=\"https://colab.research.google.com/github/dbremont/Notas/blob/main/Ingenerare/Docker.ipynb\" target=\"_parent\"><img src=\"https://colab.research.google.com/assets/colab-badge.svg\" alt=\"Open In Colab\"/></a>"
      ]
    },
    {
      "cell_type": "markdown",
      "metadata": {
        "id": "56s_QMKFQB7_"
      },
      "source": [
        "Fundamentos\n",
        " - En base a que sistemas se implementa docker hardware / software. (usar bocker como ejemplo)\n",
        " - Que problemas resuelve docker\n",
        " - Pros y Const de Docker\n",
        "\n",
        "Uso\n",
        " \n",
        "- Crear una imagen de docker\n",
        "- Interacción de imagenes docker con los recursos del ordenador red / disco duro, etc.\n",
        "- ..."
      ]
    },
    {
      "cell_type": "markdown",
      "metadata": {
        "id": "TIlzeViAj6tj"
      },
      "source": [
        "[docker](https://www.docker.com/)\n",
        "\n",
        "[vagrant](https://www.vagrantup.com/)\n",
        "\n",
        "[bocker](https://github.com/p8952/bocker)\n"
      ]
    }
  ]
}