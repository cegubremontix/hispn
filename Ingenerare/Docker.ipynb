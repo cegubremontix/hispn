{
  "nbformat": 4,
  "nbformat_minor": 0,
  "metadata": {
    "colab": {
      "name": "Docker.ipynb",
      "provenance": [],
      "authorship_tag": "ABX9TyNiAXMRoNMDRvUGJ2cLmcCi",
      "include_colab_link": true
    },
    "kernelspec": {
      "name": "python3",
      "display_name": "Python 3"
    },
    "language_info": {
      "name": "python"
    }
  },
  "cells": [
    {
      "cell_type": "markdown",
      "metadata": {
        "id": "view-in-github",
        "colab_type": "text"
      },
      "source": [
        "<a href=\"https://colab.research.google.com/github/dbremont/Notas/blob/main/Ingenerare/Docker.ipynb\" target=\"_parent\"><img src=\"https://colab.research.google.com/assets/colab-badge.svg\" alt=\"Open In Colab\"/></a>"
      ]
    },
    {
      "cell_type": "markdown",
      "metadata": {
        "id": "56s_QMKFQB7_"
      },
      "source": [
        "Fundamentos\n",
        " - En base a que sistemas se implementa docker hardware / software. (usar bocker como ejemplo)\n",
        " - Que problemas resuelve docker\n",
        " - Pros y Const de Docker\n",
        "\n",
        "Uso\n",
        " \n",
        "- Crear una imagen de docker\n",
        "- Interacción de imagenes docker con los recursos del ordenador red / disco duro, etc.\n",
        "- ..."
      ]
    },
    {
      "cell_type": "markdown",
      "metadata": {
        "id": "TIlzeViAj6tj"
      },
      "source": [
        "[docker](https://www.docker.com/)\n",
        "\n",
        "[vagrant](https://www.vagrantup.com/)\n",
        "\n",
        "[bocker](https://github.com/p8952/bocker)\n"
      ]
    },
    {
      "cell_type": "markdown",
      "metadata": {
        "id": "KIunhWisVzKe"
      },
      "source": [
        "[Analysis of Docker Security](https://arxiv.org/pdf/1501.02967.pdf)\n",
        "\n",
        "[Challenges in Docker Development: A Large-scale Study Using Stack Overflow](https://arxiv.org/pdf/2008.04467.pdf)\n",
        "\n",
        "[Automatic Observability for Dockerized Java Applications](https://arxiv.org/pdf/1912.06914.pdf)\n",
        "\n",
        "[Towards a Formal Model for Composable Container Systems](https://arxiv.org/pdf/1912.01107.pdf)\n",
        "\n",
        "[A Code Injection Method for Rapid Docker Image Building](https://arxiv.org/pdf/1911.07444.pdf)\n",
        "\n",
        "[Observability and Chaos Engineering on System Calls for Containerized Applications in Docker](https://arxiv.org/pdf/1907.13039.pdf)\n",
        "\n",
        "[DockerizeMe: Automatic Inference of Environment Dependencies for Python Code Snippets](https://arxiv.org/pdf/1905.11127.pdf)\n",
        "\n",
        "[Dockerization Impacts in Database Performance Benchmarking](https://arxiv.org/pdf/1812.04362.pdf)\n",
        "\n",
        "[Data Analytics Service Composition and Deployment on Edge Devices](https://arxiv.org/pdf/1805.05995.pdf)"
      ]
    },
    {
      "cell_type": "markdown",
      "metadata": {
        "id": "3BwTLNI2hb2q"
      },
      "source": [
        "[File Permissions: the painful side of Docker](https://blog.gougousis.net/file-permissions-the-painful-side-of-docker/)\n",
        "\n",
        "[Docker and the host filesystem owner matching problem](https://www.joyfulbikeshedding.com/blog/2021-03-15-docker-and-the-host-filesystem-owner-matching-problem.html)\n",
        "\n",
        "[Using LDAP in Docker with caching](https://dev.l1x.be/posts/2021/03/22/using-ldap-in-docker-with-caching/)\n",
        "\n",
        "[A Concise Docker Quick Start Guide for Beginners: Part One](https://blog.manimuridi.com/2020/09/28/a-concise-docker-quick-start-guide-for-beginners-part-one/)\n",
        "\n",
        "[Docker is dead. Long live the Unikernel](https://hackernoon.com/docker-is-dead-long-live-the-unikernel-2yn3zdr)\n",
        "\n",
        "[How to clean your Docker data](https://dockerwebdev.com/tutorials/clean-up-docker/)\n",
        "\n",
        "[Ask HN: Good resources on learning how docker works under the hood?](https://news.ycombinator.com/item?id=15822583)\n",
        "\n",
        "[How the docker container creation process works (from docker run to runc)](https://prefetch.net/blog/2018/02/19/how-the-docker-container-creation-process-works-from-docker-run-to-runc/)\n",
        "\n",
        "[]()"
      ]
    }
  ]
}