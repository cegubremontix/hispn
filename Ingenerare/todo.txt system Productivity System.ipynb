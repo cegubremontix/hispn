{
  "nbformat": 4,
  "nbformat_minor": 0,
  "metadata": {
    "colab": {
      "name": "todo.txt system Productivity System.ipynb",
      "provenance": [],
      "collapsed_sections": []
    },
    "kernelspec": {
      "name": "python3",
      "display_name": "Python 3"
    },
    "language_info": {
      "name": "python"
    }
  },
  "cells": [
    {
      "cell_type": "markdown",
      "metadata": {
        "id": "cTpaNtiptFPR"
      },
      "source": [
        "# todo.txt system - Productivity System"
      ]
    },
    {
      "cell_type": "markdown",
      "metadata": {
        "id": "FUS85tJ1OG8x"
      },
      "source": [
        "## Tools"
      ]
    },
    {
      "cell_type": "markdown",
      "metadata": {
        "id": "jJ2eIdd3OIED"
      },
      "source": [
        "[Null Board](https://github.com/apankrat/nullboard)\n",
        "\n",
        "[Calendar](https://calendar.google.com/calendar/u/0/r)\n",
        "\n"
      ]
    },
    {
      "cell_type": "markdown",
      "metadata": {
        "id": "RyZ76Bqysjay"
      },
      "source": [
        "Tools:\n",
        "- Calendar\n",
        "- todo.txt\n",
        "\n",
        "When a new todo arrives:\n",
        "\n",
        "Decition points:\n",
        "\n",
        " -) Put on the calendar or not.\n",
        " -) Specific time, not (due date), no (without due date).\n",
        " \n",
        "\n",
        "Each day before bed:\n",
        "\n",
        "- Take the items in the calendar for the next day, append those add the end of the todo.txt file.\n",
        "- If some of those items we not done, put then back into the calendar.\n",
        "\n",
        "\n"
      ]
    },
    {
      "cell_type": "markdown",
      "metadata": {
        "id": "bEdgiWMQD9I-"
      },
      "source": [
        "**Puntualidad**\n",
        "\n",
        "Para productividad adelantar el reloj del celular, y atrasar el reloj del trabajo"
      ]
    },
    {
      "cell_type": "markdown",
      "metadata": {
        "id": "v-76NunlumMh"
      },
      "source": [
        "## Referencias"
      ]
    },
    {
      "cell_type": "markdown",
      "metadata": {
        "id": "ZkcsYizNuniP"
      },
      "source": [
        "* [My productivity app for the past 12 years has been a single .txt file](https://jeffhuang.com/productivity_text_file/)"
      ]
    }
  ]
}