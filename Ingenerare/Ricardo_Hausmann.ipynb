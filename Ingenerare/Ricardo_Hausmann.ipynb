{
  "nbformat": 4,
  "nbformat_minor": 0,
  "metadata": {
    "colab": {
      "name": "Ricardo Hausmann.ipynb",
      "provenance": [],
      "authorship_tag": "ABX9TyPd9InJbicCc6kQBWraFGto",
      "include_colab_link": true
    },
    "kernelspec": {
      "name": "python3",
      "display_name": "Python 3"
    },
    "language_info": {
      "name": "python"
    }
  },
  "cells": [
    {
      "cell_type": "markdown",
      "metadata": {
        "id": "view-in-github",
        "colab_type": "text"
      },
      "source": [
        "<a href=\"https://colab.research.google.com/github/dbremont/Notas/blob/main/Ingenerare/Ricardo_Hausmann.ipynb\" target=\"_parent\"><img src=\"https://colab.research.google.com/assets/colab-badge.svg\" alt=\"Open In Colab\"/></a>"
      ]
    },
    {
      "cell_type": "markdown",
      "metadata": {
        "id": "B5sAKYt0KdoA"
      },
      "source": [
        "## Ricardo Hausmann\n",
        "\n",
        "[Economic Complexity](https://en.wikipedia.org/wiki/Economic_Complexity_Index)"
      ]
    },
    {
      "cell_type": "markdown",
      "metadata": {
        "id": "5kqPyEXzLYbU"
      },
      "source": [
        "### Development and Capacity\n",
        "[Ir](https://www.ideasuntrapped.com/p/development-and-capability)\n",
        "\n",
        "What is development about?\n",
        "\n",
        "- Development is about the grow of productive capabilities in a society, its what a society is able to do.\n",
        "- What a society can do, will depend on there inputs. \n",
        "- Knowhow that peoples has.\n",
        "- How different is what every member of society knows.\n",
        "- Division del \"knowhow\" en una sociedad.\n",
        "- A society is rich not because of what is has, but because of what it knows what do to.\n",
        "- The grow in developemnt of a society is related with the grows on what that society knows what to do well.\n",
        "\n",
        "\n",
        "Mamufacturing has become more skill  and capital intesive, and it does not generate that many jobs.\n",
        "\n",
        "Ecosystem for mamufacturing:\n",
        "  - places for factories\n",
        "  - efficient transportation for workers \n",
        "  - materials can go in and out, so you are close to an efficient port\n",
        "  - participate in global value chains\n",
        "\n",
        "[Political Economy](https://en.wikipedia.org/wiki/Political_economy)\n",
        "\n",
        "Every technology is a combination that you can buy in the market and others stuff that can not be buy in the market.\n",
        "  - Cat markets, not market for traficc lights, for trafic police, rows\n",
        "\n",
        "The state is the complement for society.\n",
        "\n",
        "Cosas que no son proveidas por el mercado y que son proveidas por el estado.\n",
        "\n",
        "Cosas que los mercados pueden hacer.\n",
        "\n",
        "Atraccion talento extragero.\n",
        "\n",
        "Atraer \"knowhow\"\n",
        "\n",
        "Aprovechar la diaspora para entrar/transformar la industria.\n",
        "  - El gobierno debe proveer servicios que el mercado no puede proveer.\n",
        "\n",
        "[State Capacity](https://en.wikipedia.org/wiki/State_capacity)\n",
        "\n",
        "First capable state -> development\n",
        "  - but how how a capable state will rise, without a society that can suportit, but the society its poor, so it can't.\n",
        "  - conclusion, is a complex feedback system.\n",
        "\n",
        "Society Capacity <-> State Capacity\n",
        "\n",
        "Every state is different.\n",
        "\n",
        "Identity that can support the state.\n",
        "  - The state is support by the sense of us.\n",
        "\n",
        "In an advance economy you have markets for every input you want\n",
        "\n",
        "Los conglomerados, pueden ser buenos.\n",
        "\n",
        "Por que hacer las cosas dificiles si las puedes hacer inposibles.\n",
        "\n",
        "Focus in making sure that your units of production have that it takes to sucess.\n",
        "\n",
        "Exchange rate\n",
        "\n",
        "If all the money is in the state, peoples will be very intrepernurial on how to take a share of money.\n",
        "\n",
        "Foreign exchange\n",
        "\n",
        "[Washington Consensus](https://en.wikipedia.org/wiki/Washington_Consensus)\n",
        " - The term appears in the Seminar 'Latin American Adjustment How Much Has Happened?'\n",
        " - So  the whashintong consesus, becomes like the ten commanmeds, that can be apply everywhere without any contexts.\n",
        " - Policy should be problem driven not solucion driven, and the whashintong consesus are at set of solutions without a problem. "
      ]
    }
  ]
}