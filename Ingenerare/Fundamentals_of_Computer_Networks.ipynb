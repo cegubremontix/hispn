{
  "nbformat": 4,
  "nbformat_minor": 0,
  "metadata": {
    "colab": {
      "name": "Fundamentals of Computer Networks.ipynb",
      "provenance": [],
      "authorship_tag": "ABX9TyN7kk6hWxc3LGfzKPf5GHrK",
      "include_colab_link": true
    },
    "kernelspec": {
      "name": "python3",
      "display_name": "Python 3"
    },
    "language_info": {
      "name": "python"
    }
  },
  "cells": [
    {
      "cell_type": "markdown",
      "metadata": {
        "id": "view-in-github",
        "colab_type": "text"
      },
      "source": [
        "<a href=\"https://colab.research.google.com/github/dbremont/Notas/blob/main/Ingenerare/Fundamentals_of_Computer_Networks.ipynb\" target=\"_parent\"><img src=\"https://colab.research.google.com/assets/colab-badge.svg\" alt=\"Open In Colab\"/></a>"
      ]
    },
    {
      "cell_type": "markdown",
      "metadata": {
        "id": "Elz31sjbpwAe"
      },
      "source": [
        "* [Computer Networking](https://classroom.udacity.com/courses/ud436)"
      ]
    },
    {
      "cell_type": "markdown",
      "metadata": {
        "id": "XtOxrcynNMEA"
      },
      "source": [
        "1. Tools \n",
        "   - Mininet\n",
        "2. Techniques\n",
        "3. Concepts\n",
        "\n",
        "\n",
        "- Research in Computer Networking\n",
        "- Project-based \n",
        "\n",
        "**Two Componentes**\n",
        "\n",
        "- Lectures\n",
        "- Problem sets/assigments\n",
        "\n",
        "**What is tthe course is not about**\n",
        "\n",
        "Prerequisits:\n",
        "- tcp basic\n",
        "- socket programming\n",
        "- knowlege of programming\n",
        "\n",
        "\n",
        "\n",
        "**Course structure** (subcourses)\n",
        "1. Network Protocols & Architecture\n",
        "  - Principles\n",
        "  - Switching & Routing\n",
        "  - Naming, Addresign, fowarding\n",
        "2. Resource Control & Content Distribution\n",
        "  - Congestion control\n",
        "  - Streaming\n",
        "  - Rate limiting\n",
        "  - content distribution\n",
        "3. Operations & Management \n",
        "  - Software defiend networking\n",
        "  - Traffic engineering\n",
        "  - Network Security\n",
        "\n",
        "\n",
        "\n",
        "- 3 assigmenets per sub courses \n",
        "- a final project."
      ]
    },
    {
      "cell_type": "code",
      "metadata": {
        "id": "OsmM6lbYOM2g"
      },
      "source": [
        ""
      ],
      "execution_count": null,
      "outputs": []
    }
  ]
}