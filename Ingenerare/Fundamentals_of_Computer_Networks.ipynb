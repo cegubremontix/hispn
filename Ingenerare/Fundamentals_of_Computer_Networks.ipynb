{
  "nbformat": 4,
  "nbformat_minor": 0,
  "metadata": {
    "colab": {
      "name": "Fundamentals of Computer Networks.ipynb",
      "provenance": [],
      "authorship_tag": "ABX9TyPlYzdKJydDC76C1amzGBcX",
      "include_colab_link": true
    },
    "kernelspec": {
      "name": "python3",
      "display_name": "Python 3"
    },
    "language_info": {
      "name": "python"
    }
  },
  "cells": [
    {
      "cell_type": "markdown",
      "metadata": {
        "id": "view-in-github",
        "colab_type": "text"
      },
      "source": [
        "<a href=\"https://colab.research.google.com/github/dbremont/Notas/blob/main/Ingenerare/Fundamentals_of_Computer_Networks.ipynb\" target=\"_parent\"><img src=\"https://colab.research.google.com/assets/colab-badge.svg\" alt=\"Open In Colab\"/></a>"
      ]
    },
    {
      "cell_type": "markdown",
      "metadata": {
        "id": "Elz31sjbpwAe"
      },
      "source": [
        "* [Fundamentals of Computer Networks](http://www.ini740.rocks/F20/index.html#assignments)\n",
        "\n",
        "* [Computer Networking](https://classroom.udacity.com/courses/ud436)"
      ]
    }
  ]
}