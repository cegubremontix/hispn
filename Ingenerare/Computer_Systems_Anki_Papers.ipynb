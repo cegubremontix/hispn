{
  "nbformat": 4,
  "nbformat_minor": 0,
  "metadata": {
    "colab": {
      "name": "Computer Systems Anki Papers.ipynb",
      "provenance": [],
      "authorship_tag": "ABX9TyOAcx9WCLRJOybHZmL28UFb",
      "include_colab_link": true
    },
    "kernelspec": {
      "name": "python3",
      "display_name": "Python 3"
    },
    "language_info": {
      "name": "python"
    }
  },
  "cells": [
    {
      "cell_type": "markdown",
      "metadata": {
        "id": "view-in-github",
        "colab_type": "text"
      },
      "source": [
        "<a href=\"https://colab.research.google.com/github/dbremont/Notas/blob/main/Ingenerare/Computer_Systems_Anki_Papers.ipynb\" target=\"_parent\"><img src=\"https://colab.research.google.com/assets/colab-badge.svg\" alt=\"Open In Colab\"/></a>"
      ]
    },
    {
      "cell_type": "markdown",
      "metadata": {
        "id": "0PGj-qmR96X_"
      },
      "source": [
        "[Disk Failures in the Real World](https://colab.research.google.com/github/dbremont/Notas/blob/main/Papers/Computacion/Disk_Failures_in_the_Real_World.ipynb)\n",
        "\n",
        "[We Did Nothing Wrong: Why Software Quality Matters](https://colab.research.google.com/github/dbremont/Notas/blob/main/Papers/Computacion/We_Did_Nothing_Wrong:_Why_Software_Quality_Matters.ipynb)\n",
        "\n",
        "[The Uncracked Pieces in Database Cracking](https://colab.research.google.com/github/dbremont/Notas/blob/main/Papers/Computacion/The_Uncracked_Pieces_in_Database_Cracking.ipynb)\n",
        "\n",
        "[Tapestry: A Resilient Global-scale Overlay for Service Deployment](https://colab.research.google.com/github/dbremont/Notas/blob/main/Papers/Computacion/Tapestry:_A_Resilient_Global-scale_Overlay_for_Service_Deployment.ipynb)\n",
        "\n",
        "[Implementing Remote Procedure Calls](https://colab.research.google.com/github/dbremont/Notas/blob/main/Papers/Computacion/Implementing_Remote_Procedure_Calls.ipynb)\n",
        "\n",
        "[SILT: A Memory-Efficient, High-Performance Key-Value Store](https://colab.research.google.com/github/dbremont/Notas/blob/main/Papers/Computacion/SILT:_A_Memory-Efficient,_High-Performance_Key-Value_Store.ipynb)\n",
        "\n",
        "[The Design and Implementation of a Log-Structured File System](https://colab.research.google.com/github/dbremont/Notas/blob/main/Papers/Computacion/The_Design_and_Implementation_of_a_Log-Structured_File_System.ipynb)\n",
        "\n",
        "[SEDA: An Architecture for WellConditioned, Scalable Internet Services](https://colab.research.google.com/github/dbremont/Notas/blob/main/Papers/Computacion/SEDA:_An_Architecture_for_WellConditioned,_Scalable_Internet_Services.ipynb)\n",
        "\n",
        "[XFS: the big storage file system for Linux](https://colab.research.google.com/github/dbremont/Notas/blob/main/Papers/Computacion/XFS:_the_big_storage_file_system_for_Linux.ipynb)\n",
        "\n",
        "[Microkernel Operating System Architecture and Mach](https://colab.research.google.com/github/dbremont/Notas/blob/main/Papers/Computacion/Microkernel_Operating_System_Architecture_and_Mach.ipynb)\n",
        "\n",
        "[Bigtable: A Distributed Storage System for Structured Data](https://colab.research.google.com/github/dbremont/Notas/blob/main/Papers/Computacion/Bigtable:_A_Distributed_Storage_System_for_Structured_Data.ipynb)\n",
        "\n",
        "[DNS Performance and the Effectiveness of Caching](https://colab.research.google.com/github/dbremont/Notas/blob/main/Papers/Computacion/DNS_Performance_and_Effectiveness_of_Caching.ipynb)"
      ]
    },
    {
      "cell_type": "markdown",
      "metadata": {
        "id": "gIr8WkIjOMQZ"
      },
      "source": [
        "[Dryad: Distributed Data-Parallel Programs from Sequential Building Blocks](https://colab.research.google.com/github/dbremont/Notas/blob/main/Papers/Computacion/Dryad:_Distributed_Data-Parallel_Programs_from_Sequential_Building_Blocks.ipynb)\n",
        "\n",
        "[Urgent Virtual Machine Eviction with Enlightened Post-Copy](https://colab.research.google.com/github/dbremont/Notas/blob/main/Papers/Computacion/Urgent_Virtual_Machine_Eviction_with_Enlightened_Post-Copy.ipynb)\n",
        "\n",
        "[EC-Cache: Load-balanced, Low-Latency Cluster Caching with Online Erasure Coding](https://colab.research.google.com/github/dbremont/Notas/blob/main/Papers/Computacion/EC-Cache:_Load-balanced,_Low-Latency_Cluster_Caching_with_Online_Erasure_Coding.ipynb)\n",
        "\n",
        "[C-Store: A Column-oriented DBMS](https://colab.research.google.com/github/dbremont/Notas/blob/main/Papers/Computacion/C-Store:_A_Column-oriented_DBMS.ipynb)\n",
        "\n",
        "[High-Availability Computer Systems](https://colab.research.google.com/github/dbremont/Notas/blob/main/Papers/Computacion/High-Availability_Computer_Systems.ipynb)\n",
        "\n",
        "[MapReduce : Simplified Data Processing on Large Clusters](https://colab.research.google.com/github/dbremont/Notas/blob/main/Papers/Computacion/MapReduce_:_Simplified_Data_Processing_on_Large_Clusters.ipynb)\n",
        "\n",
        "[SPIN: An Extensible Microkernel for Application-specific Operating System Services](https://colab.research.google.com/github/dbremont/Notas/blob/main/Papers/Computacion/SPIN:_An_Extensible_Microkernel_for_Application-specific_Operating_System_Services.ipynb)\n",
        "\n",
        "[Eraser: A Dynamic Data Race Detector for Multithreaded Programs](https://colab.research.google.com/github/dbremont/Notas/blob/main/Papers/Computacion/Eraser:_A_Dynamic_Data_Race_Detector_for_Multithreaded_Programs.ipynb)\n",
        "\n",
        "[Hints and Principles for Computer System Design.](https://colab.research.google.com/github/dbremont/Notas/blob/main/Papers/Computacion/Hints_and_Principles_for_Computer_System_Design.ipynb)\n",
        "\n",
        "[Scalable Atomic Visibility with RAMP Transactions](https://colab.research.google.com/github/dbremont/Notas/blob/main/Papers/Computacion/Scalable_Atomic_Visibility_with_RAMP_Transactions.ipynb)\n",
        "\n",
        "[The Recovery Manager of System R Database Manager](https://colab.research.google.com/github/dbremont/Notas/blob/main/Papers/Computacion/The_Recovery_Manager_of_System_R_Database_Manager.ipynb)"
      ]
    },
    {
      "cell_type": "markdown",
      "metadata": {
        "id": "swyuKeSQOWYr"
      },
      "source": [
        "[End-To-End Arguments in System Design](https://colab.research.google.com/github/dbremont/Notas/blob/main/Papers/Computacion/End-To-End_Arguments_in_System_Design.ipynb)\n",
        "\n",
        "[Viewstamped Replication Revisited](https://colab.research.google.com/github/dbremont/Notas/blob/main/Papers/Computacion/Viewstamped_Replication_Revisited_(optional).ipynb)\n",
        "\n",
        "[The Unix Time Sharing System](https://colab.research.google.com/github/dbremont/Notas/blob/main/Papers/Computacion/The_Unix_Time_Sharing_System.ipynb)\n",
        "\n",
        "[Live Migration of Virtual Machines](https://colab.research.google.com/github/dbremont/Notas/blob/main/Papers/Computacion/Live_Migration_of_Virtual_Machines.ipynb)\n",
        "\n",
        "[A Case for Redundant Arrays of Inexpensive Disks (RAID)](https://colab.research.google.com/github/dbremont/Notas/blob/main/Papers/Computacion/A_Case_for_Redundant_Arrays_of_Inexpensive_Disks_(RAID).ipynb)\n",
        "\n",
        "[BitTyrant: Do incentives build robustness in BitTorrent](https://colab.research.google.com/github/dbremont/Notas/blob/main/Papers/Computacion/BitTyrant:_Do_incentives_build_robustness_in_BitTorrent.ipynb)\n",
        "\n",
        "[Freenet: A Distributed Anonymous Information Storage and Retrieval System](https://colab.research.google.com/github/dbremont/Notas/blob/main/Papers/Computacion/Freenet:_A_Distributed_Anonymous_Information_Storage_and_Retrieval_System.ipynb)\n",
        "\n",
        "[The Part-Time Parliament](https://colab.research.google.com/github/dbremont/Notas/blob/main/Papers/Computacion/The_Part-Time_Parliament.ipynb)\n",
        "\n",
        "[Zookos Triangle](https://colab.research.google.com/github/dbremont/Notas/blob/main/Papers/Computacion/Zookos_Triangle.ipynb)\n",
        "\n",
        "[The Value of Abstraction](https://colab.research.google.com/github/dbremont/Notas/blob/main/Papers/Computacion/The_Value_of_Abstraction.ipynb)"
      ]
    },
    {
      "cell_type": "markdown",
      "metadata": {
        "id": "0WasjUvx5mli"
      },
      "source": [
        "[The Vertica Analytical Database: C-Store 7 Years Later](https://colab.research.google.com/github/dbremont/Notas/blob/main/Papers/Computacion/The_Vertica_Analytical_Database:_C-Store_7_Years_Later.ipynb)\n",
        "\n",
        "[Operational transformations](https://colab.research.google.com/github/dbremont/Notas/blob/main/Papers/Computacion/Operational_transformations.ipynb)\n",
        "\n",
        "[CryptDB: Protecting Confidentiality with Encrypted Query Processing](https://colab.research.google.com/github/dbremont/Notas/blob/main/Papers/Computacion/CryptDB:_Protecting_Confidentiality_with_Encrypted_Query_Processing.ipynb)\n",
        "\n",
        "[MICA: A Holistic Approach to Fast In-Memory Key-Value Storage](https://colab.research.google.com/github/dbremont/Notas/blob/main/Papers/Computacion/MICA:_A_Holistic_Approach_to_Fast_In-Memory_Key-Value_Storage.ipynb)\n",
        "\n",
        "[Foreshadow: Extracting the Keys to the Intel SGX Kingdom with Transient Out-of-Order Execution](https://colab.research.google.com/github/dbremont/Notas/blob/main/Papers/Computacion/Foreshadow:_Extracting_the_Keys_to_the_Intel_SGX_Kingdom_with_Transient_Out-of-Order_Execution.ipynb)\n",
        "\n",
        "[Worse is Better is Worse](https://colab.research.google.com/github/dbremont/Notas/blob/main/Papers/Computacion/Worse_is_Better_is_Worse.ipynb)\n",
        "\n",
        "[GraphLab: A New Framework For Parallel Machine Learning](https://colab.research.google.com/github/dbremont/Notas/blob/main/Papers/Computacion/GraphLab:_A_New_Framework_For_Parallel_Machine_Learning.ipynb)\n",
        "\n",
        "[Pastry: Scalable, decentralized object location and routing for large-scale peer-to-peer systemscs](https://colab.research.google.com/github/dbremont/Notas/blob/main/Papers/Computacion/Pastry:_Scalable,_decentralized_object_location_and_routing_for_large-scale_peer-to-peer_systemscs.ipynb)\n",
        "\n",
        "[Coordination Avoidance in Database Systems](https://colab.research.google.com/github/dbremont/Notas/blob/main/Papers/Computacion/Coordination_Avoidance_in_Database_Systems.ipynb)\n",
        "\n",
        "[Tapestry: An Infrastructure for Fault-tolerant Wide-area Location and Routing.](https://colab.research.google.com/github/dbremont/Notas/blob/main/Papers/Computacion/Tapestry:_An_Infrastructure_for_Fault-tolerant_Wide-area_Location_and_Routing.ipynb)\n"
      ]
    }
  ]
}