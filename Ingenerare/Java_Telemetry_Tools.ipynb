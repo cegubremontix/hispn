{
  "nbformat": 4,
  "nbformat_minor": 0,
  "metadata": {
    "colab": {
      "name": "Java Telemetry Tools.ipynb",
      "provenance": [],
      "collapsed_sections": [],
      "authorship_tag": "ABX9TyN1XTF593MOwgu/Yo/of3XW",
      "include_colab_link": true
    },
    "kernelspec": {
      "name": "python3",
      "display_name": "Python 3"
    },
    "language_info": {
      "name": "python"
    }
  },
  "cells": [
    {
      "cell_type": "markdown",
      "metadata": {
        "id": "view-in-github",
        "colab_type": "text"
      },
      "source": [
        "<a href=\"https://colab.research.google.com/github/dbremont/Notas/blob/main/Ingenerare/Java_Telemetry_Tools.ipynb\" target=\"_parent\"><img src=\"https://colab.research.google.com/assets/colab-badge.svg\" alt=\"Open In Colab\"/></a>"
      ]
    },
    {
      "cell_type": "markdown",
      "metadata": {
        "id": "xt7Rr1ZbcXbX"
      },
      "source": [
        "# Sigef Telemetry Tools"
      ]
    },
    {
      "cell_type": "markdown",
      "metadata": {
        "id": "mmdkbVfB_DHO"
      },
      "source": [
        "Design  the Sigef Telemetry System\n",
        "\n",
        "**Through**\n",
        "- the agent java technology,\n",
        "- weaving  technology (bytebuddy)\n",
        "\n",
        "**Consider**:\n",
        "- aspect oriented technology,\n",
        "- ..."
      ]
    },
    {
      "cell_type": "markdown",
      "metadata": {
        "id": "SMd5HmgfcaiN"
      },
      "source": [
        "VOs\n",
        "\n",
        "Reglas Ejecutar\n",
        "\n",
        "Threads\n",
        "  - Historico de los stack frames\n",
        "\n",
        "Transacciones\n",
        "- Verificar las transacciones y las consultas transacciones abiertas\n",
        "\n",
        "Sigef Monitoring Tools\n",
        "\n",
        "Goals:\n",
        "\n",
        "- Agent to stream data out of the applicatión,\n",
        "- Agent to aid instrumentatión,\n",
        "- Visualización of the Data"
      ]
    },
    {
      "cell_type": "markdown",
      "metadata": {
        "id": "6ZRJN-NhDCm8"
      },
      "source": [
        "## Telemetry"
      ]
    },
    {
      "cell_type": "markdown",
      "metadata": {
        "id": "ThXgPyaCDD2z"
      },
      "source": [
        "System Properties `System.setProperty(\"java.net.preferIPv4Stack\" , \"true\");`\n",
        "\n"
      ]
    },
    {
      "cell_type": "markdown",
      "metadata": {
        "id": "kCWta5w4NeV6"
      },
      "source": [
        "Study the telemetry system of vscode\n",
        "- `code --telemetry | code -`\n",
        "\n",
        "\n",
        "[open-telemetry/opentelemetry-java: OpenTelemetry Java SDK -  ](https://github.com/open-telemetry/opentelemetry-java)\n",
        "\n",
        "[Telemetría - Wikipedia, la enciclopedia libre -  ](https://es.wikipedia.org/wiki/Telemetr%C3%ADa)\n",
        "\n",
        "[mozilla/telemetry-dashboard: Web-frontend for aggregated telemetry data -  ](https://github.com/mozilla/telemetry-dashboard)\n",
        "\n",
        "[terminal/telemetry.cpp at main · microsoft/terminal -  ](https://github.com/microsoft/terminal/blob/main/src/host/telemetry.cpp)\n",
        "\n",
        "\n",
        "[Manning | Software Telemetry -  ](https://www.manning.com/books/software-telemetry)"
      ]
    },
    {
      "cell_type": "markdown",
      "metadata": {
        "id": "Xleyc6BxisHw"
      },
      "source": [
        "[brendangregg/FlameGraph: Stack trace visualizer -  ](https://github.com/brendangregg/FlameGraph)\n",
        "\n",
        "[Java performance profiling using flame graphs | by Mahesh Senniappan | Medium -  ](https://maheshsenniappan.medium.com/java-performance-profiling-using-flame-graphs-e29238130375)\n",
        "\n",
        "\n",
        "[java - Define method body with Byte buddy instead of MethodDelegation - Stack Overflow -  ](https://stackoverflow.com/questions/55354066/define-method-body-with-byte-buddy-instead-of-methoddelegation)\n",
        "\n",
        "[net.bytebuddy.implementation.bytecode.StackManipulation$Compound.<init> java code examples | Tabnine -  ](https://www.tabnine.com/code/java/methods/net.bytebuddy.implementation.bytecode.StackManipulation$Compound/%3Cinit%3E)"
      ]
    },
    {
      "cell_type": "markdown",
      "metadata": {
        "id": "dG8mK82Dcjr0"
      },
      "source": [
        "[java - Can a method call be instrumented with ByteBuddy instead of the called method? - Stack Overflow -  ](https://stackoverflow.com/questions/57808499/can-a-method-call-be-instrumented-with-bytebuddy-instead-of-the-called-method)\n",
        "\n",
        "[java - Profiling using byte buddy or some library - Stack Overflow -  ](https://stackoverflow.com/questions/38849768/profiling-using-byte-buddy-or-some-library)\n",
        "\n",
        "[Easily Create Java Agents with Byte Buddy -  ](https://www.infoq.com/articles/Easily-Create-Java-Agents-with-ByteBuddy/)\n",
        "\n",
        "[Byte Buddy - runtime code generation for the Java virtual machine -  ](https://bytebuddy.net/#/)\n",
        "\n"
      ]
    },
    {
      "cell_type": "markdown",
      "metadata": {
        "id": "gu0hu1-41Uhv"
      },
      "source": [
        "Inspiration:\n",
        "\n",
        "[New Relic - Wikipedia -  ](https://en.wikipedia.org/wiki/New_Relic)\n",
        "\n",
        "[Rookout | Painless Cloud-Native Debugging -  ](https://www.rookout.com/)\n",
        "\n",
        "[Getting Started · Documentation -  ](https://docs.rookout.com/docs/welcome.html)\n",
        "\n",
        "[Jaeger: open source, end-to-end distributed tracing -  ](https://www.jaegertracing.io/)\n",
        "\n",
        "[JDK Mission Control](https://docs.oracle.com/en/java/java-components/jdk-mission-control/)\n",
        "\n",
        "[Top 10 most common Java performace problems](https://www.rockvalleycollege.edu/webadmin/upload/Top-10-Java-Performance-Problems.pdf)"
      ]
    },
    {
      "cell_type": "markdown",
      "metadata": {
        "id": "n3gW9ah6_42t"
      },
      "source": [
        "[Collecting and Analyzing Execution Time Data - Java Enterprise Performance | Dynatrace -  ](https://www.dynatrace.com/resources/ebooks/javabook/collecting-execution-time-data/)\n",
        "\n",
        "[Distributed tracing -  ](https://microservices.io/patterns/observability/distributed-tracing.html)\n",
        "\n",
        "[The Art of Monitoring -  ](https://artofmonitoring.com/)\n",
        "\n",
        "[Monitoring demystified: A guide for logging, tracing, metrics | TechBeacon -  ](https://techbeacon.com/enterprise-it/monitoring-demystified-guide-logging-tracing-metrics)\n",
        "\n",
        "[Observability - Wikipedia -  ](https://en.wikipedia.org/wiki/Observability)\n",
        "\n",
        "[PyTennessee 2019 Presentation – Polibyte -  ](https://www.polibyte.com/2019/02/10/pytennessee-presentation/)\n",
        "\n",
        "[Grafana Play Home - Grafana -  ](https://play.grafana.org/d/000000012/grafana-play-home?orgId=1)\n",
        "\n",
        "[Grafana: The open observability platform | Grafana Labs -  ](https://grafana.com/)\n",
        "\n",
        "[Grafana | Grafana Labs -  ](https://grafana.com/oss/grafana/)\n",
        "\n",
        "[Kibana: Explore, Visualize, Discover Data | Elastic -  ](https://www.elastic.co/kibana/)\n",
        "\n",
        "[Grafana | Prometheus -  ](https://prometheus.io/docs/visualization/grafana/)\n",
        "\n",
        "[Downloads · JBoss Community -  ](https://undertow.io/downloads.html)\n",
        "\n",
        "[undertow-io/undertow: High performance non-blocking webserver -  ](https://github.com/undertow-io/undertow)\n",
        "\n",
        "[Java: Simple HTTP Server application that responds in JSON - Stack Overflow -  ](https://stackoverflow.com/questions/28571086/java-simple-http-server-application-that-responds-in-json)\n",
        "\n",
        "[NanoHttpd/nanohttpd: Tiny, easily embeddable HTTP server in Java. -  ](https://github.com/NanoHttpd/nanohttpd)\n",
        "\n",
        "[com.sun.net.httpserver (Java HTTP Server ) -  ](https://docs.oracle.com/javase/8/docs/jre/api/net/httpserver/spec/com/sun/net/httpserver/package-summary.html)\n",
        "\n",
        "[Application Performance Monitoring: A Complete Overview for 2021 -  ](https://lightstep.com/apm/)\n",
        "\n",
        "[Event monitoring - Wikipedia -  ](https://en.wikipedia.org/wiki/Event_monitoring)\n",
        "\n"
      ]
    },
    {
      "cell_type": "markdown",
      "metadata": {
        "id": "3SlMoZ0ggPMV"
      },
      "source": [
        "Identificar las Reglas Asociadas a  un VO y tener capacidad de parar su ejecucion.\n",
        "\n",
        "[Guide to Java Instrumentation | Baeldung -  ](https://www.baeldung.com/java-instrumentation)\n",
        "\n",
        "[java - How does Thread.currentThread() work when there are multiple processors? - Stack Overflow -  ](https://stackoverflow.com/questions/30024560/how-does-thread-currentthread-work-when-there-are-multiple-processors)\n",
        "\n",
        "[What are the Steps for Debugging Java Web Application? - Stack Overflow -  ](https://stackoverflow.com/questions/3221768/what-are-the-steps-for-debugging-java-web-application)\n",
        "\n",
        "[Thread (Java Platform SE 7 ) -  ](https://docs.oracle.com/javase/7/docs/api/java/lang/Thread.html#currentThread())\n",
        "\n",
        "[How can I get the current stack trace in Java? - Stack Overflow -  ](https://stackoverflow.com/questions/1069066/how-can-i-get-the-current-stack-trace-in-java)\n",
        "\n",
        "[Understanding Java and native thread details - IBM Documentation -  ](https://www.ibm.com/docs/sr/sdk-java-technology/7.1?topic=tstt-understanding-java-native-thread-details-2)\n",
        "\n",
        "\n",
        "\n",
        "[jvm-monitoring-agent/Agent.java at ff5bc5a399835c10291f88231d73c277631ca30f · toptal/jvm-monitoring-agent -  ](https://github.com/toptal/jvm-monitoring-agent/blob/ff5bc5a399835c10291f88231d73c277631ca30f/src/com/toptal/jvm/monitoring/Agent.java#L97)\n",
        "\n",
        "[TimerTask (Java Platform SE 7 ) -  ](https://docs.oracle.com/javase/7/docs/api/java/util/TimerTask.html)\n",
        "\n",
        "[Timer (Java Platform SE 7 ) -  ](https://docs.oracle.com/javase/7/docs/api/java/util/Timer.html)\n",
        "\n",
        "[Why do we use rt.jar in a java project? - Stack Overflow -  ](https://stackoverflow.com/questions/3091040/why-do-we-use-rt-jar-in-a-java-project)\n",
        "\n",
        "[ASM -  ](https://asm.ow2.io/)\n",
        "\n",
        "[Monitoring Java applications and Getting started with the Elastic APM Java Agent | Elastic Blog -  ](https://www.elastic.co/blog/monitoring-java-applications-and-getting-started-with-the-elastic-apm-java-agent)\n",
        "\n",
        "[Understanding Java Agents - DZone Java -  ](https://dzone.com/articles/java-agent-1)\n",
        "\n",
        "[Java agent learning summary -  ](https://programmer.ink/think/java-agent-learning-summary.html)\n",
        "\n",
        "[java.lang.IllegalAccessError... cannot access its superclass. Versions 1.8.4 and later · Issue #447 · raphw/byte-buddy -  ](https://github.com/raphw/byte-buddy/issues/447)\n",
        "\n",
        "[My daily Java: JDK 11 and proxies in a world past sun.misc.Unsafe -  ](https://mydailyjava.blogspot.com/2018/04/jdk-11-and-proxies-in-world-past.html)\n",
        "\n",
        "[java.lang.IllegalAccessError... cannot access its superclass. Versions 1.8.4 and later · Issue #447 · raphw/byte-buddy -  ](https://github.com/raphw/byte-buddy/issues/447)\n",
        "\n",
        "[instrumentation - Exception on invocation of java agent instrumented via ByteBuddy - Stack Overflow -  ](https://stackoverflow.com/questions/40795399/exception-on-invocation-of-java-agent-instrumented-via-bytebuddy)\n",
        "\n",
        "[ElementMatchers (Byte Buddy (without dependencies) 1.4.17 API) -  ](Mail.google.com/mail/u/1/#inbox)\n",
        "\n",
        "[Overview (Byte Buddy (without dependencies) 1.4.17 API) -  ](https://javadoc.io/static/net.bytebuddy/byte-buddy/1.4.17/overview-summary.html)\n",
        "\n",
        "[Byte Buddy - runtime code generation for the Java virtual machine -  ](https://bytebuddy.net/#/tutorial)\n",
        "\n",
        "\n",
        "[Runtime Code Generation with Byte Buddy -  ](https://blogs.oracle.com/javamagazine/post/runtime-code-generation-with-byte-buddy)\n",
        "\n",
        "[TypeInitializer.Simple (Byte Buddy (without dependencies) 1.10.4 API) -  ](https://javadoc.io/doc/net.bytebuddy/byte-buddy/1.10.4/net/bytebuddy/dynamic/scaffold/TypeInitializer.Simple.html)\n",
        "\n",
        "[LoadedTypeInitializer (Byte Buddy (without dependencies) 1.11.20 API) -  ](https://javadoc.io/static/net.bytebuddy/byte-buddy/1.11.20/net/bytebuddy/implementation/LoadedTypeInitializer.html)\n",
        "\n",
        "[byte-buddy 1.11.20 javadoc (net.bytebuddy) -  ](https://javadoc.io/doc/net.bytebuddy/byte-buddy/latest/index.html)\n",
        "\n",
        "[A Guide to Byte Buddy | Baeldung -  ](https://www.baeldung.com/byte-buddy)\n",
        "\n",
        "[lombok/src/core/lombok/core at master · projectlombok/lombok -  ](https://github.com/projectlombok/lombok/tree/master/src/core/lombok/core)\n",
        "  - project lombok uses the compiler api to generate byte code, but at compile time.\n",
        "\n",
        "[Runtime code generation for the JVM -  ](https://assets.ctfassets.net/oxjq45e8ilak/7Me2OZM1y0IsmoAEeKgWaW/941b640ae7af83adb5c4733b566313bf/Making_Java_more_dynamic.pdf)\n",
        "\n",
        "[cglib/cglib: cglib - Byte Code Generation Library is high level API to generate and transform Java byte code. It is used by AOP, testing, data access frameworks to generate dynamic proxy objects and intercept field access. -  ](https://github.com/cglib/cglib)\n",
        "\n",
        "[java - How class loading is done by using -Xbootclasspath/p:path? - Stack Overflow -  ](https://stackoverflow.com/questions/20174355/how-class-loading-is-done-by-using-xbootclasspath-ppath)\n",
        "\n",
        "[jvm - how to specify class path for java agent - Stack Overflow -  ](https://stackoverflow.com/questions/26280406/how-to-specify-class-path-for-java-agent)\n",
        "\n",
        "[ElementMatchers (Byte Buddy (without dependencies) 1.4.17 API) -  ](https://javadoc.io/doc/net.bytebuddy/byte-buddy/1.4.17/net/bytebuddy/matcher/ElementMatchers.html)\n",
        "\n",
        "[java - What is a classpath and how do I set it? - Stack Overflow -  ](https://stackoverflow.com/questions/2396493/what-is-a-classpath-and-how-do-i-set-it)\n",
        "\n",
        "[How to call getClass() from a static method in Java? - Stack Overflow -  ](https://stackoverflow.com/questions/8275499/how-to-call-getclass-from-a-static-method-in-java?rq=1)\n",
        "\n",
        "[java - Does a class loaded once during premain load again once the rest of the application run - Stack Overflow -  ](https://stackoverflow.com/questions/33729823/does-a-class-loaded-once-during-premain-load-again-once-the-rest-of-the-applicat)\n",
        "\n",
        "[byte-buddy 1.11.20 javadoc (net.bytebuddy) -  ](https://javadoc.io/doc/net.bytebuddy/byte-buddy/latest/index.html)\n",
        "\n",
        "[java - adding classpath in linux - Stack Overflow -  ](https://stackoverflow.com/questions/580860/adding-classpath-in-linux)\n",
        "\n",
        "[In Java, how can I run a static method whenever my class gets loaded or unloaded? - Stack Overflow -  ](https://stackoverflow.com/questions/22699561/in-java-how-can-i-run-a-static-method-whenever-my-class-gets-loaded-or-unloaded)\n",
        "\n",
        "[javassist - Dynamic Java Bytecode Manipulation Framework Comparison - Stack Overflow -  ](https://stackoverflow.com/questions/9167436/dynamic-java-bytecode-manipulation-framework-comparison)\n",
        "\n",
        "[ASM 4.0 A Java bytecode engineering library -  ](https://asm.ow2.io/asm4-guide.pdf)\n",
        "\n",
        "[CSCE 710: Jeff Huang - CSCE 710: Fundamental Software Analysis](https://o2lab.github.io/710/)\n",
        "\n",
        "[How to Use Java Agents with ASM Bytecode Framework? - Alibaba Cloud Community -  ](https://www.alibabacloud.com/blog/how-to-use-java-agents-with-asm-bytecode-framework_596199)\n",
        "\n",
        "[jvm - Does a java agent run in a separate thread? - Stack Overflow -  ](https://stackoverflow.com/questions/3069677/does-a-java-agent-run-in-a-separate-thread)\n",
        "\n",
        "[Creating and Starting Java Threads -  ](http://tutorials.jenkov.com/java-concurrency/creating-and-starting-threads.html)\n",
        "\n",
        "[Setting an Application's Entry Point (The Java™ Tutorials > Deployment > Packaging Programs in JAR Files) -  ](https://docs.oracle.com/javase/tutorial/deployment/jar/appman.html)\n",
        "\n",
        "[Main Method in Java | public static void main(String[] args) - Scientech Easy -  ](https://www.scientecheasy.com/2020/06/main-method-in-java.html/)\n",
        "\n",
        "\n",
        "[Instrumentation (Java Platform SE 7 ) -  ](https://docs.oracle.com/javase/7/docs/api/java/lang/instrument/Instrumentation.html)\n",
        "\n",
        "[Guide to Java Instrumentation | Baeldung -  ](https://www.baeldung.com/java-instrumentation)\n",
        "\n",
        "[A beginner’s guide to Java agents - JVM Advent -  ](https://www.javaadvent.com/2019/12/a-beginners-guide-to-java-agents.html)\n",
        "\n",
        "[java - How to load JAR files dynamically at Runtime? - Stack Overflow -  ](https://stackoverflow.com/questions/60764/how-to-load-jar-files-dynamically-at-runtime)\n",
        "\n",
        "[java - How to dynamically generate a stack frame with debug log information - Stack Overflow -  ](https://stackoverflow.com/questions/39712695/how-to-dynamically-generate-a-stack-frame-with-debug-log-information)\n",
        "\n",
        "[java - How do I find the caller of a method using stacktrace or reflection? - Stack Overflow -  ](https://stackoverflow.com/questions/421280/how-do-i-find-the-caller-of-a-method-using-stacktrace-or-reflection)\n",
        "\n",
        "[java - How can i log every method called in a class automatically with log4j - Stack Overflow -  ](https://stackoverflow.com/questions/13356326/how-can-i-log-every-method-called-in-a-class-automatically-with-log4j)\n",
        "\n",
        "[oldmanpushcart/greys-anatomy: Java diagnostic tool -  ](https://github.com/oldmanpushcart/greys-anatomy)\n",
        "\n",
        "[gousiosg/java-callgraph: Programs for producing static and dynamic (runtime) call graphs for Java programs -  ](https://github.com/gousiosg/java-callgraph)\n",
        "\n",
        "[How do I trace methods calls in Java? - Stack Overflow -  ](https://stackoverflow.com/questions/29382231/how-do-i-trace-methods-calls-in-java)\n",
        "\n",
        "[An Intro to the Java Debug Interface (JDI) | Baeldung -  ](https://www.baeldung.com/java-debug-interface)\n",
        "\n",
        "[Understanding Java Agents - DZone Java -  ](https://dzone.com/articles/java-agent-1)\n",
        "\n",
        "[Simple shell script to send socket message - Unix & Linux Stack Exchange -  ](https://unix.stackexchange.com/questions/336876/simple-shell-script-to-send-socket-message)\n"
      ]
    }
  ]
}