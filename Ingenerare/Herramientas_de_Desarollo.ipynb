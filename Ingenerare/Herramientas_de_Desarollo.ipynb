{
  "nbformat": 4,
  "nbformat_minor": 0,
  "metadata": {
    "colab": {
      "name": "Herramientas de Desarollo.ipynb",
      "provenance": [],
      "toc_visible": true,
      "include_colab_link": true
    },
    "kernelspec": {
      "name": "python3",
      "display_name": "Python 3"
    },
    "language_info": {
      "name": "python"
    }
  },
  "cells": [
    {
      "cell_type": "markdown",
      "metadata": {
        "id": "view-in-github",
        "colab_type": "text"
      },
      "source": [
        "<a href=\"https://colab.research.google.com/github/dbremont/Notas/blob/main/Ingenerare/Herramientas_de_Desarollo.ipynb\" target=\"_parent\"><img src=\"https://colab.research.google.com/assets/colab-badge.svg\" alt=\"Open In Colab\"/></a>"
      ]
    },
    {
      "cell_type": "markdown",
      "metadata": {
        "id": "pWDbL13wEtqF"
      },
      "source": [
        "## Herramientas de Desarollo\n",
        "\n",
        "[The Missing Semester of Your CS Education](https://missing.csail.mit.edu/2020/)\n",
        "\n",
        "[List of GNU Core Utilities commands](https://en.wikipedia.org/wiki/List_of_GNU_Core_Utilities_commands)\n",
        "\n",
        "[awesome-devenv](https://github.com/jondot/awesome-devenv)\n",
        "\n",
        "[Util Linux](https://en.wikipedia.org/wiki/Util-linux)\n",
        "\n",
        "[List of Unix Commands](https://en.wikipedia.org/wiki/List_of_Unix_commands)\n",
        "\n",
        "[List of GNU packages](https://en.wikipedia.org/wiki/List_of_GNU_packages)\n",
        "\n",
        "lsutils - Listar mis scripts\n",
        "\n",
        "[Articulos Herramientas de Desarrollo](https://colab.research.google.com/github/dbremont/Notas/blob/main/Ingenerare/Articulos_Herramientas_de_Desarrollo.ipynb)"
      ]
    },
    {
      "cell_type": "markdown",
      "metadata": {
        "id": "RMC0T41rtnEy"
      },
      "source": [
        "## Text Editors\n"
      ]
    },
    {
      "cell_type": "markdown",
      "metadata": {
        "id": "6czKUXctv4jl"
      },
      "source": [
        "- [ack.vim](https://github.com/mileszs/ack.vim)\n",
        "\n",
        "- [ctrlp.vim](https://github.com/ctrlpvim/ctrlp.vim)\n",
        "\n",
        "- [Vundle.vim](https://github.com/VundleVim/Vundle.vim)\n",
        "\n",
        "- [coc.nvim](https://github.com/neoclide/coc.nvim)\n",
        "\n",
        "- [gundo.vim](https://github.com/sjl/gundo.vim)\n",
        "\n",
        "- [vim-easymotion](https://github.com/easymotion/vim-easymotion)\n",
        "\n",
        "- [sed, a stream editor](https://www.gnu.org/software/sed/manual/sed.html)\n"
      ]
    },
    {
      "cell_type": "markdown",
      "metadata": {
        "id": "xuh_Utkbv1hj"
      },
      "source": [
        "## Shells"
      ]
    },
    {
      "cell_type": "markdown",
      "metadata": {
        "id": "8J4sIDabvx_C"
      },
      "source": [
        "- [Ranger](https://github.com/ranger/ranger)\n",
        "\n",
        "- [fzf](https://github.com/tmux/tmux)\n",
        "\n",
        "- [ShellCheck](https://www.shellcheck.net/)\n",
        "\n",
        "- [autojump](https://github.com/wting/autojump)\n",
        "\n",
        "- [locale](https://man7.org/linux/man-pages/man1/locate.1.html)\n",
        "\n",
        "- [ripgrep](https://github.com/BurntSushi/ripgrep)\n",
        "\n",
        "- [ack](https://beyondgrep.com/)\n",
        "\n",
        "- [fishshell](https://fishshell.com/)\n",
        "\n",
        "- [ohmyzsh](https://ohmyz.sh/)\n",
        "\n",
        "- [fish-like autosuggestions for zsh](https://github.com/zsh-users/zsh-autosuggestions)\n",
        "\n",
        "- [exa](https://the.exa.website/)\n",
        "\n",
        "- [lnav - Log file navigator](https://lnav.org/)\n",
        "\n",
        "- [httpie](https://httpie.io)\n",
        "\n",
        "- [curl](https://curl.se/)\n",
        "\n",
        "- [wget](https://www.gnu.org/software/wget/)\n",
        "\n",
        "- [doitlive](https://doitlive.readthedocs.io/en/stable/)\n",
        "\n",
        "- [Screen](https://ss64.com/bash/screen.html)\n",
        "\n",
        "- [explainshell](https://explainshell.com/)\n",
        "\n",
        "- [cal (command)](https://en.wikipedia.org/wiki/Cal_(command))\n",
        "\n",
        "- [pgrep](https://en.wikipedia.org/wiki/Pgrep)\n",
        "\n",
        "- [A language server for Bash](https://github.com/bash-lsp/bash-language-server)\n",
        "\n",
        "- [Run Commands](https://en.wikipedia.org/wiki/Run_commands)\n",
        "\n",
        "- [GNU Stow -  Symlink farm manager](https://www.gnu.org/software/stow/)\n",
        "\n",
        "- [Automation framework for programmers](https://ianmiell.github.io/shutit/)\n",
        "\n",
        "- [shell-history - Visualize your shell usage with Highcharts](https://github.com/pawamoy/shell-history)\n",
        "\n",
        "- [shellspec](https://github.com/shellspec/shellspec)\n",
        "\n",
        "- [zsh-easy-motion](https://github.com/IngoMeyer441/zsh-easy-motion)\n",
        "\n",
        "- [zsh-autosuggestions](https://github.com/zsh-users/zsh-autosuggestions)\n",
        "\n",
        "- tmux"
      ]
    },
    {
      "cell_type": "markdown",
      "metadata": {
        "id": "ZKKFItXan_j8"
      },
      "source": [
        "- ptx\n",
        "- fmpt\n",
        "- ln\n",
        "- shuft\n",
        "- uniq\n",
        "- chmod\n",
        "- basename\n",
        "- realpath\n",
        "- dirname\n",
        "- du\n",
        "- groups\n",
        "- nohup\n",
        "- nproc\n",
        "- printenv\n",
        "- seq\n",
        "- awk\n",
        "- stat\n",
        "- tee\n",
        "- test\n",
        "- uptime\n",
        "- users\n",
        "- whoami\n",
        "- getopt\n",
        "- cal\n",
        "- mount\n",
        "- more\n",
        "- less\n",
        "- logname\n",
        "- ipcs\n",
        "- ipcrm\n",
        "- hexdump\n",
        "- file\n",
        "- diff\n",
        "- ctags\n",
        "- cflow\n",
        "- alias\n",
        "\n",
        "- cltr + r (reverse search)\n",
        "\n"
      ]
    },
    {
      "cell_type": "markdown",
      "metadata": {
        "id": "-7zJdxqABNky"
      },
      "source": [
        "## Monitoring, Profiling, Debugging"
      ]
    },
    {
      "cell_type": "markdown",
      "metadata": {
        "id": "obF8ncFeBOcV"
      },
      "source": [
        "- [Debugging and Profiling](https://missing.csail.mit.edu/2020/debugging-profiling)\n",
        "\n",
        "- [Flamegraphs](https://www.brendangregg.com/flamegraphs.html)\n",
        "\n",
        "- [Perf](https://www.brendangregg.com/perf.html)\n",
        "\n",
        "- [Linux perf_event Event Sources](https://www.brendangregg.com/perf_events/perf_events_map.png)\n",
        "\n",
        "- time\n",
        "\n",
        "- [htop](https://htop.dev/)\n",
        "\n",
        "- [Glances is a cross-platform system monitoring too](https://github.com/nicolargo/glances)"
      ]
    },
    {
      "cell_type": "markdown",
      "metadata": {
        "id": "CgEEnMCSvqO0"
      },
      "source": [
        "## Automatizacion"
      ]
    },
    {
      "cell_type": "markdown",
      "metadata": {
        "id": "5gMjF7O9vsMY"
      },
      "source": [
        "[autokey](https://github.com/autokey/autokey)\n",
        "\n",
        "[crontab](https://crontab.guru/)"
      ]
    },
    {
      "cell_type": "markdown",
      "metadata": {
        "id": "dkoEXAvn0MS2"
      },
      "source": [
        "## Data"
      ]
    },
    {
      "cell_type": "markdown",
      "metadata": {
        "id": "DBn-nQ8s0NsK"
      },
      "source": [
        "- [Pytorch](https://pytorch.org/get-started/locally/)\n",
        "\n",
        "- [FastAI](https://docs.fast.ai/)\n",
        "\n",
        "- [sklearn](https://scikit-learn.org/stable/)\n",
        "\n",
        "- [Beautiful Soup](https://www.crummy.com/software/BeautifulSoup/bs4/doc/)\n",
        "\n",
        "- [Awk](https://en.wikipedia.org/wiki/AWK)\n",
        "\n",
        "- [ggplot2](https://ggplot2.tidyverse.org/)\n",
        "\n",
        "- [jq](https://stedolan.github.io/jq/)"
      ]
    },
    {
      "cell_type": "markdown",
      "metadata": {
        "id": "mSsgbUjovFWP"
      },
      "source": [
        "## Languages\n",
        "\n",
        "\n",
        "- [C](https://colab.research.google.com/github/dbremont/Notas/blob/main/Herramientas/C.ipynb)\n",
        "\n",
        "- [GNU Assembler](https://colab.research.google.com/github/dbremont/Notas/blob/main/Herramientas/GNU_Assembler.ipynb)\n",
        "\n",
        "- [Java](https://colab.research.google.com/github/dbremont/Notas/blob/main/Herramientas/Java.ipynb)\n",
        "\n",
        "- [Python](https://colab.research.google.com/github/dbremont/Notas/blob/main/Herramientas/Python.ipynb)\n",
        "\n",
        "- [Ruby](https://colab.research.google.com/github/dbremont/Notas/blob/main/Herramientas/Ruby.ipynb)\n",
        "\n",
        "- [Scheme](https://colab.research.google.com/github/dbremont/Notas/blob/main/Herramientas/Scheme.ipynb)\n"
      ]
    },
    {
      "cell_type": "markdown",
      "metadata": {
        "id": "R-2Lu3evtEZM"
      },
      "source": [
        "## Otros"
      ]
    },
    {
      "cell_type": "markdown",
      "metadata": {
        "id": "9-tkqah-tE7H"
      },
      "source": [
        "- [Docker](https://www.docker.com/)\n",
        "\n",
        "- [Vagrant](https://www.vagrantup.com/)\n",
        "\n",
        "- [Bocker](https://github.com/p8952/bocker)\n",
        "\n",
        "- [Qemu](https://www.qemu.org/documentation/)\n",
        "\n",
        "- [Hazel Cast](https://hazelcast.com/)\n",
        "\n",
        "- [Maven](https://colab.research.google.com/github/dbremont/Notas/blob/main/Herramientas/OCaml.ipynb)\n",
        "\n",
        "- Elasticsearch\n",
        "\n",
        "- Apache Lucene\n",
        "\n",
        "- Lurn JS\n",
        "\n",
        "- Jekyll\n",
        "\n",
        "- [GIT](https://colab.research.google.com/github/dbremont/Notas/blob/main/Ingenerare/GIT.ipynb)\n",
        "\n",
        "- [Apache JMeter](https://jmeter.apache.org/)\n",
        "\n",
        "- [Selenium](https://www.selenium.dev/)\n",
        "\n",
        "* [WildFly Documentation](https://docs.wildfly.org/20/)"
      ]
    }
  ]
}