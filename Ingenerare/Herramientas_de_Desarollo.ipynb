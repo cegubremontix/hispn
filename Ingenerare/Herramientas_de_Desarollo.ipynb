{
  "nbformat": 4,
  "nbformat_minor": 0,
  "metadata": {
    "colab": {
      "name": "Herramientas de Desarollo.ipynb",
      "provenance": [],
      "toc_visible": true,
      "include_colab_link": true
    },
    "kernelspec": {
      "name": "python3",
      "display_name": "Python 3"
    },
    "language_info": {
      "name": "python"
    }
  },
  "cells": [
    {
      "cell_type": "markdown",
      "metadata": {
        "id": "view-in-github",
        "colab_type": "text"
      },
      "source": [
        "<a href=\"https://colab.research.google.com/github/dbremont/Notas/blob/main/Ingenerare/Herramientas_de_Desarollo.ipynb\" target=\"_parent\"><img src=\"https://colab.research.google.com/assets/colab-badge.svg\" alt=\"Open In Colab\"/></a>"
      ]
    },
    {
      "cell_type": "markdown",
      "metadata": {
        "id": "pWDbL13wEtqF"
      },
      "source": [
        "## Herramientas de Desarollo\n",
        "\n",
        "[Articulos Herramientas de Desarrollo](https://colab.research.google.com/github/dbremont/Notas/blob/main/Ingenerare/Articulos_Herramientas_de_Desarrollo.ipynb)"
      ]
    },
    {
      "cell_type": "markdown",
      "metadata": {
        "id": "RMC0T41rtnEy"
      },
      "source": [
        "## Text Editors\n"
      ]
    },
    {
      "cell_type": "markdown",
      "metadata": {
        "id": "6czKUXctv4jl"
      },
      "source": [
        "- [ctrlp.vim](https://github.com/ctrlpvim/ctrlp.vim)\n",
        "\n",
        "- [Vundle.vim](https://github.com/VundleVim/Vundle.vim)\n",
        "\n",
        "- [coc.nvim](https://github.com/neoclide/coc.nvim)\n",
        "\n",
        "- [gundo.vim](https://github.com/sjl/gundo.vim)\n",
        "\n",
        "- [vim-easymotion](https://github.com/easymotion/vim-easymotion)\n",
        "\n",
        "- [sed, a stream editor](https://www.gnu.org/software/sed/manual/sed.html)"
      ]
    },
    {
      "cell_type": "markdown",
      "metadata": {
        "id": "xuh_Utkbv1hj"
      },
      "source": [
        "## Shells"
      ]
    },
    {
      "cell_type": "markdown",
      "metadata": {
        "id": "8J4sIDabvx_C"
      },
      "source": [
        "- [ranger](https://github.com/ranger/ranger)\n",
        "\n",
        "- [fzf](https://github.com/tmux/tmux)\n",
        "\n",
        "- [autojump](https://github.com/wting/autojump)\n",
        "\n",
        "- [locate](https://man7.org/linux/man-pages/man1/locate.1.html)\n",
        "\n",
        "- [ripgrep](https://github.com/BurntSushi/ripgrep)\n",
        "\n",
        "- [bash](https://colab.research.google.com/github/dbremont/Notas/blob/main/Ingenerare/bash.ipynb)\n",
        "\n",
        "- [zsh](https://colab.research.google.com/github/dbremont/Notas/blob/main/ingenerare/zsh.ipynb)\n",
        "\n",
        "- [exa](https://the.exa.website/)\n",
        "\n",
        "- [curl](https://curl.se/)\n",
        "\n",
        "- [doitlive](https://doitlive.readthedocs.io/en/stable/)\n",
        "\n",
        "- [Screen](https://ss64.com/bash/screen.html)\n",
        "\n",
        "- [explainshell](https://explainshell.com/)\n",
        "\n",
        "- [tmux](https://colab.research.google.com/github/dbremont/Notas/blob/main/Ingenerare/tmux.ipynb)\n",
        "\n",
        "- [xargs](https://colab.research.google.com/github/dbremont/Notas/blob/main/Ingenerare/xargs.ipynb)"
      ]
    },
    {
      "cell_type": "markdown",
      "metadata": {
        "id": "ZKKFItXan_j8"
      },
      "source": [
        "- cut\n",
        "- ptx\n",
        "- fmpt\n",
        "- ln\n",
        "- shuft\n",
        "- uniq\n",
        "- chmod\n",
        "- basename\n",
        "- realpath\n",
        "- dirname\n",
        "- du\n",
        "- groups\n",
        "- nohup\n",
        "- nproc\n",
        "- printenv\n",
        "- seq\n",
        "- awk\n",
        "- stat\n",
        "- tee\n",
        "- test\n",
        "- uptime\n",
        "- users\n",
        "- whoami\n",
        "- getopt\n",
        "- cal\n",
        "- mount\n",
        "- more\n",
        "- less\n",
        "- logname\n",
        "- ipcs\n",
        "- ipcrm\n",
        "- hexdump\n",
        "- file\n",
        "- diff\n",
        "- ctags\n",
        "- cflow\n",
        "- alias\n",
        "- cltr + r (reverse search)\n",
        "- head\n",
        "- [funky](https://github.com/bbugyi200/funky)\n",
        "- [mcfly](https://github.com/cantino/mcfly/)\n",
        "- [mitmproxy](https://mitmproxy.org/)\n",
        "- pstree"
      ]
    },
    {
      "cell_type": "markdown",
      "metadata": {
        "id": "-7zJdxqABNky"
      },
      "source": [
        "## Monitoring, Profiling, Debugging"
      ]
    },
    {
      "cell_type": "markdown",
      "metadata": {
        "id": "obF8ncFeBOcV"
      },
      "source": [
        "\n",
        "\n",
        "[Flamegraphs](https://www.brendangregg.com/flamegraphs.html)\n",
        "\n",
        "[Perf](https://www.brendangregg.com/perf.html)\n",
        "\n",
        "\n",
        "\n",
        "time\n",
        "\n",
        "[Glances](https://github.com/nicolargo/glances)"
      ]
    },
    {
      "cell_type": "markdown",
      "metadata": {
        "id": "CgEEnMCSvqO0"
      },
      "source": [
        "## Automatizacion"
      ]
    },
    {
      "cell_type": "markdown",
      "metadata": {
        "id": "5gMjF7O9vsMY"
      },
      "source": [
        "[autokey](https://github.com/autokey/autokey)\n",
        "\n",
        "[crontab](https://crontab.guru/)"
      ]
    },
    {
      "cell_type": "markdown",
      "metadata": {
        "id": "dkoEXAvn0MS2"
      },
      "source": [
        "## Data"
      ]
    },
    {
      "cell_type": "markdown",
      "metadata": {
        "id": "DBn-nQ8s0NsK"
      },
      "source": [
        "[Pytorch](https://pytorch.org/get-started/locally/)\n",
        "\n",
        "[FastAI](https://docs.fast.ai/)\n",
        "\n",
        "[sklearn](https://scikit-learn.org/stable/)\n",
        "\n",
        "[Beautiful Soup](https://www.crummy.com/software/BeautifulSoup/bs4/doc/)\n",
        "\n",
        "[Awk](https://en.wikipedia.org/wiki/AWK)\n",
        "\n",
        "[ggplot2](https://ggplot2.tidyverse.org/)\n",
        "\n",
        "[jq](https://stedolan.github.io/jq/)\n",
        "\n",
        "[The R Project for Statistical Computing](https://www.r-project.org/)\n",
        "\n",
        "  - [The R Graph Gallery]((https://www.r-graph-gallery.com)"
      ]
    },
    {
      "cell_type": "markdown",
      "metadata": {
        "id": "mSsgbUjovFWP"
      },
      "source": [
        "## Languages\n",
        "\n",
        "\n",
        "[C](https://colab.research.google.com/github/dbremont/Notas/blob/main/Herramientas/C.ipynb)\n",
        "\n",
        "[GNU Assembler](https://colab.research.google.com/github/dbremont/Notas/blob/main/Herramientas/GNU_Assembler.ipynb)\n",
        "\n",
        "[Java](https://colab.research.google.com/github/dbremont/Notas/blob/main/Herramientas/Java.ipynb)\n",
        "\n",
        "[Python](https://colab.research.google.com/github/dbremont/Notas/blob/main/Herramientas/Python.ipynb)\n",
        "\n",
        "[Ruby](https://colab.research.google.com/github/dbremont/Notas/blob/main/Herramientas/Ruby.ipynb)\n",
        "\n",
        "[Scheme](https://colab.research.google.com/github/dbremont/Notas/blob/main/Herramientas/Scheme.ipynb)\n"
      ]
    },
    {
      "cell_type": "markdown",
      "metadata": {
        "id": "R-2Lu3evtEZM"
      },
      "source": [
        "## Otros"
      ]
    },
    {
      "cell_type": "markdown",
      "metadata": {
        "id": "9-tkqah-tE7H"
      },
      "source": [
        "- [Monaco Editor](https://microsoft.github.io/monaco-editor/)\n",
        "\n",
        "- [Docker](https://www.docker.com/)\n",
        "\n",
        "- [Vagrant](https://www.vagrantup.com/)\n",
        "\n",
        "- [Bocker](https://github.com/p8952/bocker)\n",
        "\n",
        "- [Qemu](https://www.qemu.org/documentation/)\n",
        "\n",
        "- [Hazel Cast](https://hazelcast.com/)\n",
        "\n",
        "- [Maven](https://colab.research.google.com/github/dbremont/Notas/blob/main/Herramientas/OCaml.ipynb)\n",
        "\n",
        "- Elasticsearch\n",
        "\n",
        "- Apache Lucene\n",
        "\n",
        "- Lurn JS\n",
        "\n",
        "- Jekyll\n",
        "\n",
        "- [GIT](https://colab.research.google.com/github/dbremont/Notas/blob/main/Ingenerare/GIT.ipynb)\n",
        "\n",
        "- [Apache JMeter](https://jmeter.apache.org/)\n",
        "\n",
        "- [Selenium](https://www.selenium.dev/)\n",
        "\n",
        "* [WildFly Documentation](https://docs.wildfly.org/20/)\n",
        "  - [src](https://github.com/wildfly/wildfly/)\n",
        "\n",
        "* [Jupyter](https://colab.research.google.com/github/dbremont/Notas/blob/main/Ingenerare/Articulos_Herramientas_de_Desarrollo.ipynb#scrollTo=bLLGTv8EtSSo)\n",
        "\n",
        "- GDB,\n",
        "\n",
        "- Strace,\n",
        "- [How should strace be used?](https://stackoverflow.com/questions/174942/how-should-strace-be-used)\n",
        "\n",
        "- Oracle\n",
        "  - select * from NLS_SESSION_PARAMETERS where PARAMETER = 'NLS_DATE_FORMAT';\n",
        "\n",
        "  - [NLS_DATE_LANGUAGE](https://docs.oracle.com/cd/B28359_01/olap.111/b28126/dml_options067.htm#OLADM408)\n",
        "\n",
        "  - [TO_DATE](https://docs.oracle.com/cd/B19306_01/server.102/b14200/functions183.htm)\n",
        "\n",
        "  - [How to setup Docker container Oracle Database 19c for Liferay Development Environment](https://dev.to/amusarra/how-to-setup-docker-container-oracle-database-19c-for-liferay-development-environment-f0j)\n",
        "\n",
        "  - [How do I limit the number of rows returned by an Oracle query after ordering?](https://stackoverflow.com/questions/470542/how-do-i-limit-the-number-of-rows-returned-by-an-oracle-query-after-ordering)\n",
        "  \n",
        "  - Fechas y Tiempos:\n",
        "\n",
        "  En la capa de interraccion del sistema de base de datos, se utilizan varios formatos para repreesntar la data de las fechas y tiempos, lo cual puede generar problemas al interpretarlo por el dbms ya que este usa el formato estlecido para la session actual.\n",
        "\n",
        "- cloc\n",
        "\n",
        "- [GNU Make](https://www.gnu.org/software/make/manual/html_node/index.html)\n",
        "  -  Ojo estos solo soportan tab.\n",
        "\n",
        "- [Pandoc](https://pandoc.org/)\n",
        "\n",
        "- [Valgrind](https://valgrind.org/)\n",
        "\n",
        "- "
      ]
    }
  ]
}