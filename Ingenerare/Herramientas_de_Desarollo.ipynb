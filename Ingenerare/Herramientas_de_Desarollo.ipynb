{
  "nbformat": 4,
  "nbformat_minor": 0,
  "metadata": {
    "colab": {
      "name": "Herramientas de Desarollo.ipynb",
      "provenance": [],
      "toc_visible": true,
      "include_colab_link": true
    },
    "kernelspec": {
      "name": "python3",
      "display_name": "Python 3"
    },
    "language_info": {
      "name": "python"
    }
  },
  "cells": [
    {
      "cell_type": "markdown",
      "metadata": {
        "id": "view-in-github",
        "colab_type": "text"
      },
      "source": [
        "<a href=\"https://colab.research.google.com/github/dbremont/Notas/blob/main/Ingenerare/Herramientas_de_Desarollo.ipynb\" target=\"_parent\"><img src=\"https://colab.research.google.com/assets/colab-badge.svg\" alt=\"Open In Colab\"/></a>"
      ]
    },
    {
      "cell_type": "markdown",
      "metadata": {
        "id": "pWDbL13wEtqF"
      },
      "source": [
        "## Herramientas de Desarollo\n",
        "\n",
        "[The Missing Semester of Your CS Education](https://missing.csail.mit.edu/2020/)\n",
        "\n",
        "[List of GNU Core Utilities commands](https://en.wikipedia.org/wiki/List_of_GNU_Core_Utilities_commands)\n",
        "\n",
        "[awesome-devenv](https://github.com/jondot/awesome-devenv)\n",
        "\n",
        "[Util Linux](https://en.wikipedia.org/wiki/Util-linux)\n",
        "\n",
        "[List of Unix Commands](https://en.wikipedia.org/wiki/List_of_Unix_commands)\n",
        "\n",
        "lsutils - Listar mis scripts\n",
        "\n",
        "[Articulos Herramientas de Desarrollo](https://colab.research.google.com/github/dbremont/Notas/blob/main/Ingenerare/Articulos_Herramientas_de_Desarrollo.ipynb)"
      ]
    },
    {
      "cell_type": "markdown",
      "metadata": {
        "id": "RMC0T41rtnEy"
      },
      "source": [
        "## Text Editors\n"
      ]
    },
    {
      "cell_type": "markdown",
      "metadata": {
        "id": "6czKUXctv4jl"
      },
      "source": [
        "- [ack.vim](https://github.com/mileszs/ack.vim)\n",
        "\n",
        "- [ctrlp.vim](https://github.com/ctrlpvim/ctrlp.vim)\n",
        "\n",
        "- [Vundle.vim](https://github.com/VundleVim/Vundle.vim)\n",
        "\n",
        "- [coc.nvim](https://github.com/neoclide/coc.nvim)\n",
        "\n",
        "- [gundo.vim](https://github.com/sjl/gundo.vim)\n",
        "\n",
        "- [vim-easymotion](https://github.com/easymotion/vim-easymotion)\n",
        "\n",
        "- [sed, a stream editor](https://www.gnu.org/software/sed/manual/sed.html)\n"
      ]
    },
    {
      "cell_type": "markdown",
      "metadata": {
        "id": "xuh_Utkbv1hj"
      },
      "source": [
        "## Shells"
      ]
    },
    {
      "cell_type": "markdown",
      "metadata": {
        "id": "8J4sIDabvx_C"
      },
      "source": [
        "- [Ranger](https://github.com/ranger/ranger)\n",
        "\n",
        "- [fzf](https://github.com/tmux/tmux)\n",
        "\n",
        "- [ShellCheck](https://www.shellcheck.net/)\n",
        "\n",
        "- [autojump](https://github.com/wting/autojump)\n",
        "\n",
        "- [locale](https://man7.org/linux/man-pages/man1/locate.1.html)\n",
        "\n",
        "- [ripgrep](https://github.com/BurntSushi/ripgrep)\n",
        "\n",
        "- [ack](https://beyondgrep.com/)\n",
        "\n",
        "- [fishshell](https://fishshell.com/)\n",
        "\n",
        "- [ohmyzsh](https://ohmyz.sh/)\n",
        "\n",
        "- [fish-like autosuggestions for zsh](https://github.com/zsh-users/zsh-autosuggestions)\n",
        "\n",
        "- [exa](https://the.exa.website/)\n",
        "\n",
        "- [lnav - Log file navigator](https://lnav.org/)\n",
        "\n",
        "- [httpie](https://httpie.io)\n",
        "\n",
        "- [curl](https://curl.se/)\n",
        "\n",
        "- [wget](https://www.gnu.org/software/wget/)\n",
        "\n",
        "- [doitlive](https://doitlive.readthedocs.io/en/stable/)\n",
        "\n",
        "- [Screen](https://ss64.com/bash/screen.html)\n",
        "\n",
        "- [explainshell](https://explainshell.com/)\n",
        "\n",
        "- [cal (command)](https://en.wikipedia.org/wiki/Cal_(command))\n",
        "\n",
        "- [pgrep](https://en.wikipedia.org/wiki/Pgrep)\n",
        "\n",
        "- [A language server for Bash](https://github.com/bash-lsp/bash-language-server)\n",
        "\n",
        "- [Run Commands](https://en.wikipedia.org/wiki/Run_commands)\n",
        "\n",
        "- [GNU Stow -  Symlink farm manager](https://www.gnu.org/software/stow/)\n",
        "\n",
        "- [Automation framework for programmers](https://ianmiell.github.io/shutit/)\n",
        "\n",
        "- [shell-history - Visualize your shell usage with Highcharts](https://github.com/pawamoy/shell-history)\n",
        "\n",
        "- [shellspec](https://github.com/shellspec/shellspec)\n",
        "\n",
        "- [zsh-easy-motion](https://github.com/IngoMeyer441/zsh-easy-motion)\n",
        "\n",
        "- [zsh-autosuggestions](https://github.com/zsh-users/zsh-autosuggestions)"
      ]
    },
    {
      "cell_type": "markdown",
      "metadata": {
        "id": "ZKKFItXan_j8"
      },
      "source": [
        "- ptx\n",
        "- fmpt\n",
        "- ln\n",
        "- shuft\n",
        "- uniq\n",
        "- chmod\n",
        "- basename\n",
        "- realpath\n",
        "- dirname\n",
        "- du\n",
        "- groups\n",
        "- nohup\n",
        "- nproc\n",
        "- printenv\n",
        "- seq\n",
        "- awk\n",
        "- stat\n",
        "- tee\n",
        "- test\n",
        "- uptime\n",
        "- users\n",
        "- whoami\n",
        "- getopt\n",
        "- cal\n",
        "- mount\n",
        "- more\n",
        "- less\n",
        "- logname\n",
        "- ipcs\n",
        "- ipcrm\n",
        "- hexdump\n",
        "- file\n",
        "- diff\n",
        "- ctags\n",
        "- cflow\n",
        "- alias\n",
        "\n",
        "- cltr + r (reverse search)\n",
        "\n"
      ]
    },
    {
      "cell_type": "markdown",
      "metadata": {
        "id": "xQoXP-WEpkpr"
      },
      "source": [
        "## Monitoring"
      ]
    },
    {
      "cell_type": "markdown",
      "metadata": {
        "id": "FH-qHI1HpmWf"
      },
      "source": [
        "- [htop](https://htop.dev/)\n",
        "\n",
        "- [Glances is a cross-platform system monitoring too](https://github.com/nicolargo/glances)"
      ]
    },
    {
      "cell_type": "markdown",
      "metadata": {
        "id": "-7zJdxqABNky"
      },
      "source": [
        "## Debugging and Profiling"
      ]
    },
    {
      "cell_type": "markdown",
      "metadata": {
        "id": "obF8ncFeBOcV"
      },
      "source": [
        "- [Debugging and Profiling](https://missing.csail.mit.edu/2020/debugging-profiling)\n",
        "\n",
        "- [Flamegraphs](https://www.brendangregg.com/flamegraphs.html)\n",
        "\n",
        "- [Perf](https://www.brendangregg.com/perf.html)\n",
        "\n",
        "- [Linux perf_event Event Sources](https://www.brendangregg.com/perf_events/perf_events_map.png)"
      ]
    },
    {
      "cell_type": "markdown",
      "metadata": {
        "id": "CgEEnMCSvqO0"
      },
      "source": [
        "## Automatizacion"
      ]
    },
    {
      "cell_type": "markdown",
      "metadata": {
        "id": "5gMjF7O9vsMY"
      },
      "source": [
        "[autokey](https://github.com/autokey/autokey)\n",
        "\n",
        "[crontab](https://crontab.guru/)\n",
        "\n",
        "[How do I set up a Cron job?](https://askubuntu.com/questions/2368/how-do-i-set-up-a-cron-job)\n"
      ]
    },
    {
      "cell_type": "markdown",
      "metadata": {
        "id": "uXKZ12QGGiX7"
      },
      "source": [
        "## Security and Cryptography"
      ]
    },
    {
      "cell_type": "markdown",
      "metadata": {
        "id": "tMf8ebjhGjTg"
      },
      "source": [
        "- [Oauth](https://www.oauth.com/)"
      ]
    },
    {
      "cell_type": "markdown",
      "metadata": {
        "id": "OCU1f15lt8hk"
      },
      "source": [
        "## Terminal Multiplexer"
      ]
    },
    {
      "cell_type": "markdown",
      "metadata": {
        "id": "x2pzasHPt50X"
      },
      "source": [
        "- [Terminal Multiplexers](http://linuxcommand.org/lc3_adv_termmux.php)\n",
        "\n",
        "- [A Quick and Easy Guide to tmux](https://www.hamvocke.com/blog/a-quick-and-easy-guide-to-tmux/)\n",
        "\n",
        "- [How do I scroll in tmux?](https://superuser.com/questions/209437/how-do-i-scroll-in-tmux)\n",
        "\n",
        "- [True reloading of tmux config?](https://unix.stackexchange.com/questions/373409/true-reloading-of-tmux-config) \n",
        "\n",
        "- [10 practical examples of tmux configuration with example](https://www.golinuxcloud.com/tmux-config/)\n",
        "\n",
        "- [A Quick and Easy Guide to tmux](https://www.hamvocke.com/blog/a-quick-and-easy-guide-to-tmux/)\n",
        "\n",
        "- TMUX\n",
        "  - SESSIONS : a session is an independent workspace with one or more windows\n",
        "  - WINDOWS : Equivalent to tabs in editors or browsers, they are visually separate parts of the same session\n",
        "  - Panes : Like vim splits, panes let you have multiple shells in the same visual display."
      ]
    },
    {
      "cell_type": "markdown",
      "metadata": {
        "id": "H3lPrcMZRwGn"
      },
      "source": [
        "## Data Wrangling"
      ]
    },
    {
      "cell_type": "markdown",
      "metadata": {
        "id": "HJ_NkpkRRxrk"
      },
      "source": [
        "- [missing csail data wrangling](https://missing.csail.mit.edu/2020/data-wrangling/)\n",
        "\n",
        "- [Web scraping](https://en.wikipedia.org/wiki/Web_scraping)\n",
        "\n",
        "- [Data scraping](https://en.wikipedia.org/wiki/Data_wrangling)\n",
        "\n",
        "- [Data Science at the Command Line, 2e](https://www.datascienceatthecommandline.com/2e/)\n",
        "\n",
        "- [jq](https://stedolan.github.io/jq/)\n",
        "\n",
        "- [Regular expressions](https://en.wikipedia.org/wiki/Regular_expression)\n",
        "\n",
        "- [Idiomatic awk](https://backreference.org/2010/02/10/idiomatic-awk/)\n",
        "\n",
        "- [In search of the perfect URL validation regex](https://mathiasbynens.be/demo/url-regex)\n",
        "\n",
        "- [Almost Perfect Email Regex Everything About Email Expression! Email Address Regular Expression That 99.99% Works](https://emailregex.com/)\n",
        "\n",
        "- [Comparing E-mail Address Validating Regular Expressions](https://fightingforalostcause.net/content/misc/2006/compare-email-regex.php)\n",
        "\n",
        "-[A regular expression to check for prime numbers](https://www.noulakaz.net/2007/03/18/a-regular-expression-to-check-for-prime-numbers/)\n",
        "\n",
        "- [Tutorial: Web Scraping with Python Using Beautiful Soup](https://www.dataquest.io/blog/web-scraping-python-using-beautiful-soup/)\n",
        "\n",
        "- [Beautiful Soup](https://www.crummy.com/software/BeautifulSoup/bs4/doc/)\n",
        "\n",
        "- [Awk](https://en.wikipedia.org/wiki/AWK)\n",
        "\n",
        "- [Awk by example](https://developer.ibm.com/tutorials/l-awk1/)\n",
        "\n",
        "- [ggplot2](https://ggplot2.tidyverse.org/)"
      ]
    },
    {
      "cell_type": "markdown",
      "metadata": {
        "id": "fdJ1R93DpaFK"
      },
      "source": [
        "## Linux - Ubuntu"
      ]
    },
    {
      "cell_type": "markdown",
      "metadata": {
        "id": "bcaTCyaLE67i"
      },
      "source": [
        "[Filesystem Hierarchy Standard](https://refspecs.linuxfoundation.org/FHS_2.3/fhs-2.3.html)\n",
        "\n",
        "**Signals**\n",
        "\n",
        "- SIGNAL\n",
        "- SINHUP\n",
        "- NOHUP"
      ]
    },
    {
      "cell_type": "markdown",
      "metadata": {
        "id": "btjUcBzJo54C"
      },
      "source": [
        "## Version Control (GIT)\n",
        "\n",
        "[Ir](https://missing.csail.mit.edu/2020/version-control/)\n",
        "\n",
        "- [How to Write a Git Commit Message](https://chris.beams.io/posts/git-commit/)\n",
        "\n",
        "- [A successful Git branching model](https://nvie.com/posts/a-sucessful-git-branching-model/)\n",
        "\n",
        "- [Gitflow considered harmful](https://www.endoflineblog.com/gitflow-considered-harmful)\n",
        "\n",
        "- [Gitflow Workflow](https://www.atlassian.com/git/tutorials/comparing-workflows/gitflow-workflow)\n",
        "\n",
        "- [Pro Git](https://git-scm.com/book/en/v2)\n",
        "\n",
        "- [Oh Shit, Git!?!](https://ohshitgit.com/)\n",
        "\n",
        "- [Git for Computer Scientists](https://eagain.net/articles/git-for-computer-scientists/)\n",
        "\n",
        "- [Git from the Bottom Up](https://jwiegley.github.io/git-from-the-bottom-up/)\n",
        "\n",
        "- [How to explain git in simple words?](https://xosh.org/explain-git-in-simple-words/)\n",
        "\n",
        "- [Tig: text-mode interface for Git](https://jonas.github.io/tig/)\n",
        "\n",
        "- [Learn Git Branching](https://learngitbranching.js.org/)\n",
        "\n",
        "- Create a Config repository.\n",
        "  - [Configs](https://github.com/jonhoo/configs)\n",
        "\n",
        "- [Git](https://en.wikipedia.org/wiki/Git)\n",
        "\n"
      ]
    },
    {
      "cell_type": "markdown",
      "metadata": {
        "id": "hBxbTtN3HAVg"
      },
      "source": [
        "Version control systems (VCSs) are tools used to track changes to source code (or other collections of files and folders). \n",
        "\n",
        "While git *ugly interfaces*  must me memorized, its principles can be undertood.\n",
        "\n",
        "- Git's data model\n",
        "- Modelling history\n",
        "- Data model, as pseudocode\n",
        "- Repositories\n",
        "  - objects\n",
        "  - references\n",
        "- Staging Area area\n",
        "- git data model\n",
        "  - objects\n",
        "  - references\n",
        "- how git commands affect the data model\n",
        "- what commit introduce this change in git\n",
        "- git snapshopts\n",
        "\n",
        "\n",
        "- leaky abstraction in git"
      ]
    },
    {
      "cell_type": "markdown",
      "metadata": {
        "id": "BuFB3u9MJPxL"
      },
      "source": [
        "## Otros"
      ]
    },
    {
      "cell_type": "markdown",
      "metadata": {
        "id": "b5u2fie7JTk8"
      },
      "source": [
        "- [Docker](https://www.docker.com/)\n",
        "\n",
        "- [Vagrant](https://www.vagrantup.com/)\n",
        "\n",
        "- [Bocker](https://github.com/p8952/bocker)\n",
        "\n",
        "- [Qemu](https://www.qemu.org/documentation/)\n",
        "\n",
        "- [Hazel Cast](https://hazelcast.com/)\n",
        "\n",
        "- Jekyll tool"
      ]
    },
    {
      "cell_type": "markdown",
      "metadata": {
        "id": "dkoEXAvn0MS2"
      },
      "source": [
        "## Data"
      ]
    },
    {
      "cell_type": "markdown",
      "metadata": {
        "id": "DBn-nQ8s0NsK"
      },
      "source": [
        "- [Pytorch](https://pytorch.org/get-started/locally/)\n",
        "\n",
        "- [FastAI](https://docs.fast.ai/)\n",
        "\n",
        "- [sklearn](https://scikit-learn.org/stable/)"
      ]
    },
    {
      "cell_type": "markdown",
      "metadata": {
        "id": "mSsgbUjovFWP"
      },
      "source": [
        "## Languages\n",
        "\n",
        "\n",
        "- [C](https://colab.research.google.com/github/dbremont/Notas/blob/main/Herramientas/C.ipynb)\n",
        "\n",
        "- [GNU Assembler](https://colab.research.google.com/github/dbremont/Notas/blob/main/Herramientas/GNU_Assembler.ipynb)\n",
        "\n",
        "- [Java](https://colab.research.google.com/github/dbremont/Notas/blob/main/Herramientas/Java.ipynb)\n",
        "\n",
        "- [Maven](https://colab.research.google.com/github/dbremont/Notas/blob/main/Herramientas/OCaml.ipynb)\n",
        "\n",
        "- [PHP](https://colab.research.google.com/github/dbremont/Notas/blob/main/Herramientas/PHP.ipynb)\n",
        "\n",
        "- [Python](https://colab.research.google.com/github/dbremont/Notas/blob/main/Herramientas/Python.ipynb)\n",
        "\n",
        "- [Ruby](https://colab.research.google.com/github/dbremont/Notas/blob/main/Herramientas/Ruby.ipynb)\n",
        "\n",
        "- [Scheme](https://colab.research.google.com/github/dbremont/Notas/blob/main/Herramientas/Scheme.ipynb)\n",
        "\n",
        "- [Self-Improving Programs](https://colab.research.google.com/github/dbremont/Notas/blob/main/Herramientas/Self-Improving%20Programs.ipynb)\n"
      ]
    },
    {
      "cell_type": "markdown",
      "metadata": {
        "id": "HmC6CuY-vG7m"
      },
      "source": [
        "### Java"
      ]
    },
    {
      "cell_type": "markdown",
      "metadata": {
        "id": "tW7U54Z4vJ6c"
      },
      "source": [
        "### Python\n"
      ]
    },
    {
      "cell_type": "markdown",
      "metadata": {
        "id": "iLwRodlsvLAk"
      },
      "source": [
        "### Bash"
      ]
    },
    {
      "cell_type": "markdown",
      "metadata": {
        "id": "Ww2y36Q1vNAt"
      },
      "source": [
        "### C"
      ]
    },
    {
      "cell_type": "markdown",
      "metadata": {
        "id": "zSNuPjG81-Ad"
      },
      "source": [
        "## Language Tools"
      ]
    },
    {
      "cell_type": "markdown",
      "metadata": {
        "id": "eknh9K4P2Aek"
      },
      "source": [
        "- [antlr](https://www.antlr.org/),\n",
        "\n",
        "- [aspect js]\n",
        "\n",
        "- [bytebuddy](https://bytebuddy.net/#/)\n",
        "  "
      ]
    },
    {
      "cell_type": "markdown",
      "metadata": {
        "id": "sh_aNpPyJhN4"
      },
      "source": [
        "## How to's?"
      ]
    },
    {
      "cell_type": "markdown",
      "metadata": {
        "id": "U6ulxGogJi7i"
      },
      "source": [
        "- Listar todos los repositorios git en mi ordenador?\n"
      ]
    }
  ]
}