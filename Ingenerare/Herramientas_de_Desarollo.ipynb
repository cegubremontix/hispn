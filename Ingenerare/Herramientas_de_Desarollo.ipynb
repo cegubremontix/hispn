{
  "nbformat": 4,
  "nbformat_minor": 0,
  "metadata": {
    "colab": {
      "name": "Herramientas de Desarollo.ipynb",
      "provenance": [],
      "toc_visible": true,
      "include_colab_link": true
    },
    "kernelspec": {
      "name": "python3",
      "display_name": "Python 3"
    },
    "language_info": {
      "name": "python"
    }
  },
  "cells": [
    {
      "cell_type": "markdown",
      "metadata": {
        "id": "view-in-github",
        "colab_type": "text"
      },
      "source": [
        "<a href=\"https://colab.research.google.com/github/dbremont/Notas/blob/main/Ingenerare/Herramientas_de_Desarollo.ipynb\" target=\"_parent\"><img src=\"https://colab.research.google.com/assets/colab-badge.svg\" alt=\"Open In Colab\"/></a>"
      ]
    },
    {
      "cell_type": "markdown",
      "metadata": {
        "id": "pWDbL13wEtqF"
      },
      "source": [
        "## Herramientas de Desarollo\n",
        "\n",
        "[Articulos Herramientas de Desarrollo](https://colab.research.google.com/github/dbremont/Notas/blob/main/Ingenerare/Articulos_Herramientas_de_Desarrollo.ipynb)"
      ]
    },
    {
      "cell_type": "markdown",
      "metadata": {
        "id": "RMC0T41rtnEy"
      },
      "source": [
        "## Text Editors\n"
      ]
    },
    {
      "cell_type": "markdown",
      "metadata": {
        "id": "6czKUXctv4jl"
      },
      "source": [
        "[ctrlp.vim](https://github.com/ctrlpvim/ctrlp.vim)\n",
        "\n",
        "[vundle.vim](https://github.com/VundleVim/Vundle.vim)\n",
        "\n",
        "[coc.nvim](https://github.com/neoclide/coc.nvim)\n",
        "\n",
        "[gundo.vim](https://github.com/sjl/gundo.vim)\n",
        "\n",
        "[vim-easymotion](https://github.com/easymotion/vim-easymotion)\n",
        "\n",
        "[sed, a stream editor](https://colab.research.google.com/github/dbremont/Notas/blob/main/Ingenerare/sed_a_stream_editor.ipynb)"
      ]
    },
    {
      "cell_type": "markdown",
      "metadata": {
        "id": "xuh_Utkbv1hj"
      },
      "source": [
        "## Shells"
      ]
    },
    {
      "cell_type": "markdown",
      "metadata": {
        "id": "8J4sIDabvx_C"
      },
      "source": [
        "[zsh](https://colab.research.google.com/github/dbremont/Notas/blob/main/Ingenerare/zsh.ipynb)\n",
        "\n",
        "[tmux](https://colab.research.google.com/github/dbremont/Notas/blob/main/Ingenerare/tmux.ipynb)\n",
        "\n",
        "[xargs](https://colab.research.google.com/github/dbremont/Notas/blob/main/Ingenerare/xargs.ipynb)\n",
        "\n",
        "[autojump](https://github.com/wting/autojump)\n",
        "\n",
        "[locate](https://man7.org/linux/man-pages/man1/locate.1.html)\n",
        "\n",
        "[ripgrep](https://github.com/BurntSushi/ripgrep)\n",
        "\n",
        "[exa](https://the.exa.website/)\n",
        "\n",
        "[curl](https://curl.se/)\n",
        "\n",
        "[doitlive](https://doitlive.readthedocs.io/en/stable/)\n",
        "\n",
        "[screen](https://ss64.com/bash/screen.html)\n",
        "\n",
        "[explainshell](https://explainshell.com/)\n",
        "\n",
        "[funky](https://github.com/bbugyi200/funky)\n",
        "\n",
        "[mcfly](https://github.com/cantino/mcfly/)\n",
        "\n",
        "[mitmproxy](https://mitmproxy.org/)\n",
        "\n",
        "[playerctl](https://github.com/altdesktop/playerctl)\n",
        "\n",
        "[gnuspeech](https://www.gnu.org/software/gnuspeech/)\n",
        "\n",
        "[apt](https://en.wikipedia.org/wiki/APT_(software))\n",
        "\n",
        "[dpkg](https://en.wikipedia.org/wiki/Dpkg)\n",
        "\n",
        "- ```dpkg -L pakcage-name``` : Where does apt-get install packages to?\n",
        "\n",
        "- [Pandoc](https://pandoc.org/)"
      ]
    },
    {
      "cell_type": "markdown",
      "metadata": {
        "id": "ZKKFItXan_j8"
      },
      "source": [
        "[cut](https://man7.org/linux/man-pages/man1/cut.1.html)\n",
        "\n",
        "[ln](https://en.wikipedia.org/wiki/Ln_(Unix))\n",
        "\n",
        "[shuf](https://man7.org/linux/man-pages/man1/shuf.1.html)\n",
        "\n",
        "[uniq](https://man7.org/linux/man-pages/man1/uniq.1.html)\n",
        "\n",
        "[chmod](https://man7.org/linux/man-pages/man1/chmod.1.html)\n",
        "\n",
        "[basename](https://man7.org/linux/man-pages/man3/basename.3.html)\n",
        "\n",
        "[realpath](https://man7.org/linux/man-pages/man3/realpath.3.html)\n",
        " \n",
        "[dirname](https://man7.org/linux/man-pages/man1/dirname.1.html)\n",
        "\n",
        "[du](https://en.wikipedia.org/wiki/Du_(Unix))\n",
        "\n",
        "[groups](https://man7.org/linux/man-pages/man1/groups.1.html)\n",
        "\n",
        "[nohup](https://en.wikipedia.org/wiki/Nohup)\n",
        " \n",
        "[printenv](https://man7.org/linux/man-pages/man1/printenv.1.html)\n",
        "\n",
        "[seq](https://man7.org/linux/man-pages/man1/seq.1.html)\n",
        "\n",
        "[stat](https://man7.org/linux/man-pages/man2/lstat.2.html)\n",
        "\n",
        "[tee](https://man7.org/linux/man-pages/man1/tee.1.html)\n",
        "\n",
        "[test](https://man7.org/linux/man-pages/man1/test.1.html)\n",
        "\n",
        "[uptime](https://man7.org/linux/man-pages/man1/uptime.1.html)\n",
        "\n",
        "[users](https://man7.org/linux/man-pages/man1/users.1.html)\n",
        "\n",
        "[whoami](https://man7.org/linux/man-pages/man1/whoami.1.html)\n",
        "\n",
        "[getopt](https://man7.org/linux/man-pages/man3/getopt.3.html)\n",
        "\n",
        "[mount](https://man7.org/linux/man-pages/man8/mount.8.html)\n",
        "\n",
        "[less](https://man7.org/linux/man-pages/man1/less.1.html)\n",
        "\n",
        "[logname](https://man7.org/linux/man-pages/man1/logname.1.html)\n",
        "\n",
        "[hexdump](https://man7.org/linux/man-pages/man1/hexdump.1.html)\n",
        "\n",
        "[file](https://man7.org/linux/man-pages/man1/file.1.html)\n",
        "\n",
        "[diff](https://man7.org/linux/man-pages/man1/diff.1.html)\n",
        "\n",
        "[alias](https://man7.org/linux/man-pages/man1/alias.1p.html)\n",
        "\n",
        "[head](https://man7.org/linux/man-pages/man1/head.1.html)\n",
        "\n",
        "[pstree](https://man7.org/linux/man-pages/man1/pstree.1.html)\n",
        "\n",
        "[fc](https://en.wikipedia.org/wiki/Fc_(Unix))\n",
        "\n",
        "[true and false (commands)](https://en.wikipedia.org/wiki/True_and_false_(commands))\n",
        "\n",
        "[ln](https://en.wikipedia.org/wiki/Ln_(Unix))\n",
        "\n",
        "[expr](https://en.wikipedia.org/wiki/Expr)\n",
        "\n",
        "[expand](https://en.wikipedia.org/wiki/Expand_(Unix))\n",
        "\n",
        "[env](https://en.wikipedia.org/wiki/Env)\n",
        "\n",
        "[grep](https://en.wikipedia.org/wiki/Grep)\n",
        "\n",
        "[fuser](https://en.wikipedia.org/wiki/Fuser_(Unix))\n",
        "\n",
        "[fold](https://en.wikipedia.org/wiki/Fold_(Unix))\n",
        "\n",
        "[find](https://en.wikipedia.org/wiki/Find_(Unix))\n",
        "\n",
        "[kill](https://en.wikipedia.org/wiki/Kill_(command))\n",
        "\n",
        "[mkdir](https://en.wikipedia.org/wiki/Mkdir)\n",
        "\n",
        "[mv](https://en.wikipedia.org/wiki/Mv_(Unix))\n",
        "\n",
        "[nl](https://en.wikipedia.org/wiki/Nl_(Unix))\n",
        "\n",
        "[read](https://en.wikipedia.org/wiki/Read_(Unix))\n",
        "\n",
        "[sort](https://en.wikipedia.org/wiki/Sort_(Unix))\n",
        "\n",
        "[strings](https://en.wikipedia.org/wiki/Strings_(Unix))\n",
        "\n",
        "[tail](https://en.wikipedia.org/wiki/Tail_(Unix))\n",
        "\n",
        "[touch](https://en.wikipedia.org/wiki/Touch_(command))\n",
        "\n",
        "[tsort](https://en.wikipedia.org/wiki/Tsort)\n",
        "\n",
        "[wc](https://en.wikipedia.org/wiki/Wc_(Unix))\n",
        "\n",
        "[gzip](https://en.wikipedia.org/wiki/Gzip)\n",
        "\n",
        "[csplit](https://en.wikipedia.org/wiki/Csplit)\n",
        "\n",
        "[cp](https://en.wikipedia.org/wiki/Cp_(Unix))\n",
        "\n",
        "[chown](https://en.wikipedia.org/wiki/Chown)\n",
        "\n",
        "[chmod](https://en.wikipedia.org/wiki/Chmod)\n",
        "\n",
        "[cksum](https://en.wikipedia.org/wiki/Cksum)\n",
        "\n",
        "[ar](https://en.wikipedia.org/wiki/Ar_(Unix))\n",
        "\n",
        "[df](https://linux.die.net/man/1/df)\n",
        "\n",
        "[fg](https://man7.org/linux/man-pages/man1/fg.1p.html)\n",
        "\n",
        "[updatedb](https://linux.die.net/man/8/updatedb)"
      ]
    },
    {
      "cell_type": "markdown",
      "metadata": {
        "id": "CgEEnMCSvqO0"
      },
      "source": [
        "## Automatizacion"
      ]
    },
    {
      "cell_type": "markdown",
      "metadata": {
        "id": "5gMjF7O9vsMY"
      },
      "source": [
        "[autokey](https://colab.research.google.com/github/dbremont/Notas/blob/main/Ingenerare/Autokey.ipynb)\n",
        "\n",
        "[at](https://en.wikipedia.org/wiki/Ar_(Unix)) \n",
        "\n",
        "[crontab](https://crontab.guru/)"
      ]
    },
    {
      "cell_type": "markdown",
      "metadata": {
        "id": "dkoEXAvn0MS2"
      },
      "source": [
        "## Data"
      ]
    },
    {
      "cell_type": "markdown",
      "metadata": {
        "id": "DBn-nQ8s0NsK"
      },
      "source": [
        "[pytorch](https://pytorch.org/get-started/locally/)\n",
        "\n",
        "[FastAI](https://docs.fast.ai/)\n",
        "\n",
        "[sklearn](https://scikit-learn.org/stable/)\n",
        "\n",
        "[Beautiful Soup](https://www.crummy.com/software/BeautifulSoup/bs4/doc/)\n",
        "\n",
        "[awk](https://en.wikipedia.org/wiki/AWK)\n",
        "\n",
        "[ggplot2](https://ggplot2.tidyverse.org/)\n",
        "\n",
        "[jq](https://stedolan.github.io/jq/)\n",
        "\n",
        "[The R Project for Statistical Computing](https://www.r-project.org/)\n",
        "\n",
        "  - [The R Graph Gallery]((https://www.r-graph-gallery.com)"
      ]
    },
    {
      "cell_type": "markdown",
      "metadata": {
        "id": "mSsgbUjovFWP"
      },
      "source": [
        "## Languages\n",
        "\n",
        "\n",
        "[C](https://colab.research.google.com/github/dbremont/Notas/blob/main/Herramientas/C.ipynb)\n",
        "\n",
        "[GNU Assembler](https://colab.research.google.com/github/dbremont/Notas/blob/main/Herramientas/GNU_Assembler.ipynb)\n",
        "\n",
        "[Java](https://colab.research.google.com/github/dbremont/Notas/blob/main/Herramientas/Java.ipynb)\n",
        "\n",
        "[Python](https://colab.research.google.com/github/dbremont/Notas/blob/main/Herramientas/Python.ipynb)\n",
        "\n",
        "[Ruby](https://colab.research.google.com/github/dbremont/Notas/blob/main/Herramientas/Ruby.ipynb)\n",
        "\n",
        "[Scheme](https://colab.research.google.com/github/dbremont/Notas/blob/main/Herramientas/Scheme.ipynb)\n",
        "\n",
        "[The LLVM Compiler Infrastructure](https://llvm.org/)"
      ]
    },
    {
      "cell_type": "markdown",
      "metadata": {
        "id": "K-UOyfvx-Nv4"
      },
      "source": [
        "## Program Analysis"
      ]
    },
    {
      "cell_type": "markdown",
      "metadata": {
        "id": "PrTeH5xU-OhK"
      },
      "source": [
        "[ctags](https://en.wikipedia.org/wiki/Ctags)\n",
        "\n",
        "[cflow](https://en.wikipedia.org/wiki/GNU_cflow#cflow_(UNIX_utility))\n",
        "\n",
        "[strace](https://en.wikipedia.org/wiki/Strace)\n",
        "\n",
        "[gdb](https://en.wikipedia.org/wiki/GNU_Debugger)\n",
        "\n",
        "[flamegraphs](https://www.brendangregg.com/flamegraphs.html)\n",
        "\n",
        "[perf](https://www.brendangregg.com/perf.html)\n",
        "\n",
        "[time](https://man7.org/linux/man-pages/man1/time.1.html)\n",
        "\n",
        "[valgrind](https://valgrind.org/)\n",
        "\n",
        "[cloc](https://github.com/AlDanial/cloc)\n",
        "\n",
        "[apache jmeter](https://jmeter.apache.org/)\n",
        "\n",
        "[locust](https://locust.io/)\n",
        "\n",
        "[selenium](https://www.selenium.dev/)\n",
        "\n",
        "[Memzoom](https://justine.lol/memzoom/index.html)\n",
        "\n",
        "[Visualizing Codebases](https://octo-repo-visualization.vercel.app)\n",
        "\n",
        "[alvins82 / java-mini-profiler-core](https://github.com/alvins82/java-mini-profiler-core)"
      ]
    },
    {
      "cell_type": "markdown",
      "metadata": {
        "id": "R-2Lu3evtEZM"
      },
      "source": [
        "\n",
        "\n",
        "## Otros"
      ]
    },
    {
      "cell_type": "markdown",
      "metadata": {
        "id": "9-tkqah-tE7H"
      },
      "source": [
        "[Docker](https://colab.research.google.com/github/dbremont/Notas/blob/main/Ingenerare/Docker.ipynb)\n",
        "\n",
        "[Qemu](https://www.qemu.org/documentation/)\n",
        "\n",
        "[GIT](https://colab.research.google.com/github/dbremont/Notas/blob/main/Ingenerare/GIT.ipynb)\n",
        "\n",
        "[Jupyter](https://colab.research.google.com/github/dbremont/Notas/blob/main/Ingenerare/Articulos_Herramientas_de_Desarrollo.ipynb#scrollTo=bLLGTv8EtSSo)\n",
        "\n",
        "[Maven](https://colab.research.google.com/github/dbremont/Notas/blob/main/Herramientas/OCaml.ipynb)\n",
        "\n",
        "[GNU Make](https://colab.research.google.com/github/dbremont/Notas/blob/main/Ingenerare/GNU_Make.ipynb)\n",
        "\n",
        "[Oracle DB](https://colab.research.google.com/github/dbremont/Notas/blob/main/Ingenerare/Oracle_DB.ipynb)\n",
        "\n",
        "[xdotool](https://www.semicomplete.com/projects/xdotool/)\n",
        "\n",
        "xrandr\n",
        "\n",
        "xclip\n",
        "\n",
        "wmctrl\n",
        "\n",
        "[glances](https://glances.readthedocs.io/en/latest/index.html)\n",
        "\n",
        "[GitLab](https://colab.research.google.com/github/dbremont/Notas/blob/main/Ingenerare/GitLab.ipynb)\n",
        "\n",
        "[fastpages Template](https://fastpages.fast.ai/)\n",
        "\n"
      ]
    }
  ]
}