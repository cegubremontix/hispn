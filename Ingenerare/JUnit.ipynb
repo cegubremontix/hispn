{
  "nbformat": 4,
  "nbformat_minor": 0,
  "metadata": {
    "colab": {
      "name": "JUnit.ipynb",
      "provenance": [],
      "authorship_tag": "ABX9TyNrINSo5S3CvqxrN20cIice",
      "include_colab_link": true
    },
    "kernelspec": {
      "name": "python3",
      "display_name": "Python 3"
    },
    "language_info": {
      "name": "python"
    }
  },
  "cells": [
    {
      "cell_type": "markdown",
      "metadata": {
        "id": "view-in-github",
        "colab_type": "text"
      },
      "source": [
        "<a href=\"https://colab.research.google.com/github/dbremont/Notas/blob/main/Ingenerare/JUnit.ipynb\" target=\"_parent\"><img src=\"https://colab.research.google.com/assets/colab-badge.svg\" alt=\"Open In Colab\"/></a>"
      ]
    },
    {
      "cell_type": "markdown",
      "metadata": {
        "id": "7f89V1hkplbB"
      },
      "source": [
        "## JUnit"
      ]
    },
    {
      "cell_type": "markdown",
      "metadata": {
        "id": "39JFPfgLporJ"
      },
      "source": [
        "- [JUnit 5 Parameterized Test Yaml Test Data Source (yamaledt)](https://github.com/verhas/yamaledt)\n",
        "\n",
        "- [JUnit](https://github.com/junit-team/junit5)\n",
        "\n"
      ]
    }
  ]
}