{
  "nbformat": 4,
  "nbformat_minor": 0,
  "metadata": {
    "colab": {
      "name": "Computer Architecture.ipynb",
      "provenance": [],
      "authorship_tag": "ABX9TyMdoGGiU57zlu7YqwzWxQRP",
      "include_colab_link": true
    },
    "kernelspec": {
      "name": "python3",
      "display_name": "Python 3"
    },
    "language_info": {
      "name": "python"
    }
  },
  "cells": [
    {
      "cell_type": "markdown",
      "metadata": {
        "id": "view-in-github",
        "colab_type": "text"
      },
      "source": [
        "<a href=\"https://colab.research.google.com/github/dbremont/Notas/blob/main/Ingenerare/Computer_Architecture.ipynb\" target=\"_parent\"><img src=\"https://colab.research.google.com/assets/colab-badge.svg\" alt=\"Open In Colab\"/></a>"
      ]
    },
    {
      "cell_type": "markdown",
      "metadata": {
        "id": "Elz31sjbpwAe"
      },
      "source": [
        "* [Computer Architecture](https://www.coursera.org/learn/comparch)\n",
        "\n",
        "* [Computer Organization and Characterization A Pedagocial Aspects](https://nptel.ac.in/courses/106/103/106103180/)"
      ]
    }
  ]
}