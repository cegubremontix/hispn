{
  "nbformat": 4,
  "nbformat_minor": 0,
  "metadata": {
    "colab": {
      "name": " Computer Systems.ipynb",
      "provenance": [],
      "authorship_tag": "ABX9TyOdkRiJRp0Qd8eqmgmAXFOQ",
      "include_colab_link": true
    },
    "kernelspec": {
      "name": "python3",
      "display_name": "Python 3"
    },
    "language_info": {
      "name": "python"
    }
  },
  "cells": [
    {
      "cell_type": "markdown",
      "metadata": {
        "id": "view-in-github",
        "colab_type": "text"
      },
      "source": [
        "<a href=\"https://colab.research.google.com/github/dbremont/Notas/blob/main/Ingenerare/Computer_Systems.ipynb\" target=\"_parent\"><img src=\"https://colab.research.google.com/assets/colab-badge.svg\" alt=\"Open In Colab\"/></a>"
      ]
    },
    {
      "cell_type": "markdown",
      "metadata": {
        "id": "Elz31sjbpwAe"
      },
      "source": [
        "* [15-213/18-213/15-513: Introduction to Computer Systems (ICS)](http://www.cs.cmu.edu/afs/cs/academic/class/15213-s18/www/index.html)\n",
        "\n",
        "* [CS 361 Systems Programming](https://www.cs.uic.edu/~ckanich/cs361/f20/)\n",
        "\n",
        "* [CS 631 Advanced Programming in the UNIX Environment](https://stevens.netmeister.org/631/)\n",
        "\n",
        "* [CS 61: Systems Programming and Machine Organization](https://cs61.seas.harvard.edu/site/2019/)\n",
        "\n",
        "* [Programming and  Assembly Language](https://nptel.ac.in/courses/106/106/106106210)"
      ]
    },
    {
      "cell_type": "markdown",
      "metadata": {
        "id": "x6IrGEDCvGfO"
      },
      "source": [
        "**Virtual Memory**\n",
        "\n",
        "- How *fork* and *execv* work:\n",
        "  - With the knowledge of virtual memory I should give a descent respond to that question.\n",
        "\n",
        "- As an exercise implement a simple memory allocator.\n",
        "- Garbage Collector.\n",
        "\n",
        "- *nmap*\n",
        "\n",
        "- The memory is byte addresable\n",
        "  - [1-bit computing](https://en.wikipedia.org/wiki/1-bit_computing)\n",
        "  - [4-bit computing](https://en.wikipedia.org/wiki/4-bit_computing)\n",
        "- The memory acceses are to 1-byte words (not 4-byte words)\n",
        "- Virtual addreses are 14 bits wide (n = 14)\n",
        "- Physical addreses are 12 bits wide (n = 12)\n",
        "- The page size is 64 bytes (p = 64)\n",
        "- The TLB is 4-way set associative with 16 total entries.\n",
        "- The L1 d-cache is physically addresed and direct mapped, with a 4-byte line size and 16 total sets.\n",
        "- [Page table(PTE)](https://en.wikipedia.org/wiki/Page_table)\n",
        "\n",
        "- [Address space](https://en.wikipedia.org/wiki/Address_space)\n",
        "  * Remember *space* from math\n",
        "- [Virtual address space](https://en.wikipedia.org/wiki/Virtual_address_space) \n",
        "\n",
        "**Linux Virtual Memory Implementation Overview**\n",
        "\n",
        "- The copy on write mechanism.\n",
        "\n",
        "- Virtual memory is an abstraction of main memory. Processors that support virtual memory  reference main memory using a form of indirection known as virtual addresing.\n",
        "\n",
        "- The processor generates a virtual address, wich is translated into a physical addres before is send to the main memory.\n",
        "\n",
        "- Dedicated hardwaare translates virtual addreses using page tables whose contents are supplied by the operating system.\n",
        "\n",
        "- Modern systems initialize chunks of virtual memory by associating them with chunks of files on disk, a process known as memory mapping.\n",
        "\n",
        "\n"
      ]
    },
    {
      "cell_type": "markdown",
      "metadata": {
        "id": "2BOOiroxu49W"
      },
      "source": [
        "**Linking**\n",
        "\n",
        "- Library Interpositioning:\n",
        "\n",
        "**Why Linkers**:\n",
        "\n",
        "1. Modularity: Break code in different peaces,  library of functions.\n",
        "2. Efficiency: If the program is broken in multiples chunks, if on chuk changes, only the chunk that change must be recompile, and link again.\n",
        "\n",
        "**What Linkers Do**\n",
        "\n",
        "1. Symbol resolution.\n",
        "  - Symbol table.\n",
        "  - Map symbol references to unique object definition.\n",
        "2. Relocation: Merges separete code and data sections into single sections.\n",
        "  - Relocatable object file (.o file)\n",
        "  - Executable object file (a.out file)\n",
        "  - Shared  object file (.so file)\n",
        "\n",
        "**Generic name Executable and Linkable Format(ELF)**\n",
        "- ELF binaries use by (.o, a.out, .so) files\n",
        "\n",
        "- Elf header\n",
        "  - Word size, byte ordering, fie type (.o,   .exe, .so), machine typoe.\n",
        "- Segment header table\n",
        "- .text section\n",
        "  - Code\n",
        "- .rodata section\n",
        "  - Read only data, jump tables, ...\n",
        "- .data section\n",
        "  - Initialized global variables;\n",
        "- .bss section\n",
        "  - Uninitialized  global variables\n",
        "  - \"Block Started by Symbol\"\n",
        "  - \"Better Save Space\" \n",
        "  - Has section header but occupies no space\n",
        "\n",
        "**Linker Symbols**\n",
        "\n",
        "- non-static vs static functions.\n",
        "- loading a shared library.\n",
        "- Strong vs weak symbols.\n",
        "- x"
      ]
    },
    {
      "cell_type": "markdown",
      "metadata": {
        "id": "Ia8ZTBSGZWrF"
      },
      "source": [
        "## Exceptional Control Flow\n",
        "\n",
        "- From the time you first apply power to a processor until the time you shut it off,\n",
        "  the program counter assumes a secuence of values a0, a1, a2, ..., an-1.\n",
        "  \n",
        "  where ak is the address of some corresponding instruction Ik.\n",
        "\n",
        "- Pos(a0) = l0.\n",
        "\n",
        "- Each transiction from ak to ak+1 is called a *control transfer*.\n",
        "- A secuence of such control transfers is called the flow of control, or control flow, of the processor.\n",
        "\n",
        "- The simplest kind of control flow is a \"smooth\" sequence where each Ik and Ik+1 are adjancy in memory.\n",
        "- Abrupt changes to this smooth flow, where Ik, Ik+1 are not adjanced in memory, are caused by familiar program instructions\n",
        "  such as jumps, calls, and returns.\n",
        "- There are events to which software has to pay attention, a package arrives, a child process finish.\n",
        "\n",
        "- Modern systems react to this situations by making abrupt changes in the *control flow*. \n",
        "- In general, we refer to these abrupt cahnges as *exceptional control flow (ECF)*).\n",
        "\n",
        "\n",
        "- As a programmer is important to understand ECF:\n",
        "- Understanding ECF will help you understand important systems concepts.\n",
        "- Understanding EFC will help you understand how applications interest with the operating system.\n",
        "- Understand ECF wil help you  write intersting new application programs.\n",
        "- Understand ECF wil help you understand concurrency.\n",
        "- Understanding ECF will help you understand how software exceptions work.\n",
        " \n"
      ]
    }
  ]
}