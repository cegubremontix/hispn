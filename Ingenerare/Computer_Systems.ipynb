{
  "nbformat": 4,
  "nbformat_minor": 0,
  "metadata": {
    "colab": {
      "name": " Computer Systems.ipynb",
      "provenance": [],
      "include_colab_link": true
    },
    "kernelspec": {
      "name": "python3",
      "display_name": "Python 3"
    },
    "language_info": {
      "name": "python"
    }
  },
  "cells": [
    {
      "cell_type": "markdown",
      "metadata": {
        "id": "view-in-github",
        "colab_type": "text"
      },
      "source": [
        "<a href=\"https://colab.research.google.com/github/dbremont/Notas/blob/main/Ingenerare/Computer_Systems.ipynb\" target=\"_parent\"><img src=\"https://colab.research.google.com/assets/colab-badge.svg\" alt=\"Open In Colab\"/></a>"
      ]
    },
    {
      "cell_type": "markdown",
      "metadata": {
        "id": "Elz31sjbpwAe"
      },
      "source": [
        "[Software Design and Implementation - or, how to be a hacker](https://www.cs.dartmouth.edu/~campbell/cs50/)\n",
        "\n",
        "[15-213 Introduction to Computer Systems (ICS)](http://www.cs.cmu.edu/afs/cs/academic/class/15213-s18/www/index.html)\n",
        "\n",
        "[Computer System Engineering](https://ocw.mit.edu/courses/electrical-engineering-and-computer-science/6-033-computer-system-engineering-spring-2018/)\n",
        " \n",
        "  - [Videos](http://web.mit.edu/6.033/www/index.shtml)\n",
        "\n",
        "  - [2005 videos](http://videolectures.net/mit6033s05_computer_system_engineering/)\n",
        "\n",
        "[Systems](http://www.infocobuild.com/education/audio-video-courses/computer-science/systems-arsdigita.html)\n",
        "\n",
        "[Advanced Topics in Computer Systems](https://people.eecs.berkeley.edu/~kubitron/courses/cs262a-F21/)\n",
        "\n",
        "[CS 518: Advanced Computer Systems](https://www.cs.princeton.edu/courses/archive/spring17/cos518/syllabus.html)\n",
        "\n",
        "[The Computing Technology Inside Your Smartphone](https://learning.edx.org/course/course-v1:CornellX+ENGRI1210x+2T2016/home)\n",
        "\n",
        "[6.004 Computation Structures](https://ocw.mit.edu/courses/electrical-engineering-and-computer-science/6-004-computation-structures-spring-2017/)\n",
        "\n",
        "[The Hardware/Software Interface](https://www.youtube.com/playlist?list=PL0oekSefhQVJdk0hSRu6sZ2teWM740NtL)\n",
        "\n",
        "[How Computer Works](http://www.infocobuild.com/education/audio-video-courses/computer-science/how-computer-works-arsdigita.html)\n",
        "\n",
        "[6.826 Principles of Computer Systems 2004](http://web.mit.edu/6.826/www/notes/)\n",
        "\n",
        "[CS 190: Software Design Studio](https://web.stanford.edu/~ouster/cgi-bin/cs190-winter21/index.php)"
      ]
    },
    {
      "cell_type": "markdown",
      "metadata": {
        "id": "Vvhlncz5zRjZ"
      },
      "source": [
        "\n",
        "**What is the smallest unit and the largest unit of memory?**\n",
        "\n",
        "For any given hardware architecture, there is a Basic Addressable Unit (BAU), which is the smallest unit of memory with a unique address. These days it is almost always the eight-bit byte. But in the past there have been processors (such as the Intel 4004) with a four-bit BAU, and mainframes with large BAUs (e.g., the DEC-10 series which addresses 36-bit words). A few microcontrollers even are bit-addressable.\n",
        "\n",
        "For any machine which is not bit-addressable, a program can still access individual bits, but it needs to do that using bit-wise operations (such as AND, OR, and NOT) on some larger unit, such as a byte."
      ]
    },
    {
      "cell_type": "markdown",
      "metadata": {
        "id": "K3HznZZIwXO-"
      },
      "source": [
        "Shell Commands\n",
        "\n",
        "Shell Programming\n",
        "\n",
        "C Programming\n",
        "\n",
        "Crawler\n",
        "\n",
        "Indexer\n",
        "\n",
        "Query Engine\n",
        "\n",
        "Socket Programming"
      ]
    },
    {
      "cell_type": "markdown",
      "metadata": {
        "id": "ou39Lwh3PYIl"
      },
      "source": [
        "[Homework 1: The ELF format](https://www.cs.uic.edu/~ckanich/cs361/f20/homework1.html)\n",
        "\n",
        "[homework 2: Inspecting Running Processes](https://www.cs.uic.edu/~ckanich/cs361/f20/homework2.html)\n",
        "\n",
        "[Homework 3: Write your own shell](https://www.cs.uic.edu/~ckanich/cs361/f20/homework3.html)\n",
        "\n",
        "[Homework 4: A garbage collector for C](https://www.cs.uic.edu/~ckanich/cs361/f20/homework4.html)\n",
        "\n",
        "[homework 5: A Home-Brew Web Server](https://www.cs.uic.edu/~ckanich/cs361/f20/homework5.html)\n",
        "\n",
        "[a web based chat server](https://www.cs.uic.edu/~ckanich/cs361/f20/homework6.html)"
      ]
    },
    {
      "cell_type": "markdown",
      "metadata": {
        "id": "0JrPurCEUVlv"
      },
      "source": [
        "[HTTP Routing Framework](https://github.com/cos316/assignment2-starter-code)\n",
        "\n",
        "[Secure Object Relational Mapper (Secure DORM)](https://github.com/cos316/assignment6-starter-code)\n",
        "\n",
        "[In-Memory Cache](https://github.com/cos316/assignment3-starter-code)\n",
        "\n",
        "[Socket Programming](https://github.com/cos316/assignment1-starter-code)\n",
        "\n",
        "[Dopey Object Relational Mapper (DORM)](https://github.com/cos316/assignment4-starter-code)\n",
        "\n",
        "[Connection Pool](https://github.com/cos316/assignment5-starter-code)\n",
        "\n",
        "[Final Project: System Analysis](https://github.com/cos316/assignment-final-starter-code)"
      ]
    },
    {
      "cell_type": "markdown",
      "metadata": {
        "id": "3ttjswXjv4z5"
      },
      "source": [
        "[CS262a: Fall 2021 Final Project Suggestions](https://people.eecs.berkeley.edu/~kubitron/courses/cs262a-F21/index_projects.html)\n",
        "\n",
        "[CS262a: Fall 2019 Final Projects](https://people.eecs.berkeley.edu/~kubitron/courses/cs262a-F19/index_projects.html)"
      ]
    }
  ]
}