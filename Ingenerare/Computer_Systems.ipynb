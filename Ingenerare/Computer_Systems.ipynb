{
  "nbformat": 4,
  "nbformat_minor": 0,
  "metadata": {
    "colab": {
      "name": " Computer Systems.ipynb",
      "provenance": [],
      "authorship_tag": "ABX9TyNQqtrPneP0+4CQQjzhjgqq",
      "include_colab_link": true
    },
    "kernelspec": {
      "name": "python3",
      "display_name": "Python 3"
    },
    "language_info": {
      "name": "python"
    }
  },
  "cells": [
    {
      "cell_type": "markdown",
      "metadata": {
        "id": "view-in-github",
        "colab_type": "text"
      },
      "source": [
        "<a href=\"https://colab.research.google.com/github/dbremont/Notas/blob/main/Ingenerare/Computer_Systems.ipynb\" target=\"_parent\"><img src=\"https://colab.research.google.com/assets/colab-badge.svg\" alt=\"Open In Colab\"/></a>"
      ]
    },
    {
      "cell_type": "markdown",
      "metadata": {
        "id": "Elz31sjbpwAe"
      },
      "source": [
        "* [15-213/18-213/15-513: Introduction to Computer Systems (ICS)](http://www.cs.cmu.edu/afs/cs/academic/class/15213-s18/www/index.html)\n",
        "\n",
        "* [Computer Science 50 Software Design and Implementation - or, how to be a hacker](https://www.cs.dartmouth.edu/~campbell/cs50/)\n",
        "\n",
        "* [CS 361 Systems Programming](https://www.cs.uic.edu/~ckanich/cs361/f20/)\n",
        "\n",
        "* [CS 631 Advanced Programming in the UNIX Environment](https://stevens.netmeister.org/631/)\n",
        "\n",
        "* [CS 61: Systems Programming and Machine Organization](https://cs61.seas.harvard.edu/site/2019/)\n",
        "\n",
        "* [Programming and  Assembly Language](https://nptel.ac.in/courses/106/106/106106210)"
      ]
    },
    {
      "cell_type": "markdown",
      "metadata": {
        "id": "x6IrGEDCvGfO"
      },
      "source": [
        "**Virtual Memory**\n",
        "\n",
        "- How *fork* and *execv* work:\n",
        "  - With the knowledge of virtual memory I should give a descent respond to that question.\n",
        "\n",
        "- As an exercise implement a simple memory allocator.\n",
        "- Garbage Collector.\n",
        "\n",
        "- *nmap*\n",
        "\n",
        "- The memory is byte addresable\n",
        "  - [1-bit computing](https://en.wikipedia.org/wiki/1-bit_computing)\n",
        "  - [4-bit computing](https://en.wikipedia.org/wiki/4-bit_computing)\n",
        "- The memory acceses are to 1-byte words (not 4-byte words)\n",
        "- Virtual addreses are 14 bits wide (n = 14)\n",
        "- Physical addreses are 12 bits wide (n = 12)\n",
        "- The page size is 64 bytes (p = 64)\n",
        "- The TLB is 4-way set associative with 16 total entries.\n",
        "- The L1 d-cache is physically addresed and direct mapped, with a 4-byte line size and 16 total sets.\n",
        "- [Page table(PTE)](https://en.wikipedia.org/wiki/Page_table)\n",
        "\n",
        "- [Address space](https://en.wikipedia.org/wiki/Address_space)\n",
        "  * Remember *space* from math\n",
        "- [Virtual address space](https://en.wikipedia.org/wiki/Virtual_address_space) \n",
        "\n",
        "**Linux Virtual Memory Implementation Overview**\n",
        "\n",
        "- The copy on write mechanism.\n",
        "\n",
        "- Virtual memory is an abstraction of main memory. Processors that support virtual memory  reference main memory using a form of indirection known as virtual addresing.\n",
        "\n",
        "- The processor generates a virtual address, wich is translated into a physical addres before is send to the main memory.\n",
        "\n",
        "- Dedicated hardwaare translates virtual addreses using page tables whose contents are supplied by the operating system.\n",
        "\n",
        "- Modern systems initialize chunks of virtual memory by associating them with chunks of files on disk, a process known as memory mapping.\n",
        "\n",
        "\n"
      ]
    }
  ]
}