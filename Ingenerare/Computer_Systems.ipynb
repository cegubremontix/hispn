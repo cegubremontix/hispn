{
  "nbformat": 4,
  "nbformat_minor": 0,
  "metadata": {
    "colab": {
      "name": " Computer Systems.ipynb",
      "provenance": [],
      "authorship_tag": "ABX9TyPlM6eIeeT9khk7+NZSxUVm",
      "include_colab_link": true
    },
    "kernelspec": {
      "name": "python3",
      "display_name": "Python 3"
    },
    "language_info": {
      "name": "python"
    }
  },
  "cells": [
    {
      "cell_type": "markdown",
      "metadata": {
        "id": "view-in-github",
        "colab_type": "text"
      },
      "source": [
        "<a href=\"https://colab.research.google.com/github/dbremont/Notas/blob/main/Ingenerare/Computer_Systems.ipynb\" target=\"_parent\"><img src=\"https://colab.research.google.com/assets/colab-badge.svg\" alt=\"Open In Colab\"/></a>"
      ]
    },
    {
      "cell_type": "markdown",
      "metadata": {
        "id": "Elz31sjbpwAe"
      },
      "source": [
        "* [15-213/18-213/15-513: Introduction to Computer Systems (ICS)](http://www.cs.cmu.edu/afs/cs/academic/class/15213-s18/www/index.html)\n",
        "\n",
        "* [CS 361 Systems Programming](https://www.cs.uic.edu/~ckanich/cs361/f20/)\n",
        "\n",
        "* [CS 631 Advanced Programming in the UNIX Environment](https://stevens.netmeister.org/631/)\n",
        "\n",
        "* [Computation Structures](https://colab.research.google.com/github/dbremont/Notas/blob/main/Ingenerare/6_004_Computation_Structures.ipynb)\n",
        "\n",
        "* [Advanced Topics in Computer Systems](https://people.eecs.berkeley.edu/~kubitron/courses/cs262a-F21/)\n",
        "\n",
        "* [Synthesis Lectures on Computer Architecture](https://www.morganclaypool.com/toc/cac/1/1#lecturesAvailableOnline)"
      ]
    },
    {
      "cell_type": "markdown",
      "metadata": {
        "id": "Vvhlncz5zRjZ"
      },
      "source": [
        "\n",
        "**What is the smallest unit and the largest unit of memory?**\n",
        "\n",
        "For any given hardware architecture, there is a Basic Addressable Unit (BAU), which is the smallest unit of memory with a unique address. These days it is almost always the eight-bit byte. But in the past there have been processors (such as the Intel 4004) with a four-bit BAU, and mainframes with large BAUs (e.g., the DEC-10 series which addresses 36-bit words). A few microcontrollers even are bit-addressable.\n",
        "\n",
        "For any machine which is not bit-addressable, a program can still access individual bits, but it needs to do that using bit-wise operations (such as AND, OR, and NOT) on some larger unit, such as a byte."
      ]
    }
  ]
}