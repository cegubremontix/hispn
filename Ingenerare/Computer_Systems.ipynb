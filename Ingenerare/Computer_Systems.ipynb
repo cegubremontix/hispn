{
  "nbformat": 4,
  "nbformat_minor": 0,
  "metadata": {
    "colab": {
      "name": " Computer Systems.ipynb",
      "provenance": [],
      "authorship_tag": "ABX9TyNA3op+L0gHRhpovw7VxPpb",
      "include_colab_link": true
    },
    "kernelspec": {
      "name": "python3",
      "display_name": "Python 3"
    },
    "language_info": {
      "name": "python"
    }
  },
  "cells": [
    {
      "cell_type": "markdown",
      "metadata": {
        "id": "view-in-github",
        "colab_type": "text"
      },
      "source": [
        "<a href=\"https://colab.research.google.com/github/dbremont/Notas/blob/main/Ingenerare/Computer_Systems.ipynb\" target=\"_parent\"><img src=\"https://colab.research.google.com/assets/colab-badge.svg\" alt=\"Open In Colab\"/></a>"
      ]
    },
    {
      "cell_type": "markdown",
      "metadata": {
        "id": "Elz31sjbpwAe"
      },
      "source": [
        "* [15-213/18-213/15-513: Introduction to Computer Systems (ICS)](http://www.cs.cmu.edu/afs/cs/academic/class/15213-s18/www/index.html)\n",
        "\n",
        "* [CS 361 Systems Programming](https://www.cs.uic.edu/~ckanich/cs361/f20/)\n",
        "\n",
        "* [CS 631 Advanced Programming in the UNIX Environment](https://stevens.netmeister.org/631/)\n",
        "\n",
        "* [CS 61: Systems Programming and Machine Organization](https://cs61.seas.harvard.edu/site/2019/)\n",
        "\n",
        "* [Programming and  Assembly Language](https://nptel.ac.in/courses/106/106/106106210)"
      ]
    }
  ]
}