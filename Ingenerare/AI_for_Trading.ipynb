{
  "nbformat": 4,
  "nbformat_minor": 0,
  "metadata": {
    "colab": {
      "name": "AI for Trading.ipynb",
      "provenance": [],
      "toc_visible": true,
      "authorship_tag": "ABX9TyMG9hITk50sfeo5xHkGTPGj",
      "include_colab_link": true
    },
    "kernelspec": {
      "name": "python3",
      "display_name": "Python 3"
    },
    "language_info": {
      "name": "python"
    }
  },
  "cells": [
    {
      "cell_type": "markdown",
      "metadata": {
        "id": "view-in-github",
        "colab_type": "text"
      },
      "source": [
        "<a href=\"https://colab.research.google.com/github/dbremont/Notas/blob/main/Ingenerare/AI_for_Trading.ipynb\" target=\"_parent\"><img src=\"https://colab.research.google.com/assets/colab-badge.svg\" alt=\"Open In Colab\"/></a>"
      ]
    },
    {
      "cell_type": "markdown",
      "metadata": {
        "id": "tJPw5Df91dQV"
      },
      "source": [
        "# AI for Trading\n",
        "[Ir](https://classroom.udacity.com/nanodegrees/nd880/dashboard/overview)\n",
        "\n",
        "Based on data from 10,000+ students, we recommend spending 10 hours/week in the classroom during your first 2 weeks to give yourself the best chance of success."
      ]
    },
    {
      "cell_type": "markdown",
      "metadata": {
        "id": "pPeTwXYOxKOA"
      },
      "source": [
        "## Recursos"
      ]
    },
    {
      "cell_type": "markdown",
      "metadata": {
        "id": "I21_xowRxL6v"
      },
      "source": [
        "- [Terminology](https://colab.research.google.com/drive/15AM4LmfHD0uKoj1oO67vplxObIGgsRu6#scrollTo=QqOyFoxpyqQx)\n",
        "\n",
        "- [xarray](http://xarray.pydata.org/en/stable/)\n",
        "\n",
        "- [Open-high-low-close chart](https://stackoverflow.com/questions/468145/what-is-the-difference-between-type-and-class)\n",
        "\n",
        "-  [Raster Vision](https://docs.rastervision.io/en/0.13/)\n",
        "\n",
        "* [How to simulate a stock market with less than 10 lines of Python code](https://towardsdatascience.com/how-to-simulate-a-stock-market-with-less-than-10-lines-of-python-code-5de9336114e5)\n",
        "\n",
        "- [Topics in Mathematics with Applications in Finance](https://colab.research.google.com/github/dbremont/Notas/blob/main/Ingenerare/Topics_in_Mathematics_with_Applications_in_Finance.ipynb)\n",
        "\n",
        "* [Adaptive Markets: Financial Market Dynamics and Human Behavior](https://learning.edx.org/course/course-v1:MITx+15.481x+1T2021/home)\n",
        "\n",
        "* [AI For Trading](https://colab.research.google.com/github/dbremont/Notas/blob/main/Ingenerare/AI_for_Trading.ipynb)\n",
        "\n",
        "* [Financial Markets](https://www.coursera.org/learn/financial-markets-global)\n",
        "\n",
        "* [Math for Quantitative Finance](https://brilliant.org/courses/math-quantitative-finance/)\n",
        "\n",
        "* [Mathematical Methods for Quantitative Finance](https://www.edx.org/es/course/mathematical-methods-for-quantitative-finance)\n",
        "\n",
        "- [Linear Algebra](https://classroom.udacity.com/nanodegrees/nd880/parts/9c763118-54db-4117-9bd9-c5f987f99e24)\n",
        "\n",
        "- [Jupyter Notebook, Numpy, and Pandas](https://classroom.udacity.com/nanodegrees/nd880/parts/63dedeb4-ca75-4200-a30d-0034e259f8a3)\n",
        "\n",
        "- [Statistics](https://classroom.udacity.com/nanodegrees/nd880/parts/c092c850-2aa3-44ec-9e8b-1a599e33e869)\n",
        "\n",
        "- [Machine Learning](https://classroom.udacity.com/nanodegrees/nd880/parts/aed900bc-7c5c-42ae-b2fe-6447da911c06)\n",
        "\n",
        "- [Computer Vision](https://classroom.udacity.com/nanodegrees/nd880/parts/dbbde7e1-ca48-498d-989e-359f7a2fb789)"
      ]
    },
    {
      "cell_type": "markdown",
      "metadata": {
        "id": "qArzRBy2yXfE"
      },
      "source": [
        "# Quantitative Trading"
      ]
    },
    {
      "cell_type": "markdown",
      "metadata": {
        "id": "zyO5Aya0ww9u"
      },
      "source": [
        "## Welcome to the Nanodegree Program\n",
        "\n",
        "Welcome to the excirting world of Quantitative Trading! Say hello to your instructors and get an overview of the program.\n",
        "\n",
        "[Ir](https://classroom.udacity.com/nanodegrees/nd880/parts/9a3a9589-7bc6-4694-81e0-8c3cb1aea251/modules/45a9362c-0c15-44f8-b71e-a3c2da3637c4/lessons/9c73823b-70a9-403d-87f3-6cc6b336b703/concepts/a2e40158-c865-41c0-b15d-f98a2aa7f146)\n",
        "\n"
      ]
    },
    {
      "cell_type": "markdown",
      "metadata": {
        "id": "mh62nh4-HBxB"
      },
      "source": [
        "**What is a Quant?**\n",
        "\n",
        "  - Quants build computational models of the world, more specific about finantial instruments or markets.\n",
        "\n",
        "  - Quants apply the scientific method to finance.\n",
        "\n",
        "Functions:\n",
        "\n",
        "- Research function\n",
        "- Risk Management\n",
        "- Portfolio Construction\n",
        "- Data Vendors\n",
        "\n",
        "\n",
        "- A model of  a time series\n",
        "- A model of a portfolio\n",
        "- A model of that map unstructure data to structure data\n",
        "\n",
        "\n",
        "- Scientific  Method + Domain Knowlage"
      ]
    },
    {
      "cell_type": "markdown",
      "metadata": {
        "id": "hiQl-ykzIHQ-"
      },
      "source": [
        "**Program Overview**\n",
        "\n",
        "- [Program Overview](https://youtu.be/Ci0j_UwLlQQ)\n",
        "\n",
        "- [Insights from a Quant](https://youtu.be/ZRzhyaqz7I0)\n",
        "- [Quant workflow](https://www.youtube.com/watch?v=RomfTrm5_7g)\n",
        "\n",
        "**Two terms**:\n",
        "\n",
        "- Each term contains 4 projects.\n",
        "- Each term takes 3 months to complete.\n",
        "- In the projects is the part in which 'real' learning happends.\n",
        "- **If you pass 'Term 1' you can take 'Term 2'**.\n",
        "- At the end of term two, you will design and evaluate quantitative trading strategies.\n",
        "\n",
        "\n",
        "**Extracurricular Material**\n",
        "\n",
        "As your success in this program depends on you having some knowledge or understanding across a number of topics, we have included additional courses on these topics in the extracurricular section of this program. Specifically, you can find the following courses:\n",
        "\n",
        "- Python Refresher\n",
        "\n",
        "- Jupyter Notebooks, Numpy, and Pandas\n",
        "\n",
        "- Linear Algebra\n",
        "\n",
        "- Statistics\n",
        "\n",
        "- Calculus"
      ]
    },
    {
      "cell_type": "markdown",
      "metadata": {
        "id": "Ne21q23_TwAK"
      },
      "source": [
        "## Stock Prices\n",
        "Learn about stocks and common terminology used when analyzing stocks.\n",
        "\n",
        "[Ir](https://classroom.udacity.com/nanodegrees/nd880/parts/9a3a9589-7bc6-4694-81e0-8c3cb1aea251/modules/45a9362c-0c15-44f8-b71e-a3c2da3637c4/lessons/eafc55a5-ee28-4c7c-a6da-9be4fac018ba/concepts/06f36095-1c8e-4e91-99f6-79b289ef7196#)"
      ]
    },
    {
      "cell_type": "markdown",
      "metadata": {
        "id": "zvl1X8ERT0GS"
      },
      "source": [
        "- Types of [stocks](https://en.wikipedia.org/wiki/Stock):\n",
        "  - Common\n",
        "  - Preferred\n",
        "\n",
        " Shares of stock?\n",
        "\n",
        "- Split a stock into even millions of shares?\n",
        "- What many shares of a company x has?\n",
        "\n",
        "- What can you do if you 'own' a share of a company?\n",
        "\n",
        "**Common stocks**\n",
        "\n",
        "  - Share holders that own common stock  'usually?'  get a portion of the company profits in the form of dividends if the company distributes them.\n",
        "\n",
        "  - What is a 'divident'?\n",
        "\n",
        "  - Has botting rights.\n",
        "\n",
        "  - Recieve a portion of remaining assets in case of liquidation\n",
        "\n",
        "**Preferred Stock**\n",
        "\n",
        "- Promised a fixed amount of income each year\n",
        "- Get paid before common stock holders get paid dividends\n",
        "- Usually don't have botting wrights\n",
        "\n",
        "**Security**\n",
        "\n",
        "- Finantial instrument that has some type of monetary value.\n",
        "  - i.e Stocks,\n",
        "  - Bonds,\n",
        "  - Options\n",
        "\n",
        "Types:\n",
        "  - Debt Securities\n",
        "  - Derivative Securities  (ie. options, futures)\n",
        "  - Equity Securities   (Equity) (Value of an owned asset minus the amount of all debts or liabilities on that asset) *It's a polysemic word*\n",
        "\n",
        "- Broker (The Middleman):\n",
        " - Connect buyers and sellers.\n",
        "\n",
        "- Sometimes you can buy directly from companies\n",
        "\n",
        "- The Stock Market can be traded to the 'Roman Republic'\n",
        "\n",
        "- The Amsterdam Stock Exchange, it's the first modern market\n",
        "\n",
        "- Market buble: Occurs when market participants drive stock prices above their value in relation 'some system of valuation'\n",
        "\n",
        "  - For more see: \n",
        "    - Rober Shiller work on economic bubble.\n",
        "    - Nassim Taleb work on economic bubble.x"
      ]
    },
    {
      "cell_type": "markdown",
      "metadata": {
        "id": "drlNeU4bjua3"
      },
      "source": [
        "**How to buy stocks?**\n",
        "\n",
        "  - Sometimes from copanies.\n",
        "  - But the mayority of the time from *brokers*."
      ]
    },
    {
      "cell_type": "markdown",
      "metadata": {
        "id": "gqlB4doRpYuy"
      },
      "source": [
        "## Market Mechanism\n",
        "Learn about how modern stock markets function, how trades are executed and prices are set. Study market behavior, and analyze price and volume data to identify potential trading signals.\n",
        "\n",
        "[Ir](https://classroom.udacity.com/nanodegrees/nd880/parts/9a3a9589-7bc6-4694-81e0-8c3cb1aea251/modules/45a9362c-0c15-44f8-b71e-a3c2da3637c4/lessons/acf72c80-6f2c-4acb-b0d2-5f1d85b35d84/concepts/last-viewed)"
      ]
    },
    {
      "cell_type": "markdown",
      "metadata": {
        "id": "U8W8WeVWpWG6"
      },
      "source": [
        "\n",
        "\n",
        "1. Simple market simulator.\n",
        "2. When look at the data see what signal it may carried.\n",
        "3. Data about closing and opening of global markets.\n",
        "\n",
        "- The range of the prices of a product is usually get determine's by the lower price the seller is willing to sell, and the highest price that the buyer is willing to buy."
      ]
    },
    {
      "cell_type": "markdown",
      "metadata": {
        "id": "COzCN0FppnGi"
      },
      "source": [
        "**Trading Stocks**\n",
        "\n",
        "- When a company issue stock for the first time is select the price using companies metrics, assets, etc. But since then the prices of the stock are driven by demand.\n",
        "\n",
        "- How to quantify demand?\n",
        "  - How many orders for a stock, and the price.\n",
        "  - Stock Exchange keep track of this data.\n",
        "\n",
        "- Placin a bit.\n",
        "- Market queue.\n",
        "- Buy queue.\n",
        "- Sell queue.\n",
        "\n",
        "- How to buy inmediatly withot bitting?\n",
        "  - Current price of the stock.\n",
        "  - This is a market order.\n",
        "  - Market Maker:\n",
        "    - Obligated to buy and sell at the stock market price  (Designated by the stock exchange).\n",
        "\n",
        "  - Bid-Ask spread\n"
      ]
    },
    {
      "cell_type": "markdown",
      "metadata": {
        "id": "tRCTb7G_pjnc"
      },
      "source": [
        "**Liquidity**\n",
        "\n",
        "- Is the ability to trade an asset at a stable price.\n",
        "  - when ca buy and sell as much as we like, and that would no change the prices.\n",
        "\n",
        "- **Cash is considered the most liquid asset**, because it can be readily traded for other assets.\n",
        "\n",
        "  - This might not be intuitive, but it helps to think about cash as a financial instrument like any other. Changing currency values can make it worth more or less, just like stocks, but usually the value of cash reduces over time due to inflation.\n",
        "\n",
        "- The same stock can be traded in different markets.\n",
        "\n",
        "- Profiting from market inneficiencies, buy making money buing stock at different prices in markets, the idea is called **arbitraged**."
      ]
    },
    {
      "cell_type": "markdown",
      "metadata": {
        "id": "3WOdUddNpg_M"
      },
      "source": [
        "**Tick Data**\n",
        "\n",
        "- Stream of data that include each individual trade.\n",
        "- Tick price.\n",
        "- Market data.\n",
        "- The new york stock exchange make billions of trades per day.\n",
        "- Market data can be summarize."
      ]
    },
    {
      "cell_type": "markdown",
      "metadata": {
        "id": "EqQvohqrpent"
      },
      "source": [
        "**OHLC: Open, High,Low, Close**\n",
        "\n",
        "- Summarize price movements of stock prices.\n",
        "- Premarket trading.\n",
        "- Trading in others markets."
      ]
    },
    {
      "cell_type": "markdown",
      "metadata": {
        "id": "L3O4S1xf3F_3"
      },
      "source": [
        "Resampling Data\n",
        "\n",
        "- [Pandas Resampling](https://pandas.pydata.org/pandas-docs/stable/user_guide/timeseries.html#resampling)\n",
        "\n",
        "- It has todo with time data."
      ]
    },
    {
      "cell_type": "markdown",
      "metadata": {
        "id": "Roq2AnYOAdMg"
      },
      "source": [
        "**Volume**\n",
        "\n",
        "- Another metric for  number of shares that are trated over a period of time.\n",
        "\n",
        "- Often show at the botton of an ohlc.\n",
        "\n",
        "- Great signal.\n",
        "\n",
        "- Signal\n",
        "\n",
        "  - If the volume traded increase, usually the price of the stock increse.\n",
        "\n",
        "  - If the volume traded decrease, usually the price of the stock decrese.\n",
        "\n",
        "- How volume affect the prices?\n",
        "\n"
      ]
    },
    {
      "cell_type": "markdown",
      "metadata": {
        "id": "FacPSDgWC1N6"
      },
      "source": [
        "**Gaps in Market Data**\n",
        "\n",
        "- Markets are usually closed on weekend, holydays, and they usually open from *9:00 am* to *4:00 pm*.\n",
        "\n",
        "- So some time metrics can give you innacurate results if you don't consider this gaps."
      ]
    },
    {
      "cell_type": "markdown",
      "metadata": {
        "id": "5X9RqxnHDbqC"
      },
      "source": [
        "**Markets In Different Timeszones**\n",
        "\n",
        "- When an stock is trated in markets with different time-zones, there is a posibility to make money with this. But as we know, others traders will notice this.\n",
        "\n",
        "- Gush, trading is very game theoretic."
      ]
    },
    {
      "cell_type": "markdown",
      "metadata": {
        "id": "_719kdQ6QIUz"
      },
      "source": [
        "## Data Processing\n",
        "\n",
        "[Ir](https://classroom.udacity.com/nanodegrees/nd880/parts/9a3a9589-7bc6-4694-81e0-8c3cb1aea251/modules/45a9362c-0c15-44f8-b71e-a3c2da3637c4/lessons/f5374d2b-5e18-42f0-9ec4-44bcbe981d33/concepts/55aecdab-707f-4edb-9311-fc59751f2d7c)\n",
        "\n",
        "Learn how to adjust market data for corporate actions, include fundamental information in your analysis and compute technical indicators."
      ]
    },
    {
      "cell_type": "markdown",
      "metadata": {
        "id": "xAc1Gv6JZqPg"
      },
      "source": [
        "- Market data data about each trade event, it's called a tick.\n",
        "\n",
        "- Tick\n",
        "  - Date\n",
        "  - Time\n",
        "  - Ticker(Stock)\n",
        "  - Quote Data\n",
        "    - Bid Size\n",
        "    - Bid\n",
        "    - Ask\n",
        "  - Traded data\n",
        "    - Last Trade \n",
        "    - Volume\n",
        "\n",
        "- When are the timestamp needed?"
      ]
    },
    {
      "cell_type": "markdown",
      "metadata": {
        "id": "qr-UnKrEbGKk"
      },
      "source": [
        "[**Corporate Actions**](https://en.wikipedia.org/wiki/Corporate_action)\n",
        "\n",
        "- **Stock Splits**: Split all the stocks in two for example half, also spliting the value, so you're amount of stock doubles, but theire value it's the same. An the market capitalization of the company is equal.\n",
        "\n",
        "  - Why I company my split the stocks?\n",
        "    - To make the stock more liquid. \n",
        "    - Buy and sell at more granularity.\n",
        "    - Less expensive stocks are said to be liquid.\n",
        "    - How to ajust the prices before the split, because it if not it will appear before the split. (Adjusted price)\n",
        "\n",
        "    - How to ajust the prices before the split, because it if not it will appear before the split. (Adjusted price)\n",
        "\n",
        "- **Aside**: Although a stock split shouldn’t theoretically affect the market cap of a stock, in reality it does! There are some intriguing behavioral patterns that researchers have observed among traders. One seems to suggest that after a stock splits, and the price drops considerably, people seem to think it is going to go back up to the previous price (double or triple)! This creates an artificial demand for the stock, which in turn actually pushes up the price.\n",
        "\n",
        "- [**Dividents**](https://en.wikipedia.org/wiki/Dividend) **No Entiendo**:\n",
        "  - Partial cash distribution of company earnings with the share holders.\n",
        "  - Qualqom pay dividents by the stacke-holders.\n",
        "  - Not all companies pay divident. You have to see the specific stocks.\n",
        "  - Adjuted Price Factor $1 + \\frac{D}{S}$,\n",
        "  - Where\n",
        "    - $D$: Divident\n",
        "    - $S$: stock price at ex-divident date\n",
        "  - who will recieve the dividents.\n"
      ]
    },
    {
      "cell_type": "markdown",
      "metadata": {
        "id": "WQrLXr2SynRL"
      },
      "source": [
        "**Technical Indicators**\n",
        "\n",
        "- [Exchange-traded_fund](https://en.wikipedia.org/wiki/Exchange-traded_fund)\n",
        "\n",
        "- [Stock market index](https://en.wikipedia.org/wiki/Stock_market_index)"
      ]
    },
    {
      "cell_type": "markdown",
      "metadata": {
        "id": "aBiQqCsXy9o3"
      },
      "source": [
        "**Missing Values**"
      ]
    },
    {
      "cell_type": "markdown",
      "metadata": {
        "id": "0n_hIpD0zCJY"
      },
      "source": [
        "[**Trading Experiment**](https://classroom.udacity.com/nanodegrees/nd880/parts/9a3a9589-7bc6-4694-81e0-8c3cb1aea251/modules/45a9362c-0c15-44f8-b71e-a3c2da3637c4/lessons/f5374d2b-5e18-42f0-9ec4-44bcbe981d33/concepts/04b89cd5-361c-4e87-a50f-dd515008834a)\n",
        "\n",
        "Experiment A: Randomly select a smattering of 100 stocks that are trading today, simulate buying them in 2005, or whenever they went public, investing equally in each, and hold on to them till the present day. Don’t try to apply any strategy, just pick stocks randomly!\n",
        "\n",
        "Experiment B: Randomly select another collection of 100 stocks, but this time, from those that were trading in 2005. Again, simulate buying them in 2005, investing uniformly, and hold on to them.\n",
        "\n",
        "Repeat these experiments multiple times and calculate the total return on your investment in each case. Now, would you expect the mean return for A to be significantly higher or lower than that of B? See if you can spot a clear difference.\n",
        "\n",
        "*Todo simulation*"
      ]
    },
    {
      "cell_type": "markdown",
      "metadata": {
        "id": "tIyokx1TzGMs"
      },
      "source": [
        "**Survibor Bias**\n",
        "\n",
        "- Looking from the present and choosing stocks to analyze data, select the stock that survibe util today, and *filter* the stocks that has failed."
      ]
    },
    {
      "cell_type": "markdown",
      "metadata": {
        "id": "eHUvWoLEzLJO"
      },
      "source": [
        "**Fundamental Analysis**\n",
        "**TODO summarize**\n",
        "\n",
        "- Fundamental analysis of a company involves looking at a company’s balance sheet and cash flow statements, which are usually updated every quarter, which is every three months when the company reports earnings. It’s important to keep in mind that looking at a single quarter’s metrics is only a snapshot of the company, and there are several metrics that each try to capture the health of the company, but in slightly different ways.\n",
        "\n",
        "- In a way, analyzing a company’s fundamentals is like going on a safari taking photographs of an antelope. A single still photo from one angle may tell you some things about the antelope, but taking multiple photos from different angles will give you a better view. Also, taking multiple photos over time will give you a sense of where the antelope is going. So before we introduce some commonly used metrics, please keep in mind that to get a better picture of a company that you’re trying to analyze, you’ll want to look at a collection of different measures over time.\n",
        "\n",
        "**Some metrics**\n",
        "\n",
        "\n",
        "- Sales Per Share\n",
        "  - A company’s revenue is based on its sales over that quarter, so we can think of sales and revenue as referring to the same thing. It’s a quick way to get a sense for how a company is doing, because we don’t have to subtract out cost of sales, which depends a bit on some accounting decisions. For example, if a company sells a million smartphones for a hundred dollars each over the past 3 months, then its revenue is USD100 times 1 million, or USD100 million. If the company issued ten million shares, then its sales per share is USD100 million divided by ten million, or $10 per share.\n",
        "\n",
        "  - You may be wondering why we bother dividing sales by the number of shares. This helps shareholders get a sense of how much the sales figures might impact a change in a single share price. You can imagine that if the company only issued 10 shares, a report of higher sales than forecasted would impact each share more than if the company issued ten million shares.\n",
        "\n",
        "  - Also, note that sales of USD10 per share probably does not mean that the shareholders will get USD10 for each share that they own, or that their stock price will increase by USD10. It costs money for the company to make each smartphone. Let’s take a look at a metric that accounts for cost of sales next.\n",
        "\n",
        "- Earnings Per Share\n",
        "  - Earnings is the company’s revenue minus its cost of sales. Cost of sales refers to the cost of manufacturing the phone, employee wages, rent payments for office space, and the cost of equipment, like machines that make the phones. Earnings gives investors a sense of how much the equity of the company has changed over the past 3 months. Recall that stock represents a fractional ownership of a company’s equity.\n",
        "\n",
        "  - Continuing with the smartphone company example, let’s say we can estimate the cost of sales per phone to be USD80 per phone. If the sales per phone is USD100, then the earnings per phone is USD100 - USD80 equals USD20 per phone. With sales of one million phones, earnings would be $20 times one million, or USD20 million.\n",
        "\n",
        "  - With ten million shares, this is earnings of USD20 million divided by ten million shares, which is USD2 earnings per share.\n",
        "\n",
        "  - Note again, that this USD2 per share doesn’t mean that investors automatically receive an additional $2 per share in their pocket. Let’s look at one way that investors do receive some of those earnings by looking at dividends.\n",
        "\n",
        "- Dividends Per Share\n",
        "  - After a company has positive earnings, they may decide to either reinvest the cash in growing the company’s business. A company’s executives are usually expected to make spending decisions based on maximizing shareholder value. Whether this always happens in practice is debatable, but ideally, if the executives decide that re-investing in the business yields lower returns than an investor could gain from investing in a similar business at the same level of risk, they will give some of the earnings to shareholders as cash. This cash is referred to as dividends.\n",
        "\n",
        "  - Let’s say, for example, that the smartphone company decides to return USD10 million of its earnings to its shareholders. The dividend per share is then USD10 million divided by 10 million, or USD1 per share."
      ]
    },
    {
      "cell_type": "markdown",
      "metadata": {
        "id": "X1EBlAPh0Kpa"
      },
      "source": [
        "**Price to Earnings Ratio**\n",
        "\n",
        "**todo summarize**\n",
        "\n",
        "A term you’ll see often is price to earnings ratio, or PE ratio for short. This is the stock’s current market price divided by its most recently reported earnings per share (EPS). You can sort of interpret the PE ratio as how much the company is valued compared to how much money it made. It’s important to be careful about how we interpret a high or low PE ratio, because we can’t say whether a PE ratio is good or bad by looking at it in isolation. Let’s first look at where the price comes from. This market price of a share is based on the collective estimates by investors of the company’s current equity plus its future earnings. The future earnings are based on estimates of future cash flow, which are then adjusted to their present-day value, or Present Value (PV). This is getting a bit outside the scope of what you’ll need to know for this course, but the point we want you to remember is that the market price of a stock is based on both its current assets minus liabilities, but also estimates of the company’s future performance.\n",
        "\n",
        "Now coming back to the PE ratio. What does it mean to have a high PE ratio? A company may have low or negative earnings, but a high stock price. Why do you think that is? You may have heard of certain startups that are valued at billions of dollars, and yet have low earnings. This is because investors expect potential for high earnings growth, based on the trajectory of past earnings growth. This also means that investors are estimating that the high stock price relative to earnings will be justified by high future earnings. On the other hand, it’s also possible that investor optimism towards the company’s future never materializes, in which case the stock may be overpriced.\n",
        "\n",
        "Note also that a low PE ratio can also be due to different underlying reasons. An example of a company with a low PE ratio may be one that has high and stable earnings, but less expectations for future growth. Since the company may decide that its investors are better off receiving earnings as dividends instead of reinvesting earnings into the business, the earnings will be distributed as cash to shareholders. This also means that the stock price itself represents the value of the company excluding the cash that was already distributed to these shareholders. Again, keep in mind that a low PE ratio can also be a sign of something else. If a company is expected to face pressure from competitors or government regulation that reduce their expectations for future earnings, then investors may pay a lower price for each share, and that could also result in a lower PE ratio.\n",
        "\n",
        "In practice, you’ll want to see how a company’s PE ratio compares to other similar companies in the same industry and same geographic region.\n",
        "\n",
        "You’ll see PE ratios again in later lessons, so for now, just remember that it’s one of many ways to take a snapshot of a company’s financial health."
      ]
    },
    {
      "cell_type": "markdown",
      "metadata": {
        "id": "mpCQCTxp0WwF"
      },
      "source": [
        "[**Exchange Traded Funds**](https://en.wikipedia.org/wiki/Exchange-traded_fund)\n",
        "\n",
        "- Goals of a trading algorithm\n",
        "- Portafolio\n",
        "  - Good returns\n",
        "  - Reduced risks\n",
        "\n",
        "- Index vs ETF? **todo**"
      ]
    },
    {
      "cell_type": "markdown",
      "metadata": {
        "id": "qwhnIWdN28YD"
      },
      "source": [
        "**Alternative Information**\n",
        "\n",
        "Fundamental sources of information:\n",
        "\n",
        "- market data,\n",
        "- corporate actions,\n",
        "- fundamental information,\n",
        "- compositional data\n",
        "\n",
        "Other sources:\n",
        "\n",
        "- news,\n",
        "- satellite images to stimate crop yields,\n",
        "- consumer data to predict sales"
      ]
    },
    {
      "cell_type": "markdown",
      "metadata": {
        "id": "f4bsZltP3ri4"
      },
      "source": [
        "**Interview: Satelite Data**\n",
        "\n",
        "- What data can be gather by satelites, and how that data applies to finance and other industries.\n",
        "\n",
        "- Terrestrial datasets,\n",
        "- location, \n",
        "- zoom habilities of an image,\n",
        "- detecting *road* for logistics.\n",
        "\n",
        "**skills**\n",
        "\n",
        "- remote sensing data is produce.\n",
        "- QGIS\n",
        "- CNN'S\n",
        "- ARN'S\n",
        "- Spatial resolution\n",
        "- wavelenth measurement\n",
        "- temporal resolution\n",
        "- spaciotemporal data\n",
        "\n",
        "domain knowldge will help to balance all the paraments of a model:\n",
        "\n",
        "\n",
        "1. training time,\n",
        "2. computer time,\n",
        "3. acurracy,\n",
        "4. ...\n",
        "\n",
        "**resources**\n",
        "\n",
        "- nasa datasets.\n",
        "- robustsat\n",
        "- [raster vision](https://rastervision.io/)"
      ]
    },
    {
      "cell_type": "markdown",
      "metadata": {
        "id": "l9sjkTZRQK3Y"
      },
      "source": [
        "## Stock Returns\n",
        "Learn how to calculate stock returns, and log returns in particular. Learn why log returns are used to analyze finalcial data.\n",
        "\n",
        "[Ir](https://classroom.udacity.com/nanodegrees/nd880/parts/9a3a9589-7bc6-4694-81e0-8c3cb1aea251/modules/45a9362c-0c15-44f8-b71e-a3c2da3637c4/lessons/23490821-c10a-4152-be81-309afd51ba89/concepts/e82743a3-39ad-4f1a-88a7-38d80587b772)"
      ]
    },
    {
      "cell_type": "markdown",
      "metadata": {
        "id": "mLbTb-Vm8cw8"
      },
      "source": [
        "**Returns**\n",
        "\n",
        "- *How to quantify changes of prices overtime.*\n",
        "\n",
        "The raw return may be referred to simply as the return, or alternatively, as the percentage return, linear return, or simple return. It is defined as\n",
        "\n",
        "$r = \\frac{p_t - p_{t-1}}{p_{t-1}} $\n",
        "\n",
        "- How much my investment produce?"
      ]
    },
    {
      "cell_type": "markdown",
      "metadata": {
        "id": "T-7Ft3Sml8tP"
      },
      "source": [
        "**Log Returns**\n",
        "\n",
        "- log return = $R = \\ln\\left(\\frac{p_t}{p_{t-1}}\\right)$\n",
        "- raw return = $r = \\frac{p_t - p_{t-1}}{p_{t-1}}$\n",
        "\n",
        "- Converting between raw returns and log returns\n",
        "  - $R = \\ln(r+1)$\n",
        "\n",
        "  - $r = e^R - 1$ \n",
        "\n",
        "- Why log returns?\n",
        "- Derive  the formula?\n",
        "​\t"
      ]
    },
    {
      "cell_type": "markdown",
      "metadata": {
        "id": "cnyOfW0Yn_TV"
      },
      "source": [
        "**Quiz: Log Returns and Compounding**\n",
        "\n",
        "- [Ir](https://classroom.udacity.com/nanodegrees/nd880/parts/9a3a9589-7bc6-4694-81e0-8c3cb1aea251/modules/45a9362c-0c15-44f8-b71e-a3c2da3637c4/lessons/23490821-c10a-4152-be81-309afd51ba89/concepts/788f09ae-8d6f-4506-a5ea-717ff0bfeb29)\n",
        "\n",
        "- This is a natural feedback mechanism.\n",
        "- **Compounding** is the process by which an asset’s earnings are **reinvested** to generate additional earnings, that is to say, earning interest on interest.\n",
        "- **Rates of Compounding**: A statement by a bank that the interest rate on one-year deposits is 4% per year sounds straightforward and unambiguous. In fact, its **precise meaning** depends on the way the interest rate is measured. For an interest rate statement to be clear, the **magnitude** and **time dependence** of the rate of interest, as well as the **frequency** of compounding, must be clearly stated. \n",
        "\n",
        "**Continuous Compounding**\n",
        "\n",
        "- **Compounding Formula**\n",
        "  - $p_t = p_{t-1}(1 + \\frac{r}{n})^n$\n",
        "- \t$\\lim_{n \\to -\\infty} (1 + \\frac{r}{n})^n = e^r$\n",
        "\n",
        "Play with to understand the notion of limits here:\n",
        "\n",
        "- compounding frequency    -    Value of $100  after 1 yera\n",
        "  - Anually \n",
        "  - Semi-annually\n",
        "  - Quaterly\n",
        "  - Monthly\n",
        "  - Weekly\n",
        "  - Daily\n",
        "\n",
        "- **Continuously Compounded Return**\n",
        "- **Annualized Rate of Return**\n",
        "- **Time Additivity of Log Returns**\n",
        "- **Numerical Stability**\n",
        "  - Multiplication of many small numbers can result in the problem that the product is smaller than the smallest number representable in computer memory. Sometimes the computation will incorrectly yield the value 0. This is called *arithmetic underflow*. The use of logarithms can help with this, since it enables the representation of much smaller (and much larger) numbers. \n",
        "  - **How can i represent numbers with logarithms?**\n",
        "\n"
      ]
    },
    {
      "cell_type": "markdown",
      "metadata": {
        "id": "uVXYyu6psKHu"
      },
      "source": [
        "**Distributions of Returns and Prices**\n",
        "\n",
        "- Investors are always interested in the potential appreciation or depreciation of financial assets. \n",
        "\n",
        "- They'd like to be able to predict what will happen to assets in the future, hence, they'd like to be able to **build models of stock prices and returns**. An important first step is to think of these prices and returns as **random variables**, i.e. outcomes of random phenomena, that take on values as described by distributions. Distributions allow us to summarize the behavior of random variables.\n",
        "\n",
        "- One strategy for getting a sense of potential future behavior is to look to the past. Let's look at some data from the stock of a familiar company with a storied past, Apple Inc.\n",
        "\n",
        "**Returns and the Historical Record**\n",
        "\n",
        "- In general, the normal distribution can be a reasonable approximation for short-term returns and log returns for some applications. However, many analyses have shown that the data do not conform perfectly to a normal distribution, and often deviate significantly in the tails. The significance of this is that the normal distribution predicts fewer extreme events than are actually observed. The conversation about the best model for the distribution of returns has been going on for at least the past century. The best model will depend on exactly what your analysis seeks to achieve.\n",
        "\n",
        "**Normality and Long-Term Investments**\n",
        "\n",
        "- *Central Limit Theory*: The sum of random variables that has the same distribution and are not dependent on each other approaches  a normal distribution  and the limit that the number of random variables and the sum goes to infinity.\n",
        "\n",
        "- $Y$ ~ normal -> $e^Y$ ~ log-normal.\n",
        "- if $log(p_t)$ ~ normal, then $e^{log(p_t)} == p_t$ ~ log-normal.\n",
        "\n",
        "- These distributions can be convenient models, but don't confuse them with actual distributions of **stock prices** or **returns**.\n",
        "\n",
        "**Distribution of Log Returns**"
      ]
    },
    {
      "cell_type": "markdown",
      "metadata": {
        "id": "wo9JvM2CyX9C"
      },
      "source": [
        "**Why Log Returns?**\n",
        "\n",
        "Let's summarize what we just learned. These are some generally accepted reasons that quantitative analysts use log returns:\n",
        "\n",
        "1. Log returns can be interpreted as continuously compounded returns.\n",
        "\n",
        "2. Log returns are time-additive. The multi-period log return is simply the sum of single period log returns.\n",
        "\n",
        "3. The use of log returns prevents security prices from becoming negative in models of security returns.\n",
        "\n",
        "4. For many purposes, log returns of a security can be reasonably modeled as distributed according to a normal distribution.\n",
        "\n",
        "5. When returns and log returns are small (their absolute values are much less than 1), their values are approximately equal.\n",
        "\n",
        "5. Logarithms can help make an algorithm more numerically stable.\n",
        "\n",
        "*Make examples of those benefits?*"
      ]
    },
    {
      "cell_type": "markdown",
      "metadata": {
        "id": "BlmbuX7kQcva"
      },
      "source": [
        "## Momentum Trading\n",
        "Learn about alpha signals, and how they can be applied to a long/short trading strategy. Learn about momentum, a common alpha signal used in trading strategies.\n",
        "\n",
        "[Ir](https://classroom.udacity.com/nanodegrees/nd880/parts/9a3a9589-7bc6-4694-81e0-8c3cb1aea251/modules/45a9362c-0c15-44f8-b71e-a3c2da3637c4/lessons/1d1fa7a8-8724-4c39-bfb4-8eff55a7f287/concepts/b3e90bc2-3a70-4a06-8191-373477f12114)"
      ]
    },
    {
      "cell_type": "markdown",
      "metadata": {
        "id": "ZR4IEEtZy8Rv"
      },
      "source": [
        "**Designing a Trading Strategy**\n",
        "\n",
        "- *A trading strategy* is a set of rules and steps that determine what stocks to trade, when to trade, and how much money to invest.\n",
        "\n",
        "- Goals: Generate Money, Reduced Risks.\n",
        "\n",
        "- Signals\n",
        "\n",
        "- Trading is game theoretical, if a trading idea, signal, strategy became popular, then it will not be effective, because everyone will try to explot it. So you will loose your competitive advandaged.\n",
        "\n",
        "- **Trading hypothesis**: \"oil stocks that devite from the oil sector index boyond a certain *treshhold* are bound to fall back\"\n",
        "\n",
        "- Whatever you *trading idea* is, you must tested agains data."
      ]
    },
    {
      "cell_type": "markdown",
      "metadata": {
        "id": "Wxl33T5s0k4i"
      },
      "source": [
        "**Momentum-based signals**\n",
        "\n",
        "- Newton's first law of motion.\n",
        "- Behavior of stocks prices.\n",
        "- Stocks prices momentum.\n",
        "  - People under-react to news, and it builds up over time,  producing a prolongd effect over prices.\n",
        "  - ...\n",
        "\n",
        "Techniques for Momentum signals:\n",
        "- Technical Indicadors (Moving averages, volume, new highs)\n",
        "\n",
        "- *Momentum* as a market phenomenan.\n",
        "\n",
        "- *Momentum* is an empirically observed phenomenon that past \"winners\" tend to continue to outperform other stocks and past \"losers\" continue to underperform."
      ]
    },
    {
      "cell_type": "markdown",
      "metadata": {
        "id": "Hb_emT3nWTMH"
      },
      "source": [
        "**Finding Alpha**\n",
        "\n",
        "- Alpha Research\n",
        "- Backtesting"
      ]
    },
    {
      "cell_type": "markdown",
      "metadata": {
        "id": "W3uX87Fg2TBo"
      },
      "source": [
        "**Long and Short Positions**\n",
        "\n",
        "**Portfolio**\n",
        "\n",
        "A portfolio is a collection of investments held and/or managed by an investment company, hedge fund, financial institution or individual.\n",
        "\n",
        "**Long**\n",
        "\n",
        "A long (or long position) is the purchase of an asset under the expectation that the price of the asset will rise.\n",
        "\n",
        "**Short**\n",
        "\n",
        "A short (or short position) is the selling of an asset under the expectation that the price of the asset will decline. In practice, an investor profits from a short position by borrowing shares from a brokerage firm (agreeing to pay an interest rate as a fee), selling them on the open market, and later buying them back on the open market at a lower price and returning them to the brokerage firm.\n",
        "\n",
        "- Closing position\n",
        "- Downward momentum"
      ]
    },
    {
      "cell_type": "markdown",
      "metadata": {
        "id": "b8-XQBa57lhJ"
      },
      "source": [
        "**Trading Strategy**\n",
        "\n",
        "- [Ir](https://classroom.udacity.com/nanodegrees/nd880/parts/9a3a9589-7bc6-4694-81e0-8c3cb1aea251/modules/45a9362c-0c15-44f8-b71e-a3c2da3637c4/lessons/1d1fa7a8-8724-4c39-bfb4-8eff55a7f287/concepts/29449a1e-519d-4955-b43c-9af2db89748e)\n",
        "\n",
        "- *Stock universe*: stocks that shares features.\n",
        "- Long  Portafolio\n",
        "- Short Portafolio"
      ]
    },
    {
      "cell_type": "markdown",
      "metadata": {
        "id": "htdgNI60EbR1"
      },
      "source": [
        "**Statistical Analysis**\n",
        "\n",
        "[Ir](https://classroom.udacity.com/nanodegrees/nd880/parts/9a3a9589-7bc6-4694-81e0-8c3cb1aea251/modules/45a9362c-0c15-44f8-b71e-a3c2da3637c4/lessons/1d1fa7a8-8724-4c39-bfb4-8eff55a7f287/concepts/c14cb442-171c-468f-8f8c-37cc64e4284e)\n",
        "\n",
        "Resources:\n",
        "\n",
        "- [Intro to Descriptive Statistics](https://www.udacity.com/course/intro-to-descriptive-statistics--ud827)\n",
        "\n",
        "- [Intro to Inferential Statistics](https://www.udacity.com/course/intro-to-inferential-statistics--ud201)\n",
        "\n",
        "Ideas:\n",
        "\n",
        "- Montly Portafolio Returns\n",
        "- Mean Return\n",
        "- t-Statistic\n",
        "- Standard Error of the Mean\n",
        "- p-value\n",
        "- t-distribution\n",
        "- t-Test\n",
        "- p-value > alpha: The mean return may actually be zero.\n",
        "- p-value <= alpha : The mean return is likely greater than zero.\n",
        "- Cross-sectional momentum strategy\n",
        "- p-hacking\n",
        "\n",
        "How to create an **strategy that outperform** the market?\n",
        "\n",
        "How to test an strategy?"
      ]
    },
    {
      "cell_type": "markdown",
      "metadata": {
        "id": "KACmD1EqGGkk"
      },
      "source": [
        "**The Many Meanings of \"Alpha\"**\n",
        "\n",
        "Disambiguation of the term “Alpha”\n",
        "\n",
        "You will hear the term “alpha” throughout this program, so we want to let you know early on that the term “alpha” is used to mean multiple things in the investment industry.\n",
        "\n",
        "**In mathematics**, you’ll see alpha refer to the significance level of a hypothesis test. In regression, you’ll see alpha refer to the y-intercept of a straight line.\n",
        "\n",
        "**In finance**, alpha refers to multiple distinct but somewhat related ideas. The common thread among these definitions is that alpha is the extra value that an investment professional can add to the performance of an investment.\n",
        "\n",
        "One specific definition of alpha is the extra return that an actively managed fund can deliver, that exceeds the performance of passively investing (buy and hold) in a portfolio of stocks. Another specific definition of alpha, which we’ll primarily focus on in this course, is that of an alpha vector.\n",
        "\n",
        "An **alpha vector** is a list of numbers, one for each stock in a portfolio, that gives us a signal as to the relative future performance of these stocks. You’ll learn more about **alpha vectors** throughout term 1.\n",
        "\n",
        "In this lesson, you may have noticed that we use “alpha” in the statistical sense when we talked about hypothesis testing. We also used it when saying that we may “find alpha” in a strategy. This second usage refers to outsized performance, or better-than-passive performance that a finance professional can add to an investment. Later on, we will use it in the sense of an alpha vector, which is a list of numbers that give us a signal about the relative performance of each stock."
      ]
    },
    {
      "cell_type": "markdown",
      "metadata": {
        "id": "rNiiykVUQesR"
      },
      "source": [
        "## Quant Workflow\n",
        "\n",
        "Learn about the overrall quant workflow, including alpha signal generation, alpha combination, portfolio optimization, and trading.\n",
        "\n",
        "[Ir](https://classroom.udacity.com/nanodegrees/nd880/parts/9a3a9589-7bc6-4694-81e0-8c3cb1aea251/modules/45a9362c-0c15-44f8-b71e-a3c2da3637c4/lessons/15d89d33-f70a-49b0-a4f4-7400dd2e4760/concepts/7fa4e340-6d29-45e2-b56a-ca39b895e99d)"
      ]
    },
    {
      "cell_type": "markdown",
      "metadata": {
        "id": "a_-nwQLz6Jq1"
      },
      "source": [
        "**Startting from a Hypothesis**\n",
        "\n",
        "- Quantitative Trading: Use statistics to model and predict the markets, to make the best trading decistions that is  posible.\n",
        "\n",
        "- Hypothesis: An idea of how the work may word, that is not yet testet, if i is tested then it became a theory or maybe low.\n",
        "\n",
        "-  [A hypothesis](https://en.wikipedia.org/wiki/Hypothesis) (plural hypotheses) is a proposed explanation for a phenomenon.\n",
        "\n",
        "- [What are got hypothesis](https://us.sagepub.com/sites/default/files/upm-assets/41397_book_item_41397.pdf)\n",
        "  - Specific\n",
        "  - Testable\n",
        "\n",
        "- In order to come with good hypothesis it takes time and domain knowlege, in any field including quantitative finance.\n",
        "\n",
        "- How to adquire domain knowledge\n",
        "  - News\n",
        "  - Books\n",
        "  - Blogs\n",
        "  - Study the famous strategies of known investors\n",
        "  - Academic papers"
      ]
    },
    {
      "cell_type": "markdown",
      "metadata": {
        "id": "aMEmIQUY8LS7"
      },
      "source": [
        "**Quant Workflow**\n",
        "\n",
        "- **Hypothesis**: an idea for a way to profit from trading.\n",
        "\n",
        "  -  Prelimanary research and testing\n",
        "- Signal of Alpha\n",
        "  - what asses to buy and sell at what times\n",
        "\n",
        "- Testing\n",
        "  - Detail research and testing, and *backtesting*\n",
        "\n",
        "- Strategy\n",
        "  - how much to spend, how to make trades, when to exist stocks.\n",
        "  - What risk constrainst to impose\n",
        "\n",
        "- *backtesting*\n",
        "  - detailed simulation of entire trading flow using historical data.\n",
        "\n",
        "- **So overall**\n",
        "  - Research\n",
        "  - Testing\n",
        "  - Monitoring?*\n"
      ]
    },
    {
      "cell_type": "markdown",
      "metadata": {
        "id": "dKN-hYfo9Cpu"
      },
      "source": [
        "**Flavors of Trading**\n",
        "\n",
        "-  Single Asset Strategies\n",
        "  - Invest based on *momentum* S&P 500 Index\n",
        "\n",
        "-  Pairwise strategies\n",
        "  - Find pairs of assets that seems to be related and trade on their relative movements.\n",
        "\n",
        "- Cross-sectional strategies\n",
        "  - extend *pairwise strategies* to track groups\n",
        "  - sometimes known as equity statistical arbitrage, also called  equity market neutral investing.\n",
        "\n",
        "- Alternative Data Based Strategies\n",
        " - Satellite Imagery\n",
        " - Social Media\n",
        " - Geolocation\n",
        " - Consumer Transaction Data\n",
        "\n",
        "- Large hedge funds seek:\n",
        "  1. Cpacity to invest lots of capital\n",
        "  2. News, different ideas"
      ]
    },
    {
      "cell_type": "markdown",
      "metadata": {
        "id": "bL1VMZT4-qH1"
      },
      "source": [
        "**Anatomy of a Strategy**\n",
        "\n",
        "Cross-sectioal Equity Investing\n",
        "\n",
        "\n",
        "1. Hypothesis ->   Data\n",
        "  -  Risk Model\n",
        "2. Universe Definition\n",
        "3. Alpha 1, Alpha 2, Alpha 3, ..., Alpha n,\n",
        "4. Alpha Combination.\n",
        "5. Portafolio Construction\n",
        "6. Trading\n",
        "\n",
        "\n",
        "- Stocks\n",
        "- Facility to trading a stock\n",
        "- Stocks that a hypothesis applied\n",
        "- Alpha: an expression that outputs a vector where each component is a value indicative of future returns for an individual stock\n",
        "- Ticker\n",
        "\n",
        "- Research\n",
        "  - Hypothesis : an idea for a way to profit from trading.\n",
        "  - Signal or Alpha:\n",
        "    - what assets to buy and sell at what times\n",
        "  - Refine hypothesis\n",
        "\n",
        "- Portafolio Construction\n",
        "- Risk a posibility that something bad hapend\n",
        "- Risk is also uncertanty of variation of returns in finance.\n",
        "- Systematic Risk\n",
        "  - inheritance to entire market (inflation, recession, interest rates, GDP, ...)\n",
        "\n",
        "- Sector-specific Risks\n",
        "  - (regulation, legislation, materials cost ...)\n",
        "\n",
        "- Idiosyncratic Risk\n",
        "  - *mathematical models of relations*?\n",
        "\n",
        "-  Trades\n",
        "  - When my alpha applies\n",
        "  - How quicly trades\n",
        "  - High frecuency trading\n",
        "\n",
        "- Alpha is the fun part."
      ]
    },
    {
      "cell_type": "markdown",
      "metadata": {
        "id": "ue8PE2I-QjLl"
      },
      "source": [
        "## Outliers and Filtering\n",
        "Learn the importance of outliers and how to detect them. Learn about methods designed to handle outliers.\n",
        "\n",
        "[Ir](https://classroom.udacity.com/nanodegrees/nd880/parts/9a3a9589-7bc6-4694-81e0-8c3cb1aea251/modules/45a9362c-0c15-44f8-b71e-a3c2da3637c4/lessons/45039776-d43f-40b0-a83d-32d0ce6eafa0/concepts/8af2f67c-2ba6-41df-b046-07a1262171bc)"
      ]
    },
    {
      "cell_type": "markdown",
      "metadata": {
        "id": "o1Xh5nXoUtp-"
      },
      "source": [
        "**Sources of Outliers**\n",
        "\n",
        "- Fat Finger Errors:\n",
        "  - Manually Data entry error that alter the data.\n",
        "  - Computer errors that 'alter' the data.\n",
        "\n",
        "- Unajusted practices\n",
        "\n",
        "- Stock price drops 80% overnigh, and trated volume is twice the usual magnitude.\n",
        "\n"
      ]
    },
    {
      "cell_type": "markdown",
      "metadata": {
        "id": "qoFXEhw_g-uw"
      },
      "source": [
        "**Outliers, Signals and Strategies**\n",
        "\n",
        "- Thinly, infrequenly traded stock\n",
        "\n",
        "- Volume = Number of Shares Traded\n",
        "  - It's not that good because a company can issue as many shares of a stock as they wan it to.\n",
        "\n",
        "- Turnover = Volume Traded * Price Per Share\n",
        "  - The amount of money that changes hands.\n",
        "\n",
        "- Contrarian strategies.\n",
        "\n",
        "- Time resolution of the market data.\n",
        "\n",
        "- Make money selling market data."
      ]
    },
    {
      "cell_type": "markdown",
      "metadata": {
        "id": "zebhXlj8nDYo"
      },
      "source": [
        "**Spotting Outliers in Raw Data**\n",
        "\n",
        "Extreme values\n",
        "\n",
        "- Missing dates\n",
        "- Missing prices\n",
        "- Missing volumes\n",
        "\n",
        "How to spot outliers data:\n",
        " - brute force\n",
        " - rule based search "
      ]
    },
    {
      "cell_type": "markdown",
      "metadata": {
        "id": "-AfXJ-swneHs"
      },
      "source": [
        "**Handling Outliers in Raw Data**\n",
        "\n",
        "- Cross check with another data source.\n",
        "\n",
        "- Replace data with mean with the surrounding data.\n",
        "  -  But that implies,  Lookahead bias."
      ]
    },
    {
      "cell_type": "markdown",
      "metadata": {
        "id": "xtPGUETjoGwC"
      },
      "source": [
        "**Spotting Outliers in Signal Returns**\n",
        "\n",
        "- Montly returns\n",
        "\n",
        "- Montly log returns\n",
        "\n",
        "- How much money this signal makes?\n",
        "\n",
        "- QQ Plot\n",
        "\n",
        "- Shape of log returns\n",
        "\n",
        "- Distribution of montly returns\n",
        "\n",
        "- Quartiles\n",
        "\n",
        "- Symmetric Distribution\n",
        "\n",
        "- Fat tails\n",
        "\n",
        "- A good quant should try to understand the root cuase of outliers in returns."
      ]
    },
    {
      "cell_type": "markdown",
      "metadata": {
        "id": "8zMnYZ5aqj9o"
      },
      "source": [
        "**Handling Outliers in Signal Returns**"
      ]
    },
    {
      "cell_type": "markdown",
      "metadata": {
        "id": "I8wyph_0rD8-"
      },
      "source": [
        "**Generating Robust Trading Signals**\n",
        "\n",
        "- Outlier detection.\n",
        "   - Bayesian methods.\n",
        "   - Machine learning.\n",
        "\n",
        "- So pay attention to the data, and investigate when you see something unusual.\n",
        "\n",
        "- "
      ]
    },
    {
      "cell_type": "markdown",
      "metadata": {
        "id": "xaYg4qdSQluB"
      },
      "source": [
        "## Regression\n",
        "Learn about regression, and related statistical tools that pre-process data before regression analysis. See how regression relates to trading and other more advanced methods.\n",
        "\n",
        "[Ir](https://classroom.udacity.com/nanodegrees/nd880/parts/9a3a9589-7bc6-4694-81e0-8c3cb1aea251/modules/45a9362c-0c15-44f8-b71e-a3c2da3637c4/lessons/218b6b3f-d178-4a4a-a9be-70a5ec114aef/concepts/546aaf6c-5585-47e8-b479-db9883bc2842)"
      ]
    },
    {
      "cell_type": "markdown",
      "metadata": {
        "id": "C6fHLDLhQoq8"
      },
      "source": [
        "- Statistical Arbitrage\n",
        "- Signal to Noise ratio"
      ]
    },
    {
      "cell_type": "markdown",
      "metadata": {
        "id": "ijkcb58qRzai"
      },
      "source": [
        "**Distributions**\n",
        "\n",
        "- Many statistical models assume that the data follows a normal distribution (gussian) (bell curve).\n",
        "\n",
        "- Assumption of statistical test.\n",
        "\n",
        "- How to transform the data, so it follows a normal distribution.\n",
        "\n",
        "- *Randon Variable*:\n",
        "  - It's a variable that can take a random value, with a proability specify by the *probability distribution*.\n",
        "\n",
        "- *Probability distribution*:\n",
        "  - Value ->  Probabilty\n",
        "\n",
        "- Histogram"
      ]
    },
    {
      "cell_type": "markdown",
      "metadata": {
        "id": "ZwyZKXrKXuF3"
      },
      "source": [
        "**Parameters of a Distribution**\n",
        "\n",
        "- Probability Density Function (PDF)\n",
        "- $X \\sim D$\n",
        "- $P(x|D) = p(x)$\n",
        "- $P(2 | N) = p(2)$\n",
        "\n",
        "\n",
        "- Parameters to adjust to fit normally looking distribution:\n",
        "  - $X \\sim N(\\mu, \\sigma^2)$\n",
        "\n",
        "- For a probability density function, which describes a continuous variable, the probability is defined as the area under the curve within a range (between two points).\n",
        "\n",
        "- PDF of Standard Normal Distribution: $X \\sim N$\n",
        "  - $f(x) = \\frac{1}{\\sqrt{2\\pi}} e ^ {-\\frac{x^2}{2}}$\n",
        "\n",
        "- PDF Of Normal Distribution:  $X \\sim N(\\mu, \\sigma^2)$\n",
        "  - $p(x|\\mu, \\sigma^2) = \\frac{1}{\\sqrt{2\\pi\\sigma^2}} e ^ {-\\frac{(x -\\mu)^2}{2\\sigma^2}}$\n",
        "\n",
        "- $\\mu$ refers to tthe mean.\n",
        "- $\\sigma$ refers to the standard debiation.\n",
        "\n",
        "- The stard deviation has a $\\mu = 0, \\sigma = 1$."
      ]
    },
    {
      "cell_type": "markdown",
      "metadata": {
        "id": "6Ru1DZDfbpkY"
      },
      "source": [
        "**Testing  for Normality**\n",
        "\n",
        "- A quick way to see if our data follows a normal distribution, is to plot a histogram.\n",
        "\n",
        "- `Boxplot`\n",
        "- Quantiles\n",
        "  - Dividing groups.\n",
        "- Quartiles\n",
        "  - Dividing lines.\n",
        "- Interquartile Range\n",
        "\n",
        "- [Anatomy of a Box Plot](https://quantgirl.blog/anatomy-of-a-box-plot/)\n",
        "\n",
        "- [QQ-Plot](https://en.wikipedia.org/wiki/Q%E2%80%93Q_plot)\n",
        "\n",
        "  - Check if th shape of the data match the shape of the *PDF*.\n",
        "\n",
        "- How to check of normality for a simple number:\n",
        "  - Shapiro-Wilk test\n",
        "  - D'Agostino-Pearson test\n",
        "    - $p-value > 0.05$ -> Normal Distribution.\n",
        "    - $p-value <= 0.05$ -> Not Normal Distribution.\n",
        "  - Kolmogorov-Smirnov test compares two distribution\n",
        "    - $p-value > 0.05$ -> The same.\n",
        "    - $p-value <= 0.05$ -> No the same.\n",
        "\n",
        "- There are three hypothesis tests that can be used to decide if a data distribution is normal. These are the [Shapiro-Wilk test](https://en.wikipedia.org/wiki/Shapiro%E2%80%93Wilk_test) and [D’Agostino-Pearson](https://en.wikipedia.org/wiki/D%27Agostino%27s_K-squared_test), and the [Kolmogorov-Smirnov test](https://en.wikipedia.org/wiki/Kolmogorov%E2%80%93Smirnov_test). Each of these produce p-value, and if the p-value is small enough, say 0.05 or less, we can say with a 95% confidence that the data is not normally distributed. Shapiro-Wilk tends to perform better in a broader set of cases compared to the D’Agostino-Pearson test. In part, this is because the D’Agostino-Pearson test is used to look for skewness and kurtosis that do not match a normal distribution, so there are some odd non-normal distributions for which it doesn’t detect non-normality, where the Sharpiro-Wilk would give the correct answer.\n",
        "\n",
        "- The Kolmogorov Smirnov test can be used to compare distributions other than the normal distribution, so it’s similar to the QQ plot in its generality. To do a normality test, we would first rescale the data distribution (subtract the mean and divide by its standard deviation), then compare the rescaled data distribution with the standard normal distribution (which has a mean of zero and standard deviation of 1). In general, the Shapiro-WIlk test tends to be a better test than the Kolmogorov Smirnov test, but not in all cases.\n",
        "\n",
        "- So in summary, if you want to be thorough, you can use all three tests (there are even more tests that we haven’t discussed here). If you only want to use one test, use the Shapiro-Wilk test. For a sanity check, visualize your data distribution with a histogram, box-whisker plot, and/or a QQ plot.\n"
      ]
    },
    {
      "cell_type": "markdown",
      "metadata": {
        "id": "2UVwA4VHeegY"
      },
      "source": [
        "**Heteroskedasticity**\n",
        "\n",
        "- Stacionary Data\n",
        "- Variance of the data overtime\n",
        "\n",
        "[**Homoscedasticity**](https://en.wikipedia.org/wiki/Homoscedasticity)\n",
        "\n",
        "**Heteroskedasticity**\n",
        "- One of the assumptions of linear regression is that its input data are homoscedastic. A visual way to check if the our data is homoscedastic is a scatter plot (like the one we saw in the video).\n",
        "\n",
        "- If our data is heteroscedastic, a linear regression estimate of the coefficients may be less accurate (further from the actual value), and we may get a smaller p-value than should be expected, which means we may assume (incorrectly) that we have an accurate estimate of the regression coefficient, and assume that it’s statistically significant when it’s not.\n",
        "\n",
        "**Breusch-Pagan Test to chek if data is (homo or hetero)skedasty**\n",
        "- Breusch-Pagan Test for Heteroscedasticity (revisited)\n",
        "Now that we’ve covered regression, let’s look at the Breusch Pagan test in more depth. The Breusch-Pagan test is one of many tests for homoscedasticity/heteroscedasticity. It takes the residuals from a regression, and checks if they are dependent upon the independent variables that we fed into the regression. (Note that we’ll explain residuals in a few videos within this lesson, so feel free to jump back here after you watch the video “Linear Regression”). The test does this by performing a second regression of the residuals against the independent variables, and checking if the coefficients from that second regression are statistically significant (non-zero). If the coefficients of this second regression are significant, then the residuals depend upon the independent variables. If the residuals depend upon the independent variables, then it means that the variance of the data depends on the independent variables. In other words, the data is likely heteroscedastic. So if the p-value of the Breusch-Pagan test is ≤ 0.05, we can assume with a 95% confidence that the distribution is heteroscedastic (not homoscedastic).\n",
        "\n",
        "**How to interpret p-values statistical test**.\n"
      ]
    },
    {
      "cell_type": "markdown",
      "metadata": {
        "id": "GE7HZskqhAGA"
      },
      "source": [
        "**Transforming Data**\n",
        "\n",
        "- Data -> Log -> More Normal\n",
        "\n",
        "- To make data mor normal use the log function.\n",
        "\n",
        "- For homoscedastic data use time difference.\n",
        "  - Thurday vs Friday.\n",
        "\n",
        "- [Box-Cox transformation](https://www.statisticshowto.com/box-cox-transformation/).\n",
        "\n",
        "  - Takes a data set and output a dataset that is more normally distributed."
      ]
    },
    {
      "cell_type": "markdown",
      "metadata": {
        "id": "TI7-wiNVh-kX"
      },
      "source": [
        "**Linear Regression**\n",
        "\n",
        "- Use a random variable to predict another random variable.\n",
        "   - What prediction means here.\n",
        "\n",
        "- $y = \\beta x + \\alpha$ \n",
        "- $price(\\$) = \\beta  \\text{area} (m²) + \\alpha$\n",
        "\n",
        "- The process that fines the best lines that fit the data is called: Ordinary least squares.\n",
        "\n",
        "- Residuals (errors terms) = $y_\\text{actual} - y_\\text{ predicted}.$\n",
        "\n",
        "- If the average of the residuals is not 0, that gives us a hint that the model has a bias in its prediction errors.\n",
        "\n",
        "- What a model is modelling?\n",
        "\n",
        "- Multiple Regression\n",
        "\n",
        "  - Use more than one independent error to predict a dependent variable.\n",
        "\n",
        "- Evaluating our Model\n",
        "  - R-squared value\n",
        "    - 1: all the variation in the independent variable can be exaplain by the variation in the dependent variable.\n",
        "  - Adjusted R-squared\n",
        "\n",
        "- F-test"
      ]
    },
    {
      "cell_type": "markdown",
      "metadata": {
        "id": "xL0JhSxCmWS1"
      },
      "source": [
        "**Multivariate multiple regression**"
      ]
    },
    {
      "cell_type": "markdown",
      "metadata": {
        "id": "UU-LMy5Tmeeg"
      },
      "source": [
        "**Regression in Trading**\n",
        "\n",
        "- Using *regression in finance* is hard, because of the signal to noise ratio.\n",
        "\n",
        "- Can be used  to build a *based model*.\n",
        "\n",
        "- As an exercise do regression on stocks."
      ]
    },
    {
      "cell_type": "markdown",
      "metadata": {
        "id": "cm6aE_4TQoTr"
      },
      "source": [
        "## Times Series Modelling\n",
        "Learn about advanced methods for time series analysis, including ARMA, ARIMA, Kalman Filters, and  recurrent neural networks.\n",
        "\n",
        "[Ir](https://classroom.udacity.com/nanodegrees/nd880/parts/9a3a9589-7bc6-4694-81e0-8c3cb1aea251/modules/45a9362c-0c15-44f8-b71e-a3c2da3637c4/lessons/9196802e-abe7-41d1-a191-e084d6c42817/concepts/c1380839-d3fb-4d77-9ae7-fecdb6a24c85)"
      ]
    },
    {
      "cell_type": "markdown",
      "metadata": {
        "id": "z8loTYanrPN-"
      },
      "source": [
        "**Times Series Modelling**\n",
        "\n",
        "- Auto-regression\n",
        "- Moving averages\n",
        "- Autogressive moving averages\n",
        "- Autoregressive Integrated Moving Averages\n",
        "- Kalman and Particles Filters\n",
        "- Recurrent Neural Networks \n",
        "\n",
        "The goal of time series analysis is to used *pased data* to *predict future data*.\n",
        "\n",
        "- Use returns, not prices.\n",
        "- Idealily log returns.\n"
      ]
    },
    {
      "cell_type": "markdown",
      "metadata": {
        "id": "WbWp128Vr3fh"
      },
      "source": [
        "**Autoregressive (AR) Model**\n",
        "\n",
        "- $y_t = \\alpha + B_1y_t + B_2y_{t-2} + \\text{...}  + \\epsilon_t$\n",
        "\n",
        "- $\\epsilon_t$: error term\n",
        "- $y_t$: independent variable\n",
        "\n",
        "- The past couple of data points, gives us hints into the next values will be.\n",
        "\n",
        "- Lag: the number of past values used in the model.\n",
        "\n",
        "- AR 1 lab model\n",
        "- AR 2 Lag 2\n",
        "\n",
        "- $AR(p)$, where p is the lag.\n",
        "\n",
        "- Adjusted R-squared\n",
        "\n",
        "- A model is used to represent a single times series.\n",
        "\n",
        "- *Vector Autogressive Model**\n"
      ]
    },
    {
      "cell_type": "markdown",
      "metadata": {
        "id": "4CsY1nPdtsqq"
      },
      "source": [
        "**Moving Averages Model**\n",
        "\n",
        "- [Moving Average](https://en.wikipedia.org/wiki/Moving_average)\n",
        "\n",
        "- $y_t = \\mu + \\epsilon_t +  \\theta_1\\epsilon_{t-1} + \\theta_2\\epsilon_{t-2} + \\text{...}  $\n",
        "\n",
        "- Autocorrelation plot\n",
        "  - Lag vs Autocorrelation\n",
        "\n",
        "- Regression how a set of independent variables influences a dependent variable."
      ]
    },
    {
      "cell_type": "markdown",
      "metadata": {
        "id": "Dkkiy_H-vM2-"
      },
      "source": [
        "**Advaced Times Series Models**\n",
        " \n",
        "- ARMA\n",
        "- ARITMA\n",
        "\n",
        "\n",
        "- Adding AR model and Moving Averages Model.\n",
        "- Pairs trading: trading extrategy.\n",
        "- Some times the derivate data is easier to model.\n",
        "- An then take the integral back.\n",
        "\n",
        "*Autoregressive Integrated Moving Average*\n",
        "\n",
        "Non-Stationay data:\n",
        " - mean ,\n",
        " - variance,\n",
        " - covariance may change in the future.\n",
        "\n",
        "- Time Difference\n",
        "- log / log returns\n",
        "- log returns are more stable than prices.\n",
        "\n",
        "- [Augmented Dickey Fuller Test](https://en.wikipedia.org/wiki/Dickey%E2%80%93Fuller_test) to check if the data is stationay or not.\n",
        "  - p-value interpretation.\n",
        "\n",
        "- co-integration\n",
        "\n"
      ]
    },
    {
      "cell_type": "markdown",
      "metadata": {
        "id": "yc6NHfdFxEu2"
      },
      "source": [
        "**Kalman Filter**\n",
        "\n",
        "- lag number for moving average\n",
        "- lag parameters\n",
        "\n",
        "- Single-state represents the past\n",
        "- How to make predictions when you only have noise indirect data.\n",
        "- State of a time series.\n",
        "- Hidden properties.\n",
        "\n",
        "- Kalman filter:\n",
        "  - predict\n",
        "  - measurement update\n",
        "\n",
        "*Kalman Filters for Pairs Trading*\n",
        "\n",
        "One way Kalman Filters are used in trading is for choosing the hedge ratio in pairs trading. We will get into pairs trading and hedge ratios in lesson 13 of this module, but for now, imagine that there’s a magic number that you can estimate from a model, such as a regression model, based on time series data of two stocks.\n",
        "\n",
        "Every day when you get another data point, you can run another regression and get an updated estimate for this number. So do you take the most recent number every time? Do you take a moving average? If so, how many days will you average together? Will you give each day the same weight when taking the average?\n",
        "\n",
        "All of these kinds of decisions are meant to smooth an estimate of a number that is based on noisy data. The Kalman Filter is designed to provide this estimate based on both past information and new observations. So instead of taking a moving average of this estimate, we can use a Kalman Filter.\n",
        "\n",
        "The Kalman Filter takes the time series of two stocks, and generate its “smoothed” estimate for this magic number at each new time period. Kalman Filters are often used in control systems for vehicles such as cars, planes, rockets, and robots. They’re similar to the application in pairs trading because they take noisy indirect measurements at each new time period in order to estimate state variables (location, direction, speed) of a system .\n",
        "\n",
        "Kalman Filters are not used in this module’s project, but if you want to learn more, please check out the extracurricular content section: \"Machine Learning\": Introduction to Kalman Filters."
      ]
    },
    {
      "cell_type": "markdown",
      "metadata": {
        "id": "t9ij3yc4yAuo"
      },
      "source": [
        "**Particle Filter**\n",
        "\n",
        "- a type of genetic algorithm , apply natural selection to improve stimates.\n",
        "\n",
        "- Particles: litle models with random parameters.\n",
        "- Data with non-normal distribution\n",
        "- Non-linear relationships"
      ]
    },
    {
      "cell_type": "markdown",
      "metadata": {
        "id": "YUSlDaXMyrw5"
      },
      "source": [
        "**Recurent Neural Networks**\n",
        "\n",
        "- Recurrent Neural Networks are useful for processing sequence data in general, and are often used for Natural Language Processing. We will cover recurrent neural networks and natural language processing in term 2 of this program. For an intro to neural networks, please check out the extracurricular content.\n",
        "\n",
        "- Neural networks are models that  can be though as many regressions stacks in series and in parallel.\n",
        "\n",
        "- Series:\n",
        " - the oputut of one regression becomes the  input of another regression.\n",
        "\n",
        "- Parallel:\n",
        " - Multiples regression fet to other layer\n",
        "\n",
        "- Feeds backs into itself.\n",
        "\n",
        "- Long short term memory cells *LSTM cell*.\n",
        "\n",
        "- Memory of the LSTM."
      ]
    },
    {
      "cell_type": "markdown",
      "metadata": {
        "id": "rWjuMwhszsuW"
      },
      "source": [
        "**Summary**\n",
        "\n",
        "Statistical methods\n",
        " - regression\n",
        " - autoregression\n",
        " - moving averages\n",
        " - kalman filters\n",
        " - particle filters\n",
        " - recurrent neural networks\n"
      ]
    },
    {
      "cell_type": "markdown",
      "metadata": {
        "id": "kyfd6dRdQrgd"
      },
      "source": [
        "## Volatility\n",
        "Learn about stock volatility, and how to GARCH model analysis volatility. See how volatility is used in equity trading.\n",
        "\n",
        "\n",
        "[Ir](https://classroom.udacity.com/nanodegrees/nd880/parts/9a3a9589-7bc6-4694-81e0-8c3cb1aea251/modules/45a9362c-0c15-44f8-b71e-a3c2da3637c4/lessons/a8376b2e-08e3-4694-9ea4-86f004a558cb/concepts/b9990ff2-acce-4b0b-b6fe-30d34ace7f1d)"
      ]
    },
    {
      "cell_type": "markdown",
      "metadata": {
        "id": "ykZ9tBIZowzF"
      },
      "source": [
        "**Por idiota se me apago el ordenador y perdi toda la informacion**\n",
        "\n",
        "- Volatility defined as the standard deviation of log returns over a period of time.\n",
        "\n",
        "- How to compute volatilty\n",
        "\n",
        "- How to anualize volatity to make comparisons\n",
        "\n",
        "- **Volatility** literally refers to how \"volatile\" a stock is, meaning how unpredictably its price might change. A statistical measure of dispersion, such as standard deviation, is commonly used to measure volatility.\n",
        "\n",
        "- **Volatility** is a very important concept that you need to understand to become a good trader. It becomes critical for risk management and options trading, but can be used to design more intelligent equity trading strategies as well."
      ]
    },
    {
      "cell_type": "markdown",
      "metadata": {
        "id": "pdD2wtKlo5a7"
      },
      "source": [
        "**Rolling Windows**\n",
        "\n",
        "- [Moving average](https://en.wikipedia.org/wiki/Moving_average)\n",
        "\n",
        "- [Simple Moving Average (SMA)](https://www.investopedia.com/terms/s/sma.asp)\n",
        "\n",
        "- [Moving Averages in pandas](https://www.datacamp.com/community/tutorials/moving-averages-in-pandas)"
      ]
    },
    {
      "cell_type": "markdown",
      "metadata": {
        "id": "loWB7bIq4KYL"
      },
      "source": [
        "**Exponentially Weighted Moving Average**\n",
        "- [Ir](https://classroom.udacity.com/nanodegrees/nd880/parts/9a3a9589-7bc6-4694-81e0-8c3cb1aea251/modules/45a9362c-0c15-44f8-b71e-a3c2da3637c4/lessons/a8376b2e-08e3-4694-9ea4-86f004a558cb/concepts/b79f1591-bc8f-49d4-b851-cd5d05c1c4c7)\n",
        "\n",
        "- [Exponential Moving Average (EMA)](https://www.investopedia.com/terms/e/ema.asp)\n",
        "\n",
        "- Create an exponential moving average model of volatility.\n",
        "\n",
        "- I have failed implementing this with python, so try again."
      ]
    },
    {
      "cell_type": "markdown",
      "metadata": {
        "id": "rRuGbRsP9Oqa"
      },
      "source": [
        "**Forcasting Volatilty**\n",
        "\n",
        "- Modelling variables of a system.\n",
        "- What are the values that you're trying to model in this system.\n",
        "\n",
        "- [ARCH](https://en.wikipedia.org/wiki/Autoregressive_conditional_heteroskedasticity): Autoregressive Conditionally Heteroscedastic.\n",
        "\n",
        "- Generate buy sell signals.\n",
        "- Analyze past signal returns, and see if it's correlated with volatility, to activate the strategy behind the signals only ..."
      ]
    },
    {
      "cell_type": "markdown",
      "metadata": {
        "id": "vUEThUQV-s8q"
      },
      "source": [
        "**Markets & Volatilty**\n",
        "\n",
        "- Why volatilty\n",
        "  - maybe new info? research -> no conclusive evidence.\n",
        "\n",
        "- assets affectec by news\n",
        "- volatilty: cause by trading it self.\n",
        "- volume correlated with volatilty\n",
        "\n",
        "- volume: the amount of space that a substance or object occupies, or that is enclosed within a container.\n",
        "\n",
        "- mean volatilty strategies.\n",
        "- VIX index, and index that measure market volatilty on a set of tracked stocks.\n",
        "- we can trade volatilty"
      ]
    },
    {
      "cell_type": "markdown",
      "metadata": {
        "id": "IyjmyF6L_pyp"
      },
      "source": [
        "**Usign Volatilty for Equity Trading**\n",
        "\n",
        "- limit your universe\n",
        "- normalize volatilty to compares apple to apples"
      ]
    },
    {
      "cell_type": "markdown",
      "metadata": {
        "id": "0FFf_xmyBWgf"
      },
      "source": [
        "**Summary**\n",
        "\n",
        "- Key insight for build trading strategies.\n",
        "- Volatility is foundational for understanding markets."
      ]
    },
    {
      "cell_type": "markdown",
      "metadata": {
        "id": "tWi8owc2QwJm"
      },
      "source": [
        "## Pairs Trading and Mean Reversion\n",
        "Learn about pairs trading, and study the tools used in identifying stock pairs and making trading decisions.\n",
        "\n",
        "[Ir](https://classroom.udacity.com/nanodegrees/nd880/parts/9a3a9589-7bc6-4694-81e0-8c3cb1aea251/modules/45a9362c-0c15-44f8-b71e-a3c2da3637c4/lessons/a8a46395-26cb-4f43-b81c-48625e628f15/concepts/3b56a656-3435-4aa1-9280-9da8a6dc7e6e)\n"
      ]
    },
    {
      "cell_type": "markdown",
      "metadata": {
        "id": "d05Z4HPTdsow"
      },
      "source": [
        "**Intro**\n",
        "\n",
        "- **Mean reversion** time series: it's a time series that moves back and forth around a constant value."
      ]
    },
    {
      "cell_type": "markdown",
      "metadata": {
        "id": "S9essXC6ef2D"
      },
      "source": [
        "**Mean Reversion**\n",
        "\n",
        "- To discribe the *mean reversion* phenomena in a stock we used the 'Drift and Volatility model'.\n",
        "\n",
        "```js\n",
        "Drift and Volatility model := \n",
        "  Lorm Term Averge (Drift Term) \n",
        "  + Volatilty Term (Randomness)\n",
        "```\n",
        "\n",
        "$dp_t = p_t\\mu dt + p_t\\sigma\\epsilon\\sqrt{dt}$\n",
        "\n",
        "- TODO: Descomponer este modelo.\n",
        "- \n",
        "\n",
        "Drift and Volatility Model (optional)\n",
        "\n",
        "\n",
        "The drift and volatility model is also called a Brownian Motion model, and is a type of stochastic volatility model. First, let’s discuss how this relates to the finance industry. Stochastic volatility models are fundamental building blocks for estimating the price of options (calls, puts, swaps) and also bonds. Before creating a model of an option (like a call option, for instance), we first want a model for the movement of its underlying asset (the stock price itself). The movement of the stock price is what the drift and volatility model (brownian motion model) attempts to describe.\n",
        "The word Brownian Motion refers to the movements of molecules suspended in fluid, since this model was first used in physics and later adapted for finance. So it helps to imagine the stock price as a small particle, drifting through a glass of water, while it’s being bumped around by other particles and molecules. The word “stochastic” is another word for “random”. Stochastic volatility models attempt to represent the movement of a stock price when the volatility of its movements is random. Stochastic volatility models were used to improve upon the work of Black, Scholes and Merton, who came up with the first formula for pricing options.\n",
        "\n",
        "Now let’s revisit the drift and volatility model and describe what it means.\n",
        "\n",
        "\n",
        "\n",
        "First, notice that $dp_t$  on the left is referring to the differential of the stock price at time t. This type of equation is called a differential equation, since it describes the change over time of some process, rather than the specific state (stock price) of that series.\n",
        "\n",
        "The term $p_t \\mu dt$ is the drift term. First, notice that it depends on the value of the stock price at time t $(p_t)$. This means that if we compare the movements of two stocks, one that’s priced at USD 2 per share, and another that’s priced at USD 1000 per share, the series with the larger price per share is expected to drift (change) more in absolute dollar amounts compared to the other stock. The $\\mu$ term is the expected return of the stock (think average return). Think of the expected return as the expected percent change over a period of time. We usually estimate the expected future return based on historical returns. So if a stock is expected to have a larger percent change per day compared to another, we’d also expect it to drift more (change more) compared to the other stock. This term also includes $d_td$, which is the change in time (how much time has passed). If we watched a stock over a period of day versus over one month, we would expect it to drift more over a month, as more time has passed.\n",
        "\n",
        "Now let’s look at the volatility term. Think of this as the random, bouncy part of the stock movement. This term includes the stock price $p_tp$. It also includes the standard deviation of the stock $\\sigma_t$ , which is a function of time. This is why this model is a type of stochastic volatility model, because it allows for a non-constant volatility that varies over time. If a stock series has higher volatility, this will result in a larger overall movement in stock price (a higher $dp_tdp$). The $\\epsilon$ is a white noise term, which means it’s a random number with a mean of zero and standard deviation of one. The white noise accounts for movements in the stock price that are not accounted for by the model. Finally, there’s the square root of the change in time. Note that the product $\\epsilon_t \\sqrt(d_t)$ is usually written as $dW_t$ , and named a Wiener process.\n",
        "\n",
        "\n",
        "Back to Mean Reversion\n",
        "Okay, stepping back a bit to relate this to mean reversion. The drift and volatility model is a way to describe phenomena that we observe in real life, such as stock prices. The model assumes that there is a constant drift term with some added randomness, so we can expect that a series will bounce around, but still revert back to its long-term mean.\n"
      ]
    },
    {
      "cell_type": "markdown",
      "metadata": {
        "id": "RyCTwy0ajEV1"
      },
      "source": [
        "[**Pairs Trading**](https://en.wikipedia.org/wiki/Pairs_trade)\n",
        "\n",
        "- With pair trading we reduce a little bit of market movements.\n",
        "- Holding short / long positions on two stocks.\n",
        "\n",
        "\n",
        "Pairs Trading\n",
        "Note that with pairs trading, we analyze the original stock price series, and do not convert them to returns or log returns. We’ll get into the details shortly, but let’s just look at an example. Let’s say $\\text{stock}_A$ is USD 2 per share, and $\\text{stock}_B$ is USD 3 per share. If we figured out that we can trade these pairs together, we may go long $\\text{stock}_A$ and short $\\text{stock}_B$. But how much do we long $\\text{stock}_A$ and short $\\text{stock}_B$? What if we long 3 shares of $\\text{stock}_A$ and short 2 shares of $\\text{stock}_B$? This is nice, because $\\text{shares_A} \\times \\text{price}_A - \\text{shares_B} \\times \\text{price}_B$ gives us $3 \\times \\$2 - 2 \\times \\$3$, or zero. Doing pairs trading analysis with the stock price series instead of returns lets us decide how many shares of each stock to long or short, since our goal will be to have the same dollar amount in our long position as in our short position.\n",
        "\n"
      ]
    },
    {
      "cell_type": "markdown",
      "metadata": {
        "id": "i5Nqto1uloEs"
      },
      "source": [
        "**Fiding Pairs to Trade**\n",
        "\n",
        "- Goverment  policies for an industry\n",
        "- Supply Chain phenomena\n",
        "- Analize the movement of stocks, and se how  they barries.\n",
        "- Exploit the time lag.\n",
        "- Stationary series"
      ]
    },
    {
      "cell_type": "markdown",
      "metadata": {
        "id": "5XMPRxwjn9D4"
      },
      "source": [
        "**Cointegration**\n",
        "\n",
        "[Ir](https://classroom.udacity.com/nanodegrees/nd880/parts/9a3a9589-7bc6-4694-81e0-8c3cb1aea251/modules/45a9362c-0c15-44f8-b71e-a3c2da3637c4/lessons/a8a46395-26cb-4f43-b81c-48625e628f15/concepts/8384e897-fc5e-4157-93f9-4d22cc9ab9b2)\n",
        "\n",
        "* [Cointegration](https://en.wikipedia.org/wiki/Cointegration)\n",
        "\n",
        "* [Order of integration](https://en.wikipedia.org/wiki/Order_of_integration)\n",
        "\n",
        "* Two-step engle-granger test\n",
        "  - get hedge ratio from a liner regression\n",
        "  \n",
        "  - calculate spread and check if spread is stationay\n",
        "    - if spread is stationary, the two series are cointegrated.\n",
        "  \n",
        "* Augmented  Dickey-Fuller Test\n",
        "  - if *p-value* <= 0.05: assume spread is stationary, and therefore two stocks are cointegrated.\n",
        "    - Otherwise, stocks are not cointegrated."
      ]
    },
    {
      "cell_type": "markdown",
      "metadata": {
        "id": "EkOvm42Sphbs"
      },
      "source": [
        "**ADF and Roots of the Characteristic Equation**\n",
        "\n",
        "[Ir](https://classroom.udacity.com/nanodegrees/nd880/parts/9a3a9589-7bc6-4694-81e0-8c3cb1aea251/modules/45a9362c-0c15-44f8-b71e-a3c2da3637c4/lessons/a8a46395-26cb-4f43-b81c-48625e628f15/concepts/cc0ea66c-4424-43e6-b8b9-5472b8ede51f)\n"
      ]
    },
    {
      "cell_type": "markdown",
      "metadata": {
        "id": "jVY-OaLxp3kn"
      },
      "source": [
        "**Clustering Stocks**\n",
        "\n",
        "- Group by industry.\n",
        "- Use ml clustering"
      ]
    },
    {
      "cell_type": "markdown",
      "metadata": {
        "id": "KNOVp44sqfQP"
      },
      "source": [
        "**Trade Pairs of Stocks**\n",
        "\n",
        "- [Spread Definition](https://www.investopedia.com/terms/s/spread.asp)\n",
        "\n",
        "-  spread: obtained from linear combination of two series with a hedge ratio\n",
        "\n",
        "- wide spread -> short the spread\n",
        "- narrow spread -> go long the spread\n",
        "\n",
        "- buy low and sell high\n",
        "\n",
        "- buy when it's under price and sell when it's over price\n",
        "\n",
        "- z-score of the spread.\n",
        "\n",
        "- backtesting (test models): \n",
        "  - training set, \n",
        "  - validation set,\n",
        "  - test set."
      ]
    },
    {
      "cell_type": "markdown",
      "metadata": {
        "id": "Yjh8InHep6nS"
      },
      "source": [
        "**Variations of Pairs Trading or Mean Reversion Trading**\n",
        "\n",
        "[Ir](https://classroom.udacity.com/nanodegrees/nd880/parts/9a3a9589-7bc6-4694-81e0-8c3cb1aea251/modules/45a9362c-0c15-44f8-b71e-a3c2da3637c4/lessons/a8a46395-26cb-4f43-b81c-48625e628f15/concepts/0c4dd433-0e19-4c29-8a4b-2916f411eec9)\n",
        "\n",
        "- We can extand pairs trading to one or more stocks.\n",
        "\n",
        "- Note that it’s also possible to extend pairs trading to more than two stocks. We can identify multiple pairs and include these pairs in the same portfolio. We can also analyze stocks that are in the same industry. If we grouped the stocks within the same industry into a virtual portfolio and calculated the return of that industry, this portfolio return would represent the general expected movement of all stocks within the industry. Then, for each individual stock series, we can calculate the spread between its return and the portfolio return. We can assume that stocks within the same industry may revert towards the industry average. So when the spread between the single stock and the industry changes significantly, we can use that as a signal to buy or sell.\n",
        "\n",
        "- "
      ]
    },
    {
      "cell_type": "markdown",
      "metadata": {
        "id": "ugU8f06Vws-e"
      },
      "source": [
        "-  [Extending to 3 stocks (optional)](https://classroom.udacity.com/nanodegrees/nd880/parts/9a3a9589-7bc6-4694-81e0-8c3cb1aea251/modules/45a9362c-0c15-44f8-b71e-a3c2da3637c4/lessons/a8a46395-26cb-4f43-b81c-48625e628f15/concepts/b70321ef-bce7-45d1-b135-e0112808f68c)\n",
        "\n",
        "- [Details of the Johansen test (very optional)](https://classroom.udacity.com/nanodegrees/nd880/parts/9a3a9589-7bc6-4694-81e0-8c3cb1aea251/modules/45a9362c-0c15-44f8-b71e-a3c2da3637c4/lessons/a8a46395-26cb-4f43-b81c-48625e628f15/concepts/613fa9a6-f1ea-4971-816f-7400740bc413)"
      ]
    },
    {
      "cell_type": "markdown",
      "metadata": {
        "id": "nyprQ8OKp7sa"
      },
      "source": [
        "**Summary**\n",
        "\n",
        "- Group correlated stocks, that together are stationary.\n",
        "- Mean Reversion Trading:\n",
        "  - Finds assets with economic link\n",
        "  - Compute the hedge ratio\n",
        "  - Use the hedge ratio to compute the spread\n",
        "  - Test wheater the spread is stationary\n",
        "  - If yes, candidate for mean reversion trading\n",
        "  - threshhold for spread\n",
        "  - spread widens -> short the spread\n",
        "  - spread narrows -> long the spread\n",
        "  - backtest your model "
      ]
    },
    {
      "cell_type": "markdown",
      "metadata": {
        "id": "4clcTCkWQ0_Y"
      },
      "source": [
        "## Stocks, Indices, Funds\n",
        "Gain an overview of stocks, indices and funds. Also learn how to construct an index.\n",
        "\n",
        "[Ir](https://classroom.udacity.com/nanodegrees/nd880/parts/9a3a9589-7bc6-4694-81e0-8c3cb1aea251/modules/45a9362c-0c15-44f8-b71e-a3c2da3637c4/lessons/99485236-63a1-4329-9cbf-db6cab410882/concepts/ad6cb9c6-c137-4f31-8c5b-80b4822279a1)"
      ]
    },
    {
      "cell_type": "markdown",
      "metadata": {
        "id": "2fwKsl2uFQu_"
      },
      "source": [
        "**Stocks**\n",
        "\n",
        "Equity = Assets - Liabilities\n",
        "\n",
        "Stock or Shares represent partial ownership of a company’s equity."
      ]
    },
    {
      "cell_type": "markdown",
      "metadata": {
        "id": "xYAh_XwNHGre"
      },
      "source": [
        "**Index**\n",
        "\n",
        "- S&P: Standard and Poor’s 500 Index (USA)\n",
        "\n",
        "- Dow: Dow Jones Industrial Average (USA)\n",
        "\n",
        "- IBOVESPA: Ibovespa Brasil Sao Paulo Stock Exchange Index (Brazil)\n",
        "\n",
        "- MERVAL: Buenos Aires Stock Exchange Merval Index (Argentina)\n",
        "\n",
        "- NIKKEI: Nikkei 225 Index (Japan) \n",
        "\n",
        "- HANG SENG: Hang Seng Composite Index (Hong Kong)\n",
        "\n",
        "- FTSE 100: Financial Times Stock Exchange 100 Index (UK)\n",
        "\n",
        "- EURO STOXX: EURO STOXX 50 (Europe)\n",
        "\n",
        "- An index is a metric that represents an agregated value/performace of group of stocks company's equity.\n",
        "\n",
        "- An index is a virtual portfolio.\n",
        "\n",
        "**Indices Describe the Market**\n",
        "\n",
        "- Indices track subgroups of the market, and may be designed specifically to track stocks in the same stock exchange, same country, or same sector.\n",
        "\n",
        "- Indices give investors a measure of the market’s status.\n",
        "\n",
        "- Professional investment managers may use indices as benchmarks against which they can evaluate their own fund’s performance."
      ]
    },
    {
      "cell_type": "markdown",
      "metadata": {
        "id": "8KzlZcdIIHR5"
      },
      "source": [
        "**Market capitalizacion**\n",
        "\n",
        "- Large cap\n",
        "- Mid cap\n",
        "- Small cap\n",
        "\n",
        "- Its number of shares times the price per share.\n",
        "- Market value of a company."
      ]
    },
    {
      "cell_type": "markdown",
      "metadata": {
        "id": "RQiRrDT0IgtW"
      },
      "source": [
        "**Growth vs. Value**\n",
        "\n",
        "**Grow Stock**:\n",
        "\n",
        "- Growth in sales, revenue, earnings.\n",
        "- Potential of inscrease features sales.\n",
        "\n",
        "Value Stock:\n",
        "\n",
        "- Stables sales, revenue earnings.\n",
        "\n",
        "How to dertermine if a company is growth vs value?\n",
        "\n",
        "Some metrics (ratios): \n",
        "\n",
        "- Price to earnings ratio: the stock price divided by the company’s earnings per share over the past four quarters. \n",
        "\n",
        "- Price to sales ratio: the the stock price divided by the sales per share over the past four quarters. \n",
        "\n",
        "- Price to book ratio: the stock price divided by the book value per share.\n",
        "\n",
        "The book value is the company’s accounting value, which is assets minus liabilities\n",
        "\n",
        ":TODO what is the book value of a company.\n",
        "\n",
        "Growth stocks tend to have high price to earnings, price to sales, and price to book ratios.\n",
        "\n",
        "Value stocks tend to have lower price to earnings, price to sales, and price to book ratios.\n"
      ]
    },
    {
      "cell_type": "markdown",
      "metadata": {
        "id": "KAcK0CjzJtSx"
      },
      "source": [
        "**Index Categories**\n",
        "\n",
        "S&P Index Categories\n",
        "Indices are created as subsets of other indices. One way of creating subsets include categorizing by market cap, and then value vs. growth. This is how Standard and Poor’s breaks down some of its indices:\n",
        "\n",
        "S&P 500\n",
        "\n",
        "- S&P 500 Growth\n",
        "  - S&P 500 Value\n",
        "\n",
        "- S&P MidCap 400\n",
        "  - S&P MidCap 400 Growth\n",
        "  - S&P MidCap 400 Value\n",
        "\n",
        "- S&P SmallCap 600\n",
        "  - S&P SmallCap 600 Growth\n",
        "  - S&P SmallCap 600 Value"
      ]
    },
    {
      "cell_type": "markdown",
      "metadata": {
        "id": "CUdNzksDKBQF"
      },
      "source": [
        "**Price Weighting**\n",
        "\n",
        "Strategies to build an index.\n",
        "\n",
        "- Price Weighting: Add up all the prices, and you’ll have an index value.\n",
        "$\\sum_{1}^{n} \\text{price}_i$  = some index number\n",
        "\n",
        "- For example, if we have three stocks in the index: the index would be: $\\frac{1}{3} \\times \\text{price}_1 + \\frac{1}{3} \\times \\text{price}_2 + \\frac{1}{3} \\times \\text{price}_3$  = some index number.\n",
        "\n",
        "\n",
        "- Index creators usually re-scale the number.\n",
        "- Re-scale is normalization."
      ]
    },
    {
      "cell_type": "markdown",
      "metadata": {
        "id": "qsOistnOLqkH"
      },
      "source": [
        "**Market Cap Weighted Indices**"
      ]
    },
    {
      "cell_type": "markdown",
      "metadata": {
        "id": "bfo7Nr8zMEUY"
      },
      "source": [
        "**Adding and  Removing companies from indices**"
      ]
    },
    {
      "cell_type": "markdown",
      "metadata": {
        "id": "ILxil7QvMUun"
      },
      "source": [
        "**How an Index is Constructued**\n",
        "\n",
        "[Ir](https://classroom.udacity.com/nanodegrees/nd880/parts/9a3a9589-7bc6-4694-81e0-8c3cb1aea251/modules/45a9362c-0c15-44f8-b71e-a3c2da3637c4/lessons/99485236-63a1-4329-9cbf-db6cab410882/concepts/461d1006-154e-4165-93d5-733cf9d8e616)\n",
        "\n",
        "- Total market cap = sum of individual market caps"
      ]
    },
    {
      "cell_type": "markdown",
      "metadata": {
        "id": "jbS2e9YvOE5b"
      },
      "source": [
        "**Hang Seng Index Construction**\n",
        "\n",
        "**Free Float**\n",
        "\n",
        "- Free float shares refers to the number of shares that are liquid and tradable on the stock exchange.\n",
        "\n",
        "- Free float shares may be considered a better measure when calculating market cap because only free float shares can be bought or sold, which means only the trade of free float shares affects the market movement of the stock.\n",
        "\n",
        "**Capped Index**\n",
        "\n",
        "Now let’s define a capped index. First of all, the English is a bit funny in that the word “cap” that we’re using here has a different meaning from market cap. The “cap” in this context is similar to the concept of putting a cap on a cookie jar, or putting a cap on your daily spending on cookies. It refers to setting a maximum limit.\n",
        "\n",
        "Tencent holding has a market capitalization of 4 trillion hong kong dollars, while the market capitalization of all companies in the Hang Seng Index, including Tencent, is about 20 trillion. So Tencent actually accounts for about 4 divided by 20, or 20% of the value of these 50 companies. An index that tries to keep large companies from dominating the index is called a capped index, because it sets a maximum weight that can be assigned to a single company. In the case of the Hang Seng Index, the largest allowed weight assigned to any single company is 15% so Tencent is assigned a weight of 15% and not 20%."
      ]
    },
    {
      "cell_type": "markdown",
      "metadata": {
        "id": "FkrXrVXuO2rV"
      },
      "source": [
        "**Index after Add or Delete**"
      ]
    },
    {
      "cell_type": "markdown",
      "metadata": {
        "id": "EKkwNLVgO-wM"
      },
      "source": [
        "**Funds**\n",
        "\n",
        "- Professionally manged portfolio of investor money**\n",
        "\n",
        "- They offer diversifiaction to reduce risks, improve risk versus return (Share ratio)\n",
        "\n",
        "- **Sharpe Ratio**: return vs risk"
      ]
    },
    {
      "cell_type": "markdown",
      "metadata": {
        "id": "5efdZ2dFPiTr"
      },
      "source": [
        "**Active vs. Passive Funds**\n",
        "\n",
        "- Actively Managed Fund: seeks to outperform its benchmark (such as an index).\n",
        "\n",
        "- Passively Managed Fund: seeks to track its benchmark (such as an index).\n",
        "\n",
        "- Note: passively managed funds that track an index are also referred to ask “index funds”. An index fund is a fund, not an index.\n",
        "\n",
        "**Alpha vs. Beta**\n",
        "\n",
        "(Regression Line)\n",
        "\n",
        "- Intercep : alpha\n",
        "- Slope : Beta\n",
        "\n",
        "Alpha fund:\n",
        " - generate excess returns above market return.\n",
        "\n",
        "Beta fund:\n",
        " - match returns of an index that is tracking.\n",
        "\n",
        "- Actively Managed funds are also referred to as “alpha” funds.\n",
        "\n",
        "- Passively Managed funds are likewise referred to as “Beta” funds.\n"
      ]
    },
    {
      "cell_type": "markdown",
      "metadata": {
        "id": "ky2OxwJ5YenO"
      },
      "source": [
        "**Smart Beta**\n",
        "\n",
        "Smart beta has a broad meaning, but we can say in practice that when we use the universe of stocks from an index, and then apply some weighting scheme other than market cap weighting, it can be considered a type of smart beta fund. By contrast, a purely alpha fund may create a portfolio of specific stocks, not related to an index, or may choose from the global universe of stocks. The other characteristic that makes a smart beta portfolio \"beta\" is that it gives its investors a diversified broad exposure to a particular market.\n",
        "\n",
        "Smart Beta is a word that originated in the finance industry in the 2000s, and its use has evolved over time. Smart Beta originally referred to a specific kind of alternative weighting, which is fundamental weighting. Alternative weighting refers to anything other than market cap weighting. Market cap weighting is very common because it reflects the market movement (big companies affect the market more than small ones do).\n",
        "\n",
        "Fundamental weighting uses accounting measures such as book value to weight the stocks. So, for instance, a smart beta fund would implement fundamental weighting by buying more shares of stocks whose market price decreased but book value did not change; they would also sell shares in stocks whose market price increased but book value did not change. Other fundamentals could be dividends issued or price earnings ratios. This fundamental weighting applying a bit of “alpha” to a beta fund by using weighting rules that are designed to overweight stocks that may generate better outcomes.\n",
        "\n",
        "Other kinds of alternative weighting that have also taken on the label “smart beta” include square root of market cap or equal weighting. The square root of market cap helps to reduce the impact of large stocks, and so it favors small cap stocks. Equal weighting invests an equal dollar amount in each stock.\n",
        "\n",
        "Factor investing, which we’ll cover in depth in module 4, has also been referred to as a type of smart beta because it looks for measurable factors (fundamental data, but also any data source) that can indicate whether to give more or less weight to a particular stock (and hence, be a bit “smart” about its weights)."
      ]
    },
    {
      "cell_type": "markdown",
      "metadata": {
        "id": "N9higv6lYnf9"
      },
      "source": [
        "**Types of funds**:\n",
        "\n",
        "- Everyday investors\n",
        "- Long Only\n",
        "- No Lockup Period"
      ]
    },
    {
      "cell_type": "markdown",
      "metadata": {
        "id": "Pxtgv5iGY1Xq"
      },
      "source": [
        "[**Hedge Funds**](https://en.wikipedia.org/wiki/Hedge_fund)\n",
        "\n",
        "- High Net Worth or Institutions (Pension Funds)\n",
        "- Long and Short positions\n",
        "- Trade Derivatives (Options, Futures)\n",
        "- Lockup Periods in which investors cannot redeem their investments."
      ]
    },
    {
      "cell_type": "markdown",
      "metadata": {
        "id": "IMVc37Q-ZLLS"
      },
      "source": [
        "**Relative and Absolute returns**\n",
        "\n",
        "Relative return is a fund’s return minus its benchmark’s return. For an actively managed fund, this is called the active return. For a passively managed fund, this is the tracking error.\n",
        "\n",
        "- Bechmark performace of funds.\n",
        "\n",
        "\n",
        "**Tracking Error**\n",
        "\n",
        "Tracking Error measures how the returns of a portfolio differ from the returns of its benchmark. To operationalize the definition of tracking error, we first take the portfolio’s daily returns minus the benchmark’s daily returns. This daily difference is referred to as the excess return and also the active return. Next, we take the sample standard deviation of the active return. Finally, we annualize the daily sample standard deviation by multiplying by the square root of 252, since there are 252 trading days in a year.\n",
        "\n",
        "**Absolute return**\n",
        "\n",
        "- LIBOR\n",
        "\n",
        "Absolute returns refer to a fund’s goal to target a certain return regardless of how the market performs. Hedge funds are usually evaluated by absolute returns. Note that LIBOR stands for London Interbank Offer Rate, and is the rate that banks charge to lend to other banks."
      ]
    },
    {
      "cell_type": "markdown",
      "metadata": {
        "id": "ZygmzjUQaRPP"
      },
      "source": [
        "**Hedging Strategies**\n",
        "\n",
        "- **Hedging**: entering into a transaction in order to reduce exposure to price fluctuations.\n",
        "\n",
        "  -  to to this you buy derivaties options, functions, etc"
      ]
    },
    {
      "cell_type": "markdown",
      "metadata": {
        "id": "nqogTqraa9yR"
      },
      "source": [
        "**Net Asset Value**\n",
        "\n",
        "- **NAV** = Net Asset Value\n",
        "- **AUM** = Assets Under Management\n",
        "\n",
        "- $\\text{NAV} = \\frac{\\text{AUM} - \\text{Expenses}} {\\text{number of shares}}$"
      ]
    },
    {
      "cell_type": "code",
      "metadata": {
        "colab": {
          "base_uri": "https://localhost:8080/"
        },
        "id": "fzjVZryCb4Q3",
        "outputId": "c508d821-5efb-491e-cb4d-13950c91eeea"
      },
      "source": [
        "# nav \n",
        "\n",
        "# Calculate the NAV of a fund given the following information: \n",
        "  # The fund holds 4000 shares of stock A at $5 per share; \n",
        "  # and 3000 shares of stock B at $4 per share. \n",
        "# The Gross Expense Ratio of the fund is 0.1% (0.001) of the assets under management. \n",
        "# Assume there are no other liabilities. There are 1000 shares of the fund.\n",
        "\n",
        "aum  = 4000  * 5 + 3000 * 4\n",
        "expenses = aum * 0.001\n",
        "number_of_shares = 1000\n",
        "\n",
        "print((aum - expenses) / number_of_shares)"
      ],
      "execution_count": null,
      "outputs": [
        {
          "output_type": "stream",
          "text": [
            "31.968\n"
          ],
          "name": "stdout"
        }
      ]
    },
    {
      "cell_type": "markdown",
      "metadata": {
        "id": "OquN6tQmcxO7"
      },
      "source": [
        "**Expensive Ratios**\n",
        "\n",
        "- AUM: Assets Under Management Gross Expense Ratio: Expenses / AUM Net Expense Ratio\n",
        "\n",
        "  -(Expenses - Discounts) / AUM"
      ]
    },
    {
      "cell_type": "markdown",
      "metadata": {
        "id": "1ydTVJLbc_4Z"
      },
      "source": [
        "**Open End Mutual Funds**\n",
        "\n",
        "Most mutual funds are open end funds, meaning that they allow investors to redeem their shares in the fund. Open end funds may keep some of the assets under management as cash, to improve liquidity and handle redemptions. The total return of the fund is a weighted average of the portfolio return and the interest earned from the cash.\n",
        "\n",
        "- They must some cash reserves, if investors whish to redeem there shares.\n",
        "\n",
        "**Total Fund Return**\n",
        "\n",
        "- \n"
      ]
    },
    {
      "cell_type": "code",
      "metadata": {
        "colab": {
          "base_uri": "https://localhost:8080/"
        },
        "id": "4WrdCU66fWXr",
        "outputId": "c5296e4c-5520-454c-c55f-f4819c01bec0"
      },
      "source": [
        "# total return of the fund from first principles\n",
        "\n",
        "equity_investment = 90000 * 0.05\n",
        "cash = 10000 *(0.5 / 100)\n",
        "\n",
        "aum = 100000\n",
        "\n",
        "print((equity_investment + cash) / aum )"
      ],
      "execution_count": null,
      "outputs": [
        {
          "output_type": "stream",
          "text": [
            "0.0455\n"
          ],
          "name": "stdout"
        }
      ]
    },
    {
      "cell_type": "markdown",
      "metadata": {
        "id": "NmtkUQz4gWqL"
      },
      "source": [
        "**Closed End Funds**\n",
        "\n",
        "Because the need to mantain cash in open ended funds, the financial services industry created:\n",
        "\n",
        "Closed End Funds accept investors at the start of the fund, and do not take new investments nor handle redemptions afterward. This means that the closed end fund does not need to keep cash for liquidity purposes or to handle redemptions. Investors who wish to stop investing in the fund may sell their shares to other investors on a stock exchange, the same way they would sell stocks."
      ]
    },
    {
      "cell_type": "markdown",
      "metadata": {
        "id": "6ZMALvAehTG5"
      },
      "source": [
        "**Transaction Costs**\n",
        "\n"
      ]
    },
    {
      "cell_type": "markdown",
      "metadata": {
        "id": "RDj_EeFDQ7EP"
      },
      "source": [
        "## ETFs\n",
        "Learn about Exchanged Traded Funds(ETFs) and how they are used by investors and fund managers.\n",
        "\n",
        "[Ir](https://classroom.udacity.com/nanodegrees/nd880/parts/9a3a9589-7bc6-4694-81e0-8c3cb1aea251/modules/45a9362c-0c15-44f8-b71e-a3c2da3637c4/lessons/b59d570e-eee1-425a-8186-6e051d0733fb/concepts/bc255c95-19d2-47f9-a962-91d78db0f118)"
      ]
    },
    {
      "cell_type": "markdown",
      "metadata": {
        "id": "EEA2SeY8jhgd"
      },
      "source": [
        "ETF:  Are an innovation in the financial industry.\n",
        "\n",
        "- Lower fees\n",
        "- Lower operational costs\n",
        "- Lower tax costs"
      ]
    },
    {
      "cell_type": "markdown",
      "metadata": {
        "id": "V7wZYV6PmtHM"
      },
      "source": [
        "**Shortcoming of Mutual Funds**\n",
        "\n",
        "- Can we do better than need it to have cash, or that the value of the stock don't match the value of the portfolio."
      ]
    },
    {
      "cell_type": "markdown",
      "metadata": {
        "id": "fTezuDZPne-K"
      },
      "source": [
        "**How ETFs are Used**\n",
        "\n",
        "- TFs make it easier to invest in commodities and international stocks.\n",
        "\n",
        "- ETFs are also used for hedging (we’ll see how a bit later).\n",
        "\n",
        "- Commodities are raw materials that are interchangeable and tradable. Commodities include energy, precious metals, and agriculture.\n",
        "\n",
        "**Commodity Futures**\n",
        "\n",
        "Futures contract are standardized agreements between two parties to trade an asset at a future date, at a predetermined price.\n",
        "\n",
        "- The participant who agrees to buy is “long” the future.\n",
        "- The participant who agrees to sell is “short” the future.\n",
        "\n",
        "If you entered into a futures contract and wish to cancel, or “close” your position, you may do so by entering into an opposing position in the same asset, at the same due date.\n",
        "\n",
        "Note that futures are a form of standardized “forward contract.” A forward contract is a specific agreement between two parties that isn’t standardized for other buyers or sellers. Since forward contracts are tailored specifically by the two counterparties, they’re not tradable like futures contracts. Forward contracts are also referred to as “bespoke”, which is just another word for “custom made” or “tailor made”.\n",
        "\n",
        "Futures contracts have standard contract sizes, (also called “lot sizes”), and also standard due dates. An example of a standard contract size is the NYMEX Gold Futures, which has a contract size of 100 troy ounces. Since futures are standardized, they are tradable.\n",
        "\n",
        "\n",
        "**Commodity ETFs**\n",
        "\n",
        "Investors who wish to gain exposure to commodities may buy futures contracts, but this requires them to roll over their positions regularly. Rolling over a futures contracts involves closing out the existing position before its due date and then taking a new position that is due at a later date. Commodity ETFs handle this, so investors could more easily buy and hold shares in a commodity ETF and not worry about rolling over individual futures contracts.\n",
        "\n",
        "**International ETFs**\n",
        "\n",
        "If investors wish to trade international stocks, these stocks would be listed on a stock exchange of another country, and may be in a different time zone. This means that trading is done during the stock exchange’s open hours, which may not be as convenient for the investor. International ETFs are traded on a local stock exchange, while they are still linked to the stocks that are listed abroad (you’ll see how later in this lesson). So investors can trade international ETFs during the open hours of their local stock exchange."
      ]
    },
    {
      "cell_type": "markdown",
      "metadata": {
        "id": "LA5I7sThpDv9"
      },
      "source": [
        "**Hedging**\n",
        "\n",
        "- Entering into a transaction in order to reduce price fluctuations.\n",
        "\n",
        "Hedging with ETFs\n",
        "\n",
        "Hedge funds use ETFs for hedging purposes. They may construct a portfolio that optimizes their exposure to certain stocks that they believe will perform well, and in order to cancel out general market movements, they may also short an ETF that contains a similar set of stocks. They may also short sector-specific ETFs if they wish to have a neutral exposure to those sectors."
      ]
    },
    {
      "cell_type": "markdown",
      "metadata": {
        "id": "YkGJxOxMqOfX"
      },
      "source": [
        "**ETF Sponsors**\n",
        "\n",
        "ETF Sponsors are the financial institutions that issue ETFs. We can think of them as most similar to the fund managers of mutual funds, because they design a portfolio and issue ETF shares. ETF Sponsors may generally charge lower fees compared to other types of funds, in part because of some efficiencies that make it cheaper to run the fund. We’ll learn about some operational efficiencies later in the lesson."
      ]
    },
    {
      "cell_type": "markdown",
      "metadata": {
        "id": "gb6txYwnq80j"
      },
      "source": [
        "**Authorized Participants**\n",
        "\n",
        "Authorized Participants (APs) and ETF Sponsors partner together to make the ETF system work. We can think of APs as the intermediaries between investors and the ETF Sponsor. Unlike mutual funds or hedge funds, ETF Sponsors don’t take cash to invest, nor do they deal directly with investors. ETF Sponsors take a portfolio of stocks instead of cash, and they trade with APs instead of with investors. ETF Sponsors and APs create ETF shares with the “create process”.\n",
        "\n",
        "The “create process” involves the following steps:\n",
        "\n",
        "1. The Authorized Participant buys stocks and bundles them in the same proportions as defined by the ETF Sponsor.\n",
        "\n",
        "2. The AP gives these stocks to the ETF Sponsor.\n",
        "\n",
        "3. The ETF Sponsor creates ETF shares and gives these to the AP.\n",
        "\n",
        "4. The AP sells the ETF shares to investors."
      ]
    },
    {
      "cell_type": "markdown",
      "metadata": {
        "id": "-BLx0094shOa"
      },
      "source": [
        "**Redeem Process**\n",
        "\n",
        "When individual investors wish to divest their holdings in an ETF, they can sell their shares to other investors on the stock exchange, like they would with a stock. This is the same process for investors of closed end mutual funds.\n",
        "\n",
        "To exchange ETF shares for their underlying stocks, this requires what’s called the “redeem process”, and is a transaction between ETF Sponsor and APs. The redeem process takes ETF shares out of circulation, and puts the underlying stocks back into the market.\n",
        "\n",
        "The redeem process involves the following steps\n",
        "\n",
        "1. The AP buys ETF shares from investors in the stock market.\n",
        "\n",
        "2. The AP trades these ETF shares with the ETF Sponsor in exchange for the original stocks.\n",
        "\n",
        "3. The AP sells these stocks on the stock exchange."
      ]
    },
    {
      "cell_type": "markdown",
      "metadata": {
        "id": "Fj_hWNycs4c5"
      },
      "source": [
        "**Lower operational cost & taxes**\n",
        "\n",
        "ETF sponsors can charge more competitive (lower) fees in part because their transactions can be more tax efficient. If you think of how individual investors are taxed on their investments, selling a stock at a higher price than when they bought it will be considered a “realized” capital gain. Investors pay taxes on the cash they earn from capital gains. For an ETF Sponsor, recall that when it enters a create or redeem process, stocks and ETF shares are being exchanged, and not cash. Also, the dollar value of these assets being exchanged are more or less equal.\n",
        "\n",
        "Let’s look at a pretend example. Let’s say an open-end mutual fund is handling investor redemptions, and so the fund sells USD 10,000 worth of stocks to improve liquidity and handle the redemptions. The fund originally bought those stocks at a value of USD 9,000, and so realizes a capital gain of USD 1,000, which is taxed.\n",
        "\n",
        "Let’s also pretend that an ETF sponsor is entering a redeem process with an AP, and gives USD10,000 worth of stocks to the AP, in exchange for USD10,000 worth of ETF shares. There is no realized capital gain, so there is no tax.\n",
        "\n",
        "- Trade ETF shares with stocks: no capital gains\n",
        "- No capital gains, no capital tax"
      ]
    },
    {
      "cell_type": "markdown",
      "metadata": {
        "id": "B12hbTvJtk06"
      },
      "source": [
        "**Arbitrage**\n",
        "\n",
        "[Ir](https://classroom.udacity.com/nanodegrees/nd880/parts/9a3a9589-7bc6-4694-81e0-8c3cb1aea251/modules/45a9362c-0c15-44f8-b71e-a3c2da3637c4/lessons/b59d570e-eee1-425a-8186-6e051d0733fb/concepts/60c9a04e-c7ba-439e-a485-54be2fca9c22)\n",
        "\n",
        "Arbitrage is the act of simultaneously buying and selling assets that are interchangeable, in order to profit from pricing differences. Arbitrage plays a role in making markets more efficient, which means that prices are more consistent for the same asset. When investors and funds collectively find and act on arbitrage opportunities, they reduce price discrepancies in the market.\n",
        "\n",
        "- APs can make money.\n",
        "- Aligns ETF shares price with the stocks that they represent.\n",
        "\n",
        "- Finantial Markets"
      ]
    },
    {
      "cell_type": "markdown",
      "metadata": {
        "id": "HNTK8mTCvh-e"
      },
      "source": [
        "**Arbitrage for Efficient ETF Pricing**\n",
        "\n",
        "- iShares STOXX Europe 600 Retail (UCITS)\n",
        "- ETF Share Price\n",
        "- ETF trading to a premium\n",
        "- ETF trading at a discount\n",
        "\n",
        "- Basis : stock values per share - etf values per share.\n",
        "\n",
        "\n",
        "**Misaligned ETF prices and Arbitrage Opportunity**\n",
        "\n",
        "- The market value of an ETF share may diverge from the market value of its underlying portfolio of stocks (its NAV).\n",
        "\n",
        "- If an ETF share price is higher than its NAV, we say it’s trading at a premium.\n",
        "\n",
        "- If an ETF share price is lower than its NAV, we say it’s trading at a discount.\n",
        "\n",
        "- The difference between the ETF share price and its NAV can be called its “basis”."
      ]
    },
    {
      "cell_type": "markdown",
      "metadata": {
        "id": "7R4JNtAVwX0k"
      },
      "source": [
        "**Re-align ETF Share Price with Arbitrage**\n",
        "\n",
        "An Authorized Participant (AP) looks for when an ETF is trading at a premium or discount to its NAV.\n",
        "The AP then buys low and sells high in order to make a profit on the difference. This trade also reduces the price discrepancy and helps to keep ETF share prices in line with their NAV.\n",
        "\n",
        "For example, if the ETF is trading at a premium the AP will enter a create process with the ETF Sponsor. This means that the AP buys the underlying stocks (at a relatively low price) and exchanges them with the ETF Sponsor for ETF shares (which are priced at a premium). Then the AP sells those ETF shares on the stock exchange. The purchase of underlying stocks tends to push the stock prices up. The creation of more ETF shares tends to push the ETF share price downward."
      ]
    },
    {
      "cell_type": "markdown",
      "metadata": {
        "id": "0GYy_hM6w_vs"
      },
      "source": [
        "The “Tomato and Avocado” ETF is market cap weighted and contains only two stocks: Tomato Corp. and Avocado Corp. Tomato is $2 per share with 5000 shares outstanding; Avocado is $5 per share with 2000 shares. There are 1000 shares of “Tomato and Avocado” ETF, linked to 2500 shares of Tomato and 1000 shares of Avocado. The price of an ETF share is $9.50 per share. What should the AP do?\n",
        "\n",
        "- create\n",
        "- reddem\n",
        "- neither\n",
        "- both\n",
        "\n",
        "That’s right, the AP wants to redeem ETF shares.\n",
        "\n",
        "The Authorized Participant notices that the ETF share is priced below the value of its underlying assets, and to take advantage of the price difference, it wants to buy ETF shares, redeem them for the underlying assets, and sell the underlying assets at their respective share prices.\n",
        "\n",
        "To see this, we first check the fair value of 1000 ETF shares. These ETF shares represent 2500 Tomato shares at $2 each, and 1000 Avocado shares at UDS 5 each. Combined, these are valued at UDS 5000 plus UDS 5000 or UDS 10 000.\n",
        "\n",
        "Next, we check the market value of the 1000 ETFs. These 1000 ETF shares are priced at UDS 9.50 each, and so their market value is UDS 9.50 times 1000 or 9 500. This is lower than the fair value of its underlying assets.\n",
        "\n",
        "So the Authorized Participant wants to buy low and sell high. They buy the underpriced ETF shares, redeem them from the ETF Sponsor in exchange for the underlying stocks of Tomato and Avocado, and then sell these stocks to make a profit."
      ]
    },
    {
      "cell_type": "markdown",
      "metadata": {
        "id": "wOQV1oCUxgMo"
      },
      "source": [
        "**Summary**\n",
        "\n",
        "- ETF charges smaller feets than fund (mututal funds, hedge funds)\n",
        "\n",
        "- ETF are more  efficiely price, because AP use **arbitrage** to keep the ETF shares prices inline with the underlyng stock prices."
      ]
    },
    {
      "cell_type": "markdown",
      "metadata": {
        "id": "Uqut1WsuQ9-S"
      },
      "source": [
        "## Portfolio Risk and Return *********\n",
        "Learn the fudamentals of portfolio theory, which are key to designing portfolios for  mutual funds, hedge funds and ETFs.\n",
        "\n",
        "[Ir](https://classroom.udacity.com/nanodegrees/nd880/parts/9a3a9589-7bc6-4694-81e0-8c3cb1aea251/modules/45a9362c-0c15-44f8-b71e-a3c2da3637c4/lessons/c3ef3758-2815-4e6d-b5c9-0cfdd9c535da/concepts/0718e422-b6d4-49a3-9518-7813f1e9fdda)"
      ]
    },
    {
      "cell_type": "markdown",
      "metadata": {
        "id": "g572jQj3QKbj"
      },
      "source": [
        "- How to maximazie profits and reduces the risk of loses.\n"
      ]
    },
    {
      "cell_type": "markdown",
      "metadata": {
        "id": "Fr43yctDQUpI"
      },
      "source": [
        "**Diversification**\n",
        "\n",
        "- Diversification as an strategy to reduce risk.\n",
        "\n",
        "- Sources of risk\n",
        "  - Inflation\n",
        "  - Recession\n",
        "  - Exchange Rates Changes\n",
        "\n",
        "- Markets risk\n",
        "\n",
        "- How risk propages\n",
        "\n",
        "- Risk specific to individual companies is called *Idiosyncratic Risk or Specific Risk*"
      ]
    },
    {
      "cell_type": "markdown",
      "metadata": {
        "id": "ZcR4du1uRDt5"
      },
      "source": [
        "**Porfatolio Mean**\n",
        "\n",
        "- [Ir](https://youtu.be/vozlctvug7I)\n",
        "\n",
        "- Future log returns as *random variables*.\n",
        "- $E(r) = \\sum_{i=1}^n p(i)r(i)$\n",
        "  \n",
        "  - $E$ \"expected value\" of log return distribution\n",
        "  - $r(i)$ log return  in scenario i\n",
        "  - $p(i)$ Probability of scenario i\n",
        "\n",
        "- :TODO there is a formula here about portafolio"
      ]
    },
    {
      "cell_type": "markdown",
      "metadata": {
        "id": "G7oe1MFvSYJS"
      },
      "source": [
        "**Porfatolio Variance**\n",
        "\n",
        "- [Common Methods of Measurement for Investment Risk Management](https://www.investopedia.com/ask/answers/041415/what-are-some-common-measures-risk-used-risk-management.asp)\n",
        "\n",
        "[Ir](https://classroom.udacity.com/nanodegrees/nd880/parts/9a3a9589-7bc6-4694-81e0-8c3cb1aea251/modules/45a9362c-0c15-44f8-b71e-a3c2da3637c4/lessons/c3ef3758-2815-4e6d-b5c9-0cfdd9c535da/concepts/81c668e9-8529-430e-ab96-b3bb0bd59f2e)\n",
        "\n",
        "- Formula deriviation\n",
        "\n",
        "- Measure risk with volatilty.\n",
        "\n",
        "- Porfafolio variance\n",
        "\n",
        "  - $\\sigma_P^2 = \\sum_ip(i)[r_P - E(r_P)]^2$\n",
        "\n",
        "- Covariance of two random variables.\n",
        "- Correlation of two random variables.\n",
        "\n",
        "- [Reducing Risk with Imperfectly Correlated Stocks](https://classroom.udacity.com/nanodegrees/nd880/parts/9a3a9589-7bc6-4694-81e0-8c3cb1aea251/modules/45a9362c-0c15-44f8-b71e-a3c2da3637c4/lessons/c3ef3758-2815-4e6d-b5c9-0cfdd9c535da/concepts/6bc199e5-6a9e-454a-a7dc-3e459ffb0552)\n",
        "\n",
        "- What is the standard deviation of a portfolio?\n",
        "\n",
        "\n",
        "\n",
        "- [What is the variance of a portfolio with 3 assets, A, B and C, with weights $x_A$ , $x_B$ , and $x_C$](https://classroom.udacity.com/nanodegrees/nd880/parts/9a3a9589-7bc6-4694-81e0-8c3cb1aea251/modules/45a9362c-0c15-44f8-b71e-a3c2da3637c4/lessons/c3ef3758-2815-4e6d-b5c9-0cfdd9c535da/concepts/41b75121-de4e-42ed-879d-ab65b8b19f5b)"
      ]
    },
    {
      "cell_type": "markdown",
      "metadata": {
        "id": "o9ruyq-sUxWX"
      },
      "source": [
        "**The Covariance Matrix**\n",
        "\n",
        "[Ir](https://classroom.udacity.com/nanodegrees/nd880/parts/9a3a9589-7bc6-4694-81e0-8c3cb1aea251/modules/45a9362c-0c15-44f8-b71e-a3c2da3637c4/lessons/c3ef3758-2815-4e6d-b5c9-0cfdd9c535da/concepts/456f5c2e-e93e-447c-8bbb-b83c84ab8a68)\n",
        "\n",
        "- Have to take the course in linear albebra from udacity.\n",
        "\n",
        "- Rember the portafolio variance from a portafolio with x number of stocks\n",
        "\n",
        "- Quadratic Forms\n",
        "\n",
        "- Multiple the covariant matrix with the with vectors."
      ]
    },
    {
      "cell_type": "markdown",
      "metadata": {
        "id": "3MUSdoVdVZuW"
      },
      "source": [
        "**Calculate a Covariance Matrix**\n",
        "\n",
        "-  [Ir](https://classroom.udacity.com/nanodegrees/nd880/parts/9a3a9589-7bc6-4694-81e0-8c3cb1aea251/modules/45a9362c-0c15-44f8-b71e-a3c2da3637c4/lessons/c3ef3758-2815-4e6d-b5c9-0cfdd9c535da/concepts/990419da-0aaa-4bed-91d7-d2366b3bd512)\n",
        "\n",
        "- [numpy.cov](https://numpy.org/doc/stable/reference/generated/numpy.cov.html)"
      ]
    },
    {
      "cell_type": "markdown",
      "metadata": {
        "id": "RkmImGSLWPVK"
      },
      "source": [
        "**The Efficient Fronteir**\n",
        "\n",
        "- [Ir](https://classroom.udacity.com/nanodegrees/nd880/parts/9a3a9589-7bc6-4694-81e0-8c3cb1aea251/modules/45a9362c-0c15-44f8-b71e-a3c2da3637c4/lessons/c3ef3758-2815-4e6d-b5c9-0cfdd9c535da/concepts/97f79f3e-c6df-41cd-ad85-12986d857b98)\n",
        "\n",
        "- The set of all posibles portafolios, that can be assemble with a set of stocks.\n",
        "\n",
        "- Portafolio expecterd return\n",
        "  - $\\mu p = \\sum _{i = 1}^N x_i\\mu_i$\n",
        "  $= x^T\\mu$\n",
        "\n",
        "- Portafolio variance\n",
        "  - $\\sigma^2p = \\sum_{i=1}^N \\sum_{j = 1}^N x_i Cov(r_i, r_j)$\n",
        "  - $= x^TPx$\n",
        "\n",
        "**Efficient Frontier**\n",
        "\n",
        "The efficient frontier for a given set of stocks gives us the set of portfolios that achieve the highest return for each level of risk. The efficient frontier also contains the set of portfolios that achieve the lowest level of risk for each level of return. We refer to these portfolios along the efficient frontier as market portfolios. As portfolio managers, we would be interested in finding the weights for each stock that create these market portfolios on the efficient frontier.\n",
        "\n",
        "**Minimum Variance Portfolio**\n",
        "\n",
        "The minimum variance portfolio is a single portfolio in the efficient frontier that has the lowest risk.\n",
        "\n",
        "- Returns time line\n",
        "\n",
        "- Simulations a portafolio\n",
        "- Excenarios\n",
        "- Plot volatilty vs Return"
      ]
    },
    {
      "cell_type": "markdown",
      "metadata": {
        "id": "Wry1tMcZYX3i"
      },
      "source": [
        "**Capital Market Line**\n",
        "\n",
        "- [Ir](https://youtu.be/BRO-vo3y0-U)\n",
        "\n",
        "- Can we do better into the efficient fronteir.\n",
        "\n",
        "- Risk-free asset (in practice this don't exists)\n",
        "  \n",
        "  - An asset that provides a guaranteed rate of retur, with no uncertainty\n",
        "  \n",
        "- Sharpe Ratio\n",
        " - Profetional investors almost always cares about this.\n",
        "\n",
        "**Treasury Securities**\n",
        "\n",
        "Treasury securities are IOUs from a government. They are government debt instruments used to finance government spending as an alternative to taxation. In the case of stable governments, they are considered relatively risk-free. In the U.S., Treasury bills mature in 1 year or less, Treasury notes mature in 2 to 10 years, and Treasury bonds mature in 20 to 30 years."
      ]
    },
    {
      "cell_type": "markdown",
      "metadata": {
        "id": "7ee5IB9MZz2Y"
      },
      "source": [
        "**The Sharpe Ratio**\n",
        "\n",
        "- [Ir](https://classroom.udacity.com/nanodegrees/nd880/parts/9a3a9589-7bc6-4694-81e0-8c3cb1aea251/modules/45a9362c-0c15-44f8-b71e-a3c2da3637c4/lessons/c3ef3758-2815-4e6d-b5c9-0cfdd9c535da/concepts/000fd766-4619-44ef-829c-ea00d5339ad2)\n",
        "\n",
        "[More info](http://web.stanford.edu/~wfsharpe/art/sr/sr.htm)"
      ]
    },
    {
      "cell_type": "markdown",
      "metadata": {
        "id": "WEczOBoqaKJm"
      },
      "source": [
        "**Others measures of risk**\n",
        "\n",
        "[Ir](https://classroom.udacity.com/nanodegrees/nd880/parts/9a3a9589-7bc6-4694-81e0-8c3cb1aea251/modules/45a9362c-0c15-44f8-b71e-a3c2da3637c4/lessons/c3ef3758-2815-4e6d-b5c9-0cfdd9c535da/concepts/e3e62e77-11f7-4178-90e9-c26b40730f15)\n",
        "\n",
        "- **Semi-Deviation**\n",
        "- [Value at risk](https://en.wikipedia.org/wiki/Value_at_risk) "
      ]
    },
    {
      "cell_type": "markdown",
      "metadata": {
        "id": "HiXjir78arzR"
      },
      "source": [
        "**Capital Assets Pricin Model**\n",
        "\n",
        "[Ir](https://classroom.udacity.com/nanodegrees/nd880/parts/9a3a9589-7bc6-4694-81e0-8c3cb1aea251/modules/45a9362c-0c15-44f8-b71e-a3c2da3637c4/lessons/c3ef3758-2815-4e6d-b5c9-0cfdd9c535da/concepts/1eed112c-65f9-4a09-ae30-1df0106fbd13)\n",
        "\n",
        "The CAPM is a model that describes the relationship between systematic risk and expected return for assets. \n",
        "\n",
        "The CAPM assumes that the excess return of a stock is determined by the market return and the stock’s relationship with the market’s movement. It is the foundation of the more advanced multi-factor models used by portfolio managers for portfolio construction.\n",
        "\n",
        "[Security market line](https://en.wikipedia.org/wiki/Security_market_line)\n",
        "\n",
        "-  [Ejercicio](https://classroom.udacity.com/nanodegrees/nd880/parts/9a3a9589-7bc6-4694-81e0-8c3cb1aea251/modules/45a9362c-0c15-44f8-b71e-a3c2da3637c4/lessons/c3ef3758-2815-4e6d-b5c9-0cfdd9c535da/concepts/bb149d4c-6cfd-45f6-be14-f4a698ed5e9e)"
      ]
    },
    {
      "cell_type": "markdown",
      "metadata": {
        "id": "AOp-JEV_bgsI"
      },
      "source": [
        "Study the property of all posibles portafolio with risky assets:\n",
        "\n",
        "- Compute the expectecd return and variance of portafolio risky assets.\n",
        "\n",
        "- Study\n",
        "- What happends when a free  asset is added."
      ]
    },
    {
      "cell_type": "markdown",
      "metadata": {
        "id": "VcL3JcuyREZe"
      },
      "source": [
        "## Portfolio Optimization\n",
        "Learn how to optimize portfolios to meet certain criteria and constrains. Get hands on experience in optimizatin g a portfolio using the *cvxpy* python library.\n",
        "\n",
        "[Ir](https://classroom.udacity.com/nanodegrees/nd880/parts/9a3a9589-7bc6-4694-81e0-8c3cb1aea251/modules/45a9362c-0c15-44f8-b71e-a3c2da3637c4/lessons/41f6f121-d722-46f8-a3ad-2ba021fc2d8e/concepts/f34b38d2-ee90-4304-af51-4cbca2673f16)\n"
      ]
    },
    {
      "cell_type": "markdown",
      "metadata": {
        "id": "2ipGc1oqdpw4"
      },
      "source": [
        "- Strategies for optimizing returns on a portfolio.\n",
        "\n",
        "- Best possible conbination of risk and returns.\n",
        "\n",
        "- Utilize and Reseach Techniques"
      ]
    },
    {
      "cell_type": "markdown",
      "metadata": {
        "id": "xNmtR7ooeDAp"
      },
      "source": [
        "**What is Optimization?**\n",
        "\n",
        "[Ir](https://classroom.udacity.com/nanodegrees/nd880/parts/9a3a9589-7bc6-4694-81e0-8c3cb1aea251/modules/45a9362c-0c15-44f8-b71e-a3c2da3637c4/lessons/41f6f121-d722-46f8-a3ad-2ba021fc2d8e/concepts/fe0fbbe7-5ec8-4787-8a2b-05bd6b1f2d5c)\n",
        "\n",
        "- Second-Order condication\n",
        "- saddle points\n",
        "- optimize functions with more than one variable\n",
        "- matrix of partial derivaties\n",
        "- \n",
        "\n",
        ":TODO I will have to study a bit of calculus."
      ]
    },
    {
      "cell_type": "markdown",
      "metadata": {
        "id": "CkOstmIIehXA"
      },
      "source": [
        "**Optimization with Constrains**\n",
        "\n",
        "- minimize $f_0(x)$\n",
        "- $x = $\n",
        "\n",
        "\\begin{pmatrix}\n",
        "x_1 \\\\\n",
        "x_2 \\\\\n",
        "\\vdots \\\\\n",
        "xn\n",
        "\\end{pmatrix}\n",
        "\n",
        "- Constrains subject to\n",
        "\n",
        "- optimal or solution: a vector $x$ that has the smallest objective function value among all vectors that sastify the contrains.\n",
        "\n",
        "- domain: the set of points for which the objective and all constrains are defined.\n",
        "\n",
        "- **Feasible Set**: the set of poitns that satisfy all the constraints\n",
        "\n",
        "- Convex function optimization problem\n",
        " - only has one minimum\n",
        "\n",
        "\n",
        "**Convex Optimization**\n",
        "\n",
        "- Objective convect\n",
        "- Inequality constrains convex\n",
        "- Equality Constrans \n",
        "  $f(x) = a^Tx + b$\n",
        "\n"
      ]
    },
    {
      "cell_type": "markdown",
      "metadata": {
        "id": "Uy99OEa5g_m0"
      },
      "source": [
        "**Derivation of Optimal Weights on a Two-Asset Portfolio**\n",
        "\n",
        "- [Ir](https://classroom.udacity.com/nanodegrees/nd880/parts/9a3a9589-7bc6-4694-81e0-8c3cb1aea251/modules/45a9362c-0c15-44f8-b71e-a3c2da3637c4/lessons/41f6f121-d722-46f8-a3ad-2ba021fc2d8e/concepts/ac5cc674-a287-4476-9559-5d987e60aecd)\n",
        "\n",
        "- Optimize a two stock portafolio analytically.\n",
        "- As an exercise check the **second order condition**."
      ]
    },
    {
      "cell_type": "markdown",
      "metadata": {
        "id": "SU2IBmxchuDP"
      },
      "source": [
        "**Portfolio Optimization with 2 Stocks**\n",
        "\n",
        "- [Ir](https://classroom.udacity.com/nanodegrees/nd880/parts/9a3a9589-7bc6-4694-81e0-8c3cb1aea251/modules/45a9362c-0c15-44f8-b71e-a3c2da3637c4/lessons/41f6f121-d722-46f8-a3ad-2ba021fc2d8e/concepts/16810413-fb63-47e9-b49d-ed538ac383b6)\n",
        "\n",
        "Let’s say we want to construct a portfolio containing 2 stocks, Stock 1 and Stock 2.\n",
        "\n",
        "- Stock 1: Expected return=15%, Volatility=10%\n",
        "\n",
        "- Stock 2: Expected return=10%, Volatility=5%\n",
        "\n",
        "- Correlation between Stock A and B = 0.25\n",
        "\n",
        "- What weights on Stocks 1 and 2, $x_1$ and $x_2$ , will give the minimum variance portfolio?"
      ]
    },
    {
      "cell_type": "markdown",
      "metadata": {
        "id": "u-ryMvluiMOb"
      },
      "source": [
        "**Formulating Portfolio Optimization Problems**\n",
        "\n",
        "- [Ir](https://classroom.udacity.com/nanodegrees/nd880/parts/9a3a9589-7bc6-4694-81e0-8c3cb1aea251/modules/45a9362c-0c15-44f8-b71e-a3c2da3637c4/lessons/41f6f121-d722-46f8-a3ad-2ba021fc2d8e/concepts/b9f3d830-8cb7-41d6-ae90-029e6cf3972d)\n",
        "\n",
        "- Common Constraints\n",
        "  - nor short selling\n",
        "  - sector limit\n",
        "  - constraint on portafolio return\n",
        "\n",
        "- L2-Norm\n",
        "- The optimization objective consists of a sum of two quantities: 1) the first term, and 2) the second term times lambda. If lambda is very large, which quantity in the sum will be larger, and will have more influence on the overall size of the sum?\n",
        "\n",
        "- :TODO Ejercicio"
      ]
    },
    {
      "cell_type": "markdown",
      "metadata": {
        "id": "ZKGSyJVqi-ft"
      },
      "source": [
        "**cvxpy**\n",
        "\n",
        "- What is *cvxpy*? *cvxpy* is a Python package for solving convex optimization problems. It allows you to express the problem in a human-readable way, calls a solver, and unpacks the results.\n",
        "\n",
        "Ejercicios Optimizando Portafolios:\n",
        "\n",
        "  - [Exercicio](https://classroom.udacity.com/nanodegrees/nd880/parts/9a3a9589-7bc6-4694-81e0-8c3cb1aea251/modules/45a9362c-0c15-44f8-b71e-a3c2da3637c4/lessons/41f6f121-d722-46f8-a3ad-2ba021fc2d8e/concepts/d923f72e-6ebf-479b-8be7-e7aa0ccfb5db)\n",
        "\n",
        "  - [Ejercio Avanzado](https://classroom.udacity.com/nanodegrees/nd880/parts/9a3a9589-7bc6-4694-81e0-8c3cb1aea251/modules/45a9362c-0c15-44f8-b71e-a3c2da3637c4/lessons/41f6f121-d722-46f8-a3ad-2ba021fc2d8e/concepts/75b62184-ad96-4a3f-9112-b11289e8c008)"
      ]
    },
    {
      "cell_type": "markdown",
      "metadata": {
        "id": "L6ysWhJpkKsO"
      },
      "source": [
        "**Rebalancing a Portfolio**\n",
        "\n",
        "- Optimal portfolio wheigts\n",
        "\n",
        "- Monitor portfolios\n",
        "\n",
        "- portfolio wheigts\n",
        "  - the propercion of money invested in each asset\n",
        "\n",
        "- rebalance a portafolio\n",
        "\n",
        "- Rebalancign cost\n",
        "\n",
        "  - transaction cost\n",
        "  - taxes\n",
        "  - labor\n",
        "\n",
        "- It's hard to model transaction cost direcly\n",
        "\n",
        "- Portfolio turnover\n",
        "\n",
        "- annalyze turnover"
      ]
    },
    {
      "cell_type": "markdown",
      "metadata": {
        "id": "Uw7QvLFel-yo"
      },
      "source": [
        "**Rebalancing Strategies**\n",
        "\n",
        "**Terminology**\n",
        "\n",
        "Target asset allocation = some goal you have for the weights ${x}$ on the assets in your portfolio.\n",
        "\n",
        "- When a rebalancing of a portfolio is trigger:\n",
        "\n",
        "- Corporate Actions\n",
        "  - merger\n",
        "  - adquisitions\n",
        "  - changes in mangament\n",
        "\n",
        "- rebalanding when the portfolio  whehgts changes by a certain treshhold amount.\n",
        "\n",
        "- rebalancing a set temporal frecuency\n",
        "\n",
        "- time horizon of optimization\n",
        "\n",
        "- data to model a portfolio"
      ]
    },
    {
      "cell_type": "markdown",
      "metadata": {
        "id": "d_tvo0HDnQ2N"
      },
      "source": [
        "**Limitations of the Clasical Approach**\n",
        "\n",
        "[Ir](https://youtu.be/UbbZa7-3iuk)\n",
        "\n",
        "- Limitations of the methods that we have used:\n",
        "  - mean returns are hard to stimate accuratly\n",
        "    - past mean returns are not good predictor of future mean returns\n",
        "\n",
        "- Estimating portfolio variance\n",
        "  - variance may not capture risk\n",
        "  - large matrix (N *N covariance matrix)\n",
        "    - agregating many errors\n",
        "  - need for long times series\n",
        "\n",
        "- alterantive measures \n",
        "\n",
        "- any estimate is noisy\n",
        "  \n",
        "  - don't use row data use ranks to keep track of their relative magnitude.\n",
        "  - robust optimization\n",
        "\n",
        "- single  period\n",
        " - [multi-period optimization](https://stanford.edu/~boyd/papers/pdf/cvx_portfolio.pdf)\n",
        " \n",
        " - modelling a plan for trading\n",
        "\n",
        "- transaction cost\n",
        "\n",
        "- factor-based models"
      ]
    },
    {
      "cell_type": "markdown",
      "metadata": {
        "id": "rp2G0qSZRJD_"
      },
      "source": [
        "## Factors\n",
        "In the next 7 lessons and project, learn about factor investing and alpha research. These lessons and the project we designed by Jonathan Larkin, equities trader and quant investor.\n",
        "\n",
        "[Ir](https://classroom.udacity.com/nanodegrees/nd880/parts/9a3a9589-7bc6-4694-81e0-8c3cb1aea251/modules/45a9362c-0c15-44f8-b71e-a3c2da3637c4/lessons/1425b655-9ad6-433d-8d33-4306426669c9/concepts/a3f988fd-0e18-4469-ad77-6fa6b322dc36)"
      ]
    },
    {
      "cell_type": "markdown",
      "metadata": {
        "id": "x_XBsZv0rd7r"
      },
      "source": [
        "- Alphas\n",
        "- Translates alpha models ideas into code"
      ]
    },
    {
      "cell_type": "markdown",
      "metadata": {
        "id": "JeksjUcZr7Xe"
      },
      "source": [
        "**Introducion to the Lesson**\n",
        "\n",
        "- Explicit stimate log returns\n",
        "\n",
        "- **alpha factors**: drivers of mean returns\n",
        "- **risk factors**: drivers of volatility\n",
        "\n",
        "- Factors ca nbe based on:\n",
        "  - Momentun\n",
        "  - Fundamental information\n",
        "  - Signals from social media\n",
        "\n",
        "**Factor**:\n",
        " - A list of numerical values, one for each stock, potentially predictive of an aspect of the performace of these stocks in the future.\n",
        "\n",
        "- Factor are the basis for portfolio management.\n",
        "\n",
        "\n",
        "[zipline](https://github.com/quantopian/zipline): an open \n",
        "source python algorithmic trading library.\n",
        "  - In quant firm they usually have proprietary software."
      ]
    },
    {
      "cell_type": "markdown",
      "metadata": {
        "id": "8Rgv-e_ZtjlM"
      },
      "source": [
        "**Example of a factor**\n",
        "\n",
        "[Ir](https://youtu.be/MJrwJDjWlAg)\n",
        "\n",
        "- **Hypothesis: one-year return indicates momentum for next few days**\n",
        "\n",
        "- factor: one-year return of each stock in stock universe.\n"
      ]
    },
    {
      "cell_type": "markdown",
      "metadata": {
        "id": "ZsZDKX3avRFe"
      },
      "source": [
        "**Standarize a factor**\n",
        "\n",
        "Standarize a factor to meet verify conditions:\n",
        "  - sum of values equals zero?\n",
        "  - sum of absolute values equals one?\n",
        "\n",
        "- [Ir](https://youtu.be/sLZY2SQ4uME)\n",
        "  - There is an easy ejercicio in the video\n",
        "\n",
        "- De-mean\n",
        "- re-scaled"
      ]
    },
    {
      "cell_type": "markdown",
      "metadata": {
        "id": "MUhDPDabwipx"
      },
      "source": [
        "**De-meaning**\n",
        "\n",
        "[Ir](https://youtu.be/R3N8bd8U6TM)\n",
        "\n",
        "- Why De-Mean Factor?\n",
        "- de-mean to be dollar neutral\n",
        "- long only portfolio\n",
        "- short only portfolio\n",
        "- long/short porfolio\n",
        "- dollar neutral portfolio\n",
        "\n",
        "- dollar nuetral portafolio ~= market neutral portfolio\n",
        "\n",
        "- Notional or trade book value: dollart amount associated with a portfolio.\n",
        "\n",
        "**Notional**\n",
        "\n",
        "A portfolio's notional is the number we can multiply the stock weights by in order to get a dollar value for each stock's position. For a long-only portfolio, we can think of this as the amount of cash that a fund has available to invest in the portfolio. Whether the positions are long or short, we can multiply the stock weight to the notional to turn this into a dollar amount for that stock's position. \n",
        "\n",
        "**Making a portfolio dollar neutral**\n",
        "\n",
        "- Zero investment portfolios\n",
        "\n",
        "- trasation const\n",
        "\n",
        "- how to convert a portfolio into a dollar neutral portfolio?\n",
        "  - portofalio weights "
      ]
    },
    {
      "cell_type": "markdown",
      "metadata": {
        "id": "3lsEwocFz1mP"
      },
      "source": [
        "**Rescale**\n",
        "\n",
        "[Ir](https://youtu.be/BcsxA0vy3jA)\n",
        "\n",
        "**Leverage** : Leverage is the act of borrowing in order to invest. Borrowing cash in order to go long on more positions may magnify gains but also losses.\n",
        "\n",
        "  - borrow cash\n",
        "  - short stocks\n",
        "\n",
        "\n",
        "**Leverage Ratio**\n",
        "\n",
        "The leverage ratio is the sum of the magnitudes of all positions, divided by the notional. The leverage ratio gives a sense of how much risk a portfolio is taking, because taking more positions magnifies both gains and losses. To standardize a factor, we divide by the sum of the magnitudes (sum of the absolute value of the positions), so that this rescaled vector's sum of magnitudes is equal to one. This makes different factors more comparable, because it's as if you're comparing different portfolios but each with the same amount of money placed on their positions.\n",
        "\n",
        "- With leverage we can make or loose more money.\n",
        "- It's an amplifier.\n",
        "\n",
        "- [Notional amount](https://en.wikipedia.org/wiki/Notional_amount)"
      ]
    },
    {
      "cell_type": "markdown",
      "metadata": {
        "id": "4GLR1xn81oY0"
      },
      "source": [
        "**Overview for Standarizing  a factor**\n",
        "\n",
        "- [Ir](https://youtu.be/0clT0lnrTrU)\n",
        "\n",
        "**Standardizing a Factor**\n",
        "\n",
        "To make a factor dollar neutral, subtract its mean from each position. To make the factor have a leverage ratio of one, divide by the sum of the absolute value of the positions.\n",
        "\n",
        "- [Exercsise](https://classroom.udacity.com/nanodegrees/nd880/parts/9a3a9589-7bc6-4694-81e0-8c3cb1aea251/modules/45a9362c-0c15-44f8-b71e-a3c2da3637c4/lessons/1425b655-9ad6-433d-8d33-4306426669c9/concepts/67df6894-6a20-431c-916d-e0bb60d404ab)\n",
        "\n",
        "- [Zippiline pipeline](https://classroom.udacity.com/nanodegrees/nd880/parts/9a3a9589-7bc6-4694-81e0-8c3cb1aea251/modules/45a9362c-0c15-44f8-b71e-a3c2da3637c4/lessons/1425b655-9ad6-433d-8d33-4306426669c9/concepts/5596b3ea-6982-4ba4-8a2c-70dc81183ed5)\n",
        "\n",
        "- [Exercises Codign a factor](https://classroom.udacity.com/nanodegrees/nd880/parts/9a3a9589-7bc6-4694-81e0-8c3cb1aea251/modules/45a9362c-0c15-44f8-b71e-a3c2da3637c4/lessons/1425b655-9ad6-433d-8d33-4306426669c9/concepts/1ab2073a-a957-4fae-8756-4b8d02ab3cb2)"
      ]
    },
    {
      "cell_type": "markdown",
      "metadata": {
        "id": "7eWtlo75RL3X"
      },
      "source": [
        "## Factor Models and Types of Factors\n",
        "Learn the theory of factor models, distinguish alpha and risk factos, and get an overview of types of factors.\n",
        "\n",
        "[Ir](https://classroom.udacity.com/nanodegrees/nd880/parts/9a3a9589-7bc6-4694-81e0-8c3cb1aea251/modules/45a9362c-0c15-44f8-b71e-a3c2da3637c4/lessons/8d431822-328a-4cc9-a5ab-3a1240b1acbc/concepts/403ac393-cdea-44bd-9b23-6928e588aa23)"
      ]
    },
    {
      "cell_type": "markdown",
      "metadata": {
        "id": "ZI28TBRx5ZFB"
      },
      "source": [
        "**What is a [factor model](https://en.wikipedia.org/wiki/Factor_analysis)?**\n",
        "\n",
        "[Ir](https://youtu.be/K5QKPwU38Do)\n",
        "\n",
        "- Factor model is a statistical model used to describe variability amongs observe correlated variables in terms of potentially smaller numbers of unobserved variables called \"**factors**\"\n",
        "\n",
        "* Linear factor Model: "
      ]
    },
    {
      "cell_type": "markdown",
      "metadata": {
        "id": "Ea63tZbM997u"
      },
      "source": [
        "**Factor returns as Latent Variables**\n",
        "\n",
        "* Model the return of stocks with the factor model \n",
        "\n",
        "* factor return time series"
      ]
    },
    {
      "cell_type": "markdown",
      "metadata": {
        "id": "q6-uSy2A-I46"
      },
      "source": [
        "**Terminology**\n",
        "\n",
        "\n",
        "The terminology used to describe factor models varies widely. Here are some common phrases used to refer to the components of the model.\n",
        "\n",
        "Factor returns (the $f_k$) may be:\n",
        "\n",
        "- macro-economic variables\n",
        "- returns on pre-specified portfolios,\n",
        "- returns on zero-investment strategies (long and short positions of equal value) giving maximum exposure to fundamental or macro-economic factors,\n",
        "\n",
        "- returns on benchmark portfolios representing asset classes,\n",
        "- or something else.\n",
        "\n",
        "The $b_{ij}$ coefficients may be called:\n",
        "\n",
        "- factor exposures,\n",
        "- factor sensitivities,\n",
        "- factor loadings,\n",
        "- factor betas,\n",
        "- asset exposures \n",
        "- style\n",
        "- or something else.\n",
        "\n",
        "\n",
        "The $s_i$ term may be called:\n",
        "\n",
        "- idiosyncratic return,\n",
        "- security-specific return,\n",
        "- non-factor return,\n",
        "- residual return,\n",
        "- selection return\n",
        "- or something else.\n"
      ]
    },
    {
      "cell_type": "markdown",
      "metadata": {
        "id": "MYf_Rbcc-mz5"
      },
      "source": [
        "**Factor Model Assumptions**\n",
        "\n",
        "- $Corr(s_i, f_k) =0$ , for every $i$ and $k$\n",
        "- $Corr(s_i, s_j) = 0$, for every $i$ not equal to $j$\n",
        "- The goal is to model signal and not noise."
      ]
    },
    {
      "cell_type": "markdown",
      "metadata": {
        "id": "m8YwD_B1AoGB"
      },
      "source": [
        "**Covariance Matrix using Factor Model**\n",
        "\n",
        "[Ir](https://youtu.be/_qfTLXoifsM)\n",
        "\n",
        "- Expactation of a matrix\n",
        "\n",
        "\n"
      ]
    },
    {
      "cell_type": "markdown",
      "metadata": {
        "id": "RtD9lvUaBm1e"
      },
      "source": [
        "**Factor Models in Quant Finance**\n",
        "\n",
        "[Ir](https://youtu.be/VeM2SudgZqc)\n",
        "\n",
        "- Factors exposures"
      ]
    },
    {
      "cell_type": "markdown",
      "metadata": {
        "id": "SaQQ0dTVGB49"
      },
      "source": [
        "**Risk Factors vs. Alpha Factors**\n",
        "\n",
        "- If we model the *stock return* with alpha factors plus risk factors.\n",
        "\n",
        "- Factors help describe distribution of expected returns\n",
        "\n",
        "- Factors may be predictive of the mean\n",
        "\n",
        "**Risk Factors v. Alpha Factors**\n",
        "\n",
        "In general, risk factors are significant contributors to the variance of asset returns, and less predictive of the mean of returns. Risk factors are identified to control risk. One way to do control an asset's exposure to a risk factor is to hold an equal amount long as short. For instance, a dollar neutral portfolio with equal amounts long and short is controlling for risks that the overall market may move up or down.\n",
        "\n",
        "In general, factors that are significant in describing the mean of asset returns can be candidates for alpha factors. Alpha factors are used to give some indication of whether each stock in the portfolio may have positive expected returns or negative expected returns. For example, a former alpha factor was the market capitalization of a stock. Small cap stocks tend to have higher future returns compared to large cap stocks.\n",
        "\n",
        "- dollar based portafolio to make a portfolio more dollar neutral thus controllign risk\n",
        "\n",
        "- use alpha factors as signals of expected future return (buy or sell signal)\n",
        "\n",
        "- Research has ben done to study the performace of fund for which the factors that they used have been publish in academic papers.\n",
        "  - An it decays.\n",
        "\n",
        "- Public awareness of the factor\n",
        "- Size factor\n",
        "\n",
        "\n",
        "- Risk factors are well-known\n",
        "\n",
        "Risk factors are well-known by the investment community, so investors will track those factors when optimizing their portfolios. This also means that it's unlikely that any one investor can gain a competitive advantage (higher than normal returns) using risk factors.\n",
        "\n",
        "- Traded out\n",
        "\n",
        "- So risk factors are not used to enhace portfafolio returns\n",
        "\n",
        "**Alpha factors are proprietary**\n",
        "\n",
        "Alpha factors are less well-known by the investment community, because they're generated by in-house research to help the fund generate higher than normal returns. So alpha factors are said to be drivers of the mean of returns because they're used to help push a portfolio's overall returns higher than what would be expected from a passive buy and hold strategy."
      ]
    },
    {
      "cell_type": "markdown",
      "metadata": {
        "id": "no7TwDLSLDTT"
      },
      "source": [
        "**How alpha factors becomes risk factors**\n",
        "\n",
        "[Ir](https://youtu.be/p0cTudt8kXI)\n",
        "  - Great example\n",
        "\n",
        "- When alpha factors are well known to the public they became risk factors.\n",
        "\n",
        "- Risk factor moving the variance but not helping with *individual* performace.\n",
        "\n",
        "**Alpha factors becoming risk factors**\n",
        "\n",
        "An alpha factor that is generated by internal research in a fund can help that fund seek a competitive advantage in the market. If the proprietary factor isn't yet discovered by the rest of the investment community, most others won't act on that signal when making investment and trading decisions.\n",
        "\n",
        "Alpha factors usually lose their effectiveness over time. One possible reason is that as other funds also discover the factor, and make investment decisions based on its signal, then the above-average gains or arbitrage opportunities get diffused as they're shared by a growing number of market participants. Eventually, if a factor becomes very well known and most investors are acting on its signal, then the factor can be considered more of a risk factor.\n",
        "\n",
        "Among quants, you may hear the joke that \"your alpha factor is my risk factor,\" since it's up to each fund to decide whether to use a factor to control risk or to drive returns.\n",
        "\n",
        "- *Efficient Market Hypothesis*: assets are fairly price based on publicly aviable information.\n",
        "\n",
        "- Alpha factors find mispricing and help us seek a competitive edge.\n",
        "\n"
      ]
    },
    {
      "cell_type": "markdown",
      "metadata": {
        "id": "XcelpWxFNMVw"
      },
      "source": [
        "**Momentum or Reversal Factors**\n",
        "\n",
        "the wining keep wining, the loosers keep loosing"
      ]
    },
    {
      "cell_type": "markdown",
      "metadata": {
        "id": "EckrU4Q3OAe7"
      },
      "source": [
        "**Price-Volume Factors**\n",
        "\n",
        "[Ir](https://youtu.be/zaG0PDc3wsA)\n",
        "\n",
        "**Bar Data**\n",
        "\n",
        "- “Bar data” is how quants refer to data that’s represented as tables. Each row is referred to as a “bar”.\n",
        "\n",
        "- Unajusted or ajusted prices\n",
        "- open, high, low, close\n",
        "- different frequencies\n",
        "- windowing for returns\n",
        "\n",
        "Operations on Distribution of Returns\n",
        "\n",
        "- Mean\n",
        "- Variance\n",
        "- Skew\n",
        "- Kurtosis (fat tails)\n",
        "\n",
        "**Bar Data**\n",
        "\n",
        "“Bar data” is how quants refer to data that’s represented as tables. Each row is referred to as a “bar”.\n",
        "\n",
        "- Trasaction cost"
      ]
    },
    {
      "cell_type": "markdown",
      "metadata": {
        "id": "2Phokj1WPWKi"
      },
      "source": [
        "**Volume Factors**\n",
        "\n",
        "- Volume factor track if a the trading volume of an stock is higher than normal.\n",
        "\n",
        "- Low volume: price movements signals may not be as significant\n",
        "\n",
        "- High volume: price movement may be more significant\n",
        "\n",
        "- Short interest\n",
        "- Mark to Market\n",
        "- Short sqeeze"
      ]
    },
    {
      "cell_type": "markdown",
      "metadata": {
        "id": "htpZgHCNRyN1"
      },
      "source": [
        "**Fundamentals**\n",
        "\n",
        "- udpate every 3 months\n",
        "- give us higher capacity to invest, since we have more info.\n",
        "- give lower turnover\n",
        "\n",
        "\n",
        "- examples:\n",
        "  - market cap\n"
      ]
    },
    {
      "cell_type": "markdown",
      "metadata": {
        "id": "iJLsMAGzSJn5"
      },
      "source": [
        "**Fundamental Ratios**\n",
        "\n",
        "- Many fundamental factors re derivations of price to earning ratios. \n",
        "\n",
        "- Quants used earning / price\n",
        "- book / price\n",
        "- direct cash flows\n",
        "- cash flow: cash goin in and out in a company"
      ]
    },
    {
      "cell_type": "markdown",
      "metadata": {
        "id": "P7Dbq-6BS2BC"
      },
      "source": [
        "**Even-Driven Factors**\n",
        "\n",
        "- when microsoft anounce that they will buy linkeding, the prices of linkeding stocks rise 50%, and micorosft stock -3%\n",
        "\n",
        "- natural disasters\n",
        "\n",
        "- government changfes\n",
        "\n",
        "- interest rate changes\n",
        "\n",
        "- merger and adquisitens\n",
        "\n",
        "- spind off\n",
        "\n",
        "- index add\n",
        "\n",
        "- index deletion\n",
        "\n",
        "- erning relases\n",
        "\n",
        "- earnings guidance\n",
        "\n",
        "- product announcements\n"
      ]
    },
    {
      "cell_type": "markdown",
      "metadata": {
        "id": "J4nvDqTyTill"
      },
      "source": [
        "**Index Deletion**\n",
        "\n",
        "- funds update when index changes\n",
        "- because funds used indexes as benchmarks\n",
        "\n",
        "- when mosanto was sell and remove from s&p 500 index, the price drops, when twitter was add its price increases.\n",
        "\n",
        "- we can antipaicte this, and buy to use the momentum generated buy the funds, and trigger a buy signal."
      ]
    },
    {
      "cell_type": "markdown",
      "metadata": {
        "id": "yHMU8h1zUgdd"
      },
      "source": [
        "**Pre event and post events**\n",
        "\n",
        "- try to anticpate outcomes of frequent events, like earning releases.\n",
        "\n",
        "- measures the sentiments.\n",
        "\n",
        ":TODO study the drift effect that used to happend, after two months when a releases of info from a company was a surprise\n",
        "  - to understand market mechanics\n",
        "  - human phycology"
      ]
    },
    {
      "cell_type": "markdown",
      "metadata": {
        "id": "xVu-eirNVQ-C"
      },
      "source": [
        "**Analyst Ratings**\n",
        "\n",
        "[Ir](https://youtu.be/cHkJo8qBKes)\n",
        "\n",
        "- Interesting data\n",
        "\n",
        "- buy, hold rating\n",
        "- king of sentiment factor\n",
        "- herd mentality\n",
        "- \"start\" analyst"
      ]
    },
    {
      "cell_type": "markdown",
      "metadata": {
        "id": "LAEtugwNWM6g"
      },
      "source": [
        "**Alternative Data**\n",
        "\n",
        "- the finance industry is data hungry, at uses and try to discover new data to analyse stocks behaviors.\n",
        "\n",
        "- apps uses data\n",
        "- satelite data\n",
        "- number of employes\n",
        "- companies with reduce sales, may increase marketing \n",
        "- satelite image of companies parking lots\n",
        "- ...\n",
        "\n",
        "Computer Vision\n",
        "For an intro to computer vision, please check out the computer vision materials in the extracurricular section.\n",
        "\n",
        "Some companies that are aggregating alternate data\n",
        "\n",
        "- https://www.buildfax.com/\n",
        "\n",
        "- http://edi.om/\n",
        "\n",
        "- https://www.thinknum.com/\n",
        "\n",
        "- https://orbitalinsight.com/"
      ]
    },
    {
      "cell_type": "markdown",
      "metadata": {
        "id": "P7dKc9lQWkki"
      },
      "source": [
        "**Sentiment Analysis on News**\n",
        "\n",
        "- Financial news\n",
        "- Read financial news\n",
        "- Social media\n",
        "  -  from investors and customers of a company"
      ]
    },
    {
      "cell_type": "markdown",
      "metadata": {
        "id": "FOxR-13lXXfe"
      },
      "source": [
        "**NLP supplments fundamental seearch**\n",
        "\n",
        "- [Ir](https://youtu.be/9zMWuZ9j7rI)\n",
        "- 10-k research analysis\n",
        "- Sector as a factor\n",
        "- how to make a portfolio, sector neutral\n",
        " "
      ]
    },
    {
      "cell_type": "markdown",
      "metadata": {
        "id": "5lgBD0gnRRBA"
      },
      "source": [
        "## Risk Factor Models\n",
        "Learn how to model portfolio risk using factors.\n",
        "\n",
        "[Ir](https://classroom.udacity.com/nanodegrees/nd880/parts/9a3a9589-7bc6-4694-81e0-8c3cb1aea251/modules/45a9362c-0c15-44f8-b71e-a3c2da3637c4/lessons/de470330-cbcf-401c-9b5e-e72129b2e34d/concepts/6356336f-2ea9-4a67-899d-f6d2a742233e)"
      ]
    },
    {
      "cell_type": "markdown",
      "metadata": {
        "id": "HovbYUbhhJzN"
      },
      "source": [
        "- Risk Factor Models are used to discribe the volatility or risk of assets.\n",
        "\n",
        "- Measure, control, and posible elimate the sources of risk in a portfolio.\n",
        "\n",
        "- Model portfolio risk in term of risk factors.\n",
        "\n",
        "- Model asset variance and covariance in term of risk factors.\n",
        "\n",
        "- Variance, covariance of risk factors\n",
        "\n",
        "- factor exposure\n",
        "\n",
        "- Specific variance of assets\n",
        "\n",
        "- Factor returns\n",
        "\n",
        "- Asset returns\n",
        "\n",
        "- Choose risk factors\n"
      ]
    },
    {
      "cell_type": "markdown",
      "metadata": {
        "id": "hJd67ArKqm-C"
      },
      "source": [
        "**Motivation for Risk Factor Models**\n",
        "\n",
        "- Volatility -> Risk\n",
        "- Example calculating the variance of two stocks\n",
        "- Covariance matrix\n",
        "- The  problems with the covariance matrix motivated the *Risk Factor Model*\n",
        "\n",
        "- [Ejercicio](https://classroom.udacity.com/nanodegrees/nd880/parts/9a3a9589-7bc6-4694-81e0-8c3cb1aea251/modules/45a9362c-0c15-44f8-b71e-a3c2da3637c4/lessons/de470330-cbcf-401c-9b5e-e72129b2e34d/concepts/dac64a2c-1706-44df-87f7-f00338a283b6)\n"
      ]
    },
    {
      "cell_type": "markdown",
      "metadata": {
        "id": "EgPxdn4Vr5Hb"
      },
      "source": [
        "**Factor Model of Asset Return**\n",
        "\n",
        "- [Ir](https://youtu.be/7UnllxDmLj8)\n",
        "\n",
        "- Great video of *factor return*.\n",
        "\n",
        "- Market return as a factor.\n",
        "\n",
        "- Specific return return: return that it is not explain by the factor in the model.\n",
        "\n",
        "- Multifactor model of return\n",
        "\n",
        "- An asset's return can be modeled as the contribution from a set of factors, plus the specific return (the part that isn't explained by the factors).\n",
        "\n",
        "- [Ejercicio](https://classroom.udacity.com/nanodegrees/nd880/parts/9a3a9589-7bc6-4694-81e0-8c3cb1aea251/modules/45a9362c-0c15-44f8-b71e-a3c2da3637c4/lessons/de470330-cbcf-401c-9b5e-e72129b2e34d/concepts/3447fde1-e3f4-4f29-8509-c2ae05495599)"
      ]
    },
    {
      "cell_type": "markdown",
      "metadata": {
        "id": "cufKqpBXtMto"
      },
      "source": [
        "**Factor Model of Portfolio Return**\n",
        "\n",
        "- How to go from factos to explian the indivual stock returns to portafolio return."
      ]
    },
    {
      "cell_type": "markdown",
      "metadata": {
        "id": "Jnd-gaOTuyHD"
      },
      "source": [
        "**Preview of portfolio variance formula**\n",
        "\n",
        "- Variance of 1 Stock"
      ]
    },
    {
      "cell_type": "markdown",
      "metadata": {
        "id": "iJQ120EpzsPy"
      },
      "source": [
        "**Taking constants out of Variance and Covariance (optional)**"
      ]
    },
    {
      "cell_type": "markdown",
      "metadata": {
        "id": "bBmALer50WRw"
      },
      "source": [
        "**Variance of 2 stocks**"
      ]
    },
    {
      "cell_type": "markdown",
      "metadata": {
        "id": "sDySPvMp1Sei"
      },
      "source": [
        "- [Covariance matrix of asset exercise](https://classroom.udacity.com/nanodegrees/nd880/parts/9a3a9589-7bc6-4694-81e0-8c3cb1aea251/modules/45a9362c-0c15-44f8-b71e-a3c2da3637c4/lessons/de470330-cbcf-401c-9b5e-e72129b2e34d/concepts/82ecd912-835f-4ada-88a1-6e2126dd7473)\n",
        "\n",
        "- "
      ]
    },
    {
      "cell_type": "markdown",
      "metadata": {
        "id": "HS8Vt4UG1gWr"
      },
      "source": [
        "**Portfolio Variance using Factor Model**\n",
        "\n",
        "- [Ir](https://classroom.udacity.com/nanodegrees/nd880/parts/9a3a9589-7bc6-4694-81e0-8c3cb1aea251/modules/45a9362c-0c15-44f8-b71e-a3c2da3637c4/lessons/de470330-cbcf-401c-9b5e-e72129b2e34d/concepts/52808062-de33-4f20-aab8-44a135e9f73a)\n"
      ]
    },
    {
      "cell_type": "markdown",
      "metadata": {
        "id": "gGfBfbX03Dd3"
      },
      "source": [
        "**Types of Risk Models**\n",
        "\n",
        "- [Ir](https://classroom.udacity.com/nanodegrees/nd880/parts/9a3a9589-7bc6-4694-81e0-8c3cb1aea251/modules/45a9362c-0c15-44f8-b71e-a3c2da3637c4/lessons/de470330-cbcf-401c-9b5e-e72129b2e34d/concepts/4bc3aa5c-f972-4bf5-af49-6fb0001ed579)\n",
        "\n",
        "- Capital Asset Pricing Model\n",
        "- Fama French 3 Factor Model\n",
        "- \n",
        "\n",
        "Types of Risk Models\n",
        "\n",
        "- Time Series Risk Models\n",
        "- Cross Sectional Risk Models\n",
        "- PCA Risk Models"
      ]
    },
    {
      "cell_type": "markdown",
      "metadata": {
        "id": "LaXHllF7RTgL"
      },
      "source": [
        "## Times Series and Cross Sectional Risk Models\n",
        "Learn about two important types of risk models: time series and cross-sectional risk models.\n",
        "\n",
        "[Ir](https://classroom.udacity.com/nanodegrees/nd880/parts/9a3a9589-7bc6-4694-81e0-8c3cb1aea251/modules/45a9362c-0c15-44f8-b71e-a3c2da3637c4/lessons/220338f7-85c1-499e-b228-71ae53b21410/concepts/7e374e22-a3c6-40fb-8e8a-f5e1571b83fb)"
      ]
    },
    {
      "cell_type": "markdown",
      "metadata": {
        "id": "5xysx7vE333K"
      },
      "source": [
        "**Covariance Matrix of Factors**\n",
        "\n",
        "[Ir](https://classroom.udacity.com/nanodegrees/nd880/parts/9a3a9589-7bc6-4694-81e0-8c3cb1aea251/modules/45a9362c-0c15-44f8-b71e-a3c2da3637c4/lessons/220338f7-85c1-499e-b228-71ae53b21410/concepts/7e374e22-a3c6-40fb-8e8a-f5e1571b83fb)\n",
        "\n",
        "Single factor: market return\n",
        "\n",
        "We'll collect a time series that represents the chosen factor. In this case, our factor is \"market excess return\", so we can use an index (such as the S&P500) and subtract a time series that represents the risk-free rate, such as the three-month US Treasury Bill rate. Calculating the variance of this market excess return helps us fill in the covariance matrix of factors."
      ]
    },
    {
      "cell_type": "markdown",
      "metadata": {
        "id": "egPO1ZTBk_1R"
      },
      "source": [
        "**Factor Exposure**\n",
        "\n",
        "[Ir](https://classroom.udacity.com/nanodegrees/nd880/parts/9a3a9589-7bc6-4694-81e0-8c3cb1aea251/modules/45a9362c-0c15-44f8-b71e-a3c2da3637c4/lessons/220338f7-85c1-499e-b228-71ae53b21410/concepts/f1794b23-7029-4c36-b2dc-ebc3473bfdcb)\n",
        "\n",
        "\n",
        "CAMP\n",
        "\n",
        "We can use regression to calculate the factor exposures in a time series model. We'll use the asset's excess return as the dependent \"y\" variable, and the factor return (in this case, market excess return) as the independent \"x\" variable. The estimated coefficient from the regression is an estimate of the asset's \"exposure\" to that factor.\n",
        "\n"
      ]
    },
    {
      "cell_type": "markdown",
      "metadata": {
        "id": "rCCx3i58lM0-"
      },
      "source": [
        "**Specific Variance**\n",
        "\n",
        "[Ir](https://classroom.udacity.com/nanodegrees/nd880/parts/9a3a9589-7bc6-4694-81e0-8c3cb1aea251/modules/45a9362c-0c15-44f8-b71e-a3c2da3637c4/lessons/220338f7-85c1-499e-b228-71ae53b21410/concepts/46f7a692-8623-418d-a430-ea8d3f656e9e)\n",
        "\n",
        "Specific Return\n",
        "\n",
        "To get the specific return, take the difference between the actual return and estimated return.\n",
        "\n",
        "- Actual - Estimated return for each point in time -> this leads to a time series.\n",
        "\n",
        "- An thus we can compute the variance of the specific return."
      ]
    },
    {
      "cell_type": "markdown",
      "metadata": {
        "id": "duFnydcrlyC_"
      },
      "source": [
        "**Time Series Risk Model**\n",
        "\n",
        "[Ir](https://youtu.be/Lz3RMLmov8o)\n",
        "\n",
        "This sub-seccion is about summarization, of portfaolio, assets, returns, specific returns etc."
      ]
    },
    {
      "cell_type": "markdown",
      "metadata": {
        "id": "KbCeC9xCmLfd"
      },
      "source": [
        "**Size**\n",
        "\n",
        "[Ir](https://classroom.udacity.com/nanodegrees/nd880/parts/9a3a9589-7bc6-4694-81e0-8c3cb1aea251/modules/45a9362c-0c15-44f8-b71e-a3c2da3637c4/lessons/220338f7-85c1-499e-b228-71ae53b21410/concepts/842239a0-5b34-4c88-98d2-379baf4413e8)\n",
        "\n",
        "- Factor in the fama-frech model\n",
        "- The size of a company is measure by market capitalization.\n",
        "\n",
        "-- \n",
        "\n",
        "\n",
        "\n",
        "**Theoretical Portfolios**\n",
        "\n",
        "If we had a hypothesis that a particular attribute affects returns, we could try to quantify that using a theoretical portfolio. It's common to use a dollar neutral theoretical portfolio, which means we'd have an equal dollar amount long as short. We'd go long on assets that have more of a particular trait that may improve returns, and go short on assets that have less of that trait. This is a way to create a \"measurement\" of how that attribute influences returns."
      ]
    },
    {
      "cell_type": "markdown",
      "metadata": {
        "id": "crB9hOaTn_Mh"
      },
      "source": [
        "**SMB**\n",
        "\n",
        "[Ir](https://classroom.udacity.com/nanodegrees/nd880/parts/9a3a9589-7bc6-4694-81e0-8c3cb1aea251/modules/45a9362c-0c15-44f8-b71e-a3c2da3637c4/lessons/220338f7-85c1-499e-b228-71ae53b21410/concepts/d2a8ea66-69eb-42bd-aa65-0e58ed35838b)\n",
        "\n",
        "\n",
        "This is another factor in the fama-french model.\n",
        "\n",
        "To create a theoretical portfolio representing size, we could go long the bottom 10th percentile of stocks by market cap (long small cap stocks) and go short stocks above the 90th percentile (go short the large cap stocks). We could assume an equal dollar amount invested in each stock. In the above example, we are dividing by 2 to take the average return of going long small cap stocks and going short large cap stocks.\n",
        "\n",
        "It's also common to compute the spread between two portfolios. One portfolio contains the small cap stocks, and the other portfolio contains the large cap stocks. In this case, we'd just take the difference between the returns of the two portfolios."
      ]
    },
    {
      "cell_type": "markdown",
      "metadata": {
        "id": "j-Z3uoUlmsa7"
      },
      "source": [
        "**Value** \n",
        "(HML)\n",
        "\n",
        "[Ir](https://youtu.be/IcbsQ4QRGbs)\n",
        "\n",
        "The other factor in the fama frech model.\n",
        "\n",
        "Stocks that are chep compare to their fundamentals tend to  outperform stocks that are not.\n",
        "\n"
      ]
    },
    {
      "cell_type": "markdown",
      "metadata": {
        "id": "5a0rMLE1oprF"
      },
      "source": [
        "**Fama French SMB and HML**\n",
        "\n",
        "[Ir](https://classroom.udacity.com/nanodegrees/nd880/parts/9a3a9589-7bc6-4694-81e0-8c3cb1aea251/modules/45a9362c-0c15-44f8-b71e-a3c2da3637c4/lessons/220338f7-85c1-499e-b228-71ae53b21410/concepts/6d5d4e30-e13e-406e-8145-72e564930f72)\n",
        "\n"
      ]
    },
    {
      "cell_type": "markdown",
      "metadata": {
        "id": "mUoHgn7Zo87x"
      },
      "source": [
        "**Fama French Risk Model**\n",
        "\n",
        "[Ir](https://classroom.udacity.com/nanodegrees/nd880/parts/9a3a9589-7bc6-4694-81e0-8c3cb1aea251/modules/45a9362c-0c15-44f8-b71e-a3c2da3637c4/lessons/220338f7-85c1-499e-b228-71ae53b21410/concepts/8bd20082-9eef-4474-a220-118e69bc7983)\n",
        "\n",
        "Use the fama french model to fill the values for the risk model."
      ]
    },
    {
      "cell_type": "markdown",
      "metadata": {
        "id": "Q9EVYJovpL21"
      },
      "source": [
        "**Cross Sectional Model**\n",
        "\n",
        "[Ir](https://classroom.udacity.com/nanodegrees/nd880/parts/9a3a9589-7bc6-4694-81e0-8c3cb1aea251/modules/45a9362c-0c15-44f8-b71e-a3c2da3637c4/lessons/220338f7-85c1-499e-b228-71ae53b21410/concepts/357e494d-bc71-498d-92b5-a39a848e02cbr)\n",
        "\n",
        "- Cross Sectional Risk Model Model vs Time Series Risk Model\n",
        "\n",
        "- What is a risk model\n",
        "\n",
        "Cross Sectional Risk Model Model\n",
        "\n",
        "A cross-section means that we use multiple stocks for a single time period in a calculation. In contrast, a time series is looking at a single stock over multiple time periods.\n",
        "\n",
        "A cross-sectional model calculates the factor exposure first, and then uses that information to estimate the factor return."
      ]
    },
    {
      "cell_type": "markdown",
      "metadata": {
        "id": "rBSeykW_pchA"
      },
      "source": [
        "**A different approach**\n",
        "\n",
        "[Ir](https://youtu.be/LauZ7h4bgKE)\n",
        "\n",
        "Revisit the factor model"
      ]
    },
    {
      "cell_type": "markdown",
      "metadata": {
        "id": "G2n-7-M_pnRE"
      },
      "source": [
        "**Categorical Factors**\n",
        "\n",
        "[Ir](https://classroom.udacity.com/nanodegrees/nd880/parts/9a3a9589-7bc6-4694-81e0-8c3cb1aea251/modules/45a9362c-0c15-44f8-b71e-a3c2da3637c4/lessons/220338f7-85c1-499e-b228-71ae53b21410/concepts/ed448b48-f8bb-43dd-a4da-d433176052b1)\n",
        "\n",
        "Categorical Factors\n",
        "\n",
        "\n",
        "When handling categorical variables, we can make each unique value within a category be its own variable. In this example, the country variable becomes \"country_usa\", \"country_india\", \"country_brazil\" etc. Then assign a value to each of these variables to represent how \"exposed\" the company is to each country."
      ]
    },
    {
      "cell_type": "markdown",
      "metadata": {
        "id": "ZR7GkYY8pw_p"
      },
      "source": [
        "**Categorical Variable Estimation**\n",
        "\n",
        "[Ir](https://classroom.udacity.com/nanodegrees/nd880/parts/9a3a9589-7bc6-4694-81e0-8c3cb1aea251/modules/45a9362c-0c15-44f8-b71e-a3c2da3637c4/lessons/220338f7-85c1-499e-b228-71ae53b21410/concepts/c1f366cb-4268-4f6d-a868-ac838126ead0)\n",
        "\n",
        "- Matrix of variances and covariances"
      ]
    },
    {
      "cell_type": "markdown",
      "metadata": {
        "id": "4NRCWKHTp8yJ"
      },
      "source": [
        "**Cross Section: Specific Variance**\n",
        "\n",
        "[Ir](https://classroom.udacity.com/nanodegrees/nd880/parts/9a3a9589-7bc6-4694-81e0-8c3cb1aea251/modules/45a9362c-0c15-44f8-b71e-a3c2da3637c4/lessons/220338f7-85c1-499e-b228-71ae53b21410/concepts/a3c6eefe-f76d-45f0-a06e-6088ae3db1d1)\n",
        "\n"
      ]
    },
    {
      "cell_type": "markdown",
      "metadata": {
        "id": "laTNl3KpqNuh"
      },
      "source": [
        "**Fundamental Factors**\n",
        "\n",
        "[Ir](https://classroom.udacity.com/nanodegrees/nd880/parts/9a3a9589-7bc6-4694-81e0-8c3cb1aea251/modules/45a9362c-0c15-44f8-b71e-a3c2da3637c4/lessons/220338f7-85c1-499e-b228-71ae53b21410/concepts/fdf3461a-a853-4947-9b30-1f535753c841)\n",
        "\n",
        "In a cross-sectional risk model, the fundamental data calculated on a company, based on its financials, can be used as the factor exposure of that company, to that factor. We can use regression on a cross-section of stocks to estimate the factor return."
      ]
    },
    {
      "cell_type": "markdown",
      "metadata": {
        "id": "iXhHljUAqX3B"
      },
      "source": [
        "**Summary**\n",
        "\n",
        "[Ir](https://youtu.be/rdqINNkTlqs)"
      ]
    },
    {
      "cell_type": "markdown",
      "metadata": {
        "id": "-3Sls_JpRZWG"
      },
      "source": [
        "## Risk Factor Models with PCA\n",
        "Learn about Principle Component Analysis and how it's used to build risk factor models.\n",
        "\n",
        "[Ir](https://classroom.udacity.com/nanodegrees/nd880/parts/9a3a9589-7bc6-4694-81e0-8c3cb1aea251/modules/45a9362c-0c15-44f8-b71e-a3c2da3637c4/lessons/eb063d38-d314-46bc-aeb5-12288aa5249c/concepts/b6542a6b-076a-4a04-ac6a-87807d96111a)"
      ]
    },
    {
      "cell_type": "markdown",
      "metadata": {
        "id": "KI4Mc-FJq0HX"
      },
      "source": [
        "**Statistical Risk Model**\n",
        "\n",
        "[Ir](https://classroom.udacity.com/nanodegrees/nd880/parts/9a3a9589-7bc6-4694-81e0-8c3cb1aea251/modules/45a9362c-0c15-44f8-b71e-a3c2da3637c4/lessons/eb063d38-d314-46bc-aeb5-12288aa5249c/concepts/b6542a6b-076a-4a04-ac6a-87807d96111a)\n",
        "\n"
      ]
    },
    {
      "cell_type": "markdown",
      "metadata": {
        "id": "tthxr3BLq9Rs"
      },
      "source": [
        "**Vector Two Ways**\n",
        "\n",
        "[Ir](https://classroom.udacity.com/nanodegrees/nd880/parts/9a3a9589-7bc6-4694-81e0-8c3cb1aea251/modules/45a9362c-0c15-44f8-b71e-a3c2da3637c4/lessons/eb063d38-d314-46bc-aeb5-12288aa5249c/concepts/8dca0623-9500-44cb-801d-32bac0b4340a)"
      ]
    },
    {
      "cell_type": "markdown",
      "metadata": {
        "id": "CV57xK_1rKwV"
      },
      "source": [
        "**Refresh Linear Algebra**\n",
        "\n",
        "[Ir](https://classroom.udacity.com/nanodegrees/nd880/parts/9a3a9589-7bc6-4694-81e0-8c3cb1aea251/modules/45a9362c-0c15-44f8-b71e-a3c2da3637c4/lessons/eb063d38-d314-46bc-aeb5-12288aa5249c/concepts/98e57bcd-b3cc-4c79-aa39-f272f6ba0bd1)"
      ]
    },
    {
      "cell_type": "markdown",
      "metadata": {
        "id": "Fsq_6Bj1rPZ6"
      },
      "source": [
        "**Bases as Languages**\n",
        "\n",
        "[Ir](https://classroom.udacity.com/nanodegrees/nd880/parts/9a3a9589-7bc6-4694-81e0-8c3cb1aea251/modules/45a9362c-0c15-44f8-b71e-a3c2da3637c4/lessons/eb063d38-d314-46bc-aeb5-12288aa5249c/concepts/31d9b26b-3491-4338-b785-36e76a936041)\n",
        "\n",
        "PCA tries to find a new bases for the dataset."
      ]
    },
    {
      "cell_type": "markdown",
      "metadata": {
        "id": "OnWDKph0rYpp"
      },
      "source": [
        "**Translating Between Bases**\n",
        "\n",
        "[Ir](https://classroom.udacity.com/nanodegrees/nd880/parts/9a3a9589-7bc6-4694-81e0-8c3cb1aea251/modules/45a9362c-0c15-44f8-b71e-a3c2da3637c4/lessons/eb063d38-d314-46bc-aeb5-12288aa5249c/concepts/97670afb-14da-46f8-8379-0a48e79d9b74)"
      ]
    },
    {
      "cell_type": "markdown",
      "metadata": {
        "id": "KkF1oU6TruO0"
      },
      "source": [
        "**The Core Idea**\n",
        "\n",
        "[Ir](https://classroom.udacity.com/nanodegrees/nd880/parts/9a3a9589-7bc6-4694-81e0-8c3cb1aea251/modules/45a9362c-0c15-44f8-b71e-a3c2da3637c4/lessons/eb063d38-d314-46bc-aeb5-12288aa5249c/concepts/d48526cb-1e78-4c30-a7de-5692aaabdf45)\n",
        "\n",
        "Here is the definition of PCA"
      ]
    },
    {
      "cell_type": "markdown",
      "metadata": {
        "id": "MhSnrU0ar3sO"
      },
      "source": [
        "**PCA Exercise**\n",
        "\n",
        "[Ir](https://classroom.udacity.com/nanodegrees/nd880/parts/9a3a9589-7bc6-4694-81e0-8c3cb1aea251/modules/45a9362c-0c15-44f8-b71e-a3c2da3637c4/lessons/eb063d38-d314-46bc-aeb5-12288aa5249c/concepts/ff9c6156-27be-4267-b6cd-5de090514129)\n",
        "\n"
      ]
    },
    {
      "cell_type": "markdown",
      "metadata": {
        "id": "LjuW0UOir_Xw"
      },
      "source": [
        "**Writing It Down**\n",
        "\n",
        "- [Part 1](https://youtu.be/NyDNFqm8c_s)\n",
        "- [Part 2](https://youtu.be/TSH3hTAHsIg)\n",
        "- [Part 3](https://youtu.be/kSl0j4QIMIU)\n",
        "- [Part 4](https://youtu.be/7XO-syqIpCE)\n",
        "\n",
        "\n"
      ]
    },
    {
      "cell_type": "markdown",
      "metadata": {
        "id": "gax3VbobsTxw"
      },
      "source": [
        "**The Principal Components**\n",
        "\n",
        "[Ir](https://classroom.udacity.com/nanodegrees/nd880/parts/9a3a9589-7bc6-4694-81e0-8c3cb1aea251/modules/45a9362c-0c15-44f8-b71e-a3c2da3637c4/lessons/eb063d38-d314-46bc-aeb5-12288aa5249c/concepts/25e6d7a3-7b07-43c9-bfe9-8a1604ab9ce2)"
      ]
    },
    {
      "cell_type": "markdown",
      "metadata": {
        "id": "tJElffansdhm"
      },
      "source": [
        "**Explained Variance**\n",
        "\n",
        "[Ir](https://classroom.udacity.com/nanodegrees/nd880/parts/9a3a9589-7bc6-4694-81e0-8c3cb1aea251/modules/45a9362c-0c15-44f8-b71e-a3c2da3637c4/lessons/eb063d38-d314-46bc-aeb5-12288aa5249c/concepts/8b663175-ecef-4bd9-bfa2-1637297e34f9)"
      ]
    },
    {
      "cell_type": "markdown",
      "metadata": {
        "id": "KG1bcPcwsqsJ"
      },
      "source": [
        "**PCA Toy Problem**\n",
        "\n",
        "[Ir](https://classroom.udacity.com/nanodegrees/nd880/parts/9a3a9589-7bc6-4694-81e0-8c3cb1aea251/modules/45a9362c-0c15-44f8-b71e-a3c2da3637c4/lessons/eb063d38-d314-46bc-aeb5-12288aa5249c/concepts/d95ca176-91bb-4fe4-967d-dbb1d2b02425)"
      ]
    },
    {
      "cell_type": "markdown",
      "metadata": {
        "id": "hZ23be0Qs-QG"
      },
      "source": [
        "**PCA Coding Exercise**\n",
        "\n",
        "[Ir](https://classroom.udacity.com/nanodegrees/nd880/parts/9a3a9589-7bc6-4694-81e0-8c3cb1aea251/modules/45a9362c-0c15-44f8-b71e-a3c2da3637c4/lessons/eb063d38-d314-46bc-aeb5-12288aa5249c/concepts/54cc643f-c0f2-415a-9361-521acd2fad09)"
      ]
    },
    {
      "cell_type": "markdown",
      "metadata": {
        "id": "qmvIWrz9tHGu"
      },
      "source": [
        "**PCA as a Factor Model**\n",
        "\n",
        "[Ir](https://classroom.udacity.com/nanodegrees/nd880/parts/9a3a9589-7bc6-4694-81e0-8c3cb1aea251/modules/45a9362c-0c15-44f8-b71e-a3c2da3637c4/lessons/eb063d38-d314-46bc-aeb5-12288aa5249c/concepts/7e7c1a66-68d7-4201-899e-561938466a59)\n",
        "\n",
        "- What is our data.\n",
        "\n",
        "[Part 2](https://classroom.udacity.com/nanodegrees/nd880/parts/9a3a9589-7bc6-4694-81e0-8c3cb1aea251/modules/45a9362c-0c15-44f8-b71e-a3c2da3637c4/lessons/eb063d38-d314-46bc-aeb5-12288aa5249c/concepts/bee4a5cf-0417-453f-b73d-60b56c5ee01d)"
      ]
    },
    {
      "cell_type": "markdown",
      "metadata": {
        "id": "iqsnCVb8tWW6"
      },
      "source": [
        "**PCA as a Factor Model Coding Exercise**\n",
        "\n",
        "[Ir](https://classroom.udacity.com/nanodegrees/nd880/parts/9a3a9589-7bc6-4694-81e0-8c3cb1aea251/modules/45a9362c-0c15-44f8-b71e-a3c2da3637c4/lessons/eb063d38-d314-46bc-aeb5-12288aa5249c/concepts/11914781-4bb1-4c91-a0a3-b124159f9ff2)\n",
        "\n"
      ]
    },
    {
      "cell_type": "markdown",
      "metadata": {
        "id": "92r6pn7oRdTe"
      },
      "source": [
        "## Alpha Factors\n",
        "Learn about alpha generation and evaluation from a practitioner's perspective.\n",
        "\n",
        "[Ir](https://classroom.udacity.com/nanodegrees/nd880/parts/9a3a9589-7bc6-4694-81e0-8c3cb1aea251/modules/45a9362c-0c15-44f8-b71e-a3c2da3637c4/lessons/a9a173b4-c01a-4919-b9b2-77f5b651b3be/concepts/7c2f576a-fe7e-496a-a0fb-7ccb61e4f09d)"
      ]
    },
    {
      "cell_type": "markdown",
      "metadata": {
        "id": "AHF5WKTTus9h"
      },
      "source": [
        "**Intro: Efficient Market hypothesis and Arbitrage opportunities**\n",
        "\n",
        "[Ir](https://classroom.udacity.com/nanodegrees/nd880/parts/9a3a9589-7bc6-4694-81e0-8c3cb1aea251/modules/45a9362c-0c15-44f8-b71e-a3c2da3637c4/lessons/a9a173b4-c01a-4919-b9b2-77f5b651b3be/concepts/7c2f576a-fe7e-496a-a0fb-7ccb61e4f09d)\n",
        "\n",
        "- Alpha factors: Signals for relative performace of stocks.\n",
        "\n",
        "- Risk factors: returns variance\n",
        "\n",
        "- Deviation for the efficient market hypothesis\n",
        "\n",
        "- Mispricing"
      ]
    },
    {
      "cell_type": "markdown",
      "metadata": {
        "id": "bi74gFe90PPS"
      },
      "source": [
        "**Install libraries**\n",
        "\n",
        "- [Ir](https://classroom.udacity.com/nanodegrees/nd880/parts/9a3a9589-7bc6-4694-81e0-8c3cb1aea251/modules/45a9362c-0c15-44f8-b71e-a3c2da3637c4/lessons/a9a173b4-c01a-4919-b9b2-77f5b651b3be/concepts/5d42e653-ba1c-44e5-a306-3ccb46fee05e)\n",
        "\n",
        "\n",
        "\n"
      ]
    },
    {
      "cell_type": "markdown",
      "metadata": {
        "id": "A4bL7z4F5q6Z"
      },
      "source": [
        "**Alpha Factors versus Risk Factor Modeling**\n",
        "\n",
        "[Ir](https://classroom.udacity.com/nanodegrees/nd880/parts/9a3a9589-7bc6-4694-81e0-8c3cb1aea251/modules/45a9362c-0c15-44f8-b71e-a3c2da3637c4/lessons/a9a173b4-c01a-4919-b9b2-77f5b651b3be/concepts/71e7b03f-7483-4d92-9941-2382c4978300)"
      ]
    },
    {
      "cell_type": "markdown",
      "metadata": {
        "id": "AUrr-N2o5wEH"
      },
      "source": [
        "**Definition of key words**\n",
        "\n",
        "[Ir](https://classroom.udacity.com/nanodegrees/nd880/parts/9a3a9589-7bc6-4694-81e0-8c3cb1aea251/modules/45a9362c-0c15-44f8-b71e-a3c2da3637c4/lessons/a9a173b4-c01a-4919-b9b2-77f5b651b3be/concepts/32a14c0a-03ac-49cc-859d-977bd077b53d)\n",
        "\n",
        "**Alpha model**: an algorithm that transforms data into numbers associated with each stock.\n",
        "\n",
        "\n",
        "\n",
        "Alpha model is an algorithm that transforms data numbers associated with each stock.\n",
        "\n",
        "Alpha value refers to a single value for a single stock, for a single time period.\n",
        "\n",
        "Alpha vector has a number for each stock, and the number is proportional to the amount of money we wish to allocate for each stock.\n",
        "\n",
        "Alpha factor: a time series of alpha vectors (over multiple time periods).\n",
        "\n",
        "Raw alpha factor: a version of an alpha factor before additional processing.\n",
        "\n",
        "Stock universe: set of stocks under consideration for the portfolio.\n",
        "\n"
      ]
    },
    {
      "cell_type": "markdown",
      "metadata": {
        "id": "cBuNymEp6GIA"
      },
      "source": [
        "**Researching Alphas from Academic Papers**\n",
        "\n",
        "[Ir](https://youtu.be/te0UTxemLBE)"
      ]
    },
    {
      "cell_type": "markdown",
      "metadata": {
        "id": "GOFdpSR86JhL"
      },
      "source": [
        "**Controlling for Risk within an Alpha Factor**\n",
        "\n",
        "- [1](https://classroom.udacity.com/nanodegrees/nd880/parts/9a3a9589-7bc6-4694-81e0-8c3cb1aea251/modules/45a9362c-0c15-44f8-b71e-a3c2da3637c4/lessons/a9a173b4-c01a-4919-b9b2-77f5b651b3be/concepts/e4345cb9-7a2e-4abf-ad2f-7153063ab680)\n",
        "\n",
        "- [2](https://classroom.udacity.com/nanodegrees/nd880/parts/9a3a9589-7bc6-4694-81e0-8c3cb1aea251/modules/45a9362c-0c15-44f8-b71e-a3c2da3637c4/lessons/a9a173b4-c01a-4919-b9b2-77f5b651b3be/concepts/3cbf9c9f-4fbb-4f78-9611-0643ba4da653)"
      ]
    },
    {
      "cell_type": "markdown",
      "metadata": {
        "id": "iK6aDC_26ZAH"
      },
      "source": [
        "**Sector neural exercise**\n",
        "\n",
        "[Ir](https://classroom.udacity.com/nanodegrees/nd880/parts/9a3a9589-7bc6-4694-81e0-8c3cb1aea251/modules/45a9362c-0c15-44f8-b71e-a3c2da3637c4/lessons/a9a173b4-c01a-4919-b9b2-77f5b651b3be/concepts/428508a7-6957-4d24-a0d9-898c56a08acb)"
      ]
    },
    {
      "cell_type": "markdown",
      "metadata": {
        "id": "Qvl9ErUk7MWU"
      },
      "source": [
        "**Ranking**\n",
        "\n",
        "Raking is a statistical method.\n",
        "\n",
        "- [1](https://youtu.be/4j2hIB7WHY4)\n",
        "- [2](https://youtu.be/uwPUV5LBhWY)\n",
        "\n"
      ]
    },
    {
      "cell_type": "markdown",
      "metadata": {
        "id": "bS5c-1bz9MJv"
      },
      "source": [
        "**Ranking in Zipline**\n",
        "\n",
        "- Zipline is a library by quantopian, but quantopian is already gone.\n",
        "\n",
        "- So  the library technically does not have mantainers.\n",
        "\n",
        "[Ir](https://classroom.udacity.com/nanodegrees/nd880/parts/9a3a9589-7bc6-4694-81e0-8c3cb1aea251/modules/45a9362c-0c15-44f8-b71e-a3c2da3637c4/lessons/a9a173b4-c01a-4919-b9b2-77f5b651b3be/concepts/471089d0-d898-4aeb-9b35-be16d1945308)"
      ]
    },
    {
      "cell_type": "markdown",
      "metadata": {
        "id": "04ygPJeu9Zsb"
      },
      "source": [
        "**Ranking exercise**\n",
        "\n",
        "[Ir](https://classroom.udacity.com/nanodegrees/nd880/parts/9a3a9589-7bc6-4694-81e0-8c3cb1aea251/modules/45a9362c-0c15-44f8-b71e-a3c2da3637c4/lessons/a9a173b4-c01a-4919-b9b2-77f5b651b3be/concepts/9ee32ec4-e2f9-44c4-a4d0-9900ac53ab0f)"
      ]
    },
    {
      "cell_type": "markdown",
      "metadata": {
        "id": "u767xKRf9eNB"
      },
      "source": [
        "**Z-score**\n",
        "\n",
        "For normalization\n",
        "\n",
        "[Ir](https://classroom.udacity.com/nanodegrees/nd880/parts/9a3a9589-7bc6-4694-81e0-8c3cb1aea251/modules/45a9362c-0c15-44f8-b71e-a3c2da3637c4/lessons/a9a173b4-c01a-4919-b9b2-77f5b651b3be/concepts/ab917815-b5b7-488d-935d-4f19c0333f4f)\n",
        "\n"
      ]
    },
    {
      "cell_type": "markdown",
      "metadata": {
        "id": "76Q5S_5m9rVv"
      },
      "source": [
        "**z-score exercise**\n",
        "\n",
        "[Ir](https://classroom.udacity.com/nanodegrees/nd880/parts/9a3a9589-7bc6-4694-81e0-8c3cb1aea251/modules/45a9362c-0c15-44f8-b71e-a3c2da3637c4/lessons/a9a173b4-c01a-4919-b9b2-77f5b651b3be/concepts/58e3bfca-19eb-4726-8c8d-c66f1167c6a8)"
      ]
    },
    {
      "cell_type": "markdown",
      "metadata": {
        "id": "hjQKRgXF9xMG"
      },
      "source": [
        "**Smoothing**\n",
        "\n",
        "[Ir](https://classroom.udacity.com/nanodegrees/nd880/parts/9a3a9589-7bc6-4694-81e0-8c3cb1aea251/modules/45a9362c-0c15-44f8-b71e-a3c2da3637c4/lessons/a9a173b4-c01a-4919-b9b2-77f5b651b3be/concepts/aa7f1d60-b230-455b-9bf6-c7381d5ccbe3)\n"
      ]
    },
    {
      "cell_type": "markdown",
      "metadata": {
        "id": "RH6Ny80h94-m"
      },
      "source": [
        "**Smoothing Exercise**\n",
        "\n",
        "[Ir](https://classroom.udacity.com/nanodegrees/nd880/parts/9a3a9589-7bc6-4694-81e0-8c3cb1aea251/modules/45a9362c-0c15-44f8-b71e-a3c2da3637c4/lessons/a9a173b4-c01a-4919-b9b2-77f5b651b3be/concepts/d65e6a1e-902e-4710-b982-a9098b212ba8)"
      ]
    },
    {
      "cell_type": "markdown",
      "metadata": {
        "id": "azlV5fea-A0F"
      },
      "source": [
        "**Factor Returns**\n",
        "\n",
        "Metrics\n",
        "\n",
        "Here is the definition of factor return.\n",
        "\n",
        "[Ir](https://classroom.udacity.com/nanodegrees/nd880/parts/9a3a9589-7bc6-4694-81e0-8c3cb1aea251/modules/45a9362c-0c15-44f8-b71e-a3c2da3637c4/lessons/a9a173b4-c01a-4919-b9b2-77f5b651b3be/concepts/02cf91ad-f3d1-4815-900c-4a340c6cb572)"
      ]
    },
    {
      "cell_type": "markdown",
      "metadata": {
        "id": "IYd8IzZ8-E5d"
      },
      "source": [
        "**Factor and forward returns exercise**\n",
        "\n",
        "[Ir](https://classroom.udacity.com/nanodegrees/nd880/parts/9a3a9589-7bc6-4694-81e0-8c3cb1aea251/modules/45a9362c-0c15-44f8-b71e-a3c2da3637c4/lessons/a9a173b4-c01a-4919-b9b2-77f5b651b3be/concepts/c5686675-e2a8-46db-94a4-a20e3f2076be)"
      ]
    },
    {
      "cell_type": "markdown",
      "metadata": {
        "id": "Ip8XVzyt-Tmq"
      },
      "source": [
        "**Universe construction rule**\n",
        "\n",
        "[Ir](https://classroom.udacity.com/nanodegrees/nd880/parts/9a3a9589-7bc6-4694-81e0-8c3cb1aea251/modules/45a9362c-0c15-44f8-b71e-a3c2da3637c4/lessons/a9a173b4-c01a-4919-b9b2-77f5b651b3be/concepts/e7ba65b4-f369-4cfc-8801-29a2959f3600)"
      ]
    },
    {
      "cell_type": "markdown",
      "metadata": {
        "id": "p8kMi187-bD7"
      },
      "source": [
        "**Return Denominator, Leverage, and Factor Returns**\n",
        "\n",
        "[Ir](https://classroom.udacity.com/nanodegrees/nd880/parts/9a3a9589-7bc6-4694-81e0-8c3cb1aea251/modules/45a9362c-0c15-44f8-b71e-a3c2da3637c4/lessons/a9a173b4-c01a-4919-b9b2-77f5b651b3be/concepts/05b23e67-d566-49db-a444-036a39eaf625)"
      ]
    },
    {
      "cell_type": "markdown",
      "metadata": {
        "id": "LOlIEQhh-gNG"
      },
      "source": [
        "**Factor returns coding exercise**\n",
        "\n",
        "[Ir](https://classroom.udacity.com/nanodegrees/nd880/parts/9a3a9589-7bc6-4694-81e0-8c3cb1aea251/modules/45a9362c-0c15-44f8-b71e-a3c2da3637c4/lessons/a9a173b4-c01a-4919-b9b2-77f5b651b3be/concepts/437965ad-9a59-433f-9782-b94cc5180509)"
      ]
    },
    {
      "cell_type": "markdown",
      "metadata": {
        "id": "eX--S-BN-nln"
      },
      "source": [
        "**Sharpe Ratio**\n",
        "\n",
        "[Ir](https://classroom.udacity.com/nanodegrees/nd880/parts/9a3a9589-7bc6-4694-81e0-8c3cb1aea251/modules/45a9362c-0c15-44f8-b71e-a3c2da3637c4/lessons/a9a173b4-c01a-4919-b9b2-77f5b651b3be/concepts/4cdbeff2-bb40-4e09-b310-b7d033c19e03)"
      ]
    },
    {
      "cell_type": "markdown",
      "metadata": {
        "id": "DJ3Gx61J-tPC"
      },
      "source": [
        "**Sharpe Ratio Coding Exercise**\n",
        "\n",
        "[Ir](https://classroom.udacity.com/nanodegrees/nd880/parts/9a3a9589-7bc6-4694-81e0-8c3cb1aea251/modules/45a9362c-0c15-44f8-b71e-a3c2da3637c4/lessons/a9a173b4-c01a-4919-b9b2-77f5b651b3be/concepts/06582baa-7c16-44e8-8a21-0d22f2d2d7c9)"
      ]
    },
    {
      "cell_type": "markdown",
      "metadata": {
        "id": "cgpI7w3j_EaD"
      },
      "source": [
        "**Halfway There!**\n",
        "\n",
        "[Ir](https://classroom.udacity.com/nanodegrees/nd880/parts/9a3a9589-7bc6-4694-81e0-8c3cb1aea251/modules/45a9362c-0c15-44f8-b71e-a3c2da3637c4/lessons/a9a173b4-c01a-4919-b9b2-77f5b651b3be/concepts/054a3ae2-2576-4af1-a2e1-6fd403741977)"
      ]
    },
    {
      "cell_type": "markdown",
      "metadata": {
        "id": "NVtgug7z_IJR"
      },
      "source": [
        "**Ranked Information Coefficient (Rank IC)**\n",
        "\n",
        "- [1](https://classroom.udacity.com/nanodegrees/nd880/parts/9a3a9589-7bc6-4694-81e0-8c3cb1aea251/modules/45a9362c-0c15-44f8-b71e-a3c2da3637c4/lessons/a9a173b4-c01a-4919-b9b2-77f5b651b3be/concepts/d3b0dd08-2fd2-4d71-b7ce-a30c987b33ae)\n",
        "\n",
        "- [2](https://classroom.udacity.com/nanodegrees/nd880/parts/9a3a9589-7bc6-4694-81e0-8c3cb1aea251/modules/45a9362c-0c15-44f8-b71e-a3c2da3637c4/lessons/a9a173b4-c01a-4919-b9b2-77f5b651b3be/concepts/09314395-0c7f-4c04-94fa-dd033c1bf24f)"
      ]
    },
    {
      "cell_type": "markdown",
      "metadata": {
        "id": "9F3s6O6n_XRP"
      },
      "source": [
        "**Rank IC coding exercise**\n",
        "\n",
        "[Ir](https://classroom.udacity.com/nanodegrees/nd880/parts/9a3a9589-7bc6-4694-81e0-8c3cb1aea251/modules/45a9362c-0c15-44f8-b71e-a3c2da3637c4/lessons/a9a173b4-c01a-4919-b9b2-77f5b651b3be/concepts/cecd4d6e-4945-4d0f-b807-bdbc9e05bd72)"
      ]
    },
    {
      "cell_type": "markdown",
      "metadata": {
        "id": "X1MkICM-_j_A"
      },
      "source": [
        "**The Fundamental Law of Active Management**\n",
        "\n",
        "- [1](https://classroom.udacity.com/nanodegrees/nd880/parts/9a3a9589-7bc6-4694-81e0-8c3cb1aea251/modules/45a9362c-0c15-44f8-b71e-a3c2da3637c4/lessons/a9a173b4-c01a-4919-b9b2-77f5b651b3be/concepts/40d9f4ac-69d2-4066-b127-377e2ec15e28)\n",
        "\n",
        "- [2](https://classroom.udacity.com/nanodegrees/nd880/parts/9a3a9589-7bc6-4694-81e0-8c3cb1aea251/modules/45a9362c-0c15-44f8-b71e-a3c2da3637c4/lessons/a9a173b4-c01a-4919-b9b2-77f5b651b3be/concepts/09d158e8-3f3b-4bc6-96b1-0f0926dc33bb)"
      ]
    },
    {
      "cell_type": "markdown",
      "metadata": {
        "id": "cqUZjCJI_uVf"
      },
      "source": [
        "**Real World Constraints: Liquidity**\n",
        "\n",
        "[Ir](https://classroom.udacity.com/nanodegrees/nd880/parts/9a3a9589-7bc6-4694-81e0-8c3cb1aea251/modules/45a9362c-0c15-44f8-b71e-a3c2da3637c4/lessons/a9a173b4-c01a-4919-b9b2-77f5b651b3be/concepts/703df3ae-0435-4f03-8532-4f1b0112a8ab)"
      ]
    },
    {
      "cell_type": "markdown",
      "metadata": {
        "id": "EMVk_h1w_xc0"
      },
      "source": [
        "**Real World Constraints: Transaction Costs**\n",
        "\n",
        "[Ir](https://classroom.udacity.com/nanodegrees/nd880/parts/9a3a9589-7bc6-4694-81e0-8c3cb1aea251/modules/45a9362c-0c15-44f8-b71e-a3c2da3637c4/lessons/a9a173b4-c01a-4919-b9b2-77f5b651b3be/concepts/41beb482-4678-4587-99be-0b6c35d15452)"
      ]
    },
    {
      "cell_type": "markdown",
      "metadata": {
        "id": "h8zvaTTx_3zq"
      },
      "source": [
        "**Turnover as a Proxy for Real World Constraints**\n",
        "\n",
        "[Ir](https://classroom.udacity.com/nanodegrees/nd880/parts/9a3a9589-7bc6-4694-81e0-8c3cb1aea251/modules/45a9362c-0c15-44f8-b71e-a3c2da3637c4/lessons/a9a173b4-c01a-4919-b9b2-77f5b651b3be/concepts/131e73cd-936f-42e2-9bb9-6c42ff23b130)"
      ]
    },
    {
      "cell_type": "markdown",
      "metadata": {
        "id": "gz1Uf5gV_9aG"
      },
      "source": [
        "**Factor Rank Autocorrelation (Turnover)**\n",
        "\n",
        "[Ir](https://classroom.udacity.com/nanodegrees/nd880/parts/9a3a9589-7bc6-4694-81e0-8c3cb1aea251/modules/45a9362c-0c15-44f8-b71e-a3c2da3637c4/lessons/a9a173b4-c01a-4919-b9b2-77f5b651b3be/concepts/65cf00f2-3601-4b06-a13f-57dd4da1f78f)"
      ]
    },
    {
      "cell_type": "markdown",
      "metadata": {
        "id": "IeUT6rVzABqb"
      },
      "source": [
        "**Turnover Exercise**\n",
        "\n",
        "[Ir](https://classroom.udacity.com/nanodegrees/nd880/parts/9a3a9589-7bc6-4694-81e0-8c3cb1aea251/modules/45a9362c-0c15-44f8-b71e-a3c2da3637c4/lessons/a9a173b4-c01a-4919-b9b2-77f5b651b3be/concepts/d00878e5-aaa0-4845-98a0-d87bda763d23)"
      ]
    },
    {
      "cell_type": "markdown",
      "metadata": {
        "id": "sl_8j-KLAMfo"
      },
      "source": [
        "**Quantile Analysis**\n",
        "\n",
        "[1](https://classroom.udacity.com/nanodegrees/nd880/parts/9a3a9589-7bc6-4694-81e0-8c3cb1aea251/modules/45a9362c-0c15-44f8-b71e-a3c2da3637c4/lessons/a9a173b4-c01a-4919-b9b2-77f5b651b3be/concepts/1f686d00-80a4-4ffe-87d5-272429a2d51f)\n",
        "\n",
        "[2](https://classroom.udacity.com/nanodegrees/nd880/parts/9a3a9589-7bc6-4694-81e0-8c3cb1aea251/modules/45a9362c-0c15-44f8-b71e-a3c2da3637c4/lessons/a9a173b4-c01a-4919-b9b2-77f5b651b3be/concepts/d1c0afa1-5406-4c8b-8bb3-3053443b2d28)"
      ]
    },
    {
      "cell_type": "markdown",
      "metadata": {
        "id": "wnGW-LNLAZZ3"
      },
      "source": [
        "**Quantile analysis exercise**\n",
        "\n",
        "[Ir](https://classroom.udacity.com/nanodegrees/nd880/parts/9a3a9589-7bc6-4694-81e0-8c3cb1aea251/modules/45a9362c-0c15-44f8-b71e-a3c2da3637c4/lessons/a9a173b4-c01a-4919-b9b2-77f5b651b3be/concepts/9d66a147-eee6-4deb-9174-050f7d96ba40)"
      ]
    },
    {
      "cell_type": "markdown",
      "metadata": {
        "id": "jVX2C7byAfzc"
      },
      "source": [
        "**Quantiles: Academic Research vs. Practitioners**\n",
        "\n",
        "[Ir](https://classroom.udacity.com/nanodegrees/nd880/parts/9a3a9589-7bc6-4694-81e0-8c3cb1aea251/modules/45a9362c-0c15-44f8-b71e-a3c2da3637c4/lessons/a9a173b4-c01a-4919-b9b2-77f5b651b3be/concepts/fe6a66cb-ed2f-4bab-a1c8-a95e8cc976cd)"
      ]
    },
    {
      "cell_type": "markdown",
      "metadata": {
        "id": "6iVmcHvrAmKT"
      },
      "source": [
        "**Transfer Coefficient**\n",
        "\n",
        "[Ir](https://classroom.udacity.com/nanodegrees/nd880/parts/9a3a9589-7bc6-4694-81e0-8c3cb1aea251/modules/45a9362c-0c15-44f8-b71e-a3c2da3637c4/lessons/a9a173b4-c01a-4919-b9b2-77f5b651b3be/concepts/4c1e0cac-ac29-4a7b-8224-1485c3e7ba9a)"
      ]
    },
    {
      "cell_type": "markdown",
      "metadata": {
        "id": "MzJX-CO4ArzX"
      },
      "source": [
        "**Transfer Coefficient Coding Exercise**\n",
        "\n",
        "[Ir](https://classroom.udacity.com/nanodegrees/nd880/parts/9a3a9589-7bc6-4694-81e0-8c3cb1aea251/modules/45a9362c-0c15-44f8-b71e-a3c2da3637c4/lessons/a9a173b4-c01a-4919-b9b2-77f5b651b3be/concepts/1f350f67-8873-48d8-b699-878aa7f4e9f5)"
      ]
    },
    {
      "cell_type": "markdown",
      "metadata": {
        "id": "MnjgqbgAAxmU"
      },
      "source": [
        "**It’s all Relative**\n",
        "\n",
        "[Ir](https://classroom.udacity.com/nanodegrees/nd880/parts/9a3a9589-7bc6-4694-81e0-8c3cb1aea251/modules/45a9362c-0c15-44f8-b71e-a3c2da3637c4/lessons/a9a173b4-c01a-4919-b9b2-77f5b651b3be/concepts/00546ba4-6275-46c3-84dc-6f272774f1f9)"
      ]
    },
    {
      "cell_type": "markdown",
      "metadata": {
        "id": "3mhFKE9kA8yj"
      },
      "source": [
        "**Conditional Factors**\n",
        "\n",
        "[Ir](https://classroom.udacity.com/nanodegrees/nd880/parts/9a3a9589-7bc6-4694-81e0-8c3cb1aea251/modules/45a9362c-0c15-44f8-b71e-a3c2da3637c4/lessons/a9a173b4-c01a-4919-b9b2-77f5b651b3be/concepts/5296865e-cd81-42b4-9843-3c1127786866)"
      ]
    },
    {
      "cell_type": "markdown",
      "metadata": {
        "id": "mBnvzgVTBCRy"
      },
      "source": [
        "**Summary**\n",
        "\n",
        "[Ir](https://youtu.be/FZYqdaqoiZk)"
      ]
    },
    {
      "cell_type": "markdown",
      "metadata": {
        "id": "iwRZvENlBGbh"
      },
      "source": [
        "**Interlude: Reading Academic Research Papers**\n",
        "\n",
        "- [1](https://youtu.be/SMQwc5kwSr0)\n",
        "- [2](https://youtu.be/1a60RPqhO8k)\n",
        "- [3](https://youtu.be/v6cLkoJhujU)"
      ]
    },
    {
      "cell_type": "markdown",
      "metadata": {
        "id": "_4wt2KauRgPr"
      },
      "source": [
        "## Alpha Factor Research Methods\n",
        "Learn about alpha research from a practitioner's perspective.\n",
        "\n",
        "[Ir](https://classroom.udacity.com/nanodegrees/nd880/parts/9a3a9589-7bc6-4694-81e0-8c3cb1aea251/modules/45a9362c-0c15-44f8-b71e-a3c2da3637c4/lessons/7b84611e-c33c-4399-9445-0dbe370fee57/concepts/699638c1-5567-42bb-9161-0afe90884dd9)"
      ]
    },
    {
      "cell_type": "markdown",
      "metadata": {
        "id": "czfbz2FCDEl2"
      },
      "source": [
        "**Case Studies Intro**\n",
        "\n",
        "[Ir](https://classroom.udacity.com/nanodegrees/nd880/parts/9a3a9589-7bc6-4694-81e0-8c3cb1aea251/modules/45a9362c-0c15-44f8-b71e-a3c2da3637c4/lessons/7b84611e-c33c-4399-9445-0dbe370fee57/concepts/699638c1-5567-42bb-9161-0afe90884dd9)"
      ]
    },
    {
      "cell_type": "markdown",
      "metadata": {
        "id": "0e0tuSaRDNkY"
      },
      "source": [
        "**Overnight Returns Abstract**\n",
        "\n",
        "[Ir](https://classroom.udacity.com/nanodegrees/nd880/parts/9a3a9589-7bc6-4694-81e0-8c3cb1aea251/modules/45a9362c-0c15-44f8-b71e-a3c2da3637c4/lessons/7b84611e-c33c-4399-9445-0dbe370fee57/concepts/d0b1cff0-e660-42ee-8fe7-621952859705)\n",
        "\n",
        "* [Possible Alpha Factors](https://classroom.udacity.com/nanodegrees/nd880/parts/9a3a9589-7bc6-4694-81e0-8c3cb1aea251/modules/45a9362c-0c15-44f8-b71e-a3c2da3637c4/lessons/7b84611e-c33c-4399-9445-0dbe370fee57/concepts/3cf0986a-0fb8-45b0-8eb5-f90df39c37c4)\n",
        "\n",
        "* [Data, Universe, Methods](https://classroom.udacity.com/nanodegrees/nd880/parts/9a3a9589-7bc6-4694-81e0-8c3cb1aea251/modules/45a9362c-0c15-44f8-b71e-a3c2da3637c4/lessons/7b84611e-c33c-4399-9445-0dbe370fee57/concepts/bea6b906-b26b-458e-9e94-dccfe3b99df4)\n",
        "\n",
        "* [Methods: Quantile Analysis](https://classroom.udacity.com/nanodegrees/nd880/parts/9a3a9589-7bc6-4694-81e0-8c3cb1aea251/modules/45a9362c-0c15-44f8-b71e-a3c2da3637c4/lessons/7b84611e-c33c-4399-9445-0dbe370fee57/concepts/47b48630-fd62-4fc5-afb3-105d2d341372r)"
      ]
    },
    {
      "cell_type": "markdown",
      "metadata": {
        "id": "Ua4QnvmJDqq2"
      },
      "source": [
        "**Overnight Returns exercise**\n",
        "\n",
        "- [Ir](https://classroom.udacity.com/nanodegrees/nd880/parts/9a3a9589-7bc6-4694-81e0-8c3cb1aea251/modules/45a9362c-0c15-44f8-b71e-a3c2da3637c4/lessons/7b84611e-c33c-4399-9445-0dbe370fee57/concepts/c926eb97-7ff1-4a17-b831-5be6415c1e8d)\n"
      ]
    },
    {
      "cell_type": "markdown",
      "metadata": {
        "id": "91f68WHhD38i"
      },
      "source": [
        "**Winners and Losers in Momentum Investing**\n",
        "\n",
        "[Ir](https://classroom.udacity.com/nanodegrees/nd880/parts/9a3a9589-7bc6-4694-81e0-8c3cb1aea251/modules/45a9362c-0c15-44f8-b71e-a3c2da3637c4/lessons/7b84611e-c33c-4399-9445-0dbe370fee57/concepts/cc425fd5-8535-4af3-9760-c77d8b4c0297)\n",
        "\n",
        "- [Accelerated and Decelerated Gains and Losses](https://classroom.udacity.com/nanodegrees/nd880/parts/9a3a9589-7bc6-4694-81e0-8c3cb1aea251/modules/45a9362c-0c15-44f8-b71e-a3c2da3637c4/lessons/7b84611e-c33c-4399-9445-0dbe370fee57/concepts/befb4418-1643-4ae4-ba71-ffbf19d9fbea)\n",
        "\n",
        "- [approximating curves with polynomials](https://classroom.udacity.com/nanodegrees/nd880/parts/9a3a9589-7bc6-4694-81e0-8c3cb1aea251/modules/45a9362c-0c15-44f8-b71e-a3c2da3637c4/lessons/7b84611e-c33c-4399-9445-0dbe370fee57/concepts/58557d8d-49e5-45ac-8910-e1148411afe2)\n",
        "\n",
        "- [Creating a joint factor](https://classroom.udacity.com/nanodegrees/nd880/parts/9a3a9589-7bc6-4694-81e0-8c3cb1aea251/modules/45a9362c-0c15-44f8-b71e-a3c2da3637c4/lessons/7b84611e-c33c-4399-9445-0dbe370fee57/concepts/9ec367cf-4ac7-4aa0-9c23-4857f02bd25e)"
      ]
    },
    {
      "cell_type": "markdown",
      "metadata": {
        "id": "5hcMr5KZETcn"
      },
      "source": [
        "**Winners and Losers in Momentum Exercise**\n",
        "\n",
        "[Ir](https://classroom.udacity.com/nanodegrees/nd880/parts/9a3a9589-7bc6-4694-81e0-8c3cb1aea251/modules/45a9362c-0c15-44f8-b71e-a3c2da3637c4/lessons/7b84611e-c33c-4399-9445-0dbe370fee57/concepts/c8a7c4dc-ceff-46d0-b27c-e50139981b80)"
      ]
    },
    {
      "cell_type": "markdown",
      "metadata": {
        "id": "ElCKXRjvEb-T"
      },
      "source": [
        "**Expected Skewness and Momentum**\n",
        "\n",
        "- [Attentional Bias](https://classroom.udacity.com/nanodegrees/nd880/parts/9a3a9589-7bc6-4694-81e0-8c3cb1aea251/modules/45a9362c-0c15-44f8-b71e-a3c2da3637c4/lessons/7b84611e-c33c-4399-9445-0dbe370fee57/concepts/3a5de69e-463b-4f60-ad5b-02f376b90aa4)\n",
        "\n",
        "- [Defining Skew](https://classroom.udacity.com/nanodegrees/nd880/parts/9a3a9589-7bc6-4694-81e0-8c3cb1aea251/modules/45a9362c-0c15-44f8-b71e-a3c2da3637c4/lessons/7b84611e-c33c-4399-9445-0dbe370fee57/concepts/67698dd4-814c-4b74-9e71-7441fbb310bc)\n",
        "\n",
        "- [Momentum Enhanced or weakened by Skew](https://classroom.udacity.com/nanodegrees/nd880/parts/9a3a9589-7bc6-4694-81e0-8c3cb1aea251/modules/45a9362c-0c15-44f8-b71e-a3c2da3637c4/lessons/7b84611e-c33c-4399-9445-0dbe370fee57/concepts/1de7292d-4968-405e-8e88-c1fe7fdaded8)\n",
        "\n",
        "- [Conditional Factor](https://classroom.udacity.com/nanodegrees/nd880/parts/9a3a9589-7bc6-4694-81e0-8c3cb1aea251/modules/45a9362c-0c15-44f8-b71e-a3c2da3637c4/lessons/7b84611e-c33c-4399-9445-0dbe370fee57/concepts/13c82573-2247-4b9e-aa64-06b754f54012)"
      ]
    },
    {
      "cell_type": "markdown",
      "metadata": {
        "id": "pdFJHbGEE0E7"
      },
      "source": [
        "**Arbitrage Asymmetry and the Idiosyncratic Volatility Puzzle**\n",
        "\n",
        "- [Value and Idiosyncratic volatility Overview](https://classroom.udacity.com/nanodegrees/nd880/parts/9a3a9589-7bc6-4694-81e0-8c3cb1aea251/modules/45a9362c-0c15-44f8-b71e-a3c2da3637c4/lessons/7b84611e-c33c-4399-9445-0dbe370fee57/concepts/358ad7fa-fbde-449d-9eea-e628954567ae)\n",
        "\n",
        "- [Arbitrage and Efficient Pricing of Stocks](https://classroom.udacity.com/nanodegrees/nd880/parts/9a3a9589-7bc6-4694-81e0-8c3cb1aea251/modules/45a9362c-0c15-44f8-b71e-a3c2da3637c4/lessons/7b84611e-c33c-4399-9445-0dbe370fee57/concepts/87b5074c-e0d0-4d60-bb52-c71a3fcede90)\n",
        "\n",
        "- [Arbitrage Risk](https://classroom.udacity.com/nanodegrees/nd880/parts/9a3a9589-7bc6-4694-81e0-8c3cb1aea251/modules/45a9362c-0c15-44f8-b71e-a3c2da3637c4/lessons/7b84611e-c33c-4399-9445-0dbe370fee57/concepts/75ddc50b-11ca-4f60-922f-a2912a298b3b)\n",
        "\n",
        "- [Idiosyncratic Volatility](https://classroom.udacity.com/nanodegrees/nd880/parts/9a3a9589-7bc6-4694-81e0-8c3cb1aea251/modules/45a9362c-0c15-44f8-b71e-a3c2da3637c4/lessons/7b84611e-c33c-4399-9445-0dbe370fee57/concepts/08022913-8471-47c3-9bac-de64c19f42d3)\n",
        "\n",
        "- [Value, Fundamental or Discretionary Investing](https://classroom.udacity.com/nanodegrees/nd880/parts/9a3a9589-7bc6-4694-81e0-8c3cb1aea251/modules/45a9362c-0c15-44f8-b71e-a3c2da3637c4/lessons/7b84611e-c33c-4399-9445-0dbe370fee57/concepts/2c4d58b2-8a1e-4df5-bea8-c73873cb15f9)\n",
        "\n",
        "- [Quantamental Investing](https://classroom.udacity.com/nanodegrees/nd880/parts/9a3a9589-7bc6-4694-81e0-8c3cb1aea251/modules/45a9362c-0c15-44f8-b71e-a3c2da3637c4/lessons/7b84611e-c33c-4399-9445-0dbe370fee57/concepts/ea732a1a-bbf8-4a0d-8248-f4ed6eea208f)\n",
        "\n",
        "- [Joint Factor: Volatility Enhanced Price Earnings Ratio](https://classroom.udacity.com/nanodegrees/nd880/parts/9a3a9589-7bc6-4694-81e0-8c3cb1aea251/modules/45a9362c-0c15-44f8-b71e-a3c2da3637c4/lessons/7b84611e-c33c-4399-9445-0dbe370fee57/concepts/d7c3643b-3ef6-4ca7-b414-38085d1b91bd)\n",
        "\n",
        "- [iVol: Generalizing the volatility Factor](https://classroom.udacity.com/nanodegrees/nd880/parts/9a3a9589-7bc6-4694-81e0-8c3cb1aea251/modules/45a9362c-0c15-44f8-b71e-a3c2da3637c4/lessons/7b84611e-c33c-4399-9445-0dbe370fee57/concepts/c579e41d-a9bb-4c11-b408-74a81b5f377c)\n",
        "  - They mention the fama french model"
      ]
    },
    {
      "cell_type": "markdown",
      "metadata": {
        "id": "XG7tFq0JF38y"
      },
      "source": [
        "**Summary**\n",
        "\n",
        "\n",
        "* [Ir](https://classroom.udacity.com/nanodegrees/nd880/parts/9a3a9589-7bc6-4694-81e0-8c3cb1aea251/modules/45a9362c-0c15-44f8-b71e-a3c2da3637c4/lessons/7b84611e-c33c-4399-9445-0dbe370fee57/concepts/23a84dc7-6052-4ce6-b578-02ae6bad4375)"
      ]
    },
    {
      "cell_type": "markdown",
      "metadata": {
        "id": "9rhTrGLZF5Xo"
      },
      "source": [
        "**Interlude**\n",
        "\n",
        "- [Ir](https://classroom.udacity.com/nanodegrees/nd880/parts/9a3a9589-7bc6-4694-81e0-8c3cb1aea251/modules/45a9362c-0c15-44f8-b71e-a3c2da3637c4/lessons/7b84611e-c33c-4399-9445-0dbe370fee57/concepts/813bbb91-b022-4dac-96ce-4fe3b9c2d965)"
      ]
    },
    {
      "cell_type": "markdown",
      "metadata": {
        "id": "mTYO1RieRjdy"
      },
      "source": [
        "## Advanced Portfolio Optimization\n",
        "Learn about portfolio optimization usign alpha factors and risk factor models.\n",
        "\n",
        "[Ir](https://classroom.udacity.com/nanodegrees/nd880/parts/9a3a9589-7bc6-4694-81e0-8c3cb1aea251/modules/45a9362c-0c15-44f8-b71e-a3c2da3637c4/lessons/49dfb769-aafb-4d35-b18f-5bd856e33527/concepts/f65e74c6-562d-49f5-aa65-936a5f93bc42)"
      ]
    },
    {
      "cell_type": "markdown",
      "metadata": {
        "id": "F4uvkjBXI3Ta"
      },
      "source": [
        "**Intro**\n",
        "\n",
        "[Ir](https://classroom.udacity.com/nanodegrees/nd880/parts/9a3a9589-7bc6-4694-81e0-8c3cb1aea251/modules/45a9362c-0c15-44f8-b71e-a3c2da3637c4/lessons/49dfb769-aafb-4d35-b18f-5bd856e33527/concepts/f65e74c6-562d-49f5-aa65-936a5f93bc42)"
      ]
    },
    {
      "cell_type": "markdown",
      "metadata": {
        "id": "x-F9ufi8I9p2"
      },
      "source": [
        "**Setting Up the Problem: Alphas**\n",
        "\n",
        "[Ir](https://classroom.udacity.com/nanodegrees/nd880/parts/9a3a9589-7bc6-4694-81e0-8c3cb1aea251/modules/45a9362c-0c15-44f8-b71e-a3c2da3637c4/lessons/49dfb769-aafb-4d35-b18f-5bd856e33527/concepts/465d6a21-3ccd-49c1-a929-1010a1ed030a)\n",
        "\n"
      ]
    },
    {
      "cell_type": "markdown",
      "metadata": {
        "id": "LviIcqkaJDIz"
      },
      "source": [
        "**Setting Up the Problem: Risk**\n",
        "\n",
        "[Ir](https://classroom.udacity.com/nanodegrees/nd880/parts/9a3a9589-7bc6-4694-81e0-8c3cb1aea251/modules/45a9362c-0c15-44f8-b71e-a3c2da3637c4/lessons/49dfb769-aafb-4d35-b18f-5bd856e33527/concepts/d5d90369-6205-445f-a762-2f69a82d31f9)"
      ]
    },
    {
      "cell_type": "markdown",
      "metadata": {
        "id": "Vy6WpxDPJIqc"
      },
      "source": [
        "**Regularization**\n",
        "\n",
        "[Ir](https://classroom.udacity.com/nanodegrees/nd880/parts/9a3a9589-7bc6-4694-81e0-8c3cb1aea251/modules/45a9362c-0c15-44f8-b71e-a3c2da3637c4/lessons/49dfb769-aafb-4d35-b18f-5bd856e33527/concepts/b8f800b6-cd75-41b4-acf2-7122cd549ced)"
      ]
    },
    {
      "cell_type": "markdown",
      "metadata": {
        "id": "Q9b8dVWnJN-T"
      },
      "source": [
        "**Standard Constraints**\n",
        "\n",
        "[Ir](https://classroom.udacity.com/nanodegrees/nd880/parts/9a3a9589-7bc6-4694-81e0-8c3cb1aea251/modules/45a9362c-0c15-44f8-b71e-a3c2da3637c4/lessons/49dfb769-aafb-4d35-b18f-5bd856e33527/concepts/b5b284b6-9682-4af7-a603-8b2c5ccf6a21)"
      ]
    },
    {
      "cell_type": "markdown",
      "metadata": {
        "id": "89xKyIJpJTp6"
      },
      "source": [
        "**Leverage Constraint**\n",
        "\n",
        "[Ir](https://classroom.udacity.com/nanodegrees/nd880/parts/9a3a9589-7bc6-4694-81e0-8c3cb1aea251/modules/45a9362c-0c15-44f8-b71e-a3c2da3637c4/lessons/49dfb769-aafb-4d35-b18f-5bd856e33527/concepts/6c8e0c55-5c30-4f2b-aca9-b2b3ee944dd5)"
      ]
    },
    {
      "cell_type": "markdown",
      "metadata": {
        "id": "50KMudl4JYsR"
      },
      "source": [
        "**Factor Exposure and Position Constraints**\n",
        "\n",
        "[Ir](https://classroom.udacity.com/nanodegrees/nd880/parts/9a3a9589-7bc6-4694-81e0-8c3cb1aea251/modules/45a9362c-0c15-44f8-b71e-a3c2da3637c4/lessons/49dfb769-aafb-4d35-b18f-5bd856e33527/concepts/0459e649-9a0f-4d82-bb41-22f75404893c)"
      ]
    },
    {
      "cell_type": "markdown",
      "metadata": {
        "id": "E7xYSNDnJfza"
      },
      "source": [
        "**Advanced Optimization Exercise**\n",
        "\n",
        "[Ir](https://classroom.udacity.com/nanodegrees/nd880/parts/9a3a9589-7bc6-4694-81e0-8c3cb1aea251/modules/45a9362c-0c15-44f8-b71e-a3c2da3637c4/lessons/49dfb769-aafb-4d35-b18f-5bd856e33527/concepts/7fb71f67-c56c-45c6-a3bd-c3c87979da98)"
      ]
    },
    {
      "cell_type": "markdown",
      "metadata": {
        "id": "ErF6jkzUJnNB"
      },
      "source": [
        "**Alternative Ways of Setting Up the Problem**\n",
        "\n",
        "[Ir](https://classroom.udacity.com/nanodegrees/nd880/parts/9a3a9589-7bc6-4694-81e0-8c3cb1aea251/modules/45a9362c-0c15-44f8-b71e-a3c2da3637c4/lessons/49dfb769-aafb-4d35-b18f-5bd856e33527/concepts/7f3dd60c-d99a-4492-9df6-926c0f105df4)"
      ]
    },
    {
      "cell_type": "markdown",
      "metadata": {
        "id": "PEgN2ba8JqBw"
      },
      "source": [
        "**Estimation Error**\n",
        "\n",
        "[Ir](https://classroom.udacity.com/nanodegrees/nd880/parts/9a3a9589-7bc6-4694-81e0-8c3cb1aea251/modules/45a9362c-0c15-44f8-b71e-a3c2da3637c4/lessons/49dfb769-aafb-4d35-b18f-5bd856e33527/concepts/6bd92355-d7ea-4bf5-9781-f196badc6d97)"
      ]
    },
    {
      "cell_type": "markdown",
      "metadata": {
        "id": "KD17ebqxJx4V"
      },
      "source": [
        "**Infeasible Problems**\n",
        "\n",
        "[Ir](https://classroom.udacity.com/nanodegrees/nd880/parts/9a3a9589-7bc6-4694-81e0-8c3cb1aea251/modules/45a9362c-0c15-44f8-b71e-a3c2da3637c4/lessons/49dfb769-aafb-4d35-b18f-5bd856e33527/concepts/9643cb7c-6ab9-4a31-a196-9a126ecbf6d7)"
      ]
    },
    {
      "cell_type": "markdown",
      "metadata": {
        "id": "ZhVDQtB1J104"
      },
      "source": [
        "**Transaction Costs**\n",
        "\n",
        "[Ir](https://classroom.udacity.com/nanodegrees/nd880/parts/9a3a9589-7bc6-4694-81e0-8c3cb1aea251/modules/45a9362c-0c15-44f8-b71e-a3c2da3637c4/lessons/49dfb769-aafb-4d35-b18f-5bd856e33527/concepts/587c2b26-12e8-47db-8745-3aac5797207f)"
      ]
    },
    {
      "cell_type": "markdown",
      "metadata": {
        "id": "zkIoORFpJ67e"
      },
      "source": [
        "**Path Dependency**\n",
        "\n",
        "[Ir](https://classroom.udacity.com/nanodegrees/nd880/parts/9a3a9589-7bc6-4694-81e0-8c3cb1aea251/modules/45a9362c-0c15-44f8-b71e-a3c2da3637c4/lessons/49dfb769-aafb-4d35-b18f-5bd856e33527/concepts/e3f41c77-264d-4312-8b5e-5f5a985111fe)"
      ]
    },
    {
      "cell_type": "markdown",
      "metadata": {
        "id": "I7BRvcLkJ_3x"
      },
      "source": [
        "**What Is Optimization Doing to Our Alphas?**\n",
        "\n",
        "[Ir](https://classroom.udacity.com/nanodegrees/nd880/parts/9a3a9589-7bc6-4694-81e0-8c3cb1aea251/modules/45a9362c-0c15-44f8-b71e-a3c2da3637c4/lessons/49dfb769-aafb-4d35-b18f-5bd856e33527/concepts/f3f19127-d603-41c7-8c1c-b88338189558)"
      ]
    },
    {
      "cell_type": "markdown",
      "metadata": {
        "id": "xZF8dMIwKG3a"
      },
      "source": [
        "- [Outro](https://classroom.udacity.com/nanodegrees/nd880/parts/9a3a9589-7bc6-4694-81e0-8c3cb1aea251/modules/45a9362c-0c15-44f8-b71e-a3c2da3637c4/lessons/49dfb769-aafb-4d35-b18f-5bd856e33527/concepts/dffd6acf-4a84-4339-ad8e-833545c3db26)\n",
        "\n",
        "- [Interlude](https://classroom.udacity.com/nanodegrees/nd880/parts/9a3a9589-7bc6-4694-81e0-8c3cb1aea251/modules/45a9362c-0c15-44f8-b71e-a3c2da3637c4/lessons/49dfb769-aafb-4d35-b18f-5bd856e33527/concepts/4ea27cdd-0a70-41ba-8bdd-ce26441592df)\n"
      ]
    },
    {
      "cell_type": "markdown",
      "metadata": {
        "id": "pIZUeB3pybDg"
      },
      "source": [
        "# AI Algorithms in Trading"
      ]
    },
    {
      "cell_type": "markdown",
      "metadata": {
        "id": "R-3gQfkyze-a"
      },
      "source": [
        "## Welcome to Term II\n",
        "\n",
        "Welcome to Term 2! Say hello to your instructors and get an overview of the program.\n",
        "\n",
        "[Ir](https://classroom.udacity.com/nanodegrees/nd880/parts/20d53643-50e8-41b6-8063-3d2ac4934bb2/modules/cd989b29-0356-4a9f-af47-509264955c8b/lessons/47d7f300-28f8-4c7a-84c2-08476ae7410b/concepts/0cb41987-a547-40f1-85ca-62b429b672b2)\n",
        "\n"
      ]
    },
    {
      "cell_type": "markdown",
      "metadata": {
        "id": "0EMs3Qq1zi9r"
      },
      "source": [
        "## Intro to Natural Language Processing\n",
        "\n",
        "Learn how to build a Natural Language Processing pipeline.\n",
        "\n",
        "[Ir](https://classroom.udacity.com/nanodegrees/nd880/parts/20d53643-50e8-41b6-8063-3d2ac4934bb2/modules/cd989b29-0356-4a9f-af47-509264955c8b/lessons/c311a3b7-4c0c-4124-82df-ebd6b3c2d658/concepts/862291a6-df26-4ef8-9c44-04e278de3dcb)"
      ]
    },
    {
      "cell_type": "markdown",
      "metadata": {
        "id": "b5WanxkyzrBD"
      },
      "source": [
        "##  Text Processing\n",
        "\n",
        "Learn to prepare text obtained from different sources for further processing, by cleaning, normalizing and splitting it into individual words or tokens.\n",
        "\n",
        "[Ir](https://classroom.udacity.com/nanodegrees/nd880/parts/20d53643-50e8-41b6-8063-3d2ac4934bb2/modules/cd989b29-0356-4a9f-af47-509264955c8b/lessons/44a8b783-0df5-4914-877a-39aa259821f8/concepts/14924ea9-7fd9-4eed-8933-5e6e3b25ac65)\n"
      ]
    },
    {
      "cell_type": "markdown",
      "metadata": {
        "id": "fTM1O2_ezwrK"
      },
      "source": [
        "## Feature Extraction\n",
        "\n",
        "Transform text using methods like Bag-of-Words, TF-IDF, Word2Vec and GloVE to extract features that you can use in machine learning models.\n",
        "\n",
        "[Ir](https://classroom.udacity.com/nanodegrees/nd880/parts/20d53643-50e8-41b6-8063-3d2ac4934bb2/modules/cd989b29-0356-4a9f-af47-509264955c8b/lessons/288760e6-9a5b-4936-95cc-8d690d6f4cf8/concepts/dda7d28e-d9bc-47dc-9c34-5e0cccafb829)"
      ]
    },
    {
      "cell_type": "markdown",
      "metadata": {
        "id": "MJALfUlwz4eh"
      },
      "source": [
        "## Financial Statements\n",
        "Learn how to scrape data from financial documents using Regular Expressions and BeautifulSoup"
      ]
    },
    {
      "cell_type": "markdown",
      "metadata": {
        "id": "GFxflJPqz_ax"
      },
      "source": [
        "## Basic NLP Analysis\n",
        "Learn how to apply to NLP to financial statements\n",
        "\n",
        "[Ir](https://classroom.udacity.com/nanodegrees/nd880/parts/20d53643-50e8-41b6-8063-3d2ac4934bb2/modules/cd989b29-0356-4a9f-af47-509264955c8b/lessons/5747769a-e2e1-43fa-8542-f121b227ab00/concepts/925052ca-020f-4b91-82f3-6a8e4d665751)"
      ]
    },
    {
      "cell_type": "markdown",
      "metadata": {
        "id": "rAz8WWO30Bsu"
      },
      "source": [
        "## Introduction to Neural Networks\n",
        "\n",
        "In this lesson, Luis will teach you the foundations of deep learning and neural networks. You'll also implement gradient descent and backpropagation in python, right here in the classroom!\n",
        "\n",
        "[Ir](https://classroom.udacity.com/nanodegrees/nd880/parts/20d53643-50e8-41b6-8063-3d2ac4934bb2/modules/a0ddc1fa-dac3-48b1-ac73-6f3a43492432/lessons/00912248-2445-4713-ad9c-76b8536e1959/concepts/619f8424-5c70-4e14-affe-7363296a41a3)"
      ]
    },
    {
      "cell_type": "markdown",
      "metadata": {
        "id": "8MTUIB6D0JKt"
      },
      "source": [
        "## Training Neural Networks\n",
        "\n",
        "Now that you know what neural networks are, in this lesson you will learn several techniques to improve their training.\n",
        "\n",
        "\n",
        "[Ir](https://classroom.udacity.com/nanodegrees/nd880/parts/20d53643-50e8-41b6-8063-3d2ac4934bb2/modules/cd989b29-0356-4a9f-af47-509264955c8b/lessons/d0936480-80f5-4b91-a1a6-56c2acae3743/concepts/cf1bdf19-725e-4506-b40c-50cb0c088cf6)"
      ]
    },
    {
      "cell_type": "markdown",
      "metadata": {
        "id": "3yZvph4n0Ley"
      },
      "source": [
        "## Deep Learning with PyTorch\n",
        "Learn how to use PyTorch for building deep learning models.\n",
        "\n",
        "[Ir](https://classroom.udacity.com/nanodegrees/nd880/parts/20d53643-50e8-41b6-8063-3d2ac4934bb2/modules/cd989b29-0356-4a9f-af47-509264955c8b/lessons/f85e98c9-3e76-4fa6-8f7f-fb7e79a742a5/concepts/8b8cc2c9-ff20-4f6a-adac-71a9b47100b5)\n",
        "\n"
      ]
    },
    {
      "cell_type": "markdown",
      "metadata": {
        "id": "E8cwF5Z50Qnv"
      },
      "source": [
        "##  Recurrent Neural Networks\n",
        "\n",
        "Learn how to use recurrent neural networks to learn from sequential data such as text. Build a network that can generate realistic text one letter at a time.\n",
        "\n",
        "[Ir](https://classroom.udacity.com/nanodegrees/nd880/parts/20d53643-50e8-41b6-8063-3d2ac4934bb2/modules/cd989b29-0356-4a9f-af47-509264955c8b/lessons/e75be3c6-0412-44e5-a851-2e0c82b49218/concepts/e0568d87-96f4-4270-8552-22dc05a1e4f4)"
      ]
    },
    {
      "cell_type": "markdown",
      "metadata": {
        "id": "0AY3VpJq0a6I"
      },
      "source": [
        "## Embeddings & Word2Vec\n",
        "In this lesson, you'll learn about embeddings in neural networks by implementing the Word2Vec model.\n",
        "\n",
        "[Ir](https://classroom.udacity.com/nanodegrees/nd880/parts/20d53643-50e8-41b6-8063-3d2ac4934bb2/modules/cd989b29-0356-4a9f-af47-509264955c8b/lessons/eee200ed-60d5-4d57-bcd9-a7f360a12fec/concepts/4a927d69-322c-4bb4-850b-0f343daf2b21)"
      ]
    },
    {
      "cell_type": "markdown",
      "metadata": {
        "id": "97UHbH_J0vy0"
      },
      "source": [
        "## Sentiment Prediction RNN\n",
        "\n",
        "Implement a sentiment prediction RNN for predicting whether a movie review is positive or negative!\n",
        "\n",
        "[Ir](https://classroom.udacity.com/nanodegrees/nd880/parts/20d53643-50e8-41b6-8063-3d2ac4934bb2/modules/cd989b29-0356-4a9f-af47-509264955c8b/lessons/0a8ef0e2-8a0e-4087-8fc7-ac397da134e2/concepts/9b3f4978-13b1-44a8-abd1-e434f56c4bd4)\n"
      ]
    },
    {
      "cell_type": "markdown",
      "metadata": {
        "id": "TP7Hll3T02GJ"
      },
      "source": [
        "## Overview\n",
        "Learn about machine learning from a bird's-eye-view.\n",
        "\n",
        "[Ir](https://classroom.udacity.com/nanodegrees/nd880/parts/20d53643-50e8-41b6-8063-3d2ac4934bb2/modules/cd989b29-0356-4a9f-af47-509264955c8b/lessons/24ecc7f1-ccf6-4c2a-a474-5bea622730da/concepts/ad0a385c-aad9-401d-be28-5c3dbb617166)"
      ]
    },
    {
      "cell_type": "markdown",
      "metadata": {
        "id": "ySq_h-_n05WM"
      },
      "source": [
        "## Decision Trees\n",
        "Decision trees are a structure for decision-making where each decision leads to a set of consequences or additional decisions.\n",
        "\n",
        "[Ir](https://classroom.udacity.com/nanodegrees/nd880/parts/20d53643-50e8-41b6-8063-3d2ac4934bb2/modules/cd989b29-0356-4a9f-af47-509264955c8b/lessons/5c3b068c-4de2-468b-88ad-3bc7e358b7ba/concepts/f8fbf026-3ac6-4005-81c0-aa273fb3b9d0)"
      ]
    },
    {
      "cell_type": "markdown",
      "metadata": {
        "id": "hhEvUL_W08PA"
      },
      "source": [
        "## Model Testing and Evaluation\n",
        "Learn about metrics to evaluate models and about how to avoid over- and underfitting.\n",
        "\n",
        "[Ir](https://classroom.udacity.com/nanodegrees/nd880/parts/20d53643-50e8-41b6-8063-3d2ac4934bb2/modules/cd989b29-0356-4a9f-af47-509264955c8b/lessons/6a5fa360-2c0f-4573-a0f1-45971d67909c/concepts/fbd950e1-c0c3-4102-8807-17af5240967c)"
      ]
    },
    {
      "cell_type": "markdown",
      "metadata": {
        "id": "nq-bhC_p0_XJ"
      },
      "source": [
        "## Random Forests\n",
        "\n",
        "Learn about random forest models and how to use them to combine alpha factors.\n",
        "\n",
        "[Ir](https://classroom.udacity.com/nanodegrees/nd880/parts/20d53643-50e8-41b6-8063-3d2ac4934bb2/modules/cd989b29-0356-4a9f-af47-509264955c8b/lessons/54d166b1-bed4-48bf-b0d9-0c34d688fab5/concepts/67a7784b-2d89-46d7-9bd0-5a871df53a62)"
      ]
    },
    {
      "cell_type": "markdown",
      "metadata": {
        "id": "lPBVRNGZ1DN2"
      },
      "source": [
        "## Feature Engineering\n",
        "\n",
        "Learn to engineer features such as market dispersion, market volatility, sector and date parts. Also learn to engineer targets (labels) that are robust to market changes over time.\n",
        "\n",
        "[Ir](https://classroom.udacity.com/nanodegrees/nd880/parts/20d53643-50e8-41b6-8063-3d2ac4934bb2/modules/cd989b29-0356-4a9f-af47-509264955c8b/lessons/9ffcb946-c65b-4695-90e9-31bc0fc6b388/concepts/85e56a7b-0125-475a-ae5c-1740f93046fc)"
      ]
    },
    {
      "cell_type": "markdown",
      "metadata": {
        "id": "-Vge9XcO1GaC"
      },
      "source": [
        "## Overlapping Labels\n",
        "\n",
        "Learn about an issue with non-independent labels that comes up during alpha combination with machine learning models.\n",
        "\n",
        "[Ir](https://classroom.udacity.com/nanodegrees/nd880/parts/20d53643-50e8-41b6-8063-3d2ac4934bb2/modules/cd989b29-0356-4a9f-af47-509264955c8b/lessons/9e5add2a-064b-4763-ad27-35aa093d77a0/concepts/06c84c59-5c54-4bec-9f35-179f07a8b3b3)"
      ]
    },
    {
      "cell_type": "markdown",
      "metadata": {
        "id": "cCcuEe7m1vcl"
      },
      "source": [
        "## Feature Importance\n",
        "Feature importance helps us decide how relevant each feature is to a machine learning model's predictions. Learn about two methods for calculating feature importance.\n",
        "\n",
        "[Ir](https://classroom.udacity.com/nanodegrees/nd880/parts/20d53643-50e8-41b6-8063-3d2ac4934bb2/modules/cd989b29-0356-4a9f-af47-509264955c8b/lessons/345ffc46-d929-4f6a-8af8-792bf9b03629/concepts/391090bd-5321-41ce-a993-d6e0d2af06b0)"
      ]
    },
    {
      "cell_type": "markdown",
      "metadata": {
        "id": "9V7KMk-C1xni"
      },
      "source": [
        "## Intro to Backtesting\n",
        "Backtesting helps you determine whether or not your strategies can be generalizable to future unseen data.\n",
        "\n",
        "[Ir](https://classroom.udacity.com/nanodegrees/nd880/parts/20d53643-50e8-41b6-8063-3d2ac4934bb2/modules/cd989b29-0356-4a9f-af47-509264955c8b/lessons/799afe55-9f0f-4dd1-af5e-0d208f6974d8/concepts/64cd47b7-7f67-4840-a60e-ef3cc12d0593)"
      ]
    },
    {
      "cell_type": "markdown",
      "metadata": {
        "id": "M__zmr7P13nE"
      },
      "source": [
        "## Optimization with Transaction Costs\n",
        "Learn about how to make the portfolio optimization in a backtest more realistic, and also more computationally efficient.\n",
        "\n",
        "[Ir](https://classroom.udacity.com/nanodegrees/nd880/parts/20d53643-50e8-41b6-8063-3d2ac4934bb2/modules/cd989b29-0356-4a9f-af47-509264955c8b/lessons/482720f4-5772-4878-a746-1799af74013f/concepts/1bb76446-a316-40c9-9f08-3ba39f23fbd2)"
      ]
    },
    {
      "cell_type": "markdown",
      "metadata": {
        "id": "Ijf9XQ1v15Od"
      },
      "source": [
        "## Attribution\n",
        "Use performance attribution to determine how each factor contributed to the portfolio's results.\n",
        "\n",
        "[Ir](https://classroom.udacity.com/nanodegrees/nd880/parts/20d53643-50e8-41b6-8063-3d2ac4934bb2/modules/cd989b29-0356-4a9f-af47-509264955c8b/lessons/c2c1c6b7-3de1-47da-a97a-35b1302228f8/concepts/bb49d731-d3db-4f57-9133-3e5ec741651c)"
      ]
    },
    {
      "cell_type": "markdown",
      "metadata": {
        "id": "yLzDcbrAZcRq"
      },
      "source": [
        "# Projects"
      ]
    },
    {
      "cell_type": "markdown",
      "metadata": {
        "id": "5cUn_y4fZeb9"
      },
      "source": [
        "## Trading with Momentum\n",
        "\n",
        "Learn to implement a trading strategy on your own and test to see if it has the potential to be profitable.\n",
        "\n",
        "[Ir](https://classroom.udacity.com/nanodegrees/nd880/parts/9a3a9589-7bc6-4694-81e0-8c3cb1aea251/modules/45a9362c-0c15-44f8-b71e-a3c2da3637c4/lessons/19d4fe10-23f4-4347-9dfd-058c461cc7ef/concepts/4c5b82a1-9ae3-49f9-87bf-feae1aa8efa8#)"
      ]
    },
    {
      "cell_type": "markdown",
      "metadata": {
        "id": "vwZ7rpSrZhgP"
      },
      "source": [
        "- Design and Analyze a trading strategy based on momentum\n",
        "\n",
        "- Nice Work Overall\n",
        "\n",
        "Here are some more links which you might want to checkout:\n",
        "\n",
        "- https://onlinecourses.science.psu.edu/statprogram/reviews/statistical-concepts/hypothesis-testing/p-value-approach\n",
        "\n",
        "- https://blog.minitab.com/blog/adventures-in-statistics-2/how-to-correctly-interpret-p-values\n",
        "\n",
        "- https://www.dummies.com/education/math/statistics/what-a-p-value-tells-you-about-statistical-data/\n",
        "\n",
        "- https://blog.minitab.com/blog/understanding-statistics/things-statisticians-say-failure-to-reject-the-null-hypothesis\n",
        "\n",
        "More Resources but they will need more focussed attention :\n",
        "\n",
        "- Guide_to_Misinterpretations_of_Pvalues.pdf\n",
        "- The ASA s Statement on p Values Context Process and Purpose.pdf\n",
        "- get_top_n:\n",
        "  - Use pandas rank function.\n",
        "  - Measure performace of the two.\n",
        "\n",
        "- for p-value, and t-value \n",
        "  -   \n",
        "  ```python\n",
        "    sample_size = len(expected_portfolio_returns_by_date)\n",
        "    sample_mean = np.mean(expected_portfolio_returns_by_date)\n",
        "    sample_error = stats.tstd(expected_portfolio_returns_by_date)\n",
        "\n",
        "    t_value = 2 * (sample_mean / sample_error)\n",
        "    p_value = stats.t.sf(np.abs(t_value), sample_size - 1)\n",
        "  ```\n",
        "\n",
        "- pvalue is greater than alpha our threshold for significance, we fail to reject the null hypothesis. It means there's a chance this strategy will yield mean return of zero. For us to ascertain this we'll need to **conduct further analysis** on the strategy.\n",
        "\n",
        "- A p-value of *0.05*, for example, indicates that you would have only a 5% chance of drawing the sample being tested if the null hypothesis was actually true (= 5% chance that the strategy would not yield positive returns in reality, even when our tests did calculate returns bigger than zero).\n",
        "\n",
        "- https://blog.minitab.com/blog/understanding-statistics/things-statisticians-say-failure-to-reject-the-null-hypothesis\n",
        "\n",
        "- https://www.dummies.com/education/math/statistics/what-a-p-value-tells-you-about-statistical-data/\n",
        "\n",
        "-  https://onlinecourses.science.psu.edu/statprogram/reviews/statistical-concepts/hypothesis-testing/p-value-approach\n",
        "\n",
        "- https://blog.minitab.com/blog/adventures-in-statistics-2/how-to-correctly-interpret-p-values"
      ]
    },
    {
      "cell_type": "markdown",
      "metadata": {
        "id": "fpOGTr5mZmWQ"
      },
      "source": [
        "## Breakout Strategy\n",
        "\n",
        "Implement the breakout strategy, find and remove outliers, and test to see if it can be a profitable strategy.\n",
        "\n",
        "[Ir](https://classroom.udacity.com/nanodegrees/nd880/parts/9a3a9589-7bc6-4694-81e0-8c3cb1aea251/modules/45a9362c-0c15-44f8-b71e-a3c2da3637c4/lessons/acecae74-18c3-45c0-8b2d-5ed0f84029d4/concepts/74242d8e-f1dc-499f-92b6-6ec807d4d9d3)"
      ]
    },
    {
      "cell_type": "markdown",
      "metadata": {
        "id": "S52K5DOVaEJk"
      },
      "source": [
        "## Smart Beta and Portfolio Optimization\n",
        "\n",
        "Build a smart beta portfolio against an index and optimize a portfolio using quadratic programming.\n",
        "\n",
        "[Ir](https://classroom.udacity.com/nanodegrees/nd880/parts/9a3a9589-7bc6-4694-81e0-8c3cb1aea251/modules/45a9362c-0c15-44f8-b71e-a3c2da3637c4/lessons/1fde82c8-9b3e-49ae-8073-20ed41fb2c50/concepts/f9f6b8e2-7ad2-4ab6-bb27-540f00fbe522)"
      ]
    },
    {
      "cell_type": "markdown",
      "metadata": {
        "id": "B_pzScGRZn9c"
      },
      "source": [
        "## Alpha Research and Factor Modelling\n",
        "\n",
        "Research and implement alpha factors, build a risk factor model. Use alpha factors and risk factors to optimize a portfolio.\n",
        "\n",
        "[Ir](https://classroom.udacity.com/nanodegrees/nd880/parts/9a3a9589-7bc6-4694-81e0-8c3cb1aea251/modules/45a9362c-0c15-44f8-b71e-a3c2da3637c4/lessons/1c0d2c68-5c5f-4367-8604-5cc28d653568/concepts/827bc99c-defb-44ea-9098-212b6d73d360)"
      ]
    },
    {
      "cell_type": "markdown",
      "metadata": {
        "id": "NwJaEn8WZzX8"
      },
      "source": [
        "## NLP on Financial Statements\n",
        "\n",
        "NLP Analysis on 10-k financial statements to generate an alpha factor.\n",
        "\n",
        "[Ir](https://classroom.udacity.com/nanodegrees/nd880/parts/20d53643-50e8-41b6-8063-3d2ac4934bb2/modules/cd989b29-0356-4a9f-af47-509264955c8b/lessons/d1d781e4-916a-4d4d-b590-91db42ad8242/concepts/48d1e175-6238-4cac-9f92-1cb01c8531fc)"
      ]
    },
    {
      "cell_type": "markdown",
      "metadata": {
        "id": "hi8aPKMVZpeX"
      },
      "source": [
        "## Sentiment Analysis with Neural Networks\n",
        "\n",
        "Build a deep learning model to classify the sentiment of messages.\n",
        "\n",
        "[Ir](https://classroom.udacity.com/nanodegrees/nd880/parts/20d53643-50e8-41b6-8063-3d2ac4934bb2/modules/cd989b29-0356-4a9f-af47-509264955c8b/lessons/10057b09-9ff6-4681-b7d4-1ecec322a555/concepts/dc5fae19-b6a0-4b32-a0f8-1f1ef5182ec5)"
      ]
    },
    {
      "cell_type": "markdown",
      "metadata": {
        "id": "CBDJU0esZ24W"
      },
      "source": [
        "## Combining Signals for Enhanced Alpha\n",
        "\n",
        "Build a random forest to generate better alpha.\n",
        "\n",
        "[Ir](https://classroom.udacity.com/nanodegrees/nd880/parts/20d53643-50e8-41b6-8063-3d2ac4934bb2/modules/cd989b29-0356-4a9f-af47-509264955c8b/lessons/a97c8cae-bc8d-4626-9e11-adf65c500ab9/concepts/a24f1aba-c0dc-45cf-932c-47a032244c7e)"
      ]
    },
    {
      "cell_type": "markdown",
      "metadata": {
        "id": "--oKWb-tZq2w"
      },
      "source": [
        "## Improve Your LinkedIn Profile\n",
        "\n",
        "Find your next job or connect with industry peers on LinkedIn. Ensure your profile attracts relevant leads that will grow your professional network.\n",
        "\n",
        "[Ir](https://classroom.udacity.com/nanodegrees/nd880/parts/20d53643-50e8-41b6-8063-3d2ac4934bb2/modules/cd989b29-0356-4a9f-af47-509264955c8b/lessons/20707806-8f14-420f-b613-4196199a88c1/concepts/c8c3fbd0-b7ba-471e-85b7-eb2b1c3820c0)"
      ]
    },
    {
      "cell_type": "markdown",
      "metadata": {
        "id": "qDYOFSzaZswQ"
      },
      "source": [
        "## Optimize Your GitHub Profile\n",
        "\n",
        "Other professionals are collaborating on GitHub and growing their network. Submit your profile to ensure your profile is on par with leaders in your field.\n",
        "\n",
        "[Ir](https://classroom.udacity.com/nanodegrees/nd880/parts/20d53643-50e8-41b6-8063-3d2ac4934bb2/modules/cd989b29-0356-4a9f-af47-509264955c8b/lessons/de38d0de-afac-4d34-a339-25c2519cf9f9/concepts/00b53aa6-a4a0-4eee-a034-39915c379b68)"
      ]
    },
    {
      "cell_type": "markdown",
      "metadata": {
        "id": "dg5gr_E6ZuZR"
      },
      "source": [
        "## Backtesting\n",
        "\n",
        "Build a backtester using Barra data.\n",
        "\n",
        "[Ir](https://classroom.udacity.com/nanodegrees/nd880/parts/20d53643-50e8-41b6-8063-3d2ac4934bb2/modules/cd989b29-0356-4a9f-af47-509264955c8b/lessons/799afe55-9f0f-4dd1-af5e-0d208f6974d8/concepts/64cd47b7-7f67-4840-a60e-ef3cc12d0593)"
      ]
    }
  ]
}