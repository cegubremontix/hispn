{
  "nbformat": 4,
  "nbformat_minor": 0,
  "metadata": {
    "colab": {
      "name": "AI for Trading.ipynb",
      "provenance": [],
      "toc_visible": true,
      "authorship_tag": "ABX9TyMepiSCW6+Z/TgiZqAmInAO",
      "include_colab_link": true
    },
    "kernelspec": {
      "name": "python3",
      "display_name": "Python 3"
    },
    "language_info": {
      "name": "python"
    }
  },
  "cells": [
    {
      "cell_type": "markdown",
      "metadata": {
        "id": "view-in-github",
        "colab_type": "text"
      },
      "source": [
        "<a href=\"https://colab.research.google.com/github/dbremont/Notas/blob/main/Ingenerare/AI_for_Trading.ipynb\" target=\"_parent\"><img src=\"https://colab.research.google.com/assets/colab-badge.svg\" alt=\"Open In Colab\"/></a>"
      ]
    },
    {
      "cell_type": "markdown",
      "metadata": {
        "id": "tJPw5Df91dQV"
      },
      "source": [
        "# AI for Trading\n",
        "\n",
        "Based on data from 10,000+ students, we recommend spending 10 hours/week in the classroom during your first 2 weeks to give yourself the best chance of success."
      ]
    },
    {
      "cell_type": "markdown",
      "metadata": {
        "id": "GUyWsTjqOkch"
      },
      "source": [
        "## Projects"
      ]
    },
    {
      "cell_type": "markdown",
      "metadata": {
        "id": "-TRTn8kmNV2w"
      },
      "source": [
        "**Trading with Momentum**\n",
        "\n",
        "Learn to implement a trading strategy on your own and test to see if it has the potential to be profitable."
      ]
    },
    {
      "cell_type": "markdown",
      "metadata": {
        "id": "HbPbYSITNvxp"
      },
      "source": [
        "**Breakout Strategy**\n",
        "\n",
        "Implement the breakout strategy, find and remove outliers, and test to see if it can be a profitable strategy."
      ]
    },
    {
      "cell_type": "markdown",
      "metadata": {
        "id": "ENaMWzdcN8a6"
      },
      "source": [
        "**Smart Beta and Portfolio Optimization**\n",
        "\n",
        "Build a smart beta portfolio against an index and optimize a portfolio using quadratic programming."
      ]
    },
    {
      "cell_type": "markdown",
      "metadata": {
        "id": "YCeGFkwqOA1O"
      },
      "source": [
        "**Multi-factor Model**\n",
        "\n",
        "Research and implement alpha factors, build a risk factor model. Use alpha factors and risk factors to optimize a portfolio."
      ]
    },
    {
      "cell_type": "markdown",
      "metadata": {
        "id": "1KDfFL61OJ31"
      },
      "source": [
        "**NLP on Financial Statements**\n",
        "\n",
        "NLP Analysis on 10-k financial statements to generate an alpha factor."
      ]
    },
    {
      "cell_type": "markdown",
      "metadata": {
        "id": "LGdlEBFhONPI"
      },
      "source": [
        "**Sentiment Analysis with Neural Networks**\n",
        "\n",
        "Build a deep learning model to classify the sentiment of messages."
      ]
    },
    {
      "cell_type": "markdown",
      "metadata": {
        "id": "DtpipJqjOQHY"
      },
      "source": [
        "**Combining Signals for Enhanced Alpha**\n",
        "\n",
        "Build a random forest to generate better alpha."
      ]
    },
    {
      "cell_type": "markdown",
      "metadata": {
        "id": "zzT6BlnxOYXA"
      },
      "source": [
        "**Improve Your LinkedIn Profile**\n",
        "\n",
        "Find your next job or connect with industry peers on LinkedIn. Ensure your profile attracts relevant leads that will grow your professional network."
      ]
    },
    {
      "cell_type": "markdown",
      "metadata": {
        "id": "F-FVFB7KObTb"
      },
      "source": [
        "**Optimize Your GitHub Profile**\n",
        "\n",
        "Other professionals are collaborating on GitHub and growing their network. Submit your profile to ensure your profile is on par with leaders in your field."
      ]
    },
    {
      "cell_type": "markdown",
      "metadata": {
        "id": "aMOm9PQpOh8Q"
      },
      "source": [
        "**Backtesting**\n",
        "\n",
        "Build a backtester using Barra data."
      ]
    }
  ]
}