{
  "nbformat": 4,
  "nbformat_minor": 0,
  "metadata": {
    "colab": {
      "name": "AI for Trading.ipynb",
      "provenance": [],
      "toc_visible": true,
      "authorship_tag": "ABX9TyOnFQhKeh4go9zm+eGOm7i6",
      "include_colab_link": true
    },
    "kernelspec": {
      "name": "python3",
      "display_name": "Python 3"
    },
    "language_info": {
      "name": "python"
    }
  },
  "cells": [
    {
      "cell_type": "markdown",
      "metadata": {
        "id": "view-in-github",
        "colab_type": "text"
      },
      "source": [
        "<a href=\"https://colab.research.google.com/github/dbremont/Notas/blob/main/Ingenerare/AI_for_Trading.ipynb\" target=\"_parent\"><img src=\"https://colab.research.google.com/assets/colab-badge.svg\" alt=\"Open In Colab\"/></a>"
      ]
    },
    {
      "cell_type": "markdown",
      "metadata": {
        "id": "tJPw5Df91dQV"
      },
      "source": [
        "# AI for Trading\n",
        "[Ir](https://classroom.udacity.com/nanodegrees/nd880/dashboard/overview)\n",
        "\n",
        "Based on data from 10,000+ students, we recommend spending 10 hours/week in the classroom during your first 2 weeks to give yourself the best chance of success."
      ]
    },
    {
      "cell_type": "markdown",
      "metadata": {
        "id": "GUyWsTjqOkch"
      },
      "source": [
        "## Recursos"
      ]
    },
    {
      "cell_type": "markdown",
      "metadata": {
        "id": "BdXW-r6s0r1m"
      },
      "source": [
        "- [Projects](https://colab.research.google.com/github/dbremont/Notas/blob/main/Ingenerate/AI_for_Trading_Projects.ipynb)\n",
        "\n",
        "- [Terminology](https://colab.research.google.com/drive/15AM4LmfHD0uKoj1oO67vplxObIGgsRu6#scrollTo=QqOyFoxpyqQx)\n",
        "\n",
        "- [xarray](http://xarray.pydata.org/en/stable/)\n",
        "\n",
        "- [Open-high-low-close chart](https://stackoverflow.com/questions/468145/what-is-the-difference-between-type-and-class)"
      ]
    },
    {
      "cell_type": "markdown",
      "metadata": {
        "id": "mh62nh4-HBxB"
      },
      "source": [
        "## What is a Quant?"
      ]
    },
    {
      "cell_type": "markdown",
      "metadata": {
        "id": "-JnmgwwaFd0W"
      },
      "source": [
        "What is  a Quant?:\n",
        "\n",
        "  - Quants build computational models of the world, more specific about finantial instruments or markets.\n",
        "\n",
        "  - Quants apply the scientific method to finance.\n",
        "\n",
        "Functions:\n",
        "\n",
        "- Research function\n",
        "- Risk Management\n",
        "- Portfolio Construction\n",
        "- Data Vendors\n",
        "\n",
        "\n",
        "- A model of  a time series\n",
        "- A model of a portfolio\n",
        "- A model of that map unstructure data to structure data\n",
        "\n",
        "\n",
        "- Scientific  Method + Domain Knowlage"
      ]
    },
    {
      "cell_type": "markdown",
      "metadata": {
        "id": "qVcqUTKiy3qZ"
      },
      "source": [
        "### Program Overview"
      ]
    },
    {
      "cell_type": "markdown",
      "metadata": {
        "id": "hiQl-ykzIHQ-"
      },
      "source": [
        "- [Program Overview](https://youtu.be/Ci0j_UwLlQQ)\n",
        "\n",
        "- [Insights from a Quant](https://youtu.be/ZRzhyaqz7I0)\n",
        "- [Quant workflow](https://www.youtube.com/watch?v=RomfTrm5_7g)\n",
        "\n",
        "**Two terms**:\n",
        "\n",
        "- Each term contains 4 projects.\n",
        "- Each term takes 3 months to complete.\n",
        "- In the projects is the part in which 'real' learning happends.\n",
        "- **If you pass 'Term 1' you can take 'Term 2'**.\n",
        "- At the end of term two, you will design and evaluate quantitative trading strategies.\n",
        "\n",
        "\n",
        "**Extracurricular Material**\n",
        "\n",
        "As your success in this program depends on you having some knowledge or understanding across a number of topics, we have included additional courses on these topics in the extracurricular section of this program. Specifically, you can find the following courses:\n",
        "\n",
        "- Python Refresher\n",
        "\n",
        "- Jupyter Notebooks, Numpy, and Pandas\n",
        "\n",
        "- Linear Algebra\n",
        "\n",
        "- Statistics\n",
        "\n",
        "- Calculus\n",
        "\n",
        "\n",
        "\n",
        "\n"
      ]
    },
    {
      "cell_type": "markdown",
      "metadata": {
        "id": "Ne21q23_TwAK"
      },
      "source": [
        "## Stock Prices\n",
        "Learn about stocks and common terminology used when analyzing stocks.\n",
        "\n",
        "[Ir](https://classroom.udacity.com/nanodegrees/nd880/parts/9a3a9589-7bc6-4694-81e0-8c3cb1aea251/modules/45a9362c-0c15-44f8-b71e-a3c2da3637c4/lessons/eafc55a5-ee28-4c7c-a6da-9be4fac018ba/concepts/06f36095-1c8e-4e91-99f6-79b289ef7196#)"
      ]
    },
    {
      "cell_type": "markdown",
      "metadata": {
        "id": "zvl1X8ERT0GS"
      },
      "source": [
        "- Types of [stocks](https://en.wikipedia.org/wiki/Stock):\n",
        "  - Common\n",
        "  - Preferred\n",
        "\n",
        " Shares of stock?\n",
        "\n",
        "- Split a stock into even millions of shares?\n",
        "- What many shares of a company x has?\n",
        "\n",
        "- What can you do if you 'own' a share of a company?\n",
        "\n",
        "**Common stocks**\n",
        "\n",
        "  - Share holders that own common stock  'usually?'  get a portion of the company profits in the form of dividends if the company distributes them.\n",
        "\n",
        "  - What is a 'divident'?\n",
        "\n",
        "  - Has botting rights.\n",
        "\n",
        "  - Recieve a portion of remaining assets in case of liquidation\n",
        "\n",
        "**Preferred Stock**\n",
        "\n",
        "- Promised a fixed amount of income each year\n",
        "- Get paid before common stock holders get paid dividends\n",
        "- Usually don't have botting wrights\n",
        "\n",
        "**Security**\n",
        "\n",
        "- Finantial instrument that has some type of monetary value.\n",
        "  - i.e Stocks,\n",
        "  - Bonds,\n",
        "  - Options\n",
        "\n",
        "Types:\n",
        "  - Debt Securities\n",
        "  - Derivative Securities  (ie. options, futures)\n",
        "  - Equity Securities   (Equity) (Value of an owned asset minus the amount of all debts or liabilities on that asset) *It's a polysemic word*\n",
        "\n",
        "- Broker (The Middleman):\n",
        " - Connect buyers and sellers.\n",
        "\n",
        "- Sometimes you can buy directly from companies\n",
        "\n",
        "- The Stock Market can be traded to the 'Roman Republic'\n",
        "\n",
        "- The Amsterdam Stock Exchange, it's the first modern market\n",
        "\n",
        "- Market buble: Occurs when market participants drive stock prices above their value in relation 'some system of valuation'\n",
        "\n",
        "  - For more see: \n",
        "    - Rober Shiller work on economic bubble.\n",
        "    - Nassim Taleb work on economic bubble.x"
      ]
    },
    {
      "cell_type": "markdown",
      "metadata": {
        "id": "drlNeU4bjua3"
      },
      "source": [
        "**How to buy stocks?**\n",
        "\n",
        "  - Sometimes from copanies.\n",
        "  - But the mayority of the time from *brokers*."
      ]
    },
    {
      "cell_type": "markdown",
      "metadata": {
        "id": "gqlB4doRpYuy"
      },
      "source": [
        "## Market Mechanism\n",
        "Learn about how modern stock markets function, how trades are executed and prices are set. Study market behavior, and analyze price and volume data to identify potential trading signals.\n",
        "\n",
        "[Ir](https://classroom.udacity.com/nanodegrees/nd880/parts/9a3a9589-7bc6-4694-81e0-8c3cb1aea251/modules/45a9362c-0c15-44f8-b71e-a3c2da3637c4/lessons/acf72c80-6f2c-4acb-b0d2-5f1d85b35d84/concepts/last-viewed)"
      ]
    },
    {
      "cell_type": "markdown",
      "metadata": {
        "id": "U8W8WeVWpWG6"
      },
      "source": [
        "\n",
        "\n",
        "1. Simple market simulator.\n",
        "2. When look at the data see what signal it may carried.\n",
        "3. Data about closing and opening of global markets.\n",
        "\n",
        "- The range of the prices of a product is usually get determine's by the lower price the seller is willing to sell, and the highest price that the buyer is willing to buy."
      ]
    },
    {
      "cell_type": "markdown",
      "metadata": {
        "id": "COzCN0FppnGi"
      },
      "source": [
        "**Trading Stocks**\n",
        "\n",
        "- When a company issue stock for the first time is select the price using companies metrics, assets, etc. But since then the prices of the stock are driven by demand.\n",
        "\n",
        "- How to quantify demand?\n",
        "  - How many orders for a stock, and the price.\n",
        "  - Stock Exchange keep track of this data.\n",
        "\n",
        "- Placin a bit.\n",
        "- Market queue.\n",
        "- Buy queue.\n",
        "- Sell queue.\n",
        "\n",
        "- How to buy inmediatly withot bitting?\n",
        "  - Current price of the stock.\n",
        "  - This is a market order.\n",
        "  - Market Maker:\n",
        "    - Obligated to buy and sell at the stock market price  (Designated by the stock exchange).\n",
        "\n",
        "  - Bid-Ask spread\n"
      ]
    },
    {
      "cell_type": "markdown",
      "metadata": {
        "id": "tRCTb7G_pjnc"
      },
      "source": [
        "**Liquidity**\n",
        "\n",
        "- Is the ability to trade an asset at a stable price.\n",
        "  - when ca buy and sell as much as we like, and that would no change the prices.\n",
        "\n",
        "- **Cash is considered the most liquid asset**, because it can be readily traded for other assets.\n",
        "\n",
        "  - This might not be intuitive, but it helps to think about cash as a financial instrument like any other. Changing currency values can make it worth more or less, just like stocks, but usually the value of cash reduces over time due to inflation.\n",
        "\n",
        "- The same stock can be traded in different markets.\n",
        "\n",
        "- Profiting from market inneficiencies, buy making money buing stock at different prices in markets, the idea is called **arbitraged**."
      ]
    },
    {
      "cell_type": "markdown",
      "metadata": {
        "id": "3WOdUddNpg_M"
      },
      "source": [
        "**Tick Data**\n",
        "\n",
        "- Stream of data that include each individual trade.\n",
        "- Tick price.\n",
        "- Market data.\n",
        "- The new york stock exchange make billions of trades per day.\n",
        "- Market data can be summarize."
      ]
    },
    {
      "cell_type": "markdown",
      "metadata": {
        "id": "EqQvohqrpent"
      },
      "source": [
        "**OHLC: Open, High,Low, Close**\n",
        "\n",
        "- Summarize price movements of stock prices.\n",
        "- Premarket trading.\n",
        "- Trading in others markets."
      ]
    },
    {
      "cell_type": "markdown",
      "metadata": {
        "id": "L3O4S1xf3F_3"
      },
      "source": [
        "Resampling Data\n",
        "\n",
        "- [Pandas Resampling](https://pandas.pydata.org/pandas-docs/stable/user_guide/timeseries.html#resampling)\n",
        "\n",
        "- It has todo with time data."
      ]
    },
    {
      "cell_type": "markdown",
      "metadata": {
        "id": "Roq2AnYOAdMg"
      },
      "source": [
        "**Volume**\n",
        "\n",
        "- Another metric for  number of shares that are trated over a period of time.\n",
        "\n",
        "- Often show at the botton of an ohlc.\n",
        "\n",
        "- Great signal.\n",
        "\n",
        "- Signal\n",
        "\n",
        "  - If the volume traded increase, usually the price of the stock increse.\n",
        "\n",
        "  - If the volume traded decrease, usually the price of the stock decrese.\n",
        "\n",
        "- How volume affect the prices?\n",
        "\n"
      ]
    },
    {
      "cell_type": "markdown",
      "metadata": {
        "id": "FacPSDgWC1N6"
      },
      "source": [
        "**Gaps in Market Data**\n",
        "\n",
        "- Markets are usually closed on weekend, holydays, and they usually open from *9:00 am* to *4:00 pm*.\n",
        "\n",
        "- So some time metrics can give you innacurate results if you don't consider this gaps."
      ]
    },
    {
      "cell_type": "markdown",
      "metadata": {
        "id": "5X9RqxnHDbqC"
      },
      "source": [
        "**Markets In Different Timeszones**\n",
        "\n",
        "- When an stock is trated in markets with different time-zones, there is a posibility to make money with this. But as we know, others traders will notice this.\n",
        "\n",
        "- Gush, trading is very game theoretic."
      ]
    },
    {
      "cell_type": "markdown",
      "metadata": {
        "id": "_719kdQ6QIUz"
      },
      "source": [
        "## Data Processing\n",
        "\n",
        "[Ir](https://classroom.udacity.com/nanodegrees/nd880/parts/9a3a9589-7bc6-4694-81e0-8c3cb1aea251/modules/45a9362c-0c15-44f8-b71e-a3c2da3637c4/lessons/f5374d2b-5e18-42f0-9ec4-44bcbe981d33/concepts/55aecdab-707f-4edb-9311-fc59751f2d7c)\n",
        "\n",
        "Learn how to adjust market data for corporate actions, include fundamental information in your analysis and compute technical indicators."
      ]
    },
    {
      "cell_type": "markdown",
      "metadata": {
        "id": "xAc1Gv6JZqPg"
      },
      "source": [
        "- Market data data about each trade event, it's called a tick.\n",
        "\n",
        "- Tick\n",
        "  - Date\n",
        "  - Time\n",
        "  - Ticker(Stock)\n",
        "  - Quote Data\n",
        "    - Bid Size\n",
        "    - Bid\n",
        "    - Ask\n",
        "  - Traded data\n",
        "    - Last Trade \n",
        "    - Volume\n",
        "\n",
        "- When are the timestamp needed?"
      ]
    },
    {
      "cell_type": "markdown",
      "metadata": {
        "id": "qr-UnKrEbGKk"
      },
      "source": [
        "**Corporate Actions**\n",
        "\n",
        "- "
      ]
    },
    {
      "cell_type": "markdown",
      "metadata": {
        "id": "l9sjkTZRQK3Y"
      },
      "source": [
        "## Stock Returns\n",
        "Learn how to calculate stock returns, and log returns in particular. Learn why log returns are used to analyze finalcial data."
      ]
    },
    {
      "cell_type": "markdown",
      "metadata": {
        "id": "BlmbuX7kQcva"
      },
      "source": [
        "## Momentum Trading\n",
        "Learn aobut alpha signals, and how they can be applied to a long/short trading strategy. Learn about momentum, a common alpha signal used in trading strategies."
      ]
    },
    {
      "cell_type": "markdown",
      "metadata": {
        "id": "rNiiykVUQesR"
      },
      "source": [
        "## Quant Workflow\n",
        "Learn about the overrall quant workflow, including alpha signal generation, alpha combination, portfolio optimization, and trading."
      ]
    },
    {
      "cell_type": "markdown",
      "metadata": {
        "id": "ue8PE2I-QjLl"
      },
      "source": [
        "## Outliers and Filtering\n",
        "Learn the importance of outliers and how to detect them. Learn about methods designed to handle outliers."
      ]
    },
    {
      "cell_type": "markdown",
      "metadata": {
        "id": "xaYg4qdSQluB"
      },
      "source": [
        "## Regression\n",
        "Learn about regression, and related statistical tools that pre-process data before regression analysis. See how regression relates to trading and other more advanced methods."
      ]
    },
    {
      "cell_type": "markdown",
      "metadata": {
        "id": "cm6aE_4TQoTr"
      },
      "source": [
        "## Times Series Modelling\n",
        "Learn about advanced methods for time series analysis, including ARMA, ARIMA, Kalman Filters, and  recurrent neural networks."
      ]
    },
    {
      "cell_type": "markdown",
      "metadata": {
        "id": "kyfd6dRdQrgd"
      },
      "source": [
        "## Volatility\n",
        "Learn about stock volatility, and how to GARCH model analysis volatility. See how volatility is used in equity trading."
      ]
    },
    {
      "cell_type": "markdown",
      "metadata": {
        "id": "tWi8owc2QwJm"
      },
      "source": [
        "## Pairs Trading and Mean Reversion\n",
        "Learn about pairs trading, and study the tools used in identifying stock pairs and making trading decisions."
      ]
    },
    {
      "cell_type": "markdown",
      "metadata": {
        "id": "4clcTCkWQ0_Y"
      },
      "source": [
        "## Stocks, Indices, Funds\n",
        "Gain an overview of stocks, indices and funds. Also learn how to construct an index."
      ]
    },
    {
      "cell_type": "markdown",
      "metadata": {
        "id": "RDj_EeFDQ7EP"
      },
      "source": [
        "## ETFs\n",
        "Learn about Exchanged Traded Funds(ETFs) and how they are used by investors and fund managers."
      ]
    },
    {
      "cell_type": "markdown",
      "metadata": {
        "id": "Uqut1WsuQ9-S"
      },
      "source": [
        "## Portfolio Risk and Return\n",
        "Learn the fudamentals of portfolio theory, which are key to designing portfolios for  mutual funds, hedge funds and ETFs."
      ]
    },
    {
      "cell_type": "markdown",
      "metadata": {
        "id": "VcL3JcuyREZe"
      },
      "source": [
        "## Portfolio Optimization\n",
        "Learn how to optimize portfolios to meet certain criteria and constrains. Get hands on experience in optimizatin g a portfolio using the *cvxpy* python library."
      ]
    },
    {
      "cell_type": "markdown",
      "metadata": {
        "id": "rp2G0qSZRJD_"
      },
      "source": [
        "## Factors\n",
        "In the next 7 lessons and project, learn about factor investing and alpha research. These lessons and the project we designed by Jonathan Larkin, equities trader and quant investor."
      ]
    },
    {
      "cell_type": "markdown",
      "metadata": {
        "id": "7eWtlo75RL3X"
      },
      "source": [
        "## Factor Models and Types of Factors\n",
        "Learn the theory of factor models, distinguish alpha and risk factos, and get an overview of types of factors."
      ]
    },
    {
      "cell_type": "markdown",
      "metadata": {
        "id": "5lgBD0gnRRBA"
      },
      "source": [
        "## Risk Factor Models\n",
        "Learn how to model portfolio risk using factors."
      ]
    },
    {
      "cell_type": "markdown",
      "metadata": {
        "id": "LaXHllF7RTgL"
      },
      "source": [
        "## Times Series and Cross Sectional Risk Models\n",
        "Learn about two important types of risk models: time series and cross-sectional risk models."
      ]
    },
    {
      "cell_type": "markdown",
      "metadata": {
        "id": "-3Sls_JpRZWG"
      },
      "source": [
        "## Risk Factor Models with PCA\n",
        "Learn about Principle Component Analysis and how it's used to build risk factor models."
      ]
    },
    {
      "cell_type": "markdown",
      "metadata": {
        "id": "92r6pn7oRdTe"
      },
      "source": [
        "## Alpha Factors\n",
        "Learn about alpha generation and evaluation from a practitioner's perspective."
      ]
    },
    {
      "cell_type": "markdown",
      "metadata": {
        "id": "_4wt2KauRgPr"
      },
      "source": [
        "## Alpha Factor Research Methods\n",
        "Learn about alpha research from a practitioner's perspective."
      ]
    },
    {
      "cell_type": "markdown",
      "metadata": {
        "id": "mTYO1RieRjdy"
      },
      "source": [
        "## Advanced Portfolio Optimization\n",
        "Learn about portfolio optimization usign alpha factors and risk factor models."
      ]
    }
  ]
}