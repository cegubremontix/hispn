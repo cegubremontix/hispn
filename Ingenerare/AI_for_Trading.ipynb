{
  "nbformat": 4,
  "nbformat_minor": 0,
  "metadata": {
    "colab": {
      "name": "AI for Trading.ipynb",
      "provenance": [],
      "toc_visible": true,
      "authorship_tag": "ABX9TyML3lBelUalz9UT2c4vNykP",
      "include_colab_link": true
    },
    "kernelspec": {
      "name": "python3",
      "display_name": "Python 3"
    },
    "language_info": {
      "name": "python"
    }
  },
  "cells": [
    {
      "cell_type": "markdown",
      "metadata": {
        "id": "view-in-github",
        "colab_type": "text"
      },
      "source": [
        "<a href=\"https://colab.research.google.com/github/dbremont/Notas/blob/main/Ingenerare/AI_for_Trading.ipynb\" target=\"_parent\"><img src=\"https://colab.research.google.com/assets/colab-badge.svg\" alt=\"Open In Colab\"/></a>"
      ]
    },
    {
      "cell_type": "markdown",
      "metadata": {
        "id": "tJPw5Df91dQV"
      },
      "source": [
        "# AI for Trading\n",
        "[Ir](https://classroom.udacity.com/nanodegrees/nd880/dashboard/overview)\n",
        "\n",
        "Based on data from 10,000+ students, we recommend spending 10 hours/week in the classroom during your first 2 weeks to give yourself the best chance of success."
      ]
    },
    {
      "cell_type": "markdown",
      "metadata": {
        "id": "GUyWsTjqOkch"
      },
      "source": [
        "## Projects"
      ]
    },
    {
      "cell_type": "markdown",
      "metadata": {
        "id": "-TRTn8kmNV2w"
      },
      "source": [
        "**Trading with Momentum**\n",
        "\n",
        "Learn to implement a trading strategy on your own and test to see if it has the potential to be profitable."
      ]
    },
    {
      "cell_type": "markdown",
      "metadata": {
        "id": "HbPbYSITNvxp"
      },
      "source": [
        "**Breakout Strategy**\n",
        "\n",
        "Implement the breakout strategy, find and remove outliers, and test to see if it can be a profitable strategy."
      ]
    },
    {
      "cell_type": "markdown",
      "metadata": {
        "id": "ENaMWzdcN8a6"
      },
      "source": [
        "**Smart Beta and Portfolio Optimization**\n",
        "\n",
        "Build a smart beta portfolio against an index and optimize a portfolio using quadratic programming."
      ]
    },
    {
      "cell_type": "markdown",
      "metadata": {
        "id": "YCeGFkwqOA1O"
      },
      "source": [
        "**Multi-factor Model**\n",
        "\n",
        "Research and implement alpha factors, build a risk factor model. Use alpha factors and risk factors to optimize a portfolio."
      ]
    },
    {
      "cell_type": "markdown",
      "metadata": {
        "id": "1KDfFL61OJ31"
      },
      "source": [
        "**NLP on Financial Statements**\n",
        "\n",
        "NLP Analysis on 10-k financial statements to generate an alpha factor."
      ]
    },
    {
      "cell_type": "markdown",
      "metadata": {
        "id": "LGdlEBFhONPI"
      },
      "source": [
        "**Sentiment Analysis with Neural Networks**\n",
        "\n",
        "Build a deep learning model to classify the sentiment of messages."
      ]
    },
    {
      "cell_type": "markdown",
      "metadata": {
        "id": "DtpipJqjOQHY"
      },
      "source": [
        "**Combining Signals for Enhanced Alpha**\n",
        "\n",
        "Build a random forest to generate better alpha."
      ]
    },
    {
      "cell_type": "markdown",
      "metadata": {
        "id": "zzT6BlnxOYXA"
      },
      "source": [
        "**Improve Your LinkedIn Profile**\n",
        "\n",
        "Find your next job or connect with industry peers on LinkedIn. Ensure your profile attracts relevant leads that will grow your professional network."
      ]
    },
    {
      "cell_type": "markdown",
      "metadata": {
        "id": "F-FVFB7KObTb"
      },
      "source": [
        "**Optimize Your GitHub Profile**\n",
        "\n",
        "Other professionals are collaborating on GitHub and growing their network. Submit your profile to ensure your profile is on par with leaders in your field."
      ]
    },
    {
      "cell_type": "markdown",
      "metadata": {
        "id": "aMOm9PQpOh8Q"
      },
      "source": [
        "**Backtesting**\n",
        "\n",
        "Build a backtester using Barra data."
      ]
    },
    {
      "cell_type": "markdown",
      "metadata": {
        "id": "mh62nh4-HBxB"
      },
      "source": [
        "## [Give me a Name]"
      ]
    },
    {
      "cell_type": "markdown",
      "metadata": {
        "id": "-JnmgwwaFd0W"
      },
      "source": [
        "What is  a Quant?:\n",
        "\n",
        "  - Quants build computational models of the world, more specific about finantial instruments or markets.\n",
        "\n",
        "  - Quants apply the scientific method to finance.\n",
        "\n",
        "Functions:\n",
        "\n",
        "- Research function\n",
        "- Risk Management\n",
        "- Portfolio Construction\n",
        "- Data Vendors\n",
        "\n",
        "\n",
        "- A model of  a time series\n",
        "- A model of a portfolio\n",
        "- A model of that map unstructure data to structure data\n",
        "\n",
        "\n",
        "- Scientific  Method + Domain Knowlage"
      ]
    },
    {
      "cell_type": "markdown",
      "metadata": {
        "id": "hiQl-ykzIHQ-"
      },
      "source": [
        "## Program Overview [Ir](https://youtu.be/Ci0j_UwLlQQ)\n",
        "\n",
        "- [Insights from a Quant](https://youtu.be/ZRzhyaqz7I0)\n",
        "- [Quant workflow](https://www.youtube.com/watch?v=RomfTrm5_7g)\n",
        "\n",
        "**Two terms**:\n",
        "\n",
        "- Each term contains 4 projects.\n",
        "- Each term takes 3 months to complete.\n",
        "- In the projects is the part in which 'real' learning happends.\n",
        "- **If you pass 'Term 1' you can take 'Term 2'**.\n",
        "- At the end of term two, you will design and evaluate quantitative trading strategies.\n",
        "\n",
        "\n",
        "**Extracurricular Material**\n",
        "\n",
        "As your success in this program depends on you having some knowledge or understanding across a number of topics, we have included additional courses on these topics in the extracurricular section of this program. Specifically, you can find the following courses:\n",
        "\n",
        "- Python Refresher\n",
        "\n",
        "- Jupyter Notebooks, Numpy, and Pandas\n",
        "\n",
        "- Linear Algebra\n",
        "\n",
        "- Statistics\n",
        "\n",
        "- Calculus\n",
        "\n",
        "\n",
        "\n",
        "\n"
      ]
    },
    {
      "cell_type": "markdown",
      "metadata": {
        "id": "Ne21q23_TwAK"
      },
      "source": [
        "## L4 Stock Prices\n",
        "[Ir](https://classroom.udacity.com/nanodegrees/nd880/parts/9a3a9589-7bc6-4694-81e0-8c3cb1aea251/modules/45a9362c-0c15-44f8-b71e-a3c2da3637c4/lessons/eafc55a5-ee28-4c7c-a6da-9be4fac018ba/concepts/06f36095-1c8e-4e91-99f6-79b289ef7196#)"
      ]
    },
    {
      "cell_type": "markdown",
      "metadata": {
        "id": "zvl1X8ERT0GS"
      },
      "source": [
        "- Types of [stocks](https://en.wikipedia.org/wiki/Stock):\n",
        "  - Common\n",
        "  - Preferred\n",
        "\n",
        " Shares of stock?\n",
        "\n",
        "- Split a stock into even millions of shares?\n",
        "- What many shares of a company x has?\n",
        "\n",
        "- What can you do if you 'own' a share of a company?\n",
        "\n",
        "**Common stocks**\n",
        "\n",
        "  - Share holders that own common stock  'usually?'  get a portion of the company profits in the form of dividends if the company distributes them.\n",
        "\n",
        "  - What is a 'divident'?\n",
        "\n",
        "  - Has botting rights.\n",
        "\n",
        "  - Recieve a portion of remaining assets in case of liquidation\n",
        "\n",
        "**Preferred Stock**\n",
        "\n",
        "- Promised a fixed amount of income each year\n",
        "- Get paid before common stock holders get paid dividends\n",
        "- Usually don't have botting wrights\n",
        "\n",
        "**Security**\n",
        "\n",
        "- Finantial instrument that has some type of monetary value.\n",
        "  - i.e Stocks,\n",
        "  - Bonds,\n",
        "  - Options\n",
        "\n",
        "Types:\n",
        "  - Debt Securities\n",
        "  - Derivative Securities  (ie. options, futures)\n",
        "  - Equity Securities   (Equity) (Value of an owned asset minus the amount of all debts or liabilities on that asset) *It's a polysemic word*\n",
        "\n",
        "- Broker (The Middleman):\n",
        " - Connect buyers and sellers.\n",
        "\n",
        "- Sometimes you can buy directly from companies\n",
        "\n",
        "- The Stock Market can be traded to the 'Roman Republic'\n",
        "\n",
        "- The Amsterdam Stock Exchange, it's the first modern market\n",
        "\n",
        "- Market buble: Occurs when market participants drive stock prices above their value in relation 'some system of valuation'\n",
        "\n",
        "  - For more see: \n",
        "    - Rober Shiller work on economic bubble.\n",
        "    - Nassim Taleb work on economic bubble.x"
      ]
    }
  ]
}