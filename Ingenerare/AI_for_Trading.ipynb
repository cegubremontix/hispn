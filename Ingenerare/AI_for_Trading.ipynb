{
  "nbformat": 4,
  "nbformat_minor": 0,
  "metadata": {
    "colab": {
      "name": "AI for Trading.ipynb",
      "provenance": [],
      "toc_visible": true,
      "authorship_tag": "ABX9TyNP26mm8Ihnyi81/goUUpzK",
      "include_colab_link": true
    },
    "kernelspec": {
      "name": "python3",
      "display_name": "Python 3"
    },
    "language_info": {
      "name": "python"
    }
  },
  "cells": [
    {
      "cell_type": "markdown",
      "metadata": {
        "id": "view-in-github",
        "colab_type": "text"
      },
      "source": [
        "<a href=\"https://colab.research.google.com/github/dbremont/Notas/blob/main/Ingenerare/AI_for_Trading.ipynb\" target=\"_parent\"><img src=\"https://colab.research.google.com/assets/colab-badge.svg\" alt=\"Open In Colab\"/></a>"
      ]
    },
    {
      "cell_type": "markdown",
      "metadata": {
        "id": "tJPw5Df91dQV"
      },
      "source": [
        "# AI for Trading\n",
        "[Ir](https://classroom.udacity.com/nanodegrees/nd880/dashboard/overview)\n",
        "\n",
        "Based on data from 10,000+ students, we recommend spending 10 hours/week in the classroom during your first 2 weeks to give yourself the best chance of success."
      ]
    },
    {
      "cell_type": "markdown",
      "metadata": {
        "id": "GUyWsTjqOkch"
      },
      "source": [
        "## Recursos"
      ]
    },
    {
      "cell_type": "markdown",
      "metadata": {
        "id": "BdXW-r6s0r1m"
      },
      "source": [
        "- [Projects](https://colab.research.google.com/github/dbremont/Notas/blob/main/Ingenerate/AI_for_Trading_Projects.ipynb)\n",
        "\n",
        "- [Terminology](https://colab.research.google.com/drive/15AM4LmfHD0uKoj1oO67vplxObIGgsRu6#scrollTo=QqOyFoxpyqQx)\n",
        "\n",
        "- [xarray](http://xarray.pydata.org/en/stable/)\n",
        "\n",
        "- [Open-high-low-close chart](https://stackoverflow.com/questions/468145/what-is-the-difference-between-type-and-class)\n",
        "\n",
        "- https://docs.rastervision.io/en/0.13/\n",
        "\n",
        "* [How to simulate a stock market with less than 10 lines of Python code](https://towardsdatascience.com/how-to-simulate-a-stock-market-with-less-than-10-lines-of-python-code-5de9336114e5)"
      ]
    },
    {
      "cell_type": "markdown",
      "metadata": {
        "id": "mh62nh4-HBxB"
      },
      "source": [
        "## What is a Quant?"
      ]
    },
    {
      "cell_type": "markdown",
      "metadata": {
        "id": "-JnmgwwaFd0W"
      },
      "source": [
        "What is  a Quant?:\n",
        "\n",
        "  - Quants build computational models of the world, more specific about finantial instruments or markets.\n",
        "\n",
        "  - Quants apply the scientific method to finance.\n",
        "\n",
        "Functions:\n",
        "\n",
        "- Research function\n",
        "- Risk Management\n",
        "- Portfolio Construction\n",
        "- Data Vendors\n",
        "\n",
        "\n",
        "- A model of  a time series\n",
        "- A model of a portfolio\n",
        "- A model of that map unstructure data to structure data\n",
        "\n",
        "\n",
        "- Scientific  Method + Domain Knowlage"
      ]
    },
    {
      "cell_type": "markdown",
      "metadata": {
        "id": "hiQl-ykzIHQ-"
      },
      "source": [
        "**Program Overview**\n",
        "\n",
        "- [Program Overview](https://youtu.be/Ci0j_UwLlQQ)\n",
        "\n",
        "- [Insights from a Quant](https://youtu.be/ZRzhyaqz7I0)\n",
        "- [Quant workflow](https://www.youtube.com/watch?v=RomfTrm5_7g)\n",
        "\n",
        "**Two terms**:\n",
        "\n",
        "- Each term contains 4 projects.\n",
        "- Each term takes 3 months to complete.\n",
        "- In the projects is the part in which 'real' learning happends.\n",
        "- **If you pass 'Term 1' you can take 'Term 2'**.\n",
        "- At the end of term two, you will design and evaluate quantitative trading strategies.\n",
        "\n",
        "\n",
        "**Extracurricular Material**\n",
        "\n",
        "As your success in this program depends on you having some knowledge or understanding across a number of topics, we have included additional courses on these topics in the extracurricular section of this program. Specifically, you can find the following courses:\n",
        "\n",
        "- Python Refresher\n",
        "\n",
        "- Jupyter Notebooks, Numpy, and Pandas\n",
        "\n",
        "- Linear Algebra\n",
        "\n",
        "- Statistics\n",
        "\n",
        "- Calculus\n",
        "\n",
        "\n",
        "\n",
        "\n"
      ]
    },
    {
      "cell_type": "markdown",
      "metadata": {
        "id": "Ne21q23_TwAK"
      },
      "source": [
        "## Stock Prices\n",
        "Learn about stocks and common terminology used when analyzing stocks.\n",
        "\n",
        "[Ir](https://classroom.udacity.com/nanodegrees/nd880/parts/9a3a9589-7bc6-4694-81e0-8c3cb1aea251/modules/45a9362c-0c15-44f8-b71e-a3c2da3637c4/lessons/eafc55a5-ee28-4c7c-a6da-9be4fac018ba/concepts/06f36095-1c8e-4e91-99f6-79b289ef7196#)"
      ]
    },
    {
      "cell_type": "markdown",
      "metadata": {
        "id": "zvl1X8ERT0GS"
      },
      "source": [
        "- Types of [stocks](https://en.wikipedia.org/wiki/Stock):\n",
        "  - Common\n",
        "  - Preferred\n",
        "\n",
        " Shares of stock?\n",
        "\n",
        "- Split a stock into even millions of shares?\n",
        "- What many shares of a company x has?\n",
        "\n",
        "- What can you do if you 'own' a share of a company?\n",
        "\n",
        "**Common stocks**\n",
        "\n",
        "  - Share holders that own common stock  'usually?'  get a portion of the company profits in the form of dividends if the company distributes them.\n",
        "\n",
        "  - What is a 'divident'?\n",
        "\n",
        "  - Has botting rights.\n",
        "\n",
        "  - Recieve a portion of remaining assets in case of liquidation\n",
        "\n",
        "**Preferred Stock**\n",
        "\n",
        "- Promised a fixed amount of income each year\n",
        "- Get paid before common stock holders get paid dividends\n",
        "- Usually don't have botting wrights\n",
        "\n",
        "**Security**\n",
        "\n",
        "- Finantial instrument that has some type of monetary value.\n",
        "  - i.e Stocks,\n",
        "  - Bonds,\n",
        "  - Options\n",
        "\n",
        "Types:\n",
        "  - Debt Securities\n",
        "  - Derivative Securities  (ie. options, futures)\n",
        "  - Equity Securities   (Equity) (Value of an owned asset minus the amount of all debts or liabilities on that asset) *It's a polysemic word*\n",
        "\n",
        "- Broker (The Middleman):\n",
        " - Connect buyers and sellers.\n",
        "\n",
        "- Sometimes you can buy directly from companies\n",
        "\n",
        "- The Stock Market can be traded to the 'Roman Republic'\n",
        "\n",
        "- The Amsterdam Stock Exchange, it's the first modern market\n",
        "\n",
        "- Market buble: Occurs when market participants drive stock prices above their value in relation 'some system of valuation'\n",
        "\n",
        "  - For more see: \n",
        "    - Rober Shiller work on economic bubble.\n",
        "    - Nassim Taleb work on economic bubble.x"
      ]
    },
    {
      "cell_type": "markdown",
      "metadata": {
        "id": "drlNeU4bjua3"
      },
      "source": [
        "**How to buy stocks?**\n",
        "\n",
        "  - Sometimes from copanies.\n",
        "  - But the mayority of the time from *brokers*."
      ]
    },
    {
      "cell_type": "markdown",
      "metadata": {
        "id": "gqlB4doRpYuy"
      },
      "source": [
        "## Market Mechanism\n",
        "Learn about how modern stock markets function, how trades are executed and prices are set. Study market behavior, and analyze price and volume data to identify potential trading signals.\n",
        "\n",
        "[Ir](https://classroom.udacity.com/nanodegrees/nd880/parts/9a3a9589-7bc6-4694-81e0-8c3cb1aea251/modules/45a9362c-0c15-44f8-b71e-a3c2da3637c4/lessons/acf72c80-6f2c-4acb-b0d2-5f1d85b35d84/concepts/last-viewed)"
      ]
    },
    {
      "cell_type": "markdown",
      "metadata": {
        "id": "U8W8WeVWpWG6"
      },
      "source": [
        "\n",
        "\n",
        "1. Simple market simulator.\n",
        "2. When look at the data see what signal it may carried.\n",
        "3. Data about closing and opening of global markets.\n",
        "\n",
        "- The range of the prices of a product is usually get determine's by the lower price the seller is willing to sell, and the highest price that the buyer is willing to buy."
      ]
    },
    {
      "cell_type": "markdown",
      "metadata": {
        "id": "COzCN0FppnGi"
      },
      "source": [
        "**Trading Stocks**\n",
        "\n",
        "- When a company issue stock for the first time is select the price using companies metrics, assets, etc. But since then the prices of the stock are driven by demand.\n",
        "\n",
        "- How to quantify demand?\n",
        "  - How many orders for a stock, and the price.\n",
        "  - Stock Exchange keep track of this data.\n",
        "\n",
        "- Placin a bit.\n",
        "- Market queue.\n",
        "- Buy queue.\n",
        "- Sell queue.\n",
        "\n",
        "- How to buy inmediatly withot bitting?\n",
        "  - Current price of the stock.\n",
        "  - This is a market order.\n",
        "  - Market Maker:\n",
        "    - Obligated to buy and sell at the stock market price  (Designated by the stock exchange).\n",
        "\n",
        "  - Bid-Ask spread\n"
      ]
    },
    {
      "cell_type": "markdown",
      "metadata": {
        "id": "tRCTb7G_pjnc"
      },
      "source": [
        "**Liquidity**\n",
        "\n",
        "- Is the ability to trade an asset at a stable price.\n",
        "  - when ca buy and sell as much as we like, and that would no change the prices.\n",
        "\n",
        "- **Cash is considered the most liquid asset**, because it can be readily traded for other assets.\n",
        "\n",
        "  - This might not be intuitive, but it helps to think about cash as a financial instrument like any other. Changing currency values can make it worth more or less, just like stocks, but usually the value of cash reduces over time due to inflation.\n",
        "\n",
        "- The same stock can be traded in different markets.\n",
        "\n",
        "- Profiting from market inneficiencies, buy making money buing stock at different prices in markets, the idea is called **arbitraged**."
      ]
    },
    {
      "cell_type": "markdown",
      "metadata": {
        "id": "3WOdUddNpg_M"
      },
      "source": [
        "**Tick Data**\n",
        "\n",
        "- Stream of data that include each individual trade.\n",
        "- Tick price.\n",
        "- Market data.\n",
        "- The new york stock exchange make billions of trades per day.\n",
        "- Market data can be summarize."
      ]
    },
    {
      "cell_type": "markdown",
      "metadata": {
        "id": "EqQvohqrpent"
      },
      "source": [
        "**OHLC: Open, High,Low, Close**\n",
        "\n",
        "- Summarize price movements of stock prices.\n",
        "- Premarket trading.\n",
        "- Trading in others markets."
      ]
    },
    {
      "cell_type": "markdown",
      "metadata": {
        "id": "L3O4S1xf3F_3"
      },
      "source": [
        "Resampling Data\n",
        "\n",
        "- [Pandas Resampling](https://pandas.pydata.org/pandas-docs/stable/user_guide/timeseries.html#resampling)\n",
        "\n",
        "- It has todo with time data."
      ]
    },
    {
      "cell_type": "markdown",
      "metadata": {
        "id": "Roq2AnYOAdMg"
      },
      "source": [
        "**Volume**\n",
        "\n",
        "- Another metric for  number of shares that are trated over a period of time.\n",
        "\n",
        "- Often show at the botton of an ohlc.\n",
        "\n",
        "- Great signal.\n",
        "\n",
        "- Signal\n",
        "\n",
        "  - If the volume traded increase, usually the price of the stock increse.\n",
        "\n",
        "  - If the volume traded decrease, usually the price of the stock decrese.\n",
        "\n",
        "- How volume affect the prices?\n",
        "\n"
      ]
    },
    {
      "cell_type": "markdown",
      "metadata": {
        "id": "FacPSDgWC1N6"
      },
      "source": [
        "**Gaps in Market Data**\n",
        "\n",
        "- Markets are usually closed on weekend, holydays, and they usually open from *9:00 am* to *4:00 pm*.\n",
        "\n",
        "- So some time metrics can give you innacurate results if you don't consider this gaps."
      ]
    },
    {
      "cell_type": "markdown",
      "metadata": {
        "id": "5X9RqxnHDbqC"
      },
      "source": [
        "**Markets In Different Timeszones**\n",
        "\n",
        "- When an stock is trated in markets with different time-zones, there is a posibility to make money with this. But as we know, others traders will notice this.\n",
        "\n",
        "- Gush, trading is very game theoretic."
      ]
    },
    {
      "cell_type": "markdown",
      "metadata": {
        "id": "_719kdQ6QIUz"
      },
      "source": [
        "## Data Processing\n",
        "\n",
        "[Ir](https://classroom.udacity.com/nanodegrees/nd880/parts/9a3a9589-7bc6-4694-81e0-8c3cb1aea251/modules/45a9362c-0c15-44f8-b71e-a3c2da3637c4/lessons/f5374d2b-5e18-42f0-9ec4-44bcbe981d33/concepts/55aecdab-707f-4edb-9311-fc59751f2d7c)\n",
        "\n",
        "Learn how to adjust market data for corporate actions, include fundamental information in your analysis and compute technical indicators."
      ]
    },
    {
      "cell_type": "markdown",
      "metadata": {
        "id": "xAc1Gv6JZqPg"
      },
      "source": [
        "- Market data data about each trade event, it's called a tick.\n",
        "\n",
        "- Tick\n",
        "  - Date\n",
        "  - Time\n",
        "  - Ticker(Stock)\n",
        "  - Quote Data\n",
        "    - Bid Size\n",
        "    - Bid\n",
        "    - Ask\n",
        "  - Traded data\n",
        "    - Last Trade \n",
        "    - Volume\n",
        "\n",
        "- When are the timestamp needed?"
      ]
    },
    {
      "cell_type": "markdown",
      "metadata": {
        "id": "qr-UnKrEbGKk"
      },
      "source": [
        "[**Corporate Actions**](https://en.wikipedia.org/wiki/Corporate_action)\n",
        "\n",
        "- **Stock Splits**: Split all the stocks in two for example half, also spliting the value, so you're amount of stock doubles, but theire value it's the same. An the market capitalization of the company is equal.\n",
        "\n",
        "  - Why I company my split the stocks?\n",
        "    - To make the stock more liquid. \n",
        "    - Buy and sell at more granularity.\n",
        "    - Less expensive stocks are said to be liquid.\n",
        "    - How to ajust the prices before the split, because it if not it will appear before the split. (Adjusted price)\n",
        "\n",
        "    - How to ajust the prices before the split, because it if not it will appear before the split. (Adjusted price)\n",
        "\n",
        "- **Aside**: Although a stock split shouldn’t theoretically affect the market cap of a stock, in reality it does! There are some intriguing behavioral patterns that researchers have observed among traders. One seems to suggest that after a stock splits, and the price drops considerably, people seem to think it is going to go back up to the previous price (double or triple)! This creates an artificial demand for the stock, which in turn actually pushes up the price.\n",
        "\n",
        "- [**Dividents**](https://en.wikipedia.org/wiki/Dividend) **No Entiendo**:\n",
        "  - Partial cash distribution of company earnings with the share holders.\n",
        "  - Qualqom pay dividents by the stacke-holders.\n",
        "  - Not all companies pay divident. You have to see the specific stocks.\n",
        "  - Adjuted Price Factor $1 + \\frac{D}{S}$,\n",
        "  - Where\n",
        "    - $D$: Divident\n",
        "    - $S$: stock price at ex-divident date\n",
        "  - who will recieve the dividents.\n"
      ]
    },
    {
      "cell_type": "markdown",
      "metadata": {
        "id": "WQrLXr2SynRL"
      },
      "source": [
        "**Technical Indicators**\n",
        "\n",
        "- [Exchange-traded_fund](https://en.wikipedia.org/wiki/Exchange-traded_fund)\n",
        "\n",
        "- [Stock market index](https://en.wikipedia.org/wiki/Stock_market_index)"
      ]
    },
    {
      "cell_type": "markdown",
      "metadata": {
        "id": "aBiQqCsXy9o3"
      },
      "source": [
        "**Missing Values**"
      ]
    },
    {
      "cell_type": "markdown",
      "metadata": {
        "id": "0n_hIpD0zCJY"
      },
      "source": [
        "[**Trading Experiment**](https://classroom.udacity.com/nanodegrees/nd880/parts/9a3a9589-7bc6-4694-81e0-8c3cb1aea251/modules/45a9362c-0c15-44f8-b71e-a3c2da3637c4/lessons/f5374d2b-5e18-42f0-9ec4-44bcbe981d33/concepts/04b89cd5-361c-4e87-a50f-dd515008834a)\n",
        "\n",
        "Experiment A: Randomly select a smattering of 100 stocks that are trading today, simulate buying them in 2005, or whenever they went public, investing equally in each, and hold on to them till the present day. Don’t try to apply any strategy, just pick stocks randomly!\n",
        "\n",
        "Experiment B: Randomly select another collection of 100 stocks, but this time, from those that were trading in 2005. Again, simulate buying them in 2005, investing uniformly, and hold on to them.\n",
        "\n",
        "Repeat these experiments multiple times and calculate the total return on your investment in each case. Now, would you expect the mean return for A to be significantly higher or lower than that of B? See if you can spot a clear difference.\n",
        "\n",
        "*Todo simulation*"
      ]
    },
    {
      "cell_type": "markdown",
      "metadata": {
        "id": "tIyokx1TzGMs"
      },
      "source": [
        "**Survibor Bias**\n",
        "\n",
        "- Looking from the present and choosing stocks to analyze data, select the stock that survibe util today, and *filter* the stocks that has failed."
      ]
    },
    {
      "cell_type": "markdown",
      "metadata": {
        "id": "eHUvWoLEzLJO"
      },
      "source": [
        "**Fundamental Analysis**\n",
        "**TODO summarize**\n",
        "\n",
        "- Fundamental analysis of a company involves looking at a company’s balance sheet and cash flow statements, which are usually updated every quarter, which is every three months when the company reports earnings. It’s important to keep in mind that looking at a single quarter’s metrics is only a snapshot of the company, and there are several metrics that each try to capture the health of the company, but in slightly different ways.\n",
        "\n",
        "- In a way, analyzing a company’s fundamentals is like going on a safari taking photographs of an antelope. A single still photo from one angle may tell you some things about the antelope, but taking multiple photos from different angles will give you a better view. Also, taking multiple photos over time will give you a sense of where the antelope is going. So before we introduce some commonly used metrics, please keep in mind that to get a better picture of a company that you’re trying to analyze, you’ll want to look at a collection of different measures over time.\n",
        "\n",
        "**Some metrics**\n",
        "\n",
        "\n",
        "- Sales Per Share\n",
        "  - A company’s revenue is based on its sales over that quarter, so we can think of sales and revenue as referring to the same thing. It’s a quick way to get a sense for how a company is doing, because we don’t have to subtract out cost of sales, which depends a bit on some accounting decisions. For example, if a company sells a million smartphones for a hundred dollars each over the past 3 months, then its revenue is USD100 times 1 million, or USD100 million. If the company issued ten million shares, then its sales per share is USD100 million divided by ten million, or $10 per share.\n",
        "\n",
        "  - You may be wondering why we bother dividing sales by the number of shares. This helps shareholders get a sense of how much the sales figures might impact a change in a single share price. You can imagine that if the company only issued 10 shares, a report of higher sales than forecasted would impact each share more than if the company issued ten million shares.\n",
        "\n",
        "  - Also, note that sales of USD10 per share probably does not mean that the shareholders will get USD10 for each share that they own, or that their stock price will increase by USD10. It costs money for the company to make each smartphone. Let’s take a look at a metric that accounts for cost of sales next.\n",
        "\n",
        "- Earnings Per Share\n",
        "  - Earnings is the company’s revenue minus its cost of sales. Cost of sales refers to the cost of manufacturing the phone, employee wages, rent payments for office space, and the cost of equipment, like machines that make the phones. Earnings gives investors a sense of how much the equity of the company has changed over the past 3 months. Recall that stock represents a fractional ownership of a company’s equity.\n",
        "\n",
        "  - Continuing with the smartphone company example, let’s say we can estimate the cost of sales per phone to be USD80 per phone. If the sales per phone is USD100, then the earnings per phone is USD100 - USD80 equals USD20 per phone. With sales of one million phones, earnings would be $20 times one million, or USD20 million.\n",
        "\n",
        "  - With ten million shares, this is earnings of USD20 million divided by ten million shares, which is USD2 earnings per share.\n",
        "\n",
        "  - Note again, that this USD2 per share doesn’t mean that investors automatically receive an additional $2 per share in their pocket. Let’s look at one way that investors do receive some of those earnings by looking at dividends.\n",
        "\n",
        "- Dividends Per Share\n",
        "  - After a company has positive earnings, they may decide to either reinvest the cash in growing the company’s business. A company’s executives are usually expected to make spending decisions based on maximizing shareholder value. Whether this always happens in practice is debatable, but ideally, if the executives decide that re-investing in the business yields lower returns than an investor could gain from investing in a similar business at the same level of risk, they will give some of the earnings to shareholders as cash. This cash is referred to as dividends.\n",
        "\n",
        "  - Let’s say, for example, that the smartphone company decides to return USD10 million of its earnings to its shareholders. The dividend per share is then USD10 million divided by 10 million, or USD1 per share."
      ]
    },
    {
      "cell_type": "markdown",
      "metadata": {
        "id": "X1EBlAPh0Kpa"
      },
      "source": [
        "**Price to Earnings Ratio**\n",
        "\n",
        "**todo summarize**\n",
        "\n",
        "A term you’ll see often is price to earnings ratio, or PE ratio for short. This is the stock’s current market price divided by its most recently reported earnings per share (EPS). You can sort of interpret the PE ratio as how much the company is valued compared to how much money it made. It’s important to be careful about how we interpret a high or low PE ratio, because we can’t say whether a PE ratio is good or bad by looking at it in isolation. Let’s first look at where the price comes from. This market price of a share is based on the collective estimates by investors of the company’s current equity plus its future earnings. The future earnings are based on estimates of future cash flow, which are then adjusted to their present-day value, or Present Value (PV). This is getting a bit outside the scope of what you’ll need to know for this course, but the point we want you to remember is that the market price of a stock is based on both its current assets minus liabilities, but also estimates of the company’s future performance.\n",
        "\n",
        "Now coming back to the PE ratio. What does it mean to have a high PE ratio? A company may have low or negative earnings, but a high stock price. Why do you think that is? You may have heard of certain startups that are valued at billions of dollars, and yet have low earnings. This is because investors expect potential for high earnings growth, based on the trajectory of past earnings growth. This also means that investors are estimating that the high stock price relative to earnings will be justified by high future earnings. On the other hand, it’s also possible that investor optimism towards the company’s future never materializes, in which case the stock may be overpriced.\n",
        "\n",
        "Note also that a low PE ratio can also be due to different underlying reasons. An example of a company with a low PE ratio may be one that has high and stable earnings, but less expectations for future growth. Since the company may decide that its investors are better off receiving earnings as dividends instead of reinvesting earnings into the business, the earnings will be distributed as cash to shareholders. This also means that the stock price itself represents the value of the company excluding the cash that was already distributed to these shareholders. Again, keep in mind that a low PE ratio can also be a sign of something else. If a company is expected to face pressure from competitors or government regulation that reduce their expectations for future earnings, then investors may pay a lower price for each share, and that could also result in a lower PE ratio.\n",
        "\n",
        "In practice, you’ll want to see how a company’s PE ratio compares to other similar companies in the same industry and same geographic region.\n",
        "\n",
        "You’ll see PE ratios again in later lessons, so for now, just remember that it’s one of many ways to take a snapshot of a company’s financial health."
      ]
    },
    {
      "cell_type": "markdown",
      "metadata": {
        "id": "mpCQCTxp0WwF"
      },
      "source": [
        "[**Exchange Traded Funds**](https://en.wikipedia.org/wiki/Exchange-traded_fund)\n",
        "\n",
        "- Goals of a trading algorithm\n",
        "- Portafolio\n",
        "  - Good returns\n",
        "  - Reduced risks\n",
        "\n",
        "- Index vs ETF? **todo**"
      ]
    },
    {
      "cell_type": "markdown",
      "metadata": {
        "id": "qwhnIWdN28YD"
      },
      "source": [
        "**Alternative Information**\n",
        "\n",
        "Fundamental sources of information:\n",
        "\n",
        "- market data,\n",
        "- corporate actions,\n",
        "- fundamental information,\n",
        "- compositional data\n",
        "\n",
        "Other sources:\n",
        "\n",
        "- news,\n",
        "- satellite images to stimate crop yields,\n",
        "- consumer data to predict sales"
      ]
    },
    {
      "cell_type": "markdown",
      "metadata": {
        "id": "f4bsZltP3ri4"
      },
      "source": [
        "**Interview: Satelite Data**\n",
        "\n",
        "- What data can be gather by satelites, and how that data applies to finance and other industries.\n",
        "\n",
        "- Terrestrial datasets,\n",
        "- location, \n",
        "- zoom habilities of an image,\n",
        "- detecting *road* for logistics.\n",
        "\n",
        "**skills**\n",
        "\n",
        "- remote sensing data is produce.\n",
        "- QGIS\n",
        "- CNN'S\n",
        "- ARN'S\n",
        "- Spatial resolution\n",
        "- wavelenth measurement\n",
        "- temporal resolution\n",
        "- spaciotemporal data\n",
        "\n",
        "domain knowldge will help to balance all the paraments of a model:\n",
        "\n",
        "\n",
        "1. training time,\n",
        "2. computer time,\n",
        "3. acurracy,\n",
        "4. ...\n",
        "\n",
        "**resources**\n",
        "\n",
        "- nasa datasets.\n",
        "- robustsat\n",
        "- [raster vision](https://rastervision.io/)"
      ]
    },
    {
      "cell_type": "markdown",
      "metadata": {
        "id": "l9sjkTZRQK3Y"
      },
      "source": [
        "## Stock Returns\n",
        "Learn how to calculate stock returns, and log returns in particular. Learn why log returns are used to analyze finalcial data."
      ]
    },
    {
      "cell_type": "markdown",
      "metadata": {
        "id": "mLbTb-Vm8cw8"
      },
      "source": [
        "**Returns**\n",
        "\n",
        "- *How to quantify changes of prices overtime.*\n",
        "\n",
        "The raw return may be referred to simply as the return, or alternatively, as the percentage return, linear return, or simple return. It is defined as\n",
        "\n",
        "$r = \\frac{p_t - p_{t-1}}{p_{t-1}} $\n",
        "\n",
        "- How much my investment produce?"
      ]
    },
    {
      "cell_type": "markdown",
      "metadata": {
        "id": "T-7Ft3Sml8tP"
      },
      "source": [
        "**Log Returns**\n",
        "\n",
        "- log return = $R = \\ln\\left(\\frac{p_t}{p_{t-1}}\\right)$\n",
        "- raw return = $r = \\frac{p_t - p_{t-1}}{p_{t-1}}$\n",
        "\n",
        "- Converting between raw returns and log returns\n",
        "  - $R = \\ln(r+1)$\n",
        "\n",
        "  - $r = e^R - 1$ \n",
        "\n",
        "- Why log returns?\n",
        "- Derive  the formula?\n",
        "​\t"
      ]
    },
    {
      "cell_type": "markdown",
      "metadata": {
        "id": "cnyOfW0Yn_TV"
      },
      "source": [
        "**Quiz: Log Returns and Compounding**\n",
        "\n",
        "- [Ir](https://classroom.udacity.com/nanodegrees/nd880/parts/9a3a9589-7bc6-4694-81e0-8c3cb1aea251/modules/45a9362c-0c15-44f8-b71e-a3c2da3637c4/lessons/23490821-c10a-4152-be81-309afd51ba89/concepts/788f09ae-8d6f-4506-a5ea-717ff0bfeb29)\n",
        "\n",
        "- This is a natural feedback mechanism.\n",
        "- **Compounding** is the process by which an asset’s earnings are **reinvested** to generate additional earnings, that is to say, earning interest on interest.\n",
        "- **Rates of Compounding**: A statement by a bank that the interest rate on one-year deposits is 4% per year sounds straightforward and unambiguous. In fact, its **precise meaning** depends on the way the interest rate is measured. For an interest rate statement to be clear, the **magnitude** and **time dependence** of the rate of interest, as well as the **frequency** of compounding, must be clearly stated. \n",
        "\n",
        "**Continuous Compounding**\n",
        "\n",
        "- **Compounding Formula**\n",
        "  - $p_t = p_{t-1}(1 + \\frac{r}{n})^n$\n",
        "- \t$\\lim_{n \\to -\\infty} (1 + \\frac{r}{n})^n = e^r$\n",
        "\n",
        "Play with to understand the notion of limits here:\n",
        "\n",
        "- compounding frequency    -    Value of $100  after 1 yera\n",
        "  - Anually \n",
        "  - Semi-annually\n",
        "  - Quaterly\n",
        "  - Monthly\n",
        "  - Weekly\n",
        "  - Daily\n",
        "\n",
        "- **Continuously Compounded Return**\n",
        "- **Annualized Rate of Return**\n",
        "- **Time Additivity of Log Returns**\n",
        "- **Numerical Stability**\n",
        "  - Multiplication of many small numbers can result in the problem that the product is smaller than the smallest number representable in computer memory. Sometimes the computation will incorrectly yield the value 0. This is called *arithmetic underflow*. The use of logarithms can help with this, since it enables the representation of much smaller (and much larger) numbers. \n",
        "  - **How can i represent numbers with logarithms?**\n",
        "\n"
      ]
    },
    {
      "cell_type": "markdown",
      "metadata": {
        "id": "uVXYyu6psKHu"
      },
      "source": [
        "**Distributions of Returns and Prices**\n",
        "\n",
        "- Investors are always interested in the potential appreciation or depreciation of financial assets. \n",
        "\n",
        "- They'd like to be able to predict what will happen to assets in the future, hence, they'd like to be able to **build models of stock prices and returns**. An important first step is to think of these prices and returns as **random variables**, i.e. outcomes of random phenomena, that take on values as described by distributions. Distributions allow us to summarize the behavior of random variables.\n",
        "\n",
        "- One strategy for getting a sense of potential future behavior is to look to the past. Let's look at some data from the stock of a familiar company with a storied past, Apple Inc.\n",
        "\n",
        "**Returns and the Historical Record**\n",
        "\n",
        "- In general, the normal distribution can be a reasonable approximation for short-term returns and log returns for some applications. However, many analyses have shown that the data do not conform perfectly to a normal distribution, and often deviate significantly in the tails. The significance of this is that the normal distribution predicts fewer extreme events than are actually observed. The conversation about the best model for the distribution of returns has been going on for at least the past century. The best model will depend on exactly what your analysis seeks to achieve.\n",
        "\n",
        "**Normality and Long-Term Investments**\n",
        "\n",
        "- *Central Limit Theory*: The sum of random variables that has the same distribution and are not dependent on each other approaches  a normal distribution  and the limit that the number of random variables and the sum goes to infinity.\n",
        "\n",
        "- $Y$ ~ normal -> $e^Y$ ~ log-normal.\n",
        "- if $log(p_t)$ ~ normal, then $e^{log(p_t)} == p_t$ ~ log-normal.\n",
        "\n",
        "- These distributions can be convenient models, but don't confuse them with actual distributions of **stock prices** or **returns**.\n",
        "\n",
        "**Distribution of Log Returns**"
      ]
    },
    {
      "cell_type": "markdown",
      "metadata": {
        "id": "wo9JvM2CyX9C"
      },
      "source": [
        "**Why Log Returns?**\n",
        "\n",
        "Let's summarize what we just learned. These are some generally accepted reasons that quantitative analysts use log returns:\n",
        "\n",
        "1. Log returns can be interpreted as continuously compounded returns.\n",
        "\n",
        "2. Log returns are time-additive. The multi-period log return is simply the sum of single period log returns.\n",
        "\n",
        "3. The use of log returns prevents security prices from becoming negative in models of security returns.\n",
        "\n",
        "4. For many purposes, log returns of a security can be reasonably modeled as distributed according to a normal distribution.\n",
        "\n",
        "5. When returns and log returns are small (their absolute values are much less than 1), their values are approximately equal.\n",
        "\n",
        "5. Logarithms can help make an algorithm more numerically stable.\n",
        "\n",
        "*Make examples of those benefits?*"
      ]
    },
    {
      "cell_type": "markdown",
      "metadata": {
        "id": "BlmbuX7kQcva"
      },
      "source": [
        "## Momentum Trading\n",
        "Learn about alpha signals, and how they can be applied to a long/short trading strategy. Learn about momentum, a common alpha signal used in trading strategies."
      ]
    },
    {
      "cell_type": "markdown",
      "metadata": {
        "id": "ZR4IEEtZy8Rv"
      },
      "source": [
        "**Designing a Trading Strategy**\n",
        "\n",
        "- *A trading strategy* is a set of rules and steps that determine what stocks to trade, when to trade, and how much money to invest.\n",
        "\n",
        "- Goals: Generate Money, Reduced Risks.\n",
        "\n",
        "- Signals\n",
        "\n",
        "- Trading is game theoretical, if a trading idea, signal, strategy became popular, then it will not be effective, because everyone will try to explot it. So you will loose your competitive advandaged.\n",
        "\n",
        "- **Trading hypothesis**: \"oil stocks that devite from the oil sector index boyond a certain *treshhold* are bound to fall back\"\n",
        "\n",
        "- Whatever you *trading idea* is, you must tested agains data."
      ]
    },
    {
      "cell_type": "markdown",
      "metadata": {
        "id": "Wxl33T5s0k4i"
      },
      "source": [
        "**Momentum-based signals**\n",
        "\n",
        "- Newton's first law of motion.\n",
        "- Behavior of stocks prices.\n",
        "- Stocks prices momentum.\n",
        "  - People under-react to news, and it builds up over time,  producing a prolongd effect over prices.\n",
        "  - ...\n",
        "\n",
        "Techniques for Momentum signals:\n",
        "- Technical Indicadors (Moving averages, volume, new highs)\n",
        "\n",
        "- *Momentum* as a market phenomenan.\n",
        "\n",
        "- *Momentum* is an empirically observed phenomenon that past \"winners\" tend to continue to outperform other stocks and past \"losers\" continue to underperform."
      ]
    },
    {
      "cell_type": "markdown",
      "metadata": {
        "id": "Hb_emT3nWTMH"
      },
      "source": [
        "**Finding Alpha**\n",
        "\n",
        "- Alpha Research\n",
        "- Backtesting"
      ]
    },
    {
      "cell_type": "markdown",
      "metadata": {
        "id": "W3uX87Fg2TBo"
      },
      "source": [
        "**Long and Short Positions**\n",
        "\n",
        "**Portfolio**\n",
        "\n",
        "A portfolio is a collection of investments held and/or managed by an investment company, hedge fund, financial institution or individual.\n",
        "\n",
        "**Long**\n",
        "\n",
        "A long (or long position) is the purchase of an asset under the expectation that the price of the asset will rise.\n",
        "\n",
        "**Short**\n",
        "\n",
        "A short (or short position) is the selling of an asset under the expectation that the price of the asset will decline. In practice, an investor profits from a short position by borrowing shares from a brokerage firm (agreeing to pay an interest rate as a fee), selling them on the open market, and later buying them back on the open market at a lower price and returning them to the brokerage firm.\n",
        "\n",
        "- Closing position\n",
        "- Downward momentum"
      ]
    },
    {
      "cell_type": "markdown",
      "metadata": {
        "id": "b8-XQBa57lhJ"
      },
      "source": [
        "**Trading Strategy**\n",
        "\n",
        "- [Ir](https://classroom.udacity.com/nanodegrees/nd880/parts/9a3a9589-7bc6-4694-81e0-8c3cb1aea251/modules/45a9362c-0c15-44f8-b71e-a3c2da3637c4/lessons/1d1fa7a8-8724-4c39-bfb4-8eff55a7f287/concepts/29449a1e-519d-4955-b43c-9af2db89748e)\n",
        "\n",
        "- *Stock universe*: stocks that shares features.\n",
        "- Long  Portafolio\n",
        "- Short Portafolio"
      ]
    },
    {
      "cell_type": "markdown",
      "metadata": {
        "id": "htdgNI60EbR1"
      },
      "source": [
        "**Statistical Analysis**\n",
        "\n",
        "[Ir](https://classroom.udacity.com/nanodegrees/nd880/parts/9a3a9589-7bc6-4694-81e0-8c3cb1aea251/modules/45a9362c-0c15-44f8-b71e-a3c2da3637c4/lessons/1d1fa7a8-8724-4c39-bfb4-8eff55a7f287/concepts/c14cb442-171c-468f-8f8c-37cc64e4284e)\n",
        "\n",
        "Resources:\n",
        "\n",
        "- [Intro to Descriptive Statistics](https://www.udacity.com/course/intro-to-descriptive-statistics--ud827)\n",
        "\n",
        "- [Intro to Inferential Statistics](https://www.udacity.com/course/intro-to-inferential-statistics--ud201)\n",
        "\n",
        "Ideas:\n",
        "\n",
        "- Montly Portafolio Returns\n",
        "- Mean Return\n",
        "- t-Statistic\n",
        "- Standard Error of the Mean\n",
        "- p-value\n",
        "- t-distribution\n",
        "- t-Test\n",
        "- p-value > alpha: The mean return may actually be zero.\n",
        "- p-value <= alpha : The mean return is likely greater than zero.\n",
        "- Cross-sectional momentum strategy\n",
        "- p-hacking\n",
        "\n",
        "How to create an **strategy that outperform** the market?\n",
        "\n",
        "How to test an strategy?"
      ]
    },
    {
      "cell_type": "markdown",
      "metadata": {
        "id": "KACmD1EqGGkk"
      },
      "source": [
        "**The Many Meanings of \"Alpha\"**\n",
        "\n",
        "Disambiguation of the term “Alpha”\n",
        "\n",
        "You will hear the term “alpha” throughout this program, so we want to let you know early on that the term “alpha” is used to mean multiple things in the investment industry.\n",
        "\n",
        "**In mathematics**, you’ll see alpha refer to the significance level of a hypothesis test. In regression, you’ll see alpha refer to the y-intercept of a straight line.\n",
        "\n",
        "**In finance**, alpha refers to multiple distinct but somewhat related ideas. The common thread among these definitions is that alpha is the extra value that an investment professional can add to the performance of an investment.\n",
        "\n",
        "One specific definition of alpha is the extra return that an actively managed fund can deliver, that exceeds the performance of passively investing (buy and hold) in a portfolio of stocks. Another specific definition of alpha, which we’ll primarily focus on in this course, is that of an alpha vector.\n",
        "\n",
        "An **alpha vector** is a list of numbers, one for each stock in a portfolio, that gives us a signal as to the relative future performance of these stocks. You’ll learn more about **alpha vectors** throughout term 1.\n",
        "\n",
        "In this lesson, you may have noticed that we use “alpha” in the statistical sense when we talked about hypothesis testing. We also used it when saying that we may “find alpha” in a strategy. This second usage refers to outsized performance, or better-than-passive performance that a finance professional can add to an investment. Later on, we will use it in the sense of an alpha vector, which is a list of numbers that give us a signal about the relative performance of each stock."
      ]
    },
    {
      "cell_type": "markdown",
      "metadata": {
        "id": "rNiiykVUQesR"
      },
      "source": [
        "## Quant Workflow\n",
        "Learn about the overrall quant workflow, including alpha signal generation, alpha combination, portfolio optimization, and trading."
      ]
    },
    {
      "cell_type": "markdown",
      "metadata": {
        "id": "a_-nwQLz6Jq1"
      },
      "source": [
        "**Startting from a Hypothesis**\n",
        "\n",
        "- Quantitative Trading: Use statistics to model and predict the markets, to make the best trading decistions that is  posible.\n",
        "\n",
        "- Hypothesis: An idea of how the work may word, that is not yet testet, if i is tested then it became a theory or maybe low.\n",
        "\n",
        "-  [A hypothesis](https://en.wikipedia.org/wiki/Hypothesis) (plural hypotheses) is a proposed explanation for a phenomenon.\n",
        "\n",
        "- [What are got hypothesis](https://us.sagepub.com/sites/default/files/upm-assets/41397_book_item_41397.pdf)\n",
        "  - Specific\n",
        "  - Testable\n",
        "\n",
        "- In order to come with good hypothesis it takes time and domain knowlege, in any field including quantitative finance.\n",
        "\n",
        "- How to adquire domain knowledge\n",
        "  - News\n",
        "  - Books\n",
        "  - Blogs\n",
        "  - Study the famous strategies of known investors\n",
        "  - Academic papers"
      ]
    },
    {
      "cell_type": "markdown",
      "metadata": {
        "id": "aMEmIQUY8LS7"
      },
      "source": [
        "**Quant Workflow**\n",
        "\n",
        "- **Hypothesis**: an idea for a way to profit from trading.\n",
        "\n",
        "  -  Prelimanary research and testing\n",
        "- Signal of Alpha\n",
        "  - what asses to buy and sell at what times\n",
        "\n",
        "- Testing\n",
        "  - Detail research and testing, and *backtesting*\n",
        "\n",
        "- Strategy\n",
        "  - how much to spend, how to make trades, when to exist stocks.\n",
        "  - What risk constrainst to impose\n",
        "\n",
        "- *backtesting*\n",
        "  - detailed simulation of entire trading flow using historical data.\n",
        "\n",
        "- **So overall**\n",
        "  - Research\n",
        "  - Testing\n",
        "  - Monitoring?*\n"
      ]
    },
    {
      "cell_type": "markdown",
      "metadata": {
        "id": "dKN-hYfo9Cpu"
      },
      "source": [
        "**Flavors of Trading**\n",
        "\n",
        "-  Single Asset Strategies\n",
        "  - Invest based on *momentum* S&P 500 Index\n",
        "\n",
        "-  Pairwise strategies\n",
        "  - Find pairs of assets that seems to be related and trade on their relative movements.\n",
        "\n",
        "- Cross-sectional strategies\n",
        "  - extend *pairwise strategies* to track groups\n",
        "  - sometimes known as equity statistical arbitrage, also called  equity market neutral investing.\n",
        "\n",
        "- Alternative Data Based Strategies\n",
        " - Satellite Imagery\n",
        " - Social Media\n",
        " - Geolocation\n",
        " - Consumer Transaction Data\n",
        "\n",
        "- Large hedge funds seek:\n",
        "  1. Cpacity to invest lots of capital\n",
        "  2. News, different ideas"
      ]
    },
    {
      "cell_type": "markdown",
      "metadata": {
        "id": "bL1VMZT4-qH1"
      },
      "source": [
        "**Anatomy of a Strategy**\n",
        "\n",
        "Cross-sectioal Equity Investing\n",
        "\n",
        "\n",
        "1. Hypothesis ->   Data\n",
        "  -  Risk Model\n",
        "2. Universe Definition\n",
        "3. Alpha 1, Alpha 2, Alpha 3, ..., Alpha n,\n",
        "4. Alpha Combination.\n",
        "5. Portafolio Construction\n",
        "6. Trading\n",
        "\n",
        "\n",
        "- Stocks\n",
        "- Facility to trading a stock\n",
        "- Stocks that a hypothesis applied\n",
        "- Alpha: an expression that outputs a vector where each component is a value indicative of future returns for an individual stock\n",
        "- Ticker\n",
        "\n",
        "- Research\n",
        "  - Hypothesis : an idea for a way to profit from trading.\n",
        "  - Signal or Alpha:\n",
        "    - what assets to buy and sell at what times\n",
        "  - Refine hypothesis\n",
        "\n",
        "- Portafolio Construction\n",
        "- Risk a posibility that something bad hapend\n",
        "- Risk is also uncertanty of variation of returns in finance.\n",
        "- Systematic Risk\n",
        "  - inheritance to entire market (inflation, recession, interest rates, GDP, ...)\n",
        "\n",
        "- Sector-specific Risks\n",
        "  - (regulation, legislation, materials cost ...)\n",
        "\n",
        "- Idiosyncratic Risk\n",
        "  - *mathematical models of relations*?\n",
        "\n",
        "-  Trades\n",
        "  - When my alpha applies\n",
        "  - How quicly trades\n",
        "  - High frecuency trading\n",
        "\n",
        "- Alpha is the fun part."
      ]
    },
    {
      "cell_type": "markdown",
      "metadata": {
        "id": "ue8PE2I-QjLl"
      },
      "source": [
        "## Outliers and Filtering\n",
        "Learn the importance of outliers and how to detect them. Learn about methods designed to handle outliers."
      ]
    },
    {
      "cell_type": "markdown",
      "metadata": {
        "id": "o1Xh5nXoUtp-"
      },
      "source": [
        "**Sources of Outliers**\n",
        "\n",
        "- Fat Finger Errors:\n",
        "  - Manually Data entry error that alter the data.\n",
        "  - Computer errors that 'alter' the data.\n",
        "\n",
        "- Unajusted practices\n",
        "\n",
        "- Stock price drops 80% overnigh, and trated volume is twice the usual magnitude.\n",
        "\n"
      ]
    },
    {
      "cell_type": "markdown",
      "metadata": {
        "id": "qoFXEhw_g-uw"
      },
      "source": [
        "**Outliers, Signals and Strategies**\n",
        "\n",
        "- Thinly, infrequenly traded stock\n",
        "\n",
        "- Volume = Number of Shares Traded\n",
        "  - It's not that good because a company can issue as many shares of a stock as they wan it to.\n",
        "\n",
        "- Turnover = Volume Traded * Price Per Share\n",
        "  - The amount of money that changes hands.\n",
        "\n",
        "- Contrarian strategies.\n",
        "\n",
        "- Time resolution of the market data.\n",
        "\n",
        "- Make money selling market data."
      ]
    },
    {
      "cell_type": "markdown",
      "metadata": {
        "id": "zebhXlj8nDYo"
      },
      "source": [
        "**Spotting Outliers in Raw Data**\n",
        "\n",
        "Extreme values\n",
        "\n",
        "- Missing dates\n",
        "- Missing prices\n",
        "- Missing volumes\n",
        "\n",
        "How to spot outliers data:\n",
        " - brute force\n",
        " - rule based search "
      ]
    },
    {
      "cell_type": "markdown",
      "metadata": {
        "id": "-AfXJ-swneHs"
      },
      "source": [
        "**Handling Outliers in Raw Data**\n",
        "\n",
        "- Cross check with another data source.\n",
        "\n",
        "- Replace data with mean with the surrounding data.\n",
        "  -  But that implies,  Lookahead bias."
      ]
    },
    {
      "cell_type": "markdown",
      "metadata": {
        "id": "xtPGUETjoGwC"
      },
      "source": [
        "**Spotting Outliers in Signal Returns**\n",
        "\n",
        "- Montly returns\n",
        "\n",
        "- Montly log returns\n",
        "\n",
        "- How much money this signal makes?\n",
        "\n",
        "- QQ Plot\n",
        "\n",
        "- Shape of log returns\n",
        "\n",
        "- Distribution of montly returns\n",
        "\n",
        "- Quartiles\n",
        "\n",
        "- Symmetric Distribution\n",
        "\n",
        "- Fat tails\n",
        "\n",
        "- A good quant should try to understand the root cuase of outliers in returns."
      ]
    },
    {
      "cell_type": "markdown",
      "metadata": {
        "id": "8zMnYZ5aqj9o"
      },
      "source": [
        "**Handling Outliers in Signal Returns**"
      ]
    },
    {
      "cell_type": "markdown",
      "metadata": {
        "id": "I8wyph_0rD8-"
      },
      "source": [
        "**Generating Robust Trading Signals**\n",
        "\n",
        "- Outlier detection.\n",
        "   - Bayesian methods.\n",
        "   - Machine learning.\n",
        "\n",
        "- So pay attention to the data, and investigate when you see something unusual.\n",
        "\n",
        "- "
      ]
    },
    {
      "cell_type": "markdown",
      "metadata": {
        "id": "xaYg4qdSQluB"
      },
      "source": [
        "## Regression\n",
        "Learn about regression, and related statistical tools that pre-process data before regression analysis. See how regression relates to trading and other more advanced methods."
      ]
    },
    {
      "cell_type": "markdown",
      "metadata": {
        "id": "C6fHLDLhQoq8"
      },
      "source": [
        "- Statistical Arbitrage\n",
        "- Signal to Noise ratio"
      ]
    },
    {
      "cell_type": "markdown",
      "metadata": {
        "id": "ijkcb58qRzai"
      },
      "source": [
        "**Distributions**\n",
        "\n",
        "- Many statistical models assume that the data follows a normal distribution (gussian) (bell curve).\n",
        "\n",
        "- Assumption of statistical test.\n",
        "\n",
        "- How to transform the data, so it follows a normal distribution.\n",
        "\n",
        "- *Randon Variable*:\n",
        "  - It's a variable that can take a random value, with a proability specify by the *probability distribution*.\n",
        "\n",
        "- *Probability distribution*:\n",
        "  - Value ->  Probabilty\n",
        "\n",
        "- Histogram"
      ]
    },
    {
      "cell_type": "markdown",
      "metadata": {
        "id": "ZwyZKXrKXuF3"
      },
      "source": [
        "**Parameters of a Distribution**\n",
        "\n",
        "- Probability Density Function (PDF)\n",
        "- $X \\sim D$\n",
        "- $P(x|D) = p(x)$\n",
        "- $P(2 | N) = p(2)$\n",
        "\n",
        "\n",
        "- Parameters to adjust to fit normally looking distribution:\n",
        "  - $X \\sim N(\\mu, \\sigma^2)$\n",
        "\n",
        "- For a probability density function, which describes a continuous variable, the probability is defined as the area under the curve within a range (between two points).\n",
        "\n",
        "- PDF of Standard Normal Distribution: $X \\sim N$\n",
        "  - $f(x) = \\frac{1}{\\sqrt{2\\pi}} e ^ {-\\frac{x^2}{2}}$\n",
        "\n",
        "- PDF Of Normal Distribution:  $X \\sim N(\\mu, \\sigma^2)$\n",
        "  - $p(x|\\mu, \\sigma^2) = \\frac{1}{\\sqrt{2\\pi\\sigma^2}} e ^ {-\\frac{(x -\\mu)^2}{2\\sigma^2}}$\n",
        "\n",
        "- $\\mu$ refers to tthe mean.\n",
        "- $\\sigma$ refers to the standard debiation.\n",
        "\n",
        "- The stard deviation has a $\\mu = 0, \\sigma = 1$."
      ]
    },
    {
      "cell_type": "markdown",
      "metadata": {
        "id": "6Ru1DZDfbpkY"
      },
      "source": [
        "**Testing  for Normality**\n",
        "\n",
        "- A quick way to see if our data follows a normal distribution, is to plot a histogram.\n",
        "\n",
        "- `Boxplot`\n",
        "- Quantiles\n",
        "  - Dividing groups.\n",
        "- Quartiles\n",
        "  - Dividing lines.\n",
        "- Interquartile Range\n",
        "\n",
        "- [Anatomy of a Box Plot](https://quantgirl.blog/anatomy-of-a-box-plot/)\n",
        "\n",
        "- [QQ-Plot](https://en.wikipedia.org/wiki/Q%E2%80%93Q_plot)\n",
        "\n",
        "  - Check if th shape of the data match the shape of the *PDF*.\n",
        "\n",
        "- How to check of normality for a simple number:\n",
        "  - Shapiro-Wilk test\n",
        "  - D'Agostino-Pearson test\n",
        "    - $p-value > 0.05$ -> Normal Distribution.\n",
        "    - $p-value <= 0.05$ -> Not Normal Distribution.\n",
        "  - Kolmogorov-Smirnov test compares two distribution\n",
        "    - $p-value > 0.05$ -> The same.\n",
        "    - $p-value <= 0.05$ -> No the same.\n",
        "\n",
        "- There are three hypothesis tests that can be used to decide if a data distribution is normal. These are the [Shapiro-Wilk test](https://en.wikipedia.org/wiki/Shapiro%E2%80%93Wilk_test) and [D’Agostino-Pearson](https://en.wikipedia.org/wiki/D%27Agostino%27s_K-squared_test), and the [Kolmogorov-Smirnov test](https://en.wikipedia.org/wiki/Kolmogorov%E2%80%93Smirnov_test). Each of these produce p-value, and if the p-value is small enough, say 0.05 or less, we can say with a 95% confidence that the data is not normally distributed. Shapiro-Wilk tends to perform better in a broader set of cases compared to the D’Agostino-Pearson test. In part, this is because the D’Agostino-Pearson test is used to look for skewness and kurtosis that do not match a normal distribution, so there are some odd non-normal distributions for which it doesn’t detect non-normality, where the Sharpiro-Wilk would give the correct answer.\n",
        "\n",
        "- The Kolmogorov Smirnov test can be used to compare distributions other than the normal distribution, so it’s similar to the QQ plot in its generality. To do a normality test, we would first rescale the data distribution (subtract the mean and divide by its standard deviation), then compare the rescaled data distribution with the standard normal distribution (which has a mean of zero and standard deviation of 1). In general, the Shapiro-WIlk test tends to be a better test than the Kolmogorov Smirnov test, but not in all cases.\n",
        "\n",
        "- So in summary, if you want to be thorough, you can use all three tests (there are even more tests that we haven’t discussed here). If you only want to use one test, use the Shapiro-Wilk test. For a sanity check, visualize your data distribution with a histogram, box-whisker plot, and/or a QQ plot.\n"
      ]
    },
    {
      "cell_type": "markdown",
      "metadata": {
        "id": "2UVwA4VHeegY"
      },
      "source": [
        "**Heteroskedasticity**\n",
        "\n",
        "- Stacionary Data\n",
        "- Variance of the data overtime\n",
        "\n",
        "[**Homoscedasticity**](https://en.wikipedia.org/wiki/Homoscedasticity)\n",
        "\n",
        "**Heteroskedasticity**\n",
        "- One of the assumptions of linear regression is that its input data are homoscedastic. A visual way to check if the our data is homoscedastic is a scatter plot (like the one we saw in the video).\n",
        "\n",
        "- If our data is heteroscedastic, a linear regression estimate of the coefficients may be less accurate (further from the actual value), and we may get a smaller p-value than should be expected, which means we may assume (incorrectly) that we have an accurate estimate of the regression coefficient, and assume that it’s statistically significant when it’s not.\n",
        "\n",
        "**Breusch-Pagan Test to chek if data is (homo or hetero)skedasty**\n",
        "- Breusch-Pagan Test for Heteroscedasticity (revisited)\n",
        "Now that we’ve covered regression, let’s look at the Breusch Pagan test in more depth. The Breusch-Pagan test is one of many tests for homoscedasticity/heteroscedasticity. It takes the residuals from a regression, and checks if they are dependent upon the independent variables that we fed into the regression. (Note that we’ll explain residuals in a few videos within this lesson, so feel free to jump back here after you watch the video “Linear Regression”). The test does this by performing a second regression of the residuals against the independent variables, and checking if the coefficients from that second regression are statistically significant (non-zero). If the coefficients of this second regression are significant, then the residuals depend upon the independent variables. If the residuals depend upon the independent variables, then it means that the variance of the data depends on the independent variables. In other words, the data is likely heteroscedastic. So if the p-value of the Breusch-Pagan test is ≤ 0.05, we can assume with a 95% confidence that the distribution is heteroscedastic (not homoscedastic).\n",
        "\n",
        "**How to interpret p-values statistical test**.\n"
      ]
    },
    {
      "cell_type": "markdown",
      "metadata": {
        "id": "GE7HZskqhAGA"
      },
      "source": [
        "**Transforming Data**\n",
        "\n",
        "- Data -> Log -> More Normal\n",
        "\n",
        "- To make data mor normal use the log function.\n",
        "\n",
        "- For homoscedastic data use time difference.\n",
        "  - Thurday vs Friday.\n",
        "\n",
        "- [Box-Cox transformation](https://www.statisticshowto.com/box-cox-transformation/).\n",
        "\n",
        "  - Takes a data set and output a dataset that is more normally distributed."
      ]
    },
    {
      "cell_type": "markdown",
      "metadata": {
        "id": "TI7-wiNVh-kX"
      },
      "source": [
        "**Linear Regression**\n",
        "\n",
        "- Use a random variable to predict another random variable.\n",
        "   - What prediction means here.\n",
        "\n",
        "- $y = \\beta x + \\alpha$ \n",
        "- $price(\\$) = \\beta  \\text{area} (m²) + \\alpha$\n",
        "\n",
        "- The process that fines the best lines that fit the data is called: Ordinary least squares.\n",
        "\n",
        "- Residuals (errors terms) = $y_\\text{actual} - y_\\text{ predicted}.$\n",
        "\n",
        "- If the average of the residuals is not 0, that gives us a hint that the model has a bias in its prediction errors.\n",
        "\n",
        "- What a model is modelling?\n",
        "\n",
        "- Multiple Regression\n",
        "\n",
        "  - Use more than one independent error to predict a dependent variable.\n",
        "\n",
        "- Evaluating our Model\n",
        "  - R-squared value\n",
        "    - 1: all the variation in the independent variable can be exaplain by the variation in the dependent variable.\n",
        "  - Adjusted R-squared\n",
        "\n",
        "- F-test"
      ]
    },
    {
      "cell_type": "markdown",
      "metadata": {
        "id": "xL0JhSxCmWS1"
      },
      "source": [
        "**Multivariate multiple regression**"
      ]
    },
    {
      "cell_type": "markdown",
      "metadata": {
        "id": "UU-LMy5Tmeeg"
      },
      "source": [
        "**Regression in Trading**\n",
        "\n",
        "- Using *regression in finance* is hard, because of the signal to noise ratio.\n",
        "\n",
        "- Can be used  to build a *based model*.\n",
        "\n",
        "- As an exercise do regression on stocks."
      ]
    },
    {
      "cell_type": "markdown",
      "metadata": {
        "id": "cm6aE_4TQoTr"
      },
      "source": [
        "## Times Series Modelling\n",
        "Learn about advanced methods for time series analysis, including ARMA, ARIMA, Kalman Filters, and  recurrent neural networks."
      ]
    },
    {
      "cell_type": "markdown",
      "metadata": {
        "id": "z8loTYanrPN-"
      },
      "source": [
        "**Times Series Modelling**\n",
        "\n",
        "- Auto-regression\n",
        "- Moving averages\n",
        "- Autogressive moving averages\n",
        "- Autoregressive Integrated Moving Averages\n",
        "- Kalman and Particles Filters\n",
        "- Recurrent Neural Networks \n",
        "\n",
        "The goal of time series analysis is to used *pased data* to *predict future data*.\n",
        "\n",
        "- Use returns, not prices.\n",
        "- Idealily log returns.\n"
      ]
    },
    {
      "cell_type": "markdown",
      "metadata": {
        "id": "WbWp128Vr3fh"
      },
      "source": [
        "**Autoregressive (AR) Model**\n",
        "\n",
        "- $y_t = \\alpha + B_1y_t + B_2y_{t-2} + \\text{...}  + \\epsilon_t$\n",
        "\n",
        "- $\\epsilon_t$: error term\n",
        "- $y_t$: independent variable\n",
        "\n",
        "- The past couple of data points, gives us hints into the next values will be.\n",
        "\n",
        "- Lag: the number of past values used in the model.\n",
        "\n",
        "- AR 1 lab model\n",
        "- AR 2 Lag 2\n",
        "\n",
        "- $AR(p)$, where p is the lag.\n",
        "\n",
        "- Adjusted R-squared\n",
        "\n",
        "- A model is used to represent a single times series.\n",
        "\n",
        "- *Vector Autogressive Model**\n"
      ]
    },
    {
      "cell_type": "markdown",
      "metadata": {
        "id": "4CsY1nPdtsqq"
      },
      "source": [
        "**Moving Averages Model**\n",
        "\n",
        "- [Moving Average](https://en.wikipedia.org/wiki/Moving_average)\n",
        "\n",
        "- $y_t = \\mu + \\epsilon_t +  \\theta_1\\epsilon_{t-1} + \\theta_2\\epsilon_{t-2} + \\text{...}  $\n",
        "\n",
        "- Autocorrelation plot\n",
        "  - Lag vs Autocorrelation\n",
        "\n",
        "- Regression how a set of independent variables influences a dependent variable."
      ]
    },
    {
      "cell_type": "markdown",
      "metadata": {
        "id": "Dkkiy_H-vM2-"
      },
      "source": [
        "**Advaced Times Series Models**\n",
        " \n",
        "- ARMA\n",
        "- ARITMA\n",
        "\n",
        "\n",
        "- Adding AR model and Moving Averages Model.\n",
        "- Pairs trading: trading extrategy.\n",
        "- Some times the derivate data is easier to model.\n",
        "- An then take the integral back.\n",
        "\n",
        "*Autoregressive Integrated Moving Average*\n",
        "\n",
        "Non-Stationay data:\n",
        " - mean ,\n",
        " - variance,\n",
        " - covariance may change in the future.\n",
        "\n",
        "- Time Difference\n",
        "- log / log returns\n",
        "- log returns are more stable than prices.\n",
        "\n",
        "- [Augmented Dickey Fuller Test](https://en.wikipedia.org/wiki/Dickey%E2%80%93Fuller_test) to check if the data is stationay or not.\n",
        "  - p-value interpretation.\n",
        "\n",
        "- co-integration\n",
        "\n"
      ]
    },
    {
      "cell_type": "markdown",
      "metadata": {
        "id": "yc6NHfdFxEu2"
      },
      "source": [
        "**Kalman Filter**\n",
        "\n",
        "- lag number for moving average\n",
        "- lag parameters\n",
        "\n",
        "- Single-state represents the past\n",
        "- How to make predictions when you only have noise indirect data.\n",
        "- State of a time series.\n",
        "- Hidden properties.\n",
        "\n",
        "- Kalman filter:\n",
        "  - predict\n",
        "  - measurement update\n",
        "\n",
        "*Kalman Filters for Pairs Trading*\n",
        "\n",
        "One way Kalman Filters are used in trading is for choosing the hedge ratio in pairs trading. We will get into pairs trading and hedge ratios in lesson 13 of this module, but for now, imagine that there’s a magic number that you can estimate from a model, such as a regression model, based on time series data of two stocks.\n",
        "\n",
        "Every day when you get another data point, you can run another regression and get an updated estimate for this number. So do you take the most recent number every time? Do you take a moving average? If so, how many days will you average together? Will you give each day the same weight when taking the average?\n",
        "\n",
        "All of these kinds of decisions are meant to smooth an estimate of a number that is based on noisy data. The Kalman Filter is designed to provide this estimate based on both past information and new observations. So instead of taking a moving average of this estimate, we can use a Kalman Filter.\n",
        "\n",
        "The Kalman Filter takes the time series of two stocks, and generate its “smoothed” estimate for this magic number at each new time period. Kalman Filters are often used in control systems for vehicles such as cars, planes, rockets, and robots. They’re similar to the application in pairs trading because they take noisy indirect measurements at each new time period in order to estimate state variables (location, direction, speed) of a system .\n",
        "\n",
        "Kalman Filters are not used in this module’s project, but if you want to learn more, please check out the extracurricular content section: \"Machine Learning\": Introduction to Kalman Filters."
      ]
    },
    {
      "cell_type": "markdown",
      "metadata": {
        "id": "t9ij3yc4yAuo"
      },
      "source": [
        "**Particle Filter**\n",
        "\n",
        "- a type of genetic algorithm , apply natural selection to improve stimates.\n",
        "\n",
        "- Particles: litle models with random parameters.\n",
        "- Data with non-normal distribution\n",
        "- Non-linear relationships"
      ]
    },
    {
      "cell_type": "markdown",
      "metadata": {
        "id": "YUSlDaXMyrw5"
      },
      "source": [
        "**Recurent Neural Networks**\n",
        "\n",
        "- Recurrent Neural Networks are useful for processing sequence data in general, and are often used for Natural Language Processing. We will cover recurrent neural networks and natural language processing in term 2 of this program. For an intro to neural networks, please check out the extracurricular content.\n",
        "\n",
        "- Neural networks are models that  can be though as many regressions stacks in series and in parallel.\n",
        "\n",
        "- Series:\n",
        " - the oputut of one regression becomes the  input of another regression.\n",
        "\n",
        "- Parallel:\n",
        " - Multiples regression fet to other layer\n",
        "\n",
        "- Feeds backs into itself.\n",
        "\n",
        "- Long short term memory cells *LSTM cell*.\n",
        "\n",
        "- Memory of the LSTM."
      ]
    },
    {
      "cell_type": "markdown",
      "metadata": {
        "id": "rWjuMwhszsuW"
      },
      "source": [
        "**Summary**\n",
        "\n",
        "Statistical methods\n",
        " - regression\n",
        " - autoregression\n",
        " - moving averages\n",
        " - kalman filters\n",
        " - particle filters\n",
        " - recurrent neural networks\n"
      ]
    },
    {
      "cell_type": "markdown",
      "metadata": {
        "id": "kyfd6dRdQrgd"
      },
      "source": [
        "## Volatility\n",
        "Learn about stock volatility, and how to GARCH model analysis volatility. See how volatility is used in equity trading."
      ]
    },
    {
      "cell_type": "markdown",
      "metadata": {
        "id": "ykZ9tBIZowzF"
      },
      "source": [
        "**Por idiota se me apago el ordenador y perdi toda la informacion**\n",
        "\n",
        "- Volatility defined as the standard deviation of log returns over a period of time.\n",
        "\n",
        "- How to compute volatilty\n",
        "\n",
        "- How to anualize volatity to make comparisons\n",
        "\n",
        "- **Volatility** literally refers to how \"volatile\" a stock is, meaning how unpredictably its price might change. A statistical measure of dispersion, such as standard deviation, is commonly used to measure volatility.\n",
        "\n",
        "- **Volatility** is a very important concept that you need to understand to become a good trader. It becomes critical for risk management and options trading, but can be used to design more intelligent equity trading strategies as well."
      ]
    },
    {
      "cell_type": "markdown",
      "metadata": {
        "id": "pdD2wtKlo5a7"
      },
      "source": [
        "**Rolling Windows**\n",
        "\n",
        "- [Moving average](https://en.wikipedia.org/wiki/Moving_average)\n",
        "\n",
        "- [Simple Moving Average (SMA)](https://www.investopedia.com/terms/s/sma.asp)\n",
        "\n",
        "- [Moving Averages in pandas](https://www.datacamp.com/community/tutorials/moving-averages-in-pandas)"
      ]
    },
    {
      "cell_type": "markdown",
      "metadata": {
        "id": "loWB7bIq4KYL"
      },
      "source": [
        "**Exponentially Weighted Moving Average**\n",
        "- [Ir](https://classroom.udacity.com/nanodegrees/nd880/parts/9a3a9589-7bc6-4694-81e0-8c3cb1aea251/modules/45a9362c-0c15-44f8-b71e-a3c2da3637c4/lessons/a8376b2e-08e3-4694-9ea4-86f004a558cb/concepts/b79f1591-bc8f-49d4-b851-cd5d05c1c4c7)\n",
        "\n",
        "- [Exponential Moving Average (EMA)](https://www.investopedia.com/terms/e/ema.asp)\n",
        "\n",
        "- Create an exponential moving average model of volatility.\n",
        "\n",
        "- I have failed implementing this with python, so try again."
      ]
    },
    {
      "cell_type": "markdown",
      "metadata": {
        "id": "rRuGbRsP9Oqa"
      },
      "source": [
        "**Forcasting Volatilty**\n",
        "\n",
        "- Modelling variables of a system.\n",
        "- What are the values that you're trying to model in this system.\n",
        "\n",
        "- [ARCH](https://en.wikipedia.org/wiki/Autoregressive_conditional_heteroskedasticity): Autoregressive Conditionally Heteroscedastic.\n",
        "\n",
        "- Generate buy sell signals.\n",
        "- Analyze past signal returns, and see if it's correlated with volatility, to activate the strategy behind the signals only ..."
      ]
    },
    {
      "cell_type": "markdown",
      "metadata": {
        "id": "vUEThUQV-s8q"
      },
      "source": [
        "**Markets & Volatilty**\n",
        "\n",
        "- Why volatilty\n",
        "  - maybe new info? research -> no conclusive evidence.\n",
        "\n",
        "- assets affectec by news\n",
        "- volatilty: cause by trading it self.\n",
        "- volume correlated with volatilty\n",
        "\n",
        "- volume: the amount of space that a substance or object occupies, or that is enclosed within a container.\n",
        "\n",
        "- mean volatilty strategies.\n",
        "- VIX index, and index that measure market volatilty on a set of tracked stocks.\n",
        "- we can trade volatilty"
      ]
    },
    {
      "cell_type": "markdown",
      "metadata": {
        "id": "IyjmyF6L_pyp"
      },
      "source": [
        "**Usign Volatilty for Equity Trading**\n",
        "\n",
        "- limit your universe\n",
        "- normalize volatilty to compares apple to apples"
      ]
    },
    {
      "cell_type": "markdown",
      "metadata": {
        "id": "0FFf_xmyBWgf"
      },
      "source": [
        "**Summary**\n",
        "\n",
        "- Key insight for build trading strategies.\n",
        "- Volatility is foundational for understanding markets."
      ]
    },
    {
      "cell_type": "markdown",
      "metadata": {
        "id": "tWi8owc2QwJm"
      },
      "source": [
        "## Pairs Trading and Mean Reversion\n",
        "Learn about pairs trading, and study the tools used in identifying stock pairs and making trading decisions."
      ]
    },
    {
      "cell_type": "markdown",
      "metadata": {
        "id": "4clcTCkWQ0_Y"
      },
      "source": [
        "## Stocks, Indices, Funds\n",
        "Gain an overview of stocks, indices and funds. Also learn how to construct an index."
      ]
    },
    {
      "cell_type": "markdown",
      "metadata": {
        "id": "RDj_EeFDQ7EP"
      },
      "source": [
        "## ETFs\n",
        "Learn about Exchanged Traded Funds(ETFs) and how they are used by investors and fund managers."
      ]
    },
    {
      "cell_type": "markdown",
      "metadata": {
        "id": "Uqut1WsuQ9-S"
      },
      "source": [
        "## Portfolio Risk and Return\n",
        "Learn the fudamentals of portfolio theory, which are key to designing portfolios for  mutual funds, hedge funds and ETFs."
      ]
    },
    {
      "cell_type": "markdown",
      "metadata": {
        "id": "VcL3JcuyREZe"
      },
      "source": [
        "## Portfolio Optimization\n",
        "Learn how to optimize portfolios to meet certain criteria and constrains. Get hands on experience in optimizatin g a portfolio using the *cvxpy* python library."
      ]
    },
    {
      "cell_type": "markdown",
      "metadata": {
        "id": "rp2G0qSZRJD_"
      },
      "source": [
        "## Factors\n",
        "In the next 7 lessons and project, learn about factor investing and alpha research. These lessons and the project we designed by Jonathan Larkin, equities trader and quant investor."
      ]
    },
    {
      "cell_type": "markdown",
      "metadata": {
        "id": "7eWtlo75RL3X"
      },
      "source": [
        "## Factor Models and Types of Factors\n",
        "Learn the theory of factor models, distinguish alpha and risk factos, and get an overview of types of factors."
      ]
    },
    {
      "cell_type": "markdown",
      "metadata": {
        "id": "5lgBD0gnRRBA"
      },
      "source": [
        "## Risk Factor Models\n",
        "Learn how to model portfolio risk using factors."
      ]
    },
    {
      "cell_type": "markdown",
      "metadata": {
        "id": "LaXHllF7RTgL"
      },
      "source": [
        "## Times Series and Cross Sectional Risk Models\n",
        "Learn about two important types of risk models: time series and cross-sectional risk models."
      ]
    },
    {
      "cell_type": "markdown",
      "metadata": {
        "id": "-3Sls_JpRZWG"
      },
      "source": [
        "## Risk Factor Models with PCA\n",
        "Learn about Principle Component Analysis and how it's used to build risk factor models."
      ]
    },
    {
      "cell_type": "markdown",
      "metadata": {
        "id": "92r6pn7oRdTe"
      },
      "source": [
        "## Alpha Factors\n",
        "Learn about alpha generation and evaluation from a practitioner's perspective."
      ]
    },
    {
      "cell_type": "markdown",
      "metadata": {
        "id": "_4wt2KauRgPr"
      },
      "source": [
        "## Alpha Factor Research Methods\n",
        "Learn about alpha research from a practitioner's perspective."
      ]
    },
    {
      "cell_type": "markdown",
      "metadata": {
        "id": "mTYO1RieRjdy"
      },
      "source": [
        "## Advanced Portfolio Optimization\n",
        "Learn about portfolio optimization usign alpha factors and risk factor models."
      ]
    }
  ]
}