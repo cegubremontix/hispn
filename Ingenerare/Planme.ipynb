{
  "nbformat": 4,
  "nbformat_minor": 0,
  "metadata": {
    "colab": {
      "name": "Planme.ipynb",
      "provenance": [],
      "collapsed_sections": [
        "IoO61rI-2TA6",
        "GDB-CAbfAOw6"
      ],
      "toc_visible": true,
      "authorship_tag": "ABX9TyNgKu00XgzNiugZYqBPmUlY",
      "include_colab_link": true
    },
    "kernelspec": {
      "name": "python3",
      "display_name": "Python 3"
    },
    "language_info": {
      "name": "python"
    }
  },
  "cells": [
    {
      "cell_type": "markdown",
      "metadata": {
        "id": "view-in-github",
        "colab_type": "text"
      },
      "source": [
        "<a href=\"https://colab.research.google.com/github/dbremont/Notas/blob/main/Ingenerare/Planme.ipynb\" target=\"_parent\"><img src=\"https://colab.research.google.com/assets/colab-badge.svg\" alt=\"Open In Colab\"/></a>"
      ]
    },
    {
      "cell_type": "markdown",
      "metadata": {
        "id": "6bPiLw-B_-3m"
      },
      "source": [
        "# Planme"
      ]
    },
    {
      "cell_type": "markdown",
      "metadata": {
        "id": "IoO61rI-2TA6"
      },
      "source": [
        "## 2021 Plan"
      ]
    },
    {
      "cell_type": "markdown",
      "metadata": {
        "id": "dv4-qqHqdlND"
      },
      "source": [
        "- java\n",
        "- pandas\n",
        "- tmux\n",
        "- python\n",
        "- numpy\n",
        "- matplot lib\n",
        "  - others ploting libraries \n",
        "- prototype all the resources for 2022\n",
        "  - watch lectures, psets, projects\n",
        "- models of computer programming\n",
        "- vim\n",
        "- vs code\n",
        "- make ml entry jobs analytics\n",
        "   - [Ir](https://www.upwork.com/freelance-jobs/machine-learning/)\n",
        "- genere 2022 plan \n",
        "- determine basic maths concepts to master"
      ]
    },
    {
      "cell_type": "markdown",
      "metadata": {
        "id": "X0vFlr5LdoxG"
      },
      "source": [
        "## 2022 Plan"
      ]
    },
    {
      "cell_type": "markdown",
      "metadata": {
        "id": "jaIkBY3geTzw"
      },
      "source": [
        "- [A top-down, practical guide to learn AI, Deep learning and Machine Learning](https://github.com/emilwallner/How-to-learn-Deep-Learning)\n",
        "\n",
        "\n",
        "- [Advanced Machine Learning Specialization](https://www.coursera.org/specializations/aml)\n",
        "\n",
        "- [Mathematics for Data Science Specialization](https://www.coursera.org/specializations/mathematics-for-data-science)\n",
        "\n",
        "\n",
        "Ass an aditional:\n",
        "\n",
        "- [Data Analysis: Statistical Modeling and Computation in Applications](https://www.edx.org/es/course/statistics-computation-and-applications)\n",
        "\n",
        "\n",
        "\n",
        "\n",
        "\n",
        "*  Focus in one thing at a time.\n",
        "* 12 hours per day , in 6 days in a week, in one topic.\n",
        "   - active study\n",
        "   - passive\n",
        "\n",
        "* Tools:\n",
        "\n",
        "1. Librero\n",
        "2. Monitor\n",
        "3. Inversor **Talvez**\n",
        "4. Avanico\n",
        "\n",
        "Metrics\n",
        "\n",
        "* Kaggle\n",
        "* Freenlance\n",
        "* Improve stack profile on my skills\n",
        "* Prepare a good curriculum\n",
        "* Responding in stack over flow in a set of topics\n",
        "* brilliant exercises\n",
        "\n",
        "\n",
        "- [A complete computer science study plan to become a software engineer](https://github.com/jwasham/coding-interview-university) \n",
        "\n",
        "\n",
        "* system programming\n",
        "\n",
        "  * computer architecture\n",
        "  * databases\n",
        "  * operative systems\n",
        "  * distributed systems\n",
        "    * there is a key-value pair example here\n",
        "  * compilers and virtual machines"
      ]
    },
    {
      "cell_type": "markdown",
      "metadata": {
        "id": "3P9ylTt0AEGc"
      },
      "source": [
        "## Negocios\n",
        "\n",
        "- [WolframAlpha](https://en.wikipedia.org/wiki/WolframAlpha)\n",
        "\n",
        "- [Wolfram.Com](https://www.wolfram.com/)\n",
        "\n",
        "- [Wolfram Alpha](https://www.wolframalpha.com/)\n",
        "\n",
        "- [IBM Watson](https://www.ibm.com/watson)\n",
        "\n",
        "- [Elemental Cognition](https://ec.ai/)"
      ]
    },
    {
      "cell_type": "markdown",
      "metadata": {
        "id": "GDB-CAbfAOw6"
      },
      "source": [
        "### Markets"
      ]
    },
    {
      "cell_type": "markdown",
      "metadata": {
        "id": "84ufZKJFAPzy"
      },
      "source": [
        "Technology:\n",
        "\n",
        "- Natural Language Understanding\n",
        "- Curate Data + Knowledge\n",
        "- Dynamic Algorithmic Computation\n",
        "- Computer Visual Presentation \n",
        "\n",
        "Solutions:\n",
        "\n",
        "- Questions -> Answer \n",
        "\n",
        "- Primero para el mercado hispano.\n",
        "\n",
        "- If one integrated with personal data can become a personal assitent.\n",
        "\n",
        "\n",
        "Name of the Company:\n",
        "\n",
        "- inferlabs.ai\n",
        "- luzlabs.ai\n",
        "- **luxlabs.ai**\n",
        "- ferrelabs.ai"
      ]
    },
    {
      "cell_type": "markdown",
      "metadata": {
        "id": "ThE4o6wZAJMJ"
      },
      "source": [
        "### LuxLabs.ai"
      ]
    },
    {
      "cell_type": "markdown",
      "metadata": {
        "id": "RogisYQjAGAy"
      },
      "source": [
        "\n",
        "\n",
        "- [Answer Engine](https://en.wikipedia.org/wiki/Question_answering)\n",
        "- Trading\n",
        "- Data Recollection\n",
        "- Data Analytics\n",
        "- ...\n",
        "\n",
        "- Start by replicating (for spanish) [Etimologia](https://www.wolframalpha.com/input/?i=etymology+intelligence)\n",
        "\n",
        "- Questions -> Answers\n",
        "\n",
        "- Domains\n",
        "\n",
        "- Equity Analytics provides quantitative and statistical research and analysis, econometric modeling, financial engineering, sector analysis, and private investment banking services, for institutions.\n",
        "\n",
        "- Analyze geospatial data.\n",
        "\n",
        "- ? To be defined\n",
        "\n",
        "- [Change the domain name](https://www.namecheap.com/domains/registration/results/?domain=luxlabs.ai)"
      ]
    },
    {
      "cell_type": "markdown",
      "metadata": {
        "id": "c9iIU0fmA8k1"
      },
      "source": [
        "- [WolframAlpha](https://en.wikipedia.org/wiki/WolframAlpha)\n",
        "\n",
        "- [Wolfram.Com](https://www.wolfram.com/)\n",
        "\n",
        "- [Wolfram Alpha](https://www.wolframalpha.com/)\n",
        "\n",
        "- [IBM Watson](https://www.ibm.com/watson)\n",
        "\n",
        "- [Elemental Cognition](https://ec.ai/)"
      ]
    },
    {
      "cell_type": "markdown",
      "metadata": {
        "id": "4eTmqqh_BWRJ"
      },
      "source": [
        "## Skills"
      ]
    },
    {
      "cell_type": "markdown",
      "metadata": {
        "id": "Y4WGSm5BBXl2"
      },
      "source": [
        "- Market Data\n",
        "- Natural Language Processing"
      ]
    }
  ]
}