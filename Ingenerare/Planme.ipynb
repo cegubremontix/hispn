{
  "nbformat": 4,
  "nbformat_minor": 0,
  "metadata": {
    "colab": {
      "name": "Planme.ipynb",
      "provenance": [],
      "collapsed_sections": [
        "IoO61rI-2TA6",
        "GDB-CAbfAOw6"
      ],
      "toc_visible": true,
      "authorship_tag": "ABX9TyMeMiYL0aXbT4pzlXz8meY6",
      "include_colab_link": true
    },
    "kernelspec": {
      "name": "python3",
      "display_name": "Python 3"
    },
    "language_info": {
      "name": "python"
    }
  },
  "cells": [
    {
      "cell_type": "markdown",
      "metadata": {
        "id": "view-in-github",
        "colab_type": "text"
      },
      "source": [
        "<a href=\"https://colab.research.google.com/github/dbremont/Notas/blob/main/Ingenerare/Planme.ipynb\" target=\"_parent\"><img src=\"https://colab.research.google.com/assets/colab-badge.svg\" alt=\"Open In Colab\"/></a>"
      ]
    },
    {
      "cell_type": "markdown",
      "metadata": {
        "id": "6bPiLw-B_-3m"
      },
      "source": [
        "# Planme"
      ]
    },
    {
      "cell_type": "markdown",
      "metadata": {
        "id": "IoO61rI-2TA6"
      },
      "source": [
        "## 2021 Plan"
      ]
    },
    {
      "cell_type": "markdown",
      "metadata": {
        "id": "dv4-qqHqdlND"
      },
      "source": [
        "- java\n",
        "- pandas\n",
        "- tmux\n",
        "- python\n",
        "- numpy\n",
        "- matplot lib\n",
        "  - others ploting libraries \n",
        "- prototype all the resources for 2022\n",
        "  - watch lectures, psets, projects\n",
        "- models of computer programming\n",
        "- vim\n",
        "- vs code\n",
        "- make ml entry jobs analytics\n",
        "   - [Ir](https://www.upwork.com/freelance-jobs/machine-learning/)\n",
        "- genere 2022 plan \n",
        "- determine basic maths concepts to master"
      ]
    },
    {
      "cell_type": "markdown",
      "metadata": {
        "id": "X0vFlr5LdoxG"
      },
      "source": [
        "## 2022 Plan"
      ]
    },
    {
      "cell_type": "markdown",
      "metadata": {
        "id": "jaIkBY3geTzw"
      },
      "source": [
        "- Comprar una impresora.\n",
        "\n",
        "- Comprar un abanico.\n",
        "\n",
        "- Plan to study 80 hours a week\n",
        "   - 12 horas de lunes a sabado\n",
        "   - 8 horas los domintos\n",
        "   - acostomarse  a las 6\n",
        "   - levantarme a las 1\n",
        "   - comer buena comida los domingos\n",
        "   - \n",
        "- aprender a jugar domino\n",
        "- un año de gran intesidad\n",
        "- solo puedo aprender haciendo proyectos.\n",
        "  - really.\n",
        "\n",
        "- tomar analiticas de la ida de la luz, para planear obtimante el tiempo de estudio.\n",
        "\n",
        "- [A top-down, practical guide to learn AI, Deep learning and Machine Learning](https://github.com/emilwallner/How-to-learn-Deep-Learning)\n",
        "\n",
        "\n",
        "- [Advanced Machine Learning Specialization](https://www.coursera.org/specializations/aml)\n",
        "  -   As prerequisites we assume calculus and linear algebra (especially derivatives, matrices and operations with them), probability theory (random variables, distributions, moments), basic programming in python (functions, loops, numpy), basic machine learning (linear models, decision trees, boosting and random forests). Our intended audience are all people who are already familiar with basic machine learning and want to get a hand-on experience of research and development in the field of modern machine learning.  \n",
        "  - Approximately 10 months to complete Suggested pace of 6 hours/week\n",
        "  \n",
        "  - [Introduction to Deep Learning](https://www.coursera.org/learn/intro-to-deep-learning?specialization=aml)\n",
        "    - Approx. 34 hours to complete\n",
        "    - 6 weeks\n",
        "  \n",
        "  - [How to Win a Data Science Competition: Learn from Top Kagglers](https://www.coursera.org/learn/competitive-data-science?specialization=aml)\n",
        "    - Approx. 54 hours to complete\n",
        "    - 6 weeks\n",
        "\n",
        "  - [Bayesian Methods for Machine Learning](https://www.coursera.org/learn/bayesian-methods-in-machine-learning?specialization=aml)\n",
        "    - Approx. 33 hours to complete\n",
        "    - 7 weeks\n",
        "\n",
        "  - [Practical Reinforcement Learning](https://www.coursera.org/learn/practical-rl?specialization=aml)   \n",
        "    - Approx. 26 hours to complete\n",
        "    - 6 weeks, no project\n",
        "\n",
        "\n",
        "  - [Deep Learning in Computer Vision](https://www.coursera.org/learn/deep-learning-in-computer-vision?specialization=aml)\n",
        "     - Approx. 13 hours to complete\n",
        "     - 5 weeks\n",
        "\n",
        "  -  [Natural Language Processing](https://www.coursera.org/learn/language-processing?specialization=aml)\n",
        "    - Approx. 32 hours to complete\n",
        "    - 5 semanas\n",
        "\n",
        " -  [Addressing Large Hadron Collider Challenges by Machine Learning](https://www.coursera.org/learn/hadron-collider-machine-learning?specialization=aml)\n",
        "  - Approx. 24 hours to complete \n",
        "  - 5 weeks\n",
        "\n",
        "\n",
        "- [Mathematics for Data Science Specialization](https://www.coursera.org/specializations/mathematics-for-data-science)\n",
        "   - This is probably a bad idea, with brilliant and mit wil be sufficient.\n",
        "\n",
        "   - \n",
        "\n",
        "- [Deep Reinforcement Learning Expert](https://www.udacity.com/course/deep-reinforcement-learning-nanodegree--nd893)\n",
        "   - 4 Month At 10-15 hrs/week\n",
        "   - Probably don't take this course since this is cover in the main specilization\n",
        "\n",
        "- [Intro to Self-Driving Cars](https://www.udacity.com/course/intro-to-self-driving-cars--nd113)\n",
        "  - 4 Months At 10 hrs/week\n",
        "\n",
        "- [Flying Car and Autonomous Flight Engineer](https://www.udacity.com/course/flying-car-nanodegree--nd787)\n",
        "  - 4 Months / At 15 hrs/week\n",
        "\n",
        "-  [Artificial Intelligence](https://www.udacity.com/course/ai-artificial-intelligence-nanodegree--nd898)\n",
        "  - 3 Months At 12-15 hrs/week\n",
        "\n",
        "Ass an aditional:\n",
        "\n",
        "- [Data Analysis: Statistical Modeling and Computation in Applications](https://www.edx.org/es/course/statistics-computation-and-applications)\n",
        "\n",
        "\n",
        "\n",
        "\n",
        "\n",
        "*  Focus in one thing at a time.\n",
        "* 12 hours per day , in 6 days in a week, in one topic.\n",
        "   - active study\n",
        "   - passive\n",
        "\n",
        "* Tools:\n",
        "\n",
        "1. Librero\n",
        "2. Monitor\n",
        "3. Inversor **Talvez**\n",
        "4. Avanico\n",
        "\n",
        "Metrics\n",
        "\n",
        "* Kaggle\n",
        "* Freenlance\n",
        "* Improve stack profile on my skills\n",
        "* Prepare a good curriculum\n",
        "* Responding in stack over flow in a set of topics\n",
        "* brilliant exercises\n",
        "\n",
        "\n",
        "- [A complete computer science study plan to become a software engineer](https://github.com/jwasham/coding-interview-university) \n",
        "\n",
        "\n",
        "* system programming\n",
        "\n",
        "  * computer architecture\n",
        "  * databases\n",
        "  * operative systems\n",
        "  * distributed systems\n",
        "    * there is a key-value pair example here\n",
        "  * compilers and virtual machines"
      ]
    },
    {
      "cell_type": "markdown",
      "metadata": {
        "id": "3P9ylTt0AEGc"
      },
      "source": [
        "## Negocios\n",
        "\n",
        "- [WolframAlpha](https://en.wikipedia.org/wiki/WolframAlpha)\n",
        "\n",
        "- [Wolfram.Com](https://www.wolfram.com/)\n",
        "\n",
        "- [Wolfram Alpha](https://www.wolframalpha.com/)\n",
        "\n",
        "- [IBM Watson](https://www.ibm.com/watson)\n",
        "\n",
        "- [Elemental Cognition](https://ec.ai/)"
      ]
    },
    {
      "cell_type": "markdown",
      "metadata": {
        "id": "GDB-CAbfAOw6"
      },
      "source": [
        "### Markets"
      ]
    },
    {
      "cell_type": "markdown",
      "metadata": {
        "id": "84ufZKJFAPzy"
      },
      "source": [
        "Technology:\n",
        "\n",
        "- Natural Language Understanding\n",
        "- Curate Data + Knowledge\n",
        "- Dynamic Algorithmic Computation\n",
        "- Computer Visual Presentation \n",
        "\n",
        "Solutions:\n",
        "\n",
        "- Questions -> Answer \n",
        "\n",
        "- Primero para el mercado hispano.\n",
        "\n",
        "- If one integrated with personal data can become a personal assitent.\n",
        "\n",
        "\n",
        "Name of the Company:\n",
        "\n",
        "- inferlabs.ai\n",
        "- luzlabs.ai\n",
        "- **luxlabs.ai**\n",
        "- ferrelabs.ai"
      ]
    },
    {
      "cell_type": "markdown",
      "metadata": {
        "id": "ThE4o6wZAJMJ"
      },
      "source": [
        "### LuxLabs.ai"
      ]
    },
    {
      "cell_type": "markdown",
      "metadata": {
        "id": "RogisYQjAGAy"
      },
      "source": [
        "\n",
        "\n",
        "- [Answer Engine](https://en.wikipedia.org/wiki/Question_answering)\n",
        "- Trading\n",
        "- Data Recollection\n",
        "- Data Analytics\n",
        "- ...\n",
        "\n",
        "- Start by replicating (for spanish) [Etimologia](https://www.wolframalpha.com/input/?i=etymology+intelligence)\n",
        "\n",
        "- Questions -> Answers\n",
        "\n",
        "- Domains\n",
        "\n",
        "- Equity Analytics provides quantitative and statistical research and analysis, econometric modeling, financial engineering, sector analysis, and private investment banking services, for institutions.\n",
        "\n",
        "- Analyze geospatial data.\n",
        "\n",
        "- ? To be defined\n",
        "\n",
        "- [Change the domain name](https://www.namecheap.com/domains/registration/results/?domain=luxlabs.ai)"
      ]
    },
    {
      "cell_type": "markdown",
      "metadata": {
        "id": "c9iIU0fmA8k1"
      },
      "source": [
        "- [WolframAlpha](https://en.wikipedia.org/wiki/WolframAlpha)\n",
        "\n",
        "- [Wolfram.Com](https://www.wolfram.com/)\n",
        "\n",
        "- [Wolfram Alpha](https://www.wolframalpha.com/)\n",
        "\n",
        "- [IBM Watson](https://www.ibm.com/watson)\n",
        "\n",
        "- [Elemental Cognition](https://ec.ai/)"
      ]
    },
    {
      "cell_type": "markdown",
      "metadata": {
        "id": "4eTmqqh_BWRJ"
      },
      "source": [
        "## Skills"
      ]
    },
    {
      "cell_type": "markdown",
      "metadata": {
        "id": "Y4WGSm5BBXl2"
      },
      "source": [
        "- Market Data\n",
        "- Natural Language Processing"
      ]
    }
  ]
}