{
  "nbformat": 4,
  "nbformat_minor": 0,
  "metadata": {
    "colab": {
      "name": "Beautiful Ideas In Personal Organization.ipynb",
      "provenance": [],
      "authorship_tag": "ABX9TyOq6sOKO2SGymVO8EAjUxwY",
      "include_colab_link": true
    },
    "kernelspec": {
      "name": "python3",
      "display_name": "Python 3"
    },
    "language_info": {
      "name": "python"
    }
  },
  "cells": [
    {
      "cell_type": "markdown",
      "metadata": {
        "id": "view-in-github",
        "colab_type": "text"
      },
      "source": [
        "<a href=\"https://colab.research.google.com/github/dbremont/Notas/blob/main/Ingenerare/Beautiful_Ideas_In_Personal_Organization.ipynb\" target=\"_parent\"><img src=\"https://colab.research.google.com/assets/colab-badge.svg\" alt=\"Open In Colab\"/></a>"
      ]
    },
    {
      "cell_type": "markdown",
      "metadata": {
        "id": "hsLLkJgI_HaG"
      },
      "source": [
        "[Anki](https://colab.research.google.com/github/dbremont/Notas/blob/main/Ingenerare/Anki.ipynb)"
      ]
    },
    {
      "cell_type": "markdown",
      "metadata": {
        "id": "R_UNvXq8_WDI"
      },
      "source": [
        "* [Using Paper for Everyday Tasks](https://christine.website/blog/gtd-on-paper-2021-06-13)\n",
        "\n",
        "* [Memex](https://en.wikipedia.org/wiki/Memex)\n",
        "\n",
        "* [Indicative planning](https://en.wikipedia.org/wiki/Indicative_planning)\n",
        "\n",
        "* [Intelligence amplification](https://en.wikipedia.org/wiki/Intelligence_amplification)"
      ]
    }
  ]
}