{
  "nbformat": 4,
  "nbformat_minor": 0,
  "metadata": {
    "colab": {
      "name": "WorldWind.ipynb",
      "provenance": [],
      "toc_visible": true,
      "authorship_tag": "ABX9TyO6pSmhPiFimi4YLCAudlJW",
      "include_colab_link": true
    },
    "kernelspec": {
      "name": "python3",
      "display_name": "Python 3"
    },
    "language_info": {
      "name": "python"
    }
  },
  "cells": [
    {
      "cell_type": "markdown",
      "metadata": {
        "id": "view-in-github",
        "colab_type": "text"
      },
      "source": [
        "<a href=\"https://colab.research.google.com/github/dbremont/Notas/blob/main/Ingenerare/WorldWind.ipynb\" target=\"_parent\"><img src=\"https://colab.research.google.com/assets/colab-badge.svg\" alt=\"Open In Colab\"/></a>"
      ]
    },
    {
      "cell_type": "markdown",
      "metadata": {
        "id": "tJPw5Df91dQV"
      },
      "source": [
        "## WorldWind Java"
      ]
    },
    {
      "cell_type": "markdown",
      "metadata": {
        "id": "ScPnffYabah1"
      },
      "source": [
        "#### Table of Contents\n",
        "\n",
        "[Design and Coding Guidelines](#design-and-coding-guidelines)"
      ]
    },
    {
      "cell_type": "markdown",
      "metadata": {
        "id": "iQ2HGm7ncm4W"
      },
      "source": [
        "## Design and Coding Guidelines\n",
        "\n",
        "These design and coding guidelines are for **WorldWind Java** and do not necessarily reflect the expectations for other\n",
        "WorldWind projects."
      ]
    },
    {
      "cell_type": "markdown",
      "metadata": {
        "id": "pYjCdiUFdFoY"
      },
      "source": [
        "### General"
      ]
    },
    {
      "cell_type": "markdown",
      "metadata": {
        "id": "5SJGLo_Xcjym"
      },
      "source": [
        "\n",
        "* The project's development IDE is Apache NetBeans. The NetBeans configuration files for this project are checked in to\n",
        "the code repository. They define within them global and local library links, formatting rules, etc.\n",
        "* Our required target platforms are OS X, Windows, and the most popular versions of Linux. All code\n",
        "and all products must run on all those systems.\n",
        "* Read the WorldWind API's Overview section for a description of WorldWind architecture, design and usage. Read \n",
        "the overview pages of each WorldWind package for descriptions of those. These descriptions contain critical \n",
        "information that is not repeated elsewhere. To avoid making mistakes, everyone working on WorldWind must read\n",
        "them before using or modifying the code.\n",
        "* Most major classes need a no-argument constructor so that the declarative instantiation mechanism can work. WW\n",
        "objects should avoid constructors with arguments so that they can be created generically by name. This means\n",
        "they should self-configure if at all possible, drawing their parameterized info from Configuration. They should\n",
        "also contain an interface to set the configuration details programmatically.\n",
        "* Make field and variable names clear and easy to read. Don't label them with \"my\" or \"m_\" or some other goofy\n",
        "notation. Within a class refer to all member fields with \"this\", e.g., this.tileCount.\n",
        "* The buffers one must use to pass arrays of info to JOGL must have their byte order set to that of the machine\n",
        "they're used on. Call nativeByteOrder() on NIO buffers when you deal with them, use the methods in\n",
        "com.jogamp.common.nio.Buffers.\n",
        "* Favor immutability (all fields final) in classes representing some small entity like a Point or Vector.\n",
        "Immutable classes are fully thread safe and generally less error prone.\n",
        "* Don't worry too much about frequent memory allocations. Java is now so optimized for this that allocating an\n",
        "object on the heap has similar performance to allocating it on the stack, and this includes the cost of garbage\n",
        "collection. There is still a cost to executing any code, however, so be smart about allocation frequency.\n",
        "* Configuration items typically have two values and thus two attribute names: a DEFAULT value that is used if not\n",
        "overridden, and a non-default value that can be set programmatically (in Configuration) to a current value\n",
        "without losing the ability to recover the default value.\n",
        "* Classes such as BasicDataFileStore and the logger are effectively singletons but they are not defined in their\n",
        "class definition as such. Their singleton nature comes from their 1:1 association with the truly singleton\n",
        "WorldWind class, which provides access to instances of these \"singleton\" classes.\n",
        "* Do not use classes that are not available in the standard JRE. Don't incur additional or external\n",
        "dependencies. The only 3rd-party library we rely on is JOGL.\n",
        "* Constants are defined as String and namespace qualified. This enables easy and non-conflicting extension.\n",
        "* Do not use GUI builders to generate interfaces for examples or applications. They prevent others from being able\n",
        "to maintain the code.\n",
        "* Protect OpenGL state within a rendering unit, such as a layer, by bracketing state changes within try/finally\n",
        "clauses. The util.OpenGLStackHandler utility class makes this easy. It manages both attribute state and matrices when it fails.\n",
        "* WorldWind never crashes. Always catch exceptions at least at the highest entry point from the runtime, e.g., UI\n",
        "listeners, thread run() methods.\n",
        "* Within a rendering pass WorldWind does not touch the disk or the network. Always fork off a thread to do that.\n",
        "Use the TaskManager and Retriever systems to start threads during rendering. These are set up to govern thread\n",
        "usage to avoid swamping the local machine and the server.\n",
        "* Too much micromanagement of state makes the code brittle. Try to design so that the right thing just happens\n",
        "once things are set up, and the effect of something going wrong is benign. For example, Layers fork off\n",
        "Retriever objects to retrieve data from the network. But they don't try to keep track of these. If the retriever\n",
        "succeeds then the data will be available the next time the layer looks for it. The fact that it's not there\n",
        "because of a timeout or something tells the layer to ask for it again if it needs it.\n",
        "* DOMs are expensive in memory and time. Use an event for any documents that might be large. Use the parser in\n",
        "gov.nasa.worldwind.util.xml when appropriate."
      ]
    },
    {
      "cell_type": "markdown",
      "metadata": {
        "id": "YtGqwuzocXa6"
      },
      "source": [
        "### Exceptions"
      ]
    },
    {
      "cell_type": "markdown",
      "metadata": {
        "id": "6BASaFbQcVCj"
      },
      "source": [
        "          \n",
        "* WW objects running in the Main thread pass exceptions through to the application unless there's good\n",
        "reactive/corrective behavior that can be applied within WW."
      ]
    },
    {
      "cell_type": "markdown",
      "metadata": {
        "id": "0fzdub3AcQuM"
      },
      "source": [
        "## Contributing"
      ]
    },
    {
      "cell_type": "markdown",
      "metadata": {
        "id": "SOY25HqucPUc"
      },
      "source": [
        "* Log any exceptions prior to throwing them. Use the same message for the log as for the exception.\n",
        "* Ensure all exception messages are generated using the i18n method details below.\n",
        "* Public methods validate their arguments and throw the appropriate exception, typically InvalidArgumentException,\n",
        "and identify the exception message the parameter name and the problem -- null, out of range, etc. See the\n",
        "message resource file, util.MessageStrings.properties, for common messages and their identifiers.\n",
        "* In Retriever threads, do not catch Throwable. Catch and react to the Exception if there's a good reactive/corrective\n",
        "behavior to apply, otherwise allow them to pass up the stack. Retriever threads should have an uncaught\n",
        "Exception handler specified for the thread. The method should log the Exception or Throwable and then return.\n",
        "* Private and protected methods whose calling client can't be trusted validate their arguments and throw an\n",
        "appropriate exception.\n",
        "* The audience for exceptions is not primarily the user of the client program, but the application or WorldWind\n",
        "developer. Throw exceptions that would let them know immediately that they're using faulty logic or data.\n"
      ]
    },
    {
      "cell_type": "markdown",
      "metadata": {
        "id": "FNKRpfKEcIo9"
      },
      "source": [
        "### Logging"
      ]
    },
    {
      "cell_type": "markdown",
      "metadata": {
        "id": "hMwd8AJ_cG-D"
      },
      "source": [
        "* Logging using java.util.logging has the nice feature of capturing the class and method name at the site of the\n",
        "logging call. That's why there is the common idiom of create message, log message, throw exception. Wrapping\n",
        "these three actions in some utility method would lose the class and method-name feature, so don't do that. Don't\n",
        "use any logging system other than that in the JRE. \n",
        "* Log all exceptional conditions before rethrowing or throwing a new exception.\n",
        "* Ensure all logging uses i18n messages as detailed below.\n",
        "* Use level SEVERE for things that prevent the intended action,e.g., file can't be written. Use level WARN for\n",
        "things that don't stop the action but seem exceptional, e.g., a file was retrieved or written redundantly. Use\n",
        "level FINE for simple notifications. Use FINER for method traces. Using the \"FINE\"series prevents screen display\n",
        "of these when the default Java logging settings are used. Since we're a component, we don't communicate such\n",
        "things directly to the application's user; the application does.\n"
      ]
    },
    {
      "cell_type": "markdown",
      "metadata": {
        "id": "sI4_ZZ86b_QU"
      },
      "source": [
        "### Concurrency"
      ]
    },
    {
      "cell_type": "markdown",
      "metadata": {
        "id": "YdW4dkTZb9vy"
      },
      "source": [
        "* Use collection classes from the java.util.concurrent package if there's any chance at all that the collection \n",
        "may be accessed from multiple threads.\n",
        "* Except for simple atomic variables (but not long or double) the safest way to manage multi-thread access is\n",
        "through the blocking queue classes of java.util.concurrent.\n",
        "* Making a class' fields final avoids concurrency problems, but it makes the class much less extensible. If using\n",
        "private, make sure there are overridable set/get accessors."
      ]
    },
    {
      "cell_type": "markdown",
      "metadata": {
        "id": "m9e5ugYYb7Mo"
      },
      "source": [
        "### Offline Mode "
      ]
    },
    {
      "cell_type": "markdown",
      "metadata": {
        "id": "N8FbchWUb6Js"
      },
      "source": [
        "\n",
        "\n",
        "* WorldWind's use of the network can be disabled by calling {@link gov.nasa.WorldWind.setOfflineMode}. Prior to\n",
        "attempting retrieval of a network resource -- anything addressed by a URL -- WorldWind checks the offline-mode\n",
        "setting and does not attempt retrieval if the value is true. To honor this contract, all code must check network\n",
        "status prior to attempting retrieval of a resource on the network."
      ]
    },
    {
      "cell_type": "markdown",
      "metadata": {
        "id": "iNj9EMOhb3Za"
      },
      "source": [
        "### Documentation"
      ]
    },
    {
      "cell_type": "markdown",
      "metadata": {
        "id": "5oPYEf6Bb114"
      },
      "source": [
        "* Use the appropriate Ant target to generate worldwind.jar and javadoc API documentation. Do not use the NetBeans\n",
        "Tools command because it's not configured appropriately, only the Ant targets are.\n",
        "* All public and protected classes, methods and fields should be commented for javadoc documentation generation.\n",
        "* Descriptions of classes, methods, etc. should start with a capital letter. Parameter descriptions and\n",
        "return-value description should start with a lower-case letter. All descriptions end with a period.\n",
        "* If a class overrides methods from {@link Object} such as <code>toString()</code> and <code>equals()</code>,\n",
        "their behavior for the specific class should be described. For <code>equals()</code> that would be the fields   \n",
        "compared. For <code>toString()</code> that would be the representation returned.\n",
        "* Use links liberally, e.g., {@link WorldWind}. They help the reader get to information fast."
      ]
    },
    {
      "cell_type": "markdown",
      "metadata": {
        "id": "uC47t4GCbyXl"
      },
      "source": [
        "### Code Formatting"
      ]
    },
    {
      "cell_type": "markdown",
      "metadata": {
        "id": "uGSfP53Lbw8g"
      },
      "source": [
        "* Use the code formatting and style that's in the NetBeans project file. It makes it possible to review previous code\n",
        "modifications.\n",
        "* We generally use the traditional Java coding conventions. Constants are in all upper case with words separated by\n",
        "underscores. Everything else is in camel case. Class names start with an upper case character, variables start\n",
        "in lower case.\n",
        "* White space is preferred over packing code into a small space. Please use white space liberally.\n",
        "* Resolve all NetBeans warnings before checking in a file. If the warning refers to an intentional case, add an\n",
        "exception statement."
      ]
    },
    {
      "cell_type": "markdown",
      "metadata": {
        "id": "L6gtcrrobt2p"
      },
      "source": [
        "### Internationalization (i18n)"
      ]
    },
    {
      "cell_type": "markdown",
      "metadata": {
        "id": "13l1dX-9bsRv"
      },
      "source": [
        "* String \"constants\" are stored in separate resource files (e.g. MessageStrings.properties). These files must end \n",
        "in \".properties\" and must be stored in the src directory. Strings are stored with the format:&nbsp;\n",
        "packageOfClass.className.nameOfString=value of the string\n",
        "* Access the string constants by using the following pattern:&nbsp; (e.g. Logging.getMessage(\"myPackage.myClass.targetStringName\");)."
      ]
    },
    {
      "cell_type": "markdown",
      "metadata": {
        "id": "qt8FNIVDUDPg"
      },
      "source": [
        "## Dependencies\n",
        "\n",
        "  - GlueGen\n",
        "  - JOGL\n",
        "  - Jackson Parser \n",
        "  - GDAL\n",
        "\n",
        "\n"
      ]
    },
    {
      "cell_type": "markdown",
      "metadata": {
        "id": "vozWL35Vbpr0"
      },
      "source": [
        "## Books"
      ]
    },
    {
      "cell_type": "markdown",
      "metadata": {
        "id": "Qc3BLaxZbnpl"
      },
      "source": [
        "\n",
        "The books we go back to again and again are the following:\n",
        "\n",
        "* *Core Java*, Horstmann & Cornell, Volumes 1 and 2, Prentice Hall. Be sure to get the editions covering at \n",
        "least J2SE 5. Get the newest edition (currently 8).\n",
        "* *The Java Programming Language*, Arnold & Gosling, Addison Wesley. Be sure to get the most recent edition\n",
        "covering at least Java 6.\n",
        "* *Concurrent Programming in Java*, Lea, Addison Wesley\n",
        "* *Java Threads*, Oaks & Wong, O'Reilly\n",
        "* *Java Cookbook*, Darwin, O'Reilly\n",
        "* *OpenGL Programming Guide*, Shreiner & Woo & et al, Addison Wesley. Be sure to get the version covering\n",
        "OpenGL 2.0, which is currently the Fifth Edition.\n",
        "* *Mathematics for 3D Game Programming & Computer Graphics*, Lengyel, Charles River Media. Be sure to get the\n",
        "Second (or later if there is one) edition."
      ]
    }
  ]
}