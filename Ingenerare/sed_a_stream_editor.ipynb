{
  "nbformat": 4,
  "nbformat_minor": 0,
  "metadata": {
    "colab": {
      "name": "sed, a stream editor.ipynb",
      "provenance": [],
      "authorship_tag": "ABX9TyPyzzAsttUUiwBr8Fwjpgjr",
      "include_colab_link": true
    },
    "kernelspec": {
      "name": "python3",
      "display_name": "Python 3"
    },
    "language_info": {
      "name": "python"
    }
  },
  "cells": [
    {
      "cell_type": "markdown",
      "metadata": {
        "id": "view-in-github",
        "colab_type": "text"
      },
      "source": [
        "<a href=\"https://colab.research.google.com/github/dbremont/Notas/blob/main/Ingenerare/sed_a_stream_editor.ipynb\" target=\"_parent\"><img src=\"https://colab.research.google.com/assets/colab-badge.svg\" alt=\"Open In Colab\"/></a>"
      ]
    },
    {
      "cell_type": "markdown",
      "metadata": {
        "id": "_wcR3TXQJuf4"
      },
      "source": [
        "[sed, a stream editor](https://www.gnu.org/software/sed/manual/sed.html)\n",
        "\n",
        "[sed - Replace all white spaces with commas in a text file - Unix & Linux Stack Exchange](https://unix.stackexchange.com/questions/11801/replace-all-white-spaces-with-commas-in-a-text-file)"
      ]
    }
  ]
}