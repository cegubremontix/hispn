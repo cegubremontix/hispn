{
  "nbformat": 4,
  "nbformat_minor": 0,
  "metadata": {
    "colab": {
      "name": "Git Commit Messages.ipynb",
      "provenance": [],
      "include_colab_link": true
    },
    "kernelspec": {
      "name": "python3",
      "display_name": "Python 3"
    },
    "language_info": {
      "name": "python"
    }
  },
  "cells": [
    {
      "cell_type": "markdown",
      "metadata": {
        "id": "view-in-github",
        "colab_type": "text"
      },
      "source": [
        "<a href=\"https://colab.research.google.com/github/dbremont/Notas/blob/main/Ingenerare/Git_Commit_Messages.ipynb\" target=\"_parent\"><img src=\"https://colab.research.google.com/assets/colab-badge.svg\" alt=\"Open In Colab\"/></a>"
      ]
    },
    {
      "cell_type": "markdown",
      "metadata": {
        "id": "xWPAOrV79p2b"
      },
      "source": [
        "## Git Commit Messages"
      ]
    },
    {
      "cell_type": "markdown",
      "metadata": {
        "id": "YVyrfSW19Xn7"
      },
      "source": [
        "Proposed format of the commit message\n",
        "\n",
        "```bash\n",
        "<type>(<optional scope>): <description>\n",
        "\n",
        "<optional body>\n",
        "\n",
        "<optional footer>\n",
        "<fix>: jira-46564\n",
        "```\n",
        "\n",
        "All lines are wrapped at 70 characters !\n",
        "\n",
        "Allowed `<type>`\n",
        "\n",
        "- feat (feature)\n",
        "- fix (bug fix)\n",
        "- docs (documentation)\n",
        "- style (formatting, missing semi colons, …)\n",
        "- refactor\n",
        "- test (when adding missing tests)\n",
        "- chore (maintain)\n",
        "\n",
        "**Allowed `<scope>`**\n",
        "\n",
        "Scope could be anything specifying place of the commit change. For example `$location`, `$browser`, compiler, scope, ng:href, etc...\n",
        "\n",
        "**Breaking changes**\n",
        "\n",
        "All breaking changes have to be mentioned in message body, on separated line:\n",
        "\n",
        "- Breaks removed `$browser.setUrl()` method (use `$browser.url(newUrl)`)\n",
        "\n",
        "- Breaks ng:repeat option is no longer supported on selects (use `ng:options`)\n",
        "\n",
        "**Message body**\n",
        "- uses the imperative, present tense: “change” not “changed” nor “changes”\n",
        "- includes motivation for the change and contrasts with previous behavior\n",
        "\n",
        "\n",
        "\n",
        "Modelado a Partir de [Angular Conventional Commits](https://www.conventionalcommits.org/en/v1.0.0-beta.4/)"
      ]
    },
    {
      "cell_type": "markdown",
      "metadata": {
        "id": "lv2ETC6A-yqk"
      },
      "source": [
        "**GIT Commit Quality Message Metrics**\n",
        "\n",
        "- **Spell metric** : (cantidad de palabras con spelling errors) / (cantidad de palabras totales) **Simple Aproximación**\n",
        "\n",
        "- **Adherance to format metric** : ❓\n",
        "  - formato obligatorio\n",
        "  - tipo obligatorio\n",
        "  - description: imperative present tense [\"change\", \"add\", ... etc]\n",
        "    \n",
        "    - [python - NLTK. Detecting whether a sentence is Interogative or Not?](https://stackoverflow.com/questions/49100615/nltk-detecting-whether-a-sentence-is-interogative-or-not/50583762)\n",
        "    \n",
        "    - [Natural Language Processing With Python's NLTK Package](https://realpython.com/nltk-nlp-python/)"
      ]
    }
  ]
}