{
  "nbformat": 4,
  "nbformat_minor": 0,
  "metadata": {
    "colab": {
      "name": "to ankify.ipynb",
      "provenance": [],
      "authorship_tag": "ABX9TyONAejGhj8ODbZ1woHw0AHv",
      "include_colab_link": true
    },
    "kernelspec": {
      "name": "python3",
      "display_name": "Python 3"
    },
    "language_info": {
      "name": "python"
    }
  },
  "cells": [
    {
      "cell_type": "markdown",
      "metadata": {
        "id": "view-in-github",
        "colab_type": "text"
      },
      "source": [
        "<a href=\"https://colab.research.google.com/github/dbremont/Notas/blob/main/Ingenerare/to_ankify.ipynb\" target=\"_parent\"><img src=\"https://colab.research.google.com/assets/colab-badge.svg\" alt=\"Open In Colab\"/></a>"
      ]
    },
    {
      "cell_type": "markdown",
      "metadata": {
        "id": "Af_-nJl5NGbw"
      },
      "source": [
        "Ankify buffer"
      ]
    },
    {
      "cell_type": "markdown",
      "metadata": {
        "id": "dpzL4uvUMxSF"
      },
      "source": [
        "- [bash - How to ignore certain filenames using \"find\"?](https://superuser.com/questions/397307/how-to-ignore-certain-filenames-using-find)\n",
        "\n",
        "- linux systems calls\n",
        "\n",
        "- Editar comandos en vim a partir de terminal prompt.\n",
        "\n",
        "- anki de anki\n",
        "\n",
        "- [What is a classpath and how do I set it?](https://stackoverflow.com/questions/2396493/what-is-a-classpath-and-how-do-i-set-it)\n",
        "\n",
        "- [Overview of GNU Make](https://web.mit.edu/gnu/doc/html/make_1.html)\n",
        "\n",
        "- ls -1 | paste -sd \",\" -\n",
        "\n",
        "- [javac - The Java Compiler](https://www.cis.upenn.edu/~bcpierce/courses/629/jdkdocs/tooldocs/solaris/javac.html)\n",
        "\n",
        "- [How compare() method works in Java](https://www.geeksforgeeks.org/how-compare-method-works-in-java/)\n",
        "\n",
        "- How stream.collect works\n",
        "\n",
        "- Uso del scanner\n",
        "\n",
        "- Explain the following command sort out.txt | uniq -c | sort -rn  | head -100 \n",
        "\n",
        "- Hacer un branch de prueba y pds \n",
        "\n",
        "- python3 -m pip install --user autokey --trusted-host pypi.org --trusted-host files.pythonhosted.org\n",
        "\n",
        "- https://stackoverflow.com/questions/43158140/way-to-create-multiline-comments-in-bash\n",
        "\n",
        " ```bash\n",
        " sort --reverse --field-separator=\" \" --key=\"2n\"\n",
        " ```\n",
        "\n",
        "multiples lines scripts in zsh\n",
        "- \n"
      ]
    },
    {
      "cell_type": "markdown",
      "metadata": {
        "id": "5H3DgEUoKMXl"
      },
      "source": [
        "[git - How to modify existing, unpushed commit messages?](https://stackoverflow.com/questions/179123/how-to-modify-existing-unpushed-commit-messages)"
      ]
    }
  ]
}