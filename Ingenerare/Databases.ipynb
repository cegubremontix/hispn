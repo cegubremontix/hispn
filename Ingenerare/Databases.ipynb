{
  "nbformat": 4,
  "nbformat_minor": 0,
  "metadata": {
    "colab": {
      "name": "Databases.ipynb",
      "provenance": [],
      "authorship_tag": "ABX9TyPvAmmGiFqbdBVqkRM4BlEg",
      "include_colab_link": true
    },
    "kernelspec": {
      "name": "python3",
      "display_name": "Python 3"
    },
    "language_info": {
      "name": "python"
    }
  },
  "cells": [
    {
      "cell_type": "markdown",
      "metadata": {
        "id": "view-in-github",
        "colab_type": "text"
      },
      "source": [
        "<a href=\"https://colab.research.google.com/github/dbremont/Notas/blob/main/Ingenerare/Databases.ipynb\" target=\"_parent\"><img src=\"https://colab.research.google.com/assets/colab-badge.svg\" alt=\"Open In Colab\"/></a>"
      ]
    },
    {
      "cell_type": "markdown",
      "metadata": {
        "id": "7UfxKH0p06kn"
      },
      "source": [
        "- SQL Lite Source Code\n",
        "  - Build & Debug\n",
        "- Virtual Machines\n",
        "- Parser\n",
        "- B-Tree ...\n",
        "- Para instalar SQLite hay que primero instalar tlc\n",
        "- Para ma;na tratar de ./configure && make en folder correctamente y ejecutar la shell y crear una tabla simple."
      ]
    },
    {
      "cell_type": "markdown",
      "metadata": {
        "id": "QxDX6EDDUgDP"
      },
      "source": [
        "## Primario"
      ]
    },
    {
      "cell_type": "markdown",
      "metadata": {
        "id": "SXsvqYHwUqsk"
      },
      "source": [
        "\n",
        "* [15-445/645 Introduction to Database Systems](https://15445.courses.cs.cmu.edu/fall2019/)\n",
        "\n",
        "* [15-721 Advanced Database Systems](https://15721.courses.cs.cmu.edu/spring2020/)\n",
        "\n",
        "* [6.830/6.814: Database Systems](http://dsg.csail.mit.edu/6.830/index.php) \n",
        "\n",
        "* [6.033 Computer System Engineering](http://web.mit.edu/6.033/www/index.shtml)"
      ]
    },
    {
      "cell_type": "markdown",
      "metadata": {
        "id": "O48QM3g-UhGI"
      },
      "source": [
        "## Secundario"
      ]
    },
    {
      "cell_type": "markdown",
      "metadata": {
        "id": "Elz31sjbpwAe"
      },
      "source": [
        "* [CS6530: Graduate-level Database System](https://www.cs.utah.edu/~lifeifei/cs6530/)\n",
        "\n",
        "* [CS 245 Principles of Data-Intensive Systems](http://web.stanford.edu/class/cs245/)\n",
        "\n",
        "* [CS 276 / LING 286: Information Retrieval and Web Search](http://web.stanford.edu/class/cs276/)\n",
        "\n",
        "* [A Celebration of Mike Stonebraker](https://www.youtube.com/playlist?list=PLSE8ODhjZXjZO802SjzqBFFlkuKglgbZD)\n",
        "\n",
        "* [How To Compile SQLite](https://sqlite.org/howtocompile.html)"
      ]
    },
    {
      "cell_type": "markdown",
      "metadata": {
        "id": "iQ_5CCKlLfGp"
      },
      "source": [
        "- Relational Databases\n",
        "- Storage\n",
        "- Execution\n",
        "- Concurrency Control\n",
        "- Recovery\n",
        "- Distributed Databases\n",
        "- Potpourri\n",
        "\n",
        "BusTub\n",
        "\n",
        "- Disk-based Storage,\n",
        "- Volcano-style Query Processing,\n",
        "- Pluggable APIs\n",
        "- Currently does not support SQL"
      ]
    },
    {
      "cell_type": "markdown",
      "metadata": {
        "id": "U5OhwdYHM28e"
      },
      "source": [
        "**Database**: Organized collectio nof inter-related data that models some aspect of the real-world.\n",
        "\n",
        "- Ej. Create a database that models a diginal music store to keep track of artists and albumns.\n",
        "\n",
        "**Database Management System**: Is a software system that allows applications to store and analyze information in a database.  \n",
        "\n",
        "A general-purpose DBMS is designed to allow the definition, creation, querying, update, and administration of databases.\n",
        "\n",
        "Database abstraction to avoid this\n",
        "maintenance:\n",
        "-  Store database in simple data structures.\n",
        "- Access data through high-level language,\n",
        "DBMS figures out best strategy.\n",
        "-  Physical storage left up to the DBMS\n",
        "implementation.\n",
        "\n",
        "Data Models\n",
        "\n",
        "- A data model is a collection of concepts for\n",
        "describing the data in a database.\n",
        "  - Relational,\n",
        "  - Key/Value,\n",
        "  - Graph,\n",
        "  - Document,\n",
        "  - Column-family,\n",
        "  - Array/Matrix,\n",
        "  - Hierarchical,\n",
        "  - Network,\n",
        "  - Multi-Value\n",
        "\n",
        "- A schema is a description of a particular collection\n",
        "of data, using a given data model.\n",
        "\n",
        "Relational Data Model\n",
        "\n",
        "- **Structure**: The Definition of the database's relations and their contents.\n",
        "- **Integrity**: Ensure the database's contents sastify constrains.\n",
        "- **Manipulation**: Programming interface for accesing and modifying a database's contents.\n",
        "\n",
        "### Relational Data Model Concepts\n",
        "\n",
        "- A Relation: is an unordered set that contain the relationship of attributes that represents entities.\n",
        "- A tuple: is a set of attribute values (also kknown as its domain) in the relation.\n",
        " - Values are (normally) atomic/scalar.\n",
        " - The special value NULL is a member of every domain.\n",
        "\n",
        "Primary Keys: A relation's primary keys uniquely identifies a single tuple.\n",
        "- Some DBMSs automatically create an internal primary key if a table does not defined one.\n",
        "- Auto-generation of unique integer primary keys:\n",
        "  - Sequence (sql:2003)\n",
        "  - Auto_Increment (MySQL)\n",
        "\n",
        "Foreign Keys:\n",
        "- A *foreign key* specifies that an attribute from one relation has to map to a tuple in another relation.\n",
        "\n",
        "Data Manipulation Languages (DML)\n",
        "\n",
        "- Methods to store and retrieve information from a database.\n",
        "- Procedural: The query specifites the (high-level) strategy the DBMS should use to find the desired result. (Relational Algebra)\n",
        "- Non-Procedural: The query specifies only what data is wanted and not how to find it. (Relational Calculus)\n",
        "\n",
        "Relational Algebra:\n",
        "\n",
        "- Fundamental operations that retrieve and manipulate tuples in a relation.\n",
        "- Each *operator* takes one or more relation as its inputs and ouputs a new relation. \"We can 'chain' operators together to create  more complex operations\".\n",
        "\n",
        "\n",
        "- Select: Choose a subset of tuples from a relation that sastisfies a selection predicate.\n",
        "- Projection: Generate a relation with tuples that contains only the specifies attributes.\n",
        "- Union: Generate a relation that constains all tuples that appear in either only one or both input relations.\n",
        "- Intersection: Generate a relation that contains only the tuples that appear in both of the input relations.\n",
        "- Difference: Generate a relation that contains only the tuples \n",
        "- Product\n",
        "- Join\n",
        "\n",
        "https://15445.courses.cs.cmu.edu/fall2021/slides/01-introduction.pdf\n",
        "\n"
      ]
    }
  ]
}