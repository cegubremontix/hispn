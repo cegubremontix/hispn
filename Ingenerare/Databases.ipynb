{
  "nbformat": 4,
  "nbformat_minor": 0,
  "metadata": {
    "colab": {
      "name": "Databases.ipynb",
      "provenance": [],
      "authorship_tag": "ABX9TyMZiPDt2vnb7ZFRXkf5Gbur",
      "include_colab_link": true
    },
    "kernelspec": {
      "name": "python3",
      "display_name": "Python 3"
    },
    "language_info": {
      "name": "python"
    }
  },
  "cells": [
    {
      "cell_type": "markdown",
      "metadata": {
        "id": "view-in-github",
        "colab_type": "text"
      },
      "source": [
        "<a href=\"https://colab.research.google.com/github/dbremont/Notas/blob/main/Ingenerare/Databases.ipynb\" target=\"_parent\"><img src=\"https://colab.research.google.com/assets/colab-badge.svg\" alt=\"Open In Colab\"/></a>"
      ]
    },
    {
      "cell_type": "markdown",
      "metadata": {
        "id": "7UfxKH0p06kn"
      },
      "source": [
        "- SQL Lite Source Code\n",
        "  - Build & Debug\n",
        "- Virtual Machines\n",
        "- Parser\n",
        "- B-Tree ...\n",
        "- Para instalar SQLite hay que primero instalar tlc\n",
        "- Para ma;na tratar de ./configure && make en folder correctamente y ejecutar la shell y crear una tabla simple."
      ]
    },
    {
      "cell_type": "markdown",
      "metadata": {
        "id": "QxDX6EDDUgDP"
      },
      "source": [
        "## Primario"
      ]
    },
    {
      "cell_type": "markdown",
      "metadata": {
        "id": "SXsvqYHwUqsk"
      },
      "source": [
        "\n",
        "* [15-445/645 Introduction to Database Systems](https://15445.courses.cs.cmu.edu/fall2019/)\n",
        "\n",
        "* [15-721 Advanced Database Systems](https://15721.courses.cs.cmu.edu/spring2020/)\n",
        "\n",
        "* [6.830/6.814: Database Systems](http://dsg.csail.mit.edu/6.830/index.php) \n",
        "\n",
        "* [6.033 Computer System Engineering](http://web.mit.edu/6.033/www/index.shtml)"
      ]
    },
    {
      "cell_type": "markdown",
      "metadata": {
        "id": "O48QM3g-UhGI"
      },
      "source": [
        "## Secundario"
      ]
    },
    {
      "cell_type": "markdown",
      "metadata": {
        "id": "Elz31sjbpwAe"
      },
      "source": [
        "* [CS6530: Graduate-level Database System](https://www.cs.utah.edu/~lifeifei/cs6530/)\n",
        "\n",
        "* [CS 245 Principles of Data-Intensive Systems](http://web.stanford.edu/class/cs245/)\n",
        "\n",
        "* [CS 276 / LING 286: Information Retrieval and Web Search](http://web.stanford.edu/class/cs276/)\n",
        "\n",
        "* [A Celebration of Mike Stonebraker](https://www.youtube.com/playlist?list=PLSE8ODhjZXjZO802SjzqBFFlkuKglgbZD)\n",
        "\n",
        "* [How To Compile SQLite](https://sqlite.org/howtocompile.html)"
      ]
    }
  ]
}