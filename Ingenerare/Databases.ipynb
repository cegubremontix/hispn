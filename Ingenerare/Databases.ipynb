{
  "nbformat": 4,
  "nbformat_minor": 0,
  "metadata": {
    "colab": {
      "name": "Databases.ipynb",
      "provenance": [],
      "include_colab_link": true
    },
    "kernelspec": {
      "name": "python3",
      "display_name": "Python 3"
    },
    "language_info": {
      "name": "python"
    }
  },
  "cells": [
    {
      "cell_type": "markdown",
      "metadata": {
        "id": "view-in-github",
        "colab_type": "text"
      },
      "source": [
        "<a href=\"https://colab.research.google.com/github/dbremont/Notas/blob/main/Ingenerare/Databases.ipynb\" target=\"_parent\"><img src=\"https://colab.research.google.com/assets/colab-badge.svg\" alt=\"Open In Colab\"/></a>"
      ]
    },
    {
      "cell_type": "markdown",
      "metadata": {
        "id": "7UfxKH0p06kn"
      },
      "source": [
        "- SQL Lite Source Code\n",
        "  - Build & Debug\n",
        "- Virtual Machines\n",
        "- Parser\n",
        "- B-Tree ...\n",
        "- Para instalar SQLite hay que primero instalar tlc\n",
        "- Para ma;na tratar de ./configure && make en folder correctamente y ejecutar la shell y crear una tabla simple.\n",
        "\n",
        "----\n",
        "\n",
        "- Hacer fork a Simple DB MIT y verificar el codigo.\n",
        "- Cuantas clases hay,\n",
        "- Cuantas lineas de codigo hay.\n",
        "- Cuantos comentario hay.\n",
        "- Cuantas interfaces hay.\n",
        "- Cuantas enum hay.\n",
        "\n",
        "- Puedo compilarlo y generar el jar.\n",
        "- Puedo usar el jar?\n",
        "\n",
        "- Resumen de Terminologia."
      ]
    },
    {
      "cell_type": "markdown",
      "metadata": {
        "id": "QxDX6EDDUgDP"
      },
      "source": [
        "## Primario"
      ]
    },
    {
      "cell_type": "markdown",
      "metadata": {
        "id": "SXsvqYHwUqsk"
      },
      "source": [
        "\n",
        "* [15-445/645 Introduction to Database Systems](https://15445.courses.cs.cmu.edu/fall2019/)\n",
        "\n",
        "* [15-721 Advanced Database Systems](https://15721.courses.cs.cmu.edu/spring2020/)"
      ]
    },
    {
      "cell_type": "markdown",
      "metadata": {
        "id": "O48QM3g-UhGI"
      },
      "source": [
        "## Secundario"
      ]
    },
    {
      "cell_type": "markdown",
      "metadata": {
        "id": "Elz31sjbpwAe"
      },
      "source": [
        "* [CS6530: Graduate-level Database System](https://www.cs.utah.edu/~lifeifei/cs6530/)\n",
        "\n",
        "* [CS 276 / LING 286: Information Retrieval and Web Search](http://web.stanford.edu/class/cs276/)\n",
        "\n",
        "* [6.830/6.814: Database Systems](http://dsg.csail.mit.edu/6.830/index.php) \n",
        "\n",
        "* [6.033 Computer System Engineering](http://web.mit.edu/6.033/www/index.shtml)\n",
        "\n",
        "* [A Celebration of Mike Stonebraker](https://www.youtube.com/playlist?list=PLSE8ODhjZXjZO802SjzqBFFlkuKglgbZD)\n",
        "\n",
        "* [How To Compile SQLite](https://sqlite.org/howtocompile.html)"
      ]
    },
    {
      "cell_type": "markdown",
      "metadata": {
        "id": "iQ_5CCKlLfGp"
      },
      "source": [
        "- Relational Databases\n",
        "- Storage\n",
        "- Execution\n",
        "- Concurrency Control\n",
        "- Recovery\n",
        "- Distributed Databases\n",
        "- Potpourri\n",
        "\n",
        "BusTub\n",
        "\n",
        "- Disk-based Storage,\n",
        "- Volcano-style Query Processing,\n",
        "- Pluggable APIs\n",
        "- Currently does not support SQL"
      ]
    },
    {
      "cell_type": "markdown",
      "metadata": {
        "id": "C1yVIh_3bJXX"
      },
      "source": [
        "## 01 Relational Model"
      ]
    },
    {
      "cell_type": "markdown",
      "metadata": {
        "id": "vIQKj1zmbJV3"
      },
      "source": [
        ""
      ]
    },
    {
      "cell_type": "markdown",
      "metadata": {
        "id": "U5OhwdYHM28e"
      },
      "source": [
        "**Database**: Organized collectio nof inter-related data that models some aspect of the real-world.\n",
        "\n",
        "- Ej. Create a database that models a diginal music store to keep track of artists and albumns.\n",
        "\n",
        "**Database Management System**: Is a software system that allows applications to store and analyze information in a database.  \n",
        "\n",
        "A general-purpose DBMS is designed to allow the definition, creation, querying, update, and administration of databases.\n",
        "\n",
        "Database abstraction to avoid this\n",
        "maintenance:\n",
        "-  Store database in simple data structures.\n",
        "- Access data through high-level language,\n",
        "DBMS figures out best strategy.\n",
        "-  Physical storage left up to the DBMS\n",
        "implementation.\n",
        "\n",
        "Data Models\n",
        "\n",
        "- A data model is a collection of concepts for\n",
        "describing the data in a database.\n",
        "  - Relational,\n",
        "  - Key/Value,\n",
        "  - Graph,\n",
        "  - Document,\n",
        "  - Column-family,\n",
        "  - Array/Matrix,\n",
        "  - Hierarchical,\n",
        "  - Network,\n",
        "  - Multi-Value\n",
        "\n",
        "- A schema is a description of a particular collection\n",
        "of data, using a given data model.\n",
        "\n",
        "Relational Data Model\n",
        "\n",
        "- **Structure**: The Definition of the database's relations and their contents.\n",
        "- **Integrity**: Ensure the database's contents sastify constrains.\n",
        "- **Manipulation**: Programming interface for accesing and modifying a database's contents.\n",
        "\n",
        "### Relational Data Model Concepts\n",
        "\n",
        "- A Relation: is an unordered set that contain the relationship of attributes that represents entities.\n",
        "- A tuple: is a set of attribute values (also kknown as its domain) in the relation.\n",
        " - Values are (normally) atomic/scalar.\n",
        " - The special value NULL is a member of every domain.\n",
        "\n",
        "Primary Keys: A relation's primary keys uniquely identifies a single tuple.\n",
        "- Some DBMSs automatically create an internal primary key if a table does not defined one.\n",
        "- Auto-generation of unique integer primary keys:\n",
        "  - Sequence (sql:2003)\n",
        "  - Auto_Increment (MySQL)\n",
        "\n",
        "Foreign Keys:\n",
        "- A *foreign key* specifies that an attribute from one relation has to map to a tuple in another relation.\n",
        "\n",
        "Data Manipulation Languages (DML)\n",
        "\n",
        "- Methods to store and retrieve information from a database.\n",
        "- Procedural: The query specifites the (high-level) strategy the DBMS should use to find the desired result. (Relational Algebra)\n",
        "- Non-Procedural: The query specifies only what data is wanted and not how to find it. (Relational Calculus)\n",
        "\n",
        "Relational Algebra:\n",
        "\n",
        "- **Note**: Relational algebra still defines the high-level steps of how to compute a query. A better approach is to state the high-level answer that you want  the DBMS to compute.\n",
        "\n",
        "- Defines the primitives for processing queries on a relational database.\n",
        "\n",
        "- Fundamental operations that retrieve and manipulate tuples in a relation.\n",
        "- Each *operator* takes one or more relation as its inputs and ouputs a new relation. \"We can 'chain' operators together to create  more complex operations\".\n",
        "\n",
        "\n",
        "- Select: Choose a subset of tuples from a relation that sastisfies a selection predicate.\n",
        "- Projection: Generate a relation with tuples that contains only the specifies attributes.\n",
        "- Union: Generate a relation that constains all tuples that appear in either only one or both input relations.\n",
        "- Intersection: Generate a relation that contains only the tuples that appear in both of the input relations.\n",
        "- Difference: Generate a relation that contains only the tuples \n",
        "- Product: Generate a relation that contains all possible combinations of tuples from the input relations.\n",
        "- Join: Generate a relation that contains all tuples that are combination of two tuples(one from each input relation)  which a commmon value(s) from one or more attributes.\n",
        "\n",
        "\n",
        "Extra Operators:\n",
        " - Rename,\n",
        " - Assign,\n",
        " - Duplicate Elimination,\n",
        " - Aggregation,\n",
        " - Sorting,\n",
        " - Division\n",
        "\n",
        "Queries:\n",
        "- The relational model is independent of any query language   implementation. \n",
        "- *SQL* is the *de fato* standard (many dialects)."
      ]
    },
    {
      "cell_type": "markdown",
      "metadata": {
        "id": "86qLZZrtghpH"
      },
      "source": [
        "## 02 Intermediate SQL"
      ]
    },
    {
      "cell_type": "markdown",
      "metadata": {
        "id": "vbugH7iNv1bC"
      },
      "source": [
        "Relational Languages\n",
        "\n",
        "- User only needs to specify the answer that they want, not how to compute it.\n",
        "- Specificy == Describe\n",
        "- The DBMS is responsible for efficient evaluation of the query.\n",
        "- High-end systems have a sophisticated \"query optimizer\" that can rewrite queries and search for optimal execution strategies.\n",
        "\n",
        "SQL History\n",
        "\n",
        "- IBM's first query language was called \"SQUARE\".\n",
        "- Current standard is SQL:2016\n",
        "- SQL:2016 - JSON, Polymorphic tables\n",
        "- SQL:2011 - Temporal DBs, Pipelined DML\n",
        "- SQL:2008 - Truncation, Fancy Sorting\n",
        "- SQL:2003 - XML, Windows, Sequences, Auto-Gen IDs.\n",
        "- SQL:1999 - Regex, Triggers, OO\n",
        "\n",
        "- Data Manipulation Language (DML)\n",
        "- Data Definition Language (DDL)\n",
        "- Data Control Language (DCL)\n",
        " \n",
        "- SQL is based on bags (duplicates) not sets (no duplicates).\n",
        "\n",
        "\n",
        "Aggregations + Group By\n",
        "String / Date / Time Operations\n",
        "Output Control + Redirection\n",
        "Nested Queries\n",
        "Common Table Expressions\n",
        "Window Functions\n",
        "\n",
        "Aggregates\n",
        "Functions that return a single value from a bag of tuples:\n",
        "- AVG(col)→ Return the average col value.\n",
        "- MIN(col)→ Return minimum col value.\n",
        "- MAX(col)→ Return maximum col value.\n",
        "- SUM(col)→ Return sum of values in col.\n",
        "- COUNT(col)→ Return # of values for col.\n",
        "- Distinct Aggregates : COUNT, SUM, AVG support DISTINCT\n",
        "\n",
        "\n",
        "Group By\n",
        "- Project tuples into subsets and calculate aggregates against each subset. \n",
        "\n",
        "Having\n",
        "- Filters results based on aggregation computation.\n",
        "\n",
        "String Operations\n",
        "SQL-92   | Sensitive \t| Single  Only\n",
        "Postgres | Sensitive\t| Single Only\n",
        "MySQL    | Insensitive | Single/Double\n",
        "SQLite   | Sensitive   | Single/Double\n",
        "DB2      | Sensitive   | Single Only\n",
        "Oracle   | Sensitive   | Single Only\n",
        "\n",
        "- LIKE is used for string matching. \n",
        "  - String-matching operators\n",
        "\t  - '%' Matches any substring (including empty strings).\n",
        "\t  - '_' Match any one character\n",
        " - SQL standard says to use || operator to concatenate two or more strings together.\n",
        "\n",
        "- DATE/TIME OPERATIONS  \n",
        "\n",
        "- Operations to manipulate and modify DATE/TIME attributes\n",
        "\n",
        "Output Redirection\n",
        "\n",
        "Store query results in another table\n",
        "- Table must not already be defined.\n",
        "- Table wil have the same # columns with the same types as the input.\n",
        "- INSERT INTO CourseIds (SELECT DISTINCT cid FROM enrolled); SQL92\n",
        "\n",
        "Output Control\n",
        "- Order BY <column*> [ASC | DESC]\n",
        "- SELECT sid, grade FROM enrolled WHERE cid = '15-721' ORDER BY grade\n",
        "- LIMIT <count> [offset]\n",
        "\n",
        "Nested Queries\n",
        "- Queries containing other queries.\n",
        "- They are often difficult to optimize.\n",
        "- Inner queries can appear (almost) anywhere in query.\n",
        "- SELECT name FROM student WHERE sid IN (SELECT sid FROM enrolled)\n",
        "- ALL - Must satisfy expression for all rows in the sub-query.\n",
        "- ANY - Must satisfy expression for at least one row in the sub-query.\n",
        "- IN  - Equivalent to '=ANY()' .\n",
        "- EXISTS -  At least one row is returned.\n",
        "\n",
        "Window Functions\n",
        "- Performs a \"sliding\" calculation across a set of tuples that are related.\n",
        "- Like an aggregation but tuples are not grouped into a single output tuples.\n",
        "- SELECT ... FUNC-NAME(...) OVER (...) FROM tableName\n",
        "- FUNC-NAME: Aggregation Functions Special Functions\n",
        "- OVER: How to \"slice\" up data - Can also sort\n",
        "   - Use PARTITION BY to specify group.  OVER (PARTITION BY cid)\n",
        "- Aggregation functions: Anything that we discussed earlier\n",
        "- Special window functions: \n",
        "   - ROW_NUMBER() :  # of the current row\n",
        "   - RANK() :  Order position of the current row.\n",
        "- SELECT cid, sid, ROW_NUMBER() OVER (PARTITION BY cid) FROM enrolled ORDER BY cid \n",
        "\n",
        "Common Table Expressions\n",
        "\n",
        "- Provides a way to write auxiliary statements for use in a larger query.\n",
        "- WITH cteName AS (\n",
        "\tSELECT 1\n",
        ")\n",
        "SELECT * FROM cteName\n",
        "\n",
        "CTE Recursion\n",
        "- Print the sequence of numbers from 1 to 10\n",
        "- WITH RECURSIVE cteSource (counter) AS (\n",
        "(SELECT 1)\n",
        "UNION ALL\n",
        "(SELECT counter + 1 FROM cteSource\n",
        "WHERE counter < 10)\n",
        ")\n",
        "SELECT * FROM cteSource\n",
        "-  "
      ]
    }
  ]
}