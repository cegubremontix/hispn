{
  "nbformat": 4,
  "nbformat_minor": 0,
  "metadata": {
    "colab": {
      "name": "Databases.ipynb",
      "provenance": [],
      "authorship_tag": "ABX9TyNMeRzT7wpHL/e/a+VGe5WC",
      "include_colab_link": true
    },
    "kernelspec": {
      "name": "python3",
      "display_name": "Python 3"
    },
    "language_info": {
      "name": "python"
    }
  },
  "cells": [
    {
      "cell_type": "markdown",
      "metadata": {
        "id": "view-in-github",
        "colab_type": "text"
      },
      "source": [
        "<a href=\"https://colab.research.google.com/github/dbremont/Notas/blob/main/Ingenerare/Databases.ipynb\" target=\"_parent\"><img src=\"https://colab.research.google.com/assets/colab-badge.svg\" alt=\"Open In Colab\"/></a>"
      ]
    },
    {
      "cell_type": "markdown",
      "metadata": {
        "id": "7UfxKH0p06kn"
      },
      "source": [
        "- SQL Lite Source Code\n",
        "  - Build & Debug\n",
        "- Virtual Machines\n",
        "- Parser\n",
        "- B-Tree ...\n",
        "- Para instalar SQLite hay que primero instalar tlc\n",
        "- Para ma;na tratar de ./configure && make en folder correctamente y ejecutar la shell y crear una tabla simple."
      ]
    },
    {
      "cell_type": "markdown",
      "metadata": {
        "id": "Elz31sjbpwAe"
      },
      "source": [
        "* [CS6530: Graduate-level Database System](https://www.cs.utah.edu/~lifeifei/cs6530/)\n",
        "\n",
        "* [CSEP545: Transaction Processing for E-Commerce](https://courses.cs.washington.edu/courses/csep545/12wi/)\n",
        "\n",
        "* [A Celebration of Mike Stonebraker](https://www.youtube.com/playlist?list=PLSE8ODhjZXjZO802SjzqBFFlkuKglgbZD)\n",
        "\n",
        "* [Time Series Database](https://www.youtube.com/playlist?list=PLSE8ODhjZXjY0GMWN4X8FIkYNfiu8_Wl9)\n",
        "\n",
        "* [15-445/645 Introduction to Database Systems](https://15445.courses.cs.cmu.edu/fall2019/)\n",
        "\n",
        "* [15-721 Advanced Database Systems](https://15721.courses.cs.cmu.edu/spring2020/)\n",
        "\n",
        "* [CS 245 Principles of Data-Intensive Systems](http://web.stanford.edu/class/cs245/)\n",
        "\n",
        "* [CS 186 Introduction to Databases](https://www.youtube.com/user/CS186Berkeley/playlists)\n",
        "\n",
        "* [Big Data - ETH Zurich](https://www.youtube.com/playlist?list=PLs5KPrcFtb0UHTl_gXR_EYW28m9pD8iYN)\n",
        "\n",
        "* [Big Data for Engineers - ETH Zurich](https://www.youtube.com/playlist?list=PLs5KPrcFtb0UHTl_gXR_EYW28m9pD8iYN)\n",
        "\n",
        "* [CS 276 / LING 286: Information Retrieval and Web Search](http://web.stanford.edu/class/cs276/)\n",
        "\n",
        "* [Advanced Big Data Systems](https://www.edx.org/es/course/advanced-big-data-systems)\n",
        "\n",
        "* [Exploring GraphQL: A Query Language for APIs](https://www.edx.org/es/course/exploring-graphql-a-query-language-for-apis)"
      ]
    }
  ]
}