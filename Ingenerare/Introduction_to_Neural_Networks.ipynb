{
  "nbformat": 4,
  "nbformat_minor": 0,
  "metadata": {
    "colab": {
      "name": "Introduction to Neural Networks.ipynb",
      "provenance": [],
      "toc_visible": true,
      "authorship_tag": "ABX9TyPsnPNWiFr+Yb+c7emow7Io",
      "include_colab_link": true
    },
    "kernelspec": {
      "name": "python3",
      "display_name": "Python 3"
    },
    "language_info": {
      "name": "python"
    }
  },
  "cells": [
    {
      "cell_type": "markdown",
      "metadata": {
        "id": "view-in-github",
        "colab_type": "text"
      },
      "source": [
        "<a href=\"https://colab.research.google.com/github/dbremont/Notas/blob/main/Ingenerare/Introduction_to_Neural_Networks.ipynb\" target=\"_parent\"><img src=\"https://colab.research.google.com/assets/colab-badge.svg\" alt=\"Open In Colab\"/></a>"
      ]
    },
    {
      "cell_type": "markdown",
      "metadata": {
        "id": "9rNiKye3jHpa"
      },
      "source": [
        "# New Section"
      ]
    },
    {
      "cell_type": "markdown",
      "metadata": {
        "id": "rAz8WWO30Bsu"
      },
      "source": [
        "## Introduction to Neural Networks\n",
        "\n",
        "In this lesson, Luis will teach you the foundations of deep learning and neural networks. You'll also implement gradient descent and backpropagation in python, right here in the classroom!\n",
        "\n",
        "[Ir](https://classroom.udacity.com/nanodegrees/nd880/parts/20d53643-50e8-41b6-8063-3d2ac4934bb2/modules/a0ddc1fa-dac3-48b1-ac73-6f3a43492432/lessons/00912248-2445-4713-ad9c-76b8536e1959/concepts/619f8424-5c70-4e14-affe-7363296a41a3)\n",
        "\n",
        "[Continuar aqui](https://colab.research.google.com/github/dbremont/Notas/blob/main/Ingenerare/Introduction_to_Neural_Networks.ipynb#scrollTo=2Y9PrtZSktKV&line=1&uniqifier=1)"
      ]
    },
    {
      "cell_type": "markdown",
      "metadata": {
        "id": "D57BsjeRt_h4"
      },
      "source": [
        "## Classification Problems"
      ]
    },
    {
      "cell_type": "markdown",
      "metadata": {
        "id": "T4bhZHc1WbJ5"
      },
      "source": [
        "- Separates points in a graph.\n",
        "  - Take the data, make a graph.\n",
        "  - Separate the points on the graph to clasify the points.\n",
        "  - A model that separates/clasify the data.\n",
        "\n",
        "\n",
        "- How to find a line?"
      ]
    },
    {
      "cell_type": "markdown",
      "metadata": {
        "id": "N_rQaBv_ukvQ"
      },
      "source": [
        "## Linear Boundaries\n",
        "\n",
        "[Ir](https://youtu.be/X-uMlsBi07k)\n"
      ]
    },
    {
      "cell_type": "markdown",
      "metadata": {
        "id": "IjcuIdnHWenX"
      },
      "source": [
        "- $w_1x_1 + w_2x_2 +b = 0$\n",
        "  - $Wx + b = 0$\n",
        "  - $W = (w_1, w_2)$\n",
        "  - $x = (x_1, x_2)$\n",
        "\n",
        "- $w_i$ is a  weight.\n",
        "- $b$ is the bias.\n",
        "\n",
        "\n",
        "- $y$ label: 0 or 1.\n",
        "\n",
        "- Prediction:\n",
        "\n",
        "\\begin{equation}\n",
        "  \\hat{y}=\n",
        "  \\begin{cases}\n",
        "    0, & \\text{if}\\ Wx + b \\ge 0 \\\\\n",
        "    1, & \\text{if}\\ Wx + b \\lt 0\n",
        "  \\end{cases}\n",
        "\\end{equation}\n"
      ]
    },
    {
      "cell_type": "markdown",
      "metadata": {
        "id": "I8LQKfwvzS38"
      },
      "source": [
        "## Higher Dimensions"
      ]
    },
    {
      "cell_type": "markdown",
      "metadata": {
        "id": "3OjUZpYbWiEd"
      },
      "source": [
        "[Ir](https://youtu.be/eBHunImDmWw)\n",
        "\n",
        "- Discussion of the posibile to use separate data with more than two dimentions.\n",
        "\n",
        "- In our students example, to [grade, test] add 'class rank'."
      ]
    },
    {
      "cell_type": "markdown",
      "metadata": {
        "id": "X5Hk3HkA2c6d"
      },
      "source": [
        "## [Perceptrons](https://en.wikipedia.org/wiki/Perceptron)\n",
        "\n",
        "[Ir](https://youtu.be/hImSxZyRiOw)\n",
        "\n",
        "\n"
      ]
    },
    {
      "cell_type": "markdown",
      "metadata": {
        "id": "f-T6j-qIWj5Q"
      },
      "source": [
        "[Linear model](https://en.wikipedia.org/wiki/Linear_model)\n",
        "\n",
        "- Para reforzar la equación de una linea.\n",
        "\n",
        "- At 3:07 in the video, the title should read \"Step Function\", not \"Set Function\".\n",
        "- At 3:07 in the video, the definition of the Step function should be:\n",
        "\n",
        "- $y=1$  if $x >= 0; y=0$ if $x<0$\n",
        "\n",
        "- [Heaviside step function](https://en.wikipedia.org/wiki/Heaviside_step_function)\n",
        "\n",
        "- [Parametric equation](https://en.wikipedia.org/wiki/Parametric_equation)"
      ]
    },
    {
      "cell_type": "markdown",
      "metadata": {
        "id": "m7FFRgy065kD"
      },
      "source": [
        "## Why \"Neural Networks?\"\n",
        "\n",
        "[Ir](https://youtu.be/zAkzOZntK6Y)\n"
      ]
    },
    {
      "cell_type": "markdown",
      "metadata": {
        "id": "0HNz0CGSWlxw"
      },
      "source": [
        "[Anatomia de una Neurona](https://youtu.be/3Ac0fTG2URE)\n",
        "\n",
        "En el video se compara la anatomia de una neurona computacional y como se forman las redes, con las redes de neuronas biologicas en nuestro cerebro.\n"
      ]
    },
    {
      "cell_type": "markdown",
      "metadata": {
        "id": "LcZeV1gW75iD"
      },
      "source": [
        "## Perceptrons as Logical Operators\n",
        "\n",
        "[Ir](https://youtu.be/Y-ImuxNpS40)"
      ]
    },
    {
      "cell_type": "markdown",
      "metadata": {
        "id": "d0cL081cWpo6"
      },
      "source": [
        "Play ajusting the weight and bias, to find the line that best separete the data.\n",
        "\n",
        "```python\n",
        "import pandas as pd\n",
        "\n",
        "# TODO: Set weight1, weight2, and bias\n",
        "weight1 = 0.0\n",
        "weight2 = 0.0\n",
        "bias = 0.0\n",
        "\n",
        "\n",
        "# DON'T CHANGE ANYTHING BELOW\n",
        "# Inputs and outputs\n",
        "test_inputs = [(0, 0), (0, 1), (1, 0), (1, 1)]\n",
        "correct_outputs = [False, False, False, True]\n",
        "outputs = []\n",
        "\n",
        "# Generate and check output\n",
        "for test_input, correct_output in zip(test_inputs, correct_outputs):\n",
        "    linear_combination = weight1 * test_input[0] + weight2 * test_input[1] + bias\n",
        "    output = int(linear_combination >= 0)\n",
        "    is_correct_string = 'Yes' if output == correct_output else 'No'\n",
        "    outputs.append([test_input[0], test_input[1], linear_combination, output, is_correct_string])\n",
        "\n",
        "# Print output\n",
        "num_wrong = len([output[4] for output in outputs if output[4] == 'No'])\n",
        "output_frame = pd.DataFrame(outputs, columns=['Input 1', '  Input 2', '  Linear Combination', '  Activation Output', '  Is Correct'])\n",
        "if not num_wrong:\n",
        "    print('Nice!  You got it all correct.\\n')\n",
        "else:\n",
        "    print('You got {} wrong.  Keep trying!\\n'.format(num_wrong))\n",
        "print(output_frame.to_string(index=False))\n",
        "\n",
        "```\n"
      ]
    },
    {
      "cell_type": "markdown",
      "metadata": {
        "id": "nZyZPXzrEoKs"
      },
      "source": [
        "## Perceptron Trick\n",
        "\n",
        "[Ir](https://youtu.be/-zhTROHtscQ)\n"
      ]
    },
    {
      "cell_type": "markdown",
      "metadata": {
        "id": "5qa8T_X_W5-Y"
      },
      "source": [
        "Quiz:\n",
        "  - If a points is misclasified? Would we want a line closer or farther from the point?\n",
        "\n",
        "  - [Quiz response](https://youtu.be/fATmrG2hQzI)\n",
        "\n",
        "[Math trick to make a line closer to a point](https://youtu.be/lif_qPmXvWA)\n",
        "\n",
        "[**Learning rate**](https://en.wikipedia.org/wiki/Learning_rate)\n",
        "\n",
        "```python\n",
        "# Learn more about numerical stability\n",
        "# How many steps to clasify the point (1,1) correctly.\n",
        "# With initial model x1 + 4x2 - 10 = 0\n",
        "\n",
        "\n",
        "w_1 = 3.0\n",
        "w_2 = 4.0\n",
        "b = -10.0\n",
        "\n",
        "learning_rate = 0.1\n",
        "\n",
        "times  = 0\n",
        "\n",
        "x_1 = 1\n",
        "x_2 = 1\n",
        "\n",
        "while True:\n",
        "  \n",
        "  correctlyClassify1_1 = w_1 + w_2  + b >= 0\n",
        "  \n",
        "  if (correctlyClassify1_1):\n",
        "    \"\"\"It has correctly classify (1,1)\"\"\"\n",
        "    break\n",
        "  else:\n",
        "    w_1 = w_1 + (x_1 * learning_rate)\n",
        "    w_2 = w_2 + (x_2 * learning_rate)\n",
        "    b = b + (1 * 0.1)\n",
        "    times += 1\n",
        "\n",
        "# print(times)\n",
        "# print(w_1, w_2, b)\n",
        "```"
      ]
    },
    {
      "cell_type": "markdown",
      "metadata": {
        "id": "5EBokxwdQwRK"
      },
      "source": [
        "## Perceptron Algorithm\n",
        "\n",
        "[Ir](https://classroom.udacity.com/nanodegrees/nd880/parts/20d53643-50e8-41b6-8063-3d2ac4934bb2/modules/a0ddc1fa-dac3-48b1-ac73-6f3a43492432/lessons/00912248-2445-4713-ad9c-76b8536e1959/concepts/dc837952-c0d8-43fc-921c-f1ffe316c795)\n"
      ]
    },
    {
      "cell_type": "markdown",
      "metadata": {
        "id": "2BtzMiw1W9Qc"
      },
      "source": [
        "1. Start with random weights: $w_1$,  ..., $w_n$, $b$.\n",
        "2. For every misclassified point ($X_1$, ..., $X_n$):\n",
        "  - If prediction = 0:\n",
        "    - For i = 1 ... n\n",
        "      - Change $w_i +  \\alpha x_i$\n",
        "    - Change b to $b + \\alpha$\n",
        "\n",
        "  - If prediction = 1:\n",
        "    - For i = 1 ... n\n",
        "      - Change $w_i -  \\alpha x_i$\n",
        "    - Change b to $b - \\alpha$\n",
        "\n",
        "- $\\alpha$ is the learning rate.\n",
        "\n",
        "**Recall that the perceptron step works as follows.**\n",
        "\n",
        "For a point with coordinates $(p,q)$, label $y$, and prediction given by the equation $\\hat{y} = step(w_1x_1 + w_2x_2 + b)$:\n",
        "\n",
        "- If the point is correctly classified, do nothing.\n",
        "\n",
        "- If the point is classified positive, but it has a negative label, subtract $\\alpha p$, $\\alpha q$, and $\\alpha$ from $w_1$, $w_2$ , and $b$ respectively.\n",
        "\n",
        "- If the point is classified negative, but it has a positive label, add $\\alpha p$, $\\alpha q$, and $\\alpha$  to $w_1$, $w_2$, and $b$ respectively."
      ]
    },
    {
      "cell_type": "code",
      "metadata": {
        "id": "hVIHWzelbIUu"
      },
      "source": [
        "# Make graph of the data\n",
        "# Make graph of the prediction with colors of the points\n",
        "# Make graph of the boundary line\n",
        "# Try to play with the  perceptron algorim\n",
        "\n",
        "import numpy as np\n",
        "\n",
        "# Setting the random seed, feel free to change it and see different solutions.\n",
        "np.random.seed(42)\n",
        "\n",
        "def stepFunction(t):\n",
        "    if t >= 0:\n",
        "        return 1\n",
        "    return 0\n",
        "\n",
        "def prediction(X, W, b):\n",
        "    return stepFunction((np.matmul(X,W)+b)[0])\n",
        "\n",
        "# TODO: Fill in the code below to implement the perceptron trick.\n",
        "# The function should receive as inputs the data X, the labels y,\n",
        "# the weights W (as an array), and the bias b,\n",
        "# update the weights and bias W, b, according to the perceptron algorithm,\n",
        "# and return W and b.\n",
        "def perceptronStep(X, y, W, b, learn_rate = 0.01):\n",
        "    \n",
        "   # print(X)\n",
        "    \n",
        "    for n in range(len(X)):\n",
        "        point = X[n]\n",
        "        label = y[n]\n",
        "        \n",
        "        y_hat  = prediction(point, W, b)\n",
        "    \n",
        "        if y_hat == label:\n",
        "          return W, b\n",
        "        \n",
        "        elif y_hat == 1 and label == 0:\n",
        "          W = [ W[i] - (point[i] * learn_rate)\n",
        "                for i in range(len(point))]\n",
        "          \n",
        "          b = b - learn_rate\n",
        "        \n",
        "        elif y_hat == 0 and label  == 1:\n",
        "          W = [ W[i] + (point[i] * learn_rate) \n",
        "                for i in range(len(point))]\n",
        "          \n",
        "          b = b + learn_rate\n",
        "        \n",
        "    return W, b\n",
        "    \n",
        "# This function runs the perceptron algorithm repeatedly on the dataset,\n",
        "# and returns a few of the boundary lines obtained in the iterations,\n",
        "# for plotting purposes.\n",
        "# Feel free to play with the learning rate and the num_epochs,\n",
        "# and see your results plotted below.\n",
        "def trainPerceptronAlgorithm(X, y, learn_rate = 0.01, num_epochs = 25):\n",
        "    x_min, x_max = min(X.T[0]), max(X.T[0])\n",
        "    y_min, y_max = min(X.T[1]), max(X.T[1])\n",
        "    W = np.array(np.random.rand(2,1))\n",
        "    b = np.random.rand(1)[0] + x_max\n",
        "    # These are the solution lines that get plotted below.\n",
        "    boundary_lines = []\n",
        "    for i in range(num_epochs):\n",
        "        # In each epoch, we apply the perceptron step.\n",
        "        W, b = perceptronStep(X, y, W, b, learn_rate)\n",
        "        boundary_lines.append((-W[0]/W[1], -b/W[1]))\n",
        "    return boundary_lines\n"
      ],
      "execution_count": null,
      "outputs": []
    },
    {
      "cell_type": "markdown",
      "metadata": {
        "id": "0PPKVYBsimRq"
      },
      "source": [
        "### Data"
      ]
    },
    {
      "cell_type": "markdown",
      "metadata": {
        "id": "wOIfm-jtiorz"
      },
      "source": [
        "```\n",
        "0.78051,-0.063669,1\n",
        "0.28774,0.29139,1\n",
        "0.40714,0.17878,1\n",
        "0.2923,0.4217,1\n",
        "0.50922,0.35256,1\n",
        "0.27785,0.10802,1\n",
        "0.27527,0.33223,1\n",
        "0.43999,0.31245,1\n",
        "0.33557,0.42984,1\n",
        "0.23448,0.24986,1\n",
        "0.0084492,0.13658,1\n",
        "0.12419,0.33595,1\n",
        "0.25644,0.42624,1\n",
        "0.4591,0.40426,1\n",
        "0.44547,0.45117,1\n",
        "0.42218,0.20118,1\n",
        "0.49563,0.21445,1\n",
        "0.30848,0.24306,1\n",
        "0.39707,0.44438,1\n",
        "0.32945,0.39217,1\n",
        "0.40739,0.40271,1\n",
        "0.3106,0.50702,1\n",
        "0.49638,0.45384,1\n",
        "0.10073,0.32053,1\n",
        "0.69907,0.37307,1\n",
        "0.29767,0.69648,1\n",
        "0.15099,0.57341,1\n",
        "0.16427,0.27759,1\n",
        "0.33259,0.055964,1\n",
        "0.53741,0.28637,1\n",
        "0.19503,0.36879,1\n",
        "0.40278,0.035148,1\n",
        "0.21296,0.55169,1\n",
        "0.48447,0.56991,1\n",
        "0.25476,0.34596,1\n",
        "0.21726,0.28641,1\n",
        "0.67078,0.46538,1\n",
        "0.3815,0.4622,1\n",
        "0.53838,0.32774,1\n",
        "0.4849,0.26071,1\n",
        "0.37095,0.38809,1\n",
        "0.54527,0.63911,1\n",
        "0.32149,0.12007,1\n",
        "0.42216,0.61666,1\n",
        "0.10194,0.060408,1\n",
        "0.15254,0.2168,1\n",
        "0.45558,0.43769,1\n",
        "0.28488,0.52142,1\n",
        "0.27633,0.21264,1\n",
        "0.39748,0.31902,1\n",
        "0.5533,1,0\n",
        "0.44274,0.59205,0\n",
        "0.85176,0.6612,0\n",
        "0.60436,0.86605,0\n",
        "0.68243,0.48301,0\n",
        "1,0.76815,0\n",
        "0.72989,0.8107,0\n",
        "0.67377,0.77975,0\n",
        "0.78761,0.58177,0\n",
        "0.71442,0.7668,0\n",
        "0.49379,0.54226,0\n",
        "0.78974,0.74233,0\n",
        "0.67905,0.60921,0\n",
        "0.6642,0.72519,0\n",
        "0.79396,0.56789,0\n",
        "0.70758,0.76022,0\n",
        "0.59421,0.61857,0\n",
        "0.49364,0.56224,0\n",
        "0.77707,0.35025,0\n",
        "0.79785,0.76921,0\n",
        "0.70876,0.96764,0\n",
        "0.69176,0.60865,0\n",
        "0.66408,0.92075,0\n",
        "0.65973,0.66666,0\n",
        "0.64574,0.56845,0\n",
        "0.89639,0.7085,0\n",
        "0.85476,0.63167,0\n",
        "0.62091,0.80424,0\n",
        "0.79057,0.56108,0\n",
        "0.58935,0.71582,0\n",
        "0.56846,0.7406,0\n",
        "0.65912,0.71548,0\n",
        "0.70938,0.74041,0\n",
        "0.59154,0.62927,0\n",
        "0.45829,0.4641,0\n",
        "0.79982,0.74847,0\n",
        "0.60974,0.54757,0\n",
        "0.68127,0.86985,0\n",
        "0.76694,0.64736,0\n",
        "0.69048,0.83058,0\n",
        "0.68122,0.96541,0\n",
        "0.73229,0.64245,0\n",
        "0.76145,0.60138,0\n",
        "0.58985,0.86955,0\n",
        "0.73145,0.74516,0\n",
        "0.77029,0.7014,0\n",
        "0.73156,0.71782,0\n",
        "0.44556,0.57991,0\n",
        "0.85275,0.85987,0\n",
        "0.51912,0.62359,0\n",
        "```"
      ]
    },
    {
      "cell_type": "markdown",
      "metadata": {
        "id": "bWPV08OBiysX"
      },
      "source": [
        "### Solution"
      ]
    },
    {
      "cell_type": "code",
      "metadata": {
        "id": "FpGohsGei1OR"
      },
      "source": [
        "def perceptronStep(X, y, W, b, learn_rate = 0.01):\n",
        "    for i in range(len(X)):\n",
        "        y_hat = prediction(X[i],W,b)\n",
        "        if y[i]-y_hat == 1:\n",
        "            W[0] += X[i][0]*learn_rate\n",
        "            W[1] += X[i][1]*learn_rate\n",
        "            b += learn_rate\n",
        "        elif y[i]-y_hat == -1:\n",
        "            W[0] -= X[i][0]*learn_rate\n",
        "            W[1] -= X[i][1]*learn_rate\n",
        "            b -= learn_rate\n",
        "    return W, b\n"
      ],
      "execution_count": null,
      "outputs": []
    },
    {
      "cell_type": "markdown",
      "metadata": {
        "id": "GkgiiEuGjJzS"
      },
      "source": [
        "## Non-Linear Regions\n",
        "\n",
        "[Ir](https://youtu.be/B8UrWnHh1Wc)"
      ]
    },
    {
      "cell_type": "markdown",
      "metadata": {
        "id": "7asWOg7SjWI8"
      },
      "source": [
        "- Look closer at the model for acepting or rejecting students.\n",
        "\n",
        "- Positive and Negative region of the lines.\n",
        "\n",
        "- Redefined the perceptron algorithm for lines to generelize for others types of curves."
      ]
    },
    {
      "cell_type": "markdown",
      "metadata": {
        "id": "msUWtdxJjyHN"
      },
      "source": [
        "## Error Functions\n",
        "\n",
        "[Ir](https://youtu.be/YfUUunxWIJw)"
      ]
    },
    {
      "cell_type": "markdown",
      "metadata": {
        "id": "7ExX5RCOj0Bg"
      },
      "source": [
        "- How far are we are from the solution.\n",
        "\n",
        "- We are goint to used errors functions to fit curves to data. And make more complex clasifications."
      ]
    },
    {
      "cell_type": "markdown",
      "metadata": {
        "id": "2Y9PrtZSktKV"
      },
      "source": [
        "## Log-loss Error Function\n",
        "\n",
        "[Ir](https://youtu.be/jfKShxGAbok)\n"
      ]
    }
  ]
}