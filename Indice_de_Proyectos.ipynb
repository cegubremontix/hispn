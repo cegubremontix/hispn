{
  "nbformat": 4,
  "nbformat_minor": 0,
  "metadata": {
    "colab": {
      "name": "Indice  de Proyectos.ipynb",
      "provenance": [],
      "authorship_tag": "ABX9TyMx9TbR/Hh0pK9nZFYbzn3p",
      "include_colab_link": true
    },
    "kernelspec": {
      "name": "python3",
      "display_name": "Python 3"
    },
    "language_info": {
      "name": "python"
    }
  },
  "cells": [
    {
      "cell_type": "markdown",
      "metadata": {
        "id": "view-in-github",
        "colab_type": "text"
      },
      "source": [
        "<a href=\"https://colab.research.google.com/github/dbremont/Notas/blob/main/Indice_de_Proyectos.ipynb\" target=\"_parent\"><img src=\"https://colab.research.google.com/assets/colab-badge.svg\" alt=\"Open In Colab\"/></a>"
      ]
    },
    {
      "cell_type": "markdown",
      "metadata": {
        "id": "xhh9N8OtSFyl"
      },
      "source": [
        "# Ideas de Proyectos"
      ]
    },
    {
      "cell_type": "markdown",
      "metadata": {
        "id": "P5Ytv3TfSJ9s"
      },
      "source": [
        "- Aproximador Universal - para validar la cedula dominicana buscar cedulas en google images. \"Las cedulas son delicadas\" por que se pueden utilizar para hacer cosas ...."
      ]
    },
    {
      "cell_type": "markdown",
      "metadata": {
        "id": "fcK2RJRhzn0b"
      },
      "source": [
        "- Notification hub."
      ]
    },
    {
      "cell_type": "markdown",
      "metadata": {
        "id": "NiEfx95izuaE"
      },
      "source": [
        "- Idea para articulo: How to understand a new codebase."
      ]
    },
    {
      "cell_type": "markdown",
      "metadata": {
        "id": "fG0i5K0i0MJm"
      },
      "source": [
        "- A probabilistic approach to solving sudoku\n",
        "    - [Video](https://www.youtube.com/watch?v=FyyVbuLZav8&feature=youtu.be)\n",
        "    - [Code](https://github.com/challengingLuck/youtube/blob/master/sudoku/sudoku.py)\n",
        "    - [Reddit Discussion](https://www.reddit.com/r/math/comments/j4feg2/a_probabilistic_approach_to_solving_sudoku/)\n"
      ]
    },
    {
      "cell_type": "markdown",
      "metadata": {
        "id": "pBAebBAS1gxm"
      },
      "source": [
        "- Audio transmission over ethernet."
      ]
    },
    {
      "cell_type": "markdown",
      "metadata": {
        "id": "NXfqvZWs3xdJ"
      },
      "source": [
        "- Fillable pdf (python demo)."
      ]
    },
    {
      "cell_type": "markdown",
      "metadata": {
        "id": "N_zVF9-v5sy7"
      },
      "source": [
        "* [Building a full-text search engine in 150 lines of Python code](https://bart.degoe.de/building-a-full-text-search-engine-150-lines-of-code/)"
      ]
    },
    {
      "cell_type": "markdown",
      "metadata": {
        "id": "Oxi7mv0v5uO2"
      },
      "source": [
        "* [A Simple Web Server - 500L](https://www.aosabook.org/en/500L/a-simple-web-server.html)"
      ]
    },
    {
      "cell_type": "markdown",
      "metadata": {
        "id": "zfTtxfN55vvN"
      },
      "source": [
        "* [A Template Engine -   500L](https://www.aosabook.org/en/500L/a-template-engine.html)"
      ]
    },
    {
      "cell_type": "markdown",
      "metadata": {
        "id": "yYDiBcr05xWH"
      },
      "source": [
        "* [A Web Crawler With asyncio Coroutines - 500L](https://www.aosabook.org/en/500L/a-web-crawler-with-asyncio-coroutines.html)"
      ]
    },
    {
      "cell_type": "markdown",
      "metadata": {
        "id": "8msQEsaK5z3J"
      },
      "source": [
        "* [A Continuous Integration System - 500L](https://www.aosabook.org/en/500L/a-continuous-integration-system.html)"
      ]
    },
    {
      "cell_type": "markdown",
      "metadata": {
        "id": "imZ08gjH51jh"
      },
      "source": [
        "* [An Event-Driven Web Framework - 500L](https://www.aosabook.org/en/500L/an-event-driven-web-framework.html)"
      ]
    },
    {
      "cell_type": "markdown",
      "metadata": {
        "id": "MKs7XUDs53F2"
      },
      "source": [
        "* [Clustering by Consensus - 500L](https://www.aosabook.org/en/500L/clustering-by-consensus.html)"
      ]
    },
    {
      "cell_type": "markdown",
      "metadata": {
        "id": "2VZzBWuV55US"
      },
      "source": [
        "* [Getting better at Linux with 10 mini-projects](https://carltheperson.com/posts/10-things-linux)"
      ]
    },
    {
      "cell_type": "markdown",
      "metadata": {
        "id": "olXhjDVp56tG"
      },
      "source": [
        "* [Contingent: A Fully Dynamic Build System - 500L](https://www.aosabook.org/en/500L/contingent-a-fully-dynamic-build-system.html)"
      ]
    },
    {
      "cell_type": "markdown",
      "metadata": {
        "id": "EyHaIHPO58S6"
      },
      "source": [
        "- [130 Machine Learning Projects Solved and Explained](https://medium.com/the-innovation/130-machine-learning-projects-solved-and-explained-605d188fb392)"
      ]
    },
    {
      "cell_type": "markdown",
      "metadata": {
        "id": "wLj22GJM596f"
      },
      "source": [
        "* [Build your own (insert technology here)](https://github.com/danistefanovic/build-your-own-x#build-your-own-neural-network)"
      ]
    },
    {
      "cell_type": "markdown",
      "metadata": {
        "id": "kx0aHrMg61dB"
      },
      "source": [
        "* [Dagoba: an in-memory graph database - 500L](https://www.aosabook.org/en/500L/dagoba-an-in-memory-graph-database.html)"
      ]
    },
    {
      "cell_type": "markdown",
      "metadata": {
        "id": "JhCG7R4n623z"
      },
      "source": [
        "* [Static Analysis - 500L](https://www.aosabook.org/en/500L/static-analysis.html)\n"
      ]
    },
    {
      "cell_type": "markdown",
      "metadata": {
        "id": "BNm9AKKC64cd"
      },
      "source": [
        "* [Build a Toy Quantum Computer at Home](https://www.dhruvonmath.com/2020/07/19/quantum-computers/)"
      ]
    },
    {
      "cell_type": "markdown",
      "metadata": {
        "id": "0PZ8BiLq68cJ"
      },
      "source": [
        "* [How to implement a hash table (in C)](https://benhoyt.com/writings/hash-table-in-c/)"
      ]
    },
    {
      "cell_type": "markdown",
      "metadata": {
        "id": "N20HUQnI6-BO"
      },
      "source": [
        "* [Bayesian Optimization Tutorial with Python](https://www.coursera.org/projects/bayesian-optimization-python)"
      ]
    },
    {
      "cell_type": "markdown",
      "metadata": {
        "id": "o6-QX8wX7AXU"
      },
      "source": [
        "* [Bristol-Myers Squibb – Molecular Translation\n",
        "Can you translate chemical images to text?](https://www.kaggle.com/c/bms-molecular-translation)"
      ]
    },
    {
      "cell_type": "markdown",
      "metadata": {
        "id": "pgh9C5Aq7CdR"
      },
      "source": [
        "* [Joel Net - live coding deep learning library](https://github.com/joelgrus/joelnet)"
      ]
    },
    {
      "cell_type": "markdown",
      "metadata": {
        "id": "a1l1C96J7EBA"
      },
      "source": [
        "\n",
        "* [Min GPT](https://github.com/karpathy/minGPT)"
      ]
    },
    {
      "cell_type": "markdown",
      "metadata": {
        "id": "6MS1dIKx7GSi"
      },
      "source": [
        "* [ConvNetJS Deep Learning in your browser](https://cs.stanford.edu/people/karpathy/convnetjs/index.html)"
      ]
    },
    {
      "cell_type": "markdown",
      "metadata": {
        "id": "UOGw9ZCl7Hr6"
      },
      "source": [
        "* [Carla - Open-source simulator for autonomous driving research](https://carla.org/)"
      ]
    },
    {
      "cell_type": "markdown",
      "metadata": {
        "id": "QjHyO2LM7Qtm"
      },
      "source": [
        "- [A small C compiler](https://github.com/rui314/chibicc)\n"
      ]
    },
    {
      "cell_type": "markdown",
      "metadata": {
        "id": "lJlFXP_G7ST3"
      },
      "source": [
        "- [Aaronson Oracle](https://roadtolarissa.com/oracle/)"
      ]
    },
    {
      "cell_type": "markdown",
      "metadata": {
        "id": "UxKWo2MQ7V8B"
      },
      "source": [
        "- [Hutter Prize](http://prize.hutter1.net/)\n",
        "  - [Data Compression Programs](http://mattmahoney.net/dc/)\n",
        "  - [Context Tree Weighting: compression = AI](https://www.youtube.com/watch?v=Sx2PVCAiGhQ)"
      ]
    },
    {
      "cell_type": "markdown",
      "metadata": {
        "id": "bSROKhzE7YAp"
      },
      "source": [
        "-  Analizador de Objetos Mutables\n",
        "\t: Items ${I_{v1}, I_{v2}, I_{v3}, I_{v4}, ..., V_{vn}}$ $\\longrightarrow$ Graph of States\n",
        "\n",
        "    - Analizar los flujos de los estados. "
      ]
    },
    {
      "cell_type": "markdown",
      "metadata": {
        "id": "CJ2F9Wez7Z0W"
      },
      "source": [
        "- Operation Tree with the results for logging and analysis. In a API Level."
      ]
    },
    {
      "cell_type": "markdown",
      "metadata": {
        "id": "gLxsgcra7b4d"
      },
      "source": [
        "- [Running and Debugging xv6](https://zoo.cs.yale.edu/classes/cs422/2011/lec/l2-hw.shtml)"
      ]
    },
    {
      "cell_type": "markdown",
      "metadata": {
        "id": "U3Gu77Oa7dV-"
      },
      "source": [
        "- [Convert a Kindle as a Server](https://github.com/davidhampgonsalves/life-dashboard)"
      ]
    },
    {
      "cell_type": "markdown",
      "metadata": {
        "id": "GYD0rVeK7fHs"
      },
      "source": [
        "- Baseline Concurrent Server\n",
        "  * Implements HTTP/IO get request for static and dyamic content.\n",
        "  * Assumes one conection per request.\n",
        "  * Uses CGI Protocol\n",
        "  * Sever, .html, .css, .gif, .jpg, .txt\n",
        "  * Accepts a sngle command line command:  the port to listen\n",
        "  * Implements concurrency using either threads or I/O multiplexing.\n",
        "  * ISAPI (Microsoft), NSAPI (Netscape), fast-cgi."
      ]
    },
    {
      "cell_type": "markdown",
      "metadata": {
        "id": "InNpWY997h7W"
      },
      "source": [
        "* [A simple file system for Linux kernel](https://github.com/jserv/simplefs)"
      ]
    },
    {
      "cell_type": "markdown",
      "metadata": {
        "id": "hzX8vkPh7jfF"
      },
      "source": [
        "* [Build Your Own Container Using Less than 100 Lines of Go](https://www.infoq.com/articles/build-a-container-golang/)"
      ]
    },
    {
      "cell_type": "markdown",
      "metadata": {
        "id": "iPbmVCRS7mB8"
      },
      "source": [
        "- [Classify Radio Signals from Space using Keras](https://www.coursera.org/projects/classify-radio-signals-space-keras-cnn)"
      ]
    },
    {
      "cell_type": "markdown",
      "metadata": {
        "id": "irI6iQh77oTA"
      },
      "source": [
        "- [Predict electricity consumption in Python using Scikit-Learn](https://www.coursera.org/projects/predict-electricity-consumption)"
      ]
    },
    {
      "cell_type": "markdown",
      "metadata": {
        "id": "5KgCdQuE7qLk"
      },
      "source": [
        "- [Real-time OCR and Text Detection with Tensorflow, OpenCV and Tesseract](https://www.coursera.org/projects/ocr-text-detection-tensorflow-opencv-tesseract)"
      ]
    },
    {
      "cell_type": "markdown",
      "metadata": {
        "id": "e3YS0Im17uWM"
      },
      "source": [
        "- [Human Predicament Complex Modeling](https://www.coursera.org/projects/predicament-modeling)"
      ]
    },
    {
      "cell_type": "markdown",
      "metadata": {
        "id": "DAtAXPoY7xOw"
      },
      "source": [
        "- [COVID Genome Computational Analysis](https://github.com/Bhard27/COVID-Genome-Computational-Analysis)"
      ]
    },
    {
      "cell_type": "markdown",
      "metadata": {
        "id": "bSP5w16y7y5O"
      },
      "source": [
        "* [A Geometrical Approach to Genome Analysis: Skew & Z-Curve](https://www.coursera.org/projects/genome-analysis-z-curve)"
      ]
    },
    {
      "cell_type": "markdown",
      "metadata": {
        "id": "Q-vrutJY-C_W"
      },
      "source": [
        "Create a lazy-evaluation class for (linear execution chain):\n",
        "\n",
        "```\n",
        "OperationResult.Do(x)\n",
        ".then(fail, sucess)\n",
        ".then(fail, sucess)\n",
        ".then(fail, sucess)\n",
        "```\n",
        "\n",
        "with semantics \n",
        "- ```Do(x)``` - Operation\n",
        "- ```.then(fail, sucess)``` - If ```x sucess``` then sucess will be call, and the execution chain continues, if ```x fail```  fail will be call and the execution chain will be halted."
      ]
    },
    {
      "cell_type": "markdown",
      "metadata": {
        "id": "4jkC2dFUnjRd"
      },
      "source": [
        "- Aplicacion: Monitorizacion de Animales (En mi caso chivos)."
      ]
    }
  ]
}