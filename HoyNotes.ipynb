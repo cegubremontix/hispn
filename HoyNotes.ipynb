{
  "nbformat": 4,
  "nbformat_minor": 0,
  "metadata": {
    "colab": {
      "name": "HoyNotes.ipynb",
      "provenance": [],
      "collapsed_sections": [],
      "authorship_tag": "ABX9TyMAucC42Q3ET7e5T+gDqxQY",
      "include_colab_link": true
    },
    "kernelspec": {
      "name": "python3",
      "display_name": "Python 3"
    },
    "language_info": {
      "name": "python"
    }
  },
  "cells": [
    {
      "cell_type": "markdown",
      "metadata": {
        "id": "view-in-github",
        "colab_type": "text"
      },
      "source": [
        "<a href=\"https://colab.research.google.com/github/dbremont/Notas/blob/main/HoyNotes.ipynb\" target=\"_parent\"><img src=\"https://colab.research.google.com/assets/colab-badge.svg\" alt=\"Open In Colab\"/></a>"
      ]
    },
    {
      "cell_type": "markdown",
      "metadata": {
        "id": "QANBI3YAD5qn"
      },
      "source": [
        "## sab ago 21\n",
        "\n",
        "**Links**\n",
        "\n",
        "- [How to deliver constructive feedback in difficult situations](https://productivityhub.org/2019/04/19/how-to-deliver-constructive-feedback-in-difficult-situations/)\n",
        "\n",
        "- [Monthly Gold Prices Starter](https://www.kaggle.com/odins0n/monthly-gold-prices-starter)\n",
        " \n",
        "- [Possible world](https://en.wikipedia.org/wiki/Possible_world)\n",
        "\n",
        "- [jekyllrb](https://jekyllrb.com/) \n",
        "\n",
        "- [hyde theme](https://github.com/poole/hyde)\n",
        "\n",
        "- [just-the-docs theme](https://github.com/pmarsceill/just-the-docs)\n",
        "\n",
        "- [bundler vs RVM vs gems vs RubyGems vs gemsets vs system ruby](https://stackoverflow.com/questions/15586216/bundler-vs-rvm-vs-gems-vs-rubygems-vs-gemsets-vs-system-ruby)\n",
        "\n",
        "- [bundler](https://bundler.io/)\n",
        "\n",
        "- [The web browser as a tool of thought](https://thesephist.com/posts/browser/)\n",
        "\n",
        "- [Genius checklist](https://supermemo.guru/wiki/Genius_checklist)\n",
        "\n",
        "- [An Opinionated Guide to xargs](https://www.oilshell.org/blog/2021/08/xargs.html)\n",
        "\n",
        "- [Parser generators vs. handwritten parsers: surveying major language implementations in 2021](https://notes.eatonphil.com/parser-generators-vs-handwritten-parsers-survey-2021.html)\n",
        "\n",
        "- [Patterns in confusing explanations](https://jvns.ca/blog/confusing-explanations/)\n",
        "\n",
        "**Notas**\n",
        "\n",
        "\n",
        "- Creer remainder para acostarme y levantarme.\n",
        "- Instale hyde\n",
        "- **Todo** Con hyde es bueno que haga fork al proyecto y lo mantenga.\n",
        "- Instale y utilize just the docs "
      ]
    }
  ]
}