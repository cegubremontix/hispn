{
  "nbformat": 4,
  "nbformat_minor": 0,
  "metadata": {
    "colab": {
      "name": "zsh.ipynb",
      "provenance": [],
      "authorship_tag": "ABX9TyNuMlF7hScB9flhHp941Vey",
      "include_colab_link": true
    },
    "kernelspec": {
      "name": "python3",
      "display_name": "Python 3"
    },
    "language_info": {
      "name": "python"
    }
  },
  "cells": [
    {
      "cell_type": "markdown",
      "metadata": {
        "id": "view-in-github",
        "colab_type": "text"
      },
      "source": [
        "<a href=\"https://colab.research.google.com/github/dbremont/Notas/blob/main/ingenerare/zsh.ipynb\" target=\"_parent\"><img src=\"https://colab.research.google.com/assets/colab-badge.svg\" alt=\"Open In Colab\"/></a>"
      ]
    },
    {
      "cell_type": "markdown",
      "metadata": {
        "id": "PkF_9EY0XB6Y"
      },
      "source": [
        "- [ohmyzsh](https://ohmyz.sh/)\n",
        "\n",
        "- [fish-like autosuggestions for zsh](https://github.com/zsh-users/zsh-autosuggestions)\n",
        "\n",
        "\n",
        "- [How to edit command line in full screen editor in ZSH?](https://unix.stackexchange.com/questions/6620/how-to-edit-command-line-in-full-screen-editor-in-zsh)\n",
        "\n",
        "- [List of zsh bindkey commands](https://stackoverflow.com/questions/18042685/list-of-zsh-bindkey-commands)\n",
        "\n",
        "- [Oh-My-Zsh! A Work of CLI Magic — Tutorial for Ubuntu](https://medium.com/wearetheledger/oh-my-zsh-made-for-cli-lovers-installation-guide-3131ca5491fb)\n",
        "\n",
        "- [ohmyzsh Cheatsheet](https://github.com/ohmyzsh/ohmyzsh/wiki/Cheatsheet)\n",
        "\n",
        "- [ohmyzsh Plugins](https://github.com/ohmyzsh/ohmyzsh/wiki/Plugins)\n",
        "\n",
        "- [A collection of ZSH frameworks, plugins, themes and tutorials](https://github.com/unixorn/awesome-zsh-plugins)\n",
        "\n",
        "- oh-my-zsh \n",
        "  - git\n",
        "  - colored-man-pages\n",
        "  - emoji-clock\n"
      ]
    }
  ]
}