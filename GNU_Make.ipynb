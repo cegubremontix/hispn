{
  "nbformat": 4,
  "nbformat_minor": 0,
  "metadata": {
    "colab": {
      "name": "GNU Make.ipynb",
      "provenance": [],
      "authorship_tag": "ABX9TyNI9DuGbqjH4XzdujnCtVzj",
      "include_colab_link": true
    },
    "kernelspec": {
      "name": "python3",
      "display_name": "Python 3"
    },
    "language_info": {
      "name": "python"
    }
  },
  "cells": [
    {
      "cell_type": "markdown",
      "metadata": {
        "id": "view-in-github",
        "colab_type": "text"
      },
      "source": [
        "<a href=\"https://colab.research.google.com/github/dbremont/Notas/blob/main/GNU_Make.ipynb\" target=\"_parent\"><img src=\"https://colab.research.google.com/assets/colab-badge.svg\" alt=\"Open In Colab\"/></a>"
      ]
    },
    {
      "cell_type": "markdown",
      "metadata": {
        "id": "UTvC0e-krJtI"
      },
      "source": [
        "- [GNU Make](https://www.gnu.org/software/make/manual/html_node/index.html)\n",
        "  -  Ojo estos solo soportan tab."
      ]
    }
  ]
}