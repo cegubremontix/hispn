{
  "nbformat": 4,
  "nbformat_minor": 0,
  "metadata": {
    "colab": {
      "name": "Implementing a toy version of TLS 1.3.ipynb",
      "provenance": [],
      "collapsed_sections": [],
      "authorship_tag": "ABX9TyPYcOYoDb4nBBzWQ1NtqVoo",
      "include_colab_link": true
    },
    "kernelspec": {
      "name": "python3",
      "display_name": "Python 3"
    },
    "language_info": {
      "name": "python"
    }
  },
  "cells": [
    {
      "cell_type": "markdown",
      "metadata": {
        "id": "view-in-github",
        "colab_type": "text"
      },
      "source": [
        "<a href=\"https://colab.research.google.com/github/dbremont/Notas/blob/main/Articulos/Implementing_a_toy_version_of_TLS_1_3.ipynb\" target=\"_parent\"><img src=\"https://colab.research.google.com/assets/colab-badge.svg\" alt=\"Open In Colab\"/></a>"
      ]
    },
    {
      "cell_type": "markdown",
      "source": [
        "[Implementing a toy version of TLS 1.3](https://jvns.ca/blog/2022/03/23/a-toy-version-of-tls/)\n",
        "\n",
        "[The New Illustrated TLS Connection](https://tls13.ulfheim.net/)\n",
        "\n",
        "[What stops a hacker from sniffing the public key and decrypting the data received over an SSL?](https://www.quora.com/What-stops-a-hacker-from-sniffing-the-public-key-and-decrypting-the-data-received-over-an-SSL)"
      ],
      "metadata": {
        "id": "WPuIUL-2lJVs"
      }
    }
  ]
}