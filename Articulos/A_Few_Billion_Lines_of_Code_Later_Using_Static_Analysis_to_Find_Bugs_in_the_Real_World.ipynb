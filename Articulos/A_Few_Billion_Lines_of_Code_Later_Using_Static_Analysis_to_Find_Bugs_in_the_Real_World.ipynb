
{
  "nbformat": 4,
  "nbformat_minor": 0,
  "metadata": {
    "colab": {
    "name": "Articulos/A Few Billion Lines of Code Later Using Static Analysis to Find Bugs in the Real World.ipynb",
    "provenance": [],
      "authorship_tag": "ABX9TyNGlQ9+OEGo3xm2cdbVJuSg",
      "include_colab_link": true
    },
    "kernelspec": {
      "name": "python3",
      "display_name": "Python 3"
    },
    "language_info": {
      "name": "python"
    }
  }
}

