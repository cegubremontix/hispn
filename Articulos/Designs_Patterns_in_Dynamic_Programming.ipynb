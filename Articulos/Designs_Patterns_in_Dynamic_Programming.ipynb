{
  "nbformat": 4,
  "nbformat_minor": 0,
  "metadata": {
    "colab": {
      "name": "Designs Patterns in Dynamic Programming.ipynb",
      "provenance": [],
      "authorship_tag": "ABX9TyOxvULJQFyjSNwda7tjAmsS",
      "include_colab_link": true
    },
    "kernelspec": {
      "name": "python3",
      "display_name": "Python 3"
    },
    "language_info": {
      "name": "python"
    }
  },
  "cells": [
    {
      "cell_type": "markdown",
      "metadata": {
        "id": "view-in-github",
        "colab_type": "text"
      },
      "source": [
        "<a href=\"https://colab.research.google.com/github/dbremont/Notas/blob/main/Articulos/Designs_Patterns_in_Dynamic_Programming.ipynb\" target=\"_parent\"><img src=\"https://colab.research.google.com/assets/colab-badge.svg\" alt=\"Open In Colab\"/></a>"
      ]
    },
    {
      "cell_type": "markdown",
      "source": [
        "# Designs Patterns in Dynamic Programming"
      ],
      "metadata": {
        "id": "tUAOxCrzOF5G"
      }
    },
    {
      "cell_type": "markdown",
      "source": [
        "Design patterns in a general Model of Computation Setting"
      ],
      "metadata": {
        "id": "m8yhsJn9Ew-q"
      }
    },
    {
      "cell_type": "markdown",
      "source": [
        "## References"
      ],
      "metadata": {
        "id": "sQ6clPqQO1z-"
      }
    },
    {
      "cell_type": "markdown",
      "source": [
        "“Design Patterns in Dynamic Programming.” Peter Norvig, https://norvig.com/design-patterns/design-patterns.pdf. Accessed 24 February 2022.\n",
        "\n",
        "“Why not to study design patterns.” `James Koppel, https://mailchi.mp/d5354ba4259c/why-not-to-study-design-patterns. Accessed 24 February 2022.\n",
        "\n",
        "\n",
        "“Design Patterns in Dynamic Programming (1996) [pdf].” Hacker News, 18 July 2019, https://news.ycombinator.com/item?id=20468164. Accessed 24 February 2022."
      ],
      "metadata": {
        "id": "e1ipfdMvO29C"
      }
    }
  ]
}