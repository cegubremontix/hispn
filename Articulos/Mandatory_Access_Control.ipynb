
{
  "nbformat": 4,
  "nbformat_minor": 0,
  "metadata": {
    "colab": {
    "name": "Articulos/Mandatory Access Control",
    "provenance": [],
      "authorship_tag": "ABX9TyNGlQ9+OEGo3xm2cdbVJuSg",
      "include_colab_link": true
    },
    "kernelspec": {
      "name": "python3",
      "display_name": "Python 3"
    },
    "language_info": {
      "name": "python"
    }
  },
  "cells": [
    {
      "cell_type": "markdown",
      "metadata": {
        "id": "view-in-github",
        "colab_type": "text"
      },
      "source": [
        "<a href=\"https://colab.research.google.com/github/dbremont/Notas/blob/main/Articulos/How_to_navigate_a_scientific_paper_wit_htime_constraints_A_graphical_approach.ipynb\" target=\"_parent\"><img src=\"https://colab.research.google.com/assets/colab-badge.svg\" alt=\"Open In Colab\"/></a>"
      ]
    }
  ]
}
