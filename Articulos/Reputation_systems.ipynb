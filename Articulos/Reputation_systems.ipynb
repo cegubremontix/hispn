{
  "nbformat": 4,
  "nbformat_minor": 0,
  "metadata": {
    "colab": {
      "name": "Reputation systems.ipynb",
      "provenance": [],
      "authorship_tag": "ABX9TyOodE0HYuJYavWpkPjbyge9",
      "include_colab_link": true
    },
    "kernelspec": {
      "name": "python3",
      "display_name": "Python 3"
    },
    "language_info": {
      "name": "python"
    }
  },
  "cells": [
    {
      "cell_type": "markdown",
      "metadata": {
        "id": "view-in-github",
        "colab_type": "text"
      },
      "source": [
        "<a href=\"https://colab.research.google.com/github/dbremont/Notas/blob/main/Articulos/Reputation_systems.ipynb\" target=\"_parent\"><img src=\"https://colab.research.google.com/assets/colab-badge.svg\" alt=\"Open In Colab\"/></a>"
      ]
    },
    {
      "cell_type": "markdown",
      "source": [
        "# Reputation systems"
      ],
      "metadata": {
        "id": "tUAOxCrzOF5G"
      }
    },
    {
      "cell_type": "markdown",
      "source": [
        "**What is reputation?**\n",
        "\n",
        "Reputation is a tool to facilitate trust  between entities, as it increases the efficiency and effectiveness of online services and communities.\n",
        "\n",
        "Reputation is a rough measurement of how much the community trusts you; it is earned by convincing your peers that you know what you’re talking about. \n",
        "\n",
        "**What is a reputation system?**\n",
        "\n",
        "Is a system that allows the prediction who is likely to be trustworthy based on feedback from past transactions.\n",
        "\n",
        "A reputation system works by facilitating the collection, aggregation and distribution of data about an entity, that can, in turn, be used to characterize and predict that entity's future actions, by referring to reputation data, users are able to decide whom they will trust, and to what degree. \n",
        "\n",
        "The existence of a reputation system is socially corrective, as the incentive of positive reputation and the desiscentive of negative reputation and the disincentive of negative reputation will generally encourage good behavior over the long term.\n",
        "\n",
        "Once reputation data is collected, it can be shared amongst users to closely emulate some of the characteristics of a long-term relationship, without ever having to have previously interacted.\n",
        "\n",
        "\n",
        "**Does Stack Overflow has a Reputation System?**\n",
        "\n",
        "Yes\n",
        "\n",
        "\n",
        "**Sources of Reputation Data in Stack Overflow?**\n",
        "\n",
        "- question is voted up: +10\n",
        "- answer is voted up: +10\n",
        "- article is voted up: +10\n",
        "- answer is marked “accepted”: +15 (+2 to acceptor)\n",
        "- suggested edit is accepted: +2 (up to +1000 total per user)\n",
        "- bounty awarded to your answer: + full bounty amount\n",
        "- one of your answers is awarded a bounty automatically: + half of the bounty - amount (see more details about how bounties work)\n",
        "- site association bonus: +100 on each site (awarded a maximum of one time per site)"
      ],
      "metadata": {
        "id": "-Gr46A6pInc6"
      }
    },
    {
      "cell_type": "markdown",
      "source": [
        "## References"
      ],
      "metadata": {
        "id": "sQ6clPqQO1z-"
      }
    },
    {
      "cell_type": "markdown",
      "source": [
        "Braga, D. D. S., Niemann, M., Hellingrath, B., & Neto, F. B. D. L. (2019). Survey on Computational Trust and Reputation Models. In ACM Computing Surveys (Vol. 51, Issue 5, pp. 1–40). Association for Computing Machinery (ACM). https://doi.org/10.1145/3236008\n",
        "\n",
        "Hendrikx, F., Bubendorfer, K., & Chard, R. (2015). Reputation systems: A survey and taxonomy. In Journal of Parallel and Distributed Computing (Vol. 75, pp. 184–197). Elsevier BV. https://doi.org/10.1016/j.jpdc.2014.08.004\n",
        "\n",
        "Mui, Lik. (2014). Computational Models of Trust and Reputation: Agents, Evolutionary Games, and Social Networks. \n",
        "\n",
        "“What is reputation? How do I earn (and lose) it? - Help Center.” Stack Overflow, https://bit.ly/35h4sWr. Accessed 23 February 2022."
      ],
      "metadata": {
        "id": "e1ipfdMvO29C"
      }
    }
  ]
}