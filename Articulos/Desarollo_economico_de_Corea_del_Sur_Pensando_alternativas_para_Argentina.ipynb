{
  "nbformat": 4,
  "nbformat_minor": 0,
  "metadata": {
    "colab": {
      "name": "Desarollo economico de Corea del Sur- Pensando alternativas para Argentina.ipynb",
      "provenance": [],
      "authorship_tag": "ABX9TyNGlQ9+OEGo3xm2cdbVJuSg",
      "include_colab_link": true
    },
    "kernelspec": {
      "name": "python3",
      "display_name": "Python 3"
    },
    "language_info": {
      "name": "python"
    }
  },
  "cells": [
    {
      "cell_type": "markdown",
      "metadata": {
        "id": "view-in-github",
        "colab_type": "text"
      },
      "source": [
        "<a href=\"https://colab.research.google.com/github/dbremont/Notas/blob/main/Articulos/Desarollo_economico_de_Corea_del_Sur_Pensando_alternativas_para_Argentina.ipynb\" target=\"_parent\"><img src=\"https://colab.research.google.com/assets/colab-badge.svg\" alt=\"Open In Colab\"/></a>"
      ]
    }
  ]
}