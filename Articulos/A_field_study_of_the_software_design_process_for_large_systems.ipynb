
{
  "nbformat": 4,
  "nbformat_minor": 0,
  "metadata": {
    "colab": {
    "name": "Articulos/A field study of the software design process for large systems.ipynb",
    "provenance": [],
      "authorship_tag": "ABX9TyNGlQ9+OEGo3xm2cdbVJuSg",
      "include_colab_link": true
    },
    "kernelspec": {
      "name": "python3",
      "display_name": "Python 3"
    },
    "language_info": {
      "name": "python"
    }
  }
}

