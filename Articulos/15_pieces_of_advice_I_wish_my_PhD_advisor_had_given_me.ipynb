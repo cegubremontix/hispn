
{
  "nbformat": 4,
  "nbformat_minor": 0,
  "metadata": {
    "colab": {
    "name": "Articulos/15 pieces of advice I wish my PhD advisor had given me.ipynb",
    "provenance": [],
      "authorship_tag": "ABX9TyNGlQ9+OEGo3xm2cdbVJuSg",
      "include_colab_link": true
    },
    "kernelspec": {
      "name": "python3",
      "display_name": "Python 3"
    },
    "language_info": {
      "name": "python"
    }
  }
}

