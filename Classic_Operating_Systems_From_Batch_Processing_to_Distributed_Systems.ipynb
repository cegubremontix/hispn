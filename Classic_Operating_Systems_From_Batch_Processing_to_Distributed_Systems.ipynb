{
  "nbformat": 4,
  "nbformat_minor": 0,
  "metadata": {
    "colab": {
      "name": "Classic Operating Systems From Batch Processing to Distributed Systems.ipynb",
      "provenance": [],
      "authorship_tag": "ABX9TyPyYRrQlvKtyS61HPaKH9ol",
      "include_colab_link": true
    },
    "kernelspec": {
      "name": "python3",
      "display_name": "Python 3"
    },
    "language_info": {
      "name": "python"
    }
  },
  "cells": [
    {
      "cell_type": "markdown",
      "metadata": {
        "id": "view-in-github",
        "colab_type": "text"
      },
      "source": [
        "<a href=\"https://colab.research.google.com/github/dbremont/Notas/blob/main/Classic_Operating_Systems_From_Batch_Processing_to_Distributed_Systems.ipynb\" target=\"_parent\"><img src=\"https://colab.research.google.com/assets/colab-badge.svg\" alt=\"Open In Colab\"/></a>"
      ]
    },
    {
      "cell_type": "markdown",
      "metadata": {
        "id": "NIbZ2eDW7zik"
      },
      "source": [
        "# Open Shop"
      ]
    },
    {
      "cell_type": "markdown",
      "metadata": {
        "id": "ikaF-YDO_In_"
      },
      "source": [
        "## The IBM 701 Computer at the General Motors"
      ]
    },
    {
      "cell_type": "markdown",
      "metadata": {
        "id": "DYD6Oi4o_Ndb"
      },
      "source": [
        "# Batch Processing"
      ]
    },
    {
      "cell_type": "markdown",
      "metadata": {
        "id": "a-4AmNIk_STn"
      },
      "source": [
        "## The BKS System for the Philco-2000"
      ]
    },
    {
      "cell_type": "markdown",
      "metadata": {
        "id": "lRiB3eQV_Xgs"
      },
      "source": [
        "# Multiprogramming"
      ]
    },
    {
      "cell_type": "markdown",
      "metadata": {
        "id": "0MRcjKWF_ZyG"
      },
      "source": [
        "## The Atlas Supervisor"
      ]
    },
    {
      "cell_type": "markdown",
      "metadata": {
        "id": "slFTpZF4_cZo"
      },
      "source": [
        "## Operating Sysetm for the B5000"
      ]
    },
    {
      "cell_type": "markdown",
      "metadata": {
        "id": "Vj46_auH_hq9"
      },
      "source": [
        "## Description of a High Capacity, Fast Turnaround"
      ]
    },
    {
      "cell_type": "markdown",
      "metadata": {
        "id": "IiFVE3KU_nGu"
      },
      "source": [
        "## The Edgon System for the KDF9"
      ]
    },
    {
      "cell_type": "markdown",
      "metadata": {
        "id": "xEZcrcD1_syI"
      },
      "source": [
        "# Timesharing"
      ]
    },
    {
      "cell_type": "markdown",
      "metadata": {
        "id": "1LKr97W1_ugc"
      },
      "source": [
        "## An Experimental Time-Sharing System"
      ]
    },
    {
      "cell_type": "markdown",
      "metadata": {
        "id": "z4KVIirZ_zFe"
      },
      "source": [
        "## A General-Purporse File System for Secondary Storage"
      ]
    },
    {
      "cell_type": "markdown",
      "metadata": {
        "id": "pWcx26U1_4uX"
      },
      "source": [
        "## File Integrity in a Disc-Based Multi-access System"
      ]
    },
    {
      "cell_type": "markdown",
      "metadata": {
        "id": "p7UjIchX__rm"
      },
      "source": [
        "## The Unix Time-Sharing System"
      ]
    },
    {
      "cell_type": "markdown",
      "metadata": {
        "id": "53Pw0YVXAEMh"
      },
      "source": [
        "# Concurrent Programming"
      ]
    },
    {
      "cell_type": "markdown",
      "metadata": {
        "id": "7A8xge9qAHAa"
      },
      "source": [
        "## The Structure of THE Multiprogramming System"
      ]
    },
    {
      "cell_type": "markdown",
      "metadata": {
        "id": "uuiMo9sVAM7X"
      },
      "source": [
        "## RC 4000 Software: Multiprogramming System"
      ]
    },
    {
      "cell_type": "markdown",
      "metadata": {
        "id": "74jgqMcQASh3"
      },
      "source": [
        "## The Design of the Venus Operating System"
      ]
    },
    {
      "cell_type": "markdown",
      "metadata": {
        "id": "DbvVIk9GAYFc"
      },
      "source": [
        "## A Large Semaphore Based Operating System"
      ]
    },
    {
      "cell_type": "markdown",
      "metadata": {
        "id": "1HstkLsqAcyv"
      },
      "source": [
        "## The Solo Operating System: A Concurrent Pascal Program"
      ]
    },
    {
      "cell_type": "markdown",
      "metadata": {
        "id": "ANZ4t6mZAyd0"
      },
      "source": [
        "## The Solo Operating System: Processes, Monitors and Classes"
      ]
    },
    {
      "cell_type": "markdown",
      "metadata": {
        "id": "Tgt4NtpiA4DU"
      },
      "source": [
        "# Personal Computing"
      ]
    },
    {
      "cell_type": "markdown",
      "metadata": {
        "id": "BpteJJOeB4RJ"
      },
      "source": [
        "## OS6- An Experimental Operating System for a Small"
      ]
    },
    {
      "cell_type": "markdown",
      "metadata": {
        "id": "f8fLO2A4B-0L"
      },
      "source": [
        "## An Open Operating System for a Single-User Machine"
      ]
    },
    {
      "cell_type": "markdown",
      "metadata": {
        "id": "Q1KSZa36CEMq"
      },
      "source": [
        "## Pilot: An Operating Sysetm for a Personal Computer"
      ]
    },
    {
      "cell_type": "markdown",
      "metadata": {
        "id": "CLFzMkP4CIXG"
      },
      "source": [
        "## The Start User Interface: An Overview"
      ]
    },
    {
      "cell_type": "markdown",
      "metadata": {
        "id": "tnBfhntMCO8P"
      },
      "source": [
        "# Distributed Systems"
      ]
    },
    {
      "cell_type": "markdown",
      "metadata": {
        "id": "itZuTciACSVF"
      },
      "source": [
        "## WFS: A Simple Shared File System for a Distributed"
      ]
    },
    {
      "cell_type": "markdown",
      "metadata": {
        "id": "CMi3xLbrCYEY"
      },
      "source": [
        "## The Design of a Reliable Remote Procedure Call Mechanism"
      ]
    },
    {
      "cell_type": "markdown",
      "metadata": {
        "id": "K_TvrQZJCh6N"
      },
      "source": [
        "## The Newcastle Connection or Unixes of the World Unite!"
      ]
    },
    {
      "cell_type": "markdown",
      "metadata": {
        "id": "Q3Y6eLzkCpm3"
      },
      "source": [
        "## Experiences with the Amoeba Distributed Operating System"
      ]
    }
  ]
}