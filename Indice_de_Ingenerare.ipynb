{
  "nbformat": 4,
  "nbformat_minor": 0,
  "metadata": {
    "colab": {
      "name": "Indice  de Ingenerare.ipynb",
      "provenance": [],
      "authorship_tag": "ABX9TyPQGjwnAeMi3Yx+lkOr/SgI",
      "include_colab_link": true
    },
    "kernelspec": {
      "name": "python3",
      "display_name": "Python 3"
    },
    "language_info": {
      "name": "python"
    }
  },
  "cells": [
    {
      "cell_type": "markdown",
      "metadata": {
        "id": "view-in-github",
        "colab_type": "text"
      },
      "source": [
        "<a href=\"https://colab.research.google.com/github/dbremont/Notas/blob/main/Indice_de_Ingenerare.ipynb\" target=\"_parent\"><img src=\"https://colab.research.google.com/assets/colab-badge.svg\" alt=\"Open In Colab\"/></a>"
      ]
    },
    {
      "cell_type": "markdown",
      "metadata": {
        "id": "B5ru-DqGAqbw"
      },
      "source": [
        "- [todo.txt system - Productivity System](https://colab.research.google.com/github/dbremont/Notas/blob/main/Ingenerare/todo.txt%20system%20Productivity%20System.ipynb)\n",
        "- [LuxLabs.ai](https://colab.research.google.com/github/dbremont/Notas/blob/main/Ingenerare/luxlabs.ai.ipynb)\n",
        "\n",
        "- [WorldWind Java](https://colab.research.google.com/github/dbremont/Notas/blob/main/Ingenerare/WorldWind.ipynb)\n",
        "\n",
        "- [Virtual Machines](https://colab.research.google.com/github/dbremont/Notas/blob/main/Ingenerare/Virtual_Machines.ipynb)\n",
        "- [Thinking](https://colab.research.google.com/github/dbremont/Notas/blob/main/Ingenerare/Thinking.ipynb)\n",
        "\n",
        "- [The Mechanical Universe](https://colab.research.google.com/github/dbremont/Notas/blob/main/Ingenerare/The_Mechanical_Universe.ipynb)\n",
        "\n",
        "- [The Biggest Ideas in the Universe](https://colab.research.google.com/github/dbremont/Notas/blob/main/Ingenerare/The_Biggest_Ideas_in_the_Universe.ipynb)\n",
        "\n",
        "- [Sobre mi metodo de Apuntes](https://colab.research.google.com/github/dbremont/Notas/blob/main/Ingenerare/Sobre%20mi%20metodo%20de%20Apuntes.ipynb)\n",
        "\n",
        "- [Real Time Communication - Full Duplex](https://colab.research.google.com/github/dbremont/Notas/blob/main/Ingenerare/Real%20Time%20Communication%20-%20Full%20Duplex.ipynb)\n",
        "\n",
        "- [Program Syntesis](https://colab.research.google.com/github/dbremont/Notas/blob/main/Ingenerare/Program_Syntesis.ipynb)\n",
        "\n",
        "- [Operating Systems](https://colab.research.google.com/github/dbremont/Notas/blob/main/Ingenerare/Operating_Systems.ipynb)\n",
        "\n",
        "- [Models](https://colab.research.google.com/github/dbremont/Notas/blob/main/Ingenerare/Models.ipynb)\n",
        "\n",
        "- [Littles Scripts & How To](https://colab.research.google.com/github/dbremont/Notas/blob/main/Ingenerare/Littles%20Scripts%20%26%20How%20To.ipynb)\n",
        "\n",
        "- [Information Theory](https://colab.research.google.com/github/dbremont/Notas/blob/main/Ingenerare/Information%20Theory.ipynb)\n",
        "\n",
        "- [High Performance Computing](https://colab.research.google.com/github/dbremont/Notas/blob/main/Ingenerare/High_Performance_Computing.ipynb)\n",
        "\n",
        "- [Handmade](https://colab.research.google.com/github/dbremont/Notas/blob/main/Ingenerare/Handmade.ipynb)\n",
        "\n",
        "- [Fundamentals of Computer Networks](https://colab.research.google.com/github/dbremont/Notas/blob/main/Ingenerare/Fundamentals_of_Computer_Networks.ipynb)\n",
        "\n",
        "- [Distributed Systems](https://colab.research.google.com/github/dbremont/Notas/blob/main/Ingenerare/Distributed_Systems.ipynb)\n",
        "\n",
        "- [Databases](https://colab.research.google.com/github/dbremont/Notas/blob/main/Ingenerare/Databases.ipynb)\n",
        "\n",
        "- [Computer Systems](https://colab.research.google.com/github/dbremont/Notas/blob/main/Ingenerare/Computer_Systems.ipynb)\n",
        "\n",
        "- [Computer Security](https://colab.research.google.com/github/dbremont/Notas/blob/main/Ingenerare/Computer_Security.ipynb)\n",
        "\n",
        "- [Computer Architecture](https://colab.research.google.com/github/dbremont/Notas/blob/main/Ingenerare/Computer_Architecture.ipynb)\n",
        "\n",
        "- [AI for Trading](https://colab.research.google.com/github/dbremont/Notas/blob/main/Ingenerare/AI_for_Trading.ipynb)\n",
        "\n",
        "- [6.005 Software Construction in Java](https://colab.research.google.com/github/dbremont/Notas/blob/main/Ingenerare/6_005_Software_Construction_in_Java.ipynb)\n",
        "\n",
        "- [6.004 Computation Structures](https://colab.research.google.com/github/dbremont/Notas/blob/main/Ingenerare/6_004_Computation_Structures.ipynb)\n",
        "\n",
        "- [ How to go  From Basic Hunting and Gathering Society to Advanced Highly Automated (How Information Grow)](https://colab.research.google.com/github/dbremont/Notas/blob/main/Ingenerare/%20How%20to%20go%20%20From%20Basic%20Hunting%20and%20Gathering%20Society%20to%20Advanced%20Highly%20Automated%20(How%20Information%20Grow)%20.ipynb)\n",
        "\n",
        "- []()\n",
        "\n",
        "- []()\n",
        "\n",
        "- []()"
      ]
    }
  ]
}