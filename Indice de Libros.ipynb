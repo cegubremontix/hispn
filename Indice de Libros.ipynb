{
  "nbformat": 4,
  "nbformat_minor": 0,
  "metadata": {
    "kernelspec": {
      "display_name": "Python 2.7.18 64-bit",
      "name": "python2718jvsc74a57bd0f92b2924b84ff19c1c3dc485f7644d4486f64738191026bf8e6de303969141b5"
    },
    "language_info": {
      "name": "python",
      "version": ""
    },
    "metadata": {
      "interpreter": {
        "hash": "f92b2924b84ff19c1c3dc485f7644d4486f64738191026bf8e6de303969141b5"
      }
    },
    "orig_nbformat": 2,
    "colab": {
      "name": "Indice de Libros.ipynb",
      "provenance": [],
      "toc_visible": true,
      "include_colab_link": true
    }
  },
  "cells": [
    {
      "cell_type": "markdown",
      "metadata": {
        "id": "view-in-github",
        "colab_type": "text"
      },
      "source": [
        "<a href=\"https://colab.research.google.com/github/dbremont/Notas/blob/main/Indice%20de%20Libros.ipynb\" target=\"_parent\"><img src=\"https://colab.research.google.com/assets/colab-badge.svg\" alt=\"Open In Colab\"/></a>"
      ]
    },
    {
      "cell_type": "markdown",
      "metadata": {
        "id": "FlhmAiFDdB55"
      },
      "source": [
        "Indice de Libros"
      ]
    },
    {
      "cell_type": "markdown",
      "metadata": {
        "id": "LmUiiw91dB5_"
      },
      "source": [
        "# Matematicas"
      ]
    },
    {
      "cell_type": "markdown",
      "metadata": {
        "id": "ILN6Zny3dB5_"
      },
      "source": [
        "### Algebra"
      ]
    },
    {
      "cell_type": "markdown",
      "metadata": {
        "id": "4yC8LIyhdB6A"
      },
      "source": [
        "* [Pre Algebra](https://colab.research.google.com/github/dbremont/Notas/blob/main/Libros/Matematicas/Pre%20Algebra.ipynb)\n",
        "\n",
        "* [Introduction to Algebra](https://colab.research.google.com/github/dbremont/Notas/blob/main/Libros/Matematicas/Introduction%20to%20Algebra.ipynb)\n",
        "\n",
        "* [Intermediate Algebra](https://colab.research.google.com/github/dbremont/Notas/blob/main/Libros/Matematicas/Intermediate%20Algebra.ipynb)\n",
        "\n",
        "* [No Bullshit guide to Linear Algebra](https://colab.research.google.com/github/dbremont/Notas/blob/main/Libros/Matematicas/No%20Bullshit%20guide%20to%20Linear%20Algebra.ipynb)\n",
        "\n",
        "* [Introduction to Applied Linear Algebra - Stephen Boyd & Lieven Vandenberghe](https://colab.research.google.com/github/dbremont/Notas/blob/main/Libros/Matematicas/Introduction%20to%20Applied%20Linear%20Algebra.ipynb)"
      ]
    },
    {
      "cell_type": "markdown",
      "metadata": {
        "id": "6IdvK_kXdB6A"
      },
      "source": [
        "### Analysis"
      ]
    },
    {
      "cell_type": "markdown",
      "metadata": {
        "id": "sNoYsE1udB6B"
      },
      "source": [
        "* [Pre Calculus](https://colab.research.google.com/github/dbremont/Notas/blob/main/Libros/Matematicas/Pre%20Calculus.ipynb)\n",
        "\n",
        "* [Calculus](https://colab.research.google.com/github/dbremont/Notas/blob/main/Libros/Matematicas/Calculus.ipynb)\n",
        "\n",
        "* [Calculus Made Easy](https://colab.research.google.com/github/dbremont/Notas/blob/main/Libros/Matematicas/Calculus%20Made%20Easy.ipynb)"
      ]
    },
    {
      "cell_type": "markdown",
      "metadata": {
        "id": "d_bwy58pdB6B"
      },
      "source": [
        "### Probability and Statistics"
      ]
    },
    {
      "cell_type": "markdown",
      "metadata": {
        "id": "_GZHc1O0dB6B"
      },
      "source": [
        "* [Statistical Models](https://colab.research.google.com/github/dbremont/Notas/blob/main/Libros/Matematicas/Statistical%20Models.ipynb)\n",
        "\n",
        "- [Information Theory, Inference, and Learning Algorithms](https://colab.research.google.com/github/dbremont/Notas/blob/main/Libros/Matematicas/Information_Theory%2C_Inference%2C_and_Learning_Algorithms.ipynb)\n",
        "\n",
        "* [The Great Ideas About Change](https://colab.research.google.com/github/dbremont/Notas/blob/main/Libros/Matematicas/The%20Great%20Ideas%20About%20Change.ipynb)\n",
        "\n",
        "* [Introduction to Probability](https://colab.research.google.com/github/dbremont/Notas/blob/main/Libros/Matematicas/Introduction%20to%20Probability.ipynb)\n",
        "\n",
        "* [All of Statistics](https://colab.research.google.com/github/dbremont/Notas/blob/main/Libros/Matematicas/All%20Statistics.ipynb)\n",
        "\n",
        "* [Probabilistic Thinking](https://colab.research.google.com/github/dbremont/Notas/blob/main/Libros/Matematicas/Probabilistic%20Thinking.ipynb)"
      ]
    },
    {
      "cell_type": "markdown",
      "metadata": {
        "id": "OOdxGBefdB6C"
      },
      "source": [
        "### Discrete Mathematics"
      ]
    },
    {
      "cell_type": "markdown",
      "metadata": {
        "id": "QsitFWFSdB6C"
      },
      "source": [
        "- [Introduction to Counting and Probability](https://colab.research.google.com/github/dbremont/Notas/blob/main/Libros/Matematicas/Introduction%20to%20Counting%20and%20Probability.ipynb)\n",
        "\n",
        "- [Intermediate Counting and Probability](https://colab.research.google.com/github/dbremont/Notas/blob/main/Libros/Matematicas/Intermediate%20Counting%20and%20Probability.ipynb)\n",
        "\n",
        "- [A Walk Through Combinatorics - An Introduction to Enumeration and Graph Theory](https://colab.research.google.com/github/dbremont/Notas/blob/main/Libros/Matematicas/A%20Walk%20Through%20Combinatorics%20-%20An%20Introduction%20to%20Enumeration%20and%20Graph%20Theory.ipynb)"
      ]
    },
    {
      "cell_type": "markdown",
      "metadata": {
        "id": "3ncvyrMBdB6D"
      },
      "source": [
        "- [Mathematics for Machine Learning](https://colab.research.google.com/github/dbremont/Notas/blob/main/Libros/Matematicas/Mathematics%20for%20Machine%20Learning.ipynb)\n",
        "\n",
        "* [The Art of Problem Solving, Volume 1: the Basics](https://colab.research.google.com/github/dbremont/Notas/blob/main/Libros/Matematicas/The%20Art%20of%20Problem%20Solvin%2C%20V1:%20The%20Basics.ipynb)\n",
        "\n",
        "* [The Art of Problem Solving, Volume 2: and Beyond](https://colab.research.google.com/github/dbremont/Notas/blob/main/Libros/Matematicas/The%20Art%20of%20Problem%20Solving%2C%20Volume%202:%20and%20Beyond.ipynb)\n",
        "\n",
        "* [Problem-Solving Strategies](https://colab.research.google.com/github/dbremont/Notas/blob/main/Libros/Matematicas/Problem-Solving%20Strategies.ipynb)\n",
        "\n",
        "* [Problem-Solving Through Problems](https://colab.research.google.com/github/dbremont/Notas/blob/main/Libros/Matematicas/Problem-Solving%20Through%20Problems.ipynb)\n",
        "\n",
        "* [A Mathematical Mosaic Patterns & Problem Solving](https://colab.research.google.com/github/dbremont/Notas/blob/main/Libros/Matematicas/A%20Mathematical%20Mosaic%20Patterns%20%26%20Problem%20Solving.ipynb)\n",
        "\n",
        "* [Street-Fighting Mathematics](https://colab.research.google.com/github/dbremont/Notas/blob/main/Libros/Matematicas/Street-Fighting%20Mathematics.ipynb)\n",
        "\n",
        "* [The Heart of Mathematics](https://colab.research.google.com/github/dbremont/Notas/blob/main/Libros/Matematicas/The%20Heart%20of%20Mathematics%20(An%20Invitation%20to%20effective%20thinking).ipynb)\n",
        "\n",
        "* [Beyond Numeracy](https://colab.research.google.com/github/dbremont/Notas/blob/main/Libros/Matematicas/Beyond%20Numeracy.ipynb)\n",
        "\n",
        "* [An Introduction to Game Theory](https://colab.research.google.com/github/dbremont/Notas/blob/main/Libros/Matematicas/An%20Introduction%20to%20Game%20Theory.ipynb)\n",
        "\n",
        "* [The Mathematical Experience](https://colab.research.google.com/github/dbremont/Notas/blob/main/Libros/Matematicas/The%20Mathematical%20Experience.ipynb)\n",
        "\n",
        "* [How Mathematicians Think](https://colab.research.google.com/github/dbremont/Notas/blob/main/Libros/Matematicas/How%20Mathematicians%20Think.ipynb)\n",
        "\n",
        "* [Networks An Introduction](https://colab.research.google.com/github/dbremont/Notas/blob/main/Libros/Matematicas/Networks%20An%20Introduction.ipynb)\n",
        "\n",
        "* [A First Course in Mathematical Modeling](https://colab.research.google.com/github/dbremont/Notas/blob/main/Libros/Matematicas/A%20First%20Course%20in%20Mathematical%20Modeling.ipynb)\n",
        "\n",
        "* [The Nature of Mathematical Modeling](https://colab.research.google.com/github/dbremont/Notas/blob/main/Libros/Matematicas/The%20Nature%20of%20Mathematical%20Modeling.ipynb)\n",
        "\n",
        "* [The Model Thinker](https://colab.research.google.com/github/dbremont/Notas/blob/main/Libros/Matematicas/The%20Model%20Thinker.ipynb)\n",
        "\n",
        "* [The Practice of Econometrics Classic and Contemporary](https://colab.research.google.com/github/dbremont/Notas/blob/main/Libros/Matematicas/The%20Practice%20of%20Econometrics%20Classic%20and%20Contemporary.ipynb)\n",
        "\n",
        "* [A Course in Econometrics](https://colab.research.google.com/github/dbremont/Notas/blob/main/Libros/Matematicas/A%20Course%20in%20Econometrics.ipynb)"
      ]
    },
    {
      "cell_type": "markdown",
      "metadata": {
        "id": "BwOdiRg0dB6E"
      },
      "source": [
        "### General"
      ]
    },
    {
      "cell_type": "markdown",
      "metadata": {
        "id": "kDz-gj7bdB6F"
      },
      "source": [
        "* [Mathematics for 3D Games Programming and Computer Graphics](https://colab.research.google.com/github/dbremont/Notas/blob/main/Libros/Matematicas/Mathematics_for_3D_Games_Programming_and_Computer_Graphics.ipynb)\n",
        "\n",
        "* [Mathematical Method for Science Students](https://github.com/dbremont/Notas/blob/main/Libros/Matematicas/Mathematical_Method_for_Science_Students.ipynb)\n",
        "\n",
        "* [Handbook of Applied Mathematics](https://github.com/dbremont/Notas/blob/main/Libros/Matematicas/Handbook_of_Applied_Mathematics.ipynb)\n",
        "\n",
        "- [Mathematics for Machine Learning](https://colab.research.google.com/github/dbremont/Notas/blob/main/Libros/Matematicas/Mathematics%20for%20Machine%20Learning.ipynb)\n",
        "\n",
        "* [The Art of Modeling Dynamic Systems - Forecasting for Chaos, Randomness and Determinism](https://colab.research.google.com/github/dbremont/Notas/blob/main/Libros/Matematicas/The_Art_of_Modeling_Dynamic_Systems_Forecasting_for_Chaos%2C_Randomness_and_Determinism.ipynb)\n",
        "\n",
        "* [Mathematical Modelling](https://colab.research.google.com/github/dbremont/Notas/blob/main/Libros/Matematicas/Mathematical_Modelling.ipynb)\n",
        "\n",
        "* [Numerical Recipies in C - The Art of Scientific Computing](https://colab.research.google.com/github/dbremont/Notas/blob/main/Libros/Matematicas/Numerical_Recipies_in_C_The_Art_of_Scientific_Computing.ipynb)\n",
        "\n",
        "* [The Art of Problem Solving, Volume 1: the Basics](https://colab.research.google.com/github/dbremont/Notas/blob/main/Libros/Matematicas/The%20Art%20of%20Problem%20Solvin%2C%20V1:%20The%20Basics.ipynb)\n",
        "\n",
        "* [The Art of Problem Solving, Volume 2: and Beyond](https://colab.research.google.com/github/dbremont/Notas/blob/main/Libros/Matematicas/The%20Art%20of%20Problem%20Solving%2C%20Volume%202:%20and%20Beyond.ipynb)\n",
        "\n",
        "* [Problem-Solving Strategies](https://colab.research.google.com/github/dbremont/Notas/blob/main/Libros/Matematicas/Problem-Solving%20Strategies.ipynb)\n",
        "\n",
        "* [Problem-Solving Through Problems](https://colab.research.google.com/github/dbremont/Notas/blob/main/Libros/Matematicas/Problem-Solving%20Through%20Problems.ipynb)\n",
        "\n",
        "* [A Mathematical Mosaic Patterns & Problem Solving](https://colab.research.google.com/github/dbremont/Notas/blob/main/Libros/Matematicas/A%20Mathematical%20Mosaic%20Patterns%20%26%20Problem%20Solving.ipynb)\n",
        "\n",
        "* [Street-Fighting Mathematics](https://colab.research.google.com/github/dbremont/Notas/blob/main/Libros/Matematicas/Street-Fighting%20Mathematics.ipynb)\n",
        "\n",
        "* [The Heart of Mathematics](https://colab.research.google.com/github/dbremont/Notas/blob/main/Libros/Matematicas/The%20Heart%20of%20Mathematics%20(An%20Invitation%20to%20effective%20thinking).ipynb)\n",
        "\n",
        "* [Beyond Numeracy](https://colab.research.google.com/github/dbremont/Notas/blob/main/Libros/Matematicas/Beyond%20Numeracy.ipynb)\n",
        "\n",
        "* [An Introduction to Game Theory](https://colab.research.google.com/github/dbremont/Notas/blob/main/Libros/Matematicas/An%20Introduction%20to%20Game%20Theory.ipynb)\n",
        "\n",
        "* [The Mathematical Experience](https://colab.research.google.com/github/dbremont/Notas/blob/main/Libros/Matematicas/The%20Mathematical%20Experience.ipynb)\n",
        "\n",
        "* [How Mathematicians Think](https://colab.research.google.com/github/dbremont/Notas/blob/main/Libros/Matematicas/How%20Mathematicians%20Think.ipynb)\n",
        "\n",
        "* [Networks An Introduction](https://colab.research.google.com/github/dbremont/Notas/blob/main/Libros/Matematicas/Networks%20An%20Introduction.ipynb)\n",
        "\n",
        "* [A First Course in Mathematical Modeling](https://colab.research.google.com/github/dbremont/Notas/blob/main/Libros/Matematicas/A%20First%20Course%20in%20Mathematical%20Modeling.ipynb)\n",
        "\n",
        "* [The Nature of Mathematical Modeling](https://colab.research.google.com/github/dbremont/Notas/blob/main/Libros/Matematicas/The%20Nature%20of%20Mathematical%20Modeling.ipynb)\n",
        "\n",
        "* [The Model Thinker](https://colab.research.google.com/github/dbremont/Notas/blob/main/Libros/Matematicas/The%20Model%20Thinker.ipynb)"
      ]
    },
    {
      "cell_type": "markdown",
      "metadata": {
        "id": "tktQdh8LdB6H"
      },
      "source": [
        "#   Computational Learning"
      ]
    },
    {
      "cell_type": "markdown",
      "metadata": {
        "id": "81rG7KTudB6H"
      },
      "source": [
        "* [Natural Intelligent Systems](https://colab.research.google.com/github/dbremont/Notas/blob/main/Libros/Aprendisaje%20Automatico/Natural_Intelligent_Systems.ipynb)\n",
        "\n",
        "* [Approaching (Almost) Any Machine Learning Problem](https://colab.research.google.com/github/dbremont/Notas/blob/main/Libros/Aprendisaje%20Automatico/Approaching_(Almost)_Any_Machine_Learning_Problem.ipynb)\n",
        "\n",
        "* [Deep Learning - Goodfellow, Bengio & Courville](https://colab.research.google.com/github/dbremont/Notas/blob/main/Libros/Aprendisaje%20Automatico/Deep_Learning_Goodfellow%2C_Bengio_%26_Courville.ipynb)\n",
        "\n",
        "* [Deep Learning with Python](https://colab.research.google.com/github/dbremont/Notas/blob/main/Libros/Aprendisaje%20Automatico/Deep_Learning_with_Python.ipynb)\n",
        "\n",
        "* [Scipy Lecture Notes](https://colab.research.google.com/github/dbremont/Notas/blob/main/Libros/Aprendisaje%20Automatico/Scipy%20Lecture%20Notes.ipynb)\n",
        "\n",
        "* [Data Science in Julia for Hackers](https://colab.research.google.com/github/dbremont/Notas/blob/main/Libros/Aprendisaje%20Automatico/Data%20Science%20in%20Julia%20for%20Hackers.ipynb)\n",
        "\n",
        "* [Patterns, Predictions, and Actions - A story about machine learning](https://colab.research.google.com/github/dbremont/Notas/blob/main/Libros/Aprendisaje%20Automatico/Patterns%2C%20Predictions%2C%20and%20Actions%20-%20A%20story%20about%20machine%20learning.ipynb)\n",
        "\n",
        "* [Causal Inference: The Mixtape](https://colab.research.google.com/github/dbremont/Notas/blob/main/Libros/Aprendisaje%20Automatico/Causal%20Inference:%20The%20Mixtape.ipynb)\n",
        "\n",
        "* [Grokking Machine Learning](https://colab.research.google.com/github/dbremont/Notas/blob/main/Libros/Aprendisaje%20Automatico/Grokking%20Machine%20Learning.ipynb)\n",
        "\n",
        "* [Ml From Scratch](https://colab.research.google.com/github/dbremont/Notas/blob/main/Libros/Aprendisaje%20Automatico/Ml%20From%20Scratch.ipynb)\n",
        "\n",
        "* [Probabilistic Models of Cognition](https://colab.research.google.com/github/dbremont/Notas/blob/main/Libros/Aprendisaje%20Automatico/Probabilistic%20Models%20of%20Cognition.ipynb)\n",
        "\n",
        "* [Neural Networks and Deep Learning](https://colab.research.google.com/github/dbremont/Notas/blob/main/Libros/Aprendisaje%20Automatico/Neural%20Networks%20and%20Deep%20Learning.ipynb)\n",
        "\n",
        "* [Deep Learning - Ian Goodfellow and Yoshua Bengio and Aaron Courville](https://colab.research.google.com/github/dbremont/Notas/blob/main/Libros/Aprendisaje%20Automatico/Deep%20Learning.ipynb)\n",
        "\n",
        "* [Building Machine Learning Powered Applications](https://colab.research.google.com/github/dbremont/Notas/blob/main/Libros/Aprendisaje%20Automatico/Building%20Machine%20Learning%20Powered%20Applications.ipynb)\n",
        "\n",
        "* [Deep Learning for Coders with fastai & PyTorch](https://colab.research.google.com/github/dbremont/Notas/blob/main/Libros/Aprendisaje%20Automatico/Deep%20Learning%20for%20Coders%20with%20fastai%20%26%20PyTorch.ipynb)\n",
        "\n",
        "* [Hands-On Machine Learning with Scikit-Learn & TensorFlow](https://colab.research.google.com/github/dbremont/Notas/blob/main/Libros/Aprendisaje%20Automatico/Hands-On%20Machine%20Learning%20with%20Scikit-Learn%20%26%20TensorFlow.ipynb)\n",
        "\n",
        "*  [Artificial Intelligence A Modern Approach](https://colab.research.google.com/github/dbremont/Notas/blob/main/Libros/Aprendisaje%20Automatico/Artificial%20Intelligence%20A%20Modern%20Approach.ipynb)\n",
        "\n",
        "* [Introduction to Information Retrieval](https://colab.research.google.com/github/dbremont/Notas/blob/main/Libros/Aprendisaje%20Automatico/Introduction%20to%20Information%20Retrieval.ipynb)\n",
        "\n",
        "* [The Analytics Edge](https://colab.research.google.com/github/dbremont/Notas/blob/main/Libros/Aprendisaje%20Automatico/The%20Analytics%20Edge.ipynb)\n",
        "\n",
        "* [Qualitative Social Science An Introduction - Kosuke Imai](https://colab.research.google.com/github/dbremont/Notas/blob/main/Libros/Aprendisaje%20Automatico/Qualitative%20Social%20Science%20An%20Introduction.ipynb)\n",
        "\n",
        "* [Patern Recognition and Machine Learning - Bishop](https://colab.research.google.com/github/dbremont/Notas/blob/main/Libros/Aprendisaje%20Automatico/Patern%20Recognition%20and%20Machine%20Learning.ipynb)\n",
        "\n",
        "* [Algorithms for Decision Making](https://colab.research.google.com/github/dbremont/Notas/blob/main/Libros/Aprendisaje%20Automatico/Algorithms%20for%20Decision%20Making.ipynb)"
      ]
    },
    {
      "cell_type": "markdown",
      "metadata": {
        "id": "ymUfu_0udB6J"
      },
      "source": [
        "# Computacion"
      ]
    },
    {
      "cell_type": "markdown",
      "metadata": {
        "id": "d3zwxuAZdB6J"
      },
      "source": [
        "\n",
        "\n",
        "- [Software Architecture Foundations, Theory, and Practice](https://colab.research.google.com/github/dbremont/Notas/blob/main/Libros/Computacion/Software_Architecture_Foundations%2C_Theory%2C_and_Practice.ipynb)\n",
        "\n",
        "- [Java Cookbook](https://github.com/dbremont/Notas/blob/main/Libros/Computacion/Java_Cookbook.ipynb)\n",
        "\n",
        "- [OpenGL Programming Guide](https://colab.research.google.com/github/dbremont/Notas/blob/main/Libros/Computation/OpenGL_Programming_Guide.ipynb)\n",
        "\n",
        "- [xv6: a simple, Unix-like teaching operating system](https://colab.research.google.com/github/dbremont/Notas/blob/main/Libros/Computacion/xv6_a_simple%2C_Unix_like_teaching_operating_system.ipynb)\n",
        "\n",
        "- [The Design of the Unix Operating System](https://colab.research.google.com/github/dbremont/Notas/blob/main/Libros/Computacion/The_Design_of_the_Unix_Operating_System.ipynb)\n",
        "- [Concurrent Programming in Java : Design Principles and Patterns](https://colab.research.google.com/github/dbremont/Notas/blob/main/Libros/Computacion/Concurent_Programming_in_Java_Design_Principles_and_Patterns.ipynb)\n",
        "- [The Java Language Specification](https://colab.research.google.com/github/dbremont/Notas/blob/main/Libros/Computacion/The_Java_Language_Specification.ipynb)\n",
        "- [The Java Virtual Machine Specification](https://colab.research.google.com/github/dbremont/Notas/blob/main/Libros/Computacion/The_Java_Virtual_Machine_Specification.ipynb)\n",
        "\n",
        "* [Game Programming Pattern](https://colab.research.google.com/github/dbremont/Notas/blob/main/Libros/Computacion/Game_Programming_Pattern.ipynb)\n",
        " \n",
        "\n",
        "\n",
        "* [Coders at Work](https://colab.research.google.com/github/dbremont/Notas/blob/main/Libros/Computacion/Coders_at_Work.ipynb)\n",
        "\n",
        "* [Transaction Processing](https://colab.research.google.com/github/dbremont/Notas/blob/main/Libros/Computacion/Transaction_Processing.ipynb)\n",
        "\n",
        "* [System Design Interview](https://colab.research.google.com/github/dbremont/Notas/blob/main/Libros/Computacion/System_Design_Interview.)\n",
        "\n",
        "* [Shell Scripting](https://colab.research.google.com/github/dbremont/Notas/blob/main/Libros/Computacion/Shell_Scripting.ipynb)\n",
        "\n",
        "* [The Mythical Man-Month](https://colab.research.google.com/github/dbremont/Notas/blob/main/Libros/Computacion/The_Mythical_Man_Month.ipynb)\n",
        "\n",
        "* [Programming Perls](https://colab.research.google.com/github/dbremont/Notas/blob/main/Libros/Computacion/Programming_Pearls.ipynb)\n",
        "\n",
        "* [Java EE 8](https://colab.research.google.com/github/dbremont/Notas/blob/main/Libros/Computacion/Java_EE_8.ipynb)\n",
        "\n",
        "* [The Productive Programmer](https://colab.research.google.com/github/dbremont/Notas/blob/main/Libros/Computacion/The_Productive_Programmer.ipynb)\n",
        "\n",
        "* [Implementation Patterns](https://colab.research.google.com/github/dbremont/Notas/blob/main/Libros/Computacion/Implementation_Patterns.ipynb)\n",
        "\n",
        "* [97 Things Every Java Programmer Should Know](https://colab.research.google.com/github/dbremont/Notas/blob/main/Libros/Computacion/97_Things_Every_Java_Programmer_Should_Know.ipynb)\n",
        "\n",
        "* [Cracking the Coding Interview](https://github.com/dbremont/Notas/blob/main/Libros/Computacion/Cracking_the_Coding_Interview.ipynb)\n",
        "\n",
        "* [Great Principles of Computing](https://colab.research.google.com/github/dbremont/Notas/blob/main/Libros/Computacion/Great_Principles_of_Computing.ipynb)\n",
        "\n",
        "* [Computer Science from the Bottom Up](https://colab.research.google.com/github/dbremont/Notas/blob/main/Libros/Computacion/Computer_Science_from_the_Bottom_Up.ipynb)\n",
        "\n",
        "* [Readings in Database Systems **Add Notebook**](http://www.redbook.io/)\n",
        "\n",
        "* [Effective Java](https://colab.research.google.com/github/dbremont/Notas/blob/main/Libros/Computacion/Effective_Java.ipynb)\n",
        "\n",
        "* [Java Concurrency in Practice](https://colab.research.google.com/github/dbremont/Notas/blob/main/Libros/Computacion/Java_Concurrency_in_Practice.ipynb)\n",
        "\n",
        "* [Java Puzzlers: Traps, Pitfalls and Corner Cases](https://colab.research.google.com/github/dbremont/Notas/blob/main/Libros/Computacion/Java_Puzzlers_Traps%2C_Pitfalls_and_Corner_Cases.ipynb)\n",
        "\n",
        "* [Python Programming And Numerical Methods: A Guide For Engineers And Scientists](https://colab.research.google.com/github/dbremont/Notas/blob/main/Libros/Computacion/Python%20Programming%20And%20Numerical%20Methods:%20A%20Guide%20For%20Engineers%20And%20Scientists.ipynb)\n",
        "\n",
        "* [Data Compression Explained](https://colab.research.google.com/github/dbremont/Notas/blob/main/Libros/Computacion/Data%20Compression%20Explained.ipynb)\n",
        "\n",
        "* [Algorithms The Spirit of Computing](https://colab.research.google.com/github/dbremont/Notas/blob/main/Libros/Computacion/Algorithms%20The%20Spirit%20of%20Computing.ipynb)\n",
        "\n",
        "* [Concepts, Techniques, and Models of Computer Programming](https://colab.research.google.com/github/dbremont/Notas/blob/main/Libros/Computacion/Concepts%2C%20Techniques%2C%20and%20Models%20of%20Computer%20Programming.ipynb)\n",
        "\n",
        "* [Crafting Interpreters](https://colab.research.google.com/github/dbremont/Notas/blob/main/Libros/Computacion/Crafting%20Interpreters.ipynb)\n",
        "\n",
        "* [The Definitive ANTLR 4 Reference](https://colab.research.google.com/github/dbremont/Notas/blob/main/Libros/Computacion/The%20Definitive%20ANTLR%204%20Reference.ipynb)\n",
        "\n",
        "* [Language Implementantion Patterns](https://colab.research.google.com/github/dbremont/Notas/blob/main/Libros/Computacion/Language%20Implementation%20Patterns.ipynb)\n",
        "\n",
        "* [Our Pattern Language](https://colab.research.google.com/github/dbremont/Notas/blob/main/Libros/Computacion/Our%20Pattern%20Langauge.ipynb)\n",
        "\n",
        "\n",
        "* [Design Patterns - Elements of Reusable Object-Oriented Software](https://colab.research.google.com/github/dbremont/Notas/blob/main/Libros/Computacion/Design%20Patterns%20-%20Elements%20of%20Reusable%20Object-Oriented%20Software.ipynb)\n",
        "\n",
        "* [Design Patterns Buliding Extensible & Maintainable Object-Oriented Software](https://colab.research.google.com/github/dbremont/Notas/blob/main/Libros/Computacion/Design_Patterns_Buliding_Extensible_%26_Maintainable_Object_Oriented_Software_.ipynb)\n",
        "\n",
        "* [Introduction to Algorithms](https://colab.research.google.com/github/dbremont/Notas/blob/main/Libros/Computacion/Introduction%20to%20Algorithms.ipynb)\n",
        "\n",
        "\n",
        "* [The Hidden Language of Computer Hardware and Software](https://colab.research.google.com/github/dbremont/Notas/blob/main/Libros/Computacion/The%20Hidden%20Language%20of%20Computer%20Hardware%20and%20Software.ipynb)\n",
        "\n",
        "* [Computer Systems](https://colab.research.google.com/github/dbremont/Notas/blob/main/Libros/Computacion/Computer%20Systems%20A%20Programmer's%20Perspective.ipynb)\n",
        "\n",
        "* [The Elements of Computing Systems](https://colab.research.google.com/github/dbremont/Notas/blob/main/Libros/Computacion/The%20Elements%20of%20Computing%20Systems.ipynb)\n",
        "\n",
        "* [Computers as Components - Principles of Embedded  Computing Systems Design](https://colab.research.google.com/github/dbremont/Notas/blob/main/Libros/Computacion/Computers%20as%20Components%20-%20Principles%20of%20Embedded%20Computing%20Systems%20Design.ipynb) \n",
        "\n",
        "* [ARM System Developer's Guide - Designing and Optimizing System Software](https://colab.research.google.com/github/dbremont/Notas/blob/main/Libros/Computacion/ARM%20System%20Developer's%20Guide%20-%20Designing%20and%20Optimizing%20System%20Software.ipynb)\n",
        "\n",
        "\n",
        "* [Principles of Computer System Design An Introduction](https://colab.research.google.com/github/dbremont/Notas/blob/main/Libros/Computacion/Principles%20of%20Computer%20System%20Design%20An%20Introduction.ipynb)\n",
        "\n",
        "\n",
        "* [Designing Data-Intensive Applications](https://colab.research.google.com/github/dbremont/Notas/blob/main/Libros/Computacion/Designing%20Data-Intensive%20Applications.ipynb)\n",
        "* [Database Internals - A Deep Dive into How Distributed Data Systems Work](https://colab.research.google.com/github/dbremont/Notas/blob/main/Libros/Computacion/Database%20Internals%20-%20A%20Deep%20Dive%20into%20How%20Distributed%20Data%20Systems%20Work.ipynb)\n",
        "* [Database Systems Concepts](https://colab.research.google.com/github/dbremont/Notas/blob/main/Libros/Computacion/Database%20Systems%20Concepts.ipynb)\n",
        "\n",
        "\n",
        "\n",
        "\n",
        "\n",
        "\n",
        "\n",
        "\n",
        "* [Beautiful Architecture](https://colab.research.google.com/github/dbremont/Notas/blob/main/Libros/Computacion/Beautiful%20Architecture.ipynb)\n",
        "* [Clean Architecture - A Craftsman's Guide to Software Structure and Design](https://colab.research.google.com/github/dbremont/Notas/blob/main/Libros/Computacion/Clean%20Architecture%20-%20A%20Craftsman's%20Guide%20to%20Software%20Structure%20and%20Design.ipynb)\n",
        "\n",
        "\n",
        "\n",
        "* [The Art of Unix Programming](https://colab.research.google.com/github/dbremont/Notas/blob/main/Libros/Computacion/The%20Art%20of%20Unix%20Programming.ipynb)\n",
        "* [The Practice of Programming](https://colab.research.google.com/github/dbremont/Notas/blob/main/Libros/Computacion/The%20Practice%20of%20Programming.ipynb)\n",
        "* [Understanding the Linux Kernel](https://colab.research.google.com/github/dbremont/Notas/blob/main/Libros/Computacion/Understanding%20the%20Linux%20Kernel.ipynb)\n",
        "\n",
        "\n",
        "* [Practical Object-Oriented Design in Ruby](https://colab.research.google.com/github/dbremont/Notas/blob/main/Libros/Computacion/Practical%20Object-Oriented%20Design%20in%20Ruby.ipynb)\n",
        "* [A Philosophy of Software Design](https://colab.research.google.com/github/dbremont/Notas/blob/main/Libros/Computacion/A%20Philosophy%20of%20Software%20Design.ipynb)\n",
        "* [201 Principles of Software Development](https://colab.research.google.com/github/dbremont/Notas/blob/main/Libros/Computacion/201%20Principles%20of%20Software%20Development.ipynb)\n",
        "\n",
        "\n",
        "* [Code Reading - The Open Source Perspective](https://colab.research.google.com/github/dbremont/Notas/blob/main/Libros/Computacion/Code%20Reading%20-%20The%20Open%20Source%20Perspective.ipynb)\n",
        "* [Clean Code - A Handbook of Agile Software Craftmanship](https://colab.research.google.com/github/dbremont/Notas/blob/main/Libros/Computacion/Clean%20Code%20-%20A%20Handbook%20of%20Agile%20Software%20Craftmanship.ipynb)\n",
        "* [Code Quality - The Open Source Perspective](https://colab.research.google.com/github/dbremont/Notas/blob/main/Libros/Computacion/Code%20Quality%20-%20The%20Open%20Source%20Perspective.ipynb)\n",
        "* [Code Complete 2 Ed.](https://colab.research.google.com/github/dbremont/Notas/blob/main/Libros/Computacion/Code%20Complete%202%20Ed.ipynb)\n",
        "\n",
        "* [Beautiful Code](https://colab.research.google.com/github/dbremont/Notas/blob/main/Libros/Computacion/Beautiful_Code.ipynb)\n",
        "\n",
        "\n",
        "* [The Pragmatic Programmer](https://colab.research.google.com/github/dbremont/Notas/blob/main/Libros/Computacion/The%20Pragmatic%20Programmer.ipynb)\n",
        "\n",
        "\n",
        "* [Scalability Rules](https://colab.research.google.com/github/dbremont/Notas/blob/main/Libros/Computacion/Scalability%20Rules.ipynb)\n",
        "\n",
        "* [Systems Performace](https://colab.research.google.com/github/dbremont/Notas/blob/main/Libros/Computacion/Systems_Performace.ipynb)\n",
        "\n",
        "\n",
        "\n",
        "* [The Linux Programming Interface](https://colab.research.google.com/github/dbremont/Notas/blob/main/Libros/Computacion/The%20Linux%20Programming%20Interface.ipynb)\n",
        "\n",
        "* [Operating Systems - Design and Implementation](https://colab.research.google.com/github/dbremont/Notas/blob/main/Libros/Computacion/Operating%20Systems%20-%20Design%20and%20Implementation.ipynb)\n",
        "\n",
        "* [Operative System Three Easy Pieces](https://colab.research.google.com/github/dbremont/Notas/blob/main/Libros/Computacion/Operative_System_Three_Easy_Pieces.ipynb)\n",
        "\n",
        "* [C Interfaces and Implementations](https://colab.research.google.com/github/dbremont/Notas/blob/main/Libros/Computacion/C%20Interfaces%20and%20Implementations.ipynb)\n",
        "\n",
        "\n",
        "* [Web Scalability for Startups - Edmon](https://colab.research.google.com/github/dbremont/Notas/blob/main/Libros/Computacion/Web%20Scalability%20for%20Startups%20-%20Edmon.ipynb)\n",
        "\n",
        "\n",
        "\n",
        "* [Self Ajusting Computation](https://colab.research.google.com/github/dbremont/Notas/blob/main/Libros/Computacion/Self%20Ajusting%20Computation.ipynb)\n",
        "\n",
        "* [Nine Algorithms That Changed the Future](https://colab.research.google.com/github/dbremont/Notas/blob/main/Libros/Computacion/Nine%20ALgorithms%20That%20Changed%20the%20Future.ipynb)\n"
      ]
    },
    {
      "cell_type": "markdown",
      "metadata": {
        "id": "m33nWpOIdB6K"
      },
      "source": [
        "# Ingenieria"
      ]
    },
    {
      "cell_type": "markdown",
      "metadata": {
        "id": "0S4k9mBQdB6K"
      },
      "source": [
        "* [Underactuated Robotics](https://colab.research.google.com/github/dbremont/Notas/blob/main/Libros/Ingenieria/Underactuated%20Robotics.ipynb)\n",
        "\n",
        "* [When Things Start to Think](https://colab.research.google.com/github/dbremont/Notas/blob/main/Libros/Ingenieria/When_Things_Start_to_Think.ipynb)"
      ]
    },
    {
      "cell_type": "markdown",
      "metadata": {
        "id": "OwxjPkbddB6K"
      },
      "source": [
        "# Ciencia"
      ]
    },
    {
      "cell_type": "markdown",
      "metadata": {
        "id": "yg2z1o4idB6K"
      },
      "source": [
        "* [Random Walks in Biology](https://colab.research.google.com/github/dbremont/Notas/blob/main/Libros/Ciencia/Random_Walks_in_Biology.ipynb)\n",
        "\n",
        "* [Lectures on Quantum Mechanics](https://colab.research.google.com/github/dbremont/Notas/blob/main/Libros/Ciencia/Lectures_on_Quantum_Mechanics.ipynb)\n",
        "\n",
        "* [Classical Mechanics A Modern Introduction](https://colab.research.google.com/github/dbremont/Notas/blob/main/Libros/Ciencia/Classical_Mechanics_A_Modern_Introduction.ipynb)\n",
        "\n",
        "* [Biology  Campbell - Reece](https://colab.research.google.com/github/dbremont/Notas/blob/main/Libros/Ciencia/Biology_Campbell_Reece.ipynb)\n",
        "\n",
        "* [The Feymann Lectures on Physics](https://colab.research.google.com/github/dbremont/Notas/blob/main/Libros/Ciencia/The%20Feymann%20Lectures%20on%20Physics.ipynb)\n",
        "\n",
        "* [Britney Spears' Guide to Semiconductor Physics](https://colab.research.google.com/github/dbremont/Notas/blob/main/Libros/Ciencia/Britney%20Spears'%20Guide%20to%20Semiconductor%20Physics.ipynb)\n",
        "\n",
        "* [General Chemistry: Principles, Patterns, and Applications](https://colab.research.google.com/github/dbremont/Notas/blob/main/Libros/Ciencia/General%20Chemistry:%20Principles%2C%20Patterns%2C%20and%20Applications.ipynb)\n",
        "\n",
        "* [How Nature Works - Per Bak](https://colab.research.google.com/github/dbremont/Notas/blob/main/Libros/Ciencia/How%20Nature%20Works%20-%20Per%20Bak.ipynb)\n",
        "\n",
        "* [Biological sequence analysis](https://colab.research.google.com/github/dbremont/Notas/blob/main/Libros/Ciencia/Biological%20sequence%20analysis.ipynb)\n",
        "\n",
        "* [An Introduction Bioinformatics Algorithms](https://colab.research.google.com/github/dbremont/Notas/blob/main/Libros/Ciencia/An%20Introduction%20Bioinformatics%20Algorithms.ipynb)\n",
        "\n",
        "* [The Physics of Information Technology](https://colab.research.google.com/github/dbremont/Notas/blob/main/Libros/Ciencia/The%20Physics%20of%20Information%20Technology.ipynb)\n",
        "\n",
        "* [The Theoretical Minimum - What You Need to Know to Start Doing Physics](https://colab.research.google.com/github/dbremont/Notas/blob/main/Libros/Ciencia/The_Theoretical_Minimum_What_You_Need_to_Know_to_Start_Doing_Physics.ipynb)\n",
        "\n",
        "* [Vibrations and Waves in Physics](https://colab.research.google.com/github/dbremont/Notas/blob/main/Libros/Ciencia/Vibrations_and_Waves_in_Physics.ipynb)\n",
        "\n",
        "* [Physics from Finance](https://colab.research.google.com/github/dbremont/Notas/blob/main/Libros/Ciencia/Physics_from_Finance.ipynb)\n",
        "\n",
        "* [Introduction to Electrodynamics](https://github.com/dbremont/Notas/blob/main/Libros/Ciencia/Introduction_to_Electrodynamics.ipynb)"
      ]
    },
    {
      "cell_type": "markdown",
      "metadata": {
        "id": "xnm36WgedB6L"
      },
      "source": [
        "# Otros"
      ]
    },
    {
      "cell_type": "markdown",
      "metadata": {
        "id": "8DrvcOM-dB6L"
      },
      "source": [
        "* [The Five Elements of Effective Thinking](https://colab.research.google.com/github/dbremont/Notas/blob/main/Libros/Otros/The_Five_Elements_of_Effective_Thinking.ipynb)\n",
        "\n",
        "* [A Mind at Play - How Claude Shannon Invented the Information Age](https://colab.research.google.com/github/dbremont/Notas/blob/main/Libros/Otros/A%20Mind%20at%20Play%20-%20How%20Claude%20Shannon%20Invented%20the%20Information%20Age.ipynb)\n",
        "\n",
        "* [Conceptual Blockbusting - A Guide to Better Ideas](https://colab.research.google.com/github/dbremont/Notas/blob/main/Libros/Otros/Conceptual%20Blockbusting%20-%20A%20Guide%20to%20Better%20Ideas.ipynb)\n",
        "\n",
        "* [A Mind for Numbers](https://colab.research.google.com/github/dbremont/Notas/blob/main/Libros/Otros/A%20Mind%20for%20Numbers.ipynb)\n",
        "\n",
        "\n",
        "\n",
        "* [Pragmatic  Thinking & Learning](https://colab.research.google.com/github/dbremont/Notas/blob/main/Libros/Otros/Pragmatic%20Thinking%20%26%20Learning.ipynb)\n",
        "\n",
        "\n",
        "* [Super Thinking](https://colab.research.google.com/github/dbremont/Notas/blob/main/Libros/Otros/Super%20Thinking.ipynb)\n",
        "\n",
        "* [Data & Reality](https://colab.research.google.com/github/dbremont/Notas/blob/main/Libros/Otros/Data%20%26%20Reality.ipynb)\n",
        "\n",
        "* [The Tiny Small Changes Habits That Change BJ. Fogg](https://colab.research.google.com/github/dbremont/Notas/blob/main/Libros/Otros/The%20Tiny%20Small%20Changes%20Habits%20That%20Change%20BJ.%20Fogg.ipynb)\n",
        "\n",
        "* [How to Read a Book](https://colab.research.google.com/github/dbremont/Notas/blob/main/Libros/Otros/How%20to%20Read%20a%20Book.ipynb)\n",
        "\n",
        "* [Thinking, Fast and Slow](https://colab.research.google.com/github/dbremont/Notas/blob/main/Libros/Otros/Thinking%2C%20Fast%20and%20Slow.ipynb)\n",
        "\n",
        "* [How We know What Isn't So](https://colab.research.google.com/github/dbremont/Notas/blob/main/Libros/Otros/How%20We%20know%20What%20Isn't%20So.ipynb)\n",
        "\n",
        "* [Simulation and Similarity](https://colab.research.google.com/github/dbremont/Notas/blob/main/Libros/Otros/Simulation%20and%20Similarity.ipynb)\n",
        "\n",
        "* [Science in Action](https://colab.research.google.com/github/dbremont/Notas/blob/main/Libros/Otros/Science%20in%20Action.ipynb)\n",
        "\n",
        "\n",
        "* [Peopleware: Productive Projects and Teams](https://colab.research.google.com/github/dbremont/Notas/blob/main/Libros/Otros/Peopleware_Productive_Projects_and_Teams.ipynb)\n",
        "\n",
        "* [Complexity Economics: Proceedings of the Santa Fe Institute's 2019 Fall Symposium](https://colab.research.google.com/github/dbremont/Notas/blob/main/Libros/Otros/Complexity_Economics_Proceedings_of_the_Santa_Fe_Institute's_2019_Fall_Symposium.ipynb)\n",
        "\n",
        "* [INSPIRED: How to Create Tech Products Customers Love](https://colab.research.google.com/github/dbremont/Notas/blob/main/Libros/Otros/INSPIRED_How_to_Create_Tech_Products_Customers_Love.ipynb)\n",
        "\n",
        "* [The Non-Designer's Design Book](https://colab.research.google.com/github/dbremont/Notas/blob/main/Libros/Otros/The_Non_Designer's_Design_Book.ipynb)\n",
        "\n",
        "* [The Personal MBA: Master the Art of Business](https://colab.research.google.com/github/dbremont/Notas/blob/main/Libros/Otros/The_Personal_MBA_Master_the_Art_of_Business.ipynb)\n",
        "\n",
        "* [The Daily Stoic](https://colab.research.google.com/github/dbremont/Notas/blob/main/Libros/Otros/The_Daily_Stoic.ipynb)\n",
        "\n",
        "* [A Guide to the Good Life: The Ancient Art of Stoic Joy](https://colab.research.google.com/github/dbremont/Notas/blob/main/Libros/Otros/A_Guide_to_the_Good_Life_The_Ancient_Art_of_Stoic_Joy.ipynb)\n"
      ]
    },
    {
      "cell_type": "markdown",
      "metadata": {
        "id": "sFNNdu4abaCO"
      },
      "source": [
        "## Economía"
      ]
    },
    {
      "cell_type": "markdown",
      "metadata": {
        "id": "w0kwpK6ubd4b"
      },
      "source": [
        "* [Naked money - A Revealing Look at Our Financial System](https://colab.research.google.com/github/dbremont/Notas/blob/main/Libros/Otros/Naked%20money%20-%20A%20Revealing%20Look%20at%20Our%20Financial%20System.ipynb)\n",
        "\n",
        "* [Why Stock Markets Crash](https://colab.research.google.com/github/dbremont/Notas/blob/main/Libros/Otros/Why%20Stock%20Markets%20Crash.ipynb)\n",
        "\n",
        "* [Bad Samaritans: The guilty secrets of rich nations & the threat to global prosperity](https://colab.research.google.com/github/dbremont/Notas/blob/main/Libros/Otros/Bad%20Samaritans:%20The%20guilty%20secrets%20of%20rich%20nations%20%26%20the%20threat%20to%20global%20prosperity.ipynb)\n",
        "\n",
        "* [How Rich Countries Got Rich ... and Why Poor Countries Stay Poor](https://colab.research.google.com/github/dbremont/Notas/blob/main/Libros/Otros/How%20Rich%20Countries%20Got%20Rich%20...%20and%20Why%20Poor%20Countries%20Stay%20Poor.ipynb)\n",
        "\n",
        "* [Why Information Grows](https://colab.research.google.com/github/dbremont/Notas/blob/main/Libros/Otros/Why%20Information%20Grows.ipynb)\n",
        "\n",
        "\n",
        "* [Debt: The First 5000 Years](https://colab.research.google.com/github/dbremont/Notas/blob/main/Libros/Otros/Debt_The_First_5000_Years.ipynb)\n",
        "\n",
        "* [The Making of an Economic Superpower: Unlocking China's Secret of Rapid Industrialization](https://colab.research.google.com/github/dbremont/Notas/blob/main/Libros/Otros/The_Making_of_an_Economic_Superpower_Unlocking_China's_Secret_of_Rapid_Industrialization.ipynb)\n",
        "\n",
        "* [The Art of Economic Catch-Up: Barriers, Detours and Leapfrogging in Innovation Systems](https://colab.research.google.com/github/dbremont/Notas/blob/main/Libros/Otros/The_Art_of_Economic_Catch_Up_Barriers%2C_Detours_and_Leapfrogging_in_Innovation_Systems.ipynb)\n",
        "\n",
        "* [Guide for the Young Economist](https://colab.research.google.com/github/dbremont/Notas/blob/main/Libros/Otros/Guide_for_the_Young_Economist.ipynb)\n",
        "\n",
        "* [The Practice of Econometrics Classic and Contemporary](https://colab.research.google.com/github/dbremont/Notas/blob/main/Libros/Matematicas/The%20Practice%20of%20Econometrics%20Classic%20and%20Contemporary.ipynb)\n",
        "\n",
        "* [A Course in Econometrics](https://colab.research.google.com/github/dbremont/Notas/blob/main/Libros/Matematicas/A%20Course%20in%20Econometrics.ipynb)\n",
        "\n",
        "* [Economics A Very Short Introduction](https://colab.research.google.com/github/dbremont/Notas/blob/main/Libros/Otros/Economics_A_Very_Short_Introduction.ipynb)\n",
        "\n",
        "- [Complexity Economics - Dialogues of the Appplied Complexity Network](https://colab.research.google.com/github/dbremont/Notas/blob/main/Libros/Otros/Complexity_Economics_Dialogues_of_the_Appplied_Complexity_Network.ipynb)"
      ]
    },
    {
      "cell_type": "markdown",
      "metadata": {
        "id": "ZVqDNR1ObFIr"
      },
      "source": [
        "## Historia"
      ]
    },
    {
      "cell_type": "markdown",
      "metadata": {
        "id": "k8dwfYXEbGyx"
      },
      "source": [
        "* [La Sociedad Novohispana](https://colab.research.google.com/github/dbremont/Notas/blob/main/Libros/Otros/La%20Sociedad%20Novohispana.ipynb)\n",
        "\n",
        "* [Republicas Urbanas En Una Monarquia Imperial](https://colab.research.google.com/github/dbremont/Notas/blob/main/Libros/Otros/Republicas%20Urbanas%20En%20Una%20Monarquia%20Imperial.ipynb)\n",
        "\n",
        "* [Elegia Criolla - Una reinterpretacion de las guerras de independencia hispanoamericanas](https://colab.research.google.com/github/dbremont/Notas/blob/main/Libros/Otros/Elegia%20Criolla%20-%20Una%20reinterpretacion%20de%20las%20guerras%20de%20independencia%20hispanoamericanas.ipynb)\n",
        "\n",
        "* [La disputa del pasado: España, México y la leyenda negra](https://colab.research.google.com/github/dbremont/Notas/blob/main/Libros/Otros/La_disputa_del_pasado_Espa%C3%B1a%2C_M%C3%A9xico_y_la_leyenda_negra.ipynb)"
      ]
    }
  ]
}