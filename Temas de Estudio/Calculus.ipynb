{
  "nbformat": 4,
  "nbformat_minor": 0,
  "metadata": {
    "colab": {
      "name": "Calculus.ipynb",
      "provenance": [],
      "authorship_tag": "ABX9TyMNsEf+ocfCIjebn8hZ/CC5",
      "include_colab_link": true
    },
    "kernelspec": {
      "name": "python3",
      "display_name": "Python 3"
    },
    "language_info": {
      "name": "python"
    }
  },
  "cells": [
    {
      "cell_type": "markdown",
      "metadata": {
        "id": "view-in-github",
        "colab_type": "text"
      },
      "source": [
        "<a href=\"https://colab.research.google.com/github/dbremont/Notas/blob/main/Temas%20de%20Estudio/Calculus.ipynb\" target=\"_parent\"><img src=\"https://colab.research.google.com/assets/colab-badge.svg\" alt=\"Open In Colab\"/></a>"
      ]
    },
    {
      "cell_type": "markdown",
      "metadata": {
        "id": "J6qXrhB36fre"
      },
      "source": [
        "## Primarios"
      ]
    },
    {
      "cell_type": "markdown",
      "metadata": {
        "id": "rVrKb5Tr5xYt"
      },
      "source": [
        "* [Pre-Calculus](https://brilliant.org/courses/pre-calculus/)\n",
        "\n",
        "* [Trigonometry](https://brilliant.org/courses/trigonometry/)\n",
        "\n",
        "* [Calculus in a Nutshell](https://brilliant.org/courses/calculus-nutshell/)\n",
        "\n",
        "* [Calculus Fundamentals](https://brilliant.org/courses/calculus-done-right/)\n",
        "\n",
        "* [Integral Calculus](https://brilliant.org/courses/calculus-ii/)\n",
        "\n",
        "* [Multivariable Calculus](https://brilliant.org/courses/multivariable-calculus/)\n",
        "\n",
        "* [Vector Calculus](https://brilliant.org/courses/vector-calculus/)"
      ]
    },
    {
      "cell_type": "markdown",
      "metadata": {
        "id": "bpA2AnJ66dKv"
      },
      "source": [
        "## Adicionales"
      ]
    },
    {
      "cell_type": "markdown",
      "metadata": {
        "id": "OJvohY-E6fAT"
      },
      "source": [
        "* [18-01SC Single Variable Calculus](https://ocw.mit.edu/courses/mathematics/18-01sc-single-variable-calculus-fall-2010)\n",
        "\n",
        "* [18-02 Multivariable Calculus](https://ocw.mit.edu/courses/mathematics/18-02sc-multivariable-calculus-fall-2010)"
      ]
    }
  ]
}