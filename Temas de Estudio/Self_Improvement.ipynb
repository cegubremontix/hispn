{
  "nbformat": 4,
  "nbformat_minor": 0,
  "metadata": {
    "colab": {
      "name": "Self Improvement.ipynb",
      "provenance": [],
      "authorship_tag": "ABX9TyPctjbzU/GHQeJXnCrxdnQ9",
      "include_colab_link": true
    },
    "kernelspec": {
      "name": "python3",
      "display_name": "Python 3"
    },
    "language_info": {
      "name": "python"
    }
  },
  "cells": [
    {
      "cell_type": "markdown",
      "metadata": {
        "id": "view-in-github",
        "colab_type": "text"
      },
      "source": [
        "<a href=\"https://colab.research.google.com/github/dbremont/Notas/blob/main/Temas%20de%20Estudio/Self_Improvement.ipynb\" target=\"_parent\"><img src=\"https://colab.research.google.com/assets/colab-badge.svg\" alt=\"Open In Colab\"/></a>"
      ]
    },
    {
      "cell_type": "markdown",
      "metadata": {
        "id": "ssqwCi1BcI0h"
      },
      "source": [
        "* [Outsmart Yourself: Brain-Based Strategies to a Better You](https://www.thegreatcourses.com/player/Video/1670)\n",
        "\n",
        "* [The Science of Everyday Thinking](https://www.edx.org/es/course/the-science-of-everyday-thinking)"
      ]
    },
    {
      "cell_type": "markdown",
      "metadata": {
        "id": "1KtZLV2sht3t"
      },
      "source": [
        "- [Using Paper for Everyday Tasks](https://christine.website/blog/gtd-on-paper-2021-06-13)\n",
        "\n",
        "* [Memex](https://en.wikipedia.org/wiki/Memex)\n",
        "\n",
        "* [Indicative planning](https://en.wikipedia.org/wiki/Indicative_planning)\n",
        "\n",
        "* [Intelligence amplification](https://en.wikipedia.org/wiki/Intelligence_amplification)\n",
        "\n",
        "* [Claude Shannon’s “Creative Thinking” Speech: A Genius Reveals How To Be Creative](https://medium.com/the-mission/a-genius-explains-how-to-be-creative-claude-shannons-long-lost-1952-speech-fbbcb2ebe07f)\n",
        "\n",
        "* [A theory of how developers seek information](https://web.eecs.utk.edu/~azh/blog/informationforaging.html)\n",
        "\n",
        "* [Ad Hoc](https://es.wikipedia.org/wiki/Ad_hoc)\n",
        "\n",
        "* [Humanistic intelligence](https://en.wikipedia.org/wiki/Humanistic_intelligence)\n",
        "\n",
        "* [Design thinking](https://en.wikipedia.org/wiki/Design_thinking)\n",
        "\n",
        "* [Six Ways to Think Long-term: A Cognitive Toolkit for Good Ancestors](https://blog.longnow.org/02020/07/20/six-ways-to-think-long-term-a-cognitive-toolkit-for-good-ancestors/)\n",
        "\n",
        "* [Write a rapid prototype first](https://terrytao.wordpress.com/advice-on-writing-papers/write-a-rapid-prototype-first/)\n",
        "\n",
        "* [My strategy for wealth and personal finance](https://stopa.io/post/225)\n",
        "\n",
        "* [Wasting Time Solving Not Important Problems](https://adamashwal.com/waste)\n",
        "\n",
        "* [The Personality Loop](https://neilkakkar.com/personality-loop.html)\n",
        "\n",
        "* [A Simple and Dynamic Method for Consistent Productivity](https://matthewsaltz.wordpress.com/2020/11/24/a-simple-and-dynamic-method-for-consistent-productivity/)\n",
        "\n",
        "* [Trapped Priors As A Basic Problem Of Rationality](https://astralcodexten.substack.com/p/trapped-priors-as-a-basic-problem)\n",
        "\n",
        "* [10,000 Hours With Claude Shannon: How A Genius Thinks, Works, and Lives](https://medium.com/the-mission/10-000-hours-with-claude-shannon-12-lessons-on-life-and-learning-from-a-genius-e8b9297bee8f)\n",
        "\n",
        "* [A Scientist’s Mind, a Poet’s Soul](https://www.thenewatlantis.com/publications/a-scientists-mind-a-poets-soul)\n",
        "\n",
        "* [HN: How to Think Clearly?](https://news.ycombinator.com/item?id=24896237)\n",
        "\n",
        "* [Decision-making](https://en.wikipedia.org/wiki/Decision-making)\n",
        "\n",
        "* [List of cognitive biases](https://en.wikipedia.org/wiki/List_of_cognitive_biases)\n",
        "\n",
        "* [Learning curve](https://en.wikipedia.org/wiki/Learning_curve)\n",
        "\n",
        "* [Just-in-time learning](https://en.wikipedia.org/wiki/Just-in-time_learning)\n",
        "\n",
        "* [The architecture of my life](https://blog.nntn.nl/architecture-of-my-life-2021)\n",
        "\n",
        "* [The Art of Reading More Effectively and Efficiently](https://aliabdaal.com/read-more-effectively/)\n",
        "\n",
        "* [Are some personalities just better?](https://dynomight.net/better-personalities/)\n",
        "\n",
        "* [Augmenting Long-term Memory](http://augmentingcognition.com/ltm.html)\n",
        "\n",
        "* [Goals vs. Systems](https://www.scottadamssays.com/2013/11/18/goals-vs-systems/)\n",
        "\n",
        "* [Five Percent Better: The Compounding of Consistent Incremental Progress](https://fs.blog/2016/03/five-percent-better/)\n",
        "\n",
        "* [Don't End The Week With Nothing](https://training.kalzumeus.com/newsletters/archive/do-not-end-the-week-with-nothing)\n",
        "\n",
        "* [When to Copy Ideas, When to Steal Ideas](https://davnicwil.com/when-to-copy-ideas-when-to-steal-ideas/)\n",
        "\n",
        "* [Soft skills](https://es.wikipedia.org/wiki/Soft_skills)\n",
        "\n",
        "* [Five whys](https://en.wikipedia.org/wiki/Five_whys)\n",
        "\n",
        "* [5 second feedback](https://critter.blog/2020/11/26/5-second-feedback/)\n",
        "\n",
        "* [Heuristic](https://en.wikipedia.org/wiki/Heuristic)\n",
        "\n"
      ]
    }
  ]
}