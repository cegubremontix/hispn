{
  "nbformat": 4,
  "nbformat_minor": 0,
  "metadata": {
    "colab": {
      "name": "Ciencia política.ipynb",
      "provenance": [],
      "collapsed_sections": [],
      "authorship_tag": "ABX9TyO95s2fOHnamLtHN/JMJi4W",
      "include_colab_link": true
    },
    "kernelspec": {
      "name": "python3",
      "display_name": "Python 3"
    },
    "language_info": {
      "name": "python"
    }
  },
  "cells": [
    {
      "cell_type": "markdown",
      "metadata": {
        "id": "view-in-github",
        "colab_type": "text"
      },
      "source": [
        "<a href=\"https://colab.research.google.com/github/dbremont/Notas/blob/main/Temas%20de%20Estudio/Ciencia%20pol%C3%ADtica.ipynb\" target=\"_parent\"><img src=\"https://colab.research.google.com/assets/colab-badge.svg\" alt=\"Open In Colab\"/></a>"
      ]
    },
    {
      "cell_type": "markdown",
      "metadata": {
        "id": "JLfScH_cxg4a"
      },
      "source": [
        "## Ciencias Politicas"
      ]
    },
    {
      "cell_type": "markdown",
      "metadata": {
        "id": "ORW72-LwxMKU"
      },
      "source": [
        "- [A Survey on Computational Politics](https://arxiv.org/pdf/1908.06069.pdf)\n",
        "\n",
        "- [Introduction to Political Philosophy with Steven B. Smith](https://www.youtube.com/playlist?list=PL8D95DEA9B7DFE825)\n",
        "\n",
        "- Taleb Principia Politica\n",
        "\n",
        "- Cesar Hidalgo on Democracy"
      ]
    }
  ]
}