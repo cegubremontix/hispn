{
  "nbformat": 4,
  "nbformat_minor": 0,
  "metadata": {
    "colab": {
      "name": "Probability and Statistics.ipynb",
      "provenance": [],
      "collapsed_sections": [
        "cKoyS2-EktOd",
        "WTKECYNgkvp9",
        "key7Upxfk0M9"
      ],
      "toc_visible": true,
      "authorship_tag": "ABX9TyOX91ahqx21aH8uG23w9kgO",
      "include_colab_link": true
    },
    "kernelspec": {
      "name": "python3",
      "display_name": "Python 3"
    },
    "language_info": {
      "name": "python"
    }
  },
  "cells": [
    {
      "cell_type": "markdown",
      "metadata": {
        "id": "view-in-github",
        "colab_type": "text"
      },
      "source": [
        "<a href=\"https://colab.research.google.com/github/dbremont/Notas/blob/main/Temas%20de%20Estudio/Probability%20and%20Statistics.ipynb\" target=\"_parent\"><img src=\"https://colab.research.google.com/assets/colab-badge.svg\" alt=\"Open In Colab\"/></a>"
      ]
    },
    {
      "cell_type": "markdown",
      "metadata": {
        "id": "HYRR7I6_yquN"
      },
      "source": [
        "- [Notas Estadisticas](https://colab.research.google.com/github/dbremont/Notas/blob/main/Ingenerare/Notas_Estadisticas.ipynb)\n",
        "\n",
        "- [Notas Probabilidad](https://colab.research.google.com/github/dbremont/Notas/blob/main/Ingenerare/Notas_Probabilidad.ipynb)"
      ]
    },
    {
      "cell_type": "markdown",
      "metadata": {
        "id": "GL4mnsRhjj5A"
      },
      "source": [
        "# Primario"
      ]
    },
    {
      "cell_type": "markdown",
      "metadata": {
        "id": "RKLMv6D5flwU"
      },
      "source": [
        "* [Probability Fundamentals](https://brilliant.org/courses/probability-fundamentals/)\n",
        "\n",
        "* [Applied Probability](https://brilliant.org/courses/probability/)\n",
        "\n",
        "* [Random Variables & Distributions](https://brilliant.org/courses/probability_ii/)\n",
        "\n",
        "* [Statistics Fundamentals](https://brilliant.org/courses/statistics/)\n",
        "\n",
        "* [Statistics I](https://brilliant.org/courses/advanced-statistics-i/)"
      ]
    },
    {
      "cell_type": "markdown",
      "metadata": {
        "id": "v75sN7B3fhcD"
      },
      "source": [
        "# Secundario"
      ]
    },
    {
      "cell_type": "markdown",
      "metadata": {
        "id": "BBCItpj0fpLD"
      },
      "source": [
        "* [Intro to Descriptive Statistics](https://www.udacity.com/course/intro-to-descriptive-statistics--ud827)\n",
        "\n",
        "* [Intro to Inferential Statistics](https://www.udacity.com/course/intro-to-inferential-statistics--ud201)\n",
        "\n",
        "* [6.041 Probabilistic Systems Analysis and Applied Probability](https://ocw.mit.edu/courses/electrical-engineering-and-computer-science/6-041sc-probabilistic-systems-analysis-and-applied-probability-fall-2013/)\n",
        "\n",
        "- [Introduction to Probability and Statistics](https://ocw.mit.edu/courses/mathematics/18-05-introduction-to-probability-and-statistics-spring-2014/\n",
        "\n",
        "\n",
        "* [6.008 Computational Probability and Inference](https://courses.edx.org/courses/course-v1:MITx+6.008.1x+3T2016/course/)\n",
        "\n",
        "* [18.6501 Statistics for Applications](https://ocw.mit.edu/courses/mathematics/18-650-statistics-for-applications-fall-2016/)\n",
        "\n",
        "* [6.419 Data Analysis: Statistical Modeling and Computation in Applications](https://colab.research.google.com/github/dbremont/Notas/blob/main/Ingenerare/6_419_Data_Analysis_Statistical_Modeling_and_Computation_in_Applications.ipynb)\n",
        "\n",
        "* [Statistics Fundamentals](https://www.youtube.com/embed/playlist?list=PLblh5JKOoLUK0FLuzwntyYI10UQFUhsY9)\n",
        "\n",
        "* [Statistical Thinking](https://www.youtube.com/embed/playlist?list=PLRKtJ4IpxJpBxX2S9wXJUhB1_ha3ADFpF)\n",
        "\n",
        "* [Learn random things!](https://www.youtube.com/embed/playlist?list=PLRKtJ4IpxJpDsOT_8YDREJrO8cQUtPUVg)\n",
        "\n",
        "* [Quantitative Social Science Methods I](https://www.youtube.com/embed/playlist?list=PL0n492lUg2sgSevEQ3bLilGbFph4l92gH)\n",
        "\n",
        "* [Knowledge and Uncertainty](https://brilliant.org/courses/knowledge-and-uncertainty/)\n",
        "\n",
        "* [Perplexing Probability](https://brilliant.org/courses/perplexing-probability/)\n",
        "\n",
        "* [Casino Probability](https://brilliant.org/courses/casino-games/)\n"
      ]
    }
  ]
}