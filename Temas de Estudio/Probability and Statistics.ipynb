{
  "nbformat": 4,
  "nbformat_minor": 0,
  "metadata": {
    "colab": {
      "name": "Probability and Statistics.ipynb",
      "provenance": [],
      "collapsed_sections": [
        "cKoyS2-EktOd",
        "WTKECYNgkvp9",
        "key7Upxfk0M9"
      ],
      "toc_visible": true,
      "authorship_tag": "ABX9TyOh7K4HXEMo4T5L/6REWkqv",
      "include_colab_link": true
    },
    "kernelspec": {
      "name": "python3",
      "display_name": "Python 3"
    },
    "language_info": {
      "name": "python"
    }
  },
  "cells": [
    {
      "cell_type": "markdown",
      "metadata": {
        "id": "view-in-github",
        "colab_type": "text"
      },
      "source": [
        "<a href=\"https://colab.research.google.com/github/dbremont/Notas/blob/main/Temas%20de%20Estudio/Probability%20and%20Statistics.ipynb\" target=\"_parent\"><img src=\"https://colab.research.google.com/assets/colab-badge.svg\" alt=\"Open In Colab\"/></a>"
      ]
    },
    {
      "cell_type": "markdown",
      "metadata": {
        "id": "GL4mnsRhjj5A"
      },
      "source": [
        "# Primario"
      ]
    },
    {
      "cell_type": "markdown",
      "metadata": {
        "id": "RKLMv6D5flwU"
      },
      "source": [
        "* [Knowledge and Uncertainty](https://brilliant.org/courses/knowledge-and-uncertainty/)\n",
        "\n",
        "* [Probability Fundamentals](https://brilliant.org/courses/probability-fundamentals/)\n",
        "\n",
        "* [Applied Probability](https://brilliant.org/courses/probability/)\n",
        "\n",
        "* [Random Variables & Distributions](https://brilliant.org/courses/probability_ii/)\n",
        "\n",
        "* [Statistics Fundamentals](https://brilliant.org/courses/statistics/)\n",
        "\n",
        "* [Statistics I](https://brilliant.org/courses/advanced-statistics-i/)\n",
        "\n",
        "* [Intro to Descriptive Statistics](https://www.udacity.com/course/intro-to-descriptive-statistics--ud827)\n",
        "\n",
        "* [Intro to Inferential Statistics](https://www.udacity.com/course/intro-to-inferential-statistics--ud201)"
      ]
    },
    {
      "cell_type": "markdown",
      "metadata": {
        "id": "v75sN7B3fhcD"
      },
      "source": [
        "# Secundario"
      ]
    },
    {
      "cell_type": "markdown",
      "metadata": {
        "id": "BBCItpj0fpLD"
      },
      "source": [
        "* [6.041 Probabilistic Systems Analysis and Applied Probability](https://ocw.mit.edu/courses/electrical-engineering-and-computer-science/6-041sc-probabilistic-systems-analysis-and-applied-probability-fall-2013/)\n",
        "\n",
        "* [6.008 Computational Probability and Inference](https://courses.edx.org/courses/course-v1:MITx+6.008.1x+3T2016/course/)\n",
        "\n",
        "* [18.6501 Statistics for Applications](https://ocw.mit.edu/courses/mathematics/18-650-statistics-for-applications-fall-2016/)\n",
        "\n",
        "* [6.419 Data Analysis: Statistical Modeling and Computation in Applications](https://colab.research.google.com/github/dbremont/Notas/blob/main/Ingenerare/6_419_Data_Analysis_Statistical_Modeling_and_Computation_in_Applications.ipynb)\n",
        "\n",
        "* [Statistics Fundamentals](https://www.youtube.com/embed/playlist?list=PLblh5JKOoLUK0FLuzwntyYI10UQFUhsY9)\n",
        "\n",
        "* [Statistical Thinking](https://www.youtube.com/embed/playlist?list=PLRKtJ4IpxJpBxX2S9wXJUhB1_ha3ADFpF)\n",
        "\n",
        "* [Learn random things!](https://www.youtube.com/embed/playlist?list=PLRKtJ4IpxJpDsOT_8YDREJrO8cQUtPUVg)\n",
        "\n",
        "* [Quantitative Social Science Methods I](https://www.youtube.com/embed/playlist?list=PL0n492lUg2sgSevEQ3bLilGbFph4l92gH)"
      ]
    },
    {
      "cell_type": "markdown",
      "metadata": {
        "id": "nqdKGrVckx_R"
      },
      "source": [
        "# Statistics"
      ]
    },
    {
      "cell_type": "markdown",
      "metadata": {
        "id": "sopIwhzc_JWL"
      },
      "source": [
        "Data Colection Courses\n",
        "\n",
        "- Pilot study\n",
        "\n",
        "- Benchmark\n",
        "\n",
        "- Randomization\n",
        "\n",
        "- Causal Graph\n",
        "\n",
        "- Generating data and modelling with causal graph.\n",
        "\n",
        "- Confounder  variable.\n",
        "\n",
        "- Effect of offerig mamography **\"hips study\"** to prevent breast cancer.\n",
        "\n"
      ]
    },
    {
      "cell_type": "markdown",
      "metadata": {
        "id": "lzuLd_Mc_N5J"
      },
      "source": [
        "OCW Statistics\n",
        "Concepts and Psets\n",
        "\n",
        "- Convergence of random variables\n",
        "- Bernoulli random variable\n",
        "- i.i.d sequence\n",
        "\n",
        "- Poisson random variable\n",
        "- Common variance\n",
        "- Estimator\n",
        "- Bias of an estimator\n",
        "\n",
        "Define a statistical model:\n",
        "\n",
        "- The US Census Bureau is interested in finding out the average commute time of\n",
        "Bostonians. To that end, it randomly selects n individuals, with replacement,\n",
        "among the people who work and live in the Boston area, and asks to each if their\n",
        "commute time is at least 20 minutes. The commute time of a random person is\n",
        "assumed to follow an exponential distribution.\n",
        "\n",
        "- Willy Wonka’s contains 67 identical machines. Each machine has a lifetime that\n",
        "is modeled as an exponential random variable with some unknown parameter λ.\n",
        "After a certain time T = 500 days, one has observed the lifetime of all machines\n",
        "that have stopped working before T. The parameter of interest is λ. \n",
        "\n",
        "- A confidence interval for Poisson distributions\n",
        "\n",
        "- Maximum likelihood estimato\n",
        "\n",
        "- Kullback-Leibler divergence\n",
        "\n",
        "- Total variation distance\n",
        "\n",
        "- Fisher information\n",
        "\n",
        "- Hypotheses testing\n",
        "\n",
        "- Bayesian estimation\n",
        "\n",
        "- Covariance Matrices\n",
        "\n",
        "- Linear model with latent variables\n",
        "\n",
        "Statistical methods are based on models.\n",
        "\n",
        "\n"
      ]
    },
    {
      "cell_type": "markdown",
      "metadata": {
        "id": "gUZhJSMF7C-4"
      },
      "source": [
        "\n",
        "* How to Process, Analyze and Visualize Data\n",
        "    * [Day 1: Let's play with some data!](http://dataiap.github.io/dataiap/day1/)\n",
        "    * [Day 2: Plotting Large Datasets](http://dataiap.github.io/dataiap/day2/)\n",
        "    * [Day 3: Hypothesis Testing](http://dataiap.github.io/dataiap/day3/hypothesis_testing.html)\n",
        "    * [Day 3: Regression](http://dataiap.github.io/dataiap/day3/regression.html)\n",
        "    * [Day 4: Text Processing](http://dataiap.github.io/dataiap/day4/)\n",
        "    * [Day 5: Map-Reduce](http://dataiap.github.io/dataiap/day5/mapreduce)\n"
      ]
    },
    {
      "cell_type": "markdown",
      "metadata": {
        "id": "gzVOI_M-gQNm"
      },
      "source": [
        "**Statistical models: Bernoulli and binomial models**\n",
        "\n",
        "- Indicator variable\n",
        "\n",
        "- Bernoulli Distribution: use to model ramdom experiments with only two possible outcomes. **Random Models**\n",
        "\n",
        "- Binomial Distributions: \n",
        "  - We can comppute the probability masss function (pmf) of a binomial random variable Y with parameters $n$ and $p$\n",
        "\n",
        "  - $f(Y = k) = \\binom {n}{k} \\cdot p^ k \\cdot (1-p)^{n-k}$\n",
        "  - $ \\binom {n}{k}$ is the number of different ways of choosing k out the the n Bernoulli variables.\n",
        "  - $ p^ k$ is the probability that a given set of $k$ Bernoulli random variables all take value 1.\n",
        "  - $(1-p)^{n-k}$ is the probability that a given set of $n-k$ Bernoulli random variables al take value $0$.\n",
        "\n",
        "  \n"
      ]
    },
    {
      "cell_type": "code",
      "metadata": {
        "id": "Dl07ST6ClnA9"
      },
      "source": [
        "from scipy import special, stats\n"
      ],
      "execution_count": null,
      "outputs": []
    },
    {
      "cell_type": "code",
      "metadata": {
        "id": "d6TmhPC6ltLp"
      },
      "source": [
        "# Consider a binomial model where each of  31000  individuals has a probability of  0.00203  (or  2.03  per 1000) of dying due to breast cancer. \n",
        "# Use the binomial pmf to calculate the probability that exactly  63  of the  31000  patients die of breast cancer.\n",
        "\n",
        "k = 63\n",
        "n = 31000\n",
        "p = 0.00203"
      ],
      "execution_count": null,
      "outputs": []
    },
    {
      "cell_type": "code",
      "metadata": {
        "colab": {
          "base_uri": "https://localhost:8080/"
        },
        "id": "PDcYMREGmYEK",
        "outputId": "6d3e3243-e3ec-46a4-85f1-25161cd11a32"
      },
      "source": [
        "stats.binom.pmf(k , n, p)"
      ],
      "execution_count": null,
      "outputs": [
        {
          "output_type": "execute_result",
          "data": {
            "text/plain": [
              "0.050244686645578546"
            ]
          },
          "metadata": {
            "tags": []
          },
          "execution_count": 13
        }
      ]
    },
    {
      "cell_type": "markdown",
      "metadata": {
        "id": "wXh062genmz5"
      },
      "source": [
        "**Find out whether offering a mammography for early detection reduces deaths due to breast cancer.**\n"
      ]
    },
    {
      "cell_type": "markdown",
      "metadata": {
        "id": "mpreDQG6oEsX"
      },
      "source": [
        "- **Hypothesis testing** allows us to see so meaninful is the results in the **treatment group** vs **countrol group**. So we reject the idea that the results observed we not just by change.\n",
        "\n",
        "- A high-level summary of hypothesis testing is that it involves calculating the probability, under a given model, that an observation equal to or more extreme than what is observed in the treatment group is obtained, conditioned on the treatment having no effect\n",
        "\n",
        "- The role of a statistical model is in calculating this probability. \n",
        "\n",
        "- **Null hypothesis  H0** : claim that the treatment does not have a significant effect on the outcome, also known as the status-quo.\n",
        "\n",
        "- **Alternative hypothesis  HA** : claim that the treatment does have a significant effect on the outcome.\n",
        "\n",
        "- In other words, the  p -value measures the \"compatibilty\" of the observed data with the null hypothesis. \n",
        "\n",
        "- Type I error (false positive) \n",
        "\n",
        "- Type II error (false negative)\n",
        "\n",
        "- **Hypergeometric distribution**\n",
        "\n",
        "- **Fisher's Exact Test**\n",
        "\n",
        "- **Likelihood Ratio Test**\n",
        "\n",
        "- **Family-wise error rate (FWER)** : the probability of making at least one false discovery, or type I error;\n",
        "\n",
        "- **False discovery rate (FDR)** : the expected fraction of false significance results among all false significance results.\n",
        "\n",
        "- The concepts of variance and covariance of data.\n",
        "\n",
        "- What the corelation coefficient is and how it relates to covariance.\n",
        "\n",
        "- How linear regression relates to correlation.\n",
        "\n",
        "- How to transform data with non-linear relationship so that they may be analyzed with linear regression.\n",
        "\n",
        "- The extension of linear regression to multiple dimensions.\n",
        "\n",
        "- Application of the t-test to determine the significance of predictors in a multidimensional linear model.\n",
        "\n",
        "- Correlation coefitient:\n",
        "\n",
        "   - $r = \\frac{1}{N} \\sum_{i=1}^n (\\frac{x_i - \\bar{y}}{s_X})(\\frac{y_i - \\bar{y}}{s_y}) = \n",
        "   \\frac{cov(x,y)}{s_xs_y}$\n",
        "\n",
        "   - Measures linear association between variables."
      ]
    },
    {
      "cell_type": "code",
      "metadata": {
        "colab": {
          "base_uri": "https://localhost:8080/"
        },
        "id": "BhKaOHBHKgeD",
        "outputId": "61a93157-178d-49bb-9d55-5d8ffb055b44"
      },
      "source": [
        "## Correlation coefficient\n",
        "# https://docs.scipy.org/doc/scipy-0.14.0/reference/generated/scipy.stats.pearsonr.html\n",
        "\n",
        "stats.pearsonr([1,2,3], [2,4,6])\n"
      ],
      "execution_count": null,
      "outputs": [
        {
          "output_type": "execute_result",
          "data": {
            "text/plain": [
              "(0.9999999999999998, 1.3415758552508151e-08)"
            ]
          },
          "metadata": {
            "tags": []
          },
          "execution_count": 15
        }
      ]
    },
    {
      "cell_type": "markdown",
      "metadata": {
        "id": "ooy6TlhiLdwl"
      },
      "source": [
        "In this lecture and series of exercises you will learn:\n",
        "\n",
        "- What it means for a function to be convex, and why convex functions are important in optimization.\n",
        "\n",
        "- Critical points and saddle points in multi-dimensional optimization.\n",
        "\n",
        "- Definitions for convexity in multiple dimensions.\n",
        "\n",
        "- How to create local quadratic approximations to a function.\n",
        "\n",
        "- The method of gradient descent.\n",
        "\n",
        "- How to select the step size in gradient descent.\n",
        "\n",
        "- The stochastic gradient descent algorithm."
      ]
    },
    {
      "cell_type": "markdown",
      "metadata": {
        "id": "Vd411aGxL3P9"
      },
      "source": [
        "- **What is a loss function**\n",
        "\n",
        "- Measure of performace."
      ]
    },
    {
      "cell_type": "markdown",
      "metadata": {
        "id": "9f5GpN3vpR1t"
      },
      "source": [
        "- "
      ]
    }
  ]
}