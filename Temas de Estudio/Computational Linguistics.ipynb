{
  "nbformat": 4,
  "nbformat_minor": 0,
  "metadata": {
    "colab": {
      "name": "Computational Linguistics.ipynb",
      "provenance": [],
      "collapsed_sections": [],
      "authorship_tag": "ABX9TyNF8LPKgr2teNTbHNFIuim6",
      "include_colab_link": true
    },
    "kernelspec": {
      "name": "python3",
      "display_name": "Python 3"
    }
  },
  "cells": [
    {
      "cell_type": "markdown",
      "metadata": {
        "id": "view-in-github",
        "colab_type": "text"
      },
      "source": [
        "<a href=\"https://colab.research.google.com/github/dbremont/Notas/blob/main/Temas%20de%20Estudio/Computational%20Linguistics.ipynb\" target=\"_parent\"><img src=\"https://colab.research.google.com/assets/colab-badge.svg\" alt=\"Open In Colab\"/></a>"
      ]
    },
    {
      "cell_type": "markdown",
      "metadata": {
        "id": "htVvjkZSQGjj"
      },
      "source": [
        "# Computational Linguistics"
      ]
    },
    {
      "cell_type": "markdown",
      "metadata": {
        "id": "uDrJubYBOTOF"
      },
      "source": [
        "Problems and Projects"
      ]
    },
    {
      "cell_type": "markdown",
      "metadata": {
        "id": "4nPHAYlxOVDa"
      },
      "source": [
        "- [Contract Understanding Atticus Dataset](https://github.com/TheAtticusProject/cuad/)\n",
        "\n",
        "- [CS224n: Natural Language Processing with Deep Learning](http://web.stanford.edu/class/cs224n/project.html)"
      ]
    },
    {
      "cell_type": "markdown",
      "metadata": {
        "id": "WPdxrGzeQI6X"
      },
      "source": [
        "## Recursos"
      ]
    },
    {
      "cell_type": "markdown",
      "metadata": {
        "id": "_rZcwgBTQOMT"
      },
      "source": [
        "* [Neural Networks for NLP](http://phontron.com/class/nn4nlp2020/schedule/class-introduction.html)\n",
        "  * [Videos](https://www.youtube.com/playlist?list=PL8PYTP1V4I8CJ7nMxMC8aXv8WqKYwj-aJ)\n",
        "\n",
        "* [CMU Low-resource NLP Bootcamp](https://www.youtube.com/playlist?list=PL8PYTP1V4I8A1CpCzURXAUa6H4HO7PF2c)\n",
        "\n",
        "* [CMU Multilingual NLP](https://www.youtube.com/playlist?list=PL8PYTP1V4I8CHhppU6n1Q9-04m96D9gt5)\n",
        "\n",
        "* [A Code-First Introduction to NLP](https://github.com/fastai/course-nlp)\n",
        "\n",
        "* [CS224N: Natural Language Processing with Deep Learning](https://www.youtube.com/playlist?list=PLoROMvodv4rOhcuXMZkNm7j3fVwBBY42z)\n",
        "\n",
        "* [CS224U: Natural Language Understanding](http://web.stanford.edu/class/cs224u/2019/)\n",
        "  * [Videos](https://www.youtube.com/playlist?list=PLoROMvodv4rObpMCir6rNNUlFAn56Js20)\n",
        "\n",
        "* [6.864: Natural Language Processing](http://www.cs.columbia.edu/~mcollins/6864/index.html)\n",
        "   * [Videos](https://www.youtube.com/playlist?list=PLA212ij5XG8OTDRl8IWFiJgHR9Ve2k9pv)\n",
        "\n",
        "* [Advanced Natural Language Processing](https://ocw.mit.edu/courses/electrical-engineering-and-computer-science/6-864-advanced-natural-language-processing-fall-2005/)\n",
        "\n",
        "* [Computational Linguistics I](https://www.youtube.com/playlist?list=PLegWUnz91WfuPebLI97-WueAP90JO-15i)\n",
        "\n",
        "* [CSE 447 + 517:  Natural Language Processing](https://docs.google.com/document/d/1gBz2w79DBrGjNGq2TMqJBDIWzUGsQacWFAszZKz6OKI/edit)\n",
        "\n"
      ]
    },
    {
      "cell_type": "markdown",
      "metadata": {
        "id": "Qy1SVImdl1yJ"
      },
      "source": [
        "## Notes"
      ]
    },
    {
      "cell_type": "markdown",
      "metadata": {
        "id": "7qGESxKIdtk1"
      },
      "source": [
        "- [Merge](https://en.wikipedia.org/wiki/Minimalist_program#Mergehttps://en.wikipedia.org/wiki/Minimalist_program#Merge)\n",
        "\n",
        "- https://en.wikipedia.org/wiki/Bag-of-words_model\n",
        "\n",
        "- https://en.wikipedia.org/wiki/Multiset\n",
        "\n",
        "- https://en.wikipedia.org/wiki/Vector_space_model"
      ]
    },
    {
      "cell_type": "markdown",
      "metadata": {
        "id": "S2zBhtVemGgl"
      },
      "source": [
        "* [How to Write a Spelling Corrector](https://norvig.com/spell-correct.html)"
      ]
    }
  ]
}