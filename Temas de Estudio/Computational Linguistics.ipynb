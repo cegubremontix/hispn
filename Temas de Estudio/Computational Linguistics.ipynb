{
  "nbformat": 4,
  "nbformat_minor": 0,
  "metadata": {
    "colab": {
      "name": "Computational Linguistics.ipynb",
      "provenance": [],
      "collapsed_sections": [],
      "authorship_tag": "ABX9TyM1VH8CYIR2rdaexhagcuWv",
      "include_colab_link": true
    },
    "kernelspec": {
      "name": "python3",
      "display_name": "Python 3"
    }
  },
  "cells": [
    {
      "cell_type": "markdown",
      "metadata": {
        "id": "view-in-github",
        "colab_type": "text"
      },
      "source": [
        "<a href=\"https://colab.research.google.com/github/dbremont/Notas/blob/main/Temas%20de%20Estudio/Computational%20Linguistics.ipynb\" target=\"_parent\"><img src=\"https://colab.research.google.com/assets/colab-badge.svg\" alt=\"Open In Colab\"/></a>"
      ]
    },
    {
      "cell_type": "markdown",
      "metadata": {
        "id": "htVvjkZSQGjj"
      },
      "source": [
        "# Computational Linguistics"
      ]
    },
    {
      "cell_type": "markdown",
      "metadata": {
        "id": "uDrJubYBOTOF"
      },
      "source": [
        "Problems and Projects"
      ]
    },
    {
      "cell_type": "markdown",
      "metadata": {
        "id": "4nPHAYlxOVDa"
      },
      "source": [
        "* [Contract Understanding Atticus Dataset](https://github.com/TheAtticusProject/cuad/)\n",
        "\n",
        "* [CS224n: Natural Language Processing with Deep Learning](http://web.stanford.edu/class/cs224n/project.html)\n",
        "\n",
        "* [How to Write a Spelling Corrector](https://norvig.com/spell-correct.html)"
      ]
    },
    {
      "cell_type": "markdown",
      "metadata": {
        "id": "WPdxrGzeQI6X"
      },
      "source": [
        "## Recursos"
      ]
    },
    {
      "cell_type": "markdown",
      "metadata": {
        "id": "_rZcwgBTQOMT"
      },
      "source": [
        "* [A Code-First Introduction to NLP](https://github.com/fastai/course-nlp)\n",
        "\n",
        "* [Neural Networks for NLP](http://phontron.com/class/nn4nlp2020/schedule/class-introduction.html)\n",
        "  * [Videos](https://www.youtube.com/playlist?list=PL8PYTP1V4I8CJ7nMxMC8aXv8WqKYwj-aJ)\n",
        "\n",
        "* [CMU Low-resource NLP Bootcamp](https://www.youtube.com/playlist?list=PL8PYTP1V4I8A1CpCzURXAUa6H4HO7PF2c)\n",
        "\n",
        "* [CS224N: Natural Language Processing with Deep Learning](https://www.youtube.com/playlist?list=PLoROMvodv4rOhcuXMZkNm7j3fVwBBY42z)\n",
        "\n",
        "* [Advanced Natural Language Processing](https://ocw.mit.edu/courses/electrical-engineering-and-computer-science/6-864-advanced-natural-language-processing-fall-2005/)\n",
        "\n"
      ]
    },
    {
      "cell_type": "markdown",
      "metadata": {
        "id": "Qy1SVImdl1yJ"
      },
      "source": [
        "## Notes"
      ]
    },
    {
      "cell_type": "markdown",
      "metadata": {
        "id": "7qGESxKIdtk1"
      },
      "source": [
        "- [Merge](https://en.wikipedia.org/wiki/Minimalist_program#Mergehttps://en.wikipedia.org/wiki/Minimalist_program#Merge)\n",
        "\n",
        "- [Bag-of-words model](https://en.wikipedia.org/wiki/Bag-of-words_model)\n",
        "\n",
        "- [Multiset](https://en.wikipedia.org/wiki/Multiset)\n",
        "\n",
        "- [Vector space model](https://en.wikipedia.org/wiki/Vector_space_model)"
      ]
    }
  ]
}