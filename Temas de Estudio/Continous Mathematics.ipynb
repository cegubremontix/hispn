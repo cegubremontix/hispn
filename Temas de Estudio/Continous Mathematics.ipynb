{
  "nbformat": 4,
  "nbformat_minor": 0,
  "metadata": {
    "colab": {
      "name": "Continous Mathematics.ipynb",
      "provenance": [],
      "collapsed_sections": [],
      "authorship_tag": "ABX9TyMLsPLf4qHEVAOf5nSgr+5E",
      "include_colab_link": true
    },
    "kernelspec": {
      "name": "python3",
      "display_name": "Python 3"
    },
    "language_info": {
      "name": "python"
    }
  },
  "cells": [
    {
      "cell_type": "markdown",
      "metadata": {
        "id": "view-in-github",
        "colab_type": "text"
      },
      "source": [
        "<a href=\"https://colab.research.google.com/github/dbremont/Notas/blob/main/Temas%20de%20Estudio/Continous%20Mathematics.ipynb\" target=\"_parent\"><img src=\"https://colab.research.google.com/assets/colab-badge.svg\" alt=\"Open In Colab\"/></a>"
      ]
    },
    {
      "cell_type": "markdown",
      "metadata": {
        "id": "gr_FEPu8vSCI"
      },
      "source": [
        "# Cursos"
      ]
    },
    {
      "cell_type": "markdown",
      "metadata": {
        "id": "sirTK5xQvws6"
      },
      "source": [
        "* [Pre-Calculus](https://brilliant.org/courses/pre-calculus/)\n",
        "\n",
        "* [Trigonometry](https://brilliant.org/courses/trigonometry/)\n",
        "\n",
        "* [Calculus in a Nutshell](https://brilliant.org/courses/calculus-nutshell/)\n",
        "\n",
        "* [Calculus Fundamentals](https://brilliant.org/courses/calculus-done-right/)\n",
        "\n",
        "* [Integral Calculus](https://brilliant.org/courses/calculus-ii/)\n",
        "\n",
        "* [Multivariable Calculus](https://brilliant.org/courses/multivariable-calculus/)\n",
        "\n",
        "* [Vector Calculus](https://brilliant.org/courses/vector-calculus/)\n",
        "\n",
        "- [Differential Equations I](https://brilliant.org/courses/differential-equations/)\n",
        "\n",
        "- [Differential Equations II](https://brilliant.org/courses/differential-equations-ii/)\n",
        "\n",
        "---\n",
        "\n",
        "* [18-01SC Single Variable Calculus](https://ocw.mit.edu/courses/mathematics/18-01sc-single-variable-calculus-fall-2010)\n",
        "\n",
        "* [18-02 Multivariable Calculus](https://ocw.mit.edu/courses/mathematics/18-02sc-multivariable-calculus-fall-2010)\n",
        "\n",
        "* [18-03 Differential Equations](https://ocw.mit.edu/courses/mathematics/18-03-differential-equations-spring-2010/)\n",
        "\n",
        "---\n",
        "\n",
        "* [AOPS Calculus](https://artofproblemsolving.com/ebooks/calculus-ebook/c0toc)"
      ]
    },
    {
      "cell_type": "markdown",
      "metadata": {
        "id": "TarYJA0MkcDF"
      },
      "source": [
        "# Basics"
      ]
    },
    {
      "cell_type": "markdown",
      "metadata": {
        "id": "p1BycFyAkeOj"
      },
      "source": [
        "# Calculus"
      ]
    },
    {
      "cell_type": "markdown",
      "metadata": {
        "id": "4PdgKSa_ou0R"
      },
      "source": [
        "The basic concepts are:\n",
        "1. Derivatives as rates of change, computed as a limit of ratios\n",
        "2. Integrals as a \"sum,\" computed as a limit of Riemann sums"
      ]
    },
    {
      "cell_type": "markdown",
      "metadata": {
        "id": "6KEKtSgEkgic"
      },
      "source": [
        "# Differential Equations"
      ]
    }
  ]
}