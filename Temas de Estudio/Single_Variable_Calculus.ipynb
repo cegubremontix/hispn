{
  "nbformat": 4,
  "nbformat_minor": 0,
  "metadata": {
    "colab": {
      "name": "Single Variable Calculus.ipynb",
      "provenance": [],
      "authorship_tag": "ABX9TyMTc91a+iqU1Qg5+f5z+fBu",
      "include_colab_link": true
    },
    "kernelspec": {
      "name": "python3",
      "display_name": "Python 3"
    },
    "language_info": {
      "name": "python"
    }
  },
  "cells": [
    {
      "cell_type": "markdown",
      "metadata": {
        "id": "view-in-github",
        "colab_type": "text"
      },
      "source": [
        "<a href=\"https://colab.research.google.com/github/dbremont/Notas/blob/main/Temas%20de%20Estudio/Single_Variable_Calculus.ipynb\" target=\"_parent\"><img src=\"https://colab.research.google.com/assets/colab-badge.svg\" alt=\"Open In Colab\"/></a>"
      ]
    },
    {
      "cell_type": "markdown",
      "metadata": {
        "id": "gkELxlHjTEVe"
      },
      "source": [
        "## Primarios"
      ]
    },
    {
      "cell_type": "markdown",
      "metadata": {
        "id": "Oa3SSBMQTFrT"
      },
      "source": [
        "* [Calculus in a Nutshell](https://brilliant.org/courses/calculus-nutshell/)\n",
        "\n",
        "* [Calculus Fundamentals](https://brilliant.org/courses/calculus-done-right/)\n",
        "\n",
        "* [Integral Calculus](https://brilliant.org/courses/calculus-ii/)"
      ]
    },
    {
      "cell_type": "markdown",
      "metadata": {
        "id": "ssKWSxrdTGGL"
      },
      "source": [
        "## Adicionales"
      ]
    },
    {
      "cell_type": "markdown",
      "metadata": {
        "id": "s7k9ZofSTIbK"
      },
      "source": [
        "* [18-01SC Single Variable Calculus](https://ocw.mit.edu/courses/mathematics/18-01sc-single-variable-calculus-fall-2010)"
      ]
    }
  ]
}