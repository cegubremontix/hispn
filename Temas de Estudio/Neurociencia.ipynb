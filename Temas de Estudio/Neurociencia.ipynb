{
  "nbformat": 4,
  "nbformat_minor": 0,
  "metadata": {
    "colab": {
      "name": "Neurociencia.ipynb",
      "provenance": [],
      "authorship_tag": "ABX9TyNDyfpB7NwrOcWUqkEBWeYd",
      "include_colab_link": true
    },
    "kernelspec": {
      "name": "python3",
      "display_name": "Python 3"
    },
    "language_info": {
      "name": "python"
    }
  },
  "cells": [
    {
      "cell_type": "markdown",
      "metadata": {
        "id": "view-in-github",
        "colab_type": "text"
      },
      "source": [
        "<a href=\"https://colab.research.google.com/github/dbremont/Notas/blob/main/Temas%20de%20Estudio/Neurociencia.ipynb\" target=\"_parent\"><img src=\"https://colab.research.google.com/assets/colab-badge.svg\" alt=\"Open In Colab\"/></a>"
      ]
    },
    {
      "cell_type": "markdown",
      "metadata": {
        "id": "5sNDDWp53Qug"
      },
      "source": [
        "\n",
        "* [Introduction to Neural Computation](https://ocw.mit.edu/courses/brain-and-cognitive-sciences/9-40-introduction-to-neural-computation-spring-2018/)\n",
        "\n",
        "* [Advanced Neurobiology I](https://www.coursera.org/learn/advanced-neurobiology1)\n",
        "\n",
        "* [Synapses, Neurons and Brains](https://www.coursera.org/learn/synapses/home/welcome)\n",
        "\n",
        "* [Advanced Neurobiology II](https://www.coursera.org/learn/advancedneurobiologyii)\n",
        "\n",
        "* [Computational Neuroscience](https://www.coursera.org/learn/computational-neuroscience)"
      ]
    }
  ]
}