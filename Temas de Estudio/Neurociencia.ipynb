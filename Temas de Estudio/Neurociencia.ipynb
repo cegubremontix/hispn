{
  "nbformat": 4,
  "nbformat_minor": 0,
  "metadata": {
    "colab": {
      "name": "Neurociencia.ipynb",
      "provenance": [],
      "authorship_tag": "ABX9TyPH6i5iTNERBVAiJ4fRlmGe",
      "include_colab_link": true
    },
    "kernelspec": {
      "name": "python3",
      "display_name": "Python 3"
    },
    "language_info": {
      "name": "python"
    }
  },
  "cells": [
    {
      "cell_type": "markdown",
      "metadata": {
        "id": "view-in-github",
        "colab_type": "text"
      },
      "source": [
        "<a href=\"https://colab.research.google.com/github/dbremont/Notas/blob/main/Temas%20de%20Estudio/Neurociencia.ipynb\" target=\"_parent\"><img src=\"https://colab.research.google.com/assets/colab-badge.svg\" alt=\"Open In Colab\"/></a>"
      ]
    },
    {
      "cell_type": "markdown",
      "metadata": {
        "id": "5sNDDWp53Qug"
      },
      "source": [
        "* [Introduction to Neural Computation](https://ocw.mit.edu/courses/brain-and-cognitive-sciences/9-40-introduction-to-neural-computation-spring-2018/)\n",
        "\n",
        "* [Advanced Neurobiology I](https://www.coursera.org/learn/advanced-neurobiology1)\n",
        "\n",
        "* [Synapses, Neurons and Brains](https://www.coursera.org/learn/synapses/home/welcome)\n",
        "\n",
        "* [Advanced Neurobiology II](https://www.coursera.org/learn/advancedneurobiologyii)\n",
        "\n",
        "* [Computational Neuroscience](https://www.coursera.org/learn/computational-neuroscience)\n",
        "\n",
        "* [Fundamentals of Biology](https://ocw.mit.edu/courses/biology/7-01sc-fundamentals-of-biology-fall-2011/)\n",
        "\n",
        "* [PSYC 51.09 Human Memory](https://github.com/ContextLab/human-memory)"
      ]
    },
    {
      "cell_type": "markdown",
      "metadata": {
        "id": "GzCdgKzC3k3C"
      },
      "source": [
        "* [9.11 The Human Brain](https://www.youtube.com/watch?v=i1pdQjdAndc&list=PLyGKBDfnk-iAQx4Kw9JeVqspbg77sfAK0)\n",
        "\n",
        "* [Introduction to Neuroscience: systems and behavior](https://www.youtube.com/watch?v=h6C5iIz9zWs&list=PLbNK684iNG-ltAPR2tpurM3_GVkpVI-oo)\n",
        "\n",
        "* [MIT RES.9-003 Brains, Minds and Machines Summer C](https://www.youtube.com/watch?v=_svW8NV1A6k&list=PLUl4u3cNGP61RTZrT3MIAikp2G5EEvTjf)\n",
        "\n",
        "* [Mathematical Neuroscience](https://www.youtube.com/watch?v=BIih4iv7Wkg&list=PLnev50dI4t3B-yai2diRaZneSXEsY6Tb8)\n",
        "\n",
        "* [BT5270 Principles of Neuroscience](https://www.youtube.com/watch?v=tNpkQhWhP40&list=PLqFGS_otF-c42kOMr7q7KBzviQyIxNR0L)\n",
        "\n",
        "* [Computational Neuroscience - SYDE 552](https://www.youtube.com/watch?v=OroZCO00ts4&list=PLX-XEf1yTMrkcpni8RJMnqGBlA9uEHlaE)\n",
        "\n",
        "* [Introduction to Modern Brain-Computer Interface Design](https://www.youtube.com/watch?v=Wlwvgm3AHvc&list=PLbbCsk7MUIGcO_lZMbyymWU2UezVHNaMq)\n",
        "\n",
        "* [Computational Tutorials](https://www.youtube.com/watch?v=QTvNTEh04to&list=PLyGKBDfnk-iAU7N6dYVy7HhK2aLjLSPKM)"
      ]
    }
  ]
}