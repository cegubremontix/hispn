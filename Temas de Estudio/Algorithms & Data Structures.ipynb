{
  "nbformat": 4,
  "nbformat_minor": 0,
  "metadata": {
    "colab": {
      "name": "Algorithms & Data Structures.ipynb",
      "provenance": [],
      "collapsed_sections": [],
      "authorship_tag": "ABX9TyP1XXbhTeV3N9hJpsODtMzv",
      "include_colab_link": true
    },
    "kernelspec": {
      "name": "python3",
      "display_name": "Python 3"
    }
  },
  "cells": [
    {
      "cell_type": "markdown",
      "metadata": {
        "id": "view-in-github",
        "colab_type": "text"
      },
      "source": [
        "<a href=\"https://colab.research.google.com/github/dbremont/Notas/blob/main/Temas%20de%20Estudio/Algorithms%20%26%20Data%20Structures.ipynb\" target=\"_parent\"><img src=\"https://colab.research.google.com/assets/colab-badge.svg\" alt=\"Open In Colab\"/></a>"
      ]
    },
    {
      "cell_type": "markdown",
      "metadata": {
        "id": "UXvAZd4364yO"
      },
      "source": [
        "# Algorithms & Data Structures\n",
        "\n",
        "- Algorithms\n",
        "- Data Structures\n",
        "- Examples"
      ]
    },
    {
      "cell_type": "markdown",
      "metadata": {
        "id": "4R5xCJ-MQeVJ"
      },
      "source": [
        "* [Computer Science Fundamentals](https://brilliant.org/courses/computer-science-essentials/)\n",
        "\n",
        "* [Algorithm Fundamentals](https://brilliant.org/courses/computer-science-algorithms/)\n",
        "\n",
        "* [Data Structures](https://brilliant.org/courses/computer-science-fundamentals/)\n",
        "\n",
        "* [6-006 Introduction to Algorithms](https://ocw.mit.edu/courses/electrical-engineering-and-computer-science/6-006-introduction-to-algorithms-fall-2011)\n",
        "\n",
        "* [Data Structure and Algithtms using Java](https://nptel.ac.in/courses/106/105/106105225/)"
      ]
    },
    {
      "cell_type": "markdown",
      "metadata": {
        "id": "682e9KKR9F3C"
      },
      "source": [
        "\n",
        "Prerequisites\n",
        "    - Intro to Computer Science\n",
        "    - Mathematics for Computer Science\n",
        "\n",
        "Course Overview\n",
        "\n",
        "This course provides an introduction to mathematical modeling of computational problems. It covers the common algorithms, algorithmic paradigms, and data structures used to solve these problems. The course emphasizes the relationship between algorithms and programming, and introduces basic performance measures and analysis techniques for these problems.\n",
        "\n",
        "Course Goals\n",
        "\n",
        "At the end of this course, students will be able to:\n",
        "\n",
        "\n",
        "Course Structure\n",
        "\n",
        "    1. Introduction\n",
        "\n",
        "    2. Sorting and Trees\n",
        "    \n",
        "    3. Hashing\n",
        "\n",
        "    4. Numerics\n",
        "\n",
        "    5. Graphs\n",
        "\n",
        "    6. Shortest Paths\n",
        "\n",
        "    7. Dynamic Programming\n",
        "\n",
        "    8. Advanced Topics\n",
        "\n",
        "\n",
        "Materials\n",
        "\n",
        "    - Cormen, Thomas, Charles Leiserson, Ronald Rivest, and Clifford Stein. Introduction to Algorithms. 3rd\n",
        "\n",
        "Other Resources:\n",
        "\n",
        "    * [Data Structure Visualization](https://www.cs.usfca.edu/~galles/visualization/Algorithms.html)"
      ]
    }
  ]
}