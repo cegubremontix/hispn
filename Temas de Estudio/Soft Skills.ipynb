{
  "nbformat": 4,
  "nbformat_minor": 0,
  "metadata": {
    "colab": {
      "name": "Soft Skills.ipynb",
      "provenance": [],
      "collapsed_sections": [],
      "toc_visible": true,
      "authorship_tag": "ABX9TyNEW9rt6xuzHDL6L0YUcTf2",
      "include_colab_link": true
    },
    "kernelspec": {
      "name": "python3",
      "display_name": "Python 3"
    },
    "language_info": {
      "name": "python"
    }
  },
  "cells": [
    {
      "cell_type": "markdown",
      "metadata": {
        "id": "view-in-github",
        "colab_type": "text"
      },
      "source": [
        "<a href=\"https://colab.research.google.com/github/dbremont/Notas/blob/main/Temas%20de%20Estudio/Soft%20Skills.ipynb\" target=\"_parent\"><img src=\"https://colab.research.google.com/assets/colab-badge.svg\" alt=\"Open In Colab\"/></a>"
      ]
    },
    {
      "cell_type": "markdown",
      "metadata": {
        "id": "InUe5F0D0f0M"
      },
      "source": [
        "# Soft Skills"
      ]
    },
    {
      "cell_type": "markdown",
      "metadata": {
        "id": "fwVIj2gV07pa"
      },
      "source": [
        "* [Product Design](https://classroom.udacity.com/courses/ud509)\n",
        "\n",
        "* [How to Build a Startup](https://classroom.udacity.com/courses/ep245)\n",
        "\n",
        "* [Meditation: A way to achieve your goals in your life](https://www.coursera.org/learn/self-reflection-meditation)\n",
        "\n",
        "* [Think like a Stoic: Ancient Wisdom for Today's World](https://www.thegreatcoursesplus.com/think-like-a-stoic-ancient-wisdom-for-today-s-world)\n",
        "\n",
        "* [Outsmart Yourself: Brain-Based Strategies to a Better You](https://www.thegreatcoursesplus.com/outsmart-yourself-brain-based-strategies-to-a-better-you)\n",
        "\n",
        "* [Effective Communication Skills](https://www.thegreatcoursesplus.com/effective-communication-skills)\n",
        "\n",
        "* [Written Communications: Being Heard and Understood](https://www.thegreatcoursesplus.com/written-communications-being-heard-and-understood)\n",
        "\n",
        "* [Building a Better Vocabulary](https://www.thegreatcoursesplus.com/building-a-better-vocabulary)\n",
        "\n",
        "* [The Art of Critical Decision Making](https://www.thegreatcoursesplus.com/the-art-of-critical-decision-making)\n",
        "\n",
        "* [The Philosopher's Toolkit: How to Be the Most Rational Person in Any Room](https://www.thegreatcoursesplus.com/the-philosophers-toolkit-how-to-be-the-most-rational-person-in-any-room)\n",
        "\n",
        "* [Argumentation: The Study of Effective Reasoning](https://www.thegreatcoursesplus.com/argumentation-the-study-of-effective-reasoning)\n",
        "\n",
        "* [Your Deceptive Mind: A Scientific Guide to Critical Thinking Skills](https://www.thegreatcoursesplus.com/your-deceptive-mind-a-scientific-guide-to-critical-thinking-skills)\n",
        "\n",
        "* [Theories of Knowledge: How to Think about What You Know](https://www.thegreatcoursesplus.com/theories-of-knowledge-how-to-think-about-what-you-know?tn=Matters+Of+Your+Mind_15_23)\n",
        "\n",
        "* [Critical Thinking: Fundamentals of Good Reasoning](https://www.edx.org/es/course/critical-thinking-fundamentals-of-good-reasoning-2)"
      ]
    },
    {
      "cell_type": "markdown",
      "metadata": {
        "id": "j2emROHVFEVY"
      },
      "source": [
        "## Learning"
      ]
    },
    {
      "cell_type": "markdown",
      "metadata": {
        "id": "d8GCLEvWFFZ9"
      },
      "source": [
        "* (D) [How to read a research paper](http://0.0.0.0:8000/6%20Otros/Articulos/How%20to%20read%20a%20research%20paper.pdf)\n",
        "\n",
        "* (D) [Efficient Reading of Papers in Science and Technology](http://0.0.0.0:8000/6%20Otros/Articulos/Efficient%20Reading%20of%20Papers%20in%20Science%20and%20Technology.pdf)\n",
        "\n",
        "* [The Feynman Technique: The Best Way to Learn Anything](https://fs.blog/2012/04/feynman-technique/)\n",
        "\n",
        "* [How to remember what you learn](https://vasilishynkarenka.com/learning/)\n",
        "\n",
        "* [Using spaced repetition systems to see through a piece of mathematics](http://cognitivemedium.com/srs-mathematics) \n",
        "\n",
        "* [How to take smart notes](https://www.lesswrong.com/posts/T382CLwAjsy3fmecf/how-to-take-smart-section-ahrens-2017)\n",
        "\n",
        "\n",
        "* [The Polymath Playbook](https://salman.io/posts/polymath-playbook/)\n",
        "\n",
        "* [Why Tacit Knowledge is More Important Than Deliberate Practice](https://commoncog.com/blog/tacit-knowledge-is-a-real-thing/)\n",
        "\n",
        "* [Recognizing vs Generating](https://mlu.red/52622266310.html)\n",
        "\n",
        "\n",
        "* [The Role of Deliberate Practice in the Acquisition of Expert Performance](https://mrbartonmaths.com/resourcesnew/8.%20Research/Explicit%20Instruction/Deliberate%20Practice.PDF)\n",
        "\n",
        "* [How to Memorize Faster With The Spaced Repetition Learning Technique](https://productive.fish/blog/spaced-repetition/)\n",
        "\n",
        "* [The Complete Guide to Effective Reading](https://maartenvandoorn.nl/reading-guide/)\n",
        "\n",
        "* (D)[Introduction into Luhmanns Zettelkasten](http://0.0.0.0:8000/6%20Otros/Articulos/Introduction%20into%20Luhmanns%20Zettelkasten.pdf)"
      ]
    },
    {
      "cell_type": "markdown",
      "metadata": {
        "id": "xueElEJAFRFm"
      },
      "source": [
        "## Productividad"
      ]
    },
    {
      "cell_type": "markdown",
      "metadata": {
        "id": "5ooJx-t6FTKs"
      },
      "source": [
        "* [Get started with 2-minute rule](https://hoanhan.co/2-minute-rule) \n",
        "\n",
        "* [Time Management](https://www.cs.utexas.edu/users/dahlin/bookshelf/timetalk.htm)\n",
        "\n",
        "* [The Art of Automation](https://blog.jessfraz.com/post/the-art-of-automation/)\n",
        "\n",
        "* [How to finish your side project](https://hugozap.com/posts/how-to-finish-your-side-project/)\n",
        "\n",
        "* [Start with pen and paper](https://sethetter.com/posts/start-with-pen-and-paper/)\n",
        "\n",
        "* [How to stop procrastinating by using the Fogg Behavior Model](https://www.deprocrastination.co/blog/how-to-stop-procrastinating-by-using-the-fogg-behavior-model)\n",
        "\n",
        "* [Time Management Strategies](https://www.focalityapp.com/en/resources/time-management-strategies/)\n",
        "\n",
        "* [The Personal Analytics of My Life](https://writings.stephenwolfram.com/2012/03/the-personal-analytics-of-my-life/)\n",
        "\n",
        "* [Work habits - Brian Kihoon Lee](https://www.moderndescartes.com/essays/work_habits/)\n",
        "\n",
        "* [todo.txt.system.productivity.txt](https://colab.research.google.com/drive/1m5mYVwK5k9o73DOVERIgdLVdvDJujMCb)"
      ]
    }
  ]
}