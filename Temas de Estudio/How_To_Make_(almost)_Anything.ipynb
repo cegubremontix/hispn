{
  "nbformat": 4,
  "nbformat_minor": 0,
  "metadata": {
    "colab": {
      "name": "How To Make (almost) Anything.ipynb",
      "provenance": [],
      "include_colab_link": true
    },
    "kernelspec": {
      "name": "python3",
      "display_name": "Python 3"
    },
    "language_info": {
      "name": "python"
    }
  },
  "cells": [
    {
      "cell_type": "markdown",
      "metadata": {
        "id": "view-in-github",
        "colab_type": "text"
      },
      "source": [
        "<a href=\"https://colab.research.google.com/github/dbremont/Notas/blob/main/Temas%20de%20Estudio/How_To_Make_(almost)_Anything.ipynb\" target=\"_parent\"><img src=\"https://colab.research.google.com/assets/colab-badge.svg\" alt=\"Open In Colab\"/></a>"
      ]
    },
    {
      "cell_type": "markdown",
      "metadata": {
        "id": "RwD8BV5EMu0W"
      },
      "source": [
        "How To Make (almost) Anything"
      ]
    },
    {
      "cell_type": "markdown",
      "metadata": {
        "id": "1244IurCM5oX"
      },
      "source": [
        "* [How To Make (almost) Anything](https://fab.cba.mit.edu/classes/863.20/)\n",
        "\n",
        "* [How to Make Something that Makes (almost) Anything](https://fab.cba.mit.edu/classes/865.21/index.html)\n",
        "\n",
        "\n",
        "* [Fundamentals of Manufacturing Processes](https://www.edx.org/es/course/fundamentals-of-manufacturing-processes)\n",
        "\n",
        "* [Do-It-Yourself Engineering](https://www.thegreatcourses.com/player/Video/1144)"
      ]
    },
    {
      "cell_type": "markdown",
      "metadata": {
        "id": "EjX-cud0sJAd"
      },
      "source": [
        "* [Breadboard](https://en.wikipedia.org/wiki/Breadboard)\n",
        "\n",
        "* [Active noise control](https://en.wikipedia.org/wiki/Active_noise_control)\n",
        "\n",
        "* [Control system](https://en.wikipedia.org/wiki/Control_system)\n",
        "\n",
        "* [My self-study plan for electrical engineering](https://i-kh.net/2021/03/20/electrical-engineering-study-plan/)\n",
        "\n",
        "* [Internal Combustion Engine](https://ciechanow.ski/internal-combustion-engine/)\n",
        "\n",
        "* [Reverse-engineering a vintage comparator chip](http://www.righto.com/2021/04/reverse-engineering-vintage-comparator.html)\n",
        "\n",
        "* [Digital Audio 101: Playing Audio From A Microcontroller](https://blog.tarkalabs.com/digital-audio-101-playing-audio-from-a-microcontroller-5df1463616c)\n",
        "\n",
        "* [Personal Fabrication -  MIT](https://hcie.csail.mit.edu/fabpub/)\n",
        "\n",
        "* [Personal Fabrication](https://www.edge.org/conversation/neil_gershenfeld-personal-fabrication)\n",
        "\n",
        "* [Continuous Integration - Architecture](https://www.aosabook.org/en/integration.html)\n",
        "\n",
        "* [Control system](https://en.wikipedia.org/wiki/Control_system)\n",
        "\n",
        "* [Signal processing is key to embedded Machine Learning](https://www.edgeimpulse.com/blog/dsp-key-embedded-ml)\n",
        "\n",
        "* [Signal Processing](https://en.wikipedia.org/wiki/Signal_processing)\n",
        "\n",
        "* [How is Signal Processing is related to Machine Learning? : learnmachinelearning](https://www.reddit.com/r/learnmachinelearning/comments/7p7a0o/how_is_signal_processing_is_related_to_machine/)\n",
        "\n",
        "* [Sonar](https://en.wikipedia.org/wiki/Sonar)\n",
        "\n",
        "* [Noise reduction](https://en.wikipedia.org/wiki/Noise_reduction)\n",
        "\n",
        "\n",
        "* [Why Electricity So Hard to Understand? A collection of  various ideas](http://amasci.com/miscon/whyhard2.html)\n",
        "\n",
        "* [Kalman filter](https://en.wikipedia.org/wiki/Kalman_filter)\n",
        "\n",
        "* [Kalman Filter (wikipedia.org) (HN)](https://news.ycombinator.com/item?id=26363347)\n",
        "\n",
        "\n",
        "* [Kullback–Leibler divergence](https://en.wikipedia.org/wiki/Kullback%E2%80%93Leibler_divergence)\n",
        "\n",
        "* [Fisher information](https://en.wikipedia.org/wiki/Fisher_information)\n"
      ]
    }
  ]
}