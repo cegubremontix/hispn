{
  "nbformat": 4,
  "nbformat_minor": 0,
  "metadata": {
    "colab": {
      "name": "Linear Algebra.ipynb",
      "provenance": [],
      "collapsed_sections": [],
      "authorship_tag": "ABX9TyMJxANhm0JEdPXzuvm9WHDo",
      "include_colab_link": true
    },
    "kernelspec": {
      "name": "python3",
      "display_name": "Python 3"
    }
  },
  "cells": [
    {
      "cell_type": "markdown",
      "metadata": {
        "id": "view-in-github",
        "colab_type": "text"
      },
      "source": [
        "<a href=\"https://colab.research.google.com/github/dbremont/Notas/blob/main/Temas%20de%20Estudio/Linear%20Algebra.ipynb\" target=\"_parent\"><img src=\"https://colab.research.google.com/assets/colab-badge.svg\" alt=\"Open In Colab\"/></a>"
      ]
    },
    {
      "cell_type": "markdown",
      "metadata": {
        "id": "L6KihY0U0pWb"
      },
      "source": [
        "\n",
        "## Linear Algebra\n",
        "\n",
        "- Concepts\n",
        "- Problems\n",
        "- Programming"
      ]
    },
    {
      "cell_type": "markdown",
      "metadata": {
        "id": "GpKJ5u3WVKwK"
      },
      "source": [
        "* [Introduction to Linear Algebra](https://brilliant.org/courses/linear-algebra/)\n",
        "\n",
        "* [Linear Algebra with Applications](https://brilliant.org/courses/lin-alg/)\n",
        "\n",
        "* [Mastering Linear Algebra: An Introduction with Applications](https://www.thegreatcoursesplus.com/mastering-linear-algebra-an-introduction-to-applications)\n",
        "\n",
        "* [ENGR108: Introduction to Matrix Methods](http://vmls-book.stanford.edu/)\n",
        "\n",
        "* [18-06SC Linear Algebra](https://ocw.mit.edu/courses/mathematics/18-06sc-linear-algebra-fall-2011)\n",
        "  * [Linear Algebra (18.06) Notebooks](https://github.com/juanklopper/MIT_OCW_Linear_Algebra_18_06)\n",
        "\n",
        "* [Computational Linear Algebra](https://github.com/fastai/numerical-linear-algebra)\n",
        "\n",
        "\n"
      ]
    },
    {
      "cell_type": "markdown",
      "metadata": {
        "id": "24rKXS9z88r4"
      },
      "source": [
        "Prerequisites\n",
        "    - None\n",
        "\n",
        "Course Overview\n",
        "\n",
        "This course covers matrix theory and linear algebra, emphasizing topics useful in other disciplines. Linear algebra is a branch of mathematics that studies systems of linear equations and the properties of matrices. The concepts of linear algebra are extremely useful in physics, economics and social sciences, natural sciences, and engineering. Due to its broad range of applications, linear algebra is one of the most widely taught subjects in college-level mathematics (and increasingly in high school).\n",
        "\n",
        "Course Goals\n",
        "\n",
        "After successfully completing the course, you will have a good understanding of the following topics and their applications:\n",
        "\n",
        "    1. Systems of linear equations\n",
        "    2. Row reduction and echelon forms\n",
        "    3. Matrix operations, including inverses\n",
        "    4. Block matrices\n",
        "    5. Linear dependence and independence\n",
        "    6. Subspaces and bases and dimensions\n",
        "    7. Orthogonal bases and orthogonal projections\n",
        "    8. Gram-Schmidt process\n",
        "    9. Linear models and least-squares problems\n",
        "    10. Determinants and their properties\n",
        "    11. Cramer's Rule\n",
        "    12. Eigenvalues and eigenvectors\n",
        "    13. Diagonalization of a matrix\n",
        "    14. Symmetric matrices\n",
        "    15. Positive definite matrices\n",
        "    16. Similar matrices\n",
        "    17. Linear transformations\n",
        "    18. Singular Value Decomposition\n",
        "\n",
        "\n",
        "Course Structure\n",
        "\n",
        "    1. AX = B And Four Subspaces\n",
        "    2. Least Squares, Determinants and Eigenvalues\n",
        "    3. Positive Define Matrices and Applications\n",
        "\n",
        "Materials\n"
      ]
    }
  ]
}