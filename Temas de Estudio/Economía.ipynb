{
  "nbformat": 4,
  "nbformat_minor": 0,
  "metadata": {
    "colab": {
      "name": "Economía.ipynb",
      "provenance": [],
      "collapsed_sections": [],
      "toc_visible": true,
      "authorship_tag": "ABX9TyMhOmpS4p/+6HriWm3X2rhp",
      "include_colab_link": true
    },
    "kernelspec": {
      "name": "python3",
      "display_name": "Python 3"
    },
    "language_info": {
      "name": "python"
    }
  },
  "cells": [
    {
      "cell_type": "markdown",
      "metadata": {
        "id": "view-in-github",
        "colab_type": "text"
      },
      "source": [
        "<a href=\"https://colab.research.google.com/github/dbremont/Notas/blob/main/Temas%20de%20Estudio/Econom%C3%ADa.ipynb\" target=\"_parent\"><img src=\"https://colab.research.google.com/assets/colab-badge.svg\" alt=\"Open In Colab\"/></a>"
      ]
    },
    {
      "cell_type": "markdown",
      "metadata": {
        "id": "76P2OqAUfowY"
      },
      "source": [
        "## Productos"
      ]
    },
    {
      "cell_type": "markdown",
      "metadata": {
        "id": "LLQ0PN1Ofqlq"
      },
      "source": [
        "- Listado de productos y su complejidad\n",
        "- Negocios\n",
        "- Nuevas Industrias\n",
        "\n",
        "- [The World Economy in the Twentieth Century](https://colab.research.google.com/github/dbremont/Notas/blob/main/Ingenerare/The_World_Economy_in_the_Twentieth_Century.ipynb)\n"
      ]
    },
    {
      "cell_type": "markdown",
      "metadata": {
        "id": "a8TbOgep65dk"
      },
      "source": [
        "## Articules"
      ]
    },
    {
      "cell_type": "markdown",
      "metadata": {
        "id": "c0X6p-Vb69MU"
      },
      "source": [
        "- [Ricardo Hausmann](https://colab.research.google.com/github/dbremont/Notas/blob/main/Ingenerare/Ricardo_Hausmann.ipynb)\n",
        "\n",
        "- [Productive Ecosystems and the arrow of development](https://colab.research.google.com/github/dbremont/Notas/blob/main/Ingenerare/Productive_Ecosystems_and_the_arrow_of_development.ipynb)\n",
        "\n",
        "-  [In Praise of Industrial Policy](https://www.americanpurpose.com/blog/fukuyama/in-praise-of-industrial-policy/)\n",
        "\n",
        "- [Exogeny](https://en.wikipedia.org/wiki/Exogeny)\n",
        "\n",
        "- [A Note on Reading Big, Difficult Books...](https://www.bradford-delong.com/2019/12/a-note-on-reading-big-difficult-books.html)\n",
        "\n",
        "- [Macroeconomics Toolkit](https://saylordotorg.github.io/text_macroeconomics-theory-through-applications/s20-macroeconomics-toolkit.html)\n",
        "\n",
        "- [Ricardo Hausmann - Professor at Harvard’s Kennedy School, Director of the Growth Lab](https://www.ageofeconomics.org/interviews/ricardo-hausmann/#6-does-economics-explain-capitalism-how-would-you-define-capitalism)\n",
        "\n",
        "- [Preguntas de Economia](https://colab.research.google.com/drive/1fZE2gknUE2k2kbSj2jr5l1pYW12UPBpn#scrollTo=eRmPB8w7STx-)\n",
        "\n",
        "* [Ley de los Retornos decrecientes](https://es.wikipedia.org/wiki/Ley_de_los_rendimientos_decrecientes)\n",
        "\n",
        "* [Ceteris paribus](https://es.wikipedia.org/wiki/Ceteris_paribus)\n",
        "\n",
        "* [Currency](https://en.wikipedia.org/wiki/Currency)\n",
        "\n",
        "* [Money](https://en.wikipedia.org/wiki/Money)\n",
        "\n",
        "* [¿Qué hacer para crecer más y mejor?](https://www.elfinancierocr.com/opinion/que-hacer-para-crecer-mas-y-mejor/LBEM532SFVGKDJXBA6ZM4MZ3K4/story/)\n",
        "\n",
        "* [Arrow's impossibility theorem](https://en.wikipedia.org/wiki/Arrow%27s_impossibility_theorem)\n",
        "\n",
        "* [What are the returns to R&D?](https://mattsclancy.substack.com/p/what-are-the-returns-to-r-and-d?token=eyJ1c2VyX2lkIjoyNTAyNTg4NSwicG9zdF9pZCI6MzYzMTQ4OTMsIl8iOiJxVkdOUiIsImlhdCI6MTYyMDkzODc1NSwiZXhwIjoxNjIwOTQyMzU1LCJpc3MiOiJwdWItMjI1NzQiLCJzdWIiOiJwb3N0LXJlYWN0aW9uIn0.lZqvEYTj_BTrFrKoYPq8QPjI7td7CsGf6xmparVS1cU)\n",
        "\n",
        "* [American School (economics)](https://en.wikipedia.org/wiki/American_School_(economics))\n",
        "\n",
        "* [Market (economics)](https://en.wikipedia.org/wiki/Market_(economics))\n",
        "\n",
        "* [Your Book Review: The Accidental Superpower](https://astralcodexten.substack.com/p/your-book-review-the-accidental-superpower?token=eyJ1c2VyX2lkIjoyNTAyNTg4NSwicG9zdF9pZCI6MzY3MDEyNzgsIl8iOiJDUEN4ciIsImlhdCI6MTYyMTc4MjQwNSwiZXhwIjoxNjIxNzg2MDA1LCJpc3MiOiJwdWItODkxMjAiLCJzdWIiOiJwb3N0LXJlYWN0aW9uIn0.qGpZo7UftF8n-hv17xwR4sLpsVLbFP1MK-xCmliOero)\n",
        "\n",
        "* [Bitcoin Transaction Network](https://graphs4sci.substack.com/p/bitcoin-transaction-network)\n",
        "\n",
        "* [An example of high returns to publicly funded R&D](https://mattsclancy.substack.com/p/an-example-of-high-returns-to-publicly?token=eyJ1c2VyX2lkIjoyNTAyNTg4NSwicG9zdF9pZCI6MzY2NjkyNDcsIl8iOiJDUEN4ciIsImlhdCI6MTYyMTc4MjQzNiwiZXhwIjoxNjIxNzg2MDM2LCJpc3MiOiJwdWItMjI1NzQiLCJzdWIiOiJwb3N0LXJlYWN0aW9uIn0.GbZDiMWWyjFL1XynJOx6NcELJSKbHoqzaZueuKSdec8)\n",
        "\n",
        "* [Market (economics)](https://en.wikipedia.org/wiki/Market_(economics))\n",
        "\n",
        "- [Glossary of economics](https://en.wikipedia.org/wiki/Glossary_of_economics)\n",
        "\n",
        "* [Currency](https://en.wikipedia.org/wiki/Currency)\n",
        "\n",
        "* [Money](https://en.wikipedia.org/wiki/Money)\n",
        "\n",
        "* [Capitalism](https://en.wikipedia.org/wiki/Capitalism)\n",
        "\n",
        "* [Economies of scale](https://en.wikipedia.org/wiki/Economies_of_scale)\n",
        "\n",
        "* [Diminishing returns](https://en.wikipedia.org/wiki/Diminishing_returns)\n",
        "\n",
        "* [Dixit–Stiglitz model](https://en.wikipedia.org/wiki/Dixit%E2%80%93Stiglitz_model)\n",
        "\n",
        "* [History of economic thought](https://en.wikipedia.org/wiki/History_of_economic_thought)\n",
        "\n",
        "* [History of money](https://en.wikipedia.org/wiki/History_of_money)\n",
        "\n",
        "* [How and why should we study ‘economic complexity’?](https://ourworldindata.org/how-and-why-econ-complexity)\n",
        "\n",
        "* [Oeconomicus](https://en.wikipedia.org/wiki/Oeconomicus)\n",
        "\n",
        "\n",
        "* [Ancient economic thought - Wikipedia](https://en.wikipedia.org/wiki/Ancient_economic_thought)\n",
        "\n",
        "* [Mitos y verdades de la complejidad económica](https://www.ciperchile.cl/2020/09/01/mitos-y-verdades-de-la-complejidad-economica/)\n",
        "\n",
        "* [How the Taxonomy of Products Drives the Economic Development of Countries](https://journals.plos.org/plosone/article?id=10.1371/journal.pone.0113770)\n",
        "\n",
        "* [Retiring Economic Growth. Think about our economy in terms of… | by Cesar A. Hidalgo](https://medium.com/@cesifoti/retiring-economic-growth-9057965cb2d5)\n",
        "\n",
        "* [The 50 Most Important Economic Theories](https://dmarron.com/2009/08/17/the-50-most-important-economic-theories/)\n",
        "\n",
        "* [Under the Hood — The Computational Engine of Economic Development | by Cesar A. Hidalgo | Medium](https://medium.com/@cesifoti/under-the-hood-the-computational-engine-of-economic-development-49bce1a7b151#.l0we5aiy1)\n",
        "\n",
        "* [Report on Manufactures](https://en.wikipedia.org/wiki/Report_on_Manufactures)\n",
        "\n",
        "* [Neoclassical economics](https://en.wikipedia.org/wiki/Neoclassical_economics)\n",
        "\n",
        "* [Werner Sombart](https://en.wikipedia.org/wiki/Werner_Sombart)\n",
        "\n",
        "* [Historical school of economics](https://en.wikipedia.org/wiki/Historical_school_of_economics)\n",
        "\n",
        "* [Max Weber](https://en.wikipedia.org/wiki/Max_Weber)\n",
        "\n",
        "- [Factor price equalizationFactor price equalization](https://en.wikipedia.org/wiki/Factor_price_equalization)\n",
        "\n",
        "- [Factors of production](https://en.wikipedia.org/wiki/Factors_of_production)\n",
        "\n",
        "- [Market failure](https://en.wikipedia.org/wiki/Market_failure)\n",
        "\n",
        "- [Keun Lee](http://www.keunlee.com/)\n",
        "\n",
        "- [Jean-Baptiste Colbert](https://en.wikipedia.org/wiki/Jean-Baptiste_Colbert)"
      ]
    },
    {
      "cell_type": "markdown",
      "metadata": {
        "id": "jC8k-0f-KEE3"
      },
      "source": [
        "## Recursos"
      ]
    },
    {
      "cell_type": "markdown",
      "metadata": {
        "id": "6f-ULMgq_KmO"
      },
      "source": [
        "* [Historia del Pensamiento Económico](https://sites.google.com/view/danyjaimovich/teaching/hpe)\n",
        "\n",
        "* [Principles of Microeconomics](https://ocw.mit.edu/courses/economics/14-01-principles-of-microeconomics-fall-2018/)\n",
        "\n",
        "* [Intermediate Macroeconomics](https://ocw.mit.edu/courses/economics/14-05-intermediate-macroeconomics-spring-2013/)\n",
        "\n",
        "* [Network Optimization](https://ocw.mit.edu/courses/sloan-school-of-management/15-082j-network-optimization-fall-2010/)\n",
        "\n",
        "- [Brad de Long Today](https://www.delongtoday.com/today)\n",
        "\n",
        "- [QuantEcon Lectures](https://quantecon.org/lectures/)"
      ]
    },
    {
      "cell_type": "markdown",
      "metadata": {
        "id": "_rTa_fwCc-rP"
      },
      "source": [
        "### Libros"
      ]
    },
    {
      "cell_type": "markdown",
      "metadata": {
        "id": "p-vcryzkdALA"
      },
      "source": [
        "* [Naked money - A Revealing Look at Our Financial System](https://colab.research.google.com/github/dbremont/Notas/blob/main/Libros/Otros/Naked%20money%20-%20A%20Revealing%20Look%20at%20Our%20Financial%20System.ipynb)\n",
        "\n",
        "* [Why Stock Markets Crash](https://colab.research.google.com/github/dbremont/Notas/blob/main/Libros/Otros/Why%20Stock%20Markets%20Crash.ipynb)\n",
        "\n",
        "* [Bad Samaritans: The guilty secrets of rich nations & the threat to global prosperity](https://colab.research.google.com/github/dbremont/Notas/blob/main/Libros/Otros/Bad%20Samaritans:%20The%20guilty%20secrets%20of%20rich%20nations%20%26%20the%20threat%20to%20global%20prosperity.ipynb)\n",
        "\n",
        "* [How Rich Countries Got Rich ... and Why Poor Countries Stay Poor](https://colab.research.google.com/github/dbremont/Notas/blob/main/Libros/Otros/How%20Rich%20Countries%20Got%20Rich%20...%20and%20Why%20Poor%20Countries%20Stay%20Poor.ipynb)\n",
        "\n",
        "* [Why Information Grows](https://colab.research.google.com/github/dbremont/Notas/blob/main/Libros/Otros/Why%20Information%20Grows.ipynb)\n",
        "\n",
        "\n",
        "* [Debt: The First 5000 Years](https://colab.research.google.com/github/dbremont/Notas/blob/main/Libros/Otros/Debt_The_First_5000_Years.ipynb)\n",
        "\n",
        "* [The Making of an Economic Superpower: Unlocking China's Secret of Rapid Industrialization](https://colab.research.google.com/github/dbremont/Notas/blob/main/Libros/Otros/The_Making_of_an_Economic_Superpower_Unlocking_China's_Secret_of_Rapid_Industrialization.ipynb)\n",
        "\n",
        "* [The Art of Economic Catch-Up: Barriers, Detours and Leapfrogging in Innovation Systems](https://colab.research.google.com/github/dbremont/Notas/blob/main/Libros/Otros/The_Art_of_Economic_Catch_Up_Barriers%2C_Detours_and_Leapfrogging_in_Innovation_Systems.ipynb)\n",
        "\n",
        "* [Guide for the Young Economist](https://colab.research.google.com/github/dbremont/Notas/blob/main/Libros/Otros/Guide_for_the_Young_Economist.ipynb)\n",
        "\n",
        "* [The Practice of Econometrics Classic and Contemporary](https://colab.research.google.com/github/dbremont/Notas/blob/main/Libros/Matematicas/The%20Practice%20of%20Econometrics%20Classic%20and%20Contemporary.ipynb)\n",
        "\n",
        "* [A Course in Econometrics](https://colab.research.google.com/github/dbremont/Notas/blob/main/Libros/Matematicas/A%20Course%20in%20Econometrics.ipynb)\n",
        "\n",
        "* [Economics A Very Short Introduction](https://colab.research.google.com/github/dbremont/Notas/blob/main/Libros/Otros/Economics_A_Very_Short_Introduction.ipynb)"
      ]
    },
    {
      "cell_type": "markdown",
      "metadata": {
        "id": "VGr_FRFALYoJ"
      },
      "source": [
        "## An Introduction to Evolutionary Theory of Economic Change"
      ]
    },
    {
      "cell_type": "markdown",
      "metadata": {
        "id": "6WNh__t8I_6c"
      },
      "source": [
        "- Evolutionary modelling of economic change\n",
        "- Long run economic development\n",
        "- Technological change  force\n",
        "- Policy to shape the technological change force\n",
        "- RAND Corporation\n",
        "- Joseph Schumpeter \n",
        "- Herbert Simon"
      ]
    },
    {
      "cell_type": "markdown",
      "metadata": {
        "id": "1V914X2g4tpt"
      },
      "source": [
        "### Overview and Motivation"
      ]
    },
    {
      "cell_type": "markdown",
      "metadata": {
        "id": "f4tbJzFCyOHv"
      },
      "source": [
        "- In this volume we develop an **evolutionary theory** of the capabilities and behavior of business firms operating in a **market environment**.\n",
        "\n",
        "- Construct and analyze models consistent with the theory.\n",
        "\n",
        "- This can be used to analyze phenomena as shift in product demand, factor suply conditions, from innovations in a firm.\n",
        "\n",
        "- **We build models** for differents aspects of *economic change*, \n",
        "  - **response of the firm** to market change, \n",
        "  - **response of the industry** to market change,  \n",
        "  - **economic growth**, \n",
        "  - **innovation**.\n",
        "\n",
        "- **First premise**: economic change is important and intereting.\n",
        "\n",
        "- Theory of firm \n",
        "- Theory of industry behavior\n",
        "\n",
        "- The firms in our evolutionary theory will be treated as motivated by profit and engaged in search  for ways to improve their profits, but their actions will not be assumed to be profit maximizing over well-defined and exogenously given choice sets.\n",
        "\n",
        "  - Our  theory emphasizes the tendency for the most profitable firms to drive the less profitable ones out of business; however, we do not focus our analysis on hypothetical states of \"industry equilibrium,\" in which all the unprofitable firms no longer are in the industry and the profitable ones are at their desired size.\n",
        "\n",
        "- Our firms are modeled as simply having, at any given time, certain cpabilities and decision rules. Over time these capabilities and rules are modifed as a result of both deliberate problem-solving efforts and random events. And overtime, the economic analogue of **natural selection** operates as the market determines which firms are profitabvle and which are unprofitable, and tends to winnow out the latter.\n",
        "\n",
        "-  General Equilibrium Theory\n"
      ]
    },
    {
      "cell_type": "markdown",
      "metadata": {
        "id": "sJcdxM3p4a7K"
      },
      "source": [
        "### \"Orthodox\" and \"Evolutionary\"\n",
        "\n",
        "- Pag 6 Lib\n",
        "- Pag 20 chrome pdf reader"
      ]
    },
    {
      "cell_type": "markdown",
      "metadata": {
        "id": "vCrGW-hAVtud"
      },
      "source": [
        "## Politica"
      ]
    },
    {
      "cell_type": "markdown",
      "metadata": {
        "id": "gg1jGGJqVrE6"
      },
      "source": [
        "\n",
        "\n",
        "- [Political Methodology](https://politicalscience.stanford.edu/research/political-methodology)\n",
        "\n",
        "- [Political system](https://en.wikipedia.org/wiki/Political_system)\n",
        "\n",
        "- [Prebendalism](https://en.wikipedia.org/wiki/Prebendalism)\n",
        "\n",
        "- [Clientelism](https://en.wikipedia.org/wiki/Clientelism)\n",
        "\n",
        "- [Society](https://en.wikipedia.org/wiki/Society)\n",
        "\n",
        "- [Yiqing Xu](https://yiqingxu.org/)\n",
        "\n",
        "- [Francis Fukuyama](https://fukuyama.stanford.edu/papers)\n",
        "\n",
        "- PRINCIPIA POLITICA Politics & Ethics under Scaling and Uncertainty"
      ]
    },
    {
      "cell_type": "markdown",
      "metadata": {
        "id": "qH2WZSN9gecO"
      },
      "source": [
        "## Neptune Orient Lines: The Fall of Singapoure's National Shiping Company\n",
        "\n",
        "NOL\n",
        "\n",
        "https://www.youtube.com/watch?v=dBNKgGxpHwY\n",
        "\n",
        "\n",
        "Goh Keng Swee\n",
        "Minister of Finance\n",
        "\n",
        "Building Shipts\n",
        "Shiping Market\n",
        "How the Market Works?\n",
        "\n",
        "TEMASEK Holding?\n",
        "\n",
        "Containers Business\n",
        "\n",
        "Ship Industry derregulation.\n",
        "Larget ships have economies of scale.\n",
        "\n",
        "Ships conpany expand vertically by becoming logistics companies to have more marging and composate for the lows\n",
        "marging in obtain in the sea.\n",
        "\n",
        "NLO adquiere APL (American President Line\n",
        "\n",
        "MAERKS\n",
        "\n",
        "Global Business Cicle\n",
        "\n",
        "Cost Structure\n",
        "\n",
        "Bigest ships are more profitable.\n",
        "So companies most find money to buy big ships to increase revenews.\n",
        "\n",
        "NOL was sold to french CMA CGM.\n",
        "\n",
        "\n",
        "So NOL has unable to buy bigger ships, and was unprofitable.\n",
        "\n",
        "The Singapour goverment does not put money because the company was not strategic anymore.\n",
        "\n",
        "Comparison with Taiwan  Evergreen.\n",
        "\n",
        "- Evergreen has a domestic market.\n"
      ]
    }
  ]
}