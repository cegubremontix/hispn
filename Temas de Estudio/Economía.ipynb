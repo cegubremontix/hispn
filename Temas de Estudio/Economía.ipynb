{
  "nbformat": 4,
  "nbformat_minor": 0,
  "metadata": {
    "colab": {
      "name": "Economía.ipynb",
      "provenance": [],
      "collapsed_sections": [],
      "authorship_tag": "ABX9TyNyO3qpATII7srXKoMu99lN",
      "include_colab_link": true
    },
    "kernelspec": {
      "name": "python3",
      "display_name": "Python 3"
    },
    "language_info": {
      "name": "python"
    }
  },
  "cells": [
    {
      "cell_type": "markdown",
      "metadata": {
        "id": "view-in-github",
        "colab_type": "text"
      },
      "source": [
        "<a href=\"https://colab.research.google.com/github/dbremont/Notas/blob/main/Temas%20de%20Estudio/Econom%C3%ADa.ipynb\" target=\"_parent\"><img src=\"https://colab.research.google.com/assets/colab-badge.svg\" alt=\"Open In Colab\"/></a>"
      ]
    },
    {
      "cell_type": "markdown",
      "metadata": {
        "id": "76P2OqAUfowY"
      },
      "source": [
        "## Productos"
      ]
    },
    {
      "cell_type": "markdown",
      "metadata": {
        "id": "LLQ0PN1Ofqlq"
      },
      "source": [
        "- Listado de productos y su complejidad\n",
        "- Negocios\n",
        "- Nuevas Industrias\n"
      ]
    },
    {
      "cell_type": "markdown",
      "metadata": {
        "id": "a8TbOgep65dk"
      },
      "source": [
        "## Articules"
      ]
    },
    {
      "cell_type": "markdown",
      "metadata": {
        "id": "c0X6p-Vb69MU"
      },
      "source": [
        "-  [In Praise of Industrial Policy](https://www.americanpurpose.com/blog/fukuyama/in-praise-of-industrial-policy/)\n",
        "\n",
        "- [Macroeconomics Toolkit](https://saylordotorg.github.io/text_macroeconomics-theory-through-applications/s20-macroeconomics-toolkit.html)\n",
        "\n",
        "- [Ricardo Hausmann - Professor at Harvard’s Kennedy School, Director of the Growth Lab](https://www.ageofeconomics.org/interviews/ricardo-hausmann/#6-does-economics-explain-capitalism-how-would-you-define-capitalism)\n",
        "\n",
        "- [Preguntas de Economia](https://colab.research.google.com/drive/1fZE2gknUE2k2kbSj2jr5l1pYW12UPBpn#scrollTo=eRmPB8w7STx-)"
      ]
    },
    {
      "cell_type": "markdown",
      "metadata": {
        "id": "jC8k-0f-KEE3"
      },
      "source": [
        "## Recursos"
      ]
    },
    {
      "cell_type": "markdown",
      "metadata": {
        "id": "6f-ULMgq_KmO"
      },
      "source": [
        "* [Historia del Pensamiento Económico](https://sites.google.com/view/danyjaimovich/teaching/hpe)\n",
        "\n",
        "* [Introduction to Economic Theories](https://www.coursera.org/learn/intro-economic-theories)\n",
        "\n",
        "* [Mathematics for economists](https://www.coursera.org/learn/mathematics-for-economists)\n",
        "\n",
        "* [Econometrics](https://www.coursera.org/learn/econometrics)\n",
        "\n",
        "* [The Korean Economic Development](https://www.coursera.org/learn/korean-economy)\n",
        "\n",
        "* [Econometrics: Methods and Applications](https://www.coursera.org/learn/erasmus-econometrics)\n",
        "\n",
        "* [Social and Economic Networks: Models and Analysis](https://www.coursera.org/learn/social-economic-networks)\n",
        "\n",
        "* [Principles of Microeconomics](https://ocw.mit.edu/courses/economics/14-01-principles-of-microeconomics-fall-2018/)\n",
        "\n",
        "* [Applied Econometrics: Mostly Harmless Big Data](https://ocw.mit.edu/courses/economics/14-387-applied-econometrics-mostly-harmless-big-data-fall-2014/)\n",
        "\n",
        "* [Econometrics](https://ocw.mit.edu/courses/economics/14-382-econometrics-spring-2017/)\n",
        "\n",
        "* [Intermediate Macroeconomics](https://ocw.mit.edu/courses/economics/14-05-intermediate-macroeconomics-spring-2013/)\n",
        "\n",
        "* [Network Optimization](https://ocw.mit.edu/courses/sloan-school-of-management/15-082j-network-optimization-fall-2010/)"
      ]
    },
    {
      "cell_type": "markdown",
      "metadata": {
        "id": "VGr_FRFALYoJ"
      },
      "source": [
        "## Ricardo Hausmman - Complejidad Economica"
      ]
    },
    {
      "cell_type": "markdown",
      "metadata": {
        "id": "6WNh__t8I_6c"
      },
      "source": [
        "- La mala macro es mala, pero la buena macro es insuficiente\n",
        "\n",
        "- El desarollo es la acumulation de capacidades productivas\n",
        "\n",
        "- Division del conocimiento\n",
        "\n",
        "- El desarollo es todo sobre evolucion de las areas de ventajas comparativas\n",
        "\n",
        "- Sacar jugo a lo que se tiene, pero acumular capacidades que no se tienen para sacar mas jugo\n",
        "\n",
        "-  Persistencia en las politicas: hay que enraizar esas politicas en la poblacion\n",
        "\n",
        "- Bien publico para producir bienes privados, ecosistema de produccion:\n",
        "   - Para tener autos hay que tener carreteras\n",
        "\n",
        "- Mercado de Capitales\n",
        "\n",
        "- No hay industrias avanzadas sin que el govierno ayude a crear el ecosistema necesario\n",
        "\n",
        "- Chile es California, sin Hollywood  y sin Silicon Valey\n",
        "\n",
        "- Catch-up  y leep frogging\n",
        "\n",
        "- Chile nunca se intereso en desarrollar technologia solar y son el arabia saudita del sol.\n",
        "\n",
        "- Chile esta lleno de empresas estranjeras chilenas, pero el mundo no tiene empresas chilenas, por que los chilenos no adquieron el conocimiento.\n",
        "\n",
        "  - Tienen el recurso natural pero no el ecosistema productivo.\n",
        "\n",
        "- El estado no es un sustito de la sociedad es un complemento.\n",
        "  - El estado bajo el control de la sociedad.\n",
        "\n",
        "- Chieft Scientifs (Israel y Singapour)\n",
        "   - Tecnologia y Ciencia para resolver proyectos del pais.\n",
        "\n",
        "- Patrimonio de las Empresas.\n",
        "\n",
        "- Unidades de Produccion:\n",
        "  - Familias\n",
        "  - Empresas\n",
        "\n",
        "- Como se inyecta patrimonio en las empresas.\n",
        "\n",
        "- Industrias sin Mercado de capitales que les asigna recursos .\n",
        "\n",
        "- \n"
      ]
    },
    {
      "cell_type": "markdown",
      "metadata": {
        "id": "22QtOXIWfGqz"
      },
      "source": [
        "# The Industrial Revolution"
      ]
    },
    {
      "cell_type": "markdown",
      "metadata": {
        "id": "iu1npZDMfPJW"
      },
      "source": [
        "- The Industrial Revolution"
      ]
    }
  ]
}