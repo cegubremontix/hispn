{
  "nbformat": 4,
  "nbformat_minor": 0,
  "metadata": {
    "colab": {
      "name": "Economía.ipynb",
      "provenance": [],
      "collapsed_sections": [],
      "toc_visible": true,
      "authorship_tag": "ABX9TyPts9hVVe7L+m95hkbYO0hn",
      "include_colab_link": true
    },
    "kernelspec": {
      "name": "python3",
      "display_name": "Python 3"
    },
    "language_info": {
      "name": "python"
    }
  },
  "cells": [
    {
      "cell_type": "markdown",
      "metadata": {
        "id": "view-in-github",
        "colab_type": "text"
      },
      "source": [
        "<a href=\"https://colab.research.google.com/github/dbremont/Notas/blob/main/Temas%20de%20Estudio/Econom%C3%ADa.ipynb\" target=\"_parent\"><img src=\"https://colab.research.google.com/assets/colab-badge.svg\" alt=\"Open In Colab\"/></a>"
      ]
    },
    {
      "cell_type": "markdown",
      "metadata": {
        "id": "76P2OqAUfowY"
      },
      "source": [
        "## Productos"
      ]
    },
    {
      "cell_type": "markdown",
      "metadata": {
        "id": "LLQ0PN1Ofqlq"
      },
      "source": [
        "- Listado de productos y su complejidad\n",
        "- Negocios\n",
        "- Nuevas Industrias\n"
      ]
    },
    {
      "cell_type": "markdown",
      "metadata": {
        "id": "a8TbOgep65dk"
      },
      "source": [
        "## Articules"
      ]
    },
    {
      "cell_type": "markdown",
      "metadata": {
        "id": "c0X6p-Vb69MU"
      },
      "source": [
        "-  [In Praise of Industrial Policy](https://www.americanpurpose.com/blog/fukuyama/in-praise-of-industrial-policy/)\n",
        "\n",
        "- [Exogeny](https://en.wikipedia.org/wiki/Exogeny)\n",
        "\n",
        "- [A Note on Reading Big, Difficult Books...](https://www.bradford-delong.com/2019/12/a-note-on-reading-big-difficult-books.html)\n",
        "\n",
        "- [Macroeconomics Toolkit](https://saylordotorg.github.io/text_macroeconomics-theory-through-applications/s20-macroeconomics-toolkit.html)\n",
        "\n",
        "- [Ricardo Hausmann - Professor at Harvard’s Kennedy School, Director of the Growth Lab](https://www.ageofeconomics.org/interviews/ricardo-hausmann/#6-does-economics-explain-capitalism-how-would-you-define-capitalism)\n",
        "\n",
        "- [Preguntas de Economia](https://colab.research.google.com/drive/1fZE2gknUE2k2kbSj2jr5l1pYW12UPBpn#scrollTo=eRmPB8w7STx-)\n",
        "\n",
        "* [Ley de los Retornos decrecientes](https://es.wikipedia.org/wiki/Ley_de_los_rendimientos_decrecientes)\n",
        "\n",
        "* [Ceteris paribus](https://es.wikipedia.org/wiki/Ceteris_paribus)\n",
        "\n",
        "* [Currency](https://en.wikipedia.org/wiki/Currency)\n",
        "\n",
        "* [Money](https://en.wikipedia.org/wiki/Money)\n",
        "\n",
        "* [¿Qué hacer para crecer más y mejor?](https://www.elfinancierocr.com/opinion/que-hacer-para-crecer-mas-y-mejor/LBEM532SFVGKDJXBA6ZM4MZ3K4/story/)\n",
        "\n",
        "* [Arrow's impossibility theorem](https://en.wikipedia.org/wiki/Arrow%27s_impossibility_theorem)\n",
        "\n",
        "* [What are the returns to R&D?](https://mattsclancy.substack.com/p/what-are-the-returns-to-r-and-d?token=eyJ1c2VyX2lkIjoyNTAyNTg4NSwicG9zdF9pZCI6MzYzMTQ4OTMsIl8iOiJxVkdOUiIsImlhdCI6MTYyMDkzODc1NSwiZXhwIjoxNjIwOTQyMzU1LCJpc3MiOiJwdWItMjI1NzQiLCJzdWIiOiJwb3N0LXJlYWN0aW9uIn0.lZqvEYTj_BTrFrKoYPq8QPjI7td7CsGf6xmparVS1cU)\n",
        "\n",
        "* [American School (economics)](https://en.wikipedia.org/wiki/American_School_(economics))\n",
        "\n",
        "* [Market (economics)](https://en.wikipedia.org/wiki/Market_(economics))\n",
        "\n",
        "* [Your Book Review: The Accidental Superpower](https://astralcodexten.substack.com/p/your-book-review-the-accidental-superpower?token=eyJ1c2VyX2lkIjoyNTAyNTg4NSwicG9zdF9pZCI6MzY3MDEyNzgsIl8iOiJDUEN4ciIsImlhdCI6MTYyMTc4MjQwNSwiZXhwIjoxNjIxNzg2MDA1LCJpc3MiOiJwdWItODkxMjAiLCJzdWIiOiJwb3N0LXJlYWN0aW9uIn0.qGpZo7UftF8n-hv17xwR4sLpsVLbFP1MK-xCmliOero)\n",
        "\n",
        "* [Bitcoin Transaction Network](https://graphs4sci.substack.com/p/bitcoin-transaction-network)\n",
        "\n",
        "* [An example of high returns to publicly funded R&D](https://mattsclancy.substack.com/p/an-example-of-high-returns-to-publicly?token=eyJ1c2VyX2lkIjoyNTAyNTg4NSwicG9zdF9pZCI6MzY2NjkyNDcsIl8iOiJDUEN4ciIsImlhdCI6MTYyMTc4MjQzNiwiZXhwIjoxNjIxNzg2MDM2LCJpc3MiOiJwdWItMjI1NzQiLCJzdWIiOiJwb3N0LXJlYWN0aW9uIn0.GbZDiMWWyjFL1XynJOx6NcELJSKbHoqzaZueuKSdec8)\n",
        "\n",
        "* [Market (economics)](https://en.wikipedia.org/wiki/Market_(economics))\n",
        "\n",
        "- [Glossary of economics](https://en.wikipedia.org/wiki/Glossary_of_economics)\n",
        "\n",
        "* [Currency](https://en.wikipedia.org/wiki/Currency)\n",
        "\n",
        "* [Money](https://en.wikipedia.org/wiki/Money)\n",
        "\n",
        "* [Capitalism](https://en.wikipedia.org/wiki/Capitalism)\n",
        "\n",
        "* [Economies of scale](https://en.wikipedia.org/wiki/Economies_of_scale)\n",
        "\n",
        "* [Diminishing returns](https://en.wikipedia.org/wiki/Diminishing_returns)\n",
        "\n",
        "* [Dixit–Stiglitz model](https://en.wikipedia.org/wiki/Dixit%E2%80%93Stiglitz_model)\n",
        "\n",
        "* [History of economic thought](https://en.wikipedia.org/wiki/History_of_economic_thought)\n",
        "\n",
        "* [History of money](https://en.wikipedia.org/wiki/History_of_money)\n",
        "\n",
        "* [How and why should we study ‘economic complexity’?](https://ourworldindata.org/how-and-why-econ-complexity)\n",
        "\n",
        "* [Oeconomicus](https://en.wikipedia.org/wiki/Oeconomicus)\n",
        "\n",
        "\n",
        "* [Ancient economic thought - Wikipedia](https://en.wikipedia.org/wiki/Ancient_economic_thought)\n",
        "\n",
        "* [Mitos y verdades de la complejidad económica](https://www.ciperchile.cl/2020/09/01/mitos-y-verdades-de-la-complejidad-economica/)\n",
        "\n",
        "* [How the Taxonomy of Products Drives the Economic Development of Countries](https://journals.plos.org/plosone/article?id=10.1371/journal.pone.0113770)\n",
        "\n",
        "* [Retiring Economic Growth. Think about our economy in terms of… | by Cesar A. Hidalgo](https://medium.com/@cesifoti/retiring-economic-growth-9057965cb2d5)\n",
        "\n",
        "* [The 50 Most Important Economic Theories](https://dmarron.com/2009/08/17/the-50-most-important-economic-theories/)\n",
        "\n",
        "* [Under the Hood — The Computational Engine of Economic Development | by Cesar A. Hidalgo | Medium](https://medium.com/@cesifoti/under-the-hood-the-computational-engine-of-economic-development-49bce1a7b151#.l0we5aiy1)\n",
        "\n",
        "* [Report on Manufactures](https://en.wikipedia.org/wiki/Report_on_Manufactures)"
      ]
    },
    {
      "cell_type": "markdown",
      "metadata": {
        "id": "jC8k-0f-KEE3"
      },
      "source": [
        "## Recursos"
      ]
    },
    {
      "cell_type": "markdown",
      "metadata": {
        "id": "6f-ULMgq_KmO"
      },
      "source": [
        "* [Historia del Pensamiento Económico](https://sites.google.com/view/danyjaimovich/teaching/hpe)\n",
        "\n",
        "* [Principles of Microeconomics](https://ocw.mit.edu/courses/economics/14-01-principles-of-microeconomics-fall-2018/)\n",
        "\n",
        "* [Intermediate Macroeconomics](https://ocw.mit.edu/courses/economics/14-05-intermediate-macroeconomics-spring-2013/)\n",
        "\n",
        "* [Network Optimization](https://ocw.mit.edu/courses/sloan-school-of-management/15-082j-network-optimization-fall-2010/)\n",
        "\n",
        "- [Brad de Long Today](https://www.delongtoday.com/today)\n",
        "\n",
        "- [Bradford Delong - Economic Growth](https://www.bradford-delong.com/economics_growth/)\n",
        "\n",
        "- [QuantEcon Lectures](https://quantecon.org/lectures/)"
      ]
    },
    {
      "cell_type": "markdown",
      "metadata": {
        "id": "_rTa_fwCc-rP"
      },
      "source": [
        "### Libros"
      ]
    },
    {
      "cell_type": "markdown",
      "metadata": {
        "id": "p-vcryzkdALA"
      },
      "source": [
        "* [Naked money - A Revealing Look at Our Financial System](https://colab.research.google.com/github/dbremont/Notas/blob/main/Libros/Otros/Naked%20money%20-%20A%20Revealing%20Look%20at%20Our%20Financial%20System.ipynb)\n",
        "\n",
        "* [Why Stock Markets Crash](https://colab.research.google.com/github/dbremont/Notas/blob/main/Libros/Otros/Why%20Stock%20Markets%20Crash.ipynb)\n",
        "\n",
        "* [Bad Samaritans: The guilty secrets of rich nations & the threat to global prosperity](https://colab.research.google.com/github/dbremont/Notas/blob/main/Libros/Otros/Bad%20Samaritans:%20The%20guilty%20secrets%20of%20rich%20nations%20%26%20the%20threat%20to%20global%20prosperity.ipynb)\n",
        "\n",
        "* [How Rich Countries Got Rich ... and Why Poor Countries Stay Poor](https://colab.research.google.com/github/dbremont/Notas/blob/main/Libros/Otros/How%20Rich%20Countries%20Got%20Rich%20...%20and%20Why%20Poor%20Countries%20Stay%20Poor.ipynb)\n",
        "\n",
        "* [Why Information Grows](https://colab.research.google.com/github/dbremont/Notas/blob/main/Libros/Otros/Why%20Information%20Grows.ipynb)\n",
        "\n",
        "\n",
        "* [Debt: The First 5000 Years](https://colab.research.google.com/github/dbremont/Notas/blob/main/Libros/Otros/Debt_The_First_5000_Years.ipynb)\n",
        "\n",
        "* [The Making of an Economic Superpower: Unlocking China's Secret of Rapid Industrialization](https://colab.research.google.com/github/dbremont/Notas/blob/main/Libros/Otros/The_Making_of_an_Economic_Superpower_Unlocking_China's_Secret_of_Rapid_Industrialization.ipynb)\n",
        "\n",
        "* [The Art of Economic Catch-Up: Barriers, Detours and Leapfrogging in Innovation Systems](https://colab.research.google.com/github/dbremont/Notas/blob/main/Libros/Otros/The_Art_of_Economic_Catch_Up_Barriers%2C_Detours_and_Leapfrogging_in_Innovation_Systems.ipynb)\n",
        "\n",
        "* [Guide for the Young Economist](https://colab.research.google.com/github/dbremont/Notas/blob/main/Libros/Otros/Guide_for_the_Young_Economist.ipynb)\n",
        "\n",
        "* [The Practice of Econometrics Classic and Contemporary](https://colab.research.google.com/github/dbremont/Notas/blob/main/Libros/Matematicas/The%20Practice%20of%20Econometrics%20Classic%20and%20Contemporary.ipynb)\n",
        "\n",
        "* [A Course in Econometrics](https://colab.research.google.com/github/dbremont/Notas/blob/main/Libros/Matematicas/A%20Course%20in%20Econometrics.ipynb)\n",
        "\n",
        "* [Economics A Very Short Introduction](https://colab.research.google.com/github/dbremont/Notas/blob/main/Libros/Otros/Economics_A_Very_Short_Introduction.ipynb)"
      ]
    },
    {
      "cell_type": "markdown",
      "metadata": {
        "id": "VGr_FRFALYoJ"
      },
      "source": [
        "## Ricardo Hausmman - Complejidad Economica"
      ]
    },
    {
      "cell_type": "markdown",
      "metadata": {
        "id": "6WNh__t8I_6c"
      },
      "source": [
        "- La mala macro es mala, pero la buena macro es insuficiente\n",
        "\n",
        "- El desarollo es la acumulation de capacidades productivas\n",
        "\n",
        "- Division del conocimiento\n",
        "\n",
        "- El desarollo es todo sobre evolucion de las areas de ventajas comparativas\n",
        "\n",
        "- Sacar jugo a lo que se tiene, pero acumular capacidades que no se tienen para sacar mas jugo\n",
        "\n",
        "-  Persistencia en las politicas: hay que enraizar esas politicas en la poblacion\n",
        "\n",
        "- Bien publico para producir bienes privados, ecosistema de produccion:\n",
        "   - Para tener autos hay que tener carreteras\n",
        "\n",
        "- Mercado de Capitales\n",
        "\n",
        "- No hay industrias avanzadas sin que el govierno ayude a crear el ecosistema necesario\n",
        "\n",
        "- Chile es California, sin Hollywood  y sin Silicon Valey\n",
        "\n",
        "- Catch-up  y leep frogging\n",
        "\n",
        "- Chile nunca se intereso en desarrollar technologia solar y son el arabia saudita del sol.\n",
        "\n",
        "- Chile esta lleno de empresas estranjeras chilenas, pero el mundo no tiene empresas chilenas, por que los chilenos no adquieron el conocimiento.\n",
        "\n",
        "  - Tienen el recurso natural pero no el ecosistema productivo.\n",
        "\n",
        "- El estado no es un sustito de la sociedad es un complemento.\n",
        "  - El estado bajo el control de la sociedad.\n",
        "\n",
        "- Chieft Scientifs (Israel y Singapour)\n",
        "   - Tecnologia y Ciencia para resolver proyectos del pais.\n",
        "\n",
        "- Patrimonio de las Empresas.\n",
        "\n",
        "- Unidades de Produccion:\n",
        "  - Familias\n",
        "  - Empresas\n",
        "\n",
        "- Como se inyecta patrimonio en las empresas.\n",
        "\n",
        "- Industrias sin Mercado de capitales que les asigna recursos .\n",
        "\n",
        "- \n"
      ]
    }
  ]
}