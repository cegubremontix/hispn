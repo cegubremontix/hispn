{
  "nbformat": 4,
  "nbformat_minor": 0,
  "metadata": {
    "colab": {
      "name": "Economía.ipynb",
      "provenance": [],
      "collapsed_sections": [],
      "authorship_tag": "ABX9TyPRAZQWPZ1JH8OEgtORJgYd",
      "include_colab_link": true
    },
    "kernelspec": {
      "name": "python3",
      "display_name": "Python 3"
    },
    "language_info": {
      "name": "python"
    }
  },
  "cells": [
    {
      "cell_type": "markdown",
      "metadata": {
        "id": "view-in-github",
        "colab_type": "text"
      },
      "source": [
        "<a href=\"https://colab.research.google.com/github/dbremont/Notas/blob/main/Temas%20de%20Estudio/Econom%C3%ADa.ipynb\" target=\"_parent\"><img src=\"https://colab.research.google.com/assets/colab-badge.svg\" alt=\"Open In Colab\"/></a>"
      ]
    },
    {
      "cell_type": "markdown",
      "metadata": {
        "id": "76P2OqAUfowY"
      },
      "source": [
        "## Productos"
      ]
    },
    {
      "cell_type": "markdown",
      "metadata": {
        "id": "LLQ0PN1Ofqlq"
      },
      "source": [
        "- Listado de productos y su complejidad\n",
        "- Negocios\n",
        "- Nuevas Industrias\n"
      ]
    },
    {
      "cell_type": "markdown",
      "metadata": {
        "id": "a8TbOgep65dk"
      },
      "source": [
        "## Articules"
      ]
    },
    {
      "cell_type": "markdown",
      "metadata": {
        "id": "c0X6p-Vb69MU"
      },
      "source": [
        "-  [In Praise of Industrial Policy](https://www.americanpurpose.com/blog/fukuyama/in-praise-of-industrial-policy/)\n",
        "\n",
        "- [Macroeconomics Toolkit](https://saylordotorg.github.io/text_macroeconomics-theory-through-applications/s20-macroeconomics-toolkit.html)\n",
        "\n",
        "- [Ricardo Hausmann - Professor at Harvard’s Kennedy School, Director of the Growth Lab](https://www.ageofeconomics.org/interviews/ricardo-hausmann/#6-does-economics-explain-capitalism-how-would-you-define-capitalism)\n",
        "\n",
        "- [Preguntas de Economia](https://colab.research.google.com/drive/1fZE2gknUE2k2kbSj2jr5l1pYW12UPBpn#scrollTo=eRmPB8w7STx-)\n",
        "\n",
        "* [Ley de los Retornos decrecientes](https://es.wikipedia.org/wiki/Ley_de_los_rendimientos_decrecientes)\n",
        "\n",
        "* [Ceteris paribus](https://es.wikipedia.org/wiki/Ceteris_paribus)\n",
        "\n",
        "* [Currency](https://en.wikipedia.org/wiki/Currency)\n",
        "\n",
        "* [Money](https://en.wikipedia.org/wiki/Money)\n",
        "\n",
        "* [¿Qué hacer para crecer más y mejor?](https://www.elfinancierocr.com/opinion/que-hacer-para-crecer-mas-y-mejor/LBEM532SFVGKDJXBA6ZM4MZ3K4/story/)\n",
        "\n",
        "* [Arrow's impossibility theorem](https://en.wikipedia.org/wiki/Arrow%27s_impossibility_theorem)\n",
        "\n",
        "* [What are the returns to R&D?](https://mattsclancy.substack.com/p/what-are-the-returns-to-r-and-d?token=eyJ1c2VyX2lkIjoyNTAyNTg4NSwicG9zdF9pZCI6MzYzMTQ4OTMsIl8iOiJxVkdOUiIsImlhdCI6MTYyMDkzODc1NSwiZXhwIjoxNjIwOTQyMzU1LCJpc3MiOiJwdWItMjI1NzQiLCJzdWIiOiJwb3N0LXJlYWN0aW9uIn0.lZqvEYTj_BTrFrKoYPq8QPjI7td7CsGf6xmparVS1cU)\n",
        "\n",
        "* [American School (economics)](https://en.wikipedia.org/wiki/American_School_(economics))\n",
        "\n",
        "* [Market (economics)](https://en.wikipedia.org/wiki/Market_(economics))\n",
        "\n",
        "* [Your Book Review: The Accidental Superpower](https://astralcodexten.substack.com/p/your-book-review-the-accidental-superpower?token=eyJ1c2VyX2lkIjoyNTAyNTg4NSwicG9zdF9pZCI6MzY3MDEyNzgsIl8iOiJDUEN4ciIsImlhdCI6MTYyMTc4MjQwNSwiZXhwIjoxNjIxNzg2MDA1LCJpc3MiOiJwdWItODkxMjAiLCJzdWIiOiJwb3N0LXJlYWN0aW9uIn0.qGpZo7UftF8n-hv17xwR4sLpsVLbFP1MK-xCmliOero)\n",
        "\n",
        "* [Bitcoin Transaction Network](https://graphs4sci.substack.com/p/bitcoin-transaction-network)\n",
        "\n",
        "* [An example of high returns to publicly funded R&D](https://mattsclancy.substack.com/p/an-example-of-high-returns-to-publicly?token=eyJ1c2VyX2lkIjoyNTAyNTg4NSwicG9zdF9pZCI6MzY2NjkyNDcsIl8iOiJDUEN4ciIsImlhdCI6MTYyMTc4MjQzNiwiZXhwIjoxNjIxNzg2MDM2LCJpc3MiOiJwdWItMjI1NzQiLCJzdWIiOiJwb3N0LXJlYWN0aW9uIn0.GbZDiMWWyjFL1XynJOx6NcELJSKbHoqzaZueuKSdec8)\n",
        "\n",
        "* [Market (economics)](https://en.wikipedia.org/wiki/Market_(economics))\n",
        "\n",
        "- [Glossary of economics](https://en.wikipedia.org/wiki/Glossary_of_economics)\n",
        "\n",
        "* [Currency](https://en.wikipedia.org/wiki/Currency)\n",
        "\n",
        "* [Money](https://en.wikipedia.org/wiki/Money)\n",
        "\n",
        "* [Capitalism](https://en.wikipedia.org/wiki/Capitalism)\n",
        "\n",
        "* [Economies of scale](https://en.wikipedia.org/wiki/Economies_of_scale)\n",
        "\n",
        "* [Diminishing returns](https://en.wikipedia.org/wiki/Diminishing_returns)\n",
        "\n",
        "* [Dixit–Stiglitz model](https://en.wikipedia.org/wiki/Dixit%E2%80%93Stiglitz_model)\n",
        "\n",
        "* [History of economic thought](https://en.wikipedia.org/wiki/History_of_economic_thought)\n",
        "\n",
        "* [History of money](https://en.wikipedia.org/wiki/History_of_money)\n",
        "\n",
        "* [How and why should we study ‘economic complexity’?](https://ourworldindata.org/how-and-why-econ-complexity)\n",
        "\n",
        "* [Oeconomicus](https://en.wikipedia.org/wiki/Oeconomicus)\n",
        "\n",
        "\n",
        "* [Ancient economic thought - Wikipedia](https://en.wikipedia.org/wiki/Ancient_economic_thought)\n",
        "\n",
        "* [Mitos y verdades de la complejidad económica](https://www.ciperchile.cl/2020/09/01/mitos-y-verdades-de-la-complejidad-economica/)\n",
        "\n",
        "* [How the Taxonomy of Products Drives the Economic Development of Countries](https://journals.plos.org/plosone/article?id=10.1371/journal.pone.0113770)\n",
        "\n",
        "* [Retiring Economic Growth. Think about our economy in terms of… | by Cesar A. Hidalgo](https://medium.com/@cesifoti/retiring-economic-growth-9057965cb2d5)\n",
        "\n",
        "* [The 50 Most Important Economic Theories](https://dmarron.com/2009/08/17/the-50-most-important-economic-theories/)\n",
        "\n",
        "* [Under the Hood — The Computational Engine of Economic Development | by Cesar A. Hidalgo | Medium](https://medium.com/@cesifoti/under-the-hood-the-computational-engine-of-economic-development-49bce1a7b151#.l0we5aiy1)\n",
        "\n",
        "* [Report on Manufactures](https://en.wikipedia.org/wiki/Report_on_Manufactures)"
      ]
    },
    {
      "cell_type": "markdown",
      "metadata": {
        "id": "jC8k-0f-KEE3"
      },
      "source": [
        "## Recursos"
      ]
    },
    {
      "cell_type": "markdown",
      "metadata": {
        "id": "6f-ULMgq_KmO"
      },
      "source": [
        "* [Historia del Pensamiento Económico](https://sites.google.com/view/danyjaimovich/teaching/hpe)\n",
        "\n",
        "* [The Korean Economic Development](https://www.coursera.org/learn/korean-economy)\n",
        "\n",
        "* [Principles of Microeconomics](https://ocw.mit.edu/courses/economics/14-01-principles-of-microeconomics-fall-2018/)\n",
        "\n",
        "* [Intermediate Macroeconomics](https://ocw.mit.edu/courses/economics/14-05-intermediate-macroeconomics-spring-2013/)\n",
        "\n",
        "* [Network Optimization](https://ocw.mit.edu/courses/sloan-school-of-management/15-082j-network-optimization-fall-2010/)\n",
        "\n",
        "- [Brad de Long Today](https://www.delongtoday.com/today)\n",
        "\n",
        "- []()"
      ]
    },
    {
      "cell_type": "markdown",
      "metadata": {
        "id": "VGr_FRFALYoJ"
      },
      "source": [
        "## Ricardo Hausmman - Complejidad Economica"
      ]
    },
    {
      "cell_type": "markdown",
      "metadata": {
        "id": "6WNh__t8I_6c"
      },
      "source": [
        "- La mala macro es mala, pero la buena macro es insuficiente\n",
        "\n",
        "- El desarollo es la acumulation de capacidades productivas\n",
        "\n",
        "- Division del conocimiento\n",
        "\n",
        "- El desarollo es todo sobre evolucion de las areas de ventajas comparativas\n",
        "\n",
        "- Sacar jugo a lo que se tiene, pero acumular capacidades que no se tienen para sacar mas jugo\n",
        "\n",
        "-  Persistencia en las politicas: hay que enraizar esas politicas en la poblacion\n",
        "\n",
        "- Bien publico para producir bienes privados, ecosistema de produccion:\n",
        "   - Para tener autos hay que tener carreteras\n",
        "\n",
        "- Mercado de Capitales\n",
        "\n",
        "- No hay industrias avanzadas sin que el govierno ayude a crear el ecosistema necesario\n",
        "\n",
        "- Chile es California, sin Hollywood  y sin Silicon Valey\n",
        "\n",
        "- Catch-up  y leep frogging\n",
        "\n",
        "- Chile nunca se intereso en desarrollar technologia solar y son el arabia saudita del sol.\n",
        "\n",
        "- Chile esta lleno de empresas estranjeras chilenas, pero el mundo no tiene empresas chilenas, por que los chilenos no adquieron el conocimiento.\n",
        "\n",
        "  - Tienen el recurso natural pero no el ecosistema productivo.\n",
        "\n",
        "- El estado no es un sustito de la sociedad es un complemento.\n",
        "  - El estado bajo el control de la sociedad.\n",
        "\n",
        "- Chieft Scientifs (Israel y Singapour)\n",
        "   - Tecnologia y Ciencia para resolver proyectos del pais.\n",
        "\n",
        "- Patrimonio de las Empresas.\n",
        "\n",
        "- Unidades de Produccion:\n",
        "  - Familias\n",
        "  - Empresas\n",
        "\n",
        "- Como se inyecta patrimonio en las empresas.\n",
        "\n",
        "- Industrias sin Mercado de capitales que les asigna recursos .\n",
        "\n",
        "- \n"
      ]
    },
    {
      "cell_type": "markdown",
      "metadata": {
        "id": "22QtOXIWfGqz"
      },
      "source": [
        "# The Industrial Revolution"
      ]
    },
    {
      "cell_type": "markdown",
      "metadata": {
        "id": "iu1npZDMfPJW"
      },
      "source": [
        "- The Industrial Revolution"
      ]
    }
  ]
}