{
  "nbformat": 4,
  "nbformat_minor": 0,
  "metadata": {
    "colab": {
      "name": "Deep Learning.ipynb",
      "provenance": [],
      "collapsed_sections": [],
      "authorship_tag": "ABX9TyM8f2FR5Ww0zT3K4BdW/HD4",
      "include_colab_link": true
    },
    "kernelspec": {
      "name": "python3",
      "display_name": "Python 3"
    }
  },
  "cells": [
    {
      "cell_type": "markdown",
      "metadata": {
        "id": "view-in-github",
        "colab_type": "text"
      },
      "source": [
        "<a href=\"https://colab.research.google.com/github/dbremont/Notas/blob/main/Temas%20de%20Estudio/Deep%20Learning.ipynb\" target=\"_parent\"><img src=\"https://colab.research.google.com/assets/colab-badge.svg\" alt=\"Open In Colab\"/></a>"
      ]
    },
    {
      "cell_type": "markdown",
      "metadata": {
        "id": "tFKbxaP01ey8"
      },
      "source": [
        "# Deep Learning\n",
        "\n",
        "- Concepts\n",
        "- Techniques\n",
        "- Problems\n",
        "- Programming\n",
        "\n"
      ]
    },
    {
      "cell_type": "markdown",
      "metadata": {
        "id": "j2nB9TRr62M0"
      },
      "source": [
        "## Primario"
      ]
    },
    {
      "cell_type": "markdown",
      "metadata": {
        "id": "7Sm8Af_7Tjmq"
      },
      "source": [
        "* [Artificial Neural Networks](https://brilliant.org/courses/artificial-neural-networks/)\n",
        "\n",
        "* [Deep Learning Do It Yourself!](https://dataflowr.github.io/website/)\n",
        "\n",
        "* [Practical Deep Learning for Coders](https://course.fast.ai/)\n",
        "  - [AI Quizzes](http://aiquizzes.com/)"
      ]
    },
    {
      "cell_type": "markdown",
      "metadata": {
        "id": "Z2jiSFcu63pA"
      },
      "source": [
        "## Secundario"
      ]
    },
    {
      "cell_type": "markdown",
      "metadata": {
        "id": "8nGmrovt677f"
      },
      "source": [
        "* [Deep Learning Crash Course](https://www.youtube.com/embed/playlist?list=PLZSO_6-bSqHQsDaBNtcFwMQuJw_djFnbd)\n",
        "\n",
        "* [MIT 6.S191 Introduction to Deep Learning](http://introtodeeplearning.com/)\n",
        "\n",
        "* [Deep Learning A-Z™: Hands-On Artificial Neural Networks](https://www.udemy.com/course/deeplearning/)\n",
        "\n",
        "* [DS-GA 1008 Deep Learning](https://atcold.github.io/pytorch-Deep-Learning/)\n",
        "\n",
        "* [CS230 - Deep Learning](https://cs230.stanford.edu)\n",
        "\n",
        "* [STAT 157 - Deep Learning](https://courses.d2l.ai/berkeley-stat-157/index.html)\n",
        "\n",
        "* [Livecoding an Autograd Library](https://www.youtube.com/playlist?list=PLeDtc0GP5ICldMkRg-DkhpFX1rRBNHTCs)"
      ]
    }
  ]
}