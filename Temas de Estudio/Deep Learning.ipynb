{
  "nbformat": 4,
  "nbformat_minor": 0,
  "metadata": {
    "colab": {
      "name": "Deep Learning.ipynb",
      "provenance": [],
      "collapsed_sections": [],
      "authorship_tag": "ABX9TyO8GQJulxwh2M3l8wzPCPJI",
      "include_colab_link": true
    },
    "kernelspec": {
      "name": "python3",
      "display_name": "Python 3"
    }
  },
  "cells": [
    {
      "cell_type": "markdown",
      "metadata": {
        "id": "view-in-github",
        "colab_type": "text"
      },
      "source": [
        "<a href=\"https://colab.research.google.com/github/dbremont/Notas/blob/main/Temas%20de%20Estudio/Deep%20Learning.ipynb\" target=\"_parent\"><img src=\"https://colab.research.google.com/assets/colab-badge.svg\" alt=\"Open In Colab\"/></a>"
      ]
    },
    {
      "cell_type": "markdown",
      "metadata": {
        "id": "tFKbxaP01ey8"
      },
      "source": [
        "# Deep Learning\n",
        "\n",
        "- Concepts\n",
        "- Techniques\n",
        "- Problems\n",
        "- Programming\n",
        "\n",
        "- [A top-down, practical guide to learn AI, Deep learning and Machine Learning](https://github.com/emilwallner/How-to-learn-Deep-Learning)\n",
        "\n"
      ]
    },
    {
      "cell_type": "markdown",
      "metadata": {
        "id": "7Sm8Af_7Tjmq"
      },
      "source": [
        "* [Deep Learning Nonedegree](https://www.udacity.com/course/deep-learning-nanodegree--nd101)\n",
        "  * [Syllabus](https://d20vrrgs8k4bvw.cloudfront.net/documents/en-US/Deep+Learning+Nanodegree+Syllabus+8-15.pdf)\n",
        "\n",
        "* [Artificial Neural Networks](https://brilliant.org/courses/artificial-neural-networks/)\n",
        "\n",
        "* [Deep Learning Do It Yourself!](https://dataflowr.github.io/website/)\n",
        "\n",
        "* [Deep Learning Crash Course](https://www.youtube.com/embed/playlist?list=PLZSO_6-bSqHQsDaBNtcFwMQuJw_djFnbd)\n",
        "\n",
        "* [Practical Deep Learning for Coders](https://course.fast.ai/)\n",
        "  - [AI Quizzes](http://aiquizzes.com/)\n",
        "\n",
        "* [MIT 6.S191 Introduction to Deep Learning](http://introtodeeplearning.com/)\n",
        "\n",
        "* [Deep Learning A-Z™: Hands-On Artificial Neural Networks](https://www.udemy.com/course/deeplearning/)\n",
        "\n",
        "* [DS-GA 1008 Deep Learning](https://atcold.github.io/pytorch-Deep-Learning/)\n",
        "\n",
        "* [CS230 - Deep Learning](https://cs230.stanford.edu)\n",
        "\n",
        "* [STAT 157 - Deep Learning](https://courses.d2l.ai/berkeley-stat-157/index.html)\n",
        "\n",
        "* [Livecoding an Autograd Library](https://www.youtube.com/playlist?list=PLeDtc0GP5ICldMkRg-DkhpFX1rRBNHTCs)"
      ]
    },
    {
      "cell_type": "markdown",
      "metadata": {
        "id": "yDL4OlET-exP"
      },
      "source": [
        "Prerequisites\n",
        "    - None\n",
        "\n",
        "Course Overview\n",
        "\n",
        "This interactive course dives into the fundamentals of artificial neural networks, from the basic frameworks to more modern techniques like adversarial models.\n",
        "\n",
        "You’ll answer questions such as how a computer can distinguish between pictures of dogs and cats, and how it can learn to play great chess.\n",
        "Using inspiration from the human brain and some linear algebra, you’ll gain an intuition for why these models work – not just a collection of formulas.\n",
        "\n",
        "This course is ideal for students and professionals seeking a fundamental understanding of neural networks, or brushing up on basics.\n",
        "\n",
        "Course Goals\n",
        "\n",
        "Course Structure\n",
        "\n",
        "1. Learning and the Brain \n",
        "To build an artificial learning algorithm, start with the human brain.\n",
        "\n",
        "2. Math for Neural Networks\n",
        "A refresher on vectors, matrices, and optimization.\n",
        "\n",
        "3. Perceptrons\n",
        "The building block of many neural networks.\n",
        "\n",
        "4. Multilayer Perceptrons\n",
        "Stringing it all together.\n",
        "\n",
        "5. Backpropagation\n",
        "Using a model's outputs to train it to do even better.\n",
        "\n",
        "6. Convolutional Neural Networks\n",
        "Models to capture structural information within data.\n",
        "\n",
        "7. Recurrent Neural Networks\n",
        "Models to process sequential data by remembering what we already know.\n",
        "\n",
        "8. Advanced Architectures\n",
        "A look into stochastic ANNs, adversarial techniques, vectorization, and other advanced topics.\n"
      ]
    },
    {
      "cell_type": "markdown",
      "metadata": {
        "id": "zXc6prHCVRaa"
      },
      "source": [
        "- The Universal Approximation Theorem for Neural Networks.\n",
        "- Course of dimensionality.\n",
        "- Automatic Differentiation"
      ]
    }
  ]
}