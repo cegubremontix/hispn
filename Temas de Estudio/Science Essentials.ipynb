{
  "nbformat": 4,
  "nbformat_minor": 0,
  "metadata": {
    "colab": {
      "name": "Science Essentials.ipynb",
      "provenance": [],
      "collapsed_sections": [],
      "toc_visible": true,
      "authorship_tag": "ABX9TyMwp4llTAs5yf5MPnBnzkwF",
      "include_colab_link": true
    },
    "kernelspec": {
      "name": "python3",
      "display_name": "Python 3"
    }
  },
  "cells": [
    {
      "cell_type": "markdown",
      "metadata": {
        "id": "view-in-github",
        "colab_type": "text"
      },
      "source": [
        "<a href=\"https://colab.research.google.com/github/dbremont/Notas/blob/main/Temas%20de%20Estudio/Science%20Essentials.ipynb\" target=\"_parent\"><img src=\"https://colab.research.google.com/assets/colab-badge.svg\" alt=\"Open In Colab\"/></a>"
      ]
    },
    {
      "cell_type": "markdown",
      "metadata": {
        "id": "zyoMnGib5qx-"
      },
      "source": [
        "- How would you define life?\n",
        "- Where is the boundary between “real” and “artificial” life?"
      ]
    },
    {
      "cell_type": "markdown",
      "metadata": {
        "id": "zG5QvE7W5ecg"
      },
      "source": [
        "# Recursos"
      ]
    },
    {
      "cell_type": "markdown",
      "metadata": {
        "id": "fq2xYF-_eBDb"
      },
      "source": [
        "### The Great Courses Plus"
      ]
    },
    {
      "cell_type": "markdown",
      "metadata": {
        "id": "WeUGJaSNeDwV"
      },
      "source": [
        "* [12 Essential Scientific Concepts](https://www.thegreatcoursesplus.com/12-essential-scientific-concepts)\n",
        "\n",
        "* [The Joy of Science](https://www.thegreatcoursesplus.com/the-joy-of-science)\n",
        "\n",
        "* [Science in the 20th Century](https://www.thegreatcoursesplus.com/science-in-the-20th-century)\n",
        "\n",
        "* [Understanding the Misconceptions of Science](https://www.thegreatcoursesplus.com/understanding-the-misconceptions-of-science)"
      ]
    },
    {
      "cell_type": "markdown",
      "metadata": {
        "id": "kgXEODvbeF6Y"
      },
      "source": [
        "### Brilliant"
      ]
    },
    {
      "cell_type": "markdown",
      "metadata": {
        "id": "tiAMf8gqeJHf"
      },
      "source": [
        "* [Science Essentials](https://brilliant.org/courses/science-essentials/)\n",
        "\n",
        "* [Scientific Thinking](https://brilliant.org/courses/puzzle-science/)"
      ]
    },
    {
      "cell_type": "markdown",
      "metadata": {
        "id": "KmfBapVieLH7"
      },
      "source": [
        "### Youtube"
      ]
    },
    {
      "cell_type": "markdown",
      "metadata": {
        "id": "xWI8rLOsP9xW"
      },
      "source": [
        "* [The Biggest Ideas in the Universe!](https://www.youtube.com/playlist?list=PLrxfgDEc2NxZJcWcrxH3jyjUUrJlnoyzX)\n"
      ]
    },
    {
      "cell_type": "markdown",
      "metadata": {
        "id": "JBOb_FNh5lMU"
      },
      "source": [
        "# Notas"
      ]
    },
    {
      "cell_type": "markdown",
      "metadata": {
        "id": "cOc76FzShuAJ"
      },
      "source": [
        "## 12 Essential Scientific Concepts"
      ]
    },
    {
      "cell_type": "markdown",
      "metadata": {
        "id": "bjXK2jUjVuoE"
      },
      "source": [
        "**Life**\n",
        "\n",
        "- Science: General principles to understand the world.\n",
        "\n",
        "- Masive objects distors time, not just space.\n",
        "\n",
        "- Light is made up of particles, but behaves like waves.\n",
        "\n",
        "- Almost 10% of your DNA comes from viruses, and your DNA\n",
        "changes as you age.\n",
        "\n",
        "- Your body contains 10 times more microbial cells than human cells.\n",
        "\n",
        "- Much, if not most, of what you see with your eyes is made up by\n",
        "your brain.\n",
        "\n",
        "- Emergence in nature.\n",
        "\n",
        "- Why the question \"What is the meaning of life so hard?\", because we don't a definition of life.\n",
        "\n",
        "- Organic Vs Inorganic\n",
        "\n",
        "- Sintetizar componenets organicos usando materia inorganca, fue la  lo hizo un aleman \"al sintetizar la urea\" \n",
        "\n",
        "-  Rate of evaporation\n",
        "\n",
        "- El agua como mecanismo de regulation de la temperatura interna.\n",
        "\n",
        "- Organic molecules\n",
        "\n",
        "- Carbon chains\n",
        "\n",
        "- Organic Compounts\n",
        "   - Carbodrygaes\n",
        "   - Lipids\n",
        "   - Proteins\n",
        "   - Neclic Acicds\n",
        "\n",
        "- The Chemistry of Life: Water and Carbon\n",
        "\n",
        "- Proteins folding\n",
        "- Proteins make anti-bodies to fight viruses.\n",
        "\n",
        "- Las vacunas no no hacen dano por que la carga viral contenida no es lo suficiente.\n",
        "\n",
        "- Without proteins, life would be impossible.\n",
        "\n",
        "Some questions?\n",
        "\n",
        "- How would you define life? \n",
        "- Where is the boundary between “real” and “artificial” life?\n"
      ]
    },
    {
      "cell_type": "markdown",
      "metadata": {
        "id": "cgGNNVpD5XM6"
      },
      "source": [
        "## Science Essentials"
      ]
    },
    {
      "cell_type": "markdown",
      "metadata": {
        "id": "yFVot_a7hvk2"
      },
      "source": [
        "- A scientific theory is a testable explanation about the natural world based on empirical evidence.\n",
        "\n",
        "- Skeptical Empiricism\n",
        "- **Denialism** involves the rejection of empirical evidence. This differs from **skepticism**, which asks for empirical evidence. \n",
        "\n",
        "- Antibiotics\n",
        "- Cacteria\n",
        "- Virus\n",
        "- Science is ongoing and self-correcting\n",
        "\n",
        "- The scientific method diagram\n",
        "\n",
        "It is important to realize that the scientific process does not usually occur in a single, predictable order. This is represented by the web of interconnecting steps in our model of the process. As we continue in this quiz, we will explore the steps of the inquiry process using Edward Jenner’s discovery of the smallpox vaccine!\n",
        "\n",
        "![Image of the Scientific Method](https://ds055uzetaobb.cloudfront.net/brioche/uploads/eHkxQCAF08-the-scientific-process-5282-1.png?width=400 \"Image of the Scientific Method\")\n",
        "\n",
        "- All of the technology that our society relies on is a product of science. Science is the foundation of everything!\n",
        "\n",
        "- Dr. Valnis y la expedicion de la vieruela,\n",
        "  Virus de la viruela bovina (cowpox), \n",
        "\n",
        "- Edward Jenner, medico-investigador descubrio que las personas infectadas con \"cowopox\" desarollaban inmunidad al \"smallpox\" y luego esto se transformo en una vacuna.\n",
        "\n",
        "- Making labels\n",
        "\n",
        "- **Categorization** is essential to processing information from our environment. From identifying toxins to food, to predators, categorization can be incredibly advantageous as it enables living things to make sense of the world around them. This makes categorization critical for survival.\n",
        "\n",
        "- Categorization enables us to organize and build on our knowledge, as **it provides a method of simplifying ideas** so that we can identify patterns and relationships.\n",
        "\n",
        "- Models are essential tools in helping us understand systems and phenomena, but as scientists, we must recognize that they provide us with useful generalizations and not absolute truths.\n",
        "\n",
        "  - The same can be say for labels, and categorization and labels.\n",
        "\n",
        "- **All* simplifications of information have limitations.\n",
        "\n",
        "- **Taxonomy** means arrangement method from greek. (Clasification) (Grouping) (clustering)\n",
        "\n",
        "- In short, taxonomy is a system for organizing our knowledge of living organisms in order to identify relationships and make inferences."
      ]
    }
  ]
}