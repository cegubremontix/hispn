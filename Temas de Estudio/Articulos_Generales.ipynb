{
  "nbformat": 4,
  "nbformat_minor": 0,
  "metadata": {
    "colab": {
      "name": "Articulos Generales.ipynb",
      "provenance": [],
      "toc_visible": true,
      "authorship_tag": "ABX9TyM6+t+S2OtEstWHUX38JG1p",
      "include_colab_link": true
    },
    "kernelspec": {
      "name": "python3",
      "display_name": "Python 3"
    },
    "language_info": {
      "name": "python"
    }
  },
  "cells": [
    {
      "cell_type": "markdown",
      "metadata": {
        "id": "view-in-github",
        "colab_type": "text"
      },
      "source": [
        "<a href=\"https://colab.research.google.com/github/dbremont/Notas/blob/main/Ingenerare/Articulos_Generales.ipynb\" target=\"_parent\"><img src=\"https://colab.research.google.com/assets/colab-badge.svg\" alt=\"Open In Colab\"/></a>"
      ]
    },
    {
      "cell_type": "markdown",
      "metadata": {
        "id": "3UvYko9PvQ6e"
      },
      "source": [
        "## Models"
      ]
    },
    {
      "cell_type": "markdown",
      "metadata": {
        "id": "8M-Hgrx5u1zg"
      },
      "source": [
        "- [Mental model](https://en.wikipedia.org/wiki/Mental_model)\n",
        "\n",
        "- [Mental Models: The Best Way to Make Intelligent Decisions](https://fs.blog/mental-models/)\n",
        "\n",
        "* [Setting up the data and the model](https://cs231n.github.io/neural-networks-2/)\n",
        "\n",
        "* [Conceptual model](https://en.wikipedia.org/wiki/Conceptual_model)\n",
        "\n",
        "* [Why Model?](http://jasss.soc.surrey.ac.uk/11/4/12.html)\n",
        "\n",
        "* [Statistical model](https://en.wikipedia.org/wiki/Statistical_model)\n",
        "\n",
        "* [Scientific modelling](https://en.wikipedia.org/wiki/Scientific_modelling)\n",
        "\n",
        "* [Simulated annealing](https://en.wikipedia.org/wiki/Simulated_annealing)"
      ]
    },
    {
      "cell_type": "markdown",
      "metadata": {
        "id": "u15t3WSU7qjC"
      },
      "source": [
        "## Filosofía"
      ]
    },
    {
      "cell_type": "markdown",
      "metadata": {
        "id": "lBVonejJ7sHA"
      },
      "source": [
        "* [Philosophy of physics](https://en.wikipedia.org/wiki/Philosophy_of_physics)\n",
        "\n",
        "* [Philosophy of science](https://en.wikipedia.org/wiki/Philosophy_of_science#Philosophy_of_statistics)\n",
        "\n",
        "* [On Denoting](https://en.wikipedia.org/wiki/On_Denoting)\n",
        "\n",
        "* [On Induction](http://www.ditext.com/russell/rus6.html)\n",
        "\n",
        "* [Philosophy of language](https://en.wikipedia.org/wiki/Philosophy_of_language)\n",
        "\n",
        "* [Philosophy of statistics](https://en.wikipedia.org/wiki/Philosophy_of_statistics)\n",
        "\n",
        "* [Philosophy of Statistics](https://plato.stanford.edu/entries/statistics/)\n",
        "\n",
        "* [Is Justified True Belief Knowledge?](http://www.ditext.com/gettier/gettier.html)\n",
        "\n",
        "* [Identity of indiscernibles](https://en.wikipedia.org/wiki/Identity_of_indiscernibles)\n",
        "\n",
        "* [Dialectic](https://en.wikipedia.org/wiki/Dialectic)\n",
        "\n",
        "* [An Intuitive Explanation of Solomonoff Induction](https://www.lesswrong.com/posts/Kyc5dFDzBg4WccrbK/an-intuitive-explanation-of-solomonoff-induction)\n",
        "\n",
        "* [A Semitechnical Introductory Dialogue on Solomonoff Induction](https://www.lesswrong.com/posts/EL4HNa92Z95FKL9R2/a-semitechnical-introductory-dialogue-on-solomonoff-1)\n",
        "\n",
        "- [Structure](https://en.wikipedia.org/wiki/Structure)\n",
        "\n",
        "- [Sense and reference](https://en.wikipedia.org/wiki/Sense_and_reference)\n",
        "\n",
        "- [Naming and Necessity](https://en.wikipedia.org/wiki/Naming_and_Necessity)\n",
        "\n",
        "- [A Treatise Concerning the Principles of Human Knowledge](https://en.wikisource.org/wiki/A_Treatise_Concerning_the_Principles_of_Human_Knowledge)\n",
        "\n",
        "- [Abstract and concrete](https://en.wikipedia.org/wiki/Abstract_and_concrete)\n",
        "\n",
        "- [An Enquiry Concerning Human Understanding](https://en.wikisource.org/wiki/An_Enquiry_Concerning_Human_Understanding)\n",
        "\n",
        "- [Connotation](https://en.wikipedia.org/wiki/Connotation)\n",
        "\n",
        "- [Denotation](https://en.wikipedia.org/wiki/Denotation)"
      ]
    },
    {
      "cell_type": "markdown",
      "metadata": {
        "id": "CxcVTL878yMX"
      },
      "source": [
        "## Linguistica"
      ]
    },
    {
      "cell_type": "markdown",
      "metadata": {
        "id": "7cO8mN-i80wU"
      },
      "source": [
        "- [Noun](https://en.wikipedia.org/wiki/Noun)\n",
        "\n",
        "- [Nominal (linguistics)](https://en.wikipedia.org/wiki/Nominal_(linguistics))\n",
        "\n",
        "- [Modality (natural language)](https://en.wikipedia.org/wiki/Modality_(natural_language))"
      ]
    },
    {
      "cell_type": "markdown",
      "metadata": {
        "id": "3lWabHlq8-e1"
      },
      "source": [
        "## Economia"
      ]
    },
    {
      "cell_type": "markdown",
      "metadata": {
        "id": "nnPOD3cu9B-k"
      },
      "source": [
        "* [Tacito](https://dle.rae.es/t%C3%A1cito)\n",
        "\n",
        "* [Tragedy of the commons](https://en.wikipedia.org/wiki/Tragedy_of_the_commons)\n",
        "\n",
        "* [Ecosystem](https://en.wikipedia.org/wiki/Ecosystem)"
      ]
    },
    {
      "cell_type": "markdown",
      "metadata": {
        "id": "AyJMzbsAFcRz"
      },
      "source": [
        "## Contabilidad y Responsabilidad\n",
        "\n",
        "* [Double Entry Accounting for Developers](https://django-hordak.readthedocs.io/en/latest/accounting-for-developers.html)\n",
        "\n",
        "* [Account (bookkeeping)](https://en.wikipedia.org/wiki/Account_(bookkeeping))\n"
      ]
    },
    {
      "cell_type": "markdown",
      "metadata": {
        "id": "kSRzUnbaLfmT"
      },
      "source": [
        "## How to Read"
      ]
    },
    {
      "cell_type": "markdown",
      "metadata": {
        "id": "Qr4vdm6jLpZH"
      },
      "source": [
        "* [How to Read a Book: The Ultimate Guide by Mortimer Adler](https://fs.blog/how-to-read-a-book/)\n",
        "\n",
        "* [How to (seriously) read a scientific paper](https://www.sciencemag.org/careers/2016/03/how-seriously-read-scientific-paper)\n",
        "\n",
        "* (D) [How to navigate a scientific paper with time constraints - A graphical approach](http://0.0.0.0:8000/5%20Ciencia/Articulos/How%20to%20navigate%20a%20scientific%20paper%20wit%20htime%20constraints%20-%20A%20graphical%20approach.pdf)\n",
        "\n",
        "* [How to Understand ML Papers Quickly](https://blog.evjang.com/2021/01/understanding-ml.html)\n",
        "\n",
        "* [ML Career Advice And Reading Papers](https://deeps.site/blog/2019/10/14/reading-research-papers-career-advice/)\n",
        "\n",
        "* [The Art of Reading More Effectively and Efficiently](https://aliabdaal.com/read-more-effectively/)"
      ]
    },
    {
      "cell_type": "markdown",
      "metadata": {
        "id": "ND4k-rozPPTJ"
      },
      "source": [
        "## Others"
      ]
    },
    {
      "cell_type": "markdown",
      "metadata": {
        "id": "gOTHYBKYRRlr"
      },
      "source": [
        "- [Using Paper for Everyday Tasks](https://christine.website/blog/gtd-on-paper-2021-06-13)\n",
        "\n",
        "* [Memex](https://en.wikipedia.org/wiki/Memex)\n",
        "\n",
        "* [Indicative planning](https://en.wikipedia.org/wiki/Indicative_planning)\n",
        "\n",
        "* [Intelligence amplification](https://en.wikipedia.org/wiki/Intelligence_amplification)\n",
        "\n",
        "* [Claude Shannon’s “Creative Thinking” Speech: A Genius Reveals How To Be Creative](https://medium.com/the-mission/a-genius-explains-how-to-be-creative-claude-shannons-long-lost-1952-speech-fbbcb2ebe07f)\n",
        "\n",
        "* [A theory of how developers seek information](https://web.eecs.utk.edu/~azh/blog/informationforaging.html)\n",
        "\n",
        "* [Ad Hoc](https://es.wikipedia.org/wiki/Ad_hoc)\n",
        "\n",
        "* [Humanistic intelligence](https://en.wikipedia.org/wiki/Humanistic_intelligence)\n",
        "\n",
        "* [Design thinking](https://en.wikipedia.org/wiki/Design_thinking)\n",
        "\n",
        "* [Six Ways to Think Long-term: A Cognitive Toolkit for Good Ancestors](https://blog.longnow.org/02020/07/20/six-ways-to-think-long-term-a-cognitive-toolkit-for-good-ancestors/)\n",
        "\n",
        "* [Write a rapid prototype first](https://terrytao.wordpress.com/advice-on-writing-papers/write-a-rapid-prototype-first/)\n",
        "\n",
        "* [My strategy for wealth and personal finance](https://stopa.io/post/225)\n",
        "\n",
        "* [Wasting Time Solving Not Important Problems](https://adamashwal.com/waste)\n",
        "\n",
        "* [The Personality Loop](https://neilkakkar.com/personality-loop.html)\n",
        "\n",
        "* [A Simple and Dynamic Method for Consistent Productivity](https://matthewsaltz.wordpress.com/2020/11/24/a-simple-and-dynamic-method-for-consistent-productivity/)\n",
        "\n",
        "* [Trapped Priors As A Basic Problem Of Rationality](https://astralcodexten.substack.com/p/trapped-priors-as-a-basic-problem)\n",
        "\n",
        "* [10,000 Hours With Claude Shannon: How A Genius Thinks, Works, and Lives](https://medium.com/the-mission/10-000-hours-with-claude-shannon-12-lessons-on-life-and-learning-from-a-genius-e8b9297bee8f)\n",
        "\n",
        "* [A Scientist’s Mind, a Poet’s Soul](https://www.thenewatlantis.com/publications/a-scientists-mind-a-poets-soul)\n",
        "\n",
        "* [HN: How to Think Clearly?](https://news.ycombinator.com/item?id=24896237)\n",
        "\n",
        "* [Decision-making](https://en.wikipedia.org/wiki/Decision-making)\n",
        "\n",
        "* [List of cognitive biases](https://en.wikipedia.org/wiki/List_of_cognitive_biases)\n",
        "\n",
        "* [Learning curve](https://en.wikipedia.org/wiki/Learning_curve)\n",
        "\n",
        "* [Just-in-time learning](https://en.wikipedia.org/wiki/Just-in-time_learning)\n",
        "\n",
        "* [The architecture of my life](https://blog.nntn.nl/architecture-of-my-life-2021)\n",
        "\n",
        "* [Are some personalities just better?](https://dynomight.net/better-personalities/)\n",
        "\n",
        "* [Augmenting Long-term Memory](http://augmentingcognition.com/ltm.html)\n",
        "\n",
        "* [Goals vs. Systems](https://www.scottadamssays.com/2013/11/18/goals-vs-systems/)\n",
        "\n",
        "* [Five Percent Better: The Compounding of Consistent Incremental Progress](https://fs.blog/2016/03/five-percent-better/)\n",
        "\n",
        "* [Don't End The Week With Nothing](https://training.kalzumeus.com/newsletters/archive/do-not-end-the-week-with-nothing)\n",
        "\n",
        "* [When to Copy Ideas, When to Steal Ideas](https://davnicwil.com/when-to-copy-ideas-when-to-steal-ideas/)\n",
        "\n",
        "* [Soft skills](https://es.wikipedia.org/wiki/Soft_skills)\n",
        "\n",
        "* [Five whys](https://en.wikipedia.org/wiki/Five_whys)\n",
        "\n",
        "* [5 second feedback](https://critter.blog/2020/11/26/5-second-feedback/)\n",
        "\n",
        "* [Heuristic](https://en.wikipedia.org/wiki/Heuristic)\n"
      ]
    },
    {
      "cell_type": "markdown",
      "metadata": {
        "id": "ENmQ-ynv3wRS"
      },
      "source": [
        "* [Alegoría](https://es.wikipedia.org/wiki/Alegor%C3%ADa)\n",
        "\n",
        "* [Session:](https://www.etymonline.com/word/session) Periodo apartado para cierta actividad.\n",
        "\n",
        "* [Rhetorical question](https://en.wikipedia.org/wiki/Rhetorical_question)\n",
        "\n",
        "* [Critical Mass and Tipping Points: How To Identify Inflection Points Before They Happen](https://fs.blog/2017/07/critical-mass/)\n",
        "\n",
        "* [Critical mass (sociodynamics)](https://en.wikipedia.org/wiki/Critical_mass_(sociodynamics))\n",
        "\n",
        "* (D) [15 pieces of advice I wish my PhD advisor had given me](http://0.0.0.0:8000/5%20Ciencia/Articulos/15%20pieces%20of%20advice%20I%20wish%20my%20PhD%20advisor%20had%20given%20me.pdf)\n",
        "\n",
        "* (D) [Gestalt principles (Part 1)](http://0.0.0.0:8000/5%20Ciencia/Articulos/Gestalt%20principles%20%28Part%201%29.pdf)\n",
        "\n",
        "* (D) [Gestalt principles (Part 2)](http://0.0.0.0:8000/5%20Ciencia/Articulos/Gestalt%20principles%20%28Part%202%29.pdf)\n",
        "\n",
        "* (D) [How To Choose a Good Scientific Problem](http://0.0.0.0:8000/5%20Ciencia/Articulos/How%20To%20Choose%20a%20Good%20Scientific%20Problem.pdf)\n",
        "\n",
        "* (D) [On the Process of Becoming a Great Scientist](http://0.0.0.0:8000/5%20Ciencia/Articulos/On%20the%20Process%20of%20Becoming%20a%20Great%20Scientist.pdf)\n",
        "\n",
        "* (D) [Ten Simple Rules for Doing Your Best Research, According to Hamming](http://0.0.0.0:8000/5%20Ciencia/Articulos/Ten%20Simple%20Rules%20for%20Doing%20Your%20Best%20Research%2C%20According%20to%20Hamming.PDF)\n",
        "\n",
        "* [Signal](https://en.wikipedia.org/wiki/Signal)\n",
        "\n",
        "* [Survivorship bias](https://en.wikipedia.org/wiki/Abraham_Wald)\n",
        "\n",
        "* [A Philosophical Notebook, by Nassim Nicholas Taleb](https://www.fooledbyrandomness.com/notebook.htm)\n",
        "\n",
        "* [Peter Thiel’s Religion](https://perell.com/essay/peter-thiel/)\n",
        "\n",
        "* [How to Think: The Skill You’ve Never Been Taught](https://fs.blog/2015/08/how-to-think/)\n",
        "\n",
        "* [Sapir-Whorf Hypothesis](http://zimmer.csufresno.edu/~johnca/spch100/4-9-sapir.htm)\n",
        "\n",
        "* [Beginner’s Guide to Mechanical Keyboards](https://coolgadget.substack.com/p/beginners-guide-to-mechanical-keyboards)\n",
        "\n",
        "* [Abstraction](https://en.wikipedia.org/wiki/Abstraction)\n",
        "\n",
        "* [Heuristic](https://en.wikipedia.org/wiki/Heuristic)\n",
        "\n",
        "* [Cognition](https://en.wikipedia.org/wiki/Cognition)\n",
        "\n",
        "* [Theory of mind](https://en.wikipedia.org/wiki/Theory_of_mind)\n",
        "\n",
        "* [Adding is favoured over subtracting in problem solving](https://www.nature.com/articles/d41586-021-00592-0)\n",
        "\n",
        "* [Bean Machine](https://en.wikipedia.org/wiki/Bean_machine)\n",
        "\n",
        "* [The Six Levels of Interaction with a System](https://www.charlieharrington.com/the-six-levels-of-interaction-with-a-system)\n",
        "\n",
        "* [Ludic fallacy](https://en.wikipedia.org/wiki/Ludic_fallacy)\n",
        "\n",
        "* (D)[The Skeptic and the Dogmatist.pdf](http://0.0.0.0:8000/6%20Otros/Articulos/The%20Skeptic%20and%20the%20Dogmatist.pdf)\n",
        "\n",
        "* [Case method](https://en.wikipedia.org/wiki/Case_method)\n",
        "\n",
        "* [Argument map](https://en.wikipedia.org/wiki/Argument_map)\n",
        "\n",
        "* [Book Review: Antifragile](https://astralcodexten.substack.com/p/book-review-antifragile)\n",
        "\n",
        "* [More Antifragile, Diversity Libertarianism, And Corporate Censorship](https://astralcodexten.substack.com/p/more-antifragile-diversity-libertarianism)\n",
        "\n",
        "* [Gaze heuristic](https://en.wikipedia.org/wiki/Gaze_heuristic)\n",
        "\n",
        "* [Gestalt psychology](https://en.wikipedia.org/wiki/Gestalt_psychology)\n",
        "\n",
        "* [Galimatías](https://es.wikipedia.org/wiki/Galimat%C3%ADas)\n",
        "\n",
        "* [Experience curve effects](https://en.wikipedia.org/wiki/Experience_curve_effects)\n",
        "\n",
        "* [Feedback](https://en.wikipedia.org/wiki/Feedback)\n",
        "\n",
        "* [Cybernetics](https://en.wikipedia.org/wiki/Cybernetics)\n",
        "\n",
        "* [Cynefin framework](https://en.wikipedia.org/wiki/Cynefin_framework)\n",
        "\n",
        "* [Delphi method](https://en.wikipedia.org/wiki/Delphi_method)\n",
        "\n",
        "* [Barbell strategy](https://en.wikipedia.org/wiki/Barbell_strategy)\n",
        "\n",
        "* [Using Artificial Intelligence to Augment Human Intelligence](https://distill.pub/2017/aia/)\n",
        "\n",
        "* [Homoiconicity](https://en.wikipedia.org/wiki/Homoiconicity)\n",
        "\n",
        "* [Homophily](https://en.wikipedia.org/wiki/Homophily)\n",
        "\n",
        "* [Enterprise resource planning](https://en.wikipedia.org/wiki/Enterprise_resource_planning)\n",
        "\n",
        "* [Wicked problem](https://en.wikipedia.org/wiki/Wicked_problem)\n",
        "\n",
        "* [Incremental search](https://en.wikipedia.org/wiki/Incremental_search)\n",
        "\n",
        "* [Information bottleneck method](https://en.wikipedia.org/wiki/Information_bottleneck_method)\n",
        "\n",
        "* [Interactive whiteboard](https://en.wikipedia.org/wiki/Interactive_whiteboard)\n",
        "\n",
        "* [Inverse problem](https://en.wikipedia.org/wiki/Inverse_problem)\n",
        "\n",
        "* [Jailbreaking](https://en.wikipedia.org/wiki/IOS_jailbreaking)\n",
        "\n",
        "* [Joukowsky transform](https://en.wikipedia.org/wiki/Joukowsky_transform)\n",
        "\n",
        "* [Judge–advisor system](https://en.wikipedia.org/wiki/Judge%E2%80%93advisor_system)\n",
        "\n",
        "* [Lectio Divina](https://en.wikipedia.org/wiki/Lectio_Divina)\n",
        "\n",
        "* [Negative feedback](https://en.wikipedia.org/wiki/Negative_feedback)\n",
        "\n",
        "* [Ora et labora](https://es.wikipedia.org/wiki/Ora_et_labora)\n",
        "\n",
        "* [Outline of thought](https://en.wikipedia.org/wiki/Outline_of_thought)\n",
        "\n",
        "* [Thought](https://en.wikipedia.org/wiki/Thought)\n",
        "\n",
        "* [Technological stagnation Why I came around](https://rootsofprogress.org/technological-stagnation)\n",
        "\n",
        "* [Teleology](https://en.wikipedia.org/wiki/Teleology)\n",
        "\n",
        "* [The High Price of Mistrust](https://fs.blog/2021/01/mistrust/)\n",
        "\n",
        "* [The Tyranny of Stuctureless](https://www.jofreeman.com/joreen/tyranny.htm)\n",
        "\n",
        "* [Opportunity Cost](https://www.investopedia.com/terms/o/opportunitycost.asp)\n",
        "\n",
        "* [Ugly duckling theorem](https://en.wikipedia.org/wiki/Ugly_duckling_theorem)\n",
        "\n",
        "* [Animated Engines](http://animatedengines.com/)\n",
        "\n",
        "* [Information](https://en.wikipedia.org/wiki/Information)"
      ]
    }
  ]
}
