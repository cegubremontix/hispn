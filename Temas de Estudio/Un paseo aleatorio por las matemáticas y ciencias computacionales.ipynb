{
  "nbformat": 4,
  "nbformat_minor": 0,
  "metadata": {
    "colab": {
      "name": "Un paseo aleatorio por las matemáticas y ciencias computacionales.ipynb",
      "provenance": [],
      "collapsed_sections": [],
      "toc_visible": true,
      "include_colab_link": true
    },
    "kernelspec": {
      "name": "python3",
      "display_name": "Python 3"
    },
    "language_info": {
      "name": "python"
    }
  },
  "cells": [
    {
      "cell_type": "markdown",
      "metadata": {
        "id": "view-in-github",
        "colab_type": "text"
      },
      "source": [
        "<a href=\"https://colab.research.google.com/github/dbremont/Notas/blob/main/Temas%20de%20Estudio/Un%20paseo%20aleatorio%20por%20las%20matem%C3%A1ticas%20y%20ciencias%20computacionales.ipynb\" target=\"_parent\"><img src=\"https://colab.research.google.com/assets/colab-badge.svg\" alt=\"Open In Colab\"/></a>"
      ]
    },
    {
      "cell_type": "markdown",
      "metadata": {
        "id": "Hk8CSjBXTncd"
      },
      "source": [
        "# Cursos\n",
        "\n"
      ]
    },
    {
      "cell_type": "markdown",
      "metadata": {
        "id": "U85k_g7HHMzD"
      },
      "source": [
        "- Todo cuales son los temas de estudio en los cuales estoy interesado?.\n",
        "\n",
        "- Computation."
      ]
    },
    {
      "cell_type": "markdown",
      "metadata": {
        "id": "hshxsdbsYpBJ"
      },
      "source": [
        "* [Contest Math II](https://brilliant.org/courses/ace-the-amc/)\n",
        "\n",
        "* [Mathematics for Computer Science](https://ocw.mit.edu/courses/electrical-engineering-and-computer-science/6-042j-mathematics-for-computer-science-fall-2010/)\n",
        "\n",
        "* [Introduction to numerical analysis](https://www.coursera.org/learn/intro-to-numerical-analysis)"
      ]
    },
    {
      "cell_type": "markdown",
      "metadata": {
        "id": "_DQfWAC_Ytdp"
      },
      "source": [
        "* [Simulation and modeling of natural processes](https://www.coursera.org/learn/modeling-simulation-natural-processes)\n",
        "\n",
        "* [Introduction to Dynamical Systems and Chaos](https://www.complexityexplorer.org/courses/120-introduction-to-dynamical-systems-and-chaos)"
      ]
    },
    {
      "cell_type": "markdown",
      "metadata": {
        "id": "zeVrKxq-Y3B5"
      },
      "source": [
        "* [Mathematical and Computational Methods](https://learning.edx.org/course/course-v1:GeorgetownX+PHYS-155+3T2020/home)"
      ]
    },
    {
      "cell_type": "markdown",
      "metadata": {
        "id": "mvH9eGCiIVJO"
      },
      "source": [
        "* [Computer Science Fundamentals](https://brilliant.org/courses/computer-science-essentials/)\n",
        "\n",
        "* [Algorithm Fundamentals](https://brilliant.org/courses/computer-science-algorithms/)\n",
        "\n",
        "* [Data Structures](https://brilliant.org/courses/computer-science-fundamentals/)\n",
        "\n",
        "* [6-006 Introduction to Algorithms](https://ocw.mit.edu/courses/electrical-engineering-and-computer-science/6-006-introduction-to-algorithms-fall-2011)\n",
        "\n",
        "* [Data Structure and Algithtms using Java](https://nptel.ac.in/courses/106/105/106105225/)\n",
        "\n",
        "* [Design of Computer Programs](https://www.udacity.com/course/design-of-computer-programs--cs212)"
      ]
    }
  ]
}