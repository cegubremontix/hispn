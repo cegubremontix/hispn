{
  "nbformat": 4,
  "nbformat_minor": 0,
  "metadata": {
    "colab": {
      "name": "Un paseo aleatorio por las matemáticas y ciencias computacionales.ipynb",
      "provenance": [],
      "collapsed_sections": [],
      "authorship_tag": "ABX9TyPNv7SDFRixTChZssE/zvHN",
      "include_colab_link": true
    },
    "kernelspec": {
      "name": "python3",
      "display_name": "Python 3"
    },
    "language_info": {
      "name": "python"
    }
  },
  "cells": [
    {
      "cell_type": "markdown",
      "metadata": {
        "id": "view-in-github",
        "colab_type": "text"
      },
      "source": [
        "<a href=\"https://colab.research.google.com/github/dbremont/Notas/blob/main/Temas%20de%20Estudio/Un%20paseo%20aleatorio%20por%20las%20matem%C3%A1ticas%20y%20ciencias%20computacionales.ipynb\" target=\"_parent\"><img src=\"https://colab.research.google.com/assets/colab-badge.svg\" alt=\"Open In Colab\"/></a>"
      ]
    },
    {
      "cell_type": "markdown",
      "metadata": {
        "id": "Hk8CSjBXTncd"
      },
      "source": [
        "# Cursos\n",
        "\n"
      ]
    },
    {
      "cell_type": "markdown",
      "metadata": {
        "id": "g7RJz60eYm2Y"
      },
      "source": [
        "## Problem Solving"
      ]
    },
    {
      "cell_type": "markdown",
      "metadata": {
        "id": "hshxsdbsYpBJ"
      },
      "source": [
        "* [Contest Math I](https://brilliant.org/courses/math-competition-fundamentals/)\n",
        "\n",
        "* [Contest Math II](https://brilliant.org/courses/ace-the-amc/)"
      ]
    },
    {
      "cell_type": "markdown",
      "metadata": {
        "id": "ICg2YITPYq7c"
      },
      "source": [
        "## Computational"
      ]
    },
    {
      "cell_type": "markdown",
      "metadata": {
        "id": "_DQfWAC_Ytdp"
      },
      "source": [
        "* [Computational Thinking in Julia](https://computationalthinking.mit.edu/Fall20/)\n",
        "\n",
        "* [18.S191 Introduction to Computational Thinking](https://ocw.mit.edu/courses/mathematics/18-s191-introduction-to-computational-thinking-fall-2020/)\n",
        "\n",
        "* [18.337J/6.338J: Parallel Computing and Scientific Machine Learning](https://mitmath.github.io/18337/)\n",
        "\n",
        "* [Simulation and modeling of natural processes](https://www.coursera.org/learn/modeling-simulation-natural-processes)\n",
        "\n",
        "* [Statistical Mechanics: Algorithms and Computations](https://www.coursera.org/learn/statistical-mechanics)\n",
        "\n",
        "* [Boltzmann Law: Physics to Computing](https://www.edx.org/es/course/boltzmann-law-physics-to-computing)"
      ]
    },
    {
      "cell_type": "markdown",
      "metadata": {
        "id": "_yuZQ6FvYzaq"
      },
      "source": [
        "## Math and Computation"
      ]
    },
    {
      "cell_type": "markdown",
      "metadata": {
        "id": "zeVrKxq-Y3B5"
      },
      "source": [
        "* [Mathematical and Computational Methods](https://learning.edx.org/course/course-v1:GeorgetownX+PHYS-155+3T2020/home)\n",
        "\n",
        "* [Computational Science and Engineering I](https://ocw.mit.edu/courses/mathematics/18-085-computational-science-and-engineering-i-fall-2008/)\n",
        "\n",
        "* [Mathematical Decision Making: Predictive Models and Optimization](https://www.thegreatcoursesplus.com/mathematical-decision-making-predictive-models-and-optimization)\n",
        "\n",
        "* [Mathematical Modeling and Simulation](https://www.youtube.com/playlist?list=PLKR57ZbLAFd7qx7Liej3UIZLuMGO07nj0)"
      ]
    },
    {
      "cell_type": "markdown",
      "metadata": {
        "id": "VzmUrl2EZDpd"
      },
      "source": [
        "## Complexity"
      ]
    },
    {
      "cell_type": "markdown",
      "metadata": {
        "id": "1KMPy36sDhMK"
      },
      "source": [
        "* [Introduction to Complexity](https://www.complexityexplorer.org/courses/119-introduction-to-complexity)\n",
        "\n",
        "* [Computation in Complex Systems](https://www.complexityexplorer.org/courses/99-computation-in-complex-systems-summer-2020)\n",
        "\n",
        "* [Introduction to Renormalization](https://www.complexityexplorer.org/courses/67-introduction-to-renormalization)\n",
        "\n",
        "* [Nonlinear Dynamics: Mathematical and Computational Approaches](https://www.complexityexplorer.org/courses/115-nonlinear-dynamics-mathematical-and-computational-approaches)\n",
        "\n",
        "\n"
      ]
    },
    {
      "cell_type": "markdown",
      "metadata": {
        "id": "6_vTy1I5ZMCL"
      },
      "source": [
        "## Otros"
      ]
    },
    {
      "cell_type": "markdown",
      "metadata": {
        "id": "BUGv8sH2ZN8t"
      },
      "source": [
        "* [The Nature of Mathematical Modeling](https://fab.cba.mit.edu/classes/864.20/index.html)\n",
        "\n",
        "* [The Hidden Factor: Why Thinking Differently Is Your Greatest Asset](https://www.thegreatcoursesplus.com/the-hidden-factor-why-thinking-differently-is-your-greatest-asset)\n",
        "\n",
        "* [Model Thinking](https://colab.research.google.com/github/dbremont/Notas/blob/main/Libros/Matematicas/The%20Model%20Thinker.ipynb)\n",
        "\n",
        "* [The Finite Element Method for Problems in Physics](https://www.coursera.org/learn/finite-element-method)\n",
        "\n",
        "* [Math for Quantitative Finance](https://brilliant.org/courses/math-quantitative-finance/)\n",
        "\n",
        "* [EE364A - Convex Optimization I](https://see.stanford.edu/Course/EE364A)\n",
        "\n",
        "* [EE364B - Convex Optimization II](https://see.stanford.edu/Course/EE364B)\n",
        "\n",
        "* [Stanford Online - Convex Optimization](https://learning.edx.org/course/course-v1:StanfordOnline+SOE-YCVX0001+1T2020/home)\n",
        "\n",
        "* [EE263 - Introduction to Linear Dynamical Systems](https://see.stanford.edu/Course/EE263)"
      ]
    }
  ]
}