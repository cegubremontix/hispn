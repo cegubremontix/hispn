{
  "nbformat": 4,
  "nbformat_minor": 0,
  "metadata": {
    "colab": {
      "name": "Un paseo aleatorio por las matemáticas y ciencias computacionales.ipynb",
      "provenance": [],
      "collapsed_sections": [],
      "toc_visible": true,
      "authorship_tag": "ABX9TyNq6Dh0yVxjnvt92j2XjJNr",
      "include_colab_link": true
    },
    "kernelspec": {
      "name": "python3",
      "display_name": "Python 3"
    },
    "language_info": {
      "name": "python"
    }
  },
  "cells": [
    {
      "cell_type": "markdown",
      "metadata": {
        "id": "view-in-github",
        "colab_type": "text"
      },
      "source": [
        "<a href=\"https://colab.research.google.com/github/dbremont/Notas/blob/main/Temas%20de%20Estudio/Un%20paseo%20aleatorio%20por%20las%20matem%C3%A1ticas%20y%20ciencias%20computacionales.ipynb\" target=\"_parent\"><img src=\"https://colab.research.google.com/assets/colab-badge.svg\" alt=\"Open In Colab\"/></a>"
      ]
    },
    {
      "cell_type": "markdown",
      "metadata": {
        "id": "Hk8CSjBXTncd"
      },
      "source": [
        "# Cursos\n",
        "\n"
      ]
    },
    {
      "cell_type": "markdown",
      "metadata": {
        "id": "U85k_g7HHMzD"
      },
      "source": [
        "- Todo cuales son los temas de estudio en los cuales estoy interesado?.\n",
        "\n",
        "- Computation."
      ]
    },
    {
      "cell_type": "markdown",
      "metadata": {
        "id": "hshxsdbsYpBJ"
      },
      "source": [
        "* [Contest Math I](https://brilliant.org/courses/math-competition-fundamentals/)\n",
        "\n",
        "* [Contest Math II](https://brilliant.org/courses/ace-the-amc/)\n",
        "\n",
        "* [The Nature of Mathematical Modeling](https://fab.cba.mit.edu/classes/864.20/index.html)\n",
        "\n",
        "* [Essential Mathematics for Machine Learning](https://nptel.ac.in/courses/111/107/111107137/#)"
      ]
    },
    {
      "cell_type": "markdown",
      "metadata": {
        "id": "iKpCknkKH_wZ"
      },
      "source": [
        "* [Design of Computer Programs](https://www.udacity.com/course/design-of-computer-programs--cs212)\n",
        "\n",
        "* [The Joy of Computing with Python](https://nptel.ac.in/courses/106/106/106106182/)"
      ]
    },
    {
      "cell_type": "markdown",
      "metadata": {
        "id": "_DQfWAC_Ytdp"
      },
      "source": [
        "* [Simulation and modeling of natural processes](https://www.coursera.org/learn/modeling-simulation-natural-processes)\n",
        "\n",
        "* [Computational Mathematics using SageMath](https://nptel.ac.in/courses/111/106/111106149/)"
      ]
    },
    {
      "cell_type": "markdown",
      "metadata": {
        "id": "zeVrKxq-Y3B5"
      },
      "source": [
        "* [Mathematical and Computational Methods](https://learning.edx.org/course/course-v1:GeorgetownX+PHYS-155+3T2020/home)\n",
        "\n",
        "* [Computational Science and Engineering I](https://ocw.mit.edu/courses/mathematics/18-085-computational-science-and-engineering-i-fall-2008/)\n",
        "\n",
        "* [Mathematical Decision Making: Predictive Models and Optimization](https://www.thegreatcoursesplus.com/mathematical-decision-making-predictive-models-and-optimization)\n",
        "\n",
        "* [Mathematical Modeling and Simulation](https://www.youtube.com/playlist?list=PLKR57ZbLAFd7qx7Liej3UIZLuMGO07nj0)\n",
        "\n",
        "* [Mathematical Modelling Basics](https://www.edx.org/es/course/mathematical-modelling-basics)"
      ]
    },
    {
      "cell_type": "markdown",
      "metadata": {
        "id": "1KMPy36sDhMK"
      },
      "source": [
        "* [Computation in Complex Systems](https://www.complexityexplorer.org/courses/99-computation-in-complex-systems-summer-2020)"
      ]
    },
    {
      "cell_type": "markdown",
      "metadata": {
        "id": "BUGv8sH2ZN8t"
      },
      "source": [
        "* [The Hidden Factor: Why Thinking Differently Is Your Greatest Asset](https://www.thegreatcoursesplus.com/the-hidden-factor-why-thinking-differently-is-your-greatest-asset)\n",
        "\n",
        "* [Model Thinking](https://colab.research.google.com/github/dbremont/Notas/blob/main/Libros/Matematicas/The%20Model%20Thinker.ipynb)\n",
        "\n",
        "* [Math for Quantitative Finance](https://brilliant.org/courses/math-quantitative-finance/)"
      ]
    }
  ]
}