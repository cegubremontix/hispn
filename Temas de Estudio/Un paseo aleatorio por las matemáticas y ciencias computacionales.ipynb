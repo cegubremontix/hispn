{
  "nbformat": 4,
  "nbformat_minor": 0,
  "metadata": {
    "colab": {
      "name": "Un paseo aleatorio por las matemáticas y ciencias computacionales.ipynb",
      "provenance": [],
      "collapsed_sections": [],
      "toc_visible": true,
      "authorship_tag": "ABX9TyO4yCdR/7VOlBsEguETqMMr",
      "include_colab_link": true
    },
    "kernelspec": {
      "name": "python3",
      "display_name": "Python 3"
    },
    "language_info": {
      "name": "python"
    }
  },
  "cells": [
    {
      "cell_type": "markdown",
      "metadata": {
        "id": "view-in-github",
        "colab_type": "text"
      },
      "source": [
        "<a href=\"https://colab.research.google.com/github/dbremont/Notas/blob/main/Temas%20de%20Estudio/Un%20paseo%20aleatorio%20por%20las%20matem%C3%A1ticas%20y%20ciencias%20computacionales.ipynb\" target=\"_parent\"><img src=\"https://colab.research.google.com/assets/colab-badge.svg\" alt=\"Open In Colab\"/></a>"
      ]
    },
    {
      "cell_type": "markdown",
      "metadata": {
        "id": "Hk8CSjBXTncd"
      },
      "source": [
        "# Cursos\n",
        "\n"
      ]
    },
    {
      "cell_type": "markdown",
      "metadata": {
        "id": "U85k_g7HHMzD"
      },
      "source": [
        "- Todo cuales son los temas de estudio en los cuales estoy interesado?.\n",
        "\n",
        "- Computation."
      ]
    },
    {
      "cell_type": "markdown",
      "metadata": {
        "id": "hshxsdbsYpBJ"
      },
      "source": [
        "* [Contest Math I](https://brilliant.org/courses/math-competition-fundamentals/)\n",
        "\n",
        "* [Contest Math II](https://brilliant.org/courses/ace-the-amc/)"
      ]
    },
    {
      "cell_type": "markdown",
      "metadata": {
        "id": "_DQfWAC_Ytdp"
      },
      "source": [
        "* [Simulation and modeling of natural processes](https://www.coursera.org/learn/modeling-simulation-natural-processes)"
      ]
    },
    {
      "cell_type": "markdown",
      "metadata": {
        "id": "zeVrKxq-Y3B5"
      },
      "source": [
        "* [Mathematical and Computational Methods](https://learning.edx.org/course/course-v1:GeorgetownX+PHYS-155+3T2020/home)\n",
        "\n",
        "* [Mathematical Modeling and Simulation](https://www.youtube.com/embed/playlist?list=PLKR57ZbLAFd7qx7Liej3UIZLuMGO07nj0)"
      ]
    },
    {
      "cell_type": "markdown",
      "metadata": {
        "id": "1KMPy36sDhMK"
      },
      "source": [
        "* [Computation in Complex Systems](https://www.complexityexplorer.org/courses/99-computation-in-complex-systems-summer-2020)\n",
        "\n",
        "* [Introduction to Complexity](https://www.complexityexplorer.org/courses/119-introduction-to-complexity)\n",
        "\n",
        "* [Origins Of Life](https://www.complexityexplorer.org/courses/103-origins-of-life-summer-2020)\n",
        "\n",
        "* [Introduction to Dynamical Systems and Chaos](https://www.complexityexplorer.org/courses/120-introduction-to-dynamical-systems-and-chaos)"
      ]
    },
    {
      "cell_type": "markdown",
      "metadata": {
        "id": "BUGv8sH2ZN8t"
      },
      "source": [
        "* [Model Thinking](https://colab.research.google.com/github/dbremont/Notas/blob/main/Libros/Matematicas/The%20Model%20Thinker.ipynb)"
      ]
    }
  ]
}