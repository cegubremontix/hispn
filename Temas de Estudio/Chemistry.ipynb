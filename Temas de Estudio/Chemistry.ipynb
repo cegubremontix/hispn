{
  "nbformat": 4,
  "nbformat_minor": 0,
  "metadata": {
    "colab": {
      "name": "Chemistry.ipynb",
      "provenance": [],
      "collapsed_sections": [],
      "authorship_tag": "ABX9TyNW8GvM4rBRpyHWB6zpriGP",
      "include_colab_link": true
    },
    "kernelspec": {
      "name": "python3",
      "display_name": "Python 3"
    }
  },
  "cells": [
    {
      "cell_type": "markdown",
      "metadata": {
        "id": "view-in-github",
        "colab_type": "text"
      },
      "source": [
        "<a href=\"https://colab.research.google.com/github/dbremont/Notas/blob/main/Temas%20de%20Estudio/Chemistry.ipynb\" target=\"_parent\"><img src=\"https://colab.research.google.com/assets/colab-badge.svg\" alt=\"Open In Colab\"/></a>"
      ]
    },
    {
      "cell_type": "markdown",
      "metadata": {
        "id": "86Ht8Ld64Yp9"
      },
      "source": [
        "# Principles of Chemical Science\n",
        "\n",
        "- [List of unsolved problems in chemistry](https://en.wikipedia.org/wiki/List_of_unsolved_problems_in_chemistry)\n"
      ]
    },
    {
      "cell_type": "markdown",
      "metadata": {
        "id": "mZJ_Bailb6SI"
      },
      "source": [
        "## Brilliant"
      ]
    },
    {
      "cell_type": "markdown",
      "metadata": {
        "id": "BU8bG5rdb7_G"
      },
      "source": [
        "* [The Chemical Reaction](https://brilliant.org/courses/chemical-reaction/)"
      ]
    },
    {
      "cell_type": "markdown",
      "metadata": {
        "id": "v0YRg9bPb81u"
      },
      "source": [
        "## MIT OCW"
      ]
    },
    {
      "cell_type": "markdown",
      "metadata": {
        "id": "wkNGshYoXWMn"
      },
      "source": [
        "* [5-111 Principles of Chemical Science](https://ocw.mit.edu/courses/chemistry/5-111sc-principles-of-chemical-science-fall-2014/)\n",
        "\n",
        "* [3.091 Introduction to Solid-State Chemistry](https://ocw.mit.edu/courses/materials-science-and-engineering/3-091-introduction-to-solid-state-chemistry-fall-2018/)\n",
        "\n",
        "* [5-61 Physical Chemistry](https://ocw.mit.edu/courses/chemistry/5-61-physical-chemistry-fall-2017/)\n",
        "\n",
        "\n",
        "\n"
      ]
    }
  ]
}