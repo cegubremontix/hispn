{
  "nbformat": 4,
  "nbformat_minor": 0,
  "metadata": {
    "colab": {
      "name": "Historia.ipynb",
      "provenance": [],
      "collapsed_sections": [],
      "toc_visible": true,
      "include_colab_link": true
    },
    "kernelspec": {
      "name": "python3",
      "display_name": "Python 3"
    },
    "language_info": {
      "name": "python"
    }
  },
  "cells": [
    {
      "cell_type": "markdown",
      "metadata": {
        "id": "view-in-github",
        "colab_type": "text"
      },
      "source": [
        "<a href=\"https://colab.research.google.com/github/dbremont/Notas/blob/main/Temas%20de%20Estudio/Historia.ipynb\" target=\"_parent\"><img src=\"https://colab.research.google.com/assets/colab-badge.svg\" alt=\"Open In Colab\"/></a>"
      ]
    },
    {
      "cell_type": "markdown",
      "metadata": {
        "id": "1HBaL_9vkJtl"
      },
      "source": [
        "# Historia"
      ]
    },
    {
      "cell_type": "markdown",
      "metadata": {
        "id": "fw1YlSZIkDoV"
      },
      "source": [
        "## Recursos Primarios"
      ]
    },
    {
      "cell_type": "markdown",
      "metadata": {
        "id": "p3t7Q5nKkGVs"
      },
      "source": [
        "[Elegia Criolla - Una reinterpretacion de las guerras de independencia hispanoamericanas](https://colab.research.google.com/github/dbremont/Notas/blob/main/Libros/Otros/Elegia%20Criolla%20-%20Una%20reinterpretacion%20de%20las%20guerras%20de%20independencia%20hispanoamericanas.ipynb)\n",
        "\n",
        "[La disputa del pasado: España, México y la leyenda negra](https://colab.research.google.com/github/dbremont/Notas/blob/main/Libros/Otros/La_disputa_del_pasado_Espa%C3%B1a%2C_M%C3%A9xico_y_la_leyenda_negra.ipynb)\n",
        "\n",
        "[La Sociedad Novohispana](https://colab.research.google.com/github/dbremont/Notas/blob/main/Libros/Otros/La%20Sociedad%20Novohispana.ipynb)\n",
        "\n",
        "[Republicas Urbanas En Una Monarquia Imperial](https://colab.research.google.com/github/dbremont/Notas/blob/main/Libros/Otros/Republicas%20Urbanas%20En%20Una%20Monarquia%20Imperial.ipynb)\n",
        "\n",
        "[Jorge Juan y Santacilia](https://en.wikipedia.org/wiki/Jorge_Juan_y_Santacilia)"
      ]
    },
    {
      "cell_type": "markdown",
      "metadata": {
        "id": "3rei8p6IkGwj"
      },
      "source": [
        "## Recursos Secundarios"
      ]
    },
    {
      "cell_type": "markdown",
      "metadata": {
        "id": "wyiHQQl0kJLd"
      },
      "source": [
        "[The Rise and Fall of Complex Societies](https://sas.utmn.ru/en/open-course-the-rise-and-fall-of-complex-societies-en)\n",
        "\n",
        "[Junker (Prussia)](https://en.wikipedia.org/wiki/Junker_(Prussia))\n",
        "\n",
        "[Prussian Army](https://en.wikipedia.org/wiki/Prussian_Army)\n",
        "\n",
        "[Mandate of Heaven](https://en.wikipedia.org/wiki/Mandate_of_Heaven)\n",
        "\n",
        "[Imperial Russia, 1689-1917](https://www.youtube.com/playlist?list=PLEETkM6vwQPHJHhXinsuQN7jahEjbUPPY)\n",
        "\n",
        "[Amadís de Gaula](https://es.wikipedia.org/wiki/Amad%C3%ADs_de_Gaula)\n",
        "\n",
        "[Complex Systems Theory, Sustainability, and Innovation](https://sustainability-innovation.asu.edu/media/wrigley-lecture-series/complex-systems-theory/)"
      ]
    },
    {
      "cell_type": "markdown",
      "metadata": {
        "id": "5vnDUQVnDiu2"
      },
      "source": [
        "## Imperio Romana de Oriente\n",
        "[Byzantine Empire](https://en.wikipedia.org/wiki/Byzantine_Empire)\n"
      ]
    },
    {
      "cell_type": "markdown",
      "metadata": {
        "id": "zdx3Zdu3KSjM"
      },
      "source": [
        "- Justinian I and Theodora\n",
        "- Prekopios (The Secret History)\n",
        "- Leon the Deacon\n",
        "- Varanguian Guard\n",
        "- Serb means \"slaves\" in the language of the Romans."
      ]
    },
    {
      "cell_type": "markdown",
      "metadata": {
        "id": "eNvOthAunAUy"
      },
      "source": [
        "**Byzantine or Romanion Emperors**\n",
        "\n",
        "[Fuente](https://www.unrv.com/government/byzantine.php)"
      ]
    },
    {
      "cell_type": "code",
      "metadata": {
        "id": "hX7hXfCN5Z0-"
      },
      "source": [
        "import pandas as pd"
      ],
      "execution_count": null,
      "outputs": []
    },
    {
      "cell_type": "code",
      "metadata": {
        "id": "nn3zGEhZ5b1k"
      },
      "source": [
        "# filename = \"eastromanemperor.tab\"\n",
        "filename = \"https://raw.githubusercontent.com/dbremont/Notas/main/Data/eastromanemperor.tab\"\n",
        "dt = pd.read_csv(filename, sep='|')"
      ],
      "execution_count": null,
      "outputs": []
    },
    {
      "cell_type": "code",
      "metadata": {
        "id": "4jzQJX8Y5dZ-"
      },
      "source": [
        "def parseYears(strTerms):\n",
        "    \"\"\"\n",
        "    @strTerms: list of terms\n",
        "    \"\"\"\n",
        "    \n",
        "    assert type(strTerms) == str\n",
        "    \n",
        "    terms  = strTerms.rstrip().lstrip().split(',')\n",
        "    \n",
        "    lreturn  = []\n",
        "    \n",
        "    for term in terms:\n",
        "        years  =  term.split(\"-\")\n",
        "        years  = [y.rstrip().lstrip() for y in years if y.rstrip().lstrip().isnumeric()]\n",
        "    \n",
        "        print(years)\n",
        "    \n",
        "        if len(years) == 1:\n",
        "            lreturn.append(1)\n",
        "        elif len(years) == 2:\n",
        "            diff  = int(years[1]) - int(years[0])\n",
        "            lreturn.append(abs(diff))\n",
        "        else:\n",
        "            lreturn.append(y)\n",
        "    return sum(lreturn);"
      ],
      "execution_count": null,
      "outputs": []
    },
    {
      "cell_type": "code",
      "metadata": {
        "id": "pQObR9f15gp1",
        "colab": {
          "base_uri": "https://localhost:8080/",
          "height": 282
        },
        "outputId": "6f0d5684-2c71-42b5-a8fb-aa95f04d6ebd"
      },
      "source": [
        "dt['Years'].hist()"
      ],
      "execution_count": null,
      "outputs": [
        {
          "output_type": "execute_result",
          "data": {
            "text/plain": [
              "<matplotlib.axes._subplots.AxesSubplot at 0x7f29120a0410>"
            ]
          },
          "metadata": {
            "tags": []
          },
          "execution_count": 4
        },
        {
          "output_type": "display_data",
          "data": {
            "image/png": "[encoded data removed]",
            "text/plain": [
              "<Figure size 432x288 with 1 Axes>"
            ]
          },
          "metadata": {
            "tags": [],
            "needs_background": "light"
          }
        }
      ]
    },
    {
      "cell_type": "markdown",
      "metadata": {
        "id": "GjLvPbQv5k-y"
      },
      "source": [
        "- Finds automatically periods of inestability.\n",
        "- How becomes an emperor:\n",
        "  - Lideres Militares\n",
        "  - Lideres Religiosos\n",
        "  - Personas\n",
        "  "
      ]
    },
    {
      "cell_type": "markdown",
      "metadata": {
        "id": "cyYISvs0PWbJ"
      },
      "source": [
        "- [Harald Hardrada](https://en.wikipedia.org/wiki/Harald_Hardrada)"
      ]
    },
    {
      "cell_type": "markdown",
      "metadata": {
        "id": "Zgmopj5qXMmU"
      },
      "source": [
        "## Articulos"
      ]
    },
    {
      "cell_type": "markdown",
      "metadata": {
        "id": "nQH-Z6-RXN9Y"
      },
      "source": [
        "* https://en.wikipedia.org/wiki/Byzantine_Empire\n",
        "\n",
        "*  https://arstechnica.com/science/2021/07/reconstructing-roman-industrial-engineering/\n",
        "\n",
        "* https://es.wikipedia.org/wiki/Estado_Mayor\n",
        "\n",
        "* https://en.wikipedia.org/wiki/Contract\n",
        "\n",
        "* https://en.wikipedia.org/wiki/Oral_contract\n",
        "\n",
        "* https://es.wikipedia.org/wiki/Manique%C3%ADsmo"
      ]
    }
  ]
}