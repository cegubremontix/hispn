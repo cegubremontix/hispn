{
  "nbformat": 4,
  "nbformat_minor": 0,
  "metadata": {
    "colab": {
      "name": "Historia.ipynb",
      "provenance": [],
      "collapsed_sections": [],
      "toc_visible": true,
      "authorship_tag": "ABX9TyPfUGf3KmoeREaZsCKZD2oM",
      "include_colab_link": true
    },
    "kernelspec": {
      "name": "python3",
      "display_name": "Python 3"
    },
    "language_info": {
      "name": "python"
    }
  },
  "cells": [
    {
      "cell_type": "markdown",
      "metadata": {
        "id": "view-in-github",
        "colab_type": "text"
      },
      "source": [
        "<a href=\"https://colab.research.google.com/github/dbremont/Notas/blob/main/Temas%20de%20Estudio/Historia.ipynb\" target=\"_parent\"><img src=\"https://colab.research.google.com/assets/colab-badge.svg\" alt=\"Open In Colab\"/></a>"
      ]
    },
    {
      "cell_type": "markdown",
      "metadata": {
        "id": "hW1_Cflvbjyc"
      },
      "source": [
        "# Elegia Criolla"
      ]
    },
    {
      "cell_type": "markdown",
      "metadata": {
        "id": "5gAi4LGGbhsO"
      },
      "source": [
        "\n",
        "- No hay guerras de naciones, las naciones no son las cuasas de las guerras de independencia son su consecuencia.\n",
        "   \n",
        "- Son la consecuencia de la disolucion de un orden imperial fracasado.\n",
        "   \n",
        "- Fracasado, por que el monarca renuncio a la corona, el rey dejo de estar (Cuando viaja a bayona). Vacio de estar.\n",
        "   \n",
        "- \"Tradicion Juridica Castellana\" El rey no era dueno del reino sino que no lo tenia en usufructo, asi que no lo podia enajenar.\n",
        "   \n",
        "- Anahuac, Septemtrion.\n",
        "   \n",
        "- Nacion?\n",
        "   \n",
        "- 80% de la plata del mundo en el siglo XVIII provenia del bajio de la nueva espa;a, esas monedas eran de uso legal en china.\n",
        "\n",
        "- El libro de \"Juan Marichal\".\n",
        "\n",
        "- La ciudad de mexico en el siglo XVIII era la mejor ciudad de la monarquia, para eso ver los testimonios de los viajeros de la ciudad de mexico a la peninsula iberica.\n",
        "\n",
        "- America guerra civil, ver los soldados  \"la mayoria nacian en america.\"\n",
        "\n",
        "- Los primeros presidentes de mexico fueron oficiales del ejercito realista. Bataya de Ayacucho, hubos mas chilotas  que peninsulares.\n",
        "\n",
        "-  Por que las guerran civil se ven mal \"por que son guerras de hermanos\".\n",
        "\n",
        "- Los ejercitos realistas y insurgentes eran integrados mayoritariametne por americanos.\n",
        "\n",
        "- Pero en todo occidente hay guerras civiles que generan nuevas entidades politicas, aveces los historiadores ven esto como revoluciones, hay que ver. Los integrantes de la revolucion.\n",
        "\n",
        "- Muchos ven \"minorias retrogradas\" que colapsan, pero en primer lugar hay que explicar como esas minorias retrogradas duran tanto, talvez esas minorias no sean tan minorias.\n",
        "\n",
        "- Cartas Persas \"Despotismo\", Simon Bolivar.\n",
        "\n",
        "- Familia de Bolivar, todos estaban muy ligados al poder, \"El quinto abuelo\". Tio esteban de bolivar \"Secretario del Tribunal de Reino en Madrid\".\n",
        " \n",
        "  - Cuando Bolivar fue a la peninsula iberica formaba parte de los circulos mas cercanos del rei.\n",
        "\n",
        "  -  Los bolivar no podian estar muy alejados del poder.\n",
        "\n",
        "- Bolivar hacia propaganda en tiempos de guerra.\n",
        "\n",
        "- Identidades.\n",
        "\n",
        "- Naciones en el antiguo regimen.\n",
        "\n",
        "- Sujeto de legitimidad era el monarca no la nacion.\n",
        "\n",
        "- En la epoca monderna la nacion es la fuente de legitimidad.\n",
        "\n",
        "- Los estados modernos crean las naciones.\n",
        "\n",
        "- Legitimacion de los estados monarcas o naciones.\n",
        "\n",
        "- Primera Junta de Quito\n",
        "  - Motivos.\n",
        "  - Quien las destrullo.\n",
        "\n",
        "- La nacion de los vizcainos y los monta;eses.\n",
        "\n",
        "- El patriotismo criollo, orgullo de vivir en la nueva espa;a independientemente del origen de colores.\n",
        "\n",
        "- Padre feijo, patria \"mismas leyes\", nacion \"aquelos que tienen el mismo origen sangre y cultura\".\n",
        "\n",
        "- En el antiguo regimen la nacion y la patria no eran sinonimos.\n",
        "\n",
        "- \n",
        "\n",
        "  "
      ]
    }
  ]
}