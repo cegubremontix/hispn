{
  "nbformat": 4,
  "nbformat_minor": 0,
  "metadata": {
    "colab": {
      "name": "Historia.ipynb",
      "provenance": [],
      "collapsed_sections": [],
      "toc_visible": true,
      "authorship_tag": "ABX9TyNoe+OgAn7mog1wDfEF7A8B",
      "include_colab_link": true
    },
    "kernelspec": {
      "name": "python3",
      "display_name": "Python 3"
    },
    "language_info": {
      "name": "python"
    }
  },
  "cells": [
    {
      "cell_type": "markdown",
      "metadata": {
        "id": "view-in-github",
        "colab_type": "text"
      },
      "source": [
        "<a href=\"https://colab.research.google.com/github/dbremont/Notas/blob/main/Temas%20de%20Estudio/Historia.ipynb\" target=\"_parent\"><img src=\"https://colab.research.google.com/assets/colab-badge.svg\" alt=\"Open In Colab\"/></a>"
      ]
    },
    {
      "cell_type": "markdown",
      "metadata": {
        "id": "1HBaL_9vkJtl"
      },
      "source": [
        "# Historia"
      ]
    },
    {
      "cell_type": "markdown",
      "metadata": {
        "id": "fw1YlSZIkDoV"
      },
      "source": [
        "## Recursos Primarios"
      ]
    },
    {
      "cell_type": "markdown",
      "metadata": {
        "id": "p3t7Q5nKkGVs"
      },
      "source": [
        "- [Elegia Criolla - Una reinterpretacion de las guerras de independencia hispanoamericanas](https://colab.research.google.com/github/dbremont/Notas/blob/main/Libros/Otros/Elegia%20Criolla%20-%20Una%20reinterpretacion%20de%20las%20guerras%20de%20independencia%20hispanoamericanas.ipynb)\n",
        "\n",
        "* [La disputa del pasado: España, México y la leyenda negra](https://colab.research.google.com/github/dbremont/Notas/blob/main/Libros/Otros/La_disputa_del_pasado_Espa%C3%B1a%2C_M%C3%A9xico_y_la_leyenda_negra.ipynb)\n",
        "\n",
        "* [La Sociedad Novohispana](https://colab.research.google.com/github/dbremont/Notas/blob/main/Libros/Otros/La%20Sociedad%20Novohispana.ipynb)\n",
        "\n",
        "* [Republicas Urbanas En Una Monarquia Imperial](https://colab.research.google.com/github/dbremont/Notas/blob/main/Libros/Otros/Republicas%20Urbanas%20En%20Una%20Monarquia%20Imperial.ipynb)"
      ]
    },
    {
      "cell_type": "markdown",
      "metadata": {
        "id": "3rei8p6IkGwj"
      },
      "source": [
        "## Recursos Secundarios"
      ]
    },
    {
      "cell_type": "markdown",
      "metadata": {
        "id": "wyiHQQl0kJLd"
      },
      "source": [
        "- [The Rise and Fall of Complex Societies](https://sas.utmn.ru/en/open-course-the-rise-and-fall-of-complex-societies-en)\n",
        "\n",
        "* [Junker (Prussia)](https://en.wikipedia.org/wiki/Junker_(Prussia))\n",
        "\n",
        "* [Prussian Army](https://en.wikipedia.org/wiki/Prussian_Army)"
      ]
    }
  ]
}