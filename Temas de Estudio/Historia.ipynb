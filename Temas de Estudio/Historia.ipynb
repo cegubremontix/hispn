{
  "nbformat": 4,
  "nbformat_minor": 0,
  "metadata": {
    "colab": {
      "name": "Historia.ipynb",
      "provenance": [],
      "collapsed_sections": [],
      "toc_visible": true,
      "authorship_tag": "ABX9TyMRWVYI4rz6IzGrsp8XN4ev",
      "include_colab_link": true
    },
    "kernelspec": {
      "name": "python3",
      "display_name": "Python 3"
    },
    "language_info": {
      "name": "python"
    }
  },
  "cells": [
    {
      "cell_type": "markdown",
      "metadata": {
        "id": "view-in-github",
        "colab_type": "text"
      },
      "source": [
        "<a href=\"https://colab.research.google.com/github/dbremont/Notas/blob/main/Temas%20de%20Estudio/Historia.ipynb\" target=\"_parent\"><img src=\"https://colab.research.google.com/assets/colab-badge.svg\" alt=\"Open In Colab\"/></a>"
      ]
    },
    {
      "cell_type": "markdown",
      "metadata": {
        "id": "yKoQhE0gStO0"
      },
      "source": [
        "#  A Brief History of Human Kind\n",
        "\n",
        "The course surveys the entire length of human history, from the evolution of various human species in the Stone Age up to the political and technological revolutions of the twenty-first century."
      ]
    },
    {
      "cell_type": "markdown",
      "metadata": {
        "id": "-_QpEElSS3rJ"
      },
      "source": [
        "## L1 The Human Family\n"
      ]
    },
    {
      "cell_type": "markdown",
      "metadata": {
        "id": "cONGxD_mbEfJ"
      },
      "source": [
        "One hundred thousand years ago, at least six different species of humans inhabited planet Earth. Our species, Homo sapiens, was just one among them. Who were the others? Where did they come from? And what happened to them? Why is there today only one species of humans—Homo sapiens?\n",
        "\n",
        "- [Part 1](https://youtu.be/CGhTQ4iruLc?ist=PLfc2WtGuVPdmhYaQjd449k-YeY71fiaFp)\n",
        "- [Part 2](https://www.youtube.com/watch?v=HfmnyQ0mkJo&list=PLfc2WtGuVPdmhYaQjd449k-YeY71fiaFp&index=2)\n",
        "- [Part 3](https://www.youtube.com/watch?v=X2S56yfb5Lc&list=PLfc2WtGuVPdmhYaQjd449k-YeY71fiaFp&index=3)\n",
        "- [Part 4](https://www.youtube.com/watch?v=im6mEr71j2M&list=PLfc2WtGuVPdmhYaQjd449k-YeY71fiaFp&index=4)\n",
        "- [Part 5](https://www.youtube.com/watch?v=Ec2Bto2XdIE&list=PLfc2WtGuVPdmhYaQjd449k-YeY71fiaFp&index=5)\n"
      ]
    },
    {
      "cell_type": "markdown",
      "metadata": {
        "id": "TBhJaq1DTBQy"
      },
      "source": [
        "## L2  The Cognitive Revolution"
      ]
    },
    {
      "cell_type": "markdown",
      "metadata": {
        "id": "IHyIZaDYbINr"
      },
      "source": [
        "The Cognitive Revolution, about 70,000 years ago, enabled Homo sapiens to conquer the world and drive all other human species to extinction. During this revolution, Homo sapiens developed a new and remarkable kind of language. How was this language different from the languages of earlier human species and of other animals? What were the advantages that Homo sapiens gained from this unique language?\n",
        "\n",
        "- [Part 1](https://www.youtube.com/watch?v=_l3s3aRyacI&list=PLfc2WtGuVPdmhYaQjd449k-YeY71fiaFp&index=6)\n",
        "- [Part 2](https://www.youtube.com/watch?v=_dVcUSiBAkU&list=PLfc2WtGuVPdmhYaQjd449k-YeY71fiaFp&index=7)\n",
        "- [Part 3](https://www.youtube.com/watch?v=4CJBn5UIRRE&list=PLfc2WtGuVPdmhYaQjd449k-YeY71fiaFp&index=8)\n",
        "- [Part 4](https://www.youtube.com/watch?v=oSbE0kh7OYo&list=PLfc2WtGuVPdmhYaQjd449k-YeY71fiaFp&index=9)\n",
        "- [Part 5](https://www.youtube.com/watch?v=bpv9iPhJrVQ&list=PLfc2WtGuVPdmhYaQjd449k-YeY71fiaFp&index=10)"
      ]
    },
    {
      "cell_type": "markdown",
      "metadata": {
        "id": "6AVNCE87TBj2"
      },
      "source": [
        "## L3 Daily Life in the Stone Age\n"
      ]
    },
    {
      "cell_type": "markdown",
      "metadata": {
        "id": "dn1G0SSPbLYJ"
      },
      "source": [
        "What was life like for people who lived 30,000 years ago? What did they do when they woke up in the morning? How did they organize their societies? Did they have monogamous relationships and nuclear families? Did they have religions, revolutions, and wars?\n",
        "\n",
        "- [Part 1](https://www.youtube.com/watch?v=EDMlRorpxx0&list=PLfc2WtGuVPdmhYaQjd449k-YeY71fiaFp&index=11)\n",
        "- [Part 2](https://www.youtube.com/watch?v=-USaen0kDWI&list=PLfc2WtGuVPdmhYaQjd449k-YeY71fiaFp&index=12)\n",
        "- [Part 3](https://www.youtube.com/watch?v=wb-HCt3ng6g&list=PLfc2WtGuVPdmhYaQjd449k-YeY71fiaFp&index=13)\n",
        "- [Part 4](https://www.youtube.com/watch?v=kkFG4GkibB8&list=PLfc2WtGuVPdmhYaQjd449k-YeY71fiaFp&index=14)\n",
        "\n"
      ]
    },
    {
      "cell_type": "markdown",
      "metadata": {
        "id": "Z5Cy99PGTB8W"
      },
      "source": [
        "## L4 The Human Flood"
      ]
    },
    {
      "cell_type": "markdown",
      "metadata": {
        "id": "wUYWw8WMbOfV"
      },
      "source": [
        "\n",
        "Following the Cognitive Revolution, Homo sapiens spread all over the planet. While doing this, it drove numerous other species to extinction. In Australia, up to 95% of all large animal species vanished. In America, 84 of 107 large mammal species disappeared. Altogether, about half of the large terrestrial mammals that populated Earth became extinct. How could a few million individuals who possessed no more than Stone Age technology have caused such devastation?\n",
        "\n",
        "- [Part 1](https://www.youtube.com/watch?v=FtnTzAdNN9A&list=PLfc2WtGuVPdmhYaQjd449k-YeY71fiaFp&index=15)\n",
        "- [Part 2](https://www.youtube.com/watch?v=_3z8BsLZY8k&list=PLfc2WtGuVPdmhYaQjd449k-YeY71fiaFp&index=16)"
      ]
    },
    {
      "cell_type": "markdown",
      "metadata": {
        "id": "bfD8mpGVUopF"
      },
      "source": [
        "## L5 The Biggest Fraud"
      ]
    },
    {
      "cell_type": "markdown",
      "metadata": {
        "id": "2RewD_iDbSW3"
      },
      "source": [
        "About 12,000 years ago, people in the Middle East, China, and Central America began domesticating plants and animals. In the process, Homo sapiens, too, was domesticated, abandoning a life of hunting and gathering for the pleasures and discomforts of agriculture. For most people, the discomforts outweighed the pleasures. The Agricultural Revolution made the life of the average person harder. Why, then, did it occur?\n",
        "\n",
        "- [Part 1](https://www.youtube.com/watch?v=hU3hsjD6sGw&list=PLfc2WtGuVPdmhYaQjd449k-YeY71fiaFp&index=17)\n",
        "- [Part 2](https://www.youtube.com/watch?v=GCGEp3sOixI&list=PLfc2WtGuVPdmhYaQjd449k-YeY71fiaFp&index=18)\n",
        "- [Part 3](https://www.youtube.com/watch?v=mHtLEZpOu3s&list=PLfc2WtGuVPdmhYaQjd449k-YeY71fiaFp&index=19)\n",
        "- [Part 4](https://www.youtube.com/watch?v=GDa4vR5eQuk&list=PLfc2WtGuVPdmhYaQjd449k-YeY71fiaFp&index=20)\n"
      ]
    },
    {
      "cell_type": "markdown",
      "metadata": {
        "id": "CznWmakYTCAq"
      },
      "source": [
        "## L6  Building Pyramids"
      ]
    },
    {
      "cell_type": "markdown",
      "metadata": {
        "id": "gChrkqgSbVG2"
      },
      "source": [
        "For millions of years, humans lived in intimate bands of no more than a few dozen individuals. Our biological instincts are adapted to this way of life. Humans are consequently ill-equipped to cooperate with large numbers of strangers. Yet shortly after the Agricultural Revolution erupted, humans established cities, kingdoms, and huge empires. How did they do it? How can millions of strangers agree on shared laws, norms and values?\n",
        "\n",
        "- [Part 1](https://www.youtube.com/watch?v=RolCysxkSjQ&list=PLfc2WtGuVPdmhYaQjd449k-YeY71fiaFp&index=21)\n",
        "- [Part 2](https://www.youtube.com/watch?v=a5DhP35cIFw&list=PLfc2WtGuVPdmhYaQjd449k-YeY71fiaFp&index=22)\n",
        "- [Part 3](https://www.youtube.com/watch?v=8VD-qIDgvvc&list=PLfc2WtGuVPdmhYaQjd449k-YeY71fiaFp&index=23)"
      ]
    },
    {
      "cell_type": "markdown",
      "metadata": {
        "id": "YKit6NNOTCDx"
      },
      "source": [
        "## L7 Building Pyramids 2"
      ]
    },
    {
      "cell_type": "markdown",
      "metadata": {
        "id": "b_K4PJQLbcvB"
      },
      "source": [
        "For millions of years, humans lived in intimate bands of no more than a few dozen individuals. Our biological instincts are adapted to this way of life. Humans are consequently ill-equipped to cooperate with large numbers of strangers. Yet shortly after the Agricultural Revolution erupted, humans established cities, kingdoms, and huge empires. How did they do it? How can millions of strangers agree on shared laws, norms and values?\n",
        "\n",
        "- [Part 1](https://www.youtube.com/watch?v=8VD-qIDgvvc&list=PLfc2WtGuVPdmhYaQjd449k-YeY71fiaFp&index=23)\n",
        "- [Part 2](https://www.youtube.com/watch?v=OE6w4F-Ts0A&list=PLfc2WtGuVPdmhYaQjd449k-YeY71fiaFp&index=24)\n",
        "- [Part 3](https://www.youtube.com/watch?v=k4T8aaUfZvc&list=PLfc2WtGuVPdmhYaQjd449k-YeY71fiaFp&index=25)\n",
        "- [Part 4](https://www.youtube.com/watch?v=d9Phj9rCfws&list=PLfc2WtGuVPdmhYaQjd449k-YeY71fiaFp&index=26)\n",
        "- [Part 5](https://www.youtube.com/watch?v=hFQedY9FrgA&list=PLfc2WtGuVPdmhYaQjd449k-YeY71fiaFp&index=27)"
      ]
    },
    {
      "cell_type": "markdown",
      "metadata": {
        "id": "UIjPS80mTCGj"
      },
      "source": [
        "## L8 The Direction of History\n"
      ]
    },
    {
      "cell_type": "markdown",
      "metadata": {
        "id": "-BjxUgB8bfJ6"
      },
      "source": [
        "After the Agricultural Revolution, humans created many different cultures and societies. The relations between these different societies were very complex, and involved wars and conflicts as well as trade, immigration and imitation. But as time went by, the connections between the societies became stronger and stronger, so that humankind was gradually united into a single global society. Three main forces shaped this process of unification. The first was money and trade. Money is the most universal system of mutual trust ever devised by humans. How come even people who believe in different gods and obey rival kings, are nevertheless willing to use the same money?\n",
        "\n",
        "\n",
        "- [Part 1](https://www.youtube.com/watch?v=ATOOnZvk0Is&list=PLfc2WtGuVPdmhYaQjd449k-YeY71fiaFp&index=28)\n",
        "- [Part 2](https://www.youtube.com/watch?v=0YaIDAuBA3U&list=PLfc2WtGuVPdmhYaQjd449k-YeY71fiaFp&index=29)\n",
        "- [Part 3](https://www.youtube.com/watch?v=o4qZ_7Qqrwc&list=PLfc2WtGuVPdmhYaQjd449k-YeY71fiaFp&index=30)\n"
      ]
    },
    {
      "cell_type": "markdown",
      "metadata": {
        "id": "paOkqVAiTCKR"
      },
      "source": [
        "## L9  Imperial Visions"
      ]
    },
    {
      "cell_type": "markdown",
      "metadata": {
        "id": "uWWLDDQibhr2"
      },
      "source": [
        "The second force that shaped the process of human unification is imperialism. The idea of empire is seen today in a very negative light, but empires have played such a central role in human history that it's hard to regard them as totally evil. What exactly is an empire? How have empires succeeded in uniting under their control different ecological regions, ethnic groups, and religious communities? How can we balance the positive contribution of empires with their record of violence and oppression? And what is the future of the imperial ideal? Is the world destined to be ruled by a new global empire?\n",
        "\n",
        "- [Part 1](https://www.youtube.com/watch?v=3eLBSnkjazs&list=PLfc2WtGuVPdmhYaQjd449k-YeY71fiaFp&index=31)\n",
        "- [Part 2](https://www.youtube.com/watch?v=xtWtKZgEl58&list=PLfc2WtGuVPdmhYaQjd449k-YeY71fiaFp&index=32)\n",
        "- [Part 3](https://www.youtube.com/watch?v=F8E_LSvEh_Y&list=PLfc2WtGuVPdmhYaQjd449k-YeY71fiaFp&index=33)"
      ]
    },
    {
      "cell_type": "markdown",
      "metadata": {
        "id": "wsg9gfp-TCOS"
      },
      "source": [
        "## L10 The Law of Religion"
      ]
    },
    {
      "cell_type": "markdown",
      "metadata": {
        "id": "IpxBTNE0bkTR"
      },
      "source": [
        "The third force that shaped the process of human unification is religion. The role of religion in history is extremely controversial. Some see religion as the root of all evil, while for others it is the primary source of happiness, empathy, and progress. Can we arrive at a balanced judgment? What were the main landmarks in the religious history of the world? In what ways did different cultures understand the universe, distinguish good from evil, and explain the ubiquitous presence of suffering?\n",
        "\n",
        "- [Part 1](https://www.youtube.com/watch?v=XGo_DWy1fzo&list=PLfc2WtGuVPdmhYaQjd449k-YeY71fiaFp&index=34)\n",
        "- [Part 2](https://www.youtube.com/watch?v=d1XW01HK5C0&list=PLfc2WtGuVPdmhYaQjd449k-YeY71fiaFp&index=35)\n",
        "- [Part 3](https://www.youtube.com/watch?v=O8ewS9QTTrE&list=PLfc2WtGuVPdmhYaQjd449k-YeY71fiaFp&index=36)\n",
        "- [Part 4](https://www.youtube.com/watch?v=kCncJhhWXnk&list=PLfc2WtGuVPdmhYaQjd449k-YeY71fiaFp&index=37)"
      ]
    },
    {
      "cell_type": "markdown",
      "metadata": {
        "id": "ARLK-yP9TCSR"
      },
      "source": [
        "## L11 The Discovery of Ignorance"
      ]
    },
    {
      "cell_type": "markdown",
      "metadata": {
        "id": "MDq3vlribnh8"
      },
      "source": [
        "During the last 500 years the process of human unification was completed. At the same time, there has been an explosive growth in the power of humankind, due above all to the discoveries of modern science. Humankind has become increasingly convinced that the only thing that limits its power is its own ignorance, and that the discovery of new knowledge can enable it to do almost anything. How is the modern scientific tradition different from all previous traditions of knowledge? What accounts for its sudden rise and for its unparalleled achievements?\n",
        "\n",
        "- [Part 1](https://www.youtube.com/watch?v=rkVnmRHHpI4&list=PLfc2WtGuVPdmhYaQjd449k-YeY71fiaFp&index=38)\n",
        "- [Part 2](https://www.youtube.com/watch?v=nMljGY1AleM&list=PLfc2WtGuVPdmhYaQjd449k-YeY71fiaFp&index=39)\n",
        "- [Part 3](https://www.youtube.com/watch?v=ac7UKufRh9U&list=PLfc2WtGuVPdmhYaQjd449k-YeY71fiaFp&index=40)\n",
        "- [Part 4](https://www.youtube.com/watch?v=5HAfOy5fkLk&list=PLfc2WtGuVPdmhYaQjd449k-YeY71fiaFp&index=41)"
      ]
    },
    {
      "cell_type": "markdown",
      "metadata": {
        "id": "fD1fjK3bTCWp"
      },
      "source": [
        "## L12 The Marriage of Science and Empire"
      ]
    },
    {
      "cell_type": "markdown",
      "metadata": {
        "id": "tWZsah-xbrNu"
      },
      "source": [
        "Modern science developed in alliance with the modern European empires. The conquest of new knowledge depended upon and made possible the conquest of new territories. What exactly was the contribution of science to the rise of the European empires, and what was the contribution of the European empires to the development of science? And why did it all start in Europe, rather than in China, India, or the Middle East?\n",
        "\n",
        "- [Part 1](https://www.youtube.com/watch?v=tdwMdymF_Yo&list=PLfc2WtGuVPdmhYaQjd449k-YeY71fiaFp&index=42)\n",
        "- [Part 2](https://www.youtube.com/watch?v=DM84_k51EBw&list=PLfc2WtGuVPdmhYaQjd449k-YeY71fiaFp&index=43)\n",
        "- [Part 3](https://www.youtube.com/watch?v=8Ckmr6pqDcg&list=PLfc2WtGuVPdmhYaQjd449k-YeY71fiaFp&index=44)\n",
        "- [Part 4](https://www.youtube.com/watch?v=KjZDpmZWAgM&list=PLfc2WtGuVPdmhYaQjd449k-YeY71fiaFp&index=45)"
      ]
    },
    {
      "cell_type": "markdown",
      "metadata": {
        "id": "mbGUwO7nTCbR"
      },
      "source": [
        "## L13 The Capitalist Creed"
      ]
    },
    {
      "cell_type": "markdown",
      "metadata": {
        "id": "D2H6nTX0buFJ"
      },
      "source": [
        "The close ties between science and imperialism were in fact just one part of a more complex relationship. The third crucial member of this relationship was capitalism, which financed both science and empire, and which led to an unprecedented growth in the world economy. How does a capitalist economy function? How is it different from traditional economies? Is capitalism natural, or is it really a kind of religion?\n",
        "\n",
        "- [Part 1](https://www.youtube.com/watch?v=YakALas74V4&list=PLfc2WtGuVPdmhYaQjd449k-YeY71fiaFp&index=46)\n",
        "- [Part 2](https://www.youtube.com/watch?v=7SqSWswvxv8&list=PLfc2WtGuVPdmhYaQjd449k-YeY71fiaFp&index=47)\n",
        "- [Part 3](https://www.youtube.com/watch?v=rwkkzZZm0tA&list=PLfc2WtGuVPdmhYaQjd449k-YeY71fiaFp&index=48)\n",
        "- [Part 4](https://www.youtube.com/watch?v=BR5F-HrCzrM&list=PLfc2WtGuVPdmhYaQjd449k-YeY71fiaFp&index=49)"
      ]
    },
    {
      "cell_type": "markdown",
      "metadata": {
        "id": "8Xrc2J_oTCgR"
      },
      "source": [
        "## L14 The Industrial Revolution"
      ]
    },
    {
      "cell_type": "markdown",
      "metadata": {
        "id": "Gei1vJ9hbw0_"
      },
      "source": [
        "During the last 200 years, the combination of science, imperialism and capitalism produced the Industrial Revolution. This revolution gave humankind control of enormous new energy resources, and enabled humankind to start manufacturing far more things than ever before, far more quickly, and far more cheaply. How did this change the global ecology, daily life, and human psychology?\n",
        "\n",
        "- [Part 1](https://www.youtube.com/watch?v=juV0Vf-YQPw&list=PLfc2WtGuVPdmhYaQjd449k-YeY71fiaFp&index=50)\n",
        "- [Part 2](https://www.youtube.com/watch?v=SQZXzlmAY28&list=PLfc2WtGuVPdmhYaQjd449k-YeY71fiaFp&index=51)\n",
        "- [Part 3](https://www.youtube.com/watch?v=o8D0ZhtOVsk&list=PLfc2WtGuVPdmhYaQjd449k-YeY71fiaFp&index=52)"
      ]
    },
    {
      "cell_type": "markdown",
      "metadata": {
        "id": "OvQ_nGpKTCk2"
      },
      "source": [
        "## L15 A Permanent Revolution"
      ]
    },
    {
      "cell_type": "markdown",
      "metadata": {
        "id": "_OzYOdBObze3"
      },
      "source": [
        "The Industrial Revolution opened an era of permanent revolution. The late modern socio-political order is constantly changing, never settling into any stable pattern. The pillars of human order—most notably, the family and the intimate community—are crumbling around us. How do humans deal with the resulting vacuum and chaos? How do society and politics function without stability? Is the world becoming more violent and dangerous, or is it actually more peaceful and secure than ever before?\n",
        "\n",
        "- [Part 1](https://www.youtube.com/watch?v=2L_i_IbUbfc&list=PLfc2WtGuVPdmhYaQjd449k-YeY71fiaFp&index=53)\n",
        "- [Part 2](https://www.youtube.com/watch?v=Mj2XA9RcSsU&list=PLfc2WtGuVPdmhYaQjd449k-YeY71fiaFp&index=54)\n",
        "- [Part 3](https://www.youtube.com/watch?v=o-F90vhAHKo&list=PLfc2WtGuVPdmhYaQjd449k-YeY71fiaFp&index=55)\n",
        "- [Part 4](https://www.youtube.com/watch?v=hehKANZDgr8&list=PLfc2WtGuVPdmhYaQjd449k-YeY71fiaFp&index=56)"
      ]
    },
    {
      "cell_type": "markdown",
      "metadata": {
        "id": "1UxYsk7WTCqK"
      },
      "source": [
        "## L16 And They Lived Happily Ever After"
      ]
    },
    {
      "cell_type": "markdown",
      "metadata": {
        "id": "3FNrTyBeb2fs"
      },
      "source": [
        "Have 500 years of amazing discoveries, developments, and revolutions made people happier? Are people today happier than in the Middle Ages, or in the Stone Age? If not, what was the point of all these changes? Most history books ignore these issues, yet these are the most important questions we can ask about history. New studies in biology, economics, and psychology are offering fascinating insights into the history of human happiness.\n",
        "\n",
        "- [Part 1](https://www.youtube.com/watch?v=iw8bhUA_Lv4&list=PLfc2WtGuVPdmhYaQjd449k-YeY71fiaFp&index=57)\n",
        "- [Part 2](https://www.youtube.com/watch?v=26RzjNz1OE0&list=PLfc2WtGuVPdmhYaQjd449k-YeY71fiaFp&index=58)\n",
        "- [Part 3](https://www.youtube.com/watch?v=97O1wM9-aoY&list=PLfc2WtGuVPdmhYaQjd449k-YeY71fiaFp&index=59)"
      ]
    },
    {
      "cell_type": "markdown",
      "metadata": {
        "id": "Ap2gujWeTCvH"
      },
      "source": [
        "## L17  The End of Homo Sapiens"
      ]
    },
    {
      "cell_type": "markdown",
      "metadata": {
        "id": "ndntDzqJb5vJ"
      },
      "source": [
        "Over the last few decades humans have began to bend and break the laws of natural selection—laws that have governed life on Earth for the past four billion years. New technologies such as genetic engineering and nanotechnology are giving us unprecedented abilities to design not only the world around us, but also our own bodies, our personalities, and our desires. How will this influence society and culture? Does anybody know where we are heading? What is the likely future of humankind?\n",
        "\n",
        "- [Part 1](https://www.youtube.com/watch?v=GhRt78HAJ7k&list=PLfc2WtGuVPdmhYaQjd449k-YeY71fiaFp&index=60)\n",
        "- [Part 2](https://www.youtube.com/watch?v=lkZZtN9YSAc&list=PLfc2WtGuVPdmhYaQjd449k-YeY71fiaFp&index=61)\n",
        "- [Part 3](https://www.youtube.com/watch?v=5ZTtwZ87coE&list=PLfc2WtGuVPdmhYaQjd449k-YeY71fiaFp&index=62)\n"
      ]
    },
    {
      "cell_type": "markdown",
      "metadata": {
        "id": "MHqUiEOgA4wz"
      },
      "source": [
        "- [Barroco Andino](https://es.wikipedia.org/wiki/Barroco_andino)\n",
        "\n",
        "- [Barroco novohispano](https://es.wikipedia.org/wiki/Barroco_novohispano)"
      ]
    },
    {
      "cell_type": "markdown",
      "metadata": {
        "id": "qokWD1tPgpXS"
      },
      "source": [
        "- Colombia estado de guerra civil perpetuo que no se conoce como tal.\n",
        "\n",
        "- Guerra de la Tripe Alianza\n",
        "   - Desarollo Tecnico y Cientifico en Paraguay (Como medir).\n",
        "\n",
        "- Los [caudillos](https://es.wikipedia.org/wiki/Caudillo) (vacio de poder).\n",
        "  - Los ultimos resabios de la monarquia catolica (vacio de poder).\n",
        "\n",
        "- Modelo agroespordador y economicamente centralizado, quitando dinamismo y poder a los municipios y generando economias concetradas en un conjunto de productions basicos \"sin o con poco valor agregado\".\n",
        "\n",
        "- Autarkia de \"Juan Domingo Peron\". Perjudico o elimino el proceso de industrializacion de la argentina?\n",
        "\n",
        "- Tragicomedia.\n",
        "\n",
        "- La Elite (Trabajan para todos) y la Contra-Elite (Trabajan para ellos mismos).\n",
        "\n",
        "-  Peones/Soldados idiologicos.\n",
        "\n",
        "- Alcaldes de Pueblo. - Jose Marti\n",
        "\n",
        "- El primer rey espa;ol fue Jose Primero de Bonarparte, por que los demas usaban el titulo de Monarca Catolico.\n",
        "\n",
        "- La monarquia catolica no era un imperio moderno, era un conglomeara de reinos, se;orios, etc. Sin una clara jerarquia territorial y sin metropoli. Estructura politica de caracter anacional.\n",
        "\n",
        "- Imperios\n",
        "  - Coloniales\n",
        "  - Anacionales\n",
        "  - ...\n",
        "\n",
        "- Racismo Cientifico o mas bien \"a cientifico\", eso afecto a los indigenas despues de las independencia, opuesto al universalismo catolico \"que no habian rasas superiores\".\n",
        "\n",
        "- \"Mejorar la raza\".\n",
        "\n",
        "- Constitucion de cadiz y la nueva espa;a, fue el lugar donde por mas tiempo estuvo vigente, incluso en el imperio de iturbide.\n",
        "\n",
        "- Legitimidad de la monarquia catolica.\n",
        "\n",
        "- En la monarquia catolica importaba poco el origen, importaba las conexiones con la corrona.\n",
        "\n",
        "- Norte;os al poder, vizcainos y monte;eses.\n",
        "\n",
        "- "
      ]
    },
    {
      "cell_type": "markdown",
      "metadata": {
        "id": "hW1_Cflvbjyc"
      },
      "source": [
        "# Elegia Criolla"
      ]
    },
    {
      "cell_type": "markdown",
      "metadata": {
        "id": "5gAi4LGGbhsO"
      },
      "source": [
        "\n",
        "- No hay guerras de naciones, las naciones no son las cuasas de las guerras de independencia son su consecuencia.\n",
        "   \n",
        "- Son la consecuencia de la disolucion de un orden imperial fracasado.\n",
        "   \n",
        "- Fracasado, por que el monarca renuncio a la corona, el rey dejo de estar (Cuando viaja a bayona). Vacio de estar.\n",
        "   \n",
        "- \"Tradicion Juridica Castellana\" El rey no era dueno del reino sino que no lo tenia en usufructo, asi que no lo podia enajenar.\n",
        "   \n",
        "- Anahuac, Septemtrion.\n",
        "   \n",
        "- Nacion?\n",
        "   \n",
        "- 80% de la plata del mundo en el siglo XVIII provenia del bajio de la nueva espa;a, esas monedas eran de uso legal en china.\n",
        "\n",
        "- El libro de \"Juan Marichal\".\n",
        "\n",
        "- La ciudad de mexico en el siglo XVIII era la mejor ciudad de la monarquia, para eso ver los testimonios de los viajeros de la ciudad de mexico a la peninsula iberica.\n",
        "\n",
        "- America guerra civil, ver los soldados  \"la mayoria nacian en america.\"\n",
        "\n",
        "- Los primeros presidentes de mexico fueron oficiales del ejercito realista. Bataya de Ayacucho, hubos mas chilotas  que peninsulares.\n",
        "\n",
        "-  Por que las guerran civil se ven mal \"por que son guerras de hermanos\".\n",
        "\n",
        "- Los ejercitos realistas y insurgentes eran integrados mayoritariametne por americanos.\n",
        "\n",
        "- Pero en todo occidente hay guerras civiles que generan nuevas entidades politicas, aveces los historiadores ven esto como revoluciones, hay que ver. Los integrantes de la revolucion.\n",
        "\n",
        "- Muchos ven \"minorias retrogradas\" que colapsan, pero en primer lugar hay que explicar como esas minorias retrogradas duran tanto, talvez esas minorias no sean tan minorias.\n",
        "\n",
        "- Cartas Persas \"Despotismo\", Simon Bolivar.\n",
        "\n",
        "- Familia de Bolivar, todos estaban muy ligados al poder, \"El quinto abuelo\". Tio esteban de bolivar \"Secretario del Tribunal de Reino en Madrid\".\n",
        " \n",
        "  - Cuando Bolivar fue a la peninsula iberica formaba parte de los circulos mas cercanos del rei.\n",
        "\n",
        "  -  Los bolivar no podian estar muy alejados del poder.\n",
        "\n",
        "- Bolivar hacia propaganda en tiempos de guerra.\n",
        "\n",
        "- Identidades.\n",
        "\n",
        "- Naciones en el antiguo regimen.\n",
        "\n",
        "- Sujeto de legitimidad era el monarca no la nacion.\n",
        "\n",
        "- En la epoca monderna la nacion es la fuente de legitimidad.\n",
        "\n",
        "- Los estados modernos crean las naciones.\n",
        "\n",
        "- Legitimacion de los estados monarcas o naciones.\n",
        "\n",
        "- Primera Junta de Quito\n",
        "  - Motivos.\n",
        "  - Quien las destrullo.\n",
        "\n",
        "- La nacion de los vizcainos y los monta;eses.\n",
        "\n",
        "- El patriotismo criollo, orgullo de vivir en la nueva espa;a independientemente del origen de colores.\n",
        "\n",
        "- Padre feijo, patria \"mismas leyes\", nacion \"aquelos que tienen el mismo origen sangre y cultura\".\n",
        "\n",
        "- En el antiguo regimen la nacion y la patria no eran sinonimos.\n",
        "\n",
        "- \n",
        "\n",
        "  "
      ]
    }
  ]
}