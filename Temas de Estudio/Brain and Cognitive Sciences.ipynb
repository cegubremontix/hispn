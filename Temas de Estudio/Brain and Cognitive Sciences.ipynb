{
  "nbformat": 4,
  "nbformat_minor": 0,
  "metadata": {
    "colab": {
      "name": "Brain and Cognitive Sciences.ipynb",
      "provenance": [],
      "collapsed_sections": [],
      "authorship_tag": "ABX9TyNg46dIVoOdFsfuo6UnWyRz",
      "include_colab_link": true
    },
    "kernelspec": {
      "name": "python3",
      "display_name": "Python 3"
    },
    "language_info": {
      "name": "python"
    }
  },
  "cells": [
    {
      "cell_type": "markdown",
      "metadata": {
        "id": "view-in-github",
        "colab_type": "text"
      },
      "source": [
        "<a href=\"https://colab.research.google.com/github/dbremont/Notas/blob/main/Temas%20de%20Estudio/Brain%20and%20Cognitive%20Sciences.ipynb\" target=\"_parent\"><img src=\"https://colab.research.google.com/assets/colab-badge.svg\" alt=\"Open In Colab\"/></a>"
      ]
    },
    {
      "cell_type": "markdown",
      "metadata": {
        "id": "dmyc9sMaOHQy"
      },
      "source": [
        "Goal:\n",
        "\n",
        "- Brain-computer interfaces.\n",
        "- [List of unsolved problems in neuroscience](https://en.wikipedia.org/wiki/List_of_unsolved_problems_in_neuroscience)\n",
        "- Neuralink"
      ]
    },
    {
      "cell_type": "markdown",
      "metadata": {
        "id": "7Tzts1KCn07q"
      },
      "source": [
        "* [Understanding the Brain](https://www.thegreatcoursesplus.com/understanding-the-brain)\n",
        "\n",
        "* [Language and the Mind](https://www.thegreatcoursesplus.com/language-and-the-mind)\n",
        "\n",
        "* [Chomsky Cognitive Revolution](https://www.youtube.com/playlist?list=PL6nOdowQ4jwmJAAtK5ixnl5v4EoBqzMhS)\n",
        "\n",
        "* [Introduction to Neural Computation](https://ocw.mit.edu/courses/brain-and-cognitive-sciences/9-40-introduction-to-neural-computation-spring-2018)\n",
        "\n",
        "* [Brains, Minds and Machines Summer](https://ocw.mit.edu/resources/res-9-003-brains-minds-and-machines-summer-course-summer-2015/index.htm?utm_source=OCWDept&utm_medium=CarouselSm&utm_campaign=FeaturedCourse)\n",
        "\n",
        "* [Biology and Human Behavior: The Neurological Origins of Individuality, 2nd Edition](https://www.thegreatcoursesplus.com/biology-and-human-behavior-the-neurological-origins-of-individuality-2nd-edition)\n",
        "\n",
        "* [Computational Neuroscience | Coursera](https://www.coursera.org/learn/computational-neuroscience)\n",
        "\n",
        "* [Computational Neuroscience - SYDE 552](https://www.youtube.com/playlist?list=PLX-XEf1yTMrkcpni8RJMnqGBlA9uEHlaE)\n",
        "\n",
        "\n",
        "* [Synapses, Neurons and Brains](https://www.coursera.org/learn/synapses)\n",
        "\n",
        "* [Advanced Neurobiology I](https://www.coursera.org/learn/advanced-neurobiology1)\n",
        "\n",
        "* [Advanced Neurobiology II](https://www.coursera.org/learn/advancedneurobiologyii)"
      ]
    },
    {
      "cell_type": "markdown",
      "metadata": {
        "id": "zFExHYNk6F6o"
      },
      "source": [
        "Methodology:\n",
        "\n",
        "- Data Sets -> Objetos, Phenomena that produce the data.\n",
        "- "
      ]
    },
    {
      "cell_type": "markdown",
      "metadata": {
        "id": "1ThJGXse79Mb"
      },
      "source": [
        "## Tools\n",
        "\n",
        "- "
      ]
    },
    {
      "cell_type": "markdown",
      "metadata": {
        "id": "6JoBV9mQ8AUK"
      },
      "source": [
        "- Ion Channel \n",
        "- Phenotype of the desease\n",
        "- Models of a Neuron\n",
        "- Componels of a Neuron -> Models of a Neuron.\n",
        "- Neurons a Extreamly Complex\n",
        "- Wires (Axons)\n",
        "- A mathematical model of a neuron.\n",
        "- Intercullar and extra-cellular solution act as a wire.\n",
        "- Broanian motion.\n",
        "- Fick’s First Law\n",
        "- Ohm’s Law\n",
        "- Bio-Physics\n",
        "- Electrochemistry\n",
        "- "
      ]
    },
    {
      "cell_type": "markdown",
      "metadata": {
        "id": "QVB5tU6FMGCB"
      },
      "source": [
        "## Neural Model"
      ]
    },
    {
      "cell_type": "markdown",
      "metadata": {
        "id": "SeeCDZ8bMIY-"
      },
      "source": [
        "- Firing\n",
        "- Memomory Systems\n",
        "- Brain Eareas\n",
        "- Neural basis of cognition\n",
        "- Biologically Inspired Nueral Networks\n",
        "- Critisism to Galileo Galillei for uses of mathematical models to summarize data and phenomena.\n",
        "- Simulation for study.\n",
        "- "
      ]
    }
  ]
}