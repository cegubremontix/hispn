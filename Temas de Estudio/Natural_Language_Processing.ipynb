{
  "nbformat": 4,
  "nbformat_minor": 0,
  "metadata": {
    "colab": {
      "name": "Natural Language Processing.ipynb",
      "provenance": [],
      "include_colab_link": true
    },
    "kernelspec": {
      "name": "python3",
      "display_name": "Python 3"
    },
    "language_info": {
      "name": "python"
    }
  },
  "cells": [
    {
      "cell_type": "markdown",
      "metadata": {
        "id": "view-in-github",
        "colab_type": "text"
      },
      "source": [
        "<a href=\"https://colab.research.google.com/github/dbremont/Notas/blob/main/Temas%20de%20Estudio/Natural_Language_Processing.ipynb\" target=\"_parent\"><img src=\"https://colab.research.google.com/assets/colab-badge.svg\" alt=\"Open In Colab\"/></a>"
      ]
    },
    {
      "cell_type": "markdown",
      "metadata": {
        "id": "RfzVokNh8DUa"
      },
      "source": [
        "## Primario"
      ]
    },
    {
      "cell_type": "markdown",
      "metadata": {
        "id": "0Ss0Rc1h6zg5"
      },
      "source": [
        "- [A Code-First Introduction to Natural Language Processing](https://www.fast.ai/2019/07/08/fastai-nlp/)"
      ]
    },
    {
      "cell_type": "markdown",
      "metadata": {
        "id": "KF6gs-wA8FKp"
      },
      "source": [
        "## Secundario"
      ]
    },
    {
      "cell_type": "markdown",
      "metadata": {
        "id": "clbDjwL4BIB9"
      },
      "source": [
        "- [Facebook DrQA](https://github.com/facebookresearch/DrQA)\n",
        "\n",
        "- [David Ferruci - Lex Conversation](https://www.youtube.com/watch?v=Whtt2H5_isM)\n",
        "\n",
        "- [BI 069 David Ferrucci: Machines To Understand Stories](https://www.youtube.com/watch?v=E0IXeCBmH6I)\n",
        "\n",
        "\n",
        "- [To Test Machine Comprehension, Start by Defining Comprehension](https://arxiv.org/pdf/2005.01525.pdf)\n",
        "\n",
        "- [Melanie Mitchell: Concepts, Analogies, Common Sense & Future of AI | Lex Fridman Podcast #61](https://www.youtube.com/watch?v=ImKkaeUx1MU)\n",
        "\n",
        "- [Learning to Automatically Solve Algebra Word Problems](https://homes.cs.washington.edu/~lsz/papers/kazb-acl14.pdf)\n",
        "\n",
        "- [Code from MIT NLP](http://groups.csail.mit.edu/rbg/code/)\n",
        "\n",
        "- [Computer system automatically solves word problems](http://groups.csail.mit.edu/rbg/code/wordprobs/)"
      ]
    },
    {
      "cell_type": "markdown",
      "metadata": {
        "id": "No2N45FOzVbl"
      },
      "source": [
        "## Articulos"
      ]
    },
    {
      "cell_type": "markdown",
      "metadata": {
        "id": "Bi4B9GICzYbQ"
      },
      "source": [
        "* [Language Models](http://veredshwartz.blogspot.com/2015/09/language-models.html)\n",
        "\n",
        "* [How to Build an Open-Domain Question Answering System?](https://lilianweng.github.io/lil-log/2020/10/29/open-domain-question-answering.html)\n"
      ]
    }
  ]
}