{
  "nbformat": 4,
  "nbformat_minor": 0,
  "metadata": {
    "colab": {
      "name": "Physics.ipynb",
      "provenance": [],
      "collapsed_sections": [],
      "toc_visible": true,
      "authorship_tag": "ABX9TyMTi+wgWgmAASSmCbtWL0cP",
      "include_colab_link": true
    },
    "kernelspec": {
      "name": "python3",
      "display_name": "Python 3"
    }
  },
  "cells": [
    {
      "cell_type": "markdown",
      "metadata": {
        "id": "view-in-github",
        "colab_type": "text"
      },
      "source": [
        "<a href=\"https://colab.research.google.com/github/dbremont/Notas/blob/main/Temas%20de%20Estudio/Physics.ipynb\" target=\"_parent\"><img src=\"https://colab.research.google.com/assets/colab-badge.svg\" alt=\"Open In Colab\"/></a>"
      ]
    },
    {
      "cell_type": "markdown",
      "metadata": {
        "id": "Z4M3brxK4E4V"
      },
      "source": [
        "# Physics\n",
        "\n",
        "- [List of unsolved problems in physics](https://en.wikipedia.org/wiki/List_of_unsolved_problems_in_physics)\n",
        "\n",
        "- [David Tong: Lectures on Theoretical Physics](http://www.damtp.cam.ac.uk/user/tong/teaching.html)\n",
        "\n",
        "- How natures works\n",
        "- Building Computing Devices\n",
        "- How computers works"
      ]
    },
    {
      "cell_type": "markdown",
      "metadata": {
        "id": "fkM2WPxAxQou"
      },
      "source": [
        "## Principal"
      ]
    },
    {
      "cell_type": "markdown",
      "metadata": {
        "id": "6Bxv2Nj6Nkb_"
      },
      "source": [
        "* [Physics of the Everyday](https://brilliant.org/courses/physics-everyday/)\n",
        "\n",
        "* [Classical Mechanics](https://brilliant.org/courses/dynamics-bootcamp/)\n",
        "\n",
        "* [Electricity and Magnetism](https://brilliant.org/courses/electromagnetism/)\n",
        "\n",
        "* [Waves and Light](https://brilliant.org/courses/waves-and-light/)\n",
        "\n",
        "* [Special Relativity](https://brilliant.org/courses/special-relativity/)\n",
        "\n",
        "* [Quantum Objects](https://brilliant.org/courses/quantum-objects/)\n",
        "\n",
        "* [Quantum Computing](https://brilliant.org/courses/quantum-computing/)\n"
      ]
    },
    {
      "cell_type": "markdown",
      "metadata": {
        "id": "ffVzUTeyNb3f"
      },
      "source": [
        "## Secundario"
      ]
    },
    {
      "cell_type": "markdown",
      "metadata": {
        "id": "JrEBKtawNlAM"
      },
      "source": [
        "* [Vibrations and Waves](https://ocw.mit.edu/courses/physics/8-03sc-physics-iii-vibrations-and-waves-fall-2016/)\n",
        "\n",
        "* [Introduction into General Theory of Relativity](https://www.coursera.org/learn/general-relativity)\n",
        "\n",
        "* [General Relativity](https://ocw.mit.edu/courses/physics/8-962-general-relativity-spring-2020/index.htm)\n",
        "\n",
        "* [Understanding Einstein: The Special Theory of Relativity](https://www.coursera.org/learn/einstein-relativity)\n",
        "\n",
        "* [Statistical Mechanics: Algorithms and Computations](https://www.coursera.org/learn/statistical-mechanics)\n",
        "\n",
        "* [Exploring Quantum Physics](https://www.coursera.org/learn/quantum-physics)\n",
        "\n",
        "* [The Introduction to Quantum Computing](https://www.coursera.org/learn/quantum-computing-algorithms) "
      ]
    }
  ]
}