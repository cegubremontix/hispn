{
  "nbformat": 4,
  "nbformat_minor": 0,
  "metadata": {
    "colab": {
      "name": "Physics.ipynb",
      "provenance": [],
      "collapsed_sections": [],
      "authorship_tag": "ABX9TyPzAYu3qnkNLZKncaEvT46Y",
      "include_colab_link": true
    },
    "kernelspec": {
      "name": "python3",
      "display_name": "Python 3"
    }
  },
  "cells": [
    {
      "cell_type": "markdown",
      "metadata": {
        "id": "view-in-github",
        "colab_type": "text"
      },
      "source": [
        "<a href=\"https://colab.research.google.com/github/dbremont/Notas/blob/main/Temas%20de%20Estudio/Physics.ipynb\" target=\"_parent\"><img src=\"https://colab.research.google.com/assets/colab-badge.svg\" alt=\"Open In Colab\"/></a>"
      ]
    },
    {
      "cell_type": "markdown",
      "metadata": {
        "id": "Z4M3brxK4E4V"
      },
      "source": [
        "# Physics\n",
        "\n",
        "- [List of unsolved problems in physics](https://en.wikipedia.org/wiki/List_of_unsolved_problems_in_physics)\n",
        "\n",
        "- [Potential student research projects](https://physics.anu.edu.au/study/projects/index.php?Type=6&Department=0&ListBy=&Field=All&Search=)"
      ]
    },
    {
      "cell_type": "markdown",
      "metadata": {
        "id": "SZ8YEk30Tdvk"
      },
      "source": [
        "## The Great Courses Plus"
      ]
    },
    {
      "cell_type": "markdown",
      "metadata": {
        "id": "B-xJuKiTThIe"
      },
      "source": [
        "* [Physics in Your Life](https://www.thegreatcoursesplus.com/physics-in-your-life)\n",
        "\n",
        "* [Physics and Our Universe](https://www.thegreatcoursesplus.com/physics-and-our-universe)\n",
        "\n",
        "* [Impossible: Physics Beyond the Edge](https://www.thegreatcoursesplus.com/impossible-physics-beyond-the-edge)\n",
        "\n",
        "* [Great Ideas of Classical Physics](https://www.thegreatcoursesplus.com/great-ideas-of-classical-physics)\n",
        "\n",
        "* [Nuclear Physics Explained](https://www.thegreatcoursesplus.com/nuclear-physics-explained)\n",
        "\n",
        "* [Quantum Mechanics](https://www.thegreatcoursesplus.com/quantum-mechanics)\n",
        "\n",
        "* [Understanding the Quantum World](https://www.thegreatcoursesplus.com/understanding-the-quantum-world)\n",
        "\n",
        "* [The Science of Energy: Resources and Power Explained](https://www.thegreatcoursesplus.com/the-science-of-energy-resources-and-power-explained)"
      ]
    },
    {
      "cell_type": "markdown",
      "metadata": {
        "id": "Ax7XTdi1TkBw"
      },
      "source": [
        "## Brilliant"
      ]
    },
    {
      "cell_type": "markdown",
      "metadata": {
        "id": "Q3j9DgQ7TovD"
      },
      "source": [
        "* [Physics of the Everyday](https://brilliant.org/courses/physics-everyday/)\n",
        "\n",
        "* [Waves and Light](https://brilliant.org/courses/waves-and-light/)\n",
        "\n",
        "* [Classical Mechanics](https://brilliant.org/courses/dynamics-bootcamp/)\n",
        "\n",
        "* [Gravitational Physics](https://brilliant.org/courses/gravitational-physics/)\n",
        "\n",
        "* [Special Relativity](https://brilliant.org/courses/special-relativity/)\n",
        "\n",
        "* [Electricity and Magnetism](https://brilliant.org/courses/electromagnetism/)\n",
        "\n",
        "* [Quantum Objects](https://brilliant.org/courses/quantum-objects/)"
      ]
    },
    {
      "cell_type": "markdown",
      "metadata": {
        "id": "vTUkpeMcTtDP"
      },
      "source": [
        "## MIT OCW"
      ]
    },
    {
      "cell_type": "markdown",
      "metadata": {
        "id": "7uuUxAjUT0nS"
      },
      "source": [
        "* [Classical Mechanics](https://ocw.mit.edu/courses/physics/8-01sc-classical-mechanics-fall-2016/)\n",
        "\n",
        "* [Electrostatics](https://openlearninglibrary.mit.edu/courses/course-v1:MITx+8.02.1x+1T2019/course/)\n",
        "\n",
        "* [Magnetic Fields and Forces](https://openlearninglibrary.mit.edu/courses/course-v1:MITx+8.02.2x+2T2018/course/)\n",
        "\n",
        "* [Maxwell’s Equations](https://openlearninglibrary.mit.edu/courses/course-v1:MITx+8.02.3x+1T2019/course/)\n",
        "\n",
        "* [Vibrations and Waves](https://ocw.mit.edu/courses/physics/8-03sc-physics-iii-vibrations-and-waves-fall-2016/)\n",
        "\n",
        "* [General Relativity](https://ocw.mit.edu/courses/physics/8-962-general-relativity-spring-2020/index.htm)\n",
        "\n",
        "* [Effective Field Theory](https://courses.edx.org/courses/MITx/8.EFTx/3T2014/course/)"
      ]
    },
    {
      "cell_type": "markdown",
      "metadata": {
        "id": "_7vxdH4_T3zn"
      },
      "source": [
        "## Coursera"
      ]
    },
    {
      "cell_type": "markdown",
      "metadata": {
        "id": "RzEgkoKqRZj7"
      },
      "source": [
        "* [Lectures on Selected Topics in Classical and Fluid Mechanics](https://www.coursera.org/learn/lectures-on-selected-topics-in-classical-and-fluid-mechanics)\n",
        "\n",
        "*  [The Evolving Universe](https://www.coursera.org/learn/evolvinguniverse)\n",
        "\n",
        "* [(Basic) Understanding Einstein: The Special Theory of Relativity](https://www.coursera.org/learn/einstein-relativity)\n",
        "\n",
        "* [(Advanced) Introduction into General Theory of Relativity](https://www.coursera.org/learn/general-relativity)\n",
        "\n",
        "* [Particle Physics: an Introduction](https://www.coursera.org/learn/particle-physics)\n",
        "\n",
        " \n",
        " "
      ]
    },
    {
      "cell_type": "markdown",
      "metadata": {
        "id": "AaWgdKYm5DaC"
      },
      "source": [
        "## The Theoretical Minimum"
      ]
    },
    {
      "cell_type": "markdown",
      "metadata": {
        "id": "aBoG8yPD5E3J"
      },
      "source": [
        "-  [Classical Mechanics](https://theoreticalminimum.com/courses/classical-mechanics/2011/fall)\n",
        "\n",
        "- [Quantum Mechanics](https://theoreticalminimum.com/courses/quantum-mechanics/2012/winter)\n",
        "\n",
        "- [Special Relativity and Electrodynamics](https://theoreticalminimum.com/courses/special-relativity-and-electrodynamics/2012/spring)\n",
        "\n",
        "- [General Relativity](https://theoreticalminimum.com/courses/general-relativity/2012/fall)\n",
        "\n",
        "- [Statistical Mechanics](https://theoreticalminimum.com/courses/statistical-mechanics/2013/spring)"
      ]
    },
    {
      "cell_type": "markdown",
      "metadata": {
        "id": "mM35AbD4XQbk"
      },
      "source": [
        "* [MAS.862: The Physics of Information Technology](https://fab.cba.mit.edu/classes/862.19/index.html)"
      ]
    }
  ]
}