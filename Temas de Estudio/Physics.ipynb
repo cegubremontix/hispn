{
  "nbformat": 4,
  "nbformat_minor": 0,
  "metadata": {
    "colab": {
      "name": "Physics.ipynb",
      "provenance": [],
      "collapsed_sections": [],
      "toc_visible": true,
      "authorship_tag": "ABX9TyPsskRxD5kpj/wAA9mf0PmZ",
      "include_colab_link": true
    },
    "kernelspec": {
      "name": "python3",
      "display_name": "Python 3"
    }
  },
  "cells": [
    {
      "cell_type": "markdown",
      "metadata": {
        "id": "view-in-github",
        "colab_type": "text"
      },
      "source": [
        "<a href=\"https://colab.research.google.com/github/dbremont/Notas/blob/main/Temas%20de%20Estudio/Physics.ipynb\" target=\"_parent\"><img src=\"https://colab.research.google.com/assets/colab-badge.svg\" alt=\"Open In Colab\"/></a>"
      ]
    },
    {
      "cell_type": "markdown",
      "metadata": {
        "id": "Z4M3brxK4E4V"
      },
      "source": [
        "# Physics\n",
        "\n",
        "- [List of unsolved problems in physics](https://en.wikipedia.org/wiki/List_of_unsolved_problems_in_physics)\n",
        "\n",
        "- [Potential student research projects](https://physics.anu.edu.au/study/projects/index.php?Type=6&Department=0&ListBy=&Field=All&Search=)\n",
        "\n",
        "- [List of emerging technologies](https://en.wikipedia.org/wiki/List_of_emerging_technologies)"
      ]
    },
    {
      "cell_type": "markdown",
      "metadata": {
        "id": "fkM2WPxAxQou"
      },
      "source": [
        "## Principal"
      ]
    },
    {
      "cell_type": "markdown",
      "metadata": {
        "id": "6Bxv2Nj6Nkb_"
      },
      "source": [
        "* [Physics of the Everyday](https://brilliant.org/courses/physics-everyday/)\n",
        "\n",
        "* [Classical Mechanics](https://brilliant.org/courses/dynamics-bootcamp/)\n",
        "\n",
        "* [Electricity and Magnetism](https://brilliant.org/courses/electromagnetism/)\n",
        "\n",
        "* [Waves and Light](https://brilliant.org/courses/waves-and-light/)\n",
        "\n",
        "* [Special Relativity](https://brilliant.org/courses/special-relativity/)\n",
        "\n",
        "* [Quantum Objects](https://brilliant.org/courses/quantum-objects/)\n",
        "\n",
        "* [Quantum Computing](https://brilliant.org/courses/quantum-computing/)\n",
        "\n",
        "* [Computational Biology](https://brilliant.org/courses/computational-biology/)\n",
        "\n",
        "* [The Chemical Reaction](https://brilliant.org/courses/chemical-reaction/)"
      ]
    },
    {
      "cell_type": "markdown",
      "metadata": {
        "id": "ffVzUTeyNb3f"
      },
      "source": [
        "## Secundario"
      ]
    },
    {
      "cell_type": "markdown",
      "metadata": {
        "id": "JrEBKtawNlAM"
      },
      "source": [
        "* [Vibrations and Waves](https://ocw.mit.edu/courses/physics/8-03sc-physics-iii-vibrations-and-waves-fall-2016/)\n",
        "\n",
        "* [Introduction into General Theory of Relativity](https://www.coursera.org/learn/general-relativity)\n",
        "\n",
        "* [General Relativity](https://ocw.mit.edu/courses/physics/8-962-general-relativity-spring-2020/index.htm)\n",
        "\n",
        "* [Understanding Einstein: The Special Theory of Relativity](https://www.coursera.org/learn/einstein-relativity)\n",
        "\n",
        "* [Statistical Mechanics: Algorithms and Computations](https://www.coursera.org/learn/statistical-mechanics)\n",
        "\n",
        "* [Exploring Quantum Physics](https://www.coursera.org/learn/quantum-physics)\n",
        "\n",
        "* [The Introduction to Quantum Computing](https://www.coursera.org/learn/quantum-computing-algorithms) \n",
        "\n",
        "* [Introduction to Solid State Chemistry](https://ocw.mit.edu/courses/materials-science-and-engineering/3-091sc-introduction-to-solid-state-chemistry-fall-2010/)\n",
        "\n",
        "* [Fundamentals of Biology](https://ocw.mit.edu/courses/biology/7-01sc-fundamentals-of-biology-fall-2011/)\n",
        "\n",
        "* [PSYC 51.09 Human Memory](https://github.com/ContextLab/human-memory)"
      ]
    },
    {
      "cell_type": "markdown",
      "metadata": {
        "id": "OkvfNSJg-DFH"
      },
      "source": [
        "## Recursos"
      ]
    },
    {
      "cell_type": "markdown",
      "metadata": {
        "id": "liFxDNDB-F28"
      },
      "source": [
        "* [What's the standard “roadmap” to learning quantum physics? [closed]](https://physics.stackexchange.com/questions/19262/whats-the-standard-roadmap-to-learning-quantum-physics)\n",
        "\n",
        "* [How to become a GOOD Theoretical Physicist](https://webspace.science.uu.nl/~gadda001/goodtheorist/classmech.html)\n",
        "\n",
        "* [Old quantum theory](https://en.wikipedia.org/wiki/Old_quantum_theory)\n",
        "\n",
        "* [Adiabatic invariant](https://en.wikipedia.org/wiki/Adiabatic_invariant)\n",
        "\n",
        "* [Correspondence principle](https://en.wikipedia.org/wiki/Correspondence_principle)\n",
        "\n",
        "* [Matrix mechanics](https://en.wikipedia.org/wiki/Matrix_mechanics)\n",
        "\n",
        "* [The Feynman Lectures on Physics, Volume I](https://www.feynmanlectures.caltech.edu/I_toc.html)\n",
        "\n",
        "* [The Principle of the least action, the universal law of motion and posology.](http://www.homeoint.org/cazalet/fincke/leastaction.htm)\n",
        "\n",
        "* [Lagrangian](https://en.wikipedia.org/wiki/Lagrangian)\n",
        "\n",
        "* [Noether's theorem](https://en.wikipedia.org/wiki/Noether's_theorem)\n",
        "\n",
        "* [Hamilton's principle](https://en.wikipedia.org/wiki/Hamilton's_principle)\n",
        "\n",
        "* [Fermat's principle](https://en.wikipedia.org/wiki/Fermat's_principle)\n",
        "\n",
        "* [Morse theory](https://en.wikipedia.org/wiki/Morse_theory)\n",
        "\n",
        "* [Action (physics)](https://en.wikipedia.org/wiki/Action_(physics))\n",
        "\n",
        "* [Stationary Action Principle](https://en.wikipedia.org/wiki/Stationary_Action_Principle)\n",
        "\n",
        "* [The Principles of Quantum Mechanics](https://en.wikipedia.org/wiki/The_Principles_of_Quantum_Mechanics)\n",
        "\n",
        "* [Fluid dynamics](https://en.wikipedia.org/wiki/Fluid_dynamics)\n",
        "\n",
        "* [The Future of Deep Learning if Photonic](https://spectrum.ieee.org/the-future-of-deep-learning-is-photonic)\n",
        "\n",
        "* [Denis Papin](https://en.wikipedia.org/wiki/Denis_Papin)\n",
        "\n",
        "* [Christiaan Huygens](https://en.wikipedia.org/wiki/Christiaan_Huygens)\n",
        "\n",
        "* [Fertilisation](https://en.wikipedia.org/wiki/Fertilisation)\n",
        "\n",
        "* [Is This the Most Interesting Idea in All of Science?](https://join.substack.com/p/is-this-the-most-interesting-idea)\n",
        "\n",
        "* [Radiation](https://en.wikipedia.org/wiki/Radiation)\n",
        "\n",
        "* [Vibration](https://en.wikipedia.org/wiki/Vibration)\n",
        "\n",
        "* [Insulator](https://en.wikipedia.org/wiki/Insulator_(electricity))\n",
        "\n",
        "* [Cognitive Model](https://en.wikipedia.org/wiki/Cognitive_model)"
      ]
    }
  ]
}