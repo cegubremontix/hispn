{
  "nbformat": 4,
  "nbformat_minor": 0,
  "metadata": {
    "colab": {
      "name": "Physics.ipynb",
      "provenance": [],
      "collapsed_sections": [],
      "toc_visible": true,
      "authorship_tag": "ABX9TyMnWW5lnDDGdiILr1CBXM//",
      "include_colab_link": true
    },
    "kernelspec": {
      "name": "python3",
      "display_name": "Python 3"
    }
  },
  "cells": [
    {
      "cell_type": "markdown",
      "metadata": {
        "id": "view-in-github",
        "colab_type": "text"
      },
      "source": [
        "<a href=\"https://colab.research.google.com/github/dbremont/Notas/blob/main/Temas%20de%20Estudio/Physics.ipynb\" target=\"_parent\"><img src=\"https://colab.research.google.com/assets/colab-badge.svg\" alt=\"Open In Colab\"/></a>"
      ]
    },
    {
      "cell_type": "markdown",
      "metadata": {
        "id": "Z4M3brxK4E4V"
      },
      "source": [
        "# Physics\n",
        "\n",
        "- [List of unsolved problems in physics](https://en.wikipedia.org/wiki/List_of_unsolved_problems_in_physics)\n",
        "\n",
        "- [Potential student research projects](https://physics.anu.edu.au/study/projects/index.php?Type=6&Department=0&ListBy=&Field=All&Search=)"
      ]
    },
    {
      "cell_type": "markdown",
      "metadata": {
        "id": "fkM2WPxAxQou"
      },
      "source": [
        "## Principal"
      ]
    },
    {
      "cell_type": "markdown",
      "metadata": {
        "id": "6Bxv2Nj6Nkb_"
      },
      "source": [
        "* [Physics of the Everyday](https://brilliant.org/courses/physics-everyday/)\n",
        "\n",
        "* [Classical Mechanics](https://brilliant.org/courses/dynamics-bootcamp/)\n",
        "\n",
        "* [Gravitational Physics](https://brilliant.org/courses/gravitational-physics/)\n",
        "\n",
        "* [Special Relativity](https://brilliant.org/courses/special-relativity/)\n",
        "\n",
        "* [Electricity and Magnetism](https://brilliant.org/courses/electromagnetism/)\n",
        "\n",
        "* [Waves and Light](https://brilliant.org/courses/waves-and-light/)\n",
        "\n",
        "* [Astrophysics](https://brilliant.org/courses/astronomy/)"
      ]
    },
    {
      "cell_type": "markdown",
      "metadata": {
        "id": "ffVzUTeyNb3f"
      },
      "source": [
        "## Secundario"
      ]
    },
    {
      "cell_type": "markdown",
      "metadata": {
        "id": "JrEBKtawNlAM"
      },
      "source": [
        "* [Introduction to Nuclear and Particle Physics](https://ocw.mit.edu/courses/physics/8-701-introduction-to-nuclear-and-particle-physics-fall-2020/)\n",
        "\n",
        "* [Statistical Mechanics: Algorithms and Computations](https://www.coursera.org/learn/statistical-mechanics)\n",
        "\n",
        "* [Training | Perimeter Institute](https://psi-online.perimeterinstitute.ca/)\n",
        "\n",
        "* [Lectures on Selected Topics in Classical and Fluid Mechanics](https://www.coursera.org/learn/lectures-on-selected-topics-in-classical-and-fluid-mechanics)\n",
        "\n",
        "* [Introduction into General Theory of Relativity](https://www.coursera.org/learn/general-relativity)\n",
        "\n",
        "* [General Relativity](https://ocw.mit.edu/courses/physics/8-962-general-relativity-spring-2020/index.htm)\n",
        "\n",
        "* [Vibrations and Waves](https://ocw.mit.edu/courses/physics/8-03sc-physics-iii-vibrations-and-waves-fall-2016/)\n",
        "\n",
        "* [Understanding Einstein: The Special Theory of Relativity](https://www.coursera.org/learn/einstein-relativity)\n",
        "\n",
        "* [Particle Physics: an Introduction](https://www.coursera.org/learn/particle-physics?trk_location=query-summary-list-link)\n",
        "\n",
        "* [Exploring Quantum Physics](https://www.coursera.org/learn/quantum-physics)\n",
        "\n",
        "* [The Introduction to Quantum Computing](https://www.coursera.org/learn/quantum-computing-algorithms) \n",
        "\n",
        "* [Astronomy: Exploring Time and Space](https://www.coursera.org/learn/astro)\n",
        "\n",
        "* [The Evolving Universe](https://www.coursera.org/learn/evolvinguniverse)\n",
        "\n",
        "* [Imagining Other Earths](https://www.coursera.org/learn/life-on-other-planets)\n",
        "\n",
        "* [The Science of the Solar System](https://www.coursera.org/learn/solar-system)\n",
        "\n",
        "* [Statistical Thermodynamics: Molecules to Machines](https://www.coursera.org/learn/statistical-thermodynamics-cm)"
      ]
    },
    {
      "cell_type": "markdown",
      "metadata": {
        "id": "OkvfNSJg-DFH"
      },
      "source": [
        "## Recursos"
      ]
    },
    {
      "cell_type": "markdown",
      "metadata": {
        "id": "liFxDNDB-F28"
      },
      "source": [
        "* [What's the standard “roadmap” to learning quantum physics? [closed]](https://physics.stackexchange.com/questions/19262/whats-the-standard-roadmap-to-learning-quantum-physics)\n",
        "\n",
        "* [How to become a GOOD Theoretical Physicist](https://webspace.science.uu.nl/~gadda001/goodtheorist/classmech.html)\n",
        "\n",
        "* [Old quantum theory](https://en.wikipedia.org/wiki/Old_quantum_theory)\n",
        "\n",
        "* [Adiabatic invariant](https://en.wikipedia.org/wiki/Adiabatic_invariant)\n",
        "\n",
        "* [Correspondence principle](https://en.wikipedia.org/wiki/Correspondence_principle)\n",
        "\n",
        "* [Matrix mechanics](https://en.wikipedia.org/wiki/Matrix_mechanics)\n",
        "\n",
        "* [The Feynman Lectures on Physics, Volume I](https://www.feynmanlectures.caltech.edu/I_toc.html)\n",
        "\n",
        "* [The Principle of the least action, the universal law of motion and posology.](http://www.homeoint.org/cazalet/fincke/leastaction.htm)\n",
        "\n",
        "* [Lagrangian](https://en.wikipedia.org/wiki/Lagrangian)\n",
        "\n",
        "* [Noether's theorem](https://en.wikipedia.org/wiki/Noether's_theorem)\n",
        "\n",
        "* [Hamilton's principle](https://en.wikipedia.org/wiki/Hamilton's_principle)\n",
        "\n",
        "* [Fermat's principle](https://en.wikipedia.org/wiki/Fermat's_principle)\n",
        "\n",
        "* [Morse theory](https://en.wikipedia.org/wiki/Morse_theory)\n",
        "\n",
        "* [Action (physics)](https://en.wikipedia.org/wiki/Action_(physics))\n",
        "\n",
        "* [Stationary Action Principle](https://en.wikipedia.org/wiki/Stationary_Action_Principle)\n",
        "\n",
        "* [The Principles of Quantum Mechanics](https://en.wikipedia.org/wiki/The_Principles_of_Quantum_Mechanics)\n",
        "\n",
        "* [Fluid dynamics](https://en.wikipedia.org/wiki/Fluid_dynamics)\n",
        "\n",
        "* https://ocw.mit.edu/courses/earth-atmospheric-and-planetary-sciences/12-086-modeling-environmental-complexity-fall-2014/\n",
        "\n",
        "* https://ocw.mit.edu/courses/physics/8-591j-systems-biology-fall-2014/\n",
        "\n",
        "* https://github.com/ContextLab/human-memory\n",
        "\n",
        "* https://www.tristanhenderson.info/education/biotools\n",
        "\n",
        "* https://spectrum.ieee.org/the-future-of-deep-learning-is-photonic\n",
        "\n",
        "* https://en.wikipedia.org/wiki/Denis_Papin\n",
        "\n",
        "*  https://en.wikipedia.org/wiki/Christiaan_Huygens\n",
        "\n",
        "* https://en.wikipedia.org/wiki/Fertilisation\n",
        "\n",
        "* https://join.substack.com/p/is-this-the-most-interesting-idea\n",
        "\n",
        "* https://en.wikipedia.org/wiki/Radiation\n",
        "\n",
        "* https://en.wikipedia.org/wiki/Vibration\n",
        "\n",
        "* https://en.wikipedia.org/wiki/Insulator_(electricity)\n",
        "\n",
        "* https://en.wikipedia.org/wiki/Cognitive_model\n",
        "\n",
        "* "
      ]
    }
  ]
}