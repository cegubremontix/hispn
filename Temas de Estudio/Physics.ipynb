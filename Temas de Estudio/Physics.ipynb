{
  "nbformat": 4,
  "nbformat_minor": 0,
  "metadata": {
    "colab": {
      "name": "Physics.ipynb",
      "provenance": [],
      "collapsed_sections": [],
      "toc_visible": true,
      "authorship_tag": "ABX9TyNZ/CRDvjDorGKszZe+mHhk",
      "include_colab_link": true
    },
    "kernelspec": {
      "name": "python3",
      "display_name": "Python 3"
    }
  },
  "cells": [
    {
      "cell_type": "markdown",
      "metadata": {
        "id": "view-in-github",
        "colab_type": "text"
      },
      "source": [
        "<a href=\"https://colab.research.google.com/github/dbremont/Notas/blob/main/Temas%20de%20Estudio/Physics.ipynb\" target=\"_parent\"><img src=\"https://colab.research.google.com/assets/colab-badge.svg\" alt=\"Open In Colab\"/></a>"
      ]
    },
    {
      "cell_type": "markdown",
      "metadata": {
        "id": "Z4M3brxK4E4V"
      },
      "source": [
        "# Physics\n",
        "\n",
        "- [List of unsolved problems in physics](https://en.wikipedia.org/wiki/List_of_unsolved_problems_in_physics)\n",
        "\n",
        "- [Potential student research projects](https://physics.anu.edu.au/study/projects/index.php?Type=6&Department=0&ListBy=&Field=All&Search=)"
      ]
    },
    {
      "cell_type": "markdown",
      "metadata": {
        "id": "fkM2WPxAxQou"
      },
      "source": [
        "## Principal"
      ]
    },
    {
      "cell_type": "markdown",
      "metadata": {
        "id": "6Bxv2Nj6Nkb_"
      },
      "source": [
        "* [Physics of the Everyday](https://brilliant.org/courses/physics-everyday/)\n",
        "\n",
        "* [Classical Mechanics](https://brilliant.org/courses/dynamics-bootcamp/)\n",
        "\n",
        "* [Gravitational Physics](https://brilliant.org/courses/gravitational-physics/)\n",
        "\n",
        "* [Special Relativity](https://brilliant.org/courses/special-relativity/)\n",
        "\n",
        "* [Electricity and Magnetism](https://brilliant.org/courses/electromagnetism/)\n",
        "\n",
        "* [Waves and Light](https://brilliant.org/courses/waves-and-light/)\n",
        "\n",
        "* [Astrophysics](https://brilliant.org/courses/astronomy/)"
      ]
    },
    {
      "cell_type": "markdown",
      "metadata": {
        "id": "ffVzUTeyNb3f"
      },
      "source": [
        "## Secundario"
      ]
    },
    {
      "cell_type": "markdown",
      "metadata": {
        "id": "JrEBKtawNlAM"
      },
      "source": [
        "* [Lectures on Selected Topics in Classical and Fluid Mechanics](https://www.coursera.org/learn/lectures-on-selected-topics-in-classical-and-fluid-mechanics)\n",
        "\n",
        "* [Introduction into General Theory of Relativity](https://www.coursera.org/learn/general-relativity)\n",
        "\n",
        "* [Statistical Mechanics: Algorithms and Computations](https://www.coursera.org/learn/statistical-mechanics)\n",
        "\n",
        "*  [The Evolving Universe](https://www.coursera.org/learn/evolvinguniverse)\n",
        "\n",
        "* [General Relativity](https://ocw.mit.edu/courses/physics/8-962-general-relativity-spring-2020/index.htm)\n",
        "\n",
        "* [Vibrations and Waves](https://ocw.mit.edu/courses/physics/8-03sc-physics-iii-vibrations-and-waves-fall-2016/)\n"
      ]
    },
    {
      "cell_type": "markdown",
      "metadata": {
        "id": "YQ_-2PwVSR_b"
      },
      "source": [
        "**Theoretical Minimum**\n",
        "\n",
        "*  [Classical Mechanics](https://theoreticalminimum.com/courses/classical-mechanics/2011/fall)\n",
        "\n",
        "* [Special Relativity and Electrodynamics](https://theoreticalminimum.com/courses/special-relativity-and-electrodynamics/2012/spring)\n",
        "\n",
        "* [General Relativity](https://theoreticalminimum.com/courses/general-relativity/2012/fall)"
      ]
    }
  ]
}