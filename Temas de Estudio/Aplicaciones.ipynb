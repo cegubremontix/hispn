{
  "nbformat": 4,
  "nbformat_minor": 0,
  "metadata": {
    "colab": {
      "name": "Aplicaciones.ipynb",
      "provenance": [],
      "collapsed_sections": [],
      "authorship_tag": "ABX9TyMVy80HRlh1hDlfJVDVJfC+",
      "include_colab_link": true
    },
    "kernelspec": {
      "name": "python3",
      "display_name": "Python 3"
    },
    "language_info": {
      "name": "python"
    }
  },
  "cells": [
    {
      "cell_type": "markdown",
      "metadata": {
        "id": "view-in-github",
        "colab_type": "text"
      },
      "source": [
        "<a href=\"https://colab.research.google.com/github/dbremont/Notas/blob/main/Temas%20de%20Estudio/Aplicaciones.ipynb\" target=\"_parent\"><img src=\"https://colab.research.google.com/assets/colab-badge.svg\" alt=\"Open In Colab\"/></a>"
      ]
    },
    {
      "cell_type": "markdown",
      "metadata": {
        "id": "QD4MSLcYEvTo"
      },
      "source": [
        "Goals:\n",
        "\n",
        " - Analisar las aplicaciones de la ciencia.\n",
        " - Analisar el mercado de esas aplicaciones.\n",
        " - Analisar la utilidad  de esas aplicaciones.\n",
        " - Analisar como esas aplicaciones mejoran con el tiempo.\n",
        " - Analisar las cadena de valores de esas aplicaciones.\n",
        " - Analisar los paises detras de esas aplicaciones y companias.\n",
        "\n",
        " - [16 Open Problems in Engineering Biology](https://a16z.com/2020/07/22/16-open-problems-engineering-biology/)\n"
      ]
    },
    {
      "cell_type": "markdown",
      "metadata": {
        "id": "sercohTxzUyx"
      },
      "source": [
        "## Recursos\n",
        "\n"
      ]
    },
    {
      "cell_type": "markdown",
      "metadata": {
        "id": "PQt51pU0cdCE"
      },
      "source": [
        "* [Self-Driving Cars with Duckietown](https://www.edx.org/es/course/self-driving-cars-with-duckietown)\n",
        "\n",
        "* [Do-It-Yourself Engineering](https://www.thegreatcoursesplus.com/do-it-yourself-engineering)\n",
        "\n",
        "* [How To Make (almost) Anything](https://fab.cba.mit.edu/classes/863.20/)\n",
        "\n",
        "* [How to Make Something that Makes (almost) Anything](https://fab.cba.mit.edu/classes/865.21/index.html)\n",
        "\n",
        "* [Autonomous Mobile Robots](https://www.edx.org/es/course/autonomous-mobile-robots)\n",
        "\n",
        "* [Autonomous robots](https://www.edx.org/es/course/autonomous-robots)\n",
        "\n",
        "* [Bayesian Algorithms for Self-Driving Cars](https://www.edx.org/es/course/navigation-and-place-editing-algorithms)\n",
        "\n",
        "* [Mechatronics Revolution: Fundamentals and Core Concepts](https://www.edx.org/es/course/mechatronics)\n",
        "\n",
        "\n",
        "\n",
        "* [Robotics](https://www.thegreatcoursesplus.com/robotics)\n",
        "\n",
        "* [Everyday Engineering: Understanding the Marvels of Daily Life](https://www.thegreatcoursesplus.com/everyday-engineering-understanding-the-marvels-of-daily-life)\n",
        "\n",
        "* [The Science of Flight](https://www.thegreatcoursesplus.com/the-science-of-flight)\n",
        "\n",
        "* [Understanding the Inventions That Changed the World](https://www.thegreatcoursesplus.com/understanding-the-inventions-that-changed-the-world)\n",
        "\n",
        "* [Frontiers of Biomedical Engineering with W. Mark Saltzman](https://www.youtube.com/playlist?list=PL27E877E8206F196B)\n",
        "\n",
        "* [Remote Sensing Image Acquisition, Analysis and Applications](https://www.coursera.org/learn/remote-sensing)\n",
        "\n",
        "* [Microwave engineering and antennas](https://www.coursera.org/learn/microwave-antenna)\n",
        "\n",
        "* [Introduction to Satellite Communications](https://www.coursera.org/learn/satellite-communications)\n",
        "\n",
        "* [Industiral Biotechnology](https://www.coursera.org/learn/industrial-biotech)\n",
        "\n",
        "* [Introduction to Modern Brain-Computer Interface Design](https://www.youtube.com/playlist?list=PLbbCsk7MUIGcO_lZMbyymWU2UezVHNaMq)\n",
        "\n",
        "* [Fundamentals of Manufacturing Processes](https://www.edx.org/es/course/fundamentals-of-manufacturing-processes)\n",
        "\n",
        "* [The Science and Business of Biotechnology](https://www.edx.org/es/course/the-science-and-business-of-biotechnology)\n"
      ]
    },
    {
      "cell_type": "markdown",
      "metadata": {
        "id": "_DRI5f2FFq9i"
      },
      "source": [
        "# Robotics"
      ]
    },
    {
      "cell_type": "markdown",
      "metadata": {
        "id": "mDwVq0WiGPOr"
      },
      "source": [
        "- Point Cloud Registration.\n",
        "\n",
        "- Sensors.\n",
        "  - Servo Motor.\n",
        "\n",
        "- Actuators.\n",
        "\n",
        "- Robot Controller : Sensors Data ->  Actuators Instructions.\n",
        "\n",
        "- Programable.\n",
        "\n",
        "- Micro-Controller.\n",
        "\n",
        "- Voltage.\n",
        "\n",
        "- Partial Remote Control, Partial Control.\n",
        "\n",
        "- Behaviour Module.\n",
        "\n",
        "- Roomba Robot."
      ]
    }
  ]
}