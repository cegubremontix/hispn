{
  "nbformat": 4,
  "nbformat_minor": 0,
  "metadata": {
    "colab": {
      "name": "Systems.ipynb",
      "provenance": [],
      "collapsed_sections": [],
      "toc_visible": true,
      "include_colab_link": true
    },
    "kernelspec": {
      "name": "python3",
      "display_name": "Python 3"
    },
    "language_info": {
      "name": "python"
    }
  },
  "cells": [
    {
      "cell_type": "markdown",
      "metadata": {
        "id": "view-in-github",
        "colab_type": "text"
      },
      "source": [
        "<a href=\"https://colab.research.google.com/github/dbremont/Notas/blob/main/Temas%20de%20Estudio/Systems.ipynb\" target=\"_parent\"><img src=\"https://colab.research.google.com/assets/colab-badge.svg\" alt=\"Open In Colab\"/></a>"
      ]
    },
    {
      "cell_type": "markdown",
      "metadata": {
        "id": "5SaZLBt0-FGT"
      },
      "source": [
        "# Systems"
      ]
    },
    {
      "cell_type": "markdown",
      "metadata": {
        "id": "0mA9OpvFrV6e"
      },
      "source": [
        "*  [The Missing Semester of Your CS Education](https://missing.csail.mit.edu/2020/)\n",
        "\n",
        "* [Introduction to Jenkins](https://www.edx.org/es/course/introduction-to-jenkins)\n",
        "\n",
        "* [Bitcoin and Cryptocurrency Technologies](https://www.coursera.org/learn/cryptocurrency)\n",
        "\n",
        "* [Cyber-Physical Systems Design & Analysis](https://classroom.udacity.com/courses/ud9876)\n",
        "\n",
        "* [Front End Frameworks](https://classroom.udacity.com/courses/ud894)\n",
        "\n",
        "* [JavaScript Design Patterns](https://classroom.udacity.com/courses/ud989)\n",
        "\n",
        "* [Designing RESTful APIs](https://classroom.udacity.com/courses/ud388)\n",
        "\n",
        "* [Writing READMEs](https://classroom.udacity.com/courses/ud777)\n",
        "\n",
        "* [Intro to Progressive Web Apps](https://classroom.udacity.com/courses/ud811)\n",
        "\n",
        "* [Browser Rendering Optimization](https://classroom.udacity.com/courses/ud860)\n",
        "\n",
        "* [Website Performance Optimization](https://classroom.udacity.com/courses/ud884)\n",
        "\n",
        "* [Web Tooling & Automation](https://classroom.udacity.com/courses/ud892)\n",
        "\n",
        "* [Authentication & Authorization: OAuth](https://classroom.udacity.com/courses/ud330)"
      ]
    },
    {
      "cell_type": "markdown",
      "metadata": {
        "id": "bHKdaPzE8pFV"
      },
      "source": [
        "* [6.005 Software Construction in Java](https://colab.research.google.com/github/dbremont/Notas/blob/main/Ingenerare/6_005_Software_Construction_in_Java.ipynb)\n",
        "\n",
        "* [Structure and Interpretation of Computer Programs](https://ocw.mit.edu/courses/electrical-engineering-and-computer-science/6-001-structure-and-interpretation-of-computer-programs-spring-2005/)\n",
        "\n",
        "* [Programming Reactive Systems](https://www.coursera.org/learn/scala-akka-reactive/home/welcome)\n",
        "\n",
        "* [Parallel programming](https://www.coursera.org/learn/parprog1)"
      ]
    },
    {
      "cell_type": "markdown",
      "metadata": {
        "id": "Ni_AyWr8YsUI"
      },
      "source": [
        "* [6.004 Computation Structures](https://colab.research.google.com/github/dbremont/Notas/blob/main/Ingenerare/6_004_Computation_Structures.ipynb)\n",
        "\n",
        "* [Computer Architecture](https://colab.research.google.com/github/dbremont/Notas/blob/main/Ingenerare/Computer_Architecture.ipynb)"
      ]
    },
    {
      "cell_type": "markdown",
      "metadata": {
        "id": "-kWKbt1DxL3F"
      },
      "source": [
        "* [Computer Systems / Programming](https://colab.research.google.com/github/dbremont/Notas/blob/main/Ingenerare/Computer_Systems.ipynb)\n",
        "\n",
        "* [Distributed Systems](https://colab.research.google.com/github/dbremont/Notas/blob/main/Ingenerare/Distributed_Systems.ipynb)\n",
        "\n",
        "* [Fundamentals of Computer Networks](https://colab.research.google.com/github/dbremont/Notas/blob/main/Ingenerare/Fundamentals_of_Computer_Networks.ipynb)\n",
        "\n",
        "* [Compilers](https://colab.research.google.com/github/dbremont/Notas/blob/main/Ingenerare/Compilers.ipynb)\n",
        "\n",
        "* [Virtual Machines](https://colab.research.google.com/github/dbremont/Notas/blob/main/Ingenerare/Virtual_Machines.ipynb)\n",
        "\n",
        "* [Databases](https://colab.research.google.com/github/dbremont/Notas/blob/main/Ingenerare/Databases.ipynb)"
      ]
    },
    {
      "cell_type": "markdown",
      "metadata": {
        "id": "aqOkzDY0XJRy"
      },
      "source": [
        "- [Operating Systems](https://colab.research.google.com/github/dbremont/Notas/blob/main/Ingenerare/Operating_Systems.ipynb)\n",
        "\n",
        "* [Introduction to Operating Systems](https://classroom.udacity.com/courses/ud923)\n",
        "\n",
        "* [Advanced Operating Systems](https://classroom.udacity.com/courses/ud189)"
      ]
    },
    {
      "cell_type": "markdown",
      "metadata": {
        "id": "Bweyp7Fs-G9Z"
      },
      "source": [
        "* [Full Stack Deep Learning](https://fullstackdeeplearning.com/)\n",
        "\n",
        "* [Machine Learning Systems](https://pooyanjamshidi.github.io/mls/)\n",
        "\n",
        "* [Real-Time Analytics with Apache Storm](https://classroom.udacity.com/courses/ud381)"
      ]
    },
    {
      "cell_type": "markdown",
      "metadata": {
        "id": "Z7ZLAwGvWuPj"
      },
      "source": [
        "* [High Performance Computing](https://colab.research.google.com/github/dbremont/Notas/blob/main/Ingenerare/High_Performance_Computing.ipynb)\n",
        "\n",
        "* [Program Syntesis](https://colab.research.google.com/github/dbremont/Notas/blob/main/Ingenerare/Program_Syntesis.ipynb)\n",
        "\n",
        "* [Security](https://colab.research.google.com/github/dbremont/Notas/blob/main/Ingenerare/Computer_Security.ipynb)\n"
      ]
    }
  ]
}