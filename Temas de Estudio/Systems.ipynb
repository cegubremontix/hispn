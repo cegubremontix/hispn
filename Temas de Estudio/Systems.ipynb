{
  "nbformat": 4,
  "nbformat_minor": 0,
  "metadata": {
    "colab": {
      "name": "Systems.ipynb",
      "provenance": [],
      "collapsed_sections": [],
      "toc_visible": true,
      "authorship_tag": "ABX9TyPq8gNcsqHYE6IopbUniU4K",
      "include_colab_link": true
    },
    "kernelspec": {
      "name": "python3",
      "display_name": "Python 3"
    },
    "language_info": {
      "name": "python"
    }
  },
  "cells": [
    {
      "cell_type": "markdown",
      "metadata": {
        "id": "view-in-github",
        "colab_type": "text"
      },
      "source": [
        "<a href=\"https://colab.research.google.com/github/dbremont/Notas/blob/main/Temas%20de%20Estudio/Systems.ipynb\" target=\"_parent\"><img src=\"https://colab.research.google.com/assets/colab-badge.svg\" alt=\"Open In Colab\"/></a>"
      ]
    },
    {
      "cell_type": "markdown",
      "metadata": {
        "id": "5SaZLBt0-FGT"
      },
      "source": [
        "# Proyects"
      ]
    },
    {
      "cell_type": "markdown",
      "metadata": {
        "id": "sTmNqPUGhi1U"
      },
      "source": [
        "# ML Systems"
      ]
    },
    {
      "cell_type": "markdown",
      "metadata": {
        "id": "Bweyp7Fs-G9Z"
      },
      "source": [
        "* [Full Stack Deep Learning](https://fullstackdeeplearning.com/)\n",
        "\n",
        "* [Machine Learning Systems](https://pooyanjamshidi.github.io/mls/)\n",
        "\n",
        "* [Multi-Agent Programming](https://www.emse.fr/~boissier/enseignement/maop16/index.html)"
      ]
    },
    {
      "cell_type": "markdown",
      "metadata": {
        "id": "FQWSox6n9Y8X"
      },
      "source": [
        "# Computer Systems\n",
        "\n",
        "- Unix Filesystems\n",
        "- Multiprocessing (multiple processes running simultaneously)\n",
        "- Signal Handling (sending a signal to a process)\n",
        "- Multithreading (multiple threads in a single process running simultaneously)\n",
        "- Networking Servers and Clients\n",
        "\n",
        "- Computer Systems: A Programmer's Perspective, by Bryant and O'Hallaron\n",
        "\n",
        "- Principles of Computer System Design: An Introduction, by Jerome H. Saltzer and M. Frans Kaashoek"
      ]
    },
    {
      "cell_type": "markdown",
      "metadata": {
        "id": "-kWKbt1DxL3F"
      },
      "source": [
        "* [6.826 Principles of Computer Systems](https://6826.csail.mit.edu/2020/index.html)\n",
        "\n",
        "* [CS 361 Systems Programming](https://www.youtube.com/playlist?list=PLhy9gU5W1fvUND_5mdpbNVHC1WCIaABbP)\n",
        "\n",
        "* [CS 631 Advanced Programming in the UNIX Environment](https://stevens.netmeister.org/631/)"
      ]
    },
    {
      "cell_type": "markdown",
      "metadata": {
        "id": "zH297cUe9l1V"
      },
      "source": [
        "# Operating Systems"
      ]
    },
    {
      "cell_type": "markdown",
      "metadata": {
        "id": "nt0INVqhx3o1"
      },
      "source": [
        "1. What are OSes? / Logistics \n",
        "2. Multiprogramming and Dual-Mode Operation\n",
        "3. Monolithic Kernels, the Unix API 1 \n",
        "4. The Unix API 2 \n",
        "5. Scheduling 1\n",
        "6. Scheduling 2\n",
        "7. Scheduling 3 / Threads\n",
        "8. Threads 2 / Synchronization 1: Locks 1\n",
        "9. Synchronization 2: Locks 2, Mutexes\n",
        "10. Synchronization 3: Semaphores and Monitors \n",
        "11. Synchronization 4: Monitors continued / Reader+Writer Locks / Deadlock\n",
        "12. Synchronization 5\n",
        "13. Virtual Memory 1\n",
        "14. Virtual Memory 2: mmap, page cache\n",
        "15. Virtual Memory 3: Page Replacement\n",
        "16. Virtual 4 / I/O\n",
        "17. I/O 2 / Filesystems 1\n",
        "18. Filesystems 2\n",
        "19. Filesystems 3\n",
        "20. Filesystems 4 / Distributed Systems 0 \n",
        "21. Sockets / Distributed Systems 1\n",
        "22. Distributed Systems 2: RPC / Network filesystems\n",
        "23. Distributed Systems 3: Failure\n",
        "24. Access Control\n",
        "25. Virtual Machines"
      ]
    },
    {
      "cell_type": "markdown",
      "metadata": {
        "id": "aqOkzDY0XJRy"
      },
      "source": [
        "* [6.828 Operating System Engineering](https://pdos.csail.mit.edu/6.828/2020/)\n",
        "\n",
        "* [CS 161: Operating Systems](https://www.seltzer.com/margo/teaching/cs161-16/index.html)"
      ]
    },
    {
      "cell_type": "markdown",
      "metadata": {
        "id": "w5iRUXom9q6Z"
      },
      "source": [
        "# Databases"
      ]
    },
    {
      "cell_type": "markdown",
      "metadata": {
        "id": "dV-pXZtPyVg7"
      },
      "source": [
        "- SQL Lite Source Code\n",
        "  - Build & Debug\n",
        "- Virtual Machines\n",
        "- Parser\n",
        "- B-Tree ...\n",
        "- Para instalar SQLite hay que primero instalar tlc\n",
        "- Para ma;na tratar de ./configure && make en folder correctamente y ejecutar la shell y crear una tabla simple."
      ]
    },
    {
      "cell_type": "markdown",
      "metadata": {
        "id": "R0XLvUGZTK3K"
      },
      "source": [
        "* [A Celebration of Mike Stonebraker](https://www.youtube.com/playlist?list=PLSE8ODhjZXjZO802SjzqBFFlkuKglgbZD)\n",
        "\n",
        "* [Time Series Database](https://www.youtube.com/playlist?list=PLSE8ODhjZXjY0GMWN4X8FIkYNfiu8_Wl9)\n",
        "\n",
        "* [15-445/645 Introduction to Database Systems](https://15445.courses.cs.cmu.edu/fall2019/)\n",
        "\n",
        "* [15-721 Advanced Database Systems](https://15721.courses.cs.cmu.edu/spring2020/)\n",
        "\n",
        "* [CS 245 Principles of Data-Intensive Systems](http://web.stanford.edu/class/cs245/)\n",
        "\n",
        "* [CS 186 Introduction to Databases](https://www.youtube.com/user/CS186Berkeley/playlists)\n",
        "\n",
        "* [Big Data - ETH Zurich](https://www.youtube.com/playlist?list=PLs5KPrcFtb0UHTl_gXR_EYW28m9pD8iYN)\n",
        "\n",
        "* [Big Data for Engineers - ETH Zurich](https://www.youtube.com/playlist?list=PLs5KPrcFtb0UHTl_gXR_EYW28m9pD8iYN)\n",
        "\n",
        "* [CS 276 / LING 286: Information Retrieval and Web Search](http://web.stanford.edu/class/cs276/)"
      ]
    },
    {
      "cell_type": "markdown",
      "metadata": {
        "id": "sr3muZ4BJXcp"
      },
      "source": [
        "* [How To Compile SQLite](https://sqlite.org/howtocompile.html)"
      ]
    },
    {
      "cell_type": "markdown",
      "metadata": {
        "id": "Zj__2L_295-D"
      },
      "source": [
        "# Distributed Systems"
      ]
    },
    {
      "cell_type": "markdown",
      "metadata": {
        "id": "dd4C-rY2yfcl"
      },
      "source": [
        "1. Introduction\n",
        "2. RPC and Threads, crawler.go, kv.go\n",
        "3. GFS\n",
        "4. Primary-Backup Replication\n",
        "5. Go, Threads, and Raft, code samples\n",
        "6. Fault Tolerance: Raft (1)\n",
        "7. Fault Tolerance: Raft (2)\n",
        "8. Zookeeper\n",
        "9.  More Replication, CRAQ\n",
        "10. Cloud Replicated DB, Aurora \n",
        "11. Cache Consistency: Frangipani\n",
        "12. Distributed Transactions\n",
        "13. Spanner\n",
        "14. Optimistic Concurrency Control\n",
        "15. Big Data: Spark\n",
        "16. Cache Consistency: Memcached at Facebook\n",
        "17. Causal Consistency, COPS\n",
        "18. Fork Consistency, Certificate Transparency\n",
        "19. Peer-to-peer: Bitcoin\n",
        "20. Blockstack\n",
        "21. Project demos"
      ]
    },
    {
      "cell_type": "markdown",
      "metadata": {
        "id": "97oFkXUSUBOJ"
      },
      "source": [
        "- [A curated list to learn about distributed systems](https://github.com/theanalyst/awesome-distributed-systems)\n",
        "\n",
        "* [Distributed Systems](http://www.distributedsystemscourse.com/)\n",
        "\n",
        "* [18-845 Internet Services](https://course.ece.cmu.edu/~ece845/)\n",
        "\n",
        "* [6.824 Distributed Systems](https://pdos.csail.mit.edu/6.824/schedule.html)\n",
        "    * [Posts](https://timilearning.com/)\n",
        "\n",
        "* [CS 518: Advanced Computer Systems](https://www.cs.princeton.edu/courses/archive/spr17/cos518/index.html)\n"
      ]
    },
    {
      "cell_type": "markdown",
      "metadata": {
        "id": "BzS3v0f3lqDP"
      },
      "source": [
        "# Compilers & Programming Languages"
      ]
    },
    {
      "cell_type": "markdown",
      "metadata": {
        "id": "9EAFZTIPluSQ"
      },
      "source": [
        "- [Compilers: Theory and Practice](https://www.udacity.com/course/compilers-theory-and-practice--ud168)\n",
        "\n",
        "- [CS 6120: Advanced Compilers: The Self-Guided Online Course](https://www.cs.cornell.edu/courses/cs6120/2020fa/self-guided/)\n",
        "\n",
        "- [6.035: Computer Language Engineering](http://6.035.scripts.mit.edu/fa18/index.html)"
      ]
    }
  ]
}