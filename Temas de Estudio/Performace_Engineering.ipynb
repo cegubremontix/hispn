{
  "nbformat": 4,
  "nbformat_minor": 0,
  "metadata": {
    "colab": {
      "name": "Performace Engineering.ipynb",
      "provenance": [],
      "include_colab_link": true
    },
    "kernelspec": {
      "name": "python3",
      "display_name": "Python 3"
    },
    "language_info": {
      "name": "python"
    }
  },
  "cells": [
    {
      "cell_type": "markdown",
      "metadata": {
        "id": "view-in-github",
        "colab_type": "text"
      },
      "source": [
        "<a href=\"https://colab.research.google.com/github/dbremont/Notas/blob/main/Temas%20de%20Estudio/Performace_Engineering.ipynb\" target=\"_parent\"><img src=\"https://colab.research.google.com/assets/colab-badge.svg\" alt=\"Open In Colab\"/></a>"
      ]
    },
    {
      "cell_type": "markdown",
      "metadata": {
        "id": "_CNAGe4FXgDe"
      },
      "source": [
        "[Performance Engineering of Software Systems](https://ocw.mit.edu/courses/electrical-engineering-and-computer-science/6-172-performance-engineering-of-software-systems-fall-2018/)"
      ]
    },
    {
      "cell_type": "markdown",
      "metadata": {
        "id": "cD5zxYq2luLG"
      },
      "source": [
        "[Systems Performace](https://colab.research.google.com/github/dbremont/Notas/blob/main/Libros/Computacion/Systems_Performace.ipynb)\n",
        "\n",
        "[Optimizing Java](https://colab.research.google.com/github/dbremont/Notas/blob/main/Libros/Computacion/Optimizing_Java.ipynb)\n",
        "\n",
        "[Avoiding Benchmarking Pitfalls on the JVM](https://www.oracle.com/technical-resources/articles/java/architect-benchmarking.html)"
      ]
    }
  ]
}