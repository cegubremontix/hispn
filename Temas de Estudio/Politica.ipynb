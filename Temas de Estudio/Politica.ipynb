{
  "nbformat": 4,
  "nbformat_minor": 0,
  "metadata": {
    "colab": {
      "name": "Politica.ipynb",
      "provenance": [],
      "authorship_tag": "ABX9TyNNjmsbwQ0oynKqR7XcVcAr",
      "include_colab_link": true
    },
    "kernelspec": {
      "name": "python3",
      "display_name": "Python 3"
    },
    "language_info": {
      "name": "python"
    }
  },
  "cells": [
    {
      "cell_type": "markdown",
      "metadata": {
        "id": "view-in-github",
        "colab_type": "text"
      },
      "source": [
        "<a href=\"https://colab.research.google.com/github/dbremont/Notas/blob/main/Temas%20de%20Estudio/Politica.ipynb\" target=\"_parent\"><img src=\"https://colab.research.google.com/assets/colab-badge.svg\" alt=\"Open In Colab\"/></a>"
      ]
    },
    {
      "cell_type": "markdown",
      "metadata": {
        "id": "DoTo2qAz-68f"
      },
      "source": [
        "## Politica"
      ]
    },
    {
      "cell_type": "markdown",
      "metadata": {
        "id": "0tx8viHDEArr"
      },
      "source": [
        "- [Political Methodology](https://politicalscience.stanford.edu/research/political-methodology)\n",
        "\n",
        "\n",
        "- [Prebendalism](https://en.wikipedia.org/wiki/Prebendalism)\n",
        "\n",
        "- [Clientelism](https://en.wikipedia.org/wiki/Clientelism)"
      ]
    }
  ]
}