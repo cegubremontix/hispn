{
  "nbformat": 4,
  "nbformat_minor": 0,
  "metadata": {
    "colab": {
      "name": "Neuroscience.ipynb",
      "provenance": [],
      "authorship_tag": "ABX9TyPb2pnGXbXvwQOI8r2lqzeR",
      "include_colab_link": true
    },
    "kernelspec": {
      "name": "python3",
      "display_name": "Python 3"
    },
    "language_info": {
      "name": "python"
    }
  },
  "cells": [
    {
      "cell_type": "markdown",
      "metadata": {
        "id": "view-in-github",
        "colab_type": "text"
      },
      "source": [
        "<a href=\"https://colab.research.google.com/github/dbremont/Notas/blob/main/Temas%20de%20Estudio/Neuroscience.ipynb\" target=\"_parent\"><img src=\"https://colab.research.google.com/assets/colab-badge.svg\" alt=\"Open In Colab\"/></a>"
      ]
    },
    {
      "cell_type": "markdown",
      "metadata": {
        "id": "fvyUDhY93QeZ"
      },
      "source": [
        "## Neuroscience"
      ]
    },
    {
      "cell_type": "markdown",
      "metadata": {
        "id": "nnHZHhCesOAj"
      },
      "source": [
        "## Principal"
      ]
    },
    {
      "cell_type": "markdown",
      "metadata": {
        "id": "5fxxeYON3oNa"
      },
      "source": [
        "* [Introduction to Neural Computation](https://ocw.mit.edu/courses/brain-and-cognitive-sciences/9-40-introduction-to-neural-computation-spring-2018/)"
      ]
    },
    {
      "cell_type": "markdown",
      "metadata": {
        "id": "pO8-pKQRsQKK"
      },
      "source": [
        "## Secundario"
      ]
    },
    {
      "cell_type": "markdown",
      "metadata": {
        "id": "ecaTHksLsTPy"
      },
      "source": [
        "* [Statistical Models of the Brain](https://www.stat.cmu.edu/~kass/teaching.html#brain)\n",
        "\n",
        "* [Synapses, Neurons and Brains](https://www.coursera.org/learn/synapses/home/welcome)\n",
        "\n",
        "* [Computational Neuroscience](https://www.coursera.org/learn/computational-neuroscience)"
      ]
    },
    {
      "cell_type": "markdown",
      "metadata": {
        "id": "N_oMYGgbs7Ru"
      },
      "source": [
        "## Recursos"
      ]
    },
    {
      "cell_type": "markdown",
      "metadata": {
        "id": "njx6dj0Ys88h"
      },
      "source": [
        "- [Spike Train](https://www.stat.cmu.edu/~kass/papers/SpikeTrain.pdf)\n",
        "\n",
        "- Poisson Process, \n",
        "- spike train variability, \n",
        "- convolution, \n",
        "- cross-correlation, \n",
        "- autocorrelation functions, \n",
        "- and Fourier series."
      ]
    },
    {
      "cell_type": "markdown",
      "metadata": {
        "id": "Ebcjtwss2_Cp"
      },
      "source": [
        "So many mysteries about the brain. So many known & reliable mechanisms of physiology. Many translate to actionable steps that can positively impact the brain too. The key levers are: light, temperature, movement, hormones, nutrients (amount, type and timing)."
      ]
    }
  ]
}