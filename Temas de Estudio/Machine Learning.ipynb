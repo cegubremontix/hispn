{
  "nbformat": 4,
  "nbformat_minor": 0,
  "metadata": {
    "colab": {
      "name": "Machine Learning.ipynb",
      "provenance": [],
      "collapsed_sections": [],
      "toc_visible": true,
      "authorship_tag": "ABX9TyNHrxuz4jWyQ5qmE2RVe8xi",
      "include_colab_link": true
    },
    "kernelspec": {
      "name": "python3",
      "display_name": "Python 3"
    }
  },
  "cells": [
    {
      "cell_type": "markdown",
      "metadata": {
        "id": "view-in-github",
        "colab_type": "text"
      },
      "source": [
        "<a href=\"https://colab.research.google.com/github/dbremont/Notas/blob/main/Temas%20de%20Estudio/Machine%20Learning.ipynb\" target=\"_parent\"><img src=\"https://colab.research.google.com/assets/colab-badge.svg\" alt=\"Open In Colab\"/></a>"
      ]
    },
    {
      "cell_type": "markdown",
      "metadata": {
        "id": "YgFHu5kx1Ljo"
      },
      "source": [
        "# Machine Learning\n",
        "\n",
        "- Concepts\n",
        "- Techniques\n",
        "- Problems\n",
        "- Programming\n",
        "\n",
        "Understand machine learning's role in data-driven modeling, prediction, and decision-making."
      ]
    },
    {
      "cell_type": "markdown",
      "metadata": {
        "id": "sSkw3XocTLyR"
      },
      "source": [
        "## Primario"
      ]
    },
    {
      "cell_type": "markdown",
      "metadata": {
        "id": "ehPf6uGZVWg-"
      },
      "source": [
        "* [Machine Learning](https://brilliant.org/courses/machine-learning/)\n",
        "\n",
        "* [CS 6.036- Intro to Machine Learning](https://openlearninglibrary.mit.edu/courses/course-v1:MITx+6.036+1T2019/course/)"
      ]
    },
    {
      "cell_type": "markdown",
      "metadata": {
        "id": "g6XatG6gTN9E"
      },
      "source": [
        "## Secundario"
      ]
    },
    {
      "cell_type": "markdown",
      "metadata": {
        "id": "q_k_JMC2TQP-"
      },
      "source": [
        "* [Machine Learning](https://speech.ee.ntu.edu.tw/~hylee/ml/2021-spring.html)\n",
        "\n",
        "* [Introduction to Machine Learning](https://www.thegreatcourses.com/player/Video/9070?autoplay=false)\n",
        "\n",
        "* [CS229: Machine Learning](https://www.youtube.com/embed/playlist?list=PLoROMvodv4rNH7qL6-efu_q2_bPuy0adh)\n",
        "\n",
        "* [CMU 10-301/601 - Introduction to Machine Learning](https://www.youtube.com/embed/playlist?list=PLpqQKYIU-snAPM89YPPwyQ9xdaiAdoouk)"
      ]
    }
  ]
}