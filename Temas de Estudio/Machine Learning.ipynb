{
  "nbformat": 4,
  "nbformat_minor": 0,
  "metadata": {
    "colab": {
      "name": "Machine Learning.ipynb",
      "provenance": [],
      "collapsed_sections": [],
      "authorship_tag": "ABX9TyMeu44CkctY1lnEQuszeKyD",
      "include_colab_link": true
    },
    "kernelspec": {
      "name": "python3",
      "display_name": "Python 3"
    }
  },
  "cells": [
    {
      "cell_type": "markdown",
      "metadata": {
        "id": "view-in-github",
        "colab_type": "text"
      },
      "source": [
        "<a href=\"https://colab.research.google.com/github/dbremont/Notas/blob/main/Temas%20de%20Estudio/Machine%20Learning.ipynb\" target=\"_parent\"><img src=\"https://colab.research.google.com/assets/colab-badge.svg\" alt=\"Open In Colab\"/></a>"
      ]
    },
    {
      "cell_type": "markdown",
      "metadata": {
        "id": "YgFHu5kx1Ljo"
      },
      "source": [
        "# Machine Learning\n",
        "\n",
        "- Concepts\n",
        "- Techniques\n",
        "- Problems\n",
        "- Programming\n",
        "\n",
        "Understand machine learning's role in data-driven modeling, prediction, and decision-making.\n",
        "\n",
        "- [Advanced Machine Learning Specialization](https://www.coursera.org/specializations/aml)\n",
        "\n",
        "- [Mathematics for Data Science Specialization](https://www.coursera.org/specializations/mathematics-for-data-science)"
      ]
    },
    {
      "cell_type": "markdown",
      "metadata": {
        "id": "sSkw3XocTLyR"
      },
      "source": [
        "## Primario"
      ]
    },
    {
      "cell_type": "markdown",
      "metadata": {
        "id": "ehPf6uGZVWg-"
      },
      "source": [
        "* [Machine Learning](https://brilliant.org/courses/machine-learning/)\n",
        "\n",
        "* [CS 6.036- Intro to Machine Learning](https://openlearninglibrary.mit.edu/courses/course-v1:MITx+6.036+1T2019/course/)"
      ]
    },
    {
      "cell_type": "markdown",
      "metadata": {
        "id": "g6XatG6gTN9E"
      },
      "source": [
        "## Secundario"
      ]
    },
    {
      "cell_type": "markdown",
      "metadata": {
        "id": "q_k_JMC2TQP-"
      },
      "source": [
        "* [Introduction to Machine Learning](https://www.thegreatcourses.com/player/Video/9070?autoplay=false)\n",
        "\n",
        "* [CS224W: Machine Learning with Graphs](http://web.stanford.edu/class/cs224w/)\n",
        "\n",
        "* [CS229: Machine Learning](https://www.youtube.com/embed/playlist?list=PLoROMvodv4rNH7qL6-efu_q2_bPuy0adh)\n",
        "\n",
        "* [Statistical Machine Learning](https://www.youtube.com/embed/playlist?list=PLTB9VQq8WiaCBK2XrtYn5t9uuPdsNm7YE)\n",
        "\n",
        "* [CMU 10-301/601 - Introduction to Machine Learning](https://www.youtube.com/embed/playlist?list=PLpqQKYIU-snAPM89YPPwyQ9xdaiAdoouk)\n",
        "\n",
        "* [CMU 10-702/36-702 Statistical Machine Learning](https://www.youtube.com/embed/playlist?list=PLTB9VQq8WiaCBK2XrtYn5t9uuPdsNm7YE)"
      ]
    },
    {
      "cell_type": "markdown",
      "metadata": {
        "id": "kFoH_Kaj8zvP"
      },
      "source": [
        "Machine Learning\n",
        "\n",
        "Prerequisites\n",
        "    - Linear Algebra\n",
        "\n",
        "Course Overview\n",
        "\n",
        "Advanced quantitative techniques to analyze data where humans fall short.\n",
        "Machine learning swoops in where humans fail — such as when there are hundreds (or hundreds of thousands) variables to keep track of and millions (or billions, or trillions) of pieces of data to process.\n",
        "\n",
        "This course develops the mathematical basis needed to deeply understand how problems of classification and estimation work. By the end of this course, you’ll develop the techniques needed to analyze data and apply these techniques to real-world problems.\n",
        "\n",
        "Course Goals\n",
        "\n",
        "Course Structure\n",
        "\n",
        "    1. Linear Regression\n",
        "       Get your basics in line.\n",
        "\n",
        "    2. Linear Classification\n",
        "       Classifying both quantitative and qualitative data.\n",
        "    \n",
        "    3 Trees\n",
        "      Explore this versatile model and related ideas like bagging, random forests, and boosting.\n",
        "\n",
        "    4. Support Vector Machine\n",
        "       Divide classes with the best possible margin of error.\n",
        "\n",
        "    5. Kernels\n",
        "       It's time to upgrade the dot product."
      ]
    },
    {
      "cell_type": "markdown",
      "metadata": {
        "id": "ttYw0aHLE12r"
      },
      "source": [
        "- Representation Learning\n",
        "\n"
      ]
    }
  ]
}