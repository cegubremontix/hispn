{
  "nbformat": 4,
  "nbformat_minor": 0,
  "metadata": {
    "colab": {
      "name": "Machine Learning.ipynb",
      "provenance": [],
      "collapsed_sections": [],
      "authorship_tag": "ABX9TyNcxjr0TNeMgRevRtEbQ2LV",
      "include_colab_link": true
    },
    "kernelspec": {
      "name": "python3",
      "display_name": "Python 3"
    }
  },
  "cells": [
    {
      "cell_type": "markdown",
      "metadata": {
        "id": "view-in-github",
        "colab_type": "text"
      },
      "source": [
        "<a href=\"https://colab.research.google.com/github/dbremont/Notas/blob/main/Temas%20de%20Estudio/Machine%20Learning.ipynb\" target=\"_parent\"><img src=\"https://colab.research.google.com/assets/colab-badge.svg\" alt=\"Open In Colab\"/></a>"
      ]
    },
    {
      "cell_type": "markdown",
      "metadata": {
        "id": "YgFHu5kx1Ljo"
      },
      "source": [
        "# Machine Learning\n",
        "\n",
        "- Concepts\n",
        "- Techniques\n",
        "- Problems\n",
        "- Programming\n",
        "\n",
        "Understand machine learning's role in data-driven modeling, prediction, and decision-making.\n",
        "\n",
        "- [Advanced Machine Learning Specialization](https://www.coursera.org/specializations/aml)\n",
        "\n",
        "- [Mathematics for Data Science Specialization](https://www.coursera.org/specializations/mathematics-for-data-science)"
      ]
    },
    {
      "cell_type": "markdown",
      "metadata": {
        "id": "sSkw3XocTLyR"
      },
      "source": [
        "## Primario"
      ]
    },
    {
      "cell_type": "markdown",
      "metadata": {
        "id": "ehPf6uGZVWg-"
      },
      "source": [
        "* [Machine Learning](https://brilliant.org/courses/machine-learning/)\n",
        "\n",
        "* [CS 6.036- Intro to Machine Learning](https://openlearninglibrary.mit.edu/courses/course-v1:MITx+6.036+1T2019/course/)"
      ]
    },
    {
      "cell_type": "markdown",
      "metadata": {
        "id": "g6XatG6gTN9E"
      },
      "source": [
        "## Secundario"
      ]
    },
    {
      "cell_type": "markdown",
      "metadata": {
        "id": "q_k_JMC2TQP-"
      },
      "source": [
        "* [Introduction to Machine Learning](https://www.thegreatcourses.com/player/Video/9070?autoplay=false)\n",
        "\n",
        "* [CS224W: Machine Learning with Graphs](http://web.stanford.edu/class/cs224w/)\n",
        "\n",
        "* [CS229: Machine Learning](https://www.youtube.com/embed/playlist?list=PLoROMvodv4rNH7qL6-efu_q2_bPuy0adh)\n",
        "\n",
        "* [Statistical Machine Learning](https://www.youtube.com/embed/playlist?list=PLTB9VQq8WiaCBK2XrtYn5t9uuPdsNm7YE)\n",
        "\n",
        "* [CMU 10-301/601 - Introduction to Machine Learning](https://www.youtube.com/embed/playlist?list=PLpqQKYIU-snAPM89YPPwyQ9xdaiAdoouk)\n",
        "\n",
        "* [CMU 10-702/36-702 Statistical Machine Learning](https://www.youtube.com/embed/playlist?list=PLTB9VQq8WiaCBK2XrtYn5t9uuPdsNm7YE)"
      ]
    }
  ]
}