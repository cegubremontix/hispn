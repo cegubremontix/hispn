{
  "nbformat": 4,
  "nbformat_minor": 0,
  "metadata": {
    "colab": {
      "name": "Machine Learning.ipynb",
      "provenance": [],
      "collapsed_sections": [],
      "authorship_tag": "ABX9TyMDoZi1aJ/TCr0apEsDurCI",
      "include_colab_link": true
    },
    "kernelspec": {
      "name": "python3",
      "display_name": "Python 3"
    }
  },
  "cells": [
    {
      "cell_type": "markdown",
      "metadata": {
        "id": "view-in-github",
        "colab_type": "text"
      },
      "source": [
        "<a href=\"https://colab.research.google.com/github/dbremont/Notas/blob/main/Temas%20de%20Estudio/Machine%20Learning.ipynb\" target=\"_parent\"><img src=\"https://colab.research.google.com/assets/colab-badge.svg\" alt=\"Open In Colab\"/></a>"
      ]
    },
    {
      "cell_type": "markdown",
      "metadata": {
        "id": "YgFHu5kx1Ljo"
      },
      "source": [
        "# Machine Learning\n",
        "\n",
        "- Concepts\n",
        "- Techniques\n",
        "- Problems\n",
        "- Programming\n",
        "\n",
        "Understand machine learning's role in data-driven modeling, prediction, and decision-making."
      ]
    },
    {
      "cell_type": "markdown",
      "metadata": {
        "id": "ehPf6uGZVWg-"
      },
      "source": [
        "* [Machine Learning](https://brilliant.org/courses/machine-learning/)\n",
        "\n",
        "* [CS224W: Machine Learning with Graphs](http://web.stanford.edu/class/cs224w/)\n",
        "\n",
        "* [Machine Learning A-Z™: Hands-On Python & R In Data Science](https://www.udemy.com/course/machinelearning/)\n",
        "\n",
        "* [TTC - Introduction to Machine Learning](https://www.thegreatcourses.com/player/Video/9070?autoplay=false)\n",
        "\n",
        "* [Machine Learning @ VU - Machine Learning at VU University Amsterda](https://mlvu.github.io/)\n",
        "\n",
        "* [CS 6.036 - Intro to Machine Learning](https://openlearninglibrary.mit.edu/courses/course-v1:MITx+6.036+1T2019/course/)\n",
        "\n",
        "* [CMU 10 - 301/601 - Introduction to Machine Learning](https://www.youtube.com/playlist?list=PLpqQKYIU-snAPM89YPPwyQ9xdaiAdoouk)\n",
        "\n",
        "* [CMU 10-701/15-781 Machine Learning - Tom Mitchell](http://www.cs.cmu.edu/~tom/10701_sp11/)\n",
        "\n",
        "* [Spring 2016: Statistical Machine Learning (10-702/36-702)](https://www.youtube.com/playlist?list=PLTB9VQq8WiaCBK2XrtYn5t9uuPdsNm7YE)\n",
        "\n",
        "* [CS281: Advanced Machine Learning](https://www.seas.harvard.edu/courses/cs281/)\n",
        "\n",
        "* [Advanced Machine Learning - ETH Zürich](https://www.youtube.com/playlist?list=PLY-OA_xnxFwSe98pzMGVR4bjAZZYrNT7L)\n",
        "\n",
        "* [Algorithmic Aspects of Machine Learning](https://ocw.mit.edu/courses/mathematics/18-409-algorithmic-aspects-of-machine-learning-spring-2015/)\n",
        "  * [Videos](https://www.youtube.com/playlist?list=PLB3sDpSRdrOvI1hYXNsa6Lety7K8FhPpx)\n",
        "\n",
        "\n",
        "* [Learning from Data - Caltech](http://work.caltech.edu/telecourse.html)\n",
        "\n",
        "* [DSE220x Machine Learning Fundamentals](https://learning.edx.org/course/course-v1:UCSanDiegoX+DSE220x+3T2020b/home)\n",
        "\n",
        "* [EE104/CME107: Introduction to Machine Learning](http://ee104.stanford.edu/)"
      ]
    },
    {
      "cell_type": "markdown",
      "metadata": {
        "id": "E35cTw1aMmbI"
      },
      "source": [
        "Other Resourdces\n",
        "\n",
        "- [Statistical Machine Learning](https://www.youtube.com/playlist?list=PLTB9VQq8WiaCBK2XrtYn5t9uuPdsNm7YE)\n",
        "\n",
        "- [Machine Learning Seminar - COMP0168](https://deisenroth.cc/teaching/2020-21/ml-seminar/)\n",
        "   *  [Playlist](https://www.youtube.com/playlist?list=PL93aLKqThq4jF64Gg-o2MGSAUM5N_sCqi)\n",
        "\n",
        "- [Foundations of Machine Learning](https://www.youtube.com/playlist?list=PLbkSohdmxoVAZ9DEHEWHjeGK7Ei-DjKHI)"
      ]
    },
    {
      "cell_type": "markdown",
      "metadata": {
        "id": "kFoH_Kaj8zvP"
      },
      "source": [
        "Machine Learning\n",
        "\n",
        "Prerequisites\n",
        "    - Linear Algebra\n",
        "\n",
        "Course Overview\n",
        "\n",
        "Advanced quantitative techniques to analyze data where humans fall short.\n",
        "Machine learning swoops in where humans fail — such as when there are hundreds (or hundreds of thousands) variables to keep track of and millions (or billions, or trillions) of pieces of data to process.\n",
        "\n",
        "This course develops the mathematical basis needed to deeply understand how problems of classification and estimation work. By the end of this course, you’ll develop the techniques needed to analyze data and apply these techniques to real-world problems.\n",
        "\n",
        "Course Goals\n",
        "\n",
        "Course Structure\n",
        "\n",
        "    1. Linear Regression\n",
        "       Get your basics in line.\n",
        "\n",
        "    2. Linear Classification\n",
        "       Classifying both quantitative and qualitative data.\n",
        "    \n",
        "    3 Trees\n",
        "      Explore this versatile model and related ideas like bagging, random forests, and boosting.\n",
        "\n",
        "    4. Support Vector Machine\n",
        "       Divide classes with the best possible margin of error.\n",
        "\n",
        "    5. Kernels\n",
        "       It's time to upgrade the dot product."
      ]
    },
    {
      "cell_type": "markdown",
      "metadata": {
        "id": "ttYw0aHLE12r"
      },
      "source": [
        "- Representation Learning\n",
        "\n"
      ]
    }
  ]
}