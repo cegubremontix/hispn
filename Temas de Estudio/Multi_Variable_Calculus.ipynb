{
  "nbformat": 4,
  "nbformat_minor": 0,
  "metadata": {
    "colab": {
      "name": "Multi Variable Calculus.ipynb",
      "provenance": [],
      "authorship_tag": "ABX9TyO72q760sGisHE3AKDxt4z6",
      "include_colab_link": true
    },
    "kernelspec": {
      "name": "python3",
      "display_name": "Python 3"
    },
    "language_info": {
      "name": "python"
    }
  },
  "cells": [
    {
      "cell_type": "markdown",
      "metadata": {
        "id": "view-in-github",
        "colab_type": "text"
      },
      "source": [
        "<a href=\"https://colab.research.google.com/github/dbremont/Notas/blob/main/Temas%20de%20Estudio/Multi_Variable_Calculus.ipynb\" target=\"_parent\"><img src=\"https://colab.research.google.com/assets/colab-badge.svg\" alt=\"Open In Colab\"/></a>"
      ]
    },
    {
      "cell_type": "markdown",
      "metadata": {
        "id": "LuTXJlECSmnA"
      },
      "source": [
        "## Primario"
      ]
    },
    {
      "cell_type": "markdown",
      "metadata": {
        "id": "OazITQJcSsP2"
      },
      "source": [
        "* [Multivariable Calculus](https://brilliant.org/courses/multivariable-calculus/)\n",
        "\n",
        "* [Vector Calculus](https://brilliant.org/courses/vector-calculus/)"
      ]
    },
    {
      "cell_type": "markdown",
      "metadata": {
        "id": "HfIGUmraSssI"
      },
      "source": [
        "* [18-02 Multivariable Calculus](https://ocw.mit.edu/courses/mathematics/18-02sc-multivariable-calculus-fall-2010)"
      ]
    }
  ]
}