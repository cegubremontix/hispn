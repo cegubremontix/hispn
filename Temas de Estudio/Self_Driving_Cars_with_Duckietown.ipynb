{
  "nbformat": 4,
  "nbformat_minor": 0,
  "metadata": {
    "colab": {
      "name": "Self-Driving Cars with Duckietown.ipynb",
      "provenance": [],
      "toc_visible": true,
      "include_colab_link": true
    },
    "kernelspec": {
      "name": "python3",
      "display_name": "Python 3"
    },
    "language_info": {
      "name": "python"
    }
  },
  "cells": [
    {
      "cell_type": "markdown",
      "metadata": {
        "id": "view-in-github",
        "colab_type": "text"
      },
      "source": [
        "<a href=\"https://colab.research.google.com/github/dbremont/Notas/blob/main/Temas%20de%20Estudio/Self_Driving_Cars_with_Duckietown.ipynb\" target=\"_parent\"><img src=\"https://colab.research.google.com/assets/colab-badge.svg\" alt=\"Open In Colab\"/></a>"
      ]
    },
    {
      "cell_type": "markdown",
      "metadata": {
        "id": "BesXwsg5xJDw"
      },
      "source": [
        "# Self-Driving Cars with Duckietown\n",
        "\n",
        "[Ir](https://www.edx.org/es/course/self-driving-cars-with-duckietown)\n",
        "\n",
        "Self-driving Cars with Duckietown is a “grand tour” of robotics. The focus is on breadth rather than depth. We highlight how robotics is a system-level discipline where many components interact with each other to produce real-world autonomous behaviors. Any of these “components” could absorb an entire professional career.\n",
        "\n",
        "[Logistics](https://learning.edx.org/course/course-v1:ETHx+DT-01x+1T2021/block-v1:ETHx+DT-01x+1T2021+type@sequential+block@091932e86ed6418d86badef9ee7aa4e5/block-v1:ETHx+DT-01x+1T2021+type@vertical+block@e0bd573cfcfb44a8a3452888ede2f517)"
      ]
    },
    {
      "cell_type": "markdown",
      "metadata": {
        "id": "UgqiNnReyJrb"
      },
      "source": [
        "## Prerequisites\n",
        "\n",
        "We will assume that if you are taking this course, you are familiar with some basics of math, physics and programming.\n",
        "\n",
        "- Basic Linux, Python, Git. We are going to:\n",
        "\n",
        "  - use terminal interface, so basic knowledge of Bash is required;\n",
        "  - write “autonomy” code in Python;\n",
        "  - pull Git repositories, fork, push, branch, etc.\n",
        "\n",
        "- Elements of linear algebra, probability, calculus. We are going to:\n",
        "\n",
        "  - use matrices to represent coordinate systems;\n",
        "  - use notions of probability (marginalization, Bayes theorem) to derive \n",
        "  - perception algorithms for the Duckiebot;\n",
        "  - write down equations of motion, which involve continuous time ODEs (recognizing the acronym is a good start!).\n",
        "\n",
        "- Computer with native Ubuntu installation and admin network access\n",
        "  - we are going to use Ubuntu 20.04 with a native (e.g., dual boot) installation\n",
        "\n",
        "- 🚙 Access to your router\n",
        "\n",
        "- If you are using a physical Duckiebot, you will require admin access to your router to iron out potential networking issues.\n",
        "\n",
        "[Ready to get started?](https://learning.edx.org/course/course-v1:ETHx+DT-01x+1T2021/block-v1:ETHx+DT-01x+1T2021+type@sequential+block@95b56c814335400e8242cbb9a3877bf8/block-v1:ETHx+DT-01x+1T2021+type@vertical+block@345a1a43c0a149aab34a728ff55339df)\n",
        "\n",
        "[Kit](https://get.duckietown.com/collections/starter-kits/products/db-mooc-kit)\n",
        "\n",
        "[AI Driving olympics](https://www.duckietown.org/research/AI-Driving-olympics)\n",
        "\n"
      ]
    },
    {
      "cell_type": "markdown",
      "metadata": {
        "id": "ozhpZ3R4yBrz"
      },
      "source": [
        "## Module 1: Introduction to self-driving cars\n",
        "\n",
        "- The potentials and challenges\n",
        "- Levels of autonomy\n",
        "- The vision for autonomous vehicles (AVs)\n",
        "- Activities: Learning environment setup\n"
      ]
    },
    {
      "cell_type": "markdown",
      "metadata": {
        "id": "3WSSSimG0zEw"
      },
      "source": [
        "**Autonomy and Automation**\n",
        "\n",
        "- Automation: From automata Something that act itself.\n",
        "- Autonomous: something that has its owne laws, selve governing.\n",
        "- Robot: from czech word \"Robota\", means force labor.\n",
        "- Vehicacles:  something that moves while carrying something.\n",
        "\n",
        "**Levels of Autonomy**\n",
        "\n",
        "**Vision for Autonomous Vehicles (AVs), Incomplete**"
      ]
    },
    {
      "cell_type": "markdown",
      "metadata": {
        "id": "3uLFfajEzeey"
      },
      "source": [
        "## Module 2: Towards autonomy\n",
        "\n",
        "- Making a robot\n",
        "- Sensorimotor architectures\n",
        "- Stateful architectures\n",
        "- Logical and physical architectures\n",
        "- Application: Braitenberg vehicles"
      ]
    },
    {
      "cell_type": "markdown",
      "metadata": {
        "id": "UxMoW1N-ziY6"
      },
      "source": [
        "## Module 3: Modeling and Control\n",
        "\n",
        "- Introduction to control systems\n",
        "- Representations and models\n",
        "- PID control\n",
        "- Application: Duckiebot angular velocity tracking"
      ]
    },
    {
      "cell_type": "markdown",
      "metadata": {
        "id": "GSQvUPSizl9o"
      },
      "source": [
        "## Module 4: Robot Vision\n",
        "\n",
        "- Introduction to projective geometry\n",
        "- Camera modeling and calibration\n",
        "- Image processing\n",
        "- Application: Visual servoing"
      ]
    },
    {
      "cell_type": "markdown",
      "metadata": {
        "id": "6prk6CRozp2z"
      },
      "source": [
        "## Module 5: Object Detection\n",
        "\n",
        "- Convolutional neural networks\n",
        "- One and two stage object detection\n",
        "- Application: Duckie detection"
      ]
    },
    {
      "cell_type": "markdown",
      "metadata": {
        "id": "rvGRNZuazshp"
      },
      "source": [
        "## Module 6: State Estimation and Localization\n",
        "\n",
        "- Bayes filtering framework\n",
        "- Parameterized methods (Kalman filter)\n",
        "- Sampling-based methods (Particle and histogram filter)\n",
        "- Application: Lane following (LF)"
      ]
    },
    {
      "cell_type": "markdown",
      "metadata": {
        "id": "SIcRk8JBzwkP"
      },
      "source": [
        "## Module 7: Planning I\n",
        "\n",
        "- Planning formalization\n",
        "- Graphs\n",
        "- Application: Graph Searching"
      ]
    },
    {
      "cell_type": "markdown",
      "metadata": {
        "id": "1WtUH6HlzzzH"
      },
      "source": [
        "## Module 8: Planning II\n",
        "\n",
        "- Probabilistic roadmaps\n",
        "- Sampling-based planning\n",
        "- Application: Duckie avoidance"
      ]
    },
    {
      "cell_type": "markdown",
      "metadata": {
        "id": "sP2U_n_fz2_P"
      },
      "source": [
        "## Module 9: Learning by Reinforcement\n",
        "\n",
        "- Markov decision processes\n",
        "- Value functions\n",
        "- Policy gradients\n",
        "- Domain randomization\n",
        "- Application: Lane following with RL"
      ]
    },
    {
      "cell_type": "markdown",
      "metadata": {
        "id": "zzEmRl5nx_ev"
      },
      "source": [
        "## Module 10: Learning by Imitation\n",
        "\n",
        "- Behaviour cloning\n",
        "- Online imitation learning\n",
        "- Safety and uncertainty\n",
        "- Application: Lane following with IL"
      ]
    }
  ]
}