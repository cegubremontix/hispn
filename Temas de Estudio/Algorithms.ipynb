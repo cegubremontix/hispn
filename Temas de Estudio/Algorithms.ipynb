{
  "nbformat": 4,
  "nbformat_minor": 0,
  "metadata": {
    "colab": {
      "name": "Algorithms.ipynb",
      "provenance": [],
      "authorship_tag": "ABX9TyPG7uI1Wnc3rvdLmk2PBaHw",
      "include_colab_link": true
    },
    "kernelspec": {
      "name": "python3",
      "display_name": "Python 3"
    },
    "language_info": {
      "name": "python"
    }
  },
  "cells": [
    {
      "cell_type": "markdown",
      "metadata": {
        "id": "view-in-github",
        "colab_type": "text"
      },
      "source": [
        "<a href=\"https://colab.research.google.com/github/dbremont/Notas/blob/main/Temas%20de%20Estudio/Algorithms.ipynb\" target=\"_parent\"><img src=\"https://colab.research.google.com/assets/colab-badge.svg\" alt=\"Open In Colab\"/></a>"
      ]
    },
    {
      "cell_type": "markdown",
      "metadata": {
        "id": "DE464ucb4Amw"
      },
      "source": [
        "# Algorithms\n",
        "\n",
        "The hardest problem in computer science is people; the second hardest problem is designing systems that are able to evolve & adapt to new goals & constraints over a span of many years or even decades."
      ]
    },
    {
      "cell_type": "markdown",
      "metadata": {
        "id": "cP2nTNv84m1F"
      },
      "source": [
        "## Primario"
      ]
    },
    {
      "cell_type": "markdown",
      "metadata": {
        "id": "0Z70NHuz4Bm4"
      },
      "source": [
        "* [Algorithm Fundamentals](https://brilliant.org/courses/computer-science-algorithms/)"
      ]
    },
    {
      "cell_type": "markdown",
      "metadata": {
        "id": "VuHCjrZq4opP"
      },
      "source": [
        "## Secundario"
      ]
    },
    {
      "cell_type": "markdown",
      "metadata": {
        "id": "fuFsy3BI4rS-"
      },
      "source": [
        "* [Introduction to Algorithms](https://ocw.mit.edu/courses/electrical-engineering-and-computer-science/6-006-introduction-to-algorithms-fall-2011/)\n",
        "\n",
        "* [Design and Analysis of Algorithms](https://ocw.mit.edu/courses/electrical-engineering-and-computer-science/6-046j-design-and-analysis-of-algorithms-spring-2015/)"
      ]
    },
    {
      "cell_type": "markdown",
      "metadata": {
        "id": "GjG5z-6U1Xrc"
      },
      "source": [
        "## Articulos"
      ]
    },
    {
      "cell_type": "markdown",
      "metadata": {
        "id": "xrRPm-NK1ZFW"
      },
      "source": [
        "* [Computer Science Fundamentals](https://brilliant.org/courses/computer-science-essentials/)\n",
        "\n",
        "* [Data Structures](https://brilliant.org/courses/computer-science-fundamentals/)\n"
      ]
    }
  ]
}