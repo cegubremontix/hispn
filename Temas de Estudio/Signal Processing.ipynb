{
  "nbformat": 4,
  "nbformat_minor": 0,
  "metadata": {
    "colab": {
      "name": "Signal Processing.ipynb",
      "provenance": [],
      "collapsed_sections": [],
      "toc_visible": true,
      "include_colab_link": true
    },
    "kernelspec": {
      "name": "python3",
      "display_name": "Python 3"
    }
  },
  "cells": [
    {
      "cell_type": "markdown",
      "metadata": {
        "id": "view-in-github",
        "colab_type": "text"
      },
      "source": [
        "<a href=\"https://colab.research.google.com/github/dbremont/Notas/blob/main/Temas%20de%20Estudio/Signal%20Processing.ipynb\" target=\"_parent\"><img src=\"https://colab.research.google.com/assets/colab-badge.svg\" alt=\"Open In Colab\"/></a>"
      ]
    },
    {
      "cell_type": "markdown",
      "metadata": {
        "id": "oGwLmvOt-TnL"
      },
      "source": [
        "# Signal Processing"
      ]
    },
    {
      "cell_type": "markdown",
      "metadata": {
        "id": "JzN3ObCW7KXU"
      },
      "source": [
        "* **Signal Processing** is the math we need to model the world, and Machine Learning is a generally useful bag of tools.\n",
        "\n",
        "* [Signal processing](https://en.wikipedia.org/wiki/Signal_processing)\n",
        "\n",
        "* [List of projects for inspiration](http://web.eecs.umich.edu/~girasole/teaching/451/2014fall/projects2014.html)"
      ]
    },
    {
      "cell_type": "markdown",
      "metadata": {
        "id": "J0Ot_zUpQ1Ma"
      },
      "source": [
        "# Cursos"
      ]
    },
    {
      "cell_type": "markdown",
      "metadata": {
        "id": "ZDzTEZwi-Yt_"
      },
      "source": [
        "* [Signal Processing](https://www.youtube.com/embed?list=PL-DDW8QIRjNO5h384HWnSnv2Uc9p-l1of)\n",
        "\n",
        "* [6.003 Signals and Systems](https://ocw.mit.edu/courses/electrical-engineering-and-computer-science/6-003-signals-and-systems-fall-2011/)\n",
        "\n",
        "* [Signals, Systems and Inference](https://ocw.mit.edu/courses/electrical-engineering-and-computer-science/6-011-signals-systems-and-inference-spring-2018/)\n",
        "\n",
        "* [Image Signal Processing](https://nptel.ac.in/courses/108/106/108106168/)\n",
        "\n",
        "* [Discrete Time Signals and Systems, Part 1: Time Domain](https://courses.edx.org/courses/RiceX/ELEC301x_/2015Q3/course/)\n",
        "\n",
        "* [Discrete Time Signals and Systems, Part 2: Frequency Domain](https://courses.edx.org/courses/RiceX/ELEC301.2x/2015Q3/course/)"
      ]
    },
    {
      "cell_type": "markdown",
      "metadata": {
        "id": "tIrBuKYxQ5hH"
      },
      "source": [
        "# Papers"
      ]
    },
    {
      "cell_type": "markdown",
      "metadata": {
        "id": "OQNS8s1yRBUU"
      },
      "source": [
        "* [Financial Signal Processing: Applications to Asset-Market Dynamics and Healthcare Finance](https://dspace.mit.edu/bitstream/handle/1721.1/117839/1052123995-MIT.pdf?sequence=1&isAllowed=y)\n",
        "\n",
        "* [Financial Time Series Forecasting with Deep Learning : A Systematic Literature Review: 2005-2019](https://arxiv.org/pdf/1911.13288.pdf)\n",
        "\n",
        "- [Graph signal processing - Concepts, tools and applications in neuroscience](https://web.media.mit.edu/~xdong/talk/BDI_GSP.pdf)"
      ]
    },
    {
      "cell_type": "markdown",
      "metadata": {
        "id": "tBvF9NwwQ6mc"
      },
      "source": [
        "# Articulos"
      ]
    },
    {
      "cell_type": "markdown",
      "metadata": {
        "id": "uMTnzJNuWHew"
      },
      "source": [
        "* [Machine Learning with Signal Processing Techniques](https://ataspinar.com/2018/04/04/machine-learning-with-signal-processing-techniques/)"
      ]
    },
    {
      "cell_type": "markdown",
      "metadata": {
        "id": "KqgeH2s3Sa2Q"
      },
      "source": [
        "# Content"
      ]
    },
    {
      "cell_type": "markdown",
      "metadata": {
        "id": "vdgkMtCWhbg9"
      },
      "source": [
        "- A signal is any physical or abstract quantity that can be measured, can be though as a signal.\n",
        "\n",
        "- Portador de informacion.\n",
        "\n",
        "- Examples:\n",
        "\n",
        "  - Radio signal\n",
        "  - audio\n",
        "  - image\n",
        "  - stock prices\n",
        "  - electric voltage\n",
        "\n",
        "- Can think of data as signal.\n",
        "\n",
        "- Time signal.\n",
        "\n",
        "- **System**\n",
        "  - mathematical (computational) relationship between input signal y output signal.\n",
        "\n",
        "  - takes a signal and conver it into another signal.\n",
        "  - examples\n",
        "    - cellular methabolism\n",
        "    - national economies"
      ]
    }
  ]
}