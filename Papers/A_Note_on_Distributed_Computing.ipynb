{
  "nbformat": 4,
  "nbformat_minor": 0,
  "metadata": {
    "colab": {
      "name": "A Note on Distributed Computing.ipynb",
      "provenance": [],
      "collapsed_sections": [],
      "authorship_tag": "ABX9TyPbxc2hYqeC2yY3E9R051zB",
      "include_colab_link": true
    },
    "kernelspec": {
      "name": "python3",
      "display_name": "Python 3"
    },
    "language_info": {
      "name": "python"
    }
  },
  "cells": [
    {
      "cell_type": "markdown",
      "metadata": {
        "id": "view-in-github",
        "colab_type": "text"
      },
      "source": [
        "<a href=\"https://colab.research.google.com/github/dbremont/Notas/blob/main/Papers/A_Note_on_Distributed_Computing.ipynb\" target=\"_parent\"><img src=\"https://colab.research.google.com/assets/colab-badge.svg\" alt=\"Open In Colab\"/></a>"
      ]
    },
    {
      "cell_type": "markdown",
      "source": [
        "## Abstract\n",
        "\n",
        "The main thesis of  this paper is that objects interaction differs when they are in the same computer vs different computers.\n",
        "\n",
        "We also describe a middle ground: Remote-Locate interacting object, this objects are on the same computer and different address space."
      ],
      "metadata": {
        "id": "WPuIUL-2lJVs"
      }
    },
    {
      "cell_type": "markdown",
      "source": [
        "## Introduction\n",
        "The main thesis of this note/paper is that the view that all computing objects/entitides are the same, not matter the location and adress space is mistaken / not helpful.\n",
        "\n",
        "What is Local Computing?\n",
        "Local Object invocation,  pograms that are confined to a single address space.\n",
        "\n",
        "What is Distributed Computing?\n",
        "Remote Object Computing, to refer to program that make calls to other adress spaces, possibly on another machine.\n",
        "\n",
        "What is Local-Remote Computing?\n",
        "Local-Remote computing actors/objects live on the same computer on diferents addres space.\n"
      ],
      "metadata": {
        "id": "uh_rfylp_4hB"
      }
    },
    {
      "cell_type": "markdown",
      "source": [
        "## The Vision of Unified Objects"
      ],
      "metadata": {
        "id": "nq2a2IbS_0eB"
      }
    },
    {
      "cell_type": "markdown",
      "source": [
        "## Déjá Vu All Over Again"
      ],
      "metadata": {
        "id": "cS9HvqYh_y0Y"
      }
    },
    {
      "cell_type": "markdown",
      "source": [
        "## Local and Distributed Computing"
      ],
      "metadata": {
        "id": "Yzq_FQuT_w5j"
      }
    },
    {
      "cell_type": "markdown",
      "source": [
        "## The Myth of \"Quality of Service\""
      ],
      "metadata": {
        "id": "4lBDO_L5_u7m"
      }
    },
    {
      "cell_type": "markdown",
      "source": [
        "## Lessons from NFS"
      ],
      "metadata": {
        "id": "xFUIu0CU_tCM"
      }
    },
    {
      "cell_type": "markdown",
      "source": [
        "## Taking the Difference Seriously"
      ],
      "metadata": {
        "id": "eY2vxRmP_q_N"
      }
    },
    {
      "cell_type": "markdown",
      "source": [
        "## A Middle Ground\n",
        "\n",
        "There are objects that are not in the same address space but are in the same computer."
      ],
      "metadata": {
        "id": "B6txWEOw_o-2"
      }
    }
  ]
}