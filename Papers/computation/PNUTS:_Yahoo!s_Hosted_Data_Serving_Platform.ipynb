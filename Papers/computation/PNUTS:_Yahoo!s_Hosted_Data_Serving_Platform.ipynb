{
  "nbformat": 4,
  "nbformat_minor": 0,
  "metadata": {
    "colab": {
      "name": "PNUTS: Yahoo!s Hosted Data Serving Platform.ipynb",
      "provenance": [],
      "include_colab_link": true
    },
    "kernelspec": {
      "name": "python3",
      "display_name": "Python 3"
    },
    "language_info": {
      "name": "python"
    }
  },
  "cells": [
    {
      "cell_type": "markdown",
      "metadata": {
        "id": "view-in-github",
        "colab_type": "text"
      },
      "source": [
        "<a href=\"https://colab.research.google.com/github/dbremont/Notas/blob/main/Papers/Computacion/PNUTS%3A_Yahoo!s_Hosted_Data_Serving_Platform.ipynb\" target=\"_parent\"><img src=\"https://colab.research.google.com/assets/colab-badge.svg\" alt=\"Open In Colab\"/></a>"
      ]
    },
    {
      "cell_type": "markdown",
      "metadata": {
        "id": "5mNXh1O3k0iK"
      },
      "source": [
        "We describe PNUTS, a massively parallel and geographi-\n",
        "\n",
        "cally distributed database system for Yahoo!’s web applica-\n",
        "tions. PNUTS provides data storage organized as hashed\n",
        "\n",
        "or ordered tables, low latency for large numbers of con-\n",
        "\n",
        "current requests including updates and queries, and novel\n",
        "\n",
        "per-record consistency guarantees. It is a hosted, centrally\n",
        "managed, and geographically distributed service, and uti-\n",
        "\n",
        "lizes automated load-balancing and failover to reduce oper-\n",
        "ational complexity. The first version of the system is cur-\n",
        "\n",
        "rently serving in production. We describe the motivation\n",
        "\n",
        "for PNUTS and the design and implementation of its table\n",
        "\n",
        "storage and replication layers, and then present experimen-\n",
        "tal results."
      ]
    }
  ]
}