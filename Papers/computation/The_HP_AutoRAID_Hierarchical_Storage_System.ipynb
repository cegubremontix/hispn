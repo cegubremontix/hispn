{
  "nbformat": 4,
  "nbformat_minor": 0,
  "metadata": {
    "colab": {
      "name": "The HP AutoRAID Hierarchical Storage System.ipynb",
      "provenance": [],
      "include_colab_link": true
    },
    "kernelspec": {
      "name": "python3",
      "display_name": "Python 3"
    },
    "language_info": {
      "name": "python"
    }
  },
  "cells": [
    {
      "cell_type": "markdown",
      "metadata": {
        "id": "view-in-github",
        "colab_type": "text"
      },
      "source": [
        "<a href=\"https://colab.research.google.com/github/dbremont/Notas/blob/main/Papers/Computacion/The_HP_AutoRAID_Hierarchical_Storage_System.ipynb\" target=\"_parent\"><img src=\"https://colab.research.google.com/assets/colab-badge.svg\" alt=\"Open In Colab\"/></a>"
      ]
    },
    {
      "cell_type": "markdown",
      "metadata": {
        "id": "6-n0gfxrjcuX"
      },
      "source": [
        "Configuring redundant disk arrays is a black art. To configure an array properly, a system\n",
        "administrator must understand the details of both the array and the workload it will support.\n",
        "Incorrect understanding of either, or changes in the workload over time, can lead to poor\n",
        "performance, We present a solution to this problem: a two-level storage hierarchy implemented\n",
        "inside a single disk-array controller. In the upper level of this hierarchy, two copies of active data\n",
        "are stored to provide full redundancy and excellent performance. In the lower level, RAID 5\n",
        "parity protection is used to provide excellent storage cost for inactive data, at somewhat lower\n",
        "performance. The technology we describe in this article, known as HP AutoRAID, automatically\n",
        "and transparently manages migration of data blocks between these two levels as access patterns\n",
        "change. The result is a fully redundant storage system that is extremely easy to use, is suitable\n",
        "for a wide variety of workloads, is largely insensitive to dynamic workload changes, and performs\n",
        "much better than disk arrays with comparable numbers of spindles and much larger amounts of\n",
        "front-end RAM cache, Because the implementation of the HP AutoRAID technology is almost\n",
        "entirely in software, the additional hardware cost for these benefits is very small. We describe\n",
        "the HP AutoRAID technology in detail, provide performance data for an embodiment of it in a\n",
        "storage array, and summarize the results of simulation studies used to choose algorithms\n",
        "implemented in the array."
      ]
    }
  ]
}