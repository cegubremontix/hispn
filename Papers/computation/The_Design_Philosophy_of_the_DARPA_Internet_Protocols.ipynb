{
  "nbformat": 4,
  "nbformat_minor": 0,
  "metadata": {
    "colab": {
      "name": "The Design Philosophy of the DARPA Internet Protocols.ipynb",
      "provenance": [],
      "include_colab_link": true
    },
    "kernelspec": {
      "name": "python3",
      "display_name": "Python 3"
    },
    "language_info": {
      "name": "python"
    }
  },
  "cells": [
    {
      "cell_type": "markdown",
      "metadata": {
        "id": "view-in-github",
        "colab_type": "text"
      },
      "source": [
        "<a href=\"https://colab.research.google.com/github/dbremont/Notas/blob/main/Papers/Computacion/The_Design_Philosophy_of_the_DARPA_Internet_Protocols.ipynb\" target=\"_parent\"><img src=\"https://colab.research.google.com/assets/colab-badge.svg\" alt=\"Open In Colab\"/></a>"
      ]
    },
    {
      "cell_type": "markdown",
      "metadata": {
        "id": "HjQSXMQoSJjk"
      },
      "source": [
        "The  Internet  protocol  suite,  TCP/IP,  was  first  proposed\n",
        "fifteen  years  ago.  It  was  developed  by  the  Defense\n",
        "\n",
        "Advanced  Research  Projects  Agency  (DARPA),  and\n",
        "\n",
        "has been used widely in military and commercial\n",
        "\n",
        "systems. While there have been papers and\n",
        "\n",
        "specifications that describe how the protocols work, it is\n",
        "\n",
        "sometimes difficult to deduce from these why the\n",
        "\n",
        "protocol is as it is. For example, the Internet protocol is\n",
        "\n",
        "based on a connectionless or datagram mode of service.\n",
        "\n",
        "The motivation for this has been greatly misunderstood.\n",
        "\n",
        "This paper attempts to capture some of the early\n",
        "\n",
        "reasoning which shaped the Internet protocols."
      ]
    }
  ]
}