{
  "nbformat": 4,
  "nbformat_minor": 0,
  "metadata": {
    "colab": {
      "name": "Pastry: Scalable, decentralized object location and routing for large-scale peer-to-peer systemscs.ipynb",
      "provenance": [],
      "include_colab_link": true
    },
    "kernelspec": {
      "name": "python3",
      "display_name": "Python 3"
    },
    "language_info": {
      "name": "python"
    }
  },
  "cells": [
    {
      "cell_type": "markdown",
      "metadata": {
        "id": "view-in-github",
        "colab_type": "text"
      },
      "source": [
        "<a href=\"https://colab.research.google.com/github/dbremont/Notas/blob/main/Papers/Computacion/Pastry%3A_Scalable%2C_decentralized_object_location_and_routing_for_large-scale_peer-to-peer_systemscs.ipynb\" target=\"_parent\"><img src=\"https://colab.research.google.com/assets/colab-badge.svg\" alt=\"Open In Colab\"/></a>"
      ]
    },
    {
      "cell_type": "markdown",
      "metadata": {
        "id": "xzM8Btg3yAmw"
      },
      "source": [
        "This paper presents the design and evaluation of Pastry, a scalable,\n",
        "distributed object location and routing substrate for wide-area peer-to-peer applications. Pastry performs application-level routing and object location in a potentially very large overlay network of nodes connected via the Internet. It can\n",
        "be used to support a variety of peer-to-peer applications, including global data\n",
        "storage, data sharing, group communication and naming.\n",
        "\n",
        "Each node in the Pastry network has a unique identifier (nodeId). When presented\n",
        "with a message and a key, a Pastry node efficiently routes the message to the\n",
        "node with a nodeId that is numerically closest to the key, among all currently\n",
        "live Pastry nodes. Each Pastry node keeps track of its immediate neighbors in\n",
        "the nodeId space, and notifies applications of new node arrivals, node failures\n",
        "and recoveries. Pastry takes into account network locality; it seeks to minimize\n",
        "the distance messages travel, according to a to scalar proximity metric like the\n",
        "number of IP routing hops.\n",
        "\n",
        "Pastry is completely decentralized, scalable, and self-organizing; it automatically\n",
        "adapts to the arrival, departure and failure of nodes. Experimental results obtained\n",
        "with a prototype implementation on an emulated network of up to 100,000 nodes\n",
        "confirm Pastry’s scalability and efficiency, its ability to self-organize and adapt to\n",
        "node failures, and its good network locality properties.\n"
      ]
    }
  ]
}