{
  "nbformat": 4,
  "nbformat_minor": 0,
  "metadata": {
    "colab": {
      "name": "seL4: Formal Verification of an OS Kernel.ipynb",
      "provenance": [],
      "include_colab_link": true
    },
    "kernelspec": {
      "name": "python3",
      "display_name": "Python 3"
    },
    "language_info": {
      "name": "python"
    }
  },
  "cells": [
    {
      "cell_type": "markdown",
      "metadata": {
        "id": "view-in-github",
        "colab_type": "text"
      },
      "source": [
        "<a href=\"https://colab.research.google.com/github/dbremont/Notas/blob/main/Papers/Computacion/seL4%3A_Formal_Verification_of_an_OS_Kernel.ipynb\" target=\"_parent\"><img src=\"https://colab.research.google.com/assets/colab-badge.svg\" alt=\"Open In Colab\"/></a>"
      ]
    },
    {
      "cell_type": "markdown",
      "metadata": {
        "id": "iiW2jh9QUSu1"
      },
      "source": [
        "Complete formal verification is the only known way to guar-\n",
        "antee that a system is free of programming errors.\n",
        "\n",
        "We present our experience in performing the formal,\n",
        "machine-checked verification of the seL4 microkernel from\n",
        "an abstract specification down to its C implementation. We\n",
        "assume correctness of compiler, assembly code, and hardware,\n",
        "and we used a unique design approach that fuses formal and\n",
        "operating systems techniques. To our knowledge, this is the\n",
        "first formal proof of functional correctness of a complete,\n",
        "general-purpose operating-system kernel. Functional correct-\n",
        "ness means here that the implementation always strictly fol-\n",
        "lows our high-level abstract specification of kernel behaviour.\n",
        "This encompasses traditional design and implementation\n",
        "safety properties such as the kernel will never crash, and it\n",
        "will never perform an unsafe operation. It also proves much\n",
        "more: we can predict precisely how the kernel will behave in\n",
        "every possible situation.\n",
        "\n",
        "seL4, a third-generation microkernel of L4 provenance,\n",
        "comprises 8,700 lines of C code and 600 lines of assembler.\n",
        "Its performance is comparable to other high-performance L4\n",
        "kernels."
      ]
    }
  ]
}