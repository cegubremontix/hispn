{
  "nbformat": 4,
  "nbformat_minor": 0,
  "metadata": {
    "colab": {
      "name": "HadoopDB: An Architectural Hybrid of MapReduce and DBMS Technologies for Analytical Workloads.ipynb",
      "provenance": [],
      "include_colab_link": true
    },
    "kernelspec": {
      "name": "python3",
      "display_name": "Python 3"
    },
    "language_info": {
      "name": "python"
    }
  },
  "cells": [
    {
      "cell_type": "markdown",
      "metadata": {
        "id": "view-in-github",
        "colab_type": "text"
      },
      "source": [
        "<a href=\"https://colab.research.google.com/github/dbremont/Notas/blob/main/Papers/Computacion/HadoopDB%3A_An_Architectural_Hybrid_of_MapReduce_and_DBMS_Technologies_for_Analytical_Workloads.ipynb\" target=\"_parent\"><img src=\"https://colab.research.google.com/assets/colab-badge.svg\" alt=\"Open In Colab\"/></a>"
      ]
    },
    {
      "cell_type": "markdown",
      "metadata": {
        "id": "irKj27wGhxgV"
      },
      "source": [
        "The production environment for analytical data management ap-\n",
        "plications is rapidly changing. Many enterprises are shifting away\n",
        "from deploying their analytical databases on high-end proprietary\n",
        "machines, and moving towards cheaper, lower-end, commodity\n",
        "hardware, typically arranged in a shared-nothing MPP architecture,\n",
        "often in a virtualized environment inside public or private “clouds”.\n",
        "At the same time, the amount of data that needs to be analyzed is\n",
        "exploding, requiring hundreds to thousands of machines to work in\n",
        "parallel to perform the analysis.\n",
        "There tend to be two schools of thought regarding what tech-\n",
        "nology to use for data analysis in such an environment. Propo-\n",
        "nents of parallel databases argue that the strong emphasis on per-\n",
        "formance and efficiency of parallel databases makes them well-\n",
        "suited to perform such analysis. On the other hand, others argue\n",
        "that MapReduce-based systems are better suited due to their supe-\n",
        "rior scalability, fault tolerance, and flexibility to handle unstructured\n",
        "data. In this paper, we explore the feasibility of building a hybrid\n",
        "system that takes the best features from both technologies; the pro-\n",
        "totype we built approaches parallel databases in performance and\n",
        "efficiency, yet still yields the scalability, fault tolerance, and flexi-\n",
        "bility of MapReduce-based systems."
      ]
    }
  ]
}