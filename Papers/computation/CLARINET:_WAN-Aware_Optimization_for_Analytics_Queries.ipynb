{
  "nbformat": 4,
  "nbformat_minor": 0,
  "metadata": {
    "colab": {
      "name": "CLARINET: WAN-Aware Optimization for Analytics Queries.ipynb",
      "provenance": [],
      "include_colab_link": true
    },
    "kernelspec": {
      "name": "python3",
      "display_name": "Python 3"
    },
    "language_info": {
      "name": "python"
    }
  },
  "cells": [
    {
      "cell_type": "markdown",
      "metadata": {
        "id": "view-in-github",
        "colab_type": "text"
      },
      "source": [
        "<a href=\"https://colab.research.google.com/github/dbremont/Notas/blob/main/Papers/Computacion/CLARINET%3A_WAN-Aware_Optimization_for_Analytics_Queries.ipynb\" target=\"_parent\"><img src=\"https://colab.research.google.com/assets/colab-badge.svg\" alt=\"Open In Colab\"/></a>"
      ]
    },
    {
      "cell_type": "markdown",
      "metadata": {
        "id": "d3JsxE0Tgyoz"
      },
      "source": [
        "Recent work has made the case for geo-distributed\n",
        "analytics, where data collected and stored at multiple\n",
        "datacenters and edge sites world-wide is analyzed in situ\n",
        "to drive operational and management decisions. A key\n",
        "issue in such systems is ensuring low response times\n",
        "for analytics queries issued against geo-distributed data.\n",
        "A central determinant of response time is the query\n",
        "execution plan (QEP). Current query optimizers do not\n",
        "consider the network when deriving QEPs, which is a key\n",
        "drawback as the geo-distributed sites are connected via\n",
        "WAN links with heterogeneous and modest bandwidths,\n",
        "unlike intra-datacenter networks. We propose CLARINET,\n",
        "a novel WAN-aware query optimizer. Deriving a\n",
        "WAN-aware QEP requires working jointly with the\n",
        "execution layer of analytics frameworks that places\n",
        "tasks to sites and performs scheduling. We design\n",
        "efficient heuristic solutions in CLARINET to make such\n",
        "a joint decision on the QEP. Our experiments with\n",
        "a real prototype deployed across EC2 datacenters,\n",
        "and large-scale simulations using production workloads\n",
        "show that CLARINET improves query response times by\n",
        "≥ 50% compared to state-of-the-art WAN-aware task\n",
        "placement and scheduling."
      ]
    }
  ]
}