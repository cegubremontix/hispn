{
  "nbformat": 4,
  "nbformat_minor": 0,
  "metadata": {
    "colab": {
      "name": "A Critique of ANSI SQL Isolation Levels.ipynb",
      "provenance": [],
      "include_colab_link": true
    },
    "kernelspec": {
      "name": "python3",
      "display_name": "Python 3"
    },
    "language_info": {
      "name": "python"
    }
  },
  "cells": [
    {
      "cell_type": "markdown",
      "metadata": {
        "id": "view-in-github",
        "colab_type": "text"
      },
      "source": [
        "<a href=\"https://colab.research.google.com/github/dbremont/Notas/blob/main/Papers/Computacion/A_Critique_of_ANSI_SQL_Isolation_Levels.ipynb\" target=\"_parent\"><img src=\"https://colab.research.google.com/assets/colab-badge.svg\" alt=\"Open In Colab\"/></a>"
      ]
    },
    {
      "cell_type": "markdown",
      "metadata": {
        "id": "w9swudAgUDGK"
      },
      "source": [
        "Abstract: ANSI SQL-92  [MS,  ANSI]  defines  Isolation \n",
        "Levels  in  terms  of  phenomena:    Dirty  Reads,  Non-Re-\n",
        "peatable  Reads,  and  Phantoms.    This  paper  shows  that \n",
        "these phenomena  and  the  ANSI SQL  definitions  fail  to \n",
        "characterize  several  popular  isolation  levels,  including the \n",
        "standard locking implementations of the levels.  \n",
        "Investigating  the  ambiguities  of  the  phenomena  leads  to \n",
        "\n",
        "clearer definitions;  in addition new phenomena that better \n",
        "characterize  isolation  types  are  introduced.  An  important \n",
        "multiversion isolation type, Snapshot Isolation, is defined. "
      ]
    }
  ]
}