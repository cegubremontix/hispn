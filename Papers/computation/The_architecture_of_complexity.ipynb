{
  "nbformat": 4,
  "nbformat_minor": 0,
  "metadata": {
    "colab": {
      "name": "The architecture of complexity.ipynb",
      "provenance": [],
      "include_colab_link": true
    },
    "kernelspec": {
      "name": "python3",
      "display_name": "Python 3"
    },
    "language_info": {
      "name": "python"
    }
  },
  "cells": [
    {
      "cell_type": "markdown",
      "metadata": {
        "id": "view-in-github",
        "colab_type": "text"
      },
      "source": [
        "<a href=\"https://colab.research.google.com/github/dbremont/Notas/blob/main/Papers/Computacion/The_architecture_of_complexity.ipynb\" target=\"_parent\"><img src=\"https://colab.research.google.com/assets/colab-badge.svg\" alt=\"Open In Colab\"/></a>"
      ]
    },
    {
      "cell_type": "markdown",
      "metadata": {
        "id": "WDr14c9dmIlE"
      },
      "source": [
        "A N U M B E R   of proposals  have  been  advanced  in \n",
        "recent  years  for  the  development  of \"general  sys- \n",
        "tems  theory\" which,  abstracting  from  properties \n",
        "peculiar  to  physical,  biological, o r    social  systems, \n",
        "would  be  applicable  to  all  of them.l IVe  might \n",
        "well  feel  that,  while  the  goal  is  laudable,  systems \n",
        "of such  diverse  kinds  could  hardly  be  expected  to \n",
        "have any nontrivial  properties  in  common. Meta-\n",
        "phor  and  analogy  can  be helpful,  o r    they  can  be \n",
        "misleading. All depends on whether the  simi-\n",
        "larities  the  metaphor  captures  are  significant or \n",
        "superficial."
      ]
    }
  ]
}