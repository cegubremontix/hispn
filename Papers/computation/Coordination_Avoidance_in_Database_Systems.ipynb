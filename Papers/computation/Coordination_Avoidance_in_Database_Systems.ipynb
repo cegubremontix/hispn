{
  "nbformat": 4,
  "nbformat_minor": 0,
  "metadata": {
    "colab": {
      "name": "Coordination Avoidance in Database Systems.ipynb",
      "provenance": [],
      "include_colab_link": true
    },
    "kernelspec": {
      "name": "python3",
      "display_name": "Python 3"
    },
    "language_info": {
      "name": "python"
    }
  },
  "cells": [
    {
      "cell_type": "markdown",
      "metadata": {
        "id": "view-in-github",
        "colab_type": "text"
      },
      "source": [
        "<a href=\"https://colab.research.google.com/github/dbremont/Notas/blob/main/Papers/Computacion/Coordination_Avoidance_in_Database_Systems.ipynb\" target=\"_parent\"><img src=\"https://colab.research.google.com/assets/colab-badge.svg\" alt=\"Open In Colab\"/></a>"
      ]
    },
    {
      "cell_type": "markdown",
      "metadata": {
        "id": "7sKIN8zeyK3U"
      },
      "source": [
        "Minimizing coordination, or blocking communication between concurrently executing operations, is key to maximizing scalability,\n",
        "availability, and high performance in database systems. However,\n",
        "uninhibited coordination-free execution can compromise application correctness, or consistency. When is coordination necessary for\n",
        "correctness? The classic use of serializable transactions is sufficient\n",
        "to maintain correctness but is not necessary for all applications,\n",
        "sacrificing potential scalability. In this paper, we develop a formal\n",
        "framework, invariant confluence, that determines whether an application requires coordination for correct execution. By operating\n",
        "on application-level invariants over database states (e.g., integrity\n",
        "constraints), invariant confluence analysis provides a necessary and\n",
        "sufficient condition for safe, coordination-free execution. When\n",
        "programmers specify their application invariants, this analysis allows databases to coordinate only when anomalies that might violate\n",
        "invariants are possible. We analyze the invariant confluence of common invariants and operations from real-world database systems\n",
        "(i.e., integrity constraints) and applications and show that many are\n",
        "invariant confluent and therefore achievable without coordination.\n",
        "We apply these results to a proof-of-concept coordination-avoiding\n",
        "database prototype and demonstrate sizable performance gains compared to serializable execution, notably a 25-fold improvement over\n",
        "prior TPC-C New-Order performance on a 200 server cluster."
      ]
    }
  ]
}