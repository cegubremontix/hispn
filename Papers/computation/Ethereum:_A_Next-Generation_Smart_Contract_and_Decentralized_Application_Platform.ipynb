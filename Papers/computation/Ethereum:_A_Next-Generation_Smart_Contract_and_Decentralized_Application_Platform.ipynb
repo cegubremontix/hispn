{
  "nbformat": 4,
  "nbformat_minor": 0,
  "metadata": {
    "colab": {
      "name": "Ethereum: A Next-Generation Smart Contract and Decentralized Application Platform.ipynb",
      "provenance": [],
      "include_colab_link": true
    },
    "kernelspec": {
      "name": "python3",
      "display_name": "Python 3"
    },
    "language_info": {
      "name": "python"
    }
  },
  "cells": [
    {
      "cell_type": "markdown",
      "metadata": {
        "id": "view-in-github",
        "colab_type": "text"
      },
      "source": [
        "<a href=\"https://colab.research.google.com/github/dbremont/Notas/blob/main/Papers/Computacion/Ethereum%3A_A_Next-Generation_Smart_Contract_and_Decentralized_Application_Platform.ipynb\" target=\"_parent\"><img src=\"https://colab.research.google.com/assets/colab-badge.svg\" alt=\"Open In Colab\"/></a>"
      ]
    },
    {
      "cell_type": "markdown",
      "metadata": {
        "id": "TeVH4slXncd4"
      },
      "source": [
        "When Satoshi Nakamoto first set the Bitcoin blockchain into motion in January 2009, he was                               \n",
        "simultaneously introducing two radical and untested concepts. The first is the \"bitcoin\", a decentralized                           \n",
        "peer-to-peer online currency that maintains a value without any backing, intrinsic value or central issuer. So                               \n",
        "far, the \"bitcoin\" as a currency unit has taken up the bulk of the public attention, both in terms of the political                                           \n",
        "aspects of a currency without a central bank and its extreme upward and downward volatility in price.                                 \n",
        "However, there is also another, equally important, part to Satoshi's grand experiment: the concept of a proof of                                   \n",
        "work-based blockchain to allow for public agreement on the order of transactions. Bitcoin as an application can                                 \n",
        "be described as a first-to-file system: if one entity has 50 BTC, and simultaneously sends the same 50 BTC to                                       \n",
        "A and to B, only the transaction that gets confirmed first will process. There is no intrinsic way of determining                                       \n",
        "from two transactions which came earlier, and for decades this stymied the development of decentralized                             \n",
        "digital currency. Satoshi's blockchain was the first credible decentralized solution. And now, attention is                           \n",
        "rapidly starting to shift toward this second part of Bitcoin's technology, and how the blockchain concept can be                                   \n",
        "used for more than just money. \n",
        "Commonly cited applications include using on-blockchain digital assets to represent custom currencies and                         \n",
        "financial instruments (\"colored coins\"), the ownership of an underlying physical device (\"smart property\"),                         \n",
        "non-fungible assets such as domain names (\"Namecoin\") as well as more advanced applications such as                             \n",
        "decentralized exchange, financial derivatives, peer-to-peer gambling and on-blockchain identity and                   \n",
        "reputation systems. Another important area of inquiry is \"smart contracts\" - systems which automatically                           \n",
        "move digital assets according to arbitrary pre-specified rules. For example, one might have a treasury contract                               \n",
        "of the form \"A can withdraw up to X currency units per day, B can withdraw up to Y per day, A and B together                                                 \n",
        "can withdraw anything, and A can shut off B's ability to withdraw\". The logical extension of this is                                   \n",
        "decentralized autonomous organizations (DAOs) - long-term smart contracts that contain the assets and                         \n",
        "encode the bylaws of an entire organization. What Ethereum intends to provide is a blockchain with a built-in                                   \n",
        "fully fledged Turing-complete programming language that can be used to create \"contracts\" that can be used                               \n",
        "to encode arbitrary state transition functions, allowing users to create any of the systems described above, as                                 \n",
        "well as many others that we have not yet imagined, simply by writing up the logic in a few lines of code"
      ]
    }
  ]
}