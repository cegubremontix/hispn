{
  "nbformat": 4,
  "nbformat_minor": 0,
  "metadata": {
    "colab": {
      "name": "Paxos made simple.ipynb",
      "provenance": [],
      "include_colab_link": true
    },
    "kernelspec": {
      "name": "python3",
      "display_name": "Python 3"
    },
    "language_info": {
      "name": "python"
    }
  },
  "cells": [
    {
      "cell_type": "markdown",
      "metadata": {
        "id": "view-in-github",
        "colab_type": "text"
      },
      "source": [
        "<a href=\"https://colab.research.google.com/github/dbremont/Notas/blob/main/Papers/Computacion/Paxos_made_simple.ipynb\" target=\"_parent\"><img src=\"https://colab.research.google.com/assets/colab-badge.svg\" alt=\"Open In Colab\"/></a>"
      ]
    },
    {
      "cell_type": "markdown",
      "metadata": {
        "id": "Vfi29qWeUzY9"
      },
      "source": [
        "The Paxos algorithm, when presented in plain English, is very simple"
      ]
    },
    {
      "cell_type": "markdown",
      "metadata": {
        "id": "Lf1GlfOtU1Dp"
      },
      "source": [
        "## Introduction"
      ]
    },
    {
      "cell_type": "markdown",
      "metadata": {
        "id": "y6eUKwaQU2rH"
      },
      "source": [
        "## The Consensus Algorithm"
      ]
    },
    {
      "cell_type": "markdown",
      "metadata": {
        "id": "psnOpHSkU4wV"
      },
      "source": [
        "- The Problem\n",
        "\n",
        "- Choosing a Value\n",
        "\n",
        "- Learning a Chosen Value\n",
        "\n",
        "- Progress\n",
        "\n",
        "- The Implementation"
      ]
    },
    {
      "cell_type": "markdown",
      "metadata": {
        "id": "3sq-YzncVBUJ"
      },
      "source": [
        "## Implementing a State Machine"
      ]
    }
  ]
}