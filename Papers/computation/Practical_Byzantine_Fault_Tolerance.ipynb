{
  "nbformat": 4,
  "nbformat_minor": 0,
  "metadata": {
    "colab": {
      "name": "Practical Byzantine Fault Tolerance.ipynb",
      "provenance": [],
      "include_colab_link": true
    },
    "kernelspec": {
      "name": "python3",
      "display_name": "Python 3"
    },
    "language_info": {
      "name": "python"
    }
  },
  "cells": [
    {
      "cell_type": "markdown",
      "metadata": {
        "id": "view-in-github",
        "colab_type": "text"
      },
      "source": [
        "<a href=\"https://colab.research.google.com/github/dbremont/Notas/blob/main/Papers/Computacion/Practical_Byzantine_Fault_Tolerance.ipynb\" target=\"_parent\"><img src=\"https://colab.research.google.com/assets/colab-badge.svg\" alt=\"Open In Colab\"/></a>"
      ]
    },
    {
      "cell_type": "markdown",
      "metadata": {
        "id": "2Ke_3OJPgGPO"
      },
      "source": [
        "This paper describes a new replication algorithm that is able\n",
        "to tolerate Byzantine faults. We believe that Byzantine-\n",
        "fault-tolerant algorithms will be increasingly important in\n",
        "the future because malicious attacks and software errors are\n",
        "increasingly common and can cause faulty nodes to exhibit\n",
        "arbitrary behavior. Whereas previous algorithms assumed a\n",
        "synchronous system or were too slow to be used in practice,\n",
        "the algorithm described in this paper is practical: it works in\n",
        "asynchronous environments like the Internet and incorporates\n",
        "several important optimizations that improve the response time\n",
        "of previous algorithms by more than an order of magnitude. We\n",
        "implemented a Byzantine-fault-tolerant NFS service using our\n",
        "algorithm and measured its performance. The results show that\n",
        "our service is only 3% slower than a standard unreplicated NFS."
      ]
    }
  ]
}