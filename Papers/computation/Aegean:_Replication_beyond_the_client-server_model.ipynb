{
  "nbformat": 4,
  "nbformat_minor": 0,
  "metadata": {
    "colab": {
      "name": "Aegean: Replication beyond the client-server model.ipynb",
      "provenance": [],
      "include_colab_link": true
    },
    "kernelspec": {
      "name": "python3",
      "display_name": "Python 3"
    },
    "language_info": {
      "name": "python"
    }
  },
  "cells": [
    {
      "cell_type": "markdown",
      "metadata": {
        "id": "view-in-github",
        "colab_type": "text"
      },
      "source": [
        "<a href=\"https://colab.research.google.com/github/dbremont/Notas/blob/main/Papers/Computacion/Aegean%3A_Replication_beyond_the_client-server_model.ipynb\" target=\"_parent\"><img src=\"https://colab.research.google.com/assets/colab-badge.svg\" alt=\"Open In Colab\"/></a>"
      ]
    },
    {
      "cell_type": "markdown",
      "metadata": {
        "id": "hUYZJFCra1MP"
      },
      "source": [
        "This paper presents Aegean, a new approach that allows\n",
        "fault-tolerant replication to be implemented beyond the con-\n",
        "fines of the client-server model. In today’s computing, where\n",
        "services are rarely standalone, traditional replication proto-\n",
        "cols such as Primary-Backup, Paxos, and PBFT are not di-\n",
        "rectly applicable, as they were designed for the client-server\n",
        "model. When services interact, these protocols run into a\n",
        "number of problems, affecting both correctness and perfor-\n",
        "mance. In this paper, we rethink the design of replication\n",
        "\n",
        "protocols in the presence of interactions between services\n",
        "\n",
        "and introduce new techniques that accommodate such in-\n",
        "teractions safely and efficiently. Our evaluation shows that\n",
        "a prototype implementation of Aegean not only ensures\n",
        "correctness in the presence of service interactions, but can\n",
        "further improve throughput by an order of magnitude."
      ]
    }
  ]
}