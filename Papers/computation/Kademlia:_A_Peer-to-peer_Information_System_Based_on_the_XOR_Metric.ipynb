{
  "nbformat": 4,
  "nbformat_minor": 0,
  "metadata": {
    "colab": {
      "name": "Kademlia: A Peer-to-peer Information System Based on the XOR Metric.ipynb",
      "provenance": [],
      "include_colab_link": true
    },
    "kernelspec": {
      "name": "python3",
      "display_name": "Python 3"
    },
    "language_info": {
      "name": "python"
    }
  },
  "cells": [
    {
      "cell_type": "markdown",
      "metadata": {
        "id": "view-in-github",
        "colab_type": "text"
      },
      "source": [
        "<a href=\"https://colab.research.google.com/github/dbremont/Notas/blob/main/Papers/Computacion/Kademlia%3A_A_Peer-to-peer_Information_System_Based_on_the_XOR_Metric.ipynb\" target=\"_parent\"><img src=\"https://colab.research.google.com/assets/colab-badge.svg\" alt=\"Open In Colab\"/></a>"
      ]
    },
    {
      "cell_type": "markdown",
      "metadata": {
        "id": "YCFsR3QTWigW"
      },
      "source": [
        "We describe a peer-to-peer distributed hash table with proable consistency and perforamce in fa faul-prone environment. Our system routes queries and lcoates nodes using a novel XOR-based metric topology that siplifies the algorithm and facilitates our proof. The topology has the property that every message excahnged converys our reinforces useful contact information. The system exploits this information to send parallel, asynchonous querymesasages that tolerate node failures without imposing timeout delays on users."
      ]
    }
  ]
}