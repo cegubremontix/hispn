{
  "nbformat": 4,
  "nbformat_minor": 0,
  "metadata": {
    "colab": {
      "name": "The Design of a Practical System for Fault-Tolerant Virtual Machines.ipynb",
      "provenance": [],
      "include_colab_link": true
    },
    "kernelspec": {
      "name": "python3",
      "display_name": "Python 3"
    },
    "language_info": {
      "name": "python"
    }
  },
  "cells": [
    {
      "cell_type": "markdown",
      "metadata": {
        "id": "view-in-github",
        "colab_type": "text"
      },
      "source": [
        "<a href=\"https://colab.research.google.com/github/dbremont/Notas/blob/main/Papers/Computacion/The_Design_of_a_Practical_System_for_Fault-Tolerant_Virtual_Machines.ipynb\" target=\"_parent\"><img src=\"https://colab.research.google.com/assets/colab-badge.svg\" alt=\"Open In Colab\"/></a>"
      ]
    },
    {
      "cell_type": "markdown",
      "metadata": {
        "id": "SIl2Wdwlf57Q"
      },
      "source": [
        "We have implemented a commercial enterprise-grade system\n",
        "for providing fault-tolerant virtual machines, based on the\n",
        "\n",
        "approach of replicating the execution of a primary virtual\n",
        "\n",
        "machine (VM) via a backup virtual machine on another\n",
        "\n",
        "server. We have designed a complete system in VMware\n",
        "\n",
        "vSphere 4.0 that is easy to use, runs on commodity servers,\n",
        "\n",
        "and typically reduces performance of real applications by\n",
        "\n",
        "less than 10%. In addition, the data bandwidth needed to\n",
        "\n",
        "keep the primary and secondary VM executing in lockstep\n",
        "\n",
        "is less than 20 Mbit/s for several real applications, which\n",
        "\n",
        "allows for the possibility of implementing fault tolerance\n",
        "\n",
        "over longer distances. An easy-to-use, commercial system\n",
        "\n",
        "that automatically restores redundancy after failure requires\n",
        "many additional components beyond replicated VM execu-\n",
        "tion. We have designed and implemented these extra com-\n",
        "\n",
        "ponents and addressed many practical issues encountered in\n",
        "\n",
        "supporting VMs running enterprise applications. In this pa-\n",
        "\n",
        "per, we describe our basic design, discuss alternate design\n",
        "\n",
        "choices and a number of the implementation details, and\n",
        "\n",
        "provide performance results for both micro-benchmarks and\n",
        "\n",
        "real applications."
      ]
    }
  ]
}