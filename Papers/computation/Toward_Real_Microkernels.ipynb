{
  "nbformat": 4,
  "nbformat_minor": 0,
  "metadata": {
    "colab": {
      "name": "Toward Real Microkernels.ipynb",
      "provenance": [],
      "include_colab_link": true
    },
    "kernelspec": {
      "name": "python3",
      "display_name": "Python 3"
    },
    "language_info": {
      "name": "python"
    }
  },
  "cells": [
    {
      "cell_type": "markdown",
      "metadata": {
        "id": "view-in-github",
        "colab_type": "text"
      },
      "source": [
        "<a href=\"https://colab.research.google.com/github/dbremont/Notas/blob/main/Papers/Computacion/Toward_Real_Microkernels.ipynb\" target=\"_parent\"><img src=\"https://colab.research.google.com/assets/colab-badge.svg\" alt=\"Open In Colab\"/></a>"
      ]
    },
    {
      "cell_type": "markdown",
      "metadata": {
        "id": "QrLaxkpa3b2C"
      },
      "source": [
        "70 September 1996/Vol. 39, No. 9  COMMUNICATIONS OF THE ACM\n",
        "THE microkernel story is full of good ideas and blind alleys. The\n",
        "story  began  with  enthusiasm  about  the  promised  dramatic \n",
        "increase in flexibility, safety, and modularity. But over the years,\n",
        "enthusiasm changed to disappointment, because the first-gen- \n",
        "eration  microkernels  were  inefficient  and  inflexible.  ¥ Today,\n",
        "we  observe  radically  new  approaches  to  the  microkernel  idea\n",
        "that  seek  to  avoid  the  old  mistakes  while  overcoming  the  old\n",
        "constraints  on  flexibility  and  performance.  The  second-generation\n",
        "microkernels may be a basis for all types of operating systems, including timesharing, mul-timedia, and soft and hard real time."
      ]
    }
  ]
}