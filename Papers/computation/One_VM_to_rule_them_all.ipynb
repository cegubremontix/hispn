{
  "nbformat": 4,
  "nbformat_minor": 0,
  "metadata": {
    "colab": {
      "name": "One VM to rule them all.ipynb",
      "provenance": [],
      "toc_visible": true,
      "include_colab_link": true
    },
    "kernelspec": {
      "name": "python3",
      "display_name": "Python 3"
    },
    "language_info": {
      "name": "python"
    }
  },
  "cells": [
    {
      "cell_type": "markdown",
      "metadata": {
        "id": "view-in-github",
        "colab_type": "text"
      },
      "source": [
        "<a href=\"https://colab.research.google.com/github/dbremont/Notas/blob/main/Papers/Computacion/One_VM_to_rule_them_all.ipynb\" target=\"_parent\"><img src=\"https://colab.research.google.com/assets/colab-badge.svg\" alt=\"Open In Colab\"/></a>"
      ]
    },
    {
      "cell_type": "markdown",
      "source": [
        "[Paper](https://dl.acm.org/doi/pdf/10.1145/2509578.2509581)\n",
        "\n",
        "[Blog Entry](https://www.cs.cornell.edu/courses/cs6120/2019fa/blog/one-vm/)\n",
        "\n",
        "[Graal VM Papers](https://github.com/oracle/graal/blob/master/docs/Publications.md)"
      ],
      "metadata": {
        "id": "IvrlkNfD5fXs"
      }
    },
    {
      "cell_type": "markdown",
      "metadata": {
        "id": "0TQ1JPVaogv7"
      },
      "source": [
        "## Abstract"
      ]
    },
    {
      "cell_type": "markdown",
      "source": [
        "Building high-performace virtual machines is a complex and expeisice undertaking; many popular languages still have law-performace implementations.\n",
        "\n",
        "We describe a new approach to virtual machine(VM) constructionthat amortizes much of th eeffor an initial construction by allowign new language sto be implemented width modest additional effort.\n",
        "\n",
        "The approach relies on the abstract synstax tree (AST) interpretation where a node can rewrite itself to a more specialized or more general node, together with an optmizign omcpiler that exmplotis the structure of the interpreter. "
      ],
      "metadata": {
        "id": "KzKIcd4P0WRf"
      }
    },
    {
      "cell_type": "markdown",
      "source": [
        "## Introduction"
      ],
      "metadata": {
        "id": "2hJSlUn81MB_"
      }
    },
    {
      "cell_type": "markdown",
      "source": [
        "Self pioneered Virtual Machines for object oriented languages.\n",
        "\n",
        "Others\n",
        "- Oracle Hostpot VM\n",
        "- IBM's Java\n",
        "- Microsoft's Common Langauge Runtime\n",
        "\n",
        "These implementations can be characterized in the following way:\n",
        "- Their performace on typical applications is within a small multiple (1-3x) of  the best statically compiled code for most equivalient programs written in an unsafe language such as C.\n",
        "\n",
        "- They are usually in an unsafe, systems programming langauge (C or C++)\n",
        "\n",
        "- Their implementation is highly complex.\n",
        "\n",
        "- They implement a single language, or provide a bycode interface that advantages a narrow set of languages to be detriment of other languages."
      ],
      "metadata": {
        "id": "SVS0a0B01Zeq"
      }
    },
    {
      "cell_type": "markdown",
      "source": [
        "- Truffe: Language Implementation Framework\n",
        "- Graal: Compilation Infraestructure\n",
        "\n"
      ],
      "metadata": {
        "id": "aA4Ac1gm2lqe"
      }
    },
    {
      "cell_type": "markdown",
      "source": [
        "Papers contribution:\n",
        "\n",
        "- We present a new VM architecture and our implementation, whch can be used to construct  high-performace implementations of a wide range of languages at modest incremental cost.\n",
        "\n",
        "- We show how the combination of node rewriting during interpretation, optimizing compilation, and deoptimization delivers high performace from an intrepreter without requiring a language-specific compiler.\n",
        "\n",
        "- We show hwo features of a variety of programming languages map on our framework.\n",
        "\n",
        "- We describe how our system supports alternative deployment strategies; these enhance developer productivity and separate langauge-specific from language independent components."
      ],
      "metadata": {
        "id": "CVLMtvcG2wNT"
      }
    },
    {
      "cell_type": "markdown",
      "source": [
        "## System Structure"
      ],
      "metadata": {
        "id": "oD4cWAKK3oWV"
      }
    },
    {
      "cell_type": "markdown",
      "source": [
        "## Self-optimization"
      ],
      "metadata": {
        "id": "0T2yf0Wa3r-Y"
      }
    },
    {
      "cell_type": "markdown",
      "source": [
        "## High Performace"
      ],
      "metadata": {
        "id": "FJxAU-714NhS"
      }
    },
    {
      "cell_type": "markdown",
      "source": [
        "## Implementation and Deployment"
      ],
      "metadata": {
        "id": "kdMOHegv4VMc"
      }
    },
    {
      "cell_type": "markdown",
      "source": [
        "## A Wide Variety of Languages"
      ],
      "metadata": {
        "id": "WnzghJj_4azh"
      }
    },
    {
      "cell_type": "markdown",
      "source": [
        "## Related Work"
      ],
      "metadata": {
        "id": "Mju33aGM4uWJ"
      }
    },
    {
      "cell_type": "markdown",
      "source": [
        "## Conclusions"
      ],
      "metadata": {
        "id": "0Fq3-4Tb5Jgp"
      }
    }
  ]
}