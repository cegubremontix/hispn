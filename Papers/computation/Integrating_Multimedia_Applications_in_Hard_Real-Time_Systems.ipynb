{
  "nbformat": 4,
  "nbformat_minor": 0,
  "metadata": {
    "colab": {
      "name": "Integrating Multimedia Applications in Hard Real-Time Systems.ipynb",
      "provenance": [],
      "include_colab_link": true
    },
    "kernelspec": {
      "name": "python3",
      "display_name": "Python 3"
    },
    "language_info": {
      "name": "python"
    }
  },
  "cells": [
    {
      "cell_type": "markdown",
      "metadata": {
        "id": "view-in-github",
        "colab_type": "text"
      },
      "source": [
        "<a href=\"https://colab.research.google.com/github/dbremont/Notas/blob/main/Papers/Computacion/Integrating_Multimedia_Applications_in_Hard_Real-Time_Systems.ipynb\" target=\"_parent\"><img src=\"https://colab.research.google.com/assets/colab-badge.svg\" alt=\"Open In Colab\"/></a>"
      ]
    },
    {
      "cell_type": "markdown",
      "metadata": {
        "id": "MuY3gBhYhP3G"
      },
      "source": [
        "This paper focuses on the problem of providing efficient\n",
        "run-time support to multimedia applications in a real-time\n",
        "system, where two types of tasks can coexist simultaneously:\n",
        "multimedia soft real-time tasks and hard real-time tasks.\n",
        "Hard tasks are guaranteed based on worst case execution\n",
        "times and minimum interarrival times, whereas multimedia\n",
        "and soft tasks are served based on mean parameters. The\n",
        "paper describes a server-based mechanism for scheduling\n",
        "soft and multimedia tasks without jeopardizing the a priori guarantee of hard real-time activities. The performance\n",
        "of the proposed method is compared with that of similar\n",
        "service mechanisms through extensive simulation experiments and several multimedia applications have been implemented on the HARTIK kernel."
      ]
    }
  ]
}