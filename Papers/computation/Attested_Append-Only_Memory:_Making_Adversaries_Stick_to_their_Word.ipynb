{
  "nbformat": 4,
  "nbformat_minor": 0,
  "metadata": {
    "colab": {
      "name": "Attested Append-Only Memory: Making Adversaries Stick to their Word.ipynb",
      "provenance": [],
      "include_colab_link": true
    },
    "kernelspec": {
      "name": "python3",
      "display_name": "Python 3"
    },
    "language_info": {
      "name": "python"
    }
  },
  "cells": [
    {
      "cell_type": "markdown",
      "metadata": {
        "id": "view-in-github",
        "colab_type": "text"
      },
      "source": [
        "<a href=\"https://colab.research.google.com/github/dbremont/Notas/blob/main/Papers/Computacion/Attested_Append-Only_Memory%3A_Making_Adversaries_Stick_to_their_Word.ipynb\" target=\"_parent\"><img src=\"https://colab.research.google.com/assets/colab-badge.svg\" alt=\"Open In Colab\"/></a>"
      ]
    },
    {
      "cell_type": "markdown",
      "metadata": {
        "id": "SYlAeL7kVuB9"
      },
      "source": [
        "Researchers have made great strides in improving the fault toler-\n",
        "\n",
        "ance of both centralized and replicated systems against arbitrary\n",
        "\n",
        "(Byzantine) faults. However, there are hard limits to how much can\n",
        "\n",
        "be done with entirely untrusted components; for example, repli-\n",
        "\n",
        "cated state machines cannot tolerate more than a third of their\n",
        "\n",
        "replica population being Byzantine. In this paper, we investigate\n",
        "\n",
        "how minimal trusted abstractions can push through these hard lim-\n",
        "\n",
        "its in practical ways. We propose Attested Append-Only Memory\n",
        "\n",
        "(A2M), a trusted system facility that is small, easy to implement\n",
        "\n",
        "and easy to verify formally. A2M provides the programming ab-\n",
        "\n",
        "straction of a trusted log, which leads to protocol designs immune\n",
        "\n",
        "to equivocation – the ability of a faulty host to lie in different ways\n",
        "to different clients or servers – which is a common source of Byzan-\n",
        "\n",
        "tine headaches. Using A2M, we improve upon the state of the\n",
        "\n",
        "art in Byzantine-fault tolerant replicated state machines, produc-\n",
        "\n",
        "ing A2M-enabled protocols (variants of Castro and Liskov’s PBFT)\n",
        "\n",
        "that remain correct (linearizable) and keep making progress (live)\n",
        "\n",
        "even when half the replicas are faulty, in contrast to the previous up-\n",
        "\n",
        "per bound. We also present an A2M-enabled single-server shared\n",
        "\n",
        "storage protocol that guarantees linearizability despite server faults.\n",
        "\n",
        "We implement A2M and our protocols, evaluate them experimen-\n",
        "\n",
        "tally through micro- and macro-benchmarks, and argue that the im-\n",
        "\n",
        "proved fault tolerance is cost-effective for a broad range of uses,\n",
        "\n",
        "opening up new avenues for practical, more reliable services."
      ]
    }
  ]
}