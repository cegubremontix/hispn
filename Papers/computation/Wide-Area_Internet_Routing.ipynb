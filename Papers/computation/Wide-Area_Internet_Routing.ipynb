{
  "nbformat": 4,
  "nbformat_minor": 0,
  "metadata": {
    "colab": {
      "name": "Wide-Area Internet Routing.ipynb",
      "provenance": [],
      "include_colab_link": true
    },
    "kernelspec": {
      "name": "python3",
      "display_name": "Python 3"
    },
    "language_info": {
      "name": "python"
    }
  },
  "cells": [
    {
      "cell_type": "markdown",
      "metadata": {
        "id": "view-in-github",
        "colab_type": "text"
      },
      "source": [
        "<a href=\"https://colab.research.google.com/github/dbremont/Notas/blob/main/Papers/Computacion/Wide-Area_Internet_Routing.ipynb\" target=\"_parent\"><img src=\"https://colab.research.google.com/assets/colab-badge.svg\" alt=\"Open In Colab\"/></a>"
      ]
    },
    {
      "cell_type": "markdown",
      "metadata": {
        "id": "IjGq6fPcauo-"
      },
      "source": [
        "Our goal is to explain how routing between different administrative domains works in the In-\n",
        "ternet. We discuss how Internet Service Providers (ISPs) exchange routing information, packets,\n",
        "and (above all) money between each other, and how the way in which they buy service from and\n",
        "sell service to each other and their customers influences routing. We discuss the salient features\n",
        "of the Border Gateway Protocol, Version 4 (BGP4, which we will refer to simply as BGP), the\n",
        "current interdomain routing protocol in the Internet. Finally, we discuss a few interesting fail-\n",
        "ures and shortcomings of the routing system. These notes focus only on the essential elements\n",
        "of interdomain routing, often sacrificing detail for clarity and sweeping generality."
      ]
    }
  ]
}