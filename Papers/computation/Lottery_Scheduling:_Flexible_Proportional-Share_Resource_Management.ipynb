{
  "nbformat": 4,
  "nbformat_minor": 0,
  "metadata": {
    "colab": {
      "name": "Lottery Scheduling: Flexible Proportional-Share Resource Management.ipynb",
      "provenance": [],
      "include_colab_link": true
    },
    "kernelspec": {
      "name": "python3",
      "display_name": "Python 3"
    },
    "language_info": {
      "name": "python"
    }
  },
  "cells": [
    {
      "cell_type": "markdown",
      "metadata": {
        "id": "view-in-github",
        "colab_type": "text"
      },
      "source": [
        "<a href=\"https://colab.research.google.com/github/dbremont/Notas/blob/main/Papers/Computacion/Lottery_Scheduling%3A_Flexible_Proportional-Share_Resource_Management.ipynb\" target=\"_parent\"><img src=\"https://colab.research.google.com/assets/colab-badge.svg\" alt=\"Open In Colab\"/></a>"
      ]
    },
    {
      "cell_type": "markdown",
      "metadata": {
        "id": "lKPAzbUHXTVr"
      },
      "source": [
        "This paper presents lottery scheduling, a novel randomized\n",
        "resource allocation mechanism. Lottery scheduling provides efficient, responsive control over the relative execution rates of\n",
        "computations. Such control is beyond the capabilities of conventional schedulers, and is desirable in systems that service requests\n",
        "of varying importance, such as databases, media-based applications, and networks. Lottery scheduling also supports modular\n",
        "resource management by enabling concurrent modules to insulate\n",
        "their resource allocation policies from one another. A currency abstraction is introduced to flexibly name, share, and protect resource\n",
        "rights. We also show that lottery scheduling can be generalized\n",
        "to manage many diverse resources, such as I/O bandwidth, memory, and access to locks. We have implemented a prototype lottery\n",
        "scheduler for the Mach 3.0 microkernel, and found that it provides\n",
        "flexible and responsive control over the relative execution rates\n",
        "of a wide range of applications. The overhead imposed by our\n",
        "unoptimized prototype is comparable to that of the standard Mach\n",
        "timesharing policy."
      ]
    }
  ]
}