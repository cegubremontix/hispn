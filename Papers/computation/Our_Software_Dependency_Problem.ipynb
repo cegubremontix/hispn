{
  "nbformat": 4,
  "nbformat_minor": 0,
  "metadata": {
    "kernelspec": {
      "display_name": "Python 2.7.18 64-bit",
      "name": "python2718jvsc74a57bd0f92b2924b84ff19c1c3dc485f7644d4486f64738191026bf8e6de303969141b5"
    },
    "language_info": {
      "name": "python",
      "version": ""
    },
    "metadata": {
      "interpreter": {
        "hash": "f92b2924b84ff19c1c3dc485f7644d4486f64738191026bf8e6de303969141b5"
      }
    },
    "orig_nbformat": 2,
    "colab": {
      "name": "Our Software Dependency Problem.ipynb",
      "provenance": [],
      "include_colab_link": true
    }
  },
  "cells": [
    {
      "cell_type": "markdown",
      "metadata": {
        "id": "view-in-github",
        "colab_type": "text"
      },
      "source": [
        "<a href=\"https://colab.research.google.com/github/dbremont/Notas/blob/main/Papers/Computacion/Our_Software_Dependency_Problem.ipynb\" target=\"_parent\"><img src=\"https://colab.research.google.com/assets/colab-badge.svg\" alt=\"Open In Colab\"/></a>"
      ]
    },
    {
      "cell_type": "markdown",
      "metadata": {
        "id": "tWcuBvoThGh1"
      },
      "source": [
        "Our Software Dependency Problem"
      ]
    },
    {
      "cell_type": "markdown",
      "metadata": {
        "id": "TKH87OHthGh6"
      },
      "source": [
        "For decades, discussion of software reuse was far more common than actual\n",
        "software reuse. Today, the situation is reversed: developers reuse software written by others every day, in the form of software dependencies, and the situation\n",
        "goes mostly unexamined.\n",
        "My own background includes a decade of working with Google’s internal\n",
        "source code system, which treats software dependencies as a first-class concept,¹ and also developing support for dependencies in the Go programming\n",
        "language.²\n",
        "Software dependencies carry with them serious risks that are too often overlooked. The shift to easy, fine-grained software reuse has happened so quickly that we do not yet understand the best practices for choosing and using dependencies effectively, or even for deciding when they are appropriate and when\n",
        "not. My purpose in writing this article is to raise awareness of the risks and encourage more investigation of solutions."
      ]
    }
  ]
}
