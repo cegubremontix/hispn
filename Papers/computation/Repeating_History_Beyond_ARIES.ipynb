{
  "nbformat": 4,
  "nbformat_minor": 0,
  "metadata": {
    "colab": {
      "name": "Repeating History Beyond ARIES.ipynb",
      "provenance": [],
      "include_colab_link": true
    },
    "kernelspec": {
      "name": "python3",
      "display_name": "Python 3"
    },
    "language_info": {
      "name": "python"
    }
  },
  "cells": [
    {
      "cell_type": "markdown",
      "metadata": {
        "id": "view-in-github",
        "colab_type": "text"
      },
      "source": [
        "<a href=\"https://colab.research.google.com/github/dbremont/Notas/blob/main/Papers/Computacion/Repeating_History_Beyond_ARIES.ipynb\" target=\"_parent\"><img src=\"https://colab.research.google.com/assets/colab-badge.svg\" alt=\"Open In Colab\"/></a>"
      ]
    },
    {
      "cell_type": "markdown",
      "metadata": {
        "id": "ceJiXg7TlyXD"
      },
      "source": [
        "In this paper, I describe first the background behind\n",
        "the  development  of  the  original  ARIES  recovery\n",
        "method, and its significant impact on the\n",
        "commercial world and the research community.\n",
        "Next,  I  provide  a  brief  introduction  to  the  various\n",
        "concurrency  control  and  recovery  methods  in  the\n",
        "ARIES family of algorithms. Subsequently, I discuss\n",
        "some of the recent developments affecting the\n",
        "transaction  management  area  and  what  these  mean\n",
        "for  the  future.  In  ARIES,  the  concept  of  repeating\n",
        "history turned out to be an important paradigm. As I\n",
        "examine  where  transaction  management  is  headed\n",
        "in the world of the internet, I observe history\n",
        "repeating  itself  in  the  sense  of  requirements  that\n",
        "used  to  be  considered  significant  in  the  mainframe\n",
        "world (e.g., performance, availability and reliability)\n",
        "now becoming important requirements of the\n",
        "broader information technology community as well."
      ]
    }
  ]
}