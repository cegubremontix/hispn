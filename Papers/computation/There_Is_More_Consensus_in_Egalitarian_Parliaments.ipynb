{
  "nbformat": 4,
  "nbformat_minor": 0,
  "metadata": {
    "colab": {
      "name": "There Is More Consensus in Egalitarian Parliaments.ipynb",
      "provenance": [],
      "include_colab_link": true
    },
    "kernelspec": {
      "name": "python3",
      "display_name": "Python 3"
    },
    "language_info": {
      "name": "python"
    }
  },
  "cells": [
    {
      "cell_type": "markdown",
      "metadata": {
        "id": "view-in-github",
        "colab_type": "text"
      },
      "source": [
        "<a href=\"https://colab.research.google.com/github/dbremont/Notas/blob/main/Papers/Computacion/There_Is_More_Consensus_in_Egalitarian_Parliaments.ipynb\" target=\"_parent\"><img src=\"https://colab.research.google.com/assets/colab-badge.svg\" alt=\"Open In Colab\"/></a>"
      ]
    },
    {
      "cell_type": "markdown",
      "metadata": {
        "id": "EGOJ3XjAa9E7"
      },
      "source": [
        "This paper describes the design and implementation of\n",
        "Egalitarian Paxos (EPaxos), a new distributed consensus\n",
        "algorithm based on Paxos. EPaxos achieves three goals:\n",
        "(1) optimal commit latency in the wide-area when toler-\n",
        "ating one and two failures, under realistic conditions; (2)\n",
        "uniform load balancing across all replicas (thus achieving\n",
        "high throughput); and (3) graceful performance degrada-\n",
        "tion when replicas are slow or crash.\n",
        "Egalitarian Paxos is to our knowledge the first protocol\n",
        "to achieve the previously stated goals efficiently—that\n",
        "is, requiring only a simple majority of replicas to be non-\n",
        "faulty, using a number of messages linear in the number\n",
        "of replicas to choose a command, and committing com-\n",
        "mands after just one communication round (one round\n",
        "trip) in the common case or after at most two rounds\n",
        "in any case. We prove Egalitarian Paxos’s properties\n",
        "theoretically and demonstrate its advantages empirically\n",
        "through an implementation running on Amazon EC2."
      ]
    }
  ]
}