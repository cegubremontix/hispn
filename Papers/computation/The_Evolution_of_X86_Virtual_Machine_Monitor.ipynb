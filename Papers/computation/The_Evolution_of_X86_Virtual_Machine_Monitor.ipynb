{
  "nbformat": 4,
  "nbformat_minor": 0,
  "metadata": {
    "colab": {
      "name": "The Evolution of X86 Virtual Machine Monitor.ipynb",
      "provenance": [],
      "include_colab_link": true
    },
    "kernelspec": {
      "name": "python3",
      "display_name": "Python 3"
    },
    "language_info": {
      "name": "python"
    }
  },
  "cells": [
    {
      "cell_type": "markdown",
      "metadata": {
        "id": "view-in-github",
        "colab_type": "text"
      },
      "source": [
        "<a href=\"https://colab.research.google.com/github/dbremont/Notas/blob/main/Papers/Computacion/The_Evolution_of_X86_Virtual_Machine_Monitor.ipynb\" target=\"_parent\"><img src=\"https://colab.research.google.com/assets/colab-badge.svg\" alt=\"Open In Colab\"/></a>"
      ]
    },
    {
      "cell_type": "markdown",
      "metadata": {
        "id": "AQBFXO8gnLFP"
      },
      "source": [
        "Twelve years have passed since VMware engineers first virtu-\n",
        "alized the x86 architecture. This technological breakthrough\n",
        "\n",
        "kicked off a transformation of an entire industry, and virtu-\n",
        "alization is now (once again) a thriving business with a wide\n",
        "range of solutions being deployed, developed and proposed.\n",
        "\n",
        "But at the base of it all, the fundamental quest is still the\n",
        "same: running virtual machines as well as we possibly can\n",
        "on top of a virtual machine monitor.\n",
        "We review how the x86 architecture was originally virtual-\n",
        "ized in the days of the Pentium II (1998), and follow the\n",
        "evolution of the virtual machine monitor forward through\n",
        "\n",
        "the introduction of virtual SMP, 64 bit (x64), and hard-\n",
        "ware support for virtualization to finish with a contempo-\n",
        "rary challenge, nested virtualization."
      ]
    }
  ]
}