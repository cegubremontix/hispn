{
  "nbformat": 4,
  "nbformat_minor": 0,
  "metadata": {
    "colab": {
      "name": "A Comparison of Software and Hardware Techniques for x86 Virtualization.ipynb",
      "provenance": [],
      "include_colab_link": true
    },
    "kernelspec": {
      "name": "python3",
      "display_name": "Python 3"
    },
    "language_info": {
      "name": "python"
    }
  },
  "cells": [
    {
      "cell_type": "markdown",
      "metadata": {
        "id": "view-in-github",
        "colab_type": "text"
      },
      "source": [
        "<a href=\"https://colab.research.google.com/github/dbremont/Notas/blob/main/Papers/Computacion/A_Comparison_of_Software_and_Hardware_Techniques_for_x86_Virtualization.ipynb\" target=\"_parent\"><img src=\"https://colab.research.google.com/assets/colab-badge.svg\" alt=\"Open In Colab\"/></a>"
      ]
    },
    {
      "cell_type": "markdown",
      "metadata": {
        "id": "7dg6rMB3XJhf"
      },
      "source": [
        "Until recently, the x86 architecture has not permitted classical\n",
        "trap-and-emulate virtualization. Virtual Machine Monitors for x86,\n",
        "such as VMwareR Workstation and Virtual PC, have instead used\n",
        "binary translation of the guest kernel code. However, both Intel\n",
        "and AMD have now introduced architectural extensions to support\n",
        "classical virtualization.\n",
        "We compare an existing software VMM with a new VMM designed for the emerging hardware support. Surprisingly, the hardware VMM often suffers lower performance than the pure software\n",
        "VMM. To determine why, we study architecture-level events such\n",
        "as page table updates, context switches and I/O, and find their costs\n",
        "vastly different among native, software VMM and hardware VMM\n",
        "execution.\n",
        "We find that the hardware support fails to provide an unambiguous performance advantage for two primary reasons: first, it offers no support for MMU virtualization; second, it fails to co-exist\n",
        "with existing software techniques for MMU virtualization. We look\n",
        "ahead to emerging techniques for addressing this MMU virtualization problem in the context of hardware-assisted virtualization."
      ]
    }
  ]
}