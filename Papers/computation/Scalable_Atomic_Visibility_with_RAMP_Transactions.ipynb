{
  "nbformat": 4,
  "nbformat_minor": 0,
  "metadata": {
    "colab": {
      "name": "Scalable Atomic Visibility with RAMP Transactions.ipynb",
      "provenance": [],
      "include_colab_link": true
    },
    "kernelspec": {
      "name": "python3",
      "display_name": "Python 3"
    },
    "language_info": {
      "name": "python"
    }
  },
  "cells": [
    {
      "cell_type": "markdown",
      "metadata": {
        "id": "view-in-github",
        "colab_type": "text"
      },
      "source": [
        "<a href=\"https://colab.research.google.com/github/dbremont/Notas/blob/main/Papers/Computacion/Scalable_Atomic_Visibility_with_RAMP_Transactions.ipynb\" target=\"_parent\"><img src=\"https://colab.research.google.com/assets/colab-badge.svg\" alt=\"Open In Colab\"/></a>"
      ]
    },
    {
      "cell_type": "markdown",
      "metadata": {
        "id": "EV5To4C8ul4G"
      },
      "source": [
        "Databases can provide scalability by partitioning data across several\n",
        "servers. However, multi-partition, multi-operation transactional access is often expensive, employing coordination-intensive locking,\n",
        "validation, or scheduling mechanisms. Accordingly, many realworld systems avoid mechanisms that provide useful semantics for\n",
        "multi-partition operations. This leads to incorrect behavior for a\n",
        "large class of applications including secondary indexing, foreign key\n",
        "enforcement, and materialized view maintenance. In this work, we\n",
        "identify a new isolation model—Read Atomic (RA) isolation—that\n",
        "matches the requirements of these use cases by ensuring atomic visibility: either all or none of each transaction’s updates are observed\n",
        "by other transactions. We present algorithms for Read Atomic MultiPartition (RAMP) transactions that enforce atomic visibility while\n",
        "offering excellent scalability, guaranteed commit despite partial\n",
        "failures (via synchronization independence), and minimized communication between servers (via partition independence). These\n",
        "RAMP transactions correctly mediate atomic visibility of updates\n",
        "and provide readers with snapshot access to database state by using\n",
        "limited multi-versioning and by allowing clients to independently\n",
        "resolve non-atomic reads. We demonstrate that, in contrast with existing algorithms, RAMP transactions incur limited overhead—even\n",
        "under high contention—and scale linearly to 100 servers"
      ]
    }
  ]
}