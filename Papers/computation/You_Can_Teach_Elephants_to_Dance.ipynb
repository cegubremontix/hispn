{
  "nbformat": 4,
  "nbformat_minor": 0,
  "metadata": {
    "colab": {
      "name": "You Can Teach Elephants to Dance.ipynb",
      "provenance": [],
      "include_colab_link": true
    },
    "kernelspec": {
      "name": "python3",
      "display_name": "Python 3"
    },
    "language_info": {
      "name": "python"
    }
  },
  "cells": [
    {
      "cell_type": "markdown",
      "metadata": {
        "id": "view-in-github",
        "colab_type": "text"
      },
      "source": [
        "<a href=\"https://colab.research.google.com/github/dbremont/Notas/blob/main/Papers/Computacion/You_Can_Teach_Elephants_to_Dance.ipynb\" target=\"_parent\"><img src=\"https://colab.research.google.com/assets/colab-badge.svg\" alt=\"Open In Colab\"/></a>"
      ]
    },
    {
      "cell_type": "markdown",
      "metadata": {
        "id": "P8nnK40Oh-gC"
      },
      "source": [
        "VM handoff enables rapid and transparent placement changes\n",
        "to executing code in edge computing use cases where the\n",
        "safety and management attributes of VM encapsulation are\n",
        "important. This versatile primitive offers the functionality of\n",
        "classic live migration but is highly optimized for the edge.\n",
        "\n",
        "Over WAN bandwidths ranging from 5 to 25 Mbps, VM\n",
        "\n",
        "handoff migrates a running 8 GB VM in about a minute,\n",
        "with a downtime of a few tens of seconds. By dynamically\n",
        "adapting to varying network bandwidth and processing load,\n",
        "VM handoff is more than an order of magnitude faster than\n",
        "live migration at those bandwidths."
      ]
    }
  ]
}