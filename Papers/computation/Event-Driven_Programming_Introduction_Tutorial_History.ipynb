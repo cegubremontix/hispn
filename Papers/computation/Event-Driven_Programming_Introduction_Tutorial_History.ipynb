{
  "nbformat": 4,
  "nbformat_minor": 0,
  "metadata": {
    "kernelspec": {
      "display_name": "Python 2.7.18 64-bit",
      "name": "python2718jvsc74a57bd0f92b2924b84ff19c1c3dc485f7644d4486f64738191026bf8e6de303969141b5"
    },
    "language_info": {
      "name": "python",
      "version": ""
    },
    "metadata": {
      "interpreter": {
        "hash": "f92b2924b84ff19c1c3dc485f7644d4486f64738191026bf8e6de303969141b5"
      }
    },
    "orig_nbformat": 2,
    "colab": {
      "name": "Event-Driven Programming - Introduction, Tutorial, History.ipynb",
      "provenance": [],
      "include_colab_link": true
    }
  },
  "cells": [
    {
      "cell_type": "markdown",
      "metadata": {
        "id": "view-in-github",
        "colab_type": "text"
      },
      "source": [
        "<a href=\"https://colab.research.google.com/github/dbremont/Notas/blob/main/Papers/Computacion/Event-Driven_Programming_Introduction_Tutorial_History.ipynb\" target=\"_parent\"><img src=\"https://colab.research.google.com/assets/colab-badge.svg\" alt=\"Open In Colab\"/></a>"
      ]
    },
    {
      "cell_type": "markdown",
      "metadata": {
        "id": "FAhUPaQmq8LO"
      },
      "source": [
        "Event-Driven Programming - Introduction, Tutorial, History"
      ]
    },
    {
      "cell_type": "markdown",
      "metadata": {
        "id": "uNZ8Yljdq8LS"
      },
      "source": [
        "In The Beginning – Transaction Analysis\n",
        "- Dataflow Diagrams \n",
        "- Structure Charts\n",
        "\n",
        "The Handlers Design Pattern\n",
        "\n",
        "- The Headless Handlers Pattern\n",
        "\n",
        "- The Extended Handlers Pattern \n",
        "\n",
        "- The Event Queue\n",
        "\n",
        "- Some Examples of the Handlers Pattern\n",
        "\n",
        "- Objects\n",
        "\n",
        "- Systems\n",
        "\n",
        "- Client-Server Architecture \n",
        "\n",
        "- Messaging Systems \n",
        "\n",
        "Frameworks \n",
        "- Object-Oriented Event-Driven Programming\n",
        "\n",
        "- Frameworks \n",
        "\n",
        "- SAX – an example of a framework \n",
        "\n",
        "- Why programming with a framework is hard\n",
        "\n",
        "GUI programming\n",
        "\n",
        "- Why GUI programming is hard\n",
        "\n",
        "- The Observer Pattern\n",
        "\n",
        "- Event Objects\n",
        "\n",
        "- The Registered Handlers pattern in GUI applications\n",
        "\n",
        "- Registering Event-Handlers in Python – \"binding\" \n",
        "\n",
        "- Registering Event-Handlers in Java – \"listeners\"\n",
        "\n",
        "- Callback programming\n",
        "\n",
        "- GUI programming – summary\n",
        "\n",
        "Maintaining State\n",
        "\n",
        "- Rejecting invalid transactions\n",
        "\n",
        "- State Machines\n",
        "\n",
        "- Coding a Finite State Machine (1)\n",
        "\n",
        "- Coding a Finite State Machine (2) \n",
        "\n",
        "- Ways to remember state\n",
        "\n",
        "Conclusion \n",
        "\n",
        "Appendix A – Abstract methods in Python \n",
        "\n",
        "Appendix B – SAX parsing in Python "
      ]
    }
  ]
}