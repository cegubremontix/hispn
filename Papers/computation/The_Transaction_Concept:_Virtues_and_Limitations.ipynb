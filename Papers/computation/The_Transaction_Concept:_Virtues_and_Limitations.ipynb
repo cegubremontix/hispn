{
  "nbformat": 4,
  "nbformat_minor": 0,
  "metadata": {
    "colab": {
      "name": "The Transaction Concept: Virtues and Limitations.ipynb",
      "provenance": [],
      "include_colab_link": true
    },
    "kernelspec": {
      "name": "python3",
      "display_name": "Python 3"
    },
    "language_info": {
      "name": "python"
    }
  },
  "cells": [
    {
      "cell_type": "markdown",
      "metadata": {
        "id": "view-in-github",
        "colab_type": "text"
      },
      "source": [
        "<a href=\"https://colab.research.google.com/github/dbremont/Notas/blob/main/Papers/Computacion/The_Transaction_Concept%3A_Virtues_and_Limitations.ipynb\" target=\"_parent\"><img src=\"https://colab.research.google.com/assets/colab-badge.svg\" alt=\"Open In Colab\"/></a>"
      ]
    },
    {
      "cell_type": "markdown",
      "metadata": {
        "id": "4CF9oRTUihC3"
      },
      "source": [
        "ABSTRACT:    A  transaction  is  a  transformation  of  state  which  has  the  properties  of  atomicity \n",
        "(all  or  nothing),  durability  (effects  survive  failures)  and  consistency  (a  correct  transformation).  \n",
        "The transaction concept is key to the structuring of data management applications.  The concept \n",
        "may  have  applicability  to  programming  systems  in  general.    This  paper  restates  the  transaction \n",
        "concepts and attempts to put several implementation approaches in perspective.  It then describes \n",
        "some  areas  which  require  further  study:    (1)  the  integration  of  the  transaction  concept  with  the \n",
        "notion  of  abstract  data  type,  (2)  some  techniques  to  allow  transactions  to  be  composed  of  sub-\n",
        "transactions, and (3) handling transactions which last for extremely long times (days or months). "
      ]
    }
  ]
}