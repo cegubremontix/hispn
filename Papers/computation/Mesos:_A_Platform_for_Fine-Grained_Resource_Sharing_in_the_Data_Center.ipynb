{
  "nbformat": 4,
  "nbformat_minor": 0,
  "metadata": {
    "colab": {
      "name": "Mesos: A Platform for Fine-Grained Resource Sharing in the Data Center.ipynb",
      "provenance": [],
      "include_colab_link": true
    },
    "kernelspec": {
      "name": "python3",
      "display_name": "Python 3"
    },
    "language_info": {
      "name": "python"
    }
  },
  "cells": [
    {
      "cell_type": "markdown",
      "metadata": {
        "id": "view-in-github",
        "colab_type": "text"
      },
      "source": [
        "<a href=\"https://colab.research.google.com/github/dbremont/Notas/blob/main/Papers/Computacion/Mesos%3A_A_Platform_for_Fine-Grained_Resource_Sharing_in_the_Data_Center.ipynb\" target=\"_parent\"><img src=\"https://colab.research.google.com/assets/colab-badge.svg\" alt=\"Open In Colab\"/></a>"
      ]
    },
    {
      "cell_type": "markdown",
      "metadata": {
        "id": "4736HYvkbCoQ"
      },
      "source": [
        "We present Mesos, a platform for sharing commod-\n",
        "ity clusters between multiple diverse cluster computing\n",
        "frameworks, such as Hadoop and MPI. Sharing improves\n",
        "cluster utilization and avoids per-framework data repli-\n",
        "cation. Mesos shares resources in a fine-grained man-\n",
        "ner, allowing frameworks to achieve data locality by\n",
        "taking turns reading data stored on each machine. To\n",
        "support the sophisticated schedulers of today’s frame-\n",
        "works, Mesos introduces a distributed two-level schedul-\n",
        "ing mechanism called resource offers. Mesos decides\n",
        "how many resources to offer each framework, while\n",
        "frameworks decide which resources to accept and which\n",
        "computations to run on them. Our results show that\n",
        "Mesos can achieve near-optimal data locality when shar-\n",
        "ing the cluster among diverse frameworks, can scale to\n",
        "50,000 (emulated) nodes, and is resilient to failures."
      ]
    }
  ]
}