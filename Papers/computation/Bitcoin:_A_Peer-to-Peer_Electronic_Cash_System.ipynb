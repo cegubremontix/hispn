{
  "nbformat": 4,
  "nbformat_minor": 0,
  "metadata": {
    "colab": {
      "name": "Bitcoin: A Peer-to-Peer Electronic Cash System.ipynb",
      "provenance": [],
      "include_colab_link": true
    },
    "kernelspec": {
      "name": "python3",
      "display_name": "Python 3"
    },
    "language_info": {
      "name": "python"
    }
  },
  "cells": [
    {
      "cell_type": "markdown",
      "metadata": {
        "id": "view-in-github",
        "colab_type": "text"
      },
      "source": [
        "<a href=\"https://colab.research.google.com/github/dbremont/Notas/blob/main/Papers/Computacion/Bitcoin%3A_A_Peer-to-Peer_Electronic_Cash_System.ipynb\" target=\"_parent\"><img src=\"https://colab.research.google.com/assets/colab-badge.svg\" alt=\"Open In Colab\"/></a>"
      ]
    },
    {
      "cell_type": "markdown",
      "metadata": {
        "id": "1onjd277g494"
      },
      "source": [
        "Abstract.   A  purely   peer-to-peer   version   of   electronic   cash   would   allow   online \n",
        "payments   to   be   sent   directly   from   one   party   to   another   without   going   through   a \n",
        "financial institution.   Digital signatures provide part of the solution, but the main \n",
        "benefits are lost if a trusted third party is still required to prevent double-spending. \n",
        "We propose a solution to the double-spending problem using a peer-to-peer network. \n",
        "The   network   timestamps   transactions   by   hashing   them   into   an   ongoing   chain   of \n",
        "hash-based proof-of-work, forming a record that cannot be changed without redoing \n",
        "the proof-of-work.   The longest chain not only serves as proof of the sequence of \n",
        "events witnessed, but proof that it came from the largest pool of CPU power.   As \n",
        "long as a majority of CPU power is controlled by nodes that are not cooperating to \n",
        "attack the network,  they'll  generate the  longest  chain  and  outpace attackers.   The \n",
        "network itself requires minimal structure.   Messages are broadcast on a best effort \n",
        "basis,   and   nodes   can   leave   and   rejoin   the   network   at   will,   accepting   the   longest \n",
        "proof-of-work chain as proof of what happened while they were gone."
      ]
    }
  ]
}