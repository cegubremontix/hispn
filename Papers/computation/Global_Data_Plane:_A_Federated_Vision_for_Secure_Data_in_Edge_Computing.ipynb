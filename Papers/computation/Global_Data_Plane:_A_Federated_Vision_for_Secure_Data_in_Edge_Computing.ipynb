{
  "nbformat": 4,
  "nbformat_minor": 0,
  "metadata": {
    "colab": {
      "name": "Global Data Plane: A Federated Vision for Secure Data in Edge Computing.ipynb",
      "provenance": [],
      "include_colab_link": true
    },
    "kernelspec": {
      "name": "python3",
      "display_name": "Python 3"
    },
    "language_info": {
      "name": "python"
    }
  },
  "cells": [
    {
      "cell_type": "markdown",
      "metadata": {
        "id": "view-in-github",
        "colab_type": "text"
      },
      "source": [
        "<a href=\"https://colab.research.google.com/github/dbremont/Notas/blob/main/Papers/Computacion/Global_Data_Plane%3A_A_Federated_Vision_for_Secure_Data_in_Edge_Computing.ipynb\" target=\"_parent\"><img src=\"https://colab.research.google.com/assets/colab-badge.svg\" alt=\"Open In Colab\"/></a>"
      ]
    },
    {
      "cell_type": "markdown",
      "metadata": {
        "id": "xE6PTw63kAK4"
      },
      "source": [
        "Abstract—We propose a federated edge-computing architec-\n",
        "ture for management of data. Our vision is to enable a service\n",
        "provider model for “data-services”, where a user can enter\n",
        "into economic agreements with an infrastructure maintainer to\n",
        "provide storage and communication of data, without necessarily\n",
        "trusting the infrastructure provider. Toward this vision, we\n",
        "present cryptographically hardened cohesive collections of data\n",
        "items called DataCapsules, and an overview of the underlying\n",
        "federated architecture, called Global Data Plane.\n",
        "Index Terms—Edge Computing, Data Security, Distributed\n",
        "Systems."
      ]
    }
  ]
}