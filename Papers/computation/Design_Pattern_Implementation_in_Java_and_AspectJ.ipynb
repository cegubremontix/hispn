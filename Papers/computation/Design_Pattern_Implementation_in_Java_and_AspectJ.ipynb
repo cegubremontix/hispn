{
  "nbformat": 4,
  "nbformat_minor": 0,
  "metadata": {
    "colab": {
      "name": "Design Pattern Implementation in Java and AspectJ.ipynb",
      "provenance": [],
      "authorship_tag": "ABX9TyPCaA615/9Txs7sn0VwU9Jb",
      "include_colab_link": true
    },
    "kernelspec": {
      "name": "python3",
      "display_name": "Python 3"
    },
    "language_info": {
      "name": "python"
    }
  },
  "cells": [
    {
      "cell_type": "markdown",
      "metadata": {
        "id": "view-in-github",
        "colab_type": "text"
      },
      "source": [
        "<a href=\"https://colab.research.google.com/github/dbremont/Notas/blob/main/Papers/Computacion/Design_Pattern_Implementation_in_Java_and_AspectJ.ipynb\" target=\"_parent\"><img src=\"https://colab.research.google.com/assets/colab-badge.svg\" alt=\"Open In Colab\"/></a>"
      ]
    },
    {
      "cell_type": "markdown",
      "source": [
        "[Design Pattern Implementation in Java and AspectJ](https://homepages.cwi.nl/~storm/teaching/reader/HannemannKiczales02.pdf)\n",
        "\n",
        "[Observer Pattern using Aspect-Oriented Programming](https://www.cin.ufpe.br/~sugarloafplop/articles/wp/PivetaFinalCopy.pdf)"
      ],
      "metadata": {
        "id": "MSBDJuSBOxd5"
      }
    }
  ]
}