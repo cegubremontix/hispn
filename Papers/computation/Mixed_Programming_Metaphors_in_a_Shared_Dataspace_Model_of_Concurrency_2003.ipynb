{
    "nbformat": 4,
    "nbformat_minor": 0,
    "metadata": {
        "colab": {
            "name":"Mixed Programming Metaphors in a Shared Dataspace Model of Concurrency(2003.ipynb",
            "provenance": [],
            "authorship_tag": "ABX9TyOF9UT4S4S5I69TKWt/9f3N",
            "include_colab_link": true
        },
        "kernelspec": {
            "name": "python3",
            "display_name": "Python 3"
        },
        "language_info": {
            "name": "python"
        }
    },
    "cells": [
        {
            "cell_type": "markdown",
            "metadata": {
                "id": "view-in-github",
                "colab_type": "text"
            },
            "source": ["<a href=\"https://colab.research.google.com/github/dbremont/Notas/blob/main/Papers/{TYPE}/Mixed_Programming_Metaphors_in_a_Shared_Dataspace_Model_of_Concurrency_2003.ipynb\" target=\"_parent\"><img src=\"https://colab.research.google.com/assets/colab-badge.svg\" alt=\"Open In Colab\"/></a>"
           ]
        },
        {
            "cell_type": "markdown",
            "source": ["[Mixed Programming Metaphors in a Shared Dataspace Model of Concurrency(2003](https://openscholarship.wustl.edu/cse_research/676/)"
            ],
            "metadata": {
                "id": "gv-C86PLYaHi"
            }
        }
    ]
}
