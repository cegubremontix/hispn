{
  "nbformat": 4,
  "nbformat_minor": 0,
  "metadata": {
    "colab": {
      "name": "Experiences with CoralCDN: A Five-Year Operational View.ipynb",
      "provenance": [],
      "include_colab_link": true
    },
    "kernelspec": {
      "name": "python3",
      "display_name": "Python 3"
    },
    "language_info": {
      "name": "python"
    }
  },
  "cells": [
    {
      "cell_type": "markdown",
      "metadata": {
        "id": "view-in-github",
        "colab_type": "text"
      },
      "source": [
        "<a href=\"https://colab.research.google.com/github/dbremont/Notas/blob/main/Papers/Computacion/Experiences_with_CoralCDN%3A_A_Five-Year_Operational_View.ipynb\" target=\"_parent\"><img src=\"https://colab.research.google.com/assets/colab-badge.svg\" alt=\"Open In Colab\"/></a>"
      ]
    },
    {
      "cell_type": "markdown",
      "metadata": {
        "id": "dxx_WXeSopry"
      },
      "source": [
        "CoralCDN is a self-organizing web content distribution\n",
        "network (CDN). Publishing through CoralCDN is as sim-\n",
        "ple as making a small change to a URL’s hostname; a\n",
        "decentralized DNS layer transparently directs browsers to\n",
        "nearby participating cache nodes, which in turn cooperate\n",
        "to minimize load on the origin webserver. CoralCDN has\n",
        "been publicly available on PlanetLab since March 2004,\n",
        "accounting for the majority of its bandwidth and serving\n",
        "requests for several million users (client IPs) per day. This\n",
        "paper describes CoralCDN’s usage scenarios and a num-\n",
        "ber of experiences drawn from its multi-year deployment.\n",
        "These lessons range from the specific to the general, touch-\n",
        "ing on the Web (APIs, naming, and security), CDNs (ro-\n",
        "bustness and resource management), and virtualized host-\n",
        "ing (visibility and control). We identify design aspects and\n",
        "changes that helped CoralCDN succeed, yet also those that\n",
        "proved wrong for its current environment."
      ]
    }
  ]
}