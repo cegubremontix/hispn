{
  "nbformat": 4,
  "nbformat_minor": 0,
  "metadata": {
    "colab": {
      "name": "A scalable and explicit event delivery mechanism for UNIX.ipynb",
      "provenance": [],
      "include_colab_link": true
    },
    "kernelspec": {
      "name": "python3",
      "display_name": "Python 3"
    },
    "language_info": {
      "name": "python"
    }
  },
  "cells": [
    {
      "cell_type": "markdown",
      "metadata": {
        "id": "view-in-github",
        "colab_type": "text"
      },
      "source": [
        "<a href=\"https://colab.research.google.com/github/dbremont/Notas/blob/main/Papers/Computacion/A_scalable_and_explicit_event_delivery_mechanism_for_UNIX.ipynb\" target=\"_parent\"><img src=\"https://colab.research.google.com/assets/colab-badge.svg\" alt=\"Open In Colab\"/></a>"
      ]
    },
    {
      "cell_type": "markdown",
      "metadata": {
        "id": "zmsCU3B8WRdL"
      },
      "source": [
        "UNIX applications not wishing to block when do-\n",
        "ing I/O often use the select() system call, to wait for\n",
        "events on multiple file descriptors. The select() mech-\n",
        "anism works well for small-scale applications, but scales\n",
        "poorly as the number of file descriptors increases. Many\n",
        "\n",
        "modern applications, such as Internet servers, use hun-\n",
        "\n",
        "dreds or thousands of file descriptors, and suffer greatly\n",
        "\n",
        "from the poor scalability of select(). Previous work has\n",
        "shown that while the traditional implementation of se-\n",
        "lect() can be improved, the poor scalability is inherent in\n",
        "the design. We present a new event-delivery mechanism,\n",
        "\n",
        "which allows the application to register interest in one or\n",
        "\n",
        "more sources of events, and to efficiently dequeue new\n",
        "\n",
        "events. We show that this mechanism, which requires\n",
        "only minor changes to applications, performs independ-\n",
        "ently of the number of file descriptors."
      ]
    }
  ]
}