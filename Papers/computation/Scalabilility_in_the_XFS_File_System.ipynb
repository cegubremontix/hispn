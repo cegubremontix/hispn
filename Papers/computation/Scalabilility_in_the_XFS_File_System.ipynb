{
  "nbformat": 4,
  "nbformat_minor": 0,
  "metadata": {
    "colab": {
      "name": "Scalabilility in the XFS File System.ipynb",
      "provenance": [],
      "include_colab_link": true
    },
    "kernelspec": {
      "name": "python3",
      "display_name": "Python 3"
    },
    "language_info": {
      "name": "python"
    }
  },
  "cells": [
    {
      "cell_type": "markdown",
      "metadata": {
        "id": "view-in-github",
        "colab_type": "text"
      },
      "source": [
        "<a href=\"https://colab.research.google.com/github/dbremont/Notas/blob/main/Papers/Computacion/Scalabilility_in_the_XFS_File_System.ipynb\" target=\"_parent\"><img src=\"https://colab.research.google.com/assets/colab-badge.svg\" alt=\"Open In Colab\"/></a>"
      ]
    },
    {
      "cell_type": "markdown",
      "metadata": {
        "id": "wTim-z9YXPpp"
      },
      "source": [
        "n  this  paper  we  describe  the  architecture  and  design\n",
        "of a new file system, XFS, for Silicon Graphics’ IRIX\n",
        "\n",
        "operating  system.  It  is  a  general  purpose  file  system\n",
        "\n",
        "for use on both workstations and servers. The focus of\n",
        "\n",
        "the paper is on the mechanisms used by XFS to scale\n",
        "\n",
        "capacity and performance in supporting very large file\n",
        "\n",
        "systems. The large file system support includes mech-\n",
        "\n",
        "anisms  for  managing  large  files,  large  numbers  of\n",
        "\n",
        "files, large directories, and very high performance I/O.\n",
        "In  discussing  the  mechanisms  used  for  scalability  we\n",
        "include  both  descriptions  of  the  XFS  on-disk  data\n",
        "\n",
        "structures and analyses of why they were chosen. We\n",
        "\n",
        "discuss in detail our use of B+ trees in place of many\n",
        "\n",
        "of the more traditional linear file system structures.\n",
        "XFS  has  been  shipping  to  customers  since  December\n",
        "of 1994 in a version of IRIX 5.3, and we are continu-\n",
        "\n",
        "ing  to  improve  its  performance  and  add  features  in\n",
        "upcoming  releases.  We include  performance  results\n",
        "\n",
        "from  running  on  the  latest  versi"
      ]
    }
  ]
}