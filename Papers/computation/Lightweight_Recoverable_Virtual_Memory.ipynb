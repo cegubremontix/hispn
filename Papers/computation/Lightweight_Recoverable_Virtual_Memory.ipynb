{
  "nbformat": 4,
  "nbformat_minor": 0,
  "metadata": {
    "colab": {
      "name": "Lightweight Recoverable Virtual Memory.ipynb",
      "provenance": [],
      "include_colab_link": true
    },
    "kernelspec": {
      "name": "python3",
      "display_name": "Python 3"
    },
    "language_info": {
      "name": "python"
    }
  },
  "cells": [
    {
      "cell_type": "markdown",
      "metadata": {
        "id": "view-in-github",
        "colab_type": "text"
      },
      "source": [
        "<a href=\"https://colab.research.google.com/github/dbremont/Notas/blob/main/Papers/Computacion/Lightweight_Recoverable_Virtual_Memory.ipynb\" target=\"_parent\"><img src=\"https://colab.research.google.com/assets/colab-badge.svg\" alt=\"Open In Colab\"/></a>"
      ]
    },
    {
      "cell_type": "markdown",
      "metadata": {
        "id": "NyuUjYkb3v_J"
      },
      "source": [
        "Recoverable virtual memory refers to region of a virtual adress space on which transational guarantes are offered.\n",
        "\n",
        "This paper describes **RVM**, and efficient, portable, and easily used implementacion of recoverable virtual memory for Unix environments.\n",
        "\n",
        "A unique characteristic of **RVM** is that it allows independt control over the transactional properties of atomicity, permancen, and serializability. This leads to considerable flexibility in the use of RVM, optentially enlargin the range of aplicatiosn that can benit from transactions. It also simplfies the layering of fucntionality such as nesting and distribution.\n",
        "\n",
        "The paper shows that RVM performs well over its intented range of usege even trhough it does not benfit form specilez operating sysetm support. It also demostrates the importance of ultra- and inter  transaction optimizations."
      ]
    }
  ]
}