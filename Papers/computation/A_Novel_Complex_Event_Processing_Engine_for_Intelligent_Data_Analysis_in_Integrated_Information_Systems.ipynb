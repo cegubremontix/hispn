{
  "nbformat": 4,
  "nbformat_minor": 0,
  "metadata": {
    "colab": {
      "name": "A Novel Complex Event Processing Engine for Intelligent Data Analysis in Integrated Information Systems.ipynb",
      "provenance": [],
      "collapsed_sections": [],
      "authorship_tag": "ABX9TyPb0+EyUqvuSh6MoDsMu13x",
      "include_colab_link": true
    },
    "kernelspec": {
      "name": "python3",
      "display_name": "Python 3"
    },
    "language_info": {
      "name": "python"
    }
  },
  "cells": [
    {
      "cell_type": "markdown",
      "metadata": {
        "id": "view-in-github",
        "colab_type": "text"
      },
      "source": [
        "<a href=\"https://colab.research.google.com/github/dbremont/Notas/blob/main/Papers/computation/A_Novel_Complex_Event_Processing_Engine_for_Intelligent_Data_Analysis_in_Integrated_Information_Systems.ipynb\" target=\"_parent\"><img src=\"https://colab.research.google.com/assets/colab-badge.svg\" alt=\"Open In Colab\"/></a>"
      ]
    },
    {
      "cell_type": "markdown",
      "source": [
        "Papers/computation/"
      ],
      "metadata": {
        "id": "WPuIUL-2lJVs"
      }
    }
  ]
}