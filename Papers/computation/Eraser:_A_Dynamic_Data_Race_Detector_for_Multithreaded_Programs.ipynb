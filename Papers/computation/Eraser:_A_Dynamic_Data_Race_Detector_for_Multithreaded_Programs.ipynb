{
  "nbformat": 4,
  "nbformat_minor": 0,
  "metadata": {
    "colab": {
      "name": "Eraser: A Dynamic Data Race Detector for Multithreaded Programs.ipynb",
      "provenance": [],
      "include_colab_link": true
    },
    "kernelspec": {
      "name": "python3",
      "display_name": "Python 3"
    },
    "language_info": {
      "name": "python"
    }
  },
  "cells": [
    {
      "cell_type": "markdown",
      "metadata": {
        "id": "view-in-github",
        "colab_type": "text"
      },
      "source": [
        "<a href=\"https://colab.research.google.com/github/dbremont/Notas/blob/main/Papers/Computacion/Eraser%3A_A_Dynamic_Data_Race_Detector_for_Multithreaded_Programs.ipynb\" target=\"_parent\"><img src=\"https://colab.research.google.com/assets/colab-badge.svg\" alt=\"Open In Colab\"/></a>"
      ]
    },
    {
      "cell_type": "markdown",
      "metadata": {
        "id": "OvoLD-OIueSa"
      },
      "source": [
        "Multithreaded programming is difficult and error prone. It is easy to make a mistake in\n",
        "synchronization that produces a data race, yet it can be extremely hard to locate this mistake\n",
        "during debugging. This article describes a new tool, called Eraser, for dynamically detecting\n",
        "data races in lock-based multithreaded programs. Eraser uses binary rewriting techniques to\n",
        "monitor every shared-memory reference and verify that consistent locking behavior is observed. We present several case studies, including undergraduate coursework and a multithreaded Web search engine, that demonstrate the effectiveness of this approach."
      ]
    }
  ]
}