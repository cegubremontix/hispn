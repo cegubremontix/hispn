{
  "nbformat": 4,
  "nbformat_minor": 0,
  "metadata": {
    "colab": {
      "name": "Object Storage on CRAQ.ipynb",
      "provenance": [],
      "include_colab_link": true
    },
    "kernelspec": {
      "name": "python3",
      "display_name": "Python 3"
    },
    "language_info": {
      "name": "python"
    }
  },
  "cells": [
    {
      "cell_type": "markdown",
      "metadata": {
        "id": "view-in-github",
        "colab_type": "text"
      },
      "source": [
        "<a href=\"https://colab.research.google.com/github/dbremont/Notas/blob/main/Papers/Computacion/Object_Storage_on_CRAQ.ipynb\" target=\"_parent\"><img src=\"https://colab.research.google.com/assets/colab-badge.svg\" alt=\"Open In Colab\"/></a>"
      ]
    },
    {
      "cell_type": "markdown",
      "metadata": {
        "id": "Wk1f7jF_hQw2"
      },
      "source": [
        "Massive storage systems typically replicate and partition\n",
        "data over many potentially-faulty components to provide\n",
        "both reliability and scalability. Yet many commerciallydeployed systems, especially those designed for interactive use by customers, sacrifice stronger consistency\n",
        "properties in the desire for greater availability and higher\n",
        "throughput.\n",
        "\n",
        "This paper describes the design, implementation, and\n",
        "evaluation of CRAQ, a distributed object-storage system\n",
        "that challenges this inflexible tradeoff. Our basic approach, an improvement on Chain Replication, maintains\n",
        "strong consistency while greatly improving read throughput. By distributing load across all object replicas, CRAQ\n",
        "scales linearly with chain size without increasing consistency coordination. At the same time, it exposes noncommitted operations for weaker consistency guarantees\n",
        "when this suffices for some applications, which is especially useful under periods of high system churn. This\n",
        "paper explores additional design and implementation considerations for geo-replicated CRAQ storage across multiple datacenters to provide locality-optimized operations.\n",
        "We also discuss multi-object atomic updates and multicast\n",
        "optimizations for large-object updates."
      ]
    }
  ]
}