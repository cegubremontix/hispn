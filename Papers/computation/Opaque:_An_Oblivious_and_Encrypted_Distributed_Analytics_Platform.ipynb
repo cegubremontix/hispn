{
  "nbformat": 4,
  "nbformat_minor": 0,
  "metadata": {
    "colab": {
      "name": "Opaque: An Oblivious and Encrypted Distributed Analytics Platform.ipynb",
      "provenance": [],
      "include_colab_link": true
    },
    "kernelspec": {
      "name": "python3",
      "display_name": "Python 3"
    },
    "language_info": {
      "name": "python"
    }
  },
  "cells": [
    {
      "cell_type": "markdown",
      "metadata": {
        "id": "view-in-github",
        "colab_type": "text"
      },
      "source": [
        "<a href=\"https://colab.research.google.com/github/dbremont/Notas/blob/main/Papers/Computacion/Opaque%3A_An_Oblivious_and_Encrypted_Distributed_Analytics_Platform.ipynb\" target=\"_parent\"><img src=\"https://colab.research.google.com/assets/colab-badge.svg\" alt=\"Open In Colab\"/></a>"
      ]
    },
    {
      "cell_type": "markdown",
      "metadata": {
        "id": "atGmp8lZnkk5"
      },
      "source": [
        "Many systems run rich analytics on sensitive data in the\n",
        "cloud, but are prone to data breaches. Hardware enclaves\n",
        "promise data confidentiality and secure execution of ar-\n",
        "bitrary computation, yet still suffer from access pattern\n",
        "leakage. We propose Opaque, a distributed data analytics\n",
        "platform supporting a wide range of queries while provid-\n",
        "ing strong security guarantees. Opaque introduces new\n",
        "distributed oblivious relational operators that hide access\n",
        "patterns, and new query planning techniques to optimize\n",
        "these new operators. Opaque is implemented on Spark\n",
        "SQL with few changes to the underlying system. Opaque\n",
        "provides data encryption, authentication and computa-\n",
        "tion verification with a performance ranging from 52%\n",
        "faster to 3.3x slower as compared to vanilla Spark SQL;\n",
        "obliviousness comes with a 1.6–46x overhead. Opaque\n",
        "provides an improvement of three orders of magnitude\n",
        "over state-of-the-art oblivious protocols, and our query\n",
        "optimization techniques improve performance by 2–5x"
      ]
    }
  ]
}