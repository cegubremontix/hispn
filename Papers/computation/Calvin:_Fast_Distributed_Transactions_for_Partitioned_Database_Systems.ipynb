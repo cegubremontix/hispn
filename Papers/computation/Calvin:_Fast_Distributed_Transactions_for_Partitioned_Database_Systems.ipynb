{
  "nbformat": 4,
  "nbformat_minor": 0,
  "metadata": {
    "colab": {
      "name": "Calvin: Fast Distributed Transactions for Partitioned Database Systems.ipynb",
      "provenance": [],
      "include_colab_link": true
    },
    "kernelspec": {
      "name": "python3",
      "display_name": "Python 3"
    },
    "language_info": {
      "name": "python"
    }
  },
  "cells": [
    {
      "cell_type": "markdown",
      "metadata": {
        "id": "view-in-github",
        "colab_type": "text"
      },
      "source": [
        "<a href=\"https://colab.research.google.com/github/dbremont/Notas/blob/main/Papers/Computacion/Calvin%3A_Fast_Distributed_Transactions_for_Partitioned_Database_Systems.ipynb\" target=\"_parent\"><img src=\"https://colab.research.google.com/assets/colab-badge.svg\" alt=\"Open In Colab\"/></a>"
      ]
    },
    {
      "cell_type": "markdown",
      "metadata": {
        "id": "u4mjyNtlbQgf"
      },
      "source": [
        "Many distributed storage systems achieve high data access through-\n",
        "put via partitioning and replication, each system with its own ad-\n",
        "vantages and tradeoffs. In order to achieve high scalability, how-\n",
        "ever, today’s systems generally reduce transactional support, disal-\n",
        "lowing single transactions from spanning multiple partitions. Calvin\n",
        "is a practical transaction scheduling and data replication layer that\n",
        "uses a deterministic ordering guarantee to significantly reduce the\n",
        "normally prohibitive contention costs associated with distributed\n",
        "transactions. Unlike previous deterministic database system proto-\n",
        "types, Calvin supports disk-based storage, scales near-linearly on\n",
        "a cluster of commodity machines, and has no single point of fail- \n",
        "ure. By replicating transaction inputs rather than effects, Calvin is\n",
        "also able to support multiple consistency levels—including Paxos-\n",
        "based strong consistency across geographically distant replicas—at\n",
        "no cost to transactional throughput."
      ]
    }
  ]
}