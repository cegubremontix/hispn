{
  "nbformat": 4,
  "nbformat_minor": 0,
  "metadata": {
    "colab": {
      "name": "Replicated Data Consistency Explained Through Baseball.ipynb",
      "provenance": [],
      "include_colab_link": true
    },
    "kernelspec": {
      "name": "python3",
      "display_name": "Python 3"
    },
    "language_info": {
      "name": "python"
    }
  },
  "cells": [
    {
      "cell_type": "markdown",
      "metadata": {
        "id": "view-in-github",
        "colab_type": "text"
      },
      "source": [
        "<a href=\"https://colab.research.google.com/github/dbremont/Notas/blob/main/Papers/Computacion/Replicated_Data_Consistency_Explained_Through_Baseball.ipynb\" target=\"_parent\"><img src=\"https://colab.research.google.com/assets/colab-badge.svg\" alt=\"Open In Colab\"/></a>"
      ]
    },
    {
      "cell_type": "markdown",
      "metadata": {
        "id": "4qDvaWRUbbqJ"
      },
      "source": [
        "Some cloud storage services, like Windows Azure, replicate data while providing strong consistency to their \n",
        "clients while others, like Amazon, have chosen eventual consistency in order to obtain better performance and \n",
        "availability.  A broader class of consistency guarantees can, and perhaps should, be offered to clients that read \n",
        "shared data.  During a baseball game, for example, different participants (the scorekeeper, umpire, sportswriter, \n",
        "and so on) benefit from six different consistency guarantees when reading the current score.  Eventual \n",
        "consistency is insufficient for most of the participants, but strong consistency is not needed either.   "
      ]
    }
  ]
}