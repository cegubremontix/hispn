{
  "nbformat": 4,
  "nbformat_minor": 0,
  "metadata": {
    "colab": {
      "name": "SILT: A Memory-Efficient, High-Performance Key-Value Store.ipynb",
      "provenance": [],
      "include_colab_link": true
    },
    "kernelspec": {
      "name": "python3",
      "display_name": "Python 3"
    },
    "language_info": {
      "name": "python"
    }
  },
  "cells": [
    {
      "cell_type": "markdown",
      "metadata": {
        "id": "view-in-github",
        "colab_type": "text"
      },
      "source": [
        "<a href=\"https://colab.research.google.com/github/dbremont/Notas/blob/main/Papers/Computacion/SILT%3A_A_Memory-Efficient%2C_High-Performance_Key-Value_Store.ipynb\" target=\"_parent\"><img src=\"https://colab.research.google.com/assets/colab-badge.svg\" alt=\"Open In Colab\"/></a>"
      ]
    },
    {
      "cell_type": "markdown",
      "metadata": {
        "id": "I48_SxPNKan5"
      },
      "source": [
        "SILT (Small Index Large Table)\n",
        "\n",
        "key-value store system based on flash storage\n",
        "\n",
        "DRAM \n",
        "\n",
        "SILT combines new algorithmic and systems techniques to balance the use of memory, storage, and computation. \n",
        "\n",
        "three basic key-value stores each with a different emphasis on\n",
        "memory-efficiency and write-friendliness; \n",
        "\n",
        "synthesis of the basic key-value stores to build a SILT key-value store system; \n",
        "\n",
        "analytical model for tuning system parameters carefully to meet the\n",
        "needs of different workloads."
      ]
    }
  ]
}