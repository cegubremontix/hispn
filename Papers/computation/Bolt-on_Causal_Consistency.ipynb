{
  "nbformat": 4,
  "nbformat_minor": 0,
  "metadata": {
    "colab": {
      "name": "Bolt-on Causal Consistency.ipynb",
      "provenance": [],
      "include_colab_link": true
    },
    "kernelspec": {
      "name": "python3",
      "display_name": "Python 3"
    },
    "language_info": {
      "name": "python"
    }
  },
  "cells": [
    {
      "cell_type": "markdown",
      "metadata": {
        "id": "view-in-github",
        "colab_type": "text"
      },
      "source": [
        "<a href=\"https://colab.research.google.com/github/dbremont/Notas/blob/main/Papers/Computacion/Bolt-on_Causal_Consistency.ipynb\" target=\"_parent\"><img src=\"https://colab.research.google.com/assets/colab-badge.svg\" alt=\"Open In Colab\"/></a>"
      ]
    },
    {
      "cell_type": "markdown",
      "metadata": {
        "id": "WDJEjZ9Xytr5"
      },
      "source": [
        "We consider the problem of separating consistency-related safety\n",
        "properties from availability and durability in distributed data stores\n",
        "via the application of a “bolt-on” shim layer that upgrades the safety\n",
        "of an underlying general-purpose data store. This shim provides the\n",
        "same consistency guarantees atop a wide range of widely deployed\n",
        "but often inflexible stores. As causal consistency is one of the\n",
        "strongest consistency models that remain available during system\n",
        "partitions, we develop a shim layer that upgrades eventually consis-\n",
        "tent stores to provide convergent causal consistency. Accordingly,\n",
        "we leverage widely deployed eventually consistent infrastructure as\n",
        "a common substrate for providing causal guarantees. We describe\n",
        "algorithms and shim implementations that are suitable for a large\n",
        "class of application-level causality relationships and evaluate our\n",
        "techniques using an existing, production-ready data store and with\n",
        "real-world explicit causality relationships."
      ]
    }
  ]
}