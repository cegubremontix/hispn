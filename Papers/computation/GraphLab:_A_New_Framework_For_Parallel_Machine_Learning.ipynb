{
  "nbformat": 4,
  "nbformat_minor": 0,
  "metadata": {
    "colab": {
      "name": "GraphLab: A New Framework For Parallel Machine Learning.ipynb",
      "provenance": [],
      "include_colab_link": true
    },
    "kernelspec": {
      "name": "python3",
      "display_name": "Python 3"
    },
    "language_info": {
      "name": "python"
    }
  },
  "cells": [
    {
      "cell_type": "markdown",
      "metadata": {
        "id": "view-in-github",
        "colab_type": "text"
      },
      "source": [
        "<a href=\"https://colab.research.google.com/github/dbremont/Notas/blob/main/Papers/Computacion/GraphLab%3A_A_New_Framework_For_Parallel_Machine_Learning.ipynb\" target=\"_parent\"><img src=\"https://colab.research.google.com/assets/colab-badge.svg\" alt=\"Open In Colab\"/></a>"
      ]
    },
    {
      "cell_type": "markdown",
      "metadata": {
        "id": "dzHQw_Cpx24A"
      },
      "source": [
        "Designing and implementing efficient, provably\n",
        "correct parallel machine learning (ML) algorithms is challenging. Existing high-level parallel abstractions like MapReduce are insufficiently expressive while low-level tools like\n",
        "MPI and Pthreads leave ML experts repeatedly\n",
        "solving the same design challenges. By targeting common patterns in ML, we developed\n",
        "GraphLab, which improves upon abstractions\n",
        "like MapReduce by compactly expressing asynchronous iterative algorithms with sparse computational dependencies while ensuring data consistency and achieving a high degree of parallel\n",
        "performance. We demonstrate the expressiveness\n",
        "of the GraphLab framework by designing and\n",
        "implementing parallel versions of belief propagation, Gibbs sampling, Co-EM, Lasso and Compressed Sensing. We show that using GraphLab\n",
        "we can achieve excellent parallel performance on\n",
        "large scale real-world problems."
      ]
    }
  ]
}