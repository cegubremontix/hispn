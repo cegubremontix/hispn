{
  "nbformat": 4,
  "nbformat_minor": 0,
  "metadata": {
    "colab": {
      "name": "accept()able Strategies for Improving Web Server Performance.ipynb",
      "provenance": [],
      "include_colab_link": true
    },
    "kernelspec": {
      "name": "python3",
      "display_name": "Python 3"
    },
    "language_info": {
      "name": "python"
    }
  },
  "cells": [
    {
      "cell_type": "markdown",
      "metadata": {
        "id": "view-in-github",
        "colab_type": "text"
      },
      "source": [
        "<a href=\"https://colab.research.google.com/github/dbremont/Notas/blob/main/Papers/Computacion/accept_able_Strategies_for_Improving_Web_Server_Performance.ipynb\" target=\"_parent\"><img src=\"https://colab.research.google.com/assets/colab-badge.svg\" alt=\"Open In Colab\"/></a>"
      ]
    },
    {
      "cell_type": "markdown",
      "metadata": {
        "id": "cAsYeFLlUciG"
      },
      "source": [
        "This paper evalutes tecnhiques for improving the perfomac eof three architeccturally different web servers. \n",
        "\n",
        "We study startegies for effectively accepting incoming connection under condition of high loead.\n",
        "\n",
        "Our exprimental evaluation shows that the method used to accept new connection request can significantly impact server performace. By modifying reach server's accept strategy,  we improve the performace of the kernel-mode TUX server, the multi-threaded Knot server and the event-driven **$\\mu$server**. Under two different workloads, we improve the throughput of these servers by as much as 19%, - 36% for **Tux**, 0%-32% for **Knot**, and 39%-71% for $\\mu$server allow it to obtain performace that rivals an unmodifief Tux server."
      ]
    }
  ]
}