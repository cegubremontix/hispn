{
  "nbformat": 4,
  "nbformat_minor": 0,
  "metadata": {
    "colab": {
      "name": "Foreshadow: Extracting the Keys to the Intel SGX Kingdom with Transient Out-of-Order Execution.ipynb",
      "provenance": [],
      "include_colab_link": true
    },
    "kernelspec": {
      "name": "python3",
      "display_name": "Python 3"
    },
    "language_info": {
      "name": "python"
    }
  },
  "cells": [
    {
      "cell_type": "markdown",
      "metadata": {
        "id": "view-in-github",
        "colab_type": "text"
      },
      "source": [
        "<a href=\"https://colab.research.google.com/github/dbremont/Notas/blob/main/Papers/Computacion/Foreshadow%3A_Extracting_the_Keys_to_the_Intel_SGX_Kingdom_with_Transient_Out-of-Order_Execution.ipynb\" target=\"_parent\"><img src=\"https://colab.research.google.com/assets/colab-badge.svg\" alt=\"Open In Colab\"/></a>"
      ]
    },
    {
      "cell_type": "markdown",
      "metadata": {
        "id": "m72o68C0xsiQ"
      },
      "source": [
        "Trusted execution environments, and particularly the Software Guard eXtensions (SGX) included in recent Intel\n",
        "x86 processors, gained significant traction in recent years.\n",
        "A long track of research papers, and increasingly also realworld industry applications, take advantage of the strong\n",
        "hardware-enforced confidentiality and integrity guarantees provided by Intel SGX. Ultimately, enclaved execution holds the compelling potential of securely offloading\n",
        "sensitive computations to untrusted remote platforms."
      ]
    },
    {
      "cell_type": "markdown",
      "metadata": {
        "id": "AZFuW0LCxuRf"
      },
      "source": [
        "We present Foreshadow, a practical software-only microarchitectural attack that decisively dismantles the security objectives of current SGX implementations. Crucially, unlike previous SGX attacks, we do not make any\n",
        "assumptions on the victim enclave’s code and do not\n",
        "necessarily require kernel-level access. At its core, Foreshadow abuses a speculative execution bug in modern\n",
        "Intel processors, on top of which we develop a novel exploitation methodology to reliably leak plaintext enclave\n",
        "secrets from the CPU cache. We demonstrate our attacks\n",
        "by extracting full cryptographic keys from Intel’s vetted\n",
        "architectural enclaves, and validate their correctness by\n",
        "launching rogue production enclaves and forging arbitrary\n",
        "local and remote attestation responses. The extra"
      ]
    }
  ]
}