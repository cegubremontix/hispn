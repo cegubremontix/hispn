{
  "nbformat": 4,
  "nbformat_minor": 0,
  "metadata": {
    "colab": {
      "name": "SEDA: An Architecture for WellConditioned, Scalable Internet Services.ipynb",
      "provenance": [],
      "include_colab_link": true
    },
    "kernelspec": {
      "name": "python3",
      "display_name": "Python 3"
    },
    "language_info": {
      "name": "python"
    }
  },
  "cells": [
    {
      "cell_type": "markdown",
      "metadata": {
        "id": "view-in-github",
        "colab_type": "text"
      },
      "source": [
        "<a href=\"https://colab.research.google.com/github/dbremont/Notas/blob/main/Papers/Computacion/SEDA%3A_An_Architecture_for_WellConditioned%2C_Scalable_Internet_Services.ipynb\" target=\"_parent\"><img src=\"https://colab.research.google.com/assets/colab-badge.svg\" alt=\"Open In Colab\"/></a>"
      ]
    },
    {
      "cell_type": "markdown",
      "metadata": {
        "id": "sz8a9OTBLVAV"
      },
      "source": [
        "highly concurrent Internet services, which we call the staged event-driven architecture (SEDA). \n",
        "\n",
        "SEDA is intended to support massive concurrency demands and simplify the construction of well-conditioned services. \n",
        "\n",
        "In SEDA, applications consist of a network of event-driven stages connected by explicit queues. \n",
        "\n",
        "This architecture allows services to be well-conditioned to load, preventing\n",
        "resources from being overcommitted when demand exceeds service capacity. SEDA makes use of a set of dynamic resource controllers to keep stages within their operating regime despite large fluctuations in\n",
        "load. \n",
        "\n",
        "We describe several control mechanisms for automatic tuning and load conditioning, including thread pool sizing, event batching, and\n",
        "adaptive load shedding. We present the SEDA design and an implementation of an Internet services platform based on this architecture. \n",
        "\n",
        "We evaluate the use of SEDA through two applications: a high-performance\n",
        "HTTP server and a packet router for the Gnutella peer-to-peer file sharing network. These results show that SEDA applications exhibit higher\n",
        "performance than traditional service designs, and are robust to huge\n",
        "variations in load."
      ]
    }
  ]
}