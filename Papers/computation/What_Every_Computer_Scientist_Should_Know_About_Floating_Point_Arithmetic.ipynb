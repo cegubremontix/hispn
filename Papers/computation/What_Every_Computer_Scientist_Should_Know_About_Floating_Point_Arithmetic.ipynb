{
  "nbformat": 4,
  "nbformat_minor": 0,
  "metadata": {
    "colab": {
      "name": "What Every Computer Scientist Should Know About Floating-Point Arithmetic.ipynb",
      "provenance": [],
      "authorship_tag": "ABX9TyOlwPdK1kqXX07JJKWDmYxX",
      "include_colab_link": true
    },
    "kernelspec": {
      "name": "python3",
      "display_name": "Python 3"
    },
    "language_info": {
      "name": "python"
    }
  },
  "cells": [
    {
      "cell_type": "markdown",
      "metadata": {
        "id": "view-in-github",
        "colab_type": "text"
      },
      "source": [
        "<a href=\"https://colab.research.google.com/github/dbremont/Notas/blob/main/Papers/Computacion/What_Every_Computer_Scientist_Should_Know_About_Floating_Point_Arithmetic.ipynb\" target=\"_parent\"><img src=\"https://colab.research.google.com/assets/colab-badge.svg\" alt=\"Open In Colab\"/></a>"
      ]
    },
    {
      "cell_type": "markdown",
      "source": [
        "[What Every Computer Scientist Should Know About Floating-Point Arithmetic](https://docs.oracle.com/cd/E19957-01/806-3568/ncg_goldberg.html#680)\n",
        "\n",
        "[What Every Programmer Should Know About Floating-Point Arithmetic](https://floating-point-gui.de/)"
      ],
      "metadata": {
        "id": "gv-C86PLYaHi"
      }
    }
  ]
}