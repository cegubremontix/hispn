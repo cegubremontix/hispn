{
  "nbformat": 4,
  "nbformat_minor": 0,
  "metadata": {
    "colab": {
      "name": "GFS: Evolution on Fast-Forward.ipynb",
      "provenance": [],
      "include_colab_link": true
    },
    "kernelspec": {
      "name": "python3",
      "display_name": "Python 3"
    },
    "language_info": {
      "name": "python"
    }
  },
  "cells": [
    {
      "cell_type": "markdown",
      "metadata": {
        "id": "view-in-github",
        "colab_type": "text"
      },
      "source": [
        "<a href=\"https://colab.research.google.com/github/dbremont/Notas/blob/main/Papers/Computacion/GFS%3A_Evolution_on_Fast-Forward.ipynb\" target=\"_parent\"><img src=\"https://colab.research.google.com/assets/colab-badge.svg\" alt=\"Open In Colab\"/></a>"
      ]
    },
    {
      "cell_type": "markdown",
      "metadata": {
        "id": "7SKmb2KdXGsn"
      },
      "source": [
        "During the early stages of development at Google, the initial thinking did not include plans for\n",
        "building a new file system. While work was still being done on one of the earliest versions of the\n",
        "company’s crawl and indexing system, however, it became quite clear to the core engineers that they\n",
        "really had no other choice, and GFS (Google File System) was born.\n",
        "First, given that Google’s goal was to build a vast storage network out of inexpensive commodity\n",
        "hardware, it had to be assumed that component failures would be the norm—meaning that\n",
        "constant monitoring, error detection, fault tolerance, and automatic recovery would have to be an\n",
        "integral part of the file system. Also, even by Google’s earliest estimates, the system’s throughput\n",
        "requirements were going to be daunting by anybody’s standards—featuring multi-gigabyte files and\n",
        "data sets containing terabytes of information and millions of objects. Clearly, this meant traditional\n",
        "assumptions about I/O operations and block sizes would have to be revisited. There was also the\n",
        "matter of scalability. This was a file system that would surely need to scale like no other. Of course,\n",
        "back in those earliest days, no one could have possibly imagined just how much scalability would be\n",
        "required. They would learn about that soon enough.\n",
        "Still, nearly a decade later, most of Google’s mind-boggling store of data and its ever-growing array\n",
        "of applications continue to rely upon GFS. Many adjustments have been made to the file system\n",
        "along the way, and—together with a fair number of accommodations implemented within the\n",
        "applications that use GFS—they have made the journey possible.\n",
        "To explore the reasoning behind a few of the more crucial initial design decisions as well as some\n",
        "of the incremental adaptations that have been made since then, ACM asked Sean Quinlan to pull\n",
        "back the covers on the changing file-system requirements and the evolving thinking at Google.\n",
        "Since Quinlan served as the GFS tech leader for a couple of years and continues now as a principal\n",
        "engineer at Google, he’s in a good position to offer that perspective. As a grounding point beyond\n",
        "the Googleplex, ACM asked Kirk McKusick to lead the discussion. He is best known for his work on\n",
        "BSD (Berkeley Software Distribution) Unix, including the original design of the Berkeley FFS (Fast\n",
        "File System).\n",
        "The discussion starts, appropriately enough, at the beginning—with the unorthodox decision\n",
        "to base the initial GFS implementation on a single-master design. At first blush, the risk of a single\n",
        "centralized master becoming a bandwidth bottleneck—or, worse, a single point of failure—seems\n",
        "fairly obvious, but it turns out Google’s engineers had their reasons for making this choice."
      ]
    }
  ]
}