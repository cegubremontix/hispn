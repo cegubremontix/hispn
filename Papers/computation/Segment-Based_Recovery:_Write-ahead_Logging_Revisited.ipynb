{
  "nbformat": 4,
  "nbformat_minor": 0,
  "metadata": {
    "colab": {
      "name": "Segment-Based Recovery: Write-ahead Logging Revisited.ipynb",
      "provenance": [],
      "include_colab_link": true
    },
    "kernelspec": {
      "name": "python3",
      "display_name": "Python 3"
    },
    "language_info": {
      "name": "python"
    }
  },
  "cells": [
    {
      "cell_type": "markdown",
      "metadata": {
        "id": "view-in-github",
        "colab_type": "text"
      },
      "source": [
        "<a href=\"https://colab.research.google.com/github/dbremont/Notas/blob/main/Papers/Computacion/Segment-Based_Recovery%3A_Write-ahead_Logging_Revisited.ipynb\" target=\"_parent\"><img src=\"https://colab.research.google.com/assets/colab-badge.svg\" alt=\"Open In Colab\"/></a>"
      ]
    },
    {
      "cell_type": "markdown",
      "metadata": {
        "id": "F8cbp53bT9HF"
      },
      "source": [
        "Although existing write-ahead logging algorithms scale to\n",
        "conventional database workloads, their communication and\n",
        "synchronization overheads limit their usefulness for modern\n",
        "applications and distributed systems. We revisit write-ahead\n",
        "logging with an eye toward finer-grained concurrency and an\n",
        "increased range of workloads, then remove two core assump-\n",
        "tions: that pages are the unit of recovery and that times-\n",
        "tamps (LSNs) should be stored on each page.\n",
        "Recovering individual application-level objects (rather than\n",
        "pages) simplifies the handing of systems with object sizes that\n",
        "differ from the page size.\n",
        "We show how to remove the need for LSNs on the page,\n",
        "which in turn enables DMA or zero-copy I/O for large ob-\n",
        "jects, increases concurrency, and reduces communication be-\n",
        "tween the application, buffer manager and log manager. Our\n",
        "experiments show that the looser coupling significantly re-\n",
        "duces the impact of latency among the components. This\n",
        "makes the approach particularly applicable to large scale dis-\n",
        "tributed systems, and enables a “cross pollination” of ideas\n",
        "from distributed systems and transactional storage.\n",
        "However, these advantages come at a cost; segments are\n",
        "incompatible with physiological redo, preventing a number\n",
        "of important optimizations. We show how allocation en-\n",
        "ables (or prevents) mixing of ARIES pages (and physiologi-\n",
        "cal redo) with segments. We present an allocation policy that\n",
        "avoids undesirable interactions that complicate other combi-\n",
        "nations of ARIES and LSN-free pages, and then present a\n",
        "proof that both approaches and our combination are correct.\n",
        "Many optimizations presented here were proposed in the\n",
        "past. However, we believe this is the first unified approach"
      ]
    }
  ]
}