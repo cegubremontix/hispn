{
  "nbformat": 4,
  "nbformat_minor": 0,
  "metadata": {
    "colab": {
      "name": "Will Carbon Nanotube Memory Replace DRAM?.ipynb",
      "provenance": [],
      "include_colab_link": true
    },
    "kernelspec": {
      "name": "python3",
      "display_name": "Python 3"
    },
    "language_info": {
      "name": "python"
    }
  },
  "cells": [
    {
      "cell_type": "markdown",
      "metadata": {
        "id": "view-in-github",
        "colab_type": "text"
      },
      "source": [
        "<a href=\"https://colab.research.google.com/github/dbremont/Notas/blob/main/Papers/Computacion/Will_Carbon_Nanotube_Memory_Replace_DRAM.ipynb\" target=\"_parent\"><img src=\"https://colab.research.google.com/assets/colab-badge.svg\" alt=\"Open In Colab\"/></a>"
      ]
    },
    {
      "cell_type": "markdown",
      "metadata": {
        "id": "jr6bMmx8Xl9q"
      },
      "source": [
        "In this paper, we discuss an exciting memory technology made from carbon\n",
        "nanotubes. Carbon nanotubes provide a predictable resistive element that can be used to\n",
        "fabricate very dense and very fast-switching memory cells. Nantero NRAM employs\n",
        "electrostatic forces to connect and disconnect these nanotubes in a memory design\n",
        "notably impervious to external effects including heat, shock and vibration, magnetism,\n",
        "and radiation. NRAM maintains its state permanently and may be rewritten arbitrarily\n",
        "many times without degrading. Not only NRAM is well positioned to replace DRAM in\n",
        "existing applications, but also its combination of high speed, persistence, density, and\n",
        "low power enables a slew of exciting new applications. Production of NRAM devices is on\n",
        "track for near-term commercialization through Nantero licensees."
      ]
    }
  ]
}