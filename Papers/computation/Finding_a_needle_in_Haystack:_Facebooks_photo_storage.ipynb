{
  "nbformat": 4,
  "nbformat_minor": 0,
  "metadata": {
    "colab": {
      "name": "Finding a needle in Haystack: Facebooks photo storage.ipynb",
      "provenance": [],
      "include_colab_link": true
    },
    "kernelspec": {
      "name": "python3",
      "display_name": "Python 3"
    },
    "language_info": {
      "name": "python"
    }
  },
  "cells": [
    {
      "cell_type": "markdown",
      "metadata": {
        "id": "view-in-github",
        "colab_type": "text"
      },
      "source": [
        "<a href=\"https://colab.research.google.com/github/dbremont/Notas/blob/main/Papers/Computacion/Finding_a_needle_in_Haystack%3A_Facebooks_photo_storage.ipynb\" target=\"_parent\"><img src=\"https://colab.research.google.com/assets/colab-badge.svg\" alt=\"Open In Colab\"/></a>"
      ]
    },
    {
      "cell_type": "markdown",
      "metadata": {
        "id": "spaoDsavlMCY"
      },
      "source": [
        "Abstract: This paper describes Haystack, an object stor-\n",
        "age system optimized for Facebook’s Photos applica-\n",
        "tion. Facebook currently stores over 260 billion images,\n",
        "which translates to over 20 petabytes of data. Users up-\n",
        "load one billion new photos (∼60 terabytes) each week\n",
        "and Facebook serves over one million images per sec-\n",
        "ond at peak. Haystack provides a less expensive and\n",
        "higher performing solution than our previous approach,\n",
        "which leveraged network attached storage appliances\n",
        "over NFS. Our key observation is that this traditional\n",
        "design incurs an excessive number of disk operations\n",
        "because of metadata lookups. We carefully reduce this\n",
        "per photo metadata so that Haystack storage machines\n",
        "can perform all metadata lookups in main memory. This\n",
        "choice conserves disk operations for reading actual data\n",
        "and thus increases overall throughput."
      ]
    }
  ]
}