{
  "nbformat": 4,
  "nbformat_minor": 0,
  "metadata": {
    "colab": {
      "name": "The Design and Implementation of Modern Column-Oriented Database Systems.ipynb",
      "provenance": [],
      "include_colab_link": true
    },
    "kernelspec": {
      "name": "python3",
      "display_name": "Python 3"
    },
    "language_info": {
      "name": "python"
    }
  },
  "cells": [
    {
      "cell_type": "markdown",
      "metadata": {
        "id": "view-in-github",
        "colab_type": "text"
      },
      "source": [
        "<a href=\"https://colab.research.google.com/github/dbremont/Notas/blob/main/Papers/Computacion/The_Design_and_Implementation_of_Modern_Column-Oriented_Database_Systems.ipynb\" target=\"_parent\"><img src=\"https://colab.research.google.com/assets/colab-badge.svg\" alt=\"Open In Colab\"/></a>"
      ]
    },
    {
      "cell_type": "markdown",
      "metadata": {
        "id": "IhXgHm_6hNcU"
      },
      "source": [
        "In this article, we survey recent research on column-oriented database\n",
        "systems, or column-stores, where each attribute of a table is stored in\n",
        "a separate file or region on storage. Such databases have seen a resurgence in recent years with a rise in interest in analytic queries that\n",
        "perform scans and aggregates over large portions of a few columns of a\n",
        "table. The main advantage of a column-store is that it can access just\n",
        "the columns needed to answer such queries. We specifically focus on\n",
        "three influential research prototypes, MonetDB [46], VectorWise [18],\n",
        "and C-Store [88]. These systems have formed the basis for several wellknown commercial column-store implementations. We describe their\n",
        "similarities and dierences and discuss their specific architectural features for compression, late materialization, join processing, vectorization and adaptive indexing (database cracking)."
      ]
    }
  ]
}