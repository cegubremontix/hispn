{
  "nbformat": 4,
  "nbformat_minor": 0,
  "metadata": {
    "colab": {
      "name": "DNS Performance and Effectiveness of Caching.ipynb",
      "provenance": [],
      "include_colab_link": true
    },
    "kernelspec": {
      "name": "python3",
      "display_name": "Python 3"
    },
    "language_info": {
      "name": "python"
    }
  },
  "cells": [
    {
      "cell_type": "markdown",
      "metadata": {
        "id": "view-in-github",
        "colab_type": "text"
      },
      "source": [
        "<a href=\"https://colab.research.google.com/github/dbremont/Notas/blob/main/Papers/Computacion/DNS_Performance_and_Effectiveness_of_Caching.ipynb\" target=\"_parent\"><img src=\"https://colab.research.google.com/assets/colab-badge.svg\" alt=\"Open In Colab\"/></a>"
      ]
    },
    {
      "cell_type": "markdown",
      "metadata": {
        "id": "sScZlFmwNBIk"
      },
      "source": [
        "detailed analysis of traces of DNS and associated TCP traffic collected on the Internet links of the MIT Laboratory for Computer Science and the Korea Advanced Institute of Science and Technology (KAIST). \n",
        "\n",
        "The first part of the analysis details how clients at these institutions interact with the wide-area domain name system, focusing on client-perceived performance and the prevalence of failures and errors.\n",
        "\n",
        "The second part evaluates the effectiveness of DNS caching.\n",
        "In the most recent MIT trace, 23% of lookups receive no answer; these\n",
        "lookups account for more than half of all traced DNS packets since query\n",
        "packets are retransmitted overly persistently. About 13% of all lookups result in an answer that indicates an error condition. Many of these errors appear to be caused by missing inverse (IP-to-name) mappings or NS records\n",
        "that point to non-existent or inappropriate hosts. 27% of the queries sent\n",
        "to the root name servers result in such errors.\n",
        "\n",
        "The paper also presents the results of trace-driven simulations that explore the effect of varying TTLs and varying degrees of cache sharing on\n",
        "DNS cache hit rates. Due to the heavy-tailed nature of name accesses, reducing the TTLs of address (A) records to as low as a few hundred seconds\n",
        "has little adverse effect on hit rates, and little benefit is obtained from sharing a forwarding DNS cache among more than 10 or 20 clients. These results suggest that client latency is not as dependent on aggressive caching as\n",
        "is commonly believed, and that the widespread use of dynamic, low-TTL Arecord bindings should not greatly increase DNS related wide-area network\n",
        "traffic."
      ]
    }
  ]
}