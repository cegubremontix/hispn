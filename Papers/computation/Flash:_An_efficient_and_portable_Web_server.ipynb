{
  "nbformat": 4,
  "nbformat_minor": 0,
  "metadata": {
    "colab": {
      "name": "Flash: An efficient and portable Web server.ipynb",
      "provenance": [],
      "include_colab_link": true
    },
    "kernelspec": {
      "name": "python3",
      "display_name": "Python 3"
    },
    "language_info": {
      "name": "python"
    }
  },
  "cells": [
    {
      "cell_type": "markdown",
      "metadata": {
        "id": "view-in-github",
        "colab_type": "text"
      },
      "source": [
        "<a href=\"https://colab.research.google.com/github/dbremont/Notas/blob/main/Papers/Computacion/Flash%3A_An_efficient_and_portable_Web_server.ipynb\" target=\"_parent\"><img src=\"https://colab.research.google.com/assets/colab-badge.svg\" alt=\"Open In Colab\"/></a>"
      ]
    },
    {
      "cell_type": "markdown",
      "metadata": {
        "id": "2hOwKVVZssiG"
      },
      "source": [
        "This paper presents the design of a new Web server\n",
        "architecture called the asymmetric multi-process event-\n",
        "driven (AMPED) architecture, and evaluates the perfor-\n",
        "\n",
        "mance of an implementation of this architecture, the\n",
        "\n",
        "Flash Web server. The Flash Web server combines the\n",
        "\n",
        "high performance of single-process event-driven servers\n",
        "on cached workloads with the performance of multi-\n",
        "process and multi-threaded servers on disk-bound work-\n",
        "\n",
        "loads. Furthermore, the Flash Web server is easily\n",
        "\n",
        "portable since it achieves these results using facilities\n",
        "\n",
        "available in all modern operating systems.\n",
        "The performance of different Web server architec-\n",
        "tures is evaluated in the context of a single implemen-\n",
        "\n",
        "tation in order to quantify the impact of a server’s con-\n",
        "\n",
        "currency architecture on its performance. Furthermore,\n",
        "\n",
        "the performance of Flash is compared with two widely-\n",
        "\n",
        "used Web servers, Apache and Zeus. Results indicate\n",
        "that Flash can match or exceed the performance of exist-\n",
        "ing Web servers by up to 50% across a wide range of real\n",
        "\n",
        "workloads. We also present results that show the contri-\n",
        "\n",
        "bution of various optimizations embedded in Flash."
      ]
    }
  ]
}