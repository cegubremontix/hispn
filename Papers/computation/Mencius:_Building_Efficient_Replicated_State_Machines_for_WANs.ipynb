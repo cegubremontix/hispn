{
  "nbformat": 4,
  "nbformat_minor": 0,
  "metadata": {
    "colab": {
      "name": "Mencius: Building Efficient Replicated State Machines for WANs.ipynb",
      "provenance": [],
      "include_colab_link": true
    },
    "kernelspec": {
      "name": "python3",
      "display_name": "Python 3"
    },
    "language_info": {
      "name": "python"
    }
  },
  "cells": [
    {
      "cell_type": "markdown",
      "metadata": {
        "id": "view-in-github",
        "colab_type": "text"
      },
      "source": [
        "<a href=\"https://colab.research.google.com/github/dbremont/Notas/blob/main/Papers/Computacion/Mencius%3A_Building_Efficient_Replicated_State_Machines_for_WANs.ipynb\" target=\"_parent\"><img src=\"https://colab.research.google.com/assets/colab-badge.svg\" alt=\"Open In Colab\"/></a>"
      ]
    },
    {
      "cell_type": "markdown",
      "metadata": {
        "id": "0Y1ei9Ocmwq1"
      },
      "source": [
        "We present a protocol for general state machine repli-\n",
        "cation – a method that provides strong consistency – that\n",
        "has high performance in a wide-area network. In particu-\n",
        "lar, our protocol Mencius has high throughput under high\n",
        "client load and low latency under low client load even un-\n",
        "der changing wide-area network environment and client\n",
        "load. We develop our protocol as a derivation from the\n",
        "well-known protocol Paxos. Such a development can be\n",
        "changed or further refined to take advantage of specific\n",
        "network or application requirements."
      ]
    }
  ]
}