{
  "nbformat": 4,
  "nbformat_minor": 0,
  "metadata": {
    "colab": {
      "name": "Aggregation and Degradation in JetStream: Streaming Analytics in the Wide Area.ipynb",
      "provenance": [],
      "include_colab_link": true
    },
    "kernelspec": {
      "name": "python3",
      "display_name": "Python 3"
    },
    "language_info": {
      "name": "python"
    }
  },
  "cells": [
    {
      "cell_type": "markdown",
      "metadata": {
        "id": "view-in-github",
        "colab_type": "text"
      },
      "source": [
        "<a href=\"https://colab.research.google.com/github/dbremont/Notas/blob/main/Papers/Computacion/Aggregation_and_Degradation_in_JetStream%3A_Streaming_Analytics_in_the_Wide_Area.ipynb\" target=\"_parent\"><img src=\"https://colab.research.google.com/assets/colab-badge.svg\" alt=\"Open In Colab\"/></a>"
      ]
    },
    {
      "cell_type": "markdown",
      "metadata": {
        "id": "7ou8mwVHhPT7"
      },
      "source": [
        "We present JetStream, a system that allows real-time\n",
        "analysis of large, widely-distributed changing data sets.\n",
        "Traditional approaches to distributed analytics require\n",
        "users to specify in advance which data is to be backhauled\n",
        "to a central location for analysis. This is a poor match\n",
        "for domains where available bandwidth is scarce and it is\n",
        "infeasible to collect all potentially useful data.\n",
        "\n",
        "JetStream addresses bandwidth limits in two ways, both\n",
        "of which are explicit in the programming model. The system incorporates structured storage in the form of OLAP\n",
        "data cubes, so data can be stored for analysis near where\n",
        "it is generated. Using cubes, queries can aggregate data\n",
        "in ways and locations of their choosing. The system also\n",
        "includes adaptive filtering and other transformations that\n",
        "adjusts data quality to match available bandwidth. Many\n",
        "bandwidth-saving transformations are possible; we discuss which are appropriate for which data and how they\n",
        "can best be combined.\n",
        "\n",
        "We implemented a range of analytic queries on web\n",
        "request logs and image data. Queries could be expressed\n",
        "in a few lines of code. Using structured storage on source\n",
        "nodes conserved network bandwidth by allowing data\n",
        "to be collected only when needed to fulfill queries. Our\n",
        "adaptive control mechanisms are responsive enough to\n",
        "keep end-to-end latency within a few seconds, even when\n",
        "available bandwidth drops by a factor of two, and are\n",
        "flexible enough to express practical policies."
      ]
    }
  ]
}