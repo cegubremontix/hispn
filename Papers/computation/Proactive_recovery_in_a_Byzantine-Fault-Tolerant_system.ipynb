{
  "nbformat": 4,
  "nbformat_minor": 0,
  "metadata": {
    "colab": {
      "name": "Proactive recovery in a Byzantine-Fault-Tolerant system.ipynb",
      "provenance": [],
      "include_colab_link": true
    },
    "kernelspec": {
      "name": "python3",
      "display_name": "Python 3"
    },
    "language_info": {
      "name": "python"
    }
  },
  "cells": [
    {
      "cell_type": "markdown",
      "metadata": {
        "id": "view-in-github",
        "colab_type": "text"
      },
      "source": [
        "<a href=\"https://colab.research.google.com/github/dbremont/Notas/blob/main/Papers/Computacion/Proactive_recovery_in_a_Byzantine-Fault-Tolerant_system.ipynb\" target=\"_parent\"><img src=\"https://colab.research.google.com/assets/colab-badge.svg\" alt=\"Open In Colab\"/></a>"
      ]
    },
    {
      "cell_type": "markdown",
      "metadata": {
        "id": "YWPey7B-bWr_"
      },
      "source": [
        "This paper describes an asynchronous state-machine replication\n",
        "system that tolerates Byzantine faults, which can be caused\n",
        "by malicious attacks or software errors. Our system is the\n",
        "first to recover Byzantine-faulty replicas proactively and it\n",
        "performs well because it uses symmetric rather than public-\n",
        "key cryptography for authentication. The recovery mechanism\n",
        "allows us to tolerate any number of faults over the lifetime of\n",
        "the system provided fewer than 1 3 of the replicas become\n",
        "faulty within a window of vulnerability that is small under\n",
        "normal conditions. The window may increase under a denial-\n",
        "of-service attack but we can detect and respond to such\n",
        "attacks. The paper presents results of experiments showing\n",
        "that overall performance is good and that even a small window\n",
        "of vulnerability has little impact on service latency."
      ]
    }
  ]
}