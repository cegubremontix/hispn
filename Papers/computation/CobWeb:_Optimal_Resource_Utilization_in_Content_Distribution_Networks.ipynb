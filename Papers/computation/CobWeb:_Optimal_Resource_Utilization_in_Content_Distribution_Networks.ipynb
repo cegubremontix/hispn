{
  "nbformat": 4,
  "nbformat_minor": 0,
  "metadata": {
    "colab": {
      "name": "CobWeb: Optimal Resource Utilization in Content Distribution Networks.ipynb",
      "provenance": [],
      "include_colab_link": true
    },
    "kernelspec": {
      "name": "python3",
      "display_name": "Python 3"
    },
    "language_info": {
      "name": "python"
    }
  },
  "cells": [
    {
      "cell_type": "markdown",
      "metadata": {
        "id": "view-in-github",
        "colab_type": "text"
      },
      "source": [
        "<a href=\"https://colab.research.google.com/github/dbremont/Notas/blob/main/Papers/Computacion/CobWeb%3A_Optimal_Resource_Utilization_in_Content_Distribution_Networks.ipynb\" target=\"_parent\"><img src=\"https://colab.research.google.com/assets/colab-badge.svg\" alt=\"Open In Colab\"/></a>"
      ]
    },
    {
      "cell_type": "markdown",
      "metadata": {
        "id": "HicFA00dgZGJ"
      },
      "source": [
        "his paper examines replication in content distribution\n",
        "networks and proposes a novel mechanism for optimally\n",
        "resolving performance versus cost tradeoffs. The key in-\n",
        "sight behind our work is to formally and analytically\n",
        "capture the relationship between performance, bandwidth\n",
        "overhead and storage requirements for a web cache, ex-\n",
        "press the system goals as a mathematical optimization\n",
        "problem, and solve for the optimal extent of replica-\n",
        "tion that achieves the desired system goals with mini-\n",
        "mal overhead. We describe the design and implemen-\n",
        "tation of a new content distribution network based on\n",
        "this concept, called CobWeb. CobWeb can achieve a tar-\n",
        "get lookup latency while minimizing network and storage\n",
        "overhead, minimize access time while keeping bandwidth\n",
        "usage below a set limit, and alleviate “flash crowd” ef-\n",
        "fects by rapidly replicating popular objects through fast\n",
        "and highly adaptive replica management. We outline the\n",
        "architecture of the CobWeb system, describe its novel op-\n",
        "timization algorithm for intelligent resource allocation,\n",
        "and compare, through simulations and a physical deploy-\n",
        "ment on PlanetLab, CobWeb’s informed, analysis-driven\n",
        "replication strategy to existing approaches based on pas-\n",
        "sive caching and heuristics.\n",
        "1 Introduction\n",
        "Caching can significantly improve user perceived laten-\n",
        "cies as well as reduce the amount of aggregate network\n",
        "traffic. The popularity of the web makes caching a nat-\n",
        "ural place to apply caching techniques to improve client\n",
        "performance, reduce server load, and minimize network\n",
        "traffic. Web caches to date have been deployed in two dif-\n",
        "ferent settings, one driven by clients and one by content\n",
        "providers.\n",
        "Web caches that are placed close to the clients are com-\n",
        "monly known as proxy caches. Such demand-side caches\n",
        "exploit temporal locality within the clickstream of a single\n",
        "user as well as spatial locality stemming from the com-\n",
        "mon interests of independent users. Proxy caches depend\n",
        "on passive monitoring and opportunistic caching, where\n",
        "each proxy only caches objects that have been requested\n",
        "by a client that is directly connected to it. Passive oppor-\n",
        "tunistic caching severely limits potential benefits because\n",
        "web traffic is well-known to follow a Zipf distribution,\n",
        "with a heavy tail [3, 7, 1]. Since the heavy tail of the dis-\n",
        "tribution limits spatial locality, past work has examined\n",
        "cooperative web caching, aimed at aggregating the cache\n",
        "contents of multiple web proxies to obtain greater caching\n",
        "benefits. Cooperative caching schemes that have been\n",
        "proposed include hierarchical [6, 30], hash-based [16, 24],\n",
        "directory based [9, 20, 28], and multi-cast schemes [21].\n",
        "Yet past work on cooperative caching has examined only\n",
        "passive mechanisms for cache control, and an interesting\n",
        "negative result has demonstrated that cooperative caching\n",
        "provides performance benefits only within limited popu-\n",
        "lation bounds [31]. The large heavy-tail of the popularity\n",
        "distribution, combined with purely passive measures for\n",
        "cache control, makes it difficult to achieve high cache hit\n",
        "ratios.\n",
        "Web caches can also be placed within the network to\n",
        "aid content distribution. In particular, companies such\n",
        "as Akamai provide content distribution services to web\n",
        "site operators by placing servers in strategic locations to\n",
        "cache and replicate content. Such networks of servers\n",
        "are commonly known as content distribution networks\n",
        "(CDNs), and are driven by content providers rather than\n",
        "content consumers. In contrast to the demand-driven na-\n"
      ]
    }
  ]
}