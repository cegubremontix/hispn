{
  "nbformat": 4,
  "nbformat_minor": 0,
  "metadata": {
    "colab": {
      "name": "Dynamo: Amazons Highly Available Key-value Store.ipynb",
      "provenance": [],
      "include_colab_link": true
    },
    "kernelspec": {
      "name": "python3",
      "display_name": "Python 3"
    },
    "language_info": {
      "name": "python"
    }
  },
  "cells": [
    {
      "cell_type": "markdown",
      "metadata": {
        "id": "view-in-github",
        "colab_type": "text"
      },
      "source": [
        "<a href=\"https://colab.research.google.com/github/dbremont/Notas/blob/main/Papers/Computacion/Dynamo%3A_Amazons_Highly_Available_Key-value_Store.ipynb\" target=\"_parent\"><img src=\"https://colab.research.google.com/assets/colab-badge.svg\" alt=\"Open In Colab\"/></a>"
      ]
    },
    {
      "cell_type": "markdown",
      "metadata": {
        "id": "iFe6vJmmS6KE"
      },
      "source": [
        "Reliability  at  massive  scale  is  one  of  the  biggest  challenges  we  \n",
        "face at Amazon.com, one of the largest e-commerce operations in \n",
        "the world; even the slightest outage has significant financial \n",
        "consequences and impacts customer trust. The Amazon.com \n",
        "platform, which provides services for many web sites worldwide, \n",
        "is implemented on top of an infrastructure of tens of thousands of \n",
        "servers  and  network  components  located  in  many  datacenters  \n",
        "around  the  world.  At  this  scale,  small  and  large  components  fail  \n",
        "continuously  and  the  way  persistent  state  is  managed  in  the  face  \n",
        "of these failures drives the reliability and scalability of the \n",
        "software systems. \n",
        "\n",
        "\n",
        "This paper presents the design and implementation of Dynamo, a \n",
        "highly available key-value storage system that some of Amazon’s \n",
        "core  services  use  to  provide  an  “always-on”  experience.    To  \n",
        "achieve  this  level  of  availability,  Dynamo  sacrifices  consistency  \n",
        "under  certain  failure  scenarios.  It  makes  extensive  use  of  object  \n",
        "versioning and application-assisted conflict resolution in a manner \n",
        "that provides a novel interface for developers to use.\n"
      ]
    }
  ]
}