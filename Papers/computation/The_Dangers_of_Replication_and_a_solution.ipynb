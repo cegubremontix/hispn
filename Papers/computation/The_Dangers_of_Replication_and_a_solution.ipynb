{
  "nbformat": 4,
  "nbformat_minor": 0,
  "metadata": {
    "colab": {
      "name": "The Dangers of Replication and a solution.ipynb",
      "provenance": [],
      "include_colab_link": true
    },
    "kernelspec": {
      "name": "python3",
      "display_name": "Python 3"
    },
    "language_info": {
      "name": "python"
    }
  },
  "cells": [
    {
      "cell_type": "markdown",
      "metadata": {
        "id": "view-in-github",
        "colab_type": "text"
      },
      "source": [
        "<a href=\"https://colab.research.google.com/github/dbremont/Notas/blob/main/Papers/Computacion/Dangers_of_Replication_and_a_solution.ipynb\" target=\"_parent\"><img src=\"https://colab.research.google.com/assets/colab-badge.svg\" alt=\"Open In Colab\"/></a>"
      ]
    },
    {
      "cell_type": "markdown",
      "metadata": {
        "id": "Ea8S2X_CUOuY"
      },
      "source": [
        "Update anywhere-anytime-anyway transactional\n",
        "replication has unstable behavior as the workload scales up:\n",
        "a ten-fold increase in nodes and traffic gives a thousand fold\n",
        "increase in deadlocks or reconciliations. Master copy replication (primary copy) schemes reduce this problem. A simple\n",
        "analytic model demonstrates these results. A new two-tier\n",
        "replication algorithm is proposed that allows mobile (disconnected) applications to propose tentative update transactions\n",
        "that are later applied to a master copy. Commutative update\n",
        "transactions avoid the instability of other replication\n",
        "schemes."
      ]
    }
  ]
}
