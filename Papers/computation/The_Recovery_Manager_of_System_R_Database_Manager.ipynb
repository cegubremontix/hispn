{
  "nbformat": 4,
  "nbformat_minor": 0,
  "metadata": {
    "colab": {
      "name": "The Recovery Manager of System R Database Manager.ipynb",
      "provenance": [],
      "include_colab_link": true
    },
    "kernelspec": {
      "name": "python3",
      "display_name": "Python 3"
    },
    "language_info": {
      "name": "python"
    }
  },
  "cells": [
    {
      "cell_type": "markdown",
      "metadata": {
        "id": "view-in-github",
        "colab_type": "text"
      },
      "source": [
        "<a href=\"https://colab.research.google.com/github/dbremont/Notas/blob/main/Papers/Computacion/The_Recovery_Manager_of_System_R_Database_Manager.ipynb\" target=\"_parent\"><img src=\"https://colab.research.google.com/assets/colab-badge.svg\" alt=\"Open In Colab\"/></a>"
      ]
    },
    {
      "cell_type": "markdown",
      "metadata": {
        "id": "k7T_UrmruuB3"
      },
      "source": [
        "The recovery subsystem of an experimental data management system is described an evaluated.\n",
        "\n",
        "The transaction concept allows applicatio nprograms to comit, abort, or partialy undo their effects. The DO-UNDO-REDO protocol allow snew recoverable types and operations to be added to the recovery sytsem.\n",
        "\n",
        "Applicatio programs can record data in the transaction log to facilitate aplication-specific recovery. Transaction undo and redo are based on record kept in a `transaction log`. The checkpoint mechanism is based on diferenteil files (shadows). The recovery lo disk recorded on disk rather than tape."
      ]
    }
  ]
}