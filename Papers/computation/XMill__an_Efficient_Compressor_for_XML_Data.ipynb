{
    "nbformat": 4,
    "nbformat_minor": 0,
    "metadata": {
        "colab": {
            "name":"XMill: an Efficient Compressor for XML Data.ipynb",
            "provenance": [],
            "authorship_tag": "ABX9TyOF9UT4S4S5I69TKWt/9f3N",
            "include_colab_link": true
        },
        "kernelspec": {
            "name": "python3",
            "display_name": "Python 3"
        },
        "language_info": {
            "name": "python"
        }
    },
    "cells": [
        {
            "cell_type": "markdown",
            "metadata": {
                "id": "view-in-github",
                "colab_type": "text"
            },
            "source": ["<a href=\"https://colab.research.google.com/github/dbremont/Notas/blob/main/Papers/{TYPE}/XMill__an_Efficient_Compressor_for_XML_Data.ipynb\" target=\"_parent\"><img src=\"https://colab.research.google.com/assets/colab-badge.svg\" alt=\"Open In Colab\"/></a>"
           ]
        },
        {
            "cell_type": "markdown",
            "source": ["[XMill: an Efficient Compressor for XML Data](https://www.csd.uoc.gr/~hy561/Data/Papers/xmill-sigmod00.pdf)"
            ],
            "metadata": {
                "id": "gv-C86PLYaHi"
            }
        }
    ]
}
