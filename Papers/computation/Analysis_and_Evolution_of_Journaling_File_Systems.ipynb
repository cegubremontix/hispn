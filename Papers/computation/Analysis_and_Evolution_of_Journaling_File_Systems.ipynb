{
  "nbformat": 4,
  "nbformat_minor": 0,
  "metadata": {
    "colab": {
      "name": "Analysis and Evolution of Journaling File Systems.ipynb",
      "provenance": [],
      "include_colab_link": true
    },
    "kernelspec": {
      "name": "python3",
      "display_name": "Python 3"
    },
    "language_info": {
      "name": "python"
    }
  },
  "cells": [
    {
      "cell_type": "markdown",
      "metadata": {
        "id": "view-in-github",
        "colab_type": "text"
      },
      "source": [
        "<a href=\"https://colab.research.google.com/github/dbremont/Notas/blob/main/Papers/Computacion/Analysis_and_Evolution_of_Journaling_File_Systems.ipynb\" target=\"_parent\"><img src=\"https://colab.research.google.com/assets/colab-badge.svg\" alt=\"Open In Colab\"/></a>"
      ]
    },
    {
      "cell_type": "markdown",
      "metadata": {
        "id": "EAZshq2PpXb_"
      },
      "source": [
        "We develop and apply two new methods for analyzing file sys-\n",
        "tem behavior and evaluating file system changes. First, seman-\n",
        "tic block-level analysis (SBA) combines knowledge of on-disk\n",
        "data structures with a trace of disk traffic to infer file system be-\n",
        "havior; in contrast to standard benchmarking approaches, SBA\n",
        "enables users to understand why the file system behaves as it\n",
        "does. Second, semantic trace playback (STP) enables traces of\n",
        "disk traffic to be easily modified to represent changes in the file\n",
        "system implementation; in contrast to directly modifying the file\n",
        "\n",
        "system, STP enables users to rapidly gauge the benefits of new\n",
        "policies. We use SBA to analyze Linux ext3, ReiserFS, JFS,\n",
        "and Windows NTFS; in the process, we uncover many strengths\n",
        "and weaknesses of these journaling file systems. We also apply\n",
        "STP to evaluate several modifications to ext3, demonstrating the\n",
        "benefits of various optimizations without incurring the costs of\n",
        "a real implementation"
      ]
    }
  ]
}