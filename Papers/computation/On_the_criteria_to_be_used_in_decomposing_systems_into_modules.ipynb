{
  "nbformat": 4,
  "nbformat_minor": 0,
  "metadata": {
    "colab": {
      "name": "On the criteria to be used in decomposing systems into modules.ipynb",
      "provenance": [],
      "authorship_tag": "ABX9TyNR1swRK/2ApQAzRsKNvLJd",
      "include_colab_link": true
    },
    "kernelspec": {
      "name": "python3",
      "display_name": "Python 3"
    },
    "language_info": {
      "name": "python"
    }
  },
  "cells": [
    {
      "cell_type": "markdown",
      "metadata": {
        "id": "view-in-github",
        "colab_type": "text"
      },
      "source": [
        "<a href=\"https://colab.research.google.com/github/dbremont/Notas/blob/main/Papers/Computacion/On_the_criteria_to_be_used_in_decomposing_systems_into_modules.ipynb\" target=\"_parent\"><img src=\"https://colab.research.google.com/assets/colab-badge.svg\" alt=\"Open In Colab\"/></a>"
      ]
    },
    {
      "cell_type": "markdown",
      "source": [
        "[On the criteria to be used in decomposigni systems into modules](https://blog.acolyer.org/2016/09/05/on-the-criteria-to-be-used-in-decomposing-systems-into-modules/)\n",
        "\n",
        "\n",
        "![ankify](https://gitlab.com/dbremont/dbremont/-/raw/main/images/anki-badged.jpg)"
      ],
      "metadata": {
        "id": "n5M3uygA0cO1"
      }
    },
    {
      "cell_type": "markdown",
      "source": [
        "## Abstract"
      ],
      "metadata": {
        "id": "yjpse_bz-KOe"
      }
    },
    {
      "cell_type": "markdown",
      "source": [
        "This paper discusses modularization as a mechanism\n",
        "for improving the flexibility and comprehensibility of a\n",
        "system while allowing the shortening of its development\n",
        "time. \n",
        "\n",
        "The effectiveness of a \"modularization\" is\n",
        "dependent upon the criteria used in dividing the system\n",
        "into modules. "
      ],
      "metadata": {
        "id": "2vvf_Lzj-MHe"
      }
    },
    {
      "cell_type": "markdown",
      "source": [
        "The effectiveness of a “modularization” is dependent upon the criteria used in dividing the system into modules.\n",
        "\n"
      ],
      "metadata": {
        "id": "sh96Az2TlzXc"
      }
    },
    {
      "cell_type": "markdown",
      "source": [
        "Criterias for decomposing modules:\n",
        "- Information Hiding\n",
        "- Map every major processign step to a module"
      ],
      "metadata": {
        "id": "J_CohwmX97Oy"
      }
    },
    {
      "cell_type": "markdown",
      "source": [
        "## Conclusion"
      ],
      "metadata": {
        "id": "XXdEYyUU-EJV"
      }
    },
    {
      "cell_type": "markdown",
      "source": [
        "We have tried to demonstrate by these examples that it is almost always incorrect to begin the decomposition of a system into modules on the basis of a flowchart. We propose instead that one begins with a list of difficult design decisions or design decisions which are likely to change. Each module is then designed to hide such a decision from the others. Since, in most cases, design decisions transcend time of execution, modules will not correspond to steps in the processing…"
      ],
      "metadata": {
        "id": "3vnj91Xy-FPx"
      }
    }
  ]
}