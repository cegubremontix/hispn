{
  "nbformat": 4,
  "nbformat_minor": 0,
  "metadata": {
    "colab": {
      "name": "F2FS: A New File System for Flash Storage.ipynb",
      "provenance": [],
      "include_colab_link": true
    },
    "kernelspec": {
      "name": "python3",
      "display_name": "Python 3"
    },
    "language_info": {
      "name": "python"
    }
  },
  "cells": [
    {
      "cell_type": "markdown",
      "metadata": {
        "id": "view-in-github",
        "colab_type": "text"
      },
      "source": [
        "<a href=\"https://colab.research.google.com/github/dbremont/Notas/blob/main/Papers/Computacion/F2FS%3A_A_New_File_System_for_Flash_Storage.ipynb\" target=\"_parent\"><img src=\"https://colab.research.google.com/assets/colab-badge.svg\" alt=\"Open In Colab\"/></a>"
      ]
    },
    {
      "cell_type": "markdown",
      "metadata": {
        "id": "oL6xhycC5BLP"
      },
      "source": [
        "F2FS is a Linux file system designed to perform well on\n",
        "modern flash storage devices. The file system builds on\n",
        "append-only logging and its key design decisions were\n",
        "made with the characteristics of flash storage in mind.\n",
        "\n",
        "This paper describes the main design ideas, data struc-\n",
        "tures, algorithms and the resulting performance of F2FS.\n",
        "Experimental results highlight the desirable perfor-\n",
        "mance of F2FS; on a state-of-the-art mobile system, it\n",
        "outperforms EXT4 under synthetic workloads by up to\n",
        "3.1×(iozone) and 2×(SQLite). It reduces elapsed time\n",
        "of several realistic workloads by up to 40%. On a server\n",
        "system, F2FS is shown to perform better than EXT4 by\n",
        "up to 2.5×(SATA SSD) and 1.8×(PCIe SSD)."
      ]
    }
  ]
}