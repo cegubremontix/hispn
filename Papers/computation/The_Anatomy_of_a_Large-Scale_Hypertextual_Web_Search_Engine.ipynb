{
  "nbformat": 4,
  "nbformat_minor": 0,
  "metadata": {
    "colab": {
      "name": "The Anatomy of a Large-Scale Hypertextual Web Search Engine.ipynb",
      "provenance": [],
      "include_colab_link": true
    },
    "kernelspec": {
      "name": "python3",
      "display_name": "Python 3"
    },
    "language_info": {
      "name": "python"
    }
  },
  "cells": [
    {
      "cell_type": "markdown",
      "metadata": {
        "id": "view-in-github",
        "colab_type": "text"
      },
      "source": [
        "<a href=\"https://colab.research.google.com/github/dbremont/Notas/blob/main/Papers/Computacion/The_Anatomy_of_a_Large-Scale_Hypertextual_Web_Search_Engine.ipynb\" target=\"_parent\"><img src=\"https://colab.research.google.com/assets/colab-badge.svg\" alt=\"Open In Colab\"/></a>"
      ]
    },
    {
      "cell_type": "markdown",
      "metadata": {
        "id": "ULIHJRcFXvRr"
      },
      "source": [
        "In this paper, we present Google, a prototype of a large-scale search engine which maeks haev use of the structure present in hypertext. Google is designed to crawl and index the Web efficiently and produce much more satisfying search results than existing systems. The prototype which a full text and hyperlink database of at least 24 million pages is aviable at http://google.stanford.edu/.\n",
        "\n",
        "The engineer a search engine is a challenging task. Search engines index tens to hundreds of millions of Web pages involving a comparable number of distint terms. They answer tens of millions of queries every day. Despite the importantce of large-scale search engine o nthe Web, very litle academic eereseach has been done on them. Futhermore, due to rapid advance in technology and web profiferation, craetin a web search engine today is very differnt from thre years ago. Thi spaper provides aan in-depth description of ouyr large-scale Web search engine - the first such detailed public description we know of to date.\n",
        "\n",
        "Apart fro mtthe problems of scalign traditional search techniques to data of this magnitude, tehere are new technical challenges involved with using the additional information present in hypertext. Also we look at the problem of how to efectively deal with uncotrollerd hypertext collections, where anyone can publish anything they want."
      ]
    }
  ]
}