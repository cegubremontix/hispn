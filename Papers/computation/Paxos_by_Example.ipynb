{
  "nbformat": 4,
  "nbformat_minor": 0,
  "metadata": {
    "colab": {
      "name": "Paxos by Example.ipynb",
      "provenance": [],
      "include_colab_link": true
    },
    "kernelspec": {
      "name": "python3",
      "display_name": "Python 3"
    },
    "language_info": {
      "name": "python"
    }
  },
  "cells": [
    {
      "cell_type": "markdown",
      "metadata": {
        "id": "view-in-github",
        "colab_type": "text"
      },
      "source": [
        "<a href=\"https://colab.research.google.com/github/dbremont/Notas/blob/main/Papers/Computacion/Paxos_by_Example.ipynb\" target=\"_parent\"><img src=\"https://colab.research.google.com/assets/colab-badge.svg\" alt=\"Open In Colab\"/></a>"
      ]
    },
    {
      "cell_type": "markdown",
      "metadata": {
        "id": "JVJUscSDfzaT"
      },
      "source": [
        "Consensus Protocol in a distributed system\n",
        "○ unreliable machines, network\n",
        "○ multiple machines proposing different values\n",
        "● Quorum-based\n",
        "○ only a simple majority needs to agree\n",
        "○ at least one overlapping node in successive \n",
        "proposals\n",
        "■ e.g., f failures in a 2f + 1 node system \n",
        "after agreement. Value is remembered \n",
        "during the next Paxos round \n",
        "○ guaranteed progress if     #failures <= f"
      ]
    }
  ]
}