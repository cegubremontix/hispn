{
  "nbformat": 4,
  "nbformat_minor": 0,
  "metadata": {
    "colab": {
      "name": "Spectre Attacks: Exploiting Speculative Execution.ipynb",
      "provenance": [],
      "include_colab_link": true
    },
    "kernelspec": {
      "name": "python3",
      "display_name": "Python 3"
    },
    "language_info": {
      "name": "python"
    }
  },
  "cells": [
    {
      "cell_type": "markdown",
      "metadata": {
        "id": "view-in-github",
        "colab_type": "text"
      },
      "source": [
        "<a href=\"https://colab.research.google.com/github/dbremont/Notas/blob/main/Papers/Computacion/Spectre_Attacks%3A_Exploiting_Speculative_Execution.ipynb\" target=\"_parent\"><img src=\"https://colab.research.google.com/assets/colab-badge.svg\" alt=\"Open In Colab\"/></a>"
      ]
    },
    {
      "cell_type": "markdown",
      "metadata": {
        "id": "MF7ILxoeX_fu"
      },
      "source": [
        "Abstract—Modern processors use branch prediction and spec-\n",
        "ulative execution to maximize performance. For example, if the\n",
        "destination of a branch depends on a memory value that is in the\n",
        "process of being read, CPUs will try to guess the destination and\n",
        "attempt to execute ahead. When the memory value finally arrives,\n",
        "the CPU either discards or commits the speculative computation.\n",
        "Speculative logic is unfaithful in how it executes, can access the\n",
        "victim’s memory and registers, and can perform operations with\n",
        "measurable side effects.\n",
        "\n",
        "Spectre attacks involve inducing a victim to speculatively\n",
        "perform operations that would not occur during correct program\n",
        "execution and which leak the victim’s confidential information via\n",
        "a side channel to the adversary. This paper describes practical\n",
        "attacks that combine methodology from side channel attacks,\n",
        "fault attacks, and return-oriented programming that can read\n",
        "arbitrary memory from the victim’s process. More broadly, the\n",
        "paper shows that speculative execution implementations violate\n",
        "the security assumptions underpinning numerous software secu-\n",
        "rity mechanisms, including operating system process separation,\n",
        "containerization, just-in-time (JIT) compilation, and countermea-\n",
        "sures to cache timing and side-channel attacks. These attacks\n",
        "represent a serious threat to actual systems since vulnerable\n",
        "speculative execution capabilities are found in microprocessors\n",
        "from Intel, AMD, and ARM that are used in billions of devices.\n",
        "While makeshift processor-specific countermeasures are possi-\n",
        "ble in some cases, sound solutions will require fixes to processor\n",
        "designs as well as updates to instruction set architectures (ISAs)\n",
        "to give hardware architects and software developers a common\n",
        "understanding as to what computation state CPU implementa-\n",
        "tions are (and are not) permitted to leak"
      ]
    }
  ]
}