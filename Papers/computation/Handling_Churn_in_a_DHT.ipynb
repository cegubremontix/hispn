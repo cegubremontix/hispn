{
  "nbformat": 4,
  "nbformat_minor": 0,
  "metadata": {
    "colab": {
      "name": "Handling Churn in a DHT.ipynb",
      "provenance": [],
      "include_colab_link": true
    },
    "kernelspec": {
      "name": "python3",
      "display_name": "Python 3"
    },
    "language_info": {
      "name": "python"
    }
  },
  "cells": [
    {
      "cell_type": "markdown",
      "metadata": {
        "id": "view-in-github",
        "colab_type": "text"
      },
      "source": [
        "<a href=\"https://colab.research.google.com/github/dbremont/Notas/blob/main/Papers/Computacion/Handling_Churn_in_a_DHT.ipynb\" target=\"_parent\"><img src=\"https://colab.research.google.com/assets/colab-badge.svg\" alt=\"Open In Colab\"/></a>"
      ]
    },
    {
      "cell_type": "markdown",
      "metadata": {
        "id": "wvcyG3j0ix-C"
      },
      "source": [
        "This paper addresses the problem of churn—the continu-\n",
        "ous process of node arrival and departure—in distributed\n",
        "hash tables (DHTs). We argue that DHTs should perform\n",
        "lookups quickly and consistently under churn rates at least\n",
        "as high as those observed in deployed P2P systems such\n",
        "as Kazaa. We then show through experiments on an em-\n",
        "ulated network that current DHT implementations cannot\n",
        "handle such churn rates. Next, we identify and explore\n",
        "three factors affecting DHT performance under churn: re-\n",
        "active versus periodic failure recovery, message timeout\n",
        "calculation, and proximity neighbor selection. We work\n",
        "in the context of a mature DHT implementation called\n",
        "Bamboo, using the ModelNet network emulator, which\n",
        "models in-network queuing, cross-traffic, and packet loss.\n",
        "These factors are typically missing in earlier simulation-\n",
        "based DHT studies, and we show that careful attention\n",
        "to them in Bamboo’s design allows it to function effec-\n",
        "tively at churn rates at or higher than that observed in P2P\n",
        "file-sharing applications, while using lower maintenance\n",
        "bandwidth than other DHT implementations."
      ]
    }
  ]
}