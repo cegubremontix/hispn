{
  "nbformat": 4,
  "nbformat_minor": 0,
  "metadata": {
    "colab": {
      "name": "Teaching an Old Elephant New Tricks.ipynb",
      "provenance": [],
      "include_colab_link": true
    },
    "kernelspec": {
      "name": "python3",
      "display_name": "Python 3"
    },
    "language_info": {
      "name": "python"
    }
  },
  "cells": [
    {
      "cell_type": "markdown",
      "metadata": {
        "id": "view-in-github",
        "colab_type": "text"
      },
      "source": [
        "<a href=\"https://colab.research.google.com/github/dbremont/Notas/blob/main/Papers/Computacion/Teaching_an_Old_Elephant_New_Tricks.ipynb\" target=\"_parent\"><img src=\"https://colab.research.google.com/assets/colab-badge.svg\" alt=\"Open In Colab\"/></a>"
      ]
    },
    {
      "cell_type": "markdown",
      "metadata": {
        "id": "faaMDJ5s3pjG"
      },
      "source": [
        "In recent years, column stores (or C-stores for short) have emerged\n",
        "as a novel approach to deal with read-mostly data warehousing ap-\n",
        "plications. Experimental evidence suggests that, for certain types of\n",
        "queries, the new features of C-stores result in orders of magnitude\n",
        "improvement over traditional relational engines. At the same time,\n",
        "some C-store proponents argue that C-stores are fundamentally dif-\n",
        "ferent from traditional engines, and therefore their benefits cannot\n",
        "be incorporated into a relational engine short of a complete rewrite.\n",
        "In this paper we challenge this claim and show that many of the\n",
        "\n",
        "benefits of C-stores can indeed be simulated in traditional engines\n",
        "with no changes whatsoever. We then identify some limitations\n",
        "of our “pure-simulation” approach for the case of more complex\n",
        "queries. Finally, we predict that traditional relational engines will\n",
        "eventually leverage most of the benefits of C-stores natively, as is\n",
        "currently happening in other domains such as XML data."
      ]
    }
  ]
}