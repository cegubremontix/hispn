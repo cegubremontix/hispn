{
  "nbformat": 4,
  "nbformat_minor": 0,
  "metadata": {
    "colab": {
      "name": "The Case for VM-Based Cloudlets in Mobile Computing.ipynb",
      "provenance": [],
      "include_colab_link": true
    },
    "kernelspec": {
      "name": "python3",
      "display_name": "Python 3"
    },
    "language_info": {
      "name": "python"
    }
  },
  "cells": [
    {
      "cell_type": "markdown",
      "metadata": {
        "id": "view-in-github",
        "colab_type": "text"
      },
      "source": [
        "<a href=\"https://colab.research.google.com/github/dbremont/Notas/blob/main/Papers/Computacion/The_Case_for_VM-Based_Cloudlets_in_Mobile_Computing.ipynb\" target=\"_parent\"><img src=\"https://colab.research.google.com/assets/colab-badge.svg\" alt=\"Open In Colab\"/></a>"
      ]
    },
    {
      "cell_type": "markdown",
      "metadata": {
        "id": "m21KDkmIhOAp"
      },
      "source": [
        "Resource poverty is a fundamental constraint that severely\n",
        "limits the class of applications that can be run on mobile devices. This constraint is not just a temporary limitation of current technology, but is intrinsic to mobility.\n",
        "In this paper, we put forth a vision of mobile computing that breaks free of this fundamental constraint. In\n",
        "this vision, mobile users seamlessly utilize nearby computers to obtain the resource benefits of cloud computing without incurring WAN delays and jitter. Rather than\n",
        "relying on a distant “cloud,” a mobile user instantiates a\n",
        "“cloudlet” on nearby infrastructure and uses it via a wireless LAN. Crisp interactive response for immersive applications that augment human cognition is then much easier to achieve because of the proximity of the cloudlet.\n",
        "We confirm that a critical untested aspect of this vision,\n",
        "namely rapid customization of cloudlet infrastructure, is\n",
        "achievable through dynamic VM synthesis. While much\n",
        "remains to be done, the concepts and ideas introduced\n",
        "here open the door to a new world of mobile computing\n",
        "in which seamless cognitive assistance of users occurs in\n",
        "diverse ways at any time and place."
      ]
    }
  ]
}