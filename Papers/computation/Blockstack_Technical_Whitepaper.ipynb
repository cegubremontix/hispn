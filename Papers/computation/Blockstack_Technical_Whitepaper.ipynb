{
  "nbformat": 4,
  "nbformat_minor": 0,
  "metadata": {
    "colab": {
      "name": "Blockstack Technical Whitepaper.ipynb",
      "provenance": [],
      "include_colab_link": true
    },
    "kernelspec": {
      "name": "python3",
      "display_name": "Python 3"
    },
    "language_info": {
      "name": "python"
    }
  },
  "cells": [
    {
      "cell_type": "markdown",
      "metadata": {
        "id": "view-in-github",
        "colab_type": "text"
      },
      "source": [
        "<a href=\"https://colab.research.google.com/github/dbremont/Notas/blob/main/Papers/Computacion/Blockstack_Technical_Whitepaper.ipynb\" target=\"_parent\"><img src=\"https://colab.research.google.com/assets/colab-badge.svg\" alt=\"Open In Colab\"/></a>"
      ]
    },
    {
      "cell_type": "markdown",
      "metadata": {
        "id": "Zks-5acFUVNG"
      },
      "source": [
        "he traditional internet has many central points of failure and trust, like (a) the Domain Name System (DNS) servers, (b) public-key infrastructure, and (c) end-user data\n",
        "stored on centralized data stores. We present the design and implementation of a new\n",
        "internet, called Blockstack, where users don’t need to trust remote servers. We remove\n",
        "any trust points from the middle of the network and use blockchains to secure critical\n",
        "data bindings. Blockstack implements services for identity, discovery, and storage and\n",
        "can survive failures of underlying blockchains. The design of Blockstack is informed by\n",
        "three years of experience from a large blockchain-based production system. Blockstack\n",
        "gives comparable performance to traditional internet services and enables a much-needed\n",
        "security and reliability upgrade to the traditional internet."
      ]
    }
  ]
}