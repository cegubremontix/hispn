{
  "nbformat": 4,
  "nbformat_minor": 0,
  "metadata": {
    "colab": {
      "name": "Scaling Memcache at Facebook.ipynb",
      "provenance": [],
      "include_colab_link": true
    },
    "kernelspec": {
      "name": "python3",
      "display_name": "Python 3"
    },
    "language_info": {
      "name": "python"
    }
  },
  "cells": [
    {
      "cell_type": "markdown",
      "metadata": {
        "id": "view-in-github",
        "colab_type": "text"
      },
      "source": [
        "<a href=\"https://colab.research.google.com/github/dbremont/Notas/blob/main/Papers/Computacion/Scaling_Memcache_at_Facebook.ipynb\" target=\"_parent\"><img src=\"https://colab.research.google.com/assets/colab-badge.svg\" alt=\"Open In Colab\"/></a>"
      ]
    },
    {
      "cell_type": "markdown",
      "metadata": {
        "id": "dIDKC4Ppp88x"
      },
      "source": [
        "Memcachedis a well known, simple, in-\n",
        "memory caching solution. This paper describes how\n",
        "Facebook leverages memcachedas a building block to\n",
        "construct and scale a distributed key-value store that\n",
        "\n",
        "supports the world’s largest social network. Our system\n",
        "\n",
        "handles billions of requests per second and holds tril-\n",
        "\n",
        "lions of items to deliver a rich experience for over a bil-\n",
        "\n",
        "lion users around the world."
      ]
    }
  ]
}