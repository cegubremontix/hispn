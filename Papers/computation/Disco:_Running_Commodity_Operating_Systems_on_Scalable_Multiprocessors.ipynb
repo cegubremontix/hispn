{
  "nbformat": 4,
  "nbformat_minor": 0,
  "metadata": {
    "colab": {
      "name": "Disco: Running Commodity Operating Systems on Scalable Multiprocessors.ipynb",
      "provenance": [],
      "include_colab_link": true
    },
    "kernelspec": {
      "name": "python3",
      "display_name": "Python 3"
    },
    "language_info": {
      "name": "python"
    }
  },
  "cells": [
    {
      "cell_type": "markdown",
      "metadata": {
        "id": "view-in-github",
        "colab_type": "text"
      },
      "source": [
        "<a href=\"https://colab.research.google.com/github/dbremont/Notas/blob/main/Papers/Computacion/Disco%3A_Running_Commodity_Operating_Systems_on_Scalable_Multiprocessors.ipynb\" target=\"_parent\"><img src=\"https://colab.research.google.com/assets/colab-badge.svg\" alt=\"Open In Colab\"/></a>"
      ]
    },
    {
      "cell_type": "markdown",
      "metadata": {
        "id": "8LdRgPLvs4Y5"
      },
      "source": [
        "n  this paper we examine  the problem  of extending  modem  operat- \n",
        "ing  systems  to run  efficiently  on  large-scale  shared  memory  multi- \n",
        "processors without  a  large  implementation effort.  Our  approach \n",
        "brings  back an idea popular  in  the  197Os, virtual  machine  monitors. \n",
        "We use  virtual  machines  to run  multiple  commodity  operating  sys- \n",
        "tems on  a scalable  multiprocessor.  This  solution  addresses  many  of \n",
        "the  challenges  facing  the  system  software  for  these  machines.  We \n",
        "demonstrate our  approach  with  a  prototype  called  Disco  that  can \n",
        "run  multiple  copies  of Silicon  Graphics’  IRIX  operating  system  on \n",
        "a  multiprocessor.  Our  experience  shows  that  the  overheads  of  the \n",
        "monitor  are small  and that the approach  provides  scalability  as well \n",
        "as the ability  to deal  with  the non-uniform memory  access  time  of \n",
        "these  systems.  To  reduce  the  memory  overheads  associated  with \n",
        "running  multiple  operating  systems,  we have developed  techniques \n",
        "where  the  virtual  machines transparently share  major  data  struc- \n",
        "tures such as the program code and  the file system  buffer  cache. We \n",
        "use  the distributed  system  support  of modem  operating  systems  to \n",
        "export  a partial  single  system  image  to the users.  The  overall  solu- \n",
        "tion  achieves  most of the benefits  of operating  systems  customized \n",
        "for  scalable  multiprocessors yet  it  can  be  achieved  with  a signifi- \n",
        "cantly  smaller  implementation effort."
      ]
    }
  ]
}