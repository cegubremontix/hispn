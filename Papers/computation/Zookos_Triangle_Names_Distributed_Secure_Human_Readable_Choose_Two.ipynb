{
  "nbformat": 4,
  "nbformat_minor": 0,
  "metadata": {
    "colab": {
      "name": "Names: Distributed, Secure, Human-Readable: Choose Two.ipynb",
      "provenance": [],
      "include_colab_link": true
    },
    "kernelspec": {
      "name": "python3",
      "display_name": "Python 3"
    },
    "language_info": {
      "name": "python"
    }
  },
  "cells": [
    {
      "cell_type": "markdown",
      "metadata": {
        "id": "view-in-github",
        "colab_type": "text"
      },
      "source": [
        "<a href=\"https://colab.research.google.com/github/dbremont/Notas/blob/main/Papers/computation/Zookos_Triangle_Names_Distributed_Secure_Human_Readable_Choose_Two.ipynb\" target=\"_parent\"><img src=\"https://colab.research.google.com/assets/colab-badge.svg\" alt=\"Open In Colab\"/></a>"
      ]
    },
    {
      "cell_type": "markdown",
      "metadata": {
        "id": "ADQjgdslkot5"
      },
      "source": [
        "[Ir](https://web.archive.org/web/20011020191610/http://zooko.com/distnames.html)"
      ]
    },
    {
      "cell_type": "markdown",
      "metadata": {
        "id": "PsjzByM3lKYo"
      },
      "source": [
        "Zooko's triangle is a trilemma of three properties that are generally considered desirable for names of participants in a network protocol:[1]\n",
        "\n",
        "Human-meaningful: Meaningful and memorable (low-entropy) names are provided to the users.\n",
        "Secure: The amount of damage a malicious entity can inflict on the system should be as low as possible.\n",
        "Decentralized: Names correctly resolve to their respective entities without the use of a central authority or service."
      ]
    }
  ]
}