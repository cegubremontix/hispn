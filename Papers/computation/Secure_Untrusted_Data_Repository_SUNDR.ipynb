{
  "nbformat": 4,
  "nbformat_minor": 0,
  "metadata": {
    "colab": {
      "name": "Secure Untrusted Data Repository (SUNDR).ipynb",
      "provenance": [],
      "include_colab_link": true
    },
    "kernelspec": {
      "name": "python3",
      "display_name": "Python 3"
    },
    "language_info": {
      "name": "python"
    }
  },
  "cells": [
    {
      "cell_type": "markdown",
      "metadata": {
        "id": "view-in-github",
        "colab_type": "text"
      },
      "source": [
        "<a href=\"https://colab.research.google.com/github/dbremont/Notas/blob/main/Papers/Computacion/Secure_Untrusted_Data_Repository_SUNDR.ipynb\" target=\"_parent\"><img src=\"https://colab.research.google.com/assets/colab-badge.svg\" alt=\"Open In Colab\"/></a>"
      ]
    },
    {
      "cell_type": "markdown",
      "metadata": {
        "id": "yjraoMbShU2Q"
      },
      "source": [
        "SUNDR is a network file system designed to store data\n",
        "securely on untrusted servers. SUNDR lets clients de-\n",
        "tect any attempts at unauthorized file modification by\n",
        "\n",
        "malicious server operators or users. SUNDR’s protocol\n",
        "achieves a property called fork consistency, which guar-\n",
        "antees that clients can detect any integrity or consistency\n",
        "failures as long as they see each other’s file modifications.\n",
        "An implementation is described that performs compara-\n",
        "bly with NFS (sometimes better and sometimes worse),\n",
        "while offering significantly stronger security"
      ]
    }
  ]
}