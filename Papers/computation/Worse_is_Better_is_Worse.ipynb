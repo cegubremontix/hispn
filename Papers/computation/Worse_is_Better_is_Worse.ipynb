{
  "nbformat": 4,
  "nbformat_minor": 0,
  "metadata": {
    "colab": {
      "name": "Worse is Better is Worse.ipynb",
      "provenance": [],
      "include_colab_link": true
    },
    "kernelspec": {
      "name": "python3",
      "display_name": "Python 3"
    },
    "language_info": {
      "name": "python"
    }
  },
  "cells": [
    {
      "cell_type": "markdown",
      "metadata": {
        "id": "view-in-github",
        "colab_type": "text"
      },
      "source": [
        "<a href=\"https://colab.research.google.com/github/dbremont/Notas/blob/main/Papers/Computacion/Worse_is_Better_is_Worse.ipynb\" target=\"_parent\"><img src=\"https://colab.research.google.com/assets/colab-badge.svg\" alt=\"Open In Colab\"/></a>"
      ]
    },
    {
      "cell_type": "markdown",
      "metadata": {
        "id": "3kFe4iLxpZij"
      },
      "source": [
        "- (D) [Worse is Better is Worse](http://0.0.0.0:8000/3%20Computacion/Papers/Worse%20is%20Better%20is%20Worse.pdf)"
      ]
    },
    {
      "cell_type": "markdown",
      "metadata": {
        "id": "fK12fJqypaIc"
      },
      "source": [
        "Aim high but make sure you shout.\n",
        "\n",
        "Options:\n",
        "\n",
        "- The right thing:\n",
        "  - simplicity\n",
        "  - correctness\n",
        "  - consistency\n",
        "  - completeness\n",
        "\n",
        "\n",
        "- Worse is better\n",
        "  - implementation simplicity\n",
        "  \n",
        "  \n",
        "Example of the two design paradism with \"handle user interrupts in system calls\".\n",
        "\n",
        "Todo: Understand the great example.\n"
      ]
    }
  ]
}