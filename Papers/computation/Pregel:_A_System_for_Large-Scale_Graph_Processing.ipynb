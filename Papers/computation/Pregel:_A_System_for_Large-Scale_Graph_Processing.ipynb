{
  "nbformat": 4,
  "nbformat_minor": 0,
  "metadata": {
    "colab": {
      "name": "Pregel: A System for Large-Scale Graph Processing.ipynb",
      "provenance": [],
      "include_colab_link": true
    },
    "kernelspec": {
      "name": "python3",
      "display_name": "Python 3"
    },
    "language_info": {
      "name": "python"
    }
  },
  "cells": [
    {
      "cell_type": "markdown",
      "metadata": {
        "id": "view-in-github",
        "colab_type": "text"
      },
      "source": [
        "<a href=\"https://colab.research.google.com/github/dbremont/Notas/blob/main/Papers/Computacion/Pregel%3A_A_System_for_Large-Scale_Graph_Processing.ipynb\" target=\"_parent\"><img src=\"https://colab.research.google.com/assets/colab-badge.svg\" alt=\"Open In Colab\"/></a>"
      ]
    },
    {
      "cell_type": "markdown",
      "metadata": {
        "id": "Mb-KK_87XhQo"
      },
      "source": [
        "Many practical computing problems concern large graphs.\n",
        "Standard examples include the Web graph and various social networks. The scale of these graphs—in some cases billions of vertices, trillions of edges—poses challenges to their\n",
        "efficient processing. In this paper we present a computational model suitable for this task. Programs are expressed\n",
        "as a sequence of iterations, in each of which a vertex can\n",
        "receive messages sent in the previous iteration, send messages to other vertices, and modify its own state and that of\n",
        "its outgoing edges or mutate graph topology. This vertexcentric approach is flexible enough to express a broad set of\n",
        "algorithms. The model has been designed for efficient, scalable and fault-tolerant implementation on clusters of thousands of commodity computers, and its implied synchronicity makes reasoning about programs easier. Distributionrelated details are hidden behind an abstract API. The result\n",
        "is a framework for processing large graphs that is expressive\n",
        "and easy to program."
      ]
    }
  ]
}