{
  "nbformat": 4,
  "nbformat_minor": 0,
  "metadata": {
    "colab": {
      "name": "A case for Inexpensive Redundant Disks.ipynb",
      "provenance": [],
      "include_colab_link": true
    },
    "kernelspec": {
      "display_name": "Python 3",
      "language": "python",
      "name": "python3"
    },
    "language_info": {
      "codemirror_mode": {
        "name": "ipython",
        "version": 3
      },
      "file_extension": ".py",
      "mimetype": "text/x-python",
      "name": "python",
      "nbconvert_exporter": "python",
      "pygments_lexer": "ipython3",
      "version": "3.8.10"
    }
  },
  "cells": [
    {
      "cell_type": "markdown",
      "metadata": {
        "id": "view-in-github",
        "colab_type": "text"
      },
      "source": [
        "<a href=\"https://colab.research.google.com/github/dbremont/Notas/blob/main/Papers/Computacion/A_case_for_Inexpensive_Redundant_Disks.ipynb\" target=\"_parent\"><img src=\"https://colab.research.google.com/assets/colab-badge.svg\" alt=\"Open In Colab\"/></a>"
      ]
    },
    {
      "cell_type": "markdown",
      "metadata": {
        "id": "2QvtyXdJn2mR"
      },
      "source": [
        "bstract Increasmg performance of  CPUs  and  memorres  wrll be \n",
        "squandered lf  not matched by a sunrlm peformance ourease  m II0 Whde \n",
        "the capactty  of  Smgle Large  Expenstve D&T (SLED)  has grown  rapuily, \n",
        "the  performance rmprovement of  SLED  has  been  modest Redundant \n",
        "Arrays of  Inexpensive Disks (RAID), based on the  magnetic duk \n",
        "technology developed for personal  computers, offers  an attractive \n",
        "alternattve IO SLED, promtang onprovements of an or&r  of mogm&e  m \n",
        "pctformance, rehabdlty, power consumption, and scalalnlrty  Thu paper \n",
        "rntroducesfivc levels of RAIDS, grvmg rheu  relative  costlpetfotmance,  and \n",
        "compares RAID  to an IBM  3380 and a Fupisu  Super Eagle"
      ]
    }
  ]
}