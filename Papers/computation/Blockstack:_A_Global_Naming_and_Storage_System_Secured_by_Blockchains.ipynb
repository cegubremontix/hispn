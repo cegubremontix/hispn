{
  "nbformat": 4,
  "nbformat_minor": 0,
  "metadata": {
    "colab": {
      "name": "Blockstack: A Global Naming and Storage System Secured by Blockchains.ipynb",
      "provenance": [],
      "include_colab_link": true
    },
    "kernelspec": {
      "name": "python3",
      "display_name": "Python 3"
    },
    "language_info": {
      "name": "python"
    }
  },
  "cells": [
    {
      "cell_type": "markdown",
      "metadata": {
        "id": "view-in-github",
        "colab_type": "text"
      },
      "source": [
        "<a href=\"https://colab.research.google.com/github/dbremont/Notas/blob/main/Papers/Computacion/Blockstack%3A_A_Global_Naming_and_Storage_System_Secured_by_Blockchains.ipynb\" target=\"_parent\"><img src=\"https://colab.research.google.com/assets/colab-badge.svg\" alt=\"Open In Colab\"/></a>"
      ]
    },
    {
      "cell_type": "markdown",
      "metadata": {
        "id": "zNsqHabc5yRK"
      },
      "source": [
        "Blockchains like Bitcoin and Namecoin and their re-\n",
        "spective P2P networks have seen significant adoption in\n",
        "the past few years and show promise as naming systems\n",
        "with no trusted parties. Users can register human mean-\n",
        "ingful names and securely associate data with them, and\n",
        "only the owner of the particular private keys that regis-\n",
        "tered them can write or update the name-value pair. In\n",
        "\n",
        "theory, many decentralized systems can be built using\n",
        "these blockchain networks, such as new, decentralized\n",
        "versions of DNS and PKI. As the technology is relatively\n",
        "new and evolving rapidly, however, little production data\n",
        "\n",
        "or experience is available to guide design tradeoffs.\n",
        "\n",
        "\n",
        "In this paper, we describe our experiences operating\n",
        "a large deployment of a decentralized PKI service built\n",
        "on top of the Namecoin blockchain. We present vari-\n",
        "ous challenges pertaining to network reliability, through-\n",
        "put, and security that we needed to overcome while reg-\n",
        "istering and updating over 33,000 entries and 200,000\n",
        "\n",
        "transactions on the Namecoin blockchain. Further, we\n",
        "discuss how our experience informed the design of a\n",
        "new blockchain-based naming and storage system called\n",
        "Blockstack. We detail why we switched from the Name-\n",
        "coin network to the Bitcoin network for the new sys-\n",
        "tem, and present operational lessons from this migration.\n",
        "\n",
        "Blockstack is released as open source software and cur-\n",
        "\n",
        "rently powers a production PKI system for 55,000 users"
      ]
    }
  ]
}