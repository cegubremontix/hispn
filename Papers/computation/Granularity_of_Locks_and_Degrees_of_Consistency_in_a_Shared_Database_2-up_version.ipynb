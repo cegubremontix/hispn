{
  "nbformat": 4,
  "nbformat_minor": 0,
  "metadata": {
    "colab": {
      "name": "Granularity of Locks and Degrees of Consistency in a Shared Database 2-up version.ipynb",
      "provenance": [],
      "include_colab_link": true
    },
    "kernelspec": {
      "name": "python3",
      "display_name": "Python 3"
    },
    "language_info": {
      "name": "python"
    }
  },
  "cells": [
    {
      "cell_type": "markdown",
      "metadata": {
        "id": "view-in-github",
        "colab_type": "text"
      },
      "source": [
        "<a href=\"https://colab.research.google.com/github/dbremont/Notas/blob/main/Papers/Computacion/Granularity_of_Locks_and_Degrees_of_Consistency_in_a_Shared_Database_2-up_version.ipynb\" target=\"_parent\"><img src=\"https://colab.research.google.com/assets/colab-badge.svg\" alt=\"Open In Colab\"/></a>"
      ]
    },
    {
      "cell_type": "markdown",
      "metadata": {
        "id": "VpBvfKdoSQbM"
      },
      "source": [
        "The  problem  of  choosing  the  appropriate  Hranularit~  (size) \n",
        "of  lockable  objects  is  introduced  and  the  tradeoff  between \n",
        "concurrency  and  overhead  is discusseS.  A  locking  protocol \n",
        "which  allows  simultaneous  locking  at  various  granularities \n",
        "by  different transactions  is  presented. It  is based on \n",
        "the introduction  of additional lock modes  besides the \n",
        "conventional  share mode  an5  exclusive mode. A proof  is \n",
        "given of the equivalence of this protocol to a \n",
        "conventional  one. \n",
        "Next  the  issue of  consistency  in  a shared  environment  is \n",
        "analyze~.  This  discussion  is motivated  by  the realization \n",
        "that  some existing  data  base systems  use automatic  lock \n",
        "protocols  which  insure  protection only  from  certain  types \n",
        "of inconsistencies (for instance those arising from \n",
        "transaction backup), thereby  automatically providing a \n",
        "limited degree of consistency. Four ~ S ~   ~ \n",
        "consistency are introduced. They can be roughly \n",
        "characterized  as follows:  degree 0  protects others  from \n",
        "your  updates, degree  I additionally provides  protection \n",
        "from losing updates, degree 2 additionally provides \n",
        "protection  from  reading  incorrect  data  iteas,  and  degree  3 \n",
        "additionally provides  protection from  reading incorrect \n",
        "relationships  among  data  items  (i.e.  total  protection). A \n",
        "discussion follows on the relationships of the four \n",
        "degrees to locking protocols, concurrency, overhead, \n",
        "recovery  and  transaction  structure. \n",
        "Lastly, these ideas are compared with existingdata \n",
        "management  systems. "
      ]
    }
  ]
}