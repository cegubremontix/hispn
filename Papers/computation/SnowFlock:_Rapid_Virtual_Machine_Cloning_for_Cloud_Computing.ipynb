{
  "nbformat": 4,
  "nbformat_minor": 0,
  "metadata": {
    "colab": {
      "name": "SnowFlock: Rapid Virtual Machine Cloning for Cloud Computing.ipynb",
      "provenance": [],
      "include_colab_link": true
    },
    "kernelspec": {
      "name": "python3",
      "display_name": "Python 3"
    },
    "language_info": {
      "name": "python"
    }
  },
  "cells": [
    {
      "cell_type": "markdown",
      "metadata": {
        "id": "view-in-github",
        "colab_type": "text"
      },
      "source": [
        "<a href=\"https://colab.research.google.com/github/dbremont/Notas/blob/main/Papers/Computacion/SnowFlock%3A_Rapid_Virtual_Machine_Cloning_for_Cloud_Computing.ipynb\" target=\"_parent\"><img src=\"https://colab.research.google.com/assets/colab-badge.svg\" alt=\"Open In Colab\"/></a>"
      ]
    },
    {
      "cell_type": "markdown",
      "metadata": {
        "id": "xNoDN0wjSWkI"
      },
      "source": [
        "Virtual Machine (VM) fork is a new cloud computing ab-\n",
        "straction that instantaneously clones a VM into multiple\n",
        "replicas running on different hosts. All replicas share the\n",
        "same initial state, matching the intuitive semantics of stateful\n",
        "worker creation. VM fork thus enables the straightforward\n",
        "creation and efficient deployment of many tasks demand-\n",
        "ing swift instantiation of stateful workers in a cloud envi-\n",
        "ronment, e.g. excess load handling, opportunistic job place-\n",
        "ment, or parallel computing. Lack of instantaneous stateful\n",
        "cloning forces users of cloud computing into ad hoc prac-\n",
        "tices to manage application state and cycle provisioning. We\n",
        "present SnowFlock, our implementation of the VM fork ab-\n",
        "straction. To evaluate SnowFlock, we focus on the demand-\n",
        "ing scenario of services requiring on-the-fly creation of hun-\n",
        "dreds of parallel workers in order to solve computationally-\n",
        "intensive queries in seconds. These services are prominent in\n",
        "fields such as bioinformatics, finance, and rendering. Snow-\n",
        "Flock provides sub-second VM cloning, scales to hundreds\n",
        "of workers, consumes few cloud I/O resources, and has neg-\n",
        "ligible runtime overhead."
      ]
    }
  ]
}