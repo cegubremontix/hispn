{
  "nbformat": 4,
  "nbformat_minor": 0,
  "metadata": {
    "colab": {
      "name": "MillWheel: Fault-Tolerant Stream Processing at Internet Scale.ipynb",
      "provenance": [],
      "include_colab_link": true
    },
    "kernelspec": {
      "name": "python3",
      "display_name": "Python 3"
    },
    "language_info": {
      "name": "python"
    }
  },
  "cells": [
    {
      "cell_type": "markdown",
      "metadata": {
        "id": "view-in-github",
        "colab_type": "text"
      },
      "source": [
        "<a href=\"https://colab.research.google.com/github/dbremont/Notas/blob/main/Papers/Computacion/MillWheel%3A_Fault-Tolerant_Stream_Processing_at_Internet_Scale.ipynb\" target=\"_parent\"><img src=\"https://colab.research.google.com/assets/colab-badge.svg\" alt=\"Open In Colab\"/></a>"
      ]
    },
    {
      "cell_type": "markdown",
      "metadata": {
        "id": "6F4Ty6IhllbU"
      },
      "source": [
        "MillWheel is a framework for building low-latency data-processing\n",
        "applications that is widely used at Google. Users specify a directed\n",
        "computation graph and application code for individual nodes, and\n",
        "the system manages persistent state and the continuous flow of\n",
        "records, all within the envelope of the framework’s fault-tolerance\n",
        "guarantees.\n",
        "\n",
        "This paper describes MillWheel’s programming model as well as\n",
        "its implementation. The case study of a continuous anomaly detec-\n",
        "tor in use at Google serves to motivate how many of MillWheel’s\n",
        "features are used. MillWheel’s programming model provides a no-\n",
        "tion of logical time, making it simple to write time-based aggre-\n",
        "gations. MillWheel was designed from the outset with fault toler-\n",
        "ance and scalability in mind. In practice, we find that MillWheel’s\n",
        "unique combination of scalability, fault tolerance, and a versatile\n",
        "programming model lends itself to a wide variety of problems at\n",
        "Google."
      ]
    }
  ]
}