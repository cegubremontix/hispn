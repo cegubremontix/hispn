{
  "nbformat": 4,
  "nbformat_minor": 0,
  "metadata": {
    "colab": {
      "name": "Hints on programminglanguage design.ipynb",
      "provenance": [],
      "authorship_tag": "ABX9TyOZscsCXun+cQsJjcCn7yR/",
      "include_colab_link": true
    },
    "kernelspec": {
      "name": "python3",
      "display_name": "Python 3"
    },
    "language_info": {
      "name": "python"
    }
  },
  "cells": [
    {
      "cell_type": "markdown",
      "metadata": {
        "id": "view-in-github",
        "colab_type": "text"
      },
      "source": [
        "<a href=\"https://colab.research.google.com/github/dbremont/Notas/blob/main/Papers/Computacion/Hints_on_programming_language_design.ipynb\" target=\"_parent\"><img src=\"https://colab.research.google.com/assets/colab-badge.svg\" alt=\"Open In Colab\"/></a>"
      ]
    },
    {
      "cell_type": "markdown",
      "source": [
        "[Hints on programming language design](https://www.cs.yale.edu/flint/cs428/doc/HintsPL.pdf)"
      ],
      "metadata": {
        "id": "XAF40bMFJVZN"
      }
    }
  ]
}