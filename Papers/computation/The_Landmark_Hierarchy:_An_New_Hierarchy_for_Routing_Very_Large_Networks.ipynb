{
  "nbformat": 4,
  "nbformat_minor": 0,
  "metadata": {
    "colab": {
      "name": "The Landmark Hierarchy: An New Hierarchy for Routing Very Large Networks.ipynb",
      "provenance": [],
      "include_colab_link": true
    },
    "kernelspec": {
      "name": "python3",
      "display_name": "Python 3"
    },
    "language_info": {
      "name": "python"
    }
  },
  "cells": [
    {
      "cell_type": "markdown",
      "metadata": {
        "id": "view-in-github",
        "colab_type": "text"
      },
      "source": [
        "<a href=\"https://colab.research.google.com/github/dbremont/Notas/blob/main/Papers/Computacion/The_Landmark_Hierarchy%3A_An_New_Hierarchy_for_Routing_Very_Large_Networks.ipynb\" target=\"_parent\"><img src=\"https://colab.research.google.com/assets/colab-badge.svg\" alt=\"Open In Colab\"/></a>"
      ]
    },
    {
      "cell_type": "markdown",
      "metadata": {
        "id": "-b0kXseShOh_"
      },
      "source": [
        "Landmark Routing  is a set of algorithms for routing \n",
        "in  communications networks of arbitrary  size.  Landmark \n",
        "Routing is based  on a  new type of hierarchy, the \n",
        "Landmark Hierarchy. The Landmark Hierarchy  exhibits \n",
        "path lengths and routing  table sizes similar  to those found \n",
        "in the traditional area or cluster hierarchy. The \n",
        "Landmark Hierarchy,  however,  is  easier to  dynamically configure  using  a distributed  algorithm. It  can therefore be  used  as  the  basis  for  algorithms that  dynamically configure  the hierarchy  on the fly,  thus allowing  for  very large, dynamic networks. This paper  describes  the Landmark Hierarchy,  analyzes it,  and compares it  with \n",
        "the area hierarchy."
      ]
    }
  ]
}