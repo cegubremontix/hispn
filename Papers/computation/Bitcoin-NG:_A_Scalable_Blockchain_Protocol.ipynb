{
  "nbformat": 4,
  "nbformat_minor": 0,
  "metadata": {
    "colab": {
      "name": "Bitcoin-NG: A Scalable Blockchain Protocol.ipynb",
      "provenance": [],
      "include_colab_link": true
    },
    "kernelspec": {
      "name": "python3",
      "display_name": "Python 3"
    },
    "language_info": {
      "name": "python"
    }
  },
  "cells": [
    {
      "cell_type": "markdown",
      "metadata": {
        "id": "view-in-github",
        "colab_type": "text"
      },
      "source": [
        "<a href=\"https://colab.research.google.com/github/dbremont/Notas/blob/main/Papers/Computacion/Bitcoin-NG%3A_A_Scalable_Blockchain_Protocol.ipynb\" target=\"_parent\"><img src=\"https://colab.research.google.com/assets/colab-badge.svg\" alt=\"Open In Colab\"/></a>"
      ]
    },
    {
      "cell_type": "markdown",
      "metadata": {
        "id": "4kht9ScIXawh"
      },
      "source": [
        "Cryptocurrencies, based on and led by Bitcoin, have\n",
        "shown promise as infrastructure for pseudonymous online payments, cheap remittance, trustless digital asset exchange, and smart contracts. However, Bitcoinderived blockchain protocols have inherent scalability\n",
        "limits that trade off between throughput and latency,\n",
        "which withhold the realization of this potential.\n",
        "This paper presents Bitcoin-NG (Next Generation), a\n",
        "new blockchain protocol designed to scale. Bitcoin-NG\n",
        "is a Byzantine fault tolerant blockchain protocol that is\n",
        "robust to extreme churn and shares the same trust model\n",
        "as Bitcoin.\n",
        "In addition to Bitcoin-NG, we introduce several novel\n",
        "metrics of interest in quantifying the security and efficiency of Bitcoin-like blockchain protocols. We implement Bitcoin-NG and perform large-scale experiments\n",
        "at 15% the size of the operational Bitcoin system, using unchanged clients of both protocols. These experiments demonstrate that Bitcoin-NG scales optimally,\n",
        "with bandwidth limited only by the capacity of the individual nodes and latency limited only by the propagation\n",
        "time of the network."
      ]
    }
  ]
}