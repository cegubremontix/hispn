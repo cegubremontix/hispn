{
  "nbformat": 4,
  "nbformat_minor": 0,
  "metadata": {
    "colab": {
      "name": "Using Crash Hoare Logic for Certifying the FSCQ File System.ipynb",
      "provenance": [],
      "include_colab_link": true
    },
    "kernelspec": {
      "name": "python3",
      "display_name": "Python 3"
    },
    "language_info": {
      "name": "python"
    }
  },
  "cells": [
    {
      "cell_type": "markdown",
      "metadata": {
        "id": "view-in-github",
        "colab_type": "text"
      },
      "source": [
        "<a href=\"https://colab.research.google.com/github/dbremont/Notas/blob/main/Papers/Computacion/Using_Crash_Hoare_Logic_for_Certifying_the_FSCQ_File_System.ipynb\" target=\"_parent\"><img src=\"https://colab.research.google.com/assets/colab-badge.svg\" alt=\"Open In Colab\"/></a>"
      ]
    },
    {
      "cell_type": "markdown",
      "metadata": {
        "id": "udtU26KmhR1e"
      },
      "source": [
        "FSCQ is the first file system with a machine-checkable proof\n",
        "(using the Coq proof assistant) that its implementation meets\n",
        "its specification and whose specification includes crashes.\n",
        "FSCQ provably avoids bugs that have plagued previous file\n",
        "systems, such as performing disk writes without sufficient\n",
        "barriers or forgetting to zero out directory blocks. If a crash\n",
        "happens at an inopportune time, these bugs can lead to data\n",
        "loss. FSCQ’s theorems prove that, under any sequence of\n",
        "crashes followed by reboots, FSCQ will recover the file system correctly without losing data.\n",
        "\n",
        "To state FSCQ’s theorems, this paper introduces the Crash\n",
        "Hoare logic (CHL), which extends traditional Hoare logic with\n",
        "a crash condition, a recovery procedure, and logical address\n",
        "spaces for specifying disk states at different abstraction levels.\n",
        "CHL also reduces the proof effort for developers through\n",
        "proof automation. Using CHL, we developed, specified, and\n",
        "proved the correctness of the FSCQ file system. Although\n",
        "FSCQ’s design is relatively simple, experiments with FSCQ\n",
        "running as a user-level file system show that it is sufficient\n",
        "to run Unix applications with usable performance. FSCQ’s\n",
        "specifications and proofs required significantly more work\n",
        "than the implementation, but the work was manageable even\n",
        "for a small team of a few researchers."
      ]
    }
  ]
}