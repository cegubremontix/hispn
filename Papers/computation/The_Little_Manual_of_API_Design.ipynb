{
  "nbformat": 4,
  "nbformat_minor": 0,
  "metadata": {
    "kernelspec": {
      "display_name": "Python 2.7.18 64-bit",
      "name": "python2718jvsc74a57bd0f92b2924b84ff19c1c3dc485f7644d4486f64738191026bf8e6de303969141b5"
    },
    "language_info": {
      "name": "python",
      "version": ""
    },
    "metadata": {
      "interpreter": {
        "hash": "f92b2924b84ff19c1c3dc485f7644d4486f64738191026bf8e6de303969141b5"
      }
    },
    "orig_nbformat": 2,
    "colab": {
      "name": "The Little Manual of API Design.ipynb",
      "provenance": [],
      "include_colab_link": true
    }
  },
  "cells": [
    {
      "cell_type": "markdown",
      "metadata": {
        "id": "view-in-github",
        "colab_type": "text"
      },
      "source": [
        "<a href=\"https://colab.research.google.com/github/dbremont/Notas/blob/main/Papers/Computacion/The_Little_Manual_of_API_Design.ipynb\" target=\"_parent\"><img src=\"https://colab.research.google.com/assets/colab-badge.svg\" alt=\"Open In Colab\"/></a>"
      ]
    },
    {
      "cell_type": "markdown",
      "metadata": {
        "id": "sg8fMFe9qkhX"
      },
      "source": [
        "The Little Manual of API Design"
      ]
    },
    {
      "cell_type": "markdown",
      "metadata": {
        "id": "fyr9z66szFQe"
      },
      "source": [
        "## Introduction"
      ]
    },
    {
      "cell_type": "markdown",
      "metadata": {
        "id": "3o_90o0tzINB"
      },
      "source": [
        "## Characteristics of Good APIs"
      ]
    },
    {
      "cell_type": "markdown",
      "metadata": {
        "id": "oX185c7vzLHq"
      },
      "source": [
        "2.1 Easy to learn and memorize\n",
        "\n",
        "2.2 Leads to readable code\n",
        "\n",
        "2.3 Hard to misuse\n",
        "\n",
        "2.4 Easy to extend\n",
        "\n",
        "2.5 Complete"
      ]
    },
    {
      "cell_type": "markdown",
      "metadata": {
        "id": "19YJmPRzzTJY"
      },
      "source": [
        "## The Design Process"
      ]
    },
    {
      "cell_type": "markdown",
      "metadata": {
        "id": "0JPdZxpgzUKB"
      },
      "source": [
        "3.1 Know the requirements\n",
        "\n",
        "3.2 Write use cases before you write any other code\n",
        "\n",
        "3.3 Look for similar APIs in the same library\n",
        "\n",
        "3.4 Define the API before you implement it\n",
        "\n",
        "3.5 Have your peers review your API\n",
        "\n",
        "3.6 Write several examples against the API\n",
        "\n",
        "3.7 Prepare for extensions\n",
        "\n",
        "3.8 Don’t publish internal APIs without review\n",
        "\n",
        "3.9 When in doubt, leave it out"
      ]
    },
    {
      "cell_type": "markdown",
      "metadata": {
        "id": "4sYEHTELzgFW"
      },
      "source": [
        "## Design Guidelines"
      ]
    },
    {
      "cell_type": "markdown",
      "metadata": {
        "id": "y46UU8PkzAEg"
      },
      "source": [
        "4.1 Choose self-explanatory names and signatures\n",
        "\n",
        "4.2 Choose unambiguous names for related things\n",
        "\n",
        "4 .3 Beware of false consistency\n",
        "\n",
        "4.4 Avoid abbreviations\n",
        "\n",
        "4.5 Prefer specific names to general names\n",
        "\n",
        "4.6 Don’t be a slave of an underlying API’s naming practices\n",
        "\n",
        "4.7 Choose good defaults\n",
        "\n",
        "4.8 Avoid making your APIs overly clever\n",
        "\n",
        "4.9 Pay attention to edge cases\n",
        "\n",
        "4.10 Be careful when defining virtual APIs \n",
        "\n",
        "4.11 Strive for property-based APIs"
      ]
    }
  ]
}