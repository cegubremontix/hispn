{
  "nbformat": 4,
  "nbformat_minor": 0,
  "metadata": {
    "colab": {
      "name": "A History and Evaluation of System R.ipynb",
      "provenance": [],
      "include_colab_link": true
    },
    "kernelspec": {
      "name": "python3",
      "display_name": "Python 3"
    },
    "language_info": {
      "name": "python"
    }
  },
  "cells": [
    {
      "cell_type": "markdown",
      "metadata": {
        "id": "view-in-github",
        "colab_type": "text"
      },
      "source": [
        "<a href=\"https://colab.research.google.com/github/dbremont/Notas/blob/main/Papers/Computacion/A_History_and_Evaluation_of_System_R.ipynb\" target=\"_parent\"><img src=\"https://colab.research.google.com/assets/colab-badge.svg\" alt=\"Open In Colab\"/></a>"
      ]
    },
    {
      "cell_type": "markdown",
      "metadata": {
        "id": "KwyaeJYyoZ3Y"
      },
      "source": [
        "SUMMARY: System R, an experimental database system, \n",
        "was constructed  to demonstrate  that the usability advantages \n",
        "of  the  relational  data  model  can  be  realized  in  a  system  with \n",
        "the  complete function and high performance required for \n",
        "everyday production use. This paper  describes  the three \n",
        "principal  phases of the System  R project and  discusses some \n",
        "of  the  lessons  learned  from  System  R  about  the  design  of \n",
        "relational  systems and  database  systems in  general."
      ]
    }
  ]
}