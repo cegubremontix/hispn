{
  "nbformat": 4,
  "nbformat_minor": 0,
  "metadata": {
    "colab": {
      "name": "XFS: the big storage file system for Linux.ipynb",
      "provenance": [],
      "include_colab_link": true
    },
    "kernelspec": {
      "name": "python3",
      "display_name": "Python 3"
    },
    "language_info": {
      "name": "python"
    }
  },
  "cells": [
    {
      "cell_type": "markdown",
      "metadata": {
        "id": "view-in-github",
        "colab_type": "text"
      },
      "source": [
        "<a href=\"https://colab.research.google.com/github/dbremont/Notas/blob/main/Papers/Computacion/XFS%3A_the_big_storage_file_system_for_Linux.ipynb\" target=\"_parent\"><img src=\"https://colab.research.google.com/assets/colab-badge.svg\" alt=\"Open In Colab\"/></a>"
      ]
    },
    {
      "cell_type": "markdown",
      "metadata": {
        "id": "eFM8zhaSL7Bm"
      },
      "source": [
        "file system that was de-signed from day one for computer systems\n",
        "with large numbers of CPUs and large disk arrays. It focuses on supporting large files and good streaming I/O performance.\n",
        "\n",
        "It also has some interesting administrative features not supported by other Linux file systems. \n",
        "\n",
        "This article gives some background information on why XFS was created and how it\n",
        "differs from the familiar Linux file systems. \n",
        "\n",
        "You may discover that XFS is just what your project needs instead of making do with the default Linux file system. "
      ]
    }
  ]
}