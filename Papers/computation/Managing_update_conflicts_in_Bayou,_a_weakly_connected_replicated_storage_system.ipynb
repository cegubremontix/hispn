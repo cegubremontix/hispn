{
  "nbformat": 4,
  "nbformat_minor": 0,
  "metadata": {
    "colab": {
      "name": "Managing update conflicts in Bayou, a weakly connected replicated storage system.ipynb",
      "provenance": [],
      "include_colab_link": true
    },
    "kernelspec": {
      "name": "python3",
      "display_name": "Python 3"
    },
    "language_info": {
      "name": "python"
    }
  },
  "cells": [
    {
      "cell_type": "markdown",
      "metadata": {
        "id": "view-in-github",
        "colab_type": "text"
      },
      "source": [
        "<a href=\"https://colab.research.google.com/github/dbremont/Notas/blob/main/Papers/Computacion/Managing_update_conflicts_in_Bayou%2C_a_weakly_connected_replicated_storage_system.ipynb\" target=\"_parent\"><img src=\"https://colab.research.google.com/assets/colab-badge.svg\" alt=\"Open In Colab\"/></a>"
      ]
    },
    {
      "cell_type": "markdown",
      "metadata": {
        "id": "81n66u8TbicB"
      },
      "source": [
        "Bayou is a replicated, weakly consmtent storage system\n",
        "designed for a mobile computing environment that includes porta-\n",
        "ble machines with less than ideal network connectivity. To maxi-\n",
        "mize availabdity, users can read and write any accessible replica.\n",
        "Bayou’s design has focused on supporting apphcation-specific\n",
        "mechanisms to detect and resolve the update conflicts that natu-\n",
        "rally arise in such a system, ensuring that replicas move towards\n",
        "eventual consistency, and defining a protocol by which the resolu-\n",
        "tion of update conflicts stabilizes, It includes novel methods for\n",
        "confhct detection, called dependency checks, and per-write con-\n",
        "flict resolution based on client-provided merge procedures. To\n",
        "guarantee eventual consistency, Bayou servers must be able to roll-\n",
        "back the effects of previously executed writes and redo them\n",
        "according to a global serialization order. Furthermore, Bayou per-\n",
        "mits clients to observe the results of all writes received by a server,\n",
        "mchrding tentative writes whose conflicts have not been ultimately\n",
        "resolved. This paper presents the motivation for and design of\n",
        "these mechanisms and describes the experiences gained with an\n",
        "initial implementation of the system."
      ]
    }
  ]
}