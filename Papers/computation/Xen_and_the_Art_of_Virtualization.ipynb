{
  "nbformat": 4,
  "nbformat_minor": 0,
  "metadata": {
    "colab": {
      "name": "Xen and the Art of Virtualization.ipynb",
      "provenance": [],
      "include_colab_link": true
    },
    "kernelspec": {
      "name": "python3",
      "display_name": "Python 3"
    },
    "language_info": {
      "name": "python"
    }
  },
  "cells": [
    {
      "cell_type": "markdown",
      "metadata": {
        "id": "view-in-github",
        "colab_type": "text"
      },
      "source": [
        "<a href=\"https://colab.research.google.com/github/dbremont/Notas/blob/main/Papers/Computacion/Xen_and_the_Art_of_Virtualization.ipynb\" target=\"_parent\"><img src=\"https://colab.research.google.com/assets/colab-badge.svg\" alt=\"Open In Colab\"/></a>"
      ]
    },
    {
      "cell_type": "markdown",
      "metadata": {
        "id": "KKzjwg5yWGIU"
      },
      "source": [
        "Numerous systems have been designed which use virtualization to\n",
        "subdivide the ample resources of a modern computer. Some require\n",
        "specialized hardware, or cannot support commodity operating systems. Some target 100% binary compatibility at the expense of\n",
        "performance. Others sacrifice security or functionality for speed.\n",
        "Few offer resource isolation or performance guarantees; most provide only best-effort provisioning, risking denial of service"
      ]
    },
    {
      "cell_type": "markdown",
      "metadata": {
        "id": "C0dUiqBGWGi5"
      },
      "source": [
        "This paper presents Xen, an x86 virtual machine monitor which\n",
        "allows multiple commodity operating systemsto share conventional\n",
        "hardware in a safe and resource managed fashion, but without sacrificing either performance or functionality. This is achieved by\n",
        "providing an idealized virtual machine abstraction to which operating systems such as Linux, BSD and Windows XP, can be ported\n",
        "with minimal effort."
      ]
    },
    {
      "cell_type": "markdown",
      "metadata": {
        "id": "s1zoWuf3WIFt"
      },
      "source": [
        "Our design is targeted at hosting up to 100 virtual machine instances simultaneously on a modern server. The virtualization approach taken by Xen is extremely efficient: we allow operating systems such as Linux and Windows XP to be hosted simultaneously\n",
        "for a negligible performance overhead — at most a few percent\n",
        "compared with the unvirtualized case. We considerably outperform\n",
        "competing commercial and freely available solutions in a range of\n",
        "microbenchmarks and system-wide tests."
      ]
    }
  ]
}