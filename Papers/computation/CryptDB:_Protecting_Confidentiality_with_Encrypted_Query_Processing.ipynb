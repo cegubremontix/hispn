{
  "nbformat": 4,
  "nbformat_minor": 0,
  "metadata": {
    "colab": {
      "name": "CryptDB: Protecting Confidentiality with Encrypted Query Processing.ipynb",
      "provenance": [],
      "include_colab_link": true
    },
    "kernelspec": {
      "name": "python3",
      "display_name": "Python 3"
    },
    "language_info": {
      "name": "python"
    }
  },
  "cells": [
    {
      "cell_type": "markdown",
      "metadata": {
        "id": "view-in-github",
        "colab_type": "text"
      },
      "source": [
        "<a href=\"https://colab.research.google.com/github/dbremont/Notas/blob/main/Papers/Computacion/CryptDB%3A_Protecting_Confidentiality_with_Encrypted_Query_Processing.ipynb\" target=\"_parent\"><img src=\"https://colab.research.google.com/assets/colab-badge.svg\" alt=\"Open In Colab\"/></a>"
      ]
    },
    {
      "cell_type": "markdown",
      "metadata": {
        "id": "pL8qA1dUxa3d"
      },
      "source": [
        "This paper describes the system architecture of the Vertica Analytic Database (Vertica), a commercialization of the\n",
        "design of the C-Store research prototype. Vertica demonstrates a modern commercial RDBMS system that presents\n",
        "a classical relational interface while at the same time achieving the high performance expected from modern “web scale”\n",
        "analytic systems by making appropriate architectural choices.\n",
        "Vertica is also an instructive lesson in how academic systems\n",
        "research c"
      ]
    }
  ]
}