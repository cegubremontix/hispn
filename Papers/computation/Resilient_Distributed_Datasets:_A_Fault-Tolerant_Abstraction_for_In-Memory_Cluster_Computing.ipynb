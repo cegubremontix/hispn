{
  "nbformat": 4,
  "nbformat_minor": 0,
  "metadata": {
    "colab": {
      "name": "Resilient Distributed Datasets: A Fault-Tolerant Abstraction for In-Memory Cluster Computing.ipynb",
      "provenance": [],
      "include_colab_link": true
    },
    "kernelspec": {
      "name": "python3",
      "display_name": "Python 3"
    },
    "language_info": {
      "name": "python"
    }
  },
  "cells": [
    {
      "cell_type": "markdown",
      "metadata": {
        "id": "view-in-github",
        "colab_type": "text"
      },
      "source": [
        "<a href=\"https://colab.research.google.com/github/dbremont/Notas/blob/main/Papers/Computacion/Resilient_Distributed_Datasets%3A_A_Fault-Tolerant_Abstraction_for_In-Memory_Cluster_Computing.ipynb\" target=\"_parent\"><img src=\"https://colab.research.google.com/assets/colab-badge.svg\" alt=\"Open In Colab\"/></a>"
      ]
    },
    {
      "cell_type": "markdown",
      "metadata": {
        "id": "zfMMdC3TnF8H"
      },
      "source": [
        "We present Resilient Distributed Datasets (RDDs), a dis-\n",
        "tributed memory abstraction that lets programmers per-\n",
        "form in-memory computations on large clusters in a\n",
        "fault-tolerant manner. RDDs are motivated by two types\n",
        "of applications that current computing frameworks han-\n",
        "dle inefficiently: iterative algorithms and interactive data\n",
        "mining tools. In both cases, keeping data in memory\n",
        "can improve performance by an order of magnitude.\n",
        "To achieve fault tolerance efficiently, RDDs provide a\n",
        "restricted form of shared memory, based on coarse-\n",
        "grained transformations rather than fine-grained updates\n",
        "to shared state. However, we show that RDDs are expres-\n",
        "sive enough to capture a wide class of computations, in-\n",
        "cluding recent specialized programming models for iter-\n",
        "ative jobs, such as Pregel, and new applications that these\n",
        "models do not capture. We have implemented RDDs in a\n",
        "system called Spark, which we evaluate through a variety\n",
        "of user applications and benchmarks."
      ]
    }
  ]
}