{
  "nbformat": 4,
  "nbformat_minor": 0,
  "metadata": {
    "colab": {
      "name": "Resilient Overlay Networks.ipynb",
      "provenance": [],
      "include_colab_link": true
    },
    "kernelspec": {
      "name": "python3",
      "display_name": "Python 3"
    },
    "language_info": {
      "name": "python"
    }
  },
  "cells": [
    {
      "cell_type": "markdown",
      "metadata": {
        "id": "view-in-github",
        "colab_type": "text"
      },
      "source": [
        "<a href=\"https://colab.research.google.com/github/dbremont/Notas/blob/main/Papers/Computacion/Resilient_Overlay_Networks.ipynb\" target=\"_parent\"><img src=\"https://colab.research.google.com/assets/colab-badge.svg\" alt=\"Open In Colab\"/></a>"
      ]
    },
    {
      "cell_type": "markdown",
      "metadata": {
        "id": "nNb9kTPnnpyg"
      },
      "source": [
        "A Resilient Overlay Network (RON) is an architecture that allows\n",
        "distributed Internet applications to detect and recover from path\n",
        "outages and periods of degraded performance within several sec-\n",
        "onds, improving over today’s wide-area routing protocols that take\n",
        "at least several minutes to recover. A RON is an application-layer\n",
        "overlay on top of the existing Internet routing substrate. The RON\n",
        "nodes monitor the functioning and quality of the Internet paths\n",
        "among themselves, and use this information to decide whether to\n",
        "route packets directly over the Internet or by way of other RON\n",
        "nodes, optimizing application-specific routing metrics.\n",
        "Results from two sets of measurements of a working RON de-\n",
        "ployed at sites scattered across the Internet demonstrate the benefits\n",
        "of our architecture. For instance, over a 64-hour sampling period in\n",
        "March 2001 across a twelve-node RON, there were 32 significant\n",
        "outages, each lasting over thirty minutes, over the 132 measured\n",
        "paths. RON’s routing mechanism was able to detect, recover, and\n",
        "route around all of them, in less than twenty seconds on average,\n",
        "showing that its methods for fault detection and recovery work well\n",
        "at discovering alternate paths in the Internet. Furthermore, RON\n",
        "was able to improve the loss rate, latency, or throughput perceived\n",
        "by data transfers; for example, about 5% of the transfers doubled\n",
        "their TCP throughput and 5% of our transfers saw their loss prob-\n",
        "ability reduced by 0.05. We found that forwarding packets via at\n",
        "most one intermediate RON node is sufficient to overcome faults\n",
        "and improve performance in most cases. These improvements, par-\n",
        "ticularly in the area of fault detection and recovery, demonstrate the\n",
        "benefits of moving some of the control over routing into the hands\n",
        "of end-systems"
      ]
    }
  ]
}