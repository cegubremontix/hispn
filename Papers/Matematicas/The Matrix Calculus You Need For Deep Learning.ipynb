{
 "cells": [
  {
   "cell_type": "markdown",
   "metadata": {},
   "source": [
    "1. Introduction\n",
    "2. Review: Scalar derivative rules\n",
    "3. Introduction to vector calculus and partial derivatives\n",
    "4. Matrix calculus\n",
    "5. The gradient of a neuron activation\n",
    "6. The gradient of a neural network loss function\n",
    "7. Summary\n",
    "8. Matrix Calculus Reference\n",
    " - Gradients and Jacobians\n",
    " - Element-wise operations on vectors\n",
    " - Scalar expansion\n",
    " - Vector reductions\n",
    " - Chain rules\n",
    "\n"
   ]
  }
 ],
 "metadata": {
  "kernelspec": {
   "display_name": "Python 2.7.18 64-bit",
   "name": "python2718jvsc74a57bd0f92b2924b84ff19c1c3dc485f7644d4486f64738191026bf8e6de303969141b5"
  },
  "language_info": {
   "name": "python",
   "version": ""
  },
  "metadata": {
   "interpreter": {
    "hash": "f92b2924b84ff19c1c3dc485f7644d4486f64738191026bf8e6de303969141b5"
   }
  },
  "orig_nbformat": 2
 },
 "nbformat": 4,
 "nbformat_minor": 2
}