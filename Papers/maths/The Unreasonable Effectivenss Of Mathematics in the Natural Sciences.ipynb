{
 "cells": [
  {
   "cell_type": "markdown",
   "metadata": {},
   "source": [
    "The Unreasonable Effectivenss Of Mathematics in the Natural Sciences"
   ]
  },
  {
   "cell_type": "markdown",
   "metadata": {},
   "source": [
    "* (D) [The Unreasonable Effectivenss Of Mathematics in the Natural Sciences](http://0.0.0.0:8000/1%20Matematicas/Papers/The%20Unreasonable%20Effectivenss%20Of%20Mathematics%20in%20the%20Natural%20Sciences.pdf)"
   ]
  }
 ],
 "metadata": {
  "kernelspec": {
   "display_name": "Python 2.7.18 64-bit",
   "name": "python2718jvsc74a57bd0f92b2924b84ff19c1c3dc485f7644d4486f64738191026bf8e6de303969141b5"
  },
  "language_info": {
   "name": "python",
   "version": ""
  },
  "metadata": {
   "interpreter": {
    "hash": "f92b2924b84ff19c1c3dc485f7644d4486f64738191026bf8e6de303969141b5"
   }
  },
  "orig_nbformat": 2
 },
 "nbformat": 4,
 "nbformat_minor": 2
}