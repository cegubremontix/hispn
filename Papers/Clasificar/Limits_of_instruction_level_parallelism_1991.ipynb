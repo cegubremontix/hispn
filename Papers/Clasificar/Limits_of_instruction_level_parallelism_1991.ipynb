{
    "nbformat": 4,
    "nbformat_minor": 0,
    "metadata": {
        "colab": {
            "name":"Limits of instruction-level parallelism(1991.ipynb",
            "provenance": [],
            "authorship_tag": "ABX9TyOF9UT4S4S5I69TKWt/9f3N",
            "include_colab_link": true
        },
        "kernelspec": {
            "name": "python3",
            "display_name": "Python 3"
        },
        "language_info": {
            "name": "python"
        }
    },
    "cells": [
        {
            "cell_type": "markdown",
            "metadata": {
                "id": "view-in-github",
                "colab_type": "text"
            },
            "source": ["<a href=\"https://colab.research.google.com/github/dbremont/Notas/blob/main/Papers/{TYPE}/Limits_of_instruction_level_parallelism_1991	.ipynb\" target=\"_parent\"><img src=\"https://colab.research.google.com/assets/colab-badge.svg\" alt=\"Open In Colab\"/></a>"
           ]
        },
        {
            "cell_type": "markdown",
            "source": ["[Limits of instruction-level parallelism(1991](https://www.hpl.hp.com/techreports/Compaq-DEC/WRL-93-6.pdf)"
            ],
            "metadata": {
                "id": "gv-C86PLYaHi"
            }
        }
    ]
}
