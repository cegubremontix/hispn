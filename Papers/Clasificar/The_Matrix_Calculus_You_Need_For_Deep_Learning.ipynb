{
    "nbformat": 4,
    "nbformat_minor": 0,
    "metadata": {
        "colab": {
            "name":"The Matrix Calculus You Need For Deep Learning.ipynb",
            "provenance": [],
            "authorship_tag": "ABX9TyOF9UT4S4S5I69TKWt/9f3N",
            "include_colab_link": true
        },
        "kernelspec": {
            "name": "python3",
            "display_name": "Python 3"
        },
        "language_info": {
            "name": "python"
        }
    },
    "cells": [
        {
            "cell_type": "markdown",
            "metadata": {
                "id": "view-in-github",
                "colab_type": "text"
            },
            "source": ["<a href=\"https://colab.research.google.com/github/dbremont/Notas/blob/main/Papers/{TYPE}/The_Matrix_Calculus_You_Need_For_Deep_Learning	.ipynb\" target=\"_parent\"><img src=\"https://colab.research.google.com/assets/colab-badge.svg\" alt=\"Open In Colab\"/></a>"
           ]
        },
        {
            "cell_type": "markdown",
            "source": ["[The Matrix Calculus You Need For Deep Learning](https://arxiv.org/pdf/1802.01528.pdf)"
            ],
            "metadata": {
                "id": "gv-C86PLYaHi"
            }
        }
    ]
}
