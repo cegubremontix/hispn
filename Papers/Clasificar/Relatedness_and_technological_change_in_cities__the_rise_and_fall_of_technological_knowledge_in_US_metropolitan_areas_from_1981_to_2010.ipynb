{
    "nbformat": 4,
    "nbformat_minor": 0,
    "metadata": {
        "colab": {
            "name":"Relatedness and technological change in cities: the rise and fall of technological knowledge in US metropolitan areas from 1981 to 2010.ipynb",
            "provenance": [],
            "authorship_tag": "ABX9TyOF9UT4S4S5I69TKWt/9f3N",
            "include_colab_link": true
        },
        "kernelspec": {
            "name": "python3",
            "display_name": "Python 3"
        },
        "language_info": {
            "name": "python"
        }
    },
    "cells": [
        {
            "cell_type": "markdown",
            "metadata": {
                "id": "view-in-github",
                "colab_type": "text"
            },
            "source": ["<a href=\"https://colab.research.google.com/github/dbremont/Notas/blob/main/Papers/{TYPE}/Relatedness_and_technological_change_in_cities__the_rise_and_fall_of_technological_knowledge_in_US_metropolitan_areas_from_1981_to_2010	.ipynb\" target=\"_parent\"><img src=\"https://colab.research.google.com/assets/colab-badge.svg\" alt=\"Open In Colab\"/></a>"
           ]
        },
        {
            "cell_type": "markdown",
            "source": ["[Relatedness and technological change in cities: the rise and fall of technological knowledge in US metropolitan areas from 1981 to 2010](Relatedness)"
            ],
            "metadata": {
                "id": "gv-C86PLYaHi"
            }
        }
    ]
}
{
    "nbformat": 4,
    "nbformat_minor": 0,
    "metadata": {
        "colab": {
            "name":"Relatedness and technological change in cities: the rise and fall of technological knowledge in US metropolitan areas from 1981 to 2010.ipynb",
            "provenance": [],
            "authorship_tag": "ABX9TyOF9UT4S4S5I69TKWt/9f3N",
            "include_colab_link": true
        },
        "kernelspec": {
            "name": "python3",
            "display_name": "Python 3"
        },
        "language_info": {
            "name": "python"
        }
    },
    "cells": [
        {
            "cell_type": "markdown",
            "metadata": {
                "id": "view-in-github",
                "colab_type": "text"
            },
            "source": ["<a href=\"https://colab.research.google.com/github/dbremont/Notas/blob/main/Papers/{TYPE}/Relatedness_and_technological_change_in_cities__the_rise_and_fall_of_technological_knowledge_in_US_metropolitan_areas_from_1981_to_2010	.ipynb\" target=\"_parent\"><img src=\"https://colab.research.google.com/assets/colab-badge.svg\" alt=\"Open In Colab\"/></a>"
           ]
        },
        {
            "cell_type": "markdown",
            "source": ["[Relatedness and technological change in cities: the rise and fall of technological knowledge in US metropolitan areas from 1981 to 2010]()"
            ],
            "metadata": {
                "id": "gv-C86PLYaHi"
            }
        }
    ]
}
