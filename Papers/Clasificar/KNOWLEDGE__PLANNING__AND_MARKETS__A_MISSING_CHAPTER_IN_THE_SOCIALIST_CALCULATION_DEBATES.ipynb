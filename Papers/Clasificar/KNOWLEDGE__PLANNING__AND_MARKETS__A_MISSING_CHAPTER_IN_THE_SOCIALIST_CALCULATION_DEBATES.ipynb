{
    "nbformat": 4,
    "nbformat_minor": 0,
    "metadata": {
        "colab": {
            "name":"KNOWLEDGE, PLANNING, AND MARKETS: A MISSING CHAPTER IN THE SOCIALIST CALCULATION DEBATES.ipynb",
            "provenance": [],
            "authorship_tag": "ABX9TyOF9UT4S4S5I69TKWt/9f3N",
            "include_colab_link": true
        },
        "kernelspec": {
            "name": "python3",
            "display_name": "Python 3"
        },
        "language_info": {
            "name": "python"
        }
    },
    "cells": [
        {
            "cell_type": "markdown",
            "metadata": {
                "id": "view-in-github",
                "colab_type": "text"
            },
            "source": ["<a href=\"https://colab.research.google.com/github/dbremont/Notas/blob/main/Papers/{TYPE}/KNOWLEDGE__PLANNING__AND_MARKETS__A_MISSING_CHAPTER_IN_THE_SOCIALIST_CALCULATION_DEBATES	.ipynb\" target=\"_parent\"><img src=\"https://colab.research.google.com/assets/colab-badge.svg\" alt=\"Open In Colab\"/></a>"
           ]
        },
        {
            "cell_type": "markdown",
            "source": ["[KNOWLEDGE, PLANNING, AND MARKETS: A MISSING CHAPTER IN THE SOCIALIST CALCULATION DEBATES](https://www.cambridge.org/core/journals/economics-and-philosophy/article/abs/knowledge-planning-and-markets-a-missing-chapter-in-the-socialist-calculation-debates/DC80420BB1ED40E7B99E13DD8E31B425)"
            ],
            "metadata": {
                "id": "gv-C86PLYaHi"
            }
        }
    ]
}
