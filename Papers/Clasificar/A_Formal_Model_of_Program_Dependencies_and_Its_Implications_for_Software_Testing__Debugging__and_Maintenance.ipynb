{
    "nbformat": 4,
    "nbformat_minor": 0,
    "metadata": {
        "colab": {
            "name":"A Formal Model of Program Dependencies and Its Implications for Software Testing, Debugging, and Maintenance.ipynb",
            "provenance": [],
            "authorship_tag": "ABX9TyOF9UT4S4S5I69TKWt/9f3N",
            "include_colab_link": true
        },
        "kernelspec": {
            "name": "python3",
            "display_name": "Python 3"
        },
        "language_info": {
            "name": "python"
        }
    },
    "cells": [
        {
            "cell_type": "markdown",
            "metadata": {
                "id": "view-in-github",
                "colab_type": "text"
            },
            "source": ["<a href=\"https://colab.research.google.com/github/dbremont/Notas/blob/main/Papers/{TYPE}/A_Formal_Model_of_Program_Dependencies_and_Its_Implications_for_Software_Testing__Debugging__and_Maintenance	.ipynb\" target=\"_parent\"><img src=\"https://colab.research.google.com/assets/colab-badge.svg\" alt=\"Open In Colab\"/></a>"
           ]
        },
        {
            "cell_type": "markdown",
            "source": ["[A Formal Model of Program Dependencies and Its Implications for Software Testing, Debugging, and Maintenance](http://laser.cs.umass.edu/techreports/89-116.pdf)"
            ],
            "metadata": {
                "id": "gv-C86PLYaHi"
            }
        }
    ]
}
