{
    "nbformat": 4,
    "nbformat_minor": 0,
    "metadata": {
        "colab": {
            "name":"A Type System for SmalTalk.ipynb",
            "provenance": [],
            "authorship_tag": "ABX9TyOF9UT4S4S5I69TKWt/9f3N",
            "include_colab_link": true
        },
        "kernelspec": {
            "name": "python3",
            "display_name": "Python 3"
        },
        "language_info": {
            "name": "python"
        }
    },
    "cells": [
        {
            "cell_type": "markdown",
            "metadata": {
                "id": "view-in-github",
                "colab_type": "text"
            },
            "source": ["<a href=\"https://colab.research.google.com/github/dbremont/Notas/blob/main/Papers/{TYPE}/A_Type_System_for_SmalTalk	.ipynb\" target=\"_parent\"><img src=\"https://colab.research.google.com/assets/colab-badge.svg\" alt=\"Open In Colab\"/></a>"
           ]
        },
        {
            "cell_type": "markdown",
            "source": ["[A Type System for SmalTalk](https://www.cs.tufts.edu/~nr/cs257/archive/ralph-johnson/typed-smalltalk-popl.pdf)"
            ],
            "metadata": {
                "id": "gv-C86PLYaHi"
            }
        }
    ]
}
