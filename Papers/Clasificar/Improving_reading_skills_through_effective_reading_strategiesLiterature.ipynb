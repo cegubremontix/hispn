{
    "nbformat": 4,
    "nbformat_minor": 0,
    "metadata": {
        "colab": {
            "name":"Improving reading skills through effective reading strategiesLiterature.ipynb",
            "provenance": [],
            "authorship_tag": "ABX9TyOF9UT4S4S5I69TKWt/9f3N",
            "include_colab_link": true
        },
        "kernelspec": {
            "name": "python3",
            "display_name": "Python 3"
        },
        "language_info": {
            "name": "python"
        }
    },
    "cells": [
        {
            "cell_type": "markdown",
            "metadata": {
                "id": "view-in-github",
                "colab_type": "text"
            },
            "source": ["<a href=\"https://colab.research.google.com/github/dbremont/Notas/blob/main/Papers/{TYPE}/Improving_reading_skills_through_effective_reading_strategiesLiterature	.ipynb\" target=\"_parent\"><img src=\"https://colab.research.google.com/assets/colab-badge.svg\" alt=\"Open In Colab\"/></a>"
           ]
        },
        {
            "cell_type": "markdown",
            "source": ["[Improving reading skills through effective reading strategiesLiterature](https://reader.elsevier.com/reader/sd/pii/S1877042813001146?token=6D75E5E5A611D607E6F5DFBB1EC226FAA417EBF9F9F4ABB3B0B7F1416D4299535EC7879D1D32B230A5BD4B4C8040F0EA&originRegion=us-east-1&originCreation=20220221100222)"
            ],
            "metadata": {
                "id": "gv-C86PLYaHi"
            }
        }
    ]
}
