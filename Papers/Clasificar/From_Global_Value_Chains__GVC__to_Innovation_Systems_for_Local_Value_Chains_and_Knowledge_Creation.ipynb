{
    "nbformat": 4,
    "nbformat_minor": 0,
    "metadata": {
        "colab": {
            "name":"From Global Value Chains (GVC) to Innovation Systems for Local Value Chains and Knowledge Creation.ipynb",
            "provenance": [],
            "authorship_tag": "ABX9TyOF9UT4S4S5I69TKWt/9f3N",
            "include_colab_link": true
        },
        "kernelspec": {
            "name": "python3",
            "display_name": "Python 3"
        },
        "language_info": {
            "name": "python"
        }
    },
    "cells": [
        {
            "cell_type": "markdown",
            "metadata": {
                "id": "view-in-github",
                "colab_type": "text"
            },
            "source": ["<a href=\"https://colab.research.google.com/github/dbremont/Notas/blob/main/Papers/{TYPE}/From_Global_Value_Chains__GVC__to_Innovation_Systems_for_Local_Value_Chains_and_Knowledge_Creation	.ipynb\" target=\"_parent\"><img src=\"https://colab.research.google.com/assets/colab-badge.svg\" alt=\"Open In Colab\"/></a>"
           ]
        },
        {
            "cell_type": "markdown",
            "source": ["[From Global Value Chains (GVC) to Innovation Systems for Local Value Chains and Knowledge Creation]()"
            ],
            "metadata": {
                "id": "gv-C86PLYaHi"
            }
        }
    ]
}
