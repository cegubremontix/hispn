{
    "nbformat": 4,
    "nbformat_minor": 0,
    "metadata": {
        "colab": {
            "name":"China's Rapid Rise - From Backward Agrarian Society to Industrial Powerhouse in Just 35 Years.ipynb",
            "provenance": [],
            "authorship_tag": "ABX9TyOF9UT4S4S5I69TKWt/9f3N",
            "include_colab_link": true
        },
        "kernelspec": {
            "name": "python3",
            "display_name": "Python 3"
        },
        "language_info": {
            "name": "python"
        }
    },
    "cells": [
        {
            "cell_type": "markdown",
            "metadata": {
                "id": "view-in-github",
                "colab_type": "text"
            },
            "source": ["<a href=\"https://colab.research.google.com/github/dbremont/Notas/blob/main/Papers/{TYPE}/China_s_Rapid_Rise___From_Backward_Agrarian_Society_to_Industrial_Powerhouse_in_Just_35_Years	.ipynb\" target=\"_parent\"><img src=\"https://colab.research.google.com/assets/colab-badge.svg\" alt=\"Open In Colab\"/></a>"
           ]
        },
        {
            "cell_type": "markdown",
            "source": ["[China's Rapid Rise - From Backward Agrarian Society to Industrial Powerhouse in Just 35 Years](http://0.0.0.0:8000/6%20Otros/Papers/China%27s%20Rapid%20Rise%20-%20From%20Backward%20Agrarian%20Society%20to%20Industrial%20Powerhouse%20in%20Just%2035%20Years.pdf)"
            ],
            "metadata": {
                "id": "gv-C86PLYaHi"
            }
        }
    ]
}
