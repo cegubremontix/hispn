{
    "nbformat": 4,
    "nbformat_minor": 0,
    "metadata": {
        "colab": {
            "name":"The Paradox of Civilization: Preinstitutional Sources of Security and Prosperity.ipynb",
            "provenance": [],
            "authorship_tag": "ABX9TyOF9UT4S4S5I69TKWt/9f3N",
            "include_colab_link": true
        },
        "kernelspec": {
            "name": "python3",
            "display_name": "Python 3"
        },
        "language_info": {
            "name": "python"
        }
    },
    "cells": [
        {
            "cell_type": "markdown",
            "metadata": {
                "id": "view-in-github",
                "colab_type": "text"
            },
            "source": ["<a href=\"https://colab.research.google.com/github/dbremont/Notas/blob/main/Papers/{TYPE}/The_Paradox_of_Civilization__Preinstitutional_Sources_of_Security_and_Prosperity	.ipynb\" target=\"_parent\"><img src=\"https://colab.research.google.com/assets/colab-badge.svg\" alt=\"Open In Colab\"/></a>"
           ]
        },
        {
            "cell_type": "markdown",
            "source": ["[The Paradox of Civilization: Preinstitutional Sources of Security and Prosperity](https://www.cambridge.org/core/services/aop-cambridge-core/content/view/2117EB3F97E04A5604C4E90A99D7EE67/S000305542100071Xa.pdf/the-paradox-of-civilization-preinstitutional-sources-of-security-and-prosperity.pdf)"
            ],
            "metadata": {
                "id": "gv-C86PLYaHi"
            }
        }
    ]
}
