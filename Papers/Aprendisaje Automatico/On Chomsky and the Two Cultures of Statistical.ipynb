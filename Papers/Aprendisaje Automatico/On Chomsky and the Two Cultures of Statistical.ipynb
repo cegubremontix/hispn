{
  "nbformat": 4,
  "nbformat_minor": 0,
  "metadata": {
    "kernelspec": {
      "display_name": "Python 2.7.18 64-bit",
      "name": "python2718jvsc74a57bd0f92b2924b84ff19c1c3dc485f7644d4486f64738191026bf8e6de303969141b5"
    },
    "language_info": {
      "name": "python",
      "version": ""
    },
    "metadata": {
      "interpreter": {
        "hash": "f92b2924b84ff19c1c3dc485f7644d4486f64738191026bf8e6de303969141b5"
      }
    },
    "orig_nbformat": 2,
    "colab": {
      "name": "On Chomsky and the Two Cultures of Statistical.ipynb",
      "provenance": [],
      "include_colab_link": true
    }
  },
  "cells": [
    {
      "cell_type": "markdown",
      "metadata": {
        "id": "view-in-github",
        "colab_type": "text"
      },
      "source": [
        "<a href=\"https://colab.research.google.com/github/dbremont/Notas/blob/main/Papers/Aprendisaje%20Automatico/On%20Chomsky%20and%20the%20Two%20Cultures%20of%20Statistical.ipynb\" target=\"_parent\"><img src=\"https://colab.research.google.com/assets/colab-badge.svg\" alt=\"Open In Colab\"/></a>"
      ]
    },
    {
      "cell_type": "markdown",
      "metadata": {
        "id": "XAkoAt0_5kEN"
      },
      "source": [
        "On Chomsky and the Two Cultures of Statistical"
      ]
    },
    {
      "cell_type": "markdown",
      "metadata": {
        "id": "KfmfdTU75kEW"
      },
      "source": [
        "* (D) [On Chomsky and the Two Cultures of Statistical](http://0.0.0.0:8000/2%20Aprendisaje%20Automatico/Papers/On%20Chomsky%20and%20the%20Two%20Cultures%20of%20Statistical.pdf)"
      ]
    },
    {
      "cell_type": "markdown",
      "metadata": {
        "id": "B2xYu71W9vB0"
      },
      "source": [
        "**What is a statistical model?**\n",
        "\n",
        "A **statistical model** is a mathematical model which is modified or trained by the input of data points. Statistical models are often but not always probabilistic. Where the distinction is important we will be careful not to just say \"statistical\" but to use the following component terms:\n",
        "\n",
        "- **A mathematical model** specifies a relation among variables, either in functional form that maps inputs to outputs (e.g. $y = m x + b$) or in relation form (e.g. the following $(x, y)$ pairs are part of the relation).\n",
        "\n",
        "- **A probabilistic model** specifies a probability distribution over possible values of random variables, e.g., $P(x, y)$, rather than a strict deterministic relationship, e.g., $y = f(x)$.\n",
        "\n",
        "- **A trained model** uses some training/learning algorithm to take as input a collection of possible models and a collection of data points (e.g. $(x, y)$ pairs) and select the best model. Often this is in the form of choosing the values of parameters (such as $m$ and $b$ above) through a process of statistical inference."
      ]
    }
  ]
}