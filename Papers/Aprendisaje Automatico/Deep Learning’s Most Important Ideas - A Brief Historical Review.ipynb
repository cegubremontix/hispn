{
 "cells": [
  {
   "cell_type": "markdown",
   "metadata": {},
   "source": [
    "* (D) [Deep Learning’s Most Important Ideas - A Brief Historical Review](http://0.0.0.0:8000/2%20Aprendisaje%20Automatico/Papers/Deep%20Learning%E2%80%99s%20Most%20Important%20Ideas%20-%20A%20Brief%20Historical%20Review.pdf)"
   ]
  },
  {
   "cell_type": "markdown",
   "metadata": {},
   "source": [
    "Mimimal set of ideas that most of the basic knowledge necessary to understand modern Deep Learning research.\n",
    "\n",
    "If you want to learn something try to reproduce the paper in row PyTorch without highlevel libraries.\n",
    "\n",
    "- AlexNet and Dropout\n",
    "- Playing Atari with Deep Reinforcement Learning\n",
    "- Adam Optimizer\n",
    "- Generative Adversarial Networks (GANs)\n",
    "- Residual Networks (ResNet)\n",
    "- Transformers\n",
    "- BERT and fine-tuned NLP Models\n",
    "-  \n",
    "- \n",
    "\n"
   ]
  }
 ],
 "metadata": {
  "kernelspec": {
   "display_name": "Python 2.7.18 64-bit",
   "name": "python2718jvsc74a57bd0f92b2924b84ff19c1c3dc485f7644d4486f64738191026bf8e6de303969141b5"
  },
  "language_info": {
   "name": "python",
   "version": ""
  },
  "metadata": {
   "interpreter": {
    "hash": "f92b2924b84ff19c1c3dc485f7644d4486f64738191026bf8e6de303969141b5"
   }
  },
  "orig_nbformat": 2
 },
 "nbformat": 4,
 "nbformat_minor": 2
}