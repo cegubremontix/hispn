{
 "cells": [
  {
   "cell_type": "markdown",
   "metadata": {},
   "source": [
    "Many Analysts, One Data Set Making Transparent How Variations in Analytic Choices Affect Results"
   ]
  },
  {
   "cell_type": "markdown",
   "metadata": {},
   "source": [
    "* (D) [Many Analysts, One Data Set Making Transparent How Variations in Analytic Choices Affect Results](http://0.0.0.0:8000/2%20Aprendisaje%20Automatico/Papers/Many%20Analysts%2C%20One%20Data%20Set%20Making%20Transparent%20How%20Variations%20in%20Analytic%20Choices%20Affect%20Results.pdf)"
   ]
  }
 ],
 "metadata": {
  "kernelspec": {
   "display_name": "Python 2.7.18 64-bit",
   "name": "python2718jvsc74a57bd0f92b2924b84ff19c1c3dc485f7644d4486f64738191026bf8e6de303969141b5"
  },
  "language_info": {
   "name": "python",
   "version": ""
  },
  "metadata": {
   "interpreter": {
    "hash": "f92b2924b84ff19c1c3dc485f7644d4486f64738191026bf8e6de303969141b5"
   }
  },
  "orig_nbformat": 2
 },
 "nbformat": 4,
 "nbformat_minor": 2
}