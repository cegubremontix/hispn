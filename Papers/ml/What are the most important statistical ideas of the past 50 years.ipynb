{
 "cells": [
  {
   "cell_type": "markdown",
   "metadata": {},
   "source": [
    "What are the most important statistical ideas of the past 50 years"
   ]
  },
  {
   "cell_type": "markdown",
   "metadata": {},
   "source": [
    "* (D) [What are the most important statistical ideas of the past 50 years](http://0.0.0.0:8000/2%20Aprendisaje%20Automatico/Papers/What%20are%20the%20most%20important%20statistical%20ideas%20of%20the%20past%2050%20years.pdf)"
   ]
  }
 ],
 "metadata": {
  "kernelspec": {
   "display_name": "Python 2.7.18 64-bit",
   "name": "python2718jvsc74a57bd0f92b2924b84ff19c1c3dc485f7644d4486f64738191026bf8e6de303969141b5"
  },
  "language_info": {
   "name": "python",
   "version": ""
  },
  "metadata": {
   "interpreter": {
    "hash": "f92b2924b84ff19c1c3dc485f7644d4486f64738191026bf8e6de303969141b5"
   }
  },
  "orig_nbformat": 2
 },
 "nbformat": 4,
 "nbformat_minor": 2
}