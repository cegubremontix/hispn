{
 "cells": [
  {
   "cell_type": "markdown",
   "metadata": {},
   "source": [
    " It’s Hard For Neural Networks to Learn the Game of Life"
   ]
  },
  {
   "cell_type": "markdown",
   "metadata": {},
   "source": [
    "* (D) [It’s Hard For Neural Networks to Learn the Game of Life](http://0.0.0.0:8000/2%20Aprendisaje%20Automatico/Papers/It%E2%80%99s%20Hard%20For%20Neural%20Networks%20to%20Learn%20the%20Game%20of%20Life.pdf)"
   ]
  }
 ],
 "metadata": {
  "kernelspec": {
   "display_name": "Python 2.7.18 64-bit",
   "name": "python2718jvsc74a57bd0f92b2924b84ff19c1c3dc485f7644d4486f64738191026bf8e6de303969141b5"
  },
  "language_info": {
   "name": "python",
   "version": ""
  },
  "metadata": {
   "interpreter": {
    "hash": "f92b2924b84ff19c1c3dc485f7644d4486f64738191026bf8e6de303969141b5"
   }
  },
  "orig_nbformat": 2
 },
 "nbformat": 4,
 "nbformat_minor": 2
}