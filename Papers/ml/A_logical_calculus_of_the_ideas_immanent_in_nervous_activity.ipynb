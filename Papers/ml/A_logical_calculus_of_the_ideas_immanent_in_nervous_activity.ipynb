{
  "nbformat": 4,
  "nbformat_minor": 0,
  "metadata": {
    "colab": {
      "name": "A logical calculus of the ideas immanent in nervous activity.ipynb",
      "provenance": [],
      "authorship_tag": "ABX9TyMELNh+otrxUwI3O7VAvS+M",
      "include_colab_link": true
    },
    "kernelspec": {
      "name": "python3",
      "display_name": "Python 3"
    },
    "language_info": {
      "name": "python"
    }
  },
  "cells": [
    {
      "cell_type": "markdown",
      "metadata": {
        "id": "view-in-github",
        "colab_type": "text"
      },
      "source": [
        "<a href=\"https://colab.research.google.com/github/dbremont/Notas/blob/main/Papers/ml/A_logical_calculus_of_the_ideas_immanent_in_nervous_activity.ipynb\" target=\"_parent\"><img src=\"https://colab.research.google.com/assets/colab-badge.svg\" alt=\"Open In Colab\"/></a>"
      ]
    },
    {
      "cell_type": "markdown",
      "source": [
        "[A logical calculus of the ideas immanent in nervous activity](https://link.springer.com/article/10.1007/BF02478259)"
      ],
      "metadata": {
        "id": "YUtULtGmtmSy"
      }
    }
  ]
}