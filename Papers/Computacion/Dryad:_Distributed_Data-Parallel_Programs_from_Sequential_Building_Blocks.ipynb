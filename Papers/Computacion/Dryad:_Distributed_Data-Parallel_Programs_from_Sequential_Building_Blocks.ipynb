{
  "nbformat": 4,
  "nbformat_minor": 0,
  "metadata": {
    "colab": {
      "name": "Dryad: Distributed Data-Parallel Programs from Sequential Building Blocks.ipynb",
      "provenance": [],
      "include_colab_link": true
    },
    "kernelspec": {
      "name": "python3",
      "display_name": "Python 3"
    },
    "language_info": {
      "name": "python"
    }
  },
  "cells": [
    {
      "cell_type": "markdown",
      "metadata": {
        "id": "view-in-github",
        "colab_type": "text"
      },
      "source": [
        "<a href=\"https://colab.research.google.com/github/dbremont/Notas/blob/main/Papers/Computacion/Dryad%3A_Distributed_Data-Parallel_Programs_from_Sequential_Building_Blocks.ipynb\" target=\"_parent\"><img src=\"https://colab.research.google.com/assets/colab-badge.svg\" alt=\"Open In Colab\"/></a>"
      ]
    },
    {
      "cell_type": "markdown",
      "metadata": {
        "id": "2EjP7d7csPtq"
      },
      "source": [
        "Dryad is a general-purpose distributed execution engine for\n",
        "coarse-grain data-parallel applications. A Dryad application combines computational “vertices” with communication “channels” to form a dataflow graph. Dryad runs the application by executing the vertices of this graph on a set of available computers, communicating as appropriate through\n",
        "files, TCP pipes, and shared-memory FIFOs.\n",
        "\n",
        "The vertices provided by the application developer are\n",
        "quite simple and are usually written as sequential programs\n",
        "with no thread creation or locking. Concurrency arises from\n",
        "Dryad scheduling vertices to run simultaneously on multiple computers, or on multiple CPU cores within a computer.\n",
        "The application can discover the size and placement of data\n",
        "at run time, and modify the graph as the computation progresses to make efficient use of the available resources.\n",
        "\n",
        "Dryad is designed to scale from powerful multi-core single computers, through small clusters of computers, to data\n",
        "centers with thousands of computers. The Dryad execution\n",
        "engine handles all the difficult problems of creating a large\n",
        "distributed, concurrent application: scheduling the use of\n",
        "computers and their CPUs, recovering from communication\n",
        "or computer failures, and transporting data between vertices."
      ]
    }
  ]
}