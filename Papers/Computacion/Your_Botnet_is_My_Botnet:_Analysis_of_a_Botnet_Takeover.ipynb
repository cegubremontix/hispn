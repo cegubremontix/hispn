{
  "nbformat": 4,
  "nbformat_minor": 0,
  "metadata": {
    "colab": {
      "name": "Your Botnet is My Botnet: Analysis of a Botnet Takeover.ipynb",
      "provenance": [],
      "include_colab_link": true
    },
    "kernelspec": {
      "name": "python3",
      "display_name": "Python 3"
    },
    "language_info": {
      "name": "python"
    }
  },
  "cells": [
    {
      "cell_type": "markdown",
      "metadata": {
        "id": "view-in-github",
        "colab_type": "text"
      },
      "source": [
        "<a href=\"https://colab.research.google.com/github/dbremont/Notas/blob/main/Papers/Computacion/Your_Botnet_is_My_Botnet%3A_Analysis_of_a_Botnet_Takeover.ipynb\" target=\"_parent\"><img src=\"https://colab.research.google.com/assets/colab-badge.svg\" alt=\"Open In Colab\"/></a>"
      ]
    },
    {
      "cell_type": "markdown",
      "metadata": {
        "id": "CYW1Bc4LnQ59"
      },
      "source": [
        "Botnets, networks of malware-infected machines that are controlled\n",
        "by an adversary, are the root cause of a large number of security\n",
        "problems on the Internet. A particularly sophisticated and insidi-\n",
        "ous type of bot is Torpig, a malware program that is designed to\n",
        "harvest sensitive information (such as bank account and credit card\n",
        "data) from its victims. In this paper, we report on our efforts to take\n",
        "control of the Torpig botnet and study its operations for a period of\n",
        "ten days. During this time, we observed more than 180 thousand\n",
        "infections and recorded almost 70 GB of data that the bots col-\n",
        "lected. While botnets have been “hijacked” and studied previously,\n",
        "the Torpig botnet exhibits certain properties that make the analysis\n",
        "of the data particularly interesting. First, it is possible (with rea-\n",
        "sonable accuracy) to identify unique bot infections and relate that\n",
        "number to the more than 1.2 million IP addresses that contacted our\n",
        "command and control server. Second, the Torpig botnet is large,\n",
        "targets a variety of applications, and gathers a rich and diverse set\n",
        "of data from the infected victims. This data provides a new un-\n",
        "derstanding of the type and amount of personal information that is\n",
        "stolen by botnets."
      ]
    }
  ]
}