{
  "nbformat": 4,
  "nbformat_minor": 0,
  "metadata": {
    "colab": {
      "name": "The Emergence of Edge Computing.ipynb",
      "provenance": [],
      "include_colab_link": true
    },
    "kernelspec": {
      "name": "python3",
      "display_name": "Python 3"
    },
    "language_info": {
      "name": "python"
    }
  },
  "cells": [
    {
      "cell_type": "markdown",
      "metadata": {
        "id": "view-in-github",
        "colab_type": "text"
      },
      "source": [
        "<a href=\"https://colab.research.google.com/github/dbremont/Notas/blob/main/Papers/Computacion/The_Emergence_of_Edge_Computing.ipynb\" target=\"_parent\"><img src=\"https://colab.research.google.com/assets/colab-badge.svg\" alt=\"Open In Colab\"/></a>"
      ]
    },
    {
      "cell_type": "markdown",
      "metadata": {
        "id": "9BMw8Ifigsm-"
      },
      "source": [
        "Industry investment and research interest in edge computing, in \n",
        "which computing and storage nodes are placed at the Internet’s \n",
        "\n",
        "edge in close proximity to mobile devices or sensors, have grown \n",
        "\n",
        "dramatically in recent years. This emerging technology promises \n",
        "\n",
        "to deliver highly responsive cloud services for mobile computing, \n",
        "\n",
        "scalability and privacy-policy enforcement for the Internet of \n",
        "\n",
        "Things, and the ability to mask transient cloud outages"
      ]
    }
  ]
}