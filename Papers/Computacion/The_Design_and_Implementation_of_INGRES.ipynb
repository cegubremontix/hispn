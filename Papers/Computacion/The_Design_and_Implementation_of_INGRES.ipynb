{
  "nbformat": 4,
  "nbformat_minor": 0,
  "metadata": {
    "colab": {
      "name": "The Design and Implementation of INGRES.ipynb",
      "provenance": [],
      "include_colab_link": true
    },
    "kernelspec": {
      "name": "python3",
      "display_name": "Python 3"
    },
    "language_info": {
      "name": "python"
    }
  },
  "cells": [
    {
      "cell_type": "markdown",
      "metadata": {
        "id": "view-in-github",
        "colab_type": "text"
      },
      "source": [
        "<a href=\"https://colab.research.google.com/github/dbremont/Notas/blob/main/Papers/Computacion/The_Design_and_Implementation_of_INGRES.ipynb\" target=\"_parent\"><img src=\"https://colab.research.google.com/assets/colab-badge.svg\" alt=\"Open In Colab\"/></a>"
      ]
    },
    {
      "cell_type": "markdown",
      "metadata": {
        "id": "alkEcsBQ428h"
      },
      "source": [
        "The  currently operational (March 1976) version of the  INGRES database  management system \n",
        "is  described. This multiuser system gives a  relational view of  data, supports two  high level \n",
        "nonprocedural data  sublanguages, and runs  as a collection of user processes on top  of the  UNIX \n",
        "operating system  for  Digital Equipment Corporation PDP 11/40,  11/45, and  11/70 computers. \n",
        "Emphasis is  on  the  design  decisions and  tradeoffs related to (1)  structuring the  system into \n",
        "processes,  (2)  embedding one command  language in  a general  purpose  programming language, \n",
        "(3)  the  algorithms implemented to  process  interactions, (4) the  access methods implemented, \n",
        "(5)  the  concurrency and  recovery control currently provided, and  (6)  the  data  structures used \n",
        "for  system catalogs and  the  role  of  the  database administrator. \n",
        "Also  discussed  are  (1) support for  integrity constraints (which  is  only partly operational), \n",
        "(2)  the  not  yet  supported features concerning views  and  protection, and  (3)  future plans  con- \n",
        "cerning the  system.\n",
        "\n",
        "ey Words  and  Phrases: relational database, nonprocedural language, query language, data \n",
        "sublanguage, data  organization, query decomposition, database optimization, data integrity, \n",
        "protection, concurrency "
      ]
    }
  ]
}