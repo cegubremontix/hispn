{
  "nbformat": 4,
  "nbformat_minor": 0,
  "metadata": {
    "colab": {
      "name": "Low Latency Analytics of Geo-distributed Data in the Wide Area.ipynb",
      "provenance": [],
      "include_colab_link": true
    },
    "kernelspec": {
      "name": "python3",
      "display_name": "Python 3"
    },
    "language_info": {
      "name": "python"
    }
  },
  "cells": [
    {
      "cell_type": "markdown",
      "metadata": {
        "id": "view-in-github",
        "colab_type": "text"
      },
      "source": [
        "<a href=\"https://colab.research.google.com/github/dbremont/Notas/blob/main/Papers/Computacion/Low_Latency_Analytics_of_Geo-distributed_Data_in_the_Wide_Area.ipynb\" target=\"_parent\"><img src=\"https://colab.research.google.com/assets/colab-badge.svg\" alt=\"Open In Colab\"/></a>"
      ]
    },
    {
      "cell_type": "markdown",
      "metadata": {
        "id": "8Zd3NKeBUKG4"
      },
      "source": [
        "Low latency analytics on geographically distributed dat-\n",
        "asets (across datacenters, edge clusters) is an upcoming\n",
        "and increasingly important challenge. The dominant\n",
        "approach of aggregating all the data to a single data-\n",
        "center significantly inflates the timeliness of analytics.\n",
        "At the same time, running queries over geo-distributed\n",
        "inputs using the current intra-DC analytics frameworks\n",
        "also leads to high query response times because these\n",
        "frameworks cannot cope with the relatively low and\n",
        "variable capacity of WAN links.\n",
        "\n",
        "We present Iridium, a system for low latency geo-distri-\n",
        "buted analytics. Iridium achieves low query response\n",
        "times by optimizing placement of both data and tasks\n",
        "of the queries. The joint data and task placement op-\n",
        "timization, however, is intractable. Therefore, Iridium\n",
        "uses an online heuristic to redistribute datasets among\n",
        "the sites prior to queries’ arrivals, and places the tasks\n",
        "to reduce network bottlenecks during the query’s ex-\n",
        "ecution. Finally, it also contains a knob to budget\n",
        "WAN usage. Evaluation across eight worldwide EC2 re-\n",
        "gions using production queries show that Iridium speeds\n",
        "up queries by 3× − 19× and lowers WAN usage by\n",
        "15% −64% compared to existing baselines."
      ]
    }
  ]
}