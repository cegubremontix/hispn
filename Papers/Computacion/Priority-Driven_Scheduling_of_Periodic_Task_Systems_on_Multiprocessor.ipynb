{
  "nbformat": 4,
  "nbformat_minor": 0,
  "metadata": {
    "colab": {
      "name": "Priority-Driven Scheduling of Periodic Task Systems on Multiprocessor.ipynb",
      "provenance": [],
      "include_colab_link": true
    },
    "kernelspec": {
      "name": "python3",
      "display_name": "Python 3"
    },
    "language_info": {
      "name": "python"
    }
  },
  "cells": [
    {
      "cell_type": "markdown",
      "metadata": {
        "id": "view-in-github",
        "colab_type": "text"
      },
      "source": [
        "<a href=\"https://colab.research.google.com/github/dbremont/Notas/blob/main/Papers/Computacion/Priority-Driven_Scheduling_of_Periodic_Task_Systems_on_Multiprocessor.ipynb\" target=\"_parent\"><img src=\"https://colab.research.google.com/assets/colab-badge.svg\" alt=\"Open In Colab\"/></a>"
      ]
    },
    {
      "cell_type": "markdown",
      "metadata": {
        "id": "2wsbfLA9WS3R"
      },
      "source": [
        "bstract. The scheduling of systems of periodic tasks upon multiprocessor platforms is considered. Utilization-\n",
        "based conditions are derived for determining whether a periodic task system meets all deadlines when scheduled\n",
        "\n",
        "using the earliest deadline ®rst scheduling algorithm (EDF) upon a given multiprocessor platform.A new\n",
        "priority-driven algorithm is proposed for scheduling periodic task systems upon multiprocessor platforms: this\n",
        "algorithm is shown to successfully schedule some task systems for which EDFmay fail to meet all deadlines."
      ]
    }
  ]
}