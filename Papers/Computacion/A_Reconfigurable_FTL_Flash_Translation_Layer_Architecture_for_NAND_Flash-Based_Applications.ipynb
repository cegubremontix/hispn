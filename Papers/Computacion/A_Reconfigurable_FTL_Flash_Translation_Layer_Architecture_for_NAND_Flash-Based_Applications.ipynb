{
  "nbformat": 4,
  "nbformat_minor": 0,
  "metadata": {
    "colab": {
      "name": "A Reconfigurable FTL (Flash Translation Layer) Architecture for NAND Flash-Based Applications.ipynb",
      "provenance": [],
      "include_colab_link": true
    },
    "kernelspec": {
      "name": "python3",
      "display_name": "Python 3"
    },
    "language_info": {
      "name": "python"
    }
  },
  "cells": [
    {
      "cell_type": "markdown",
      "metadata": {
        "id": "view-in-github",
        "colab_type": "text"
      },
      "source": [
        "<a href=\"https://colab.research.google.com/github/dbremont/Notas/blob/main/Papers/Computacion/A_Reconfigurable_FTL_Flash_Translation_Layer_Architecture_for_NAND_Flash-Based_Applications.ipynb\" target=\"_parent\"><img src=\"https://colab.research.google.com/assets/colab-badge.svg\" alt=\"Open In Colab\"/></a>"
      ]
    },
    {
      "cell_type": "markdown",
      "metadata": {
        "id": "rWna3E3ghEGm"
      },
      "source": [
        "n this article, a novel FTL (flash translation layer) architecture is proposed for NAND flash-\n",
        "based applications such as MP3 players, DSCs (digital still cameras) and SSDs (solid-state drives).\n",
        "\n",
        "Although the basic function of an FTL is to translate a logical sector address to a physical sector\n",
        "\n",
        "address in flash memory, efficient algorithms of an FTL have a significant impact on performance as\n",
        "\n",
        "well as the lifetime. After the dominant parameters that affect the performance and endurance are\n",
        "\n",
        "categorized, the design space of the FTL architecture is explored based on a diverse workload anal-\n",
        "\n",
        "ysis. With the proposed FTL architectural framework, it is possible to decide which configuration of\n",
        "\n",
        "FTL mapping parameters yields the best performance, depending on the differing characteristics\n",
        "\n",
        "of various NAND flash-based applications"
      ]
    }
  ]
}