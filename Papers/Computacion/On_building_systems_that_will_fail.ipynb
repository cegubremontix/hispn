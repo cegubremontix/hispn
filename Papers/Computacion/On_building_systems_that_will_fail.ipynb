{
  "nbformat": 4,
  "nbformat_minor": 0,
  "metadata": {
    "colab": {
      "name": "On building systems that will fail.ipynb",
      "provenance": [],
      "include_colab_link": true
    },
    "kernelspec": {
      "name": "python3",
      "display_name": "Python 3"
    },
    "language_info": {
      "name": "python"
    }
  },
  "cells": [
    {
      "cell_type": "markdown",
      "metadata": {
        "id": "view-in-github",
        "colab_type": "text"
      },
      "source": [
        "<a href=\"https://colab.research.google.com/github/dbremont/Notas/blob/main/Papers/Computacion/On_building_systems_that_will_fail.ipynb\" target=\"_parent\"><img src=\"https://colab.research.google.com/assets/colab-badge.svg\" alt=\"Open In Colab\"/></a>"
      ]
    },
    {
      "cell_type": "markdown",
      "metadata": {
        "id": "nERejCr-WdSo"
      },
      "source": [
        "Most the this talk has been directed toward trying to persue your that failures in complex, ambituous, systems are inevitable\n",
        "\n",
        "My definition of elegance is acievement of a given functionaly with a minimun of mechanism and a maximun of clarity.\n",
        "\n",
        "Second, the value of methaphors should be undertstimated."
      ]
    }
  ]
}