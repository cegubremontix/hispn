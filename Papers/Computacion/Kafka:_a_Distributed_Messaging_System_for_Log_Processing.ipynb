{
  "nbformat": 4,
  "nbformat_minor": 0,
  "metadata": {
    "colab": {
      "name": "Kafka: a Distributed Messaging System for Log Processing.ipynb",
      "provenance": [],
      "include_colab_link": true
    },
    "kernelspec": {
      "name": "python3",
      "display_name": "Python 3"
    },
    "language_info": {
      "name": "python"
    }
  },
  "cells": [
    {
      "cell_type": "markdown",
      "metadata": {
        "id": "view-in-github",
        "colab_type": "text"
      },
      "source": [
        "<a href=\"https://colab.research.google.com/github/dbremont/Notas/blob/main/Papers/Computacion/Kafka%3A_a_Distributed_Messaging_System_for_Log_Processing.ipynb\" target=\"_parent\"><img src=\"https://colab.research.google.com/assets/colab-badge.svg\" alt=\"Open In Colab\"/></a>"
      ]
    },
    {
      "cell_type": "markdown",
      "metadata": {
        "id": "ckPYOCXifngv"
      },
      "source": [
        "Log  processing  has  become  a  critical  component  of  the  data \n",
        "pipeline for consumer internet companies. We introduce Kafka, a \n",
        "distributed messaging system that we developed for collecting and \n",
        "delivering high volumes of log data with low latency. Our system \n",
        "incorporates  ideas  from  existing  log  aggregators  and  messaging \n",
        "systems,  and  is  suitable  for  both  offline  and  online  message \n",
        "consumption.  We  made  quite  a  few  unconventional  yet  practical \n",
        "design choices in Kafka to make our system efficient and scalable. \n",
        "Our experimental results show that Kafka has superior \n",
        "performance  when  compared  to  two  popular  messaging  systems. \n",
        "We  have  been  using  Kafka  in  production  for  some  time  and  it  is \n",
        "processing hundreds of gigabytes of new data each day."
      ]
    }
  ]
}