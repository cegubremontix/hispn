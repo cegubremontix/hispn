{
  "nbformat": 4,
  "nbformat_minor": 0,
  "metadata": {
    "colab": {
      "name": "Exokernel: An Operating System Architecture for Application-Level Resource Management.ipynb",
      "provenance": [],
      "include_colab_link": true
    },
    "kernelspec": {
      "name": "python3",
      "display_name": "Python 3"
    },
    "language_info": {
      "name": "python"
    }
  },
  "cells": [
    {
      "cell_type": "markdown",
      "metadata": {
        "id": "view-in-github",
        "colab_type": "text"
      },
      "source": [
        "<a href=\"https://colab.research.google.com/github/dbremont/Notas/blob/main/Papers/Computacion/Exokernel%3A_An_Operating_System_Architecture_for_Application-Level_Resource_Management.ipynb\" target=\"_parent\"><img src=\"https://colab.research.google.com/assets/colab-badge.svg\" alt=\"Open In Colab\"/></a>"
      ]
    },
    {
      "cell_type": "markdown",
      "metadata": {
        "id": "rSMs3FIKjVbz"
      },
      "source": [
        "Traditional operating systems limit the performance, flexibility, and\n",
        "functionality of applications by fixing the interface and implemen-\n",
        "tation of operating system abstractions such as interprocess com-\n",
        "munication and virtual memory. The exokernel operating system\n",
        "architecture addresses this problem by providing application-level\n",
        "management of physical resources. In the exokernel architecture, a\n",
        "small kernel securely exports all hardware resources through a low-\n",
        "level interface to untrusted library operating systems. Library op-\n",
        "erating systems use this interface to implement system objects and\n",
        "policies. This separation of resource protection from management\n",
        "allows application-specific customization of traditional operating\n",
        "system abstractions by extending, specializing, or even replacing\n",
        "libraries.\n",
        "\n",
        "We have implemented a prototype exokernel operating system.\n",
        "Measurements show that most primitive kernel operations (such\n",
        "as exception handling and protected control transfer) are ten to 100\n",
        "times faster than in Ultrix, a mature monolithic UNIX operating sys-\n",
        "tem. In addition, we demonstrate that an exokernel allows applica-\n",
        "tions to control machine resources in ways not possible in traditional\n",
        "operating systems. For instance, virtual memory and interprocess\n",
        "communication abstractions are implemented entirely within an\n",
        "application-level library. Measurements show that application-level\n",
        "virtual memory and interprocess communication primitives are five\n",
        "to 40 times faster than Ultrix’s kernel primitives. Compared to\n",
        "state-of-the-art implementations from the literature, the prototype\n",
        "exokernel system is at least five times faster on operations such as\n",
        "exception dispatching and interprocess communication."
      ]
    }
  ]
}