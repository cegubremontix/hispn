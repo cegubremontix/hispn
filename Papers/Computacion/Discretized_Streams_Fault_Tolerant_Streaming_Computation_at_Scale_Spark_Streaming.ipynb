{
  "nbformat": 4,
  "nbformat_minor": 0,
  "metadata": {
    "colab": {
      "name": "Discretized Streams: Fault-Tolerant Streaming Computation at Scale (Spark Streaming).ipynb",
      "provenance": [],
      "include_colab_link": true
    },
    "kernelspec": {
      "name": "python3",
      "display_name": "Python 3"
    },
    "language_info": {
      "name": "python"
    }
  },
  "cells": [
    {
      "cell_type": "markdown",
      "metadata": {
        "id": "view-in-github",
        "colab_type": "text"
      },
      "source": [
        "<a href=\"https://colab.research.google.com/github/dbremont/Notas/blob/main/Papers/Computacion/Discretized_Streams_Fault_Tolerant_Streaming_Computation_at_Scale_Spark_Streaming.ipynb\" target=\"_parent\"><img src=\"https://colab.research.google.com/assets/colab-badge.svg\" alt=\"Open In Colab\"/></a>"
      ]
    },
    {
      "cell_type": "markdown",
      "metadata": {
        "id": "hMd3NTvo5seu"
      },
      "source": [
        "Many “big data” applications must act on data in real\n",
        "time. Running these applications at ever-larger scales re-\n",
        "quires parallel platforms that automatically handle faults\n",
        "and stragglers. Unfortunately, current distributed stream\n",
        "processing models provide fault recovery in an expen-\n",
        "sive manner, requiring hot replication or long recovery\n",
        "times, and do not handle stragglers. We propose a new\n",
        "processing model, discretized streams (D-Streams), that\n",
        "overcomes these challenges. D-Streams enable a par-\n",
        "allel recovery mechanism that improves efficiency over\n",
        "traditional replication and backup schemes, and tolerates\n",
        "stragglers. We show that they support a rich set of oper-\n",
        "ators while attaining high per-node throughput similar\n",
        "to single-node systems, linear scaling to 100 nodes, sub-\n",
        "second latency, and sub-second fault recovery. Finally,\n",
        "D-Streams can easily be composed with batch and in-\n",
        "teractive query models like MapReduce, enabling rich\n",
        "applications that combine these modes. We implement\n",
        "D-Streams in a system called Spark Streaming."
      ]
    }
  ]
}