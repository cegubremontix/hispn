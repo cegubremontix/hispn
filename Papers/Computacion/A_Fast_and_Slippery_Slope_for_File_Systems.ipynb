{
  "nbformat": 4,
  "nbformat_minor": 0,
  "metadata": {
    "colab": {
      "name": "A Fast and Slippery Slope for File Systems.ipynb",
      "provenance": [],
      "include_colab_link": true
    },
    "kernelspec": {
      "name": "python3",
      "display_name": "Python 3"
    },
    "language_info": {
      "name": "python"
    }
  },
  "cells": [
    {
      "cell_type": "markdown",
      "metadata": {
        "id": "view-in-github",
        "colab_type": "text"
      },
      "source": [
        "<a href=\"https://colab.research.google.com/github/dbremont/Notas/blob/main/Papers/Computacion/A_Fast_and_Slippery_Slope_for_File_Systems.ipynb\" target=\"_parent\"><img src=\"https://colab.research.google.com/assets/colab-badge.svg\" alt=\"Open In Colab\"/></a>"
      ]
    },
    {
      "cell_type": "markdown",
      "metadata": {
        "id": "fAjltVYcVhIY"
      },
      "source": [
        "There is a vast number and variety of file systems currently available, each optimizing for an ever growing number\n",
        "of storage devices and workloads. Users have an unprecedented, and somewhat overwhelming, number of data management options. At the same time, the fastest storage devices are only getting faster, and it is unclear on how well\n",
        "the existing file systems will adapt. Using emulation techniques, we evaluate five popular Linux file systems across\n",
        "a range of storage device latencies typical to low-end hard\n",
        "drives, latest high-performance persistent memory block devices, and in between. Our findings are often surprising. Depending on the workload, we find that some file systems\n",
        "can clearly scale with faster storage devices much better\n",
        "than others. Further, as storage device latency decreases, we\n",
        "find unexpected performance inversions across file systems.\n",
        "Finally, file system scalability in the higher device latency\n",
        "range is not representative of scalability in the lower, submillisecond, latency range. We then focus on Nilfs2 as an\n",
        "especially alarming example of an unexpectedly poor scalability and present detailed instructions for identifying bottlenecks in the I/O stack."
      ]
    }
  ]
}