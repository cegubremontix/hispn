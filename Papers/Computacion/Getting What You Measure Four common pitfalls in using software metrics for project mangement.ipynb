{
 "cells": [
  {
   "cell_type": "markdown",
   "metadata": {},
   "source": [
    "Getting What You Measure Four common pitfalls in using software metrics for project mangement"
   ]
  },
  {
   "cell_type": "markdown",
   "metadata": {},
   "source": [
    "* (D)[Getting What You Measure Four common pitfalls in using software metrics for project mangement](http://0.0.0.0:8000/3%20Computacion/Papers/Getting%20What%20You%20Measure%20Four%20common%20pitfalls%20in%20using%20software%20metrics%20for%20project%20mangement.pdf)"
   ]
  }
 ],
 "metadata": {
  "kernelspec": {
   "display_name": "Python 2.7.18 64-bit",
   "name": "python2718jvsc74a57bd0f92b2924b84ff19c1c3dc485f7644d4486f64738191026bf8e6de303969141b5"
  },
  "language_info": {
   "name": "python",
   "version": ""
  },
  "metadata": {
   "interpreter": {
    "hash": "f92b2924b84ff19c1c3dc485f7644d4486f64738191026bf8e6de303969141b5"
   }
  },
  "orig_nbformat": 2
 },
 "nbformat": 4,
 "nbformat_minor": 2
}