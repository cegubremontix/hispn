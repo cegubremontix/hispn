{
  "nbformat": 4,
  "nbformat_minor": 0,
  "metadata": {
    "colab": {
      "name": "Principles of Transaction-Oriented Database Recovery.ipynb",
      "provenance": [],
      "include_colab_link": true
    },
    "kernelspec": {
      "name": "python3",
      "display_name": "Python 3"
    },
    "language_info": {
      "name": "python"
    }
  },
  "cells": [
    {
      "cell_type": "markdown",
      "metadata": {
        "id": "view-in-github",
        "colab_type": "text"
      },
      "source": [
        "<a href=\"https://colab.research.google.com/github/dbremont/Notas/blob/main/Papers/Computacion/Principles_of_Transaction-Oriented_Database_Recovery.ipynb\" target=\"_parent\"><img src=\"https://colab.research.google.com/assets/colab-badge.svg\" alt=\"Open In Colab\"/></a>"
      ]
    },
    {
      "cell_type": "markdown",
      "metadata": {
        "id": "wtHtmhweoL3X"
      },
      "source": [
        "In this paper,  a terminological  framework  is provided  for describing different transaction- \n",
        "oriented recovery schemes for database systems  in a conceptual  rather than an \n",
        "implementation-dependent way. By introducing the terms materialized  database, \n",
        "propagation  strategy,  and checkpoint,  we obtain a means for classifying arbitrary \n",
        "implementations from a unified viewpoint. This is complemented  by a classification \n",
        "scheme for logging techniques,  which are precisely defined by using the other terms. It is \n",
        "shown that these criteria are related to all relevant questions such as speed and scope of \n",
        "recovery and amount of redundant information required.  The primary purpose of this \n",
        "paper,  however, is to establish an adequate  and precise terminology  for a topic in which \n",
        "the confusion of concepts  and implementational aspects  still imposes a lot of problems"
      ]
    }
  ]
}