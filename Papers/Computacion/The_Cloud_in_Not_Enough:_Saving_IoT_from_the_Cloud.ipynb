{
  "nbformat": 4,
  "nbformat_minor": 0,
  "metadata": {
    "colab": {
      "name": "The Cloud in Not Enough: Saving IoT from the Cloud.ipynb",
      "provenance": [],
      "include_colab_link": true
    },
    "kernelspec": {
      "name": "python3",
      "display_name": "Python 3"
    },
    "language_info": {
      "name": "python"
    }
  },
  "cells": [
    {
      "cell_type": "markdown",
      "metadata": {
        "id": "view-in-github",
        "colab_type": "text"
      },
      "source": [
        "<a href=\"https://colab.research.google.com/github/dbremont/Notas/blob/main/Papers/Computacion/The_Cloud_in_Not_Enough%3A_Saving_IoT_from_the_Cloud.ipynb\" target=\"_parent\"><img src=\"https://colab.research.google.com/assets/colab-badge.svg\" alt=\"Open In Colab\"/></a>"
      ]
    },
    {
      "cell_type": "markdown",
      "metadata": {
        "id": "Wk2DlWjJnWZu"
      },
      "source": [
        "The Internet of Things (IoT) represents a new class of\n",
        "applications that can benefit from cloud infrastructure.\n",
        "However, the current approach of directly connecting\n",
        "smart devices to the cloud has a number of disadvantages\n",
        "and is unlikely to keep up with either the growing speed\n",
        "of the IoT or the diverse needs of IoT applications.\n",
        "In this paper we explore these disadvantages and ar-\n",
        "gue that fundamental properties of the IoT prevent the\n",
        "current approach from scaling. What is missing is a well-\n",
        "architected system that extends the functionality of the\n",
        "cloud and provides seamless interplay among the hetero-\n",
        "geneous components in the IoT space. We argue that\n",
        "raising the level of abstraction to a data-centric design—\n",
        "focused around the distribution, preservation and protec-\n",
        "tion of information—provides a much better match to the\n",
        "IoT. We present early work on such a distributed platform,\n",
        "called the Global Data Plane (GDP), and discuss how it\n",
        "addresses the problems with the cloud-centric architec-\n",
        "ture."
      ]
    }
  ]
}