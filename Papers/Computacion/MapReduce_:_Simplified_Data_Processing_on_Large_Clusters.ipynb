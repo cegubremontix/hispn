{
  "nbformat": 4,
  "nbformat_minor": 0,
  "metadata": {
    "colab": {
      "name": "MapReduce : Simplified Data Processing on Large Clusters.ipynb",
      "provenance": [],
      "include_colab_link": true
    },
    "kernelspec": {
      "name": "python3",
      "display_name": "Python 3"
    },
    "language_info": {
      "name": "python"
    }
  },
  "cells": [
    {
      "cell_type": "markdown",
      "metadata": {
        "id": "view-in-github",
        "colab_type": "text"
      },
      "source": [
        "<a href=\"https://colab.research.google.com/github/dbremont/Notas/blob/main/Papers/Computacion/MapReduce_%3A_Simplified_Data_Processing_on_Large_Clusters.ipynb\" target=\"_parent\"><img src=\"https://colab.research.google.com/assets/colab-badge.svg\" alt=\"Open In Colab\"/></a>"
      ]
    },
    {
      "cell_type": "markdown",
      "metadata": {
        "id": "WRyZrvQ3nuv0"
      },
      "source": [
        "* (D) [MapReduce: Simplified Data Processing on Large Clusters](http://0.0.0.0:8000/3%20Computacion/Papers/MapReduce%20Simplified%20Data%20Processing%20on%20Large%20Clusters.pdf)"
      ]
    },
    {
      "cell_type": "markdown",
      "metadata": {
        "id": "GbHIg9YLnvV1"
      },
      "source": [
        "Programmin model\n",
        "\n",
        "Map: Users map function that process a key/value pair to generate a set of intermediate key/value pariss.\n",
        "\n",
        "Reduce: Merges all intermediate values associated with the same intermediate key.\n",
        "\n",
        "Programs written in this functional style are automatic parrallelized and executed on a large cluster of commodity machines.\n",
        "\n",
        "Examples:\n",
        "\n",
        "- Distributed grep\n",
        "- Count of URL Acccess Frecuency\n",
        "\n",
        "\n",
        "Architecture\n",
        "\n",
        "- User Program\n",
        "- Master\n",
        "- Workers\n",
        "\n",
        "Implementation\n"
      ]
    }
  ]
}