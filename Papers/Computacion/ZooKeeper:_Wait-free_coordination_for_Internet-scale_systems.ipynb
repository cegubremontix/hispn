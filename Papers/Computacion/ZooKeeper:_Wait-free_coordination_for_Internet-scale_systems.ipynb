{
  "nbformat": 4,
  "nbformat_minor": 0,
  "metadata": {
    "colab": {
      "name": "ZooKeeper: Wait-free coordination for Internet-scale systems.ipynb",
      "provenance": [],
      "include_colab_link": true
    },
    "kernelspec": {
      "name": "python3",
      "display_name": "Python 3"
    },
    "language_info": {
      "name": "python"
    }
  },
  "cells": [
    {
      "cell_type": "markdown",
      "metadata": {
        "id": "view-in-github",
        "colab_type": "text"
      },
      "source": [
        "<a href=\"https://colab.research.google.com/github/dbremont/Notas/blob/main/Papers/Computacion/ZooKeeper%3A_Wait-free_coordination_for_Internet-scale_systems.ipynb\" target=\"_parent\"><img src=\"https://colab.research.google.com/assets/colab-badge.svg\" alt=\"Open In Colab\"/></a>"
      ]
    },
    {
      "cell_type": "markdown",
      "metadata": {
        "id": "ETLvr-sthO3_"
      },
      "source": [
        "In this paper, we describe ZooKeeper, a service for coordinating processes of distributed applications. Since\n",
        "ZooKeeper is part of critical infrastructure, ZooKeeper\n",
        "aims to provide a simple and high performance kernel\n",
        "for building more complex coordination primitives at the\n",
        "client. It incorporates elements from group messaging,\n",
        "shared registers, and distributed lock services in a replicated, centralized service. The interface exposed by ZooKeeper has the wait-free aspects of shared registers with\n",
        "an event-driven mechanism similar to cache invalidations\n",
        "of distributed file systems to provide a simple, yet powerful coordination service."
      ]
    },
    {
      "cell_type": "markdown",
      "metadata": {
        "id": "lubrGSe7od4x"
      },
      "source": [
        "The ZooKeeper interface enables a high-performance\n",
        "service implementation. In addition to the wait-free\n",
        "property, ZooKeeper provides a per client guarantee of\n",
        "FIFO execution of requests and linearizability for all requests that change the ZooKeeper state. These design decisions enable the implementation of a high performance\n",
        "processing pipeline with read requests being satisfied by\n",
        "local servers. We show for the target workloads, 2:1\n",
        "to 100:1 read to write ratio, that ZooKeeper can handle\n",
        "tens to hundreds of thousands of transactions per second.\n",
        "This performance allows ZooKeeper to be used extensively by client applications."
      ]
    }
  ]
}