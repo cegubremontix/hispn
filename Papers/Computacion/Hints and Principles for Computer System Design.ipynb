{
  "nbformat": 4,
  "nbformat_minor": 0,
  "metadata": {
    "kernelspec": {
      "display_name": "Python 2.7.18 64-bit",
      "name": "python2718jvsc74a57bd0f92b2924b84ff19c1c3dc485f7644d4486f64738191026bf8e6de303969141b5"
    },
    "language_info": {
      "name": "python",
      "version": ""
    },
    "metadata": {
      "interpreter": {
        "hash": "f92b2924b84ff19c1c3dc485f7644d4486f64738191026bf8e6de303969141b5"
      }
    },
    "orig_nbformat": 2,
    "colab": {
      "name": "Hints and Principles for Computer System Design.ipynb",
      "provenance": [],
      "include_colab_link": true
    }
  },
  "cells": [
    {
      "cell_type": "markdown",
      "metadata": {
        "id": "view-in-github",
        "colab_type": "text"
      },
      "source": [
        "<a href=\"https://colab.research.google.com/github/dbremont/Notas/blob/main/Papers/Computacion/Hints%20and%20Principles%20for%20Computer%20System%20Design.ipynb\" target=\"_parent\"><img src=\"https://colab.research.google.com/assets/colab-badge.svg\" alt=\"Open In Colab\"/></a>"
      ]
    },
    {
      "cell_type": "markdown",
      "metadata": {
        "id": "dTU1GDiHohmU"
      },
      "source": [
        "- (D) [Hints and Principles for Computer System Design](http://0.0.0.0:8000/3%20Computacion/Papers/Hints%20and%20Principles%20for%20Computer%20System%20Design.pdf)"
      ]
    },
    {
      "cell_type": "markdown",
      "metadata": {
        "id": "wbB6qTstohmX"
      },
      "source": [
        "Principles\n",
        " - Abstraction\n",
        " - Writing a spec\n",
        " - Writing the code\n",
        " - Modules and Interfaces\n",
        " - Points of View\n",
        " \n",
        "Goals and Techniques\n",
        "\n",
        "- Overview\n",
        "- Simple\n",
        "- Timely\n",
        "- Efficient\n",
        "- Adaptable\n",
        "- Dependable\n",
        "- Yummy\n",
        "- Incremental\n",
        "\n",
        "\n",
        "Process\n",
        "\n",
        "Oppositions\n",
        "\n",
        "- Simple <> rich, fine <> features, general <> specialized\n",
        "- Perfect <> adequate, exact <> tolerant\n",
        "- Spec <> code\n",
        "- Imperative <> functional <> declarative\n",
        "- Precise <> approximate software\n",
        "- Dynamic <> Static\n",
        "- Indirect <> inline\n",
        "- Time <> space\n",
        "- Lazy <> eager <> speculative\n",
        "- Centralize <> distributed, share <> copy\n",
        "- Fixed <> evolving, monolithic <> extensible\n",
        "- Evolution <> revolution\n",
        "- Policy <> mechanism]\n",
        "- Consistsent <> aviable <> partition-tolerant\n",
        "- Generate <> check\n",
        "- Persistent <> volatile\n",
        "- Being <> becoming\n",
        "- Iterative <> recursive, array <> tree\n",
        "- Recompete <> adjust\n",
        "\n",
        "Conclusion\n",
        "\n"
      ]
    }
  ]
}