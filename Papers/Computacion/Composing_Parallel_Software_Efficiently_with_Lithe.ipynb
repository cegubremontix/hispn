{
  "nbformat": 4,
  "nbformat_minor": 0,
  "metadata": {
    "colab": {
      "name": "Composing Parallel Software Efficiently with LitheDominant Resource Fairness: Fair Allocation of Multiple Resource Types.ipynb",
      "provenance": [],
      "include_colab_link": true
    },
    "kernelspec": {
      "name": "python3",
      "display_name": "Python 3"
    },
    "language_info": {
      "name": "python"
    }
  },
  "cells": [
    {
      "cell_type": "markdown",
      "metadata": {
        "id": "view-in-github",
        "colab_type": "text"
      },
      "source": [
        "<a href=\"https://colab.research.google.com/github/dbremont/Notas/blob/main/Papers/Computacion/Composing_Parallel_Software_Efficiently_with_Lithe.ipynb\" target=\"_parent\"><img src=\"https://colab.research.google.com/assets/colab-badge.svg\" alt=\"Open In Colab\"/></a>"
      ]
    },
    {
      "cell_type": "markdown",
      "metadata": {
        "id": "GPFIJnxFWbmK"
      },
      "source": [
        "Applications composed of multiple parallel libraries perform\n",
        "poorly when those libraries interfere with one another by oblivi-\n",
        "\n",
        "ously using the same physical cores, leading to destructive resource\n",
        "\n",
        "oversubscription. This paper presents the design and implementa-\n",
        "\n",
        "tion of Lithe, a low-level substrate that provides the basic primitives\n",
        "and a standard interface for composing parallel codes efficiently.\n",
        "\n",
        "Lithe can be inserted underneath the runtimes of legacy parallel li-\n",
        "\n",
        "braries to provide bolt-on composability without needing to change\n",
        "existing application code. Lithe can also serve as the foundation for\n",
        "\n",
        "building new parallel abstractions and libraries that automatically\n",
        "\n",
        "interoperate with one another.\n",
        "In this paper, we show versions of Threading Building Blocks\n",
        "(TBB) and OpenMP perform competitively with their original im-\n",
        "\n",
        "plementations when ported to Lithe. Furthermore, for two applica-\n",
        "\n",
        "tions composed of multiple parallel libraries, we show that lever-\n",
        "\n",
        "aging our substrate outperforms their original, even expertly tuned,\n",
        "\n",
        "implementations."
      ]
    }
  ]
}