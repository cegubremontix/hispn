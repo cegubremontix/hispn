{
  "nbformat": 4,
  "nbformat_minor": 0,
  "metadata": {
    "colab": {
      "name": "HyperDex: A Distributed, Searchable Key-Value Store.ipynb",
      "provenance": [],
      "include_colab_link": true
    },
    "kernelspec": {
      "name": "python3",
      "display_name": "Python 3"
    },
    "language_info": {
      "name": "python"
    }
  },
  "cells": [
    {
      "cell_type": "markdown",
      "metadata": {
        "id": "view-in-github",
        "colab_type": "text"
      },
      "source": [
        "<a href=\"https://colab.research.google.com/github/dbremont/Notas/blob/main/Papers/Computacion/HyperDex%3A_A_Distributed%2C_Searchable_Key-Value_Store.ipynb\" target=\"_parent\"><img src=\"https://colab.research.google.com/assets/colab-badge.svg\" alt=\"Open In Colab\"/></a>"
      ]
    },
    {
      "cell_type": "markdown",
      "metadata": {
        "id": "fm9lPgGsm6DO"
      },
      "source": [
        "Distributed key-value stores are now a standard component\n",
        "of high-performance web services and cloud computing ap-\n",
        "plications. While key-value stores offer significant perfor-\n",
        "mance and scalability advantages compared to traditional\n",
        "databases, they achieve these properties through a restricted\n",
        "API that limits object retrieval—an object can only be re-\n",
        "trieved by the (primary and only) key under which it was\n",
        "inserted. This paper presents HyperDex, a novel distributed\n",
        "key-value store that provides a unique search primitive that\n",
        "enables queries on secondary attributes. The key insight\n",
        "behind HyperDex is the concept of hyperspace hashing in\n",
        "which objects with multiple attributes are mapped into a\n",
        "multidimensional hyperspace. This mapping leads to effi-\n",
        "cient implementations not only for retrieval by primary key,\n",
        "but also for partially-specified secondary attribute searches\n",
        "and range queries. A novel chaining protocol enables the\n",
        "system to achieve strong consistency, maintain availability\n",
        "and guarantee fault tolerance. An evaluation of the full sys-\n",
        "tem shows that HyperDex is 12-13×faster than Cassandra\n",
        "and MongoDB for finding partially specified objects. Ad-\n",
        "ditionally, HyperDex achieves 2-4×higher throughput for\n",
        "get/put operations."
      ]
    }
  ]
}