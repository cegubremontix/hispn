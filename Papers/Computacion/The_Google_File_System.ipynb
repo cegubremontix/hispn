{
  "nbformat": 4,
  "nbformat_minor": 0,
  "metadata": {
    "colab": {
      "name": "The Google File System.ipynb",
      "provenance": [],
      "include_colab_link": true
    },
    "kernelspec": {
      "name": "python3",
      "display_name": "Python 3"
    },
    "language_info": {
      "name": "python"
    }
  },
  "cells": [
    {
      "cell_type": "markdown",
      "metadata": {
        "id": "view-in-github",
        "colab_type": "text"
      },
      "source": [
        "<a href=\"https://colab.research.google.com/github/dbremont/Notas/blob/main/Papers/Computacion/The_Google_File_System.ipynb\" target=\"_parent\"><img src=\"https://colab.research.google.com/assets/colab-badge.svg\" alt=\"Open In Colab\"/></a>"
      ]
    },
    {
      "cell_type": "markdown",
      "metadata": {
        "id": "CAU9Q2Y8nwOf"
      },
      "source": [
        "Node failures happen frequently\n",
        "● Files are huge – multi-GB\n",
        "● Most files are modified by appending at the end\n",
        "○ Random writes (and overwrites) are practically non-existent\n",
        "● High sustained bandwidth is more important than low latency\n",
        "○ Place more priority on processing data in bulk"
      ]
    }
  ]
}