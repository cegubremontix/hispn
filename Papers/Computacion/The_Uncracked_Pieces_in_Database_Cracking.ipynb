{
  "nbformat": 4,
  "nbformat_minor": 0,
  "metadata": {
    "colab": {
      "name": "The Uncracked Pieces in Database Cracking.ipynb",
      "provenance": [],
      "include_colab_link": true
    },
    "kernelspec": {
      "name": "python3",
      "display_name": "Python 3"
    },
    "language_info": {
      "name": "python"
    }
  },
  "cells": [
    {
      "cell_type": "markdown",
      "metadata": {
        "id": "view-in-github",
        "colab_type": "text"
      },
      "source": [
        "<a href=\"https://colab.research.google.com/github/dbremont/Notas/blob/main/Papers/Computacion/The_Uncracked_Pieces_in_Database_Cracking.ipynb\" target=\"_parent\"><img src=\"https://colab.research.google.com/assets/colab-badge.svg\" alt=\"Open In Colab\"/></a>"
      ]
    },
    {
      "cell_type": "markdown",
      "metadata": {
        "id": "-1QlXZ0lA110"
      },
      "source": [
        "data base cracking\n",
        "\n",
        "what is the core idea of data base craking?\n",
        "\n",
        "hybrid cracking\n",
        "\n",
        "stochastic cracking\n",
        "\n",
        "Adptive Radix Tree (ART)\n",
        "\n",
        "Cracking Algorithms\n",
        "\n",
        "(buffered swapping\n",
        "\n",
        "cracker column (covered cracking)\n",
        "\n",
        "coarse-granular indexing\n",
        "\n",
        "AVL-Tree\n",
        "\n",
        "AVL-Tree lookup time\n",
        "\n",
        "Crack-in-two Vs Crack-in-three\n",
        "\n",
        "Standard Cracking Algorithm\n",
        "\n",
        "Key Concerns in Standard Cracking\n",
        "\n",
        "Advanced Cracking Algorithms\n",
        "\n",
        "partial sideways cracking\n",
        "\n",
        "Cracking Classification\n",
        "\n",
        "Database cracking is a mature field of research.\n",
        "\n",
        "\n",
        "\n"
      ]
    }
  ]
}