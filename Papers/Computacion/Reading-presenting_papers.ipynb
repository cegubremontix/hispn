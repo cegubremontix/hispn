{
  "nbformat": 4,
  "nbformat_minor": 0,
  "metadata": {
    "colab": {
      "name": "Reading-presenting papers.ipynb",
      "provenance": [],
      "include_colab_link": true
    },
    "kernelspec": {
      "name": "python3",
      "display_name": "Python 3"
    },
    "language_info": {
      "name": "python"
    }
  },
  "cells": [
    {
      "cell_type": "markdown",
      "metadata": {
        "id": "view-in-github",
        "colab_type": "text"
      },
      "source": [
        "<a href=\"https://colab.research.google.com/github/dbremont/Notas/blob/main/Papers/Computacion/Reading-presenting_papers.ipynb\" target=\"_parent\"><img src=\"https://colab.research.google.com/assets/colab-badge.svg\" alt=\"Open In Colab\"/></a>"
      ]
    },
    {
      "cell_type": "markdown",
      "metadata": {
        "id": "1bZhi601ZNeh"
      },
      "source": [
        "Read  once  for  perspective,  twice  for  details\n",
        "– Large  systems  have  many  “moving  parts”  (Lect.  1)\n",
        "– Analogous  to  “build  one  to  throw  one  away”,  you  may  \n",
        "need  to  revisit  the  paper  in  order  to  know  which  design  \n",
        "details  to  focus  on"
      ]
    }
  ]
}