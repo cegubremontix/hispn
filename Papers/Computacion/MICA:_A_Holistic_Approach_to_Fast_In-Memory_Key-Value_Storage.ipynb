{
  "nbformat": 4,
  "nbformat_minor": 0,
  "metadata": {
    "colab": {
      "name": "MICA: A Holistic Approach to Fast In-Memory Key-Value Storage.ipynb",
      "provenance": [],
      "include_colab_link": true
    },
    "kernelspec": {
      "name": "python3",
      "display_name": "Python 3"
    },
    "language_info": {
      "name": "python"
    }
  },
  "cells": [
    {
      "cell_type": "markdown",
      "metadata": {
        "id": "view-in-github",
        "colab_type": "text"
      },
      "source": [
        "<a href=\"https://colab.research.google.com/github/dbremont/Notas/blob/main/Papers/Computacion/MICA%3A_A_Holistic_Approach_to_Fast_In-Memory_Key-Value_Storage.ipynb\" target=\"_parent\"><img src=\"https://colab.research.google.com/assets/colab-badge.svg\" alt=\"Open In Colab\"/></a>"
      ]
    },
    {
      "cell_type": "markdown",
      "metadata": {
        "id": "SgZem3Lhxjjm"
      },
      "source": [
        "MICA is a scalable in-memory key-value store that handles 65.6 to 76.9 million key-value operations per second\n",
        "using a single general-purpose multi-core system. MICA\n",
        "is over 4–13.5x faster than current state-of-the-art systems, while providing consistently high throughput over\n",
        "a variety of mixed read and write workloads."
      ]
    },
    {
      "cell_type": "markdown",
      "metadata": {
        "id": "ZqU3_-KJxkFF"
      },
      "source": [
        "MICA takes a holistic approach that encompasses all\n",
        "aspects of request handling, including parallel data access,\n",
        "network request handling, and data structure design, but\n",
        "makes unconventional choices in each of the three domains. First, MICA optimizes for multi-core architectures\n",
        "by enabling parallel access to partitioned data. Second,\n",
        "for efficient parallel data access, MICA maps client requests directly to specific CPU cores at the server NIC\n",
        "level by using client-supplied information and adopts a\n",
        "light-weight networking stack that bypasses the kernel.\n",
        "Finally, MICA’s new data structures—circular logs, lossy\n",
        "concurrent hash indexes, and bulk chaining—handle both\n",
        "read- and write-intensive workloads at low overhead."
      ]
    }
  ]
}