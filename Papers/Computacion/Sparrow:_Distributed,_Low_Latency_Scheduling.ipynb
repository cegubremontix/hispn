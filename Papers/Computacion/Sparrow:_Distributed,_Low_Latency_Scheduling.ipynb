{
  "nbformat": 4,
  "nbformat_minor": 0,
  "metadata": {
    "colab": {
      "name": "Sparrow: Distributed, Low Latency Scheduling.ipynb",
      "provenance": [],
      "include_colab_link": true
    },
    "kernelspec": {
      "name": "python3",
      "display_name": "Python 3"
    },
    "language_info": {
      "name": "python"
    }
  },
  "cells": [
    {
      "cell_type": "markdown",
      "metadata": {
        "id": "view-in-github",
        "colab_type": "text"
      },
      "source": [
        "<a href=\"https://colab.research.google.com/github/dbremont/Notas/blob/main/Papers/Computacion/Sparrow%3A_Distributed%2C_Low_Latency_Scheduling.ipynb\" target=\"_parent\"><img src=\"https://colab.research.google.com/assets/colab-badge.svg\" alt=\"Open In Colab\"/></a>"
      ]
    },
    {
      "cell_type": "markdown",
      "metadata": {
        "id": "iVMtH39IhQVh"
      },
      "source": [
        "Large-scale data analytics frameworks are shifting towards shorter task durations and larger degrees of parallelism to provide low latency. Scheduling highly parallel\n",
        "jobs that complete in hundreds of milliseconds poses a\n",
        "major challenge for task schedulers, which will need to\n",
        "schedule millions of tasks per second on appropriate machines while offering millisecond-level latency and high\n",
        "availability. We demonstrate that a decentralized, randomized sampling approach provides near-optimal performance while avoiding the throughput and availability\n",
        "limitations of a centralized design. We implement and\n",
        "deploy our scheduler, Sparrow, on a 110-machine cluster and demonstrate that Sparrow performs within 12%\n",
        "of an ideal scheduler"
      ]
    }
  ]
}