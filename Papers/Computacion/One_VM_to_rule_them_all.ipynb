{
  "nbformat": 4,
  "nbformat_minor": 0,
  "metadata": {
    "colab": {
      "name": "One VM to rule them all.ipynb",
      "provenance": [],
      "include_colab_link": true
    },
    "kernelspec": {
      "name": "python3",
      "display_name": "Python 3"
    },
    "language_info": {
      "name": "python"
    }
  },
  "cells": [
    {
      "cell_type": "markdown",
      "metadata": {
        "id": "view-in-github",
        "colab_type": "text"
      },
      "source": [
        "<a href=\"https://colab.research.google.com/github/dbremont/Notas/blob/main/Papers/Computacion/One_VM_to_rule_them_all.ipynb\" target=\"_parent\"><img src=\"https://colab.research.google.com/assets/colab-badge.svg\" alt=\"Open In Colab\"/></a>"
      ]
    },
    {
      "cell_type": "markdown",
      "metadata": {
        "id": "0TQ1JPVaogv7"
      },
      "source": [
        "n this paper we present a simple and efficient method, called ARIES ( Algorithm for Recouery\n",
        "and Isolation Exploiting Semantics), which supports partial rollbacks of transactions, fine-\n",
        "granularity (e. g., record) locking and recovery using write-ahead logging (WAL). We introduce\n",
        "the paradigm of repeating history to redo all missing updates before performing the rollbacks of\n",
        "the loser transactions during restart after a system failure. ARIES uses a log sequence number\n",
        "in each page to correlate the state of a page with respect to logged updates of that page. All\n",
        "updates of a transaction are logged, including those performed during rollbacks. By appropriate\n",
        "chaining of the log records written during rollbacks to those written during forward progress, a\n",
        "bounded amount of logging is ensured during rollbacks even in the face of repeated failures\n",
        "during restart or of nested rollbacks We deal with a variety of features that are very Important\n",
        "in building and operating an industrial-strength transaction processing system ARIES supports\n",
        "fuzzy checkpoints, selective and deferred restart, fuzzy image copies, media recovery, and high\n",
        "concurrency lock modes (e. g., increment /decrement) which exploit the semantics of the opera-\n",
        "tions and require the ability to perform operation logging. ARIES is flexible with respect\n",
        "to the kinds of buffer management policies that can be implemented. It supports objects of\n",
        "varying length efficiently. By enabling parallelism during restart, page-oriented redo, and\n",
        "logical undo, it enhances concurrency and performance. We show why some of the System R\n",
        "paradigms for logging and recovery, which were based on the shadow page technique, need to be\n",
        "changed in the context of WAL. We compare ARIES to the WAL-based recovery methods of DB2TM, IMS, and TandemTM systems. ARIES is applicable not only to database management\n",
        "systems but also to persistent object-oriented languages, recoverable file systems and\n",
        "transaction-based operating systems. ARIES has been implemented, to varying degrees, in\n",
        "IBM’s OS/2TM Extended Edition Database Manager, DB2, Workstation Data Save Facility/VM,\n",
        "Starburst and QuickSilver, and in the University of Wisconsin’s EXODUS and Gamma database\n",
        "machine."
      ]
    }
  ]
}
