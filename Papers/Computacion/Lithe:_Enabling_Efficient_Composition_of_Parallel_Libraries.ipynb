{
  "nbformat": 4,
  "nbformat_minor": 0,
  "metadata": {
    "colab": {
      "name": "Lithe: Enabling Efficient Composition of Parallel Libraries.ipynb",
      "provenance": [],
      "include_colab_link": true
    },
    "kernelspec": {
      "name": "python3",
      "display_name": "Python 3"
    },
    "language_info": {
      "name": "python"
    }
  },
  "cells": [
    {
      "cell_type": "markdown",
      "metadata": {
        "id": "view-in-github",
        "colab_type": "text"
      },
      "source": [
        "<a href=\"https://colab.research.google.com/github/dbremont/Notas/blob/main/Papers/Computacion/Lithe%3A_Enabling_Efficient_Composition_of_Parallel_Libraries.ipynb\" target=\"_parent\"><img src=\"https://colab.research.google.com/assets/colab-badge.svg\" alt=\"Open In Colab\"/></a>"
      ]
    },
    {
      "cell_type": "markdown",
      "metadata": {
        "id": "ySvSreHJai61"
      },
      "source": [
        "For the software industry to take advantage of multi-\n",
        "\n",
        "core processors, we must allow programmers to arbi-\n",
        "\n",
        "trarily compose parallel libraries without sacrificing per-\n",
        "formance. We argue that high-level task or thread ab-\n",
        "\n",
        "stractions and a common global scheduler cannot pro-\n",
        "\n",
        "vide effective library composition. Instead, the operat-\n",
        "\n",
        "ing system should expose unvirtualized processing re-\n",
        "\n",
        "sources that can be shared cooperatively between parallel\n",
        "\n",
        "libraries within an application. In this paper, we describe\n",
        "\n",
        "a system that standardizes and facilitates the exchange\n",
        "\n",
        "of these unvirtualized processing resources between li-\n",
        "\n",
        "braries."
      ]
    }
  ]
}