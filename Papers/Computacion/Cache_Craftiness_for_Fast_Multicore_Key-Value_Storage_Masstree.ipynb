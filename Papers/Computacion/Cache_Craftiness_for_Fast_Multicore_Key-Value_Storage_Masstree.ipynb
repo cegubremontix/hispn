{
  "nbformat": 4,
  "nbformat_minor": 0,
  "metadata": {
    "colab": {
      "name": "Cache Craftiness for Fast Multicore Key-Value Storage (Masstree).ipynb",
      "provenance": [],
      "include_colab_link": true
    },
    "kernelspec": {
      "name": "python3",
      "display_name": "Python 3"
    },
    "language_info": {
      "name": "python"
    }
  },
  "cells": [
    {
      "cell_type": "markdown",
      "metadata": {
        "id": "view-in-github",
        "colab_type": "text"
      },
      "source": [
        "<a href=\"https://colab.research.google.com/github/dbremont/Notas/blob/main/Papers/Computacion/Cache_Craftiness_for_Fast_Multicore_Key-Value_Storage_Masstree.ipynb\" target=\"_parent\"><img src=\"https://colab.research.google.com/assets/colab-badge.svg\" alt=\"Open In Colab\"/></a>"
      ]
    },
    {
      "cell_type": "markdown",
      "metadata": {
        "id": "4uAUfe4TX4Az"
      },
      "source": [
        "We present Masstree, a fast key-value database designed for\n",
        "SMP machines. Masstree keeps all data in memory. Its main\n",
        "data structure is a trie-like concatenation of B+-trees, each of\n",
        "which handles a fixed-length slice of a variable-length key.\n",
        "This structure effectively handles arbitrary-length possibly-\n",
        "binary keys, including keys with long shared prefixes. B+-\n",
        "tree fanout was chosen to minimize total DRAM delay when\n",
        "descending the tree and prefetching each tree node. Lookups\n",
        "use optimistic concurrency control, a read-copy-update-like\n",
        "technique, and do not write shared data structures; updates\n",
        "lock only affected nodes. Logging and checkpointing pro-\n",
        "vide consistency and durability. Though some of these ideas\n",
        "appear elsewhere, Masstree is the first to combine them. We\n",
        "discuss design variants and their consequences.\n",
        "\n",
        "On a 16-core machine, with logging enabled and queries\n",
        "arriving over a network, Masstree executes more than six\n",
        "million simple queries per second. This performance is com-\n",
        "parable to that of memcached, a non-persistent hash table\n",
        "server, and higher (often much higher) than that of VoltDB,\n",
        "MongoDB, and Redis."
      ]
    }
  ]
}