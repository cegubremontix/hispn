{
 "cells": [
  {
   "cell_type": "markdown",
   "metadata": {},
   "source": [
    "This paper is about network communication systems.\n",
    "It's about \"proper layering\".\n",
    "The End-to-End Argument it's just an argument.\n",
    "\n",
    "\n",
    "\n",
    "Create a layers of abstraction, building with simple primitives in the basics layers.\n",
    "\n",
    "\"Dumb Network, Intelligent Endpoints\", In the case of networks.\n",
    "\n",
    "RICS VS SISC.\n",
    "\n",
    "The operative system should provite simples primitives, and let applications build in top of that. Because if not the application may have the re-adapt or re-implemented version of abstraction that the os was designed to provided.\n",
    "\n",
    "So the idea create an abstraction stack in which simple primitives at the button, let creates more complex primitives at the top.\n"
   ]
  }
 ],
 "metadata": {
  "kernelspec": {
   "display_name": "Python 2.7.18 64-bit",
   "name": "python2718jvsc74a57bd0f92b2924b84ff19c1c3dc485f7644d4486f64738191026bf8e6de303969141b5"
  },
  "language_info": {
   "name": "python",
   "version": ""
  },
  "metadata": {
   "interpreter": {
    "hash": "f92b2924b84ff19c1c3dc485f7644d4486f64738191026bf8e6de303969141b5"
   }
  },
  "orig_nbformat": 2
 },
 "nbformat": 4,
 "nbformat_minor": 2
}