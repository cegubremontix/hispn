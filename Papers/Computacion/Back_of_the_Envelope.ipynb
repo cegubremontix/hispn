{
  "nbformat": 4,
  "nbformat_minor": 0,
  "metadata": {
    "colab": {
      "name": "Back of the Envelope.ipynb",
      "provenance": [],
      "include_colab_link": true
    },
    "kernelspec": {
      "name": "python3",
      "display_name": "Python 3"
    },
    "language_info": {
      "name": "python"
    }
  },
  "cells": [
    {
      "cell_type": "markdown",
      "metadata": {
        "id": "view-in-github",
        "colab_type": "text"
      },
      "source": [
        "<a href=\"https://colab.research.google.com/github/dbremont/Notas/blob/main/Papers/Computacion/Back_of_the_Envelope.ipynb\" target=\"_parent\"><img src=\"https://colab.research.google.com/assets/colab-badge.svg\" alt=\"Open In Colab\"/></a>"
      ]
    },
    {
      "cell_type": "markdown",
      "metadata": {
        "id": "iGP3iu0qtbVo"
      },
      "source": [
        "[Ir](https://en.wikipedia.org/wiki/Back-of-the-envelope_calculation)\n",
        "\n",
        "A back-of-the-envelope calculation is a rough calculation, typically jotted down on any available scrap of paper such as an envelope. It is more than a guess but less than an accurate calculation or mathematical proof. The defining characteristic of back-of-the-envelope calculations is the use of simplified assumptions.\n",
        "\n",
        "A similar phrase in the U.S. is \"back of a napkin\", also used in the business world to describe sketching out a quick, rough idea of a business or product.[1] In British English, a similar idiom is \"back of a fag packet\". "
      ]
    }
  ]
}