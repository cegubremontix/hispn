{
  "nbformat": 4,
  "nbformat_minor": 0,
  "metadata": {
    "colab": {
      "name": "Are Virtual Machine Monitors Microkernels Done Right?.ipynb",
      "provenance": [],
      "include_colab_link": true
    },
    "kernelspec": {
      "name": "python3",
      "display_name": "Python 3"
    },
    "language_info": {
      "name": "python"
    }
  },
  "cells": [
    {
      "cell_type": "markdown",
      "metadata": {
        "id": "view-in-github",
        "colab_type": "text"
      },
      "source": [
        "<a href=\"https://colab.research.google.com/github/dbremont/Notas/blob/main/Papers/Computacion/Are_Virtual_Machine_Monitors_Microkernels_Done_Right.ipynb\" target=\"_parent\"><img src=\"https://colab.research.google.com/assets/colab-badge.svg\" alt=\"Open In Colab\"/></a>"
      ]
    },
    {
      "cell_type": "markdown",
      "metadata": {
        "id": "op3VTncukscL"
      },
      "source": [
        "At the last HotOS, Mendel Rosenblum gave an ‘outra-\n",
        "geous’ opinion that the academic obsession with micro-\n",
        "kernels during the past two decades produced many pub-\n",
        "lications but little impact. He argued that virtual machine\n",
        "monitors (VMMs) had had considerably more practical\n",
        "uptake, despite—or perhaps due to—being principally\n",
        "developed by industry.\n",
        "In this paper, we investigate this claim in light of our\n",
        "experiences in developing the Xen [1] virtual machine\n",
        "monitor. We argue that modern VMMs present a practi-\n",
        "cal platform which allows the development and deploy-\n",
        "ment of innovative systems research: in essence, VMMs\n",
        "are microkernels done right.\n",
        "We first compare and contrast the architectural purity of\n",
        "microkernels with the pragmatic design of VMMs. In\n",
        "Section 3, we discuss several technical characteristics of\n",
        "microkernels that have proven, in our experience, to be\n",
        "incompatible with effective VMM design.\n",
        "Rob Pike has irreverently suggested that “systems soft-\n",
        "ware research is irrelevant”, implying that academic sys-\n",
        "tems research has negligible impact outside the univer-\n",
        "sity. In Section 4, we claim that VMMs provide a plat-\n",
        "form on which innovative systems research ideas can be\n",
        "developed and deployed. We believe that providing a\n",
        "common framework for hosting novel systems will in-\n",
        "crease the penetration and relevance of systems research."
      ]
    }
  ]
}