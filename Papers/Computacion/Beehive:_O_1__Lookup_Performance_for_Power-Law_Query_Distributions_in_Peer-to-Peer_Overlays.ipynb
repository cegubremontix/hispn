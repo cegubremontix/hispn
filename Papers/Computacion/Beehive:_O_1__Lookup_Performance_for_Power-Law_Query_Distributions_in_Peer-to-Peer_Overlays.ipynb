{
  "nbformat": 4,
  "nbformat_minor": 0,
  "metadata": {
    "colab": {
      "name": "Beehive: O(1) Lookup Performance for Power-Law Query Distributions in Peer-to-Peer Overlays.ipynb",
      "provenance": [],
      "include_colab_link": true
    },
    "kernelspec": {
      "name": "python3",
      "display_name": "Python 3"
    },
    "language_info": {
      "name": "python"
    }
  },
  "cells": [
    {
      "cell_type": "markdown",
      "metadata": {
        "id": "view-in-github",
        "colab_type": "text"
      },
      "source": [
        "<a href=\"https://colab.research.google.com/github/dbremont/Notas/blob/main/Papers/Computacion/Beehive%3A_O_1__Lookup_Performance_for_Power-Law_Query_Distributions_in_Peer-to-Peer_Overlays.ipynb\" target=\"_parent\"><img src=\"https://colab.research.google.com/assets/colab-badge.svg\" alt=\"Open In Colab\"/></a>"
      ]
    },
    {
      "cell_type": "markdown",
      "metadata": {
        "id": "xgL28r5iplMm"
      },
      "source": [
        "Structured peer-to-peer hash tables provide decentral-\n",
        "ization, self-organization, failure-resilience, and good\n",
        "worst-case lookup performance for applications, but suf-\n",
        "fer from high latencies (O(logN )) in the average case.\n",
        "Such high latencies prohibit them from being used in\n",
        "many relevant, demanding applications such as DNS.\n",
        "In this paper, we present a proactive replication frame-\n",
        "work that can provide constant lookup performance for\n",
        "common Zipf-like query distributions. This framework\n",
        "is based around a closed-form optimal solution that\n",
        "achieves O(1) lookup performance with low storage re-\n",
        "quirements, bandwidth overhead and network load. Sim-\n",
        "ulations show that this replication framework can re-\n",
        "alistically achieve good latencies, outperform passive\n",
        "caching, and adapt efficiently to sudden changes in ob-\n",
        "ject popularity, also known as flash crowds. This frame-\n",
        "work provides a feasible substrate for high-performance,\n",
        "low-latency applications, such as peer-to-peer domain\n",
        "name service"
      ]
    }
  ]
}