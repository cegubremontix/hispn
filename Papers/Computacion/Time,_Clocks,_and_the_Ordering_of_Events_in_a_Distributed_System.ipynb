{
  "nbformat": 4,
  "nbformat_minor": 0,
  "metadata": {
    "colab": {
      "name": "Time, Clocks, and the Ordering of Events in a Distributed System.ipynb",
      "provenance": [],
      "include_colab_link": true
    },
    "kernelspec": {
      "name": "python3",
      "display_name": "Python 3"
    },
    "language_info": {
      "name": "python"
    }
  },
  "cells": [
    {
      "cell_type": "markdown",
      "metadata": {
        "id": "view-in-github",
        "colab_type": "text"
      },
      "source": [
        "<a href=\"https://colab.research.google.com/github/dbremont/Notas/blob/main/Papers/Computacion/Time%2C_Clocks%2C_and_the_Ordering_of_Events_in_a_Distributed_System.ipynb\" target=\"_parent\"><img src=\"https://colab.research.google.com/assets/colab-badge.svg\" alt=\"Open In Colab\"/></a>"
      ]
    },
    {
      "cell_type": "markdown",
      "metadata": {
        "id": "7kDYYhvytjue"
      },
      "source": [
        "The  c o n c e p t    of  one  event  happening  before  another \n",
        "in  a  distributed  system  is  examined,  and  is  shown  to \n",
        "define  a  partial  ordering  of the  events.  A  distributed \n",
        "algorithm  is  given  for  synchronizing a  system  of logical \n",
        "clocks  which  can  be  used  to  totally  order  the events. \n",
        "T h e    use  of the total  ordering  is  illustrated  with  a \n",
        "method  for  solving  synchronization problems.  The \n",
        "algorithm  is  then  specialized  for  synchronizing physical \n",
        "clocks,  and  a  bound is  derived  on  how far  out of \n",
        "synchrony the clocks  can  become. \n",
        "Key  Words  and  Phrases:  distributed  systems, \n",
        "computer  networks,  clock  synchronization, multiprocess \n",
        "systems \n",
        "CR  Categories:  4.32,  5.29"
      ]
    }
  ]
}