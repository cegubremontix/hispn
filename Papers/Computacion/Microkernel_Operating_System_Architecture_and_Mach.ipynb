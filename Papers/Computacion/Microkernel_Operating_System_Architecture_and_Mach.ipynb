{
  "nbformat": 4,
  "nbformat_minor": 0,
  "metadata": {
    "colab": {
      "name": "Microkernel Operating System Architecture and Mach.ipynb",
      "provenance": [],
      "include_colab_link": true
    },
    "kernelspec": {
      "name": "python3",
      "display_name": "Python 3"
    },
    "language_info": {
      "name": "python"
    }
  },
  "cells": [
    {
      "cell_type": "markdown",
      "metadata": {
        "id": "view-in-github",
        "colab_type": "text"
      },
      "source": [
        "<a href=\"https://colab.research.google.com/github/dbremont/Notas/blob/main/Papers/Computacion/Microkernel_Operating_System_Architecture_and_Mach.ipynb\" target=\"_parent\"><img src=\"https://colab.research.google.com/assets/colab-badge.svg\" alt=\"Open In Colab\"/></a>"
      ]
    },
    {
      "cell_type": "markdown",
      "metadata": {
        "id": "Kzh4qJK9MMSj"
      },
      "source": [
        "Modular architectures based on a microkernel are suitable bases for the design and implementation of operative systems. Prototpye systems employing microkernel architectures are achieving the level of functionality and performace expected and requeired of comercial products.\n",
        "\n",
        "This paper describe the Mach microkernel, its use to suport impeletnation of other operetative sysstems, and the status of the efforts."
      ]
    }
  ]
}