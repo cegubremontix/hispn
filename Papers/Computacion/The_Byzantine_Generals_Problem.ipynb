{
  "nbformat": 4,
  "nbformat_minor": 0,
  "metadata": {
    "colab": {
      "name": "The Byzantine Generals Problem.ipynb",
      "provenance": [],
      "include_colab_link": true
    },
    "kernelspec": {
      "name": "python3",
      "display_name": "Python 3"
    },
    "language_info": {
      "name": "python"
    }
  },
  "cells": [
    {
      "cell_type": "markdown",
      "metadata": {
        "id": "view-in-github",
        "colab_type": "text"
      },
      "source": [
        "<a href=\"https://colab.research.google.com/github/dbremont/Notas/blob/main/Papers/Computacion/The_Byzantine_Generals_Problem.ipynb\" target=\"_parent\"><img src=\"https://colab.research.google.com/assets/colab-badge.svg\" alt=\"Open In Colab\"/></a>"
      ]
    },
    {
      "cell_type": "markdown",
      "metadata": {
        "id": "GxsB4rsclSu4"
      },
      "source": [
        "Reliable computer systems  must handle malfunctioning components that give conflicting information \n",
        "to  different  parts  of the  system.  This situation can be  expressed  abstractly in terms of a  group  of \n",
        "generals  of the Byzantine army camped with their troops  around an enemy city. Communicating only \n",
        "by messenger,  the  generals  must agree  upon a  common battle plan. However,  one or more of them \n",
        "may be traitors who will try to confuse the others.  The problem is to find an algorithm to ensure that \n",
        "the  loyal generals  will reach agreement.  It is shown  that, using only oral messages, this problem is \n",
        "solvable  if and only if more than two-thirds  of the generals  are loyal; so a single traitor can confound \n",
        "two  loyal generals.  With unforgeable  written messages,  the  problem is solvable  for  any number of \n",
        "generals  and possible  traitors.  Applications  of the  solutions to  reliable computer systems are  then \n",
        "discussed."
      ]
    }
  ]
}