{
  "nbformat": 4,
  "nbformat_minor": 0,
  "metadata": {
    "colab": {
      "name": "Freenet: A Distributed Anonymous Information Storage and Retrieval System.ipynb",
      "provenance": [],
      "include_colab_link": true
    },
    "kernelspec": {
      "name": "python3",
      "display_name": "Python 3"
    },
    "language_info": {
      "name": "python"
    }
  },
  "cells": [
    {
      "cell_type": "markdown",
      "metadata": {
        "id": "view-in-github",
        "colab_type": "text"
      },
      "source": [
        "<a href=\"https://colab.research.google.com/github/dbremont/Notas/blob/main/Papers/Computacion/Freenet%3A_A_Distributed_Anonymous_Information_Storage_and_Retrieval_System.ipynb\" target=\"_parent\"><img src=\"https://colab.research.google.com/assets/colab-badge.svg\" alt=\"Open In Colab\"/></a>"
      ]
    },
    {
      "cell_type": "markdown",
      "metadata": {
        "id": "iJwYcrIkiSkf"
      },
      "source": [
        "An adaptive pper-to-peer netwoork aplication that permits the publication, replication, and retrieval of data while protecting the anonymiti of both authors adn readers. Frenet operates as a network of identical nodes that collectively pool their storage space to store data files and cooperate to route request to the most likely physical locatio of data.\n",
        "\n",
        "No broadcast search or centralized location index is employed. Files are refered to in a location-independent manner, and are dynamically replicated in locations near request ors and deletd from location swhere there is not interest. It is infeasible to discover the true origin or destination of a file passing through the network, and difficult for a node operator to determine or be held responsible for the  actual physical contents of her own node."
      ]
    }
  ]
}