{
  "nbformat": 4,
  "nbformat_minor": 0,
  "metadata": {
    "colab": {
      "name": "Disk Failures in the Real World.ipynb",
      "provenance": [],
      "include_colab_link": true
    },
    "kernelspec": {
      "name": "python3",
      "display_name": "Python 3"
    },
    "language_info": {
      "name": "python"
    }
  },
  "cells": [
    {
      "cell_type": "markdown",
      "metadata": {
        "id": "view-in-github",
        "colab_type": "text"
      },
      "source": [
        "<a href=\"https://colab.research.google.com/github/dbremont/Notas/blob/main/Papers/Computacion/Disk_Failures_in_the_Real_World.ipynb\" target=\"_parent\"><img src=\"https://colab.research.google.com/assets/colab-badge.svg\" alt=\"Open In Colab\"/></a>"
      ]
    },
    {
      "cell_type": "markdown",
      "metadata": {
        "id": "WPgbZ0DT7Noo"
      },
      "source": [
        "present and analyze filed-gathered disk repalcnet mdata form a nubme rof large productions styds, includig high-performace, computig sits an d internet services sites.\n",
        "\n",
        "About 100, 000 disks are converd by this data, som efor an enteire lifetime fof five years.\n",
        "\n",
        "What is a disk failure?\n",
        "\n",
        "data sources for the paper?\n",
        "\n",
        "mean time to failure (MTTF)\n",
        "\n",
        "annnualied failure rate (AFR)\n",
        "\n",
        "\n",
        "Statitical method for the paper\n",
        "\n",
        "characterize an empircal distribution usign two importn metrics, the mean and the squere coeficinet of variaction $C^2$\n",
        "\n",
        "disk replacement rates\n",
        "\n",
        "statistical properties of disk failures\n",
        "\n",
        "- failures are independnt\n",
        "- the time between failures follows and exponential distribution\n",
        "\n",
        "list the observations of the papers\n"
      ]
    }
  ]
}