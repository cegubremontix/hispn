{
 "cells": [
  {
   "cell_type": "markdown",
   "metadata": {},
   "source": [
    "Event-Driven Programming - Introduction, Tutorial, History"
   ]
  },
  {
   "cell_type": "markdown",
   "metadata": {},
   "source": [
    "- (D)[Event-Driven Programming - Introduction, Tutorial, History](http://0.0.0.0:8000/3%20Computacion/Papers/Event-Driven%20Programming%20-%20Introduction%2C%20Tutorial%2C%20History.pdf)"
   ]
  }
 ],
 "metadata": {
  "kernelspec": {
   "display_name": "Python 2.7.18 64-bit",
   "name": "python2718jvsc74a57bd0f92b2924b84ff19c1c3dc485f7644d4486f64738191026bf8e6de303969141b5"
  },
  "language_info": {
   "name": "python",
   "version": ""
  },
  "metadata": {
   "interpreter": {
    "hash": "f92b2924b84ff19c1c3dc485f7644d4486f64738191026bf8e6de303969141b5"
   }
  },
  "orig_nbformat": 2
 },
 "nbformat": 4,
 "nbformat_minor": 2
}