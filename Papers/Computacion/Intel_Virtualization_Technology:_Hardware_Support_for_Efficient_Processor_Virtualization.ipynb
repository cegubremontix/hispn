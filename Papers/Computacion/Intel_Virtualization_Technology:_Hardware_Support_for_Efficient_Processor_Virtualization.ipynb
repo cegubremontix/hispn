{
  "nbformat": 4,
  "nbformat_minor": 0,
  "metadata": {
    "colab": {
      "name": "Intel Virtualization Technology: Hardware Support for Efficient Processor Virtualization.ipynb",
      "provenance": [],
      "include_colab_link": true
    },
    "kernelspec": {
      "name": "python3",
      "display_name": "Python 3"
    },
    "language_info": {
      "name": "python"
    }
  },
  "cells": [
    {
      "cell_type": "markdown",
      "metadata": {
        "id": "view-in-github",
        "colab_type": "text"
      },
      "source": [
        "<a href=\"https://colab.research.google.com/github/dbremont/Notas/blob/main/Papers/Computacion/Intel_Virtualization_Technology%3A_Hardware_Support_for_Efficient_Processor_Virtualization.ipynb\" target=\"_parent\"><img src=\"https://colab.research.google.com/assets/colab-badge.svg\" alt=\"Open In Colab\"/></a>"
      ]
    },
    {
      "cell_type": "markdown",
      "metadata": {
        "id": "NAJinf6WjL2w"
      },
      "source": [
        "Virtual machines have been used since the 1960’s in creative\n",
        "\n",
        "ways. From multiplexing expensive mainframes to providing\n",
        "\n",
        "backwards compatibility for customers migrating to new hard-\n",
        "ware, virtualization has allowed users to maximize their usage of\n",
        "limited hardware resources. Despite virtual machines falling by\n",
        "the way-side in the 1980’s with the rise of the minicomputer, we\n",
        "are now seeing a revival of virtualization with virtual machines\n",
        "being used for security, isolation, and testing among others.\n",
        "With so many creative uses for virtualization, ensuring high\n",
        "performance for applications running in a virtual machine be-\n",
        "comes critical. In this paper, we survey current research to-\n",
        "wards this end, focusing on the hardware support which en-\n",
        "\n",
        "ables efficient virtualization. Both Intel and AMD have incor-\n",
        "porated explicit support for virtualization into their CPU de-\n",
        "signs. While this can simplify the design of a stand alone virtual\n",
        "machine monitor (VMM), techniques such as paravirtualization\n",
        "and hosted VMM’s are still quite effective in supporting virtual\n",
        "machines.\n",
        "We compare and contrast current approaches to efficient vir-\n",
        "tualization, drawing parallels to techniques developed by IBM\n",
        "over thirty years ago. In addition to virtualizing the CPU, we\n",
        "also examine techniques focused on virtualizing I/O and the\n",
        "\n",
        "memory management unit (MMU). Where relevant, we identify\n",
        "\n",
        "shortcomings in current research and provide our own thoughts\n",
        "on the future direction of the virtualization field"
      ]
    }
  ]
}