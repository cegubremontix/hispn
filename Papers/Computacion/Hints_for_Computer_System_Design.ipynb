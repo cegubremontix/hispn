{
  "nbformat": 4,
  "nbformat_minor": 0,
  "metadata": {
    "colab": {
      "name": "Hints for Computer System Design.ipynb",
      "provenance": [],
      "include_colab_link": true
    },
    "kernelspec": {
      "name": "python3",
      "display_name": "Python 3"
    },
    "language_info": {
      "name": "python"
    }
  },
  "cells": [
    {
      "cell_type": "markdown",
      "metadata": {
        "id": "view-in-github",
        "colab_type": "text"
      },
      "source": [
        "<a href=\"https://colab.research.google.com/github/dbremont/Notas/blob/main/Papers/Computacion/Hints_for_Computer_System_Design.ipynb\" target=\"_parent\"><img src=\"https://colab.research.google.com/assets/colab-badge.svg\" alt=\"Open In Colab\"/></a>"
      ]
    },
    {
      "cell_type": "markdown",
      "metadata": {
        "id": "kMQux9asUodW"
      },
      "source": [
        "This  new  long  version  of  my  1983  paper  suggests  the  goals  you  might  have  for  your  system—\n",
        "Simple,  Timely,  Efficient,  Adaptable,  Dependable,  Yummy  (STEADY)—and  techniques  for \n",
        "achieving them—Approximate, Incremental, Divide & Conquer (AID). It also gives some princi-\n",
        "ples for system design that are more than just hints, and many examples of how to apply the ideas. "
      ]
    },
    {
      "cell_type": "markdown",
      "metadata": {
        "id": "rN1PKF-iUppM"
      },
      "source": [
        "\n",
        "1. Introduction \n",
        "\n",
        "2. Principles\n",
        "\n",
        "2.1  Abstraction 6 \n",
        "\n",
        "2.2  Writing a spec 9 \n",
        "\n",
        "2.3  Writing the code: Correctness 13 \n",
        "\n",
        "2.4  Modules and interfaces 16 \n",
        "\n",
        "2.5  Points of view 23 \n",
        "\n",
        "3. Goals and Techniques 25 \n",
        "\n",
        "3.1  Overview 25 \n",
        "\n",
        "3.2  Simple 26 \n",
        "\n",
        "3.3  Timely 30 \n",
        "\n",
        "3.4  Efficient 30 \n",
        "\n",
        "3.5  Adaptable 49 \n",
        "\n",
        "3.6  Dependable 53 \n",
        "\n",
        "3.7  Yummy 63 \n",
        "\n",
        "3.8  Incremental 65 \n",
        "\n",
        "4. Process 71 \n",
        "5. Oppositions 73 \n",
        "\n",
        "Simple ↔ rich, fine ↔ features, general ↔ specialized  73 \n",
        "\n",
        "Perfect ↔ adequate, exact ↔ tolerant   75 \n",
        "\n",
        "Spec ↔ code  76 \n",
        "\n",
        "Imperative ↔ functional ↔ declarative   77 \n",
        "\n",
        "Immutable ↔ append-only ↔ mutable   79 \n",
        "\n",
        "Precise ↔ approximate software   79 \n",
        "\n",
        "Dynamic ↔ static   80 \n",
        "\n",
        "Indirect ↔ inline   81 \n",
        "\n",
        "Time ↔ space   82 \n",
        "\n",
        "Lazy ↔ eager ↔ speculative   83 \n",
        "\n",
        "Centralized ↔ distributed, share ↔ copy   84 \n",
        "\n",
        "Fixed ↔ evolving, monolithic ↔ extensible  84 \n",
        "\n",
        "Evolution ↔ revolution   86 \n",
        "\n",
        "Policy ↔ mechanism   86 \n",
        "\n",
        "Consistent ↔ available ↔ partition-tolerant   86 \n",
        "\n",
        "Generate ↔ check   87 \n",
        "\n",
        "Persistent ↔ volatile   87 \n",
        "\n",
        "Being ↔ becoming   88 \n",
        "\n",
        "Iterative ↔ recursive, array ↔ tree   89 \n",
        "\n",
        "Recompute ↔ adjust   90 \n",
        "\n",
        "6. Conclusion 90 "
      ]
    }
  ]
}