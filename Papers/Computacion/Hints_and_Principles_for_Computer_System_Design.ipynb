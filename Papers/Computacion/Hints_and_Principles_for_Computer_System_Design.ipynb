{
  "nbformat": 4,
  "nbformat_minor": 0,
  "metadata": {
    "kernelspec": {
      "display_name": "Python 2.7.18 64-bit",
      "name": "python2718jvsc74a57bd0f92b2924b84ff19c1c3dc485f7644d4486f64738191026bf8e6de303969141b5"
    },
    "language_info": {
      "name": "python",
      "version": ""
    },
    "metadata": {
      "interpreter": {
        "hash": "f92b2924b84ff19c1c3dc485f7644d4486f64738191026bf8e6de303969141b5"
      }
    },
    "orig_nbformat": 2,
    "colab": {
      "name": "Hints and Principles for Computer System Design.ipynb",
      "provenance": [],
      "toc_visible": true,
      "include_colab_link": true
    }
  },
  "cells": [
    {
      "cell_type": "markdown",
      "metadata": {
        "id": "view-in-github",
        "colab_type": "text"
      },
      "source": [
        "<a href=\"https://colab.research.google.com/github/dbremont/Notas/blob/main/Papers/Computacion/Hints_and_Principles_for_Computer_System_Design.ipynb\" target=\"_parent\"><img src=\"https://colab.research.google.com/assets/colab-badge.svg\" alt=\"Open In Colab\"/></a>"
      ]
    },
    {
      "cell_type": "markdown",
      "metadata": {
        "id": "dTU1GDiHohmU"
      },
      "source": [
        "(D) [Hints and Principles for Computer System Design](http://0.0.0.0:8000/3%20Computacion/Papers/Hints%20and%20Principles%20for%20Computer%20System%20Design.pdf)"
      ]
    },
    {
      "cell_type": "markdown",
      "source": [
        "[Reading 11: Abstraction Functions & Rep Invariants](http://web.mit.edu/6.031/www/sp21/classes/11-abstraction-functions-rep-invariants/)"
      ],
      "metadata": {
        "id": "J8_LYEoE6iZT"
      }
    },
    {
      "cell_type": "markdown",
      "source": [
        "## Specifications\n",
        "[Ir](https://web.mit.edu/6.031/www/sp21/classes/06-specifications/)\n",
        "\n",
        "Introduction\n",
        "\n",
        "Java needed for this reading\n",
        "\n",
        "Behavioral equivalence\n",
        "\n",
        "Why specifications?\n",
        "\n",
        "Specification structure\n",
        "\n",
        "Specifications in Java\n",
        "\n",
        "Do not allow null references\n",
        "\n",
        "Include emptiness\n",
        "\n",
        "Testing and specifications\n",
        "\n",
        "Specifications for mutating methods\n",
        "Exceptions\n",
        "\n",
        "Checked and unchecked exceptions\n",
        "\n",
        "Summary\n",
        "\n",
        "More practice\n",
        "\n",
        "## Designing Specifications\n",
        "[Ir](https://web.mit.edu/6.031/www/sp21/classes/07-designing-specs/)\n",
        "\n",
        "Introduction\n",
        "\n",
        "Deterministic vs. underdetermined specs\n",
        "\n",
        "Declarative vs. operational specs\n",
        "\n",
        "Stronger vs. weaker specs\n",
        "\n",
        "Diagramming specifications\n",
        "\n",
        "Designing good specifications\n",
        "\n",
        "Precondition or postcondition?\n",
        "\n",
        "About access control\n",
        "\n",
        "About static vs. instance methods\n",
        "\n",
        "Summary\n",
        "\n",
        "More practice\n"
      ],
      "metadata": {
        "id": "Qsg43nA85P4V"
      }
    },
    {
      "cell_type": "markdown",
      "source": [
        "**Abstract**\n",
        "\n",
        "Goals for you system:\n",
        "- Simple,\n",
        "- Timely,\n",
        "- Efficient,\n",
        "- Adaptable,\n",
        "- Dependable,\n",
        "- Yummy (STEADY)\n",
        "\n",
        "Techniques for achieving them:\n",
        "- Approximate,\n",
        "- Incremental,\n",
        "- Divide & Conquer (AID)\n",
        " \n",
        "It also gives some principles for system design that are more than just hints, and many examples of how to apply the ideas."
      ],
      "metadata": {
        "id": "yczOfwTXsozH"
      }
    },
    {
      "cell_type": "markdown",
      "source": [
        "## Introduction"
      ],
      "metadata": {
        "id": "CXCz_fu6tw-l"
      }
    },
    {
      "cell_type": "markdown",
      "source": [
        "> There are three ules for writing a novel. Unfortunately, no one knows what they are. -Somerse Maugham\n",
        "\n",
        "> You got to be careful if you don't know where you're going, because you might not get there. -Yogi Berra\n",
        "\n",
        "> If I have seen father, it is by standing on the shoulders of giants. -Benard of Chartres\n",
        "\n",
        "\n",
        "What are the main different between designing an **algorithm** vs a **computer system**?\n",
        "\n",
        "- External Interface (Requirements),\n",
        "- Internal Structure,\n",
        "- Measure of Success\n",
        "\n",
        "I've organized the hints along three axes, corresponding to three time-honored questions, with a catchy summary: STEADY by AID with ART.\n",
        "\n",
        "- What?       **Goals**       STREADY: - Simple, Timely, Efficient, Adaptable, Dependable, Yummy\n",
        "- How?        **Techniques**  by AID:  - Approximate, Incremental, Divide & Conquer\n",
        "- When, who?  **Process**   with ART: - Architecture, Automate, Review, Techniques, Test\n",
        "\n",
        "Most important hints:\n",
        "- Keep it simple,\n",
        "- Write a spec,\n",
        "- Design with independent modules,\n",
        "- Exploit the ABCs of efficient,\n",
        "- Treat state as both being and becoming,\n",
        "- Use eventual consistency to keep data local\n",
        "\n",
        "**Opositions and Slogans**\n",
        "\n",
        "\n",
        "Goal|Opposition|Slogans\n",
        "--- | ---|:---: \n",
        "Principles|Spect↔Code| Have a spect. Get it right. Keep it clean\n",
        "|| Don’t hide power. Leave it to the client\n",
        "Simple|Simple↔rich, fine↔features, general↔specialezed|KISS: Keep It Simple, Stupid. Don’t generalize\n",
        "||Do one thing well. Don’t hide power\n",
        "||Make it fast. Use brute force\n",
        "|Pefect↔adequate, exact ↔ tolerant|Good enough. Worse is better\n",
        "||Flanky, springly parts\n",
        "|Spect↔code|Keep secrets. Free the implementer\n",
        "||Good fences make good neighbors\n",
        "||Embrace nondetermism. Abstractions leak\n",
        "|Imperative↔funtional↔declarative|Make it atomic. Use math. Say what you want\n",
        "|Immutable↔append-only↔mutable|Make it stay put\n",
        "Timely|Precise↔approximate software|Get it right. Make it cool\n",
        "Efficient||\n",
        "|Dynamic↔static|ABCs. Use theory. Latency vs bandwidth\n",
        "||$S^3$: shard, stream or struggle.\n",
        "|Dynamic↔inline|Stay loose. Pin it down. Split resources.\n",
        "|Indiret↔inline|Take a detour, see the world. Use what you know\n",
        "|Time↔space|Cache answers. Keep data small and close\n",
        "|Lazy↔eaget↔speculative|Put if off. Take a flyer\n",
        "|Centralized↔distributed, share↔copy|Doi it again. Make copies. Reach consensus\n",
        "Adaptable||\n",
        "|Fixed↔evolving|The only constant is change\n",
        "||Make it extensible. Flanky, springly parts\n",
        "|Evolution↔revolution|Stay calm. Ride the curve. Seize the moment\n",
        "|Policy↔mechanism|Change your mind\n",
        "Dependable|Consistent↔available ↔ partition-tolerant| Safety first. Always ready. Good enough\n",
        "|Generate ↔ check | Trust but verify\n",
        "|Persistent ↔ volatile| Don't forget. Start clean\n",
        "Yummy|Simple↔rich, fine↔features|KISS: Keep It Simple, Stupid\n",
        "Incremental|Being↔becoming|How did we get here? Don't copy, share\n",
        "|Interactive↔recursive, array↔tree|Keep doing it. A part is like the whole\n",
        "|Recompute↔adjust|Take small steps\n",
        "Process||Build a platform. Keep Interfaces stable\n"
      ],
      "metadata": {
        "id": "gCAuSqbWtysb"
      }
    },
    {
      "cell_type": "markdown",
      "source": [
        "## Principles"
      ],
      "metadata": {
        "id": "EVUDvCGWByqQ"
      }
    },
    {
      "cell_type": "markdown",
      "source": [
        "The quest for precision, in words or concepts or meanings, is a [wild goose chase](https://dictionary.cambridge.org/es/diccionario/ingles/wild-goose-chase). —Karl Popper\n",
        "\n",
        "This are not just hints, they are mental tools for system design.\n",
        "\n",
        "**Abstraction--Have a spec**\n",
        "\n",
        "**Writing a spec--KISS: Keep It Simple, Stupid**\n",
        "\n",
        "**Writing the code: Correctness--Get it right**\n",
        "\n",
        "**Modules and Interfaces--Keep it clean. Keep basic interfaces stable**\n",
        "\n",
        "**Points of View**\n",
        "\n",
        " "
      ],
      "metadata": {
        "id": "diapElmGB0a_"
      }
    }
  ]
}