{
  "nbformat": 4,
  "nbformat_minor": 0,
  "metadata": {
    "kernelspec": {
      "display_name": "Python 2.7.18 64-bit",
      "name": "python2718jvsc74a57bd0f92b2924b84ff19c1c3dc485f7644d4486f64738191026bf8e6de303969141b5"
    },
    "language_info": {
      "name": "python",
      "version": ""
    },
    "metadata": {
      "interpreter": {
        "hash": "f92b2924b84ff19c1c3dc485f7644d4486f64738191026bf8e6de303969141b5"
      }
    },
    "orig_nbformat": 2,
    "colab": {
      "name": "Hints and Principles for Computer System Design.ipynb",
      "provenance": [],
      "toc_visible": true,
      "include_colab_link": true
    }
  },
  "cells": [
    {
      "cell_type": "markdown",
      "metadata": {
        "id": "view-in-github",
        "colab_type": "text"
      },
      "source": [
        "<a href=\"https://colab.research.google.com/github/dbremont/Notas/blob/main/Papers/Computacion/Hints_and_Principles_for_Computer_System_Design.ipynb\" target=\"_parent\"><img src=\"https://colab.research.google.com/assets/colab-badge.svg\" alt=\"Open In Colab\"/></a>"
      ]
    },
    {
      "cell_type": "markdown",
      "metadata": {
        "id": "dTU1GDiHohmU"
      },
      "source": [
        "(D) [Hints and Principles for Computer System Design](http://0.0.0.0:8000/3%20Computacion/Papers/Hints%20and%20Principles%20for%20Computer%20System%20Design.pdf)"
      ]
    },
    {
      "cell_type": "markdown",
      "source": [
        "**Abstract**\n",
        "\n",
        "Goals for you system (STEADY):\n",
        "- Simple,\n",
        "- Timely,\n",
        "- Efficient,\n",
        "- Adaptable,\n",
        "- Dependable,\n",
        "- Yummy\n",
        "\n",
        "Techniques for achieving them (AID):\n",
        "- Approximate,\n",
        "- Incremental,\n",
        "- Divide & Conquer\n",
        " \n",
        "It also gives some principles for system design that are more than just hints, and many examples of how to apply the ideas."
      ],
      "metadata": {
        "id": "yczOfwTXsozH"
      }
    },
    {
      "cell_type": "markdown",
      "source": [
        "## Introduction"
      ],
      "metadata": {
        "id": "CXCz_fu6tw-l"
      }
    },
    {
      "cell_type": "markdown",
      "source": [
        "> There are three rules for writing a novel. Unfortunately, no one knows what they are. -Somerse Maugham\n",
        "\n",
        "> You got to be careful if you don't know where you're going, because you might not get there. -Yogi Berra\n",
        "\n",
        "> If I have seen father, it is by standing on the shoulders of giants. -Benard of Chartres\n",
        "\n",
        "\n",
        "I've organized the hints along three axes, corresponding to three time-honored questions, with a catchy summary: STEADY by AID with ART.\n",
        "\n",
        "- What?       **Goals**       STREADY: - Simple, Timely, Efficient, Adaptable, Dependable, Yummy\n",
        "- How?        **Techniques**  by AID:  - Approximate, Incremental, Divide & Conquer\n",
        "- When, who?  **Process**   with ART: - Architecture, Automate, Review, Techniques, Test\n",
        "\n",
        "Most important hints:\n",
        "- Keep it simple,\n",
        "- Write a spec,\n",
        "- Design with independent modules,\n",
        "- Exploit the ABCs of efficient,\n",
        "- Treat state as both being and becoming,\n",
        "- Use eventual consistency to keep data local\n",
        "\n",
        "**ABCs of efficient :**\n",
        "\n",
        "- Algorithms,\n",
        "- Approximate,\n",
        "- Batch,\n",
        "- Cache,\n",
        "- Concurrent,\n",
        "- Commute,\n",
        "- Shard/Stream\n"
      ],
      "metadata": {
        "id": "gCAuSqbWtysb"
      }
    },
    {
      "cell_type": "markdown",
      "source": [
        "## Principles"
      ],
      "metadata": {
        "id": "EVUDvCGWByqQ"
      }
    },
    {
      "cell_type": "markdown",
      "source": [
        "> The quest for precision, in words or concepts or meanings, is a [wild goose chase](https://dictionary.cambridge.org/es/diccionario/ingles/wild-goose-chase). —Karl Popper\n",
        "\n",
        "This are not just hints, they are mental tools for system design.\n",
        "\n",
        "**Abstraction--Have a spec**\n",
        "\n",
        "**Writing a spec--KISS: Keep It Simple, Stupid**\n",
        "\n",
        "**Writing the code: Correctness--Get it right**\n",
        "\n",
        "**Modules and Interfaces--Keep it clean. Keep basic interfaces stable**\n",
        "\n",
        "**Points of View**\n",
        "\n",
        " "
      ],
      "metadata": {
        "id": "diapElmGB0a_"
      }
    },
    {
      "cell_type": "markdown",
      "source": [
        "## Goals and Techniques"
      ],
      "metadata": {
        "id": "JRgZkShXHcJn"
      }
    },
    {
      "cell_type": "markdown",
      "source": [
        "> Data is not information, Information is not knowledge, Knowledge is not wisdom, Wisdom is not Truth, Truth is not beady, Beaty is not love, Love is not music and Music is THE BEST - Frank Zappa\n",
        "\n",
        "The summary is STEADY by AID with ART: reach goals by using techniques with the process.\n",
        "\n",
        "By goals I mean general properties tha you want your system to have, not the problem it tries to solve. \n",
        "\n",
        "Some goals:\n",
        "\n",
        "- **Simple: **, should always be the leadign goal, and **abstraction** is the best tool for making things simpler, but neither one is a panacea. There're no susbtitute for getting it right. \n",
        "\n",
        "- **Timely (to market): **, becuase cheap computer hardware means that both enterprises and consumers uses computer saystems in every aspect of daily life, and you can deploy a system as sooon as the software is ready. You can orer up hardware in the cloud in a few minutes, and your custome rhas a smarphone. If you can't deliver your system quickly , your competiror can.\n",
        "\n",
        "- **Efficient: **, \n",
        "\n",
        "- **Adaptable: **, becuase the Internet means that a system can go from a few dozen users to a few million in a few weeks. Also, user needs can change quickly, and for many applications it's much more importante to be **agile** than to be correct.\n",
        "\n",
        "- **Dependable: **, A system that is reliable, available, and secure.\n",
        "\n",
        "- and **Yummy: **  becuase many systems are built to server customers, who are much less willig than organizations to work hard to learn a system,  and much more interested in features, fashion and fads. Even for  professionals, the web, social media and GitHub mean that it's easy for enthusiams  to build up in defiance of formal procurement processes.\n",
        "\n",
        "\n",
        "|Goals|Simple|Timely|Efficient|Adaptable|Dependable|Yummy|\n",
        "|----------|:-------------:|------:|------:|------:|------:|------:|\n",
        "|As questions|Is it clean?| Is it ready?| Is it fast?| Can it evolve?| Does it work?| Will it sell?|\n",
        "|Alliterative| Frugal| First| Fast| Flexible| Faithful| Fashionable|\n",
        "|As nouns| Beauty| Time to market| Economy| Evolution| Fidelity| Elegance|\n",
        "|Antonyms| Complex| Late| Wasteful| Rigid| Flaky| Crummy|\n",
        "\n",
        "Techniques:\n",
        "\n",
        " - **Aproximate**: rather than exact, perfect or optimal results are almost always good eneoughm ,and often much easier and cheaper to achieve. \n",
        "\n",
        " - **Incremental**: design has many aspects; often they begin with \"i\". The  most important is to biuld the system out of independet, isolated parts called modules with **interfaces**, that you can put together in different ways. Wuch parts are easier to get right, evolve and secure, and with indirection and virtualization you can reuse them in many different environments. Iterating the design rather than deciding everything up front keeps you from getting to far out of touch with customers, and extensibility makes it easy for the system to evolve.\n",
        "\n",
        " - **Divide and conquer**: is the most important idea, especially in the form of abstractions with clean spec for imposing structure on your system. This is the only way to mantain control when the system get too big one person's head, now or later. \n",
        "\n",
        "A list of techniques for every goal:\n",
        " \n",
        "**Simple**: abstraction, action, extensible, interface, predictable, relation, spec.\n",
        "\n",
        "**Efficient**: algorithm, batch, concurent, lazy, local, shard, stream, summarize, translate.\n",
        "\n",
        "**Adaptable**: dynamic, index, inderect, scale, virtualize\n",
        "\n",
        "**Dependable**: atomic, consensus, eventual, reduntant, replicate, retry.\n",
        "\n",
        "**Incremental**: becoming, indirect, interface, recursive, tree."
      ],
      "metadata": {
        "id": "3JkO_Nc1HfHp"
      }
    },
    {
      "cell_type": "markdown",
      "source": [
        "## Process"
      ],
      "metadata": {
        "id": "4mqiSg6qPuoC"
      }
    },
    {
      "cell_type": "markdown",
      "source": [
        "> The most important single aspect of software development is to be clear about what you are trying\n",
        "to build. —Bjarne Stroustrup\n",
        "\n",
        "The summary is STEADY by AID with ART: Architecture, Automation, Review, Techniques,\n",
        "and Testing are the essentials of process. I don’t have much personal experience with this; I’ve\n",
        "never run a team. But I have watched a lot of systems being developed, with teams that range in\n",
        "size from six to several thousand people. If you find yourself working on a team that breaks the\n",
        "rules in this section, look for another job.\n",
        "\n",
        "You can build a small system with willpower: one person keeps the whole design in their head\n",
        "and controls all the changes. You can even do without a spec. But a system that’s bigger (or lives\n",
        "for a long time) needs process. Otherwise it’s broken code and broken schedules. Process means:\n",
        "\n",
        "- Architecture: Design that really gets done, and documented so that everyone can learn it.\n",
        "\n",
        "- Automation: Code analysis tools (very cheap for the errors they can catch) and build tools.\n",
        "\n",
        "- Review: Design review—manual, but a much cheaper way to catch errors than testing.\n",
        "\n",
        "- Review: Code review—manual, but still cheaper than testing.\n",
        "\n",
        "- Testing: Unit and component tests; stress and performance tests; end-to-end scenarios.\n",
        "R15"
      ],
      "metadata": {
        "id": "P1kOTU6UPvvl"
      }
    },
    {
      "cell_type": "markdown",
      "source": [
        "## Opositions\n",
        "\n",
        "Goal|Opposition|Slogans\n",
        "--- | ---|:---: \n",
        "Principles|Spect↔Code| Have a spect. Get it right. Keep it clean\n",
        "|| Don’t hide power. Leave it to the client\n",
        "Simple|Simple↔rich, fine↔features, general↔specialezed|KISS: Keep It Simple, Stupid. Don’t generalize\n",
        "||Do one thing well. Don’t hide power\n",
        "||Make it fast. Use brute force\n",
        "|Pefect↔adequate, exact ↔ tolerant|Good enough. Worse is better\n",
        "||Flanky, springly parts\n",
        "|Spect↔code|Keep secrets. Free the implementer\n",
        "||Good fences make good neighbors\n",
        "||Embrace nondetermism. Abstractions leak\n",
        "|Imperative↔funtional↔declarative|Make it atomic. Use math. Say what you want\n",
        "|Immutable↔append-only↔mutable|Make it stay put\n",
        "Timely|Precise↔approximate software|Get it right. Make it cool\n",
        "Efficient||\n",
        "|Dynamic↔static|ABCs. Use theory. Latency vs bandwidth\n",
        "||$S^3$: shard, stream or struggle.\n",
        "|Dynamic↔inline|Stay loose. Pin it down. Split resources.\n",
        "|Indiret↔inline|Take a detour, see the world. Use what you know\n",
        "|Time↔space|Cache answers. Keep data small and close\n",
        "|Lazy↔eaget↔speculative|Put if off. Take a flyer\n",
        "|Centralized↔distributed, share↔copy|Doi it again. Make copies. Reach consensus\n",
        "Adaptable||\n",
        "|Fixed↔evolving|The only constant is change\n",
        "||Make it extensible. Flanky, springly parts\n",
        "|Evolution↔revolution|Stay calm. Ride the curve. Seize the moment\n",
        "|Policy↔mechanism|Change your mind\n",
        "Dependable|Consistent↔available ↔ partition-tolerant| Safety first. Always ready. Good enough\n",
        "|Generate ↔ check | Trust but verify\n",
        "|Persistent ↔ volatile| Don't forget. Start clean\n",
        "Yummy|Simple↔rich, fine↔features|KISS: Keep It Simple, Stupid\n",
        "Incremental|Being↔becoming|How did we get here? Don't copy, share\n",
        "|Interactive↔recursive, array↔tree|Keep doing it. A part is like the whole\n",
        "|Recompute↔adjust|Take small steps\n",
        "Process||Build a platform. Keep Interfaces stable\n"
      ],
      "metadata": {
        "id": "wViuovYgQeFT"
      }
    },
    {
      "cell_type": "markdown",
      "source": [
        "## More Resources"
      ],
      "metadata": {
        "id": "6EgC-heVEOmP"
      }
    },
    {
      "cell_type": "markdown",
      "source": [
        "[Sepecifications](https://web.mit.edu/6.031/www/sp21/classes/06-specifications/)\n",
        "\n",
        "[Abstraction Functions & Rep Invariants](http://web.mit.edu/6.031/www/sp21/classes/11-abstraction-functions-rep-invariants/)\n",
        "\n",
        "[Designing Specifications](https://web.mit.edu/6.031/www/sp21/classes/07-designing-specs/)"
      ],
      "metadata": {
        "id": "09auPLvuEQaF"
      }
    }
  ]
}