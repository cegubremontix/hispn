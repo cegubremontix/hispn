{
  "nbformat": 4,
  "nbformat_minor": 0,
  "metadata": {
    "kernelspec": {
      "display_name": "Python 2.7.18 64-bit",
      "name": "python2718jvsc74a57bd0f92b2924b84ff19c1c3dc485f7644d4486f64738191026bf8e6de303969141b5"
    },
    "language_info": {
      "name": "python",
      "version": ""
    },
    "metadata": {
      "interpreter": {
        "hash": "f92b2924b84ff19c1c3dc485f7644d4486f64738191026bf8e6de303969141b5"
      }
    },
    "orig_nbformat": 2,
    "colab": {
      "name": "Hints and Principles for Computer System Design.ipynb",
      "provenance": [],
      "include_colab_link": true
    }
  },
  "cells": [
    {
      "cell_type": "markdown",
      "metadata": {
        "id": "view-in-github",
        "colab_type": "text"
      },
      "source": [
        "<a href=\"https://colab.research.google.com/github/dbremont/Notas/blob/main/Papers/Computacion/Hints_and_Principles_for_Computer_System_Design.ipynb\" target=\"_parent\"><img src=\"https://colab.research.google.com/assets/colab-badge.svg\" alt=\"Open In Colab\"/></a>"
      ]
    },
    {
      "cell_type": "markdown",
      "metadata": {
        "id": "dTU1GDiHohmU"
      },
      "source": [
        "- (D) [Hints and Principles for Computer System Design](http://0.0.0.0:8000/3%20Computacion/Papers/Hints%20and%20Principles%20for%20Computer%20System%20Design.pdf)"
      ]
    },
    {
      "cell_type": "markdown",
      "metadata": {
        "id": "wbB6qTstohmX"
      },
      "source": [
        "Principles\n",
        " - Abstraction\n",
        " - Writing a spec\n",
        " - Writing the code\n",
        " - Modules and Interfaces\n",
        " - Points of View\n",
        " \n",
        "Goals and Techniques\n",
        "\n",
        "- Overview\n",
        "- Simple\n",
        "- Timely\n",
        "- Efficient\n",
        "- Adaptable\n",
        "- Dependable\n",
        "- Yummy\n",
        "- Incremental\n",
        "\n",
        "\n",
        "Process\n",
        "\n",
        "Oppositions\n",
        "\n",
        "- Simple ↔ rich, fine ↔ features, general ↔ specialized  73 \n",
        "\n",
        "- Perfect ↔ adequate, exact ↔ tolerant   75 \n",
        "\n",
        "- Spec ↔ code  76 \n",
        "\n",
        "- Imperative ↔ functional ↔ declarative   77 \n",
        "\n",
        "- Immutable ↔ append-only ↔ mutable   79 \n",
        "\n",
        "- Precise ↔ approximate software   79 \n",
        "\n",
        "- Dynamic ↔ static   80 \n",
        "\n",
        "- Indirect ↔ inline   81 \n",
        "\n",
        "- Time ↔ space   82 \n",
        "\n",
        "- Lazy ↔ eager ↔ speculative   83 \n",
        "\n",
        "- Centralized ↔ distributed, share ↔ copy   84 \n",
        "\n",
        "- Fixed ↔ evolving, monolithic ↔ extensible  84 \n",
        "\n",
        "- Evolution ↔ revolution   86 \n",
        "\n",
        "- Policy ↔ mechanism   86 \n",
        "\n",
        "- Consistent ↔ available ↔ partition-tolerant   86 \n",
        "\n",
        "- Generate ↔ check   87 \n",
        "\n",
        "- Persistent ↔ volatile   87 \n",
        "\n",
        "- Being ↔ becoming   88 \n",
        "\n",
        "- Iterative ↔ recursive, array ↔ tree   89 \n",
        "\n",
        "- Recompute ↔ adjust   90 \n",
        "\n",
        "Conclusion\n",
        "\n"
      ]
    }
  ]
}