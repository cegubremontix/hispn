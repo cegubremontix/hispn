{
  "nbformat": 4,
  "nbformat_minor": 0,
  "metadata": {
    "colab": {
      "name": "Fast Crash Recovery in RAMCloud.ipynb",
      "provenance": [],
      "include_colab_link": true
    },
    "kernelspec": {
      "name": "python3",
      "display_name": "Python 3"
    },
    "language_info": {
      "name": "python"
    }
  },
  "cells": [
    {
      "cell_type": "markdown",
      "metadata": {
        "id": "view-in-github",
        "colab_type": "text"
      },
      "source": [
        "<a href=\"https://colab.research.google.com/github/dbremont/Notas/blob/main/Papers/Computacion/Fast_Crash_Recovery_in_RAMCloud.ipynb\" target=\"_parent\"><img src=\"https://colab.research.google.com/assets/colab-badge.svg\" alt=\"Open In Colab\"/></a>"
      ]
    },
    {
      "cell_type": "markdown",
      "metadata": {
        "id": "yFu3OI-gpscO"
      },
      "source": [
        "RAMCloud is a DRAM-based storage system that provides inex-\n",
        "\n",
        "pensive durability and availability by recovering quickly after crashes,\n",
        "rather than storing replicas in DRAM. RAMCloud scatters backup\n",
        "data across hundreds or thousands of disks, and it harnesses hun-\n",
        "dreds of servers in parallel to reconstruct lost data. The system uses\n",
        "a log-structured approach for all its data, in DRAM as well as on\n",
        "disk; this provides high performance both during normal operation\n",
        "and during recovery. RAMCloud employs randomized techniques\n",
        "to manage the system in a scalable and decentralized fashion. In a\n",
        "60-node cluster, RAMCloud recovers 35 GB of data from a failed\n",
        "server in 1.6 seconds. Our measurements suggest that the approach\n",
        "will scale to recover larger memory sizes (64 GB or more) in less\n",
        "time with larger clusters"
      ]
    }
  ]
}