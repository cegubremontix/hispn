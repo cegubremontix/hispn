{
  "nbformat": 4,
  "nbformat_minor": 0,
  "metadata": {
    "colab": {
      "name": "EVENODD: an optimal scheme for tolerating double disk failures in RAID architectures.ipynb",
      "provenance": [],
      "include_colab_link": true
    },
    "kernelspec": {
      "name": "python3",
      "display_name": "Python 3"
    },
    "language_info": {
      "name": "python"
    }
  },
  "cells": [
    {
      "cell_type": "markdown",
      "metadata": {
        "id": "view-in-github",
        "colab_type": "text"
      },
      "source": [
        "<a href=\"https://colab.research.google.com/github/dbremont/Notas/blob/main/Papers/Computacion/EVENODD%3A_an_optimal_scheme_for_tolerating_double_disk_failures_in_RAID_architectures.ipynb\" target=\"_parent\"><img src=\"https://colab.research.google.com/assets/colab-badge.svg\" alt=\"Open In Colab\"/></a>"
      ]
    },
    {
      "cell_type": "markdown",
      "metadata": {
        "id": "1vj9n61ohM4x"
      },
      "source": [
        "We present a novel method, that we call EVENODD, for tolerating up to two disk failures in RAID\n",
        "architectures. EVENODD is the first known scheme\n",
        "for tolerating double disk failures that is optimal with\n",
        "regani to both storage and performance. EVENODD\n",
        "employs the addition of only two redundant disks and\n",
        "consists of simple exclusive-OR computations. A major advantage of EVENODD is that it only requires\n",
        "parity hardware, which is typically present in standard RAID-5 controllers. Hence, EVENODD can be\n",
        "implemented on standani RAID-5 controllers without\n",
        "any hardware changes. The only previously known\n",
        "scheme that employes optimal redundant storage (i.e.\n",
        "two extra disks) is based on Reed-Solomon (RS) errorcorncting codes, requires computation over finite fields\n",
        "and results in a more complex implementation. For\n",
        "example, we show that the number of exclusive-OR\n",
        "operations involved in implementing EVENODD in a\n",
        "disk array with 15 disks is about 50% of the number\n",
        "required when using the RS scheme."
      ]
    }
  ]
}