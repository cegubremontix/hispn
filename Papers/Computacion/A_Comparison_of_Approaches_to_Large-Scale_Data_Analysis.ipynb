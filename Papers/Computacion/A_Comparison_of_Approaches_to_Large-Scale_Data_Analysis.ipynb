{
  "nbformat": 4,
  "nbformat_minor": 0,
  "metadata": {
    "colab": {
      "name": "A Comparison of Approaches to Large-Scale Data Analysis.ipynb",
      "provenance": [],
      "include_colab_link": true
    },
    "kernelspec": {
      "name": "python3",
      "display_name": "Python 3"
    },
    "language_info": {
      "name": "python"
    }
  },
  "cells": [
    {
      "cell_type": "markdown",
      "metadata": {
        "id": "view-in-github",
        "colab_type": "text"
      },
      "source": [
        "<a href=\"https://colab.research.google.com/github/dbremont/Notas/blob/main/Papers/Computacion/A_Comparison_of_Approaches_to_Large-Scale_Data_Analysis.ipynb\" target=\"_parent\"><img src=\"https://colab.research.google.com/assets/colab-badge.svg\" alt=\"Open In Colab\"/></a>"
      ]
    },
    {
      "cell_type": "markdown",
      "metadata": {
        "id": "piwq4EF6z3bY"
      },
      "source": [
        "There is currently considerable enthusiasm around the MapReduce\n",
        "(MR) paradigm for large-scale data analysis [17]. Although the\n",
        "basic control flow of this framework has existed in parallel SQL\n",
        "database management systems (DBMS) for over 20 years, some \n",
        "have called MR a dramatically new computing model [8, 17]. In \n",
        "this paper, we describe and compare both paradigms. Furthermore,\n",
        "we evaluate both kinds of systems in terms of performance and de-\n",
        "velopment complexity. To this end, we define a benchmark con-\n",
        "sisting of a collection of tasks that we have run on an open source\n",
        "version of MR as well as on two parallel DBMSs. For each task, \n",
        "we measure each system’s performance for various degrees of par-\n",
        "allelism on a cluster of 100 nodes. Our results reveal some inter-\n",
        "esting trade-offs. Although the process to load data into and tune\n",
        "the execution of parallel DBMSs took much longer than the MR \n",
        "system, the observed performance of these DBMSs was strikingly\n",
        "better. We speculate about the causes of the dramatic performance\n",
        "difference and consider implementation concepts that future sys-\n",
        "tems should take from both kinds of architectures."
      ]
    }
  ]
}