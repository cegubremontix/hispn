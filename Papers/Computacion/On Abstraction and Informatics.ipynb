{
 "cells": [
  {
   "cell_type": "markdown",
   "metadata": {},
   "source": [
    "Personal overview of abstraction:\n",
    "\n",
    "- investigate it.\n",
    "- dissecteit.\n",
    "- analyze it \n",
    "- establish terminology, etc\n",
    "\n",
    "Software engineering differs from traditional engineering because of the special nature of software, which places a greater emphasis on abstraction, modelling, information organization and representation, and management of change... \n",
    "\n",
    "to abstract: (verb)   to  ignore of supress aspect of it.\n",
    "abstraction: (noum)   to  act of abstracting; the result of abstracting\n",
    "abstract: (adjective) the quality ob being the result of abstraction; opposite of concrete.\n",
    "\n",
    "Definition by Abstraction\n",
    "\n",
    "Abstraction in Physics\n",
    "\n",
    "Teaching Abstraction\n",
    " - Wikipedia\n"
   ]
  }
 ],
 "metadata": {
  "kernelspec": {
   "display_name": "Python 2.7.18 64-bit",
   "name": "python2718jvsc74a57bd0f92b2924b84ff19c1c3dc485f7644d4486f64738191026bf8e6de303969141b5"
  },
  "language_info": {
   "name": "python",
   "version": ""
  },
  "metadata": {
   "interpreter": {
    "hash": "f92b2924b84ff19c1c3dc485f7644d4486f64738191026bf8e6de303969141b5"
   }
  },
  "orig_nbformat": 2
 },
 "nbformat": 4,
 "nbformat_minor": 2
}