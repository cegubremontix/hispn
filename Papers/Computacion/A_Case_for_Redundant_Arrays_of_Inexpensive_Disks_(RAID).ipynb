{
  "nbformat": 4,
  "nbformat_minor": 0,
  "metadata": {
    "colab": {
      "name": "A Case for Redundant Arrays of Inexpensive Disks (RAID).ipynb",
      "provenance": [],
      "include_colab_link": true
    },
    "kernelspec": {
      "name": "python3",
      "display_name": "Python 3"
    },
    "language_info": {
      "name": "python"
    }
  },
  "cells": [
    {
      "cell_type": "markdown",
      "metadata": {
        "id": "view-in-github",
        "colab_type": "text"
      },
      "source": [
        "<a href=\"https://colab.research.google.com/github/dbremont/Notas/blob/main/Papers/Computacion/A_Case_for_Redundant_Arrays_of_Inexpensive_Disks_(RAID).ipynb\" target=\"_parent\"><img src=\"https://colab.research.google.com/assets/colab-badge.svg\" alt=\"Open In Colab\"/></a>"
      ]
    },
    {
      "cell_type": "markdown",
      "metadata": {
        "id": "JIwroZshg9oK"
      },
      "source": [
        "Increasing performace of CPUs and memories wil be squandered if no matched by  a similar performace increase in I/O. While the capacity of Single Large Expendie Disk (SLED) has grown repidly, the performace improvement of SLED has been modest Reductant Arrays of Inexpensive Disks (RAID), based on the magnetic disk technology develop for personal computers, offers an attrative alternative to SLED, promisign improvmetns of an order of magnitude in performace, relability, power, comsumption, and scalability. \n",
        "\n",
        "This paper introudces five levels eof RAIDse, given their relative cost/performace, and compares RAID to an IBM 3380 and Fijutsu Super Eagle."
      ]
    }
  ]
}