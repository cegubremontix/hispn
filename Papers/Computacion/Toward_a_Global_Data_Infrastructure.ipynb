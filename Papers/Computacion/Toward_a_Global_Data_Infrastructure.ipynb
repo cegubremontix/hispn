{
  "nbformat": 4,
  "nbformat_minor": 0,
  "metadata": {
    "colab": {
      "name": "Toward a Global Data Infrastructure.ipynb",
      "provenance": [],
      "include_colab_link": true
    },
    "kernelspec": {
      "name": "python3",
      "display_name": "Python 3"
    },
    "language_info": {
      "name": "python"
    }
  },
  "cells": [
    {
      "cell_type": "markdown",
      "metadata": {
        "id": "view-in-github",
        "colab_type": "text"
      },
      "source": [
        "<a href=\"https://colab.research.google.com/github/dbremont/Notas/blob/main/Papers/Computacion/Toward_a_Global_Data_Infrastructure.ipynb\" target=\"_parent\"><img src=\"https://colab.research.google.com/assets/colab-badge.svg\" alt=\"Open In Colab\"/></a>"
      ]
    },
    {
      "cell_type": "markdown",
      "metadata": {
        "id": "TRnr1od_jF65"
      },
      "source": [
        "The Internet of Things (IoT) represents a new class\n",
        "of applications that can benefit from cloud infras-\n",
        "tructure. However, directly connecting smart devices\n",
        "to the cloud has a number of disadvantages and is\n",
        "unlikely to keep up with either the growing speed of\n",
        "the IoT or the diverse needs of IoT applications.\n",
        "We explore these disadvantages and argue that\n",
        "fundamental properties of the IoT prevent the cur-\n",
        "rent approach from scaling. What is missing is a\n",
        "well-architected system extending functionality of\n",
        "the cloud and providing seamless interplay among\n",
        "the heterogeneous components closer to the edge\n",
        "in the IoT space. We argue that raising the level\n",
        "of abstraction to a data-centric design—focused\n",
        "around the distribution, preservation and protection\n",
        "of information—better matches the IoT. We present\n",
        "early work on such a distributed platform, called\n",
        "the Global Data Plane (GDP), and discuss how it\n",
        "addresses the problems with the cloud-centric archi-\n",
        "tecture."
      ]
    }
  ]
}