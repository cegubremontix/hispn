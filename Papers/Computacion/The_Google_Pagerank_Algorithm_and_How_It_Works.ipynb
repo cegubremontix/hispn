{
  "nbformat": 4,
  "nbformat_minor": 0,
  "metadata": {
    "colab": {
      "name": "The Google Pagerank Algorithm and How It Works.ipynb",
      "provenance": [],
      "include_colab_link": true
    },
    "kernelspec": {
      "name": "python3",
      "display_name": "Python 3"
    },
    "language_info": {
      "name": "python"
    }
  },
  "cells": [
    {
      "cell_type": "markdown",
      "metadata": {
        "id": "view-in-github",
        "colab_type": "text"
      },
      "source": [
        "<a href=\"https://colab.research.google.com/github/dbremont/Notas/blob/main/Papers/Computacion/The_Google_Pagerank_Algorithm_and_How_It_Works.ipynb\" target=\"_parent\"><img src=\"https://colab.research.google.com/assets/colab-badge.svg\" alt=\"Open In Colab\"/></a>"
      ]
    },
    {
      "cell_type": "markdown",
      "metadata": {
        "id": "tCyEim2P5MUY"
      },
      "source": [
        "The   PageRank   algorithm   gives   each   page   a   rating   of   its \n",
        "importance, which is a recursively defined measure whereby a \n",
        "page   becomes   important   if   important   pages   link   to   it.   This definition is recursive because the importance of a page refers \n",
        "back to the importance of other pages that link to it.\u0001\n",
        "\n",
        "One way to think about PageRank is to imagine a random surfer \n",
        "on the web, following links from page to page.  The page rank \n",
        "of any page is roughly the probability that the random surfer \n",
        "will   land   on   a   particular   page.     Since   more   links   go   to   the  important pages, the surfer is more likely to end up there.\u0001\n",
        "\n",
        "The behavior of the random surfer is an example of a Markov process, which is any random evolutionary process that depends  only of the current state of a system and not on its history."
      ]
    }
  ]
}