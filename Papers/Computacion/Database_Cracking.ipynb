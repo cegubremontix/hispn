{
  "nbformat": 4,
  "nbformat_minor": 0,
  "metadata": {
    "colab": {
      "name": "Database Cracking.ipynb",
      "provenance": [],
      "include_colab_link": true
    },
    "kernelspec": {
      "name": "python3",
      "display_name": "Python 3"
    },
    "language_info": {
      "name": "python"
    }
  },
  "cells": [
    {
      "cell_type": "markdown",
      "metadata": {
        "id": "view-in-github",
        "colab_type": "text"
      },
      "source": [
        "<a href=\"https://colab.research.google.com/github/dbremont/Notas/blob/main/Papers/Computacion/Database_Cracking.ipynb\" target=\"_parent\"><img src=\"https://colab.research.google.com/assets/colab-badge.svg\" alt=\"Open In Colab\"/></a>"
      ]
    },
    {
      "cell_type": "markdown",
      "metadata": {
        "id": "mKdf2YzMg-pL"
      },
      "source": [
        "Database indices provide a non-discriminative navigational\n",
        "infrastructure to localize tuples of interest. Their mainte-\n",
        "nance cost is taken during database updates. In this pa-\n",
        "per, we study the complementary approach, addressing in-\n",
        "dex maintenance as part of query processing using continu-\n",
        "ous physical reorganization, i.e., cracking the database into\n",
        "manageable pieces. The motivation is that by automatically\n",
        "organizing data the way users request it, we can achieve fast\n",
        "access and the much desired self-organized behavior.\n",
        "We present the first mature cracking architecture and re-\n",
        "port on our implementation of cracking in the context of a\n",
        "full fledged relational system. It led to a minor enhancement\n",
        "to its relational algebra kernel, such that cracking could be\n",
        "piggy-backed without incurring too much processing over-\n",
        "head. Furthermore, we illustrate the ripple effect of dynamic\n",
        "reorganization on the query plans derived by the SQL opti-\n",
        "mizer. The experiences and results obtained are indicative of\n",
        "a significant reduction in system complexity. We show that\n",
        "the resulting system is able to self-organize based on incom-\n",
        "ing requests with clear performance benefits. This behavior\n",
        "is visible even when the user focus is randomly shifting to\n",
        "different parts of the data."
      ]
    }
  ]
}