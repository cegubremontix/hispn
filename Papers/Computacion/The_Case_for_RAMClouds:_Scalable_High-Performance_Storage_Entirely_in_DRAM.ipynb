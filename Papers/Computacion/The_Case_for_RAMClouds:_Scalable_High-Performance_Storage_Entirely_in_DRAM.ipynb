{
  "nbformat": 4,
  "nbformat_minor": 0,
  "metadata": {
    "colab": {
      "name": "The Case for RAMClouds: Scalable High-Performance Storage Entirely in DRAM.ipynb",
      "provenance": [],
      "include_colab_link": true
    },
    "kernelspec": {
      "name": "python3",
      "display_name": "Python 3"
    },
    "language_info": {
      "name": "python"
    }
  },
  "cells": [
    {
      "cell_type": "markdown",
      "metadata": {
        "id": "view-in-github",
        "colab_type": "text"
      },
      "source": [
        "<a href=\"https://colab.research.google.com/github/dbremont/Notas/blob/main/Papers/Computacion/The_Case_for_RAMClouds%3A_Scalable_High-Performance_Storage_Entirely_in_DRAM.ipynb\" target=\"_parent\"><img src=\"https://colab.research.google.com/assets/colab-badge.svg\" alt=\"Open In Colab\"/></a>"
      ]
    },
    {
      "cell_type": "markdown",
      "metadata": {
        "id": "qYeu7IDyVZH9"
      },
      "source": [
        "Disk-oriented approaches to online storage are becoming increasingly problematic: they do not scale gracefully to meet the needs of large-scale Web applications, and improvements in disk capacity have far outstripped improvements in access latency and bandwidth. This paper argues for a new approach to datacenter\n",
        "storage called RAMCloud, where information is kept entirely in DRAM and large-scale systems are created\n",
        "by aggregating the main memories of thousands of commodity servers. We believe that RAMClouds can\n",
        "provide durable and available storage with 100-1000x the throughput of disk-based systems and 100-1000x\n",
        "lower access latency. The combination of low latency and large scale will enable a new breed of dataintensive applications. "
      ]
    }
  ]
}