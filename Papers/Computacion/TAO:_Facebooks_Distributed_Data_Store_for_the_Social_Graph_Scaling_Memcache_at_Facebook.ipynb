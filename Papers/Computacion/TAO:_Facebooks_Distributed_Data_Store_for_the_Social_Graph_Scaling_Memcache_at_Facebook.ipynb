{
  "nbformat": 4,
  "nbformat_minor": 0,
  "metadata": {
    "colab": {
      "name": "TAO: Facebooks Distributed Data Store for the Social Graph Scaling Memcache at Facebook .ipynb",
      "provenance": [],
      "include_colab_link": true
    },
    "kernelspec": {
      "name": "python3",
      "display_name": "Python 3"
    },
    "language_info": {
      "name": "python"
    }
  },
  "cells": [
    {
      "cell_type": "markdown",
      "metadata": {
        "id": "view-in-github",
        "colab_type": "text"
      },
      "source": [
        "<a href=\"https://colab.research.google.com/github/dbremont/Notas/blob/main/Papers/Computacion/TAO%3A_Facebooks_Distributed_Data_Store_for_the_Social_Graph_Scaling_Memcache_at_Facebook.ipynb\" target=\"_parent\"><img src=\"https://colab.research.google.com/assets/colab-badge.svg\" alt=\"Open In Colab\"/></a>"
      ]
    },
    {
      "cell_type": "markdown",
      "metadata": {
        "id": "y6jNckvus-X5"
      },
      "source": [
        "We itnroduce a simple data model and API tailored for servier the social graph, the TAO, an ipletnation of this model."
      ]
    }
  ]
}