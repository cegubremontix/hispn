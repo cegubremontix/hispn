{
  "nbformat": 4,
  "nbformat_minor": 0,
  "metadata": {
    "colab": {
      "name": "Generalized Isolation Levels.ipynb",
      "provenance": [],
      "include_colab_link": true
    },
    "kernelspec": {
      "name": "python3",
      "display_name": "Python 3"
    },
    "language_info": {
      "name": "python"
    }
  },
  "cells": [
    {
      "cell_type": "markdown",
      "metadata": {
        "id": "view-in-github",
        "colab_type": "text"
      },
      "source": [
        "<a href=\"https://colab.research.google.com/github/dbremont/Notas/blob/main/Papers/Computacion/Generalized_Isolation_Levels.ipynb\" target=\"_parent\"><img src=\"https://colab.research.google.com/assets/colab-badge.svg\" alt=\"Open In Colab\"/></a>"
      ]
    },
    {
      "cell_type": "markdown",
      "metadata": {
        "id": "WVrpuGe3h4zR"
      },
      "source": [
        "Commercial databases support different isolation levels\n",
        "to allow programmers to trade off consistency for a poten-\n",
        "\n",
        "tial gain in performance. The isolation levels are defined in\n",
        "the current ANSI standard, but the definitions are ambigu-\n",
        "ous and revised definitions proposed to correct the problem\n",
        "\n",
        "are too constrained since they allow only pessimistic (lock-\n",
        "ing) implementations. This paper presents new specifica-\n",
        "tions for the ANSI levels. Our specifications are portable;\n",
        "they apply not only to locking implementations, but also to\n",
        "optimistic and multi-version concurrency control schemes.\n",
        "\n",
        "Furthermore, unlike earlier definitions, our new specifica-\n",
        "tions handle predicates in a correct and flexible manner at\n",
        "all levels."
      ]
    }
  ]
}