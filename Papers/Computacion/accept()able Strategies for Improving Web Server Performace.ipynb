{
 "cells": [
  {
   "cell_type": "markdown",
   "metadata": {},
   "source": [
    "Abstract\n",
    "\n",
    "Evaluates techniques for improving the performace of three architecturally different web servers.\n",
    "\n",
    "Introduction\n",
    "\n",
    "- Under high loads a server must ensure that it is able to accept new connections at a sufficiently high rate.\n",
    "- Spend must of the time serving current connections.\n",
    "- User level-server vs Kernel-level server.\n",
    "\n",
    "Background and Related Work\n",
    "\n",
    "Operating System Improvement\n",
    "\n",
    "Improving Accept Strategies\n",
    "\n",
    "\n",
    "The Web Servers\n",
    "\n",
    "- userver\n",
    "- knot\n",
    "- tux\n",
    "\n",
    "Experimental Methodology\n",
    "\n",
    "Workloads and Experimental Results\n",
    "\n",
    "Discussion\n",
    "\n",
    "Conclusions\n",
    "\n"
   ]
  }
 ],
 "metadata": {
  "kernelspec": {
   "display_name": "Python 2.7.18 64-bit",
   "name": "python2718jvsc74a57bd0f92b2924b84ff19c1c3dc485f7644d4486f64738191026bf8e6de303969141b5"
  },
  "language_info": {
   "name": "python",
   "version": ""
  },
  "metadata": {
   "interpreter": {
    "hash": "f92b2924b84ff19c1c3dc485f7644d4486f64738191026bf8e6de303969141b5"
   }
  },
  "orig_nbformat": 2
 },
 "nbformat": 4,
 "nbformat_minor": 2
}