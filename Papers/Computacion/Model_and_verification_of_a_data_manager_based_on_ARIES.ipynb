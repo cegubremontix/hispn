{
  "nbformat": 4,
  "nbformat_minor": 0,
  "metadata": {
    "colab": {
      "name": "Model and verification of a data manager based on ARIES.ipynb",
      "provenance": [],
      "include_colab_link": true
    },
    "kernelspec": {
      "name": "python3",
      "display_name": "Python 3"
    },
    "language_info": {
      "name": "python"
    }
  },
  "cells": [
    {
      "cell_type": "markdown",
      "metadata": {
        "id": "view-in-github",
        "colab_type": "text"
      },
      "source": [
        "<a href=\"https://colab.research.google.com/github/dbremont/Notas/blob/main/Papers/Computacion/Model_and_verification_of_a_data_manager_based_on_ARIES.ipynb\" target=\"_parent\"><img src=\"https://colab.research.google.com/assets/colab-badge.svg\" alt=\"Open In Colab\"/></a>"
      ]
    },
    {
      "cell_type": "markdown",
      "metadata": {
        "id": "IVtCE3ixZ8g4"
      },
      "source": [
        "In this article, we model and verify a data manager whose algorithm is based on ARIES. The\n",
        "work uses the I/O automata method as the formal model and the definition of correctness is\n",
        "defined on the interface between the scheduler and the data manager.\n",
        "Categories and Subject Descriptors: F.3.1 [Logics and Meanings of Programs]: Specifying\n",
        "and Reasoning about Programs—assertions, invariants, pre- and postconditions; H.2.2 [Data\n",
        "Management]: Physical Design—restart recovery; H.2.4 [Data Management]: Systems—\n",
        "transaction processing"
      ]
    }
  ]
}