{
  "nbformat": 4,
  "nbformat_minor": 0,
  "metadata": {
    "colab": {
      "name": "Dont Settle for Eventual: Scalable Causal Consistency for Wide-Area Storage with COPS.ipynb",
      "provenance": [],
      "include_colab_link": true
    },
    "kernelspec": {
      "name": "python3",
      "display_name": "Python 3"
    },
    "language_info": {
      "name": "python"
    }
  },
  "cells": [
    {
      "cell_type": "markdown",
      "metadata": {
        "id": "view-in-github",
        "colab_type": "text"
      },
      "source": [
        "<a href=\"https://colab.research.google.com/github/dbremont/Notas/blob/main/Papers/Computacion/Dont_Settle_for_Eventual%3A_Scalable_Causal_Consistency_for_Wide-Area_Storage_with_COPS.ipynb\" target=\"_parent\"><img src=\"https://colab.research.google.com/assets/colab-badge.svg\" alt=\"Open In Colab\"/></a>"
      ]
    },
    {
      "cell_type": "markdown",
      "metadata": {
        "id": "Yx8kTjbvgj0l"
      },
      "source": [
        "Geo-replicated, distributed data stores that support complex online\n",
        "applications, such as social networks, must provide an “always-\n",
        "on” experience where operations always complete with low latency.\n",
        "Today’s systems often sacrifice strong consistency to achieve these\n",
        "goals, exposing inconsistencies to their clients and necessitating\n",
        "complex application logic. In this paper, we identify and define\n",
        "a consistency model—causal consistency with convergent conflict\n",
        "handling, or causal+—that is the strongest achieved under these\n",
        "constraints.\n",
        "We present the design and implementation of COPS, a key-value\n",
        "store that delivers this consistency model across the wide-area. A\n",
        "key contribution of COPS is its scalability, which can enforce causal\n",
        "dependencies between keys stored across an entire cluster, rather\n",
        "than a single server like previous systems. The central approach in\n",
        "COPS is tracking and explicitly checking whether causal dependen-\n",
        "cies between keys are satisfied in the local cluster before exposing\n",
        "writes. Further, in COPS-GT, we introduce get transactions in or-\n",
        "der to obtain a consistent view of multiple keys without locking or\n",
        "blocking. Our evaluation shows that COPS completes operations\n",
        "in less than a millisecond, provides throughput similar to previous\n",
        "systems when using one server per cluster, and scales well as we\n",
        "increase the number of servers in each cluster. It also shows that\n",
        "COPS-GT provides similar latency, throughput, and scaling to COPS\n",
        "for common workloads."
      ]
    }
  ]
}