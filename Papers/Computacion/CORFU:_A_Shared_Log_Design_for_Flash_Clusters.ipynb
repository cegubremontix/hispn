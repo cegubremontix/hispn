{
  "nbformat": 4,
  "nbformat_minor": 0,
  "metadata": {
    "colab": {
      "name": "CORFU: A Shared Log Design for Flash Clusters.ipynb",
      "provenance": [],
      "include_colab_link": true
    },
    "kernelspec": {
      "name": "python3",
      "display_name": "Python 3"
    },
    "language_info": {
      "name": "python"
    }
  },
  "cells": [
    {
      "cell_type": "markdown",
      "metadata": {
        "id": "view-in-github",
        "colab_type": "text"
      },
      "source": [
        "<a href=\"https://colab.research.google.com/github/dbremont/Notas/blob/main/Papers/Computacion/CORFU%3A_A_Shared_Log_Design_for_Flash_Clusters.ipynb\" target=\"_parent\"><img src=\"https://colab.research.google.com/assets/colab-badge.svg\" alt=\"Open In Colab\"/></a>"
      ]
    },
    {
      "cell_type": "markdown",
      "metadata": {
        "id": "mlfytEgxi-Au"
      },
      "source": [
        "CORFU1 organizes a cluster of flash devices as a single,\n",
        "shared log that can be accessed concurrently by multiple\n",
        "clients over the network. The CORFU shared log makes\n",
        "\n",
        "it easy to build distributed applications that require\n",
        "\n",
        "strong consistency at high speeds, such as databases,\n",
        "transactional key-value stores, replicated state machines,\n",
        "and metadata services. CORFU can be viewed as a dis-\n",
        "\n",
        "tributed SSD, providing advantages over conventional\n",
        "\n",
        "SSDs such as distributed wear-leveling, network lo-\n",
        "\n",
        "cality, fault tolerance, incremental scalability and geo-\n",
        "\n",
        "distribution. A single CORFU instance can support up to\n",
        "200K appends/sec, while reads scale linearly with clus-\n",
        "ter size. Importantly, CORFU is designed to work di-\n",
        "\n",
        "rectly over network-attached flash devices, slashing cost,\n",
        "\n",
        "power consumption and latency by eliminating storage\n",
        "\n",
        "servers"
      ]
    }
  ]
}