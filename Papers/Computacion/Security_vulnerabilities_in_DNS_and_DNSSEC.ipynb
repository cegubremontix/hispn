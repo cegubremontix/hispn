{
  "nbformat": 4,
  "nbformat_minor": 0,
  "metadata": {
    "colab": {
      "name": "Security vulnerabilities in DNS and DNSSEC.ipynb",
      "provenance": [],
      "include_colab_link": true
    },
    "kernelspec": {
      "name": "python3",
      "display_name": "Python 3"
    },
    "language_info": {
      "name": "python"
    }
  },
  "cells": [
    {
      "cell_type": "markdown",
      "metadata": {
        "id": "view-in-github",
        "colab_type": "text"
      },
      "source": [
        "<a href=\"https://colab.research.google.com/github/dbremont/Notas/blob/main/Papers/Computacion/Security_vulnerabilities_in_DNS_and_DNSSEC.ipynb\" target=\"_parent\"><img src=\"https://colab.research.google.com/assets/colab-badge.svg\" alt=\"Open In Colab\"/></a>"
      ]
    },
    {
      "cell_type": "markdown",
      "metadata": {
        "id": "i2wkSPhrgAaN"
      },
      "source": [
        "We present an analysis of security vulnerabilities in\n",
        "the Domain Name System (DNS) and the DNS Secu-\n",
        "rity Extensions (DNSSEC). DNS data that is provided\n",
        "by name servers lacks support for data origin authen-\n",
        "\n",
        "tication and data integrity. This makes DNS vulnera-\n",
        "ble to man in the middle (MITM) attacks, as well as\n",
        "a range of other attacks. To make DNS more robust,\n",
        "\n",
        "DNSSEC was proposed by the Internet Engineering Task\n",
        "Force (IETF). DNSSEC provides data origin authentica-\n",
        "tion and integrity by using digital signatures. Although\n",
        "\n",
        "DNSSEC provides security for DNS data, it suffers from\n",
        "serious security and operational flaws. We discuss the\n",
        "DNS and DNSSEC architectures, and consider the asso-\n",
        "\n",
        "ciated security vulnerabilities.\n",
        "Keywords: DNS, DNSSEC, Cryptography, Security."
      ]
    }
  ]
}