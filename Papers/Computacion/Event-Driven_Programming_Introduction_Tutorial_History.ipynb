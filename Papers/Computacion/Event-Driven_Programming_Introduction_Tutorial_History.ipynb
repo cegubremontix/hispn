{
  "nbformat": 4,
  "nbformat_minor": 0,
  "metadata": {
    "kernelspec": {
      "display_name": "Python 2.7.18 64-bit",
      "name": "python2718jvsc74a57bd0f92b2924b84ff19c1c3dc485f7644d4486f64738191026bf8e6de303969141b5"
    },
    "language_info": {
      "name": "python",
      "version": ""
    },
    "metadata": {
      "interpreter": {
        "hash": "f92b2924b84ff19c1c3dc485f7644d4486f64738191026bf8e6de303969141b5"
      }
    },
    "orig_nbformat": 2,
    "colab": {
      "name": "Event-Driven Programming - Introduction, Tutorial, History.ipynb",
      "provenance": [],
      "include_colab_link": true
    }
  },
  "cells": [
    {
      "cell_type": "markdown",
      "metadata": {
        "id": "view-in-github",
        "colab_type": "text"
      },
      "source": [
        "<a href=\"https://colab.research.google.com/github/dbremont/Notas/blob/main/Papers/Computacion/Event-Driven%20Programming%20-%20Introduction%2C%20Tutorial%2C%20History.ipynb\" target=\"_parent\"><img src=\"https://colab.research.google.com/assets/colab-badge.svg\" alt=\"Open In Colab\"/></a>"
      ]
    },
    {
      "cell_type": "markdown",
      "metadata": {
        "id": "FAhUPaQmq8LO"
      },
      "source": [
        "Event-Driven Programming - Introduction, Tutorial, History"
      ]
    },
    {
      "cell_type": "markdown",
      "metadata": {
        "id": "uNZ8Yljdq8LS"
      },
      "source": [
        "- (D)[Event-Driven Programming - Introduction, Tutorial, History](http://0.0.0.0:8000/3%20Computacion/Papers/Event-Driven%20Programming%20-%20Introduction%2C%20Tutorial%2C%20History.pdf)"
      ]
    }
  ]
}
