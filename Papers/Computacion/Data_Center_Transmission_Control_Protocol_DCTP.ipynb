{
  "nbformat": 4,
  "nbformat_minor": 0,
  "metadata": {
    "colab": {
      "name": "Data Center Transmission Control Protocol (DCTP).ipynb",
      "provenance": [],
      "include_colab_link": true
    },
    "kernelspec": {
      "name": "python3",
      "display_name": "Python 3"
    },
    "language_info": {
      "name": "python"
    }
  },
  "cells": [
    {
      "cell_type": "markdown",
      "metadata": {
        "id": "view-in-github",
        "colab_type": "text"
      },
      "source": [
        "<a href=\"https://colab.research.google.com/github/dbremont/Notas/blob/main/Papers/Computacion/Data_Center_Transmission_Control_Protocol_DCTP.ipynb\" target=\"_parent\"><img src=\"https://colab.research.google.com/assets/colab-badge.svg\" alt=\"Open In Colab\"/></a>"
      ]
    },
    {
      "cell_type": "markdown",
      "metadata": {
        "id": "e95qboyfiqx6"
      },
      "source": [
        "Cloud data centers host diverse applications, mixing workloads that\n",
        "require small predictable latency with others requiring large sus-\n",
        "tained throughput. In this environment, today’s state-of-the-art TCP\n",
        "protocol falls short. We present measurements of a 6000 server\n",
        "production cluster and reveal impairments that lead to high applica-\n",
        "tion latencies, rooted in TCP’s demands on the limited buffer space\n",
        "available in data center switches. For example, bandwidth hungry\n",
        "“background” flows build up queues at the switches, and thus im-\n",
        "pact the performance of latency sensitive “foreground” traffic.\n",
        "To address these problems, we propose DCTCP, a TCP-like pro-\n",
        "tocol for data center networks. DCTCP leverages Explicit Conges-\n",
        "tion Notification (ECN) in the network to provide multi-bit feed-\n",
        "back to the end hosts. We evaluate DCTCP at 1 and 10Gbps speeds\n",
        "using commodity, shallow buffered switches. We find DCTCP de-\n",
        "livers the same or better throughput than TCP, while using 90%\n",
        "less buffer space. Unlike TCP, DCTCP also provides high burst\n",
        "tolerance and low latency for short flows. In handling workloads\n",
        "derived from operational measurements, we found DCTCP enables\n",
        "the applications to handle 10X the current background traffic, with-\n",
        "out impacting foreground traffic. Further, a 10X increase in fore-\n",
        "ground traffic does not cause any timeouts, thus largely eliminating\n",
        "incast problems"
      ]
    }
  ]
}