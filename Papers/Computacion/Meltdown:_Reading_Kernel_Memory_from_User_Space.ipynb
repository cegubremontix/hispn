{
  "nbformat": 4,
  "nbformat_minor": 0,
  "metadata": {
    "colab": {
      "name": "Meltdown: Reading Kernel Memory from User Space.ipynb",
      "provenance": [],
      "include_colab_link": true
    },
    "kernelspec": {
      "name": "python3",
      "display_name": "Python 3"
    },
    "language_info": {
      "name": "python"
    }
  },
  "cells": [
    {
      "cell_type": "markdown",
      "metadata": {
        "id": "view-in-github",
        "colab_type": "text"
      },
      "source": [
        "<a href=\"https://colab.research.google.com/github/dbremont/Notas/blob/main/Papers/Computacion/Meltdown%3A_Reading_Kernel_Memory_from_User_Space.ipynb\" target=\"_parent\"><img src=\"https://colab.research.google.com/assets/colab-badge.svg\" alt=\"Open In Colab\"/></a>"
      ]
    },
    {
      "cell_type": "markdown",
      "metadata": {
        "id": "ngjCMnF7hq8g"
      },
      "source": [
        "The security of computer systems fundamentally relies\n",
        "on memory isolation, e.g., kernel address ranges are\n",
        "marked as non-accessible and are protected from user\n",
        "access. In this paper, we present Meltdown. Meltdown\n",
        "exploits side effects of out-of-order execution on mod-\n",
        "ern processors to read arbitrary kernel-memory locations\n",
        "including personal data and passwords. Out-of-order\n",
        "execution is an indispensable performance feature and\n",
        "present in a wide range of modern processors. The attack\n",
        "is independent of the operating system, and it does not\n",
        "rely on any software vulnerabilities. Meltdown breaks\n",
        "all security guarantees provided by address space isola-\n",
        "tion as well as paravirtualized environments and, thus,\n",
        "every security mechanism building upon this foundation.\n",
        "On affected systems, Meltdown enables an adversary to\n",
        "read memory of other processes or virtual machines in\n",
        "the cloud without any permissions or privileges, affect-\n",
        "ing millions of customers and virtually every user of a\n",
        "personal computer. We show that the KAISER defense\n",
        "mechanism for KASLR has the important (but inadver-\n",
        "tent) side effect of impeding Meltdown. We stress that\n",
        "KAISER must be deployed immediately to prevent large-\n",
        "scale exploitation of this severe information leakage."
      ]
    }
  ]
}