{
  "nbformat": 4,
  "nbformat_minor": 0,
  "metadata": {
    "colab": {
      "name": "Transient customization of mobile computing infrastructure.ipynb",
      "provenance": [],
      "include_colab_link": true
    },
    "kernelspec": {
      "name": "python3",
      "display_name": "Python 3"
    },
    "language_info": {
      "name": "python"
    }
  },
  "cells": [
    {
      "cell_type": "markdown",
      "metadata": {
        "id": "view-in-github",
        "colab_type": "text"
      },
      "source": [
        "<a href=\"https://colab.research.google.com/github/dbremont/Notas/blob/main/Papers/Computacion/Transient_customization_of_mobile_computing_infrastructure.ipynb\" target=\"_parent\"><img src=\"https://colab.research.google.com/assets/colab-badge.svg\" alt=\"Open In Colab\"/></a>"
      ]
    },
    {
      "cell_type": "markdown",
      "metadata": {
        "id": "QK28blzWao2z"
      },
      "source": [
        "Kimberley is a system that simplifies transient use of fixed hard-\n",
        "ware infrastructure by a mobile device. It uses virtual machine\n",
        "(VM) technology to resolve the tension between standardizing in-\n",
        "\n",
        "frastructure for ease of deployment and maintenance, and customiz-\n",
        "\n",
        "ing that infrastructure to meet the specific needs of a user. Kim-\n",
        "\n",
        "berley decomposes the state of a customized VM into a widely-\n",
        "\n",
        "available base VM and a much smaller private VM overlay. The\n",
        "base is downloaded by the infrastructure in advance. Only the\n",
        "\n",
        "small overlay needs to be delivered from the mobile device, or un-\n",
        "\n",
        "der its control from a public web site. This strategy keeps startup\n",
        "\n",
        "delay low. It may also conserve energy on the mobile device by\n",
        "\n",
        "reducing the volume of wireless transmission. We have built a pro-\n",
        "\n",
        "totype of Kimberley, and our experiments confirm the feasibility of\n",
        "\n",
        "this approach."
      ]
    }
  ]
}