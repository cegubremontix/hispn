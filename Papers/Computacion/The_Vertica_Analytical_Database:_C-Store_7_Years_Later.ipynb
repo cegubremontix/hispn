{
  "nbformat": 4,
  "nbformat_minor": 0,
  "metadata": {
    "colab": {
      "name": "The Vertica Analytical Database: C-Store 7 Years Later.ipynb",
      "provenance": [],
      "include_colab_link": true
    },
    "kernelspec": {
      "name": "python3",
      "display_name": "Python 3"
    },
    "language_info": {
      "name": "python"
    }
  },
  "cells": [
    {
      "cell_type": "markdown",
      "metadata": {
        "id": "view-in-github",
        "colab_type": "text"
      },
      "source": [
        "<a href=\"https://colab.research.google.com/github/dbremont/Notas/blob/main/Papers/Computacion/The_Vertica_Analytical_Database%3A_C-Store_7_Years_Later.ipynb\" target=\"_parent\"><img src=\"https://colab.research.google.com/assets/colab-badge.svg\" alt=\"Open In Colab\"/></a>"
      ]
    },
    {
      "cell_type": "markdown",
      "metadata": {
        "id": "xlUGqzBVxUGh"
      },
      "source": [
        "This paper describes the system architecture of the Vertica Analytic Database (Vertica), a commercialization of the\n",
        "design of the C-Store research prototype. Vertica demonstrates a modern commercial RDBMS system that presents\n",
        "a classical relational interface while at the same time achieving the high performance expected from modern “web scale”\n",
        "analytic systems by making appropriate architectural choices.\n",
        "Vertica is also an instructive lesson in how academic systems\n",
        "research c"
      ]
    }
  ]
}