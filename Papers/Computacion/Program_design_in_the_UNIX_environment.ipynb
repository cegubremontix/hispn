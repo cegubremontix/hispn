{
  "nbformat": 4,
  "nbformat_minor": 0,
  "metadata": {
    "colab": {
      "name": "Program design in the UNIX environment.ipynb",
      "provenance": [],
      "include_colab_link": true
    },
    "kernelspec": {
      "name": "python3",
      "display_name": "Python 3"
    },
    "language_info": {
      "name": "python"
    }
  },
  "cells": [
    {
      "cell_type": "markdown",
      "metadata": {
        "id": "view-in-github",
        "colab_type": "text"
      },
      "source": [
        "<a href=\"https://colab.research.google.com/github/dbremont/Notas/blob/main/Papers/Computacion/Program_design_in_the_UNIX_environment.ipynb\" target=\"_parent\"><img src=\"https://colab.research.google.com/assets/colab-badge.svg\" alt=\"Open In Colab\"/></a>"
      ]
    },
    {
      "cell_type": "markdown",
      "metadata": {
        "id": "jqcht5sok631"
      },
      "source": [
        "Much of the power of the UNIX operating system comes from a style of program\n",
        "design that makes programs easy to use and, more important, easy to combine with other\n",
        "\n",
        "programs. This style has been called the use of software tools, and depends more on how\n",
        "the programs fit into the programming environment \u0014 how they can be used with other\n",
        "programs \u0014 than on how they are designed internally. But as the system has become\n",
        "commercially successful and has spread widely, this style has often been compromised, to\n",
        "\n",
        "the detriment of all users. Old programs have become encrusted with dubious features.\n",
        "\n",
        "Newer programs are not always written with attention to proper separation of function\n",
        "\n",
        "and design for interconnection. This paper discusses the elements of program design,\n",
        "\n",
        "showing by example good and bad design, and indicates some possible trends for the\n",
        "\n",
        "future."
      ]
    }
  ]
}