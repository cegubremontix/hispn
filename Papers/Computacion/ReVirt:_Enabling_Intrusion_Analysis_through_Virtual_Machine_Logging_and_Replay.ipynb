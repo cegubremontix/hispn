{
  "nbformat": 4,
  "nbformat_minor": 0,
  "metadata": {
    "colab": {
      "name": "ReVirt: Enabling Intrusion Analysis through Virtual Machine Logging and Replay.ipynb",
      "provenance": [],
      "include_colab_link": true
    },
    "kernelspec": {
      "name": "python3",
      "display_name": "Python 3"
    },
    "language_info": {
      "name": "python"
    }
  },
  "cells": [
    {
      "cell_type": "markdown",
      "metadata": {
        "id": "view-in-github",
        "colab_type": "text"
      },
      "source": [
        "<a href=\"https://colab.research.google.com/github/dbremont/Notas/blob/main/Papers/Computacion/ReVirt%3A_Enabling_Intrusion_Analysis_through_Virtual_Machine_Logging_and_Replay.ipynb\" target=\"_parent\"><img src=\"https://colab.research.google.com/assets/colab-badge.svg\" alt=\"Open In Colab\"/></a>"
      ]
    },
    {
      "cell_type": "markdown",
      "metadata": {
        "id": "uyjCvw9Ckew1"
      },
      "source": [
        "Current system loggers have two problems: they depend on the integrity of the operating system being logged, and\n",
        "they do not save sufficient information to replay and analyze attacks that include any non-deterministic events. ReVirt\n",
        "removes the dependency on the target operating system by moving it into a virtual machine and logging below the\n",
        "virtual machine. This allows ReVirt to replay the system’s execution before, during, and after an intruder compro-\n",
        "mises the system, even if the intruder replaces the target operating system. ReVirt logs enough information to replay\n",
        "a long-term execution of the virtual machine instruction-by-instruction. This enables it to provide arbitrarily detailed\n",
        "observations about what transpired on the system, even in the presence of non-deterministic attacks and executions.\n",
        "ReVirt adds reasonable time and space overhead. Overheads due to virtualization are imperceptible for interactive use\n",
        "and CPU-bound workloads, and 13-58% for kernel-intensive workloads. Logging adds 0-8% overhead, and logging\n",
        "traffic for our workloads can be stored on a single disk for several months."
      ]
    }
  ]
}