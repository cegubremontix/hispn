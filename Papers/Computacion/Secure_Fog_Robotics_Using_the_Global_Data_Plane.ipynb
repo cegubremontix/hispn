{
  "nbformat": 4,
  "nbformat_minor": 0,
  "metadata": {
    "colab": {
      "name": "Secure Fog Robotics Using the Global Data Plane.ipynb",
      "provenance": [],
      "include_colab_link": true
    },
    "kernelspec": {
      "name": "python3",
      "display_name": "Python 3"
    },
    "language_info": {
      "name": "python"
    }
  },
  "cells": [
    {
      "cell_type": "markdown",
      "metadata": {
        "id": "view-in-github",
        "colab_type": "text"
      },
      "source": [
        "<a href=\"https://colab.research.google.com/github/dbremont/Notas/blob/main/Papers/Computacion/Secure_Fog_Robotics_Using_the_Global_Data_Plane.ipynb\" target=\"_parent\"><img src=\"https://colab.research.google.com/assets/colab-badge.svg\" alt=\"Open In Colab\"/></a>"
      ]
    },
    {
      "cell_type": "markdown",
      "metadata": {
        "id": "gayirlLsoGjy"
      },
      "source": [
        "Today’s exciting new world of data-driven technology, AI, and cyber-physical systems rely on\n",
        "information from widely disparate sources, combining processing and storage in the cloud with embedded\n",
        "sensors, actuators, and processing at the edge. This information includes both the inputs and outputs of\n",
        "computations as well as multi-versioned executables that drive such computations. Edge computing is\n",
        "essential, since sensors at the edge of the network (e.g., cameras) generate huge volumes of data that is\n",
        "ideally processed or distilled locally. Further, control loops with sensors, computing, and actuators require\n",
        "local communication for responsiveness and quality of service (QoS).\n",
        "Unfortunately,theedgeofthenetworkconsistsofislandsoftrustedhardwareinterspersedwithavastsea\n",
        "of untrusted hardware. Thus, there is a pressing need for connected systems to uniformly verify the integrity\n",
        "oftheinformationonwhichtheyrelyandsimilarlytoprovideauniversalaudit-trailfortheinformationthatthey\n",
        "produce. Further, privacy must be respected by the infrastructure and relinquished only when necessary.\n",
        "To address these needs, we propose a fundamental refactoring of the network around cryptographically\n",
        "hardened bundles of data, called DataCapsules. DataCapsules are the cyberspace equivalent of shipping\n",
        "containers: uniquely named, secured bundles of information transported over a data-centric “narrow-waist”\n",
        "infrastructure called the Global Data Plane (GDP). The GDP partitions the network into Trust Domains (TDs)\n",
        "to allow clients to reason about the trustworthiness of hardware. When combined with trusted computing\n",
        "enclaves, the GDP enables applications to dynamically partition their functionality between the cloud and\n",
        "network edge, yielding better QoS, lower latency, and enhanced privacy without risking information integrity\n",
        "or obscuring its provenance."
      ]
    }
  ]
}