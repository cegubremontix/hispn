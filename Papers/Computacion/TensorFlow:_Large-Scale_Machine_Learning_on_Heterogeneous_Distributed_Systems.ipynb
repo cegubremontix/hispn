{
  "nbformat": 4,
  "nbformat_minor": 0,
  "metadata": {
    "colab": {
      "name": "TensorFlow: Large-Scale Machine Learning on Heterogeneous Distributed Systems.ipynb",
      "provenance": [],
      "include_colab_link": true
    },
    "kernelspec": {
      "name": "python3",
      "display_name": "Python 3"
    },
    "language_info": {
      "name": "python"
    }
  },
  "cells": [
    {
      "cell_type": "markdown",
      "metadata": {
        "id": "view-in-github",
        "colab_type": "text"
      },
      "source": [
        "<a href=\"https://colab.research.google.com/github/dbremont/Notas/blob/main/Papers/Computacion/TensorFlow%3A_Large-Scale_Machine_Learning_on_Heterogeneous_Distributed_Systems.ipynb\" target=\"_parent\"><img src=\"https://colab.research.google.com/assets/colab-badge.svg\" alt=\"Open In Colab\"/></a>"
      ]
    },
    {
      "cell_type": "markdown",
      "metadata": {
        "id": "b7WJocvSgMnP"
      },
      "source": [
        "TensorFlow [1] is an interface for expressing machine learn-\n",
        "ing algorithms, and an implementation for executing such al-\n",
        "gorithms. A computation expressed using TensorFlow can be\n",
        "executed with little or no change on a wide variety of hetero-\n",
        "geneous systems, ranging from mobile devices such as phones\n",
        "and tablets up to large-scale distributed systems of hundreds\n",
        "of machines and thousands of computational devices such as\n",
        "GPU cards. The system is flexible and can be used to express\n",
        "a wide variety of algorithms, including training and inference\n",
        "algorithms for deep neural network models, and it has been\n",
        "used for conducting research and for deploying machine learn-\n",
        "ing systems into production across more than a dozen areas of\n",
        "computer science and other fields, including speech recogni-\n",
        "tion, computer vision, robotics, information retrieval, natural\n",
        "language processing, geographic information extraction, and\n",
        "computational drug discovery. This paper describes the Ten-\n",
        "sorFlow interface and an implementation of that interface that\n",
        "we have built at Google. The TensorFlow API and a reference\n",
        "implementation were released as an open-source package under\n",
        "the Apache 2.0 license i"
      ]
    }
  ]
}