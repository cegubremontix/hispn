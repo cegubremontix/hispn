{
  "nbformat": 4,
  "nbformat_minor": 0,
  "metadata": {
    "kernelspec": {
      "display_name": "Python 2.7.18 64-bit",
      "name": "python2718jvsc74a57bd0f92b2924b84ff19c1c3dc485f7644d4486f64738191026bf8e6de303969141b5"
    },
    "language_info": {
      "name": "python",
      "version": ""
    },
    "metadata": {
      "interpreter": {
        "hash": "f92b2924b84ff19c1c3dc485f7644d4486f64738191026bf8e6de303969141b5"
      }
    },
    "orig_nbformat": 2,
    "colab": {
      "name": "Ropes_an_Alternative_to_Strings.ipynb",
      "provenance": [],
      "include_colab_link": true
    }
  },
  "cells": [
    {
      "cell_type": "markdown",
      "metadata": {
        "id": "view-in-github",
        "colab_type": "text"
      },
      "source": [
        "<a href=\"https://colab.research.google.com/github/dbremont/Notas/blob/main/Papers/Computacion/Ropes_an_Alternative_to_Strings.ipynb\" target=\"_parent\"><img src=\"https://colab.research.google.com/assets/colab-badge.svg\" alt=\"Open In Colab\"/></a>"
      ]
    },
    {
      "cell_type": "markdown",
      "metadata": {
        "id": "4Akzw2-2ZDNd"
      },
      "source": [
        "Ropes - an Alternative to Strings"
      ]
    },
    {
      "cell_type": "markdown",
      "metadata": {
        "id": "6Ylv_0t6aFBa"
      },
      "source": [
        "Programming languages generally provide a ‘string’ or ‘text’ type to allow manipulation of\n",
        "sequences of characters. This type is usually of crucial importance, since it is normally mentioned\n",
        "in most interfaces between system components. We claim that the traditional implementations of\n",
        "strings, and often the supported functionality, are not well suited to such general-purpose use.\n",
        "They should be confined to applications with specific, and unusual, performance requirements.\n",
        "We present ‘ropes’ or ‘heavyweight’ strings as an alternative that, in our experience leads to\n",
        "systems that are more robust, both in functionality and in performance.\n",
        "\n",
        "Ropes have been in use in the Cedar environment almost since its inception, but this appears\n",
        "to be neither well-known, nor discussed in the literature. The algorithms have been gradually\n",
        "refined. We have also recently built a second similar, but somewhat lighter weight, C-language\n",
        "implementation, which is included in our publically released garbage collector distribution.1 We\n",
        "describe the algorithms used in both, and give some performance measurements for the C version."
      ]
    }
  ]
}