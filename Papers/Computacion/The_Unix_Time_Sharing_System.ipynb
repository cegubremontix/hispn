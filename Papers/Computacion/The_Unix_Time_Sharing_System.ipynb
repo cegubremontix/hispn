{
  "nbformat": 4,
  "nbformat_minor": 0,
  "metadata": {
    "colab": {
      "name": "The Unix Time Sharing System.ipynb",
      "provenance": [],
      "include_colab_link": true
    },
    "kernelspec": {
      "name": "python3",
      "display_name": "Python 3"
    },
    "language_info": {
      "name": "python"
    }
  },
  "cells": [
    {
      "cell_type": "markdown",
      "metadata": {
        "id": "view-in-github",
        "colab_type": "text"
      },
      "source": [
        "<a href=\"https://colab.research.google.com/github/dbremont/Notas/blob/main/Papers/Computacion/The_Unix_Time_Sharing_System.ipynb\" target=\"_parent\"><img src=\"https://colab.research.google.com/assets/colab-badge.svg\" alt=\"Open In Colab\"/></a>"
      ]
    },
    {
      "cell_type": "markdown",
      "metadata": {
        "id": "nckMPY1ygZJG"
      },
      "source": [
        "UNIX is a general-purpose, multi-user, interactive\n",
        "operating system for the Digital Equipment Corporation PDP-11/40 and 11/45 computers. It offers a number of features seldom found even in larger operating systems, including:\n",
        "\n",
        "(1) a hierarchical file system incorporating demountable volumes;\n",
        "\n",
        "(2) compatible file, device, and inter-process I/O; \n",
        "\n",
        "(3) the ability to initiate asynchronous processes; \n",
        "\n",
        "(4) system command language selectable on a per-user basis; and \n",
        "\n",
        "(5) over 100 subsystems including a dozen languages. This paper discusses the nature and implementation of the file system and of the\n",
        "user command interface."
      ]
    }
  ]
}