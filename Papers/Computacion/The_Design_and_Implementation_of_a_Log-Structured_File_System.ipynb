{
  "nbformat": 4,
  "nbformat_minor": 0,
  "metadata": {
    "colab": {
      "name": "The Design and Implementation of a Log-Structured File System.ipynb",
      "provenance": [],
      "include_colab_link": true
    },
    "kernelspec": {
      "name": "python3",
      "display_name": "Python 3"
    },
    "language_info": {
      "name": "python"
    }
  },
  "cells": [
    {
      "cell_type": "markdown",
      "metadata": {
        "id": "view-in-github",
        "colab_type": "text"
      },
      "source": [
        "<a href=\"https://colab.research.google.com/github/dbremont/Notas/blob/main/Papers/Computacion/The_Design_and_Implementation_of_a_Log-Structured_File_System.ipynb\" target=\"_parent\"><img src=\"https://colab.research.google.com/assets/colab-badge.svg\" alt=\"Open In Colab\"/></a>"
      ]
    },
    {
      "cell_type": "markdown",
      "metadata": {
        "id": "RnTU41ZiK4C1"
      },
      "source": [
        "log-structured file system. \n",
        "\n",
        "A logstructured file system writes all modifications to disk\n",
        "sequentially in a log-like structure, thereby speeding up\n",
        "both file writing and crash recovery. \n",
        "\n",
        "The log is the only structure on disk; it contains indexing information so that\n",
        "files can be read back from the log efficiently. \n",
        "\n",
        "In order to maintain large free areas on disk for fast writing, we divide\n",
        "the log into segments and use a segment cleaner to compress the live  information from heavily fragmented segments. \n",
        "\n",
        "We present a series of simulations that demonstrate the efficiency of a simple cleaning policy based on cost and benefit. \n",
        "\n",
        "We have implemented a prototype logstructured file system called Sprite LFS; it outperforms current Unix file systems by an order of magnitude for small-file writes while matching or exceeding Unix performance for reads and large writes. Even when the overhead for cleaning is included, Sprite LFS can use 70% of the disk bandwidth for writing, whereas Unix file systems typically can use only 5-10%."
      ]
    }
  ]
}