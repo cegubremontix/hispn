{
  "nbformat": 4,
  "nbformat_minor": 0,
  "metadata": {
    "colab": {
      "name": "Tor: The Second-Generation Onion Router.ipynb",
      "provenance": [],
      "include_colab_link": true
    },
    "kernelspec": {
      "name": "python3",
      "display_name": "Python 3"
    },
    "language_info": {
      "name": "python"
    }
  },
  "cells": [
    {
      "cell_type": "markdown",
      "metadata": {
        "id": "view-in-github",
        "colab_type": "text"
      },
      "source": [
        "<a href=\"https://colab.research.google.com/github/dbremont/Notas/blob/main/Papers/Computacion/Tor%3A_The_Second-Generation_Onion_Router.ipynb\" target=\"_parent\"><img src=\"https://colab.research.google.com/assets/colab-badge.svg\" alt=\"Open In Colab\"/></a>"
      ]
    },
    {
      "cell_type": "markdown",
      "metadata": {
        "id": "Nts1Vq_ahKhC"
      },
      "source": [
        "We present Tor, a circuit-based low-latency anonymous communication service. This second-generation Onion Routing\n",
        "system addresses limitations in the original design by adding\n",
        "perfect forward secrecy, congestion control, directory servers,\n",
        "integrity checking, configurable exit policies, and a practical design for location-hidden services via rendezvous points.\n",
        "Tor works on the real-world Internet, requires no special privileges or kernel modifications, requires little synchronization\n",
        "or coordination between nodes, and provides a reasonable\n",
        "tradeoff between anonymity, usability, and efficiency. We\n",
        "briefly describe our experiences with an international network\n",
        "of more than 30 nodes. We close with a list of open problems\n",
        "in anonymous communication"
      ]
    }
  ]
}