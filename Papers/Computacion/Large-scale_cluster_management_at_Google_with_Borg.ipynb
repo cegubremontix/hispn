{
  "nbformat": 4,
  "nbformat_minor": 0,
  "metadata": {
    "colab": {
      "name": "Large-scale cluster management at Google with Borg.ipynb",
      "provenance": [],
      "include_colab_link": true
    },
    "kernelspec": {
      "name": "python3",
      "display_name": "Python 3"
    },
    "language_info": {
      "name": "python"
    }
  },
  "cells": [
    {
      "cell_type": "markdown",
      "metadata": {
        "id": "view-in-github",
        "colab_type": "text"
      },
      "source": [
        "<a href=\"https://colab.research.google.com/github/dbremont/Notas/blob/main/Papers/Computacion/Large-scale_cluster_management_at_Google_with_Borg.ipynb\" target=\"_parent\"><img src=\"https://colab.research.google.com/assets/colab-badge.svg\" alt=\"Open In Colab\"/></a>"
      ]
    },
    {
      "cell_type": "markdown",
      "metadata": {
        "id": "Ff5_zp2zhJnf"
      },
      "source": [
        "Google’s Borg system is a cluster manager that runs hundreds of thousands of jobs, from many thousands of different applications, across a number of clusters each with up to\n",
        "tens of thousands of machines.\n",
        "\n",
        "It achieves high utilization by combining admission control, efficient task-packing, over-commitment, and machine\n",
        "sharing with process-level performance isolation. It supports\n",
        "high-availability applications with runtime features that minimize fault-recovery time, and scheduling policies that reduce the probability of correlated failures. Borg simplifies\n",
        "life for its users by offering a declarative job specification\n",
        "language, name service integration, real-time job monitoring, and tools to analyze and simulate system behavior.\n",
        "\n",
        "\n",
        "We present a summary of the Borg system architecture\n",
        "and features, important design decisions, a quantitative analysis of some of its policy decisions, and a qualitative examination of lessons learned from a decade of operational\n",
        "experience with it.\n",
        "\n"
      ]
    }
  ]
}