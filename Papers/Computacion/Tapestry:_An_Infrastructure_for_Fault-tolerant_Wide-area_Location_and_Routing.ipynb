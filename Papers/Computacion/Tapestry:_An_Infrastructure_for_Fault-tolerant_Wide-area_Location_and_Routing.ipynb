{
  "nbformat": 4,
  "nbformat_minor": 0,
  "metadata": {
    "colab": {
      "name": "Tapestry: An Infrastructure for Fault-tolerant Wide-area Location and Routing.ipynb",
      "provenance": [],
      "include_colab_link": true
    },
    "kernelspec": {
      "name": "python3",
      "display_name": "Python 3"
    },
    "language_info": {
      "name": "python"
    }
  },
  "cells": [
    {
      "cell_type": "markdown",
      "metadata": {
        "id": "view-in-github",
        "colab_type": "text"
      },
      "source": [
        "<a href=\"https://colab.research.google.com/github/dbremont/Notas/blob/main/Papers/Computacion/Tapestry%3A_An_Infrastructure_for_Fault-tolerant_Wide-area_Location_and_Routing.ipynb\" target=\"_parent\"><img src=\"https://colab.research.google.com/assets/colab-badge.svg\" alt=\"Open In Colab\"/></a>"
      ]
    },
    {
      "cell_type": "markdown",
      "metadata": {
        "id": "QsCxoL78yVAf"
      },
      "source": [
        "In today’s chaotic network, data and services are mobile and replicated widely for availability,\n",
        "durability, and locality. Components within this infrastructure interact in rich and complex ways, greatly\n",
        "stressing traditional approaches to name service and routing. This paper explores an alternative to\n",
        "traditional approaches called Tapestry. Tapestry is an overlay location and routing infrastructure that\n",
        "provides location-independent routing of messages directly to the closest copy of an object or service\n",
        "using only point-to-point links and without centralized resources. The routing and directory information\n",
        "within this infrastructure is purely soft state and easily repaired. Tapestry is self-administering, faulttolerant, and resilient under load. This paper presents the architecture and algorithms of Tapestry and\n",
        "explores their advantages through a number of experiments."
      ]
    }
  ]
}