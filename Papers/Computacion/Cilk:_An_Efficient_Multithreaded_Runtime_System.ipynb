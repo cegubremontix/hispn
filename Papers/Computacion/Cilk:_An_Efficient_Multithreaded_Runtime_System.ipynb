{
  "nbformat": 4,
  "nbformat_minor": 0,
  "metadata": {
    "colab": {
      "name": "Cilk: An Efficient Multithreaded Runtime System.ipynb",
      "provenance": [],
      "include_colab_link": true
    },
    "kernelspec": {
      "name": "python3",
      "display_name": "Python 3"
    },
    "language_info": {
      "name": "python"
    }
  },
  "cells": [
    {
      "cell_type": "markdown",
      "metadata": {
        "id": "view-in-github",
        "colab_type": "text"
      },
      "source": [
        "<a href=\"https://colab.research.google.com/github/dbremont/Notas/blob/main/Papers/Computacion/Cilk%3A_An_Efficient_Multithreaded_Runtime_System.ipynb\" target=\"_parent\"><img src=\"https://colab.research.google.com/assets/colab-badge.svg\" alt=\"Open In Colab\"/></a>"
      ]
    },
    {
      "cell_type": "markdown",
      "metadata": {
        "id": "9GX0F5BZoTb2"
      },
      "source": [
        "Cilk (pronounced “silk”) is a C-based runtime system for multi-\n",
        "\n",
        "threaded parallel programming. In this paper, we document the effi-\n",
        "ciency of the Cilk work-stealing scheduler, both empirically and ana-\n",
        "lytically. We show that on real and synthetic applications, the “work”\n",
        "and “critical path” of a Cilk computation can be used to accurately\n",
        "model performance. Consequently, a Cilk programmer can focus on\n",
        "\n",
        "reducing the work and critical path of his computation, insulated from\n",
        "load balancing and other runtime scheduling issues. We also prove\n",
        "that for the class of “fully strict” (well-structured) programs, the Cilk\n",
        "scheduler achieves space, time, and communication bounds all within\n",
        "a constant factor of optimal.\n",
        "The Cilk runtime system currently runs on the Connection Ma-\n",
        "chine CM5 MPP, the Intel Paragon MPP, the Silicon Graphics Power\n",
        "\n",
        "Challenge SMP, and the MIT Phish network of workstations. Ap-\n",
        "\n",
        "plications written in Cilk include protein folding, graphic rendering,\n",
        "backtrack search, and the ?Socrates chess program, which won third\n",
        "prize in the 1994 ACM International Computer Chess Championship."
      ]
    }
  ]
}