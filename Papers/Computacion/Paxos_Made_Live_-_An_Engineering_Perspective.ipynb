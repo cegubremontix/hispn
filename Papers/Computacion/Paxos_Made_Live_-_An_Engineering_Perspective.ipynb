{
  "nbformat": 4,
  "nbformat_minor": 0,
  "metadata": {
    "colab": {
      "name": "Paxos Made Live - An Engineering Perspective.ipynb",
      "provenance": [],
      "include_colab_link": true
    },
    "kernelspec": {
      "name": "python3",
      "display_name": "Python 3"
    },
    "language_info": {
      "name": "python"
    }
  },
  "cells": [
    {
      "cell_type": "markdown",
      "metadata": {
        "id": "view-in-github",
        "colab_type": "text"
      },
      "source": [
        "<a href=\"https://colab.research.google.com/github/dbremont/Notas/blob/main/Papers/Computacion/Paxos_Made_Live_-_An_Engineering_Perspective.ipynb\" target=\"_parent\"><img src=\"https://colab.research.google.com/assets/colab-badge.svg\" alt=\"Open In Colab\"/></a>"
      ]
    },
    {
      "cell_type": "markdown",
      "metadata": {
        "id": "NsRBHet7gTP0"
      },
      "source": [
        "We describe our experience in building a fault-tolerant data-base using the Paxos consensus algorithm.\n",
        "Despite the existing literature in the field, building such a database proved to be non-trivial. We describe\n",
        "selected algorithmic and engineering problems encountered, and the solutions we found for them. Our\n",
        "measurements indicate that we have built a competitive system."
      ]
    }
  ]
}