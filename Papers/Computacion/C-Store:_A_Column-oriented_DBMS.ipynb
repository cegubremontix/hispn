{
  "nbformat": 4,
  "nbformat_minor": 0,
  "metadata": {
    "colab": {
      "name": "C-Store: A Column-oriented DBMS.ipynb",
      "provenance": [],
      "include_colab_link": true
    },
    "kernelspec": {
      "name": "python3",
      "display_name": "Python 3"
    },
    "language_info": {
      "name": "python"
    }
  },
  "cells": [
    {
      "cell_type": "markdown",
      "metadata": {
        "id": "view-in-github",
        "colab_type": "text"
      },
      "source": [
        "<a href=\"https://colab.research.google.com/github/dbremont/Notas/blob/main/Papers/Computacion/C-Store%3A_A_Column-oriented_DBMS.ipynb\" target=\"_parent\"><img src=\"https://colab.research.google.com/assets/colab-badge.svg\" alt=\"Open In Colab\"/></a>"
      ]
    },
    {
      "cell_type": "markdown",
      "metadata": {
        "id": "BANHOInwtVfJ"
      },
      "source": [
        "This paper presents the design of a read-optimized relational DBMS that contrasts sharply with most current systems, which are write-optimized.\n",
        "\n",
        "Among the many differences in its design are:\n",
        "\n",
        "- storage of data by column rather than by row,\n",
        "- careful coding and packing of objects into storage including main memory during query processing,\n",
        "- storing an overlapping collection of columnoriented projections, rather than the current fare of tables and indexes,\n",
        "-  a non-traditional implementation of transactions which includes high availability and snapshot isolation for read-only transactions, \n",
        "- and the extensive use of bitmap indexes to complement B-tree structures.\n",
        "\n",
        "We present preliminary performance data on a subset of TPC-H and show that the system we are building, C-Store, is substantially faster than\n",
        "popular commercial products. Hence, the architecture looks very encouraging."
      ]
    }
  ]
}