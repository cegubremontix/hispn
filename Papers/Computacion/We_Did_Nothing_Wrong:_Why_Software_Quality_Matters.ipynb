{
  "nbformat": 4,
  "nbformat_minor": 0,
  "metadata": {
    "colab": {
      "name": "We Did Nothing Wrong: Why Software Quality Matters.ipynb",
      "provenance": [],
      "include_colab_link": true
    },
    "kernelspec": {
      "name": "python3",
      "display_name": "Python 3"
    },
    "language_info": {
      "name": "python"
    }
  },
  "cells": [
    {
      "cell_type": "markdown",
      "metadata": {
        "id": "view-in-github",
        "colab_type": "text"
      },
      "source": [
        "<a href=\"https://colab.research.google.com/github/dbremont/Notas/blob/main/Papers/Computacion/We_Did_Nothing_Wrong%3A_Why_Software_Quality_Matters.ipynb\" target=\"_parent\"><img src=\"https://colab.research.google.com/assets/colab-badge.svg\" alt=\"Open In Colab\"/></a>"
      ]
    },
    {
      "cell_type": "markdown",
      "metadata": {
        "id": "m7MCsDon-4Fm"
      },
      "source": [
        "Panama cancer pataint who died after being overdosed by a Cobalt-60 radiotherapy machine. Or ask the technicians who plugged data into the software that guided that machine, and are now charged with second-degree murder.\n",
        "\n",
        "The more involved a piece of software or related system is, the more\n",
        "potential weaknesses there are.\n",
        "\n",
        "It takes a year—and about $5 million—to develop most business applications\n",
        "\n",
        "32%of organizations say\n",
        "that they release software WITH\n",
        "TOO MANY DEFECTS, —Cutter Consortium\n",
        "\n",
        "Developers spend about 80%of DEVELOPMENT\n",
        "COSTS on IDENTIFYING AND CORRECTING\n",
        "DEFECTS. — The National Institute of Standards and Technology\n",
        "\n",
        "38%of organizations\n",
        "believe they LACK an adequate\n",
        "SOFTWARE QUALITY ASSURANCE\n",
        "PROGRAM\n",
        "\n",
        "27%of organizations DO NOT conduct any formal\n",
        "QUALITY REVIEWS —Cutter Consortium\n",
        "\n",
        "Up to 70% of bugs are introduced in the\n",
        "SPECIFICATION AND DESIGN stage\n",
        "of development. —Cigital Inc., citing outside research\n",
        "\n",
        "Without a rigorous software quality management process in place, the average software project team will devote\n",
        "NEARLY 240 HOURS PER 10,000 LINES\n",
        "OF CODE TO REMOVE DEFECTS….\n",
        "— Cigital Inc., based on outside research\n",
        "\n",
        "\n",
        "\n",
        "Building software requires engineering as serious\n",
        "as the kind required for high-rise offices. Just as there\n",
        "are building codes for skyscrapers, so now are serious\n",
        "developers following code codes.\n",
        "In its Code Conventions for the Java programming\n",
        "language, Java’s progenitor, Sun Microsystems, clearly\n",
        "delineates the number of code statements—known as\n",
        "“declarations”—that should be written per screen line (one)\n",
        "and how long each line should be (not more than 80\n",
        "characters). These conventions recognize such basic facts\n",
        "of code-writing life as how computer terminals “wrap” lines\n",
        "of characters that appear on their screens. The conventions\n",
        "also outline how to clearly name files and how to insert\n",
        "helpful comments into lines of code.\n",
        "Code conventions are important because they make the\n",
        "code easier to read—and maintain—by people who haven’t\n",
        "worked on it.\n",
        "Jack Ganssle, an engineer whose Ganssle Group advises\n",
        "companies and developers on how to create high-quality\n",
        "software, acknowledges that “a lot of software engineers\n",
        "think that this [discipline] is totally worthless—a way to\n",
        "depress their creativity.”\n",
        "But, he notes, “they’re wrong. If the source code is not\n",
        "readable, [if] it’s not absolutely clear, how do you think you\n",
        "can possibly audit it, understand what it’s doing and look\n",
        "for errors?”\n",
        "\n",
        "\n",
        "\n",
        "Dont buy problems\n",
        "\n",
        "Perhaps the biggest reason mediocre software\n",
        "persists—and threatens lives—is that individuals and\n",
        "corporations keep buying it.\n",
        "“People put up with it,” says Jonathan Jacky, a scientist\n",
        "working at Microsoft Research.\n",
        "Software might be the only product designed by a group\n",
        "of people called engineers that’s released and known to be\n",
        "imperfect. No one expects a building to fall, a bridge to\n",
        "collapse, a train to derail or a plane to crash. When any of\n",
        "those fail, shock is followed by accusations, inquiries,\n",
        "penalties, and, sometimes, legislative efforts to make sure\n",
        "the problem doesn’t recur.\n",
        "Not so with software. According to the Cutter Consortium,\n",
        "an information-technology consultancy, almost 40% of 150\n",
        "software-development organizations it polled last year said\n",
        "they didn’t believe their organizations had an adequate program in place to ensure that their software was high quality.\n",
        "Cutter senior consultant Elli Bennatan notes that 29%\n",
        "said their companies didn’t have a quality-assurance\n",
        "professional on staff with any real authority, 27% said their\n",
        "companies didn’t conduct formal quality reviews, and 24%\n",
        "didn’t bother to collect software-quality metrics.\n",
        "And 32% said their companies released software with\n",
        "too many defects.\n",
        "“If you don’t demand quality, you don’t get it,” SQI’s\n",
        "Krasner says.\n",
        "In effect, users and developers of software must begin\n",
        "demanding quality, and backing those organizations that\n",
        "certify developers, such as SEI, or those that support\n",
        "development of reliable code, such as the SCC.\n",
        "Otherwise, it will be lawyers of victims, like those\n",
        "in Panama, and legislators or regulators that will be\n",
        "demanding it—in civil court and in statehouses. Or, in\n",
        "the worst case, in the penal code.\n",
        "\n"
      ]
    },
    {
      "cell_type": "markdown",
      "metadata": {
        "id": "35tN-bi0_Q7J"
      },
      "source": [
        ""
      ]
    }
  ]
}