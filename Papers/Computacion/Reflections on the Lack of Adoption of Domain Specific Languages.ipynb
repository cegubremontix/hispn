{
 "cells": [
  {
   "cell_type": "markdown",
   "metadata": {},
   "source": [
    "* (D) [Reflections on the Lack of Adoption of Domain Specific Languages](http://0.0.0.0:8000/3%20Computacion/Papers/Reflections%20on%20the%20Lack%20of%20Adoption%20of%20Domain%20Specific%20Languages.pdf)"
   ]
  },
  {
   "cell_type": "markdown",
   "metadata": {},
   "source": [
    "Advances of DSLs\n",
    "\n",
    "domain-specific abstractions: to express commonly needed concepts even by non-developers, beyond what a library would allow.\n",
    "\n",
    "domain specific notations\n",
    "\n",
    "tool support\n",
    "\n",
    "conciseness and self documentation\n",
    "\n",
    "productivity and manintainability\n",
    "\n",
    "reliablity, testability, portability, and safety\n",
    "\n",
    "conversation and reuse of domain knowledge\n",
    "\n",
    "executabilty, liveness\n",
    "\n",
    "the lifespan of a DSL is that of months or years while general purpose languages live through decades notwithstanding their actual worth after such a deployment period, simply based on inertia of accumulated legacy.\n",
    "\n",
    "\n"
   ]
  }
 ],
 "metadata": {
  "kernelspec": {
   "display_name": "Python 2.7.18 64-bit",
   "name": "python2718jvsc74a57bd0f92b2924b84ff19c1c3dc485f7644d4486f64738191026bf8e6de303969141b5"
  },
  "language_info": {
   "name": "python",
   "version": ""
  },
  "metadata": {
   "interpreter": {
    "hash": "f92b2924b84ff19c1c3dc485f7644d4486f64738191026bf8e6de303969141b5"
   }
  },
  "orig_nbformat": 2
 },
 "nbformat": 4,
 "nbformat_minor": 2
}