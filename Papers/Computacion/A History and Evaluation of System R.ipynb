{
 "cells": [
  {
   "cell_type": "markdown",
   "metadata": {},
   "source": [
    "A History and Evaluation of System R"
   ]
  },
  {
   "cell_type": "markdown",
   "metadata": {},
   "source": [
    "- (D) [A History and Evaluation of System R](http://0.0.0.0:8000/3%20Computacion/Papers/A%20History%20and%20Evaluation%20of%20System%20R.pdf)"
   ]
  }
 ],
 "metadata": {
  "kernelspec": {
   "display_name": "Python 2.7.18 64-bit",
   "name": "python2718jvsc74a57bd0f92b2924b84ff19c1c3dc485f7644d4486f64738191026bf8e6de303969141b5"
  },
  "language_info": {
   "name": "python",
   "version": ""
  },
  "metadata": {
   "interpreter": {
    "hash": "f92b2924b84ff19c1c3dc485f7644d4486f64738191026bf8e6de303969141b5"
   }
  },
  "orig_nbformat": 2
 },
 "nbformat": 4,
 "nbformat_minor": 2
}