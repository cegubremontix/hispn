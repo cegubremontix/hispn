{
  "nbformat": 4,
  "nbformat_minor": 0,
  "metadata": {
    "colab": {
      "name": "Making Geo-Replicated Systems Fast as Possible, Consistent When Necessary.ipynb",
      "provenance": [],
      "include_colab_link": true
    },
    "kernelspec": {
      "name": "python3",
      "display_name": "Python 3"
    },
    "language_info": {
      "name": "python"
    }
  },
  "cells": [
    {
      "cell_type": "markdown",
      "metadata": {
        "id": "view-in-github",
        "colab_type": "text"
      },
      "source": [
        "<a href=\"https://colab.research.google.com/github/dbremont/Notas/blob/main/Papers/Computacion/Making_Geo-Replicated_Systems_Fast_as_Possible%2C_Consistent_When_Necessary.ipynb\" target=\"_parent\"><img src=\"https://colab.research.google.com/assets/colab-badge.svg\" alt=\"Open In Colab\"/></a>"
      ]
    },
    {
      "cell_type": "markdown",
      "metadata": {
        "id": "-3lByqDN5cA2"
      },
      "source": [
        "Abstract: Online services distribute and replicate state\n",
        "across geographically diverse data centers and direct user\n",
        "requests to the closest or least loaded site. While ef-\n",
        "fectively ensuring low latency responses, this approach\n",
        "\n",
        "is at odds with maintaining cross-site consistency. We\n",
        "\n",
        "make three contributions to address this tension. First,\n",
        "\n",
        "we propose RedBlue consistency, which enables blue\n",
        "\n",
        "operations to be fast (and eventually consistent) whi-\n",
        "le the remaining red operations are strongly consistent\n",
        "(and slow). Second, to make use of fast operation when-\n",
        "\n",
        "ever possible and only resort to strong consistency when\n",
        "needed, we identify conditions delineating when opera-\n",
        "tions can be blue and must be red. Third, we introduce\n",
        "\n",
        "a method that increases the space of potential blue op-\n",
        "erations by breaking them into separate generator and\n",
        "shadow phases. We built a coordination infrastructure\n",
        "\n",
        "called Gemini that offers RedBlue consistency, and we\n",
        "report on our experience modifying the TPC-W and RU-\n",
        "BiS benchmarks and an online social network to use\n",
        "Gemini. Our experimental results show that RedBlue\n",
        "consistency provides substantial performance gains with-\n",
        "out sacrificing consistency"
      ]
    }
  ]
}