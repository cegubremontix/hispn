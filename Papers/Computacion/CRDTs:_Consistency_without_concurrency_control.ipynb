{
  "nbformat": 4,
  "nbformat_minor": 0,
  "metadata": {
    "colab": {
      "name": "CRDTs: Consistency without concurrency control.ipynb",
      "provenance": [],
      "include_colab_link": true
    },
    "kernelspec": {
      "name": "python3",
      "display_name": "Python 3"
    },
    "language_info": {
      "name": "python"
    }
  },
  "cells": [
    {
      "cell_type": "markdown",
      "metadata": {
        "id": "view-in-github",
        "colab_type": "text"
      },
      "source": [
        "<a href=\"https://colab.research.google.com/github/dbremont/Notas/blob/main/Papers/Computacion/CRDTs%3A_Consistency_without_concurrency_control.ipynb\" target=\"_parent\"><img src=\"https://colab.research.google.com/assets/colab-badge.svg\" alt=\"Open In Colab\"/></a>"
      ]
    },
    {
      "cell_type": "markdown",
      "metadata": {
        "id": "vim83n1MWBBK"
      },
      "source": [
        "Abstract: A CRDT is a data type whose operations commute when they are concurrent.\n",
        "Replicas of a CRDT eventually converge without any complex concurrency control. As an\n",
        "existence proof, we exhibit a non-trivial CRDT: a shared edit buffer called Treedoc. We\n",
        "outline the design, implementation and performance of Treedoc. We discuss how the CRDT\n",
        "concept can be generalised, and its limitations"
      ]
    }
  ]
}