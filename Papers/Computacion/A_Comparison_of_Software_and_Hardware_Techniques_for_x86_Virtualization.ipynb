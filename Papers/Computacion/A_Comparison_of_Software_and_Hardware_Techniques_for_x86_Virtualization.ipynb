{
  "nbformat": 4,
  "nbformat_minor": 0,
  "metadata": {
    "colab": {
      "name": "A Comparison of Software and Hardware Techniques for x86 Virtualization.ipynb",
      "provenance": [],
      "include_colab_link": true
    },
    "kernelspec": {
      "name": "python3",
      "display_name": "Python 3"
    },
    "language_info": {
      "name": "python"
    }
  },
  "cells": [
    {
      "cell_type": "markdown",
      "metadata": {
        "id": "view-in-github",
        "colab_type": "text"
      },
      "source": [
        "<a href=\"https://colab.research.google.com/github/dbremont/Notas/blob/main/Papers/Computacion/A_Comparison_of_Software_and_Hardware_Techniques_for_x86_Virtualization.ipynb\" target=\"_parent\"><img src=\"https://colab.research.google.com/assets/colab-badge.svg\" alt=\"Open In Colab\"/></a>"
      ]
    },
    {
      "cell_type": "markdown",
      "metadata": {
        "id": "7dg6rMB3XJhf"
      },
      "source": [
        "Communication in data-parallel applications often involves a col-\n",
        "lection of parallel flows. Traditional techniques to optimize flow-\n",
        "level metrics do not perform well in optimizing such collections,\n",
        "because the network is largely agnostic to application-level require-\n",
        "ments. The recently proposed coflow abstraction bridges this gap\n",
        "and creates new opportunities for network scheduling. In this pa-\n",
        "per, we address inter-coflow scheduling for two different objec-\n",
        "tives: decreasing communication time of data-intensive jobs and\n",
        "guaranteeing predictable communication time. We introduce the\n",
        "concurrent open shop scheduling with coupled resources problem,\n",
        "analyze its complexity, and propose effective heuristics to opti-\n",
        "mize either objective. We present Varys, a system that enables\n",
        "data-intensive frameworks to use coflows and the proposed algo-\n",
        "rithms while maintaining high network utilization and guarantee-\n",
        "ing starvation freedom. EC2 deployments and trace-driven simula-\n",
        "tions show that communication stages complete up to 3.16×faster\n",
        "on average and up to 2×more coflows meet their deadlines us-\n",
        "ing Varys in comparison to per-flow mechanisms. Moreover, Varys\n",
        "outperforms non-preemptive coflow schedulers by more than 5×."
      ]
    }
  ]
}