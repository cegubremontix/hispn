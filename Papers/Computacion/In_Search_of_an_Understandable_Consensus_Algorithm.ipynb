{
  "nbformat": 4,
  "nbformat_minor": 0,
  "metadata": {
    "colab": {
      "name": "In Search of an Understandable Consensus Algorithm.ipynb",
      "provenance": [],
      "include_colab_link": true
    },
    "kernelspec": {
      "name": "python3",
      "display_name": "Python 3"
    },
    "language_info": {
      "name": "python"
    }
  },
  "cells": [
    {
      "cell_type": "markdown",
      "metadata": {
        "id": "view-in-github",
        "colab_type": "text"
      },
      "source": [
        "<a href=\"https://colab.research.google.com/github/dbremont/Notas/blob/main/Papers/Computacion/In_Search_of_an_Understandable_Consensus_Algorithm.ipynb\" target=\"_parent\"><img src=\"https://colab.research.google.com/assets/colab-badge.svg\" alt=\"Open In Colab\"/></a>"
      ]
    },
    {
      "cell_type": "markdown",
      "metadata": {
        "id": "Hpz_SJIZXu6T"
      },
      "source": [
        "Raft is a consensus algorithm for managing a replicated\n",
        "log. It produces a result equivalent to (multi-)Paxos, and\n",
        "it is as efficient as Paxos, but its structure is different\n",
        "from Paxos; this makes Raft more understandable than\n",
        "Paxos and also provides a better foundation for building practical systems. In order to enhance understandability, Raft separates the key elements of consensus, such as\n",
        "leader election, log replication, and safety, and it enforces\n",
        "a stronger degree of coherency to reduce the number of\n",
        "states that must be considered. Results from a user study\n",
        "demonstrate that Raft is easier for students to learn than\n",
        "Paxos. Raft also includes a new mechanism for changing\n",
        "the cluster membership, which uses overlapping majorities to guarantee safety."
      ]
    }
  ]
}