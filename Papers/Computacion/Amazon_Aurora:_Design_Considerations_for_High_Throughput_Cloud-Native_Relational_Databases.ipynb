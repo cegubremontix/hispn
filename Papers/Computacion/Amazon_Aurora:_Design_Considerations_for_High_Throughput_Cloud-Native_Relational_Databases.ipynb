{
  "nbformat": 4,
  "nbformat_minor": 0,
  "metadata": {
    "colab": {
      "name": "Amazon Aurora: Design Considerations for High Throughput Cloud-Native Relational Databases.ipynb",
      "provenance": [],
      "include_colab_link": true
    },
    "kernelspec": {
      "name": "python3",
      "display_name": "Python 3"
    },
    "language_info": {
      "name": "python"
    }
  },
  "cells": [
    {
      "cell_type": "markdown",
      "metadata": {
        "id": "view-in-github",
        "colab_type": "text"
      },
      "source": [
        "<a href=\"https://colab.research.google.com/github/dbremont/Notas/blob/main/Papers/Computacion/Amazon_Aurora%3A_Design_Considerations_for_High_Throughput_Cloud-Native_Relational_Databases.ipynb\" target=\"_parent\"><img src=\"https://colab.research.google.com/assets/colab-badge.svg\" alt=\"Open In Colab\"/></a>"
      ]
    },
    {
      "cell_type": "markdown",
      "metadata": {
        "id": "rW9CCmMrUcr9"
      },
      "source": [
        "Amazon Aurora is a relational database service for OLTP \n",
        "workloads  offered  as  part  of  Amazon  Web  Services  (AWS).  In \n",
        "this  paper,  we  describe  the  architecture  of  Aurora  and  the  design \n",
        "considerations leading to that architecture. We believe the central \n",
        "constraint  in  high  throughput  data  processing  has  moved  from \n",
        "compute and storage to the network. Aurora brings a novel \n",
        "architecture  to  the  relational  database  to  address  this  constraint, \n",
        "most  notably  by  pushing  redo  processing  to  a  multi-tenant  scale-\n",
        "out  storage  service,  purpose-built  for  Aurora.  We  describe  how \n",
        "doing so not only reduces network traffic, but also allows for fast \n",
        "crash  recovery,  failovers  to  replicas  without  loss  of  data,  and \n",
        "fault-tolerant,  self-healing  storage.  We  then  describe  how  Aurora \n",
        "achieves consensus on durable state across numerous storage \n",
        "nodes using an efficient asynchronous scheme, avoiding \n",
        "expensive and chatty recovery protocols. Finally, having operated \n",
        "Aurora  as  a  production  service  for  over  18  months,  we  share \n",
        "lessons  we  have  learned  from  our  customers  on  what  modern \n",
        "cloud applications expect from their database tier.  "
      ]
    }
  ]
}