{
  "nbformat": 4,
  "nbformat_minor": 0,
  "metadata": {
    "colab": {
      "name": "A DHT-based Infrastructure for Content-based Publish-Subscribe Services.ipynb",
      "provenance": [],
      "include_colab_link": true
    },
    "kernelspec": {
      "name": "python3",
      "display_name": "Python 3"
    },
    "language_info": {
      "name": "python"
    }
  },
  "cells": [
    {
      "cell_type": "markdown",
      "metadata": {
        "id": "view-in-github",
        "colab_type": "text"
      },
      "source": [
        "<a href=\"https://colab.research.google.com/github/dbremont/Notas/blob/main/Papers/Computacion/A_DHT-based_Infrastructure_for_Content-based_Publish-Subscribe_Services.ipynb\" target=\"_parent\"><img src=\"https://colab.research.google.com/assets/colab-badge.svg\" alt=\"Open In Colab\"/></a>"
      ]
    },
    {
      "cell_type": "markdown",
      "metadata": {
        "id": "HYB9RDn1bKUo"
      },
      "source": [
        "Publish/Subscribe model has become a prevalent\n",
        "paradigm for building distributed event delivering systems.\n",
        "Content-based publish/subscribe allows high expresses in\n",
        "subscriptions and thus is more appropriate for content\n",
        "dissemination. However, the scalability has remained a\n",
        "challenge in the design of distributed content-based pub-\n",
        "lish/subscribe systems due to the expensive matching and\n",
        "delivering cost of content-based events. In this paper we\n",
        "propose an infrastructure built on top of distributed hash\n",
        "table for efficient content-based data distribution. Based\n",
        "on efficient subscription installation, event publication and\n",
        "event delivery mechanisms, the proposed infrastructure can\n",
        "simultaneously support any numbers of pub/sub schemas\n",
        "with different number of attributes. There are three key\n",
        "features in our design: (1) a locality-preserving hashing\n",
        "mechanism which partitions and maps the content space to\n",
        "nodes. Subscriptions and events are mapped to the corre-\n",
        "sponding node for efficiently matching; (2) an efficient event\n",
        "delivery algorithm which exploits the embedded trees in the\n",
        "underlying DHT to deliver events to the corresponding sub-\n",
        "scribers; (3) light-weighted load balancing mechanisms to\n",
        "adjust the load among peers and ensure that no peer is un-\n",
        "duly loaded."
      ]
    }
  ]
}