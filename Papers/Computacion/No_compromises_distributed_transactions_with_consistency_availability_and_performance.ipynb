{
  "nbformat": 4,
  "nbformat_minor": 0,
  "metadata": {
    "colab": {
      "name": "No compromises: distributed transactions with consistency, availability, and performance.ipynb",
      "provenance": [],
      "include_colab_link": true
    },
    "kernelspec": {
      "name": "python3",
      "display_name": "Python 3"
    },
    "language_info": {
      "name": "python"
    }
  },
  "cells": [
    {
      "cell_type": "markdown",
      "metadata": {
        "id": "view-in-github",
        "colab_type": "text"
      },
      "source": [
        "<a href=\"https://colab.research.google.com/github/dbremont/Notas/blob/main/Papers/Computacion/No_compromises_distributed_transactions_with_consistency_availability_and_performance.ipynb\" target=\"_parent\"><img src=\"https://colab.research.google.com/assets/colab-badge.svg\" alt=\"Open In Colab\"/></a>"
      ]
    },
    {
      "cell_type": "markdown",
      "metadata": {
        "id": "lH0iEeIF56a3"
      },
      "source": [
        "Transactions with strong consistency and high availability\n",
        "simplify building and reasoning about distributed systems.\n",
        "However, previous implementations performed poorly. This\n",
        "\n",
        "forced system designers to avoid transactions completely,\n",
        "\n",
        "to weaken consistency guarantees, or to provide single-\n",
        "\n",
        "machine transactions that require programmers to partition\n",
        "\n",
        "their data. In this paper, we show that there is no need to\n",
        "compromise in modern data centers. We show that a main\n",
        "memory distributed computing platform called FaRM can\n",
        "\n",
        "provide distributed transactions with strict serializability,\n",
        "\n",
        "high performance, durability, and high availability. FaRM\n",
        "\n",
        "achieves a peak throughput of 140 million TATP transac-\n",
        "\n",
        "tions per second on 90 machines with a 4.9 TB database, and\n",
        "it recovers from a failure in less than 50 ms. Key to achiev-\n",
        "ing these results was the design of new transaction, replica-\n",
        "tion, and recovery protocols from first principles to leverage\n",
        "\n",
        "commodity networks with RDMA and a new, inexpensive\n",
        "\n",
        "approach to providing non-volatile DRAM."
      ]
    }
  ]
}