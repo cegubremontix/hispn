{
  "nbformat": 4,
  "nbformat_minor": 0,
  "metadata": {
    "colab": {
      "name": "Chord: A Scalable Peer-to-peer Lookup Protocol for Internet Applications.ipynb",
      "provenance": [],
      "include_colab_link": true
    },
    "kernelspec": {
      "name": "python3",
      "display_name": "Python 3"
    },
    "language_info": {
      "name": "python"
    }
  },
  "cells": [
    {
      "cell_type": "markdown",
      "metadata": {
        "id": "view-in-github",
        "colab_type": "text"
      },
      "source": [
        "<a href=\"https://colab.research.google.com/github/dbremont/Notas/blob/main/Papers/Computacion/Chord%3A_A_Scalable_Peer-to-peer_Lookup_Protocol_for_Internet_Applications.ipynb\" target=\"_parent\"><img src=\"https://colab.research.google.com/assets/colab-badge.svg\" alt=\"Open In Colab\"/></a>"
      ]
    },
    {
      "cell_type": "markdown",
      "metadata": {
        "id": "stUfrZ1jsk04"
      },
      "source": [
        "A fundamental problem that confronts peer-to-peer applications is\n",
        "to efficiently locate the node that stores a particular data item. This\n",
        "paper presents Chord, a distributed lookup protocol that addresses\n",
        "this problem. Chord provides support for just one operation: given\n",
        "a key, it maps the key onto a node. Data location can be easily\n",
        "implemented on top of Chord by associating a key with each data\n",
        "item, and storing the key/data item pair at the node to which the\n",
        "key maps. Chord adapts efficiently as nodes join and leave the\n",
        "system, and can answer queries even if the system is continuously\n",
        "changing. Results from theoretical analysis, simulations, and ex-\n",
        "periments show that Chord is scalable, with communication cost\n",
        "and the state maintained by each node scaling logarithmically with\n",
        "the number of Chord nodes."
      ]
    }
  ]
}