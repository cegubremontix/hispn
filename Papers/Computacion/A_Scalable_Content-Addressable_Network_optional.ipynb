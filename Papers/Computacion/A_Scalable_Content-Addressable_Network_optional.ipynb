{
  "nbformat": 4,
  "nbformat_minor": 0,
  "metadata": {
    "colab": {
      "name": "A Scalable Content-Addressable Network (optional).ipynb",
      "provenance": [],
      "include_colab_link": true
    },
    "kernelspec": {
      "name": "python3",
      "display_name": "Python 3"
    },
    "language_info": {
      "name": "python"
    }
  },
  "cells": [
    {
      "cell_type": "markdown",
      "metadata": {
        "id": "view-in-github",
        "colab_type": "text"
      },
      "source": [
        "<a href=\"https://colab.research.google.com/github/dbremont/Notas/blob/main/Papers/Computacion/A_Scalable_Content-Addressable_Network_optional.ipynb\" target=\"_parent\"><img src=\"https://colab.research.google.com/assets/colab-badge.svg\" alt=\"Open In Colab\"/></a>"
      ]
    },
    {
      "cell_type": "markdown",
      "metadata": {
        "id": "rLVIHC3JjlZE"
      },
      "source": [
        "Hash tables – which map “keys” onto “values” – are an essential building\n",
        "block in modern software systems. We believe a similar functionality would\n",
        "\n",
        "be equally valuable to large distributed systems. In this paper, we intro-\n",
        "\n",
        "duce the concept of a Content-Addressable Network (CAN) as a distributed\n",
        "infrastructure that provides hash table-like functionality on Internet-like\n",
        "scales. The CAN is scalable, fault-tolerant and completely self-organizing,\n",
        "\n",
        "and we demonstrate its scalability, robustness and low-latency properties\n",
        "\n",
        "through simulation."
      ]
    }
  ]
}