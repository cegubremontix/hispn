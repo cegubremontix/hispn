{
  "nbformat": 4,
  "nbformat_minor": 0,
  "metadata": {
    "colab": {
      "name": "Wormhole: Reliable Pub-Sub to Support Geo-replicated Internet Services.ipynb",
      "provenance": [],
      "include_colab_link": true
    },
    "kernelspec": {
      "name": "python3",
      "display_name": "Python 3"
    },
    "language_info": {
      "name": "python"
    }
  },
  "cells": [
    {
      "cell_type": "markdown",
      "metadata": {
        "id": "view-in-github",
        "colab_type": "text"
      },
      "source": [
        "<a href=\"https://colab.research.google.com/github/dbremont/Notas/blob/main/Papers/Computacion/Wormhole%3A_Reliable_Pub-Sub_to_Support_Geo-replicated_Internet_Services.ipynb\" target=\"_parent\"><img src=\"https://colab.research.google.com/assets/colab-badge.svg\" alt=\"Open In Colab\"/></a>"
      ]
    },
    {
      "cell_type": "markdown",
      "metadata": {
        "id": "uSOwRc83hKF2"
      },
      "source": [
        "Wormhole is a publish-subscribe (pub-sub) system developed for use within Facebook’s geographically replicated datacenters. It is used to reliably replicate changes\n",
        "among several Facebook services including TAO, Graph\n",
        "Search and Memcache. This paper describes the design and implementation of Wormhole as well as the\n",
        "operational challenges of scaling the system to support\n",
        "the multiple data storage systems deployed at Facebook.\n",
        "Our production deployment of Wormhole transfers over\n",
        "35 GBytes/sec in steady state (50 millions messages/sec\n",
        "or 5 trillion messages/day) across all deployments with\n",
        "bursts up to 200 GBytes/sec during failure recovery. We\n",
        "demonstrate that Wormhole publishes updates with low\n",
        "latency to subscribers that can fail or consume updates at\n",
        "varying rates, without compromising efficiency."
      ]
    }
  ]
}