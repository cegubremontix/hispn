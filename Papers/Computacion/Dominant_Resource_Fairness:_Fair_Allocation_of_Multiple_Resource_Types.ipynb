{
  "nbformat": 4,
  "nbformat_minor": 0,
  "metadata": {
    "colab": {
      "name": "Dominant Resource Fairness: Fair Allocation of Multiple Resource Types.ipynb",
      "provenance": [],
      "include_colab_link": true
    },
    "kernelspec": {
      "name": "python3",
      "display_name": "Python 3"
    },
    "language_info": {
      "name": "python"
    }
  },
  "cells": [
    {
      "cell_type": "markdown",
      "metadata": {
        "id": "view-in-github",
        "colab_type": "text"
      },
      "source": [
        "<a href=\"https://colab.research.google.com/github/dbremont/Notas/blob/main/Papers/Computacion/Dominant_Resource_Fairness%3A_Fair_Allocation_of_Multiple_Resource_Types.ipynb\" target=\"_parent\"><img src=\"https://colab.research.google.com/assets/colab-badge.svg\" alt=\"Open In Colab\"/></a>"
      ]
    },
    {
      "cell_type": "markdown",
      "metadata": {
        "id": "XB9T5c3x5Hbz"
      },
      "source": [
        "e consider the problem of fair resource allocation\n",
        "in a system containing different resource types, where\n",
        "each user may have different demands for each resource.\n",
        "To address this problem, we propose Dominant Resource\n",
        "Fairness (DRF), a generalization of max-min fairness\n",
        "to multiple resource types. We show that DRF, unlike\n",
        "other possible policies, satisfies several highly desirable\n",
        "properties. First, DRF incentivizes users to share re-\n",
        "sources, by ensuring that no user is better off if resources\n",
        "are equally partitioned among them. Second, DRF is\n",
        "strategy-proof, as a user cannot increase her allocation\n",
        "by lying about her requirements. Third, DRF is envy-\n",
        "free, as no user would want to trade her allocation with\n",
        "that of another user. Finally, DRF allocations are Pareto\n",
        "efficient, as it is not possible to improve the allocation of\n",
        "a user without decreasing the allocation of another user.\n",
        "We have implemented DRF in the Mesos cluster resource\n",
        "manager, and show that it leads to better throughput and\n",
        "fairness than the slot-based fair sharing schemes in cur-\n",
        "rent cluster schedulers."
      ]
    }
  ]
}