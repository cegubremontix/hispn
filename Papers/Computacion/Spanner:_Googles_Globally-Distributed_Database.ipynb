{
  "nbformat": 4,
  "nbformat_minor": 0,
  "metadata": {
    "colab": {
      "name": "Spanner: Googles Globally-Distributed Database.ipynb",
      "provenance": [],
      "include_colab_link": true
    },
    "kernelspec": {
      "name": "python3",
      "display_name": "Python 3"
    },
    "language_info": {
      "name": "python"
    }
  },
  "cells": [
    {
      "cell_type": "markdown",
      "metadata": {
        "id": "view-in-github",
        "colab_type": "text"
      },
      "source": [
        "<a href=\"https://colab.research.google.com/github/dbremont/Notas/blob/main/Papers/Computacion/Spanner%3A_Googles_Globally-Distributed_Database.ipynb\" target=\"_parent\"><img src=\"https://colab.research.google.com/assets/colab-badge.svg\" alt=\"Open In Colab\"/></a>"
      ]
    },
    {
      "cell_type": "markdown",
      "metadata": {
        "id": "SzD64NUBXeGo"
      },
      "source": [
        "Spanner is Google’s scalable, multi-version, globallydistributed, and synchronously-replicated database. It is\n",
        "the first system to distribute data at global scale and support externally-consistent distributed transactions. This\n",
        "paper describes how Spanner is structured, its feature set,\n",
        "the rationale underlying various design decisions, and a\n",
        "novel time API that exposes clock uncertainty. This API\n",
        "and its implementation are critical to supporting external consistency and a variety of powerful features: nonblocking reads in the past, lock-free read-only transactions, and atomic schema changes, across all of Spanner."
      ]
    }
  ]
}