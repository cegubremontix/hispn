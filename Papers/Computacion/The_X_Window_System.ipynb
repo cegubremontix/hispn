{
  "nbformat": 4,
  "nbformat_minor": 0,
  "metadata": {
    "colab": {
      "name": "The X Window System.ipynb",
      "provenance": [],
      "include_colab_link": true
    },
    "kernelspec": {
      "name": "python3",
      "display_name": "Python 3"
    },
    "language_info": {
      "name": "python"
    }
  },
  "cells": [
    {
      "cell_type": "markdown",
      "metadata": {
        "id": "view-in-github",
        "colab_type": "text"
      },
      "source": [
        "<a href=\"https://colab.research.google.com/github/dbremont/Notas/blob/main/Papers/Computacion/The_X_Window_System.ipynb\" target=\"_parent\"><img src=\"https://colab.research.google.com/assets/colab-badge.svg\" alt=\"Open In Colab\"/></a>"
      ]
    },
    {
      "cell_type": "markdown",
      "metadata": {
        "id": "Q1cBkGOXjuLG"
      },
      "source": [
        "An  overview  of  the  X  Window  System  is  presented,  focusing  on  the  system  substrate  and  the  low- \n",
        "level  facilities provided  to  build  applications and  to  manage the  desktop.  The  system  provides  high- \n",
        "performance,  high-level, device-independent graphics.  A  hierarchy of resizable,  overlapping windows \n",
        "allows  a wide  variety of application and user interfaces  to be built easily.  Network-transparent access \n",
        "to  the  display  provides  an  important degree of  functional separation,  without significantly affecting \n",
        "performance,  which  is crucial  to  building applications for  a distributed environment. To  a reasonable \n",
        "extent,  desktop  management  can  be  custom-tailored to  individual environments, without modifying \n",
        "the  base system  and typically without affecting  applications. "
      ]
    }
  ]
}