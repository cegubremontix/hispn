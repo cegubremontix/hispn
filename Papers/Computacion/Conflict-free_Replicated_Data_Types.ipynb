{
  "nbformat": 4,
  "nbformat_minor": 0,
  "metadata": {
    "colab": {
      "name": "Conflict-free Replicated Data Types.ipynb",
      "provenance": [],
      "include_colab_link": true
    },
    "kernelspec": {
      "name": "python3",
      "display_name": "Python 3"
    },
    "language_info": {
      "name": "python"
    }
  },
  "cells": [
    {
      "cell_type": "markdown",
      "metadata": {
        "id": "view-in-github",
        "colab_type": "text"
      },
      "source": [
        "<a href=\"https://colab.research.google.com/github/dbremont/Notas/blob/main/Papers/Computacion/Conflict-free_Replicated_Data_Types.ipynb\" target=\"_parent\"><img src=\"https://colab.research.google.com/assets/colab-badge.svg\" alt=\"Open In Colab\"/></a>"
      ]
    },
    {
      "cell_type": "markdown",
      "metadata": {
        "id": "x-qWrgHmZF-Y"
      },
      "source": [
        "Abstract: Replicating data under Eventual Consistency (EC) allows any replica to accept\n",
        "updates without remote synchronisation. This ensures performance and scalability in large-\n",
        "\n",
        "scale distributed systems (e.g., clouds). However, published EC approaches are ad-hoc and\n",
        "\n",
        "error-prone. Under a formal Strong Eventual Consistency (SEC) model, we study sufficient\n",
        "\n",
        "conditions for convergence. A data type that satisfies these conditions is called a Conflict-\n",
        "\n",
        "free Replicated Data Type (CRDT). Replicas of any CRDT are guaranteed to converge in\n",
        "\n",
        "a self-stabilising manner, despite any number of failures. This paper formalises two popular\n",
        "\n",
        "approaches (state- and operation-based) and their relevant sufficient conditions. We study a\n",
        "\n",
        "number of useful CRDTs, such as sets with clean semantics, supporting both add and remove\n",
        "operations, and consider in depth the more complex Graph data type. CRDT types can be\n",
        "\n",
        "composed to develop large-scale distributed applications, and have interesting theoretical\n",
        "\n",
        "properties"
      ]
    }
  ]
}