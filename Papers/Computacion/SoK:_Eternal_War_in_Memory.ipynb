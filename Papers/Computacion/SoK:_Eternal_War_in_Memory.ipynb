{
  "nbformat": 4,
  "nbformat_minor": 0,
  "metadata": {
    "colab": {
      "name": "SoK: Eternal War in Memory.ipynb",
      "provenance": [],
      "include_colab_link": true
    },
    "kernelspec": {
      "name": "python3",
      "display_name": "Python 3"
    },
    "language_info": {
      "name": "python"
    }
  },
  "cells": [
    {
      "cell_type": "markdown",
      "metadata": {
        "id": "view-in-github",
        "colab_type": "text"
      },
      "source": [
        "<a href=\"https://colab.research.google.com/github/dbremont/Notas/blob/main/Papers/Computacion/SoK%3A_Eternal_War_in_Memory.ipynb\" target=\"_parent\"><img src=\"https://colab.research.google.com/assets/colab-badge.svg\" alt=\"Open In Colab\"/></a>"
      ]
    },
    {
      "cell_type": "markdown",
      "metadata": {
        "id": "AnHn9tOYoxcm"
      },
      "source": [
        "Memory corruption bugs in software written in\n",
        "low-level languages like C or C++ are one of the oldest problems\n",
        "in computer security. The lack of safety in these languages\n",
        "allows attackers to alter the program’s behavior or take full\n",
        "control over it by hijacking its control flow. This problem has\n",
        "existed for more than 30 years and a vast number of potential\n",
        "solutions have been proposed, yet memory corruption attacks\n",
        "continue to pose a serious threat. Real world exploits show that\n",
        "all currently deployed protections can be defeated.\n",
        "This paper sheds light on the primary reasons for this\n",
        "by describing attacks that succeed on today’s systems. We\n",
        "systematize the current knowledge about various protection\n",
        "techniques by setting up a general model for memory corrup-\n",
        "tion attacks. Using this model we show what policies can stop\n",
        "which attacks. The model identifies weaknesses of currently\n",
        "deployed techniques, as well as other proposed protections\n",
        "enforcing stricter policies.\n",
        "We analyze the reasons why protection mechanisms imple-\n",
        "menting stricter polices are not deployed. To achieve wide\n",
        "adoption, protection mechanisms must support a multitude of\n",
        "features and must satisfy a host of requirements. Especially\n",
        "important is performance, as experience shows that only\n",
        "solutions whose overhead is in reasonable bounds get deployed.\n",
        "A comparison of different enforceable policies helps de-\n",
        "signers of new protection mechanisms in finding the balance\n",
        "between effectiveness (security) and efficiency. We identify some\n",
        "open research problems, and provide suggestions on improving\n",
        "the adoption of newer techniques."
      ]
    }
  ]
}