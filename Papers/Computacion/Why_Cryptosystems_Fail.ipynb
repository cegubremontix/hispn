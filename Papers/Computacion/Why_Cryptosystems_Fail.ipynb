{
  "nbformat": 4,
  "nbformat_minor": 0,
  "metadata": {
    "colab": {
      "name": "Why Cryptosystems Fail.ipynb",
      "provenance": [],
      "include_colab_link": true
    },
    "kernelspec": {
      "display_name": "Python 3",
      "language": "python",
      "name": "python3"
    },
    "language_info": {
      "codemirror_mode": {
        "name": "ipython",
        "version": 3
      },
      "file_extension": ".py",
      "mimetype": "text/x-python",
      "name": "python",
      "nbconvert_exporter": "python",
      "pygments_lexer": "ipython3",
      "version": "3.8.10"
    }
  },
  "cells": [
    {
      "cell_type": "markdown",
      "metadata": {
        "id": "view-in-github",
        "colab_type": "text"
      },
      "source": [
        "<a href=\"https://colab.research.google.com/github/dbremont/Notas/blob/main/Papers/Computacion/Why_Cryptosystems_Fail.ipynb\" target=\"_parent\"><img src=\"https://colab.research.google.com/assets/colab-badge.svg\" alt=\"Open In Colab\"/></a>"
      ]
    },
    {
      "cell_type": "markdown",
      "metadata": {
        "id": "1AcwK5wYqCGU"
      },
      "source": [
        "Designers of cryptographic systems are at a disadvantage to\n",
        "most other engineers, in that information on how their sys-\n",
        "\n",
        "tems fail is hard to get: their major users have traditionally\n",
        "\n",
        "been government agencies, which are very secretive about\n",
        "\n",
        "their mistakes.\n",
        "In this article, we present the results of a survey of the\n",
        "failure modes of retail banking systems, which constitute\n",
        "\n",
        "the next largest application of cryptology. It turns out that\n",
        "\n",
        "the threat model commonly used by cryptosystem designers\n",
        "\n",
        "was wrong: most frauds were not caused by cryptanalysis or\n",
        "\n",
        "other technical attacks, but by implementation errors and\n",
        "\n",
        "management failures. This suggests that a paradigm shift\n",
        "\n",
        "is overdue in computer security; we look at some of the al-\n",
        "\n",
        "ternatives, and see some signs that this shift may be getting\n",
        "\n",
        "under way."
      ]
    }
  ]
}