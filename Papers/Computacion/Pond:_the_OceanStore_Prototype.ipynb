{
  "nbformat": 4,
  "nbformat_minor": 0,
  "metadata": {
    "colab": {
      "name": "Pond: the OceanStore Prototype.ipynb",
      "provenance": [],
      "include_colab_link": true
    },
    "kernelspec": {
      "name": "python3",
      "display_name": "Python 3"
    },
    "language_info": {
      "name": "python"
    }
  },
  "cells": [
    {
      "cell_type": "markdown",
      "metadata": {
        "id": "view-in-github",
        "colab_type": "text"
      },
      "source": [
        "<a href=\"https://colab.research.google.com/github/dbremont/Notas/blob/main/Papers/Computacion/Pond%3A_the_OceanStore_Prototype.ipynb\" target=\"_parent\"><img src=\"https://colab.research.google.com/assets/colab-badge.svg\" alt=\"Open In Colab\"/></a>"
      ]
    },
    {
      "cell_type": "markdown",
      "metadata": {
        "id": "xp4I7ocshOZg"
      },
      "source": [
        "\n",
        "OceanStore is an Internet-scale, persistent data store designed for incremental scalability, secure sharing, and\n",
        "long-term durability. Pond is the OceanStore prototype; it contains many of the features of a complete\n",
        "system including location-independent routing, Byzantine update commitment, push-based update of cached\n",
        "copies through an overlay multicast network, and continuous archiving to erasure-coded form. In the wide area,\n",
        "Pond outperforms NFS by up to a factor of 4.6 on readintensive phases of the Andrew benchmark, but underperforms NFS by as much as a factor of 7.3 on writeintensive phases. Microbenchmarks show that write\n",
        "performance is limited by the speed of erasure coding\n",
        "and threshold signature generation, two important areas of future research. Further microbenchmarks show\n",
        "that Pond manages replica consistency in a bandwidthefficient manner and quantify the latency cost imposed\n",
        "by this bandwidth saving"
      ]
    }
  ]
}