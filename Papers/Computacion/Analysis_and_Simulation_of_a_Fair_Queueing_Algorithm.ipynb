{
  "nbformat": 4,
  "nbformat_minor": 0,
  "metadata": {
    "colab": {
      "name": "Analysis and Simulation of a Fair Queueing Algorithm.ipynb",
      "provenance": [],
      "include_colab_link": true
    },
    "kernelspec": {
      "name": "python3",
      "display_name": "Python 3"
    },
    "language_info": {
      "name": "python"
    }
  },
  "cells": [
    {
      "cell_type": "markdown",
      "metadata": {
        "id": "view-in-github",
        "colab_type": "text"
      },
      "source": [
        "<a href=\"https://colab.research.google.com/github/dbremont/Notas/blob/main/Papers/Computacion/Analysis_and_Simulation_of_a_Fair_Queueing_Algorithm.ipynb\" target=\"_parent\"><img src=\"https://colab.research.google.com/assets/colab-badge.svg\" alt=\"Open In Colab\"/></a>"
      ]
    },
    {
      "cell_type": "markdown",
      "metadata": {
        "id": "HMpuWixwV27G"
      },
      "source": [
        "We discuss gateway queueing algorithms and their role\n",
        "in controlling  congestion  in  datagram  networks.  A  fair\n",
        "\n",
        "queueing algorithm, based on  an  earlier  suggestion  by\n",
        "\n",
        "Nagle,  is  proposed.  Analysis  and  simulations  are  used\n",
        "\n",
        "to  compare  this  algorithm  to  other  congestion  control\n",
        "\n",
        "schemes.  We  find  that  fair  queueing  provides  several\n",
        "\n",
        "important  advantages  over  the  usual  first-come-first-\n",
        "\n",
        "serve queueing algorithm: fair allocation of bandwidth,\n",
        "\n",
        "lower  delay  for  sources  using  less  than  their  full  share\n",
        "\n",
        "of bandwidth, and protection from ill-behaved sources."
      ]
    }
  ]
}