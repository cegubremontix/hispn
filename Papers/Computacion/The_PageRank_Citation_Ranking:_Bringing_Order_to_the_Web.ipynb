{
  "nbformat": 4,
  "nbformat_minor": 0,
  "metadata": {
    "colab": {
      "name": "The PageRank Citation Ranking: Bringing Order to the Web.ipynb",
      "provenance": [],
      "include_colab_link": true
    },
    "kernelspec": {
      "name": "python3",
      "display_name": "Python 3"
    },
    "language_info": {
      "name": "python"
    }
  },
  "cells": [
    {
      "cell_type": "markdown",
      "metadata": {
        "id": "view-in-github",
        "colab_type": "text"
      },
      "source": [
        "<a href=\"https://colab.research.google.com/github/dbremont/Notas/blob/main/Papers/Computacion/The_PageRank_Citation_Ranking%3A_Bringing_Order_to_the_Web.ipynb\" target=\"_parent\"><img src=\"https://colab.research.google.com/assets/colab-badge.svg\" alt=\"Open In Colab\"/></a>"
      ]
    },
    {
      "cell_type": "markdown",
      "metadata": {
        "id": "EGnB-Ze_RxHr"
      },
      "source": [
        "The importance of a Web page is an inherently sub jective matter, which dep ends on the\n",
        "readers interests, knowledge and attitudes. But there is still much that can b e said ob jectively\n",
        "ab out the relative importance of Web pages. This pap er describ es PageRank, a metho d for\n",
        "rating Web pages ob jectively and mechanically, e ectively measuring the human interest and\n",
        "attention devoted to them.\n",
        "We compare PageRank to an idealized random Web surfer. We show how to e\u000eciently\n",
        "compute PageRank for large numb ers of pages. And, we show ho w to apply PageRank to search\n",
        "and to user navigation."
      ]
    }
  ]
}