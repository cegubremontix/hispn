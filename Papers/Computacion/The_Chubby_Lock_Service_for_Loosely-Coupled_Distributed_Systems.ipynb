{
  "nbformat": 4,
  "nbformat_minor": 0,
  "metadata": {
    "colab": {
      "name": "The Chubby Lock Service for Loosely-Coupled Distributed Systems.ipynb",
      "provenance": [],
      "include_colab_link": true
    },
    "kernelspec": {
      "name": "python3",
      "display_name": "Python 3"
    },
    "language_info": {
      "name": "python"
    }
  },
  "cells": [
    {
      "cell_type": "markdown",
      "metadata": {
        "id": "view-in-github",
        "colab_type": "text"
      },
      "source": [
        "<a href=\"https://colab.research.google.com/github/dbremont/Notas/blob/main/Papers/Computacion/The_Chubby_Lock_Service_for_Loosely-Coupled_Distributed_Systems.ipynb\" target=\"_parent\"><img src=\"https://colab.research.google.com/assets/colab-badge.svg\" alt=\"Open In Colab\"/></a>"
      ]
    },
    {
      "cell_type": "markdown",
      "metadata": {
        "id": "g5owDZsJlsJo"
      },
      "source": [
        "We describe our experiences with the Chubby lock ser-\n",
        "vice, which is intended to provide coarse-grained lock-\n",
        "ing as well as reliable (though low-volume) storage for\n",
        "a loosely-coupled distributed system. Chubby provides\n",
        "an interface much like a distributed file system with ad-\n",
        "visory locks, but the design emphasis is on availability\n",
        "and reliability, as opposed to high performance. Many\n",
        "instances of the service have been used for over a year,\n",
        "with several of them each handling a few tens of thou-\n",
        "sands of clients concurrently. The paper describes the\n",
        "initial design and expected use, compares it with actual\n",
        "use, and explains how the design had to be modified to\n",
        "accommodate the differences."
      ]
    }
  ]
}