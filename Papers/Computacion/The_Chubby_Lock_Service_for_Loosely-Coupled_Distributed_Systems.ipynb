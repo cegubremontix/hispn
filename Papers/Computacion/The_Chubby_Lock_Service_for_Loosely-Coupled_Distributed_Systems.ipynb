{
  "nbformat": 4,
  "nbformat_minor": 0,
  "metadata": {
    "colab": {
      "name": "The Chubby Lock Service for Loosely-Coupled Distributed Systems.ipynb",
      "provenance": [],
      "authorship_tag": "ABX9TyNNPclkXnJFra5vWdeFUVyX",
      "include_colab_link": true
    },
    "kernelspec": {
      "name": "python3",
      "display_name": "Python 3"
    },
    "language_info": {
      "name": "python"
    }
  },
  "cells": [
    {
      "cell_type": "markdown",
      "metadata": {
        "id": "view-in-github",
        "colab_type": "text"
      },
      "source": [
        "<a href=\"https://colab.research.google.com/github/dbremont/Notas/blob/main/Papers/Computacion/The_Chubby_Lock_Service_for_Loosely-Coupled_Distributed_Systems.ipynb\" target=\"_parent\"><img src=\"https://colab.research.google.com/assets/colab-badge.svg\" alt=\"Open In Colab\"/></a>"
      ]
    }
  ]
}
