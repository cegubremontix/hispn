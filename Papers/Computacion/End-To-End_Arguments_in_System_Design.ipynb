{
  "nbformat": 4,
  "nbformat_minor": 0,
  "metadata": {
    "colab": {
      "name": "End-To-End Arguments in System Design.ipynb",
      "provenance": [],
      "include_colab_link": true
    },
    "kernelspec": {
      "name": "python3",
      "display_name": "Python 3"
    },
    "language_info": {
      "name": "python"
    }
  },
  "cells": [
    {
      "cell_type": "markdown",
      "metadata": {
        "id": "view-in-github",
        "colab_type": "text"
      },
      "source": [
        "<a href=\"https://colab.research.google.com/github/dbremont/Notas/blob/main/Papers/Computacion/End-To-End_Arguments_in_System_Design.ipynb\" target=\"_parent\"><img src=\"https://colab.research.google.com/assets/colab-badge.svg\" alt=\"Open In Colab\"/></a>"
      ]
    },
    {
      "cell_type": "markdown",
      "metadata": {
        "id": "-_RSOoE3fjAW"
      },
      "source": [
        "* (D) [End-To-End Arguments in System Design](http://0.0.0.0:8000/3%20Computacion/Papers/End-To-End%20Arguments%20in%20System%20Design.pdf)"
      ]
    },
    {
      "cell_type": "markdown",
      "metadata": {
        "id": "1NWzlSs7fiQf"
      },
      "source": [
        "This paper is about network communication systems.\n",
        "It's about \"proper layering\".\n",
        "The End-to-End Argument it's just an argument.\n",
        "\n",
        "\n",
        "\n",
        "Create a layers of abstraction, building with simple primitives in the basics layers.\n",
        "\n",
        "\"Dumb Network, Intelligent Endpoints\", In the case of networks.\n",
        "\n",
        "RICS VS SISC.\n",
        "\n",
        "The operative system should provite simples primitives, and let applications build in top of that. Because if not the application may have the re-adapt or re-implemented version of abstraction that the os was designed to provided.\n",
        "\n",
        "So the idea create an abstraction stack in which simple primitives at the button, let creates more complex primitives at the top.\n"
      ]
    }
  ]
}