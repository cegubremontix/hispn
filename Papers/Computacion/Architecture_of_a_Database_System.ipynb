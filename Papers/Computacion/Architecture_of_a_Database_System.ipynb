{
  "nbformat": 4,
  "nbformat_minor": 0,
  "metadata": {
    "kernelspec": {
      "display_name": "Python 2.7.18 64-bit",
      "name": "python2718jvsc74a57bd0f92b2924b84ff19c1c3dc485f7644d4486f64738191026bf8e6de303969141b5"
    },
    "language_info": {
      "name": "python",
      "version": ""
    },
    "metadata": {
      "interpreter": {
        "hash": "f92b2924b84ff19c1c3dc485f7644d4486f64738191026bf8e6de303969141b5"
      }
    },
    "orig_nbformat": 2,
    "colab": {
      "name": "Computacion_Architecture_of_a_Database_System.ipynb",
      "provenance": []
    }
  },
  "cells": [
    {
      "cell_type": "markdown",
      "metadata": {
        "id": "Su3JlN9JZDEo"
      },
      "source": [
        "Architecture of a Database System"
      ]
    },
    {
      "cell_type": "markdown",
      "metadata": {
        "id": "VwIdaDyGZDEs"
      },
      "source": [
        "* (D) [Architecture of a Database System](http://0.0.0.0:8000/3%20Computacion/Papers/Architecture%20of%20a%20Database%20System.pdf)"
      ]
    },
    {
      "cell_type": "markdown",
      "metadata": {
        "id": "3eHGekrEZLic"
      },
      "source": [
        "Database Management Systems (DBMSs) are a ubiquitous and critical\n",
        "component of modern computing, and the result of decades of research\n",
        "and development in both academia and industry. Historically, DBMSs\n",
        "were among the earliest multi-user server systems to be developed, and\n",
        "thus pioneered many systems design techniques for scalability and reliability now in use in many other contexts. While many of the algorithms\n",
        "and abstractions used by a DBMS are textbook material, there has been\n",
        "relatively sparse coverage in the literature of the systems design issues\n",
        "that make a DBMS work. This paper presents an architectural discussion of DBMS design principles, including process models, parallel\n",
        "architecture, storage system design, transaction system implementation, query processor and optimizer architectures, and typical shared\n",
        "components and utilities. Successful commercial and open-source systems are used as points of reference, particularly when multiple alternative designs have been adopted by different groups."
      ]
    },
    {
      "cell_type": "markdown",
      "metadata": {
        "id": "NOjZyvrbZO2W"
      },
      "source": [
        "## Introduction"
      ]
    },
    {
      "cell_type": "markdown",
      "metadata": {
        "id": "OxO0dK7vZRge"
      },
      "source": [
        "## Process Models"
      ]
    },
    {
      "cell_type": "markdown",
      "metadata": {
        "id": "G5Yv87FFZSQe"
      },
      "source": [
        "## Parallel Architecture: Processes and Memory Coordination"
      ]
    },
    {
      "cell_type": "markdown",
      "metadata": {
        "id": "PxccwgAMZWGD"
      },
      "source": [
        "## Relational Query Processor"
      ]
    },
    {
      "cell_type": "markdown",
      "metadata": {
        "id": "Pek2ahe6ZbkJ"
      },
      "source": [
        "## Storage Management"
      ]
    },
    {
      "cell_type": "markdown",
      "metadata": {
        "id": "TjrRXhSpZcVC"
      },
      "source": [
        "## Transactions: Concurrency Control and Recovery"
      ]
    },
    {
      "cell_type": "markdown",
      "metadata": {
        "id": "ovdOVzUKZfR8"
      },
      "source": [
        "## Shared Components"
      ]
    },
    {
      "cell_type": "markdown",
      "metadata": {
        "id": "nPzi1r4zZjB-"
      },
      "source": [
        "## Conclusion"
      ]
    }
  ]
}
