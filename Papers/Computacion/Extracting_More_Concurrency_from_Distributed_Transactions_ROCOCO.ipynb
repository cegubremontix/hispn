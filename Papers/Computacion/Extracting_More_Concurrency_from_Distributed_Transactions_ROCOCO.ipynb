{
  "nbformat": 4,
  "nbformat_minor": 0,
  "metadata": {
    "colab": {
      "name": "Extracting More Concurrency from Distributed Transactions (ROCOCO).ipynb",
      "provenance": [],
      "include_colab_link": true
    },
    "kernelspec": {
      "name": "python3",
      "display_name": "Python 3"
    },
    "language_info": {
      "name": "python"
    }
  },
  "cells": [
    {
      "cell_type": "markdown",
      "metadata": {
        "id": "view-in-github",
        "colab_type": "text"
      },
      "source": [
        "<a href=\"https://colab.research.google.com/github/dbremont/Notas/blob/main/Papers/Computacion/Extracting_More_Concurrency_from_Distributed_Transactions_ROCOCO.ipynb\" target=\"_parent\"><img src=\"https://colab.research.google.com/assets/colab-badge.svg\" alt=\"Open In Colab\"/></a>"
      ]
    },
    {
      "cell_type": "markdown",
      "metadata": {
        "id": "0RQdm4Zasy99"
      },
      "source": [
        "Distributed storage systems run transactions across ma-\n",
        "chines to ensure serializability. Traditional protocols for\n",
        "\n",
        "distributed transactions are based on two-phase locking\n",
        "\n",
        "(2PL) or optimistic concurrency control (OCC). 2PL se-\n",
        "\n",
        "rializes transactions as soon as they conflict and OCC\n",
        "\n",
        "resorts to aborts, leaving many opportunities for concur-\n",
        "rency on the table. This paper presents ROCOCO, a novel\n",
        "concurrency control protocol for distributed transactions\n",
        "that outperforms 2PL and OCC by allowing more con-\n",
        "currency. ROCOCO executes a transaction as a collec-\n",
        "tion of atomic pieces, each of which commonly involves\n",
        "only a single server. Servers first track dependencies be-\n",
        "tween concurrent transactions without actually executing\n",
        "\n",
        "them. At commit time, a transaction’s dependency infor-\n",
        "mation is sent to all servers so they can re-order conflict-\n",
        "ing pieces and execute them in a serializable order.\n",
        "We compare ROCOCO to OCC and 2PL using a scaled\n",
        "TPC-C benchmark. ROCOCO outperforms 2PL and OCC\n",
        "in workloads with varying degrees of contention. When\n",
        "the contention is high, ROCOCO’s throughput is 130%\n",
        "and 347% higher than that of 2PL and OCC."
      ]
    }
  ]
}