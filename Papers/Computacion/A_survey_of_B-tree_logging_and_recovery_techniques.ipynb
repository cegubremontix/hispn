{
  "nbformat": 4,
  "nbformat_minor": 0,
  "metadata": {
    "colab": {
      "name": "A survey of B-tree logging and recovery techniques.ipynb",
      "provenance": [],
      "include_colab_link": true
    },
    "kernelspec": {
      "name": "python3",
      "display_name": "Python 3"
    },
    "language_info": {
      "name": "python"
    }
  },
  "cells": [
    {
      "cell_type": "markdown",
      "metadata": {
        "id": "view-in-github",
        "colab_type": "text"
      },
      "source": [
        "<a href=\"https://colab.research.google.com/github/dbremont/Notas/blob/main/Papers/Computacion/A_survey_of_B-tree_logging_and_recovery_techniques.ipynb\" target=\"_parent\"><img src=\"https://colab.research.google.com/assets/colab-badge.svg\" alt=\"Open In Colab\"/></a>"
      ]
    },
    {
      "cell_type": "markdown",
      "metadata": {
        "id": "9o4LqAVUj6qm"
      },
      "source": [
        "B-trees have been ubiquitous in database management systems for several decades, and they serve in many\n",
        "other storage systems as well. Their basic structure and their basic operations are well understood including\n",
        "\n",
        "search, insertion, and deletion. However, implementation of transactional guarantees such as all-or-nothing\n",
        "\n",
        "failure atomicity and durability in spite of media and system failures seems to be difficult. High-performance\n",
        "\n",
        "techniques such as pseudo-deleted records, allocation-only logging, and transaction processing during crash\n",
        "\n",
        "recovery are widely used in commercial B-tree implementations but not widely understood. This survey\n",
        "\n",
        "collects many of these techniques as a reference for students, researchers, system architects, and software\n",
        "\n",
        "developers. Central in this discussion are physical data independence, separation of logical database contents\n",
        "\n",
        "and physical representation, and the concepts of user transactions and system transactions. Many of the\n",
        "\n",
        "techniques discussed are applicable beyond B-trees."
      ]
    }
  ]
}