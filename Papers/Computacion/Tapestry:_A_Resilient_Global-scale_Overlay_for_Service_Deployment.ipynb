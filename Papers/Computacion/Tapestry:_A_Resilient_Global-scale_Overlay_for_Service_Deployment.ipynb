{
  "nbformat": 4,
  "nbformat_minor": 0,
  "metadata": {
    "colab": {
      "name": "Tapestry: A Resilient Global-scale Overlay for Service Deployment.ipynb",
      "provenance": [],
      "include_colab_link": true
    },
    "kernelspec": {
      "name": "python3",
      "display_name": "Python 3"
    },
    "language_info": {
      "name": "python"
    }
  },
  "cells": [
    {
      "cell_type": "markdown",
      "metadata": {
        "id": "view-in-github",
        "colab_type": "text"
      },
      "source": [
        "<a href=\"https://colab.research.google.com/github/dbremont/Notas/blob/main/Papers/Computacion/Tapestry%3A_A_Resilient_Global-scale_Overlay_for_Service_Deployment.ipynb\" target=\"_parent\"><img src=\"https://colab.research.google.com/assets/colab-badge.svg\" alt=\"Open In Colab\"/></a>"
      ]
    },
    {
      "cell_type": "markdown",
      "metadata": {
        "id": "idgQgt-fCTBd"
      },
      "source": [
        "a peer-to-peer overlay routing infrastructure \n",
        " \n",
        "Tapestry supports a generic decentralized object location and routing applications programming interface using a self-repairing, soft-state-based routing layer.\n",
        "\n",
        "Tapestry nodes\n",
        "\n",
        "global unique identifiers GUIIDs\n",
        "\n",
        "reouting and object location\n",
        "\n",
        "routing mesh\n",
        "\n",
        "Dynamic Node Algorithms\n",
        "\n",
        "Implementation of a Tapestry Node\n",
        "\n",
        "Tapestry is currently implemented in Java and consists of roughly 57 000 lines of code in 255 source files.\n",
        "\n",
        "Node Virtualization\n",
        "\n",
        "DEPLOYING APPLICATIONS WITH TAPESTRY\n",
        "\n",
        "\n",
        "\n",
        "\n"
      ]
    }
  ]
}