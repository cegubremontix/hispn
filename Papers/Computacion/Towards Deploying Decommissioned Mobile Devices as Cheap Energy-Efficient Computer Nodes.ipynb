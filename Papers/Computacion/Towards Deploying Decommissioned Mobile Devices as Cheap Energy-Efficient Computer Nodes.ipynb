{
 "cells": [
  {
   "cell_type": "markdown",
   "metadata": {},
   "source": [
    "Towards Deploying Decommissioned Mobile Devices as Cheap Energy-Efficient Computer Nodes"
   ]
  },
  {
   "cell_type": "markdown",
   "metadata": {},
   "source": [
    "* (D) [Towards Deploying Decommissioned Mobile Devices as Cheap Energy-Efficient Computer Nodes](http://0.0.0.0:8000/3%20Computacion/Papers/Towards%20Deploying%20Decommissioned%20Mobile%20Devices%20as%20Cheap%20Energy-Efficient%20Computer%20Nodes.pdf)"
   ]
  }
 ],
 "metadata": {
  "kernelspec": {
   "display_name": "Python 2.7.18 64-bit",
   "name": "python2718jvsc74a57bd0f92b2924b84ff19c1c3dc485f7644d4486f64738191026bf8e6de303969141b5"
  },
  "language_info": {
   "name": "python",
   "version": ""
  },
  "metadata": {
   "interpreter": {
    "hash": "f92b2924b84ff19c1c3dc485f7644d4486f64738191026bf8e6de303969141b5"
   }
  },
  "orig_nbformat": 2
 },
 "nbformat": 4,
 "nbformat_minor": 2
}