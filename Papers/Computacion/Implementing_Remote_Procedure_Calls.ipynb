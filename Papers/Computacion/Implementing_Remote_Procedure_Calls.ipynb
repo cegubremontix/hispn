{
  "nbformat": 4,
  "nbformat_minor": 0,
  "metadata": {
    "colab": {
      "name": "Implementing Remote Procedure Calls.ipynb",
      "provenance": [],
      "include_colab_link": true
    },
    "kernelspec": {
      "name": "python3",
      "display_name": "Python 3"
    },
    "language_info": {
      "name": "python"
    }
  },
  "cells": [
    {
      "cell_type": "markdown",
      "metadata": {
        "id": "view-in-github",
        "colab_type": "text"
      },
      "source": [
        "<a href=\"https://colab.research.google.com/github/dbremont/Notas/blob/main/Papers/Computacion/Implementing_Remote_Procedure_Calls.ipynb\" target=\"_parent\"><img src=\"https://colab.research.google.com/assets/colab-badge.svg\" alt=\"Open In Colab\"/></a>"
      ]
    },
    {
      "cell_type": "markdown",
      "metadata": {
        "id": "RpA9m0trFE_R"
      },
      "source": [
        "Remote procedure call\n",
        "\n",
        "tarnsport layer protocols\n",
        "\n",
        "distributed naming and binding\n",
        "\n",
        "interproces scomunication \n",
        "\n",
        "perforamce of coommuncation protocols\n",
        "\n",
        "stubs\n",
        "\n",
        "pices of making a rcp call:\n",
        "- the user,\n",
        "- the user stub,\n",
        "- the rpc communication package (RCP Runtime)\n",
        "- the server-stub\n",
        "- the server\n",
        "\n",
        "\n",
        "naming\n",
        "\n",
        "call packet\n",
        "\n",
        "exception handling\n",
        "\n",
        "use processes\n",
        "\n",
        "security rcp1\n",
        "\n",
        "performace of rcp1\n",
        "\n",
        "grapevine \n",
        "\n",
        "\n",
        "rcp semantics\n",
        "\n",
        "\n"
      ]
    }
  ]
}