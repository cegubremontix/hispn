{
  "nbformat": 4,
  "nbformat_minor": 0,
  "metadata": {
    "colab": {
      "name": "Frangipani: A Scalable Distributed File System.ipynb",
      "provenance": [],
      "include_colab_link": true
    },
    "kernelspec": {
      "name": "python3",
      "display_name": "Python 3"
    },
    "language_info": {
      "name": "python"
    }
  },
  "cells": [
    {
      "cell_type": "markdown",
      "metadata": {
        "id": "view-in-github",
        "colab_type": "text"
      },
      "source": [
        "<a href=\"https://colab.research.google.com/github/dbremont/Notas/blob/main/Papers/Computacion/Frangipani%3A_A_Scalable_Distributed_File_System.ipynb\" target=\"_parent\"><img src=\"https://colab.research.google.com/assets/colab-badge.svg\" alt=\"Open In Colab\"/></a>"
      ]
    },
    {
      "cell_type": "markdown",
      "metadata": {
        "id": "5wMtDeVhnAPy"
      },
      "source": [
        "The ideal distributed file system would provide all its users with co-\n",
        "herent, shared access to the same set of files, yet would be arbitrarily\n",
        "scalable to provide more storage space and higher performance to\n",
        "a growing user community. It would be highly available in spite of\n",
        "component failures. It would require minimal human administra-\n",
        "tion, and administration would not become more complex as more\n",
        "components were added.\n",
        "Frangipani is a new file system that approximates this ideal, yet\n",
        "was relatively easy to build because of its two-layer structure. The\n",
        "lower layer is Petal (described in an earlier paper), a distributed\n",
        "storage service that provides incrementally scalable, highly avail-\n",
        "able, automatically managed virtual disks. In the upper layer,\n",
        "multiple machines run the same Frangipani file system code on top\n",
        "of a shared Petal virtual disk, using a distributed lock service to\n",
        "ensure coherence.\n",
        "Frangipani is meant to run in a cluster of machines that are under\n",
        "a common administration and can communicate securely. Thus the\n",
        "machines trust one another and the shared virtual disk approach is\n",
        "practical. Of course, a Frangipani file system can be exported to\n",
        "untrusted machines using ordinary network file access protocols.\n",
        "We have implemented Frangipani on a collection of Alphas\n",
        "running DIGITAL Unix 4.0. Initial measurements indicate that\n",
        "Frangipani has excellent single-server performance and scales well\n",
        "as servers are added."
      ]
    }
  ]
}