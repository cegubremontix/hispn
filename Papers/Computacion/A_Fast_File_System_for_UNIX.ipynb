{
  "nbformat": 4,
  "nbformat_minor": 0,
  "metadata": {
    "colab": {
      "name": "A Fast File System for UNIX.ipynb",
      "provenance": [],
      "include_colab_link": true
    },
    "kernelspec": {
      "name": "python3",
      "display_name": "Python 3"
    },
    "language_info": {
      "name": "python"
    }
  },
  "cells": [
    {
      "cell_type": "markdown",
      "metadata": {
        "id": "view-in-github",
        "colab_type": "text"
      },
      "source": [
        "<a href=\"https://colab.research.google.com/github/dbremont/Notas/blob/main/Papers/Computacion/A_Fast_File_System_for_UNIX.ipynb\" target=\"_parent\"><img src=\"https://colab.research.google.com/assets/colab-badge.svg\" alt=\"Open In Colab\"/></a>"
      ]
    },
    {
      "cell_type": "markdown",
      "metadata": {
        "id": "CDGc-4f25ljK"
      },
      "source": [
        "A reimplementation  of  the  UNIX  file  system  is  described. The  reimplementation\n",
        "provides  substantially  higher  throughput  rates  by  using  more  flexible  allocation  policies\n",
        "that  allow better  locality  of  reference  and  can  be  adapted  to  a  wide  range  of  peripheral\n",
        "\n",
        "and  processor  characteristics. The  new file  system  clusters  data  that  is  sequentially\n",
        "accessed and provides two block sizes to allow fast access to large files while not wasting\n",
        "large amounts of space for small files. File access rates of up to ten times faster than the\n",
        "traditional  UNIX  file  system  are  experienced. Long needed  enhancements  to  the  pro-\n",
        "grammers’  interface  are  discussed. These  include  a  mechanism  to  place  advisory  locks\n",
        "\n",
        "on  files,  extensions  of  the  name  space  across  file  systems,  the  ability  to  use  long  file\n",
        "names, and provisions for administrative control of resource usage."
      ]
    }
  ]
}