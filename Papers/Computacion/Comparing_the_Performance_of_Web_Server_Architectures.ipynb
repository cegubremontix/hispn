{
  "nbformat": 4,
  "nbformat_minor": 0,
  "metadata": {
    "colab": {
      "name": "Comparing the Performance of Web Server Architectures.ipynb",
      "provenance": [],
      "include_colab_link": true
    },
    "kernelspec": {
      "name": "python3",
      "display_name": "Python 3"
    },
    "language_info": {
      "name": "python"
    }
  },
  "cells": [
    {
      "cell_type": "markdown",
      "metadata": {
        "id": "view-in-github",
        "colab_type": "text"
      },
      "source": [
        "<a href=\"https://colab.research.google.com/github/dbremont/Notas/blob/main/Papers/Computacion/Comparing_the_Performance_of_Web_Server_Architectures.ipynb\" target=\"_parent\"><img src=\"https://colab.research.google.com/assets/colab-badge.svg\" alt=\"Open In Colab\"/></a>"
      ]
    },
    {
      "cell_type": "markdown",
      "metadata": {
        "id": "bBKyyw-UmsH4"
      },
      "source": [
        "n this paper, we extensively tune and then compare the perfor-\n",
        "\n",
        "mance of web servers based on three different server architectures.\n",
        "The μserver utilizes an event-driven architecture, Knot uses the\n",
        "highly-efficient Capriccio thread library to implement a thread-per-\n",
        "\n",
        "connection model, and WatPipe uses a hybrid of events and threads\n",
        "\n",
        "to implement a pipeline-based server that is similar in spirit to a\n",
        "\n",
        "staged event-driven architecture (SEDA) server like Haboob.\n",
        "We describe modifications made to the Capriccio thread library\n",
        "to use Linux’s zero-copy sendfile interface. We then introduce the\n",
        "\n",
        "SYmmetric Multi-Processor Event Driven (SYMPED) architecture\n",
        "\n",
        "in which relatively minor modifications are made to a single pro-\n",
        "\n",
        "cess event-driven (SPED) server (the μserver) to allow it to con-\n",
        "tinue processing requests in the presence of blocking due to disk\n",
        "\n",
        "accesses. Finally, we describe our C++ implementation of WatPipe,\n",
        "\n",
        "which although utilizing a pipeline-based architecture, excludes\n",
        "\n",
        "the dynamic controls over event queues and thread pools used in\n",
        "\n",
        "SEDA. When comparing the performance of these three server ar-\n",
        "\n",
        "chitectures on the workload used in our study, we arrive at different\n",
        "\n",
        "conclusions than previous studies. In spite of recent improvements\n",
        "\n",
        "to threading libraries and our further improvements to Capriccio\n",
        "\n",
        "and Knot, both the event-based μserver and pipeline-based Wat-\n",
        "Pipe server provide better throughput (by about 18%). We also ob-\n",
        "\n",
        "serve that when using blocking sockets to send data to clients, the\n",
        "\n",
        "performance obtained with some architectures is quite good and in\n",
        "\n",
        "one case is noticeably better than when using non-blocking socket."
      ]
    }
  ]
}