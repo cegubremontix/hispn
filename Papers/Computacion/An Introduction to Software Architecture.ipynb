{
 "cells": [
  {
   "cell_type": "markdown",
   "metadata": {},
   "source": [
    "* (D) [An Introduction to Software Architecture](http://0.0.0.0:8000/3%20Computacion/Papers/An%20Introduction%20to%20Software%20Architecture.pdf)"
   ]
  },
  {
   "cell_type": "markdown",
   "metadata": {},
   "source": [
    "- SA. becomes more important when the sizes of the software system increased.\n",
    "\n",
    "- X-Windows System: A distributed windowed user interface architecture based on event triggering and callbacks.\n",
    "\n",
    "Some commong SA. Patterns:\n",
    "\n",
    "- Pipes and Filters (9)\n",
    "- Data Abstraction and Object-Oriented Organization.\n",
    "- Event-based, Implicid Invocation.\n",
    "- Layered Systems.\n",
    "- Repositories.\n",
    "- Table Driven Interpreters.\n",
    "\n",
    "\n",
    "Pipes and Filters (9)\n",
    "\n",
    "- In this style every component has a set of inputs and outputs.\n",
    "- A component reads a stream of data in it's input and output a stream of data.\n",
    "- How components are connected?\n",
    "- \n"
   ]
  }
 ],
 "metadata": {
  "kernelspec": {
   "display_name": "Python 2.7.18 64-bit",
   "name": "python2718jvsc74a57bd0f92b2924b84ff19c1c3dc485f7644d4486f64738191026bf8e6de303969141b5"
  },
  "language_info": {
   "name": "python",
   "version": ""
  },
  "metadata": {
   "interpreter": {
    "hash": "f92b2924b84ff19c1c3dc485f7644d4486f64738191026bf8e6de303969141b5"
   }
  },
  "orig_nbformat": 2
 },
 "nbformat": 4,
 "nbformat_minor": 2
}