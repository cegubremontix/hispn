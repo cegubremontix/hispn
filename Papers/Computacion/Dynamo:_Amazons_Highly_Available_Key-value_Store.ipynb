{
  "nbformat": 4,
  "nbformat_minor": 0,
  "metadata": {
    "colab": {
      "name": "Dynamo: Amazons Highly Available Key-value Store.ipynb",
      "provenance": [],
      "include_colab_link": true
    },
    "kernelspec": {
      "name": "python3",
      "display_name": "Python 3"
    },
    "language_info": {
      "name": "python"
    }
  },
  "cells": [
    {
      "cell_type": "markdown",
      "metadata": {
        "id": "view-in-github",
        "colab_type": "text"
      },
      "source": [
        "<a href=\"https://colab.research.google.com/github/dbremont/Notas/blob/main/Papers/Computacion/Dynamo%3A_Amazons_Highly_Available_Key-value_Store.ipynb\" target=\"_parent\"><img src=\"https://colab.research.google.com/assets/colab-badge.svg\" alt=\"Open In Colab\"/></a>"
      ]
    },
    {
      "cell_type": "markdown",
      "metadata": {
        "id": "iFe6vJmmS6KE"
      },
      "source": [
        "his paper describes an efficient optimistic concurrency control\n",
        "scheme for use in distributed database systems in which objects are\n",
        "cached and manipulated at client machines while persistent storage\n",
        "and transactional support are provided by servers. The scheme\n",
        "provides both serializability and external consistency for committed\n",
        "transactions; it uses loosely synchronized clocks to achieve global\n",
        "serialization. It stores only a single version of each object, and\n",
        "avoids maintaining any concurrency control information on a per-\n",
        "object basis; instead, it tracks recent invalidations on a per-client\n",
        "basis, an approach that has low in-memory space overhead and no\n",
        "per-object disk overhead. In addition to its low space overheads,\n",
        "the scheme also performs well. The paper presents a simulation\n",
        "study that compares the scheme to adaptive callback locking, the\n",
        "best concurrency control scheme for client-server object-oriented\n",
        "database systems studied to date. The study shows that our\n",
        "scheme outperforms adaptive callback locking for low to moderate\n",
        "contention workloads, and scales better with the number of clients.\n",
        "For high contention workloads, optimism can result in a high abort\n",
        "rate; the scheme presented here is a first step toward a hybrid scheme\n",
        "that we expect to perform well across the full range of workloads."
      ]
    }
  ]
}