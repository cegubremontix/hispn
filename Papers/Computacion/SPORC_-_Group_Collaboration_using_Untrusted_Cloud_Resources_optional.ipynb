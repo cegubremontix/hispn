{
  "nbformat": 4,
  "nbformat_minor": 0,
  "metadata": {
    "colab": {
      "name": "SPORC - Group Collaboration using Untrusted Cloud Resources (optional).ipynb",
      "provenance": [],
      "include_colab_link": true
    },
    "kernelspec": {
      "name": "python3",
      "display_name": "Python 3"
    },
    "language_info": {
      "name": "python"
    }
  },
  "cells": [
    {
      "cell_type": "markdown",
      "metadata": {
        "id": "view-in-github",
        "colab_type": "text"
      },
      "source": [
        "<a href=\"https://colab.research.google.com/github/dbremont/Notas/blob/main/Papers/Computacion/SPORC_-_Group_Collaboration_using_Untrusted_Cloud_Resources_optional.ipynb\" target=\"_parent\"><img src=\"https://colab.research.google.com/assets/colab-badge.svg\" alt=\"Open In Colab\"/></a>"
      ]
    },
    {
      "cell_type": "markdown",
      "metadata": {
        "id": "wWmxHy-UqLq3"
      },
      "source": [
        "Cloud-based services are an attractive deployment\n",
        "model for user-facing applications like word processing\n",
        "and calendaring. Unlike desktop applications, cloud ser-\n",
        "vices allow multiple users to edit shared state concurrently\n",
        "and in real-time, while being scalable, highly available,\n",
        "and globally accessible. Unfortunately, these benefits\n",
        "come at the cost of fully trusting cloud providers with\n",
        "potentially sensitive and important data.\n",
        "To overcome this strict tradeoff, we present SPORC, a\n",
        "generic framework for building a wide variety of collabo-\n",
        "rative applications with untrusted servers. In SPORC, a\n",
        "server observes only encrypted data and cannot deviate\n",
        "from correct execution without being detected. SPORC\n",
        "allows concurrent, low-latency editing of shared state,\n",
        "permits disconnected operation, and supports dynamic\n",
        "access control even in the presence of concurrency. We\n",
        "demonstrate SPORC’s flexibility through two prototype\n",
        "applications: a causally-consistent key-value store and a\n",
        "browser-based collaborative text editor.\n",
        "Conceptually, SPORC illustrates the complementary\n",
        "benefits of operational transformation (OT) and fork*\n",
        "consistency. The former allows SPORC clients to execute\n",
        "concurrent operations without locking and to resolve any\n",
        "resulting conflicts automatically. The latter prevents a\n",
        "misbehaving server from equivocating about the order of\n",
        "operations unless it is willing to forkclients into disjoint\n",
        "sets. Notably, unlike previous systems, SPORC can auto-\n",
        "matically recover from such malicious forks by leveraging\n",
        "OT’s conflict resolution mechanism."
      ]
    }
  ]
}