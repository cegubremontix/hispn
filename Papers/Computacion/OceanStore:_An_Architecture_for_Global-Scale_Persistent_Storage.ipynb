{
  "nbformat": 4,
  "nbformat_minor": 0,
  "metadata": {
    "colab": {
      "name": "OceanStore: An Architecture for Global-Scale Persistent Storage.ipynb",
      "provenance": [],
      "include_colab_link": true
    },
    "kernelspec": {
      "name": "python3",
      "display_name": "Python 3"
    },
    "language_info": {
      "name": "python"
    }
  },
  "cells": [
    {
      "cell_type": "markdown",
      "metadata": {
        "id": "view-in-github",
        "colab_type": "text"
      },
      "source": [
        "<a href=\"https://colab.research.google.com/github/dbremont/Notas/blob/main/Papers/Computacion/OceanStore%3A_An_Architecture_for_Global-Scale_Persistent_Storage.ipynb\" target=\"_parent\"><img src=\"https://colab.research.google.com/assets/colab-badge.svg\" alt=\"Open In Colab\"/></a>"
      ]
    },
    {
      "cell_type": "markdown",
      "metadata": {
        "id": "NDU-QQnSiGun"
      },
      "source": [
        "OceanStore is a utility infrastructure designed to span the globe\n",
        "and provide continuous access to persistent information. Since\n",
        "\n",
        "this infrastructure is comprised of untrusted servers, data is pro-\n",
        "\n",
        "tected through redundancy and cryptographic techniques. To im-\n",
        "prove performance, data is allowed to be cached anywhere, any-\n",
        "time. Additionally, monitoring of usage patterns allows adapta-\n",
        "\n",
        "tion to regional outages and denial of service attacks; monitoring\n",
        "\n",
        "also enhances performance through pro-active movement of data.\n",
        "\n",
        "A prototype implementation is currently under development."
      ]
    }
  ]
}