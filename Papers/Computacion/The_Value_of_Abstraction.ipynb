{
  "nbformat": 4,
  "nbformat_minor": 0,
  "metadata": {
    "kernelspec": {
      "display_name": "Python 2.7.18 64-bit",
      "name": "python2718jvsc74a57bd0f92b2924b84ff19c1c3dc485f7644d4486f64738191026bf8e6de303969141b5"
    },
    "language_info": {
      "name": "python",
      "version": ""
    },
    "metadata": {
      "interpreter": {
        "hash": "f92b2924b84ff19c1c3dc485f7644d4486f64738191026bf8e6de303969141b5"
      }
    },
    "orig_nbformat": 2,
    "colab": {
      "name": "The Value of Abstraction.ipynb",
      "provenance": [],
      "include_colab_link": true
    }
  },
  "cells": [
    {
      "cell_type": "markdown",
      "metadata": {
        "id": "view-in-github",
        "colab_type": "text"
      },
      "source": [
        "<a href=\"https://colab.research.google.com/github/dbremont/Notas/blob/main/Papers/Computacion/The_Value_of_Abstraction.ipynb\" target=\"_parent\"><img src=\"https://colab.research.google.com/assets/colab-badge.svg\" alt=\"Open In Colab\"/></a>"
      ]
    },
    {
      "cell_type": "markdown",
      "metadata": {
        "id": "wjOcn2NXaxEb"
      },
      "source": [
        "The Value of Abstraction"
      ]
    },
    {
      "cell_type": "markdown",
      "metadata": {
        "id": "6BJjRo3YaxEf"
      },
      "source": [
        "- (D) [The Value of Abstraction](http://0.0.0.0:8000/3%20Computacion/Papers/The%20Value%20of%20Abstraction.pdf)"
      ]
    },
    {
      "cell_type": "markdown",
      "metadata": {
        "id": "soNolnysliD4"
      },
      "source": [
        "Agents that can make better use of computation, experience, time, and memory can solve a greater range of problems more effectively. A crucial ingredient for managing such finite resources is intelligently chosen abstract representations. But, how do abstractions facilitate  problem solving under limited resources? What makes an abstraction useful? To answer such questions, we review several trends in recent reinforcement-learning research that provide insight into how abstractions interact with learning and decision making. During learning, abstraction can guide exploration and generalization as well as facilitate efficient tradeoffs—e.g., time spent learning versus the quality of a solution. During computation, good abstractions provide simplified models for computation while also preserving relevant information about decision-theoretic quantities. These features of abstraction are not only key for scaling up artificial problem solving, but can also shed light on what pressures shape the use of abstract\n",
        "representations in humans and other organisms. \n",
        "\n",
        "Keywords: abstraction, reinforcement learning, bounded rationality, planning, problem\n",
        "solving, rational analysis"
      ]
    },
    {
      "cell_type": "markdown",
      "metadata": {
        "id": "aocI2SLMlrbQ"
      },
      "source": [
        "Agents with finite space, time, and data can benefit\n",
        "from abstract representations.\n",
        "\n",
        "Both humans and artificial agents rely on abstractions\n",
        "to solve complex problems.\n",
        "\n",
        "Recent work in reinforcement learning elucidates what\n",
        "makes abstractions useful.\n",
        "\n",
        "Abstractions guide learning, facilitate tradeoffs, and\n",
        "simplify computation.\n",
        "\n",
        "This structure provides a basis for a rational analysis\n",
        "of abstract representations."
      ]
    }
  ]
}