{
  "nbformat": 4,
  "nbformat_minor": 0,
  "metadata": {
    "colab": {
      "name": "Making Information Flow Explicit in HiStar.ipynb",
      "provenance": [],
      "include_colab_link": true
    },
    "kernelspec": {
      "name": "python3",
      "display_name": "Python 3"
    },
    "language_info": {
      "name": "python"
    }
  },
  "cells": [
    {
      "cell_type": "markdown",
      "metadata": {
        "id": "view-in-github",
        "colab_type": "text"
      },
      "source": [
        "<a href=\"https://colab.research.google.com/github/dbremont/Notas/blob/main/Papers/Computacion/Making_Information_Flow_Explicit_in_HiStar.ipynb\" target=\"_parent\"><img src=\"https://colab.research.google.com/assets/colab-badge.svg\" alt=\"Open In Colab\"/></a>"
      ]
    },
    {
      "cell_type": "markdown",
      "metadata": {
        "id": "8O3U0_JjtolX"
      },
      "source": [
        "HiStar is a new operating system designed to minimize\n",
        "\n",
        "the amount of code that must be trusted. HiStar pro-\n",
        "\n",
        "vides strict information flow control, which allows users\n",
        "\n",
        "to specify precise data security policies without unduly\n",
        "\n",
        "limiting the structure of applications. HiStar’s security\n",
        "\n",
        "features make it possible to implement a Unix-like envi-\n",
        "\n",
        "ronment with acceptable performance almost entirely in\n",
        "\n",
        "an untrusted user-level library. The system has no notion\n",
        "\n",
        "of superuser and no fully trusted code other than the ker-\n",
        "\n",
        "nel. HiStar’s features permit several novel applications,\n",
        "\n",
        "including an entirely untrusted login process, separation\n",
        "\n",
        "of data between virtual private networks, and privacy-\n",
        "\n",
        "preserving, untrusted virus scanners."
      ]
    }
  ]
}