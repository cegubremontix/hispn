{
  "nbformat": 4,
  "nbformat_minor": 0,
  "metadata": {
    "colab": {
      "name": "Viewstamped Replication Revisited (optional).ipynb",
      "provenance": [],
      "include_colab_link": true
    },
    "kernelspec": {
      "name": "python3",
      "display_name": "Python 3"
    },
    "language_info": {
      "name": "python"
    }
  },
  "cells": [
    {
      "cell_type": "markdown",
      "metadata": {
        "id": "view-in-github",
        "colab_type": "text"
      },
      "source": [
        "<a href=\"https://colab.research.google.com/github/dbremont/Notas/blob/main/Papers/Computacion/Viewstamped_Replication_Revisited_(optional).ipynb\" target=\"_parent\"><img src=\"https://colab.research.google.com/assets/colab-badge.svg\" alt=\"Open In Colab\"/></a>"
      ]
    },
    {
      "cell_type": "markdown",
      "metadata": {
        "id": "3ZUbnFosgIgG"
      },
      "source": [
        "This paper presents an updated version of Viewstamped\n",
        "Replication, a replication technique that handles failures\n",
        "in which nodes crash. It describes how client requests are\n",
        "handled, how the group reorganizes when a replica fails,\n",
        "and how a failed replica is able to rejoin the group. The\n",
        "paper also describes a number of important optimizations\n",
        "and presents a protocol for handling reconfigurations that\n",
        "can change both the group membership and the number\n",
        "of failures the group is able to handle."
      ]
    }
  ]
}