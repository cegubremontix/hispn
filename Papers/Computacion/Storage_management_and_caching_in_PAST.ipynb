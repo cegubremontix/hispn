{
  "nbformat": 4,
  "nbformat_minor": 0,
  "metadata": {
    "colab": {
      "name": "Storage management and caching in PAST.ipynb",
      "provenance": [],
      "include_colab_link": true
    },
    "kernelspec": {
      "name": "python3",
      "display_name": "Python 3"
    },
    "language_info": {
      "name": "python"
    }
  },
  "cells": [
    {
      "cell_type": "markdown",
      "metadata": {
        "id": "view-in-github",
        "colab_type": "text"
      },
      "source": [
        "<a href=\"https://colab.research.google.com/github/dbremont/Notas/blob/main/Papers/Computacion/Storage_management_and_caching_in_PAST.ipynb\" target=\"_parent\"><img src=\"https://colab.research.google.com/assets/colab-badge.svg\" alt=\"Open In Colab\"/></a>"
      ]
    },
    {
      "cell_type": "markdown",
      "metadata": {
        "id": "7xYp-irRjzyg"
      },
      "source": [
        "This paper presents and evaluates the storage management\n",
        "and caching in PAST, a large-scale peer-to-peer persistent\n",
        "storage utility. PAST is based on a self-organizing, Internet-\n",
        "\n",
        "based overlay network of storage nodes that cooperatively\n",
        "\n",
        "route ﬁle queries, store multiple replicas of ﬁles, and cache\n",
        "additional copies of popular ﬁles.\n",
        "In the PAST system, storage nodes and ﬁles are each as-\n",
        "signed uniformly distributed identiﬁers, and replicas of a ﬁle\n",
        "are stored at nodes whose identiﬁer matches most closely the\n",
        "ﬁle’s identiﬁer. This statistical assignment of ﬁles to storage\n",
        "\n",
        "nodes approximately balances the number of ﬁles stored on\n",
        "each node. However, non-uniform storage node capacities\n",
        "and ﬁle sizes require more explicit storage load balancing\n",
        "\n",
        "to permit graceful behavior under high global storage uti-\n",
        "lization; likewise, non-uniform popularity of ﬁles requires\n",
        "caching to minimize fetch distance and to balance the query\n",
        "\n",
        "load.\n",
        "We present and evaluate PAST, with an emphasis on its\n",
        "storage management and caching system. Extensive trace-\n",
        "driven experiments show that the system minimizes fetch\n",
        "\n",
        "distance, that it balances the query load for popular ﬁles,\n",
        "and that it displays graceful degradation of performance as\n",
        "the global storage utilization increases beyond 95%."
      ]
    }
  ]
}