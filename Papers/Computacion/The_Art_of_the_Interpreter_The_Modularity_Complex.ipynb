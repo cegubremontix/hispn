{
  "nbformat": 4,
  "nbformat_minor": 0,
  "metadata": {
    "kernelspec": {
      "display_name": "Python 2.7.18 64-bit",
      "name": "python2718jvsc74a57bd0f92b2924b84ff19c1c3dc485f7644d4486f64738191026bf8e6de303969141b5"
    },
    "language_info": {
      "name": "python",
      "version": ""
    },
    "metadata": {
      "interpreter": {
        "hash": "f92b2924b84ff19c1c3dc485f7644d4486f64738191026bf8e6de303969141b5"
      }
    },
    "orig_nbformat": 2,
    "colab": {
      "name": "The_Art_of_the_Interpreter_The_Modularity_Complex.ipynb",
      "provenance": []
    }
  },
  "cells": [
    {
      "cell_type": "markdown",
      "metadata": {
        "id": "sXGS9ymIRv23"
      },
      "source": [
        "The Art of the Interpreter or, The Modularity Complex"
      ]
    },
    {
      "cell_type": "markdown",
      "metadata": {
        "id": "BDq0qdqcYE0c"
      },
      "source": [
        "We examine the efects of various langauge design decision o nthe programign styles aviable to a user of th langauge, wity particular emphaiss o nthe abilty to incrementally construct  modular systems. At each step we exhibit an interactice meta-circular interpreter for the langauge under consideration. Each new interpreter is teh result o f an incremental change to a previous interpreter.\n",
        "\n",
        "We explore the conseq2uences of various variable binding disciipliens and the introduction of side effects. We find that dynamic scoping is unsuitable for constructing procedural abstractions, but has another role as an agent of modulaarity, being a structued form of side effect. More genral side effects are saslso found to be necessary to promtoe modular style. WE find that the notion of side effects and the notion of equality (object identity) are mutually constracining; to define one is to define the other.\n",
        "\n",
        "The interpreters we exhibit are written ina simpel dialect of LISP, and all implentn LIST-like languages.  A subset of these interpeters contitute a particl hitostrical reconstruction of the actual LISP.\n",
        "\n",
        "keywords: abstarction, actors, applicative order, bindings, control structres, debugging, dynamic scoping,m environmetns, fluiod variables, FUNARG problem, funcitonal objects, interactive programming, lambda-calculus, lexical scoping, LISP, modularity, procedural data, recursion equations, referential transparency, SCHEME, side effects, static scoping, structured programming."
      ]
    }
  ]
}