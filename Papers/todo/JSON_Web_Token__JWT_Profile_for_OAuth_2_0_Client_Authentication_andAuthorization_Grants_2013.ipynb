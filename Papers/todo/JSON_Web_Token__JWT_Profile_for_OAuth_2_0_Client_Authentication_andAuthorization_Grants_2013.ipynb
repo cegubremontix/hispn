{
    "nbformat": 4,
    "nbformat_minor": 0,
    "metadata": {
        "colab": {
            "name":"JSON Web Token (JWT Profile for OAuth 2.0 Client Authentication andAuthorization Grants(2013.ipynb",
            "provenance": [],
            "authorship_tag": "ABX9TyOF9UT4S4S5I69TKWt/9f3N",
            "include_colab_link": true
        },
        "kernelspec": {
            "name": "python3",
            "display_name": "Python 3"
        },
        "language_info": {
            "name": "python"
        }
    },
    "cells": [
        {
            "cell_type": "markdown",
            "metadata": {
                "id": "view-in-github",
                "colab_type": "text"
            },
            "source": ["<a href=\"https://colab.research.google.com/github/dbremont/Notas/blob/main/Papers/{TYPE}/JSON_Web_Token__JWT_Profile_for_OAuth_2_0_Client_Authentication_andAuthorization_Grants_2013	.ipynb\" target=\"_parent\"><img src=\"https://colab.research.google.com/assets/colab-badge.svg\" alt=\"Open In Colab\"/></a>"
           ]
        },
        {
            "cell_type": "markdown",
            "source": ["[JSON Web Token (JWT Profile for OAuth 2.0 Client Authentication andAuthorization Grants(2013](https://www.potaroo.net/ietf/all-ids/draft-ietf-oauth-jwt-bearer-05.pdf)"
            ],
            "metadata": {
                "id": "gv-C86PLYaHi"
            }
        }
    ]
}
