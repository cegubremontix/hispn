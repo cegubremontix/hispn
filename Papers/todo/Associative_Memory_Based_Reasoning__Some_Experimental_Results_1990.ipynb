{
    "nbformat": 4,
    "nbformat_minor": 0,
    "metadata": {
        "colab": {
            "name":"Associative Memory-Based Reasoning: Some Experimental Results(1990.ipynb",
            "provenance": [],
            "authorship_tag": "ABX9TyOF9UT4S4S5I69TKWt/9f3N",
            "include_colab_link": true
        },
        "kernelspec": {
            "name": "python3",
            "display_name": "Python 3"
        },
        "language_info": {
            "name": "python"
        }
    },
    "cells": [
        {
            "cell_type": "markdown",
            "metadata": {
                "id": "view-in-github",
                "colab_type": "text"
            },
            "source": ["<a href=\"https://colab.research.google.com/github/dbremont/Notas/blob/main/Papers/{TYPE}/Associative_Memory_Based_Reasoning__Some_Experimental_Results_1990	.ipynb\" target=\"_parent\"><img src=\"https://colab.research.google.com/assets/colab-badge.svg\" alt=\"Open In Colab\"/></a>"
           ]
        },
        {
            "cell_type": "markdown",
            "source": ["[Associative Memory-Based Reasoning: Some Experimental Results(1990](https://www.semanticscholar.org/paper/Associative-Memory-Based-Reasoning%3A-Some-Results-Kokinov/8c1179de3ebcd4e3cd4b96d362508d3cad12ab06)"
            ],
            "metadata": {
                "id": "gv-C86PLYaHi"
            }
        }
    ]
}
