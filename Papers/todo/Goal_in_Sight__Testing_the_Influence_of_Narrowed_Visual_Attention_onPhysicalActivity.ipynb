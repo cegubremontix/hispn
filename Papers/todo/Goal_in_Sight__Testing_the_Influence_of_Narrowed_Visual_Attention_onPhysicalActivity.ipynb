{
    "nbformat": 4,
    "nbformat_minor": 0,
    "metadata": {
        "colab": {
            "name":"Goal in Sight: Testing the Influence of Narrowed Visual Attention onPhysicalActivity.ipynb",
            "provenance": [],
            "authorship_tag": "ABX9TyOF9UT4S4S5I69TKWt/9f3N",
            "include_colab_link": true
        },
        "kernelspec": {
            "name": "python3",
            "display_name": "Python 3"
        },
        "language_info": {
            "name": "python"
        }
    },
    "cells": [
        {
            "cell_type": "markdown",
            "metadata": {
                "id": "view-in-github",
                "colab_type": "text"
            },
            "source": ["<a href=\"https://colab.research.google.com/github/dbremont/Notas/blob/main/Papers/{TYPE}/Goal_in_Sight__Testing_the_Influence_of_Narrowed_Visual_Attention_onPhysicalActivity	.ipynb\" target=\"_parent\"><img src=\"https://colab.research.google.com/assets/colab-badge.svg\" alt=\"Open In Colab\"/></a>"
           ]
        },
        {
            "cell_type": "markdown",
            "source": ["[Goal in Sight: Testing the Influence of Narrowed Visual Attention onPhysicalActivity](https://journals.sagepub.com/doi/full/10.1177/0146167219861438)"
            ],
            "metadata": {
                "id": "gv-C86PLYaHi"
            }
        }
    ]
}
