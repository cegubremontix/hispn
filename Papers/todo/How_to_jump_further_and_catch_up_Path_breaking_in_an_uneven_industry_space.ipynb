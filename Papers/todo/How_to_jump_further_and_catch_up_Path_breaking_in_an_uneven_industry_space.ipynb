{
    "nbformat": 4,
    "nbformat_minor": 0,
    "metadata": {
        "colab": {
            "name":"How to jump further and catch up Path breaking in an uneven industry space.ipynb",
            "provenance": [],
            "authorship_tag": "ABX9TyOF9UT4S4S5I69TKWt/9f3N",
            "include_colab_link": true
        },
        "kernelspec": {
            "name": "python3",
            "display_name": "Python 3"
        },
        "language_info": {
            "name": "python"
        }
    },
    "cells": [
        {
            "cell_type": "markdown",
            "metadata": {
                "id": "view-in-github",
                "colab_type": "text"
            },
            "source": ["<a href=\"https://colab.research.google.com/github/dbremont/Notas/blob/main/Papers/{TYPE}/How_to_jump_further_and_catch_up_Path_breaking_in_an_uneven_industry_space	.ipynb\" target=\"_parent\"><img src=\"https://colab.research.google.com/assets/colab-badge.svg\" alt=\"Open In Colab\"/></a>"
           ]
        },
        {
            "cell_type": "markdown",
            "source": ["[How to jump further and catch up Path breaking in an uneven industry space](http://0.0.0.0:8000/6%20Otros/Papers/How%20to%20jump%20further%20and%20catch%20up%20%20Path%20breaking%20in%20an%20uneven%20industry%20space.pdf)"
            ],
            "metadata": {
                "id": "gv-C86PLYaHi"
            }
        }
    ]
}
