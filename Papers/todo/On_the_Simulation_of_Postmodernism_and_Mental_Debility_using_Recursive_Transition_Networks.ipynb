{
    "nbformat": 4,
    "nbformat_minor": 0,
    "metadata": {
        "colab": {
            "name":"On the Simulation of Postmodernism and Mental Debility using Recursive Transition Networks.ipynb",
            "provenance": [],
            "authorship_tag": "ABX9TyOF9UT4S4S5I69TKWt/9f3N",
            "include_colab_link": true
        },
        "kernelspec": {
            "name": "python3",
            "display_name": "Python 3"
        },
        "language_info": {
            "name": "python"
        }
    },
    "cells": [
        {
            "cell_type": "markdown",
            "metadata": {
                "id": "view-in-github",
                "colab_type": "text"
            },
            "source": ["<a href=\"https://colab.research.google.com/github/dbremont/Notas/blob/main/Papers/{TYPE}/On_the_Simulation_of_Postmodernism_and_Mental_Debility_using_Recursive_Transition_Networks	.ipynb\" target=\"_parent\"><img src=\"https://colab.research.google.com/assets/colab-badge.svg\" alt=\"Open In Colab\"/></a>"
           ]
        },
        {
            "cell_type": "markdown",
            "source": ["[On the Simulation of Postmodernism and Mental Debility using Recursive Transition Networks](https://www.elsewhere.org/journal/wp-content/uploads/2005/11/tr-cs96-264.pdf)"
            ],
            "metadata": {
                "id": "gv-C86PLYaHi"
            }
        }
    ]
}
