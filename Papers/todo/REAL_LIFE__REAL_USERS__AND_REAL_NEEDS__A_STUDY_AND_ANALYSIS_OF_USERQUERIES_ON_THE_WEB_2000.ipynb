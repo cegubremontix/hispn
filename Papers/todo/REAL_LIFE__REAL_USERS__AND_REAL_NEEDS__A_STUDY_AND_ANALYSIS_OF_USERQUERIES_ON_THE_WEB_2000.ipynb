{
    "nbformat": 4,
    "nbformat_minor": 0,
    "metadata": {
        "colab": {
            "name":"REAL LIFE, REAL USERS, AND REAL NEEDS: A STUDY AND ANALYSIS OF USERQUERIES ON THE WEB(2000.ipynb",
            "provenance": [],
            "authorship_tag": "ABX9TyOF9UT4S4S5I69TKWt/9f3N",
            "include_colab_link": true
        },
        "kernelspec": {
            "name": "python3",
            "display_name": "Python 3"
        },
        "language_info": {
            "name": "python"
        }
    },
    "cells": [
        {
            "cell_type": "markdown",
            "metadata": {
                "id": "view-in-github",
                "colab_type": "text"
            },
            "source": ["<a href=\"https://colab.research.google.com/github/dbremont/Notas/blob/main/Papers/{TYPE}/REAL_LIFE__REAL_USERS__AND_REAL_NEEDS__A_STUDY_AND_ANALYSIS_OF_USERQUERIES_ON_THE_WEB_2000	.ipynb\" target=\"_parent\"><img src=\"https://colab.research.google.com/assets/colab-badge.svg\" alt=\"Open In Colab\"/></a>"
           ]
        },
        {
            "cell_type": "markdown",
            "source": ["[REAL LIFE, REAL USERS, AND REAL NEEDS: A STUDY AND ANALYSIS OF USERQUERIES ON THE WEB(2000](https://dl.acm.org/doi/10.1016/S0306-4573%2899%2900056-4)"
            ],
            "metadata": {
                "id": "gv-C86PLYaHi"
            }
        }
    ]
}
