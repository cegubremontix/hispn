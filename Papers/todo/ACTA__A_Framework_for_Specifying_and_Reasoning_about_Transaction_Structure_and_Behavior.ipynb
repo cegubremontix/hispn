{
    "nbformat": 4,
    "nbformat_minor": 0,
    "metadata": {
        "colab": {
            "name":"ACTA: A Framework for Specifying and Reasoning about Transaction Structure and Behavior.ipynb",
            "provenance": [],
            "authorship_tag": "ABX9TyOF9UT4S4S5I69TKWt/9f3N",
            "include_colab_link": true
        },
        "kernelspec": {
            "name": "python3",
            "display_name": "Python 3"
        },
        "language_info": {
            "name": "python"
        }
    },
    "cells": [
        {
            "cell_type": "markdown",
            "metadata": {
                "id": "view-in-github",
                "colab_type": "text"
            },
            "source": ["<a href=\"https://colab.research.google.com/github/dbremont/Notas/blob/main/Papers/{TYPE}/ACTA__A_Framework_for_Specifying_and_Reasoning_about_Transaction_Structure_and_Behavior	.ipynb\" target=\"_parent\"><img src=\"https://colab.research.google.com/assets/colab-badge.svg\" alt=\"Open In Colab\"/></a>"
           ]
        },
        {
            "cell_type": "markdown",
            "source": ["[ACTA: A Framework for Specifying and Reasoning about Transaction Structure and Behavior](http://citeseerx.ist.psu.edu/viewdoc/download?doi=10.1.1.44.7778&rep=rep1&type=pdf)"
            ],
            "metadata": {
                "id": "gv-C86PLYaHi"
            }
        }
    ]
}
