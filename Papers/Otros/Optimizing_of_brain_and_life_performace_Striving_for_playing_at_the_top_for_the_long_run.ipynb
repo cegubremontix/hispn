{
  "nbformat": 4,
  "nbformat_minor": 0,
  "metadata": {
    "colab": {
      "name": "Optimizing of brain and life performace: Striving for playing at the top for the long run.ipynb",
      "provenance": [],
      "include_colab_link": true
    },
    "kernelspec": {
      "name": "python3",
      "display_name": "Python 3"
    },
    "language_info": {
      "name": "python"
    }
  },
  "cells": [
    {
      "cell_type": "markdown",
      "metadata": {
        "id": "view-in-github",
        "colab_type": "text"
      },
      "source": [
        "<a href=\"https://colab.research.google.com/github/dbremont/Notas/blob/main/Papers/Otros/Optimizing_of_brain_and_life_performace_Striving_for_playing_at_the_top_for_the_long_run.ipynb\" target=\"_parent\"><img src=\"https://colab.research.google.com/assets/colab-badge.svg\" alt=\"Open In Colab\"/></a>"
      ]
    },
    {
      "cell_type": "markdown",
      "source": [
        "[Paper](https://arxiv.org/pdf/1111.4621.pdf)"
      ],
      "metadata": {
        "id": "R6xZ8ozsMMCk"
      }
    },
    {
      "cell_type": "markdown",
      "source": [
        "Strategy for Better Performace\n",
        "\n",
        "Target Objetives to Optimize (How to Measure This)\n",
        "- Energy\n",
        "- Health\n",
        "- Memory\n",
        "\n",
        "Research backing this protocol / strategies"
      ],
      "metadata": {
        "id": "93ojiAKEXyl0"
      }
    },
    {
      "cell_type": "markdown",
      "source": [
        "Six Simple Strategies/Protocols for optimize life and bran performace\n",
        "\n",
        "**Sleep**\n",
        "\n",
        "Rest with quality for a minum of 7-8 hours per night.\n",
        "\n",
        "**Deep breathing and daily exercises**\n",
        "\n",
        "Start each of your day (no exception ) with 5-10 minutes of exercise, including deep breathing-stretching followed by addominal and finishing with a very short intense workout; perform a few 2-3 minutes of intense workouts and deep breathing at different times of your day in your office or wherever you happend to be in order to oxygen your body nd fresh your brain;\n",
        "\n",
        "**Water and chewing**\n",
        "\n",
        "Drink at lest 2 liters of water per day (no canned juice, no coke, no beer, no sugar) outside meals and drink minimally or not at all during meals (a small glass of red wine or cupo of hot green tea is fine);\n",
        "\n",
        "**Fruits, unrefined products, vitamin D and sun exposure and no meat and no diary**\n",
        "\n",
        "Eat aas much fruits with water as possible on an empty stomach  during the day, avoid meat and consume only unrefined producs and cereals; avoid bad food combination to avoid conflics betwen alkaline versus acid foods.\n",
        "\n",
        "**Power food**\n",
        "\n",
        "Onion, garlic, lemon, kiwis, almonds, nuts, dry fruits for super-performace in time of intense demand.\n",
        "\n",
        "**Play, intrinsic motivation, positivie psychology and will**\n",
        "\n",
        "Rediscover the homo ludens in yourself in things small and large so that work and life become a large playground, cultivate motivation as a self-reinforcing positive feedback virtuous circle."
      ],
      "metadata": {
        "id": "vSFMXzfOTvxa"
      }
    },
    {
      "cell_type": "markdown",
      "source": [
        "## Rutina"
      ],
      "metadata": {
        "id": "3cqLYiFHbouE"
      }
    },
    {
      "cell_type": "markdown",
      "source": [
        "- No Ejercicios\n",
        "- Desayuno: Gatorage\n",
        "- Cena: Carne, Chocorica, Pan, Arroz"
      ],
      "metadata": {
        "id": "sM4yQI6ebqlq"
      }
    }
  ]
}