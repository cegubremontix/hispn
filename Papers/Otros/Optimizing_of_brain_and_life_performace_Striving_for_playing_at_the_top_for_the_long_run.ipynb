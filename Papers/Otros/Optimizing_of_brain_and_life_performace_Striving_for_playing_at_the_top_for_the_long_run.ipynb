{
  "nbformat": 4,
  "nbformat_minor": 0,
  "metadata": {
    "colab": {
      "name": "Optimizing of brain and life performace: Striving for playing at the top for the long run.ipynb",
      "provenance": [],
      "authorship_tag": "ABX9TyNiwUjy73YG7uRhrWjANkmj",
      "include_colab_link": true
    },
    "kernelspec": {
      "name": "python3",
      "display_name": "Python 3"
    },
    "language_info": {
      "name": "python"
    }
  },
  "cells": [
    {
      "cell_type": "markdown",
      "metadata": {
        "id": "view-in-github",
        "colab_type": "text"
      },
      "source": [
        "<a href=\"https://colab.research.google.com/github/dbremont/Notas/blob/main/Papers/Otros/Optimizing_of_brain_and_life_performace_Striving_for_playing_at_the_top_for_the_long_run.ipynb\" target=\"_parent\"><img src=\"https://colab.research.google.com/assets/colab-badge.svg\" alt=\"Open In Colab\"/></a>"
      ]
    },
    {
      "cell_type": "markdown",
      "source": [
        "[Paper](https://arxiv.org/pdf/1111.4621.pdf)"
      ],
      "metadata": {
        "id": "R6xZ8ozsMMCk"
      }
    }
  ]
}