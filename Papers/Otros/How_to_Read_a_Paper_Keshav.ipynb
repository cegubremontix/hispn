{
  "nbformat": 4,
  "nbformat_minor": 0,
  "metadata": {
    "colab": {
      "name": "How to Read a Paper - Keshav.ipynb",
      "provenance": [],
      "include_colab_link": true
    },
    "kernelspec": {
      "name": "python3",
      "display_name": "Python 3"
    },
    "language_info": {
      "name": "python"
    }
  },
  "cells": [
    {
      "cell_type": "markdown",
      "metadata": {
        "id": "view-in-github",
        "colab_type": "text"
      },
      "source": [
        "<a href=\"https://colab.research.google.com/github/dbremont/Notas/blob/main/Papers/Otros/How_to_Read_a_Paper_Keshav.ipynb\" target=\"_parent\"><img src=\"https://colab.research.google.com/assets/colab-badge.svg\" alt=\"Open In Colab\"/></a>"
      ]
    },
    {
      "cell_type": "markdown",
      "source": [
        "[How to Read a Paper](http://ccr.sigcomm.org/online/files/p83-keshavA.pdf)"
      ],
      "metadata": {
        "id": "gv-C86PLYaHi"
      }
    },
    {
      "cell_type": "markdown",
      "source": [
        "## Three-Pass Approach"
      ],
      "metadata": {
        "id": "BZurgWzjVuWC"
      }
    },
    {
      "cell_type": "markdown",
      "source": [
        "### First Pass"
      ],
      "metadata": {
        "id": "N0imAlWGVv4D"
      }
    },
    {
      "cell_type": "markdown",
      "source": [
        "**Goals**\n",
        "- The first pass is a quick scan to get a bird's eye view of the paper\n",
        "- Decide wheter you need to do any more passes\n",
        "    - Do i have the right background?\n",
        "    - Do this paper answer my questions?\n",
        "- Answer the five *Cs*\n",
        "    - Category: What type of paper is this? A measurement paper? An analysis of an existing system? A description of a research prototype?\n",
        "    - Context: Which other papers is it related to? Which theoretical bases were used to analyze the problem?\n",
        "    - Correctness: Do the assumptions appear to be valid?\n",
        "    - Contributions: What are the paper's main contributions?\n",
        "    - Clarity: Is the paper well written?\n",
        "    \n",
        "\n",
        "**Time**: 25 Minutes\n",
        "\n",
        "**Steps**\n",
        "- Carefully read the title, abstract, and introduction.\n",
        "- Read the section and sub-section headings, but ignore everything else.\n",
        "- Glance at the mathematical content (if any) to determine the underlying theoretical foundations\n",
        "- Read the conclusions\n",
        "- Glance over the references, ticking off the ones you're already read\n"
      ],
      "metadata": {
        "id": "-4li5ZyPVsOb"
      }
    },
    {
      "cell_type": "markdown",
      "source": [
        "### Second Pass"
      ],
      "metadata": {
        "id": "s1qxLeeNV1m5"
      }
    },
    {
      "cell_type": "markdown",
      "source": [
        "Note terms you don't understand or questions you may want to ask to the author.\n",
        "\n",
        "**Time**: 2 Hours\n",
        "\n",
        "**Steps**\n",
        "- Look carefully at the figures, diagrams and other illustrations in the paper.\n",
        "- Mark relevant unraed references for future reading.\n",
        "\n",
        "What todo If y don't understand a paper in the second pass?\n",
        "- This may be becuase the subject matter is new to you, with unfamiliar terminology adn acronyms. \n",
        "- Authors may use a proof or experimental technique that you don't understand.\n",
        "- The paper may be poorly written with unsubstantiated assertions and numerous forward references.\n",
        "- So choose, \n",
        "    - set the paper aside,\n",
        "    - return to the material later (perhaps after reading background material),\n",
        "    - persevere and go on to the third pass"
      ],
      "metadata": {
        "id": "AJdYxy5GVzgH"
      }
    },
    {
      "cell_type": "markdown",
      "source": [
        "### Third Pass"
      ],
      "metadata": {
        "id": "VJbr2c4_WGE2"
      }
    },
    {
      "cell_type": "markdown",
      "source": [
        "In this ones try to re-implement the paper. Using the assumptions of the author re-create the work.\n",
        "\n",
        "Time: 10 hours\n",
        "\n",
        "You should identify and  challenge every assumption in every statement.\n",
        "\n",
        "How would you present an idea.\n",
        "\n",
        "Take ideas for future work.\n",
        "\n",
        "**Goals**:\n",
        "\n",
        "- Be able to reconstruct the entire structure of the paper from memory,\n",
        "- Be able to identify strong and weak points,\n",
        "- Be able to pintpoint implicit assumptions,\n",
        "- Be able to pintpoint missing citations to relevant work\n"
      ],
      "metadata": {
        "id": "gr-YlpPgV5fd"
      }
    },
    {
      "cell_type": "markdown",
      "source": [
        "## Summary"
      ],
      "metadata": {
        "id": "JpygGhThWELl"
      }
    },
    {
      "cell_type": "markdown",
      "source": [
        "With this systematic approach, prevents you from drowning in the dtails before getting an bird's eye-view. It allows me to estimate the amount of time required to review a set of papers. \n",
        "\n",
        "This approach allows you to stimate the time to read the papers."
      ],
      "metadata": {
        "id": "NZEWdqXmV8nT"
      }
    },
    {
      "cell_type": "markdown",
      "source": [
        "## Reading Strategy\n",
        "\n",
        "1. Preview the Text\n",
        "2. Annotate\n",
        "3. Outline, summarize & analyze\n",
        "4. Look for patterns/repetitions\n",
        "5. Contextualize\n",
        "6. Compare & contrast\n",
        "\n",
        "\n",
        "**Preview the Text**\n",
        "- What's in the title?\n",
        "- Abstract\n",
        "- Questions for the paper?\n",
        "\n",
        "**Annotate**\n",
        "- Discover the skeleton\n",
        "\n",
        "**Outline, summarize & analyze**\n",
        "- Sentence/paragraph form\n",
        "\n",
        "**Look for patterns/repetitions**\n",
        "- main topics, ideas that the author/s is tyring to communicate\n",
        "\n",
        "**Contextualize**\n",
        "- In which beager ideas to this paper follow.\n",
        "- What are the related ideas.\n",
        "- How does the ideas of the paper feet in my current world models\n",
        "\n",
        "**Compare & contrast**\n",
        "- Make connections\n",
        "- Main themes of the text"
      ],
      "metadata": {
        "id": "aBQc5FMvV_xF"
      }
    },
    {
      "cell_type": "markdown",
      "source": [
        "## References\n",
        "\n",
        "1. “Reading Strategies - Interrogating Texts - Research Guides at Harvard Library.” Harvard Library Research Guides, 17 September 2021, https://guides.library.harvard.edu/sixreadinghabits. Accessed 22 February 2022."
      ],
      "metadata": {
        "id": "RbnepcSfWCB9"
      }
    }
  ]
}