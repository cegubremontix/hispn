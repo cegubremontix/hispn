{
  "nbformat": 4,
  "nbformat_minor": 0,
  "metadata": {
    "colab": {
      "name": "Resilient Distributed Datasets: A Fault-Tolerant Abstraction for In-Memory Cluster Computing.ipynb",
      "provenance": [],
      "collapsed_sections": [],
      "authorship_tag": "ABX9TyOyM8RaIfnjf3pjTn0QdHhD",
      "include_colab_link": true
    },
    "kernelspec": {
      "name": "python3",
      "display_name": "Python 3"
    },
    "language_info": {
      "name": "python"
    }
  },
  "cells": [
    {
      "cell_type": "markdown",
      "metadata": {
        "id": "view-in-github",
        "colab_type": "text"
      },
      "source": [
        "<a href=\"https://colab.research.google.com/github/dbremont/Notas/blob/main/Papers/Resilient_Distributed_Datasets_A_Fault_Tolerant_Abstraction_for_In_Memory_Cluster_Computing.ipynb\" target=\"_parent\"><img src=\"https://colab.research.google.com/assets/colab-badge.svg\" alt=\"Open In Colab\"/></a>"
      ]
    },
    {
      "cell_type": "markdown",
      "source": [
        "## Abstract\n",
        "\n",
        "We present Resilient Distributed Datasets (RDDs), a distributed memory abstraction that lets programmers perform in-memory computations on large clusters in a fault-tolerant manner. \n",
        "\n",
        "RDDs are motivated by two types of applications that current computing frameworks handle inefficiently: \n",
        "- iterative algorithms and \n",
        "- interactive data mining tools. \n",
        "\n",
        "In both cases, keeping data in memory can improve performance by an order of magnitude.\n",
        "\n",
        "To achieve fault tolerance efficiently, RDDs provide a restricted form of shared memory, based on coarse-grained transformations rather than fine-grained updates to shared state. However, we show that RDDs are expressive enough to capture a wide class of computations, including recent specialized programming models for iterative jobs, such as Pregel, and new applications that these models do not capture.\n",
        "\n",
        "We have implemented RDDs in a system called Spark, which we evaluate through a variety of user applications and benchmarks."
      ],
      "metadata": {
        "id": "WPuIUL-2lJVs"
      }
    },
    {
      "cell_type": "markdown",
      "source": [
        "## Introduction"
      ],
      "metadata": {
        "id": "7qXeePWS8iiP"
      }
    },
    {
      "cell_type": "markdown",
      "source": [
        "## Resilient Distributed Datasets (RDDs)"
      ],
      "metadata": {
        "id": "b7K5UrrG8hP0"
      }
    },
    {
      "cell_type": "markdown",
      "source": [
        "## Spark Programming Interface"
      ],
      "metadata": {
        "id": "8CF-accZ8f8G"
      }
    },
    {
      "cell_type": "markdown",
      "source": [
        "## Representing RDDs"
      ],
      "metadata": {
        "id": "jORUfNFn8e1G"
      }
    },
    {
      "cell_type": "markdown",
      "source": [
        "## Implementation"
      ],
      "metadata": {
        "id": "1nC6qOB-8dpT"
      }
    },
    {
      "cell_type": "markdown",
      "source": [
        "## Evaluation"
      ],
      "metadata": {
        "id": "MadqNHQr8che"
      }
    },
    {
      "cell_type": "markdown",
      "source": [
        "## Discussion"
      ],
      "metadata": {
        "id": "Hkzl8Hty8bXS"
      }
    },
    {
      "cell_type": "markdown",
      "source": [
        "## Related Work"
      ],
      "metadata": {
        "id": "PC2i8Lku8aOO"
      }
    },
    {
      "cell_type": "markdown",
      "source": [
        "## Conclussion\n",
        "\n",
        "We have presented \"resilient distributed datasets (RDDs)\", an efficien , genera-purpose and faul-tolerant abstraction for sharing data in cluster applications.\n",
        "\n",
        "RDDs can express a wide range of parallel applications, including many specialized programming models that have been propose for iterative comptuation, and new applicatiosn thta these models do not capture."
      ],
      "metadata": {
        "id": "cnGN8upM8YIK"
      }
    },
    {
      "cell_type": "markdown",
      "source": [
        "## Referencias"
      ],
      "metadata": {
        "id": "qjNsYMkf77KD"
      }
    },
    {
      "cell_type": "markdown",
      "source": [
        "[Resumen - Michael Whittaker](https://mwhittaker.github.io/papers/html/zaharia2012resilient.html)"
      ],
      "metadata": {
        "id": "PDPWLyf279oH"
      }
    }
  ]
}