{
    "nbformat": 4,
    "nbformat_minor": 0,
    "metadata": {
        "colab": {
            "name":"The role of industry-specific, occupation-specific, and location-specific knowledge in the growth and survival of new firms.ipynb",
            "provenance": [],
            "authorship_tag": "ABX9TyOF9UT4S4S5I69TKWt/9f3N",
            "include_colab_link": true
        },
        "kernelspec": {
            "name": "python3",
            "display_name": "Python 3"
        },
        "language_info": {
            "name": "python"
        }
    },
    "cells": [
        {
            "cell_type": "markdown",
            "metadata": {
                "id": "view-in-github",
                "colab_type": "text"
            },
            "source": ["<a href=\"https://colab.research.google.com/github/dbremont/Notas/blob/main/Papers/{TYPE}/The_role_of_industry_specific__occupation_specific__and_location_specific_knowledge_in_the_growth_and_survival_of_new_firms.ipynb\" target=\"_parent\"><img src=\"https://colab.research.google.com/assets/colab-badge.svg\" alt=\"Open In Colab\"/></a>"
           ]
        },
        {
            "cell_type": "markdown",
            "source": ["[The role of industry-specific, occupation-specific, and location-specific knowledge in the growth and survival of new firms]()"
            ],
            "metadata": {
                "id": "gv-C86PLYaHi"
            }
        }
    ]
}
