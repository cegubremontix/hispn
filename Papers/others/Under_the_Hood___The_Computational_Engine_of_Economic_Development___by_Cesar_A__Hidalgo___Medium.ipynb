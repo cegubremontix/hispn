{
    "nbformat": 4,
    "nbformat_minor": 0,
    "metadata": {
        "colab": {
            "name":"Under the Hood — The Computational Engine of Economic Development | by Cesar A. Hidalgo | Medium.ipynb",
            "provenance": [],
            "authorship_tag": "ABX9TyOF9UT4S4S5I69TKWt/9f3N",
            "include_colab_link": true
        },
        "kernelspec": {
            "name": "python3",
            "display_name": "Python 3"
        },
        "language_info": {
            "name": "python"
        }
    },
    "cells": [
        {
            "cell_type": "markdown",
            "metadata": {
                "id": "view-in-github",
                "colab_type": "text"
            },
            "source": ["<a href=\"https://colab.research.google.com/github/dbremont/Notas/blob/main/Papers/{TYPE}/Under_the_Hood___The_Computational_Engine_of_Economic_Development___by_Cesar_A__Hidalgo___Medium.ipynb\" target=\"_parent\"><img src=\"https://colab.research.google.com/assets/colab-badge.svg\" alt=\"Open In Colab\"/></a>"
           ]
        },
        {
            "cell_type": "markdown",
            "source": ["[Under the Hood — The Computational Engine of Economic Development | by Cesar A. Hidalgo | Medium](https://medium.com/@cesifoti/under-the-hood-the-computational-engine-of-economic-development-49bce1a7b151#.l0we5aiy1)"
            ],
            "metadata": {
                "id": "gv-C86PLYaHi"
            }
        }
    ]
}
