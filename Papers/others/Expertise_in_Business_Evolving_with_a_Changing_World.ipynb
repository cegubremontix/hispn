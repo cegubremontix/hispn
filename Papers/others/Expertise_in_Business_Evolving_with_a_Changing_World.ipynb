{
  "nbformat": 4,
  "nbformat_minor": 0,
  "metadata": {
    "colab": {
      "name": "Expertise in Business: Evolving with a Changing World.ipynb",
      "provenance": [],
      "collapsed_sections": [],
      "authorship_tag": "ABX9TyPHwceEAMfS+t7K0A3W8Lt+",
      "include_colab_link": true
    },
    "kernelspec": {
      "name": "python3",
      "display_name": "Python 3"
    },
    "language_info": {
      "name": "python"
    }
  },
  "cells": [
    {
      "cell_type": "markdown",
      "metadata": {
        "id": "view-in-github",
        "colab_type": "text"
      },
      "source": [
        "<a href=\"https://colab.research.google.com/github/dbremont/Notas/blob/main/Papers/others/Expertise_in_Business_Evolving_with_a_Changing_World.ipynb\" target=\"_parent\"><img src=\"https://colab.research.google.com/assets/colab-badge.svg\" alt=\"Open In Colab\"/></a>"
      ]
    },
    {
      "cell_type": "markdown",
      "source": [
        "The chapter on expertise in business attempts to show how changes in society have\n",
        "influenced a greater need for expertise in business. The chapter touches on a number of\n",
        "themes. Clients teach businesses the nature of expertise while businesses help clients\n",
        "adapt to an increasingly complex and interconnected world of business. The new “expert”\n",
        "in business may not be an individual at all, but rather a high-performing and highly\n",
        "efficient team, with team-level self-awareness of who has what piece of the skill puzzle in\n",
        "addressing complex challenges. Further, all business employees probably need to be\n",
        "closer to an expert than in the past, if only to add value to a team. Lastly, pushing the\n",
        "envelope on accelerated learning can only help more people feel secure that they will be\n",
        "able to find a meaningful and rewarding role in the future workforce."
      ],
      "metadata": {
        "id": "WPuIUL-2lJVs"
      }
    }
  ]
}