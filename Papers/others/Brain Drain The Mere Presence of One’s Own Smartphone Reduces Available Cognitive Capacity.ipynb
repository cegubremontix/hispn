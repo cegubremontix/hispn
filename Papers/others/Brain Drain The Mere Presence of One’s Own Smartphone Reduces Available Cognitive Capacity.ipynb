{
 "cells": [
  {
   "cell_type": "markdown",
   "metadata": {},
   "source": [
    "Brain Drain The Mere Presence of One’s Own Smartphone Reduces Available Cognitive Capacity"
   ]
  },
  {
   "cell_type": "markdown",
   "metadata": {},
   "source": [
    "* (D)[Brain Drain The Mere Presence of One’s Own Smartphone Reduces Available Cognitive Capacity](http://0.0.0.0:8000/6%20Otros/Papers/Brain%20Drain%20The%20Mere%20Presence%20of%20One%E2%80%99s%20Own%20Smartphone%20Reduces%20Available%20Cognitive%20Capacity.pdf)"
   ]
  }
 ],
 "metadata": {
  "kernelspec": {
   "display_name": "Python 2.7.18 64-bit",
   "name": "python2718jvsc74a57bd0f92b2924b84ff19c1c3dc485f7644d4486f64738191026bf8e6de303969141b5"
  },
  "language_info": {
   "name": "python",
   "version": ""
  },
  "metadata": {
   "interpreter": {
    "hash": "f92b2924b84ff19c1c3dc485f7644d4486f64738191026bf8e6de303969141b5"
   }
  },
  "orig_nbformat": 2
 },
 "nbformat": 4,
 "nbformat_minor": 2
}