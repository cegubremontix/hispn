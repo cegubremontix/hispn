{
  "nbformat": 4,
  "nbformat_minor": 0,
  "metadata": {
    "colab": {
      "name": "Modeling TCP Throughput: A Simple Model and its Empirical Validation.ipynb",
      "provenance": [],
      "include_colab_link": true
    },
    "kernelspec": {
      "name": "python3",
      "display_name": "Python 3"
    },
    "language_info": {
      "name": "python"
    }
  },
  "cells": [
    {
      "cell_type": "markdown",
      "metadata": {
        "id": "view-in-github",
        "colab_type": "text"
      },
      "source": [
        "<a href=\"https://colab.research.google.com/github/dbremont/Notas/blob/main/Papers/others/Modeling_TCP_Throughput__A_Simple_Model_and_its_Empirical_Validation_1998.ipynb\" target=\"_parent\"><img src=\"https://colab.research.google.com/assets/colab-badge.svg\" alt=\"Open In Colab\"/></a>"
      ]
    },
    {
      "cell_type": "markdown",
      "source": [
        "[Modeling TCP Throughput: A Simple Model and its Empirical Validation(1998](http://conferences.sigcomm.org/sigcomm/1998/tp/paper25.pdf)"
      ],
      "metadata": {
        "id": "gv-C86PLYaHi"
      }
    },
    {
      "cell_type": "markdown",
      "source": [
        "We develop a simple analytic characterization of the \"steady state thorughput\" as a function of loss rate and round trip time for a bulk transfer TCP flow, e.i., a flow with an unlimited amount of data tosend."
      ],
      "metadata": {
        "id": "5AkT6HBldWhi"
      }
    },
    {
      "cell_type": "markdown",
      "source": [
        "## Introduction"
      ],
      "metadata": {
        "id": "tMOIvzF0dgSe"
      }
    },
    {
      "cell_type": "markdown",
      "source": [
        "## A Model for TCP Congestion Control"
      ],
      "metadata": {
        "id": "PuXP9P70dhuW"
      }
    },
    {
      "cell_type": "markdown",
      "source": [
        "## Measurements and Trace Analysis"
      ],
      "metadata": {
        "id": "FU0L1c5ddjje"
      }
    },
    {
      "cell_type": "markdown",
      "source": [
        "## A Discussion of the Model and the Experimental Results"
      ],
      "metadata": {
        "id": "Lm24s0sedlOF"
      }
    },
    {
      "cell_type": "markdown",
      "source": [
        "## Conclusion\n",
        "\n",
        "In this paper we presented a simple kmodel of the TCP-Reno protocol. \n",
        "The model captures the essense of TCP's congestion avoidance behavior and expresses throughput as a function of loss rate."
      ],
      "metadata": {
        "id": "LbL0gzH8db5u"
      }
    },
    {
      "cell_type": "markdown",
      "source": [
        "## References\n",
        "\n",
        "https://jvns.ca/blog/2013/11/06/day-23-started-writing-a-socket-library/\n",
        "\n",
        "https://jvns.ca/blog/2016/03/16/tcpdump-is-amazing/\n",
        "\n",
        "https://jvns.ca/blog/2016/06/30/why-do-we-use-the-linux-kernels-tcp-stack/\n",
        "\n",
        "https://jvns.ca/blog/2021/05/11/what-s-the-osi-model-/\n",
        "\n",
        "https://jvns.ca/blog/2015/11/21/why-you-should-understand-a-little-about-tcp/\n",
        "\n",
        "https://jvns.ca/blog/2014/08/12/what-happens-if-you-write-a-tcp-stack-in-python/\n",
        "\n",
        "https://jvns.ca/blog/2017/05/14/learn-tcpdump-zine/\n",
        "\n",
        "https://jvns.ca/blog/2017/04/29/new-zine--let-s-learn-tcpdump/\n",
        "\n",
        "https://jvns.ca/blog/2017/06/26/3-screencasts/\n",
        "\n",
        "https://jvns.ca/blog/2016/05/06/a-workshop-on-strace-and-tcpdump/\n",
        "\n",
        "https://jvns.ca/blog/2013/11/27/day-34b-wrapping-up-the-tcp-stack/\n",
        "\n",
        "https://jvns.ca/blog/2013/11/12/day-26-trying-to-describe-the-tcp-state-machine/\n",
        "\n",
        "https://jvns.ca/blog/2013/11/07/day-24-unit-testing-this-tcp-library/\n",
        "\n",
        "https://jvns.ca/blog/2013/11/06/day-22-got-some-tcp-packets-back/\n",
        "\n",
        "https://jvns.ca/blog/2013/11/06/day-23-started-writing-a-socket-library/\n",
        "\n",
        "https://jvns.ca/blog/2013/11/05/day-21-trying-to-tcp/\n",
        "\n",
        "https://jvns.ca/blog/2016/03/16/tcpdump-is-amazing/\n",
        "\n",
        "https://ocw.mit.edu/courses/electrical-engineering-and-computer-science/6-829-computer-networks-fall-2002/\n",
        "\n",
        "https://cs144.github.io/\n",
        "\n",
        "https://www.cs.princeton.edu/courses/archive/spr16/cos461\n"
      ],
      "metadata": {
        "id": "iu_cJM3zdexu"
      }
    }
  ]
}