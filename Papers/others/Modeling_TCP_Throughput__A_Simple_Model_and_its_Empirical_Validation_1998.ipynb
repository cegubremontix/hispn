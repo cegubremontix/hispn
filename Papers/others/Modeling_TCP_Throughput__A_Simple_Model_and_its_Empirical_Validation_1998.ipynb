{
  "nbformat": 4,
  "nbformat_minor": 0,
  "metadata": {
    "colab": {
      "name": "Modeling TCP Throughput: A Simple Model and its Empirical Validation.ipynb",
      "provenance": [],
      "include_colab_link": true
    },
    "kernelspec": {
      "name": "python3",
      "display_name": "Python 3"
    },
    "language_info": {
      "name": "python"
    }
  },
  "cells": [
    {
      "cell_type": "markdown",
      "metadata": {
        "id": "view-in-github",
        "colab_type": "text"
      },
      "source": [
        "<a href=\"https://colab.research.google.com/github/dbremont/Notas/blob/main/Papers/others/Modeling_TCP_Throughput__A_Simple_Model_and_its_Empirical_Validation_1998.ipynb\" target=\"_parent\"><img src=\"https://colab.research.google.com/assets/colab-badge.svg\" alt=\"Open In Colab\"/></a>"
      ]
    },
    {
      "cell_type": "markdown",
      "source": [
        "[Modeling TCP Throughput: A Simple Model and its Empirical Validation(1998](http://conferences.sigcomm.org/sigcomm/1998/tp/paper25.pdf)"
      ],
      "metadata": {
        "id": "gv-C86PLYaHi"
      }
    }
  ]
}