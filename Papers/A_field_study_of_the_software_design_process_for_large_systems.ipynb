{
  "nbformat": 4,
  "nbformat_minor": 0,
  "metadata": {
    "colab": {
      "name": "A field study of the software design process for large systems.ipynb",
      "provenance": [],
      "collapsed_sections": [],
      "authorship_tag": "ABX9TyOyj85GplCWEQ9eNdnaFpTH",
      "include_colab_link": true
    },
    "kernelspec": {
      "name": "python3",
      "display_name": "Python 3"
    },
    "language_info": {
      "name": "python"
    }
  },
  "cells": [
    {
      "cell_type": "markdown",
      "metadata": {
        "id": "view-in-github",
        "colab_type": "text"
      },
      "source": [
        "<a href=\"https://colab.research.google.com/github/dbremont/Notas/blob/main/Papers/A_field_study_of_the_software_design_process_for_large_systems.ipynb\" target=\"_parent\"><img src=\"https://colab.research.google.com/assets/colab-badge.svg\" alt=\"Open In Colab\"/></a>"
      ]
    },
    {
      "cell_type": "markdown",
      "source": [
        "The problems of designing large software systems were studied through interviewing personnel from 17 large projects. \n",
        "\n",
        "A layered behavioral model is used to analyze the following  problems:\n",
        "\n",
        "- the thin spread of application domain knowledge,\n",
        "- fluctuating and conflicting requirements, \n",
        "- and communicating bottlenecks and breakdowns \n",
        "\n",
        "How these problems impact software productivty and quality based on their impact on **cognitive, social, and organizational processes**?"
      ],
      "metadata": {
        "id": "WPuIUL-2lJVs"
      }
    },
    {
      "cell_type": "markdown",
      "source": [
        "## A Layered Behavioral Model of Software Development Processes"
      ],
      "metadata": {
        "id": "Vs6RVSogTf4M"
      }
    },
    {
      "cell_type": "markdown",
      "source": [
        "Studies ahve demostrated the subtantial impact of *behafioral* (i.e, human and organizationl) factors on software productivity. The effect of tools and methods were relative smalls in these studies."
      ],
      "metadata": {
        "id": "3JLb_hHrUFH3"
      }
    },
    {
      "cell_type": "markdown",
      "source": [
        "This study describes the process and mechanisms through which productivity and quality factors operate, rather than developing a quantitative assessment of their impact."
      ],
      "metadata": {
        "id": "T3_bldHyUiBr"
      }
    },
    {
      "cell_type": "markdown",
      "source": [
        "It models the behavioral (psychological, social, and organization processes) factors in different layers/levels of analysis affects productivity and quality in the software development process. \n"
      ],
      "metadata": {
        "id": "vAIWiERKVDtE"
      }
    },
    {
      "cell_type": "markdown",
      "source": [
        "## Sample and Analysis"
      ],
      "metadata": {
        "id": "2pLQNLrcZfhw"
      }
    },
    {
      "cell_type": "markdown",
      "source": [
        "## The Thin Spread of Application Domain Knowledge"
      ],
      "metadata": {
        "id": "x8B2oi_qZjCD"
      }
    },
    {
      "cell_type": "markdown",
      "source": [
        "## Fluctuating and Conflicting Requirements"
      ],
      "metadata": {
        "id": "cu2hYtNCZpOf"
      }
    },
    {
      "cell_type": "markdown",
      "source": [
        "## Communication and Coordination Breakdowns"
      ],
      "metadata": {
        "id": "BEDqR_5eZwHT"
      }
    },
    {
      "cell_type": "markdown",
      "source": [
        "## Conclusions"
      ],
      "metadata": {
        "id": "HQ47FiYMZ7E7"
      }
    },
    {
      "cell_type": "markdown",
      "source": [
        "Our interviews indicated that developing large software systems must be treated, at least in part, as a learning, communication, and negotiation process."
      ],
      "metadata": {
        "id": "y9Zmv5wvZ_Aw"
      }
    }
  ]
}