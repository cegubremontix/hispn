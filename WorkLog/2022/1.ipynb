{
  "nbformat": 4,
  "nbformat_minor": 0,
  "metadata": {
    "colab": {
      "name": "MonthNotes.ipynb",
      "provenance": [],
      "collapsed_sections": []
    },
    "kernelspec": {
      "name": "python3",
      "display_name": "Python 3"
    },
    "language_info": {
      "name": "python"
    }
  },
  "cells": [
    {
      "cell_type": "markdown",
      "source": [
        "**enero 2022**"
      ],
      "metadata": {
        "id": "k4n3_ztRw7ec"
      }
    },
    {
      "cell_type": "markdown",
      "source": [
        "Esta listo, pero hay errores ya que contabilidad necesita parte de gastos, hay que ver como se van a integrar. Probalemtne hay que hacer interfaces para compartir servicios.  Con servicios\n",
        "\n",
        "En lo que reviso todo, que creo que estará bien, puedes ir trabajando con la parte final, que es pasar la parte de contabilidad al branch 20211229-SGF-6759\n",
        "\n",
        "Recuerda que el branch fuente es: 20211202-SGF-6759"
      ],
      "metadata": {
        "id": "x3H6zlWm8xyf"
      }
    },
    {
      "cell_type": "markdown",
      "source": [
        "\n",
        "**What is the smallest unit and the largest unit of memory?**\n",
        "\n",
        "For any given hardware architecture, there is a Basic Addressable Unit (BAU), which is the smallest unit of memory with a unique address. These days it is almost always the eight-bit byte. But in the past there have been processors (such as the Intel 4004) with a four-bit BAU, and mainframes with large BAUs (e.g., the DEC-10 series which addresses 36-bit words). A few microcontrollers even are bit-addressable.\n",
        "\n",
        "For any machine which is not bit-addressable, a program can still access individual bits, but it needs to do that using bit-wise operations (such as AND, OR, and NOT) on some larger unit, such as a byte."
      ],
      "metadata": {
        "id": "OKNq2VmvuvJF"
      }
    },
    {
      "cell_type": "markdown",
      "source": [
        "Design Patterns - Anki\n",
        "\n",
        "- Expand on the facade design pattern ...\n",
        "- When to use It?\n",
        "- Software principles that informs the pattern?\n",
        "- Can you list at least three examples?"
      ],
      "metadata": {
        "id": "mO8FfVws2meU"
      }
    },
    {
      "cell_type": "markdown",
      "source": [
        "https://cs170.org/\n",
        "\n",
        "https://blog.acolyer.org/2016/09/05/on-the-criteria-to-be-used-in-decomposing-systems-into-modules/"
      ],
      "metadata": {
        "id": "KnqKs86xywsq"
      }
    },
    {
      "cell_type": "markdown",
      "source": [
        "https://devtut.github.io/java/bytecode-modification.html#what-is-bytecode\n",
        "\n",
        "[Design Patterns in Dynamic Programming](https://norvig.com/design-patterns/design-patterns.pdf)\n",
        "\n",
        "[When should the builder design pattern be used?](https://softwareengineering.stackexchange.com/questions/341196/when-should-the-builder-design-pattern-be-used)\n",
        "\n",
        "[Multiple dispatch](https://en.wikipedia.org/wiki/Multiple_dispatch)\n",
        "\n",
        "[When do you use the Bridge Pattern? How is it different from Adapter pattern?](https://stackoverflow.com/questions/319728/when-do-you-use-the-bridge-pattern-how-is-it-different-from-adapter-pattern)\n",
        "\n",
        "[Understanding the Flyweight pattern](https://stackoverflow.com/questions/23684037/understanding-the-flyweight-pattern)\n",
        "\n",
        "[What is the facade design pattern?](https://stackoverflow.com/questions/5242429/what-is-the-facade-design-pattern)\n",
        "\n",
        "[Operators](https://docs.oracle.com/javase/tutorial/java/nutsandbolts/operators.html)\n",
        "\n",
        "https://devtut.github.io/java/bytecode-modification.html#what-is-bytecode\n",
        "\n",
        "[Multi-factor authentication](https://en.wikipedia.org/wiki/Multi-factor_authentication)\n",
        "\n",
        "[Sockets](https://people.cs.rutgers.edu/~pxk/416/notes/16-sockets.html)\n",
        "\n",
        "[Eclipse - Java Build Path](https://www.tutorialspoint.com/eclipse/eclipse_java_build_path.htm)\n",
        "\n",
        "https://www.reddit.com/r/java/comments/scnkm2/reviewing_feedback_on_patterns_in_switch_brian/\n",
        "\n",
        "https://www.linkedin.com/pulse/java-sockets-io-blocking-non-blocking-asynchronous-aliaksandr-liakh/\n",
        "\n",
        "https://horstmann.com/unblog/2022-01-06/index.html\n",
        "\n",
        "https://www.azul.com/blog/understanding-java-compilation-from-bytecodes-to-machine-code/\n",
        "\n",
        "https://talktotheduck.dev/debugging-ram-java-garbage-collection-java-heap-deep-dive-part-1\n",
        "\n",
        "https://www.reddit.com/r/java/comments/sgzu34/how_to_organise_a_proper_contract_testing_solution/\n",
        "\n",
        "https://www.reddit.com/r/java/comments/sfiq9k/foreign_function_interface_in_jdk/\n",
        "\n",
        "https://docs.pact.io/\n",
        "\n",
        "https://www.azul.com/blog/understanding-java-compilation-from-bytecodes-to-machine-code/\n",
        "\n",
        "https://subconscious.substack.com/p/unconscious-r-and-d\n",
        "\n",
        "https://superset.apache.org/\n",
        "\n",
        "https://www.javaspecialists.eu/archive/Issue297-Measuring-ForkJoinPool-Parallelism.html\n",
        "\n",
        "https://www.javaspecialists.eu/archive/Issue232-ByteWatcher-from-JCrete.html\n",
        "\n",
        "https://www.baeldung.com/spring-web-flow"
      ],
      "metadata": {
        "id": "yWG2Lbbt4Uxo"
      }
    },
    {
      "cell_type": "markdown",
      "source": [
        "[SimpleDB: A Basic RDBMS Built From Scratch](https://www.awelm.com/posts/simple-db/)\n",
        "\n",
        "https://queuemulator.gh.scylladb.com/\n",
        "\n",
        "\n",
        "[Is there any IEEE 754 standard implementations for Java floating point primitives?](https://stackoverflow.com/questions/40300041/is-there-any-ieee-754-standard-implementations-for-java-floating-point-primitive)"
      ],
      "metadata": {
        "id": "q9LiRn06KEfY"
      }
    },
    {
      "cell_type": "markdown",
      "source": [
        "https://docs.openfaas.com/deployment/kubernetes/"
      ],
      "metadata": {
        "id": "S3V8hnX1XlSi"
      }
    },
    {
      "cell_type": "markdown",
      "source": [
        "https://echarts.apache.org/examples/en/index.html"
      ],
      "metadata": {
        "id": "Ds8K_1WKWeYJ"
      }
    },
    {
      "cell_type": "markdown",
      "source": [
        "[Can a biologist fix a radio?—Or, what I learned while studying apoptosis](https://www.cell.com/cancer-cell/pdf/S1535-6108(02)00133-2.pdf)\n",
        "\n",
        "[A pipe operator for JavaScript: introduction and use cases](https://2ality.com/2022/01/pipe-operator.html)\n",
        "\n",
        "[Ridiculously fast feature flags](https://engineering.backtrace.io/2021-12-19-bounded-dynamicism-with-cross-modifying-code/)\n",
        "\n",
        "[An Overview of Just-in-Time Compilation (JIT) for PostgreSQL](https://severalnines.com/database-blog/overview-just-time-compilation-jit-postgresql)\n",
        "\n",
        "[QuaC: Binary Optimization for Fast Runtime Code Generation in C (Extended Abstract)](https://www2.eecs.berkeley.edu/Pubs/TechRpts/1994/6310.html)\n",
        "\n",
        "[Synthesis: An Efficient Implementation of Fundamental Operating System Services (1992)](https://citeseerx.ist.psu.edu/viewdoc/summary?doi=10.1.1.29.4871)\n",
        "\n",
        "[What Is JIT compilation?](https://www.postgresql.org/docs/current/jit-reason.html#JIT-ACCELERATED-OPERATIONS)\n",
        "\n",
        "[Chapter 32. Just-in-Time Compilation (JIT)](https://www.postgresql.org/docs/current/jit.html)\n",
        "\n",
        "[How does ptrace POKETEXT works when modifying program text?](https://stackoverflow.com/questions/49442087/how-does-ptrace-poketext-works-when-modifying-program-text)\n",
        "\n",
        "[totally_safe_transmute, line-by-line](https://blog.yossarian.net/2021/03/16/totally_safe_transmute-line-by-line)\n",
        "\n",
        "[Ptrace allows to write to executable program segment, but process_vm_writev doesn't](https://stackoverflow.com/questions/64322172/ptrace-allows-to-write-to-executable-program-segment-but-process-vm-writev-does)\n",
        "\n",
        "[Stanford MLSys Seminar Series](https://mlsys.stanford.edu/)\n",
        "\n",
        "[]()"
      ],
      "metadata": {
        "id": "ta1IHv9f879F"
      }
    },
    {
      "cell_type": "markdown",
      "source": [
        "* [Language Models](http://veredshwartz.blogspot.com/2015/09/language-models.html)\n",
        "\n",
        "* [How to Build an Open-Domain Question Answering System?](https://lilianweng.github.io/lil-log/2020/10/29/open-domain-question-answering.html)\n"
      ],
      "metadata": {
        "id": "DcpXA8gkuwuD"
      }
    },
    {
      "cell_type": "markdown",
      "source": [
        "Seguir tratando de `transpilar -> `\n",
        "\n",
        "Translate SQL Statetements to Sigef Core + Java FormatInfor (https://leanpub.com/javaparservisited)"
      ],
      "metadata": {
        "id": "zK8YfnTcxQvd"
      }
    },
    {
      "cell_type": "markdown",
      "source": [
        "- Fragility of Software Systems\n",
        "- Convertir RDF -> Jasper\n",
        "- Glowroot\n",
        "\n"
      ],
      "metadata": {
        "id": "Q16IxRLtZlJq"
      }
    },
    {
      "cell_type": "markdown",
      "source": [
        "- Parameter based synchonization with anotation\n",
        "- GCS\n",
        "- API-SIGEF"
      ],
      "metadata": {
        "id": "Fdj0Su-Fbndy"
      }
    },
    {
      "cell_type": "markdown",
      "source": [
        "Work stream"
      ],
      "metadata": {
        "id": "lajOBz8vaBSC"
      }
    },
    {
      "cell_type": "markdown",
      "source": [
        "Abstraction One key idea of this course is that the implementation details can be hidden away from the users. For example, a user may want to use a list, but we, as implementers, can give them any implementation of a list, as long as it meets their specifications. A user should have no knowledge of the inner workings of our list."
      ],
      "metadata": {
        "id": "JHXyW-bNclhg"
      }
    },
    {
      "cell_type": "markdown",
      "source": [
        "Array Resizing When the array gets too full, we can resize the array. However, we have learned that array size cannot change. The solution is, instead, to create a new array of a larger size, then copy our old array values to the new array. Now, we have all of our old values, but we have more space to add items."
      ],
      "metadata": {
        "id": "JBnvrKfgco_H"
      }
    },
    {
      "cell_type": "markdown",
      "source": [
        "Default Methods Interfaces can have default methods."
      ],
      "metadata": {
        "id": "571H0Iwzcz0Z"
      }
    },
    {
      "cell_type": "markdown",
      "source": [
        "Herencia como sinonimo de extencion"
      ],
      "metadata": {
        "id": "gSaJZ9Fuc66c"
      }
    },
    {
      "cell_type": "markdown",
      "source": [
        "Iterator vs Iterable"
      ],
      "metadata": {
        "id": "9XlyZsncdMsY"
      }
    },
    {
      "cell_type": "markdown",
      "source": [
        "Runtime Measurement. Some natural techniques:\n",
        "\n",
        "- Measure the number of seconds that a program takes to complete using a stopwatch (either physical or in software). This tells you the actual runtime, but is dependent on the machine and inputs.\n",
        "\n",
        "- Count the number of operations needed for inputs of a given size. This is a machine independent analysis, but still depends on the input, and also doesn’t actually tell you how long the code takes to run.\n",
        "\n",
        "- Derive an algebraic expression relating the number of operations to the size of an input. This tells you how the algorithm scales, but does not tell you how long the code takes to run."
      ],
      "metadata": {
        "id": "tZM-PfVddSLk"
      }
    },
    {
      "cell_type": "markdown",
      "source": [
        "Simplfying Algebraic Runtime:\n",
        "\n",
        "- Pick an arbitrary option to be our cost model, e.g. # of array accesses.\n",
        "\n",
        "- Focus on the worst case, i.e. if the number of operations is between 1 and 2N+1, consider only the 2N+1.\n",
        "\n",
        "- Ignore small inputs, e.g. treat 2N+1 just like 2N.\n",
        "\n",
        "- Ignore constant scaling factor, e.g. treat 2N just like N.\n"
      ],
      "metadata": {
        "id": "907e96I7dePz"
      }
    },
    {
      "cell_type": "markdown",
      "source": [
        "The cost model is simply an operation that we’re picking to represent the entire piece of code. Make sure to pick an appropriate cost model! If we had chosen the number of increment operations as our cost model, we’d mistakenly determine that the runtime was proportional to N. This is incorrect since for large N, the comparisons will vastly outnumber the increments."
      ],
      "metadata": {
        "id": "bbrOhFtTeZVw"
      }
    },
    {
      "cell_type": "markdown",
      "source": [
        "Order of Growth."
      ],
      "metadata": {
        "id": "NymAX1SFeauq"
      }
    },
    {
      "cell_type": "markdown",
      "source": [
        "Prove that O(N+N2+N4+….2+1)=O(N) (hand wavy proof is okay as long as you gain the intuition)"
      ],
      "metadata": {
        "id": "Q9_f8RQhe35x"
      }
    },
    {
      "cell_type": "markdown",
      "source": [
        "What would the runtime of modified_fib be. Assume that values is an array of size n. If a value in an int array is not initialized to a number, it is automatically set to 0.\n",
        "\n",
        "```java\n",
        " public void modified_fib(int n, int[] values){\n",
        "   if(n <= 1){\n",
        "     values[n] = n;\n",
        "     return n;\n",
        "   }\n",
        "   else{\n",
        "     int val = values[n];\n",
        "     if(val == 0){\n",
        "       val = modified_fib(n-1, values) + modified_fib(n-2, values);\n",
        "       values[n] = val;\n",
        "     }\n",
        "     return val;\n",
        "   }\n",
        " }  \n",
        "```\n"
      ],
      "metadata": {
        "id": "NuSF0q2je6RF"
      }
    },
    {
      "cell_type": "markdown",
      "source": [
        "Find the runtime of running print_fib with for arbitrary large n.\n",
        "\n",
        "```java\n",
        " public void print_fib(int n){\n",
        "   for(int i = 0; i < n; i++i){\n",
        "       System.out.println(fib(i));\n",
        "   }\n",
        " }\n",
        "\n",
        " public int fib(int n){\n",
        "   if(n <= 0){\n",
        "     return 0;\n",
        "   }\n",
        "   elif(n == 1){\n",
        "     return 1;\n",
        "   }\n",
        "   else{\n",
        "     return fib(n-1) + fib(n-2);\n",
        "   }\n",
        " }\n",
        "```"
      ],
      "metadata": {
        "id": "8yVWFuGifBOm"
      }
    },
    {
      "cell_type": "markdown",
      "source": [
        "Find the runtime of this function\n",
        "\n",
        "```java\n",
        " public void melo(int N){\n",
        "   for(int i = 0; i < N*N; i++){\n",
        "     System.out.println(\"Gelo is fruit pudding\");\n",
        "   }\n",
        "   for(int i = 0; i < N*N*N; i++){\n",
        "     System.out.println(\"Zo Two the Warriors\");\n",
        "   }\n",
        " }\n",
        "```"
      ],
      "metadata": {
        "id": "X_nJkmv7fvK7"
      }
    },
    {
      "cell_type": "markdown",
      "source": [
        "Find the runtime of this function\n",
        "\n",
        "```java\n",
        " public void grigobreath(int N){\n",
        "     if(N==0){\n",
        "       return;\n",
        "     }\n",
        "     for(int i  = 0; i < N; i++){\n",
        "       System.out.println(\"Gul-great\")\n",
        "     }\n",
        "     grigobreath(N * 1/2);\n",
        "     grigobreath(N * 1/4);\n",
        "     grigobreath(N * 1/4);\n",
        " }\n",
        "```"
      ],
      "metadata": {
        "id": "R8oNVyRbfz9q"
      }
    },
    {
      "cell_type": "markdown",
      "source": [
        "Abstract Data Type. An abstract data type (ADT) is similar to an interface in that it is defined by its operations rather than its implementation. It is a layer of abstraction not tied to a particular language. Some examples of ADT’s you may have seen in class so far include Lists, Sets, and Maps. Notice that a List can be implemented in several different ways (i.e. LinkedList, ArrayList) and the idea of a List is not restricted to just Java."
      ],
      "metadata": {
        "id": "6H5NenNdf_WZ"
      }
    },
    {
      "cell_type": "markdown",
      "source": [
        "Trees. A tree consists of a set of nodes and a set of edges that connect these nodes. As there exists only one path between any two nodes, there are no cycles in a tree. If a tree is rooted, every node except the root has exactly one parent. The root has no parents, and a node with no children is considered a leaf."
      ],
      "metadata": {
        "id": "AGVYKg-0gAwt"
      }
    },
    {
      "cell_type": "markdown",
      "source": [
        "Binary Search Trees. A Binary Search Tree (BST) is a rooted binary tree that maintains several key conditions to help optimize search. For a node X, every key in the left subtree is less than X’s key and every key in the right subtree is greater than X’s key. This aids with operations such as search since when we look for the position of a key, we can move left or right within our tree starting from the root depending on how our key compares to the key of each node."
      ],
      "metadata": {
        "id": "S7HBIWsCgB6X"
      }
    },
    {
      "cell_type": "markdown",
      "source": [
        "What is the best case BST height in terms of N? Worst case?"
      ],
      "metadata": {
        "id": "nlbNPE7NgCYJ"
      }
    },
    {
      "cell_type": "markdown",
      "source": [
        "If shuffling yields logN tree height (with extremely high probability), why don’t we simply shuffle our input data before building our BST based symbol table to avoid worst case behavior?"
      ],
      "metadata": {
        "id": "ukgah9jHgI6u"
      }
    },
    {
      "cell_type": "markdown",
      "source": [
        "Give an example of something that you might like to store as a key in a symbol table for which there is no natural compare method"
      ],
      "metadata": {
        "id": "wkYVq9NugTmI"
      }
    },
    {
      "cell_type": "markdown",
      "source": [
        "Do there exist any objects for which it is impossible to define a total order? In other words, can we always write a compare method if we’re willing to do the work, or are some data types fundamentally impossible to compare other than for equality?"
      ],
      "metadata": {
        "id": "ads45I66gUd_"
      }
    },
    {
      "cell_type": "markdown",
      "source": [
        "Is the delete operation commutative? In other words, if we delete x, then y, do we always get the same tree as if we delete y, then x?"
      ],
      "metadata": {
        "id": "M6ZCAkYPgYwX"
      }
    },
    {
      "cell_type": "markdown",
      "source": [
        "Is the following implementation of hashCode() legal?\n",
        " ```\n",
        " public int hashCode() {\n",
        "     return 17;\n",
        " }\n",
        " ```"
      ],
      "metadata": {
        "id": "dLPQ41cggikv"
      }
    },
    {
      "cell_type": "markdown",
      "source": [
        "Hashing\n",
        "\n",
        "Hash function\n",
        "\n",
        "Designing good hash functions."
      ],
      "metadata": {
        "id": "bmXCc1V9gzDt"
      }
    },
    {
      "cell_type": "markdown",
      "source": [
        "Priority Queue. A Max Priority Queue (or PQ for short) is an ADT that supports at least the insert and delete-max operations. A MinPQ supposert insert and delete-min.\n",
        "\n",
        "Heaps. A max (min) heap is an array representation of a binary tree such that every node is larger (smaller) than all of its children. This definition naturally applies recursively, i.e. a heap of height 5 is composed of two heaps of height 4 plus a parent."
      ],
      "metadata": {
        "id": "2B1T1W_xg6fh"
      }
    },
    {
      "cell_type": "markdown",
      "source": [
        "Is an array that is sorted in descending order also a max-oriented heap?\n",
        "\n",
        "Why do we leave the 0th position empty in our array representation for heaps?\n",
        "\n",
        "Design a data type that supports insert in O(log N) time, find-the-median in O(1) time, and delete-the-median in O(log N) time.\n",
        "\n",
        "Design a data type that supports insert in O(log N) time, delete-the-max in O(log N) time, and delete-the-minimum in O(log N) time.\n",
        "\n",
        "\n",
        "Explain how to use a priority queue to implement the stack and queue data types.\n",
        "\n",
        "What is the minimum number of items that must be exchanged during a remove-the-max operationin a heap of size N with no duplicate keys? Give a heap of size 15 for which the minimum is achieved. Answer the same qusetion for two and three successive remove-the-maximum operations.\n",
        "\n"
      ],
      "metadata": {
        "id": "hmLilvFJg-Ae"
      }
    },
    {
      "cell_type": "markdown",
      "source": [
        "Trees. A tree consists of a set of nodes and a set of edges connecting the nodes, where there is only one path between any two nodes. A tree is thus a graph with no cycles and all vertices connected.\n",
        "\n",
        "Traversals. When we iterate over a tree, we call this a “tree traversal”.\n",
        "\n",
        "Level Order Traversal. A level-order traversal visits every item at level 0, then level 1, then level 2, and so forth.\n",
        "\n",
        "Depth First Traversals. We have three depth first traversals: Pre-order, in-order and post-order. In a pre-order traversal, we visit a node, then traverse its children. In an in-order traversal, we traverse the left child, visit a node, then traverse the right child. In a post-order traversal, we traverse both children before visiting. These are very natural to implement recursively. Pre-order and post-order generalize naturally to trees with arbtirary numbers of children. In-order only makes sense for binary trees.\n",
        "\n",
        "Graphs. A graph consists of a set of nodes and a set of edges connecting the nodes. However, unlike our tree definition, we can have more than one path between nodes. Note that all trees are graphs. In CS 61B, we can assume all graphs are simple graphs (AKA no loops or parallel edges).\n",
        "\n",
        "Depth First Traversals. DFS for graphs is similar to DFS for trees, but since there are potential cycles within our graph, we add the constraint that each vertex should be visited at most once. This can be accomplished by marking nodes as visited and only visiting a node if it had not been marked as visited already."
      ],
      "metadata": {
        "id": "szsI9xvuhfyi"
      }
    },
    {
      "cell_type": "markdown",
      "source": [
        "Suppose we run BFS from a vertex s. The edgeTo[] array we get back is sometimes known as a ‘Breadth First Paths Tree’. What, if anything, does the BFS tree tell us about the shortest path from v to w, assuming that neither is the source?"
      ],
      "metadata": {
        "id": "xy_AMI_fhsMj"
      }
    },
    {
      "cell_type": "markdown",
      "source": [
        "Develop an algorithm that determines whether or not a directed graph contains an Eulerian tour, i.e. a tour that visits every vertex exactly once."
      ],
      "metadata": {
        "id": "6DlM9XEPhuTj"
      }
    },
    {
      "cell_type": "markdown",
      "source": [
        "Minimum Spanning Trees. Given an undirected graph, a spanning tree T is a subgraph of G, where T is connected, acyclic, includes all vertices. The minimum spanning tree is the spanning tree whose edge weights have the smallest sum. MSTs are similar to SPTs, but despite intuition suggesting it may be the case, for many graphs, the MST is not the SPT for any particular vertex. "
      ],
      "metadata": {
        "id": "gX_iI8kEhvgR"
      }
    },
    {
      "cell_type": "markdown",
      "source": [
        "True or false: It is possible that the only Shortest Path Tree is the only Minimum Spanning Tree."
      ],
      "metadata": {
        "id": "rYP6QslXiKH4"
      }
    },
    {
      "cell_type": "markdown",
      "source": [
        "Tries. Analogous to LSD sort. Know how to insert and search for an item in a Trie. Know that Trie nodes typically do not contain letters, and that instead letters are stored implicitly on edge links. Know that there are many ways of storing these links, and that the fastest but most memory hungry way is with an array of size R. We call such tries R-way tries.\n",
        "\n"
      ],
      "metadata": {
        "id": "h5hR8aJliSD9"
      }
    },
    {
      "cell_type": "markdown",
      "source": [
        "When looking for a single character string in a Trie, what is the worst case time to find that string in terms of R and N?"
      ],
      "metadata": {
        "id": "iTESJActiVoa"
      }
    },
    {
      "cell_type": "markdown",
      "source": [
        "True or false: The number of character compares required to construct an R-way trie is always less than or equal to the number required to construct an LLRB."
      ],
      "metadata": {
        "id": "N_OgiRE0iYg4"
      }
    },
    {
      "cell_type": "markdown",
      "source": [
        "True or false: The number of character compares required to construct an R-way trie is always less than or equal to the number of character accesses needed to construct a hash table."
      ],
      "metadata": {
        "id": "3uoYVPMPiay3"
      }
    },
    {
      "cell_type": "markdown",
      "source": [
        "There are many different data structures that we can use to store the children of an R-way trie node. The simplest but most memory hungry choice is to create an array of length R, with one link per character in the trie. A second choice is to have each node contain a TreeMap that maps a given character to the appropriate node. A third choice is to use HashMaps instead of TreeMaps. is to have each node contain a TreeMaps, some of you used R-way trie nodes that contained HashMaps. For the “average” node, which of these three choices is likely to use the most memory? Why does this mean that this type of node takes longer to construct?"
      ],
      "metadata": {
        "id": "b5M0JiywidSQ"
      }
    },
    {
      "cell_type": "markdown",
      "source": [
        "Suppose we use an R-way trie to implement a set. For each of the three implementations of an R-way trie node described in problem 2, what are the best and worst case key lookup times in terms of R an N?"
      ],
      "metadata": {
        "id": "Kls9vfwSig1l"
      }
    },
    {
      "cell_type": "markdown",
      "source": [
        "Inversions. The number of pairs of elements in a sequence that are out of order. An array with no inversions is ordered."
      ],
      "metadata": {
        "id": "_MwP5WqBinQL"
      }
    },
    {
      "cell_type": "markdown",
      "source": [
        "Selection sort. One way to sort is by selection: Repeatedly identifying the most extreme element and moving it to the end of the unsorted section of the array. The naive implementation of such an algorithm is in place."
      ],
      "metadata": {
        "id": "ZW9GSi3fin1h"
      }
    },
    {
      "cell_type": "markdown",
      "source": [
        "Naive Heapsort. A variant of selection sort is to use a heap based PQ to sort the items. To do this, insert all items into a MaxPQ and then remove them one by one. The first such item removed is placed at the end of the array, the next item right before the end, and so forth until that last item deleted is placed in position 0 of the array. Each insertion and deletion takes O(log N) time, and there are N insertions and deletions, resulting in a O(N log N) runtime. With some more work, we can show that heapsort is θ(N log N) in the worst case. This naive version of heapsort uses θ(N) for the PQ. Creation of the MaxPQ requires O(N) memory. It is also possible to use a MinPQ instead."
      ],
      "metadata": {
        "id": "Hu9TfVlDio4J"
      }
    },
    {
      "cell_type": "markdown",
      "source": [
        "In place heapsort. When sorting an array, we can avoid the θ(N) memory cost by treating the array itself as a heap. To do this, we first heapify the array using bottom-up heap construction (taking θ(N) time). We then repeatedly delete the max item, swapping it with the last item in the heap. Over time, the heap shrinks from N items to 0 items, and the sorted list from 0 items to N items. The resulting version is also θ(N log N)."
      ],
      "metadata": {
        "id": "1vy7haqjiqH3"
      }
    },
    {
      "cell_type": "markdown",
      "source": [
        "Mergesort. We can sort by merging, as discussed in an earlier lecture. Mergesort is θ(N log N) and uses θ(N) memory."
      ],
      "metadata": {
        "id": "NBZOb0gvisHp"
      }
    },
    {
      "cell_type": "markdown",
      "source": [
        "Insertion Sort. For each item, insert into the output sequence in the appropriate place. Naive solution involves creation of a separate data structure. The memory efficient version of this algorithm swaps items one-by-one towards the left until they land in the right place. The invariant for this type of insertion sort is that every item to the left of position i is in sorted order, and everything to the right has not yet been examined. Every swap fixes exactly one inversion."
      ],
      "metadata": {
        "id": "jcvlykDIitHr"
      }
    },
    {
      "cell_type": "markdown",
      "source": [
        "Insertion Sort Runtime. In the best case, insertion sort takes θ(N) time. In the worst case, θ(N^2) time. More generally, runtime is no worse than the number of inversions."
      ],
      "metadata": {
        "id": "XnRIX9HDiudU"
      }
    },
    {
      "cell_type": "markdown",
      "source": [
        "Shell’s Sort (extra slides). Not covered on exam. Idea is to compare items that are a distance h apart from each other, starting from large h and reducing down to h=1. The last step where h=1 ensures that the array is sorted (since h=1 is just insertion sort). The earlier steps help speed things up by making long distance moves, fixing many inversions at once. Theoretical analysis of Shell’s sort is highly technical and has surprising results."
      ],
      "metadata": {
        "id": "qWA5nX-bivig"
      }
    },
    {
      "cell_type": "markdown",
      "source": [
        "Give a best and worst case input for insertion sort."
      ],
      "metadata": {
        "id": "iblditPHixIZ"
      }
    },
    {
      "cell_type": "markdown",
      "source": [
        "Which sort do you expect to run more quickly on a reversed array, selection sort or insertion sort?"
      ],
      "metadata": {
        "id": "bP78Zj2oixqc"
      }
    },
    {
      "cell_type": "markdown",
      "source": [
        "Quicksort"
      ],
      "metadata": {
        "id": "WqX1V58Ei1uV"
      }
    },
    {
      "cell_type": "markdown",
      "source": [
        "Give a worst case input for Quicksort. Assume that we’re always picking the leftmost item as our pivot.\n"
      ],
      "metadata": {
        "id": "WKs_IJ0di3HE"
      }
    },
    {
      "cell_type": "markdown",
      "source": [
        "What is the recursive depth of quicksort, in the best, worst, and average cases? This is the size of the call stack that the system needs to keep track of the recursive calls."
      ],
      "metadata": {
        "id": "0AKX0r5Pi6cu"
      }
    },
    {
      "cell_type": "markdown",
      "source": [
        "What is the recursive depth of quicksort, in the best, worst, and average cases? This is the size of the call stack that the system needs to keep track of the recursive calls."
      ],
      "metadata": {
        "id": "QIzd4onBi_k2"
      }
    },
    {
      "cell_type": "markdown",
      "source": [
        "Given that Quick sort runs fastest if we can always somehow pick the median item as the pivot, why don’t we use Quick select to find the median to optimize our pivot selection (as opposed to using the leftmost item)."
      ],
      "metadata": {
        "id": "sdvXLrYRjCY_"
      }
    },
    {
      "cell_type": "markdown",
      "source": [
        "We can make Mergesort adaptive by providing an optimization for the case where the left subarray is all smaller than the right subarray. Describe how you’d implement this optimization, and give the runtime of a merge operation for this special case."
      ],
      "metadata": {
        "id": "i527iMr-jD4H"
      }
    },
    {
      "cell_type": "markdown",
      "source": [
        "Radix Sor"
      ],
      "metadata": {
        "id": "BqQRqV6djaF2"
      }
    },
    {
      "cell_type": "markdown",
      "source": [
        "For very long random strings, would a comparison based sort or a radix sort be faster? For very long, highly similar string, which would be faster?"
      ],
      "metadata": {
        "id": "Y9b3NO1Fjce6"
      }
    },
    {
      "cell_type": "markdown",
      "source": [
        "For very long sequences of Java ints, would radix sort or a comparison sort be faster?"
      ],
      "metadata": {
        "id": "EQDwkbHijd2H"
      }
    },
    {
      "cell_type": "markdown",
      "source": [
        "Ankifi : https://testing.googleblog.com/2017/07/code-health-to-comment-or-not-to-comment.html?m=1"
      ],
      "metadata": {
        "id": "2egsKW60o6cm"
      }
    },
    {
      "cell_type": "markdown",
      "source": [
        "[Class LongAdder](https://docs.oracle.com/javase/8/docs/api/java/util/concurrent/atomic/LongAdder.html)\n"
      ],
      "metadata": {
        "id": "JvNWuVcHamNy"
      }
    },
    {
      "cell_type": "markdown",
      "source": [
        "[Gartnet hype cycle](https://en.wikipedia.org/wiki/Gartner_hype_cycle)\n",
        "\n",
        "[Gartner 2019 Hype Cycle for Emerging Technologies. What’s in it for AI leaders?](https://towardsdatascience.com/gartner-2019-hype-cycle-for-emerging-technologies-whats-in-it-for-ai-leaders-3d54ad6ffc53)"
      ],
      "metadata": {
        "id": "IB6fT819aLLR"
      }
    },
    {
      "cell_type": "markdown",
      "source": [
        "[How to execute your business ideas with no-code tools and less than $50](https://drive.google.com/file/d/1Vgk1FO_uFN6WsslYWETMNz9QhD1JEuFs/view)"
      ],
      "metadata": {
        "id": "BuXiCdDRHRlQ"
      }
    },
    {
      "cell_type": "markdown",
      "source": [
        "- https://stackoverflow.com/questions/40061263/what-is-ca-certificate-and-why-do-we-need-it\n",
        "\n",
        "- https://serverfault.com/questions/62496/ssl-certificate-location-on-unix-linux\n",
        "\n",
        "- https://en.wikipedia.org/wiki/Certificate_authority\n",
        "\n",
        "- https://www.proxmox.com/en/\n",
        "\n",
        "- https://nginxproxymanager.com/\n",
        "\n",
        "- https://www.pfsense.org/\n",
        "\n",
        "- https://medium.com/@brucifi/working-with-tls-client-certificates-f67437a9aeb9\n",
        "\n",
        "- https://www.baeldung.com/linux/curl-https-connection\n",
        "\n",
        "- https://www.baeldung.com/linux/curl-https-connection\n",
        "\n",
        "- https://medium.com/@brucifi/working-with-tls-client-certificates-f67437a9aeb9\n",
        "\n",
        "- https://stackoverflow.com/questions/44850611/where-is-the-linux-socket-implementation\n",
        "\n",
        "- https://en.wikipedia.org/wiki/Network_socket\n",
        "\n",
        "- https://docs.oracle.com/javase/7/docs/api/javax/net/ssl/SSLSocket.html\n",
        "\n",
        "- https://stackoverflow.com/questions/18787419/ssl-socket-connection\n",
        "\n",
        "- https://stackoverflow.com/questions/875467/java-client-certificates-over-https-ssl\n",
        "\n",
        "- https://dzone.com/articles/ssl-in-java"
      ],
      "metadata": {
        "id": "-ZBeqQQMRiXJ"
      }
    },
    {
      "cell_type": "markdown",
      "source": [
        "[Jakarta EE Intro](https://www.youtube.com/watch?v=bvIlaTjxVvI&t=594s)"
      ],
      "metadata": {
        "id": "Hwh3MiY0CLYc"
      }
    },
    {
      "cell_type": "markdown",
      "source": [
        "[Difference between web server, web container and application server](https://stackoverflow.com/questions/12689910/difference-between-web-server-web-container-and-application-server)\n",
        "\n",
        "[Web and Application Servers for Java](https://www.baeldung.com/java-servers)\n",
        "\n",
        "[What is ServiceLoader and how is it used?](https://stackoverflow.com/questions/52204709/what-is-serviceloader-and-how-is-it-used)\n",
        "\n",
        "[JAR File Specficiation - Servide Provider](https://www2.cs.duke.edu/csed/java/jdk1.4.2/docs/guide/jar/jar.html#Service%20Provider)"
      ],
      "metadata": {
        "id": "_20RdmLDovkM"
      }
    },
    {
      "cell_type": "markdown",
      "source": [
        "[detecting race condition using findbugs or another analysis tool](https://stackoverflow.com/questions/5571657/detecting-race-condition-using-findbugs-or-another-analysis-tool)\n",
        "\n",
        "[vmlnes, unit-testing mult-threaded applications on the JVM made easy](http://vmlens.com/)\n",
        "\n",
        "[What is the Re-entrant lock and concept in general?](https://stackoverflow.com/questions/1312259/what-is-the-re-entrant-lock-and-concept-in-general)\n",
        "\n",
        "[What is preemptive multitasking?](https://stackoverflow.com/questions/4019314/what-is-preemptive-multitasking)"
      ],
      "metadata": {
        "id": "GGkbG8RthmMD"
      }
    },
    {
      "cell_type": "markdown",
      "source": [
        "[The Block Protocol (blockprotocol.org)](https://news.ycombinator.com/item?id=30103401)\n",
        "\n",
        "-[Making the web better. With blocks!](https://www.joelonsoftware.com/2022/01/27/making-the-web-better-with-blocks/)\n",
        "\n",
        "- [blockprotocol.org](https://blockprotocol.org/)\n",
        "\n",
        "\n",
        "[Essential resources for data engineers](https://www.scling.com/reading-list/)\n",
        "\n",
        "[Mahine Learning DevOps Engineer](https://www.udacity.com/course/machine-learning-dev-ops-engineer-nanodegree--nd0821)\n",
        "\n",
        "[Data Streaming](https://www.udacity.com/course/data-streaming-nanodegree--nd029)\n",
        "\n",
        "[Pedros Domingos](https://twitter.com/pmddomingos?)\n",
        "\n",
        "[Reading List on Data Systems](https://sujithjay.com/reading-list/data-systems)\n",
        "\n",
        "[Machine Learning at Berkeley Reading List](https://ml.berkeley.edu/reading-list/)\n",
        "\n",
        "[Parallel computing](https://en.wikipedia.org/wiki/Parallel_computing)\n",
        "\n",
        "[A reading list for machine learning systems](https://jeongseob.github.io/readings_mlsys.html)\n",
        "\n",
        "[Session lived applications backends](https://driftingin.space/posts/session-lived-application-backends)\n",
        "\n",
        "[Lock-Free Locks Revisited](https://arxiv.org/pdf/2201.00813.pdf)"
      ],
      "metadata": {
        "id": "9kaHQyhnfF76"
      }
    },
    {
      "cell_type": "markdown",
      "source": [
        "[Concepts of Concurrent Programming](http://babel.ls.fi.upm.es/teaching/concurrencia/material/concepts_and_notations.pdf)\n",
        "\n",
        "[Topology and Computability](https://billwadge.com/2022/01/25/topology-and-computability/)\n",
        "\n",
        "[Mathematics for Robotics](https://github.com/michiganrobotics/rob501)\n",
        "\n",
        "[Computational Linear Algebra](https://github.com/michiganrobotics/rob101)\n",
        "\n",
        "[A Survey of B-Tree Locking Techniques](https://15721.courses.cs.cmu.edu/spring2016/papers/a16-graefe.pdf)"
      ],
      "metadata": {
        "id": "ODMqP8RcIpM9"
      }
    },
    {
      "cell_type": "markdown",
      "source": [
        "[What is SSL Client Certificate Authentication and How Does It Work?](https://cheapsslsecurity.com/p/what-is-ssl-client-certificate-authentication-and-how-does-it-work)\n",
        "\n",
        "[Unix security model](http://www.cs.cornell.edu/courses/cs114/2000FA/lecture2.pdf)\n",
        "\n",
        "[Prospect theory](https://en.wikipedia.org/wiki/Prospect_theory#Critiques)\n",
        "\n",
        "[Two resons Kubernetes is so complex](https://buttondown.email/nelhage/archive/two-reasons-kubernetes-is-so-complex/)\n",
        "\n",
        "[Abstractions, Their Algorithms, and Their Compilers](https://cacm.acm.org/magazines/2022/2/258231-abstractions-their-algorithms-and-their-compilers/fulltext)\n",
        "\n",
        "[Decompiled 2022 Beijing iOS & Android Apps](https://github.com/jonathandata1/2022_beijing)\n",
        "- They promise not to compile data, but they are doing that"
      ],
      "metadata": {
        "id": "Lj4Cd209ZsNZ"
      }
    },
    {
      "cell_type": "markdown",
      "source": [
        "Write a recursive function to compute the gcd: (Greatest common divisor)?\n",
        "\n",
        "```java\n",
        "class Solution {\n",
        "    public static int gcd(int num1, int num2){\n",
        "        return 0;\n",
        "    }\n",
        "}\n",
        "```\n",
        "\n",
        "Write a recursive function to compute all the permutation of an array [1,2,3,4]\n",
        "\n",
        "```java\n",
        "class Solution {\n",
        "    public static List<List<Integer>> permutations(List<Integer>){\n",
        "        return null;\n",
        "    }\n",
        "}\n",
        "```\n",
        "\n",
        "Make a picture of the permutation tree of `123`?\n",
        "\n",
        "Implement the Depth First Search algorithm?\n",
        "\n",
        "\n",
        "Explain the difference between Core Java and Advance Java\n",
        "\n",
        "Name a few of the significant features of the Java Programming language\n",
        "\n",
        "What do you understand about JVM, JDK, and JRE?\n",
        "\n",
        "Describe JIT compiler\n",
        "\n",
        "What is ClassLoader?"
      ],
      "metadata": {
        "id": "whJwvwNZk7iB"
      }
    },
    {
      "cell_type": "markdown",
      "source": [
        "Términos:\n",
        "\n",
        "[Grámatica](https://es.wikipedia.org/wiki/Gramática): Es el estudio de las reglas y principios que gobiernan el uso de las lenguas y la organización de las palabras dentro de unas oraciones y otro tipo de constituyentes sintácticos.\n",
        "\n",
        "[Ad hoc]()\n",
        "\n",
        "Agregation: Is the common term used for both the has-a and part-of relationships but is not limited to these. \n",
        "\n",
        "Composition: is the practice of creating other class objects in your classs. Composition relationships are **Part-of** relationships wehre `part` must constite part of the whole object.\n",
        "\n",
        "Association: "
      ],
      "metadata": {
        "id": "RHk81Ki5f2FM"
      }
    },
    {
      "cell_type": "markdown",
      "source": [
        "[Kappa Architecture](http://milinda.pathirage.org/kappa-architecture.com/)\n",
        "\n",
        "[Lamda Architecture](http://milinda.pathirage.org/kappa-architecture.com/)"
      ],
      "metadata": {
        "id": "wPUomK1eRqLU"
      }
    },
    {
      "cell_type": "markdown",
      "source": [
        "[CS149 - Parallel Computing](https://gfxcourses.stanford.edu/cs149/fall21/)\n",
        "\n",
        "[Persistent Data Structures and Managed References](https://www.infoq.com/presentations/Value-Identity-State-Rich-Hickey/)\n",
        "\n",
        "[Dining philosophers problem](https://en.wikipedia.org/wiki/Dining_philosophers_problem)\n",
        "\n",
        "[Dining philosophers in java using semaphores](https://stackoverflow.com/questions/40721763/dining-philosophers-in-java-using-semaphores)"
      ],
      "metadata": {
        "id": "Px_E7-wCoVgk"
      }
    },
    {
      "cell_type": "markdown",
      "source": [
        "[Information Hazards: A Typology of Potential Harms from Knowledge](https://www.nickbostrom.com/information-hazards.pdf)"
      ],
      "metadata": {
        "id": "pbqa0TQad58w"
      }
    },
    {
      "cell_type": "markdown",
      "source": [
        "[Distributed Transactions in Microservices with Kafka Streams and Spring Boot](https://piotrminkowski.com/2022/01/24/distributed-transactions-in-microservices-with-kafka-streams-and-spring-boot/)\n",
        "\n",
        "[Economies of scale](https://en.wikipedia.org/wiki/Economies_of_scale)\n",
        "\n",
        "[Network flow problem](https://en.wikipedia.org/wiki/Network_flow_problem)\n",
        "\n",
        "[Juan Bosh - Ideario 100 Ideas En los Cien Años de su Natalicio](https://juanbosch.org/wp-content/uploads/2019/10/Ideario-Juan-Bosch.pdf)"
      ],
      "metadata": {
        "id": "vhxET_IBOOXN"
      }
    },
    {
      "cell_type": "markdown",
      "source": [
        "[5 Best Amazon Price Tracker Tools of 2022](https://techcult.com/best-amazon-price-tracker-tools/)\n",
        "\n",
        "[What are pro/cons of push/pull data flow models?](https://stackoverflow.com/questions/981027/what-are-pro-cons-of-push-pull-data-flow-models)\n"
      ],
      "metadata": {
        "id": "MYyKj8D5vd0m"
      }
    },
    {
      "cell_type": "markdown",
      "source": [
        "[Verify repository client with certificates](https://docs.docker.com/engine/security/certificates/)\n",
        "\n",
        "[Set Up Docker with TLS](https://www.labkey.org/Documentation/wiki-page.view?name=dockerTLS)\n",
        "\n",
        "[Configure the Docker Client for Use with vSphere Integrated Containers](https://vmware.github.io/vic-product/assets/files/html/1.3/vic_app_dev/configure_docker_client.html)"
      ],
      "metadata": {
        "id": "qU8mHsNq-Z-K"
      }
    },
    {
      "cell_type": "markdown",
      "source": [
        "[Dataflow programming](https://en.wikipedia.org/wiki/Dataflow_programming)\n",
        "\n",
        "[Jakarta Enterprise Beans](https://en.wikipedia.org/wiki/Jakarta_Enterprise_Beans)\n",
        "\n",
        "- [Jakarta](https://github.com/jakartaee/enterprise-beans)"
      ],
      "metadata": {
        "id": "UrHljGmjwGOI"
      }
    },
    {
      "cell_type": "markdown",
      "source": [
        "[There is a general problem in behavioral economics that information often doesn't change behavior much even in situations where people are making outright mistakes. There are several reasons why](https://twitter.com/Jabaluck/status/1483937178820517894)\n",
        "\n",
        "[Can External Threats Foster a European Union Identity? Evidence from Russia’s Invasion of Ukraine](https://academic.oup.com/ej/advance-article-abstract/doi/10.1093/ej/ueab088/6430163?redirectedFrom=fulltext)\n",
        "\n",
        "[Thought experiments to advance real-world science](https://sites.google.com/view/fiction-science/home?authuser=0)\n",
        "\n",
        "[Trends in AI Research for the Visual Surveillance of Populations](https://cset.georgetown.edu/publication/trends-in-ai-research-for-the-visual-surveillance-of-populations/)\n",
        "\n",
        "[ACX Grants Results](https://astralcodexten.substack.com/p/acx-grants-results)\n",
        "- A set of grands give by **Astral  Coden Ten ** to several activities ranking from **molecular biology** to **prediction markets**.\n",
        "\n",
        "[A Behavioral Heterogeneous Agent New Keynesian Model](https://opfaeuti.github.io/website/BTHANK_PfaeutiSeyrich.pdf)\n",
        "\n",
        "[Econ Graphs - Intuitive interactive visualizations of key concepts in economics](https://www.econgraphs.org/)\n",
        "\n",
        "[Open Sourced Macro Models](https://github.com/dkgaraujo/OpenSourcedMacroModels)\n",
        "- A best-efforts of open-sourced macroeconomic models run by central banks and other official sector agencies (ei, ministries of economy)\n",
        "\n",
        "[QuantEcon](https://quantecon.org/)\n",
        "\n",
        "[LaMDA: Language Models for Dialog Applications](https://arxiv.org/abs/2201.08239)\n",
        "\n"
      ],
      "metadata": {
        "id": "XoAjWgUlHsHn"
      }
    },
    {
      "cell_type": "markdown",
      "source": [
        "[In what sense is the science of science a science?](https://mnielsen.github.io/scienceplusplus/what_is_sos.html)\n",
        "\n",
        "[List of lists of lists](https://en.wikipedia.org/wiki/List_of_lists_of_lists)\n",
        "\n",
        "[The Design and Implementation of the Wolfram Language Compiler](https://dakkak.dev/pdf/wolfram-compiler-cgo20.pdf)\n",
        "\n",
        "[Avoiding fallback in distributed systems](https://aws.amazon.com/builders-library/avoiding-fallback-in-distributed-systems/)"
      ],
      "metadata": {
        "id": "dIqH7BnCIc95"
      }
    },
    {
      "cell_type": "markdown",
      "source": [
        "[UK COVID-19 dashboard built using Postgres and Citus for millions of users](https://techcommunity.microsoft.com/t5/azure-database-for-postgresql/uk-covid-19-dashboard-built-using-postgres-and-citus-for/ba-p/3036276)"
      ],
      "metadata": {
        "id": "s-GfBCM9dMbO"
      }
    },
    {
      "cell_type": "markdown",
      "source": [
        "[Complex Adaptive Systems](https://web.mit.edu/esd.83/www/notebook/Complex%20Adaptive%20Systems.pdf)\n",
        "\n",
        "[Capitalism as a complex adaptive system and its growth](https://jopeninnovation.springeropen.com/articles/10.1186/s40852-017-0065-0)\n",
        "\n",
        "[From Simplistic to Complex Systems in Economics](https://www.uq.edu.au/economics/abstract/335.pdf)\n",
        "\n",
        "[Modeling Innovation: Determinants of Innovativeness and the Impact of Innovation on Firm Performance](https://research.sabanciuniv.edu/11021/1/ICMIT2008_Gunday,Ulusoy,Kilic,Alpkan.pdf)\n",
        "\n",
        "[Complex adaptive system](https://en.wikipedia.org/wiki/Complex_adaptive_system)\n",
        "\n",
        "[Mechanism design](https://en.wikipedia.org/wiki/Mechanism_design)\n",
        "\n",
        "[Diseño](https://es.wikipedia.org/wiki/Dise%C3%B1o)"
      ],
      "metadata": {
        "id": "BEDiIHLp68CE"
      }
    },
    {
      "cell_type": "markdown",
      "source": [
        "[From the People Who Brought You Voodoo Economics](https://hbr.org/1988/05/from-the-people-who-brought-you-voodoo-economics)\n",
        "\n",
        "[Carlos Medinaceli Lizarazu](https://es.wikipedia.org/wiki/Carlos_Medinaceli_Lizarazu)\n",
        "\n",
        "[Data type](https://en.wikipedia.org/wiki/Data_type)"
      ],
      "metadata": {
        "id": "zdI7nxg6TuWN"
      }
    },
    {
      "cell_type": "markdown",
      "source": [
        "- https://github.com/google/jimfs\n",
        "- https://jvns.ca/blog/2017/01/31/whats-tls/\n",
        "- https://questions.wizardzines.com/#whats-this"
      ],
      "metadata": {
        "id": "rq9OLZ7WGvD5"
      }
    },
    {
      "cell_type": "markdown",
      "source": [
        "[M68k Application Binary Interface (ABI)](https://m680x0.github.io/doc/abi)\n",
        "\n",
        "[Swagger 2.0 API integration to SpringBoot REST web service](https://medium.com/geekculture/swagger-2-0-api-integration-to-springboot-rest-web-service-part-1-basic-integration-d43948d157fe)\n",
        "\n",
        "- [employee-crud-service-swagger-blog](https://bitbucket.org/employee-crud-service-swagger-blog/employee-crud-service-swagger-blog/src/master/)"
      ],
      "metadata": {
        "id": "obnwCGx1bpsU"
      }
    },
    {
      "cell_type": "markdown",
      "source": [
        "[HighCharts JS](https://www.highcharts.com/)\n",
        "  - En Hacienda hay un wrapper java\n",
        "  - https://demo.vaadin.com/charts/\n",
        "  - https://www.hyjavacharts.com/\n",
        "  - https://github.com/adessoAG/wicked-charts\n",
        "  \n",
        "\n",
        "[JavaBeans](https://en.wikipedia.org/wiki/JavaBeans)\n",
        "\n",
        "[Java Internationalization](http://tutorials.jenkov.com/java-internationalization/index.html)\n",
        "\n",
        "[candese client : java framwork for candese workflow service](https://github.com/uber/cadence-java-client)\n",
        "\n",
        "[candense: is a distributed, scalable durable, and highly available orchestrationengine to execute asynchonous long-running business logic in a scalable and resistent way](https://github.com/uber/cadence)"
      ],
      "metadata": {
        "id": "ud692_rgy9dw"
      }
    },
    {
      "cell_type": "markdown",
      "source": [
        "[Sessionizing Uber Trips in Real Time](https://eng.uber.com/sessionizing-data/)\n",
        "\n",
        "Uber challenge of matching riders with drivers come down to the question on how to collect, store, and logically arrange data.\n",
        "\n",
        "Rider Sesion State Machine: A methodology that models the flow of all the data events that make up a single trip.\n",
        "\n",
        "We refer to the data underlying each trip as a \"session\", which begins when a user opens the Uber app. That action triggers a string of data events, from when the rider actually request a ride to the point where the trip has been completed.\n",
        "\n",
        "Why categorize uber trip data as sessión?\n",
        "- Allows uber to analyze the data,\n",
        "- Allows uber to introduce new features.\n",
        "\n",
        "How in a general way collect and store data about a system use, in order to improve the system?\n",
        "- Are the goals of the system align with the users goals?\n",
        "- Are we optimizing users goals?\n",
        "\n",
        "## The Ridder Session State Machine\n",
        "\n",
        "- We want to capture and understand the complete lifecycle of a single trip.\n",
        "\n",
        "- Uber uses a event-stream architecture as the medium of computation between components  of the \"system\".\n",
        "\n",
        "- A single request fo the api can touch several events streams, how to group this in a logical way to downstream data applications?\n",
        "\t- To group the events (organize the data) logically we use a state-machine of different user and sever-generate events towards completion of a single task. We refer to this type of state machine, consisting of raw actions, as a \"session\".\n",
        "\n",
        "Some applications of the data model in this way:\n",
        "- The demand modelling team can compare app impressions, how many people opened the app, with real-time session data, helping to understand the probability of a rider ordering a specific product after viewing it in the app.\n",
        "\n",
        "- Forecasting team can see how many sessions are in the Shopping state within a given area during a particular time window, using that information to forecast demand for that region,\n",
        "thereby helping drivers understand where they are most likely to pick up riders in the future.\n",
        "\n",
        "## Sessionization in production\n",
        "\n",
        "We used \"Spark Streaming\" to implement the Rider Session State Machine.\n",
        "\n",
        "- YARN cluster"
      ],
      "metadata": {
        "id": "Mb-0mO_cvs8v"
      }
    },
    {
      "cell_type": "markdown",
      "source": [
        "[The 2022 Quiz Problems](https://www.mathcamp.org/qualifying_quiz/current_quiz/)\n",
        "\n",
        "[Bell Labs' Plan 9 research project looks to tomorrow](http://doc.cat-v.org/plan_9/1st_edition/designing_plan_9)\n",
        "\n",
        "[Security engineering](https://www.lightbluetouchpaper.org/2022/01/19/security-engineering-course/)\n",
        "\n",
        "[DeepStack AI Server](https://deepstack.cc/)\n",
        "\n",
        "[A tour to my Zettelkasten note clusters](https://lmy.medium.com/a-tour-to-my-zettelkasten-notes-dc26a75e5257)\n",
        "\n",
        "[Postgres Indexes for Newbies](https://blog.crunchydata.com/blog/postgres-indexes-for-newbies)"
      ],
      "metadata": {
        "id": "Ak30dLbh1FXY"
      }
    },
    {
      "cell_type": "markdown",
      "source": [
        "metabase: open source visualization engine"
      ],
      "metadata": {
        "id": "BWrnrFyKVdqm"
      }
    },
    {
      "cell_type": "markdown",
      "source": [
        "[The Basics of Java Security](https://www.baeldung.com/java-security-overview)\n",
        "\n",
        "[RxJava](https://github.com/ReactiveX/RxJava)\n",
        "\n",
        "Apache Dubbo\n",
        "\n",
        "Elastic Search\n",
        "\n",
        "Apache Sorl\n",
        "\n",
        "Google Guice\n",
        "\n",
        "Netty\n",
        "\n",
        "grizzly\n",
        "\n",
        "Apache Ratis\n",
        "\n",
        "Apache Samza\n",
        "\n",
        "[Apache HttpComponents](https://hc.apache.org/)\n",
        "\n",
        "[Project Lombok](https://projectlombok.org/)\n",
        "\n",
        "[Simple Logging Facade for Java (SLF4J)](https://www.slf4j.org/)\n",
        "\n",
        "[Java Parser](https://github.com/javaparser/javaparser)\n",
        "\n",
        "[Everything About HTTPS and SSL (Java)](https://dzone.com/articles/ssl-in-java)\n",
        "\n",
        "[Atoms and Lists](https://woodrush.github.io/blog/posts/2022-01-16-neural-networks-in-pure-lisp.html)\n",
        "\n",
        "[Solving problems by mapping them to other problems that we know how to solve](https://news.ycombinator.com/item?id=29965282)\n",
        "\n",
        "[Debugging RAM - Part 1: Java Garbage Collection - Java Heap Deep Dive](https://dzone.com/articles/debugging-ram-java-garbage-collection-java-heap-de)\n",
        "\n",
        "[NullAway](https://github.com/uber/NullAway)\n",
        "\n",
        "[Maintaining a medium-sized Java library in 2022 and beyond](https://michael-simons.github.io/neo4j-migrations/maintaining-a-medium-sized-java-library-in-2022-and-beyond/)\n",
        "\n",
        "[An Anatomy of Bitcoin Price Manipulation](https://www.singlelunch.com/2022/01/09/an-anatomy-of-bitcoin-price-manipulation/)"
      ],
      "metadata": {
        "id": "HNJiYbXJ5Za8"
      }
    },
    {
      "cell_type": "markdown",
      "source": [
        "[Computational social science](https://en.wikipedia.org/wiki/Computational_social_science)\n",
        "\n",
        "[Salón de Reinos](https://es.wikipedia.org/wiki/Sal%C3%B3n_de_Reinos)\n",
        "\n",
        "[Center for Collective Learning](https://centerforcollectivelearning.org/)\n",
        "\n",
        "[Why Foreign Function Interfaces are not an easy answer](https://flameeyes.blog/2012/03/07/why-foreign-function-interfaces-are-not-an-easy-answer/)\n",
        "\n",
        "[A simple defer feature for C](http://www.open-std.org/jtc1/sc22/wg14/www/docs/n2895.htm)\n",
        "\n",
        "[Technology and Innovation for the Future of Production: Accelerating Value  Creation](https://www3.weforum.org/docs/WEF_White_Paper_Technology_Innovation_Future_of_Production_2017.pdf)\n",
        "\n",
        "[Are University Rankings Statistically Significant? A Comparison among Chinese  Universities and with the USA](https://arxiv.org/pdf/2011.08591.pdf)\n",
        "\n",
        "[Strategy](https://en.wikipedia.org/wiki/Strategy)\n",
        "\n",
        "[Milvis - An open-source vector database for embedding similarity search and AI applications](https://milvus.io/milvus-demos)\n",
        "\n",
        "Estudiar el Vino Argentino\n",
        "\n",
        "Estudiar el Vino Chileno"
      ],
      "metadata": {
        "id": "EWV9EooQrDE1"
      }
    },
    {
      "cell_type": "markdown",
      "source": [
        "[apk tool - a tool for reverse engineering Andriod apk files](https://ibotpeaches.github.io/Apktool/)\n",
        "\n",
        "[Great Readings for Researchers and Scholars](http://www.cs.virginia.edu/~robins/CS_readings.html)\n",
        "\n",
        "[Getting the Picture Too Late: Handoffs and the Effectiveness of Idea Implementation in Creative Work](https://journals.aom.org/doi/10.5465/amj.2019.1330) -  Test hypotheses \"focusing on how handing employees relatively mature ideas to implement may lead them to build less creative final products\"."
      ],
      "metadata": {
        "id": "rcH49noXIr4-"
      }
    },
    {
      "cell_type": "markdown",
      "source": [
        "[Simbiosis](https://es.wikipedia.org/wiki/Simbiosis)\n",
        "\n",
        "[Are You Sure You Want to Use MMAP in Your Database Management System?](https://db.cs.cmu.edu/papers/2022/p13-crotty.pdf)\n",
        "\n",
        "[Listado de Locuciones Latinas](https://es.wikipedia.org/wiki/Anexo:Locuciones_latinas)"
      ],
      "metadata": {
        "id": "gYCQk69z8H7H"
      }
    },
    {
      "cell_type": "markdown",
      "source": [
        "[Smalk talk](https://en.wikipedia.org/wiki/Small_talk)\n",
        "\n",
        "[Engine Cooling – Why Rocket Engines Don’t Melt](https://everydayastronaut.com/engine-cooling-methodes/)\n",
        "\n",
        "[How I build a feature](https://simonwillison.net/2022/Jan/12/how-i-build-a-feature/)\n",
        "\n",
        "[IN PRAISE OF SEARCH TOOLS](https://www.publicbooks.org/in-praise-of-search-tools/)"
      ],
      "metadata": {
        "id": "-H_jxlS0Vdk8"
      }
    },
    {
      "cell_type": "markdown",
      "source": [
        "[Grafana vs. Kibana: The Key Differences to Know](https://logz.io/blog/grafana-vs-kibana/)\n",
        "\n",
        "[Repeatable execution by Mark Seemann](https://blog.ploeh.dk/2020/03/23/repeatable-execution/) \n",
        "- Logging as a cross cutting concern\n",
        "\n",
        "[Callbacks, synchronous and asynchronous](https://blog.ometer.com/2011/07/24/callbacks-synchronous-and-asynchronous/)\n",
        "\n",
        "[Dear Sir, You Have Built a Compiler](https://rachitnigam.com/post/you-have-built-a-compiler/)\n",
        "\n",
        "[Personal Infrastructure for PhD Students](https://rachitnigam.com/post/personal-infrastructure/)\n",
        "\n",
        "[Chile Cracia](https://chilecracia.org/)\n",
        "\n",
        "[Apache Superset](https://superset.apache.org/)"
      ],
      "metadata": {
        "id": "efLZyeN-1VIB"
      }
    },
    {
      "cell_type": "markdown",
      "source": [
        "[A Quick Guide to Using Keycloak with Spring Boot](https://www.baeldung.com/spring-boot-keycloak)\n",
        "\n",
        "[Implementing OAuth 2.0 access token validation with Spring Security](https://wkrzywiec.medium.com/implementing-oauth-2-0-access-token-validation-with-spring-security-64c797b42b36)\n",
        "\n",
        "[Hamcrest](http://hamcrest.org/)"
      ],
      "metadata": {
        "id": "U9cEm2EuyA1F"
      }
    },
    {
      "cell_type": "markdown",
      "source": [
        "[The Java Version Almanac](https://javaalmanac.io/)\n",
        "\n",
        "[Finding All Classes in a Java Package](https://www.baeldung.com/java-find-all-classes-in-package)\n",
        "\n",
        "[List of Java class file format major version numbers?](https://stackoverflow.com/questions/9170832/list-of-java-class-file-format-major-version-numbers)\n",
        "\n",
        "[How We Saved 70K Cores Across 30 Mission-Critical Services (Large-Scale, Semi-Automated Go GC Tuning @Uber)](https://eng.uber.com/how-we-saved-70k-cores-across-30-mission-critical-services/)"
      ],
      "metadata": {
        "id": "KngLPSP6Zy2L"
      }
    },
    {
      "cell_type": "markdown",
      "source": [
        "[Why \"process substitution\" is a late feature in Unix shells](https://utcc.utoronto.ca/~cks/space/blog/unix/ProcessSubstitutionWhyLate)\n",
        "\n",
        "[Give me /events, not webhooks](https://blog.sequin.io/events-not-webhooks)\n",
        "\n",
        "[XMPP: An Under-appreciated Attack Surface](https://bishopfox.com/blog/xmpp-underappreciated-attack-surface)\n",
        "\n",
        "[The Hacker's Diet](https://www.fourmilab.ch/hackdiet/)\n",
        "\n",
        "[Sugar not so nice for your child’s brain development](https://news.uga.edu/sugar-not-so-nice-childs-brain-development/)\n",
        "\n",
        "[Notational intelligence](https://thesephist.com/posts/notation/)\n",
        "\n",
        "[Gambler’s Fallacy and the Regression to the Mean](https://theness.com/neurologicablog/index.php/gamblers-fallacy-and-the-regression-to-the-mean/)\n",
        "\n",
        "[Science the Endless Fronteir](https://www.nsf.gov/od/lpa/nsf50/vbush1945.htm)\n",
        "\n",
        "[Plan, do, learn: My admittedly hardcore work routine](https://www.indiehackers.com/post/plan-do-learn-my-admittedly-hardcore-work-routine-1fb500959f)\n",
        "\n",
        "[Lattice Theory for Programmers and Non Computer Scientists](http://www.elegantcoding.com/2012/09/lattice-theory-for-programmers-and-non.html)\n",
        "\n",
        "[Real-time machine learning: challenges and solutions](https://huyenchip.com/2022/01/02/real-time-machine-learning-challenges-and-solutions.html)\n",
        "\n",
        "[Azure Sphere Source Code released under GPL license by Microsoft](https://github.com/crpietschmann/AzureSphereOS)\n",
        "\n",
        "[A Plan of the English Commerce](https://en.wikipedia.org/wiki/A_Plan_of_the_English_Commerce)\n",
        "\n",
        "[fastcore](https://fastcore.fast.ai/)\n",
        "\n",
        "[typer: Typer, build great, CLIs. Easy to code. Based on Python type hints](https://github.com/tiangolo/typer)\n",
        "\n",
        "[Dask: Dask is a flexible library for parallel computing in Python](https://docs.dask.org/en/latest/)\n",
        "\n",
        "[Joblib: running Python functions as pipeline jobs](https://joblib.readthedocs.io/en/latest/)\n",
        "\n",
        "[Lattice (order)](https://en.wikipedia.org/wiki/Lattice_(order))"
      ],
      "metadata": {
        "id": "CU5XEOxz1Hfv"
      }
    },
    {
      "cell_type": "markdown",
      "source": [
        "[Java Concurrency and Multithreading Tutorial](http://tutorials.jenkov.com/java-concurrency/index.html)\n",
        "\n",
        "[Concurrency is not parallelism](https://go.dev/blog/waza-talk)"
      ],
      "metadata": {
        "id": "AEAFarHQwsqL"
      }
    },
    {
      "cell_type": "markdown",
      "source": [
        "[Single Sign-On](https://es.wikipedia.org/wiki/Single_Sign-On)\n",
        "\n",
        "[Quines (Self-Replicating Programs)](https://news.ycombinator.com/item?id=29888887)\n",
        "\n",
        "[SSH keys explained](https://dev.to/rmoff/ssh-keys-explained-2e2l)\n",
        "\n",
        "[Protocolo SSH](https://web.mit.edu/rhel-doc/4/RH-DOCS/rhel-rg-es-4/ch-ssh.html)\n",
        "\n",
        "[Secure Shell](https://es.wikipedia.org/wiki/Secure_Shell)\n",
        "\n",
        "[Explain SSH keys and validation like I'm five?](https://www.reddit.com/r/learnprogramming/comments/1enupy/explain_ssh_keys_and_validation_like_im_five/)\n",
        "\n",
        "[Brain Efficiency: Much More than You Wanted to Know](https://www.lesswrong.com/posts/xwBuoE9p8GE7RAuhd/brain-efficiency-much-more-than-you-wanted-to-know)"
      ],
      "metadata": {
        "id": "Wg-TwvPxNjS1"
      }
    },
    {
      "cell_type": "markdown",
      "source": [
        "[¿Debiéramos fabricar baterías de litio en Chile porque tenemos litio?](https://threadreaderapp.com/thread/1479866850435649540.html)\n",
        "\n",
        "[Machine Learning Toolbox](https://amitness.com/toolbox/)\n",
        "\n",
        "[Notes on Habbema et al. (2015): \"Realizing a Desired Family\"](https://colah.github.io/personal/Habbema/index.html)"
      ],
      "metadata": {
        "id": "lnFqA1ORfh-a"
      }
    },
    {
      "cell_type": "markdown",
      "source": [
        "[Model of computation](https://en.wikipedia.org/wiki/Model_of_computation)\n",
        "\n",
        "[Mike's World-O-Programming](https://mvanier.livejournal.com/2897.html)\n",
        "\n",
        "[What is a Y-combinator?](https://stackoverflow.com/questions/93526/what-is-a-y-combinator)\n",
        "\n",
        "[Good explanation of \"Combinators\" (For non mathematicians)](https://stackoverflow.com/questions/97637/good-explanation-of-combinators-for-non-mathematicians)\n",
        "\n",
        "[What are combinators and how are they applied to programming projects? (practical explanation)](https://softwareengineering.stackexchange.com/questions/117522/what-are-combinators-and-how-are-they-applied-to-programming-projects-practica)\n",
        "\n",
        "[Reflections on 10,000 Hours of Programming](https://matt-rickard.com/reflections-on-10-000-hours-of-programming/)\n",
        "\n",
        "[Beautiful ideas in programming: generators and continuations](https://www.hhyu.org/posts/generator_and_continuation/)"
      ],
      "metadata": {
        "id": "v32zTpnSCf8m"
      }
    },
    {
      "cell_type": "markdown",
      "source": [
        "[Github Actions](https://docs.github.com/en/actions)\n",
        "\n",
        "[X11 C++ Tutorial - Window, Input, Drawing](https://www.youtube.com/watch?v=qZmJwk2xrJ0)\n",
        "\n",
        "[Memory Layout of Objects in Java](https://www.baeldung.com/java-memory-layout)\n",
        "\n",
        "[Fantastic Frameworks and How to Avoid Them](https://www.youtube.com/watch?v=3ZRXw58FEOM)\n",
        "\n",
        "[WildFly Elytron](https://wildfly-security.github.io/wildfly-elytron/)\n",
        "\n",
        "[How programmers make sure that their software is correct](https://lemire.me/blog/2022/01/03/how-programmers-make-sure-that-their-software-is-correct/)\n",
        "\n",
        "[Get deadlock detection from running programm or dump in Java](https://stackoverflow.com/questions/8126711/get-deadlock-detection-from-running-programm-or-dump-in-java)\n",
        "\n",
        "[Is it legal to call the start method twice on the same Thread?](https://stackoverflow.com/questions/1215548/is-it-legal-to-call-the-start-method-twice-on-the-same-thread)\n",
        "\n",
        "[Concurrent threads adding to ArrayList at same time - what happens?](https://stackoverflow.com/questions/2715983/concurrent-threads-adding-to-arraylist-at-same-time-what-happens)\n",
        "\n",
        "[wait until all threads finish their work in java](https://stackoverflow.com/questions/7939257/wait-until-all-threads-finish-their-work-in-java)\n",
        "\n",
        "How ot use a proxy:\n",
        "\n",
        "[how to check the jdk version used to compile a .class file [duplicate]](https://stackoverflow.com/questions/1096148/how-to-check-the-jdk-version-used-to-compile-a-class-file)\n",
        "\n",
        "[Use custom JRE for Wildfly 10](https://stackoverflow.com/questions/39472217/use-custom-jre-for-wildfly-10)\n",
        "\n",
        "[Benchmarking CRuby, MJIT, YJIT, JRuby and TruffleRuby](https://eregon.me/blog/2022/01/06/benchmarking-cruby-mjit-yjit-jruby-truffleruby.html)"
      ],
      "metadata": {
        "id": "kRlsHZw6GeIp"
      }
    },
    {
      "cell_type": "markdown",
      "source": [
        "[80/20 - How to Increase Your Productivity by Doing Less](https://science.ubc.ca/students/blog/how-to-increase-your-productivity-by-doing-less)\n",
        "\n",
        "\n",
        "\n",
        "\n",
        "[Order Theory](https://en.wikipedia.org/wiki/Order_theory)\n",
        "\n",
        "\n",
        "\n",
        "[Power set](https://en.wikipedia.org/wiki/Power_set)\n",
        "\n",
        "[Planning fallacy](https://en.wikipedia.org/wiki/Planning_fallacy)\n",
        "\n",
        "[An A-Z Index of the Linux command line: bash + utilities.](https://ss64.com/bash/)\n",
        "\n",
        "[Exploring LSTMs](http://blog.echen.me/2017/05/30/exploring-lstms/)\n",
        "\n",
        "[Reflective practice](https://en.wikipedia.org/wiki/Reflective_practice)\n",
        "\n",
        "[Abductive reasoning](https://en.wikipedia.org/wiki/Abductive_reasoning)\n",
        "\n",
        "[Incremental search](https://en.wikipedia.org/wiki/Incremental_search)\n",
        "\n",
        "[Enterprise resource planning](https://en.wikipedia.org/wiki/Enterprise_resource_planning)\n",
        "\n",
        "[Architecture](https://en.wikipedia.org/wiki/Architecture)\n",
        "\n",
        "[Experience curve effects](https://en.wikipedia.org/wiki/Experience_curve_effects)\n",
        "\n",
        "[Lateral thinking](https://en.wikipedia.org/wiki/Lateral_thinking)\n",
        "\n",
        "[Getting started with qemu](https://drewdevault.com/2018/09/10/Getting-started-with-qemu.html)\n",
        "\n",
        "[Preferential attachment](https://en.wikipedia.org/wiki/Preferential_attachment)\n",
        "\n",
        "[Shebang (Unix)](https://en.wikipedia.org/wiki/Shebang_(Unix))\n",
        "\n",
        "[Reading Better](https://fs.blog/reading/)\n",
        "\n",
        "[Barbell strategy](https://en.wikipedia.org/wiki/Barbell_strategy)\n",
        "\n",
        "[Senior Java Engineer](https://stackoverflow.com/jobs/484661/senior-java-engineer-altruist)\n",
        "\n",
        "[7 Heuristics for Development](https://web.archive.org/web/20161215122251/http://inaka.net/blog/2016/05/31/seven-development-heuristics/)\n",
        "\n",
        "[The Pragmatic Pragmatic Programmer](https://rchaves.app/pragmatic-pragmatic-programmer/)\n",
        "\n",
        "[Ask HN: Resources for “Learning” Manufacturing?](https://news.ycombinator.com/item?id=29793770)\n",
        "\n",
        "[Programming in 1987 Versus Today](https://ovid.github.io/blog/programming-in-1987-versus-today.html)\n",
        "\n",
        "[Understanding UUIDs, ULIDs and String Representations](https://sudhir.io/uuids-ulids)\n",
        "\n",
        "[Practical Shell Patterns I Actually Use](https://zwischenzugs.com/2022/01/04/practical-shell-patterns-i-actually-use/)\n",
        "\n",
        "[DBOS: A DBMS-oriented Operating System](https://vldb.org/pvldb/vol15/p21-skiadopoulos.pdf)\n",
        "\n",
        "[The Feynman Learning Technique](https://fs.blog/feynman-learning-technique/)\n",
        "\n",
        "[Wave Function Collapse library in C, plus a command-line tool](https://github.com/krychu/wfc)\n",
        "\n",
        "[Call stack](https://en.wikipedia.org/wiki/Call_stack)\n",
        "\n",
        "[adidas API Guidelines](https://adidas.gitbook.io/api-guidelines/)"
      ],
      "metadata": {
        "id": "Z3JOEiSoJSLV"
      }
    },
    {
      "cell_type": "markdown",
      "source": [
        "[dura - You shouldn't ever lose your work if you're using Git](https://github.com/tkellogg/dura)\n",
        "\n",
        "[How to mentor software engineers](https://xdg.me/mentor-engineers/)\n",
        "\n",
        "https://www.bytesizedengineering.com/projects/openwheel\n",
        "\n",
        "[The HTTP QUERY Method](https://www.ietf.org/archive/id/draft-ietf-httpbis-safe-method-w-body-02.html)\n",
        "\n",
        "[Anticipo](https://economipedia.com/definiciones/anticipo.html)\n",
        "\n",
        "[How can I create nonexistent subdirectories recursively using Bash?](https://stackoverflow.com/questions/1731767/how-can-i-create-nonexistent-subdirectories-recursively-using-bash)"
      ],
      "metadata": {
        "id": "DTnvLTIpp-wx"
      }
    },
    {
      "cell_type": "markdown",
      "source": [
        "Listado de Objetivos:\n",
        "\n",
        "- Typing: [80-100] wpm\n",
        "- Inversion Casa\n",
        "- Java Mastery\n",
        "- VIM Mastery\n",
        "- 12 Blogs\n",
        "  - MySql\n",
        "  - SQLite\n",
        "  - postgresql\n",
        "  - hybernate\n",
        "  - ..."
      ],
      "metadata": {
        "id": "J2RzODnjPnAs"
      }
    },
    {
      "cell_type": "markdown",
      "source": [
        "[Type system](https://en.wikipedia.org/wiki/Type_system)\n",
        "\n",
        "[An Algorithm for Passing Programming Interviews](https://malisper.me/an-algorithm-for-passing-programming-interviews/)\n",
        "\n",
        "[Write like you code](https://www.chrisbehan.ca/posts/write-like-you-code)\n",
        "\n",
        "[No Trash Search](https://notrashsearch.github.io/)\n",
        "\n",
        "[How video works](https://howvideo.works)\n",
        "\n",
        "[How the MFA swallowed literature - On the total world-domination of workshopped fiction](https://erikhoel.substack.com/p/how-the-mfa-swallowed-literature)\n",
        "\n",
        "[Tips for making writing more fun (davnicwil.com)](https://news.ycombinator.com/item?id=29786007)\n",
        "\n",
        "[Snipping tool in ubuntu 16.04](https://askubuntu.com/questions/828770/snipping-tool-in-ubuntu-16-04)"
      ],
      "metadata": {
        "id": "ilrZi3eWw-9t"
      }
    }
  ]
}