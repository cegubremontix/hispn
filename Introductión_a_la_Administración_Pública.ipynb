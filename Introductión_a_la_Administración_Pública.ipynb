{
  "nbformat": 4,
  "nbformat_minor": 0,
  "metadata": {
    "colab": {
      "name": " Introductión a la Administración Pública.ipynb",
      "provenance": [],
      "collapsed_sections": [],
      "toc_visible": true,
      "authorship_tag": "ABX9TyMWyz/hVIYJfrFhFhp3GcFv",
      "include_colab_link": true
    },
    "kernelspec": {
      "name": "python3",
      "display_name": "Python 3"
    },
    "language_info": {
      "name": "python"
    }
  },
  "cells": [
    {
      "cell_type": "markdown",
      "metadata": {
        "id": "view-in-github",
        "colab_type": "text"
      },
      "source": [
        "<a href=\"https://colab.research.google.com/github/dbremont/Notas/blob/main/Introducti%C3%B3n_a_la_Administraci%C3%B3n_P%C3%BAblica.ipynb\" target=\"_parent\"><img src=\"https://colab.research.google.com/assets/colab-badge.svg\" alt=\"Open In Colab\"/></a>"
      ]
    },
    {
      "cell_type": "markdown",
      "metadata": {
        "id": "mTBFS5XdFWqR"
      },
      "source": [
        "## 1 Nociones sobre la organización del Estado"
      ]
    },
    {
      "cell_type": "markdown",
      "metadata": {
        "id": "rR-nn55HFYEa"
      },
      "source": [
        "Objetivos Unidad:\n",
        "\n",
        "- Fines y propósitos del Estado,\n",
        "- la forma de organización del sector público y \n",
        "- sus leyes que le regulan.\n",
        "\n",
        "**Administración Pública**\n",
        "\n",
        "**Principios de la Administración Pública**\n",
        "\n",
        "**Órgano Individuo**\n",
        "\n",
        "**Organo Institucion**\n",
        "\n",
        "**Organo Constitucionales**\n",
        "\n",
        "**Administracion Publica Central**\n",
        "\n",
        "**Consejo de Ministros**\n"
      ]
    },
    {
      "cell_type": "markdown",
      "metadata": {
        "id": "qEG96_xlPdbe"
      },
      "source": [
        "**Que es el estado**\n",
        "\n",
        "Un Estado es una organización política constituida por un conjunto de instituciones burocráticas estables, a través de las cuales ejerce el monopolio del uso de la fuerza (soberanía) aplicada a una población dentro de unos límites territoriales establecidos.\n",
        "\n",
        "La republica dominicana es un estado unitario y en el presidente convergen **jefe de gobierno** y **jefe de estado**.\n",
        "\n",
        "**Que es el gobierno**\n",
        "\n",
        "Conjunto de personas que administran el estado por un determinado tiempo, en democracia estos son elegidos.\n",
        "\n",
        "Ejercen el poder político, estratégico, de dirección del Estado que la ciudadanía elige democráticamente mediante la elección del Presidente de la República, máxima autoridad del gobierno y que organiza a partir de su\n",
        "Gabinete Ministerial.\n",
        "\n",
        "**Que es el sector publico**\n",
        "\n",
        "Todas las instituciones, órganos, entes y demás formas de organización del Estado, es lo que conocemos con el Sector Público.\n",
        "\n",
        "**Administración publica**\n",
        "\n",
        "**Función administrativa**\n",
        "\n",
        "**principios de actuación de la función pública los siguientes**\n",
        "\n",
        "- Eficacia,\n",
        "- Jerarquia,\n",
        "- Objetividad,\n",
        "- Igualdad,\n",
        "- Transparencia,\n",
        "- Publicidad,\n",
        "- Economía (Eficencia),\n",
        "- Coordinación,\n",
        "- Juridicidad\n",
        " \n",
        "\n",
        "**Entidades, entes, organos y organismos del Estado**\n",
        "\n",
        "- **Ente**: podemos entender aquellas figuras orgánicas del Estado dominicano en las que se ha concretizado y que cuentan con personería jurídica, son titulares de competencias y prerrogativas públicas. Para la normativa dominicana se consideran “Entes públicos” el Estado, el Distrito Nacional, los municipios, los distritos municipales y los organismos autónomos y descentralizados provistos de personalidad jurídica de derecho público.\n",
        "\n",
        "- **Organos**,  a las   unidades administrativas habilitadas a ejercer en nombre de los entes públicos las compotencias que se les atribuyen.\n",
        "\n",
        "**Organismos e Instituciones**\n",
        "\n",
        "Por organismos e instituciones podemos entender a la razón social de derecho público que forma parte de la administración pública de gobierno central o del Estado, que bajo una organización administrativa ejercen una competencia de un ente del Estado de forma centralizada, descentralizada o autónoma.\n",
        "\n",
        "**Entidades autonomas**\n",
        "\n",
        "Organismos autónomos a aquellos que son dotados desde su concepción\n",
        "con total independencia administrativa, presupuestaria, de personería jurídica, jerárquica, territorial y con autoridad para la designación de sus propias autoridades.\n",
        "\n",
        "**Entidades centralizadas**\n",
        "\n",
        "**Entidades descentralizadas**\n",
        "\n",
        "**Tipos de descentralizacion administrativa**\n",
        "\n",
        "La descentralización administrativa constituye una forma de organización administrativa que conlleva la transferencia de competencias o funciones administrativa públicas a personas jurídicas públicas diferentes del Estado para que las ejerzan en su propio nombre y bajo su propia responsabilidad.\n",
        "\n",
        "- Descentralización territorial,\n",
        "- Descentralización funcional.\n",
        "\n",
        "\n",
        "**Desconcentracion Administrativa**\n",
        "\n",
        "Se refiere a la atribución de porciones de competencias a órganos inferiores, pero siempre dentro de la misma organización o ente estatal del que se trata. \n",
        "\n",
        "**La Función Pública**\n",
        "\n",
        "Figura jurídica en torno al cual interactúan el poder público representado en la autoridad delegada por la sociedad en su conjunto y quienes se vinculan al servicio bajo una sumisión jerárquica y de “dedicación exclusiva” para actuar en favor del interés general y que se conoce como la **Función Pública**.\n",
        "\n",
        "\n",
        "**Servidor  publico o funcionario**\n",
        "\n",
        "Para la ley de función pública, se considera servidor público aquella persona que ejerce un cargo permanente de la función pública, designado por autoridad competente.\n",
        "\n",
        "**Funcionarios o servidores publicos de libre nombramiento y remocion**\n",
        "\n",
        "Servidores públicos que ocupan Cargos de Alto Nivel.\n",
        "\n",
        "-  Secretarios de Estado\n",
        "-  Consultor Jurídico del Poder Ejecutivo, Contralor General\n",
        "de la República, y Procurador General de la República;\n",
        "- Directores Nacionales y Generales y Subdirectores;\n",
        "- etc .\n",
        "\n",
        "**Funcionarios o servidores publicos de carrera**\n",
        "\n",
        "La carrera administrativa es una condición o prerrogativa que se adquiere para ostentar cargos clasificados de carrera, mediante la participación y cumplimiento de los requisitos establecidos para los concursos públicos en las diferentes categorías que establece la ley de función pública y sus reglamentos correspondientes, y que superadas\n",
        "dichas pruebas e instrumentos de evaluación es nombrado por autoridad competente para desempeñar dicho cargo.\n",
        "\n",
        "**Funciono o servidores publicos de estatudo simplificado**\n",
        "\n",
        "Por funcionario o servidor público de estatuto simplificado se entiende a aquellos que\n",
        "desempeñan tareas de servicios generales y oficios afines tales como:\n",
        "\n",
        "- Concerjes, porterías, etc.\n",
        "\n",
        "**Empleados temporales**\n",
        "\n",
        "\n",
        "\n",
        "**Organos rectores de la administracion publica**\n",
        "\n",
        "La administración pública es una actividad muy regulada en la que los servidores públicos someten su disciplina para contribuir al cumplimiento de los fines públicos para el que fueron creadas las instituciones públicas.\n",
        "\n",
        "- Camara de Cuentas de la República Dominicana,\n",
        "\n",
        "- Contraloría General Republica (CGR),\n",
        "\n",
        "- Dirección General de Bienes Nacionales,\n",
        "\n",
        "- Dirección General de Contabilidad Gubernamental (DIGECOG),\n",
        "\n",
        "- Dirección General de Contrataciones Públicas (DGCP),\n",
        "\n",
        "- Dirección General de Crédito Publico,\n",
        "\n",
        "- Dirección General de Ética e Integridad Gubernamental (DIGEIG),\n",
        "\n",
        "- Dirección General de Presupuesto (DIGEPRES),\n",
        "\n",
        "- Instituto Nacional de Adminsitración Pública (INAP),\n",
        "\n",
        "- Oficina Presidencial de Tecnologicas y de la Información y Comunicación (OPTIC),\n",
        "\n",
        "- Ministerio de Adminsitracion Pública (MAP),\n",
        "\n",
        "- Ministerio de Economía, Planificación y Desarollo  (MEPyD),\n",
        "\n",
        "- Tesorería Nacional"
      ]
    },
    {
      "cell_type": "markdown",
      "metadata": {
        "id": "ag4RzV3hIySC"
      },
      "source": [
        "Significado de ser un servidor público?\n",
        "\n",
        "Ser funcionario publico significa, trabajar por y para los ciudadanos de un estado. Se tiene la responsabilidad de brindar  servicios de calidad para facilitar y no impedir el progreso de los ciudadanos/pais.\n",
        "\n",
        "De los funcionarios publicos se espera que no sean el punto de atasco en la vida de los ciudadanos.\n",
        "\n",
        "\n",
        "\n",
        "- Es una dependencia del Poder Ejecutivo creada con la finalidad de  ejercer la fiscalización interna y la evaluación del  debido recaudo, manejo, uso e inversión de los recursos:\n",
        "\n",
        "rocura salvaguardar lasprerrogativas e impedir el abuso de poder, así como la inobservancia al régimen de deberes y responsabilidades ante las instancias jurisdiccionales correspondientes:\n",
        "  - Tutele judicial,\n",
        "  - "
      ]
    },
    {
      "cell_type": "markdown",
      "metadata": {
        "id": "nVmVI0IzD9Y5"
      },
      "source": [
        "# 2 La organización del sector público"
      ]
    },
    {
      "cell_type": "markdown",
      "metadata": {
        "id": "04Zcjkw7MIf8"
      },
      "source": [
        "## Presentacion"
      ]
    },
    {
      "cell_type": "markdown",
      "metadata": {
        "id": "Kf-Zjs4ZEXvJ"
      },
      "source": [
        "Los poderes del estado\n",
        "\n",
        "- Legislativo : Lesgila y fiscaliza en representacion del pueblo.\n",
        "   - Senado,\n",
        "   - Camara de Diputados\n",
        " \n",
        "  -  Atribuciones lesgilativas:\n",
        "    - establecer inpuestos,\n",
        "    - verificar las observaciones que el poder ejecutivo haga de las leyes,\n",
        "    - votar anualmente la ley de presupuesto general del estado,\n",
        "    - aprobar o desaprobar los tratados y convenciones internaciones que subcriba el **poder ejecutivo**\n",
        "\n",
        "  - Fiscalizacio y control\n",
        "    - examinar anualmente todos los actos del poder ejecutivo.\n",
        "    - citar a funcionarios del estado antes las comiciones permanentes del congreso,\n",
        "    - supervisar todas las politicas publicas que implemente el gobierno,\n",
        "    - nombrar comisiones permanentes y especiales, para investigar cualquier asunto que resulte de intereses publico, y rindan el informe correspondiente\n",
        "\n",
        "> \"Para que no se pueda abusar del poder hace falta que, por la disposición de las cosas, el poder detenga al poder\". Montesquie\n",
        "\n",
        "- "
      ]
    },
    {
      "cell_type": "markdown",
      "metadata": {
        "id": "4-Py5AOpMGNW"
      },
      "source": [
        "## La organizacion del sector publico"
      ]
    },
    {
      "cell_type": "markdown",
      "metadata": {
        "id": "KyEPlHLfND8-"
      },
      "source": [
        "- La nocion de pueblo, para formar el estado y organizar el gobierno.\n",
        "\n",
        "- Formas de ver el estado:\n",
        "  - unidad territorial que cuenta con soberania y que le distingue de otros Estados,\n",
        "  - unidad politica que unifica un pueblo en base al cual se constituye un estado dominicao republica dominicana ...\n",
        "\n",
        "El modelo que ha adoptado el gobierno ode la nacion es civil, republicano, democratico y representativo y que se concretiza en el poder publico administrado desde tres **ejes fundamentales del poder**:\n",
        "  - la representacion (poder legislativo),\n",
        "  - la administracion de la justicia (poder judicial),\n",
        "  - administracion publica (poder ejecutivo)\n",
        "\n",
        "Sistema de contrapesos"
      ]
    },
    {
      "cell_type": "markdown",
      "metadata": {
        "id": "aJPiR3bRMpwO"
      },
      "source": [
        "### Los poderes del Estado"
      ]
    },
    {
      "cell_type": "markdown",
      "metadata": {
        "id": "RyVZ9YXzMBKH"
      },
      "source": [
        "**Los poderes del Estado**\n",
        "\n",
        "Emana y se ejerce en nombre del pueblo, por lo que se conoce como el **poder más representativo**.\n",
        "\n",
        "Contituido por el congreso nacional, senado y camara de diputados.\n",
        "\n",
        "**Poder Legislativo**\n",
        "\n",
        "**El senado** de la republica esta intregados por miembros de la 31 provincias y el distrito nacional. \n",
        "\n",
        "**La camara de diputados** esta integrada por miembros elejidos en razon de uno para cada una de las circunscripcioens territoriales distribuidas en proprcion a al densidad poblacional del país. Estas circunscripcioens electorales so ndeterminadas por la autoridad electroal, la junta central electoral, ...\n",
        "\n",
        "Actualmente la **camara de diputados** tiene 190 escaños.\n",
        "\n",
        "**Poder Judicial**\n",
        "\n",
        "- Suprema corte de justicia,\n",
        "- tribunales ...\n",
        "\n",
        "- la integracion del poder judicial se hace en bae a la **carrera judicial** que conforme a la ley regula ingreso, formacion, ascenso, promocion, desvinculacion y retiro de jueces, bajos los principios de merito, capacidad y profesionalidad.\n",
        "\n",
        "- requisitos para la suprema corte de justicia\n",
        "- composicion del tribunacl constitucional y el tribunal superior electoral\n",
        "\n",
        "- El órgano de administración y disciplina del Poder Judicial es el Consejo del Poder\n",
        "Judicial\n",
        "\n",
        "- El Poder Judicial también ejerce una función de contrapeso del Poder político, por lo\n",
        "que dentro de sus autoridades está el control de legalidad de la administración\n",
        "pública.\n",
        "\n",
        "**Poder Ejecutivo**\n",
        "\n",
        "Poder reside en el pueblo es ejercido por el presidente o la presidenta de la republica sobre quien recae la figura de jefe de estado  y jefe de gobierno. se elige mediante voto universal  y directo, para la cual se requiere cumplir con los siguientes requisitos.\n",
        " \n",
        " - ....\n",
        "\n",
        "- El presidente es el jefe del estado y jefe del gobierno.\n",
        "\n",
        "- ministros,\n",
        "- no mas de 6 viceministros por cada ministerio\n",
        "\n"
      ]
    },
    {
      "cell_type": "markdown",
      "metadata": {
        "id": "qmj9lnDhMt-2"
      },
      "source": [
        "### Articulo 80: Atribuciones - Son atribuciones exclusivas del senado"
      ]
    },
    {
      "cell_type": "markdown",
      "metadata": {
        "id": "AzLEwaixPi2t"
      },
      "source": [
        "- Conocer de las acusacioes formuladas por la camara de diputados contra las y los funcionarios publicos señalados en el articulo 83, ...\n",
        "\n",
        "- aprobar o desaprobar los nombramientos de embajadores y jefes de misiones permantes acreditados en el exterior que le someta el Presidente de la Republica\n",
        "\n",
        "- Elegir los miembros de la camara de cuentas de las ternas representadas por la camara de diputos.\n",
        "\n",
        "- Elegir los miembros de la junta central electoral y sus suplentes, con el voto de las dos terceras partes de los presentes;\n",
        "\n",
        "- Elegir al defensor del pueblo, sus suplentes y sus adjuntos, a partir de las ternas que le presente la camara de diputados, con el voto de las dos terceras partes de los presentes;\n",
        "\n",
        "- autorizar, previa solicitud del presidente de la republica, en ausencia de convenio que lo permita, la presencia de tropas extranjeras en ejercicios militares en el territorio de la republica dominica, asi como determinar el tiempo y las condiciones de sus estadia.\n",
        "\n",
        "- aprobar o desaprobar el envio al extranjero de tropas en misiones de paz, autorizadas por organismos internaciones, fijando las doncieione sy duracion de dichas mision."
      ]
    },
    {
      "cell_type": "markdown",
      "metadata": {
        "id": "QuyC162ZR8iB"
      },
      "source": [
        "### Atribuciones del la camara de diputados"
      ]
    },
    {
      "cell_type": "markdown",
      "metadata": {
        "id": "fMSdiELOR_FF"
      },
      "source": [
        "- acusar ante el senado a las/los funcionadrios publicvos elegidos por voto popular, a los elegidos  po rel senado y por el consejo nacional de la magistartura, por la comision de faltas graves en el ejercicios de sus funciones.\n",
        "\n",
        "- someter al senado las ternas para la eleccion de los miembros de la camara de cuentas con el voto favorable de las dos terceras partes de los presentes;\n",
        "\n",
        "- someter al senado las ternas del Defensor del pueblo, sus suplentes, que on podran ser mas de dos, y los adjuntos, que on podran ser mas de cinco, con el voto favorable de las dos terceras partes de los presentes.\n"
      ]
    },
    {
      "cell_type": "markdown",
      "metadata": {
        "id": "IFiG7qj6Mye2"
      },
      "source": [
        "### Diferencias entre el gobierno nacional y local"
      ]
    },
    {
      "cell_type": "markdown",
      "metadata": {
        "id": "ukWtLEnMWCRo"
      },
      "source": [
        "La republica dominicana es un estado unitario, modalidad de organizacion territorial y politica diferente a los estados federados.\n",
        "\n",
        "**Regimen de municipios**, concebido para establecer una gestión descentralizada que procura ola transferencia de ciertas compentencias del Estado a los gobiernos locales que lo adminsitran en nombre dle pueblo que representan."
      ]
    },
    {
      "cell_type": "markdown",
      "metadata": {
        "id": "bZfir0WqYCZv"
      },
      "source": [
        "## Preguntas"
      ]
    },
    {
      "cell_type": "markdown",
      "metadata": {
        "id": "Gp8C_sxnXIpC"
      },
      "source": [
        "- Es el máximo órgano de coordinación estratégica de las políticas públicas y de los asuntos generales de la acción de gobierno: \n",
        "  - Consejo de Ministros\n",
        "\n",
        "- actividad específica y continua del Estado, encaminada a satisfacer necesidades inmediatas de los individuos que integran la sociedad.  - administración pública\n",
        "\n",
        "- Órgano rector de la Administración Pública\n",
        "  - Ministerio de Administración Publica\n",
        "\n",
        "- Consiste en el traslado mediante disposición jurídica de actividades que corresponden a un órgano superior a otro que le es jerárquicamente inferior, pero no implica transferencia de titularidad de competencias ni de recursos económicos, mucho menos dotación de personalidad jurídica:\n",
        "  - Desconcentración\n",
        "\n",
        "- Tiene a su cargo administrar justicia para decidir sobre los conflictos entre personas físicas o morales, en derecho privado o público, en todo tipo de procesos, juzgando y haciendo ejecutar lo juzgado\n",
        "  - Poder Judicial\n",
        " \n",
        "- Ejerce la dirección superior del aparato administrativo en su conjunto, con el propósito de garantizar una gestión administrativa armónica y eficiente:\n",
        "  - Presidente de la Republica\n",
        "  - me la pusieron mal, [pero ver material](https://mt.gob.do/transparencia/images/docs/marco_legal_de_transparencia/leyes/2018/Ley-247-12-Organica-Administracion-Publica2c-de-fecha-9-de-agosto-de-2012.pdf)\n",
        "\n",
        "- El Gobierno de la Nación dominicana se divide en:\n",
        "  - Poder Legislativo, Ejecutivo y Judicial\n",
        "\n",
        "- La República Dominicana es un Estado:\n",
        "  - Social y Democrático de Derecho\n",
        "\n",
        "- Es la instancia judicial que se encarga de conocer de los recursos contenciosos contra los actos, actuaciones y disposiciones de autoridades administrativas contrarias al Derecho como consecuencia de las relaciones entre la Administración del Estado y los particulares:\n",
        "  -  \n",
        "Tribunal Superior Administrativo\n"
      ]
    },
    {
      "cell_type": "markdown",
      "metadata": {
        "id": "uR1onDJSbKZ2"
      },
      "source": [
        "## 3 Leyes transversales a la administracion publica"
      ]
    },
    {
      "cell_type": "markdown",
      "metadata": {
        "id": "XbWTePMf_V7Y"
      },
      "source": [
        "- Constitucion\n",
        "\n",
        "- Ley 247-12 Organica de la Administracion Publica\n",
        "\n",
        "- Ley 107-13: Sobre los Derechos de las Personas en sus Relaciones con la Administración y de Procedimiento Administrativo\n",
        "\n",
        "- Ley 41-08 de la funcion publica: trata sobre las relaciones laborales de los servidores públicos en el Estado, incluyendo los municipios, pero excluyendo los cargos de elección popular, Junta Central Electoral, Cámara de Cuentas, personal militar y policial, así como las entidades que tienen relaciones de trabajo por el código de trabajo l\n",
        "\n",
        "- 200-04 Ley de acceso a la informacion publica"
      ]
    },
    {
      "cell_type": "markdown",
      "metadata": {
        "id": "JiE1BgGM9x1n"
      },
      "source": [
        "- Supremasia de la constitución\n",
        "\n",
        "- Derecho a la igualdad\n",
        "\n",
        "- Derechos del consumidor\n",
        "\n",
        "- Garantías de los derechos fundamentales\n",
        "\n",
        "- Función Pública\n",
        "\n",
        "- Régimen de compensación\n",
        "\n",
        "- Proteccion de la funcion publica\n",
        "  - Los empleados de carrera no pueden ser separados en violacion al regimen de la Funcion Publica.\n",
        "\n",
        "- Finalidad de servicios públicos"
      ]
    },
    {
      "cell_type": "markdown",
      "metadata": {
        "id": "ZwgTKqBQBICJ"
      },
      "source": [
        "**Leyes transversales a la administración pública**\n",
        "\n",
        "1. Constitución de la Republica Dominicana\n",
        "2. Ley No. 41-08 Funcion Publica\n",
        "3. Ley No. 247-12, Organica de la Administracion Publica, del 14 de agosto del 2021\n",
        "4. Ley 107-13 sobre los Derechos de las Personas en sus relaciones con la Administración y de Proced\n",
        "\n",
        "\n",
        "**Incidencia a Nivel Personal y organizacional**\n",
        "\n",
        "**Deberes de la Administracion Publica y del personal a su servicio en materia de información al público**\n",
        "\n",
        "5. Ley General de Libre Acceso a la Información Pública no. 200-04 del 25 de febrero de 2005\n",
        "\n",
        "6. Decreto 211-10, que declara de Cáracter Obligatorio la Aplicación del Modelo CAF-Marco Común de Evaluación - en la Administraciíón Pública\n",
        "\n",
        "- CAF : Common Assesment Framework-  Marco Común de Evaluación."
      ]
    },
    {
      "cell_type": "markdown",
      "metadata": {
        "id": "39WM-3ceTjdi"
      },
      "source": [
        "## Preguntas"
      ]
    },
    {
      "cell_type": "markdown",
      "metadata": {
        "id": "CIHQX-gsTlJw"
      },
      "source": [
        ""
      ]
    },
    {
      "cell_type": "markdown",
      "metadata": {
        "id": "_dh8mpPhWKlo"
      },
      "source": [
        "## Asignación - Transparencia\n",
        "\n",
        "Busque el portal de transparencia de la institución donde usted sirve al país y detalle las informaciones que se obtienen de cada uno de sus enunciados.\n",
        "\n"
      ]
    },
    {
      "cell_type": "markdown",
      "metadata": {
        "id": "XnLDKKeXWMDQ"
      },
      "source": [
        "Podemos encontrar el portar de transparencia del ministerio en,\n",
        "https://transparencia.hacienda.gob.do/\n",
        "\n",
        "**Información básica sobre servicios públicos**\n",
        "Ir https://www.hacienda.gob.do/nuestros-servicios/ \n",
        "\n",
        "- Exequatur,\n",
        "- Exoneraciones,\n",
        "- Expedición  de Licencias,\n",
        "- Juegos de Azar,\n",
        "- Renovación de Fianzas\n",
        "\n",
        "**Plan estratégico de la Institución**\n",
        "Ir  [Plan estratégico de la Institución](https://transparencia.hacienda.gob.do/web/guest/plan-estrat%C3%A9gico-institucional)\n",
        "\n",
        "Aqui podemos encontrar informacion sobre los proyectos que la institucion tiene pleneado ejecutar por años.\n",
        "\n",
        "**Estadisticas Intitucionales**\n",
        "\n",
        "- [Dirección de Casinos y Juegos de Azar](https://transparencia.hacienda.gob.do/web/guest/direcci%C3%B3n-de-casinos-y-juegos-de-azar-2021)\n",
        " \n",
        "- [Dirección Jurídica](https://transparencia.hacienda.gob.do/web/guest/direccion-juridica-2021)\n",
        "  - Estaditicas de Servicios,\n",
        "  - Expedicion, Cancelación o Traspaso de Placas Oficiales y Exoneradas Estatales,\n",
        "  - ...\n",
        "\n",
        "\n",
        "**Declaración Jurada de Patrimonio**\n",
        "\n",
        "Ir [Declaraciones Juradas](https://transparencia.hacienda.gob.do/web/guest/declaraciones-juradas)\n",
        "\n",
        "Se obtiene informacion del patrimonio del ministro, vice-minitros, y  otros funcionarios.\n",
        "\n",
        "**Presupuesto**\n",
        "\n",
        "- Ejecución Presupuestaria: Se refiere a la partidas aprobadas que fueron ejecutadas.\n",
        "\n",
        "- Presupuesto Aprobado: SE refiere a las partidas presupuestarias aprobadas.\n",
        "\n",
        "**Nomina de Recursos Humanos**\n",
        "\n",
        "- Información de los empleados tanto contratados y fijos,\n",
        "- Informacion sobre las Jubilaciones, Pensiones Y Retiros\n",
        "\n",
        "**Compras y Contrataciones**\n",
        "\n",
        "- Plan Anual de Compras Y Contrataciones (PACC), no da informacion sobre los articulos que se tiene previstos a comprar."
      ]
    },
    {
      "cell_type": "markdown",
      "metadata": {
        "id": "0XEjVNy8bbdc"
      },
      "source": [
        "## 4 La responsabilidad de civil de los servidores  publicos"
      ]
    },
    {
      "cell_type": "markdown",
      "metadata": {
        "id": "3fY3VdXYHKLP"
      },
      "source": [
        "### Preguntas"
      ]
    },
    {
      "cell_type": "markdown",
      "metadata": {
        "id": "lKvZCHpzHfC5"
      },
      "source": [
        "[ANTEPROYECTO DE LEY DE LA RESPONSABILIDAD CIVIL DE LAS ENTIDADES PUBLICAS, SUS FUNCIONARIOS O AGENTES](https://s-sil.camaradediputados.gob.do:8095/ReportesGenerales/VerDocumento2?documentoId=105393)"
      ]
    },
    {
      "cell_type": "markdown",
      "metadata": {
        "id": "jHKY0Dd8HLew"
      },
      "source": [
        "Dano indemnizable. Son indemnizables los danos de cualquier tipo,\n",
        "patrimonial, flsico o moral, por dano emergente o lucro cesante, siempre que\n",
        "sean reales y efectivo. La prueba del dano corresponde al reclamante."
      ]
    },
    {
      "cell_type": "markdown",
      "metadata": {
        "id": "SKVRp7orHMAU"
      },
      "source": [
        "El derecho de reclamar indemnizacion\n",
        "prescribe en dos (2) anos contados a partir del dia siguiente a aquel en que se\n",
        "hubiera producido la lesion patrimonial o en su caso, a partir del momento que\n",
        "hubiesen cesado sus efectos lesivos, si fuesen de caracter continuo."
      ]
    },
    {
      "cell_type": "markdown",
      "metadata": {
        "id": "ZOEQ8VEjHZ2k"
      },
      "source": [
        "http://etimologias.dechile.net/?indemnizar"
      ]
    },
    {
      "cell_type": "markdown",
      "metadata": {
        "id": "E5PckfMqMOyp"
      },
      "source": [
        "## Responsabilidad Civil y patrimonial"
      ]
    },
    {
      "cell_type": "markdown",
      "metadata": {
        "id": "VHXJdb-iLYD9"
      },
      "source": [
        "### Funcionario que expide permisos para la venta de un producto, pero niega el permiso sin justificación alguna. Situación que ocasiona perjuicio en el patrimonio del ciudadano solicitante."
      ]
    },
    {
      "cell_type": "markdown",
      "metadata": {
        "id": "FFqrmJX1LaaP"
      },
      "source": [
        "En general el funcionario al actuar de forma anti-juridica, ha ocacionado unos daños al patrimonio del \"ciudadano solicitante\".\n",
        "\n",
        "En base a la Responsabilidad Civil el Estado a travéz de uan reparación que consiste en una indemnización por los daños  y perjuicios ocasionados principalmente por una actuación u omisión administrativa antijuridica."
      ]
    },
    {
      "cell_type": "markdown",
      "metadata": {
        "id": "-pRjuLZvLZm0"
      },
      "source": [
        "### En la realización de un paseo guiado a un museo.  El guía, Servidor público, al momento de brindar explicación, objeto se desprende y ocasiona una lesión a uno de los visitantes. "
      ]
    },
    {
      "cell_type": "markdown",
      "metadata": {
        "id": "wN8ylqBALa1L"
      },
      "source": [
        "En este caso no ha habido conducta antijurica y fueron daños derivados por eventos ajenos al ambito de la actuacion administrativa.\n",
        "\n",
        "Es posible que el caso proceda en base a otra ley. Pero este se escapa de responsabilidad administrativa."
      ]
    },
    {
      "cell_type": "markdown",
      "metadata": {
        "id": "ZCeNxLimlURk"
      },
      "source": [
        "## 5 Enfoque General La Etica\n",
        "\n",
        "\n",
        "[Material](https://inapvirtual.edu.do/pluginfile.php/175681/mod_resource/content/2/Unidad%205.pdf)"
      ]
    },
    {
      "cell_type": "markdown",
      "metadata": {
        "id": "GJtTASHUlYuv"
      },
      "source": [
        "[Ir](https://inapvirtual.edu.do/course/view.php?id=1484#section-5)"
      ]
    },
    {
      "cell_type": "markdown",
      "metadata": {
        "id": "lnOaOZpSlcYn"
      },
      "source": [
        "#### Observe el video explicativo del código de ética y comente sobre los beneficios de tener un código de ética en la institución donde usted sirve.\n",
        "\n",
        "[Video](https://youtu.be/7_1HAf9p0mQ)"
      ]
    },
    {
      "cell_type": "markdown",
      "metadata": {
        "id": "VQVpajdeIFPX"
      },
      "source": [
        "**Introduccion**\n",
        "\n",
        "Los seres humanos son seres sociales, para sobrevevir y avanzar se necesita de la colaboración y cooperación entre los integrantes de una organización, familia, pais, ciudad, tribu, etc.\n",
        "\n",
        "¿Pero cómo los humanos pueden colaborar?\n",
        "\n",
        "Para poder colaborar efectivamente y obtener los mejores resultados para el grupo y en consecuencia para sus integrantes. Hay que tener mecanismos que regulen y definan el comportamiento adecuado que deben observar los integrantes de un grupo.  Para esto historicamente se han recurrido a mitos, religiones, etc. Más en la actualidad tenemos metodos más  laicos para definir y motivar el comportamiento adecuado.\n",
        "\n",
        "**Beneficios de Tener un Código de Ética**\n",
        "\n",
        "Entre los beneficios de establecer un marco de conductas/comportamientos adecuados se protege a las organizaciones y a sus miembros de posibles conductas perniciosas hacia otros compañeros y que estas no se puedan sancionar.\n",
        "\n",
        "Las normas éticas promueben el respeto y  la escucha activa  entre los compañeros.\n",
        "\n",
        "Tambien permiten sancionar el comportamiento inadecuado como el plagio, divigulgación de información de la institución. "
      ]
    },
    {
      "cell_type": "markdown",
      "metadata": {
        "id": "qIrJ8xRjSGIF"
      },
      "source": [
        "## 6 ÉTICA EN LA ADMINISTRACIÓN PÚBLICA\n",
        "[Ir](https://inapvirtual.edu.do/course/view.php?id=1484#section-5)\n",
        "\n",
        "En esta unidad nos centramos en conocer la composición, funciones e importancia de las Comisiones de Ética Publica, creadas por el decreto 143-17, y que deben estar presentes en todas las instituciones públicas.\n",
        "\n",
        "Dirección General de Ética e Integridad Gubernamental organo rector de la ética gubernamental."
      ]
    },
    {
      "cell_type": "markdown",
      "metadata": {
        "id": "4EmneoE8VKJk"
      },
      "source": [
        "### Presentacion"
      ]
    },
    {
      "cell_type": "markdown",
      "metadata": {
        "id": "hRVf1GYESOcq"
      },
      "source": [
        "**Los Valores en el Servicio Publico**\n",
        "\n",
        "- Ética de la Conviccion\n",
        "- Ética de la Responsabilidad\n",
        "- \"A la ética podemos adherirnos por convicción o por responsabilidad\". - Max Weber\n",
        "\n",
        "**Ética PÚBLICA**\n",
        "\n",
        "Es la ciencia del buen comportamiento en el servicio de la ciudadanía.\n",
        "\n",
        "**Principios Fundamentales rectores de la Función Pública**\n",
        "\n",
        "- Honradez: uso racional de los servicios publicos,\n",
        "- Lealtad: criterios de imparcialidad y objetividad,\n",
        "- Sinceridad: orgullo del servicio publico (honor),\n",
        "- Justicia: denuncia de la correcpción,\n",
        "- Conducta sin tacha: Satisfacción por el trabajo bien hecho\n",
        "\n",
        "**Los valores éticos de la función pública**\n",
        "\n",
        "está sujeta en su actuación a los principios de eficacia, jerarquía, objetividad, igualdad, transparencia, eocnomía publicdad ycoordinacón, con el sometimiento pleno al ordenamiento jurídico del Estado. Art 138. Constitucion\n",
        "\n",
        "**[Proscripción](https://dle.rae.es/proscribir) de la Corrupción**: Se condena todoa forma de corrupción en los órganos del Estado. En consecuencia:\n",
        "\n",
        "Definiciones de Corrupcion:\n",
        "\n",
        "- El uso incorecto del poder publico para fines privados. Susan Rose-Ackerman\n",
        "\n",
        "- La violacion de determinadas normas morales que rigen la conducta humano en miras al bien y a la perfeccion.\n",
        "\n",
        "- Un comportamiento que se aparta de las obligaciones normales de la función pública por motivos privados ...\n",
        "\n",
        "\n",
        "\n",
        "\n",
        "\n"
      ]
    },
    {
      "cell_type": "markdown",
      "metadata": {
        "id": "_p6yQUdAVJLd"
      },
      "source": [
        "### Material Didactico"
      ]
    },
    {
      "cell_type": "markdown",
      "metadata": {
        "id": "maQNtcAxVP4e"
      },
      "source": [
        "**Etica en la Administracion Publica**\n",
        "\n",
        "**Principios de la Administracion Publica**\n",
        "\n",
        "- Eficacia,\n",
        "- Objetividad,\n",
        "- Igualdad,\n",
        "- Transparencia,\n",
        "- Economia,\n",
        "- Publicidad,\n",
        "- Coordinacion, \n",
        "- Juridicidad,\n",
        "\n",
        "**Proscripcion de la correupcion**\n",
        "\n",
        "**Comisiones de la Etica Publica**\n",
        "\n",
        "Funciones:\n",
        "\n",
        "- Educación,\n",
        "- Controles Administrativos,\n",
        "- Ética\n",
        "\n",
        "**Direccion General de Etica e Integridad, organo rector**\n",
        "\n",
        "**Linea 311 de denuncias, quejas y sugerencias**"
      ]
    },
    {
      "cell_type": "markdown",
      "metadata": {
        "id": "OrPaWFdZbMx7"
      },
      "source": [
        "### Preguntas"
      ]
    },
    {
      "cell_type": "markdown",
      "metadata": {
        "id": "bwbw0K1ibT7m"
      },
      "source": [
        "La Direccion General de Etica e Integridad Gubernamental es un organo rector que le da seguimiento a las comisiones de etica publica y las oficinas de acceso a la informacion, en el cumplimiento de sus obligaciones.\n",
        "\n",
        "- Verdadero\n",
        "\n",
        "Las comisiones de Etica Publica estan para perseguir la corrupcion administrativa\n",
        "\n",
        "- Falso\n",
        "\n",
        "El responsable de la oficina de acceso a la informacion es miembro de la Comision de Etica Publica\n",
        "  - Verdadero\n",
        "\n",
        "La comisión de ética es elegida en cada institución publica por un periodo de dos años.\n",
        "  - Verdadero\n",
        "\n",
        "La DIGEIG es tiene como facultad investigar cualquier hecho de corrupción hasta por el rumor publico.\n",
        "  - Verdadero"
      ]
    },
    {
      "cell_type": "markdown",
      "metadata": {
        "id": "f_nO2ppxn_WV"
      },
      "source": [
        "## 7  RÉGIMEN ÉTICO Y DISCIPLINARIO DE LOS SERVIDORES PÚBLICOS\n",
        "\n",
        "[Ir](https://inapvirtual.edu.do/course/view.php?id=1484#section-7)"
      ]
    },
    {
      "cell_type": "markdown",
      "metadata": {
        "id": "5NxeNhX2-gF-"
      },
      "source": [
        "### Presentacion"
      ]
    },
    {
      "cell_type": "markdown",
      "metadata": {
        "id": "YjQpPDNe9otq"
      },
      "source": [
        "Etica en la administracion publica.\n",
        "\n",
        "Los valores en el servicio publico\n",
        "\n",
        "- Etica de la conviccion\n",
        "- Etica de la responsabilidad\n",
        "- Como debe ser la etica del servidor publico?\n",
        "\n",
        "\n",
        "> A la etica podemos adherirnos por conviccion o por responsabilidad. - Max Weber\n",
        "\n",
        "Etica Publica\n",
        "\n",
        "- La etica de la funcion publica es la ciencia del buen comportamiento en el servicio a la ciudadania, ees ademas un importante mecanismo de control dela arbitrariedad en el uso del poder publico, un factor vital para la creacion y el mantenimiento de la confianza en la administracion y sus instituciones.\n",
        "\n",
        "\n",
        " \n"
      ]
    },
    {
      "cell_type": "markdown",
      "metadata": {
        "id": "utyJzi3z-hip"
      },
      "source": [
        "### Material Didactico\n",
        "\n",
        "[Ir](https://inapvirtual.edu.do/pluginfile.php/175696/mod_resource/content/4/Unidad%207.pdf)"
      ]
    },
    {
      "cell_type": "markdown",
      "metadata": {
        "id": "LXPG2mES-jIq"
      },
      "source": [
        "#### **Regimen etico y disciplinario de los servidores publicos**\n"
      ]
    },
    {
      "cell_type": "markdown",
      "metadata": {
        "id": "xJSssbyr_Twi"
      },
      "source": [
        "Las administraciones públicas comparten una serie de principios universales que\n",
        "constituyen la razón de ser del servicio público, y que se presentan a continuación:\n",
        "\n",
        "1. Honradez (Probidad, Integridad)\n",
        "2. Lealtad (con la administración pública y la sociedad)\n",
        "3. Sinceridad (Honestidad)\n",
        "4. Justicia (Igualdad, equidad)\n",
        "5. Conducta sin tacha (como elemento para el ingreso y la permanencia en la función\n",
        "pública)\n",
        "6. Uso racional de los servicios públicos (Economía y Eficiencia)\n",
        "7. Criterios de imparcialidad y objetividad (Evitar conflictos de intereses para generar\n",
        "confianza)\n",
        "8. Orgullo del servicio público (honor)\n",
        "9. Denuncia de la corrupción (denuncia de buena fe)\n",
        "10. Satisfacción por el trabajo bien hecho (Calidad en el servicio)"
      ]
    },
    {
      "cell_type": "markdown",
      "metadata": {
        "id": "yEKZ7ksU-_zK"
      },
      "source": [
        "##### Principios Rectores de Actuacion de los servidores publicos"
      ]
    },
    {
      "cell_type": "markdown",
      "metadata": {
        "id": "MoibPVqa_sVj"
      },
      "source": [
        "- Cortesia,\n",
        "- Decoro (Impone al servidor público respeto para sí y para los ciudadanos que demanden algún servicio),\n",
        "- Discreción,\n",
        "- Disciplina,\n",
        "- Honestidad,\n",
        "- Vocación de Justicia,\n",
        "- Lealtad,\n",
        "- Probidad (Conducta humana considerada como reflejo de integridad, honradez y entereza),\n",
        "- Pulcritud,\n",
        "- Vocación de Servicio \n"
      ]
    },
    {
      "cell_type": "markdown",
      "metadata": {
        "id": "ZG3eUJ2I_DBG"
      },
      "source": [
        "##### Deberes de los servidores publicos"
      ]
    },
    {
      "cell_type": "markdown",
      "metadata": {
        "id": "YgX_RjZrAO9F"
      },
      "source": [
        "Conjunto de obligaciones ode caracter moral y vinculante que comprometen en sus actuacioens a los servidores p ublicos sin distinguir del  vinculo funcional, respetar leyes, resoluciones, manuales, etc."
      ]
    },
    {
      "cell_type": "markdown",
      "metadata": {
        "id": "oFA4L7Xw_FlG"
      },
      "source": [
        "##### Prohibiciones"
      ]
    },
    {
      "cell_type": "markdown",
      "metadata": {
        "id": "nqDImgDIAgIq"
      },
      "source": [
        "Las prohibiciones son una serie de restricciones a la actuación de los servidores públicos y que implica limites a sus libertades ya que su inobservancia no implica un alejamiento de la excelencia a la que se exhorta al servidor público, sino que su omisión origina una\n",
        "falta disciplinaria pasible de ser sancionable disciplinariamente, sin menoscabo otras consecuencias de tipo penal, civil o administrativa que por la misma conducta pueda ser sancionado el servidor público.\n",
        "\n",
        "- Articulo 80 de la ley de funcion publica.\n",
        "- 82,83,84\n"
      ]
    },
    {
      "cell_type": "markdown",
      "metadata": {
        "id": "IiVFGEsu_H9Z"
      },
      "source": [
        "##### Incompatibilidades"
      ]
    },
    {
      "cell_type": "markdown",
      "metadata": {
        "id": "rODWi1uYBUex"
      },
      "source": [
        "- \"edicación exclusiva”,\n",
        "- "
      ]
    },
    {
      "cell_type": "markdown",
      "metadata": {
        "id": "1sN4rW6u_Kth"
      },
      "source": [
        "##### Regimen de faltas disciplinarias"
      ]
    },
    {
      "cell_type": "markdown",
      "metadata": {
        "id": "frKzyg9HBaGJ"
      },
      "source": [
        "- Faltas de primer grado amonestaciones escritas.\n",
        "- Faltas de segundo grado: suspencion hasta por 90 dias sin disfrute de salario.\n",
        "- Faltas de tercer grado: destitucion e inhabilitacion para ser servidor publico por cinco (5) años\n",
        "\n",
        "\n",
        "Primer grado:\n",
        "  - Descuidar el rendimiento  y calidad del trabajo;\n",
        "  - Llegar tarde al trabajo de manera reiterada,\n",
        "  \n",
        "Segundo Grado:\n",
        "  - Reincidir en la comision de faltas de primer grado,\n",
        "  - Dejar de evaluar y calificar el desempeño anual de sus subalternos dentro de los plazos oficinales establecidos;\n",
        "  - ...\n",
        "\n",
        "Tercer grado:\n",
        "  - Manejar fraudulentamente los fondos del estado,\n",
        "  - ...\n"
      ]
    },
    {
      "cell_type": "markdown",
      "metadata": {
        "id": "Np9WzYOn_NzG"
      },
      "source": [
        "##### Derechos y deberes del sector publico  "
      ]
    },
    {
      "cell_type": "markdown",
      "metadata": {
        "id": "-rn9lwLMCz5W"
      },
      "source": [
        " - Derechos particulares\n",
        " - Derechos de la carrera administrativa\n",
        " - Derechos colectivos"
      ]
    },
    {
      "cell_type": "markdown",
      "metadata": {
        "id": "eri4EmVlFDqY"
      },
      "source": [
        "###  Preguntas"
      ]
    },
    {
      "cell_type": "markdown",
      "metadata": {
        "id": "H3qGRll-FFJ3"
      },
      "source": [
        "Discreción: Requiere guardar silencio de los casos que se traten cuando éstos ameríten confidencia; La administración pública trae consigo el manejo de información sensible, muchas de las cuales puede afectar intereses privados o la propia administración, es por lo que un principio importante es la discreción.\n",
        "\n",
        "\n",
        "- Verdadero\n",
        "\n",
        "Guardar la reserva y confidencialidad que requieren los asuntos relacionados con su trabajo es un \n",
        "\n",
        "- Deber del Servidor Publico\n",
        "\n",
        "Cobrar viáticos, sueldos, dietas y compensaciones por servicios no realizados es una falta de\n",
        "\n",
        "- Tercer grado\n",
        "\n",
        "Recibir inducción, formación y capacitación adecuadas es un\n",
        "\n",
        "- Derecho del Servidor Publico\n",
        "\n",
        "Utilizar vehículos cuyo propietario es el Estado, sin la autorización del superior, constituye una falta de segundo grado.\n",
        "\n",
        "- Verdadero\n",
        "\n",
        "Es el modelo de excelencia hacia el que deben apostar convertirse quienes ejercen funciones públicas.\n",
        "\n",
        "-  Probidad\n",
        "\n",
        "\n",
        "Dedicarse a actividades comerciales, profesionales, entre otras, que puedan afectar su objetividad en el ejercicio de sus funciones públicas.\n",
        "\n",
        "- Imcopatibilidad\n",
        "\n",
        "Es cuando se brinda de forma desprendida, desinteresada, oportuna y con la intención de genera satisfacción\n",
        "\n",
        "- Vocación de servicio"
      ]
    },
    {
      "cell_type": "markdown",
      "metadata": {
        "id": "xgs8i44PoEyq"
      },
      "source": [
        "##  8 ATENCIÓN AL CIUDADANO Y CALIDAD EN EL SERVICIO\n",
        "[Ir](https://inapvirtual.edu.do/course/view.php?id=1484#section-8)\n",
        "\n",
        "[Documento](https://inapvirtual.edu.do/pluginfile.php/175704/mod_resource/content/2/Unidad%208.pdf)\n"
      ]
    },
    {
      "cell_type": "markdown",
      "metadata": {
        "id": "FtBC9lcrHaR2"
      },
      "source": [
        "Les invito a escribir una experiencia de un servicio que usted haya brindado o recibido  (interno o externo) que combine los elementos de calidad excepcional esperados. En el mismo, favor detallar el servicio brindado."
      ]
    },
    {
      "cell_type": "markdown",
      "metadata": {
        "id": "x5ac9B8cHfEK"
      },
      "source": [
        "Servicio Mescyt: Legalización de Documentos Académicos\n",
        "\n",
        "En el proceso de legalizar mis documentos académicos que realiza el **Mescyt**, me dirigí a sus instalaciones físicas, las cuales estaban en muy buena condición.\n",
        "\n",
        "En cuanto a los servidores públicos estaban vestidos de forma profesional y atrevés de sus servicios y amabilidad provocaron una gran sensación de fiabilidad y cuidado para con su trabajo y los ciudadanos.\n",
        "\n",
        "La profesionalidad de los servidores quedo demostrara al explicarme el proceso para la legalización de los documentos y guiarme durante el mismo, hasta completarlo.\n",
        "\n",
        "Al final me quedó una gran impresión, al poder realizar mi proceso de forma rápida, los servidores públicos y la institución demostraron una gran voluntad y vocación de servicio."
      ]
    },
    {
      "cell_type": "markdown",
      "metadata": {
        "id": "-Tug_vKzoK1w"
      },
      "source": [
        "## 9 PROCEDIMIENTOS DISCIPLINARIOS, RECURSOS ADMINISTRATIVOS Y JURISDICCIONALES\n",
        "\n",
        "[Ir](https://inapvirtual.edu.do/course/view.php?id=1484#section-9)\n",
        "\n",
        "[Documentos](https://inapvirtual.edu.do/pluginfile.php/175712/mod_resource/content/5/Unidad%209.pdf)"
      ]
    },
    {
      "cell_type": "markdown",
      "metadata": {
        "id": "94vUpHeILQ6f"
      },
      "source": [
        "- Procedimiento,\n",
        "- Desvinculación,\n",
        "- Ley 41-08 sobre la funcion publica\n"
      ]
    },
    {
      "cell_type": "markdown",
      "metadata": {
        "id": "44_5yLKdNXla"
      },
      "source": [
        "### Material Didactico"
      ]
    },
    {
      "cell_type": "markdown",
      "metadata": {
        "id": "Nci6BYlKMUCB"
      },
      "source": [
        "#### Procedimientos disciplinarios, recursos administrativos y jurisdiccionales"
      ]
    },
    {
      "cell_type": "markdown",
      "metadata": {
        "id": "oaZPF-gINgkM"
      },
      "source": [
        "- referencia a la potestad sancionadora administrativa, elementos basicos.\n",
        "\n",
        "- Un principio de la potestad sancionadora administrativa es la legalidad,\n",
        "- La potestad disciplinaria"
      ]
    },
    {
      "cell_type": "markdown",
      "metadata": {
        "id": "skmgULBNM1YS"
      },
      "source": [
        "#### Procedimiento Disciplinario"
      ]
    },
    {
      "cell_type": "markdown",
      "metadata": {
        "id": "4SpOTMXUN0Dn"
      },
      "source": [
        "**¿Por que se inicia?**\n",
        "\n",
        "- Sanciones por faltas de primer grado\n",
        "\n",
        "- Sanciones por faltas de segundo grado\n",
        "  - Circunstancias Agrabantes de las faltas\n",
        "  - Circunstancias Atenuantes de las faltas\n",
        "\n",
        "- Sanciones por faltas de tercer grado\n",
        "\n",
        "**Autorizadores competente**\n",
        "\n",
        "Faltas de primer grado:\n",
        "  - Superior inmediato\n",
        "\n",
        "Faltas de segundo grado:\n",
        "  - Maxima autoridad de la institucion\n",
        "\n",
        "Faltas de tercer grado:\n",
        "  - Si es del gobierno centro: presidente,\n",
        "  - Si es autonoma: a la maxima autoridad\n",
        "\n",
        "**Derechos del servidor sometido a un procedimiento disciplinario**\n",
        "\n",
        "\n",
        "- Ser notificados formalmente por recursos humanos.\n",
        "- ...\n"
      ]
    },
    {
      "cell_type": "markdown",
      "metadata": {
        "id": "N9--4FT6NJ1j"
      },
      "source": [
        "Desvinculacion del servidor publico"
      ]
    },
    {
      "cell_type": "markdown",
      "metadata": {
        "id": "0TGVWNpmPNxR"
      },
      "source": [
        "La terminación de las relaciones estatutarias entre el Estado y los servidores públicos se\n",
        "producirá de acuerdo con las situaciones jurídico-administrativas prescritas en los\n",
        "artículos 93 hasta el 97 de la Ley No. 41-08.\n",
        "\n",
        "map"
      ]
    },
    {
      "cell_type": "markdown",
      "metadata": {
        "id": "K_JF25-pNMTU"
      },
      "source": [
        "Recurso Administrativo y Jurisdiccional"
      ]
    },
    {
      "cell_type": "markdown",
      "metadata": {
        "id": "noHydSRbPUui"
      },
      "source": [
        "Con el objetivo de producir la revocación del acto administrativo que les haya producido\n",
        "un perjuicio, los funcionarios o servidores públicos tendrán derecho a interponer los\n",
        "recursos administrativos y jurisdiccionales establecidos en los art. 72 y siguientes de la\n",
        "ley, a saber:\n",
        "\n",
        "1.2. Recurso de Reconsideración\n",
        "  -  Este recurso deberá interponerse por escrito, por ante la misma autoridad administrativa que haya adoptado la decisión considerada injusta, en un plazo de quince (15) días francos contados a partir de la fecha de recepción de la notificación de dicha decisión.\n",
        "Podrá ser interpuesto directamente por el servidor público afectado, o por un apoderado de éste. \n",
        "\n",
        "1.3. Recurso Jerárquico\n",
        "  - Se ejerce ante el órgano de la administración pública de jerarquía inmediatamente superior al órgano que haya tomado la decisión controvertida, dentro de los quince (15) días francos contados a partir de la fecha de recepción de la resolución que resuelva el\n",
        "Recurso de Reconsideración o de la fecha en que se considere confirmada la decisión\n",
        "recurrida. \n",
        "\n",
        "1.4. Recurso Jurisdiccional. \n",
        "  - Después de agotado los recursos administrativos previamente indicados, el servidor público afectado por una decisión  administrativa podrá interponer el recurso jurisdiccional por ante el Tribunal Superior Administrativo. "
      ]
    },
    {
      "cell_type": "markdown",
      "metadata": {
        "id": "16hzkF7aTYvI"
      },
      "source": [
        "### Recursos"
      ]
    },
    {
      "cell_type": "markdown",
      "metadata": {
        "id": "KhHR28-PTatQ"
      },
      "source": [
        "Cuantos tipos de Faltas y Sanciones existen en la Ley de Función Pública?\n",
        "- 3\n",
        "\n",
        "Se trata de faltas de moderada gravedad y están relacionadas con el descuido del trabajo, con tardanzas leves pero reiteradas, falta de colaboración, etc.\n",
        "- Faltas de primer grado\n",
        "\n",
        "La amonestación escrita citará textualmente el artículo de la ley que tipifica la, o las faltas objeto de la amonestación.\n",
        "- Verdadero\n",
        "\n",
        "\n",
        "Este recurso deberá interponerse por escrito, por ante la misma autoridad administrativa que haya adoptado la decisión considerada injusta, en un plazo de quince (15) días francos contados a partir de la fecha de recepción de la notificación de dicha decisión. Podrá ser interpuesto directamente por el servidor público afectado, o por un apoderado de éste.\n",
        "- Recurso de Reconsideración\n",
        "\n",
        "Faltas de Segundo Grado: Se trata de faltas graves y recogen una vasta diversidad de conductas que tratan en otros aspectos, uso indebido de recursos y bienes, promover la suspensión de labores sin previa autorización, difundir información confidencial o privada que esté en poder del Estado, tratar reiteradamente de manera forma irrespetuosa al personal con el que interactúa el servidor, la reincidencia en la comisión de faltas de primer grado, entre otras.\n",
        "- Verdadero"
      ]
    },
    {
      "cell_type": "markdown",
      "metadata": {
        "id": "zAAqDhfFoR9R"
      },
      "source": [
        "### 10"
      ]
    },
    {
      "cell_type": "markdown",
      "metadata": {
        "id": "0CJPRV8QoTT3"
      },
      "source": [
        "## Evaluacion Final"
      ]
    }
  ]
}