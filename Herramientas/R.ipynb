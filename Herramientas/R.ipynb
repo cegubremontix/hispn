{
  "nbformat": 4,
  "nbformat_minor": 0,
  "metadata": {
    "colab": {
      "name": "R.ipynb",
      "provenance": [],
      "authorship_tag": "ABX9TyPwyysZ/fGlHaBEjyjwR0rM",
      "include_colab_link": true
    },
    "kernelspec": {
      "name": "python3",
      "display_name": "Python 3"
    },
    "language_info": {
      "name": "python"
    }
  },
  "cells": [
    {
      "cell_type": "markdown",
      "metadata": {
        "id": "view-in-github",
        "colab_type": "text"
      },
      "source": [
        "<a href=\"https://colab.research.google.com/github/dbremont/Notas/blob/main/Herramientas/R.ipynb\" target=\"_parent\"><img src=\"https://colab.research.google.com/assets/colab-badge.svg\" alt=\"Open In Colab\"/></a>"
      ]
    },
    {
      "cell_type": "markdown",
      "metadata": {
        "id": "VNZh50s7ePje"
      },
      "source": [
        "[R: The R Project for Statistical Computing -  ](https://www.r-project.org/)\n",
        "\n",
        "[Tidyverse -  ](https://www.tidyverse.org/)\n",
        "\n",
        "[How to Install R on Ubuntu 20.04 | Linuxize -  ](https://linuxize.com/post/how-to-install-r-on-ubuntu-20-04/)\n",
        "\n",
        "[Create a new ggplot — ggplot • ggplot2 -  ](https://ggplot2.tidyverse.org/reference/ggplot.html)\n",
        "\n",
        "[The R Graph Gallery – Help and inspiration for R charts -  ](https://www.r-graph-gallery.com/)\n",
        "\n",
        "[data-visualization-2.1 -  ](https://www.maths.usyd.edu.au/u/UG/SM/STAT3022/r/current/Misc/data-visualization-2.1.pdf)\n",
        "\n",
        "[R Internals -  ](https://cran.r-project.org/doc/manuals/r-release/R-ints.html#X11_0028_0029)\n",
        "\n",
        "[R Data Import/Export -  ](https://cran.r-project.org/doc/manuals/r-release/R-data.html)\n",
        "\n",
        "[Writing R Extensions -  ](https://cran.r-project.org/doc/manuals/r-release/R-exts.html)\n",
        "\n",
        "[R Language Definition -  ](https://cran.r-project.org/doc/manuals/r-release/R-lang.html)\n",
        "\n",
        "[An Introduction to R -  ](https://cran.r-project.org/doc/manuals/r-release/R-intro.html)\n",
        "\n",
        "[Create Elegant Data Visualisations Using the Grammar of Graphics • ggplot2 -  ](https://ggplot2.tidyverse.org/)\n",
        "\n",
        "[R Development Guide -  ](https://forwards.github.io/rdevguide/)\n",
        "\n",
        "[3 Data visualisation | R for Data Science -  ](https://r4ds.had.co.nz/data-visualisation.html)\n",
        "\n",
        "[Create a new ggplot — ggplot • ggplot2 -  ](https://ggplot2.tidyverse.org/reference/ggplot.html)\n",
        "\n",
        "- where r install my packages\n",
        "- \n",
        "\n"
      ]
    }
  ]
}