{
  "nbformat": 4,
  "nbformat_minor": 0,
  "metadata": {
    "colab": {
      "name": "Haskell.ipynb",
      "provenance": [],
      "authorship_tag": "ABX9TyMV8DmrlA20Sf4X9N8AMl0f",
      "include_colab_link": true
    },
    "kernelspec": {
      "name": "python3",
      "display_name": "Python 3"
    },
    "language_info": {
      "name": "python"
    }
  },
  "cells": [
    {
      "cell_type": "markdown",
      "metadata": {
        "id": "view-in-github",
        "colab_type": "text"
      },
      "source": [
        "<a href=\"https://colab.research.google.com/github/dbremont/Notas/blob/main/Herramientas/Haskell.ipynb\" target=\"_parent\"><img src=\"https://colab.research.google.com/assets/colab-badge.svg\" alt=\"Open In Colab\"/></a>"
      ]
    },
    {
      "cell_type": "markdown",
      "metadata": {
        "id": "GB-NDEiqE1XZ"
      },
      "source": [
        "## Doing Usefull stuff with this tool for expressing computations\n",
        "\n",
        "- And explore the ecosystem, platform"
      ]
    },
    {
      "cell_type": "markdown",
      "metadata": {
        "id": "tSTDi6WteYk-"
      },
      "source": [
        ""
      ]
    },
    {
      "cell_type": "markdown",
      "metadata": {
        "id": "UXif5vGHUW1H"
      },
      "source": [
        "- [Programming in Haskell](https://colab.research.google.com/github/dbremont/Notas/blob/main/Libros/Computacion/Programming_in_Haskell.ipynb)"
      ]
    },
    {
      "cell_type": "markdown",
      "metadata": {
        "id": "bN99VcDIVNkj"
      },
      "source": [
        "- [Functional Programming](https://www.youtube.com/playlist?list=PLF1Z-APd9zK7usPMx3LGMZEHrECUGodd3)\n",
        "\n",
        "- [Advanced Functional Programming](https://www.youtube.com/playlist?list=PLF1Z-APd9zK5uFc8FKr_di9bfsYv8-lbc)"
      ]
    },
    {
      "cell_type": "markdown",
      "metadata": {
        "id": "7q8XyRdAd_TW"
      },
      "source": [
        "\n",
        "\n",
        "* [What is Good About Haskell?](https://doisinkidney.com/posts/2019-10-02-what-is-good-about-haskell.html)\n",
        "\n",
        "* [A Pythonista's Review of Haskell](https://bytes.yingw787.com/posts/2020/01/30/a_review_of_haskell/)\n",
        "\n",
        "* [Sample code to accompany the book \"Parallel and Concurrent Programming in Haskell\"](https://github.com/simonmar/parconc-examples)"
      ]
    }
  ]
}