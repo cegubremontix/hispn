{
  "nbformat": 4,
  "nbformat_minor": 0,
  "metadata": {
    "colab": {
      "name": "Haskell.ipynb",
      "provenance": [],
      "authorship_tag": "ABX9TyNYkhJ6lIWnr+LRu4a9WMd/",
      "include_colab_link": true
    },
    "kernelspec": {
      "name": "python3",
      "display_name": "Python 3"
    },
    "language_info": {
      "name": "python"
    }
  },
  "cells": [
    {
      "cell_type": "markdown",
      "metadata": {
        "id": "view-in-github",
        "colab_type": "text"
      },
      "source": [
        "<a href=\"https://colab.research.google.com/github/dbremont/Notas/blob/main/Herramientas/Haskell.ipynb\" target=\"_parent\"><img src=\"https://colab.research.google.com/assets/colab-badge.svg\" alt=\"Open In Colab\"/></a>"
      ]
    },
    {
      "cell_type": "markdown",
      "metadata": {
        "id": "GB-NDEiqE1XZ"
      },
      "source": [
        "## Doing Usefull stuff with this tool for expressing computations"
      ]
    },
    {
      "cell_type": "markdown",
      "metadata": {
        "id": "UXif5vGHUW1H"
      },
      "source": [
        "- [Programming in Haskell](https://colab.research.google.com/github/dbremont/Notas/blob/main/Libros/Computacion/Programming_in_Haskell.ipynb)"
      ]
    },
    {
      "cell_type": "markdown",
      "metadata": {
        "id": "bN99VcDIVNkj"
      },
      "source": [
        "- [Functional Programming](https://www.youtube.com/playlist?list=PLF1Z-APd9zK7usPMx3LGMZEHrECUGodd3)\n",
        "\n",
        "- [Advanced Functional Programming](https://www.youtube.com/playlist?list=PLF1Z-APd9zK5uFc8FKr_di9bfsYv8-lbc)"
      ]
    }
  ]
}