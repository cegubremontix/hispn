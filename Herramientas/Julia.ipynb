{
  "nbformat": 4,
  "nbformat_minor": 0,
  "metadata": {
    "colab": {
      "name": "Julia.ipynb",
      "provenance": [],
      "authorship_tag": "ABX9TyPLoGbgJXkp7PSmVD2bRJ7H",
      "include_colab_link": true
    },
    "kernelspec": {
      "name": "python3",
      "display_name": "Python 3"
    },
    "language_info": {
      "name": "python"
    }
  },
  "cells": [
    {
      "cell_type": "markdown",
      "metadata": {
        "id": "view-in-github",
        "colab_type": "text"
      },
      "source": [
        "<a href=\"https://colab.research.google.com/github/dbremont/Notas/blob/main/Herramientas/Julia.ipynb\" target=\"_parent\"><img src=\"https://colab.research.google.com/assets/colab-badge.svg\" alt=\"Open In Colab\"/></a>"
      ]
    },
    {
      "cell_type": "markdown",
      "metadata": {
        "id": "niN82jhYF4ue"
      },
      "source": [
        "## Tools for expressing computations, expecially scientific computing\n",
        "\n",
        "* [The Julia Programming Language](https://julialang.org/)"
      ]
    }
  ]
}