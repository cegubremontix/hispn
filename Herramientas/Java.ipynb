{
  "nbformat": 4,
  "nbformat_minor": 0,
  "metadata": {
    "colab": {
      "name": "Java.ipynb",
      "provenance": [],
      "collapsed_sections": [],
      "toc_visible": true,
      "include_colab_link": true
    },
    "kernelspec": {
      "name": "python3",
      "display_name": "Python 3"
    }
  },
  "cells": [
    {
      "cell_type": "markdown",
      "metadata": {
        "id": "view-in-github",
        "colab_type": "text"
      },
      "source": [
        "<a href=\"https://colab.research.google.com/github/dbremont/Notas/blob/main/Herramientas/Java.ipynb\" target=\"_parent\"><img src=\"https://colab.research.google.com/assets/colab-badge.svg\" alt=\"Open In Colab\"/></a>"
      ]
    },
    {
      "cell_type": "markdown",
      "metadata": {
        "id": "pSPfx8LeVeEm"
      },
      "source": [
        "- [All of the python 3.9 standard library](https://gist.github.com/jph00/9a3a989e50076fc12bad902ea5fd1444)\n",
        "\n",
        "- [Java All Clases](https://docs.oracle.com/en/java/javase/11/docs/api/allclasses-index.html)"
      ]
    },
    {
      "cell_type": "markdown",
      "metadata": {
        "id": "bG8MpwS8A3ib"
      },
      "source": [
        "- Que herramientas practicar o aprender.\n",
        " - JDBC\n",
        " - [MyBatis Source Code](https://mybatis.org/mybatis-3/index.html)\n",
        " - [MyBatis Tutorial](https://www.tutorialspoint.com/mybatis/index.htm)\n",
        " - Install oracle, mysql, postgrest."
      ]
    },
    {
      "cell_type": "markdown",
      "metadata": {
        "id": "YUQrksz4rG3s"
      },
      "source": [
        "## Tools"
      ]
    },
    {
      "cell_type": "markdown",
      "metadata": {
        "id": "pZBsldb1Sqri"
      },
      "source": [
        "- [H2 is an embeddable RDBMS written in Java](https://github.com/h2database/h2database)\n",
        "\n",
        "- [hsqldb Source Code Unoficial](https://github.com/ryenus/hsqldb)\n",
        "\n",
        "- [Junit](https://colab.research.google.com/github/dbremont/Notas/blob/main/Ingenerare/JUnit.ipynb)\n",
        "\n",
        "- [Hybernate](https://hibernate.org/)\n",
        "\n",
        "- [Project Lombok](https://colab.research.google.com/github/dbremont/Notas/blob/main/Ingenerare/Project_Lombok.ipynb)\n",
        "\n",
        "- [FindBugs™ - Find Bugs in Java Programs](http://findbugs.sourceforge.net/)\n",
        "\n",
        "- [SpotBugs](https://spotbugs.github.io/)\n",
        "\n",
        "- [Checkstyle](https://checkstyle.sourceforge.io/)\n",
        "\n",
        "- [PMD](https://pmd.github.io/)\n",
        "\n",
        "- [SonarQube LTS](https://www.sonarqube.org/)\n",
        "\n",
        "- [Jobrunr](https://www.jobrunr.io/en/)\n",
        "\n",
        "- [Antlr](https://www.antlr.org/),\n",
        "\n",
        "- [Bytebuddy](https://bytebuddy.net/#/)\n",
        "\n",
        "- [Aspect J](https://www.eclipse.org/aspectj/)"
      ]
    },
    {
      "cell_type": "markdown",
      "metadata": {
        "id": "Jj3sSrsqrI7j"
      },
      "source": [
        "## Librerias"
      ]
    },
    {
      "cell_type": "markdown",
      "metadata": {
        "id": "oQmWzD4krShr"
      },
      "source": [
        "- [PostgreSQL JDBC Driver](https://github.com/pgjdbc/pgjdbc)\n",
        "  - Investigar la Implementacion del Manejo de Transacciones.\n",
        "  - Seria Bueno Instalar la base de datos en en contenedor docker, para mas facilidad.\n",
        "\n",
        "- [Apache Commons](https://commons.apache.org/)\n",
        "\n",
        "- [Google core libraries for Java](https://github.com/google/guava)"
      ]
    },
    {
      "cell_type": "markdown",
      "metadata": {
        "id": "gFYCvE-TrLEc"
      },
      "source": [
        "## Frameworks / Marcos de Trabajo"
      ]
    },
    {
      "cell_type": "markdown",
      "metadata": {
        "id": "ILiqhmDCrZqa"
      },
      "source": [
        ""
      ]
    },
    {
      "cell_type": "markdown",
      "metadata": {
        "id": "6BG1LZ1zvLsj"
      },
      "source": [
        "## Libros"
      ]
    },
    {
      "cell_type": "markdown",
      "metadata": {
        "id": "Vh-zPcHzvNHp"
      },
      "source": [
        "\n",
        "- [Effective Java](https://colab.research.google.com/github/dbremont/Notas/blob/main/Libros/Computacion/Effective_Java.ipynb)\n",
        "\n",
        "- [Java EE 7](https://colab.research.google.com/github/dbremont/Notas/blob/main/Libros/Computacion/Java_EE_8.ipynb)\n",
        "\n",
        "- [Java Puzzlers: Traps, Pitfalls and Corner Cases](https://colab.research.google.com/github/dbremont/Notas/blob/main/Libros/Computacion/Java_Puzzlers_Traps%2C_Pitfalls_and_Corner_Cases.ipynb)\n",
        "\n",
        "- [Java Concurrency in Practice](https://colab.research.google.com/github/dbremont/Notas/blob/main/Libros/Computacion/Java_Concurrency_in_Practice.ipynb)\n",
        "\n",
        "- [Concurrent Programming in Java™: Design Principles and Pattern](https://colab.research.google.com/github/dbremont/Notas/blob/main/Libros/Computacion/Concurent_Programming_in_Java_Design_Principles_and_Patterns.ipynb)\n",
        "\n",
        "- [97 Things Every Java Programmer Should Know](https://colab.research.google.com/github/dbremont/Notas/blob/main/Libros/Computacion/97_Things_Every_Java_Programmer_Should_Know.ipynb)\n",
        "\n",
        "- [Optimizing Java](https://colab.research.google.com/github/dbremont/Notas/blob/main/Libros/Computacion/Optimizing_Java.ipynb)\n",
        "\n",
        "- [The Java Language Specification](https://colab.research.google.com/github/dbremont/Notas/blob/main/Libros/Computacion/The_Java_Language_Specification.ipynb)\n",
        "\n",
        "- [The Java Virtual Machine Specification](https://colab.research.google.com/github/dbremont/Notas/blob/main/Libros/Computacion/The_Java_Virtual_Machine_Specification.ipynb)"
      ]
    },
    {
      "cell_type": "markdown",
      "metadata": {
        "id": "BKWEBIEPwLZu"
      },
      "source": [
        "## Courses"
      ]
    },
    {
      "cell_type": "markdown",
      "metadata": {
        "id": "MZU7jICuwLZx"
      },
      "source": [
        "* [Introduction to Programming in Java](https://introcs.cs.princeton.edu/java/home/)\n",
        "\n",
        "* [Java Web Developer Nanodegree](https://classroom.udacity.com/nanodegrees/nd035/dashboard/overview)\n",
        "\n",
        "- [Java Application Performance and Memory Management](https://www.udemy.com/course/java-application-performance-and-memory-management/learn/lecture/13816100#overview)\n",
        "\n",
        "- [Java Programming Masterclass for Software Developers](https://www.udemy.com/course/java-the-complete-java-developer-course/learn/lecture/3840222?start=15#overview)\n",
        "\n",
        "- [6.005: Software Construction](https://ocw.mit.edu/ans7870/6/6.005/s16/index.html)\n",
        "\n",
        "* [Parallel, Concurrent, and Distributed Programming in Java Specialization](https://www.coursera.org/specializations/pcdp)\n",
        "\n",
        "* [Software Design and Architecture Specialization](https://www.coursera.org/specializations/software-design-architecture)\n",
        "\n",
        "* [CS *253: Parallel Functional Programming with Java and Android](https://www.youtube.com/playlist?list=PLZ9NgFYEMxp5ZOxpx_RVkkktBMd0S5B6Q)"
      ]
    },
    {
      "cell_type": "markdown",
      "metadata": {
        "id": "cX_ZvRXFwLZy"
      },
      "source": [
        "## Code Reading"
      ]
    },
    {
      "cell_type": "markdown",
      "metadata": {
        "id": "jGcZSlREwLZy"
      },
      "source": [
        "* [jdk/src at master · openjdk/jdk](https://github.com/openjdk/jdk/tree/master/src)\n",
        "\n",
        "- [Buenas Liberias y Codigo para Leer](http://www.jeasy.org/)\n",
        "\n"
      ]
    },
    {
      "cell_type": "markdown",
      "metadata": {
        "id": "uieSj9ifSmeI"
      },
      "source": [
        "## Articulos"
      ]
    },
    {
      "cell_type": "markdown",
      "metadata": {
        "id": "30HKPL1JKpzn"
      },
      "source": [
        "### Reactive Extention\n"
      ]
    },
    {
      "cell_type": "markdown",
      "metadata": {
        "id": "VQ4nOqWgKpyM"
      },
      "source": [
        "- [ReactiveX RxJava](https://github.com/ReactiveX/RxJava)\n",
        "\n",
        "- [ReactiveX](http://reactivex.io)\n",
        "\n",
        "- [Introduction to RxJava](https://www.baeldung.com/rx-java)"
      ]
    },
    {
      "cell_type": "markdown",
      "metadata": {
        "id": "O7fXNzof1WME"
      },
      "source": [
        "### JDBC"
      ]
    },
    {
      "cell_type": "markdown",
      "metadata": {
        "id": "xMSq2NSy1YTp"
      },
      "source": [
        "- [The JPA EntityManager createNativeQuery is a Magic Wand](https://vladmihalcea.com/the-jpa-entitymanager-createnativequery-is-a-magic-wand/) \n",
        "  - Aqui se habla de los queries nativos.\n",
        "\n",
        "- [Batch Processing in JDBC](https://www.baeldung.com/jdbc-batch-processing)\n",
        "\n",
        "- [Java Map to JSON mapping with JPA and Hibernate - Vlad Mihalcea](https://vladmihalcea.com/java-map-json-jpa-hibernate/)\n",
        "\n",
        "- [Interface ExecutorService](https://docs.oracle.com/javase/7/docs/api/java/util/concurrent/ExecutorService.html)\n",
        "\n",
        "- [What is the difference between ExecutorService.submit and ExecutorService.execute in this code in Java?](https://stackoverflow.com/questions/18730290/what-is-the-difference-between-executorservice-submit-and-executorservice-execut)"
      ]
    },
    {
      "cell_type": "markdown",
      "metadata": {
        "id": "DifIgxND52uP"
      },
      "source": [
        "[Shenandoah in OpenJDK 17: Sub-millisecond GC pauses](https://developers.redhat.com/articles/2021/09/16/shenandoah-openjdk-17-sub-millisecond-gc-pauses)\n",
        "\n",
        "- Garbarge Collection Pauses\n",
        "- Concurrent Heap Evacuation\n",
        "- Concurrent Rereference Processing\n",
        "- Java Threads\n",
        "- How Java Applications Are Executed\n",
        "- Evacuating reacable objects into empty regions\n",
        "- How the garbage collector determines or knows if an object is reacable or not\n",
        "- Stack Watermark\n",
        "\n",
        "Practical\n",
        "\n",
        "- How to determine the GC pauses."
      ]
    },
    {
      "cell_type": "markdown",
      "metadata": {
        "id": "J4_kGMY81YSV"
      },
      "source": [
        "- [What is OpenJDK and why use OpenJDK? | Azul](https://www.azul.com/blog/what-is-openjdk/)\n",
        "\n",
        "- [10 Essential JVM Options for Java Applications [ Heap Memory, SSL, to Garbage Collection] | Java67](https://www.java67.com/2016/08/10-jvm-options-for-java-production-application.html)\n",
        "\n",
        "- [amber-docs/templated-strings.md at master · openjdk/amber-docs](https://github.com/openjdk/amber-docs/blob/master/site/design-notes/templated-strings.md)\n",
        "\n",
        "- [Create Java CLI applications with picocli - YouTube](https://www.youtube.com/watch?v=PaxBXABJIzY)\n",
        "\n",
        "- [Spring Native - YouTube](https://www.youtube.com/watch?v=TXyg6Nm4ZpQ)\n",
        "\n",
        "- [Overhead Added by Collecting Thread Dumps - DZone Java](https://dzone.com/articles/overhead-added-by-collecting-thread-dumps)\n",
        "\n",
        "- [Good source-code structure in Java : java](https://www.reddit.com/r/java/comments/pl3xv4/good_sourcecode_structure_in_java/)\n",
        "\n",
        "- [Factory methods & the language model](https://mail.openjdk.java.net/pipermail/valhalla-spec-experts/2021-September/001594.html)\n",
        "\n",
        "- [A categorized list of all Java and JVM features since JDK 8 to 17 - Advanced Web Machinery](https://advancedweb.hu/a-categorized-list-of-all-java-and-jvm-features-since-jdk-8-to-17/)\n",
        "\n",
        "- [The Packaging Tool aka `jpackage` - JEP Café #4 - YouTube](https://www.youtube.com/watch?v=-6q_MKtPL3o)\n",
        "\n",
        "- [Digging into Java Garbage Collection : java](https://www.reddit.com/r/java/comments/pkjj5e/digging_into_java_garbage_collection/)\n",
        "\n",
        "- [JDK Mission Control Core libraries now available on Maven Central : java](https://www.reddit.com/r/java/comments/pk79s7/jdk_mission_control_core_libraries_now_available/)\n",
        "\n",
        "- [Is multi-thread programming less relevant nowadays? : java](https://www.reddit.com/r/java/comments/pk7kg8/is_multithread_programming_less_relevant_nowadays/)\n",
        "\n",
        "- [samokhodkin/whippet-db: Fast embedded key-value database engine for Java.](https://github.com/samokhodkin/whippet-db)\n",
        "\n",
        "- [Switch Expressions - JEP Café #3 - YouTube](https://www.youtube.com/watch?v=uNJTkppQEZQ)\n",
        "\n",
        "\n",
        "- [Release 2.3.3 · oracle/helidon](https://github.com/oracle/helidon/releases/tag/2.3.3)\n",
        "\n",
        "- [Web Scraping 101 with Java](https://www.scrapingdog.com/blog/web-scraping-101-with-java)\n",
        "\n",
        "- [itnext.io](https://itnext.io/event-driven-architectures-with-kafka-and-java-spring-boot-6ded048e86f3)\n",
        "\n",
        "- ls /usr/lib/jvm/java-11-openjdk-amd64/bin\n",
        " - A bunch of java tools.\n",
        "\n",
        "\n"
      ]
    },
    {
      "cell_type": "markdown",
      "metadata": {
        "id": "hzRATeF4KzLZ"
      },
      "source": [
        "- [Java Naming and Directory Interface](https://en.wikipedia.org/wiki/Java_Naming_and_Directory_Interface)\n",
        "\n",
        "- [Shenandoah in OpenJDK 17: Sub-millisecond GC pauses](https://developers.redhat.com/articles/2021/09/16/shenandoah-openjdk-17-sub-millisecond-gc-pauses#)\n",
        "\n",
        "- [How do you kill a Thread in Java?](https://stackoverflow.com/questions/671049/how-do-you-kill-a-thread-in-java)\n",
        "\n",
        "* [Going inside Java’s Project Loom and virtual threads](https://blogs.oracle.com/javamagazine/going-inside-javas-project-loom-and-virtual-threads)\n",
        "\n",
        "* [Java Server Page (JSP)](https://kush01.hashnode.dev/java-server-page-jsp)\n",
        "\n",
        "* [Validating Input with Finite Automata in Java](https://www.baeldung.com/java-finite-automata)\n",
        "\n",
        "* [A Guide To Java Regular Expressions API](https://www.baeldung.com/regular-expressions-java)\n",
        "\n",
        "* [Pattern Matching for Java](https://cr.openjdk.java.net/~briangoetz/amber/pattern-match.html)\n",
        "\n",
        "* [Java Reflection Performance](https://stackoverflow.com/questions/435553/java-eflection-performance)\n",
        "\n",
        "* [How are enums implemented in Java?](https://stackoverflow.com/questions/8032067/how-are-enums-implemented-in-java)\n",
        "\n",
        "* [A Guide to Java Profilers](https://www.baeldung.com/java-profilers)\n",
        "\n",
        "* [jdeps - Java class dependency analyzer](https://docs.oracle.com/javase/8/docs/technotes/tools/unix/jdeps.html)\n",
        "\n",
        "* [Creation, dynamic loading and instrumentation with javaagents](https://www.cnblogs.com/hellotech/p/3952886.html)\n",
        "\n",
        "* [Beyond bytebuffers – Inside.java](https://inside.java/2019/11/08/beyondbytebuffers/)\n",
        "\n",
        "* [Building the JDK](https://openjdk.java.net/groups/build/doc/building.html)\n",
        "\n",
        "* [Difference between 'java' and 'libjvm.so' (Linux) or 'jvm.dll' (Windows)?](https://stackoverflow.com/questions/6134350/difference-between-java-and-libjvm-so-linux-or-jvm-dll-windows)\n",
        "\n",
        "* [environment variables - How to link a c++ program to jvm (java virtual machine)?](https://askubuntu.com/questions/1215613/how-to-link-a-c-program-to-jvm-java-virtual-machine)\n",
        "\n",
        "* [Generic Types (The Java™ Tutorials > Learning the Java Language > Generics (Updated))](https://docs.oracle.com/javase/tutorial/java/generics/types.html)\n",
        "\n",
        "* [Jakarta EE](https://en.wikipedia.org/wiki/Jakarta_EE)\n",
        "\n",
        "* [JAR File Specification](https://docs.oracle.com/javase/7/docs/technotes/guides/jar/jar.html)\n",
        "\n",
        "* [WildFly Docs](https://docs.wildfly.org/20/Getting_Started_Developing_Applications_Guide.html)\n",
        "\n",
        "* [How to Deploy Spring Boot Application in Wildfly Application Server | by Somnath Musib | The Startup | Medium](https://medium.com/swlh/how-to-deploy-spring-boot-application-in-wildfly-application-server-b3670c031ad4)\n",
        "\n",
        "* [Teeing, a hidden gem in the Java API](https://blog.frankel.ch/teeing-java-api/)\n",
        "\n",
        "* [Super User](https://superuser.com/questions/569633/what-is-command-to-see-all-java-versions-installed-on-linux)\n",
        "\n",
        "* [Why do we use rt.jar in a java project? - Stack Overflow](https://stackoverflow.com/questions/3091040/why-do-we-use-rt-jar-in-a-java-project)\n",
        "\n",
        "* [Tools and Commands Reference](https://docs.oracle.com/javase/9/tools/tools-and-command-reference.htm#JSWOR596)\n",
        "\n",
        "- [java - Can I serve JSPs from inside a JAR in lib, or is there a workaround? - Stack Overflow](https://stackoverflow.com/questions/5013917/can-i-serve-jsps-from-inside-a-jar-in-lib-or-is-there-a-workaround)\n",
        "\n",
        "- [java - How to Generate Web.xml flle on maven project - Stack Overflow](https://stackoverflow.com/questions/27804980/how-to-generate-web-xml-flle-on-maven-project)\n",
        "\n",
        "- [java - How to list the files inside a JAR file? - Stack Overflow](https://stackoverflow.com/questions/1429172/how-to-list-the-files-inside-a-jar-file)\n",
        "\n",
        "- [java - Is a jps process a JVM process? - Stack Overflow](https://stackoverflow.com/questions/55671171/is-a-jps-process-a-jvm-process)\n",
        "\n",
        "- [java - List of running JVMs on the localhost - Stack Overflow](https://stackoverflow.com/questions/5200269/list-of-running-jvms-on-the-localhost)\n",
        "\n",
        "- [java - What is \"pom\" packaging in maven? - Stack Overflow](https://stackoverflow.com/questions/7692161/what-is-pom-packaging-in-maven)\n",
        "\n",
        "* [JSP - Lifecycle](https://www.tutorialspoint.com/jsp/jsp_life_cycle.htm)\n",
        "\n",
        "* [Understanding and Implementing Neural Networks in Java from Scratch](https://towardsdatascience.com/understanding-and-implementing-neural-networks-in-java-from-scratch-61421bb6352c)\n",
        "\n",
        "* [Java Glossary and the Core Concepts in the Java Language – Stackify](https://stackify.com/java-glossary/)\n",
        "\n",
        "* [Java Platform, Enterprise Edition (Java EE) | Oracle Technology Network | Oracle](https://www.oracle.com/java/technologies/java-ee-glance.html#javaee8)\n",
        "\n",
        "* [The Java Native Keyword and Methods | Baeldung](https://www.baeldung.com/java-native)\n",
        "\n",
        "* [Servlet Filters and Event Listeners](https://docs.oracle.com/cd/B14099_19/web.1012/b14017/filters.htm)\n",
        "\n",
        "* [The Confident Spring Professional](https://www.marcobehler.com/courses/spring-professional)\n",
        "\n",
        "* [What is Spring Framework? An Unorthodox Guide](https://www.marcobehler.com/guides/spring-framework)\n",
        "\n",
        "* [Reference Guide Eclipse Collections](https://github.com/eclipse/eclipse-collections/blob/master/docs/guide.md)\n",
        "\n",
        "* [API Design: Eclipse Collections](http://eclipse.github.io/eclipse-collections-kata/api-design/#/)\n",
        "\n",
        "* [How I Hacked Google App Engine: Anatomy of a Java Bytecode Exploit](https://blog.polybdenum.com/2021/05/05/how-i-hacked-google-app-engine-anatomy-of-a-java-bytecode-exploit.html)\n",
        "\n",
        "* [WAR (file format)](https://en.wikipedia.org/wiki/WAR_(file_format))\n",
        "\n",
        "* [EAR (file format)](https://en.wikipedia.org/wiki/EAR_(file_format))\n",
        "\n",
        "* [WildFly Admin Guide](https://docs.wildfly.org/13/Admin_Guide.html)\n",
        "\n",
        "* [Creating a web server / servlet container in Java - Standing on the shoulders of giants](https://stackoverflow.com/questions/5338675/creating-a-web-server-servlet-container-in-java-standing-on-the-shoulders-of)\n",
        "\n",
        "* [Jasper 2 JSP Engine How To](http://tomcat.apache.org/tomcat-7.0-doc/jasper-howto.html)\n",
        "\n",
        "* [How jasper the jsp engine, compile JSP to servlet?](https://stackoverflow.com/questions/1714153/how-jasper-the-jsp-engine-compile-jsp-to-servlet)\n",
        "\n",
        "* [Java EE Platform Specification Project for the Java EE Expert Group](https://javaee.github.io/javaee-spec/)\n",
        "\n",
        "* [Let it flow in Java](https://jaxenter.com/let-flow-java-139880.html)\n",
        "\n",
        "* [Jakarta EE Platform](https://jakarta.ee/specifications/platform/8/platform-spec-8.html)\n",
        "\n",
        "* [Java EE at a Glance](https://www.oracle.com/java/technologies/java-ee-glance.html)\n",
        "\n",
        "* [Java EE Compatibility](https://www.oracle.com/java/technologies/compatibility-jsp.html)\n",
        "\n",
        "* [A summary of all Java EE specifications](https://stackoverflow.com/questions/37082364/a-summary-of-all-java-ee-specifications)\n",
        "\n",
        "* [Where are all the javax jars?](https://stackoverflow.com/questions/14925554/where-are-all-the-javax-jars)\n",
        "\n",
        "* [Gassfish Java EE Open Implementation](https://javaee.github.io/glassfish/)\n",
        "\n",
        "* [Difference Between JavaEE and Spring](https://www.geeksforgeeks.org/difference-between-javaee-and-spring/)\n",
        "\n",
        "* [Spring Creator Rod Johnson: What Went Wrong with Enterprise Java](https://thenewstack.io/spring-rod-johnson-enterprise-java/)\n",
        "\n",
        "* [Introduction to Spring AOP](https://www.baeldung.com/spring-aop)\n",
        "\n",
        "* [Spring AOP Tutorial](https://www.javatpoint.com/spring-aop-tutorial)\n",
        "\n",
        "* [Why we chose Java for our High-Frequency Trading application](https://medium.com/@jadsarmo/why-we-chose-java-for-our-high-frequency-trading-application-600f7c04da94)\n",
        "\n",
        "* [Arrays of Wisdom of the Ancients](https://shipilev.net/blog/2016/arrays-wisdom-ancients)\n",
        "\n",
        "* [Java Native Interface](https://es.wikipedia.org/wiki/Java_Native_Interface)\n",
        "\n",
        "* [Java Object Serialization Specification](https://docs.oracle.com/javase/7/docs/platform/serialization/spec/serialTOC.html)\n",
        "\n",
        "* [Securing Web Application Technologies SWAT Checklist](https://www.sans.org/cloud-security/securing-web-application-technologies/)\n",
        "\n",
        "* [Secure Coding Guidelines for Java SE](https://www.oracle.com/java/technologies/javase/seccodeguide.html)\n",
        "\n",
        "* [FF4J: Feature Toggling for Spring/Spring Boot Applications](https://www.infoq.com/presentations/ff4j/)\n",
        "\n",
        "* [How to Write Doc Comments for the Javadoc Tool](https://www.oracle.com/technical-resources/articles/java/javadoc-tool.html)\n",
        "\n",
        "* [Examples of Java Docs](http://www.docjar.net/html/api/java/util/Collections.java.html)\n",
        "\n",
        "* [When to use parallel streams](http://gee.cs.oswego.edu/dl/html/StreamParallelGuidance.html)\n",
        "\n",
        "* [Even more greatness packed into Java 16, including tools for improving future JVMs](https://blogs.oracle.com/javamagazine/java-champion-more-favorite-java16-features)\n",
        "\n",
        "* [Java still rocks the finance industry. Here’s why Java 16 makes it even better](https://blogs.oracle.com/javamagazine/finance-quant-forex-java16)\n",
        "\n",
        "* [From the vector API to records to elastic metaspace, there’s a lot packed into Java 16](https://blogs.oracle.com/javamagazine/java-champion-favorite-java16-records-vector-arm64-github)\n",
        "\n",
        "* [How to program machine learning in Java with the Tribuo library](https://blogs.oracle.com/javamagazine/how-to-program-machine-learning-in-java-with-the-tribuo-library)\n",
        "\n",
        "* [The 25 greatest Java apps ever written](https://blogs.oracle.com/javamagazine/the-top-25-greatest-java-apps-ever-written)\n",
        "\n",
        "* [Records Come to Java](https://blogs.oracle.com/javamagazine/records-come-to-java)\n",
        "\n",
        "* [Inside Java 15: Fourteen JEPs in five buckets](https://blogs.oracle.com/javamagazine/inside-java-15-fourteen-jeps-in-five-buckets)\n",
        "\n",
        "* [Modern Java toys that boost productivity, from type inference to text blocks](https://blogs.oracle.com/javamagazine/modern-java-toys-that-boost-productivity-from-type-inference-to-text-blocks)\n",
        "\n",
        "* [Programming the GPU in Java](https://blogs.oracle.com/javamagazine/programming-the-gpu-in-java)\n",
        "\n",
        "* [Five Code Review Antipatterns](https://blogs.oracle.com/javamagazine/five-code-review-antipatterns)\n",
        "\n",
        "* [Easy Searching with Elasticsearch](https://blogs.oracle.com/javamagazine/easy-searching-with-elasticsearch) \n",
        "\n",
        "* [Understanding the JDK’s New Superfast Garbage Collectors](https://blogs.oracle.com/javamagazine/understanding-the-jdks-new-superfast-garbage-collectors)\n",
        "\n",
        "* [Behind the scenes: How do lambda expressions really work in Java?](https://blogs.oracle.com/javamagazine/behind-the-scenes-how-do-lambda-expressions-really-work-in-java)\n",
        "\n",
        "* [Design change-tolerant software with cloud native patterns](https://blogs.oracle.com/javamagazine/design-change-tolerant-software-with-cloud-native-patterns)\n",
        "\n",
        "* [JPAstreamer: Expressing Hibernate/JPA queries with Java streams](https://blogs.oracle.com/javamagazine/jpastreamer-expressing-hibernatejpa-queries-with-java-streams)\n",
        "\n",
        "* [10 Tips to Become a Better Java Developer](https://dzone.com/articles/10-tips-to-become-a-better-java-developer-in-2018)\n",
        "\n",
        "* [The 25 greatest Java apps ever written](https://blogs.oracle.com/javamagazine/the-top-25-greatest-java-apps-ever-written\n",
        ")\n",
        "\n",
        "* [9 High-Performance Tips when using PostgreSQL with JPA and Hibernate](https://vladmihalcea.com/9-postgresql-high-performance-performance-tips/)\n",
        "\n",
        "* [How Many Threads Can a Java VM Support?](https://www.baeldung.com/jvm-max-threads)\n",
        "\n",
        "* [All Algorithms implemented in Java](https://github.com/TheAlgorithms/Java)\n",
        "\n",
        "* [Java Design Patterns](https://java-design-patterns.com/)\n",
        "\n",
        "* [Java virtual machine](https://en.wikipedia.org/wiki/Java_virtual_machine)\n",
        "\n",
        "* [A curated list of awesome frameworks, libraries and software for the Java programming language.](https://github.com/akullpp/awesome-java)\n",
        "\n",
        "* [The Modern Java Platform - 2021 Edition](https://jamesward.com/2021/03/16/the-modern-java-platform-2021-edition/)\n",
        "    * [Discussion](https://news.ycombinator.com/item?id=26485993)\n",
        "\n",
        "* [A categorized list of all Java and JVM features since JDK 8 to 16](https://advancedweb.hu/a-categorized-list-of-all-java-and-jvm-features-since-jdk-8-to-16/)\n",
        "\n",
        "\n",
        "\n",
        "* [How to write a (toy) JVM](https://zserge.com/posts/jvm/)\n",
        "\n",
        "* [Java Platform, Standard Edition HotSpot Virtual Machine Garbage Collection Tuning Guide](https://docs.oracle.com/javase/8/docs/technotes/guides/vm/gctuning/)\n",
        "\n",
        "* [Returning Stream vs. Collection](https://www.baeldung.com/java-return-stream-collection)\n",
        "\n",
        "* [List of Java frameworks](https://en.wikipedia.org/wiki/List_of_Java_frameworks)\n",
        "\n",
        "\n",
        "\n",
        "* [Classpath](https://en.wikipedia.org/wiki/Classpath)\n",
        "\n",
        "* [JAR (file format)](https://en.wikipedia.org/wiki/JAR_(file_format))\n",
        "\n",
        "* [Java Classloader](https://en.wikipedia.org/wiki/Java_Classloader)\n",
        "\n",
        "* [Java Platform Module System](https://en.wikipedia.org/wiki/Java_Platform_Module_System)\n",
        "\n",
        "* [The Java™ Tutorials](https://docs.oracle.com/javase/tutorial/index.html)\n",
        "\n",
        "* [Packaging Web Archives](https://javaee.github.io/tutorial/packaging003.html#BCGHAHGD)\n",
        "\n",
        "* [A summary of all Java EE specifications](https://stackoverflow.com/questions/37082364/a-summary-of-all-java-ee-specifications)\n",
        "\n",
        "* [Why Java is better than C++ for high speed trading systems](https://news.efinancialcareers.com/uk-en/3004875/low-latency-java-trading-systems)\n",
        "\n",
        "* (D) [The Java Language Environment A White Paper](http://0.0.0.0:8000/7%20Programming%20Languages/Articulos/The%20Java%20Language%20Environment%20A%20White%20Paper.pdf)\n",
        "\n",
        "\n",
        "\n",
        "* [Java is criminally underhyped](https://jackson.sh/posts/2021-04-java-underrated/)\n",
        "\n",
        "* [Java Performance](http://0.0.0.0:8000/7%20Programming%20Languages/Libros/Java%20Performance.pdf)\n",
        "\n",
        "* [Java Debugger (JDB)](https://www.ibm.com/support/knowledgecenter/en/SSYKE2_7.1.0/com.ibm.java.win.71.doc/user/jdb.html)\n",
        "\n",
        "* [Understanding HotSpot JVM Performance with JITWatch](https://www.infoq.com/presentations/jitwatch/)\n",
        "\n",
        "* [how to start jvm and can we have multiple jvm running on a single system?](https://stackoverflow.com/questions/37298011/how-to-start-jvm-and-can-we-have-multiple-jvm-running-on-a-single-system)\n"
      ]
    }
  ]
}