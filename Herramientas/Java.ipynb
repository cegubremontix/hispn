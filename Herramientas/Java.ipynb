{
  "nbformat": 4,
  "nbformat_minor": 0,
  "metadata": {
    "colab": {
      "name": "Java.ipynb",
      "provenance": [],
      "collapsed_sections": [],
      "authorship_tag": "ABX9TyPxioWUPp9SUiSNI8FjFAqo",
      "include_colab_link": true
    },
    "kernelspec": {
      "name": "python3",
      "display_name": "Python 3"
    }
  },
  "cells": [
    {
      "cell_type": "markdown",
      "metadata": {
        "id": "view-in-github",
        "colab_type": "text"
      },
      "source": [
        "<a href=\"https://colab.research.google.com/github/dbremont/Notas/blob/main/Herramientas/Java.ipynb\" target=\"_parent\"><img src=\"https://colab.research.google.com/assets/colab-badge.svg\" alt=\"Open In Colab\"/></a>"
      ]
    },
    {
      "cell_type": "markdown",
      "metadata": {
        "id": "i-k8-PvVKw5K"
      },
      "source": [
        "# Java"
      ]
    },
    {
      "cell_type": "markdown",
      "metadata": {
        "id": "hzRATeF4KzLZ"
      },
      "source": [
        "* [Classpath](https://en.wikipedia.org/wiki/Classpath)\n",
        "\n",
        "* [JAR (file format)](https://en.wikipedia.org/wiki/JAR_(file_format))\n",
        "\n",
        "* [Java Classloader](https://en.wikipedia.org/wiki/Java_Classloader)\n",
        "\n",
        "* [Java Platform Module System](https://en.wikipedia.org/wiki/Java_Platform_Module_System)\n",
        "\n",
        "* [The Java™ Tutorials](https://docs.oracle.com/javase/tutorial/index.html)\n",
        "\n",
        "* [Packaging Web Archives](https://javaee.github.io/tutorial/packaging003.html#BCGHAHGD)\n",
        "\n",
        "* [A summary of all Java EE specifications](https://stackoverflow.com/questions/37082364/a-summary-of-all-java-ee-specifications)\n",
        "\n",
        "* [Why Java is better than C++ for high speed trading systems](https://news.efinancialcareers.com/uk-en/3004875/low-latency-java-trading-systems)\n",
        "\n",
        "* (D) [The Java Language Environment A White Paper](http://0.0.0.0:8000/7%20Programming%20Languages/Articulos/The%20Java%20Language%20Environment%20A%20White%20Paper.pdf)\n",
        "\n",
        "\n",
        "-----\n",
        "\n",
        "* [Effective Java (3rd)](http://0.0.0.0:8000/7%20Programming%20Languages/Libros/Effective%20Java%20%283rd%29.pdf)\n",
        "\n",
        "* [Java Concurrency in Practice](http://0.0.0.0:8000/7%20Programming%20Languages/Libros/Java%20Concurrency%20in%20Practice.pdf)\n",
        "\n",
        "* [Java is criminally underhyped](https://jackson.sh/posts/2021-04-java-underrated/)\n",
        "\n",
        "* [Java Performance](http://0.0.0.0:8000/7%20Programming%20Languages/Libros/Java%20Performance.pdf)\n",
        "\n",
        "* [Java Debugger (JDB)](https://www.ibm.com/support/knowledgecenter/en/SSYKE2_7.1.0/com.ibm.java.win.71.doc/user/jdb.html)\n",
        "\n",
        "* [Understanding HotSpot JVM Performance with JITWatch](https://www.infoq.com/presentations/jitwatch/)\n",
        "\n",
        "* [how to start jvm and can we have multiple jvm running on a single system?](https://stackoverflow.com/questions/37298011/how-to-start-jvm-and-can-we-have-multiple-jvm-running-on-a-single-system)\n",
        "\n",
        "* [Parallel, Concurrent, and Distributed Programming in Java Specialization](https://www.coursera.org/specializations/pcdp)\n",
        "\n",
        "* [Software Design and Architecture Specialization](https://www.coursera.org/specializations/software-design-architecture)\n",
        "\n",
        "* [CS *253: Parallel Functional Programming with Java and Android](https://www.youtube.com/playlist?list=PLZ9NgFYEMxp5ZOxpx_RVkkktBMd0S5B6Q)\n",
        "\n",
        "* [Web Development with Java Spring Framework](https://www.coursera.org/learn/web-development-with-java-spring-framework)"
      ]
    },
    {
      "cell_type": "markdown",
      "metadata": {
        "id": "U0LBWEjxy6h-"
      },
      "source": [
        "## Courses"
      ]
    },
    {
      "cell_type": "markdown",
      "metadata": {
        "id": "Rso9cLgAy8VQ"
      },
      "source": [
        "- [Understanding the Java Virtual Machine: Memory Management](https://app.pluralsight.com/library/courses/understanding-java-vm-memory-management/table-of-contents)\n",
        "\n",
        "- [Understanding the Java Virtual Machine: Class Loading and Reflection](https://app.pluralsight.com/library/courses/understanding-java-vm-class-loading-reflection/table-of-contents)\n",
        "\n",
        "* [Understanding the Java Virtual Machine: Security](https://app.pluralsight.com/library/courses/understanding-java-vm-security/table-of-contents)\n",
        "\n",
        "* [Java Coding Practices](https://app.pluralsight.com/paths/skill/java-coding-practices)\n",
        "\n",
        "* [Java Language Fundamentals](https://app.pluralsight.com/paths/skill/java)\n",
        "\n",
        "* [Java EE Foundations](https://app.pluralsight.com/paths/skill/java-ee-foundations)\n",
        "\n",
        "* [Design Patterns in Java](https://app.pluralsight.com/paths/skill/design-patterns-in-java)\n",
        "\n",
        "* [Building Machine Learning Solutions with Java](https://app.pluralsight.com/paths/skill/building-machine-learning-solutions-with-java)\n",
        "\n",
        "* [Malware Analysis](https://app.pluralsight.com/paths/skill/malware-analysis)\n",
        "\n",
        "* [Java Unit Testing](https://app.pluralsight.com/paths/skill/unit-testing-in-java)\n",
        "\n",
        "* [Java Development Environments and Tooling](https://app.pluralsight.com/paths/skill/java-tooling)\n",
        "\n",
        "* [Design Patterns Library](https://app.pluralsight.com/library/courses/patterns-library/table-of-contents)\n",
        "\n",
        "* [Applying Concurrency and Multi-threading to Common Java Patterns](https://app.pluralsight.com/library/courses/java-patterns-concurrency-multi-threading/table-of-contents)\n",
        "\n",
        "* [SOLID Principles of Object Oriented Design](https://app.pluralsight.com/library/courses/principles-oo-design/table-of-contents)\n",
        "\n",
        "* [Refactoring Fundamentals](https://app.pluralsight.com/library/courses/refactoring-fundamentals/table-of-contents)\n",
        "\n",
        "* [Domain-Driven Design Fundamentals](https://app.pluralsight.com/library/courses/domain-driven-design-fundamentals/table-of-contents)\n",
        "\n",
        "* [Domain-Driven Design in Practice](https://app.pluralsight.com/library/courses/domain-driven-design-in-practice/table-of-contents)\n",
        "\n",
        "* [Getting Started with Docker](https://app.pluralsight.com/library/courses/getting-started-docker/table-of-contents?aid=7010a000001xAKZAA2)\n",
        "\n",
        "* [Docker Deep Dive](https://app.pluralsight.com/library/courses/docker-deep-dive-update/table-of-contents?aid=7010a000001xAKZAA2)\n",
        "\n",
        "* [Building Progressive Web Applications](https://app.pluralsight.com/paths/skill/building-progressive-web-applications)\n",
        "\n",
        "* [Building Web Applications with React](https://app.pluralsight.com/paths/skill/building-web-applications-with-react)\n",
        "\n",
        "* [C Development Fundamentals](https://app.pluralsight.com/paths/skill/c-development-fundamentals)\n",
        "\n",
        "* [Domain-Driven Design](https://app.pluralsight.com/paths/skill/domain-driven-design)\n",
        "\n",
        "* [GraphQL API's with Apollo](https://app.pluralsight.com/paths/skill/building-graphql-apis-with-apollo)\n",
        "\n",
        "* [Microservices Architecture](https://app.pluralsight.com/paths/skill/microservices-architecture)\n",
        "\n",
        "* [Planning, Tracking, and Releasing Software with Jira](https://app.pluralsight.com/paths/skill/planning-tracking-and-releasing-software-with-jira)\n",
        "\n",
        "* [Spring Framework: Building Web Applications and Services](https://app.pluralsight.com/paths/skill/spring-framework-building-web-applications-and-services)\n",
        "\n",
        "* [Spring Framework: Core Spring](https://app.pluralsight.com/paths/skill/spring-framework-core-spring)\n",
        "\n",
        "* [Spring Framework: Data Access with Spring](https://app.pluralsight.com/paths/skill/spring-framework-data-access-with-spring) \n",
        "\n",
        "* [Vue](https://app.pluralsight.com/paths/skill/vue)\n",
        "\n",
        "* [Web Application Security](https://app.pluralsight.com/paths/skill/web-application-security)"
      ]
    }
  ]
}