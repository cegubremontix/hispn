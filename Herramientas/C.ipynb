{
  "nbformat": 4,
  "nbformat_minor": 0,
  "metadata": {
    "colab": {
      "name": "C.ipynb",
      "provenance": [],
      "authorship_tag": "ABX9TyMjRR7IrTf7Bw7zxOG7p153",
      "include_colab_link": true
    },
    "kernelspec": {
      "name": "python3",
      "display_name": "Python 3"
    },
    "language_info": {
      "name": "python"
    }
  },
  "cells": [
    {
      "cell_type": "markdown",
      "metadata": {
        "id": "view-in-github",
        "colab_type": "text"
      },
      "source": [
        "<a href=\"https://colab.research.google.com/github/dbremont/Notas/blob/main/Herramientas/C.ipynb\" target=\"_parent\"><img src=\"https://colab.research.google.com/assets/colab-badge.svg\" alt=\"Open In Colab\"/></a>"
      ]
    },
    {
      "cell_type": "markdown",
      "metadata": {
        "id": "L8PvtzwJb88W"
      },
      "source": [
        "[C++ Reference](https://en.cppreference.com/w/)\n",
        "\n",
        "[Getting started with C programming: a lightning-fast start for absolute beginners](https://not.cafe/2020/10/12/getting-started-with-c-programming.html)"
      ]
    },
    {
      "cell_type": "markdown",
      "metadata": {
        "id": "YJD9yDLPuTYv"
      },
      "source": [
        "[The GNU C Library](https://www.gnu.org/software/libc/manual/html_mono/libc.html#toc-Searching-and-Sorting-1)\n",
        "\n",
        "[Folly](https://github.com/facebook/folly)\n",
        "\n",
        "[Fprime: F' - A flight software and embedded systems framework](https://github.com/nasa/fprime)\n",
        "\n",
        "[SPARTA: SPARTA is a library that provides the basic blocks for building high-performance static code analyzers based on Abstract Interpretation. - Chromium](https://github.com/facebook/SPARTA)\n",
        "\n",
        "[facebook/wangle: Wangle is a framework providing a set of common client/server abstractions for building services in a consistent, modular, and composable way. - Chromium](https://github.com/facebook/wangle)\n",
        "\n",
        "[klange/toaruos: A completely-from-scratch hobby operating system: bootloader, kernel, drivers, C library, and userspace including a composited graphical UI, dynamic linker, syntax-highlighting text editor, network stack, etc](https://github.com/klange/toaruos)\n",
        "\n",
        "[HHVM and Hack Documentation - Chromium](https://docs.hhvm.com/)"
      ]
    },
    {
      "cell_type": "markdown",
      "metadata": {
        "id": "wM16y4vT_lLQ"
      },
      "source": [
        "[linux - Read and write to binary files in C? - Stack Overflow -  ](https://stackoverflow.com/questions/17598572/read-and-write-to-binary-files-in-c)"
      ]
    }
  ]
}