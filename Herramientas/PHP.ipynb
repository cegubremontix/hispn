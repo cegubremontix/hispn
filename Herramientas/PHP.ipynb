{
  "nbformat": 4,
  "nbformat_minor": 0,
  "metadata": {
    "colab": {
      "name": "PHP.ipynb",
      "provenance": [],
      "authorship_tag": "ABX9TyP5KCsA07/V3RHILloxCJ2s",
      "include_colab_link": true
    },
    "kernelspec": {
      "name": "python3",
      "display_name": "Python 3"
    },
    "language_info": {
      "name": "python"
    }
  },
  "cells": [
    {
      "cell_type": "markdown",
      "metadata": {
        "id": "view-in-github",
        "colab_type": "text"
      },
      "source": [
        "<a href=\"https://colab.research.google.com/github/dbremont/Notas/blob/main/Herramientas/PHP.ipynb\" target=\"_parent\"><img src=\"https://colab.research.google.com/assets/colab-badge.svg\" alt=\"Open In Colab\"/></a>"
      ]
    },
    {
      "cell_type": "markdown",
      "metadata": {
        "id": "BslKtugqfuIE"
      },
      "source": [
        "- [PHAR (file format)](https://en.wikipedia.org/wiki/PHAR_(file_format))\n",
        "- [PHing Is Not GNU make](https://www.phing.info/)\n",
        "- [PHP Features](https://www.php.net/manual/en/features.php)\n",
        "- [PHP the Right Way ](https://phptherightway.com)\n",
        "- [Laravel](https://laravel.com/)\n",
        "- [Laravel Homestead](https://laravel.com/docs/7.x/homestead)"
      ]
    }
  ]
}