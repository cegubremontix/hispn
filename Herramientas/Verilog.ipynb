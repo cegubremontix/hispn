{
  "nbformat": 4,
  "nbformat_minor": 0,
  "metadata": {
    "colab": {
      "name": "Verilog.ipynb",
      "provenance": [],
      "authorship_tag": "ABX9TyPuzUOdxk+T76v387/QI9Nn",
      "include_colab_link": true
    },
    "kernelspec": {
      "name": "python3",
      "display_name": "Python 3"
    },
    "language_info": {
      "name": "python"
    }
  },
  "cells": [
    {
      "cell_type": "markdown",
      "metadata": {
        "id": "view-in-github",
        "colab_type": "text"
      },
      "source": [
        "<a href=\"https://colab.research.google.com/github/dbremont/Notas/blob/main/Herramientas/Verilog.ipynb\" target=\"_parent\"><img src=\"https://colab.research.google.com/assets/colab-badge.svg\" alt=\"Open In Colab\"/></a>"
      ]
    },
    {
      "cell_type": "markdown",
      "metadata": {
        "id": "KQ7AloRxQfP9"
      },
      "source": [
        "Verilog"
      ]
    },
    {
      "cell_type": "markdown",
      "metadata": {
        "id": "sXKGjc5-QwJg"
      },
      "source": [
        "- [Verilog](https://en.wikipedia.org/wiki/Verilog)\n",
        "\n",
        "- [Introducción al diseño de hardware con Verilog](https://www.edx.org/es/course/introduccion-al-diseno-de-hardware-con-verilog)"
      ]
    }
  ]
}