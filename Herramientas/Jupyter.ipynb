{
  "nbformat": 4,
  "nbformat_minor": 0,
  "metadata": {
    "colab": {
      "name": "Jupyter.ipynb",
      "provenance": [],
      "authorship_tag": "ABX9TyNdbVV9ONH3s/zb44fQ/Cog",
      "include_colab_link": true
    },
    "kernelspec": {
      "name": "python3",
      "display_name": "Python 3"
    },
    "language_info": {
      "name": "python"
    }
  },
  "cells": [
    {
      "cell_type": "markdown",
      "metadata": {
        "id": "view-in-github",
        "colab_type": "text"
      },
      "source": [
        "<a href=\"https://colab.research.google.com/github/dbremont/Notas/blob/main/Herramientas/Jupyter.ipynb\" target=\"_parent\"><img src=\"https://colab.research.google.com/assets/colab-badge.svg\" alt=\"Open In Colab\"/></a>"
      ]
    },
    {
      "cell_type": "markdown",
      "metadata": {
        "id": "kmYq85W2sbNe"
      },
      "source": [
        "- [Java kernel for Jupyter](https://stackoverflow.com/questions/33972860/java-kernel-for-jupyter)\n",
        "\n",
        "- [Jupyter kernels](https://github.com/jupyter/jupyter/wiki/Jupyter-kernels)\n",
        "\n",
        "- Para instalar [IJava](https://github.com/SpencerPark/IJava#requirements).\n",
        "\n",
        "- Tube algunos inconvenientes intentando isntalar el kernel global para todos los usuario /usr/share/, pero yo tengo jupyter en mi usuario y eso me jenero problemas para resolverlo, en share puse enlaces apuntdo a directorios y ejecutables concretos.\n",
        "\n",
        "- Pero una forma mas práctica de hacerlo, es instalarlo local para el usuario verificar el help de la instalacion.\n",
        "\n",
        "- En caso de que jupyte reste instalado para un usuario especifico y on compartido con los demas  usuarios:\n",
        " \n",
        " - ```python3 install.py --user```"
      ]
    }
  ]
}