{
  "nbformat": 4,
  "nbformat_minor": 0,
  "metadata": {
    "colab": {
      "name": "OCaml.ipynb",
      "provenance": [],
      "authorship_tag": "ABX9TyM2u0fDSQoNBqebDzreF2Vt",
      "include_colab_link": true
    },
    "kernelspec": {
      "name": "python3",
      "display_name": "Python 3"
      
    },
    "language_info": {
      "name": "python"
    }
  },
  "cells": [
    {
      "cell_type": "markdown",
      "metadata": {
        "id": "view-in-github",
        "colab_type": "text"
      },
      "source": [
        "<a href=\"https://colab.research.google.com/github/dbremont/Notas/blob/main/Herramientas/OCaml.ipynb\" target=\"_parent\"><img src=\"https://colab.research.google.com/assets/colab-badge.svg\" alt=\"Open In Colab\"/></a>"
      ]
    },
    {
      "cell_type": "markdown",
      "metadata": {
        "id": "GB-NDEiqE1XZ"
      },
      "source": [
        "## Doing Usefull stuff with this tool for expressing computations\n",
        "\n",
        "- And explore the ecosystem, platform"
      ]
    },
    {
      "cell_type": "markdown",
      "metadata": {
        "id": "tSTDi6WteYk-"
      },
      "source": [
        "* [Ocaml](https://ocaml.org)"
      ]
    },
    {
      "cell_type": "markdown",
      "metadata": {
        "id": "UXif5vGHUW1H"
      },
      "source": [
        "- More OCaml: Algorithms, Methods, and Diversions\n",
        "- OCaml from the Very Beginning\n",
        "- [The OCaml system](https://ocaml.org/manual/)\n",
        "- [OCaml tutorials](https://ocaml.org/learn/tutorials/)\n",
        "- [Real World OCaml Functional Programming for the Masses](https://dev.realworldocaml.org/index.html)\n",
        "- [Abstraction and Design In Computation](https://book.cs51.io/)\n",
        "- [Functional Programming in OCaml](https://www.cis.upenn.edu/~cis120/current/files/120notes.pdf)\n",
        "- [Functional Programming in OCaml](https://www.cs.cornell.edu/courses/cs3110/2019sp/textbook/)\n"
      ]
    },
    {
      "cell_type": "markdown",
      "metadata": {
        "id": "nwpAErThfaKW"
      },
      "source": [
        "## Installation\n",
        "\n",
        "To install the [platform](https://www.haskell.org/downloads/#platform)\n",
        "\n",
        "```sudo apt-get install haskell-platform```"
      ]
    },
    {
      "cell_type": "markdown",
      "metadata": {
        "id": "_58RyZQGgOue"
      },
      "source": [
        "- \n",
        "\n",
        "``` even filter [1..30] ```"
      ]
    },
    {
      "cell_type": "markdown",
      "metadata": {
        "id": "EBpcI0kDvubw"
      },
      "source": [
        "## Projects"
      ]
    },
    {
      "cell_type": "markdown",
      "metadata": {
        "id": "wRvoucEgvvpl"
      },
      "source": [
        "* [Awesome Ocaml](https://github.com/ocaml-community/awesome-ocaml)\n",
        "\n",
        "* [Jane Street Open Source](https://opensource.janestreet.com/)\n",
        "\n",
        "* Todo: Make a List of Proyects"
      ]
    }
  ]
}
