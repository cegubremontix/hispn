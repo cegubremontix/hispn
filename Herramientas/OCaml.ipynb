{
  "nbformat": 4,
  "nbformat_minor": 0,
  "metadata": {
    "colab": {
      "name": "Haskell.ipynb",
      "provenance": [],
      "authorship_tag": "ABX9TyOyecvktwAFAmM1wEzOVQnZ",
      "include_colab_link": true
    },
    "kernelspec": {
      "name": "python3",
      "display_name": "Python 3"
    },
    "language_info": {
      "name": "python"
    }
  },
  "cells": [
    {
      "cell_type": "markdown",
      "metadata": {
        "id": "view-in-github",
        "colab_type": "text"
      },
      "source": [
        "<a href=\"https://colab.research.google.com/github/dbremont/Notas/blob/main/Herramientas/Haskell.ipynb\" target=\"_parent\"><img src=\"https://colab.research.google.com/assets/colab-badge.svg\" alt=\"Open In Colab\"/></a>"
      ]
    },
    {
      "cell_type": "markdown",
      "metadata": {
        "id": "GB-NDEiqE1XZ"
      },
      "source": [
        "## Doing Usefull stuff with this tool for expressing computations\n",
        "\n",
        "- And explore the ecosystem, platform"
      ]
    },
    {
      "cell_type": "markdown",
      "metadata": {
        "id": "tSTDi6WteYk-"
      },
      "source": [
        "* [Haskell](https://www.haskell.org/)"
      ]
    },
    {
      "cell_type": "markdown",
      "metadata": {
        "id": "UXif5vGHUW1H"
      },
      "source": [
        "- [Programming in Haskell](https://colab.research.google.com/github/dbremont/Notas/blob/main/Libros/Computacion/Programming_in_Haskell.ipynb)"
      ]
    },
    {
      "cell_type": "markdown",
      "metadata": {
        "id": "bN99VcDIVNkj"
      },
      "source": [
        "- [Functional Programming](https://www.youtube.com/playlist?list=PLF1Z-APd9zK7usPMx3LGMZEHrECUGodd3)\n",
        "\n",
        "- [Advanced Functional Programming](https://www.youtube.com/playlist?list=PLF1Z-APd9zK5uFc8FKr_di9bfsYv8-lbc)\n",
        "\n",
        "* [Functional Systems in Haskell](http://www.scs.stanford.edu/14sp-cs240h/)\n",
        "\n",
        "* [CIS 194: Introduction to Haskell](https://www.seas.upenn.edu/~cis194/fall16/)\n"
      ]
    },
    {
      "cell_type": "markdown",
      "metadata": {
        "id": "7q8XyRdAd_TW"
      },
      "source": [
        "* [WHAT I WISH I KNEW WHEN LEARNING HASKELL](http://dev.stephendiehl.com/hask/)\n",
        "\n",
        "* [What is Good About Haskell?](https://doisinkidney.com/posts/2019-10-02-what-is-good-about-haskell.html)\n",
        "\n",
        "* [A Pythonista's Review of Haskell](https://bytes.yingw787.com/posts/2020/01/30/a_review_of_haskell/)\n",
        "\n",
        "* [Sample code to accompany the book \"Parallel and Concurrent Programming in Haskell\"](https://github.com/simonmar/parconc-examples)"
      ]
    },
    {
      "cell_type": "markdown",
      "metadata": {
        "id": "nwpAErThfaKW"
      },
      "source": [
        "## Installation\n",
        "\n",
        "To install the [platform](https://www.haskell.org/downloads/#platform)\n",
        "\n",
        "```sudo apt-get install haskell-platform```"
      ]
    },
    {
      "cell_type": "markdown",
      "metadata": {
        "id": "_58RyZQGgOue"
      },
      "source": [
        "- \n",
        "\n",
        "``` even filter [1..30] ```"
      ]
    },
    {
      "cell_type": "markdown",
      "metadata": {
        "id": "EBpcI0kDvubw"
      },
      "source": [
        "## Projects"
      ]
    },
    {
      "cell_type": "markdown",
      "metadata": {
        "id": "wRvoucEgvvpl"
      },
      "source": [
        "* [Write You A Scheme](https://wespiser.com/writings/wyas/home.html)"
      ]
    }
  ]
}
