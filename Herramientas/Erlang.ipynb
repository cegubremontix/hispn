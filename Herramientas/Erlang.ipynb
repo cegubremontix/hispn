{
  "nbformat": 4,
  "nbformat_minor": 0,
  "metadata": {
    "colab": {
      "name": "Erlang.ipynb",
      "provenance": [],
      "authorship_tag": "ABX9TyMdnU6o9oIt79Ze2K4/Bavh",
      "include_colab_link": true
    },
    "kernelspec": {
      "name": "python3",
      "display_name": "Python 3"
    },
    "language_info": {
      "name": "python"
    }
  },
  "cells": [
    {
      "cell_type": "markdown",
      "metadata": {
        "id": "view-in-github",
        "colab_type": "text"
      },
      "source": [
        "<a href=\"https://colab.research.google.com/github/dbremont/Notas/blob/main/Herramientas/Erlang.ipynb\" target=\"_parent\"><img src=\"https://colab.research.google.com/assets/colab-badge.svg\" alt=\"Open In Colab\"/></a>"
      ]
    },
    {
      "cell_type": "markdown",
      "metadata": {
        "id": "dxaYYIpsIPAG"
      },
      "source": [
        "Erlang"
      ]
    },
    {
      "cell_type": "markdown",
      "metadata": {
        "id": "IrQ4b0VOe96b"
      },
      "source": [
        "* (D) [Erlang - A survey of the language and its industrial applications](http://0.0.0.0:8000/3%20Computacion/Papers/Erlang%20-%20A%20survey%20of%20the%20language%20and%20its%20industrial%20applications.pdf)\n",
        "\n",
        "* (D) [From 10s to 1000s of engineers Scaling Erlang Developer Experience at WhatsApp](http://0.0.0.0:8000/3%20Computacion/Articulos/From%2010s%20to%201000s%20of%20engineers%20Scaling%20Erlang%20Developer%20Experience%20at%20WhatsApp.pdf)\n",
        "\n",
        "* [What is Erlang written in?](https://stackoverflow.com/questions/546160/what-is-erlang-written-in)"
      ]
    }
  ]
}