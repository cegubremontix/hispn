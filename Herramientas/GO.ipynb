{
  "nbformat": 4,
  "nbformat_minor": 0,
  "metadata": {
    "colab": {
      "name": "GO.ipynb",
      "provenance": [],
      "authorship_tag": "ABX9TyNdc5bp2O5tnX9EQ9tvYlWa",
      "include_colab_link": true
    },
    "kernelspec": {
      "name": "python3",
      "display_name": "Python 3"
    },
    "language_info": {
      "name": "python"
    }
  },
  "cells": [
    {
      "cell_type": "markdown",
      "metadata": {
        "id": "view-in-github",
        "colab_type": "text"
      },
      "source": [
        "<a href=\"https://colab.research.google.com/github/dbremont/Notas/blob/main/Herramientas/GO.ipynb\" target=\"_parent\"><img src=\"https://colab.research.google.com/assets/colab-badge.svg\" alt=\"Open In Colab\"/></a>"
      ]
    },
    {
      "cell_type": "markdown",
      "metadata": {
        "id": "TTO54JkFYdHX"
      },
      "source": [
        "[Build a Simple To-Do List App in Golang | by Mohamad Fadhil | Better Programming -  ](https://betterprogramming.pub/build-a-simple-todolist-app-in-golang-82297ec25c7d)\n",
        "\n",
        "[What's so great about Go? - Stack Overflow Blog -  ](https://stackoverflow.blog/2020/11/02/go-golang-learn-fast-programming-languages/)\n",
        "\n",
        "[The Go Programming Language Specification - The Go Programming Language -  ](https://golang.org/ref/spec)"
      ]
    }
  ]
}