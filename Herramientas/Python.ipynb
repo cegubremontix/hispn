{
  "nbformat": 4,
  "nbformat_minor": 0,
  "metadata": {
    "colab": {
      "name": "Python.ipynb",
      "provenance": [],
      "include_colab_link": true
    },
    "kernelspec": {
      "name": "python3",
      "display_name": "Python 3"
    },
    "language_info": {
      "name": "python"
    }
  },
  "cells": [
    {
      "cell_type": "markdown",
      "metadata": {
        "id": "view-in-github",
        "colab_type": "text"
      },
      "source": [
        "<a href=\"https://colab.research.google.com/github/dbremont/Notas/blob/main/Herramientas/Python.ipynb\" target=\"_parent\"><img src=\"https://colab.research.google.com/assets/colab-badge.svg\" alt=\"Open In Colab\"/></a>"
      ]
    },
    {
      "cell_type": "markdown",
      "metadata": {
        "id": "4bbmy-C5biyd"
      },
      "source": [
        "* [Ultimate Python study guide for newcomers and professionals alike](https://github.com/huangsam/ultimate-python)"
      ]
    },
    {
      "cell_type": "markdown",
      "metadata": {
        "id": "xp_larXBbsth"
      },
      "source": [
        "* [Speeding up function calls with just one line in Python](https://hackeregg.github.io/2020/06/03/Speeding-up-function-calls-with-just-one-line-in-Python.html)\n",
        "\n",
        "* [Using os.walk() to recursively traverse directories in Python](https://stackoverflow.com/questions/16953842/using-os-walk-to-recursively-traverse-directories-in-python)\n",
        "\n",
        "* [Python Configuration Right](https://whalesalad.com/blog/doing-python-configuration-right)\n",
        "\n",
        "* [Overview of python dependency management tools](https://modelpredict.com/python-dependency-management-tools)\n",
        "\n",
        "* [Costs of running a Python webapp for 55k monthly users](https://keepthescore.co/blog/posts/costs-of-running-webapp/)\n",
        "\n",
        "*  [Optimized I/O operations in Python](https://towardsdatascience.com/optimized-i-o-operations-in-python-194f856210e0)\n",
        "\n",
        "* [Containerized Python Development](https://matteoguadrini.github.io/posts/containerized-python-development/)\n",
        "\n",
        "- [Anyscale - Parallelizing Python Code](https://www.anyscale.com/blog/parallelizing-python-code)"
      ]
    }
  ]
}