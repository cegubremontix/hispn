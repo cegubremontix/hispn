{
  "cells": [
    {
      "cell_type": "markdown",
      "metadata": {
        "id": "I-qG8JUiAnOv"
      },
      "source": [
        "# Paper Index\n",
        "\n"
      ]
    },
    {
      "cell_type": "markdown",
      "metadata": {
        "id": "Fq2SqGExAQCm"
      },
      "source": [
        "# Matematicas"
      ]
    },
    {
      "cell_type": "markdown",
      "metadata": {
        "id": "XTyAD5QmWi2d"
      },
      "source": [
        "* (D) [The Matrix Calculus You Need For Deep Learning](http://0.0.0.0:8000/1%20Matematicas/Papers/The%20Matrix%20Calculus%20You%20Need%20For%20Deep%20Learning.pdf)\n",
        "\n",
        "* (D) [The Unreasonable Effectivenss Of Mathematics in the Natural Sciences](http://0.0.0.0:8000/1%20Matematicas/Papers/The%20Unreasonable%20Effectivenss%20Of%20Mathematics%20in%20the%20Natural%20Sciences.pdf)\n",
        "\n",
        "* (D) [The why, how, and when of representations for complex systems](http://0.0.0.0:8000/1%20Matematicas/Papers/The%20why%2C%20how%2C%20and%20when%20of%20representations%20for%20complex%20systems.pdf)"
      ]
    },
    {
      "cell_type": "markdown",
      "metadata": {
        "id": "TpgGdywAAVTH"
      },
      "source": [
        "# Aprendisaje Automatico"
      ]
    },
    {
      "cell_type": "markdown",
      "metadata": {
        "id": "iBdEbysuXcn0"
      },
      "source": [
        "* (D) [A Few Useful Things to Know About Machine Learning](http://0.0.0.0:8000/2%20Aprendisaje%20Automatico/Papers/A%20Few%20Useful%20Things%20to%20Know%20About%20Machine%20Learning.pdf)\n",
        "\n",
        "* (D) [AI Enabling Technologies A Survey](http://0.0.0.0:8000/2%20Aprendisaje%20Automatico/Papers/AI%20Enabling%20Technologies%20A%20Survey.pdf)\n",
        "\n",
        "* (D) [A Primer on Neural Network Models for Natural Language Processing](http://0.0.0.0:8000/2%20Aprendisaje%20Automatico/Papers/A%20Primer%20on%20Neural%20Network%20Models%20for%20Natural%20Language%20Processing.pdf)\n",
        "\n",
        "* (D) [A Survey on Large-scale Machine Learnin](http://0.0.0.0:8000/2%20Aprendisaje%20Automatico/Papers/A%20Survey%20on%20Large-scale%20Machine%20Learning.pdf)\n",
        "\n",
        "* (D) [Attention Is All You Need](http://0.0.0.0:8000/2%20Aprendisaje%20Automatico/Papers/Attention%20Is%20All%20You%20Need.pdf)\n",
        "\n",
        "* (D) [Deep Learning’s Most Important Ideas - A Brief Historical Review](http://0.0.0.0:8000/2%20Aprendisaje%20Automatico/Papers/Deep%20Learning%E2%80%99s%20Most%20Important%20Ideas%20-%20A%20Brief%20Historical%20Review.pdf)\n",
        "\n",
        "* (D) [Every Model Learned by Gradient Descent Is Approximately a Kernel Machine](http://0.0.0.0:8000/2%20Aprendisaje%20Automatico/Papers/Every%20Model%20Learned%20by%20Gradient%20Descent%20Is%20Approximately%20a%20Kernel%20Machine.pdf)\n",
        "\n",
        "* (D) [Generating Sequences With Recurrent Neural Networks](http://0.0.0.0:8000/2%20Aprendisaje%20Automatico/Papers/Generating%20Sequences%20With%20Recurrent%20Neural%20Networks.pdf)\n",
        "\n",
        "* (D) [Introduction to Statistical Learning Theory](http://0.0.0.0:8000/2%20Aprendisaje%20Automatico/Papers/Introduction%20to%20Statistical%20Learning%20Theory.pdf)\n",
        "\n",
        "* (D) [It’s Hard For Neural Networks to Learn the Game of Life](http://0.0.0.0:8000/2%20Aprendisaje%20Automatico/Papers/It%E2%80%99s%20Hard%20For%20Neural%20Networks%20to%20Learn%20the%20Game%20of%20Life.pdf)\n",
        "\n",
        "* (D) [Many Analysts, One Data Set Making Transparent How Variations in Analytic Choices Affect Results](http://0.0.0.0:8000/2%20Aprendisaje%20Automatico/Papers/Many%20Analysts%2C%20One%20Data%20Set%20Making%20Transparent%20How%20Variations%20in%20Analytic%20Choices%20Affect%20Results.pdf)\n",
        "\n",
        "* (D) [Mastering the game of Go with deep neural networks and tree search](http://0.0.0.0:8000/2%20Aprendisaje%20Automatico/Papers/Mastering%20the%20game%20of%20Go%20with%20deep%20neural%20networks%20and%20tree%20search.pdf)\n",
        "\n",
        "* (D) [On Chomsky and the Two Cultures of Statistical](http://0.0.0.0:8000/2%20Aprendisaje%20Automatico/Papers/On%20Chomsky%20and%20the%20Two%20Cultures%20of%20Statistical.pdf)\n",
        "\n",
        "* (D) [Statistical Modeling The Two Cultures](http://0.0.0.0:8000/2%20Aprendisaje%20Automatico/Papers/Statistical%20Modeling%20The%20Two%20Cultures.pdf)\n",
        "\n",
        "* (D) [On the Measure of Intelligence](http://0.0.0.0:8000/2%20Aprendisaje%20Automatico/Papers/On%20the%20Measure%20of%20Intelligence.pdf)\n",
        "\n",
        "* (D) [Pixel Recurrent Neural Networks](http://0.0.0.0:8000/2%20Aprendisaje%20Automatico/Papers/Pixel%20Recurrent%20Neural%20Networks.pdf)\n",
        "\n",
        "* (D) [Reinforcement Learning -  A Survey](http://0.0.0.0:8000/2%20Aprendisaje%20Automatico/Papers/Reinforcement%20Learning%20-%20%20A%20Survey.pdf)\n",
        "\n",
        "* (D) [Statistics versus machine learning](http://0.0.0.0:8000/2%20Aprendisaje%20Automatico/Papers/Statistics%20versus%20machine%20learning.pdf)\n",
        "\n",
        "* (D) [The Automatic Statistician](http://0.0.0.0:8000/2%20Aprendisaje%20Automatico/Papers/The%20Automatic%20Statistician.pdf)\n",
        "\n",
        "* (D) [The Five Greatest Applications of Markov Chains](http://0.0.0.0:8000/2%20Aprendisaje%20Automatico/Papers/The%20Five%20Greatest%20Applications%20of%20Markov%20Chains.pdf)\n",
        "\n",
        "* (D) [The limitations of using languages for description](http://0.0.0.0:8000/2%20Aprendisaje%20Automatico/Papers/The%20limitations%20of%20using%20languages%20for%20description.pdf)\n",
        "\n",
        "* (D) [The Robust Beauty of Improper Linear Models in Decision Making](http://0.0.0.0:8000/2%20Aprendisaje%20Automatico/Papers/The%20Robust%20Beauty%20of%20Improper%20Linear%20Models%20in%20Decision%20Making.pdf)\n",
        "\n",
        "* (D) [The Unreasonable Effectiveness of Data](http://0.0.0.0:8000/2%20Aprendisaje%20Automatico/Papers/The%20Unreasonable%20Effectiveness%20of%20Data.pdf)\n",
        "\n",
        "* (D) [Using Markov Chains for Identification of Writers](http://0.0.0.0:8000/2%20Aprendisaje%20Automatico/Papers/Using%20Markov%20Chains%20for%20Identification%20of%20Writers.pdf)\n",
        "\n",
        "* (D) [What are the most important statistical ideas of the past 50 years](http://0.0.0.0:8000/2%20Aprendisaje%20Automatico/Papers/What%20are%20the%20most%20important%20statistical%20ideas%20of%20the%20past%2050%20years.pdf)"
      ]
    },
    {
      "cell_type": "markdown",
      "metadata": {
        "id": "UsbzojHRAXKo"
      },
      "source": [
        "# Computacion"
      ]
    },
    {
      "cell_type": "markdown",
      "metadata": {
        "id": "LWNKSmkjcMUM"
      },
      "source": [
        "* (D) [MapReduce: Simplified Data Processing on Large Clusters](http://0.0.0.0:8000/3%20Computacion/Papers/MapReduce%20Simplified%20Data%20Processing%20on%20Large%20Clusters.pdf)\n",
        "\n",
        "* (D) [The Little Manual of API Design](http://0.0.0.0:8000/3%20Computacion/Papers/The%20Little%20Manual%20of%20API%20Design.pdf)\n",
        "\n",
        "* (D) [An Introduction to Software Architecture](http://0.0.0.0:8000/3%20Computacion/Papers/An%20Introduction%20to%20Software%20Architecture.pdf)\n",
        "\n",
        "* (D) [Architecture of a Database System](http://0.0.0.0:8000/3%20Computacion/Papers/Architecture%20of%20a%20Database%20System.pdf)\n",
        "\n",
        "* (D) [On Abstraction and Informatics](http://0.0.0.0:8000/3%20Computacion/Papers/On%20Abstraction%20and%20Informatics.pdf)\n",
        "\n",
        "* (D) [The Art of the Interpreter or, The Modularity Complex](http://0.0.0.0:8000/3%20Computacion/Papers/The%20Art%20of%20the%20Interpreter%20or%2C%20the%20Modularity%20Complex.pdf)\n",
        "\n",
        "* (D) [End-To-End Arguments in System Design](http://0.0.0.0:8000/3%20Computacion/Papers/End-To-End%20Arguments%20in%20System%20Design.pdf)\n",
        "* (D) [Writing a Simple Operating System - from Scratch](http://0.0.0.0:8000/3%20Computacion/Papers/Writing%20a%20Simple%20Operating%20System%20-%20from%20Scratch.pdf)\n",
        "\n",
        "- (D) [Software Aging](http://0.0.0.0:8000/3%20Computacion/Papers/Software%20Aging.pdf)\n",
        "- (D) [The Value of Abstraction](http://0.0.0.0:8000/3%20Computacion/Papers/The%20Value%20of%20Abstraction.pdf)\n",
        "\n",
        "\n",
        "\n",
        "- (D) [A History and Evaluation of System R](http://0.0.0.0:8000/3%20Computacion/Papers/A%20History%20and%20Evaluation%20of%20System%20R.pdf)\n",
        "- (D) [accept()able  Strategies for Improving Web Server Performace](http://0.0.0.0:8000/3%20Computacion/Papers/accept%28%29able%20%20Strategies%20for%20Improving%20Web%20Server%20Performace.pdf)\n",
        "- (D) [Aegean Replication beyond the client-server model](http://0.0.0.0:8000/3%20Computacion/Papers/Aegean%20Replication%20beyond%20the%20client-server%20model.pdf)\n",
        "\n",
        "\n",
        "\n",
        "- (D) [Bigtable A Distributed Storage System for Structured Data](http://0.0.0.0:8000/3%20Computacion/Papers/Bigtable%20A%20Distributed%20Storage%20System%20for%20Structured%20Data.pdf)\n",
        "- (D) [Building Robust Systems an essay](http://0.0.0.0:8000/3%20Computacion/Papers/Building%20Robust%20Systems%20an%20essay.pdf)\n",
        "- (D) [Chord A Scalable Peer-to-peer Lookup Service for Internet Applications](http://0.0.0.0:8000/3%20Computacion/Papers/Chord%20A%20Scalable%20Peer-to-peer%20Lookup%20Service%20for%20Internet%20Applications.pdf)\n",
        "- (D) [Computer Science as Empirical Inquiry - Symbols and Search](http://0.0.0.0:8000/3%20Computacion/Papers/Computing%20While%20Charging%20Building%20a%20Distributed%20Computing%20Infrastructure%20Using%20Smartphones.pdf)\n",
        "- (D) [Designs, Lessons and Advice from Building Large Distributed Systems](http://0.0.0.0:8000/3%20Computacion/Papers/Designs%2C%20Lessons%20and%20Advice%20from%20Building%20Large%20Distributed%20Systems.pdf)\n",
        "\n",
        "- (D) [Dynamo Amazon's Highly Available Key-value Store](http://0.0.0.0:8000/3%20Computacion/Papers/Dynamo%20Amazon%E2%80%99s%20Highly%20Available%20Key-value%20Store.pdf)\n",
        "- (D) [End-To-End Arguments in System Design](http://0.0.0.0:8000/3%20Computacion/Papers/End-To-End%20Arguments%20in%20System%20Design.pdf)\n",
        "- (D)[Event-Driven Programming - Introduction, Tutorial, History](http://0.0.0.0:8000/3%20Computacion/Papers/Event-Driven%20Programming%20-%20Introduction%2C%20Tutorial%2C%20History.pdf)\n",
        "\n",
        "- (D) [Harnessing vision for computation](http://0.0.0.0:8000/3%20Computacion/Papers/Harnessing%20vision%20for%20computation.pdf)\n",
        "- (D) [Hints and Principles for Computer System Design](http://0.0.0.0:8000/3%20Computacion/Papers/Hints%20and%20Principles%20for%20Computer%20System%20Design.pdf)\n",
        "- (D) [In-Home Daily-Life Captioning Using Radio Signals](http://0.0.0.0:8000/3%20Computacion/Papers/In-Home%20Daily-Life%20Captioning%20Using%20Radio%20Signals.pdf)\n",
        "- (D) [Jeff Dean numbers](http://0.0.0.0:8000/3%20Computacion/Papers/Jeff%20Dean%20numbers.pdf)\n",
        "\n",
        "- (D) [Local-First Software You Own Your Data, in spite of the cloud](http://0.0.0.0:8000/3%20Computacion/Papers/Local-First%20Software%20You%20Own%20Your%20Data%2C%20in%20spite%20of%20the%20cloud.pdf)\n",
        "\n",
        "\n",
        "- (D) [Names - Distributed, Secure, Human-Readable - Choose Two](http://0.0.0.0:8000/3%20Computacion/Papers/Names%20-%20%20Distributed%2C%20Secure%2C%20Human-Readable%20-%20Choose%20Two.pdf)\n",
        "\n",
        "\n",
        "\n",
        "- (D) [On the expressive power of programming languages](http://0.0.0.0:8000/3%20Computacion/Papers/On%20the%20expressive%20power%20of%20programming%20languages.pdf)\n",
        "\n",
        "- (D) [Our Software Dependency Problem](http://0.0.0.0:8000/3%20Computacion/Papers/Our%20Software%20Dependency%20Problem.pdf)\n",
        "\n",
        "- (D) [Paxos Made Simple](http://0.0.0.0:8000/3%20Computacion/Papers/Paxos%20Made%20Simple.pdf)\n",
        "\n",
        "- (D) [Programming tools for intelligent systems](http://0.0.0.0:8000/3%20Computacion/Papers/Programming%20tools%20for%20intelligent%20systems.pdf)\n",
        "\n",
        "- (D) [Programming with a Read-Eval-Synth Loop](http://0.0.0.0:8000/3%20Computacion/Papers/Programming%20with%20a%20Read-Eval-Synth%20Loop.pdf)\n",
        "\n",
        "- (D) [PyTorch An Imperative Style, High-Performance Deep Learning Library](http://0.0.0.0:8000/3%20Computacion/Papers/PyTorch%20An%20Imperative%20Style%2C%20High-Performance%20Deep%20Learning%20Library.pdf)\n",
        "\n",
        "- (D) [Ropes - an Alternative to Strings](http://0.0.0.0:8000/3%20Computacion/Papers/Ropes%20-%20an%20Alternative%20to%20Strings.pdf)\n",
        "\n",
        "- (D) [Samza Stateful Scalable Stream Processing at LinkedIn](http://0.0.0.0:8000/3%20Computacion/Papers/Samza%20Stateful%20Scalable%20Stream%20Processing%20at%20LinkedIn.pdf)\n",
        "\n",
        "- (D) [Software Engineering at Google](http://0.0.0.0:8000/3%20Computacion/Papers/Software%20Engineering%20at%20Google.pdf)\n",
        "\n",
        "\n",
        "\n",
        "- (D) [The Architecture of Massive Multiplayer Online Games](http://0.0.0.0:8000/3%20Computacion/Papers/The%20Architecture%20of%20Massive%20Multiplayer%20Online%20Games.pdf)\n",
        "- (D) [The Computational Human](http://0.0.0.0:8000/3%20Computacion/Papers/The%20Computational%20Human.pdf)\n",
        "- (D) [The Google File System](http://0.0.0.0:8000/3%20Computacion/Papers/The%20Google%20File%20System.pdf)\n",
        "- (D) [The Little Manual of API Design](http://0.0.0.0:8000/3%20Computacion/Papers/The%20Little%20Manual%20of%20API%20Design.pdf)\n",
        "- (D) [What distinguishes great software engineers](http://0.0.0.0:8000/3%20Computacion/Papers/What%20distinguishes%20great%20software%20engineers.pdf)\n",
        "- (D) [Worse is Better is Worse](http://0.0.0.0:8000/3%20Computacion/Papers/Worse%20is%20Better%20is%20Worse.pdf)\n",
        "\n",
        "* (D) [Scikit-learn  Machine Learning in Python](http://0.0.0.0:8000/3%20Computacion/Papers/Scikit-learn%20%20Machine%20Learning%20in%20Python.pdf)\n",
        "\n",
        "* (D) [Computing While Charging Building a Distributed Computing Infrastructure Using Smartphones](http://0.0.0.0:8000/3%20Computacion/Papers/Computing%20While%20Charging%20Building%20a%20Distributed%20Computing%20Infrastructure%20Using%20Smartphones.pdf)\n",
        "\n",
        "* (D) [Towards Deploying Decommissioned Mobile Devices as Cheap Energy-Efficient Computer Nodes](http://0.0.0.0:8000/3%20Computacion/Papers/Towards%20Deploying%20Decommissioned%20Mobile%20Devices%20as%20Cheap%20Energy-Efficient%20Computer%20Nodes.pdf)\n",
        "\n",
        "* (D) [SmartChoices: Hybridizing Programming and Machine Learning](http://0.0.0.0:8000/3%20Computacion/Papers/SmartChoices%3A%20Hybridizing%20Programming%20and%20Machine%20Learning.pdf)\n",
        "\n",
        "* (D) [Pretzel  Opening the Black Box of Machine Learning Prediction Serving Systems](http://0.0.0.0:8000/3%20Computacion/Papers/Pretzel%20%20Opening%20the%20Black%20Box%20of%20Machine%20Learning%20Prediction%20Serving%20Systems.pdf)\n",
        "\n",
        "* (D) [Reflections on the Lack of Adoption of Domain Specific Languages](http://0.0.0.0:8000/3%20Computacion/Papers/Reflections%20on%20the%20Lack%20of%20Adoption%20of%20Domain%20Specific%20Languages.pdf)\n",
        "\n",
        "* (D)[Computer Science as Empirical Inquiry - Symbols and Search](http://0.0.0.0:8000/3%20Computacion/Papers/Computer%20Science%20as%20Empirical%20Inquiry%20-%20Symbols%20and%20Search.pdf)\n",
        "\n",
        "* (D)[Getting What You Measure Four common pitfalls in using software metrics for project mangement](http://0.0.0.0:8000/3%20Computacion/Papers/Getting%20What%20You%20Measure%20Four%20common%20pitfalls%20in%20using%20software%20metrics%20for%20project%20mangement.pdf)"
      ]
    },
    {
      "cell_type": "markdown",
      "metadata": {
        "id": "Ju1_Fc1lAaN0"
      },
      "source": [
        "# Ingenieria"
      ]
    },
    {
      "cell_type": "markdown",
      "metadata": {
        "id": "jt32M4ApcsE9"
      },
      "source": [
        "Add something to me !!!"
      ]
    },
    {
      "cell_type": "markdown",
      "metadata": {
        "id": "Y4Amx--MAbZ9"
      },
      "source": [
        "# Ciencia"
      ]
    },
    {
      "cell_type": "markdown",
      "metadata": {
        "id": "wDcTVjDZdzA3"
      },
      "source": [
        "* (D)[YouTube resources for synthetic biology education](http://localhost:8000/5%20Ciencia/Papers/YouTube%20resources%20for%20synthetic%20biology%20education.pdf)\n",
        "\n",
        "* (D) [All biology is computational biology](http://0.0.0.0:8000/5%20Ciencia/Papers/All%20biology%20is%20computational%20biology.pdf)\n",
        "\n",
        "* (D) [Central Ideas in Chemistry An Alternative Perspective](http://0.0.0.0:8000/5%20Ciencia/Papers/Central%20Ideas%20in%20Chemistry%20An%20Alternative%20Perspective.pdf)\n",
        "\n",
        "* (D) [Computational systems biology](http://0.0.0.0:8000/5%20Ciencia/Papers/Computational%20systems%20biology.pdf)\n",
        "\n",
        "* (D) [Synthetic biology  applications come of age](http://0.0.0.0:8000/5%20Ciencia/Papers/Synthetic%20biology%20%20applications%20come%20of%20age.pdf)\n",
        "\n",
        "* (D) [The Challenge of Understanding the Brain Where We Stand in 2015](http://0.0.0.0:8000/5%20Ciencia/Papers/The%20Challenge%20of%20Understanding%20the%20Brain%20Where%20We%20Stand%20in%202015.pdf)\n",
        "\n",
        "* (D) [The Hierarchy of Models in Chemistry](http://0.0.0.0:8000/5%20Ciencia/Papers/The%20Hierarchy%20of%20Models%20in%20Chemistry.pdf)\n",
        "\n",
        "* (D) [The importance of stupidity in scientific research](http://0.0.0.0:8000/5%20Ciencia/Papers/The%20importance%20of%20stupidity%20in%20scientific%20research.pdf)\n",
        "\n",
        "* (D) [Fundamentals of Simulation Modeling](http://0.0.0.0:8000/5%20Ciencia/Papers/Fundamentals%20of%20Simulation%20Modeling.pdf)\n",
        "\n",
        "* (D) [On the electrodynamics of moving bodies](http://0.0.0.0:8000/5%20Ciencia/Papers/On%20the%20electrodynamics%20of%20moving%20bodies.pdf)\n",
        "\n",
        "* (D) [The role of symmetry in fundamental physics](http://0.0.0.0:8000/5%20Ciencia/Papers/The%20role%20of%20symmetry%20in%20fundamental%20physics.pdf)\n",
        "\n",
        "* (D) [Does the inertia of a body depend upon its energy-content](http://0.0.0.0:8000/5%20Ciencia/Papers/Does%20the%20inertia%20of%20a%20body%20depend%20upon%20its%20energy-content.pdf)\n",
        "\n",
        "* (D) [Engineering Life A Review of Synthetic Biology](http://0.0.0.0:8000/5%20Ciencia/Papers/Engineering%20Life%20A%20Review%20of%20Synthetic%20Biology.pdf)"
      ]
    },
    {
      "cell_type": "markdown",
      "metadata": {
        "id": "misSIO48Aldv"
      },
      "source": [
        "# Otros"
      ]
    },
    {
      "cell_type": "markdown",
      "metadata": {
        "id": "H9b-sgKZVU4u"
      },
      "source": [
        "* (D) [How to Read a Computer Science Research Paper](http://0.0.0.0:8000/6%20Otros/Papers/How%20to%20Read%20a%20Computer%20Science%20Research%20Paper.pdf)\n",
        "\n",
        "* (D) [The ten commandments of applied econometrics](http://0.0.0.0:8000/6%20Otros/Papers/The%20ten%20commandments%20of%20applied%20econometrics.pdf)\n",
        "\n",
        "* (D) [Strengthening the Student Toolbox - Study Strategies to Boost Learning](http://0.0.0.0:8000/6%20Otros/Papers/Strengthening%20the%20Student%20Toolbox%20-%20Study%20Strategies%20to%20Boost%20Learning.pdf)\n",
        "\n",
        "* (D)[Brain Drain The Mere Presence of One’s Own Smartphone Reduces Available Cognitive Capacity](http://0.0.0.0:8000/6%20Otros/Papers/Brain%20Drain%20The%20Mere%20Presence%20of%20One%E2%80%99s%20Own%20Smartphone%20Reduces%20Available%20Cognitive%20Capacity.pdf)\n",
        "\n",
        "* (D)[The Rapid Adoption of Data-Driven Decision-Making](http://0.0.0.0:8000/6%20Otros/Papers/The%20Rapid%20Adoption%20of%20Data-Driven%20Decision-Making.pdf)"
      ]
    }
  ],
  "metadata": {
    "colab": {
      "collapsed_sections": [],
      "name": "Primary Resorces Index.ipynb",
      "provenance": [],
      "toc_visible": true
    },
    "kernelspec": {
      "display_name": "Python 2.7.18 64-bit",
      "name": "python2718jvsc74a57bd0f92b2924b84ff19c1c3dc485f7644d4486f64738191026bf8e6de303969141b5"
    },
    "language_info": {
      "name": "python",
      "version": ""
    },
    "metadata": {
      "interpreter": {
        "hash": "f92b2924b84ff19c1c3dc485f7644d4486f64738191026bf8e6de303969141b5"
      }
    }
  },
  "nbformat": 4,
  "nbformat_minor": 0
}