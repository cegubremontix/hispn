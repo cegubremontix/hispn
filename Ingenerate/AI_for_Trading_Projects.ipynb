{
  "nbformat": 4,
  "nbformat_minor": 0,
  "metadata": {
    "colab": {
      "name": "AI for Trading - Projects.ipynb",
      "provenance": [],
      "authorship_tag": "ABX9TyPULbNCschiyeG8ej0ttTYT",
      "include_colab_link": true
    },
    "kernelspec": {
      "name": "python3",
      "display_name": "Python 3"
    },
    "language_info": {
      "name": "python"
    }
  },
  "cells": [
    {
      "cell_type": "markdown",
      "metadata": {
        "id": "view-in-github",
        "colab_type": "text"
      },
      "source": [
        "<a href=\"https://colab.research.google.com/github/dbremont/Notas/blob/main/Ingenerate/AI_for_Trading_Projects.ipynb\" target=\"_parent\"><img src=\"https://colab.research.google.com/assets/colab-badge.svg\" alt=\"Open In Colab\"/></a>"
      ]
    },
    {
      "cell_type": "markdown",
      "metadata": {
        "id": "wrikUaUB0AgD"
      },
      "source": [
        "## Trading with Momentum\n",
        "\n",
        "Learn to implement a trading strategy on your own and test to see if it has the potential to be profitable."
      ]
    },
    {
      "cell_type": "markdown",
      "metadata": {
        "id": "6h8u14Vmwa-7"
      },
      "source": [
        "- Design and Analyze a trading strategy based on momentum\n",
        "\n",
        "- Nice Work Overall\n",
        "\n",
        "Here are some more links which you might want to checkout:\n",
        "\n",
        "- https://onlinecourses.science.psu.edu/statprogram/reviews/statistical-concepts/hypothesis-testing/p-value-approach\n",
        "\n",
        "- https://blog.minitab.com/blog/adventures-in-statistics-2/how-to-correctly-interpret-p-values\n",
        "\n",
        "- https://www.dummies.com/education/math/statistics/what-a-p-value-tells-you-about-statistical-data/\n",
        "\n",
        "- https://blog.minitab.com/blog/understanding-statistics/things-statisticians-say-failure-to-reject-the-null-hypothesis\n",
        "\n",
        "More Resources but they will need more focussed attention :\n",
        "\n",
        "- Guide_to_Misinterpretations_of_Pvalues.pdf\n",
        "- The ASA s Statement on p Values Context Process and Purpose.pdf\n",
        "- get_top_n:\n",
        "  - Use pandas rank function.\n",
        "  - Measure performace of the two.\n",
        "\n",
        "- for p-value, and t-value \n",
        "  -   \n",
        "  ```python\n",
        "    sample_size = len(expected_portfolio_returns_by_date)\n",
        "    sample_mean = np.mean(expected_portfolio_returns_by_date)\n",
        "    sample_error = stats.tstd(expected_portfolio_returns_by_date)\n",
        "\n",
        "    t_value = 2 * (sample_mean / sample_error)\n",
        "    p_value = stats.t.sf(np.abs(t_value), sample_size - 1)\n",
        "  ```\n",
        "\n",
        "- pvalue is greater than alpha our threshold for significance, we fail to reject the null hypothesis. It means there's a chance this strategy will yield mean return of zero. For us to ascertain this we'll need to **conduct further analysis** on the strategy.\n",
        "\n",
        "- A p-value of *0.05*, for example, indicates that you would have only a 5% chance of drawing the sample being tested if the null hypothesis was actually true (= 5% chance that the strategy would not yield positive returns in reality, even when our tests did calculate returns bigger than zero).\n",
        "\n",
        "- https://blog.minitab.com/blog/understanding-statistics/things-statisticians-say-failure-to-reject-the-null-hypothesis\n",
        "\n",
        "- https://www.dummies.com/education/math/statistics/what-a-p-value-tells-you-about-statistical-data/\n",
        "\n",
        "-  https://onlinecourses.science.psu.edu/statprogram/reviews/statistical-concepts/hypothesis-testing/p-value-approach\n",
        "\n",
        "- https://blog.minitab.com/blog/adventures-in-statistics-2/how-to-correctly-interpret-p-values"
      ]
    },
    {
      "cell_type": "markdown",
      "metadata": {
        "id": "T9JxdIqE0Pu6"
      },
      "source": [
        "## Breakout Strategy\n",
        "\n",
        "Implement the breakout strategy, find and remove outliers, and test to see if it can be a profitable strategy."
      ]
    },
    {
      "cell_type": "markdown",
      "metadata": {
        "id": "BvKu0LIw0OP6"
      },
      "source": [
        "## Smart Beta and Portfolio Optimization\n",
        "\n",
        "Build a smart beta portfolio against an index and optimize a portfolio using quadratic programming."
      ]
    },
    {
      "cell_type": "markdown",
      "metadata": {
        "id": "VhRkoqDx0M0a"
      },
      "source": [
        "## Multi-factor Model\n",
        "\n",
        "Research and implement alpha factors, build a risk factor model. Use alpha factors and risk factors to optimize a portfolio."
      ]
    },
    {
      "cell_type": "markdown",
      "metadata": {
        "id": "jp7Ql_Gf0LfD"
      },
      "source": [
        "## NLP on Financial Statements\n",
        "\n",
        "NLP Analysis on 10-k financial statements to generate an alpha factor."
      ]
    },
    {
      "cell_type": "markdown",
      "metadata": {
        "id": "M-e_NZH50KLp"
      },
      "source": [
        "## Sentiment Analysis with Neural Networks\n",
        "\n",
        "Build a deep learning model to classify the sentiment of messages."
      ]
    },
    {
      "cell_type": "markdown",
      "metadata": {
        "id": "q_-0GIlb0Izz"
      },
      "source": [
        "## Combining Signals for Enhanced Alpha\n",
        "\n",
        "Build a random forest to generate better alpha."
      ]
    },
    {
      "cell_type": "markdown",
      "metadata": {
        "id": "pJ7EzKUY0HYt"
      },
      "source": [
        "## Improve Your LinkedIn Profile\n",
        "\n",
        "Find your next job or connect with industry peers on LinkedIn. Ensure your profile attracts relevant leads that will grow your professional network."
      ]
    },
    {
      "cell_type": "markdown",
      "metadata": {
        "id": "jRcJUexR0FdS"
      },
      "source": [
        "## Optimize Your GitHub Profile\n",
        "\n",
        "Other professionals are collaborating on GitHub and growing their network. Submit your profile to ensure your profile is on par with leaders in your field."
      ]
    },
    {
      "cell_type": "markdown",
      "metadata": {
        "id": "0OOhwgoi0DuT"
      },
      "source": [
        "## Backtesting\n",
        "\n",
        "Build a backtester using Barra data."
      ]
    }
  ]
}