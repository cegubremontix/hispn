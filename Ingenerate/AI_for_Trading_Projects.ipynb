{
  "nbformat": 4,
  "nbformat_minor": 0,
  "metadata": {
    "colab": {
      "name": "AI for Trading - Projects.ipynb",
      "provenance": [],
      "authorship_tag": "ABX9TyOdO1h6jlIhoKT68FSCbtVn",
      "include_colab_link": true
    },
    "kernelspec": {
      "name": "python3",
      "display_name": "Python 3"
    },
    "language_info": {
      "name": "python"
    }
  },
  "cells": [
    {
      "cell_type": "markdown",
      "metadata": {
        "id": "view-in-github",
        "colab_type": "text"
      },
      "source": [
        "<a href=\"https://colab.research.google.com/github/dbremont/Notas/blob/main/Ingenerate/AI_for_Trading_Projects.ipynb\" target=\"_parent\"><img src=\"https://colab.research.google.com/assets/colab-badge.svg\" alt=\"Open In Colab\"/></a>"
      ]
    },
    {
      "cell_type": "markdown",
      "metadata": {
        "id": "wrikUaUB0AgD"
      },
      "source": [
        "## Trading with Momentum\n",
        "\n",
        "Learn to implement a trading strategy on your own and test to see if it has the potential to be profitable.\n",
        "\n",
        "[Ir](https://classroom.udacity.com/nanodegrees/nd880/parts/9a3a9589-7bc6-4694-81e0-8c3cb1aea251/modules/45a9362c-0c15-44f8-b71e-a3c2da3637c4/lessons/19d4fe10-23f4-4347-9dfd-058c461cc7ef/concepts/4c5b82a1-9ae3-49f9-87bf-feae1aa8efa8#)"
      ]
    },
    {
      "cell_type": "markdown",
      "metadata": {
        "id": "6h8u14Vmwa-7"
      },
      "source": [
        "- Design and Analyze a trading strategy based on momentum\n",
        "\n",
        "- Nice Work Overall\n",
        "\n",
        "Here are some more links which you might want to checkout:\n",
        "\n",
        "- https://onlinecourses.science.psu.edu/statprogram/reviews/statistical-concepts/hypothesis-testing/p-value-approach\n",
        "\n",
        "- https://blog.minitab.com/blog/adventures-in-statistics-2/how-to-correctly-interpret-p-values\n",
        "\n",
        "- https://www.dummies.com/education/math/statistics/what-a-p-value-tells-you-about-statistical-data/\n",
        "\n",
        "- https://blog.minitab.com/blog/understanding-statistics/things-statisticians-say-failure-to-reject-the-null-hypothesis\n",
        "\n",
        "More Resources but they will need more focussed attention :\n",
        "\n",
        "- Guide_to_Misinterpretations_of_Pvalues.pdf\n",
        "- The ASA s Statement on p Values Context Process and Purpose.pdf\n",
        "- get_top_n:\n",
        "  - Use pandas rank function.\n",
        "  - Measure performace of the two.\n",
        "\n",
        "- for p-value, and t-value \n",
        "  -   \n",
        "  ```python\n",
        "    sample_size = len(expected_portfolio_returns_by_date)\n",
        "    sample_mean = np.mean(expected_portfolio_returns_by_date)\n",
        "    sample_error = stats.tstd(expected_portfolio_returns_by_date)\n",
        "\n",
        "    t_value = 2 * (sample_mean / sample_error)\n",
        "    p_value = stats.t.sf(np.abs(t_value), sample_size - 1)\n",
        "  ```\n",
        "\n",
        "- pvalue is greater than alpha our threshold for significance, we fail to reject the null hypothesis. It means there's a chance this strategy will yield mean return of zero. For us to ascertain this we'll need to **conduct further analysis** on the strategy.\n",
        "\n",
        "- A p-value of *0.05*, for example, indicates that you would have only a 5% chance of drawing the sample being tested if the null hypothesis was actually true (= 5% chance that the strategy would not yield positive returns in reality, even when our tests did calculate returns bigger than zero).\n",
        "\n",
        "- https://blog.minitab.com/blog/understanding-statistics/things-statisticians-say-failure-to-reject-the-null-hypothesis\n",
        "\n",
        "- https://www.dummies.com/education/math/statistics/what-a-p-value-tells-you-about-statistical-data/\n",
        "\n",
        "-  https://onlinecourses.science.psu.edu/statprogram/reviews/statistical-concepts/hypothesis-testing/p-value-approach\n",
        "\n",
        "- https://blog.minitab.com/blog/adventures-in-statistics-2/how-to-correctly-interpret-p-values"
      ]
    },
    {
      "cell_type": "markdown",
      "metadata": {
        "id": "T9JxdIqE0Pu6"
      },
      "source": [
        "## Breakout Strategy\n",
        "\n",
        "Implement the breakout strategy, find and remove outliers, and test to see if it can be a profitable strategy.\n",
        "\n",
        "[Ir](https://classroom.udacity.com/nanodegrees/nd880/parts/9a3a9589-7bc6-4694-81e0-8c3cb1aea251/modules/45a9362c-0c15-44f8-b71e-a3c2da3637c4/lessons/acecae74-18c3-45c0-8b2d-5ed0f84029d4/concepts/74242d8e-f1dc-499f-92b6-6ec807d4d9d3)"
      ]
    },
    {
      "cell_type": "markdown",
      "metadata": {
        "id": "BvKu0LIw0OP6"
      },
      "source": [
        "## Smart Beta and Portfolio Optimization\n",
        "\n",
        "Build a smart beta portfolio against an index and optimize a portfolio using quadratic programming.\n",
        "\n",
        "[Ir](https://classroom.udacity.com/nanodegrees/nd880/parts/9a3a9589-7bc6-4694-81e0-8c3cb1aea251/modules/45a9362c-0c15-44f8-b71e-a3c2da3637c4/lessons/1fde82c8-9b3e-49ae-8073-20ed41fb2c50/concepts/f9f6b8e2-7ad2-4ab6-bb27-540f00fbe522)"
      ]
    },
    {
      "cell_type": "markdown",
      "metadata": {
        "id": "VhRkoqDx0M0a"
      },
      "source": [
        "## Alpha Research and Factor Modelling\n",
        "\n",
        "Research and implement alpha factors, build a risk factor model. Use alpha factors and risk factors to optimize a portfolio.\n",
        "\n",
        "[Ir](https://classroom.udacity.com/nanodegrees/nd880/parts/9a3a9589-7bc6-4694-81e0-8c3cb1aea251/modules/45a9362c-0c15-44f8-b71e-a3c2da3637c4/lessons/1c0d2c68-5c5f-4367-8604-5cc28d653568/concepts/827bc99c-defb-44ea-9098-212b6d73d360)"
      ]
    },
    {
      "cell_type": "markdown",
      "metadata": {
        "id": "jp7Ql_Gf0LfD"
      },
      "source": [
        "## NLP on Financial Statements\n",
        "\n",
        "NLP Analysis on 10-k financial statements to generate an alpha factor.\n",
        "\n",
        "[Ir](https://classroom.udacity.com/nanodegrees/nd880/parts/20d53643-50e8-41b6-8063-3d2ac4934bb2/modules/cd989b29-0356-4a9f-af47-509264955c8b/lessons/d1d781e4-916a-4d4d-b590-91db42ad8242/concepts/48d1e175-6238-4cac-9f92-1cb01c8531fc)"
      ]
    },
    {
      "cell_type": "markdown",
      "metadata": {
        "id": "M-e_NZH50KLp"
      },
      "source": [
        "## Sentiment Analysis with Neural Networks\n",
        "\n",
        "Build a deep learning model to classify the sentiment of messages.\n",
        "\n",
        "[Ir](https://classroom.udacity.com/nanodegrees/nd880/parts/20d53643-50e8-41b6-8063-3d2ac4934bb2/modules/cd989b29-0356-4a9f-af47-509264955c8b/lessons/10057b09-9ff6-4681-b7d4-1ecec322a555/concepts/dc5fae19-b6a0-4b32-a0f8-1f1ef5182ec5)"
      ]
    },
    {
      "cell_type": "markdown",
      "metadata": {
        "id": "q_-0GIlb0Izz"
      },
      "source": [
        "## Combining Signals for Enhanced Alpha\n",
        "\n",
        "Build a random forest to generate better alpha.\n",
        "\n",
        "[Ir](https://classroom.udacity.com/nanodegrees/nd880/parts/20d53643-50e8-41b6-8063-3d2ac4934bb2/modules/cd989b29-0356-4a9f-af47-509264955c8b/lessons/a97c8cae-bc8d-4626-9e11-adf65c500ab9/concepts/a24f1aba-c0dc-45cf-932c-47a032244c7e)"
      ]
    },
    {
      "cell_type": "markdown",
      "metadata": {
        "id": "pJ7EzKUY0HYt"
      },
      "source": [
        "## Improve Your LinkedIn Profile\n",
        "\n",
        "Find your next job or connect with industry peers on LinkedIn. Ensure your profile attracts relevant leads that will grow your professional network.\n",
        "\n",
        "[Ir](https://classroom.udacity.com/nanodegrees/nd880/parts/20d53643-50e8-41b6-8063-3d2ac4934bb2/modules/cd989b29-0356-4a9f-af47-509264955c8b/lessons/20707806-8f14-420f-b613-4196199a88c1/concepts/c8c3fbd0-b7ba-471e-85b7-eb2b1c3820c0)"
      ]
    },
    {
      "cell_type": "markdown",
      "metadata": {
        "id": "jRcJUexR0FdS"
      },
      "source": [
        "## Optimize Your GitHub Profile\n",
        "\n",
        "Other professionals are collaborating on GitHub and growing their network. Submit your profile to ensure your profile is on par with leaders in your field.\n",
        "\n",
        "[Ir](https://classroom.udacity.com/nanodegrees/nd880/parts/20d53643-50e8-41b6-8063-3d2ac4934bb2/modules/cd989b29-0356-4a9f-af47-509264955c8b/lessons/de38d0de-afac-4d34-a339-25c2519cf9f9/concepts/00b53aa6-a4a0-4eee-a034-39915c379b68)"
      ]
    },
    {
      "cell_type": "markdown",
      "metadata": {
        "id": "0OOhwgoi0DuT"
      },
      "source": [
        "## Backtesting\n",
        "\n",
        "Build a backtester using Barra data.\n",
        "\n",
        "[Ir](https://classroom.udacity.com/nanodegrees/nd880/parts/20d53643-50e8-41b6-8063-3d2ac4934bb2/modules/cd989b29-0356-4a9f-af47-509264955c8b/lessons/799afe55-9f0f-4dd1-af5e-0d208f6974d8/concepts/64cd47b7-7f67-4840-a60e-ef3cc12d0593)"
      ]
    }
  ]
}