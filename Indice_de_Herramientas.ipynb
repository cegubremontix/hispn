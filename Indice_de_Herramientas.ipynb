{
  "nbformat": 4,
  "nbformat_minor": 0,
  "metadata": {
    "colab": {
      "name": "Indice de Herramientas.ipynb",
      "provenance": [],
      "toc_visible": true,
      "authorship_tag": "ABX9TyPoOtOPYONHzDJQ6T88BS6b",
      "include_colab_link": true
    },
    "kernelspec": {
      "name": "python3",
      "display_name": "Python 3"
    },
    "language_info": {
      "name": "python"
    }
  },
  "cells": [
    {
      "cell_type": "markdown",
      "metadata": {
        "id": "view-in-github",
        "colab_type": "text"
      },
      "source": [
        "<a href=\"https://colab.research.google.com/github/dbremont/Notas/blob/main/Indice_de_Herramientas.ipynb\" target=\"_parent\"><img src=\"https://colab.research.google.com/assets/colab-badge.svg\" alt=\"Open In Colab\"/></a>"
      ]
    },
    {
      "cell_type": "markdown",
      "metadata": {
        "id": "5Evg0SOGqKDY"
      },
      "source": [
        "## Indice de Herramientas"
      ]
    },
    {
      "cell_type": "markdown",
      "metadata": {
        "id": "ajBGTEREzRg3"
      },
      "source": [
        "## Programming"
      ]
    },
    {
      "cell_type": "markdown",
      "metadata": {
        "id": "2zPF7ZLNxfwS"
      },
      "source": [
        "- [C](https://colab.research.google.com/github/dbremont/Notas/blob/main/Herramientas/C.ipynb)\n",
        "\n",
        "- [GNU Assembler](https://colab.research.google.com/github/dbremont/Notas/blob/main/Herramientas/GNU_Assembler.ipynb)\n",
        "\n",
        "- [Java](https://colab.research.google.com/github/dbremont/Notas/blob/main/Herramientas/Java.ipynb)\n",
        "\n",
        "- [OCaml](https://colab.research.google.com/github/dbremont/Notas/blob/main/Herramientas/OCaml.ipynb)\n",
        "\n",
        "- [Python](https://colab.research.google.com/github/dbremont/Notas/blob/main/Herramientas/Python.ipynb)\n",
        "\n",
        "- [Self-Improving Programs](https://colab.research.google.com/github/dbremont/Notas/blob/main/Herramientas/Self-Improving%20Programs.ipynb)\n"
      ]
    }
  ]
}