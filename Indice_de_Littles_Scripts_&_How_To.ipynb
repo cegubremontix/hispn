{
  "nbformat": 4,
  "nbformat_minor": 0,
  "metadata": {
    "colab": {
      "name": "Indice de Littles Scripts & How To.ipynb",
      "provenance": [],
      "authorship_tag": "ABX9TyP8S71yv5k4ytsNjNmQSW5K",
      "include_colab_link": true
    },
    "kernelspec": {
      "name": "python3",
      "display_name": "Python 3"
    },
    "language_info": {
      "name": "python"
    }
  },
  "cells": [
    {
      "cell_type": "markdown",
      "metadata": {
        "id": "view-in-github",
        "colab_type": "text"
      },
      "source": [
        "<a href=\"https://colab.research.google.com/github/dbremont/Notas/blob/main/Indice_de_Littles_Scripts_%26_How_To.ipynb\" target=\"_parent\"><img src=\"https://colab.research.google.com/assets/colab-badge.svg\" alt=\"Open In Colab\"/></a>"
      ]
    },
    {
      "cell_type": "markdown",
      "metadata": {
        "id": "tJPw5Df91dQV"
      },
      "source": [
        "## Scripts & How To"
      ]
    },
    {
      "cell_type": "markdown",
      "metadata": {
        "id": "9HpFTFBc3olJ"
      },
      "source": [
        "To convert a jupyter-notebook to html:\n",
        "\n",
        "- ```jupyter nbconvert --to html notebook.ipynb```"
      ]
    },
    {
      "cell_type": "markdown",
      "metadata": {
        "id": "_kgSCx3wvkiy"
      },
      "source": [
        "- [How to setup spanish keys in ```i3```](https://unix.stackexchange.com/questions/286960/i3wm-debian-accent-marks):\n",
        "\n",
        "- Temporal: ```setxkbmap us -variant intl```\n",
        "- Permanent: ```/etc/default/keyboard```:\n",
        "    \n",
        "      XKBLAYOUT=\"us\"\n",
        "      XKBVARIANT=\"intl\"\n",
        "\n"
      ]
    }
  ]
}