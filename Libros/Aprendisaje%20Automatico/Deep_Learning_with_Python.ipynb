{
  "nbformat": 4,
  "nbformat_minor": 0,
  "metadata": {
    "colab": {
      "name": "Deep Learning with Python.ipynb",
      "provenance": [],
      "toc_visible": true,
      "authorship_tag": "ABX9TyNaFO5q6aeNpClFNcCs6eZF",
      "include_colab_link": true
    },
    "kernelspec": {
      "name": "python3",
      "display_name": "Python 3"
    },
    "language_info": {
      "name": "python"
    }
  },
  "cells": [
    {
      "cell_type": "markdown",
      "metadata": {
        "id": "view-in-github",
        "colab_type": "text"
      },
      "source": [
        "<a href=\"https://colab.research.google.com/github/dbremont/Notas/blob/main/Libros/Aprendisaje%2520Automatico/Deep_Learning_with_Python.ipynb\" target=\"_parent\"><img src=\"https://colab.research.google.com/assets/colab-badge.svg\" alt=\"Open In Colab\"/></a>"
      ]
    },
    {
      "cell_type": "markdown",
      "metadata": {
        "id": "tJPw5Df91dQV"
      },
      "source": [
        "# Deep Learning with Python\n",
        "\n",
        "Libros/Aprendisaje%20Automatico"
      ]
    },
    {
      "cell_type": "markdown",
      "metadata": {
        "id": "IX1C-aib5LFW"
      },
      "source": [
        "## Fundamentals of Deep Learning"
      ]
    },
    {
      "cell_type": "markdown",
      "metadata": {
        "id": "wyJXgMyb-BTb"
      },
      "source": [
        "### 1. What is deep learning?"
      ]
    },
    {
      "cell_type": "markdown",
      "metadata": {
        "id": "FxfI6Ijz-Ein"
      },
      "source": [
        "### 2. Before we begin: the mathematical building blocks of neural networks"
      ]
    },
    {
      "cell_type": "markdown",
      "metadata": {
        "id": "kR__xC7B-Mi_"
      },
      "source": [
        "### 3. Getting started with neural networks"
      ]
    },
    {
      "cell_type": "markdown",
      "metadata": {
        "id": "pO7-HeDl-Q3F"
      },
      "source": [
        "### 4. Fundamentals of machine learning"
      ]
    },
    {
      "cell_type": "markdown",
      "metadata": {
        "id": "p4l_tv7c5RYU"
      },
      "source": [
        "## Deep Learning in Practice"
      ]
    },
    {
      "cell_type": "markdown",
      "metadata": {
        "id": "TTMjfOUj-ejJ"
      },
      "source": [
        "### 5. Deep learning for computer vision"
      ]
    },
    {
      "cell_type": "markdown",
      "metadata": {
        "id": "vk0YJk-Q-ihB"
      },
      "source": [
        "### 6. Deep learning for text and sequences"
      ]
    },
    {
      "cell_type": "markdown",
      "metadata": {
        "id": "hgETsiK4-o9U"
      },
      "source": [
        "### 7. Genererative deep learning"
      ]
    },
    {
      "cell_type": "markdown",
      "metadata": {
        "id": "G44uPfiv_B8O"
      },
      "source": [
        "### 8. Generative deep learning"
      ]
    },
    {
      "cell_type": "markdown",
      "metadata": {
        "id": "ygVKbwlj_Gs7"
      },
      "source": [
        "### 9. Conclusions"
      ]
    }
  ]
}