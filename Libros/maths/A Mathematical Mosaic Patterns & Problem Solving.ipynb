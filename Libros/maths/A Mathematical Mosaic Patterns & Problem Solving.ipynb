{
  "nbformat": 4,
  "nbformat_minor": 0,
  "metadata": {
    "kernelspec": {
      "display_name": "Python 2.7.18 64-bit",
      "name": "python2718jvsc74a57bd0f92b2924b84ff19c1c3dc485f7644d4486f64738191026bf8e6de303969141b5"
    },
    "language_info": {
      "name": "python",
      "version": ""
    },
    "metadata": {
      "interpreter": {
        "hash": "f92b2924b84ff19c1c3dc485f7644d4486f64738191026bf8e6de303969141b5"
      }
    },
    "orig_nbformat": 2,
    "colab": {
      "name": "A Mathematical Mosaic Patterns & Problem Solving.ipynb",
      "provenance": [],
      "include_colab_link": true
    }
  },
  "cells": [
    {
      "cell_type": "markdown",
      "metadata": {
        "id": "view-in-github",
        "colab_type": "text"
      },
      "source": [
        "<a href=\"https://colab.research.google.com/github/dbremont/Notas/blob/main/Libros/Matematicas/A%20Mathematical%20Mosaic%20Patterns%20%26%20Problem%20Solving.ipynb\" target=\"_parent\"><img src=\"https://colab.research.google.com/assets/colab-badge.svg\" alt=\"Open In Colab\"/></a>"
      ]
    },
    {
      "cell_type": "markdown",
      "metadata": {
        "id": "w-wgSOsxgjNi"
      },
      "source": [
        "F"
      ]
    },
    {
      "cell_type": "markdown",
      "metadata": {
        "id": "4Yy600o-giQN"
      },
      "source": [
        "1. Number Theory\n",
        "2. Combinatorics\n",
        "3. The Fibonacci Sequence\n",
        "4. Game Theory\n",
        "5. Geometry\n",
        "6. Combinatorics Revised\n",
        "7. Chessboard Coloring\n",
        "8. Number Theory Revised\n",
        "9. Number Theory Revised Cont.\n",
        "10. Fibonacci & The Golden Mean\n",
        "11. Geometry Revised\n",
        "12. Infinity\n",
        "13. Game Theory Revised\n",
        "14. Concepts in Calculus\n",
        "15. Complex Numbers\n",
        "16. Infinity Revisited\n"
      ]
    }
  ]
}