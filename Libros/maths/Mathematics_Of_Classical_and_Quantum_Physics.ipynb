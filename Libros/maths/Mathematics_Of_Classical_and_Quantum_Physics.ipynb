{
  "nbformat": 4,
  "nbformat_minor": 0,
  "metadata": {
    "colab": {
      "name": "Mathematics Of Classical and Quantum Physics.ipynb",
      "provenance": [],
      "toc_visible": true,
      "authorship_tag": "ABX9TyPzHnzM4KixkJHSfGEm6t1t",
      "include_colab_link": true
    },
    "kernelspec": {
      "name": "python3",
      "display_name": "Python 3"
    },
    "language_info": {
      "name": "python"
    }
  },
  "cells": [
    {
      "cell_type": "markdown",
      "metadata": {
        "id": "view-in-github",
        "colab_type": "text"
      },
      "source": [
        "<a href=\"https://colab.research.google.com/github/dbremont/Notas/blob/main/Libros/Matematicas/Mathematics_Of_Classical_and_Quantum_Physics.ipynb\" target=\"_parent\"><img src=\"https://colab.research.google.com/assets/colab-badge.svg\" alt=\"Open In Colab\"/></a>"
      ]
    },
    {
      "cell_type": "markdown",
      "metadata": {
        "id": "QX3dDt6HaVno"
      },
      "source": [
        "Mathematics Of Classical and Quantum Physics"
      ]
    },
    {
      "cell_type": "markdown",
      "metadata": {
        "id": "CjJsSzWOalDM"
      },
      "source": [
        "## Vectors in Classical Physics"
      ]
    },
    {
      "cell_type": "markdown",
      "metadata": {
        "id": "R_P1vVB2bFVY"
      },
      "source": [
        "## Calculus of Variations"
      ]
    },
    {
      "cell_type": "markdown",
      "metadata": {
        "id": "7Rw411ZNbKrZ"
      },
      "source": [
        "## Vectors and Matrices"
      ]
    },
    {
      "cell_type": "markdown",
      "metadata": {
        "id": "6firjkAqbNbg"
      },
      "source": [
        "## Vector Spaces in Physics"
      ]
    },
    {
      "cell_type": "markdown",
      "metadata": {
        "id": "PktIXQTNbUaE"
      },
      "source": [
        "## Hilbert Space-Complete Orthogonal Sets of Functions"
      ]
    },
    {
      "cell_type": "markdown",
      "metadata": {
        "id": "cUIChyI1bzTW"
      },
      "source": [
        "## Elements and Applications of the Theory of Analytic Functions"
      ]
    },
    {
      "cell_type": "markdown",
      "metadata": {
        "id": "20UXDb0GcDK2"
      },
      "source": [
        "## Green's Functions"
      ]
    },
    {
      "cell_type": "markdown",
      "metadata": {
        "id": "q2vQV0xhcLz1"
      },
      "source": [
        "## Introduction to Integral Equations"
      ]
    },
    {
      "cell_type": "markdown",
      "metadata": {
        "id": "zQ6e5md8cXzT"
      },
      "source": [
        "## Integral Equations in Hilbert Space"
      ]
    },
    {
      "cell_type": "markdown",
      "metadata": {
        "id": "q8sD2Hx_cgfL"
      },
      "source": [
        "## Introduction to Group Theory"
      ]
    }
  ]
}