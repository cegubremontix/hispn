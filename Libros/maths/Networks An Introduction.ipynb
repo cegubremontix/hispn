{
  "nbformat": 4,
  "nbformat_minor": 0,
  "metadata": {
    "kernelspec": {
      "display_name": "Python 2.7.18 64-bit",
      "name": "python2718jvsc74a57bd0f92b2924b84ff19c1c3dc485f7644d4486f64738191026bf8e6de303969141b5"
    },
    "language_info": {
      "name": "python",
      "version": ""
    },
    "metadata": {
      "interpreter": {
        "hash": "f92b2924b84ff19c1c3dc485f7644d4486f64738191026bf8e6de303969141b5"
      }
    },
    "orig_nbformat": 2,
    "colab": {
      "name": "Networks An Introduction.ipynb",
      "provenance": [],
      "include_colab_link": true
    }
  },
  "cells": [
    {
      "cell_type": "markdown",
      "metadata": {
        "id": "view-in-github",
        "colab_type": "text"
      },
      "source": [
        "<a href=\"https://colab.research.google.com/github/dbremont/Notas/blob/main/Libros/Matematicas/Networks%20An%20Introduction.ipynb\" target=\"_parent\"><img src=\"https://colab.research.google.com/assets/colab-badge.svg\" alt=\"Open In Colab\"/></a>"
      ]
    },
    {
      "cell_type": "markdown",
      "metadata": {
        "id": "6149BA5siKIO"
      },
      "source": [
        "(F)"
      ]
    },
    {
      "cell_type": "markdown",
      "metadata": {
        "id": "JBJaSuCFhtJK"
      },
      "source": [
        "1. Introduction\n",
        "\n",
        "The empirical study of networks\n",
        "2. Technological networks\n",
        "3. Social networks\n",
        "4. Networks of information\n",
        "5. Biological networks\n",
        "\n",
        "Fundamentals of network theory\n",
        "6. Mathematics of networks\n",
        "7. Measures and metrics\n",
        "8. The large-scale structure of networks\n",
        "\n",
        "Computer algorithms\n",
        "9. Basic concepts of algorithms\n",
        "10. Fundamental network algorithms\n",
        "11. Matrix algorithms and graph partitioning\n",
        "\n",
        "Network models\n",
        "12. Ramdom graphs\n",
        "13. Random graphs with general degree distributions\n",
        "14. Models of network formation\n",
        "15. Other network models\n",
        "\n",
        "Processes on networks\n",
        "16. Percolation and network resience\n",
        "17. Epidemics on networks \n",
        "18. Dynamical systems on networks\n",
        "19. Network search\n",
        "\n",
        "\n"
      ]
    }
  ]
}