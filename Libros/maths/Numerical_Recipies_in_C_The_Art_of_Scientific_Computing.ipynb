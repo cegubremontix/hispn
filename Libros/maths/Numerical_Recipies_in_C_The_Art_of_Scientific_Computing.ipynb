{
  "nbformat": 4,
  "nbformat_minor": 0,
  "metadata": {
    "colab": {
      "name": "Numerical Recipies in C - The Art of Scientific Computing.ipynb",
      "provenance": [],
      "toc_visible": true,
      "authorship_tag": "ABX9TyORO22xqz6Vdg4rqOSoX9Si",
      "include_colab_link": true
    },
    "kernelspec": {
      "name": "python3",
      "display_name": "Python 3"
    },
    "language_info": {
      "name": "python"
    }
  },
  "cells": [
    {
      "cell_type": "markdown",
      "metadata": {
        "id": "view-in-github",
        "colab_type": "text"
      },
      "source": [
        "<a href=\"https://colab.research.google.com/github/dbremont/Notas/blob/main/Libros/Matematicas/Numerical_Recipies_in_C_The_Art_of_Scientific_Computing.ipynb\" target=\"_parent\"><img src=\"https://colab.research.google.com/assets/colab-badge.svg\" alt=\"Open In Colab\"/></a>"
      ]
    },
    {
      "cell_type": "markdown",
      "metadata": {
        "id": "5Evg0SOGqKDY"
      },
      "source": [
        "## Numerical Recipies in C - The Art of Scientific Computing"
      ]
    },
    {
      "cell_type": "markdown",
      "metadata": {
        "id": "SNIgcBTNyEjW"
      },
      "source": [
        "## Preliminaries"
      ]
    },
    {
      "cell_type": "markdown",
      "metadata": {
        "id": "PblYLt2byJsR"
      },
      "source": [
        "## Solution of Linear Algebraic Equations"
      ]
    },
    {
      "cell_type": "markdown",
      "metadata": {
        "id": "9Fzas8V2yN3c"
      },
      "source": [
        "## Interpolation and Extrapolation"
      ]
    },
    {
      "cell_type": "markdown",
      "metadata": {
        "id": "PK_dZMHqyu7U"
      },
      "source": [
        "## Integration of Functions"
      ]
    },
    {
      "cell_type": "markdown",
      "metadata": {
        "id": "elzeUb6Oyxr1"
      },
      "source": [
        "## Evaluation of Functions"
      ]
    },
    {
      "cell_type": "markdown",
      "metadata": {
        "id": "2BZzhHggyz4D"
      },
      "source": [
        "## Special Functions"
      ]
    },
    {
      "cell_type": "markdown",
      "metadata": {
        "id": "SmpJX1iDy3hM"
      },
      "source": [
        "## Random Numbers"
      ]
    },
    {
      "cell_type": "markdown",
      "metadata": {
        "id": "O61iAnrfy58i"
      },
      "source": [
        "## Sorting"
      ]
    },
    {
      "cell_type": "markdown",
      "metadata": {
        "id": "RtgtIEN7y7bM"
      },
      "source": [
        "## Root Finding and Nonlinear Sets of Equations"
      ]
    },
    {
      "cell_type": "markdown",
      "metadata": {
        "id": "MnUunKPb1KfN"
      },
      "source": [
        "## Minimization or Maximization of Functions"
      ]
    },
    {
      "cell_type": "markdown",
      "metadata": {
        "id": "FhxGESxW1OMx"
      },
      "source": [
        "## Eigensystems"
      ]
    },
    {
      "cell_type": "markdown",
      "metadata": {
        "id": "PpMrodtA1Q4D"
      },
      "source": [
        "## Fast Fourier Transform"
      ]
    },
    {
      "cell_type": "markdown",
      "metadata": {
        "id": "N9h_Ef3L1TW-"
      },
      "source": [
        "## Fourier  and Spectral Applications"
      ]
    },
    {
      "cell_type": "markdown",
      "metadata": {
        "id": "BQfzwBvL1X0d"
      },
      "source": [
        "## Statistical Description of Data"
      ]
    },
    {
      "cell_type": "markdown",
      "metadata": {
        "id": "d1oQQ8Yp1cEp"
      },
      "source": [
        "## Modeling of Data"
      ]
    },
    {
      "cell_type": "markdown",
      "metadata": {
        "id": "Iw0MX0yr1fWh"
      },
      "source": [
        "## Intragration of Ordinary Differential Equations"
      ]
    },
    {
      "cell_type": "markdown",
      "metadata": {
        "id": "BdGrib0Z1jSm"
      },
      "source": [
        "## Two Point Boundary Value Problems"
      ]
    },
    {
      "cell_type": "markdown",
      "metadata": {
        "id": "-NK7wehm1mFX"
      },
      "source": [
        "## Integral Equations and Inverse Theory"
      ]
    },
    {
      "cell_type": "markdown",
      "metadata": {
        "id": "Suvt_of01qL4"
      },
      "source": [
        "## Partial Differential Equations"
      ]
    },
    {
      "cell_type": "markdown",
      "metadata": {
        "id": "UE8IXxva1s3-"
      },
      "source": [
        "## Less-Numerical Algorithms"
      ]
    }
  ]
}