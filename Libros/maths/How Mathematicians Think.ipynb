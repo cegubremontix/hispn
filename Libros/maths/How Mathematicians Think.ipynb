{
  "nbformat": 4,
  "nbformat_minor": 0,
  "metadata": {
    "kernelspec": {
      "display_name": "Python 2.7.18 64-bit",
      "name": "python2718jvsc74a57bd0f92b2924b84ff19c1c3dc485f7644d4486f64738191026bf8e6de303969141b5"
    },
    "language_info": {
      "name": "python",
      "version": ""
    },
    "metadata": {
      "interpreter": {
        "hash": "f92b2924b84ff19c1c3dc485f7644d4486f64738191026bf8e6de303969141b5"
      }
    },
    "orig_nbformat": 2,
    "colab": {
      "name": "How Mathematicians Think.ipynb",
      "provenance": [],
      "include_colab_link": true
    }
  },
  "cells": [
    {
      "cell_type": "markdown",
      "metadata": {
        "id": "view-in-github",
        "colab_type": "text"
      },
      "source": [
        "<a href=\"https://colab.research.google.com/github/dbremont/Notas/blob/main/Libros/Matematicas/How%20Mathematicians%20Think.ipynb\" target=\"_parent\"><img src=\"https://colab.research.google.com/assets/colab-badge.svg\" alt=\"Open In Colab\"/></a>"
      ]
    },
    {
      "cell_type": "markdown",
      "metadata": {
        "id": "Pfx2fquQiFjw"
      },
      "source": [
        "(F)"
      ]
    },
    {
      "cell_type": "markdown",
      "metadata": {
        "id": "SsTSmvC-hodb"
      },
      "source": [
        "Turning on the Light\n",
        "\n",
        "\n",
        "1. Ambiguity in Mathematics\n",
        "2. The Contradictory in Mathematics\n",
        "3. Paradoxes and Mathematics: Infinity and the Real Numbers\n",
        "4. More Paradoxes of Infinity: Geometry, Cardinality, and Beyond\n",
        "\n",
        "The Light as Idea\n",
        "\n",
        "5. The Idea as an Organizing Principle\n",
        "6. Ideas, Logic, and Paradox\n",
        "7. Great Ideas\n",
        "\n",
        "The Light and The Eye of the Beholder\n",
        "\n",
        "8. The Truth of Mathematics\n",
        "9. Conclusion: Is Mathematics Algorithmic or Creative?\n",
        " \n"
      ]
    }
  ]
}