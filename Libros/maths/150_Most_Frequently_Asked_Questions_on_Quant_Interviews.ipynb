{
  "nbformat": 4,
  "nbformat_minor": 0,
  "metadata": {
    "colab": {
      "name": "150 Most Frequently Asked Questions on Quant Interviews.ipynb",
      "provenance": [],
      "authorship_tag": "ABX9TyOdqXoLeyfvxeEGbAlHOgrh",
      "include_colab_link": true
    },
    "kernelspec": {
      "name": "python3",
      "display_name": "Python 3"
    },
    "language_info": {
      "name": "python"
    }
  },
  "cells": [
    {
      "cell_type": "markdown",
      "metadata": {
        "id": "view-in-github",
        "colab_type": "text"
      },
      "source": [
        "<a href=\"https://colab.research.google.com/github/dbremont/Notas/blob/main/Libros/Matematicas/150_Most_Frequently_Asked_Questions_on_Quant_Interviews.ipynb\" target=\"_parent\"><img src=\"https://colab.research.google.com/assets/colab-badge.svg\" alt=\"Open In Colab\"/></a>"
      ]
    },
    {
      "cell_type": "markdown",
      "metadata": {
        "id": "t8zZ8T_8JeMs"
      },
      "source": [
        "## First Look: 15 Questions"
      ]
    },
    {
      "cell_type": "markdown",
      "metadata": {
        "id": "HeiOG-olXB-I"
      },
      "source": [
        "## Questions"
      ]
    },
    {
      "cell_type": "markdown",
      "metadata": {
        "id": "tvHVRUU_XMzP"
      },
      "source": [
        "### Mathematics, calculus and differential equations"
      ]
    },
    {
      "cell_type": "markdown",
      "metadata": {
        "id": "N5LDmTbyXQSk"
      },
      "source": [
        "### Covariance and correlation matrices. Linear algebra"
      ]
    },
    {
      "cell_type": "markdown",
      "metadata": {
        "id": "rMRxsP3EXU_k"
      },
      "source": [
        "### C++ Data Structures"
      ]
    },
    {
      "cell_type": "markdown",
      "metadata": {
        "id": "C2k6BzPiXZcr"
      },
      "source": [
        "### Probability. Stochastic calculus"
      ]
    },
    {
      "cell_type": "markdown",
      "metadata": {
        "id": "rbOVl4TFXEQv"
      },
      "source": [
        "## Solutions"
      ]
    }
  ]
}