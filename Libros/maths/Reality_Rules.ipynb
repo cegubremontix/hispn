{
  "nbformat": 4,
  "nbformat_minor": 0,
  "metadata": {
    "colab": {
      "name": "Reality Rules.ipynb",
      "provenance": [],
      "authorship_tag": "ABX9TyNyoqiKyF/XcCOQWWpJ6L9w",
      "include_colab_link": true
    },
    "kernelspec": {
      "name": "python3",
      "display_name": "Python 3"
    },
    "language_info": {
      "name": "python"
    }
  },
  "cells": [
    {
      "cell_type": "markdown",
      "metadata": {
        "id": "view-in-github",
        "colab_type": "text"
      },
      "source": [
        "<a href=\"https://colab.research.google.com/github/dbremont/Notas/blob/main/Libros/Matematicas/Reality_Rules.ipynb\" target=\"_parent\"><img src=\"https://colab.research.google.com/assets/colab-badge.svg\" alt=\"Open In Colab\"/></a>"
      ]
    },
    {
      "cell_type": "markdown",
      "source": [
        "## The Ways of modelmaking: natural systems and formal mathematical representations"
      ],
      "metadata": {
        "id": "TGl0bmbHoDVF"
      }
    },
    {
      "cell_type": "markdown",
      "source": [
        "## Catastrophes, dynamics and life: the singularities of econological and natural resource systems"
      ],
      "metadata": {
        "id": "_BLyGubYoVc_"
      }
    },
    {
      "cell_type": "markdown",
      "source": [
        "## Pattern and the emergence of living forms: cellular automata and discrete dynamics"
      ],
      "metadata": {
        "id": "W-q_DR5AowYw"
      }
    },
    {
      "cell_type": "markdown",
      "source": [
        "## Order in chaos: variety and pattern in the flow of fluids, populations and money"
      ],
      "metadata": {
        "id": "omb5zFrLo3NS"
      }
    },
    {
      "cell_type": "markdown",
      "source": [
        "## Strategies for survival:  competition, games and the theory of evolution"
      ],
      "metadata": {
        "id": "fP-ZDhtNo-XB"
      }
    },
    {
      "cell_type": "markdown",
      "source": [
        "## The analytical engine: a system-theoretic view of brains, minds and mechanims"
      ],
      "metadata": {
        "id": "pZXNxS9cpDA8"
      }
    },
    {
      "cell_type": "markdown",
      "source": [
        "## Taming nature and man: control anticipation and adaptation in social and biological processes"
      ],
      "metadata": {
        "id": "gWknwEzkpNpj"
      }
    },
    {
      "cell_type": "markdown",
      "source": [
        "## The geometry of human affairs: connective structure in art, literatue and games of change"
      ],
      "metadata": {
        "id": "gQbHgrrBpXAM"
      }
    },
    {
      "cell_type": "markdown",
      "source": [
        "## The mystique of mechanism: computation, complexity and the limits to reason"
      ],
      "metadata": {
        "id": "9cTfBw1HqZLl"
      }
    },
    {
      "cell_type": "markdown",
      "source": [
        "## How do we know? Myths, models and paradigms in the creation of beliefs"
      ],
      "metadata": {
        "id": "YS2PDWSVqeS6"
      }
    }
  ]
}