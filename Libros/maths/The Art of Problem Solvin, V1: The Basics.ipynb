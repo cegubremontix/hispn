{
  "nbformat": 4,
  "nbformat_minor": 0,
  "metadata": {
    "kernelspec": {
      "display_name": "Python 2.7.18 64-bit",
      "name": "python2718jvsc74a57bd0f92b2924b84ff19c1c3dc485f7644d4486f64738191026bf8e6de303969141b5"
    },
    "language_info": {
      "name": "python",
      "version": ""
    },
    "metadata": {
      "interpreter": {
        "hash": "f92b2924b84ff19c1c3dc485f7644d4486f64738191026bf8e6de303969141b5"
      }
    },
    "orig_nbformat": 2,
    "colab": {
      "name": "The Art of Problem Solvin, V1: The Basics.ipynb",
      "provenance": [],
      "include_colab_link": true
    }
  },
  "cells": [
    {
      "cell_type": "markdown",
      "metadata": {
        "id": "view-in-github",
        "colab_type": "text"
      },
      "source": [
        "<a href=\"https://colab.research.google.com/github/dbremont/Notas/blob/main/Libros/Matematicas/The%20Art%20of%20Problem%20Solvin%2C%20V1%3A%20The%20Basics.ipynb\" target=\"_parent\"><img src=\"https://colab.research.google.com/assets/colab-badge.svg\" alt=\"Open In Colab\"/></a>"
      ]
    },
    {
      "cell_type": "markdown",
      "metadata": {
        "id": "HbS7vQ8WfkTS"
      },
      "source": [
        "- (D) The Art of Problem Solving - Volume 1: The Basics\n",
        "\n",
        "- [The Art of Problem Solving, Volume 1: the Basics](https://artofproblemsolving.com/ebooks/aops-vol1-ebook/c0toc)"
      ]
    },
    {
      "cell_type": "markdown",
      "metadata": {
        "id": "-kQ9GBjNfiTa"
      },
      "source": [
        "1. Exponents and Logarithms\n",
        "2. Complex Numbers\n",
        "3. Linear Equations\n",
        "4. Proportions\n",
        "5. Using Integers\n",
        "6. Quadratic Equations\n",
        "7. Special Factorizations and Clever Manipulations\n",
        "8. What Numbers Really Are\n",
        "9. An Introduction to Circles\n",
        "10. Angles\n",
        "11. Triangles, a.k.a Geometry\n",
        "12. Quadrilaterals\n",
        "13. Polygons\n",
        "14. Angle Chasing\n",
        "15. Area\n",
        "16. The Power of Coordinates\n",
        "17. Power of a Point\n",
        "18. Three Dimensional Gometry\n",
        "19. Shift, Turns, Flips, Stretches, and Squeezes\n",
        "20. A Potpuurri of Geometry\n",
        "21. Functions\n",
        "22. Inequalities\n",
        "23. Operations and Relations\n",
        "24. Sequences and Series\n",
        "25. Learning to Count\n",
        "26. Statistics and Probability\n",
        "27. Sets\n",
        "28. Prove It\n",
        "29. Parting Shots\n",
        "\n"
      ]
    }
  ]
}