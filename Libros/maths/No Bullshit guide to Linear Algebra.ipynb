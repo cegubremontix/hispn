{
  "nbformat": 4,
  "nbformat_minor": 0,
  "metadata": {
    "kernelspec": {
      "display_name": "Python 2.7.18 64-bit",
      "name": "python2718jvsc74a57bd0f92b2924b84ff19c1c3dc485f7644d4486f64738191026bf8e6de303969141b5"
    },
    "language_info": {
      "name": "python",
      "version": ""
    },
    "metadata": {
      "interpreter": {
        "hash": "f92b2924b84ff19c1c3dc485f7644d4486f64738191026bf8e6de303969141b5"
      }
    },
    "orig_nbformat": 2,
    "colab": {
      "name": "No Bullshit guide to Linear Algebra.ipynb",
      "provenance": [],
      "include_colab_link": true
    }
  },
  "cells": [
    {
      "cell_type": "markdown",
      "metadata": {
        "id": "view-in-github",
        "colab_type": "text"
      },
      "source": [
        "<a href=\"https://colab.research.google.com/github/dbremont/Notas/blob/main/Libros/Matematicas/No%20Bullshit%20guide%20to%20Linear%20Algebra.ipynb\" target=\"_parent\"><img src=\"https://colab.research.google.com/assets/colab-badge.svg\" alt=\"Open In Colab\"/></a>"
      ]
    },
    {
      "cell_type": "markdown",
      "metadata": {
        "id": "1ZjbsK_9f2rQ"
      },
      "source": [
        "Fisico"
      ]
    },
    {
      "cell_type": "markdown",
      "metadata": {
        "id": "92JnhbgHf2NT"
      },
      "source": [
        "1. Math fundamentals\n",
        "2. Intro to linear algebra\n",
        "3. Computational linear algebra\n",
        "4. Geometric aspecs of linear algebra\n",
        "5. Linear transformations\n",
        "6. Theoretical linear algebra\n",
        "7. Applications\n",
        "8. Probability\n",
        "9. Quantum mechanics\n",
        "10. End matter"
      ]
    }
  ]
}