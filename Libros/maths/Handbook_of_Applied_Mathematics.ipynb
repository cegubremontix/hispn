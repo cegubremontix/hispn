{
  "nbformat": 4,
  "nbformat_minor": 0,
  "metadata": {
    "colab": {
      "name": "Handbook of Applied Mathematics.ipynb",
      "provenance": [],
      "toc_visible": true,
      "authorship_tag": "ABX9TyMGC+svlkAIzEs/wjAK+leg",
      "include_colab_link": true
    },
    "kernelspec": {
      "name": "python3",
      "display_name": "Python 3"
    },
    "language_info": {
      "name": "python"
    }
  },
  "cells": [
    {
      "cell_type": "markdown",
      "metadata": {
        "id": "view-in-github",
        "colab_type": "text"
      },
      "source": [
        "<a href=\"https://colab.research.google.com/github/dbremont/Notas/blob/main/Libros/Matematicas/Handbook_of_Applied_Mathematics.ipynb\" target=\"_parent\"><img src=\"https://colab.research.google.com/assets/colab-badge.svg\" alt=\"Open In Colab\"/></a>"
      ]
    },
    {
      "cell_type": "markdown",
      "metadata": {
        "id": "Ece22H0tpTpb"
      },
      "source": [
        "# Handbook of Applied Mathematics\n",
        "## Selected Results adn Methods 2ed\n"
      ]
    },
    {
      "cell_type": "markdown",
      "metadata": {
        "id": "EWfRm_hmoj8t"
      },
      "source": [
        "## Formulas from Algebra, Trigonometry and Analytic Geometry\n",
        "H. Lennart Pearson"
      ]
    },
    {
      "cell_type": "markdown",
      "metadata": {
        "id": "5Evg0SOGqKDY"
      },
      "source": [
        "## Elements of Analysis\n",
        "H. Lennart Pearson"
      ]
    },
    {
      "cell_type": "markdown",
      "metadata": {
        "id": "biBJWYOWoLSR"
      },
      "source": [
        "## Vector Calculus\n",
        "Gordon C. Oates"
      ]
    },
    {
      "cell_type": "markdown",
      "metadata": {
        "id": "9AjSpNp4oTH4"
      },
      "source": [
        "## Tensors \n",
        "Bernard Budiansky"
      ]
    },
    {
      "cell_type": "markdown",
      "metadata": {
        "id": "uH3mIUe3oWiW"
      },
      "source": [
        "## Functions of Complex Variable\n",
        "A. Richard Seebass"
      ]
    },
    {
      "cell_type": "markdown",
      "metadata": {
        "id": "H89HPt_qoaSU"
      },
      "source": [
        "## Ordinary Differential and Difference Equations\n",
        "Edward R. Benton"
      ]
    },
    {
      "cell_type": "markdown",
      "metadata": {
        "id": "vy6Nue4mocYB"
      },
      "source": [
        "## Special Functions\n",
        "Victor Barcilon"
      ]
    },
    {
      "cell_type": "markdown",
      "metadata": {
        "id": "fXo-GLSJp07o"
      },
      "source": [
        "## First Order Partial Differntial Equations\n",
        "Jarair Kevorkian"
      ]
    },
    {
      "cell_type": "markdown",
      "metadata": {
        "id": "_CWnGlZ3p5XB"
      },
      "source": [
        "## Partial Differential Equations of Second and Higher Order\n",
        "Carl E. Pearson"
      ]
    },
    {
      "cell_type": "markdown",
      "metadata": {
        "id": "1SN8XwJgofMz"
      },
      "source": [
        "## Integral Equations\n",
        "Donald F. Winter"
      ]
    },
    {
      "cell_type": "markdown",
      "metadata": {
        "id": "z9h-wv4Roizh"
      },
      "source": [
        "## Transform Methods\n",
        "Gordon E. Latta"
      ]
    },
    {
      "cell_type": "markdown",
      "metadata": {
        "id": "oFlToZjeopoM"
      },
      "source": [
        "## Asymtotic Methods\n",
        "Frank W. J. Olver"
      ]
    },
    {
      "cell_type": "markdown",
      "metadata": {
        "id": "gy8Zk47GosRo"
      },
      "source": [
        "## Oscillations\n",
        "Richard E. Kronauer"
      ]
    },
    {
      "cell_type": "markdown",
      "metadata": {
        "id": "lS8VSxg4qWc0"
      },
      "source": [
        "## Perturbation Methods\n",
        "G. F. Carrier"
      ]
    },
    {
      "cell_type": "markdown",
      "metadata": {
        "id": "ORE0XrAMqk4y"
      },
      "source": [
        "## Wave Propagation\n",
        "Wilbert Lick"
      ]
    },
    {
      "cell_type": "markdown",
      "metadata": {
        "id": "7jJC5Hvmot72"
      },
      "source": [
        "## Matrices and Linear Algebra\n",
        "Tse-Sun Chow"
      ]
    },
    {
      "cell_type": "markdown",
      "metadata": {
        "id": "9kf7cFfmowPb"
      },
      "source": [
        "## Functional Approximation\n",
        "Robin  Esch"
      ]
    },
    {
      "cell_type": "markdown",
      "metadata": {
        "id": "vP1IVGdyqvw1"
      },
      "source": [
        "## Numerical Analysis\n",
        "A. C. R. Newbery"
      ]
    },
    {
      "cell_type": "markdown",
      "metadata": {
        "id": "OzOpTe8Uq3zM"
      },
      "source": [
        "## Mathematical Models and Their Formulation\n",
        "Frederic Y. M. Wan"
      ]
    },
    {
      "cell_type": "markdown",
      "metadata": {
        "id": "-BnXEMxmq9_3"
      },
      "source": [
        "## Optimization Techniques\n",
        "Juris Vagners"
      ]
    },
    {
      "cell_type": "markdown",
      "metadata": {
        "id": "95hl7dFarC07"
      },
      "source": [
        "## Probability and Statistics\n",
        "L. Fisher"
      ]
    }
  ]
}