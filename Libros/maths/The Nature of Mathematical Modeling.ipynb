{
  "nbformat": 4,
  "nbformat_minor": 0,
  "metadata": {
    "kernelspec": {
      "display_name": "Python 2.7.18 64-bit",
      "name": "python2718jvsc74a57bd0f92b2924b84ff19c1c3dc485f7644d4486f64738191026bf8e6de303969141b5"
    },
    "language_info": {
      "name": "python",
      "version": ""
    },
    "metadata": {
      "interpreter": {
        "hash": "f92b2924b84ff19c1c3dc485f7644d4486f64738191026bf8e6de303969141b5"
      }
    },
    "orig_nbformat": 2,
    "colab": {
      "name": "The Nature of Mathematical Modeling.ipynb",
      "provenance": [],
      "include_colab_link": true
    }
  },
  "cells": [
    {
      "cell_type": "markdown",
      "metadata": {
        "id": "view-in-github",
        "colab_type": "text"
      },
      "source": [
        "<a href=\"https://colab.research.google.com/github/dbremont/Notas/blob/main/Libros/Matematicas/The%20Nature%20of%20Mathematical%20Modeling.ipynb\" target=\"_parent\"><img src=\"https://colab.research.google.com/assets/colab-badge.svg\" alt=\"Open In Colab\"/></a>"
      ]
    },
    {
      "cell_type": "markdown",
      "metadata": {
        "id": "zw-7pf29iglZ"
      },
      "source": [
        "(F)"
      ]
    },
    {
      "cell_type": "markdown",
      "metadata": {
        "id": "1MWxff8rh2bX"
      },
      "source": [
        "1. Introduction\n",
        "\n",
        "Analytical Models\n",
        "2. Ordinary Differential and Difference Equations\n",
        "3. Partial Differential Equations\n",
        "4. Variotional Priciples\n",
        "5. Random Systems\n",
        "\n",
        "Numerical Models\n",
        "6. Finite Differences: Ordinary Differential Equations\n",
        "7. Finite Differences: Partial Differential Equatinos\n",
        "8. Finite Elements\n",
        "9. Cellular Automata and Lattice Gases\n",
        "\n",
        "Observational Models\n",
        "10. Function Fitting\n",
        "11. Transforms\n",
        "12. Architectures\n",
        "13. Optimization and Search\n",
        "14. Clustering and Density Estimation\n",
        "15. Filtering and State Estimation\n",
        "16. Linear and Nonlinear Time Series"
      ]
    }
  ]
}