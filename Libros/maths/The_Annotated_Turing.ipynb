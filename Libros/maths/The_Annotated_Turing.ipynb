{
  "nbformat": 4,
  "nbformat_minor": 0,
  "metadata": {
    "colab": {
      "name": "The Annotated Turing.ipynb",
      "provenance": [],
      "collapsed_sections": [],
      "authorship_tag": "ABX9TyOcjlfZAN506lkapVNjw3gr",
      "include_colab_link": true
    },
    "kernelspec": {
      "name": "python3",
      "display_name": "Python 3"
    },
    "language_info": {
      "name": "python"
    }
  },
  "cells": [
    {
      "cell_type": "markdown",
      "metadata": {
        "id": "view-in-github",
        "colab_type": "text"
      },
      "source": [
        "<a href=\"https://colab.research.google.com/github/dbremont/Notas/blob/main/Libros/maths/The_Annotated_Turing.ipynb\" target=\"_parent\"><img src=\"https://colab.research.google.com/assets/colab-badge.svg\" alt=\"Open In Colab\"/></a>"
      ]
    },
    {
      "cell_type": "markdown",
      "source": [
        "# Foundations"
      ],
      "metadata": {
        "id": "iycifS3RfOxz"
      }
    },
    {
      "cell_type": "markdown",
      "source": [
        "## This Tomb Holds Diophantus"
      ],
      "metadata": {
        "id": "8m3vLn5VjZz1"
      }
    },
    {
      "cell_type": "markdown",
      "source": [
        "## The Irrational and the Transcendental"
      ],
      "metadata": {
        "id": "bD8NkJGijd0u"
      }
    },
    {
      "cell_type": "markdown",
      "source": [
        "## Centuries of Progress"
      ],
      "metadata": {
        "id": "u1q8Uc1Pjh1q"
      }
    },
    {
      "cell_type": "markdown",
      "source": [
        "# Computable Numbers"
      ],
      "metadata": {
        "id": "uPBznzPfjkFf"
      }
    },
    {
      "cell_type": "markdown",
      "source": [
        "## The Educacion of Alan Turing"
      ],
      "metadata": {
        "id": "By8gjr-5jmR6"
      }
    },
    {
      "cell_type": "markdown",
      "source": [
        "## Machines at Work"
      ],
      "metadata": {
        "id": "3JzS0sKDjomP"
      }
    },
    {
      "cell_type": "markdown",
      "source": [
        "## Addition and Multiplication"
      ],
      "metadata": {
        "id": "Hda4tpxYjxdo"
      }
    },
    {
      "cell_type": "markdown",
      "source": [
        "## Also Known as Subroutines"
      ],
      "metadata": {
        "id": "g9NPAhrsjznH"
      }
    },
    {
      "cell_type": "markdown",
      "source": [
        "## Everything Is a Number"
      ],
      "metadata": {
        "id": "FjlzAtjOj2uo"
      }
    },
    {
      "cell_type": "markdown",
      "source": [
        "## The Universal Machine"
      ],
      "metadata": {
        "id": "5ji7OjJOj5Lg"
      }
    },
    {
      "cell_type": "markdown",
      "source": [
        "## Computers and Computability"
      ],
      "metadata": {
        "id": "JulWr5Wcj7pK"
      }
    },
    {
      "cell_type": "markdown",
      "source": [
        "## Of Machines and Men"
      ],
      "metadata": {
        "id": "FJ-Wi4vXj9oa"
      }
    },
    {
      "cell_type": "markdown",
      "source": [
        "# Das Entscheindungsproblem"
      ],
      "metadata": {
        "id": "FKFo3hlhkAOx"
      }
    },
    {
      "cell_type": "markdown",
      "source": [
        "## Logic and Computability"
      ],
      "metadata": {
        "id": "GNem15XXkCqY"
      }
    },
    {
      "cell_type": "markdown",
      "source": [
        "## Computable Functions"
      ],
      "metadata": {
        "id": "f0laKvxgkEoB"
      }
    },
    {
      "cell_type": "markdown",
      "source": [
        "## The Major Proof"
      ],
      "metadata": {
        "id": "OBzLzl48kIQu"
      }
    },
    {
      "cell_type": "markdown",
      "source": [
        "## Conceiving the Continuum"
      ],
      "metadata": {
        "id": "0p3lt42ZkJ9d"
      }
    },
    {
      "cell_type": "markdown",
      "source": [
        "# And Beyond"
      ],
      "metadata": {
        "id": "vdnyDv5RkM35"
      }
    },
    {
      "cell_type": "markdown",
      "source": [
        "## Is Everything a Turing Machine?"
      ],
      "metadata": {
        "id": "Md0nNhvPkN-v"
      }
    },
    {
      "cell_type": "markdown",
      "source": [
        "## The Long Sleep of Diophantus"
      ],
      "metadata": {
        "id": "ORWl23IFkQeh"
      }
    }
  ]
}