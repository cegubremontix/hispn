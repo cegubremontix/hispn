{
  "nbformat": 4,
  "nbformat_minor": 0,
  "metadata": {
    "colab": {
      "name": " Alternate Realities: Mathematical Models of Nature and Man.ipynb",
      "provenance": [],
      "authorship_tag": "ABX9TyOPYUM2f+sBXbmj91L2abts",
      "include_colab_link": true
    },
    "kernelspec": {
      "name": "python3",
      "display_name": "Python 3"
    },
    "language_info": {
      "name": "python"
    }
  },
  "cells": [
    {
      "cell_type": "markdown",
      "metadata": {
        "id": "view-in-github",
        "colab_type": "text"
      },
      "source": [
        "<a href=\"https://colab.research.google.com/github/dbremont/Notas/blob/main/Libros/Matematicas/Alternate_Realities_Mathematical_Models_of_Nature_and_Man.ipynb\" target=\"_parent\"><img src=\"https://colab.research.google.com/assets/colab-badge.svg\" alt=\"Open In Colab\"/></a>"
      ]
    },
    {
      "cell_type": "markdown",
      "source": [
        "## The Ways of Modelmaking: Natural Systems and Formal Mathematical Representations"
      ],
      "metadata": {
        "id": "wRcl5S4WaRf_"
      }
    },
    {
      "cell_type": "markdown",
      "source": [
        "## Pattern and the Emergence of Living Forms: Cellular Automata and Discrete Dynamics"
      ],
      "metadata": {
        "id": "aDDFl2AFaYgK"
      }
    },
    {
      "cell_type": "markdown",
      "source": [
        "## The Analytical Engine: A Newtonian View of Brains, Minds adn Mechanisms"
      ],
      "metadata": {
        "id": "GWpchKNtahQi"
      }
    },
    {
      "cell_type": "markdown",
      "source": [
        "## Catastrophes and Life: The Singularities of Ecological and Natural Resource Systems"
      ],
      "metadata": {
        "id": "lCpGPQKuapzS"
      }
    },
    {
      "cell_type": "markdown",
      "source": [
        "## Order in Chaos: Turbulance and Pattern in the flow of fluids, Popoulations and Money"
      ],
      "metadata": {
        "id": "LoX7T80lay4N"
      }
    },
    {
      "cell_type": "markdown",
      "source": [
        "## Strategies for survival: competition, games and the theory of evolution"
      ],
      "metadata": {
        "id": "e6JUaGula9dd"
      }
    },
    {
      "cell_type": "markdown",
      "source": [
        "## Taming nature and man: control, anticipation, adn adaptation in social and biological processes"
      ],
      "metadata": {
        "id": "jVz5SHG8bDjs"
      }
    },
    {
      "cell_type": "markdown",
      "source": [
        "## The geometry of human affairs: connnective structure in art, literature and games of change"
      ],
      "metadata": {
        "id": "2B5AOIbsbLip"
      }
    },
    {
      "cell_type": "markdown",
      "source": [
        "## How do we know? Myths, models and paradigms in the creation of beliefs"
      ],
      "metadata": {
        "id": "wzY4P1GvbSJJ"
      }
    }
  ]
}