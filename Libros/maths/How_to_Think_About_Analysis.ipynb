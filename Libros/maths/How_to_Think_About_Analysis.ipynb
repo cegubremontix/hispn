{
  "nbformat": 4,
  "nbformat_minor": 0,
  "metadata": {
    "colab": {
      "name": "How to Think About Analysis.ipynb",
      "provenance": [],
      "authorship_tag": "ABX9TyP8VjWebbBSQhuOXpLbckpu",
      "include_colab_link": true
    },
    "kernelspec": {
      "name": "python3",
      "display_name": "Python 3"
    },
    "language_info": {
      "name": "python"
    }
  },
  "cells": [
    {
      "cell_type": "markdown",
      "metadata": {
        "id": "view-in-github",
        "colab_type": "text"
      },
      "source": [
        "<a href=\"https://colab.research.google.com/github/dbremont/Notas/blob/main/Libros/Matematicas/How_to_Think_About_Analysis.ipynb\" target=\"_parent\"><img src=\"https://colab.research.google.com/assets/colab-badge.svg\" alt=\"Open In Colab\"/></a>"
      ]
    },
    {
      "cell_type": "markdown",
      "metadata": {
        "id": "xZWwcIRaYKe_"
      },
      "source": [
        "# How to Think About Analysis"
      ]
    },
    {
      "cell_type": "markdown",
      "metadata": {
        "id": "7z2ephhEZAx1"
      },
      "source": [
        "## Studying Analysis"
      ]
    },
    {
      "cell_type": "markdown",
      "metadata": {
        "id": "ZsgcDR_LZHQk"
      },
      "source": [
        "### What is Analysis Like?"
      ]
    },
    {
      "cell_type": "markdown",
      "metadata": {
        "id": "JUlr_-2LZN2W"
      },
      "source": [
        "### Axioms, Definitions and Theorems"
      ]
    },
    {
      "cell_type": "markdown",
      "metadata": {
        "id": "82RIgymVZS_J"
      },
      "source": [
        "### Proofs"
      ]
    },
    {
      "cell_type": "markdown",
      "metadata": {
        "id": "8ukxzm5oZYbM"
      },
      "source": [
        "### Learning Analysis"
      ]
    },
    {
      "cell_type": "markdown",
      "metadata": {
        "id": "pcbdaHKncSRq"
      },
      "source": [
        "## Concepts in Analysis"
      ]
    },
    {
      "cell_type": "markdown",
      "metadata": {
        "id": "xu64o9OwcXHV"
      },
      "source": [
        "### Sequences"
      ]
    },
    {
      "cell_type": "markdown",
      "metadata": {
        "id": "H0lrAZL5cZkS"
      },
      "source": [
        "### Series"
      ]
    },
    {
      "cell_type": "markdown",
      "metadata": {
        "id": "YTGl1lvaca2R"
      },
      "source": [
        "### Continuity"
      ]
    },
    {
      "cell_type": "markdown",
      "metadata": {
        "id": "pGMelN-Fcc9U"
      },
      "source": [
        "### Diferentiability"
      ]
    },
    {
      "cell_type": "markdown",
      "metadata": {
        "id": "8qeH5aP7ce9O"
      },
      "source": [
        "### Integrability"
      ]
    },
    {
      "cell_type": "markdown",
      "metadata": {
        "id": "aLJ-nGnjcm9R"
      },
      "source": [
        "### The Real Numbers"
      ]
    },
    {
      "cell_type": "markdown",
      "metadata": {
        "id": "5kP8pcDmcrMY"
      },
      "source": [
        "## Conclusion"
      ]
    }
  ]
}