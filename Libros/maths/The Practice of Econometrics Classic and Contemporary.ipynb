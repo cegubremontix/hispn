{
  "nbformat": 4,
  "nbformat_minor": 0,
  "metadata": {
    "kernelspec": {
      "display_name": "Python 2.7.18 64-bit",
      "name": "python2718jvsc74a57bd0f92b2924b84ff19c1c3dc485f7644d4486f64738191026bf8e6de303969141b5"
    },
    "language_info": {
      "name": "python",
      "version": ""
    },
    "metadata": {
      "interpreter": {
        "hash": "f92b2924b84ff19c1c3dc485f7644d4486f64738191026bf8e6de303969141b5"
      }
    },
    "orig_nbformat": 2,
    "colab": {
      "name": "The Practice of Econometrics Classic and Contemporary.ipynb",
      "provenance": [],
      "include_colab_link": true
    }
  },
  "cells": [
    {
      "cell_type": "markdown",
      "metadata": {
        "id": "view-in-github",
        "colab_type": "text"
      },
      "source": [
        "<a href=\"https://colab.research.google.com/github/dbremont/Notas/blob/main/Libros/Matematicas/The%20Practice%20of%20Econometrics%20Classic%20and%20Contemporary.ipynb\" target=\"_parent\"><img src=\"https://colab.research.google.com/assets/colab-badge.svg\" alt=\"Open In Colab\"/></a>"
      ]
    },
    {
      "cell_type": "markdown",
      "metadata": {
        "id": "5YM9BCvsitn4"
      },
      "source": [
        "* (F)"
      ]
    },
    {
      "cell_type": "markdown",
      "metadata": {
        "id": "L5w1VCZfh9v5"
      },
      "source": [
        "1. Computers and the practice of econometrics\n",
        "2. The Capital asset pricing model: an application of biariate regression analysis\n",
        "3. Cost, Learning Curves, and Scale Economies: From Simple to Multiple Regression\n",
        "4. The Measurement of Quality Change: Constructing an Hedonic Price Index for Computers Using Multiple Regression Methods.\n",
        "5. Analyzing determinants of wages and measuring rwage discrimination: dummy variables in regression models\n",
        "6. Explaining and forecasting aggregate investment expenditures: distributed lags  and autocorrelation\n",
        "7. The Demand for electricity: Structural and time series approaches\n",
        "8. Causality and Simultaneity between advertising and sales\n",
        "9. Modeling the interrelated demands for factors of production: estimation and inference in equation systems\n",
        "10. Parameter estimation in structural and reduced form equations of small macroeconomics models\n",
        "11. Wheater and how much women work for pay: Applications of limited dependent variable procedures\n",
        "\n"
      ]
    }
  ]
}