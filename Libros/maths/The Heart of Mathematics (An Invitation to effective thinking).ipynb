{
  "nbformat": 4,
  "nbformat_minor": 0,
  "metadata": {
    "kernelspec": {
      "display_name": "Python 2.7.18 64-bit",
      "name": "python2718jvsc74a57bd0f92b2924b84ff19c1c3dc485f7644d4486f64738191026bf8e6de303969141b5"
    },
    "language_info": {
      "name": "python",
      "version": ""
    },
    "metadata": {
      "interpreter": {
        "hash": "f92b2924b84ff19c1c3dc485f7644d4486f64738191026bf8e6de303969141b5"
      }
    },
    "orig_nbformat": 2,
    "colab": {
      "name": "The Heart of Mathematics (An Invitation to effective thinking).ipynb",
      "provenance": [],
      "include_colab_link": true
    }
  },
  "cells": [
    {
      "cell_type": "markdown",
      "metadata": {
        "id": "view-in-github",
        "colab_type": "text"
      },
      "source": [
        "<a href=\"https://colab.research.google.com/github/dbremont/Notas/blob/main/Libros/Matematicas/The%20Heart%20of%20Mathematics%20(An%20Invitation%20to%20effective%20thinking).ipynb\" target=\"_parent\"><img src=\"https://colab.research.google.com/assets/colab-badge.svg\" alt=\"Open In Colab\"/></a>"
      ]
    },
    {
      "cell_type": "markdown",
      "metadata": {
        "id": "wGV-aPhMg9Dp"
      },
      "source": [
        "F"
      ]
    },
    {
      "cell_type": "markdown",
      "metadata": {
        "id": "CQsKK5yZg1fY"
      },
      "source": [
        "1. Fund and Games - An Introduction to rigorous thought\n",
        "2. Number Contemplation\n",
        "3. Infinity\n",
        "4. Geometric Gems\n",
        "5. Contortions of Space\n",
        "6. Fractals and Chaos\n",
        "7. Taming Uncertainty\n",
        "8. Meaning from Data\n",
        "9. Decising Wisely\n"
      ]
    }
  ]
}