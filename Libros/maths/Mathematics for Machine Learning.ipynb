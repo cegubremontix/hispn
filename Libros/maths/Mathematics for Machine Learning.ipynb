{
  "nbformat": 4,
  "nbformat_minor": 0,
  "metadata": {
    "kernelspec": {
      "display_name": "Python 2.7.18 64-bit",
      "name": "python2718jvsc74a57bd0f92b2924b84ff19c1c3dc485f7644d4486f64738191026bf8e6de303969141b5"
    },
    "language_info": {
      "name": "python",
      "version": ""
    },
    "metadata": {
      "interpreter": {
        "hash": "f92b2924b84ff19c1c3dc485f7644d4486f64738191026bf8e6de303969141b5"
      }
    },
    "orig_nbformat": 2,
    "colab": {
      "name": "Mathematics for Machine Learning.ipynb",
      "provenance": [],
      "include_colab_link": true
    }
  },
  "cells": [
    {
      "cell_type": "markdown",
      "metadata": {
        "id": "view-in-github",
        "colab_type": "text"
      },
      "source": [
        "<a href=\"https://colab.research.google.com/github/dbremont/Notas/blob/main/Libros/Matematicas/Mathematics%20for%20Machine%20Learning.ipynb\" target=\"_parent\"><img src=\"https://colab.research.google.com/assets/colab-badge.svg\" alt=\"Open In Colab\"/></a>"
      ]
    },
    {
      "cell_type": "markdown",
      "metadata": {
        "id": "zzkcv6Zue6gG"
      },
      "source": [
        "- (F) Mathematics for Machine Learning\n",
        "- [Code / Solutions](https://github.com/ilmoi/MML-Book)"
      ]
    },
    {
      "cell_type": "markdown",
      "metadata": {
        "id": "u91k-N6UenNn"
      },
      "source": [
        "1. Introduction and Motivation\n",
        "2. Linear Algebra\n",
        "3. Analytic Geometry\n",
        "4. Matrix Decompositions\n",
        "5. Vector Calculus\n",
        "6. Probability and Distributions\n",
        "7. Continous Optimization\n",
        "8. Whem Models Meet Data\n",
        "9. Linear Regression\n",
        "10. Dimensionality Reduction with Principal Component Analysis\n",
        "11. Density Estimation with Gaussian Mixture Models\n",
        "12. Classification using Support Vector Machines\n"
      ]
    }
  ]
}