{
  "nbformat": 4,
  "nbformat_minor": 0,
  "metadata": {
    "colab": {
      "name": "Mathematics: A Very Short Introduction.ipynb",
      "provenance": [],
      "authorship_tag": "ABX9TyMI4bSVPnvtY8dfgRaVToen",
      "include_colab_link": true
    },
    "kernelspec": {
      "name": "python3",
      "display_name": "Python 3"
    },
    "language_info": {
      "name": "python"
    }
  },
  "cells": [
    {
      "cell_type": "markdown",
      "metadata": {
        "id": "view-in-github",
        "colab_type": "text"
      },
      "source": [
        "<a href=\"https://colab.research.google.com/github/dbremont/Notas/blob/main/Libros/Matematicas/Mathematics_A_Very_Short_Introduction.ipynb\" target=\"_parent\"><img src=\"https://colab.research.google.com/assets/colab-badge.svg\" alt=\"Open In Colab\"/></a>"
      ]
    },
    {
      "cell_type": "markdown",
      "source": [
        "##  Models"
      ],
      "metadata": {
        "id": "Nb1JNajxm6mb"
      }
    },
    {
      "cell_type": "markdown",
      "source": [
        "## Numbers and abstraction"
      ],
      "metadata": {
        "id": "cCt903_qnBfH"
      }
    },
    {
      "cell_type": "markdown",
      "source": [
        "## Proofs"
      ],
      "metadata": {
        "id": "eIvLYCoOnE3l"
      }
    },
    {
      "cell_type": "markdown",
      "source": [
        "## Limits and infinity"
      ],
      "metadata": {
        "id": "pIVRYfSKnG0N"
      }
    },
    {
      "cell_type": "markdown",
      "source": [
        "## Dimension"
      ],
      "metadata": {
        "id": "JNiCQHC0nJIc"
      }
    },
    {
      "cell_type": "markdown",
      "source": [
        "## Geometry"
      ],
      "metadata": {
        "id": "JDXa4uqBnLcc"
      }
    },
    {
      "cell_type": "markdown",
      "source": [
        "## Estimates and approximations"
      ],
      "metadata": {
        "id": "K2WNbHs3nM7S"
      }
    },
    {
      "cell_type": "markdown",
      "source": [
        "## Some frequently asked questions"
      ],
      "metadata": {
        "id": "Gu7GowsGnPVo"
      }
    }
  ]
}