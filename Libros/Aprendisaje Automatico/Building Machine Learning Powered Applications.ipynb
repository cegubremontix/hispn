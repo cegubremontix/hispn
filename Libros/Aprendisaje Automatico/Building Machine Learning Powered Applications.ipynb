{
 "cells": [
  {
   "cell_type": "markdown",
   "metadata": {
    "colab_type": "text",
    "id": "view-in-github"
   },
   "source": [
    "<a href=\"https://colab.research.google.com/github/dbremont/Notas/blob/main/Libros/Aprendisaje%20Automatico/Building%20Machine%20Learning%20Powered%20Applications.ipynb\" target=\"_parent\"><img src=\"https://colab.research.google.com/assets/colab-badge.svg\" alt=\"Open In Colab\"/></a>"
   ]
  },
  {
   "cell_type": "markdown",
   "metadata": {
    "id": "DMzeqOUZpfW5"
   },
   "source": [
    "Building Machine Learning Powered Applications"
   ]
  },
  {
   "cell_type": "markdown",
   "metadata": {
    "id": "n0-8S3fSpioc"
   },
   "source": [
    "## From Product Goal to ML Framing"
   ]
  },
  {
   "cell_type": "markdown",
   "metadata": {
    "id": "n0-8S3fSpioc"
   },
   "source": [
    "## Create a Plan"
   ]
  },
  {
   "cell_type": "markdown",
   "metadata": {
    "id": "n0-8S3fSpioc"
   },
   "source": [
    "## Build your First End-to-End Pipeline"
   ]
  },
  {
   "cell_type": "markdown",
   "metadata": {
    "id": "n0-8S3fSpioc"
   },
   "source": [
    "## Acquire an Initial dataset"
   ]
  },
  {
   "cell_type": "markdown",
   "metadata": {
    "id": "n0-8S3fSpioc"
   },
   "source": [
    "## Train and Evaluate Your Model"
   ]
  },
  {
   "cell_type": "markdown",
   "metadata": {
    "id": "n0-8S3fSpioc"
   },
   "source": [
    "## Debug Your ML Problems"
   ]
  },
  {
   "cell_type": "markdown",
   "metadata": {
    "id": "n0-8S3fSpioc"
   },
   "source": [
    "## Using Classifiers for Writing Recommendations"
   ]
  },
  {
   "cell_type": "markdown",
   "metadata": {
    "id": "n0-8S3fSpioc"
   },
   "source": [
    "## Considerations When Deploying Models"
   ]
  },
  {
   "cell_type": "markdown",
   "metadata": {
    "id": "n0-8S3fSpioc"
   },
   "source": [
    "## Choose your deployment option"
   ]
  },
  {
   "cell_type": "markdown",
   "metadata": {
    "id": "n0-8S3fSpioc"
   },
   "source": [
    "## Build Safeguards for Model"
   ]
  }
 ],
 "metadata": {
  "colab": {
   "include_colab_link": true,
   "name": "Building Machine Learning Powered Applications.ipynb",
   "provenance": []
  },
  "kernelspec": {
   "display_name": "Python 3",
   "language": "python",
   "name": "python3"
  },
  "language_info": {
   "codemirror_mode": {
    "name": "ipython",
    "version": 3
   },
   "file_extension": ".py",
   "mimetype": "text/x-python",
   "name": "python",
   "nbconvert_exporter": "python",
   "pygments_lexer": "ipython3",
   "version": "3.7.3"
  },
  "metadata": {
   "interpreter": {
    "hash": "f92b2924b84ff19c1c3dc485f7644d4486f64738191026bf8e6de303969141b5"
   }
  }
 },
 "nbformat": 4,
 "nbformat_minor": 1
}
