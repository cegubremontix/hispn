{
  "nbformat": 4,
  "nbformat_minor": 0,
  "metadata": {
    "kernelspec": {
      "display_name": "Python 2.7.18 64-bit",
      "name": "python2718jvsc74a57bd0f92b2924b84ff19c1c3dc485f7644d4486f64738191026bf8e6de303969141b5"
    },
    "language_info": {
      "name": "python",
      "version": ""
    },
    "metadata": {
      "interpreter": {
        "hash": "f92b2924b84ff19c1c3dc485f7644d4486f64738191026bf8e6de303969141b5"
      }
    },
    "orig_nbformat": 2,
    "colab": {
      "name": "Building Machine Learning Powered Applications.ipynb",
      "provenance": [],
      "include_colab_link": true
    }
  },
  "cells": [
    {
      "cell_type": "markdown",
      "metadata": {
        "id": "view-in-github",
        "colab_type": "text"
      },
      "source": [
        "<a href=\"https://colab.research.google.com/github/dbremont/Notas/blob/main/Libros/Aprendisaje%20Automatico/Building%20Machine%20Learning%20Powered%20Applications.ipynb\" target=\"_parent\"><img src=\"https://colab.research.google.com/assets/colab-badge.svg\" alt=\"Open In Colab\"/></a>"
      ]
    },
    {
      "cell_type": "markdown",
      "metadata": {
        "id": "DMzeqOUZpfW5"
      },
      "source": [
        "Building Machine Learning Powered Applications"
      ]
    },
    {
      "cell_type": "markdown",
      "metadata": {
        "id": "n0-8S3fSpioc"
      },
      "source": [
        "(F) "
      ]
    }
  ]
}