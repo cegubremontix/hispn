{
  "nbformat": 4,
  "nbformat_minor": 0,
  "metadata": {
    "kernelspec": {
      "display_name": "Python 2.7.18 64-bit",
      "name": "python2718jvsc74a57bd0f92b2924b84ff19c1c3dc485f7644d4486f64738191026bf8e6de303969141b5"
    },
    "language_info": {
      "name": "python",
      "version": ""
    },
    "metadata": {
      "interpreter": {
        "hash": "f92b2924b84ff19c1c3dc485f7644d4486f64738191026bf8e6de303969141b5"
      }
    },
    "orig_nbformat": 2,
    "colab": {
      "name": "Deep Learning for Coders with fastai & PyTorch.ipynb",
      "provenance": [],
      "include_colab_link": true
    }
  },
  "cells": [
    {
      "cell_type": "markdown",
      "metadata": {
        "id": "view-in-github",
        "colab_type": "text"
      },
      "source": [
        "<a href=\"https://colab.research.google.com/github/dbremont/Notas/blob/main/Libros/Aprendisaje%20Automatico/Deep%20Learning%20for%20Coders%20with%20fastai%20%26%20PyTorch.ipynb\" target=\"_parent\"><img src=\"https://colab.research.google.com/assets/colab-badge.svg\" alt=\"Open In Colab\"/></a>"
      ]
    },
    {
      "cell_type": "markdown",
      "metadata": {
        "id": "4LUm3ccOpbrH"
      },
      "source": [
        "(F)"
      ]
    },
    {
      "cell_type": "markdown",
      "metadata": {
        "id": "eEHAnt_5pYHJ"
      },
      "source": [
        "12) Language Models from Scratch\n",
        "\n",
        "Whenever we start working on a new problem, we alwyas first try to hink of the simplest dataset we can that willl allow us to try out emthodss quicly and easly, and interprete the results.\n",
        "\n",
        "\n"
      ]
    }
  ]
}