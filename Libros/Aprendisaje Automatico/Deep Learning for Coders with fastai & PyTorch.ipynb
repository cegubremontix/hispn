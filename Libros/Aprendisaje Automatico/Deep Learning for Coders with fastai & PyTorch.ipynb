{
 "cells": [
  {
   "cell_type": "markdown",
   "metadata": {},
   "source": [
    "ri: F\n",
    "title: Deep Learning for Coders with fastai & PyTorch\n",
    "---\n",
    "\n",
    "12) Language Models from Scratch\n",
    "\n",
    "Whenever we start working on a new problem, we alwyas first try to hink of the simplest dataset we can that willl allow us to try out emthodss quicly and easly, and interprete the results.\n",
    "\n",
    "\n"
   ]
  }
 ],
 "metadata": {
  "kernelspec": {
   "display_name": "Python 2.7.18 64-bit",
   "name": "python2718jvsc74a57bd0f92b2924b84ff19c1c3dc485f7644d4486f64738191026bf8e6de303969141b5"
  },
  "language_info": {
   "name": "python",
   "version": ""
  },
  "metadata": {
   "interpreter": {
    "hash": "f92b2924b84ff19c1c3dc485f7644d4486f64738191026bf8e6de303969141b5"
   }
  },
  "orig_nbformat": 2
 },
 "nbformat": 4,
 "nbformat_minor": 2
}