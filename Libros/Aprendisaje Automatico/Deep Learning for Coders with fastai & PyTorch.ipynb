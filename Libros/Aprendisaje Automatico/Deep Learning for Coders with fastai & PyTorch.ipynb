{
  "nbformat": 4,
  "nbformat_minor": 0,
  "metadata": {
    "kernelspec": {
      "display_name": "Python 2.7.18 64-bit",
      "name": "python2718jvsc74a57bd0f92b2924b84ff19c1c3dc485f7644d4486f64738191026bf8e6de303969141b5"
    },
    "language_info": {
      "name": "python",
      "version": ""
    },
    "metadata": {
      "interpreter": {
        "hash": "f92b2924b84ff19c1c3dc485f7644d4486f64738191026bf8e6de303969141b5"
      }
    },
    "orig_nbformat": 2,
    "colab": {
      "name": "Deep Learning for Coders with fastai & PyTorch.ipynb",
      "provenance": [],
      "toc_visible": true,
      "include_colab_link": true
    }
  },
  "cells": [
    {
      "cell_type": "markdown",
      "metadata": {
        "id": "view-in-github",
        "colab_type": "text"
      },
      "source": [
        "<a href=\"https://colab.research.google.com/github/dbremont/Notas/blob/main/Libros/Aprendisaje%20Automatico/Deep%20Learning%20for%20Coders%20with%20fastai%20%26%20PyTorch.ipynb\" target=\"_parent\"><img src=\"https://colab.research.google.com/assets/colab-badge.svg\" alt=\"Open In Colab\"/></a>"
      ]
    },
    {
      "cell_type": "markdown",
      "metadata": {
        "id": "LvCOZ5nDQtdr"
      },
      "source": [
        "# Deep Learning in Practice"
      ]
    },
    {
      "cell_type": "markdown",
      "metadata": {
        "id": "0E5sinuUQyfy"
      },
      "source": [
        "## Your Deep Learning Journey"
      ]
    },
    {
      "cell_type": "markdown",
      "metadata": {
        "id": "WqDjGm8OQ2QJ"
      },
      "source": [
        "## From Model to Production"
      ]
    },
    {
      "cell_type": "markdown",
      "metadata": {
        "id": "mhAFMKVIQ6mF"
      },
      "source": [
        "## Data Ethics"
      ]
    },
    {
      "cell_type": "markdown",
      "metadata": {
        "id": "5hK2pmTdQ8_W"
      },
      "source": [
        "# Understanding fastai's Applications"
      ]
    },
    {
      "cell_type": "markdown",
      "metadata": {
        "id": "z4p6rIP3RCIL"
      },
      "source": [
        "## Under the Hood: Training a Digit Classifier"
      ]
    },
    {
      "cell_type": "markdown",
      "metadata": {
        "id": "Dc5wz8U2RGL_"
      },
      "source": [
        "## Image Classification"
      ]
    },
    {
      "cell_type": "markdown",
      "metadata": {
        "id": "B9FA5Fm0RJKL"
      },
      "source": [
        "## Other Computer Vision Problems"
      ]
    },
    {
      "cell_type": "markdown",
      "metadata": {
        "id": "g6j1Yh0zRMDY"
      },
      "source": [
        "## Training State-of-the-Art Model"
      ]
    },
    {
      "cell_type": "markdown",
      "metadata": {
        "id": "odf86mJLRSFF"
      },
      "source": [
        "## Collaborative Filtering Deep Dive"
      ]
    },
    {
      "cell_type": "markdown",
      "metadata": {
        "id": "Uy1vlQneRaU2"
      },
      "source": [
        "## Tabular Modeling Deep Dive"
      ]
    },
    {
      "cell_type": "markdown",
      "metadata": {
        "id": "iT6i-gWQRexU"
      },
      "source": [
        "## NLP Deep Dive: RNNs"
      ]
    },
    {
      "cell_type": "markdown",
      "metadata": {
        "id": "g8xZdZjmRjCx"
      },
      "source": [
        "## Data Munging with fastai's Mid-Level API"
      ]
    },
    {
      "cell_type": "markdown",
      "metadata": {
        "id": "KxcRY-5YRqYb"
      },
      "source": [
        "# Foundations of Deep Learning"
      ]
    },
    {
      "cell_type": "markdown",
      "metadata": {
        "id": "O3c9rM0wRuIk"
      },
      "source": [
        "## A Language Model from Scratch"
      ]
    },
    {
      "cell_type": "markdown",
      "metadata": {
        "id": "nEBPIvozSMzn"
      },
      "source": [
        "Whenever we start working on a new problem, we alwyas first try to hink of the simplest dataset we can that willl allow us to try out emthodss quicly and easly, and interprete the results."
      ]
    },
    {
      "cell_type": "markdown",
      "metadata": {
        "id": "x8q2YBCPRy94"
      },
      "source": [
        "## Convulutional Neural Networks"
      ]
    },
    {
      "cell_type": "markdown",
      "metadata": {
        "id": "kSuTK8DoR3R_"
      },
      "source": [
        "## ResNets"
      ]
    },
    {
      "cell_type": "markdown",
      "metadata": {
        "id": "eABUoJYoR5sz"
      },
      "source": [
        "## Application Architectures Deep Dive"
      ]
    },
    {
      "cell_type": "markdown",
      "metadata": {
        "id": "VA9QuoRCR9pI"
      },
      "source": [
        "## The Training Process"
      ]
    },
    {
      "cell_type": "markdown",
      "metadata": {
        "id": "cgp8x9JMSENR"
      },
      "source": [
        "# Deep Learning from Scratch"
      ]
    },
    {
      "cell_type": "markdown",
      "metadata": {
        "id": "RXBFIoNXSOeP"
      },
      "source": [
        "## A Neural Net from the Foundations"
      ]
    },
    {
      "cell_type": "markdown",
      "metadata": {
        "id": "4662m4jESRsw"
      },
      "source": [
        "## CNN Interpretation with CAM"
      ]
    },
    {
      "cell_type": "markdown",
      "metadata": {
        "id": "0j2t9f9bSVbg"
      },
      "source": [
        "## A fastai Learner from Scratch"
      ]
    },
    {
      "cell_type": "markdown",
      "metadata": {
        "id": "I1M0VfBTSZWv"
      },
      "source": [
        "## Concluding Thoughts"
      ]
    },
    {
      "cell_type": "markdown",
      "metadata": {
        "id": "JGNav5nVScnj"
      },
      "source": [
        "## Creading a Blog"
      ]
    },
    {
      "cell_type": "markdown",
      "metadata": {
        "id": "q0hHEZt2SfXN"
      },
      "source": [
        "## Data Project Checklist"
      ]
    }
  ]
}