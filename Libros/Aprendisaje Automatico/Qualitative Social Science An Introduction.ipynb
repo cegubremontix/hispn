{
 "cells": [
  {
   "cell_type": "markdown",
   "metadata": {},
   "source": [
    "\n",
    "1. Introduction\n",
    "2. Causality\n",
    "3. Measurement\n",
    "4. Prediction\n",
    "5. Discovery\n",
    "6. Probability\n",
    "7. Uncertainty\n",
    "8. Next\n"
   ]
  }
 ],
 "metadata": {
  "kernelspec": {
   "display_name": "Python 2.7.18 64-bit",
   "name": "python2718jvsc74a57bd0f92b2924b84ff19c1c3dc485f7644d4486f64738191026bf8e6de303969141b5"
  },
  "language_info": {
   "name": "python",
   "version": ""
  },
  "metadata": {
   "interpreter": {
    "hash": "f92b2924b84ff19c1c3dc485f7644d4486f64738191026bf8e6de303969141b5"
   }
  },
  "orig_nbformat": 2
 },
 "nbformat": 4,
 "nbformat_minor": 2
}