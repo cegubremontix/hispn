{
 "cells": [
  {
   "cell_type": "markdown",
   "metadata": {},
   "source": [
    "The Fundamentals of Machine Learning\n",
    "1. The Machine Learning Landscape\n",
    "2. End-to-End Machine Learning Project\n",
    "3. Classification\n",
    "4. Training Models\n",
    "5. Support Vector Machines\n",
    "6. Decision Trees\n",
    "7. Ensemble Learning and Random Forest\n",
    "8. Dimensionality Reduction\n",
    "\n",
    "Neural Networks and Deep Learning\n",
    "9. Up and Running with TensorFlow\n",
    "10. Introduction to Artificial Neural Networks\n",
    "11. Training Deep Neural Nets\n",
    "12. Distributing TensorFlow Across Devices and Servers\n",
    "13. Convolutional Neural Networks\n",
    "14. Recurrent Neural Networks\n",
    "15. Autoencoders\n",
    "16. Reinforcement Learning\n",
    "\n"
   ]
  }
 ],
 "metadata": {
  "kernelspec": {
   "display_name": "Python 2.7.18 64-bit",
   "name": "python2718jvsc74a57bd0f92b2924b84ff19c1c3dc485f7644d4486f64738191026bf8e6de303969141b5"
  },
  "language_info": {
   "name": "python",
   "version": ""
  },
  "metadata": {
   "interpreter": {
    "hash": "f92b2924b84ff19c1c3dc485f7644d4486f64738191026bf8e6de303969141b5"
   }
  },
  "orig_nbformat": 2
 },
 "nbformat": 4,
 "nbformat_minor": 2
}