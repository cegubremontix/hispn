{
  "nbformat": 4,
  "nbformat_minor": 0,
  "metadata": {
    "colab": {
      "name": "Linguistic Fundamentals for Natural Language Processing.ipynb",
      "provenance": [],
      "authorship_tag": "ABX9TyOkv+ef6h4tVLA5ITbHOqlH",
      "include_colab_link": true
    },
    "kernelspec": {
      "name": "python3",
      "display_name": "Python 3"
    },
    "language_info": {
      "name": "python"
    }
  },
  "cells": [
    {
      "cell_type": "markdown",
      "metadata": {
        "id": "view-in-github",
        "colab_type": "text"
      },
      "source": [
        "<a href=\"https://colab.research.google.com/github/dbremont/Notas/blob/main/Libros/Aprendisaje%20Automatico/Linguistic_Fundamentals_for_Natural_Language_Processing.ipynb\" target=\"_parent\"><img src=\"https://colab.research.google.com/assets/colab-badge.svg\" alt=\"Open In Colab\"/></a>"
      ]
    },
    {
      "cell_type": "markdown",
      "metadata": {
        "id": "ZY1Aw7su4T2K"
      },
      "source": [
        "## Linguistic Fundamentals for Natural Language Processing\n",
        "100 Essentials from Morphology and Syntax"
      ]
    }
  ]
}