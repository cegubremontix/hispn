{
  "nbformat": 4,
  "nbformat_minor": 0,
  "metadata": {
    "colab": {
      "name": "Deep Learning - Goodfellow, Bengio & Courville.ipynb",
      "provenance": [],
      "toc_visible": true,
      "authorship_tag": "ABX9TyNT2B08nrppAsxksU3sjmzP",
      "include_colab_link": true
    },
    "kernelspec": {
      "name": "python3",
      "display_name": "Python 3"
    },
    "language_info": {
      "name": "python"
    }
  },
  "cells": [
    {
      "cell_type": "markdown",
      "metadata": {
        "id": "view-in-github",
        "colab_type": "text"
      },
      "source": [
        "<a href=\"https://colab.research.google.com/github/dbremont/Notas/blob/main/Libros/Aprendisaje%20Automatico/Deep_Learning_Goodfellow%2C_Bengio_%26_Courville.ipynb\" target=\"_parent\"><img src=\"https://colab.research.google.com/assets/colab-badge.svg\" alt=\"Open In Colab\"/></a>"
      ]
    },
    {
      "cell_type": "markdown",
      "metadata": {
        "id": "5Evg0SOGqKDY"
      },
      "source": [
        "## Deep Learning - Goodfellow, Bengio & Courville"
      ]
    },
    {
      "cell_type": "markdown",
      "metadata": {
        "id": "rE85FKQs5BSN"
      },
      "source": [
        "## Introduction"
      ]
    },
    {
      "cell_type": "markdown",
      "metadata": {
        "id": "G3fwqe4H9Ixs"
      },
      "source": [
        "## Linear Algebra"
      ]
    },
    {
      "cell_type": "markdown",
      "metadata": {
        "id": "5zUD327x9Knp"
      },
      "source": [
        "## Probability and Information Theory"
      ]
    },
    {
      "cell_type": "markdown",
      "metadata": {
        "id": "zC-uL0v99Nvt"
      },
      "source": [
        "## Numerical Computation"
      ]
    },
    {
      "cell_type": "markdown",
      "metadata": {
        "id": "rdTpkFR89PlD"
      },
      "source": [
        "## Mathine Learning Basics"
      ]
    },
    {
      "cell_type": "markdown",
      "metadata": {
        "id": "cgSYCTec9Th6"
      },
      "source": [
        "## Deep Feedforward Networks"
      ]
    },
    {
      "cell_type": "markdown",
      "metadata": {
        "id": "Vci11AE29Wt9"
      },
      "source": [
        "## Regularization for Deep Learning"
      ]
    },
    {
      "cell_type": "markdown",
      "metadata": {
        "id": "aAnhuRyk9Ysp"
      },
      "source": [
        "## Optimization for Training Deep Models"
      ]
    },
    {
      "cell_type": "markdown",
      "metadata": {
        "id": "5dtVKR5N9aIi"
      },
      "source": [
        "## Convolutional Networks"
      ]
    },
    {
      "cell_type": "markdown",
      "metadata": {
        "id": "xgHsDCwg9dQ6"
      },
      "source": [
        "## Sequence Modelin0g - Recurrent and Recursive Nets"
      ]
    },
    {
      "cell_type": "markdown",
      "metadata": {
        "id": "Af2k7cQh-SBY"
      },
      "source": [
        "## Practical Methodology"
      ]
    },
    {
      "cell_type": "markdown",
      "metadata": {
        "id": "dfOvp-t_-VGg"
      },
      "source": [
        "## Applications"
      ]
    },
    {
      "cell_type": "markdown",
      "metadata": {
        "id": "CoY5NuSrAEV7"
      },
      "source": [
        "## Linear Factor Models"
      ]
    },
    {
      "cell_type": "markdown",
      "metadata": {
        "id": "tE5j8XBHAHnZ"
      },
      "source": [
        "## Autoencoders"
      ]
    },
    {
      "cell_type": "markdown",
      "metadata": {
        "id": "3dNDDENWAJLC"
      },
      "source": [
        "## Representation Learning"
      ]
    },
    {
      "cell_type": "markdown",
      "metadata": {
        "id": "fltfH0fkAL4Q"
      },
      "source": [
        "## Structured Probabilistic Models for Deep Learning"
      ]
    },
    {
      "cell_type": "markdown",
      "metadata": {
        "id": "3w2wUSJSASYC"
      },
      "source": [
        "## Monte Carlo Methods"
      ]
    },
    {
      "cell_type": "markdown",
      "metadata": {
        "id": "2Y6fffNyAUv_"
      },
      "source": [
        "## Confronting the Partition Function"
      ]
    },
    {
      "cell_type": "markdown",
      "metadata": {
        "id": "K6MdFmYYAaON"
      },
      "source": [
        "## Approximate Inference"
      ]
    },
    {
      "cell_type": "markdown",
      "metadata": {
        "id": "wcItm5GtAcPl"
      },
      "source": [
        "## Deep Generative Models"
      ]
    }
  ]
}