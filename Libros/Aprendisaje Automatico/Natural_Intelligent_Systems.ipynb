{
  "nbformat": 4,
  "nbformat_minor": 0,
  "metadata": {
    "colab": {
      "name": "Natural Intelligent Systems.ipynb",
      "provenance": [],
      "toc_visible": true,
      "authorship_tag": "ABX9TyMLbCatQ4xnuL8oHilprL9m",
      "include_colab_link": true
    },
    "kernelspec": {
      "name": "python3",
      "display_name": "Python 3"
    },
    "language_info": {
      "name": "python"
    }
  },
  "cells": [
    {
      "cell_type": "markdown",
      "metadata": {
        "id": "view-in-github",
        "colab_type": "text"
      },
      "source": [
        "<a href=\"https://colab.research.google.com/github/dbremont/Notas/blob/main/Libros/Aprendisaje%20Automatico/Natural_Intelligent_Systems.ipynb\" target=\"_parent\"><img src=\"https://colab.research.google.com/assets/colab-badge.svg\" alt=\"Open In Colab\"/></a>"
      ]
    },
    {
      "cell_type": "markdown",
      "metadata": {
        "id": "Ece22H0tpTpb"
      },
      "source": [
        "# Natural Intelligent Systems\n"
      ]
    },
    {
      "cell_type": "markdown",
      "metadata": {
        "id": "MlUISYwU_rxB"
      },
      "source": [
        "## Natural Intelligence"
      ]
    },
    {
      "cell_type": "markdown",
      "metadata": {
        "id": "5ZWRb1QzAHQ_"
      },
      "source": [
        "## Building Blocks of Neural Networks\n",
        "Implementation: The Artificial Retina\n"
      ]
    },
    {
      "cell_type": "markdown",
      "metadata": {
        "id": "m1EPPkYLAUW1"
      },
      "source": [
        "## Neural Networks and Other Systems"
      ]
    },
    {
      "cell_type": "markdown",
      "metadata": {
        "id": "YrWzOLyMAcF6"
      },
      "source": [
        "## Associative Memories"
      ]
    },
    {
      "cell_type": "markdown",
      "metadata": {
        "id": "6SeoqLXmAk2e"
      },
      "source": [
        "## Crossbar Associative Memories"
      ]
    },
    {
      "cell_type": "markdown",
      "metadata": {
        "id": "O9AMrN-UAogI"
      },
      "source": [
        "## Adaptive Filter Associative Memories\n",
        "Aplication: The Vectorcardiograph"
      ]
    },
    {
      "cell_type": "markdown",
      "metadata": {
        "id": "egieIvDUAvfq"
      },
      "source": [
        "## Competitive Filter Associative Memories\n",
        "Application: The Voice Typewritter"
      ]
    },
    {
      "cell_type": "markdown",
      "metadata": {
        "id": "yF4QRyGhBEtb"
      },
      "source": [
        "## Learning"
      ]
    },
    {
      "cell_type": "markdown",
      "metadata": {
        "id": "49zCnKEQBKax"
      },
      "source": [
        "## Hebbian Learning"
      ]
    },
    {
      "cell_type": "markdown",
      "metadata": {
        "id": "jKG5AyFBBNgC"
      },
      "source": [
        "## Classical Conditioning"
      ]
    },
    {
      "cell_type": "markdown",
      "metadata": {
        "id": "1o5NpXVKBSxp"
      },
      "source": [
        "## Learning Sequences of Patterns"
      ]
    },
    {
      "cell_type": "markdown",
      "metadata": {
        "id": "ZPJlwTnIBW9p"
      },
      "source": [
        "## Autonomous Learning\n",
        "Classic System: The Perceptron"
      ]
    },
    {
      "cell_type": "markdown",
      "metadata": {
        "id": "aFZaBPh2Bmfi"
      },
      "source": [
        "## Hierarchical Systems\n",
        "Application: The Neogognitron"
      ]
    },
    {
      "cell_type": "markdown",
      "metadata": {
        "id": "FrsQwS4SBu9b"
      },
      "source": [
        "## Backpropagation Networks\n",
        "Application: NETtalk"
      ]
    },
    {
      "cell_type": "markdown",
      "metadata": {
        "id": "ROMhDKGzB2XR"
      },
      "source": [
        "## Hybrid Networks"
      ]
    },
    {
      "cell_type": "markdown",
      "metadata": {
        "id": "ZmKk3BhTCA9O"
      },
      "source": [
        "## Adaptive Resonace Networks"
      ]
    },
    {
      "cell_type": "markdown",
      "metadata": {
        "id": "g6cx3hGLCDzV"
      },
      "source": [
        "## Neural Network Implementations"
      ]
    },
    {
      "cell_type": "markdown",
      "metadata": {
        "id": "VrvUkt05CHWv"
      },
      "source": [
        "## Neural Network Applications"
      ]
    },
    {
      "cell_type": "markdown",
      "metadata": {
        "id": "RXQg0XtFCL7-"
      },
      "source": [
        "## A Look Ahead"
      ]
    },
    {
      "cell_type": "markdown",
      "metadata": {
        "id": "Ua3b8LwXCPCA"
      },
      "source": [
        "Glossary"
      ]
    }
  ]
}