{
  "nbformat": 4,
  "nbformat_minor": 0,
  "metadata": {
    "colab": {
      "name": "Great Principles of Computing.ipynb",
      "provenance": [],
      "toc_visible": true,
      "authorship_tag": "ABX9TyM53WBjDzPtFZ/+kyzpABlv",
      "include_colab_link": true
    },
    "kernelspec": {
      "name": "python3",
      "display_name": "Python 3"
    },
    "language_info": {
      "name": "python"
    }
  },
  "cells": [
    {
      "cell_type": "markdown",
      "metadata": {
        "id": "view-in-github",
        "colab_type": "text"
      },
      "source": [
        "<a href=\"https://colab.research.google.com/github/dbremont/Notas/blob/main/Libros/Computacion/Great_Principles_of_Computing.ipynb\" target=\"_parent\"><img src=\"https://colab.research.google.com/assets/colab-badge.svg\" alt=\"Open In Colab\"/></a>"
      ]
    },
    {
      "cell_type": "markdown",
      "metadata": {
        "id": "tJPw5Df91dQV"
      },
      "source": [
        "# Great Principles of Computing\n",
        "\n",
        "Libros/Computacion"
      ]
    },
    {
      "cell_type": "markdown",
      "metadata": {
        "id": "IX1C-aib5LFW"
      },
      "source": [
        "## Computing"
      ]
    },
    {
      "cell_type": "markdown",
      "metadata": {
        "id": "p4l_tv7c5RYU"
      },
      "source": [
        "## Domains"
      ]
    },
    {
      "cell_type": "markdown",
      "metadata": {
        "id": "a64Pdx695tmW"
      },
      "source": [
        "## Information"
      ]
    },
    {
      "cell_type": "markdown",
      "metadata": {
        "id": "9D7q28GC5twl"
      },
      "source": [
        "## Machines"
      ]
    },
    {
      "cell_type": "markdown",
      "metadata": {
        "id": "_Qhyry_S5zWM"
      },
      "source": [
        "## Programming"
      ]
    },
    {
      "cell_type": "markdown",
      "metadata": {
        "id": "iuUU_4405LMe"
      },
      "source": [
        "## Computation"
      ]
    },
    {
      "cell_type": "markdown",
      "metadata": {
        "id": "oNopff685R5U"
      },
      "source": [
        "## Memory"
      ]
    },
    {
      "cell_type": "markdown",
      "metadata": {
        "id": "a7N1nlob5531"
      },
      "source": [
        "## Parallelism"
      ]
    },
    {
      "cell_type": "markdown",
      "metadata": {
        "id": "nGSnoMH46ON5"
      },
      "source": [
        "## Queueing"
      ]
    },
    {
      "cell_type": "markdown",
      "metadata": {
        "id": "_F92xpsS6OTL"
      },
      "source": [
        "## Design"
      ]
    },
    {
      "cell_type": "markdown",
      "metadata": {
        "id": "2YXDM-O09Eqw"
      },
      "source": [
        "## Networking"
      ]
    },
    {
      "cell_type": "markdown",
      "metadata": {
        "id": "3IJiNi149IH-"
      },
      "source": [
        "## Afterword"
      ]
    }
  ]
}