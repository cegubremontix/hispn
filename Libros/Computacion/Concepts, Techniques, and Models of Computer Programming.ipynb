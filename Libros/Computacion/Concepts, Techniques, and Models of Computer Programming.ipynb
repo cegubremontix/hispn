{
  "nbformat": 4,
  "nbformat_minor": 0,
  "metadata": {
    "kernelspec": {
      "display_name": "Python 2.7.18 64-bit",
      "name": "python2718jvsc74a57bd0f92b2924b84ff19c1c3dc485f7644d4486f64738191026bf8e6de303969141b5"
    },
    "language_info": {
      "name": "python",
      "version": ""
    },
    "metadata": {
      "interpreter": {
        "hash": "f92b2924b84ff19c1c3dc485f7644d4486f64738191026bf8e6de303969141b5"
      }
    },
    "orig_nbformat": 2,
    "colab": {
      "name": "Concepts, Techniques, and Models of Computer Programming.ipynb",
      "provenance": [],
      "toc_visible": true,
      "include_colab_link": true
    }
  },
  "cells": [
    {
      "cell_type": "markdown",
      "metadata": {
        "id": "view-in-github",
        "colab_type": "text"
      },
      "source": [
        "<a href=\"https://colab.research.google.com/github/dbremont/Notas/blob/main/Libros/Computacion/Concepts%2C%20Techniques%2C%20and%20Models%20of%20Computer%20Programming.ipynb\" target=\"_parent\"><img src=\"https://colab.research.google.com/assets/colab-badge.svg\" alt=\"Open In Colab\"/></a>"
      ]
    },
    {
      "cell_type": "markdown",
      "metadata": {
        "id": "lD7RDkQ475zE"
      },
      "source": [
        "# Concepts, Techniques, and Models of Computer Programming"
      ]
    },
    {
      "cell_type": "markdown",
      "metadata": {
        "id": "QDaEwTrLWjT7"
      },
      "source": [
        "## Preface"
      ]
    },
    {
      "cell_type": "markdown",
      "metadata": {
        "id": "GhphsHGjWjT9"
      },
      "source": [
        "**A Model of Computation** **(\"A Model of Programming\")**, is a formal system that defines how computations are done.  There are other ways to define a model of computation.\n",
        "\n",
        "To **defined** a **model of computation** we will used:\n",
        "  - data types,\n",
        "  - operations,\n",
        "  - programming language.\n",
        "\n",
        "**Programming**\n",
        "  - The act of extending or changing a systems's functionality,\n",
        "  - done by non-specialist (changing the settings of the alarm),\n",
        "  - by specialist (called computer programmers),\n",
        "  - is primarily about **designing abstractions**  to solve problems that makes building systems easier,\n",
        "\n",
        "**Programming concepts**\n",
        "  - lexical scoping,\n",
        "  - high-order programming,\n",
        "  - compositionality,\n",
        "  - encapsulation,\n",
        "  - concurrency,\n",
        "  - exceptions,\n",
        "  - lazy execution,\n",
        "  - security,\n",
        "  - explicit state,\n",
        "  - inheritance,\n",
        "  - and nondeterministic choice,\n",
        "  - Sequential, concurrent, and distributed abstractions,\n",
        "  - abstract vs concrete\n",
        "\n",
        "**Goals**\n",
        "\n",
        "  - The main goal of this book is to teach programming as a unified discipline with a scientific foundation that is useful to the practicing programmer. \n",
        "  \n",
        "  - The second goal of this book is to teach how to design programmign abstractio. Programming a computer is primarily designing and using abstraction to archieve new goals.\n",
        "\n",
        "\n",
        "**Abstraction**: Loosely Tool or device that solves a particular problem.\n",
        "\n",
        "**The limits of single models**\n",
        "  - Object-oriented programming: encourage the overuse of stte and inheritance. This makes concurrency more complicated.\n",
        "\n",
        "  - Functional programming encourrage the overuse of higher-order programming. \n",
        "\n",
        "  - Logic languages in the prolog tradition encourages the overuse of Horn clause syntax and search. Many algorithms are obfuscated by this style.  Backtracking-based search must always be used even though it is almost never needed."
      ]
    },
    {
      "cell_type": "markdown",
      "metadata": {
        "id": "7aCi_wGZWjT_"
      },
      "source": [
        "## Introduction to Programming Concepts"
      ]
    },
    {
      "cell_type": "markdown",
      "metadata": {
        "id": "CHIjA7x5WwW2"
      },
      "source": [
        "> There is no royal road to geometry. - Euclid\n",
        "\n",
        "**Variables**\n",
        "\n",
        "**Functions**\n",
        "\n",
        "**Recursion**\n",
        "\n",
        "**Combinations**\n",
        "\n",
        "**Functional abstractions**\n",
        "\n",
        "**Lists**\n",
        "\n",
        "**Pattern matching**\n",
        "\n",
        "**Top-down software development**\n",
        "\n",
        "**Correctness**\n",
        "\n",
        "**Mathematical induction**\n",
        "\n",
        "**Complexity**\n",
        "\n",
        "**Run-time guarantees of execution time**\n",
        "\n",
        "**Lazy evaluation**\n",
        "\n",
        "**Complexity**\n",
        "\n",
        "**Run-time guarantees of execution time**\n",
        "\n",
        "**Lazy evaluation**\n",
        "\n",
        "**Lazy calculation of Pascal's traingle**\n",
        "\n",
        "**Higher-order programming**\n",
        "\n",
        "- [Higher-order programming](https://en.wikipedia.org/wiki/Higher-order_programming)\n",
        "\n",
        "- [Higher order message](https://en.wikipedia.org/wiki/Higher_order_message)\n",
        "\n",
        "**Concurrency**\n",
        "\n",
        "**Dataflow**\n",
        "\n",
        "**Explicit state**\n",
        "\n",
        "**A memory cell**\n",
        "\n",
        "**Objects**\n",
        "\n",
        "**Nondeterminism and time**\n",
        "\n",
        "**Interleaving**\n",
        "\n",
        "**Atomicity**\n",
        "\n",
        "**Where to go from here?**\n",
        "\n",
        "**Exercises**"
      ]
    },
    {
      "cell_type": "markdown",
      "metadata": {
        "id": "RLecZHmktouD"
      },
      "source": [
        "## General Computation Models"
      ]
    },
    {
      "cell_type": "markdown",
      "metadata": {
        "id": "roIkjSX8t3zL"
      },
      "source": [
        "### Declarative Computation Model"
      ]
    },
    {
      "cell_type": "markdown",
      "metadata": {
        "id": "LXLtonkDt49s"
      },
      "source": [
        "### Declarative Programming Techniques"
      ]
    },
    {
      "cell_type": "markdown",
      "metadata": {
        "id": "uAD9tHPGt6B5"
      },
      "source": [
        "### Declarative Concurrency"
      ]
    },
    {
      "cell_type": "markdown",
      "metadata": {
        "id": "yzdikqKrt7g5"
      },
      "source": [
        "### Message-Passing Concurrency"
      ]
    },
    {
      "cell_type": "markdown",
      "metadata": {
        "id": "oIN1BUcOt9r3"
      },
      "source": [
        "### Explicit State"
      ]
    },
    {
      "cell_type": "markdown",
      "metadata": {
        "id": "XJ1wNHxLt_Tv"
      },
      "source": [
        "### Object-Oriented Programming"
      ]
    },
    {
      "cell_type": "markdown",
      "metadata": {
        "id": "asIhF4CmuBNp"
      },
      "source": [
        "### Shared-State Concurrency"
      ]
    },
    {
      "cell_type": "markdown",
      "metadata": {
        "id": "lUq0bHayWWEN"
      },
      "source": [
        "### Relational Programming"
      ]
    },
    {
      "cell_type": "markdown",
      "metadata": {
        "id": "0DVAtzr-tqYg"
      },
      "source": [
        "## Specialized Computation Models"
      ]
    },
    {
      "cell_type": "markdown",
      "metadata": {
        "id": "tKwAfgjAtuEi"
      },
      "source": [
        "### Graphical User Interface Programming"
      ]
    },
    {
      "cell_type": "markdown",
      "metadata": {
        "id": "3Fv52-e0tuhI"
      },
      "source": [
        "### Distributed Programming"
      ]
    },
    {
      "cell_type": "markdown",
      "metadata": {
        "id": "UjpBaAVFtvA6"
      },
      "source": [
        "### Constrained Programming"
      ]
    },
    {
      "cell_type": "markdown",
      "metadata": {
        "id": "X-Gj9fy53Alq"
      },
      "source": [
        "## Semantics\n",
        "\n"
      ]
    },
    {
      "cell_type": "markdown",
      "metadata": {
        "id": "-I-gT5gztr9b"
      },
      "source": [
        "### Language Semantics"
      ]
    },
    {
      "cell_type": "markdown",
      "metadata": {
        "id": "mV_Gjm7o-G6l"
      },
      "source": [
        "# Listado de Definiciones"
      ]
    },
    {
      "cell_type": "markdown",
      "metadata": {
        "id": "u8sWePw_XdHR"
      },
      "source": [
        ""
      ]
    }
  ]
}