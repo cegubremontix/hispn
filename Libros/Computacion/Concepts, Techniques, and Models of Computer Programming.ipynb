{
  "nbformat": 4,
  "nbformat_minor": 0,
  "metadata": {
    "kernelspec": {
      "display_name": "Python 2.7.18 64-bit",
      "name": "python2718jvsc74a57bd0f92b2924b84ff19c1c3dc485f7644d4486f64738191026bf8e6de303969141b5"
    },
    "language_info": {
      "name": "python",
      "version": ""
    },
    "metadata": {
      "interpreter": {
        "hash": "f92b2924b84ff19c1c3dc485f7644d4486f64738191026bf8e6de303969141b5"
      }
    },
    "orig_nbformat": 2,
    "colab": {
      "name": "Concepts, Techniques, and Models of Computer Programming.ipynb",
      "provenance": [],
      "toc_visible": true,
      "include_colab_link": true
    }
  },
  "cells": [
    {
      "cell_type": "markdown",
      "metadata": {
        "id": "view-in-github",
        "colab_type": "text"
      },
      "source": [
        "<a href=\"https://colab.research.google.com/github/dbremont/Notas/blob/main/Libros/Computacion/Concepts%2C%20Techniques%2C%20and%20Models%20of%20Computer%20Programming.ipynb\" target=\"_parent\"><img src=\"https://colab.research.google.com/assets/colab-badge.svg\" alt=\"Open In Colab\"/></a>"
      ]
    },
    {
      "cell_type": "markdown",
      "metadata": {
        "id": "lD7RDkQ475zE"
      },
      "source": [
        "# Concepts, Techniques, and Models of Computer Programming"
      ]
    },
    {
      "cell_type": "markdown",
      "metadata": {
        "id": "X-Gj9fy53Alq"
      },
      "source": [
        "1. Introduction to Programming Concepts\n",
        "\n",
        "General Computation Models\n",
        "2. Declarative Computation Model\n",
        "3. Declarative Programming Techniques\n",
        "4. Declarative Concurrency\n",
        "5. Message-Passing Concurrency\n",
        "6. Explicit State\n",
        "7. Object-Oriented Programming\n",
        "8. Shared-State Concurrency\n",
        "9. Relational Programming\n",
        "\n",
        "Specialized Computation Models\n",
        "\n",
        "10. Graphical User Interface Programming\n",
        "11. Distributed Programming\n",
        "12. Constrained Programming\n",
        "\n",
        "Semantics\n",
        "13. Language Semantics\n",
        "\n"
      ]
    },
    {
      "cell_type": "markdown",
      "metadata": {
        "id": "Zof-djt9VIt3"
      },
      "source": [
        "## Preface"
      ]
    },
    {
      "cell_type": "markdown",
      "metadata": {
        "id": "yGHzcXTGVdRl"
      },
      "source": [
        "-  **A Model of Computation**, is a formal system that defiend how computations are done.\n",
        "\n",
        "- In this book \"**A Model of Computation**\" will be equivalent to \"A Model of Programming\".\n",
        "\n",
        "- To **defined** a **model of computation** we will used:\n",
        "  - data types,\n",
        "  - operations,\n",
        "  - programming language.\n",
        "\n",
        "- **Programming**,\n",
        "  - The act of extending or changing a systems's functionality,\n",
        "  - done by non-specialist (changing the settings of the alarm),\n",
        "  - by specialist (called computer programmers),\n",
        "  - is primarily about **designing abstractions**  to solve problems that makes building systems easier,\n",
        "  - concepts:\n",
        "    - lexical scoping,\n",
        "    - high-order programming,\n",
        "    - compositionality,\n",
        "    - encapsulation,\n",
        "    - concurrency,\n",
        "    - exceptions,\n",
        "    - lazy execution,\n",
        "    - security,\n",
        "    - explicit state,\n",
        "    - inheritance,\n",
        "    - and nondeterministic choice.\n",
        "  - Sequential, concurrent, and distributed abstractions.\n",
        "  - abstract vs concrete"
      ]
    },
    {
      "cell_type": "markdown",
      "metadata": {
        "id": "q33xmaLCqb2V"
      },
      "source": [
        "## Introduction to Programming Concepts"
      ]
    },
    {
      "cell_type": "markdown",
      "metadata": {
        "id": "dwErdMYGqdwn"
      },
      "source": [
        ""
      ]
    }
  ]
}