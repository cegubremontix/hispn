{
  "nbformat": 4,
  "nbformat_minor": 0,
  "metadata": {
    "kernelspec": {
      "display_name": "Python 2.7.18 64-bit",
      "name": "python2718jvsc74a57bd0f92b2924b84ff19c1c3dc485f7644d4486f64738191026bf8e6de303969141b5"
    },
    "language_info": {
      "name": "python",
      "version": ""
    },
    "metadata": {
      "interpreter": {
        "hash": "f92b2924b84ff19c1c3dc485f7644d4486f64738191026bf8e6de303969141b5"
      }
    },
    "orig_nbformat": 2,
    "colab": {
      "name": "Concepts, Techniques, and Models of Computer Programming.ipynb",
      "provenance": [],
      "include_colab_link": true
    }
  },
  "cells": [
    {
      "cell_type": "markdown",
      "metadata": {
        "id": "view-in-github",
        "colab_type": "text"
      },
      "source": [
        "<a href=\"https://colab.research.google.com/github/dbremont/Notas/blob/main/Libros/Computacion/Concepts%2C%20Techniques%2C%20and%20Models%20of%20Computer%20Programming.ipynb\" target=\"_parent\"><img src=\"https://colab.research.google.com/assets/colab-badge.svg\" alt=\"Open In Colab\"/></a>"
      ]
    },
    {
      "cell_type": "markdown",
      "metadata": {
        "id": "lD7RDkQ475zE"
      },
      "source": [
        "F"
      ]
    },
    {
      "cell_type": "markdown",
      "metadata": {
        "id": "X-Gj9fy53Alq"
      },
      "source": [
        "1. Introduction to Programming Concepts\n",
        "\n",
        "General Computation Models\n",
        "2. Declarative Computation Model\n",
        "3. Declarative Programming Techniques\n",
        "4. Declarative Concurrency\n",
        "5. Message-Passing Concurrency\n",
        "6. Explicit State\n",
        "7. Object-Oriented Programming\n",
        "8. Shared-State Concurrency\n",
        "9. Relational Programming\n",
        "\n",
        "Specialized Computaion Models\n",
        "\n",
        "10. Graphical User Interface Programming\n",
        "11. Distributed Programming\n",
        "12. Constrained Programming\n",
        "\n",
        "Semantics\n",
        "13. Language Semantics\n",
        "\n"
      ]
    }
  ]
}