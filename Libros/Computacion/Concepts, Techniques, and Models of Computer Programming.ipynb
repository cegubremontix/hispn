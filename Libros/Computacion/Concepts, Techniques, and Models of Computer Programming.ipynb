{
 "cells": [
  {
   "cell_type": "markdown",
   "metadata": {},
   "source": [
    "1. Introduction to Programming Concepts\n",
    "\n",
    "General Computation Models\n",
    "2. Declarative Computation Model\n",
    "3. Declarative Programming Techniques\n",
    "4. Declarative Concurrency\n",
    "5. Message-Passing Concurrency\n",
    "6. Explicit State\n",
    "7. Object-Oriented Programming\n",
    "8. Shared-State Concurrency\n",
    "9. Relational Programming\n",
    "\n",
    "Specialized Computaion Models\n",
    "\n",
    "10. Graphical User Interface Programming\n",
    "11. Distributed Programming\n",
    "12. Constrained Programming\n",
    "\n",
    "Semantics\n",
    "13. Language Semantics\n",
    "\n"
   ]
  }
 ],
 "metadata": {
  "kernelspec": {
   "display_name": "Python 2.7.18 64-bit",
   "name": "python2718jvsc74a57bd0f92b2924b84ff19c1c3dc485f7644d4486f64738191026bf8e6de303969141b5"
  },
  "language_info": {
   "name": "python",
   "version": ""
  },
  "metadata": {
   "interpreter": {
    "hash": "f92b2924b84ff19c1c3dc485f7644d4486f64738191026bf8e6de303969141b5"
   }
  },
  "orig_nbformat": 2
 },
 "nbformat": 4,
 "nbformat_minor": 2
}