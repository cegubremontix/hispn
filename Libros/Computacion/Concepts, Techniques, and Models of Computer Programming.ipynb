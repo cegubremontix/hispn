{
  "nbformat": 4,
  "nbformat_minor": 0,
  "metadata": {
    "kernelspec": {
      "display_name": "Python 2.7.18 64-bit",
      "name": "python2718jvsc74a57bd0f92b2924b84ff19c1c3dc485f7644d4486f64738191026bf8e6de303969141b5"
    },
    "language_info": {
      "name": "python",
      "version": ""
    },
    "metadata": {
      "interpreter": {
        "hash": "f92b2924b84ff19c1c3dc485f7644d4486f64738191026bf8e6de303969141b5"
      }
    },
    "orig_nbformat": 2,
    "colab": {
      "name": "Concepts, Techniques, and Models of Computer Programming.ipynb",
      "provenance": [],
      "toc_visible": true,
      "include_colab_link": true
    }
  },
  "cells": [
    {
      "cell_type": "markdown",
      "metadata": {
        "id": "view-in-github",
        "colab_type": "text"
      },
      "source": [
        "<a href=\"https://colab.research.google.com/github/dbremont/Notas/blob/main/Libros/Computacion/Concepts%2C%20Techniques%2C%20and%20Models%20of%20Computer%20Programming.ipynb\" target=\"_parent\"><img src=\"https://colab.research.google.com/assets/colab-badge.svg\" alt=\"Open In Colab\"/></a>"
      ]
    },
    {
      "cell_type": "markdown",
      "metadata": {
        "id": "lD7RDkQ475zE"
      },
      "source": [
        "# Concepts, Techniques, and Models of Computer Programming"
      ]
    },
    {
      "cell_type": "markdown",
      "metadata": {
        "id": "QDaEwTrLWjT7"
      },
      "source": [
        "## Preface"
      ]
    },
    {
      "cell_type": "markdown",
      "metadata": {
        "id": "GhphsHGjWjT9"
      },
      "source": [
        "**A Model of Computation** **(\"A Model of Programming\")**, is a formal system that defines how computations are done.  There are other ways to define a model of computation.\n",
        "\n",
        "To **defined** a **model of computation** we will used:\n",
        "  - data types,\n",
        "  - operations,\n",
        "  - programming language.\n",
        "\n",
        "**Programming**\n",
        "  - The act of extending or changing a systems's functionality,\n",
        "  - done by non-specialist (changing the settings of the alarm),\n",
        "  - by specialist (called computer programmers),\n",
        "  - is primarily about **designing abstractions**  to solve problems that makes building systems easier,\n",
        "\n",
        "**Programming concepts**\n",
        "  - lexical scoping,\n",
        "  - high-order programming,\n",
        "  - compositionality,\n",
        "  - encapsulation,\n",
        "  - concurrency,\n",
        "  - exceptions,\n",
        "  - lazy execution,\n",
        "  - security,\n",
        "  - explicit state,\n",
        "  - inheritance,\n",
        "  - and nondeterministic choice,\n",
        "  - Sequential, concurrent, and distributed abstractions,\n",
        "  - abstract vs concrete\n",
        "\n",
        "**Goals**\n",
        "\n",
        "  - The main goal of this book is to teach programming as a unified discipline with a scientific foundation that is useful to the practicing programmer. \n",
        "  \n",
        "  - The second goal of this book is to teach how to design programmign abstractio. Programming a computer is primarily designing and using abstraction to archieve new goals.\n",
        "\n",
        "**The limits of single models**\n",
        "  - Object-oriented programming: encourage the overuse of stte and inheritance. This makes concurrency more complicated.\n",
        "\n",
        "  - Functional programming encourrage the overuse of higher-order programming. \n",
        "\n",
        "  - Logic languages in the prolog tradition encourages the overuse of Horn clause syntax and search. Many algorithms are obfuscated by this style.  Backtracking-based search must always be used even though it is almost never needed."
      ]
    },
    {
      "cell_type": "markdown",
      "metadata": {
        "id": "7aCi_wGZWjT_"
      },
      "source": [
        "## Introduction to Programming Concepts"
      ]
    },
    {
      "cell_type": "markdown",
      "metadata": {
        "id": "CHIjA7x5WwW2"
      },
      "source": [
        "> There is no royal road to geometry. - Euclid\n",
        "\n",
        "**Variables**\n",
        "\n",
        "- [Variable (computer science)](https://en.wikipedia.org/wiki/Variable_(computer_science))\n",
        "\n",
        "- ```Type identificar``` declaration\n",
        "- ```Type identificar  = value``` (declaration & initialization)\n",
        "\n",
        "**Functions**\n",
        "\n",
        "- [Method (Computer Programming)](https://en.wikipedia.org/wiki/Method_(computer_programming))\n",
        "\n",
        "- Identifier bound to a list of list of statatements.\n",
        "\n",
        "- Identifier bound to a ```code region in memory```.\n",
        "\n",
        "**Recursion**\n",
        "\n",
        "- [Recursion (computer science)](https://en.wikipedia.org/wiki/Recursion_(computer_science))\n",
        "\n",
        "- [Tak (function)](https://en.wikipedia.org/wiki/Tak_(function))\n",
        "\n",
        "- Recursive Process\n",
        "\n",
        "- Recursive Structure\n",
        "\n",
        "**Functional abstractions**\n",
        "\n",
        "- Usign functions to build abstractions in called functional abstraction. In this way, programs are like onions, with layers upon layers of functions calling function.\n",
        "\n",
        "**Lists**\n",
        "\n",
        "- Arrays\n",
        "- [List](https://en.wikipedia.org/wiki/List_(abstract_data_type)) as a chain of links. \n",
        "\n",
        "**Pattern matching**\n",
        "\n",
        "- [Pattern matching](https://en.wikipedia.org/wiki/Pattern_matching)\n",
        "\n",
        "**Top-down software development**\n",
        "\n",
        "The methodology of first writing the main function and filling in the blanks afterward is known as top-down software development.  It is one of the best known approaches to program design, but it gives only part of the story as we shall see.\n",
        "\n",
        "**Correctness**\n",
        "\n",
        "A program is corredt if it does what we would like it to do. On simple way, which we used before, is to verify  that the program is correct for outputs that we know. This increase the confidence on the program, but it does not provit correct.\n",
        "\n",
        "To prove correctness in general, we have to reason about  the program:\n",
        "\n",
        "- We need a mathematical model of the operatiosn of the programming laangauge, defining what they should do. this model is called the language's semantics.\n",
        "\n",
        "- We need to define what we would like the program to do. Usually, this is a mathematical definition of the inputs that the program needs and the output that it calculates. This is called the programs's specification.\n",
        "\n",
        "- We use mathematical techniques to reason about the program, using the semantics. We would like to demostrate that the program sastifies the specification.\n",
        "\n",
        "- We can use **mathematical induction** to prove correcness.\n",
        "\n",
        "A program that is proved correct can still give incorrect results, if the system on which it runs is incorectly implemented. How can we be confidend that the system  satisfies the sematics? Verifying this is a major undertaking: it means verifyng the compiler, the run-time system, the operating system, the hardware, and the physics upon which the hardware is based! We must trust P.L implementors, hardware mamufactures, and physicists.\n",
        "\n",
        "**Complexity**\n",
        "\n",
        "- [Computational complexity](https://en.wikipedia.org/wiki/Computational_complexity)\n",
        "\n",
        "Complexity of an algorithm is the amount of resources required to run it. Particular focus is given to time and memory requirements. The complexity of a problem is the complexity of the best algorithms that allow solving the problem.\n",
        "\n",
        "**Lazy evaluation**\n",
        "\n",
        "Delay the evaluation of an expresion until is neeed it.\n",
        "\n",
        "- [Evaluation strategy](https://en.wikipedia.org/wiki/Evaluation_strategy)\n",
        "- [Lazy evaluation](https://en.wikipedia.org/wiki/Lazy_evaluation)\n",
        "- [Lazy evaluation in Java (applicable to other languages Node...)](https://cardano.github.io/blog/2018/05/29/lazy-evaluation)\n",
        "\n",
        "**Higher-order programming**\n",
        "\n",
        "- [Higher-order programming](https://en.wikipedia.org/wiki/Higher-order_programming)\n",
        "\n",
        "- [Higher order message](https://en.wikipedia.org/wiki/Higher_order_message)\n",
        "\n",
        "**Concurrency**\n",
        "\n",
        "**Dataflow**\n",
        "\n",
        "**Explicit state**\n",
        "\n",
        "**A memory cell**\n",
        "\n",
        "**Objects**\n",
        "\n",
        "**Nondeterminism and time**\n",
        "\n",
        "**Interleaving**\n",
        "\n",
        "**Atomicity**\n",
        "\n",
        "**Where to go from here?**\n",
        "\n",
        "**Exercises**\n",
        "\n",
        "- Implement the sucessor function in java.\n",
        "\n",
        "- [What is Kilim?](http://www.malhar.net/sriram/kilim/)\n",
        "- [Dataflow programming](https://en.wikipedia.org/wiki/Dataflow_programminghttps://en.wikipedia.org/wiki/Dataflow_programming)\n",
        "\n",
        "- [Class (computer programming)](https://en.wikipedia.org/wiki/Class_(computer_programming))\n",
        "\n",
        "- [Understanding java's native threads and the jvm](https://stackoverflow.com/questions/2653458/understanding-javas-native-threads-and-the-jvm)\n",
        "\n",
        "- [LazyJ: Seamless Lazy Evaluation in Java](https://www.cs.cmu.edu/~aldrich/FOOL/FOOLWOOD07/program/warth.pdf)\n",
        "\n",
        "- [Lazy evaluation](https://en.wikipedia.org/wiki/Lazy_evaluation)"
      ]
    },
    {
      "cell_type": "markdown",
      "metadata": {
        "id": "RLecZHmktouD"
      },
      "source": [
        "## General Computation Models"
      ]
    },
    {
      "cell_type": "markdown",
      "metadata": {
        "id": "roIkjSX8t3zL"
      },
      "source": [
        "### Declarative Computation Model"
      ]
    },
    {
      "cell_type": "markdown",
      "metadata": {
        "id": "LXLtonkDt49s"
      },
      "source": [
        "### Declarative Programming Techniques"
      ]
    },
    {
      "cell_type": "markdown",
      "metadata": {
        "id": "uAD9tHPGt6B5"
      },
      "source": [
        "### Declarative Concurrency"
      ]
    },
    {
      "cell_type": "markdown",
      "metadata": {
        "id": "yzdikqKrt7g5"
      },
      "source": [
        "### Message-Passing Concurrency"
      ]
    },
    {
      "cell_type": "markdown",
      "metadata": {
        "id": "oIN1BUcOt9r3"
      },
      "source": [
        "### Explicit State"
      ]
    },
    {
      "cell_type": "markdown",
      "metadata": {
        "id": "XJ1wNHxLt_Tv"
      },
      "source": [
        "### Object-Oriented Programming"
      ]
    },
    {
      "cell_type": "markdown",
      "metadata": {
        "id": "asIhF4CmuBNp"
      },
      "source": [
        "### Shared-State Concurrency"
      ]
    },
    {
      "cell_type": "markdown",
      "metadata": {
        "id": "lUq0bHayWWEN"
      },
      "source": [
        "### Relational Programming"
      ]
    },
    {
      "cell_type": "markdown",
      "metadata": {
        "id": "0DVAtzr-tqYg"
      },
      "source": [
        "## Specialized Computation Models"
      ]
    },
    {
      "cell_type": "markdown",
      "metadata": {
        "id": "tKwAfgjAtuEi"
      },
      "source": [
        "### Graphical User Interface Programming"
      ]
    },
    {
      "cell_type": "markdown",
      "metadata": {
        "id": "3Fv52-e0tuhI"
      },
      "source": [
        "### Distributed Programming"
      ]
    },
    {
      "cell_type": "markdown",
      "metadata": {
        "id": "UjpBaAVFtvA6"
      },
      "source": [
        "### Constrained Programming"
      ]
    },
    {
      "cell_type": "markdown",
      "metadata": {
        "id": "X-Gj9fy53Alq"
      },
      "source": [
        "## Semantics\n",
        "\n"
      ]
    },
    {
      "cell_type": "markdown",
      "metadata": {
        "id": "-I-gT5gztr9b"
      },
      "source": [
        "### Language Semantics"
      ]
    },
    {
      "cell_type": "markdown",
      "metadata": {
        "id": "mV_Gjm7o-G6l"
      },
      "source": [
        "# Glosario"
      ]
    },
    {
      "cell_type": "markdown",
      "metadata": {
        "id": "u8sWePw_XdHR"
      },
      "source": [
        "**Abstraction**\n",
        "\n",
        "[Abstraction - burback](http://infolab.stanford.edu/~burback/watersluice/node147.html)\n",
        "\n",
        "Loosely Tool or device that solves a particular problem.\n",
        "\n",
        "The process of establishing the decomposition of a problem into simpler and more understood primitives is basic to science and software engineering. This process has many underlying techniques of abstraction.\n",
        "\n",
        "An abstraction is a model. The process of transforming one abstraction into a more detailed abstraction is called refinement. The new abstraction can be referred to as a refinement of the original one. Abstractions and their refinements typically do not coexist in the same system description. Precisely what is meant by a more detailed abstraction is not well defined. There needs to be support for substitutability of concepts from one abstraction to another. Composition occurs when two abstractions are used to define another higher abstraction. Decomposition occurs when an abstraction is split into smaller abstractions.\n",
        "\n",
        "Information management is one of the goals of abstraction. Complex features of one abstraction are simplified into another abstraction. Good abstractions can be very useful while bad abstractions can be very harmful. A good abstraction leads to reusable components.\n",
        "\n",
        "Information hiding distinguishes between public and private information. Only the essential information is made public while internal details are kept private. This simplifies interactions and localizes details and their operations into well defined units.\n",
        "\n",
        "Abstraction, in traditional systems, naturally forms layers representing different levels of complexity. Each layer describes a solution. These layers are then mapped onto each other. In this way, high level abstractions are materialized by lower level abstractions until a simple realization can take place."
      ]
    },
    {
      "cell_type": "markdown",
      "metadata": {
        "id": "H1VWxT3cW59c"
      },
      "source": [
        "## References"
      ]
    },
    {
      "cell_type": "markdown",
      "metadata": {
        "id": "MXYFEmr3W9Rl"
      },
      "source": [
        "- [Software Engineering Methodology](http://infolab.stanford.edu/~burback/watersluice/node299.html)\n",
        "\n",
        "- [How to Design Programs - An Introduction to Computing and Programming](http://htdp.org/2003-09-26/Book/curriculum.html)\n",
        "\n",
        "- [Common Lisp the Language, 2nd Edition](https://www.cs.cmu.edu/Groups/AI/html/cltl/clm/node1.html)\n",
        "\n",
        "* [The Structure and Interpretation of Computer Programs](https://mitpress.mit.edu/sites/default/files/sicp/full-text/book/book.html)\n",
        "\n",
        "- [Structure and Interpretation of Computer_Programs  - Course](https://colab.research.google.com/github/dbremont/Notas/blob/main/Ingenerare/Structure_and_Interpretation_of_Computer_Programs.ipynb)\n"
      ]
    }
  ]
}