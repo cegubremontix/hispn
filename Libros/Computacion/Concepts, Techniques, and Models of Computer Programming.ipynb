{
  "nbformat": 4,
  "nbformat_minor": 0,
  "metadata": {
    "kernelspec": {
      "display_name": "Python 2.7.18 64-bit",
      "name": "python2718jvsc74a57bd0f92b2924b84ff19c1c3dc485f7644d4486f64738191026bf8e6de303969141b5"
    },
    "language_info": {
      "name": "python",
      "version": ""
    },
    "metadata": {
      "interpreter": {
        "hash": "f92b2924b84ff19c1c3dc485f7644d4486f64738191026bf8e6de303969141b5"
      }
    },
    "orig_nbformat": 2,
    "colab": {
      "name": "Concepts, Techniques, and Models of Computer Programming.ipynb",
      "provenance": [],
      "toc_visible": true,
      "include_colab_link": true
    }
  },
  "cells": [
    {
      "cell_type": "markdown",
      "metadata": {
        "id": "view-in-github",
        "colab_type": "text"
      },
      "source": [
        "<a href=\"https://colab.research.google.com/github/dbremont/Notas/blob/main/Libros/Computacion/Concepts%2C%20Techniques%2C%20and%20Models%20of%20Computer%20Programming.ipynb\" target=\"_parent\"><img src=\"https://colab.research.google.com/assets/colab-badge.svg\" alt=\"Open In Colab\"/></a>"
      ]
    },
    {
      "cell_type": "markdown",
      "metadata": {
        "id": "lD7RDkQ475zE"
      },
      "source": [
        "# Concepts, Techniques, and Models of Computer Programming"
      ]
    },
    {
      "cell_type": "markdown",
      "metadata": {
        "id": "QDaEwTrLWjT7"
      },
      "source": [
        "## Preface"
      ]
    },
    {
      "cell_type": "markdown",
      "metadata": {
        "id": "GhphsHGjWjT9"
      },
      "source": [
        "**A Model of Computation** **(\"A Model of Programming\")**, is a formal system that defines how computations are done.  There are other ways to define a model of computation.\n",
        "\n",
        "To **defined** a **model of computation** we will used:\n",
        "  - data types,\n",
        "  - operations,\n",
        "  - programming language.\n",
        "\n",
        "**Programming**\n",
        "  - The act of extending or changing a systems's functionality,\n",
        "  - done by non-specialist (changing the settings of the alarm),\n",
        "  - by specialist (called computer programmers),\n",
        "  - is primarily about **designing abstractions**  to solve problems that makes building systems easier,\n",
        "\n",
        "**Programming concepts**\n",
        "  - lexical scoping,\n",
        "  - high-order programming,\n",
        "  - compositionality,\n",
        "  - encapsulation,\n",
        "  - concurrency,\n",
        "  - exceptions,\n",
        "  - lazy execution,\n",
        "  - security,\n",
        "  - explicit state,\n",
        "  - inheritance,\n",
        "  - and nondeterministic choice,\n",
        "  - Sequential, concurrent, and distributed abstractions,\n",
        "  - abstract vs concrete\n",
        "\n",
        "**Goals**\n",
        "\n",
        "  - The main goal of this book is to teach programming as a unified discipline with a scientific foundation that is useful to the practicing programmer. \n",
        "  \n",
        "  - The second goal of this book is to teach how to design programmign abstractio. Programming a computer is primarily designing and using abstraction to archieve new goals.\n",
        "\n",
        "**The limits of single models**\n",
        "  - Object-oriented programming: encourage the overuse of stte and inheritance. This makes concurrency more complicated.\n",
        "\n",
        "  - Functional programming encourrage the overuse of higher-order programming. \n",
        "\n",
        "  - Logic languages in the prolog tradition encourages the overuse of Horn clause syntax and search. Many algorithms are obfuscated by this style.  Backtracking-based search must always be used even though it is almost never needed."
      ]
    },
    {
      "cell_type": "markdown",
      "metadata": {
        "id": "7aCi_wGZWjT_"
      },
      "source": [
        "## Introduction to Programming Concepts"
      ]
    },
    {
      "cell_type": "markdown",
      "metadata": {
        "id": "CHIjA7x5WwW2"
      },
      "source": [
        "> There is no royal road to geometry. - Euclid\n",
        "\n",
        "**Variables**\n",
        "\n",
        "- [Variable (computer science)](https://en.wikipedia.org/wiki/Variable_(computer_science))\n",
        "\n",
        "- ```Type identificar``` declaration\n",
        "- ```Type identificar  = value``` (declaration & initialization)\n",
        "\n",
        "**Functions**\n",
        "\n",
        "- [Method (Computer Programming)](https://en.wikipedia.org/wiki/Method_(computer_programming))\n",
        "\n",
        "- Identifier bound to a list of list of statatements.\n",
        "\n",
        "- Identifier bound to a ```code region in memory```.\n",
        "\n",
        "**Recursion**\n",
        "\n",
        "- [Recursion (computer science)](https://en.wikipedia.org/wiki/Recursion_(computer_science))\n",
        "\n",
        "- [Tak (function)](https://en.wikipedia.org/wiki/Tak_(function))\n",
        "\n",
        "- Recursive Process\n",
        "\n",
        "- Recursive Structure\n",
        "\n",
        "**Functional abstractions**\n",
        "\n",
        "- Usign functions to build abstractions in called functional abstraction. In this way, programs are like onions, with layers upon layers of functions calling function.\n",
        "\n",
        "**Lists**\n",
        "\n",
        "**Pattern matching**\n",
        "\n",
        "**Top-down software development**\n",
        "\n",
        "**Correctness**\n",
        "\n",
        "**Mathematical induction**\n",
        "\n",
        "**Complexity**\n",
        "\n",
        "**Run-time guarantees of execution time**\n",
        "\n",
        "**Lazy evaluation**\n",
        "\n",
        "**Complexity**\n",
        "\n",
        "**Run-time guarantees of execution time**\n",
        "\n",
        "**Lazy evaluation**\n",
        "\n",
        "**Lazy calculation of Pascal's traingle**\n",
        "\n",
        "**Higher-order programming**\n",
        "\n",
        "- [Higher-order programming](https://en.wikipedia.org/wiki/Higher-order_programming)\n",
        "\n",
        "- [Higher order message](https://en.wikipedia.org/wiki/Higher_order_message)\n",
        "\n",
        "**Concurrency**\n",
        "\n",
        "**Dataflow**\n",
        "\n",
        "**Explicit state**\n",
        "\n",
        "**A memory cell**\n",
        "\n",
        "**Objects**\n",
        "\n",
        "**Nondeterminism and time**\n",
        "\n",
        "**Interleaving**\n",
        "\n",
        "**Atomicity**\n",
        "\n",
        "**Where to go from here?**\n",
        "\n",
        "**Exercises**"
      ]
    },
    {
      "cell_type": "markdown",
      "metadata": {
        "id": "RLecZHmktouD"
      },
      "source": [
        "## General Computation Models"
      ]
    },
    {
      "cell_type": "markdown",
      "metadata": {
        "id": "roIkjSX8t3zL"
      },
      "source": [
        "### Declarative Computation Model"
      ]
    },
    {
      "cell_type": "markdown",
      "metadata": {
        "id": "LXLtonkDt49s"
      },
      "source": [
        "### Declarative Programming Techniques"
      ]
    },
    {
      "cell_type": "markdown",
      "metadata": {
        "id": "uAD9tHPGt6B5"
      },
      "source": [
        "### Declarative Concurrency"
      ]
    },
    {
      "cell_type": "markdown",
      "metadata": {
        "id": "yzdikqKrt7g5"
      },
      "source": [
        "### Message-Passing Concurrency"
      ]
    },
    {
      "cell_type": "markdown",
      "metadata": {
        "id": "oIN1BUcOt9r3"
      },
      "source": [
        "### Explicit State"
      ]
    },
    {
      "cell_type": "markdown",
      "metadata": {
        "id": "XJ1wNHxLt_Tv"
      },
      "source": [
        "### Object-Oriented Programming"
      ]
    },
    {
      "cell_type": "markdown",
      "metadata": {
        "id": "asIhF4CmuBNp"
      },
      "source": [
        "### Shared-State Concurrency"
      ]
    },
    {
      "cell_type": "markdown",
      "metadata": {
        "id": "lUq0bHayWWEN"
      },
      "source": [
        "### Relational Programming"
      ]
    },
    {
      "cell_type": "markdown",
      "metadata": {
        "id": "0DVAtzr-tqYg"
      },
      "source": [
        "## Specialized Computation Models"
      ]
    },
    {
      "cell_type": "markdown",
      "metadata": {
        "id": "tKwAfgjAtuEi"
      },
      "source": [
        "### Graphical User Interface Programming"
      ]
    },
    {
      "cell_type": "markdown",
      "metadata": {
        "id": "3Fv52-e0tuhI"
      },
      "source": [
        "### Distributed Programming"
      ]
    },
    {
      "cell_type": "markdown",
      "metadata": {
        "id": "UjpBaAVFtvA6"
      },
      "source": [
        "### Constrained Programming"
      ]
    },
    {
      "cell_type": "markdown",
      "metadata": {
        "id": "X-Gj9fy53Alq"
      },
      "source": [
        "## Semantics\n",
        "\n"
      ]
    },
    {
      "cell_type": "markdown",
      "metadata": {
        "id": "-I-gT5gztr9b"
      },
      "source": [
        "### Language Semantics"
      ]
    },
    {
      "cell_type": "markdown",
      "metadata": {
        "id": "mV_Gjm7o-G6l"
      },
      "source": [
        "# Glosario"
      ]
    },
    {
      "cell_type": "markdown",
      "metadata": {
        "id": "u8sWePw_XdHR"
      },
      "source": [
        "**Abstraction**\n",
        "\n",
        "[Abstraction - burback](http://infolab.stanford.edu/~burback/watersluice/node147.html)\n",
        "\n",
        "Loosely Tool or device that solves a particular problem.\n",
        "\n",
        "The process of establishing the decomposition of a problem into simpler and more understood primitives is basic to science and software engineering. This process has many underlying techniques of abstraction.\n",
        "\n",
        "An abstraction is a model. The process of transforming one abstraction into a more detailed abstraction is called refinement. The new abstraction can be referred to as a refinement of the original one. Abstractions and their refinements typically do not coexist in the same system description. Precisely what is meant by a more detailed abstraction is not well defined. There needs to be support for substitutability of concepts from one abstraction to another. Composition occurs when two abstractions are used to define another higher abstraction. Decomposition occurs when an abstraction is split into smaller abstractions.\n",
        "\n",
        "Information management is one of the goals of abstraction. Complex features of one abstraction are simplified into another abstraction. Good abstractions can be very useful while bad abstractions can be very harmful. A good abstraction leads to reusable components.\n",
        "\n",
        "Information hiding distinguishes between public and private information. Only the essential information is made public while internal details are kept private. This simplifies interactions and localizes details and their operations into well defined units.\n",
        "\n",
        "Abstraction, in traditional systems, naturally forms layers representing different levels of complexity. Each layer describes a solution. These layers are then mapped onto each other. In this way, high level abstractions are materialized by lower level abstractions until a simple realization can take place."
      ]
    },
    {
      "cell_type": "markdown",
      "metadata": {
        "id": "H1VWxT3cW59c"
      },
      "source": [
        "## References"
      ]
    },
    {
      "cell_type": "markdown",
      "metadata": {
        "id": "MXYFEmr3W9Rl"
      },
      "source": [
        "- [Software Engineering Methodology](http://infolab.stanford.edu/~burback/watersluice/node299.html)\n",
        "\n",
        "- [How to Design Programs - An Introduction to Computing and Programming](http://htdp.org/2003-09-26/Book/curriculum.html)\n",
        "\n",
        "- [Common Lisp the Language, 2nd Edition](https://www.cs.cmu.edu/Groups/AI/html/cltl/clm/node1.html)\n",
        "\n",
        "* [The Structure and Interpretation of Computer Programs](https://mitpress.mit.edu/sites/default/files/sicp/full-text/book/book.html)\n",
        "\n",
        "- [Structure and Interpretation of Computer_Programs  - Course](https://colab.research.google.com/github/dbremont/Notas/blob/main/Ingenerare/Structure_and_Interpretation_of_Computer_Programs.ipynb)\n"
      ]
    }
  ]
}