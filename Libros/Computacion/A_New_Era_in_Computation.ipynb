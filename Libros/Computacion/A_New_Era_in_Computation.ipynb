{
  "nbformat": 4,
  "nbformat_minor": 0,
  "metadata": {
    "colab": {
      "name": "A New Era in Computation.ipynb",
      "provenance": [],
      "authorship_tag": "ABX9TyN7P/nuFr4ymtuK1VLrOXcH",
      "include_colab_link": true
    },
    "kernelspec": {
      "name": "python3",
      "display_name": "Python 3"
    },
    "language_info": {
      "name": "python"
    }
  },
  "cells": [
    {
      "cell_type": "markdown",
      "metadata": {
        "id": "view-in-github",
        "colab_type": "text"
      },
      "source": [
        "<a href=\"https://colab.research.google.com/github/dbremont/Notas/blob/main/Libros/Computacion/A_New_Era_in_Computation.ipynb\" target=\"_parent\"><img src=\"https://colab.research.google.com/assets/colab-badge.svg\" alt=\"Open In Colab\"/></a>"
      ]
    },
    {
      "cell_type": "markdown",
      "source": [
        "The Present volumen offers a board survey of the present state of computing, right after the advent of parallel computing."
      ],
      "metadata": {
        "id": "k3-B0CDPVFzz"
      }
    },
    {
      "cell_type": "markdown",
      "source": [
        "## What is Massively Parallel Computing, and Why Is It Important?"
      ],
      "metadata": {
        "id": "VxA18yVYV114"
      }
    },
    {
      "cell_type": "markdown",
      "source": [
        "## Complex Adaptative Systems"
      ],
      "metadata": {
        "id": "t1lxeYReV9F9"
      }
    },
    {
      "cell_type": "markdown",
      "source": [
        "## Perpectives on Parallel Computing"
      ],
      "metadata": {
        "id": "_FCkO69cXHGJ"
      }
    },
    {
      "cell_type": "markdown",
      "source": [
        "## Parallel Billiards and Monster Systems"
      ],
      "metadata": {
        "id": "9ERa9PABXLUQ"
      }
    },
    {
      "cell_type": "markdown",
      "source": [
        "## First We Reshape Our Computers, Then Our Computers Reshape Us: The Broader Impact of Parallelism"
      ],
      "metadata": {
        "id": "o2vy6y9gXOwX"
      }
    },
    {
      "cell_type": "markdown",
      "source": [
        "## Parallelism in Conscious Experience"
      ],
      "metadata": {
        "id": "yI7YnebEXY0W"
      }
    },
    {
      "cell_type": "markdown",
      "source": [
        "## Of Time, Intelligence, and Instituions"
      ],
      "metadata": {
        "id": "GvCDxkb9XdUG"
      }
    },
    {
      "cell_type": "markdown",
      "source": [
        "## Parallel Computing and Education"
      ],
      "metadata": {
        "id": "47ThDDF8Xgu7"
      }
    },
    {
      "cell_type": "markdown",
      "source": [
        "## The Age of Computign: A Personal Memoir"
      ],
      "metadata": {
        "id": "346tCGzZXkfL"
      }
    },
    {
      "cell_type": "markdown",
      "source": [
        "## What Should the Public Know about Mathematics?"
      ],
      "metadata": {
        "id": "WXfAla3tXof6"
      }
    },
    {
      "cell_type": "markdown",
      "source": [
        "## America's Economic-Technological Agend  fro the 1990s"
      ],
      "metadata": {
        "id": "WWw-LVJ0Xs2Y"
      }
    },
    {
      "cell_type": "markdown",
      "source": [
        "## Computation in the Age of Neuroscience"
      ],
      "metadata": {
        "id": "dMC45VmSXy3s"
      }
    },
    {
      "cell_type": "markdown",
      "source": [
        "## Massively Parallel Computing and Information Capitalism"
      ],
      "metadata": {
        "id": "mK-xQiA2X1_Q"
      }
    }
  ]
}