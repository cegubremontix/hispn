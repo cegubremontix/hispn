{
  "nbformat": 4,
  "nbformat_minor": 0,
  "metadata": {
    "kernelspec": {
      "display_name": "Python 2.7.18 64-bit",
      "name": "python2718jvsc74a57bd0f92b2924b84ff19c1c3dc485f7644d4486f64738191026bf8e6de303969141b5"
    },
    "language_info": {
      "name": "python",
      "version": ""
    },
    "metadata": {
      "interpreter": {
        "hash": "f92b2924b84ff19c1c3dc485f7644d4486f64738191026bf8e6de303969141b5"
      }
    },
    "orig_nbformat": 2,
    "colab": {
      "name": "Code Reading - The Open Source Perspective.ipynb",
      "provenance": [],
      "include_colab_link": true
    }
  },
  "cells": [
    {
      "cell_type": "markdown",
      "metadata": {
        "id": "view-in-github",
        "colab_type": "text"
      },
      "source": [
        "<a href=\"https://colab.research.google.com/github/dbremont/Notas/blob/main/Libros/Computacion/Code%20Reading%20-%20The%20Open%20Source%20Perspective.ipynb\" target=\"_parent\"><img src=\"https://colab.research.google.com/assets/colab-badge.svg\" alt=\"Open In Colab\"/></a>"
      ]
    },
    {
      "cell_type": "markdown",
      "metadata": {
        "id": "DHLTcXFb57Az"
      },
      "source": [
        "# Code Reading - The Open Source Perspective\n",
        "\n",
        "- The only way to learn to write code is reading lots of code, good code, bad code to note the different between the twos.\n",
        "\n",
        "- Code in Assembly, Haskell, C, Python, Java, OCaml, ...\n",
        "\n",
        "- Great novelist learn from reading each other.\n",
        "\n",
        "- When reading ask the following question, \"**why is this written this way?**\"."
      ]
    },
    {
      "cell_type": "markdown",
      "metadata": {
        "id": "kkkvMnA8hOI4"
      },
      "source": [
        "- [Code Reading](https://www.spinellis.gr/codereading/)\n",
        "- [Source Code Outline](https://www.spinellis.gr/codequality/source.html)\n",
        "- [Download Source Code](https://zenodo.org/record/2526243#.YJgDR6KYW00)"
      ]
    },
    {
      "cell_type": "markdown",
      "metadata": {
        "id": "9USi3M0raGgh"
      },
      "source": [
        "## Introduction\n"
      ]
    },
    {
      "cell_type": "markdown",
      "metadata": {
        "id": "2qbjY0Iycdhd"
      },
      "source": [
        "- Reading real-life well-written code can give you insights on how to structured and program nontrivial systems, a skill that cannot be learned by writing toy-sized programs. \n",
        "\n",
        "- **Goals of the book**:\n",
        "  - Be able to read and understand nontrivial softawre code.\n",
        "  - Appreciate many important software development concepts\n",
        "  - Know how to explore large bodies of code\n",
        "  - Have a readign capability of a multitude of important high and low-level programming languages\n",
        "  - Appreciate the intricacies of real software projects\n",
        "\n",
        "- **Before we begin**:\n",
        "  1. You should know C, C++ and Java.\n",
        "  2. Exposure to the systems and applications discuss will enhace you understanding of the material.\n",
        "\n",
        "- **1.1  Why and How to Read Code**\n",
        "\n",
        "- "
      ]
    },
    {
      "cell_type": "markdown",
      "metadata": {
        "id": "OFTj-18xaJYD"
      },
      "source": [
        "## Basic Programming Elements"
      ]
    },
    {
      "cell_type": "markdown",
      "metadata": {
        "id": "qyzwc1HbaMng"
      },
      "source": [
        "## Advanced C Data Types"
      ]
    },
    {
      "cell_type": "markdown",
      "metadata": {
        "id": "abFe0u9KaO-F"
      },
      "source": [
        "## Advanced Control Flow"
      ]
    },
    {
      "cell_type": "markdown",
      "metadata": {
        "id": "2SYkhiScaSFj"
      },
      "source": [
        "## Tackling Large Projects"
      ]
    },
    {
      "cell_type": "markdown",
      "metadata": {
        "id": "pAR2Ex_OaVQw"
      },
      "source": [
        "## Coding Standards and Conventions"
      ]
    },
    {
      "cell_type": "markdown",
      "metadata": {
        "id": "1VxFoh7paY0a"
      },
      "source": [
        "## Documentation"
      ]
    },
    {
      "cell_type": "markdown",
      "metadata": {
        "id": "rTXn-TuLactU"
      },
      "source": [
        "## Architecture"
      ]
    },
    {
      "cell_type": "markdown",
      "metadata": {
        "id": "SiFH36Ucae79"
      },
      "source": [
        "## Code-Reading Tools"
      ]
    },
    {
      "cell_type": "markdown",
      "metadata": {
        "id": "XWMxLK68aiNJ"
      },
      "source": [
        "## A Complete Example"
      ]
    },
    {
      "cell_type": "markdown",
      "metadata": {
        "id": "HEMbHurLakUW"
      },
      "source": [
        "## Outline of the Code Provided"
      ]
    },
    {
      "cell_type": "markdown",
      "metadata": {
        "id": "TfJqW6tiankg"
      },
      "source": [
        "## Source Code Credits"
      ]
    },
    {
      "cell_type": "markdown",
      "metadata": {
        "id": "BqI0CoJFapsI"
      },
      "source": [
        "## Referenced Source Files"
      ]
    },
    {
      "cell_type": "markdown",
      "metadata": {
        "id": "ssRZYryuawWi"
      },
      "source": [
        "## Source Code Licences"
      ]
    },
    {
      "cell_type": "markdown",
      "metadata": {
        "id": "CtxMkxTAazz0"
      },
      "source": [
        "## Maxims for Reading Code"
      ]
    }
  ]
}