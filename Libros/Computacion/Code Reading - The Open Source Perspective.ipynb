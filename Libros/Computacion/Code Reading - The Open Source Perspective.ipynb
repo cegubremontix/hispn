{
  "nbformat": 4,
  "nbformat_minor": 0,
  "metadata": {
    "kernelspec": {
      "display_name": "Python 2.7.18 64-bit",
      "name": "python2718jvsc74a57bd0f92b2924b84ff19c1c3dc485f7644d4486f64738191026bf8e6de303969141b5"
    },
    "language_info": {
      "name": "python",
      "version": ""
    },
    "metadata": {
      "interpreter": {
        "hash": "f92b2924b84ff19c1c3dc485f7644d4486f64738191026bf8e6de303969141b5"
      }
    },
    "orig_nbformat": 2,
    "colab": {
      "name": "Code Reading - The Open Source Perspective.ipynb",
      "provenance": [],
      "include_colab_link": true
    }
  },
  "cells": [
    {
      "cell_type": "markdown",
      "metadata": {
        "id": "view-in-github",
        "colab_type": "text"
      },
      "source": [
        "<a href=\"https://colab.research.google.com/github/dbremont/Notas/blob/main/Libros/Computacion/Code%20Reading%20-%20The%20Open%20Source%20Perspective.ipynb\" target=\"_parent\"><img src=\"https://colab.research.google.com/assets/colab-badge.svg\" alt=\"Open In Colab\"/></a>"
      ]
    },
    {
      "cell_type": "markdown",
      "metadata": {
        "id": "DHLTcXFb57Az"
      },
      "source": [
        "Code Reading - The Open Source Perspective"
      ]
    },
    {
      "cell_type": "markdown",
      "metadata": {
        "id": "kkkvMnA8hOI4"
      },
      "source": [
        "- [Code Reading](https://www.spinellis.gr/codereading/)\n",
        "- [Source Code Outline](https://www.spinellis.gr/codequality/source.html)\n",
        "- [Download Source Code](https://zenodo.org/record/2526243#.YJgDR6KYW00)"
      ]
    }
  ]
}