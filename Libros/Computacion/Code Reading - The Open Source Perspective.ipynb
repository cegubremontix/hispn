{
  "nbformat": 4,
  "nbformat_minor": 0,
  "metadata": {
    "kernelspec": {
      "display_name": "Python 2.7.18 64-bit",
      "name": "python2718jvsc74a57bd0f92b2924b84ff19c1c3dc485f7644d4486f64738191026bf8e6de303969141b5"
    },
    "language_info": {
      "name": "python",
      "version": ""
    },
    "metadata": {
      "interpreter": {
        "hash": "f92b2924b84ff19c1c3dc485f7644d4486f64738191026bf8e6de303969141b5"
      }
    },
    "orig_nbformat": 2,
    "colab": {
      "name": "Code Reading - The Open Source Perspective.ipynb",
      "provenance": [],
      "toc_visible": true,
      "include_colab_link": true
    }
  },
  "cells": [
    {
      "cell_type": "markdown",
      "metadata": {
        "id": "view-in-github",
        "colab_type": "text"
      },
      "source": [
        "<a href=\"https://colab.research.google.com/github/dbremont/Notas/blob/main/Libros/Computacion/Code%20Reading%20-%20The%20Open%20Source%20Perspective.ipynb\" target=\"_parent\"><img src=\"https://colab.research.google.com/assets/colab-badge.svg\" alt=\"Open In Colab\"/></a>"
      ]
    },
    {
      "cell_type": "markdown",
      "metadata": {
        "id": "DHLTcXFb57Az"
      },
      "source": [
        "# Code Reading - The Open Source Perspective\n",
        "\n",
        "- The only way to learn to write code is reading lots of code, good code, bad code to note the different between the twos.\n",
        "\n",
        "- Code in Assembly, Haskell, C, Python, Java, OCaml, ...\n",
        "\n",
        "- Great novelist learn from reading each other.\n",
        "\n",
        "- When reading ask the following question, \"**why is this written this way?**\"."
      ]
    },
    {
      "cell_type": "markdown",
      "metadata": {
        "id": "kkkvMnA8hOI4"
      },
      "source": [
        "- [Code Reading](https://www.spinellis.gr/codereading/)\n",
        "- [Source Code Outline](https://www.spinellis.gr/codequality/source.html)\n",
        "- [Download Source Code](https://zenodo.org/record/2526243#.YJgDR6KYW00)\n",
        "\n",
        "- [500 Lines or Less](http://aosabook.org/en/index.html)\n",
        "\n",
        "- [The Architecture of Open Source Applications](http://aosabook.org/en/index.html)\n",
        "\n",
        "\n",
        "- [Nasa F'Prime](https://github.com/nasa/fprime)"
      ]
    },
    {
      "cell_type": "markdown",
      "metadata": {
        "id": "9USi3M0raGgh"
      },
      "source": [
        "## Introduction\n"
      ]
    },
    {
      "cell_type": "markdown",
      "metadata": {
        "id": "2qbjY0Iycdhd"
      },
      "source": [
        "- Reading real-life well-written code can give you insights on how to structured and program nontrivial systems, a skill that cannot be learned by writing toy-sized programs. \n",
        "\n",
        "- **Goals of the book**:\n",
        "  - Be able to read and understand nontrivial softawre code.\n",
        "  - Appreciate many important software development concepts\n",
        "  - Know how to explore large bodies of code\n",
        "  - Have a readign capability of a multitude of important high and low-level programming languages\n",
        "  - Appreciate the intricacies of real software projects\n",
        "\n",
        "- **Before we begin**:\n",
        "  1. You should know C, C++ and Java.\n",
        "  2. Exposure to the systems and applications discuss will enhace you understanding of the material.\n",
        "\n",
        "- **1.1  Why and How to Read Code**\n",
        "\n",
        "- Read **high-quality code**  with an objective in mind: \n",
        "  - To learn new idioms, \n",
        "  - To see how things works,\n",
        "  - To learn a new architectural patterns,\n",
        "  - To trigger my imagination,\n",
        "  - To enrich my vocabulary(like while reading prose)\n",
        "  - To extract pieces of code to use in projects.\n",
        "\n",
        "**How detect low quality code** :\n",
        "  1. An incosistent coding style\n",
        "  2. A gratiotously complicated or unreadable structure\n",
        "  3. Obvious logical erors or omissions\n",
        "  4. Overuse of nonportable construcs\n",
        "  5. Lack of maintenance\n",
        "\n",
        "**Maintenance**\n",
        "\n",
        "How to fix bugs in large systems\n",
        "\n",
        "- Use tools like (More about in chapter 10):\n",
        "  1. Debugger,\n",
        "  2. Compiler warnings,\n",
        "  3. a system call tracer,\n",
        "  4. packet dump tools,\n",
        "  5. If in java use **aspecj** to add new functionality.\n",
        "\n",
        "**Evolution**\n",
        "\n",
        "  1. To add  a new functionality: look for something similar an used as a template.\n",
        "  2. ...\n",
        "  3. What to do when there is not example?\n",
        "\n",
        "**Relationships use standard UML notation**:\n",
        "\n",
        "1. Class **inheritance** is drawn using a generalization principle. (Solid line)\n",
        "2. An **interface** implementation is drawn as a realization relationship: a dashed lien with an empty arrow.\n",
        "3. A **dependency** between two elements.\n",
        "4. A **composition**\n",
        "\n",
        "**Master find, grep**\n"
      ]
    },
    {
      "cell_type": "markdown",
      "metadata": {
        "id": "OFTj-18xaJYD"
      },
      "source": [
        "## Basic Programming Elements\n",
        "We present two complete programs and examine their working in a step-by-step fashio. In doing so we outlien some basic strategies for code readign and identify common C control structures, building blocks, idioms, and pitfalls."
      ]
    },
    {
      "cell_type": "markdown",
      "metadata": {
        "id": "qyzwc1HbaMng"
      },
      "source": [
        "## Advanced C Data Types"
      ]
    },
    {
      "cell_type": "markdown",
      "metadata": {
        "id": "abFe0u9KaO-F"
      },
      "source": [
        "## C Data Structures\n",
        "Examines how to read code embodying common data structures."
      ]
    },
    {
      "cell_type": "markdown",
      "metadata": {
        "id": "1f9yRUzdhwVv"
      },
      "source": [
        "## Advanced C Data Types"
      ]
    },
    {
      "cell_type": "markdown",
      "metadata": {
        "id": "2SYkhiScaSFj"
      },
      "source": [
        "## Tackling Large Projects\n",
        "Deals with code foudn in really large projects: greographically distributed team effors comprising thousands of files and millions of lines of code."
      ]
    },
    {
      "cell_type": "markdown",
      "metadata": {
        "id": "pAR2Ex_OaVQw"
      },
      "source": [
        "## Coding Standards and Conventions\n"
      ]
    },
    {
      "cell_type": "markdown",
      "metadata": {
        "id": "1VxFoh7paY0a"
      },
      "source": [
        "## Documentation\n",
        "Formal documentation."
      ]
    },
    {
      "cell_type": "markdown",
      "metadata": {
        "id": "rTXn-TuLactU"
      },
      "source": [
        "## Architecture\n",
        "Provides background information and advice on viewwing the forest rather than the trees: the system's architecture rather than itts code details."
      ]
    },
    {
      "cell_type": "markdown",
      "metadata": {
        "id": "SiFH36Ucae79"
      },
      "source": [
        "## Code-Reading Tools\n"
      ]
    },
    {
      "cell_type": "markdown",
      "metadata": {
        "id": "tKCO6yHNqYXW"
      },
      "source": [
        "339\n",
        "\n",
        "- give us the tools and we will finish the jobs\n",
        "- etag\n",
        "- idutils indexing tools\n",
        "- exuberants etags\n",
        "- grep to search files\n",
        "- grep -l\n",
        "- diff, xdiff\n",
        "- sed, awk, sort, uniq, diff\n",
        "- the compiler as a code reading tools\n",
        "- code browser (cscope, source-navigator)\n",
        "  - .net source navigator java\n",
        "  - definitions\n",
        "  - references\n",
        "  - a call graph\n",
        "  - a callen graph\n",
        "  - a file outline\n",
        "\n",
        "- cb (c beaufity)   \n",
        "- vgrint\n",
        "- rmdir\n",
        "- cdcl\n",
        "\n",
        "\n",
        "- debugger\n",
        "  - code breakpoint\n",
        "  - data breakpoint\n",
        "  - variables display\n",
        "  - a static dumpt\n",
        "  - structure browsing\n",
        "    - help to understand data structures\n",
        "\n",
        "- rune time tools\n",
        "  - trace\n",
        "  - strace\n",
        "  - tcpdumpt\n",
        "  - xev\n",
        "  - gprof\n",
        "  - draw diagrams\n"
      ]
    },
    {
      "cell_type": "markdown",
      "metadata": {
        "id": "XWMxLK68aiNJ"
      },
      "source": [
        "\n",
        "## A Complete Example"
      ]
    },
    {
      "cell_type": "markdown",
      "metadata": {
        "id": "HEMbHurLakUW"
      },
      "source": [
        "## Outline of the Code Provided\n",
        " "
      ]
    },
    {
      "cell_type": "markdown",
      "metadata": {
        "id": "TfJqW6tiankg"
      },
      "source": [
        "## Source Code Credits"
      ]
    },
    {
      "cell_type": "markdown",
      "metadata": {
        "id": "BqI0CoJFapsI"
      },
      "source": [
        "## Referenced Source Files"
      ]
    },
    {
      "cell_type": "markdown",
      "metadata": {
        "id": "ssRZYryuawWi"
      },
      "source": [
        "## Source Code Licences"
      ]
    },
    {
      "cell_type": "markdown",
      "metadata": {
        "id": "CtxMkxTAazz0"
      },
      "source": [
        "## Maxims for Reading Code"
      ]
    }
  ]
}