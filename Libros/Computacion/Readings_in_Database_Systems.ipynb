{
  "nbformat": 4,
  "nbformat_minor": 0,
  "metadata": {
    "colab": {
      "name": "Readings in Database Systems.ipynb",
      "provenance": [],
      "authorship_tag": "ABX9TyPEOVQ2K0GT58Ba4WP7Lkhh",
      "include_colab_link": true
    },
    "kernelspec": {
      "name": "python3",
      "display_name": "Python 3"
    },
    "language_info": {
      "name": "python"
    }
  },
  "cells": [
    {
      "cell_type": "markdown",
      "metadata": {
        "id": "view-in-github",
        "colab_type": "text"
      },
      "source": [
        "<a href=\"https://colab.research.google.com/github/dbremont/Notas/blob/main/Libros/Computacion/Readings_in_Database_Systems.ipynb\" target=\"_parent\"><img src=\"https://colab.research.google.com/assets/colab-badge.svg\" alt=\"Open In Colab\"/></a>"
      ]
    },
    {
      "cell_type": "markdown",
      "metadata": {
        "id": "8ELW1nonqGCv"
      },
      "source": [
        "[Readings in Database Systems](http://www.redbook.io/)"
      ]
    },
    {
      "cell_type": "markdown",
      "metadata": {
        "id": "4loS5jO-qGvy"
      },
      "source": [
        ""
      ]
    }
  ]
}