{
  "nbformat": 4,
  "nbformat_minor": 0,
  "metadata": {
    "colab": {
      "name": "Structure and Interpretation of Computer Programs.ipynb",
      "provenance": [],
      "authorship_tag": "ABX9TyO/XjzqW7pyYDF/rTApCYxG",
      "include_colab_link": true
    },
    "kernelspec": {
      "name": "python3",
      "display_name": "Python 3"
    },
    "language_info": {
      "name": "python"
    }
  },
  "cells": [
    {
      "cell_type": "markdown",
      "metadata": {
        "id": "view-in-github",
        "colab_type": "text"
      },
      "source": [
        "<a href=\"https://colab.research.google.com/github/dbremont/Notas/blob/main/Libros/Computacion/Structure_and_Interpretation_of_Computer_Programs.ipynb\" target=\"_parent\"><img src=\"https://colab.research.google.com/assets/colab-badge.svg\" alt=\"Open In Colab\"/></a>"
      ]
    },
    {
      "cell_type": "markdown",
      "metadata": {
        "id": "r2vu1bBshcvE"
      },
      "source": [
        "- [Structure and Interpretation of Computer Programs](https://sarabander.github.io/sicp/html/index.xhtml)"
      ]
    },
    {
      "cell_type": "markdown",
      "metadata": {
        "id": "J7OLwV2iiPsC"
      },
      "source": [
        "Course\n",
        "\n",
        "[SICP](https://www.youtube.com/playlist?list=PLVFrD1dmDdvdvWFK8brOVNL7bKHpE-9w0)"
      ]
    }
  ]
}