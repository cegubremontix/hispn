{
  "nbformat": 4,
  "nbformat_minor": 0,
  "metadata": {
    "colab": {
      "name": "How Debuggers Work Algorithms, Data Structures, and Architecture.ipynb",
      "provenance": [],
      "authorship_tag": "ABX9TyNcD/k7Q7ZfpuGrLJfy17Ne",
      "include_colab_link": true
    },
    "kernelspec": {
      "name": "python3",
      "display_name": "Python 3"
    },
    "language_info": {
      "name": "python"
    }
  },
  "cells": [
    {
      "cell_type": "markdown",
      "metadata": {
        "id": "view-in-github",
        "colab_type": "text"
      },
      "source": [
        "<a href=\"https://colab.research.google.com/github/dbremont/Notas/blob/main/Libros/Computacion/How_Debuggers_Work_Algorithms%2C_Data_Structures%2C_and_Architecture.ipynb\" target=\"_parent\"><img src=\"https://colab.research.google.com/assets/colab-badge.svg\" alt=\"Open In Colab\"/></a>"
      ]
    },
    {
      "cell_type": "markdown",
      "metadata": {
        "id": "NIbZ2eDW7zik"
      },
      "source": [
        "## Introduction"
      ]
    },
    {
      "cell_type": "markdown",
      "metadata": {
        "id": "SwbXmQNb8YuT"
      },
      "source": [
        "## Debugger Architecture"
      ]
    },
    {
      "cell_type": "markdown",
      "metadata": {
        "id": "OyM2UBXA8b74"
      },
      "source": [
        "## Hardware Debugger Facilities"
      ]
    },
    {
      "cell_type": "markdown",
      "metadata": {
        "id": "CK6Mu1XX8gpr"
      },
      "source": [
        "## Operating System Debugger Infrastructure"
      ]
    },
    {
      "cell_type": "markdown",
      "metadata": {
        "id": "CXChQjSl8oli"
      },
      "source": [
        "## Controlling Execution"
      ]
    },
    {
      "cell_type": "markdown",
      "metadata": {
        "id": "uEtBT-M78q2L"
      },
      "source": [
        "## Breakpoints and Single Stepping"
      ]
    },
    {
      "cell_type": "markdown",
      "metadata": {
        "id": "nRL3oobR8tnz"
      },
      "source": [
        "## Discovering Program Context"
      ]
    },
    {
      "cell_type": "markdown",
      "metadata": {
        "id": "hCMMMre18wb3"
      },
      "source": [
        "## Inspecting Data and Variables"
      ]
    },
    {
      "cell_type": "markdown",
      "metadata": {
        "id": "SobUrkmS80Cz"
      },
      "source": [
        "## Multithreaded Debugging"
      ]
    },
    {
      "cell_type": "markdown",
      "metadata": {
        "id": "BPddcO0Q85Fr"
      },
      "source": [
        "## Debugging GUI Applications"
      ]
    },
    {
      "cell_type": "markdown",
      "metadata": {
        "id": "kk970m-R89ZH"
      },
      "source": [
        "## Specialized Debugger Applications"
      ]
    },
    {
      "cell_type": "markdown",
      "metadata": {
        "id": "a8LKB0w49cCw"
      },
      "source": [
        "## Debugging Optimized Code"
      ]
    }
  ]
}