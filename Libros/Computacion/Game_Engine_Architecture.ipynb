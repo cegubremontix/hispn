{
  "nbformat": 4,
  "nbformat_minor": 0,
  "metadata": {
    "colab": {
      "name": "Game Engine Architecture.ipynb",
      "provenance": [],
      "authorship_tag": "ABX9TyNAn/9vLyPc4AdP9aXI3fNL",
      "include_colab_link": true
    },
    "kernelspec": {
      "name": "python3",
      "display_name": "Python 3"
    },
    "language_info": {
      "name": "python"
    }
  },
  "cells": [
    {
      "cell_type": "markdown",
      "metadata": {
        "id": "view-in-github",
        "colab_type": "text"
      },
      "source": [
        "<a href=\"https://colab.research.google.com/github/dbremont/Notas/blob/main/Libros/Computacion/Game_Engine_Architecture.ipynb\" target=\"_parent\"><img src=\"https://colab.research.google.com/assets/colab-badge.svg\" alt=\"Open In Colab\"/></a>"
      ]
    },
    {
      "cell_type": "markdown",
      "source": [
        "Game Engine Technology\n",
        "\n",
        "Game Subsystems\n",
        "- Rendering Engine\n",
        "- Collision System\n",
        "- Physics Simulation\n",
        "- Character Animation\n",
        "- Audio\n",
        "- Game Play Foundation Layer\n",
        "  - Object Model,\n",
        "  - World Editor,\n",
        "  - Event Subsystem,\n",
        "  - Scripting System\n",
        "\n",
        "Game Subsystems Interaction\n",
        "\n",
        "Game Data Structures\n",
        "\n",
        "Game Algorithms\n",
        "\n",
        "Game Software Engineering Techniques\n",
        "\n",
        "Find some Game Engine Projects?\n",
        "\n",
        "-  "
      ],
      "metadata": {
        "id": "lJ8RvkMFIX9n"
      }
    },
    {
      "cell_type": "markdown",
      "source": [
        "# Foundations"
      ],
      "metadata": {
        "id": "GXC2jBsnFn2Y"
      }
    },
    {
      "cell_type": "markdown",
      "source": [
        "## Introduction"
      ],
      "metadata": {
        "id": "jj83Pf-_F3mt"
      }
    },
    {
      "cell_type": "markdown",
      "source": [
        "## Tools of the Trade"
      ],
      "metadata": {
        "id": "H-_jB9LOF9Xv"
      }
    },
    {
      "cell_type": "markdown",
      "source": [
        "## Fundamentals of Software Engineering for Games "
      ],
      "metadata": {
        "id": "smZxIggMGAh2"
      }
    },
    {
      "cell_type": "markdown",
      "source": [
        "## Parallelism and Concurrent Programming"
      ],
      "metadata": {
        "id": "lnOZnyocGvmt"
      }
    },
    {
      "cell_type": "markdown",
      "source": [
        "## 3D  Math for Games"
      ],
      "metadata": {
        "id": "6TDxHN_dGzch"
      }
    },
    {
      "cell_type": "markdown",
      "source": [
        "# Low-Level Engine Systems"
      ],
      "metadata": {
        "id": "hicolOhkFt4R"
      }
    },
    {
      "cell_type": "markdown",
      "source": [
        "## Engine Support Systems"
      ],
      "metadata": {
        "id": "yZ96BFRJG5Xm"
      }
    },
    {
      "cell_type": "markdown",
      "source": [
        "## Resources and the File System"
      ],
      "metadata": {
        "id": "oK-ftd53G98i"
      }
    },
    {
      "cell_type": "markdown",
      "source": [
        "## The Game Loop and Real-Time Simulation"
      ],
      "metadata": {
        "id": "VAOCp8xdHAbs"
      }
    },
    {
      "cell_type": "markdown",
      "source": [
        "## Human Interface Devices"
      ],
      "metadata": {
        "id": "OMibPFGRHGwW"
      }
    },
    {
      "cell_type": "markdown",
      "source": [
        "## Tools for Debugging and Development"
      ],
      "metadata": {
        "id": "Sftm3uPNHKSY"
      }
    },
    {
      "cell_type": "markdown",
      "source": [
        "# Graphics, Motion and Sound"
      ],
      "metadata": {
        "id": "R6YcptMCFw9b"
      }
    },
    {
      "cell_type": "markdown",
      "source": [
        "## The Rendering Engine"
      ],
      "metadata": {
        "id": "9_lAznt4HQ2w"
      }
    },
    {
      "cell_type": "markdown",
      "source": [
        "## Animation Systems"
      ],
      "metadata": {
        "id": "ssTIOQHFHT_u"
      }
    },
    {
      "cell_type": "markdown",
      "source": [
        "## Collision and Rigid Body Dynamics"
      ],
      "metadata": {
        "id": "5CeJEO5uHW7c"
      }
    },
    {
      "cell_type": "markdown",
      "source": [
        "## Audio"
      ],
      "metadata": {
        "id": "OTw_5Ly2Ha4l"
      }
    },
    {
      "cell_type": "markdown",
      "source": [
        "# Gameplay"
      ],
      "metadata": {
        "id": "xi_sorsmF1CJ"
      }
    },
    {
      "cell_type": "markdown",
      "source": [
        "## Introduction to Gameplay Systems"
      ],
      "metadata": {
        "id": "f54ou1m3HcS7"
      }
    },
    {
      "cell_type": "markdown",
      "source": [
        "## Runtime Gameplay Foundation Systems"
      ],
      "metadata": {
        "id": "SjLGBD0vHfzM"
      }
    },
    {
      "cell_type": "markdown",
      "source": [
        "# Conclusion"
      ],
      "metadata": {
        "id": "hCRGoObiF4-D"
      }
    },
    {
      "cell_type": "markdown",
      "source": [
        "## You Mean There's More?"
      ],
      "metadata": {
        "id": "xbKpO3SEHi_X"
      }
    }
  ]
}