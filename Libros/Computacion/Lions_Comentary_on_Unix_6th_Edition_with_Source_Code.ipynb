{
  "nbformat": 4,
  "nbformat_minor": 0,
  "metadata": {
    "colab": {
      "name": "Lions' Comentary on Unix 6th Edition with Source Code.ipynb",
      "provenance": [],
      "authorship_tag": "ABX9TyMN6OSVVRgzPOxNRpO9prQd",
      "include_colab_link": true
    },
    "kernelspec": {
      "name": "python3",
      "display_name": "Python 3"
    },
    "language_info": {
      "name": "python"
    }
  },
  "cells": [
    {
      "cell_type": "markdown",
      "metadata": {
        "id": "view-in-github",
        "colab_type": "text"
      },
      "source": [
        "<a href=\"https://colab.research.google.com/github/dbremont/Notas/blob/main/Libros/Computacion/Lions_Comentary_on_Unix_6th_Edition_with_Source_Code.ipynb\" target=\"_parent\"><img src=\"https://colab.research.google.com/assets/colab-badge.svg\" alt=\"Open In Colab\"/></a>"
      ]
    },
    {
      "cell_type": "markdown",
      "source": [
        "## Introduction"
      ],
      "metadata": {
        "id": "dASdx2x0VPds"
      }
    },
    {
      "cell_type": "markdown",
      "source": [
        "## Fundamentals"
      ],
      "metadata": {
        "id": "Cy2Yzh57VRaR"
      }
    },
    {
      "cell_type": "markdown",
      "source": [
        "## Reading \"C\" Programs"
      ],
      "metadata": {
        "id": "HrRDyg_LVTT1"
      }
    },
    {
      "cell_type": "markdown",
      "source": [
        "## An Overview"
      ],
      "metadata": {
        "id": "3iDPteDMVXZi"
      }
    },
    {
      "cell_type": "markdown",
      "source": [
        "## Two Files"
      ],
      "metadata": {
        "id": "0UUzc2-FVZgd"
      }
    },
    {
      "cell_type": "markdown",
      "source": [
        "## Getting Started"
      ],
      "metadata": {
        "id": "JyENJpsSVa-Z"
      }
    },
    {
      "cell_type": "markdown",
      "source": [
        "## Processes"
      ],
      "metadata": {
        "id": "qlIHoghIVdpG"
      }
    },
    {
      "cell_type": "markdown",
      "source": [
        "## Process Management"
      ],
      "metadata": {
        "id": "7XuFvkfHVfWj"
      }
    },
    {
      "cell_type": "markdown",
      "source": [
        "## Hardware Interrupts and Traps"
      ],
      "metadata": {
        "id": "YAu-dKv7VhX8"
      }
    },
    {
      "cell_type": "markdown",
      "source": [
        "## The Assembler \"Trap\" Routine"
      ],
      "metadata": {
        "id": "FMAQ4lNVVkZ2"
      }
    },
    {
      "cell_type": "markdown",
      "source": [
        "## Clock Interrupts"
      ],
      "metadata": {
        "id": "5vm7wJ0mVn6X"
      }
    },
    {
      "cell_type": "markdown",
      "source": [
        "## Traps and Systems Calls"
      ],
      "metadata": {
        "id": "JbjBlX5WVpwA"
      }
    },
    {
      "cell_type": "markdown",
      "source": [
        "## Software Interrupts"
      ],
      "metadata": {
        "id": "8gYEnMcFVtoL"
      }
    },
    {
      "cell_type": "markdown",
      "source": [
        "## Program Swapping"
      ],
      "metadata": {
        "id": "HGLYDCHxVxFT"
      }
    },
    {
      "cell_type": "markdown",
      "source": [
        "## Introduction to Basic I/O"
      ],
      "metadata": {
        "id": "bObaP-bqVzd3"
      }
    },
    {
      "cell_type": "markdown",
      "source": [
        "## The RK Disk Driver"
      ],
      "metadata": {
        "id": "NQ1lHWeBV3E2"
      }
    },
    {
      "cell_type": "markdown",
      "source": [
        "## Buffer Manipulation"
      ],
      "metadata": {
        "id": "94AILdfNV50C"
      }
    },
    {
      "cell_type": "markdown",
      "source": [
        "## Files Acces and Control"
      ],
      "metadata": {
        "id": "DwSdOYyGV7np"
      }
    },
    {
      "cell_type": "markdown",
      "source": [
        "## File Directories and Directory"
      ],
      "metadata": {
        "id": "UBjHGY3GV_zG"
      }
    },
    {
      "cell_type": "markdown",
      "source": [
        "## File Systems"
      ],
      "metadata": {
        "id": "Hd_ZYLBZWCuC"
      }
    },
    {
      "cell_type": "markdown",
      "source": [
        "## Pipes"
      ],
      "metadata": {
        "id": "BIQu5CKZWFHR"
      }
    },
    {
      "cell_type": "markdown",
      "source": [
        "## Character Oriented Special Files"
      ],
      "metadata": {
        "id": "OeFsjp9AWGKs"
      }
    },
    {
      "cell_type": "markdown",
      "source": [
        "## Character Handling"
      ],
      "metadata": {
        "id": "ytXbVEA1WI7t"
      }
    },
    {
      "cell_type": "markdown",
      "source": [
        "## Interactive Terminals"
      ],
      "metadata": {
        "id": "ezoxTwnYWKSO"
      }
    },
    {
      "cell_type": "markdown",
      "source": [
        "## The File \"tty.c\""
      ],
      "metadata": {
        "id": "XJeOzinCWNCP"
      }
    },
    {
      "cell_type": "markdown",
      "source": [
        "## Suggested Exercises"
      ],
      "metadata": {
        "id": "TA-DHVAwWRnk"
      }
    }
  ]
}