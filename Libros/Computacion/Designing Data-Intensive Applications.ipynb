{
  "nbformat": 4,
  "nbformat_minor": 0,
  "metadata": {
    "kernelspec": {
      "display_name": "Python 2.7.18 64-bit",
      "name": "python2718jvsc74a57bd0f92b2924b84ff19c1c3dc485f7644d4486f64738191026bf8e6de303969141b5"
    },
    "language_info": {
      "name": "python",
      "version": ""
    },
    "metadata": {
      "interpreter": {
        "hash": "f92b2924b84ff19c1c3dc485f7644d4486f64738191026bf8e6de303969141b5"
      }
    },
    "orig_nbformat": 2,
    "colab": {
      "name": "Designing Data-Intensive Applications.ipynb",
      "provenance": [],
      "include_colab_link": true
    }
  },
  "cells": [
    {
      "cell_type": "markdown",
      "metadata": {
        "id": "view-in-github",
        "colab_type": "text"
      },
      "source": [
        "<a href=\"https://colab.research.google.com/github/dbremont/Notas/blob/main/Libros/Computacion/Designing%20Data-Intensive%20Applications.ipynb\" target=\"_parent\"><img src=\"https://colab.research.google.com/assets/colab-badge.svg\" alt=\"Open In Colab\"/></a>"
      ]
    },
    {
      "cell_type": "markdown",
      "metadata": {
        "id": "gIeEFupX5V8h"
      },
      "source": [
        "Designing Data-Intensive Applications"
      ]
    },
    {
      "cell_type": "markdown",
      "metadata": {
        "id": "sbeWBet01Pdg"
      },
      "source": [
        "## Foundation of Data Systems"
      ]
    },
    {
      "cell_type": "markdown",
      "metadata": {
        "id": "gIvyQLH-1w5U"
      },
      "source": [
        "### Reliable, Scalable, and Maintainable Applications"
      ]
    },
    {
      "cell_type": "markdown",
      "metadata": {
        "id": "AMa7wA1k114z"
      },
      "source": [
        "### Data Models and Query Languages"
      ]
    },
    {
      "cell_type": "markdown",
      "metadata": {
        "id": "3ATwzErL158Z"
      },
      "source": [
        "### Storage and Retrieval"
      ]
    },
    {
      "cell_type": "markdown",
      "metadata": {
        "id": "C0AsTWd51_jU"
      },
      "source": [
        "### Encoding and Evolution"
      ]
    },
    {
      "cell_type": "markdown",
      "metadata": {
        "id": "9n6yZ3Cy2DO8"
      },
      "source": [
        "## Distributed Data"
      ]
    },
    {
      "cell_type": "markdown",
      "metadata": {
        "id": "Du0evWfr2GKG"
      },
      "source": [
        "### Replication"
      ]
    },
    {
      "cell_type": "markdown",
      "metadata": {
        "id": "znsinpjR2H2L"
      },
      "source": [
        "### Partitioning"
      ]
    },
    {
      "cell_type": "markdown",
      "metadata": {
        "id": "54b-jJco2KFS"
      },
      "source": [
        "### Transactions"
      ]
    },
    {
      "cell_type": "markdown",
      "metadata": {
        "id": "NZCodT2O2MbG"
      },
      "source": [
        "### The Trouble with Distributed Systems"
      ]
    },
    {
      "cell_type": "markdown",
      "metadata": {
        "id": "rRzBYpT52REJ"
      },
      "source": [
        "### Consistency and Consensus"
      ]
    },
    {
      "cell_type": "markdown",
      "metadata": {
        "id": "DeAhMvfX2Uzv"
      },
      "source": [
        "## Derived Data"
      ]
    },
    {
      "cell_type": "markdown",
      "metadata": {
        "id": "SAd-hdg_2W8n"
      },
      "source": [
        "### Batch Processing"
      ]
    },
    {
      "cell_type": "markdown",
      "metadata": {
        "id": "qfXlIRXd2Z8l"
      },
      "source": [
        "### Stream Processing"
      ]
    },
    {
      "cell_type": "markdown",
      "metadata": {
        "id": "c9GO1qjj2deX"
      },
      "source": [
        "### The Future of Data Systems"
      ]
    }
  ]
}