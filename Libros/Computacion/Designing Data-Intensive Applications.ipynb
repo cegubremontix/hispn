{
  "nbformat": 4,
  "nbformat_minor": 0,
  "metadata": {
    "kernelspec": {
      "display_name": "Python 2.7.18 64-bit",
      "name": "python2718jvsc74a57bd0f92b2924b84ff19c1c3dc485f7644d4486f64738191026bf8e6de303969141b5"
    },
    "language_info": {
      "name": "python",
      "version": ""
    },
    "metadata": {
      "interpreter": {
        "hash": "f92b2924b84ff19c1c3dc485f7644d4486f64738191026bf8e6de303969141b5"
      }
    },
    "orig_nbformat": 2,
    "colab": {
      "name": "Designing Data-Intensive Applications.ipynb",
      "provenance": [],
      "toc_visible": true,
      "include_colab_link": true
    }
  },
  "cells": [
    {
      "cell_type": "markdown",
      "metadata": {
        "id": "view-in-github",
        "colab_type": "text"
      },
      "source": [
        "<a href=\"https://colab.research.google.com/github/dbremont/Notas/blob/main/Libros/Computacion/Designing%20Data-Intensive%20Applications.ipynb\" target=\"_parent\"><img src=\"https://colab.research.google.com/assets/colab-badge.svg\" alt=\"Open In Colab\"/></a>"
      ]
    },
    {
      "cell_type": "markdown",
      "metadata": {
        "id": "gIeEFupX5V8h"
      },
      "source": [
        "Designing Data-Intensive Applications"
      ]
    },
    {
      "cell_type": "markdown",
      "metadata": {
        "id": "sbeWBet01Pdg"
      },
      "source": [
        "## Foundation of Data Systems"
      ]
    },
    {
      "cell_type": "markdown",
      "metadata": {
        "id": "gIvyQLH-1w5U"
      },
      "source": [
        "### Reliable, Scalable, and Maintainable Applications\n",
        "\n",
        "Terminology and approach that we're going to use throughout this book. It examines waht we we actually mean by words like **reliability**, **scalability**, and **mantainability**, and how we can try to archieve these goals"
      ]
    },
    {
      "cell_type": "markdown",
      "metadata": {
        "id": "IJVoxmGd4G29"
      },
      "source": [
        "- databases: Store data so that an application, can ifnd it again later.\n",
        "- caches: remember the result of an expeisive operation, to speed up reads\n",
        "- search indexes: allow user to search data by keyword or filter it in various ways\n",
        "- stream procesing: send a message to another proces, to be handle asynchronously\n",
        "- batch processing: periodicaly crunc a large amount of accumulated data\n",
        "\n",
        "**Reliability**\n",
        "\n",
        "The system should continue to work *correctly* (performing the correct function at the desired level of performace) even in the face of adversity (hardware or softawre fauls, and even human error).\n",
        "\n",
        "**Scalability**\n",
        "\n",
        "AS the system grows (in data volume, traffic volume, or complexity), there should be reasonable ways of dealing with that growth.\n",
        "\n",
        "**Maintainability**\n",
        "\n",
        "Overtime, many different people wil work on system (engineering and opeartion, boths maintainign current behavior and adapting the system to new use cases), and they  should al be able to work on it *productively*\n",
        "\n",
        "**Describing load**\n",
        "\n",
        "todo\n",
        "\n",
        "**Describing Performace**\n",
        "\n",
        "todo\n",
        "\n",
        "**Approaches for Copign with Load**\n",
        "\n",
        "todo\n",
        "\n",
        "**Operability: Making Life Easy for Operations**\n",
        "\n",
        "todo\n",
        "\n",
        "**Data System**\n",
        "\n",
        "  ![Data System](https://ebrary.net/htm/img/15/554/3.png)\n",
        "\n"
      ]
    },
    {
      "cell_type": "markdown",
      "metadata": {
        "id": "AMa7wA1k114z"
      },
      "source": [
        "### Data Models and Query Languages\n",
        "Compares several difernt data models and query langagues- the most visible distringuishing factor between databases from a dveloper's point of view. We will se diferent models are approapiate to different situations."
      ]
    },
    {
      "cell_type": "markdown",
      "metadata": {
        "id": "x6X3R7ZimA8I"
      },
      "source": [
        "Relational Model Versus Document Model\n",
        "\n",
        "The Birth of NosQL\n",
        "\n",
        "The Object-Relational Mismatch\n",
        "\n",
        "Many-to-One and Many-to-Many  Relantionships\n",
        "\n",
        "Are Document Databases Repeating History?\n",
        "\n",
        "The network model\n",
        "\n",
        "The relational model\n",
        "\n",
        "Comparison to document databases\n",
        "\n",
        "Relational Versus Document Databases Today\n",
        "\n",
        "Which data model leads to simpler application code?\n",
        "\n",
        "Schema flexibility in the document model\n",
        "\n",
        "Data locality for queries\n",
        "\n",
        "Convergence of document and relational databases\n",
        "\n",
        "Query Languages for Data\n",
        "\n",
        "Declarative Queries on the Web\n",
        "\n",
        "MapReduce Querying\n",
        "\n",
        "Graph-Like Data Models\n",
        "\n",
        "Property Graphs\n",
        "\n",
        "The Cypher Query Language\n",
        "\n",
        "Graph Queries in SQL\n",
        "\n",
        "Triple-Stores and SPARQL\n",
        "\n",
        "The semantic web\n",
        "\n",
        "The RDF data model\n",
        "\n",
        "The SPARQL query language\n",
        "\n",
        "Graph Databases Compared to the Network Model\n",
        "\n",
        "The Foundation: Datalog\n",
        "\n"
      ]
    },
    {
      "cell_type": "markdown",
      "metadata": {
        "id": "3ATwzErL158Z"
      },
      "source": [
        "### Storage and Retrieval\n",
        "Internals of storage engines and looks ott how databases lay out data on disk. \n",
        "Different storage engines are optimized for eifernt workaload, and choossing the right aone can have a huge effect on performace."
      ]
    },
    {
      "cell_type": "markdown",
      "metadata": {
        "id": "iO89D5-fnoK4"
      },
      "source": [
        "Data Structures That Power Your Database\n",
        "\n",
        "Hash Indexes\n",
        "\n",
        "SSTAbles and LSM-Trees\n",
        "\n",
        "Constructing and maintaining SSTables\n",
        "\n",
        "Making an LSM-Tree out of SSTables\n",
        "\n",
        "Performace optimizations\n",
        "\n",
        "B-Trees\n",
        "\n",
        "Making B-trees reliable \n",
        "\n",
        "B-tree optimizations\n",
        "\n",
        "Comparing B-Tres and LSM-Trees\n",
        "\n",
        "Advantages of LSM-trees\n",
        "\n",
        "Downsides of LSM-trees\n",
        "\n",
        "Other Indexing Structures\n",
        "\n",
        "Storing values within the index\n",
        "\n",
        "Multi-column indexes\n",
        "\n",
        "Full-text search and fuzzy indexes\n",
        "\n",
        "Keeping everything in memory\n",
        "\n",
        "Transaction Processing or Analytics?\n",
        "\n",
        "Data Warehousing\n",
        "\n",
        "The divergence between OLTP databases and data warehouses\n",
        "\n",
        "Stars and Snowflakes: Schemas for Analytics\n",
        "\n",
        "Column-Oriented Storage\n",
        "\n",
        "Column Compression\n",
        "\n",
        "Memory bandwidth and vectorized processing\n",
        "\n",
        "Sort Order in Column Storage\n",
        "\n",
        "Several defferent sort orders\n",
        "\n",
        "Writing to Column-Oriented Storage\n",
        "\n",
        "Aggregation: Data Cubes adn Materialzed Views"
      ]
    },
    {
      "cell_type": "markdown",
      "metadata": {
        "id": "C0AsTWd51_jU"
      },
      "source": [
        "### Encoding and Evolution\n",
        "\n",
        "Compares various format for data encoding (serialization) and specially examies how they fare in an einvonrment whre aplication requeriemtns change and schemas need to adapt over time."
      ]
    },
    {
      "cell_type": "markdown",
      "metadata": {
        "id": "s-nDbAU2rlKk"
      },
      "source": [
        "Format for Encoding Data\n",
        "\n",
        "Language-Specific Formats\n",
        "\n",
        "JSON, XML, and Binary Variants\n",
        "\n",
        "Binary encoding\n",
        "\n",
        "Thrift and Protocol Buffers\n",
        "\n",
        "Field tags and schema evolution\n",
        "\n",
        "Datatypes and schema evolution\n",
        "\n",
        "Avro\n",
        "\n",
        "The writer's schema and the reader's schema\n",
        "\n",
        "Schema evolution rules\n",
        "\n",
        "But what is the writer's schema?\n",
        "\n",
        "Dynamically genereated schemas\n",
        "\n",
        "Code generation and dynamically typed languages\n",
        "\n",
        "The Merits of Schemas\n",
        "\n",
        "Models of Dataflow\n",
        "\n",
        "Dataflow Through Databases\n",
        "\n",
        "Different values written times\n",
        "\n",
        "Archival storage\n",
        "\n",
        "Dataflow Through Services: REST adn RPC\n",
        "\n",
        "Web Services\n",
        "\n",
        "The Problem with remote procedure calls (RPCs)\n",
        "\n",
        "Current directions for RPC\n",
        "\n",
        "Data encoding and evolution for RPC\n",
        "\n",
        "Message-Passing Dataflow\n",
        "\n",
        "Message brokers\n",
        "\n",
        "Distributed actor frameworks"
      ]
    },
    {
      "cell_type": "markdown",
      "metadata": {
        "id": "9n6yZ3Cy2DO8"
      },
      "source": [
        "## Distributed Data"
      ]
    },
    {
      "cell_type": "markdown",
      "metadata": {
        "id": "Du0evWfr2GKG"
      },
      "source": [
        "### Replication\n",
        "\n",
        "Replication means keeping a copy of the same data on multiple machines that are connected via a network."
      ]
    },
    {
      "cell_type": "markdown",
      "metadata": {
        "id": "dtitWyCSvAz3"
      },
      "source": [
        "Leaders and Followers\n",
        "\n",
        "Synchonous Versus Asynchronous Replication\n",
        "\n",
        "Setting Up New Followers\n",
        "\n",
        "Handling Node Outages\n",
        "\n",
        "Follower failure: Catch-up recovery\n",
        "\n",
        "Leader failure: Failover\n",
        "\n",
        "Implementation of Replication Logs\n",
        "\n",
        "Statement-based replication\n",
        "\n",
        "Write-ahead log (WAL) shipping\n",
        "\n",
        "Logical (row-based) log replication\n",
        "\n",
        "Trigger-based replication\n",
        "\n",
        "Problems with Replication Lag\n",
        "\n",
        "Reading Your Own Writes\n",
        "\n",
        "Monotonic Reads\n",
        "\n",
        "Consistent Prefix Reads\n",
        "\n",
        "Solution for Replication Lag\n",
        "\n",
        "Multi-Reader Replication\n",
        "\n",
        "Use Cases for Multi-Leader Replication\n",
        "\n",
        "Multi-datacenter operation\n",
        "\n",
        "Clients with offline operation\n",
        "\n",
        "Collaborative editing\n",
        "\n",
        "Handling Write Conflicts\n",
        "\n",
        "Synchronous versus asynchronous conflic detection\n",
        "\n",
        "Conflict avoidance\n",
        "\n",
        "Converging toward a consistent state\n",
        "\n",
        "Custom conflict resolution logic\n",
        "\n",
        "Automatic Conflict Resolution\n",
        "\n",
        "Multi-Learder Replication Topologies\n",
        "\n",
        "Leaderless Replication\n",
        "\n",
        "Writing to the Database When a Node Is Down\n",
        "\n",
        "Read repair and anti-entropy\n",
        "\n",
        "Quorums for reading and writing\n",
        "\n",
        "Limitations of Quorum Consistency\n",
        "\n",
        "Monitoring  staleness\n",
        "\n",
        "Sloppy Quorums and Hinted Handoff\n",
        "\n",
        "Multi-datacenter operation\n",
        "\n",
        "Detecting Concurrent Writes\n",
        "\n",
        "Last write wins (discarding concurrent writes)\n",
        "\n",
        "The \"happends-before\" relantionships and concurrency\n",
        "\n",
        "Concurrency, Time, and Relativity\n",
        "\n",
        "Capturing the happends-before relationship\n",
        "\n",
        "Merging concurrently written values\n",
        "\n",
        "Version vectors\n",
        "\n",
        "Version vectors and vector clocks"
      ]
    },
    {
      "cell_type": "markdown",
      "metadata": {
        "id": "znsinpjR2H2L"
      },
      "source": [
        "### Partitioning\n",
        "\n",
        "A partition is a division of a logical database or its constituent elements into distinct independent parts. \n"
      ]
    },
    {
      "cell_type": "markdown",
      "metadata": {
        "id": "PbQ3Oycg55ZP"
      },
      "source": [
        "Partitioning and Replication\n",
        "\n",
        "Partitioning of Key-Value Data\n",
        "\n",
        "Partitioning by Key Range\n",
        "\n",
        "Partitioning by Hash of Key\n",
        "\n",
        "Consistent Hashing\n",
        "\n",
        "Swewed Workloads and Relieving Hot Spots\n",
        "\n",
        "Partitionig and Secondary Indexes\n",
        "\n",
        "Partioning Secondary Indexes by Document\n",
        "\n",
        "Partioning Secondary Indexes by Term\n",
        "\n",
        "Rebalancing Partitions\n",
        "\n",
        "Strategies for Rebalancing\n",
        "\n",
        "Request Routing\n",
        "\n",
        "Paralell Query Execution"
      ]
    },
    {
      "cell_type": "markdown",
      "metadata": {
        "id": "54b-jJco2KFS"
      },
      "source": [
        "### Transactions"
      ]
    },
    {
      "cell_type": "markdown",
      "metadata": {
        "id": "IYRo6wkJBsjZ"
      },
      "source": [
        "The Slippery Concept of a Transaction \n",
        "\n",
        "The Meaning of ACID\n",
        "\n",
        "Atomicity \n",
        "\n",
        "Consistency \n",
        "\n",
        "Isolation\n",
        "\n",
        "Durability\n",
        "\n",
        "Single-Object and Multi-Object Operations\n",
        "\n",
        "Single-object writes\n",
        "\n",
        "The need for multi-object transactions\n",
        "\n",
        "Handling errors and aborts\n",
        "\n",
        "Weak Isolation Levels\n",
        "\n",
        "Read Commited\n",
        "\n",
        "Implementing read commited \n",
        "\n",
        "Snapshot Isolation and Repeatable Read\n",
        "\n",
        "Implementing snapshot isolation\n",
        "\n",
        "Visibility rules for observing a cosistent snapshot \n",
        "\n",
        "Indexes and snapshot isolation\n",
        "\n",
        "Repeatable read and naming confusion\n",
        "\n",
        "Preventing Lost Updates\n",
        "\n",
        "Atomic write operations\n",
        "\n",
        "Explicit locking\n",
        "\n",
        "Automatically detecting lost updates\n",
        "\n",
        "Compare-end-set\n",
        "\n",
        "Conflict resolution and replication\n",
        "\n",
        "Write Skew and Phantoms\n",
        "\n",
        "Characterizing write skew\n",
        "\n",
        "Serializability\n",
        "\n",
        "Actual Serial Execution\n",
        "\n",
        "Encapsulating transactions in stored procedures\n",
        "\n",
        "Pros and const of stored procedures\n",
        "\n",
        "Partitioning\n",
        "\n",
        "Two-Phase-Locking\n",
        "\n",
        "Implementing of two-phase locking\n",
        "\n",
        "Performace of two-phase locking\n",
        "\n",
        "Predicate locks\n",
        "\n",
        "Index-range locks\n",
        "\n",
        "Serializable Snapshot Isolation (SSI)\n",
        "\n",
        "Detecting stale MVCC reads\n",
        "\n",
        "Detecting writes that effect prior reads\n",
        "\n",
        "Performace of serializable snapshot isolation"
      ]
    },
    {
      "cell_type": "markdown",
      "metadata": {
        "id": "NZCodT2O2MbG"
      },
      "source": [
        "### The Trouble with Distributed Systems"
      ]
    },
    {
      "cell_type": "markdown",
      "metadata": {
        "id": "u528nzoxHodo"
      },
      "source": [
        "Faults and Partial Failures\n",
        "\n",
        "Cloud Computing and Supercomputing\n",
        "\n",
        "Building a Reliable System from Unreliable Components\n",
        "\n",
        "Unreliable Networks\n",
        "\n",
        "Network Faults in Practice\n",
        "\n",
        "Detecing Faults\n",
        "\n",
        "Timeouts and Unbounded Delays\n",
        "\n",
        "TCP Versus UDP\n",
        "\n",
        "Synchonous Versus Asynchonous Networks\n",
        "\n",
        "Latency and Resource Utilization \n",
        "\n",
        "Unreliable Clocks\n",
        "\n",
        "Monotonic Versus Time-of-Day Clocks\n",
        "\n",
        "Clock Synchonization and Accuracy\n",
        "\n",
        "Relying on Synchonized Clocks\n",
        "\n",
        "Timestamps for ordering events\n",
        "\n",
        "Clock readings have a confidence interval\n",
        "\n",
        "Synchonized clocks for global snapshots \n",
        "\n",
        "Process Pauses\n",
        "\n",
        "Response time guarantees\n",
        "\n",
        "Limiting the impact of garbage collection\n",
        "\n",
        "Knowlege, Truth, and Lies\n",
        "\n",
        "The Truth Is Defined by the Majority\n",
        "\n",
        "The leader and the lock\n",
        "\n",
        "Facing tokens\n",
        "\n",
        "Byzantime Faults\n",
        "\n",
        "System Model and Reality\n",
        "\n",
        "Correctness of an algorithm\n",
        "\n",
        "Safety and liveness\n",
        "\n",
        "Mapping system models to the real world"
      ]
    },
    {
      "cell_type": "markdown",
      "metadata": {
        "id": "rRzBYpT52REJ"
      },
      "source": [
        "### Consistency and Consensus"
      ]
    },
    {
      "cell_type": "markdown",
      "metadata": {
        "id": "L1fOjA19MJ2b"
      },
      "source": [
        "Consistency Guarantees\n",
        "\n",
        "Linearizability \n",
        "\n",
        "What Makes a System Linearizable?\n",
        "\n",
        "Linearizability Versus Serializability\n",
        "\n",
        "Relying on Linearizability\n",
        "\n",
        "The CAP theorem\n",
        "\n",
        "The Unhelpful CAP Theorem\n",
        "\n",
        "Ordering Guarantees\n",
        "\n",
        "Ordering and Causality\n",
        "\n",
        "The causal order is not a total order\n",
        "\n",
        "Sequence Number Ordering\n",
        "\n",
        "Lamport timestamps\n",
        "\n",
        "Timesstamp ordering is not sufficient\n",
        "\n",
        "Total Order Broadcast\n",
        "\n",
        "Distributed Transactions and Consensus\n",
        "\n",
        "The Imposiblity of Consensus\n",
        "\n",
        "Atomic Commit and Two-Phased (2PC)\n",
        "\n",
        "From single-node to distributed atomic commit\n",
        "\n",
        "Introduction to two-phased commit\n",
        "\n",
        "Coordinator failure\n",
        "\n",
        "Three-phased commit\n",
        "\n",
        "Distributed Transactions in Practice\n",
        "\n",
        "XA transactions\n",
        "\n",
        "Holding locks while in doubt\n",
        "\n",
        "Recovering from coordinator failure\n",
        "\n",
        "Limitations of distributed transactions\n",
        "\n",
        "Fault-Tolerant Consensus\n",
        "\n",
        "Consensus algorithms and total order broadcast\n",
        "\n",
        "Single-leader replication and consensus\n",
        "\n",
        "Epoch numering and quorums\n",
        "\n",
        "Limitations of consensus\n",
        "\n",
        "Membership and Coordination Services\n",
        "\n",
        "Allocating work to nodes\n",
        "\n",
        "Service discovery\n",
        "\n",
        "Memberhip services\n",
        "\n"
      ]
    },
    {
      "cell_type": "markdown",
      "metadata": {
        "id": "DeAhMvfX2Uzv"
      },
      "source": [
        "## Derived Data"
      ]
    },
    {
      "cell_type": "markdown",
      "metadata": {
        "id": "SAd-hdg_2W8n"
      },
      "source": [
        "### Batch Processing"
      ]
    },
    {
      "cell_type": "markdown",
      "metadata": {
        "id": "Fa0GLEwdRltL"
      },
      "source": [
        "Batch Processing with Unix Tools\n",
        "\n",
        "Simple  Log Analysis\n",
        "\n",
        "Chain of commands versus custom program\n",
        "\n",
        "The Unix Philosophy\n",
        "\n",
        "MapReduce and Distributed Systems\n",
        "\n",
        "MapReduce Job Execution\n",
        "\n",
        "MapReduce workflows\n",
        "\n",
        "Reduce-Side Joins and Grouping\n",
        "\n",
        "Sort-merge joins\n",
        "\n",
        "Map-Side Joins\n",
        "\n",
        "Broadcat hash joins\n",
        "\n",
        "Partioned hash joins\n",
        "\n",
        "The Output of Batch Workflows \n",
        "\n",
        "Building search indexes \n",
        "\n",
        "Comparign Hadoop to Distributed Databases\n",
        "\n",
        "Beyond MapReduce\n",
        "\n",
        "Materialization of Intermediate State\n",
        "\n",
        "Dataflow engines\n",
        "\n",
        "Fault tolerance\n",
        "\n",
        "Discussion of materialization\n",
        "\n",
        "Graphs and Iterative Processing\n",
        "\n",
        "The Pregel processing model\n",
        "\n",
        "Fault tolerance\n",
        "\n",
        "Parallel execution\n",
        "\n",
        "High-Level APIs and Languages"
      ]
    },
    {
      "cell_type": "markdown",
      "metadata": {
        "id": "qfXlIRXd2Z8l"
      },
      "source": [
        "### Stream Processing"
      ]
    },
    {
      "cell_type": "markdown",
      "metadata": {
        "id": "3D7GC6O2ThMj"
      },
      "source": [
        "Transmitting Event Streams\n",
        "\n",
        "Messagign Systems\n",
        "\n",
        "Direct messaging from producers to consumers\n",
        "\n",
        "Message brokers\n",
        "\n",
        "Message brokers compared to databases\n",
        "\n",
        "Multiple consumers\n",
        "\n",
        "Partioned Logs\n",
        "\n",
        "Using logs for message storage\n",
        "\n",
        "Logs compared to traditional messaging\n",
        "\n",
        "Consumer offsets\n",
        "\n",
        "Disk space usage\n",
        "\n",
        "When consumers cannot keep up with producers\n",
        "\n",
        "Replaying old messages\n",
        "\n",
        "Databases and Streams\n",
        "\n",
        "keeping Systems in Sync\n",
        "\n",
        "Change Data Capture\n",
        "\n",
        "Implementing change data capture\n",
        "\n",
        "Initial snapshot\n",
        "\n",
        "Log compaction \n",
        "\n",
        "API support for change streams\n",
        "\n",
        "Event Sourcing\n",
        "\n",
        "Commands and events\n",
        "\n",
        "State, Streams, and Inmutability\n",
        "\n",
        "Deriving several views from the same event log\n",
        "\n",
        "Concurrency control\n",
        "\n",
        "Limitations of immutability\n",
        "\n",
        "Processing Streams\n",
        "\n",
        "Use of Stream Processing\n",
        "\n",
        "Complex event processing\n",
        "\n",
        "Stream analytics\n",
        "\n",
        "Maintaining materialized views\n",
        "\n",
        "Search on streams\n",
        "\n",
        "Message passing and RPC\n",
        "\n",
        "Reasoning About Time\n",
        "\n",
        "Types of windows\n",
        "\n",
        "Fault Tolerance\n",
        "\n"
      ]
    },
    {
      "cell_type": "markdown",
      "metadata": {
        "id": "c9GO1qjj2deX"
      },
      "source": [
        "### The Future of Data Systems"
      ]
    },
    {
      "cell_type": "markdown",
      "metadata": {
        "id": "s9gypyHbWy_w"
      },
      "source": [
        "Data Integration \n",
        "\n",
        "Combining Specialized Tools by Deriving Data\n",
        "\n",
        "Reasoning about dataflows\n",
        "\n",
        "Batch and Stream Processing\n",
        "\n",
        "The lambda architecture\n",
        "\n",
        "End-to-End Argument for Databases\n",
        "\n",
        "Predictive Analytics\n",
        "\n",
        "Feedback loops"
      ]
    }
  ]
}