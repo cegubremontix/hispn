{
  "nbformat": 4,
  "nbformat_minor": 0,
  "metadata": {
    "kernelspec": {
      "display_name": "Python 2.7.18 64-bit",
      "name": "python2718jvsc74a57bd0f92b2924b84ff19c1c3dc485f7644d4486f64738191026bf8e6de303969141b5"
    },
    "language_info": {
      "name": "python",
      "version": ""
    },
    "metadata": {
      "interpreter": {
        "hash": "f92b2924b84ff19c1c3dc485f7644d4486f64738191026bf8e6de303969141b5"
      }
    },
    "orig_nbformat": 2,
    "colab": {
      "name": "Designing Data-Intensive Applications.ipynb",
      "provenance": [],
      "include_colab_link": true
    }
  },
  "cells": [
    {
      "cell_type": "markdown",
      "metadata": {
        "id": "view-in-github",
        "colab_type": "text"
      },
      "source": [
        "<a href=\"https://colab.research.google.com/github/dbremont/Notas/blob/main/Libros/Computacion/Designing%20Data-Intensive%20Applications.ipynb\" target=\"_parent\"><img src=\"https://colab.research.google.com/assets/colab-badge.svg\" alt=\"Open In Colab\"/></a>"
      ]
    },
    {
      "cell_type": "markdown",
      "metadata": {
        "id": "gIeEFupX5V8h"
      },
      "source": [
        "Designing Data-Intensive Applications"
      ]
    },
    {
      "cell_type": "markdown",
      "metadata": {
        "id": "sbeWBet01Pdg"
      },
      "source": [
        "## Foundation of Data Systems"
      ]
    },
    {
      "cell_type": "markdown",
      "metadata": {
        "id": "gIvyQLH-1w5U"
      },
      "source": [
        "### Reliable, Scalable, and Maintainable Applications\n",
        "\n",
        "Terminology and approach that we're going to use throughout this book. It examines waht we we actually mean by words like **reliability**, **scalability**, and **mantainability**, and how we can try to archieve these goals"
      ]
    },
    {
      "cell_type": "markdown",
      "metadata": {
        "id": "IJVoxmGd4G29"
      },
      "source": [
        "- databases: Store data so that an application, can ifnd it again later.\n",
        "- caches: remember the result of an expeisive operation, to speed up reads\n",
        "- search indexes: allow user to search data by keyword or filter it in various ways\n",
        "- stream procesing: send a message to another proces, to be handle asynchronously\n",
        "- batch processing: periodicaly crunc a large amount of accumulated data\n",
        "\n",
        "**Reliability**\n",
        "\n",
        "The system should continue to work *correctly* (performing the correct function at the desired level of performace) even in the face of adversity (hardware or softawre fauls, and even human error).\n",
        "\n",
        "**Scalability**\n",
        "\n",
        "AS the system grows (in data volume, traffic volume, or complexity), there should be reasonable ways of dealing with that growth.\n",
        "\n",
        "**Maintainability**\n",
        "\n",
        "Overtime, many different people wil work on system (engineering and opeartion, boths maintainign current behavior and adapting the system to new use cases), and they  should al be able to work on it *productively*\n",
        "\n",
        "**Describing load**\n",
        "\n",
        "todo\n",
        "\n",
        "**Describing Performace**\n",
        "\n",
        "todo\n",
        "\n",
        "**Approaches for Copign with Load**\n",
        "\n",
        "todo\n",
        "\n",
        "**Operability: Making Life Easy for Operations**\n",
        "\n",
        "todo\n",
        "\n",
        "**Data System**\n",
        "\n",
        "  ![Data System](https://ebrary.net/htm/img/15/554/3.png)\n",
        "\n"
      ]
    },
    {
      "cell_type": "markdown",
      "metadata": {
        "id": "AMa7wA1k114z"
      },
      "source": [
        "### Data Models and Query Languages\n",
        "Compares several difernt data models and query langagues- the most visible distringuishing factor between databases from a dveloper's point of view. We will se diferent models are approapiate to different situations."
      ]
    },
    {
      "cell_type": "markdown",
      "metadata": {
        "id": "3ATwzErL158Z"
      },
      "source": [
        "### Storage and Retrieval\n",
        "Internals of storage engines and looks ott how databases lay out data on disk. \n",
        "Different storage engines are optimized for eifernt workaload, and choossing the right aone can have a huge effect on performace."
      ]
    },
    {
      "cell_type": "markdown",
      "metadata": {
        "id": "C0AsTWd51_jU"
      },
      "source": [
        "### Encoding and Evolution\n",
        "\n",
        "Compares variuso format for data encoding (serialization) and specially examies how they fare in an einvonrment whre aplication requeriemtns change and schemas need to adapt over time."
      ]
    },
    {
      "cell_type": "markdown",
      "metadata": {
        "id": "9n6yZ3Cy2DO8"
      },
      "source": [
        "## Distributed Data"
      ]
    },
    {
      "cell_type": "markdown",
      "metadata": {
        "id": "Du0evWfr2GKG"
      },
      "source": [
        "### Replication"
      ]
    },
    {
      "cell_type": "markdown",
      "metadata": {
        "id": "znsinpjR2H2L"
      },
      "source": [
        "### Partitioning"
      ]
    },
    {
      "cell_type": "markdown",
      "metadata": {
        "id": "54b-jJco2KFS"
      },
      "source": [
        "### Transactions"
      ]
    },
    {
      "cell_type": "markdown",
      "metadata": {
        "id": "NZCodT2O2MbG"
      },
      "source": [
        "### The Trouble with Distributed Systems"
      ]
    },
    {
      "cell_type": "markdown",
      "metadata": {
        "id": "rRzBYpT52REJ"
      },
      "source": [
        "### Consistency and Consensus"
      ]
    },
    {
      "cell_type": "markdown",
      "metadata": {
        "id": "DeAhMvfX2Uzv"
      },
      "source": [
        "## Derived Data"
      ]
    },
    {
      "cell_type": "markdown",
      "metadata": {
        "id": "SAd-hdg_2W8n"
      },
      "source": [
        "### Batch Processing"
      ]
    },
    {
      "cell_type": "markdown",
      "metadata": {
        "id": "qfXlIRXd2Z8l"
      },
      "source": [
        "### Stream Processing"
      ]
    },
    {
      "cell_type": "markdown",
      "metadata": {
        "id": "c9GO1qjj2deX"
      },
      "source": [
        "### The Future of Data Systems"
      ]
    }
  ]
}