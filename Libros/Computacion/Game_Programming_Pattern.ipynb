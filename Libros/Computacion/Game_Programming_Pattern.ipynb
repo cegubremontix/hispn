{
  "nbformat": 4,
  "nbformat_minor": 0,
  "metadata": {
    "colab": {
      "name": "Game Programming Pattern.ipynb",
      "provenance": [],
      "authorship_tag": "ABX9TyP9QA2nrOGGXVjoJO1nXsF4",
      "include_colab_link": true
    },
    "kernelspec": {
      "name": "python3",
      "display_name": "Python 3"
    },
    "language_info": {
      "name": "python"
    }
  },
  "cells": [
    {
      "cell_type": "markdown",
      "metadata": {
        "id": "view-in-github",
        "colab_type": "text"
      },
      "source": [
        "<a href=\"https://colab.research.google.com/github/dbremont/Notas/blob/main/Libros/Computacion/Game_Programming_Pattern.ipynb\" target=\"_parent\"><img src=\"https://colab.research.google.com/assets/colab-badge.svg\" alt=\"Open In Colab\"/></a>"
      ]
    },
    {
      "cell_type": "markdown",
      "metadata": {
        "id": "rpOzVv_gx14P"
      },
      "source": [
        "# Game Programming Pattern\n",
        "Libros/Computacion"
      ]
    },
    {
      "cell_type": "markdown",
      "metadata": {
        "id": "4PLBXhPL0Lwy"
      },
      "source": [
        "- [Game Programming Pattern](https://craftinginterpreters.com/)"
      ]
    }
  ]
}