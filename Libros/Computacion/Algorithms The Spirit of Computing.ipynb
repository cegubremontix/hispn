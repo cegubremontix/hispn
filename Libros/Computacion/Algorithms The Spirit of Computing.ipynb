{
 "cells": [
  {
   "cell_type": "markdown",
   "metadata": {},
   "source": [
    "Preliminaries\n",
    "\n",
    "1. Introduction and Historical Review\n",
    "2. Algorithms and Data\n",
    "3. Programming Languages\n",
    "\n",
    "Methods and Analysis\n",
    "4. Algorithmic Methods\n",
    "5. The Correctness of Algorithms\n",
    "6. The Efficiency of Algorithms\n",
    "\n",
    "Limitations and Robustness\n",
    "7. Inneficiency and Intractability\n",
    "8. Noncomputability and Undecidability\n",
    "9. Algorithmic Universality and Its Robustness\n",
    "\n",
    "Relaxing and Rules\n",
    "10. Parallelism and Concurrency\n",
    "11. Probabilistic Algorithms\n",
    "12. Algorithms and Intelligence\n",
    "\n"
   ]
  }
 ],
 "metadata": {
  "kernelspec": {
   "display_name": "Python 2.7.18 64-bit",
   "name": "python2718jvsc74a57bd0f92b2924b84ff19c1c3dc485f7644d4486f64738191026bf8e6de303969141b5"
  },
  "language_info": {
   "name": "python",
   "version": ""
  },
  "metadata": {
   "interpreter": {
    "hash": "f92b2924b84ff19c1c3dc485f7644d4486f64738191026bf8e6de303969141b5"
   }
  },
  "orig_nbformat": 2
 },
 "nbformat": 4,
 "nbformat_minor": 2
}