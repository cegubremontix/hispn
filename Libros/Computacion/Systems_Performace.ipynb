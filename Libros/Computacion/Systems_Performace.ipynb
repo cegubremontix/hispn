{
  "nbformat": 4,
  "nbformat_minor": 0,
  "metadata": {
    "kernelspec": {
      "display_name": "Python 2.7.18 64-bit",
      "name": "python2718jvsc74a57bd0f92b2924b84ff19c1c3dc485f7644d4486f64738191026bf8e6de303969141b5"
    },
    "language_info": {
      "name": "python",
      "version": ""
    },
    "metadata": {
      "interpreter": {
        "hash": "f92b2924b84ff19c1c3dc485f7644d4486f64738191026bf8e6de303969141b5"
      }
    },
    "orig_nbformat": 2,
    "colab": {
      "name": "Systems Performace.ipynb",
      "provenance": [],
      "toc_visible": true,
      "include_colab_link": true
    }
  },
  "cells": [
    {
      "cell_type": "markdown",
      "metadata": {
        "id": "view-in-github",
        "colab_type": "text"
      },
      "source": [
        "<a href=\"https://colab.research.google.com/github/dbremont/Notas/blob/main/Libros/Computacion/Systems_Performace.ipynb\" target=\"_parent\"><img src=\"https://colab.research.google.com/assets/colab-badge.svg\" alt=\"Open In Colab\"/></a>"
      ]
    },
    {
      "cell_type": "markdown",
      "metadata": {
        "id": "Ujl6JM5b6PF_"
      },
      "source": [
        "System Performace"
      ]
    },
    {
      "cell_type": "markdown",
      "metadata": {
        "id": "v2RXPuvqWgwg"
      },
      "source": [
        "## Introduction"
      ]
    },
    {
      "cell_type": "markdown",
      "metadata": {
        "id": "1O-Hr2AlWjjz"
      },
      "source": [
        "## Methodology"
      ]
    },
    {
      "cell_type": "markdown",
      "metadata": {
        "id": "ekMtt1-QWlv_"
      },
      "source": [
        "## Operating Systems"
      ]
    },
    {
      "cell_type": "markdown",
      "metadata": {
        "id": "6ojAWbATWntp"
      },
      "source": [
        "## Observability Tools"
      ]
    },
    {
      "cell_type": "markdown",
      "metadata": {
        "id": "ksYxUiN2WyTS"
      },
      "source": [
        "## Applications"
      ]
    },
    {
      "cell_type": "markdown",
      "metadata": {
        "id": "BMhTysAQW0OA"
      },
      "source": [
        "## CPUs"
      ]
    },
    {
      "cell_type": "markdown",
      "metadata": {
        "id": "jaBFXyEyW14F"
      },
      "source": [
        "## Memory"
      ]
    },
    {
      "cell_type": "markdown",
      "metadata": {
        "id": "m0lIMWPwW4DG"
      },
      "source": [
        "## File Systems"
      ]
    },
    {
      "cell_type": "markdown",
      "metadata": {
        "id": "d6DBL5etW6VI"
      },
      "source": [
        "## Disks"
      ]
    },
    {
      "cell_type": "markdown",
      "metadata": {
        "id": "H_h_TNcwW9RP"
      },
      "source": [
        "## Network"
      ]
    },
    {
      "cell_type": "markdown",
      "metadata": {
        "id": "xV7-LjR3XBCz"
      },
      "source": [
        "## Cloud Computing"
      ]
    },
    {
      "cell_type": "markdown",
      "metadata": {
        "id": "hnWFrbrRXDnJ"
      },
      "source": [
        "## Benchmarking"
      ]
    },
    {
      "cell_type": "markdown",
      "metadata": {
        "id": "voZWz9l2XF2N"
      },
      "source": [
        "## Case Study"
      ]
    },
    {
      "cell_type": "markdown",
      "metadata": {
        "id": "c5xJq33YXHYo"
      },
      "source": [
        "## USE Method: Linux"
      ]
    },
    {
      "cell_type": "markdown",
      "metadata": {
        "id": "JlY1JVuKXLzi"
      },
      "source": [
        "## USE Method: Solaris"
      ]
    },
    {
      "cell_type": "markdown",
      "metadata": {
        "id": "ymAXg1g5XNQi"
      },
      "source": [
        "## sar Summary"
      ]
    },
    {
      "cell_type": "markdown",
      "metadata": {
        "id": "af8fcj94XP_H"
      },
      "source": [
        "## DTrace One-Liners"
      ]
    },
    {
      "cell_type": "markdown",
      "metadata": {
        "id": "Uyiq7S2OXTSE"
      },
      "source": [
        "## DTrace to SystemTap"
      ]
    },
    {
      "cell_type": "markdown",
      "metadata": {
        "id": "MNYlbnG_XWRW"
      },
      "source": [
        "## Solutions to Selected Exercises"
      ]
    },
    {
      "cell_type": "markdown",
      "metadata": {
        "id": "j2wsJK5AXczG"
      },
      "source": [
        "## Systems Performace Who's Who"
      ]
    }
  ]
}