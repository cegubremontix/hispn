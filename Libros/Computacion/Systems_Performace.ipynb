{
  "nbformat": 4,
  "nbformat_minor": 0,
  "metadata": {
    "kernelspec": {
      "display_name": "Python 2.7.18 64-bit",
      "name": "python2718jvsc74a57bd0f92b2924b84ff19c1c3dc485f7644d4486f64738191026bf8e6de303969141b5"
    },
    "language_info": {
      "name": "python",
      "version": ""
    },
    "metadata": {
      "interpreter": {
        "hash": "f92b2924b84ff19c1c3dc485f7644d4486f64738191026bf8e6de303969141b5"
      }
    },
    "orig_nbformat": 2,
    "colab": {
      "name": "Systems Performace.ipynb",
      "provenance": [],
      "toc_visible": true,
      "include_colab_link": true
    }
  },
  "cells": [
    {
      "cell_type": "markdown",
      "metadata": {
        "id": "view-in-github",
        "colab_type": "text"
      },
      "source": [
        "<a href=\"https://colab.research.google.com/github/dbremont/Notas/blob/main/Libros/Computacion/Systems_Performace.ipynb\" target=\"_parent\"><img src=\"https://colab.research.google.com/assets/colab-badge.svg\" alt=\"Open In Colab\"/></a>"
      ]
    },
    {
      "cell_type": "markdown",
      "metadata": {
        "id": "Ujl6JM5b6PF_"
      },
      "source": [
        "System Performace"
      ]
    },
    {
      "cell_type": "markdown",
      "metadata": {
        "id": "v2RXPuvqWgwg"
      },
      "source": [
        "## Introduction"
      ]
    },
    {
      "cell_type": "markdown",
      "metadata": {
        "id": "gBhczDkZb_s5"
      },
      "source": [
        "Systems are complex\n",
        "\n",
        "Latency\n",
        "\n",
        "Dynamic tracing\n",
        "\n",
        "Cloud Computing\n",
        "\n",
        "Slow Disks\n",
        "\n",
        "Software Change"
      ]
    },
    {
      "cell_type": "markdown",
      "metadata": {
        "id": "1O-Hr2AlWjjz"
      },
      "source": [
        "## Methodology"
      ]
    },
    {
      "cell_type": "markdown",
      "metadata": {
        "id": "ZtyWz5mFcdf9"
      },
      "source": [
        "IOPS\n",
        "\n",
        "Throughput\n",
        "\n",
        "Response time\n",
        "\n",
        "Latency\n",
        "\n",
        "Utilization\n",
        "\n",
        "Saturation\n",
        "\n",
        "Bottleenck\n",
        "\n",
        "Workload\n",
        "\n",
        "Cache\n",
        "\n",
        "Models\n",
        "\n",
        "System under test\n",
        "\n",
        "Queueing System\n",
        "\n",
        "Time Scales\n",
        "\n",
        "Trade-offs\n",
        "\n",
        "Tuning Efforts\n",
        "\n",
        "Layer\n",
        "- Aplication\n",
        "- Database\n",
        "- System calls\n",
        "- File system\n",
        "- Storage\n",
        "\n",
        "Level of appropriateness\n",
        "\n",
        "Point-in-Time Recommendations\n",
        "\n",
        "Load Versus Architecture\n",
        "\n",
        "Scalability\n",
        "\n",
        "Known-knowns\n",
        "\n",
        "known-unknowns\n",
        "\n",
        "unknown-unknowns\n",
        "\n",
        "Metrics\n",
        "\n",
        "- IOPS\n",
        "- Throughput\n",
        "- Utilization\n",
        "- Latency\n",
        "\n",
        "Overhead\n",
        "\n",
        "Issues\n",
        "\n",
        "Utilization\n",
        "\n",
        "Time Based\n",
        "\n",
        "Capacity Based\n",
        "\n",
        "Non-Idle Time\n",
        "\n",
        "Saturationn\n",
        "\n",
        "Profiling\n",
        "\n",
        "Catching\n",
        "\n",
        "Algorithms\n",
        "\n",
        "Hot, Cold, and Warm Caches\n",
        "\n",
        "- Cold\n",
        "- Hot\n",
        "- Warm\n",
        "- Warmth\n",
        "\n",
        "Perspectives\n",
        "\n",
        "Resource Analysis\n",
        "\n",
        "Performace issue investigations\n",
        "\n",
        "Capacity planning\n",
        "\n",
        "Metrics best suited for resource analysis include:\n",
        "\n",
        "- IOPS\n",
        "- Throughput\n",
        "- Utilization\n",
        "- Saturation\n",
        "\n",
        "Workload Analysis\n",
        "\n",
        "Requests\n",
        "\n",
        "Latency\n",
        "\n",
        "Completation\n",
        "\n",
        "Methodology\n",
        "\n",
        "- Streetlight anti-method\n",
        "- Random change anti-method\n",
        "- Blame-someone-else anti-method\n",
        "- Ad hoc checklist method\n",
        "- Problem statement\n",
        "- Scientific method\n",
        "- Diagnosis cycle\n",
        "- Tools method\n",
        "- USE method\n",
        "- Workload characterization\n",
        "- Drill-down analysis\n",
        "- Latency analysis\n",
        "- Method R\n",
        "- Event Tracing\n",
        "- Baseline Statistics\n",
        "- Performace Monitoring\n",
        "- Queueing Theory\n",
        "- Static performace tunning\n",
        "- Cache tuning\n",
        "- Micro-benchmarking\n",
        "- Capacity planning\n",
        "\n",
        "Modeling\n",
        "\n",
        "Enterprise versus Cloud\n",
        "\n",
        "Visual Idepentification\n",
        "\n",
        "Linear scalability\n",
        "\n",
        "Contention\n",
        "\n",
        "Coherence\n",
        "\n",
        "Knee point\n",
        "\n",
        "Scalability ceiling\n",
        "\n",
        "Amdahl's Law of Scalability\n",
        "\n",
        "Universal Scalability Law\n",
        "\n",
        "Queueing Theory\n",
        "\n",
        "Kendall's Notation\n",
        "\n",
        "Capacity Planning\n",
        "\n",
        "Resource Limits\n",
        "\n",
        "Factor Analysis\n",
        "\n",
        "Scalign Solutions\n",
        "\n",
        "Statistics\n",
        "\n",
        "Quantifying Performace\n",
        "\n",
        "Observation-Based\n",
        "\n",
        "Averages\n",
        "\n",
        "Geometric Mean\n",
        "\n",
        "Harmonic Mean\n",
        "\n",
        "Averages over Time\n",
        "\n",
        "Decayed Average\n",
        "\n",
        "Standard Deviations, Percentiles, Median\n",
        "\n",
        "Coefficient of Variation\n",
        "\n",
        "Multimodal Distributions\n",
        "\n",
        "Outliers\n",
        "\n",
        "MOnitoring\n",
        "\n",
        "Time-Based Patterns\n",
        "\n",
        "Monitoring Products\n",
        "\n",
        "Visualizations\n",
        "\n",
        "Line Chart\n",
        "\n",
        "Scatter Plots\n",
        "\n",
        "Heat Maps\n",
        "\n",
        "Surface Plot\n",
        "\n",
        "Visualiation Tools\n",
        "\n",
        "Exercises:\n",
        "\n",
        "- What is an IOPS?\n",
        "- What is utilization and saturation?\n",
        "- What is latency?\n",
        "- What is micro-bechmarking?\n",
        "\n",
        "- Summarize the problems when using average latency as a sole performace metric. Can these problems be solved by including  be solved by including the 99th percentile? "
      ]
    },
    {
      "cell_type": "markdown",
      "metadata": {
        "id": "ekMtt1-QWlv_"
      },
      "source": [
        "## Operating Systems"
      ]
    },
    {
      "cell_type": "markdown",
      "metadata": {
        "id": "6ojAWbATWntp"
      },
      "source": [
        "## Observability Tools"
      ]
    },
    {
      "cell_type": "markdown",
      "metadata": {
        "id": "ksYxUiN2WyTS"
      },
      "source": [
        "## Applications"
      ]
    },
    {
      "cell_type": "markdown",
      "metadata": {
        "id": "BMhTysAQW0OA"
      },
      "source": [
        "## CPUs"
      ]
    },
    {
      "cell_type": "markdown",
      "metadata": {
        "id": "jaBFXyEyW14F"
      },
      "source": [
        "## Memory"
      ]
    },
    {
      "cell_type": "markdown",
      "metadata": {
        "id": "m0lIMWPwW4DG"
      },
      "source": [
        "## File Systems"
      ]
    },
    {
      "cell_type": "markdown",
      "metadata": {
        "id": "d6DBL5etW6VI"
      },
      "source": [
        "## Disks"
      ]
    },
    {
      "cell_type": "markdown",
      "metadata": {
        "id": "H_h_TNcwW9RP"
      },
      "source": [
        "## Network"
      ]
    },
    {
      "cell_type": "markdown",
      "metadata": {
        "id": "xV7-LjR3XBCz"
      },
      "source": [
        "## Cloud Computing"
      ]
    },
    {
      "cell_type": "markdown",
      "metadata": {
        "id": "hnWFrbrRXDnJ"
      },
      "source": [
        "## Benchmarking"
      ]
    },
    {
      "cell_type": "markdown",
      "metadata": {
        "id": "voZWz9l2XF2N"
      },
      "source": [
        "## Case Study"
      ]
    },
    {
      "cell_type": "markdown",
      "metadata": {
        "id": "c5xJq33YXHYo"
      },
      "source": [
        "## USE Method: Linux"
      ]
    },
    {
      "cell_type": "markdown",
      "metadata": {
        "id": "JlY1JVuKXLzi"
      },
      "source": [
        "## USE Method: Solaris"
      ]
    },
    {
      "cell_type": "markdown",
      "metadata": {
        "id": "ymAXg1g5XNQi"
      },
      "source": [
        "## sar Summary"
      ]
    },
    {
      "cell_type": "markdown",
      "metadata": {
        "id": "af8fcj94XP_H"
      },
      "source": [
        "## DTrace One-Liners"
      ]
    },
    {
      "cell_type": "markdown",
      "metadata": {
        "id": "Uyiq7S2OXTSE"
      },
      "source": [
        "## DTrace to SystemTap"
      ]
    },
    {
      "cell_type": "markdown",
      "metadata": {
        "id": "MNYlbnG_XWRW"
      },
      "source": [
        "## Solutions to Selected Exercises"
      ]
    },
    {
      "cell_type": "markdown",
      "metadata": {
        "id": "j2wsJK5AXczG"
      },
      "source": [
        "## Systems Performace Who's Who"
      ]
    }
  ]
}