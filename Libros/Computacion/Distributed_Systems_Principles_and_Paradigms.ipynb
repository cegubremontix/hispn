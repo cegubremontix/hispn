{
  "nbformat": 4,
  "nbformat_minor": 0,
  "metadata": {
    "colab": {
      "name": " Distributed Systems: Principles and Paradigms.ipynb",
      "provenance": [],
      "authorship_tag": "ABX9TyMkPjtjahojxYzHgxundaNa",
      "include_colab_link": true
    },
    "kernelspec": {
      "name": "python3",
      "display_name": "Python 3"
    },
    "language_info": {
      "name": "python"
    }
  },
  "cells": [
    {
      "cell_type": "markdown",
      "metadata": {
        "id": "view-in-github",
        "colab_type": "text"
      },
      "source": [
        "<a href=\"https://colab.research.google.com/github/dbremont/Notas/blob/main/Libros/Computacion/Distributed_Systems_Principles_and_Paradigms.ipynb\" target=\"_parent\"><img src=\"https://colab.research.google.com/assets/colab-badge.svg\" alt=\"Open In Colab\"/></a>"
      ]
    },
    {
      "cell_type": "markdown",
      "source": [
        "## Introduction"
      ],
      "metadata": {
        "id": "qZgJIWVcY_2p"
      }
    },
    {
      "cell_type": "markdown",
      "source": [
        "## Architectures"
      ],
      "metadata": {
        "id": "mG57C7DHZDxV"
      }
    },
    {
      "cell_type": "markdown",
      "source": [
        "## Processes"
      ],
      "metadata": {
        "id": "JNw3ZWIsZHUD"
      }
    },
    {
      "cell_type": "markdown",
      "source": [
        "## Communication"
      ],
      "metadata": {
        "id": "2MqHLIvtZJlA"
      }
    },
    {
      "cell_type": "markdown",
      "source": [
        "## Naming"
      ],
      "metadata": {
        "id": "Qam4hXepZL1v"
      }
    },
    {
      "cell_type": "markdown",
      "source": [
        "## Synchonization"
      ],
      "metadata": {
        "id": "M8gbYBPcZNdF"
      }
    },
    {
      "cell_type": "markdown",
      "source": [
        "## Consistency and Replication"
      ],
      "metadata": {
        "id": "ey8odVt2ZQV7"
      }
    },
    {
      "cell_type": "markdown",
      "source": [
        "## Fault Tolerance"
      ],
      "metadata": {
        "id": "Iv5B6_aqZSyY"
      }
    },
    {
      "cell_type": "markdown",
      "source": [
        "## Security"
      ],
      "metadata": {
        "id": "449T-2U8ZV78"
      }
    },
    {
      "cell_type": "markdown",
      "source": [
        "## Distributed Object-Based Systems"
      ],
      "metadata": {
        "id": "gHxXvlzGZXd-"
      }
    },
    {
      "cell_type": "markdown",
      "source": [
        "## Distributed File Systems"
      ],
      "metadata": {
        "id": "50M33fQOZaR0"
      }
    },
    {
      "cell_type": "markdown",
      "source": [
        "## Distributed Web-Based Systems"
      ],
      "metadata": {
        "id": "lCSqN639ZdIx"
      }
    },
    {
      "cell_type": "markdown",
      "source": [
        "## Suggestions for further reading and bibliography"
      ],
      "metadata": {
        "id": "xiBrl1InZgZl"
      }
    }
  ]
}