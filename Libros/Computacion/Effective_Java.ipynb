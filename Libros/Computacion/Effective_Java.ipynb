{
  "nbformat": 4,
  "nbformat_minor": 0,
  "metadata": {
    "colab": {
      "name": "Effective Java.ipynb",
      "provenance": [],
      "toc_visible": true,
      "authorship_tag": "ABX9TyOKLIWtrXRhrXvRylRf+hfG",
      "include_colab_link": true
    },
    "kernelspec": {
      "name": "python3",
      "display_name": "Python 3"
    },
    "language_info": {
      "name": "python"
    }
  },
  "cells": [
    {
      "cell_type": "markdown",
      "metadata": {
        "id": "view-in-github",
        "colab_type": "text"
      },
      "source": [
        "<a href=\"https://colab.research.google.com/github/dbremont/Notas/blob/main/Libros/Computacion/Effective_Java.ipynb\" target=\"_parent\"><img src=\"https://colab.research.google.com/assets/colab-badge.svg\" alt=\"Open In Colab\"/></a>"
      ]
    },
    {
      "cell_type": "markdown",
      "metadata": {
        "id": "5Evg0SOGqKDY"
      },
      "source": [
        "# Effective Java\n",
        "\n",
        "- [Code](https://github.com/dbremont/jvtudes)\n",
        "- [David Sauvage Notes](https://github.com/david-sauvage/effective-java-summary)"
      ]
    },
    {
      "cell_type": "markdown",
      "metadata": {
        "id": "EWfRm_hmoj8t"
      },
      "source": [
        "\n",
        "## Introduction"
      ]
    },
    {
      "cell_type": "markdown",
      "metadata": {
        "id": "2hLDGtMCs0Og"
      },
      "source": [
        "**What is this book about?**\n",
        "\n",
        "- The effective use of Java programming langauge and its fundamental libraries:\n",
        "\n",
        "  1. java.lang,\n",
        "  2. java.util,\n",
        "    - java.util.concurrent\n",
        "    - java.util.function\n",
        "  3. java.io\n",
        "\n",
        "-  Writing programs that are:\n",
        "  - Clear,\n",
        "  - Correct,\n",
        "  - Usable,\n",
        "  - Robust,\n",
        "  - Flexible,\n",
        "  - and Maintainable\n",
        "\n",
        "\n",
        "**What the book is not about?**\n",
        "\n",
        "  - Performace, but if you have a program with the above characteristics, you can get performace.\n",
        "\n",
        "**Composition**\n",
        "\n",
        "- This book is compose of 99 rules  that are held to be beneficial by the best experienced programmers.\n",
        "\n",
        "- The rules are organized in 11 chapters.\n",
        "\n",
        "**How to Read the book?**\n",
        "\n",
        "- The rules can be read independently (just follow the references of one to another).\n",
        "\n",
        "**Note**\n",
        "\n",
        "- The **rules** should **not be followed slavishly**, but in order to broke then you should have a good reason.\n",
        "\n",
        "- The technical terms in  this books are found in 'The Java Language Specification, Java SE Edition'.\n",
        "\n",
        "- This book used a differente definition of  *inheritance* as a synonum for *subclassing*.\n",
        "\n",
        "- This book uses some terms not defined in the 'Java Spec', *API*. \n",
        "\n"
      ]
    },
    {
      "cell_type": "markdown",
      "metadata": {
        "id": "9AjSpNp4oTH4"
      },
      "source": [
        "## Creating and Destroying Objects"
      ]
    },
    {
      "cell_type": "markdown",
      "metadata": {
        "id": "OQ34aDXv0gyL"
      },
      "source": [
        "**Consider static factory methdos instead of constructor**:\n",
        "\n",
        "1. One advantange of static factory methods is that, unlike constructors, they have names.\n",
        "\n",
        "2. A second advantage of static factory methods is that, unlike constructors, they are not required to create a new object each time they're invoked.\n",
        "\n",
        "3. A third advantage of a static factory meethods is that, unlike constructors, they can return an object of any subtype of their return tepe.\n",
        "\n",
        "4. A fourth advantage of a static factories is that the class of the returned object can vary from call as function of the inputs parameters.\n",
        "\n",
        "5. A fifth advantage of static factories is that the class of the returned object need not exsits when the class containing the method is written.\n",
        "\n",
        "- The main limitation of providing only static factory metdhos is that classes without public or protected constructors cannot be subclassed.\n",
        "\n",
        "- A second shortcomming of a static factory methods is that they are hard for programmers to find.\n",
        "\n",
        "- This technique don't scale when there are a large number of optional parameters (The stestic is also bad, hard to map value -> parameter for easy read.).\n",
        "\n",
        "**Consider a builder when faced with many costructor parameters**\n",
        "\n",
        "- Telescoping constructor pattern.\n",
        "- JavaBeans Pattern.\n",
        "- A JavaBean may be in an inconsistent state partway through its construction.\n",
        "- Builder Pattern.\n",
        "- The builder's pattern setter methods return the builder itself so that invocations\n",
        "- Generic type\n",
        "- Recursive type parameter.\n",
        "- Simulated self-type.\n",
        "\n",
        "**Enforce the singleton property with a private constructor or an enum type**\n",
        "\n",
        "1. A *singleton* is simply a class that is instantiated exactly once. Singletons typically represent either a stateless object such as a function or a system component that is intrinsically unique.\n",
        "\n",
        "2. Making a clas a singleton can make it difficult to test its clients.\n",
        "\n",
        "Several approaches:\n",
        "\n",
        "1. \n",
        "2. \n",
        "3. A third way to implement a singleton is to declare a single-element enum.\n",
        "  - Why this, reflection attacks?, serialization ?\n",
        " \n",
        "\n",
        "**Enforce non instantiability witha private constructor**\n",
        "\n",
        "**Prefer dependency injection to hardwiring resources**\n",
        "\n",
        "**Avoid creating unnecessary object**\n",
        "\n",
        "**Eliminate obsolete object references**\n",
        "\n",
        "**Avoid finalizers and cleaners**\n",
        "\n",
        "**Prefer try-with-resources to try-finally**"
      ]
    },
    {
      "cell_type": "markdown",
      "metadata": {
        "id": "uH3mIUe3oWiW"
      },
      "source": [
        "## Classes and Interfaces"
      ]
    },
    {
      "cell_type": "markdown",
      "metadata": {
        "id": "H89HPt_qoaSU"
      },
      "source": [
        "## Generics"
      ]
    },
    {
      "cell_type": "markdown",
      "metadata": {
        "id": "vy6Nue4mocYB"
      },
      "source": [
        "## Enums and Annotations"
      ]
    },
    {
      "cell_type": "markdown",
      "metadata": {
        "id": "1SN8XwJgofMz"
      },
      "source": [
        "## Lambdas ans Streams"
      ]
    },
    {
      "cell_type": "markdown",
      "metadata": {
        "id": "z9h-wv4Roizh"
      },
      "source": [
        "## Methods"
      ]
    },
    {
      "cell_type": "markdown",
      "metadata": {
        "id": "wMw8OFqXbo34"
      },
      "source": [
        "**Item 56: Write doc comments for all exposed API elements**\n",
        "\n",
        "- If an API is to be used, it must be documented.\n",
        "\n",
        "- *Javadoc* to generate the documenation from source code files, with *documentation comments* format convention.\n",
        "\n",
        "- [How do write doc comments](https://www.oracle.com/technical-resources/articles/java/javadoc-tool.html)\n",
        "\n",
        "- [javadoc - The Java API Documentation Generator](https://docs.oracle.com/javase/7/docs/technotes/tools/windows/javadoc.html)\n",
        "\n",
        "\n",
        "- **To document you API properly, you must precede *every* exported class, interface, constructor, method, and field declaration with a doc comment**.\n",
        "\n",
        "- If a class is serializable you must document this.\n",
        "\n",
        "- **The doc comment for a method should describe succintly the contract between the method and its client.**\n",
        "  - Pre-conditions\n",
        "  - Post-conditions\n",
        "  - Side-effects\n",
        "  \n",
        "- Public class should not use default constructor, becase there is not way to documetn this.\n",
        "\n",
        "- **When documenting a generic type or method, be sure to document all type parameters**.\n",
        "\n",
        "- Wheter or not a class or a static method is thread-safe, you should  document its threat-safety.\n",
        "\n"
      ]
    },
    {
      "cell_type": "markdown",
      "metadata": {
        "id": "oFlToZjeopoM"
      },
      "source": [
        "##  General Programming"
      ]
    },
    {
      "cell_type": "markdown",
      "metadata": {
        "id": "gy8Zk47GosRo"
      },
      "source": [
        "## Exceptions"
      ]
    },
    {
      "cell_type": "markdown",
      "metadata": {
        "id": "7jJC5Hvmot72"
      },
      "source": [
        "## Concurrency"
      ]
    },
    {
      "cell_type": "markdown",
      "metadata": {
        "id": "9kf7cFfmowPb"
      },
      "source": [
        "## Serialization"
      ]
    },
    {
      "cell_type": "markdown",
      "metadata": {
        "id": "7sVTZ4mxuZCR"
      },
      "source": [
        "# Terminology"
      ]
    },
    {
      "cell_type": "markdown",
      "metadata": {
        "id": "A5idiZ-3ubST"
      },
      "source": [
        "- **Software Component**: Refers to any reusable software element, from an individual method to a complex framework consisting of multiple pakcages.\n",
        "\n",
        "- **API**: Refers to the classes, interfaces, constructors, members, and serialized forms by which a programmer acceses a class, interface, or package.\n",
        "\n",
        "- **Java 9 Module Systems**: If a library makes use of the module systems, its exported API is the nunion of the exported APIs of all the packages exported by the library's module declaration."
      ]
    }
  ]
}