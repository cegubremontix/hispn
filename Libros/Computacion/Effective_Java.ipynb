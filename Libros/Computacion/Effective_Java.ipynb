{
  "nbformat": 4,
  "nbformat_minor": 0,
  "metadata": {
    "colab": {
      "name": "Effective Java.ipynb",
      "provenance": [],
      "toc_visible": true,
      "authorship_tag": "ABX9TyM9Gh0YhofArckXmfhFtV+o",
      "include_colab_link": true
    },
    "kernelspec": {
      "name": "python3",
      "display_name": "Python 3"
    },
    "language_info": {
      "name": "python"
    }
  },
  "cells": [
    {
      "cell_type": "markdown",
      "metadata": {
        "id": "view-in-github",
        "colab_type": "text"
      },
      "source": [
        "<a href=\"https://colab.research.google.com/github/dbremont/Notas/blob/main/Libros/Computacion/Effective_Java.ipynb\" target=\"_parent\"><img src=\"https://colab.research.google.com/assets/colab-badge.svg\" alt=\"Open In Colab\"/></a>"
      ]
    },
    {
      "cell_type": "markdown",
      "metadata": {
        "id": "5Evg0SOGqKDY"
      },
      "source": [
        "# Effective Java\n",
        "\n",
        "- [Code](https://github.com/dbremont/jvtudes)\n",
        "- [David Sauvage Notes](https://github.com/david-sauvage/effective-java-summary)"
      ]
    },
    {
      "cell_type": "markdown",
      "metadata": {
        "id": "EWfRm_hmoj8t"
      },
      "source": [
        "\n",
        "## Introduction"
      ]
    },
    {
      "cell_type": "markdown",
      "metadata": {
        "id": "2hLDGtMCs0Og"
      },
      "source": [
        "**What is this book about?**\n",
        "\n",
        "- The effective use of Java programming langauge and its fundamental libraries:\n",
        "\n",
        "  1. java.lang,\n",
        "  2. java.util,\n",
        "    - java.util.concurrent\n",
        "    - java.util.function\n",
        "  3. java.io\n",
        "\n",
        "-  Writing programs that are:\n",
        "  - Clear,\n",
        "  - Correct,\n",
        "  - Usable,\n",
        "  - Robust,\n",
        "  - Flexible,\n",
        "  - and Maintainable\n",
        "\n",
        "\n",
        "**What the book is not about?**\n",
        "\n",
        "  - Performace, but if you have a program with the above characteristics, you can get performace.\n",
        "\n",
        "**Composition**\n",
        "\n",
        "- This book is compose of 99 rules  that are held to be beneficial by the best experienced programmers.\n",
        "\n",
        "- The rules are organized in 11 chapters.\n",
        "\n",
        "**How to Read the book?**\n",
        "\n",
        "- The rules can be read independently (just follow the references of one to another).\n",
        "\n",
        "**Note**\n",
        "\n",
        "- The **rules** should **not be followed slavishly**, but in order to broke then you should have a good reason.\n",
        "\n",
        "- The technical terms in  this books are found in 'The Java Language Specification, Java SE Edition'.\n",
        "\n",
        "- This book used a differente definition of  *inheritance* as a synonum for *subclassing*.\n",
        "\n",
        "- This book uses some terms not defined in the 'Java Spec', *API*. \n",
        "\n"
      ]
    },
    {
      "cell_type": "markdown",
      "metadata": {
        "id": "biBJWYOWoLSR"
      },
      "source": [
        "## Introduction"
      ]
    },
    {
      "cell_type": "markdown",
      "metadata": {
        "id": "9AjSpNp4oTH4"
      },
      "source": [
        "## Creating and Destroying Objects"
      ]
    },
    {
      "cell_type": "markdown",
      "metadata": {
        "id": "uH3mIUe3oWiW"
      },
      "source": [
        "## Classes and Interfaces"
      ]
    },
    {
      "cell_type": "markdown",
      "metadata": {
        "id": "H89HPt_qoaSU"
      },
      "source": [
        "## Generics"
      ]
    },
    {
      "cell_type": "markdown",
      "metadata": {
        "id": "vy6Nue4mocYB"
      },
      "source": [
        "## Enums and Annotations"
      ]
    },
    {
      "cell_type": "markdown",
      "metadata": {
        "id": "1SN8XwJgofMz"
      },
      "source": [
        "## Lambdas ans Streams"
      ]
    },
    {
      "cell_type": "markdown",
      "metadata": {
        "id": "z9h-wv4Roizh"
      },
      "source": [
        "## Methods"
      ]
    },
    {
      "cell_type": "markdown",
      "metadata": {
        "id": "oFlToZjeopoM"
      },
      "source": [
        "##  General Programming"
      ]
    },
    {
      "cell_type": "markdown",
      "metadata": {
        "id": "gy8Zk47GosRo"
      },
      "source": [
        "## Exceptions"
      ]
    },
    {
      "cell_type": "markdown",
      "metadata": {
        "id": "7jJC5Hvmot72"
      },
      "source": [
        "## Concurrency"
      ]
    },
    {
      "cell_type": "markdown",
      "metadata": {
        "id": "9kf7cFfmowPb"
      },
      "source": [
        "## Serialization"
      ]
    },
    {
      "cell_type": "markdown",
      "metadata": {
        "id": "7sVTZ4mxuZCR"
      },
      "source": [
        "# Terminology"
      ]
    },
    {
      "cell_type": "markdown",
      "metadata": {
        "id": "A5idiZ-3ubST"
      },
      "source": [
        "- **Software Component**: Refers to any reusable software element, from an individual method to a complex framework consisting of multiple pakcages.\n",
        "\n",
        "- **API**: Refers to the classes, interfaces, constructors, members, and serialized forms by which a programmer acceses a class, interface, or package.\n",
        "\n",
        "- **Java 9 Module Systems**: If a library makes use of the module systems, its exported API is the nunion of the exported APIs of all the packages exported by the library's module declaration."
      ]
    }
  ]
}