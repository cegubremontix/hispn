{
  "nbformat": 4,
  "nbformat_minor": 0,
  "metadata": {
    "colab": {
      "name": "Effective Java.ipynb",
      "provenance": [],
      "toc_visible": true,
      "authorship_tag": "ABX9TyOzCkD8UIc57ZRlMk4YAUrd",
      "include_colab_link": true
    },
    "kernelspec": {
      "name": "python3",
      "display_name": "Python 3"
    },
    "language_info": {
      "name": "python"
    }
  },
  "cells": [
    {
      "cell_type": "markdown",
      "metadata": {
        "id": "view-in-github",
        "colab_type": "text"
      },
      "source": [
        "<a href=\"https://colab.research.google.com/github/dbremont/Notas/blob/main/Libros/Computacion/Effective_Java.ipynb\" target=\"_parent\"><img src=\"https://colab.research.google.com/assets/colab-badge.svg\" alt=\"Open In Colab\"/></a>"
      ]
    },
    {
      "cell_type": "markdown",
      "metadata": {
        "id": "5Evg0SOGqKDY"
      },
      "source": [
        "# Effective Java\n",
        "\n",
        "- [Code](https://github.com/dbremont/jvtudes)\n",
        "- [David Sauvage Notes](https://github.com/david-sauvage/effective-java-summary)"
      ]
    },
    {
      "cell_type": "markdown",
      "metadata": {
        "id": "EWfRm_hmoj8t"
      },
      "source": [
        "\n",
        "## Introduction"
      ]
    },
    {
      "cell_type": "markdown",
      "metadata": {
        "id": "2hLDGtMCs0Og"
      },
      "source": [
        "**What is this book about?**\n",
        "\n",
        "- The effective use of Java programming langauge and its fundamental libraries:\n",
        "\n",
        "  1. java.lang,\n",
        "  2. java.util,\n",
        "    - java.util.concurrent\n",
        "    - java.util.function\n",
        "  3. java.io\n",
        "\n",
        "-  Writing programs that are:\n",
        "  - Clear,\n",
        "  - Correct,\n",
        "  - Usable,\n",
        "  - Robust,\n",
        "  - Flexible,\n",
        "  - and Maintainable\n",
        "\n",
        "\n",
        "**What the book is not about?**\n",
        "\n",
        "  - Performace, but if you have a program with the above characteristics, you can get performace.\n",
        "\n",
        "**Composition**\n",
        "\n",
        "- This book is compose of 99 rules  that are held to be beneficial by the best experienced programmers.\n",
        "\n",
        "- The rules are organized in 11 chapters.\n",
        "\n",
        "**How to Read the book?**\n",
        "\n",
        "- The rules can be read independently (just follow the references of one to another).\n",
        "\n",
        "**Note**\n",
        "\n",
        "- The **rules** should **not be followed slavishly**, but in order to broke then you should have a good reason.\n",
        "\n",
        "- The technical terms in  this books are found in 'The Java Language Specification, Java SE Edition'.\n",
        "\n",
        "- This book used a differente definition of  *inheritance* as a synonum for *subclassing*.\n",
        "\n",
        "- This book uses some terms not defined in the 'Java Spec', *API*. \n",
        "\n"
      ]
    },
    {
      "cell_type": "markdown",
      "metadata": {
        "id": "9AjSpNp4oTH4"
      },
      "source": [
        "## Creating and Destroying Objects"
      ]
    },
    {
      "cell_type": "markdown",
      "metadata": {
        "id": "OQ34aDXv0gyL"
      },
      "source": [
        "**Consider static factory methdos instead of constructor**:\n",
        "\n",
        "1. One advantange of static factory methods is that, unlike constructors, they have names.\n",
        "\n",
        "2. A second advantage of static factory methods is that, unlike constructors, they are not required to create a new object each time they're invoked.\n",
        "\n",
        "3. A third advantage of a static factory meethods is that, unlike constructors, they can return an object of any subtype of their return tepe.\n",
        "\n",
        "4. A fourth advantage of a static factories is that the class of the returned object can vary from call as function of the inputs parameters.\n",
        "\n",
        "5. A fifth advantage of static factories is that the class of the returned object need not exsits when the class containing the method is written.\n",
        "\n",
        "- The main limitation of providing only static factory metdhos is that classes without public or protected constructors cannot be subclassed.\n",
        "\n",
        "- A second shortcomming of a static factory methods is that they are hard for programmers to find.\n",
        "\n",
        "- This technique don't scale when there are a large number of optional parameters (The stestic is also bad, hard to map value -> parameter for easy read.).\n",
        "\n",
        "**Consider a builder when faced with many costructor parameters**\n",
        "\n",
        "- Telescoping constructor pattern.\n",
        "- JavaBeans Pattern.\n",
        "- A JavaBean may be in an inconsistent state partway through its construction.\n",
        "- Builder Pattern.\n",
        "- The builder's pattern setter methods return the builder itself so that invocations\n",
        "- Generic type\n",
        "- Recursive type parameter.\n",
        "- Simulated self-type.\n",
        "\n",
        "**Enforce the singleton property with a private constructor or an enum type**\n",
        "\n",
        "1. A *singleton* is simply a class that is instantiated exactly once. Singletons typically represent either a stateless object such as a function or a system component that is intrinsically unique.\n",
        "\n",
        "2. Making a clas a singleton can make it difficult to test its clients.\n",
        "\n",
        "Several approaches:\n",
        "\n",
        "1. \n",
        "2. \n",
        "3. A third way to implement a singleton is to declare a single-element enum.\n",
        "  - Why this, reflection attacks?, serialization ?\n",
        " \n",
        "\n",
        "**Enforce non instantiability witha private constructor**\n",
        "\n",
        "**Prefer dependency injection to hardwiring resources**\n",
        "\n",
        "**Avoid creating unnecessary object**\n",
        "\n",
        "**Eliminate obsolete object references**\n",
        "\n",
        "**Avoid finalizers and cleaners**\n",
        "\n",
        "**Prefer try-with-resources to try-finally**"
      ]
    },
    {
      "cell_type": "markdown",
      "metadata": {
        "id": "uH3mIUe3oWiW"
      },
      "source": [
        "## Classes and Interfaces"
      ]
    },
    {
      "cell_type": "markdown",
      "metadata": {
        "id": "H89HPt_qoaSU"
      },
      "source": [
        "## Generics"
      ]
    },
    {
      "cell_type": "markdown",
      "metadata": {
        "id": "vy6Nue4mocYB"
      },
      "source": [
        "## Enums and Annotations"
      ]
    },
    {
      "cell_type": "markdown",
      "metadata": {
        "id": "1SN8XwJgofMz"
      },
      "source": [
        "## Lambdas ans Streams\n",
        "\n",
        "In Java 8, functional interfaces, lambdas, and method references were added to make it easier to create function objects. The streams API was assed in tandem with these language changes to provide library support for processing sequences of data elements."
      ]
    },
    {
      "cell_type": "markdown",
      "metadata": {
        "id": "lrAbH6gZRe5w"
      },
      "source": [
        "**Prefer lambdas to anonymous classes**\n",
        "\n",
        "Historically, interfaces (or, rarely, abstract classes) with a single abstract method were used  as function types. Their instances, known as **function objects**, represent **functions** or **actions**.\n",
        "\n",
        "```java\n",
        "// Annonymus class instance as a function object - obsolete!\n",
        "Collections.sort(words, new Comparator<String>(){\n",
        "    public int compare(String s1, String s2){\n",
        "      return Integer.compare(s1.length(), s2.length())\n",
        "    }\n",
        "})\n",
        "```\n",
        "\n",
        "Anonymous classes were adequate for the classic object-oriented design patterns requiring  functions objects, notably the **Strategy pattern**. The **Comparator** represent an **abstract strategy** for sorting. The **concrete strategy** is represented by the **anonoymous class**.\n",
        "\n",
        "Functional Interfaces, Lambdas Expressions or lambdas.\n",
        "\n",
        "```java\n",
        "// Lambda expression as function object (replaces anonymous class)\n",
        "Collections.sort(words, (s1, s2) -> Integer.compare(s1.length(), s2.length()) )\n",
        "```\n",
        "\n",
        "The compiler deduces the types of ```s1, s2```, using a process known as **type inference**.\n",
        "\n",
        "The rules for type inference are complex: they take up an entire chapter in the **JLS**. Few programmers understand these rules in detail, but that's OK.\n",
        "\n",
        "**Omit the types of all lambda parameters unless their presence makes your program clearer**.\n",
        "\n",
        "```java\n",
        "// Comparator construction method\n",
        "Collections.sort(words,  comparingInt(String::length) )\n",
        "```\n",
        "\n",
        "\n",
        "**Lambdas lack names and documentation; if a computation ins't self-explanatory; or exceeds a few lines, don't put it in a lambda.**\n",
        "\n",
        "Lambdas are limited to ```functional interfaces```, so if you want to create an instance of a ```abstract class``` we can do it a ```anoynoymous class``` but not with a ```lamdba```. \n",
        "\n",
        "A lamdba cannot contain a reference to itself, ```this``` in a lambda refers to the inclosing instance. In a anonoymous class it refers to itself. \n",
        "\n",
        "Lamdba shares a property with annoymous class, that they **cannot be serialize reliable**.\n",
        "\n",
        "**Don't use anonymous classes for function objects unless you have to create instances of types that aren't [functional interfaces](https://docs.oracle.com/javase/8/docs/api/java/util/function/package-summary.html).**\n",
        "\n"
      ]
    },
    {
      "cell_type": "markdown",
      "metadata": {
        "id": "HCGPzt00kOlA"
      },
      "source": [
        "**Prefer method references to lambdas**\n",
        "\n",
        "The primary advantage of lambdas over anoymous classes is that they are more \"clear and frief\".\n",
        "\n",
        "**Method references**, Integer::sum.\n",
        "\n",
        "```java\n",
        "map.merge(key, 1, Integer::sum)\n",
        "```\n",
        "\n",
        "- [Merging Two Maps with Java 8](https://www.baeldung.com/java-merge-maps)\n",
        "\n",
        "```JAVA\n",
        "service.execute(GoshthisClassName::action)\n",
        "```\n",
        "\n",
        "- Types of method references:\n",
        "  - bound    (intance method)\n",
        "  - unbound  (static method)\n",
        "\n",
        "\n",
        "**Where method references are shorter and clearer, use them; where they aren't stick with lambdas.**"
      ]
    },
    {
      "cell_type": "markdown",
      "metadata": {
        "id": "z0J8UdXf0GLx"
      },
      "source": [
        "**Favor the use of standard functional interfaces**"
      ]
    },
    {
      "cell_type": "markdown",
      "metadata": {
        "id": "6EWAMVsA0KZa"
      },
      "source": [
        "**Use stream judiciosly**"
      ]
    },
    {
      "cell_type": "markdown",
      "metadata": {
        "id": "7I5HHcL90Pm4"
      },
      "source": [
        "**Prefer side-effect-free functions in streams**"
      ]
    },
    {
      "cell_type": "markdown",
      "metadata": {
        "id": "AezdAQBU0To0"
      },
      "source": [
        "**Prefer Collection to Stream as a return type**"
      ]
    },
    {
      "cell_type": "markdown",
      "metadata": {
        "id": "K44aKYMg0ZQ-"
      },
      "source": [
        "**Use caution when making streams parallel**"
      ]
    },
    {
      "cell_type": "markdown",
      "metadata": {
        "id": "z9h-wv4Roizh"
      },
      "source": [
        "## Methods"
      ]
    },
    {
      "cell_type": "markdown",
      "metadata": {
        "id": "wMw8OFqXbo34"
      },
      "source": [
        "**Item 56: Write doc comments for all exposed API elements**\n",
        "\n",
        "- If an API is to be used, it must be documented.\n",
        "\n",
        "- *Javadoc* to generate the documenation from source code files, with *documentation comments* format convention.\n",
        "\n",
        "- [How do write doc comments](https://www.oracle.com/technical-resources/articles/java/javadoc-tool.html)\n",
        "\n",
        "- [javadoc - The Java API Documentation Generator](https://docs.oracle.com/javase/7/docs/technotes/tools/windows/javadoc.html)\n",
        "\n",
        "\n",
        "- **To document you API properly, you must precede *every* exported class, interface, constructor, method, and field declaration with a doc comment**.\n",
        "\n",
        "- If a class is serializable you must document this.\n",
        "\n",
        "- **The doc comment for a method should describe succintly the contract between the method and its client.**\n",
        "  - Pre-conditions\n",
        "  - Post-conditions\n",
        "  - Side-effects\n",
        "  \n",
        "- Public class should not use default constructor, becase there is not way to documetn this.\n",
        "\n",
        "- **When documenting a generic type or method, be sure to document all type parameters**.\n",
        "\n",
        "- Wheter or not a class or a static method is thread-safe, you should  document its threat-safety.\n",
        "\n",
        "- For complex APIs consitent of multiple interrelated classes, it is often necessary to supplement the documentation comments with an external document describing the overall architecture of the API.\n",
        "\n",
        "- Make sure that the docs fit/adhere to the code. It rises confusion when you see the documentation and the code do other things. This is why people say that code its the ultimate documentation."
      ]
    },
    {
      "cell_type": "markdown",
      "metadata": {
        "id": "oFlToZjeopoM"
      },
      "source": [
        "##  General Programming"
      ]
    },
    {
      "cell_type": "markdown",
      "metadata": {
        "id": "gy8Zk47GosRo"
      },
      "source": [
        "## Exceptions"
      ]
    },
    {
      "cell_type": "markdown",
      "metadata": {
        "id": "7jJC5Hvmot72"
      },
      "source": [
        "## Concurrency"
      ]
    },
    {
      "cell_type": "markdown",
      "metadata": {
        "id": "AW2-DsNXNtj6"
      },
      "source": [
        "**Use lazy initialization judiciosly**\n",
        "\n",
        "Lazy initialization is the act of delaying the initialization of a field until its value is needed. \n",
        "\n",
        "**Under most circuntances,  normal initialization if preferable to lazy initialization**\n",
        "\n",
        "```java\n",
        "//Normal initializatio nof an instance field\n",
        "private final FieldType  field =  computedValue()\n",
        "\n",
        "// Lazy initianlziation of an instance field\n",
        "\n",
        "\n",
        "// If you use lazy initialization to break an initizaliation circularity, use a syncronized accesor\n",
        "\n",
        "private FieldType field;\n",
        "\n",
        "\n",
        "private synchronized FieldType getField() {\n",
        "  if (field == null)\n",
        "    field = computedFieldValue()\n",
        "    return field;\n",
        "\n",
        "}\n",
        "```\n",
        "\n",
        "... to be continued"
      ]
    },
    {
      "cell_type": "markdown",
      "metadata": {
        "id": "9kf7cFfmowPb"
      },
      "source": [
        "## Serialization"
      ]
    },
    {
      "cell_type": "markdown",
      "metadata": {
        "id": "hp-VZoHsuox8"
      },
      "source": [
        "**Item 45: Use streams judicously**\n",
        "\n",
        "- API added to java 8 to case the task of performing buld operations, sequatially or in parallel.\n",
        "\n",
        "**Abstractions**\n",
        "  - Streams: chireel or infinite sequence of data elements\n",
        "  - \n"
      ]
    },
    {
      "cell_type": "markdown",
      "metadata": {
        "id": "7sVTZ4mxuZCR"
      },
      "source": [
        "# Terminology"
      ]
    },
    {
      "cell_type": "markdown",
      "metadata": {
        "id": "A5idiZ-3ubST"
      },
      "source": [
        "- **Software Component**: Refers to any reusable software element, from an individual method to a complex framework consisting of multiple pakcages.\n",
        "\n",
        "- **API**: Refers to the classes, interfaces, constructors, members, and serialized forms by which a programmer acceses a class, interface, or package.\n",
        "\n",
        "- **Java 9 Module Systems**: If a library makes use of the module systems, its exported API is the nunion of the exported APIs of all the packages exported by the library's module declaration."
      ]
    }
  ]
}