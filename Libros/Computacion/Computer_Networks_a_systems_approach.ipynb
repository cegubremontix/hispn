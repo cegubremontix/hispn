{
  "nbformat": 4,
  "nbformat_minor": 0,
  "metadata": {
    "colab": {
      "name": "Computer Networks a systems approach.ipynb",
      "provenance": [],
      "authorship_tag": "ABX9TyM/nXNPEjwjdXIVZ7HonsG3",
      "include_colab_link": true
    },
    "kernelspec": {
      "name": "python3",
      "display_name": "Python 3"
    },
    "language_info": {
      "name": "python"
    }
  },
  "cells": [
    {
      "cell_type": "markdown",
      "metadata": {
        "id": "view-in-github",
        "colab_type": "text"
      },
      "source": [
        "<a href=\"https://colab.research.google.com/github/dbremont/Notas/blob/main/Libros/Computacion/Computer_Networks_a_systems_approach.ipynb\" target=\"_parent\"><img src=\"https://colab.research.google.com/assets/colab-badge.svg\" alt=\"Open In Colab\"/></a>"
      ]
    },
    {
      "cell_type": "markdown",
      "metadata": {
        "id": "xZWwcIRaYKe_"
      },
      "source": [
        "# Computer Networks a systems approach"
      ]
    },
    {
      "cell_type": "markdown",
      "metadata": {
        "id": "7z2ephhEZAx1"
      },
      "source": [
        "## Foundation"
      ]
    },
    {
      "cell_type": "markdown",
      "metadata": {
        "id": "H_NyHmPAtvwD"
      },
      "source": [
        "1. Use anonymous FTP to connect to ftp.rfc-editor.org (directory ip-notes), and retrieve the RFC index. Also, retrieve the protocol specifications for TCP, IP, and UDP.\n",
        "\n",
        "2. The Unix utility whois can be used to find the domain name corresponding to an organization, or `vice versa`. Read the man page documentation for whois and experimenting with it. Try `whois` priceton.edu, for starters. As an alternative, explore the whois interface at http://www.internic.net/whois.html\n",
        "\n",
        "3. Calculuate the total time required to transfer a 1000-KB file in the following cases, assuming an RTT of 50 ms, a packet size of 1 KB data, and an initial 2  * RTT of 50 MS \"handshaking\" before data is sent: \n",
        "\n",
        "- The bandwidth is 1.5 Mbps, and data packets can be sent continiously,\n",
        "\n",
        "- The bandwidth is 1.5 Mbps, but after we finish sending each data packet we must wait on RTT before sendign the next.\n",
        "\n",
        "- The bandwidth is \"infinite\", meaning that we take transmit time to be zero, and up to 20 packets can be send per RTT.\n",
        "\n",
        "- The bandwidth is infinite, and during the first RTT we can send one packet ($2^{2-1}$), during the second RTT we can send two packets ($2^{2-1}$), during the third we can send four ($2^{3-1}$), and so on.\n",
        "\n",
        "4. Calculate the total time required to transfer a 1.5-MB file in the following cases, assuming an RTT of 80 ms, a packet size of  1 KB data, and an initial 2 * RTT of \"handshaking\" before data is send: \n",
        "\n",
        "- The bandwidth is 10 Mbps, and data packets can be send continously.\n",
        "\n",
        "- The bandwidth is 10 Mbps, but after we finish sending each data packet we must wait one RTT before sending the next.\n",
        "\n",
        "- The link allows infinitely fast transmit, but limits bandwidth such that only 20 packets can be send per RTT.\n",
        "\n",
        "\n",
        "5. Consider a point-to-point link 4 km in length. At what bandwith would propagation delay (at a speed of $2 * 10^8$ m/s) equal transmit delay for 100-byte packets? What  about 512-byte packets?\n",
        "\n",
        "6. Consider a point-to-point link 50 KM in length.  At what bandwith would propagation delay (at a speed of $2 * 10^8$ m/s) equal transmit delay for 100-byte packets? What  about 512-byte packets?\n",
        "\n",
        "7. What properties of postal addresses would be likely to be shared by a network addresign scheme? What differences might you  expect to find? What properties of telephone numbering might be shared by a network addresing scheme?\n",
        "\n",
        "8. One property of addreses is that they are unique; if two nodes had the same addresses, it would be impossible to distinguish betweem them. What other properties might be useful for network addresses to have? Can you think of any situatiosn in which network (or postal or telephone) addreses might not be unique?\n",
        "\n",
        "9. Give an example of a situtation in which multicast addresses might be beneficial.\n",
        "\n",
        "10. What differences in traffict patterns account fot the fact that STDM is a cost-effective form of multipelxing for a voice telephone network and FDM is a cost-effective form of multiplexing for television and radio networks, yet we reject both as not being cost effective for a general-purporse computer network?\n",
        "\n",
        "11. How \"wide\" is a bit on a 10-Gbps link? How long is a bit in copper wire, where the speed of propagation is $2.3 * 10^8$ m/s?\n",
        "\n",
        "12. How long does it take to transmit $x$ kB over a $y$-Mbps link? Give yout answer as a ratio of $x$ and $y$.\n",
        "\n",
        "13. Suppose a 1-Gbps point-to-point link is being set up between the Earth and a new lunar colony. The distance from the moon to the Earth is approximitately 385,000 KM, and data travels ove rthe link at the speed light - $3 * 10 ^8 m/s$\n",
        "\n",
        "- Calculate the minimum RTT for the link.\n",
        "\n",
        "- Using the RTT as the delay, calculate the delay * bandwith product for the link.\n",
        "\n",
        "- What is the significance of the delay * bandwidth product computed in (b)?\n",
        "\n",
        "- A camara on the lunar base takes pictures of the Earth and saves them in digigal format to disk. Suppose Mision Control on Earth wishes to download the most current image, which is 25 MB. What is the minimum amoun tof time what will elapse between when the request fot he data goes out and the transfer is finished?\n",
        "\n",
        "15. For each of the following operations on a remote file server, discuss whether they are more likely to be delay sensitive o bandwidth  sensitive:\n",
        "\n",
        "- Open a file,\n",
        "- Read the contents of a file,\n",
        "- List the contents of a directory,\n",
        "- Display the attributes of a file.\n",
        "\n",
        "16. Calculate the latency (from first bit send to last bit recieved) for the following:\n",
        "\n",
        "- 100-Mbps Ethernet with a single store-and-foward switch in the path and a packet size of 12,000 bits. Assume that each link introduces a propagation delay of 10 $\\mus$ and that the switch begins retransmitting inmediately after it has finished recieving the packet.\n",
        "\n",
        "- Same as (a) but with three switches,\n",
        "\n",
        "- Same as (a), but assume the switch implements \"cut-through\" switching; it is able to being retransmiting the packet after the first 200 bits have been recieved.\n",
        "\n",
        "21. Suppose a host has a 1-MB that is to be sent to another host. The file takes 1 second of CPU time to compreess 510% or 2 seconds to compress 60%\n",
        "\n",
        "- Calculate the bandwith at which each compression option takes the same total compression  + transmission time.\n",
        "\n",
        "- Explain why latency does not affect your anwswer\n",
        "\n",
        "22. Suppose that a certain communicatio nprotocol involes a per-packet overhead of 50 bytes for headers  and framing. We send 1 million bytes of data using this protocol; however, one data byte is corrupted and the entire packet containing it is thus lost. Give the total number of overhead + loss for packet data sizes of 1000, 10,000, and 20,000 bytes. Which size is optimal?\n",
        "\n",
        "23. Assume you wish to transfer an $n$  B file along a path composed of the soruce ,destination, 7 point-to-point links, adn 5 switches. Suppose each link has a propagation delay of $2 \\text{ms}$ and a bandwidth of 4 Mpbs, and the switches suport both circuit and packet switching. Thus, you can either break the file up into 1-KB  packets or set up a circuit through the switches and send the file as one contiguous bitstream. Suppose that packets hve 24 B of packet header information and 1000 B of payload, store-and-foward packet processin gat each switch  incurs a 1-ms delay after the packet had been completely recieved, packets may be sent continously without waiting for acknowledments, and circuit setup requires oa 1-KB message to make one round trip on the path, incurring a 1-ms delay at each switch after the message has been completely recieved. Assume  switches introduce no delay to data traversing a circuit. You may also assuem that filesize o is a multipel of 1000 B.\n",
        "- For what filesize  $n$ B  is the total number of bytes sent across the network less for circuits than for packets?\n",
        "\n",
        "- For what filesize  $n$ B  is the total latency incurred before the entire file arrives at the  destination les for circuits than a packets?\n",
        "\n",
        "- How sensitive are these results to the number of switches along the path? To the bandwidth of the links? To the ratio of packet size to the packet header size?\n",
        "\n",
        "- How accurate do you think this model of relative merrits of circuits and packets is? Does it ignore important considerations that discredit oen or the other approach? If so, what are they?\n",
        "\n",
        "24. Consider a network with a ring topology, link bandwiths of 100 Mbps, and propagation speed $2 * 10 ^8$ m/s. What would the circumference of the llop to be exactly contain one 1500-byte packet, assuming nodes do not introduce delay? What would the circumference be if the was a node every 100 m, and each node introduces 10 bits of delay.\n",
        "\n",
        "25. Compare this channel requirements for voice traffic with the requiremetns for the real-tiem transmission of music, in terms of bandwith, delay, and jitter. What would have to improve? By approximately how much? Could any channel requiremetns be relaxed?\n",
        "\n",
        "26. For the following, assume what no data compression is done, although in practice this woudl almost never be the case. For (a) to (c), calculate the bandwidth necessary for transmittin in real time:\n",
        "\n",
        "- Video at a resolution of 640 * 480, 3 bytes/pixel, 30 frames/second.\n",
        "\n",
        "- Video at resolution of 160 * 120,1 byte/pixel, 5 frames/second.\n",
        "\n",
        "- CD-ROM music, assuming one CD holds 75 minutes' worth and takes 650 MB.\n",
        "\n"
      ]
    },
    {
      "cell_type": "markdown",
      "metadata": {
        "id": "tTkdo0AgCxSa"
      },
      "source": [
        "28. Discuss the relative performace needs of the following applications in term of average bandwidth, peak bandwidth, latency, jitter, and loss tolerace:\n",
        "\n",
        "- File server, \n",
        "- Print server,\n",
        "- Digital library,\n",
        "- Routine monitoring of remote weather instruments,\n",
        "- Voice,\n",
        "- Video monitoring of a waiting room,\n",
        "- Television broadcasting.\n",
        "\n",
        "29. Suppose a shared medium $M$ offers to host $A_1, A_2, ..., A_N$ in round-robin fashion an opportunity to transmit oen packet; hosts that hve nothing to send immediately relinquisn M. How does this differ from STDM? How does network utilization of this scheme compare with STDM?\n",
        "\n",
        "30. Consider a simpe lprotocol for transferring files over a link. After some initial negotiaion. $A$ send data packets of size 1 KB to $B$; $B$ then replies with an acknowledgment. A always waits  fro each ACK before sending the next data packet; this is known as stop-and-wait. Packets that are overdue are presumed lost and are retransmitted.\n",
        "\n",
        "- In the absence of any packet losses or duplications, explain why is not necessary to include any \"sequence number\" data in the packet headers.\n",
        "\n",
        "- Suppose that the link can lose occacional packets, but that packets that do arrive always arrive in the order send. Is a 2-bit sequence number (that is, $N$ mod 4) enough for $A$ and $B$ to detect and resend any lost packets? Is a 1-bit sequence number enough?\n",
        "\n",
        "\n",
        "- Now suppose that the link can deliver out of order and that sometimes a packet can be delivered as much as 1 minute after subsequent packets.  How does this change the sequence number requirements?\n",
        "\n",
        "31. Suppose host $A$ and $B$ are connected by a link. Host $A$ continously transmits the current time forn a high-presicion clock, at a regular rate, fast enought to consume all the available bandwidth.  Host $B$ reads these time values and writes them each paired with is own time from a local clock synchonized with $A$'s. \n",
        "\n",
        "Give a quantitative examples of $B$'s output assuming the link has \n",
        "\n",
        "- High bandwidth, high latency, low jitter,\n",
        "- Low bandwidth, high latency, highi jitter.\n",
        "- High bandwidthm, low latency, low jitter, occasional lost data.\n",
        "\n",
        "For example, a link with zero jitter, a bandwidth high enough to write on every other clock tick, and a latency of 1 tick might yield something like (0000, 0001), (0002, 0003), (0004, 0005)\n",
        "\n",
        "32. Obtain and build the simplex-talk sample socket program shown in the text. Start oen server and one client, in separte windows. While the first client is running, start 10 other clients that connect to the same server; these other clients shoudl most likely be started in the background with theri input redirected from a file. \n",
        "\n",
        "What heppens to these 10 clients? Do their connect()s fail, or tiem out, our succed? Do any other calls block? Now let the first  client exit. What happends? Try with the server value MAX_PENDING set 1 as well.\n",
        "\n",
        "33. Modify the simple-talk socket program so that each tiem the client sends a line to the server, the server sends the line back to the client. The client (and server) will now have to make alternating call to `recv()` and `send()`\n",
        "\n",
        "35. Investigate the difernt options and parameters one can set foa TCP conection. (Do man tcp on Unix). Experiment with various parameter settings to see how they affect TCP performace.\n",
        "\n",
        "36. The unix utility ping can be used to find the RTT to various Internet hosts. Read the man page for ping, and use it to find the RTT to www.priceton.edu in New Jersey and www.cisco.com in California. Measure the RTT values at different times of day, and compare the results. What do you think accounts for the differences?\n",
        "\n",
        "37. The Unix utility traceroute, on its Windows equivalent tracert, can be used to find the sequence of routers through which a message is routed. Use this to find the path from you rsite to some others. How ell does the number of hops correlate with the RTT times from ping? How well does the number of hops correlate with geograhical distance?\n",
        "\n",
        "38. Use traceroute, above, to map out some of the routers withing your organization (or to verify none is used)"
      ]
    },
    {
      "cell_type": "markdown",
      "metadata": {
        "id": "ZsgcDR_LZHQk"
      },
      "source": [
        "## Getting Connected"
      ]
    },
    {
      "cell_type": "markdown",
      "metadata": {
        "id": "j-UOeyFKSBNo"
      },
      "source": [
        "1. Show the NRZ, Manchester, and NZRI encoding for the bit pattern shown in Figure 2.36. Assume that the NZRI signal starts out low.\n",
        "\n",
        "2. Show the 4B/5B encoding, and the resultign NZRI signal, for the following bit sequence:\n",
        "\n",
        "  - 1101 1110 1010 1101 1011 1110 1110 1111\n",
        "\n",
        "5. Assuming a framing protocol that uses bit stuffing, show the bit sequence transmitted over the link when the frame contains the following bit sequence:\n",
        "\n",
        "  - 110101111101011111101011111110\n",
        "  - Mark the stuffed bits\n",
        "\n",
        "6. Suppose the following sequence of bits arrives over a link:\n",
        "  - 10010111101011110010111110110\n",
        "  - Show the resulting frame after any stuffed bits have been removed. Indicate any errrors that might have been introduced into the frame.\n",
        "  \n",
        "8. Suppose you want to send some data using the BISYNC framing protocol adn the last 2 bytes of your data are DLE and ETX. What sequence of bytes would be transmited immediately prior to the CRC?\n",
        "\n",
        "9. For each of the following framing protocols, give an example of a byte/bit sequence that should enver appear in a trasmission:\n",
        "\n",
        "- BISYNC,\n",
        "- HDLC\n",
        "\n",
        "10. Assume that a SONET reciever resynchonizes its clock whenever a 1 bit appears; otherwise, the reciever samples the signal in the middle of what it believes in the bit's time slot.\n",
        "\n",
        "  - What relative accuracy of the sender's and reciever's clocks is required order to recieve corectly 48 zero bytes (oen ATM cell's worth) in a row?\n",
        "\n",
        "  - Consider a forwarding station A on a SONET STS-1 line, recieving frames from  the downstream end B and retransmitting team upstream. What relative accuracy of A's and B's clocks is required to keep A from accumulating more than one extra frame per minute?\n",
        "\n",
        "11. Show that two-dimensional parity allows detection of all 3-bit errors.\n",
        "\n",
        "12. Give an example of a 4-bit error that would not be detected by two-dimensional parity, as illustrated iin Figure 2.14. What si the general set of circumstances under which 4-bit errors will be undetected?\n",
        "\n",
        "13. Show that two-dimensional parity provides the reciever enough information to correct any 1-bit error (assuming the reciever knows only 1 bit is bad), but not any 2-bit error.\n",
        "\n",
        "14. Show that the Internet checksum will never be 0xFFFF (that is, the final value of sum wil not be 0x0000) unless every byte in the buffer is 0. (Internet specification in fact require taht a checksum of 0x0000 be transmitted as 0xFFFF; the value 0x0000 is then reserved for an ommited checksum. Note that, is ones complement arithmetic, 0x0000 and 0xFFFF are both representations of the number 0).\n",
        "\n",
        "16. Suppose that one byte in a buffer covered by the Internet checksum algorithm needs to be decremended (e.g., a header hop count field). Give an algorithm to compute the revised checksum without rescanning the entire buffer. Your algorithm shoudl consider wheater the byte in qquestion is low order or high order.\n",
        "\n",
        "17. Show that the Internet checksum can be computed by first taking the 32-bit ones complement sum of the buffer in 32-bit units, then taking the 16-bit ones complement sum the  upper and lower halfwords, and finishing as before by complementing the result. (To take a 32-bit ones complement sum on 32-bit twos complement hardware, you need acces to the \"overflow\" bit)\n",
        "\n",
        "21. With 1 parity bit we can detect all 1-bit errors. Show that a least one generalization fails, as folows:\n",
        "\n",
        "  - Show that if messages $m$ are 8 bits long, then there is not error detection code $e =  e(m)$ of size 2 bits that can detect all 2-bit errors. Hint: Consider the set $M$ of all 8-bit messages with a single 1 bit; note that any message from $M$ can be transmuted into any other with a 2-bit error, and show that some pair of messages $m_1$ and $m_2$ in $M$ must have same error code $e$.\n",
        "\n",
        "  - Find an $N$ (not necessarily minimal) such that no 32-bit error detection code applied to N-bit blocks can detect all errors altering up to 8 bits.\n",
        "\n",
        "22. Considerer an ARQ protocol that uses only negative acknowledgments (NAKs), but no positive acknowlegments (ACKs). Describe what timeouts would have to be scheduled. Explain why an ACK-based protocol is usually prefered to a NAK-based protocol.\n",
        "\n",
        "25. Suppose you are designing a sliding window protocol for a 1-Mbps point-to-point link to the stationary satellite evolving around the Earth at an altitude of $3 * 10^4$ km. Assuming that each frame carries 1 KB of data, what is the minimum number of bits you need for the sequence number in the following cases? Assume the speed of light is $3 * 10^8$ m/s.\n",
        "\n",
        "  - RWS=1\n",
        "  - RWS=SWS\n",
        "\n",
        "26. The text suggests that the sliding window protocol can be used to implement flow control. We can imagine doing this by having the reciever delay ACKs, that is, not send the ACK until there is free buffer space to hold the next frame. In doing so,  each ACK would simultaneously acknowledge the receipt of the last frame and tell the source that there is now free buffer space available to hold the next frame. Explain why implementing flow control in this way  is not good idea.\n",
        "\n",
        "28. In stop-and-wait transmission, suppose that both sender and reciever retransmit their last frame immediately on receipt of a duplicate ACK or data frame; such a strategy is superficially reasonable because reciept of such a duplicate is mot likel yto mean the other side has experienced a tiemout:\n",
        "\n",
        "  - Draw a timeline showing that will happen if the first data frame is somehow duplicated, but no frame is lost. How long wil the duplications continue? This situation is known as the Sorcerrer's Apprentice bug.\n",
        "\n",
        "30. Describe a protocol combining the sliding window algorithm with selective ACKs. Your protocol should retransmit promptly, but not if a frame simply arrives one or two positions out of order. Your protocol should also make what happends if several consecutive frames are lost.\n",
        "\n",
        "31. Draw a timeline diagram for the sliding window algorithm with SWS= RWS = 3 frames, for the folowing two situations. Use a timeout interval of about 2 * RTT \n",
        "\n",
        "  - Frame 4 is lost,\n",
        "  - Frames 4 and 6 are lost.\n",
        "\n",
        "39. What kind of probblems can arise when two hosts on the same Ethernet share the same hardware address? Describe what happends and why that behavior is a problem.\n",
        "\n",
        "41. Coaxial cable Ethernet was limited maximum of 500 m between repeaters, which generate the signal to 100% of tis original amplitude. Along one 500-m segment, the signal could decay to no less than 14% of its original value (8.5 dB). Along 1500 m, is still strong enough to be read, why them are repeaters required every 500 m?\n",
        "\n",
        "43. Let A and B be two statiosn attempting to transmit on an Ethernet. Each has a steady queue of frames ready to send; A's frames will be numbered $A_1, A_2$, and so on, and B's similarly. $Let T = 51.2\\mu$s be the exponential backoff base unit. \n",
        "\n",
        "Suppose A and B simultaneously attempt to send frame 1, collide, and happen to choose to choose backoff times of 0 * T and 1 * T, respectively, meaning A wins to race and trasmits $A_1$ while B waits. At the end of this transmission, B will attempt to retrasmit $B_1$ while A will attempt transmit $A_2$. These first attempts  will collide, but now A backs off for either 0 * T or 1 * T, while B backs off  for time equal to one of $0 * T, ..., 3 * T$.\n",
        "\n",
        "  - Give the probability that A wins this second backoff rce immediately after this first colision; that is, A's first choice of backoff k * 51.2 is less than B's.\n",
        "\n",
        "  - Suppose A wins this second backoff race. A transmits $A_3$, adn when it is finished, A and B coolide again as A tries to transmit $A_1$ and B tries donce more to transmit $B_1$. Give the probability that A wins this third backoff race immediately after the first collision.\n",
        "\n",
        "  - Give a reasonable lower bound for the probability that A wins all the remainig backoff races.\n",
        "\n",
        "  - What then happends to the frame $B_1$?\n",
        "\n",
        "45. Ethernets use Manchester encoding. Assuming that hosts sharing the Ethernet are not perfectly synchonied, why does this allow collisions can be detected soon after they occur, without waiting for the CRC at the end of the packet?\n",
        "\n",
        "49. Suppose five stations are waiting for another are waiting for another packet to finish on an Ethernet. All transmit at once when the packet is finished and collide.\n",
        "\n",
        "  - Simulate this situation up until the point when one of the five-waiting stations succeds. Use coin flips or some other genuine random source to determine backoff times. Make the following simplifications: Ignore inter-frame spacing ignore variability in collision times (so that retransmission is always after an exact integral multiple of the 51.2-$\\mu$s slot time), and assume that each collision uses up exactly one slot time.\n",
        "\n",
        "  - Discuss the effect of the listed simplifications in your simulation versus the behavior you might encounter on a real Ethernet.\n",
        "\n",
        "51. Suppose that $N$ Ethernet stations, all trying to send at the same time, require $N/2$ slot times to sort out who transmits next. Assuming the average packet size is 5 slot times, express the avialable bandwidth as a function of N.\n",
        "\n",
        "57. Why ins't practical for each node in a sensor net to learn its location by using GPS? Describe a practical alternative"
      ]
    },
    {
      "cell_type": "markdown",
      "metadata": {
        "id": "JUlr_-2LZN2W"
      },
      "source": [
        "## Internetworking"
      ]
    },
    {
      "cell_type": "markdown",
      "metadata": {
        "id": "82RIgymVZS_J"
      },
      "source": [
        "## Advanced Internetworking"
      ]
    },
    {
      "cell_type": "markdown",
      "metadata": {
        "id": "8ukxzm5oZYbM"
      },
      "source": [
        "## End-to-End Protocols"
      ]
    },
    {
      "cell_type": "markdown",
      "metadata": {
        "id": "pcbdaHKncSRq"
      },
      "source": [
        "## Congestion Control and Resource Allocation"
      ]
    },
    {
      "cell_type": "markdown",
      "metadata": {
        "id": "xu64o9OwcXHV"
      },
      "source": [
        "## End-to-End Data"
      ]
    },
    {
      "cell_type": "markdown",
      "metadata": {
        "id": "H0lrAZL5cZkS"
      },
      "source": [
        "## Network Security"
      ]
    },
    {
      "cell_type": "markdown",
      "metadata": {
        "id": "YTGl1lvaca2R"
      },
      "source": [
        "## Applications"
      ]
    }
  ]
}