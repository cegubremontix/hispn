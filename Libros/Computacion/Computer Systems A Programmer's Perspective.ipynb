{
  "nbformat": 4,
  "nbformat_minor": 0,
  "metadata": {
    "kernelspec": {
      "display_name": "Python 2.7.18 64-bit",
      "name": "python2718jvsc74a57bd0f92b2924b84ff19c1c3dc485f7644d4486f64738191026bf8e6de303969141b5"
    },
    "language_info": {
      "name": "python",
      "version": ""
    },
    "metadata": {
      "interpreter": {
        "hash": "f92b2924b84ff19c1c3dc485f7644d4486f64738191026bf8e6de303969141b5"
      }
    },
    "orig_nbformat": 2,
    "colab": {
      "name": "Computer Systems A Programmer's Perspective.ipynb",
      "provenance": [],
      "toc_visible": true,
      "include_colab_link": true
    }
  },
  "cells": [
    {
      "cell_type": "markdown",
      "metadata": {
        "id": "view-in-github",
        "colab_type": "text"
      },
      "source": [
        "<a href=\"https://colab.research.google.com/github/dbremont/Notas/blob/main/Libros/Computacion/Computer%20Systems%20A%20Programmer's%20Perspective.ipynb\" target=\"_parent\"><img src=\"https://colab.research.google.com/assets/colab-badge.svg\" alt=\"Open In Colab\"/></a>"
      ]
    },
    {
      "cell_type": "markdown",
      "metadata": {
        "id": "uhdUuWrBumPq"
      },
      "source": [
        "# Computer Systems A Programmer's Perspectiv"
      ]
    },
    {
      "cell_type": "markdown",
      "metadata": {
        "id": "jipx3cXPuZJz"
      },
      "source": [
        "## 1 A Tour of Computer Systems"
      ]
    },
    {
      "cell_type": "markdown",
      "metadata": {
        "id": "iexftj_AvLvG"
      },
      "source": [
        ""
      ]
    },
    {
      "cell_type": "markdown",
      "metadata": {
        "id": "VGs0HhZEufKy"
      },
      "source": [
        "## Program Structure and Execution\n"
      ]
    },
    {
      "cell_type": "markdown",
      "metadata": {
        "id": "nB8oSjxxusUY"
      },
      "source": [
        "### 2 Representing and Manipulating Information"
      ]
    },
    {
      "cell_type": "markdown",
      "metadata": {
        "id": "Ah8EwTykuvDA"
      },
      "source": [
        "### 3 Machine-Level Representation of Programs"
      ]
    },
    {
      "cell_type": "markdown",
      "metadata": {
        "id": "GdKrg_kRuxge"
      },
      "source": [
        "### 4 Processor Architecture"
      ]
    },
    {
      "cell_type": "markdown",
      "metadata": {
        "id": "D2a-d5y2uziu"
      },
      "source": [
        "###  5 Optimizing Program Performace"
      ]
    },
    {
      "cell_type": "markdown",
      "metadata": {
        "id": "7_Glfvpau2SO"
      },
      "source": [
        "### 6 The Memory Hierarchy"
      ]
    },
    {
      "cell_type": "markdown",
      "metadata": {
        "id": "mofVrNkCug0B"
      },
      "source": [
        "## Running Programs on a System"
      ]
    },
    {
      "cell_type": "markdown",
      "metadata": {
        "id": "bY1Ei57Eu4X3"
      },
      "source": [
        "### 7 Linking"
      ]
    },
    {
      "cell_type": "markdown",
      "metadata": {
        "id": "eXB1zaoWu_Wm"
      },
      "source": [
        "### 8 Exceptional Control Flow"
      ]
    },
    {
      "cell_type": "markdown",
      "metadata": {
        "id": "St6JNO8SvBlv"
      },
      "source": [
        "### 9 Virtual Memory"
      ]
    },
    {
      "cell_type": "markdown",
      "metadata": {
        "id": "t_lsUOVauiLo"
      },
      "source": [
        "## Interacting and Communication between Programs"
      ]
    },
    {
      "cell_type": "markdown",
      "metadata": {
        "id": "18x1eubkvDyP"
      },
      "source": [
        "### 10 System-Level I/O\n"
      ]
    },
    {
      "cell_type": "markdown",
      "metadata": {
        "id": "V74Yygu3vGto"
      },
      "source": [
        "### 11 Network Programming"
      ]
    },
    {
      "cell_type": "markdown",
      "metadata": {
        "id": "YvCgq5oOvH3K"
      },
      "source": [
        "### 12 Concurrent Programming"
      ]
    }
  ]
}