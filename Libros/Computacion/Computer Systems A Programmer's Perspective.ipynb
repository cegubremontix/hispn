{
  "nbformat": 4,
  "nbformat_minor": 0,
  "metadata": {
    "kernelspec": {
      "display_name": "Python 2.7.18 64-bit",
      "name": "python2718jvsc74a57bd0f92b2924b84ff19c1c3dc485f7644d4486f64738191026bf8e6de303969141b5"
    },
    "language_info": {
      "name": "python",
      "version": ""
    },
    "metadata": {
      "interpreter": {
        "hash": "f92b2924b84ff19c1c3dc485f7644d4486f64738191026bf8e6de303969141b5"
      }
    },
    "orig_nbformat": 2,
    "colab": {
      "name": "Computer Systems A Programmer's Perspective.ipynb",
      "provenance": [],
      "toc_visible": true,
      "include_colab_link": true
    }
  },
  "cells": [
    {
      "cell_type": "markdown",
      "metadata": {
        "id": "view-in-github",
        "colab_type": "text"
      },
      "source": [
        "<a href=\"https://colab.research.google.com/github/dbremont/Notas/blob/main/Libros/Computacion/Computer%20Systems%20A%20Programmer's%20Perspective.ipynb\" target=\"_parent\"><img src=\"https://colab.research.google.com/assets/colab-badge.svg\" alt=\"Open In Colab\"/></a>"
      ]
    },
    {
      "cell_type": "markdown",
      "metadata": {
        "id": "uhdUuWrBumPq"
      },
      "source": [
        "# Computer Systems A Programmer's Perspective"
      ]
    },
    {
      "cell_type": "markdown",
      "metadata": {
        "id": "jipx3cXPuZJz"
      },
      "source": [
        "## 1 A Tour of Computer Systems"
      ]
    },
    {
      "cell_type": "markdown",
      "metadata": {
        "id": "iexftj_AvLvG"
      },
      "source": [
        "Information is Bits + Context\n",
        "\n",
        "Source program\n",
        "\n",
        "Text Files\n",
        "\n",
        "Binary Files\n",
        "\n",
        "ASCII\n",
        "\n",
        "UTF-8\n",
        "\n",
        "ASCII vs UTF-8\n",
        "\n",
        "Executable object program\n",
        "\n",
        "Compilation Phases for C Source Files:\n",
        "\n",
        "- Preprocessor,\n",
        "- Compiler,\n",
        "- Assembler,\n",
        "- and Linker\n",
        "\n",
        "Programs Are tranlated by other programs in to Different Forms\n",
        "\n",
        "It Pays to Understand How Compilation Work\n",
        "- Optimizing program performace\n",
        "- Understanding link-time errors\n",
        "- Avoiding link-time errors\n",
        "- Avoiding security holes\n",
        "\n",
        "Processors Read  and Interpret Intructiosn Stored in Memory\n",
        "\n",
        "Explan the hardware ofganization of a typical system\n",
        "\n",
        "- I/O Bridge\n",
        "- Memory Bus\n",
        "- Main Memory\n",
        "- I/O Bus\n",
        "- Expansion Slots\n",
        "- Controllers\n",
        "- Adapters\n",
        "- Bus Interface\n",
        "- CPU\n",
        "  - PC\n",
        "  - ALU\n",
        "  - Register File\n",
        "- System Bus\n",
        "\n",
        "Describe how programs run\n",
        "\n",
        "Direct memory access\n",
        "\n",
        "Cache Matters\n",
        "\n",
        "Caches Memories\n",
        "\n",
        "- L1,\n",
        "- L2,\n",
        "- L3\n",
        "\n",
        "Locality\n",
        "\n",
        "The Memory Hierarchy\n",
        "\n",
        "Storage Devices Form a Hierarchy\n",
        "\n",
        "Processes\n",
        "\n",
        "System call\n",
        "\n",
        "Kernel\n",
        "\n",
        "Threads\n",
        "\n",
        "Virtual Memory\n",
        "\n",
        "Program code and data\n",
        "\n",
        "Heap \n",
        "\n",
        "Shared libraries\n",
        "\n",
        "Stack\n",
        "\n",
        "Kernel virtual memory\n",
        "\n",
        "Files\n",
        "\n",
        "The Operating System Manages the Hardware\n",
        "\n",
        "Systems Communicate ewith Other Systems Using Networks\n",
        "\n",
        "Concurrency \n",
        "\n",
        "Parallelism\n",
        "\n",
        "Uniprocessor system\n",
        "\n",
        "Hyperthreading\n",
        "\n",
        "The use of abstractions in computer systems\n",
        "\n",
        "API\n",
        "\n",
        "In what consist a computer system?\n",
        "\n",
        "The Memory Hierchy\n",
        "\n",
        "Amdahls'law\n",
        "- Your are given S = 4, $\\alpha$  = 0.9, solve for k\n",
        "\n"
      ]
    },
    {
      "cell_type": "markdown",
      "metadata": {
        "id": "VGs0HhZEufKy"
      },
      "source": [
        "## Program Structure and Execution\n"
      ]
    },
    {
      "cell_type": "markdown",
      "metadata": {
        "id": "nB8oSjxxusUY"
      },
      "source": [
        "### 2 Representing and Manipulating Information"
      ]
    },
    {
      "cell_type": "markdown",
      "metadata": {
        "id": "PHFhCDCe56t6"
      },
      "source": [
        "Information Storage\n",
        "\n",
        "Bits Intepretation\n",
        "\n",
        "Encodings\n",
        "\n",
        "Number presentations\n",
        "\n",
        "Smallest Addresable Unit \n",
        "\n",
        "Hexadecimal Notation\n",
        "\n",
        "Binary Notation\n",
        "\n",
        "Convert to binary 0x25B9D2\n",
        "\n",
        "binary 10101110011001001 to hexadecimal\n",
        "\n",
        "0xA8B3D to binary\n",
        "\n",
        "0x60c + 0x5\n",
        "\n",
        "0x60c - 0x20\n",
        "\n",
        "Data Sizes\n",
        "\n",
        "Word  Size\n",
        "\n",
        "32 bit computer\n",
        "\n",
        "64 bit computer\n",
        "\n",
        "gcc -m64 prog.c\n",
        "\n",
        "gcc -m32 prog.c\n",
        "```\n",
        "C Declaration           Bytes\n",
        "Signed Unsigned         32-bit   64-bit\n",
        "char   char             1        1\n",
        "short  unsigned short   2        2\n",
        "int    unsigned         4        4\n",
        "long   unsigned long    4        8\n",
        "....\n",
        "```\n",
        "\n",
        "Declaring pointer\n",
        "T *p;\n",
        "\n",
        "Adresing\n",
        "\n",
        "Byte Ordering \n",
        "\n",
        "Litle Endian \n",
        "\n",
        "Big Endian\n",
        "\n",
        "```c\n",
        "\n",
        "#include <stdio.h>\n",
        "\n",
        "typedef unsigned char *byte_pointer;\n",
        "\n",
        "void show_bytes(byte_pointer start, size_t len){\n",
        "  ...\n",
        "}\n",
        "\n",
        "void show_int(int x){\n",
        "  show_bytes( (byte_pointer) &x, sizeof(int) );\n",
        "}\n",
        "\n",
        "void show_float(float x){\n",
        "  show_bytes((byte_pointer) &x, sizeof(float));\n",
        "}\n",
        "\n",
        "void show_pointer(void *x){\n",
        "  show_bytes( (byte_pointer) &x, sizeof(void *) )\n",
        "}\n",
        "\n",
        "// Test with figure 2.5\n",
        "\n",
        "```\n",
        "\n",
        "Practice 2.5 pg 84\n",
        "\n",
        "Representing strings\n",
        "\n",
        "Unicode\n",
        "\n",
        "Boolean Algebra\n",
        "\n",
        "Bit-Level Operations in C\n",
        "\n",
        "Logical Operations in C\n",
        "\n",
        "Shift Operations in C\n",
        "\n",
        "Integer Representation\n",
        "\n",
        "Integral Types\n",
        "\n",
        "Unsigned Encoding\n",
        "\n",
        "Two's Complement Encoding\n",
        "\n",
        "Practice Problem 2.17 pg. 101\n",
        "\n",
        "Conversion between signed and unsigned\n",
        "\n",
        "Conversion from two's complement to unsigned\n",
        "\n",
        "Signed vs Unsigned in C\n",
        "\n",
        "Expanding the bit representation of a number\n",
        "\n",
        "Practice problem 2.22 pag. 186\n",
        "\n",
        "Truncating Numbers\n",
        "\n",
        "Problem 2.24 pag. 118\n",
        "\n",
        "Integer arithmetic\n",
        "\n",
        "Unsigned adition\n",
        "\n",
        "Two's Complement Adition\n",
        "\n",
        "Detecting overflow in two's complement addition\n",
        "\n",
        "Two's Complement Negation\n",
        "\n",
        "Unsigned multiplication\n",
        "\n",
        "Two's Complement Multiplication\n",
        "\n",
        "Multiplying by Constatns\n",
        "\n",
        "Multiplying by powers of 2\n",
        "\n",
        "Dividing by powers of 2\n",
        "\n",
        "Floating Point\n",
        "\n",
        "Fractional binary numbers\n",
        "\n",
        "IEEE Floating-Point Representation\n",
        "\n",
        "Standard Floating-point format\n",
        "\n",
        "- Single Presition,\n",
        "- Double presicion,\n",
        "\n",
        "Normalized values\n",
        "\n",
        "Denormalized values\n",
        "\n",
        "Special Values\n",
        "\n",
        "Rouding\n",
        "\n",
        "Floating-point representation\n",
        "\n",
        "Floating point in c\n",
        "\n",
        "Who computer encode information?\n",
        "\n",
        "How floating points rapproximate real numbers?\n",
        "\n",
        "Home Work Problems\n",
        "\n",
        "2.55\n",
        "\n",
        "2.56\n",
        "\n",
        "2.58\n",
        "\n",
        "2.61\n",
        "\n",
        "2.62\n",
        "\n",
        "2.63\n",
        "\n",
        "2.64\n",
        "\n",
        "2.65\n",
        "\n",
        "2.68\n",
        "\n",
        "2.71\n",
        "\n",
        "2.72\n",
        "\n",
        "2.83\n",
        "\n",
        "2.84\n",
        "\n",
        "2.85\n",
        "\n",
        "2.87\n",
        "\n",
        "2.90\n",
        "\n",
        "2.92\n",
        "\n",
        "2.93\n",
        "\n",
        "2.94\n",
        "\n",
        "2.95\n",
        "\n",
        "2.97\n",
        "\n",
        "**Data Lab**"
      ]
    },
    {
      "cell_type": "markdown",
      "metadata": {
        "id": "Ah8EwTykuvDA"
      },
      "source": [
        "### 3 Machine-Level Representation of Programs"
      ]
    },
    {
      "cell_type": "markdown",
      "metadata": {
        "id": "R1hNVML0BcBV"
      },
      "source": [
        "- Computer execute *machine code*, sequences of bytes encoding the low level operations that manipulate data, manage memory, read and write data on storage devices, and communicate over networks.\n",
        "\n",
        "- A compiler generates machine code through a series of stages, based on the rules of the programming language, the instruction set of the target machine, and the conventions follow by the operative system.\n",
        "\n",
        "- **Assembly code**: a textual representation of the machine code giving the individual instructions in the program.\n",
        "\n",
        "- Programs carries out **computation**.\n",
        "- We use a programming language to express computations.\n",
        "\n",
        "- The goal is not writing assembly code, but rather reading and understanding the code generated by the compilers.\n",
        "\n",
        "- We must understand the transformations typical compilers make in converting the constructs of C into machine code.\n",
        "\n",
        "- x86-64 assembly.\n",
        "\n",
        "**A Historical Perspective**\n",
        "\n",
        "Moore's Law: Predict hat the number of transistors per chip would double every year for the next 10 years.\n",
        "\n",
        "**Program Encodings**\n",
        "```bash\n",
        "gcc -Og -o p p1.c p2.c\n",
        "```\n",
        "- The following command tries to compile files p1.c y p2.c.\n",
        "\n",
        "- The option ```-Og``` instruct the compiler to apply a level of optimization that yields machine code that follows the overal structure of the source code.\n",
        "\n",
        "- Computer employ several different forms of abstraction, hiding details of an implementation through the use of a simpler abstract model. \n",
        "\n",
        "**Data Formats**\n",
        "\n",
        "**Accessing Information**\n",
        "\n",
        "**Arithmetic and Logical Operations**\n",
        "\n",
        "**Control**\n",
        "\n",
        "**Procedures**\n",
        "\n",
        "**Array Allocation and Access**\n",
        "\n",
        "**Heterogeneous Data Structures**\n",
        "\n",
        "**Combining Control and Data in Machine-Level Programs**\n",
        "\n",
        "**Floating-Point Code**"
      ]
    },
    {
      "cell_type": "markdown",
      "metadata": {
        "id": "GdKrg_kRuxge"
      },
      "source": [
        "### 4 Processor Architecture"
      ]
    },
    {
      "cell_type": "markdown",
      "metadata": {
        "id": "k8bZW_anDJSF"
      },
      "source": [
        ""
      ]
    },
    {
      "cell_type": "markdown",
      "metadata": {
        "id": "D2a-d5y2uziu"
      },
      "source": [
        "###  5 Optimizing Program Performace"
      ]
    },
    {
      "cell_type": "markdown",
      "metadata": {
        "id": "7_Glfvpau2SO"
      },
      "source": [
        "### 6 The Memory Hierarchy"
      ]
    },
    {
      "cell_type": "markdown",
      "metadata": {
        "id": "mofVrNkCug0B"
      },
      "source": [
        "## Running Programs on a System"
      ]
    },
    {
      "cell_type": "markdown",
      "metadata": {
        "id": "bY1Ei57Eu4X3"
      },
      "source": [
        "### 7 Linking"
      ]
    },
    {
      "cell_type": "markdown",
      "metadata": {
        "id": "NYj_ndQ4Qc42"
      },
      "source": [
        "**Linking**\n",
        "\n",
        "- Library Interpositioning:\n",
        "\n",
        "**Why Linkers**:\n",
        "\n",
        "1. Modularity: Break code in different peaces,  library of functions.\n",
        "2. Efficiency: If the program is broken in multiples chunks, if on chuk changes, only the chunk that change must be recompile, and link again.\n",
        "\n",
        "**What Linkers Do**\n",
        "\n",
        "1. Symbol resolution.\n",
        "  - Symbol table.\n",
        "  - Map symbol references to unique object definition.\n",
        "2. Relocation: Merges separete code and data sections into single sections.\n",
        "  - Relocatable object file (.o file)\n",
        "  - Executable object file (a.out file)\n",
        "  - Shared  object file (.so file)\n",
        "\n",
        "**Generic name Executable and Linkable Format(ELF)**\n",
        "- ELF binaries use by (.o, a.out, .so) files\n",
        "\n",
        "- Elf header\n",
        "  - Word size, byte ordering, fie type (.o,   .exe, .so), machine typoe.\n",
        "- Segment header table\n",
        "- .text section\n",
        "  - Code\n",
        "- .rodata section\n",
        "  - Read only data, jump tables, ...\n",
        "- .data section\n",
        "  - Initialized global variables;\n",
        "- .bss section\n",
        "  - Uninitialized  global variables\n",
        "  - \"Block Started by Symbol\"\n",
        "  - \"Better Save Space\" \n",
        "  - Has section header but occupies no space\n",
        "\n",
        "**Linker Symbols**\n",
        "\n",
        "- non-static vs static functions.\n",
        "- loading a shared library.\n",
        "- Strong vs weak symbols.\n",
        "- x"
      ]
    },
    {
      "cell_type": "markdown",
      "metadata": {
        "id": "eXB1zaoWu_Wm"
      },
      "source": [
        "### 8 Exceptional Control Flow"
      ]
    },
    {
      "cell_type": "markdown",
      "metadata": {
        "id": "tmhU5DbNQkO5"
      },
      "source": [
        "- From the time you first apply power to a processor until the time you shut it off,\n",
        "  the program counter assumes a secuence of values a0, a1, a2, ..., an-1.\n",
        "  \n",
        "  where ak is the address of some corresponding instruction Ik.\n",
        "\n",
        "- Pos(a0) = l0.\n",
        "\n",
        "- Each transiction from ak to ak+1 is called a *control transfer*.\n",
        "- A secuence of such control transfers is called the flow of control, or control flow, of the processor.\n",
        "\n",
        "- The simplest kind of control flow is a \"smooth\" sequence where each Ik and Ik+1 are adjancy in memory.\n",
        "- Abrupt changes to this smooth flow, where Ik, Ik+1 are not adjanced in memory, are caused by familiar program instructions\n",
        "  such as jumps, calls, and returns.\n",
        "- There are events to which software has to pay attention, a package arrives, a child process finish.\n",
        "\n",
        "- Modern systems react to this situations by making abrupt changes in the *control flow*. \n",
        "- In general, we refer to these abrupt cahnges as *exceptional control flow (ECF)*).\n",
        "\n",
        "\n",
        "- As a programmer is important to understand ECF:\n",
        "- Understanding ECF will help you understand important systems concepts.\n",
        "- Understanding EFC will help you understand how applications interest with the operating system.\n",
        "- Understand ECF wil help you  write intersting new application programs.\n",
        "- Understand ECF wil help you understand concurrency.\n",
        "- Understanding ECF will help you understand how software exceptions work.\n",
        " \n"
      ]
    },
    {
      "cell_type": "markdown",
      "metadata": {
        "id": "St6JNO8SvBlv"
      },
      "source": [
        "### 9 Virtual Memory"
      ]
    },
    {
      "cell_type": "markdown",
      "metadata": {
        "id": "OQZwJNs7Qoor"
      },
      "source": [
        "- How *fork* and *execv* work:\n",
        "  - With the knowledge of virtual memory I should give a descent respond to that question.\n",
        "\n",
        "- As an exercise implement a simple memory allocator.\n",
        "- Garbage Collector.\n",
        "\n",
        "- *nmap*\n",
        "\n",
        "- The memory is byte addresable\n",
        "  - [1-bit computing](https://en.wikipedia.org/wiki/1-bit_computing)\n",
        "  - [4-bit computing](https://en.wikipedia.org/wiki/4-bit_computing)\n",
        "- The memory acceses are to 1-byte words (not 4-byte words)\n",
        "- Virtual addreses are 14 bits wide (n = 14)\n",
        "- Physical addreses are 12 bits wide (n = 12)\n",
        "- The page size is 64 bytes (p = 64)\n",
        "- The TLB is 4-way set associative with 16 total entries.\n",
        "- The L1 d-cache is physically addresed and direct mapped, with a 4-byte line size and 16 total sets.\n",
        "- [Page table(PTE)](https://en.wikipedia.org/wiki/Page_table)\n",
        "\n",
        "- [Address space](https://en.wikipedia.org/wiki/Address_space)\n",
        "  * Remember *space* from math\n",
        "- [Virtual address space](https://en.wikipedia.org/wiki/Virtual_address_space) \n",
        "\n",
        "**Linux Virtual Memory Implementation Overview**\n",
        "\n",
        "- The copy on write mechanism.\n",
        "\n",
        "- Virtual memory is an abstraction of main memory. Processors that support virtual memory  reference main memory using a form of indirection known as virtual addresing.\n",
        "\n",
        "- The processor generates a virtual address, wich is translated into a physical addres before is send to the main memory.\n",
        "\n",
        "- Dedicated hardwaare translates virtual addreses using page tables whose contents are supplied by the operating system.\n",
        "\n",
        "- Modern systems initialize chunks of virtual memory by associating them with chunks of files on disk, a process known as memory mapping.\n"
      ]
    },
    {
      "cell_type": "markdown",
      "metadata": {
        "id": "t_lsUOVauiLo"
      },
      "source": [
        "## Interacting and Communication between Programs"
      ]
    },
    {
      "cell_type": "markdown",
      "metadata": {
        "id": "18x1eubkvDyP"
      },
      "source": [
        "### 10 System-Level I/O\n"
      ]
    },
    {
      "cell_type": "markdown",
      "metadata": {
        "id": "4KQIuEAeIBWL"
      },
      "source": [
        "Input/Output (I/O), is the process of copying the data between memory and external devices such as disk drivers, terminals, and networks. An input operation copies data from such devices to main memory, and and output operation copies data from memory to a device.\n",
        "\n",
        "...."
      ]
    },
    {
      "cell_type": "markdown",
      "metadata": {
        "id": "V74Yygu3vGto"
      },
      "source": [
        "### 11 Network Programming"
      ]
    },
    {
      "cell_type": "markdown",
      "metadata": {
        "id": "YvCgq5oOvH3K"
      },
      "source": [
        "### 12 Concurrent Programming"
      ]
    }
  ]
}