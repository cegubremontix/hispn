{
 "cells": [
  {
   "cell_type": "markdown",
   "metadata": {},
   "source": [
    "1.  A Tour of Computer Systems\n",
    "\n",
    "Program Structure and Execution\n",
    "\n",
    "2. Representing and Manipulating Information\n",
    "3. Machine-Level Representation of Programs\n",
    "4. Processor Architecture\n",
    "5. Optimizing Program Performace\n",
    "6. The Memory Hierarchy\n",
    "\n",
    "Running Programs on a System\n",
    "\n",
    "7. Linking\n",
    "8. Exceptional Control Flow\n",
    "9. Virtual Memory\n",
    "\n",
    "Interacting and Communication between Programs\n",
    "\n",
    "10. System-Level I/O\n",
    "11. Network Programming\n",
    "12. Concurrent Programming\n"
   ]
  }
 ],
 "metadata": {
  "kernelspec": {
   "display_name": "Python 2.7.18 64-bit",
   "name": "python2718jvsc74a57bd0f92b2924b84ff19c1c3dc485f7644d4486f64738191026bf8e6de303969141b5"
  },
  "language_info": {
   "name": "python",
   "version": ""
  },
  "metadata": {
   "interpreter": {
    "hash": "f92b2924b84ff19c1c3dc485f7644d4486f64738191026bf8e6de303969141b5"
   }
  },
  "orig_nbformat": 2
 },
 "nbformat": 4,
 "nbformat_minor": 2
}