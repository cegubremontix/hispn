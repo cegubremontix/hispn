{
  "nbformat": 4,
  "nbformat_minor": 0,
  "metadata": {
    "colab": {
      "name": "Virtual Machines.ipynb",
      "provenance": [],
      "authorship_tag": "ABX9TyOxHocuqzAAPF2k8AUEwC6y",
      "include_colab_link": true
    },
    "kernelspec": {
      "name": "python3",
      "display_name": "Python 3"
    },
    "language_info": {
      "name": "python"
    }
  },
  "cells": [
    {
      "cell_type": "markdown",
      "metadata": {
        "id": "view-in-github",
        "colab_type": "text"
      },
      "source": [
        "<a href=\"https://colab.research.google.com/github/dbremont/Notas/blob/main/Libros/Computacion/Virtual_Machines.ipynb\" target=\"_parent\"><img src=\"https://colab.research.google.com/assets/colab-badge.svg\" alt=\"Open In Colab\"/></a>"
      ]
    },
    {
      "cell_type": "markdown",
      "metadata": {
        "id": "NIbZ2eDW7zik"
      },
      "source": [
        "## Introduction to Virtual Machines"
      ]
    },
    {
      "cell_type": "markdown",
      "metadata": {
        "id": "37-3QinrFch_"
      },
      "source": [
        "## Emulation: Interpretation and Binary Translation"
      ]
    },
    {
      "cell_type": "markdown",
      "metadata": {
        "id": "FgLelZlaFhVv"
      },
      "source": [
        "## Process Virtual Machine"
      ]
    },
    {
      "cell_type": "markdown",
      "metadata": {
        "id": "IPFsF5f2FkRe"
      },
      "source": [
        "## Dynamic Binary Optimization"
      ]
    },
    {
      "cell_type": "markdown",
      "metadata": {
        "id": "K1K-4z4DFnjD"
      },
      "source": [
        "## High-Level Language Virtual Machine Architecture"
      ]
    },
    {
      "cell_type": "markdown",
      "metadata": {
        "id": "BzD-keQyFsQS"
      },
      "source": [
        "## High-Level Language Virtual Machine Implementation"
      ]
    },
    {
      "cell_type": "markdown",
      "metadata": {
        "id": "_IP1X8vNF04z"
      },
      "source": [
        "## Codesigned Virtual Machines"
      ]
    },
    {
      "cell_type": "markdown",
      "metadata": {
        "id": "KU4pyTIUF7UE"
      },
      "source": [
        "## System Virtual Machines"
      ]
    },
    {
      "cell_type": "markdown",
      "metadata": {
        "id": "DI92HLVXF9-N"
      },
      "source": [
        "## Multiprocessor Virtualization"
      ]
    },
    {
      "cell_type": "markdown",
      "metadata": {
        "id": "zWbsz7i0GAvo"
      },
      "source": [
        "## Emerging Applications"
      ]
    },
    {
      "cell_type": "markdown",
      "metadata": {
        "id": "KRjwvof3GDqx"
      },
      "source": [
        "## Real Machines"
      ]
    }
  ]
}