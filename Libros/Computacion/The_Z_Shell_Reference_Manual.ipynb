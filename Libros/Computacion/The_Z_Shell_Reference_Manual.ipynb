{
  "nbformat": 4,
  "nbformat_minor": 0,
  "metadata": {
    "colab": {
      "name": "The Z Shell Reference Manual.ipynb",
      "provenance": [],
      "authorship_tag": "ABX9TyO8bDcmHPuAZL9iJ1XWIhCz",
      "include_colab_link": true
    },
    "kernelspec": {
      "name": "python3",
      "display_name": "Python 3"
    },
    "language_info": {
      "name": "python"
    }
  },
  "cells": [
    {
      "cell_type": "markdown",
      "metadata": {
        "id": "view-in-github",
        "colab_type": "text"
      },
      "source": [
        "<a href=\"https://colab.research.google.com/github/dbremont/Notas/blob/main/Libros/Computacion/The_Z_Shell_Reference_Manual.ipynb\" target=\"_parent\"><img src=\"https://colab.research.google.com/assets/colab-badge.svg\" alt=\"Open In Colab\"/></a>"
      ]
    },
    {
      "cell_type": "markdown",
      "source": [
        "# The Z Shell Reference Manual\n",
        "\n",
        "[Ir](https://drive.google.com/file/d/1j37_QJMxsbJg5vMBMfg2QhN6T3LK6RxQ/view?usp=sharing)"
      ],
      "metadata": {
        "id": "tUAOxCrzOF5G"
      }
    },
    {
      "cell_type": "markdown",
      "source": [
        "## Roadmap"
      ],
      "metadata": {
        "id": "2GJo4xDfcqpP"
      }
    },
    {
      "cell_type": "markdown",
      "source": [
        "## Invocation"
      ],
      "metadata": {
        "id": "Jg951z38csa-"
      }
    },
    {
      "cell_type": "markdown",
      "source": [
        "## Files"
      ],
      "metadata": {
        "id": "BXS34OYocuMk"
      }
    },
    {
      "cell_type": "markdown",
      "source": [
        "## Shell Grammar\n",
        "\n"
      ],
      "metadata": {
        "id": "HurTnC0fcvQP"
      }
    },
    {
      "cell_type": "markdown",
      "source": [
        "## Redirection"
      ],
      "metadata": {
        "id": "GZqYbXd2czEu"
      }
    },
    {
      "cell_type": "markdown",
      "source": [
        "## Commad Execution"
      ],
      "metadata": {
        "id": "MjDVybYec04c"
      }
    },
    {
      "cell_type": "markdown",
      "source": [
        "## Functions"
      ],
      "metadata": {
        "id": "jcf8YFk3c3o0"
      }
    },
    {
      "cell_type": "markdown",
      "source": [
        "## Jobs and Signals"
      ],
      "metadata": {
        "id": "3QOI-5Rqc5mM"
      }
    },
    {
      "cell_type": "markdown",
      "source": [
        "## Arithmetic Evaluation"
      ],
      "metadata": {
        "id": "okU6zrHUc7Gx"
      }
    },
    {
      "cell_type": "markdown",
      "source": [
        "## Conditional Expressions"
      ],
      "metadata": {
        "id": "-_HBVvf8c9lK"
      }
    },
    {
      "cell_type": "markdown",
      "source": [
        "## Prompt Expansion"
      ],
      "metadata": {
        "id": "AcumLcbzc_AF"
      }
    },
    {
      "cell_type": "markdown",
      "source": [
        "## Expansion"
      ],
      "metadata": {
        "id": "VkamTBOhdBS_"
      }
    },
    {
      "cell_type": "markdown",
      "source": [
        "## Parameters"
      ],
      "metadata": {
        "id": "YNUtTWNEdDpN"
      }
    },
    {
      "cell_type": "markdown",
      "source": [
        "## Options"
      ],
      "metadata": {
        "id": "7UAwRT8adEz5"
      }
    },
    {
      "cell_type": "markdown",
      "source": [
        "## Shell Builting Commands"
      ],
      "metadata": {
        "id": "30irqBDydF7f"
      }
    },
    {
      "cell_type": "markdown",
      "source": [
        "## Zsh Line Editor"
      ],
      "metadata": {
        "id": "vddXrXk7dIV_"
      }
    },
    {
      "cell_type": "markdown",
      "source": [
        "## Completion Widgets"
      ],
      "metadata": {
        "id": "0K8_4xM8dJ5Q"
      }
    },
    {
      "cell_type": "markdown",
      "source": [
        "## Completion Using compctl"
      ],
      "metadata": {
        "id": "5SXaTerbdNsm"
      }
    },
    {
      "cell_type": "markdown",
      "source": [
        "## Zsh Modules"
      ],
      "metadata": {
        "id": "cANxzyeEdTF3"
      }
    },
    {
      "cell_type": "markdown",
      "source": [
        "## Calendar Functoin Systems"
      ],
      "metadata": {
        "id": "-lWvXxQzdVCu"
      }
    },
    {
      "cell_type": "markdown",
      "source": [
        "## TCP Function System"
      ],
      "metadata": {
        "id": "BPTn-dUJdYoM"
      }
    },
    {
      "cell_type": "markdown",
      "source": [
        "## Zftp Function System"
      ],
      "metadata": {
        "id": "h1hT5G5UdbeQ"
      }
    },
    {
      "cell_type": "markdown",
      "source": [
        "## User Contributions"
      ],
      "metadata": {
        "id": "BqcyTfuSdd3q"
      }
    },
    {
      "cell_type": "markdown",
      "source": [
        "## Concept Index"
      ],
      "metadata": {
        "id": "KXpiJvu8dh4o"
      }
    },
    {
      "cell_type": "markdown",
      "source": [
        "## Variables Index"
      ],
      "metadata": {
        "id": "F_5hTVtOdlFe"
      }
    },
    {
      "cell_type": "markdown",
      "source": [
        "## Options Index"
      ],
      "metadata": {
        "id": "kCC5GLoZdmZX"
      }
    },
    {
      "cell_type": "markdown",
      "source": [
        "## Function Index"
      ],
      "metadata": {
        "id": "WL68P_AIdoHM"
      }
    },
    {
      "cell_type": "markdown",
      "source": [
        "## Editor Functions Index"
      ],
      "metadata": {
        "id": "5Ql--8P2dpmX"
      }
    },
    {
      "cell_type": "markdown",
      "source": [
        "## Style and Tag Index"
      ],
      "metadata": {
        "id": "_H5crX6_drP4"
      }
    }
  ]
}