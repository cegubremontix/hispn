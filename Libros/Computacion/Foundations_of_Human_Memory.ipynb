{
  "nbformat": 4,
  "nbformat_minor": 0,
  "metadata": {
    "colab": {
      "name": "Foundations of Human Memory.ipynb",
      "provenance": [],
      "authorship_tag": "ABX9TyOiMZqQoOSdsa19E5Rki34g",
      "include_colab_link": true
    },
    "kernelspec": {
      "name": "python3",
      "display_name": "Python 3"
    },
    "language_info": {
      "name": "python"
    }
  },
  "cells": [
    {
      "cell_type": "markdown",
      "metadata": {
        "id": "view-in-github",
        "colab_type": "text"
      },
      "source": [
        "<a href=\"https://colab.research.google.com/github/dbremont/Notas/blob/main/Libros/Computacion/Foundations_of_Human_Memory.ipynb\" target=\"_parent\"><img src=\"https://colab.research.google.com/assets/colab-badge.svg\" alt=\"Open In Colab\"/></a>"
      ]
    },
    {
      "cell_type": "markdown",
      "metadata": {
        "id": "DN8Nb3ryG6j4"
      },
      "source": [
        "## Introduction"
      ]
    },
    {
      "cell_type": "markdown",
      "metadata": {
        "id": "jdr4VzN1G-mF"
      },
      "source": [
        "## Item Recognition"
      ]
    },
    {
      "cell_type": "markdown",
      "metadata": {
        "id": "Z_W-fI6hHAkP"
      },
      "source": [
        "## Attribute Models"
      ]
    },
    {
      "cell_type": "markdown",
      "metadata": {
        "id": "l4zXAbugHDVo"
      },
      "source": [
        "## Associations and Cued Recall"
      ]
    },
    {
      "cell_type": "markdown",
      "metadata": {
        "id": "5Vzn_bqoHGGs"
      },
      "source": [
        "## Models of Association"
      ]
    },
    {
      "cell_type": "markdown",
      "metadata": {
        "id": "C0neB05aHJsT"
      },
      "source": [
        "## Free Recall and Memory Search"
      ]
    },
    {
      "cell_type": "markdown",
      "metadata": {
        "id": "2ozaLgLEHNWp"
      },
      "source": [
        "## Models of Free Recall"
      ]
    },
    {
      "cell_type": "markdown",
      "metadata": {
        "id": "k2hOF03CHQJW"
      },
      "source": [
        "## Sequence Memory"
      ]
    },
    {
      "cell_type": "markdown",
      "metadata": {
        "id": "TI-Pj7NRHTEh"
      },
      "source": [
        "## Theories of Sequence Memory"
      ]
    }
  ]
}