{
  "nbformat": 4,
  "nbformat_minor": 0,
  "metadata": {
    "kernelspec": {
      "display_name": "Python 2.7.18 64-bit",
      "name": "python2718jvsc74a57bd0f92b2924b84ff19c1c3dc485f7644d4486f64738191026bf8e6de303969141b5"
    },
    "language_info": {
      "name": "python",
      "version": ""
    },
    "metadata": {
      "interpreter": {
        "hash": "f92b2924b84ff19c1c3dc485f7644d4486f64738191026bf8e6de303969141b5"
      }
    },
    "orig_nbformat": 2,
    "colab": {
      "name": "Clean Architecture - A Craftsman's Guide to Software Structure and Design.ipynb",
      "provenance": [],
      "include_colab_link": true
    }
  },
  "cells": [
    {
      "cell_type": "markdown",
      "metadata": {
        "id": "view-in-github",
        "colab_type": "text"
      },
      "source": [
        "<a href=\"https://colab.research.google.com/github/dbremont/Notas/blob/main/Libros/Computacion/Clean%20Architecture%20-%20A%20Craftsman's%20Guide%20to%20Software%20Structure%20and%20Design.ipynb\" target=\"_parent\"><img src=\"https://colab.research.google.com/assets/colab-badge.svg\" alt=\"Open In Colab\"/></a>"
      ]
    },
    {
      "cell_type": "markdown",
      "metadata": {
        "id": "xZ0tKd4i5hoE"
      },
      "source": [
        "Clean Architecture - A Craftsman's Guide to Software Structure and Design"
      ]
    },
    {
      "cell_type": "markdown",
      "metadata": {
        "id": "e39YLEjA5hoK"
      },
      "source": [
        "What is Design and Architecture?\n",
        "\n",
        "- The goal of software architecutre is to minimize the human resources required to build and maintain the required system.\n",
        "\n",
        "The architecture of a system is its 'skeleton'. It's the highest level of abstraction of a system. What kind of data storage is present, how do modules interact with each other, what recovery systems are in place. Just like design patterns, there are architectural patterns: MVC, 3-tier layered design, etc.\n",
        "\n",
        "Software design is about designing the individual modules / components. What are the responsibilities, functions, of module x? Of class Y? What can it do, and what not? What design patterns can be used?\n",
        "\n",
        "So in short, Software architecture is more about the design of the entire system, while software design emphasizes on module / component / class level.\n",
        "\n",
        "\n",
        "Architecture: Blueprint of the systems. High level view of the components and interaction between them.\n",
        "Design: Plan/Specificacion of the components (Internals).\n",
        "\n",
        "- So architecture and design are a continue of a specification of an engineering system.\n",
        "- Then it's hard to say when a specification is architecture or design. [Because it's not discrete but continuous.]\n",
        "\n",
        "\n",
        "A Tale of Two Values"
      ]
    }
  ]
}