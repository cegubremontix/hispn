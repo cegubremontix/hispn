{
  "nbformat": 4,
  "nbformat_minor": 0,
  "metadata": {
    "kernelspec": {
      "display_name": "Python 2.7.18 64-bit",
      "name": "python2718jvsc74a57bd0f92b2924b84ff19c1c3dc485f7644d4486f64738191026bf8e6de303969141b5"
    },
    "language_info": {
      "name": "python",
      "version": ""
    },
    "metadata": {
      "interpreter": {
        "hash": "f92b2924b84ff19c1c3dc485f7644d4486f64738191026bf8e6de303969141b5"
      }
    },
    "orig_nbformat": 2,
    "colab": {
      "name": "Practical Object-Oriented Design in Ruby.ipynb",
      "provenance": [],
      "include_colab_link": true
    }
  },
  "cells": [
    {
      "cell_type": "markdown",
      "metadata": {
        "id": "view-in-github",
        "colab_type": "text"
      },
      "source": [
        "<a href=\"https://colab.research.google.com/github/dbremont/Notas/blob/main/Libros/Computacion/Practical%20Object-Oriented%20Design%20in%20Ruby.ipynb\" target=\"_parent\"><img src=\"https://colab.research.google.com/assets/colab-badge.svg\" alt=\"Open In Colab\"/></a>"
      ]
    },
    {
      "cell_type": "markdown",
      "metadata": {
        "id": "97stuhpC5uf1"
      },
      "source": [
        "Practical Object-Oriented Design in Ruby"
      ]
    },
    {
      "cell_type": "markdown",
      "metadata": {
        "id": "m7CPvTrGkwID"
      },
      "source": [
        "## Object-Oriented Design"
      ]
    },
    {
      "cell_type": "markdown",
      "metadata": {
        "id": "TH2NhuAIvEmL"
      },
      "source": [
        "- This book is about designing object-oriented software, and it views the world as a series of spontaneous interactions between objects.\n",
        "\n",
        "- Object-oriented applications are made up of objects and the messages that pass between them. \n",
        "\n",
        "- Objects \n",
        "- Behavior  (Procedures)\n",
        "- Events\n",
        "\n",
        "- Modelling the world as a series of messages that pass between objects.\n",
        "\n",
        "- **Software Design**: The arregment of code, or its factor graph. \n",
        "\n",
        "- Good design is important to aid changes into applications.\n",
        "\n",
        "**Why Change is Hard?**\n",
        "\n",
        "- Imagine the factor graph of the code **($f_1$)**, if you want to introduce new functionality to produce code with factor graph **($f_1'$)**. How hard to go from **($f_1$)** \t$\\rightarrow$ **($f_1'$)**, will \n",
        "depend on the structure of **($f_1$)**.\n",
        "\n",
        "\n",
        "**Design Principles**\n",
        "\n",
        "- What is a principle:\n",
        "  - A fundamental truth or proposition that serves as the foundation for a system of belief or behaviour or for a chain of reasoning.\n",
        "  - A general scientific theorem or law that has numerous special applications across a wide field.\n",
        "\n",
        "- SOLID:\n",
        "  - S: Single Responsability\n",
        "  - O: Open-Closed\n",
        "  - L: Liskov Substitution\n",
        "  - I: Interface Segregation\n",
        "  - D: Dependency Inversion\n",
        "\n",
        "- DRY: Don't repeat yourself.\n",
        "- LoD: Low of Demeter.\n",
        "\n",
        "**Design Patterns**\n",
        "\n",
        "- Useful to name common problems and to solve the problems in common ways brings the fuzzy into focus.\n",
        "\n",
        "\n",
        "**When to Design**\n",
        "\n",
        "- Agile believes that your customers can't define the software they want before seeing it, so it's best to show them sooner rather than leter. If these premise it's true, then it follows that you should create your application incrementaly and with continous feedback from the customers in order to aproach the customers true need's.\n",
        "\n",
        "- So, when requirements is not clear or it's spected to change, then design is need it.\n",
        "\n",
        "**Procedural Languages**\n",
        "  - Data and behavior decoupled.\n",
        "\n",
        "**Object Oriented Languages**\n",
        "  - Couple data and behavior."
      ]
    },
    {
      "cell_type": "markdown",
      "metadata": {
        "id": "3hx4p7NPk0HS"
      },
      "source": [
        "## Designing Classes with a Single Responsability"
      ]
    },
    {
      "cell_type": "markdown",
      "metadata": {
        "id": "drGmY6aHk5Af"
      },
      "source": [
        "## Managing Dependencies"
      ]
    },
    {
      "cell_type": "markdown",
      "metadata": {
        "id": "7Wvcqnsek8Ay"
      },
      "source": [
        "## Creating Flexible Interfaces"
      ]
    },
    {
      "cell_type": "markdown",
      "metadata": {
        "id": "_nb7Jznrk_yX"
      },
      "source": [
        "## Reducing Cost with Duck Typing"
      ]
    },
    {
      "cell_type": "markdown",
      "metadata": {
        "id": "KZob9ohclbOV"
      },
      "source": [
        "## Acquiring Behavior Through Inheritance"
      ]
    },
    {
      "cell_type": "markdown",
      "metadata": {
        "id": "0bISWHHbllgx"
      },
      "source": [
        "## Sharing Role Behavior with Modules"
      ]
    },
    {
      "cell_type": "markdown",
      "metadata": {
        "id": "bUXvtbI6mqYh"
      },
      "source": [
        "## Combining Objects with Composition"
      ]
    },
    {
      "cell_type": "markdown",
      "metadata": {
        "id": "0Vfs2yDBs2BY"
      },
      "source": [
        "## Designing Cost-Effective Tests"
      ]
    },
    {
      "cell_type": "markdown",
      "metadata": {
        "id": "ZdFE6HUPs6OK"
      },
      "source": [
        ""
      ]
    }
  ]
}