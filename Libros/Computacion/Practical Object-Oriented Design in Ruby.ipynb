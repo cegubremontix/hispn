{
  "nbformat": 4,
  "nbformat_minor": 0,
  "metadata": {
    "kernelspec": {
      "display_name": "Python 2.7.18 64-bit",
      "name": "python2718jvsc74a57bd0f92b2924b84ff19c1c3dc485f7644d4486f64738191026bf8e6de303969141b5"
    },
    "language_info": {
      "name": "python",
      "version": ""
    },
    "metadata": {
      "interpreter": {
        "hash": "f92b2924b84ff19c1c3dc485f7644d4486f64738191026bf8e6de303969141b5"
      }
    },
    "orig_nbformat": 2,
    "colab": {
      "name": "Practical Object-Oriented Design in Ruby.ipynb",
      "provenance": [],
      "include_colab_link": true
    }
  },
  "cells": [
    {
      "cell_type": "markdown",
      "metadata": {
        "id": "view-in-github",
        "colab_type": "text"
      },
      "source": [
        "<a href=\"https://colab.research.google.com/github/dbremont/Notas/blob/main/Libros/Computacion/Practical%20Object-Oriented%20Design%20in%20Ruby.ipynb\" target=\"_parent\"><img src=\"https://colab.research.google.com/assets/colab-badge.svg\" alt=\"Open In Colab\"/></a>"
      ]
    },
    {
      "cell_type": "markdown",
      "metadata": {
        "id": "97stuhpC5uf1"
      },
      "source": [
        "Practical Object-Oriented Design in Ruby"
      ]
    },
    {
      "cell_type": "markdown",
      "metadata": {
        "id": "m7CPvTrGkwID"
      },
      "source": [
        "## Object-Oriented Design"
      ]
    },
    {
      "cell_type": "markdown",
      "metadata": {
        "id": "TH2NhuAIvEmL"
      },
      "source": [
        "- This book is about designing object-oriented software, and it views the world as a series of spontaneous interactions between objects.\n",
        "\n",
        "- Objects \n",
        "- Behavior  (Procedures)\n",
        "- Events\n",
        "\n",
        "- Modelling the world as a series of messages that pass between objects.\n",
        "\n",
        "- Good design is important to aid changes into applications.\n",
        "\n",
        "**Why Change is Hard?**\n"
      ]
    },
    {
      "cell_type": "markdown",
      "metadata": {
        "id": "3hx4p7NPk0HS"
      },
      "source": [
        "## Designing Classes with a Single Responsability"
      ]
    },
    {
      "cell_type": "markdown",
      "metadata": {
        "id": "drGmY6aHk5Af"
      },
      "source": [
        "## Managing Dependencies"
      ]
    },
    {
      "cell_type": "markdown",
      "metadata": {
        "id": "7Wvcqnsek8Ay"
      },
      "source": [
        "## Creating Flexible Interfaces"
      ]
    },
    {
      "cell_type": "markdown",
      "metadata": {
        "id": "_nb7Jznrk_yX"
      },
      "source": [
        "## Reducing Cost with Duck Typing"
      ]
    },
    {
      "cell_type": "markdown",
      "metadata": {
        "id": "KZob9ohclbOV"
      },
      "source": [
        "## Acquiring Behavior Through Inheritance"
      ]
    },
    {
      "cell_type": "markdown",
      "metadata": {
        "id": "0bISWHHbllgx"
      },
      "source": [
        "## Sharing Role Behavior with Modules"
      ]
    },
    {
      "cell_type": "markdown",
      "metadata": {
        "id": "bUXvtbI6mqYh"
      },
      "source": [
        "## Combining Objects with Composition"
      ]
    },
    {
      "cell_type": "markdown",
      "metadata": {
        "id": "0Vfs2yDBs2BY"
      },
      "source": [
        "## Designing Cost-Effective Tests"
      ]
    },
    {
      "cell_type": "markdown",
      "metadata": {
        "id": "ZdFE6HUPs6OK"
      },
      "source": [
        ""
      ]
    }
  ]
}