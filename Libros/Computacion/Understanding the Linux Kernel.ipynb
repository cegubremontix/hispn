{
  "nbformat": 4,
  "nbformat_minor": 0,
  "metadata": {
    "kernelspec": {
      "display_name": "Python 2.7.18 64-bit",
      "name": "python2718jvsc74a57bd0f92b2924b84ff19c1c3dc485f7644d4486f64738191026bf8e6de303969141b5"
    },
    "language_info": {
      "name": "python",
      "version": ""
    },
    "metadata": {
      "interpreter": {
        "hash": "f92b2924b84ff19c1c3dc485f7644d4486f64738191026bf8e6de303969141b5"
      }
    },
    "orig_nbformat": 2,
    "colab": {
      "name": "Understanding the Linux Kernel.ipynb",
      "provenance": [],
      "include_colab_link": true
    }
  },
  "cells": [
    {
      "cell_type": "markdown",
      "metadata": {
        "id": "view-in-github",
        "colab_type": "text"
      },
      "source": [
        "<a href=\"https://colab.research.google.com/github/dbremont/Notas/blob/main/Libros/Computacion/Understanding%20the%20Linux%20Kernel.ipynb\" target=\"_parent\"><img src=\"https://colab.research.google.com/assets/colab-badge.svg\" alt=\"Open In Colab\"/></a>"
      ]
    },
    {
      "cell_type": "markdown",
      "metadata": {
        "id": "nOQ6i0Up5roD"
      },
      "source": [
        "# Understanding the Linux Kernel\n",
        "\n",
        "[src](https://github.com/torvalds/linux)"
      ]
    },
    {
      "cell_type": "markdown",
      "metadata": {
        "id": "tnpG1vMGyVrH"
      },
      "source": [
        "Questions?\n",
        "\n",
        "- List all the executable files\n",
        "- Kernel instropection?\n",
        "- The kernel is not a process itself, but a process manager.\n",
        "\n",
        "Abstraction"
      ]
    },
    {
      "cell_type": "markdown",
      "metadata": {
        "id": "qs1-iLZEvSbO"
      },
      "source": [
        "## Introduction\n",
        "ankify **done**"
      ]
    },
    {
      "cell_type": "markdown",
      "metadata": {
        "id": "APvFXAJPw2Xl"
      },
      "source": [
        "- Multiuser systems\n",
        "- Processes\n",
        "- Kernel Architecture\n",
        "  - Monolitic [Kernel Modules]\n",
        "  - Microkernel\n",
        "\n",
        "- Unix file system\n",
        "- files: a sequence  of bytes\n",
        "- unix associates a current working directory with each process.\n",
        "- file pathname\n",
        "- file links\n",
        "  - hard\n",
        "  - soft\n",
        "\n",
        "- file types\n",
        "  - Regular file\n",
        "  - Directory\n",
        "  - Symbolic link\n",
        "  - Black-oriented device file\n",
        "  - Characacter-oriented device file\n",
        "  - pipe and name pipe\n",
        "  - socket \n",
        "\n",
        "- All information needed by the filesystem to handle a file is included in a data structure called *inode*\n",
        "\n",
        "- File atributes\n",
        "- Acess rights and file mode\n",
        "- 'open file' abstraction what the kernel provides.\n",
        "- Cpu execution modes\n"
      ]
    },
    {
      "cell_type": "markdown",
      "metadata": {
        "id": "voisEH8UvyJj"
      },
      "source": [
        "## Memory Addressing"
      ]
    },
    {
      "cell_type": "markdown",
      "metadata": {
        "id": "oUuOzY-Lv1Vc"
      },
      "source": [
        "## Processes"
      ]
    },
    {
      "cell_type": "markdown",
      "metadata": {
        "id": "Y4gMxVDkv20F"
      },
      "source": [
        "## Interrups and Exceptions"
      ]
    },
    {
      "cell_type": "markdown",
      "metadata": {
        "id": "Xf69O4m3v6Oi"
      },
      "source": [
        "## Kernel Synchonization"
      ]
    },
    {
      "cell_type": "markdown",
      "metadata": {
        "id": "alM8bfz1v-vq"
      },
      "source": [
        "## Timing Measurements"
      ]
    },
    {
      "cell_type": "markdown",
      "metadata": {
        "id": "m9T0MmbiwDQB"
      },
      "source": [
        "## Process Scheduling"
      ]
    },
    {
      "cell_type": "markdown",
      "metadata": {
        "id": "yyS8YOmrwHBS"
      },
      "source": [
        "## Memory Management"
      ]
    },
    {
      "cell_type": "markdown",
      "metadata": {
        "id": "mRF4O4_ewJ6q"
      },
      "source": [
        "## Process Address Space"
      ]
    },
    {
      "cell_type": "markdown",
      "metadata": {
        "id": "rVzghN4wwNDf"
      },
      "source": [
        "## System Calls"
      ]
    },
    {
      "cell_type": "markdown",
      "metadata": {
        "id": "qWQkIcQ0wOxJ"
      },
      "source": [
        "## Signals"
      ]
    },
    {
      "cell_type": "markdown",
      "metadata": {
        "id": "B_2yr79lwQb1"
      },
      "source": [
        "## The Virtual FileSystems"
      ]
    },
    {
      "cell_type": "markdown",
      "metadata": {
        "id": "DXmDSbX-wTto"
      },
      "source": [
        "## I/O Architecture Arhitecture and Device Drivers"
      ]
    },
    {
      "cell_type": "markdown",
      "metadata": {
        "id": "1E6tyD5ZwZs6"
      },
      "source": [
        "## Block Device Drivers"
      ]
    },
    {
      "cell_type": "markdown",
      "metadata": {
        "id": "ol1zODG-weHK"
      },
      "source": [
        "## The Page Cache"
      ]
    },
    {
      "cell_type": "markdown",
      "metadata": {
        "id": "RTB8zfUxwhNa"
      },
      "source": [
        "## Accessing Files"
      ]
    },
    {
      "cell_type": "markdown",
      "metadata": {
        "id": "O32XsQCuwlXU"
      },
      "source": [
        "## Page Frame Reclaiming"
      ]
    },
    {
      "cell_type": "markdown",
      "metadata": {
        "id": "6-lxgZ-9wooi"
      },
      "source": [
        "## The Ext2 and Ext3 Filesystems"
      ]
    },
    {
      "cell_type": "markdown",
      "metadata": {
        "id": "02uxhrTNwtPW"
      },
      "source": [
        "## Process Communication"
      ]
    },
    {
      "cell_type": "markdown",
      "metadata": {
        "id": "2uQ5-ba7wwSo"
      },
      "source": [
        "## Program Execution"
      ]
    }
  ]
}