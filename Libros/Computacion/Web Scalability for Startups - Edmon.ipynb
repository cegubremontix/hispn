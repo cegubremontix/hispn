{
  "nbformat": 4,
  "nbformat_minor": 0,
  "metadata": {
    "kernelspec": {
      "display_name": "Python 2.7.18 64-bit",
      "name": "python2718jvsc74a57bd0f92b2924b84ff19c1c3dc485f7644d4486f64738191026bf8e6de303969141b5"
    },
    "language_info": {
      "name": "python",
      "version": ""
    },
    "metadata": {
      "interpreter": {
        "hash": "f92b2924b84ff19c1c3dc485f7644d4486f64738191026bf8e6de303969141b5"
      }
    },
    "orig_nbformat": 2,
    "colab": {
      "name": "Web Scalability for Startups - Edmon.ipynb",
      "provenance": [],
      "include_colab_link": true
    }
  },
  "cells": [
    {
      "cell_type": "markdown",
      "metadata": {
        "id": "view-in-github",
        "colab_type": "text"
      },
      "source": [
        "<a href=\"https://colab.research.google.com/github/dbremont/Notas/blob/main/Libros/Computacion/Web%20Scalability%20for%20Startups%20-%20Edmon.ipynb\" target=\"_parent\"><img src=\"https://colab.research.google.com/assets/colab-badge.svg\" alt=\"Open In Colab\"/></a>"
      ]
    },
    {
      "cell_type": "markdown",
      "metadata": {
        "id": "qn_rX_e366c0"
      },
      "source": [
        "Web Scalability for Startups"
      ]
    },
    {
      "cell_type": "markdown",
      "metadata": {
        "id": "UzI1PSIrHtC_"
      },
      "source": [
        "## Core Concepts"
      ]
    },
    {
      "cell_type": "markdown",
      "metadata": {
        "id": "0SevHa_AI0MD"
      },
      "source": [
        "What is Scalability?\n",
        "\n",
        "Evolution from a Single Server to a Global Audience\n",
        "\n",
        "Single-Server Configuration\n",
        "\n",
        "Making the Server Stronger: Scaling Vertically\n",
        "\n",
        "Isolation of Services\n",
        "\n",
        "Content Delivery Network: Scalability for Static Content\n",
        "\n",
        "Distributing  the Traffict: Horizontal Scalabilty\n",
        "\n",
        "Scalability for a Global Audience\n",
        "\n",
        "Edge Cache\n",
        "\n",
        "Overview of a Data Center Infraestructure\n",
        "\n",
        "The Front Line\n",
        "\n",
        "Web Application Layer\n",
        "\n",
        "Web Services Layer\n",
        "\n",
        "Additional Components\n",
        "\n",
        "Data Persistance Layer\n",
        "\n",
        "Data Center Infrastructure\n",
        "\n",
        "Overview of the Application Architecture\n",
        "\n",
        "Front End\n",
        "\n",
        "Web Services\n",
        "\n",
        "Service-oriented architecture (SOA)\n",
        "\n",
        "Multilayer architecture\n",
        "\n",
        "Hexagonal architecture\n",
        "\n",
        "Event-driven architecture\n"
      ]
    },
    {
      "cell_type": "markdown",
      "metadata": {
        "id": "nRwGXhfAHvHM"
      },
      "source": [
        "## Principles of Good Software Design"
      ]
    },
    {
      "cell_type": "markdown",
      "metadata": {
        "id": "3iBwcrHAKGQY"
      },
      "source": [
        "Simplicity\n",
        "\n",
        "Hide Complexity and Build Abstraction\n",
        "\n",
        "Avoid Overengineering \n",
        "\n",
        "Try Test-Driven Development\n",
        "\n",
        "Learn from Models of  Simplicity in Software Design\n",
        "\n",
        "Grails \n",
        "\n",
        "Hadoop\n",
        "\n",
        "goelge Maps API\n",
        "\n",
        "Loose Coupling\n",
        "\n",
        "Promoting Loose Coupling\n",
        "\n",
        "Avoiding Unecessary Coupling\n",
        "\n",
        "Models of Loose Coupling\n",
        "\n",
        "Don't Repeat Yourself (DRY)\n",
        "\n",
        "Copy and Paste Programming\n",
        "\n",
        "Coding to Contract\n",
        "\n",
        "Contract\n",
        "\n",
        "Draw Diagrams\n",
        "\n",
        "Use Case Diagrams\n",
        "\n",
        "Class Diagrams\n",
        "\n",
        "Module Diagrams\n",
        "\n",
        "Single Responsability\n",
        "\n",
        "Promoting Single Responsability\n",
        "\n",
        "Examples of Single Responsability\n",
        "\n",
        "Open-Closed Principle\n",
        "\n",
        "Dependency Injection\n",
        "\n",
        "Inversion of Control (IOC)\n",
        "\n",
        "Designing for Scale\n",
        "\n",
        "Functional Partitioning\n",
        "\n",
        "Data Partitioning\n",
        "\n",
        "Design for Self-Healing\n",
        "\n",
        "Single point of failure\n",
        "\n",
        "Redundancy\n",
        "\n",
        "Mean time to recovery"
      ]
    },
    {
      "cell_type": "markdown",
      "metadata": {
        "id": "6SlNPh45H0QN"
      },
      "source": [
        "## Building the Front-End Layer"
      ]
    },
    {
      "cell_type": "markdown",
      "metadata": {
        "id": "waf9PX0aMM4z"
      },
      "source": [
        "Managing State\n",
        "\n",
        "Managing HTTP Sessions\n",
        "\n",
        "Managing Files\n",
        "\n",
        "Managing Other Types of State\n",
        "\n",
        "Components of the Scalable Front End\n",
        "\n",
        "DNS\n",
        "\n",
        "Load Balancers\n",
        "\n",
        "Load Balancer as a Hosted Service\n",
        "\n",
        "Self-Managed Software-Based Load Balancer\n",
        "\n",
        "Hardware Load Balancer\n",
        "\n",
        "Web Servers\n",
        "\n",
        "Caching\n",
        "\n",
        "Auto-Scaling\n",
        "\n",
        "Deployment Examples\n",
        "\n",
        "AWS Scenario\n",
        "\n",
        "Private Data Center"
      ]
    },
    {
      "cell_type": "markdown",
      "metadata": {
        "id": "YhBgsBIyH3jU"
      },
      "source": [
        "## Web Services"
      ]
    },
    {
      "cell_type": "markdown",
      "metadata": {
        "id": "KpdFmpnbNCi1"
      },
      "source": [
        "Designing  Web Services\n",
        "\n",
        "Web Services as an Alternative Presentation Layer\n",
        "\n",
        "API-First Approach\n",
        "\n",
        "Pragmantic Approach\n",
        "\n",
        "Types of Web Services\n",
        "\n",
        "Function-Centric Services\n",
        "\n",
        "Resource-Centric Services\n",
        "\n",
        "Scaling REST Web Services\n",
        "\n",
        "Keeping Service Machines Stateless\n",
        "\n",
        "Caching Service Responses\n",
        "\n",
        "Functional Partitioning\n"
      ]
    },
    {
      "cell_type": "markdown",
      "metadata": {
        "id": "JI0NQ2SvH5cj"
      },
      "source": [
        "## Data Layer"
      ]
    },
    {
      "cell_type": "markdown",
      "metadata": {
        "id": "u5KeOo6sOPGr"
      },
      "source": [
        "Scaling with MySQL\n",
        "\n",
        "Replication\n",
        "\n",
        "Replication Challenges\n",
        "\n",
        "Data Partitioning (Sharding)\n",
        "\n",
        "Chosing the Sharding Key\n",
        "\n",
        "Challenges of Sharding\n",
        "\n",
        "Putting It All Together\n",
        "\n",
        "Scaling with NoSQL\n",
        "\n",
        "The Rise of Eventual Consistency'\n",
        "\n",
        "Faster Recovery To Increase Availability\n",
        "\n",
        "Cassandra Topology"
      ]
    },
    {
      "cell_type": "markdown",
      "metadata": {
        "id": "nXviF52OH6vr"
      },
      "source": [
        "## Catching"
      ]
    },
    {
      "cell_type": "markdown",
      "metadata": {
        "id": "eE_tQEKPO8Re"
      },
      "source": [
        "Cache Hit Ratio\n",
        "\n",
        "Caching Based on HTTP\n",
        "\n",
        "HTTP Caching Headers\n",
        "\n",
        "Types of HTTP Cache Technologies\n",
        "\n",
        "Browser Cache\n",
        "\n",
        "Caching Proxies\n",
        "\n",
        "Reverse Proxy\n",
        "\n",
        "Content Delivery Networks\n",
        "\n",
        "Scaling HTTP Caches\n",
        "\n",
        "Caching Application Objects\n",
        "\n",
        "Common Types of Object Caches\n",
        "\n",
        "Client-Side Caches\n",
        "\n",
        "Caches Co-located with Code\n",
        "\n",
        "Distributed Object Caches\n",
        "\n",
        "Scaling Object Caches\n",
        "\n",
        "Caching Rules of Thumb\n",
        "\n",
        "Cache High Up the Call Stack\n",
        "\n",
        "Reuse Cache Among Users\n",
        "\n",
        "Where to Start Caching?\n",
        "\n",
        "Cache Invalidation Is Difficult"
      ]
    },
    {
      "cell_type": "markdown",
      "metadata": {
        "id": "431xbZEyH8XK"
      },
      "source": [
        "## Asynchronous Processing"
      ]
    },
    {
      "cell_type": "markdown",
      "metadata": {
        "id": "Dad-49kNTi02"
      },
      "source": [
        "Synchronous processing\n",
        "\n",
        "Blocking\n",
        "\n",
        "Callback\n",
        "\n",
        "Nonblocking I/O\n",
        "\n",
        "Shopping Analogy\n",
        "\n",
        "Message Queues\n",
        "\n",
        "Message Producers\n",
        "\n",
        "Message Broker\n",
        "\n",
        "Message Consumers\n",
        "\n",
        "Cron-like consumer\n",
        "\n",
        "Daemon-like consumer\n",
        "\n",
        "Direct Worker Queue Method\n",
        "\n",
        "Publish/Substrative Method\n",
        "\n",
        "Custom Routing Rules\n",
        "\n",
        "Messaging Protocols\n",
        "\n",
        "Messaging Infraestructure\n",
        "\n",
        "Benefits of Message Queues\n",
        "\n",
        "Enabling Asynchonous Processing\n",
        "\n",
        "Easier Scalability\n",
        "\n",
        "Evening Out Traffict Spikes\n",
        "\n",
        "Isolating Failures and Self-Healing\n",
        "\n",
        "Decoupling\n",
        "\n",
        "Message Queue-Related Challenges\n",
        "\n",
        "No Message Ordering\n",
        "\n",
        "Message Requeueing\n",
        "\n",
        "Race Conditions Become More Likely\n",
        "\n",
        "Risk of Increased Complexity\n",
        "\n",
        "Message Queue-Related Anti-Patterns\n",
        "\n",
        "Treating the Message Queue as a TCP Socket\n",
        "\n",
        "Treating Message Queue as a Database\n",
        "\n",
        "Coupling Message Producers with Consumers\n",
        "\n",
        "Lack of Poison Message Handling\n",
        "\n",
        "Quick Comparison of Selected Messaging Platforms\n",
        "\n",
        "Amazon Simple Queue Service\n",
        "\n",
        "RabitMQ\n",
        "\n",
        "ActiveMQ\n",
        "\n",
        "Event-Driven Architecture\n",
        "\n",
        "Request/Response Interaction\n",
        "\n",
        "Direct Worker Queue Interaction\n",
        "\n",
        "Event-Based Interaction"
      ]
    },
    {
      "cell_type": "markdown",
      "metadata": {
        "id": "fcoykIeLIjsG"
      },
      "source": [
        "## Searching for Data"
      ]
    },
    {
      "cell_type": "markdown",
      "metadata": {
        "id": "-pwr7MRvVU_L"
      },
      "source": [
        "Indexing\n",
        "\n",
        "Modeling Data\n",
        "\n",
        "NoSQL Data Modeling\n",
        "\n",
        "Wide Column Storage Example\n",
        "\n",
        "Search Engines\n",
        "\n",
        "Introduction to Search Engines\n",
        "\n",
        "Using a Dedicated Search Engine"
      ]
    },
    {
      "cell_type": "markdown",
      "metadata": {
        "id": "-XjuRUqXIlRN"
      },
      "source": [
        "## Other Dimensions for Scalability"
      ]
    },
    {
      "cell_type": "markdown",
      "metadata": {
        "id": "ZYI-BkHeVoYI"
      },
      "source": [
        "Scaling Productivity through Automation\n",
        "\n",
        "Testing\n",
        "\n",
        "Build and Deployment\n",
        "\n",
        "Monitoring and Alerting\n",
        "\n",
        "Aplication metrics\n",
        "\n",
        "Log Aggregation\n",
        "\n",
        "Scaling Yourself\n",
        "\n",
        "Overtime Is Not a Way to Scale\n",
        "\n",
        "Managing Yourself\n",
        "\n",
        "Influcencing the Scope\n",
        "\n",
        "Influcencing the Cost\n",
        "\n",
        "Scaling Agile Teams\n",
        "\n",
        "Adding More People\n",
        "\n",
        "Procedures and Innovation \n",
        "\n",
        "Culture of Alignment\n",
        "\n"
      ]
    },
    {
      "cell_type": "markdown",
      "metadata": {
        "id": "z89QDktBIrjW"
      },
      "source": [
        "## References"
      ]
    }
  ]
}