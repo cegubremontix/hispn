{
  "nbformat": 4,
  "nbformat_minor": 0,
  "metadata": {
    "kernelspec": {
      "display_name": "Python 2.7.18 64-bit",
      "name": "python2718jvsc74a57bd0f92b2924b84ff19c1c3dc485f7644d4486f64738191026bf8e6de303969141b5"
    },
    "language_info": {
      "name": "python",
      "version": ""
    },
    "metadata": {
      "interpreter": {
        "hash": "f92b2924b84ff19c1c3dc485f7644d4486f64738191026bf8e6de303969141b5"
      }
    },
    "orig_nbformat": 2,
    "colab": {
      "name": "201 Principles of Software Development.ipynb",
      "provenance": [],
      "toc_visible": true,
      "include_colab_link": true
    }
  },
  "cells": [
    {
      "cell_type": "markdown",
      "metadata": {
        "id": "view-in-github",
        "colab_type": "text"
      },
      "source": [
        "<a href=\"https://colab.research.google.com/github/dbremont/Notas/blob/main/Libros/Computacion/201%20Principles%20of%20Software%20Development.ipynb\" target=\"_parent\"><img src=\"https://colab.research.google.com/assets/colab-badge.svg\" alt=\"Open In Colab\"/></a>"
      ]
    },
    {
      "cell_type": "markdown",
      "metadata": {
        "id": "uUxcdq2i53-j"
      },
      "source": [
        "201 Principles of Software Development\n",
        "\n",
        "- Estrategia para recordar estos principios.\n",
        "- Recordar mis problemas con la memoria asociativa.\n",
        "\n",
        "\n",
        "- Principles\n",
        "- [Techniques](https://es.wikipedia.org/wiki/T%C3%A9cnica)\n",
        "- Languages: consist of a set of primitive elments (such as words or graphical symbols) and a set of rules by which one can construct more complex entities (such as sentences, diagrams, models) from those primitive elmetns, as well as semantics that endow each combination of entities with meaning.\n",
        "- Tools: are software programs that assits on a software engineer in performing some step of software engineering. ej\n",
        "  - knowlege base, requirements assitant,\n",
        "  - data-flow diagram checker,\n",
        "  - compiler,\n",
        "  - editor."
      ]
    },
    {
      "cell_type": "markdown",
      "metadata": {
        "id": "RpPtxxevLw7C"
      },
      "source": [
        "## Introduction"
      ]
    },
    {
      "cell_type": "markdown",
      "metadata": {
        "id": "4QDw_zmyLzQc"
      },
      "source": [
        "## General Principles\n",
        "\n",
        "\n",
        "- 21: Different Languages for Different Phases\n",
        "- 22: Technique Before Tools\n",
        "- 23: Use Tools, but Be Realistic\n",
        "- 26: \"Know-When\" Is as  Important as Know-How\n",
        "- 28: Know  your formal methods\n",
        "- 30: Follow the Lemmings with Care\n",
        "- 32: Use Documentations Standars\n",
        "- 33: Every Document Needs a Glossary\n",
        "- 34: Every Software Document Needs and Index\n",
        "- 35: Use the Same for the Same Concept\n",
        "- 36: Research-Then-Transfer Does not Work\n",
        "- 37: Take Responsability"
      ]
    },
    {
      "cell_type": "markdown",
      "metadata": {
        "id": "pYgNwUd9XoQP"
      },
      "source": [
        "### 10: Plan to Throw One Away"
      ]
    },
    {
      "cell_type": "markdown",
      "metadata": {
        "id": "fAM8Rw87Xqpp"
      },
      "source": [
        "1. Elaborate on the importance of prototypes when building brand-new applications. <br>\n",
        "2. Elaborate on the analogy with Chemical Engineers.\n",
        "\n",
        "Software trying to solve problems that have in  been solve in the past, are very rarely work at the first time.\n",
        "As a developer of a new custom product,  plan to build a series of throwaway prototypes before embarking on the full-scale product development.\n",
        "\n",
        "Software its about evolution, copy and paste, the mouse everything have to be inventedl. \n",
        "So  one does not have a monopoly on good abstractiosn and design.\n",
        "One most try to solve a sub-set of problems and improve over future iterations.\n",
        "\n",
        "----\n",
        "\n",
        "Chemical engineers learned long ago that a process that works in the laboratory cannot be implemented oin a factory in only one step. An intermediate step called the pilot plant is necessary to give experience in scaling quantities up and in operating in nonprotective environments. For example, a laboratory process for desalting water wil be tested in a pilot plant of 10,000 gallon/day capacity before being used for a 2,000,000 galon/day community water system.\n",
        "\n",
        "Programmers have been exposed to the idea of pilot projects but have not learn the lesson yet.\n",
        "The first version of the system build is barely usable. It may be too slow, too big, awkward to use, or all of three. Do it again and solve the problems of the first version\n"
      ]
    },
    {
      "cell_type": "markdown",
      "metadata": {
        "id": "cClAfPYSXzEW"
      },
      "source": [
        "### 11: Build the Right Kind of Prototype"
      ]
    },
    {
      "cell_type": "markdown",
      "metadata": {
        "id": "q7VITFf2bwBp"
      },
      "source": [
        "1. Throwaway prototypes \n",
        "2. Evolutionary prototypes \n",
        "3 When to build Throwaway prototypes vs Evolutionary prototypes\n",
        "\n",
        "---\n",
        "\n",
        "1. Throwaway prototypes are for recieving quick user feedback, and thrown away once the desired information is learned.\n",
        "2. Evolutionary prototypes are build in a quality manner, are given to the customer for feedback, and are modified once the desired information is learned  to better approximates the users needs.\n",
        "3. Throwaway prototypes should be build when critical features are poorly understood. Evolutionary prototypes should be build when the critical functions are well understood but others functions are not.\n",
        "\n",
        "What critics should i have for this model?\n"
      ]
    },
    {
      "cell_type": "markdown",
      "metadata": {
        "id": "V2KbAim0X2ej"
      },
      "source": [
        "### 12: Build the Right Features into a Prototype"
      ]
    },
    {
      "cell_type": "markdown",
      "metadata": {
        "id": "4mpB4p3wb-rC"
      },
      "source": [
        "What types of features should be build in a Throwaway prototype?\n",
        "\n",
        "---\n",
        "\n",
        "Only features that are poorly understood.\n",
        "That's the point of a Throwaway prototype to begin with."
      ]
    },
    {
      "cell_type": "markdown",
      "metadata": {
        "id": "ghW1facUYG-k"
      },
      "source": [
        "### 14: Grow Systems in Incrementally"
      ]
    },
    {
      "cell_type": "markdown",
      "metadata": {
        "id": "W0SKU5WpgLrI"
      },
      "source": [
        "1. Grow Systems Incrementally <br/>\n",
        "2. What problems can appear in building sysetms incrementally?\n",
        "\n",
        "--- \n",
        "\n",
        "1.  It help to reduce risk in building software.\n",
        "Start with a working system that implements a subset  of funcionality.\n",
        "Then grow it to cover larger and larget subsets of the eventual functionality.\n",
        "\n",
        "2.  If a feature is poorly understand, in late stages the entire system may require redesign in order to accomodate the feature.\n",
        "To mitigate this always try to see if there is a feature that is poorly understood, to build a throwaway prototype of that feature."
      ]
    },
    {
      "cell_type": "markdown",
      "metadata": {
        "id": "OwM_cd97X9Hd"
      },
      "source": [
        "### 20: Record Your Assumptions"
      ]
    },
    {
      "cell_type": "markdown",
      "metadata": {
        "id": "pBjuP6mEmtci"
      },
      "source": [
        "Elaborate on Assumptions in Software Engineering\n",
        "\n",
        "---\n",
        "\n",
        "- The environments we place systems into are by their very nature infinite oand impossible to fully comprehend.\n",
        "\n",
        "- When we build a system , allegedly to solve a probelm in that environemtn we make assumptions about the environment.\n",
        "\n",
        "- So try to specify the asumptions, so when the software miss behaves ones can traces it to changes in the assumptions. "
      ]
    },
    {
      "cell_type": "markdown",
      "metadata": {
        "id": "U6en0E_fz259"
      },
      "source": [
        "### 22: Technique Before Tools"
      ]
    },
    {
      "cell_type": "markdown",
      "metadata": {
        "id": "dmfOLXOS5CKE"
      },
      "source": [
        "Elaborate in the use of Tools withouts Teechniques\n",
        "\n",
        "--- \n",
        "\n",
        "-  Tools usually implements a techniques or a set of techniques or principles, that you can follow by hand,\n",
        "not knowing the techniques to that you are supposed to follow while using the tools, can render you dangerous.\n",
        "\n",
        "- Think about an undisciplined  carpenter with a  power tool  becomes a dangerous undisciplined carpenter.\n",
        "- Programmers are like that too.\n",
        "- To follow this think about the return of using tools?\n",
        "- The philosophy of using tools.\n",
        "\n",
        "Paper\n",
        "\n",
        "How the Learning Lurve Affects CASE Tool Adoption"
      ]
    },
    {
      "cell_type": "markdown",
      "metadata": {
        "id": "Uv0tKV_tE3Fx"
      },
      "source": [
        "### 26 \"Know-When\" is as important as Know-How"
      ]
    },
    {
      "cell_type": "markdown",
      "metadata": {
        "id": "4QoYo_lWE71P"
      },
      "source": [
        "\"Know-When\" is as important as Know-How\n",
        "\n",
        "---\n",
        "\n",
        "- Knowing how to use a technique well, does not make it a good technique, and neither make you a good software engineer.\n",
        "- The good engineers knows has a set of techniques and tools unders its beld, and know when to use it."
      ]
    },
    {
      "cell_type": "markdown",
      "metadata": {
        "id": "99uRczcoLT5A"
      },
      "source": [
        "### 33 Every Document Needs a Glossary"
      ]
    },
    {
      "cell_type": "markdown",
      "metadata": {
        "id": "wBkazLZeLVez"
      },
      "source": [
        "Elaborate on Every Document Needs a Glossary\n",
        "\n",
        "---\n",
        "\n",
        "It help to quickly learn the of an unkown term of a term with special meaning quickly."
      ]
    },
    {
      "cell_type": "markdown",
      "metadata": {
        "id": "8T9TlU6gL95E"
      },
      "source": [
        "## 34 Every Software Document Needs and Index"
      ]
    },
    {
      "cell_type": "markdown",
      "metadata": {
        "id": "R1smf_ToL_tP"
      },
      "source": [
        "Elaborate on Every Document Needs an Index\n",
        "\n",
        "---\n",
        "\n",
        "- This is self-evident.\n",
        "- An index help you to quickly navegate a book. It like a map."
      ]
    },
    {
      "cell_type": "markdown",
      "metadata": {
        "id": "clW3zjurL04_"
      },
      "source": [
        "## Requirements Engineering Principles\n",
        "\n",
        "*Requirements engineering* is the set of activities including:\n",
        "\n",
        "- eliciting or learning about a problem needs a solution,\n",
        "- specifying the external (black box) behavior of a system that can solve that problem. \n",
        "\n",
        "The final product of requirements engineering is a requirements specification."
      ]
    },
    {
      "cell_type": "markdown",
      "metadata": {
        "id": "5hvlrlfdrV1v"
      },
      "source": [
        "- 39: Determine the Problem Before Writing Requirements\n",
        "- 45: Review the Requirements\n",
        "- 46: Avoid Design in Requirements\n",
        "- 49: Organize Requirements Sensibly\n",
        "- 52: Separalely Number Every Requirement\n",
        "- 54: Augment, Never Replace, Natural Language\n",
        "- 55: Write Natural Language Before a More Formal Model\n",
        "- 59: Self-Destruct TBDs\n",
        "- 60: Store Requirements in a Database"
      ]
    },
    {
      "cell_type": "markdown",
      "metadata": {
        "id": "bp9n6rxHL4m5"
      },
      "source": [
        "## Design Principles\n",
        "\n",
        "Design is the set of activities including:\n",
        "- defining an architecture for software that sastifies the  thre requirements,\n",
        "- specifying an algorithm for each software componetn in the architecture.\n",
        "\n",
        "The architecture includes a specification of all the building blocks of the software, how they interface with each other, how they are composed of one another, and how copies of components are instantiated (that is, copies made in memory of components and executed) and destroyed. The final product of design is a design specification."
      ]
    },
    {
      "cell_type": "markdown",
      "metadata": {
        "id": "XMPf8fzx0FKH"
      },
      "source": [
        "- 62: Trace Design to Requirements\n",
        "- 65: Encapsulate\n",
        "- 66: Don't Reinvent the Wheel\n",
        "- 67: Keep It Simple\n",
        "- 68: Avoid Numerous Special Cases\n",
        "- 69: Minimize Intellectual Distance\n",
        "- 70: Keep Design Under Intellectual Control\n",
        "- 71: Mantain Conceptual Integrity\n",
        "- 72: Conceptual Errors Are More Significant Than Syntatic Errors\n",
        "- 73: Use Coupling and Cohesion\n",
        "- 74: Design for Change\n",
        "- 75: Design for Maintenance\n",
        "- 76: Design for Errors\n",
        "- 77: Build Generality into Software\n",
        "- 78: Build Flexibility into Software\n",
        "- 79: Use Efficient Algorithms\n",
        "- 80: Module Specifications Provide All the Information the User Needs and Nothing More\n",
        "- 81: Design Is Multidimensional\n",
        "- 83: Know Your Application\n",
        "- 84: You Can Reuse Without a Big Investment\n",
        "- 85: \"Garbage In, Garbage Out\" Is Incorrect\n",
        "- 86: Software Reliability Can Be Achieved Through Redundancy"
      ]
    },
    {
      "cell_type": "markdown",
      "metadata": {
        "id": "HqjR2Sm2L8Cz"
      },
      "source": [
        "## Coding Principles\n",
        "\n",
        "*Coding* is the set of activities including:\n",
        "\n",
        "1. Translading the algorithsm specified during design into programs writen in a computer language.\n",
        "\n",
        "2. Translading, usually automatically, the programs into a language direcly executable by a computer.\n",
        "\n",
        "The primary output of codign is a documented program listing."
      ]
    },
    {
      "cell_type": "markdown",
      "metadata": {
        "id": "BMqchU6i5mJe"
      },
      "source": [
        "- 87: Avoid Tricks\n",
        "- 88: Avoid Global Variables\n",
        "- 89: Write to Read Top-Down\n",
        "- 90: Avoid Side-Effects\n",
        "- 91: Use Meaningful Names\n",
        "- 92: Write Programs for People First\n",
        "- 94: Get It Rigth Before You Finalize Your Code\n",
        "- 95: Comment Before You Finalize Your Code\n",
        "- 96: Document Before You Start Coding\n",
        "- 98: Inspect Code\n",
        "- 101: Don't Nest Too Deep\n",
        "- 105: Format Your Programs\n",
        "- 106: Don't Code Too Soon"
      ]
    },
    {
      "cell_type": "markdown",
      "metadata": {
        "id": "HLdGN6NCL-7X"
      },
      "source": [
        "## Testing Principles\n",
        "\n",
        "Testing is a set of activities including:\n",
        "\n",
        "- Performing tests on individual software components,\n",
        "\n",
        "- Performing tests on the interaction of the components,\n",
        "\n",
        "- Performing test on the entire system (software systems-level testing),\n",
        "\n",
        "- Generating test plans for software systems-level testing,\n",
        "\n",
        "- Generating test plans for software integration testing,\n",
        "\n",
        "- Generating test plans for unit testing,\n",
        "\n",
        "- Building test harnesses and test environments.\n"
      ]
    },
    {
      "cell_type": "markdown",
      "metadata": {
        "id": "Nw62a1eO7Twy"
      },
      "source": [
        "- 107: Trace Tests to Requirements\n",
        "- 108: Plan Tests Long Before It Is Time to Test\n",
        "- 113: A Succesful Test *Finds*  an Error\n",
        "- 114: Half the Errors Found in 15 Percent  of Modules\n",
        "- 115: Use Black-Box and White-Box Testing\n",
        "- 116: A Test Case Includes Expected Results\n",
        "- 117: Test Invalid Inputs\n",
        "- 118: Always Stress Test\n",
        "- 120: Use McCabe Complexity Measure\n",
        "- 123: Don't Integrate Before Unit Testing\n",
        "- 124: Instrument Your Software\n",
        "- 125: Analyze Causes for Errors\n",
        "- 126: Don't  Take Errors Personally\n"
      ]
    },
    {
      "cell_type": "markdown",
      "metadata": {
        "id": "Rq9Fl15TMBnO"
      },
      "source": [
        "## Management Principles"
      ]
    },
    {
      "cell_type": "markdown",
      "metadata": {
        "id": "bQDneOihIo_x"
      },
      "source": [
        "Management is the set of activities of planning, controlling, monitoring, and reportign on all the engineering activities that encompass software development."
      ]
    },
    {
      "cell_type": "markdown",
      "metadata": {
        "id": "wR5e2PW_B4Qe"
      },
      "source": [
        "- 129: Don't Believe Everything You Read\n",
        "- 130: Understand the Customers' Priorities\n",
        "- 132: A Few Good People Are Better Than Many Less Skilled People\n",
        "- 136: Communication Skills Are Essential\n",
        "- 142: You Can Optimize Whatever You Want\n",
        "- 143: Collect Data Unobtrusively\n",
        "- 144: Cost Per Line of Code Is Not Useful\n",
        "- 145: There Is No Perfect Way to Measure Productivity\n",
        "- 148: Avoid the  Impossible\n",
        "- 149: Know Before you Count\n",
        "- 150: Collect Productivity Data\n",
        "- 152: LOC/PM Independent of Language\n",
        "- 157: Allocate Appropiate Resources\n",
        "- 158: Plan a Project in Detail\n",
        "- 159: Keep Your Plan Up-to-Date\n",
        "- 161: Know the Top 10 Risks\n",
        "- 162: Understand Risks Up Front\n",
        "- 165: No Secrets for Miraculous Productivity Increases\n",
        "- 170: Be Pessimistic About Software Evolution\n",
        "- 171: The Thought That Disaster Is Impossible Often  Leads to Disaster\n",
        "- 172: Do a Project Postmorten\n",
        "\n"
      ]
    },
    {
      "cell_type": "markdown",
      "metadata": {
        "id": "NJ22aMLJMF0U"
      },
      "source": [
        "## Product Assurance Principles\n",
        "\n",
        "Product assurance is the set of activities that ensures the quality of software through the use of checks and balances. Product assurance generally includes:\n",
        "\n",
        "- *Software configuration management*, the  process of managing changes to software.\n",
        "\n",
        "- *Software quality assurance*, the process of managing changes to software.\n",
        "\n",
        "- *Software verification and validation*, the processes of verifying that each intermediate product correctly builds upon the previous intermediate product and validating taht each intermedaite product satisfies the customer's requirements appropriately."
      ]
    },
    {
      "cell_type": "markdown",
      "metadata": {
        "id": "KzuDK3amJtAQ"
      },
      "source": [
        "- 174: Establish *SCM* Procedures Early\n",
        "- 181: Keep Track of Every Change"
      ]
    },
    {
      "cell_type": "markdown",
      "metadata": {
        "id": "0zFc-vuFMI2p"
      },
      "source": [
        "## Evolution Principles"
      ]
    },
    {
      "cell_type": "markdown",
      "metadata": {
        "id": "nQsWP7tHNx-Y"
      },
      "source": [
        "*Evolution* is the set of activities dealing with modifying the software product to:\n",
        "\n",
        "- Meet new functions,\n",
        "- Work more effectively,\n",
        "- Work correctly (when errors in the original product are detected)"
      ]
    },
    {
      "cell_type": "markdown",
      "metadata": {
        "id": "mkRaKjCUKs9R"
      },
      "source": [
        "- 185: Software Will Continue to Change\n",
        "- 186: Software's Entropy Increases\n",
        "- 188: Fix Problems, Not Symptoms\n",
        "- 189: Change Requirements First\n",
        "- 190: Prerelease Erros Yield Postrelease Erros\n",
        "- 191: The Older a Program, the More Difficult It Is To Maintain\n",
        "- 192: Language Affects Maintainability\n",
        "- 193: Sometimes It Is Better to Start Over\n",
        "- 194: Renovate the Worst First\n",
        "- 195: Maintenance Causes More Errors Than Development\n",
        "- 196: Regression Test After Every Change\n",
        "- 197: Belief That a Change Is Easy Makes It Likely It Will Be Made Incorrecly\n",
        "- 198: Structuring Unstructured Code Does Not Necessarily Improve It\n",
        "- 199: User Profiler Before Optimizing\n",
        "- 200: Converse Familiarity\n",
        "- 201: The System's Existence Promotes Evolution\n",
        "\n"
      ]
    }
  ]
}