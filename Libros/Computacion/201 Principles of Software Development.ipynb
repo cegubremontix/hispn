{
  "nbformat": 4,
  "nbformat_minor": 0,
  "metadata": {
    "kernelspec": {
      "display_name": "Python 2.7.18 64-bit",
      "name": "python2718jvsc74a57bd0f92b2924b84ff19c1c3dc485f7644d4486f64738191026bf8e6de303969141b5"
    },
    "language_info": {
      "name": "python",
      "version": ""
    },
    "metadata": {
      "interpreter": {
        "hash": "f92b2924b84ff19c1c3dc485f7644d4486f64738191026bf8e6de303969141b5"
      }
    },
    "orig_nbformat": 2,
    "colab": {
      "name": "201 Principles of Software Development.ipynb",
      "provenance": [],
      "toc_visible": true,
      "include_colab_link": true
    }
  },
  "cells": [
    {
      "cell_type": "markdown",
      "metadata": {
        "id": "view-in-github",
        "colab_type": "text"
      },
      "source": [
        "<a href=\"https://colab.research.google.com/github/dbremont/Notas/blob/main/Libros/Computacion/201%20Principles%20of%20Software%20Development.ipynb\" target=\"_parent\"><img src=\"https://colab.research.google.com/assets/colab-badge.svg\" alt=\"Open In Colab\"/></a>"
      ]
    },
    {
      "cell_type": "markdown",
      "metadata": {
        "id": "uUxcdq2i53-j"
      },
      "source": [
        "201 Principles of Software Development\n",
        "\n",
        "- Estrategia para recordar estos principios.\n",
        "- Recordar mis problemas con la memoria asociativa.\n",
        "\n",
        "\n",
        "- Principles\n",
        "- [Techniques](https://es.wikipedia.org/wiki/T%C3%A9cnica)\n",
        "- Languages: consist of a set of primitive elments (such as words or graphical symbols) and a set of rules by which one can construct more complex entities (such as sentences, diagrams, models) from those primitive elmetns, as well as semantics that endow each combination of entities with meaning.\n",
        "- Tools: are software programs that assits on a software engineer in performing some step of software engineering. ej\n",
        "  - knowlege base, requirements assitant,\n",
        "  - data-flow diagram checker,\n",
        "  - compiler,\n",
        "  - editor."
      ]
    },
    {
      "cell_type": "markdown",
      "metadata": {
        "id": "RpPtxxevLw7C"
      },
      "source": [
        "## Introduction"
      ]
    },
    {
      "cell_type": "markdown",
      "metadata": {
        "id": "4QDw_zmyLzQc"
      },
      "source": [
        "## General Principles\n",
        "\n",
        "- 10: Plan to Throw One Away\n",
        "- 11: Build the Right Kind of Prototype\n",
        "- 12: Build the Right Features into a Prototype\n",
        "- 13: Build a Throwaway Prototype Quickly\n",
        "- 14: Grow Systems in Incrementally\n",
        "- 15: The More Seen, the More Needed\n",
        "- 16: Change During Development Is Inevitable\n",
        "- 17: If Posible, Buy Instead of Build \n",
        "- 18: Build Software So That It Needs a Short Users's Manual\n",
        "- 20: Record Your Assumptions\n",
        "- 21: Different Languages for Different Phases\n",
        "- 22: Technique Before Tools\n",
        "- 23: Use Tools, but Be Realistic\n",
        "- 26: \"Know-When\" Is as  Important as Know-How\n",
        "- 28: Know  your formal methods\n",
        "- 30: Follow the Lemmings with Care\n",
        "- 32: Use Documentations Standars\n",
        "- 33: Every Document Needs a Glossary\n",
        "- 34: Every Software Document Needs and Index\n",
        "- 35: Use the Same for the Same Concept\n",
        "- 36: Research-Then-Transfer Does not Work\n",
        "- 37: Take Responsability"
      ]
    },
    {
      "cell_type": "markdown",
      "metadata": {
        "id": "clW3zjurL04_"
      },
      "source": [
        "## Requirements Engineering Principles\n",
        "\n",
        "*Requirements engineering* is the set of activities including:\n",
        "\n",
        "- eliciting or learning about a problem needs a solution,\n",
        "- specifying the external (black box) behavior of a system that can solve that problem. \n",
        "\n",
        "The final product of requirements engineering is a requirements specification."
      ]
    },
    {
      "cell_type": "markdown",
      "metadata": {
        "id": "5hvlrlfdrV1v"
      },
      "source": [
        "- 39: Determine the Problem Before Writing Requirements\n",
        "- 45: Review the Requirements\n",
        "- 46: Avoid Design in Requirements\n",
        "- 49: Organize Requirements Sensibly\n",
        "- 52: Separalely Number Every Requirement\n",
        "- 54: Augment, Never Replace, Natural Language\n",
        "- 55: Write Natural Language Before a More Formal Model\n",
        "- 59: Self-Destruct TBDs\n",
        "- 60: Store Requirements in a Database"
      ]
    },
    {
      "cell_type": "markdown",
      "metadata": {
        "id": "bp9n6rxHL4m5"
      },
      "source": [
        "## Design Principles\n",
        "\n",
        "Design is the set of activities including:\n",
        "- defining an architecture for software that sastifies the  thre requirements,\n",
        "- specifying an algorithm for each software componetn in the architecture.\n",
        "\n",
        "The architecture includes a specification of all the building blocks of the software, how they interface with each other, how they are composed of one another, and how copies of components are instantiated (that is, copies made in memory of components and executed) and destroyed. The final product of design is a design specification."
      ]
    },
    {
      "cell_type": "markdown",
      "metadata": {
        "id": "XMPf8fzx0FKH"
      },
      "source": [
        "- 62: Trace Design to Requirements\n",
        "- 65: Encapsulate\n",
        "- 66: Don't Reinvent the Wheel\n",
        "- 67: Keep It Simple\n",
        "- 68: Avoid Numerous Special Cases\n",
        "- 69: Minimize Intellectual Distance\n",
        "- 70: Keep Design Under Intellectual Control\n",
        "- 71: Mantain Conceptual Integrity\n",
        "- 72: Conceptual Errors Are More Significant Than Syntatic Errors\n",
        "- 73: Use Coupling and Cohesion\n",
        "- 74: Design for Change\n",
        "- 75: Design for Maintenance\n",
        "- 76: Design for Errors\n",
        "- 77: Build Generality into Software\n",
        "- 78: Build Flexibility into Software\n",
        "- 79: Use Efficient Algorithms\n",
        "- 80: Module Specifications Provide All the Information the User Needs and Nothing More\n",
        "- 81: Design Is Multidimensional\n",
        "- 83: Know Your Application\n",
        "- 84: You Can Reuse Without a Big Investment\n",
        "- 85: \"Garbage In, Garbage Out\" Is Incorrect\n",
        "- 86: Software Reliability Can Be Achieved Through Redundancy"
      ]
    },
    {
      "cell_type": "markdown",
      "metadata": {
        "id": "HqjR2Sm2L8Cz"
      },
      "source": [
        "## Coding Principles\n",
        "\n",
        "*Coding* is the set of activities including:\n",
        "\n",
        "1. Translading the algorithsm specified during design into programs writen in a computer language.\n",
        "\n",
        "2. Translading, usually automatically, the programs into a language direcly executable by a computer.\n",
        "\n",
        "The primary output of codign is a documented program listing."
      ]
    },
    {
      "cell_type": "markdown",
      "metadata": {
        "id": "BMqchU6i5mJe"
      },
      "source": [
        "- 87: Avoid Tricks\n",
        "- 88: Avoid Global Variables\n",
        "- 89: Write to Read Top-Down\n",
        "- 90: Avoid Side-Effects\n",
        "- 91: Use Meaningful Names\n",
        "- 92: Write Programs for People First\n",
        "- 94: Get It Rigth Before You Finalize Your Code\n",
        "- 95: Comment Before You Finalize Your Code\n",
        "- 96: Document Before You Start Coding\n",
        "- 98: Inspect Code\n",
        "- 101: Don't Nest Too Deep\n",
        "- 105: Format Your Programs\n",
        "- 106: Don't Code Too Soon"
      ]
    },
    {
      "cell_type": "markdown",
      "metadata": {
        "id": "HLdGN6NCL-7X"
      },
      "source": [
        "## Testing Principles\n",
        "\n",
        "Testing is a set of activities including:\n",
        "\n",
        "- Performing tests on individual software components,\n",
        "\n",
        "- Performing tests on the interaction of the components,\n",
        "\n",
        "- Performing test on the entire system (software systems-level testing),\n",
        "\n",
        "- Generating test plans for software systems-level testing,\n",
        "\n",
        "- Generating test plans for software integration testing,\n",
        "\n",
        "- Generating test plans for unit testing,\n",
        "\n",
        "- Building test harnesses and test environments.\n"
      ]
    },
    {
      "cell_type": "markdown",
      "metadata": {
        "id": "Nw62a1eO7Twy"
      },
      "source": [
        "- 107: Trace Tests to Requirements\n",
        "- 108: Plan Tests Long Before It Is Time to Test\n",
        "- 113: A Succesful Test *Finds*  an Error\n",
        "- 114: Half the Errors Found in 15 Percent  of Modules\n",
        "- 115: Use Black-Box and White-Box Testing\n",
        "- 116: A Test Case Includes Expected Results\n",
        "- 117: Test Invalid Inputs\n",
        "- 118: Always Stress Test\n",
        "- 120: Use McCabe Complexity Measure\n",
        "- 123: Don't Integrate Before Unit Testing\n",
        "- 124: Instrument Your Software\n",
        "- 125: Analyze Causes for Errors\n",
        "- 126: Don't  Take Errors Personally\n"
      ]
    },
    {
      "cell_type": "markdown",
      "metadata": {
        "id": "Rq9Fl15TMBnO"
      },
      "source": [
        "## Management Principles"
      ]
    },
    {
      "cell_type": "markdown",
      "metadata": {
        "id": "bQDneOihIo_x"
      },
      "source": [
        "Management is the set of activities of planning, controlling, monitoring, and reportign on all the engineering activities that encompass software development."
      ]
    },
    {
      "cell_type": "markdown",
      "metadata": {
        "id": "wR5e2PW_B4Qe"
      },
      "source": [
        "- 129: Don't Believe Everything You Read\n",
        "- 130: Understand the Customers' Priorities\n",
        "- 132: A Few Good People Are Better Than Many Less Skilled People\n",
        "- 136: Communication Skills Are Essential\n",
        "- 142: You Can Optimize Whatever You Want\n",
        "- 143: Collect Data Unobtrusively\n",
        "- 144: Cost Per Line of Code Is Not Useful\n",
        "- 145: There Is No Perfect Way to Measure Productivity\n",
        "- 148: Avoid the  Impossible\n",
        "- 149: Know Before you Count\n",
        "- 150: Collect Productivity Data\n",
        "- 152: LOC/PM Independent of Language\n",
        "- 157: Allocate Appropiate Resources\n",
        "- 158: Plan a Project in Detail\n",
        "- 159: Keep Your Plan Up-to-Date\n",
        "- 161: Know the Top 10 Risks\n",
        "- 162: Understand Risks Up Front\n",
        "- 165: No Secrets for Miraculous Productivity Increases\n",
        "- 170: Be Pessimistic About Software Evolution\n",
        "- 171: The Thought That Disaster Is Impossible Often  Leads to Disaster\n",
        "- 172: Do a Project Postmorten\n",
        "\n"
      ]
    },
    {
      "cell_type": "markdown",
      "metadata": {
        "id": "NJ22aMLJMF0U"
      },
      "source": [
        "## Product Assurance Principles\n",
        "\n",
        "Product assurance is the set of activities that ensures the quality of software through the use of checks and balances. Product assurance generally includes:\n",
        "\n",
        "- *Software configuration management*, the  process of managing changes to software.\n",
        "\n",
        "- *Software quality assurance*, the process of managing changes to software.\n",
        "\n",
        "- *Software verification and validation*, the processes of verifying that each intermediate product correctly builds upon the previous intermediate product and validating taht each intermedaite product satisfies the customer's requirements appropriately."
      ]
    },
    {
      "cell_type": "markdown",
      "metadata": {
        "id": "KzuDK3amJtAQ"
      },
      "source": [
        "- 174: Establish *SCM* Procedures Early\n",
        "- 181: Keep Track of Every Change"
      ]
    },
    {
      "cell_type": "markdown",
      "metadata": {
        "id": "0zFc-vuFMI2p"
      },
      "source": [
        "## Evolution Principles"
      ]
    },
    {
      "cell_type": "markdown",
      "metadata": {
        "id": "nQsWP7tHNx-Y"
      },
      "source": [
        "*Evolution* is the set of activities dealing with modifying the software product to:\n",
        "\n",
        "- Meet new functions,\n",
        "- Work more effectively,\n",
        "- Work correctly (when errors in the original product are detected)"
      ]
    },
    {
      "cell_type": "markdown",
      "metadata": {
        "id": "mkRaKjCUKs9R"
      },
      "source": [
        "- 185: Software Will Continue to Change\n",
        "- 186: Software's Entropy Increases\n",
        "- 188: Fix Problems, Not Symptoms\n",
        "- 189: Change Requirements First\n",
        "- 190: Prerelease Erros Yield Postrelease Erros\n",
        "- 191: The Older a Program, the More Difficult It Is To Maintain\n",
        "- 192: Language Affects Maintainability\n",
        "- 193: Sometimes It Is Better to Start Over\n",
        "- 194: Renovate the Worst First\n",
        "- 195: Maintenance Causes More Errors Than Development\n",
        "- 196: Regression Test After Every Change\n",
        "- 197: Belief That a Change Is Easy Makes It Likely It Will Be Made Incorrecly\n",
        "- 198: Structuring Unstructured Code Does Not Necessarily Improve It\n",
        "- 199: User Profiler Before Optimizing\n",
        "- 200: Converse Familiarity\n",
        "- 201: The System's Existence Promotes Evolution\n",
        "\n"
      ]
    }
  ]
}