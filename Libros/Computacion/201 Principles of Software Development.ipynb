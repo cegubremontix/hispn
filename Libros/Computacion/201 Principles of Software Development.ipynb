{
  "nbformat": 4,
  "nbformat_minor": 0,
  "metadata": {
    "kernelspec": {
      "display_name": "Python 2.7.18 64-bit",
      "name": "python2718jvsc74a57bd0f92b2924b84ff19c1c3dc485f7644d4486f64738191026bf8e6de303969141b5"
    },
    "language_info": {
      "name": "python",
      "version": ""
    },
    "metadata": {
      "interpreter": {
        "hash": "f92b2924b84ff19c1c3dc485f7644d4486f64738191026bf8e6de303969141b5"
      }
    },
    "orig_nbformat": 2,
    "colab": {
      "name": "201 Principles of Software Development.ipynb",
      "provenance": [],
      "include_colab_link": true
    }
  },
  "cells": [
    {
      "cell_type": "markdown",
      "metadata": {
        "id": "view-in-github",
        "colab_type": "text"
      },
      "source": [
        "<a href=\"https://colab.research.google.com/github/dbremont/Notas/blob/main/Libros/Computacion/201%20Principles%20of%20Software%20Development.ipynb\" target=\"_parent\"><img src=\"https://colab.research.google.com/assets/colab-badge.svg\" alt=\"Open In Colab\"/></a>"
      ]
    },
    {
      "cell_type": "markdown",
      "metadata": {
        "id": "uUxcdq2i53-j"
      },
      "source": [
        "201 Principles of Software Development\n",
        "\n",
        "- Estrategia para recordar estos principios.\n",
        "- Recordar mis problemas con la memoria asociativa.\n"
      ]
    },
    {
      "cell_type": "markdown",
      "metadata": {
        "id": "RpPtxxevLw7C"
      },
      "source": [
        "## Introduction"
      ]
    },
    {
      "cell_type": "markdown",
      "metadata": {
        "id": "4QDw_zmyLzQc"
      },
      "source": [
        "## General Principles"
      ]
    },
    {
      "cell_type": "markdown",
      "metadata": {
        "id": "clW3zjurL04_"
      },
      "source": [
        "## Requirements Engineering Principles"
      ]
    },
    {
      "cell_type": "markdown",
      "metadata": {
        "id": "bp9n6rxHL4m5"
      },
      "source": [
        "## Design Principles"
      ]
    },
    {
      "cell_type": "markdown",
      "metadata": {
        "id": "HqjR2Sm2L8Cz"
      },
      "source": [
        "## Coding Principles"
      ]
    },
    {
      "cell_type": "markdown",
      "metadata": {
        "id": "HLdGN6NCL-7X"
      },
      "source": [
        "## Testing Principles"
      ]
    },
    {
      "cell_type": "markdown",
      "metadata": {
        "id": "Rq9Fl15TMBnO"
      },
      "source": [
        "## Management Principles"
      ]
    },
    {
      "cell_type": "markdown",
      "metadata": {
        "id": "NJ22aMLJMF0U"
      },
      "source": [
        "## Product Assurance Principles"
      ]
    },
    {
      "cell_type": "markdown",
      "metadata": {
        "id": "0zFc-vuFMI2p"
      },
      "source": [
        "## Evolution Principles"
      ]
    }
  ]
}