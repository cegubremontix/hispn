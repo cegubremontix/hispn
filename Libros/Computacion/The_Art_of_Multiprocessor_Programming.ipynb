{
  "nbformat": 4,
  "nbformat_minor": 0,
  "metadata": {
    "colab": {
      "name": "The Art of Multiprocessor Programming.ipynb",
      "provenance": [],
      "authorship_tag": "ABX9TyNEFHDU1XBvlKYLNE42GiI/",
      "include_colab_link": true
    },
    "kernelspec": {
      "name": "python3",
      "display_name": "Python 3"
    },
    "language_info": {
      "name": "python"
    }
  },
  "cells": [
    {
      "cell_type": "markdown",
      "metadata": {
        "id": "view-in-github",
        "colab_type": "text"
      },
      "source": [
        "<a href=\"https://colab.research.google.com/github/dbremont/Notas/blob/main/Libros/Computacion/The_Art_of_Multiprocessor_Programming.ipynb\" target=\"_parent\"><img src=\"https://colab.research.google.com/assets/colab-badge.svg\" alt=\"Open In Colab\"/></a>"
      ]
    },
    {
      "cell_type": "markdown",
      "metadata": {
        "id": "_QdxwVXEEF0d"
      },
      "source": [
        "## Introduction"
      ]
    },
    {
      "cell_type": "markdown",
      "metadata": {
        "id": "Odyw1RjkEgiz"
      },
      "source": [
        "# Principles"
      ]
    },
    {
      "cell_type": "markdown",
      "metadata": {
        "id": "REbj0_NJEdkK"
      },
      "source": [
        "## Mutual Exclusion"
      ]
    },
    {
      "cell_type": "markdown",
      "metadata": {
        "id": "zd79axrLEKoR"
      },
      "source": [
        "## Concurrent Objects"
      ]
    },
    {
      "cell_type": "markdown",
      "metadata": {
        "id": "O_ztFx5XENY1"
      },
      "source": [
        "## Foundations of Shared Memory"
      ]
    },
    {
      "cell_type": "markdown",
      "metadata": {
        "id": "Vy377rBrEPPf"
      },
      "source": [
        "## The Relative Power of Primitive Synchonization Operations"
      ]
    },
    {
      "cell_type": "markdown",
      "metadata": {
        "id": "n9YHVL6nEUJ3"
      },
      "source": [
        "## Universality of Consensus"
      ]
    },
    {
      "cell_type": "markdown",
      "metadata": {
        "id": "YT0V5t5AEiRf"
      },
      "source": [
        "# Practice"
      ]
    },
    {
      "cell_type": "markdown",
      "metadata": {
        "id": "qD9vvYDKEmEg"
      },
      "source": [
        "## Spin Locks and Contention"
      ]
    },
    {
      "cell_type": "markdown",
      "metadata": {
        "id": "AtIkm7JJEp-W"
      },
      "source": [
        "## Monitors and Blocking Synchonization"
      ]
    },
    {
      "cell_type": "markdown",
      "metadata": {
        "id": "vqNYxtnZEuch"
      },
      "source": [
        "## Linked Lists: The Role of Locking"
      ]
    },
    {
      "cell_type": "markdown",
      "metadata": {
        "id": "7SRhQKlXExl_"
      },
      "source": [
        "## Concurrent Queues and the ABA Problem"
      ]
    },
    {
      "cell_type": "markdown",
      "metadata": {
        "id": "DBQhYS8_E1Sf"
      },
      "source": [
        "## Concurrent Stacks and Elimination"
      ]
    },
    {
      "cell_type": "markdown",
      "metadata": {
        "id": "gbpaTuN3E5fe"
      },
      "source": [
        "## Counting, Sorting, and Distributed Coordination"
      ]
    },
    {
      "cell_type": "markdown",
      "metadata": {
        "id": "tzf0GntCE9Tf"
      },
      "source": [
        "## Concurrent Hashing and Natural Parallelism"
      ]
    },
    {
      "cell_type": "markdown",
      "metadata": {
        "id": "1_4O4bbDFEVH"
      },
      "source": [
        "## Skiplists and Balanced Search"
      ]
    },
    {
      "cell_type": "markdown",
      "metadata": {
        "id": "185AW5xXFHy3"
      },
      "source": [
        "## Priority Queues"
      ]
    },
    {
      "cell_type": "markdown",
      "metadata": {
        "id": "PdIK22lhFKiZ"
      },
      "source": [
        "## Futures, Scheduling, and Work Distribution"
      ]
    },
    {
      "cell_type": "markdown",
      "metadata": {
        "id": "zNFBdCGPFOf1"
      },
      "source": [
        "## Barriers"
      ]
    },
    {
      "cell_type": "markdown",
      "metadata": {
        "id": "GwA61aRYFOaO"
      },
      "source": [
        "## Transactional Memory"
      ]
    },
    {
      "cell_type": "markdown",
      "metadata": {
        "id": "mRwY2safFUG3"
      },
      "source": [
        "# Appendix"
      ]
    },
    {
      "cell_type": "markdown",
      "metadata": {
        "id": "5vyAgDZQFV1Y"
      },
      "source": [
        "## Software Basics"
      ]
    },
    {
      "cell_type": "markdown",
      "metadata": {
        "id": "hGk4A1Y5FXwe"
      },
      "source": [
        "## Hardware Basics"
      ]
    }
  ]
}