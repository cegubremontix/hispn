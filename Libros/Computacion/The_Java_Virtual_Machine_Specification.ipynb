{
  "nbformat": 4,
  "nbformat_minor": 0,
  "metadata": {
    "colab": {
      "name": "The Java Virtual Machine Specification.ipynb",
      "provenance": [],
      "authorship_tag": "ABX9TyMFxSXPttAFAG3IoXD1fkRX",
      "include_colab_link": true
    },
    "kernelspec": {
      "name": "python3",
      "display_name": "Python 3"
    },
    "language_info": {
      "name": "python"
    }
  },
  "cells": [
    {
      "cell_type": "markdown",
      "metadata": {
        "id": "view-in-github",
        "colab_type": "text"
      },
      "source": [
        "<a href=\"https://colab.research.google.com/github/dbremont/Notas/blob/main/Libros/Computacion/The_Java_Virtual_Machine_Specification.ipynb\" target=\"_parent\"><img src=\"https://colab.research.google.com/assets/colab-badge.svg\" alt=\"Open In Colab\"/></a>"
      ]
    },
    {
      "cell_type": "markdown",
      "metadata": {
        "id": "rpOzVv_gx14P"
      },
      "source": [
        "# The Java Virtual Machine Specification\n",
        "Libros/Computacion"
      ]
    }
  ]
}