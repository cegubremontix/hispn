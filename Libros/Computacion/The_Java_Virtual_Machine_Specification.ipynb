{
  "nbformat": 4,
  "nbformat_minor": 0,
  "metadata": {
    "colab": {
      "name": "The Java Virtual Machine Specification.ipynb",
      "provenance": [],
      "authorship_tag": "ABX9TyN34Vwt/6yhoywE3kLUyUKz",
      "include_colab_link": true
    },
    "kernelspec": {
      "name": "python3",
      "display_name": "Python 3"
    },
    "language_info": {
      "name": "python"
    }
  },
  "cells": [
    {
      "cell_type": "markdown",
      "metadata": {
        "id": "view-in-github",
        "colab_type": "text"
      },
      "source": [
        "<a href=\"https://colab.research.google.com/github/dbremont/Notas/blob/main/Libros/Computacion/The_Java_Virtual_Machine_Specification.ipynb\" target=\"_parent\"><img src=\"https://colab.research.google.com/assets/colab-badge.svg\" alt=\"Open In Colab\"/></a>"
      ]
    },
    {
      "cell_type": "markdown",
      "metadata": {
        "id": "rpOzVv_gx14P"
      },
      "source": [
        "# The Java Virtual Machine Specification\n",
        "Libros/Computacion"
      ]
    },
    {
      "cell_type": "markdown",
      "metadata": {
        "id": "Aaw7VuMGCpre"
      },
      "source": [
        "## Introduction"
      ]
    },
    {
      "cell_type": "markdown",
      "metadata": {
        "id": "u9yMChSpCynd"
      },
      "source": [
        "## Java Programming Language Concepts"
      ]
    },
    {
      "cell_type": "markdown",
      "metadata": {
        "id": "vb9K-6f3C2yD"
      },
      "source": [
        "## The Structure  of the Java Virtual Machine"
      ]
    },
    {
      "cell_type": "markdown",
      "metadata": {
        "id": "5H1_8nCyDBOm"
      },
      "source": [
        "## The *class* File Format"
      ]
    },
    {
      "cell_type": "markdown",
      "metadata": {
        "id": "EG8mKsDwDGU8"
      },
      "source": [
        "## Loading, Linking, and Initialization"
      ]
    },
    {
      "cell_type": "markdown",
      "metadata": {
        "id": "_gZGSr8qDLZ5"
      },
      "source": [
        "## The Java Machine Instruction Set"
      ]
    },
    {
      "cell_type": "markdown",
      "metadata": {
        "id": "ApoIaCj2DSPq"
      },
      "source": [
        "## Compiling for the Java Virtual Machine"
      ]
    },
    {
      "cell_type": "markdown",
      "metadata": {
        "id": "b3DIaYZ3DYVo"
      },
      "source": [
        "## Threads and Locks"
      ]
    },
    {
      "cell_type": "markdown",
      "metadata": {
        "id": "BwA4hP5QDbMV"
      },
      "source": [
        "## Opcode Mnemonics by Opcode"
      ]
    }
  ]
}