{
  "nbformat": 4,
  "nbformat_minor": 0,
  "metadata": {
    "colab": {
      "name": "Java Puzzlers: Traps, Pitfalls and Corner Cases.ipynb",
      "provenance": [],
      "toc_visible": true,
      "authorship_tag": "ABX9TyO6buQnYYAsCd1gLYeiW7YO",
      "include_colab_link": true
    },
    "kernelspec": {
      "name": "python3",
      "display_name": "Python 3"
    },
    "language_info": {
      "name": "python"
    }
  },
  "cells": [
    {
      "cell_type": "markdown",
      "metadata": {
        "id": "view-in-github",
        "colab_type": "text"
      },
      "source": [
        "<a href=\"https://colab.research.google.com/github/dbremont/Notas/blob/main/Libros/Computacion/Java_Puzzlers_Traps%2C_Pitfalls_and_Corner_Cases.ipynb\" target=\"_parent\"><img src=\"https://colab.research.google.com/assets/colab-badge.svg\" alt=\"Open In Colab\"/></a>"
      ]
    },
    {
      "cell_type": "markdown",
      "metadata": {
        "id": "5Evg0SOGqKDY"
      },
      "source": [
        "## Java Puzzlers: Traps, Pitfalls and Corner Cases"
      ]
    },
    {
      "cell_type": "markdown",
      "metadata": {
        "id": "rE85FKQs5BSN"
      },
      "source": [
        "## Introduction"
      ]
    },
    {
      "cell_type": "markdown",
      "metadata": {
        "id": "G3fwqe4H9Ixs"
      },
      "source": [
        "## Expressive Puzzlers"
      ]
    },
    {
      "cell_type": "markdown",
      "metadata": {
        "id": "5zUD327x9Knp"
      },
      "source": [
        "## Puzzlers with Character"
      ]
    },
    {
      "cell_type": "markdown",
      "metadata": {
        "id": "zC-uL0v99Nvt"
      },
      "source": [
        "## Loopy Puzzlers"
      ]
    },
    {
      "cell_type": "markdown",
      "metadata": {
        "id": "rdTpkFR89PlD"
      },
      "source": [
        "## Exceptional Puzzlers"
      ]
    },
    {
      "cell_type": "markdown",
      "metadata": {
        "id": "cgSYCTec9Th6"
      },
      "source": [
        "## Clasy Puzzlers"
      ]
    },
    {
      "cell_type": "markdown",
      "metadata": {
        "id": "Vci11AE29Wt9"
      },
      "source": [
        "## Library Puzzlers"
      ]
    },
    {
      "cell_type": "markdown",
      "metadata": {
        "id": "aAnhuRyk9Ysp"
      },
      "source": [
        "## Classier Puzzlers"
      ]
    },
    {
      "cell_type": "markdown",
      "metadata": {
        "id": "5dtVKR5N9aIi"
      },
      "source": [
        "## More Library Puzzlers"
      ]
    },
    {
      "cell_type": "markdown",
      "metadata": {
        "id": "xgHsDCwg9dQ6"
      },
      "source": [
        "## Advanced Puzzlers"
      ]
    },
    {
      "cell_type": "markdown",
      "metadata": {
        "id": "Af2k7cQh-SBY"
      },
      "source": [
        "## Catalog of Traps and Pitfalls"
      ]
    },
    {
      "cell_type": "markdown",
      "metadata": {
        "id": "dfOvp-t_-VGg"
      },
      "source": [
        "## Notes on the Illusions"
      ]
    }
  ]
}