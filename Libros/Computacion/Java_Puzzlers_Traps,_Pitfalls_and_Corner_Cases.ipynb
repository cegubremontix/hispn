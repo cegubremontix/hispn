{
  "nbformat": 4,
  "nbformat_minor": 0,
  "metadata": {
    "colab": {
      "name": "Java Puzzlers: Traps, Pitfalls and Corner Cases.ipynb",
      "provenance": [],
      "toc_visible": true,
      "authorship_tag": "ABX9TyNOLc1a68OjzkSsHHHDU09Z",
      "include_colab_link": true
    },
    "kernelspec": {
      "name": "python3",
      "display_name": "Python 3"
    },
    "language_info": {
      "name": "python"
    }
  },
  "cells": [
    {
      "cell_type": "markdown",
      "metadata": {
        "id": "view-in-github",
        "colab_type": "text"
      },
      "source": [
        "<a href=\"https://colab.research.google.com/github/dbremont/Notas/blob/main/Libros/Computacion/Java_Puzzlers_Traps%2C_Pitfalls_and_Corner_Cases.ipynb\" target=\"_parent\"><img src=\"https://colab.research.google.com/assets/colab-badge.svg\" alt=\"Open In Colab\"/></a>"
      ]
    },
    {
      "cell_type": "markdown",
      "metadata": {
        "id": "5Evg0SOGqKDY"
      },
      "source": [
        "## Java Puzzlers: Traps, Pitfalls and Corner Cases\n",
        "\n",
        "To send puzzles puzzlers@javapuzzlers.com."
      ]
    },
    {
      "cell_type": "markdown",
      "metadata": {
        "id": "rE85FKQs5BSN"
      },
      "source": [
        "## Introduction"
      ]
    },
    {
      "cell_type": "markdown",
      "metadata": {
        "id": "edTEjHFOKrSt"
      },
      "source": [
        "**What is this book about?**\n",
        "\n",
        "- This book is about brainteasers about the Java Lanaguage and It's Core Libraries.\n",
        "\n",
        "- Most of the puzzlers exploit conuterintuitive or obscure behaviors that can lead to bugs. These behavoirs are known as *traps, pitfalls, and corner cases*.\n",
        "\n",
        "- Explore the territory of un-defined specs/semantics.\n",
        "\n",
        "**How to Read this Book?**\n",
        "  - This is a practical book, so read it with a computer.\n",
        "  \n",
        "  - Use the [Code](https://github.com/dbremont/jvtudes) as starting point to solve the puzzles.\n",
        "  \n",
        "  - **Recommended approach to get th most out the puzzles**:\n",
        "    \n",
        "    - Study the program and try to predict its vehavior without using a computer. If you don't see a trick keep looking.\n",
        "\n",
        "    - Once you think you know what the programs does, run it. Did it do what you thought it would? If not, can you come up with an explanation for the bahavior you observed?\n",
        "\n",
        "    - Think about how you might fix the program, asumming it is broken.\n",
        "\n",
        "    - **Then and only then, read the solution**.\n",
        "\n",
        "**Notes**\n",
        "\n",
        "- Many of the traps and pitfalls in these puzzles are amenable to automatic detection by *static analysis*.\n",
        "\n",
        "- Ej. FindBugs"
      ]
    },
    {
      "cell_type": "markdown",
      "metadata": {
        "id": "G3fwqe4H9Ixs"
      },
      "source": [
        "## Expressive Puzzlers"
      ]
    },
    {
      "cell_type": "markdown",
      "metadata": {
        "id": "5zUD327x9Knp"
      },
      "source": [
        "## Puzzlers with Character"
      ]
    },
    {
      "cell_type": "markdown",
      "metadata": {
        "id": "zC-uL0v99Nvt"
      },
      "source": [
        "## Loopy Puzzlers"
      ]
    },
    {
      "cell_type": "markdown",
      "metadata": {
        "id": "rdTpkFR89PlD"
      },
      "source": [
        "## Exceptional Puzzlers"
      ]
    },
    {
      "cell_type": "markdown",
      "metadata": {
        "id": "cgSYCTec9Th6"
      },
      "source": [
        "## Clasy Puzzlers"
      ]
    },
    {
      "cell_type": "markdown",
      "metadata": {
        "id": "Vci11AE29Wt9"
      },
      "source": [
        "## Library Puzzlers"
      ]
    },
    {
      "cell_type": "markdown",
      "metadata": {
        "id": "aAnhuRyk9Ysp"
      },
      "source": [
        "## Classier Puzzlers"
      ]
    },
    {
      "cell_type": "markdown",
      "metadata": {
        "id": "5dtVKR5N9aIi"
      },
      "source": [
        "## More Library Puzzlers"
      ]
    },
    {
      "cell_type": "markdown",
      "metadata": {
        "id": "xgHsDCwg9dQ6"
      },
      "source": [
        "## Advanced Puzzlers"
      ]
    },
    {
      "cell_type": "markdown",
      "metadata": {
        "id": "Af2k7cQh-SBY"
      },
      "source": [
        "## Catalog of Traps and Pitfalls"
      ]
    },
    {
      "cell_type": "markdown",
      "metadata": {
        "id": "dfOvp-t_-VGg"
      },
      "source": [
        "## Notes on the Illusions"
      ]
    },
    {
      "cell_type": "markdown",
      "metadata": {
        "id": "WPwQvKZlP0yT"
      },
      "source": [
        "# Terminology"
      ]
    },
    {
      "cell_type": "markdown",
      "metadata": {
        "id": "ugRIeCpDP2jW"
      },
      "source": [
        "- **Static analysis**: analysing programs without running them."
      ]
    }
  ]
}