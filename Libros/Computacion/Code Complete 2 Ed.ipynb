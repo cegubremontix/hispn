{
  "nbformat": 4,
  "nbformat_minor": 0,
  "metadata": {
    "kernelspec": {
      "display_name": "Python 2.7.18 64-bit",
      "name": "python2718jvsc74a57bd0f92b2924b84ff19c1c3dc485f7644d4486f64738191026bf8e6de303969141b5"
    },
    "language_info": {
      "name": "python",
      "version": ""
    },
    "metadata": {
      "interpreter": {
        "hash": "f92b2924b84ff19c1c3dc485f7644d4486f64738191026bf8e6de303969141b5"
      }
    },
    "orig_nbformat": 2,
    "colab": {
      "name": "Code Complete 2 Ed.ipynb",
      "provenance": [],
      "include_colab_link": true
    }
  },
  "cells": [
    {
      "cell_type": "markdown",
      "metadata": {
        "id": "view-in-github",
        "colab_type": "text"
      },
      "source": [
        "<a href=\"https://colab.research.google.com/github/dbremont/Notas/blob/main/Libros/Computacion/Code%20Complete%202%20Ed.ipynb\" target=\"_parent\"><img src=\"https://colab.research.google.com/assets/colab-badge.svg\" alt=\"Open In Colab\"/></a>"
      ]
    },
    {
      "cell_type": "markdown",
      "metadata": {
        "id": "mX_fWlmI6Ew_"
      },
      "source": [
        "Code Complete 2 Ed."
      ]
    },
    {
      "cell_type": "markdown",
      "metadata": {
        "id": "40hf9R3ZQWyO"
      },
      "source": [
        "# Laying the Foundation"
      ]
    },
    {
      "cell_type": "markdown",
      "metadata": {
        "id": "0oqP7TPvJTUJ"
      },
      "source": [
        "## Welcome to Software Constructions"
      ]
    },
    {
      "cell_type": "markdown",
      "metadata": {
        "id": "0DjilnUMPuzT"
      },
      "source": [
        "What is Software Construction?\n",
        "\n",
        "Problem definition \n",
        "\n",
        "Requiremetents development\n",
        "\n",
        "Construction planning\n",
        "\n",
        "Software architecture, or high-level design\n",
        "\n",
        "Detailed design\n",
        "\n",
        "Coding and debugging\n",
        "\n",
        "Unit testing\n",
        "\n",
        "Integration testing\n",
        "\n",
        "Integration\n",
        "\n",
        "System testing\n",
        "\n",
        "Corrective maintenance\n",
        "\n",
        "Why Is Softaware Construction Important?"
      ]
    },
    {
      "cell_type": "markdown",
      "metadata": {
        "id": "XQnq4V6yJVno"
      },
      "source": [
        "## Metaphors for a Richer Undrestanding of Software Development"
      ]
    },
    {
      "cell_type": "markdown",
      "metadata": {
        "id": "OE5d1OHDQcNk"
      },
      "source": [
        "Common Software Metaphors\n",
        "\n",
        "Software Penmanship: Writing Code\n",
        "\n",
        "Software Farming: Growing a System\n",
        "\n",
        "Software Oyster Farming: System Accretion\n",
        "\n",
        "Software Construction: Building Software\n",
        "\n",
        "What is Metaphor?\n",
        "\n",
        "\n"
      ]
    },
    {
      "cell_type": "markdown",
      "metadata": {
        "id": "48bxrha_QavF"
      },
      "source": [
        "# Creating High-Quality Code"
      ]
    },
    {
      "cell_type": "markdown",
      "metadata": {
        "id": "gEp3XFfSTTo_"
      },
      "source": [
        "## Design in Construction"
      ]
    },
    {
      "cell_type": "markdown",
      "metadata": {
        "id": "FVKC-fRxTf6E"
      },
      "source": [
        "Design is a Weicked Problem\n",
        "\n",
        "Design Is a Sloppy Process (Even If it Produces a Tidy Result)\n",
        "\n",
        "Design Is a Heuristic Process\n",
        "\n",
        "Design Is Emergent\n",
        "\n",
        "Accidental and Essential Difficulties\n",
        "\n",
        "Importance of Managing Complexity\n",
        "\n",
        "How to Attack Complexity\n",
        "\n",
        "Desirable Characteristics of a Design\n",
        "\n",
        "Minimal complexity\n",
        "\n",
        "Ease of maintenance\n",
        "\n",
        "Loose coupling\n",
        "\n",
        "Extensibility\n",
        "\n",
        "Reusability\n",
        "\n",
        "High fan-in\n",
        "\n",
        "Low-to-medium-fan-out\n",
        "\n",
        "Portability\n",
        "\n",
        "Leanness\n",
        "\n",
        "Stratification\n",
        "\n",
        "Standard techniques\n",
        "\n",
        "Business rules\n",
        "\n",
        "user interface\n",
        "\n",
        "database access\n",
        "\n",
        "system dependencies\n",
        "\n",
        "classes vs objects\n",
        "\n",
        "find real-world objects\n",
        "\n",
        "form consistent abstractions\n",
        "\n",
        "encapsulate implementation details\n",
        "\n",
        "inherit-when inheritance simplifies the design\n",
        "\n",
        "hide secrets (information hiding)\n",
        "\n",
        "secrets and Right to Privacy\n",
        "\n",
        "Barriers to Information Hiding\n",
        "\n",
        "Value of Information Hiding\n",
        "\n",
        "Identify Areas Likely to Change\n",
        "\n",
        "Coupling Criteria\n",
        "\n",
        "Kinds of Coupling\n",
        "\n",
        "Sematic coupling\n",
        "\n",
        "Look for Common Design Patterns\n",
        "\n",
        "Patterns reduce complexity by providing ready-made abstraction\n",
        "\n",
        "Patterns reduce errors by institutionalizign details of common solutions\n",
        "\n",
        "Patterns provide heuristic value by suggesting design alternatives\n",
        "\n",
        "Patterns streamline communication by moving the design dialog to a higher level\n",
        "\n",
        "Popular Design Pattern\n",
        "\n",
        "Abstract Factory\n",
        "\n",
        "Adapter \n",
        "\n",
        "Bridge\n",
        "\n",
        "Composite\n",
        "\n",
        "Decorator\n",
        "\n",
        "Facade\n",
        "\n",
        "Factory Method\n",
        "\n",
        "Iterator\n",
        "\n",
        "Observer\n",
        "\n",
        "Singleton\n",
        "\n",
        "Strategy\n",
        "\n",
        "Template Method\n",
        "\n",
        "Other Heuristics\n",
        "\n",
        "Aim for Strong Cohesion\n",
        "\n",
        "Build Hierarchies\n",
        "\n",
        "Formalize Class Constracts\n",
        "\n",
        "Assign Responsabilities\n",
        "\n",
        "Design for Test\n",
        "\n",
        "Avoid Failure\n",
        "\n",
        "Choose Binding Time Consciosly\n",
        "\n",
        "Make Central Points of Control\n",
        "\n",
        "Consider Using Brute Force\n",
        "\n",
        "Draw a Diagram\n",
        "\n",
        "Keep Your Design Modular\n",
        "\n",
        "Design Heuristics\n",
        "\n",
        "Guidelines for Using Heuristics\n",
        "\n",
        "Design Practices\n",
        "\n",
        "Divide and Conquer\n",
        "\n",
        "Top-Down and Bottom-Up Design Approaches\n",
        "\n",
        "Experimental Prototyping\n",
        "\n",
        "Collaborative Design\n",
        "\n",
        "How Much Design Is Enough?\n",
        "\n",
        "Checklist: Design in Constructions"
      ]
    },
    {
      "cell_type": "markdown",
      "metadata": {
        "id": "zfigrlBtTWlt"
      },
      "source": [
        "## Working Classes"
      ]
    },
    {
      "cell_type": "markdown",
      "metadata": {
        "id": "FDEDS0PjTgkT"
      },
      "source": [
        "Abstract Data Types (ADTs)\n",
        "\n",
        "Handling Multiple Instances of Data with ADTs in Non-Object-Oriented Environments\n",
        "\n",
        "ADTs and Classes\n",
        "\n",
        "Good Class Interfaces\n",
        "\n",
        "Good Abstraction\n",
        "\n",
        "Good Encapsulation\n",
        "\n",
        "Desing and Implementation Issues\n",
        "\n",
        "Inheritance (\"is a \" Relantionships)\n",
        "\n",
        "Multiple Inheritance\n",
        "\n",
        "Why Are There So Many Rules for Inheritance?\n",
        "\n",
        "Member Functions and Data\n",
        "\n",
        "Constructors\n",
        "\n",
        "Reasons to Create a Class\n",
        "\n",
        "Classes to Avoid\n",
        "\n",
        "CheckList: Class Quality\n",
        "\n"
      ]
    },
    {
      "cell_type": "markdown",
      "metadata": {
        "id": "GIHTcoF9TZLp"
      },
      "source": [
        "## High-Quality Routines"
      ]
    },
    {
      "cell_type": "markdown",
      "metadata": {
        "id": "HDN8SYt9ThOE"
      },
      "source": [
        "Valid Reasons to Create a Routine\n",
        "\n",
        "Operations That Seem Too Simple to Put Into Routines\n",
        "\n",
        "Design at the Routine Level\n",
        "\n",
        "Good Routine Names\n",
        "\n",
        "How Long Can a Routine Be?\n",
        "\n",
        "How to Use Routine Parameters\n",
        "\n",
        "Special Considerations in the Use of Functions\n",
        "\n",
        "Macro Routines and Inline Routines\n",
        "\n",
        "Limitations on the Use of Macro Routines\n",
        "\n",
        "Inline Routines\n",
        "\n",
        "CHECKLIST: High-Quality Routines\n",
        "\n",
        "Parameter-Passing Issues\n"
      ]
    },
    {
      "cell_type": "markdown",
      "metadata": {
        "id": "xuZdu3U8TdFf"
      },
      "source": [
        "## Defensive Programming"
      ]
    },
    {
      "cell_type": "markdown",
      "metadata": {
        "id": "jo4aexCaTh1L"
      },
      "source": [
        "Protecting Your Program from Invalid Inputs\n",
        "\n",
        "Assertions\n",
        "\n",
        "Building Your Own Assertion Mechanism\n",
        "\n",
        "Guidelines for Using Assertions\n",
        "\n",
        "Error-Hanling Techniques\n",
        "\n",
        "Robutness vs Correctness\n",
        "\n",
        "High-Level Design Implications of Error Processing\n",
        "\n",
        "Exceptions\n",
        "\n",
        "Barricade Your Program to Contain the Damage Caused by Errors\n",
        "\n",
        "Relantionship Between Barricades and Assertions\n",
        "\n",
        "Debugging Aids\n",
        "\n",
        "Don't Automatically Apply Production Constrains to the Development Version\n",
        "\n",
        "Introduce Debugging Aids Early\n",
        "\n",
        "Use Offensive Programming\n",
        "\n",
        "Plan to Remove Debugging Aids\n",
        "\n",
        "Determining How Much Defensive Programming to Leave in Production Code\n",
        "\n",
        "Being Defensive About Defensive Programming\n",
        "\n",
        "CHECKLIST: Defensive Programing"
      ]
    },
    {
      "cell_type": "markdown",
      "metadata": {
        "id": "Rio-jAFpRAwe"
      },
      "source": [
        "## The Pseudocode Programming Process"
      ]
    },
    {
      "cell_type": "markdown",
      "metadata": {
        "id": "bQsZxOkVTiqT"
      },
      "source": [
        "Summary of Steps in Building Classes and Routines\n",
        "\n",
        "Steps in Creating a Class\n",
        "\n",
        "Steps in Building a Routine\n",
        "\n",
        "Design the Routine\n",
        "\n",
        "Code the Routine\n",
        "\n",
        "Check the Code\n"
      ]
    },
    {
      "cell_type": "markdown",
      "metadata": {
        "id": "qu18iyRuQf4E"
      },
      "source": [
        "# Variables"
      ]
    },
    {
      "cell_type": "markdown",
      "metadata": {
        "id": "lfiXzAkUujSC"
      },
      "source": [
        "## General Issues in Using Variables"
      ]
    },
    {
      "cell_type": "markdown",
      "metadata": {
        "id": "tE1lWkyxur-Y"
      },
      "source": [
        "The Data Literacy Test\n",
        "\n",
        "Making Variable Declarations Easy\n",
        "\n",
        "Guildelines for Initializign Variables\n",
        "\n",
        "Scope\n",
        "\n",
        "Localize References to Variables\n",
        "\n",
        "Keep Variables \"Live\" for as Short a Time as Possible\n",
        "\n",
        "Measuring the Live Time of a Variable\n",
        "\n",
        "General Guildelines for Minimizing Scope\n",
        "\n",
        "Comments on Minimizing Scope\n",
        "\n",
        "Persistance\n",
        "\n",
        "Binding Time\n",
        "\n",
        "Relantionship Between Data Types and Control Structures\n",
        "\n",
        "Using Each  Variable for Exactly One Purpose\n",
        "\n",
        "CHECKLIST: General Considerantions in Using Data"
      ]
    },
    {
      "cell_type": "markdown",
      "metadata": {
        "id": "Icy7orrOum9Q"
      },
      "source": [
        "## The Power of Variable Names"
      ]
    },
    {
      "cell_type": "markdown",
      "metadata": {
        "id": "2-AirK2Dusg6"
      },
      "source": [
        "Considerations in Choosing Good Names\n",
        "\n",
        "The Most Important Naming Consideration\n",
        "\n",
        "The Effect of Scope on Variable Names\n",
        "\n",
        "Computed-Value Qualifiers in Variable Names\n",
        "\n",
        "Common Opposites in Variable Names\n",
        "\n",
        "Naming Specific Types of Data\n",
        "\n",
        "Naming Loop Indexes\n",
        "\n",
        "Naming Status Variables\n",
        "\n",
        "Naming Temporary Variables\n",
        "\n",
        "Naming Boolean Variables\n",
        "\n",
        "Naming Enumerated Types\n",
        "\n",
        "Naming Constants\n",
        "\n",
        "The Power of Naming Conventions\n",
        "\n",
        "when You Should Have a Naming Convention\n",
        "\n",
        "Degrees of Formality\n",
        "\n",
        "Informal Naming Conventions\n",
        "\n",
        "Guidelines for a Language-Independent Convention\n",
        "\n",
        "Mixed-Language Programming Considerations\n",
        "\n",
        "Sample Naming Conventions\n",
        "\n",
        "Standarized Prefixes\n",
        "\n",
        "User-Defined Typ Abbreviations\n",
        "\n",
        "Semantic Prefixes\n",
        "\n",
        "Advantages of Standarized Prefixes\n",
        "\n",
        "Creating Short Names That Are Readable\n",
        "\n",
        "General Abbvreviation Guidelines\n",
        "\n",
        "Phonetic Abbreviations\n",
        "\n",
        "Coimmends on Abbreviations\n",
        "\n",
        "Kinds of Names to Avoid\n",
        "\n",
        "CHECKLIST: Naming Variables"
      ]
    },
    {
      "cell_type": "markdown",
      "metadata": {
        "id": "2b_oUFuNuo_F"
      },
      "source": [
        "## Fundamental Data Types"
      ]
    },
    {
      "cell_type": "markdown",
      "metadata": {
        "id": "ySVpnXJhutJl"
      },
      "source": [
        ""
      ]
    },
    {
      "cell_type": "markdown",
      "metadata": {
        "id": "4Y0xPYUlRNST"
      },
      "source": [
        "## Unusual Data Types"
      ]
    },
    {
      "cell_type": "markdown",
      "metadata": {
        "id": "nsJ0Np5tutvR"
      },
      "source": [
        ""
      ]
    },
    {
      "cell_type": "markdown",
      "metadata": {
        "id": "D3QsuDf1Qhfi"
      },
      "source": [
        "# Statements"
      ]
    },
    {
      "cell_type": "markdown",
      "metadata": {
        "id": "2RCt-7HCReTd"
      },
      "source": [
        "Organizing Straigth-Line Code\n",
        "\n",
        "Using Conditionals\n",
        "\n",
        "Controlling Loops\n",
        "\n",
        "Unusual Control Structures\n",
        "\n",
        "Table-Driven Methods\n",
        "\n",
        "General Control Issues"
      ]
    },
    {
      "cell_type": "markdown",
      "metadata": {
        "id": "Ba_ozmVxQjcs"
      },
      "source": [
        "# Code Improvements"
      ]
    },
    {
      "cell_type": "markdown",
      "metadata": {
        "id": "h100oZtKRpE8"
      },
      "source": [
        "The Software-Quality Landscape\n",
        "\n",
        "Collaborative Construction\n",
        "\n",
        "Developer Testing\n",
        "\n",
        "Debugging\n",
        "\n",
        "Refactoring\n",
        "\n",
        "Code-Tunning Strategies\n",
        "\n",
        "Code-Tunning Techniques\n",
        "\n"
      ]
    },
    {
      "cell_type": "markdown",
      "metadata": {
        "id": "Yk7k0nYEQmJY"
      },
      "source": [
        "# System Considerations"
      ]
    },
    {
      "cell_type": "markdown",
      "metadata": {
        "id": "1XkpL7XuR47x"
      },
      "source": [
        "How Program Size Efects Construction\n",
        "\n",
        "Managing Construction\n",
        "\n",
        "Integration\n",
        "\n",
        "Programming Tools"
      ]
    },
    {
      "cell_type": "markdown",
      "metadata": {
        "id": "ccKPX1pZQrAC"
      },
      "source": [
        "# Software Crafsmanhip"
      ]
    },
    {
      "cell_type": "markdown",
      "metadata": {
        "id": "rC2y09cUSCcK"
      },
      "source": [
        "Layout and Style\n",
        "\n",
        "Self-Documenting Code\n",
        "\n",
        "Personal Character\n",
        "\n",
        "Themes in Software Crafsmanship\n",
        "\n",
        "Where to Find More Information"
      ]
    }
  ]
}