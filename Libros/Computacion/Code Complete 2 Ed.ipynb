{
  "nbformat": 4,
  "nbformat_minor": 0,
  "metadata": {
    "kernelspec": {
      "display_name": "Python 2.7.18 64-bit",
      "name": "python2718jvsc74a57bd0f92b2924b84ff19c1c3dc485f7644d4486f64738191026bf8e6de303969141b5"
    },
    "language_info": {
      "name": "python",
      "version": ""
    },
    "metadata": {
      "interpreter": {
        "hash": "f92b2924b84ff19c1c3dc485f7644d4486f64738191026bf8e6de303969141b5"
      }
    },
    "orig_nbformat": 2,
    "colab": {
      "name": "Code Complete 2 Ed.ipynb",
      "provenance": [],
      "include_colab_link": true
    }
  },
  "cells": [
    {
      "cell_type": "markdown",
      "metadata": {
        "id": "view-in-github",
        "colab_type": "text"
      },
      "source": [
        "<a href=\"https://colab.research.google.com/github/dbremont/Notas/blob/main/Libros/Computacion/Code%20Complete%202%20Ed.ipynb\" target=\"_parent\"><img src=\"https://colab.research.google.com/assets/colab-badge.svg\" alt=\"Open In Colab\"/></a>"
      ]
    },
    {
      "cell_type": "markdown",
      "metadata": {
        "id": "mX_fWlmI6Ew_"
      },
      "source": [
        "Code Complete 2 Ed."
      ]
    },
    {
      "cell_type": "markdown",
      "metadata": {
        "id": "40hf9R3ZQWyO"
      },
      "source": [
        "# Laying the Foundation"
      ]
    },
    {
      "cell_type": "markdown",
      "metadata": {
        "id": "0oqP7TPvJTUJ"
      },
      "source": [
        "## Welcome to Software Constructions"
      ]
    },
    {
      "cell_type": "markdown",
      "metadata": {
        "id": "0DjilnUMPuzT"
      },
      "source": [
        "What is Software Construction?\n",
        "\n",
        "Problem definition \n",
        "\n",
        "Requiremetents development\n",
        "\n",
        "Construction planning\n",
        "\n",
        "Software architecture, or high-level design\n",
        "\n",
        "Detailed design\n",
        "\n",
        "Coding and debugging\n",
        "\n",
        "Unit testing\n",
        "\n",
        "Integration testing\n",
        "\n",
        "Integration\n",
        "\n",
        "System testing\n",
        "\n",
        "Corrective maintenance\n",
        "\n",
        "Why Is Softaware Construction Important?"
      ]
    },
    {
      "cell_type": "markdown",
      "metadata": {
        "id": "XQnq4V6yJVno"
      },
      "source": [
        "## Metaphors for a Richer Undrestanding of Software Development"
      ]
    },
    {
      "cell_type": "markdown",
      "metadata": {
        "id": "OE5d1OHDQcNk"
      },
      "source": [
        "Common Software Metaphors\n",
        "\n",
        "Software Penmanship: Writing Code\n",
        "\n",
        "Software Farming: Growing a System\n",
        "\n",
        "Software Oyster Farming: System Accretion\n",
        "\n",
        "Software Construction: Building Software\n",
        "\n",
        "What is Metaphor?\n",
        "\n",
        "\n"
      ]
    },
    {
      "cell_type": "markdown",
      "metadata": {
        "id": "48bxrha_QavF"
      },
      "source": [
        "# Creating High-Quality Code"
      ]
    },
    {
      "cell_type": "markdown",
      "metadata": {
        "id": "gEp3XFfSTTo_"
      },
      "source": [
        "## Design in Construction"
      ]
    },
    {
      "cell_type": "markdown",
      "metadata": {
        "id": "FVKC-fRxTf6E"
      },
      "source": [
        "Design is a Weicked Problem\n",
        "\n",
        "Design Is a Sloppy Process (Even If it Produces a Tidy Result)\n",
        "\n",
        "Design Is a Heuristic Process\n",
        "\n",
        "Design Is Emergent\n",
        "\n",
        "Accidental and Essential Difficulties\n",
        "\n",
        "Importance of Managing Complexity\n",
        "\n",
        "How to Attack Complexity\n",
        "\n",
        "Desirable Characteristics of a Design\n",
        "\n",
        "Minimal complexity\n",
        "\n",
        "Ease of maintenance\n",
        "\n",
        "Loose coupling\n",
        "\n",
        "Extensibility\n",
        "\n",
        "Reusability\n",
        "\n",
        "High fan-in\n",
        "\n",
        "Low-to-medium-fan-out\n",
        "\n",
        "Portability\n",
        "\n",
        "Leanness\n",
        "\n",
        "Stratification\n",
        "\n",
        "Standard techniques\n",
        "\n",
        "Business rules\n",
        "\n",
        "user interface\n",
        "\n",
        "database access\n",
        "\n",
        "system dependencies\n",
        "\n",
        "classes vs objects\n",
        "\n",
        "find real-world objects\n",
        "\n",
        "form consistent abstractions\n",
        "\n",
        "encapsulate implementation details\n",
        "\n",
        "inherit-when inheritance simplifies the design\n",
        "\n",
        "hide secrets (information hiding)\n",
        "\n",
        "secrets and Right to Privacy\n",
        "\n",
        "Barriers to Information Hiding\n",
        "\n",
        "Value of Information Hiding\n",
        "\n",
        "Identify Areas Likely to Change\n",
        "\n",
        "Coupling Criteria\n",
        "\n",
        "Kinds of Coupling\n",
        "\n",
        "Sematic coupling\n",
        "\n",
        "Look for Common Design Patterns\n",
        "\n",
        "Patterns reduce complexity by providing ready-made abstraction\n",
        "\n",
        "Patterns reduce errors by institutionalizign details of common solutions\n",
        "\n",
        "Patterns provide heuristic value by suggesting design alternatives\n",
        "\n",
        "Patterns streamline communication by moving the design dialog to a higher level\n",
        "\n",
        "Popular Design Pattern\n",
        "\n",
        "Abstract Factory\n",
        "\n",
        "Adapter \n",
        "\n",
        "Bridge\n",
        "\n",
        "Composite\n",
        "\n",
        "Decorator\n",
        "\n",
        "Facade\n",
        "\n",
        "Factory Method\n",
        "\n",
        "Iterator\n",
        "\n",
        "Observer\n",
        "\n",
        "Singleton\n",
        "\n",
        "Strategy\n",
        "\n",
        "Template Method\n",
        "\n",
        "Other Heuristics\n",
        "\n",
        "Aim for Strong Cohesion\n",
        "\n",
        "Build Hierarchies\n",
        "\n",
        "Formalize Class Constracts\n",
        "\n",
        "Assign Responsabilities\n",
        "\n",
        "Design for Test\n",
        "\n",
        "Avoid Failure\n",
        "\n",
        "Choose Binding Time Consciosly\n",
        "\n",
        "Make Central Points of Control\n",
        "\n",
        "Consider Using Brute Force\n",
        "\n",
        "Draw a Diagram\n",
        "\n",
        "Keep Your Design Modular\n",
        "\n",
        "Design Heuristics\n",
        "\n",
        "Guidelines for Using Heuristics\n",
        "\n",
        "Design Practices\n",
        "\n",
        "Divide and Conquer\n",
        "\n",
        "Top-Down and Bottom-Up Design Approaches\n",
        "\n",
        "Experimental Prototyping\n",
        "\n",
        "Collaborative Design\n",
        "\n",
        "How Much Design Is Enough?\n",
        "\n",
        "Checklist: Design in Constructions"
      ]
    },
    {
      "cell_type": "markdown",
      "metadata": {
        "id": "zfigrlBtTWlt"
      },
      "source": [
        "## Working Classes"
      ]
    },
    {
      "cell_type": "markdown",
      "metadata": {
        "id": "FDEDS0PjTgkT"
      },
      "source": [
        "Abstract Data Types (ADTs)\n",
        "\n",
        "Handling Multiple Instances of Data with ADTs in Non-Object-Oriented Environments\n",
        "\n",
        "ADTs and Classes\n",
        "\n",
        "Good Class Interfaces\n",
        "\n",
        "Good Abstraction\n",
        "\n",
        "Good Encapsulation\n",
        "\n",
        "Desing and Implementation Issues\n",
        "\n",
        "Inheritance (\"is a \" Relantionships)\n",
        "\n",
        "Multiple Inheritance\n",
        "\n",
        "Why Are There So Many Rules for Inheritance?\n",
        "\n",
        "Member Functions and Data\n",
        "\n",
        "Constructors\n",
        "\n",
        "Reasons to Create a Class\n",
        "\n",
        "Classes to Avoid\n",
        "\n",
        "CheckList: Class Quality\n",
        "\n"
      ]
    },
    {
      "cell_type": "markdown",
      "metadata": {
        "id": "GIHTcoF9TZLp"
      },
      "source": [
        "## High-Quality Routines"
      ]
    },
    {
      "cell_type": "markdown",
      "metadata": {
        "id": "HDN8SYt9ThOE"
      },
      "source": [
        "Valid Reasons to Create a Routine\n",
        "\n",
        "Operations That Seem Too Simple to Put Into Routines\n",
        "\n",
        "Design at the Routine Level\n",
        "\n",
        "Good Routine Names\n",
        "\n",
        "How Long Can a Routine Be?\n",
        "\n",
        "How to Use Routine Parameters\n",
        "\n",
        "Special Considerations in the Use of Functions\n",
        "\n",
        "Macro Routines and Inline Routines\n",
        "\n",
        "Limitations on the Use of Macro Routines\n",
        "\n",
        "Inline Routines\n",
        "\n",
        "CHECKLIST: High-Quality Routines\n",
        "\n",
        "Parameter-Passing Issues\n"
      ]
    },
    {
      "cell_type": "markdown",
      "metadata": {
        "id": "xuZdu3U8TdFf"
      },
      "source": [
        "## Defensive Programming"
      ]
    },
    {
      "cell_type": "markdown",
      "metadata": {
        "id": "jo4aexCaTh1L"
      },
      "source": [
        "Protecting Your Program from Invalid Inputs\n",
        "\n",
        "Assertions\n",
        "\n",
        "Building Your Own Assertion Mechanism\n",
        "\n",
        "Guidelines for Using Assertions\n",
        "\n",
        "Error-Hanling Techniques\n",
        "\n",
        "Robutness vs Correctness\n",
        "\n",
        "High-Level Design Implications of Error Processing\n",
        "\n",
        "Exceptions\n",
        "\n",
        "Barricade Your Program to Contain the Damage Caused by Errors\n",
        "\n",
        "Relantionship Between Barricades and Assertions\n",
        "\n",
        "Debugging Aids\n",
        "\n",
        "Don't Automatically Apply Production Constrains to the Development Version\n",
        "\n",
        "Introduce Debugging Aids Early\n",
        "\n",
        "Use Offensive Programming\n",
        "\n",
        "Plan to Remove Debugging Aids\n",
        "\n",
        "Determining How Much Defensive Programming to Leave in Production Code\n",
        "\n",
        "Being Defensive About Defensive Programming\n",
        "\n",
        "CHECKLIST: Defensive Programing"
      ]
    },
    {
      "cell_type": "markdown",
      "metadata": {
        "id": "Rio-jAFpRAwe"
      },
      "source": [
        "## The Pseudocode Programming Process"
      ]
    },
    {
      "cell_type": "markdown",
      "metadata": {
        "id": "bQsZxOkVTiqT"
      },
      "source": [
        "Summary of Steps in Building Classes and Routines\n",
        "\n",
        "Steps in Creating a Class\n",
        "\n",
        "Steps in Building a Routine\n",
        "\n",
        "Design the Routine\n",
        "\n",
        "Code the Routine\n",
        "\n",
        "Check the Code\n"
      ]
    },
    {
      "cell_type": "markdown",
      "metadata": {
        "id": "qu18iyRuQf4E"
      },
      "source": [
        "# Variables"
      ]
    },
    {
      "cell_type": "markdown",
      "metadata": {
        "id": "lfiXzAkUujSC"
      },
      "source": [
        "## General Issues in Using Variables"
      ]
    },
    {
      "cell_type": "markdown",
      "metadata": {
        "id": "tE1lWkyxur-Y"
      },
      "source": [
        "The Data Literacy Test\n",
        "\n",
        "Making Variable Declarations Easy\n",
        "\n",
        "Guildelines for Initializign Variables\n",
        "\n",
        "Scope\n",
        "\n",
        "Localize References to Variables\n",
        "\n",
        "Keep Variables \"Live\" for as Short a Time as Possible\n",
        "\n",
        "Measuring the Live Time of a Variable\n",
        "\n",
        "General Guildelines for Minimizing Scope\n",
        "\n",
        "Comments on Minimizing Scope\n",
        "\n",
        "Persistance\n",
        "\n",
        "Binding Time\n",
        "\n",
        "Relantionship Between Data Types and Control Structures\n",
        "\n",
        "Using Each  Variable for Exactly One Purpose\n",
        "\n",
        "CHECKLIST: General Considerantions in Using Data"
      ]
    },
    {
      "cell_type": "markdown",
      "metadata": {
        "id": "Icy7orrOum9Q"
      },
      "source": [
        "## The Power of Variable Names"
      ]
    },
    {
      "cell_type": "markdown",
      "metadata": {
        "id": "2-AirK2Dusg6"
      },
      "source": [
        "Considerations in Choosing Good Names\n",
        "\n",
        "The Most Important Naming Consideration\n",
        "\n",
        "The Effect of Scope on Variable Names\n",
        "\n",
        "Computed-Value Qualifiers in Variable Names\n",
        "\n",
        "Common Opposites in Variable Names\n",
        "\n",
        "Naming Specific Types of Data\n",
        "\n",
        "Naming Loop Indexes\n",
        "\n",
        "Naming Status Variables\n",
        "\n",
        "Naming Temporary Variables\n",
        "\n",
        "Naming Boolean Variables\n",
        "\n",
        "Naming Enumerated Types\n",
        "\n",
        "Naming Constants\n",
        "\n",
        "The Power of Naming Conventions\n",
        "\n",
        "when You Should Have a Naming Convention\n",
        "\n",
        "Degrees of Formality\n",
        "\n",
        "Informal Naming Conventions\n",
        "\n",
        "Guidelines for a Language-Independent Convention\n",
        "\n",
        "Mixed-Language Programming Considerations\n",
        "\n",
        "Sample Naming Conventions\n",
        "\n",
        "Standarized Prefixes\n",
        "\n",
        "User-Defined Typ Abbreviations\n",
        "\n",
        "Semantic Prefixes\n",
        "\n",
        "Advantages of Standarized Prefixes\n",
        "\n",
        "Creating Short Names That Are Readable\n",
        "\n",
        "General Abbvreviation Guidelines\n",
        "\n",
        "Phonetic Abbreviations\n",
        "\n",
        "Coimmends on Abbreviations\n",
        "\n",
        "Kinds of Names to Avoid\n",
        "\n",
        "CHECKLIST: Naming Variables"
      ]
    },
    {
      "cell_type": "markdown",
      "metadata": {
        "id": "2b_oUFuNuo_F"
      },
      "source": [
        "## Fundamental Data Types"
      ]
    },
    {
      "cell_type": "markdown",
      "metadata": {
        "id": "ySVpnXJhutJl"
      },
      "source": [
        "Numbers in General\n",
        "\n",
        "Integers\n",
        "\n",
        "Floating Point Numbers\n",
        "\n",
        "Characters and Strings\n",
        "\n",
        "Boolean Variables\n",
        "\n",
        "Enumerated Types\n",
        "\n",
        "If Your Language Doesn't Have Enumerated Types\n",
        "\n",
        "Named Constants\n",
        "\n",
        "Ararys\n",
        "\n",
        "Creating Your Own Types\n",
        "\n",
        "Guidelines for Creating Your Own Types\n",
        "\n",
        "CHECKLIST: Fundamental Data"
      ]
    },
    {
      "cell_type": "markdown",
      "metadata": {
        "id": "4Y0xPYUlRNST"
      },
      "source": [
        "## Unusual Data Types"
      ]
    },
    {
      "cell_type": "markdown",
      "metadata": {
        "id": "nsJ0Np5tutvR"
      },
      "source": [
        "Structures\n",
        "\n",
        "Pointers\n",
        "\n",
        "Paradigm for Understanding Pointers\n",
        "\n",
        "Knowlege of How to Interpret the Contents\n",
        "\n",
        "General Tips  on Pointers\n",
        "\n",
        "C-Pointer Pointers\n",
        "\n",
        "Global Data\n",
        "\n",
        "Reasons to Use Global Data\n",
        "\n",
        "Use Global Data Only as a Last Resort\n",
        "\n",
        "Using Acess Routines Instead of Global Data\n",
        "\n",
        "How to Reduce the Risks of Using Global Data\n",
        "\n",
        "CEHCKLIST: Considerations in Using Unusual Types\n"
      ]
    },
    {
      "cell_type": "markdown",
      "metadata": {
        "id": "D3QsuDf1Qhfi"
      },
      "source": [
        "# Statements"
      ]
    },
    {
      "cell_type": "markdown",
      "metadata": {
        "id": "c4KKcbCd7o8t"
      },
      "source": [
        "## Organizing Straigth-Line Code"
      ]
    },
    {
      "cell_type": "markdown",
      "metadata": {
        "id": "6ByIs__X7y1j"
      },
      "source": [
        "Statements That Must Be in a Specific Order\n",
        "\n",
        "Statements Whose Order Doesn't Matter\n",
        "\n",
        "Making Code Read from Top to Bottom\n",
        "\n",
        "Grouping Related Statements\n",
        "\n",
        "CHECKLIST: Organizing Straith-Line Code"
      ]
    },
    {
      "cell_type": "markdown",
      "metadata": {
        "id": "n1Cp9S6T7rUv"
      },
      "source": [
        "## Using Conditionals"
      ]
    },
    {
      "cell_type": "markdown",
      "metadata": {
        "id": "8a8FsJzh8OGC"
      },
      "source": [
        "if Statements\n",
        "\n",
        "Chains if-then-else Statements\n",
        "\n",
        "case Statements\n",
        "\n",
        "Chossing the Most Effective Ordering of Cases\n",
        "\n",
        "Tips for Using case Statements\n",
        "\n",
        "CHECKLIST: Using Conditionals"
      ]
    },
    {
      "cell_type": "markdown",
      "metadata": {
        "id": "xTtGiavt7s8X"
      },
      "source": [
        "## Controlling Loops"
      ]
    },
    {
      "cell_type": "markdown",
      "metadata": {
        "id": "aq8eLlG3-IA0"
      },
      "source": [
        "Selecting the Kind of Loop\n",
        "\n",
        "when to Use a while Loop\n",
        "\n",
        "When to Use a Loop-With-Exit Loop\n",
        "\n",
        "Abnormal Loop-With-Exit Loops\n",
        "\n",
        "When to Use a for Loop\n",
        "\n",
        "When to Use a foreach Loop\n",
        "\n",
        "Controlling the Loop\n",
        "\n",
        "Entering the Loop\n",
        "\n",
        "Processign the Middle of the Loop\n",
        "\n",
        "Existing the Loop\n",
        "\n",
        "Exiting Loops Early\n",
        "\n",
        "Checking Endpoints\n",
        "\n",
        "Using Loop Variables\n",
        "\n",
        "How Long Should a Loop Be?\n",
        "\n",
        "Creating Loops Easily--From from Inside Out\n",
        "\n",
        "Corresponding Between Loops and Arrays\n",
        "\n",
        "CHECKLIST: Loops"
      ]
    },
    {
      "cell_type": "markdown",
      "metadata": {
        "id": "wE4lfBYM7uxD"
      },
      "source": [
        "## Unusual Control Structures"
      ]
    },
    {
      "cell_type": "markdown",
      "metadata": {
        "id": "RFobVlZ7B2sQ"
      },
      "source": [
        "Multiple Returns from a Routine\n",
        "\n",
        "Recursion\n",
        "\n",
        "Example of Recursion\n",
        "\n",
        "Tips for Using Recursion\n",
        "\n",
        "CHECKLIST: Unusual Control Structures"
      ]
    },
    {
      "cell_type": "markdown",
      "metadata": {
        "id": "R69upV887wwX"
      },
      "source": [
        "## Table-Driven Methods"
      ]
    },
    {
      "cell_type": "markdown",
      "metadata": {
        "id": "STJip-FqCRfe"
      },
      "source": [
        "Table-Driven Methods\n",
        "\n",
        "Two Issues in Using Table-Driven Methods\n",
        "\n",
        "Direct Access Tables\n",
        "\n",
        "Days-in-Month Example\n",
        "\n",
        "Insurance Rates Example\n",
        "\n",
        "Flexible-Message-Format Example\n",
        "\n",
        "Logic-Based Approach\n",
        "\n",
        "Object-Oriented Approach\n",
        "\n",
        "Table-Driven Approach\n",
        "\n",
        "Fudging Lookup Keys\n",
        "\n",
        "Indexed Access Tables\n",
        "\n",
        "Stair-Step Access Tables\n",
        "\n",
        "CHECKLIST: Table Driven Methods"
      ]
    },
    {
      "cell_type": "markdown",
      "metadata": {
        "id": "2RCt-7HCReTd"
      },
      "source": [
        "## General Control Issues"
      ]
    },
    {
      "cell_type": "markdown",
      "metadata": {
        "id": "VHjC4nXqE4vy"
      },
      "source": [
        "Boolean Expressions\n",
        "\n",
        "Using true and false for Boolean Test\n",
        "\n",
        "Making Complicated Expressions Simple\n",
        "\n",
        "Forming Boolean Expressions Positively\n",
        "\n",
        "Using Parentheses to Clarify Boolean Expressions\n",
        "\n",
        "Knowing How Boolean Expressions Are Evaluated\n",
        "\n",
        "Writing Numeric Expressions in Numeric-Line Order\n",
        "\n",
        "Guidelines for Comparisons to 0\n",
        "\n",
        "Common Problems with Boolean Expressions\n",
        "\n",
        "Compound Statements (Blocks)\n",
        "\n",
        "Null Statements\n",
        "\n",
        "Taming Dangerously Deep Nesting\n",
        "\n",
        "Summary of Techniques for Reducing Deep Nesting\n",
        "\n",
        "A Programming Foundation: Structured Programming\n",
        "\n",
        "The Three Components of Structured Programming\n",
        "\n",
        "Selection\n",
        "\n",
        "Control Structure and Complexity\n",
        "\n",
        "How Important Is Complexity?\n",
        "\n",
        "General Guidelines for Reducing Complexity\n",
        "\n",
        "How to Measure Complexity\n",
        "\n",
        "CHECKLIST: Control-Structure Issues"
      ]
    },
    {
      "cell_type": "markdown",
      "metadata": {
        "id": "Ba_ozmVxQjcs"
      },
      "source": [
        "# Code Improvements"
      ]
    },
    {
      "cell_type": "markdown",
      "metadata": {
        "id": "OzkXtqXmGZRl"
      },
      "source": [
        "## The Software-Quality Landscape"
      ]
    },
    {
      "cell_type": "markdown",
      "metadata": {
        "id": "Y1jljFghGknI"
      },
      "source": [
        "Characteristics of Software Quality\n",
        "\n",
        "Techniques for Improving Software Quality\n",
        "\n",
        "Development Process\n",
        "\n",
        "Relative Effectiveness of Quality Techniques\n",
        "\n",
        "Cost of Finding Defects\n",
        "\n",
        "Cost of Fixing Defects\n",
        "\n",
        "When to Do Quality Assurance\n",
        "\n",
        "The General Principle of Software Quality\n",
        "\n",
        "CHECKLIST: A Quality-Assurance Plan"
      ]
    },
    {
      "cell_type": "markdown",
      "metadata": {
        "id": "vtwQD0OYGaw0"
      },
      "source": [
        "## Collaborative Construction"
      ]
    },
    {
      "cell_type": "markdown",
      "metadata": {
        "id": "I6NqygysINbN"
      },
      "source": [
        "Walk-Throughs\n",
        "\n",
        "What Results Can You Expect from a Walk-Through?\n",
        "\n",
        "Code Reading\n",
        "\n",
        "Dog-and-Pony Shows\n",
        "\n",
        "Comparision of Collaborative Construction Techniques\n"
      ]
    },
    {
      "cell_type": "markdown",
      "metadata": {
        "id": "VYm1gjS9GdJv"
      },
      "source": [
        "## Developer Testing"
      ]
    },
    {
      "cell_type": "markdown",
      "metadata": {
        "id": "VJ5H4BUiJN3Z"
      },
      "source": [
        "Unit testing\n",
        "\n",
        "Component testing\n",
        "\n",
        "Integration testing\n",
        "\n",
        "Regression testing\n",
        "\n",
        "Testing During Construction\n",
        "\n",
        "Recommended Approach to Developer Testing\n",
        "\n",
        "Test First or Test Last?\n",
        "\n",
        "Limitations of Developer Testing\n",
        "\n",
        "Bag of Testing Tricks\n",
        "\n",
        "Imcomplete Testing\n",
        "\n",
        "Structured Basis Testing\n",
        "\n",
        "Data-Flow Testing\n",
        "\n",
        "Combinations of Data States\n",
        "\n",
        "Equivalence Partitioning \n",
        "\n",
        "Error Guessing\n",
        "\n",
        "Boundary Analysis\n",
        "\n",
        "Compound Boundaries\n",
        "\n",
        "Classes Bad Data\n",
        "\n",
        "Classes of Good Data\n",
        "\n",
        "Use Test Cases That Make Hand-Checks Convenient\n",
        "\n",
        "Typical Errors\n",
        "\n",
        "Which Classes Contain the Most Errors\n",
        "\n",
        "Errors by Classification\n",
        "\n",
        "Proportion of Errors Resulting from Faulty Construction\n",
        "\n",
        "How Many Errors Should You Expect to Find?\n",
        "\n",
        "Errors in Testing Itself\n",
        "\n",
        "Test-Support Tools\n",
        "\n",
        "Building Scaffolding to Test Individual Classes\n",
        "\n",
        "Coverage Monitors\n",
        "\n",
        "Data Recorder/Logging\n",
        "\n",
        "Symbolic Debuggers\n",
        "\n",
        "Sysetem Perturbers\n",
        "\n",
        "Error Databases\n",
        "\n",
        "Improving Your Testing\n",
        "\n",
        "Retesting (Regression Testing)\n",
        "\n",
        "Automated Testing\n",
        "\n",
        "Keeping Test Records\n",
        "\n",
        "Personal Test Records\n",
        "\n",
        "Testing\n",
        "\n",
        "Testing Scaffolding\n",
        "\n",
        "Test First Development \n",
        "\n",
        "CHEKLIST: Test Cases\n"
      ]
    },
    {
      "cell_type": "markdown",
      "metadata": {
        "id": "8XxPsIjXGewP"
      },
      "source": [
        "## Debugging"
      ]
    },
    {
      "cell_type": "markdown",
      "metadata": {
        "id": "vYmHQoGrMtOT"
      },
      "source": [
        "Overview of Debugging Issues\n",
        "\n",
        "Role of Debugging in Software Quality\n",
        "\n",
        "Variatiosn in Debugging Performace\n",
        "\n",
        "Defects as Opportunities\n",
        "\n",
        "An Ineffective Approach\n",
        "\n",
        "The Devil's Guide to Debugging\n",
        "\n",
        "Debugging by Superstition\n",
        "\n",
        "Finding a Defect\n",
        "\n",
        "The Scientific Method of Debugging\n",
        "\n",
        "Stabilzie the Error\n",
        "\n",
        "Locate the Source of the Error\n",
        "\n",
        "Tips for Finding Defects\n",
        "\n",
        "Brute-Force Debugging\n",
        "\n",
        "Syntax Errors\n",
        "\n",
        "Fixing a Defect\n",
        "\n",
        "Psychological Considerations in Debugging\n",
        "\n",
        "How the \"Psychological Set\" Contributes to Debugging Blindness\n",
        "\n",
        "How \"Psychological Distance\" Can Help\n",
        "\n",
        "Debugging Tools-- Obvious and Not-So-Obvious\n",
        "\n",
        "Source-Code Comparators\n",
        "\n",
        "Compiler Warning Messages\n",
        "\n",
        "Exteded Syntax and Logic Checking\n",
        "\n",
        "Execution Profilers\n",
        "\n",
        "Test Frameworks/Scaffoldingr \n",
        "\n",
        "Debuggers\n",
        "\n",
        "CHECKLIST: Debugging Reminders\n"
      ]
    },
    {
      "cell_type": "markdown",
      "metadata": {
        "id": "zB2rPipgGgmr"
      },
      "source": [
        "## Refactoring"
      ]
    },
    {
      "cell_type": "markdown",
      "metadata": {
        "id": "71eD8JVDPN-o"
      },
      "source": [
        "Kinds of Softwarwe Evolution\n",
        "\n",
        "Philosophy of Software Evolution\n",
        "\n",
        "Introduction to Refactoring\n",
        "\n",
        "Reasons to Refactor\n",
        "\n",
        "CHECKLIST: Reasons to Refactor\n",
        "\n",
        "Specific Refactorings\n",
        "\n",
        "Data-Level Refactorings\n",
        "\n",
        "Statement-Level Refactorings\n",
        "\n",
        "Routine-Level Refactorings\n",
        "\n",
        "Class Implementation Refactorings\n",
        "\n",
        "Class Interface Refactorings\n",
        "\n",
        "System-Level Refactorings\n",
        "\n",
        "CHECKLIST: Summary of Refactorings\n",
        "\n",
        "Refactorign Strategies\n",
        "\n",
        "CHECKLIST: Refactoring Safely\n",
        "\n",
        "\n",
        "\n",
        "\n",
        "\n",
        "\n",
        "\n",
        "\n",
        "\n",
        "\n",
        "\n",
        "\n",
        "\n",
        "\n",
        "\n",
        "\n",
        "\n",
        "\n"
      ]
    },
    {
      "cell_type": "markdown",
      "metadata": {
        "id": "3o8ihop2GilV"
      },
      "source": [
        "## Code-Tunning Strategies"
      ]
    },
    {
      "cell_type": "markdown",
      "metadata": {
        "id": "KiDBN42gWny4"
      },
      "source": [
        "Performace Overview\n",
        "\n",
        "Quality Characteristics and Performace\n",
        "\n",
        "Performace and Code Tuning\n",
        "\n",
        "Program Requirements\n",
        "\n",
        "Program Design\n",
        "\n",
        "Class and Routine Design\n",
        "\n",
        "Operating-System Interactions\n",
        "\n",
        "Code Compilation\n",
        "\n",
        "Hardware\n",
        "\n",
        "Code Tuning\n",
        "\n",
        "Introduction to Code Tuning\n",
        "\n",
        "The Pareto Principle\n",
        "\n",
        "Old Wives' Tales\n",
        "\n",
        "When to Tune\n",
        "\n",
        "Compiler Optimizations\n",
        "\n",
        "Kinds of Fat and Molasses\n",
        "\n",
        "Common Sources of Inefficiency\n",
        "\n",
        "Relative Performace Costs of Common Operations\n",
        "\n",
        "Measurement\n",
        "\n",
        "Measurements Need to Be Precise \n",
        "\n",
        "Iteration\n",
        "\n",
        "Performace \n",
        "\n",
        "CHECKLIST: Code-Tuning Strategies\n"
      ]
    },
    {
      "cell_type": "markdown",
      "metadata": {
        "id": "h100oZtKRpE8"
      },
      "source": [
        "## Code-Tunning Techniques\n",
        "\n"
      ]
    },
    {
      "cell_type": "markdown",
      "metadata": {
        "id": "eOmYNHrRXirD"
      },
      "source": [
        "Stop Testing When you Know the Answer\n",
        "\n",
        "Order Test by Frequency\n",
        "\n",
        "Compare Performace of Similar Logic Structures\n",
        "\n",
        "Subtitute Table Lookups for Complicated Expressions\n",
        "\n",
        "Loops\n",
        "\n",
        "Jamming\n",
        "\n",
        "Unrolling\n",
        "\n",
        "Minimizign the Work Inside Loops\n",
        "\n",
        "Sentinel Values\n",
        "\n",
        "Putting the Busiest Loop on the Inside\n",
        "\n",
        "Strength Reduction\n",
        "\n",
        "Data Transformation\n",
        "\n",
        "User Integers Rather Than Floating-Point Numbers\n",
        "\n",
        "Use the Fewest Array Dimensiosn Possible\n",
        "\n",
        "Minimize Array References\n",
        "\n",
        "Use Supplumentary Indexes\n",
        "\n",
        "String-Length Index\n",
        "\n",
        "Use Caching\n",
        "\n",
        "Expressions\n",
        "\n",
        "Exploit Algebraic Indentities\n",
        "\n",
        "Use Strength Reduction\n",
        "\n",
        "Initialize at Compiler Time\n",
        "\n",
        "Be Wary of System Routines\n",
        "\n",
        "Use the Correct Type of Constants\n",
        "\n",
        "Precompute Results\n",
        "\n",
        "Eliminate Common Subexpressions\n",
        "\n",
        "Routines \n",
        "\n",
        "Rewrite Routines Inline\n",
        "\n",
        "Recording in a Low-Level Language\n",
        "\n",
        "CHECKLIST: Code-Tuning Techniques\n",
        "\n",
        "The More Thigns Change, the More They Stay the Same"
      ]
    },
    {
      "cell_type": "markdown",
      "metadata": {
        "id": "Yk7k0nYEQmJY"
      },
      "source": [
        "# System Considerations"
      ]
    },
    {
      "cell_type": "markdown",
      "metadata": {
        "id": "NyHwrN4sZ1rc"
      },
      "source": [
        "## How Program Size Efects Construction"
      ]
    },
    {
      "cell_type": "markdown",
      "metadata": {
        "id": "VKJqA2vTZ7Fu"
      },
      "source": [
        "Communication and Size\n",
        "\n",
        "Range of Project Sizes\n",
        "\n",
        "Effect of Project Size on Errors\n",
        "\n",
        "Effect of Project Size on Productivity\n",
        "\n",
        "Effect of Project Size on Development Activities\n",
        "\n",
        "Activity Proportions and Size\n",
        "\n",
        "Programs, Products, Systems, and System Products\n",
        "\n",
        "Methodology and Size\n"
      ]
    },
    {
      "cell_type": "markdown",
      "metadata": {
        "id": "6GTPHxQ3Z3ba"
      },
      "source": [
        "## Managing Construction"
      ]
    },
    {
      "cell_type": "markdown",
      "metadata": {
        "id": "IyYEc2BFbDMy"
      },
      "source": [
        "Encouraging Good Coding\n",
        "\n",
        "Considerations in Setting Standards\n",
        "\n",
        "Techniques for Encouragign Good Coding\n",
        "\n",
        "Configuration Management\n",
        "\n",
        "Requirements and Design Changes\n",
        "\n",
        "Software Code Changes\n",
        "\n",
        "Tools Versions\n",
        "\n",
        "Machine Configurations\n",
        "\n",
        "Backup Plan\n",
        "\n",
        "CHECKLIST: Configuration Management\n",
        "\n",
        "Estimating a Construction Schedule\n",
        "\n",
        "Estimating the Amount of Construction\n",
        "\n",
        "Estimation vs. Control\n",
        "\n",
        "What to Do If You're Behind\n",
        "\n",
        "Additional Resources on Software Estimation\n",
        "\n",
        "Measurement\n",
        "\n",
        "Useful Software-Development Measurements\n",
        "\n",
        "Treating Programmers as People\n",
        "\n",
        "How do Programmers Spend Their Time?\n",
        "\n",
        "Variation in Performace and Quality\n",
        "\n",
        "Individual Variation\n",
        "\n",
        "Team Variation\n",
        "\n",
        "Religious Issues\n",
        "\n",
        "Physical Environent \n",
        "\n",
        "Additional Resources on Programmers as Human Beings\n",
        "\n",
        "Managing Your Manager\n",
        "\n"
      ]
    },
    {
      "cell_type": "markdown",
      "metadata": {
        "id": "sSqHkfraZ5Lf"
      },
      "source": [
        "## Integration"
      ]
    },
    {
      "cell_type": "markdown",
      "metadata": {
        "id": "gziU-Hd9exhN"
      },
      "source": [
        "Integration Frequency - Phased or Incremental?\n",
        "\n",
        "Phased Integration\n",
        "\n",
        "Incremental Integration\n",
        "\n",
        "Benefits of Incremental Integration\n",
        "\n",
        "Incremental Integration Strategies\n",
        "\n",
        "Top-Down Integration\n",
        "\n",
        "Bottom-Up Integration\n",
        "\n",
        "Sandwich Integration\n",
        "\n",
        "Risk-Oriented Integration\n",
        "\n",
        "Feature Oriented Integration\n",
        "\n",
        "T-Shaped Integration\n",
        "\n",
        "Daily Build and Smoke Test\n",
        "\n",
        "What Kinds of Projects Can Use the Daily Build Process?\n",
        "\n",
        "Continous Integration\n",
        "\n",
        "CHECKLIST: Integration"
      ]
    },
    {
      "cell_type": "markdown",
      "metadata": {
        "id": "1XkpL7XuR47x"
      },
      "source": [
        "## Programming Tools"
      ]
    },
    {
      "cell_type": "markdown",
      "metadata": {
        "id": "V5azkBjIhLgj"
      },
      "source": [
        "Design Tools \n",
        "\n",
        "Source-Code Tools\n",
        "\n",
        "Multiple-File String Searching and Replacing\n",
        "\n",
        "Diff Tools\n",
        "\n",
        "Merge Tools\n",
        "\n",
        "Source-Code Beautifiers\n",
        "\n",
        "Interface Documentation Tools\n",
        "\n",
        "Templates\n",
        "\n",
        "Cross-Reference Tools\n",
        "\n",
        "Class Hierarchy Generators\n",
        "\n",
        "Picky Syntax and Sematics Checkers\n",
        "\n",
        "Metrics Reporters\n",
        "\n",
        "Refactorers\n",
        "\n",
        "Restructures\n",
        "\n",
        "Code Translators\n",
        "\n",
        "Version Control\n",
        "\n",
        "Data Dictionaries\n",
        "\n",
        "Executable-Code Tools\n",
        "\n",
        "Code Creation\n",
        "\n",
        "Compilers and Linkers\n",
        "\n",
        "Build Tools\n",
        "\n",
        "Coce Libraries\n",
        "\n",
        "Code-Generation Wizards\n",
        "\n",
        "Setup adn Installation\n",
        "\n",
        "Preprocessors\n",
        "\n",
        "Debugging\n",
        "\n",
        "Testing\n",
        "\n",
        "Code Tuning\n",
        "\n",
        "Execution Profilers\n",
        "\n",
        "Assembler Listings and Disassemblers\n",
        "\n",
        "Tools-Oriented Environments\n",
        "\n",
        "Building Your Own Programming Tools\n",
        "\n",
        "Project-Specific Tools\n",
        "\n",
        "Scrtips\n",
        "\n",
        "Tools Fantasyland\n",
        "\n"
      ]
    },
    {
      "cell_type": "markdown",
      "metadata": {
        "id": "ccKPX1pZQrAC"
      },
      "source": [
        "# Software Crafsmanhip"
      ]
    },
    {
      "cell_type": "markdown",
      "metadata": {
        "id": "QlkvlwxYi5Nt"
      },
      "source": [
        "## Layout and Style"
      ]
    },
    {
      "cell_type": "markdown",
      "metadata": {
        "id": "i70d3gnZjAzA"
      },
      "source": [
        "Layout Fundamentals \n",
        "\n",
        "Layout Extremes\n",
        "\n",
        "The Fundamental Theorem of Formatting\n",
        "\n",
        "Human and Computer Interpretations of a Program\n",
        "\n",
        "How Much is Good Layout Worth?\n",
        "\n",
        "Layout as Religion\n",
        "\n",
        "Objectives of Good Layout\n",
        "\n",
        "Layout Techniques\n",
        "\n",
        "Parentheses\n",
        "\n",
        "Layout Styles\n",
        "\n",
        "Pure Blocks\n",
        "\n",
        "Emulating Pure Blocks\n",
        "\n",
        "Using being-end Pairs (Braces) to Designate Block Boundaries\n",
        "\n",
        "Endline Layout\n",
        "\n",
        "Which Style Is Best?\n",
        "\n",
        "Laying Out Control Structures\n",
        "\n",
        "Fine Points of Formatting Control-Structure Blocks\n",
        "\n",
        "Other Considerations\n",
        "\n",
        "Laying Out Individual Statements\n",
        "\n",
        "Statement Length\n",
        "\n",
        "Using Spaces for Clarity\n",
        "\n",
        "Formatting Continuation Lines\n",
        "\n",
        "Using  Only One Statement Per Line\n",
        "\n",
        "Laying Out Data Declarations\n",
        "\n",
        "Laying Out Comments\n",
        "\n",
        "Laying Out Routines\n",
        "\n",
        "Laying Out Classes\n",
        "\n",
        "Laying Out Class Interfaces\n",
        "\n",
        "Laying Out Class Implementations\n",
        "\n",
        "Laying Out Files and Programs\n",
        "\n",
        "CHECKLIST: Layout"
      ]
    },
    {
      "cell_type": "markdown",
      "metadata": {
        "id": "CmZAZUURi6ta"
      },
      "source": [
        "## Self-Documenting Code"
      ]
    },
    {
      "cell_type": "markdown",
      "metadata": {
        "id": "sb8pUwELkm0j"
      },
      "source": [
        "External Documentation\n",
        "\n",
        "Programming Style as Documentation\n",
        "\n",
        "CHECKLIST: Self Documenting Code\n",
        "\n",
        "To Comment or Not to Comment\n",
        "\n",
        "Key to Effective Comments\n",
        "\n",
        "Kids of Comments\n",
        "\n",
        "Commenting Efficiently\n",
        "\n",
        "Commenting Techniques\n",
        "\n",
        "Commenting Paragraphs of Code\n",
        "\n",
        "Commenting Data Declarations\n",
        "\n",
        "Commenting Control Structures\n",
        "\n",
        "Commenting Routines\n",
        "\n",
        "Commenting Classes, Files, and Programs\n",
        "\n",
        "General Guidelines for Class Documentation\n",
        "\n",
        "General Guidelines for File Documentation\n",
        "\n",
        "The Book Paradigm for Program Documentation\n",
        "\n",
        "CHECKLIST: Good Commenting Technique"
      ]
    },
    {
      "cell_type": "markdown",
      "metadata": {
        "id": "iACYRNQEi8dH"
      },
      "source": [
        "## Personal Character"
      ]
    },
    {
      "cell_type": "markdown",
      "metadata": {
        "id": "WGjIybIFmf0m"
      },
      "source": [
        "Intelligence and Humility\n",
        "\n",
        "Cusiosity\n",
        "\n",
        "Intellectual Honesty\n",
        "\n",
        "Communication and Cooperation\n",
        "\n",
        "Cretivity and Discipline\n",
        "\n",
        "Laziness\n",
        "\n",
        "Characteristics That Don't Matter As Much As You Might Think\n",
        "\n",
        "Gonzo Programming\n",
        "\n",
        "Habits\n",
        "\n"
      ]
    },
    {
      "cell_type": "markdown",
      "metadata": {
        "id": "ONi4HWQMi-lz"
      },
      "source": [
        "## Themes in Software Crafsmanship"
      ]
    },
    {
      "cell_type": "markdown",
      "metadata": {
        "id": "xL6t0gRNm5O7"
      },
      "source": [
        "Conquer Complexity\n",
        "\n",
        "Pick Your Process\n",
        "\n",
        "Write Programs for People First, Computers Second\n",
        "\n",
        "Program into Your Language, Not in It\n",
        "\n",
        "Focus Your Attention with the Help of Conventions\n",
        "\n",
        "Program in Terms of the Problem Domain\n",
        "\n",
        "Separating a Program into Levels of Abstraction\n",
        "\n",
        "Low-Level Techniques for Working in the Problem  Domain\n",
        "\n",
        "Watch for Falling Rocks\n",
        "\n",
        "Iterate, Repeatedly, Again and Again\n",
        "\n",
        "Thou Shalt Rend Software and Religion Asunder\n",
        "\n",
        "Experimentation"
      ]
    }
  ]
}