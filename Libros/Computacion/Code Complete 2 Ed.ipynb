{
  "nbformat": 4,
  "nbformat_minor": 0,
  "metadata": {
    "kernelspec": {
      "display_name": "Python 2.7.18 64-bit",
      "name": "python2718jvsc74a57bd0f92b2924b84ff19c1c3dc485f7644d4486f64738191026bf8e6de303969141b5"
    },
    "language_info": {
      "name": "python",
      "version": ""
    },
    "metadata": {
      "interpreter": {
        "hash": "f92b2924b84ff19c1c3dc485f7644d4486f64738191026bf8e6de303969141b5"
      }
    },
    "orig_nbformat": 2,
    "colab": {
      "name": "Code Complete 2 Ed.ipynb",
      "provenance": [],
      "include_colab_link": true
    }
  },
  "cells": [
    {
      "cell_type": "markdown",
      "metadata": {
        "id": "view-in-github",
        "colab_type": "text"
      },
      "source": [
        "<a href=\"https://colab.research.google.com/github/dbremont/Notas/blob/main/Libros/Computacion/Code%20Complete%202%20Ed.ipynb\" target=\"_parent\"><img src=\"https://colab.research.google.com/assets/colab-badge.svg\" alt=\"Open In Colab\"/></a>"
      ]
    },
    {
      "cell_type": "markdown",
      "metadata": {
        "id": "mX_fWlmI6Ew_"
      },
      "source": [
        "Code Complete 2 Ed."
      ]
    },
    {
      "cell_type": "markdown",
      "metadata": {
        "id": "40hf9R3ZQWyO"
      },
      "source": [
        "# Laying the Foundation"
      ]
    },
    {
      "cell_type": "markdown",
      "metadata": {
        "id": "Yjjdz3VrQvV1"
      },
      "source": [
        "Welcome to Software Constructions\n",
        "\n",
        "Metaphors for a Richer Undrestanding of Software Development\n",
        "\n",
        "Measure Twice, Cut Once: Upstream Prerequisites\n",
        "\n",
        "Key Construction Decisions"
      ]
    },
    {
      "cell_type": "markdown",
      "metadata": {
        "id": "48bxrha_QavF"
      },
      "source": [
        "# Creating High-Quality Code"
      ]
    },
    {
      "cell_type": "markdown",
      "metadata": {
        "id": "Rio-jAFpRAwe"
      },
      "source": [
        "Design in Construction\n",
        "\n",
        "Working Classes\n",
        "\n",
        "High-Quality Routines\n",
        "\n",
        "Defensive Programming\n",
        "\n",
        "The Pseudocode Programming Process"
      ]
    },
    {
      "cell_type": "markdown",
      "metadata": {
        "id": "qu18iyRuQf4E"
      },
      "source": [
        "# Variables"
      ]
    },
    {
      "cell_type": "markdown",
      "metadata": {
        "id": "4Y0xPYUlRNST"
      },
      "source": [
        "General Issues in Using Variables\n",
        "\n",
        "The Power of Variable Names\n",
        "\n",
        "Fundamental Data Types\n",
        "\n",
        "Unusual Data Types"
      ]
    },
    {
      "cell_type": "markdown",
      "metadata": {
        "id": "D3QsuDf1Qhfi"
      },
      "source": [
        "# Statements"
      ]
    },
    {
      "cell_type": "markdown",
      "metadata": {
        "id": "2RCt-7HCReTd"
      },
      "source": [
        "Organizing Straigth-Line Code\n",
        "\n",
        "Using Conditionals\n",
        "\n",
        "Controlling Loops\n",
        "\n",
        "Unusual Control Structures\n",
        "\n",
        "Table-Driven Methods\n",
        "\n",
        "General Control Issues"
      ]
    },
    {
      "cell_type": "markdown",
      "metadata": {
        "id": "Ba_ozmVxQjcs"
      },
      "source": [
        "# Code Improvements"
      ]
    },
    {
      "cell_type": "markdown",
      "metadata": {
        "id": "h100oZtKRpE8"
      },
      "source": [
        "The Software-Quality Landscape\n",
        "\n",
        "Collaborative Construction\n",
        "\n",
        "Developer Testing\n",
        "\n",
        "Debugging\n",
        "\n",
        "Refactoring\n",
        "\n",
        "Code-Tunning Strategies\n",
        "\n",
        "Code-Tunning Techniques\n",
        "\n"
      ]
    },
    {
      "cell_type": "markdown",
      "metadata": {
        "id": "Yk7k0nYEQmJY"
      },
      "source": [
        "# System Considerations"
      ]
    },
    {
      "cell_type": "markdown",
      "metadata": {
        "id": "1XkpL7XuR47x"
      },
      "source": [
        "How Program Size Efects Construction\n",
        "\n",
        "Managing Construction\n",
        "\n",
        "Integration\n",
        "\n",
        "Programming Tools"
      ]
    },
    {
      "cell_type": "markdown",
      "metadata": {
        "id": "ccKPX1pZQrAC"
      },
      "source": [
        "# Software Crafsmanhip"
      ]
    },
    {
      "cell_type": "markdown",
      "metadata": {
        "id": "rC2y09cUSCcK"
      },
      "source": [
        "Layout and Style\n",
        "\n",
        "Self-Documenting Code\n",
        "\n",
        "Personal Character\n",
        "\n",
        "Themes in Software Crafsmanship\n",
        "\n",
        "Where to Find More Information"
      ]
    }
  ]
}