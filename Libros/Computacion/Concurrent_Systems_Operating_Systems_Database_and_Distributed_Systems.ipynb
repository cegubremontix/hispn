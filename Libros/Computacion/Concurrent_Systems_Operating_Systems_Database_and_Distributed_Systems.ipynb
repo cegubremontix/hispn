{
  "nbformat": 4,
  "nbformat_minor": 0,
  "metadata": {
    "colab": {
      "name": "Concurrent Systems Operating Systems, Database and Distributed Systems .ipynb",
      "provenance": [],
      "toc_visible": true,
      "authorship_tag": "ABX9TyOY3grti6qhW6HY+TBwFySq",
      "include_colab_link": true
    },
    "kernelspec": {
      "name": "python3",
      "display_name": "Python 3"
    },
    "language_info": {
      "name": "python"
    }
  },
  "cells": [
    {
      "cell_type": "markdown",
      "metadata": {
        "id": "view-in-github",
        "colab_type": "text"
      },
      "source": [
        "<a href=\"https://colab.research.google.com/github/dbremont/Notas/blob/main/Concurrent_Systems_Operating_Systems_Database_and_Distributed_Systems.ipynb\" target=\"_parent\"><img src=\"https://colab.research.google.com/assets/colab-badge.svg\" alt=\"Open In Colab\"/></a>"
      ]
    },
    {
      "cell_type": "markdown",
      "metadata": {
        "id": "m1cBUyy5QRrc"
      },
      "source": [
        "## Introduction: Examples and requirements"
      ]
    },
    {
      "cell_type": "markdown",
      "metadata": {
        "id": "G2DiRQlgQYA3"
      },
      "source": [
        "# Background and Fundamentals"
      ]
    },
    {
      "cell_type": "markdown",
      "metadata": {
        "id": "2MndVjmxQbRc"
      },
      "source": [
        "## System structure and dynamic execution"
      ]
    },
    {
      "cell_type": "markdown",
      "metadata": {
        "id": "KvDCU9xuQe4n"
      },
      "source": [
        "## The hardware interface, I/O and communications"
      ]
    },
    {
      "cell_type": "markdown",
      "metadata": {
        "id": "OytlhFtmQjp9"
      },
      "source": [
        "## Support for processes"
      ]
    },
    {
      "cell_type": "markdown",
      "metadata": {
        "id": "ltc_jYyKQmP9"
      },
      "source": [
        "## Fundamentals of distributed systems"
      ]
    },
    {
      "cell_type": "markdown",
      "metadata": {
        "id": "yAm47K5zQplo"
      },
      "source": [
        "## Memory management"
      ]
    },
    {
      "cell_type": "markdown",
      "metadata": {
        "id": "pLoGCwdYQrLS"
      },
      "source": [
        "## File management"
      ]
    },
    {
      "cell_type": "markdown",
      "metadata": {
        "id": "zpPxfqBlQtw-"
      },
      "source": [
        "# Single Concurrent Actions"
      ]
    },
    {
      "cell_type": "markdown",
      "metadata": {
        "id": "cTqYOM4KQv8j"
      },
      "source": [
        "## System structure"
      ]
    },
    {
      "cell_type": "markdown",
      "metadata": {
        "id": "tV5PAbDPQyO8"
      },
      "source": [
        "## Low-level synchonization priitives: Implementation"
      ]
    },
    {
      "cell_type": "markdown",
      "metadata": {
        "id": "cqGYyhmyQ5nJ"
      },
      "source": [
        "## Low-Level primitives: Use in systems and languages"
      ]
    },
    {
      "cell_type": "markdown",
      "metadata": {
        "id": "A6sTvs2lQ92i"
      },
      "source": [
        "## Language primitives for shared memory"
      ]
    },
    {
      "cell_type": "markdown",
      "metadata": {
        "id": "ZlUGOgz1RA6X"
      },
      "source": [
        "## IPC and system structure"
      ]
    },
    {
      "cell_type": "markdown",
      "metadata": {
        "id": "ezzq7k5SRDeA"
      },
      "source": [
        "## IPC without shared memory"
      ]
    },
    {
      "cell_type": "markdown",
      "metadata": {
        "id": "wwit3mTIRH7X"
      },
      "source": [
        "## Crash resilience and persistent data"
      ]
    },
    {
      "cell_type": "markdown",
      "metadata": {
        "id": "IG2Rmk9tRMf7"
      },
      "source": [
        "## Distributed IPC"
      ]
    },
    {
      "cell_type": "markdown",
      "metadata": {
        "id": "SfQtz-jVRObk"
      },
      "source": [
        "# Concurrent Composite Actions"
      ]
    },
    {
      "cell_type": "markdown",
      "metadata": {
        "id": "23ffhfLRRRW0"
      },
      "source": [
        "## Decomposable abstract operations"
      ]
    },
    {
      "cell_type": "markdown",
      "metadata": {
        "id": "OncrLJFrRUO1"
      },
      "source": [
        "## Resource allocation and deadlock"
      ]
    },
    {
      "cell_type": "markdown",
      "metadata": {
        "id": "HdDKP5EvRX6c"
      },
      "source": [
        "## Transactions"
      ]
    },
    {
      "cell_type": "markdown",
      "metadata": {
        "id": "-nwC2ZKCRabU"
      },
      "source": [
        "## Concurrency Control"
      ]
    },
    {
      "cell_type": "markdown",
      "metadata": {
        "id": "zVe0wZb9RcQ2"
      },
      "source": [
        "## Recovery"
      ]
    },
    {
      "cell_type": "markdown",
      "metadata": {
        "id": "hPWFpj-KRdOl"
      },
      "source": [
        "## Distributed transactions"
      ]
    },
    {
      "cell_type": "markdown",
      "metadata": {
        "id": "ORlNdviyRfUs"
      },
      "source": [
        "## Distributed computations"
      ]
    },
    {
      "cell_type": "markdown",
      "metadata": {
        "id": "8UxZPJbyRiFu"
      },
      "source": [
        "# System Case Studies"
      ]
    },
    {
      "cell_type": "markdown",
      "metadata": {
        "id": "yaVwqhN-Rk7y"
      },
      "source": [
        "## Unix"
      ]
    },
    {
      "cell_type": "markdown",
      "metadata": {
        "id": "Q0PE_3cMRmXY"
      },
      "source": [
        "## Microkernels: Match and CHORUS"
      ]
    },
    {
      "cell_type": "markdown",
      "metadata": {
        "id": "2iD1ca-sRqv-"
      },
      "source": [
        "## Windows NT"
      ]
    },
    {
      "cell_type": "markdown",
      "metadata": {
        "id": "E1L6aoGRRsB_"
      },
      "source": [
        "## Middleware: CORBA and Java"
      ]
    },
    {
      "cell_type": "markdown",
      "metadata": {
        "id": "tmi-lUfRRvcS"
      },
      "source": [
        "## Transactions processing and monitors eand systems"
      ]
    },
    {
      "cell_type": "markdown",
      "metadata": {
        "id": "BW_-PMoBRy1j"
      },
      "source": [
        "## Evolution of computer systems"
      ]
    }
  ]
}