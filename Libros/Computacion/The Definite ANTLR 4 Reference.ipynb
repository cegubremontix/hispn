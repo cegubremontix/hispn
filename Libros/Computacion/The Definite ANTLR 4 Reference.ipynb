{
 "cells": [
  {
   "cell_type": "markdown",
   "metadata": {},
   "source": [
    "Introduction to ANTLR and Computer Languages\n",
    "1. Meet ANTLR\n",
    "2. The Big Picture\n",
    "3. A Starter ANTLR Project\n",
    "4. A Quick Tour\n",
    "\n",
    "Developing Language Applications with ANTLR Grammars\n",
    "5. Designing Grammars\n",
    "6. Exploring Some Real Grammars\n",
    "7. Decoupling Grammars from Application-Specific Code\n",
    "8. Building Some Real Language Applications\n",
    "\n",
    "Advanced Topics\n",
    "9. Error Reporting and Recovery\n",
    "10. Atributes and Actions\n",
    "11. Altering the Parse with Semantic Predicates\n",
    "12. Wielding Lexical Black Magic\n",
    "\n",
    "ANTLR Reference\n",
    "13. Exploring the Runtime API\n",
    "14. Removing Direct Left Recursion\n",
    "15. Grammar Reference"
   ]
  }
 ],
 "metadata": {
  "kernelspec": {
   "display_name": "Python 2.7.18 64-bit",
   "name": "python2718jvsc74a57bd0f92b2924b84ff19c1c3dc485f7644d4486f64738191026bf8e6de303969141b5"
  },
  "language_info": {
   "name": "python",
   "version": ""
  },
  "metadata": {
   "interpreter": {
    "hash": "f92b2924b84ff19c1c3dc485f7644d4486f64738191026bf8e6de303969141b5"
   }
  },
  "orig_nbformat": 2
 },
 "nbformat": 4,
 "nbformat_minor": 2
}