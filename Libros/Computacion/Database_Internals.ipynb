{
  "nbformat": 4,
  "nbformat_minor": 0,
  "metadata": {
    "kernelspec": {
      "display_name": "Python 2.7.18 64-bit",
      "name": "python2718jvsc74a57bd0f92b2924b84ff19c1c3dc485f7644d4486f64738191026bf8e6de303969141b5"
    },
    "language_info": {
      "name": "python",
      "version": ""
    },
    "metadata": {
      "interpreter": {
        "hash": "f92b2924b84ff19c1c3dc485f7644d4486f64738191026bf8e6de303969141b5"
      }
    },
    "orig_nbformat": 2,
    "colab": {
      "name": "Database Internals - A Deep Dive into How Distributed Data Systems Work.ipynb",
      "provenance": [],
      "include_colab_link": true
    }
  },
  "cells": [
    {
      "cell_type": "markdown",
      "metadata": {
        "id": "view-in-github",
        "colab_type": "text"
      },
      "source": [
        "<a href=\"https://colab.research.google.com/github/dbremont/Notas/blob/main/Libros/Computacion/Database_Internals.ipynb\" target=\"_parent\"><img src=\"https://colab.research.google.com/assets/colab-badge.svg\" alt=\"Open In Colab\"/></a>"
      ]
    },
    {
      "cell_type": "markdown",
      "metadata": {
        "id": "iA4DBUek5Yxw"
      },
      "source": [
        "Database Internals - A Deep Dive into How Distributed Data Systems Work"
      ]
    },
    {
      "cell_type": "markdown",
      "metadata": {
        "id": "ivLIloEklnrp"
      },
      "source": [
        "# Storage Engine"
      ]
    },
    {
      "cell_type": "markdown",
      "metadata": {
        "id": "Wt193rPSmGHd"
      },
      "source": [
        "## Introduction and Overview"
      ]
    },
    {
      "cell_type": "markdown",
      "metadata": {
        "id": "vHUReTu-nzss"
      },
      "source": [
        "TCP-C Benchmark\n",
        "\n",
        "DMMS Architecture\n",
        "\n",
        "Transaction Manager\n",
        "\n",
        "Lock manager\n",
        "\n",
        "Access methods (storage structures)\n",
        "\n",
        "Buffer manager\n",
        "\n",
        "Recovery manager\n",
        "\n",
        "Memory-Versus Disk-Based DBMS\n",
        "\n",
        "Durability in Memory-Based Stores\n",
        "\n",
        "Column-Versus Row-Oriented DBMS\n",
        "\n",
        "Row-Oriented Data Layout\n",
        "\n",
        "Column-Oriented Data Layout\n",
        "\n",
        "Distinctiosn and Optimizations\n",
        "\n",
        "Wide Column Stores\n",
        "\n",
        "Data Files and Index Files\n",
        "\n",
        "Data Files\n",
        "\n",
        "Index Files\n",
        "\n",
        "Primary Index as an Indirection\n",
        "\n",
        "Buffering\n",
        "\n",
        "Immutability\n",
        "\n",
        "Ordering\n",
        "\n"
      ]
    },
    {
      "cell_type": "markdown",
      "metadata": {
        "id": "PWSNPJDomKrq"
      },
      "source": [
        "## B-Tree Basics"
      ]
    },
    {
      "cell_type": "markdown",
      "metadata": {
        "id": "C6buOyhZoybh"
      },
      "source": [
        "Binary Search Trees\n",
        "\n",
        "Tree Balancing \n",
        "\n",
        "Trees for Disk-Based Storage\n",
        "\n",
        "Disk-Based Structures\n",
        "\n",
        "Hard Disk Drivers\n",
        "\n",
        "Solid State Drives\n",
        "\n",
        "On-Dsk Structures\n",
        "\n",
        "Paged Binary Trees\n",
        "\n",
        "Ubiquitous B-Trees\n",
        "\n",
        "B-Tree Hierarchy\n",
        "\n",
        "B+-Trees\n",
        "\n",
        "Separtor Keys\n",
        "\n",
        "B-Tree Lookup Complexity\n",
        "\n",
        "B-Tree Lookup Algorithm\n",
        "\n",
        "Counting Keys\n",
        "\n",
        "B-Tree Node Splits\n",
        "\n",
        "B-Tree Node Merges"
      ]
    },
    {
      "cell_type": "markdown",
      "metadata": {
        "id": "76AdC8ammM4D"
      },
      "source": [
        "## File Formats"
      ]
    },
    {
      "cell_type": "markdown",
      "metadata": {
        "id": "0w7AYHh7pVxO"
      },
      "source": [
        "Binary Encoding\n",
        "\n",
        "Primitive Types\n",
        "\n",
        "Big-Endian\n",
        "\n",
        "Little-endian\n",
        "\n",
        "Strings and Variable-Size Data\n",
        "\n",
        "Bit-Packed Data: Booleans, Enums, and Flags\n",
        "\n",
        "File organization\n",
        "\n",
        "Page Structure\n",
        "\n",
        "Slotted Pages\n",
        "\n",
        "Cell Layout\n",
        "\n",
        "Variable-Size Data\n",
        "\n",
        "Combiding Cells ito Slotted Pages\n",
        "\n",
        "Managing  Variable-Size Data\n",
        "\n",
        "First fit\n",
        "\n",
        "Best fit\n",
        "\n",
        "Versioning\n",
        "\n",
        "Checksumming\n"
      ]
    },
    {
      "cell_type": "markdown",
      "metadata": {
        "id": "Ok-MkCD2mPQm"
      },
      "source": [
        "## Implementing B-Trees"
      ]
    },
    {
      "cell_type": "markdown",
      "metadata": {
        "id": "LbdhSPx0rz7a"
      },
      "source": [
        "Page Header\n",
        "\n",
        "Magic Numbers\n",
        "\n",
        "Sibling Links\n",
        "\n",
        "Righmost Pointers\n",
        "\n",
        "Node High Keys\n",
        "\n",
        "Overflow Pages\n",
        "\n",
        "Binary Search\n",
        "\n",
        "Binary Search with Indirection Pointers\n",
        "\n",
        "Propagation Splits and Merges\n",
        "\n",
        "Breadcrubs\n",
        "\n",
        "Rebalancing\n",
        "\n",
        "Right-Only Appends\n",
        "\n",
        "Bulk Loading\n",
        "\n",
        "Compression\n",
        "\n",
        "Vaccum and Maintenance\n",
        "\n",
        "Fragmentation Caused by Updates and Deletes\n",
        "\n",
        "Page Defragmentation\n",
        "\n",
        "High Keys\n",
        "\n",
        "Garbage collection"
      ]
    },
    {
      "cell_type": "markdown",
      "metadata": {
        "id": "L1NmkVgKmSjM"
      },
      "source": [
        "## Transaction Processing and Recovery"
      ]
    },
    {
      "cell_type": "markdown",
      "metadata": {
        "id": "ouah41Tms9-7"
      },
      "source": [
        "Atomicity\n",
        "\n",
        "Consistency\n",
        "\n",
        "Isolation\n",
        "\n",
        "Durability\n",
        "\n",
        "Buffer Management\n",
        "\n",
        "Bypassing the Kernel Page Cache\n",
        "\n",
        "Caching Semantics\n",
        "\n",
        "Cache Eviction\n",
        "\n",
        "Locking Pages in Cache\n",
        "\n",
        "Prefetching and Immediate Eviction\n",
        "\n",
        "Page Replacement\n",
        "\n",
        "FIFO and LRU\n",
        "\n",
        "CLOCK\n",
        "\n",
        "LFU\n",
        "\n",
        "Recovery\n",
        "\n",
        "PostgreSQL Versys fsync()\n",
        "\n",
        "Log Semantics\n",
        "\n",
        "Operation Versus Data Log\n",
        "\n",
        "Steal and Force Policies\n",
        "\n",
        "ARIES \n",
        "\n",
        "Concurrency Control\n",
        "\n",
        "Serializability\n",
        "\n",
        "Transaction Isolation\n",
        "\n",
        "Read and Write Anomalies\n",
        "\n",
        "Isolation Levels\n",
        "\n",
        "Optimistic Concurrency Control\n",
        "\n",
        "Read phase\n",
        "\n",
        "Validation phase\n",
        "\n",
        "Write phase\n",
        "\n",
        "Multiversion Concurrency Control\n",
        "\n",
        "Pessimistic Concurrency Control\n",
        "\n",
        "Lock-Based Concurrency Control\n",
        "\n",
        "Deadlocks\n",
        "\n",
        "Locks\n",
        "\n",
        "Latches\n",
        "\n",
        "Readers-writer lock\n",
        "\n",
        "Busy-Wait and Queueing Techniques\n",
        "\n",
        "Latch crabbing\n",
        "\n",
        "Latch Upgrading and Pointer Chasing\n",
        "\n",
        "Blink-Trees\n"
      ]
    },
    {
      "cell_type": "markdown",
      "metadata": {
        "id": "VrrF7VKzmX6t"
      },
      "source": [
        "## B-Tree Variants"
      ]
    },
    {
      "cell_type": "markdown",
      "metadata": {
        "id": "ZB7ZidMyuLVK"
      },
      "source": [
        "Copy-on-Write\n",
        "\n",
        "Implementing \"Copy-on-Write\": LMDB\n",
        "\n",
        "Abstracting Node Updates\n",
        "\n",
        "Lazy B-Trees\n",
        "\n",
        "WiredTiger\n",
        "\n",
        "Lazy-Adaptative Tree\n",
        "\n",
        "FD-Trees\n",
        "\n",
        "Fractional Cascading\n",
        "\n",
        "Logarithmic Runs\n",
        "\n",
        "Bw-Trees\n",
        "\n",
        "Update Chains\n",
        "\n",
        "Taming Concurrency with Compare-and-Swap\n",
        "\n",
        "Structural Modification Operations\n",
        "\n",
        "Cosolidation and Garbage Collection\n",
        "\n",
        "Cache-Oblivious B-Trees\n",
        "\n",
        "van Emde Boas Layer"
      ]
    },
    {
      "cell_type": "markdown",
      "metadata": {
        "id": "ET2gZRfEmaCZ"
      },
      "source": [
        "## Log-Structure Storage"
      ]
    },
    {
      "cell_type": "markdown",
      "metadata": {
        "id": "Pflbv4npvS4J"
      },
      "source": [
        "LSM Trees\n",
        "\n",
        "LSM Tree Structure\n",
        "\n",
        "Two-components LSM Tree\n",
        "\n",
        "Multicomponent LSM Trees\n",
        "\n",
        "In-memory tables\n",
        "\n",
        "Updates and Deletes\n",
        "\n",
        "LSM Tree Lookups\n",
        "\n",
        "Merge-Iteraction\n",
        "\n",
        "Reconciliation\n",
        "\n",
        "Maintenance in LSM Trees\n",
        "\n",
        "Read, Write, and Space Amplification\n",
        "\n",
        "RUM Conjecture\n",
        "\n",
        "Implementation Details\n",
        "\n",
        "Sorted String Tables\n",
        "\n",
        "SSTAble-Attached Secondary Indexes\n",
        "\n",
        "Bloom Filters\n",
        "\n",
        "Skiplist\n",
        "\n",
        "Disk Access\n",
        "\n",
        "Compression\n",
        "\n",
        "Unordered LSM Storage\n",
        "\n",
        "Bitcask\n",
        "\n",
        "WisccKey\n",
        "\n",
        "Concurrency in LSM Trees\n",
        "\n",
        "Memtable switch\n",
        "\n",
        "Flush finilization\n",
        "\n",
        "Write-ahead log truncation\n",
        "\n",
        "Log Stacking\n",
        "\n",
        "Flash Translation Layer\n",
        "\n",
        "Filesystem Logging\n",
        "\n",
        "LLAMA and Mindful Stacking\n",
        "\n",
        "Open-Channel SSDs"
      ]
    },
    {
      "cell_type": "markdown",
      "metadata": {
        "id": "Vcrxx-Smmf4G"
      },
      "source": [
        "# Distributed Systems"
      ]
    },
    {
      "cell_type": "markdown",
      "metadata": {
        "id": "xAUnFgkUmi7t"
      },
      "source": [
        "## Introduction and Overview"
      ]
    },
    {
      "cell_type": "markdown",
      "metadata": {
        "id": "W-agpUye2GkW"
      },
      "source": [
        "Coordination\n",
        "\n",
        "Cooperation\n",
        "\n",
        "Dissemination\n",
        "\n",
        "Consensus\n",
        "\n",
        "Concurrent Execution\n",
        "\n",
        "Concurrent and Parallel\n",
        "\n",
        "Shared State in a Distribution System\n",
        "\n",
        "Fallacies of Distributed Computing\n",
        "\n",
        "Processing\n",
        "\n",
        "Clocks and Time\n",
        "\n",
        "State  Consistency\n",
        "\n",
        "Local  and Remote Execution\n",
        "\n",
        "Need to Handle Failures\n",
        "\n",
        "Network Partitions and Partial Failures\n",
        "\n",
        "Cascading Failures\n",
        "\n",
        "Distributed Systems Abstractions\n",
        "\n",
        "Links\n",
        "\n",
        "Fair-loss link\n",
        "\n",
        "Fair loss\n",
        "\n",
        "Finite duplication\n",
        "\n",
        "No creation\n",
        "\n",
        "Message acknowlegments\n",
        "\n",
        "Message retransmits\n",
        "\n",
        "Problem with retransmits\n",
        "\n",
        "Message order\n",
        "\n",
        "Reliable delivery\n",
        "\n",
        "No duplication\n",
        "\n",
        "No creation\n",
        "\n",
        "Exactly-once delivery\n",
        "\n",
        "Two General's Problem\n",
        "\n",
        "FLP Impossibility\n",
        "\n",
        "Agreement\n",
        "\n",
        "Validity\n",
        "\n",
        "Termination\n",
        "\n",
        "System Synchony\n",
        "\n",
        "Failure Models\n",
        "\n",
        "Crash Faults\n",
        "\n",
        "Omission Faults\n",
        "\n",
        "Arbitry Faults\n",
        "\n",
        "Handling Failures"
      ]
    },
    {
      "cell_type": "markdown",
      "metadata": {
        "id": "z-SKAJvgmme5"
      },
      "source": [
        "## Failure Detection"
      ]
    },
    {
      "cell_type": "markdown",
      "metadata": {
        "id": "ZUw0DbDRGvOT"
      },
      "source": [
        "Heardbeats and Pings\n",
        "\n",
        "Timeout-Free Failure Detector\n",
        "\n",
        "Outsourced Hertbeats\n",
        "\n",
        "Phi-Accural Failure Detector\n",
        "\n",
        "Gossip and Failure Detection\n",
        "\n",
        "Reversing Failure Detection Problem Statement"
      ]
    },
    {
      "cell_type": "markdown",
      "metadata": {
        "id": "H8RBDYNPmoh8"
      },
      "source": [
        "## Leader Election"
      ]
    },
    {
      "cell_type": "markdown",
      "metadata": {
        "id": "QPMoUIz4HDDo"
      },
      "source": [
        "Bully Algorithm\n",
        "\n",
        "Next-In-Line Failover \n",
        "\n",
        "Candicate/Ordinary Optimization\n",
        "\n",
        "Invation Algorithm\n",
        "\n",
        "Ring Algorithm"
      ]
    },
    {
      "cell_type": "markdown",
      "metadata": {
        "id": "LiNG7-HCmqSs"
      },
      "source": [
        "## Replication and Consistency"
      ]
    },
    {
      "cell_type": "markdown",
      "metadata": {
        "id": "EvcURkBiHSAM"
      },
      "source": [
        "Archieving Availability\n",
        "\n",
        "Infamous CAP\n",
        "\n",
        "Use CAP Carefully\n",
        "\n",
        "Harvest and Yield\n",
        "\n",
        "Shared Memory\n",
        "\n",
        "Safe\n",
        "\n",
        "Regular\n",
        "\n",
        "Atomic\n",
        "\n",
        "Consistency Models\n",
        "\n",
        "Strict Consistency\n",
        "\n",
        "Linearizability\n",
        "\n",
        "Linearization point\n",
        "\n",
        "Cost of linearizability\n",
        "\n",
        "Reusable Infrastructure for Linearizability\n",
        "\n",
        "Sequential Consistency\n",
        "\n",
        "Causal Consistency\n",
        "\n",
        "Vector clocks\n",
        "\n",
        "Session Models\n",
        "\n",
        "Eventual Consistency\n",
        "\n",
        "Tunable Consistency\n",
        "\n",
        "Repliation Factor N\n",
        "\n",
        "Write Consistency W\n",
        "\n",
        "Read Consistency R\n",
        "\n",
        "Witness Replicas\n",
        "\n",
        "Strong Eventual Consistency and CRDTs\n",
        "\n",
        "Side-effect free\n",
        "\n",
        "Commutative\n",
        "\n",
        "Casually ordered\n",
        "\n",
        "Linearizability\n",
        "\n",
        "Sequential consistency\n",
        "\n",
        "Causal consistency\n",
        "\n",
        "FRAM/FIFO consistency\n",
        "\n",
        "Read-own-writes\n",
        "\n",
        "Monotonic reads\n",
        "\n",
        "Monotonic writes\n",
        "\n",
        "Writes-follows-reads\n",
        "\n",
        "\n",
        "\n",
        "Ordering\n",
        "\n"
      ]
    },
    {
      "cell_type": "markdown",
      "metadata": {
        "id": "fyXsXXtjmt7r"
      },
      "source": [
        "## Anti-Entropoy and Dissemination"
      ]
    },
    {
      "cell_type": "markdown",
      "metadata": {
        "id": "CWVsC-QlJNQG"
      },
      "source": [
        "Read Repair\n",
        "\n",
        "Digest Reads\n",
        "\n",
        "Hinted Handoff\n",
        "\n",
        "Merkle Trees\n",
        "\n",
        "Bitmap Version Vectors\n",
        "\n",
        "Gossip Dissemination\n",
        "\n",
        "Gossip Mechanics\n",
        "\n",
        "Overlay Networks\n",
        "\n",
        "Hybrid Gossip\n",
        "\n",
        "Partial Views"
      ]
    },
    {
      "cell_type": "markdown",
      "metadata": {
        "id": "5POmPGFKmy1T"
      },
      "source": [
        "## Distributed Transactions"
      ]
    },
    {
      "cell_type": "markdown",
      "metadata": {
        "id": "E3R1-xJiKA-H"
      },
      "source": [
        "Making Operations Appear Atomic\n",
        "\n",
        "Two-Phase Commit\n",
        "\n",
        "Prepare\n",
        "\n",
        "Commit/Abort\n",
        "\n",
        "Cohort Failures in 2PC\n",
        "\n",
        "Coordinator Failures in 2PC\n",
        "\n",
        "Three-Phase Commit\n",
        "\n",
        "Coordinator Failures in 3PC\n",
        "\n",
        "Distributed Trasactions with Calvin\n",
        "\n",
        "Distributed Transactions with Spanner \n",
        "\n",
        "Database Partitioning\n",
        "\n",
        "Consistent Hashing\n",
        "\n",
        "Distributed Transactions with Percolator\n",
        "\n",
        "Coordination Avoidance\n",
        "\n",
        "Global validity\n",
        "\n",
        "Convergence\n",
        "\n",
        "Coordination freedom\n",
        "\n",
        "Global validity\n",
        "\n",
        "Availability\n",
        "\n",
        "Convergence\n",
        "\n",
        "Coordination freedom\n",
        "\n",
        "Synchonization independece\n",
        "\n",
        "Partition indepdence\n",
        "\n",
        "Prepare\n",
        "\n",
        "Commit/abor\n"
      ]
    },
    {
      "cell_type": "markdown",
      "metadata": {
        "id": "5DItGBFqm1eF"
      },
      "source": [
        "## Consensus"
      ]
    },
    {
      "cell_type": "markdown",
      "metadata": {
        "id": "XRnOb8KaLokS"
      },
      "source": [
        "Broadcast\n",
        "\n",
        "Atomic Broadcast\n",
        "\n",
        "Virtual Synchony\n",
        "\n",
        "Zookeeeper Atomic Broadcast (ZAB)\n",
        "\n",
        "Paxos\n",
        "\n",
        "Paxos Algorithm\n",
        "\n",
        "Quorums in Paxos\n",
        "\n",
        "Failure Scenarios\n",
        "\n",
        "Multi-Paxos\n",
        "\n",
        "Fast Paxos\n",
        "\n",
        "Egualarian Paxos\n",
        "\n",
        "Flexible Paxos\n",
        "\n",
        "Generalized Solution to Consensus\n",
        "\n",
        "Generalized Paxos Algorithsms\n",
        "\n",
        "Raft \n",
        "\n",
        "Leader Role in Raft\n",
        "\n",
        "Failure Scenearios\n",
        "\n",
        "Byzantine Consensus\n",
        "\n",
        "PBFT Algorithm\n",
        "\n",
        "Pre-prepare\n",
        "\n",
        "Prepare\n",
        "\n",
        "Commit\n",
        "\n",
        "Recovery and Checkpointing\n"
      ]
    }
  ]
}