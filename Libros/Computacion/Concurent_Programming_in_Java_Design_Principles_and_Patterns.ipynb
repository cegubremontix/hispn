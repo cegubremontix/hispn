{
  "nbformat": 4,
  "nbformat_minor": 0,
  "metadata": {
    "colab": {
      "name": "Concurent Programming in Java : Design Principles and Patterns.ipynb",
      "provenance": [],
      "toc_visible": true,
      "authorship_tag": "ABX9TyMIs8BiI0hDTQonL2sl3NXG",
      "include_colab_link": true
    },
    "kernelspec": {
      "name": "python3",
      "display_name": "Python 3"
    },
    "language_info": {
      "name": "python"
    }
  },
  "cells": [
    {
      "cell_type": "markdown",
      "metadata": {
        "id": "view-in-github",
        "colab_type": "text"
      },
      "source": [
        "<a href=\"https://colab.research.google.com/github/dbremont/Notas/blob/main/Libros/Computacion/Concurent_Programming_in_Java_Design_Principles_and_Patterns.ipynb\" target=\"_parent\"><img src=\"https://colab.research.google.com/assets/colab-badge.svg\" alt=\"Open In Colab\"/></a>"
      ]
    },
    {
      "cell_type": "markdown",
      "metadata": {
        "id": "rpOzVv_gx14P"
      },
      "source": [
        "# Concurent Programming in Java : Design Principles and Patterns\n",
        "Libros/Computacion"
      ]
    },
    {
      "cell_type": "markdown",
      "metadata": {
        "id": "wNfie5YA6Jr0"
      },
      "source": [
        "## Concurrent Object-Oriented Programming"
      ]
    },
    {
      "cell_type": "markdown",
      "metadata": {
        "id": "ZfLov1Mybpj_"
      },
      "source": [
        "**Object Models**\n",
        "\n",
        "- Statics\n",
        "- Encapsulation\n",
        "- Communication\n",
        "- Identity\n",
        "- Connections\n",
        "- Computation\n",
        "\n",
        "**Design Forces**\n",
        "\n",
        "- ```Systems = Object + Activities```\n",
        "- Open vs Close Systems\n",
        "- Aspect Oriented Programming\n",
        "- Layering\n",
        "\n",
        "```JAVA\n",
        "before()\n",
        "method()\n",
        "after()\n",
        "```"
      ]
    },
    {
      "cell_type": "markdown",
      "metadata": {
        "id": "hP5ycU5k6cHv"
      },
      "source": [
        "## Exclusion"
      ]
    },
    {
      "cell_type": "markdown",
      "metadata": {
        "id": "HDucAg6OcPP3"
      },
      "source": [
        "Mantains Invariants\n",
        "\n",
        "- Abstract Data Types (ADTs)\n",
        "- Visitors\n",
        "- Deadlock\n",
        "- The Java Memory Model: describes, given a program and a execution trace of that program, whether the execution trace is a legal execution of the program\n",
        "  - Java spect 17.4 meomry model\n",
        "- mutex"
      ]
    },
    {
      "cell_type": "markdown",
      "metadata": {
        "id": "s_30FFnL618R"
      },
      "source": [
        "## State Deependence"
      ]
    },
    {
      "cell_type": "markdown",
      "metadata": {
        "id": "cG6Xpqs_cnUM"
      },
      "source": [
        "- Object must  performs actiosn if i nvalid state\n",
        "- State dependent on actions\n",
        "- retry\n",
        "- handlers\n",
        "- callbacks\n",
        "- share state between two objects\n",
        "- resource pools\n",
        "- latches\n",
        "- transactions\n"
      ]
    },
    {
      "cell_type": "markdown",
      "metadata": {
        "id": "TTzUc1yF66Sp"
      },
      "source": [
        "## Creating Threads"
      ]
    },
    {
      "cell_type": "markdown",
      "metadata": {
        "id": "hUdBCxrf68yp"
      },
      "source": [
        "- Task-based\n",
        "- Actor-based\n",
        "- Event queues\n",
        "- Polling and event-driven  IO\n",
        "- Parrallel decomposition \n",
        "  - Fibonnacci Example (348)\n",
        "-  Dining Philosophers"
      ]
    }
  ]
}