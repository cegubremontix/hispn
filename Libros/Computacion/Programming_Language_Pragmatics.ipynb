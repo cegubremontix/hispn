{
  "nbformat": 4,
  "nbformat_minor": 0,
  "metadata": {
    "colab": {
      "name": "Programming Language Pragmatics.ipynb",
      "provenance": [],
      "authorship_tag": "ABX9TyOwBm0+c0BIRqHd8PBPQ7Wb",
      "include_colab_link": true
    },
    "kernelspec": {
      "name": "python3",
      "display_name": "Python 3"
    },
    "language_info": {
      "name": "python"
    }
  },
  "cells": [
    {
      "cell_type": "markdown",
      "metadata": {
        "id": "view-in-github",
        "colab_type": "text"
      },
      "source": [
        "<a href=\"https://colab.research.google.com/github/dbremont/Notas/blob/main/Libros/Computacion/Programming_Language_Pragmatics.ipynb\" target=\"_parent\"><img src=\"https://colab.research.google.com/assets/colab-badge.svg\" alt=\"Open In Colab\"/></a>"
      ]
    },
    {
      "cell_type": "markdown",
      "source": [
        "# Foundations"
      ],
      "metadata": {
        "id": "9bPuYfeYvuEU"
      }
    },
    {
      "cell_type": "markdown",
      "source": [
        "## Introduction"
      ],
      "metadata": {
        "id": "PT_oCKxRvwtQ"
      }
    },
    {
      "cell_type": "markdown",
      "source": [
        "## Programming Language Syntax"
      ],
      "metadata": {
        "id": "THe2j5olvyG_"
      }
    },
    {
      "cell_type": "markdown",
      "source": [
        "## Names, Scopes, and Bindings"
      ],
      "metadata": {
        "id": "ikoW4IEpv0wP"
      }
    },
    {
      "cell_type": "markdown",
      "source": [
        "##  Semantic Analysis"
      ],
      "metadata": {
        "id": "IcmYdziXv67Y"
      }
    },
    {
      "cell_type": "markdown",
      "source": [
        "## Target Machine Architecture"
      ],
      "metadata": {
        "id": "YW4YpzrYv9Yw"
      }
    },
    {
      "cell_type": "markdown",
      "source": [
        "# Core Issues in Language Design"
      ],
      "metadata": {
        "id": "0lZeS18ZwByK"
      }
    },
    {
      "cell_type": "markdown",
      "source": [
        "## Control Flow"
      ],
      "metadata": {
        "id": "XfaV9A7VwIq1"
      }
    },
    {
      "cell_type": "markdown",
      "source": [
        "## Type Systems"
      ],
      "metadata": {
        "id": "Be2L5GUgwMhC"
      }
    },
    {
      "cell_type": "markdown",
      "source": [
        "## Composite Types"
      ],
      "metadata": {
        "id": "viXf7hVXwPPj"
      }
    },
    {
      "cell_type": "markdown",
      "source": [
        "## Subroutines and Control Abstractions"
      ],
      "metadata": {
        "id": "XQ0b059PwSb3"
      }
    },
    {
      "cell_type": "markdown",
      "source": [
        "## Data Abstraction and Object Orientation"
      ],
      "metadata": {
        "id": "s1Dzcn03wVKx"
      }
    },
    {
      "cell_type": "markdown",
      "source": [
        "# Alternative Programming Model"
      ],
      "metadata": {
        "id": "fANFqhc9wZLT"
      }
    },
    {
      "cell_type": "markdown",
      "source": [
        "## Functional Languages"
      ],
      "metadata": {
        "id": "7J3EqX5UwdV_"
      }
    },
    {
      "cell_type": "markdown",
      "source": [
        "## Logic Languages"
      ],
      "metadata": {
        "id": "3BPqYRGdwg2I"
      }
    },
    {
      "cell_type": "markdown",
      "source": [
        "## Concurrency"
      ],
      "metadata": {
        "id": "BDdB1iD9wi_R"
      }
    },
    {
      "cell_type": "markdown",
      "source": [
        "## Scripting Languages"
      ],
      "metadata": {
        "id": "xFFMppKtwl3V"
      }
    },
    {
      "cell_type": "markdown",
      "source": [
        "# A Closer Look At Implementation"
      ],
      "metadata": {
        "id": "xD-tEcIgwn-Y"
      }
    },
    {
      "cell_type": "markdown",
      "source": [
        "## Buiding a Runnable Program"
      ],
      "metadata": {
        "id": "pYDpyWH7wr7D"
      }
    },
    {
      "cell_type": "markdown",
      "source": [
        "## Run-Time Program Management"
      ],
      "metadata": {
        "id": "CKqWXYCkwu43"
      }
    },
    {
      "cell_type": "markdown",
      "source": [
        "## Code Improvement"
      ],
      "metadata": {
        "id": "eyKNffbpwzSU"
      }
    }
  ]
}