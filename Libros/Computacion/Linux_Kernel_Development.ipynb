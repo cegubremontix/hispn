{
  "nbformat": 4,
  "nbformat_minor": 0,
  "metadata": {
    "colab": {
      "name": "Linux Kernel Development.ipynb",
      "provenance": [],
      "authorship_tag": "ABX9TyM0w1YzHzf/AFyIoDfqw9Yk",
      "include_colab_link": true
    },
    "kernelspec": {
      "name": "python3",
      "display_name": "Python 3"
    },
    "language_info": {
      "name": "python"
    }
  },
  "cells": [
    {
      "cell_type": "markdown",
      "metadata": {
        "id": "view-in-github",
        "colab_type": "text"
      },
      "source": [
        "<a href=\"https://colab.research.google.com/github/dbremont/Notas/blob/main/Libros/Computacion/Linux_Kernel_Development.ipynb\" target=\"_parent\"><img src=\"https://colab.research.google.com/assets/colab-badge.svg\" alt=\"Open In Colab\"/></a>"
      ]
    },
    {
      "cell_type": "markdown",
      "source": [
        "## Introduction to the Linux Kernel\n",
        "\n",
        "This chapter introduces the Linux kernel and Linux operating system, placing them in the historical context of Unix, Unix is a family of operating system implementing a similar application programming interface (API) and build around shared design decisions. But Unix is also a specific operating system, first build more than 40 years ago."
      ],
      "metadata": {
        "id": "cIkq5doSF7er"
      }
    },
    {
      "cell_type": "markdown",
      "source": [
        "## Getting Started with Linux\n",
        "\n",
        "This chapter, we introduce some of the basics of the Linux kernel,: where to ge this source, how to compile it, and how to install the new kernel. We then go over the differences between the kernel and user-space programs and common programming constructs used in the kernel. Although the kernel certainly is unique in many ways, at the end of the day it is litle different from any other large software project. "
      ],
      "metadata": {
        "id": "lv4CZTSdGDn1"
      }
    },
    {
      "cell_type": "markdown",
      "source": [
        "## Process Management\n",
        "\n",
        "This chapter introduces the concept of a process, oen of the fundamental abstractions in Unix operating systems. It defines the process, as well as related concepts such as threads, and then discuess how the Linux kernel manages each process: how they are enumerated within the kernel, how they are created, and how they ultimately die. Because running user applications is the reason we have operating systems, the process management is a crucial part of any opearting system kernel, including Linux."
      ],
      "metadata": {
        "id": "4izgFPlwGHCM"
      }
    },
    {
      "cell_type": "markdown",
      "source": [
        "A Thread is just a process that shares resources with other processes.\n",
        "\n",
        "A Thread is just a mechanism to to share resources between processes."
      ],
      "metadata": {
        "id": "cR7Bl-eGVuzf"
      }
    },
    {
      "cell_type": "markdown",
      "source": [
        "## Process Scheduling\n",
        "\n",
        "This chapter discusses the process scheduler, the kernel subsystem that puts those processes to work."
      ],
      "metadata": {
        "id": "JeWuaMVbGKyr"
      }
    },
    {
      "cell_type": "markdown",
      "source": [
        "## System Calls\n",
        "\n",
        "In any modern operating system, the kernel provides a set of interfaces by which processes in user-space can interact with the system."
      ],
      "metadata": {
        "id": "NRs5rd4fGO3t"
      }
    },
    {
      "cell_type": "markdown",
      "source": [
        "## Kernel Data Structures\n",
        "\n",
        "This chapter introduces several build-in data structures for use in Linux kernel code. as with any software project, the Linux kernel provides these generic data structures and primitives to encourage code reuse. Kernel developers should use these data structures whenever posible and not \"roll your own\" solutions.\n",
        "\n",
        "Examples:\n",
        "- Linked list,\n",
        "- Queues,\n",
        "- Maps,\n",
        "- Binary trees"
      ],
      "metadata": {
        "id": "JUnFbBzcGRcC"
      }
    },
    {
      "cell_type": "markdown",
      "source": [
        "## Interrupts and Interrupt Handlers\n",
        "\n",
        "A core responsability of any operating system kernel is managing the hardware conected to the machine --hard drives and Blu-ray dics, keyboards and mice, 3D processors and wireless radios. To meet this responsabilyt, the kernel neesd to communicate wich the machine's individual devices.\n",
        "\n",
        "How can the processor work with hardware without impacting the machine's overall performace? One answer to this question is polling. Periodically, the kernel can check the status of the hardware in the system and respond accordingly. \n",
        "\n",
        "There is another model of hardware/kernel communication interrupts. In which the hardware signals the kernel when attention is needed.\n"
      ],
      "metadata": {
        "id": "tTPqVR0sGUFy"
      }
    },
    {
      "cell_type": "markdown",
      "source": [
        "## Bottom Halves and Deferring Work\n",
        "\n",
        "There are two types of interrupt handlers (top halves), and (bottom halves).\n",
        "\n",
        "This chapter deals with bottom halve."
      ],
      "metadata": {
        "id": "1xWS5COTGYc_"
      }
    },
    {
      "cell_type": "markdown",
      "source": [
        "## An Introduction to Kernel Synchonization\n",
        "\n",
        "In a shared memory application, developers must ensure that shared resources are protected from concurrent access. \n",
        "\n",
        "This chapter discusses the issues of concurrency and synchonization in the abstract, as they exist in any operating system kernel. The next chapter details the specific mechanims and interfaces that the Linux kernel provides to solve synchonization issues and prevent race conditions."
      ],
      "metadata": {
        "id": "7urRGb8MGcvJ"
      }
    },
    {
      "cell_type": "markdown",
      "source": [
        "## Kernel Synchonization Methods\n",
        "\n",
        "This chapter discusses synchonizations methods and their interfaces, behavior, and use."
      ],
      "metadata": {
        "id": "TeUYTeiJGhq2"
      }
    },
    {
      "cell_type": "markdown",
      "source": [
        "## Timers and Time Management\n",
        "\n",
        "The passing of time is important to the kernel. A large number of functions are time-driven, as opposed to event-driven. Some of these functions are periodic, such as balancing the scheduler runqueues or refreshing the screen.\n",
        "\n",
        "Are time driven system also even driven?"
      ],
      "metadata": {
        "id": "lQV8Rmy9GlL1"
      }
    },
    {
      "cell_type": "markdown",
      "source": [
        "## Memory Management\n",
        "\n",
        "Memory allocation inside the kernel is not as easy as memory allocation outside the kernel. Simplit put, the kernel lacks luxeries by user-space. Unlike user-space, the kernel is not always afforded the capability to easily allocate memory. \n",
        "\n",
        "This chapter discusses the methods used to obtain memory  inside the kernel."
      ],
      "metadata": {
        "id": "av9LtpkXGoZO"
      }
    },
    {
      "cell_type": "markdown",
      "source": [
        "## The Virtual Filesystem\n",
        "\n",
        "The Virtual Filesystem (somestimes called the Virtual File Switch or more commonly simply VFS) is the subsystem of the kernel that implements the file and filesystem-related interfaces provided to user-space programs. All filesystems rely on the VFS to enable them not only to coexist, but also to interoperate. This enable programs to use standard Unix system calls to read and write to different filesystems, even on different media, as shown in Figure 13.1"
      ],
      "metadata": {
        "id": "gxgCJgTsGqrz"
      }
    },
    {
      "cell_type": "markdown",
      "source": [
        "## The Block I/O Layer\n",
        "\n",
        "Block devices are hardware devices distinguished by the random (this is, not necessarily sequential) access of fixed-size chunks of data. The fixed-size chunks of data are called blocks. The most common block device is a hard disk, but many other block deivces exist, such as floppy drives, Blu-ray readers, and flash memory. Notice how these are all devices on which you mount a filesystem--filesystem are the lingua franca of block devices.\n",
        "\n",
        "..."
      ],
      "metadata": {
        "id": "z_hqSYotGtXY"
      }
    },
    {
      "cell_type": "markdown",
      "source": [
        "## The Process Adress Space"
      ],
      "metadata": {
        "id": "OpS_BmWgGxFv"
      }
    },
    {
      "cell_type": "markdown",
      "source": [
        "## The Page Cache and Page Writeback"
      ],
      "metadata": {
        "id": "Dmec0Ha8G0C7"
      }
    },
    {
      "cell_type": "markdown",
      "source": [
        "## Devices and Modules"
      ],
      "metadata": {
        "id": "cQyLvch3G3b5"
      }
    },
    {
      "cell_type": "markdown",
      "source": [
        "## Debugging"
      ],
      "metadata": {
        "id": "BczmssFTG7X5"
      }
    },
    {
      "cell_type": "markdown",
      "source": [
        "## Portability"
      ],
      "metadata": {
        "id": "_hA4odB6G85Q"
      }
    },
    {
      "cell_type": "markdown",
      "source": [
        "## Patches, Hacking, and the Community"
      ],
      "metadata": {
        "id": "joVM4AytG-Ws"
      }
    }
  ]
}