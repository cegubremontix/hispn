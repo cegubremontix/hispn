{
  "nbformat": 4,
  "nbformat_minor": 0,
  "metadata": {
    "colab": {
      "name": "Bash Reference Manual.ipynb",
      "provenance": [],
      "authorship_tag": "ABX9TyO8WMO4I0csIuSohqmeQwWr",
      "include_colab_link": true
    },
    "kernelspec": {
      "name": "python3",
      "display_name": "Python 3"
    },
    "language_info": {
      "name": "python"
    }
  },
  "cells": [
    {
      "cell_type": "markdown",
      "metadata": {
        "id": "view-in-github",
        "colab_type": "text"
      },
      "source": [
        "<a href=\"https://colab.research.google.com/github/dbremont/Notas/blob/main/Libros/Computacion/Bash_Reference_Manual.ipynb\" target=\"_parent\"><img src=\"https://colab.research.google.com/assets/colab-badge.svg\" alt=\"Open In Colab\"/></a>"
      ]
    },
    {
      "cell_type": "markdown",
      "metadata": {
        "id": "Cq3Yl5HQDOSd"
      },
      "source": [
        "[Bash Reference Manual](https://www.gnu.org/software/bash/manual/bash.html)"
      ]
    },
    {
      "cell_type": "markdown",
      "metadata": {
        "id": "TUox812SCxzD"
      },
      "source": [
        "##  Introduction"
      ]
    },
    {
      "cell_type": "markdown",
      "metadata": {
        "id": "fpLjtAGIC5fK"
      },
      "source": [
        "## Definitions"
      ]
    },
    {
      "cell_type": "markdown",
      "metadata": {
        "id": "39giAJkcC6Zc"
      },
      "source": [
        "## Basic Shell Features"
      ]
    },
    {
      "cell_type": "markdown",
      "metadata": {
        "id": "-USJ-TeAC75v"
      },
      "source": [
        "## Shell Builtin Commands"
      ]
    },
    {
      "cell_type": "markdown",
      "metadata": {
        "id": "MchKh3V8C_xR"
      },
      "source": [
        "## Shell Variables"
      ]
    },
    {
      "cell_type": "markdown",
      "metadata": {
        "id": "OlwH4qC2DByU"
      },
      "source": [
        "## Bash Features"
      ]
    },
    {
      "cell_type": "markdown",
      "metadata": {
        "id": "cDpcbDjcDDha"
      },
      "source": [
        "## Job Control"
      ]
    },
    {
      "cell_type": "markdown",
      "metadata": {
        "id": "cVGHLX_pDGQW"
      },
      "source": [
        "## Command Line Editing"
      ]
    },
    {
      "cell_type": "markdown",
      "metadata": {
        "id": "H0FcnGH_DIb1"
      },
      "source": [
        "## Using History Interactively\n"
      ]
    }
  ]
}