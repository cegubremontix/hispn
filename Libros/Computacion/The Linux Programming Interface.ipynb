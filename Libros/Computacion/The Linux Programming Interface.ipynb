{
  "nbformat": 4,
  "nbformat_minor": 0,
  "metadata": {
    "kernelspec": {
      "display_name": "Python 2.7.18 64-bit",
      "name": "python2718jvsc74a57bd0f92b2924b84ff19c1c3dc485f7644d4486f64738191026bf8e6de303969141b5"
    },
    "language_info": {
      "name": "python",
      "version": ""
    },
    "metadata": {
      "interpreter": {
        "hash": "f92b2924b84ff19c1c3dc485f7644d4486f64738191026bf8e6de303969141b5"
      }
    },
    "orig_nbformat": 2,
    "colab": {
      "name": "The Linux Programming Interface.ipynb",
      "provenance": [],
      "include_colab_link": true
    }
  },
  "cells": [
    {
      "cell_type": "markdown",
      "metadata": {
        "id": "view-in-github",
        "colab_type": "text"
      },
      "source": [
        "<a href=\"https://colab.research.google.com/github/dbremont/Notas/blob/main/Libros/Computacion/The%20Linux%20Programming%20Interface.ipynb\" target=\"_parent\"><img src=\"https://colab.research.google.com/assets/colab-badge.svg\" alt=\"Open In Colab\"/></a>"
      ]
    },
    {
      "cell_type": "markdown",
      "metadata": {
        "id": "XH9AaG0z6SVC"
      },
      "source": [
        "The Linux Programming Interface"
      ]
    },
    {
      "cell_type": "markdown",
      "metadata": {
        "id": "ykyknrdgLfx_"
      },
      "source": [
        "## Capabilities"
      ]
    },
    {
      "cell_type": "markdown",
      "metadata": {
        "id": "AZTSrB5bLkBB"
      },
      "source": [
        "- User ID (0) Superuser.\n",
        "- when performing security checks in the kernel, the superuser privilege is divided into distinct units, called capabilities."
      ]
    },
    {
      "cell_type": "markdown",
      "metadata": {
        "id": "KHt-Z9y5Lznv"
      },
      "source": [
        "## Sockets"
      ]
    },
    {
      "cell_type": "markdown",
      "metadata": {
        "id": "9i9oAq8qL4jX"
      },
      "source": [
        "Sockets are a method of IPC (Inter Process Comunnication) that allow data to be exchagne between applications either on the same (computer) or on different hosts conected by a network.\n",
        "\n",
        "- socket ~ (bound) name\n",
        "- socket()\n",
        "- bind()\n",
        "- listen()\n",
        "- accept()\n",
        "- connect()"
      ]
    },
    {
      "cell_type": "markdown",
      "metadata": {
        "id": "Aq5VtyqnMXBV"
      },
      "source": [
        "## Alternatives I/O Models"
      ]
    },
    {
      "cell_type": "markdown",
      "metadata": {
        "id": "7afgIreJMY0c"
      },
      "source": [
        "- Common I/O Model under which a process performs I/O on just one file descriptor at a time, an each I/O system cal blocks unitl the data is tarnsfered.\n",
        "\n",
        "- The kernel employs the \"buffer cache\" to speed disk I/O requests.\n",
        "\n",
        "- The traditional I/O blocking model is useful, but what about this use cases:\n",
        "  - check wheater I/O possible on a file descriptor without blocoing if it is not possible.\n",
        "  - Monitor multiple file desctiotors to sse if I/O is possible on any of them\n",
        "\n",
        "- select()\n",
        "- poll()\n",
        "- signal driven I/O\n",
        "- I/O multiplexing\n",
        "  - multiplexing \n",
        "  - demultiplexing"
      ]
    },
    {
      "cell_type": "markdown",
      "metadata": {
        "id": "HKKCnYXKNZOE"
      },
      "source": [
        "##  Pseudoterminals"
      ]
    },
    {
      "cell_type": "markdown",
      "metadata": {
        "id": "eBJvNSRhNbL6"
      },
      "source": [
        "A pseudoterminal is a (virtual device) that provides  an IPC channel. One end of the chanel is aprogram that accepts to be connected to a terminal tdevice. On the other  end is aprogram that derives the terminal oritned program by using the chanel to send it input and read as output.\n",
        "\n",
        "orogram -> [ipc channel] program\n",
        "<pre>           ssh \n",
        "</pre>\n",
        "\n",
        "Program \n",
        "- send input\n",
        "- read output\n",
        "\n"
      ]
    }
  ]
}