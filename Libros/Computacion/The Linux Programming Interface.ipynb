{
  "nbformat": 4,
  "nbformat_minor": 0,
  "metadata": {
    "kernelspec": {
      "display_name": "Python 2.7.18 64-bit",
      "name": "python2718jvsc74a57bd0f92b2924b84ff19c1c3dc485f7644d4486f64738191026bf8e6de303969141b5"
    },
    "language_info": {
      "name": "python",
      "version": ""
    },
    "metadata": {
      "interpreter": {
        "hash": "f92b2924b84ff19c1c3dc485f7644d4486f64738191026bf8e6de303969141b5"
      }
    },
    "orig_nbformat": 2,
    "colab": {
      "name": "The Linux Programming Interface.ipynb",
      "provenance": [],
      "include_colab_link": true
    }
  },
  "cells": [
    {
      "cell_type": "markdown",
      "metadata": {
        "id": "view-in-github",
        "colab_type": "text"
      },
      "source": [
        "<a href=\"https://colab.research.google.com/github/dbremont/Notas/blob/main/Libros/Computacion/The%20Linux%20Programming%20Interface.ipynb\" target=\"_parent\"><img src=\"https://colab.research.google.com/assets/colab-badge.svg\" alt=\"Open In Colab\"/></a>"
      ]
    },
    {
      "cell_type": "markdown",
      "metadata": {
        "id": "XH9AaG0z6SVC"
      },
      "source": [
        "The Linux Programming Interface"
      ]
    },
    {
      "cell_type": "markdown",
      "metadata": {
        "id": "7vXiq10fMauy"
      },
      "source": [
        "## History and Standards"
      ]
    },
    {
      "cell_type": "markdown",
      "metadata": {
        "id": "Olpo4KzzTDHU"
      },
      "source": [
        "The GNU Project\n",
        "\n",
        "Linux Kernel Version Numbers\n",
        "\n",
        "Linux Distributions\n",
        "\n",
        "POSIX"
      ]
    },
    {
      "cell_type": "markdown",
      "metadata": {
        "id": "V56ivXm6MejI"
      },
      "source": [
        "## Fundamental Concepts"
      ]
    },
    {
      "cell_type": "markdown",
      "metadata": {
        "id": "aqfwN-2IMjqp"
      },
      "source": [
        "## System Programming Concepts"
      ]
    },
    {
      "cell_type": "markdown",
      "metadata": {
        "id": "bdV13B29MnSk"
      },
      "source": [
        "## File I/O: The Universal I/O Model"
      ]
    },
    {
      "cell_type": "markdown",
      "metadata": {
        "id": "uFfCHCnWMxkv"
      },
      "source": [
        "## File I/O: Futher Details"
      ]
    },
    {
      "cell_type": "markdown",
      "metadata": {
        "id": "cwrHB4U_M3mD"
      },
      "source": [
        "## Processes"
      ]
    },
    {
      "cell_type": "markdown",
      "metadata": {
        "id": "j-t3VGg2M7MI"
      },
      "source": [
        "## Memory Allocation"
      ]
    },
    {
      "cell_type": "markdown",
      "metadata": {
        "id": "u9c8PDqAM96H"
      },
      "source": [
        "## Users and Groups"
      ]
    },
    {
      "cell_type": "markdown",
      "metadata": {
        "id": "PJBRI3psNBNG"
      },
      "source": [
        "## Process Credentials"
      ]
    },
    {
      "cell_type": "markdown",
      "metadata": {
        "id": "0fXiyl9ONF7L"
      },
      "source": [
        "## Time"
      ]
    },
    {
      "cell_type": "markdown",
      "metadata": {
        "id": "JNOI7av0NKv9"
      },
      "source": [
        "## System Limits and Options"
      ]
    },
    {
      "cell_type": "markdown",
      "metadata": {
        "id": "2HxdDU6FNOQO"
      },
      "source": [
        "## File I/O Buffering"
      ]
    },
    {
      "cell_type": "markdown",
      "metadata": {
        "id": "JJwA04CkNRtL"
      },
      "source": [
        "## File Systems"
      ]
    },
    {
      "cell_type": "markdown",
      "metadata": {
        "id": "qPR7iGToNUQQ"
      },
      "source": [
        "## File Attributes"
      ]
    },
    {
      "cell_type": "markdown",
      "metadata": {
        "id": "8Xo8sxgGNXhP"
      },
      "source": [
        "## Extended Attributes"
      ]
    },
    {
      "cell_type": "markdown",
      "metadata": {
        "id": "30jxZNX_NbYn"
      },
      "source": [
        "## Access Control List"
      ]
    },
    {
      "cell_type": "markdown",
      "metadata": {
        "id": "0uVA9Hw2NgPu"
      },
      "source": [
        "## Directories  and Links"
      ]
    },
    {
      "cell_type": "markdown",
      "metadata": {
        "id": "KJfoP72lNi--"
      },
      "source": [
        "## Monitoring File Events"
      ]
    },
    {
      "cell_type": "markdown",
      "metadata": {
        "id": "nOERK7lsNndy"
      },
      "source": [
        "## Signals: Fundamental Concepts"
      ]
    },
    {
      "cell_type": "markdown",
      "metadata": {
        "id": "BppdgbKPN19T"
      },
      "source": [
        "## Signals: Signals Handlers"
      ]
    },
    {
      "cell_type": "markdown",
      "metadata": {
        "id": "JICnupC3N5ZR"
      },
      "source": [
        "## Signals: Advanced Features"
      ]
    },
    {
      "cell_type": "markdown",
      "metadata": {
        "id": "9snv0mbmN8ph"
      },
      "source": [
        "## Timers and Sleeping"
      ]
    },
    {
      "cell_type": "markdown",
      "metadata": {
        "id": "oEt4EsyxN_O0"
      },
      "source": [
        "## Process Termination"
      ]
    },
    {
      "cell_type": "markdown",
      "metadata": {
        "id": "bdqHJRzsOB6r"
      },
      "source": [
        "## Monitoring Child Processes"
      ]
    },
    {
      "cell_type": "markdown",
      "metadata": {
        "id": "wRV3SXDnOIkZ"
      },
      "source": [
        "## Program Execution"
      ]
    },
    {
      "cell_type": "markdown",
      "metadata": {
        "id": "WMn1McPFOMpM"
      },
      "source": [
        "## Process Creation and Program Execution in More Detail"
      ]
    },
    {
      "cell_type": "markdown",
      "metadata": {
        "id": "9s2JoKGeOScJ"
      },
      "source": [
        "## Threads: Introduction"
      ]
    },
    {
      "cell_type": "markdown",
      "metadata": {
        "id": "OWmHsh-3OYTe"
      },
      "source": [
        "## Threads: Thread Safety and Per-Thread Storage "
      ]
    },
    {
      "cell_type": "markdown",
      "metadata": {
        "id": "oqEDRA1TOjfV"
      },
      "source": [
        "## Threads: Thread Cancellation"
      ]
    },
    {
      "cell_type": "markdown",
      "metadata": {
        "id": "a7yC9gJgOntF"
      },
      "source": [
        "## Threads: Futher Details"
      ]
    },
    {
      "cell_type": "markdown",
      "metadata": {
        "id": "1LOBqXp2OugS"
      },
      "source": [
        "## Process Groups, Sessions, and Job Control"
      ]
    },
    {
      "cell_type": "markdown",
      "metadata": {
        "id": "t0VXx7e6O3X4"
      },
      "source": [
        "## Process Priorities and Scheduling"
      ]
    },
    {
      "cell_type": "markdown",
      "metadata": {
        "id": "JJUUEAQwO8AV"
      },
      "source": [
        "## Process Resources"
      ]
    },
    {
      "cell_type": "markdown",
      "metadata": {
        "id": "a_j0yDxJPAEk"
      },
      "source": [
        "## Daemons"
      ]
    },
    {
      "cell_type": "markdown",
      "metadata": {
        "id": "Y8zRJs4YPCdp"
      },
      "source": [
        "## Writing Secure Privileged Programs"
      ]
    },
    {
      "cell_type": "markdown",
      "metadata": {
        "id": "ykyknrdgLfx_"
      },
      "source": [
        "## Capabilities"
      ]
    },
    {
      "cell_type": "markdown",
      "metadata": {
        "id": "AZTSrB5bLkBB"
      },
      "source": [
        "- User ID (0) Superuser.\n",
        "- when performing security checks in the kernel, the superuser privilege is divided into distinct units, called capabilities."
      ]
    },
    {
      "cell_type": "markdown",
      "metadata": {
        "id": "EKSW_U1PPMlS"
      },
      "source": [
        "## Login  Accounting"
      ]
    },
    {
      "cell_type": "markdown",
      "metadata": {
        "id": "zjoszyMLPVUf"
      },
      "source": [
        "## Fundamentals of Shared Libraries"
      ]
    },
    {
      "cell_type": "markdown",
      "metadata": {
        "id": "Z4hQzQEWPZ4d"
      },
      "source": [
        "## Advanced Features of Shared Libraries"
      ]
    },
    {
      "cell_type": "markdown",
      "metadata": {
        "id": "F03P0f3yPfN0"
      },
      "source": [
        "## Interprocess Communication Overview"
      ]
    },
    {
      "cell_type": "markdown",
      "metadata": {
        "id": "MWL9WZV0PklW"
      },
      "source": [
        "## Pipes and FIFOs"
      ]
    },
    {
      "cell_type": "markdown",
      "metadata": {
        "id": "hWifC967PoMr"
      },
      "source": [
        "## Introduction to System V IPC"
      ]
    },
    {
      "cell_type": "markdown",
      "metadata": {
        "id": "HDmlKBUYQKPN"
      },
      "source": [
        "## System V Message Queues"
      ]
    },
    {
      "cell_type": "markdown",
      "metadata": {
        "id": "XZWCkkuKQQs4"
      },
      "source": [
        "## System V Semaphores"
      ]
    },
    {
      "cell_type": "markdown",
      "metadata": {
        "id": "sD84ZrhvQVsl"
      },
      "source": [
        "## System V Shared Memory"
      ]
    },
    {
      "cell_type": "markdown",
      "metadata": {
        "id": "98Zw6spCQcEr"
      },
      "source": [
        "## Memory Mappings"
      ]
    },
    {
      "cell_type": "markdown",
      "metadata": {
        "id": "pIlW1fToQeyN"
      },
      "source": [
        "## Virtual Memory Operations"
      ]
    },
    {
      "cell_type": "markdown",
      "metadata": {
        "id": "ckQrq5TPQhGs"
      },
      "source": [
        "## Introduction to POSIX IPC"
      ]
    },
    {
      "cell_type": "markdown",
      "metadata": {
        "id": "10f_BZ_QQkIh"
      },
      "source": [
        "## POSIX Messages Queues"
      ]
    },
    {
      "cell_type": "markdown",
      "metadata": {
        "id": "FgCB8Jw0QnJS"
      },
      "source": [
        "## POSIX Semaphores"
      ]
    },
    {
      "cell_type": "markdown",
      "metadata": {
        "id": "V8ECKVX6QxqW"
      },
      "source": [
        "## POSIX Shared Memory"
      ]
    },
    {
      "cell_type": "markdown",
      "metadata": {
        "id": "fMejWV44Q0C0"
      },
      "source": [
        "## File Locking"
      ]
    },
    {
      "cell_type": "markdown",
      "metadata": {
        "id": "EliNtXw1Q2Xs"
      },
      "source": [
        "## Sockets: Introduction"
      ]
    },
    {
      "cell_type": "markdown",
      "metadata": {
        "id": "05VplKAcRCmR"
      },
      "source": [
        "Sockets are a method of IPC (Inter Process Comunnication) that allow data to be exchagne between applications either on the same (computer) or on different hosts conected by a network.\n",
        "\n",
        "- socket ~ (bound) name\n",
        "- socket()\n",
        "- bind()\n",
        "- listen()\n",
        "- accept()\n",
        "- connect()"
      ]
    },
    {
      "cell_type": "markdown",
      "metadata": {
        "id": "C5PltkNlQ6R_"
      },
      "source": [
        "## Sockets: Fundamentals of TCP/IP Networks"
      ]
    },
    {
      "cell_type": "markdown",
      "metadata": {
        "id": "JnHjmiVTQ_1J"
      },
      "source": [
        "## Sockets: Internet Domains"
      ]
    },
    {
      "cell_type": "markdown",
      "metadata": {
        "id": "tB4YDb3XRg9l"
      },
      "source": [
        "## Sockets: Server Design"
      ]
    },
    {
      "cell_type": "markdown",
      "metadata": {
        "id": "B4PFB_THRjVB"
      },
      "source": [
        "## Sockets: Advanced Topics"
      ]
    },
    {
      "cell_type": "markdown",
      "metadata": {
        "id": "i3FDatayRmSX"
      },
      "source": [
        "## Terminals"
      ]
    },
    {
      "cell_type": "markdown",
      "metadata": {
        "id": "Aq5VtyqnMXBV"
      },
      "source": [
        "## Alternatives I/O Models"
      ]
    },
    {
      "cell_type": "markdown",
      "metadata": {
        "id": "7afgIreJMY0c"
      },
      "source": [
        "- Common I/O Model under which a process performs I/O on just one file descriptor at a time, an each I/O system cal blocks unitl the data is tarnsfered.\n",
        "\n",
        "- The kernel employs the \"buffer cache\" to speed disk I/O requests.\n",
        "\n",
        "- The traditional I/O blocking model is useful, but what about this use cases:\n",
        "  - check wheater I/O possible on a file descriptor without blocoing if it is not possible.\n",
        "  - Monitor multiple file desctiotors to sse if I/O is possible on any of them\n",
        "\n",
        "- select()\n",
        "- poll()\n",
        "- signal driven I/O\n",
        "- I/O multiplexing\n",
        "  - multiplexing \n",
        "  - demultiplexing"
      ]
    },
    {
      "cell_type": "markdown",
      "metadata": {
        "id": "HKKCnYXKNZOE"
      },
      "source": [
        "##  Pseudoterminals"
      ]
    },
    {
      "cell_type": "markdown",
      "metadata": {
        "id": "eBJvNSRhNbL6"
      },
      "source": [
        "A pseudoterminal is a (virtual device) that provides  an IPC channel. One end of the chanel is aprogram that accepts to be connected to a terminal tdevice. On the other  end is aprogram that derives the terminal oritned program by using the chanel to send it input and read as output.\n",
        "\n",
        "orogram -> [ipc channel] program\n",
        "<pre>           ssh \n",
        "</pre>\n",
        "\n",
        "Program \n",
        "- send input\n",
        "- read output\n",
        "\n"
      ]
    },
    {
      "cell_type": "markdown",
      "metadata": {
        "id": "R1Vdn4YPRtQL"
      },
      "source": [
        "## Tracing System Calls"
      ]
    },
    {
      "cell_type": "markdown",
      "metadata": {
        "id": "W5oJk-2VR0bY"
      },
      "source": [
        "## Tracing System Calls"
      ]
    },
    {
      "cell_type": "markdown",
      "metadata": {
        "id": "JZcCqRDQR2uW"
      },
      "source": [
        "## Parsing Command-Line Options"
      ]
    },
    {
      "cell_type": "markdown",
      "metadata": {
        "id": "6fznK7NkR6Ym"
      },
      "source": [
        "## Casting the NULL Pointer"
      ]
    },
    {
      "cell_type": "markdown",
      "metadata": {
        "id": "G2Vr9uNtSIk2"
      },
      "source": [
        "## Kernel Configuration"
      ]
    },
    {
      "cell_type": "markdown",
      "metadata": {
        "id": "MIfkT8nESK5m"
      },
      "source": [
        "## Futher Sources of Information"
      ]
    }
  ]
}