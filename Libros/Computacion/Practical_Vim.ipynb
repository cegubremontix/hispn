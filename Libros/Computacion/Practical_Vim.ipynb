{
  "nbformat": 4,
  "nbformat_minor": 0,
  "metadata": {
    "colab": {
      "name": "Practical Vim.ipynb",
      "provenance": [],
      "authorship_tag": "ABX9TyNwl27pkBXL7Pccl+C3hCCQ",
      "include_colab_link": true
    },
    "kernelspec": {
      "name": "python3",
      "display_name": "Python 3"
    },
    "language_info": {
      "name": "python"
    }
  },
  "cells": [
    {
      "cell_type": "markdown",
      "metadata": {
        "id": "view-in-github",
        "colab_type": "text"
      },
      "source": [
        "<a href=\"https://colab.research.google.com/github/dbremont/Notas/blob/main/Libros/Computacion/Practical_Vim.ipynb\" target=\"_parent\"><img src=\"https://colab.research.google.com/assets/colab-badge.svg\" alt=\"Open In Colab\"/></a>"
      ]
    },
    {
      "cell_type": "markdown",
      "metadata": {
        "id": "q8A7DmD5FaKZ"
      },
      "source": [
        "## The Vim Way\n",
        "\n",
        "[VIM and Python – A Match Made in Heaven – Real Python](https://realpython.com/vim-and-python-a-match-made-in-heaven/)\n",
        "\n",
        "[Vim Splits - Move Faster and More Naturally](https://thoughtbot.com/blog/vim-splits-move-faster-and-more-naturally)\n",
        "\n",
        "[vim-cheatsheet.pdf](https://www.cs.cmu.edu/~15131/f17/topics/vim/vim-cheatsheet.pdf)"
      ]
    },
    {
      "cell_type": "markdown",
      "metadata": {
        "id": "-KW8H8LzFcFB"
      },
      "source": [
        "# Modes"
      ]
    },
    {
      "cell_type": "markdown",
      "metadata": {
        "id": "Z3INiogUFd0i"
      },
      "source": [
        "## Normal Mode"
      ]
    },
    {
      "cell_type": "markdown",
      "metadata": {
        "id": "r8juQ1ZFFfqN"
      },
      "source": [
        "## Insert Mode"
      ]
    },
    {
      "cell_type": "markdown",
      "metadata": {
        "id": "Ens8EOkiFg2X"
      },
      "source": [
        "## Visual Mode"
      ]
    },
    {
      "cell_type": "markdown",
      "metadata": {
        "id": "_hqTOajSFi1I"
      },
      "source": [
        "## Command-Line Mode"
      ]
    },
    {
      "cell_type": "markdown",
      "metadata": {
        "id": "1dKVHmYgFlR8"
      },
      "source": [
        "# Files"
      ]
    },
    {
      "cell_type": "markdown",
      "metadata": {
        "id": "4a0mPmKzFoMI"
      },
      "source": [
        "## Manage Multiple Files"
      ]
    },
    {
      "cell_type": "markdown",
      "metadata": {
        "id": "KcApzlfQFq2W"
      },
      "source": [
        "## Open Files and Save Them to Disk"
      ]
    },
    {
      "cell_type": "markdown",
      "metadata": {
        "id": "8CE-VMXBFunL"
      },
      "source": [
        "# Getting Around Faster"
      ]
    },
    {
      "cell_type": "markdown",
      "metadata": {
        "id": "XC7yXO9mF6Ia"
      },
      "source": [
        "## Navigate Inside Files with Motions"
      ]
    },
    {
      "cell_type": "markdown",
      "metadata": {
        "id": "-JbRJbYXF95F"
      },
      "source": [
        "## Navigate Between Files with Jumps"
      ]
    },
    {
      "cell_type": "markdown",
      "metadata": {
        "id": "wieWOe3iGBWQ"
      },
      "source": [
        "# Registers"
      ]
    },
    {
      "cell_type": "markdown",
      "metadata": {
        "id": "ou-N6_htGDNS"
      },
      "source": [
        "## Copy and Paste"
      ]
    },
    {
      "cell_type": "markdown",
      "metadata": {
        "id": "kuKiksCSGFOW"
      },
      "source": [
        "## Macros"
      ]
    },
    {
      "cell_type": "markdown",
      "metadata": {
        "id": "2uO9_Ix2GGNd"
      },
      "source": [
        "# Patterns"
      ]
    },
    {
      "cell_type": "markdown",
      "metadata": {
        "id": "fZSedqCMGHjd"
      },
      "source": [
        "## Matching Patterns and Literals"
      ]
    },
    {
      "cell_type": "markdown",
      "metadata": {
        "id": "MZJjHaOgGKo8"
      },
      "source": [
        "## Search"
      ]
    },
    {
      "cell_type": "markdown",
      "metadata": {
        "id": "Fw7p66u2GMUl"
      },
      "source": [
        "## Substitution"
      ]
    },
    {
      "cell_type": "markdown",
      "metadata": {
        "id": "KE5935-fGOIt"
      },
      "source": [
        "## Global Commands"
      ]
    },
    {
      "cell_type": "markdown",
      "metadata": {
        "id": "t6LYLRM_GP8u"
      },
      "source": [
        "# Tools"
      ]
    },
    {
      "cell_type": "markdown",
      "metadata": {
        "id": "1Ks0KDsnGTLL"
      },
      "source": [
        "## Index and Navigate Source Code with ctags"
      ]
    },
    {
      "cell_type": "markdown",
      "metadata": {
        "id": "GZil4WLxHFZV"
      },
      "source": [
        "## Compile Code and Navigate Errors with the Quickfix List"
      ]
    },
    {
      "cell_type": "markdown",
      "metadata": {
        "id": "bxQmQuYDHLVL"
      },
      "source": [
        "## Search Project-Wide with grep, vimgrep, and Others"
      ]
    },
    {
      "cell_type": "markdown",
      "metadata": {
        "id": "m3ynnvABHPrk"
      },
      "source": [
        "## Dial X for Autocompletion"
      ]
    },
    {
      "cell_type": "markdown",
      "metadata": {
        "id": "GoxOZT4FHSXI"
      },
      "source": [
        "## Find and Fix Typos with VIM's Spell Checker"
      ]
    },
    {
      "cell_type": "markdown",
      "metadata": {
        "id": "UGNzG0lrHX1w"
      },
      "source": [
        "## Now What?"
      ]
    },
    {
      "cell_type": "markdown",
      "metadata": {
        "id": "Pr2H32o_Hb-6"
      },
      "source": [
        "## Customize Vim to Suit Your Preferences"
      ]
    }
  ]
}