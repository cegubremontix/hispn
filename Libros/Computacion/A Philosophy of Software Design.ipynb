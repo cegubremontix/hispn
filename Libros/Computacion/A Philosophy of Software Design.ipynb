{
  "nbformat": 4,
  "nbformat_minor": 0,
  "metadata": {
    "kernelspec": {
      "display_name": "Python 2.7.18 64-bit",
      "name": "python2718jvsc74a57bd0f92b2924b84ff19c1c3dc485f7644d4486f64738191026bf8e6de303969141b5"
    },
    "language_info": {
      "name": "python",
      "version": ""
    },
    "metadata": {
      "interpreter": {
        "hash": "f92b2924b84ff19c1c3dc485f7644d4486f64738191026bf8e6de303969141b5"
      }
    },
    "orig_nbformat": 2,
    "colab": {
      "name": "A Philosophy of Software Design.ipynb",
      "provenance": [],
      "toc_visible": true,
      "include_colab_link": true
    }
  },
  "cells": [
    {
      "cell_type": "markdown",
      "metadata": {
        "id": "view-in-github",
        "colab_type": "text"
      },
      "source": [
        "<a href=\"https://colab.research.google.com/github/dbremont/Notas/blob/main/Libros/Computacion/A%20Philosophy%20of%20Software%20Design.ipynb\" target=\"_parent\"><img src=\"https://colab.research.google.com/assets/colab-badge.svg\" alt=\"Open In Colab\"/></a>"
      ]
    },
    {
      "cell_type": "markdown",
      "metadata": {
        "id": "uqnxUlmv5zv7"
      },
      "source": [
        "**A Philosophy of Software Design**\n",
        "\n",
        "**Recursos**:\n",
        "\n",
        "  - [Codereview Stackexchange](https://codereview.stackexchange.com/)\n",
        "  - [codereview](https://www.reddit.com/r/codereview/)\n",
        "  - [Review My Code](https://www.reddit.com/r/reviewmycode/)\n",
        "  - [CS 190: Software Design Studio](https://web.stanford.edu/~ouster/cgi-bin/cs190-winter20/index.php)\n",
        "  \n",
        "  - [Book Notes: A Philosophy Of Software Design](https://medium.com/@lovelydog/notes-a-philosophy-of-software-design-f48206bb32de)\n",
        "  \n",
        "  - [Book Review: A Philosophy of Software Design](http://www.pathsensitive.com/2018/10/book-review-philosophy-of-software.html)\n",
        "\n",
        "  - [software-design-book google group for the review of the book](https://groups.google.com/g/software-design-book)\n",
        "\n",
        "\n",
        "- The most **fundamental problem in computer science** is *problem decomposition*: how to take a complex problem and divide it up into pieces that can be solved independently.\n",
        "\n",
        "-  **Problem decomposition** is the fundamental **design task**.\n",
        "\n",
        "**Who to use this book?**\n",
        "\n",
        "1. **Look at the code for illustration**, manyof the design principles are a bit abstract, so .\n",
        "  (**If i enconter good examples send it to the professor**)\n",
        "\n",
        "2. **Review others peoples code**.\n",
        "  - Is this code consistent with the principles?\n",
        "  \n",
        "  - People are bad judgding themselves, so for that read others people code.\n",
        "  \n",
        "  - And let others peoples read your code.\n",
        "\n",
        "3. **Recognize *red flags***.\n",
        "  1 Sings that a piece of code is probably more complicated than it needs to be.\n",
        "\n",
        "  **Look at the red flags at the final of the book**\n",
        "\n",
        "4. **When encounter a *red flag*  look for desings** that eliminate the *red flags*, with time you will become good at  it.\n",
        "\n",
        "5. **Don't be slave of this rules and principles**, but you should have good reasons for breaking it. \n",
        "\n",
        "  - **At least you should recognize that you're breaking it**."
      ]
    },
    {
      "cell_type": "markdown",
      "metadata": {
        "id": "wwhWRUxIQUmr"
      },
      "source": [
        "# 1. Introduction"
      ]
    },
    {
      "cell_type": "markdown",
      "metadata": {
        "id": "IUbKho87fqkx"
      },
      "source": [
        "- Programmers are not bound by the laws of physics, we can create virtual worlds.\n",
        "  - Aren't programmers bound by the laws of computing? \n",
        "\n",
        "- Programming requires creativity and ability to organize your thoughs.\n",
        "\n",
        "- The greatest limitation nin writing softawre is our ability to udnertand the systems we are creating.\n",
        "\n",
        "- Relevant factors when we modify a system.\n",
        "  - When change a system, maybe you change the interface+ (all observed behavior of the module)\n",
        "\n",
        "- How to fight complexity?\n",
        "  \n",
        "  1. Make the code simpler and more obvious.\n",
        "    - Eliminate special cases.\n",
        "    - Use identifiers in a consistent fashion.\n",
        "  2. Modular design (ej. Classes in OOP).\n"
      ]
    },
    {
      "cell_type": "markdown",
      "metadata": {
        "id": "N-QVMpyRfgTQ"
      },
      "source": [
        "# 2. The Nature of Complexity"
      ]
    },
    {
      "cell_type": "markdown",
      "metadata": {
        "id": "URwyhnasoLIp"
      },
      "source": [
        "What is *complexity*?:\n",
        "- In practical terms, **Complexity is anything related to the structured of a software system that makes it hard to understand and modify the system**.\n",
        "\n",
        "- What is the cost of a \"Small Improvement\"?\n",
        "- How hard is to fix a bug? Without introducing another?\n",
        "- What parts of the system should be modify to make improvement?\n",
        "- **If a software system is hard to understand and modify, then it is complicated; if it is easy to understand and modify, then it is simple**.\n",
        "\n",
        "  **Todo put the base 64 picture of complexity and cost for small improvement here**\n",
        "  \n",
        "\n",
        "  ![png tester2](data:image/png;base64,iVBORw0KGgoAAAANSUhEUgAAAHoAAABkCAYAAABJhSQPAAAACXBIWXMAAAsTAAALEwEAmpwYAAADf0lEQVR42u3dW2vTYBzH8eeUPDm0adN2adeddNMpo2ObXoypsDvFd+WbEfRSUUHvxIFOEXG7UEFR5xybulO3tU3XpF4JIiJ43Pw/v+8LKP3nQ54nIaTlC2fOXGKIfAKHANAI0AjQCNAI0AjQCNAI0AjQgEaARoBGgEaARoBGgEaARoBGgAY0AjQCNAI0AjQCNAI0AjQCNKARoBGgEaARoNE/T+EQHL4SwXhsCbnrKWvHU3bdV3rHV3rPlXrPkbqppY5tYXUkVx3JZSo4Z4wxkXa7KukmKul2dDvdd+Mk9ltJ7DeTGNAHXFML+Slnu6slnVkpOfm1og5bttC/8lmp4LwtuGhbzGo40t1kFs7ogyjljNV9ZS9V3OB11Su97XUrWLqJFFtcLEdu9vmRTPSq3+vDHk2oli3k66qXWzie7V8r6AIuxogty+/KbvbxydzActmJcNVNrIYW6uloED0ay4/i9opg64GlH4yHgwe57wL6L/YhtN17k4Xh95HT8z99b0D/xBl891Rx5DDuv4D+AzW1kHMThaFnRzOD//McgP5BT0aD6N5UYYzCLID+Th/ztnPzXFSr+ypDZSZAf3MvPF/LVw/7rRKgf6NtX9nXZsvjW1krS3E+QDPGXgz64e2ZngnKMxoPfXeqMPh0NBimPqex0G3FxfXZythKSZdMmNdI6B1XWlcu9J1uauGYMrNx0OuBpS9f7JsxbW6joD+EtnvlfHXaxFVMABnQpJZrk5GNgN51pDJxTzYKuiM5v3q+epoh2tA3zkUn91zpgpkw9P3xfHWp4pZBTBj6bcXNUnwCBeivatlCXpstY1+mDn1nuucYWIlDv+z3cm+qbi9YCUO3FRe3zkZTICUOPV8L+8BJHLruKevJiWAEnMSh5ybDI6AkDr2VUfbLAR/LNnXo+Vo4AEbi0E0t5IshH9DUoRdHggiEBkA/rOWPg5A49GpBeynHD+KRh148lsUjSOrQKWfs2dHMEPiIQ28ElgM6A6Df9Ho50BkA/arfw20VdeiUM7ZW1EXQEYduaIl3uk2A3sjhQswI6PWc7YHNAOjNwAK0CdBbGUAbAb3r4RUbI6BbWtpgMwC6rbgFNgOgv/z1DyIOLdJuF2wGQNud7j7YDIB24qQNNgOgM42kCTYDoPO7+w2wGQAd1gFtBHRxuw1oE6AL2/stsBkA7cVJB2w/32c7r8DNq/e3jAAAAABJRU5ErkJggg==)\n",
        "\n",
        "\n",
        "Complexity is determined by  the activities that are most common. So you can have complicated parts of a system, but if they are never touched then they don't account much for the overall complexity of the system.\n",
        "\n",
        "Then, **Isolating complexity in a place where it wil never be seen is almost as good as  eliminating the complexity entirely**.\n",
        "\n",
        "**Symptoms of complexity?**\n",
        "\n",
        "- Change amplification.\n",
        "- Cognitive load.\n",
        "- Unknown unknowns.\n",
        "\n",
        "\n",
        "---\n",
        "\n",
        "This book is about how to design software systems to minimize their complexity.\n",
        "\n",
        "What is Complexity?\n",
        "Complexity is anything related to the structure of a software system \n",
        "that makes it hard to understand an dmodify the system.\n",
        "\n",
        "How complexity is determined?\n",
        "\n",
        "Complexity is determined by the activities that are most common. If a system has few parts that are very complicated, but hose parts almost never need to be touched, \n",
        "then they don't have much impact on the overall complexity of the system. To characterize this is an crude mathematical way:\n",
        "\n",
        "\\(C = \\sum_{p}c_pt_p\\)\n",
        "\n",
        "The  overall complexity of a system \\((C)\\) is determined by na complexity of each part \\(p\\) \\((c_p)\\) weighted by the fraction of time developers spend working on that part \n",
        "\\((t_p)\\). Isolating complexity in a place where it will never be seen is almost as good as eliminating the complexity entirely.\n",
        "\n",
        "Complexity is more apparent to readers than writers. If you write a picece of code and it seems simpel to you, but other people think it is complex, then it is complex. When\n",
        "you find yourself in situations like this, it's worth probing the other developers to find out why the code seems complext to them.\n",
        "\n",
        "Symptons of complexity\n",
        "\n",
        "hange amplifications\n",
        "\n",
        "The first symptom of complexity is that a seemingly simple change requiers code modifications in many different places.\n",
        "For example consider a web site containing several pages, if in order to chage something in the banner you have to change every page in the site, then your web site is complex.\n",
        "\n",
        "Cognitive load\n",
        "The second symptom of complexity is cognitive load, which refers to how much a developer neeeds to know in order to complete a task. A higher cognitive load means that developers have to spend more time learning the required information, and there is a greater risk of bugs because they have missed something important.\n",
        "For example , supose a function in C allocates memory, returns a pointer to that meory, and assumes that the caller will free the memory.\n",
        "This add cogtivie load of developers using the function; if a developer fails to free the memory, there will be a memory leak.\n",
        "\n",
        "Cognitive load arises in many ways, such as APIs with many methods, global variables, inconsistencies, and dependencies between modules.\n",
        "\n",
        "System designers usually measure  complexity by lines of codes. A simpler solutions will have less lines of code.\n",
        "This did not take into account cognitive load and change ampliciations.\n",
        "\n",
        "Sometimes an approach that requires more lines of code is actually simpler, because it reduces cognitive load.\n",
        "\n",
        "Unknown unknowns\n",
        "The third symptom of complexity is that it is not obvious which pieces of code must be modified to complete a task, \n",
        "or what information a developer must have to carry out the task sucessfully.\n",
        "\n",
        "Good designs are easier.\n",
        "\n",
        "**Causes of Complexity**\n",
        "\n",
        "Complexity is caused by two things: dependencies and obscurity.\n",
        "\n",
        "dependencies\n",
        "\n",
        "An example of dependencies occurs in network protocols. Typically there is separete code for the sender and reciever for the protocol, but they must each conform to the protocol; changing the code for the sender almost always requires corresponding changes at the reciever, and vice versa.\n",
        "The signature of a method creates dependency between the implementation of that method and the code that invokes it: if a new parameter is added to a method, all of the incovations  of that method must be modified to specify that parameter.\n",
        "\n",
        "Dependencies are a fundamental part of software and can't be compleity eliminated. When you introduce a class you create a dependency with the api of the class, the trick is to manage dependency.\n",
        "\n",
        "Use the compilers fo manages the api complexity.\n",
        "\n",
        "obscurity\n",
        "\n",
        "Obscurity occurs  when important information is not obvious. A simple example is a varaiable name that is o generic that it doesn't ocarry much useful information (e.g time). Or the, documentation for a simple  variable might not specify its units, so the only way to find out is to sacna code for places where the variable is used. \n",
        "\n",
        "Obscurity sometimes come from innadecuate documentation.\n",
        "For example is not clear where is the entry table for the status codes.\n",
        "\n",
        "In general,\n",
        "dependencies lead to change ampliciafation and high coginitive load.\n",
        "obscurity create unknown unknowns, and also contributes to cognitive load. If we can fidn design technique that \n",
        "minimize dependencies and obscurity, then we can reduce the complexity of software.\n"
      ]
    },
    {
      "cell_type": "markdown",
      "metadata": {
        "id": "nECsQ6dwfjMs"
      },
      "source": [
        "# 3. Working Code Ins't Enough"
      ]
    },
    {
      "cell_type": "markdown",
      "metadata": {
        "id": "5dqlOENefoh-"
      },
      "source": [
        "# 4. Modules Should Be Deep"
      ]
    },
    {
      "cell_type": "markdown",
      "metadata": {
        "id": "ogYISz13fsP2"
      },
      "source": [
        "# 5. Information Hiding (and Leakeage)"
      ]
    },
    {
      "cell_type": "markdown",
      "metadata": {
        "id": "755UwBFugFYo"
      },
      "source": [
        "# 6. General-Purporse Modules are Deeper"
      ]
    },
    {
      "cell_type": "markdown",
      "metadata": {
        "id": "uFD4mp42gKhd"
      },
      "source": [
        "# 7. Different Layer, Different Abstraction"
      ]
    },
    {
      "cell_type": "markdown",
      "metadata": {
        "id": "9zEnKraygO0M"
      },
      "source": [
        "# 8. Pull Complexity Downwards"
      ]
    },
    {
      "cell_type": "markdown",
      "metadata": {
        "id": "SIJm1VijgUzH"
      },
      "source": [
        "# 9. Better Together Or Better Apart?"
      ]
    },
    {
      "cell_type": "markdown",
      "metadata": {
        "id": "PycJBn6KgbYC"
      },
      "source": [
        "# 10. Define Errors Out  Of Existence"
      ]
    },
    {
      "cell_type": "markdown",
      "metadata": {
        "id": "GpBNLJSnggC0"
      },
      "source": [
        "# 11. Design It Twice"
      ]
    },
    {
      "cell_type": "markdown",
      "metadata": {
        "id": "dTpepy9WgjA_"
      },
      "source": [
        "# 12. Why Write Comments? The Four Excuses"
      ]
    },
    {
      "cell_type": "markdown",
      "metadata": {
        "id": "RPoZ4qodgpjb"
      },
      "source": [
        "# 13. Commends Should Describe Things that Aren't Abvious from the Code"
      ]
    },
    {
      "cell_type": "markdown",
      "metadata": {
        "id": "Jx3R61ZOgyvE"
      },
      "source": [
        "# 14. Choosing Names"
      ]
    },
    {
      "cell_type": "markdown",
      "metadata": {
        "id": "w971Q1xRg2vO"
      },
      "source": [
        "# 15. Write The Commends First"
      ]
    },
    {
      "cell_type": "markdown",
      "metadata": {
        "id": "scbZYOaGg6QC"
      },
      "source": [
        "# 16. Modifying Existing Code"
      ]
    },
    {
      "cell_type": "markdown",
      "metadata": {
        "id": "3SpBXAj3g9dN"
      },
      "source": [
        "# 17. Consistency"
      ]
    },
    {
      "cell_type": "markdown",
      "metadata": {
        "id": "CmxPaqo0hAJG"
      },
      "source": [
        "# 18. Code Should be Obvious"
      ]
    },
    {
      "cell_type": "markdown",
      "metadata": {
        "id": "HVSrD6zVhEiJ"
      },
      "source": [
        "# 19. Software Trends"
      ]
    },
    {
      "cell_type": "markdown",
      "metadata": {
        "id": "UfGHJoe9hGjo"
      },
      "source": [
        "# 20. Designing for Performace"
      ]
    },
    {
      "cell_type": "markdown",
      "metadata": {
        "id": "lVKw-vV6hLym"
      },
      "source": [
        "# 21. Conclusion"
      ]
    }
  ]
}