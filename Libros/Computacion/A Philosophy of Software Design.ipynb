{
  "nbformat": 4,
  "nbformat_minor": 0,
  "metadata": {
    "kernelspec": {
      "display_name": "Python 2.7.18 64-bit",
      "name": "python2718jvsc74a57bd0f92b2924b84ff19c1c3dc485f7644d4486f64738191026bf8e6de303969141b5"
    },
    "language_info": {
      "name": "python",
      "version": ""
    },
    "metadata": {
      "interpreter": {
        "hash": "f92b2924b84ff19c1c3dc485f7644d4486f64738191026bf8e6de303969141b5"
      }
    },
    "orig_nbformat": 2,
    "colab": {
      "name": "A Philosophy of Software Design.ipynb",
      "provenance": [],
      "toc_visible": true,
      "include_colab_link": true
    }
  },
  "cells": [
    {
      "cell_type": "markdown",
      "metadata": {
        "id": "view-in-github",
        "colab_type": "text"
      },
      "source": [
        "<a href=\"https://colab.research.google.com/github/dbremont/Notas/blob/main/Libros/Computacion/A%20Philosophy%20of%20Software%20Design.ipynb\" target=\"_parent\"><img src=\"https://colab.research.google.com/assets/colab-badge.svg\" alt=\"Open In Colab\"/></a>"
      ]
    },
    {
      "cell_type": "markdown",
      "metadata": {
        "id": "uqnxUlmv5zv7"
      },
      "source": [
        "**A Philosophy of Software Design**\n",
        "\n",
        "- The most **fundamental problem in computer science** is *problem decomposition*: how to take a complex problem and divide it up into pieces that can be solved independently.\n",
        "\n",
        "-  **Problem decomposition** is the fundamental **design task**.\n",
        "\n",
        "**Who to use this book?**\n",
        "\n",
        "1. **Look at the code for illustration**, manyof the design principles are a bit abstract, so .\n",
        "  (**If i enconter good examples send it to the professor**)\n",
        "\n",
        "2. **Review others peoples code**.\n",
        "  - Is this code consistent with the principles?\n",
        "  \n",
        "  - People are bad judgding themselves, so for that read others people code.\n",
        "  \n",
        "  - And let others peoples read your code.\n",
        "\n",
        "3. **Recognize *red flags***.\n",
        "  1 Sings that a piece of code is probably more complicated than it needs to be.\n",
        "\n",
        "  **Look at the red flags at the final of the book**\n",
        "\n",
        "4. **When encounter a *red flag*  look for desings** that eliminate the *red flags*, with time you will become good at  it.\n",
        "\n",
        "5. **Don't be slave of this rules and principles**, but you should have good reasons for breaking it. \n",
        "\n",
        "  - **At least you should recognize that you're breaking it**."
      ]
    },
    {
      "cell_type": "markdown",
      "metadata": {
        "id": "wwhWRUxIQUmr"
      },
      "source": [
        "# 1. Introduction"
      ]
    },
    {
      "cell_type": "markdown",
      "metadata": {
        "id": "IUbKho87fqkx"
      },
      "source": [
        "- Programmers are not bound by the laws of physics, we can create virtual worlds.\n",
        "  - Aren't programmers bound by the laws of computing? \n",
        "\n",
        "- Programming requires creativity and ability to organize your thoughs.\n",
        "\n",
        "- The greatest limitation nin writing softawre is our ability to udnertand the systems we are creating.\n",
        "\n",
        "- Relevant factors when we modify a system.\n",
        "  - When change a system, maybe you change the interface+ (all observed behavior of the module)\n",
        "\n",
        "- How to fight complexity?\n",
        "  \n",
        "  1. Make the code simpler and more obvious.\n",
        "    - Eliminate special cases.\n",
        "    - Use identifiers in a consistent fashion.\n",
        "  2. Modular design (ej. Classes in OOP).\n"
      ]
    },
    {
      "cell_type": "markdown",
      "metadata": {
        "id": "N-QVMpyRfgTQ"
      },
      "source": [
        "# 2. The Nature of Complexity"
      ]
    },
    {
      "cell_type": "markdown",
      "metadata": {
        "id": "nECsQ6dwfjMs"
      },
      "source": [
        "# 3. Working Code Ins't Enough"
      ]
    },
    {
      "cell_type": "markdown",
      "metadata": {
        "id": "5dqlOENefoh-"
      },
      "source": [
        "# 4. Modules Should Be Deep"
      ]
    },
    {
      "cell_type": "markdown",
      "metadata": {
        "id": "ogYISz13fsP2"
      },
      "source": [
        "# 5. Information Hiding (and Leakeage)"
      ]
    },
    {
      "cell_type": "markdown",
      "metadata": {
        "id": "755UwBFugFYo"
      },
      "source": [
        "# 6. General-Purporse Modules are Deeper"
      ]
    },
    {
      "cell_type": "markdown",
      "metadata": {
        "id": "uFD4mp42gKhd"
      },
      "source": [
        "# 7. Different Layer, Different Abstraction"
      ]
    },
    {
      "cell_type": "markdown",
      "metadata": {
        "id": "9zEnKraygO0M"
      },
      "source": [
        "# 8. Pull Complexity Downwards"
      ]
    },
    {
      "cell_type": "markdown",
      "metadata": {
        "id": "SIJm1VijgUzH"
      },
      "source": [
        "# 9. Better Together Or Better Apart?"
      ]
    },
    {
      "cell_type": "markdown",
      "metadata": {
        "id": "PycJBn6KgbYC"
      },
      "source": [
        "# 10. Define Errors Out  Of Existence"
      ]
    },
    {
      "cell_type": "markdown",
      "metadata": {
        "id": "GpBNLJSnggC0"
      },
      "source": [
        "# 11. Design It Twice"
      ]
    },
    {
      "cell_type": "markdown",
      "metadata": {
        "id": "dTpepy9WgjA_"
      },
      "source": [
        "# 12. Why Write Comments? The Four Excuses"
      ]
    },
    {
      "cell_type": "markdown",
      "metadata": {
        "id": "RPoZ4qodgpjb"
      },
      "source": [
        "# 13. Commends Should Describe Things that Aren't Abvious from the Code"
      ]
    },
    {
      "cell_type": "markdown",
      "metadata": {
        "id": "Jx3R61ZOgyvE"
      },
      "source": [
        "# 14. Choosing Names"
      ]
    },
    {
      "cell_type": "markdown",
      "metadata": {
        "id": "w971Q1xRg2vO"
      },
      "source": [
        "# 15. Write The Commends First"
      ]
    },
    {
      "cell_type": "markdown",
      "metadata": {
        "id": "scbZYOaGg6QC"
      },
      "source": [
        "# 16. Modifying Existing Code"
      ]
    },
    {
      "cell_type": "markdown",
      "metadata": {
        "id": "3SpBXAj3g9dN"
      },
      "source": [
        "# 17. Consistency"
      ]
    },
    {
      "cell_type": "markdown",
      "metadata": {
        "id": "CmxPaqo0hAJG"
      },
      "source": [
        "# 18. Code Should be Obvious"
      ]
    },
    {
      "cell_type": "markdown",
      "metadata": {
        "id": "HVSrD6zVhEiJ"
      },
      "source": [
        "# 19. Software Trends"
      ]
    },
    {
      "cell_type": "markdown",
      "metadata": {
        "id": "UfGHJoe9hGjo"
      },
      "source": [
        "# 20. Designing for Performace"
      ]
    },
    {
      "cell_type": "markdown",
      "metadata": {
        "id": "lVKw-vV6hLym"
      },
      "source": [
        "# 21. Conclusion"
      ]
    }
  ]
}