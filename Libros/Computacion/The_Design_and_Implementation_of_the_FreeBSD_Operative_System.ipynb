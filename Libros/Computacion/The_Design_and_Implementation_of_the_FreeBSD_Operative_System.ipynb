{
  "nbformat": 4,
  "nbformat_minor": 0,
  "metadata": {
    "colab": {
      "name": "The Design and Implementation of the FreeBSD Operative System.ipynb",
      "provenance": [],
      "toc_visible": true,
      "authorship_tag": "ABX9TyNKrDpBY0YY6NRcpREWR5Co",
      "include_colab_link": true
    },
    "kernelspec": {
      "name": "python3",
      "display_name": "Python 3"
    },
    "language_info": {
      "name": "python"
    }
  },
  "cells": [
    {
      "cell_type": "markdown",
      "metadata": {
        "id": "view-in-github",
        "colab_type": "text"
      },
      "source": [
        "<a href=\"https://colab.research.google.com/github/dbremont/Notas/blob/main/Libros/Computacion/The_Design_and_Implementation_of_the_FreeBSD_Operative_System.ipynb\" target=\"_parent\"><img src=\"https://colab.research.google.com/assets/colab-badge.svg\" alt=\"Open In Colab\"/></a>"
      ]
    },
    {
      "cell_type": "markdown",
      "metadata": {
        "id": "8CwQAq1CSWRc"
      },
      "source": [
        "# The Design and Implementation of the FreeBSD Operative System\n",
        "\n",
        "- This book is about the *internal* structure of the FreeBSD 5.2 Kernel and about the concepts, data structures, and  algorithms used in implementing FreeBSD's system facilities.\n",
        "\n",
        "- This book covers *FreeBSD* from the system-call level down-from the interface to the kernel to the hardware itself.\n",
        "\n",
        "- The kernel includes system facilities such as,:\n",
        "  - process management, \n",
        "  - virtual memory,\n",
        "  - the I/O System,\n",
        "  - filesystems,\n",
        "  - the socket *IPC* mechanism,\n",
        "  - and network  protocol implementations.\n",
        "\n",
        "- Why FreeBSD:\n",
        "  - Control the changes made to the source code.\n",
        "\n",
        "- Book audience:\n",
        "  - Applications developer to learn how to effectively and efficiently interface to the system.\n",
        "  - System programmers can learn how to expetend, enhace , and interface to the system."
      ]
    },
    {
      "cell_type": "markdown",
      "metadata": {
        "id": "_gkhlm1ISXvs"
      },
      "source": [
        "## Part I Overview"
      ]
    },
    {
      "cell_type": "markdown",
      "metadata": {
        "id": "6kxuppCDSlSw"
      },
      "source": [
        "## Part II Processes"
      ]
    },
    {
      "cell_type": "markdown",
      "metadata": {
        "id": "WAjGyyfZS3YT"
      },
      "source": [
        "## Part III I/O System\n"
      ]
    },
    {
      "cell_type": "markdown",
      "metadata": {
        "id": "y2NOu4eaUTKR"
      },
      "source": [
        "## Part IV Interprocess Communication"
      ]
    },
    {
      "cell_type": "markdown",
      "metadata": {
        "id": "A-RW46tmkOjj"
      },
      "source": [
        "## Part V System Operation"
      ]
    }
  ]
}