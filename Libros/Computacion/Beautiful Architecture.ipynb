{
  "nbformat": 4,
  "nbformat_minor": 0,
  "metadata": {
    "kernelspec": {
      "display_name": "Python 2.7.18 64-bit",
      "name": "python2718jvsc74a57bd0f92b2924b84ff19c1c3dc485f7644d4486f64738191026bf8e6de303969141b5"
    },
    "language_info": {
      "name": "python",
      "version": ""
    },
    "metadata": {
      "interpreter": {
        "hash": "f92b2924b84ff19c1c3dc485f7644d4486f64738191026bf8e6de303969141b5"
      }
    },
    "orig_nbformat": 2,
    "colab": {
      "name": "Beautiful Architecture.ipynb",
      "provenance": [],
      "include_colab_link": true
    }
  },
  "cells": [
    {
      "cell_type": "markdown",
      "metadata": {
        "id": "view-in-github",
        "colab_type": "text"
      },
      "source": [
        "<a href=\"https://colab.research.google.com/github/dbremont/Notas/blob/main/Libros/Computacion/Beautiful%20Architecture.ipynb\" target=\"_parent\"><img src=\"https://colab.research.google.com/assets/colab-badge.svg\" alt=\"Open In Colab\"/></a>"
      ]
    },
    {
      "cell_type": "markdown",
      "metadata": {
        "id": "h-KXNZCB5fBJ"
      },
      "source": [
        "Beautiful Architecture"
      ]
    },
    {
      "cell_type": "markdown",
      "metadata": {
        "id": "2pDh0l2jzGnY"
      },
      "source": [
        "# What is Architecture?"
      ]
    },
    {
      "cell_type": "markdown",
      "metadata": {
        "id": "eITqo1D6zNJa"
      },
      "source": [
        "# A Tale Two Systems: A Modern-Day Software Fable"
      ]
    },
    {
      "cell_type": "markdown",
      "metadata": {
        "id": "UqKBr4TezS7W"
      },
      "source": [
        "# Architecting for Scale"
      ]
    },
    {
      "cell_type": "markdown",
      "metadata": {
        "id": "753ouD4bzxYb"
      },
      "source": [
        "# Making Memories"
      ]
    },
    {
      "cell_type": "markdown",
      "metadata": {
        "id": "p0kWHV6hz05x"
      },
      "source": [
        "# Resource-Oriented Architectures-Being 'In the Web'"
      ]
    },
    {
      "cell_type": "markdown",
      "metadata": {
        "id": "QNiHlT7Cz93n"
      },
      "source": [
        "# Data Grows-Up: The Architecture of the Facebook Platform"
      ]
    },
    {
      "cell_type": "markdown",
      "metadata": {
        "id": "MZ2sbAQB0FYs"
      },
      "source": [
        "# Xen and the Beauty of Virtualization"
      ]
    },
    {
      "cell_type": "markdown",
      "metadata": {
        "id": "rsa2-8SY0J4j"
      },
      "source": [
        "# Guardian: A Fault-Tolerant Operating System Environment"
      ]
    },
    {
      "cell_type": "markdown",
      "metadata": {
        "id": "aBoApbC30Rm0"
      },
      "source": [
        "# JPC: An X86 PC Emulator in Pure Java"
      ]
    },
    {
      "cell_type": "markdown",
      "metadata": {
        "id": "FhPU0UnQ0XS3"
      },
      "source": [
        "# The Strength of Metacircular Virtual Machines: Jikes RVM"
      ]
    },
    {
      "cell_type": "markdown",
      "metadata": {
        "id": "yJrMZdmN0cSc"
      },
      "source": [
        "# GNU Emacs: Creeping Featurism is a Strengh"
      ]
    },
    {
      "cell_type": "markdown",
      "metadata": {
        "id": "aCLhPPqq0lCL"
      },
      "source": [
        "# When the Bazaar Sets Out To Build Cathedrals"
      ]
    },
    {
      "cell_type": "markdown",
      "metadata": {
        "id": "QeZzNA0I0sId"
      },
      "source": [
        "# Software Architecture: Object-Oriented Versus Functional"
      ]
    },
    {
      "cell_type": "markdown",
      "metadata": {
        "id": "2bDhqaF10zdX"
      },
      "source": [
        "# Reading the Clasics"
      ]
    },
    {
      "cell_type": "markdown",
      "metadata": {
        "id": "ulW7o0Qe8pjt"
      },
      "source": [
        ""
      ]
    }
  ]
}