{
  "nbformat": 4,
  "nbformat_minor": 0,
  "metadata": {
    "colab": {
      "name": "Principles of Computer System Design.ipynb",
      "provenance": [],
      "authorship_tag": "ABX9TyNMjkq3E/TxVgBQ5HbWEKPp",
      "include_colab_link": true
    },
    "kernelspec": {
      "name": "python3",
      "display_name": "Python 3"
    },
    "language_info": {
      "name": "python"
    }
  },
  "cells": [
    {
      "cell_type": "markdown",
      "metadata": {
        "id": "view-in-github",
        "colab_type": "text"
      },
      "source": [
        "<a href=\"https://colab.research.google.com/github/dbremont/Notas/blob/main/Libros/Computacion/Principles_of_Computer_System_Design.ipynb\" target=\"_parent\"><img src=\"https://colab.research.google.com/assets/colab-badge.svg\" alt=\"Open In Colab\"/></a>"
      ]
    },
    {
      "cell_type": "markdown",
      "metadata": {
        "id": "MKkMr2fingwF"
      },
      "source": [
        "## Systems"
      ]
    },
    {
      "cell_type": "markdown",
      "metadata": {
        "id": "qBo1rJ14n_bl"
      },
      "source": [
        "## Element of Computer System Organization"
      ]
    },
    {
      "cell_type": "markdown",
      "metadata": {
        "id": "Cm2ddPAnoDJo"
      },
      "source": [
        "## The Design of Naming Schemes"
      ]
    },
    {
      "cell_type": "markdown",
      "metadata": {
        "id": "A5m3jsEWoIrh"
      },
      "source": [
        "## Enforcing Modularity with Clients and Services"
      ]
    },
    {
      "cell_type": "markdown",
      "metadata": {
        "id": "YNrRNNfToNmH"
      },
      "source": [
        "## Enforcing Modularity with Virtualization"
      ]
    },
    {
      "cell_type": "markdown",
      "metadata": {
        "id": "WRSs4hneoTYv"
      },
      "source": [
        "## Performace"
      ]
    },
    {
      "cell_type": "markdown",
      "metadata": {
        "id": "KLySEH7qoVKh"
      },
      "source": [
        "## The Network as a System and as a System Component"
      ]
    },
    {
      "cell_type": "markdown",
      "metadata": {
        "id": "IJD4v7Exod86"
      },
      "source": [
        "## Faul Tolerance: Reliable Systems from Unreliable Components"
      ]
    },
    {
      "cell_type": "markdown",
      "metadata": {
        "id": "ifrqfQveokbV"
      },
      "source": [
        "## Atomicity: All-or-nothing and Before-or-after"
      ]
    },
    {
      "cell_type": "markdown",
      "metadata": {
        "id": "QwZURvE3opf_"
      },
      "source": [
        "## Consistency"
      ]
    },
    {
      "cell_type": "markdown",
      "metadata": {
        "id": "_Jl4LL5-orir"
      },
      "source": [
        "## Information Security"
      ]
    }
  ]
}