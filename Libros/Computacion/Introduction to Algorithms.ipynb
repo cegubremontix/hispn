{
  "nbformat": 4,
  "nbformat_minor": 0,
  "metadata": {
    "kernelspec": {
      "display_name": "Python 2.7.18 64-bit",
      "name": "python2718jvsc74a57bd0f92b2924b84ff19c1c3dc485f7644d4486f64738191026bf8e6de303969141b5"
    },
    "language_info": {
      "name": "python",
      "version": ""
    },
    "metadata": {
      "interpreter": {
        "hash": "f92b2924b84ff19c1c3dc485f7644d4486f64738191026bf8e6de303969141b5"
      }
    },
    "orig_nbformat": 2,
    "colab": {
      "name": "Introduction to Algorithms.ipynb",
      "provenance": [],
      "include_colab_link": true
    }
  },
  "cells": [
    {
      "cell_type": "markdown",
      "metadata": {
        "id": "view-in-github",
        "colab_type": "text"
      },
      "source": [
        "<a href=\"https://colab.research.google.com/github/dbremont/Notas/blob/main/Libros/Computacion/Introduction%20to%20Algorithms.ipynb\" target=\"_parent\"><img src=\"https://colab.research.google.com/assets/colab-badge.svg\" alt=\"Open In Colab\"/></a>"
      ]
    },
    {
      "cell_type": "markdown",
      "metadata": {
        "id": "JPFrdwFR4k0V"
      },
      "source": [
        "Otros Recursos\n",
        "\n",
        "* [Algorithmic Thinking - lubaladong](https://labuladong.gitbook.io/algo-en/)"
      ]
    },
    {
      "cell_type": "markdown",
      "metadata": {
        "id": "c6FVIoRn4eCQ"
      },
      "source": [
        "Foundations\n",
        "Introduction\n",
        "1. The Role of Algorithms in Computing\n",
        "2. Getting Started\n",
        "3. Growth of Functions\n",
        "4. Divide-and-Conquer\n",
        "5. Probabilistic Analysis and Randomized Algorithms\n",
        "\n",
        "Sorting and Order Statistics\n",
        "Introduction\n",
        "6. Heapsort\n",
        "7. Quicksort\n",
        "8. Sorting in Linear Time\n",
        "9. Medians and Order Statistics\n",
        "\n",
        "Data Structures\n",
        "Introduction\n",
        "10. Elementary Data Structures\n",
        "11. Hash Tables\n",
        "12. Binary Search Trees\n",
        "13. Red-Black Trees\n",
        "14. Augmenting Data Structures\n",
        "\n",
        "Advanced Design and Analysis Techniques\n",
        "Introduction\n",
        "15. Dynamic Programming\n",
        "16. Greedy Algorithms\n",
        "17. Amortized Analysis\n",
        "\n",
        "Advanced Data Structures\n",
        "Introduction\n",
        "18. B-Trees\n",
        "19. Fibonacci Heaps\n",
        "20. van Emde Boas Trees\n",
        "21. Data Structures for Disjoint Sets\n",
        "\n",
        "Graph Algorithms\n",
        "Introduction\n",
        "22. Elementary Graph Algorithms\n",
        "23. Minimum Spanning Trees\n",
        "24. Single-Source Shortset Paths\n",
        "25. All-Pairs Shortest Paths\n",
        "26. Maximum Flow\n",
        "\n",
        "Selected Topics\n",
        "Introduction\n",
        "27. Multithreaded Algorithms\n",
        "28. Matrix Operations\n",
        "29. Linear Programming\n",
        "30. Polynomials and the FFT\n",
        "31. Number-Theoretic Algorithms\n",
        "32. Strign Matching\n",
        "33. Computational Geometry\n",
        "34. NP-Completeness\n",
        "35. Approximation Algorithms\n",
        "\n",
        "Mathematical Background\n",
        "Introduction\n",
        "A Summation\n",
        "B Sets, Etc.\n",
        "C Counting and Probability\n",
        "D Matrices\n"
      ]
    }
  ]
}