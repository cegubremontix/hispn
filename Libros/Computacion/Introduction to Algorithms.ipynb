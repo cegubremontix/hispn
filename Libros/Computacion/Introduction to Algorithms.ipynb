{
  "nbformat": 4,
  "nbformat_minor": 0,
  "metadata": {
    "kernelspec": {
      "display_name": "Python 2.7.18 64-bit",
      "name": "python2718jvsc74a57bd0f92b2924b84ff19c1c3dc485f7644d4486f64738191026bf8e6de303969141b5"
    },
    "language_info": {
      "name": "python",
      "version": ""
    },
    "metadata": {
      "interpreter": {
        "hash": "f92b2924b84ff19c1c3dc485f7644d4486f64738191026bf8e6de303969141b5"
      }
    },
    "orig_nbformat": 2,
    "colab": {
      "name": "Introduction to Algorithms.ipynb",
      "provenance": [],
      "include_colab_link": true
    }
  },
  "cells": [
    {
      "cell_type": "markdown",
      "metadata": {
        "id": "view-in-github",
        "colab_type": "text"
      },
      "source": [
        "<a href=\"https://colab.research.google.com/github/dbremont/Notas/blob/main/Libros/Computacion/Introduction%20to%20Algorithms.ipynb\" target=\"_parent\"><img src=\"https://colab.research.google.com/assets/colab-badge.svg\" alt=\"Open In Colab\"/></a>"
      ]
    },
    {
      "cell_type": "markdown",
      "metadata": {
        "id": "JPFrdwFR4k0V"
      },
      "source": [
        "Otros Recursos\n",
        "\n",
        "* [Algorithmic Thinking - lubaladong](https://labuladong.gitbook.io/algo-en/)"
      ]
    },
    {
      "cell_type": "markdown",
      "metadata": {
        "id": "HtLAG9GIFeX_"
      },
      "source": [
        "# Foundations\n",
        "\n",
        "Introduction\n"
      ]
    },
    {
      "cell_type": "markdown",
      "metadata": {
        "id": "fJ6UwAlFGhpx"
      },
      "source": [
        "## The Role of Algorithms in Computing\n",
        "\n",
        "Provides an overview of algorithms and their place in modern computing systems.\n",
        "This chapter defines what an algorithm is and list some examples. It also makes a case that should consider algorithms as a technology, along-side technologies such as fast hardware, graphical user interfaces, object-oriented systems, and networks."
      ]
    },
    {
      "cell_type": "markdown",
      "metadata": {
        "id": "LgdUtxIoNEom"
      },
      "source": [
        "Algorithms\n",
        "\n",
        "Computational Problem\n",
        "\n",
        "Input \n",
        "\n",
        "Output \n",
        "\n",
        "Instance\n",
        "\n",
        "What kinds of problems are solved by algorithms?\n",
        "\n",
        "Data Structure\n",
        "\n",
        "Technique\n",
        "\n",
        "Hard Problems\n",
        "\n",
        "Paralelism\n",
        "\n",
        "Exercises \n",
        "\n",
        "1.1.1\n",
        "\n",
        "1.1.2\n",
        "\n",
        "1.1.3\n",
        "\n",
        "1.1.4\n",
        "\n",
        "1.1.5\n",
        "\n",
        "Algorithms as a technology\n",
        "\n",
        "Efficiency \n",
        "\n",
        "Insertion sort\n",
        "\n",
        "Merge Sort\n",
        "\n",
        "Algorithms and other technologies\n",
        "\n",
        "Technology\n",
        "\n",
        "Exercises\n",
        "\n",
        "1.2.1\n",
        "\n",
        "1.2.2\n",
        "\n",
        "1.2.3\n",
        "\n",
        "Problems \n",
        "\n",
        "1-1"
      ]
    },
    {
      "cell_type": "markdown",
      "metadata": {
        "id": "LN-48_M2GjGw"
      },
      "source": [
        "## Getting Started\n",
        "\n",
        "We se our first algorithms, which solve the problem of sorting a sequence of $n$ numbers. They are written in a pseudocode which, although not directly translatable to any conventional programing language, conveys the structuer of th ealgorithm clearly enough that you should be able to implement in the langauge of your choice. The sorting algorithms we examine are insertion sort, which uses an incremetnal approach, and merge sort, which uses a recursive technique known as \"divide-and-conquer\". Although the time each requires increases with the value of $n$, the rate of increase differ between the two algorithms."
      ]
    },
    {
      "cell_type": "markdown",
      "metadata": {
        "id": "qOOlUtPVGkjM"
      },
      "source": [
        "## Growth of Functions\n",
        "\n",
        "Precisely defines this notation, which we call asymtopic notation. It starts by defining several asymptotic notations, which we use for bounding algorithm running times from above and/or below."
      ]
    },
    {
      "cell_type": "markdown",
      "metadata": {
        "id": "Gjthoa8tGmBR"
      },
      "source": [
        "## Divide-and-Conquer\n",
        "It provides additional examples of divide-and-conquer algorithm, including Strassen's surprising method for multiplying two square matrices. \n",
        "\n",
        "Our powerful technique is the \"master method,\" which we often use to solve recurrences that arise from didive-and-conquer algorithms."
      ]
    },
    {
      "cell_type": "markdown",
      "metadata": {
        "id": "0mfOHJHPGeRA"
      },
      "source": [
        "## Probabilistic Analysis and Randomized Algorithms\n",
        "\n",
        "Introduces probabilitic analysis adn randomized algorithms. We typically use probabilistic analysis to determine the runing time of an algorithm in cases in which, due to the presence of an inhertn probability distribution, the running time may differ on differnt inputs of the same size. "
      ]
    },
    {
      "cell_type": "markdown",
      "metadata": {
        "id": "pSC2_5BKFkeb"
      },
      "source": [
        "# Sorting and Order Statistics\n",
        "Introduction"
      ]
    },
    {
      "cell_type": "markdown",
      "metadata": {
        "id": "vx8gV4NgGvAD"
      },
      "source": [
        "6. Heapsort"
      ]
    },
    {
      "cell_type": "markdown",
      "metadata": {
        "id": "xveRB7pLGwe-"
      },
      "source": [
        "7. Quicksort"
      ]
    },
    {
      "cell_type": "markdown",
      "metadata": {
        "id": "dX-CGkHeGyLh"
      },
      "source": [
        "8. Sorting in Linear Time"
      ]
    },
    {
      "cell_type": "markdown",
      "metadata": {
        "id": "pBGOQ1e2Gt2v"
      },
      "source": [
        "9. Medians and Order Statistics"
      ]
    },
    {
      "cell_type": "markdown",
      "metadata": {
        "id": "eq5lzJnrFo4Y"
      },
      "source": [
        "# Data Structures\n",
        "Introduction"
      ]
    },
    {
      "cell_type": "markdown",
      "metadata": {
        "id": "zOVxX9a9G2n9"
      },
      "source": [
        "10. Elementary Data Structures"
      ]
    },
    {
      "cell_type": "markdown",
      "metadata": {
        "id": "Io1W3M1qG35j"
      },
      "source": [
        "11. Hash Tables"
      ]
    },
    {
      "cell_type": "markdown",
      "metadata": {
        "id": "6ljcf1neG68e"
      },
      "source": [
        "12. Binary Search Trees"
      ]
    },
    {
      "cell_type": "markdown",
      "metadata": {
        "id": "NWvs1C_wG8Qa"
      },
      "source": [
        "13. Red-Black Trees"
      ]
    },
    {
      "cell_type": "markdown",
      "metadata": {
        "id": "DMVi8WWsG10Q"
      },
      "source": [
        "14. Augmenting Data Structures"
      ]
    },
    {
      "cell_type": "markdown",
      "metadata": {
        "id": "_JaAmVY6FrRo"
      },
      "source": [
        "# Advanced Design and Analysis Techniques\n",
        "Introduction"
      ]
    },
    {
      "cell_type": "markdown",
      "metadata": {
        "id": "mC4ziYMtG_va"
      },
      "source": [
        "15. Dynamic Programming"
      ]
    },
    {
      "cell_type": "markdown",
      "metadata": {
        "id": "Az1z1vv3HBIJ"
      },
      "source": [
        "16. Greedy Algorithms"
      ]
    },
    {
      "cell_type": "markdown",
      "metadata": {
        "id": "HkrYMy9TG-nR"
      },
      "source": [
        "17. Amortized Analysis"
      ]
    },
    {
      "cell_type": "markdown",
      "metadata": {
        "id": "0xKjtzgwF0B7"
      },
      "source": [
        "# Advanced Data Structures\n",
        "\n",
        "Introduction"
      ]
    },
    {
      "cell_type": "markdown",
      "metadata": {
        "id": "BvmrHNByHHhR"
      },
      "source": [
        "18. B-Trees"
      ]
    },
    {
      "cell_type": "markdown",
      "metadata": {
        "id": "B5krmpS5HJZ6"
      },
      "source": [
        "19. Fibonacci Heaps"
      ]
    },
    {
      "cell_type": "markdown",
      "metadata": {
        "id": "w-G8AMDpHLXx"
      },
      "source": [
        "20. van Emde Boas Trees"
      ]
    },
    {
      "cell_type": "markdown",
      "metadata": {
        "id": "exglAIbeHGsT"
      },
      "source": [
        "21. Data Structures for Disjoint Sets"
      ]
    },
    {
      "cell_type": "markdown",
      "metadata": {
        "id": "xiiK66cZF3qc"
      },
      "source": [
        "# Graph Algorithms\n",
        "Introduction\n"
      ]
    },
    {
      "cell_type": "markdown",
      "metadata": {
        "id": "Xb_424NUHPzN"
      },
      "source": [
        "22. Elementary Graph Algorithms"
      ]
    },
    {
      "cell_type": "markdown",
      "metadata": {
        "id": "P8PyMTKZHQ_1"
      },
      "source": [
        "23. Minimum Spanning Trees"
      ]
    },
    {
      "cell_type": "markdown",
      "metadata": {
        "id": "OchL93chHSeL"
      },
      "source": [
        "24. Single-Source Shortset Paths"
      ]
    },
    {
      "cell_type": "markdown",
      "metadata": {
        "id": "pSOR4FtTHUCf"
      },
      "source": [
        "25. All-Pairs Shortest Paths"
      ]
    },
    {
      "cell_type": "markdown",
      "metadata": {
        "id": "O3OOsGmuHOt4"
      },
      "source": [
        "26. Maximum Flow"
      ]
    },
    {
      "cell_type": "markdown",
      "metadata": {
        "id": "m_-rzknUF6Nr"
      },
      "source": [
        "# Selected Topics\n",
        "Introduction\n"
      ]
    },
    {
      "cell_type": "markdown",
      "metadata": {
        "id": "6Jpn64o7HYgr"
      },
      "source": [
        "27. Multithreaded Algorithms"
      ]
    },
    {
      "cell_type": "markdown",
      "metadata": {
        "id": "tsnVCrZiHZrN"
      },
      "source": [
        "28. Matrix Operations"
      ]
    },
    {
      "cell_type": "markdown",
      "metadata": {
        "id": "QFW5lid8HbCk"
      },
      "source": [
        "29. Linear Programming"
      ]
    },
    {
      "cell_type": "markdown",
      "metadata": {
        "id": "jm_LkLK9HcW3"
      },
      "source": [
        "30. Polynomials and the FFT"
      ]
    },
    {
      "cell_type": "markdown",
      "metadata": {
        "id": "CWtW0ToxHiBC"
      },
      "source": [
        "31. Number-Theoretic Algorithms"
      ]
    },
    {
      "cell_type": "markdown",
      "metadata": {
        "id": "XnGV4ZXPHjoR"
      },
      "source": [
        "32. String Matching"
      ]
    },
    {
      "cell_type": "markdown",
      "metadata": {
        "id": "6HDomjrZHlNc"
      },
      "source": [
        "33. Computational Geometry"
      ]
    },
    {
      "cell_type": "markdown",
      "metadata": {
        "id": "20m6TjM1HnUw"
      },
      "source": [
        "34. NP-Completeness"
      ]
    },
    {
      "cell_type": "markdown",
      "metadata": {
        "id": "3ySVgBFlHXGM"
      },
      "source": [
        "35. Approximation Algorithms"
      ]
    },
    {
      "cell_type": "markdown",
      "metadata": {
        "id": "c6FVIoRn4eCQ"
      },
      "source": [
        "# Mathematical Background\n",
        "Introduction\n",
        "\n"
      ]
    },
    {
      "cell_type": "markdown",
      "metadata": {
        "id": "21YIvjNDHqso"
      },
      "source": [
        "A Summation"
      ]
    },
    {
      "cell_type": "markdown",
      "metadata": {
        "id": "FDvgDaOpHtkn"
      },
      "source": [
        "B Sets, Etc.\n"
      ]
    },
    {
      "cell_type": "markdown",
      "metadata": {
        "id": "zgBD5s4bHusI"
      },
      "source": [
        "C Counting and Probability"
      ]
    },
    {
      "cell_type": "markdown",
      "metadata": {
        "id": "drkZP4YRHvx7"
      },
      "source": [
        "D Matrices"
      ]
    }
  ]
}