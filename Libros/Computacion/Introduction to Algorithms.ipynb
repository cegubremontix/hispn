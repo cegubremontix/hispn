{
  "nbformat": 4,
  "nbformat_minor": 0,
  "metadata": {
    "kernelspec": {
      "display_name": "Python 2.7.18 64-bit",
      "name": "python2718jvsc74a57bd0f92b2924b84ff19c1c3dc485f7644d4486f64738191026bf8e6de303969141b5"
    },
    "language_info": {
      "name": "python",
      "version": ""
    },
    "metadata": {
      "interpreter": {
        "hash": "f92b2924b84ff19c1c3dc485f7644d4486f64738191026bf8e6de303969141b5"
      }
    },
    "orig_nbformat": 2,
    "colab": {
      "name": "Introduction to Algorithms.ipynb",
      "provenance": [],
      "include_colab_link": true
    }
  },
  "cells": [
    {
      "cell_type": "markdown",
      "metadata": {
        "id": "view-in-github",
        "colab_type": "text"
      },
      "source": [
        "<a href=\"https://colab.research.google.com/github/dbremont/Notas/blob/main/Libros/Computacion/Introduction%20to%20Algorithms.ipynb\" target=\"_parent\"><img src=\"https://colab.research.google.com/assets/colab-badge.svg\" alt=\"Open In Colab\"/></a>"
      ]
    },
    {
      "cell_type": "markdown",
      "metadata": {
        "id": "JPFrdwFR4k0V"
      },
      "source": [
        "Otros Recursos\n",
        "\n",
        "* [Algorithmic Thinking - lubaladong](https://labuladong.gitbook.io/algo-en/)"
      ]
    },
    {
      "cell_type": "markdown",
      "metadata": {
        "id": "HtLAG9GIFeX_"
      },
      "source": [
        "# Foundations\n",
        "\n",
        "Introduction\n"
      ]
    },
    {
      "cell_type": "markdown",
      "metadata": {
        "id": "fJ6UwAlFGhpx"
      },
      "source": [
        "## The Role of Algorithms in Computing\n",
        "\n",
        "Provides an overview of algorithms and their place in modern computing systems.\n",
        "This chapter defines what an algorithm is and list some examples. It also makes a case that should consider algorithms as a technology, along-side technologies such as fast hardware, graphical user interfaces, object-oriented systems, and networks."
      ]
    },
    {
      "cell_type": "markdown",
      "metadata": {
        "id": "LgdUtxIoNEom"
      },
      "source": [
        "Algorithms\n",
        "\n",
        "Computational Problem\n",
        "\n",
        "Input \n",
        "\n",
        "Output \n",
        "\n",
        "Instance\n",
        "\n",
        "What kinds of problems are solved by algorithms?\n",
        "\n",
        "Data Structure\n",
        "\n",
        "Technique\n",
        "\n",
        "Hard Problems\n",
        "\n",
        "Paralelism\n",
        "\n",
        "Exercises \n",
        "\n",
        "1.1.1\n",
        "\n",
        "1.1.2\n",
        "\n",
        "1.1.3\n",
        "\n",
        "1.1.4\n",
        "\n",
        "1.1.5\n",
        "\n",
        "Algorithms as a technology\n",
        "\n",
        "Efficiency \n",
        "\n",
        "Insertion sort\n",
        "\n",
        "Merge Sort\n",
        "\n",
        "Algorithms and other technologies\n",
        "\n",
        "Technology\n",
        "\n",
        "Exercises\n",
        "\n",
        "1.2.1\n",
        "\n",
        "1.2.2\n",
        "\n",
        "1.2.3\n",
        "\n",
        "Problems \n",
        "\n",
        "1-1"
      ]
    },
    {
      "cell_type": "markdown",
      "metadata": {
        "id": "LN-48_M2GjGw"
      },
      "source": [
        "## Getting Started\n",
        "\n",
        "We se our first algorithms, which solve the problem of sorting a sequence of $n$ numbers. They are written in a pseudocode which, although not directly translatable to any conventional programing language, conveys the structuer of th ealgorithm clearly enough that you should be able to implement in the langauge of your choice. The sorting algorithms we examine are insertion sort, which uses an incremetnal approach, and merge sort, which uses a recursive technique known as \"divide-and-conquer\". Although the time each requires increases with the value of $n$, the rate of increase differ between the two algorithms."
      ]
    },
    {
      "cell_type": "markdown",
      "metadata": {
        "id": "qOOlUtPVGkjM"
      },
      "source": [
        "## Growth of Functions\n",
        "\n",
        "Precisely defines this notation, which we call asymtopic notation. It starts by defining several asymptotic notations, which we use for bounding algorithm running times from above and/or below."
      ]
    },
    {
      "cell_type": "markdown",
      "metadata": {
        "id": "Gjthoa8tGmBR"
      },
      "source": [
        "## Divide-and-Conquer\n",
        "It provides additional examples of divide-and-conquer algorithm, including Strassen's surprising method for multiplying two square matrices. \n",
        "\n",
        "Our powerful technique is the \"master method,\" which we often use to solve recurrences that arise from didive-and-conquer algorithms."
      ]
    },
    {
      "cell_type": "markdown",
      "metadata": {
        "id": "0mfOHJHPGeRA"
      },
      "source": [
        "## Probabilistic Analysis and Randomized Algorithms\n",
        "\n",
        "Introduces probabilitic analysis adn randomized algorithms. We typically use probabilistic analysis to determine the runing time of an algorithm in cases in which, due to the presence of an inhertn probability distribution, the running time may differ on differnt inputs of the same size. "
      ]
    },
    {
      "cell_type": "markdown",
      "metadata": {
        "id": "pSC2_5BKFkeb"
      },
      "source": [
        "# Sorting and Order Statistics\n",
        "Introduction\n",
        "\n",
        "This part presetns several algorithms that solve the following **sorting problem**\n",
        "\n",
        "**Input**: A sequence of  $n$ numbers $(a_1, a_2, a_3, a_4, ..., a_n)$\n",
        "\n",
        "**Output**: A permutation (reordering)   $(a_1^\\prime, a_2^\\prime, a_3^\\prime, a_4^\\prime, ..., a_n^\\prime)$ of the inpute sequence such that $a_1^\\prime \\lt  a_2^\\prime \\lt  a_3^\\prime  \\lt a_4^\\prime \\lt  a_n^\\prime$\n",
        "\n",
        "\n",
        "The structure of the data\n",
        "\n",
        "In practice, the numbers to be sorted are rarely isolated values.\n",
        "Each is usually part of a collectio of data called a **record**. Each record contains a **key**, which is the value to be sorted. The remainder of the record consit of **satellite data**, which are usuaully carried around with the key. In practice, when a sorting algorithm permutes the keys, it must permute the satellite data as well. If each includes a large amount of satelite data, we often permute an aray of pointers to the records rather than the records themselves in roder to minize data movement.\n"
      ]
    },
    {
      "cell_type": "markdown",
      "metadata": {
        "id": "vx8gV4NgGvAD"
      },
      "source": [
        "## Heapsort\n",
        "\n",
        "Heapsort run time is $O(n \\lg n)$.\n",
        "\n",
        "Heapsort sort in place.\n",
        "\n",
        "Heapsort also introduces another algorithm design technique: usign a data structure, in this case on wel call a \"heap\", to manage information. Not only is the heap data structure useful for heapsort, but it also makes an effficient priotiy queeue. The heap data structure will reapper in the algorithms in later chapters.\n",
        "\n",
        "The term \"heap\" was origginaly coined in the context of  heapsort, but it has since come to refer to \"garbage-collected storage,\" shuch as the programming langgues Java and Lips provide. Our heap structure it not garbage-collected storage, and whenever we refer to heaps in this book, we shall mean a data structure rather than an aspect of garbage collection."
      ]
    },
    {
      "cell_type": "markdown",
      "metadata": {
        "id": "xveRB7pLGwe-"
      },
      "source": [
        "## Quicksort\n",
        "\n",
        "The quicksort algorithm has a worst-case running time of $\\Theta(n^2)$ on an input array of $n$ numbers.\n",
        "\n",
        "In the average case is $\\Theta(n \\lg n)$.\n",
        "\n",
        "It has the property of implace sort."
      ]
    },
    {
      "cell_type": "markdown",
      "metadata": {
        "id": "dX-CGkHeGyLh"
      },
      "source": [
        "## Sorting in Linear Time\n",
        "\n",
        "Comparison algorithms, the sorted order they determine is based only on comparisons between the input elements.\n",
        "\n"
      ]
    },
    {
      "cell_type": "markdown",
      "metadata": {
        "id": "X_aApb1Zhana"
      },
      "source": [
        "The decision-tree model\n",
        "\n",
        "Counting sort\n",
        "\n",
        "Radix sort\n",
        "\n",
        "Bucket sort\n"
      ]
    },
    {
      "cell_type": "markdown",
      "metadata": {
        "id": "pBGOQ1e2Gt2v"
      },
      "source": [
        "##  Medians and Order Statistics\n",
        "\n",
        "The $i$ th **order statistic** of a set of $n$ elements is the $i$ th smallest element.\n",
        "\n",
        "This chapter addresses the problem of seleten the $i$ th order statisitic from a set of $n$ distinct numbers."
      ]
    },
    {
      "cell_type": "markdown",
      "metadata": {
        "id": "eq5lzJnrFo4Y"
      },
      "source": [
        "# Data Structures\n",
        "Introduction\n",
        "\n",
        "Sets are as fundamental to computer sicnece as they are to mathematics. Whereas matheamtical sets are unchahing, the sets manipulated by algorithms can grow, shrink, or otherwise change over time. We call such sets **dynamic**.\n",
        "\n",
        "The next five chapters present some basic techniques for  representign finite dynamic sets and manipulating them on a computer.\n",
        "\n",
        "Algorithms may require several different types of operations to be performed on sets. May algorithms need only the ability to insert elements into, delete elements , we call this dynamic sets **ditionary**\n",
        "\n",
        "Some operations on sets:\n",
        "\n",
        "Search,\n",
        "\n",
        "Insert,\n",
        "\n",
        "Delete,\n",
        "\n",
        "Mininum\n",
        "\n",
        "Maximun\n",
        "\n",
        "Succesor\n",
        "\n",
        "Predecessor\n"
      ]
    },
    {
      "cell_type": "markdown",
      "metadata": {
        "id": "zOVxX9a9G2n9"
      },
      "source": [
        "## Elementary Data Structures\n",
        "\n",
        "Represent a set with a simple data structure that uses pointers."
      ]
    },
    {
      "cell_type": "markdown",
      "metadata": {
        "id": "9mpg1JdKjsqJ"
      },
      "source": [
        "Stacks\n",
        "\n",
        "Queues\n",
        "\n",
        "Linked lists\n",
        "\n",
        "Implementing pointers and objects\n",
        "\n",
        "Representing rooted trees"
      ]
    },
    {
      "cell_type": "markdown",
      "metadata": {
        "id": "Io1W3M1qG35j"
      },
      "source": [
        "## Hash Tables\n",
        "\n",
        "A hash table generalizes the  simpler notation of an ordinary array.\n",
        "\n",
        "A hash table is an excelent technique for implementing dictionaries."
      ]
    },
    {
      "cell_type": "markdown",
      "metadata": {
        "id": "6ljcf1neG68e"
      },
      "source": [
        "## Binary Search Trees"
      ]
    },
    {
      "cell_type": "markdown",
      "metadata": {
        "id": "iNz4PFYLl4si"
      },
      "source": [
        "What is a binary search tree?\n",
        "\n",
        "Querying a binary search tree"
      ]
    },
    {
      "cell_type": "markdown",
      "metadata": {
        "id": "NWvs1C_wG8Qa"
      },
      "source": [
        "## Red-Black Trees"
      ]
    },
    {
      "cell_type": "markdown",
      "metadata": {
        "id": "1EbdxwXomout"
      },
      "source": [
        "What is a red-black tree?\n",
        "\n"
      ]
    },
    {
      "cell_type": "markdown",
      "metadata": {
        "id": "DMVi8WWsG10Q"
      },
      "source": [
        "## Augmenting Data Structures"
      ]
    },
    {
      "cell_type": "markdown",
      "metadata": {
        "id": "dA-aIwfYm4-z"
      },
      "source": [
        "Dynamic order statistics\n",
        "\n",
        "Retrieving an element with a given rank\n",
        "\n",
        "Determining the rank of an element\n",
        "\n",
        "Maintaining subtree sizes\n",
        "\n",
        "How to augmetn a data structure?\n",
        "\n",
        "Augmenting red-back trees\n",
        "\n",
        "Interval trees\n"
      ]
    },
    {
      "cell_type": "markdown",
      "metadata": {
        "id": "_JaAmVY6FrRo"
      },
      "source": [
        "# Advanced Design and Analysis Techniques\n",
        "Introduction\n",
        "\n",
        "This part covers three important techniques used in designin gand analyzing efficient algorithms: \n",
        "\n",
        "- dynamic programing, \n",
        "- greedy algorithms,\n",
        "- amortized analysis"
      ]
    },
    {
      "cell_type": "markdown",
      "metadata": {
        "id": "mC4ziYMtG_va"
      },
      "source": [
        "## Dynamic Programming\n",
        "\n",
        "Dynamic programming, like the dive-and-conquer method, solves problems by combining solutions to subproblems. \"Programming\" in this context means tabular method.\n",
        "\n",
        "\n",
        "Dynamic programing applies when subproblems overlap."
      ]
    },
    {
      "cell_type": "markdown",
      "metadata": {
        "id": "Az1z1vv3HBIJ"
      },
      "source": [
        "##  Greedy Algorithms\n",
        "\n",
        "Are algorithms that makes the best choice at every moment."
      ]
    },
    {
      "cell_type": "markdown",
      "metadata": {
        "id": "Egjzm9gzol9S"
      },
      "source": [
        "Elements of a greedy strategy\n",
        "\n",
        "Greedy versus dynamic programing\n",
        "\n",
        "Huffman codes\n",
        "\n",
        "Matroids"
      ]
    },
    {
      "cell_type": "markdown",
      "metadata": {
        "id": "HkrYMy9TG-nR"
      },
      "source": [
        "## Amortized Analysis\n",
        "\n",
        "In amortized analysis, we average the time required to perform a sequence of data-structure operations over all the operations performed."
      ]
    },
    {
      "cell_type": "markdown",
      "metadata": {
        "id": "0xKjtzgwF0B7"
      },
      "source": [
        "# Advanced Data Structures\n",
        "\n",
        "Introduction\n",
        "\n"
      ]
    },
    {
      "cell_type": "markdown",
      "metadata": {
        "id": "BvmrHNByHHhR"
      },
      "source": [
        "## B-Trees\n",
        "\n",
        "B-trees are balanced search trees designed to work well on disks or  other direct-aceses secondary storage devices."
      ]
    },
    {
      "cell_type": "markdown",
      "metadata": {
        "id": "oY8Jf2W8rUbJ"
      },
      "source": [
        "Data structures on secondary storage\n",
        "\n",
        "Definition of B-trees\n",
        "\n",
        "The height of a B-tree\n",
        "\n",
        "Basic operations on B-trees\n"
      ]
    },
    {
      "cell_type": "markdown",
      "metadata": {
        "id": "B5krmpS5HJZ6"
      },
      "source": [
        "## Fibonacci Heaps\n",
        "\n",
        "The Fibonacci heap data structure serves a dual purpose. First, it supports a set of operations that constitudes what is known as a \"mergeable heap\". Second, several Fibonacci-heap operations run in constant amortized time, which makes this data structure well suited rfor applications that invoke these operations frequently."
      ]
    },
    {
      "cell_type": "markdown",
      "metadata": {
        "id": "w-G8AMDpHLXx"
      },
      "source": [
        "## van Emde Boas Trees\n",
        "\n",
        "proto van Emde Boas structures\n",
        "\n",
        "The van Embde Boas Tree"
      ]
    },
    {
      "cell_type": "markdown",
      "metadata": {
        "id": "exglAIbeHGsT"
      },
      "source": [
        "## Data Structures for Disjoint Sets\n",
        "\n",
        "Some applications involke grouping $n$ distinct elements into a collection of disjoint sets.\n"
      ]
    },
    {
      "cell_type": "markdown",
      "metadata": {
        "id": "brPLtX7jslKI"
      },
      "source": [
        "Disjoint-set operations\n",
        "\n",
        "An application of disjoint-set data structures\n",
        "\n",
        "Linked-list representatio of disjoint sets\n",
        "\n",
        "Disjoint-set forest"
      ]
    },
    {
      "cell_type": "markdown",
      "metadata": {
        "id": "xiiK66cZF3qc"
      },
      "source": [
        "# Graph Algorithms\n",
        "Introduction\n"
      ]
    },
    {
      "cell_type": "markdown",
      "metadata": {
        "id": "Xb_424NUHPzN"
      },
      "source": [
        "## Elementary Graph Algorithms\n",
        "\n",
        "This chapter presents methods for representing a gprah and for searching a  graph. Searching a graph means systematicaly following the edges of the graph so as to visit the vertices of the graph. A graph-searching algorithm can discover much about the structure of a graph. Many algorithms begin by searching their input graph to obtain  this structural information."
      ]
    },
    {
      "cell_type": "markdown",
      "metadata": {
        "id": "Vrwe55ORt1ve"
      },
      "source": [
        "Representations of graphs\n",
        "\n",
        "Representing attributes\n",
        "\n",
        "Breadh-first search\n",
        "\n",
        "Shortest paths\n",
        "\n",
        "Classifiation of edges\n",
        "\n",
        "Topological sort\n",
        "\n",
        "Strongly connected components"
      ]
    },
    {
      "cell_type": "markdown",
      "metadata": {
        "id": "P8PyMTKZHQ_1"
      },
      "source": [
        "## Minimum Spanning Trees"
      ]
    },
    {
      "cell_type": "markdown",
      "metadata": {
        "id": "KUyMkT-3uYC7"
      },
      "source": [
        "What is a minum spanning tree?\n",
        "\n",
        "Kruskal's algorithm\n",
        "\n"
      ]
    },
    {
      "cell_type": "markdown",
      "metadata": {
        "id": "OchL93chHSeL"
      },
      "source": [
        "## Single-Source Shortset Paths"
      ]
    },
    {
      "cell_type": "markdown",
      "metadata": {
        "id": "95eN4bHputxd"
      },
      "source": [
        "Shortest path\n",
        "\n",
        "Negative-weight edges\n",
        "\n",
        "Cycles\n",
        "\n",
        "Representing shortest paths\n",
        "\n",
        "The Bellman-Ford algorithm\n",
        "\n",
        "Dijkstra's algorithm\n"
      ]
    },
    {
      "cell_type": "markdown",
      "metadata": {
        "id": "pSOR4FtTHUCf"
      },
      "source": [
        "## All-Pairs Shortest Paths\n",
        "\n",
        "In this chapter, we consider the problem of finding shortest paths between all pairs of vertices in a graph."
      ]
    },
    {
      "cell_type": "markdown",
      "metadata": {
        "id": "O3OOsGmuHOt4"
      },
      "source": [
        "## Maximum Flow\n",
        "\n",
        "Just as we can model a road map as sirected graph in order to find the shortest path from one point to another, we can also interpret a directec graph as a \"flow network\" and use it to answer questions about material flows."
      ]
    },
    {
      "cell_type": "markdown",
      "metadata": {
        "id": "8yaO08O7v6_3"
      },
      "source": [
        "Flow networks\n",
        "\n",
        "Modelling problems with antiparallel edges\n",
        "\n",
        "Networks with multiple sources and sinks"
      ]
    },
    {
      "cell_type": "markdown",
      "metadata": {
        "id": "m_-rzknUF6Nr"
      },
      "source": [
        "# Selected Topics\n",
        "Introduction\n"
      ]
    },
    {
      "cell_type": "markdown",
      "metadata": {
        "id": "6Jpn64o7HYgr"
      },
      "source": [
        "## Multithreaded Algorithms\n",
        "\n"
      ]
    },
    {
      "cell_type": "markdown",
      "metadata": {
        "id": "bJxUoDEky0vt"
      },
      "source": [
        "Static threading\n",
        "\n",
        "Threads\n",
        "\n",
        "Concurrency platforms\n",
        "\n",
        "Dynamic multithreading\n",
        "\n",
        "Parallel \n",
        "\n",
        "Spawn\n",
        "\n",
        "Sync\n",
        "\n",
        "The basic of dynamic multithreading\n",
        "\n",
        "A model for multithraded execution\n",
        "\n",
        "Performace measure\n",
        "\n",
        "Scheduling\n",
        "\n",
        "Analyzing multithreaded algorithms\n",
        "\n",
        "Parallel loops\n",
        "\n",
        "Race conditions\n",
        "\n"
      ]
    },
    {
      "cell_type": "markdown",
      "metadata": {
        "id": "tsnVCrZiHZrN"
      },
      "source": [
        "## Matrix Operations"
      ]
    },
    {
      "cell_type": "markdown",
      "metadata": {
        "id": "rC6lyZSJzrBv"
      },
      "source": [
        "Solving systems of linear equations\n",
        "\n",
        "Overview of LUP decomposition"
      ]
    },
    {
      "cell_type": "markdown",
      "metadata": {
        "id": "QFW5lid8HbCk"
      },
      "source": [
        "## Linear Programming"
      ]
    },
    {
      "cell_type": "markdown",
      "metadata": {
        "id": "Ged_OIX6z5Dj"
      },
      "source": [
        "A political problem\n",
        "\n",
        "General linear programs\n",
        "\n",
        "An overview of linear programming\n",
        "\n",
        "Aplications of linear programming\n",
        "\n",
        "Maximum-cost flow\n",
        "\n",
        "The Simplex algorithm\n",
        "\n",
        "The formal simplex algorithm\n",
        "\n"
      ]
    },
    {
      "cell_type": "markdown",
      "metadata": {
        "id": "XnGV4ZXPHjoR"
      },
      "source": [
        "## String Matching\n",
        "\n",
        "Text-editing porograms frequently need to find all occurences of a patern in the text. Typically,  the text is a document being edited, and the pattern searched for is a particular word supplied by the user."
      ]
    },
    {
      "cell_type": "markdown",
      "metadata": {
        "id": "nQJBil6e1DCm"
      },
      "source": [
        "Notation and terminology\n",
        "\n",
        "The naive-matching algorithm\n",
        "\n",
        "The Rabin-Karp algorithm\n",
        "\n",
        "String matching with finite automata\n",
        "\n",
        "The Knuth-Morris-Pratt algorithm"
      ]
    },
    {
      "cell_type": "markdown",
      "metadata": {
        "id": "6HDomjrZHlNc"
      },
      "source": [
        "## Computational Geometry\n",
        "\n",
        "Computational Geometry is the branch of computer science that studies algorithms for solving geometric problems. In modern engineering and mathematics, computational geometry has applications in such diverse fields as computer graphics, robotics, VSLI design, computer-aided design, molecular modelling, metallurgy, manufacturing, textile layout, forestry, and statistics."
      ]
    },
    {
      "cell_type": "markdown",
      "metadata": {
        "id": "kGOCuclt1X2g"
      },
      "source": [
        "Line-segment properties\n",
        "\n",
        "Determining whether consecutive segment turn left or right\n",
        "\n",
        "Determining whether any pair of segments intersects\n",
        "\n",
        "Ordering segments\n",
        "\n",
        "Moving the sweep line\n",
        "\n",
        "Finding the convex hull\n",
        "\n",
        "Graham's scan\n",
        "\n",
        "Jarvis's march\n",
        "\n",
        "Finding the closest pair of points"
      ]
    },
    {
      "cell_type": "markdown",
      "metadata": {
        "id": "3ySVgBFlHXGM"
      },
      "source": [
        "## Approximation Algorithms\n",
        "\n"
      ]
    },
    {
      "cell_type": "markdown",
      "metadata": {
        "id": "GAzvoFJI416o"
      },
      "source": [
        "The vertex-convert problem\n",
        "\n",
        "The raveling-salesman problem\n",
        "\n",
        "The general traveling-salesman problem\n",
        "\n",
        "The set-covering problem\n",
        "\n",
        "A greedy approximation algorithm\n",
        "\n",
        "Randomization and linear programming\n",
        "\n",
        "The subset-sum problem\n",
        "\n"
      ]
    },
    {
      "cell_type": "markdown",
      "metadata": {
        "id": "c6FVIoRn4eCQ"
      },
      "source": [
        "# Mathematical Background\n",
        "Introduction\n",
        "\n"
      ]
    },
    {
      "cell_type": "markdown",
      "metadata": {
        "id": "21YIvjNDHqso"
      },
      "source": [
        "## Summation"
      ]
    },
    {
      "cell_type": "markdown",
      "metadata": {
        "id": "FDvgDaOpHtkn"
      },
      "source": [
        "## Sets, Etc.\n"
      ]
    },
    {
      "cell_type": "markdown",
      "metadata": {
        "id": "zgBD5s4bHusI"
      },
      "source": [
        "## Counting and Probability"
      ]
    },
    {
      "cell_type": "markdown",
      "metadata": {
        "id": "drkZP4YRHvx7"
      },
      "source": [
        "## Matrices"
      ]
    }
  ]
}