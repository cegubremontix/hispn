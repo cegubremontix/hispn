{
  "nbformat": 4,
  "nbformat_minor": 0,
  "metadata": {
    "colab": {
      "name": "Windows Internals.ipynb",
      "provenance": [],
      "authorship_tag": "ABX9TyP3Ac8/64qHqhD/OKDWv8JB",
      "include_colab_link": true
    },
    "kernelspec": {
      "name": "python3",
      "display_name": "Python 3"
    },
    "language_info": {
      "name": "python"
    }
  },
  "cells": [
    {
      "cell_type": "markdown",
      "metadata": {
        "id": "view-in-github",
        "colab_type": "text"
      },
      "source": [
        "<a href=\"https://colab.research.google.com/github/dbremont/Notas/blob/main/Windows_Internals.ipynb\" target=\"_parent\"><img src=\"https://colab.research.google.com/assets/colab-badge.svg\" alt=\"Open In Colab\"/></a>"
      ]
    },
    {
      "cell_type": "markdown",
      "metadata": {
        "id": "NIbZ2eDW7zik"
      },
      "source": [
        "## Concepts and Tools"
      ]
    },
    {
      "cell_type": "markdown",
      "metadata": {
        "id": "I6w2Omz3D_re"
      },
      "source": [
        "## System Architecture"
      ]
    },
    {
      "cell_type": "markdown",
      "metadata": {
        "id": "AuRdiRUCECC6"
      },
      "source": [
        "## System Mechanisms"
      ]
    },
    {
      "cell_type": "markdown",
      "metadata": {
        "id": "NDxnP4BvEE5A"
      },
      "source": [
        "## Management Mechanisms"
      ]
    },
    {
      "cell_type": "markdown",
      "metadata": {
        "id": "nIHOmlNTEIcb"
      },
      "source": [
        "## Processes, Threads, and Jobs"
      ]
    },
    {
      "cell_type": "markdown",
      "metadata": {
        "id": "YloOdW5uELlC"
      },
      "source": [
        "## Security"
      ]
    },
    {
      "cell_type": "markdown",
      "metadata": {
        "id": "T6D9m61tENdJ"
      },
      "source": [
        "## I/O System"
      ]
    },
    {
      "cell_type": "markdown",
      "metadata": {
        "id": "Brq-jKK7EP6X"
      },
      "source": [
        "## Storage Management"
      ]
    },
    {
      "cell_type": "markdown",
      "metadata": {
        "id": "dmU8OfjbER3i"
      },
      "source": [
        "## Memory Management"
      ]
    },
    {
      "cell_type": "markdown",
      "metadata": {
        "id": "TTgnHz3jEUyP"
      },
      "source": [
        "## Cache Manager"
      ]
    },
    {
      "cell_type": "markdown",
      "metadata": {
        "id": "cSVKQlfkEYrY"
      },
      "source": [
        "## File Systems"
      ]
    },
    {
      "cell_type": "markdown",
      "metadata": {
        "id": "VP4KKE69EatS"
      },
      "source": [
        "## Networking"
      ]
    },
    {
      "cell_type": "markdown",
      "metadata": {
        "id": "laL-plRGEc3B"
      },
      "source": [
        "## Startup and Shutdown"
      ]
    },
    {
      "cell_type": "markdown",
      "metadata": {
        "id": "MMSW7i3UEfG9"
      },
      "source": [
        "## Cash Dump Analysis"
      ]
    }
  ]
}