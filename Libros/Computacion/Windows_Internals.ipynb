{
  "nbformat": 4,
  "nbformat_minor": 0,
  "metadata": {
    "colab": {
      "name": "Windows Internals.ipynb",
      "provenance": [],
      "toc_visible": true,
      "authorship_tag": "ABX9TyMcllA8ySyEOzrmlhsTAVUX",
      "include_colab_link": true
    },
    "kernelspec": {
      "name": "python3",
      "display_name": "Python 3"
    },
    "language_info": {
      "name": "python"
    }
  },
  "cells": [
    {
      "cell_type": "markdown",
      "metadata": {
        "id": "view-in-github",
        "colab_type": "text"
      },
      "source": [
        "<a href=\"https://colab.research.google.com/github/dbremont/Notas/blob/main/Libros/Computacion/Windows_Internals.ipynb\" target=\"_parent\"><img src=\"https://colab.research.google.com/assets/colab-badge.svg\" alt=\"Open In Colab\"/></a>"
      ]
    },
    {
      "cell_type": "markdown",
      "metadata": {
        "id": "RS1NnB-zl_of"
      },
      "source": [
        "https://docs.microsoft.com/en-us/sysinternals/\n",
        "\n",
        "https://docs.microsoft.com/en-us/windows/win32/apiindex/windows-api-list\n",
        "\n",
        "https://stackoverflow.com/questions/35494644/is-a-com-server-a-server/35499845\n",
        "\n",
        "https://en.wikipedia.org/wiki/Programming_model"
      ]
    },
    {
      "cell_type": "markdown",
      "metadata": {
        "id": "NIbZ2eDW7zik"
      },
      "source": [
        "## Concepts and Tools"
      ]
    },
    {
      "cell_type": "markdown",
      "metadata": {
        "id": "CzlXgpNKw_fx"
      },
      "source": [
        "Windows API\n",
        "\n",
        "Is the system programming interface fot he Windows operating system family. \n",
        "\n",
        "The Windows API consists of thousands of callable functions, which are divided into the folowing major categories:\n",
        "\n",
        "- Base Services,\n",
        "- Component Services,\n",
        "- User Interface Services,\n",
        "- Graphics and Multimedia Services,\n",
        "- Messaging and Collaboration,\n",
        "- Networking,\n",
        "- Web Services\n",
        "\n",
        "**This book focuses on the internals of the key base services, such as processes and threads, memory mangagement, I/O, and security.**\n",
        "\n",
        "What is about **.NET**?\n",
        "\n",
        "The .NET Framework consists of a library of classes called the Framework Class Library (FCL) and a Common Language Runtime (CLR) that provides a managed code execution environment with features such as just-in-time compilation, type verification, garbage collection, and code access security.\n",
        "\n",
        "\n",
        "The CLR is implemented as a classic COM server whose code resides in a stardard user-mode Windows DLL. In fact, all components of the .NET Framework are implemented as standard user-mode Windows DLLs layered over unmanaged Windows API functions."
      ]
    },
    {
      "cell_type": "markdown",
      "metadata": {
        "id": "peXtwur6Q3dH"
      },
      "source": [
        "### Services, Functions, and Routines"
      ]
    },
    {
      "cell_type": "markdown",
      "metadata": {
        "id": "p1kZfGI_Q9sP"
      },
      "source": [
        "Some terminology\n",
        "\n",
        "**Windows API functions**:  Documented, callable subroutines in the Windows API. Examples: *CreateProcess*, *CreateFile*, and *GetMessage*\n",
        "\n",
        "\n",
        "**Native system services (or executive system services)**: The undocumented, underlying services in the operating sysetm that are callable from user mode. For example, *NtCreateProcessEX* is the internal system service that *CrateProcess* function calls to create a new process.\n",
        "\n",
        "\n",
        "**Kernel support functions (or routines)**: Subroutines inside the Windows operating system that can be called only from kernel mode.\n",
        "\n",
        "\n",
        "**Windows services**: Processes started by the Windows service control manager. \n",
        "\n",
        "**DLLs (dynamic-link libraries)**: A set of callable subroutine linked together as a binary file thatr can be dynamically loaded y aplications that use the subroutines. \n"
      ]
    },
    {
      "cell_type": "markdown",
      "metadata": {
        "id": "8J6bbr_nTmL5"
      },
      "source": [
        "### Processes, Threads, and Jobs"
      ]
    },
    {
      "cell_type": "markdown",
      "metadata": {
        "id": "GZjTJkRMTo5r"
      },
      "source": [
        "A program is a static sequence of instructions, whereas a *process* is a container for a set of resources used when executing the instance of a program. As the highest level of abstraction, a Windows process compriss the following#\n",
        "\n",
        "- A private virtual address space, which is a set of a virtual memory addresses that the process can use,\n",
        "\n",
        "- An executable program, which defines initial code and data and is mapped into the process's virtual address space,\n",
        "\n",
        "- A list of open handles to various system resources,  such as semaphores, communication ports, and  files, that are accesible to all threads in the process\n",
        "\n",
        "- A unique identifier called a process ID \n",
        "\n",
        "- At least on thread of execution (although an \"empty\" process is possible, is not useful)\n",
        "\n",
        "- `tlist /t`: to see the process list\n",
        "\n",
        "**Experiment** Viewving Process Information with Task Manager\n",
        "\n",
        "\n",
        "A **thread** is the entity within a **process**  that Windows schedules for execution. Without it, the process's program can't run. A thread includes the following essential components:\n",
        "\n",
        "- The contents of a set of **CPU** registers representing the state of the processor.\n",
        "\n",
        "- Two stacks, one for the thread to use while executing in kernel mode and one for executing user mode.\n",
        "\n",
        "- A private storage are called thread-local storage (TLS) for use by subsystems, run-time libraries, and DLLS.\n",
        "\n",
        "- A unique identifier called *thread ID* (also internally called a client ID - process IDs and thread IDs are generated out of the same namespace, so they never overlap).\n",
        "\n",
        "- Threads sometimes have their own security context tha is often by multithreaded server applications that impersonate the security context of the clients that they serve.\n",
        "\n",
        "- **Fibers vs Threads**: Fibers allow an application to schedule its own 'threads' of execution rather than rely on the priority-based schedulign scheduling mechanims build into Windows. Fibers are often called 'lightweight' threads, and in therms of scheduling, they're invisible to the kernel becuase they're implemented in user mode in Kernel32.dll. To use fibers, a call is first made to Windows *'ConvertThreadFiber'* function. This function converts the thread to a running fiber.\n",
        "\n",
        "Although threads have their own  execution context, every thread within a process shares the process's virtual address space (in addition to the rest of the resources belonging to the process), meaning tha tall the threads in a process can write to and read from each others's memory.\n",
        "\n",
        "Windows provides an extention of the process model called a **job**. A job objects's main function is to allow groups of processes to be managed and manipulated as a unit. "
      ]
    },
    {
      "cell_type": "markdown",
      "metadata": {
        "id": "4Dax4tTR3g42"
      },
      "source": [
        "### Virtual Memory"
      ]
    },
    {
      "cell_type": "markdown",
      "metadata": {
        "id": "WiXykO7R3ixJ"
      },
      "source": [
        "..."
      ]
    },
    {
      "cell_type": "markdown",
      "metadata": {
        "id": "I6w2Omz3D_re"
      },
      "source": [
        "\n",
        "## System Architecture"
      ]
    },
    {
      "cell_type": "markdown",
      "metadata": {
        "id": "AuRdiRUCECC6"
      },
      "source": [
        "## System Mechanisms"
      ]
    },
    {
      "cell_type": "markdown",
      "metadata": {
        "id": "NDxnP4BvEE5A"
      },
      "source": [
        "## Management Mechanisms"
      ]
    },
    {
      "cell_type": "markdown",
      "metadata": {
        "id": "nIHOmlNTEIcb"
      },
      "source": [
        "## Processes, Threads, and Jobs"
      ]
    },
    {
      "cell_type": "markdown",
      "metadata": {
        "id": "YloOdW5uELlC"
      },
      "source": [
        "## Security"
      ]
    },
    {
      "cell_type": "markdown",
      "metadata": {
        "id": "T6D9m61tENdJ"
      },
      "source": [
        "## I/O System"
      ]
    },
    {
      "cell_type": "markdown",
      "metadata": {
        "id": "Brq-jKK7EP6X"
      },
      "source": [
        "## Storage Management"
      ]
    },
    {
      "cell_type": "markdown",
      "metadata": {
        "id": "dmU8OfjbER3i"
      },
      "source": [
        "## Memory Management"
      ]
    },
    {
      "cell_type": "markdown",
      "metadata": {
        "id": "TTgnHz3jEUyP"
      },
      "source": [
        "## Cache Manager"
      ]
    },
    {
      "cell_type": "markdown",
      "metadata": {
        "id": "cSVKQlfkEYrY"
      },
      "source": [
        "## File Systems"
      ]
    },
    {
      "cell_type": "markdown",
      "metadata": {
        "id": "VP4KKE69EatS"
      },
      "source": [
        "## Networking"
      ]
    },
    {
      "cell_type": "markdown",
      "metadata": {
        "id": "laL-plRGEc3B"
      },
      "source": [
        "## Startup and Shutdown"
      ]
    },
    {
      "cell_type": "markdown",
      "metadata": {
        "id": "MMSW7i3UEfG9"
      },
      "source": [
        "## Cash Dump Analysis"
      ]
    }
  ]
}