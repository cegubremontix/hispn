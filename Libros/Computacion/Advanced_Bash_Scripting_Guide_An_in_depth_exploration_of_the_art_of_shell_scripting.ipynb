{
  "nbformat": 4,
  "nbformat_minor": 0,
  "metadata": {
    "colab": {
      "name": "Advanced Bash-Scripting Guide An in-depth exploration of the art of shell scripting.ipynb",
      "provenance": [],
      "authorship_tag": "ABX9TyPs14nP0RhFc+JtSpsZJ3SA",
      "include_colab_link": true
    },
    "kernelspec": {
      "name": "python3",
      "display_name": "Python 3"
    },
    "language_info": {
      "name": "python"
    }
  },
  "cells": [
    {
      "cell_type": "markdown",
      "metadata": {
        "id": "view-in-github",
        "colab_type": "text"
      },
      "source": [
        "<a href=\"https://colab.research.google.com/github/dbremont/Notas/blob/main/Libros/Computacion/Advanced_Bash_Scripting_Guide_An_in_depth_exploration_of_the_art_of_shell_scripting.ipynb\" target=\"_parent\"><img src=\"https://colab.research.google.com/assets/colab-badge.svg\" alt=\"Open In Colab\"/></a>"
      ]
    },
    {
      "cell_type": "markdown",
      "metadata": {
        "id": "5WisNjhZnTU9"
      },
      "source": [
        "[Advanced Bash-Scripting Guide](https://tldp.org/LDP/abs/html/index.html)"
      ]
    },
    {
      "cell_type": "markdown",
      "metadata": {
        "id": "xJqUh-Bs1qMj"
      },
      "source": [
        "## Shell Programming!"
      ]
    },
    {
      "cell_type": "markdown",
      "metadata": {
        "id": "ZJyv7glHA1JV"
      },
      "source": [
        "## Starting Off With a Sha-Bang"
      ]
    },
    {
      "cell_type": "markdown",
      "metadata": {
        "id": "PLuW6U9IA7OP"
      },
      "source": [
        "## Special Characters"
      ]
    },
    {
      "cell_type": "markdown",
      "metadata": {
        "id": "J0B5-JXFA8uQ"
      },
      "source": [
        "## Introduction to Variables and Parameters"
      ]
    },
    {
      "cell_type": "markdown",
      "metadata": {
        "id": "c6POuhI6A-Rr"
      },
      "source": [
        "## Quoting"
      ]
    },
    {
      "cell_type": "markdown",
      "metadata": {
        "id": "AxSg2ljnA_sj"
      },
      "source": [
        "## Exit and Exit Status"
      ]
    },
    {
      "cell_type": "markdown",
      "metadata": {
        "id": "PEhlxB2aBCMH"
      },
      "source": [
        "## Tests"
      ]
    },
    {
      "cell_type": "markdown",
      "metadata": {
        "id": "zk_WitteA1oe"
      },
      "source": [
        "## Operations and Related Topics"
      ]
    },
    {
      "cell_type": "markdown",
      "metadata": {
        "id": "LVnX4drnBLFA"
      },
      "source": [
        "## Another Look at Variables"
      ]
    },
    {
      "cell_type": "markdown",
      "metadata": {
        "id": "CUHX7H0TBMW6"
      },
      "source": [
        "## Manipulating Variables"
      ]
    },
    {
      "cell_type": "markdown",
      "metadata": {
        "id": "i03wgmCCBNvy"
      },
      "source": [
        "## Loops and Branches"
      ]
    },
    {
      "cell_type": "markdown",
      "metadata": {
        "id": "GC_Qcq3pBPhO"
      },
      "source": [
        "## Command Substitution"
      ]
    },
    {
      "cell_type": "markdown",
      "metadata": {
        "id": "BfZR7oorBRIu"
      },
      "source": [
        "## Arithmetic Expansion"
      ]
    },
    {
      "cell_type": "markdown",
      "metadata": {
        "id": "5uj7JA-tBHVH"
      },
      "source": [
        "\n",
        "## Recess Time"
      ]
    },
    {
      "cell_type": "markdown",
      "metadata": {
        "id": "8eb-oibpBXBE"
      },
      "source": [
        "## Internal Commands and Builtins"
      ]
    },
    {
      "cell_type": "markdown",
      "metadata": {
        "id": "DiLXvP2WBYtA"
      },
      "source": [
        "## External Filters, Programs and Commands"
      ]
    },
    {
      "cell_type": "markdown",
      "metadata": {
        "id": "Dht2MCcJBUhD"
      },
      "source": [
        "## System and Administrative Commands"
      ]
    },
    {
      "cell_type": "markdown",
      "metadata": {
        "id": "muNStspnBna3"
      },
      "source": [
        "## Regular Expressions"
      ]
    },
    {
      "cell_type": "markdown",
      "metadata": {
        "id": "uBX5YLeDBpDY"
      },
      "source": [
        "## Here Documents"
      ]
    },
    {
      "cell_type": "markdown",
      "metadata": {
        "id": "Jvjz2LxzBqdE"
      },
      "source": [
        "## I/O Redirection"
      ]
    },
    {
      "cell_type": "markdown",
      "metadata": {
        "id": "htDA9ePmBrvY"
      },
      "source": [
        "## Subshells"
      ]
    },
    {
      "cell_type": "markdown",
      "metadata": {
        "id": "VcuRbWF2BteF"
      },
      "source": [
        "## Restricted Shells"
      ]
    },
    {
      "cell_type": "markdown",
      "metadata": {
        "id": "K4VCE7gJBvsy"
      },
      "source": [
        "## Process Substitution"
      ]
    },
    {
      "cell_type": "markdown",
      "metadata": {
        "id": "Dhhw0AxbBzo2"
      },
      "source": [
        "## Functions"
      ]
    },
    {
      "cell_type": "markdown",
      "metadata": {
        "id": "ipEtVXdDB2fb"
      },
      "source": [
        "## Aliases"
      ]
    },
    {
      "cell_type": "markdown",
      "metadata": {
        "id": "bxiIOpx7B3zj"
      },
      "source": [
        "## List Constructs"
      ]
    },
    {
      "cell_type": "markdown",
      "metadata": {
        "id": "c84vZoRGB5wt"
      },
      "source": [
        "## Arrays"
      ]
    },
    {
      "cell_type": "markdown",
      "metadata": {
        "id": "NKmsv7ZcB7RE"
      },
      "source": [
        "## Indirect References"
      ]
    },
    {
      "cell_type": "markdown",
      "metadata": {
        "id": "LqXapqcSB8mH"
      },
      "source": [
        "## /dev and /proc"
      ]
    },
    {
      "cell_type": "markdown",
      "metadata": {
        "id": "VZK_W4zGB97-"
      },
      "source": [
        "## Network Programming"
      ]
    },
    {
      "cell_type": "markdown",
      "metadata": {
        "id": "xu6mLhX_B_R_"
      },
      "source": [
        "## Of Zeros and Nulls"
      ]
    },
    {
      "cell_type": "markdown",
      "metadata": {
        "id": "QiUHIlo2CAgn"
      },
      "source": [
        "## Debugging"
      ]
    },
    {
      "cell_type": "markdown",
      "metadata": {
        "id": "cysylDQ1CBz_"
      },
      "source": [
        "## Options"
      ]
    },
    {
      "cell_type": "markdown",
      "metadata": {
        "id": "X16nEiIrCDP8"
      },
      "source": [
        "## Gotchas"
      ]
    },
    {
      "cell_type": "markdown",
      "metadata": {
        "id": "GgjFjw3VCEv1"
      },
      "source": [
        "## Scripting With Style"
      ]
    },
    {
      "cell_type": "markdown",
      "metadata": {
        "id": "EP2ZAMs7CGYe"
      },
      "source": [
        "## Miscellany"
      ]
    },
    {
      "cell_type": "markdown",
      "metadata": {
        "id": "_ISLAc21Bb1w"
      },
      "source": [
        "## Bash, versions 2, 3, and 4\n"
      ]
    }
  ]
}