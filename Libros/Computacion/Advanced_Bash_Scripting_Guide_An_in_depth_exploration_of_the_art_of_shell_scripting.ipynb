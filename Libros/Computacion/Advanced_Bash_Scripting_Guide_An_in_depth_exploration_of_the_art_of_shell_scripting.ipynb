{
  "nbformat": 4,
  "nbformat_minor": 0,
  "metadata": {
    "colab": {
      "name": "Advanced Bash-Scripting Guide An in-depth exploration of the art of shell scripting.ipynb",
      "provenance": [],
      "toc_visible": true,
      "include_colab_link": true
    },
    "kernelspec": {
      "name": "python3",
      "display_name": "Python 3"
    },
    "language_info": {
      "name": "python"
    }
  },
  "cells": [
    {
      "cell_type": "markdown",
      "metadata": {
        "id": "view-in-github",
        "colab_type": "text"
      },
      "source": [
        "<a href=\"https://colab.research.google.com/github/dbremont/Notas/blob/main/Libros/Computacion/Advanced_Bash_Scripting_Guide_An_in_depth_exploration_of_the_art_of_shell_scripting.ipynb\" target=\"_parent\"><img src=\"https://colab.research.google.com/assets/colab-badge.svg\" alt=\"Open In Colab\"/></a>"
      ]
    },
    {
      "cell_type": "markdown",
      "metadata": {
        "id": "5WisNjhZnTU9"
      },
      "source": [
        "[Advanced Bash-Scripting Guide](https://tldp.org/LDP/abs/html/index.html)"
      ]
    },
    {
      "cell_type": "markdown",
      "metadata": {
        "id": "xJqUh-Bs1qMj"
      },
      "source": [
        "## Shell Programming!"
      ]
    },
    {
      "cell_type": "markdown",
      "metadata": {
        "id": "MZxaHzBF1AVg"
      },
      "source": [
        "**When not to use shell scripts**\n",
        "\n",
        "- Resource-intensive tasks, especially where speed is a factor (sorting, hashing, recursion [2] ...)\n",
        "\n",
        "- Procedures involving heavy-duty math operations, especially floating point arithmetic, arbitrary precision calculations, or complex numbers (use C++ or FORTRAN instead)\n",
        "\n",
        "- Cross-platform portability required (use C or Java instead)\n",
        "\n",
        "- Complex applications, where structured programming is a necessity (type-checking of variables, function prototypes, etc.)\n",
        "\n",
        "- Mission-critical applications upon which you are betting the future of the company\n",
        "\n",
        "- Situations where security is important, where you need to guarantee the integrity of your system and protect against intrusion, cracking, and vandalism\n",
        "\n",
        "- Project consists of subcomponents with interlocking dependencies\n",
        "\n",
        "- Extensive file operations required (Bash is limited to serial file access, and that only in a particularly clumsy and inefficient line-by-line fashion.)\n",
        "\n",
        "- Need native support for multi-dimensional arrays\n",
        "\n",
        "- Need data structures, such as linked lists or trees\n",
        "\n",
        "- Need to generate / manipulate graphics or GUIs\n",
        "\n",
        "- Need direct access to system hardware or external peripherals\n",
        "\n",
        "- Need port or socket I/O\n",
        "\n",
        "- Need to use libraries or interface with legacy code\n",
        "\n",
        "- Proprietary, closed-source applications (Shell scripts put the source code right out in the open for all the world to see.)\n",
        "\n"
      ]
    },
    {
      "cell_type": "markdown",
      "metadata": {
        "id": "ZJyv7glHA1JV"
      },
      "source": [
        "## Starting Off With a Sha-Bang"
      ]
    },
    {
      "cell_type": "markdown",
      "metadata": {
        "id": "ZPp_dKGA21Lw"
      },
      "source": [
        "[Shebang (Unix)](https://en.wikipedia.org/wiki/Shebang_(Unix))\n",
        "\n",
        "[Magic number (programming)](https://en.wikipedia.org/wiki/Magic_number_(programming))\n",
        "\n",
        "[What's a file system's \"magic\" number in a super block?](https://superuser.com/questions/239088/whats-a-file-systems-magic-number-in-a-super-block)\n",
        "\n",
        "\\#!\n",
        "\n",
        "When a text file with a shebang is used as if it is an executable in a Unix-like operating system, the program loader mechanism parses the rest of the file's initial line as an interpreter directive. The loader executes the specified interpreter program, passing to it as an argument the path that was initially used when attempting to run the script, so that the program may use the file as input data. For example, if a script is named with the path path/to/script, and it starts with the following line, \\#!/bin/sh, then the program loader is instructed to run the program /bin/sh, passing path/to/script as the first argument. In Linux, this behavior is the result of both kernel and user-space code.\n",
        "\n",
        "\n",
        "The shebang is actually a human-readable instance of a magic number in the executable file, the magic byte string being 0x23 0x21, the two-character encoding in ASCII of \\#!. This magic number is detected by the \"exec\" family of functions, which determine whether a file is a script or an executable binary. The presence of the shebang will result in the execution of the specified executable, usually an interpreter for the script's language. It has been claimed that some old versions of Unix expect the normal shebang to be followed by a space and a slash (#! /), but this appears to be untrue; rather, blanks after the shebang have traditionally been allowed, and sometimes documented with a space (see the 1980 email in history section below).\n",
        "\n",
        "type ```man magic```\n",
        "\n",
        "**Invoking the script**\n",
        "\n",
        "- chmod 555 scriptname (gives everyone read/execute permission)\n",
        "- chmod +rx scriptname (gives everyone read/execute permission)\n",
        "- chmod u+rx scriptname (gives only the script owner read/execute permission)\n",
        "\n",
        "\n",
        "**Exercises**\n",
        "\n",
        "\n",
        "Script that shows the time and date\n",
        "\n",
        "- ```date```\n",
        "\n",
        "Script that shows all log users\n",
        "\n",
        "- ```who```\n",
        "\n",
        "Script that shows the uptime\n",
        "\n",
        "- ```uptime```\n",
        "\n",
        " \n",
        "\n",
        "  "
      ]
    },
    {
      "cell_type": "markdown",
      "metadata": {
        "id": "PLuW6U9IA7OP"
      },
      "source": [
        "## Special Characters"
      ]
    },
    {
      "cell_type": "markdown",
      "metadata": {
        "id": "b61H4Wdp-MFh"
      },
      "source": [
        "What makes a character special? If it has a meaning beyond its ```literal meaning```, a [meta-meaning](https://tldp.org/LDP/abs/html/x17129.html#METAMEANINGREF), then we refer to it as a special character. Along with commands and keywords, special characters are building blocks of Bash scripts.\n",
        "\n",
        "- Comments (#)\n",
        "\n",
        "- Command separator [semicolon]. Permits putting two or more commands on the same line (;)\n",
        "\n",
        "- \"dot\" command [period]. Equivalent to [source](https://tldp.org/LDP/abs/html/internal.html#SOURCEREF). This is a bash [builtin](https://tldp.org/LDP/abs/html/internal.html#BUILTINREF).\n",
        "\n",
        "- \"dot\", as a component of a filename. (.)\n",
        "\n",
        "-  \"dot\" character match. When matching characters, as part of a regular expression, a \"dot\" matches a single character. (.)\n",
        "\n",
        "- partial quoting [double quote]. \"STRING\" preserves (from interpretation) most of the special characters within STRING (\")\n",
        "\n",
        "- full quoting [single quote]. 'STRING' preserves all special characters within STRING. This is a stronger form of quoting than \"STRING\". (')\n",
        "\n",
        "- escape [backslash]. A quoting mechanism for single characters. (\\)\n",
        "\n",
        "- Filename path separator [forward slash] (/)\n",
        "\n",
        "- command substitution. The `command` construct makes available the output of command for assignment to a variable. This is also known as backquotes or backticks. (`)\n",
        "\n",
        "-  null command [colon]. This is the shell equivalent of a \"NOP\" (no op, a do-nothing operation). It may be considered a synonym for the shell builtin true. The \":\" command is itself a Bash builtin, and its exit status is true (0)(:) \n",
        "\n",
        "- wild card [asterisk]. The * character serves as a \"wild card\" for filename expansion in globbing. By itself, it matches every filename in a given directory. (*)\n",
        "\n",
        "- arithmetic operator. In the context of arithmetic operations, the * denotes multiplication. (*)\n",
        "\n",
        "- test operator. Within certain expressions, the ? indicates a test for a condition. (?)\n",
        "\n",
        "- wild card. The ? character serves as a single-character \"wild card\" for filename expansion in globbing, as well as representing one character in an extended regular expression (?)\n",
        "\n",
        "- Variable substitution (contents of a variable). A $ prefixing a variable name indicates the value the variable holds. ($)\n",
        "\n",
        "- end-of-line. In a regular expression, a \"$\" addresses the end of a line of text. ($)\n",
        "\n",
        "- Parameter substitution. ${}\n",
        "\n",
        "- process ID variable. The $$ variable holds the process ID [4] of the script in which it appears. ($$)\n",
        "\n",
        "- Extended Brace expansion. {a..z}\n",
        "\n",
        "- placeholder for text. Used after xargs -i (replace strings option). The {} double curly brackets are a placeholder for output text. ({})\n",
        "\n",
        "- test ([ ]).\n",
        "\n",
        "- range of characters. As part of a regular expression, brackets delineate a range of characters to match. ([ ])\n",
        "\n",
        "- Redirecion (>, &>, >&, >>, <, <>)\n",
        "\n",
        "- process substitution (command)> <(command)\n",
        "\n",
        "- pipe. Passes the output (stdout) of a previous command to the input (stdin) of the next one, or to the shell. This is a method of chaining commands together. (|)\n",
        "\n",
        "-  OR logical operator. In a test construct, the || operator causes a return of 0 (success) if either of the linked test conditions is true. (||)\n",
        " \n",
        "- Run job in background. A command followed by an & will run in the background. (&)\n",
        " \n",
        "- AND logical operator. In a test construct, the && operator causes a return of 0 (success) only if both the linked test conditions are true. (&&)\n",
        "\n",
        "- previous working directory (-)\n",
        "\n",
        "- home directory [tilde] (~) This corresponds to the $HOME internal variable. ~bozo is bozo's home directory, and ls ~bozo lists the contents of it. ~/ is the current user's home directory, and ls ~/ lists the contents of it.\n",
        "\n",
        "- beginning-of-line. In a regular expression, a \"^\" addresses the beginning of a line of text. (^)\n",
        "\n",
        "- Break. Terminate a foreground job. (Ctl-C)\n",
        "\n",
        "- Backwards search for text in history buffer (on the command-line). (Ctl-R)\n",
        "\n",
        "- Pauses a foreground job. (Ctl-Z)\n"
      ]
    },
    {
      "cell_type": "markdown",
      "metadata": {
        "id": "J0B5-JXFA8uQ"
      },
      "source": [
        "## Introduction to Variables and Parameters"
      ]
    },
    {
      "cell_type": "markdown",
      "metadata": {
        "id": "kP0U3lIKWPiQ"
      },
      "source": [
        "**Variable**\n",
        "\n",
        "**Variables** are how programming and scripting languages represent data. A variable is nothing more than a label, a name assigned to a location or set of locations in computer memory holding an item of data.\n",
        "\n",
        "**Variables** appear in arithmetic operations and manipulation of quantities, and in string parsing.\n",
        "\n",
        "\n",
        "**Variable Substitution**\n",
        "\n",
        "The *name* of a variable is a placeholder for its *value*, the data it holds.\n",
        "\n",
        "This is done with the (\\$) special character.\n",
        "\n",
        "\\$variable is the simplify form of \\${variable}.\n",
        "\n",
        "\"\\${variable}\" vs '\\${variable}'\n",
        "\n",
        "**Variabe Assignment**\n",
        "\n",
        "the assignment operator (no space before and after) (=)\n",
        "\n",
        "**Assignment**\n",
        "\n",
        "```BASH\n",
        "a=879\n",
        "echo \"The value of \\\"a\\\" is $a.\"\n",
        "\n",
        "# Assignment\n",
        "arch = $(uname -m) # see command subtitution\n",
        "```\n",
        "**Special Variable Types**\n",
        "\n",
        "\n",
        "*Local Variables* Variables *visible* only within a *code block* or function (see also *local variables* in *functions*)\n",
        "\n",
        "*Environmental variables* Variables that affect the behavio of the shell and user interface.\n",
        "\n",
        "*Positional parameters* The special variables $* and $@ denote all the positional parameters.\n"
      ]
    },
    {
      "cell_type": "markdown",
      "metadata": {
        "id": "c6POuhI6A-Rr"
      },
      "source": [
        "## Quoting"
      ]
    },
    {
      "cell_type": "markdown",
      "metadata": {
        "id": "9y3QA7ViY4GT"
      },
      "source": [
        "Quoting means just that, bracketing a string in quotes. This has the effect of protecting special characters in the string from reinterpretation or expansion by the shell or shell script. (A character is \"special\" if it has an interpretation other than its literal meaning. For example, the asterisk * represents a wild card character in globbing and Regular Expressions).\n",
        "\n",
        "\n",
        "In everyday speech or writing, when we \"quote\" a phrase, we set it apart and give it special meaning. In a Bash script, when we quote a string, we set it apart and protect its literal meaning.\n",
        "\n",
        "\n",
        "[Symbolic Data](https://sarabander.github.io/sicp/html/2_002e3.xhtml#g_t2_002e3)\n",
        "\n",
        "```BASH\n",
        "List=\"one two three\"\n",
        "\n",
        "for a in $List     # Splits the variable in parts at whitespace.\n",
        "do\n",
        "  echo \"$a\"\n",
        "done\n",
        "# one\n",
        "# two\n",
        "# three\n",
        "\n",
        "echo \"---\"\n",
        "\n",
        "for a in \"$List\"   # Preserves whitespace in a single variable.\n",
        "do #     ^     ^\n",
        "  echo \"$a\"\n",
        "done\n",
        "# one two three\n",
        "```\n",
        "\n",
        "**Escaping**\n",
        "\n",
        "Escaping is a method of quoting single characters. The escape (\\\\) preceding a character tells the shell to interpret that character literally.\n",
        "\n",
        "**Special meanings of certain escaped characters**\n",
        "\n",
        "used with echo and sed\n",
        "\\n\n",
        "means newline\n",
        "\n",
        "\\r\n",
        "means return\n",
        "\n",
        "\\t\n",
        "means tab\n",
        "\n",
        "\\v\n",
        "means vertical tab\n",
        "\n",
        "\\b\n",
        "means backspace\n",
        "\n",
        "\\a\n",
        "means alert (beep or flash)\n",
        "\n"
      ]
    },
    {
      "cell_type": "markdown",
      "metadata": {
        "id": "PEhlxB2aBCMH"
      },
      "source": [
        "## Tests"
      ]
    },
    {
      "cell_type": "markdown",
      "metadata": {
        "id": "zk_WitteA1oe"
      },
      "source": [
        "## Operations and Related Topics"
      ]
    },
    {
      "cell_type": "markdown",
      "metadata": {
        "id": "LVnX4drnBLFA"
      },
      "source": [
        "## Another Look at Variables"
      ]
    },
    {
      "cell_type": "markdown",
      "metadata": {
        "id": "CUHX7H0TBMW6"
      },
      "source": [
        "## Manipulating Variables"
      ]
    },
    {
      "cell_type": "markdown",
      "metadata": {
        "id": "i03wgmCCBNvy"
      },
      "source": [
        "## Loops and Branches"
      ]
    },
    {
      "cell_type": "markdown",
      "metadata": {
        "id": "GC_Qcq3pBPhO"
      },
      "source": [
        "## Command Substitution"
      ]
    },
    {
      "cell_type": "markdown",
      "metadata": {
        "id": "BfZR7oorBRIu"
      },
      "source": [
        "## Arithmetic Expansion"
      ]
    },
    {
      "cell_type": "markdown",
      "metadata": {
        "id": "5uj7JA-tBHVH"
      },
      "source": [
        "\n",
        "## Recess Time"
      ]
    },
    {
      "cell_type": "markdown",
      "metadata": {
        "id": "8eb-oibpBXBE"
      },
      "source": [
        "## Internal Commands and Builtins"
      ]
    },
    {
      "cell_type": "markdown",
      "metadata": {
        "id": "DiLXvP2WBYtA"
      },
      "source": [
        "## External Filters, Programs and Commands"
      ]
    },
    {
      "cell_type": "markdown",
      "metadata": {
        "id": "Dht2MCcJBUhD"
      },
      "source": [
        "## System and Administrative Commands"
      ]
    },
    {
      "cell_type": "markdown",
      "metadata": {
        "id": "muNStspnBna3"
      },
      "source": [
        "## Regular Expressions"
      ]
    },
    {
      "cell_type": "markdown",
      "metadata": {
        "id": "uBX5YLeDBpDY"
      },
      "source": [
        "## Here Documents"
      ]
    },
    {
      "cell_type": "markdown",
      "metadata": {
        "id": "Jvjz2LxzBqdE"
      },
      "source": [
        "## I/O Redirection"
      ]
    },
    {
      "cell_type": "markdown",
      "metadata": {
        "id": "htDA9ePmBrvY"
      },
      "source": [
        "## Subshells"
      ]
    },
    {
      "cell_type": "markdown",
      "metadata": {
        "id": "VcuRbWF2BteF"
      },
      "source": [
        "## Restricted Shells"
      ]
    },
    {
      "cell_type": "markdown",
      "metadata": {
        "id": "K4VCE7gJBvsy"
      },
      "source": [
        "## Process Substitution"
      ]
    },
    {
      "cell_type": "markdown",
      "metadata": {
        "id": "Dhhw0AxbBzo2"
      },
      "source": [
        "## Functions"
      ]
    },
    {
      "cell_type": "markdown",
      "metadata": {
        "id": "ipEtVXdDB2fb"
      },
      "source": [
        "## Aliases"
      ]
    },
    {
      "cell_type": "markdown",
      "metadata": {
        "id": "bxiIOpx7B3zj"
      },
      "source": [
        "## List Constructs"
      ]
    },
    {
      "cell_type": "markdown",
      "metadata": {
        "id": "c84vZoRGB5wt"
      },
      "source": [
        "## Arrays"
      ]
    },
    {
      "cell_type": "markdown",
      "metadata": {
        "id": "NKmsv7ZcB7RE"
      },
      "source": [
        "## Indirect References"
      ]
    },
    {
      "cell_type": "markdown",
      "metadata": {
        "id": "LqXapqcSB8mH"
      },
      "source": [
        "## /dev and /proc"
      ]
    },
    {
      "cell_type": "markdown",
      "metadata": {
        "id": "VZK_W4zGB97-"
      },
      "source": [
        "## Network Programming"
      ]
    },
    {
      "cell_type": "markdown",
      "metadata": {
        "id": "xu6mLhX_B_R_"
      },
      "source": [
        "## Of Zeros and Nulls"
      ]
    },
    {
      "cell_type": "markdown",
      "metadata": {
        "id": "QiUHIlo2CAgn"
      },
      "source": [
        "## Debugging"
      ]
    },
    {
      "cell_type": "markdown",
      "metadata": {
        "id": "cysylDQ1CBz_"
      },
      "source": [
        "## Options"
      ]
    },
    {
      "cell_type": "markdown",
      "metadata": {
        "id": "X16nEiIrCDP8"
      },
      "source": [
        "## Gotchas"
      ]
    },
    {
      "cell_type": "markdown",
      "metadata": {
        "id": "GgjFjw3VCEv1"
      },
      "source": [
        "## Scripting With Style"
      ]
    },
    {
      "cell_type": "markdown",
      "metadata": {
        "id": "EP2ZAMs7CGYe"
      },
      "source": [
        "## Miscellany"
      ]
    },
    {
      "cell_type": "markdown",
      "metadata": {
        "id": "_ISLAc21Bb1w"
      },
      "source": [
        "## Bash, versions 2, 3, and 4\n"
      ]
    }
  ]
}