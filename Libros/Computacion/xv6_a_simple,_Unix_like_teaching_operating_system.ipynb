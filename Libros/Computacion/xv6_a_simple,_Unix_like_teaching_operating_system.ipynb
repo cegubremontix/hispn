{
  "nbformat": 4,
  "nbformat_minor": 0,
  "metadata": {
    "colab": {
      "name": "xv6: a simple, Unix-like teaching operating system.ipynb",
      "provenance": [],
      "authorship_tag": "ABX9TyMIGR3R0gwZjV9dV9Gs0A84",
      "include_colab_link": true
    },
    "kernelspec": {
      "name": "python3",
      "display_name": "Python 3"
    },
    "language_info": {
      "name": "python"
    }
  },
  "cells": [
    {
      "cell_type": "markdown",
      "metadata": {
        "id": "view-in-github",
        "colab_type": "text"
      },
      "source": [
        "<a href=\"https://colab.research.google.com/github/dbremont/Notas/blob/main/Libros/Computacion/xv6_a_simple%2C_Unix_like_teaching_operating_system.ipynb\" target=\"_parent\"><img src=\"https://colab.research.google.com/assets/colab-badge.svg\" alt=\"Open In Colab\"/></a>"
      ]
    },
    {
      "cell_type": "markdown",
      "metadata": {
        "id": "QlbR9PaO0klA"
      },
      "source": [
        "- [xv6: a simple, Unix-like teaching operating system](https://pdos.csail.mit.edu/6.S081/2020/xv6/book-riscv-rev1.pdf)"
      ]
    },
    {
      "cell_type": "markdown",
      "metadata": {
        "id": "7EmQD60KxrtI"
      },
      "source": [
        "- [QEMU setup instructions](http://www.cs.columbia.edu/~junfeng/11sp-w4118/tools.html)"
      ]
    },
    {
      "cell_type": "markdown",
      "metadata": {
        "id": "LzJs3I4z3DEX"
      },
      "source": [
        "## Operative system interfaces"
      ]
    },
    {
      "cell_type": "markdown",
      "metadata": {
        "id": "1SJizz0YBGDX"
      },
      "source": [
        "-  The job of the operating system is to share a computer among multiple programs and to provide a more useful set of services than the hardware alone supports. \n",
        "\n",
        "- An **os** abstract the low-level hardware, so for example a word processor does not need to know which type of disk hardware is being used.\n",
        "\n",
        "- An **os**  provides servicies to users programs through an **interface**. Designign a good interface is dificult.\n",
        "\n",
        "- Good interfaces:\n",
        "  - Simples,\n",
        "  - Narrow -> makes easier to get the implementation right.\n",
        "\n",
        "- In order to design a good **os** interface one has to balance the services that the interface provides vs its simplicify + narrowness.\n",
        "  - A good way to find this balance is to provides a few mechanisms that can be combine to providate much generality.\n",
        "\n",
        "- **kernel** a special program that provides services to other programs.\n",
        "- Each running program is called a **process**, has memory containing instructions, data, and a stack. The instructions implement the programs computations.\n",
        "\n",
        "- The computations alters the data.\n",
        "\n",
        "- The stack organizes the programs's procedures calls.\n",
        "\n",
        "- When a proces needs to invoke a kernel service, it invokes a **system call**, one of the calls in the operating system's interface. The system enters  the kernel; the kernel performs the service and returns. Thus a process alternates between executing in **user space** and **kernel space**.\n",
        "\n",
        "- The kernel uses the hardware protectiosn mechanims provided by the **CPU**,  to ensure that each process  executing in user space can access only its own memory.\n",
        "\n",
        "- The kernel executes with the hardware privileges.\n",
        "\n",
        "- When a user program invokes a system call, the hardware raises the privilege level and starts executing a pre-arranged function in the kernel.\n",
        "\n",
        "- The collection of system calls that a kernel  provides is the interface that users programs see.\n",
        "\n",
        "\n",
        "**Processes and Memory**\n",
        "\n",
        "\n",
        "  ## Preguntas, Ejercicios\n",
        "\n",
        "  - see the shell in user/sh.c\n",
        "  - hardware privilemod\n",
        "  - userpace vs kernel space\n",
        "  - system calls\n",
        "  - what is an os\n",
        "  - trade offs in designing an os interface?\n",
        "  - what are the componetns of a process?"
      ]
    }
  ]
}