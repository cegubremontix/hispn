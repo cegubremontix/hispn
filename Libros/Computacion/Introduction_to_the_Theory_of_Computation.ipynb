{
  "nbformat": 4,
  "nbformat_minor": 0,
  "metadata": {
    "colab": {
      "name": "Introduction to the Theory of Computation.ipynb",
      "provenance": [],
      "authorship_tag": "ABX9TyPhQsUo7grk+b2ZJ2V2F9yc",
      "include_colab_link": true
    },
    "kernelspec": {
      "name": "python3",
      "display_name": "Python 3"
    },
    "language_info": {
      "name": "python"
    }
  },
  "cells": [
    {
      "cell_type": "markdown",
      "metadata": {
        "id": "view-in-github",
        "colab_type": "text"
      },
      "source": [
        "<a href=\"https://colab.research.google.com/github/dbremont/Notas/blob/main/Libros/Computacion/Introduction_to_the_Theory_of_Computation.ipynb\" target=\"_parent\"><img src=\"https://colab.research.google.com/assets/colab-badge.svg\" alt=\"Open In Colab\"/></a>"
      ]
    },
    {
      "cell_type": "markdown",
      "metadata": {
        "id": "b8s2pOsqNkDi"
      },
      "source": [
        "## Introduction"
      ]
    },
    {
      "cell_type": "markdown",
      "metadata": {
        "id": "sAtVTyAWNl8s"
      },
      "source": [
        "# Automata and Languages"
      ]
    },
    {
      "cell_type": "markdown",
      "metadata": {
        "id": "JbjQRKSjNvAS"
      },
      "source": [
        "## Regular Languages"
      ]
    },
    {
      "cell_type": "markdown",
      "metadata": {
        "id": "__lkSHAHNyLN"
      },
      "source": [
        "## Context-Free Languages"
      ]
    },
    {
      "cell_type": "markdown",
      "metadata": {
        "id": "Stwf6QYxN0WM"
      },
      "source": [
        "# Computability Theory"
      ]
    },
    {
      "cell_type": "markdown",
      "metadata": {
        "id": "WbC_F93LN3z6"
      },
      "source": [
        "## The Church-Turing Thesis"
      ]
    },
    {
      "cell_type": "markdown",
      "metadata": {
        "id": "x_veKi8iN83R"
      },
      "source": [
        "## Decidability"
      ]
    },
    {
      "cell_type": "markdown",
      "metadata": {
        "id": "EvB5oYnLN-1d"
      },
      "source": [
        "## Reducacility"
      ]
    },
    {
      "cell_type": "markdown",
      "metadata": {
        "id": "U73T6BPrOAjS"
      },
      "source": [
        "## Advaced Topics in Computability Theory"
      ]
    },
    {
      "cell_type": "markdown",
      "metadata": {
        "id": "KmUrVJAPOFnh"
      },
      "source": [
        "# Complexity Theory"
      ]
    },
    {
      "cell_type": "markdown",
      "metadata": {
        "id": "eSdUqJNbOHoa"
      },
      "source": [
        "## Time Complexity"
      ]
    },
    {
      "cell_type": "markdown",
      "metadata": {
        "id": "Do5fdIdgOJnv"
      },
      "source": [
        "## Space Complexity"
      ]
    },
    {
      "cell_type": "markdown",
      "metadata": {
        "id": "v_6PsriFOL4R"
      },
      "source": [
        "## Intractability"
      ]
    },
    {
      "cell_type": "markdown",
      "metadata": {
        "id": "VBTh4GuJONSs"
      },
      "source": [
        "## Advanced Topics in Complexity Theory"
      ]
    }
  ]
}