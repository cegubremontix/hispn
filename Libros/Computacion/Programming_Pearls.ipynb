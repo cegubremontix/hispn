{
  "nbformat": 4,
  "nbformat_minor": 0,
  "metadata": {
    "colab": {
      "name": "Programming Pearls.ipynb",
      "provenance": [],
      "toc_visible": true,
      "authorship_tag": "ABX9TyPaBxegOmtQLjd5UmqXYwVb",
      "include_colab_link": true
    },
    "kernelspec": {
      "name": "python3",
      "display_name": "Python 3"
    },
    "language_info": {
      "name": "python"
    }
  },
  "cells": [
    {
      "cell_type": "markdown",
      "metadata": {
        "id": "view-in-github",
        "colab_type": "text"
      },
      "source": [
        "<a href=\"https://colab.research.google.com/github/dbremont/Notas/blob/main/Libros/Computacion/Programming_Pearls.ipynb\" target=\"_parent\"><img src=\"https://colab.research.google.com/assets/colab-badge.svg\" alt=\"Open In Colab\"/></a>"
      ]
    },
    {
      "cell_type": "markdown",
      "metadata": {
        "id": "Ece22H0tpTpb"
      },
      "source": [
        "# Programming Pearls\n",
        "\n"
      ]
    },
    {
      "cell_type": "markdown",
      "metadata": {
        "id": "CVlYTavhIZ2a"
      },
      "source": [
        "## Preliminaries"
      ]
    },
    {
      "cell_type": "markdown",
      "metadata": {
        "id": "oh-3QugvPQNV"
      },
      "source": [
        "### Cracking the Oyster"
      ]
    },
    {
      "cell_type": "markdown",
      "metadata": {
        "id": "h3xvHvcbPUFv"
      },
      "source": [
        "### Aha! Algorithms"
      ]
    },
    {
      "cell_type": "markdown",
      "metadata": {
        "id": "qWJ7D5skPWb1"
      },
      "source": [
        "### Data Structures Programs"
      ]
    },
    {
      "cell_type": "markdown",
      "metadata": {
        "id": "Y3_xiofKPYqE"
      },
      "source": [
        "### Writing Correct Programs"
      ]
    },
    {
      "cell_type": "markdown",
      "metadata": {
        "id": "Ke8ZbaC1Pa6Z"
      },
      "source": [
        "### A Small Matter of Programming"
      ]
    },
    {
      "cell_type": "markdown",
      "metadata": {
        "id": "H3h68RrRJy0l"
      },
      "source": [
        "## Performace"
      ]
    },
    {
      "cell_type": "markdown",
      "metadata": {
        "id": "dhDWARxwJ08-"
      },
      "source": [
        "## The Product"
      ]
    },
    {
      "cell_type": "markdown",
      "metadata": {
        "id": "yzfDcMUuJ393"
      },
      "source": [
        "## Appendix 1: A Catalog of Algorithms"
      ]
    },
    {
      "cell_type": "markdown",
      "metadata": {
        "id": "gnfz_aDqJ-co"
      },
      "source": [
        "## Appendix 2: An Estimation Quiz"
      ]
    },
    {
      "cell_type": "markdown",
      "metadata": {
        "id": "7mL2xWBEKD0L"
      },
      "source": [
        "## Appendix 3: Cost Models for Time and Space"
      ]
    },
    {
      "cell_type": "markdown",
      "metadata": {
        "id": "Q4EXLJOFKGfA"
      },
      "source": [
        "## Appendix 4: Rules for Code Tuning"
      ]
    },
    {
      "cell_type": "markdown",
      "metadata": {
        "id": "ILAVG0vxKJ8O"
      },
      "source": [
        "## Appendix 5: C++ Classes for Searching"
      ]
    },
    {
      "cell_type": "markdown",
      "metadata": {
        "id": "lFef_VpFKNk3"
      },
      "source": [
        "## Hints for Selected Problems"
      ]
    },
    {
      "cell_type": "markdown",
      "metadata": {
        "id": "lLZqQ6XVKSoy"
      },
      "source": [
        "## Solutions for Selected Problems"
      ]
    }
  ]
}