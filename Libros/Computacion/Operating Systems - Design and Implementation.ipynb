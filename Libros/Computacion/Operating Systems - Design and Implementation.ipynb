{
  "nbformat": 4,
  "nbformat_minor": 0,
  "metadata": {
    "kernelspec": {
      "display_name": "Python 2.7.18 64-bit",
      "name": "python2718jvsc74a57bd0f92b2924b84ff19c1c3dc485f7644d4486f64738191026bf8e6de303969141b5"
    },
    "language_info": {
      "name": "python",
      "version": ""
    },
    "metadata": {
      "interpreter": {
        "hash": "f92b2924b84ff19c1c3dc485f7644d4486f64738191026bf8e6de303969141b5"
      }
    },
    "orig_nbformat": 2,
    "colab": {
      "name": "Operating Systems - Design and Implementation.ipynb",
      "provenance": [],
      "toc_visible": true,
      "include_colab_link": true
    }
  },
  "cells": [
    {
      "cell_type": "markdown",
      "metadata": {
        "id": "view-in-github",
        "colab_type": "text"
      },
      "source": [
        "<a href=\"https://colab.research.google.com/github/dbremont/Notas/blob/main/Libros/Computacion/Operating%20Systems%20-%20Design%20and%20Implementation.ipynb\" target=\"_parent\"><img src=\"https://colab.research.google.com/assets/colab-badge.svg\" alt=\"Open In Colab\"/></a>"
      ]
    },
    {
      "cell_type": "markdown",
      "metadata": {
        "id": "iVNc4HCb6V1Z"
      },
      "source": [
        "# Operating Systems - Design and Implementation"
      ]
    },
    {
      "cell_type": "markdown",
      "metadata": {
        "id": "ZG5OWGw-Hl5j"
      },
      "source": [
        "## Introduction"
      ]
    },
    {
      "cell_type": "markdown",
      "metadata": {
        "id": "tQzTBOnd-voE"
      },
      "source": [
        "## Processes"
      ]
    },
    {
      "cell_type": "markdown",
      "metadata": {
        "id": "M4WRtRi8-2gs"
      },
      "source": [
        "### Introduction to Processes"
      ]
    },
    {
      "cell_type": "markdown",
      "metadata": {
        "id": "QrXPPLWW-3ZE"
      },
      "source": [
        "**Implementing Processes**\n",
        "\n",
        "- To implement the *process model* the os maintains a an array of structures called a *process table* / *process control blocks*, with one entry per process.\n",
        "\n",
        "- This entry contains information about th  process 'state', its program counter, stack pointer, memory allocation, the status of its open files, its accounting and scheduling information, alarms and other signals, and everything else about the process that must be saved when the process is switched from *running to ready* state so that it can be restarted later as if it had never been stopped.\n",
        "\n",
        "- Is some implementations the *process table* is partitions throughout the components.\n",
        "\n",
        "- Interrupt descriptor table\n",
        "- Interrupt vector.\n",
        "\n",
        "\n",
        "**Threads**\n",
        "\n",
        "- In traditional operating systems, each process has an address space and a single thread of control. \n",
        "\n",
        "- Some times there are multipleds *threads of control* in the same adress space running in quasi-parallel as trhough they were separete processes. These threads of control are usually just called *threads* or *lightweight processes*. \n",
        "\n",
        "- *Processes* are used to group resources together, *threads* are the entities schedules for execution on the CPU.\n",
        "\n",
        "- Thread table.\n",
        "\n",
        "- "
      ]
    },
    {
      "cell_type": "markdown",
      "metadata": {
        "id": "xtxizh20ypW8"
      },
      "source": [
        "### Interprocess Communication"
      ]
    },
    {
      "cell_type": "markdown",
      "metadata": {
        "id": "_GPfp5PRywzQ"
      },
      "source": [
        "### Classical IPC Problems"
      ]
    },
    {
      "cell_type": "markdown",
      "metadata": {
        "id": "ANN0MwTgy0DG"
      },
      "source": [
        "### Scheduling"
      ]
    },
    {
      "cell_type": "markdown",
      "metadata": {
        "id": "6dIgQNhby2zY"
      },
      "source": [
        "### Overview of Processes in Minix 3"
      ]
    },
    {
      "cell_type": "markdown",
      "metadata": {
        "id": "v_u6lcNey7T7"
      },
      "source": [
        "### Implementation of Processes in Minix 3"
      ]
    },
    {
      "cell_type": "markdown",
      "metadata": {
        "id": "nY6lhkQ3y_a2"
      },
      "source": [
        "### The System Task in Minix 3"
      ]
    },
    {
      "cell_type": "markdown",
      "metadata": {
        "id": "5Xwv6rb8zC0Z"
      },
      "source": [
        "### The Clock Task in Minix 3"
      ]
    },
    {
      "cell_type": "markdown",
      "metadata": {
        "id": "u6y-99RFHn3M"
      },
      "source": [
        "## Input/Output"
      ]
    },
    {
      "cell_type": "markdown",
      "metadata": {
        "id": "Q1Koew_hHsNt"
      },
      "source": [
        "## Memory Management"
      ]
    },
    {
      "cell_type": "markdown",
      "metadata": {
        "id": "904bJ1oeHvui"
      },
      "source": [
        "## File Systems"
      ]
    },
    {
      "cell_type": "markdown",
      "metadata": {
        "id": "pR7bd9EFHyf8"
      },
      "source": [
        "## Reading List and Bibliography"
      ]
    }
  ]
}