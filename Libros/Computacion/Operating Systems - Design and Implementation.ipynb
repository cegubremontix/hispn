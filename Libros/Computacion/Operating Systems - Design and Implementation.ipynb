{
  "nbformat": 4,
  "nbformat_minor": 0,
  "metadata": {
    "kernelspec": {
      "display_name": "Python 2.7.18 64-bit",
      "name": "python2718jvsc74a57bd0f92b2924b84ff19c1c3dc485f7644d4486f64738191026bf8e6de303969141b5"
    },
    "language_info": {
      "name": "python",
      "version": ""
    },
    "metadata": {
      "interpreter": {
        "hash": "f92b2924b84ff19c1c3dc485f7644d4486f64738191026bf8e6de303969141b5"
      }
    },
    "orig_nbformat": 2,
    "colab": {
      "name": "Operating Systems - Design and Implementation.ipynb",
      "provenance": [],
      "toc_visible": true,
      "include_colab_link": true
    }
  },
  "cells": [
    {
      "cell_type": "markdown",
      "metadata": {
        "id": "view-in-github",
        "colab_type": "text"
      },
      "source": [
        "<a href=\"https://colab.research.google.com/github/dbremont/Notas/blob/main/Libros/Computacion/Operating%20Systems%20-%20Design%20and%20Implementation.ipynb\" target=\"_parent\"><img src=\"https://colab.research.google.com/assets/colab-badge.svg\" alt=\"Open In Colab\"/></a>"
      ]
    },
    {
      "cell_type": "markdown",
      "metadata": {
        "id": "iVNc4HCb6V1Z"
      },
      "source": [
        "# Operating Systems - Design and Implementation"
      ]
    },
    {
      "cell_type": "markdown",
      "metadata": {
        "id": "ZG5OWGw-Hl5j"
      },
      "source": [
        "## Introduction"
      ]
    },
    {
      "cell_type": "markdown",
      "metadata": {
        "id": "Uj43gHDnRkYF"
      },
      "source": [
        "What are the two main functions of an operating system?\n",
        "\n",
        "What is the difference between kernel mode and user mode? Why is the difference important to an operative system?\n",
        "\n",
        "What is multiprogramming?\n",
        "\n",
        "What is spooling? Do you think that advanced personal computers will have spooling as a standard feature in the future?\n",
        "\n",
        "On early computers, every byte of data read or written was directly handled by the CPU (i.e, there was no DMA-Direct Memory Acess). What implications does this organization have for multiprograming?\n",
        "\n",
        "Why was timesharing not widespread on second-generation computers?\n",
        "\n",
        "Which of the following insturctions should be allowed only in the kernel mode?\n",
        "- Disable all interrupts,\n",
        "- Read the time-of-day clock,\n",
        "- Set the time-of-day clock,\n",
        "- Change the memory map\n",
        "\n",
        "List some differences between personal computer operating system and mainframe operative systems\n",
        "\n",
        "Give on reason gwhy a closed-source proprietary operating system like Windows shouyld have better quality than an open-source operating system like Linux. Now give one reason why an open-source operating system like Linux should have better quality than a closed-source proprietary operatinve system like Windows\n",
        "\n",
        "A Minix file whose owner has UID = 12, and GID = 1 has mode rwxr-x---. Another user with UID =6, GUID = 1, tries to execute the file. What will happen?\n",
        "\n",
        "In view of the fact that the mere existence of a superuser can lead to all kinds of security problems, why does such a concept exists?\n",
        "\n",
        "All versions of Unix support file naming using both absolute paths (relative to the root) and relative paths (relative to the working directory). Would it be possible to dispose of one of these and just use the other? If so, which would you suggest keeping?\n",
        "\n",
        "Why is the process table needed in a timesharing system? It is also needed in personal computer systems in which only one process exists, that process taking over the entire machine until it is finished?\n",
        "\n",
        "What is the essential difference between a block special file and a character special file?\n",
        "\n",
        "In Minix3 if user 2 links to a file owne by user 1, then user 1 removes the file, what happend when user 2 tries to read the file?\n",
        "\n",
        "Are pipes an essential facility? Would major functionality be lost if they were not availabe?\n",
        "\n",
        "Modern computer appliances such as stereos and digital camaras often have a display where commands can be entered and the results of entering those commands can be viewed. These devices often have a primitive operating system inside. To what part of a personal computer software is the command processing via the stereo or camara's display similar to?\n",
        "\n",
        "Windows does not have a fork system call, yet it is able to create new processes. Make an educated guess about the semantics of the system call Windows uses to crate new processes\n",
        "\n",
        "Why is the `chroot` system call limited to the superuser? (Hint. Think about protection problems)\n",
        "\n",
        "Examine the list of system calls in Fig. 1-9. Which call do you think is likely to execute most quickly.  Explain your answer\n",
        "\n",
        "Suppose that a computer can execute 1 billion instructions/sec adn that a system call takes 1000 instructions, including the trap and all the context switching. How many system calls can the computer execute per second and still have half the CPU capacity for running application code?\n",
        "\n",
        "There is a `mknod` system call in Fig. 1-16 but there is no `rnmod` call. Does this mean that you have to be very, very careful about making nodes this way becuase there is no way to every remove them?\n",
        "\n",
        "Why does MInix 3 have the program `update` running in the background all the time?\n",
        "\n",
        "Does it ever make any sense to ignore the `SIGALRM` signal?\n",
        "\n",
        "There client-server model is popular is distributed systems. Can it also be used in a single computer system?\n",
        "\n",
        "The initial versions of the Pentium could no support a virtual machine monitor. What essential characteristic is needed to allow a machine to be virtualize?\n",
        "\n",
        "Write a program (or series of programs) to test al the Minix 3 systems calls. For each call, try various set of parameters, including some incorrect, to see if they are detected.\n",
        "\n",
        "Write a shell that is simular to Fig. 1-10 but contains enough code that is actually works so you can test it. You might also add some features such as redirection of input and output, pipes, and background jobs."
      ]
    },
    {
      "cell_type": "markdown",
      "metadata": {
        "id": "tQzTBOnd-voE"
      },
      "source": [
        "## Processes"
      ]
    },
    {
      "cell_type": "markdown",
      "metadata": {
        "id": "M4WRtRi8-2gs"
      },
      "source": [
        "### Introduction to Processes"
      ]
    },
    {
      "cell_type": "markdown",
      "metadata": {
        "id": "QrXPPLWW-3ZE"
      },
      "source": [
        "**Implementing Processes**\n",
        "\n",
        "- To implement the *process model* the os maintains a an array of structures called a *process table* / *process control blocks*, with one entry per process.\n",
        "\n",
        "- This entry contains information about th  process 'state', its program counter, stack pointer, memory allocation, the status of its open files, its accounting and scheduling information, alarms and other signals, and everything else about the process that must be saved when the process is switched from *running to ready* state so that it can be restarted later as if it had never been stopped.\n",
        "\n",
        "- Is some implementations the *process table* is partitions throughout the components.\n",
        "\n",
        "- Interrupt descriptor table\n",
        "- Interrupt vector.\n",
        "\n",
        "\n",
        "**Threads**\n",
        "\n",
        "- In traditional operating systems, each process has an address space and a single thread of control. \n",
        "\n",
        "- Some times there are multipleds *threads of control* in the same adress space running in quasi-parallel as trhough they were separete processes. These threads of control are usually just called *threads* or *lightweight processes*. \n",
        "\n",
        "- *Processes* are used to group resources together, *threads* are the entities schedules for execution on the CPU.\n",
        "\n",
        "- Thread table.\n",
        "\n",
        "- "
      ]
    },
    {
      "cell_type": "markdown",
      "metadata": {
        "id": "xtxizh20ypW8"
      },
      "source": [
        "### Interprocess Communication"
      ]
    },
    {
      "cell_type": "markdown",
      "metadata": {
        "id": "_GPfp5PRywzQ"
      },
      "source": [
        "### Classical IPC Problems"
      ]
    },
    {
      "cell_type": "markdown",
      "metadata": {
        "id": "ANN0MwTgy0DG"
      },
      "source": [
        "### Scheduling"
      ]
    },
    {
      "cell_type": "markdown",
      "metadata": {
        "id": "6dIgQNhby2zY"
      },
      "source": [
        "### Overview of Processes in Minix 3"
      ]
    },
    {
      "cell_type": "markdown",
      "metadata": {
        "id": "v_u6lcNey7T7"
      },
      "source": [
        "### Implementation of Processes in Minix 3"
      ]
    },
    {
      "cell_type": "markdown",
      "metadata": {
        "id": "nY6lhkQ3y_a2"
      },
      "source": [
        "### The System Task in Minix 3"
      ]
    },
    {
      "cell_type": "markdown",
      "metadata": {
        "id": "5Xwv6rb8zC0Z"
      },
      "source": [
        "### The Clock Task in Minix 3"
      ]
    },
    {
      "cell_type": "markdown",
      "metadata": {
        "id": "BXEyM02AnIQ3"
      },
      "source": [
        "Why is multiprogramming central to the operation of a modern operative system?\n",
        "\n",
        "What are the three main states that a process can be in? Describe the meaning of each one briefly\n",
        "\n",
        "Suppose that you were to design an advanced  computer architecture that did process switching in hardware, instead of having interrupts. What information would the CPU need? Describe how the hardware process switching might work.\n",
        "\n",
        "On all  current computers, at leat part of the interrupt handlers are written is assembly langauge. Why?\n",
        "\n",
        "Redraw Fig.2-2 adding two new states: New and Terminated.  When a process is created, it is initially in the New state. When it exists, it is in the Terminated state.\n",
        "\n",
        "In the text was stated that the model of Fig.2-6(a) was not suited to a file server using a cache in memory. Why not? Could each process have its own cache?\n",
        "\n",
        "What is the fundamental difference between a proces and a thread?\n",
        "\n",
        "In a system with threads, is there normally one stack per thread or one stack per process? Explain\n",
        "\n",
        "What is a race condition?\n",
        "\n",
        "Give an example of a race condition that could possibly occur when buying airplane tickets for two people to go on a trip together.\n",
        "\n",
        "Write a shell script that produces a file of sequential numbers by reading the last number in the file, adding 1 to it, and the appending to the file. Run one instance of the script in the background and one in the foreground, each accesing the same file. How long does it take before a race condition manifest itself? What is the critical section? Modify the script to prevent the race (Hint. use in the file file.lock to lock the data file)\n",
        "\n",
        "Is a statement  like `In file file.lock` an efective locking mechanism for a user program like the scripts used in the previous problem? Why (or why not)?\n",
        "\n",
        "Does the busy waiting solution using the `turn` variable (Fig. 2-10) work when the two processes are runnig  on a shared-memory multiprocessor, that is, two CPUs, sharing a common memory?\n",
        "\n",
        "Consider a computer that does not have a `TEST AND SET LOCK` instruction but does have an instruction to swap the contents of  a register and a memory word in a single indivisible action. Can that be used to write a routine `enter_region` such as the one found in Fig. 2-12?\n",
        "\n",
        "Give a sketch of how an operating system that can disable interrupts could implement semaphores\n",
        "\n",
        "Show how counting semaphores (e.i semaphores that can hold an arbitrarily large value) can be implemented using only binary semaphores and ordinary machine instructions.\n",
        "\n",
        "In the Sec. 2.2.4, a situation with a high-priority process, H, and low-priority process, L, was described, which led to H looping forever. Does the same problem occur if round-robin scheduling is used instead of priority scheduling? Discuss\n",
        "\n",
        "Synchronization within monitors uses condition variables and two special operations, `WAIT` and `SIGNAL`. A more general form of synchonization would be have a single primitive, `WAITUNTIL`, that  had an arbitrary Boolean predicate as paramter.\n",
        "\n",
        "- Thus, one would say, for example,\n",
        "- `WAITUNTIL x < 0 or y +z < n`\n",
        "- The `SIGNAL` primitive would no longer be needed. This scheme is clearly more general than that of Hoare or Brich Hassen, but it is ot used. Why not (Hint. think about the implementation)\n",
        "\n",
        "A fast food restaurant has four kinds of employees: (1) order takes, who take customer's orders; (2) cooks, who prepare the food; (3) packaging specialist, who stuff the food into bags, and (4) cashiers, who give the bags to customers and take their money. Each employee can be regarded as a communicating sequential process. What form of interprocess communication do they use? Relate this model to process in Minix 3.\n",
        "\n",
        "Suppose that we have a message-passing system using mailboxes. When sending toa full mailbox or trying to recieve from an empty one, a process does not block. Instead, it gets an error code back. The process respond to the error code by just trying again, over and over, until it suceeds. Does this scheme lead to race conditions?\n",
        "\n",
        "In the solution to the dinig philosophers problem (Fig 2-20) why is the sate variable set to HUNGRY in the proces `take_forks`?\n",
        "\n",
        "Consider the procedure `put_forks` in Fig 2-20. Suppose that the variable state[i] was set THINKING after the two calls to test, rather than before. How would this change affect the solution for the case of 3 philosophers? For 100 philosophers?\n",
        "\n",
        "Three readers and writers problem can be formuluted in several ways with regard to with category of processes can be started when. Carefully describe three different variations of the problem, each one favoring (or not favoring) some category of processes. For each variation, specify what happends when a reader or a writer becomes ready to access the data base, adn what happends when a process is finished using the data base\n",
        "\n",
        "The CDC 6600 computers could handle up 10/10 processes simultaneously using an interesting from a round-robing schedulign called **processor sharing**. A process switch occured after each instruction, so instruction  1 came from process 2, etc. The process switching was done by special hardware, and the overhead was zero. If a process needed T sec to complete in the absence of competion, how much time would it need processor sharing was used with n processes?\n",
        "\n",
        "Round-robin schedulers normally maintain a list of all runnable processes, with each process occurring exacly once in the list. What would happen if a process occured twice in the list? Can you think of any reason for allowing this?\n",
        "\n",
        "Measurements of a certain system have shown that the average process runs for a time `T` before blocking on I/O. A process switch requires a time `S`, which is effectively wasted (overhead). For round-robin scheduling with quantum `Q`, give a formula for the CPU efficiency for each of the following\n",
        "- $Q = \\infty$\n",
        "- $Q > T$\n",
        "- $S < Q < T$\n",
        "- $Q = S$\n",
        "- $Q$ nearly $O$\n",
        "\n",
        "Five jobs are waiting to be run. Their average run times are 6,6,3,5 and `X`. In what order should they to run to minimize average response time? (Your answer wil depend on X)\n",
        "\n",
        "Five batch job A through E, arrive at a computer center at almost the same time. They have estimated runinng tims of 10, 6, 2, 4, and 8 minutes. Their (externally determined) priorities are 3, 5, 2, 1 and 4, respectively, with 5 being the highest priority. For each of the following scheduling algorithms, determine the mean process turnaround time. Ignore process switching overhead. \n",
        "\n",
        "- Round robin,\n",
        "- Priority scheduling,\n",
        "- First-come, first-served (run in order 10, 6, 2, 4, 8)\n",
        "- Shortest job first\n",
        "\n",
        "- For (a), assume the system in multiprogrammed, and that each job its fair shape of the CPU. For (b) through (d) assume that only on job at a time runs, until it finishes. All jobs are completly CPU bound\n",
        "\n",
        "A process running on CTSS needs 30 quanta to complete. How many times must it be swapped in, including the very first time (before it has run at all)?\n",
        "\n",
        "The aging algorithm with $a = 1/2$ is being used to predict  run times. The previous four runs, from oldest to most recent, are 40, 20, 40 and 15 msec. What is the prediction of the next time?\n",
        "\n",
        "In Fig 2-25 we saw how three-level scheduling works in a batch system. Could this idea be applied to an interactive system without newly-arriving jobs? How?\n",
        "\n",
        "Suppose that the threads of Fig. 2-28(a) are run in the order: one from A, one from B, one from B, etc. How many possible thread sequences are there for the first four times scheduling is done?\n",
        "\n",
        "A spft real-time system has four periodic events which periods of 50, 100, 200, and 250 msec each. Suppose that the four events requiere 35, 20, 10, and x msec of CPU time, respectively. What is the largest value of `x` for which the system is schedulable?\n",
        "\n",
        "During execution, Minix 3 maintains a variable `proc_ptr` that points to the process table entry for the current. Why?\n",
        "\n",
        "Minix 3 does not buffer messages. Explain how this design decision causes problems with clock and keyboard interrupts.\n",
        "\n",
        "When a message is send to a sleeping in Minix 3, the procedure ready is called to put the proces on the proper scheduling queue. This procedure starts out by disabling interrupts. Explain\n",
        "\n",
        "The Minix 3 produce `mini_rec` contains a loop. Explain what it is for.\n",
        "\n",
        "Minix 3 essentially uses the scheduling method in Fig 2-43, with different priorities for classes. The lowest class (user processes) has round-robin scheduling, but the tasks and servers always are allowed to run until they block. Is it possible for processes in the lowest class to starve? Why (or why not)?\n",
        "\n",
        "In the Minix 3 suitable for real-time applications, such as data logging? If not, what could be done to make it so?\n",
        "\n",
        "Assume that you have an operating system that provides semaphores. Implement a message system. Write the procedures for sending and recieving messages.\n",
        "\n",
        "Solve the dining philosophers problem using monitors instead of semaphores.\n",
        "\n",
        "Modify Minix 3 to collect statistics about messages send by whom to whom and write a program to collect and print these statistics in a useful way."
      ]
    },
    {
      "cell_type": "markdown",
      "metadata": {
        "id": "u6y-99RFHn3M"
      },
      "source": [
        "## Input/Output"
      ]
    },
    {
      "cell_type": "markdown",
      "metadata": {
        "id": "Q1Koew_hHsNt"
      },
      "source": [
        "## Memory Management"
      ]
    },
    {
      "cell_type": "markdown",
      "metadata": {
        "id": "904bJ1oeHvui"
      },
      "source": [
        "## File Systems"
      ]
    },
    {
      "cell_type": "markdown",
      "metadata": {
        "id": "pR7bd9EFHyf8"
      },
      "source": [
        "## Reading List and Bibliography"
      ]
    }
  ]
}