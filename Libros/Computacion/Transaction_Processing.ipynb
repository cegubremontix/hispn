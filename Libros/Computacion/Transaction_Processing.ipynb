{
  "nbformat": 4,
  "nbformat_minor": 0,
  "metadata": {
    "colab": {
      "name": "Transaction Processing.ipynb",
      "provenance": [],
      "toc_visible": true,
      "authorship_tag": "ABX9TyMX6gzN+xlNXBpydi7tkCPj",
      "include_colab_link": true
    },
    "kernelspec": {
      "name": "python3",
      "display_name": "Python 3"
    },
    "language_info": {
      "name": "python"
    }
  },
  "cells": [
    {
      "cell_type": "markdown",
      "metadata": {
        "id": "view-in-github",
        "colab_type": "text"
      },
      "source": [
        "<a href=\"https://colab.research.google.com/github/dbremont/Notas/blob/main/Libros/Computacion/Transaction_Processing.ipynb\" target=\"_parent\"><img src=\"https://colab.research.google.com/assets/colab-badge.svg\" alt=\"Open In Colab\"/></a>"
      ]
    },
    {
      "cell_type": "markdown",
      "metadata": {
        "id": "Ece22H0tpTpb"
      },
      "source": [
        "# Transaction Processing\n",
        "\n"
      ]
    },
    {
      "cell_type": "markdown",
      "metadata": {
        "id": "CVlYTavhIZ2a"
      },
      "source": [
        "## Preface"
      ]
    },
    {
      "cell_type": "markdown",
      "metadata": {
        "id": "H3h68RrRJy0l"
      },
      "source": [
        "## Introduction"
      ]
    },
    {
      "cell_type": "markdown",
      "metadata": {
        "id": "dhDWARxwJ08-"
      },
      "source": [
        "## Transaction Processing Abstraction"
      ]
    },
    {
      "cell_type": "markdown",
      "metadata": {
        "id": "yzfDcMUuJ393"
      },
      "source": [
        "## Transaction Processing  Application Architecture"
      ]
    },
    {
      "cell_type": "markdown",
      "metadata": {
        "id": "gnfz_aDqJ-co"
      },
      "source": [
        "## Queued Transaction Processing"
      ]
    },
    {
      "cell_type": "markdown",
      "metadata": {
        "id": "7mL2xWBEKD0L"
      },
      "source": [
        "## Business Process Management"
      ]
    },
    {
      "cell_type": "markdown",
      "metadata": {
        "id": "Q4EXLJOFKGfA"
      },
      "source": [
        "## Locking"
      ]
    },
    {
      "cell_type": "markdown",
      "metadata": {
        "id": "ILAVG0vxKJ8O"
      },
      "source": [
        "## System Recovery"
      ]
    },
    {
      "cell_type": "markdown",
      "metadata": {
        "id": "lFef_VpFKNk3"
      },
      "source": [
        "## Tho-Phase Commit"
      ]
    },
    {
      "cell_type": "markdown",
      "metadata": {
        "id": "lLZqQ6XVKSoy"
      },
      "source": [
        "## Replication"
      ]
    },
    {
      "cell_type": "markdown",
      "metadata": {
        "id": "LJl_Ju-yKUBL"
      },
      "source": [
        "## Transactional Middleware Products and Standards"
      ]
    },
    {
      "cell_type": "markdown",
      "metadata": {
        "id": "i9el_6DdKZoZ"
      },
      "source": [
        "## Future Trends"
      ]
    },
    {
      "cell_type": "markdown",
      "metadata": {
        "id": "pFzDYA5yKegc"
      },
      "source": [
        "## Glosary of Acronyms"
      ]
    }
  ]
}