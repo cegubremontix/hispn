{
  "nbformat": 4,
  "nbformat_minor": 0,
  "metadata": {
    "colab": {
      "name": "The Design of the Unix Operating System.ipynb",
      "provenance": [],
      "authorship_tag": "ABX9TyOeoTGr4MagxWunF1YhY1+I",
      "include_colab_link": true
    },
    "kernelspec": {
      "name": "python3",
      "display_name": "Python 3"
    },
    "language_info": {
      "name": "python"
    }
  },
  "cells": [
    {
      "cell_type": "markdown",
      "metadata": {
        "id": "view-in-github",
        "colab_type": "text"
      },
      "source": [
        "<a href=\"https://colab.research.google.com/github/dbremont/Notas/blob/main/Libros/Computacion/The_Design_of_the_Unix_Operating_System.ipynb\" target=\"_parent\"><img src=\"https://colab.research.google.com/assets/colab-badge.svg\" alt=\"Open In Colab\"/></a>"
      ]
    },
    {
      "cell_type": "markdown",
      "metadata": {
        "id": "rpOzVv_gx14P"
      },
      "source": [
        "# The Design of the Unix Operating System\n",
        "Libros/Computacion"
      ]
    },
    {
      "cell_type": "markdown",
      "metadata": {
        "id": "CP2L10UA1thk"
      },
      "source": [
        "## General Overview of the System"
      ]
    },
    {
      "cell_type": "markdown",
      "metadata": {
        "id": "5RNTEo4C21Wg"
      },
      "source": [
        "## Introduction to the Kernel"
      ]
    },
    {
      "cell_type": "markdown",
      "metadata": {
        "id": "VmBxAqa_244O"
      },
      "source": [
        "## The Buffer Cache"
      ]
    },
    {
      "cell_type": "markdown",
      "metadata": {
        "id": "t0hA-w_z26tj"
      },
      "source": [
        "## Internal Representation Of Files"
      ]
    },
    {
      "cell_type": "markdown",
      "metadata": {
        "id": "4XyApX7Q2_fi"
      },
      "source": [
        "## System Calls For The File System"
      ]
    },
    {
      "cell_type": "markdown",
      "metadata": {
        "id": "_-EmsAct3P1n"
      },
      "source": [
        "## The Structure Of Processes"
      ]
    },
    {
      "cell_type": "markdown",
      "metadata": {
        "id": "k-fEHqCn3mbV"
      },
      "source": [
        "## Process Control"
      ]
    },
    {
      "cell_type": "markdown",
      "metadata": {
        "id": "o2DHbm7H3vOd"
      },
      "source": [
        "## Process Scheduling And Time"
      ]
    },
    {
      "cell_type": "markdown",
      "metadata": {
        "id": "UYevikua34-h"
      },
      "source": [
        "## Memory Management Policies"
      ]
    },
    {
      "cell_type": "markdown",
      "metadata": {
        "id": "sj2diQoN4BWk"
      },
      "source": [
        "## The I/O Subsystem"
      ]
    },
    {
      "cell_type": "markdown",
      "metadata": {
        "id": "Ya2_3QtT4MXf"
      },
      "source": [
        "## Interproces Communication"
      ]
    },
    {
      "cell_type": "markdown",
      "metadata": {
        "id": "dfDi4Ti34TmN"
      },
      "source": [
        "## Multiprocessor Systems"
      ]
    },
    {
      "cell_type": "markdown",
      "metadata": {
        "id": "lBYWIp9z4Z_c"
      },
      "source": [
        "## Distributed Unix Systems"
      ]
    }
  ]
}