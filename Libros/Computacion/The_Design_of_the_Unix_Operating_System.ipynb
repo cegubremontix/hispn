{
  "nbformat": 4,
  "nbformat_minor": 0,
  "metadata": {
    "colab": {
      "name": "The Design of the Unix Operating System.ipynb",
      "provenance": [],
      "toc_visible": true,
      "authorship_tag": "ABX9TyMNYq6d6A0ryPncLi2jpqBr",
      "include_colab_link": true
    },
    "kernelspec": {
      "name": "python3",
      "display_name": "Python 3"
    },
    "language_info": {
      "name": "python"
    }
  },
  "cells": [
    {
      "cell_type": "markdown",
      "metadata": {
        "id": "view-in-github",
        "colab_type": "text"
      },
      "source": [
        "<a href=\"https://colab.research.google.com/github/dbremont/Notas/blob/main/Libros/Computacion/The_Design_of_the_Unix_Operating_System.ipynb\" target=\"_parent\"><img src=\"https://colab.research.google.com/assets/colab-badge.svg\" alt=\"Open In Colab\"/></a>"
      ]
    },
    {
      "cell_type": "markdown",
      "metadata": {
        "id": "rpOzVv_gx14P"
      },
      "source": [
        "# The Design of the Unix Operating System\n",
        "Libros/Computacion"
      ]
    },
    {
      "cell_type": "markdown",
      "metadata": {
        "id": "CP2L10UA1thk"
      },
      "source": [
        "## General Overview of the System"
      ]
    },
    {
      "cell_type": "markdown",
      "metadata": {
        "id": "n1GyBFW3eyK6"
      },
      "source": [
        "**Architecture of Unix Systems**\n",
        "\n",
        "![Image](https://www.tutorialspoint.com/unix/images/unix_architecture.jpg)\n",
        "\n",
        "**The file system**\n",
        "\n",
        "- a hierarchical structure,\n",
        "- consistent treatment of file data,\n",
        "- the ability to create and delete files,\n",
        "- dynamic grow files,\n",
        "- the protection of fiel data,\n",
        "- the treatment of peripheral devices (such as terminals and the tape units) as files.\n",
        "\n",
        "**Processing Environment**\n",
        "\n",
        "- A *program* in an executable file, and a process is an instance of the program in execution.\n",
        "\n",
        "**Summary**\n",
        "\n",
        "Processes execute in user model or kernel mode, where they avail themselves of system services usign a well-defined set of system calls."
      ]
    },
    {
      "cell_type": "markdown",
      "metadata": {
        "id": "5RNTEo4C21Wg"
      },
      "source": [
        "## Introduction to the Kernel"
      ]
    },
    {
      "cell_type": "markdown",
      "metadata": {
        "id": "xEEt4ZwLhFqQ"
      },
      "source": [
        ""
      ]
    },
    {
      "cell_type": "markdown",
      "metadata": {
        "id": "VmBxAqa_244O"
      },
      "source": [
        "## The Buffer Cache"
      ]
    },
    {
      "cell_type": "markdown",
      "metadata": {
        "id": "t0hA-w_z26tj"
      },
      "source": [
        "## Internal Representation Of Files"
      ]
    },
    {
      "cell_type": "markdown",
      "metadata": {
        "id": "4XyApX7Q2_fi"
      },
      "source": [
        "## System Calls For The File System"
      ]
    },
    {
      "cell_type": "markdown",
      "metadata": {
        "id": "_-EmsAct3P1n"
      },
      "source": [
        "## The Structure Of Processes"
      ]
    },
    {
      "cell_type": "markdown",
      "metadata": {
        "id": "k-fEHqCn3mbV"
      },
      "source": [
        "## Process Control"
      ]
    },
    {
      "cell_type": "markdown",
      "metadata": {
        "id": "o2DHbm7H3vOd"
      },
      "source": [
        "## Process Scheduling And Time"
      ]
    },
    {
      "cell_type": "markdown",
      "metadata": {
        "id": "UYevikua34-h"
      },
      "source": [
        "## Memory Management Policies"
      ]
    },
    {
      "cell_type": "markdown",
      "metadata": {
        "id": "sj2diQoN4BWk"
      },
      "source": [
        "## The I/O Subsystem"
      ]
    },
    {
      "cell_type": "markdown",
      "metadata": {
        "id": "Ya2_3QtT4MXf"
      },
      "source": [
        "## Interproces Communication"
      ]
    },
    {
      "cell_type": "markdown",
      "metadata": {
        "id": "dfDi4Ti34TmN"
      },
      "source": [
        "## Multiprocessor Systems"
      ]
    },
    {
      "cell_type": "markdown",
      "metadata": {
        "id": "lBYWIp9z4Z_c"
      },
      "source": [
        "## Distributed Unix Systems"
      ]
    }
  ]
}