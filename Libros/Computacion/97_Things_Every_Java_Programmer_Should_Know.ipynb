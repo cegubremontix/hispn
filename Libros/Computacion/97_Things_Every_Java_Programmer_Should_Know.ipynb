{
  "nbformat": 4,
  "nbformat_minor": 0,
  "metadata": {
    "colab": {
      "name": "97 Things Every Java Programmer Should Know.ipynb",
      "provenance": [],
      "toc_visible": true,
      "authorship_tag": "ABX9TyN68KesFj4gU6EoPgiRjS8U",
      "include_colab_link": true
    },
    "kernelspec": {
      "name": "python3",
      "display_name": "Python 3"
    },
    "language_info": {
      "name": "python"
    }
  },
  "cells": [
    {
      "cell_type": "markdown",
      "metadata": {
        "id": "view-in-github",
        "colab_type": "text"
      },
      "source": [
        "<a href=\"https://colab.research.google.com/github/dbremont/Notas/blob/main/Libros/Computacion/97_Things_Every_Java_Programmer_Should_Know.ipynb\" target=\"_parent\"><img src=\"https://colab.research.google.com/assets/colab-badge.svg\" alt=\"Open In Colab\"/></a>"
      ]
    },
    {
      "cell_type": "markdown",
      "metadata": {
        "id": "Ece22H0tpTpb"
      },
      "source": [
        "# 97 Things Every Java Programmer Should Know\n",
        "\n"
      ]
    },
    {
      "cell_type": "markdown",
      "metadata": {
        "id": "Tbg0QDozhCYd"
      },
      "source": [
        "## 1. All You Need is Java "
      ]
    },
    {
      "cell_type": "markdown",
      "metadata": {
        "id": "P6k1QdyQEeNV"
      },
      "source": [
        "## 2. Approval Testing"
      ]
    },
    {
      "cell_type": "markdown",
      "metadata": {
        "id": "THnO94rmEgbV"
      },
      "source": [
        "## 3. Augment Javadoc with AscciDoc"
      ]
    },
    {
      "cell_type": "markdown",
      "metadata": {
        "id": "t136ZDpeEmmV"
      },
      "source": [
        "## 4. Be Aware of Your COntainer  Surroundings"
      ]
    },
    {
      "cell_type": "markdown",
      "metadata": {
        "id": "JuaGVC15EudQ"
      },
      "source": [
        "## 5. Behavior is \"Easy\"; State is Hard."
      ]
    },
    {
      "cell_type": "markdown",
      "metadata": {
        "id": "9T1iqgsWE2Vc"
      },
      "source": [
        "## 6. Benchmarking Is Hard-JMH Helps"
      ]
    },
    {
      "cell_type": "markdown",
      "metadata": {
        "id": "IGGV-NhQE66_"
      },
      "source": [
        "## 7. The Benefits of Codigying and Asserting Architectural Quality"
      ]
    },
    {
      "cell_type": "markdown",
      "metadata": {
        "id": "bxDLrrK4FD8Z"
      },
      "source": [
        "## 8. Break Problems and Taks into Small Chunks"
      ]
    },
    {
      "cell_type": "markdown",
      "metadata": {
        "id": "Ykoj6u58FLHH"
      },
      "source": [
        "## 9. Build Diverse Teams"
      ]
    },
    {
      "cell_type": "markdown",
      "metadata": {
        "id": "iP3COfbUFOlm"
      },
      "source": [
        "## 10. Builds Don't Have to Be Slow and Unreliable"
      ]
    },
    {
      "cell_type": "markdown",
      "metadata": {
        "id": "vjUPbNbPFVbZ"
      },
      "source": [
        "## 11. \"But it Works in My Machines\""
      ]
    },
    {
      "cell_type": "markdown",
      "metadata": {
        "id": "iv9ETcEFFbsy"
      },
      "source": [
        "## 12. The Case Against Fat JARs"
      ]
    },
    {
      "cell_type": "markdown",
      "metadata": {
        "id": "T9AHC5lgFgkw"
      },
      "source": [
        "## 13. The Code Restorer"
      ]
    },
    {
      "cell_type": "markdown",
      "metadata": {
        "id": "i3Wfut8qFkoC"
      },
      "source": [
        "## 14. Concurrenty on the JVM"
      ]
    },
    {
      "cell_type": "markdown",
      "metadata": {
        "id": "Tvny-KU7FoM2"
      },
      "source": [
        "## 15. CountDownLatch- Friend or Foe?"
      ]
    },
    {
      "cell_type": "markdown",
      "metadata": {
        "id": "qp0Gr-5LFskN"
      },
      "source": [
        "## 16. Declarative Expression Is the Path to Parallelism"
      ]
    },
    {
      "cell_type": "markdown",
      "metadata": {
        "id": "no_LVChPFyZj"
      },
      "source": [
        "## 17. Deliver Better Software, Faster"
      ]
    },
    {
      "cell_type": "markdown",
      "metadata": {
        "id": "AbEBp2nbF38S"
      },
      "source": [
        "## 18. Do You Know What Time It Is?"
      ]
    },
    {
      "cell_type": "markdown",
      "metadata": {
        "id": "LDyNb-R4F8B1"
      },
      "source": [
        "## 19. Don't hiDE Your Tools"
      ]
    },
    {
      "cell_type": "markdown",
      "metadata": {
        "id": "gUclqXXhGAr9"
      },
      "source": [
        "## 20. Dont't Vary Your Variables"
      ]
    },
    {
      "cell_type": "markdown",
      "metadata": {
        "id": "nrkCHQS8GFwp"
      },
      "source": [
        "**...**"
      ]
    },
    {
      "cell_type": "markdown",
      "metadata": {
        "id": "ThlHcFidGHa7"
      },
      "source": [
        "## 97. The Young, the Old,  and the Garbage"
      ]
    }
  ]
}