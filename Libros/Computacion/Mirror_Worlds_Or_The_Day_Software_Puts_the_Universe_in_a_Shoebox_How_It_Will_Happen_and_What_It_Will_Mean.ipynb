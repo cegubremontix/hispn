{
  "nbformat": 4,
  "nbformat_minor": 0,
  "metadata": {
    "colab": {
      "name": "Mirror Worlds: Or: The Day Software Puts the Universe in a Shoebox...How It Will Happen and What It Will Mean.ipynb",
      "provenance": [],
      "authorship_tag": "ABX9TyO8XDDSQ3ejStImCbb88uXg",
      "include_colab_link": true
    },
    "kernelspec": {
      "name": "python3",
      "display_name": "Python 3"
    },
    "language_info": {
      "name": "python"
    }
  },
  "cells": [
    {
      "cell_type": "markdown",
      "metadata": {
        "id": "view-in-github",
        "colab_type": "text"
      },
      "source": [
        "<a href=\"https://colab.research.google.com/github/dbremont/Notas/blob/main/Libros/Computacion/Mirror_Worlds_Or_The_Day_Software_Puts_the_Universe_in_a_Shoebox_How_It_Will_Happen_and_What_It_Will_Mean.ipynb\" target=\"_parent\"><img src=\"https://colab.research.google.com/assets/colab-badge.svg\" alt=\"Open In Colab\"/></a>"
      ]
    },
    {
      "cell_type": "markdown",
      "source": [
        "## Mirror Worlds?"
      ],
      "metadata": {
        "id": "gaPh7HJOkAz6"
      }
    },
    {
      "cell_type": "markdown",
      "source": [
        "## The Orb"
      ],
      "metadata": {
        "id": "YzRAu0zBkD5Q"
      }
    },
    {
      "cell_type": "markdown",
      "source": [
        "## Disembodied Machines"
      ],
      "metadata": {
        "id": "dtz2Fz0jkFH3"
      }
    },
    {
      "cell_type": "markdown",
      "source": [
        "## Space, Time, and Multi-time"
      ],
      "metadata": {
        "id": "vHLc9COvkKf6"
      }
    },
    {
      "cell_type": "markdown",
      "source": [
        "## The Deluge"
      ],
      "metadata": {
        "id": "T8ULceDJkQAf"
      }
    },
    {
      "cell_type": "markdown",
      "source": [
        "## Simple Mind Machines"
      ],
      "metadata": {
        "id": "dJGW8-GEkRhN"
      }
    },
    {
      "cell_type": "markdown",
      "source": [
        "## Building Mirror Worlds"
      ],
      "metadata": {
        "id": "RPgYk80ZkUNv"
      }
    }
  ]
}