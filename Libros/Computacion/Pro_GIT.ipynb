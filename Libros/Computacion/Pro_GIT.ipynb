{
  "nbformat": 4,
  "nbformat_minor": 0,
  "metadata": {
    "colab": {
      "name": "Pro GIT.ipynb",
      "provenance": [],
      "toc_visible": true,
      "authorship_tag": "ABX9TyMySq8EoZuV8tzjIS5lV6eP",
      "include_colab_link": true
    },
    "kernelspec": {
      "name": "python3",
      "display_name": "Python 3"
    },
    "language_info": {
      "name": "python"
    }
  },
  "cells": [
    {
      "cell_type": "markdown",
      "metadata": {
        "id": "view-in-github",
        "colab_type": "text"
      },
      "source": [
        "<a href=\"https://colab.research.google.com/github/dbremont/Notas/blob/main/Libros/Computacion/Pro_GIT.ipynb\" target=\"_parent\"><img src=\"https://colab.research.google.com/assets/colab-badge.svg\" alt=\"Open In Colab\"/></a>"
      ]
    },
    {
      "cell_type": "markdown",
      "metadata": {
        "id": "6SPBAHQzwMjy"
      },
      "source": [
        "[Ir](https://git-scm.com/book/en/v2)"
      ]
    },
    {
      "cell_type": "markdown",
      "metadata": {
        "id": "1GADBriVBLKw"
      },
      "source": [
        "## Getting Started\n"
      ]
    },
    {
      "cell_type": "markdown",
      "metadata": {
        "id": "jmtJuNY49qbA"
      },
      "source": [
        "1.1 About Version Control\n",
        "\n",
        "1.2 A Short History of Git\n",
        "\n",
        "1.3 What is Git?\n",
        "\n",
        "1.4 The Command Line\n",
        "\n",
        "1.5 Installing Git\n",
        "\n",
        "1.6 First-Time Git Setup\n",
        "\n",
        "1.7 Getting Help\n",
        "\n",
        "1.8 Summary"
      ]
    },
    {
      "cell_type": "markdown",
      "metadata": {
        "id": "LYSaRBcYxntE"
      },
      "source": [
        "Version Control\n",
        "\n",
        "Local Version Control Systems\n",
        "\n",
        "Centralized Version Control Systems\n",
        "\n",
        "Distributed Version Control Systems\n",
        "\n",
        "A Short History of Git\n",
        "\n",
        "What is Git?\n",
        "\n",
        "Snapshots, Not Differences\n",
        "\n",
        "Nearly Every Operation Is Local\n",
        "\n",
        "Git Has Integrity\n",
        "\n",
        "Git Generally Only Adds Data\n",
        "\n",
        "The Three States\n",
        "\n",
        "git config\n",
        "\n",
        "Your Identity\n",
        "\n",
        "Your Editor\n",
        "\n",
        "Your default branch name\n",
        "\n",
        "git config --list\n",
        "\n",
        "Getting Help\n",
        "\n"
      ]
    },
    {
      "cell_type": "markdown",
      "metadata": {
        "id": "5XJHCDGkBI8y"
      },
      "source": [
        "## Git Basics"
      ]
    },
    {
      "cell_type": "markdown",
      "metadata": {
        "id": "oAqB0HZ49qZh"
      },
      "source": [
        "2.1 Getting a Git Repository\n",
        "\n",
        "2.2 Recording Changes to the Repository\n",
        "\n",
        "2.3 Viewing the Commit History\n",
        "\n",
        "2.4 Undoing Things\n",
        "\n",
        "2.5 Working with Remotes\n",
        "\n",
        "2.6 Tagging\n",
        "\n",
        "2.7 Git Aliases\n",
        "\n",
        "2.8 Summary"
      ]
    },
    {
      "cell_type": "markdown",
      "metadata": {
        "id": "Dn0qS50ZZ2qK"
      },
      "source": [
        "Git Repository\n",
        "\n",
        "Cloning an Existing Repository\n",
        "\n",
        "Recording Changes to the Repository\n",
        "\n",
        "Checking the Status of Your Files\n",
        "\n",
        "Tracking New Files\n",
        "\n",
        "Staging Modified Files\n",
        "\n",
        "Ignoring Files\n",
        "\n",
        "Viewing Your Staged and Unstaged Changes\n",
        "\n",
        "Committing Your Changes\n",
        "\n",
        "Skipping the Staging Area\n",
        "\n",
        "Viewing the Commit History\n",
        "\n",
        "Limiting Log Output\n",
        "\n",
        "Undoing Things\n",
        "\n",
        "Unstaging a Staged File\n",
        "\n",
        "Unmodifying a Modified File\n",
        "\n",
        "Undoing things with git restore\n",
        "\n",
        "Working with Remotes\n",
        "\n",
        "Adding Remote Repositories\n",
        "\n",
        "Fetching and Pulling from Your Remotes\n",
        "\n",
        "Pushing to Your Remotes\n",
        "\n",
        "Inspecting a Remote\n",
        "\n",
        "Renaming and Removing Remotes\n",
        "\n",
        "Tagging\n",
        "\n",
        "Listing Your Tags\n",
        "\n",
        "Creating Tags\n",
        "\n",
        "Annotated Tags\n",
        "\n",
        "Lightweight Tags\n",
        "\n",
        "Tagging Later\n",
        "\n",
        "Sharing Tags\n",
        "\n",
        "Deleting Tags\n",
        "\n",
        "Checking out Tags\n",
        "\n",
        "Git Aliases\n",
        "\n",
        "At this point, you can do all the basic local Git operations — creating or cloning a repository, making changes, staging and committing those changes, and viewing the history of all the changes the repository has been through. Next, we’ll cover Git’s killer feature: its branching model.\n"
      ]
    },
    {
      "cell_type": "markdown",
      "metadata": {
        "id": "Rrfht_JsBRVV"
      },
      "source": [
        "## Git Branching"
      ]
    },
    {
      "cell_type": "markdown",
      "metadata": {
        "id": "wt2U5s8d9wN_"
      },
      "source": [
        "3.1 Branches in a Nutshell\n",
        "\n",
        "3.2 Basic Branching and Merging\n",
        "\n",
        "3.3 Branch Management\n",
        "\n",
        "3.4 Branching Workflows\n",
        "\n",
        "3.5 Remote Branches\n",
        "\n",
        "3.6 Rebasing\n",
        "\n",
        "3.7 Summary\n",
        "\n"
      ]
    },
    {
      "cell_type": "markdown",
      "metadata": {
        "id": "EKqIZgcsb5ev"
      },
      "source": [
        "Branches in a Nutshell\n",
        "\n",
        "Creating a New Branch\n",
        "\n",
        "Switching Branches\n",
        "\n",
        "Basic Branching and Merging\n",
        "\n",
        "Basic Merging\n",
        "\n",
        "Basic Merge Conflicts\n",
        "\n",
        "Branch Management\n",
        "\n",
        "Changing a branch name\n",
        "\n",
        "Changing the master branch name\n",
        "\n",
        "Branching Workflows\n",
        "\n",
        "Long-Running Branches\n",
        "\n",
        "Topic Branches\n",
        "\n",
        "Remote Branches\n",
        "\n",
        "Pushing\n",
        "\n",
        "Tracking Branches\n",
        "\n",
        "Pulling\n",
        "\n",
        "Deleting Remote Branches\n",
        "\n",
        "Rebasing\n",
        "\n",
        "More Interesting Rebases\n",
        "\n",
        "The Perils of Rebasing\n",
        "\n",
        "Rebase When You Rebase\n",
        "\n",
        "Rebase vs. Merge\n",
        "\n",
        "We’ve covered basic branching and merging in Git. You should feel comfortable creating and switching to new branches, switching between branches and merging local branches together. You should also be able to share your branches by pushing them to a shared server, working with others on shared branches and rebasing your branches before they are shared. Next, we’ll cover what you’ll need to run your own Git repository-hosting server."
      ]
    },
    {
      "cell_type": "markdown",
      "metadata": {
        "id": "6zeCVGI2BWxq"
      },
      "source": [
        "## Git on the Server"
      ]
    },
    {
      "cell_type": "markdown",
      "metadata": {
        "id": "4ex6mmvI9y2q"
      },
      "source": [
        "4.1 The Protocols\n",
        "\n",
        "4.2 Getting Git on a Server\n",
        "\n",
        "4.3 Generating Your SSH Public Key\n",
        "\n",
        "4.4 Setting Up the Server\n",
        "\n",
        "4.5 Git Daemon\n",
        "\n",
        "4.6 Smart HTTP\n",
        "\n",
        "4.7 GitWeb\n",
        "\n",
        "4.8 GitLab\n",
        "\n",
        "4.9 Third Party Hosted Options\n",
        "\n",
        "4.10 Summary"
      ]
    },
    {
      "cell_type": "markdown",
      "metadata": {
        "id": "FM-G5Y2cdDPh"
      },
      "source": [
        "At this point, you should be able to do most of the day-to-day tasks for which you’ll be using Git. However, in order to do any collaboration in Git, you’ll need to have a remote Git repository. Although you can technically push changes to and pull changes from individuals' repositories, doing so is discouraged because you can fairly easily confuse what they’re working on if you’re not careful. Furthermore, you want your collaborators to be able to access the repository even if your computer is offline — having a more reliable common repository is often useful. Therefore, the preferred method for collaborating with someone is to set up an intermediate repository that you both have access to, and push to and pull from that.\n",
        "\n",
        "Running a Git server is fairly straightforward. First, you choose which protocols you want your server to support. The first section of this chapter will cover the available protocols and the pros and cons of each. The next sections will explain some typical setups using those protocols and how to get your server running with them. Last, we’ll go over a few hosted options, if you don’t mind hosting your code on someone else’s server and don’t want to go through the hassle of setting up and maintaining your own server.\n",
        "\n",
        "If you have no interest in running your own server, you can skip to the last section of the chapter to see some options for setting up a hosted account and then move on to the next chapter, where we discuss the various ins and outs of working in a distributed source control environment.\n",
        "\n",
        "A remote repository is generally a bare repository — a Git repository that has no working directory. Because the repository is only used as a collaboration point, there is no reason to have a snapshot checked out on disk; it’s just the Git data. In the simplest terms, a bare repository is the contents of your project’s .git directory and nothing else.\n",
        "\n",
        "Local Protocol\n",
        "\n",
        "git clone /srv/git/project.git\n",
        "\n",
        "git clone file:///srv/git/project.git\n",
        "\n",
        "The HTTP Protocols\n",
        "\n",
        "Smart HTTP\n",
        "\n",
        "Dumb HTTP\n",
        "\n",
        "The SSH Protocol\n",
        "\n",
        "The Git Protocol\n",
        "\n",
        "Putting the Bare Repository on a Server\n",
        "\n",
        "SSH Access\n",
        "\n",
        "Generating Your SSH Public Key\n",
        "\n",
        "Git Daemon\n",
        "\n",
        "Smart HTTP\n",
        "\n",
        "Git on the Server - GitWeb\n",
        "\n",
        "Git on the Server - GitLab\n",
        "\n",
        "GitLab - Projects\n",
        "\n",
        "GitLab - Hooks\n",
        "\n",
        "GitLab - Basic Usage\n",
        "\n",
        "Working Together\n",
        "\n",
        "Third Party Hosted Options\n",
        "\n",
        "Summary \n",
        "\n",
        "You have several options to get a remote Git repository up and running so that you can collaborate with others or share your work.\n",
        "\n",
        "Running your own server gives you a lot of control and allows you to run the server within your own firewall, but such a server generally requires a fair amount of your time to set up and maintain. If you place your data on a hosted server, it’s easy to set up and maintain; however, you have to be able to keep your code on someone else’s servers, and some organizations don’t allow that.\n",
        "\n",
        "It should be fairly straightforward to determine which solution or combination of solutions is appropriate for you and your organization."
      ]
    },
    {
      "cell_type": "markdown",
      "metadata": {
        "id": "9aE8UIN9Bbl6"
      },
      "source": [
        "## Distributed Git"
      ]
    },
    {
      "cell_type": "markdown",
      "metadata": {
        "id": "O-ACN90k904g"
      },
      "source": [
        "5.1 Distributed Workflows\n",
        "\n",
        "5.2 Contributing to a Project\n",
        "\n",
        "5.3 Maintaining a Project\n",
        "\n",
        "5.4 Summary"
      ]
    },
    {
      "cell_type": "markdown",
      "metadata": {
        "id": "rsJcKSfReAn_"
      },
      "source": [
        "Distributed Workflows\n",
        "\n",
        "Centralized Workflow\n",
        "\n",
        "Integration-Manager Workflow\n",
        "\n",
        "Dictator and Lieutenants Workflow\n",
        "\n",
        "Patterns for Managing Source Code Branches\n",
        "\n",
        "Workflows Summary\n",
        "\n",
        "These are some commonly used workflows that are possible with a distributed system like Git, but you can see that many variations are possible to suit your particular real-world workflow. Now that you can (hopefully) determine which workflow combination may work for you, we’ll cover some more specific examples of how to accomplish the main roles that make up the different flows. In the next section, you’ll learn about a few common patterns for contributing to a project.\n",
        "\n",
        "Commit Guidelines\n",
        "\n",
        "Private Small Team\n",
        "\n",
        "Private Managed Team\n",
        "\n",
        "Forked Public Project\n",
        "\n",
        "Public Project over Email\n",
        "\n",
        "Maintaining a Project\n",
        "\n",
        "Working in Topic Branches\n",
        "\n",
        "Applying Patches from Email\n",
        "\n",
        "Applying a Patch with apply\n",
        "\n",
        "Applying a Patch with am\n",
        "\n",
        "Checking Out Remote Branches\n",
        "\n",
        "Determining What Is Introduced\n",
        "\n",
        "Integrating Contributed Work\n",
        "\n",
        "Merging Workflows\n",
        "\n",
        "Large-Merging Workflows\n",
        "\n",
        "Rebasing and Cherry-Picking Workflows\n",
        "\n",
        "Tagging Your Releases\n",
        "\n",
        "Generating a Build Number\n",
        "\n",
        "Preparing a Release\n",
        "\n",
        "The Shortlog\n",
        "\n",
        "Summary\n",
        "\n",
        "You should feel fairly comfortable contributing to a project in Git as well as maintaining your own project or integrating other users' contributions. Congratulations on being an effective Git developer! In the next chapter, you’ll learn about how to use the largest and most popular Git hosting service, GitHub."
      ]
    },
    {
      "cell_type": "markdown",
      "metadata": {
        "id": "EcphYgV4BetR"
      },
      "source": [
        "## GitHub"
      ]
    },
    {
      "cell_type": "markdown",
      "metadata": {
        "id": "yAq4QVVE93Wh"
      },
      "source": [
        "6.1 Account Setup and Configuration\n",
        "\n",
        "6.2 Contributing to a Project\n",
        "\n",
        "6.3 Maintaining a Project\n",
        "\n",
        "6.4 Managing an organization\n",
        "\n",
        "6.5 Scripting GitHub\n",
        "\n",
        "6.6 Summary"
      ]
    },
    {
      "cell_type": "markdown",
      "metadata": {
        "id": "ccY81AMwfv7U"
      },
      "source": [
        "SSH Access\n",
        "\n",
        "The GitHub Flow\n",
        "\n",
        "Iterating on a Pull Request\n",
        "\n",
        "Advanced Pull Requests\n",
        "\n",
        "Pull Requests as Patches\n",
        "\n",
        "References\n",
        "\n",
        "GitHub Flavored Markdown\n",
        "\n",
        "Managing Pull Requests\n",
        "\n",
        "Mentions and Notifications\n",
        "\n",
        "Special Files\n",
        "\n",
        "README\n",
        "\n",
        "CONTRIBUTING\n",
        "\n",
        "Project Administration\n",
        "\n",
        "Changing the Default Branch\n",
        "\n",
        "Transferring a Project\n",
        "\n",
        "Scripting GitHub\n",
        "\n",
        "Services and Hooks\n",
        "\n",
        "Hooks\n",
        "\n",
        "The GitHub API\n",
        "\n",
        "Basic Usage\n",
        "\n",
        "Commenting on an Issue\n",
        "\n",
        "Changing the Status of a Pull Request\n",
        "\n",
        "Octokit\n",
        "\n",
        "Summary\n",
        "\n",
        "Now you’re a GitHub user. You know how to create an account, manage an organization, create and push to repositories, contribute to other people’s projects and accept contributions from others. In the next chapter, you’ll learn more powerful tools and tips for dealing with complex situations, which will truly make you a Git master."
      ]
    },
    {
      "cell_type": "markdown",
      "metadata": {
        "id": "wj5JQ-spBi-L"
      },
      "source": [
        "## Git Tools"
      ]
    },
    {
      "cell_type": "markdown",
      "metadata": {
        "id": "hiXWhijR96au"
      },
      "source": [
        "7.1 Revision Selection\n",
        "\n",
        "7.2 Interactive Staging\n",
        "\n",
        "7.3 Stashing and Cleaning\n",
        "\n",
        "7.4 Signing Your Work\n",
        "\n",
        "7.5 Searching\n",
        "\n",
        "7.6 Rewriting History\n",
        "\n",
        "7.7 Reset Demystified\n",
        "\n",
        "7.8 Advanced Merging\n",
        "\n",
        "7.9 Rerere\n",
        "\n",
        "7.10 Debugging with Git\n",
        "\n",
        "7.11 Submodules\n",
        "\n",
        "7.12 Bundling\n",
        "\n",
        "7.13 Replace\n",
        "\n",
        "7.14 Credential Storage\n",
        "\n",
        "7.15 Summary"
      ]
    },
    {
      "cell_type": "markdown",
      "metadata": {
        "id": "5gDmwViLgww6"
      },
      "source": [
        "By now, you’ve learned most of the day-to-day commands and workflows that you need to manage or maintain a Git repository for your source code control. You’ve accomplished the basic tasks of tracking and committing files, and you’ve harnessed the power of the staging area and lightweight topic branching and merging.\n",
        "\n",
        "Now you’ll explore a number of very powerful things that Git can do that you may not necessarily use on a day-to-day basis but that you may need at some point.\n",
        "\n",
        "Revision Selection\n",
        "\n",
        "Single Revisions\n",
        "\n",
        "Short SHA-1\n",
        "\n",
        "Branch References\n",
        "\n",
        "RefLog Shortnames\n",
        "\n",
        "Ancestry References\n",
        "\n",
        "Commit Ranges\n",
        "\n",
        "Double Dot\n",
        "\n",
        "Multiple Points\n",
        "\n",
        "Triple Dot\n",
        "\n",
        "Interactive Staging\n",
        "\n",
        "Staging and Unstaging Files\n",
        "\n",
        "Staging Patches\n",
        "\n",
        "Stashing and Cleaning\n",
        "\n",
        "Creative Stashing\n",
        "\n",
        "Creating a Branch from a Stash\n",
        "\n",
        "Cleaning your Working Directory\n",
        "\n",
        "Signing Your Work\n",
        "\n",
        "GPG Introduction\n",
        "\n",
        "Signing Tags\n",
        "\n",
        "Verifying Tags\n",
        "\n",
        "Signing Commits\n",
        "\n",
        "Everyone Must Sign\n",
        "\n",
        "Signing tags and commits is great, but if you decide to use this in your normal workflow, you’ll have to make sure that everyone on your team understands how to do so. If you don’t, you’ll end up spending a lot of time helping people figure out how to rewrite their commits with signed versions. Make sure you understand GPG and the benefits of signing things before adopting this as part of your standard workflow.\n",
        "\n",
        "Searching\n",
        "\n",
        "With just about any size codebase, you’ll often need to find where a function is called or defined, or display the history of a method. Git provides a couple of useful tools for looking through the code and commits stored in its database quickly and easily. We’ll go through a few of them.\n",
        "\n",
        "Git Grep\n",
        "\n",
        "Git Log Searching\n",
        "\n",
        "Rewriting History\n",
        "\n",
        "Changing the Last Commit\n",
        "\n",
        "Changing Multiple Commit Messages\n",
        "\n",
        "Reordering Commits\n",
        "\n",
        "Squashing Commits\n",
        "\n",
        "Splitting a Commit\n",
        "\n",
        "Deleting a commit\n",
        "\n",
        "The Nuclear Option: filter-branch\n",
        "\n",
        "Removing a File from Every Commit\n",
        "\n",
        "Changing Email Addresses Globally\n",
        "\n",
        "Reset Demystified\n",
        "\n",
        "The Three Trees\n",
        "\n",
        "The Index\n",
        "\n",
        "The Working Directory\n",
        "\n",
        "Index\n",
        "\n",
        "HEAD\n",
        "\n",
        "Summary\n",
        "\n",
        "Hopefully now you understand and feel more comfortable with the reset command, but are probably still a little confused about how exactly it differs from checkout and could not possibly remember all the rules of the different invocations.\n",
        "\n",
        "Here’s a cheat-sheet for which commands affect which trees. The “HEAD” column reads “REF” if that command moves the reference (branch) that HEAD points to, and “HEAD” if it moves HEAD itself. Pay especial attention to the 'WD Safe?' column — if it says NO, take a second to think before running that command.\n",
        "\n",
        "Advanced Merging\n",
        "\n",
        "Merge Conflicts\n",
        "\n",
        "Aborting a Merge\n",
        "\n",
        "Ignoring Whitespace\n",
        "\n",
        "Manual File Re-merging\n",
        "\n",
        "Combined Diff Format\n",
        "\n",
        "Undoing Merges\n",
        "\n",
        "Reverse the commit\n",
        "\n",
        "Other Types of Merges\n",
        "\n",
        "Our or Theirs Preference\n",
        "\n",
        "Subtree Merging\n",
        "\n",
        "Rerere\n",
        "\n",
        "Debugging with Git\n",
        "\n",
        "File Annotation\n",
        "\n",
        "Binary Search\n",
        "\n",
        "Submodules\n",
        "\n",
        "Starting with Submodules\n",
        "\n",
        "Cloning a Project with Submodules\n",
        "\n",
        "Publishing Submodule Changes\n",
        "\n",
        "Submodule Tips\n",
        "\n",
        "Submodule Foreach\n",
        "\n",
        "Issues with Submodules\n",
        "\n",
        "Switching branches\n",
        "\n",
        "Bundling\n",
        "\n",
        "Replace\n",
        "\n",
        "Credential Storage\n",
        "\n",
        "A Custom Credential Cache\n",
        "\n",
        "Summary\n",
        "\n",
        "You’ve seen a number of advanced tools that allow you to manipulate your commits and staging area more precisely. When you notice issues, you should be able to easily figure out what commit introduced them, when, and by whom. If you want to use subprojects in your project, you’ve learned how to accommodate those needs. At this point, you should be able to do most of the things in Git that you’ll need on the command line day to day and feel comfortable doing so."
      ]
    },
    {
      "cell_type": "markdown",
      "metadata": {
        "id": "yyixUEjXBnhb"
      },
      "source": [
        "## Customizing Git"
      ]
    },
    {
      "cell_type": "markdown",
      "metadata": {
        "id": "vFCE8PSc96ZO"
      },
      "source": [
        "8.1 Git Configuration\n",
        "\n",
        "8.2 Git Attributes\n",
        "\n",
        "8.3 Git Hooks\n",
        "\n",
        "8.4 An Example Git-Enforced Policy\n",
        "\n",
        "8.5 Summary"
      ]
    },
    {
      "cell_type": "markdown",
      "metadata": {
        "id": "DzU6IOZ2kkFI"
      },
      "source": [
        "So far, we’ve covered the basics of how Git works and how to use it, and we’ve introduced a number of tools that Git provides to help you use it easily and efficiently. In this chapter, we’ll see how you can make Git operate in a more customized fashion, by introducing several important configuration settings and the hooks system. With these tools, it’s easy to get Git to work exactly the way you, your company, or your group needs it to.\n",
        "\n",
        "Basic Client Configuration\n",
        "\n",
        "External Merge and Diff Tools\n",
        "\n",
        "Server Configuration\n",
        "\n",
        "Git Attributes\n",
        "\n",
        "Binary Files\n",
        "\n",
        "Identifying Binary Files\n",
        "\n",
        "Diffing Binary Files\n",
        "\n",
        "Keyword Expansion\n",
        "\n",
        "Exporting Your Repository\n",
        "\n",
        "Merge Strategies\n",
        "\n",
        "Git Hooks\n",
        "\n",
        "Installing a Hook\n",
        "\n",
        "Client-Side Hooks\n",
        "\n",
        "Committing-Workflow Hooks\n",
        "\n",
        "Email Workflow Hooks\n",
        "\n",
        "Server-Side Hooks\n",
        "\n",
        "Git-Enforced Policy\n",
        "\n",
        "Server-Side Hook\n",
        "\n",
        "Enforcing a Specific Commit-Message Format\n",
        "\n",
        "Enforcing a User-Based ACL System\n",
        "\n",
        "Testing It Out\n",
        "\n",
        "Client-Side Hooks\n",
        "\n",
        "**Summary**\n",
        "\n",
        "We’ve covered most of the major ways that you can customize your Git client and server to best fit your workflow and projects. You’ve learned about all sorts of configuration settings, file-based attributes, and event hooks, and you’ve built an example policy-enforcing server. You should now be able to make Git fit nearly any workflow you can dream up."
      ]
    },
    {
      "cell_type": "markdown",
      "metadata": {
        "id": "kGOn3szAB0lB"
      },
      "source": [
        "## Git Internals"
      ]
    },
    {
      "cell_type": "markdown",
      "metadata": {
        "id": "jVQSmkiC-CWC"
      },
      "source": [
        "10.1 Plumbing and Porcelain\n",
        "\n",
        "10.2 Git Objects\n",
        "\n",
        "10.3 Git References\n",
        "\n",
        "10.4 Packfiles\n",
        "\n",
        "10.5 The Refspec\n",
        "\n",
        "10.6 Transfer Protocols\n",
        "\n",
        "10.7 Maintenance and Data Recovery\n",
        "\n",
        "10.8 Environment Variables\n",
        "\n",
        "10.9 Summary"
      ]
    },
    {
      "cell_type": "markdown",
      "metadata": {
        "id": "TP9Rk1COlj86"
      },
      "source": [
        "You may have skipped to this chapter from a much earlier chapter, or you may have gotten here after sequentially reading the entire book up to this point — in either case, this is where we’ll go over the inner workings and implementation of Git. We found that understanding this information was fundamentally important to appreciating how useful and powerful Git is, but others have argued to us that it can be confusing and unnecessarily complex for beginners. Thus, we’ve made this discussion the last chapter in the book so you could read it early or later in your learning process. We leave it up to you to decide.\n",
        "\n",
        "Now that you’re here, let’s get started. First, if it isn’t yet clear, Git is fundamentally a content-addressable filesystem with a VCS user interface written on top of it. You’ll learn more about what this means in a bit.\n",
        "\n",
        "In the early days of Git (mostly pre 1.5), the user interface was much more complex because it emphasized this filesystem rather than a polished VCS. In the last few years, the UI has been refined until it’s as clean and easy to use as any system out there; however, the stereotype lingers about the early Git UI that was complex and difficult to learn.\n",
        "\n",
        "The content-addressable filesystem layer is amazingly cool, so we’ll cover that first in this chapter; then, you’ll learn about the transport mechanisms and the repository maintenance tasks that you may eventually have to deal with.\n",
        "\n",
        "Plumbing and Porcelain\n",
        "\n",
        "Git Objects\n",
        "\n",
        "Tree Objects\n",
        "\n",
        "Commit Objects\n",
        "\n",
        "Object Storage\n",
        "\n",
        "Git References\n",
        "\n",
        "The HEAD\n",
        "\n",
        "Tags\n",
        "\n",
        "Remotes\n",
        "\n",
        "Packfiles\n",
        "\n",
        "The Refspec\n",
        "\n",
        "Pushing Refspecs\n",
        "\n",
        "Deleting References\n",
        "\n",
        "Transfer Protocols\n",
        "\n",
        "The Dumb Protocol\n",
        "\n",
        "The Smart Protocol\n",
        "\n",
        "Uploading Data\n",
        "\n",
        "Protocols Summary\n",
        "\n",
        "This section contains a very basic overview of the transfer protocols. The protocol includes many other features, such as multi_ack or side-band capabilities, but covering them is outside the scope of this book. We’ve tried to give you a sense of the general back-and-forth between client and server; if you need more knowledge than this, you’ll probably want to take a look at the Git source code.\n",
        "\n",
        "\n",
        "Maintenance and Data Recovery\n",
        "\n",
        "Maintenance\n",
        "\n",
        "Data Recovery\n",
        "\n",
        "Removing Objects\n",
        "\n",
        "Environment Variables\n",
        "\n",
        "Global Behavior\n",
        "\n",
        "Repository Locations\n",
        "\n",
        "Pathspecs\n",
        "\n",
        "Committing\n",
        "\n",
        "Networking\n",
        "\n",
        "Diffing and Merging\n",
        "\n",
        "Debugging\n",
        "\n",
        "GIT_SSH\n",
        "\n",
        "GIT_ASKPASS\n",
        "\n",
        "GIT_NAMESPACE\n",
        "\n",
        "GIT_FLUSH\n",
        "\n",
        "GIT_REFLOG_ACTION\n",
        "\n",
        "Summary\n",
        "At this point, you should have a pretty good understanding of what Git does in the background and, to some degree, how it’s implemented. This chapter has covered a number of plumbing commands — commands that are lower level and simpler than the porcelain commands you’ve learned about in the rest of the book. Understanding how Git works at a lower level should make it easier to understand why it’s doing what it’s doing and also to write your own tools and helper scripts to make your specific workflow work for you.\n",
        "\n",
        "Git as a content-addressable filesystem is a very powerful tool that you can easily use as more than just a VCS. We hope you can use your newfound knowledge of Git internals to implement your own cool application of this technology and feel more comfortable using Git in more advanced ways."
      ]
    },
    {
      "cell_type": "markdown",
      "metadata": {
        "id": "IfVdIcR3PR4N"
      },
      "source": [
        "## GitLab"
      ]
    },
    {
      "cell_type": "markdown",
      "metadata": {
        "id": "uKK5P-ilPTRf"
      },
      "source": [
        "[GitLab](https://colab.research.google.com/github/dbremont/Notas/blob/main/Ingenerare/GitLab.ipynb)"
      ]
    },
    {
      "cell_type": "markdown",
      "metadata": {
        "id": "yO5CHO5IB9-o"
      },
      "source": [
        "## Appendix B: Embedding Git in your Applications"
      ]
    },
    {
      "cell_type": "markdown",
      "metadata": {
        "id": "9Bb9dmtv-TWs"
      },
      "source": [
        "A2.1 Command-line Git\n",
        "\n",
        "A2.2 [Libgit2](https://libgit2.org/)\n",
        "\n",
        "A2.3 [JGit](https://www.eclipse.org/jgit/)\n",
        "\n",
        "A2.4 [go-git](https://github.com/go-git/go-git)\n",
        "\n",
        "A2.5 [Dulwich](https://www.dulwich.io/)"
      ]
    },
    {
      "cell_type": "markdown",
      "metadata": {
        "id": "t23NddFJOav0"
      },
      "source": [
        "If you need to integrate Git with your application, you have essentially two options: spawn a shell and call the git command-line program, or embed a Git library into your application. Here we’ll cover command-line integration and several of the most popular embeddable Git libraries.\n",
        "\n"
      ]
    },
    {
      "cell_type": "markdown",
      "metadata": {
        "id": "MDnlaV04CBDg"
      },
      "source": [
        "## Appendix C: Git Commands"
      ]
    },
    {
      "cell_type": "markdown",
      "metadata": {
        "id": "0Q3ym0iB9cap"
      },
      "source": [
        "A3.1 Setup and Config\n",
        "\n",
        "A3.2 Getting and Creating Projects\n",
        "\n",
        "A3.3 Basic Snapshotting\n",
        "\n",
        "A3.4 Branching and Merging\n",
        "\n",
        "A3.5 Sharing and Updating Projects\n",
        "\n",
        "A3.6 Inspection and Comparison\n",
        "\n",
        "A3.7 Debugging\n",
        "\n",
        "A3.8 Patching\n",
        "\n",
        "A3.9 Email\n",
        "\n",
        "A3.10 External Systems\n",
        "\n",
        "A3.11 Administration\n",
        "\n",
        "A3.12 Plumbing Commands"
      ]
    },
    {
      "cell_type": "markdown",
      "metadata": {
        "id": "qrW1vEJtPLM7"
      },
      "source": [
        "git init\n",
        "\n",
        "git clone\n",
        "\n",
        "git add\n",
        "\n",
        "git status\n",
        "\n",
        "git diff\n",
        "\n",
        "git difftoool\n",
        "\n",
        "git commit\n",
        "\n",
        "git reset\n",
        "\n",
        "git rm\n",
        "\n",
        "git clean\n",
        "\n",
        "git branch\n",
        "\n",
        "git checkout\n",
        "\n",
        "git merge\n",
        "\n",
        "git mergetool\n",
        "\n",
        "git log\n",
        "\n",
        "git stash\n",
        "\n",
        "git tag\n",
        "\n",
        "git fetch\n",
        "\n",
        "git pull\n",
        "\n",
        "git push\n",
        "\n",
        "git remove\n",
        "\n",
        "git archive\n",
        "\n",
        "git submodule\n",
        "\n",
        "git show\n",
        "\n",
        "git shortlog\n",
        "\n",
        "git describe\n",
        "\n",
        "git bisect\n",
        "\n",
        "git blame\n",
        "\n",
        "git grep\n",
        "\n",
        "git cherry-pick\n",
        "\n",
        "git rebase\n",
        "\n",
        "git revert\n",
        "\n",
        "git gc\n",
        "\n",
        "git fsch\n",
        "\n",
        "git reglog\n",
        "\n"
      ]
    },
    {
      "cell_type": "markdown",
      "metadata": {
        "id": "j87L_dAAOvRl"
      },
      "source": [
        "## Otros Recursos"
      ]
    },
    {
      "cell_type": "markdown",
      "metadata": {
        "id": "BZ4Aj8SOOwp1"
      },
      "source": [
        "[The Mising Semester Version Control](https://missing.csail.mit.edu/2020/version-control/)\n",
        "\n",
        "[How to Write a Git Commit Message](https://chris.beams.io/posts/git-commit/)\n",
        "\n",
        "[A successful Git branching model](https://nvie.com/posts/a-sucessful-git-branching-model/)\n",
        "\n",
        "[Gitflow considered harmful](https://www.endoflineblog.com/gitflow-considered-harmful)\n",
        "\n",
        "[Gitflow Workflow](https://www.atlassian.com/git/tutorials/comparing-workflows/gitflow-workflow)\n",
        "\n",
        "[Oh Shit, Git!?!](https://ohshitgit.com/)\n",
        "\n",
        "[Git for Computer Scientists](https://eagain.net/articles/git-for-computer-scientists/)\n",
        "\n",
        "[Git from the Bottom Up](https://jwiegley.github.io/git-from-the-bottom-up/)\n",
        "\n",
        "[How to explain git in simple words?](https://xosh.org/explain-git-in-simple-words/)\n",
        "\n",
        "[Tig: text-mode interface for Git](https://jonas.github.io/tig/)\n",
        "\n",
        "[Learn Git Branching](https://learngitbranching.js.org/)\n",
        "\n",
        "Create a Config repository.\n",
        "  - [Configs](https://github.com/jonhoo/configs)\n",
        "\n",
        "[Git](https://en.wikipedia.org/wiki/Git)\n",
        "\n",
        "[Sergey Bronnikov - Git as a storage](https://bronevichok.ru/posts/git-as-a-storage.html)\n",
        "\n",
        "[Git Magic](https://crypto.stanford.edu/~blynn/gitmagic/)\n",
        "\n",
        "[Learn Git- Git tutorials, workflows and commands](https://www.atlassian.com/git)"
      ]
    },
    {
      "cell_type": "markdown",
      "metadata": {
        "id": "zXcjOjUMOpi3"
      },
      "source": [
        "## How's To"
      ]
    },
    {
      "cell_type": "markdown",
      "metadata": {
        "id": "r-xEAlUbOrNb"
      },
      "source": [
        "[What exactly does the \"u\" do? \"git push -u origin master\" vs \"git push origin master\"](https://stackoverflow.com/questions/5697750/what-exactly-does-the-u-do-git-push-u-origin-master-vs-git-push-origin-ma)\n",
        "\n",
        "- git branch -b <name>\n",
        "- git checkout master\n",
        "- git push -u origin  <name> : This creates a merge request"
      ]
    },
    {
      "cell_type": "markdown",
      "metadata": {
        "id": "LJPkio0APhIl"
      },
      "source": [
        "[git - How to permanently remove few commits from remote branch - Stack Overflow -  ](https://stackoverflow.com/questions/3293531/how-to-permanently-remove-few-commits-from-remote-branch)"
      ]
    },
    {
      "cell_type": "markdown",
      "metadata": {
        "id": "H7OKF_pMPhfc"
      },
      "source": [
        "[How do I push a new local branch to a remote Git repository and track it too? - Stack Overflow -  ](https://stackoverflow.com/questions/2765421/how-do-i-push-a-new-local-branch-to-a-remote-git-repository-and-track-it-too)"
      ]
    },
    {
      "cell_type": "markdown",
      "metadata": {
        "id": "ocherKtpPr_W"
      },
      "source": [
        "[git - Prevent commits in master branch - Stack Overflow -  ](https://stackoverflow.com/questions/40462111/prevent-commits-in-master-branch)"
      ]
    }
  ]
}