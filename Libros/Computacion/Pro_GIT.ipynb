{
  "nbformat": 4,
  "nbformat_minor": 0,
  "metadata": {
    "colab": {
      "name": "Pro GIT.ipynb",
      "provenance": [],
      "toc_visible": true,
      "authorship_tag": "ABX9TyPDldRj1a6kK0RciGxaZAmq",
      "include_colab_link": true
    },
    "kernelspec": {
      "name": "python3",
      "display_name": "Python 3"
    },
    "language_info": {
      "name": "python"
    }
  },
  "cells": [
    {
      "cell_type": "markdown",
      "metadata": {
        "id": "view-in-github",
        "colab_type": "text"
      },
      "source": [
        "<a href=\"https://colab.research.google.com/github/dbremont/Notas/blob/main/Libros/Computacion/Pro_GIT.ipynb\" target=\"_parent\"><img src=\"https://colab.research.google.com/assets/colab-badge.svg\" alt=\"Open In Colab\"/></a>"
      ]
    },
    {
      "cell_type": "markdown",
      "metadata": {
        "id": "6SPBAHQzwMjy"
      },
      "source": [
        "[Ir](https://git-scm.com/book/en/v2)"
      ]
    },
    {
      "cell_type": "markdown",
      "metadata": {
        "id": "1GADBriVBLKw"
      },
      "source": [
        "## Getting Started\n"
      ]
    },
    {
      "cell_type": "markdown",
      "metadata": {
        "id": "jmtJuNY49qbA"
      },
      "source": [
        "1.1 About Version Control\n",
        "\n",
        "1.2 A Short History of Git\n",
        "\n",
        "1.3 What is Git?\n",
        "\n",
        "1.4 The Command Line\n",
        "\n",
        "1.5 Installing Git\n",
        "\n",
        "1.6 First-Time Git Setup\n",
        "\n",
        "1.7 Getting Help\n",
        "\n",
        "1.8 Summary"
      ]
    },
    {
      "cell_type": "markdown",
      "metadata": {
        "id": "5XJHCDGkBI8y"
      },
      "source": [
        "## Git Basics"
      ]
    },
    {
      "cell_type": "markdown",
      "metadata": {
        "id": "oAqB0HZ49qZh"
      },
      "source": [
        "2.1 Getting a Git Repository\n",
        "\n",
        "2.2 Recording Changes to the Repository\n",
        "\n",
        "2.3 Viewing the Commit History\n",
        "\n",
        "2.4 Undoing Things\n",
        "\n",
        "2.5 Working with Remotes\n",
        "\n",
        "2.6 Tagging\n",
        "\n",
        "2.7 Git Aliases\n",
        "\n",
        "2.8 Summary"
      ]
    },
    {
      "cell_type": "markdown",
      "metadata": {
        "id": "Rrfht_JsBRVV"
      },
      "source": [
        "## Git Branching"
      ]
    },
    {
      "cell_type": "markdown",
      "metadata": {
        "id": "wt2U5s8d9wN_"
      },
      "source": [
        "3.1 Branches in a Nutshell\n",
        "\n",
        "3.2 Basic Branching and Merging\n",
        "\n",
        "3.3 Branch Management\n",
        "\n",
        "3.4 Branching Workflows\n",
        "\n",
        "3.5 Remote Branches\n",
        "\n",
        "3.6 Rebasing\n",
        "\n",
        "3.7 Summary\n",
        "\n"
      ]
    },
    {
      "cell_type": "markdown",
      "metadata": {
        "id": "6zeCVGI2BWxq"
      },
      "source": [
        "## Git on the Server"
      ]
    },
    {
      "cell_type": "markdown",
      "metadata": {
        "id": "4ex6mmvI9y2q"
      },
      "source": [
        "4.1 The Protocols\n",
        "\n",
        "4.2 Getting Git on a Server\n",
        "\n",
        "4.3 Generating Your SSH Public Key\n",
        "\n",
        "4.4 Setting Up the Server\n",
        "\n",
        "4.5 Git Daemon\n",
        "\n",
        "4.6 Smart HTTP\n",
        "\n",
        "4.7 GitWeb\n",
        "\n",
        "4.8 GitLab\n",
        "\n",
        "4.9 Third Party Hosted Options\n",
        "\n",
        "4.10 Summary"
      ]
    },
    {
      "cell_type": "markdown",
      "metadata": {
        "id": "9aE8UIN9Bbl6"
      },
      "source": [
        "## Distributed Git"
      ]
    },
    {
      "cell_type": "markdown",
      "metadata": {
        "id": "O-ACN90k904g"
      },
      "source": [
        "5.1 Distributed Workflows\n",
        "\n",
        "5.2 Contributing to a Project\n",
        "\n",
        "5.3 Maintaining a Project\n",
        "\n",
        "5.4 Summary"
      ]
    },
    {
      "cell_type": "markdown",
      "metadata": {
        "id": "EcphYgV4BetR"
      },
      "source": [
        "## GitHub"
      ]
    },
    {
      "cell_type": "markdown",
      "metadata": {
        "id": "yAq4QVVE93Wh"
      },
      "source": [
        "6.1 Account Setup and Configuration\n",
        "\n",
        "6.2 Contributing to a Project\n",
        "\n",
        "6.3 Maintaining a Project\n",
        "\n",
        "6.4 Managing an organization\n",
        "\n",
        "6.5 Scripting GitHub\n",
        "\n",
        "6.6 Summary"
      ]
    },
    {
      "cell_type": "markdown",
      "metadata": {
        "id": "wj5JQ-spBi-L"
      },
      "source": [
        "## Git Tools"
      ]
    },
    {
      "cell_type": "markdown",
      "metadata": {
        "id": "hiXWhijR96au"
      },
      "source": [
        "7.1 Revision Selection\n",
        "\n",
        "7.2 Interactive Staging\n",
        "\n",
        "7.3 Stashing and Cleaning\n",
        "\n",
        "7.4 Signing Your Work\n",
        "\n",
        "7.5 Searching\n",
        "\n",
        "7.6 Rewriting History\n",
        "\n",
        "7.7 Reset Demystified\n",
        "\n",
        "7.8 Advanced Merging\n",
        "\n",
        "7.9 Rerere\n",
        "\n",
        "7.10 Debugging with Git\n",
        "\n",
        "7.11 Submodules\n",
        "\n",
        "7.12 Bundling\n",
        "\n",
        "7.13 Replace\n",
        "\n",
        "7.14 Credential Storage\n",
        "\n",
        "7.15 Summary"
      ]
    },
    {
      "cell_type": "markdown",
      "metadata": {
        "id": "yyixUEjXBnhb"
      },
      "source": [
        "## Customizing Git"
      ]
    },
    {
      "cell_type": "markdown",
      "metadata": {
        "id": "vFCE8PSc96ZO"
      },
      "source": [
        "8.1 Git Configuration\n",
        "\n",
        "8.2 Git Attributes\n",
        "\n",
        "8.3 Git Hooks\n",
        "\n",
        "8.4 An Example Git-Enforced Policy\n",
        "\n",
        "8.5 Summary"
      ]
    },
    {
      "cell_type": "markdown",
      "metadata": {
        "id": "gIDXm0EhBskf"
      },
      "source": [
        "## Git and Other Systems"
      ]
    },
    {
      "cell_type": "markdown",
      "metadata": {
        "id": "rQDT5gKI994x"
      },
      "source": [
        "9.1 Git as a Client\n",
        "\n",
        "9.2 Migrating to Git\n",
        "\n",
        "9.3 Summary"
      ]
    },
    {
      "cell_type": "markdown",
      "metadata": {
        "id": "kGOn3szAB0lB"
      },
      "source": [
        "## Git Internals"
      ]
    },
    {
      "cell_type": "markdown",
      "metadata": {
        "id": "jVQSmkiC-CWC"
      },
      "source": [
        "10.1 Plumbing and Porcelain\n",
        "\n",
        "10.2 Git Objects\n",
        "\n",
        "10.3 Git References\n",
        "\n",
        "10.4 Packfiles\n",
        "\n",
        "10.5 The Refspec\n",
        "\n",
        "10.6 Transfer Protocols\n",
        "\n",
        "10.7 Maintenance and Data Recovery\n",
        "\n",
        "10.8 Environment Variables\n",
        "\n",
        "10.9 Summary"
      ]
    },
    {
      "cell_type": "markdown",
      "metadata": {
        "id": "vWNYR6qzB6I4"
      },
      "source": [
        "## Appendix A: Git in Other Environments"
      ]
    },
    {
      "cell_type": "markdown",
      "metadata": {
        "id": "yrO0nCS1-Rlx"
      },
      "source": [
        "A1.1 Graphical Interfaces\n",
        "\n",
        "A1.2 Git in Visual Studio\n",
        "\n",
        "A1.3 Git in Visual Studio Code\n",
        "\n",
        "A1.4 Git in IntelliJ / PyCharm / WebStorm / PhpStorm / RubyMine\n",
        "\n",
        "A1.5 Git in Sublime Text\n",
        "\n",
        "A1.6 Git in Bash\n",
        "\n",
        "A1.7 Git in Zsh\n",
        "\n",
        "A1.8 Git in PowerShell\n",
        "\n",
        "A1.9 Summary"
      ]
    },
    {
      "cell_type": "markdown",
      "metadata": {
        "id": "yO5CHO5IB9-o"
      },
      "source": [
        "## Appendix B: Embedding Git in your Applications"
      ]
    },
    {
      "cell_type": "markdown",
      "metadata": {
        "id": "9Bb9dmtv-TWs"
      },
      "source": [
        "A2.1 Command-line Git\n",
        "\n",
        "A2.2 Libgit2\n",
        "\n",
        "A2.3 JGit\n",
        "\n",
        "A2.4 go-git\n",
        "\n",
        "A2.5 Dulwich"
      ]
    },
    {
      "cell_type": "markdown",
      "metadata": {
        "id": "MDnlaV04CBDg"
      },
      "source": [
        "## Appendix C: Git Commands"
      ]
    },
    {
      "cell_type": "markdown",
      "metadata": {
        "id": "0Q3ym0iB9cap"
      },
      "source": [
        "A3.1 Setup and Config\n",
        "\n",
        "A3.2 Getting and Creating Projects\n",
        "\n",
        "A3.3 Basic Snapshotting\n",
        "\n",
        "A3.4 Branching and Merging\n",
        "\n",
        "A3.5 Sharing and Updating Projects\n",
        "\n",
        "A3.6 Inspection and Comparison\n",
        "\n",
        "A3.7 Debugging\n",
        "\n",
        "A3.8 Patching\n",
        "\n",
        "A3.9 Email\n",
        "\n",
        "A3.10 External Systems\n",
        "\n",
        "A3.11 Administration\n",
        "\n",
        "A3.12 Plumbing Commands"
      ]
    }
  ]
}