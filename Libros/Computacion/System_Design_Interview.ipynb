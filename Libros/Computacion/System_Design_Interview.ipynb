{
  "nbformat": 4,
  "nbformat_minor": 0,
  "metadata": {
    "colab": {
      "name": "System Design Interview.ipynb",
      "provenance": [],
      "toc_visible": true,
      "authorship_tag": "ABX9TyOgotC0s+5NQNC2L+xfi78w",
      "include_colab_link": true
    },
    "kernelspec": {
      "name": "python3",
      "display_name": "Python 3"
    },
    "language_info": {
      "name": "python"
    }
  },
  "cells": [
    {
      "cell_type": "markdown",
      "metadata": {
        "id": "view-in-github",
        "colab_type": "text"
      },
      "source": [
        "<a href=\"https://colab.research.google.com/github/dbremont/Notas/blob/main/Libros/Computacion/System_Design_Interview.ipynb\" target=\"_parent\"><img src=\"https://colab.research.google.com/assets/colab-badge.svg\" alt=\"Open In Colab\"/></a>"
      ]
    },
    {
      "cell_type": "markdown",
      "metadata": {
        "id": "Ece22H0tpTpb"
      },
      "source": [
        "# System Design Interview\n",
        "\n"
      ]
    },
    {
      "cell_type": "markdown",
      "metadata": {
        "id": "CVlYTavhIZ2a"
      },
      "source": [
        "## Scale From Zero to Millions of Users"
      ]
    },
    {
      "cell_type": "markdown",
      "metadata": {
        "id": "1WdCL6r5yCa0"
      },
      "source": [
        "Single server setup\n",
        "\n",
        "Database\n",
        "\n",
        "Vertical vs horizontal scaling\n",
        "\n",
        "Load balancer\n",
        "\n",
        "Database replication\n",
        "\n",
        "Cache\n",
        "\n",
        "Content delivery network (CDN)\n",
        "\n",
        "Considerations of using a CDN\n",
        "\n",
        "Stateless web tier\n",
        "\n",
        "Stateful architecture\n",
        "\n",
        "Data centers\n",
        "\n",
        "Database scaling\n",
        "\n",
        "Millins of users and beyond\n",
        "\n",
        "\n",
        "\n"
      ]
    },
    {
      "cell_type": "markdown",
      "metadata": {
        "id": "H3h68RrRJy0l"
      },
      "source": [
        "## Back-Of-The-Envelope Estimation"
      ]
    },
    {
      "cell_type": "markdown",
      "metadata": {
        "id": "ddLl-PPlykcO"
      },
      "source": [
        "Latency numbers every programmer should know\n",
        "\n",
        "Availability numbers\n",
        "\n",
        "Estimate Twitter QPS and storage requirements\n",
        "\n"
      ]
    },
    {
      "cell_type": "markdown",
      "metadata": {
        "id": "dhDWARxwJ08-"
      },
      "source": [
        "## A Framework for System Design Interviews"
      ]
    },
    {
      "cell_type": "markdown",
      "metadata": {
        "id": "fLNGjeSMy5FM"
      },
      "source": [
        "A 4-step process for effective system design interview\n",
        "\n",
        "\n",
        "1. Understand the problem and establish design scope\n",
        "2. Propose high-level design and get buy-in\n",
        "3. Design deep dive\n",
        "4. Wrap up"
      ]
    },
    {
      "cell_type": "markdown",
      "metadata": {
        "id": "yzfDcMUuJ393"
      },
      "source": [
        "## Design a Rate Limiter"
      ]
    },
    {
      "cell_type": "markdown",
      "metadata": {
        "id": "RBzwDIlOzRo7"
      },
      "source": [
        "..."
      ]
    },
    {
      "cell_type": "markdown",
      "metadata": {
        "id": "gnfz_aDqJ-co"
      },
      "source": [
        "## Desing a Consistent Hashing"
      ]
    },
    {
      "cell_type": "markdown",
      "metadata": {
        "id": "7mL2xWBEKD0L"
      },
      "source": [
        "## Design a Key-Value Store"
      ]
    },
    {
      "cell_type": "markdown",
      "metadata": {
        "id": "Q4EXLJOFKGfA"
      },
      "source": [
        "## Design a Unique ID Generator in Distributed Systems"
      ]
    },
    {
      "cell_type": "markdown",
      "metadata": {
        "id": "ILAVG0vxKJ8O"
      },
      "source": [
        "## Design a URL Shortener"
      ]
    },
    {
      "cell_type": "markdown",
      "metadata": {
        "id": "lFef_VpFKNk3"
      },
      "source": [
        "## Design a Web Crawler"
      ]
    },
    {
      "cell_type": "markdown",
      "metadata": {
        "id": "lLZqQ6XVKSoy"
      },
      "source": [
        "## Design a Notification System"
      ]
    },
    {
      "cell_type": "markdown",
      "metadata": {
        "id": "LJl_Ju-yKUBL"
      },
      "source": [
        "## Design a News Feed System"
      ]
    },
    {
      "cell_type": "markdown",
      "metadata": {
        "id": "i9el_6DdKZoZ"
      },
      "source": [
        "## Design a Chat System"
      ]
    },
    {
      "cell_type": "markdown",
      "metadata": {
        "id": "pFzDYA5yKegc"
      },
      "source": [
        "## Design a Search Autocomplete System"
      ]
    },
    {
      "cell_type": "markdown",
      "metadata": {
        "id": "q11SuoTcLwFI"
      },
      "source": [
        "## Design YouTube"
      ]
    },
    {
      "cell_type": "markdown",
      "metadata": {
        "id": "Vg9DHnJ0LzfH"
      },
      "source": [
        "## Design Google Drive"
      ]
    },
    {
      "cell_type": "markdown",
      "metadata": {
        "id": "uva4x_crL16r"
      },
      "source": [
        "## The Learning Continiues Afterword"
      ]
    },
    {
      "cell_type": "markdown",
      "metadata": {
        "id": "8MBPCefyzWeZ"
      },
      "source": [
        "Designign good systems requires years of accumulation of knowledge.\n",
        "\n",
        "Real-world systems\n",
        "\n",
        "Facebook Timeline: Brought To You By The Power of Denormalization\n",
        "\n",
        "Scale of Facebook\n",
        "\n",
        "A 360 Degree View of the entire netflix stack\n",
        "\n",
        "Google architecture ..\n",
        "\n",
        "ERnginering blogs from compatnies\n",
        "\n",
        "aribnb\n",
        "\n",
        "amazon\n",
        "\n",
        "asana\n",
        "\n",
        "atlassinan\n",
        "\n",
        "docker \n",
        "\n",
        "..."
      ]
    }
  ]
}