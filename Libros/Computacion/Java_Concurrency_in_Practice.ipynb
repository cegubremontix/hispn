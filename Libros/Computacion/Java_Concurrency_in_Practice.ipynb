{
  "nbformat": 4,
  "nbformat_minor": 0,
  "metadata": {
    "colab": {
      "name": "Java Concurrency in Practice.ipynb",
      "provenance": [],
      "toc_visible": true,
      "authorship_tag": "ABX9TyOqhwc+roffYdUDQQle+yRQ",
      "include_colab_link": true
    },
    "kernelspec": {
      "name": "python3",
      "display_name": "Python 3"
    },
    "language_info": {
      "name": "python"
    }
  },
  "cells": [
    {
      "cell_type": "markdown",
      "metadata": {
        "id": "view-in-github",
        "colab_type": "text"
      },
      "source": [
        "<a href=\"https://colab.research.google.com/github/dbremont/Notas/blob/main/Libros/Computacion/Java_Concurrency_in_Practice.ipynb\" target=\"_parent\"><img src=\"https://colab.research.google.com/assets/colab-badge.svg\" alt=\"Open In Colab\"/></a>"
      ]
    },
    {
      "cell_type": "markdown",
      "metadata": {
        "id": "Ece22H0tpTpb"
      },
      "source": [
        "# Java Concurrency in Practice"
      ]
    },
    {
      "cell_type": "markdown",
      "metadata": {
        "id": "EWfRm_hmoj8t"
      },
      "source": [
        "## Introduction"
      ]
    },
    {
      "cell_type": "markdown",
      "metadata": {
        "id": "5Evg0SOGqKDY"
      },
      "source": [
        "## Fundamentals"
      ]
    },
    {
      "cell_type": "markdown",
      "metadata": {
        "id": "biBJWYOWoLSR"
      },
      "source": [
        "### Thread Safety"
      ]
    },
    {
      "cell_type": "markdown",
      "metadata": {
        "id": "9AjSpNp4oTH4"
      },
      "source": [
        "### Sharing Objects"
      ]
    },
    {
      "cell_type": "markdown",
      "metadata": {
        "id": "uH3mIUe3oWiW"
      },
      "source": [
        "### Composing Objets"
      ]
    },
    {
      "cell_type": "markdown",
      "metadata": {
        "id": "H89HPt_qoaSU"
      },
      "source": [
        "### Bulding Blocks"
      ]
    },
    {
      "cell_type": "markdown",
      "metadata": {
        "id": "vy6Nue4mocYB"
      },
      "source": [
        "## Structing Concurrent Applications "
      ]
    },
    {
      "cell_type": "markdown",
      "metadata": {
        "id": "fXo-GLSJp07o"
      },
      "source": [
        "### Task Execution"
      ]
    },
    {
      "cell_type": "markdown",
      "metadata": {
        "id": "_CWnGlZ3p5XB"
      },
      "source": [
        "### Cancellation and Shutdown"
      ]
    },
    {
      "cell_type": "markdown",
      "metadata": {
        "id": "1SN8XwJgofMz"
      },
      "source": [
        "### Applying Thread Pools"
      ]
    },
    {
      "cell_type": "markdown",
      "metadata": {
        "id": "z9h-wv4Roizh"
      },
      "source": [
        "### GUI Applications"
      ]
    },
    {
      "cell_type": "markdown",
      "metadata": {
        "id": "oFlToZjeopoM"
      },
      "source": [
        "##  Liveness, Performace, and Testing"
      ]
    },
    {
      "cell_type": "markdown",
      "metadata": {
        "id": "gy8Zk47GosRo"
      },
      "source": [
        "### Avoiding Liveness Hazards"
      ]
    },
    {
      "cell_type": "markdown",
      "metadata": {
        "id": "lS8VSxg4qWc0"
      },
      "source": [
        "### Performace and Scalability"
      ]
    },
    {
      "cell_type": "markdown",
      "metadata": {
        "id": "ORE0XrAMqk4y"
      },
      "source": [
        "### Testing Concurrent Programs"
      ]
    },
    {
      "cell_type": "markdown",
      "metadata": {
        "id": "7jJC5Hvmot72"
      },
      "source": [
        "## Advanced Topics"
      ]
    },
    {
      "cell_type": "markdown",
      "metadata": {
        "id": "9kf7cFfmowPb"
      },
      "source": [
        "### Explicit Locks"
      ]
    },
    {
      "cell_type": "markdown",
      "metadata": {
        "id": "vP1IVGdyqvw1"
      },
      "source": [
        "### Building Custom Synchonizers"
      ]
    },
    {
      "cell_type": "markdown",
      "metadata": {
        "id": "OzOpTe8Uq3zM"
      },
      "source": [
        "### Atomic Variables and Nonblocking Synchonization"
      ]
    },
    {
      "cell_type": "markdown",
      "metadata": {
        "id": "-BnXEMxmq9_3"
      },
      "source": [
        "### Java Memory Model"
      ]
    },
    {
      "cell_type": "markdown",
      "metadata": {
        "id": "95hl7dFarC07"
      },
      "source": [
        "### Annotations for Concurrency"
      ]
    }
  ]
}