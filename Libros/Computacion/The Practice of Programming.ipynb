{
  "nbformat": 4,
  "nbformat_minor": 0,
  "metadata": {
    "kernelspec": {
      "display_name": "Python 2.7.18 64-bit",
      "name": "python2718jvsc74a57bd0f92b2924b84ff19c1c3dc485f7644d4486f64738191026bf8e6de303969141b5"
    },
    "language_info": {
      "name": "python",
      "version": ""
    },
    "metadata": {
      "interpreter": {
        "hash": "f92b2924b84ff19c1c3dc485f7644d4486f64738191026bf8e6de303969141b5"
      }
    },
    "orig_nbformat": 2,
    "colab": {
      "name": "The Practice of Programming.ipynb",
      "provenance": [],
      "include_colab_link": true
    }
  },
  "cells": [
    {
      "cell_type": "markdown",
      "metadata": {
        "id": "view-in-github",
        "colab_type": "text"
      },
      "source": [
        "<a href=\"https://colab.research.google.com/github/dbremont/Notas/blob/main/Libros/Computacion/The%20Practice%20of%20Programming.ipynb\" target=\"_parent\"><img src=\"https://colab.research.google.com/assets/colab-badge.svg\" alt=\"Open In Colab\"/></a>"
      ]
    },
    {
      "cell_type": "markdown",
      "metadata": {
        "id": "tPZDYi2b5o6Q"
      },
      "source": [
        "The Practice of Programming"
      ]
    },
    {
      "cell_type": "markdown",
      "metadata": {
        "id": "nE0AFRHhhGKa"
      },
      "source": [
        "# Style"
      ]
    },
    {
      "cell_type": "markdown",
      "metadata": {
        "id": "BubY3aIthqns"
      },
      "source": [
        "Use descriptive names for globals, short names for locals\n",
        "\n",
        "Be consistent\n",
        "\n",
        "Use active names for functions\n",
        "\n",
        "Be accurate\n",
        "\n",
        "Indent to show structure\n",
        "\n",
        "Use the natrual form for expressions\n",
        "\n",
        "Parenthesize to resolve ambiguity\n",
        "\n",
        "Break up complex expressions\n",
        "\n",
        "Be clear\n",
        "\n",
        "Be careful with side effects\n",
        "\n",
        "Use a consitent indentation and brace style\n",
        "\n",
        "Use idioms for consistency\n",
        "\n",
        "Use else-ifs for multi-way decisions\n",
        "\n",
        "Avoid function macros\n",
        "\n",
        "Parenthesize the macro body and arguments\n",
        "\n",
        "Give names to magic numbers\n",
        "\n",
        "Define numbers as constans, not macros\n",
        "\n",
        "Use character constans, not integers\n",
        "\n",
        "Use the language to calculate the size of an object\n",
        "\n",
        "Don't belabor the obvious\n",
        "\n",
        "Comment functions and global data\n",
        "\n",
        "Don't comment bad code, rewrite it\n",
        "\n",
        "Don't contradict the code\n",
        "\n",
        "Clarity, don't confuse"
      ]
    },
    {
      "cell_type": "markdown",
      "metadata": {
        "id": "tlMfuHVphLUe"
      },
      "source": [
        "# Algorithms and Data Structures"
      ]
    },
    {
      "cell_type": "markdown",
      "metadata": {
        "id": "DvC_MHVmjsR8"
      },
      "source": [
        "Searching \n",
        "\n",
        "Sorting\n",
        "\n",
        "Libraries\n",
        "\n",
        "A Java Quicksort\n",
        "\n",
        "O-Notation\n",
        "\n",
        "Growing Ararys\n",
        "\n",
        "Lists\n",
        "\n",
        "Trees\n",
        "\n",
        "Hash Tables\n",
        "\n",
        "Exercise 2-11\n",
        "\n",
        "Exercise 2-12\n",
        "\n",
        "Exercise 2-13\n",
        "\n",
        "Exercise 2-14\n",
        "\n",
        "Exercise 2-15\n",
        "\n",
        "Exercise 2-16\n",
        "\n",
        "Exercise 2-17"
      ]
    },
    {
      "cell_type": "markdown",
      "metadata": {
        "id": "foPrcEQ6hN_v"
      },
      "source": [
        "# Design eand Implementation"
      ]
    },
    {
      "cell_type": "markdown",
      "metadata": {
        "id": "d88FwK2QkM3Y"
      },
      "source": [
        "The Markov Chain Algorithm\n",
        "\n",
        "Data Structuers Alternatives\n",
        "\n",
        "Building the Data Structure in C\n",
        "\n",
        "Generating Output\n",
        "\n",
        "Java\n",
        "\n",
        "C++\n",
        "\n",
        "Awk and Perl\n",
        "\n",
        "Performace\n",
        "\n",
        "Exercise 1-1\n",
        "\n",
        "Exercise 1-2\n",
        "\n",
        "Exercise 1-3\n",
        "\n",
        "Exercise 1-4\n",
        "\n",
        "Exercise 1-5\n",
        "\n",
        "Exercise 1-6\n",
        "\n",
        "Exercise 1-7\n",
        "\n",
        "Exercise 1-8"
      ]
    },
    {
      "cell_type": "markdown",
      "metadata": {
        "id": "T1pouw-zhQz7"
      },
      "source": [
        "# Interfaces"
      ]
    },
    {
      "cell_type": "markdown",
      "metadata": {
        "id": "5fYPgFkPk3xr"
      },
      "source": [
        "Comma Separeted Values \n",
        "\n",
        "A Prototype Library\n",
        "\n",
        "A  Library for Others\n",
        "\n",
        "A C++ Implementation \n",
        "\n",
        "Interface Principles\n",
        "\n",
        "Resource Management\n",
        "\n",
        "Abort, Retry,  Fail?\n",
        "\n",
        "User Interfaces\n",
        "\n",
        "Hide implementation details\n",
        "\n",
        "Choose a small orthogonal set of primitives\n",
        "\n",
        "Don't reach behind the user's back\n",
        "\n",
        "Do the same thing the same way everywhere\n",
        "\n",
        "Free a resource in the same layer that allocated it\n",
        "\n",
        "Detect erros at a low leve, handle them at a high level\n",
        "\n",
        "Use exceptions only for exceptional situations"
      ]
    },
    {
      "cell_type": "markdown",
      "metadata": {
        "id": "1-mCaxe6hVBf"
      },
      "source": [
        "# Debugging"
      ]
    },
    {
      "cell_type": "markdown",
      "metadata": {
        "id": "_eMeyKfVlq7Z"
      },
      "source": [
        "Debuggers\n",
        "\n",
        "Good Clues, Easy Bugs\n",
        "\n",
        "No Clues, Hard Bugs\n",
        "\n",
        "Last Resorts\n",
        "\n",
        "Non-reproducible Bugs\n",
        "\n",
        "Debugging Tools\n",
        "\n",
        "Other People's Bugs\n",
        "\n",
        "Look for familiar paterns\n",
        "\n",
        "Examine the most recent change\n",
        "\n",
        "Don't make the same mistake twice\n",
        "\n",
        "Debug it now, not later\n",
        "\n",
        "Get a  stack trace\n",
        "\n",
        "Read before typing\n",
        "\n",
        "Explain your code to someone else\n",
        "\n",
        "Make the bug reproducible\n",
        "\n",
        "Divide and conquer\n",
        "\n",
        "Study the numerology of failures\n",
        "\n",
        "Display output to localize your search\n",
        "\n",
        "Write self-checking code\n",
        "\n",
        "Write a log file\n",
        "\n",
        "Draw a picture\n",
        "\n",
        "Use tools\n",
        "\n",
        "Keep records"
      ]
    },
    {
      "cell_type": "markdown",
      "metadata": {
        "id": "YggQBTNphXWF"
      },
      "source": [
        "# Testing"
      ]
    },
    {
      "cell_type": "markdown",
      "metadata": {
        "id": "xNQgdMKwmycP"
      },
      "source": [
        "Test as You Write the Code\n",
        "\n",
        "Exercise 6-1\n",
        "\n",
        "Systematic Testing\n",
        "\n",
        "Test Automation\n",
        "\n",
        "Test Scaffolds\n",
        "\n",
        "Stress Tests\n",
        "\n",
        "Exercise 6-2\n",
        "\n",
        "Exercise 6-3\n",
        "\n",
        "Exercise 6-4\n",
        "\n",
        "Exercise 6-5\n",
        "\n",
        "Exercise 6-6\n",
        "\n",
        "Exercise 6-7\n",
        "\n",
        "Exercise 6-8\n",
        "\n",
        "Exercise 6-9\n",
        "\n",
        "Tips for Testing\n",
        "\n",
        "Who Does the Testing?\n",
        "\n",
        "Testing the Markov Progrma\n",
        "\n",
        "Test code at its boundaries\n",
        "\n",
        "Test pre and post conditions\n",
        "\n",
        "Use assertions\n",
        "\n",
        "Program defensively\n",
        "\n",
        "Check error returns\n",
        "\n",
        "Test incrementallyu\n",
        "\n",
        "Test simpel part first\n",
        "\n",
        "Know what outptu to expect \n",
        "\n",
        "Verify conversavation properties\n",
        "\n",
        "Compare independent implementations\n",
        "\n",
        "Measure test  coverage\n",
        "\n",
        "Automate regression testing\n",
        "\n",
        "Create self-contained test"
      ]
    },
    {
      "cell_type": "markdown",
      "metadata": {
        "id": "3JlI_rlYhY9e"
      },
      "source": [
        "# Performace"
      ]
    },
    {
      "cell_type": "markdown",
      "metadata": {
        "id": "6epzfpY6nRTb"
      },
      "source": [
        "Automate timing measurements\n",
        "\n",
        "Use a profiler\n",
        "\n",
        "Concentrate o the hot spots\n",
        "\n",
        "Draw a picture\n",
        "\n",
        "Use a better algorithm or data structure\n",
        "\n",
        "Enable compiler optimizations\n",
        "\n",
        "Tune the code\n",
        "\n",
        "Don't optimize what doesn't matter\n",
        "\n",
        "Collect common subexpressions\n",
        "\n",
        "Replace expensive operations by cheap ones\n",
        "\n",
        "Unroll or eliminate loops\n",
        "\n",
        "Cache frequently-used values\n",
        "\n",
        "Write a special-purpose allocator\n",
        "\n",
        "Buffer input and output\n",
        "\n",
        "Handle special cases separately\n",
        "\n",
        "Precompute results\n",
        "\n",
        "Use approximate values\n",
        "\n",
        "Rewrite in a lower-level language\n",
        "\n",
        "Save space by using the smallest possible data type\n",
        "\n",
        "Don't store what eyou can easily recompute"
      ]
    },
    {
      "cell_type": "markdown",
      "metadata": {
        "id": "1fUTO3IBhbTX"
      },
      "source": [
        "# Portability"
      ]
    },
    {
      "cell_type": "markdown",
      "metadata": {
        "id": "nyba2hP7oSBA"
      },
      "source": [
        "Stick to the standard\n",
        "\n",
        "Program in the mainstream\n",
        "\n",
        "Beware of languague trouble spots\n",
        "\n",
        "Try several compilers\n",
        "\n",
        "Use standard libraries\n",
        "\n",
        "Use only features avialable everywhere\n",
        "\n",
        "Avoid conditional compilation\n",
        "\n",
        "Localize system dependencies in separate files\n",
        "\n",
        "Hide system dependencies behind interfaces\n",
        "\n",
        "Use text for data exchange\n",
        "\n",
        "Use a fixed byte order for data exchange\n",
        "\n",
        "Change the name if you change the specification\n",
        "\n",
        "Maintain compatibility with existing programs and data\n",
        "\n",
        "Don't assume ASCII\n",
        "\n",
        "Don't assume English"
      ]
    },
    {
      "cell_type": "markdown",
      "metadata": {
        "id": "Y-JyCnxqheFz"
      },
      "source": [
        "# Notation"
      ]
    }
  ]
}