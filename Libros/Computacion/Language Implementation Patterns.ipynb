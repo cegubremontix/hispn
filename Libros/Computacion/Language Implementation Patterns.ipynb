{
 "cells": [
  {
   "cell_type": "markdown",
   "metadata": {},
   "source": [
    "Create Your Own Domain specific and general programming languages\n",
    "\n",
    "Getting Started with Parsing\n",
    "\n",
    "1. Language Applications Cracked Open\n",
    "2. Basic Parsing Patterns\n",
    "3. Enhanced Parsing Patterns\n",
    "\n",
    "Analyzing Languages\n",
    "\n",
    "4. Building Intermediate Form Trees\n",
    "5. Walking and Rewriting Trees\n",
    "6. Tracking and Identifying Program Symbols\n",
    "7. Managing Symbol Tables for Data Aggregates\n",
    "8. Enforcing  Static Types Rules\n",
    "\n",
    "Buildign Interpreters\n",
    "9. Building High-Level Interpreters\n",
    "10. Building Bytecode Interpreters\n",
    "\n",
    "Translating and  Generating Languages\n",
    "11. Translating Computer Languages\n",
    "12. Generating DSLs with Templates\n",
    "13. Putting It All Together"
   ]
  }
 ],
 "metadata": {
  "kernelspec": {
   "display_name": "Python 2.7.18 64-bit",
   "name": "python2718jvsc74a57bd0f92b2924b84ff19c1c3dc485f7644d4486f64738191026bf8e6de303969141b5"
  },
  "language_info": {
   "name": "python",
   "version": ""
  },
  "metadata": {
   "interpreter": {
    "hash": "f92b2924b84ff19c1c3dc485f7644d4486f64738191026bf8e6de303969141b5"
   }
  },
  "orig_nbformat": 2
 },
 "nbformat": 4,
 "nbformat_minor": 2
}