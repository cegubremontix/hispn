{
  "nbformat": 4,
  "nbformat_minor": 0,
  "metadata": {
    "colab": {
      "name": "AspectJ in Action.ipynb",
      "provenance": [],
      "authorship_tag": "ABX9TyNpPCmbfkBnPPgNL+0ykgF9",
      "include_colab_link": true
    },
    "kernelspec": {
      "name": "python3",
      "display_name": "Python 3"
    },
    "language_info": {
      "name": "python"
    }
  },
  "cells": [
    {
      "cell_type": "markdown",
      "metadata": {
        "id": "view-in-github",
        "colab_type": "text"
      },
      "source": [
        "<a href=\"https://colab.research.google.com/github/dbremont/Notas/blob/main/Libros/Computacion/AspectJ_in_Action.ipynb\" target=\"_parent\"><img src=\"https://colab.research.google.com/assets/colab-badge.svg\" alt=\"Open In Colab\"/></a>"
      ]
    },
    {
      "cell_type": "markdown",
      "metadata": {
        "id": "hQe2U_nyy3JJ"
      },
      "source": [
        "# Understanding AOP and ASPECTJ"
      ]
    },
    {
      "cell_type": "markdown",
      "metadata": {
        "id": "DoL3OTxhZ3Tc"
      },
      "source": [
        "## Dicovering AOP"
      ]
    },
    {
      "cell_type": "markdown",
      "metadata": {
        "id": "t4H7qUtiZ5PE"
      },
      "source": [
        "## Introducing AspectJ"
      ]
    },
    {
      "cell_type": "markdown",
      "metadata": {
        "id": "zq54gNwqZ8QV"
      },
      "source": [
        "## Understanding the join point model"
      ]
    },
    {
      "cell_type": "markdown",
      "metadata": {
        "id": "VdT08LdFZ-8X"
      },
      "source": [
        "## Modifying behavior with dynamic crosscutting"
      ]
    },
    {
      "cell_type": "markdown",
      "metadata": {
        "id": "bqNewNUtaDOc"
      },
      "source": [
        "## Modifying structure with static crosscutting"
      ]
    },
    {
      "cell_type": "markdown",
      "metadata": {
        "id": "9_1z9uW9aHn9"
      },
      "source": [
        "## Aspect: putting it all together"
      ]
    },
    {
      "cell_type": "markdown",
      "metadata": {
        "id": "hsUSkCDCaLIv"
      },
      "source": [
        "## Diving  into the @AspectJ syntaxt"
      ]
    },
    {
      "cell_type": "markdown",
      "metadata": {
        "id": "6l-DaCSKaRaw"
      },
      "source": [
        "## AspectJ weaving models"
      ]
    },
    {
      "cell_type": "markdown",
      "metadata": {
        "id": "txStyvqeaUVQ"
      },
      "source": [
        "## Integration with Spring"
      ]
    },
    {
      "cell_type": "markdown",
      "metadata": {
        "id": "B5yrTlz3aW5w"
      },
      "source": [
        "# Applications of AspectJ with Spring"
      ]
    },
    {
      "cell_type": "markdown",
      "metadata": {
        "id": "xekOx0DxaZzl"
      },
      "source": [
        "## Monitoring techniques"
      ]
    },
    {
      "cell_type": "markdown",
      "metadata": {
        "id": "anUz4_iCacjf"
      },
      "source": [
        "## Policy enforcement: keeping your design intact"
      ]
    },
    {
      "cell_type": "markdown",
      "metadata": {
        "id": "fJ5xHo0zag7q"
      },
      "source": [
        "## Learning design patterns"
      ]
    },
    {
      "cell_type": "markdown",
      "metadata": {
        "id": "LZAKMQ1IajYM"
      },
      "source": [
        "## Implementing concurrency control"
      ]
    },
    {
      "cell_type": "markdown",
      "metadata": {
        "id": "J5KpqOUpamZu"
      },
      "source": [
        "## Managing transactions"
      ]
    },
    {
      "cell_type": "markdown",
      "metadata": {
        "id": "cjbJNGBZapQH"
      },
      "source": [
        "## Securing applications"
      ]
    },
    {
      "cell_type": "markdown",
      "metadata": {
        "id": "Y9dDBF0Baq7s"
      },
      "source": [
        "## Improving domian logic"
      ]
    },
    {
      "cell_type": "markdown",
      "metadata": {
        "id": "y8zccxAAatIf"
      },
      "source": [
        "## Taking the next step"
      ]
    },
    {
      "cell_type": "markdown",
      "metadata": {
        "id": "_IjtcIMUawZ1"
      },
      "source": [
        "# Setting up the exaple"
      ]
    },
    {
      "cell_type": "markdown",
      "metadata": {
        "id": "GV08k5pxayT1"
      },
      "source": [
        "# Using the Maven with AspectJ"
      ]
    }
  ]
}