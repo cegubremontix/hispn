{
  "nbformat": 4,
  "nbformat_minor": 0,
  "metadata": {
    "colab": {
      "name": "Essentials of Compilation An Incremental Approach in Racket.ipynb",
      "provenance": [],
      "authorship_tag": "ABX9TyPIQSFaEAfcJN5FN8rq/DcC",
      "include_colab_link": true
    },
    "kernelspec": {
      "name": "python3",
      "display_name": "Python 3"
    },
    "language_info": {
      "name": "python"
    }
  },
  "cells": [
    {
      "cell_type": "markdown",
      "metadata": {
        "id": "view-in-github",
        "colab_type": "text"
      },
      "source": [
        "<a href=\"https://colab.research.google.com/github/dbremont/Notas/blob/main/Libros/Computacion/Essentials_of_Compilation_An_Incremental_Approach_in_Racket.ipynb\" target=\"_parent\"><img src=\"https://colab.research.google.com/assets/colab-badge.svg\" alt=\"Open In Colab\"/></a>"
      ]
    },
    {
      "cell_type": "markdown",
      "metadata": {
        "id": "YbzQ6aVMI8Mo"
      },
      "source": [
        "## Preliminaries"
      ]
    },
    {
      "cell_type": "markdown",
      "metadata": {
        "id": "83ixwz6KJYGy"
      },
      "source": [
        "## Integers and Variables"
      ]
    },
    {
      "cell_type": "markdown",
      "metadata": {
        "id": "fcF1BSNDJaNp"
      },
      "source": [
        "## Register Allocation"
      ]
    },
    {
      "cell_type": "markdown",
      "metadata": {
        "id": "NbQMkes9JbwW"
      },
      "source": [
        "## Booleans and Conditions"
      ]
    },
    {
      "cell_type": "markdown",
      "metadata": {
        "id": "PBQBEQoUJdvB"
      },
      "source": [
        "## Loops and Dataflow Analysis"
      ]
    },
    {
      "cell_type": "markdown",
      "metadata": {
        "id": "9mIYo7JxJhPW"
      },
      "source": [
        "## Tuples and Garbarge Collection"
      ]
    },
    {
      "cell_type": "markdown",
      "metadata": {
        "id": "6rmmfWN6JkQa"
      },
      "source": [
        "## Functions"
      ]
    },
    {
      "cell_type": "markdown",
      "metadata": {
        "id": "hS6lVhhjJmZ9"
      },
      "source": [
        "## Lexically Scoped Functions"
      ]
    },
    {
      "cell_type": "markdown",
      "metadata": {
        "id": "4TZu3lTNJquU"
      },
      "source": [
        "## Dynamic Typing"
      ]
    },
    {
      "cell_type": "markdown",
      "metadata": {
        "id": "3tk26FQhJsnq"
      },
      "source": [
        "## Gradual Typing"
      ]
    },
    {
      "cell_type": "markdown",
      "metadata": {
        "id": "MNQcfFicJuM6"
      },
      "source": [
        "## Parametric-Polymorphism"
      ]
    }
  ]
}