{
  "nbformat": 4,
  "nbformat_minor": 0,
  "metadata": {
    "kernelspec": {
      "display_name": "Python 2.7.18 64-bit",
      "name": "python2718jvsc74a57bd0f92b2924b84ff19c1c3dc485f7644d4486f64738191026bf8e6de303969141b5"
    },
    "language_info": {
      "name": "python",
      "version": ""
    },
    "metadata": {
      "interpreter": {
        "hash": "f92b2924b84ff19c1c3dc485f7644d4486f64738191026bf8e6de303969141b5"
      }
    },
    "orig_nbformat": 2,
    "colab": {
      "name": "Nine ALgorithms That Changed the Future.ipynb",
      "provenance": [],
      "include_colab_link": true
    }
  },
  "cells": [
    {
      "cell_type": "markdown",
      "metadata": {
        "id": "view-in-github",
        "colab_type": "text"
      },
      "source": [
        "<a href=\"https://colab.research.google.com/github/dbremont/Notas/blob/main/Libros/Computacion/Nine%20ALgorithms%20That%20Changed%20the%20Future.ipynb\" target=\"_parent\"><img src=\"https://colab.research.google.com/assets/colab-badge.svg\" alt=\"Open In Colab\"/></a>"
      ]
    },
    {
      "cell_type": "markdown",
      "metadata": {
        "id": "amoFwdfK7C8n"
      },
      "source": [
        "Nine ALgorithms That Changed the Future"
      ]
    },
    {
      "cell_type": "markdown",
      "metadata": {
        "id": "jBdFR3AFCOU9"
      },
      "source": [
        "* (D) [Nine Algorithms That Changed the Future](http://0.0.0.0:8000/3%20Computacion/Libros/Nine%20Algorithms%20That%20Changed%20the%20Future.pdf)"
      ]
    }
  ]
}