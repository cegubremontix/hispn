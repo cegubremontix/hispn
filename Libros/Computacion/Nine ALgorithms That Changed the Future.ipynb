{
  "nbformat": 4,
  "nbformat_minor": 0,
  "metadata": {
    "kernelspec": {
      "display_name": "Python 2.7.18 64-bit",
      "name": "python2718jvsc74a57bd0f92b2924b84ff19c1c3dc485f7644d4486f64738191026bf8e6de303969141b5"
    },
    "language_info": {
      "name": "python",
      "version": ""
    },
    "metadata": {
      "interpreter": {
        "hash": "f92b2924b84ff19c1c3dc485f7644d4486f64738191026bf8e6de303969141b5"
      }
    },
    "orig_nbformat": 2,
    "colab": {
      "name": "Nine ALgorithms That Changed the Future.ipynb",
      "provenance": [],
      "include_colab_link": true
    }
  },
  "cells": [
    {
      "cell_type": "markdown",
      "metadata": {
        "id": "view-in-github",
        "colab_type": "text"
      },
      "source": [
        "<a href=\"https://colab.research.google.com/github/dbremont/Notas/blob/main/Libros/Computacion/Nine%20ALgorithms%20That%20Changed%20the%20Future.ipynb\" target=\"_parent\"><img src=\"https://colab.research.google.com/assets/colab-badge.svg\" alt=\"Open In Colab\"/></a>"
      ]
    },
    {
      "cell_type": "markdown",
      "metadata": {
        "id": "amoFwdfK7C8n"
      },
      "source": [
        "Nine ALgorithms That Changed the Future"
      ]
    },
    {
      "cell_type": "markdown",
      "metadata": {
        "id": "jBdFR3AFCOU9"
      },
      "source": [
        "* (D) [Nine Algorithms That Changed the Future](http://0.0.0.0:8000/3%20Computacion/Libros/Nine%20Algorithms%20That%20Changed%20the%20Future.pdf)"
      ]
    },
    {
      "cell_type": "markdown",
      "metadata": {
        "id": "1UBSIi7Idpyk"
      },
      "source": [
        "## Introduction: What Are the Extraordinary Ideas Computers Use Every Day?"
      ]
    },
    {
      "cell_type": "markdown",
      "metadata": {
        "id": "xJIltqpadvkA"
      },
      "source": [
        "## Search Engine Indexing: Finding Needles in the World's Biggest Haystack"
      ]
    },
    {
      "cell_type": "markdown",
      "metadata": {
        "id": "tSkpe6GNd3Zg"
      },
      "source": [
        "## PageRank: The Technology That Launched Google"
      ]
    },
    {
      "cell_type": "markdown",
      "metadata": {
        "id": "W5IrHkq8d8EM"
      },
      "source": [
        "## Public Key Crytography: Sending Secrets on a Postcard"
      ]
    },
    {
      "cell_type": "markdown",
      "metadata": {
        "id": "YhPyizJqezuV"
      },
      "source": [
        "## Error-Correcting Codes: Mistakes That Fix Themselves"
      ]
    },
    {
      "cell_type": "markdown",
      "metadata": {
        "id": "WhZ3HXvee5eV"
      },
      "source": [
        "## Pattern Recognition: Learning from Experience"
      ]
    },
    {
      "cell_type": "markdown",
      "metadata": {
        "id": "-9iCnnp_e9-M"
      },
      "source": [
        "## Data Compression: Something for Nothing"
      ]
    },
    {
      "cell_type": "markdown",
      "metadata": {
        "id": "Bf7VwBy5fTUQ"
      },
      "source": [
        "## Databases: The Quest for Consistency"
      ]
    },
    {
      "cell_type": "markdown",
      "metadata": {
        "id": "cfH8zFuafXp8"
      },
      "source": [
        "## Digital Signatures: Who *Really* Wrote This Software?"
      ]
    },
    {
      "cell_type": "markdown",
      "metadata": {
        "id": "DtxPAwU1fdOF"
      },
      "source": [
        "## What is Computable?"
      ]
    },
    {
      "cell_type": "markdown",
      "metadata": {
        "id": "q7qRoCnKfgKO"
      },
      "source": [
        "## Conclusion: More Genius at Your Fingertips?"
      ]
    }
  ]
}