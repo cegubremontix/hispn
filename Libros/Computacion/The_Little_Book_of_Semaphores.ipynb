{
  "nbformat": 4,
  "nbformat_minor": 0,
  "metadata": {
    "colab": {
      "name": "The Little Book of Semaphores.ipynb",
      "provenance": [],
      "include_colab_link": true
    },
    "kernelspec": {
      "name": "python3",
      "display_name": "Python 3"
    },
    "language_info": {
      "name": "python"
    }
  },
  "cells": [
    {
      "cell_type": "markdown",
      "metadata": {
        "id": "view-in-github",
        "colab_type": "text"
      },
      "source": [
        "<a href=\"https://colab.research.google.com/github/dbremont/Notas/blob/main/Libros/Computacion/The_Little_Book_of_Semaphores.ipynb\" target=\"_parent\"><img src=\"https://colab.research.google.com/assets/colab-badge.svg\" alt=\"Open In Colab\"/></a>"
      ]
    },
    {
      "cell_type": "markdown",
      "source": [
        "[The Little Book of Semaphores](https://greenteapress.com/semaphores/LittleBookOfSemaphores.pdf)"
      ],
      "metadata": {
        "id": "uhrt4HhtO4fT"
      }
    },
    {
      "cell_type": "markdown",
      "source": [
        "## Semaphores"
      ],
      "metadata": {
        "id": "iO213ml8SLsK"
      }
    },
    {
      "cell_type": "markdown",
      "source": [
        "## Basic syncrhonization patterns"
      ],
      "metadata": {
        "id": "ixCY8gaASO4v"
      }
    },
    {
      "cell_type": "markdown",
      "source": [
        "## Classical syncrhonization problems"
      ],
      "metadata": {
        "id": "bYYm531rSROv"
      }
    },
    {
      "cell_type": "markdown",
      "source": [
        "## Less classical synchonization problems"
      ],
      "metadata": {
        "id": "gG_jmyIfSUhI"
      }
    },
    {
      "cell_type": "markdown",
      "source": [
        "## No-so-classical problems"
      ],
      "metadata": {
        "id": "Uw_Y-4pqSXdm"
      }
    },
    {
      "cell_type": "markdown",
      "source": [
        "## Not remotely classical problems"
      ],
      "metadata": {
        "id": "13EVdPzwSaA3"
      }
    },
    {
      "cell_type": "markdown",
      "source": [
        "## Synchonization in Python"
      ],
      "metadata": {
        "id": "-Ss_msvjSdfe"
      }
    },
    {
      "cell_type": "markdown",
      "source": [
        "## Synchonization in C"
      ],
      "metadata": {
        "id": "_egtTSGRSfrW"
      }
    },
    {
      "cell_type": "markdown",
      "source": [
        "## Cleaning up Python threads"
      ],
      "metadata": {
        "id": "dhKS4pKHShxu"
      }
    },
    {
      "cell_type": "markdown",
      "source": [
        "## Cleaning up Posix threads"
      ],
      "metadata": {
        "id": "ulQVMIkcSmr-"
      }
    }
  ]
}