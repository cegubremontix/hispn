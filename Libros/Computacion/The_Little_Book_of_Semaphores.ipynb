{
  "nbformat": 4,
  "nbformat_minor": 0,
  "metadata": {
    "colab": {
      "name": "The Little Book of Semaphores.ipynb",
      "provenance": [],
      "include_colab_link": true
    },
    "kernelspec": {
      "name": "python3",
      "display_name": "Python 3"
    },
    "language_info": {
      "name": "python"
    }
  },
  "cells": [
    {
      "cell_type": "markdown",
      "metadata": {
        "id": "view-in-github",
        "colab_type": "text"
      },
      "source": [
        "<a href=\"https://colab.research.google.com/github/dbremont/Notas/blob/main/Libros/Computacion/The_Little_Book_of_Semaphores.ipynb\" target=\"_parent\"><img src=\"https://colab.research.google.com/assets/colab-badge.svg\" alt=\"Open In Colab\"/></a>"
      ]
    },
    {
      "cell_type": "markdown",
      "metadata": {
        "id": "lCJXnX6BgcHV"
      },
      "source": [
        "## The Little Book of Semaphores\n",
        "\n",
        "[The Little Book of Semaphores](https://greenteapress.com/semaphores/LittleBookOfSemaphores.pdf)"
      ]
    },
    {
      "cell_type": "markdown",
      "metadata": {
        "id": "8XHOaO_2fJYf"
      },
      "source": [
        "## Introduction"
      ]
    },
    {
      "cell_type": "markdown",
      "metadata": {
        "id": "b5VMJLCxfQ5C"
      },
      "source": [
        "## Semaphores"
      ]
    },
    {
      "cell_type": "markdown",
      "metadata": {
        "id": "xuv6CljCfS_3"
      },
      "source": [
        "## Basic synchonization patterns"
      ]
    },
    {
      "cell_type": "markdown",
      "metadata": {
        "id": "mlJTUF9GfV56"
      },
      "source": [
        "## Classical synchonization problems"
      ]
    },
    {
      "cell_type": "markdown",
      "metadata": {
        "id": "ul4O2B56fabS"
      },
      "source": [
        "## Less classical synchonization problems"
      ]
    },
    {
      "cell_type": "markdown",
      "metadata": {
        "id": "k8JIcw4SfhkI"
      },
      "source": [
        "## Not-so-classical problems"
      ]
    },
    {
      "cell_type": "markdown",
      "metadata": {
        "id": "7W_syo5cflNG"
      },
      "source": [
        "## Not remotely classical problmes"
      ]
    },
    {
      "cell_type": "markdown",
      "metadata": {
        "id": "P2R933TefoZU"
      },
      "source": [
        "## Synchonization in Python"
      ]
    },
    {
      "cell_type": "markdown",
      "metadata": {
        "id": "24F4VAa4fqz5"
      },
      "source": [
        "## Synchonization in C"
      ]
    },
    {
      "cell_type": "markdown",
      "metadata": {
        "id": "hi5sxM6UfsoM"
      },
      "source": [
        "## Cleaning up Python threads"
      ]
    },
    {
      "cell_type": "markdown",
      "metadata": {
        "id": "HOYV-N7-fv-Q"
      },
      "source": [
        "## Cleaning up Posix Threads"
      ]
    }
  ]
}