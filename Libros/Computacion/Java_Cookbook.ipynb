{
  "nbformat": 4,
  "nbformat_minor": 0,
  "metadata": {
    "colab": {
      "name": "Java Cookbook.ipynb",
      "provenance": [],
      "authorship_tag": "ABX9TyMWePj67CYzkrqkZtkqNjLO",
      "include_colab_link": true
    },
    "kernelspec": {
      "name": "python3",
      "display_name": "Python 3"
    },
    "language_info": {
      "name": "python"
    }
  },
  "cells": [
    {
      "cell_type": "markdown",
      "metadata": {
        "id": "view-in-github",
        "colab_type": "text"
      },
      "source": [
        "<a href=\"https://colab.research.google.com/github/dbremont/Notas/blob/main/Libros/Computacion/Java_Cookbook.ipynb\" target=\"_parent\"><img src=\"https://colab.research.google.com/assets/colab-badge.svg\" alt=\"Open In Colab\"/></a>"
      ]
    },
    {
      "cell_type": "markdown",
      "metadata": {
        "id": "DNSDegg95pLh"
      },
      "source": [
        "## Getting Started: Compiling, Running, and Debugging"
      ]
    },
    {
      "cell_type": "markdown",
      "metadata": {
        "id": "C6DCh4cq5zn0"
      },
      "source": [
        "## Interacting with the Environment"
      ]
    },
    {
      "cell_type": "markdown",
      "metadata": {
        "id": "IxxPyPyC52GV"
      },
      "source": [
        "## Strings and Things"
      ]
    },
    {
      "cell_type": "markdown",
      "metadata": {
        "id": "_pxL049k55Jl"
      },
      "source": [
        "## Patterns Matching with Regular Expressions"
      ]
    },
    {
      "cell_type": "markdown",
      "metadata": {
        "id": "-YRQc51h5-Xr"
      },
      "source": [
        "## Numbers"
      ]
    },
    {
      "cell_type": "markdown",
      "metadata": {
        "id": "KuFG73Le5_67"
      },
      "source": [
        "## Dates and Times"
      ]
    },
    {
      "cell_type": "markdown",
      "metadata": {
        "id": "vyUFRv396B-w"
      },
      "source": [
        "## Structuring with Data with Java"
      ]
    },
    {
      "cell_type": "markdown",
      "metadata": {
        "id": "N6_eyYRn6E77"
      },
      "source": [
        "## Data Structuring with Generics, foreach, and Enumerations"
      ]
    },
    {
      "cell_type": "markdown",
      "metadata": {
        "id": "gvcOr9H86Lj7"
      },
      "source": [
        "## Object-Oriented Techniques"
      ]
    },
    {
      "cell_type": "markdown",
      "metadata": {
        "id": "gkNLyD1j6P_K"
      },
      "source": [
        "## Input and Output"
      ]
    },
    {
      "cell_type": "markdown",
      "metadata": {
        "id": "Y4y5BZqU6Sgk"
      },
      "source": [
        "## Directory and Filesystem Operations"
      ]
    },
    {
      "cell_type": "markdown",
      "metadata": {
        "id": "rBsGSkvR6WKn"
      },
      "source": [
        "## Programming External Devices: Serial and Parallel Ports"
      ]
    },
    {
      "cell_type": "markdown",
      "metadata": {
        "id": "UAXFvoIK6cjp"
      },
      "source": [
        "## Graphics and Sound"
      ]
    },
    {
      "cell_type": "markdown",
      "metadata": {
        "id": "xJBXZTNg6e7U"
      },
      "source": [
        "## Graphical User Interfaces"
      ]
    },
    {
      "cell_type": "markdown",
      "metadata": {
        "id": "kMctqO0F6huu"
      },
      "source": [
        "## Internationalization and Location"
      ]
    },
    {
      "cell_type": "markdown",
      "metadata": {
        "id": "4frPccWM6k3g"
      },
      "source": [
        "## Network Clients"
      ]
    },
    {
      "cell_type": "markdown",
      "metadata": {
        "id": "ud4_M8dn6mZ_"
      },
      "source": [
        "## Server-Side Java: Sockets"
      ]
    },
    {
      "cell_type": "markdown",
      "metadata": {
        "id": "Lw_mJOUN6pHX"
      },
      "source": [
        "## Network Clients II: Applets and Web Clients"
      ]
    },
    {
      "cell_type": "markdown",
      "metadata": {
        "id": "UrrlQ9Zs6uzV"
      },
      "source": [
        "## Java and Electronic Mail"
      ]
    },
    {
      "cell_type": "markdown",
      "metadata": {
        "id": "ahwUg-Bd6xsG"
      },
      "source": [
        "## Database Access"
      ]
    },
    {
      "cell_type": "markdown",
      "metadata": {
        "id": "8Tco22ID60N1"
      },
      "source": [
        "## XML"
      ]
    },
    {
      "cell_type": "markdown",
      "metadata": {
        "id": "h4o4_zXl7EuL"
      },
      "source": [
        "## Distributed Java: RMI"
      ]
    },
    {
      "cell_type": "markdown",
      "metadata": {
        "id": "k1TCQInr7H8P"
      },
      "source": [
        "## Packages and Packaging"
      ]
    },
    {
      "cell_type": "markdown",
      "metadata": {
        "id": "tVfrzpk17LLE"
      },
      "source": [
        "## Threaded Java"
      ]
    },
    {
      "cell_type": "markdown",
      "metadata": {
        "id": "74gSraOR7NNl"
      },
      "source": [
        "## Intropection,or \"A Class Named Class\""
      ]
    },
    {
      "cell_type": "markdown",
      "metadata": {
        "id": "gC_5fVEE7Ske"
      },
      "source": [
        "## Usign Java with Other Languages"
      ]
    }
  ]
}