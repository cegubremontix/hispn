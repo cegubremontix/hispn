{
  "nbformat": 4,
  "nbformat_minor": 0,
  "metadata": {
    "colab": {
      "name": "Information Flow - The Logic of Distributed Systems.ipynb",
      "provenance": [],
      "authorship_tag": "ABX9TyPsjOTN5/q0BxkHRrCA00pl",
      "include_colab_link": true
    },
    "kernelspec": {
      "name": "python3",
      "display_name": "Python 3"
    },
    "language_info": {
      "name": "python"
    }
  },
  "cells": [
    {
      "cell_type": "markdown",
      "metadata": {
        "id": "view-in-github",
        "colab_type": "text"
      },
      "source": [
        "<a href=\"https://colab.research.google.com/github/dbremont/Notas/blob/main/Libros/Computacion/Information_Flow_The_Logic_of_Distributed_Systems.ipynb\" target=\"_parent\"><img src=\"https://colab.research.google.com/assets/colab-badge.svg\" alt=\"Open In Colab\"/></a>"
      ]
    },
    {
      "cell_type": "markdown",
      "source": [
        "# Introduction"
      ],
      "metadata": {
        "id": "tiN_b4ILmroh"
      }
    },
    {
      "cell_type": "markdown",
      "source": [
        "## Information Flow a Review"
      ],
      "metadata": {
        "id": "-MeaQrRWl-gj"
      }
    },
    {
      "cell_type": "markdown",
      "source": [
        "## Information Channels: An Overview"
      ],
      "metadata": {
        "id": "WPbfoFmemANY"
      }
    },
    {
      "cell_type": "markdown",
      "source": [
        "## A Simple Distributed System"
      ],
      "metadata": {
        "id": "ieLvCkSpmDv7"
      }
    },
    {
      "cell_type": "markdown",
      "source": [
        "# Channel Theory"
      ],
      "metadata": {
        "id": "y3xnoWEUmwZ3"
      }
    },
    {
      "cell_type": "markdown",
      "source": [
        "##  Classifications and Informorphisms"
      ],
      "metadata": {
        "id": "skaLAvlwm0U7"
      }
    },
    {
      "cell_type": "markdown",
      "source": [
        "## Operations on Classifications"
      ],
      "metadata": {
        "id": "2OXixJ0nm6Oy"
      }
    },
    {
      "cell_type": "markdown",
      "source": [
        "## Distributed Systems"
      ],
      "metadata": {
        "id": "_2rhYobIm9Am"
      }
    },
    {
      "cell_type": "markdown",
      "source": [
        "## Boolean Operations and Classifications"
      ],
      "metadata": {
        "id": "AAh4j0p_nALo"
      }
    },
    {
      "cell_type": "markdown",
      "source": [
        "## State Spaces"
      ],
      "metadata": {
        "id": "fxC4yfOfnDAx"
      }
    },
    {
      "cell_type": "markdown",
      "source": [
        "## Regular Theories"
      ],
      "metadata": {
        "id": "RN_THP21nFEz"
      }
    },
    {
      "cell_type": "markdown",
      "source": [
        "## Operations on Theories"
      ],
      "metadata": {
        "id": "EhxiGJ3gnG7a"
      }
    },
    {
      "cell_type": "markdown",
      "source": [
        "## Boolean Operations and Theories"
      ],
      "metadata": {
        "id": "zmK7eax4nKXD"
      }
    },
    {
      "cell_type": "markdown",
      "source": [
        "## Local Logics"
      ],
      "metadata": {
        "id": "7gC0192VnNcs"
      }
    },
    {
      "cell_type": "markdown",
      "source": [
        "## Reasoning at a Distance"
      ],
      "metadata": {
        "id": "FTIh1W80nPxi"
      }
    },
    {
      "cell_type": "markdown",
      "source": [
        "## Representing Local Logics"
      ],
      "metadata": {
        "id": "Vu9bhMCSnTN-"
      }
    },
    {
      "cell_type": "markdown",
      "source": [
        "## Distributed Logics"
      ],
      "metadata": {
        "id": "S8G5D6_LnXqf"
      }
    },
    {
      "cell_type": "markdown",
      "source": [
        "## Logics and State Spaces"
      ],
      "metadata": {
        "id": "N-HRkWv6nZoI"
      }
    },
    {
      "cell_type": "markdown",
      "source": [
        "# Explorations"
      ],
      "metadata": {
        "id": "xeleS2nyncXb"
      }
    },
    {
      "cell_type": "markdown",
      "source": [
        "## Speech Acts"
      ],
      "metadata": {
        "id": "Yc9XRNNsneKP"
      }
    },
    {
      "cell_type": "markdown",
      "source": [
        "## Vagueness"
      ],
      "metadata": {
        "id": "p2lOQZu9ngzQ"
      }
    },
    {
      "cell_type": "markdown",
      "source": [
        "## Commonsense Reasoning"
      ],
      "metadata": {
        "id": "G8Qd7w15njNH"
      }
    },
    {
      "cell_type": "markdown",
      "source": [
        "##  Representation"
      ],
      "metadata": {
        "id": "IHoyCIGAnmxG"
      }
    },
    {
      "cell_type": "markdown",
      "source": [
        "## Quantum Logic"
      ],
      "metadata": {
        "id": "qU9xIGannpOE"
      }
    }
  ]
}