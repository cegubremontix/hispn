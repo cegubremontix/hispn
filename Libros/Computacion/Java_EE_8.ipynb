{
  "nbformat": 4,
  "nbformat_minor": 0,
  "metadata": {
    "colab": {
      "name": "Java EE 8.ipynb",
      "provenance": [],
      "toc_visible": true,
      "authorship_tag": "ABX9TyMSHIZRbajKagPaiFdMb/CM",
      "include_colab_link": true
    },
    "kernelspec": {
      "name": "python3",
      "display_name": "Python 3"
    },
    "language_info": {
      "name": "python"
    }
  },
  "cells": [
    {
      "cell_type": "markdown",
      "metadata": {
        "id": "view-in-github",
        "colab_type": "text"
      },
      "source": [
        "<a href=\"https://colab.research.google.com/github/dbremont/Notas/blob/main/Libros/Computacion/Java_EE_8.ipynb\" target=\"_parent\"><img src=\"https://colab.research.google.com/assets/colab-badge.svg\" alt=\"Open In Colab\"/></a>"
      ]
    },
    {
      "cell_type": "markdown",
      "metadata": {
        "id": "Ece22H0tpTpb"
      },
      "source": [
        "# Java EE 8\n",
        "\n"
      ]
    },
    {
      "cell_type": "markdown",
      "metadata": {
        "id": "CVlYTavhIZ2a"
      },
      "source": [
        "## Java Platform, Enterprise Edition"
      ]
    },
    {
      "cell_type": "markdown",
      "metadata": {
        "id": "maFL-CZUQNuG"
      },
      "source": [
        "## Servlets"
      ]
    },
    {
      "cell_type": "markdown",
      "metadata": {
        "id": "unK7iiWZQQRr"
      },
      "source": [
        "## JavaServer Faces"
      ]
    },
    {
      "cell_type": "markdown",
      "metadata": {
        "id": "cwFP8OzhQTSV"
      },
      "source": [
        "## SOAP-Based Web Services"
      ]
    },
    {
      "cell_type": "markdown",
      "metadata": {
        "id": "Ucu4XAOyQXtL"
      },
      "source": [
        "## JSON Processing"
      ]
    },
    {
      "cell_type": "markdown",
      "metadata": {
        "id": "Gb7OnNawQa3w"
      },
      "source": [
        "## WebSocket"
      ]
    },
    {
      "cell_type": "markdown",
      "metadata": {
        "id": "gHbeYMZcQhIG"
      },
      "source": [
        "## Enterprise JavaBeans"
      ]
    },
    {
      "cell_type": "markdown",
      "metadata": {
        "id": "hjiArnaEQj7u"
      },
      "source": [
        "## Contexts and Dependency Injection"
      ]
    },
    {
      "cell_type": "markdown",
      "metadata": {
        "id": "9s7G9KiSQoXO"
      },
      "source": [
        "## Concurrency Utilities"
      ]
    },
    {
      "cell_type": "markdown",
      "metadata": {
        "id": "9RgBGk4aQrBA"
      },
      "source": [
        "## Bean Validation"
      ]
    },
    {
      "cell_type": "markdown",
      "metadata": {
        "id": "2UClNjoiQsqn"
      },
      "source": [
        "## Java Transaction"
      ]
    },
    {
      "cell_type": "markdown",
      "metadata": {
        "id": "U1fm_4_-Qxd4"
      },
      "source": [
        "## Java Persistence"
      ]
    },
    {
      "cell_type": "markdown",
      "metadata": {
        "id": "6flfCtRNQ3uu"
      },
      "source": [
        "## Java Message Service"
      ]
    },
    {
      "cell_type": "markdown",
      "metadata": {
        "id": "YcrlJVA4Q6sS"
      },
      "source": [
        "## Batch Processing"
      ]
    },
    {
      "cell_type": "markdown",
      "metadata": {
        "id": "--9hVWX-Q-AV"
      },
      "source": [
        "## Build and End-to-End Application"
      ]
    },
    {
      "cell_type": "markdown",
      "metadata": {
        "id": "s2fqgVMFRCo0"
      },
      "source": [
        "## Futher Reading"
      ]
    }
  ]
}