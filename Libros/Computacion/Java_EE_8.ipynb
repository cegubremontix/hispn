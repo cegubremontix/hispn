{
  "nbformat": 4,
  "nbformat_minor": 0,
  "metadata": {
    "colab": {
      "name": "Java EE 8.ipynb",
      "provenance": [],
      "toc_visible": true,
      "authorship_tag": "ABX9TyNZbgj+jqMY+cpUbqINYRqn",
      "include_colab_link": true
    },
    "kernelspec": {
      "name": "python3",
      "display_name": "Python 3"
    },
    "language_info": {
      "name": "python"
    }
  },
  "cells": [
    {
      "cell_type": "markdown",
      "metadata": {
        "id": "view-in-github",
        "colab_type": "text"
      },
      "source": [
        "<a href=\"https://colab.research.google.com/github/dbremont/Notas/blob/main/Libros/Computacion/Java_EE_8.ipynb\" target=\"_parent\"><img src=\"https://colab.research.google.com/assets/colab-badge.svg\" alt=\"Open In Colab\"/></a>"
      ]
    },
    {
      "cell_type": "markdown",
      "metadata": {
        "id": "Ece22H0tpTpb"
      },
      "source": [
        "# Java EE 8\n",
        "\n"
      ]
    },
    {
      "cell_type": "markdown",
      "metadata": {
        "id": "CVlYTavhIZ2a"
      },
      "source": [
        "## Java Platform, Enterprise Edition"
      ]
    },
    {
      "cell_type": "markdown",
      "metadata": {
        "id": "QpGQhCE8wMa5"
      },
      "source": [
        "Web Fragmetns \n",
        "\n",
        "JSF\n",
        "\n",
        "JSP\n",
        "\n",
        "EL\n",
        "\n",
        "JAX-RS\n",
        "\n",
        "JAX-WS\n",
        "\n",
        "JSON\n",
        "\n",
        "WEB-SOCKET\n",
        "\n",
        "Servlets\n",
        "\n",
        "CDI Extentions\n",
        "\n",
        "CDI \n",
        "\n",
        "Interceptors \n",
        "\n",
        "JPA\n",
        "\n",
        "Common Annotations\n",
        "\n",
        "Concurrency Utilities\n",
        "\n",
        "Managed Beans\n",
        "\n",
        "Enterprise JavaBeans\n",
        "\n",
        "JPA\n",
        "\n",
        "JMS\n",
        "\n",
        "JCA\n",
        "\n",
        "Batch\n"
      ]
    },
    {
      "cell_type": "markdown",
      "metadata": {
        "id": "maFL-CZUQNuG"
      },
      "source": [
        "## Servlets"
      ]
    },
    {
      "cell_type": "markdown",
      "metadata": {
        "id": "HNUd9iQLwy3d"
      },
      "source": [
        "WebServlet\n",
        "\n",
        "Servlet Filters\n",
        "\n",
        "Event Listeners\n",
        "\n",
        "Asynchronous Support\n",
        "\n",
        "Nonblocking I/O\n",
        "\n",
        "Web Fragments\n",
        "\n",
        "web.xml file\n",
        "\n",
        "Security\n",
        "\n",
        "Resource Packaging\n",
        "\n",
        "Error Mapping\n",
        "\n",
        "Handling Multipart Request\n",
        "\n",
        "Upgrade Processing"
      ]
    },
    {
      "cell_type": "markdown",
      "metadata": {
        "id": "unK7iiWZQQRr"
      },
      "source": [
        "## JavaServer Faces"
      ]
    },
    {
      "cell_type": "markdown",
      "metadata": {
        "id": "XQULCETbxV1M"
      },
      "source": [
        "MVC\n",
        "\n",
        "Facelets\n",
        "\n",
        "XML\n",
        "\n",
        "DDD\n",
        "\n",
        "CDI Scope\n",
        "\n",
        "Resource Handling\n",
        "\n",
        "Composite Components\n",
        "\n",
        "Request Processing Life-Cycle Phases\n",
        "\n",
        "Request Procesign Life-Cycle Phases\n",
        "\n",
        "AJAX\n",
        "\n",
        "HTTP GET\n",
        "\n",
        "Server and Client Extention Points\n",
        "\n",
        "Validating Data\n",
        "\n",
        "Navigation Rules\n",
        "\n",
        "Faces Flow\n",
        "\n",
        "JAR packaging\n",
        "\n",
        "Resource Library Contracts\n",
        "\n",
        "Passtrhough Attributes and HTML5-Friendly Markup\n",
        "\n",
        "Components Tags"
      ]
    },
    {
      "cell_type": "markdown",
      "metadata": {
        "id": "gk9A6REBzAhW"
      },
      "source": [
        "## RESTful Web Services"
      ]
    },
    {
      "cell_type": "markdown",
      "metadata": {
        "id": "gQyM7DNmzEnc"
      },
      "source": [
        "RestFul Web Services\n",
        "\n",
        "Resources\n",
        "\n",
        "Binding Http methods\n",
        "\n",
        "Binding a request to a resource\n",
        "\n",
        "Entity Providers\n",
        "\n",
        "Client API\n",
        "\n",
        "Mapping Exceptions\n",
        "\n",
        "Filters and Entity Interceptors\n",
        "\n",
        "\n",
        "\n",
        "\n"
      ]
    },
    {
      "cell_type": "markdown",
      "metadata": {
        "id": "cwFP8OzhQTSV"
      },
      "source": [
        "## SOAP-Based Web Services"
      ]
    },
    {
      "cell_type": "markdown",
      "metadata": {
        "id": "O8w9xXHa0yJe"
      },
      "source": [
        "Soap-based services\n",
        "\n",
        "Web Service Endpoints\n",
        "\n",
        "Provider-Based Dynamic Endpoints\n",
        "\n",
        "Endpoint-Based Endpoints\n",
        "\n",
        "Web Service Client\n",
        "\n",
        "Dispatch-Based Dynamic Client\n",
        "\n",
        "Handlers"
      ]
    },
    {
      "cell_type": "markdown",
      "metadata": {
        "id": "Ucu4XAOyQXtL"
      },
      "source": [
        "## JSON Processing"
      ]
    },
    {
      "cell_type": "markdown",
      "metadata": {
        "id": "-FdrE61w1M7E"
      },
      "source": [
        "JSON Processing\n",
        "\n",
        "JSON\n",
        "\n",
        "Streaming API\n",
        "\n",
        "Consuming JSON Using the Streaming API\n",
        "\n",
        "Producing JSON Using the Streaming API\n",
        "\n",
        "Object Model API\n",
        "\n",
        "Consuming JSON Using the Object Model API"
      ]
    },
    {
      "cell_type": "markdown",
      "metadata": {
        "id": "Gb7OnNawQa3w"
      },
      "source": [
        "## WebSocket"
      ]
    },
    {
      "cell_type": "markdown",
      "metadata": {
        "id": "vC8Dljr-1o-t"
      },
      "source": [
        "The Java for a WebSocket\n",
        "\n",
        "WebSocket\n",
        "\n",
        "Annotated Server Endpoint\n",
        "\n",
        "Programmatic Server Endpoint\n",
        "\n",
        "Annotated Client Endpoint\n",
        "\n",
        "Programatic Client Endpoint\n",
        "\n",
        "JavaScript WebSocket Client\n",
        "\n",
        "Encoders and Decoders"
      ]
    },
    {
      "cell_type": "markdown",
      "metadata": {
        "id": "gHbeYMZcQhIG"
      },
      "source": [
        "## Enterprise JavaBeans"
      ]
    },
    {
      "cell_type": "markdown",
      "metadata": {
        "id": "eaRUcTIx2Zxx"
      },
      "source": [
        "Enterprise Javabeans\n",
        "\n",
        "Session beans\n",
        "\n",
        "Message driven beans\n",
        "\n",
        "Singleton Session beans\n",
        "\n",
        "Life-Cycle Event Callbacks\n",
        "\n",
        "Message-Driven Beans\n",
        "\n",
        "Portable Global JNDI Names\n",
        "\n",
        "Transactions\n",
        "\n",
        "Asyncrhounous Invocation\n",
        "\n",
        "Timers\n",
        "\n",
        "Embeddeble API\n",
        "\n",
        "EJB Lite"
      ]
    },
    {
      "cell_type": "markdown",
      "metadata": {
        "id": "hjiArnaEQj7u"
      },
      "source": [
        "## Contexts and Dependency Injection"
      ]
    },
    {
      "cell_type": "markdown",
      "metadata": {
        "id": "EJnDN-aO3R4A"
      },
      "source": [
        "Context and Dependency Injection\n",
        "\n",
        "Injection Points\n",
        "\n",
        "Qualifier and Alternative\n",
        "\n",
        "Producer and Disposer\n",
        "\n",
        "Interceptors\n",
        "\n",
        "Decorators\n",
        "\n",
        "Scopes and Contexts\n",
        "\n",
        "Stereotypes\n",
        "\n",
        "Events\n",
        "\n",
        "Portable Extensions\n",
        "\n",
        "Buil-in Beans\n",
        "\n",
        "Life-Cycle Callbacks\n"
      ]
    },
    {
      "cell_type": "markdown",
      "metadata": {
        "id": "9s7G9KiSQoXO"
      },
      "source": [
        "## Concurrency Utilities"
      ]
    },
    {
      "cell_type": "markdown",
      "metadata": {
        "id": "FMV-NUdi3rh5"
      },
      "source": [
        "Concurrency Utilities for Java EE\n",
        "\n",
        "Asynchronous taks\n",
        "\n",
        "Schedule Tasks\n",
        "\n",
        "Managed Threads\n",
        "\n",
        "Dynamic Contextual Objects"
      ]
    },
    {
      "cell_type": "markdown",
      "metadata": {
        "id": "9RgBGk4aQrBA"
      },
      "source": [
        "## Bean Validation"
      ]
    },
    {
      "cell_type": "markdown",
      "metadata": {
        "id": "AH03gNli37Ww"
      },
      "source": [
        "Bean Validation\n",
        "\n",
        "Built-in constrains\n",
        "\n",
        "Defining a custom constrains\n",
        "\n",
        "Validation groups\n",
        "\n",
        "Method and Constructors Constrains"
      ]
    },
    {
      "cell_type": "markdown",
      "metadata": {
        "id": "2UClNjoiQsqn"
      },
      "source": [
        "## Java Transaction"
      ]
    },
    {
      "cell_type": "markdown",
      "metadata": {
        "id": "iLHJRYwG4Rxa"
      },
      "source": [
        "The Java Transaction API (JTA)\n",
        "\n",
        "User-Managed Transaction\n",
        "\n",
        "Bean-managed transaction (BMT)\n",
        "\n",
        "Container-Managed Transactions\n",
        "\n",
        "Transactional.TxTYPE\n",
        "\n",
        "- Required\n",
        "- REQUIRES_IN\n",
        "- MANDATORY\n",
        "- SUPPORTS\n",
        "- NOT_SUPPORTED\n",
        "\n",
        "@TransactionScoped\n",
        "\n",
        "- Status.STATUS_ACTIVATE\n",
        "- Status.STATUS_MARKET_ROLLBACK\n",
        "- Status.STATUS_PREPARED\n",
        "- Status.STATUS_UNKNOWN\n",
        "- Status.STATUS_PREPARING\n",
        "- Status.STATUS_COMMITTING\n",
        "- Status.STATUS_ROLLING_BACK\n"
      ]
    },
    {
      "cell_type": "markdown",
      "metadata": {
        "id": "U1fm_4_-Qxd4"
      },
      "source": [
        "## Java Persistence"
      ]
    },
    {
      "cell_type": "markdown",
      "metadata": {
        "id": "VSbVVCNc5K--"
      },
      "source": [
        "The Java Persistance API (JPA)\n",
        "\n",
        "JPA \n",
        "\n",
        "Entities\n",
        "\n",
        "Persistance Context\n",
        "\n",
        "Schema-Generation\n",
        "\n",
        "Create, Read, Update, and Delete Entities\n",
        "\n",
        "Entity Listeners\n",
        "\n",
        "Stored Procedures\n",
        "\n",
        "Validating the Entities\n",
        "\n",
        "Transaction and Locking\n",
        "\n",
        "Caching"
      ]
    },
    {
      "cell_type": "markdown",
      "metadata": {
        "id": "6flfCtRNQ3uu"
      },
      "source": [
        "## Java Message Service"
      ]
    },
    {
      "cell_type": "markdown",
      "metadata": {
        "id": "Q0FmJcP27Dyv"
      },
      "source": [
        "MOM\n",
        "\n",
        "JMS Provider\n",
        "\n",
        "JMS client\n",
        "\n",
        "JMS Messaage\n",
        "\n",
        "Administered objects\n",
        "\n",
        "Sending a message\n",
        "\n",
        "Recievign a Message Synchonously\n",
        "\n",
        "Recieving a Message Asynchronously\n",
        "\n",
        "Quality of Service\n",
        "\n",
        "Temporary Destinations"
      ]
    },
    {
      "cell_type": "markdown",
      "metadata": {
        "id": "YcrlJVA4Q6sS"
      },
      "source": [
        "## Batch Processing"
      ]
    },
    {
      "cell_type": "markdown",
      "metadata": {
        "id": "H4o7kfXE7gtJ"
      },
      "source": [
        "Jobs\n",
        "\n",
        "Bulk-oriented\n",
        "\n",
        "ETL\n",
        "\n",
        "job\n",
        "\n",
        "chunk-oriented processing\n",
        "\n",
        "Batchlet processing\n",
        "\n",
        "Listeners\n",
        "\n",
        "Job Sequence\n",
        "\n",
        "Split\n",
        "\n",
        "Decision\n",
        "\n",
        "Partitioning the Job\n"
      ]
    },
    {
      "cell_type": "markdown",
      "metadata": {
        "id": "--9hVWX-Q-AV"
      },
      "source": [
        "## Build and End-to-End Application"
      ]
    },
    {
      "cell_type": "markdown",
      "metadata": {
        "id": "L_RSSHfB7-bE"
      },
      "source": [
        "Java Persistance API\n",
        "\n",
        "Java API for Resful WEb Services\n",
        "\n",
        "Java Message Service\n",
        "\n",
        "JavaServer Fraces\n",
        "\n",
        "Contexts and Dependency Injection\n",
        "\n",
        "Bean Validation\n",
        "\n",
        "Batch Applications  for the Java Platform\n",
        "\n",
        "Java API for JSON Processing\n",
        "\n",
        "Java API for WebSocket\n",
        "\n",
        "Java Transaction API"
      ]
    },
    {
      "cell_type": "markdown",
      "metadata": {
        "id": "s2fqgVMFRCo0"
      },
      "source": [
        "## Futher Reading"
      ]
    }
  ]
}