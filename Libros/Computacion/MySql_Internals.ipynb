{
  "nbformat": 4,
  "nbformat_minor": 0,
  "metadata": {
    "colab": {
      "name": "MySql Internals.ipynb",
      "provenance": [],
      "authorship_tag": "ABX9TyOmKNaZSgjcLdWmiqoSqCMm",
      "include_colab_link": true
    },
    "kernelspec": {
      "name": "python3",
      "display_name": "Python 3"
    },
    "language_info": {
      "name": "python"
    }
  },
  "cells": [
    {
      "cell_type": "markdown",
      "metadata": {
        "id": "view-in-github",
        "colab_type": "text"
      },
      "source": [
        "<a href=\"https://colab.research.google.com/github/dbremont/Notas/blob/main/Libros/Computacion/MySql_Internals.ipynb\" target=\"_parent\"><img src=\"https://colab.research.google.com/assets/colab-badge.svg\" alt=\"Open In Colab\"/></a>"
      ]
    },
    {
      "cell_type": "markdown",
      "metadata": {
        "id": "MJ4_eQIbqtoH"
      },
      "source": [
        "##  MySQL History and Architecture"
      ]
    },
    {
      "cell_type": "markdown",
      "metadata": {
        "id": "w-528VHG1z3c"
      },
      "source": [
        "MySQL Architecture\n",
        "\n",
        "Core Modules\n",
        "- Server Initialization Module\n",
        "- Connection Manager\n",
        "- Thread Manager\n",
        "- Connection Thread\n",
        "- User Authentication Module\n",
        "- Acess Control Module\n",
        "- Parser\n",
        "- Command Dispatcher\n",
        "- Query Cache Module\n",
        "- Optimizer\n",
        "- Table Manager\n",
        "- Table Modification Modules\n",
        "- Table Maintenance MOdule\n",
        "- Status Reporting Module\n",
        "- Abstracted Storage Engine Interface (Table Handler)\n",
        "- Storage Engine Implementation (MyISAM, InnoDB, MEMORY, Berkely, DB)\n",
        "- Logging MOdule\n",
        "- Replication Master Module\n",
        "- Replication Slave Module\n",
        "- Client/Server Protocol API\n",
        "- Low-Level Network I/O API\n",
        "- Core API\n",
        "\n",
        "Query\n",
        "\n",
        "Command"
      ]
    },
    {
      "cell_type": "markdown",
      "metadata": {
        "id": "unMjZD__sKY-"
      },
      "source": [
        "## Nuts and Bolts of Working with the MySQL Source Code"
      ]
    },
    {
      "cell_type": "markdown",
      "metadata": {
        "id": "Evjv87mm3J_n"
      },
      "source": [
        "Directories in the MySQL source tree\n",
        "\n",
        "Basics of Working with gdb\n",
        "\n",
        "gdb commands\n",
        "\n",
        "Key functions and variables involved in common MySQL operations\n",
        "\n",
        "Coodign Guidelines\n",
        "\n",
        "Stability\n",
        "\n",
        "Portability\n",
        "\n",
        "Performace\n",
        "\n",
        "Style and Ease of Integration"
      ]
    },
    {
      "cell_type": "markdown",
      "metadata": {
        "id": "sgxXmQkvsPaL"
      },
      "source": [
        "## Core Classes, Structures, Variables, and APIs"
      ]
    },
    {
      "cell_type": "markdown",
      "metadata": {
        "id": "WhJyVMgz8W_1"
      },
      "source": [
        ""
      ]
    },
    {
      "cell_type": "markdown",
      "metadata": {
        "id": "MxInwok8siil"
      },
      "source": [
        "## Client/Server Communication"
      ]
    },
    {
      "cell_type": "markdown",
      "metadata": {
        "id": "lNPdxL9GsnN7"
      },
      "source": [
        "## Configuration Variables"
      ]
    },
    {
      "cell_type": "markdown",
      "metadata": {
        "id": "19RKQWh0sq2F"
      },
      "source": [
        "## Thread-Based Request Handling"
      ]
    },
    {
      "cell_type": "markdown",
      "metadata": {
        "id": "kveIQ9pSs0Q_"
      },
      "source": [
        "## The Storage Engine Interface"
      ]
    },
    {
      "cell_type": "markdown",
      "metadata": {
        "id": "9YD_bM8Xs-0c"
      },
      "source": [
        "## Concurrent Access and Locking"
      ]
    },
    {
      "cell_type": "markdown",
      "metadata": {
        "id": "8c9beFWEtA5c"
      },
      "source": [
        "## Parser and Optimizers"
      ]
    },
    {
      "cell_type": "markdown",
      "metadata": {
        "id": "5qEzYA4ftDYh"
      },
      "source": [
        "## Storage Engine"
      ]
    },
    {
      "cell_type": "markdown",
      "metadata": {
        "id": "9VMbZknktFCl"
      },
      "source": [
        "## Transactions"
      ]
    },
    {
      "cell_type": "markdown",
      "metadata": {
        "id": "z2Sw97jPtGyI"
      },
      "source": [
        "## Replication"
      ]
    }
  ]
}