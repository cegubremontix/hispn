{
  "nbformat": 4,
  "nbformat_minor": 0,
  "metadata": {
    "colab": {
      "name": "MySql Internals.ipynb",
      "provenance": [],
      "toc_visible": true,
      "authorship_tag": "ABX9TyMJKYwwoYiK4c9IGF6bs7EM",
      "include_colab_link": true
    },
    "kernelspec": {
      "name": "python3",
      "display_name": "Python 3"
    },
    "language_info": {
      "name": "python"
    }
  },
  "cells": [
    {
      "cell_type": "markdown",
      "metadata": {
        "id": "view-in-github",
        "colab_type": "text"
      },
      "source": [
        "<a href=\"https://colab.research.google.com/github/dbremont/Notas/blob/main/Libros/Computacion/MySql_Internals.ipynb\" target=\"_parent\"><img src=\"https://colab.research.google.com/assets/colab-badge.svg\" alt=\"Open In Colab\"/></a>"
      ]
    },
    {
      "cell_type": "markdown",
      "metadata": {
        "id": "MJ4_eQIbqtoH"
      },
      "source": [
        "##  MySQL History and Architecture"
      ]
    },
    {
      "cell_type": "markdown",
      "metadata": {
        "id": "w-528VHG1z3c"
      },
      "source": [
        "MySQL Architecture\n",
        "\n",
        "Core Modules\n",
        "- Server Initialization Module\n",
        "- Connection Manager\n",
        "- Thread Manager\n",
        "- Connection Thread\n",
        "- User Authentication Module\n",
        "- Acess Control Module\n",
        "- Parser\n",
        "- Command Dispatcher\n",
        "- Query Cache Module\n",
        "- Optimizer\n",
        "- Table Manager\n",
        "- Table Modification Modules\n",
        "- Table Maintenance MOdule\n",
        "- Status Reporting Module\n",
        "- Abstracted Storage Engine Interface (Table Handler)\n",
        "- Storage Engine Implementation (MyISAM, InnoDB, MEMORY, Berkely, DB)\n",
        "- Logging MOdule\n",
        "- Replication Master Module\n",
        "- Replication Slave Module\n",
        "- Client/Server Protocol API\n",
        "- Low-Level Network I/O API\n",
        "- Core API\n",
        "\n",
        "Query\n",
        "\n",
        "Command"
      ]
    },
    {
      "cell_type": "markdown",
      "metadata": {
        "id": "unMjZD__sKY-"
      },
      "source": [
        "## Nuts and Bolts of Working with the MySQL Source Code"
      ]
    },
    {
      "cell_type": "markdown",
      "metadata": {
        "id": "Evjv87mm3J_n"
      },
      "source": [
        "Directories in the MySQL source tree\n",
        "\n",
        "Basics of Working with gdb\n",
        "\n",
        "gdb commands\n",
        "\n",
        "Key functions and variables involved in common MySQL operations\n",
        "\n",
        "Coodign Guidelines\n",
        "\n",
        "Stability\n",
        "\n",
        "Portability\n",
        "\n",
        "Performace\n",
        "\n",
        "Style and Ease of Integration"
      ]
    },
    {
      "cell_type": "markdown",
      "metadata": {
        "id": "sgxXmQkvsPaL"
      },
      "source": [
        "## Core Classes, Structures, Variables, and APIs"
      ]
    },
    {
      "cell_type": "markdown",
      "metadata": {
        "id": "WhJyVMgz8W_1"
      },
      "source": [
        "TDH class defines a thread desctriptor\n",
        "\n",
        "NET Structure\n",
        "\n",
        "TABLE Structure\n",
        "\n",
        "FIELD Class\n",
        "\n",
        "Utility API calls\n",
        "\n",
        "Global Variables"
      ]
    },
    {
      "cell_type": "markdown",
      "metadata": {
        "id": "MxInwok8siil"
      },
      "source": [
        "## Client/Server Communication"
      ]
    },
    {
      "cell_type": "markdown",
      "metadata": {
        "id": "osWpofYBxF3M"
      },
      "source": [
        "Protocol Overview\n",
        "\n",
        "Packet Format\n",
        "\n",
        "Relantionship Between MySQL Protocol and OS Layer\n",
        "\n",
        "Authenticating Handshake\n",
        "\n",
        "Authentication Protocol Security\n",
        "\n",
        "Protocol Capabilities Bit Mask\n",
        "\n",
        "Command Packet\n",
        "\n",
        "Server Responses\n",
        "\n",
        "Data Field\n",
        "\n",
        "Ok Packet\n",
        "\n",
        "Error Packet\n",
        "\n",
        "EOF Packet\n",
        "\n",
        "Result Set Packets"
      ]
    },
    {
      "cell_type": "markdown",
      "metadata": {
        "id": "lNPdxL9GsnN7"
      },
      "source": [
        "## Configuration Variables"
      ]
    },
    {
      "cell_type": "markdown",
      "metadata": {
        "id": "Xz3wb4RfyEV9"
      },
      "source": [
        "concurent insert\n",
        "\n",
        "core-file\n",
        "\n",
        "default-storage-engine\n",
        "\n",
        "delay key write\n",
        "\n",
        "ft_stopword_file\n",
        "\n",
        "innodb_buffer_pool_size\n",
        "\n",
        "innodb_flush_log_at_trx_commit\n",
        "\n",
        "innodb_file_per_table\n",
        "\n",
        "innodb_lock_wait_timeout\n",
        "\n",
        "innodb_force_recovery\n",
        "\n",
        "init-file\n",
        "\n",
        "key_buffer_size\n",
        "\n",
        "langauge\n",
        "\n",
        "log\n",
        "\n",
        "log-bin\n",
        "\n",
        "log-isam\n",
        "\n",
        "log-slow-queries\n",
        "\n",
        "max_allowed_packet\n",
        "\n",
        "max_connections\n",
        "\n",
        "max_heap_table_size\n",
        "\n",
        "max_join_size\n",
        "\n",
        "max_sort_length\n",
        "\n",
        "myisam-recover\n",
        "\n",
        "query_cache_type\n",
        "\n",
        "redead_buffer_size\n",
        "\n",
        "relay-log\n",
        "\n",
        "server-id\n",
        "\n",
        "skip-grant-tables\n",
        "\n",
        "skip-stack-trace\n",
        "\n",
        "slave-skip-errors\n",
        "\n",
        "sort_buffer_size\n",
        "\n",
        "sql-mode\n",
        "\n",
        "table_cache\n",
        "\n",
        "temp-pool\n",
        "\n",
        "transaction-isolation"
      ]
    },
    {
      "cell_type": "markdown",
      "metadata": {
        "id": "19RKQWh0sq2F"
      },
      "source": [
        "## Thread-Based Request Handling"
      ]
    },
    {
      "cell_type": "markdown",
      "metadata": {
        "id": "Gsrsryw1zLvb"
      },
      "source": [
        "Threads vs Processses\n",
        "\n",
        "Thread Programming Issues\n",
        "\n",
        "Standard C Library Calls\n",
        "\n",
        "Mutually Exclusive Locks (Mutexes)\n",
        "\n",
        "Read-Write Locks\n",
        "\n",
        "Synchonization\n",
        "\n",
        "Preemption\n"
      ]
    },
    {
      "cell_type": "markdown",
      "metadata": {
        "id": "kveIQ9pSs0Q_"
      },
      "source": [
        "## The Storage Engine Interface"
      ]
    },
    {
      "cell_type": "markdown",
      "metadata": {
        "id": "m995X3o6z3fi"
      },
      "source": [
        "The handler class\n",
        "\n",
        "handlerton\n",
        "\n",
        "Adding a Custom Storage Engine to MySQL\n",
        "\n",
        "Integration Instruction for Version 4.1\n",
        "\n",
        "Integration Instruction for Version 5.1"
      ]
    },
    {
      "cell_type": "markdown",
      "metadata": {
        "id": "9YD_bM8Xs-0c"
      },
      "source": [
        "## Concurrent Access and Locking"
      ]
    },
    {
      "cell_type": "markdown",
      "metadata": {
        "id": "HvcJfLaA0Prj"
      },
      "source": [
        "Table Lock Manager\n",
        "\n",
        "Read Lock Request\n",
        "\n",
        "Write Lock Request\n",
        "\n",
        "Storage engine interaction with the table lock manager\n",
        "\n",
        "MyISAM\n",
        "\n",
        "InnoDB\n",
        "\n",
        "NDB\n",
        "\n",
        "Berkely DB\n",
        "\n",
        "InnoDB Locking\n",
        "\n",
        "Lock types\n",
        "\n",
        "Record locking\n",
        "\n",
        "Dealign with deadlocks"
      ]
    },
    {
      "cell_type": "markdown",
      "metadata": {
        "id": "8c9beFWEtA5c"
      },
      "source": [
        "## Parser and Optimizers"
      ]
    },
    {
      "cell_type": "markdown",
      "metadata": {
        "id": "N-ey29AQ0l1E"
      },
      "source": [
        "Parser\n",
        "\n",
        "Lexical Scanner\n",
        "\n",
        "Grammar Rules Module\n",
        "\n",
        "Parse Tree\n",
        "\n",
        "Optimizer\n",
        "\n",
        "Basics of the OPtimizer Algorithm\n",
        "\n",
        "Using Exaplain to Understand the Optimizer\n",
        "\n",
        "Understanding the output of Exaplain\n",
        "\n",
        "Range Optimizer\n",
        "\n",
        "Subquery Optimization\n",
        "\n",
        "Core Optimizer Classes and Structures\n",
        "\n",
        "JOIN class\n",
        "\n",
        "JOIN_TAB\n",
        "\n",
        "SELECT Parse Tree\n",
        "\n",
        "Execution of a SELECT on the code level"
      ]
    },
    {
      "cell_type": "markdown",
      "metadata": {
        "id": "5qEzYA4ftDYh"
      },
      "source": [
        "## Storage Engine"
      ]
    },
    {
      "cell_type": "markdown",
      "metadata": {
        "id": "ZPURdKJG1Mys"
      },
      "source": [
        "MyISAM\n",
        "\n",
        "InnoDB\n",
        "\n",
        "Memory\n",
        "\n",
        "Merge\n",
        "\n",
        "NDB\n",
        "\n",
        "Archive\n",
        "\n",
        "Federated"
      ]
    },
    {
      "cell_type": "markdown",
      "metadata": {
        "id": "9VMbZknktFCl"
      },
      "source": [
        "## Transactions"
      ]
    },
    {
      "cell_type": "markdown",
      "metadata": {
        "id": "PoE7O8LO1uTQ"
      },
      "source": [
        "Transactional Storage Engine Implementation\n",
        "\n",
        "Implementing a handler subclass\n",
        "\n",
        "Defining the handlerton\n",
        "\n",
        "Working with the Query Cache\n",
        "\n",
        "Working with the Replication Binary Log\n",
        "\n",
        "Avoiding  Deadlocks"
      ]
    },
    {
      "cell_type": "markdown",
      "metadata": {
        "id": "z2Sw97jPtGyI"
      },
      "source": [
        "## Replication"
      ]
    },
    {
      "cell_type": "markdown",
      "metadata": {
        "id": "d_35DHUM2GkS"
      },
      "source": [
        "Replication\n",
        "\n",
        "Statement-Based vs Row-Based Replication\n",
        "\n",
        "Two-Threaded Slave\n",
        "\n",
        "Multi-Master\n",
        "\n",
        "SQL Commnads to help to understand replication\n",
        "\n",
        "Binary Log Format\n",
        "\n",
        "Creating a Custom Replication Utility"
      ]
    }
  ]
}