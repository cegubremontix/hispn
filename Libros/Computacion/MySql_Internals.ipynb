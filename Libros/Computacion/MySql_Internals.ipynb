{
  "nbformat": 4,
  "nbformat_minor": 0,
  "metadata": {
    "colab": {
      "name": "MySql Internals.ipynb",
      "provenance": [],
      "toc_visible": true,
      "authorship_tag": "ABX9TyPWq+JCgEEC7UDJghp1H6sN",
      "include_colab_link": true
    },
    "kernelspec": {
      "name": "python3",
      "display_name": "Python 3"
    },
    "language_info": {
      "name": "python"
    }
  },
  "cells": [
    {
      "cell_type": "markdown",
      "metadata": {
        "id": "view-in-github",
        "colab_type": "text"
      },
      "source": [
        "<a href=\"https://colab.research.google.com/github/dbremont/Notas/blob/main/Libros/Computacion/MySql_Internals.ipynb\" target=\"_parent\"><img src=\"https://colab.research.google.com/assets/colab-badge.svg\" alt=\"Open In Colab\"/></a>"
      ]
    },
    {
      "cell_type": "markdown",
      "metadata": {
        "id": "MJ4_eQIbqtoH"
      },
      "source": [
        "##  MySQL History and Architecture\n",
        "\n",
        "Introduces the major modules in the source code and their purpose"
      ]
    },
    {
      "cell_type": "markdown",
      "metadata": {
        "id": "w-528VHG1z3c"
      },
      "source": [
        "MySQL Architecture\n",
        "\n",
        "Core Modules\n",
        "- Server Initialization Module\n",
        "- Connection Manager\n",
        "- Thread Manager\n",
        "- Connection Thread\n",
        "- User Authentication Module\n",
        "- Acess Control Module\n",
        "- Parser\n",
        "- Command Dispatcher\n",
        "- Query Cache Module\n",
        "- Optimizer\n",
        "- Table Manager\n",
        "- Table Modification Modules\n",
        "- Table Maintenance MOdule\n",
        "- Status Reporting Module\n",
        "- Abstracted Storage Engine Interface (Table Handler)\n",
        "- Storage Engine Implementation (MyISAM, InnoDB, MEMORY, Berkely, DB)\n",
        "- Logging MOdule\n",
        "- Replication Master Module\n",
        "- Replication Slave Module\n",
        "- Client/Server Protocol API\n",
        "- Low-Level Network I/O API\n",
        "- Core API\n",
        "\n",
        "Query\n",
        "\n",
        "Command"
      ]
    },
    {
      "cell_type": "markdown",
      "metadata": {
        "id": "DqkyEfZzIpcG"
      },
      "source": [
        "MySQL atfirst lacks *transaction management*, *store procedures*, etc.\n",
        "\n",
        "MySQL developer try to integrate **berkely db** that has support for transactiosn as a medium to support transactiosn in MysQL, but where un-able. As a result, MySQL source became equipped with hooks to add any my type of storage engine, including a transactional one.\n",
        "\n",
        "❓ What is a full text search engine? How MySql implements this? \n",
        "\n",
        "- InnoDB Storage Engine\n",
        "\n",
        "❓ Query Cache: What is and implementation?\n",
        "\n",
        "❓ Prepared Statemenets? What is an implementation\n",
        "\n",
        "\n",
        "Core Modules\n",
        "\n",
        "- Server Initialization Module\n",
        "- Connection Manager\n",
        "- Thread Manager\n",
        "- Connection Thread\n",
        "- User Authentication Module\n",
        "- Acess Control Module\n",
        "- Parser\n",
        "- Command Dispatcher\n",
        "- Query Cache Module\n",
        "- Optimizer\n",
        "- Table Manager\n",
        "- Table Modification Modules\n",
        "- Table Maintenance MOdule\n",
        "- Status Reporting Module\n",
        "- Abstracted Storage Engine Interface (Table Handler)\n",
        "- Storage Engine Implementation (MyISAM, InnoDB, MEMORY, Berkely, DB)\n",
        "- Logging Module\n",
        "- Replication Master Module\n",
        "- Replication Slave Module\n",
        "- Client/Server Protocol API\n",
        "- Low-Level Network I/O API\n",
        "- Core API\n",
        "\n",
        "The terms that MySQL core developers uses?\n",
        "\n",
        "Terms that we used to commnunicate about the code?\n",
        "\n",
        "**Interaction with the Core Modules**\n",
        "\n",
        "When the server is  started onthe command line, the initizalization Modules takes control. It parses the configuration file and the comand-line arguments, allocates global memory buffers, initializes global variables and structures, loads the acess control tables, and performs a number of other initialization taks. Once the initialization job is complete, the Initilization Module passes control to the Connection Manager, which starts listening for connections from clients in a loop.\n",
        "\n",
        "When a client connect to the database server, the **Connection Manager** performs a number of low level network protocol tasks, then  passes control to the **Thread Manager**, which in turn supplies a thread to  handle the connection (**Connection Thread(**). The **Cconnection Thread** might be creates anew, or retrived from a thread cache and called to active duty. Once the **Connection Thread** recieves control, it first invokes the user authentication module. The credentials of the connection user are verified,  and the client may now issue requests.\n",
        "\n",
        "How verifies the users credentials in MySQL?\n",
        "- The Connection Manager\n",
        "\n",
        "In MySQL server terminology, there are two types of client requests, a query and a command. A **query** is anything that has to go through the parser. A **command** is a request tthat can be executed without the need to invoke the parser.\n",
        "\n",
        "- ❓ Execution flow to handle to open a connection?\n",
        "- ❓ Execution flow to initialized the server?\n",
        "- ❓ Execution flow to executes a command?\n",
        "- ❓ Execution flow to executes a query?\n",
        "\n",
        "**Detailed Look at the Core Modules**\n",
        "\n",
        "**Server Initialization Module**\n",
        "\n",
        "**Connection Manager**\n",
        "\n",
        "**Thread Manager**\n",
        "\n",
        "**Connection Thread**\n",
        "\n",
        "**User Authentication Module**\n",
        "\n",
        "**Access Control Module**\n",
        "\n",
        "**Parser**\n",
        "\n",
        "**Command Dispatcher**\n",
        "\n",
        "**Query Cache Module**\n",
        "\n",
        "**Optimizer**\n",
        "\n",
        "**Table Manager**\n",
        "\n",
        "**Table Modification Modules**\n",
        "\n",
        "**Table Maintenance Module**\n",
        "\n",
        "**Status Reporting Module**\n",
        "\n",
        "**Abstracted Storgage Engine Interface (Table Handler)**\n",
        "\n",
        "**Storage Engine Implementations (MyISAM, InnoDB, Berkely DB)**\n",
        "\n",
        "**Logging Module**\n",
        "\n",
        "**Replication Master Module**\n",
        "\n",
        "**Replication Slave Module**\n",
        "\n",
        "**Client/Server Protocol API**\n",
        "\n",
        "**Low-Level Network I/O API**\n",
        "\n",
        "**Core API**"
      ]
    },
    {
      "cell_type": "markdown",
      "metadata": {
        "id": "unMjZD__sKY-"
      },
      "source": [
        "## Nuts and Bolts of Working with the MySQL Source Code\n",
        "\n",
        "Tells you how to download the source code and build a server from scratch"
      ]
    },
    {
      "cell_type": "markdown",
      "metadata": {
        "id": "Evjv87mm3J_n"
      },
      "source": [
        "Directories in the MySQL source tree\n",
        "\n",
        "Basics of Working with gdb\n",
        "\n",
        "gdb commands\n",
        "\n",
        "Key functions and variables involved in common MySQL operations\n",
        "\n",
        "Coodign Guidelines\n",
        "\n",
        "Stability\n",
        "\n",
        "Portability\n",
        "\n",
        "Performace\n",
        "\n",
        "Style and Ease of Integration"
      ]
    },
    {
      "cell_type": "markdown",
      "metadata": {
        "id": "vXccxF_4RmKL"
      },
      "source": [
        "Requirements:\n",
        "\n",
        "- **autoconf** > 2.53,\n",
        "- **automake** > 1.8,\n",
        "- m4 > No version limit,\n",
        "- **libtool** > 1.5 ,\n",
        "- GNU make > 3.79,\n",
        "- **bison** >  1.75,\n",
        "- gcc or some other C++ Compiler >   2.95"
      ]
    },
    {
      "cell_type": "markdown",
      "metadata": {
        "id": "sgxXmQkvsPaL"
      },
      "source": [
        "## Core Classes, Structures, Variables, and APIs\n",
        "\n",
        "Lists the basic dta structures, functions, and macros you need for later reference"
      ]
    },
    {
      "cell_type": "markdown",
      "metadata": {
        "id": "WhJyVMgz8W_1"
      },
      "source": [
        "TDH class defines a thread desctriptor\n",
        "\n",
        "NET Structure\n",
        "\n",
        "TABLE Structure\n",
        "\n",
        "FIELD Class\n",
        "\n",
        "Utility API calls\n",
        "\n",
        "Global Variables"
      ]
    },
    {
      "cell_type": "markdown",
      "metadata": {
        "id": "MxInwok8siil"
      },
      "source": [
        "## Client/Server Communication\n",
        "\n",
        "Lays out the formats of the data send between client and server, and the main functions that perform the communication"
      ]
    },
    {
      "cell_type": "markdown",
      "metadata": {
        "id": "osWpofYBxF3M"
      },
      "source": [
        "Protocol Overview\n",
        "\n",
        "Packet Format\n",
        "\n",
        "Relantionship Between MySQL Protocol and OS Layer\n",
        "\n",
        "Authenticating Handshake\n",
        "\n",
        "Authentication Protocol Security\n",
        "\n",
        "Protocol Capabilities Bit Mask\n",
        "\n",
        "Command Packet\n",
        "\n",
        "Server Responses\n",
        "\n",
        "Data Field\n",
        "\n",
        "Ok Packet\n",
        "\n",
        "Error Packet\n",
        "\n",
        "EOF Packet\n",
        "\n",
        "Result Set Packets"
      ]
    },
    {
      "cell_type": "markdown",
      "metadata": {
        "id": "lNPdxL9GsnN7"
      },
      "source": [
        "## Configuration Variables\n",
        "\n",
        "Discuses how MySQL  handles configuration in general, as well as the effects of many particular configuration variables, and shows you a framework for adding a new configuration variable"
      ]
    },
    {
      "cell_type": "markdown",
      "metadata": {
        "id": "Xz3wb4RfyEV9"
      },
      "source": [
        "concurent insert\n",
        "\n",
        "core-file\n",
        "\n",
        "default-storage-engine\n",
        "\n",
        "delay key write\n",
        "\n",
        "ft_stopword_file\n",
        "\n",
        "innodb_buffer_pool_size\n",
        "\n",
        "innodb_flush_log_at_trx_commit\n",
        "\n",
        "innodb_file_per_table\n",
        "\n",
        "innodb_lock_wait_timeout\n",
        "\n",
        "innodb_force_recovery\n",
        "\n",
        "init-file\n",
        "\n",
        "key_buffer_size\n",
        "\n",
        "langauge\n",
        "\n",
        "log\n",
        "\n",
        "log-bin\n",
        "\n",
        "log-isam\n",
        "\n",
        "log-slow-queries\n",
        "\n",
        "max_allowed_packet\n",
        "\n",
        "max_connections\n",
        "\n",
        "max_heap_table_size\n",
        "\n",
        "max_join_size\n",
        "\n",
        "max_sort_length\n",
        "\n",
        "myisam-recover\n",
        "\n",
        "query_cache_type\n",
        "\n",
        "redead_buffer_size\n",
        "\n",
        "relay-log\n",
        "\n",
        "server-id\n",
        "\n",
        "skip-grant-tables\n",
        "\n",
        "skip-stack-trace\n",
        "\n",
        "slave-skip-errors\n",
        "\n",
        "sort_buffer_size\n",
        "\n",
        "sql-mode\n",
        "\n",
        "table_cache\n",
        "\n",
        "temp-pool\n",
        "\n",
        "transaction-isolation"
      ]
    },
    {
      "cell_type": "markdown",
      "metadata": {
        "id": "19RKQWh0sq2F"
      },
      "source": [
        "## Thread-Based Request Handling\n",
        "\n",
        "Explains MySQL's reasons for using threads and the main variables, such as locks, related to threads"
      ]
    },
    {
      "cell_type": "markdown",
      "metadata": {
        "id": "Gsrsryw1zLvb"
      },
      "source": [
        "Threads vs Processses\n",
        "\n",
        "Thread Programming Issues\n",
        "\n",
        "Standard C Library Calls\n",
        "\n",
        "Mutually Exclusive Locks (Mutexes)\n",
        "\n",
        "Read-Write Locks\n",
        "\n",
        "Synchonization\n",
        "\n",
        "Preemption\n"
      ]
    },
    {
      "cell_type": "markdown",
      "metadata": {
        "id": "kveIQ9pSs0Q_"
      },
      "source": [
        "## The Storage Engine Interface\n",
        "\n",
        "Describe the relation of individual storage engines (formely known as table types) to the MySQL core, and shows you a framework for adding a new storage engine"
      ]
    },
    {
      "cell_type": "markdown",
      "metadata": {
        "id": "m995X3o6z3fi"
      },
      "source": [
        "The handler class\n",
        "\n",
        "handlerton\n",
        "\n",
        "Adding a Custom Storage Engine to MySQL\n",
        "\n",
        "Integration Instruction for Version 4.1\n",
        "\n",
        "Integration Instruction for Version 5.1"
      ]
    },
    {
      "cell_type": "markdown",
      "metadata": {
        "id": "9YD_bM8Xs-0c"
      },
      "source": [
        "## Concurrent Access and Locking\n",
        "\n",
        "Explains the different types of locsk available in MySQL, and how each storage engine uses locks"
      ]
    },
    {
      "cell_type": "markdown",
      "metadata": {
        "id": "HvcJfLaA0Prj"
      },
      "source": [
        "Table Lock Manager\n",
        "\n",
        "Read Lock Request\n",
        "\n",
        "Write Lock Request\n",
        "\n",
        "Storage engine interaction with the table lock manager\n",
        "\n",
        "MyISAM\n",
        "\n",
        "InnoDB\n",
        "\n",
        "NDB\n",
        "\n",
        "Berkely DB\n",
        "\n",
        "InnoDB Locking\n",
        "\n",
        "Lock types\n",
        "\n",
        "Record locking\n",
        "\n",
        "Dealign with deadlocks"
      ]
    },
    {
      "cell_type": "markdown",
      "metadata": {
        "id": "8c9beFWEtA5c"
      },
      "source": [
        "## Parser and Optimizers\n",
        "\n",
        "Explains the major activities that go into optimizing queries"
      ]
    },
    {
      "cell_type": "markdown",
      "metadata": {
        "id": "N-ey29AQ0l1E"
      },
      "source": [
        "Parser\n",
        "\n",
        "Lexical Scanner\n",
        "\n",
        "Grammar Rules Module\n",
        "\n",
        "Parse Tree\n",
        "\n",
        "Optimizer\n",
        "\n",
        "Basics of the OPtimizer Algorithm\n",
        "\n",
        "Using Exaplain to Understand the Optimizer\n",
        "\n",
        "Understanding the output of Exaplain\n",
        "\n",
        "Range Optimizer\n",
        "\n",
        "Subquery Optimization\n",
        "\n",
        "Core Optimizer Classes and Structures\n",
        "\n",
        "JOIN class\n",
        "\n",
        "JOIN_TAB\n",
        "\n",
        "SELECT Parse Tree\n",
        "\n",
        "Execution of a SELECT on the code level"
      ]
    },
    {
      "cell_type": "markdown",
      "metadata": {
        "id": "5qEzYA4ftDYh"
      },
      "source": [
        "## Storage Engine\n",
        "\n",
        "Briefly describes the most important MySQL storage engines and some of the tree structures and other data structures they employ"
      ]
    },
    {
      "cell_type": "markdown",
      "metadata": {
        "id": "ZPURdKJG1Mys"
      },
      "source": [
        "MyISAM\n",
        "\n",
        "InnoDB\n",
        "\n",
        "Memory\n",
        "\n",
        "Merge\n",
        "\n",
        "NDB\n",
        "\n",
        "Archive\n",
        "\n",
        "Federated"
      ]
    },
    {
      "cell_type": "markdown",
      "metadata": {
        "id": "9VMbZknktFCl"
      },
      "source": [
        "## Transactions\n",
        "\n",
        "List the main issues required to support transactions, and uses InnoDB to illustrate the typical architecture used to privide that support"
      ]
    },
    {
      "cell_type": "markdown",
      "metadata": {
        "id": "PoE7O8LO1uTQ"
      },
      "source": [
        "Transactional Storage Engine Implementation\n",
        "\n",
        "Implementing a handler subclass\n",
        "\n",
        "Defining the handlerton\n",
        "\n",
        "Working with the Query Cache\n",
        "\n",
        "Working with the Replication Binary Log\n",
        "\n",
        "Avoiding  Deadlocks"
      ]
    },
    {
      "cell_type": "markdown",
      "metadata": {
        "id": "z2Sw97jPtGyI"
      },
      "source": [
        "## Replication\n",
        "\n",
        "Gives an overview of replication with an emphasis on issues of implementation"
      ]
    },
    {
      "cell_type": "markdown",
      "metadata": {
        "id": "d_35DHUM2GkS"
      },
      "source": [
        "Replication\n",
        "\n",
        "Statement-Based vs Row-Based Replication\n",
        "\n",
        "Two-Threaded Slave\n",
        "\n",
        "Multi-Master\n",
        "\n",
        "SQL Commnads to help to understand replication\n",
        "\n",
        "Binary Log Format\n",
        "\n",
        "Creating a Custom Replication Utility"
      ]
    }
  ]
}