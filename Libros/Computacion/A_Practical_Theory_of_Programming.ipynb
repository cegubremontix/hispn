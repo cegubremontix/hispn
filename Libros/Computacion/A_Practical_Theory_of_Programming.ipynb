{
  "nbformat": 4,
  "nbformat_minor": 0,
  "metadata": {
    "colab": {
      "name": "A Practical Theory of Programming.ipynb",
      "provenance": [],
      "authorship_tag": "ABX9TyPCF2GFwQoWSy9Nsmjaacmv",
      "include_colab_link": true
    },
    "kernelspec": {
      "name": "python3",
      "display_name": "Python 3"
    },
    "language_info": {
      "name": "python"
    }
  },
  "cells": [
    {
      "cell_type": "markdown",
      "metadata": {
        "id": "view-in-github",
        "colab_type": "text"
      },
      "source": [
        "<a href=\"https://colab.research.google.com/github/dbremont/Notas/blob/main/Libros/Computacion/A_Practical_Theory_of_Programming.ipynb\" target=\"_parent\"><img src=\"https://colab.research.google.com/assets/colab-badge.svg\" alt=\"Open In Colab\"/></a>"
      ]
    },
    {
      "cell_type": "markdown",
      "metadata": {
        "id": "QIktsnen9hFj"
      },
      "source": [
        "##  Preface"
      ]
    },
    {
      "cell_type": "markdown",
      "metadata": {
        "id": "LLp9umRABc6R"
      },
      "source": [
        "## Basic Theories"
      ]
    },
    {
      "cell_type": "markdown",
      "metadata": {
        "id": "4FnblM6GBeZz"
      },
      "source": [
        "## Basic Data Structures"
      ]
    },
    {
      "cell_type": "markdown",
      "metadata": {
        "id": "eZQ4efHtBgmo"
      },
      "source": [
        "## Function Theory"
      ]
    },
    {
      "cell_type": "markdown",
      "metadata": {
        "id": "RYMFXDGkBinE"
      },
      "source": [
        "## Program Theory"
      ]
    },
    {
      "cell_type": "markdown",
      "metadata": {
        "id": "AYgtFFoJBkWG"
      },
      "source": [
        "## Programming Language"
      ]
    },
    {
      "cell_type": "markdown",
      "metadata": {
        "id": "CQ6YOk6NBomq"
      },
      "source": [
        "## Recursive Definition"
      ]
    },
    {
      "cell_type": "markdown",
      "metadata": {
        "id": "AXrduj1HBqsp"
      },
      "source": [
        "## Theory Design and Implementation"
      ]
    },
    {
      "cell_type": "markdown",
      "metadata": {
        "id": "dtDDQdXBBtTl"
      },
      "source": [
        "## Concurrency"
      ]
    },
    {
      "cell_type": "markdown",
      "metadata": {
        "id": "V3m4FF7JBwaO"
      },
      "source": [
        "## Communication"
      ]
    }
  ]
}