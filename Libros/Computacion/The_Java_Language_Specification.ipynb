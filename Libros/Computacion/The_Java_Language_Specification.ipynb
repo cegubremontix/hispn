{
  "nbformat": 4,
  "nbformat_minor": 0,
  "metadata": {
    "colab": {
      "name": "The Java Language Specification.ipynb",
      "provenance": [],
      "authorship_tag": "ABX9TyNvGy9q8gneN508XaQDVVkd",
      "include_colab_link": true
    },
    "kernelspec": {
      "name": "python3",
      "display_name": "Python 3"
    },
    "language_info": {
      "name": "python"
    }
  },
  "cells": [
    {
      "cell_type": "markdown",
      "metadata": {
        "id": "view-in-github",
        "colab_type": "text"
      },
      "source": [
        "<a href=\"https://colab.research.google.com/github/dbremont/Notas/blob/main/Libros/Computacion/The_Java_Language_Specification.ipynb\" target=\"_parent\"><img src=\"https://colab.research.google.com/assets/colab-badge.svg\" alt=\"Open In Colab\"/></a>"
      ]
    },
    {
      "cell_type": "markdown",
      "metadata": {
        "id": "oudx7ZdAAdn5"
      },
      "source": [
        "# The Java Language Specification"
      ]
    },
    {
      "cell_type": "markdown",
      "metadata": {
        "id": "GAQ9ex8pA4IC"
      },
      "source": [
        "## Introduction"
      ]
    },
    {
      "cell_type": "markdown",
      "metadata": {
        "id": "qG4oxfcoA8ed"
      },
      "source": [
        "## Grammars"
      ]
    },
    {
      "cell_type": "markdown",
      "metadata": {
        "id": "PrdCIJ72A-K8"
      },
      "source": [
        "## Lexical Structure"
      ]
    },
    {
      "cell_type": "markdown",
      "metadata": {
        "id": "WJU33CeLBCN3"
      },
      "source": [
        "## Types, Values, and Variables"
      ]
    },
    {
      "cell_type": "markdown",
      "metadata": {
        "id": "uXg1sunVBG8o"
      },
      "source": [
        "## Conversions and Promotions"
      ]
    },
    {
      "cell_type": "markdown",
      "metadata": {
        "id": "vgj700EPBKYa"
      },
      "source": [
        "## Names"
      ]
    },
    {
      "cell_type": "markdown",
      "metadata": {
        "id": "nKXm4mNhBMwW"
      },
      "source": [
        "## Packages"
      ]
    },
    {
      "cell_type": "markdown",
      "metadata": {
        "id": "QrPkud4TBOTn"
      },
      "source": [
        "## Classes"
      ]
    },
    {
      "cell_type": "markdown",
      "metadata": {
        "id": "iLLpqexkBQ-t"
      },
      "source": [
        "## Interfaces"
      ]
    },
    {
      "cell_type": "markdown",
      "metadata": {
        "id": "pNcgCFZrBTib"
      },
      "source": [
        "## Arrays"
      ]
    },
    {
      "cell_type": "markdown",
      "metadata": {
        "id": "1S_NIByrBVNe"
      },
      "source": [
        "## Exceptions"
      ]
    },
    {
      "cell_type": "markdown",
      "metadata": {
        "id": "kjvpGni4BWqj"
      },
      "source": [
        "## Execution"
      ]
    },
    {
      "cell_type": "markdown",
      "metadata": {
        "id": "sQ-YmIyGBamV"
      },
      "source": [
        "## Binary Compability"
      ]
    },
    {
      "cell_type": "markdown",
      "metadata": {
        "id": "dzWR6rQgCHNv"
      },
      "source": [
        "## Blocks and Statements"
      ]
    },
    {
      "cell_type": "markdown",
      "metadata": {
        "id": "Bmi-LAE4CK1l"
      },
      "source": [
        "## Expressions"
      ]
    },
    {
      "cell_type": "markdown",
      "metadata": {
        "id": "JS-RFUSyCNH1"
      },
      "source": [
        "## Define Assigment"
      ]
    },
    {
      "cell_type": "markdown",
      "metadata": {
        "id": "768H5qvTCRCo"
      },
      "source": [
        "## Threads and Locks"
      ]
    },
    {
      "cell_type": "markdown",
      "metadata": {
        "id": "oyW0mLJzCUb8"
      },
      "source": [
        "## Syntax"
      ]
    }
  ]
}