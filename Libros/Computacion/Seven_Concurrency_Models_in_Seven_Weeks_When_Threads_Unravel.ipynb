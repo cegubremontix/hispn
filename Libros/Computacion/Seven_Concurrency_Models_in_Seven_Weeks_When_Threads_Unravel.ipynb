{
  "nbformat": 4,
  "nbformat_minor": 0,
  "metadata": {
    "colab": {
      "name": "Seven Concurrency Models in Seven Weeks When Threads Unravel.ipynb",
      "provenance": [],
      "authorship_tag": "ABX9TyOZZ+CO/3Mt07ydojrzqDEc",
      "include_colab_link": true
    },
    "kernelspec": {
      "name": "python3",
      "display_name": "Python 3"
    },
    "language_info": {
      "name": "python"
    }
  },
  "cells": [
    {
      "cell_type": "markdown",
      "metadata": {
        "id": "view-in-github",
        "colab_type": "text"
      },
      "source": [
        "<a href=\"https://colab.research.google.com/github/dbremont/Notas/blob/main/Libros/Computacion/Seven_Concurrency_Models_in_Seven_Weeks_When_Threads_Unravel.ipynb\" target=\"_parent\"><img src=\"https://colab.research.google.com/assets/colab-badge.svg\" alt=\"Open In Colab\"/></a>"
      ]
    },
    {
      "cell_type": "code",
      "metadata": {
        "id": "EUehKKzWNfPI"
      },
      "source": [
        ""
      ],
      "execution_count": null,
      "outputs": []
    }
  ]
}