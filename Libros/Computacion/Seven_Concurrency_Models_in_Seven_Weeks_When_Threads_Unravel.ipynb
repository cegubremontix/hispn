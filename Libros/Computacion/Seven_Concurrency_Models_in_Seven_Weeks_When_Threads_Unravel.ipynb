{
  "nbformat": 4,
  "nbformat_minor": 0,
  "metadata": {
    "colab": {
      "name": "Seven Concurrency Models in Seven Weeks When Threads Unravel.ipynb",
      "provenance": [],
      "authorship_tag": "ABX9TyPg5m0pwd/gfj8BnOpbC0O8",
      "include_colab_link": true
    },
    "kernelspec": {
      "name": "python3",
      "display_name": "Python 3"
    },
    "language_info": {
      "name": "python"
    }
  },
  "cells": [
    {
      "cell_type": "markdown",
      "metadata": {
        "id": "view-in-github",
        "colab_type": "text"
      },
      "source": [
        "<a href=\"https://colab.research.google.com/github/dbremont/Notas/blob/main/Libros/Computacion/Seven_Concurrency_Models_in_Seven_Weeks_When_Threads_Unravel.ipynb\" target=\"_parent\"><img src=\"https://colab.research.google.com/assets/colab-badge.svg\" alt=\"Open In Colab\"/></a>"
      ]
    },
    {
      "cell_type": "markdown",
      "metadata": {
        "id": "uSWI_9LDdlt-"
      },
      "source": [
        "## Introduction"
      ]
    },
    {
      "cell_type": "markdown",
      "metadata": {
        "id": "1B3_GJYidobQ"
      },
      "source": [
        "## Threads and Locks"
      ]
    },
    {
      "cell_type": "markdown",
      "metadata": {
        "id": "GQiOzEu3dqvV"
      },
      "source": [
        "## Functional Programming"
      ]
    },
    {
      "cell_type": "markdown",
      "metadata": {
        "id": "62Gx2nWPdtuk"
      },
      "source": [
        "## The Clojure Way-Separating Identity from State"
      ]
    },
    {
      "cell_type": "markdown",
      "metadata": {
        "id": "IxoLCkvLdyKn"
      },
      "source": [
        "## Actors"
      ]
    },
    {
      "cell_type": "markdown",
      "metadata": {
        "id": "fl_-A4ZFd0B7"
      },
      "source": [
        "## Communicating Sequential Processes "
      ]
    },
    {
      "cell_type": "markdown",
      "metadata": {
        "id": "sQ7YfDVid6cE"
      },
      "source": [
        "## Data Parallelism"
      ]
    },
    {
      "cell_type": "markdown",
      "metadata": {
        "id": "g6pzeoXkd9Hp"
      },
      "source": [
        "## The Lambda Architecture"
      ]
    },
    {
      "cell_type": "markdown",
      "metadata": {
        "id": "u-rwAnrJd_xf"
      },
      "source": [
        "## Wrapping Up"
      ]
    }
  ]
}