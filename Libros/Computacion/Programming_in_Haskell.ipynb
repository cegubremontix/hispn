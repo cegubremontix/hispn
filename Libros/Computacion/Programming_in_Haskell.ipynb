{
  "nbformat": 4,
  "nbformat_minor": 0,
  "metadata": {
    "colab": {
      "name": "Programming in Haskell.ipynb",
      "provenance": [],
      "authorship_tag": "ABX9TyMUBwiv8s+CF65BAyDH7oVz",
      "include_colab_link": true
    },
    "kernelspec": {
      "name": "python3",
      "display_name": "Python 3"
    },
    "language_info": {
      "name": "python"
    }
  },
  "cells": [
    {
      "cell_type": "markdown",
      "metadata": {
        "id": "view-in-github",
        "colab_type": "text"
      },
      "source": [
        "<a href=\"https://colab.research.google.com/github/dbremont/Notas/blob/main/Libros/Computacion/Programming_in_Haskell.ipynb\" target=\"_parent\"><img src=\"https://colab.research.google.com/assets/colab-badge.svg\" alt=\"Open In Colab\"/></a>"
      ]
    },
    {
      "cell_type": "markdown",
      "metadata": {
        "id": "fZJfBCOPTVYv"
      },
      "source": [
        "# Programming in Haskell"
      ]
    },
    {
      "cell_type": "markdown",
      "metadata": {
        "id": "vTNewzlCTdrF"
      },
      "source": [
        "# Part I. Basic Concepts"
      ]
    },
    {
      "cell_type": "markdown",
      "metadata": {
        "id": "VqeN2y1mTi9M"
      },
      "source": [
        "## 1. Introduction"
      ]
    },
    {
      "cell_type": "markdown",
      "metadata": {
        "id": "RJ_PgScpTk6j"
      },
      "source": [
        "## 2. First steps"
      ]
    },
    {
      "cell_type": "markdown",
      "metadata": {
        "id": "6k7OQUNLTmsr"
      },
      "source": [
        "## 3. Types and classes"
      ]
    },
    {
      "cell_type": "markdown",
      "metadata": {
        "id": "GhzyMMKRTovt"
      },
      "source": [
        "## 4. Defining functions"
      ]
    },
    {
      "cell_type": "markdown",
      "metadata": {
        "id": "kiFUd3jDTq6v"
      },
      "source": [
        "## 5. List comprehensions"
      ]
    },
    {
      "cell_type": "markdown",
      "metadata": {
        "id": "VcgWoF0iTs2h"
      },
      "source": [
        "## 6. Recursive functions"
      ]
    },
    {
      "cell_type": "markdown",
      "metadata": {
        "id": "Sd7ztvtRTv_Y"
      },
      "source": [
        "## 7. Higher-order functions"
      ]
    },
    {
      "cell_type": "markdown",
      "metadata": {
        "id": "TyIUji9zTxuf"
      },
      "source": [
        "## 8. Declaring types and classes"
      ]
    },
    {
      "cell_type": "markdown",
      "metadata": {
        "id": "bUbh25xhTzkp"
      },
      "source": [
        "## 9. The countdown problem"
      ]
    },
    {
      "cell_type": "markdown",
      "metadata": {
        "id": "uyHTHFKPTfzY"
      },
      "source": [
        "# Part II. Going Further:\n"
      ]
    },
    {
      "cell_type": "markdown",
      "metadata": {
        "id": "pjrb1NTeT2QZ"
      },
      "source": [
        "## 10. Interactive programming"
      ]
    },
    {
      "cell_type": "markdown",
      "metadata": {
        "id": "rjKMePmZT4DI"
      },
      "source": [
        "## 11. Unbeatable tic-tac-toe"
      ]
    },
    {
      "cell_type": "markdown",
      "metadata": {
        "id": "ni6G7noCT5m8"
      },
      "source": [
        "## 12. Monads and more"
      ]
    },
    {
      "cell_type": "markdown",
      "metadata": {
        "id": "PgaNV-HsT7qL"
      },
      "source": [
        "## 13. Monadic parsing"
      ]
    },
    {
      "cell_type": "markdown",
      "metadata": {
        "id": "ZRup4TYPT9k_"
      },
      "source": [
        "## 14. Foldables and friends"
      ]
    },
    {
      "cell_type": "markdown",
      "metadata": {
        "id": "twwC95UHUA8q"
      },
      "source": [
        "## 15. Lazy evaluation"
      ]
    },
    {
      "cell_type": "markdown",
      "metadata": {
        "id": "S1GDokFUUCg0"
      },
      "source": [
        "## 16. Reasoning about programs"
      ]
    },
    {
      "cell_type": "markdown",
      "metadata": {
        "id": "tpUHmSa4ThZ3"
      },
      "source": [
        "## 17. Calculating compilers"
      ]
    }
  ]
}