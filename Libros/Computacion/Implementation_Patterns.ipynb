{
  "nbformat": 4,
  "nbformat_minor": 0,
  "metadata": {
    "colab": {
      "name": "Implementation Patterns.ipynb",
      "provenance": [],
      "toc_visible": true,
      "authorship_tag": "ABX9TyMGlPJO3q7h61Z3M5+DIguM",
      "include_colab_link": true
    },
    "kernelspec": {
      "name": "python3",
      "display_name": "Python 3"
    },
    "language_info": {
      "name": "python"
    }
  },
  "cells": [
    {
      "cell_type": "markdown",
      "metadata": {
        "id": "view-in-github",
        "colab_type": "text"
      },
      "source": [
        "<a href=\"https://colab.research.google.com/github/dbremont/Notas/blob/main/Libros/Computacion/Implementation_Patterns.ipynb\" target=\"_parent\"><img src=\"https://colab.research.google.com/assets/colab-badge.svg\" alt=\"Open In Colab\"/></a>"
      ]
    },
    {
      "cell_type": "markdown",
      "metadata": {
        "id": "Ece22H0tpTpb"
      },
      "source": [
        "# Implementation Patterns\n",
        "\n"
      ]
    },
    {
      "cell_type": "markdown",
      "metadata": {
        "id": "CVlYTavhIZ2a"
      },
      "source": [
        "## Introduction"
      ]
    },
    {
      "cell_type": "markdown",
      "metadata": {
        "id": "maFL-CZUQNuG"
      },
      "source": [
        "## A Theory of Programming"
      ]
    },
    {
      "cell_type": "markdown",
      "metadata": {
        "id": "K93cdG5BSnfH"
      },
      "source": [
        "## Motivation"
      ]
    },
    {
      "cell_type": "markdown",
      "metadata": {
        "id": "oiqIpu0dSqt1"
      },
      "source": [
        "## Class"
      ]
    },
    {
      "cell_type": "markdown",
      "metadata": {
        "id": "XaP_CgsWSsX_"
      },
      "source": [
        "## State"
      ]
    },
    {
      "cell_type": "markdown",
      "metadata": {
        "id": "K9onVnwYSt_Y"
      },
      "source": [
        "## Behavior"
      ]
    },
    {
      "cell_type": "markdown",
      "metadata": {
        "id": "unK7iiWZQQRr"
      },
      "source": [
        "## Methods"
      ]
    },
    {
      "cell_type": "markdown",
      "metadata": {
        "id": "cwFP8OzhQTSV"
      },
      "source": [
        "## Collections"
      ]
    },
    {
      "cell_type": "markdown",
      "metadata": {
        "id": "Eex8ukoETlNJ"
      },
      "source": [
        "## Evolving Frameworks"
      ]
    },
    {
      "cell_type": "markdown",
      "metadata": {
        "id": "Fkh6E4TATnqo"
      },
      "source": [
        "## Performance Measurement"
      ]
    }
  ]
}