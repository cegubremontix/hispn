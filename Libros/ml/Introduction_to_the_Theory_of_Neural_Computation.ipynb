{
  "nbformat": 4,
  "nbformat_minor": 0,
  "metadata": {
    "colab": {
      "name": "Introduction to the Theory of Neural Computation.ipynb",
      "provenance": [],
      "toc_visible": true,
      "authorship_tag": "ABX9TyO4NtzRJE3+4+CQHl5mfORn",
      "include_colab_link": true
    },
    "kernelspec": {
      "name": "python3",
      "display_name": "Python 3"
    },
    "language_info": {
      "name": "python"
    }
  },
  "cells": [
    {
      "cell_type": "markdown",
      "metadata": {
        "id": "view-in-github",
        "colab_type": "text"
      },
      "source": [
        "<a href=\"https://colab.research.google.com/github/dbremont/Notas/blob/main/Libros/Aprendisaje%20Automatico/Introduction_to_the_Theory_of_Neural_Computation.ipynb\" target=\"_parent\"><img src=\"https://colab.research.google.com/assets/colab-badge.svg\" alt=\"Open In Colab\"/></a>"
      ]
    },
    {
      "cell_type": "markdown",
      "metadata": {
        "id": "YHy0fXUNEF1k"
      },
      "source": [
        "# Introduction to the Theory of Neural Computation"
      ]
    },
    {
      "cell_type": "markdown",
      "metadata": {
        "id": "c5vqKMKiGWtQ"
      },
      "source": [
        "## Introdution"
      ]
    },
    {
      "cell_type": "markdown",
      "metadata": {
        "id": "Bk457i-LIYFZ"
      },
      "source": [
        "## The Hopfield Model"
      ]
    },
    {
      "cell_type": "markdown",
      "metadata": {
        "id": "qml3Zl7fIfOE"
      },
      "source": [
        "## Extension  of the Hopfield Model"
      ]
    },
    {
      "cell_type": "markdown",
      "metadata": {
        "id": "w4OEAGVhIjw_"
      },
      "source": [
        "## Optimization Problems"
      ]
    },
    {
      "cell_type": "markdown",
      "metadata": {
        "id": "0ABVXhSbInr-"
      },
      "source": [
        "## Simple Perceptrons"
      ]
    },
    {
      "cell_type": "markdown",
      "metadata": {
        "id": "u0okdqxWIpzK"
      },
      "source": [
        "## Multi-Layer Networks"
      ]
    },
    {
      "cell_type": "markdown",
      "metadata": {
        "id": "YWB8nYPRItYM"
      },
      "source": [
        "## Recurrent Networks"
      ]
    },
    {
      "cell_type": "markdown",
      "metadata": {
        "id": "TtbO8Hq6IvX7"
      },
      "source": [
        "## Unsupervised Hebbian Learning"
      ]
    },
    {
      "cell_type": "markdown",
      "metadata": {
        "id": "KxGjUE-AIzCK"
      },
      "source": [
        "## Unsupervised Competitive Learning"
      ]
    },
    {
      "cell_type": "markdown",
      "metadata": {
        "id": "NsOTvvEiI28o"
      },
      "source": [
        "## Formal Statistical Mechanics of Neural Networks"
      ]
    },
    {
      "cell_type": "markdown",
      "metadata": {
        "id": "Gj18lc78I6Mc"
      },
      "source": [
        "## Statistical Mechanics"
      ]
    }
  ]
}