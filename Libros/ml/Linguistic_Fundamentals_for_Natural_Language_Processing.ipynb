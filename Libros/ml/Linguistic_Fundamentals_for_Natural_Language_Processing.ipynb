{
  "nbformat": 4,
  "nbformat_minor": 0,
  "metadata": {
    "colab": {
      "name": "Linguistic Fundamentals for Natural Language Processing.ipynb",
      "provenance": [],
      "authorship_tag": "ABX9TyNZ6GSVrc+j7J92xCplO1uo",
      "include_colab_link": true
    },
    "kernelspec": {
      "name": "python3",
      "display_name": "Python 3"
    },
    "language_info": {
      "name": "python"
    }
  },
  "cells": [
    {
      "cell_type": "markdown",
      "metadata": {
        "id": "view-in-github",
        "colab_type": "text"
      },
      "source": [
        "<a href=\"https://colab.research.google.com/github/dbremont/Notas/blob/main/Libros/Aprendisaje%20Automatico/Linguistic_Fundamentals_for_Natural_Language_Processing.ipynb\" target=\"_parent\"><img src=\"https://colab.research.google.com/assets/colab-badge.svg\" alt=\"Open In Colab\"/></a>"
      ]
    },
    {
      "cell_type": "markdown",
      "metadata": {
        "id": "ZY1Aw7su4T2K"
      },
      "source": [
        "## Linguistic Fundamentals for Natural Language Processing\n",
        "100 Essentials from Morphology and Syntax"
      ]
    },
    {
      "cell_type": "markdown",
      "metadata": {
        "id": "FeH72FAa47Tc"
      },
      "source": [
        "- NLP - Extracting dependencies.\n",
        "- Relashionship between parts of sentences.\n",
        "- Areas of Liguistics:\n",
        "\n",
        "  1. Phonetics - study the sound of human language.\n",
        "  2. Phonology - study of sound system in ....\n",
        "  3. Morphology - \n",
        "  4. Syntax\n",
        "  6. Semantics\n",
        "  7. Pragmatics\n",
        "\n",
        "\n",
        "- Morphenes: Smallest meaninful units of language."
      ]
    }
  ]
}