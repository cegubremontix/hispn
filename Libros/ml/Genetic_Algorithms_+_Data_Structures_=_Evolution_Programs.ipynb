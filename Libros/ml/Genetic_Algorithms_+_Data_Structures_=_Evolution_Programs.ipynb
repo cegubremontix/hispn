{
  "nbformat": 4,
  "nbformat_minor": 0,
  "metadata": {
    "colab": {
      "name": "Genetic Algorithms + Data Structures = Evolution Programs.ipynb",
      "provenance": [],
      "toc_visible": true,
      "authorship_tag": "ABX9TyOz8Z2ivYCCejAL3nwZGw0Q",
      "include_colab_link": true
    },
    "kernelspec": {
      "name": "python3",
      "display_name": "Python 3"
    },
    "language_info": {
      "name": "python"
    }
  },
  "cells": [
    {
      "cell_type": "markdown",
      "metadata": {
        "id": "view-in-github",
        "colab_type": "text"
      },
      "source": [
        "<a href=\"https://colab.research.google.com/github/dbremont/Notas/blob/main/Libros/Aprendisaje%20Automatico/Genetic_Algorithms_%2B_Data_Structures_%3D_Evolution_Programs.ipynb\" target=\"_parent\"><img src=\"https://colab.research.google.com/assets/colab-badge.svg\" alt=\"Open In Colab\"/></a>"
      ]
    },
    {
      "cell_type": "markdown",
      "metadata": {
        "id": "w4kydg_jk_Fp"
      },
      "source": [
        "# Genetic Algorithms + Data Structures = Evolution Programs"
      ]
    },
    {
      "cell_type": "markdown",
      "metadata": {
        "id": "_2XanaglnSNK"
      },
      "source": [
        "## Genetic Algorithms"
      ]
    },
    {
      "cell_type": "markdown",
      "metadata": {
        "id": "VvuhwN04lAb9"
      },
      "source": [
        "### GAs: What Are They?"
      ]
    },
    {
      "cell_type": "markdown",
      "metadata": {
        "id": "ZW80n2YSlhQK"
      },
      "source": [
        "### GAs: How Do They Work?\n"
      ]
    },
    {
      "cell_type": "markdown",
      "metadata": {
        "id": "cKfi9n2Blk-D"
      },
      "source": [
        "### GAs: Selected Topics"
      ]
    },
    {
      "cell_type": "markdown",
      "metadata": {
        "id": "qUOaafRHnWmW"
      },
      "source": [
        "## Numerical Optimization"
      ]
    },
    {
      "cell_type": "markdown",
      "metadata": {
        "id": "Di4NvfB0naTc"
      },
      "source": [
        "### Binary or Float?"
      ]
    },
    {
      "cell_type": "markdown",
      "metadata": {
        "id": "Es1gQMvjndVs"
      },
      "source": [
        "### Fine Local Tuning"
      ]
    },
    {
      "cell_type": "markdown",
      "metadata": {
        "id": "CawnhsY1nf-O"
      },
      "source": [
        "### Handling Constrains"
      ]
    },
    {
      "cell_type": "markdown",
      "metadata": {
        "id": "3OlPWbr7nkvW"
      },
      "source": [
        "### Evolution Strategies and Other Methods"
      ]
    },
    {
      "cell_type": "markdown",
      "metadata": {
        "id": "jmH6aa5knuPn"
      },
      "source": [
        "## Evolution Programs"
      ]
    },
    {
      "cell_type": "markdown",
      "metadata": {
        "id": "Wqmo487WnxCe"
      },
      "source": [
        "### The Transformation Problem"
      ]
    },
    {
      "cell_type": "markdown",
      "metadata": {
        "id": "-OaYzmGSxAUs"
      },
      "source": [
        "### The Traveling Salesman Problem"
      ]
    },
    {
      "cell_type": "markdown",
      "metadata": {
        "id": "T-LS9u-bxGH4"
      },
      "source": [
        "### Evolution Programs for Various Discrete Problems"
      ]
    },
    {
      "cell_type": "markdown",
      "metadata": {
        "id": "bBU81H_SxLol"
      },
      "source": [
        "### Machine Learning"
      ]
    },
    {
      "cell_type": "markdown",
      "metadata": {
        "id": "uezv6kQ3xO5v"
      },
      "source": [
        "### Evolutionary Programming and Genetic Programming"
      ]
    },
    {
      "cell_type": "markdown",
      "metadata": {
        "id": "MQMPWWV3xVXE"
      },
      "source": [
        "### A Hiercachy of Evolution Programs"
      ]
    },
    {
      "cell_type": "markdown",
      "metadata": {
        "id": "-g7g2FBGxZbj"
      },
      "source": [
        "### Conclusions"
      ]
    }
  ]
}