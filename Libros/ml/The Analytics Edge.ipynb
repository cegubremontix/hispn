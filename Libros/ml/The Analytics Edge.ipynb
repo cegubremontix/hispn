{
  "nbformat": 4,
  "nbformat_minor": 0,
  "metadata": {
    "kernelspec": {
      "display_name": "Python 2.7.18 64-bit",
      "name": "python2718jvsc74a57bd0f92b2924b84ff19c1c3dc485f7644d4486f64738191026bf8e6de303969141b5"
    },
    "language_info": {
      "name": "python",
      "version": ""
    },
    "metadata": {
      "interpreter": {
        "hash": "f92b2924b84ff19c1c3dc485f7644d4486f64738191026bf8e6de303969141b5"
      }
    },
    "orig_nbformat": 2,
    "colab": {
      "name": "The Analytics Edge.ipynb",
      "provenance": [],
      "include_colab_link": true
    }
  },
  "cells": [
    {
      "cell_type": "markdown",
      "metadata": {
        "id": "view-in-github",
        "colab_type": "text"
      },
      "source": [
        "<a href=\"https://colab.research.google.com/github/dbremont/Notas/blob/main/Libros/Aprendisaje%20Automatico/The%20Analytics%20Edge.ipynb\" target=\"_parent\"><img src=\"https://colab.research.google.com/assets/colab-badge.svg\" alt=\"Open In Colab\"/></a>"
      ]
    },
    {
      "cell_type": "markdown",
      "metadata": {
        "id": "ZK05N_bAo8PT"
      },
      "source": [
        "F"
      ]
    },
    {
      "cell_type": "markdown",
      "metadata": {
        "id": "HVTAcbPto4hT"
      },
      "source": [
        "Humans and Machines\n",
        "1. Models Versus Experts\n",
        "2. How Do You Make a Grandmaster Blink?\n",
        "3. What is Watson?\n",
        "\n",
        "\n",
        "Sports and Games\n",
        "4. How to Evaluate Championship Players\n",
        "5. Optimizing Sports League Structures\n",
        "6. The MIT Blackjack Team\n",
        "\n",
        "Healthcare\n",
        "7. The Gramingham Heart Study\n",
        "8. Predicting Healthcare Costs\n",
        "9. Medical Monitoring and Predictive Diagnosign\n",
        "10. Analytics for Kidney Allocation\n",
        "\n",
        "The Internet\n",
        "11. The Heart of Google's Search Engine\n",
        "12. How Online Advertising Changed the Internet\n",
        "13. Recommendations Worth a Million\n",
        "\n",
        "Combating  Crime\n",
        "14. Fraud Detection\n",
        "15. Predictive Policing\n",
        "16. Network science and  Policing\n",
        "\n",
        "Management of Operations\n",
        "17. Increasing Revenue with Analytics\n",
        "18. A Life-Saving Analytics Operation\n",
        "\n",
        "Finance\n",
        "19. An Analytical Valuation of Stock Options\n",
        "20. The Analytics Edge in Asset Management\n",
        "\n",
        "Methods and Exercises to Put the Analytics Edge into Action\n",
        "21. Analytics Methods\n",
        "22. Analytics Explorations and Dives\n",
        "\n",
        "\n",
        "\n",
        "\n"
      ]
    }
  ]
}