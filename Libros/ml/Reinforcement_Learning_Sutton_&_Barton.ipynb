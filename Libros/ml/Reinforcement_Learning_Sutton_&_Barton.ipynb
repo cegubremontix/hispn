{
  "nbformat": 4,
  "nbformat_minor": 0,
  "metadata": {
    "colab": {
      "name": "Reinforcement Learning Sutton & Barton.ipynb",
      "provenance": [],
      "toc_visible": true,
      "authorship_tag": "ABX9TyNCa6bodnRXybMc/eanJX39",
      "include_colab_link": true
    },
    "kernelspec": {
      "name": "python3",
      "display_name": "Python 3"
    },
    "language_info": {
      "name": "python"
    }
  },
  "cells": [
    {
      "cell_type": "markdown",
      "metadata": {
        "id": "view-in-github",
        "colab_type": "text"
      },
      "source": [
        "<a href=\"https://colab.research.google.com/github/dbremont/Notas/blob/main/Libros/Aprendisaje%20Automatico/Reinforcement_Learning_Sutton_%26_Barton.ipynb\" target=\"_parent\"><img src=\"https://colab.research.google.com/assets/colab-badge.svg\" alt=\"Open In Colab\"/></a>"
      ]
    },
    {
      "cell_type": "markdown",
      "metadata": {
        "id": "8CwQAq1CSWRc"
      },
      "source": [
        "# Reinforcement Learning Sutton & Barton\n",
        "\n",
        "- Adaptative systems.\n",
        "\n",
        "- **Computational perspective**: a learning system that wants something, that adapts its behavior in order to maximize a special signal from its environment.\n",
        "\n",
        "- This book is a general treatment of reinforcement learning.\n",
        "\n",
        "- This book is largely self-contained . The only mathematical background assumed is familiarity with elementary concepts of probability, such as expectations of random variables."
      ]
    },
    {
      "cell_type": "markdown",
      "metadata": {
        "id": "_gkhlm1ISXvs"
      },
      "source": [
        "## The Problem\n",
        "\n",
        "- Focus on the simplest aspects of  reinforcement learning and on its main distinguising features."
      ]
    },
    {
      "cell_type": "markdown",
      "metadata": {
        "id": "T45NJlbvSdD8"
      },
      "source": [
        "### Introduction"
      ]
    },
    {
      "cell_type": "markdown",
      "metadata": {
        "id": "bsqs38t0Seke"
      },
      "source": [
        "### Evaluative Feedback"
      ]
    },
    {
      "cell_type": "markdown",
      "metadata": {
        "id": "hQrTPYjHSgj4"
      },
      "source": [
        "### The Reinforcement Learning Problem"
      ]
    },
    {
      "cell_type": "markdown",
      "metadata": {
        "id": "6kxuppCDSlSw"
      },
      "source": [
        "## Elementary Solution Methods\n",
        "\n",
        "- **Dynamic programming** a planning method for solving the problem.\n",
        "\n",
        "- **Monte Carlo Methods**, and **Temporal-Difference Learning** are learning methods for solving the problem."
      ]
    },
    {
      "cell_type": "markdown",
      "metadata": {
        "id": "jOWjzqijStcF"
      },
      "source": [
        "### Dynamic Programming"
      ]
    },
    {
      "cell_type": "markdown",
      "metadata": {
        "id": "p-ZJ6k--Svz3"
      },
      "source": [
        "### Monte Carlo Methods"
      ]
    },
    {
      "cell_type": "markdown",
      "metadata": {
        "id": "pSRqQKzKSx77"
      },
      "source": [
        "### Temporal-Difference Learning"
      ]
    },
    {
      "cell_type": "markdown",
      "metadata": {
        "id": "WAjGyyfZS3YT"
      },
      "source": [
        "## A Unified View\n",
        "\n",
        "- Generalizing the methods and merge them.\n"
      ]
    },
    {
      "cell_type": "markdown",
      "metadata": {
        "id": "3naouLJ1S59V"
      },
      "source": [
        "### Eligibility Traces"
      ]
    },
    {
      "cell_type": "markdown",
      "metadata": {
        "id": "blL-AvPMS946"
      },
      "source": [
        "### Generalization  and Function Approximation"
      ]
    },
    {
      "cell_type": "markdown",
      "metadata": {
        "id": "eTLmN2h4TEXO"
      },
      "source": [
        "### Planning and Learning"
      ]
    },
    {
      "cell_type": "markdown",
      "metadata": {
        "id": "XjjBlCNXT7sm"
      },
      "source": [
        "### Dimensions of Reiforcement Learning"
      ]
    },
    {
      "cell_type": "markdown",
      "metadata": {
        "id": "PZajW3mLUDEg"
      },
      "source": [
        "### Case Studies"
      ]
    },
    {
      "cell_type": "markdown",
      "metadata": {
        "id": "BRJGoYJYURGW"
      },
      "source": [
        "## References"
      ]
    },
    {
      "cell_type": "markdown",
      "metadata": {
        "id": "y2NOu4eaUTKR"
      },
      "source": [
        "## Summary of Notation"
      ]
    }
  ]
}