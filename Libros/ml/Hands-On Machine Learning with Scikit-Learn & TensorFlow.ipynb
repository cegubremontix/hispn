{
  "nbformat": 4,
  "nbformat_minor": 0,
  "metadata": {
    "kernelspec": {
      "display_name": "Python 2.7.18 64-bit",
      "name": "python2718jvsc74a57bd0f92b2924b84ff19c1c3dc485f7644d4486f64738191026bf8e6de303969141b5"
    },
    "language_info": {
      "name": "python",
      "version": ""
    },
    "metadata": {
      "interpreter": {
        "hash": "f92b2924b84ff19c1c3dc485f7644d4486f64738191026bf8e6de303969141b5"
      }
    },
    "orig_nbformat": 2,
    "colab": {
      "name": "Hands-On Machine Learning with Scikit-Learn & TensorFlow.ipynb",
      "provenance": [],
      "include_colab_link": true
    }
  },
  "cells": [
    {
      "cell_type": "markdown",
      "metadata": {
        "id": "view-in-github",
        "colab_type": "text"
      },
      "source": [
        "<a href=\"https://colab.research.google.com/github/dbremont/Notas/blob/main/Libros/Aprendisaje%20Automatico/Hands-On%20Machine%20Learning%20with%20Scikit-Learn%20%26%20TensorFlow.ipynb\" target=\"_parent\"><img src=\"https://colab.research.google.com/assets/colab-badge.svg\" alt=\"Open In Colab\"/></a>"
      ]
    },
    {
      "cell_type": "markdown",
      "metadata": {
        "id": "2OYzkW2LpU-u"
      },
      "source": [
        "(F) "
      ]
    },
    {
      "cell_type": "markdown",
      "metadata": {
        "id": "PSs_OmZApRtg"
      },
      "source": [
        "The Fundamentals of Machine Learning\n",
        "1. The Machine Learning Landscape\n",
        "2. End-to-End Machine Learning Project\n",
        "3. Classification\n",
        "4. Training Models\n",
        "5. Support Vector Machines\n",
        "6. Decision Trees\n",
        "7. Ensemble Learning and Random Forest\n",
        "8. Dimensionality Reduction\n",
        "\n",
        "Neural Networks and Deep Learning\n",
        "9. Up and Running with TensorFlow\n",
        "10. Introduction to Artificial Neural Networks\n",
        "11. Training Deep Neural Nets\n",
        "12. Distributing TensorFlow Across Devices and Servers\n",
        "13. Convolutional Neural Networks\n",
        "14. Recurrent Neural Networks\n",
        "15. Autoencoders\n",
        "16. Reinforcement Learning\n",
        "\n"
      ]
    }
  ]
}