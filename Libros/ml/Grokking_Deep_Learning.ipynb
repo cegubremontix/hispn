{
  "nbformat": 4,
  "nbformat_minor": 0,
  "metadata": {
    "colab": {
      "name": "Grokking Deep Learning.ipynb",
      "provenance": [],
      "authorship_tag": "ABX9TyOoJBB6NsYS4IUQcUjX8No9",
      "include_colab_link": true
    },
    "kernelspec": {
      "name": "python3",
      "display_name": "Python 3"
    },
    "language_info": {
      "name": "python"
    }
  },
  "cells": [
    {
      "cell_type": "markdown",
      "metadata": {
        "id": "view-in-github",
        "colab_type": "text"
      },
      "source": [
        "<a href=\"https://colab.research.google.com/github/dbremont/Notas/blob/main/Libros/Aprendisaje%20Automatico/Grokking_Deep_Learning.ipynb\" target=\"_parent\"><img src=\"https://colab.research.google.com/assets/colab-badge.svg\" alt=\"Open In Colab\"/></a>"
      ]
    },
    {
      "cell_type": "markdown",
      "metadata": {
        "id": "hGk4A1Y5FXwe"
      },
      "source": [
        "## Introducing deep learning: why you should learn it"
      ]
    },
    {
      "cell_type": "markdown",
      "metadata": {
        "id": "jWBgN4o7Fr4b"
      },
      "source": [
        "## Fundamental concepts: how do machines learn?"
      ]
    },
    {
      "cell_type": "markdown",
      "metadata": {
        "id": "83HPc7N1Fusu"
      },
      "source": [
        "## Introduction to neural prediction: forward propagation"
      ]
    },
    {
      "cell_type": "markdown",
      "metadata": {
        "id": "PzMKlRtRFzJW"
      },
      "source": [
        "## Introduction to neural  learning: gradient descent"
      ]
    },
    {
      "cell_type": "markdown",
      "metadata": {
        "id": "SENb5pp5F3Ns"
      },
      "source": [
        "## Learning multiple weights at a time: generalizing gradient descent"
      ]
    },
    {
      "cell_type": "markdown",
      "metadata": {
        "id": "QalUJCTAF9tT"
      },
      "source": [
        "## Building your first deep nearal network: introduction to backpropagation"
      ]
    },
    {
      "cell_type": "markdown",
      "metadata": {
        "id": "igApIq0-GEAP"
      },
      "source": [
        "## How to picture neural networks: in your head and on paper"
      ]
    },
    {
      "cell_type": "markdown",
      "metadata": {
        "id": "vFWDn3P3GK2M"
      },
      "source": [
        "## Learning signal and ignoring noise: introduction to regularization and batching"
      ]
    },
    {
      "cell_type": "markdown",
      "metadata": {
        "id": "oa3IUelXGRCP"
      },
      "source": [
        "## Modeling probabilities and nonlinearities: activation functions"
      ]
    },
    {
      "cell_type": "markdown",
      "metadata": {
        "id": "oUI9GMYBGVVl"
      },
      "source": [
        "## Neural learning about edges and corners: intro to convolutional neural networks"
      ]
    },
    {
      "cell_type": "markdown",
      "metadata": {
        "id": "0Pd8NIRPGacQ"
      },
      "source": [
        "## Neural networks that understand language: king - man + woman  = ?"
      ]
    },
    {
      "cell_type": "markdown",
      "metadata": {
        "id": "UlAi8MVjGe8x"
      },
      "source": [
        "## Neural networks that write like Shakespeare: recurrent elayers for variable-length data"
      ]
    },
    {
      "cell_type": "markdown",
      "metadata": {
        "id": "XfY-M28sGmu2"
      },
      "source": [
        "## Introducing automatic optimization: let's build a deep learning framework"
      ]
    },
    {
      "cell_type": "markdown",
      "metadata": {
        "id": "kgOgodlDGrQ3"
      },
      "source": [
        "## Learning to write like Shakespeare: long short-term memory"
      ]
    },
    {
      "cell_type": "markdown",
      "metadata": {
        "id": "ZG5yrWBHGyN1"
      },
      "source": [
        "## Deep Learning on unseen data: introducing federated learning"
      ]
    },
    {
      "cell_type": "markdown",
      "metadata": {
        "id": "L3ZLXStiG2_Q"
      },
      "source": [
        "## Where jto go from here: a brief guide"
      ]
    }
  ]
}