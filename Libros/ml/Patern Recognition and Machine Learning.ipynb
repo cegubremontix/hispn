{
  "nbformat": 4,
  "nbformat_minor": 0,
  "metadata": {
    "kernelspec": {
      "display_name": "Python 2.7.18 64-bit",
      "name": "python2718jvsc74a57bd0f92b2924b84ff19c1c3dc485f7644d4486f64738191026bf8e6de303969141b5"
    },
    "language_info": {
      "name": "python",
      "version": ""
    },
    "metadata": {
      "interpreter": {
        "hash": "f92b2924b84ff19c1c3dc485f7644d4486f64738191026bf8e6de303969141b5"
      }
    },
    "orig_nbformat": 2,
    "colab": {
      "name": "Patern Recognition and Machine Learning.ipynb",
      "provenance": [],
      "include_colab_link": true
    }
  },
  "cells": [
    {
      "cell_type": "markdown",
      "metadata": {
        "id": "view-in-github",
        "colab_type": "text"
      },
      "source": [
        "<a href=\"https://colab.research.google.com/github/dbremont/Notas/blob/main/Libros/Aprendisaje%20Automatico/Patern%20Recognition%20and%20Machine%20Learning.ipynb\" target=\"_parent\"><img src=\"https://colab.research.google.com/assets/colab-badge.svg\" alt=\"Open In Colab\"/></a>"
      ]
    },
    {
      "cell_type": "markdown",
      "metadata": {
        "id": "GmyMsVogomsF"
      },
      "source": [
        "Patern Recognition and Machine Learning"
      ]
    },
    {
      "cell_type": "markdown",
      "metadata": {
        "id": "mReCDnhfooX1"
      },
      "source": [
        "* (F) Patern Recognition and Machine Learning - Bishop\n",
        "\n",
        "* [Repository of notes, code and notebooks for the book Pattern Recognition and Machine Learning by Christopher Bishop](https://github.com/gerdm/prml)"
      ]
    }
  ]
}