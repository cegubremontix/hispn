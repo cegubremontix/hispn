{
  "nbformat": 4,
  "nbformat_minor": 0,
  "metadata": {
    "colab": {
      "name": "Random Walks in Biology.ipynb",
      "provenance": [],
      "authorship_tag": "ABX9TyOa9isgwGHGM0fup150gIbw",
      "include_colab_link": true
    },
    "kernelspec": {
      "name": "python3",
      "display_name": "Python 3"
    },
    "language_info": {
      "name": "python"
    }
  },
  "cells": [
    {
      "cell_type": "markdown",
      "metadata": {
        "id": "view-in-github",
        "colab_type": "text"
      },
      "source": [
        "<a href=\"https://colab.research.google.com/github/dbremont/Notas/blob/main/Libros/Ciencia/Random_Walks_in_Biology.ipynb\" target=\"_parent\"><img src=\"https://colab.research.google.com/assets/colab-badge.svg\" alt=\"Open In Colab\"/></a>"
      ]
    },
    {
      "cell_type": "markdown",
      "metadata": {
        "id": "hJiUwECk3dDg"
      },
      "source": [
        "## Diffusion: Microscopic Theory"
      ]
    },
    {
      "cell_type": "markdown",
      "metadata": {
        "id": "FlNjSErJ3lG7"
      },
      "source": [
        "## Diffusion: Macroscopic Theory"
      ]
    },
    {
      "cell_type": "markdown",
      "metadata": {
        "id": "6amILtkp3pt6"
      },
      "source": [
        "## Diffusion to Capture"
      ]
    },
    {
      "cell_type": "markdown",
      "metadata": {
        "id": "2qGoGnsm3riv"
      },
      "source": [
        "## Diffusion with Drift"
      ]
    },
    {
      "cell_type": "markdown",
      "metadata": {
        "id": "-3H-tPOO3utM"
      },
      "source": [
        "## Diffusion at Equilibrium"
      ]
    },
    {
      "cell_type": "markdown",
      "metadata": {
        "id": "9JbeLPUQ3y-f"
      },
      "source": [
        "## Movement of Self-propelled Objects"
      ]
    },
    {
      "cell_type": "markdown",
      "metadata": {
        "id": "YofsfPa5351t"
      },
      "source": [
        "## Other Random Walks"
      ]
    },
    {
      "cell_type": "markdown",
      "metadata": {
        "id": "9lJ3cKyr38b7"
      },
      "source": [
        "## Probabilities and Probabilities Distributions"
      ]
    },
    {
      "cell_type": "markdown",
      "metadata": {
        "id": "E_YUqskb4AON"
      },
      "source": [
        "## Differential Equations"
      ]
    },
    {
      "cell_type": "markdown",
      "metadata": {
        "id": "LZEwYQng4CQp"
      },
      "source": [
        "## Addendum to Chapter 6"
      ]
    },
    {
      "cell_type": "markdown",
      "metadata": {
        "id": "Dj5NfSno4Eo8"
      },
      "source": [
        "## Constans and Formulas"
      ]
    }
  ]
}