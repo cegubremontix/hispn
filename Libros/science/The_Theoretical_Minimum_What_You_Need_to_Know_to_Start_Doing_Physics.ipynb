{
  "nbformat": 4,
  "nbformat_minor": 0,
  "metadata": {
    "colab": {
      "name": "The Theoretical Minimum - What You Need to Know to Start Doing Physics.ipynb",
      "provenance": [],
      "toc_visible": true,
      "authorship_tag": "ABX9TyP2FZ/FRn9mzTRUyi1aB8DX",
      "include_colab_link": true
    },
    "kernelspec": {
      "name": "python3",
      "display_name": "Python 3"
    },
    "language_info": {
      "name": "python"
    }
  },
  "cells": [
    {
      "cell_type": "markdown",
      "metadata": {
        "id": "view-in-github",
        "colab_type": "text"
      },
      "source": [
        "<a href=\"https://colab.research.google.com/github/dbremont/Notas/blob/main/Libros/Ciencia/The_Theoretical_Minimum_What_You_Need_to_Know_to_Start_Doing_Physics.ipynb\" target=\"_parent\"><img src=\"https://colab.research.google.com/assets/colab-badge.svg\" alt=\"Open In Colab\"/></a>"
      ]
    },
    {
      "cell_type": "markdown",
      "metadata": {
        "id": "5Evg0SOGqKDY"
      },
      "source": [
        "## The Theoretical Minimum - What You Need to Know to Start Doing Physics"
      ]
    },
    {
      "cell_type": "markdown",
      "metadata": {
        "id": "kf41KCxWtkDF"
      },
      "source": [
        "# Lecture 1: The Nature of Classical Physics"
      ]
    },
    {
      "cell_type": "markdown",
      "metadata": {
        "id": "K5MXZRNmI-Xb"
      },
      "source": [
        "The term *classical physics* refers to physics before the advent of quantum mechanics. Clasical physics includes Newton's equations for motion of particles, the Maxwell-Faraday theory of electromagnetic fields, and Einstein's general theory of relativity.\n",
        "\n",
        "*Classical physics*: It's more than a set of theories, and phenomena; its a set of principles and rules- and underlying logic- that governs all phenomena for which quantum uncertainty is not important. \n",
        "\n",
        "..."
      ]
    },
    {
      "cell_type": "markdown",
      "metadata": {
        "id": "7BqtbiahtqND"
      },
      "source": [
        "# Interlude 1: Space, Trigonometry, and Vectors "
      ]
    },
    {
      "cell_type": "markdown",
      "metadata": {
        "id": "LrRxrOTMtwoi"
      },
      "source": [
        "## Lecture 3:  Dynamics"
      ]
    },
    {
      "cell_type": "markdown",
      "metadata": {
        "id": "Kgh4nCKNvQ5S"
      },
      "source": [
        "## Interlude: Partial Differentiation"
      ]
    },
    {
      "cell_type": "markdown",
      "metadata": {
        "id": "YazDaReRvT0H"
      },
      "source": [
        "## Lecture 4: Systems of More Than One Particle"
      ]
    },
    {
      "cell_type": "markdown",
      "metadata": {
        "id": "RzGmbZ6nvY1R"
      },
      "source": [
        "## Lecture 5: Energy"
      ]
    },
    {
      "cell_type": "markdown",
      "metadata": {
        "id": "CyygBTPXvbx6"
      },
      "source": [
        "## Lecture 6: The Principle  of Least Action"
      ]
    },
    {
      "cell_type": "markdown",
      "metadata": {
        "id": "UHlvDbOwvhy9"
      },
      "source": [
        "# Lecture 8: Hamiltonian Mechanics and Time-Translation Invariance"
      ]
    },
    {
      "cell_type": "markdown",
      "metadata": {
        "id": "KQ7Upq65vnKl"
      },
      "source": [
        "## Lecture 9: The Phase Space Fluid and the Gibbs-Liouville Theorem"
      ]
    },
    {
      "cell_type": "markdown",
      "metadata": {
        "id": "O_dCxW1EvwjS"
      },
      "source": [
        "## Lecture 10: Poisson Brakets, Angular Momentum, and Symmetries"
      ]
    },
    {
      "cell_type": "markdown",
      "metadata": {
        "id": "QMyCks3Av4YC"
      },
      "source": [
        "## Lecture 11: Electric and Magnetic Forces"
      ]
    },
    {
      "cell_type": "markdown",
      "metadata": {
        "id": "Uy-Ca587v9hG"
      },
      "source": [
        "## Central Forces and Planetary Orbits"
      ]
    }
  ]
}