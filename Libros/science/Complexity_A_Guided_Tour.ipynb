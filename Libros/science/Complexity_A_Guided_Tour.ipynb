{
  "nbformat": 4,
  "nbformat_minor": 0,
  "metadata": {
    "colab": {
      "name": "Complexity A Guided Tour.ipynb",
      "provenance": [],
      "toc_visible": true,
      "authorship_tag": "ABX9TyPzVYoBZZBlK6stPPrtbFq4",
      "include_colab_link": true
    },
    "kernelspec": {
      "name": "python3",
      "display_name": "Python 3"
    },
    "language_info": {
      "name": "python"
    }
  },
  "cells": [
    {
      "cell_type": "markdown",
      "metadata": {
        "id": "view-in-github",
        "colab_type": "text"
      },
      "source": [
        "<a href=\"https://colab.research.google.com/github/dbremont/Notas/blob/main/Libros/Ciencia/Complexity_A_Guided_Tour.ipynb\" target=\"_parent\"><img src=\"https://colab.research.google.com/assets/colab-badge.svg\" alt=\"Open In Colab\"/></a>"
      ]
    },
    {
      "cell_type": "markdown",
      "source": [
        "# Background and History"
      ],
      "metadata": {
        "id": "A3trpd8gDelt"
      }
    },
    {
      "cell_type": "markdown",
      "source": [
        "## What Is Complexity?"
      ],
      "metadata": {
        "id": "WPGii3RJDhcd"
      }
    },
    {
      "cell_type": "markdown",
      "source": [
        "## Dynamics, Chaos, and Prediction"
      ],
      "metadata": {
        "id": "no2DwQoUDk9L"
      }
    },
    {
      "cell_type": "markdown",
      "source": [
        "## Information"
      ],
      "metadata": {
        "id": "-tStZX2mDooM"
      }
    },
    {
      "cell_type": "markdown",
      "source": [
        "## Computation"
      ],
      "metadata": {
        "id": "le1Ik5Z1DrBq"
      }
    },
    {
      "cell_type": "markdown",
      "source": [
        "## Evolution"
      ],
      "metadata": {
        "id": "0y8Puv-IDshe"
      }
    },
    {
      "cell_type": "markdown",
      "source": [
        "## Genetics, Simplified"
      ],
      "metadata": {
        "id": "evF5bQBvDuF3"
      }
    },
    {
      "cell_type": "markdown",
      "source": [
        "## Defining and Measuring Complexity"
      ],
      "metadata": {
        "id": "GSSwaWiFDySc"
      }
    },
    {
      "cell_type": "markdown",
      "source": [
        "# Life and Evolution in Computers"
      ],
      "metadata": {
        "id": "jdRpxWpwD1fi"
      }
    },
    {
      "cell_type": "markdown",
      "source": [
        "## Self-Reproducing Computer Programs"
      ],
      "metadata": {
        "id": "rIFBjzYmD_hj"
      }
    },
    {
      "cell_type": "markdown",
      "source": [
        "## Genetic Algorithms"
      ],
      "metadata": {
        "id": "zfQr-45kED6y"
      }
    },
    {
      "cell_type": "markdown",
      "source": [
        "# Computer Writ Large"
      ],
      "metadata": {
        "id": "GbGuZVF_EHgp"
      }
    },
    {
      "cell_type": "markdown",
      "source": [
        "## Cellular Automata, Life, and the Universe"
      ],
      "metadata": {
        "id": "g4a7CX5_EL6D"
      }
    },
    {
      "cell_type": "markdown",
      "source": [
        "## Computing with Particles"
      ],
      "metadata": {
        "id": "73wcMkusESdh"
      }
    },
    {
      "cell_type": "markdown",
      "source": [
        "## Information Processing in Living Systems"
      ],
      "metadata": {
        "id": "I3NuK3jOEVVb"
      }
    },
    {
      "cell_type": "markdown",
      "source": [
        "## How to Make Analogies (if You Are a Computer)"
      ],
      "metadata": {
        "id": "XqdMxitjEbnW"
      }
    },
    {
      "cell_type": "markdown",
      "source": [
        "## Prospects of Computer Modeling"
      ],
      "metadata": {
        "id": "STVLBSAmEjbV"
      }
    },
    {
      "cell_type": "markdown",
      "source": [
        "# Network Thinking"
      ],
      "metadata": {
        "id": "u_0BEl5hEpAe"
      }
    },
    {
      "cell_type": "markdown",
      "source": [
        "## The Science of Networks"
      ],
      "metadata": {
        "id": "vrvcMXUEEscC"
      }
    },
    {
      "cell_type": "markdown",
      "source": [
        "## Applying Network Science to Real-World Networks"
      ],
      "metadata": {
        "id": "8NZXFlMpEu-8"
      }
    },
    {
      "cell_type": "markdown",
      "source": [
        "## The Mystery of Scaling"
      ],
      "metadata": {
        "id": "6pM1rXzLE0rF"
      }
    },
    {
      "cell_type": "markdown",
      "source": [
        "## Evolution, Complixified"
      ],
      "metadata": {
        "id": "FxaNT83cE6BR"
      }
    },
    {
      "cell_type": "markdown",
      "source": [
        "# Conclusion"
      ],
      "metadata": {
        "id": "CE9MFsSZE-pm"
      }
    },
    {
      "cell_type": "markdown",
      "source": [
        "## The Past and Future and the Sciences of Complexity"
      ],
      "metadata": {
        "id": "jMCvhizNE_yT"
      }
    }
  ]
}