{
  "nbformat": 4,
  "nbformat_minor": 0,
  "metadata": {
    "colab": {
      "name": "The End of Certainty.ipynb",
      "provenance": [],
      "authorship_tag": "ABX9TyPTWa9AryIFEsMOt7k3VArJ",
      "include_colab_link": true
    },
    "kernelspec": {
      "name": "python3",
      "display_name": "Python 3"
    },
    "language_info": {
      "name": "python"
    }
  },
  "cells": [
    {
      "cell_type": "markdown",
      "metadata": {
        "id": "view-in-github",
        "colab_type": "text"
      },
      "source": [
        "<a href=\"https://colab.research.google.com/github/dbremont/Notas/blob/main/Libros/Ciencia/The_End_of_Certainty.ipynb\" target=\"_parent\"><img src=\"https://colab.research.google.com/assets/colab-badge.svg\" alt=\"Open In Colab\"/></a>"
      ]
    },
    {
      "cell_type": "markdown",
      "source": [
        "##  Epicurus's Dilemma"
      ],
      "metadata": {
        "id": "Vnp_8Uk2jWB2"
      }
    },
    {
      "cell_type": "markdown",
      "source": [
        "## Only an Illusion?"
      ],
      "metadata": {
        "id": "KpcazgzNjZNt"
      }
    },
    {
      "cell_type": "markdown",
      "source": [
        "## From Probability to Irreversibility"
      ],
      "metadata": {
        "id": "xUAUQstdjdJC"
      }
    },
    {
      "cell_type": "markdown",
      "source": [
        "## The Laws of Chaos"
      ],
      "metadata": {
        "id": "_JXFQu_wjgQv"
      }
    },
    {
      "cell_type": "markdown",
      "source": [
        "## Beyond Newton's Laws"
      ],
      "metadata": {
        "id": "OccKH7D6jihY"
      }
    },
    {
      "cell_type": "markdown",
      "source": [
        "## A Unified Formulation of Quantum Theory"
      ],
      "metadata": {
        "id": "ysu5B5jSjm9H"
      }
    },
    {
      "cell_type": "markdown",
      "source": [
        "## Our Dialogue with Nature"
      ],
      "metadata": {
        "id": "Ny45G6zKjtrB"
      }
    },
    {
      "cell_type": "markdown",
      "source": [
        "## Does Time Precede Existence?"
      ],
      "metadata": {
        "id": "OPEy8l6sjw7h"
      }
    },
    {
      "cell_type": "markdown",
      "source": [
        "## A Narrow Path"
      ],
      "metadata": {
        "id": "qLNtWtd5jztP"
      }
    }
  ]
}