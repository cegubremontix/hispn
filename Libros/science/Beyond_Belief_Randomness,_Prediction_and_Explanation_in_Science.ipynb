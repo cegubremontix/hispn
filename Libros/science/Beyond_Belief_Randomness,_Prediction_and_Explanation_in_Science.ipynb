{
  "nbformat": 4,
  "nbformat_minor": 0,
  "metadata": {
    "colab": {
      "name": "Beyond Belief : Randomness, Prediction and Explanation in Science.ipynb",
      "provenance": [],
      "authorship_tag": "ABX9TyMWvO2TfwoLiPXGQtXiqDSY",
      "include_colab_link": true
    },
    "kernelspec": {
      "name": "python3",
      "display_name": "Python 3"
    },
    "language_info": {
      "name": "python"
    }
  },
  "cells": [
    {
      "cell_type": "markdown",
      "metadata": {
        "id": "view-in-github",
        "colab_type": "text"
      },
      "source": [
        "<a href=\"https://colab.research.google.com/github/dbremont/Notas/blob/main/Libros/Ciencia/Beyond_Belief_Randomness%2C_Prediction_and_Explanation_in_Science.ipynb\" target=\"_parent\"><img src=\"https://colab.research.google.com/assets/colab-badge.svg\" alt=\"Open In Colab\"/></a>"
      ]
    },
    {
      "cell_type": "markdown",
      "source": [
        "## Introduction"
      ],
      "metadata": {
        "id": "lP1f4LF-zzNa"
      }
    },
    {
      "cell_type": "markdown",
      "source": [
        "## What can we know?"
      ],
      "metadata": {
        "id": "V_zLZvgfz1Fe"
      }
    },
    {
      "cell_type": "markdown",
      "source": [
        "## The anthropic cosmological principle: philosophical impolication of self-reference\n",
        "\n"
      ],
      "metadata": {
        "id": "tS-hFKoZz3JZ"
      }
    },
    {
      "cell_type": "markdown",
      "source": [
        "## Problems of Explanation in Physics"
      ],
      "metadata": {
        "id": "Q5aEdF2qz-a_"
      }
    },
    {
      "cell_type": "markdown",
      "source": [
        "## Boscovish Covariance"
      ],
      "metadata": {
        "id": "d-kYESN21Jdx"
      }
    },
    {
      "cell_type": "markdown",
      "source": [
        "## Entropy and correlations in discrete dynamical systems"
      ],
      "metadata": {
        "id": "KH-p0hlu1N31"
      }
    },
    {
      "cell_type": "markdown",
      "source": [
        "## Dimensions of atmospheric variability"
      ],
      "metadata": {
        "id": "83bkjnn21Soz"
      }
    },
    {
      "cell_type": "markdown",
      "source": [
        "## Sir Isaac Newton and the evolution of clutch size in birds: a defense of the hypothetico-deductive method in ecology and evolutionary  biology"
      ],
      "metadata": {
        "id": "97wtg5uS1WX7"
      }
    },
    {
      "cell_type": "markdown",
      "source": [
        "## The generic properties of morphogenetic fields"
      ],
      "metadata": {
        "id": "9_vlht3L1hKu"
      }
    },
    {
      "cell_type": "markdown",
      "source": [
        "## Copign with complexity: deterministic chaos in human decisionmaking behavior"
      ],
      "metadata": {
        "id": "_Yp7UWOU1mXr"
      }
    },
    {
      "cell_type": "markdown",
      "source": [
        "## Causality, chaos, explanation, and prediction in economics and finance"
      ],
      "metadata": {
        "id": "WSBNNzaP1ruz"
      }
    },
    {
      "cell_type": "markdown",
      "source": [
        "## Chaos, godel, and truth"
      ],
      "metadata": {
        "id": "bqOSl8fU1yec"
      }
    }
  ]
}