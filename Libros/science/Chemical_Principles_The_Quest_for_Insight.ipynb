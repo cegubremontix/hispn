{
  "nbformat": 4,
  "nbformat_minor": 0,
  "metadata": {
    "kernelspec": {
      "display_name": "Python 2.7.18 64-bit",
      "name": "python2718jvsc74a57bd0f92b2924b84ff19c1c3dc485f7644d4486f64738191026bf8e6de303969141b5"
    },
    "language_info": {
      "name": "python",
      "version": ""
    },
    "metadata": {
      "interpreter": {
        "hash": "f92b2924b84ff19c1c3dc485f7644d4486f64738191026bf8e6de303969141b5"
      }
    },
    "orig_nbformat": 2,
    "colab": {
      "name": "Chemical Principles The Quest for Insight.ipynb",
      "provenance": [],
      "include_colab_link": true
    }
  },
  "cells": [
    {
      "cell_type": "markdown",
      "metadata": {
        "id": "view-in-github",
        "colab_type": "text"
      },
      "source": [
        "<a href=\"https://colab.research.google.com/github/dbremont/Notas/blob/main/Libros/Ciencia/Chemical_Principles_The_Quest_for_Insight.ipynb\" target=\"_parent\"><img src=\"https://colab.research.google.com/assets/colab-badge.svg\" alt=\"Open In Colab\"/></a>"
      ]
    },
    {
      "cell_type": "markdown",
      "metadata": {
        "id": "rn9MuwMGurSL"
      },
      "source": [
        "## Fundamentals"
      ]
    },
    {
      "cell_type": "markdown",
      "metadata": {
        "id": "MBHAQsfLuxkm"
      },
      "source": [
        "## The Atoms: The Quantum World"
      ]
    },
    {
      "cell_type": "markdown",
      "metadata": {
        "id": "LA8rOOcbvLvr"
      },
      "source": [
        "## Chemical Bonds"
      ]
    },
    {
      "cell_type": "markdown",
      "metadata": {
        "id": "jg9NTmYsvNRq"
      },
      "source": [
        "# Major Technique 1: Infrared Spetroscopy"
      ]
    },
    {
      "cell_type": "markdown",
      "metadata": {
        "id": "JnF3qFW9vSUc"
      },
      "source": [
        "## Molecular Shape and Structure"
      ]
    },
    {
      "cell_type": "markdown",
      "metadata": {
        "id": "C66ZB25vvjGs"
      },
      "source": [
        "# Major Technique 2: Ultraviolent and Visible Spectroscopy"
      ]
    },
    {
      "cell_type": "markdown",
      "metadata": {
        "id": "BI06Wdppvqpu"
      },
      "source": [
        "## The Properties of Gases"
      ]
    },
    {
      "cell_type": "markdown",
      "metadata": {
        "id": "varmToLlvuHD"
      },
      "source": [
        "## Liquist and Solids"
      ]
    },
    {
      "cell_type": "markdown",
      "metadata": {
        "id": "7kTpSqH7vWoc"
      },
      "source": [
        "# Major Technique 3: X-Ray Diffraction"
      ]
    },
    {
      "cell_type": "markdown",
      "metadata": {
        "id": "YSUxwVdNveKr"
      },
      "source": [
        "## Thermodynamics: The First Law"
      ]
    },
    {
      "cell_type": "markdown",
      "metadata": {
        "id": "j3g5sEM-v1_v"
      },
      "source": [
        "## Thermodynamics: The Second and Third Laws"
      ]
    },
    {
      "cell_type": "markdown",
      "metadata": {
        "id": "i6Qxhb9hv6lN"
      },
      "source": [
        "## Physical Equilibria"
      ]
    },
    {
      "cell_type": "markdown",
      "metadata": {
        "id": "P4KGSXIPv97o"
      },
      "source": [
        "# Major Technique 4: Chromatography"
      ]
    },
    {
      "cell_type": "markdown",
      "metadata": {
        "id": "jjJ79hr6wB-s"
      },
      "source": [
        "## Chemical Equilibria"
      ]
    },
    {
      "cell_type": "markdown",
      "metadata": {
        "id": "1Izak-EGwEZI"
      },
      "source": [
        "## Acids and Bases"
      ]
    },
    {
      "cell_type": "markdown",
      "metadata": {
        "id": "m_dDd8nkwHpG"
      },
      "source": [
        "## Aqueous Equilibria"
      ]
    },
    {
      "cell_type": "markdown",
      "metadata": {
        "id": "1FvamKu_wMcw"
      },
      "source": [
        "## Electrochemistry"
      ]
    },
    {
      "cell_type": "markdown",
      "metadata": {
        "id": "MhCzi183wPlS"
      },
      "source": [
        "## Chemical Kinetics"
      ]
    },
    {
      "cell_type": "markdown",
      "metadata": {
        "id": "V_0anSyFwUp7"
      },
      "source": [
        "# Major Technique 5: Computation"
      ]
    },
    {
      "cell_type": "markdown",
      "metadata": {
        "id": "gnfp_4lswYVw"
      },
      "source": [
        "## The Elements: The First four main  groups"
      ]
    },
    {
      "cell_type": "markdown",
      "metadata": {
        "id": "l4jtF4kzwg60"
      },
      "source": [
        "## The Elements: The Last Four Main Groups"
      ]
    },
    {
      "cell_type": "markdown",
      "metadata": {
        "id": "_oKfjdJawsoP"
      },
      "source": [
        "## The Elements: The $d$ Block"
      ]
    },
    {
      "cell_type": "markdown",
      "metadata": {
        "id": "LPlslrXswzFp"
      },
      "source": [
        "## Nuclear Chemistry"
      ]
    },
    {
      "cell_type": "markdown",
      "metadata": {
        "id": "FomkhOsNw1E4"
      },
      "source": [
        "## Organic Chemistry 1: The Hydrocarbons"
      ]
    },
    {
      "cell_type": "markdown",
      "metadata": {
        "id": "RstcmD7OxAwZ"
      },
      "source": [
        "## Major Technique 6: Mass Spectrometry"
      ]
    },
    {
      "cell_type": "markdown",
      "metadata": {
        "id": "fej7SdpKxFlD"
      },
      "source": [
        "## Organic Chemestry II: Polymers and Biological Compounds"
      ]
    },
    {
      "cell_type": "markdown",
      "metadata": {
        "id": "mrXPcs-UxS6B"
      },
      "source": [
        "# Major Tecnique: Nuclear Magnetic Resonance"
      ]
    }
  ]
}