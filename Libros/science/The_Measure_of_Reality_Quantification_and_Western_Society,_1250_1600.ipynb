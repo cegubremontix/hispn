{
  "nbformat": 4,
  "nbformat_minor": 0,
  "metadata": {
    "colab": {
      "name": "The Measure of Reality: Quantification and Western Society, 1250-1600.ipynb",
      "provenance": [],
      "authorship_tag": "ABX9TyNYhDydQQEdfxNhcytTdm6S",
      "include_colab_link": true
    },
    "kernelspec": {
      "name": "python3",
      "display_name": "Python 3"
    },
    "language_info": {
      "name": "python"
    }
  },
  "cells": [
    {
      "cell_type": "markdown",
      "metadata": {
        "id": "view-in-github",
        "colab_type": "text"
      },
      "source": [
        "<a href=\"https://colab.research.google.com/github/dbremont/Notas/blob/main/Libros/Ciencia/The_Measure_of_Reality_Quantification_and_Western_Society%2C_1250_1600.ipynb\" target=\"_parent\"><img src=\"https://colab.research.google.com/assets/colab-badge.svg\" alt=\"Open In Colab\"/></a>"
      ]
    },
    {
      "cell_type": "markdown",
      "source": [
        "Western Europeans were among the first, if not the first, to invent mechanical clocks, geometrically presice maps, double entry-bookkeeping, exact algebraic and musical notations, and perspective paiting. By the sixteenth century more people were thinking quantitatively in Western Europe than in any other part of the world. They became the world leaders in science, technology, armaments, navigation, business pratice, and bureaucracy, and created many of the greatest masterpieces of Western music and painting.\n",
        "\n",
        "The **Measure of Reality** discusses the epochal sift from qualitative to quantitative thinking perception in Western Europe during the late Middle Ages and Renaissance. The shift made modern science, technology, business practice, and bureacracy possible. If affected not only the obvious - such as measurements of time and space and mathematical technique- but, equally and simultaneously, music and painting, thus proving that the shift was even more profound than once though."
      ],
      "metadata": {
        "id": "ckiOON0D2NI-"
      }
    },
    {
      "cell_type": "markdown",
      "source": [
        "# Pantometry Achieved"
      ],
      "metadata": {
        "id": "Qe6TCySM3ls4"
      }
    },
    {
      "cell_type": "markdown",
      "source": [
        "## Pantometry: An Introduction"
      ],
      "metadata": {
        "id": "0byFhi9F5yVi"
      }
    },
    {
      "cell_type": "markdown",
      "source": [
        "## The Venerable Model"
      ],
      "metadata": {
        "id": "ksFMZ8vN51OX"
      }
    },
    {
      "cell_type": "markdown",
      "source": [
        "## Time"
      ],
      "metadata": {
        "id": "Rk9bAWwP520d"
      }
    },
    {
      "cell_type": "markdown",
      "source": [
        "## Space"
      ],
      "metadata": {
        "id": "Puhe8dMM54lQ"
      }
    },
    {
      "cell_type": "markdown",
      "source": [
        "## Mathematics"
      ],
      "metadata": {
        "id": "yFBoDRdf56BV"
      }
    },
    {
      "cell_type": "markdown",
      "source": [
        "# Striking the Match: Visualization"
      ],
      "metadata": {
        "id": "I__cUeqm57y8"
      }
    },
    {
      "cell_type": "markdown",
      "source": [
        "## Visualization: An Introduction"
      ],
      "metadata": {
        "id": "Fz9UZixV5_6Z"
      }
    },
    {
      "cell_type": "markdown",
      "source": [
        "## Music"
      ],
      "metadata": {
        "id": "SB2uxXhU6DDu"
      }
    },
    {
      "cell_type": "markdown",
      "source": [
        "## Painting"
      ],
      "metadata": {
        "id": "vS8JYAd-6Et8"
      }
    },
    {
      "cell_type": "markdown",
      "source": [
        "## Bokkeeping"
      ],
      "metadata": {
        "id": "qQ_igonC6F7f"
      }
    },
    {
      "cell_type": "markdown",
      "source": [
        "# Epilogue"
      ],
      "metadata": {
        "id": "cc9wKYNk6H6_"
      }
    },
    {
      "cell_type": "markdown",
      "source": [
        "## The New Model"
      ],
      "metadata": {
        "id": "xsAlnrMh6J8h"
      }
    }
  ]
}