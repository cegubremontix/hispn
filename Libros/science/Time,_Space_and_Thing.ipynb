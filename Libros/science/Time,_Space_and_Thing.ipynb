{
  "nbformat": 4,
  "nbformat_minor": 0,
  "metadata": {
    "colab": {
      "name": "Time, Space and Thing.ipynb",
      "provenance": [],
      "authorship_tag": "ABX9TyOMmZhXjtxDzPUf1zmKdKk/",
      "include_colab_link": true
    },
    "kernelspec": {
      "name": "python3",
      "display_name": "Python 3"
    },
    "language_info": {
      "name": "python"
    }
  },
  "cells": [
    {
      "cell_type": "markdown",
      "metadata": {
        "id": "view-in-github",
        "colab_type": "text"
      },
      "source": [
        "<a href=\"https://colab.research.google.com/github/dbremont/Notas/blob/main/Libros/Ciencia/Time%2C_Space_and_Thing.ipynb\" target=\"_parent\"><img src=\"https://colab.research.google.com/assets/colab-badge.svg\" alt=\"Open In Colab\"/></a>"
      ]
    },
    {
      "cell_type": "markdown",
      "source": [
        "## Things"
      ],
      "metadata": {
        "id": "R5uoPSRMQMr1"
      }
    },
    {
      "cell_type": "markdown",
      "source": [
        "## Stranger Things"
      ],
      "metadata": {
        "id": "ep1X-7dxcKx9"
      }
    },
    {
      "cell_type": "markdown",
      "source": [
        "## Space"
      ],
      "metadata": {
        "id": "Chd8T76acO1B"
      }
    },
    {
      "cell_type": "markdown",
      "source": [
        "## Time"
      ],
      "metadata": {
        "id": "8wjbLnDecQqn"
      }
    },
    {
      "cell_type": "markdown",
      "source": [
        "## Motion"
      ],
      "metadata": {
        "id": "3BhzK7B1cSpv"
      }
    },
    {
      "cell_type": "markdown",
      "source": [
        "## Energy"
      ],
      "metadata": {
        "id": "1mBzA9fhcT67"
      }
    },
    {
      "cell_type": "markdown",
      "source": [
        "## Freedom"
      ],
      "metadata": {
        "id": "UzWqv8QzcW5a"
      }
    },
    {
      "cell_type": "markdown",
      "source": [
        "## Mass"
      ],
      "metadata": {
        "id": "R_d7ACmdcZaz"
      }
    },
    {
      "cell_type": "markdown",
      "source": [
        "## Change"
      ],
      "metadata": {
        "id": "2QKTV5Sodx8Z"
      }
    },
    {
      "cell_type": "markdown",
      "source": [
        "## Boojums"
      ],
      "metadata": {
        "id": "K79GfNbOeGek"
      }
    },
    {
      "cell_type": "markdown",
      "source": [
        "## Mystery"
      ],
      "metadata": {
        "id": "MsL3qR_YeIfN"
      }
    },
    {
      "cell_type": "markdown",
      "source": [
        ""
      ],
      "metadata": {
        "id": "sLWOWUtMiX3J"
      }
    }
  ]
}