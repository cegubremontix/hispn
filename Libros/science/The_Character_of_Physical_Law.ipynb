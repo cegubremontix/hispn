{
  "nbformat": 4,
  "nbformat_minor": 0,
  "metadata": {
    "colab": {
      "name": "The Character of Physical Law.ipynb",
      "provenance": [],
      "authorship_tag": "ABX9TyNPrMACJxS1inCNxZ5hQM0V",
      "include_colab_link": true
    },
    "kernelspec": {
      "name": "python3",
      "display_name": "Python 3"
    },
    "language_info": {
      "name": "python"
    }
  },
  "cells": [
    {
      "cell_type": "markdown",
      "metadata": {
        "id": "view-in-github",
        "colab_type": "text"
      },
      "source": [
        "<a href=\"https://colab.research.google.com/github/dbremont/Notas/blob/main/Libros/Ciencia/The_Character_of_Physical_Law.ipynb\" target=\"_parent\"><img src=\"https://colab.research.google.com/assets/colab-badge.svg\" alt=\"Open In Colab\"/></a>"
      ]
    },
    {
      "cell_type": "markdown",
      "source": [
        "## The Law of Gravitation, an example of Physical Law"
      ],
      "metadata": {
        "id": "3sFX8gSe6n6f"
      }
    },
    {
      "cell_type": "markdown",
      "source": [
        "## The Relation of Mathematics to Physics"
      ],
      "metadata": {
        "id": "SmBOz9uM6zZD"
      }
    },
    {
      "cell_type": "markdown",
      "source": [
        "## The Great Conservation Principles"
      ],
      "metadata": {
        "id": "Ht4kQbsC63SL"
      }
    },
    {
      "cell_type": "markdown",
      "source": [
        "## Symmetry in Physical Law"
      ],
      "metadata": {
        "id": "F_Ic68iK68rJ"
      }
    },
    {
      "cell_type": "markdown",
      "source": [
        "## The Distinction of Past and Future"
      ],
      "metadata": {
        "id": "q2aS6tyY7AP_"
      }
    },
    {
      "cell_type": "markdown",
      "source": [
        "## Probability and Uncertainty - the Quantum Mechanical view of Nature"
      ],
      "metadata": {
        "id": "b0xJ9RS77D-m"
      }
    },
    {
      "cell_type": "markdown",
      "source": [
        "## Seeking New Laws"
      ],
      "metadata": {
        "id": "MA1FuO9Y7Gf-"
      }
    }
  ]
}