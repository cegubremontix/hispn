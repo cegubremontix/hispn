{
  "nbformat": 4,
  "nbformat_minor": 0,
  "metadata": {
    "colab": {
      "name": "Vibrations and Waves in Physics.ipynb",
      "provenance": [],
      "authorship_tag": "ABX9TyOGvaeRKL737ipewwFu0u2B",
      "include_colab_link": true
    },
    "kernelspec": {
      "name": "python3",
      "display_name": "Python 3"
    },
    "language_info": {
      "name": "python"
    }
  },
  "cells": [
    {
      "cell_type": "markdown",
      "metadata": {
        "id": "view-in-github",
        "colab_type": "text"
      },
      "source": [
        "<a href=\"https://colab.research.google.com/github/dbremont/Notas/blob/main/Libros/Ciencia/Vibrations_and_Waves_in_Physics.ipynb\" target=\"_parent\"><img src=\"https://colab.research.google.com/assets/colab-badge.svg\" alt=\"Open In Colab\"/></a>"
      ]
    },
    {
      "cell_type": "markdown",
      "metadata": {
        "id": "C2iE7NtpIITO"
      },
      "source": [
        "Vibrations and Waves in Physics"
      ]
    },
    {
      "cell_type": "markdown",
      "metadata": {
        "id": "6vhmXKghIJNl"
      },
      "source": [
        "## Free vibrations"
      ]
    },
    {
      "cell_type": "markdown",
      "metadata": {
        "id": "cbd2vb4tIM_V"
      },
      "source": [
        "## Free vibrations in physics"
      ]
    },
    {
      "cell_type": "markdown",
      "metadata": {
        "id": "KOMy0oSKIQHL"
      },
      "source": [
        "## Damping"
      ]
    },
    {
      "cell_type": "markdown",
      "metadata": {
        "id": "C8uiea5NIRQx"
      },
      "source": [
        "## Damping in physics"
      ]
    },
    {
      "cell_type": "markdown",
      "metadata": {
        "id": "VObEUzHGIUQP"
      },
      "source": [
        "## Forced vibrations"
      ]
    },
    {
      "cell_type": "markdown",
      "metadata": {
        "id": "3D-3UhgXIW3R"
      },
      "source": [
        "## Forced vibrations in physics"
      ]
    },
    {
      "cell_type": "markdown",
      "metadata": {
        "id": "DM22rN65IafR"
      },
      "source": [
        "## Two-coordinte vibrations"
      ]
    },
    {
      "cell_type": "markdown",
      "metadata": {
        "id": "QaV2d6wsIfBC"
      },
      "source": [
        "## Non-dispersive waves"
      ]
    },
    {
      "cell_type": "markdown",
      "metadata": {
        "id": "jzRmOHacIh65"
      },
      "source": [
        "## Non-dispersive waves in physics"
      ]
    },
    {
      "cell_type": "markdown",
      "metadata": {
        "id": "ZFXw9p8GIljb"
      },
      "source": [
        "## Fourier theory"
      ]
    },
    {
      "cell_type": "markdown",
      "metadata": {
        "id": "M4pbkpj4IpGm"
      },
      "source": [
        "## Dispersion"
      ]
    },
    {
      "cell_type": "markdown",
      "metadata": {
        "id": "AU0K-ftxI582"
      },
      "source": [
        "## Water waves"
      ]
    },
    {
      "cell_type": "markdown",
      "metadata": {
        "id": "zxeh29IjI7_8"
      },
      "source": [
        "## Electromagnetic waves"
      ]
    },
    {
      "cell_type": "markdown",
      "metadata": {
        "id": "iDEqxiw0I-3I"
      },
      "source": [
        "## De Broglie waves"
      ]
    },
    {
      "cell_type": "markdown",
      "metadata": {
        "id": "asvY3Mn2JTME"
      },
      "source": [
        "## Plane waves at boundaries"
      ]
    },
    {
      "cell_type": "markdown",
      "metadata": {
        "id": "QV62rWkmJWWK"
      },
      "source": [
        "## Diffraction"
      ]
    }
  ]
}