{
  "nbformat": 4,
  "nbformat_minor": 0,
  "metadata": {
    "colab": {
      "name": "The force of symmetry.ipynb",
      "provenance": [],
      "authorship_tag": "ABX9TyPan42D61V3OihBr+UiWkZH",
      "include_colab_link": true
    },
    "kernelspec": {
      "name": "python3",
      "display_name": "Python 3"
    },
    "language_info": {
      "name": "python"
    }
  },
  "cells": [
    {
      "cell_type": "markdown",
      "metadata": {
        "id": "view-in-github",
        "colab_type": "text"
      },
      "source": [
        "<a href=\"https://colab.research.google.com/github/dbremont/Notas/blob/main/Libros/Ciencia/The_force_of_symmetry.ipynb\" target=\"_parent\"><img src=\"https://colab.research.google.com/assets/colab-badge.svg\" alt=\"Open In Colab\"/></a>"
      ]
    },
    {
      "cell_type": "markdown",
      "metadata": {
        "id": "pAGHOrosTymC"
      },
      "source": [
        "# The force of symmetry"
      ]
    },
    {
      "cell_type": "markdown",
      "metadata": {
        "id": "cVDE4Lt_T2P_"
      },
      "source": [
        "## A matter of force"
      ]
    },
    {
      "cell_type": "markdown",
      "metadata": {
        "id": "6rf1Qi-MWAlS"
      },
      "source": [
        "## Stalking the wild rainbow"
      ]
    },
    {
      "cell_type": "markdown",
      "metadata": {
        "id": "AeNexI22WESj"
      },
      "source": [
        "## Light"
      ]
    },
    {
      "cell_type": "markdown",
      "metadata": {
        "id": "-unvloEGWF0e"
      },
      "source": [
        "## Maybe I'm Heisenberg"
      ]
    },
    {
      "cell_type": "markdown",
      "metadata": {
        "id": "UoVkmlkiWNAH"
      },
      "source": [
        "## Catch a falling quantum"
      ]
    },
    {
      "cell_type": "markdown",
      "metadata": {
        "id": "TOjlP-arWR8l"
      },
      "source": [
        "## Quantum beanbags"
      ]
    },
    {
      "cell_type": "markdown",
      "metadata": {
        "id": "VFGt5MUFZoBy"
      },
      "source": [
        "## Symmetries"
      ]
    },
    {
      "cell_type": "markdown",
      "metadata": {
        "id": "FOQSPdhQZqL7"
      },
      "source": [
        "## Quantum relativity: nothing is relative"
      ]
    },
    {
      "cell_type": "markdown",
      "metadata": {
        "id": "UysyDZx7aYkT"
      },
      "source": [
        "## Life, the Universe and everything"
      ]
    },
    {
      "cell_type": "markdown",
      "metadata": {
        "id": "doDqpzbaab0O"
      },
      "source": [
        "## The physics of tablecloth"
      ]
    },
    {
      "cell_type": "markdown",
      "metadata": {
        "id": "Gs21Q56EbxLf"
      },
      "source": [
        "## Colour me red, green and blue"
      ]
    },
    {
      "cell_type": "markdown",
      "metadata": {
        "id": "mLaZzgAibznw"
      },
      "source": [
        "## Smashing symmetry"
      ]
    },
    {
      "cell_type": "markdown",
      "metadata": {
        "id": "W7R4hmEIb4mL"
      },
      "source": [
        "## How much is infinity minus infinity?"
      ]
    },
    {
      "cell_type": "markdown",
      "metadata": {
        "id": "cvFvhJkbb9Nu"
      },
      "source": [
        "## Excelsior! The ascent to $\\text{SU}(\\infty)$"
      ]
    }
  ]
}