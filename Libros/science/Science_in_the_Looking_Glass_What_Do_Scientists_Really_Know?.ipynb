{
  "nbformat": 4,
  "nbformat_minor": 0,
  "metadata": {
    "colab": {
      "name": " Science in the Looking Glass: What Do Scientists Really Know?.ipynb",
      "provenance": [],
      "authorship_tag": "ABX9TyM+bGEy5s6Hxbf0m2WuwcQ4",
      "include_colab_link": true
    },
    "kernelspec": {
      "name": "python3",
      "display_name": "Python 3"
    },
    "language_info": {
      "name": "python"
    }
  },
  "cells": [
    {
      "cell_type": "markdown",
      "metadata": {
        "id": "view-in-github",
        "colab_type": "text"
      },
      "source": [
        "<a href=\"https://colab.research.google.com/github/dbremont/Notas/blob/main/Libros/Ciencia/Science_in_the_Looking_Glass_What_Do_Scientists_Really_Know%3F.ipynb\" target=\"_parent\"><img src=\"https://colab.research.google.com/assets/colab-badge.svg\" alt=\"Open In Colab\"/></a>"
      ]
    },
    {
      "cell_type": "markdown",
      "source": [
        "   "
      ],
      "metadata": {
        "id": "dhZaUA5e76o6"
      }
    }
  ]
}