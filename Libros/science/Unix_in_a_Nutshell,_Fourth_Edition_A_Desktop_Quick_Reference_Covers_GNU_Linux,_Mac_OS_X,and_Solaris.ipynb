{
  "nbformat": 4,
  "nbformat_minor": 0,
  "metadata": {
    "colab": {
      "name": "Unix in a Nutshell, Fourth Edition A Desktop Quick Reference - Covers GNU/Linux, Mac OS X,and Solaris.ipynb",
      "provenance": [],
      "toc_visible": true,
      "authorship_tag": "ABX9TyMVXvoqz15ygv7L/gTZ+a7z",
      "include_colab_link": true
    },
    "kernelspec": {
      "name": "python3",
      "display_name": "Python 3"
    },
    "language_info": {
      "name": "python"
    }
  },
  "cells": [
    {
      "cell_type": "markdown",
      "metadata": {
        "id": "view-in-github",
        "colab_type": "text"
      },
      "source": [
        "<a href=\"https://colab.research.google.com/github/dbremont/Notas/blob/main/Libros/science/Unix_in_a_Nutshell%2C_Fourth_Edition_A_Desktop_Quick_Reference_Covers_GNU_Linux%2C_Mac_OS_X%2Cand_Solaris.ipynb\" target=\"_parent\"><img src=\"https://colab.research.google.com/assets/colab-badge.svg\" alt=\"Open In Colab\"/></a>"
      ]
    },
    {
      "cell_type": "markdown",
      "source": [
        "Some quick commands\n",
        "\n",
        "- hexdump: Display specified file or input in hexadecimal, octal, decimal, or ASCII format. Option flags specify  the display format. Pag. 108 \n",
        "\n",
        "- groups: Show the groups that `user` belongs. Pag. 103\n",
        "\n",
        "- chgrp: Change group. Pag 34\n",
        "\n",
        "- chmod: Change access modes on files. Pag 35\n",
        "\n",
        "- chown: Change file owner. Pag 36\n",
        "\n",
        "- cksum: Print a file checksum, POSIX standard algorithm. Pag. 38\n",
        "\n",
        "- head:  Show the first few lines of a file. Pag. 107\n",
        "\n",
        "- ln: Creates filename aliases.\n",
        "\n",
        "- locate: Find a file on the system based on its name. The program uses a database of files that is usually automatically rebuilt, nighly. Pag. 122\n",
        "\n",
        "- md5sum: Print a file checksum using the Message Digest 5 (MD5) algorithm. Pag. 282\n",
        "\n",
        "- tail: Show the last few lines of a file. Pag. 203\n",
        "\n",
        "- calendar: Check remainders. Pag. 30\n",
        "\n",
        "- cal: Display calendar. Pag. 30\n",
        "\n",
        "- strings: Display text strins found in binary files. Pag. 195\n",
        "\n",
        "- basename: Print the last component of a pathname, optionally removing a suffix. Pag. 24\n",
        "\n",
        "- dirname: Print all but the last component of a pathname. Pag. 66\n",
        "\n",
        "- test: Test a condition. Pag. 216\n",
        "\n",
        "- printf: Format and print  command-line argument.\n",
        "\n",
        "- crontab: Automate commands. Pag. 46\n",
        "\n",
        "- du: Show disk usage. Pag. 66\n",
        "\n",
        "- env: Show environment variables. Pag.  75 \n",
        "\n",
        "- ps: Set or display terminal settings.\n",
        "\n",
        "- find: Search the system for filesnames matching patterns or attributes. Pag. 84\n",
        "\n",
        "- grep: Search files for text patterns. Pag. 103\n",
        "\n",
        "- awk: A pattern-matching programming language for working with text lines. Pag 16\n",
        "\n",
        "- cut: Select columns to display. Pag. 50\n",
        "\n",
        "- iconv: General-purpose character-encoding conversion tool. Pag. 109\n",
        "\n",
        "- join: Merge different columns into a database.\n",
        "\n",
        "- paste: Merge columns or swtich order.\n",
        "\n",
        "- sed: Noninteractive text editor. Pag. 183\n",
        "\n",
        "- sort: Sort or merge files. Pag. 186\n",
        "\n",
        "- tr: Translate (redefine) character. Pag. 217\n",
        "\n",
        "- uniq: Find repeated or unique liens in a file. Pag. 22\n",
        "\n",
        "- xargs: Process many arguments in a manageable portions. Pag. 233\n",
        "\n",
        "- ar: Create, modify, and extract from archives (.a, .so, .o). Pag. 16\n",
        "\n",
        "- date: Set or display the system date. Pag. 51\n",
        "\n",
        "- dig: DNS Lookup utility. Pag. 64\n",
        "\n",
        "- file: Determine file type. Pag. 83\n",
        "\n",
        "- getconf: Determine systems limits. Pag. 99\n",
        "\n",
        "- gcore: Create a core image of each ruing process specified. Also known as \"core dump\". Pag. 98\n",
        "\n",
        "- gprof: Display a call-graph profile data of c programs. Pag. 100\n",
        "\n",
        "- hostname: Set or print the current host system. A priviledge user can set the hostname with nameofhost argument. Pag. 109\n",
        "\n",
        "- id: Display information about yourself or another user. Pag. 110\n",
        "\n",
        "- ld: Combine object files, i nthe specified order, into a single executable module. Pag. 114\n",
        "\n",
        "- lld: List dynamic dependencies.  Pag. 115\n",
        "\n",
        "- mktemp: Generate a unique temporary filename for use in a script. Pag. 149\n",
        "\n",
        "- nl: Number the lines of file in logical page segments. Numbering resets to ! at the start of each logical page. Pag. 154\n",
        "\n",
        "- nohup: Continue to execute the name `command` and optional command arguments after you log out (make commnand inmune to hangups); Pag. 158\n",
        "\n",
        "- patch: Apply the patches specified in `patchfile` to `original`. Pag. 163\n",
        "\n",
        "- script: Create a record of you login session, storing in a file everything that displays on your screen.  Pag. 181\n",
        "\n",
        "- ssh: Securetlyu log a user a remote system and run commands on that system. Pag. 190\n",
        "\n",
        "- ssh-add: Add RSA or DSA identities to the authentication agent. Pag. 193\n",
        "\n",
        "- ssh-agent: Hold private key used for public key authentication. Pag. 193\n",
        "\n",
        "- ssh-keygen: Generate, manage, and convert authentication keys for ssh. Pag. 193\n",
        "\n",
        "- type: Print a description of `program`, i.e, whether it is a shell bult-in, a function, or an external commmand. Pag. 220\n",
        "\n",
        "- users: Display the currently logged-in users as a spaced-separeted list. Pag. 227\n",
        "\n",
        "- w: Print summaries of system usage. Pag. 228\n",
        "\n",
        "- ltarce: Trace dyamic library calls for `command` and `arguments`. Pag. 279\n",
        "\n",
        "- seq: Print the numbers from first through last by increment. Pag. 292\n",
        "\n",
        "- strace: Trace the system calls and signals for `command` and `arguments`. strace shows you how data is passed between the program and the system kernel. Pag. 298 "
      ],
      "metadata": {
        "id": "q1uYFaI46ifn"
      }
    },
    {
      "cell_type": "markdown",
      "source": [
        "## Unix Command\n",
        "\n",
        "jar: Java archieve tool. Pag. 322\n",
        "\n",
        "jarsigner: Sing or verify .jar files. Pag. 323\n",
        "\n",
        "java: Load and execute Java bytecode class files. Pag. 325\n",
        "\n",
        "javac: Compile java source coe into java Bytecode, for execution with java. Pag. 326\n",
        "\n",
        "javadoc: Process declaration and documentation comments in Java source files and produce html pages describing the public and protected classes, interfaces, constructors, method, and fields. Pag. 327\n",
        "\n",
        "javah: Generate C header and/or source files for implementing native methods. Pag. 331\n",
        "\n",
        "javap: Disassemble Java class files and print the results. Pag. 332\n",
        "\n",
        "jdb: jdb is the Java Debugger. It is line-oriented debugger, similar to traditional Unix debuggers, providing inspection and debugging of local or remote Java interpreters. Pag. 333\n",
        "\n",
        "keytool: Key and certificate management utility. Pag 334\n",
        "\n",
        "rmic: Remote Method Invocation compiler for Java. Pag 337\n",
        "\n",
        "rmid: RMI activation system daemon. Pag 339\n",
        "\n",
        "rmiregistry: Create and start a remote object registry on the specified `port`."
      ],
      "metadata": {
        "id": "Fi-_QiPXBClE"
      }
    },
    {
      "cell_type": "markdown",
      "source": [
        "## The Unix Shell: An Overview"
      ],
      "metadata": {
        "id": "5frzwIqDM00J"
      }
    },
    {
      "cell_type": "markdown",
      "source": [
        "..."
      ],
      "metadata": {
        "id": "Z5RIkiPJM3J5"
      }
    }
  ]
}