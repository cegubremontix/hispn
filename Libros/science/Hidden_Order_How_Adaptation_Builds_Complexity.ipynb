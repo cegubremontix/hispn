{
  "nbformat": 4,
  "nbformat_minor": 0,
  "metadata": {
    "colab": {
      "name": "Hidden Order: How Adaptation Builds Complexity.ipynb",
      "provenance": [],
      "authorship_tag": "ABX9TyMs1bw8i6LC0bWtkoW5Vpoc",
      "include_colab_link": true
    },
    "kernelspec": {
      "name": "python3",
      "display_name": "Python 3"
    },
    "language_info": {
      "name": "python"
    }
  },
  "cells": [
    {
      "cell_type": "markdown",
      "metadata": {
        "id": "view-in-github",
        "colab_type": "text"
      },
      "source": [
        "<a href=\"https://colab.research.google.com/github/dbremont/Notas/blob/main/Libros/science/Hidden_Order_How_Adaptation_Builds_Complexity.ipynb\" target=\"_parent\"><img src=\"https://colab.research.google.com/assets/colab-badge.svg\" alt=\"Open In Colab\"/></a>"
      ]
    },
    {
      "cell_type": "markdown",
      "source": [
        "Holland, John H., and Professor of Psychology and of Electrical Engineering and Computer Science John H. Holland. Hidden order: how adaptation builds complexity. Basic Books, 1995. Accessed 29 March 2022.\n"
      ],
      "metadata": {
        "id": "OsTxkhfeEkMf"
      }
    },
    {
      "cell_type": "markdown",
      "source": [
        "What is the main goal of the \"Seven Basics\"? - Pag 38"
      ],
      "metadata": {
        "id": "iBT2mK9WFpuP"
      }
    },
    {
      "cell_type": "markdown",
      "source": [
        "Meta-model / General Model for a CAS (Complex Adaptative System)?"
      ],
      "metadata": {
        "id": "xic2sCEuFyIR"
      }
    },
    {
      "cell_type": "markdown",
      "source": [
        "Echo Models (Pag 83-91 Summary pag 134)\n",
        "\n",
        "- Offense, Defense, and a reservoir Pag. 101\n",
        "- Conditional exchange Pag. 111\n",
        "- Resource Transformation Pag. 113\n",
        "- Adhesion Pag. 115\n",
        "- Selection Mating Pag. 122\n",
        "- Conditional Replication Pag. 123"
      ],
      "metadata": {
        "id": "5lsiALjHGBJ2"
      }
    },
    {
      "cell_type": "markdown",
      "source": [
        "How to Simulate Echo Models of CAS? Pag 141-160"
      ],
      "metadata": {
        "id": "haCCy6R1Gnwx"
      }
    },
    {
      "cell_type": "markdown",
      "source": [
        "## Basic Elements"
      ],
      "metadata": {
        "id": "ZuYVg0T4sbjw"
      }
    },
    {
      "cell_type": "markdown",
      "source": [
        "## Adaptative Agents"
      ],
      "metadata": {
        "id": "XU3nrCdcLPZP"
      }
    },
    {
      "cell_type": "markdown",
      "source": [
        "## Echoing Emergence"
      ],
      "metadata": {
        "id": "NKvKNfLWLRA2"
      }
    },
    {
      "cell_type": "markdown",
      "source": [
        "## Simulating Echo"
      ],
      "metadata": {
        "id": "V3wU1RoHLUkP"
      }
    },
    {
      "cell_type": "markdown",
      "source": [
        "## Toward Theory"
      ],
      "metadata": {
        "id": "PCCnwZ8cLWnI"
      }
    }
  ]
}