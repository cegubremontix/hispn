{
  "nbformat": 4,
  "nbformat_minor": 0,
  "metadata": {
    "colab": {
      "name": "Hidden Order: How Adaptation Builds Complexity.ipynb",
      "provenance": [],
      "authorship_tag": "ABX9TyOkYcf2GoPWvejRgLSV+Baz",
      "include_colab_link": true
    },
    "kernelspec": {
      "name": "python3",
      "display_name": "Python 3"
    },
    "language_info": {
      "name": "python"
    }
  },
  "cells": [
    {
      "cell_type": "markdown",
      "metadata": {
        "id": "view-in-github",
        "colab_type": "text"
      },
      "source": [
        "<a href=\"https://colab.research.google.com/github/dbremont/Notas/blob/main/Libros/science/Hidden_Order_How_Adaptation_Builds_Complexity.ipynb\" target=\"_parent\"><img src=\"https://colab.research.google.com/assets/colab-badge.svg\" alt=\"Open In Colab\"/></a>"
      ]
    },
    {
      "cell_type": "markdown",
      "source": [
        "**What's in the name \"Hidden Order: How Adaptation Builds Complexity\"?**\n",
        "\n",
        "Hidden: Keep out of sight.\n",
        " \n",
        "Order: The arrangement or disposition of things in relation to each other according to a particular sequence, pattern, or method.\n",
        " \n",
        "Adaptation: Is the process whereby an organism fits itself to its environment. Experience guides changes in the organism’s structure so that as time passes the organism  makes better use of tits environment for its own  ends. It's about learning.\n",
        " \n",
        "Complexity: \n",
        " \n",
        "- A system in which large networks of components with no central control and simple rules of operation give rise to complex collective behavior, sophisticated information processing, and adaptation via learning or evolution.\n",
        "\n",
        "- A system that exhibits non-trivial emergent and self-organizing behavior.\n",
        "\n",
        "- Practical definition for Software Engineering: Anything related to the structure of a software system that makes it hard to understand and modify the system.\n",
        "\n",
        "Adaptation is the mechanism  by which an “organism” changes its structure for the better use of the environment to achieve its ends.  And systems that learn/evolve like this end up being complex.\n",
        "\n",
        "**References**\n",
        "\n",
        "Lorand, Ruth. “Bergson’s Concept of Order.” Journal of the History of Philosophy, vol. 30, no. 4, Project Muse, 1992, pp. 579–595. Crossref, doi:10.1353/hph.1992.0067.\n",
        "\n",
        "Holland, John H., and Professor of Psychology and of Electrical Engineering and Computer Science John H. Holland. Hidden order: how adaptation builds complexity. Basic Books, 1995. Accessed 29 March 2022.\n",
        "\n",
        "Ousterhout, John K. A Philosophy of Software Design. Yaknyam Press, 2021.\n",
        "\n",
        "Oxford University Press. Complexity: a Guided Tour. Oxford University Press, 2009. Accessed 29 March 2022.\n"
      ],
      "metadata": {
        "id": "OsTxkhfeEkMf"
      }
    },
    {
      "cell_type": "markdown",
      "source": [
        "Adaptation -  Pag 9"
      ],
      "metadata": {
        "id": "Ukn0ematEsfY"
      }
    },
    {
      "cell_type": "markdown",
      "source": [
        "How to Make **CAS**(Complex Adaptative Systems) Models? - Pag 8"
      ],
      "metadata": {
        "id": "qOk4lKSQExoN"
      }
    },
    {
      "cell_type": "markdown",
      "source": [
        "What are the \"Seven Basic\" / Buildign Blocks of CAS Models? Pag 10\n",
        "\n",
        "- Aggregation (Property)\n",
        "- Tagging (Mechanism)\n",
        "- Nonlinearity (Property)\n",
        "- Flows (Property)\n",
        "- Diversity (Property)\n",
        "- Internal Models (Mechanism)\n",
        "- Building Blocks (Mechanism)\n",
        "\n"
      ],
      "metadata": {
        "id": "ohG7cZr2E4ux"
      }
    },
    {
      "cell_type": "markdown",
      "source": [
        "What is the main goal of the \"Seven Basics\"? - Pag 38"
      ],
      "metadata": {
        "id": "iBT2mK9WFpuP"
      }
    },
    {
      "cell_type": "markdown",
      "source": [
        "Meta-model / General Model for a CAS (Complex Adaptative System)?"
      ],
      "metadata": {
        "id": "xic2sCEuFyIR"
      }
    },
    {
      "cell_type": "markdown",
      "source": [
        "Echo Models (Pag 83-91 Summary pag 134)\n",
        "\n",
        "- Offense, Defense, and a reservoir Pag. 101\n",
        "- Conditional exchange Pag. 111\n",
        "- Resource Transformation Pag. 113\n",
        "- Adhesion Pag. 115\n",
        "- Selection Mating Pag. 122\n",
        "- Conditional Replication Pag. 123"
      ],
      "metadata": {
        "id": "5lsiALjHGBJ2"
      }
    },
    {
      "cell_type": "markdown",
      "source": [
        "How to Simulate Echo Models of CAS? Pag 141-160"
      ],
      "metadata": {
        "id": "haCCy6R1Gnwx"
      }
    },
    {
      "cell_type": "markdown",
      "source": [
        "## Basic Elements"
      ],
      "metadata": {
        "id": "ZuYVg0T4sbjw"
      }
    },
    {
      "cell_type": "markdown",
      "source": [
        "## Adaptative Agents"
      ],
      "metadata": {
        "id": "XU3nrCdcLPZP"
      }
    },
    {
      "cell_type": "markdown",
      "source": [
        "## Echoing Emergence"
      ],
      "metadata": {
        "id": "NKvKNfLWLRA2"
      }
    },
    {
      "cell_type": "markdown",
      "source": [
        "## Simulating Echo"
      ],
      "metadata": {
        "id": "V3wU1RoHLUkP"
      }
    },
    {
      "cell_type": "markdown",
      "source": [
        "## Toward Theory"
      ],
      "metadata": {
        "id": "PCCnwZ8cLWnI"
      }
    }
  ]
}