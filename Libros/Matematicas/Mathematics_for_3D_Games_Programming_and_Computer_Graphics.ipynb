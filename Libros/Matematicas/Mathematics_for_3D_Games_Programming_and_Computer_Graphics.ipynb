{
  "nbformat": 4,
  "nbformat_minor": 0,
  "metadata": {
    "colab": {
      "name": "Mathematics for 3D Games Programming and Computer Graphics.ipynb",
      "provenance": [],
      "authorship_tag": "ABX9TyOv+S+6zP3FTKGI3t0373i/",
      "include_colab_link": true
    },
    "kernelspec": {
      "name": "python3",
      "display_name": "Python 3"
    },
    "language_info": {
      "name": "python"
    }
  },
  "cells": [
    {
      "cell_type": "markdown",
      "metadata": {
        "id": "view-in-github",
        "colab_type": "text"
      },
      "source": [
        "<a href=\"https://colab.research.google.com/github/dbremont/Notas/blob/main/Libros/Matematicas/Mathematics_for_3D_Games_Programming_and_Computer_Graphics.ipynb\" target=\"_parent\"><img src=\"https://colab.research.google.com/assets/colab-badge.svg\" alt=\"Open In Colab\"/></a>"
      ]
    },
    {
      "cell_type": "markdown",
      "metadata": {
        "id": "KPEAsBuA4aKV"
      },
      "source": [
        "## The Rendering Pipeline"
      ]
    },
    {
      "cell_type": "markdown",
      "metadata": {
        "id": "IdA-cjvW4itW"
      },
      "source": [
        "## Vectors"
      ]
    },
    {
      "cell_type": "markdown",
      "metadata": {
        "id": "9-i79RRk4kXQ"
      },
      "source": [
        "## Matrices"
      ]
    },
    {
      "cell_type": "markdown",
      "metadata": {
        "id": "f98iYipS4mE8"
      },
      "source": [
        "## Transforms"
      ]
    },
    {
      "cell_type": "markdown",
      "metadata": {
        "id": "9HFedPar4pYL"
      },
      "source": [
        "## Geometry for 3D Engines"
      ]
    },
    {
      "cell_type": "markdown",
      "metadata": {
        "id": "SOfEbNrq4tpv"
      },
      "source": [
        "## Ray Tracing"
      ]
    },
    {
      "cell_type": "markdown",
      "metadata": {
        "id": "AahpJOu04wcR"
      },
      "source": [
        "## Lighting and Shading"
      ]
    },
    {
      "cell_type": "markdown",
      "metadata": {
        "id": "VPf9Ieip4zUq"
      },
      "source": [
        "## Visibility Determination"
      ]
    },
    {
      "cell_type": "markdown",
      "metadata": {
        "id": "R6zUhvFs43SB"
      },
      "source": [
        "## Polygonal Techniques"
      ]
    },
    {
      "cell_type": "markdown",
      "metadata": {
        "id": "c1eBgnae450y"
      },
      "source": [
        "## Shadows"
      ]
    },
    {
      "cell_type": "markdown",
      "metadata": {
        "id": "gdAXC9yt47Yh"
      },
      "source": [
        "## Curves and Surfaces"
      ]
    },
    {
      "cell_type": "markdown",
      "metadata": {
        "id": "g0cJsgLG4-HU"
      },
      "source": [
        "## Collision Detection"
      ]
    },
    {
      "cell_type": "markdown",
      "metadata": {
        "id": "mHjT9o2_5AuS"
      },
      "source": [
        "## Linear Physics"
      ]
    },
    {
      "cell_type": "markdown",
      "metadata": {
        "id": "-oq93a_k5DK_"
      },
      "source": [
        "## Rotational Physics"
      ]
    },
    {
      "cell_type": "markdown",
      "metadata": {
        "id": "w9h1GzT35Fzc"
      },
      "source": [
        "## Fluid and Cloth Simulation"
      ]
    },
    {
      "cell_type": "markdown",
      "metadata": {
        "id": "w211UeXV5J8d"
      },
      "source": [
        "## Numerical Methods"
      ]
    },
    {
      "cell_type": "markdown",
      "metadata": {
        "id": "8fTQwXRg5MMS"
      },
      "source": [
        "## Complex Numbers"
      ]
    },
    {
      "cell_type": "markdown",
      "metadata": {
        "id": "srs2fR205Osd"
      },
      "source": [
        "## Trigonometry Reference"
      ]
    },
    {
      "cell_type": "markdown",
      "metadata": {
        "id": "HISZkDhf5Rv9"
      },
      "source": [
        "## Coordinate Systems"
      ]
    },
    {
      "cell_type": "markdown",
      "metadata": {
        "id": "hypgC7eB5UdH"
      },
      "source": [
        "## Taylor Series"
      ]
    }
  ]
}