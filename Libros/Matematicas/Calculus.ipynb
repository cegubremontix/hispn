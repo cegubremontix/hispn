{
 "cells": [
  {
   "cell_type": "markdown",
   "metadata": {},
   "source": [
    "1. Sets and Functions\n",
    "2. Limits and Continuity\n",
    "3. The Derivate\n",
    "4. Applications of the Derivative\n",
    "5. Integration\n",
    "6. Infinity\n",
    "7. Series\n",
    "8. Plane Curves\n",
    "9. Differential Equations\n",
    "\n",
    "Other books:\n",
    "\n",
    "- Calculus Made Easy\n"
   ]
  }
 ],
 "metadata": {
  "kernelspec": {
   "display_name": "Python 2.7.18 64-bit",
   "name": "python2718jvsc74a57bd0f92b2924b84ff19c1c3dc485f7644d4486f64738191026bf8e6de303969141b5"
  },
  "language_info": {
   "name": "python",
   "version": ""
  },
  "metadata": {
   "interpreter": {
    "hash": "f92b2924b84ff19c1c3dc485f7644d4486f64738191026bf8e6de303969141b5"
   }
  },
  "orig_nbformat": 2
 },
 "nbformat": 4,
 "nbformat_minor": 2
}