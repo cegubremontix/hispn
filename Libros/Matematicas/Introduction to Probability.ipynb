{
 "cells": [
  {
   "cell_type": "markdown",
   "metadata": {},
   "source": [
    "ri: F\n",
    "title: Introduction to Probability\n",
    "---\n",
    "\n",
    "1. Sample Space and Probability\n",
    "2. Discrete Random Variables\n",
    "3. General Random Variables\n",
    "4. Futher Topics on Random Variables\n",
    "5. Limit Theorems\n",
    "6. The Bernoulli and Poisson Processes\n",
    "7. Markov Chains\n",
    "8. Bayesian Statistical Inference\n",
    "9. Classical Statistical Inference\n",
    "\n"
   ]
  }
 ],
 "metadata": {
  "kernelspec": {
   "display_name": "Python 2.7.18 64-bit",
   "name": "python2718jvsc74a57bd0f92b2924b84ff19c1c3dc485f7644d4486f64738191026bf8e6de303969141b5"
  },
  "language_info": {
   "name": "python",
   "version": ""
  },
  "metadata": {
   "interpreter": {
    "hash": "f92b2924b84ff19c1c3dc485f7644d4486f64738191026bf8e6de303969141b5"
   }
  },
  "orig_nbformat": 2
 },
 "nbformat": 4,
 "nbformat_minor": 2
}