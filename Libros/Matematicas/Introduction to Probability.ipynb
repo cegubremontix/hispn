{
  "nbformat": 4,
  "nbformat_minor": 0,
  "metadata": {
    "kernelspec": {
      "display_name": "Python 2.7.18 64-bit",
      "name": "python2718jvsc74a57bd0f92b2924b84ff19c1c3dc485f7644d4486f64738191026bf8e6de303969141b5"
    },
    "language_info": {
      "name": "python",
      "version": ""
    },
    "metadata": {
      "interpreter": {
        "hash": "f92b2924b84ff19c1c3dc485f7644d4486f64738191026bf8e6de303969141b5"
      }
    },
    "orig_nbformat": 2,
    "colab": {
      "name": "Introduction to Probability.ipynb",
      "provenance": [],
      "include_colab_link": true
    }
  },
  "cells": [
    {
      "cell_type": "markdown",
      "metadata": {
        "id": "view-in-github",
        "colab_type": "text"
      },
      "source": [
        "<a href=\"https://colab.research.google.com/github/dbremont/Notas/blob/main/Libros/Matematicas/Introduction%20to%20Probability.ipynb\" target=\"_parent\"><img src=\"https://colab.research.google.com/assets/colab-badge.svg\" alt=\"Open In Colab\"/></a>"
      ]
    },
    {
      "cell_type": "markdown",
      "metadata": {
        "id": "oC0evxmkYzzf"
      },
      "source": [
        "* (D) Introduction to Probability\n",
        "* F (Exersises) "
      ]
    },
    {
      "cell_type": "markdown",
      "metadata": {
        "id": "zs1JICE5Yu0u"
      },
      "source": [
        "1. Sample Space and Probability\n",
        "2. Discrete Random Variables\n",
        "3. General Random Variables\n",
        "4. Futher Topics on Random Variables\n",
        "5. Limit Theorems\n",
        "6. The Bernoulli and Poisson Processes\n",
        "7. Markov Chains\n",
        "8. Bayesian Statistical Inference\n",
        "9. Classical Statistical Inference\n",
        "\n"
      ]
    }
  ]
}