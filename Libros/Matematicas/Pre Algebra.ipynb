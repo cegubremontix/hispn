{
 "cells": [
  {
   "cell_type": "markdown",
   "metadata": {},
   "source": [
    "1. Properties of Arithmetic\n",
    "2. Exponents\n",
    "3. Number Theory\n",
    "4. Fractions\n",
    "5. Equations and Inequalities\n",
    "6. Decimals\n",
    "7. Ratios, Conversions, and Rates\n",
    "8. Percents\n",
    "9. Square Roots\n",
    "10. Angles\n",
    "11. Perimeter and Area\n",
    "12. Rigth Triangles and Quadrilaterals\n",
    "13. Data and Statistics\n",
    "14. Counting\n",
    "15. Problem-Solving Strategies"
   ]
  }
 ],
 "metadata": {
  "kernelspec": {
   "display_name": "Python 2.7.18 64-bit",
   "name": "python2718jvsc74a57bd0f92b2924b84ff19c1c3dc485f7644d4486f64738191026bf8e6de303969141b5"
  },
  "language_info": {
   "name": "python",
   "version": ""
  },
  "metadata": {
   "interpreter": {
    "hash": "f92b2924b84ff19c1c3dc485f7644d4486f64738191026bf8e6de303969141b5"
   }
  },
  "orig_nbformat": 2
 },
 "nbformat": 4,
 "nbformat_minor": 2
}