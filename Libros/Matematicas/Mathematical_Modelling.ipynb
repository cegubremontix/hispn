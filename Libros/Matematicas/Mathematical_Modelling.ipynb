{
  "nbformat": 4,
  "nbformat_minor": 0,
  "metadata": {
    "colab": {
      "name": "Mathematical Modelling.ipynb",
      "provenance": [],
      "toc_visible": true,
      "authorship_tag": "ABX9TyMzH3ssbM18Cv/d5S4gDzgM",
      "include_colab_link": true
    },
    "kernelspec": {
      "name": "python3",
      "display_name": "Python 3"
    },
    "language_info": {
      "name": "python"
    }
  },
  "cells": [
    {
      "cell_type": "markdown",
      "metadata": {
        "id": "view-in-github",
        "colab_type": "text"
      },
      "source": [
        "<a href=\"https://colab.research.google.com/github/dbremont/Notas/blob/main/Libros/Matematicas/Mathematical_Modelling.ipynb\" target=\"_parent\"><img src=\"https://colab.research.google.com/assets/colab-badge.svg\" alt=\"Open In Colab\"/></a>"
      ]
    },
    {
      "cell_type": "markdown",
      "metadata": {
        "id": "5Evg0SOGqKDY"
      },
      "source": [
        "## Mathematical Modelling"
      ]
    },
    {
      "cell_type": "markdown",
      "metadata": {
        "id": "rE85FKQs5BSN"
      },
      "source": [
        "## What is Modelling?"
      ]
    },
    {
      "cell_type": "markdown",
      "metadata": {
        "id": "G3fwqe4H9Ixs"
      },
      "source": [
        "## Getting Started"
      ]
    },
    {
      "cell_type": "markdown",
      "metadata": {
        "id": "5zUD327x9Knp"
      },
      "source": [
        "## Modelling Methodology"
      ]
    },
    {
      "cell_type": "markdown",
      "metadata": {
        "id": "zC-uL0v99Nvt"
      },
      "source": [
        "## Modelling SKills"
      ]
    },
    {
      "cell_type": "markdown",
      "metadata": {
        "id": "rdTpkFR89PlD"
      },
      "source": [
        "## Using Difference Equations"
      ]
    },
    {
      "cell_type": "markdown",
      "metadata": {
        "id": "cgSYCTec9Th6"
      },
      "source": [
        "## Using Differential Equations"
      ]
    },
    {
      "cell_type": "markdown",
      "metadata": {
        "id": "Vci11AE29Wt9"
      },
      "source": [
        "## Using Random Numbers"
      ]
    },
    {
      "cell_type": "markdown",
      "metadata": {
        "id": "aAnhuRyk9Ysp"
      },
      "source": [
        "## Using Data"
      ]
    },
    {
      "cell_type": "markdown",
      "metadata": {
        "id": "5dtVKR5N9aIi"
      },
      "source": [
        "## Example Models"
      ]
    },
    {
      "cell_type": "markdown",
      "metadata": {
        "id": "xgHsDCwg9dQ6"
      },
      "source": [
        "## Report Writing and Presentations"
      ]
    }
  ]
}