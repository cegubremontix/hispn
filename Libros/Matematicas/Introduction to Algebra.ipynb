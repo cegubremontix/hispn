{
  "nbformat": 4,
  "nbformat_minor": 0,
  "metadata": {
    "kernelspec": {
      "display_name": "Python 2.7.18 64-bit",
      "name": "python2718jvsc74a57bd0f92b2924b84ff19c1c3dc485f7644d4486f64738191026bf8e6de303969141b5"
    },
    "language_info": {
      "name": "python",
      "version": ""
    },
    "metadata": {
      "interpreter": {
        "hash": "f92b2924b84ff19c1c3dc485f7644d4486f64738191026bf8e6de303969141b5"
      }
    },
    "orig_nbformat": 2,
    "colab": {
      "name": "Introduction to Algebra.ipynb",
      "provenance": []
    }
  },
  "cells": [
    {
      "cell_type": "markdown",
      "metadata": {
        "id": "skAW0KCzeo_K"
      },
      "source": [
        "* [Introduction to Algebra](https://artofproblemsolving.com/ebooks/intro-algebra-ebook/c0toc)"
      ]
    },
    {
      "cell_type": "markdown",
      "metadata": {
        "id": "9MxfkYgnekNi"
      },
      "source": [
        "\n",
        "1. Follow the rules\n",
        "2. x Mark the Spot\n",
        "3. One-Variable Linear Equations\n",
        "4. More Variables\n",
        "5. Multi-Variable Linear Equations]\n",
        "6. Rations and Percents\n",
        "7. Proportion\n",
        "8. Graphing Lines\n",
        "9. Introduction to Inequalities\n",
        "10. Quadratic Equations -- Part 1\n",
        "11. Special Factorizations\n",
        "12. Complex Numbers\n",
        "13. Quadratic Equations -- Part 2\n",
        "14. Graphing Quadratics\n",
        "15. More Inequalities\n",
        "16. Functions\n",
        "17. Graphing Functions\n",
        "18. Polynomials\n",
        "19. Exponents and Logarithms\n",
        "20. Special Functions\n",
        "21. Sequences & Series\n",
        "22. Special Manipulations\n",
        "\n",
        "\n"
      ]
    }
  ]
}