{
 "cells": [
  {
   "cell_type": "markdown",
   "metadata": {},
   "source": [
    "1. The Mathematical Landscape\n",
    "2. Varietiese of Mathematical Experience\n",
    "3. Outer Issues\n",
    "4. Inner Issues\n",
    "5. Selected Topics in Mathematics\n",
    "6. Teaching and Learning\n",
    "7. From Certainty to Fallibility\n",
    "8. Mathematical Reality\n"
   ]
  }
 ],
 "metadata": {
  "kernelspec": {
   "display_name": "Python 2.7.18 64-bit",
   "name": "python2718jvsc74a57bd0f92b2924b84ff19c1c3dc485f7644d4486f64738191026bf8e6de303969141b5"
  },
  "language_info": {
   "name": "python",
   "version": ""
  },
  "metadata": {
   "interpreter": {
    "hash": "f92b2924b84ff19c1c3dc485f7644d4486f64738191026bf8e6de303969141b5"
   }
  },
  "orig_nbformat": 2
 },
 "nbformat": 4,
 "nbformat_minor": 2
}