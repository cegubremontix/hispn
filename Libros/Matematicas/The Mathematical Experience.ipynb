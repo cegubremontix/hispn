{
  "nbformat": 4,
  "nbformat_minor": 0,
  "metadata": {
    "kernelspec": {
      "display_name": "Python 2.7.18 64-bit",
      "name": "python2718jvsc74a57bd0f92b2924b84ff19c1c3dc485f7644d4486f64738191026bf8e6de303969141b5"
    },
    "language_info": {
      "name": "python",
      "version": ""
    },
    "metadata": {
      "interpreter": {
        "hash": "f92b2924b84ff19c1c3dc485f7644d4486f64738191026bf8e6de303969141b5"
      }
    },
    "orig_nbformat": 2,
    "colab": {
      "name": "The Mathematical Experience.ipynb",
      "provenance": [],
      "include_colab_link": true
    }
  },
  "cells": [
    {
      "cell_type": "markdown",
      "metadata": {
        "id": "view-in-github",
        "colab_type": "text"
      },
      "source": [
        "<a href=\"https://colab.research.google.com/github/dbremont/Notas/blob/main/Libros/Matematicas/The%20Mathematical%20Experience.ipynb\" target=\"_parent\"><img src=\"https://colab.research.google.com/assets/colab-badge.svg\" alt=\"Open In Colab\"/></a>"
      ]
    },
    {
      "cell_type": "markdown",
      "metadata": {
        "id": "5e2wGcWGhikc"
      },
      "source": [
        "(F) "
      ]
    },
    {
      "cell_type": "markdown",
      "metadata": {
        "id": "NXu2uzkbhf3M"
      },
      "source": [
        "1. The Mathematical Landscape\n",
        "2. Varietiese of Mathematical Experience\n",
        "3. Outer Issues\n",
        "4. Inner Issues\n",
        "5. Selected Topics in Mathematics\n",
        "6. Teaching and Learning\n",
        "7. From Certainty to Fallibility\n",
        "8. Mathematical Reality\n"
      ]
    }
  ]
}