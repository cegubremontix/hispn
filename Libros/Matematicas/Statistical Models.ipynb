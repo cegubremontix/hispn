{
 "cells": [
  {
   "cell_type": "markdown",
   "metadata": {},
   "source": [
    "1. Introduction\n",
    "2. Variation\n",
    "3. Uncertainty\n",
    "4. Likelihood\n",
    "5. Models\n",
    "6. Stochastic Models\n",
    "7. Estimation and Hypothesis Testing\n",
    "8. Linear Regression Models\n",
    "9. Designed Experiments\n",
    "10. Nonlinear Regression Models\n",
    "11. Bayesian Models\n",
    "12. Conditional and Marginal Inference"
   ]
  }
 ],
 "metadata": {
  "kernelspec": {
   "display_name": "Python 2.7.18 64-bit",
   "name": "python2718jvsc74a57bd0f92b2924b84ff19c1c3dc485f7644d4486f64738191026bf8e6de303969141b5"
  },
  "language_info": {
   "name": "python",
   "version": ""
  },
  "metadata": {
   "interpreter": {
    "hash": "f92b2924b84ff19c1c3dc485f7644d4486f64738191026bf8e6de303969141b5"
   }
  },
  "orig_nbformat": 2
 },
 "nbformat": 4,
 "nbformat_minor": 2
}