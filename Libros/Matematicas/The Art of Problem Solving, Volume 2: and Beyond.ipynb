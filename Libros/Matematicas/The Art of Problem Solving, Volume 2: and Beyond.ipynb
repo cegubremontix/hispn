{
 "cells": [
  {
   "cell_type": "markdown",
   "metadata": {},
   "source": [
    "0. Prove It!\n",
    "1. Logarithms\n",
    "2. Not Just For Right Triangles\n",
    "3. More Triangles!\n",
    "4. Cyclic Quadrilaterals\n",
    "5. Conics and Polar Coordinates\n",
    "6. Polynomials\n",
    "7. Functions\n",
    "8. Taking it to the Limit\n",
    "9. Complex Numbers\n",
    "10. Vector and Matrices\n",
    "11. Cross Producs and Determinants\n",
    "12. Analytic Geometry\n",
    "13. Equations and Expressions\n",
    "14. Equations and Expressions\n",
    "15. Inequalities\n",
    "16. Combinatorics\n",
    "16. Sequence and Series\n",
    "17. Counting in the Twilight Zone\n",
    "18. Again and Again\n",
    "19. Probabilty\n",
    "20. Find It and Make It\n",
    "21. Collinearity and Concurrency\n",
    "22. Geometry Tidbits\n",
    "23. Number Theory\n",
    "24. Diophantine Equations\n",
    "25. Graph Theory\n",
    "26. Parting Shots\n"
   ]
  }
 ],
 "metadata": {
  "kernelspec": {
   "display_name": "Python 2.7.18 64-bit",
   "name": "python2718jvsc74a57bd0f92b2924b84ff19c1c3dc485f7644d4486f64738191026bf8e6de303969141b5"
  },
  "language_info": {
   "name": "python",
   "version": ""
  },
  "metadata": {
   "interpreter": {
    "hash": "f92b2924b84ff19c1c3dc485f7644d4486f64738191026bf8e6de303969141b5"
   }
  },
  "orig_nbformat": 2
 },
 "nbformat": 4,
 "nbformat_minor": 2
}