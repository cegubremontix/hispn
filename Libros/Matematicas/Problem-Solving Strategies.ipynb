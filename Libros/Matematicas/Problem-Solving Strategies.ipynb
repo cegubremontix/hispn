{
  "nbformat": 4,
  "nbformat_minor": 0,
  "metadata": {
    "kernelspec": {
      "display_name": "Python 2.7.18 64-bit",
      "name": "python2718jvsc74a57bd0f92b2924b84ff19c1c3dc485f7644d4486f64738191026bf8e6de303969141b5"
    },
    "language_info": {
      "name": "python",
      "version": ""
    },
    "metadata": {
      "interpreter": {
        "hash": "f92b2924b84ff19c1c3dc485f7644d4486f64738191026bf8e6de303969141b5"
      }
    },
    "orig_nbformat": 2,
    "colab": {
      "name": "Problem-Solving Strategies.ipynb",
      "provenance": [],
      "include_colab_link": true
    }
  },
  "cells": [
    {
      "cell_type": "markdown",
      "metadata": {
        "id": "view-in-github",
        "colab_type": "text"
      },
      "source": [
        "<a href=\"https://colab.research.google.com/github/dbremont/Notas/blob/main/Libros/Matematicas/Problem-Solving%20Strategies.ipynb\" target=\"_parent\"><img src=\"https://colab.research.google.com/assets/colab-badge.svg\" alt=\"Open In Colab\"/></a>"
      ]
    },
    {
      "cell_type": "markdown",
      "metadata": {
        "id": "lpYDReJSgJmL"
      },
      "source": [
        "(F)"
      ]
    },
    {
      "cell_type": "markdown",
      "metadata": {
        "id": "pA1RJ5uEgFTr"
      },
      "source": [
        "Collection of problem solving principles.\n",
        "\n",
        "Chapters:\n",
        "\n",
        "1. The Invariance Principle\n",
        "2. Coloring Proofs\n",
        "3. The Extremal Principle\n",
        "4. The Box Principle\n",
        "5. Enumerative Combinatorics\n",
        "6. Number Theory\n",
        "7. Inequalities\n",
        "8. The Induction Principle\n",
        "9. Sequences\n",
        "10. Polynomials\n",
        "11. Functional Equations\n",
        "12. Geometry\n",
        "13. Games\n",
        "14. Futher Strategies\n"
      ]
    }
  ]
}