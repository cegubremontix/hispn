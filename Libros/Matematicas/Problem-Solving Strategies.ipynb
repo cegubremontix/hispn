{
 "cells": [
  {
   "cell_type": "markdown",
   "metadata": {},
   "source": [
    "Collection of problem solving principles.\n",
    "\n",
    "Chapters:\n",
    "\n",
    "1. The Invariance Principle\n",
    "2. Coloring Proofs\n",
    "3. The Extremal Principle\n",
    "4. The Box Principle\n",
    "5. Enumerative Combinatorics\n",
    "6. Number Theory\n",
    "7. Inequalities\n",
    "8. The Induction Principle\n",
    "9. Sequences\n",
    "10. Polynomials\n",
    "11. Functional Equations\n",
    "12. Geometry\n",
    "13. Games\n",
    "14. Futher Strategies\n"
   ]
  }
 ],
 "metadata": {
  "kernelspec": {
   "display_name": "Python 2.7.18 64-bit",
   "name": "python2718jvsc74a57bd0f92b2924b84ff19c1c3dc485f7644d4486f64738191026bf8e6de303969141b5"
  },
  "language_info": {
   "name": "python",
   "version": ""
  },
  "metadata": {
   "interpreter": {
    "hash": "f92b2924b84ff19c1c3dc485f7644d4486f64738191026bf8e6de303969141b5"
   }
  },
  "orig_nbformat": 2
 },
 "nbformat": 4,
 "nbformat_minor": 2
}