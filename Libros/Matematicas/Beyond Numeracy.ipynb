{
  "nbformat": 4,
  "nbformat_minor": 0,
  "metadata": {
    "kernelspec": {
      "display_name": "Python 2.7.18 64-bit",
      "name": "python2718jvsc74a57bd0f92b2924b84ff19c1c3dc485f7644d4486f64738191026bf8e6de303969141b5"
    },
    "language_info": {
      "name": "python",
      "version": ""
    },
    "metadata": {
      "interpreter": {
        "hash": "f92b2924b84ff19c1c3dc485f7644d4486f64738191026bf8e6de303969141b5"
      }
    },
    "orig_nbformat": 2,
    "colab": {
      "name": "Beyond Numeracy.ipynb",
      "provenance": [],
      "include_colab_link": true
    }
  },
  "cells": [
    {
      "cell_type": "markdown",
      "metadata": {
        "id": "view-in-github",
        "colab_type": "text"
      },
      "source": [
        "<a href=\"https://colab.research.google.com/github/dbremont/Notas/blob/main/Libros/Matematicas/Beyond%20Numeracy.ipynb\" target=\"_parent\"><img src=\"https://colab.research.google.com/assets/colab-badge.svg\" alt=\"Open In Colab\"/></a>"
      ]
    },
    {
      "cell_type": "markdown",
      "metadata": {
        "id": "hOP9faJThHci"
      },
      "source": [
        "F"
      ]
    },
    {
      "cell_type": "markdown",
      "metadata": {
        "id": "73lK5fBchEeZ"
      },
      "source": [
        "1. Introduction\n",
        "2. A Mathematical Accent\n",
        "3. Algebra - Some Basic Principles\n",
        "4. Analytic Geometry\n",
        "5. Arabic Numerals\n",
        "6. Areas and Volumes\n",
        "7. Binary Numbers and Codes\n",
        "8. Calculus\n",
        "9. Chaos Theory\n",
        "10. Coincidences\n",
        "11. Combinatorics, Graphs, and Maps\n",
        "12. Complexity of Programs\n",
        "13. Computation and Rope\n",
        "14. Correlation, Intervals, and Testing\n",
        "15. Differential Equations\n",
        "16. Mathematics in Ethics\n",
        "17. Exponential Growth\n",
        "18. Fermat's Last Theorem\n",
        "19. Mathematical Folklore\n",
        "20. Fractal\n",
        "21. Function\n",
        "22. Game Theory\n",
        "23. Godel and His Theorem\n",
        "24. Godel Rectangle, Fibonacci Sequences\n",
        "25. Groups and Abstract Algebra\n",
        "26. Human Consciousness, Its Fractal Nature\n",
        "27. Humor and Mathematics\n",
        "28. Imaginary and Negative Numbers\n",
        "29. Impossibilities --Three Old,  Three New\n",
        "30. Mathematical Induction\n",
        "31. Infinite Sets\n",
        "32. Limits\n",
        "33. Linear Programming\n",
        "34. Matrices and Vectors\n",
        "35. Mean, Median, and Mode\n",
        "36. Mobius Strips and Orientability\n",
        "37. Monte Carlo Method of Simulation\n",
        "38. The Multiplication Principle\n",
        "39. Music, Art, and Digitilization\n",
        "40. Non-Euclidean Geometry\n",
        "41. Notation\n",
        "42. Oulipo - Mathematics in Literature\n",
        "43. Partial Orderings and Comparisons\n",
        "44. Pascual's Triangle\n",
        "45. Philosophy of Mathematics\n",
        "46. Pi\n",
        "47. Platonic Solids\n",
        "48. Prime Numbers\n",
        "49. Probability\n",
        "50. The Pythogorean Theorem\n",
        "51. QED, Proofs, and Theorems\n",
        "52. The Quadratic and Other Formulas\n",
        "53. Quantifiers in Logic\n",
        "54. Rational and Irrational Numbers\n",
        "55. Recursion --From Definitions to Life\n",
        "56. Russels's Paradox\n",
        "57. Scientific Notation\n",
        "58. Series -- Convergence and Divergence\n",
        "59. Sorting and Retreiving\n",
        "60. Statistics -- Two Theorems\n",
        "61. Substitutability and More on Rote\n",
        "62. Symmmetry and Invariance\n",
        "63. Tautologies and Truth Tables\n",
        "64. Time, Space, and Imensity\n",
        "65. Topology\n",
        "66. Trigonometry\n",
        "67. Turing's Test, Expert Systems\n",
        "68. Variables and Pronoums\n",
        "69. Voting Systems\n",
        "70. Zeno and Motion\n",
        "\n",
        "---\n",
        "14 : Correlation, Intervals, and Testing (56)\n",
        "---\n",
        "\n",
        "Algunas malas correlaciones:\n",
        "\n",
        "- Fluoruro en el agua se relaciona con el cancer.\n",
        "  -> Por que el fluoruro lo usan las personas rican que en la gran mayoria  viven mas tiempo, y el cancer es el larga medida una enfermedad de la vejes.\n",
        "\n",
        "- Never forget about the logic of the situation.\n",
        "- And then do the regression analysis.\n",
        "- \n",
        "\n",
        "\n"
      ]
    }
  ]
}