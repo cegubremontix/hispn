{
  "nbformat": 4,
  "nbformat_minor": 0,
  "metadata": {
    "colab": {
      "name": "Mind Tools: The Five Levels of Mathematical Reality.ipynb",
      "provenance": [],
      "authorship_tag": "ABX9TyPrt/W8ik9x+JMuptcAJ0iF",
      "include_colab_link": true
    },
    "kernelspec": {
      "name": "python3",
      "display_name": "Python 3"
    },
    "language_info": {
      "name": "python"
    }
  },
  "cells": [
    {
      "cell_type": "markdown",
      "metadata": {
        "id": "view-in-github",
        "colab_type": "text"
      },
      "source": [
        "<a href=\"https://colab.research.google.com/github/dbremont/Notas/blob/main/Libros/Matematicas/Mind_Tools_The_Five_Levels_of_Mathematical_Reality.ipynb\" target=\"_parent\"><img src=\"https://colab.research.google.com/assets/colab-badge.svg\" alt=\"Open In Colab\"/></a>"
      ]
    },
    {
      "cell_type": "markdown",
      "source": [
        "https://www.amazon.com/progress-tracker/package/ref=pt_redirect_from_gp?_encoding=UTF8&from=gp&itemId=&orderId=111-0696124-7992237&packageIndex=0&shipmentId=17930615704025"
      ],
      "metadata": {
        "id": "ZuYVg0T4sbjw"
      }
    }
  ]
}