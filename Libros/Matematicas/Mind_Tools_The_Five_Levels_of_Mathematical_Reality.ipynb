{
  "nbformat": 4,
  "nbformat_minor": 0,
  "metadata": {
    "colab": {
      "name": "Mind Tools: The Five Levels of Mathematical Reality.ipynb",
      "provenance": [],
      "authorship_tag": "ABX9TyPg8fSx3iookGebs83Ecz/X",
      "include_colab_link": true
    },
    "kernelspec": {
      "name": "python3",
      "display_name": "Python 3"
    },
    "language_info": {
      "name": "python"
    }
  },
  "cells": [
    {
      "cell_type": "markdown",
      "metadata": {
        "id": "view-in-github",
        "colab_type": "text"
      },
      "source": [
        "<a href=\"https://colab.research.google.com/github/dbremont/Notas/blob/main/Libros/Matematicas/Mind_Tools_The_Five_Levels_of_Mathematical_Reality.ipynb\" target=\"_parent\"><img src=\"https://colab.research.google.com/assets/colab-badge.svg\" alt=\"Open In Colab\"/></a>"
      ]
    },
    {
      "cell_type": "markdown",
      "source": [
        "## The Five Modes ot Thought"
      ],
      "metadata": {
        "id": "QY0cFiJ_vhg0"
      }
    },
    {
      "cell_type": "markdown",
      "source": [
        "## Number"
      ],
      "metadata": {
        "id": "tJqvtgF9vmeL"
      }
    },
    {
      "cell_type": "markdown",
      "source": [
        "## Space"
      ],
      "metadata": {
        "id": "_IhIYpWmvpAO"
      }
    },
    {
      "cell_type": "markdown",
      "source": [
        "## Logic"
      ],
      "metadata": {
        "id": "ZMNbRCtNvr5f"
      }
    },
    {
      "cell_type": "markdown",
      "source": [
        "## Infinity and Information"
      ],
      "metadata": {
        "id": "tAahu0QNvtW4"
      }
    }
  ]
}