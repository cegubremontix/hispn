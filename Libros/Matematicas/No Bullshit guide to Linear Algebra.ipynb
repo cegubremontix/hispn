{
 "cells": [
  {
   "cell_type": "markdown",
   "metadata": {},
   "source": [
    "1. Math fundamentals\n",
    "2. Intro to linear algebra\n",
    "3. Computational linear algebra\n",
    "4. Geometric aspecs of linear algebra\n",
    "5. Linear transformations\n",
    "6. Theoretical linear algebra\n",
    "7. Applications\n",
    "8. Probability\n",
    "9. Quantum mechanics\n",
    "10. End matter"
   ]
  }
 ],
 "metadata": {
  "kernelspec": {
   "display_name": "Python 2.7.18 64-bit",
   "name": "python2718jvsc74a57bd0f92b2924b84ff19c1c3dc485f7644d4486f64738191026bf8e6de303969141b5"
  },
  "language_info": {
   "name": "python",
   "version": ""
  },
  "metadata": {
   "interpreter": {
    "hash": "f92b2924b84ff19c1c3dc485f7644d4486f64738191026bf8e6de303969141b5"
   }
  },
  "orig_nbformat": 2
 },
 "nbformat": 4,
 "nbformat_minor": 2
}