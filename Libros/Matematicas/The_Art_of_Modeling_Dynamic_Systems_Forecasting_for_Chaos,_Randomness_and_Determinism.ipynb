{
  "nbformat": 4,
  "nbformat_minor": 0,
  "metadata": {
    "colab": {
      "name": "The Art of Modeling Dynamic Systems - Forecasting for Chaos, Randomness and Determinism.ipynb",
      "provenance": [],
      "toc_visible": true,
      "authorship_tag": "ABX9TyM+7AG9hXWU/FOMPaKD6cm5",
      "include_colab_link": true
    },
    "kernelspec": {
      "name": "python3",
      "display_name": "Python 3"
    },
    "language_info": {
      "name": "python"
    }
  },
  "cells": [
    {
      "cell_type": "markdown",
      "metadata": {
        "id": "view-in-github",
        "colab_type": "text"
      },
      "source": [
        "<a href=\"https://colab.research.google.com/github/dbremont/Notas/blob/main/Libros/Matematicas/The_Art_of_Modeling_Dynamic_Systems_Forecasting_for_Chaos%2C_Randomness_and_Determinism.ipynb\" target=\"_parent\"><img src=\"https://colab.research.google.com/assets/colab-badge.svg\" alt=\"Open In Colab\"/></a>"
      ]
    },
    {
      "cell_type": "markdown",
      "metadata": {
        "id": "5Evg0SOGqKDY"
      },
      "source": [
        "## The Art of Modeling Dynamic Systems - Forecasting for Chaos, Randomness and Determinism"
      ]
    },
    {
      "cell_type": "markdown",
      "metadata": {
        "id": "9TsMNLlJWBSa"
      },
      "source": [
        "- Dynamical Models\n",
        "\n",
        "- Good **Mathematical Models**: ones that fit the data with a  minumum  of ajustable parameters, and are able to provide useful forecasts.\n",
        "\n",
        "- [Dynamical system](https://en.wikipedia.org/wiki/Dynamical_system)"
      ]
    },
    {
      "cell_type": "markdown",
      "metadata": {
        "id": "okmgdtyj26Dh"
      },
      "source": [
        "## Introduction to Dynamics"
      ]
    },
    {
      "cell_type": "markdown",
      "metadata": {
        "id": "HoS0OT9YUTPc"
      },
      "source": [
        "- Statistics,\n",
        "\n",
        "- Dynamics,\n",
        "\n",
        "- The **art of modelling** consist of matching the behavior of computational processes  to that exhibited by the series of measurements.\n",
        "\n",
        "- Modeling practitioners need to be familiar with a wide variety of mathematical specialities, computer science, and one or more disciplines which provides disciplines.\n",
        "\n",
        "**Basics Concepts and Definitions**\n",
        "\n",
        "- **Dynamics**: means changing.\n",
        "- **Dynamical**: is what concerns change.\n",
        "\n",
        "- \n"
      ]
    },
    {
      "cell_type": "markdown",
      "metadata": {
        "id": "Re7y1F823F1F"
      },
      "source": [
        "## A Brief of Dynamics and Computing"
      ]
    },
    {
      "cell_type": "markdown",
      "metadata": {
        "id": "0WrPmwxi3K-V"
      },
      "source": [
        "## Foundations and Abstract Entities"
      ]
    },
    {
      "cell_type": "markdown",
      "metadata": {
        "id": "VOD0udLP3P5B"
      },
      "source": [
        "## Classical Analysis"
      ]
    },
    {
      "cell_type": "markdown",
      "metadata": {
        "id": "duItlDnR3ejY"
      },
      "source": [
        "## Numerical Analysis and Approximation Theory"
      ]
    },
    {
      "cell_type": "markdown",
      "metadata": {
        "id": "uBVCDzni3i7e"
      },
      "source": [
        "## Statistical Methods"
      ]
    },
    {
      "cell_type": "markdown",
      "metadata": {
        "id": "LqtGHyyD3nQO"
      },
      "source": [
        "## Classical Modeling Techniques"
      ]
    },
    {
      "cell_type": "markdown",
      "metadata": {
        "id": "g9cYxQrS3qLj"
      },
      "source": [
        "## Dynamics without Calculus"
      ]
    },
    {
      "cell_type": "markdown",
      "metadata": {
        "id": "DgT_90UR3uND"
      },
      "source": [
        "## Basic Models"
      ]
    },
    {
      "cell_type": "markdown",
      "metadata": {
        "id": "h10YBcCC3v1x"
      },
      "source": [
        "## Cycles"
      ]
    },
    {
      "cell_type": "markdown",
      "metadata": {
        "id": "G0HrpkU33xNI"
      },
      "source": [
        "## Analysis of Mathematical Models"
      ]
    },
    {
      "cell_type": "markdown",
      "metadata": {
        "id": "XHa9Prh73znT"
      },
      "source": [
        "## A Classification Scheme for Dynamic Systems"
      ]
    },
    {
      "cell_type": "markdown",
      "metadata": {
        "id": "bqbcvQf434ch"
      },
      "source": [
        "## Static Systems- Type Zero"
      ]
    },
    {
      "cell_type": "markdown",
      "metadata": {
        "id": "_IxkBNuD39iH"
      },
      "source": [
        "## Solvable Systems - Type 1"
      ]
    },
    {
      "cell_type": "markdown",
      "metadata": {
        "id": "Gfw-PY964AQj"
      },
      "source": [
        "## Perturbation Theory - Type II"
      ]
    },
    {
      "cell_type": "markdown",
      "metadata": {
        "id": "9kYHOga94Ei9"
      },
      "source": [
        "## Chaotic Systems -- Type III"
      ]
    },
    {
      "cell_type": "markdown",
      "metadata": {
        "id": "F8NGDCeI4yS7"
      },
      "source": [
        "## Stochastic Systems - Type IV"
      ]
    },
    {
      "cell_type": "markdown",
      "metadata": {
        "id": "N0JScVUI420G"
      },
      "source": [
        "## Qualitative Analysis"
      ]
    },
    {
      "cell_type": "markdown",
      "metadata": {
        "id": "gpkSPJ6d46xo"
      },
      "source": [
        "## Quantitative Analysis"
      ]
    },
    {
      "cell_type": "markdown",
      "metadata": {
        "id": "zcSz1ItT4-7a"
      },
      "source": [
        "## Model Validation"
      ]
    },
    {
      "cell_type": "markdown",
      "metadata": {
        "id": "rE85FKQs5BSN"
      },
      "source": [
        "## The Modeler´s Library"
      ]
    }
  ]
}