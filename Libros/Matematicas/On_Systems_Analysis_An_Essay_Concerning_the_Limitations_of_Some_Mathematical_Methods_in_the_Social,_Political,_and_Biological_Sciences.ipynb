{
  "nbformat": 4,
  "nbformat_minor": 0,
  "metadata": {
    "colab": {
      "name": "On Systems Analysis: An Essay Concerning the Limitations of Some Mathematical Methods in the Social, Political, and Biological Sciences.ipynb",
      "provenance": [],
      "authorship_tag": "ABX9TyPHBAoMOU83xyUNt+Y3VH1/"
    },
    "kernelspec": {
      "name": "python3",
      "display_name": "Python 3"
    },
    "language_info": {
      "name": "python"
    }
  },
  "cells": [
    {
      "cell_type": "markdown",
      "source": [
        "## General Systems Theory"
      ],
      "metadata": {
        "id": "RJ8D0gKEMqiY"
      }
    },
    {
      "cell_type": "markdown",
      "source": [
        "## Dynamical Systems"
      ],
      "metadata": {
        "id": "rK04l3lTMsb3"
      }
    },
    {
      "cell_type": "markdown",
      "source": [
        "## Mathematical Systems Theory"
      ],
      "metadata": {
        "id": "jyHh4gyIMuD8"
      }
    }
  ]
}