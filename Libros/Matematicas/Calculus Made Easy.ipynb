{
 "cells": [
  {
   "cell_type": "markdown",
   "metadata": {},
   "source": [
    "1. To Deliver You from the Preliminary Terrors\n",
    "2. On Different Degrees of Smallnes\n",
    "3. On Relative Growings\n",
    "4. Simplest Cases\n",
    "5. Next Stage. What to Do with Constants\n",
    "6. Sums, Differences, Products, and Quotients\n",
    "7. Successive Differentiation\n",
    "8. When Time Varies\n",
    "9. Introduction to a Useful Dodge\n",
    "10. Geometrical Meaning of Differentiation\n",
    "11. Maxima and Minima\n",
    "12. Curvature of Curves\n",
    "13. Partial Fractions and Inverse Functions\n",
    "14. On True Compound Interest and the Law of Organic Growth\n",
    "15. How to Deal with Sines and Cosines \n",
    "16. Partial Differentiation\n",
    "17. Integration\n",
    "18. Integration as the Reverse of Differentiating\n",
    "19. On Finding Areas by Integrating\n",
    "20. Dodges, Pitfalls, and Triumphs\n",
    "21. Finding Solutions\n",
    "22. A Litle More about Curvature of Curves\n",
    "23. How to Find the Length of an Arc on a Curve\n",
    "\n",
    "---\n",
    "Integral of dx = x\n",
    "\n",
    "- Interpretation dx means \"a litle bit of x\", x is just a variable for fun replace for numbers to sea.\n",
    "- so d3 = 3\n",
    "- ...\n",
    "\n",
    "\n"
   ]
  }
 ],
 "metadata": {
  "kernelspec": {
   "display_name": "Python 2.7.18 64-bit",
   "name": "python2718jvsc74a57bd0f92b2924b84ff19c1c3dc485f7644d4486f64738191026bf8e6de303969141b5"
  },
  "language_info": {
   "name": "python",
   "version": ""
  },
  "metadata": {
   "interpreter": {
    "hash": "f92b2924b84ff19c1c3dc485f7644d4486f64738191026bf8e6de303969141b5"
   }
  },
  "orig_nbformat": 2
 },
 "nbformat": 4,
 "nbformat_minor": 2
}