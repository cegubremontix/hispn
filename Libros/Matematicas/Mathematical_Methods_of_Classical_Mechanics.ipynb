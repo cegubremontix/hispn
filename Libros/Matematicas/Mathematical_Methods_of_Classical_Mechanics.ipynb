{
  "nbformat": 4,
  "nbformat_minor": 0,
  "metadata": {
    "colab": {
      "name": "Mathematical Methods of Classical Mechanics.ipynb",
      "provenance": [],
      "toc_visible": true,
      "authorship_tag": "ABX9TyPV9mUweFY7AKbXHmHrNa0G",
      "include_colab_link": true
    },
    "kernelspec": {
      "name": "python3",
      "display_name": "Python 3"
    },
    "language_info": {
      "name": "python"
    }
  },
  "cells": [
    {
      "cell_type": "markdown",
      "metadata": {
        "id": "view-in-github",
        "colab_type": "text"
      },
      "source": [
        "<a href=\"https://colab.research.google.com/github/dbremont/Notas/blob/main/Libros/Matematicas/Mathematical_Methods_of_Classical_Mechanics.ipynb\" target=\"_parent\"><img src=\"https://colab.research.google.com/assets/colab-badge.svg\" alt=\"Open In Colab\"/></a>"
      ]
    },
    {
      "cell_type": "markdown",
      "metadata": {
        "id": "QX3dDt6HaVno"
      },
      "source": [
        "Mathematical Methods of Classical Mechanics"
      ]
    },
    {
      "cell_type": "markdown",
      "metadata": {
        "id": "q8sD2Hx_cgfL"
      },
      "source": [
        "## Newtonian Mechanics"
      ]
    },
    {
      "cell_type": "markdown",
      "metadata": {
        "id": "mL6tCCPTdn4D"
      },
      "source": [
        "### Experimental facts"
      ]
    },
    {
      "cell_type": "markdown",
      "metadata": {
        "id": "by2w8_Ykd90Z"
      },
      "source": [
        "### The principles of relativity adn determinacy"
      ]
    },
    {
      "cell_type": "markdown",
      "metadata": {
        "id": "IVTJDXL5eChJ"
      },
      "source": [
        "### The galilean group and Newtown's equations"
      ]
    },
    {
      "cell_type": "markdown",
      "metadata": {
        "id": "cigq_ZMoeG3g"
      },
      "source": [
        "### Examples of mechanical systems"
      ]
    },
    {
      "cell_type": "markdown",
      "metadata": {
        "id": "iebiu0J3eJX5"
      },
      "source": [
        "### Investigations of the equations of motion"
      ]
    },
    {
      "cell_type": "markdown",
      "metadata": {
        "id": "Zwwgkt44eNJH"
      },
      "source": [
        "### Systems with one degree of freedom"
      ]
    },
    {
      "cell_type": "markdown",
      "metadata": {
        "id": "_MsjdSygeRU8"
      },
      "source": [
        "### Systems with two degrees of freedom"
      ]
    },
    {
      "cell_type": "markdown",
      "metadata": {
        "id": "Spbwwmqhed3v"
      },
      "source": [
        "### Conservative force fields"
      ]
    },
    {
      "cell_type": "markdown",
      "metadata": {
        "id": "52utXyJceizo"
      },
      "source": [
        "### Angular momentum"
      ]
    },
    {
      "cell_type": "markdown",
      "metadata": {
        "id": "7UoD7xXZel6_"
      },
      "source": [
        "### Investigation of motion in a central field"
      ]
    },
    {
      "cell_type": "markdown",
      "metadata": {
        "id": "hwRPgl83epfJ"
      },
      "source": [
        "### The motion of a point in three-space"
      ]
    },
    {
      "cell_type": "markdown",
      "metadata": {
        "id": "s8eGXPufetk8"
      },
      "source": [
        "### Motions of a system of $n$ points\n"
      ]
    },
    {
      "cell_type": "markdown",
      "metadata": {
        "id": "H92qQiKmexae"
      },
      "source": [
        "### The method of similarity"
      ]
    },
    {
      "cell_type": "markdown",
      "metadata": {
        "id": "rS8xWvJwe0ze"
      },
      "source": [
        "## Lagrangian Mechanics"
      ]
    },
    {
      "cell_type": "markdown",
      "metadata": {
        "id": "vfrP_AYVe_bm"
      },
      "source": [
        "### Variational principles"
      ]
    },
    {
      "cell_type": "markdown",
      "metadata": {
        "id": "htFxJAr-fKbp"
      },
      "source": [
        "### Calculus of variations"
      ]
    },
    {
      "cell_type": "markdown",
      "metadata": {
        "id": "VL6aDv4XfMzz"
      },
      "source": [
        "### Langrange's equations"
      ]
    },
    {
      "cell_type": "markdown",
      "metadata": {
        "id": "QQbNrcOKfRZt"
      },
      "source": [
        "### Legrendre transformations"
      ]
    },
    {
      "cell_type": "markdown",
      "metadata": {
        "id": "JAiVZUFsfU1w"
      },
      "source": [
        "### Hamilton's equations"
      ]
    },
    {
      "cell_type": "markdown",
      "metadata": {
        "id": "KFVtCDfhfXuE"
      },
      "source": [
        "### Liouville's theorem"
      ]
    },
    {
      "cell_type": "markdown",
      "metadata": {
        "id": "iWgXtGCufbZQ"
      },
      "source": [
        "### Langranian mechanics on manifolds"
      ]
    },
    {
      "cell_type": "markdown",
      "metadata": {
        "id": "jK07c39CfkFr"
      },
      "source": [
        "### Holomonic constrains"
      ]
    },
    {
      "cell_type": "markdown",
      "metadata": {
        "id": "GlSPIBsVgGFD"
      },
      "source": [
        "### Differentiable manifolds"
      ]
    },
    {
      "cell_type": "markdown",
      "metadata": {
        "id": "FqevNEhsgJfY"
      },
      "source": [
        "### Langranian dynamical systems"
      ]
    },
    {
      "cell_type": "markdown",
      "metadata": {
        "id": "lq0NEVK9gMkD"
      },
      "source": [
        "### E. Nother's theorem"
      ]
    },
    {
      "cell_type": "markdown",
      "metadata": {
        "id": "J8Cu8bIpgSS7"
      },
      "source": [
        "### D'Alembert's principle"
      ]
    },
    {
      "cell_type": "markdown",
      "metadata": {
        "id": "Tk3WPP25gV7w"
      },
      "source": [
        "### Oscillations"
      ]
    },
    {
      "cell_type": "markdown",
      "metadata": {
        "id": "W3VUXJrlgY2X"
      },
      "source": [
        "### Linearization"
      ]
    },
    {
      "cell_type": "markdown",
      "metadata": {
        "id": "qQf8s-WCgodE"
      },
      "source": [
        "## Small oscillations"
      ]
    },
    {
      "cell_type": "markdown",
      "metadata": {
        "id": "ieXSoEengqwH"
      },
      "source": [
        "### Behavior of characteristic frequencies"
      ]
    },
    {
      "cell_type": "markdown",
      "metadata": {
        "id": "gG45b7PehUFT"
      },
      "source": [
        "### Parametric resonance"
      ]
    },
    {
      "cell_type": "markdown",
      "metadata": {
        "id": "jo2nnH3AhWN_"
      },
      "source": [
        "### Rigid bodies"
      ]
    },
    {
      "cell_type": "markdown",
      "metadata": {
        "id": "cEpVITi3hYG9"
      },
      "source": [
        "### Motion in a moving coordinate system"
      ]
    },
    {
      "cell_type": "markdown",
      "metadata": {
        "id": "vvYs8_JBhbmQ"
      },
      "source": [
        "### Inertial forces and the Coriolis forcer"
      ]
    },
    {
      "cell_type": "markdown",
      "metadata": {
        "id": "lepFJyE_hgMh"
      },
      "source": [
        "### Rigid bodies"
      ]
    },
    {
      "cell_type": "markdown",
      "metadata": {
        "id": "v89JO-TthiTp"
      },
      "source": [
        "### Euler's equations. Poinsot's description of the motion"
      ]
    },
    {
      "cell_type": "markdown",
      "metadata": {
        "id": "wjNrrjPDhnoM"
      },
      "source": [
        "### Langrange's top"
      ]
    },
    {
      "cell_type": "markdown",
      "metadata": {
        "id": "Ihj3cacRhqOZ"
      },
      "source": [
        "### Sleeping tops and fast tops"
      ]
    },
    {
      "cell_type": "markdown",
      "metadata": {
        "id": "m-2PZhSjh1u-"
      },
      "source": [
        "##  Hamiltonian Mechanics"
      ]
    },
    {
      "cell_type": "markdown",
      "metadata": {
        "id": "Yj56I7dSh3tr"
      },
      "source": [
        "## Differential forms"
      ]
    },
    {
      "cell_type": "markdown",
      "metadata": {
        "id": "ArPXr03uh6sU"
      },
      "source": [
        "### Exterior forms"
      ]
    },
    {
      "cell_type": "markdown",
      "metadata": {
        "id": "EAnsPp51iAOM"
      },
      "source": [
        "### Exterior multiplication"
      ]
    },
    {
      "cell_type": "markdown",
      "metadata": {
        "id": "tla49xYuiESU"
      },
      "source": [
        "### Differential forms"
      ]
    },
    {
      "cell_type": "markdown",
      "metadata": {
        "id": "VPIPWw15iHH6"
      },
      "source": [
        "### Integration of differential forms"
      ]
    },
    {
      "cell_type": "markdown",
      "metadata": {
        "id": "dL_fO8lciJog"
      },
      "source": [
        "### Exterior differentiation"
      ]
    },
    {
      "cell_type": "markdown",
      "metadata": {
        "id": "kiH1leYgiNAS"
      },
      "source": [
        "### Sympletic manifolds"
      ]
    },
    {
      "cell_type": "markdown",
      "metadata": {
        "id": "Av0Zh-R7iQQz"
      },
      "source": [
        "### Sympletic structures on manifolds"
      ]
    },
    {
      "cell_type": "markdown",
      "metadata": {
        "id": "CV1jhuh6iT84"
      },
      "source": [
        "### Hamiltonian phase flows and their integral invariants"
      ]
    },
    {
      "cell_type": "markdown",
      "metadata": {
        "id": "CeDvx720iY7V"
      },
      "source": [
        "### The Lie algebra of vector fields"
      ]
    },
    {
      "cell_type": "markdown",
      "metadata": {
        "id": "6fJOVWX8icE1"
      },
      "source": [
        "### The Lie algebra of hamiltonian functions"
      ]
    },
    {
      "cell_type": "markdown",
      "metadata": {
        "id": "YR5RKGKLihs8"
      },
      "source": [
        "### Sympletic geometry"
      ]
    },
    {
      "cell_type": "markdown",
      "metadata": {
        "id": "F0aqDYcIimVP"
      },
      "source": [
        "### Parametric resonance in systems with many degrees of freedom"
      ]
    },
    {
      "cell_type": "markdown",
      "metadata": {
        "id": "jpXZO7qFis70"
      },
      "source": [
        "### A sympletic atlas"
      ]
    },
    {
      "cell_type": "markdown",
      "metadata": {
        "id": "VhnrucjYivEn"
      },
      "source": [
        "### Canonical formalism"
      ]
    },
    {
      "cell_type": "markdown",
      "metadata": {
        "id": "5dCPWftIiw_e"
      },
      "source": [
        "### The integral invariant of Poincaré-Cartan"
      ]
    },
    {
      "cell_type": "markdown",
      "metadata": {
        "id": "JSzYeXY4i06Y"
      },
      "source": [
        "### Applications of the integral invariant of Poincaré-Cartan"
      ]
    },
    {
      "cell_type": "markdown",
      "metadata": {
        "id": "RfS1CS7si7qc"
      },
      "source": [
        "### Huygens' principle"
      ]
    },
    {
      "cell_type": "markdown",
      "metadata": {
        "id": "WVnzzT8ijHGl"
      },
      "source": [
        "### The Hamilton-Jacobi method for integrating Hamilton's canonical equations"
      ]
    },
    {
      "cell_type": "markdown",
      "metadata": {
        "id": "HgsRMzkRjUHg"
      },
      "source": [
        "### Generating functions"
      ]
    },
    {
      "cell_type": "markdown",
      "metadata": {
        "id": "4myxW9zLjWoX"
      },
      "source": [
        "### Introduction to perturbation theory"
      ]
    },
    {
      "cell_type": "markdown",
      "metadata": {
        "id": "CIEdTootjd3m"
      },
      "source": [
        "### Integrable systems"
      ]
    },
    {
      "cell_type": "markdown",
      "metadata": {
        "id": "XS9LuiGGjgqJ"
      },
      "source": [
        "### Action-angle variables"
      ]
    },
    {
      "cell_type": "markdown",
      "metadata": {
        "id": "ZL9K1qmxjkFo"
      },
      "source": [
        "#### Averaging"
      ]
    },
    {
      "cell_type": "markdown",
      "metadata": {
        "id": "vOhKSiMMjmOq"
      },
      "source": [
        "### Averaging of perturbations"
      ]
    },
    {
      "cell_type": "markdown",
      "metadata": {
        "id": "Hb_JTKZZjqEZ"
      },
      "source": [
        "## Appendices"
      ]
    },
    {
      "cell_type": "markdown",
      "metadata": {
        "id": "RaqNmzEsjs3M"
      },
      "source": [
        "### Riemannian curvature"
      ]
    },
    {
      "cell_type": "markdown",
      "metadata": {
        "id": "9t1vbwn3jv3m"
      },
      "source": [
        "### Geodesics of left-invariant metrics on Lie groups and the hydrodynamics of ideal fluids"
      ]
    },
    {
      "cell_type": "markdown",
      "metadata": {
        "id": "cAeobOC4j3xV"
      },
      "source": [
        "### Sympletic structures on algebraic manifolds"
      ]
    },
    {
      "cell_type": "markdown",
      "metadata": {
        "id": "LpaliNUfj-ij"
      },
      "source": [
        "### Contact structures"
      ]
    },
    {
      "cell_type": "markdown",
      "metadata": {
        "id": "Bwhj_9QSkKLH"
      },
      "source": [
        "### Dynamical systems with symmetries"
      ]
    },
    {
      "cell_type": "markdown",
      "metadata": {
        "id": "QU_w6Y4AkSWR"
      },
      "source": [
        "### Normal forms of quadradic hamiltonians"
      ]
    },
    {
      "cell_type": "markdown",
      "metadata": {
        "id": "k2JkgyFhkWym"
      },
      "source": [
        "### Normal forms of hamiltonian  systems near stationary points and closed trajectories"
      ]
    },
    {
      "cell_type": "markdown",
      "metadata": {
        "id": "gyrNOM7vkfFD"
      },
      "source": [
        "### Theory of perturbations of conditionally periodic motion, and Kolmogorov's theorem"
      ]
    },
    {
      "cell_type": "markdown",
      "metadata": {
        "id": "yaQDylxulmKv"
      },
      "source": [
        "### Multiplicaties of characteristic frequencies and ellipsoids depending on parameters"
      ]
    },
    {
      "cell_type": "markdown",
      "metadata": {
        "id": "dQagR1vAls5J"
      },
      "source": [
        "### Short wave asymptotics"
      ]
    },
    {
      "cell_type": "markdown",
      "metadata": {
        "id": "l4pZzd7glxZZ"
      },
      "source": [
        "### Langrangian singularities"
      ]
    },
    {
      "cell_type": "markdown",
      "metadata": {
        "id": "7S9jbM0gl1ye"
      },
      "source": [
        "### The Korteweg-de Vries equations"
      ]
    },
    {
      "cell_type": "markdown",
      "metadata": {
        "id": "2CSerYaol77A"
      },
      "source": [
        "### Poisson structures"
      ]
    },
    {
      "cell_type": "markdown",
      "metadata": {
        "id": "X0FQbSAZl_E2"
      },
      "source": [
        "### On elliptic coordinates"
      ]
    },
    {
      "cell_type": "markdown",
      "metadata": {
        "id": "tU1EDqTfmDed"
      },
      "source": [
        "### Singularities of  ray systems"
      ]
    }
  ]
}