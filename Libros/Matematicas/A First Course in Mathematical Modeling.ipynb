{
 "cells": [
  {
   "cell_type": "markdown",
   "metadata": {},
   "source": [
    "1. Modeling Change\n",
    "2. The Modeling Process, Proportionality, and Geometric Similarity\n",
    "3. Model Fitting\n",
    "4. Experimental Modeling\n",
    "5. Simulation Modeling\n",
    "6. Discrete Probabilistic Modeling\n",
    "7. Optimization of Discrete Models\n",
    "8. Modeling Using Graph Theory\n",
    "9. Modeling with Decision Theory\n",
    "10. Game Theory\n",
    "11. Modeling with a Differential Equation\n",
    "12. Modeling with Systems of Differential Equations\n",
    "13. Optimization of Continous Models\n",
    "14. Dimensional Analysis and Similitude\n",
    "15. Graphs of Functions as Models "
   ]
  }
 ],
 "metadata": {
  "kernelspec": {
   "display_name": "Python 2.7.18 64-bit",
   "name": "python2718jvsc74a57bd0f92b2924b84ff19c1c3dc485f7644d4486f64738191026bf8e6de303969141b5"
  },
  "language_info": {
   "name": "python",
   "version": ""
  },
  "metadata": {
   "interpreter": {
    "hash": "f92b2924b84ff19c1c3dc485f7644d4486f64738191026bf8e6de303969141b5"
   }
  },
  "orig_nbformat": 2
 },
 "nbformat": 4,
 "nbformat_minor": 2
}