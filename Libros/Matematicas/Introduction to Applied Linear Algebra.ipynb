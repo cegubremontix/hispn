{
 "cells": [
  {
   "cell_type": "markdown",
   "metadata": {},
   "source": [
    "1. Vectors\n",
    "2. Linear functions\n",
    "3. Norm and distance\n",
    "4. Clustering\n",
    "5. Linear independence\n",
    "6. Matrices\n",
    "7. Matrix examples\n",
    "8. Linear equations\n",
    "9. Linear dynamical systems\n",
    "10. Matrix multiplication\n",
    "11. Matrix inverses\n",
    "12. Least squares\n",
    "13. Least squares data fitting\n",
    "14. Least squares classification\n",
    "15. Multi-objective least squares\n",
    "16. Constrained least squares\n",
    "17. Constrained least squares applications\n",
    "18. Nonlinear least squares\n",
    "19. Constrained nonlinear least squares"
   ]
  }
 ],
 "metadata": {
  "kernelspec": {
   "display_name": "Python 2.7.18 64-bit",
   "name": "python2718jvsc74a57bd0f92b2924b84ff19c1c3dc485f7644d4486f64738191026bf8e6de303969141b5"
  },
  "language_info": {
   "name": "python",
   "version": ""
  },
  "metadata": {
   "interpreter": {
    "hash": "f92b2924b84ff19c1c3dc485f7644d4486f64738191026bf8e6de303969141b5"
   }
  },
  "orig_nbformat": 2
 },
 "nbformat": 4,
 "nbformat_minor": 2
}