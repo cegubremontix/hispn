{
  "nbformat": 4,
  "nbformat_minor": 0,
  "metadata": {
    "colab": {
      "name": "Mathematics: Its Content, Methods and Meaning.ipynb",
      "provenance": [],
      "toc_visible": true,
      "authorship_tag": "ABX9TyMvobWFuRyD7fcaSy9/Kmc2",
      "include_colab_link": true
    },
    "kernelspec": {
      "name": "python3",
      "display_name": "Python 3"
    },
    "language_info": {
      "name": "python"
    }
  },
  "cells": [
    {
      "cell_type": "markdown",
      "metadata": {
        "id": "view-in-github",
        "colab_type": "text"
      },
      "source": [
        "<a href=\"https://colab.research.google.com/github/dbremont/Notas/blob/main/Libros/Matematicas/Mathematics_Its_Content%2C_Methods_and_Meaning.ipynb\" target=\"_parent\"><img src=\"https://colab.research.google.com/assets/colab-badge.svg\" alt=\"Open In Colab\"/></a>"
      ]
    },
    {
      "cell_type": "markdown",
      "metadata": {
        "id": "DvDnJKxpE2t8"
      },
      "source": [
        "Mathematics: Its Content, Methods and Meaning"
      ]
    },
    {
      "cell_type": "markdown",
      "metadata": {
        "id": "5urC6pXaE3IP"
      },
      "source": [
        "## A General View of Mathematics"
      ]
    },
    {
      "cell_type": "markdown",
      "metadata": {
        "id": "6HwiqyIdE8Bc"
      },
      "source": [
        "### The Characteristic Features of Mathematics"
      ]
    },
    {
      "cell_type": "markdown",
      "metadata": {
        "id": "Y1ovzyI5E_z2"
      },
      "source": [
        "### Arithmetic"
      ]
    },
    {
      "cell_type": "markdown",
      "metadata": {
        "id": "KCumlOzNFCCz"
      },
      "source": [
        "### Geometry"
      ]
    },
    {
      "cell_type": "markdown",
      "metadata": {
        "id": "j9NO3R6KFDAJ"
      },
      "source": [
        "### Arithmetic and Geometry"
      ]
    },
    {
      "cell_type": "markdown",
      "metadata": {
        "id": "MAlQwUpNFHwG"
      },
      "source": [
        "### The Age of Elementary Mathematics"
      ]
    },
    {
      "cell_type": "markdown",
      "metadata": {
        "id": "DVQxOP4KFKi3"
      },
      "source": [
        "### Mathematics of Variables Magnitudes"
      ]
    },
    {
      "cell_type": "markdown",
      "metadata": {
        "id": "iIjrAI1rFPnP"
      },
      "source": [
        "### Contemporary Mathematics"
      ]
    },
    {
      "cell_type": "markdown",
      "metadata": {
        "id": "GiRDfHgpFkQN"
      },
      "source": [
        "## Analysis"
      ]
    },
    {
      "cell_type": "markdown",
      "metadata": {
        "id": "kzRxSBVXF0H1"
      },
      "source": [
        "### Introduction"
      ]
    },
    {
      "cell_type": "markdown",
      "metadata": {
        "id": "mrzS87KPF1s9"
      },
      "source": [
        "### Function"
      ]
    },
    {
      "cell_type": "markdown",
      "metadata": {
        "id": "jbVP_IXjF3ZN"
      },
      "source": [
        "### Limits"
      ]
    },
    {
      "cell_type": "markdown",
      "metadata": {
        "id": "PryeEgraF5HH"
      },
      "source": [
        "### Continous Functions"
      ]
    },
    {
      "cell_type": "markdown",
      "metadata": {
        "id": "62dlsou9F9WN"
      },
      "source": [
        "### Derivative"
      ]
    },
    {
      "cell_type": "markdown",
      "metadata": {
        "id": "PfuUJaJKGL6M"
      },
      "source": [
        "### Rules of Differentiation"
      ]
    },
    {
      "cell_type": "markdown",
      "metadata": {
        "id": "b12rOX3DGQ3Q"
      },
      "source": [
        "### Maximum and Minimum: Investigation of the Graphs of Functions"
      ]
    },
    {
      "cell_type": "markdown",
      "metadata": {
        "id": "ERt7yrYzGWRa"
      },
      "source": [
        "### Increment and Differential of a Function"
      ]
    },
    {
      "cell_type": "markdown",
      "metadata": {
        "id": "V9cd5cOkGa2R"
      },
      "source": [
        "### Taylor's Formula"
      ]
    },
    {
      "cell_type": "markdown",
      "metadata": {
        "id": "nfYKzJH4GeLX"
      },
      "source": [
        "### Integral"
      ]
    },
    {
      "cell_type": "markdown",
      "metadata": {
        "id": "NzM2rmVGGgPT"
      },
      "source": [
        "### Indefinite Integrals; the Technique of Integration"
      ]
    },
    {
      "cell_type": "markdown",
      "metadata": {
        "id": "suPKyTFOGlxT"
      },
      "source": [
        "### Functions of Several Variables"
      ]
    },
    {
      "cell_type": "markdown",
      "metadata": {
        "id": "SahBh80MGocq"
      },
      "source": [
        "### Generalizations of the Concept of Integral"
      ]
    },
    {
      "cell_type": "markdown",
      "metadata": {
        "id": "ynXx2TPcGtrz"
      },
      "source": [
        "### Series"
      ]
    },
    {
      "cell_type": "markdown",
      "metadata": {
        "id": "cOQyMgakGvkP"
      },
      "source": [
        "## Analytic Geometry"
      ]
    },
    {
      "cell_type": "markdown",
      "metadata": {
        "id": "yy9yjOwvG0pO"
      },
      "source": [
        "### Introduction"
      ]
    },
    {
      "cell_type": "markdown",
      "metadata": {
        "id": "CSn6Ns6QHMGb"
      },
      "source": [
        "### Descarte's Two Fundamentals Concepts"
      ]
    },
    {
      "cell_type": "markdown",
      "metadata": {
        "id": "4AK3Ah9hHQvH"
      },
      "source": [
        "### Elemenatry Problems"
      ]
    },
    {
      "cell_type": "markdown",
      "metadata": {
        "id": "t2K-sxY3HS28"
      },
      "source": [
        "### Discussion of Curves Represented by First-and Second-Degree Equations"
      ]
    },
    {
      "cell_type": "markdown",
      "metadata": {
        "id": "ZMXgxGllH6YJ"
      },
      "source": [
        "### Descarte's Method of Solving Thirdand Fourth-Degree Algebraic Equations"
      ]
    },
    {
      "cell_type": "markdown",
      "metadata": {
        "id": "gfQ4aVISII34"
      },
      "source": [
        "### Newton's General Theory of Diameters"
      ]
    },
    {
      "cell_type": "markdown",
      "metadata": {
        "id": "vGpFjaP7IvG2"
      },
      "source": [
        "### Ellipse, Hyperbola, and Parabola"
      ]
    },
    {
      "cell_type": "markdown",
      "metadata": {
        "id": "fKnwpyukIzF6"
      },
      "source": [
        "### The Reduction of the General Second-Degree Equation to Canonical Form"
      ]
    },
    {
      "cell_type": "markdown",
      "metadata": {
        "id": "njbDLvkNJRlV"
      },
      "source": [
        "### The Representation of Forces, Velocities, and Accelarations by Triples of Number; Theory of Vector"
      ]
    },
    {
      "cell_type": "markdown",
      "metadata": {
        "id": "tyTYNb_RJahW"
      },
      "source": [
        "### Analytic Geometry in Space: Equations of a Surface in Space and Equations of a Curve"
      ]
    },
    {
      "cell_type": "markdown",
      "metadata": {
        "id": "Ph8QUYoSLOgn"
      },
      "source": [
        "### A fine and Orthogonal Transformations"
      ]
    },
    {
      "cell_type": "markdown",
      "metadata": {
        "id": "GVVzJXxdLbTc"
      },
      "source": [
        "### Theory of Invariants"
      ]
    },
    {
      "cell_type": "markdown",
      "metadata": {
        "id": "xexGk9bbLd-l"
      },
      "source": [
        "### Projective Geometry"
      ]
    },
    {
      "cell_type": "markdown",
      "metadata": {
        "id": "2w7ovYzBLirK"
      },
      "source": [
        "### Lorentz Transformations"
      ]
    },
    {
      "cell_type": "markdown",
      "metadata": {
        "id": "rD9piwyPLoUj"
      },
      "source": [
        "## Algebra: Theory of Algebraic Equations"
      ]
    },
    {
      "cell_type": "markdown",
      "metadata": {
        "id": "KCs9M-UWLuTg"
      },
      "source": [
        "### Introduction"
      ]
    },
    {
      "cell_type": "markdown",
      "metadata": {
        "id": "yO0_thlBMrPE"
      },
      "source": [
        "### Algebraic Solution of an Equation"
      ]
    },
    {
      "cell_type": "markdown",
      "metadata": {
        "id": "IZc5p7DaMu4P"
      },
      "source": [
        "### The Fundamental Theory of Algebra"
      ]
    },
    {
      "cell_type": "markdown",
      "metadata": {
        "id": "6CSSooFKMyNt"
      },
      "source": [
        "### Investigation of the Distribution of the Roots of a Polynomial on the Complex Plan"
      ]
    },
    {
      "cell_type": "markdown",
      "metadata": {
        "id": "Fv-iiNGiM4E5"
      },
      "source": [
        "### Approximate Calculation of Roots"
      ]
    },
    {
      "cell_type": "markdown",
      "metadata": {
        "id": "vdvBIszaMmtA"
      },
      "source": [
        "## Ordinary Differential Equations"
      ]
    },
    {
      "cell_type": "markdown",
      "metadata": {
        "id": "S5o_yifdMps1"
      },
      "source": [
        "### Introduction"
      ]
    },
    {
      "cell_type": "markdown",
      "metadata": {
        "id": "pyHsAN2CLxfJ"
      },
      "source": [
        "### Linear Differential Equations with Constant Coefficients"
      ]
    },
    {
      "cell_type": "markdown",
      "metadata": {
        "id": "93UhyTK3L44I"
      },
      "source": [
        "### Some General Remarks on the Formation and Solution of Differential Equations"
      ]
    },
    {
      "cell_type": "markdown",
      "metadata": {
        "id": "iXg6mnt0L_L9"
      },
      "source": [
        "### Geometric Interpretation of the Problem of Integration Differential Equations; Generalization of the Problem"
      ]
    },
    {
      "cell_type": "markdown",
      "metadata": {
        "id": "Bo6uYQqsMMh7"
      },
      "source": [
        "### Existence and Uniqueness of the Solution of a Differential Equation; Approximate Solution of Equations"
      ]
    },
    {
      "cell_type": "markdown",
      "metadata": {
        "id": "lvQI2jrAMY32"
      },
      "source": [
        "### Singular Points"
      ]
    },
    {
      "cell_type": "markdown",
      "metadata": {
        "id": "pketU4ApMahY"
      },
      "source": [
        "### Qualitative Theory of Ordinary Differential Equations"
      ]
    },
    {
      "cell_type": "markdown",
      "metadata": {
        "id": "Cl84WqwCMfaq"
      },
      "source": [
        "## Partial Differential Equations"
      ]
    },
    {
      "cell_type": "markdown",
      "metadata": {
        "id": "WZ31qMIpM_1K"
      },
      "source": [
        "### Introduction"
      ]
    },
    {
      "cell_type": "markdown",
      "metadata": {
        "id": "Yq3TT-U5NCNh"
      },
      "source": [
        "### The Simplest Equations of Mathematical Physics"
      ]
    },
    {
      "cell_type": "markdown",
      "metadata": {
        "id": "6aV-0-lyNG-8"
      },
      "source": [
        "### Initial-Value and Boundary-Value Problems; Uniqueness of a Solution"
      ]
    },
    {
      "cell_type": "markdown",
      "metadata": {
        "id": "fLNnkyBVNNLC"
      },
      "source": [
        "### The Propagation of Waves"
      ]
    },
    {
      "cell_type": "markdown",
      "metadata": {
        "id": "hQ9tUOg4NRXx"
      },
      "source": [
        "### Methods of Constructing Solutions"
      ]
    },
    {
      "cell_type": "markdown",
      "metadata": {
        "id": "dUG4mxU1NT7y"
      },
      "source": [
        "### Generalized Solutions"
      ]
    },
    {
      "cell_type": "markdown",
      "metadata": {
        "id": "hG4RTaVjNXZG"
      },
      "source": [
        "## Curves and Surfaces"
      ]
    },
    {
      "cell_type": "markdown",
      "metadata": {
        "id": "XIBjwiSANaPU"
      },
      "source": [
        "### Topics and Methods in the Theory of Curves and Surfaces"
      ]
    },
    {
      "cell_type": "markdown",
      "metadata": {
        "id": "Q8ipa1OCNvmr"
      },
      "source": [
        "### The Theory of Curves"
      ]
    },
    {
      "cell_type": "markdown",
      "metadata": {
        "id": "6XeKPPj_NyD0"
      },
      "source": [
        "### Basic Concepts in the Theory of Surfaces"
      ]
    },
    {
      "cell_type": "markdown",
      "metadata": {
        "id": "MsPWKps4N1UA"
      },
      "source": [
        "### Intrinsic Geometry and Deformation of Surfaces"
      ]
    },
    {
      "cell_type": "markdown",
      "metadata": {
        "id": "GS_jZ_GEN5OH"
      },
      "source": [
        "### New Development in the Theory of Curves and Surfaces"
      ]
    },
    {
      "cell_type": "markdown",
      "metadata": {
        "id": "LouhBBpLN_D5"
      },
      "source": [
        "## The Calculus of Variations"
      ]
    },
    {
      "cell_type": "markdown",
      "metadata": {
        "id": "0om82VJwOENn"
      },
      "source": [
        "### Introduction"
      ]
    },
    {
      "cell_type": "markdown",
      "metadata": {
        "id": "30UOKvsxOH8u"
      },
      "source": [
        "### The Differential Equations  of the Calculus of Variations"
      ]
    },
    {
      "cell_type": "markdown",
      "metadata": {
        "id": "5E-bcREBONTM"
      },
      "source": [
        "### Methods of Approximate Solution of Problems in the Calculus of Variations"
      ]
    },
    {
      "cell_type": "markdown",
      "metadata": {
        "id": "2gi2Vwd-OTfK"
      },
      "source": [
        "## Functions of a Complex Variable"
      ]
    },
    {
      "cell_type": "markdown",
      "metadata": {
        "id": "P5IhprvjO-qW"
      },
      "source": [
        "### Complex Numbers and Functions of a Complex Variable"
      ]
    },
    {
      "cell_type": "markdown",
      "metadata": {
        "id": "bbqrIMDkPE3S"
      },
      "source": [
        "### The Connection Between Functions of a Complex Variable and the Problems of Mathematical Physics"
      ]
    },
    {
      "cell_type": "markdown",
      "metadata": {
        "id": "xhuUQZchPNmm"
      },
      "source": [
        "### The Connection Between Functions of a Complex Variable with Geometry"
      ]
    },
    {
      "cell_type": "markdown",
      "metadata": {
        "id": "lDOg3yzGPYit"
      },
      "source": [
        "### The Line Integral: Cauchy's Formula and Its Corollaries"
      ]
    },
    {
      "cell_type": "markdown",
      "metadata": {
        "id": "Fh_h0MwiPeCu"
      },
      "source": [
        "### Uniqueness Properties and Analytic Continuation"
      ]
    },
    {
      "cell_type": "markdown",
      "metadata": {
        "id": "tmEYDk3SP36W"
      },
      "source": [
        "## Prime Numbers"
      ]
    },
    {
      "cell_type": "markdown",
      "metadata": {
        "id": "uJqMzyggP5XV"
      },
      "source": [
        "### The Study of the Theory of Numbers"
      ]
    },
    {
      "cell_type": "markdown",
      "metadata": {
        "id": "WOiFF3RUP84k"
      },
      "source": [
        "### The Investigations of Problems Concerning Prime Numbers"
      ]
    },
    {
      "cell_type": "markdown",
      "metadata": {
        "id": "6VClIvliQCU1"
      },
      "source": [
        "### Cebysev Method"
      ]
    },
    {
      "cell_type": "markdown",
      "metadata": {
        "id": "D4sxDRfKQFzk"
      },
      "source": [
        "### Vinogradov's Method"
      ]
    },
    {
      "cell_type": "markdown",
      "metadata": {
        "id": "woqHJexqQINW"
      },
      "source": [
        "### Decomposition of Integers into the Sum of Two Squares: complex Integers"
      ]
    },
    {
      "cell_type": "markdown",
      "metadata": {
        "id": "1FsZu0FcQPfN"
      },
      "source": [
        "## The Theory of Probability"
      ]
    },
    {
      "cell_type": "markdown",
      "metadata": {
        "id": "p15L9bAPQYb3"
      },
      "source": [
        "### The Laws of Probability"
      ]
    },
    {
      "cell_type": "markdown",
      "metadata": {
        "id": "G2dsvtpgQbso"
      },
      "source": [
        "### The Axioms and Basic Formulas of the Elementary Theory of Probability"
      ]
    },
    {
      "cell_type": "markdown",
      "metadata": {
        "id": "NiRmXHLEQhqH"
      },
      "source": [
        "### The Law of Large Numbers and Limit Theorems"
      ]
    },
    {
      "cell_type": "markdown",
      "metadata": {
        "id": "q8nd1G4qQn_e"
      },
      "source": [
        "### Further Remarks  on the Basic Concepts of the Theory of Probability"
      ]
    },
    {
      "cell_type": "markdown",
      "metadata": {
        "id": "NDIs_BQGQuYd"
      },
      "source": [
        "###  Deterministic and Random Processes"
      ]
    },
    {
      "cell_type": "markdown",
      "metadata": {
        "id": "yTvFNE3KQ2I9"
      },
      "source": [
        "### Random Processes of Markov Type"
      ]
    },
    {
      "cell_type": "markdown",
      "metadata": {
        "id": "-0GGUXf3Q7g7"
      },
      "source": [
        "## Approximations of Functions"
      ]
    },
    {
      "cell_type": "markdown",
      "metadata": {
        "id": "feTI9jmHQ_Zj"
      },
      "source": [
        "### Introduction"
      ]
    },
    {
      "cell_type": "markdown",
      "metadata": {
        "id": "jAd8FmcrSI9_"
      },
      "source": [
        "### Interpolation Polynomials"
      ]
    },
    {
      "cell_type": "markdown",
      "metadata": {
        "id": "aD6h4Yz7SQD0"
      },
      "source": [
        "### Approximation of Definite Integrals"
      ]
    },
    {
      "cell_type": "markdown",
      "metadata": {
        "id": "T5_39weASUpc"
      },
      "source": [
        "### The Cebysev Concept of Best Uniform Approximation"
      ]
    },
    {
      "cell_type": "markdown",
      "metadata": {
        "id": "RfJkMeJ3SkCA"
      },
      "source": [
        "### The Theorem of Weirtrass; the Best Approximation to a Function as Related to Its Properties of Differentiability"
      ]
    },
    {
      "cell_type": "markdown",
      "metadata": {
        "id": "G9c1Zyg1SuR6"
      },
      "source": [
        "### Fourier Series"
      ]
    },
    {
      "cell_type": "markdown",
      "metadata": {
        "id": "P_E22c4mSv7s"
      },
      "source": [
        "### Approximation in the Sense of the Mean Square"
      ]
    },
    {
      "cell_type": "markdown",
      "metadata": {
        "id": "2zn4F-66S2kk"
      },
      "source": [
        "## Approximation Methods and Computing Techniques"
      ]
    },
    {
      "cell_type": "markdown",
      "metadata": {
        "id": "jk7UT6OtTQky"
      },
      "source": [
        "### Approximation and Numerical Methods"
      ]
    },
    {
      "cell_type": "markdown",
      "metadata": {
        "id": "LWPlwb5HTemS"
      },
      "source": [
        "### The Simplest Auxiliary Means of Computation"
      ]
    },
    {
      "cell_type": "markdown",
      "metadata": {
        "id": "UbXaDvi2TpPi"
      },
      "source": [
        "## Electronic Computing Machines"
      ]
    },
    {
      "cell_type": "markdown",
      "metadata": {
        "id": "EDLn8_lVTvXy"
      },
      "source": [
        "### Purposes  and Basic Principles of the Operation of Electronic Computers"
      ]
    },
    {
      "cell_type": "markdown",
      "metadata": {
        "id": "wkeRn-34T_Gi"
      },
      "source": [
        "### Programming and Codign for High-Speed Electronic Machines"
      ]
    },
    {
      "cell_type": "markdown",
      "metadata": {
        "id": "EZkIiN6LUHj_"
      },
      "source": [
        "### Technical Principles of the Various Units of a High-Speed Computing Machine"
      ]
    },
    {
      "cell_type": "markdown",
      "metadata": {
        "id": "mayrUa4PUQTu"
      },
      "source": [
        "### Prospects for the Development and Use of Electronic Computing Machines"
      ]
    },
    {
      "cell_type": "markdown",
      "metadata": {
        "id": "Q8b4H3aAUgr_"
      },
      "source": [
        "## Theory of Functions of a Real Variable"
      ]
    },
    {
      "cell_type": "markdown",
      "metadata": {
        "id": "s0GmTDu6UmvN"
      },
      "source": [
        "### Introduction"
      ]
    },
    {
      "cell_type": "markdown",
      "metadata": {
        "id": "9_rZ00sTUoZM"
      },
      "source": [
        "### Sets"
      ]
    },
    {
      "cell_type": "markdown",
      "metadata": {
        "id": "uQczQwWiUpl0"
      },
      "source": [
        "### Real Numbers"
      ]
    },
    {
      "cell_type": "markdown",
      "metadata": {
        "id": "UscW1NChUrCK"
      },
      "source": [
        "### Point Sets"
      ]
    },
    {
      "cell_type": "markdown",
      "metadata": {
        "id": "NZEwtgvNUvQR"
      },
      "source": [
        "### Measure of Sets"
      ]
    },
    {
      "cell_type": "markdown",
      "metadata": {
        "id": "6MV6RXh-Ux6C"
      },
      "source": [
        "### The Lebesgue Integral"
      ]
    },
    {
      "cell_type": "markdown",
      "metadata": {
        "id": "fkgNPbuuU2ap"
      },
      "source": [
        "## Linear Algebra"
      ]
    },
    {
      "cell_type": "markdown",
      "metadata": {
        "id": "fr5dkoSZU8W_"
      },
      "source": [
        "### The Scope of Linear Algebra and Its Apparatus"
      ]
    },
    {
      "cell_type": "markdown",
      "metadata": {
        "id": "DBkpqQZ-VCcA"
      },
      "source": [
        "### Linear Spaces"
      ]
    },
    {
      "cell_type": "markdown",
      "metadata": {
        "id": "bN9c-nBhVEg_"
      },
      "source": [
        "### Systems of Linear Equations"
      ]
    },
    {
      "cell_type": "markdown",
      "metadata": {
        "id": "nOVAMdrVVG-_"
      },
      "source": [
        "### Linear Transformations"
      ]
    },
    {
      "cell_type": "markdown",
      "metadata": {
        "id": "7U_pn-ldVJdO"
      },
      "source": [
        "### Quadratic Forms"
      ]
    },
    {
      "cell_type": "markdown",
      "metadata": {
        "id": "YEJDLhevVLoB"
      },
      "source": [
        "### Functions of Matrices and Some of Their Applications"
      ]
    },
    {
      "cell_type": "markdown",
      "metadata": {
        "id": "xYji1sm1VSM4"
      },
      "source": [
        "## Non-Euclidean Geometry"
      ]
    },
    {
      "cell_type": "markdown",
      "metadata": {
        "id": "6u7SQVc_VVPz"
      },
      "source": [
        "### History of Euclid's Postulate"
      ]
    },
    {
      "cell_type": "markdown",
      "metadata": {
        "id": "TQqzQHXkVZIT"
      },
      "source": [
        "### The Solution of Lobaceskii"
      ]
    },
    {
      "cell_type": "markdown",
      "metadata": {
        "id": "CJYlaQALVcpA"
      },
      "source": [
        "### Lobaceskii Geometry"
      ]
    },
    {
      "cell_type": "markdown",
      "metadata": {
        "id": "iBsm3Hl1VjDd"
      },
      "source": [
        "### The Real Meaning of Lobaceskii Geometry"
      ]
    },
    {
      "cell_type": "markdown",
      "metadata": {
        "id": "sP7hs4NfVpxa"
      },
      "source": [
        "### The Axioms of Geometry; Their Verification in the Present Case"
      ]
    },
    {
      "cell_type": "markdown",
      "metadata": {
        "id": "BdcZhl_hVwr5"
      },
      "source": [
        "### Separation of Independent Geometric Theories from Euclidean Geometry"
      ]
    },
    {
      "cell_type": "markdown",
      "metadata": {
        "id": "6eSv1RdlV3T5"
      },
      "source": [
        "### Many-Dimensional Spaces"
      ]
    },
    {
      "cell_type": "markdown",
      "metadata": {
        "id": "MRdOEPfeV7Ya"
      },
      "source": [
        "### Generalization of the Scope of Geometry"
      ]
    },
    {
      "cell_type": "markdown",
      "metadata": {
        "id": "6xxuUPmVV_ke"
      },
      "source": [
        "### Riemannian Geometry"
      ]
    },
    {
      "cell_type": "markdown",
      "metadata": {
        "id": "0Dnm25LMWISL"
      },
      "source": [
        "### Abstract Geometry and the Real Space"
      ]
    },
    {
      "cell_type": "markdown",
      "metadata": {
        "id": "0gSLffykWL89"
      },
      "source": [
        "## Topology"
      ]
    },
    {
      "cell_type": "markdown",
      "metadata": {
        "id": "WIc6h_EmWOlq"
      },
      "source": [
        "### The Object of Topology"
      ]
    },
    {
      "cell_type": "markdown",
      "metadata": {
        "id": "KLvQN6oNWSVl"
      },
      "source": [
        "### Surfaces"
      ]
    },
    {
      "cell_type": "markdown",
      "metadata": {
        "id": "TVLmpoONWT3n"
      },
      "source": [
        "### Manifolds"
      ]
    },
    {
      "cell_type": "markdown",
      "metadata": {
        "id": "0XwQMWXuWVZa"
      },
      "source": [
        "### The Combinatorial Method"
      ]
    },
    {
      "cell_type": "markdown",
      "metadata": {
        "id": "HPqkj8_VWZIl"
      },
      "source": [
        "### Vector Fields"
      ]
    },
    {
      "cell_type": "markdown",
      "metadata": {
        "id": "AXBHX0NgWcnw"
      },
      "source": [
        "### The Development of Topology"
      ]
    },
    {
      "cell_type": "markdown",
      "metadata": {
        "id": "1znR7qxxWgwf"
      },
      "source": [
        "### Metric and Topological Spaces"
      ]
    },
    {
      "cell_type": "markdown",
      "metadata": {
        "id": "7wdGtwhZWltg"
      },
      "source": [
        "## Functional Analysis"
      ]
    },
    {
      "cell_type": "markdown",
      "metadata": {
        "id": "JLlXCWaTWoFk"
      },
      "source": [
        "### n-Dimensional Space"
      ]
    },
    {
      "cell_type": "markdown",
      "metadata": {
        "id": "Q_fPtq1dXFVj"
      },
      "source": [
        "### Hilbert Space (Infinite-Dimensional Space)"
      ]
    },
    {
      "cell_type": "markdown",
      "metadata": {
        "id": "MnlFOgQGXkau"
      },
      "source": [
        "### Expansion by Orthogonal Systems of Functions"
      ]
    },
    {
      "cell_type": "markdown",
      "metadata": {
        "id": "2LtwS89LXqUa"
      },
      "source": [
        "### Integral Equations"
      ]
    },
    {
      "cell_type": "markdown",
      "metadata": {
        "id": "GliODJseXyud"
      },
      "source": [
        "### Linear Operators and Further"
      ]
    },
    {
      "cell_type": "markdown",
      "metadata": {
        "id": "7rxQau29X4Df"
      },
      "source": [
        "### Development of Functional Analysis"
      ]
    },
    {
      "cell_type": "markdown",
      "metadata": {
        "id": "aCtyhXNmX_jJ"
      },
      "source": [
        "## Groups and Other Algebraic Systems"
      ]
    },
    {
      "cell_type": "markdown",
      "metadata": {
        "id": "Uc7vrqO_YCs4"
      },
      "source": [
        "### Introduction"
      ]
    },
    {
      "cell_type": "markdown",
      "metadata": {
        "id": "PoMHh1UIYEYv"
      },
      "source": [
        "### Symmetry and Transformation"
      ]
    },
    {
      "cell_type": "markdown",
      "metadata": {
        "id": "2_waK-cRYHcm"
      },
      "source": [
        "### Groups of Transformations"
      ]
    },
    {
      "cell_type": "markdown",
      "metadata": {
        "id": "7wZhPDqNYKuV"
      },
      "source": [
        "### Fedorov Groups (Crystallographic Groups)"
      ]
    },
    {
      "cell_type": "markdown",
      "metadata": {
        "id": "h_ZS0xGXYXzC"
      },
      "source": [
        "### Galois Groups"
      ]
    },
    {
      "cell_type": "markdown",
      "metadata": {
        "id": "RTEMUUpPYau1"
      },
      "source": [
        "### Fundamental Concepts of the General Theory of Groups"
      ]
    },
    {
      "cell_type": "markdown",
      "metadata": {
        "id": "IVXNEaloYyCa"
      },
      "source": [
        "### Continous Groups"
      ]
    },
    {
      "cell_type": "markdown",
      "metadata": {
        "id": "poYxMBpbY3_F"
      },
      "source": [
        "### Representations and Character of Groups"
      ]
    },
    {
      "cell_type": "markdown",
      "metadata": {
        "id": "BUB4KkAwZarw"
      },
      "source": [
        "### The General Theory of Groups"
      ]
    },
    {
      "cell_type": "markdown",
      "metadata": {
        "id": "aI8CfYLtZepO"
      },
      "source": [
        "### Hypercomplex Numbers"
      ]
    },
    {
      "cell_type": "markdown",
      "metadata": {
        "id": "0h-7NhLrZi7y"
      },
      "source": [
        "### Associative Algebras"
      ]
    },
    {
      "cell_type": "markdown",
      "metadata": {
        "id": "FnKjYCD6ZoyC"
      },
      "source": [
        "### Lie Algebras"
      ]
    },
    {
      "cell_type": "markdown",
      "metadata": {
        "id": "PldvIOhzZq7u"
      },
      "source": [
        "### Rings"
      ]
    },
    {
      "cell_type": "markdown",
      "metadata": {
        "id": "VDzruJkOZtFV"
      },
      "source": [
        "### Lattices"
      ]
    },
    {
      "cell_type": "markdown",
      "metadata": {
        "id": "awLHMI8sZs7d"
      },
      "source": [
        "### Other Algebraic Systems"
      ]
    }
  ]
}