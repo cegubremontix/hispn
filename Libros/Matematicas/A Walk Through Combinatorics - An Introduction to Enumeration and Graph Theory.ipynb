{
 "cells": [
  {
   "cell_type": "markdown",
   "metadata": {},
   "source": [
    "Basic Methods\n",
    " 1. Seven is more than six. The Pingeon-Hole Principle\n",
    " 2. One Step at a Time. The Method of Mathematical Induction\n",
    "\n",
    "Enumerative Combinatorics\n",
    " 3. There Are a Lot Of Them. Elementary Counting Problems\n",
    " 4. No Matter How You Slice It. The Binomial Theorem and Related Identities\n",
    " 5. Divide and Conquer. Partitions\n",
    " 6. Not So Vicious Cycles. Cycles in Permutations\n",
    " 7. You Shall Not Overcount. The Sieve\n",
    " 8. A Function Is Worth Many Numbers. Generating Functions\n",
    "\n",
    "Graph Theory\n",
    "\n",
    " 9. Dots and Lines. The Origins of Graph Theory\n",
    " 10. Staying Connected. Trees\n",
    " 11. Finding A Good Match. Coloring and Matching\n",
    " 12. Do Not Cross. Planar Graphs\n",
    "\n",
    "Horizons\n",
    "\n",
    " 13. Does It Clique? Ramsey Theory\n",
    " 14. So Hard To Avoid. Subsequence Conditions on Permutations\n",
    " 15. Who Knows What It Looks Like, But It Exists. The Probabilistic Method\n",
    " 16. At Least Some Order. Partial Orders and Lattices\n",
    " 17. The Sooner The Better. Combinatorial Algorithms\n",
    " 18. Does Many Mean More Than One? Computational Complexity\n"
   ]
  }
 ],
 "metadata": {
  "kernelspec": {
   "display_name": "Python 2.7.18 64-bit",
   "name": "python2718jvsc74a57bd0f92b2924b84ff19c1c3dc485f7644d4486f64738191026bf8e6de303969141b5"
  },
  "language_info": {
   "name": "python",
   "version": ""
  },
  "metadata": {
   "interpreter": {
    "hash": "f92b2924b84ff19c1c3dc485f7644d4486f64738191026bf8e6de303969141b5"
   }
  },
  "orig_nbformat": 2
 },
 "nbformat": 4,
 "nbformat_minor": 2
}