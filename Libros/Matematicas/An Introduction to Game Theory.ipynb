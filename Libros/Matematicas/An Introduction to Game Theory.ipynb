{
  "nbformat": 4,
  "nbformat_minor": 0,
  "metadata": {
    "kernelspec": {
      "display_name": "Python 2.7.18 64-bit",
      "name": "python2718jvsc74a57bd0f92b2924b84ff19c1c3dc485f7644d4486f64738191026bf8e6de303969141b5"
    },
    "language_info": {
      "name": "python",
      "version": ""
    },
    "metadata": {
      "interpreter": {
        "hash": "f92b2924b84ff19c1c3dc485f7644d4486f64738191026bf8e6de303969141b5"
      }
    },
    "orig_nbformat": 2,
    "colab": {
      "name": "An Introduction to Game Theory.ipynb",
      "provenance": [],
      "include_colab_link": true
    }
  },
  "cells": [
    {
      "cell_type": "markdown",
      "metadata": {
        "id": "view-in-github",
        "colab_type": "text"
      },
      "source": [
        "<a href=\"https://colab.research.google.com/github/dbremont/Notas/blob/main/Libros/Matematicas/An%20Introduction%20to%20Game%20Theory.ipynb\" target=\"_parent\"><img src=\"https://colab.research.google.com/assets/colab-badge.svg\" alt=\"Open In Colab\"/></a>"
      ]
    },
    {
      "cell_type": "markdown",
      "metadata": {
        "id": "QyRnN1mohTje"
      },
      "source": [
        "(F)"
      ]
    },
    {
      "cell_type": "markdown",
      "metadata": {
        "id": "Atu9umulhOjc"
      },
      "source": [
        "1. Introduction\n",
        "\n",
        "Games with Perfect Information\n",
        "\n",
        "2. Nash Equilibrium: Theory\n",
        "3. Nash Equilibrium: Illustrations\n",
        "4. Mixed Strategy Equilibrium\n",
        "5. Extensive Games with Perfect Information: Theory\n",
        "6. Extensive Games with Perfect Information: Illustrations\n",
        "7. Extensive Games with Perfect Information: Extensions and Discussion\n",
        "8. Coalitional Games and the Core\n",
        "\n",
        "Games with Imperfect Information\n",
        "\n",
        "9. Bayesian Games\n",
        "10. Extensive Games with Imperfect Information\n",
        "\n",
        "Variants and Extentions\n",
        "\n",
        "11. Stricly Competive Games and Maximizations\n",
        "12. Rationalizability\n",
        "13. Evolutionary Equilibrium\n",
        "14. Reapeted Games: The Prisoner's Dilemna\n",
        "15. Repeated Games: General Results\n",
        "16. Bargaiing\n",
        "17. Appendix: Mathematics\n"
      ]
    }
  ]
}