{
 "cells": [
  {
   "cell_type": "markdown",
   "metadata": {},
   "source": [
    "1. Number Theory\n",
    "2. Combinatorics\n",
    "3. The Fibonacci Sequence\n",
    "4. Game Theory\n",
    "5. Geometry\n",
    "6. Combinatorics Revised\n",
    "7. Chessboard Coloring\n",
    "8. Number Theory Revised\n",
    "9. Number Theory Revised Cont.\n",
    "10. Fibonacci & The Golden Mean\n",
    "11. Geometry Revised\n",
    "12. Infinity\n",
    "13. Game Theory Revised\n",
    "14. Concepts in Calculus\n",
    "15. Complex Numbers\n",
    "16. Infinity Revisited\n"
   ]
  }
 ],
 "metadata": {
  "kernelspec": {
   "display_name": "Python 2.7.18 64-bit",
   "name": "python2718jvsc74a57bd0f92b2924b84ff19c1c3dc485f7644d4486f64738191026bf8e6de303969141b5"
  },
  "language_info": {
   "name": "python",
   "version": ""
  },
  "metadata": {
   "interpreter": {
    "hash": "f92b2924b84ff19c1c3dc485f7644d4486f64738191026bf8e6de303969141b5"
   }
  },
  "orig_nbformat": 2
 },
 "nbformat": 4,
 "nbformat_minor": 2
}