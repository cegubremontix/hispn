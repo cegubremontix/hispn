{
  "nbformat": 4,
  "nbformat_minor": 0,
  "metadata": {
    "colab": {
      "name": "A Practical Guide to Quantitative Finance Interviews.ipynb",
      "provenance": [],
      "authorship_tag": "ABX9TyMeSNzdon6FYiLEqnFTct22",
      "include_colab_link": true
    },
    "kernelspec": {
      "name": "python3",
      "display_name": "Python 3"
    },
    "language_info": {
      "name": "python"
    }
  },
  "cells": [
    {
      "cell_type": "markdown",
      "metadata": {
        "id": "view-in-github",
        "colab_type": "text"
      },
      "source": [
        "<a href=\"https://colab.research.google.com/github/dbremont/Notas/blob/main/Libros/Matematicas/A_Practical_Guide_to_Quantitative_Finance_Interviews.ipynb\" target=\"_parent\"><img src=\"https://colab.research.google.com/assets/colab-badge.svg\" alt=\"Open In Colab\"/></a>"
      ]
    },
    {
      "cell_type": "markdown",
      "metadata": {
        "id": "t8zZ8T_8JeMs"
      },
      "source": [
        "## General Principles"
      ]
    },
    {
      "cell_type": "markdown",
      "metadata": {
        "id": "ou2ohVkYYPCo"
      },
      "source": [
        "## Brain Teasers"
      ]
    },
    {
      "cell_type": "markdown",
      "metadata": {
        "id": "qSp95MnwYQ2w"
      },
      "source": [
        "## Calculus and Linear Algebra"
      ]
    },
    {
      "cell_type": "markdown",
      "metadata": {
        "id": "VLeWG-t6YtiB"
      },
      "source": [
        "## Probability Theory"
      ]
    },
    {
      "cell_type": "markdown",
      "metadata": {
        "id": "mLRQjjnTYzRc"
      },
      "source": [
        "## Stochastic Process and Stochastic Calculus"
      ]
    },
    {
      "cell_type": "markdown",
      "metadata": {
        "id": "-HH6v0ReY30p"
      },
      "source": [
        "## Finance"
      ]
    },
    {
      "cell_type": "markdown",
      "metadata": {
        "id": "TH2omYQFY5Hn"
      },
      "source": [
        "## Algorithms and Numerical Methods"
      ]
    }
  ]
}