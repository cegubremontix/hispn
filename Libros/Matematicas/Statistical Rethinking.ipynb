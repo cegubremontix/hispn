{
  "nbformat": 4,
  "nbformat_minor": 0,
  "metadata": {
    "kernelspec": {
      "display_name": "Python 2.7.18 64-bit",
      "name": "python2718jvsc74a57bd0f92b2924b84ff19c1c3dc485f7644d4486f64738191026bf8e6de303969141b5"
    },
    "language_info": {
      "name": "python",
      "version": ""
    },
    "metadata": {
      "interpreter": {
        "hash": "f92b2924b84ff19c1c3dc485f7644d4486f64738191026bf8e6de303969141b5"
      }
    },
    "orig_nbformat": 2,
    "colab": {
      "name": "Statistical Rethinking.ipynb",
      "provenance": [],
      "include_colab_link": true
    }
  },
  "cells": [
    {
      "cell_type": "markdown",
      "metadata": {
        "id": "view-in-github",
        "colab_type": "text"
      },
      "source": [
        "<a href=\"https://colab.research.google.com/github/dbremont/Notas/blob/main/Libros/Matematicas/Statistical%20Rethinking.ipynb\" target=\"_parent\"><img src=\"https://colab.research.google.com/assets/colab-badge.svg\" alt=\"Open In Colab\"/></a>"
      ]
    },
    {
      "cell_type": "markdown",
      "metadata": {
        "id": "2dNHJLEAbHwu"
      },
      "source": [
        "* (D) [Statistical Rethinking](http://0.0.0.0:8000/1%20Matematicas/Libros/Probability%20and%20Statistics/Statistical%20Rethinking%202nd%20Edition.pdf)"
      ]
    },
    {
      "cell_type": "markdown",
      "metadata": {
        "id": "uEr5vyazbFvO"
      },
      "source": [
        "1. The Golem of Prage\n",
        "2. Small Worlds and Large Worlds\n",
        "3. Sampling the Imaginary\n",
        "4. Geocentric Models\n",
        "5. The Many Variables & The Spurious Waffles\n",
        "6. The Haunted DAG & The Causal Terror\n",
        "7. Ulysses' Compass\n",
        "8. Conditional Manatees\n",
        "9. Markov Chain Monte Carlo\n",
        "10. Big Entropy and Generalized Linear Model\n",
        "11. God Spiked the Integers\n",
        "12. Monsters and Mixtures\n",
        "13. Models With Memory\n",
        "14. Adventures in Covariance\n",
        "15. Missing Data and Other Opportunities\n",
        "16. Generalized Linear Madness\n"
      ]
    }
  ]
}