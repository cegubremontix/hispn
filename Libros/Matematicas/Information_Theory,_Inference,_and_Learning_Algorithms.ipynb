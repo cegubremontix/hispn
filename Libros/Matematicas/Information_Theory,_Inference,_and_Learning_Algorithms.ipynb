{
  "nbformat": 4,
  "nbformat_minor": 0,
  "metadata": {
    "colab": {
      "name": "Information Theory, Inference, and Learning Algorithms.ipynb",
      "provenance": [],
      "authorship_tag": "ABX9TyOeQ5pzJ0xy+ulC8Kb6ahHV",
      "include_colab_link": true
    },
    "kernelspec": {
      "name": "python3",
      "display_name": "Python 3"
    },
    "language_info": {
      "name": "python"
    }
  },
  "cells": [
    {
      "cell_type": "markdown",
      "metadata": {
        "id": "view-in-github",
        "colab_type": "text"
      },
      "source": [
        "<a href=\"https://colab.research.google.com/github/dbremont/Notas/blob/main/Libros/Matematicas/Information_Theory%2C_Inference%2C_and_Learning_Algorithms.ipynb\" target=\"_parent\"><img src=\"https://colab.research.google.com/assets/colab-badge.svg\" alt=\"Open In Colab\"/></a>"
      ]
    },
    {
      "cell_type": "markdown",
      "metadata": {
        "id": "rpOzVv_gx14P"
      },
      "source": [
        "# Information Theory, Inference, and Learning Algorithms\n",
        "Libros/Matematicas"
      ]
    },
    {
      "cell_type": "markdown",
      "metadata": {
        "id": "q5gfI_6x_c-V"
      },
      "source": [
        "### Introduction To Information Theory"
      ]
    },
    {
      "cell_type": "markdown",
      "metadata": {
        "id": "ALGfFoi5_jNP"
      },
      "source": [
        "### Probability, Entroty,  and Inference"
      ]
    },
    {
      "cell_type": "markdown",
      "metadata": {
        "id": "Xy42Krw-_pRO"
      },
      "source": [
        "### More about Inference"
      ]
    },
    {
      "cell_type": "markdown",
      "metadata": {
        "id": "v3Es_mcF_s_7"
      },
      "source": [
        "## Data Compression "
      ]
    },
    {
      "cell_type": "markdown",
      "metadata": {
        "id": "AU6jVpzH_xNi"
      },
      "source": [
        "## Noisy-Channel Coding"
      ]
    },
    {
      "cell_type": "markdown",
      "metadata": {
        "id": "QbbIhmUf_0uT"
      },
      "source": [
        "## Further Topics in Information Theory"
      ]
    },
    {
      "cell_type": "markdown",
      "metadata": {
        "id": "vxBNEFiU_8Ts"
      },
      "source": [
        "## Probabilities and Inference"
      ]
    },
    {
      "cell_type": "markdown",
      "metadata": {
        "id": "CwdfjKCd__bI"
      },
      "source": [
        "## Neural Networks"
      ]
    },
    {
      "cell_type": "markdown",
      "metadata": {
        "id": "GdOQUfMkACrR"
      },
      "source": [
        "## Sparse Graph Codes"
      ]
    },
    {
      "cell_type": "markdown",
      "metadata": {
        "id": "3JTV5w5pAHsG"
      },
      "source": [
        "## Appendices"
      ]
    }
  ]
}