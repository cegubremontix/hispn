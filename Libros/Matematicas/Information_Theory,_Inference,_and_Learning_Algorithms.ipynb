{
  "nbformat": 4,
  "nbformat_minor": 0,
  "metadata": {
    "colab": {
      "name": "Information Theory, Inference, and Learning Algorithms.ipynb",
      "provenance": [],
      "authorship_tag": "ABX9TyN0gR7Zk4gelrfScZdBe3a+",
      "include_colab_link": true
    },
    "kernelspec": {
      "name": "python3",
      "display_name": "Python 3"
    },
    "language_info": {
      "name": "python"
    }
  },
  "cells": [
    {
      "cell_type": "markdown",
      "metadata": {
        "id": "view-in-github",
        "colab_type": "text"
      },
      "source": [
        "<a href=\"https://colab.research.google.com/github/dbremont/Notas/blob/main/Libros/Matematicas/Information_Theory%2C_Inference%2C_and_Learning_Algorithms.ipynb\" target=\"_parent\"><img src=\"https://colab.research.google.com/assets/colab-badge.svg\" alt=\"Open In Colab\"/></a>"
      ]
    },
    {
      "cell_type": "markdown",
      "metadata": {
        "id": "rpOzVv_gx14P"
      },
      "source": [
        "# Information Theory, Inference, and Learning Algorithms\n",
        "Libros/Matematicas"
      ]
    }
  ]
}