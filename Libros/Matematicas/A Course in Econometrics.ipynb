{
 "cells": [
  {
   "cell_type": "markdown",
   "metadata": {},
   "source": [
    "1. Empirical Relations\n",
    "2. Univariate Probability Distributions\n",
    "3. Expectations: Univariate Case\n",
    "4. Bivariate Probability Distributions\n",
    "5. Expections: Bivariate Case\n",
    "6. Independence in a Bivariate Distribution\n",
    "7. Normal Distributions\n",
    "8. Sampling Distributions: Univariate Case\n",
    "9. Asymplotic Distribution Theory\n",
    "10. Sampling Distributions: Bivariate Case\n",
    "11. Parameter Estimation\n",
    "12. Advanced Estimation Theory\n",
    "13. Estimating a Population Relation\n",
    "14. Multiple Regression\n",
    "15. Classical Regression\n",
    "16. Classical  Regression: Interpretation and Application\n",
    "17. Regression Algebra\n",
    "18. Multivariate Normal Distribution\n",
    "19. Classical Normal Regression\n",
    "20. CNR Model: Hypothesis Testing\n",
    "21. CNR Model: Inference with @^2 Unknown\n",
    "22. Issues in Hypothesis Testing\n",
    "23. Multicollinearity\n",
    "24. Regression Strategies\n",
    "25. Regression with X Random\n",
    "26. Time Series\n",
    "27. Generalized Classical Regression\n",
    "28. Hetoroskedasticity and Autocorrelation\n",
    "29. Nonlinear Regression\n",
    "30. Regression Systems\n",
    "31. Structural Equation Models\n",
    "32. Simultaneous-Equation Model\n",
    "33. Identification and Restrictions\n",
    "34. Estimation in the Simultaneous-Equation Model\n"
   ]
  }
 ],
 "metadata": {
  "kernelspec": {
   "display_name": "Python 2.7.18 64-bit",
   "name": "python2718jvsc74a57bd0f92b2924b84ff19c1c3dc485f7644d4486f64738191026bf8e6de303969141b5"
  },
  "language_info": {
   "name": "python",
   "version": ""
  },
  "metadata": {
   "interpreter": {
    "hash": "f92b2924b84ff19c1c3dc485f7644d4486f64738191026bf8e6de303969141b5"
   }
  },
  "orig_nbformat": 2
 },
 "nbformat": 4,
 "nbformat_minor": 2
}