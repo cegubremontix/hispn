{
 "cells": [
  {
   "cell_type": "markdown",
   "metadata": {},
   "source": [
    "1. Review of Counting & Probability Basics\n",
    "2. Sets and Logic\n",
    "3. A Piece of PIE\n",
    "4. Constructive Counting and 1-1 Correspondences\n",
    "5. The Pingeonhole Principle\n",
    "6. Constructive Expectation\n",
    "7. Distributions\n",
    "8. Mathematical Induction\n",
    "9. Fibonacci Numbers\n",
    "10. Recursion\n",
    "11. Conditional Probability\n",
    "12. Combinatorial Identities\n",
    "13. Events With States\n",
    "14. Generating Functions\n",
    "15. Graph Theory\n",
    "\n",
    "13) Events with State\n",
    "\n",
    "- Many \"events\"  are actually sequences of smaller events.\n",
    "- The world series winner \"event\" compose of the winners of every game \"event\"."
   ]
  }
 ],
 "metadata": {
  "kernelspec": {
   "display_name": "Python 2.7.18 64-bit",
   "name": "python2718jvsc74a57bd0f92b2924b84ff19c1c3dc485f7644d4486f64738191026bf8e6de303969141b5"
  },
  "language_info": {
   "name": "python",
   "version": ""
  },
  "metadata": {
   "interpreter": {
    "hash": "f92b2924b84ff19c1c3dc485f7644d4486f64738191026bf8e6de303969141b5"
   }
  },
  "orig_nbformat": 2
 },
 "nbformat": 4,
 "nbformat_minor": 2
}