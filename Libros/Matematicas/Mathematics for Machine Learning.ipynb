{
 "cells": [
  {
   "cell_type": "markdown",
   "metadata": {},
   "source": [
    "1. Introduction and Motivation\n",
    "2. Linear Algebra\n",
    "3. Analytic Geometry\n",
    "4. Matrix Decompositions\n",
    "5. Vector Calculus\n",
    "6. Probability and Distributions\n",
    "7. Continous Optimization\n",
    "8. Whem Models Meet Data\n",
    "9. Linear Regression\n",
    "10. Dimensionality Reduction with Principal Component Analysis\n",
    "11. Density Estimation with Gaussian Mixture Models\n",
    "12. Classification using Support Vector Machines\n"
   ]
  }
 ],
 "metadata": {
  "kernelspec": {
   "display_name": "Python 2.7.18 64-bit",
   "name": "python2718jvsc74a57bd0f92b2924b84ff19c1c3dc485f7644d4486f64738191026bf8e6de303969141b5"
  },
  "language_info": {
   "name": "python",
   "version": ""
  },
  "metadata": {
   "interpreter": {
    "hash": "f92b2924b84ff19c1c3dc485f7644d4486f64738191026bf8e6de303969141b5"
   }
  },
  "orig_nbformat": 2
 },
 "nbformat": 4,
 "nbformat_minor": 2
}