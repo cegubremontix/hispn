{
 "cells": [
  {
   "cell_type": "markdown",
   "metadata": {},
   "source": [
    "1. Functions Review\n",
    "2. Introduction to Trigonometric Functions\n",
    "3. Trigonometric Identities\n",
    "4. Applications to Geometry\n",
    "5. Parametrization and Trigonometric Coordinate Systems\n",
    "6. Basics of Complex Numbers\n",
    "7. Trigonometry and Complex Numbers\n",
    "8. Geometry of Complex Numbers\n",
    "9. Vectors in Two Dimensions\n",
    "10. Matrices in Two Dimensions\n",
    "11. Vectors and Matrices in Three Dimensions, 1\n",
    "12. Vectors and Matrices in Three Dimensions, 2\n",
    "13. Vector Geometry"
   ]
  }
 ],
 "metadata": {
  "kernelspec": {
   "display_name": "Python 2.7.18 64-bit",
   "name": "python2718jvsc74a57bd0f92b2924b84ff19c1c3dc485f7644d4486f64738191026bf8e6de303969141b5"
  },
  "language_info": {
   "name": "python",
   "version": ""
  },
  "metadata": {
   "interpreter": {
    "hash": "f92b2924b84ff19c1c3dc485f7644d4486f64738191026bf8e6de303969141b5"
   }
  },
  "orig_nbformat": 2
 },
 "nbformat": 4,
 "nbformat_minor": 2
}