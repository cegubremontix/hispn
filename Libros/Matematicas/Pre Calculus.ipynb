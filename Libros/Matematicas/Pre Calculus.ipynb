{
  "nbformat": 4,
  "nbformat_minor": 0,
  "metadata": {
    "kernelspec": {
      "display_name": "Python 2.7.18 64-bit",
      "name": "python2718jvsc74a57bd0f92b2924b84ff19c1c3dc485f7644d4486f64738191026bf8e6de303969141b5"
    },
    "language_info": {
      "name": "python",
      "version": ""
    },
    "metadata": {
      "interpreter": {
        "hash": "f92b2924b84ff19c1c3dc485f7644d4486f64738191026bf8e6de303969141b5"
      }
    },
    "orig_nbformat": 2,
    "colab": {
      "name": "Pre Calculus.ipynb",
      "provenance": [],
      "include_colab_link": true
    }
  },
  "cells": [
    {
      "cell_type": "markdown",
      "metadata": {
        "id": "view-in-github",
        "colab_type": "text"
      },
      "source": [
        "<a href=\"https://colab.research.google.com/github/dbremont/Notas/blob/main/Libros/Matematicas/Pre%20Calculus.ipynb\" target=\"_parent\"><img src=\"https://colab.research.google.com/assets/colab-badge.svg\" alt=\"Open In Colab\"/></a>"
      ]
    },
    {
      "cell_type": "markdown",
      "metadata": {
        "id": "N2Vl6MJwj2L2"
      },
      "source": [
        "* [Pre Calculus](https://artofproblemsolving.com/ebooks/precalculus-ebook/c0toc)"
      ]
    },
    {
      "cell_type": "markdown",
      "metadata": {
        "id": "ivokZi-ujz-v"
      },
      "source": [
        "1. Functions Review\n",
        "2. Introduction to Trigonometric Functions\n",
        "3. Trigonometric Identities\n",
        "4. Applications to Geometry\n",
        "5. Parametrization and Trigonometric Coordinate Systems\n",
        "6. Basics of Complex Numbers\n",
        "7. Trigonometry and Complex Numbers\n",
        "8. Geometry of Complex Numbers\n",
        "9. Vectors in Two Dimensions\n",
        "10. Matrices in Two Dimensions\n",
        "11. Vectors and Matrices in Three Dimensions, 1\n",
        "12. Vectors and Matrices in Three Dimensions, 2\n",
        "13. Vector Geometry"
      ]
    }
  ]
}