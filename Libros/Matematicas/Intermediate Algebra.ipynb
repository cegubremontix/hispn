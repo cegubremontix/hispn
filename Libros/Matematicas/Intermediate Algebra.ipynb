{
 "cells": [
  {
   "cell_type": "markdown",
   "metadata": {},
   "source": [
    "1. Basic Techniques for Solving Equations\n",
    "2. Functions Review\n",
    "3. Complex Numbers\n",
    "4. Quadratics\n",
    "5. Conics\n",
    "6. Polynomial Division\n",
    "7. Polynomial Roots Part I\n",
    "8. Polynomial Roots Part II\n",
    "9. Factoring Multivariable Polynomials\n",
    "10. Sequences and Series\n",
    "11. Identities, Manipulations, and Induction\n",
    "12. Inequalities\n",
    "13. Exponents and Logarithms\n",
    "14. Radicals\n",
    "15. Special Classes of Functions\n",
    "16. Piecewise Defined Functions\n",
    "17. More Sequences and Series\n",
    "18. More Inequalities\n",
    "19. Functional Equations\n",
    "20. Some Advanced Strategies\n"
   ]
  }
 ],
 "metadata": {
  "kernelspec": {
   "display_name": "Python 2.7.18 64-bit",
   "name": "python2718jvsc74a57bd0f92b2924b84ff19c1c3dc485f7644d4486f64738191026bf8e6de303969141b5"
  },
  "language_info": {
   "name": "python",
   "version": ""
  },
  "metadata": {
   "interpreter": {
    "hash": "f92b2924b84ff19c1c3dc485f7644d4486f64738191026bf8e6de303969141b5"
   }
  },
  "orig_nbformat": 2
 },
 "nbformat": 4,
 "nbformat_minor": 2
}