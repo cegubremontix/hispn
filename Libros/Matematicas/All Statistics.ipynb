{
 "cells": [
  {
   "cell_type": "markdown",
   "metadata": {},
   "source": [
    "1. Probability\n",
    "2. Random Variables\n",
    "3. Expectation\n",
    "4. Inequalities\n",
    "5. Convergence of Random Variables\n",
    "6. Models, Statistical Inference and Learning\n",
    "7. Estimating the CDF and Statistical Functionals\n",
    "8. The Bootstrap\n",
    "9. Parametric Inference\n",
    "10. Hypothesis Testing and p-values\n",
    "11. Bayesian Inference\n",
    "12. Statistical Decision Theory\n",
    "13. Linear and Logistic Regression\n",
    "14. Multivariate Models\n",
    "15. Inference About Independence\n",
    "16. Causal Inference\n",
    "17. Directed Graphs and Conditionals Independence\n",
    "18. Undirected Graphs\n",
    "19. Log-Linear Models\n",
    "20. Nonparametric Curve Estimation\n",
    "21. Smoothing Using Orthogonal Functions\n",
    "22. Classification\n",
    "23. Probability Redux: Stochastic Processes\n",
    "24. Simulations Methods"
   ]
  }
 ],
 "metadata": {
  "kernelspec": {
   "display_name": "Python 2.7.18 64-bit",
   "name": "python2718jvsc74a57bd0f92b2924b84ff19c1c3dc485f7644d4486f64738191026bf8e6de303969141b5"
  },
  "language_info": {
   "name": "python",
   "version": ""
  },
  "metadata": {
   "interpreter": {
    "hash": "f92b2924b84ff19c1c3dc485f7644d4486f64738191026bf8e6de303969141b5"
   }
  },
  "orig_nbformat": 2
 },
 "nbformat": 4,
 "nbformat_minor": 2
}