{
  "nbformat": 4,
  "nbformat_minor": 0,
  "metadata": {
    "kernelspec": {
      "display_name": "Python 2.7.18 64-bit",
      "name": "python2718jvsc74a57bd0f92b2924b84ff19c1c3dc485f7644d4486f64738191026bf8e6de303969141b5"
    },
    "language_info": {
      "name": "python",
      "version": ""
    },
    "metadata": {
      "interpreter": {
        "hash": "f92b2924b84ff19c1c3dc485f7644d4486f64738191026bf8e6de303969141b5"
      }
    },
    "orig_nbformat": 2,
    "colab": {
      "name": "Statistical Models.ipynb",
      "provenance": [],
      "include_colab_link": true
    }
  },
  "cells": [
    {
      "cell_type": "markdown",
      "metadata": {
        "id": "view-in-github",
        "colab_type": "text"
      },
      "source": [
        "<a href=\"https://colab.research.google.com/github/dbremont/Notas/blob/main/Libros/Matematicas/Statistical%20Models.ipynb\" target=\"_parent\"><img src=\"https://colab.research.google.com/assets/colab-badge.svg\" alt=\"Open In Colab\"/></a>"
      ]
    },
    {
      "cell_type": "markdown",
      "metadata": {
        "id": "eu-0WkTTaSgt"
      },
      "source": [
        "* (D) [Statistical Models](http://0.0.0.0:8000/1%20Matematicas/Libros/Probability%20and%20Statistics/All%20of%20Statistics%20-%20Larry%20Wasserman.pdf)"
      ]
    },
    {
      "cell_type": "markdown",
      "metadata": {
        "id": "WWQQ73vVaPUm"
      },
      "source": [
        "1. Introduction\n",
        "2. Variation\n",
        "3. Uncertainty\n",
        "4. Likelihood\n",
        "5. Models\n",
        "6. Stochastic Models\n",
        "7. Estimation and Hypothesis Testing\n",
        "8. Linear Regression Models\n",
        "9. Designed Experiments\n",
        "10. Nonlinear Regression Models\n",
        "11. Bayesian Models\n",
        "12. Conditional and Marginal Inference"
      ]
    }
  ]
}
