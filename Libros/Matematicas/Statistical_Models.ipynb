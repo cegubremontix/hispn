{
  "nbformat": 4,
  "nbformat_minor": 0,
  "metadata": {
    "kernelspec": {
      "display_name": "Python 2.7.18 64-bit",
      "name": "python2718jvsc74a57bd0f92b2924b84ff19c1c3dc485f7644d4486f64738191026bf8e6de303969141b5"
    },
    "language_info": {
      "name": "python",
      "version": ""
    },
    "metadata": {
      "interpreter": {
        "hash": "f92b2924b84ff19c1c3dc485f7644d4486f64738191026bf8e6de303969141b5"
      }
    },
    "orig_nbformat": 2,
    "colab": {
      "name": "Statistical Models.ipynb",
      "provenance": [],
      "include_colab_link": true
    }
  },
  "cells": [
    {
      "cell_type": "markdown",
      "metadata": {
        "id": "view-in-github",
        "colab_type": "text"
      },
      "source": [
        "<a href=\"https://colab.research.google.com/github/dbremont/Notas/blob/main/Libros/Matematicas/Statistical_Models.ipynb\" target=\"_parent\"><img src=\"https://colab.research.google.com/assets/colab-badge.svg\" alt=\"Open In Colab\"/></a>"
      ]
    },
    {
      "cell_type": "markdown",
      "metadata": {
        "id": "eu-0WkTTaSgt"
      },
      "source": [
        "[Statistical Models](http://statwww.epfl.ch/davison/SM/)"
      ]
    },
    {
      "cell_type": "markdown",
      "source": [
        "A **Statistical Model** is a probability distribution constructed to enable inferences to be drawn or decisions made from data.    This idea is the basis of most tools in the statistical workshop, in which it plays a central role by providing economical and insightful summaries of the information available.\n",
        "\n",
        "In a **Statistical Model** variability is represented using probability distributions, which form the building-blocks from which the model is constructed.\n",
        "\n",
        "**Applied statistics** comprises a body of methods of data collection and analysis across the whole range of science, and in areas such as engineering, medicine, business, and law - wherever variable data must be summarized, or used to test or confirm theories, or to inform decision. \n",
        "\n",
        "Treating data as outcomes of random variables.\n",
        "\n",
        "Ver la data del **maíz** fertilizado y no fertilizado. (Statistical Model vs Mechanistic Model)"
      ],
      "metadata": {
        "id": "5LSkaMzfwV4N"
      }
    },
    {
      "cell_type": "markdown",
      "metadata": {
        "id": "WWQQ73vVaPUm"
      },
      "source": [
        "1. Introduction\n",
        "2. Variation\n",
        "3. Uncertainty\n",
        "4. Likelihood\n",
        "5. Models\n",
        "6. Stochastic Models\n",
        "7. Estimation and Hypothesis Testing\n",
        "8. Linear Regression Models\n",
        "9. Designed Experiments\n",
        "10. Nonlinear Regression Models\n",
        "11. Bayesian Models\n",
        "12. Conditional and Marginal Inference"
      ]
    }
  ]
}