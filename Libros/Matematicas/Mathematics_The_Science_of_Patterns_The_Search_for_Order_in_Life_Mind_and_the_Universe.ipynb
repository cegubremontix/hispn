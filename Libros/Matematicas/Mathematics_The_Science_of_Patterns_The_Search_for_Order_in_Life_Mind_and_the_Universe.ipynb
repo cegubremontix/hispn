{
  "nbformat": 4,
  "nbformat_minor": 0,
  "metadata": {
    "colab": {
      "name": " Mathematics: The Science of Patterns : The Search for Order in Life, Mind, and the Universe.ipynb",
      "provenance": [],
      "authorship_tag": "ABX9TyN7zOmlyia/XGRtipK0JvVd",
      "include_colab_link": true
    },
    "kernelspec": {
      "name": "python3",
      "display_name": "Python 3"
    },
    "language_info": {
      "name": "python"
    }
  },
  "cells": [
    {
      "cell_type": "markdown",
      "metadata": {
        "id": "view-in-github",
        "colab_type": "text"
      },
      "source": [
        "<a href=\"https://colab.research.google.com/github/dbremont/Notas/blob/main/Libros/Matematicas/Mathematics_The_Science_of_Patterns_The_Search_for_Order_in_Life_Mind_and_the_Universe.ipynb\" target=\"_parent\"><img src=\"https://colab.research.google.com/assets/colab-badge.svg\" alt=\"Open In Colab\"/></a>"
      ]
    },
    {
      "cell_type": "markdown",
      "source": [
        "## Counting"
      ],
      "metadata": {
        "id": "rhWMe3IsXvkP"
      }
    },
    {
      "cell_type": "markdown",
      "source": [
        "## Reasoning and Communicating"
      ],
      "metadata": {
        "id": "_BgAW79QXwwH"
      }
    },
    {
      "cell_type": "markdown",
      "source": [
        "## Motion and Change"
      ],
      "metadata": {
        "id": "vMwQVcuYX0Lw"
      }
    },
    {
      "cell_type": "markdown",
      "source": [
        "## Shape"
      ],
      "metadata": {
        "id": "b0pNsUmjX2RS"
      }
    },
    {
      "cell_type": "markdown",
      "source": [
        "## Symmetry and Regularity"
      ],
      "metadata": {
        "id": "hqOXklfVX3fv"
      }
    },
    {
      "cell_type": "markdown",
      "source": [
        "## Position"
      ],
      "metadata": {
        "id": "Ymu0p8MFX752"
      }
    }
  ]
}