{
 "cells": [
  {
   "cell_type": "markdown",
   "metadata": {},
   "source": [
    "Introduction to Counting and Probability\n",
    "\n",
    "1. Counting is Arithmetic\n",
    "2. Basic Counting Techniques\n",
    "3. Correcting for Overcounting\n",
    "4. Committees and Combinations\n",
    "5. More With Combinations\n",
    "6. Some Harder Counting Problems\n",
    "7. Introduction to Probability\n",
    "8. Basic Probability Techniques\n",
    "9. Think About It!\n",
    "10. Geometric Probability\n",
    "11. Expected Value\n",
    "12. Pascal's Triangle\n",
    "13. The Hockey Stick Identity\n",
    "14. The Binomial Theorem\n",
    "15. More Challenging Problems"
   ]
  }
 ],
 "metadata": {
  "kernelspec": {
   "display_name": "Python 2.7.18 64-bit",
   "name": "python2718jvsc74a57bd0f92b2924b84ff19c1c3dc485f7644d4486f64738191026bf8e6de303969141b5"
  },
  "language_info": {
   "name": "python",
   "version": ""
  },
  "metadata": {
   "interpreter": {
    "hash": "f92b2924b84ff19c1c3dc485f7644d4486f64738191026bf8e6de303969141b5"
   }
  },
  "orig_nbformat": 2
 },
 "nbformat": 4,
 "nbformat_minor": 2
}