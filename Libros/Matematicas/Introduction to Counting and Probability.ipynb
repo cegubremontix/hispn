{
  "nbformat": 4,
  "nbformat_minor": 0,
  "metadata": {
    "kernelspec": {
      "display_name": "Python 2.7.18 64-bit",
      "name": "python2718jvsc74a57bd0f92b2924b84ff19c1c3dc485f7644d4486f64738191026bf8e6de303969141b5"
    },
    "language_info": {
      "name": "python",
      "version": ""
    },
    "metadata": {
      "interpreter": {
        "hash": "f92b2924b84ff19c1c3dc485f7644d4486f64738191026bf8e6de303969141b5"
      }
    },
    "orig_nbformat": 2,
    "colab": {
      "name": "Introduction to Counting and Probability.ipynb",
      "provenance": [],
      "include_colab_link": true
    }
  },
  "cells": [
    {
      "cell_type": "markdown",
      "metadata": {
        "id": "view-in-github",
        "colab_type": "text"
      },
      "source": [
        "<a href=\"https://colab.research.google.com/github/dbremont/Notas/blob/main/Libros/Matematicas/Introduction%20to%20Counting%20and%20Probability.ipynb\" target=\"_parent\"><img src=\"https://colab.research.google.com/assets/colab-badge.svg\" alt=\"Open In Colab\"/></a>"
      ]
    },
    {
      "cell_type": "markdown",
      "metadata": {
        "id": "2af_BUWYcdu0"
      },
      "source": [
        "- [Introduction to Counting and Probability](https://artofproblemsolving.com/ebooks/intro-counting-ebook/c0toc)"
      ]
    },
    {
      "cell_type": "markdown",
      "metadata": {
        "id": "PKBB9aiAcYrA"
      },
      "source": [
        "Introduction to Counting and Probability\n",
        "\n",
        "1. Counting is Arithmetic\n",
        "2. Basic Counting Techniques\n",
        "3. Correcting for Overcounting\n",
        "4. Committees and Combinations\n",
        "5. More With Combinations\n",
        "6. Some Harder Counting Problems\n",
        "7. Introduction to Probability\n",
        "8. Basic Probability Techniques\n",
        "9. Think About It!\n",
        "10. Geometric Probability\n",
        "11. Expected Value\n",
        "12. Pascal's Triangle\n",
        "13. The Hockey Stick Identity\n",
        "14. The Binomial Theorem\n",
        "15. More Challenging Problems"
      ]
    }
  ]
}