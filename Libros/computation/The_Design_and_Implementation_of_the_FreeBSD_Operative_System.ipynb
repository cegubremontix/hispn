{
  "nbformat": 4,
  "nbformat_minor": 0,
  "metadata": {
    "colab": {
      "name": "The Design and Implementation of the FreeBSD Operative System.ipynb",
      "provenance": [],
      "toc_visible": true,
      "authorship_tag": "ABX9TyMatVmG9PNrFYiyBrjmsJ4C",
      "include_colab_link": true
    },
    "kernelspec": {
      "name": "python3",
      "display_name": "Python 3"
    },
    "language_info": {
      "name": "python"
    }
  },
  "cells": [
    {
      "cell_type": "markdown",
      "metadata": {
        "id": "view-in-github",
        "colab_type": "text"
      },
      "source": [
        "<a href=\"https://colab.research.google.com/github/dbremont/Notas/blob/main/Libros/Computacion/The_Design_and_Implementation_of_the_FreeBSD_Operative_System.ipynb\" target=\"_parent\"><img src=\"https://colab.research.google.com/assets/colab-badge.svg\" alt=\"Open In Colab\"/></a>"
      ]
    },
    {
      "cell_type": "markdown",
      "metadata": {
        "id": "8CwQAq1CSWRc"
      },
      "source": [
        "# The Design and Implementation of the FreeBSD Operative System\n",
        "\n",
        "- This book is about the *internal* structure of the FreeBSD 5.2 Kernel and about the concepts, data structures, and  algorithms used in implementing FreeBSD's system facilities.\n",
        "\n",
        "- This book covers *FreeBSD* from the system-call level down-from the interface to the kernel to the hardware itself.\n",
        "\n",
        "- The kernel includes system facilities such as,:\n",
        "  - process management, \n",
        "  - virtual memory,\n",
        "  - the I/O System,\n",
        "  - filesystems,\n",
        "  - the socket *IPC* mechanism,\n",
        "  - and network  protocol implementations.\n",
        "\n",
        "- Why FreeBSD:\n",
        "  - Control the changes made to the source code.\n",
        "\n",
        "- Book audience:\n",
        "  - Applications developer to learn how to effectively and efficiently interface to the system.\n",
        "  - System programmers can learn how to expetend, enhace , and interface to the system."
      ]
    },
    {
      "cell_type": "markdown",
      "metadata": {
        "id": "_gkhlm1ISXvs"
      },
      "source": [
        "## Part I Overview"
      ]
    },
    {
      "cell_type": "markdown",
      "metadata": {
        "id": "HkgUo4fLu4Yj"
      },
      "source": [
        "### History and Goals"
      ]
    },
    {
      "cell_type": "markdown",
      "metadata": {
        "id": "xaqQjJkmu94L"
      },
      "source": [
        "### Design Overview of FreeBSD\n"
      ]
    },
    {
      "cell_type": "markdown",
      "metadata": {
        "id": "qovF_aoAqi-9"
      },
      "source": [
        "How does a user process request a service from the kernel?\n",
        "\n",
        "How are data transferred between a process and the kernel? What alternatives are aviable?\n",
        "\n",
        "How does a process acees an I/O stream? List three types of I/O streams.\n",
        "\n",
        "What are the four steps in the lifecyle of a process?\n",
        "\n",
        "Why are process groups provided in FreeBSD?\n",
        "\n",
        "Describe four machine-dependent functions of the kernel?\n",
        "\n",
        "Describe the difference between an aboslute and relative pathname\n",
        "\n",
        "Give three reasons why mkdir systam cal was added to 4.2BSD\n",
        "\n",
        "Define scatter-gather I/O. Why is useful?\n",
        "\n",
        "List five functions provided by a terminal driver\n",
        "\n",
        "What is the difference between a pipe and a socket?\n",
        "\n",
        "Describe how to create a group of processes in a pipeline\n",
        "\n",
        "List the three system calls that were required to create a new directory **fo** in the current directory before the adddition of the mkdir system call\n",
        "\n",
        "Explain the differente between interprocess communication and networking"
      ]
    },
    {
      "cell_type": "markdown",
      "metadata": {
        "id": "-9cY5IhRvCMV"
      },
      "source": [
        "### Kernel Services"
      ]
    },
    {
      "cell_type": "markdown",
      "metadata": {
        "id": "z1y0Ppu6u6In"
      },
      "source": [
        "Describe three types of system activity\n",
        "\n",
        "When can routine executing in the top half of the kernel precluded from using information located in the current user process?\n",
        "\n",
        "Why are routines executing  in teh bottom half of the kernel preculded from using ifnormation located in the current user process?\n",
        "\n",
        "Why does the system defer as much work as possible from high-priority\n",
        "interrupts to lower-priority software-interrupt processes?\n",
        "\n",
        "What determines the shortest (nonzero) time period that a user process can request when a setting a timer?\n",
        "\n",
        "How does the kernel determine the system call for which it has been invoked?\n",
        "\n",
        "How  are initialized data represented in an executable file? How are uninitialed ata represented in an executable file? Why are the representetions different?\n",
        "\n",
        "Describe how the \"#!\" mechanism can be used to make programs that require emulation apppear as though they were normal executables\n",
        "\n",
        "It is possible for a file to have permission set such that is owner cannot read it, even though a group can? Isn this possible if the owner is a member of the group that can read the file? Explain your answers\n",
        "\n",
        "Describe the security implications of not zero fillin gthe stack region at program startup\n",
        "\n",
        "Why is the conversion from UTC to local time done by user processes rather than in the kernel?\n",
        "\n",
        "What is the advantage of having th ekernel rather than an application restart an interrupted system call?\n",
        "\n",
        "Describe a scenario in which the timer-wheel algorithm used fo rthe callout queue does not work well. Suggest an alternative data structure that runs more quickly than does the timer-wheel algorithm for you scenario\n",
        "\n",
        "The `SIGPROF` profiling timer was originaly intended to replace the `profil` system call to collect a statistical sampling of a program's counter. Give two reasons why the `profil` facility had to be retained\n",
        "\n",
        "What weakness in the process-accounting mechanism makes the later unsuitable for use in a commercial environment?"
      ]
    },
    {
      "cell_type": "markdown",
      "metadata": {
        "id": "6kxuppCDSlSw"
      },
      "source": [
        "## Part II Processes"
      ]
    },
    {
      "cell_type": "markdown",
      "metadata": {
        "id": "nwHXC7vxvMxY"
      },
      "source": [
        "### Process Management"
      ]
    },
    {
      "cell_type": "markdown",
      "metadata": {
        "id": "2Tbi_kCMyYYo"
      },
      "source": [
        "For each state listed in Table 4.1, list the sytem queues on which a process is that state might be found.\n",
        "\n",
        "Why is the performace of the context-switching mechanism critical to the performace of a highly multiprogrammed system?\n",
        "\n",
        "What effect would increasing the tim equamtum have on the system's internal resposne and total throughput?\n",
        "\n",
        "What effect would reducing the number of run queues from 64 to 32 have on the scheduling overhead and on system performace?\n",
        "\n",
        "Give three reasons for the sytem to select a new process to run\n",
        "\n",
        "Describe the three types of scheduling policies provided by FreeBSD.\n",
        "\n",
        "What type of jobs does the time-share scheduling policy favor? Propose an algorithm for indentifying these favored jobs?\n",
        "\n",
        "Describe the three types of scheduling policies provided by FreeBSD\n",
        "\n",
        "What type of jobs does the time-share scheculing policty favor? Propose an algorithm for identify8ing these favored jobs\n",
        "\n",
        "When and how does thread scheduling interact with memory-management facilities?\n",
        "\n",
        "After process has execited, it may enter the state of being a ZOMBIE before disappearing from the system entirely. What is the purpose of the ZOMBIE state? What event causes a process to exit from ZOMBIE?\n",
        "\n",
        "Suppose that the data structures shown in Figure 4.2 do not exist. Instead, assume that each process entry has only its own PID and the PID of its parent. Compare the costs in space and time to support each of the following operations:\n",
        "\n",
        "- Creation of a new process \n",
        "- Lookup of the process's parent\n",
        "- Lookup of all of a process's siblings\n",
        "- Lookup of all of a process's descendants\n",
        "- Destruction of a process\n",
        "\n",
        "What are the differences between a mutex and lock-manager lock?\n",
        "\n",
        "Give an example of  where ea mutex lock should be used. Give an example of where a lock-manager lock should be used.\n",
        "\n",
        "A process blocked without setting the PCATCH flag may never be awakened by a singal. Describe two problems a noninterruptible sleep may cause if a disk become sunaviable while the system in running.\n",
        "\n",
        " Describe the liminations a jail puts on the filesystem name space, network acess, and processes running in the jail.\n",
        "\n",
        " In FreeBSD, the signal `SIGTSTP` is  delivered to a process when a user types a `\"suspend character\"`. Why would a process what to catch this signal before it is stopped?\n",
        "\n",
        " Before the FreeBSD signal mechanism was added, signal handlers to catch the `SIGTSTP` signal where written as\n",
        "\n",
        "```c\n",
        "catchstop()\n",
        "{\n",
        "  prepare to stop;\n",
        "  signal(SIGTSTP, SIG_DFL);\n",
        "  kill(gedpid(), SIGTSTP);\n",
        "  signal(SIGTSTP, catchstop);\n",
        "}\n",
        "```\n",
        "\n",
        "- This code causes an infinite loop in FreeBSD. Why does it do so? How should be code rewritten?\n",
        "\n",
        "The process-priority calculations and accounting statistics are al based on simpled data. Describe hardware support that would permit more accurate statistics oand priority calculations.\n",
        "\n",
        "Why are signals a poor interprocess-communication facility?\n",
        "\n",
        "A `kernel-stack-invalid` trap occurs when an invalid value for the kernel-mode stack pointer is detected by the hardware. How might the system gracefully terminate a process that recieves such a trap while executing oon its kernel-run-time stack?\n",
        "\n",
        "Describe alternatives to the `test-and-set` instruction that would allow you to build a synchonization mechanism for a multiprocessor FreeBSD system\n",
        "\n",
        "A *lighweight process* is a thread of execution that operates within the context of a normal FreeBSD process. Multiple lightweight processes may exist in a single FreeBSD process and share memory, but each is able to do blocking operations, such a system calls. Describe how lighweight processes might be implemented entirely in user mode.\n",
        "\n"
      ]
    },
    {
      "cell_type": "markdown",
      "metadata": {
        "id": "rhHVP0t9vdVp"
      },
      "source": [
        "### Memory Management"
      ]
    },
    {
      "cell_type": "markdown",
      "metadata": {
        "id": "CTQGzQZO6Izy"
      },
      "source": [
        "What does it mean for a machine to support virtual machine? What four hardware facilities are typically required for a machine to support virtual memory?\n",
        "\n",
        "What is the relantioship between paging and swaping on a demand-paged virtual-memory system? Exaplain whether it is desirable to privide both mechanisms in the same system. Can you suggest an altternative to providing both mechanisms?\n",
        "\n",
        "What three policies characterize paging systems?\n",
        "\n",
        "What is `copy-on-write`? In the most UNIX applications, the fork sytsem call is followeed almost inmediately by an exec system call. Why does this behavior make it particularly attractive to use copy-on-write in implementing fork?\n",
        "\n",
        "Explain why the vfork system call will always be more efficient than a clever implementation of the fork system call\n",
        "\n",
        "When a process exits, all its pages may not be placed immediately on memory free list. Explain this behavior\n",
        "\n",
        "Why does the kernel ahve both the traditional malloc() and free() interface and the zone allocator? Explain whean each type of interface is useful\n",
        "\n",
        "What is the purpose of page coloring? On what sort of hardware is it needed?\n",
        "\n",
        "What is clustering? Where is it used in the virtual-memory system?\n",
        "\n",
        "Why is the historic use of the `sticky` bit to lock a process image in memory no longer useful in FreeBSD?\n",
        "\n",
        "Give two reasons for swapping to be initiated\n",
        "\n",
        "The 4.3BSD virtual-memory system had a text cache that retained the identity of text pages from one execution of a program to the text. How does the catching of vnode objects in FreeBSD improve on the performace of the 4.3BSD text cache?\n",
        "\n",
        "FreeBSD reduces the length of shadow chains by checking at each `copy-on-write`  fault wheater the object taking the faul completely shadows the object below in the chain. If it does, a collapse can be alone. One alternative woudl be to calculate the number of live references to a page after each `copy-on-write` fault and if only one refrence remains, to move that page to the object that references it. When the last page is removed, the chain can be collapse. Implemented this algorithm and compare its cost to the current algorithm\n",
        "\n",
        "The `pv_entry` structures could be replaced by keeping a list associated with each object of all the `vm_map_entry` structures that refrence it. If each `vm_map_entry` structure had only a singel list poitner in it, only the final object would be able to reference it. Shadow objects would have to find their final object to find their referencing `vm_map_entry`  structure. Implement an algorithm to find all the references to the pages of a shadow object using this scheme. Compare its cost with that of the current  algorithm usig `pv_entry` structures\n",
        "\n",
        "Port the code from 4.3BSD that would forcibly swap out runnable processes when the paging rate gets to high. Run three or more process that each have a workign set of 40 percent of the aviable memory. Compare the performce of this benchmkark usign the 4.3BSD algorithm and the  current algorithm.\n"
      ]
    },
    {
      "cell_type": "markdown",
      "metadata": {
        "id": "WAjGyyfZS3YT"
      },
      "source": [
        "## Part III I/O System\n"
      ]
    },
    {
      "cell_type": "markdown",
      "metadata": {
        "id": "7mGm28f0v63x"
      },
      "source": [
        "### I/O System Overview"
      ]
    },
    {
      "cell_type": "markdown",
      "metadata": {
        "id": "yUw3uGmtIJrW"
      },
      "source": [
        "Where are the read and write attributes of an open file descriptor stored?\n",
        "\n",
        "Why is the close-on-exec bit located in the per-process desciptor table instead of in the system file table?\n",
        "\n",
        "why are the file-table entries reference counted?\n",
        "\n",
        "What three shortcomings of lock file are addressed by the FreeBSD descriptor-locking facilities?\n",
        "\n",
        "What two problems are raised by mandatory locks?\n",
        "\n",
        "Why is the implementation of select split between the descriptor-management code and the lower-level routines?\n",
        "\n",
        "Describe how the `process selecting flag` is used in the implementation of `select`\n",
        "\n",
        "The `syncer` daemon starts as part of system boot. Once every second, it does an `fsync` on any vnodes that it finds that have been dirty for 30 seconds. What problem could arise if this daemon where not run?\n",
        "\n",
        "When is a vnode places of the free list?\n",
        "\n",
        "Why must the lookup routine call through the vnode interface once for each component in a pathname?\n",
        "\n",
        "Give threee reasosn for revoking acess to a vnode\n",
        "\n",
        "Why are the buffer haders allocated separately from the memory that holds the contents of the buffer?\n",
        "\n",
        "Asynchonous I/O is provided through the `aio_read` and `aio_write` systems cal rather than through the traditional read and write system calls. What problems arise with providing asynchonous I/O in the existing read-write interface?\n",
        "\n",
        "Why are there both a CLEAN list and a DIRTY list instead of all buffers being managed on oen list?\n",
        "\n",
        "If a process reads a large file, the blocks of the file will fill the virtual memory cache completely, flushing out all other contents. Al other processes in the system then will have to go to disk for all their filesystem accesses. Write an algorithm to control the purging of the buffer cache.\n",
        "\n",
        "Vnode operation parameters are passed between layers in structures. What alternatives are there to this approach? Explain why your approach is more of less efficient, compared to the current approach, when there aer less than five layers in the stack. Also compare the efficiencly of your solution when there are more than five layers in the stack."
      ]
    },
    {
      "cell_type": "markdown",
      "metadata": {
        "id": "kGeSDwy-wP-E"
      },
      "source": [
        "### Devices"
      ]
    },
    {
      "cell_type": "markdown",
      "metadata": {
        "id": "hn46nMmR0OgF"
      },
      "source": [
        "Name the three layers between the filesystem and the disk. Briefly describe the purpose of each layer.\n",
        "\n",
        "Describe the different between the PCI and USB busses\n",
        "\n",
        "Why was the **/dev** filesytem added to FreeBSD 5.2?\n",
        "\n",
        "Explain the difference between a dev_t and device_t\n",
        "\n",
        "Give an example of a `GEOM`  provider and a `GEOM` consumer\n",
        "\n",
        "Wha happens if two `GEOM` consumers try to operate at the same time?\n",
        "\n",
        "Draw a sequence of pictures showing what happens to the `GEOM` configuration in Figure 7.3 when the disk  becomes unavailable\n",
        "\n",
        "Name the three layers within CAM. Briefly describe the service that each of these layers provides\n",
        "\n",
        "Can the CAM layer handle the setup and tear down of the `DMA` maps for on e  of its device drivers? Why or why not?\n",
        "\n",
        "What is the purpose of the `/usr/bin/config` program?\n",
        "\n",
        "Give two reasons why it is unsafe to allow a kernel to dynamically load code\n",
        "\n",
        "Why are device probing and attaching done as two separete steps?\n",
        "\n",
        "Describe the purpose of the device structure\n",
        "\n",
        "Run the `/usr/sbin/devinfo` program on FreeBSD machine and identify the hardware associated with each of the leaf nodes.\n",
        "\n",
        "Name the three steps used for resource allocation and freeing. Why are these functions broken into three separete steps?\n",
        "\n",
        "All devices are currently attached one in a depth-first search. But some devices may offer services needed by devices higher up the tree. Describe devices that fall into this class and give a plan to build a multipass-attach approach into newbus to handle them."
      ]
    },
    {
      "cell_type": "markdown",
      "metadata": {
        "id": "GpP4ljPfwSMw"
      },
      "source": [
        "### Local Filesystems"
      ]
    },
    {
      "cell_type": "markdown",
      "metadata": {
        "id": "oSloSqetz3qm"
      },
      "source": [
        "What are the seven classes of operations handled by the hierarchical filesystem?\n",
        "\n",
        "What is the purpose of the inode data structure?\n",
        "\n",
        "How does the system select an inode for replacement when a new inode must be brought in from disk?\n",
        "\n",
        "Why are directory entires not allowed to span chunks?\n",
        "\n",
        "Describe the steps involved in looking up a pathname component\n",
        "\n",
        "Why are hard links not permitted to span filesystems?\n",
        "\n",
        "Describe how the interpretation of a symbolic link containing an absolute pathname in different from that of a symbolic link containing a relative pathanme\n",
        "\n",
        "Explain why unprivileged users are not permitted to make hard links to directories but are permitted to make symbolic links to directories\n",
        "\n",
        "How can hard links to be used to gain access to files that could not be accessed if a symbolic link were used instead?\n",
        "\n",
        "How does the system recognize loops caused by symbolic links? Suggest an alternative scheme for doing loop detection\n",
        "\n",
        "How do quotas differ from the file-size resource limits described in Section 3.8?\n",
        "\n",
        "How does the kernel determine whether a file has an associated quota?\n",
        "\n",
        "Draw a picture showing the effect of processing an exclusive-lock request by process 1 on bytes 7 to 10 to the lock list shown in Figure 8.15. Which of the overlap cases of Figure 8.14 apply to this example?\n",
        "\n",
        "In the absence of soft updates, which thre FFS operations must be synchonously to ensure that the filesystem can always to recoverd deterministically after a crash (barring unrecoverable hardware error)?\n",
        "\n",
        "What are the guarantees made by the `fscync` system call?\n",
        "\n",
        "Name the three ordering constraints that must be maintained when a file is removed. Describe how soft updates maintain this ordedering.\n",
        "\n",
        "Give three uses of a filesystem snapshot\n",
        "\n",
        "Describe the eight steps needed to take a filesystem snapshot\n",
        "\n",
        "What are the three states that a block may have in a snapshot? Describe  the actiosn taken by a snapshot for each of these states when a wrrite occurs. Describe the actions taken by a snaphot for each of these states when a block is released.\n",
        "\n",
        "What are the four classes of operations handled by the datasotre filesystem?\n",
        "\n",
        "Under what circumtances can a write requet avoid reading a block from the disk?\n",
        "\n",
        "What is the difference between a logical block and a physical block? Why is this distintion important?\n",
        "\n",
        "Give two reasons why increasing the basic block size in the old filesystem from 512 bytes and 1024 bytes more than doudled the system's throughput.\n",
        "\n",
        "How many blocks and fragments are allocated to a 31,200-bytes file on a FFS with 4096-byte blocks and 1024-byte fragments? How many blocks and fragments are allocated to this file on a FFS with 4096-byte blocks and fragments are allocated to this file on a FFS with 4096-byte blocks and 512-byte fragments? Also, answer these two questiosn assuming and inode had only 6 direct block pointers instead of 12.\n",
        "\n",
        "Explain why the FFS maintains a 5 to 10 percent reserve of free space. What problems would arise if the free-space reserve were set a zero?\n",
        "\n",
        "What is a quadractic hash? Describe for what it is used in the FFS, and why it is used for that purpose.\n",
        "\n",
        "Why are the allocation policies for inodes different from those for data blocks?\n",
        "\n",
        "Under what circumstances does block clustering provide benefits that cannot be obtained with a disk-track cache?\n",
        "\n",
        "Give an example where the file-locking implementation is unable to detect a potential deadlock\n",
        "\n",
        "What problems would arise if files had to be allocated in a single contiguous pice of the disk? Consider the problem screated by multiple processes,random access, and file with holes.\n",
        "\n",
        "Design a system that allows the security level of the system to be lowered while the system is still running in multiuser mode.\n",
        "\n",
        "Inodes could be allocated dynamically as part of a directory entry. Instead, the inode allocation region is reserved when the filesystem is creted. Why is the latter approach used?"
      ]
    },
    {
      "cell_type": "markdown",
      "metadata": {
        "id": "GuRgzim5wcc_"
      },
      "source": [
        "### The Network FileSystem"
      ]
    },
    {
      "cell_type": "markdown",
      "metadata": {
        "id": "BGHjjbWql2e2"
      },
      "source": [
        "Describe the functions done by an NFS client\n",
        "\n",
        "Describe the functions done by an NFS server\n",
        "\n",
        "Describe three benefits that NFS derives from being stateless\n",
        "\n",
        "Give two reasons why TCP is a better protocol to use than is UDP for handling the NFS RPC protocol\n",
        "\n",
        "Describe the content of a file handle in FreeBSD. How is a file handle the generation number serve?\n",
        "\n",
        "When is a new generation number asigned to a file? What purporse does attempts when its server crashes or otherwise becomes unreacable\n",
        "\n",
        "Give two reasons why leases are given a limited lifetime\n",
        "\n",
        "What is a callback? When is it used?\n",
        "\n",
        "A server may issue three types of leases: noncaching, read chaching, and write caching. Describe what a client can do with each of these leases\n",
        "\n",
        "Describe how an NQNFS server recovers after a crash\n",
        "\n",
        "Suppose that there is a client that supports both version 2 and 3 of the NFS protocol running on both TCP and UDP protocols, but a server that suports only version 2 of NFS running on UDP. Show the protocol negotiation between the client and server, assuming that the client prefers to run using version 3 of NFS using TCP\n",
        "\n",
        "Assume that leases have an unlimited lifetime. Design a system for recovering the lease state after a client on server crash"
      ]
    },
    {
      "cell_type": "markdown",
      "metadata": {
        "id": "iG60hTj1wgcT"
      },
      "source": [
        "### Terminal Handling"
      ]
    },
    {
      "cell_type": "markdown",
      "metadata": {
        "id": "h9MGOnwppc4H"
      },
      "source": [
        "What are the two general modes of terminal input? Which mode in most commonly in used when users converse with an interface screen editor?\n",
        "\n",
        "Explain why there are two chapter quueues for dealing with terminal input. Describe the use of each\n",
        "\n",
        "How do we mean when we say that modern control is supported on a terminal line? How are terminal lines of this sort typically used?\n",
        "\n",
        "What signal is sent to what process asociated with a terminal if a user disconects the modem line in the middle of a session?\n",
        "\n",
        "Name the two devices that make up a pseudo-terminal. Explain the role of each of these pieces.\n",
        "\n",
        "How is the hight watermak on a terminal's output queue determined?\n",
        "\n",
        "Consider a facility that allowed a tutor on one terminal to monitor and assist students working on other terminals. Everything the student typed would the transmitted both to the system as input and to the tutor's terminal as output.  Everything the tutor typed would be directed to the student's terminals as input. Describe hwo this facility might be implemented with a special-purpose line discipline. Describe further useful generalizations of this facility.\n",
        "\n",
        "The termnial line discipline supports logical erasure of input text when characters, words, and lines are erased. Remembering that other system activities continue whiel a user types an input line, explain what complications must be consider in the implementation of this feature.  Name three exceptional cases, and describe their effects on the implementation\n",
        "\n",
        "Propose another buffering scheme to replace C-list"
      ]
    },
    {
      "cell_type": "markdown",
      "metadata": {
        "id": "y2NOu4eaUTKR"
      },
      "source": [
        "## Part IV Interprocess Communication"
      ]
    },
    {
      "cell_type": "markdown",
      "metadata": {
        "id": "eI7W5o44wmqQ"
      },
      "source": [
        "### Interprocess Communication"
      ]
    },
    {
      "cell_type": "markdown",
      "metadata": {
        "id": "IiYgkYoGsV2L"
      },
      "source": [
        "What limitation in the use of pipes inspired the developers to design alternative interprocess-communication facilities?\n",
        "\n",
        "Why are the FreeBSD interprocess-communication facilities designed to be independent  of the filesystem for naming sockets?\n",
        "\n",
        "Why is interprocess communication layered on top of networking in FreeBSD, rather than the other way around?\n",
        "\n",
        "Would a scren editor be considered a naive or a sophisticated program, according to the definitions given in this chapter? Explain your answer\n",
        "\n",
        "Wha tare out-of-band data? What types of socket support the communication of out-of-band data? Describe one use for out-of-band data\n",
        "\n",
        "Give two requirements that interprocess communication places on a memory-management facilty\n",
        "\n",
        "How many mbufs and mbuf clusters would be needed to hold a 3024-byte message? Draw a picture of the necessary mbuf chain and any associated mbuf clusters?\n",
        "\n",
        "Why does an mbuf have to link pointers? For what is each pointer used?\n",
        "\n",
        "Each socket's send and recieve data buffer have high and low watermarks. For what are these watermarks used?\n",
        "\n",
        "Consider a socket with a network connection that is queue at the socket awaiting an `accept` system call. Is this socket on the queue headed by the `so_comp` or by the `so_incomp` field in the socket structure? What is the use of the queue that does not contain the socket?\n",
        "\n",
        "Describe two types of protocols that would immeddiately place incoming coonection request into the queue headed by the `so_comp` field in the sockt estructure?\n",
        "\n",
        "How does the protocol layer communicate an asynchonous error to the socket layer?\n",
        "\n",
        "Sockets explicity refrain from interpreting the data that they send and recieve. Do you believe tha this approach is correct? Explain your answer\n",
        "\n",
        "Why does the `sosend()` routine ensure there is enough space is a socket's send buffer before making a call to the protocol layer to transmit data?\n",
        "\n",
        "How is the type information in each `mbuf` used in the queueing of data at a datagram socket? How in this information used in queueing of data at a stream socket?\n",
        "\n",
        "Why does the `sorecieve()` routine optionally notify the protocol layer when data are removed from a socket's recieve buffer?\n",
        "\n",
        "What might cause a connection to linger forever when closing?\n",
        "\n",
        "Describe a deadlock between two processes, A and B, that the sharing two semaphores, $S_1$ and $S_2$\n",
        "\n",
        "How can a message queue be used to implement a priority queue? How can it be used to allow full duplex communication?\n",
        "\n",
        "Why doesn't the `shmdt` system call free the underlying shared memory?\n",
        "\n",
        "What is releasing mbuf-cluster storage back to the system complicated? Explain why it might be desirable\n",
        "\n",
        "In the orignal design of th einterprocess-comunication facilities, a reference to a communicatio ndomain was obtained with a `domain` system call,\n",
        "\n",
        "  - `int d; d = domain(\"inet\")`\n",
        "  - where d is a descriptor, much like a file descriptor, and sockets then were created with \n",
        "\n",
        "  ```c\n",
        "    s = socket(type, d, protocol)\n",
        "    int s, type, protocol\n",
        "  ```\n",
        "\n",
        "  - What advantages and disadvantages does this scheme have compared to the one that is used in FreeBSD? What effect does the introduction of a domain descriptor type have on the managment and use of descriptors within the kernel?\n",
        "\n",
        "Design and implement a simple replacement for Local IPC semaphores that operates on a single semaphore instead of an array. The new system should adhere the original API to the extend that is should implement a `semget`, `semclt` and `semop` routine."
      ]
    },
    {
      "cell_type": "markdown",
      "metadata": {
        "id": "DxKNLQdzwqee"
      },
      "source": [
        "### Network Communication"
      ]
    },
    {
      "cell_type": "markdown",
      "metadata": {
        "id": "2EnPopJj3sgO"
      },
      "source": [
        "Name two key data structures aused i nthe networkin gsysbsystem that are important in ensuing that the socket-layer software is kept independt of the networking implementation?\n",
        "\n",
        "What work is done by the lower half oa netowrk device driver? What work is done by the upper half of a network device driver ?\n",
        "\n",
        "Which routines in the protocol switch are called by the socket layer? Explain why each of these routines is called\n",
        "\n",
        "Assuem that a `reliably-delivered-message(SOCK_RDM)` is a connectionless socket that guarantees reliable delivery of data and that preserves message boundaries. Which flags would a protocol that supported this type of socket have set in the `pr_flags` field of its protocol-switch entry?\n",
        "\n",
        "Give an example of a network interface that is useful without an underlying hardware device\n",
        "\n",
        "Give two reasons why the addresses of a network interface are *not* in the network-interface data structure.\n",
        "\n",
        "Why is the name or address of a socket kept at the network layer rather than at the socket layer?\n",
        "\n",
        "Why does FreeBSD not attempt to enforce a rigi protocol-protocol interface structure?\n",
        "\n",
        "Describe is the identity of the network interface on which each message is recieved passed upward with the message?\n",
        "\n",
        "Which routing `policies` are implemeneted in the kernel?\n",
        "\n",
        "Describe three types of routes that can be found in the routing table that differ by the type of destination to which they apply\n",
        "\n",
        "What routing facility is designed mainly to support workstations?\n",
        "\n",
        "What is a routine redirect? For what is it used?\n",
        "\n",
        "Why do the output-packet queues fore each network interface have limits on the number of packets that may be queued?\n",
        "\n",
        "What does the `SO_OOBINLINE` socket option do? Why does it exist?\n",
        "\n",
        "Explain why it is impossible to use the raw socket interface to support paralel protocol implementations -some in the kernel and some in user mode. What modifications to the system would be necessary to support this facility?\n",
        "\n",
        "Previous versions of the system used a sashed routing lookup for a destionation as a host or as a network.  Name  two ways in which the radix search algorithm in FreeBSD is more capable."
      ]
    },
    {
      "cell_type": "markdown",
      "metadata": {
        "id": "Vhb0KvVPwtbG"
      },
      "source": [
        "### Network Protocols"
      ]
    },
    {
      "cell_type": "markdown",
      "metadata": {
        "id": "KRGJYQUA6oC6"
      },
      "source": [
        "Is TCP a transpor, network,   or link-layer protocol?\n",
        "\n",
        "How does IPv4 identify the next-higher-level protocol that should process are incoming message? How might this dispatching differ in other networking architectures?\n",
        "\n",
        "How many hosts can exist in an IPv4 subnet with a mask of 255.255.255.0?\n",
        "\n",
        "What is a broadcast message? How are broadcast messages identified in IPv4? How are IPv6 broadcast messages identified?\n",
        "\n",
        "Why are the TCP and UDP protocol control blocks kept on separate list?\n",
        "\n",
        "Why does the output routine, rather then the socket-layer sen droutine (`sosend()`), check the destination address of an outgoing packet to see wheather the destination address in a broadcast address?\n",
        "\n",
        "Why does FreeBSD not forward broadcast messages?\n",
        "\n",
        "Why does TCP header include a header-length field even though it is alaways encapsulated in an IP packet tha tcontains the length of the TCP message?\n",
        "\n",
        "Wha tis the flow-control mechanism used by TCP to limit the rate at which data are transmitted?\n",
        "\n",
        "How does TCP recogniezed meesages from a host that are directed to a connection that existed previously but tha thas since been shut down (such as after a machine is rebooted)?\n",
        "\n",
        "When is the size of the TCP recieve window fo aconnection not queal to the amount of space availabvle in the associated socket' srecieve buffer? Why are these values not eaual at that time?\n",
        "\n",
        "What are keepalive messages? For what does TCP use them? Why are keep alive mesages implemented in teh kernel rather than, say , in each appplication that wants this facility?\n",
        "\n",
        "Why is calculating a `smoodted` round-trip important, rather than, for example, just averagign calculated round-trip times?\n",
        "\n",
        "Why does TCP relay acknowledgments for recieved data? What is the maximun time the TCP wil delay acknoledgment?\n",
        "\n",
        "Explain what the silly-window syndrome is. Give an example in which its avoidance is important to good protocol performace. Explain how the FreeBSD TCP avoids this problem\n",
        "\n",
        "What is meant by `small-packet avoidance?` Why  is small--packet avoidance bad for clients (e.g the X Window System) that exhibit one-way data flow and that require low latency for good interactice performace?\n",
        "\n",
        "Describe three ways in which IPV6 differ from IPV4\n",
        "\n",
        "In IPV6, that protocol replaces ARP for translading IP addresses to hardware addreses?\n",
        "\n",
        "What does the networking code use the network mask, or prexix, or a link to determine?\n",
        "\n",
        "Why are the separete protocols  for authentication and encryption in IPSec?\n",
        "\n",
        "Why limination of ARP does neighbor discovery overcome? How does it overcome this limination?\n",
        "\n",
        "How is the protection offered to packets by IPSec different in tunnel mode and transport mode?\n",
        "\n",
        "Why is the initial sequence number for TCP connection selected at random, rather than being, say, always set to zero?\n",
        "\n",
        "Is the TCP protocol, why do the SYN and FIN flags occupy space in the sequence-number space?\n",
        "\n",
        "Describe a typical TCP packet exahgne durign connection setup. Assume that an active lcient initiated th econnection to a passive server. Hwo  woudl this sceneario change if the server tried simultaneosly to initiate a coonection to the client?\n",
        "\n",
        "Sketch the TCP state transition stha twould take place if a server process accepted a conection an then immediately closed that connection before reciebin gany data. How would this scenario be altered if FreeBSD TCP  supported a mechanism where a server could refuse a connection request before the system completed the connection?\n",
        "\n",
        "Why does UDP math the completly specified destination addresses of incoming mesages to skcets with imcomplete local and remote destinoatio addresses?\n",
        "\n",
        "Why migh ta sender set the Don't Fragmetn falg in th eheader of an IP packet?\n",
        "\n",
        "Why does TCP use the timestampt option in addition to the sequence number in dectetion old duplicate packets? Under what circumstances in this detection most desirable?\n",
        "\n",
        "Describe path MTU discovery. Can FreeBSD take advantage of the fact that the MTU of a path has suddlently increased?  Why or Why not?\n",
        "\n",
        "What are the tardeoffs betwen frequent and infrequent transmission of router advertisements in IPv6?\n",
        "\n",
        "Describe three paths that a packet can take trhough the networking code? How and wehre is each path chosen?\n",
        "\n"
      ]
    },
    {
      "cell_type": "markdown",
      "metadata": {
        "id": "A-RW46tmkOjj"
      },
      "source": [
        "## Part V System Operation"
      ]
    },
    {
      "cell_type": "markdown",
      "metadata": {
        "id": "dAwP7WDhwzC5"
      },
      "source": [
        "### Startup and Shutdown"
      ]
    },
    {
      "cell_type": "markdown",
      "metadata": {
        "id": "fn9WOTm1AtDp"
      },
      "source": [
        "What is the purpose  of the boot program?\n",
        "\n",
        "Wha tis the job ot the asembly-l;angeu startup? Wh is this program wirtten in assembly langauge?\n",
        "\n",
        "What processes are stated when the system is booded?\n",
        "\n",
        "How the kernel modeules loaded int ot eh system at boo time?  Give an exmaple of a kernel module\n",
        "\n",
        "The rebbot sysetm call causes the system to halt or rrbbot. Giv etwo reasosn why this system cal is useful\n",
        "\n",
        "Give two reasos why kernel-loaddable modules are useful in delevoping kernel services. Give an reason not use them\n",
        "\n",
        "Why is neceessary to have a particlar order in wh ich the kernel services are loaded and initilated? why is also necesar yto have a particlar order in which kernel services are shutown?\n",
        "\n",
        "Suppose that machien does not have a battery-backup time-of-day clock. Propose a method for determinig that a time-of--day clock is inccorect. Describe a way to initizle the clok;s time of day. What are the liminations of your method?\n",
        "\n",
        "What are the necesary macros to create are kernel-loadable module? How would you tet your module without linkin gint direcly into the kernel?"
      ]
    }
  ]
}