{
  "nbformat": 4,
  "nbformat_minor": 0,
  "metadata": {
    "colab": {
      "name": "Coders at Work.ipynb",
      "provenance": [],
      "toc_visible": true,
      "authorship_tag": "ABX9TyOzKiitcp8J0HINcsRsTvZ3",
      "include_colab_link": true
    },
    "kernelspec": {
      "name": "python3",
      "display_name": "Python 3"
    },
    "language_info": {
      "name": "python"
    }
  },
  "cells": [
    {
      "cell_type": "markdown",
      "metadata": {
        "id": "view-in-github",
        "colab_type": "text"
      },
      "source": [
        "<a href=\"https://colab.research.google.com/github/dbremont/Notas/blob/main/Libros/Computacion/Coders_at_Work.ipynb\" target=\"_parent\"><img src=\"https://colab.research.google.com/assets/colab-badge.svg\" alt=\"Open In Colab\"/></a>"
      ]
    },
    {
      "cell_type": "markdown",
      "metadata": {
        "id": "Ece22H0tpTpb"
      },
      "source": [
        "# Coders at Work\n",
        "\n"
      ]
    },
    {
      "cell_type": "markdown",
      "metadata": {
        "id": "ThlHcFidGHa7"
      },
      "source": [
        "## Jamie Zawinski"
      ]
    },
    {
      "cell_type": "markdown",
      "metadata": {
        "id": "1ctsn8ulH6Br"
      },
      "source": [
        "## Brad Fitzpatrick"
      ]
    },
    {
      "cell_type": "markdown",
      "metadata": {
        "id": "JyCX1zB3H8EF"
      },
      "source": [
        "## Douglas Crockford"
      ]
    },
    {
      "cell_type": "markdown",
      "metadata": {
        "id": "-mqIpxF7H-3s"
      },
      "source": [
        "## Brendan Eich"
      ]
    },
    {
      "cell_type": "markdown",
      "metadata": {
        "id": "qjn-MHqAIAx8"
      },
      "source": [
        "## Joshua Bloch"
      ]
    },
    {
      "cell_type": "markdown",
      "metadata": {
        "id": "AJ80E1-1IEKF"
      },
      "source": [
        "## Joe Amstrong"
      ]
    },
    {
      "cell_type": "markdown",
      "metadata": {
        "id": "VTjUf6vSIFy7"
      },
      "source": [
        "## Simon Peyton Jones"
      ]
    },
    {
      "cell_type": "markdown",
      "metadata": {
        "id": "UByWW3PcIILP"
      },
      "source": [
        "## Peter Norvig"
      ]
    },
    {
      "cell_type": "markdown",
      "metadata": {
        "id": "1qwVnpX8IKGl"
      },
      "source": [
        "## Guy Steele"
      ]
    },
    {
      "cell_type": "markdown",
      "metadata": {
        "id": "zrgd6lYLIMrK"
      },
      "source": [
        "## Dan Ingalls"
      ]
    },
    {
      "cell_type": "markdown",
      "metadata": {
        "id": "6ydJPXbdIOp0"
      },
      "source": [
        "## Peter Deutsch"
      ]
    },
    {
      "cell_type": "markdown",
      "metadata": {
        "id": "NmQWoTKpISVx"
      },
      "source": [
        "## Ken Thompson"
      ]
    },
    {
      "cell_type": "markdown",
      "metadata": {
        "id": "rccn7RpnIVRY"
      },
      "source": [
        "## Fran Allen"
      ]
    },
    {
      "cell_type": "markdown",
      "metadata": {
        "id": "-vqKmq5rIXBS"
      },
      "source": [
        "## Bernie Cosell"
      ]
    },
    {
      "cell_type": "markdown",
      "metadata": {
        "id": "CVlYTavhIZ2a"
      },
      "source": [
        "## Donald Knuth"
      ]
    }
  ]
}