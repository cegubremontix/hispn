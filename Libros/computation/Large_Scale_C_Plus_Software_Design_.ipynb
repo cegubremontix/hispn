{
  "nbformat": 4,
  "nbformat_minor": 0,
  "metadata": {
    "colab": {
      "name": "Large Scale C++ Software Design .ipynb",
      "provenance": [],
      "authorship_tag": "ABX9TyPnpvPSRlEhmEQQ7lRURk1i",
      "include_colab_link": true
    },
    "kernelspec": {
      "name": "python3",
      "display_name": "Python 3"
    },
    "language_info": {
      "name": "python"
    }
  },
  "cells": [
    {
      "cell_type": "markdown",
      "metadata": {
        "id": "view-in-github",
        "colab_type": "text"
      },
      "source": [
        "<a href=\"https://colab.research.google.com/github/dbremont/Notas/blob/main/Libros/Computacion/Large_Scale_C_Plus_Software_Design_.ipynb\" target=\"_parent\"><img src=\"https://colab.research.google.com/assets/colab-badge.svg\" alt=\"Open In Colab\"/></a>"
      ]
    },
    {
      "cell_type": "markdown",
      "metadata": {
        "id": "pvItFLH35N4c"
      },
      "source": [
        "## Introduction"
      ]
    },
    {
      "cell_type": "markdown",
      "metadata": {
        "id": "FRsfVZSz57CM"
      },
      "source": [
        "The number of control flow paths through an object oriented system can be explosively large.\n",
        "\n",
        "The goal of a great programmer is to write abstraction, and create new programming concepts.\n",
        "\n",
        "Cyclic Dependencies\n",
        "\n",
        "Translation Units\n",
        "\n",
        "Link Time Dependencies\n",
        "\n",
        "Compile Time Dependencies\n",
        "\n",
        "Logical Design\n",
        "\n",
        "Physical Design\n",
        "\n",
        "Tools for Designing, Debugging, Analyzing Programs\n",
        "\n",
        "\n",
        "The ability to alter intenrel behavior via virtual functions can invalidate cross invarants essential to correct performace.\n",
        "\n",
        "The number of control flow paths through an ojbect oriented system can be explosively large.\n",
        "\n",
        "The goal of aprogramer is to write great abstractions and design new programmign concepts, a domain lanugae creator.\n",
        "\n",
        "- Cycle Dependencies\n",
        "\n",
        "- Translatation Unit\n",
        "\n",
        "- Link Time Dependency\n",
        "\n",
        "- Compile Time Dependencies\n",
        "\n",
        "- Logical Design\n",
        "\n",
        "- Physical Design\n",
        "\n",
        "- Translation Unit\n",
        "\n",
        "- Good Tools are an important part of the development process"
      ]
    },
    {
      "cell_type": "markdown",
      "metadata": {
        "id": "9fxms2D95TnE"
      },
      "source": [
        "# Basics"
      ]
    },
    {
      "cell_type": "markdown",
      "metadata": {
        "id": "BJ4KvNR-5Wp0"
      },
      "source": [
        "## Preliminaries"
      ]
    },
    {
      "cell_type": "markdown",
      "metadata": {
        "id": "kJdIbtt05Yq5"
      },
      "source": [
        "## Ground Rules"
      ]
    },
    {
      "cell_type": "markdown",
      "metadata": {
        "id": "h_-Y3ftj5bzC"
      },
      "source": [
        "# Physical Design Concepts"
      ]
    },
    {
      "cell_type": "markdown",
      "metadata": {
        "id": "qgoTBuF75eh4"
      },
      "source": [
        "## Components"
      ]
    },
    {
      "cell_type": "markdown",
      "metadata": {
        "id": "lq3rKDqI5gcQ"
      },
      "source": [
        "## Physical Hierarchy"
      ]
    },
    {
      "cell_type": "markdown",
      "metadata": {
        "id": "jzEUhfFZ5i-7"
      },
      "source": [
        "## Levelization"
      ]
    },
    {
      "cell_type": "markdown",
      "metadata": {
        "id": "EdVdGZcF5mDR"
      },
      "source": [
        "## Insulation"
      ]
    },
    {
      "cell_type": "markdown",
      "metadata": {
        "id": "j3VjHt-G5oKG"
      },
      "source": [
        "## Packages"
      ]
    },
    {
      "cell_type": "markdown",
      "metadata": {
        "id": "uJ0OuLy-5qhr"
      },
      "source": [
        "# Logical Design Issues"
      ]
    },
    {
      "cell_type": "markdown",
      "metadata": {
        "id": "2PQm1OHJ5tAA"
      },
      "source": [
        "## Architecting a Component"
      ]
    },
    {
      "cell_type": "markdown",
      "metadata": {
        "id": "96CVyqXX5w5j"
      },
      "source": [
        "## Designing a Function"
      ]
    },
    {
      "cell_type": "markdown",
      "metadata": {
        "id": "ZU0BvV615zh8"
      },
      "source": [
        "## Implementing an Object"
      ]
    }
  ]
}