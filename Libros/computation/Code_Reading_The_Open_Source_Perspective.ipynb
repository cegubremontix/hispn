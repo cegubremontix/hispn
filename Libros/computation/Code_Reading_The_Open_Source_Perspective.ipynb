{
  "nbformat": 4,
  "nbformat_minor": 0,
  "metadata": {
    "kernelspec": {
      "display_name": "Python 2.7.18 64-bit",
      "name": "python2718jvsc74a57bd0f92b2924b84ff19c1c3dc485f7644d4486f64738191026bf8e6de303969141b5"
    },
    "language_info": {
      "name": "python",
      "version": ""
    },
    "metadata": {
      "interpreter": {
        "hash": "f92b2924b84ff19c1c3dc485f7644d4486f64738191026bf8e6de303969141b5"
      }
    },
    "orig_nbformat": 2,
    "colab": {
      "name": "Code Reading - The Open Source Perspective.ipynb",
      "provenance": [],
      "toc_visible": true,
      "include_colab_link": true
    }
  },
  "cells": [
    {
      "cell_type": "markdown",
      "metadata": {
        "id": "view-in-github",
        "colab_type": "text"
      },
      "source": [
        "<a href=\"https://colab.research.google.com/github/dbremont/Notas/blob/main/Libros/computation/Code_Reading_The_Open_Source_Perspective.ipynb\" target=\"_parent\"><img src=\"https://colab.research.google.com/assets/colab-badge.svg\" alt=\"Open In Colab\"/></a>"
      ]
    },
    {
      "cell_type": "markdown",
      "metadata": {
        "id": "DHLTcXFb57Az"
      },
      "source": [
        "# Code Reading - The Open Source Perspective\n",
        "\n",
        "[Code Reading List](https://gitlab.com/-/snippets/2236758`)\n",
        "\n",
        "[Code Reading](https://www.spinellis.gr/codereading/)\n",
        "\n",
        "[Source Code Outline](https://www.spinellis.gr/codequality/source.html)\n",
        "\n",
        "[Download Source Code](https://zenodo.org/record/2526243#.YJgDR6KYW00)\n",
        "\n",
        "- The only way to learn to write code is reading lots of code, good code, bad code to note the different between the twos.\n",
        "\n",
        "- Code in Assembly, Haskell, C, Python, Java, OCaml, ...\n",
        "\n",
        "- Great novelist learn from reading each other.\n",
        "\n",
        "- When reading ask the following question, \"**why is this written this way?**\".\n",
        "\n",
        "Reading Large Code Basis:\n",
        "\n",
        "[General Guide For Exploring Large Open Source Codebases](https://pncnmnp.github.io/blogs/oss-guide.html)\n",
        "\n",
        "[Contributing to Complex Projects](https://mitchellh.com/writing/contributing-to-complex-projects)\n",
        "\n",
        "[Using\tClang\tto\tVisualize\tLarge\t Codebases](https://llvm.org/devmtg/2014-10/Slides/Hawes-Frappe.pdf)\n",
        "\n",
        "[Visualizing Codebases](https://octo-repo-visualization.vercel.app)\n",
        "\n",
        "[cloc](https://github.com/AlDanial/cloc)\n",
        "\n",
        "[cflow](https://en.wikipedia.org/wiki/GNU_cflow)"
      ]
    },
    {
      "cell_type": "markdown",
      "metadata": {
        "id": "9USi3M0raGgh"
      },
      "source": [
        "## Introduction\n"
      ]
    },
    {
      "cell_type": "markdown",
      "metadata": {
        "id": "2qbjY0Iycdhd"
      },
      "source": [
        "- Reading real-life well-written code can give you insights on how to structured and program nontrivial systems, a skill that cannot be learned by writing toy-sized programs. \n",
        "\n",
        "- **Goals of the book**:\n",
        "  - Be able to read and understand nontrivial softawre code.\n",
        "  - Appreciate many important software development concepts\n",
        "  - Know how to explore large bodies of code\n",
        "  - Have a readign capability of a multitude of important high and low-level programming languages\n",
        "  - Appreciate the intricacies of real software projects\n",
        "\n",
        "- **Before we begin**:\n",
        "  1. You should know C, C++ and Java.\n",
        "  2. Exposure to the systems and applications discuss will enhace you understanding of the material.\n",
        "\n",
        "- **1.1  Why and How to Read Code**\n",
        "\n",
        "- Read **high-quality code**  with an objective in mind: \n",
        "  - To learn new idioms, \n",
        "  - To see how things works,\n",
        "  - To learn a new architectural patterns,\n",
        "  - To trigger my imagination,\n",
        "  - To enrich my vocabulary(like while reading prose)\n",
        "  - To extract pieces of code to use in projects.\n",
        "\n",
        "**How detect low quality code** :\n",
        "  1. An incosistent coding style\n",
        "  2. A gratiotously complicated or unreadable structure\n",
        "  3. Obvious logical erors or omissions\n",
        "  4. Overuse of nonportable construcs\n",
        "  5. Lack of maintenance\n",
        "\n",
        "**Maintenance**\n",
        "\n",
        "How to fix bugs in large systems\n",
        "\n",
        "- Use tools like (More about in chapter 10):\n",
        "  1. Debugger,\n",
        "  2. Compiler warnings,\n",
        "  3. a system call tracer,\n",
        "  4. packet dump tools,\n",
        "  5. If in java use **aspecj** to add new functionality.\n",
        "\n",
        "**Evolution**\n",
        "\n",
        "  1. To add  a new functionality: look for something similar an used as a template.\n",
        "  2. ...\n",
        "  3. What to do when there is not example?\n",
        "\n",
        "**Relationships use standard UML notation**:\n",
        "\n",
        "1. Class **inheritance** is drawn using a generalization principle. (Solid line)\n",
        "2. An **interface** implementation is drawn as a realization relationship: a dashed lien with an empty arrow.\n",
        "3. A **dependency** between two elements.\n",
        "4. A **composition**\n",
        "\n",
        "**Master find, grep**\n"
      ]
    },
    {
      "cell_type": "markdown",
      "metadata": {
        "id": "OFTj-18xaJYD"
      },
      "source": [
        "## Basic Programming Elements\n",
        "We present two complete programs and examine their working in a step-by-step fashion. In doing so we outline some basic strategies for code readign and identify common C control structures, building blocks, idioms, and pitfalls."
      ]
    },
    {
      "cell_type": "markdown",
      "metadata": {
        "id": "X7J4yfol4v6T"
      },
      "source": [
        "Exercise 2.2\n",
        "\n",
        "Exercise 2.5\n",
        "\n",
        "Exercise 2.6\n",
        "\n",
        "geopt\n",
        "\n",
        "Exercise 2.9\n",
        "\n",
        "Dissasembly break\n",
        "\n",
        "Dissasembly continue\n",
        "\n",
        "Exercise 2.28"
      ]
    },
    {
      "cell_type": "markdown",
      "metadata": {
        "id": "qyzwc1HbaMng"
      },
      "source": [
        "## Advanced C Data Types"
      ]
    },
    {
      "cell_type": "markdown",
      "metadata": {
        "id": "_Xvo92fK7Fy6"
      },
      "source": [
        "Pointers\n",
        "\n",
        "Linked Data Structures\n",
        "\n",
        "Performce LinkList vs ArrayList  in Java (Make a Beutiful Plot)\n",
        "\n",
        "Dynamic Allocation of Data Structures\n",
        "\n",
        "Call by Reference\n",
        "\n",
        "Function Pointers\n",
        "\n",
        "Pointer as Aliases\n",
        "\n",
        "Implementing of Variable Reference Semantics in a Global Context\n",
        "\n",
        "Pointers and Strings\n",
        "\n",
        "Direct Memory Access\n",
        "\n",
        "Structure\n",
        "\n",
        "Grouping Together Data Elements\n",
        "\n",
        "Returning Multiple Data Elementss from a Function\n",
        "\n",
        "Programming in an Object-Oriented Fashion\n",
        "\n",
        "Unions\n",
        "\n",
        "Implementing Polymorphism\n",
        "\n",
        "Accesing Different Internal Representations\n",
        "\n",
        "Exercise 3.9\n",
        "\n",
        "Dynamic Memory Allocation\n",
        "\n",
        "Managing Free Memory\n",
        "\n",
        "Structures with Dynamically Allocated Arrays\n",
        "\n",
        "```typedef``` Declarations\n",
        "\n",
        "Exercise 3.14"
      ]
    },
    {
      "cell_type": "markdown",
      "metadata": {
        "id": "abFe0u9KaO-F"
      },
      "source": [
        "## C Data Structures\n",
        "Examines how to read code embodying common data structures."
      ]
    },
    {
      "cell_type": "markdown",
      "metadata": {
        "id": "SPxC51fd9PeM"
      },
      "source": [
        "Vectors\n",
        "\n",
        "Matrices\n",
        "\n",
        "Tables\n",
        "\n",
        "Stacks\n",
        "\n",
        "Queues\n",
        "\n",
        "Exercise 4.11\n",
        "\n",
        "Exersice 4.12\n",
        "\n",
        "Exercise 4.13\n",
        "\n",
        "Maps\n",
        "\n",
        "Hash Tables\n",
        "\n",
        "Exercise 4.15\n",
        "\n",
        "Exercise 4.16\n",
        "\n",
        "Sets\n",
        "\n",
        "Linked Lists\n",
        "\n",
        "Trees\n",
        "\n",
        "Exercise 4.22\n",
        "\n",
        "Exercise 4.23\n",
        "\n",
        "Exercise 4.24\n",
        "\n",
        "Graphs\n",
        "\n",
        "Node Storage\n",
        "\n",
        "Edge Representation\n",
        "\n",
        "Edge Storage\n",
        "\n",
        "Graph Properties"
      ]
    },
    {
      "cell_type": "markdown",
      "metadata": {
        "id": "vQ8Jry2W-ICz"
      },
      "source": [
        "## Advance Control Flow"
      ]
    },
    {
      "cell_type": "markdown",
      "metadata": {
        "id": "GtZ7RBqz-gO4"
      },
      "source": [
        "Recursive code\n",
        "\n",
        "Exceptions\n",
        "\n",
        "Parallelism\n",
        "\n",
        "Asynchronous signals\n",
        "\n",
        "Nonlocal jumps\n",
        "\n",
        "Macro substitution\n",
        "\n",
        "Mutual Recursion\n",
        "\n",
        "Tail Recursive\n",
        "\n",
        "Exercise 5.1\n",
        "\n",
        "Exercise 5.2\n",
        "\n",
        "Exercise 5.3\n",
        "\n",
        "Exercise 5.4\n",
        "\n",
        "Exceptions\n",
        "\n",
        "Exercise 5.5\n",
        "\n",
        "Exercise 5.6\n",
        "\n",
        "Exercise 5.7\n",
        "\n",
        "Parallelism\n",
        "\n",
        "Hardware Support for Multitasking\n",
        "\n",
        "Machines with Multiple Processors\n",
        "\n",
        "Coarse-Grained Distributed Models\n",
        "\n",
        "The Process\n",
        "\n",
        "The Thread\n",
        "\n",
        "Ad Hoc Models\n",
        "\n",
        "Control Models\n",
        "\n",
        "Work crew control model\n",
        "\n",
        "boss/worker control model\n",
        "\n",
        "pipeline control model\n",
        "\n",
        "mutual exclusion (mutex)\n",
        "\n",
        "thread implementations\n",
        "\n",
        "exercise 5.8\n",
        "\n",
        "exercise 5.9\n",
        "\n",
        "exercise 5.10\n",
        "\n",
        "exercise 5.11\n",
        "\n",
        "exercise 5.12\n",
        "\n",
        "signals\n",
        "\n",
        "signal handler\n",
        "\n",
        "exercise 5.13\n",
        "\n",
        "exercise 5.14\n",
        "\n",
        "nonlocal jumps\n",
        "\n",
        "setjmp\n",
        "\n",
        "longjmp\n",
        "\n",
        "macro substitution\n",
        "\n",
        "exercise 5.20\n",
        "\n",
        "exercise 5.21\n",
        "\n",
        "exercise 5.22\n"
      ]
    },
    {
      "cell_type": "markdown",
      "metadata": {
        "id": "2SYkhiScaSFj"
      },
      "source": [
        "## Tackling Large Projects\n",
        "Deals with code found in really large projects: greographically distributed team effors comprising thousands of files and millions of lines of code."
      ]
    },
    {
      "cell_type": "markdown",
      "metadata": {
        "id": "0tcAIGANCMHO"
      },
      "source": [
        "Project Organization\n",
        "\n",
        "The Build Process and Makefiles\n",
        "\n",
        "Dependency graph\n",
        "\n",
        "make\n",
        "\n",
        "configuration\n",
        "\n",
        "revision control\n",
        "\n",
        "project specific tools\n",
        "\n",
        "exercise 6.16\n",
        "\n",
        "exercise 6.17\n",
        "\n",
        "exercise 6.18\n",
        "\n",
        "netbsd config\n",
        "\n",
        "javadoc \n",
        "\n",
        "Exercise 6.19\n",
        "\n",
        "Exercise 6.20\n",
        "\n",
        "Exercise 6.21\n",
        "\n",
        "Exercise 6.22\n",
        "\n",
        "Exercise 6.23\n",
        "\n",
        "Testing\n",
        "\n",
        "regression test\n",
        "\n",
        "Exercise 6.24\n",
        "\n",
        "Exercise 6.25\n",
        "\n",
        "Exercise 6.26\n",
        "\n",
        "Gnu Autoconf\n",
        "\n",
        "JUnit\n",
        "\n"
      ]
    },
    {
      "cell_type": "markdown",
      "metadata": {
        "id": "pAR2Ex_OaVQw"
      },
      "source": [
        "## Coding Standards and Conventions\n"
      ]
    },
    {
      "cell_type": "markdown",
      "metadata": {
        "id": "lDnod5XHTmNk"
      },
      "source": [
        "Common File Names\n",
        "\n",
        "Common File Extentions\n",
        "\n",
        "Indentation\n",
        "\n",
        "Formatting\n",
        "\n",
        "Exercise 7.4\n",
        "\n",
        "Naming conventions\n",
        "\n",
        "Hungarian Notation Primitive Types, Type Constructions, and Name Qualifiers\n",
        "\n",
        "Hungarian Notation for Common Visual Basic and Microsoft Access and Controls\n",
        "\n",
        "Exercise 7.5\n",
        "\n",
        "Exercise 7.6\n",
        "\n",
        "Process Standards\n",
        "\n",
        "Textinfo\n",
        "\n",
        "Exercise 7.7"
      ]
    },
    {
      "cell_type": "markdown",
      "metadata": {
        "id": "1VxFoh7paY0a"
      },
      "source": [
        "## Documentation\n",
        "Formal documentation."
      ]
    },
    {
      "cell_type": "markdown",
      "metadata": {
        "id": "3RIybITuYfqY"
      },
      "source": [
        "> Documentacion is like sex: when it is good, it is very, very good; and when it is bad, is it better than nothing - Dick Brandon\n",
        "\n",
        "System specification document\n",
        "\n",
        "Software requirements specification\n",
        "\n",
        "design specification\n",
        "\n",
        "test specification\n",
        "\n",
        "Exercise 8.1\n",
        "\n",
        "Exercise 8.2\n",
        "\n",
        "Cache Tagging\n",
        "\n",
        "tcpdump\n",
        "\n",
        "exercise 8.3\n",
        "\n",
        "exercise 8.4\n",
        "\n",
        "exercise 8.5\n",
        "\n",
        "exercise 8.6\n",
        "\n",
        "exercise 8.7\n",
        "\n",
        "exercise 8.8\n",
        "\n",
        "exercise 8.9\n",
        "\n",
        "exercise 8.10\n",
        "\n",
        "exercise 8.11\n",
        "\n",
        "Documentation Problems \n",
        "\n",
        "Undocumented features\n",
        "\n",
        "Idealized presentation\n",
        "\n",
        "Additional documentation sources\n",
        "\n",
        "Common open-source documentation formats\n",
        "\n",
        "troff \n",
        "\n",
        "Textinfo\n",
        "\n",
        "DocBook\n",
        "\n",
        "javadoc\n",
        "\n",
        "Doxygen\n",
        "\n",
        "unix manual pages\n",
        "\n",
        "Exercise 8.14\n",
        "\n",
        "Exercise 8.15"
      ]
    },
    {
      "cell_type": "markdown",
      "metadata": {
        "id": "rTXn-TuLactU"
      },
      "source": [
        "## Architecture\n",
        "Provides background information and advice on viewwing the forest rather than the trees: the system's architecture rather than itts code details."
      ]
    },
    {
      "cell_type": "markdown",
      "metadata": {
        "id": "i6TEOWaSc6rD"
      },
      "source": [
        "blackboard system\n",
        "\n",
        "remote procedure call\n",
        "\n",
        "remote method invocation\n",
        "\n",
        "middleware\n",
        "\n",
        "data-flow architectures\n",
        "\n",
        "object-oriented structures\n",
        "\n",
        "generalization relationship\n",
        "\n",
        "multiple inheritance\n",
        "\n",
        "round-trip engineering modeling\n",
        "\n",
        "layered architectures\n",
        "\n",
        "virtual machine interface\n",
        "\n",
        "hierarchies\n",
        "\n",
        "hierarchical decomposition\n",
        "\n",
        "slicing\n",
        "\n",
        "coupling\n",
        "\n",
        "Exercise 9.1\n",
        "\n",
        "Exercise 9.2\n",
        "\n",
        "Exercise 9.3\n",
        "\n",
        "Exercise 9.4\n",
        "\n",
        "Exercise 9.5\n",
        "\n",
        "Exercise 9.6\n",
        "\n",
        "Exercise 9.7\n",
        "\n",
        "Exercise 9.8\n",
        "\n",
        "Control models\n",
        "\n",
        "Event-Driven Systems\n",
        "\n",
        "System Manager\n",
        "\n",
        "system manager control model\n",
        "\n",
        "state transition\n",
        "\n",
        "state transition model\n",
        "\n",
        "state machine\n",
        "\n",
        "initial state\n",
        "\n",
        "final state\n",
        "\n",
        "Exercise 9.9\n",
        "\n",
        "Exercise 9.10\n",
        "\n",
        "Exercise 9.11\n",
        "\n",
        "Exercise 9.12\n",
        "\n",
        "Modules\n",
        "\n",
        "bsd window package\n",
        "\n",
        "names spaces\n",
        "\n",
        "objects\n",
        "\n",
        "method\n",
        "\n",
        "inheritance hierarchy\n",
        "\n",
        "class browser\n",
        "\n",
        "fields and methods\n",
        "\n",
        "constructors\n",
        "\n",
        "destructors\n",
        "\n",
        "object and class members\n",
        "\n",
        "visibility\n",
        "\n",
        "acess methods\n",
        "\n",
        "Polymorphism\n",
        "\n",
        "Operator Overloading\n",
        "\n",
        "Clases in C\n",
        "\n",
        "Generic Implementations\n",
        "\n",
        "Abstract Data Types\n",
        "\n",
        "Libraries\n",
        "\n",
        "Code Reuse \n",
        "\n",
        "Encapsulation\n",
        "\n",
        "Structure\n",
        "\n",
        "Optimization of the Build Process\n",
        "\n",
        "Reduction of Code Size\n",
        "\n",
        "Dynamic Linking\n",
        "\n",
        "Process and Filters\n",
        "\n",
        "process\n",
        "\n",
        "compiler driver\n",
        "\n",
        "filter\n",
        "\n",
        "components\n",
        "\n",
        "data repositories\n",
        "\n",
        "exercise 9.13\n",
        "\n",
        "exercise 9.14\n",
        "\n",
        "exercise 9.15\n",
        "\n",
        "exercise 9.16\n",
        "\n",
        "exercise 9.17\n",
        "\n",
        "exercise 9.18\n",
        "\n",
        "exercise 9.19\n",
        "\n",
        "exercise 9.20\n",
        "\n",
        "exercise 9.21\n",
        "\n",
        "Architecture reuse\n",
        "\n",
        "frameworks\n",
        "\n",
        "code wizards\n",
        "\n",
        "design patterns\n",
        "\n",
        "domain specific architectures\n",
        "\n",
        "interpreter state\n",
        "\n",
        "program state\n",
        "\n",
        "reference architectures\n",
        "\n",
        "Exercise 9.22\n",
        "\n",
        "Exercise 9.23\n",
        "\n",
        "Exercise 9.24\n",
        "\n",
        "Exercise 9.25\n",
        "\n",
        "Exercise 9.26\n",
        "\n"
      ]
    },
    {
      "cell_type": "markdown",
      "metadata": {
        "id": "SiFH36Ucae79"
      },
      "source": [
        "## Code-Reading Tools\n"
      ]
    },
    {
      "cell_type": "markdown",
      "metadata": {
        "id": "tKCO6yHNqYXW"
      },
      "source": [
        "339\n",
        "\n",
        "- give us the tools and we will finish the jobs\n",
        "- etag\n",
        "- idutils indexing tools\n",
        "- exuberants etags\n",
        "- grep to search files\n",
        "- grep -l\n",
        "- diff, xdiff\n",
        "- sed, awk, sort, uniq, diff\n",
        "- the compiler as a code reading tools\n",
        "- code browser (cscope, source-navigator)\n",
        "  - .net source navigator java\n",
        "  - definitions\n",
        "  - references\n",
        "  - a call graph\n",
        "  - a callen graph\n",
        "  - a file outline\n",
        "\n",
        "- cb (c beaufity)   \n",
        "- vgrint\n",
        "- rmdir\n",
        "- cdcl\n",
        "\n",
        "\n",
        "- debugger\n",
        "  - code breakpoint\n",
        "  - data breakpoint\n",
        "  - variables display\n",
        "  - a static dumpt\n",
        "  - structure browsing\n",
        "    - help to understand data structures\n",
        "\n",
        "- rune time tools\n",
        "  - trace\n",
        "  - strace\n",
        "  - tcpdumpt\n",
        "  - xev\n",
        "  - gprof\n",
        "  - draw diagrams\n"
      ]
    },
    {
      "cell_type": "markdown",
      "metadata": {
        "id": "XWMxLK68aiNJ"
      },
      "source": [
        "\n",
        "## A Complete Example"
      ]
    },
    {
      "cell_type": "markdown",
      "metadata": {
        "id": "0BD0tSdWhoPZ"
      },
      "source": [
        "hsqldb\n",
        "\n",
        "\n"
      ]
    },
    {
      "cell_type": "markdown",
      "metadata": {
        "id": "HEMbHurLakUW"
      },
      "source": [
        "## Outline of the Code Provided\n",
        " "
      ]
    },
    {
      "cell_type": "markdown",
      "metadata": {
        "id": "TfJqW6tiankg"
      },
      "source": [
        "## Source Code Credits"
      ]
    },
    {
      "cell_type": "markdown",
      "metadata": {
        "id": "BqI0CoJFapsI"
      },
      "source": [
        "## Referenced Source Files"
      ]
    },
    {
      "cell_type": "markdown",
      "metadata": {
        "id": "ssRZYryuawWi"
      },
      "source": [
        "## Source Code Licences"
      ]
    },
    {
      "cell_type": "markdown",
      "metadata": {
        "id": "CtxMkxTAazz0"
      },
      "source": [
        "## Maxims for Reading Code"
      ]
    }
  ]
}