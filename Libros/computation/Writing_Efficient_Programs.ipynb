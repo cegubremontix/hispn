{
  "nbformat": 4,
  "nbformat_minor": 0,
  "metadata": {
    "colab": {
      "name": "Writing Efficient Programs.ipynb",
      "provenance": [],
      "authorship_tag": "ABX9TyN7gwhW1gibZLuF2JQQvDQg",
      "include_colab_link": true
    },
    "kernelspec": {
      "name": "python3",
      "display_name": "Python 3"
    },
    "language_info": {
      "name": "python"
    }
  },
  "cells": [
    {
      "cell_type": "markdown",
      "metadata": {
        "id": "view-in-github",
        "colab_type": "text"
      },
      "source": [
        "<a href=\"https://colab.research.google.com/github/dbremont/Notas/blob/main/Libros/Computacion/Writing_Efficient_Programs.ipynb\" target=\"_parent\"><img src=\"https://colab.research.google.com/assets/colab-badge.svg\" alt=\"Open In Colab\"/></a>"
      ]
    },
    {
      "cell_type": "markdown",
      "metadata": {
        "id": "gkfjOx0VuD58"
      },
      "source": [
        "## Introduction"
      ]
    },
    {
      "cell_type": "markdown",
      "metadata": {
        "id": "v9ia5Je2vQZP"
      },
      "source": [
        "## An Example"
      ]
    },
    {
      "cell_type": "markdown",
      "metadata": {
        "id": "UYjqNNlkvR61"
      },
      "source": [
        "## The Context"
      ]
    },
    {
      "cell_type": "markdown",
      "metadata": {
        "id": "hM_AHgb5vUQR"
      },
      "source": [
        "## Modifying Data Structures"
      ]
    },
    {
      "cell_type": "markdown",
      "metadata": {
        "id": "ZRmRZHLZvYqs"
      },
      "source": [
        "## Modifying Code"
      ]
    },
    {
      "cell_type": "markdown",
      "metadata": {
        "id": "k7Q9XXSnvdCR"
      },
      "source": [
        "## System-Dependent Efficiency"
      ]
    },
    {
      "cell_type": "markdown",
      "metadata": {
        "id": "4zwDB6IAvi-n"
      },
      "source": [
        "## Applying the Techniques"
      ]
    },
    {
      "cell_type": "markdown",
      "metadata": {
        "id": "wwf_yEQPwMCS"
      },
      "source": [
        "## Sorting and Searching"
      ]
    }
  ]
}