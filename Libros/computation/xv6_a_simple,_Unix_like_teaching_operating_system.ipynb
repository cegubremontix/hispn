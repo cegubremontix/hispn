{
  "nbformat": 4,
  "nbformat_minor": 0,
  "metadata": {
    "colab": {
      "name": "xv6: a simple, Unix-like teaching operating system.ipynb",
      "provenance": [],
      "toc_visible": true,
      "authorship_tag": "ABX9TyP0P76s7ye/sUvAZpEtSXGt",
      "include_colab_link": true
    },
    "kernelspec": {
      "name": "python3",
      "display_name": "Python 3"
    },
    "language_info": {
      "name": "python"
    }
  },
  "cells": [
    {
      "cell_type": "markdown",
      "metadata": {
        "id": "view-in-github",
        "colab_type": "text"
      },
      "source": [
        "<a href=\"https://colab.research.google.com/github/dbremont/Notas/blob/main/Libros/Computacion/xv6_a_simple%2C_Unix_like_teaching_operating_system.ipynb\" target=\"_parent\"><img src=\"https://colab.research.google.com/assets/colab-badge.svg\" alt=\"Open In Colab\"/></a>"
      ]
    },
    {
      "cell_type": "markdown",
      "metadata": {
        "id": "QlbR9PaO0klA"
      },
      "source": [
        "- [xv6: a simple, Unix-like teaching operating system](https://pdos.csail.mit.edu/6.S081/2020/xv6/book-riscv-rev1.pdf)"
      ]
    },
    {
      "cell_type": "markdown",
      "metadata": {
        "id": "7EmQD60KxrtI"
      },
      "source": [
        "- [QEMU setup instructions](http://www.cs.columbia.edu/~junfeng/11sp-w4118/tools.html)"
      ]
    },
    {
      "cell_type": "markdown",
      "metadata": {
        "id": "LzJs3I4z3DEX"
      },
      "source": [
        "## Operative system interfaces"
      ]
    },
    {
      "cell_type": "markdown",
      "metadata": {
        "id": "1SJizz0YBGDX"
      },
      "source": [
        "-  The job of the operating system is to share a computer among multiple programs and to provide a more useful set of services than the hardware alone supports. \n",
        "\n",
        "- An **os** abstract the low-level hardware, so for example a word processor does not need to know which type of disk hardware is being used.\n",
        "\n",
        "- An **os**  provides servicies to users programs through an **interface**. Designign a good interface is dificult.\n",
        "\n",
        "- Good interfaces:\n",
        "  - Simples,\n",
        "  - Narrow -> makes easier to get the implementation right.\n",
        "\n",
        "- In order to design a good **os** interface one has to balance the services that the interface provides vs its simplicify + narrowness.\n",
        "  - A good way to find this balance is to provides a few mechanisms that can be combine to providate much generality.\n",
        "\n",
        "- **kernel** a special program that provides services to other programs.\n",
        "- Each running program is called a **process**, has memory containing instructions, data, and a stack. The instructions implement the programs computations.\n",
        "\n",
        "- The computations alters the data.\n",
        "\n",
        "- The stack organizes the programs's procedures calls.\n",
        "\n",
        "- When a proces needs to invoke a kernel service, it invokes a **system call**, one of the calls in the operating system's interface. The system enters  the kernel; the kernel performs the service and returns. Thus a process alternates between executing in **user space** and **kernel space**.\n",
        "\n",
        "- The kernel uses the hardware protectiosn mechanims provided by the **CPU**,  to ensure that each process  executing in user space can access only its own memory.\n",
        "\n",
        "- The kernel executes with the hardware privileges.\n",
        "\n",
        "- When a user program invokes a system call, the hardware raises the privilege level and starts executing a pre-arranged function in the kernel.\n",
        "\n",
        "- The collection of system calls that a kernel  provides is the interface that users programs see.\n",
        "\n",
        "\n",
        "**Processes and Memory**\n",
        "\n",
        "**Preguntas, Ejercicios**\n",
        "\n",
        "  - see the shell in user/sh.c\n",
        "  - hardware privilemod\n",
        "  - userpace vs kernel space\n",
        "  - system calls\n",
        "  - what is an os\n",
        "  - trade offs in designing an os interface?\n",
        "  - what are the componetns of a process?"
      ]
    },
    {
      "cell_type": "markdown",
      "metadata": {
        "id": "77IhSGNH6XbO"
      },
      "source": [
        "## Page tables"
      ]
    },
    {
      "cell_type": "markdown",
      "metadata": {
        "id": "7kvcn1rf6xDZ"
      },
      "source": [
        "1.  Parse RISC-V’s device tree to find the amount of physical memory the computer has.\n",
        "\n",
        "2. Write a user program that grows its address space by one byte by calling `sbrk(1)`. Run\n",
        "the program and investigate the page table for the program before the call to `sbrk` and after\n",
        "the call to `sbrk`. How much space has the kernel allocated? What does the PTE for the new\n",
        "memory contain?\n",
        "\n",
        "3. Modify xv6 to use super pages for the kernel.\n",
        "\n",
        "4. Modify xv6 so that when a user program dereferences a null pointer, it will receive an exception. That is, modify xv6 so that virtual address 0 isn’t mapped for user programs.\n",
        "\n",
        "5. Unix implementations of `exec` traditionally include special handling for shell scripts. If the\n",
        "file to execute begins with the text `#!`, then the first line is taken to be a program to run to\n",
        "interpret the file. For example, if exec is called to run myprog arg1 and myprog ’s first\n",
        "line is `#!/interp`, then exec runs `/interp` with command line `/interp myprog arg1`.\n",
        "Implement support for this convention in xv6.\n",
        "\n",
        "6. Implement address space randomization for the kernel"
      ]
    },
    {
      "cell_type": "markdown",
      "metadata": {
        "id": "WEOW4isk6eK6"
      },
      "source": [
        "## Traps and system calls"
      ]
    },
    {
      "cell_type": "markdown",
      "metadata": {
        "id": "AeA-1XvF7Shx"
      },
      "source": [
        "1. The functions `copyin` and copyinstr walk the user page table in software. Set up\n",
        "the kernel page table so that the kernel has the user program mapped, and `copyin` and\n",
        "`copyinstr` can use `memcpy` to copy system call arguments into kernel space, relying on\n",
        "the hardware to do the page table walk\n",
        "\n",
        "2. Implement lazy memory allocation\n",
        "\n",
        "3. Implement COW fork"
      ]
    },
    {
      "cell_type": "markdown",
      "metadata": {
        "id": "IXvYSLLl6h8S"
      },
      "source": [
        "## Interrupts and device drivers"
      ]
    },
    {
      "cell_type": "markdown",
      "metadata": {
        "id": "eTDORFrn7ipv"
      },
      "source": [
        "1. Modify `uart.c` to not use interrupts at all. You may need to modify `console.c` as well.\n",
        "\n",
        "2. Add a driver for an Ethernet card"
      ]
    },
    {
      "cell_type": "markdown",
      "metadata": {
        "id": "RcOqZbJb6kGb"
      },
      "source": [
        "## Locking"
      ]
    },
    {
      "cell_type": "markdown",
      "metadata": {
        "id": "O1UwGHDC7pql"
      },
      "source": [
        "1. Comment out the calls to `acquire` and `release` in kalloc (kernel/kalloc.c:69). This seems\n",
        "like it should cause problems for kernel code that calls `kalloc`; what symptoms do you\n",
        "expect to see? When you run xv6, do you see these symptoms? How about when running\n",
        "`usertests`? If you don’t see a problem, why not? See if you can provoke a problem by\n",
        "inserting dummy loops into the critical section of `kalloc`.\n",
        "\n",
        "2. Suppose that you instead commented out the locking in `kfree` (after restoring locking\n",
        "in `kalloc`). What might now go wrong? Is lack of locks in `kfree` less harmful than in\n",
        "`kalloc`?\n",
        "\n",
        "3. If two CPUs call `kalloc` at the same time, one will have to wait for the other, which is bad\n",
        "for performance. Modify `kalloc.c` to have more parallelism, so that simultaneous calls to\n",
        "`kalloc` from different CPUs can proceed without waiting for each other.\n",
        "\n",
        "4. Write a parallel program using POSIX threads, which is supported on most operating systems. For example, implement a parallel hash table and measure if the number of puts/gets\n",
        "scales with increasing number of cores.\n",
        "\n",
        "5. Implement a subset of Pthreads in xv6. That is, implement a user-level thread library so that\n",
        "a user process can have more than 1 thread and arrange that these threads can run in parallel\n",
        "on different CPUs. Come up with a design that correctly handles a thread making a blocking\n",
        "system call and changing its shared address space."
      ]
    },
    {
      "cell_type": "markdown",
      "metadata": {
        "id": "7O0o6XqR6mCS"
      },
      "source": [
        "## Scheduling"
      ]
    },
    {
      "cell_type": "markdown",
      "metadata": {
        "id": "9NTmokum8HXD"
      },
      "source": [
        "1. Sleep has to check lk != &p->lock to avoid a deadlock (kernel/proc.c:558-561). Suppose\n",
        "the special case were eliminated by replacing\n",
        "```c\n",
        "if(lk != &p->lock){\n",
        "  acquire(&p->lock);\n",
        "  release(lk);\n",
        "}\n",
        "```\n",
        "\n",
        "  with\n",
        "\n",
        "  ```c\n",
        "release(lk);\n",
        "acquire(&p->lock);\n",
        "```\n",
        "Doing this would break sleep. How?\n",
        "\n",
        "2. Most process cleanup could be done by either `exit` or `wait`. It turns out that exit must be\n",
        "the one to close the open files. Why? The answer involves pipes.\n",
        "\n",
        "3. Implement semaphores in xv6 without using `sleep` and `wakeup` (but it is OK to use spin\n",
        "locks). Replace the uses of sleep and wakeup in xv6 with semaphores. Judge the result.\n",
        "\n",
        "4. Fix the race mentioned above between `kill` and `sleep`, so that a `kill` that occurs after\n",
        "the victim’s sleep loop checks `p->killed` but before it calls `sleep` results in the victim\n",
        "abandoning the current system call.\n",
        "\n",
        "5. Design a plan so that every sleep loop checks `p->killed` so that, for example, a process\n",
        "that is in the virtio driver can return quickly from the while loop if it is killed by another\n",
        "process.\n",
        "\n",
        "6. Modify xv6 to use only one context switch when switching from one process’s kernel thread\n",
        "to another, rather than switching through the scheduler thread. The yielding thread will need\n",
        "to select the next thread itself and call `swtch`. The challenges will be to prevent multiple\n",
        "cores from executing the same thread accidentally; to get the locking right; and to avoid\n",
        "deadlocks.\n",
        "\n",
        "7. Modify xv6’s `scheduler` to use the RISC-V `WFI` (wait for interrupt) instruction when no\n",
        "processes are runnable. Try to ensure that, any time there are runnable processes waiting to\n",
        "run, no cores are pausing in `WFI`.\n",
        "\n",
        "8. The lock `p->lock` protects many invariants, and when looking at a particular piece of xv6\n",
        "code that is protected by `p->lock`, it can be difficult to figure out which invariant is being\n",
        "enforced. Design a plan that is more clean by splitting `p->lock` into several locks."
      ]
    },
    {
      "cell_type": "markdown",
      "metadata": {
        "id": "FcBo0mtX6n0N"
      },
      "source": [
        "## File system"
      ]
    },
    {
      "cell_type": "markdown",
      "metadata": {
        "id": "H_8y74Pq9E1T"
      },
      "source": [
        "1. Why panic in `balloc` ? Can xv6 recover?\n",
        "\n",
        "2. Why panic in `1ialloc` ? Can xv6 recover?\n",
        "\n",
        "3. Why doesn’t `filealloc` panic when it runs out of files? Why is this more common and\n",
        "therefore worth handling?\n",
        "\n",
        "4. Suppose the file corresponding to ip gets unlinked by another process between `sys_link`\n",
        "’s calls to `iunlock(ip)` and `dirlink`. Will the link be created correctly? Why or why not?\n",
        "\n",
        "5. `create` makes four function calls (one to `ialloc` and three to `dirlink`) that it requires\n",
        "to succeed. If any doesn’t, create calls panic. Why is this acceptable? Why can’t any of\n",
        "those four calls fail?\n",
        "\n",
        "6. `sys_chdir` calls `iunlock(ip)` before `iput(cp->cwd)`, which might try to lock `cp->cwd`,\n",
        "yet postponing `iunlock(ip)` until after the iput would not cause deadlocks. Why not?\n",
        "\n",
        "7. Implement the `lseek` system call. Supporting `lseek` will also require that you modify\n",
        "filewrite to fill holes in the file with zero if `lseek` sets off beyond `f->ip->size`.\n",
        "\n",
        "8. Add `O_TRUNC` and `O_APPEND` to open, so that `>` and `>>` operators work in the shell.\n",
        "\n",
        "9. Modify the file system to support symbolic links."
      ]
    },
    {
      "cell_type": "markdown",
      "metadata": {
        "id": "Ms-tfN8a6sOo"
      },
      "source": [
        "## Concurrency revisited"
      ]
    },
    {
      "cell_type": "markdown",
      "metadata": {
        "id": "8hIVa1Iv9lw8"
      },
      "source": [
        "1. Modify xv6’s pipe implementation to allow a read and a write to the same pipe to proceed in\n",
        "parallel on different cores.\n",
        "\n",
        "2. Modify xv6’s `scheduler()` to reduce lock contention when different cores are looking\n",
        "for runnable processes at the same time.\n",
        "\n",
        "3. Eliminate some of the serialization in xv6’s `fork()`"
      ]
    }
  ]
}