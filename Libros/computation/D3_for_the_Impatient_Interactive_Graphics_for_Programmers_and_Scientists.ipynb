{
  "nbformat": 4,
  "nbformat_minor": 0,
  "metadata": {
    "colab": {
      "name": "D3 for the Impatient: Interactive Graphics for Programmers and Scientists.ipynb",
      "provenance": [],
      "authorship_tag": "ABX9TyOr9caQvEdgprOvNEcpnIBA",
      "include_colab_link": true
    },
    "kernelspec": {
      "name": "python3",
      "display_name": "Python 3"
    },
    "language_info": {
      "name": "python"
    }
  },
  "cells": [
    {
      "cell_type": "markdown",
      "metadata": {
        "id": "view-in-github",
        "colab_type": "text"
      },
      "source": [
        "<a href=\"https://colab.research.google.com/github/dbremont/Notas/blob/main/Libros/Computacion/D3_for_the_Impatient_Interactive_Graphics_for_Programmers_and_Scientists.ipynb\" target=\"_parent\"><img src=\"https://colab.research.google.com/assets/colab-badge.svg\" alt=\"Open In Colab\"/></a>"
      ]
    },
    {
      "cell_type": "markdown",
      "source": [
        "## Introduction"
      ],
      "metadata": {
        "id": "8k6GFcGb3hV3"
      }
    },
    {
      "cell_type": "markdown",
      "source": [
        "## Let's Make Some Graphs, Already!"
      ],
      "metadata": {
        "id": "ZnLHMYrY8pSI"
      }
    },
    {
      "cell_type": "markdown",
      "source": [
        "## The Heart of the Matter: Selecting and Binding"
      ],
      "metadata": {
        "id": "RpOWBZj78s8E"
      }
    },
    {
      "cell_type": "markdown",
      "source": [
        "## Events, Interactivty, and Animation"
      ],
      "metadata": {
        "id": "iCXl2Mr_8xdj"
      }
    },
    {
      "cell_type": "markdown",
      "source": [
        "## Generation, Components, Layouts: Drawing Curves and Shapes ..."
      ],
      "metadata": {
        "id": "lI5vExk883pp"
      }
    },
    {
      "cell_type": "markdown",
      "source": [
        "## Files, Fetches, Formats: Getting Tabular Data In and Out"
      ],
      "metadata": {
        "id": "hWNKhfuC898c"
      }
    },
    {
      "cell_type": "markdown",
      "source": [
        "## Values to Visuals: Interpolations, Scales,a dn Axes"
      ],
      "metadata": {
        "id": "V6PgF9xK9DYL"
      }
    },
    {
      "cell_type": "markdown",
      "source": [
        "## Colors, Colors Scales, and Heatmaps"
      ],
      "metadata": {
        "id": "28GMf-Xb9ITy"
      }
    },
    {
      "cell_type": "markdown",
      "source": [
        "##  Trees and Networks"
      ],
      "metadata": {
        "id": "3jmKSJ0D9NT1"
      }
    },
    {
      "cell_type": "markdown",
      "source": [
        "## Utilities: Arrays, Statistics, and Timestamps"
      ],
      "metadata": {
        "id": "RDFuK-CY9PJ1"
      }
    },
    {
      "cell_type": "markdown",
      "source": [
        "## Setup, Tools, Resources"
      ],
      "metadata": {
        "id": "-a7KJZ8v9Uxy"
      }
    },
    {
      "cell_type": "markdown",
      "source": [
        "## An SVG Survival Kit"
      ],
      "metadata": {
        "id": "kr2TzxDM9Wwz"
      }
    },
    {
      "cell_type": "markdown",
      "source": [
        "## Hitchhiker's Guide to JavaScript and the DOM"
      ],
      "metadata": {
        "id": "JcyjJ5My9ZhP"
      }
    }
  ]
}