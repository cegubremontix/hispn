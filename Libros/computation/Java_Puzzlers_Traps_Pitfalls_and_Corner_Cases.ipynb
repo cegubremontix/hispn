{
  "nbformat": 4,
  "nbformat_minor": 0,
  "metadata": {
    "colab": {
      "name": "Java Puzzlers: Traps, Pitfalls and Corner Cases.ipynb",
      "provenance": [],
      "toc_visible": true,
      "authorship_tag": "ABX9TyNeB+B9cK+95S7UaR/Y+NWu",
      "include_colab_link": true
    },
    "kernelspec": {
      "name": "python3",
      "display_name": "Python 3"
    },
    "language_info": {
      "name": "python"
    }
  },
  "cells": [
    {
      "cell_type": "markdown",
      "metadata": {
        "id": "view-in-github",
        "colab_type": "text"
      },
      "source": [
        "<a href=\"https://colab.research.google.com/github/dbremont/Notas/blob/main/Libros/Computacion/Java_Puzzlers_Traps%2C_Pitfalls_and_Corner_Cases.ipynb\" target=\"_parent\"><img src=\"https://colab.research.google.com/assets/colab-badge.svg\" alt=\"Open In Colab\"/></a>"
      ]
    },
    {
      "cell_type": "markdown",
      "metadata": {
        "id": "5Evg0SOGqKDY"
      },
      "source": [
        "## Java Puzzlers: Traps, Pitfalls and Corner Cases\n",
        "\n",
        "To send puzzles puzzlers@javapuzzlers.com."
      ]
    },
    {
      "cell_type": "markdown",
      "metadata": {
        "id": "rE85FKQs5BSN"
      },
      "source": [
        "## Introduction"
      ]
    },
    {
      "cell_type": "markdown",
      "metadata": {
        "id": "edTEjHFOKrSt"
      },
      "source": [
        "**What is this book about?**\n",
        "\n",
        "- This book is about brainteasers about the Java Lanaguage and It's Core Libraries.\n",
        "\n",
        "- Most of the puzzlers exploit conuterintuitive or obscure behaviors that can lead to bugs. These behavoirs are known as *traps, pitfalls, and corner cases*.\n",
        "\n",
        "- Explore the territory of un-defined specs/semantics.\n",
        "\n",
        "**How to Read this Book?**\n",
        "  - This is a practical book, so read it with a computer.\n",
        "  \n",
        "  - Use the [Code](https://github.com/dbremont/jvtudes) as starting point to solve the puzzles.\n",
        "  \n",
        "  - **Recommended approach to get th most out the puzzles**:\n",
        "    \n",
        "    - Study the program and try to predict its vehavior without using a computer. If you don't see a trick keep looking.\n",
        "\n",
        "    - Once you think you know what the programs does, run it. Did it do what you thought it would? If not, can you come up with an explanation for the bahavior you observed?\n",
        "\n",
        "    - Think about how you might fix the program, asumming it is broken.\n",
        "\n",
        "    - **Then and only then, read the solution**.\n",
        "\n",
        "**Notes**\n",
        "\n",
        "- Many of the traps and pitfalls in these puzzles are amenable to automatic detection by *static analysis*.\n",
        "\n",
        "- Ej. FindBugs"
      ]
    },
    {
      "cell_type": "markdown",
      "metadata": {
        "id": "G3fwqe4H9Ixs"
      },
      "source": [
        "## Expressive Puzzlers"
      ]
    },
    {
      "cell_type": "markdown",
      "metadata": {
        "id": "A3PzQgBy92UL"
      },
      "source": [
        "Oddity \n",
        "\n",
        "Tiem for a Change\n",
        "\n",
        "Long Divisoin\n",
        "\n",
        "Its's Elementary\n",
        "\n",
        "The Joy of Hex\n",
        "\n",
        "Multicast\n",
        "\n",
        "Swap Meat\n",
        "\n",
        "Dos Equis\n",
        "\n",
        "Tweetdledum\n",
        "\n",
        "Tweedledee"
      ]
    },
    {
      "cell_type": "markdown",
      "metadata": {
        "id": "5zUD327x9Knp"
      },
      "source": [
        "## Puzzlers with Character"
      ]
    },
    {
      "cell_type": "markdown",
      "metadata": {
        "id": "qOudUYE9-Ggi"
      },
      "source": [
        "The Last Laugh\n",
        "\n",
        "ABC\n",
        "\n",
        "Animal Farm\n",
        "\n",
        "Escape Rout\n",
        "\n",
        "Hello Whirled\n",
        "\n",
        "Line Primer\n",
        "\n",
        "Huh?\n",
        "\n",
        "String Cheese\n",
        "\n",
        "Classy Fire\n",
        "\n",
        "What's My Class?\n",
        "\n",
        "Dupe of URL\n",
        "\n",
        "No Pain, No Gain"
      ]
    },
    {
      "cell_type": "markdown",
      "metadata": {
        "id": "zC-uL0v99Nvt"
      },
      "source": [
        "## Loopy Puzzlers"
      ]
    },
    {
      "cell_type": "markdown",
      "metadata": {
        "id": "9SafKzmx-abQ"
      },
      "source": [
        "A Big Delight in Every Byte\n",
        "\n",
        "Inclement Increment\n",
        "\n",
        "In the Loop\n",
        "\n",
        "Shifty i's\n",
        "\n",
        "Looper \n",
        "\n",
        "Bride of Looper\n",
        "\n",
        "Son of Looper\n",
        "\n",
        "Ghost of Looper\n",
        "\n",
        "Curse of Looper\n",
        "\n",
        "Looper Meets the Wolfman\n",
        "\n",
        "Down for the Count\n",
        "\n",
        "Minute by Minute"
      ]
    },
    {
      "cell_type": "markdown",
      "metadata": {
        "id": "rdTpkFR89PlD"
      },
      "source": [
        "## Exceptional Puzzlers"
      ]
    },
    {
      "cell_type": "markdown",
      "metadata": {
        "id": "WS_-2e-V-_5t"
      },
      "source": [
        "Indecision\n",
        "\n",
        "Exceptionally Arcane\n",
        "\n",
        "The Unwelcome Guest\n",
        "\n",
        "Hello, Goodbye\n",
        "\n",
        "The Reluctant Constructor\n",
        "\n",
        "Field oand Stream\n",
        "\n",
        "Thrown for a Loop\n",
        "\n",
        "Exceptionally Unsafe\n",
        "\n",
        "Cutting Class\n",
        "\n",
        "Exhaustin Workout"
      ]
    },
    {
      "cell_type": "markdown",
      "metadata": {
        "id": "cgSYCTec9Th6"
      },
      "source": [
        "## Clasy Puzzlers"
      ]
    },
    {
      "cell_type": "markdown",
      "metadata": {
        "id": "DSPwnlT7_mUp"
      },
      "source": [
        "The Case of the Confusing Constructor\n",
        "\n",
        "Well, Dog My  Casts!\n",
        "\n",
        "All I Get Is Static\n",
        "\n",
        "Larger Than Life\n",
        "\n",
        "Not Your Type\n",
        "\n",
        "What's your Point?\n",
        "\n",
        "Sum Fun\n",
        "\n",
        "Do Your Thing\n",
        "\n",
        "Null and Void\n",
        "\n",
        "Creationism"
      ]
    },
    {
      "cell_type": "markdown",
      "metadata": {
        "id": "Vci11AE29Wt9"
      },
      "source": [
        "## Library Puzzlers"
      ]
    },
    {
      "cell_type": "markdown",
      "metadata": {
        "id": "P1F-Hpoi_5O1"
      },
      "source": [
        "Big Problem\n",
        "\n",
        "What's in a Name?\n",
        "\n",
        "Making a Hash of It\n",
        "\n",
        "What's the Difference?\n",
        "\n",
        "One-Liners\n",
        "\n",
        "The Dating Game\n",
        "\n",
        "The Name Game\n",
        "\n",
        "More of the Same\n",
        "\n",
        "The Mod Squad\n",
        "\n",
        "A Strange Saga of a Suspicious Sort"
      ]
    },
    {
      "cell_type": "markdown",
      "metadata": {
        "id": "aAnhuRyk9Ysp"
      },
      "source": [
        "## Classier Puzzlers"
      ]
    },
    {
      "cell_type": "markdown",
      "metadata": {
        "id": "vj5EGzwhATk8"
      },
      "source": [
        "A Private Matter\n",
        "\n",
        "All Strung Out\n",
        "\n",
        "Shades of Gray\n",
        "\n",
        "Fade to Black\n",
        "\n",
        "Package Deal\n",
        "\n",
        "Import Duty\n",
        "\n",
        "Final Jeorpoardy\n",
        "\n",
        "Your Privates Are Showing\n",
        "\n",
        "Identity Crisis\n",
        "\n",
        "Heads or Tails?"
      ]
    },
    {
      "cell_type": "markdown",
      "metadata": {
        "id": "5dtVKR5N9aIi"
      },
      "source": [
        "## More Library Puzzlers"
      ]
    },
    {
      "cell_type": "markdown",
      "metadata": {
        "id": "Sbb_9vWrA6rB"
      },
      "source": [
        "Ping Pong\n",
        "\n",
        "The Lock Mess Moster\n",
        "\n",
        "Reflection Infection\n",
        "\n",
        "It's Dog's Life\n",
        "\n",
        "Futher Reflection\n",
        "\n",
        "Charred Beyond Recognization\n",
        "\n",
        "Beer Blast\n",
        "\n",
        "Dyslexic Monotheism\n",
        "\n",
        "Rudely Interrupted\n",
        "\n",
        "Lazy Initialization"
      ]
    },
    {
      "cell_type": "markdown",
      "metadata": {
        "id": "xgHsDCwg9dQ6"
      },
      "source": [
        "## Advanced Puzzlers"
      ]
    },
    {
      "cell_type": "markdown",
      "metadata": {
        "id": "YcOIlKewBRRu"
      },
      "source": [
        "Poison-Paren Litter\n",
        "\n",
        "Strained Relations\n",
        "\n",
        "Raw Deal\n",
        "\n",
        "Generic Drugs\n",
        "\n",
        "Its Absurd, Its Pain, Its Superclass !\n",
        "\n",
        "Serial Killer\n",
        "\n",
        "Twisted Pair\n",
        "\n",
        "Class Warfare\n",
        "\n",
        "Lost in the Shuffle\n",
        "\n",
        "Just Desserts"
      ]
    },
    {
      "cell_type": "markdown",
      "metadata": {
        "id": "Af2k7cQh-SBY"
      },
      "source": [
        "## Catalog of Traps and Pitfalls"
      ]
    }
  ]
}
