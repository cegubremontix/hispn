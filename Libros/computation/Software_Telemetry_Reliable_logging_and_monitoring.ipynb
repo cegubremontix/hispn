{
  "nbformat": 4,
  "nbformat_minor": 0,
  "metadata": {
    "colab": {
      "name": "Software Telemetry: Reliable logging and monitoring.ipynb",
      "provenance": [],
      "authorship_tag": "ABX9TyPGkKYB+JDADcyt4JmYlkqP",
      "include_colab_link": true
    },
    "kernelspec": {
      "name": "python3",
      "display_name": "Python 3"
    },
    "language_info": {
      "name": "python"
    }
  },
  "cells": [
    {
      "cell_type": "markdown",
      "metadata": {
        "id": "view-in-github",
        "colab_type": "text"
      },
      "source": [
        "<a href=\"https://colab.research.google.com/github/dbremont/Notas/blob/main/Libros/Computacion/Software_Telemetry_Reliable_logging_and_monitoring.ipynb\" target=\"_parent\"><img src=\"https://colab.research.google.com/assets/colab-badge.svg\" alt=\"Open In Colab\"/></a>"
      ]
    },
    {
      "cell_type": "markdown",
      "source": [
        "[Software Telemetry: Reliable logging and monitoring]()"
      ],
      "metadata": {
        "id": "8k6GFcGb3hV3"
      }
    }
  ]
}