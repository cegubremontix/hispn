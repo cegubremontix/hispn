{
  "nbformat": 4,
  "nbformat_minor": 0,
  "metadata": {
    "kernelspec": {
      "display_name": "Python 2.7.18 64-bit",
      "name": "python2718jvsc74a57bd0f92b2924b84ff19c1c3dc485f7644d4486f64738191026bf8e6de303969141b5"
    },
    "language_info": {
      "name": "python",
      "version": ""
    },
    "metadata": {
      "interpreter": {
        "hash": "f92b2924b84ff19c1c3dc485f7644d4486f64738191026bf8e6de303969141b5"
      }
    },
    "orig_nbformat": 2,
    "colab": {
      "name": "The Pragmatic Programmer.ipynb",
      "provenance": [],
      "include_colab_link": true
    }
  },
  "cells": [
    {
      "cell_type": "markdown",
      "metadata": {
        "id": "view-in-github",
        "colab_type": "text"
      },
      "source": [
        "<a href=\"https://colab.research.google.com/github/dbremont/Notas/blob/main/Libros/Computacion/The%20Pragmatic%20Programmer.ipynb\" target=\"_parent\"><img src=\"https://colab.research.google.com/assets/colab-badge.svg\" alt=\"Open In Colab\"/></a>"
      ]
    },
    {
      "cell_type": "markdown",
      "metadata": {
        "id": "hebJFeV-6IUl"
      },
      "source": [
        "The Pragmatic Programmer"
      ]
    },
    {
      "cell_type": "markdown",
      "metadata": {
        "id": "pE3ePygQKKRc"
      },
      "source": [
        "## A Pragmatic Philosophy"
      ]
    },
    {
      "cell_type": "markdown",
      "metadata": {
        "id": "gSHESsncKOHn"
      },
      "source": [
        "Its Your Life\n",
        "\n",
        "The Cat Ate My Source Code\n",
        "\n",
        "Softaware Entropy\n",
        "\n",
        "Stone Soup and Boiled Frogs\n",
        "\n",
        "Good-Enough Software\n",
        "\n",
        "Your Knowledge Portfolio\n",
        "\n",
        "Communicate"
      ]
    },
    {
      "cell_type": "markdown",
      "metadata": {
        "id": "5ajrhRCOKrrw"
      },
      "source": [
        "## A Pragmatic Approach"
      ]
    },
    {
      "cell_type": "markdown",
      "metadata": {
        "id": "se-G-ziEKuJu"
      },
      "source": [
        "The Essence of Good Design\n",
        "\n",
        "DRY - The Evils of Duplication\n",
        "\n",
        "Orthogonality\n",
        "\n",
        "Reversibility\n",
        "\n",
        "Tracer Bullets\n",
        "\n",
        "Prototypes and Post-it Notes\n",
        "\n",
        "Domain Languages\n",
        "\n",
        "Estimating"
      ]
    },
    {
      "cell_type": "markdown",
      "metadata": {
        "id": "BYfIWa0kK5xJ"
      },
      "source": [
        "## The Basic Tools"
      ]
    },
    {
      "cell_type": "markdown",
      "metadata": {
        "id": "FmYPyYP7K7zf"
      },
      "source": [
        "The Power of Plain Text\n",
        "\n",
        "Shell Games\n",
        "\n",
        "Power Editing\n",
        "\n",
        "Version Control\n",
        "\n",
        "Debugging\n",
        "\n",
        "Text Manipulation\n",
        "\n",
        "Engineering Daybooks"
      ]
    },
    {
      "cell_type": "markdown",
      "metadata": {
        "id": "0r9hA1ZbLVln"
      },
      "source": [
        "## Pragmatic Paranoai"
      ]
    },
    {
      "cell_type": "markdown",
      "metadata": {
        "id": "Mzg_bBLrLZN-"
      },
      "source": [
        "Design by Contract\n",
        "\n",
        "Dead Programs Tell No Lies\n",
        "\n",
        "Assertive Programming\n",
        "\n",
        "How to Balance Resources\n",
        "\n",
        "Don't Outrun Your Headlights"
      ]
    },
    {
      "cell_type": "markdown",
      "metadata": {
        "id": "Mzu4yUGILkfM"
      },
      "source": [
        "## Bend, or Break"
      ]
    },
    {
      "cell_type": "markdown",
      "metadata": {
        "id": "CsdEyuLfLtpt"
      },
      "source": [
        "Decoupling\n",
        "\n",
        "Juggling the Real World\n",
        "\n",
        "Transforming Programming\n",
        "\n",
        "Inheritance Tax\n",
        "\n",
        "Configuration"
      ]
    },
    {
      "cell_type": "markdown",
      "metadata": {
        "id": "6jtZyMaGL2Vb"
      },
      "source": [
        "## Concurrency"
      ]
    },
    {
      "cell_type": "markdown",
      "metadata": {
        "id": "YvFZQma6L3kw"
      },
      "source": [
        "Breaking Temporal Coupling\n",
        "\n",
        "Shared State Is Incorrect State\n",
        "\n",
        "Actors and Processes\n",
        "\n",
        "Blackboards"
      ]
    },
    {
      "cell_type": "markdown",
      "metadata": {
        "id": "8Yptus8FSv_Q"
      },
      "source": [
        "### While You Are Coding"
      ]
    },
    {
      "cell_type": "markdown",
      "metadata": {
        "id": "7LviIikcSy0h"
      },
      "source": [
        "Listen to Your Lizard Brain\n",
        "\n",
        "Programming by Coincidence\n",
        "\n",
        "Algorithm Spreed\n",
        "\n",
        "Refactorign \n",
        "\n",
        "Test to Code\n",
        "\n",
        "Property-Based Testing\n",
        "\n",
        "Stay Safe Out There\n",
        "\n",
        "Naming Things"
      ]
    },
    {
      "cell_type": "markdown",
      "metadata": {
        "id": "Zx9ayt3ZUts8"
      },
      "source": [
        "## Before the Project\n"
      ]
    },
    {
      "cell_type": "markdown",
      "metadata": {
        "id": "wtjWeGI2UwQR"
      },
      "source": [
        "The Requirements Pit\n",
        "\n",
        "Solving Impossible Puzzles\n",
        "\n",
        "Working Together\n",
        "\n",
        "The Essence of Agility"
      ]
    },
    {
      "cell_type": "markdown",
      "metadata": {
        "id": "IRKsl29EU4MH"
      },
      "source": [
        "## Pragmatic Projects"
      ]
    },
    {
      "cell_type": "markdown",
      "metadata": {
        "id": "VWyRHh7rU52D"
      },
      "source": [
        "Pragmatic Teams\n",
        "\n",
        "Coconuts Don't Cut It\n",
        "\n",
        "Pragmatic Startet Kit\n",
        "\n",
        "Delight Your Users\n",
        "\n",
        "Pride and Prejudice"
      ]
    }
  ]
}