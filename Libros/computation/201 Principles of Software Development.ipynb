{
  "nbformat": 4,
  "nbformat_minor": 0,
  "metadata": {
    "kernelspec": {
      "display_name": "Python 2.7.18 64-bit",
      "name": "python2718jvsc74a57bd0f92b2924b84ff19c1c3dc485f7644d4486f64738191026bf8e6de303969141b5"
    },
    "language_info": {
      "name": "python",
      "version": ""
    },
    "metadata": {
      "interpreter": {
        "hash": "f92b2924b84ff19c1c3dc485f7644d4486f64738191026bf8e6de303969141b5"
      }
    },
    "orig_nbformat": 2,
    "colab": {
      "name": "201 Principles of Software Development.ipynb",
      "provenance": [],
      "toc_visible": true,
      "include_colab_link": true
    }
  },
  "cells": [
    {
      "cell_type": "markdown",
      "metadata": {
        "id": "view-in-github",
        "colab_type": "text"
      },
      "source": [
        "<a href=\"https://colab.research.google.com/github/dbremont/Notas/blob/main/Libros/Computacion/201%20Principles%20of%20Software%20Development.ipynb\" target=\"_parent\"><img src=\"https://colab.research.google.com/assets/colab-badge.svg\" alt=\"Open In Colab\"/></a>"
      ]
    },
    {
      "cell_type": "markdown",
      "metadata": {
        "id": "uUxcdq2i53-j"
      },
      "source": [
        "201 Principles of Software Development\n",
        "\n",
        "- Estrategia para recordar estos principios.\n",
        "- Recordar mis problemas con la memoria asociativa.\n",
        "\n",
        "\n",
        "- Principles\n",
        "- [Techniques](https://es.wikipedia.org/wiki/T%C3%A9cnica)\n",
        "- Languages: consist of a set of primitive elments (such as words or graphical symbols) and a set of rules by which one can construct more complex entities (such as sentences, diagrams, models) from those primitive elmetns, as well as semantics that endow each combination of entities with meaning.\n",
        "- Tools: are software programs that assits on a software engineer in performing some step of software engineering. ej\n",
        "  - knowlege base, requirements assitant,\n",
        "  - data-flow diagram checker,\n",
        "  - compiler,\n",
        "  - editor."
      ]
    },
    {
      "cell_type": "markdown",
      "metadata": {
        "id": "RpPtxxevLw7C"
      },
      "source": [
        "## Introduction"
      ]
    },
    {
      "cell_type": "markdown",
      "metadata": {
        "id": "4QDw_zmyLzQc"
      },
      "source": [
        "## General Principles\n",
        "\n",
        "\n",
        "- 21: Different Languages for Different Phases\n",
        "- 22: Technique Before Tools\n",
        "- 23: Use Tools, but Be Realistic\n",
        "- 26: \"Know-When\" Is as  Important as Know-How\n",
        "- 28: Know  your formal methods\n",
        "- 30: Follow the Lemmings with Care\n",
        "- 32: Use Documentations Standars\n",
        "- 33: Every Document Needs a Glossary\n",
        "- 34: Every Software Document Needs and Index\n",
        "- 35: Use the Same for the Same Concept\n",
        "- 36: Research-Then-Transfer Does not Work\n",
        "- 37: Take Responsability"
      ]
    },
    {
      "cell_type": "markdown",
      "metadata": {
        "id": "pYgNwUd9XoQP"
      },
      "source": [
        "### 10: Plan to Throw One Away"
      ]
    },
    {
      "cell_type": "markdown",
      "metadata": {
        "id": "fAM8Rw87Xqpp"
      },
      "source": [
        "1. Elaborate on the importance of prototypes when building brand-new applications. <br>\n",
        "2. Elaborate on the analogy with Chemical Engineers.\n",
        "\n",
        "Software trying to solve problems that have in  been solve in the past, are very rarely work at the first time.\n",
        "As a developer of a new custom product,  plan to build a series of throwaway prototypes before embarking on the full-scale product development.\n",
        "\n",
        "Software its about evolution, copy and paste, the mouse everything have to be inventedl. \n",
        "So  one does not have a monopoly on good abstractiosn and design.\n",
        "One most try to solve a sub-set of problems and improve over future iterations.\n",
        "\n",
        "----\n",
        "\n",
        "Chemical engineers learned long ago that a process that works in the laboratory cannot be implemented oin a factory in only one step. An intermediate step called the pilot plant is necessary to give experience in scaling quantities up and in operating in nonprotective environments. For example, a laboratory process for desalting water wil be tested in a pilot plant of 10,000 gallon/day capacity before being used for a 2,000,000 galon/day community water system.\n",
        "\n",
        "Programmers have been exposed to the idea of pilot projects but have not learn the lesson yet.\n",
        "The first version of the system build is barely usable. It may be too slow, too big, awkward to use, or all of three. Do it again and solve the problems of the first version\n"
      ]
    },
    {
      "cell_type": "markdown",
      "metadata": {
        "id": "cClAfPYSXzEW"
      },
      "source": [
        "### 11: Build the Right Kind of Prototype"
      ]
    },
    {
      "cell_type": "markdown",
      "metadata": {
        "id": "q7VITFf2bwBp"
      },
      "source": [
        "1. Throwaway prototypes \n",
        "2. Evolutionary prototypes \n",
        "3 When to build Throwaway prototypes vs Evolutionary prototypes\n",
        "\n",
        "---\n",
        "\n",
        "1. Throwaway prototypes are for recieving quick user feedback, and thrown away once the desired information is learned.\n",
        "2. Evolutionary prototypes are build in a quality manner, are given to the customer for feedback, and are modified once the desired information is learned  to better approximates the users needs.\n",
        "3. Throwaway prototypes should be build when critical features are poorly understood. Evolutionary prototypes should be build when the critical functions are well understood but others functions are not.\n",
        "\n",
        "What critics should i have for this model?\n"
      ]
    },
    {
      "cell_type": "markdown",
      "metadata": {
        "id": "V2KbAim0X2ej"
      },
      "source": [
        "### 12: Build the Right Features into a Prototype"
      ]
    },
    {
      "cell_type": "markdown",
      "metadata": {
        "id": "4mpB4p3wb-rC"
      },
      "source": [
        "What types of features should be build in a Throwaway prototype?\n",
        "\n",
        "---\n",
        "\n",
        "Only features that are poorly understood.\n",
        "That's the point of a Throwaway prototype to begin with."
      ]
    },
    {
      "cell_type": "markdown",
      "metadata": {
        "id": "ghW1facUYG-k"
      },
      "source": [
        "### 14: Grow Systems in Incrementally"
      ]
    },
    {
      "cell_type": "markdown",
      "metadata": {
        "id": "W0SKU5WpgLrI"
      },
      "source": [
        "1. Grow Systems Incrementally <br/>\n",
        "2. What problems can appear in building sysetms incrementally?\n",
        "\n",
        "--- \n",
        "\n",
        "1.  It help to reduce risk in building software.\n",
        "Start with a working system that implements a subset  of funcionality.\n",
        "Then grow it to cover larger and larget subsets of the eventual functionality.\n",
        "\n",
        "2.  If a feature is poorly understand, in late stages the entire system may require redesign in order to accomodate the feature.\n",
        "To mitigate this always try to see if there is a feature that is poorly understood, to build a throwaway prototype of that feature."
      ]
    },
    {
      "cell_type": "markdown",
      "metadata": {
        "id": "OwM_cd97X9Hd"
      },
      "source": [
        "### 20: Record Your Assumptions"
      ]
    },
    {
      "cell_type": "markdown",
      "metadata": {
        "id": "pBjuP6mEmtci"
      },
      "source": [
        "Elaborate on Assumptions in Software Engineering\n",
        "\n",
        "---\n",
        "\n",
        "- The environments we place systems into are by their very nature infinite oand impossible to fully comprehend.\n",
        "\n",
        "- When we build a system , allegedly to solve a probelm in that environemtn we make assumptions about the environment.\n",
        "\n",
        "- So try to specify the asumptions, so when the software miss behaves ones can traces it to changes in the assumptions. "
      ]
    },
    {
      "cell_type": "markdown",
      "metadata": {
        "id": "U6en0E_fz259"
      },
      "source": [
        "### 22: Technique Before Tools"
      ]
    },
    {
      "cell_type": "markdown",
      "metadata": {
        "id": "dmfOLXOS5CKE"
      },
      "source": [
        "Elaborate in the use of Tools withouts Teechniques\n",
        "\n",
        "--- \n",
        "\n",
        "-  Tools usually implements a techniques or a set of techniques or principles, that you can follow by hand,\n",
        "not knowing the techniques to that you are supposed to follow while using the tools, can render you dangerous.\n",
        "\n",
        "- Think about an undisciplined  carpenter with a  power tool  becomes a dangerous undisciplined carpenter.\n",
        "- Programmers are like that too.\n",
        "- To follow this think about the return of using tools?\n",
        "- The philosophy of using tools.\n",
        "\n",
        "Paper\n",
        "\n",
        "How the Learning Lurve Affects CASE Tool Adoption"
      ]
    },
    {
      "cell_type": "markdown",
      "metadata": {
        "id": "Uv0tKV_tE3Fx"
      },
      "source": [
        "### 26 \"Know-When\" is as important as Know-How"
      ]
    },
    {
      "cell_type": "markdown",
      "metadata": {
        "id": "4QoYo_lWE71P"
      },
      "source": [
        "\"Know-When\" is as important as Know-How\n",
        "\n",
        "---\n",
        "\n",
        "- Knowing how to use a technique well, does not make it a good technique, and neither make you a good software engineer.\n",
        "- The good engineers knows has a set of techniques and tools unders its beld, and know when to use it."
      ]
    },
    {
      "cell_type": "markdown",
      "metadata": {
        "id": "99uRczcoLT5A"
      },
      "source": [
        "### 33 Every Document Needs a Glossary"
      ]
    },
    {
      "cell_type": "markdown",
      "metadata": {
        "id": "wBkazLZeLVez"
      },
      "source": [
        "Elaborate on Every Document Needs a Glossary\n",
        "\n",
        "---\n",
        "\n",
        "It help to quickly learn the of an unkown term of a term with special meaning quickly."
      ]
    },
    {
      "cell_type": "markdown",
      "metadata": {
        "id": "8T9TlU6gL95E"
      },
      "source": [
        "### 34 Every Software Document Needs and Index"
      ]
    },
    {
      "cell_type": "markdown",
      "metadata": {
        "id": "R1smf_ToL_tP"
      },
      "source": [
        "Elaborate on Every Document Needs an Index\n",
        "\n",
        "---\n",
        "\n",
        "- This is self-evident.\n",
        "- An index help you to quickly navegate a book. It like a map."
      ]
    },
    {
      "cell_type": "markdown",
      "metadata": {
        "id": "clW3zjurL04_"
      },
      "source": [
        "## Requirements Engineering Principles\n",
        "\n",
        "*Requirements engineering* is the set of activities including:\n",
        "\n",
        "- eliciting or learning about a problem needs a solution,\n",
        "- specifying the external (black box) behavior of a system that can solve that problem. \n",
        "\n",
        "The final product of requirements engineering is a requirements specification."
      ]
    },
    {
      "cell_type": "markdown",
      "metadata": {
        "id": "5hvlrlfdrV1v"
      },
      "source": [
        "### 39: Determine the Problem Before Writing Requirements\n"
      ]
    },
    {
      "cell_type": "markdown",
      "metadata": {
        "id": "05mANhkmL1NY"
      },
      "source": [
        "Before trying to solve a problem, be sure to explore all alternatives options for **who** really has the problem and **what** the problem is really is."
      ]
    },
    {
      "cell_type": "markdown",
      "metadata": {
        "id": "bp9n6rxHL4m5"
      },
      "source": [
        "## Design Principles\n",
        "\n",
        "Design is the set of activities including:\n",
        "- defining an architecture for software that sastifies the  thre requirements,\n",
        "- specifying an algorithm for each software componetn in the architecture.\n",
        "\n",
        "The architecture includes a specification of all the building blocks of the software, how they interface with each other, how they are composed of one another, and how copies of components are instantiated (that is, copies made in memory of components and executed) and destroyed. The final product of design is a design specification."
      ]
    },
    {
      "cell_type": "markdown",
      "metadata": {
        "id": "XcxZLZNjx_Jr"
      },
      "source": [
        "### 65: Encapsulate"
      ]
    },
    {
      "cell_type": "markdown",
      "metadata": {
        "id": "34s3QmfRyCRK"
      },
      "source": [
        "What is information hiding?\n",
        "\n",
        " - Encapsulate / hide design desitions in software that is likely to change.\n",
        "\n",
        "Benefits of encapsulation?\n",
        "\n",
        "- Less coupling between componets. So that they can change and also interact in an easier way.\n",
        "\n",
        "- Less stuff to remember to be productive.\n",
        "\n",
        "- Less error prone while using the modules to build more using them."
      ]
    },
    {
      "cell_type": "markdown",
      "metadata": {
        "id": "tR_I7Ee41aRw"
      },
      "source": [
        "### 66: Don't Reinvent the Wheel"
      ]
    },
    {
      "cell_type": "markdown",
      "metadata": {
        "id": "vnD3wY1o1bRD"
      },
      "source": [
        "When electrical engineers design new printed circuite boards, they go to a catalog of aviable integrated circuits to select teh most appropriate componets... The same for architects. \n",
        "\n",
        "This does not applys  for software, because we tent to reinvent the weel."
      ]
    },
    {
      "cell_type": "markdown",
      "metadata": {
        "id": "juHmZ4Gt3E3e"
      },
      "source": [
        "### 67: Keep It Simple"
      ]
    },
    {
      "cell_type": "markdown",
      "metadata": {
        "id": "njYP3QbU3HFK"
      },
      "source": [
        "Keee it Simple\n",
        "The magical number 7 +- 2\n",
        "\n",
        "---\n",
        "\n",
        "There are two ways of contructing a software design. One way is to make it so simple that  there are obviosly no deficiencies and the other is to make it so complicated that there \n",
        "are no obvious deficiencies.\n"
      ]
    },
    {
      "cell_type": "markdown",
      "metadata": {
        "id": "iKn1sFdRiVGI"
      },
      "source": [
        "### 69: Minimize Intellectual Distance"
      ]
    },
    {
      "cell_type": "markdown",
      "metadata": {
        "id": "3uMQHE9tiWXl"
      },
      "source": [
        "Edsgar Dijkstra define *intelectual distance* as the distance between the real-world probelm and the computarized solution to that problem.  \n",
        "\n",
        "My interpretation is that a problem usually have a number of ways, but with we look at the tools used in solving a problem, you sould infered from that the problem being solved."
      ]
    },
    {
      "cell_type": "markdown",
      "metadata": {
        "id": "7uftvl5xlTts"
      },
      "source": [
        "### 73: Use Coupling and Cohesion"
      ]
    },
    {
      "cell_type": "markdown",
      "metadata": {
        "id": "bA7Frau7lWAe"
      },
      "source": [
        "Metrics to measure maintainability and adaptability.\n",
        "\n",
        "Coupling:\n",
        "- How interrelated two modules/components are.\n",
        "- High coupling implies that, when we change a components changes on other components are likely.\n",
        "\n",
        "\n",
        "Cohesion:\n",
        "- How related element of a module/components are.\n",
        "- Low cohesion implies that errors are hard to isolate.\n",
        "\n",
        "The goal of a good design is low coupling and high cohesion.\n",
        "\n",
        "**If you have low cohesion would you have high coupling?**"
      ]
    },
    {
      "cell_type": "markdown",
      "metadata": {
        "id": "VS3vcfcxr7kt"
      },
      "source": [
        "### 81: Design Is Multidimensional"
      ]
    },
    {
      "cell_type": "markdown",
      "metadata": {
        "id": "_UasbI9Fr-12"
      },
      "source": [
        "Architects represent a house in multiple ways to convey its ussence to builders, buyers of materials, home buyers:\n",
        "\n",
        "- elevations,\n",
        "- floor plants,\n",
        "- framing,\n",
        "- trusses.\n",
        "\n",
        "A complete software design includes at least:\n",
        "\n",
        "- **Packaging**: Oftwen drawn as a hierchy chart, this captures \"what is part of what?\"\n",
        "\n",
        "- **Needs hierarchy**: This captures \"who needs whom?\" Drawn as network of components, arrows indicate which omponents need something.\n",
        "\n",
        "- **Ivocation**: This captures \"who invokes whom\"? \n",
        "\n",
        "- **Processes**: Set of componets are package togheter as asynchonous processes."
      ]
    },
    {
      "cell_type": "markdown",
      "metadata": {
        "id": "QBINkI_hu_Th"
      },
      "source": [
        ""
      ]
    },
    {
      "cell_type": "markdown",
      "metadata": {
        "id": "HqjR2Sm2L8Cz"
      },
      "source": [
        "## Coding Principles\n",
        "\n",
        "*Coding* is the set of activities including:\n",
        "\n",
        "1. Translading the algorithsm specified during design into programs writen in a computer language.\n",
        "\n",
        "2. Translading, usually automatically, the programs into a language direcly executable by a computer.\n",
        "\n",
        "The primary output of codign is a documented program listing."
      ]
    },
    {
      "cell_type": "markdown",
      "metadata": {
        "id": "pH1xbpydzeeW"
      },
      "source": [
        "### 89: Write to Read Top-Down"
      ]
    },
    {
      "cell_type": "markdown",
      "metadata": {
        "id": "PRB4vG6mzfc_"
      },
      "source": [
        "- People in the west read top-down and left-right.\n",
        "\n",
        "- Include a detailed external specification up front to clearly define the program purpose and use.\n",
        "\n",
        "- Specify externally accesed routines, local variables, and algorithms up front.\n",
        "\n",
        "- Use the so-called \"structured\" programming constructs, which are inherently easier to follow."
      ]
    },
    {
      "cell_type": "markdown",
      "metadata": {
        "id": "Vdu6bdUB0TgB"
      },
      "source": [
        "### 90: Avoid Side-Effects"
      ]
    },
    {
      "cell_type": "markdown",
      "metadata": {
        "id": "eo0z2eQx0WNp"
      },
      "source": [
        "A side-effect is a secondary effects effects that takes places when a procedure is run it. That is often not visible.\n",
        "\n",
        "Side-effects are the sources of many subtle erros in software, oen that are **latent** and ones that are more **difficult to discover**."
      ]
    },
    {
      "cell_type": "markdown",
      "metadata": {
        "id": "LooDyHdw2U0G"
      },
      "source": [
        "### 91: Use Meaningful Names"
      ]
    },
    {
      "cell_type": "markdown",
      "metadata": {
        "id": "soEyjM4W2VsY"
      },
      "source": [
        "Go to philosofy to improve this.\n",
        "\n",
        "- [Name](https://en.wikipedia.org/wiki/Name)\n",
        "- Naming and necesity"
      ]
    },
    {
      "cell_type": "markdown",
      "metadata": {
        "id": "jOMSRt452mOl"
      },
      "source": [
        "### 92: Write Programs for People First"
      ]
    },
    {
      "cell_type": "markdown",
      "metadata": {
        "id": "h5Vh43iA2nMv"
      },
      "source": [
        "- Why?\n",
        "- Code Complete\n"
      ]
    },
    {
      "cell_type": "markdown",
      "metadata": {
        "id": "WU7VMx7U3E1t"
      },
      "source": [
        "### 94: Get It Rigth Before You Make It Faster"
      ]
    },
    {
      "cell_type": "markdown",
      "metadata": {
        "id": "4s7ej8mi3F4w"
      },
      "source": [
        "It is easier to make a correct program to run faster, than to make and incorrect program to work.\n",
        "\n",
        "There is not point on try to have an optimal program that does not work. Software Desing is an interactive art, with every interaction you know more, can make better desitions."
      ]
    },
    {
      "cell_type": "markdown",
      "metadata": {
        "id": "HLdGN6NCL-7X"
      },
      "source": [
        "## Testing Principles\n",
        "\n",
        "Testing is a set of activities including:\n",
        "\n",
        "- Performing tests on individual software components,\n",
        "\n",
        "- Performing tests on the interaction of the components,\n",
        "\n",
        "- Performing test on the entire system (software systems-level testing),\n",
        "\n",
        "- Generating test plans for software systems-level testing,\n",
        "\n",
        "- Generating test plans for software integration testing,\n",
        "\n",
        "- Generating test plans for unit testing,\n",
        "\n",
        "- Building test harnesses and test environments.\n"
      ]
    },
    {
      "cell_type": "markdown",
      "metadata": {
        "id": "Xri8uzCC7yDg"
      },
      "source": [
        "### 107: Trace Tests to Requirements"
      ]
    },
    {
      "cell_type": "markdown",
      "metadata": {
        "id": "9zVJAaho78I7"
      },
      "source": [
        "- Which test verify which requirements.\n",
        "- To know if all requirements are verify by test.\n",
        "- Make a table with requirements in rows, and columns test applied."
      ]
    },
    {
      "cell_type": "markdown",
      "metadata": {
        "id": "_9-g_RGZ9gFX"
      },
      "source": [
        "### 108: Plan Tests Long Before It Is Time to Test"
      ]
    },
    {
      "cell_type": "markdown",
      "metadata": {
        "id": "1O2Tzl0n9hCx"
      },
      "source": [
        "Before buildign a projects knowing the tests for the projects, is this useful?\n",
        "\n",
        "- Test that verifies requirements.\n",
        "- Test formalizes requirements."
      ]
    },
    {
      "cell_type": "markdown",
      "metadata": {
        "id": "1L3_koy3-Re4"
      },
      "source": [
        "### 113: A Succesful Test *Finds*  an Error\n"
      ]
    },
    {
      "cell_type": "markdown",
      "metadata": {
        "id": "l0TAAMO9-TUr"
      },
      "source": [
        "- Test are writen to find errors in software that does not met requirements.\n",
        "\n",
        "- So when a test find that the software does not meet requirements, we should be happy because it can be corected, and the software improved."
      ]
    },
    {
      "cell_type": "markdown",
      "metadata": {
        "id": "WcJXDuS5_cyV"
      },
      "source": [
        "### 115: Use Black-Box and White-Box Testing"
      ]
    },
    {
      "cell_type": "markdown",
      "metadata": {
        "id": "I1f7QHmi_eBW"
      },
      "source": [
        "- White-Box testing: using the code to generate test.\n",
        "- Black-Box testing: testing againts and specification."
      ]
    },
    {
      "cell_type": "markdown",
      "metadata": {
        "id": "uMC-u75kAP-z"
      },
      "source": [
        "### 118: Always Stress Test"
      ]
    },
    {
      "cell_type": "markdown",
      "metadata": {
        "id": "EOE4zVZyARAg"
      },
      "source": [
        "Software design often behaves just fine  when confronted with \"normal\" loads of inputs or stimuli. the true test of software is whether it can stay operational when faced with severe loads. "
      ]
    },
    {
      "cell_type": "markdown",
      "metadata": {
        "id": "jpoN81ZdD7Xh"
      },
      "source": [
        "### 124: Instrument Your Software"
      ]
    },
    {
      "cell_type": "markdown",
      "metadata": {
        "id": "SJSxApdjD-8U"
      },
      "source": [
        "When testing software, it is often odifficult to determine why the software failed. \n",
        "\n",
        "Instruments your software, that is embed special instructions in the software that report traces, anomalous conditions, procedure calls, and the like.\n",
        "\n",
        "Of course, if your debugging system providees these capabilities, don't instrument manually."
      ]
    },
    {
      "cell_type": "markdown",
      "metadata": {
        "id": "Nw62a1eO7Twy"
      },
      "source": [
        "\n",
        "### 125: Analyze Causes for Errors\n",
        "\n"
      ]
    },
    {
      "cell_type": "markdown",
      "metadata": {
        "id": "6DBu85TvD_V5"
      },
      "source": [
        "How to prevent bugs"
      ]
    },
    {
      "cell_type": "markdown",
      "metadata": {
        "id": "Rq9Fl15TMBnO"
      },
      "source": [
        "## Management Principles"
      ]
    },
    {
      "cell_type": "markdown",
      "metadata": {
        "id": "bQDneOihIo_x"
      },
      "source": [
        "Management is the set of activities of planning, controlling, monitoring, and reportign on all the engineering activities that encompass software development."
      ]
    },
    {
      "cell_type": "markdown",
      "metadata": {
        "id": "CtcZTF5lRPtp"
      },
      "source": [
        "### 142: You Can Optimize Whatever You Want"
      ]
    },
    {
      "cell_type": "markdown",
      "metadata": {
        "id": "g9lXzPU1RQqU"
      },
      "source": [
        "- Experiments that was done trying to optimize some factors are user experience, program performace, etc.\n",
        "\n",
        "- Usually the teams optimize the factor, denigrating the others.\n",
        "\n",
        "- If you tell them optimize everything, none will be optmize.\n",
        "\n",
        "- The fact is taht there are trade-offs."
      ]
    },
    {
      "cell_type": "markdown",
      "metadata": {
        "id": "oI6BLutISZoU"
      },
      "source": [
        "### 143: Collect Data Unobtrusively"
      ]
    },
    {
      "cell_type": "markdown",
      "metadata": {
        "id": "KlWUCRc1SboE"
      },
      "source": [
        "- Data collection is extremly important to help with future cost predictions, to asses the current state of a project or organization, to assess the effect of a change in management, process, or technology, and so on. \n",
        "\n",
        "- On the other hand, data collection is an obbtrusive fhasion, for example,  if it requires software developers to do considerably extra work-- is meaningless because its collection affects the data itself. \n",
        "\n",
        "- The best way to collect data is automatically, with no developer-percieved interference. Obviously oyou cannot do this all the time for all data, but you should automate data collection whenever you can."
      ]
    },
    {
      "cell_type": "markdown",
      "metadata": {
        "id": "_hvMKc1hTPqA"
      },
      "source": [
        "### 145: There Is No Perfect Way to Measure Productivity"
      ]
    },
    {
      "cell_type": "markdown",
      "metadata": {
        "id": "KGR2bvnsTQ3e"
      },
      "source": [
        "- Lines of Code\n",
        "- Functions Point\n",
        "- ..."
      ]
    },
    {
      "cell_type": "markdown",
      "metadata": {
        "id": "R-23CooCT9ve"
      },
      "source": [
        "### 149: Know Before you Count"
      ]
    },
    {
      "cell_type": "markdown",
      "metadata": {
        "id": "d-m6OVafT-wU"
      },
      "source": [
        "- Before you can count anything, you've got to know somethign.\n",
        "- You most  underdstand what you're counting.\n",
        "- When selecting metrics for you rpojects, make sure that what you are measuring relates to what you are trying to achive.\n",
        "- Think about your metrics.\n"
      ]
    },
    {
      "cell_type": "markdown",
      "metadata": {
        "id": "lf2X60hoU_Jp"
      },
      "source": [
        "### 150: Collect Productivity Data"
      ]
    },
    {
      "cell_type": "markdown",
      "metadata": {
        "id": "wMcs6EEgVAJy"
      },
      "source": [
        "- The accuracyof all cost estimation models is dependt on the tailoring of those models for your workplace.  But you cannot tailor your cost estimation models today if you haven't already collected detailed data from past projects. \n",
        "\n",
        "- A litle data taht is well understood and carefully collected, modeled, and interpreted is better than a vast amount of data wihtout these properties."
      ]
    },
    {
      "cell_type": "markdown",
      "metadata": {
        "id": "WaFDrsr3V9tg"
      },
      "source": [
        "### 161: Know the Top 10 Risks"
      ]
    },
    {
      "cell_type": "markdown",
      "metadata": {
        "id": "IaErITdVV_BV"
      },
      "source": [
        "- Personnel shoftfalls,\n",
        "- Unrealistic schedules,\n",
        "- Not understanding the requirements,\n",
        "- Building a poor user interface,\n",
        "- Trying to gold-plate when the customer doesn't what it.\n",
        "- Not controlling requirements changes,\n",
        "- Shoftfalls in externally performed tasks,\n",
        "- Poor resposne time,\n",
        "- Attempting to exceed the capabilty of current computer technology."
      ]
    },
    {
      "cell_type": "markdown",
      "metadata": {
        "id": "wR5e2PW_B4Qe"
      },
      "source": [
        "### 172: Do a Project Postmorten\n",
        "\n"
      ]
    },
    {
      "cell_type": "markdown",
      "metadata": {
        "id": "XjGURKoPWtvx"
      },
      "source": [
        "Record the failures and see if they can be corrected in future projects."
      ]
    },
    {
      "cell_type": "markdown",
      "metadata": {
        "id": "NJ22aMLJMF0U"
      },
      "source": [
        "## Product Assurance Principles\n",
        "\n",
        "Product assurance is the set of activities that ensures the quality of software through the use of checks and balances. Product assurance generally includes:\n",
        "\n",
        "- *Software configuration management*, the  process of managing changes to software.\n",
        "\n",
        "- *Software quality assurance*, the process of managing changes to software.\n",
        "\n",
        "- *Software verification and validation*, the processes of verifying that each intermediate product correctly builds upon the previous intermediate product and validating taht each intermedaite product satisfies the customer's requirements appropriately."
      ]
    },
    {
      "cell_type": "markdown",
      "metadata": {
        "id": "z44D3iwxZUXf"
      },
      "source": [
        "### 174: Establish *SCM* Procedures Early"
      ]
    },
    {
      "cell_type": "markdown",
      "metadata": {
        "id": "4yasITJrZWne"
      },
      "source": [
        "Record what change are made to code, to the documentation,test plans, etc.\n",
        "\n",
        "SCM also means helps definign naming convetion, policies, procedures to make changes to software artifacts:\n",
        "\n",
        "- We know how to report a software problem.\n",
        "- We know how to request a new requirement.\n",
        "- All stakeholers are informed of suggested changes and their opinions are solicited.\n",
        "\n",
        "- A board prioritized and schedules change request."
      ]
    },
    {
      "cell_type": "markdown",
      "metadata": {
        "id": "KzuDK3amJtAQ"
      },
      "source": [
        "\n",
        "### 181: Keep Track of Every Change"
      ]
    },
    {
      "cell_type": "markdown",
      "metadata": {
        "id": "WjlDNB3-ZXL5"
      },
      "source": [
        "Every change has the potential to cause problems. Three common  problems are:\n",
        "\n",
        "- Teh change did not fix the problem for which it was intended.\n",
        "- The change fiexed the problem but caused others.\n",
        "- At a future date, the chagne is noticed and nobody can figure out why it was made (or by whom)."
      ]
    },
    {
      "cell_type": "markdown",
      "metadata": {
        "id": "0zFc-vuFMI2p"
      },
      "source": [
        "## Evolution Principles"
      ]
    },
    {
      "cell_type": "markdown",
      "metadata": {
        "id": "nQsWP7tHNx-Y"
      },
      "source": [
        "*Evolution* is the set of activities dealing with modifying the software product to:\n",
        "\n",
        "- Meet new functions,\n",
        "- Work more effectively,\n",
        "- Work correctly (when errors in the original product are detected)"
      ]
    },
    {
      "cell_type": "markdown",
      "metadata": {
        "id": "96odW6q3bJ6E"
      },
      "source": [
        "### 185: Software Will Continue to Change"
      ]
    },
    {
      "cell_type": "markdown",
      "metadata": {
        "id": "nhMpdLoCbOA4"
      },
      "source": [
        "Any large softwaer system that is being used will undergo continual change becauze the systems's use will suggest additional funtionality.\n",
        "\n",
        "It will change uilti it becomes more cost-effective to rewrite it from sctrach. Lehman \"Law of Continuing Change\""
      ]
    },
    {
      "cell_type": "markdown",
      "metadata": {
        "id": "uAEkPd1Ib76L"
      },
      "source": [
        "###  186: Software's Entropy Increases"
      ]
    },
    {
      "cell_type": "markdown",
      "metadata": {
        "id": "Mi4oqnaHb9r-"
      },
      "source": [
        "- [Programs, life cycles, and laws of software evolution](https://blog.acolyer.org/2020/02/14/programs-life-cycles-laws/)\n",
        "\n",
        "- [Lehman's laws of software evolution](https://en.wikipedia.org/wiki/Lehman%27s_laws_of_software_evolution)\n",
        "\n",
        "Any software system that undergoes change wil grow in complexity adn will become more and more disorganized.  Sinse all software systems being used wil change and chage causes instabilit, all useful softarwe systems will migrate toward lower reliability and maintainabilyt,. \n",
        "\n",
        "\"Law of Increasing Entropy\"\n"
      ]
    },
    {
      "cell_type": "markdown",
      "metadata": {
        "id": "RrwE2vKIcjDi"
      },
      "source": [
        "### 188: Fix Problems, Not Symptoms"
      ]
    },
    {
      "cell_type": "markdown",
      "metadata": {
        "id": "ESRjHeafckRX"
      },
      "source": [
        "When software fails, youhave an obligation to fully understand the *cause* of the failure, not just to do a cursory analysis and apply a  quick fix to what you *think* is the cause."
      ]
    },
    {
      "cell_type": "markdown",
      "metadata": {
        "id": "wsgSmUL0dyu3"
      },
      "source": [
        "### 189: Change Requirements First"
      ]
    },
    {
      "cell_type": "markdown",
      "metadata": {
        "id": "S9i1SfYHd1pO"
      },
      "source": [
        "If all parties agree that an enhancement is to be made to the software, the first thing to do is to update the software requirements specification and get it approved."
      ]
    },
    {
      "cell_type": "markdown",
      "metadata": {
        "id": "V9wuwEgLeKsD"
      },
      "source": [
        "### 190: Prerelease Erros Yield Postrelease Erros"
      ]
    },
    {
      "cell_type": "markdown",
      "metadata": {
        "id": "Dx6jkRLeeLrM"
      },
      "source": [
        "Components with high rates of prerelease errors will also have high reates of  postrelease errors."
      ]
    },
    {
      "cell_type": "markdown",
      "metadata": {
        "id": "mCmlcMFxfCpV"
      },
      "source": [
        "### 196: Regression Test After Every Change"
      ]
    },
    {
      "cell_type": "markdown",
      "metadata": {
        "id": "zzqcuc8qfFzE"
      },
      "source": [
        "Regresion testing is the testing of all previously tested features after a change is made.\n",
        "\n",
        "Por que el software es compolejo vive en un medio-anbiente afectado por muchas cosas, los modulos producen effectos secundarios, etc."
      ]
    },
    {
      "cell_type": "markdown",
      "metadata": {
        "id": "0GMrN91Pf0Hi"
      },
      "source": [
        "### 199: User Profiler Before Optimizing"
      ]
    },
    {
      "cell_type": "markdown",
      "metadata": {
        "id": "4IgpV6WNf1PM"
      },
      "source": [
        "When it is time to optimize a program to make it faster, remember that 80 percent of the CPU cycles will be consumed by 20 percent of the code (Pareto). \n",
        "\n",
        "Therefore, first find the 20 percent of the code whose optimization wil yield result.\n",
        "\n",
        "A profiler monitors your program while it is execuring and identifies the \"hot spots\", that is, sectiosn that consume the most CPY cycles. Optimize these."
      ]
    }
  ]
}