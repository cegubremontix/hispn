{
  "nbformat": 4,
  "nbformat_minor": 0,
  "metadata": {
    "kernelspec": {
      "display_name": "Python 2.7.18 64-bit",
      "name": "python2718jvsc74a57bd0f92b2924b84ff19c1c3dc485f7644d4486f64738191026bf8e6de303969141b5"
    },
    "language_info": {
      "name": "python",
      "version": ""
    },
    "metadata": {
      "interpreter": {
        "hash": "f92b2924b84ff19c1c3dc485f7644d4486f64738191026bf8e6de303969141b5"
      }
    },
    "orig_nbformat": 2,
    "colab": {
      "name": "Algorithms The Spirit of Computing.ipynb",
      "provenance": [],
      "include_colab_link": true
    }
  },
  "cells": [
    {
      "cell_type": "markdown",
      "metadata": {
        "id": "view-in-github",
        "colab_type": "text"
      },
      "source": [
        "<a href=\"https://colab.research.google.com/github/dbremont/Notas/blob/main/Libros/Computacion/Algorithms%20The%20Spirit%20of%20Computing.ipynb\" target=\"_parent\"><img src=\"https://colab.research.google.com/assets/colab-badge.svg\" alt=\"Open In Colab\"/></a>"
      ]
    },
    {
      "cell_type": "markdown",
      "metadata": {
        "id": "EqfLlBWm7ne_"
      },
      "source": [
        "F"
      ]
    },
    {
      "cell_type": "markdown",
      "metadata": {
        "id": "LME9hSwV29zs"
      },
      "source": [
        "Preliminaries\n",
        "\n",
        "1. Introduction and Historical Review\n",
        "2. Algorithms and Data\n",
        "3. Programming Languages\n",
        "\n",
        "Methods and Analysis\n",
        "4. Algorithmic Methods\n",
        "5. The Correctness of Algorithms\n",
        "6. The Efficiency of Algorithms\n",
        "\n",
        "Limitations and Robustness\n",
        "7. Inneficiency and Intractability\n",
        "8. Noncomputability and Undecidability\n",
        "9. Algorithmic Universality and Its Robustness\n",
        "\n",
        "Relaxing and Rules\n",
        "10. Parallelism and Concurrency\n",
        "11. Probabilistic Algorithms\n",
        "12. Algorithms and Intelligence\n",
        "\n"
      ]
    }
  ]
}