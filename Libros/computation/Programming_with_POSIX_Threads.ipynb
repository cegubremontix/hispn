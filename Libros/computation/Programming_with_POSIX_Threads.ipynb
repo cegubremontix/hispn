{
  "nbformat": 4,
  "nbformat_minor": 0,
  "metadata": {
    "colab": {
      "name": "Programming with POSIX Threads.ipynb",
      "provenance": [],
      "authorship_tag": "ABX9TyNkbU7Bo5k7sHYJLhsjzuyw",
      "include_colab_link": true
    },
    "kernelspec": {
      "name": "python3",
      "display_name": "Python 3"
    },
    "language_info": {
      "name": "python"
    }
  },
  "cells": [
    {
      "cell_type": "markdown",
      "metadata": {
        "id": "view-in-github",
        "colab_type": "text"
      },
      "source": [
        "<a href=\"https://colab.research.google.com/github/dbremont/Notas/blob/main/Libros/Computacion/Programming_with_POSIX_Threads.ipynb\" target=\"_parent\"><img src=\"https://colab.research.google.com/assets/colab-badge.svg\" alt=\"Open In Colab\"/></a>"
      ]
    },
    {
      "cell_type": "markdown",
      "metadata": {
        "id": "0S6KBoErsdQy"
      },
      "source": [
        "## Introduction"
      ]
    },
    {
      "cell_type": "markdown",
      "metadata": {
        "id": "GUzcTmU8tXvZ"
      },
      "source": [
        "## Threads"
      ]
    },
    {
      "cell_type": "markdown",
      "metadata": {
        "id": "YcNvYbuuta8c"
      },
      "source": [
        "## Synchonization"
      ]
    },
    {
      "cell_type": "markdown",
      "metadata": {
        "id": "jixALd9WtdJx"
      },
      "source": [
        "## A few ways to use threads"
      ]
    },
    {
      "cell_type": "markdown",
      "metadata": {
        "id": "uDg1JvKttgJE"
      },
      "source": [
        "## Advanced threaded programming"
      ]
    },
    {
      "cell_type": "markdown",
      "metadata": {
        "id": "xqmDIVCQt3c2"
      },
      "source": [
        "## POSIX adjusts to threads"
      ]
    },
    {
      "cell_type": "markdown",
      "metadata": {
        "id": "hC5W1L8Xt68Y"
      },
      "source": [
        "## Hints to avoid debugging "
      ]
    },
    {
      "cell_type": "markdown",
      "metadata": {
        "id": "Qj0Uc6mut_Ol"
      },
      "source": [
        "## POSIX threads mini-reference"
      ]
    },
    {
      "cell_type": "markdown",
      "metadata": {
        "id": "gkfjOx0VuD58"
      },
      "source": [
        "## Future standardization"
      ]
    }
  ]
}