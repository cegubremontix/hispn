{
  "nbformat": 4,
  "nbformat_minor": 0,
  "metadata": {
    "colab": {
      "name": "Web Application Security.ipynb",
      "provenance": [],
      "collapsed_sections": [],
      "authorship_tag": "ABX9TyMz3bfAGdCaLXVec/57v5aK",
      "include_colab_link": true
    },
    "kernelspec": {
      "name": "python3",
      "display_name": "Python 3"
    },
    "language_info": {
      "name": "python"
    }
  },
  "cells": [
    {
      "cell_type": "markdown",
      "metadata": {
        "id": "view-in-github",
        "colab_type": "text"
      },
      "source": [
        "<a href=\"https://colab.research.google.com/github/dbremont/Notas/blob/main/Libros/computation/Web_Application_Security.ipynb\" target=\"_parent\"><img src=\"https://colab.research.google.com/assets/colab-badge.svg\" alt=\"Open In Colab\"/></a>"
      ]
    },
    {
      "cell_type": "markdown",
      "source": [
        "# The History of Software Security"
      ],
      "metadata": {
        "id": "2X0VIGUJkA4_"
      }
    },
    {
      "cell_type": "markdown",
      "source": [
        "# Recon"
      ],
      "metadata": {
        "id": "bU6ncmBrrOXY"
      }
    },
    {
      "cell_type": "markdown",
      "source": [
        "## Introduction to Web Application Reconnaissance"
      ],
      "metadata": {
        "id": "tzjQQG95rPQu"
      }
    },
    {
      "cell_type": "markdown",
      "source": [
        "## The Structure of a Modern Web Application"
      ],
      "metadata": {
        "id": "7OqRaBforTkp"
      }
    },
    {
      "cell_type": "markdown",
      "source": [
        "## Finding Subdomains"
      ],
      "metadata": {
        "id": "lkJsttPirY0y"
      }
    },
    {
      "cell_type": "markdown",
      "source": [
        "## API Analysis"
      ],
      "metadata": {
        "id": "0MMk4o-IrclT"
      }
    },
    {
      "cell_type": "markdown",
      "source": [
        "## Identifyng Third-Party Dependencies "
      ],
      "metadata": {
        "id": "YNqq3q4uyzW9"
      }
    },
    {
      "cell_type": "markdown",
      "source": [
        "## Identifying Weak Points in Application Architecture "
      ],
      "metadata": {
        "id": "ebRglVMGy6YU"
      }
    },
    {
      "cell_type": "markdown",
      "source": [
        "# Offense"
      ],
      "metadata": {
        "id": "jhVtAPH3zFHk"
      }
    },
    {
      "cell_type": "markdown",
      "source": [
        "## Introduction to Hacking Web Applications"
      ],
      "metadata": {
        "id": "hkaez3cXzIUI"
      }
    },
    {
      "cell_type": "markdown",
      "source": [
        "## Cross-Site Scripiting (XSS)"
      ],
      "metadata": {
        "id": "G1rZgk4U1C77"
      }
    },
    {
      "cell_type": "markdown",
      "source": [
        "## Cross-Site Request  Forgery (CSRF)"
      ],
      "metadata": {
        "id": "8belxiYj1GXh"
      }
    },
    {
      "cell_type": "markdown",
      "source": [
        "## XML External Entity (XXE)"
      ],
      "metadata": {
        "id": "aLTU1Iv31KRK"
      }
    },
    {
      "cell_type": "markdown",
      "source": [
        "## Injection"
      ],
      "metadata": {
        "id": "pQdMavwM1SWh"
      }
    },
    {
      "cell_type": "markdown",
      "source": [
        "## Defensing Against CSRF Attacks"
      ],
      "metadata": {
        "id": "yFmQhAA81VEn"
      }
    },
    {
      "cell_type": "markdown",
      "source": [
        "## Defending Againts XXE"
      ],
      "metadata": {
        "id": "iQQT6PzF1Z65"
      }
    },
    {
      "cell_type": "markdown",
      "source": [
        "## Defending Against DoS"
      ],
      "metadata": {
        "id": "qThvjh9C1frO"
      }
    },
    {
      "cell_type": "markdown",
      "source": [
        "## Securing Third-Party Dependencies"
      ],
      "metadata": {
        "id": "VTa8NWuO1iz4"
      }
    }
  ]
}