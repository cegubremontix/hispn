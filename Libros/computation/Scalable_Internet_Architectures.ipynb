{
  "nbformat": 4,
  "nbformat_minor": 0,
  "metadata": {
    "colab": {
      "name": "Scalable Internet Architectures.ipynb",
      "provenance": [],
      "authorship_tag": "ABX9TyNIC79Xf+U/e7826NGMCMGo",
      "include_colab_link": true
    },
    "kernelspec": {
      "name": "python3",
      "display_name": "Python 3"
    },
    "language_info": {
      "name": "python"
    }
  },
  "cells": [
    {
      "cell_type": "markdown",
      "metadata": {
        "id": "view-in-github",
        "colab_type": "text"
      },
      "source": [
        "<a href=\"https://colab.research.google.com/github/dbremont/Notas/blob/main/Libros/Computacion/Scalable_Internet_Architectures.ipynb\" target=\"_parent\"><img src=\"https://colab.research.google.com/assets/colab-badge.svg\" alt=\"Open In Colab\"/></a>"
      ]
    },
    {
      "cell_type": "markdown",
      "metadata": {
        "id": "eukbEQFZEAtR"
      },
      "source": [
        "## Scaling Up (and Down)"
      ]
    },
    {
      "cell_type": "markdown",
      "metadata": {
        "id": "hGE7qlUPEPlf"
      },
      "source": [
        "## Principles of Avoiding Failure"
      ]
    },
    {
      "cell_type": "markdown",
      "metadata": {
        "id": "YkCGfMtYEark"
      },
      "source": [
        "## Mission-Critical Environments"
      ]
    },
    {
      "cell_type": "markdown",
      "metadata": {
        "id": "KtroZJvWEeJj"
      },
      "source": [
        "## High Avialability"
      ]
    },
    {
      "cell_type": "markdown",
      "metadata": {
        "id": "lo7Iq7vKEhAk"
      },
      "source": [
        "## Load Balancing"
      ]
    },
    {
      "cell_type": "markdown",
      "metadata": {
        "id": "24zcS_lTEtn3"
      },
      "source": [
        "## Static Content Serving"
      ]
    },
    {
      "cell_type": "markdown",
      "metadata": {
        "id": "JI1TKb7vEvPO"
      },
      "source": [
        "## Static Meets Dynamic"
      ]
    },
    {
      "cell_type": "markdown",
      "metadata": {
        "id": "oZ6glz1hEzFs"
      },
      "source": [
        "## Distributed Databases Are Easy, Just Read the Fine Print"
      ]
    },
    {
      "cell_type": "markdown",
      "metadata": {
        "id": "JnALdw7kE4xA"
      },
      "source": [
        "## Juggling Logs"
      ]
    },
    {
      "cell_type": "markdown",
      "metadata": {
        "id": "iM2bhPhVE9Id"
      },
      "source": [
        "## The Right Tool for the Job"
      ]
    }
  ]
}