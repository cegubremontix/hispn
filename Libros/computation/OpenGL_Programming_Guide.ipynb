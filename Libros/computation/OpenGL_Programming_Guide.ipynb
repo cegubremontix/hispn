{
  "nbformat": 4,
  "nbformat_minor": 0,
  "metadata": {
    "colab": {
      "name": "OpenGL Programming Guide.ipynb",
      "provenance": [],
      "authorship_tag": "ABX9TyNeMQPt0+buc4NkHUbhxOzf",
      "include_colab_link": true
    },
    "kernelspec": {
      "name": "python3",
      "display_name": "Python 3"
    },
    "language_info": {
      "name": "python"
    }
  },
  "cells": [
    {
      "cell_type": "markdown",
      "metadata": {
        "id": "view-in-github",
        "colab_type": "text"
      },
      "source": [
        "<a href=\"https://colab.research.google.com/github/dbremont/Notas/blob/main/Libros/Computation/OpenGL_Programming_Guide.ipynb\" target=\"_parent\"><img src=\"https://colab.research.google.com/assets/colab-badge.svg\" alt=\"Open In Colab\"/></a>"
      ]
    },
    {
      "cell_type": "markdown",
      "metadata": {
        "id": "dJARnkwk7osl"
      },
      "source": [
        "## Introduction to OpenGL"
      ]
    },
    {
      "cell_type": "markdown",
      "metadata": {
        "id": "XH1RP_9u7oxa"
      },
      "source": [
        "## State Management and Drawing Geometric Objects"
      ]
    },
    {
      "cell_type": "markdown",
      "metadata": {
        "id": "vJHUip1171Z9"
      },
      "source": [
        "## Viewing"
      ]
    },
    {
      "cell_type": "markdown",
      "metadata": {
        "id": "6ClZEmXK74Xv"
      },
      "source": [
        "## Color"
      ]
    },
    {
      "cell_type": "markdown",
      "metadata": {
        "id": "-weE88ph76On"
      },
      "source": [
        "## Lighting"
      ]
    },
    {
      "cell_type": "markdown",
      "metadata": {
        "id": "Fpe8snuc78mp"
      },
      "source": [
        "## Blending, Antialiasign, Fog, and Polygon Offset"
      ]
    },
    {
      "cell_type": "markdown",
      "metadata": {
        "id": "dLRzKUJQ8Cuj"
      },
      "source": [
        "## Display Lists"
      ]
    },
    {
      "cell_type": "markdown",
      "metadata": {
        "id": "veKDgqlW8ELT"
      },
      "source": [
        "## Drawing Pixels, Bitmaps, Fonts, and Images"
      ]
    },
    {
      "cell_type": "markdown",
      "metadata": {
        "id": "KZ1UKk0h8IYl"
      },
      "source": [
        "## Textures Mapping"
      ]
    },
    {
      "cell_type": "markdown",
      "metadata": {
        "id": "H3hyGQxq8LTo"
      },
      "source": [
        "## The Framebuffer"
      ]
    },
    {
      "cell_type": "markdown",
      "metadata": {
        "id": "I2LxhFI78N01"
      },
      "source": [
        "## Tessellators mand Quadrics"
      ]
    },
    {
      "cell_type": "markdown",
      "metadata": {
        "id": "-KdPi5wm8RPt"
      },
      "source": [
        "## Evaluators and NURBS"
      ]
    },
    {
      "cell_type": "markdown",
      "metadata": {
        "id": "8GxwS58O8TfU"
      },
      "source": [
        "## Selection and Feedback"
      ]
    },
    {
      "cell_type": "markdown",
      "metadata": {
        "id": "QLnQ-vsC8WLf"
      },
      "source": [
        "## Now That You Know"
      ]
    },
    {
      "cell_type": "markdown",
      "metadata": {
        "id": "awxSBqgT8eBI"
      },
      "source": [
        "## Order of Operations"
      ]
    },
    {
      "cell_type": "markdown",
      "metadata": {
        "id": "FJydHuv18gL4"
      },
      "source": [
        "## State Variables"
      ]
    },
    {
      "cell_type": "markdown",
      "metadata": {
        "id": "TAnVPsVz8iGn"
      },
      "source": [
        "## OpenGL and Window Systems"
      ]
    },
    {
      "cell_type": "markdown",
      "metadata": {
        "id": "qIscU53N8lpS"
      },
      "source": [
        "## Basics of GLUT: The OpenGL Utility Toolkit"
      ]
    },
    {
      "cell_type": "markdown",
      "metadata": {
        "id": "GHNm_og58p9w"
      },
      "source": [
        "## Calculating Normal Vectors"
      ]
    },
    {
      "cell_type": "markdown",
      "metadata": {
        "id": "vDc2xeRH8tW-"
      },
      "source": [
        "## Homegeneous Coordinates and Transformation Matrices"
      ]
    },
    {
      "cell_type": "markdown",
      "metadata": {
        "id": "-F48Etkb9KDd"
      },
      "source": [
        "## Programming Tips"
      ]
    }
  ]
}