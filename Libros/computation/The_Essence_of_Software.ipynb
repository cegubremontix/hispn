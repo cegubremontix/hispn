{
  "nbformat": 4,
  "nbformat_minor": 0,
  "metadata": {
    "colab": {
      "name": "The Essence of Software.ipynb",
      "provenance": [],
      "collapsed_sections": [],
      "authorship_tag": "ABX9TyPWyq2+23UIvA3plGK1l9P1",
      "include_colab_link": true
    },
    "kernelspec": {
      "name": "python3",
      "display_name": "Python 3"
    },
    "language_info": {
      "name": "python"
    }
  },
  "cells": [
    {
      "cell_type": "markdown",
      "metadata": {
        "id": "view-in-github",
        "colab_type": "text"
      },
      "source": [
        "<a href=\"https://colab.research.google.com/github/dbremont/Notas/blob/main/Libros/computation/The_Essence_of_Software.ipynb\" target=\"_parent\"><img src=\"https://colab.research.google.com/assets/colab-badge.svg\" alt=\"Open In Colab\"/></a>"
      ]
    },
    {
      "cell_type": "markdown",
      "source": [
        "Design: Creating a form to meed a concept.\n",
        "\n",
        "- Model of the 'Thing'\n",
        "- Specification of an object\n",
        "\n",
        "Software Design:\n",
        "- Specification / Model of the software.\n",
        "\n",
        "Conceptual Models / Mental Models\n"
      ],
      "metadata": {
        "id": "TdzopDYGMTdt"
      }
    },
    {
      "cell_type": "markdown",
      "source": [
        "# Motivations"
      ],
      "metadata": {
        "id": "SCW9YzlS8naw"
      }
    },
    {
      "cell_type": "markdown",
      "source": [
        "## Why I Wrote  This Book"
      ],
      "metadata": {
        "id": "0gubyRuxFCxn"
      }
    },
    {
      "cell_type": "markdown",
      "source": [
        "## Discovering Concepts"
      ],
      "metadata": {
        "id": "mmb6WcBeFFi0"
      }
    },
    {
      "cell_type": "markdown",
      "source": [
        "## How Concepts Help"
      ],
      "metadata": {
        "id": "tvBxDtydFHOl"
      }
    },
    {
      "cell_type": "markdown",
      "source": [
        "# Essentials"
      ],
      "metadata": {
        "id": "VyTVkrZMFJOs"
      }
    },
    {
      "cell_type": "markdown",
      "source": [
        "## Concept Structure"
      ],
      "metadata": {
        "id": "W7MhHKJIFX5c"
      }
    },
    {
      "cell_type": "markdown",
      "source": [
        "## Concept Purporses"
      ],
      "metadata": {
        "id": "wVFemHfqFgJF"
      }
    },
    {
      "cell_type": "markdown",
      "source": [
        "## Concept Composition"
      ],
      "metadata": {
        "id": "AMv-hSMQFjTC"
      }
    },
    {
      "cell_type": "markdown",
      "source": [
        "## Concept Dependence"
      ],
      "metadata": {
        "id": "EoGkiaJnFl96"
      }
    },
    {
      "cell_type": "markdown",
      "source": [
        "## Concept Mapping"
      ],
      "metadata": {
        "id": "RPkG-XyeFofj"
      }
    },
    {
      "cell_type": "markdown",
      "source": [
        "# Principles"
      ],
      "metadata": {
        "id": "0i6lfy3jGKMw"
      }
    },
    {
      "cell_type": "markdown",
      "source": [
        "## Concept Specificity"
      ],
      "metadata": {
        "id": "8ftPLIUfGLXH"
      }
    },
    {
      "cell_type": "markdown",
      "source": [
        "## Concept Familiarity"
      ],
      "metadata": {
        "id": "CUvShUKwGXrw"
      }
    },
    {
      "cell_type": "markdown",
      "source": [
        "## Concept Integrity"
      ],
      "metadata": {
        "id": "s_pqDPvRGZsY"
      }
    }
  ]
}