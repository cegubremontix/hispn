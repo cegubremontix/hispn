{
  "nbformat": 4,
  "nbformat_minor": 0,
  "metadata": {
    "colab": {
      "name": "Optimizing Java.ipynb",
      "provenance": [],
      "authorship_tag": "ABX9TyOPumzhyh20MiN+FE/6rsld",
      "include_colab_link": true
    },
    "kernelspec": {
      "name": "python3",
      "display_name": "Python 3"
    },
    "language_info": {
      "name": "python"
    }
  },
  "cells": [
    {
      "cell_type": "markdown",
      "metadata": {
        "id": "view-in-github",
        "colab_type": "text"
      },
      "source": [
        "<a href=\"https://colab.research.google.com/github/dbremont/Notas/blob/main/Libros/Computacion/Optimizing_Java.ipynb\" target=\"_parent\"><img src=\"https://colab.research.google.com/assets/colab-badge.svg\" alt=\"Open In Colab\"/></a>"
      ]
    },
    {
      "cell_type": "markdown",
      "metadata": {
        "id": "lq7edYNoER4f"
      },
      "source": [
        "## Optimization and Performace Defined"
      ]
    },
    {
      "cell_type": "markdown",
      "metadata": {
        "id": "fsU9bCHU2JVg"
      },
      "source": [
        "Performace as an Experimental Science\n",
        "\n",
        "Throughput\n",
        "\n",
        "Latency\n",
        "\n",
        "Capacity\n",
        "\n",
        "Utilization\n",
        "\n",
        "Efficiency\n",
        "\n",
        "Scalability\n",
        "\n",
        "Degredation\n",
        "\n",
        "Connection Between the Obervables\n",
        "\n",
        "Reading Performace Graphs"
      ]
    },
    {
      "cell_type": "markdown",
      "metadata": {
        "id": "rcpu0fgI0piX"
      },
      "source": [
        "## Overview of the JVM"
      ]
    },
    {
      "cell_type": "markdown",
      "metadata": {
        "id": "MUXc9elj2hlF"
      },
      "source": [
        "Interpreting and Classloading\n",
        "\n",
        "Executing Bytecode\n",
        "\n",
        "Anatomy of a class file\n",
        "\n",
        "Introducing HotSpot\n",
        "\n",
        "JVM Memory Management\n",
        "\n",
        "Threading and the Java Memory Model\n",
        "\n",
        "OpenJDK\n",
        "\n",
        "Oracle\n",
        "\n",
        "Zulu\n",
        "\n",
        "IcedTea\n",
        "\n",
        "Zing\n",
        "\n",
        "J9\n",
        "\n",
        "Avian\n",
        "\n",
        "Android\n",
        "\n",
        "Monitoring and Tooling for the JVM\n",
        "\n",
        "Monitor\n",
        "\n",
        "Threads\n",
        "\n",
        "Sampler and Profiler"
      ]
    },
    {
      "cell_type": "markdown",
      "metadata": {
        "id": "XxbXeACw0uSo"
      },
      "source": [
        "## Hardware and Operating Systems"
      ]
    },
    {
      "cell_type": "markdown",
      "metadata": {
        "id": "_Xp7FDt_3NyN"
      },
      "source": [
        "Memory\n",
        "\n",
        "Memory Caches\n",
        "\n",
        "Modern Processor Features\n",
        "\n",
        "Branch Prediction and Speculative Execution\n",
        "\n",
        "Hardware Memory Models\n",
        "\n",
        "Operative Systems\n",
        "\n",
        "The Scheduler\n",
        "\n",
        "Context Switches\n",
        "\n",
        "A Simple System Model\n",
        "\n",
        "Basic Detection Strategies\n",
        "\n",
        "Utilizing the CPU\n",
        "\n",
        "Garbage Collection\n",
        "\n",
        "I/O\n",
        "\n",
        "Kernel bypass I/O\n",
        "\n",
        "Mechanical Sympathy\n",
        "\n",
        "Virtualization\n",
        "\n",
        "The JVM and the Operating"
      ]
    },
    {
      "cell_type": "markdown",
      "metadata": {
        "id": "zV98QE3g0yk-"
      },
      "source": [
        "## Performace Testing Patterns and Antipatterns"
      ]
    },
    {
      "cell_type": "markdown",
      "metadata": {
        "id": "G99MXpvL4ff7"
      },
      "source": [
        "Types of Performace Test\n",
        "\n",
        "Latency test\n",
        "\n",
        "Throughput test\n",
        "\n",
        "Load test\n",
        "\n",
        "Stress test\n",
        "\n",
        "Stress test\n",
        "\n",
        "Endurance test\n",
        "\n",
        "Capacity planning test\n",
        "\n",
        "Degradation\n",
        "\n",
        "Top-Down Performace\n",
        "\n",
        "Creating a Test Environment\n",
        "\n",
        "Identifying Performace Requirements\n",
        "\n",
        "Introducing Performace Antipatterns\n",
        "\n",
        "Boredom\n",
        "\n",
        "Resume Padding\n",
        "\n",
        "Peer Pressure\n",
        "\n",
        "Lack of Understanding\n",
        "\n",
        "Misunderstood/Nonexistent Problem\n",
        "\n",
        "Performace Antipatterns Catalogue\n",
        "\n",
        "Distracted by Shiny\n",
        "\n",
        "Distracted by Simple\n",
        "\n",
        "Performace Tuning Wizard\n",
        "\n",
        "Tuning by Folklore\n",
        "\n",
        "The Blame Donkey\n",
        "\n",
        "Missing the Bigger Picture\n",
        "\n",
        "UAT Is My Desktop\n",
        "\n",
        "Production-Like Data Is Hard\n",
        "\n",
        "Cognitive Biases and Performace Testing\n",
        "\n",
        "Reductionist Thinking\n",
        "\n",
        "Confirmation Bias\n",
        "\n",
        "Fog of War (Action Bias)\n",
        "\n",
        "Risk Bias\n",
        "\n",
        "Ellsberg's Paradox"
      ]
    },
    {
      "cell_type": "markdown",
      "metadata": {
        "id": "G9_Xp64a05Mr"
      },
      "source": [
        "## Microbenchmarking and Statistics"
      ]
    },
    {
      "cell_type": "markdown",
      "metadata": {
        "id": "SL_qxVW67EZR"
      },
      "source": [
        "Introduction to Measuring Java Performace\n",
        "\n",
        "Introduction to JMH\n",
        "\n",
        "Don't Microbenchmark If You Can Help It (A True Story)\n",
        "\n",
        "Heuristics for When to Microbenchmark\n",
        "\n",
        "The JMH Framework\n",
        "\n",
        "Executing Benchmarks\n",
        "\n",
        "Statistics for JVM Performace\n",
        "\n",
        "Types of Error\n",
        "\n",
        "Interpretation of Statistics"
      ]
    },
    {
      "cell_type": "markdown",
      "metadata": {
        "id": "ih2n28he1Nvt"
      },
      "source": [
        "## Understanding Garbage Collection"
      ]
    },
    {
      "cell_type": "markdown",
      "metadata": {
        "id": "Suexuphx8qeo"
      },
      "source": [
        "Introducing Mark and Sweep\n",
        "\n",
        "Garbage Collection Glossary\n",
        "\n",
        "- Concurrent\n",
        "- Parallel\n",
        "- Conservative\n",
        "- Moving\n",
        "- Compacting\n",
        "- Evacuating\n",
        "\n",
        "Introducing the HotSpot Runtime\n",
        "\n",
        "Representing Objects at Runtime\n",
        "\n",
        "GC Roots\n",
        "\n",
        "Allocation and Lifetime\n",
        "\n",
        "Weak Generational Hypothesis\n",
        "\n",
        "Garbage Collection in HotSpot\n",
        "\n",
        "Hemispheric Collection\n",
        "\n",
        "VisualVM\n",
        "\n",
        "The Parallel Collectors\n",
        "- Parallel GC\n",
        "- ParNew\n",
        "- ParallelOld\n",
        "\n",
        "Young Parallel Collections\n",
        "\n",
        "Old Parallel Collections\n",
        "\n",
        "Limitations of Parallel Collectors\n",
        "\n",
        "The Role of Allocation\n"
      ]
    },
    {
      "cell_type": "markdown",
      "metadata": {
        "id": "Z-_Vwubw1Uye"
      },
      "source": [
        "## Advanced Garbage Collection"
      ]
    },
    {
      "cell_type": "markdown",
      "metadata": {
        "id": "DjZ8rdzI9v5h"
      },
      "source": [
        "Tradeoffs and Pluggable Collectors\n",
        "\n",
        "Concurrent GC Theory\n",
        "\n",
        "JVM Safepoints\n",
        "\n",
        "Tri-Color Marking\n",
        "\n",
        "CMS (Concurrent Mark and Sweep)\n",
        "\n",
        "How CMS Works\n",
        "\n",
        "Basic JVM Flags for CMS\n",
        "\n",
        "G1 Heap Layout and Regions\n",
        "\n",
        "G1 Algorithm Design\n",
        "\n",
        "G1 Phases\n",
        "\n",
        "Basic JVM Flags for G1\n",
        "\n",
        "Shenandoah\n",
        "\n",
        "Concurent Compaction\n",
        "\n",
        "Obtaining Shenandoah\n",
        "\n",
        "C4 (Azul Zing)\n",
        "\n",
        "Balanced (IBM J9)\n",
        "\n",
        "J9 Object Headers\n",
        "\n",
        "Large Arrays in Balanced\n",
        "\n",
        "NUMA and Balenced\n",
        "\n",
        "Legacy HotSpot Collectors\n",
        "\n",
        "Serial and SerialOld\n",
        "\n",
        "Incremental CMS (iCMS)\n",
        "\n",
        "Epsilon"
      ]
    },
    {
      "cell_type": "markdown",
      "metadata": {
        "id": "FnMw6gVr1crY"
      },
      "source": [
        "## GC Logging, Monitoring, Tuning and Tools"
      ]
    },
    {
      "cell_type": "markdown",
      "metadata": {
        "id": "D8YbzyEZ_Wiv"
      },
      "source": [
        "Introduction to GC Logging\n",
        "\n",
        "Switching On GC Logging\n",
        "\n",
        "GC Logs Versus JMX\n",
        "\n",
        "Drawbacks of JMX\n",
        "\n",
        "Benefits of GC Log Data\n",
        "\n",
        "Log Parsing Tools\n",
        "\n",
        "GCViewer\n",
        "\n",
        "Basic GC Tuning\n",
        "\n",
        "Understanding Allocation\n",
        "\n",
        "Tunning Parallel GC\n",
        "\n",
        "Tuning CMS\n",
        "\n",
        "Tuning G1\n",
        "\n",
        "jHiccup"
      ]
    },
    {
      "cell_type": "markdown",
      "metadata": {
        "id": "daNeFABH1j5k"
      },
      "source": [
        "## Code Execution on the JVM"
      ]
    },
    {
      "cell_type": "markdown",
      "metadata": {
        "id": "j6TBy4o6AMng"
      },
      "source": [
        "Overview of Bytecode Interpretation\n",
        "\n",
        "Introduction to JVM Bytecode\n",
        "\n",
        "Load and store category\n",
        "\n",
        "Arithmetic category\n",
        "\n",
        "Flow control category\n",
        "\n",
        "Method invocation category\n",
        "\n",
        "Platform opcodes category\n",
        "\n",
        "HotSpot-Specific Details\n",
        "\n",
        "AOT adn JIT Compilation\n",
        "\n",
        "AOT Compilation\n",
        "\n",
        "JIT Compilation\n",
        "\n",
        "Comparing AOT and JIT Compilation\n",
        "\n",
        "HotSpot JIT Basics\n",
        "\n",
        "Compilers Withing HostSpot\n",
        "\n",
        "Tiered Compilation in HotSpot\n",
        "\n",
        "The Code Cache\n",
        "\n",
        "Simple JIT Tuning"
      ]
    },
    {
      "cell_type": "markdown",
      "metadata": {
        "id": "U-WKKkpk1o8I"
      },
      "source": [
        "## Understanding JIT Compilation"
      ]
    },
    {
      "cell_type": "markdown",
      "metadata": {
        "id": "yY-jOCraB14d"
      },
      "source": [
        "Introducing JITWatch\n",
        "\n",
        "Basic JITWatch Views\n",
        "\n",
        "Debug JVMs and hsdis\n",
        "\n",
        "Introducing JIT Compilation\n",
        "\n",
        "Inlining\n",
        "\n",
        "Inlining Limits\n",
        "\n",
        "Loop Unrolling\n",
        "\n",
        "Escape Analysis\n",
        "\n",
        "Eliminating Heap Allocations\n",
        "\n",
        "Monomorphic Dispatch\n",
        "\n",
        "Intrinsics\n",
        "\n",
        "On-Stack Replacement\n",
        "\n",
        "Safepoints Revisited\n",
        "\n",
        "Code Library Methods"
      ]
    },
    {
      "cell_type": "markdown",
      "metadata": {
        "id": "3Ch9viA11wFy"
      },
      "source": [
        "## Java Language Performace Techniques"
      ]
    },
    {
      "cell_type": "markdown",
      "metadata": {
        "id": "JJ0XUfHlCxg5"
      },
      "source": [
        "Optimizing Collections\n",
        "\n",
        "Optimization Considerations for List\n",
        "\n",
        "ArrayList\n",
        "\n",
        "ArrayList versus LinkedList\n",
        "\n",
        "Optimization Considerations for Maps\n",
        "\n",
        "TreeMap\n",
        "\n",
        "Optimization Considerations for Sets\n",
        "\n",
        "Domain Objects\n",
        "\n",
        "Avoid Finalization\n",
        "\n",
        "Method Handles"
      ]
    },
    {
      "cell_type": "markdown",
      "metadata": {
        "id": "FXPRN7BM110f"
      },
      "source": [
        "## Concurrent Performace Techniques"
      ]
    },
    {
      "cell_type": "markdown",
      "metadata": {
        "id": "wWJYn339DMCa"
      },
      "source": [
        "Introduction to Parallelism\n",
        "\n",
        "Fundamental Java Concurency\n",
        "\n",
        "Understanding the JMM\n",
        "\n",
        "Strong memory model\n",
        "\n",
        "Weak memory model\n",
        "\n",
        "Buiding Concurrency Libraries\n",
        "\n",
        "Atomics and CAS\n",
        "\n",
        "Locks and Spinlocks\n",
        "\n",
        "Summary of Concurent Libraries\n",
        "\n",
        "Semaphores\n",
        "\n",
        "Concurent Collections\n",
        "\n",
        "Latches and Barriers\n",
        "\n",
        "Executors and Task Abstarction\n",
        "\n",
        "Fork/Join\n",
        "\n",
        "Modern  Java Concurrency\n",
        "\n",
        "Streams and Parallel Systems\n",
        "\n",
        "Lock-Free Techniques\n",
        "\n",
        "Actor-Based Techniques"
      ]
    },
    {
      "cell_type": "markdown",
      "metadata": {
        "id": "mvnDBkke18Is"
      },
      "source": [
        "## Profiling"
      ]
    },
    {
      "cell_type": "markdown",
      "metadata": {
        "id": "NC2V5tS6D75i"
      },
      "source": [
        "Introduduction to Profiling\n",
        "\n",
        "Sampling and Safepointing Bias\n",
        "\n",
        "Execution Profiling Tools for Developers\n",
        "\n",
        "Java Flight Recorder (JMC)\n",
        "\n",
        "Red Hat Thermostat\n",
        "\n",
        "New Relic\n",
        "\n",
        "Java agent API\n",
        "\n",
        "Modern Profilers\n",
        "\n",
        "perf\n",
        "\n",
        "Async Profiler\n",
        "\n",
        "Honest Profilers\n",
        "\n",
        "Allocaton Profiling\n",
        "\n",
        "hprof\n",
        "\n",
        "Heap Dump Analysis"
      ]
    },
    {
      "cell_type": "markdown",
      "metadata": {
        "id": "KSNpkyNO1_ri"
      },
      "source": [
        "## High-Performace Logging and Messaging"
      ]
    },
    {
      "cell_type": "markdown",
      "metadata": {
        "id": "YCKnF7chFsQm"
      },
      "source": [
        "Logging\n",
        "\n",
        "Designing a Lower-Impact Logger\n",
        "\n",
        "Sample running Log4j 2.5\n",
        "\n",
        "Low Latency Using Real Logic Libraries\n",
        "\n",
        "Buffers\n",
        "\n",
        "Queues\n",
        "\n",
        "The code fragment from\n",
        "\n",
        "Simple Binary Encoding\n",
        "\n",
        "State-state allocation\n",
        "\n",
        "Working with SBE\n",
        "\n",
        "Aeron"
      ]
    },
    {
      "cell_type": "markdown",
      "metadata": {
        "id": "BDY-K1Hb2Ezc"
      },
      "source": [
        "## Java 9 and the Future"
      ]
    },
    {
      "cell_type": "markdown",
      "metadata": {
        "id": "NRSkCMZ9GX8L"
      },
      "source": [
        "Small Performace Enhacements in Java 9\n",
        "\n",
        "Segmented Code Cache\n",
        "\n",
        "Compact Strings\n",
        "\n",
        "C2 Compiler Improvements \n",
        "\n",
        "Java 10 and Future Versions\n",
        "\n",
        "Unsafe in Java 9 and Beyond\n",
        "\n",
        "Graal and Truffle\n",
        "\n",
        "Future Directions in Bytecode\n",
        "\n",
        "Future Directions in Concurrency\n",
        "\n",
        "Fork/Join"
      ]
    }
  ]
}