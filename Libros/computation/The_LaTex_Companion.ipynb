{
  "nbformat": 4,
  "nbformat_minor": 0,
  "metadata": {
    "colab": {
      "name": "The LaTex  Companion.ipynb",
      "provenance": [],
      "collapsed_sections": [],
      "authorship_tag": "ABX9TyPjtpW0ZdbDlXv2/GFEpsRj",
      "include_colab_link": true
    },
    "kernelspec": {
      "name": "python3",
      "display_name": "Python 3"
    },
    "language_info": {
      "name": "python"
    }
  },
  "cells": [
    {
      "cell_type": "markdown",
      "metadata": {
        "id": "view-in-github",
        "colab_type": "text"
      },
      "source": [
        "<a href=\"https://colab.research.google.com/github/dbremont/Notas/blob/main/Libros/computation/The_LaTex_Companion.ipynb\" target=\"_parent\"><img src=\"https://colab.research.google.com/assets/colab-badge.svg\" alt=\"Open In Colab\"/></a>"
      ]
    },
    {
      "cell_type": "markdown",
      "source": [
        "# Introduction"
      ],
      "metadata": {
        "id": "Xa--Y3kC3hbZ"
      }
    },
    {
      "cell_type": "markdown",
      "source": [
        "# The Structure of LaTex Document"
      ],
      "metadata": {
        "id": "DFDoNNw17wYg"
      }
    },
    {
      "cell_type": "markdown",
      "source": [
        "# Basic Formatting Tools"
      ],
      "metadata": {
        "id": "6Psl9KwB7zRw"
      }
    },
    {
      "cell_type": "markdown",
      "source": [
        "# The Layout of the Page"
      ],
      "metadata": {
        "id": "JuPMe9mJ73-Y"
      }
    },
    {
      "cell_type": "markdown",
      "source": [
        "# Tabular Material"
      ],
      "metadata": {
        "id": "EnbaTVbt77JS"
      }
    },
    {
      "cell_type": "markdown",
      "source": [
        "# Mastering Floats"
      ],
      "metadata": {
        "id": "h22JGPXc79LS"
      }
    },
    {
      "cell_type": "markdown",
      "source": [
        "# Fonts and Encodings"
      ],
      "metadata": {
        "id": "abn-krAm8BIx"
      }
    },
    {
      "cell_type": "markdown",
      "source": [
        "# Higher Mathematics"
      ],
      "metadata": {
        "id": "G7qzPPv-8DuU"
      }
    },
    {
      "cell_type": "markdown",
      "source": [
        "# LaTex in a Multilingual Environment"
      ],
      "metadata": {
        "id": "Uh_g9vcf8HFU"
      }
    },
    {
      "cell_type": "markdown",
      "source": [
        "# Graphics Generation and Manipulation"
      ],
      "metadata": {
        "id": "8EscodCl8MLK"
      }
    },
    {
      "cell_type": "markdown",
      "source": [
        "# Index Generation"
      ],
      "metadata": {
        "id": "ByGOiGCg8QV-"
      }
    },
    {
      "cell_type": "markdown",
      "source": [
        "# Managing Citations"
      ],
      "metadata": {
        "id": "vNV_uLdr8SVO"
      }
    },
    {
      "cell_type": "markdown",
      "source": [
        "# Bibliography Generation"
      ],
      "metadata": {
        "id": "Ff7JkpGv8WNz"
      }
    },
    {
      "cell_type": "markdown",
      "source": [
        "# LaTex Package Documentation Tools"
      ],
      "metadata": {
        "id": "xe5e63BD8ZNq"
      }
    },
    {
      "cell_type": "markdown",
      "source": [
        "# A LaTex Overview for Preamble, Package, and Class Writers"
      ],
      "metadata": {
        "id": "_Y9ZOWCp8c70"
      }
    },
    {
      "cell_type": "markdown",
      "source": [
        "# Tracing and Resolving Problems"
      ],
      "metadata": {
        "id": "-AhMlsPe8i2-"
      }
    },
    {
      "cell_type": "markdown",
      "source": [
        "# LaTex Software and User Group Information"
      ],
      "metadata": {
        "id": "SCW9YzlS8naw"
      }
    }
  ]
}