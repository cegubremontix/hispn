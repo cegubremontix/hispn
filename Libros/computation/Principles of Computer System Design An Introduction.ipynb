{
  "nbformat": 4,
  "nbformat_minor": 0,
  "metadata": {
    "kernelspec": {
      "display_name": "Python 2.7.18 64-bit",
      "name": "python2718jvsc74a57bd0f92b2924b84ff19c1c3dc485f7644d4486f64738191026bf8e6de303969141b5"
    },
    "language_info": {
      "name": "python",
      "version": ""
    },
    "metadata": {
      "interpreter": {
        "hash": "f92b2924b84ff19c1c3dc485f7644d4486f64738191026bf8e6de303969141b5"
      }
    },
    "orig_nbformat": 2,
    "colab": {
      "name": "Principles of Computer System Design An Introduction.ipynb",
      "provenance": [],
      "include_colab_link": true
    }
  },
  "cells": [
    {
      "cell_type": "markdown",
      "metadata": {
        "id": "view-in-github",
        "colab_type": "text"
      },
      "source": [
        "<a href=\"https://colab.research.google.com/github/dbremont/Notas/blob/main/Libros/Computacion/Principles%20of%20Computer%20System%20Design%20An%20Introduction.ipynb\" target=\"_parent\"><img src=\"https://colab.research.google.com/assets/colab-badge.svg\" alt=\"Open In Colab\"/></a>"
      ]
    },
    {
      "cell_type": "markdown",
      "metadata": {
        "id": "HaU3q9PZ5S7p"
      },
      "source": [
        "Principles of Computer System Design An Introduction"
      ]
    },
    {
      "cell_type": "markdown",
      "metadata": {
        "id": "EJ-pKWD7-UtC"
      },
      "source": [
        "* (D) [Principles of Computer System Design An Introduction](http://0.0.0.0:8000/3%20Computacion/Libros/Principles%20of%20Computer%20System%20Design%20An%20Introduction.pdf)"
      ]
    }
  ]
}