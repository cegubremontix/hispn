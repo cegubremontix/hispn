{
  "nbformat": 4,
  "nbformat_minor": 0,
  "metadata": {
    "colab": {
      "name": "Java Cookbook.ipynb",
      "provenance": [],
      "toc_visible": true,
      "authorship_tag": "ABX9TyPlwPIRTVA4Gk/ZLIf2vN3S",
      "include_colab_link": true
    },
    "kernelspec": {
      "name": "python3",
      "display_name": "Python 3"
    },
    "language_info": {
      "name": "python"
    }
  },
  "cells": [
    {
      "cell_type": "markdown",
      "metadata": {
        "id": "view-in-github",
        "colab_type": "text"
      },
      "source": [
        "<a href=\"https://colab.research.google.com/github/dbremont/Notas/blob/main/Libros/Computacion/Java_Cookbook.ipynb\" target=\"_parent\"><img src=\"https://colab.research.google.com/assets/colab-badge.svg\" alt=\"Open In Colab\"/></a>"
      ]
    },
    {
      "cell_type": "markdown",
      "metadata": {
        "id": "DNSDegg95pLh"
      },
      "source": [
        "## Getting Started: Compiling, Running, and Debugging"
      ]
    },
    {
      "cell_type": "markdown",
      "metadata": {
        "id": "T25dmTtUGDxH"
      },
      "source": [
        "Compile and run your Java program\n",
        "\n",
        "You need to keep your class files in a common directroy, or you're wrestling with CLASSPATH\n",
        "\n",
        "You want  conditional compilation and Java doesn't seem to provide it\n",
        "\n",
        "You want to have debugging statement left in your code enable at runtime\n",
        "\n",
        "You want to leave test in your code but not have runtime checkin goverhead until you need it\n",
        "\n",
        "The use of debbugging printouts and assertions in your code is still not enough\n",
        "\n",
        "You don't want to have to debug your code\n",
        "\n",
        "Your're getting an dexecption stack trace at runtime, but most tof the important part don't have line numbers\n"
      ]
    },
    {
      "cell_type": "markdown",
      "metadata": {
        "id": "C6DCh4cq5zn0"
      },
      "source": [
        "## Interacting with the Environment"
      ]
    },
    {
      "cell_type": "markdown",
      "metadata": {
        "id": "kEfYIn3RHlyU"
      },
      "source": [
        "You want to get the value of \"environmetn variables\" from within your Java program\n",
        "\n",
        "You need to get information from the system properties\n",
        "\n",
        "You need to parse comand-line  options. Java donest't provide an API for it\n"
      ]
    },
    {
      "cell_type": "markdown",
      "metadata": {
        "id": "IxxPyPyC52GV"
      },
      "source": [
        "## Strings and Things"
      ]
    },
    {
      "cell_type": "markdown",
      "metadata": {
        "id": "_GCQuFSSIFiO"
      },
      "source": [
        "You want to break a string apart into words or tokens\n",
        "\n",
        "You need to put some String pices (back) together\n",
        "\n",
        "You want to process the contents  of a string, one character at a time\n",
        "\n",
        "You want to align strings to the left, right, or center\n",
        "\n",
        "You want to convert between Unicode and Strings\n",
        "\n",
        "You wish to reverse a tring, a character, or a word a time\n",
        "\n",
        "You need to convert strigns to uppercase or lowercase, or to compare strigns without regard for case\n",
        "\n",
        "You need to indend or (\"undent\" or \"dedend\") a text document\n",
        "\n",
        "You need to put nonprimtable characters into strings\n",
        "\n",
        "You need to work on a string without regard for extra leading or trailing spaces a user may have typed\n",
        "\n",
        "You have a string of a file of lines containing comma-separeted values (CVS) that you need to read\n"
      ]
    },
    {
      "cell_type": "markdown",
      "metadata": {
        "id": "_pxL049k55Jl"
      },
      "source": [
        "## Patterns Matching with Regular Expressions"
      ]
    },
    {
      "cell_type": "markdown",
      "metadata": {
        "id": "fHya7AptME_k"
      },
      "source": [
        "You need to learn the syntax of JDK 1.4 regular expressions\n",
        "\n",
        "You need to find the text that the regex matched\n",
        "\n",
        "You need to find all the strings that match a given regex in one or more files or other sources\n",
        "\n",
        "You need to find al the strings tha tmatch a given regex in one or more files or other sources\n",
        "\n",
        "You need to look for lines matching a given regex in one o more files\n",
        "\n",
        "You watn to find text regadless of case\n",
        "\n",
        "You want characters to match regarldess of the form i nwhich they are entered\n",
        "\n",
        "You need to match newlines in text"
      ]
    },
    {
      "cell_type": "markdown",
      "metadata": {
        "id": "-YRQc51h5-Xr"
      },
      "source": [
        "## Numbers"
      ]
    },
    {
      "cell_type": "markdown",
      "metadata": {
        "id": "iZB9ke79NXDo"
      },
      "source": [
        "You need to check wheater a given tring contains a valid number, and, if so, convert it to binary (internal) form\n",
        "\n",
        "You have a number of a larget type and you wan tto store it in an variable of a smaller type\n",
        "\n",
        "You need to convert numbers to objects and objects to numbers\n",
        "\n",
        "You want to multiply an integer by a fraction without converting the fraction to a floating-point number\n",
        "\n",
        "You want to know if a floating-point computation generated a sensible result\n",
        "\n",
        "You want to compare two floating-point numbers for equality\n",
        "\n",
        "You need to round floating-point numbers to intergers or to a particular precision\n",
        "\n",
        "You need to format numbers\n",
        "\n",
        "You want to display an integers as a series of bits- for example, when interacting with certain hardware devices.You want to convert a binary number or a hexadecimal value into an integer\n",
        "\n",
        "You need to work on a range of integers\n",
        "\n",
        "You need to format numbers as Roman numerals\n",
        "\n",
        "You're printing something like \"WE used\" + n + \"items\", but in English, \"We used 1 items\" is ungramatical. You want \"We used 1 item\"\n",
        "\n",
        "You need to generate randon numbers in a hurry\n",
        "\n",
        "You need to generate better random numbers\n",
        "\n",
        "You need to compute, sine, cosine, and other trigonemetric functions\n",
        "\n",
        "You need to multiply a pair of two-dimension arrays, as in comon in mathematical and engineering applications\n",
        "\n",
        "You need to manipulate complex numbers, as is common in mathematical, scientif, or engineeering applications\n",
        "\n"
      ]
    },
    {
      "cell_type": "markdown",
      "metadata": {
        "id": "KuFG73Le5_67"
      },
      "source": [
        "## Dates and Times"
      ]
    },
    {
      "cell_type": "markdown",
      "metadata": {
        "id": "3RCzVBJwR3qk"
      },
      "source": [
        "You want to find today's date\n",
        "\n",
        "You want to print the date and/or time in locale-sensitie or otherwise-specific format\n",
        "\n",
        "You need to deal with dates in a form other than the Gregorian Calendar used in Western world\n",
        "\n",
        "You have year, month, day hour, minute , and maybe even seconds, and you need to convert it to a Calendar or a Date\n",
        "\n",
        "You need to convert user input into *Date* or *Calendar* objects\n",
        "\n",
        "You need to convert a numvber of seconds since 1970  into a Date\n",
        "\n",
        "You need to add or subtract a fixed amoun  to or from a date\n",
        "\n",
        "You need to compute the differentece between two dates\n",
        "\n",
        "You need to compare two dates\n",
        "\n",
        "You have a date and need to find what day of the week, month, or year that date fall on\n",
        "\n",
        "You want a calendar for a given month of a  given year, or the curent month and year\n",
        "\n",
        "\n",
        "You need to time how  long it takes to do something\n",
        "\n",
        "You need to sleep for a while"
      ]
    },
    {
      "cell_type": "markdown",
      "metadata": {
        "id": "vyUFRv396B-w"
      },
      "source": [
        "## Structuring Data with Java"
      ]
    },
    {
      "cell_type": "markdown",
      "metadata": {
        "id": "waXNWX_rXLvh"
      },
      "source": [
        "You need to keep track of a fixed amount of information and retrieve it (usually) sequentially\n",
        "\n",
        "The array filleup, and you got adn ArrayIndexOutOfBondsException\n",
        "\n",
        "You don't to worry about storage reallocation;  you want a starndard class to handle it for you\n",
        "\n",
        "You want to write your code so that users don't have to know wheater you store it an array, a Vector, an ArrayList, or even a doubley linked list of your own choosing\n",
        "\n",
        "Your data ins't suitable for use in an array \n",
        "\n",
        "You need a one-way mappin gfrom one data item to another\n",
        "\n",
        "You need to store keys ad values that are both strings, possibly with persistence across runs of a program-for example, program customization.\n",
        "\n",
        "You put your data into a collection in random order or used a *Properties*  object that doesn't preserve the order, and now you want it sorted\n",
        "\n",
        "Use the static method Arrays.sort() or Collection.sort(), optiionaly providing a Comparator\n",
        "\n",
        "You want to ensure that only one copy of each unique value is stored in a collection\n",
        "\n",
        "You need to see wheater  a given collection contains a particular value\n",
        "\n",
        "You have a *Collection* but you need a Java language array\n",
        "\n",
        "You have your own data structure, but you want to publish the data as an Iterator to provedit generic access to it.\n",
        "\n",
        "You need to process data in \"last-in, first-out\" (LIFO) or \"most recently added\" order.\n",
        "\n",
        "You need a two-, three, or more dimentional aray or ArrayList\n",
        "\n",
        "You're having trouble keeping track of all these list, sets, and iterators"
      ]
    },
    {
      "cell_type": "markdown",
      "metadata": {
        "id": "N6_eyYRn6E77"
      },
      "source": [
        "## Data Structuring with Generics, foreach, and Enumerations"
      ]
    },
    {
      "cell_type": "markdown",
      "metadata": {
        "id": "i8QqU1xOZ7rG"
      },
      "source": [
        "You want to store your data in one of the *Collection* classes defined in Chapter 7 but have it treated as though it we homogeneous\n",
        "\n",
        "You want a convenient means of accesing all the elements of an array or collection\n",
        "\n",
        "You wish to definie your  own container classes using the Generic Type mechanism to avoid needless casting\n",
        "\n",
        "You are tired of typing code like ```new Integer(1)``` and ```intObj.intValue()``` to convert back and forth between primitives and Object Wrappers\n",
        "\n",
        "You need to magnage a small list of discrete values within a program"
      ]
    },
    {
      "cell_type": "markdown",
      "metadata": {
        "id": "gvcOr9H86Lj7"
      },
      "source": [
        "## Object-Oriented Techniques"
      ]
    },
    {
      "cell_type": "markdown",
      "metadata": {
        "id": "VMZwLyxNnBUz"
      },
      "source": [
        "You want your objects to have a useful default format\n",
        "\n",
        "You want to be able to compare objects of your class\n",
        "\n",
        "You want to use your objects in a ```HashMap, HashSet, HashTable```, or other ```Collection```, and you need to write a ```hashCode``` method.\n",
        "\n",
        "You want to clone yourself. Or at least your objects\n",
        "\n",
        "You want to have some action taken when your objects are removed from service\n",
        "\n",
        "You need to write a private class, or a class to be used in one other class at the most\n",
        "\n",
        "You want to provide ```callbacks```, that is, hvae unrelated classes call back into your code\n",
        "\n",
        "You want each of a number of subclasses to provide its own version of one or more methods\n",
        "\n",
        "You need to pass a number like an ```int``` into a routine and get back the routine's updated versio nof that value in additio nto the routine's return value\n",
        "\n",
        "You want to be sure there is only one instance of you rclass in a gien Java Virtual Machine\n",
        "\n",
        "You'd like to use an application-specific exception class or two"
      ]
    },
    {
      "cell_type": "markdown",
      "metadata": {
        "id": "gkNLyD1j6P_K"
      },
      "source": [
        "## Input and Output"
      ]
    },
    {
      "cell_type": "markdown",
      "metadata": {
        "id": "5Ijzdy_DpoBd"
      },
      "source": [
        "You really do need to read to read from the standard input, or console. Piping\n",
        "\n",
        "You want your program to write to the standard output\n",
        "\n",
        "You need to scan a file with more fine-grained resolution than the ```readLine()``` method of the ```BufferedReader``` class and its subclasses\n",
        "\n",
        "You have the JDK 1.5 and you want the ease of use that the java.util.Scanner clas brings to simple reading tasks\n",
        "\n",
        "\n",
        "You need to read a file\n",
        "\n",
        "You need to copy a file\n",
        "\n",
        "You need to read the entire contencts of a file into a string\n",
        "\n",
        "You need to reassign one or more of the standard streams System.in, System.out, or System.err\n",
        "\n",
        "You want anythin written to a stream, such as the standrd output ```System.out```, or the starndard error ```System.err```, to appear there but also be logged into a file.\n",
        "\n",
        "You need to read  or write a text file using a particular encoding\n",
        "\n",
        "You really watn to know about end-of-line characters\n",
        "\n",
        "Chastened by the previous recipe , you now wish to write only platform-independt code\n",
        "\n",
        "You need to read lines that are continuated with backslashe s (\\\\) or that are continueate with leadign spcaes (such as email or new headers)\n",
        "\n",
        "You need to read or write binary data, as  opposed to text\n",
        "\n",
        "You need to read from  or write to a particular  location in a file, sush as an indexed file\n",
        "\n",
        "You need to exchange binary data between C and Java\n",
        "\n",
        "You need to write and (later) read objects\n",
        "\n",
        "Your classes were recompiled, and you're getting ```ClassCastExceptions``` that you shouldn't\n",
        "\n",
        "You need to create and/or extract from a JAR archive or a file in the wwell-known Zip Archive format, as establish by PkZip and used by Unix zip/unzip and WinZip\n",
        "\n",
        "You need to read or write files that have been compressed using GNU zip. or gzip. These files are usually saved with the extention .gz"
      ]
    },
    {
      "cell_type": "markdown",
      "metadata": {
        "id": "Y4y5BZqU6Sgk"
      },
      "source": [
        "## Directory and Filesystem Operations"
      ]
    },
    {
      "cell_type": "markdown",
      "metadata": {
        "id": "Y6BdgtqWySR1"
      },
      "source": [
        "You need to know all you can about a given file on disk\n",
        "\n",
        "YOu need to create a new file o ndisk, but you don't want to write  into it\n",
        "\n",
        "You need to change a fil's name on disk\n",
        "\n",
        "You need to delte one or more files from the disk\n",
        "\n",
        "You want to change attributes of a file other than its name\n",
        "\n",
        "You need to list the file system entries in a directory\n",
        "\n",
        "You want to know about the top level directories\n",
        "\n",
        "You ened to crate a directory"
      ]
    },
    {
      "cell_type": "markdown",
      "metadata": {
        "id": "rBsGSkvR6WKn"
      },
      "source": [
        "## Programming External Devices: Serial and Parallel Ports"
      ]
    },
    {
      "cell_type": "markdown",
      "metadata": {
        "id": "HSZpA8u80lIr"
      },
      "source": [
        "You need to know what ports are aviable on a given computer\n",
        "\n",
        "You want to set up a serial port and open it for input/output\n",
        "\n",
        "You want to open a parallel port\n",
        "\n",
        "Somebody else is using the port you want, and they won't let go!\n",
        "\n",
        "You want to raed and wriite on a port, and your communications needs are simple\n",
        "\n",
        "Afeter the connection is made, you don't know what order to read or write in\n",
        "\n",
        "After the connection is made, you don't know what  order to read or write"
      ]
    },
    {
      "cell_type": "markdown",
      "metadata": {
        "id": "UAXFvoIK6cjp"
      },
      "source": [
        "## Graphics and Sound"
      ]
    },
    {
      "cell_type": "markdown",
      "metadata": {
        "id": "WIwMpInT5yIM"
      },
      "source": [
        "You want to draw something on the screen\n",
        "\n",
        "You don't want to have to write a litle mian program with a frame each time you write a subclass of Component\n",
        "\n",
        "You need to draw text in a component\n",
        "\n",
        "You want to draw text neatly centered in a component\n",
        "\n",
        "You want to draw text or graphical objects with a \"drop shadow\" effect, as in Figure 13-3\n",
        "\n",
        "You want fancier drawing abilities\n",
        "\n",
        "You want to display an image, a preformatted bitmap, or raster file\n",
        "\n",
        "You want a quick an eady way to \"make noise\" ir play an existin gsoud file\n",
        "\n",
        "You need to generate hardcopy\n",
        "\n"
      ]
    },
    {
      "cell_type": "markdown",
      "metadata": {
        "id": "xJBXZTNg6e7U"
      },
      "source": [
        "## Graphical User Interfaces"
      ]
    },
    {
      "cell_type": "markdown",
      "metadata": {
        "id": "kMctqO0F6huu"
      },
      "source": [
        "## Internationalization and Location"
      ]
    },
    {
      "cell_type": "markdown",
      "metadata": {
        "id": "lDGIrjxF61Io"
      },
      "source": [
        "You want you rprogram to take \"sensitivity lessons\" so that it can communicate well internationally\n",
        "\n",
        "You want to see what locale are available\n",
        "\n",
        "You want to internationalize an entire Menu\n",
        "\n",
        "You want to internationalize a dialog\n",
        "\n",
        "You need to create a resource bundle for use by I18N\n",
        "\n",
        "You have existing code that contains hardcoded string\n",
        "\n",
        "Messages may need to be formated diffrently in diffrnet langauges\n",
        "\n"
      ]
    },
    {
      "cell_type": "markdown",
      "metadata": {
        "id": "4frPccWM6k3g"
      },
      "source": [
        "## Network Clients"
      ]
    },
    {
      "cell_type": "markdown",
      "metadata": {
        "id": "z1dyZhg68pG0"
      },
      "source": [
        "You need to contact a server using TCP/IP\n",
        "\n",
        "You want to look up a host's address name or number or get the address at the other end of a network connection\n",
        "\n",
        "You want more detailed reporting than just ```IOException``` if something goes wrong\n",
        "\n",
        "Having connected, you wish to transfer textual data\n",
        "\n",
        "Havign connected, you wish to tranfer binary data\n",
        "\n",
        "Having connected, you wish to transfer serialized object data\n",
        "\n",
        "You need to use a dtagram connection (UDP) instead of a stream connection (TCP)"
      ]
    },
    {
      "cell_type": "markdown",
      "metadata": {
        "id": "ud4_M8dn6mZ_"
      },
      "source": [
        "## Server-Side Java: Sockets"
      ]
    },
    {
      "cell_type": "markdown",
      "metadata": {
        "id": "65Tn3T489aBn"
      },
      "source": [
        "You need to write a socket-based server\n",
        "\n",
        "You need to write a seetting on binary data to be the client\n",
        "\n",
        "You need to return an object\n",
        "\n",
        "You server needs to handle multiple clients\n",
        "\n",
        "You want to server up a protocol sush as HTTP\n",
        "\n",
        "You want to protect your network traffict from prying eyes or malicious modification, while the data is in transit\n",
        "\n",
        "Your class is running inside a server container, and its debuggins output is hard to obtain \n",
        "\n",
        "You wish to write log file mesages using log4j\n",
        "\n",
        "You wish to write log messages using JDK loggin mechanism\n",
        "\n",
        "You wish to find out abou tthe computer's networkign arrangements"
      ]
    },
    {
      "cell_type": "markdown",
      "metadata": {
        "id": "Lw_mJOUN6pHX"
      },
      "source": [
        "## Network Clients II: Applets and Web Clients"
      ]
    },
    {
      "cell_type": "markdown",
      "metadata": {
        "id": "UrrlQ9Zs6uzV"
      },
      "source": [
        "## Java and Electronic Mail"
      ]
    },
    {
      "cell_type": "markdown",
      "metadata": {
        "id": "nTFlPOee-bZY"
      },
      "source": [
        "You need to send email\n",
        "\n",
        "You need to send a multipar, MIME-encoded message\n",
        "\n",
        "You want  a way to automatically provide server host, protocol, user, and password\n",
        "\n",
        "You want to send mial, but don't want to require javax.mail\n",
        "\n",
        "You need to read mail"
      ]
    },
    {
      "cell_type": "markdown",
      "metadata": {
        "id": "ahwUg-Bd6xsG"
      },
      "source": [
        "## Database Access"
      ]
    },
    {
      "cell_type": "markdown",
      "metadata": {
        "id": "2CKWykJZ_w3O"
      },
      "source": [
        "You want an easy way to access your relational database\n",
        "\n",
        "You wish to treat a text file as a database\n",
        "\n",
        "You need to acess a DBM file\n",
        "\n",
        "You want to acces a database via JDBC\n",
        "\n",
        "You need to connect to the database\n",
        "\n",
        "You're getting tired of all this setup and want to see results\n",
        "\n",
        "You want to save the overhead of parsing, compilin , adn otherwise setting up a statment what will be called multiples times\n",
        "\n",
        "You want to use a procedure store in the database (a store procedure)\n",
        "\n",
        "You want to change the data using resultset\n",
        "\n",
        "You need to save some resulrt s in a JDBC form without manintaning a database connection. Or you r want some JDBC results to have JavaBean semantics\n",
        "\n",
        "You wish to isert or udpate data, create a new table, delete a table, or otherwise change the database\n",
        "\n",
        "You want to learn about the database or table\n"
      ]
    },
    {
      "cell_type": "markdown",
      "metadata": {
        "id": "8Tco22ID60N1"
      },
      "source": [
        "## XML"
      ]
    },
    {
      "cell_type": "markdown",
      "metadata": {
        "id": "MrTKD_tpCQpN"
      },
      "source": [
        "You want to generate XML directly from Java objects\n",
        "\n",
        "You need to make significant changes to the output format\n",
        "\n",
        "You want to amke on equick pass over an XML file, extracting certain tags or other information as you go\n",
        "\n",
        "You want to examine an XML file in detail\n",
        "\n",
        "Up to now, I  have simply provided Xml and asserted that it is valid. Now you want to verify the structure using a Document Type Definition (DTD)\n",
        "\n",
        "You Want to genrate you rown XML files or modify existing documents\n",
        "\n"
      ]
    },
    {
      "cell_type": "markdown",
      "metadata": {
        "id": "h4o4_zXl7EuL"
      },
      "source": [
        "## Distributed Java: RMI"
      ]
    },
    {
      "cell_type": "markdown",
      "metadata": {
        "id": "kA1u4NE_DTcT"
      },
      "source": [
        "You want to define the communication exchagne between client and server\n",
        "\n",
        "You want to write a client to use an RMI service\n",
        "\n",
        "The client looks good on paper, but it will be lonely without a server to talk to\n",
        "\n",
        "As shown so far, the server and the client must be on the same machine-some distributed system!\n",
        "\n"
      ]
    },
    {
      "cell_type": "markdown",
      "metadata": {
        "id": "k1TCQInr7H8P"
      },
      "source": [
        "## Packages and Packaging"
      ]
    },
    {
      "cell_type": "markdown",
      "metadata": {
        "id": "Ypo6BrVlDwmQ"
      },
      "source": [
        "You want to be able to import clases and/or organize your clases, so you want to carte your won package\n",
        "\n",
        "You have heared about the thing caled \"code reuse\" and would like to promote  it by allowowing other developers to use  your classes\n",
        "\n",
        "You want to genrate not just documenation, but also other code artifacts ,from your source code. Youwant to mark code for additional compiler verification\n",
        "\n",
        "You want to carte a Java archive (JAR) file\n",
        "\n",
        "You want to distribute a single large file containing all the classes of your aplication and run the main program from within the JAR\n",
        "\n",
        "You have a class that you would like to instal as a JavaBean\n",
        "\n",
        "You need to package your bean for deployment\n",
        "\n",
        "You want to  digitaly sign your JAR file"
      ]
    },
    {
      "cell_type": "markdown",
      "metadata": {
        "id": "tVfrzpk17LLE"
      },
      "source": [
        "## Threaded Java"
      ]
    },
    {
      "cell_type": "markdown",
      "metadata": {
        "id": "V1HmlIpzE9Qr"
      },
      "source": [
        "You need to write a threaded application\n",
        "\n",
        "You need to update a graphical display while other parts of the program are running\n",
        "\n",
        "You need to stop  a thread\n",
        "\n",
        "You need to know wheater somethign finished or wheather it finished in a certain length of time\n",
        "\n",
        "You need to protect certain data from access by multiple threads\n",
        "\n",
        "You watn an easier means of synchonizing threads\n",
        "\n",
        "The ```zynchronized``` keyboard lets you lock out multiple thraeds but doesn't give you much communication between them\n",
        "\n",
        "You need to control producer-consumer implementations involving multiple threads\n",
        "\n",
        "You need to save the user's work periodically in an interactive program\n",
        "\n",
        "You want a network server to be multithreaded"
      ]
    },
    {
      "cell_type": "markdown",
      "metadata": {
        "id": "74gSraOR7NNl"
      },
      "source": [
        "## Intropection,or \"A Class Named Class\""
      ]
    },
    {
      "cell_type": "markdown",
      "metadata": {
        "id": "KSlW2swWGPNk"
      },
      "source": [
        "You want to get a ```Class``` object from a class name or instance\n",
        "\n",
        "You need more to dfin darbitrary mtdho or filed names in arbitrary clases\n",
        "\n",
        "You want to load clases dynamically, just like browsers load your applets and web server load your servlets\n",
        "\n",
        "You need to laoad a clas and run its methods\n",
        "\n",
        "You need to know how long a Java program takes to run\n",
        "\n",
        "You want to rpitn all the information about a class, similar to the way javap does"
      ]
    },
    {
      "cell_type": "markdown",
      "metadata": {
        "id": "gC_5fVEE7Ske"
      },
      "source": [
        "## Usign Java with Other Languages"
      ]
    },
    {
      "cell_type": "markdown",
      "metadata": {
        "id": "nd62pWU7HxJ-"
      },
      "source": [
        "You want to run  a program\n",
        "\n",
        "You want a program but also capture its output\n",
        "\n",
        "You want to in terface Java components to an existing scripting language\n",
        "\n",
        "You wish to call native C/C++ function from Java, either for efficiency or to access hardware- or system-specific features\n",
        "\n",
        "You need to go the other way, calling Java from  C/C++  code"
      ]
    }
  ]
}