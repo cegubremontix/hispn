{
  "nbformat": 4,
  "nbformat_minor": 0,
  "metadata": {
    "colab": {
      "name": "Java Concurrency in Practice.ipynb",
      "provenance": [],
      "toc_visible": true,
      "authorship_tag": "ABX9TyPetySX5rFXUPBG5430fbfi",
      "include_colab_link": true
    },
    "kernelspec": {
      "name": "python3",
      "display_name": "Python 3"
    },
    "language_info": {
      "name": "python"
    }
  },
  "cells": [
    {
      "cell_type": "markdown",
      "metadata": {
        "id": "view-in-github",
        "colab_type": "text"
      },
      "source": [
        "<a href=\"https://colab.research.google.com/github/dbremont/Notas/blob/main/Libros/Computacion/Java_Concurrency_in_Practice.ipynb\" target=\"_parent\"><img src=\"https://colab.research.google.com/assets/colab-badge.svg\" alt=\"Open In Colab\"/></a>"
      ]
    },
    {
      "cell_type": "markdown",
      "metadata": {
        "id": "Ece22H0tpTpb"
      },
      "source": [
        "# Java Concurrency in Practice"
      ]
    },
    {
      "cell_type": "markdown",
      "metadata": {
        "id": "E8UCi6YnEIfj"
      },
      "source": [
        "This books presents a *'simplified'* set of rules for writing concurrent programs.\n",
        "\n",
        "- [Code Listings](https://jcip.net/listings.html)\n",
        "- [jvnotes](https://github.com/dbremont/jvnotes)"
      ]
    },
    {
      "cell_type": "markdown",
      "metadata": {
        "id": "EWfRm_hmoj8t"
      },
      "source": [
        "## Introduction"
      ]
    },
    {
      "cell_type": "markdown",
      "metadata": {
        "id": "iP2uQd-xpOMT"
      },
      "source": [
        "History of concurrency\n",
        "\n",
        "Resoruce utilization\n",
        "\n",
        "Fairness\n",
        "\n",
        "Convenience\n",
        "\n",
        "Benefits of threads\n",
        "\n",
        "Exploting multiple processors\n",
        "\n",
        "Simplicity of modeling\n",
        "\n",
        "Responsive user Interfaces\n",
        "\n",
        "Performace hazards\n",
        "\n",
        "Timers\n",
        "\n",
        "Remote Method Invocation\n",
        "\n",
        "Swing and AWT"
      ]
    },
    {
      "cell_type": "markdown",
      "metadata": {
        "id": "5Evg0SOGqKDY"
      },
      "source": [
        "## Fundamentals"
      ]
    },
    {
      "cell_type": "markdown",
      "metadata": {
        "id": "biBJWYOWoLSR"
      },
      "source": [
        "### Thread Safety"
      ]
    },
    {
      "cell_type": "markdown",
      "metadata": {
        "id": "2fQMfZ2jqB1q"
      },
      "source": [
        "State variables\n",
        "\n",
        "What is thead safety?\n",
        "\n",
        "Atomicity\n",
        "\n",
        "Race conditions\n",
        "\n",
        "Lazy initialization\n",
        "\n",
        "Compound actions\n",
        "\n",
        "Locking\n",
        "\n",
        "Intrinsic locks\n",
        "\n",
        "Reentrancy\n",
        "\n",
        "Guarding state with locks"
      ]
    },
    {
      "cell_type": "markdown",
      "metadata": {
        "id": "9AjSpNp4oTH4"
      },
      "source": [
        "### Sharing Objects"
      ]
    },
    {
      "cell_type": "markdown",
      "metadata": {
        "id": "tIKfOhosrN8k"
      },
      "source": [
        "Visibility\n",
        "\n",
        "State data\n",
        "\n",
        "Locking\n",
        "\n",
        "Volatile variables\n",
        "\n",
        "Publication\n",
        "\n",
        "Thread confinement\n",
        "\n",
        "Stack confinement\n",
        "\n",
        "ThreadLocal\n",
        "\n",
        "Inmutability\n",
        "\n",
        "Final fields\n",
        "\n",
        "Safe publication\n",
        "\n",
        "Immutable objects and initilization safety\n",
        "\n",
        "Effecttively inmmutable objects\n",
        "\n",
        "Mutable objects\n",
        "\n",
        "Thread-confined\n",
        "\n",
        "Shared read-only\n",
        "\n",
        "Shared thread-safe\n",
        "\n",
        "Guarded"
      ]
    },
    {
      "cell_type": "markdown",
      "metadata": {
        "id": "uH3mIUe3oWiW"
      },
      "source": [
        "### Composing Objets"
      ]
    },
    {
      "cell_type": "markdown",
      "metadata": {
        "id": "mP1jnMint0T9"
      },
      "source": [
        "State-dependent operations\n",
        "\n",
        "State ownership\n",
        "\n",
        "Instance confinement\n",
        "\n",
        "The java monitor pattern\n",
        "\n",
        "Delegating thread safety\n",
        "\n",
        "Independing state variables\n",
        "\n",
        "When delegating fails\n",
        "\n",
        "Client-side locking\n",
        "\n",
        "Composition"
      ]
    },
    {
      "cell_type": "markdown",
      "metadata": {
        "id": "H89HPt_qoaSU"
      },
      "source": [
        "### Bulding Blocks"
      ]
    },
    {
      "cell_type": "markdown",
      "metadata": {
        "id": "tiEUrGxVt00V"
      },
      "source": [
        "Syncrhonized collection classes\n",
        "\n",
        "Hidden iterators\n",
        "\n",
        "ConcurrentHashmap\n",
        "\n",
        "Blocking queues\n",
        "\n",
        "Producer-consumer pattern\n",
        "\n",
        "Seriel thread confinement\n",
        "\n",
        "Synchronizers\n",
        "\n",
        "Latches\n",
        "\n",
        "FutureTaks\n",
        "\n",
        "CountDownLatch\n",
        "\n",
        "Semaphores\n",
        "\n",
        "Barriers\n",
        "\n",
        "Its mutable state, stupid\n",
        "\n",
        "Make fields final unless they need to be mutable\n",
        "\n",
        "Inmmutable objects are automatically thread-safe\n",
        "\n",
        "Encapsulation makes it practical to manage the complexity\n",
        "\n",
        "Guard each mutable variable with a lock\n",
        "\n",
        "Guard all variables in an invariant with the same lock\n",
        "\n",
        "Hold locks for the  duration rof compound actions\n",
        "\n",
        "A program that acceses a mutable variable from multiple thraeds without syncrhonization is a broken program\n",
        "\n",
        "Don't rely on clever reasoning about why you don't need to synchonized\n",
        "\n",
        "Include thread safety in the design process- or explicity document that your class is not thread-safe\n",
        "\n",
        "Document your synchonization policy"
      ]
    },
    {
      "cell_type": "markdown",
      "metadata": {
        "id": "vy6Nue4mocYB"
      },
      "source": [
        "## Structing Concurrent Applications "
      ]
    },
    {
      "cell_type": "markdown",
      "metadata": {
        "id": "fXo-GLSJp07o"
      },
      "source": [
        "### Task Execution"
      ]
    },
    {
      "cell_type": "markdown",
      "metadata": {
        "id": "ZTqfVWjOxh8i"
      },
      "source": [
        "Task\n",
        "\n",
        "Unbounded thread creation\n",
        "\n",
        "Executor framework\n",
        "\n",
        "Execution policies\n",
        "\n",
        "Thread pools\n",
        "\n",
        "Executor lifecycle\n",
        "\n",
        "Delayed \n",
        "\n",
        "Periodic tasks\n",
        "\n",
        "Finding exploitable parallelism\n",
        "\n",
        "Callable \n",
        "\n",
        "Future\n",
        "\n",
        "CompletioService Executor meets BlockingQueue"
      ]
    },
    {
      "cell_type": "markdown",
      "metadata": {
        "id": "_CWnGlZ3p5XB"
      },
      "source": [
        "### Cancellation and Shutdown"
      ]
    },
    {
      "cell_type": "markdown",
      "metadata": {
        "id": "VO2D7mGryOx7"
      },
      "source": [
        "Task cancellation\n",
        "\n",
        "Interruption\n",
        "\n",
        "Poison pills\n",
        "\n",
        "JVM shutdown\n",
        "\n",
        "Shutdown hooks\n",
        "\n",
        "Daemons threads\n",
        "\n",
        "Finalizers"
      ]
    },
    {
      "cell_type": "markdown",
      "metadata": {
        "id": "1SN8XwJgofMz"
      },
      "source": [
        "### Applying Thread Pools"
      ]
    },
    {
      "cell_type": "markdown",
      "metadata": {
        "id": "PpeYRo7Wyioj"
      },
      "source": [
        "Dependent tasks\n",
        "\n",
        "Thread starvation deadlock\n",
        "\n",
        "Long-running tasks\n",
        "\n",
        "ThreadPoolExecutor\n",
        "\n",
        "Thread factories\n",
        "\n",
        "Parallelizing recursive algorithms\n",
        "\n"
      ]
    },
    {
      "cell_type": "markdown",
      "metadata": {
        "id": "z9h-wv4Roizh"
      },
      "source": [
        "### GUI Applications"
      ]
    },
    {
      "cell_type": "markdown",
      "metadata": {
        "id": "7_1V4npqzCQw"
      },
      "source": [
        "Why are GUIs single-threaded?\n",
        "\n",
        "Sequential event processing\n",
        "\n",
        "Thread confinement in Swing\n",
        "\n",
        "Short-running GUI tasks\n",
        "\n",
        "Long-running GUI tasks\n",
        "\n",
        "Cancellation\n",
        "\n",
        "Progress and completion indication\n",
        "\n",
        "SwingWorker\n",
        "\n",
        "Shared data models\n",
        "\n",
        "Thread-safe data models\n",
        "\n",
        "Split data models"
      ]
    },
    {
      "cell_type": "markdown",
      "metadata": {
        "id": "oFlToZjeopoM"
      },
      "source": [
        "##  Liveness, Performace, and Testing"
      ]
    },
    {
      "cell_type": "markdown",
      "metadata": {
        "id": "gy8Zk47GosRo"
      },
      "source": [
        "### Avoiding Liveness Hazards"
      ]
    },
    {
      "cell_type": "markdown",
      "metadata": {
        "id": "RbFiArRyzsml"
      },
      "source": [
        "Deadlock\n",
        "\n",
        "Lock-ordering deadlocks\n",
        "\n",
        "Dynamic lock order deadlocks\n",
        "\n",
        "Deadlodcks between coopeerating objects\n",
        "\n",
        "Open calls\n",
        "\n",
        "Resource deadlocks\n",
        "\n",
        "Avoiding and diagnosign deadlocks\n",
        "\n",
        "Timed lock attempts\n",
        "\n",
        "Starvation\n",
        "\n",
        "Poor responsiveness\n",
        "\n",
        "Livelock"
      ]
    },
    {
      "cell_type": "markdown",
      "metadata": {
        "id": "lS8VSxg4qWc0"
      },
      "source": [
        "### Performace and Scalability"
      ]
    },
    {
      "cell_type": "markdown",
      "metadata": {
        "id": "Hs2INHgp02n6"
      },
      "source": [
        "Thinking about performace\n",
        "\n",
        "Performace versus scability\n",
        "\n",
        "Evaluating performace tradeoffs\n",
        "\n",
        "Amdahl's law\n",
        "\n",
        "Serialization hidden in frameworks\n",
        "\n",
        "Applying Amdalhs's law equalitatively\n",
        "\n",
        "Context switching\n",
        "\n",
        "Memory synchonization\n",
        "\n",
        "Blocking \n",
        "\n",
        "Recuding lock contention\n",
        "\n",
        "Narrowing lock scope\n",
        "\n",
        "Reducing lock granularity\n",
        "\n",
        "Lock striping\n",
        "\n",
        "Avoiding hot fields\n",
        "\n",
        "Alternatives to exclusive locks\n",
        "\n",
        "Monitoring CPU utilization\n",
        "\n",
        "Just say not to object pooling\n",
        "\n",
        "Recuding context switch overhead"
      ]
    },
    {
      "cell_type": "markdown",
      "metadata": {
        "id": "ORE0XrAMqk4y"
      },
      "source": [
        "### Testing Concurrent Programs"
      ]
    },
    {
      "cell_type": "markdown",
      "metadata": {
        "id": "_S8koskI1t8G"
      },
      "source": [
        "Concurrent programs\n",
        "\n",
        "Testing\n",
        "\n",
        "Testing resource management\n",
        "\n",
        "Generating interleavings\n",
        "\n",
        "Testing for performace\n",
        "\n",
        "Measuring responsiveness\n",
        "\n",
        "Garbgge collection\n",
        "\n",
        "Dynamic compilation\n",
        "\n",
        "Static analysis tools\n"
      ]
    },
    {
      "cell_type": "markdown",
      "metadata": {
        "id": "7jJC5Hvmot72"
      },
      "source": [
        "## Advanced Topics"
      ]
    },
    {
      "cell_type": "markdown",
      "metadata": {
        "id": "9kf7cFfmowPb"
      },
      "source": [
        "### Explicit Locks"
      ]
    },
    {
      "cell_type": "markdown",
      "metadata": {
        "id": "vP1IVGdyqvw1"
      },
      "source": [
        "### Building Custom Synchonizers"
      ]
    },
    {
      "cell_type": "markdown",
      "metadata": {
        "id": "yz5JkRHe5mtw"
      },
      "source": [
        "Lock \n",
        "\n",
        "ReentranLock\n",
        "\n",
        "Buildign Custom Synchonizers\n",
        "\n",
        "Missed signals\n",
        "\n",
        "Anatomy of a synchonizers\n",
        "\n",
        "AbtractQueuedSynchonizers\n",
        "\n",
        "Latch\n",
        "\n",
        "ReetrantLock\n",
        "\n",
        "FutureTaks\n",
        "\n",
        "ReentrantReadWriteLock"
      ]
    },
    {
      "cell_type": "markdown",
      "metadata": {
        "id": "OzOpTe8Uq3zM"
      },
      "source": [
        "### Atomic Variables and Nonblocking Synchonization"
      ]
    },
    {
      "cell_type": "markdown",
      "metadata": {
        "id": "bVTqEc4j6Qm0"
      },
      "source": [
        "Disadvantages of locking\n",
        "\n",
        "CAS\n",
        "\n",
        "JVM\n",
        "\n",
        "Atomic variable classes\n",
        "\n",
        "Atomics as \"better volatiles\"\n",
        "\n",
        "A nonblocking linked list\n",
        "\n",
        "Atomic field updaters\n",
        "\n",
        "ABA problem\n",
        "\n"
      ]
    },
    {
      "cell_type": "markdown",
      "metadata": {
        "id": "-BnXEMxmq9_3"
      },
      "source": [
        "### Java Memory Model"
      ]
    },
    {
      "cell_type": "markdown",
      "metadata": {
        "id": "rOjW3Lxx7Oj8"
      },
      "source": [
        "The Java Memory Model\n",
        "\n",
        "Platform memory models\n",
        "\n",
        "Reordering"
      ]
    },
    {
      "cell_type": "markdown",
      "metadata": {
        "id": "95hl7dFarC07"
      },
      "source": [
        "### Annotations for Concurrency"
      ]
    },
    {
      "cell_type": "markdown",
      "metadata": {
        "id": "h7vKBvwY7iy-"
      },
      "source": [
        "@Inmutable\n",
        "\n",
        "@TheadSafe\n",
        "\n",
        "@NotThreadSafe\n",
        "\n",
        "@Inmutable\n",
        "\n",
        "@GuardBy(\"this\")"
      ]
    }
  ]
}