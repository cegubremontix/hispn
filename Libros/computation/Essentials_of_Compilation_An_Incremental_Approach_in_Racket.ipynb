{
  "nbformat": 4,
  "nbformat_minor": 0,
  "metadata": {
    "colab": {
      "name": "Essentials of Compilation An Incremental Approach in Racket.ipynb",
      "provenance": [],
      "authorship_tag": "ABX9TyNYSq6ngAEYJKLrH3Dyb0Lv",
      "include_colab_link": true
    },
    "kernelspec": {
      "name": "python3",
      "display_name": "Python 3"
    },
    "language_info": {
      "name": "python"
    }
  },
  "cells": [
    {
      "cell_type": "markdown",
      "metadata": {
        "id": "view-in-github",
        "colab_type": "text"
      },
      "source": [
        "<a href=\"https://colab.research.google.com/github/dbremont/Notas/blob/main/Libros/Computacion/Essentials_of_Compilation_An_Incremental_Approach_in_Racket.ipynb\" target=\"_parent\"><img src=\"https://colab.research.google.com/assets/colab-badge.svg\" alt=\"Open In Colab\"/></a>"
      ]
    },
    {
      "cell_type": "markdown",
      "metadata": {
        "id": "YbzQ6aVMI8Mo"
      },
      "source": [
        "## Preliminaries"
      ]
    },
    {
      "cell_type": "markdown",
      "metadata": {
        "id": "mu0Q9l3AJ7mW"
      },
      "source": [
        "Approach - Incremental growing a language \n",
        "\n",
        "Compile: Subset of Racket -> x86-64 Assembly\n",
        "\n",
        "- High Level Code - Computer Hardware\n",
        "\n",
        "- Grammar\n",
        "\n",
        "- Language - Infinitive Sets of  Programs\n",
        "\n",
        "- A Language is  define in terms of its grammar\n",
        "\n",
        "- Incremental Approach: Build a compiler in every chapter, adding features to the Language to Generate more programs.\n",
        "\n",
        "- Grammar with Backus Naur Form\n",
        "\n",
        "- How to determine if a program is a valid element of a language?\n",
        "\n",
        "- Parsing\n",
        "  - Parse: \n",
        "\n",
        "- Parse Tree"
      ]
    },
    {
      "cell_type": "markdown",
      "metadata": {
        "id": "83ixwz6KJYGy"
      },
      "source": [
        "## Integers and Variables"
      ]
    },
    {
      "cell_type": "markdown",
      "metadata": {
        "id": "fcF1BSNDJaNp"
      },
      "source": [
        "## Register Allocation"
      ]
    },
    {
      "cell_type": "markdown",
      "metadata": {
        "id": "NbQMkes9JbwW"
      },
      "source": [
        "## Booleans and Conditions"
      ]
    },
    {
      "cell_type": "markdown",
      "metadata": {
        "id": "PBQBEQoUJdvB"
      },
      "source": [
        "## Loops and Dataflow Analysis"
      ]
    },
    {
      "cell_type": "markdown",
      "metadata": {
        "id": "9mIYo7JxJhPW"
      },
      "source": [
        "## Tuples and Garbarge Collection"
      ]
    },
    {
      "cell_type": "markdown",
      "metadata": {
        "id": "6rmmfWN6JkQa"
      },
      "source": [
        "## Functions"
      ]
    },
    {
      "cell_type": "markdown",
      "metadata": {
        "id": "hS6lVhhjJmZ9"
      },
      "source": [
        "## Lexically Scoped Functions"
      ]
    },
    {
      "cell_type": "markdown",
      "metadata": {
        "id": "4TZu3lTNJquU"
      },
      "source": [
        "## Dynamic Typing"
      ]
    },
    {
      "cell_type": "markdown",
      "metadata": {
        "id": "3tk26FQhJsnq"
      },
      "source": [
        "## Gradual Typing"
      ]
    },
    {
      "cell_type": "markdown",
      "metadata": {
        "id": "MNQcfFicJuM6"
      },
      "source": [
        "## Parametric-Polymorphism"
      ]
    }
  ]
}