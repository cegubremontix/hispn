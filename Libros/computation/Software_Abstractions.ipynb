{
  "nbformat": 4,
  "nbformat_minor": 0,
  "metadata": {
    "colab": {
      "name": "Software Abstractions.ipynb",
      "provenance": [],
      "authorship_tag": "ABX9TyOLRwr5UhkdHW5XfCq802r+",
      "include_colab_link": true
    },
    "kernelspec": {
      "name": "python3",
      "display_name": "Python 3"
    },
    "language_info": {
      "name": "python"
    }
  },
  "cells": [
    {
      "cell_type": "markdown",
      "metadata": {
        "id": "view-in-github",
        "colab_type": "text"
      },
      "source": [
        "<a href=\"https://colab.research.google.com/github/dbremont/Notas/blob/main/Libros/Computacion/Software_Abstractions.ipynb\" target=\"_parent\"><img src=\"https://colab.research.google.com/assets/colab-badge.svg\" alt=\"Open In Colab\"/></a>"
      ]
    },
    {
      "cell_type": "markdown",
      "metadata": {
        "id": "oHTJdezNDLwb"
      },
      "source": [
        "# Software Abstractions \n",
        "Logic, Language, and Analysis"
      ]
    },
    {
      "cell_type": "markdown",
      "metadata": {
        "id": "FWgplijJDRIv"
      },
      "source": [
        "## Introduction"
      ]
    },
    {
      "cell_type": "markdown",
      "metadata": {
        "id": "rIoY37bNDVFm"
      },
      "source": [
        "## A Whirwind Tour"
      ]
    },
    {
      "cell_type": "markdown",
      "metadata": {
        "id": "Lvzp0EZVDeuz"
      },
      "source": [
        "## Logic"
      ]
    },
    {
      "cell_type": "markdown",
      "metadata": {
        "id": "N5ptYDZnDf-V"
      },
      "source": [
        "## Language"
      ]
    },
    {
      "cell_type": "markdown",
      "metadata": {
        "id": "UpoNbLYmDhrT"
      },
      "source": [
        "## Analysis"
      ]
    },
    {
      "cell_type": "markdown",
      "metadata": {
        "id": "Frzb3yiLDkaP"
      },
      "source": [
        "## Examples"
      ]
    },
    {
      "cell_type": "markdown",
      "metadata": {
        "id": "AvqTzv3RDmtz"
      },
      "source": [
        "## Exercises"
      ]
    },
    {
      "cell_type": "markdown",
      "metadata": {
        "id": "qOpMV6zqDobG"
      },
      "source": [
        "## Alloy Language Reference"
      ]
    },
    {
      "cell_type": "markdown",
      "metadata": {
        "id": "2URLa8HMDpUV"
      },
      "source": [
        "## Alternative Approaches"
      ]
    }
  ]
}