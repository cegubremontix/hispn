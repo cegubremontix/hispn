{
  "nbformat": 4,
  "nbformat_minor": 0,
  "metadata": {
    "colab": {
      "name": "The Complete Software Developers's Career Guide.ipynb",
      "provenance": [],
      "collapsed_sections": [],
      "authorship_tag": "ABX9TyOLnjSK2fEipopyj+l2PMzb",
      "include_colab_link": true
    },
    "kernelspec": {
      "name": "python3",
      "display_name": "Python 3"
    },
    "language_info": {
      "name": "python"
    }
  },
  "cells": [
    {
      "cell_type": "markdown",
      "metadata": {
        "id": "view-in-github",
        "colab_type": "text"
      },
      "source": [
        "<a href=\"https://colab.research.google.com/github/dbremont/Notas/blob/main/Libros/computation/The_Complete_Software_Developers's_Career_Guide.ipynb\" target=\"_parent\"><img src=\"https://colab.research.google.com/assets/colab-badge.svg\" alt=\"Open In Colab\"/></a>"
      ]
    },
    {
      "cell_type": "markdown",
      "source": [
        "# Getting As a Software Developer"
      ],
      "metadata": {
        "id": "s1AS3_HwST7Z"
      }
    },
    {
      "cell_type": "markdown",
      "source": [
        "## How to Get Started"
      ],
      "metadata": {
        "id": "H98MwKqUSalW"
      }
    },
    {
      "cell_type": "markdown",
      "source": [
        "## The Technical Skills You Need to Have"
      ],
      "metadata": {
        "id": "9SlAHiQlScQK"
      }
    },
    {
      "cell_type": "markdown",
      "source": [
        "## What Programming Language Should I Learn"
      ],
      "metadata": {
        "id": "P7PwbNUgSgb1"
      }
    },
    {
      "cell_type": "markdown",
      "source": [
        "## Learning Your First Programming Language"
      ],
      "metadata": {
        "id": "zFQD_sI4SkGV"
      }
    },
    {
      "cell_type": "markdown",
      "source": [
        "## Going to College"
      ],
      "metadata": {
        "id": "XPa8QocgTIST"
      }
    },
    {
      "cell_type": "markdown",
      "source": [
        "## Coding Boot Camps"
      ],
      "metadata": {
        "id": "CmpRd60aTMF4"
      }
    },
    {
      "cell_type": "markdown",
      "source": [
        "## Teaching Yourself"
      ],
      "metadata": {
        "id": "ZYQCCaoZTN_v"
      }
    },
    {
      "cell_type": "markdown",
      "source": [
        "# Getting a Job"
      ],
      "metadata": {
        "id": "eUxOuSqXTQeG"
      }
    },
    {
      "cell_type": "markdown",
      "source": [
        "## Interships"
      ],
      "metadata": {
        "id": "SO_Jcg4zTSO5"
      }
    },
    {
      "cell_type": "markdown",
      "source": [
        "## Getting a Job Without Experience"
      ],
      "metadata": {
        "id": "phKx7vPeTVes"
      }
    },
    {
      "cell_type": "markdown",
      "source": [
        "## How to Find a Job"
      ],
      "metadata": {
        "id": "p95VP-6gTYrZ"
      }
    },
    {
      "cell_type": "markdown",
      "source": [
        "## Creating a Resume"
      ],
      "metadata": {
        "id": "ZZULY0WvUJOD"
      }
    },
    {
      "cell_type": "markdown",
      "source": [
        "## The Interview Process"
      ],
      "metadata": {
        "id": "9Q9wqELNULnU"
      }
    },
    {
      "cell_type": "markdown",
      "source": [
        "## Salaries and Negotiation"
      ],
      "metadata": {
        "id": "2-nPGPpSUQgi"
      }
    },
    {
      "cell_type": "markdown",
      "source": [
        "## How to Leave a Job"
      ],
      "metadata": {
        "id": "gxXuCDb-UTTV"
      }
    },
    {
      "cell_type": "markdown",
      "source": [
        "## Switching Mid-Carrer (Late Entry)"
      ],
      "metadata": {
        "id": "kXyzxo1TUU7q"
      }
    },
    {
      "cell_type": "markdown",
      "source": [
        "## Going From QA or Another Technical Role to Development"
      ],
      "metadata": {
        "id": "SVO98gbkUdVP"
      }
    },
    {
      "cell_type": "markdown",
      "source": [
        "## Contracting vs Salary"
      ],
      "metadata": {
        "id": "BcALloQxUiUt"
      }
    },
    {
      "cell_type": "markdown",
      "source": [
        "## How the Recuiting Industry Works"
      ],
      "metadata": {
        "id": "-wY2zOG1UmeM"
      }
    },
    {
      "cell_type": "markdown",
      "source": [
        "# What You Need To Know About Software Development"
      ],
      "metadata": {
        "id": "icPco3q2UsLk"
      }
    },
    {
      "cell_type": "markdown",
      "source": [
        "## Overview of Programming Languages"
      ],
      "metadata": {
        "id": "S_f24gKSUxqh"
      }
    },
    {
      "cell_type": "markdown",
      "source": [
        "## What is Web Development?"
      ],
      "metadata": {
        "id": "he6Y9ubqU3f6"
      }
    },
    {
      "cell_type": "markdown",
      "source": [
        "## Back-End Development"
      ],
      "metadata": {
        "id": "8EEdI5WJU7Nc"
      }
    },
    {
      "cell_type": "markdown",
      "source": [
        "## Career in Video Game Development"
      ],
      "metadata": {
        "id": "mSMqFjH5YkSo"
      }
    },
    {
      "cell_type": "markdown",
      "source": [
        "## DBAs and DevOps"
      ],
      "metadata": {
        "id": "kdBPHYD9YotD"
      }
    },
    {
      "cell_type": "markdown",
      "source": [
        "## Software Development Methodologies"
      ],
      "metadata": {
        "id": "yJpIcCgHYujX"
      }
    },
    {
      "cell_type": "markdown",
      "source": [
        "## Testing and QA Basics"
      ],
      "metadata": {
        "id": "Y2cPq7sVY0jD"
      }
    },
    {
      "cell_type": "markdown",
      "source": [
        "## Test Driven Development and Unit Testing"
      ],
      "metadata": {
        "id": "BuUcHlPpY39-"
      }
    },
    {
      "cell_type": "markdown",
      "source": [
        "## Source Control"
      ],
      "metadata": {
        "id": "cAieG6YYZRlE"
      }
    },
    {
      "cell_type": "markdown",
      "source": [
        "## Continous Integration"
      ],
      "metadata": {
        "id": "tkELnKTlZTXs"
      }
    },
    {
      "cell_type": "markdown",
      "source": [
        "## Debugging"
      ],
      "metadata": {
        "id": "a-QNFcubZXe1"
      }
    },
    {
      "cell_type": "markdown",
      "source": [
        "## Maintaining Code"
      ],
      "metadata": {
        "id": "U8z-kMIaZbQ0"
      }
    },
    {
      "cell_type": "markdown",
      "source": [
        "## Jobs and Job Titles"
      ],
      "metadata": {
        "id": "NeFVwt67Zd03"
      }
    },
    {
      "cell_type": "markdown",
      "source": [
        "## Types of Work"
      ],
      "metadata": {
        "id": "xbRIu964Zgsb"
      }
    },
    {
      "cell_type": "markdown",
      "source": [
        "# Working as a Developer"
      ],
      "metadata": {
        "id": "H6DB7Z_TZi2s"
      }
    },
    {
      "cell_type": "markdown",
      "source": [
        "## Dealing with Coworkers"
      ],
      "metadata": {
        "id": "7jndmHaxZkyf"
      }
    },
    {
      "cell_type": "markdown",
      "source": [
        "## Dealing with Your Boss"
      ],
      "metadata": {
        "id": "Zpwc8zH5ZnM8"
      }
    },
    {
      "cell_type": "markdown",
      "source": [
        "## Working with QA"
      ],
      "metadata": {
        "id": "n3K9GQwlZpgY"
      }
    },
    {
      "cell_type": "markdown",
      "source": [
        "## Work / Life Balance"
      ],
      "metadata": {
        "id": "YHakznBNZsi2"
      }
    },
    {
      "cell_type": "markdown",
      "source": [
        "## Working on a Team"
      ],
      "metadata": {
        "id": "l--xTDGvZxD2"
      }
    },
    {
      "cell_type": "markdown",
      "source": [
        "## Selling Your Ideas"
      ],
      "metadata": {
        "id": "x7kXzlXlZ0VO"
      }
    },
    {
      "cell_type": "markdown",
      "source": [
        "## How to Dress"
      ],
      "metadata": {
        "id": "ciGj_vuFaVjA"
      }
    },
    {
      "cell_type": "markdown",
      "source": [
        "## Acing the Review Process"
      ],
      "metadata": {
        "id": "tNAnU6AuaXcc"
      }
    },
    {
      "cell_type": "markdown",
      "source": [
        "## Dealing with Prejudice"
      ],
      "metadata": {
        "id": "8Nwmij6iacOp"
      }
    },
    {
      "cell_type": "markdown",
      "source": [
        "## Being in a Leadership Position"
      ],
      "metadata": {
        "id": "c1cVCH4Dafal"
      }
    },
    {
      "cell_type": "markdown",
      "source": [
        "## Getting a Raise or Promotion"
      ],
      "metadata": {
        "id": "V5LfL1KZakD8"
      }
    },
    {
      "cell_type": "markdown",
      "source": [
        "## Working in Tech"
      ],
      "metadata": {
        "id": "gQjDSO0ZaoK8"
      }
    },
    {
      "cell_type": "markdown",
      "source": [
        "# Advancing Your Career"
      ],
      "metadata": {
        "id": "BWfVSGkDaqb5"
      }
    },
    {
      "cell_type": "markdown",
      "source": [
        "## Creating a Reputation"
      ],
      "metadata": {
        "id": "l8HEXkczatLv"
      }
    },
    {
      "cell_type": "markdown",
      "source": [
        "## Networking and Groups"
      ],
      "metadata": {
        "id": "ReftDGSUjdX4"
      }
    },
    {
      "cell_type": "markdown",
      "source": [
        "## Keeping Your Skills Up to Date"
      ],
      "metadata": {
        "id": "MUJimHKRjfaw"
      }
    },
    {
      "cell_type": "markdown",
      "source": [
        "## Generalist vs. Specialist"
      ],
      "metadata": {
        "id": "aSfw9R6Vjiyb"
      }
    },
    {
      "cell_type": "markdown",
      "source": [
        "## Speaking and Conferences"
      ],
      "metadata": {
        "id": "h4fQDrY5jlTI"
      }
    },
    {
      "cell_type": "markdown",
      "source": [
        "## Creating a Blog"
      ],
      "metadata": {
        "id": "Ua9KIu_ijoUI"
      }
    },
    {
      "cell_type": "markdown",
      "source": [
        "## Freelancing and Starting a Business"
      ],
      "metadata": {
        "id": "dYUSH2ckjrJP"
      }
    },
    {
      "cell_type": "markdown",
      "source": [
        "## Carrer Paths"
      ],
      "metadata": {
        "id": "O_3e_7bdjyIg"
      }
    },
    {
      "cell_type": "markdown",
      "source": [
        "## Job Stability and Security"
      ],
      "metadata": {
        "id": "n60V72uIj3P3"
      }
    },
    {
      "cell_type": "markdown",
      "source": [
        "## Training and Certifications"
      ],
      "metadata": {
        "id": "Pq6yKLSRj56_"
      }
    },
    {
      "cell_type": "markdown",
      "source": [
        "## Side Projects"
      ],
      "metadata": {
        "id": "iaJVlgGij77b"
      }
    },
    {
      "cell_type": "markdown",
      "source": [
        "## Best Books to Read"
      ],
      "metadata": {
        "id": "bJnzWlpHj-N6"
      }
    },
    {
      "cell_type": "markdown",
      "source": [
        "## Parting Words"
      ],
      "metadata": {
        "id": "2X0VIGUJkA4_"
      }
    }
  ]
}