{
  "nbformat": 4,
  "nbformat_minor": 0,
  "metadata": {
    "colab": {
      "name": "Writing A Compiler In Go.ipynb",
      "provenance": [],
      "authorship_tag": "ABX9TyNQj9FGhhBfTkG7ezNyTqq2",
      "include_colab_link": true
    },
    "kernelspec": {
      "name": "python3",
      "display_name": "Python 3"
    },
    "language_info": {
      "name": "python"
    }
  },
  "cells": [
    {
      "cell_type": "markdown",
      "metadata": {
        "id": "view-in-github",
        "colab_type": "text"
      },
      "source": [
        "<a href=\"https://colab.research.google.com/github/dbremont/Notas/blob/main/Libros/Computacion/Writing_A_Compiler_In_Go.ipynb\" target=\"_parent\"><img src=\"https://colab.research.google.com/assets/colab-badge.svg\" alt=\"Open In Colab\"/></a>"
      ]
    },
    {
      "cell_type": "markdown",
      "source": [
        "## Introduction"
      ],
      "metadata": {
        "id": "0YQxdI7UYQRs"
      }
    },
    {
      "cell_type": "markdown",
      "source": [
        "## Compilers & Virtual Machines"
      ],
      "metadata": {
        "id": "H6kiIGO5YVDS"
      }
    },
    {
      "cell_type": "markdown",
      "source": [
        "## Hello Bytecode!"
      ],
      "metadata": {
        "id": "1d3oeXFDYbrv"
      }
    },
    {
      "cell_type": "markdown",
      "source": [
        "## Compiling Expressions"
      ],
      "metadata": {
        "id": "NBD3Wx_YYeh9"
      }
    },
    {
      "cell_type": "markdown",
      "source": [
        "## Conditionals"
      ],
      "metadata": {
        "id": "eTef6PdXYhsa"
      }
    },
    {
      "cell_type": "markdown",
      "source": [
        "## Keeping Track of Names"
      ],
      "metadata": {
        "id": "-CgB394nYjSz"
      }
    },
    {
      "cell_type": "markdown",
      "source": [
        "## String, Array and Hash"
      ],
      "metadata": {
        "id": "y6aaAd8rYm5Z"
      }
    },
    {
      "cell_type": "markdown",
      "source": [
        "## Functions"
      ],
      "metadata": {
        "id": "Bazu7SGRYqd_"
      }
    },
    {
      "cell_type": "markdown",
      "source": [
        "## Build-in Functions"
      ],
      "metadata": {
        "id": "PVJT5dbmYsja"
      }
    },
    {
      "cell_type": "markdown",
      "source": [
        "## Closures"
      ],
      "metadata": {
        "id": "yv4KLBsFYw0L"
      }
    }
  ]
}