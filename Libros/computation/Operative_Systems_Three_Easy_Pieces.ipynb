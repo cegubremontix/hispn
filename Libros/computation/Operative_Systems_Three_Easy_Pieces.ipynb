{
  "nbformat": 4,
  "nbformat_minor": 0,
  "metadata": {
    "colab": {
      "name": "Operative Systems Three Easy Pieces.ipynb",
      "provenance": [],
      "toc_visible": true,
      "authorship_tag": "ABX9TyOyep3L2Bva6XXbYmxc6mw/",
      "include_colab_link": true
    },
    "kernelspec": {
      "name": "python3",
      "display_name": "Python 3"
    },
    "language_info": {
      "name": "python"
    }
  },
  "cells": [
    {
      "cell_type": "markdown",
      "metadata": {
        "id": "view-in-github",
        "colab_type": "text"
      },
      "source": [
        "<a href=\"https://colab.research.google.com/github/dbremont/Notas/blob/main/Libros/Computacion/Operative_Systems_Three_Easy_Pieces.ipynb\" target=\"_parent\"><img src=\"https://colab.research.google.com/assets/colab-badge.svg\" alt=\"Open In Colab\"/></a>"
      ]
    },
    {
      "cell_type": "markdown",
      "metadata": {
        "id": "Ece22H0tpTpb"
      },
      "source": [
        "# Operative Systems Three Easy Pieces\n"
      ]
    },
    {
      "cell_type": "markdown",
      "metadata": {
        "id": "OlxL4ifh1Hyp"
      },
      "source": [
        "## Dialogue on the Book"
      ]
    },
    {
      "cell_type": "markdown",
      "metadata": {
        "id": "Tx9oWJ9P1UEn"
      },
      "source": [
        "## Introduction to Operative Systems"
      ]
    },
    {
      "cell_type": "markdown",
      "metadata": {
        "id": "dHYNOzaV1dG8"
      },
      "source": [
        "## Virtualization"
      ]
    },
    {
      "cell_type": "markdown",
      "metadata": {
        "id": "AQ5CmLUA1hdJ"
      },
      "source": [
        "### A Dialogue on Virtualization"
      ]
    },
    {
      "cell_type": "markdown",
      "metadata": {
        "id": "mux8ZzQ11rH-"
      },
      "source": [
        "### The Abstraction: The Process"
      ]
    },
    {
      "cell_type": "markdown",
      "metadata": {
        "id": "rbF8e8uE1wB9"
      },
      "source": [
        "### Interlude: Process API"
      ]
    },
    {
      "cell_type": "markdown",
      "metadata": {
        "id": "EE7TziVn1zs6"
      },
      "source": [
        "### Mechanism: Limited Direct Execution"
      ]
    },
    {
      "cell_type": "markdown",
      "metadata": {
        "id": "YeABve4y161K"
      },
      "source": [
        "### Scheduling: Introduction"
      ]
    },
    {
      "cell_type": "markdown",
      "metadata": {
        "id": "pb1alSXQ2ADP"
      },
      "source": [
        "### Scheduling: The Multi-Level Feedback Queue"
      ]
    },
    {
      "cell_type": "markdown",
      "metadata": {
        "id": "SoApmSpd2Jzt"
      },
      "source": [
        "### Scheduling: Proportional Share"
      ]
    },
    {
      "cell_type": "markdown",
      "metadata": {
        "id": "9q8m_Gf12RoH"
      },
      "source": [
        "### Multiprocessor: Scheduling (Advanced)"
      ]
    },
    {
      "cell_type": "markdown",
      "metadata": {
        "id": "bGe_-TzH2X09"
      },
      "source": [
        "### Summary Diaglogue on CPU Virtualization"
      ]
    },
    {
      "cell_type": "markdown",
      "metadata": {
        "id": "CONo1T5T2fAu"
      },
      "source": [
        "### A Dialogue on Memory Virtualization"
      ]
    },
    {
      "cell_type": "markdown",
      "metadata": {
        "id": "LDR5cg2w2lF8"
      },
      "source": [
        "### The Abstraction: Adress Space"
      ]
    },
    {
      "cell_type": "markdown",
      "metadata": {
        "id": "nbTXAzU42oPg"
      },
      "source": [
        "### Interlude: Memory API"
      ]
    },
    {
      "cell_type": "markdown",
      "metadata": {
        "id": "aAHwcGf32qzV"
      },
      "source": [
        "### Mechanism: Adress Translation"
      ]
    },
    {
      "cell_type": "markdown",
      "metadata": {
        "id": "Ho1lMRbM2wJm"
      },
      "source": [
        "### Segmentation"
      ]
    },
    {
      "cell_type": "markdown",
      "metadata": {
        "id": "YLdLurOm2yq_"
      },
      "source": [
        "### Free-Space Management"
      ]
    },
    {
      "cell_type": "markdown",
      "metadata": {
        "id": "K4_M3eh-22N_"
      },
      "source": [
        "### Paging: Introduction"
      ]
    },
    {
      "cell_type": "markdown",
      "metadata": {
        "id": "RGIzbD2b25o-"
      },
      "source": [
        "### Paging: Faster Translations (TLBs)"
      ]
    },
    {
      "cell_type": "markdown",
      "metadata": {
        "id": "CjAacOkY2-8S"
      },
      "source": [
        "### Paging: Smaller Tables"
      ]
    },
    {
      "cell_type": "markdown",
      "metadata": {
        "id": "n_vhX1Bp3D71"
      },
      "source": [
        "### Beyond Physical Memory: Mechanisms"
      ]
    },
    {
      "cell_type": "markdown",
      "metadata": {
        "id": "7K1eLXPE3LIF"
      },
      "source": [
        "### Beyond Physical Memory: Policies"
      ]
    },
    {
      "cell_type": "markdown",
      "metadata": {
        "id": "vg5RRmIC3QeO"
      },
      "source": [
        "### Complete Virtual Memory Systems"
      ]
    },
    {
      "cell_type": "markdown",
      "metadata": {
        "id": "PxNrvt3X3WzP"
      },
      "source": [
        "### Sumarry Dialogue on Memory Virtualization"
      ]
    },
    {
      "cell_type": "markdown",
      "metadata": {
        "id": "1sHo3jWx3d30"
      },
      "source": [
        "## Concurrency"
      ]
    },
    {
      "cell_type": "markdown",
      "metadata": {
        "id": "SvBSA-tF3fp5"
      },
      "source": [
        "### A Dialogue on Concurrency"
      ]
    },
    {
      "cell_type": "markdown",
      "metadata": {
        "id": "QM5wsBVe3jpl"
      },
      "source": [
        "### Concurrency: An Introduction"
      ]
    },
    {
      "cell_type": "markdown",
      "metadata": {
        "id": "qhJpyK-t3nsC"
      },
      "source": [
        "### Interlude: Thread API"
      ]
    },
    {
      "cell_type": "markdown",
      "metadata": {
        "id": "g0rk-_1P3t9l"
      },
      "source": [
        "### Locks"
      ]
    },
    {
      "cell_type": "markdown",
      "metadata": {
        "id": "FKBCkDge3wgY"
      },
      "source": [
        "### Lock-based  Concurent Data Structures"
      ]
    },
    {
      "cell_type": "markdown",
      "metadata": {
        "id": "pLucV-b831Xe"
      },
      "source": [
        "### Condition Variables"
      ]
    },
    {
      "cell_type": "markdown",
      "metadata": {
        "id": "40EpxMLu34Wt"
      },
      "source": [
        "### Semaphores"
      ]
    },
    {
      "cell_type": "markdown",
      "metadata": {
        "id": "0EgneGXT37rw"
      },
      "source": [
        "### Common Concurrency Problems"
      ]
    },
    {
      "cell_type": "markdown",
      "metadata": {
        "id": "_QF2NgJu3-zV"
      },
      "source": [
        "### Event-based Concurrency (Avanced)"
      ]
    },
    {
      "cell_type": "markdown",
      "metadata": {
        "id": "O2TCiMgE4EdM"
      },
      "source": [
        "### Summary Dialogue on Concurrency"
      ]
    },
    {
      "cell_type": "markdown",
      "metadata": {
        "id": "tctjU8kF4Jke"
      },
      "source": [
        "## Persistance"
      ]
    },
    {
      "cell_type": "markdown",
      "metadata": {
        "id": "nUlxG8__4M8d"
      },
      "source": [
        "### A Dialogue on Persistance"
      ]
    },
    {
      "cell_type": "markdown",
      "metadata": {
        "id": "Zpihykp_4QxS"
      },
      "source": [
        "### I/O Devices"
      ]
    },
    {
      "cell_type": "markdown",
      "metadata": {
        "id": "sZPEMPoh4TDm"
      },
      "source": [
        "### Hard Disk Drives"
      ]
    },
    {
      "cell_type": "markdown",
      "metadata": {
        "id": "1whd_ANr4WGS"
      },
      "source": [
        "### Redundant Arrays of Inexpensive Disks (RAIDs)"
      ]
    },
    {
      "cell_type": "markdown",
      "metadata": {
        "id": "VtZ3OJM74d47"
      },
      "source": [
        "### Interlude: Files and Directories"
      ]
    },
    {
      "cell_type": "markdown",
      "metadata": {
        "id": "aS1VUBjQ4hEt"
      },
      "source": [
        "### File System Implementation"
      ]
    },
    {
      "cell_type": "markdown",
      "metadata": {
        "id": "qGFs_txp4mEJ"
      },
      "source": [
        "### Locality and The Fast File System"
      ]
    },
    {
      "cell_type": "markdown",
      "metadata": {
        "id": "jjVJTNiX4qps"
      },
      "source": [
        "### Crash Consistency: FSCK and Journaling"
      ]
    },
    {
      "cell_type": "markdown",
      "metadata": {
        "id": "ePPN1Vvd4vKX"
      },
      "source": [
        "### Log-structured File Systems"
      ]
    },
    {
      "cell_type": "markdown",
      "metadata": {
        "id": "GXCeQ-mq40vk"
      },
      "source": [
        "### Flash-based SSDs"
      ]
    },
    {
      "cell_type": "markdown",
      "metadata": {
        "id": "b2gaEfvg46zx"
      },
      "source": [
        "### Data Integrity and Protection"
      ]
    },
    {
      "cell_type": "markdown",
      "metadata": {
        "id": "VtB9v3Ii4_kE"
      },
      "source": [
        "### Summary Dialogue on Persistence"
      ]
    },
    {
      "cell_type": "markdown",
      "metadata": {
        "id": "CapPkwkO5F3n"
      },
      "source": [
        "### A Dialogue on Distribution "
      ]
    },
    {
      "cell_type": "markdown",
      "metadata": {
        "id": "uhos9dM85OGA"
      },
      "source": [
        "### Distributed Systems"
      ]
    },
    {
      "cell_type": "markdown",
      "metadata": {
        "id": "urpdfTq75RkS"
      },
      "source": [
        "### Sun´s Network File Systems (NFS)"
      ]
    },
    {
      "cell_type": "markdown",
      "metadata": {
        "id": "DycLaOTX5Wqy"
      },
      "source": [
        "### The Andrew File System (AFS)"
      ]
    },
    {
      "cell_type": "markdown",
      "metadata": {
        "id": "0XniY3yl5axX"
      },
      "source": [
        "### Summary Dialogue on Distribution"
      ]
    }
  ]
}