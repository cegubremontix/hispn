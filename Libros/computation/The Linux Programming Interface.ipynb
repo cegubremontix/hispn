{
  "nbformat": 4,
  "nbformat_minor": 0,
  "metadata": {
    "kernelspec": {
      "display_name": "Python 2.7.18 64-bit",
      "name": "python2718jvsc74a57bd0f92b2924b84ff19c1c3dc485f7644d4486f64738191026bf8e6de303969141b5"
    },
    "language_info": {
      "name": "python",
      "version": ""
    },
    "metadata": {
      "interpreter": {
        "hash": "f92b2924b84ff19c1c3dc485f7644d4486f64738191026bf8e6de303969141b5"
      }
    },
    "orig_nbformat": 2,
    "colab": {
      "name": "The Linux Programming Interface.ipynb",
      "provenance": [],
      "include_colab_link": true
    }
  },
  "cells": [
    {
      "cell_type": "markdown",
      "metadata": {
        "id": "view-in-github",
        "colab_type": "text"
      },
      "source": [
        "<a href=\"https://colab.research.google.com/github/dbremont/Notas/blob/main/Libros/Computacion/The%20Linux%20Programming%20Interface.ipynb\" target=\"_parent\"><img src=\"https://colab.research.google.com/assets/colab-badge.svg\" alt=\"Open In Colab\"/></a>"
      ]
    },
    {
      "cell_type": "markdown",
      "metadata": {
        "id": "XH9AaG0z6SVC"
      },
      "source": [
        "The Linux Programming Interface"
      ]
    },
    {
      "cell_type": "markdown",
      "metadata": {
        "id": "7vXiq10fMauy"
      },
      "source": [
        "## History and Standards"
      ]
    },
    {
      "cell_type": "markdown",
      "metadata": {
        "id": "Olpo4KzzTDHU"
      },
      "source": [
        "The GNU Project\n",
        "\n",
        "Linux Kernel Version Numbers\n",
        "\n",
        "Linux Distributions\n",
        "\n",
        "POSIX"
      ]
    },
    {
      "cell_type": "markdown",
      "metadata": {
        "id": "V56ivXm6MejI"
      },
      "source": [
        "## Fundamental Concepts"
      ]
    },
    {
      "cell_type": "markdown",
      "metadata": {
        "id": "gkMBsIi-BotK"
      },
      "source": [
        "The kernel\n",
        "\n",
        "Proces scheduling\n",
        "\n",
        "Provision of a file sytem\n",
        "\n",
        "Creation and termination of procesess\n",
        "\n",
        "Acess to devices\n",
        "\n",
        "Networking\n",
        "\n",
        "Provision of a system call applicatio progrimn interface\n",
        "\n",
        "virtual private computertr\n",
        "\n",
        "kernel mode\n",
        "\n",
        "user mode\n",
        "\n",
        "process versus kernel view s of the system\n",
        "\n",
        "the shell\n",
        "\n",
        "list of shells \n",
        "\n",
        "shel scripts\n",
        "\n",
        "users\n",
        "\n",
        "groups\n",
        "\n",
        "super users\n",
        "\n",
        "directory hierry \n",
        "\n",
        "directories \n",
        "links\n",
        "\n",
        "files\n",
        "\n",
        "file types\n",
        "\n",
        "symbolic links\n",
        "\n",
        "file names\n",
        "\n",
        "pathnames\n",
        "\n",
        "absloulate path names\n",
        "relative pathnaes\n",
        "\n",
        " pwd\n",
        "\n",
        " filew owernhipr sna pdermission\n",
        "\n",
        " file io model\n",
        " fie ldescript or\n",
        "\n",
        " th stiod io library '\n",
        " '\n",
        " programs\n",
        "\n",
        "filters\n",
        "\n",
        "commadn l ine argumetns\n",
        "proceses\n",
        "\n",
        "process memory layout\n",
        "\n",
        "- text\n",
        "- data \n",
        "- heap\n",
        "- stack\n",
        "\n",
        "kprocess creation\n",
        "\n",
        "program execution\n",
        "\n",
        "fork \n",
        "\n",
        "partern process \n",
        "\n",
        "child proces\n",
        "\n",
        "proces id\n",
        "\n",
        "kparrent id\n",
        "\n",
        "process termination \n",
        "\n",
        "termination status\n",
        "\n",
        "process user \n",
        "\n",
        "groups interndeiitiers\n",
        "\n",
        "privilged proceses\n",
        "\n",
        "capabilities\n",
        "\n",
        "the init process\n",
        "\n",
        "daemon process\n",
        "\n",
        "environment list\n",
        "\n",
        "resource limits\n",
        "\n",
        "memory mapings\n",
        "'\n",
        "\n",
        "satis libraries\n",
        "\n",
        "sahre libraries\n",
        "\n",
        "\n",
        "interprocess comuncation\n",
        "\n",
        "signals\n",
        "\n",
        "pipes\n",
        "\n",
        "ssockerts\n",
        "file locking\n",
        "\n",
        "message queues\n",
        "\n",
        "semaphores\n",
        "\n",
        "shared memory\n",
        "\n",
        "threads\n",
        "\n",
        "proces groups\n",
        "\n",
        "shell job control\n",
        "\n",
        "session\n",
        "\n",
        "controllng terminal\n",
        "\n",
        "\n",
        "controlling processes\n",
        "\n",
        "peuso terminal \n",
        "\n",
        "date and time\n",
        "\n",
        "client-server architecture\n",
        "\n",
        "realtime\n",
        "\n",
        "/proc file system\n"
      ]
    },
    {
      "cell_type": "markdown",
      "metadata": {
        "id": "SLyHmqGyBodz"
      },
      "source": [
        ""
      ]
    },
    {
      "cell_type": "markdown",
      "metadata": {
        "id": "aqfwN-2IMjqp"
      },
      "source": [
        "## System Programming Concepts"
      ]
    },
    {
      "cell_type": "markdown",
      "metadata": {
        "id": "a9aYn2p9DSDW"
      },
      "source": [
        "system calls\n",
        "\n",
        "glibc\n",
        "\n",
        "lls myprog | gerep libc\n",
        "\n",
        "/lib/libc.so.6\n",
        "\n",
        "handling errors from systems calls and library functions\n",
        "\n",
        "comand lines argumetns\n",
        "\n",
        "system data types\n",
        "\n"
      ]
    },
    {
      "cell_type": "markdown",
      "metadata": {
        "id": "bdV13B29MnSk"
      },
      "source": [
        "## File I/O: The Universal I/O Model"
      ]
    },
    {
      "cell_type": "markdown",
      "metadata": {
        "id": "SJwD-hojDw2Q"
      },
      "source": [
        "file descriptor\n",
        "\n",
        "open(...)\n",
        "\n",
        "read(...)\n",
        "\n",
        "write(...)\n",
        "\n",
        "close(...)\n",
        "\n",
        "open flags\n",
        "\n",
        "errors fro mopen\n",
        "\n",
        "lseek(...)\n",
        "\n",
        "file holes\n",
        "\n",
        "ictl(...)"
      ]
    },
    {
      "cell_type": "markdown",
      "metadata": {
        "id": "uFfCHCnWMxkv"
      },
      "source": [
        "## File I/O: Futher Details"
      ]
    },
    {
      "cell_type": "markdown",
      "metadata": {
        "id": "MYRbWhSzEJfW"
      },
      "source": [
        "atomicity\n",
        "\n",
        "fcnl()\n",
        "\n",
        "race conditions\n",
        "\n",
        "relation between file descriptors  and open files\n",
        "\n",
        "duplicating file descriptors\n",
        "\n",
        "pread()\n",
        "\n",
        "pwrite()\n",
        "\n",
        "readv()\n",
        "\n",
        "writev()\n",
        "\n",
        "Truncatign a file truncate() and ftruncate()\n",
        "\n",
        "nonblocking I/O\n",
        "\n",
        "I/O on Large Files\n",
        "\n",
        "The transitional LFS  API\n",
        "\n",
        "/dev/fd directory\n",
        "\n",
        "Creatign temporal files\n",
        "\n",
        "Exercises\n",
        "\n",
        "5.1\n",
        "\n",
        "5.2\n",
        "\n",
        "5.3\n",
        "\n",
        "5.4\n",
        "\n",
        "5.5\n",
        "\n",
        "5.6\n",
        "\n",
        "5.7"
      ]
    },
    {
      "cell_type": "markdown",
      "metadata": {
        "id": "cwrHB4U_M3mD"
      },
      "source": [
        "## Processes"
      ]
    },
    {
      "cell_type": "markdown",
      "metadata": {
        "id": "VTqkF2V2E5S4"
      },
      "source": [
        "process \n",
        "\n",
        "binary format specification\n",
        "\n",
        "machine languge instructions\n",
        "\n",
        "program entry-point andress\n",
        "\n",
        "daa\n",
        "\n",
        "suymbol and relocation tables\n",
        "\n",
        "shared libray and dyuynamic lnkin gifnormation \n",
        "\n",
        "other information\n",
        "\n",
        "proceds id \n",
        "pareent proces id\n",
        "\n",
        "memory layout of a process\n",
        "\n",
        "virtual memory mangament\n",
        "\n",
        "\n",
        "page fault\n",
        "\n",
        "heap \n",
        "\n",
        "stack and stack frames\n",
        "\n",
        "\n",
        "command line argumertns (arc, argv)\n",
        "\n",
        "environemtn list\n",
        "\n",
        "printenv\n",
        "\n",
        "modifying the environment\n",
        "\n",
        "performing a nonlocal goto setjmp() and longjmp()\\\n",
        "\n",
        "\n",
        "\n",
        "problem swith optimizng compilers\n",
        "\n",
        "exercises \n",
        "\n",
        "6.1\n",
        "\n",
        "6.2\n",
        "\n",
        "6.3"
      ]
    },
    {
      "cell_type": "markdown",
      "metadata": {
        "id": "j-t3VGg2M7MI"
      },
      "source": [
        "## Memory Allocation"
      ]
    },
    {
      "cell_type": "markdown",
      "metadata": {
        "id": "9Y_u2fFLFudZ"
      },
      "source": [
        "alocating memory on the heap\n",
        "\n",
        "link list\n",
        "\n",
        "binary tress\n",
        "\n",
        "program break\n",
        "\n",
        "brk(0\n",
        "\n",
        "sbrk()\n",
        "\n",
        "allocating gmeory in the heap: malloc() and free()\n",
        "\n",
        "tools and library for malloc debugging\n",
        "\n",
        "controlling and monitoris the maloc package\n",
        "\n",
        "calloc()\n",
        "\n",
        "realloc()\n",
        "\n",
        "\n",
        "allocatin galliged memory\n",
        "\n",
        "\n",
        "allocating emory on the stack: alloca()\n",
        "\n",
        "\n",
        "exercises \n",
        "\n",
        "7.1\n",
        "\n",
        "7.2\n"
      ]
    },
    {
      "cell_type": "markdown",
      "metadata": {
        "id": "u9c8PDqAM96H"
      },
      "source": [
        "## Users and Groups"
      ]
    },
    {
      "cell_type": "markdown",
      "metadata": {
        "id": "_ST6Hpn2GPPy"
      },
      "source": [
        "/etc/passwd\n",
        "\n",
        "password file\n",
        "\n",
        "login namee\n",
        "\n",
        "encrypted password\n",
        "\n",
        "user id\n",
        "\n",
        "group id\n",
        "\n",
        "comment\n",
        "\n",
        "home diredtory\n",
        "\n",
        "login shell\n",
        "\n",
        "/etc/shadow\n",
        "\n",
        "group file\n",
        "\n",
        "/etc/group\n",
        "\n",
        "\n",
        "\n",
        "retirevin guser and gorup information\n",
        "\n",
        "- getpwnam()\n",
        "- getpwuid()\n",
        "\n",
        "\n",
        "retrievin grecorss from a group file\n",
        "\n",
        "\n",
        "password ecnription and user authentication\n",
        "\n",
        "exercises \n",
        "\n",
        "8.1\n",
        "\n",
        "8.2\n",
        "\n"
      ]
    },
    {
      "cell_type": "markdown",
      "metadata": {
        "id": "PJBRI3psNBNG"
      },
      "source": [
        "## Process Credentials"
      ]
    },
    {
      "cell_type": "markdown",
      "metadata": {
        "id": "ia5eZKtOGtJl"
      },
      "source": [
        "list numeric user identifiers  and group identifier associated with process\n",
        "\n",
        "real user id\n",
        "\n",
        "real group id\n",
        "\n",
        "efective id \n",
        "\n",
        "efective group id\n",
        "\n",
        "ls -l prog\n",
        "\n",
        "suplemtnary groups id\n",
        "\n",
        "retireving andmodify8ng proces credentials\n",
        "\n",
        "system calls for modifying process credentials\n",
        "\n",
        "exercises \n",
        "\n",
        "9.1\n",
        "\n",
        "9.2\n",
        "\n",
        "9.4\n",
        "\n",
        "9.5"
      ]
    },
    {
      "cell_type": "markdown",
      "metadata": {
        "id": "0fXiyl9ONF7L"
      },
      "source": [
        "## Time"
      ]
    },
    {
      "cell_type": "markdown",
      "metadata": {
        "id": "f-tAYUWbHLtT"
      },
      "source": [
        "Real time\n",
        "\n",
        "Process time\n",
        "\n",
        "Calendar Time\n",
        "\n",
        "Time-Conversion Functions\n",
        "\n",
        "time_t\n",
        "\n",
        "time zones\n",
        "\n",
        "sspecifing a time zoe  for a program\n",
        "\n",
        "locales\n",
        "\n",
        "locale definitions\n",
        "\n",
        "sspecify8ing the locale for a program\n",
        "\n",
        "updating th esystem clock\n",
        "\n",
        "software clock\n",
        "\n",
        "process time\n",
        "\n",
        "exercise\n",
        "\n",
        "10.1"
      ]
    },
    {
      "cell_type": "markdown",
      "metadata": {
        "id": "JNOI7av0NKv9"
      },
      "source": [
        "## System Limits and Options"
      ]
    },
    {
      "cell_type": "markdown",
      "metadata": {
        "id": "h6oqrSBfH2YS"
      },
      "source": [
        "sytem limits\n",
        "\n",
        "runmtime invraint values (possibly iindeterminate)\n",
        "\n",
        "path name variable values\n",
        "\n",
        "runtime increasable values\n",
        "\n",
        "retrieving sysetm limits (and options) at runt time\n",
        "\n",
        "getconf\n",
        "\n",
        "sysconf()\n",
        "\n",
        "retriving file realted limits\n",
        "\n",
        "pth conf(0\n",
        "\n",
        "fpathconf()\n",
        "\n",
        "inderteminate limits\n",
        "\n",
        "exercise \n",
        "\n",
        "11.1\n",
        "\n",
        "11.2"
      ]
    },
    {
      "cell_type": "markdown",
      "metadata": {
        "id": "2HxdDU6FNOQO"
      },
      "source": [
        "## File I/O Buffering"
      ]
    },
    {
      "cell_type": "markdown",
      "metadata": {
        "id": "3G00H8VBIVmu"
      },
      "source": [
        "uanme\n",
        "\n",
        "/proc file system\n",
        "\n",
        "/proc/<ID>\n",
        "\n",
        "proc/<PID>/fd\n",
        "\n",
        "proc/<PID>/task\n",
        "\n",
        "process attributes\n",
        "\n",
        "- cmdline\n",
        "\n",
        "- cwd\n",
        "\n",
        "- environ\n",
        "\n",
        "- exe\n",
        "\n",
        "- fd\n",
        "\n",
        "- maps\n",
        "\n",
        "- mem\n",
        "\n",
        "- mounts\n",
        "\n",
        "- root\n",
        "\n",
        "- status\n",
        "\n",
        "- task\n",
        "\n",
        "system information under /proc\n",
        "\n",
        "- /proc\n",
        "- /proc/net\n",
        "- /proc/sys/fs\n",
        "- /proc/sys/kernel\n",
        "- /proc/sys/net\n",
        "- /proc/sys/vm\n",
        "- /proc/sysvipc\n",
        "\n",
        "\n",
        "uname\n",
        "\n",
        "\n",
        "exercises\n",
        "\n",
        "12.1\n",
        "\n",
        "12.2\n",
        "\n",
        "12.3\n",
        "\n",
        "\n",
        " "
      ]
    },
    {
      "cell_type": "markdown",
      "metadata": {
        "id": "srvgL6eLJRjA"
      },
      "source": [
        "## File I/O Buffering"
      ]
    },
    {
      "cell_type": "markdown",
      "metadata": {
        "id": "rBgte_l8JUkF"
      },
      "source": [
        "kerle bufering of file/o: the buffer cache'\n",
        "\n",
        "effect of  buffer o nI/O syetm call performace\n",
        "\n",
        "buffering  in teh stdio library\n",
        "\n",
        "stdio stream\n",
        "\n",
        "setvbuf\n",
        "\n",
        "setbuf\n",
        "\n",
        "flusing a stio buffer\n",
        "\n",
        "controlign  kernle buffering of file I/O\n",
        "\n",
        "synchonied i/o data integrity and synchonied i/o file integrity\n",
        "\n",
        "sytem calls for controllign kernel buffer of file i/o\n",
        "\n",
        "makin gall writes synchonous\n",
        "\n",
        "\n",
        "fdatasync()\n",
        "\n",
        "\n",
        "avisin the kernl about i/o pattterns\n",
        "\n",
        "bypassign the buffer cache direct  i/o\n",
        "\n",
        "mixing library functions and system calls for library file i/o\n",
        "\n",
        "\n",
        "exercises \n",
        "\n",
        "13.1\n",
        "\n",
        "13.23\n",
        "\n",
        "13.3\n",
        "\n",
        "13.4\n",
        "\n",
        "13.5"
      ]
    },
    {
      "cell_type": "markdown",
      "metadata": {
        "id": "JJwA04CkNRtL"
      },
      "source": [
        "## File Systems\n",
        "\n"
      ]
    },
    {
      "cell_type": "markdown",
      "metadata": {
        "id": "9MgTNEiZKCxH"
      },
      "source": [
        "device special files\n",
        "\n",
        "disk and partitions\n",
        "\n",
        "file systems\n",
        "\n",
        "the ext2 file sytem\n",
        "\n",
        "file--system structure\n",
        "\n",
        "i-nodes\n",
        "\n",
        "i-node and data block pointers in ext2\n",
        "\n",
        "the virutal fiel system (VFS)\n",
        "\n",
        "journalign file systems\n",
        "\n",
        "single directory hierarchy and moutn points\n",
        "\n",
        "mount device directory\n",
        "\n",
        "moutning an dunmoutint file systems\n",
        "\n",
        "mount\n",
        "\n",
        "umount\n",
        "\n",
        "advaced moutn feaatures\n",
        "\n",
        "moutnign a file sytem at multiple moutn points\n",
        "\n",
        "stacking multipoe mount on the same moutn point\n",
        "\n",
        "\n",
        "mount fags that are pre-moutn options\n",
        "\n",
        "bind mounts\n",
        "\n",
        "recurce bind mounts\n",
        "\n",
        "\n",
        "advance virutla memory system tmpfs\n",
        "\n",
        "\n",
        "\n",
        "statvfs(0\n",
        "\n",
        "\n",
        "exercises 14.1"
      ]
    },
    {
      "cell_type": "markdown",
      "metadata": {
        "id": "qPR7iGToNUQQ"
      },
      "source": [
        "## File Attributes"
      ]
    },
    {
      "cell_type": "markdown",
      "metadata": {
        "id": "rn1saIp-K2q4"
      },
      "source": [
        "stat()\n",
        "\n",
        "lstat()\n",
        "\n",
        "fstat()\n",
        "\n",
        "drcice id and i-node number\n",
        "\n",
        "file owership\n",
        "\n",
        "link count\n",
        "\n",
        "file typeo and permissions\n",
        "\n",
        "\n",
        "\n",
        "fiel timestamps\n",
        "\n",
        "chahign fiel times stmaps with utime and utimes\n",
        "\n",
        "\n",
        "file ownership\n",
        "\n",
        "chown\n",
        "\n",
        "fchown\n",
        "\n",
        "lchown\n",
        "\n",
        "file premissions\n",
        "\n",
        "permission on directories\n",
        "\n",
        "permision-checkign algorithm\n",
        "\n",
        "\n",
        "permission cheking ofr priviledge process\n",
        "\n",
        "checking file accesibility\n",
        "\n",
        "sticiky bits\n",
        "\n",
        "proces file mode creatin mask umask(0\n",
        "\n",
        "l-nod efalsgs (ext2)\n",
        "\n",
        "\n",
        "\n",
        "exercises \n",
        "\n",
        "15.1\n",
        "\n",
        "15.2\n",
        "\n",
        "15.3\n",
        "\n",
        "15.4\n",
        "\n",
        "15.5\n",
        "\n",
        "15.6\n",
        "\n",
        "15.7"
      ]
    },
    {
      "cell_type": "markdown",
      "metadata": {
        "id": "8Xo8sxgGNXhP"
      },
      "source": [
        "## Extended Attributes"
      ]
    },
    {
      "cell_type": "markdown",
      "metadata": {
        "id": "L9Co7RP0LhjM"
      },
      "source": [
        "ea names\n",
        "\n",
        "creating and viewving ea from shell\n",
        "\n",
        "extended attribute impleetna deatials\n",
        "\n",
        "getfattr\n",
        "\n",
        "setfattr\n",
        "\n",
        "system calsl for manipulatin gextended attributes\n",
        "\n",
        "\n",
        "exercises\n",
        "\n",
        "16.1"
      ]
    },
    {
      "cell_type": "markdown",
      "metadata": {
        "id": "30jxZNX_NbYn"
      },
      "source": [
        "## Access Control List"
      ]
    },
    {
      "cell_type": "markdown",
      "metadata": {
        "id": "atgvN9dSLxcV"
      },
      "source": [
        "acl entries\n",
        "\n",
        "acl permission-cheking algorithm\n",
        "\n",
        "logn and short text form for acls\n",
        "\n",
        "the getfacl and setfacl commands\n",
        "\n",
        "default acls and file creation\n",
        "\n",
        "acl impletnation limits\n",
        "\n",
        "acl api\n",
        "\n",
        "exercise\n",
        "\n",
        "17.1\n",
        "\n"
      ]
    },
    {
      "cell_type": "markdown",
      "metadata": {
        "id": "0uVA9Hw2NgPu"
      },
      "source": [
        "## Directories  and Links"
      ]
    },
    {
      "cell_type": "markdown",
      "metadata": {
        "id": "DzYblWzcMKQ0"
      },
      "source": [
        "directory\n",
        "\n",
        "symbolic link\n",
        "\n",
        "hard links\n",
        "\n",
        "link()\n",
        "\n",
        "unlink()\n",
        "\n",
        "Interpretation of symbolic links by varois functions\n",
        "\n",
        "an open file is deleted only when all file descriptorss are closed\n",
        "\n",
        "chaging the name of a file rename\n",
        "\n",
        "workign with symbolic links \n",
        "\n",
        "symlink()\n",
        "\n",
        "readlink()\n",
        "\n",
        "mkddir()\n",
        "\n",
        "rmdir()\n",
        "\n",
        "removing a file or directory: remove\n",
        "\n",
        "reading directories: opendir() adn readdir()\n",
        "\n",
        "directory streams and file descriptors\n",
        "\n",
        "fiel tree wallking nftw()\n",
        "\n",
        "\n",
        "the currnt working directory of aprocess\n",
        "\n",
        "operatin grelative to a pdirectory file descriotors\n",
        "\n",
        "chagkign th eroot directory of aprocess \n",
        "\n",
        "chroot(0\n",
        "\n",
        "resolving a pathname \n",
        "\n",
        "realpath()\n",
        "\n",
        "prasin pathname strings:\n",
        "\n",
        "dirname()\n",
        "\n",
        "basename()\n",
        "\n",
        "\n",
        "exercises\n",
        "\n",
        "18.1\n",
        "\n",
        "18.3\n",
        "\n",
        "18.4\n",
        "\n",
        "18.5\n",
        "\n",
        "18.6\n",
        "\n",
        "18.7\n",
        "\n",
        "18.8\n",
        "\n",
        "18.9"
      ]
    },
    {
      "cell_type": "markdown",
      "metadata": {
        "id": "KJfoP72lNi--"
      },
      "source": [
        "## Monitoring File Events"
      ]
    },
    {
      "cell_type": "markdown",
      "metadata": {
        "id": "GTefhXJ0NKnd"
      },
      "source": [
        "inotify api\n",
        "\n",
        "inofity events\n",
        "\n",
        "readign inotify veents\n",
        "\n",
        "queue limtis and /proc files\n",
        "\n",
        "\n",
        "\n",
        "exercies \n",
        "\n",
        "19.1"
      ]
    },
    {
      "cell_type": "markdown",
      "metadata": {
        "id": "nOERK7lsNndy"
      },
      "source": [
        "## Signals: Fundamental Concepts"
      ]
    },
    {
      "cell_type": "markdown",
      "metadata": {
        "id": "asMgWeKdNVcM"
      },
      "source": [
        "signal\n",
        "\n",
        "software interrupts\n",
        "\n",
        "signal default action\n",
        "\n",
        "singal kginore\n",
        "\n",
        "signal handler\n",
        "\n",
        "signal types and default actions\n",
        "\n",
        "linux singals\n",
        "\n",
        "chaning signal disposisiton signal()\n",
        "\n",
        "introduction to signal  handlers\n",
        "\n",
        "send signals - kill\n",
        "\n",
        "checkign for th exsitenc eof aproces\n",
        "\n",
        "raise()\n",
        "\n",
        "kilpg()\n",
        "\n",
        "displayign signal descriptions\n",
        "\n",
        "signal sets\n",
        "\n",
        "the signal mask (blockign signla delivery)\n",
        "\n",
        "pending signals\n",
        "\n",
        "signals are not queue\n",
        "\n",
        "changing a signal disposiiton\n",
        "\n",
        "\n",
        "waitin gfor a singla pause(0\n",
        "\n",
        "exercise \n",
        "\n",
        "20.1\n",
        "\n",
        "20.2\n",
        "\n",
        "20.3\n",
        "\n",
        "20.4\n",
        "\n"
      ]
    },
    {
      "cell_type": "markdown",
      "metadata": {
        "id": "BppdgbKPN19T"
      },
      "source": [
        "## Signals: Signals Handlers"
      ]
    },
    {
      "cell_type": "markdown",
      "metadata": {
        "id": "Z0_Alio8OKhT"
      },
      "source": [
        "signal handler\n",
        "\n",
        "\n",
        "reentrant and sasync signal safe function \n",
        "\n",
        "reetrant and nontreentrant functions\n",
        "\n",
        "use of errono inside singla handlers\n",
        "\n",
        "perfomign anonlocal goto from a signal handler\n",
        "\n",
        "terminating aproces abnormally: abort()\n",
        "\n",
        "handling a singla on a alternate stck: sigalstack()\n",
        "\n",
        "\n",
        "interrupting and restartin gsystem calls\n",
        "\n",
        "exercise\n",
        "\n",
        "21.1"
      ]
    },
    {
      "cell_type": "markdown",
      "metadata": {
        "id": "JICnupC3N5ZR"
      },
      "source": [
        "## Signals: Advanced Features"
      ]
    },
    {
      "cell_type": "markdown",
      "metadata": {
        "id": "-4eQjzqbOzt0"
      },
      "source": [
        "core dump files\n",
        "\n",
        "special cases regarding singla delivery, disposing, and handling\n",
        "\n",
        "syynchouf  and asynchonous generation oof signals\n",
        "\n",
        "when adn that order asignals are delivered\n",
        "\n",
        "realtime signals\n",
        "\n",
        "the use of sigsupedn() to set the process ignal mask and wait for a signal toarrive\n",
        "\n",
        "the use of sigawit info() and sigimedwait() to assynchoyusly  wait for a singla to arrvie\n",
        "\n",
        "\n",
        "the use of signalfd() to recive a signal via a fiel desctripr;\n",
        "\n",
        "\n",
        "exercise\n",
        "\n",
        "21.1\n",
        "\n",
        "22.2\n",
        "\n",
        "22.3\n",
        "\n",
        "22.4"
      ]
    },
    {
      "cell_type": "markdown",
      "metadata": {
        "id": "9snv0mbmN8ph"
      },
      "source": [
        "## Timers and Sleeping"
      ]
    },
    {
      "cell_type": "markdown",
      "metadata": {
        "id": "mV4ZmKoBPZ7N"
      },
      "source": [
        "what i a timer\n",
        "\n",
        "interval timers\n",
        "\n",
        "a sampler time interafce: alarm()\n",
        "\n",
        "interaction between setitimer() and alarm()\n",
        "\n",
        "schedulign and accurary of timers\n",
        "\n",
        "high-resolution timers\n",
        "\n",
        "settin gtimeouts on blocking operations\n",
        "\n",
        "suspending execution foa fixed interval (sleeping)\n",
        "\n",
        "law-resolution sleeping: sleep()\n",
        "\n",
        "high-resolution sleeping: nanosleep()\n",
        "\n",
        "posix clocks\n",
        "\n",
        "Improve high-resolution sleeping\n",
        "\n",
        "posix internval timers\n",
        "\n",
        "notification via sa gingnal\n",
        "\n",
        "tie mroverruns\n",
        "\n",
        "notification via a thrad\n",
        "\n",
        "tiemrs that notify via file descriptors: the timerfd api\n",
        "\n",
        "\n",
        "\n",
        "exercises \n",
        "\n",
        "23.1\n",
        "\n",
        "23.2\n",
        "\n",
        "23.3\n",
        "\n",
        "23.4\n"
      ]
    },
    {
      "cell_type": "markdown",
      "metadata": {
        "id": "TUxiJW4VQ6Zz"
      },
      "source": [
        "## Process Creation"
      ]
    },
    {
      "cell_type": "markdown",
      "metadata": {
        "id": "UX7OOWJOQ75C"
      },
      "source": [
        "fork()\n",
        "\n",
        "exit()\n",
        "\n",
        "wait()\n",
        "\n",
        "execve()\n",
        "\n",
        "dup()\n",
        "\n",
        "vofk()\n",
        "\n",
        "Race conditions after fork()\n",
        "\n",
        "avoiding race conditions by synchonizign with signals\n",
        "\n",
        "exercises\n",
        "\n",
        "24.1\n",
        "\n",
        "24.2\n",
        "\n",
        "24.3\n",
        "\n",
        "24.4\n",
        "\n",
        "24.5\n",
        "\n"
      ]
    },
    {
      "cell_type": "markdown",
      "metadata": {
        "id": "oEt4EsyxN_O0"
      },
      "source": [
        "## Process Termination"
      ]
    },
    {
      "cell_type": "markdown",
      "metadata": {
        "id": "8GhPJaMqRXFE"
      },
      "source": [
        "_exit()\n",
        "\n",
        "exit()\n",
        "\n",
        "defailt of proces termination\n",
        "\n",
        "exit handlers\n",
        "\n",
        "registerign exit handlers\n",
        "\n",
        "interaction between fork, stdio **buffers**, and _exit()\n",
        "\n",
        "exercise\n",
        "\n",
        "25.1\n"
      ]
    },
    {
      "cell_type": "markdown",
      "metadata": {
        "id": "bdqHJRzsOB6r"
      },
      "source": [
        "## Monitoring Child Processes"
      ]
    },
    {
      "cell_type": "markdown",
      "metadata": {
        "id": "Ik9-dfADRoRz"
      },
      "source": [
        "wait()\n",
        "\n",
        "waitpiod() system call\n",
        "\n",
        "proces termina lfrom a signal handler\n",
        "\n",
        "waitid() system call\n",
        "\n",
        "SIGCHLD signnal\n",
        "\n",
        "ignorign dead child processs\n",
        "\n",
        "\n",
        "exercises \n",
        "\n",
        "26.1\n",
        "\n",
        "26.3\n",
        "\n",
        "26.4"
      ]
    },
    {
      "cell_type": "markdown",
      "metadata": {
        "id": "wRV3SXDnOIkZ"
      },
      "source": [
        "## Program Execution"
      ]
    },
    {
      "cell_type": "markdown",
      "metadata": {
        "id": "0NzbPQPYSDHR"
      },
      "source": [
        "execve()\n",
        "\n",
        "exec library function\n",
        "\n",
        "the PATH environment variable\n",
        "\n",
        "passgin the calers environemt nto the new program\n",
        "\n",
        "executing a file refered to by a desctipro: fexecve()\n",
        "\n",
        "interpreter scripts\n",
        "\n",
        "execution of interpreter scripts\n",
        "\n",
        "executing descriptors with execlp() and execvp()\n",
        "\n",
        "file desctipros and exec()\n",
        "\n",
        "signals and exec()\n",
        "\n",
        "executing shell comand: system()\n",
        "\n",
        "implementing: system()\n",
        "\n",
        "\n",
        "exercise\n",
        "\n",
        "27.1\n",
        "\n",
        "27.2\n",
        "\n",
        "27.3\n",
        "\n",
        "27.4\n",
        "\n",
        "27.5\n",
        "\n",
        "27.6"
      ]
    },
    {
      "cell_type": "markdown",
      "metadata": {
        "id": "WMn1McPFOMpM"
      },
      "source": [
        "## Process Creation and Program Execution in More Detail"
      ]
    },
    {
      "cell_type": "markdown",
      "metadata": {
        "id": "iadrMY3pS-XX"
      },
      "source": [
        "process acounting\n",
        "\n",
        "process accounting records\n",
        "\n",
        "the clone system call\n",
        "\n",
        "the clone flags argument\n",
        "\n",
        "speed  of process creation\n",
        "\n",
        "exec() and fork()\n",
        "\n",
        "effect of exev and fork on proces attrributes\n",
        "\n",
        "exercise\n",
        "\n",
        "28.1"
      ]
    },
    {
      "cell_type": "markdown",
      "metadata": {
        "id": "9s2JoKGeOScJ"
      },
      "source": [
        "## Threads: Introduction"
      ]
    },
    {
      "cell_type": "markdown",
      "metadata": {
        "id": "VqMriOBxTg_T"
      },
      "source": [
        "what is thread?\n",
        "\n",
        "thread vs process\n",
        "\n",
        "what thread of aprocess shares?\n",
        "\n",
        "background detail on the phreads API\n",
        "\n",
        "return value from pthreads functions\n",
        "\n",
        "compiling pthreads program\n",
        "\n",
        "thread creation\n",
        "\n",
        "thread termination\n",
        "\n",
        "thread IDs\n",
        "\n",
        "joining with a terminated thread\n",
        "\n",
        "detaching a thread\n",
        "\n",
        "thread attributes\n",
        "\n",
        "thread vs process\n",
        "\n",
        "\n",
        "exercises\n",
        "\n",
        "29.1\n",
        "\n",
        "29.2"
      ]
    },
    {
      "cell_type": "markdown",
      "metadata": {
        "id": "Kh91NFocUKkW"
      },
      "source": [
        "## Threads: Thread Synchonization"
      ]
    },
    {
      "cell_type": "markdown",
      "metadata": {
        "id": "XZnJ1wPqUReq"
      },
      "source": [
        "protecting acceses to shared variables: mutexes\n",
        "\n",
        "staticaly allocated mutexes\n",
        "\n",
        "locking and unlocking a mutex\n",
        "\n",
        "performace of mutexes\n",
        "\n",
        "mutex deadlocks\n",
        "\n",
        "dynamicaly initializign a mutex\n",
        "\n",
        "mutex attributes\n",
        "\n",
        "mutex types\n",
        "\n",
        "signalign changes of sate: condition variables\n",
        "\n",
        "staticaly allocated condition variables\n",
        "\n",
        "sigalnign and waitn on condition variables\n",
        "\n",
        "using a condition variable in the procedure-consumer example\n",
        "\n",
        "testin ga condition variable's predicate\n",
        "\n",
        "joining any terminated thread\n",
        "\n",
        "dynamicaly allocated condition variables\n",
        "\n",
        "exercises\n",
        "\n",
        "30.1\n",
        "\n",
        "30.2"
      ]
    },
    {
      "cell_type": "markdown",
      "metadata": {
        "id": "OWmHsh-3OYTe"
      },
      "source": [
        "## Threads: Thread Safety and Per-Thread Storage "
      ]
    },
    {
      "cell_type": "markdown",
      "metadata": {
        "id": "aRY8CWRwU4hC"
      },
      "source": [
        "safety and reentrancy\n",
        "\n",
        "non-thread-safe functrion\n",
        "\n",
        "reentrant function\n",
        "\n",
        "non-reentrant function\n",
        "\n",
        "one-time initialization\n",
        "\n",
        "thread-specific data\n",
        "\n",
        "thread-speicif data from the library function's perspective\n",
        "\n",
        "overview of th thrad-specific dta pi\n",
        "\n",
        "\n",
        "detail of the thread-specific data api\n",
        "\n",
        "thread local storage\n",
        "\n",
        "exercises\n",
        "\n",
        "31.1\n",
        "\n",
        "31.2"
      ]
    },
    {
      "cell_type": "markdown",
      "metadata": {
        "id": "oqEDRA1TOjfV"
      },
      "source": [
        "## Threads: Thread Cancellation"
      ]
    },
    {
      "cell_type": "markdown",
      "metadata": {
        "id": "w-ZBy56xVZZT"
      },
      "source": [
        "cancellign a thread\n",
        "\n",
        "cancellation state and type\n",
        "\n",
        "callendation points\n",
        "\n",
        "testing  for threa dcancelation\n",
        "\n",
        "cleanup handlers\n",
        "\n",
        "\n",
        "asynchonous cancelabilty\n"
      ]
    },
    {
      "cell_type": "markdown",
      "metadata": {
        "id": "a7yC9gJgOntF"
      },
      "source": [
        "## Threads: Futher Details"
      ]
    },
    {
      "cell_type": "markdown",
      "metadata": {
        "id": "QXsiJDJ_VvuY"
      },
      "source": [
        "thread stack\n",
        "\n",
        "thread and signals\n",
        "\n",
        "how unix signal model maps to threads\n",
        "\n",
        "what is a model in computing\n",
        "\n",
        "manipulating the thread signal stack\n",
        "\n",
        "thread and process control\n",
        "\n",
        "threads thrad implentation models\n",
        "\n",
        "linux implentation of posix trhads\n",
        "\n",
        "LinuxThreads\n",
        "\n",
        "LnuxTrhedad deviation form specific behavior\n",
        "\n",
        "\n",
        "nptl\n",
        "\n",
        "which threading implementation\n",
        "\n",
        "exercises\n",
        "\n",
        "33.1\n",
        "\n",
        "33.2\n",
        "\n",
        "\n"
      ]
    },
    {
      "cell_type": "markdown",
      "metadata": {
        "id": "1LOBqXp2OugS"
      },
      "source": [
        "## Process Groups, Sessions, and Job Control"
      ]
    },
    {
      "cell_type": "markdown",
      "metadata": {
        "id": "lA681AO1WlIK"
      },
      "source": [
        "process group\n",
        "\n",
        "job\n",
        "\n",
        "process group identifier\n",
        "\n",
        "session\n",
        "\n",
        "session identiifer\n",
        "\n",
        "background process groups\n",
        "\n",
        "process groups\n",
        "\n",
        "setpgid() in a job-control shell\n",
        "\n",
        "sessions\n",
        "\n",
        "controlign termiansl and controling proceses\n",
        "\n",
        "foregorudn an dbackgroudn process groups\n",
        "\n",
        "the SIGHUP singal\n",
        "\n",
        "hadling th esignup by the shell\n",
        "\n",
        "SIGHUP and termination of the controlign process\n",
        "\n",
        "job control\n",
        "\n",
        "using job control whing the shell\n",
        "\n",
        "jobs \n",
        "\n",
        "fg%1\n",
        "\n",
        "impletnig njob control\n",
        "\n",
        "the SIGTTIN adn SIGTTOUT signals\n",
        "\n",
        "handlign job-contro lsignals\n",
        "\n",
        "orphaned proces gropus\n",
        "\n",
        "exercises \n",
        "\n",
        "34.1\n",
        "\n",
        "34.2\n",
        "\n",
        "34.3\n",
        "\n",
        "34.4\n",
        "\n",
        "34.5\n",
        "\n",
        "34.6\n",
        "\n",
        "34.7"
      ]
    },
    {
      "cell_type": "markdown",
      "metadata": {
        "id": "t0VXx7e6O3X4"
      },
      "source": [
        "## Process Priorities and Scheduling"
      ]
    },
    {
      "cell_type": "markdown",
      "metadata": {
        "id": "5Rlx_0-OXXt3"
      },
      "source": [
        "process priorities\n",
        "\n",
        "realtime process scheduling\n",
        "\n",
        "posix realtime vs hard realtime\n",
        "\n",
        "SCHED_RR Policy\n",
        "\n",
        "SCHED_FIFLE\n",
        "\n",
        "SCHED_BATCH\n",
        "\n",
        "SCHED_IDLE\n",
        "\n",
        "Real Process Schedulign API\n",
        "\n",
        "Relatime Priority Ranges\n",
        "\n",
        "Mofifying and Retrieving Policites and Priorities\n",
        "\n",
        "process scheculign api\n",
        "\n",
        "modifiyugn and retriving polieices dn priorities\n",
        "\n",
        "relinquishign the cpu\n",
        "\n",
        "cpu affinity\n",
        "\n",
        "exercises\n",
        "\n",
        "35.1\n",
        "\n",
        "35.2\n",
        "\n",
        "35.3\n",
        "\n",
        "35.4"
      ]
    },
    {
      "cell_type": "markdown",
      "metadata": {
        "id": "JJUUEAQwO8AV"
      },
      "source": [
        "## Process Resources"
      ]
    },
    {
      "cell_type": "markdown",
      "metadata": {
        "id": "KtT2oUD7aGfV"
      },
      "source": [
        "gerusage()\n",
        "\n",
        "serrlimit()\n",
        "\n",
        "getrlimit()\n",
        "\n",
        "process resources limits\n",
        "\n",
        "Unrepresentable limit values\n",
        "\n",
        "Details of specific resource limits\n",
        "\n",
        "exercises\n",
        "\n",
        "36.1\n",
        "\n",
        "36.2\n",
        "\n",
        "36.3"
      ]
    },
    {
      "cell_type": "markdown",
      "metadata": {
        "id": "a_j0yDxJPAEk"
      },
      "source": [
        "## Daemons"
      ]
    },
    {
      "cell_type": "markdown",
      "metadata": {
        "id": "a3IzJ7QFaY2U"
      },
      "source": [
        "what is ademon?\n",
        "\n",
        "cron\n",
        "\n",
        "sshd\n",
        "\n",
        "httpd\n",
        "\n",
        "inetd\n",
        "\n",
        "creating deamons\n",
        "\n",
        "becomeDeamon()\n",
        "\n",
        "Guidelines for Writing Deamons\n",
        "\n",
        "Using **SIGHUP** to Reinitialize a Daemon\n",
        "\n",
        "Logging Messages and Errors Using *syslog*\n",
        "\n",
        "the *syslog* API\n",
        "\n",
        "establishing a connection to the system log\n",
        "\n",
        "/etc/syslog.conf File\n",
        "\n",
        "exercise\n",
        "\n",
        "37.1"
      ]
    },
    {
      "cell_type": "markdown",
      "metadata": {
        "id": "Y8zRJs4YPCdp"
      },
      "source": [
        "## Writing Secure Privileged Programs"
      ]
    },
    {
      "cell_type": "markdown",
      "metadata": {
        "id": "gILHoD0XbAXQ"
      },
      "source": [
        "operate with least priviletge\n",
        "\n",
        "general points on chagign a  process credentianls\n",
        "\n",
        "be careful when executing  aprogram\n",
        "\n",
        "avoid executing a shell  (or other interpeter ) with privileges\n",
        "\n",
        "close al uunnecesary file descriotr befor an exec()\n",
        "\n",
        "avoid exposign sentive information \n",
        "\n",
        "confine process\n",
        "cosidier usign cpabitlies\n",
        "\n",
        "consider using chroot jail\n",
        "\n",
        "\n",
        "beawere of signals and race  conditions\n",
        "\n",
        "pitfalls when perfmorin ffile oepratio and file i/o\n",
        "\n",
        "don't truest inptu or the environemnt\n",
        "\n",
        "hndle unsttrructe user inptus defensively \n",
        "\n",
        "avoid u nreliable assumptiosn about th eprocess' run time eenrivonrmetn\n",
        "\n",
        "beware of buffer overrruns\n",
        "\n",
        "beavior of defail of service attacks\n",
        "\n",
        "check return statuses and fail safely\n",
        "\n",
        "exercises \n",
        "\n",
        "38.1\n",
        "\n",
        "38.2"
      ]
    },
    {
      "cell_type": "markdown",
      "metadata": {
        "id": "ykyknrdgLfx_"
      },
      "source": [
        "## Capabilities"
      ]
    },
    {
      "cell_type": "markdown",
      "metadata": {
        "id": "AZTSrB5bLkBB"
      },
      "source": [
        "- User ID (0) Superuser.\n",
        "- when performing security checks in the kernel, the superuser privilege is divided into distinct units, called capabilities."
      ]
    },
    {
      "cell_type": "markdown",
      "metadata": {
        "id": "EKSW_U1PPMlS"
      },
      "source": [
        "## Login  Accounting"
      ]
    },
    {
      "cell_type": "markdown",
      "metadata": {
        "id": "r0VLf1vybwUJ"
      },
      "source": [
        "utmp file\n",
        "\n",
        "wtmp file\n",
        "\n",
        "utmpx API\n",
        "\n",
        "utmpx structure\n",
        "\n",
        "retriving gthe loging name: getlogin()\n",
        "\n",
        "the lastlog file\n",
        "\n",
        "\n",
        "exercise\n",
        "\n",
        "41.1\n",
        "\n",
        "40.2\n",
        "\n",
        "40.3\n",
        "\n",
        "40.4\n",
        "\n"
      ]
    },
    {
      "cell_type": "markdown",
      "metadata": {
        "id": "zjoszyMLPVUf"
      },
      "source": [
        "## Fundamentals of Shared Libraries"
      ]
    },
    {
      "cell_type": "markdown",
      "metadata": {
        "id": "nXpJtfRNcJ5L"
      },
      "source": [
        "object libraries\n",
        "\n",
        "includign debuffer ifnoremation when compilign a program\n",
        "\n",
        "static libraries\n",
        "\n",
        "creatin g and maintaing a sstatic library\n",
        "\n",
        "using a static library\n",
        "\n",
        "overiew of shared libraries\n",
        "\n",
        "craetin and using shared libraies a first pass\n",
        "\n",
        "creating a shared library\n",
        "\n",
        "position-indpent code\n",
        "\n",
        "using a shared library\n",
        "\n",
        "gcc -c -Wall -o prog prog.c libfoo.so\n",
        "\n",
        "nm \n",
        "\n",
        "redelf\n",
        "\n",
        "objdump\n",
        "\n",
        "\n",
        "LD_LIBRARY_PATH envirnometn variable\n",
        "\n",
        "static linking and dynamic liinkign constracted\n",
        "\n",
        "shared library soname\n",
        "\n",
        "usign tools for workign with shared libraries\n",
        "\n",
        "ldd\n",
        "\n",
        "shared libraeis versio nand namign conventions\n",
        "\n",
        "real names, sonames, and linker names\n",
        "\n",
        "instalign shared libraries\n",
        "\n",
        "compatible vs incompoatbile libraries\n",
        "\n",
        "upgradign shared librareis\n",
        "\n",
        "specifying library search directories in an object file\n",
        "\n",
        "usign the -rpath linker option when buildin g shared libarry\n",
        "\n",
        "the ELF DT_RPATH AND DTP_RUNPATH entires\n",
        "\n",
        "using $ORIGIN in rpath\n",
        "\n",
        "fidnign shared libraeris at run time\n",
        "\n",
        "run-time symbol resolution\n",
        "\n",
        "usign a static instead of a shred library\n",
        "\n",
        "\n",
        "exercise \n",
        "\n",
        "41.1\n"
      ]
    },
    {
      "cell_type": "markdown",
      "metadata": {
        "id": "Z4hQzQEWPZ4d"
      },
      "source": [
        "## Advanced Features of Shared Libraries"
      ]
    },
    {
      "cell_type": "markdown",
      "metadata": {
        "id": "0G76zCSMdnb8"
      },
      "source": [
        "dynamicaly loaded libraries\n",
        "\n",
        "openign a shared libary : dlopen()\n",
        "\n",
        "diagonig nerros: ddlerror()\n",
        "\n",
        "obtainign the addres of a symbol: dlsym()\n",
        "\n",
        "usign library peusuhandles with dlsym()\n",
        "\n",
        "closign a shared libary dlscclose()\n",
        "\n",
        "obtainign information about laoded ysmobls: dladdr()\n",
        "\n",
        "accesign symbols in the main program\n",
        "\n",
        "controling symbol visibility\n",
        "\n",
        "linker version scripts\n",
        "\n",
        "controling symbol visiblity with version scripts\n",
        "\n",
        "symbol version\n",
        "\n",
        "initializatio nand finalization of functions\n",
        "\n",
        "preolaoding shared libraries\n",
        "\n",
        "monitoring the dyamic linker: LD_DEBUG\n",
        "\n",
        "exercises\n",
        "\n",
        "42.1\n",
        "\n",
        "42.2"
      ]
    },
    {
      "cell_type": "markdown",
      "metadata": {
        "id": "F03P0f3yPfN0"
      },
      "source": [
        "## Interprocess Communication Overview"
      ]
    },
    {
      "cell_type": "markdown",
      "metadata": {
        "id": "XOoc0u6GeWxP"
      },
      "source": [
        " a taxonomy of IPC facilitie\n",
        "\n",
        " communication\n",
        "\n",
        " synchonization\n",
        "\n",
        " signals\n",
        "\n",
        " communiatio facitlies\n",
        "\n",
        "- data transfer facilties\n",
        "  - byte stream\n",
        "  - mesage\n",
        "  - pesuterminal\n",
        "- shared memroy\n",
        "\n",
        "\n",
        "synchonization facilities\n",
        "\n",
        "- semaphores\n",
        "- file locks\n",
        "- mutexed and condition variables\n",
        "\n",
        "comparing IPC facilities\n",
        "\n",
        "identifier and hadles for varois tyeps of IPC facilties\n",
        "\n",
        "functonality\n",
        "\n",
        "network comunication\n",
        "\n",
        "portability\n",
        "\n",
        "system v ipc design issues\n",
        "\n",
        "accesiblity\n",
        "\n",
        "persistance\n",
        "\n",
        "performace \n",
        "\n",
        "exercises\n",
        "\n",
        "43.1\n",
        "\n",
        "43.2"
      ]
    },
    {
      "cell_type": "markdown",
      "metadata": {
        "id": "MWL9WZV0PklW"
      },
      "source": [
        "## Pipes and FIFOs"
      ]
    },
    {
      "cell_type": "markdown",
      "metadata": {
        "id": "5Ye3H9LofAZH"
      },
      "source": [
        "what is  a pipe?\n",
        "\n",
        "ls | wc -l\n",
        "\n",
        "a pipe is a byte stream\n",
        "\n",
        "reading from a pie\n",
        "\n",
        "pippes aer unidirectional\n",
        "\n",
        "write of up to PIE_BUF bytes are guarded to be atomic\n",
        "\n",
        "pipes ahvejave a limited capacity\n",
        "\n",
        "crawectin g an dusing ppiipes\n",
        "\n",
        "pipes allow communication betwen related process\n",
        "\n",
        "close unused pipe file desciptors\n",
        "\n",
        "pipes as a method of process synchonization\n",
        "\n",
        "\n",
        "using pipes to conect filters\n",
        "\n",
        "talign to a shell comamdn via a pipe :  popen()\n",
        "\n",
        "pipes and stdio buffer\n",
        "\n",
        "fifos\n",
        "\n",
        "usign fifos and tee to craete a dual pipeline\n",
        "\n",
        "mkfifo \n",
        "\n",
        "tee\n",
        "\n",
        "a client server application usign fifos\n",
        "\n",
        "nonblocking i/o\n",
        "\n",
        "nonblocing read() and write()\n",
        "\n",
        "semantics of read() and write()  on pipes and FIFOs\n",
        "\n",
        "exercises\n",
        "\n",
        "44.1\n",
        "\n",
        "44.2\n",
        "\n",
        "44.3\n",
        "\n",
        "44.4\n",
        "\n",
        "44.5\n",
        "\n",
        "44.6\n",
        "\n",
        "44.7\n",
        "\n",
        "\n",
        "\n",
        "\n",
        "\n",
        "\n"
      ]
    },
    {
      "cell_type": "markdown",
      "metadata": {
        "id": "hWifC967PoMr"
      },
      "source": [
        "## Introduction to System V IPC"
      ]
    },
    {
      "cell_type": "markdown",
      "metadata": {
        "id": "tFm3udnpgELB"
      },
      "source": [
        "message queues\n",
        "\n",
        "semaphores \n",
        "\n",
        "sahred memroy\n",
        "\n",
        "api overview\n",
        "\n",
        "crating oan dopnign a YSTEM V IPC OBJECT\n",
        "\n",
        "IPC Keys\n",
        "\n",
        "generating a unique identifier with IPC_PRIVATE\n",
        "\n",
        "generating a unique key with ftok()\n",
        "\n",
        "assoociated data sturcutre adn object permisson\n",
        "\n",
        "ipc identifiers and client-server applications\n",
        "\n",
        "algoritym employd by system v ipc get calls\n",
        "\n",
        "the ipcs an dipcrm command\n",
        "\n",
        "obbtaining a list of all ipc objects\n",
        "\n",
        "ipc limits\n",
        "\n",
        "exercises\n",
        "\n",
        "45.1\n",
        "\n",
        "45.2\n",
        "\n",
        "45.3"
      ]
    },
    {
      "cell_type": "markdown",
      "metadata": {
        "id": "HDmlKBUYQKPN"
      },
      "source": [
        "## System V Message Queues"
      ]
    },
    {
      "cell_type": "markdown",
      "metadata": {
        "id": "vp6LyqjTgz08"
      },
      "source": [
        "what is a mesage queue\n",
        "\n",
        "exchanign mesages\n",
        "\n",
        "sendin gmesages\n",
        "\n",
        "recievin gmessages\n",
        "\n",
        "mesage queue control operations\n",
        "\n",
        "mesage quue asdociated data structure\n",
        "\n",
        "mesage queue limits\n",
        "\n",
        "displying all mesage queues on the sytsem\n",
        "\n",
        "client-server programmign with mesage queues\n",
        "\n",
        "usign a single queu efo rsrever and clients\n",
        "\n",
        "usign on e mesage queue per client\n",
        "\n",
        "a file-server aplicatio nusign message queus\n",
        "\n",
        "common header file\n",
        "\n",
        "server program msq\n",
        "\n",
        "client program msq\n",
        "\n",
        "disadvantage of syste mv mesage queues\n",
        "\n",
        "exercises\n",
        "\n",
        "46.1\n",
        "\n",
        "46.2\n",
        "\n",
        "46.3\n",
        "\n",
        "46.4\n",
        "\n",
        "46.5\n",
        "\n",
        "46.6"
      ]
    },
    {
      "cell_type": "markdown",
      "metadata": {
        "id": "XZWCkkuKQQs4"
      },
      "source": [
        "## System V Semaphores"
      ]
    },
    {
      "cell_type": "markdown",
      "metadata": {
        "id": "I-n_wud9hwXI"
      },
      "source": [
        "crating o ropnign aa smephore st\n",
        "\n",
        "semahpore contorl operations\n",
        "\n",
        "gneric ontrol operations\n",
        "\n",
        "retrievin gand initizlaing sempahroe values\n",
        "\n",
        "retiving per--semaphroe information\n",
        "\n",
        "semaphoer associated data sturcutre\n",
        "\n",
        "monitoring a semaphreo set\n",
        "\n",
        "semaphroe initizliation\n",
        "\n",
        "semaphore operations\n",
        "\n",
        "handlign of multipe blcoked sempahreo operaitons\n",
        "\n",
        "semaphore unod values\n",
        "\n",
        "SEM_UNDO\n",
        "\n",
        "Limitations of SEM_UNDO\n",
        "\n",
        "implentationa binary sempahreos protocol\n",
        "\n",
        "\n",
        "\n",
        "-*r eserve\n",
        "-r ealse\n",
        "-r everse conditionally\n",
        "\n",
        "\n",
        "semohre limtis\n",
        "\n",
        "disavatnage of system v semaphores\n",
        "\n",
        "exrecises\n",
        "\n",
        "47.1\n",
        "\n",
        "47.2\n",
        "\n",
        "47.3\n",
        "\n",
        "47.4\n",
        "\n",
        "47.5\n",
        "\n",
        "47.6\n",
        "\n",
        "47.7"
      ]
    },
    {
      "cell_type": "markdown",
      "metadata": {
        "id": "sD84ZrhvQVsl"
      },
      "source": [
        "## System V Shared Memory"
      ]
    },
    {
      "cell_type": "markdown",
      "metadata": {
        "id": "SMPEg-xxia9C"
      },
      "source": [
        "crating and opneing  ashred meory segment\n",
        "\n",
        "usign a sasahred mermoy\n",
        "\n",
        "transferin gdata via shared meory\n",
        "\n",
        "lcoatio of shared moery in viortual meroy\n",
        "\n",
        "storing poitner in shared meory \n",
        "\n",
        "sahred moery control oerpatins\n",
        "\n",
        "generic control operations\n",
        "\n",
        "lockgin and unlcoing share memory\n",
        "\n",
        "sahred memeory associated data structure\n",
        "share merory litmis\n",
        "\n",
        "exercise \n",
        "\n",
        "48.1\n",
        "\n",
        "48.2\n",
        "\n",
        "48.3\n",
        "\n",
        "48.4\n",
        "\n",
        "48.5\n",
        "\n",
        "48.6\n",
        "\n"
      ]
    },
    {
      "cell_type": "markdown",
      "metadata": {
        "id": "98Zw6spCQcEr"
      },
      "source": [
        "## Memory Mappings"
      ]
    },
    {
      "cell_type": "markdown",
      "metadata": {
        "id": "YDq90oDUjDwY"
      },
      "source": [
        "nmap()\n",
        "\n",
        "file mapping \n",
        "\n",
        "annonymous maping\n",
        "\n",
        "priagte maping\n",
        "\n",
        "shared mapping\n",
        "\n",
        "unmpapign ampaped region munmap()\n",
        "\n",
        "file mamping\n",
        "\n",
        "memory-mapped i/o\n",
        "\n",
        "ipc usign a shared file mapping \n",
        "\n",
        "dd if/dev/zeo of.stext bs1 coiunt=1024\n",
        "boundary cases\n",
        "\n",
        "meory procteion an dilfe acces smode insteraction\n",
        "\n",
        "synchonization a maped region: mscync()\n",
        "\n",
        "asdiontl mnpa() flgs\n",
        "\n",
        "remapping a mapped region(): mremap()\n",
        "\n",
        "map_nonreserve and sa pspace overcommiting\n",
        "\n",
        "the ooOM KILLER\n",
        "\n",
        "THE Map_fixed FLAG\n",
        "\n",
        "NONLIENAR MAPING: REMAP_FILE_PAGES()\n",
        "\n",
        "exercises\n",
        "\n",
        "49.1\n",
        "\n",
        "49.2\n",
        "\n",
        "49.3\n",
        "\n",
        "49.4\n",
        "\n"
      ]
    },
    {
      "cell_type": "markdown",
      "metadata": {
        "id": "pIlW1fToQeyN"
      },
      "source": [
        "## Virtual Memory Operations"
      ]
    },
    {
      "cell_type": "markdown",
      "metadata": {
        "id": "oFbZ7lovjxzx"
      },
      "source": [
        "mprotect(0\n",
        "\n",
        "mlock()\n",
        "\n",
        "mincore()\n",
        "\n",
        "madvise()\n",
        "\n",
        "exercises\n",
        "\n",
        "50.1\n",
        "\n",
        "50.2"
      ]
    },
    {
      "cell_type": "markdown",
      "metadata": {
        "id": "ckQrq5TPQhGs"
      },
      "source": [
        "## Introduction to POSIX IPC"
      ]
    },
    {
      "cell_type": "markdown",
      "metadata": {
        "id": "xkrV66Wrj98p"
      },
      "source": [
        "messages queeues\n",
        "\n",
        "semaphores\n",
        "\n",
        "share memory\n",
        "\n",
        "sumary of programign interface for posix ipc objects\n",
        "\n",
        "ipc objet anmes\n",
        "\n",
        "creatin gor opnein ga n ipc object\n",
        "\n",
        "chaing ipc object\n",
        "icp ojbbec tpermiison\n",
        "\n",
        "ipc deletion and object persistance\n",
        "\n",
        "listing and removing posix ipc object via the cmoand line\n",
        "\n",
        "compoilign progam stha tuse psox ipc on linux\n",
        "\n",
        "comparision of sytm v ipc and posix ipc \n"
      ]
    },
    {
      "cell_type": "markdown",
      "metadata": {
        "id": "10f_BZ_QQkIh"
      },
      "source": [
        "## POSIX Messages Queues"
      ]
    },
    {
      "cell_type": "markdown",
      "metadata": {
        "id": "LsU3ScrkkWwm"
      },
      "source": [
        "mq_open()\n",
        "\n",
        "mq_send()\n",
        "\n",
        "mq_recieve()\n",
        "\n",
        "mq_close()\n",
        "\n",
        "mq_unlink()\n",
        "\n",
        "mq_nofity()\n",
        "\n",
        "mq_setattr()\n",
        "\n",
        "effect of fork, exect and proceds termination on mesage queues descriotprs\n",
        "\n",
        "clsoign a mesage queue\n",
        "\n",
        "removign a mesage queue\n",
        "relation shipg bettwe ndesctiprs an dmesage queues\n",
        "\n",
        "mesage queue atributes\n",
        "\n",
        "setting meessate que atributes\n",
        "retrivieng emsag que atributes\n",
        "\n",
        "moidifygn emsag queue atributes\n",
        "\n",
        "enxahign mesages\n",
        "\n",
        "sengin and recienv mesasge ith a timeout\n",
        "\n",
        "mesage notification\n",
        "\n",
        "recivieng nnotifion via a signal\n",
        "\n",
        "linxu speici fffaetures\n",
        "\n",
        "recievin notifaction via thrad\n",
        "\n",
        "dispaling and deletin gmesage queue objects iva the commadn line\n",
        "\n",
        "mesage queue limtis\n",
        "\n",
        "compariosn of poisi xan dystem v mesage queus\n",
        "\n",
        "exercises \n",
        "52.1\n",
        "\n",
        "52.2\n",
        "\n",
        "52.3\n",
        "\n",
        "52.4\n",
        "\n",
        "52.5\n",
        "\n",
        "52.6\n",
        "\n",
        "52.7"
      ]
    },
    {
      "cell_type": "markdown",
      "metadata": {
        "id": "FgCB8Jw0QnJS"
      },
      "source": [
        "## POSIX Semaphores"
      ]
    },
    {
      "cell_type": "markdown",
      "metadata": {
        "id": "eqGu9D1UlQJE"
      },
      "source": [
        "asme semaphreos\n",
        "\n",
        "\n",
        "unnmaes sempahroes\n",
        "\n",
        "closgns smpahr\n",
        "\n",
        "removign a nsmepa semaphores\n",
        "\n",
        "semaphreos operatons\n",
        "\n",
        "wiaitng on a sempahroe\n",
        "\n",
        "posting a semahore\n",
        "\n",
        "retivie the current value of semaphore\n",
        "\n",
        "unnamed semphroes\n",
        "\n",
        "initizliatin an dunaemmd sempahreo\n",
        "\n",
        "destoryng an unamed semphore\n",
        "\n",
        "comparison with other synochization thenqueis\n",
        "\n",
        "spoixis sempahreos versys systm sempahreo\n",
        "\n",
        "psoi  sermapryheos vs pthrad mutexes\n",
        "\n",
        "semapytoes limits\n",
        "\n",
        "exercises \n",
        "\n",
        "53.1\n",
        "\n",
        "53.2\n",
        "\n",
        "53.3\n",
        "\n",
        "53.4"
      ]
    },
    {
      "cell_type": "markdown",
      "metadata": {
        "id": "V8ECKVX6QxqW"
      },
      "source": [
        "## POSIX Shared Memory"
      ]
    },
    {
      "cell_type": "markdown",
      "metadata": {
        "id": "9M6GI8qzlvK0"
      },
      "source": [
        "creatin ga shre mory object\n",
        "\n",
        "usign shared mory objcts'\n",
        "\n",
        "removign sahred meory object\n",
        "comnparin betwen shard moery apis\n",
        "\n",
        "exercise\n",
        "\n",
        "54.1"
      ]
    },
    {
      "cell_type": "markdown",
      "metadata": {
        "id": "fMejWV44Q0C0"
      },
      "source": [
        "## File Locking"
      ]
    },
    {
      "cell_type": "markdown",
      "metadata": {
        "id": "gsdMWufZl6wl"
      },
      "source": [
        "mixng lockign and stdio function\n",
        "\n",
        "advisoty andmandatory locking \n",
        "\n",
        "file lcokgin with flock(0\n",
        "\n",
        "sematnic s of lock ihnhreitnce and realease\n",
        "\n",
        "limitation sof flock()\n",
        "\n",
        "r3cord lockign witwh fcntl(0\n",
        "\n",
        "the flock structure\n",
        "\n",
        "the cmd argument\n",
        "\n",
        "dadlock\n",
        "\n",
        "lock limtis an dperfomrce\n",
        "\n",
        "sematic of lock inherinace an dralseas\n",
        "\n",
        "lock strvina dn prioof queus lock reust\n",
        "mandarotry locking \n",
        "\n",
        "efect of mandary lockign on file i/o oerations\n",
        "\n",
        "madarto lockgin caverats \n",
        "\n",
        "the /proc/locks file\n",
        "\n",
        "runing just one isntance of aprogram\n",
        "\n",
        "exercises \n",
        "\n",
        "55.1\n",
        "\n",
        "55.2\n",
        "\n",
        "55.3\n",
        "\n",
        "54.4\n",
        "\n",
        "55.53\n",
        "\n",
        "56.6\n",
        "\n",
        "55.7\n",
        "\n",
        "55.8\n",
        "\n",
        "55.9\n",
        "\n",
        "55.10"
      ]
    },
    {
      "cell_type": "markdown",
      "metadata": {
        "id": "EliNtXw1Q2Xs"
      },
      "source": [
        "## Sockets: Introduction"
      ]
    },
    {
      "cell_type": "markdown",
      "metadata": {
        "id": "05VplKAcRCmR"
      },
      "source": [
        "Sockets are a method of IPC (Inter Process Comunnication) that allow data to be exchagne between applications either on the same (computer) or on different hosts conected by a network.\n",
        "\n",
        "- socket ~ (bound) name\n",
        "- socket()\n",
        "- bind()\n",
        "- listen()\n",
        "- accept()\n",
        "- connect()"
      ]
    },
    {
      "cell_type": "markdown",
      "metadata": {
        "id": "C5PltkNlQ6R_"
      },
      "source": [
        "## Sockets: Fundamentals of TCP/IP Networks"
      ]
    },
    {
      "cell_type": "markdown",
      "metadata": {
        "id": "FFK_NMjjmyFj"
      },
      "source": [
        "internetworking \n",
        "\n",
        "subnetwork\n",
        "netorking protocol\n",
        "data-link layer\n",
        "\n",
        "ip\n",
        "\n",
        "ip transmits dta grams \n",
        "\n",
        "ip is conectionless an unreliable\n",
        "\n",
        "ip may fragmetn dtagrams\n",
        "ip adress iv4 adrss\n",
        "\n",
        "ivp6 adress\n",
        "\n",
        "the ptanspaor layer \n",
        "\n",
        "por tnumbers\n",
        "\n",
        "wlekk nomn register, and priviledge ports\n",
        "ephemeral ports\n",
        "\n",
        "user datatarm progtocl ()udp\n",
        "\n",
        "seleti ngan upd pdatagram ize of aovi dip fragmentadtion \n",
        "\n",
        "\n",
        "connectin seestablishmetn \n",
        "\n",
        "packgin of data in segmetn\n",
        "\n",
        "ackolegemetn,s retransmissison, and timeuts\n",
        "\n",
        "sequetuencing\n",
        "\n",
        "flow contorl\n",
        "congestion control: slow-start and congestion-avoidance algorithms\n",
        "\n",
        "tranmisaton control proocl (TCP)\n",
        "\n",
        "requeest for commets (RFCs)\n",
        "\n"
      ]
    },
    {
      "cell_type": "markdown",
      "metadata": {
        "id": "JnHjmiVTQ_1J"
      },
      "source": [
        "## Sockets: Internet Domains"
      ]
    },
    {
      "cell_type": "markdown",
      "metadata": {
        "id": "nJq1vPI_nesE"
      },
      "source": [
        "neowrk layer beyt order\n",
        "\n",
        "data rpersetnation\n",
        "\n",
        "data repreztntion\n",
        "\n",
        "ineternet socket adresss\n",
        "\n",
        "hos tandm server conversion functions\n",
        "\n",
        "inet_pton(), inet_ntop()\n",
        "\n",
        "clietn-server datagram sockets\n",
        "domain snaem system (dns)\n",
        "\n",
        "resuveiv eand iteractic reoslution requets'\n",
        "\n",
        "/etc/servies file\n",
        "\n",
        "protocol idepentn d host and service conversion\n",
        "\n",
        "an itnern domain sockets library\n",
        "\n",
        "unix versus itnernt domain sockets"
      ]
    },
    {
      "cell_type": "markdown",
      "metadata": {
        "id": "tB4YDb3XRg9l"
      },
      "source": [
        "## Sockets: Server Design"
      ]
    },
    {
      "cell_type": "markdown",
      "metadata": {
        "id": "fSGNyayroFkZ"
      },
      "source": [
        "inerative\n",
        "\n",
        "concurrent\n",
        "\n",
        "udp echo server\n",
        "\n",
        "conrurent tc pecho server\n",
        "\n",
        "otehr concurent server deitg\n",
        "inetd (intenret superserver ) daemon\n",
        "\n",
        "server fams\n",
        "\n",
        "oerpatin tof the inetd damon \n",
        "\n",
        "the /etc/inetd.conf\n",
        "\n",
        "\n",
        "\n",
        "redrtcvird \n",
        "\n",
        "60.1\n",
        "\n",
        "60.2"
      ]
    },
    {
      "cell_type": "markdown",
      "metadata": {
        "id": "B4PFB_THRjVB"
      },
      "source": [
        "## Sockets: Advanced Topics"
      ]
    },
    {
      "cell_type": "markdown",
      "metadata": {
        "id": "sBMI0GM7ocj4"
      },
      "source": [
        "particl arad adn write o stream sockets\n",
        "\n",
        "the shtudown system scall\n",
        "\n",
        "socket-specif ci/o ssetm calls: recv adn send\n",
        "\n",
        "sendfile system call\n",
        "\n",
        "retierivn gsocket addresses\n",
        "\n",
        "a close t look at tcp\n",
        "\n",
        "format of a tcp segment\n",
        "\n",
        "tcp sequent numbers and acklegemtns \n",
        "\n",
        "tcp state machine an state transition diagram\n",
        "\n",
        "tcp connection establishmetn\n",
        "\n",
        "tcp coenction termination\n",
        "\n",
        "shutdown() on a tcp socket\n",
        "the time_wait state\n",
        "\n",
        "monitoring sockts: netstat\n",
        "\n",
        "usign tcpdumpt to mintoring tcp traffic\n",
        "\n",
        "socket options\n",
        "\n",
        "the SO_REUSEADDR socket option\n",
        "\n",
        "inhernact of glas an doptiosn across accept(0\n",
        "\n",
        "tcp vs udp\n",
        "\n",
        "out*-of and data\n",
        "\n",
        "sendmsgt, recvmsg system calls\n",
        "\n",
        "ppassing file descritpos\n",
        "\n",
        "recieving serdner creditna\n",
        "\n",
        "sequenc packte socotps\n",
        "\n",
        "scpt , adn dccp tarnsport layer protocols\n",
        "\n",
        "exercixes\n",
        "61.1\n",
        "\n",
        "61.2\n",
        "\n",
        "61.3\n",
        "\n",
        "61.4\n",
        "\n",
        "61.5\n",
        "\n",
        "\n",
        "\n",
        "\n",
        "\n",
        "\n"
      ]
    },
    {
      "cell_type": "markdown",
      "metadata": {
        "id": "i3FDatayRmSX"
      },
      "source": [
        "## Terminals"
      ]
    },
    {
      "cell_type": "markdown",
      "metadata": {
        "id": "Y7-AwRAxpb-u"
      },
      "source": [
        "retievign andmonfifn termina strtritubes\n",
        "\n",
        "sttdy comand\n",
        "\n",
        "termianl special characters\n",
        "\n",
        "terminal flags\n",
        "\n",
        "terminal i/o modes\n",
        "\n",
        "canocmcal mode\n",
        "\n",
        "noncanonicam mode\n",
        "\n",
        "cooked, cbbrak, and row modes\n",
        "\n",
        "terminal line speed (bit rate)\n",
        "\n",
        "terminal line control\n",
        "\n",
        "terminal widow size\n",
        "\n",
        "termial identification\n",
        "\n",
        "exercises\n",
        "61.1\n",
        "\n",
        "61.2\n",
        "\n",
        "61.3\n",
        "\n",
        "61.4\n",
        "\n",
        "\n"
      ]
    },
    {
      "cell_type": "markdown",
      "metadata": {
        "id": "Aq5VtyqnMXBV"
      },
      "source": [
        "## Alternatives I/O Models"
      ]
    },
    {
      "cell_type": "markdown",
      "metadata": {
        "id": "7afgIreJMY0c"
      },
      "source": [
        "- Common I/O Model under which a process performs I/O on just one file descriptor at a time, an each I/O system cal blocks unitl the data is tarnsfered.\n",
        "\n",
        "- The kernel employs the \"buffer cache\" to speed disk I/O requests.\n",
        "\n",
        "- The traditional I/O blocking model is useful, but what about this use cases:\n",
        "  - check wheater I/O possible on a file descriptor without blocoing if it is not possible.\n",
        "  - Monitor multiple file desctiotors to sse if I/O is possible on any of them\n",
        "\n",
        "- select()\n",
        "- poll()\n",
        "- signal driven I/O\n",
        "- I/O multiplexing\n",
        "  - multiplexing \n",
        "  - demultiplexing"
      ]
    },
    {
      "cell_type": "markdown",
      "metadata": {
        "id": "HKKCnYXKNZOE"
      },
      "source": [
        "##  Pseudoterminals"
      ]
    },
    {
      "cell_type": "markdown",
      "metadata": {
        "id": "eBJvNSRhNbL6"
      },
      "source": [
        "A pseudoterminal is a (virtual device) that provides  an IPC channel. One end of the chanel is aprogram that accepts to be connected to a terminal tdevice. On the other  end is aprogram that derives the terminal oritned program by using the chanel to send it input and read as output.\n",
        "\n",
        "orogram -> [ipc channel] program\n",
        "<pre>           ssh \n",
        "</pre>\n",
        "\n",
        "Program \n",
        "- send input\n",
        "- read output\n",
        "\n"
      ]
    },
    {
      "cell_type": "markdown",
      "metadata": {
        "id": "R1Vdn4YPRtQL"
      },
      "source": [
        "## Tracing System Calls"
      ]
    },
    {
      "cell_type": "markdown",
      "metadata": {
        "id": "2iMs1QV_qKuE"
      },
      "source": [
        "strace"
      ]
    },
    {
      "cell_type": "markdown",
      "metadata": {
        "id": "W5oJk-2VR0bY"
      },
      "source": [
        "## Tracing System Calls"
      ]
    },
    {
      "cell_type": "markdown",
      "metadata": {
        "id": "PfqQhumCqQoB"
      },
      "source": [
        "strace"
      ]
    },
    {
      "cell_type": "markdown",
      "metadata": {
        "id": "JZcCqRDQR2uW"
      },
      "source": [
        "## Parsing Command-Line Options"
      ]
    },
    {
      "cell_type": "markdown",
      "metadata": {
        "id": "0bs3E0p8qRv3"
      },
      "source": [
        "command [options] argumetns\n",
        "\n",
        "getopt"
      ]
    },
    {
      "cell_type": "markdown",
      "metadata": {
        "id": "6fznK7NkR6Ym"
      },
      "source": [
        "## Casting the NULL Pointer"
      ]
    },
    {
      "cell_type": "markdown",
      "metadata": {
        "id": "3RvXtyToqYgj"
      },
      "source": [
        ""
      ]
    },
    {
      "cell_type": "markdown",
      "metadata": {
        "id": "G2Vr9uNtSIk2"
      },
      "source": [
        "## Kernel Configuration"
      ]
    },
    {
      "cell_type": "markdown",
      "metadata": {
        "id": "qUUvgB0bqaik"
      },
      "source": [
        ""
      ]
    },
    {
      "cell_type": "markdown",
      "metadata": {
        "id": "MIfkT8nESK5m"
      },
      "source": [
        "## Futher Sources of Information"
      ]
    },
    {
      "cell_type": "markdown",
      "metadata": {
        "id": "w2SIwbcaqdhf"
      },
      "source": [
        "maninfo\n",
        "\n",
        "- programs and shell comands\n",
        "\n",
        "- system clals\n",
        "\n",
        "- special files\n",
        "\n",
        "- file formats\n",
        "\n",
        "\n"
      ]
    }
  ]
}