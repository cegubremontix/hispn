{
  "nbformat": 4,
  "nbformat_minor": 0,
  "metadata": {
    "kernelspec": {
      "display_name": "Python 2.7.18 64-bit",
      "name": "python2718jvsc74a57bd0f92b2924b84ff19c1c3dc485f7644d4486f64738191026bf8e6de303969141b5"
    },
    "language_info": {
      "name": "python",
      "version": ""
    },
    "metadata": {
      "interpreter": {
        "hash": "f92b2924b84ff19c1c3dc485f7644d4486f64738191026bf8e6de303969141b5"
      }
    },
    "orig_nbformat": 2,
    "colab": {
      "name": "Operating Systems - Design and Implementation.ipynb",
      "provenance": [],
      "toc_visible": true,
      "include_colab_link": true
    }
  },
  "cells": [
    {
      "cell_type": "markdown",
      "metadata": {
        "id": "view-in-github",
        "colab_type": "text"
      },
      "source": [
        "<a href=\"https://colab.research.google.com/github/dbremont/Notas/blob/main/Libros/Computacion/Operating%20Systems%20-%20Design%20and%20Implementation.ipynb\" target=\"_parent\"><img src=\"https://colab.research.google.com/assets/colab-badge.svg\" alt=\"Open In Colab\"/></a>"
      ]
    },
    {
      "cell_type": "markdown",
      "metadata": {
        "id": "iVNc4HCb6V1Z"
      },
      "source": [
        "# Operating Systems - Design and Implementation"
      ]
    },
    {
      "cell_type": "markdown",
      "metadata": {
        "id": "ZG5OWGw-Hl5j"
      },
      "source": [
        "## Introduction"
      ]
    },
    {
      "cell_type": "markdown",
      "metadata": {
        "id": "Uj43gHDnRkYF"
      },
      "source": [
        "What are the two main functions of an operating system?\n",
        "\n",
        "What is the difference between kernel mode and user mode? Why is the difference important to an operative system?\n",
        "\n",
        "What is multiprogramming?\n",
        "\n",
        "What is spooling? Do you think that advanced personal computers will have spooling as a standard feature in the future?\n",
        "\n",
        "On early computers, every byte of data read or written was directly handled by the CPU (i.e, there was no DMA-Direct Memory Acess). What implications does this organization have for multiprograming?\n",
        "\n",
        "Why was timesharing not widespread on second-generation computers?\n",
        "\n",
        "Which of the following insturctions should be allowed only in the kernel mode?\n",
        "- Disable all interrupts,\n",
        "- Read the time-of-day clock,\n",
        "- Set the time-of-day clock,\n",
        "- Change the memory map\n",
        "\n",
        "List some differences between personal computer operating system and mainframe operative systems\n",
        "\n",
        "Give on reason gwhy a closed-source proprietary operating system like Windows shouyld have better quality than an open-source operating system like Linux. Now give one reason why an open-source operating system like Linux should have better quality than a closed-source proprietary operatinve system like Windows\n",
        "\n",
        "A Minix file whose owner has UID = 12, and GID = 1 has mode rwxr-x---. Another user with UID =6, GUID = 1, tries to execute the file. What will happen?\n",
        "\n",
        "In view of the fact that the mere existence of a superuser can lead to all kinds of security problems, why does such a concept exists?\n",
        "\n",
        "All versions of Unix support file naming using both absolute paths (relative to the root) and relative paths (relative to the working directory). Would it be possible to dispose of one of these and just use the other? If so, which would you suggest keeping?\n",
        "\n",
        "Why is the process table needed in a timesharing system? It is also needed in personal computer systems in which only one process exists, that process taking over the entire machine until it is finished?\n",
        "\n",
        "What is the essential difference between a block special file and a character special file?\n",
        "\n",
        "In Minix3 if user 2 links to a file owne by user 1, then user 1 removes the file, what happend when user 2 tries to read the file?\n",
        "\n",
        "Are pipes an essential facility? Would major functionality be lost if they were not availabe?\n",
        "\n",
        "Modern computer appliances such as stereos and digital camaras often have a display where commands can be entered and the results of entering those commands can be viewed. These devices often have a primitive operating system inside. To what part of a personal computer software is the command processing via the stereo or camara's display similar to?\n",
        "\n",
        "Windows does not have a fork system call, yet it is able to create new processes. Make an educated guess about the semantics of the system call Windows uses to crate new processes\n",
        "\n",
        "Why is the `chroot` system call limited to the superuser? (Hint. Think about protection problems)\n",
        "\n",
        "Examine the list of system calls in Fig. 1-9. Which call do you think is likely to execute most quickly.  Explain your answer\n",
        "\n",
        "Suppose that a computer can execute 1 billion instructions/sec adn that a system call takes 1000 instructions, including the trap and all the context switching. How many system calls can the computer execute per second and still have half the CPU capacity for running application code?\n",
        "\n",
        "There is a `mknod` system call in Fig. 1-16 but there is no `rnmod` call. Does this mean that you have to be very, very careful about making nodes this way becuase there is no way to every remove them?\n",
        "\n",
        "Why does MInix 3 have the program `update` running in the background all the time?\n",
        "\n",
        "Does it ever make any sense to ignore the `SIGALRM` signal?\n",
        "\n",
        "There client-server model is popular is distributed systems. Can it also be used in a single computer system?\n",
        "\n",
        "The initial versions of the Pentium could no support a virtual machine monitor. What essential characteristic is needed to allow a machine to be virtualize?\n",
        "\n",
        "Write a program (or series of programs) to test al the Minix 3 systems calls. For each call, try various set of parameters, including some incorrect, to see if they are detected.\n",
        "\n",
        "Write a shell that is simular to Fig. 1-10 but contains enough code that is actually works so you can test it. You might also add some features such as redirection of input and output, pipes, and background jobs."
      ]
    },
    {
      "cell_type": "markdown",
      "metadata": {
        "id": "tQzTBOnd-voE"
      },
      "source": [
        "## Processes"
      ]
    },
    {
      "cell_type": "markdown",
      "metadata": {
        "id": "M4WRtRi8-2gs"
      },
      "source": [
        "### Introduction to Processes"
      ]
    },
    {
      "cell_type": "markdown",
      "metadata": {
        "id": "QrXPPLWW-3ZE"
      },
      "source": [
        "**Implementing Processes**\n",
        "\n",
        "- To implement the *process model* the os maintains a an array of structures called a *process table* / *process control blocks*, with one entry per process.\n",
        "\n",
        "- This entry contains information about th  process 'state', its program counter, stack pointer, memory allocation, the status of its open files, its accounting and scheduling information, alarms and other signals, and everything else about the process that must be saved when the process is switched from *running to ready* state so that it can be restarted later as if it had never been stopped.\n",
        "\n",
        "- Is some implementations the *process table* is partitions throughout the components.\n",
        "\n",
        "- Interrupt descriptor table\n",
        "- Interrupt vector.\n",
        "\n",
        "\n",
        "**Threads**\n",
        "\n",
        "- In traditional operating systems, each process has an address space and a single thread of control. \n",
        "\n",
        "- Some times there are multipleds *threads of control* in the same adress space running in quasi-parallel as trhough they were separete processes. These threads of control are usually just called *threads* or *lightweight processes*. \n",
        "\n",
        "- *Processes* are used to group resources together, *threads* are the entities schedules for execution on the CPU.\n",
        "\n",
        "- Thread table.\n",
        "\n",
        "- "
      ]
    },
    {
      "cell_type": "markdown",
      "metadata": {
        "id": "xtxizh20ypW8"
      },
      "source": [
        "### Interprocess Communication"
      ]
    },
    {
      "cell_type": "markdown",
      "metadata": {
        "id": "_GPfp5PRywzQ"
      },
      "source": [
        "### Classical IPC Problems"
      ]
    },
    {
      "cell_type": "markdown",
      "metadata": {
        "id": "ANN0MwTgy0DG"
      },
      "source": [
        "### Scheduling"
      ]
    },
    {
      "cell_type": "markdown",
      "metadata": {
        "id": "6dIgQNhby2zY"
      },
      "source": [
        "### Overview of Processes in Minix 3"
      ]
    },
    {
      "cell_type": "markdown",
      "metadata": {
        "id": "v_u6lcNey7T7"
      },
      "source": [
        "### Implementation of Processes in Minix 3"
      ]
    },
    {
      "cell_type": "markdown",
      "metadata": {
        "id": "nY6lhkQ3y_a2"
      },
      "source": [
        "### The System Task in Minix 3"
      ]
    },
    {
      "cell_type": "markdown",
      "metadata": {
        "id": "5Xwv6rb8zC0Z"
      },
      "source": [
        "### The Clock Task in Minix 3"
      ]
    },
    {
      "cell_type": "markdown",
      "metadata": {
        "id": "BXEyM02AnIQ3"
      },
      "source": [
        "Why is multiprogramming central to the operation of a modern operative system?\n",
        "\n",
        "What are the three main states that a process can be in? Describe the meaning of each one briefly\n",
        "\n",
        "Suppose that you were to design an advanced  computer architecture that did process switching in hardware, instead of having interrupts. What information would the CPU need? Describe how the hardware process switching might work.\n",
        "\n",
        "On all  current computers, at leat part of the interrupt handlers are written is assembly langauge. Why?\n",
        "\n",
        "Redraw Fig.2-2 adding two new states: New and Terminated.  When a process is created, it is initially in the New state. When it exists, it is in the Terminated state.\n",
        "\n",
        "In the text was stated that the model of Fig.2-6(a) was not suited to a file server using a cache in memory. Why not? Could each process have its own cache?\n",
        "\n",
        "What is the fundamental difference between a proces and a thread?\n",
        "\n",
        "In a system with threads, is there normally one stack per thread or one stack per process? Explain\n",
        "\n",
        "What is a race condition?\n",
        "\n",
        "Give an example of a race condition that could possibly occur when buying airplane tickets for two people to go on a trip together.\n",
        "\n",
        "Write a shell script that produces a file of sequential numbers by reading the last number in the file, adding 1 to it, and the appending to the file. Run one instance of the script in the background and one in the foreground, each accesing the same file. How long does it take before a race condition manifest itself? What is the critical section? Modify the script to prevent the race (Hint. use in the file file.lock to lock the data file)\n",
        "\n",
        "Is a statement  like `In file file.lock` an efective locking mechanism for a user program like the scripts used in the previous problem? Why (or why not)?\n",
        "\n",
        "Does the busy waiting solution using the `turn` variable (Fig. 2-10) work when the two processes are runnig  on a shared-memory multiprocessor, that is, two CPUs, sharing a common memory?\n",
        "\n",
        "Consider a computer that does not have a `TEST AND SET LOCK` instruction but does have an instruction to swap the contents of  a register and a memory word in a single indivisible action. Can that be used to write a routine `enter_region` such as the one found in Fig. 2-12?\n",
        "\n",
        "Give a sketch of how an operating system that can disable interrupts could implement semaphores\n",
        "\n",
        "Show how counting semaphores (e.i semaphores that can hold an arbitrarily large value) can be implemented using only binary semaphores and ordinary machine instructions.\n",
        "\n",
        "In the Sec. 2.2.4, a situation with a high-priority process, H, and low-priority process, L, was described, which led to H looping forever. Does the same problem occur if round-robin scheduling is used instead of priority scheduling? Discuss\n",
        "\n",
        "Synchronization within monitors uses condition variables and two special operations, `WAIT` and `SIGNAL`. A more general form of synchonization would be have a single primitive, `WAITUNTIL`, that  had an arbitrary Boolean predicate as paramter.\n",
        "\n",
        "- Thus, one would say, for example,\n",
        "- `WAITUNTIL x < 0 or y +z < n`\n",
        "- The `SIGNAL` primitive would no longer be needed. This scheme is clearly more general than that of Hoare or Brich Hassen, but it is ot used. Why not (Hint. think about the implementation)\n",
        "\n",
        "A fast food restaurant has four kinds of employees: (1) order takes, who take customer's orders; (2) cooks, who prepare the food; (3) packaging specialist, who stuff the food into bags, and (4) cashiers, who give the bags to customers and take their money. Each employee can be regarded as a communicating sequential process. What form of interprocess communication do they use? Relate this model to process in Minix 3.\n",
        "\n",
        "Suppose that we have a message-passing system using mailboxes. When sending toa full mailbox or trying to recieve from an empty one, a process does not block. Instead, it gets an error code back. The process respond to the error code by just trying again, over and over, until it suceeds. Does this scheme lead to race conditions?\n",
        "\n",
        "In the solution to the dinig philosophers problem (Fig 2-20) why is the sate variable set to HUNGRY in the proces `take_forks`?\n",
        "\n",
        "Consider the procedure `put_forks` in Fig 2-20. Suppose that the variable state[i] was set THINKING after the two calls to test, rather than before. How would this change affect the solution for the case of 3 philosophers? For 100 philosophers?\n",
        "\n",
        "Three readers and writers problem can be formuluted in several ways with regard to with category of processes can be started when. Carefully describe three different variations of the problem, each one favoring (or not favoring) some category of processes. For each variation, specify what happends when a reader or a writer becomes ready to access the data base, adn what happends when a process is finished using the data base\n",
        "\n",
        "The CDC 6600 computers could handle up 10/10 processes simultaneously using an interesting from a round-robing schedulign called **processor sharing**. A process switch occured after each instruction, so instruction  1 came from process 2, etc. The process switching was done by special hardware, and the overhead was zero. If a process needed T sec to complete in the absence of competion, how much time would it need processor sharing was used with n processes?\n",
        "\n",
        "Round-robin schedulers normally maintain a list of all runnable processes, with each process occurring exacly once in the list. What would happen if a process occured twice in the list? Can you think of any reason for allowing this?\n",
        "\n",
        "Measurements of a certain system have shown that the average process runs for a time `T` before blocking on I/O. A process switch requires a time `S`, which is effectively wasted (overhead). For round-robin scheduling with quantum `Q`, give a formula for the CPU efficiency for each of the following\n",
        "- $Q = \\infty$\n",
        "- $Q > T$\n",
        "- $S < Q < T$\n",
        "- $Q = S$\n",
        "- $Q$ nearly $O$\n",
        "\n",
        "Five jobs are waiting to be run. Their average run times are 6,6,3,5 and `X`. In what order should they to run to minimize average response time? (Your answer wil depend on X)\n",
        "\n",
        "Five batch job A through E, arrive at a computer center at almost the same time. They have estimated runinng tims of 10, 6, 2, 4, and 8 minutes. Their (externally determined) priorities are 3, 5, 2, 1 and 4, respectively, with 5 being the highest priority. For each of the following scheduling algorithms, determine the mean process turnaround time. Ignore process switching overhead. \n",
        "\n",
        "- Round robin,\n",
        "- Priority scheduling,\n",
        "- First-come, first-served (run in order 10, 6, 2, 4, 8)\n",
        "- Shortest job first\n",
        "\n",
        "- For (a), assume the system in multiprogrammed, and that each job its fair shape of the CPU. For (b) through (d) assume that only on job at a time runs, until it finishes. All jobs are completly CPU bound\n",
        "\n",
        "A process running on CTSS needs 30 quanta to complete. How many times must it be swapped in, including the very first time (before it has run at all)?\n",
        "\n",
        "The aging algorithm with $a = 1/2$ is being used to predict  run times. The previous four runs, from oldest to most recent, are 40, 20, 40 and 15 msec. What is the prediction of the next time?\n",
        "\n",
        "In Fig 2-25 we saw how three-level scheduling works in a batch system. Could this idea be applied to an interactive system without newly-arriving jobs? How?\n",
        "\n",
        "Suppose that the threads of Fig. 2-28(a) are run in the order: one from A, one from B, one from B, etc. How many possible thread sequences are there for the first four times scheduling is done?\n",
        "\n",
        "A spft real-time system has four periodic events which periods of 50, 100, 200, and 250 msec each. Suppose that the four events requiere 35, 20, 10, and x msec of CPU time, respectively. What is the largest value of `x` for which the system is schedulable?\n",
        "\n",
        "During execution, Minix 3 maintains a variable `proc_ptr` that points to the process table entry for the current. Why?\n",
        "\n",
        "Minix 3 does not buffer messages. Explain how this design decision causes problems with clock and keyboard interrupts.\n",
        "\n",
        "When a message is send to a sleeping in Minix 3, the procedure ready is called to put the proces on the proper scheduling queue. This procedure starts out by disabling interrupts. Explain\n",
        "\n",
        "The Minix 3 produce `mini_rec` contains a loop. Explain what it is for.\n",
        "\n",
        "Minix 3 essentially uses the scheduling method in Fig 2-43, with different priorities for classes. The lowest class (user processes) has round-robin scheduling, but the tasks and servers always are allowed to run until they block. Is it possible for processes in the lowest class to starve? Why (or why not)?\n",
        "\n",
        "In the Minix 3 suitable for real-time applications, such as data logging? If not, what could be done to make it so?\n",
        "\n",
        "Assume that you have an operating system that provides semaphores. Implement a message system. Write the procedures for sending and recieving messages.\n",
        "\n",
        "Solve the dining philosophers problem using monitors instead of semaphores.\n",
        "\n",
        "Modify Minix 3 to collect statistics about messages send by whom to whom and write a program to collect and print these statistics in a useful way."
      ]
    },
    {
      "cell_type": "markdown",
      "metadata": {
        "id": "u6y-99RFHn3M"
      },
      "source": [
        "## Input/Output"
      ]
    },
    {
      "cell_type": "markdown",
      "metadata": {
        "id": "cQBhbw8wQRQX"
      },
      "source": [
        "- A 1x DVD reader can deliver data a rate of 1.32 Mb/sec. What is the highest speed DVD driver that could be connected over a USB 2.0 connection without losing data?\n",
        "\n",
        "- Many disks contain an ECC at the end of each sector. If the ECC is wrong, what actions might be taken and by which piece of hardware or software?\n",
        "\n",
        "- What is memory-mapped I/O? Why is it sometimes used?\n",
        "\n",
        "- Explain what DMA is and why is used?\n",
        "\n",
        "- Although DMA does not use the CPU, the maximum transfer rate is still limited. Consider reading a block from the disk. Name three factors that might ultimately limit the rate of transfer\n",
        "\n",
        "- CD-quality music requires smapling the sound signal 44,100 per second. Supose that a timer generates an interrupt at this rate and that each interrupt takes 1 microsec to handle on a 1-GHz CPU. What is the lowest clock rate that coul dbe used and not lose any data? Assume that the number of instructions to be processed for an interrupt is constant, so having the clock speed doubles the interrupt handling time.\n",
        "\n",
        "- Al alternative to interrupts is polling. Are there any circumstances you can think of in which polling is better choice?\n",
        "\n",
        "- Disk controllers have internal buffers and they are getting larger which each new model? Why?\n",
        "\n",
        "- Each device driver has two differnt interfaces iwth the operating system. One interface is a st of ucntion calls tthat the oprating system makes on the driver. The other is the set of calls that the driver makes on the operating gsytem. Name one likely cal in each interface\n",
        "\n",
        "- Why do operating system designers attempt to provide device-independent I/O wherever it is possible?\n",
        "\n",
        "- In which of four I/O software layers in each of the followign done?\n",
        "\n",
        "  - Computing the track, sector, and head for a disk  read.\n",
        "  - Maintaining a cache of recently used blocks\n",
        "  - Writing commands to the device registers\n",
        "  - Checking to see if the user is permitted to use the device\n",
        "  - Converting binary integers to ASCII for printing\n",
        "\n",
        "- Why are output files for the printer normally spooled on disk before being printed?\n",
        "\n",
        "- Give an example of a deadklock that could occur in the physical world\n",
        "\n",
        "- A computer has six tape drives, with $n$ processes competing for them. Each process may need two drives. For which values of $n$ is the system deadlock free?\n",
        "\n",
        "- Can a system be is a state that is neither deadlock nor safe? If so, give an example. If no, prove that all sates are either deadklock or safe.\n",
        "\n",
        "- A distributed system usign mailbosex has two IPC primitives, SEND and RECEIVE. The latter primite specifies a process to recieve from, and blocks if on message from th eprocess is available, even though messages may be waiting from other proceses. Ther eare not shared resources, but proceses need to comunicate frequently about other matters. Is deadklock possible? Discuss\n",
        "\n",
        "- Is an electronic funds transfer system, there are hundreads of identical processes that work  as follows. Each proces reads an input line specifying an amount of money, the accoutn to be credited, and the accoutn to be debited. Then it locks both accounts and transfer money, releasign the locks when done. With many processes runnign in parallel, there is very real dagner that having locked account $x$ it will be unable to lock $y$ because $y$ has been locked by a process now waiting for $x$. Devise a shceme that avoids deadlock. Do not release an account record until you have completed the transations. (In other words, solutions that lock one account and then release it immediately if the other is locked are not allowed)\n",
        "\n",
        "- The bankers' algorithm is being run in a system with $m$ resources classes and $n$ process. In the limit of large $m$ and $n$, the number of operations that must be performed to check a state for safety is proportional to $m^a n^b$. What are the values of $a$ and $b$?\n",
        "\n",
        "- Consider a disk with 100 512-byte sector/track, eight tracks per cylinder, and 10,000 cylinders with a rotation time of 10 msec. The track-to-track seek time is 1 msec. What is the maximum sustainable burst rate. How long can such a burst last?\n",
        "\n",
        "- A local area network is used as follows. The user issues a system call to write data packets to the network. The os then copies the data to a kernel buffer. Then it copies the data to the network controller board. When al the bytes are safely recieving network controller stores each bit a microsend after it is sent. When the arrived ppacket to a kernel buffer to inspect it. Once it has figure out whuich user the interrupt and its associated processign takes 1  msec, that packets are 1024 bytes (ignore the headers), and that copying a byte takes 1 microsect,what is the maximum rate at which one proces can pump data to another? Assum ethat the sender is blocked until the work is finisehd at the receiving side and an acknowlegment come sback. For simplicity, assume the time to get the acknowledgement back is smal it can be ignored.\n",
        "\n",
        "- A personal computer salesman visitin ga university in South-West Amsterdam remarked during his sales pitch taht his company had devoted sustantial effort to making their version of UNIX very fast. As an example, he noted that hteir disk driver used the elevator algorithm and also  queued multiple request within a cylinder in sector order. A student, Harry Hacker, was impressed and bough one. He took it home and wrote a program to randomly raed 10,000 blocks spread across the disk. To his amazement, the performace that he measured was identical to what would be expected from first-come, first-served. Was the salesman lying?\n",
        "\n",
        "- A unix process has two-parts the user part and the kernel part. Is the kernel part like a subroutine or a coroutine.\n",
        "\n",
        "- Consider how a termina lworks. The driver outptus on chareacter and then blocks. When the character has been printed, and interupt occurs and a message  is sent to the blocked driver, which outptus the next character then blocks again. If the time to pass a message, output a character, and block is 4 msec, does this emthod work well on 110-baud lines? How about 4800-baud lines?\n",
        "\n",
        "- A bitmap terminal contains 1200 by 800 pixels. To scroll a window, the CPU (or controller) must move all the lines of text upward by copying their bits from one part of the video RAM to another.  If a particular window is 66 lines high by 80 characters wide (5280 characters, total), and a characters's mbox is 8 pixels wide by 12 pixels high, how logn does it take to scrool the whole window at a copying rate of 500 nsec per byte? If all liens are 80 character long, what is the equivalent bound rate of th eterminal? Putting a character on the scrren takes 50 microsec. Now compute the baud rate for the same terminal in color, with 4 bits/pixel. (Putting a character on the scren now takes 200 microsec).\n",
        "\n",
        "- Why does operating system provide escape characters, such as CTRL-V in MINIX?\n",
        "\n",
        "- Write a graphics driver for the IBM color display, or some other suitable bitmap display. The driver sould accept commands to set and clear individual pixels, move rectangles around the scren, and any other features you think are interesting. User programs interface to the driver by opening /dev/graphics and writing commands to it.\n",
        "\n",
        "- Implement the Unix PROFIL sysetm call, which is missing from MINIX."
      ]
    },
    {
      "cell_type": "markdown",
      "metadata": {
        "id": "Q1Koew_hHsNt"
      },
      "source": [
        "## Memory Management"
      ]
    },
    {
      "cell_type": "markdown",
      "metadata": {
        "id": "Gz18yo0ObkPn"
      },
      "source": [
        "- A computer sysetm has enough room to hold four programs in its main memory.  These programs are each idle half the time waiting for I/O. What fraction of The CPU time is wasted?\n",
        "\n",
        "- Consider a swapping system in which memory consist fo the following hole sizes in memory order 10 KB, 4 KB, 20 KB,  7 KB, 9 KB, 12 KB, and 15 KB. Which hole is taken for succesive segment reqeust of \n",
        "  - 12 KB\n",
        "  - 10 KB\n",
        "  - 9 KB\n",
        "\n",
        "  - for first fit? Now repeat the question for best fit, worst it, and next it.\n",
        "\n",
        "- A computer has 1 GB of RAM allocated in units of 64 KB. How many KB are needed if a bitmap is used to keep track of free memory?\n",
        "\n",
        "- Now revisit the previous question using a hole list. How much memory is needed for the list in the best case and it there worst case? Assume the operating system occupies the bottom 512 KB of memory\n",
        "\n",
        "- What is the difference between a physical address and virtual address?\n",
        "\n",
        "- The Intel 8086 processor does not support virtual memory. Nevertheless, some companies previously sold systems that contaiend an unmodified 8086 CPU and do paging. Make an educated guess as to how they did it. (*Hint about the logical location of the MMU*)\n",
        "\n",
        "- If an instruction takes 1 nsec and a page fault takes an additional $n$ nsec, give a formula for the effective intruction time if page faults occur every $k$ instructions.\n",
        "\n",
        "- A computer with a 32-bit adress uses a two-level page table. Virtual addreses are split into a 9-bi ttop-level page table field, an 11-bit second-level page table field, and an offset. How large are the pages and how many are there in the address space?\n",
        "\n",
        "- Suppose that a 32-bit virtual adress is broken up into four fields a,b,c and d. The first three used for a three-level page table system. The fourth field, d, is the offset. Does the number of pages depend on the sizes of all four fields? If not, wh ich ones matter and which ones do not?\n",
        "\n",
        "- A computer whose processes have 1024 pages in their adress spaces keeps its page tables in memory. The overhead required for reading a word from the page table is 500 nsec. To reduce this overhead, the computer has a TLB, which holds 32 (virtual page, physical page frame) pairs, and can do a look up in 100 nsec. What hit rate is needed to reduce the mean overhead to 200 nsec?\n",
        "\n",
        "- The TLB on the VAX did not contain an R bit. Was this omission just an artifact of tis era (1980s) or is there some other reason for its absence?\n",
        "\n",
        "- A machine has 48-bit virtual addresses and 8 GB of RAM uses an inverted page table with 8-KB pages. What is the minimum size of the TLB?\n",
        "\n",
        "- If FIFO page replacement is used with four page frames and eight pages, how mnay page faults will occur with the reference string 0172327103 if the four frames are initialy emtpy? Now repeat this problem for LRU.\n",
        "\n",
        "- Are there *any* circumstances in which clock and second chagne choose different pages to replace? If so, what are they?\n",
        "\n",
        "- A small computer has four page frames. At the first clock tick, the $R$ bits are 0111 (page 0 is 0, the rest 1). At subsequent clock ticks, the values are 1011, 1010, 1101, 0010, 1010, 1100 and 0001. If the aging algorithm is used with an 8-bit counter, give the values of the four counters after the last tick.\n",
        "\n",
        "- Given the results of the previous problem, why are pages so small? Name two disadventages of 64 KB pages with respect to 4 KB pages.\n",
        "\n",
        "- An embeded computer provides each process with 65,536 bytes of address space divided into pages of 4096 bytes. A particular program has a text size of 32,768 bytes, a data size of 16,386 bytes, and stack size of 15,870 bytes. Will this program fit in the address space? If the page size wher 512 bytes, would it fit? Remember that a page may not contain parts of two different segments.\n",
        "\n",
        "- If has been observed that the number of instructions executed between page faults is direcly proportional to the number of page frames allocated to a program. If the available memory is doudled, the mean interval between page faults is also doudled. Suppose that a normal instruction takes 1 microsec, but if a page fault occurs, it takes 2001 microsec (i.e., 2 msec) to handle the fault. If a program takes 60 sec to run, during which time it gets 15,000 page faults, how long would it take to run if twice as much memory were available?\n",
        "\n",
        "- Explain the diference between internal fragmentation and external framgmentation. Which one occurs in paging systems? Which one occurs in systems usign pure segmentation?\n",
        "\n",
        "- When segmentation and paging are both being used, as in the Pentium, first the segment descriptor must be looked up, then the page descriptor. Does the TLB also work this way , with two levels of lookup?\n",
        "\n",
        "- Why does the MINIX 3 memory management scheme make it necessary to have a program like `shmem`.\n",
        "\n",
        "- Redesign the `adjust` to avoid the problem of signaled process being killedd uncesessariliy because of a too-strict test for stack space.\n",
        "\n",
        "- To tell the current memory allocation of a MINIX 3 process you can use the command \n",
        "    `chmem +o a.out`\n"
      ]
    },
    {
      "cell_type": "markdown",
      "metadata": {
        "id": "904bJ1oeHvui"
      },
      "source": [
        "## File Systems"
      ]
    },
    {
      "cell_type": "markdown",
      "metadata": {
        "id": "2eVqNakhnLHy"
      },
      "source": [
        "- NTFS uses the unicode for namign fiels. Unicode suports 16-bit characters. Give an advantege of the Unicode file naming over ASCII file naming.\n",
        "\n",
        "- Some files begin with a magic number. Of what use is this?\n",
        "\n",
        "- Give 5 different path names for the file `/etc/passwd`. (Hint: think about the directory entries \".\" and \".\")\n",
        "\n",
        "- Systems that support sequential files always have an operation to rewind files. Do systems that support random acess files need this too?\n",
        "\n",
        "- Some operatig systems provide a system call `rename` to give a file a new name. Is there any difference at all between using this call to rename a file, and just copying the file to a new file with the new name, followed by deleting the old one?\n",
        "\n",
        "- Consider the following proposal. Instead of having a single root for the the file system, give each user a personal root. Does that make the system more flexible? Why or why not?\n",
        "\n",
        "- The Unix file system has a call that changes the root to a given directory. Does this have any security implications? If so, what are they?\n",
        "\n",
        "- The UNIX system has a call read a directory entry. Since directories are just files, why is it necessary to have a special call? Can users not just read the raw directories themselves?\n",
        "\n",
        "- A standard PC can hold only four operating systems at once. Is there  any way to increse this limit? What consequences would your proposal have?\n",
        "\n",
        "- Contiguous allocation of files leads to disk fragmentation, as mentioned in the text. Is this internal fragmentation or external fragmentation? Make an analogy whith something discussesds in the previous chapter\n",
        "\n",
        "- An operating system only supports a single directory but allows that directory to have arbitrarily many files with arbitrarily long file names? Can something approximating  a hierarchical fiel system be simulated? How?\n",
        "\n",
        "- It has been suggested that the first part of each UNIX file be kept in the same disk block  as its i-node. What good would this do?\n",
        "\n",
        "- The performace of a file system depends upon the cache hit rate(fraction of blocks  found in the cache). If the 1 msec to satisfy a request from the cache, but 40 msec to satisfy a request if a disk read is needed, give a formula for the mean time required to sastify a request if the hit rate is h. Plot this function for values of h from 0to 1.0\n",
        "\n",
        "- What is the difference between a hard link and a symbolic link?  Give an advantage of each one.\n",
        "\n",
        "- Name three pitfalls to watch out  for when backing up a file system\n",
        "\n",
        "- Would compactig disk sotrage periodically be of any concievable value? Explain\n",
        "\n",
        "- What is the difference between virus and a worm? How do they each reproduce?\n",
        "\n",
        "- After getting your degree, your apply for a job as director of a large university computer center that has just put its ancient operating system out to pasture and switched over to UNIX. Your get the job. Fifteen minutes after starting work, your assistant bursts into your office screaming: \"Something students discovered the algorithm we use for encrypting passwords and posted it on the internet.\" What should you do?\n",
        "\n",
        "- Two computer science students, Carolyn and Elionor, are having a discussion about i-nodes. Carolyn maintains that memories ahve gotten so large and so cheap that when a file is opened, it is simpler and faster just to fetch a new copy of the i-node into the i-node table, rather than search the entire table to see if it is already there. Elinor disagrees. Who is right?\n",
        "\n",
        "- The Morris-Thompson protection scheem with n--bit random numbers was designed to make it difficult for an intruder to discover a large number of passwords by encrypting common strings in advance. Does the scheme also ofer protection againts a student user who is trying to guess  the superuser password on this machine?\n",
        "\n",
        "- When a file is removed, its blocks  are generally put back on the free list, but they are not erased. Do you think it would to be a good idea to have the operating system erese each block before releasing it? Considerer both security and performace factors in your answer, and explain the effect of each.\n",
        "\n",
        "- Can the Trojan horse attack work in a system protected by capabilities?"
      ]
    },
    {
      "cell_type": "markdown",
      "metadata": {
        "id": "pR7bd9EFHyf8"
      },
      "source": [
        "## Reading List and Bibliography"
      ]
    }
  ]
}