{
  "nbformat": 4,
  "nbformat_minor": 0,
  "metadata": {
    "colab": {
      "name": "Turtles, Termites, and Traffic Jams: Explorations in Massively Parallel Microworlds.ipynb",
      "provenance": [],
      "authorship_tag": "ABX9TyPsTFbrZpOOppeBnUXhTqul",
      "include_colab_link": true
    },
    "kernelspec": {
      "name": "python3",
      "display_name": "Python 3"
    },
    "language_info": {
      "name": "python"
    }
  },
  "cells": [
    {
      "cell_type": "markdown",
      "metadata": {
        "id": "view-in-github",
        "colab_type": "text"
      },
      "source": [
        "<a href=\"https://colab.research.google.com/github/dbremont/Notas/blob/main/Libros/Computacion/Turtles_Termites_and_Traffic_Jams_Explorations_in_Massively_Parallel_Microworlds.ipynb\" target=\"_parent\"><img src=\"https://colab.research.google.com/assets/colab-badge.svg\" alt=\"Open In Colab\"/></a>"
      ]
    },
    {
      "cell_type": "markdown",
      "source": [
        "[Mesa is an agent-based modeling framework in Python](https://github.com/projectmesa/mesa)\n",
        "\n",
        "[JABM Java Agent-Based Modelling toolkit](https://jabm.sourceforge.io/)\n",
        "\n",
        "[NetLogo](https://github.com/NetLogo/NetLogo)"
      ],
      "metadata": {
        "id": "2LsBMuFBiozq"
      }
    },
    {
      "cell_type": "markdown",
      "source": [
        "## Foundations"
      ],
      "metadata": {
        "id": "tLYb5ka_ia1w"
      }
    },
    {
      "cell_type": "markdown",
      "source": [
        "## Constructions"
      ],
      "metadata": {
        "id": "hwaxEZLZiehh"
      }
    },
    {
      "cell_type": "markdown",
      "source": [
        "## Explorations"
      ],
      "metadata": {
        "id": "uUKJQSdYifzz"
      }
    },
    {
      "cell_type": "markdown",
      "source": [
        "## Reflections"
      ],
      "metadata": {
        "id": "jf5Fcp9PihlU"
      }
    },
    {
      "cell_type": "markdown",
      "source": [
        "## Projections"
      ],
      "metadata": {
        "id": "3MYkZ9oAimay"
      }
    }
  ]
}