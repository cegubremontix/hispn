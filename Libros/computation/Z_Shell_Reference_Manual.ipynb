{
  "nbformat": 4,
  "nbformat_minor": 0,
  "metadata": {
    "colab": {
      "name": "Z Shell - Reference Manual.ipynb",
      "provenance": [],
      "collapsed_sections": [],
      "authorship_tag": "ABX9TyO7cdchL5KlfqD70y5zeF25",
      "include_colab_link": true
    },
    "kernelspec": {
      "name": "python3",
      "display_name": "Python 3"
    },
    "language_info": {
      "name": "python"
    }
  },
  "cells": [
    {
      "cell_type": "markdown",
      "metadata": {
        "id": "view-in-github",
        "colab_type": "text"
      },
      "source": [
        "<a href=\"https://colab.research.google.com/github/dbremont/Notas/blob/main/Libros/computation/Z_Shell_Reference_Manual.ipynb\" target=\"_parent\"><img src=\"https://colab.research.google.com/assets/colab-badge.svg\" alt=\"Open In Colab\"/></a>"
      ]
    },
    {
      "cell_type": "markdown",
      "source": [
        "# The Z Shell Manual"
      ],
      "metadata": {
        "id": "2X0VIGUJkA4_"
      }
    },
    {
      "cell_type": "markdown",
      "source": [
        "# Introduction"
      ],
      "metadata": {
        "id": "Tt_Y1Km1pnOR"
      }
    },
    {
      "cell_type": "markdown",
      "source": [
        "# Roapmap"
      ],
      "metadata": {
        "id": "QaFKT4cgpqfY"
      }
    },
    {
      "cell_type": "markdown",
      "source": [
        "# Invocation"
      ],
      "metadata": {
        "id": "oKbagDsppsUQ"
      }
    },
    {
      "cell_type": "markdown",
      "source": [
        "# Files"
      ],
      "metadata": {
        "id": "ZsY82mAzpuZI"
      }
    },
    {
      "cell_type": "markdown",
      "source": [
        "# Shell Grammar"
      ],
      "metadata": {
        "id": "rO80NnvapvhR"
      }
    },
    {
      "cell_type": "markdown",
      "source": [
        "# Redirection"
      ],
      "metadata": {
        "id": "ULFZtx3rpxOZ"
      }
    },
    {
      "cell_type": "markdown",
      "source": [
        "# Command Execution"
      ],
      "metadata": {
        "id": "oBwoiRmKpzgl"
      }
    },
    {
      "cell_type": "markdown",
      "source": [
        "# Functions"
      ],
      "metadata": {
        "id": "i3NVk7zhp13W"
      }
    },
    {
      "cell_type": "markdown",
      "source": [
        "# Jobs & Signals"
      ],
      "metadata": {
        "id": "KBKhf_orp3Cx"
      }
    },
    {
      "cell_type": "markdown",
      "source": [
        "# Arithmetic Evaluation"
      ],
      "metadata": {
        "id": "9RpkqJEep6ve"
      }
    },
    {
      "cell_type": "markdown",
      "source": [
        "# Conditional Expressions"
      ],
      "metadata": {
        "id": "5mlYEQG2p95a"
      }
    },
    {
      "cell_type": "markdown",
      "source": [
        "# Prompt Expansion"
      ],
      "metadata": {
        "id": "ww5LDpLeqAC-"
      }
    },
    {
      "cell_type": "markdown",
      "source": [
        "# Expansion"
      ],
      "metadata": {
        "id": "Lupm_Q2BqCxv"
      }
    },
    {
      "cell_type": "markdown",
      "source": [
        "# Parameters"
      ],
      "metadata": {
        "id": "1FeSbDuwqEO2"
      }
    },
    {
      "cell_type": "markdown",
      "source": [
        "# Options"
      ],
      "metadata": {
        "id": "0R-1H_1nqFkO"
      }
    },
    {
      "cell_type": "markdown",
      "source": [
        "# Shell Builtin Commands"
      ],
      "metadata": {
        "id": "r2HEFrNdqIhk"
      }
    },
    {
      "cell_type": "markdown",
      "source": [
        "# Zsh Line Editor"
      ],
      "metadata": {
        "id": "bnZmJ1uOqL-o"
      }
    },
    {
      "cell_type": "markdown",
      "source": [
        "# Completion Widgets"
      ],
      "metadata": {
        "id": "7BSIylbAqNZP"
      }
    },
    {
      "cell_type": "markdown",
      "source": [
        "# Completion System"
      ],
      "metadata": {
        "id": "aNFx_PwsqPl2"
      }
    },
    {
      "cell_type": "markdown",
      "source": [
        "# Completion Using compctl"
      ],
      "metadata": {
        "id": "kum12YIbqRzt"
      }
    },
    {
      "cell_type": "markdown",
      "source": [
        "# Zsh Modules"
      ],
      "metadata": {
        "id": "KJnHX0wjqVRT"
      }
    },
    {
      "cell_type": "markdown",
      "source": [
        "# Calendar Function System"
      ],
      "metadata": {
        "id": "rFd9Z4-dqXBY"
      }
    },
    {
      "cell_type": "markdown",
      "source": [
        "# TCP Function System"
      ],
      "metadata": {
        "id": "SpJj5TRDqbpI"
      }
    },
    {
      "cell_type": "markdown",
      "source": [
        "# Zftp Function System"
      ],
      "metadata": {
        "id": "Iedv2CGZqeG-"
      }
    },
    {
      "cell_type": "markdown",
      "source": [
        "# User Contributions"
      ],
      "metadata": {
        "id": "ZsHX0WITqhdr"
      }
    }
  ]
}