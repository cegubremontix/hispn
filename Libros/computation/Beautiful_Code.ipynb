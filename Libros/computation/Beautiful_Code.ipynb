{
  "nbformat": 4,
  "nbformat_minor": 0,
  "metadata": {
    "colab": {
      "name": "Beautiful Code.ipynb",
      "provenance": [],
      "collapsed_sections": [],
      "toc_visible": true,
      "authorship_tag": "ABX9TyMflppD2uVZgZ/Q67CIsFXI",
      "include_colab_link": true
    },
    "kernelspec": {
      "name": "python3",
      "display_name": "Python 3"
    },
    "language_info": {
      "name": "python"
    }
  },
  "cells": [
    {
      "cell_type": "markdown",
      "metadata": {
        "id": "view-in-github",
        "colab_type": "text"
      },
      "source": [
        "<a href=\"https://colab.research.google.com/github/dbremont/Notas/blob/main/Libros/Computacion/Beautiful_Code.ipynb\" target=\"_parent\"><img src=\"https://colab.research.google.com/assets/colab-badge.svg\" alt=\"Open In Colab\"/></a>"
      ]
    },
    {
      "cell_type": "markdown",
      "metadata": {
        "id": "Kqa8xS5lRBKz"
      },
      "source": [
        "## Beautiful Code"
      ]
    },
    {
      "cell_type": "markdown",
      "metadata": {
        "id": "kL9RbLGi5mdj"
      },
      "source": [
        "## A Regular Expression Matcher\n",
        "\n",
        "Shows how deep insight into a langauge and a problem can lead to a concise and elegant solution"
      ]
    },
    {
      "cell_type": "markdown",
      "metadata": {
        "id": "IDkg1lq45qE3"
      },
      "source": [
        "## Subversion's Delta Editor: Interface\n",
        "\n",
        "Start with a well-chosen abstraction and demonstrates its unifying effects on the system's futher development"
      ]
    },
    {
      "cell_type": "markdown",
      "metadata": {
        "id": "WUC5esjt5vZC"
      },
      "source": [
        "## The Most Beautiful Code I Never Wrote, by Jon Bently\n",
        "\n",
        "Suggests how to measure a procedure without actually executing it"
      ]
    },
    {
      "cell_type": "markdown",
      "metadata": {
        "id": "FbO8kARr5zss"
      },
      "source": [
        "## Finding Things\n",
        "\n",
        "Together many strands in Computer Science in an exploration of a problem that is fundamental to many computing tasks"
      ]
    },
    {
      "cell_type": "markdown",
      "metadata": {
        "id": "RAJDICbj7QtW"
      },
      "source": [
        "## Framework for Integrated TestL: Beauty Through Fragiligy\n",
        "\n",
        "Presents an example that breaks the rules and achieves its own elegant solution"
      ]
    },
    {
      "cell_type": "markdown",
      "metadata": {
        "id": "JG5w84ZO7s8-"
      },
      "source": [
        "## Beautiful Test, by Alberto Savoia\n",
        "\n",
        "Shows how a broad, creative approach to testing can not only eliminate bugs but turn you into a better programmer"
      ]
    },
    {
      "cell_type": "markdown",
      "metadata": {
        "id": "52uHWuy07xcp"
      },
      "source": [
        "## On-the-Fly Code Generation for Image Processing, by Charles Petzold\n",
        "\n",
        "Drops down a level to improve performace while maintaining portability"
      ]
    },
    {
      "cell_type": "markdown",
      "metadata": {
        "id": "zt-H55LY8IP6"
      },
      "source": [
        "## Top Down Operator Percedence\n",
        "\n",
        "Revives an almost forgotten parsing technique and shows its new relevance to the popular JavaScript language"
      ]
    },
    {
      "cell_type": "markdown",
      "metadata": {
        "id": "ecgnN-mR8SwM"
      },
      "source": [
        "## The Quest for an Accelerated Population Count\n",
        "\n",
        "Reveals the impact that some clever algorithms can have on even  a seemingly simple problem"
      ]
    },
    {
      "cell_type": "markdown",
      "metadata": {
        "id": "1PDjba-__mI_"
      },
      "source": [
        "## Secure Communication: The Technology of Freedom\n",
        "\n",
        "Discusess the directed evolution of a secure messaging application that was designed to make sophisticated but often confusing crytographic technology intuitively accessible to users"
      ]
    },
    {
      "cell_type": "markdown",
      "metadata": {
        "id": "B4Qhdu9-_5Lu"
      },
      "source": [
        "## Growing Beautiful Code in BioPearl\n",
        "\n",
        "Shows how the combination of a flexible language and custom-designed module can make it easy    for people with modest programming skills to create powerful visulizations for their data "
      ]
    },
    {
      "cell_type": "markdown",
      "metadata": {
        "id": "ZckIM9sRALyX"
      },
      "source": [
        "## The Design of the Gene Sorter\n",
        "\n",
        "Combines simple building blocks to produce a robust and valuabable tool for gene researchers"
      ]
    },
    {
      "cell_type": "markdown",
      "metadata": {
        "id": "Ok-toLwRAVPR"
      },
      "source": [
        "## How Elegant Code Evolves with Hardware: The Case of Gaussian Elimination\n",
        "\n",
        "Surveys the history of LINPACK and related major software packages to show how assumptions must constantly be re-evaluated in the face of new computing architectures"
      ]
    },
    {
      "cell_type": "markdown",
      "metadata": {
        "id": "VrUFpNW7ApQp"
      },
      "source": [
        "## The Long-Term Benefits of Beautiful Design\n",
        "Explains how attention to good design principles many decades ago helped CERN's widely used mathematical library (the predecessor of LINPACK) stand the test of time"
      ]
    },
    {
      "cell_type": "markdown",
      "metadata": {
        "id": "Dx9KHtKXBSTV"
      },
      "source": [
        "## The Linux Kernel Driver Model: The Benefits of Worging Together\n",
        "\n",
        "Explains how many efforts by different collaborators to solve different problems led to the successful  evolution of a complex, multithreaded system"
      ]
    },
    {
      "cell_type": "markdown",
      "metadata": {
        "id": "4fYC2tD0BiFo"
      },
      "source": [
        "## Another Level of Indirection\n",
        "Shows how the flexible and maintainability of the FreeBSD kernel is promoted by abstracting operations done is comon by many drivers and filesystem modules"
      ]
    },
    {
      "cell_type": "markdown",
      "metadata": {
        "id": "gSWj5gUrB0Ad"
      },
      "source": [
        "## Python's Dictionary Implementation: Being All Things to All People\n",
        "\n",
        "Explains how a careful design combined with accomodations for a few special cases allows a langauge feature to support many differents uses"
      ]
    },
    {
      "cell_type": "markdown",
      "metadata": {
        "id": "_QxMw4MECHjf"
      },
      "source": [
        "## Multidimensional Iterators in NumPY\n",
        "\n",
        "Takes you through the design steps that succeed in hiding complexity under a simple interface"
      ]
    },
    {
      "cell_type": "markdown",
      "metadata": {
        "id": "0vfN99y_CSWZ"
      },
      "source": [
        "## A Highly Reliable Enterprise System for NAASA's Mars Rover Mission\n",
        "\n",
        "Uses Industry starndards, best practices, and Java technogies to meet the requiremenets of a NASA expedition where reliability cannot be in doubt"
      ]
    },
    {
      "cell_type": "markdown",
      "metadata": {
        "id": "v0chWaRGCoSs"
      },
      "source": [
        "## ERP5: Designing for a Maximum Adaptability\n",
        "\n",
        "Shows how a powerful ERP system can be develop with free software tools and a flexible architecture"
      ]
    },
    {
      "cell_type": "markdown",
      "metadata": {
        "id": "qaQIlDC7DFd_"
      },
      "source": [
        "## A Spoonful of Sewage\n",
        "\n",
        "Lets the reader accompoany the author thorugh a hair-raising bug scare and clever solution that violated expectations"
      ]
    },
    {
      "cell_type": "markdown",
      "metadata": {
        "id": "xRQueyCAFYI5"
      },
      "source": [
        "## Distributed Programming with MapReduce\n",
        "\n",
        "Describes a system that provides and easy-to-use programming abstraction for a large-scale distributed data processing at Google that automaticaly handles many difficult aspects of distributed comptuation, icluding automatic parallelization, load balacing, and failure handling"
      ]
    },
    {
      "cell_type": "markdown",
      "metadata": {
        "id": "TPdWxqmyFu6v"
      },
      "source": [
        "## Beautiful Concurrency\n",
        "\n",
        "Removes much of the difficulty of parallel programs through Software Transactional Memory, desmostrated here using Haskell"
      ]
    },
    {
      "cell_type": "markdown",
      "metadata": {
        "id": "psMekbZBGRyG"
      },
      "source": [
        "## Labor-Saving Architectuer: An Object-Oriented Framework of Networked Software\n",
        "\n",
        "Applies a range of standard object-oriented design techniques, susch as patterns and frameworks, to distributed logging to keep the system flexible and modular"
      ]
    },
    {
      "cell_type": "markdown",
      "metadata": {
        "id": "fdeKjtppHBr8"
      },
      "source": [
        "## Integrating Business Patners the RESTful Way\n",
        "\n",
        "Demonstrates a designer's respect for his programmres by matching the design of B2B web service to its requirements"
      ]
    },
    {
      "cell_type": "markdown",
      "metadata": {
        "id": "bX8D6FODHRxI"
      },
      "source": [
        "## Beautiful Debugging \n",
        "\n",
        "Shows how a discplined approach to validating code can reduce the time it takes to track down errors"
      ]
    },
    {
      "cell_type": "markdown",
      "metadata": {
        "id": "SCehqHVaHh9b"
      },
      "source": [
        "## Emacspeak: The Coplete Aduito Desktop\n",
        "\n",
        "Shows how to Lip's advice facility can be used with Emacs to address a general need- generating rich spoken output -- that cuts across all aspects of the Emacs environment, without modifying the underlying source code of a large software system."
      ]
    },
    {
      "cell_type": "markdown",
      "metadata": {
        "id": "GuLam_W5IJQZ"
      },
      "source": [
        "## Code in Motion\n",
        "\n",
        "List some simples rules that have unexpectedly strong impact  on programming accuracy"
      ]
    },
    {
      "cell_type": "markdown",
      "metadata": {
        "id": "DRAsZuvEISy1"
      },
      "source": [
        "## Writing Programs for \"The Book\""
      ]
    }
  ]
}