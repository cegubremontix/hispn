{
  "nbformat": 4,
  "nbformat_minor": 0,
  "metadata": {
    "colab": {
      "name": "Practica Binary Analysis.ipynb",
      "provenance": [],
      "toc_visible": true,
      "authorship_tag": "ABX9TyN7nrSldWY7GVjavyLXkt/3",
      "include_colab_link": true
    },
    "kernelspec": {
      "name": "python3",
      "display_name": "Python 3"
    },
    "language_info": {
      "name": "python"
    }
  },
  "cells": [
    {
      "cell_type": "markdown",
      "metadata": {
        "id": "view-in-github",
        "colab_type": "text"
      },
      "source": [
        "<a href=\"https://colab.research.google.com/github/dbremont/Notas/blob/main/Libros/Computacion/Practica_Binary_Analysis.ipynb\" target=\"_parent\"><img src=\"https://colab.research.google.com/assets/colab-badge.svg\" alt=\"Open In Colab\"/></a>"
      ]
    },
    {
      "cell_type": "markdown",
      "metadata": {
        "id": "kVOVEl2KEREH"
      },
      "source": [
        "# Binary Formats"
      ]
    },
    {
      "cell_type": "markdown",
      "metadata": {
        "id": "0MZKAu6rEo9l"
      },
      "source": [
        "## Anatomy of a Binary"
      ]
    },
    {
      "cell_type": "markdown",
      "metadata": {
        "id": "SQ-qJLQPEqzf"
      },
      "source": [
        "## The ELF Format"
      ]
    },
    {
      "cell_type": "markdown",
      "metadata": {
        "id": "VFChuKsHEtJl"
      },
      "source": [
        "## The PE Format: A Brief Introduction"
      ]
    },
    {
      "cell_type": "markdown",
      "metadata": {
        "id": "dJyUcydoE1V1"
      },
      "source": [
        "## Building a Binary Loader Using libbfd"
      ]
    },
    {
      "cell_type": "markdown",
      "metadata": {
        "id": "nUN4D4SNEe6g"
      },
      "source": [
        "# Binary Formats"
      ]
    },
    {
      "cell_type": "markdown",
      "metadata": {
        "id": "Cc70-H9cE7eq"
      },
      "source": [
        "## Basic Binary Analysis in Linux"
      ]
    },
    {
      "cell_type": "markdown",
      "metadata": {
        "id": "jQEhSIprE-td"
      },
      "source": [
        "## Disassembly and Binary Analysis Fundamentals"
      ]
    },
    {
      "cell_type": "markdown",
      "metadata": {
        "id": "HZ_gO3DmFEDd"
      },
      "source": [
        "## Simple Code Injection Techniques for ELF"
      ]
    },
    {
      "cell_type": "markdown",
      "metadata": {
        "id": "5sn-zCIBEVNP"
      },
      "source": [
        "# Binary Analysis Fundamentals"
      ]
    },
    {
      "cell_type": "markdown",
      "metadata": {
        "id": "JHb5T7PnFJpZ"
      },
      "source": [
        "## Basic Binary Analysis in Linux"
      ]
    },
    {
      "cell_type": "markdown",
      "metadata": {
        "id": "r0NWmDApF3HY"
      },
      "source": [
        "## Disassembly and Binary Analysis Fundamentals"
      ]
    },
    {
      "cell_type": "markdown",
      "metadata": {
        "id": "UP_0brRJF9qi"
      },
      "source": [
        "## Simple Code Injection Techniques for ELF"
      ]
    },
    {
      "cell_type": "markdown",
      "metadata": {
        "id": "MYf-FsQ9EX-y"
      },
      "source": [
        "# Advanced Binary Analysis"
      ]
    },
    {
      "cell_type": "markdown",
      "metadata": {
        "id": "1LRJA_F6GCa-"
      },
      "source": [
        "## Customizing Dissasembly"
      ]
    },
    {
      "cell_type": "markdown",
      "metadata": {
        "id": "pwMPzyqcGGEh"
      },
      "source": [
        "## Binary Instrumentation"
      ]
    },
    {
      "cell_type": "markdown",
      "metadata": {
        "id": "R8meb74IGI_2"
      },
      "source": [
        "## Principles of Dynamic Taint Analysis"
      ]
    },
    {
      "cell_type": "markdown",
      "metadata": {
        "id": "NEv081TzGMtm"
      },
      "source": [
        "## Practical Dynamic Taint Analysis with libdft"
      ]
    },
    {
      "cell_type": "markdown",
      "metadata": {
        "id": "Yir5bqDbGTW6"
      },
      "source": [
        "## Principles of Symbolic Execution"
      ]
    },
    {
      "cell_type": "markdown",
      "metadata": {
        "id": "u-XttBIoGWUy"
      },
      "source": [
        "## Practical Symbolic Execution with Triton"
      ]
    },
    {
      "cell_type": "markdown",
      "metadata": {
        "id": "dfpZWSltEall"
      },
      "source": [
        "# Appendixes"
      ]
    },
    {
      "cell_type": "markdown",
      "metadata": {
        "id": "UwYqEMS1Ga69"
      },
      "source": [
        "## A Crash Course on x86 Assembly"
      ]
    },
    {
      "cell_type": "markdown",
      "metadata": {
        "id": "jgndqobbGe5N"
      },
      "source": [
        "## Implementing PT_NOTE Overwriting Using libelf"
      ]
    },
    {
      "cell_type": "markdown",
      "metadata": {
        "id": "6QEME9U_GkwF"
      },
      "source": [
        "## List of Binary Analysis Tools"
      ]
    },
    {
      "cell_type": "markdown",
      "metadata": {
        "id": "IXg2JlBtGpc3"
      },
      "source": [
        "## Futher Reading"
      ]
    }
  ]
}