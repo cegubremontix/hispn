{
  "nbformat": 4,
  "nbformat_minor": 0,
  "metadata": {
    "colab": {
      "name": "Implementation Patterns.ipynb",
      "provenance": [],
      "toc_visible": true,
      "authorship_tag": "ABX9TyOzuEXgqifwz5X5m/yjhRFy",
      "include_colab_link": true
    },
    "kernelspec": {
      "name": "python3",
      "display_name": "Python 3"
    },
    "language_info": {
      "name": "python"
    }
  },
  "cells": [
    {
      "cell_type": "markdown",
      "metadata": {
        "id": "view-in-github",
        "colab_type": "text"
      },
      "source": [
        "<a href=\"https://colab.research.google.com/github/dbremont/Notas/blob/main/Libros/Computacion/Implementation_Patterns.ipynb\" target=\"_parent\"><img src=\"https://colab.research.google.com/assets/colab-badge.svg\" alt=\"Open In Colab\"/></a>"
      ]
    },
    {
      "cell_type": "markdown",
      "metadata": {
        "id": "Ece22H0tpTpb"
      },
      "source": [
        "# Implementation Patterns\n",
        "\n"
      ]
    },
    {
      "cell_type": "markdown",
      "metadata": {
        "id": "CVlYTavhIZ2a"
      },
      "source": [
        "## Introduction"
      ]
    },
    {
      "cell_type": "markdown",
      "metadata": {
        "id": "DeYaRhFzAnv3"
      },
      "source": [
        ""
      ]
    },
    {
      "cell_type": "markdown",
      "metadata": {
        "id": "maFL-CZUQNuG"
      },
      "source": [
        "## Patterns"
      ]
    },
    {
      "cell_type": "markdown",
      "metadata": {
        "id": "R0BUbe5SAxBY"
      },
      "source": [
        ""
      ]
    },
    {
      "cell_type": "markdown",
      "metadata": {
        "id": "wllVk-ceAy_m"
      },
      "source": [
        "## A Theory of Programming"
      ]
    },
    {
      "cell_type": "markdown",
      "metadata": {
        "id": "ANlHWc1DA0-N"
      },
      "source": [
        "Values\n",
        "\n",
        "Communication\n",
        "\n",
        "Simplicity\n",
        "\n",
        "Flexibility\n",
        "\n",
        "Principles\n",
        "\n",
        "Local Consequences\n",
        "\n",
        "Minimize Repetion\n",
        "\n",
        "Logic and Data Together\n",
        "\n",
        "Symmetry\n",
        "\n",
        "Declarative Expression\n",
        "\n",
        "Rate of Change\n",
        "\n",
        "\n"
      ]
    },
    {
      "cell_type": "markdown",
      "metadata": {
        "id": "K93cdG5BSnfH"
      },
      "source": [
        "## Motivation"
      ]
    },
    {
      "cell_type": "markdown",
      "metadata": {
        "id": "5P-FA4lDCQTS"
      },
      "source": [
        ""
      ]
    },
    {
      "cell_type": "markdown",
      "metadata": {
        "id": "oiqIpu0dSqt1"
      },
      "source": [
        "## Class"
      ]
    },
    {
      "cell_type": "markdown",
      "metadata": {
        "id": "V7sLBiSICTAG"
      },
      "source": [
        "Class\n",
        "\n",
        "Simple Superclass Name\n",
        "\n",
        "Qualified Subclass Name\n",
        "\n",
        "Abstract Interface\n",
        "\n",
        "Interface\n",
        "\n",
        "Versioned Interface\n",
        "\n",
        "Abstract Class\n",
        "\n",
        "Value Object\n",
        "\n",
        "Specialization\n",
        "\n",
        "Subclass\n",
        "\n",
        "Implementor\n",
        "\n",
        "Inner Class\n",
        "\n",
        "Intance-specific Behavior\n",
        "\n",
        "Conditional\n",
        "\n",
        "Delegation\n",
        "\n",
        "Pluggable Selector\n",
        "\n",
        "Anonymous Inner class\n",
        "\n",
        "Library Class"
      ]
    },
    {
      "cell_type": "markdown",
      "metadata": {
        "id": "XaP_CgsWSsX_"
      },
      "source": [
        "## State"
      ]
    },
    {
      "cell_type": "markdown",
      "metadata": {
        "id": "ZOfH13EDCxnm"
      },
      "source": [
        "State\n",
        "\n",
        "Acess\n",
        "\n",
        "Direct Access\n",
        "\n",
        "Indirect Access\n",
        "\n",
        "Common State\n",
        "\n",
        "Variable State\n",
        "\n",
        "Extrinsict State\n",
        "\n",
        "Variable\n",
        "\n",
        "Local Vairable\n",
        "\n",
        "Field\n",
        "\n",
        "Collecting Parameter\n",
        "\n",
        "Paramter Object\n",
        "\n",
        "Constant\n",
        "\n",
        "Role-Suggestign Name\n",
        "\n",
        "Declared Type\n",
        "\n",
        "Initialization\n",
        "\n",
        "Eager Initialization\n",
        "\n",
        "Lazy Initialization"
      ]
    },
    {
      "cell_type": "markdown",
      "metadata": {
        "id": "K9onVnwYSt_Y"
      },
      "source": [
        "## Behavior"
      ]
    },
    {
      "cell_type": "markdown",
      "metadata": {
        "id": "PnrurC-dDIE_"
      },
      "source": [
        "Control Flow\n",
        "\n",
        "Main Flow\n",
        "\n",
        "Message\n",
        "\n",
        "Choosing Message\n",
        "\n",
        "Double Dispatch\n",
        "\n",
        "Decomposing Message\n",
        "\n",
        "Reversign Message\n",
        "\n",
        "Inviting Message\n",
        "\n",
        "Explaining Message\n",
        "\n",
        "Exceptional Flow\n",
        "\n",
        "Guard Clause\n",
        "\n",
        "Exception\n",
        "\n",
        "Checked Exception\n",
        "\n",
        "Exception Propagation"
      ]
    },
    {
      "cell_type": "markdown",
      "metadata": {
        "id": "unK7iiWZQQRr"
      },
      "source": [
        "## Methods"
      ]
    },
    {
      "cell_type": "markdown",
      "metadata": {
        "id": "TmkekV_gDbQF"
      },
      "source": [
        "Composed Method\n",
        "\n",
        "Intention-Revealing Name\n",
        "\n",
        "Method Visibility\n",
        "\n",
        "Method Object\n",
        "\n",
        "Overhidden Method\n",
        "\n",
        "Overload Method\n",
        "\n",
        "Method Return Type\n",
        "\n",
        "Method Comment\n",
        "\n",
        "Helper  Method\n",
        "\n",
        "Debug Print Method\n",
        "\n",
        "Conversion\n",
        "\n",
        "Conversion Method\n",
        "\n",
        "Conversion Constructor\n",
        "\n",
        "Creation\n",
        "\n",
        "Complete Constructor\n",
        "\n",
        "Factory  Method\n",
        "\n",
        "Internal Factory\n",
        "\n",
        "Collection Accesor Method\n",
        "\n",
        "Boolean Settig Method\n",
        "\n",
        "Query Method\n",
        "\n",
        "Equality Method\n",
        "\n",
        "Getting Method\n",
        "\n",
        "Setting Method\n",
        "\n",
        "Safe Copy"
      ]
    },
    {
      "cell_type": "markdown",
      "metadata": {
        "id": "cwFP8OzhQTSV"
      },
      "source": [
        "## Collections"
      ]
    },
    {
      "cell_type": "markdown",
      "metadata": {
        "id": "2sD6q64yD7_6"
      },
      "source": [
        "Metaphors\n",
        "\n",
        "Issues\n",
        "\n",
        "Interfaces\n",
        "\n",
        "Array\n",
        "\n",
        "Iterable\n",
        "\n",
        "Collection\n",
        "\n",
        "List\n",
        "\n",
        "Set\n",
        "\n",
        "SortedSet\n",
        "\n",
        "Map\n",
        "\n",
        "Implementation\n",
        "\n",
        "Sorting\n",
        "\n",
        "Unmodifiable Collections\n",
        "\n",
        "Single-Element Colections\n",
        "\n",
        "Extending Collections\n",
        "\n",
        "Empty Collections"
      ]
    },
    {
      "cell_type": "markdown",
      "metadata": {
        "id": "Eex8ukoETlNJ"
      },
      "source": [
        "## Evolving Frameworks"
      ]
    },
    {
      "cell_type": "markdown",
      "metadata": {
        "id": "kc1LtapNEU2n"
      },
      "source": [
        "Changing Frameworks without Changing Applications\n",
        "\n",
        "Incompatible Upgrades\n",
        "\n",
        "Encouraging Compatible Change\n",
        "\n",
        "Library Class\n",
        "\n",
        "Objects\n",
        "\n",
        "Abstraction\n",
        "\n",
        "Interface\n",
        "\n",
        "Superclass\n",
        "\n",
        "Creation\n",
        "\n",
        "No Creation\n",
        "\n",
        "Constructors\n",
        "\n",
        "Static Factories\n",
        "\n",
        "Factory  Object\n",
        "\n",
        "Creation Conclusion\n",
        "\n",
        "Methods"
      ]
    }
  ]
}