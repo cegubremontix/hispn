{
  "nbformat": 4,
  "nbformat_minor": 0,
  "metadata": {
    "colab": {
      "name": "Computer Networks a systems approach.ipynb",
      "provenance": [],
      "toc_visible": true,
      "authorship_tag": "ABX9TyMA0AUxB3V9/EEM4LeAp81M",
      "include_colab_link": true
    },
    "kernelspec": {
      "name": "python3",
      "display_name": "Python 3"
    },
    "language_info": {
      "name": "python"
    }
  },
  "cells": [
    {
      "cell_type": "markdown",
      "metadata": {
        "id": "view-in-github",
        "colab_type": "text"
      },
      "source": [
        "<a href=\"https://colab.research.google.com/github/dbremont/Notas/blob/main/Libros/computation/Computer_Networks_a_systems_approach.ipynb\" target=\"_parent\"><img src=\"https://colab.research.google.com/assets/colab-badge.svg\" alt=\"Open In Colab\"/></a>"
      ]
    },
    {
      "cell_type": "markdown",
      "metadata": {
        "id": "xZWwcIRaYKe_"
      },
      "source": [
        "# Computer Networks a systems approach"
      ]
    },
    {
      "cell_type": "markdown",
      "metadata": {
        "id": "7z2ephhEZAx1"
      },
      "source": [
        "## Foundation"
      ]
    },
    {
      "cell_type": "markdown",
      "metadata": {
        "id": "ZsgcDR_LZHQk"
      },
      "source": [
        "## Getting Connected"
      ]
    },
    {
      "cell_type": "markdown",
      "metadata": {
        "id": "JUlr_-2LZN2W"
      },
      "source": [
        "## Internetworking"
      ]
    },
    {
      "cell_type": "markdown",
      "metadata": {
        "id": "82RIgymVZS_J"
      },
      "source": [
        "## Advanced Internetworking"
      ]
    },
    {
      "cell_type": "markdown",
      "metadata": {
        "id": "8ukxzm5oZYbM"
      },
      "source": [
        "## End-to-End Protocols"
      ]
    },
    {
      "cell_type": "markdown",
      "metadata": {
        "id": "pcbdaHKncSRq"
      },
      "source": [
        "## Congestion Control and Resource Allocation"
      ]
    },
    {
      "cell_type": "markdown",
      "metadata": {
        "id": "xu64o9OwcXHV"
      },
      "source": [
        "## End-to-End Data"
      ]
    },
    {
      "cell_type": "markdown",
      "metadata": {
        "id": "H0lrAZL5cZkS"
      },
      "source": [
        "## Network Security"
      ]
    },
    {
      "cell_type": "markdown",
      "metadata": {
        "id": "YTGl1lvaca2R"
      },
      "source": [
        "## Applications"
      ]
    }
  ]
}