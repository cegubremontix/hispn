{
  "nbformat": 4,
  "nbformat_minor": 0,
  "metadata": {
    "colab": {
      "name": "Computer Networks a systems approach.ipynb",
      "provenance": [],
      "toc_visible": true,
      "authorship_tag": "ABX9TyNRB7CzCmZFr7UTCjLQ06qo",
      "include_colab_link": true
    },
    "kernelspec": {
      "name": "python3",
      "display_name": "Python 3"
    },
    "language_info": {
      "name": "python"
    }
  },
  "cells": [
    {
      "cell_type": "markdown",
      "metadata": {
        "id": "view-in-github",
        "colab_type": "text"
      },
      "source": [
        "<a href=\"https://colab.research.google.com/github/dbremont/Notas/blob/main/Libros/computation/Computer_Networks_a_systems_approach.ipynb\" target=\"_parent\"><img src=\"https://colab.research.google.com/assets/colab-badge.svg\" alt=\"Open In Colab\"/></a>"
      ]
    },
    {
      "cell_type": "markdown",
      "metadata": {
        "id": "xZWwcIRaYKe_"
      },
      "source": [
        "# Computer Networks a systems approach"
      ]
    },
    {
      "cell_type": "markdown",
      "source": [
        "## Questions\n",
        "\n",
        "¿OSI Layers?\n",
        "- Application \n",
        "- Presentation\n",
        "- Session\n",
        "- Transport\n",
        "- Network\n",
        "- Data Link\n",
        "- Physical\n",
        "\n",
        "In which place of the network stack does **Network protocols** are implemented?\n",
        "- They are implemented in the hardware level and software one.\n",
        "\n",
        "OSI layers interact with which layers?\n",
        "- Only adjecent layers\n",
        "\n",
        "TCP/IP Model Layers:\n",
        "- Application\n",
        "- Transport\n",
        "- Network\n",
        "- Data Link\n",
        "- Physical\n",
        "\n",
        "What is the practical use of the OSI model of computer networks?\n",
        "- Its a conceptual model, its not used in practice.\n",
        "\n",
        "What is the practical use the TCP/IP model of computer networks?\n",
        "- It's a practical model.\n",
        "\n",
        "What are the responsabilities of the Presentation Layer?\n",
        "- **Writing data off the network** in a format that is compliant with the protocol in use.\n",
        "- **Reading data** from the end-user.\n",
        "- **Providing useful applications** to end users.\n",
        "\n",
        "What does TCP stanf for?\n",
        "- Transmission Control Protocol\n",
        "\n",
        "What does HTTP stand for?\n",
        "- HyperText Transfer Protocol\n",
        "\n",
        "What is the anatomy of a URL?\n",
        "- URL (Uniform Resource Locator)\n",
        "- Protocol\n",
        "- Hostname\n",
        "- Location of the file\n",
        "- Arguments\n",
        "\n",
        "How is TCP different from UDP?\n",
        "- TCP ensures that all messages do get delivered correctly and in order.\n",
        "\n",
        "HTTP Methods:\n",
        "- GET,\n",
        "- POST,\n",
        "- HEAD,\n",
        "- PUT,\n",
        "- DELETE\n",
        "\n",
        "HTTP Headers:\n",
        "\n",
        "Describe the socket abstraction?\n",
        "\n",
        "What is a HTTP Cookie?\n",
        "- It's a mechanism to add state to the HTML procotol.\n",
        "- Cookies are **unique string identifiers** that can be stored on the client's browser.\n",
        "- After a cookie is set, it'  sent along with sub\n",
        "\n",
        "[Basic access authentication](https://en.wikipedia.org/wiki/Basic_access_authentication)\n",
        "\n",
        "https://www.dropbox.com/developers/documentation#api-specification\n",
        "\n",
        "https://en.wikipedia.org/wiki/HATEOAS\n",
        "\n",
        "[What are Long-Polling, Websockets, Server-Sent Events (SSE) and Comet?](https://stackoverflow.com/questions/11077857/what-are-long-polling-websockets-server-sent-events-sse-and-comet)\n",
        "\n",
        "[What is your experience with the different types of APIs and messaging services for real-time inference APIs?](https://www.reddit.com/r/MachineLearning/comments/pkttxv/d_what_is_your_experience_with_the_different/)\n",
        "\n",
        "What is the IETF (Interner Engineering Task Force)? "
      ],
      "metadata": {
        "id": "z3E9qxtghnl5"
      }
    },
    {
      "cell_type": "markdown",
      "metadata": {
        "id": "7z2ephhEZAx1"
      },
      "source": [
        "## Foundation"
      ]
    },
    {
      "cell_type": "markdown",
      "metadata": {
        "id": "ZsgcDR_LZHQk"
      },
      "source": [
        "## Getting Connected"
      ]
    },
    {
      "cell_type": "markdown",
      "metadata": {
        "id": "JUlr_-2LZN2W"
      },
      "source": [
        "## Internetworking"
      ]
    },
    {
      "cell_type": "markdown",
      "metadata": {
        "id": "82RIgymVZS_J"
      },
      "source": [
        "## Advanced Internetworking"
      ]
    },
    {
      "cell_type": "markdown",
      "metadata": {
        "id": "8ukxzm5oZYbM"
      },
      "source": [
        "## End-to-End Protocols"
      ]
    },
    {
      "cell_type": "markdown",
      "metadata": {
        "id": "pcbdaHKncSRq"
      },
      "source": [
        "## Congestion Control and Resource Allocation"
      ]
    },
    {
      "cell_type": "markdown",
      "metadata": {
        "id": "xu64o9OwcXHV"
      },
      "source": [
        "## End-to-End Data"
      ]
    },
    {
      "cell_type": "markdown",
      "metadata": {
        "id": "H0lrAZL5cZkS"
      },
      "source": [
        "## Network Security"
      ]
    },
    {
      "cell_type": "markdown",
      "metadata": {
        "id": "YTGl1lvaca2R"
      },
      "source": [
        "## Applications"
      ]
    }
  ]
}