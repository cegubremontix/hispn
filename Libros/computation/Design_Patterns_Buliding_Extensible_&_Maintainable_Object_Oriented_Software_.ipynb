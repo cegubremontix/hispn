{
  "nbformat": 4,
  "nbformat_minor": 0,
  "metadata": {
    "colab": {
      "name": "Design Patterns Buliding Extensible & Maintainable Object-Oriented Software .ipynb",
      "provenance": [],
      "toc_visible": true,
      "authorship_tag": "ABX9TyPfzX+dbP+PXHu4J6EvwATH",
      "include_colab_link": true
    },
    "kernelspec": {
      "name": "python3",
      "display_name": "Python 3"
    },
    "language_info": {
      "name": "python"
    }
  },
  "cells": [
    {
      "cell_type": "markdown",
      "metadata": {
        "id": "view-in-github",
        "colab_type": "text"
      },
      "source": [
        "<a href=\"https://colab.research.google.com/github/dbremont/Notas/blob/main/Libros/Computacion/Design_Patterns_Buliding_Extensible_%26_Maintainable_Object_Oriented_Software_.ipynb\" target=\"_parent\"><img src=\"https://colab.research.google.com/assets/colab-badge.svg\" alt=\"Open In Colab\"/></a>"
      ]
    },
    {
      "cell_type": "markdown",
      "metadata": {
        "id": "Ece22H0tpTpb"
      },
      "source": [
        "# Design Patterns Buliding Extensible & Maintainable Object-Oriented Software \n",
        "\n"
      ]
    }
  ]
}