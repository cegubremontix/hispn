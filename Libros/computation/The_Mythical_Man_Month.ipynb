{
  "nbformat": 4,
  "nbformat_minor": 0,
  "metadata": {
    "colab": {
      "name": "The Mythical Man-Month.ipynb",
      "provenance": [],
      "toc_visible": true,
      "authorship_tag": "ABX9TyP7ViozGr0NRSGuBw1HoPW7",
      "include_colab_link": true
    },
    "kernelspec": {
      "name": "python3",
      "display_name": "Python 3"
    },
    "language_info": {
      "name": "python"
    }
  },
  "cells": [
    {
      "cell_type": "markdown",
      "metadata": {
        "id": "view-in-github",
        "colab_type": "text"
      },
      "source": [
        "<a href=\"https://colab.research.google.com/github/dbremont/Notas/blob/main/Libros/Computacion/The_Mythical_Man_Month.ipynb\" target=\"_parent\"><img src=\"https://colab.research.google.com/assets/colab-badge.svg\" alt=\"Open In Colab\"/></a>"
      ]
    },
    {
      "cell_type": "markdown",
      "metadata": {
        "id": "Ece22H0tpTpb"
      },
      "source": [
        "# The Mythical Man-Month\n",
        "\n"
      ]
    },
    {
      "cell_type": "markdown",
      "metadata": {
        "id": "CVlYTavhIZ2a"
      },
      "source": [
        "## The Tar Pit"
      ]
    },
    {
      "cell_type": "markdown",
      "metadata": {
        "id": "H3h68RrRJy0l"
      },
      "source": [
        "## The Mythical Man-Month"
      ]
    },
    {
      "cell_type": "markdown",
      "metadata": {
        "id": "dhDWARxwJ08-"
      },
      "source": [
        "## The Surgical Team"
      ]
    },
    {
      "cell_type": "markdown",
      "metadata": {
        "id": "yzfDcMUuJ393"
      },
      "source": [
        "## Aristocracy, Democracy, and System Design"
      ]
    },
    {
      "cell_type": "markdown",
      "metadata": {
        "id": "gnfz_aDqJ-co"
      },
      "source": [
        "## The Second-System Effect"
      ]
    },
    {
      "cell_type": "markdown",
      "metadata": {
        "id": "7mL2xWBEKD0L"
      },
      "source": [
        "## Passing the Word"
      ]
    },
    {
      "cell_type": "markdown",
      "metadata": {
        "id": "Q4EXLJOFKGfA"
      },
      "source": [
        "## Why Did the Tower of Babel Fail?"
      ]
    },
    {
      "cell_type": "markdown",
      "metadata": {
        "id": "ILAVG0vxKJ8O"
      },
      "source": [
        "## Calling the Shot"
      ]
    },
    {
      "cell_type": "markdown",
      "metadata": {
        "id": "lFef_VpFKNk3"
      },
      "source": [
        "## Ten Pounds in a Five-Pound Sack"
      ]
    },
    {
      "cell_type": "markdown",
      "metadata": {
        "id": "lLZqQ6XVKSoy"
      },
      "source": [
        "## The Documentary of Hypothesis"
      ]
    },
    {
      "cell_type": "markdown",
      "metadata": {
        "id": "LJl_Ju-yKUBL"
      },
      "source": [
        "## Plan to Throw One Away"
      ]
    },
    {
      "cell_type": "markdown",
      "metadata": {
        "id": "46jcHcTGR-uW"
      },
      "source": [
        "> It is common sense to take a method and try it. If it fails, admit it frankly and try another. But above all, try something.  -  Franklyn D. Roosevelt\n",
        "\n",
        "**Chemical oengineers** learned logn ago that a process that works in the laboratory cannot be implemented oin a factory in only one step. An intermediate step called the *pilot plant* is necessary to give experience in scaling quantities up and in operating in nonprotective environments. For example, a laboratory process for desalting water wil be tested in a pilot plant of 10,000 gallon/day capacity before being used for a 2,000,000 galon/day community water system.\n",
        "\n",
        "**Programmers** have been exposed to the idea of *pilot projects* but have not learn the lesson yet.\n",
        "\n",
        "The first version of the system build is barely usable. It may be too slow, too big, awkward to use, or all of three. Do it again and solve the problems of the first version.\n",
        "\n",
        "**The Only Constancy Is Change Itself**\n",
        "\n"
      ]
    },
    {
      "cell_type": "markdown",
      "metadata": {
        "id": "bdxI4DYcNmDB"
      },
      "source": [
        "## Sharp Tools"
      ]
    },
    {
      "cell_type": "markdown",
      "metadata": {
        "id": "6gQXob-4Nn-p"
      },
      "source": [
        "## The Whole and the Parts"
      ]
    },
    {
      "cell_type": "markdown",
      "metadata": {
        "id": "oEmby3OcNrwk"
      },
      "source": [
        "## Hatching a Castastrophe"
      ]
    },
    {
      "cell_type": "markdown",
      "metadata": {
        "id": "aGFHixX1Num7"
      },
      "source": [
        "## The Other Face"
      ]
    },
    {
      "cell_type": "markdown",
      "metadata": {
        "id": "TTTNW-Q2Nxp4"
      },
      "source": [
        "## No Silver Bullet- Essence and Accident in Software Engineering"
      ]
    },
    {
      "cell_type": "markdown",
      "metadata": {
        "id": "cqzjg78PN4kz"
      },
      "source": [
        "## \"No Silver Bullet\" Refined"
      ]
    },
    {
      "cell_type": "markdown",
      "metadata": {
        "id": "IydT5XfQN8lL"
      },
      "source": [
        "## Propositions of The Mythical Man-Month: True or False?"
      ]
    },
    {
      "cell_type": "markdown",
      "metadata": {
        "id": "yKEatOrMOEPg"
      },
      "source": [
        "## The Mythical Man-Month after 20 Years"
      ]
    },
    {
      "cell_type": "markdown",
      "metadata": {
        "id": "Y4Pin7STOK8z"
      },
      "source": [
        "## Fifty Years of Wonder, Excitement, and Joy Notes and References"
      ]
    }
  ]
}