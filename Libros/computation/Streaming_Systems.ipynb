{
  "nbformat": 4,
  "nbformat_minor": 0,
  "metadata": {
    "colab": {
      "name": "Streaming Systems.ipynb",
      "provenance": [],
      "collapsed_sections": [],
      "authorship_tag": "ABX9TyMZmY9/8ltELcWtWEoCGK2w",
      "include_colab_link": true
    },
    "kernelspec": {
      "name": "python3",
      "display_name": "Python 3"
    },
    "language_info": {
      "name": "python"
    }
  },
  "cells": [
    {
      "cell_type": "markdown",
      "metadata": {
        "id": "view-in-github",
        "colab_type": "text"
      },
      "source": [
        "<a href=\"https://colab.research.google.com/github/dbremont/Notas/blob/main/Libros/computation/Streaming_Systems.ipynb\" target=\"_parent\"><img src=\"https://colab.research.google.com/assets/colab-badge.svg\" alt=\"Open In Colab\"/></a>"
      ]
    },
    {
      "cell_type": "markdown",
      "source": [
        "# The Beam Model"
      ],
      "metadata": {
        "id": "SCW9YzlS8naw"
      }
    },
    {
      "cell_type": "markdown",
      "source": [
        "## That What, Where, When, and How of Data Processing"
      ],
      "metadata": {
        "id": "0gubyRuxFCxn"
      }
    },
    {
      "cell_type": "markdown",
      "source": [
        "## Watermarks"
      ],
      "metadata": {
        "id": "s_pqDPvRGZsY"
      }
    },
    {
      "cell_type": "markdown",
      "source": [
        "## Advanced Windowing"
      ],
      "metadata": {
        "id": "lhtgrAw1S7SL"
      }
    },
    {
      "cell_type": "markdown",
      "source": [
        "## Exacly-Once and Side Effects"
      ],
      "metadata": {
        "id": "Vm7AKa0BS9Xp"
      }
    },
    {
      "cell_type": "markdown",
      "source": [
        "# Streams and Tables"
      ],
      "metadata": {
        "id": "zuBjxH66TEKP"
      }
    },
    {
      "cell_type": "markdown",
      "source": [
        "## Streams and Tables"
      ],
      "metadata": {
        "id": "2RQDjVzuZhFG"
      }
    },
    {
      "cell_type": "markdown",
      "source": [
        "## The Practicalities of Persistent State"
      ],
      "metadata": {
        "id": "MbD6kWc1fG5H"
      }
    },
    {
      "cell_type": "markdown",
      "source": [
        "## Streaming SQL"
      ],
      "metadata": {
        "id": "MwY51ONGfKFU"
      }
    },
    {
      "cell_type": "markdown",
      "source": [
        "## Streaming Joins"
      ],
      "metadata": {
        "id": "KlAHoIM0fMiR"
      }
    },
    {
      "cell_type": "markdown",
      "source": [
        "## The Evolution of Large-Scale Data Processing"
      ],
      "metadata": {
        "id": "iycifS3RfOxz"
      }
    }
  ]
}