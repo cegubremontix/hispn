{
  "nbformat": 4,
  "nbformat_minor": 0,
  "metadata": {
    "colab": {
      "name": "Probabilistic Data Structures and Algorithms for Big Data Applications.ipynb",
      "provenance": [],
      "collapsed_sections": [],
      "authorship_tag": "ABX9TyPLTufNTGxyz9P9bbS5/o/h",
      "include_colab_link": true
    },
    "kernelspec": {
      "name": "python3",
      "display_name": "Python 3"
    },
    "language_info": {
      "name": "python"
    }
  },
  "cells": [
    {
      "cell_type": "markdown",
      "metadata": {
        "id": "view-in-github",
        "colab_type": "text"
      },
      "source": [
        "<a href=\"https://colab.research.google.com/github/dbremont/Notas/blob/main/Libros/computation/Probabilistic_Data_Structures_and_Algorithms_for_Big_Data_Applications.ipynb\" target=\"_parent\"><img src=\"https://colab.research.google.com/assets/colab-badge.svg\" alt=\"Open In Colab\"/></a>"
      ]
    },
    {
      "cell_type": "markdown",
      "source": [
        "# Hashing"
      ],
      "metadata": {
        "id": "SCW9YzlS8naw"
      }
    },
    {
      "cell_type": "markdown",
      "source": [
        "# Membership"
      ],
      "metadata": {
        "id": "0gubyRuxFCxn"
      }
    },
    {
      "cell_type": "markdown",
      "source": [
        "# Cardinality"
      ],
      "metadata": {
        "id": "s_pqDPvRGZsY"
      }
    },
    {
      "cell_type": "markdown",
      "source": [
        "# Frequency"
      ],
      "metadata": {
        "id": "lhtgrAw1S7SL"
      }
    },
    {
      "cell_type": "markdown",
      "source": [
        "# Rank"
      ],
      "metadata": {
        "id": "Vm7AKa0BS9Xp"
      }
    },
    {
      "cell_type": "markdown",
      "source": [
        "# Similarity"
      ],
      "metadata": {
        "id": "zuBjxH66TEKP"
      }
    }
  ]
}