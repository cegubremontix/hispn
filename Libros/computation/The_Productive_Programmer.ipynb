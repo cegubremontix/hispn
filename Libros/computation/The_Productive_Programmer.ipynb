{
  "nbformat": 4,
  "nbformat_minor": 0,
  "metadata": {
    "colab": {
      "name": "The Productive Programmer.ipynb",
      "provenance": [],
      "toc_visible": true,
      "authorship_tag": "ABX9TyOKbQElu05BPfwPhYeMqI/M",
      "include_colab_link": true
    },
    "kernelspec": {
      "name": "python3",
      "display_name": "Python 3"
    },
    "language_info": {
      "name": "python"
    }
  },
  "cells": [
    {
      "cell_type": "markdown",
      "metadata": {
        "id": "view-in-github",
        "colab_type": "text"
      },
      "source": [
        "<a href=\"https://colab.research.google.com/github/dbremont/Notas/blob/main/Libros/Computacion/The_Productive_Programmer.ipynb\" target=\"_parent\"><img src=\"https://colab.research.google.com/assets/colab-badge.svg\" alt=\"Open In Colab\"/></a>"
      ]
    },
    {
      "cell_type": "markdown",
      "metadata": {
        "id": "Ece22H0tpTpb"
      },
      "source": [
        "# The Productive Programmer\n",
        "\n"
      ]
    },
    {
      "cell_type": "markdown",
      "metadata": {
        "id": "CVlYTavhIZ2a"
      },
      "source": [
        "## Introduction"
      ]
    },
    {
      "cell_type": "markdown",
      "metadata": {
        "id": "o1nv4hxJShv9"
      },
      "source": [
        ""
      ]
    },
    {
      "cell_type": "markdown",
      "metadata": {
        "id": "maFL-CZUQNuG"
      },
      "source": [
        "## Mechanics"
      ]
    },
    {
      "cell_type": "markdown",
      "metadata": {
        "id": "K93cdG5BSnfH"
      },
      "source": [
        "### Acceleration"
      ]
    },
    {
      "cell_type": "markdown",
      "metadata": {
        "id": "oiqIpu0dSqt1"
      },
      "source": [
        "### Focus"
      ]
    },
    {
      "cell_type": "markdown",
      "metadata": {
        "id": "XaP_CgsWSsX_"
      },
      "source": [
        "### Automation"
      ]
    },
    {
      "cell_type": "markdown",
      "metadata": {
        "id": "K9onVnwYSt_Y"
      },
      "source": [
        "### Canonicaly"
      ]
    },
    {
      "cell_type": "markdown",
      "metadata": {
        "id": "unK7iiWZQQRr"
      },
      "source": [
        "## Practice"
      ]
    },
    {
      "cell_type": "markdown",
      "metadata": {
        "id": "LCn-DVz-Riz2"
      },
      "source": [
        "### Test-Driven Design"
      ]
    },
    {
      "cell_type": "markdown",
      "metadata": {
        "id": "fDj7ETT2Rlek"
      },
      "source": [
        "### Static Analysis"
      ]
    },
    {
      "cell_type": "markdown",
      "metadata": {
        "id": "ZDN5Ng_FRp6e"
      },
      "source": [
        "### Good Citizenship"
      ]
    },
    {
      "cell_type": "markdown",
      "metadata": {
        "id": "tliyzmvHR98V"
      },
      "source": [
        "### YAGNI"
      ]
    },
    {
      "cell_type": "markdown",
      "metadata": {
        "id": "d0JJfCF9R_tI"
      },
      "source": [
        "### Ancient Philosophers"
      ]
    },
    {
      "cell_type": "markdown",
      "metadata": {
        "id": "rll9MzxVSDRh"
      },
      "source": [
        "### Question Authority"
      ]
    },
    {
      "cell_type": "markdown",
      "metadata": {
        "id": "tgEmExJcSGWA"
      },
      "source": [
        "### Meta-Programming"
      ]
    },
    {
      "cell_type": "markdown",
      "metadata": {
        "id": "ZM3aHVBlSINn"
      },
      "source": [
        "### Composed Method and SLAP"
      ]
    },
    {
      "cell_type": "markdown",
      "metadata": {
        "id": "7-lkcnJnSKzP"
      },
      "source": [
        "### Polyglot Programming"
      ]
    },
    {
      "cell_type": "markdown",
      "metadata": {
        "id": "Oa4SaDUrSPJg"
      },
      "source": [
        "### Find the Perfect Tools"
      ]
    },
    {
      "cell_type": "markdown",
      "metadata": {
        "id": "KLv7I3NOSTP7"
      },
      "source": [
        ""
      ]
    },
    {
      "cell_type": "markdown",
      "metadata": {
        "id": "cwFP8OzhQTSV"
      },
      "source": [
        "## Conclusion: Carrying on the Conversation"
      ]
    },
    {
      "cell_type": "markdown",
      "metadata": {
        "id": "5WdpZL5dSa4S"
      },
      "source": [
        "## Cygwin"
      ]
    },
    {
      "cell_type": "markdown",
      "metadata": {
        "id": "4LEBfwwmSeH2"
      },
      "source": [
        "## The Command Line"
      ]
    }
  ]
}