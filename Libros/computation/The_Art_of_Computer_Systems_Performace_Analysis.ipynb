{
  "nbformat": 4,
  "nbformat_minor": 0,
  "metadata": {
    "colab": {
      "name": "The Art of Computer Systems Performace Analysis.ipynb",
      "provenance": [],
      "authorship_tag": "ABX9TyO/Iw2VK1/4A3CacF//Jhe2",
      "include_colab_link": true
    },
    "kernelspec": {
      "name": "python3",
      "display_name": "Python 3"
    },
    "language_info": {
      "name": "python"
    }
  },
  "cells": [
    {
      "cell_type": "markdown",
      "metadata": {
        "id": "view-in-github",
        "colab_type": "text"
      },
      "source": [
        "<a href=\"https://colab.research.google.com/github/dbremont/Notas/blob/main/Libros/Computacion/The_Art_of_Computer_Systems_Performace_Analysis.ipynb\" target=\"_parent\"><img src=\"https://colab.research.google.com/assets/colab-badge.svg\" alt=\"Open In Colab\"/></a>"
      ]
    },
    {
      "cell_type": "markdown",
      "metadata": {
        "id": "_E-xqlK2IJYQ"
      },
      "source": [
        "# An Overview of Performace Evaluation"
      ]
    },
    {
      "cell_type": "markdown",
      "metadata": {
        "id": "4rf_ajI0IPJv"
      },
      "source": [
        "## Introduction"
      ]
    },
    {
      "cell_type": "markdown",
      "metadata": {
        "id": "tff-cgCgIQT2"
      },
      "source": [
        "## Common Mistakes and How to Avoid Them"
      ]
    },
    {
      "cell_type": "markdown",
      "metadata": {
        "id": "n32gysy5IUa1"
      },
      "source": [
        "## Selection of Techniques and Metrics"
      ]
    },
    {
      "cell_type": "markdown",
      "metadata": {
        "id": "8iuiNeoQIYK6"
      },
      "source": [
        "# Measurement Techniques and Tools"
      ]
    },
    {
      "cell_type": "markdown",
      "metadata": {
        "id": "RC7I8fCQIboE"
      },
      "source": [
        "## Types of Workloads"
      ]
    },
    {
      "cell_type": "markdown",
      "metadata": {
        "id": "sx-2Pzu-IeAl"
      },
      "source": [
        "## The Art of Workload Selection"
      ]
    },
    {
      "cell_type": "markdown",
      "metadata": {
        "id": "ObYTVyaOIhQw"
      },
      "source": [
        "## Workload Characterization Techniques"
      ]
    },
    {
      "cell_type": "markdown",
      "metadata": {
        "id": "e1y5QzbaIlRS"
      },
      "source": [
        "## Monitors"
      ]
    },
    {
      "cell_type": "markdown",
      "metadata": {
        "id": "EQXRroaNImx2"
      },
      "source": [
        "## Program Execution Monitors and Accounting Logs"
      ]
    },
    {
      "cell_type": "markdown",
      "metadata": {
        "id": "4j1EIkzaIqxk"
      },
      "source": [
        "## Capacity Planning and Benchmarking"
      ]
    },
    {
      "cell_type": "markdown",
      "metadata": {
        "id": "jJcvNFIHItuU"
      },
      "source": [
        "## The Art of Data Presentation"
      ]
    },
    {
      "cell_type": "markdown",
      "metadata": {
        "id": "idnkYarTIxTb"
      },
      "source": [
        "## Ratio Games"
      ]
    },
    {
      "cell_type": "markdown",
      "metadata": {
        "id": "H4Iol01aIzWp"
      },
      "source": [
        "# Probability Theory and Statistics"
      ]
    },
    {
      "cell_type": "markdown",
      "metadata": {
        "id": "Zcm-hciTI5Td"
      },
      "source": [
        "## Summarizing Measured Data"
      ]
    },
    {
      "cell_type": "markdown",
      "metadata": {
        "id": "WPpkify_I-Hl"
      },
      "source": [
        "## Comparing Systems Using Sample Data"
      ]
    },
    {
      "cell_type": "markdown",
      "metadata": {
        "id": "Nso7SPoVJBct"
      },
      "source": [
        "## Simple Linear Regression Models"
      ]
    },
    {
      "cell_type": "markdown",
      "metadata": {
        "id": "v4H38F6XJYTX"
      },
      "source": [
        "## Other Regression Models"
      ]
    },
    {
      "cell_type": "markdown",
      "metadata": {
        "id": "PBsTWrpKJbI1"
      },
      "source": [
        "# Experimental Design and Analysis"
      ]
    },
    {
      "cell_type": "markdown",
      "metadata": {
        "id": "y18RQyojJeUs"
      },
      "source": [
        "## Introduction to Experimental Design"
      ]
    },
    {
      "cell_type": "markdown",
      "metadata": {
        "id": "9OovcwO3JreR"
      },
      "source": [
        "## $2^k$ Factorial Designs"
      ]
    },
    {
      "cell_type": "markdown",
      "metadata": {
        "id": "L-_4Hbx3Jiz_"
      },
      "source": [
        "## $2^k$ Factorial Designs with Replications"
      ]
    },
    {
      "cell_type": "markdown",
      "metadata": {
        "id": "i7EYw3QVJoov"
      },
      "source": [
        "## $2^{k-p}$ Fractorial Factorial Designs"
      ]
    },
    {
      "cell_type": "markdown",
      "metadata": {
        "id": "SFjIfAniJ05l"
      },
      "source": [
        "## One-Factor Experiments"
      ]
    },
    {
      "cell_type": "markdown",
      "metadata": {
        "id": "nZPnG995J3TA"
      },
      "source": [
        "## Two-Factor Full Factorial Design without Replications"
      ]
    },
    {
      "cell_type": "markdown",
      "metadata": {
        "id": "wnydjPF6J-S_"
      },
      "source": [
        "## Two-Factor Full Factorial Design with Replications"
      ]
    },
    {
      "cell_type": "markdown",
      "metadata": {
        "id": "AoJnDA-kKER6"
      },
      "source": [
        "## General Full Factorial Designs with $k$ Factors"
      ]
    },
    {
      "cell_type": "markdown",
      "metadata": {
        "id": "oKA1mymfKJMh"
      },
      "source": [
        "# Simulation"
      ]
    },
    {
      "cell_type": "markdown",
      "metadata": {
        "id": "cgtZCxQDKLkg"
      },
      "source": [
        "## Introduction to Simulation"
      ]
    },
    {
      "cell_type": "markdown",
      "metadata": {
        "id": "DQd01EHaLLwB"
      },
      "source": [
        "## Analysis of Simulation Results"
      ]
    },
    {
      "cell_type": "markdown",
      "metadata": {
        "id": "_IHxRUn3LRtH"
      },
      "source": [
        "## Random-Number Generation"
      ]
    },
    {
      "cell_type": "markdown",
      "metadata": {
        "id": "JSAxtE7GLU-m"
      },
      "source": [
        "## Testing Random-Number Generators"
      ]
    },
    {
      "cell_type": "markdown",
      "metadata": {
        "id": "EZpOXXI9LZuS"
      },
      "source": [
        "## Random-Variate Generation"
      ]
    },
    {
      "cell_type": "markdown",
      "metadata": {
        "id": "LWU7VL9EM9GF"
      },
      "source": [
        "## Commondly Used Distributions"
      ]
    },
    {
      "cell_type": "markdown",
      "metadata": {
        "id": "luNDShhAM_61"
      },
      "source": [
        "# Queueing Models"
      ]
    },
    {
      "cell_type": "markdown",
      "metadata": {
        "id": "k-5v9anVNCnZ"
      },
      "source": [
        "## Introduction to Queueing Theory"
      ]
    },
    {
      "cell_type": "markdown",
      "metadata": {
        "id": "ItPJssyiNFhf"
      },
      "source": [
        "## Analysis of a Single Queue"
      ]
    },
    {
      "cell_type": "markdown",
      "metadata": {
        "id": "Kk7X1JB7NIFH"
      },
      "source": [
        "## Queueing Networks"
      ]
    },
    {
      "cell_type": "markdown",
      "metadata": {
        "id": "NAYjnTjENKX-"
      },
      "source": [
        "## Operational Laws"
      ]
    },
    {
      "cell_type": "markdown",
      "metadata": {
        "id": "8hgpjPRwNMh6"
      },
      "source": [
        "## Mean-Value Analysis and Related Techniques"
      ]
    },
    {
      "cell_type": "markdown",
      "metadata": {
        "id": "VZORA3ToNQNn"
      },
      "source": [
        "## Convolution Algorithm"
      ]
    },
    {
      "cell_type": "markdown",
      "metadata": {
        "id": "2j-GWLxaNTqP"
      },
      "source": [
        "## Hierarchical Decomposition of Large Queueing Networks"
      ]
    }
  ]
}