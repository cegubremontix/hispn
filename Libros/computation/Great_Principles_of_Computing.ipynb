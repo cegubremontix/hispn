{
  "nbformat": 4,
  "nbformat_minor": 0,
  "metadata": {
    "colab": {
      "name": "Great Principles of Computing.ipynb",
      "provenance": [],
      "toc_visible": true,
      "authorship_tag": "ABX9TyPBKAO8Blq1E8ea0eZve4Lr",
      "include_colab_link": true
    },
    "kernelspec": {
      "name": "python3",
      "display_name": "Python 3"
    },
    "language_info": {
      "name": "python"
    }
  },
  "cells": [
    {
      "cell_type": "markdown",
      "metadata": {
        "id": "view-in-github",
        "colab_type": "text"
      },
      "source": [
        "<a href=\"https://colab.research.google.com/github/dbremont/Notas/blob/main/Libros/Computacion/Great_Principles_of_Computing.ipynb\" target=\"_parent\"><img src=\"https://colab.research.google.com/assets/colab-badge.svg\" alt=\"Open In Colab\"/></a>"
      ]
    },
    {
      "cell_type": "markdown",
      "metadata": {
        "id": "tJPw5Df91dQV"
      },
      "source": [
        "# Great Principles of Computing\n",
        "\n",
        "1. Communication (3, 11)\n",
        "2. Computation (4,5,6)\n",
        "3. Coordination (2,8,9)\n",
        "4. Recollection (7, 11)\n",
        "5. Evaluation (9, 10)\n",
        "6. Design (10)\n",
        "\n",
        "22/287"
      ]
    },
    {
      "cell_type": "markdown",
      "metadata": {
        "id": "IX1C-aib5LFW"
      },
      "source": [
        "## Computing"
      ]
    },
    {
      "cell_type": "markdown",
      "metadata": {
        "id": "sLia_YnGxtUW"
      },
      "source": [
        "- Computing started as a discipline in the 30's with some academic papers from Alonzo Church, Emil Post and Alan Turing. They so the importance of **automatic computation**.\n",
        "\n",
        "- Recognizing  that the computer itself is just a tool for stuying information processes, the field shifted its focus from the machine itself to information transformations.\n",
        "\n",
        "**The Great Principles in More Detailed**:\n",
        "\n",
        "1. **Communication** : Reliably moving information between locations.\n",
        "\n",
        "2. **Computation** : What can and cannot be computed.\n",
        "\n",
        "3. **Coordination**:  Effectively using many autonomous computing agents.\n",
        "\n",
        "4. **Recollection** : Representing, storing, and retrieving information from media.\n",
        "\n",
        "5. **Evaluation** : Measuring whether systems produced intended computations.\n",
        "\n",
        "6. **Design** : Structuring software systems for reability and dependabilty."
      ]
    },
    {
      "cell_type": "markdown",
      "metadata": {
        "id": "p4l_tv7c5RYU"
      },
      "source": [
        "## Domains"
      ]
    },
    {
      "cell_type": "markdown",
      "metadata": {
        "id": "bZZBSBZcAJZU"
      },
      "source": [
        "> Science and appplications of science are bound together as the fruit of the tree which bears it. Louis Pasteur\n",
        "\n",
        "- The action of ecomputing cames from people, nto principles.\n",
        "- Computer Domains shares a set of tools, and people and interact with other domains/communities:\n",
        "  - Numerical aerodynamic simulation\n",
        "  - Computer Security\n",
        "\n",
        "We analyze four computings domains:\n",
        "  - Security,\n",
        "  - Artificial Intelligence,\n",
        "  - Cloud Computing,\n",
        "  - Big Data,\n",
        "\n",
        "Analysis Framework:\n",
        "  - Who is involved in the domain\n",
        "  - What domain problems, concerns, and interests are taken care of in the domain\n",
        "  - What computing principles are mobilized for the domain\n",
        "  - How domains have generated new principles for computing as well as the other participating fields\n",
        "\n",
        "**Domains and Principles**\n",
        "\n",
        "A useful startegy for representing a field's body of knowledge, is to enumerate its domains  and principles, in separation and the relation between.\n",
        "\n",
        "**Security**"
      ]
    },
    {
      "cell_type": "markdown",
      "metadata": {
        "id": "a64Pdx695tmW"
      },
      "source": [
        "## Information"
      ]
    },
    {
      "cell_type": "markdown",
      "metadata": {
        "id": "oNQ1U0r2spA-"
      },
      "source": [
        "> The semantic aspects of communication are irrelevant to the engineering problem. Claude E. Shannon\n",
        "\n",
        "> Sofware is not just an interaction device, it generates a space in which the user lives. Terry Winograd\n",
        "\n",
        "- Information under Shannon definition is not meaning.\n",
        "- In this chapter the author trys to shows that clasical information theory can not explain meaning and generation of the new information.\n",
        "  - Does clasical information tries to explian meaning in the first  place?\n",
        "\n",
        "**Representing Information**\n",
        "\n",
        "**Communication Systems**\n",
        "\n",
        "**Measuring Information**\n",
        "\n",
        "**Transforming Information**\n",
        "\n",
        "**Interaction Systems**\n",
        "\n",
        "**Resolving the Paradoxes**\n",
        "\n",
        "**Information and Discovery**"
      ]
    },
    {
      "cell_type": "markdown",
      "metadata": {
        "id": "9D7q28GC5twl"
      },
      "source": [
        "## Machines"
      ]
    },
    {
      "cell_type": "markdown",
      "metadata": {
        "id": "_Qhyry_S5zWM"
      },
      "source": [
        "## Programming"
      ]
    },
    {
      "cell_type": "markdown",
      "metadata": {
        "id": "iuUU_4405LMe"
      },
      "source": [
        "## Computation"
      ]
    },
    {
      "cell_type": "markdown",
      "metadata": {
        "id": "oNopff685R5U"
      },
      "source": [
        "## Memory"
      ]
    },
    {
      "cell_type": "markdown",
      "metadata": {
        "id": "a7N1nlob5531"
      },
      "source": [
        "## Parallelism"
      ]
    },
    {
      "cell_type": "markdown",
      "metadata": {
        "id": "nGSnoMH46ON5"
      },
      "source": [
        "## Queueing"
      ]
    },
    {
      "cell_type": "markdown",
      "metadata": {
        "id": "_F92xpsS6OTL"
      },
      "source": [
        "## Design"
      ]
    },
    {
      "cell_type": "markdown",
      "metadata": {
        "id": "2YXDM-O09Eqw"
      },
      "source": [
        "## Networking"
      ]
    },
    {
      "cell_type": "markdown",
      "metadata": {
        "id": "3IJiNi149IH-"
      },
      "source": [
        "## Afterword"
      ]
    }
  ]
}