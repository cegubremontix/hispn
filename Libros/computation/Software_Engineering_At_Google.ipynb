{
  "nbformat": 4,
  "nbformat_minor": 0,
  "metadata": {
    "colab": {
      "name": "Software Engineering At Google.ipynb",
      "provenance": [],
      "toc_visible": true,
      "authorship_tag": "ABX9TyNu1B1MmacfMKMqzhtTUMMQ",
      "include_colab_link": true
    },
    "kernelspec": {
      "name": "python3",
      "display_name": "Python 3"
    },
    "language_info": {
      "name": "python"
    }
  },
  "cells": [
    {
      "cell_type": "markdown",
      "metadata": {
        "id": "view-in-github",
        "colab_type": "text"
      },
      "source": [
        "<a href=\"https://colab.research.google.com/github/dbremont/Notas/blob/main/Libros/Computacion/Software_Engineering_At_Google.ipynb\" target=\"_parent\"><img src=\"https://colab.research.google.com/assets/colab-badge.svg\" alt=\"Open In Colab\"/></a>"
      ]
    },
    {
      "cell_type": "markdown",
      "metadata": {
        "id": "Ece22H0tpTpb"
      },
      "source": [
        "# Software Engineering At Google\n"
      ]
    },
    {
      "cell_type": "markdown",
      "metadata": {
        "id": "pm-b6OUJ6p2Q"
      },
      "source": [
        "## Thesis"
      ]
    },
    {
      "cell_type": "markdown",
      "metadata": {
        "id": "xvHsQP8c6r5i"
      },
      "source": [
        "### What is Software Engineering?"
      ]
    },
    {
      "cell_type": "markdown",
      "metadata": {
        "id": "o-Lqtyx_8b6P"
      },
      "source": [
        "1. Distributed Builds Great Example\n",
        "  - Jevons Paradox\n",
        "  - Beyonce's Rule\n"
      ]
    },
    {
      "cell_type": "markdown",
      "metadata": {
        "id": "Yis4qtXa6vlb"
      },
      "source": [
        "## Culture"
      ]
    },
    {
      "cell_type": "markdown",
      "metadata": {
        "id": "e-hiz7ri6x6S"
      },
      "source": [
        "###  How to Work Well on Teams"
      ]
    },
    {
      "cell_type": "markdown",
      "metadata": {
        "id": "czdjmlkQ64MS"
      },
      "source": [
        "### Knowledge Sharing"
      ]
    },
    {
      "cell_type": "markdown",
      "metadata": {
        "id": "9BJOrKhf677i"
      },
      "source": [
        "### Engineering for Equity"
      ]
    },
    {
      "cell_type": "markdown",
      "metadata": {
        "id": "bXZeb-sx7AXU"
      },
      "source": [
        "### How to Lead a Team"
      ]
    },
    {
      "cell_type": "markdown",
      "metadata": {
        "id": "NvZ3WFDi7DxC"
      },
      "source": [
        "### Leading a Scale"
      ]
    },
    {
      "cell_type": "markdown",
      "metadata": {
        "id": "RdPduQVg7Gk5"
      },
      "source": [
        "### Measuring Engineering Productivy"
      ]
    },
    {
      "cell_type": "markdown",
      "metadata": {
        "id": "x4f7pZkK7KLb"
      },
      "source": [
        "## Processes"
      ]
    },
    {
      "cell_type": "markdown",
      "metadata": {
        "id": "w03cjO_n7NCw"
      },
      "source": [
        "### Style Guides and Rules"
      ]
    },
    {
      "cell_type": "markdown",
      "metadata": {
        "id": "aOey3pit7QVI"
      },
      "source": [
        "### Code Review"
      ]
    },
    {
      "cell_type": "markdown",
      "metadata": {
        "id": "Nmlyy6l47Si-"
      },
      "source": [
        "### Documentation"
      ]
    },
    {
      "cell_type": "markdown",
      "metadata": {
        "id": "aOZinf7B7VP7"
      },
      "source": [
        "### Testing Overview"
      ]
    },
    {
      "cell_type": "markdown",
      "metadata": {
        "id": "nfBKmSqB7YWP"
      },
      "source": [
        "### Unit Testing"
      ]
    },
    {
      "cell_type": "markdown",
      "metadata": {
        "id": "2Uub86Mu7awm"
      },
      "source": [
        "### Test Doubles"
      ]
    },
    {
      "cell_type": "markdown",
      "metadata": {
        "id": "STMTPEEv7duB"
      },
      "source": [
        "### Larger Testing"
      ]
    },
    {
      "cell_type": "markdown",
      "metadata": {
        "id": "1C6LOWxF7f54"
      },
      "source": [
        "### Deprecation"
      ]
    },
    {
      "cell_type": "markdown",
      "metadata": {
        "id": "c9Xh5V6u7iEb"
      },
      "source": [
        "## Tools "
      ]
    },
    {
      "cell_type": "markdown",
      "metadata": {
        "id": "SjNv3Cs27mTx"
      },
      "source": [
        "### Version Control and Branch Management"
      ]
    },
    {
      "cell_type": "markdown",
      "metadata": {
        "id": "LEPcPqXh7xi8"
      },
      "source": [
        "### Code Search"
      ]
    },
    {
      "cell_type": "markdown",
      "metadata": {
        "id": "wb_MqgtX1kXp"
      },
      "source": [
        "- **Code Search**: Is a tool for browsing and searching code at Google that consist of a frontend UI and various backends elements.\n",
        "\n",
        "- "
      ]
    },
    {
      "cell_type": "markdown",
      "metadata": {
        "id": "rPX6RIf571Y9"
      },
      "source": [
        "### Build Systems and Build Philosophy"
      ]
    },
    {
      "cell_type": "markdown",
      "metadata": {
        "id": "F1RSlXdv76w0"
      },
      "source": [
        "### Critique: Google's Code Review Tool"
      ]
    },
    {
      "cell_type": "markdown",
      "metadata": {
        "id": "nf4tOQub8Aih"
      },
      "source": [
        "### Static Analysis"
      ]
    },
    {
      "cell_type": "markdown",
      "metadata": {
        "id": "nXzCJjPi8Dot"
      },
      "source": [
        "### Dependency Management"
      ]
    },
    {
      "cell_type": "markdown",
      "metadata": {
        "id": "GlHIZ6dr8Gyv"
      },
      "source": [
        "### Large-Scale Changes"
      ]
    },
    {
      "cell_type": "markdown",
      "metadata": {
        "id": "Elm4CQEj8J9f"
      },
      "source": [
        "### Continous Integration"
      ]
    },
    {
      "cell_type": "markdown",
      "metadata": {
        "id": "KOJy3stU8OYX"
      },
      "source": [
        "### Continious Delivery"
      ]
    },
    {
      "cell_type": "markdown",
      "metadata": {
        "id": "_2dvjgYo8S1F"
      },
      "source": [
        "### Compute as a Service"
      ]
    },
    {
      "cell_type": "markdown",
      "metadata": {
        "id": "SnOvIfoz8XZi"
      },
      "source": [
        "## Conclucion"
      ]
    }
  ]
}