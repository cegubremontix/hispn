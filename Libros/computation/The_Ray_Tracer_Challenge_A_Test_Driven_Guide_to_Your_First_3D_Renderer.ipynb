{
  "nbformat": 4,
  "nbformat_minor": 0,
  "metadata": {
    "colab": {
      "name": "The Ray Tracer Challenge: A Test-Driven Guide to Your First 3D Renderer.ipynb",
      "provenance": [],
      "authorship_tag": "ABX9TyMmYFXl79vjHyRYLSemNXYx",
      "include_colab_link": true
    },
    "kernelspec": {
      "name": "python3",
      "display_name": "Python 3"
    },
    "language_info": {
      "name": "python"
    }
  },
  "cells": [
    {
      "cell_type": "markdown",
      "metadata": {
        "id": "view-in-github",
        "colab_type": "text"
      },
      "source": [
        "<a href=\"https://colab.research.google.com/github/dbremont/Notas/blob/main/Libros/Computacion/The_Ray_Tracer_Challenge_A_Test_Driven_Guide_to_Your_First_3D_Renderer.ipynb\" target=\"_parent\"><img src=\"https://colab.research.google.com/assets/colab-badge.svg\" alt=\"Open In Colab\"/></a>"
      ]
    },
    {
      "cell_type": "markdown",
      "source": [
        "## Getting Started"
      ],
      "metadata": {
        "id": "VGKxXWREKFtq"
      }
    },
    {
      "cell_type": "markdown",
      "source": [
        "## Tuples, Points, and Vectors"
      ],
      "metadata": {
        "id": "19bE766rKNym"
      }
    },
    {
      "cell_type": "markdown",
      "source": [
        "## Drawing on a Canvas"
      ],
      "metadata": {
        "id": "nOzll7E8KP8E"
      }
    },
    {
      "cell_type": "markdown",
      "source": [
        "## Matrices"
      ],
      "metadata": {
        "id": "4iqXlWtZKSr5"
      }
    },
    {
      "cell_type": "markdown",
      "source": [
        "## Matrix Transformations"
      ],
      "metadata": {
        "id": "XzW6cro-KUtt"
      }
    },
    {
      "cell_type": "markdown",
      "source": [
        "## Ray-Sphere Intersections"
      ],
      "metadata": {
        "id": "fk2PCP9rKWkW"
      }
    },
    {
      "cell_type": "markdown",
      "source": [
        "## Light and Shading"
      ],
      "metadata": {
        "id": "4_eYvELkKYi4"
      }
    },
    {
      "cell_type": "markdown",
      "source": [
        "## Making a Scene"
      ],
      "metadata": {
        "id": "o4lPtAyrKbYp"
      }
    },
    {
      "cell_type": "markdown",
      "source": [
        "## Shadows"
      ],
      "metadata": {
        "id": "X9s1utA-Kc-f"
      }
    },
    {
      "cell_type": "markdown",
      "source": [
        "## Planes"
      ],
      "metadata": {
        "id": "UUE3dhEqKeRk"
      }
    },
    {
      "cell_type": "markdown",
      "source": [
        "## Patterns"
      ],
      "metadata": {
        "id": "i_s0wHUqKfl6"
      }
    },
    {
      "cell_type": "markdown",
      "source": [
        "## Reflection and Refraction"
      ],
      "metadata": {
        "id": "1zREFRXwKzMf"
      }
    },
    {
      "cell_type": "markdown",
      "source": [
        "## Cubes"
      ],
      "metadata": {
        "id": "tlWqwWhFK0hA"
      }
    },
    {
      "cell_type": "markdown",
      "source": [
        "## Cylinders"
      ],
      "metadata": {
        "id": "RSjX3lC3K1wV"
      }
    },
    {
      "cell_type": "markdown",
      "source": [
        "## Groups"
      ],
      "metadata": {
        "id": "xYDbzv0kK28N"
      }
    },
    {
      "cell_type": "markdown",
      "source": [
        "## Triangles"
      ],
      "metadata": {
        "id": "YuPb6W3TK4nU"
      }
    },
    {
      "cell_type": "markdown",
      "source": [
        "## Constructive Solid Geometry (CSG)"
      ],
      "metadata": {
        "id": "PzA4mEtUK6wN"
      }
    },
    {
      "cell_type": "markdown",
      "source": [
        "## Next Steps"
      ],
      "metadata": {
        "id": "YyT2Du0dK86O"
      }
    }
  ]
}