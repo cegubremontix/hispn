{
  "nbformat": 4,
  "nbformat_minor": 0,
  "metadata": {
    "colab": {
      "name": "Structure and Interpretation of Computer Programs.ipynb",
      "provenance": [],
      "include_colab_link": true
    },
    "kernelspec": {
      "name": "python3",
      "display_name": "Python 3"
    },
    "language_info": {
      "name": "python"
    }
  },
  "cells": [
    {
      "cell_type": "markdown",
      "metadata": {
        "id": "view-in-github",
        "colab_type": "text"
      },
      "source": [
        "<a href=\"https://colab.research.google.com/github/dbremont/Notas/blob/main/Libros/computation/Structure_and_Interpretation_of_Computer_Programs.ipynb\" target=\"_parent\"><img src=\"https://colab.research.google.com/assets/colab-badge.svg\" alt=\"Open In Colab\"/></a>"
      ]
    },
    {
      "cell_type": "markdown",
      "metadata": {
        "id": "ot9heWSZloGJ"
      },
      "source": [
        "## Building Abstractions with Procedures"
      ]
    },
    {
      "cell_type": "markdown",
      "source": [
        "> See fun in programming by seeing computers as more than they are. As trying to make more of the computer.  Alan Perlis\n",
        "\n",
        "`Universal Data Structure`: The tagged-list representation of expressions and statements, paired with environments that associate names with values.\n",
        "\n",
        "`Universal Function`: The apply function.\n",
        "\n",
        "- Use these to explore the idea of universal functions : https://math.stackexchange.com/questions/309603/how-is-the-set-of-all-programs-countable\n",
        "\n",
        "- [SKI combinator calculus](https://en.wikipedia.org/wiki/SKI_combinator_calculus)\n",
        "\n",
        "So while in principle we could get by with just one universal function, we prefer to modularize our code, ot give names to the various pieces, and to mention the names of function descriptions rather than constantly the descriptions themselves to the universal function.\n",
        "\n",
        "A good programmer build a working vocabulary.\n",
        "\n",
        "Nosted list as another universal data structure.\n",
        "- XML,\n",
        "- JSON\n",
        "\n",
        "Other nested universal data structures:\n",
        "- XML,\n",
        "- JSON\n",
        "\n",
        "On Universal Data Stuctures:\n",
        "\n",
        "In modern times we have new approaches to organize the data, the object oriented approach is one of them.\n",
        "\n",
        "Names as a medium of abstractions.\n",
        "\n",
        "\n",
        "\n"
      ],
      "metadata": {
        "id": "wpuXntDlFz08"
      }
    },
    {
      "cell_type": "markdown",
      "metadata": {
        "id": "bTgztV5nlz7y"
      },
      "source": [
        "### The Elements of Programming\n",
        "### Procedures and the Processes They Generate\n",
        "### Formulating Abstractions with Higher-Order Procedures\n"
      ]
    },
    {
      "cell_type": "markdown",
      "metadata": {
        "id": "uvosmFx0lq8Z"
      },
      "source": [
        "## Building Abstractions with Data"
      ]
    },
    {
      "cell_type": "markdown",
      "metadata": {
        "id": "Fy0suo_Xl9cv"
      },
      "source": [
        "### Introduction to Data Abstraction\n",
        "### Hierarhical Data and Closure Property\n",
        "### Symbolic Data\n",
        "### Multiple Representations for Abstract Data\n",
        "### Systems with Generic Operations"
      ]
    },
    {
      "cell_type": "markdown",
      "metadata": {
        "id": "ecv0jcKJls55"
      },
      "source": [
        "## Modularity, Objects, and State"
      ]
    },
    {
      "cell_type": "markdown",
      "metadata": {
        "id": "9jzpZfTwmbHI"
      },
      "source": [
        "### Assignment and Local State\n",
        "### The Environment Model of Evoluation\n",
        "### Modeling with Mutable Data\n",
        "### Concurrency: Time Is of the Essence\n",
        "### Streams"
      ]
    },
    {
      "cell_type": "markdown",
      "metadata": {
        "id": "pY_LnzLmlvDw"
      },
      "source": [
        "## Metalinguistic Abstraction"
      ]
    },
    {
      "cell_type": "markdown",
      "metadata": {
        "id": "9IlpRE-BmtP1"
      },
      "source": [
        "### The Metacircular Evaluator\n",
        "### Variations on a Scheme — Lazy Evaluation\n",
        "### Variations on a Scheme — Nondeterministic Computing\n",
        "### Logic Programming"
      ]
    },
    {
      "cell_type": "markdown",
      "metadata": {
        "id": "bhMqkLZ7lDXY"
      },
      "source": [
        "## Computing with Register Machines\n",
        "\n",
        "\n",
        "\n"
      ]
    },
    {
      "cell_type": "markdown",
      "metadata": {
        "id": "dOFdZGrqm4ZV"
      },
      "source": [
        "### Designing Register Machines\n",
        "### A Register-Machine Simulator\n",
        "### Storage Allocation and Garbage Collection\n",
        "### The Explicit-Control Evaluator\n",
        "### Compilation"
      ]
    }
  ]
}