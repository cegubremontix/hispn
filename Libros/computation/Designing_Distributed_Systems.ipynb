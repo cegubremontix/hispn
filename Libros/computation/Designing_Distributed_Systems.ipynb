{
  "nbformat": 4,
  "nbformat_minor": 0,
  "metadata": {
    "colab": {
      "name": "Designing Distributed Systems.ipynb",
      "provenance": [],
      "toc_visible": true,
      "authorship_tag": "ABX9TyM3E4VveMSmeubheE6JIHF7",
      "include_colab_link": true
    },
    "kernelspec": {
      "name": "python3",
      "display_name": "Python 3"
    },
    "language_info": {
      "name": "python"
    }
  },
  "cells": [
    {
      "cell_type": "markdown",
      "metadata": {
        "id": "view-in-github",
        "colab_type": "text"
      },
      "source": [
        "<a href=\"https://colab.research.google.com/github/dbremont/Notas/blob/main/Libros/Computacion/Designing_Distributed_Systems.ipynb\" target=\"_parent\"><img src=\"https://colab.research.google.com/assets/colab-badge.svg\" alt=\"Open In Colab\"/></a>"
      ]
    },
    {
      "cell_type": "markdown",
      "metadata": {
        "id": "2nOeGqspsxvD"
      },
      "source": [
        "## Introduction"
      ]
    },
    {
      "cell_type": "markdown",
      "metadata": {
        "id": "l2xV_npKv1-f"
      },
      "source": [
        "# Single-Node Patterns"
      ]
    },
    {
      "cell_type": "markdown",
      "metadata": {
        "id": "ihJqcdYKv3--"
      },
      "source": [
        "## The Sidecar Pattern"
      ]
    },
    {
      "cell_type": "markdown",
      "metadata": {
        "id": "eXsyvwK2v91l"
      },
      "source": [
        "## Ambassadors"
      ]
    },
    {
      "cell_type": "markdown",
      "metadata": {
        "id": "i3AhTrZ_wCJ5"
      },
      "source": [
        "## Adapters"
      ]
    },
    {
      "cell_type": "markdown",
      "metadata": {
        "id": "NBuB1CjQwEfG"
      },
      "source": [
        "# Serving Patterns"
      ]
    },
    {
      "cell_type": "markdown",
      "metadata": {
        "id": "lBfBYVEPwHAo"
      },
      "source": [
        "## Replicated Load-Balanced Services"
      ]
    },
    {
      "cell_type": "markdown",
      "metadata": {
        "id": "UwBfPuNSwYDA"
      },
      "source": [
        "## Shared Services"
      ]
    },
    {
      "cell_type": "markdown",
      "metadata": {
        "id": "KLBK2aFewa8j"
      },
      "source": [
        "## Scatter/Gather"
      ]
    },
    {
      "cell_type": "markdown",
      "metadata": {
        "id": "OoVdi8egwdiW"
      },
      "source": [
        "## Functions and Event-Driven Processing"
      ]
    },
    {
      "cell_type": "markdown",
      "metadata": {
        "id": "7ZRm7uB6whx5"
      },
      "source": [
        "## Ownership Election"
      ]
    },
    {
      "cell_type": "markdown",
      "metadata": {
        "id": "wIIK8k5ZwmkA"
      },
      "source": [
        "# Batch Computational Patterns"
      ]
    },
    {
      "cell_type": "markdown",
      "metadata": {
        "id": "geCa5WaKwrVm"
      },
      "source": [
        "## Work Queue Systems"
      ]
    },
    {
      "cell_type": "markdown",
      "metadata": {
        "id": "qyv_RfI1w6lV"
      },
      "source": [
        "## Event-Driven Batch Processing"
      ]
    },
    {
      "cell_type": "markdown",
      "metadata": {
        "id": "DxD6QhiSw9-3"
      },
      "source": [
        "## Coordinated Batch Processing"
      ]
    },
    {
      "cell_type": "markdown",
      "metadata": {
        "id": "uPw5mZnrxCPX"
      },
      "source": [
        "## Conclusion: A New Beginning?"
      ]
    },
    {
      "cell_type": "markdown",
      "metadata": {
        "id": "GzEzxufgx1NV"
      },
      "source": [
        "Index"
      ]
    },
    {
      "cell_type": "markdown",
      "metadata": {
        "id": "lHi6dnBBx2n5"
      },
      "source": [
        "Apache Storm\n",
        "\n",
        "pub/sub\n",
        "\n",
        "background processing\n",
        "\n",
        "coordinated batch processing\n",
        "\n",
        "event-driven batch procesing systems\n",
        "\n",
        "multi-note batch paterns\n",
        "\n",
        "cachin glayer\n",
        "\n",
        "consensus algorithm\n",
        "\n",
        "concurent data mniapulation\n",
        "\n",
        "configuration synchonization\n",
        "\n",
        "consistent hashing function\n",
        "\n",
        "container gorup\n",
        "\n",
        "container images\n",
        "\n",
        "container patterns\n",
        "\n",
        "coordinated batch processing\n",
        "\n",
        "join paterns\n",
        "\n",
        "reduce pattern\n",
        "\n",
        "copier pattern\n",
        "\n",
        "decorator pattern\n",
        "\n",
        "deep monitoring\n",
        "\n",
        "dictonary-server service\n",
        "\n",
        "distributed consensus algorithm\n",
        "\n",
        "document search\n",
        "\n",
        "dynamic condiguration\n",
        "\n",
        "event handling\n",
        "\n",
        "etdc\n",
        "\n",
        "event-based pipelines\n",
        "\n",
        "health monitoring\n",
        "\n",
        "hit rate\n",
        "\n",
        "horizontally scalable systems\n",
        "\n",
        "hot sharding systems\n",
        "\n",
        "key-value stores\n",
        "\n",
        "latency\n",
        "\n",
        "leaf sharding\n",
        "\n",
        "leases\n",
        "\n",
        "load-balanced \n",
        "\n",
        "lock\n",
        "\n",
        "logging\n",
        "\n",
        "MapReduce Pattern\n",
        "\n",
        "master election\n",
        "\n",
        "memcache\n",
        "\n",
        "merge pattern\n",
        "\n",
        "micro-containers\n",
        "\n",
        "micro-services\n",
        "\n",
        "monitoring\n",
        "\n",
        "MySQL databsae\n",
        "\n",
        "pipelines\n",
        "\n",
        "Prometheus\n",
        "\n",
        "rate limiting\n",
        "\n",
        "reduce pattern\n",
        "\n",
        "renewable lock\n",
        "\n",
        "request decorator\n",
        "\n",
        "reousrce isolation\n",
        "\n",
        "response decorator\n",
        "\n",
        "scaling\n",
        "\n",
        "scatter/gather pattern\n",
        "\n",
        "service broker\n",
        "\n",
        "service discovery\n",
        "\n",
        "serving patterns\n",
        "\n",
        "session tracked services\n",
        "\n",
        "sharded services\n",
        "\n",
        "teeing\n",
        "\n",
        "two-factor authentication\n",
        "\n",
        "workflow systems"
      ]
    }
  ]
}