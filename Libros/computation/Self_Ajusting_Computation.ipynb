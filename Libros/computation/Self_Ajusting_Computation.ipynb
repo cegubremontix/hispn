{
  "nbformat": 4,
  "nbformat_minor": 0,
  "metadata": {
    "colab": {
      "name": "Self Ajusting Computation.ipynb",
      "provenance": [],
      "authorship_tag": "ABX9TyM+rN8dsW3lBov0k3xPZ9xX",
      "include_colab_link": true
    },
    "kernelspec": {
      "name": "python3",
      "display_name": "Python 3"
    },
    "language_info": {
      "name": "python"
    }
  },
  "cells": [
    {
      "cell_type": "markdown",
      "metadata": {
        "id": "view-in-github",
        "colab_type": "text"
      },
      "source": [
        "<a href=\"https://colab.research.google.com/github/dbremont/Notas/blob/main/Libros/Computacion/Self_Ajusting_Computation.ipynb\" target=\"_parent\"><img src=\"https://colab.research.google.com/assets/colab-badge.svg\" alt=\"Open In Colab\"/></a>"
      ]
    },
    {
      "cell_type": "markdown",
      "source": [
        "## Introduction"
      ],
      "metadata": {
        "id": "cBcRo1sXVk3T"
      }
    },
    {
      "cell_type": "markdown",
      "source": [
        "## Related Work"
      ],
      "metadata": {
        "id": "v7KZQFOQWAcL"
      }
    },
    {
      "cell_type": "markdown",
      "source": [
        "# Algorithms and Data Structures"
      ],
      "metadata": {
        "id": "10QvxzMpWD8o"
      }
    },
    {
      "cell_type": "markdown",
      "source": [
        "## The Machine Model"
      ],
      "metadata": {
        "id": "L0yeemBlWGBt"
      }
    },
    {
      "cell_type": "markdown",
      "source": [
        "## Dynamic Dependence Graphs"
      ],
      "metadata": {
        "id": "Q1uttML1WHv7"
      }
    },
    {
      "cell_type": "markdown",
      "source": [
        "## Momoized Dynamic Dependence Graphs"
      ],
      "metadata": {
        "id": "K6Pl2B_9WS81"
      }
    },
    {
      "cell_type": "markdown",
      "source": [
        "## Data Structures and Analysis"
      ],
      "metadata": {
        "id": "iz02ueY_WV6r"
      }
    },
    {
      "cell_type": "markdown",
      "source": [
        "## Tree Stability"
      ],
      "metadata": {
        "id": "hidb1FhQWYm6"
      }
    },
    {
      "cell_type": "markdown",
      "source": [
        "# Applications"
      ],
      "metadata": {
        "id": "rSu1PMTYWuK9"
      }
    },
    {
      "cell_type": "markdown",
      "source": [
        "## List Algorithms"
      ],
      "metadata": {
        "id": "6USTXCpfWvfs"
      }
    },
    {
      "cell_type": "markdown",
      "source": [
        "## Tree Contraction"
      ],
      "metadata": {
        "id": "vbD0_GfdWx8x"
      }
    },
    {
      "cell_type": "markdown",
      "source": [
        "# Language Techniques"
      ],
      "metadata": {
        "id": "5G8n-IOOWzh2"
      }
    },
    {
      "cell_type": "markdown",
      "source": [
        "## Adaptive Functional Programming"
      ],
      "metadata": {
        "id": "PHB3XgfeXhIN"
      }
    },
    {
      "cell_type": "markdown",
      "source": [
        "## Selective Memoization"
      ],
      "metadata": {
        "id": "1b-lyhEHXlBW"
      }
    },
    {
      "cell_type": "markdown",
      "source": [
        "## Self-Ajusting Functional Programming"
      ],
      "metadata": {
        "id": "mD-Zc43gXnlO"
      }
    },
    {
      "cell_type": "markdown",
      "source": [
        "## Imperative Self-Ajusting Programming"
      ],
      "metadata": {
        "id": "zgtjTw_UXsDR"
      }
    },
    {
      "cell_type": "markdown",
      "source": [
        "## Implementation and Experiments"
      ],
      "metadata": {
        "id": "w1kvP7yYXwIU"
      }
    },
    {
      "cell_type": "markdown",
      "source": [
        "## A General-Purporse Library"
      ],
      "metadata": {
        "id": "AL2906DCXzR_"
      }
    },
    {
      "cell_type": "markdown",
      "source": [
        "## Kinetic Data Structures"
      ],
      "metadata": {
        "id": "ne0vNEXSX2oV"
      }
    },
    {
      "cell_type": "markdown",
      "source": [
        "## Dynamic Trees"
      ],
      "metadata": {
        "id": "t2doyXoCX6ko"
      }
    },
    {
      "cell_type": "markdown",
      "source": [
        "## Conclusion"
      ],
      "metadata": {
        "id": "tZOodEk3X8lc"
      }
    },
    {
      "cell_type": "markdown",
      "source": [
        "## The Implementation"
      ],
      "metadata": {
        "id": "uCgOkMLfX-Ge"
      }
    }
  ]
}