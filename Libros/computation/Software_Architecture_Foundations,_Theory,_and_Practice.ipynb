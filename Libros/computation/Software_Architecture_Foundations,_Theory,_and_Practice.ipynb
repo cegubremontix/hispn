{
  "nbformat": 4,
  "nbformat_minor": 0,
  "metadata": {
    "colab": {
      "name": "Software Architecture Foundations, Theory, and Practice.ipynb",
      "provenance": [],
      "authorship_tag": "ABX9TyOMfDUmcNtsEZB1yLRMKN69",
      "include_colab_link": true
    },
    "kernelspec": {
      "name": "python3",
      "display_name": "Python 3"
    },
    "language_info": {
      "name": "python"
    }
  },
  "cells": [
    {
      "cell_type": "markdown",
      "metadata": {
        "id": "view-in-github",
        "colab_type": "text"
      },
      "source": [
        "<a href=\"https://colab.research.google.com/github/dbremont/Notas/blob/main/Libros/Computacion/Software_Architecture_Foundations%2C_Theory%2C_and_Practice.ipynb\" target=\"_parent\"><img src=\"https://colab.research.google.com/assets/colab-badge.svg\" alt=\"Open In Colab\"/></a>"
      ]
    },
    {
      "cell_type": "markdown",
      "metadata": {
        "id": "aLmPP_SUDOHo"
      },
      "source": [
        "## The Big Idea\n",
        "\n",
        "Introduction of Software Architecture through discussion of three primary examples of its application: in the very large (the architecture of the World Wide Web), in the very small (pipe-and-filter on the desktop), and in the product/in the many (the Philips/Koala architecture for consumer electronics)."
      ]
    },
    {
      "cell_type": "markdown",
      "metadata": {
        "id": "3wMTivqQDUqp"
      },
      "source": [
        "## Architectures in Context: The Reonrientation of Software Engineering"
      ]
    },
    {
      "cell_type": "markdown",
      "metadata": {
        "id": "a_cmmBH9Dbkb"
      },
      "source": [
        "## Basic Concepts"
      ]
    },
    {
      "cell_type": "markdown",
      "metadata": {
        "id": "8-tbSOxeDeG3"
      },
      "source": [
        "## Designing Architectures "
      ]
    },
    {
      "cell_type": "markdown",
      "metadata": {
        "id": "4djKWJRyDil0"
      },
      "source": [
        "## Connectors"
      ]
    },
    {
      "cell_type": "markdown",
      "metadata": {
        "id": "GW5BQe_2DkYm"
      },
      "source": [
        "## Modeling"
      ]
    },
    {
      "cell_type": "markdown",
      "metadata": {
        "id": "3wrEeuolDnqq"
      },
      "source": [
        "## Visualization"
      ]
    },
    {
      "cell_type": "markdown",
      "metadata": {
        "id": "iMlJDFJODpFm"
      },
      "source": [
        "## Analysis"
      ]
    },
    {
      "cell_type": "markdown",
      "metadata": {
        "id": "42_3AsoQDrkF"
      },
      "source": [
        "## Implementation"
      ]
    },
    {
      "cell_type": "markdown",
      "metadata": {
        "id": "iW0RH9CTDvgb"
      },
      "source": [
        "## Deployment and Mobility"
      ]
    },
    {
      "cell_type": "markdown",
      "metadata": {
        "id": "mqpgZvzCDx4O"
      },
      "source": [
        "## Applied Architectures and Styles"
      ]
    },
    {
      "cell_type": "markdown",
      "metadata": {
        "id": "Cknjm2NiD0yz"
      },
      "source": [
        "## Designing for Non-Functional Properties"
      ]
    },
    {
      "cell_type": "markdown",
      "metadata": {
        "id": "nYcqMZXRD3_6"
      },
      "source": [
        "## Security and Trust"
      ]
    },
    {
      "cell_type": "markdown",
      "metadata": {
        "id": "iyd4aTDID64X"
      },
      "source": [
        "## Architectural Adaptation"
      ]
    },
    {
      "cell_type": "markdown",
      "metadata": {
        "id": "yjWfqmlxD9aB"
      },
      "source": [
        "## Domain-Specific Software Engineering"
      ]
    },
    {
      "cell_type": "markdown",
      "metadata": {
        "id": "pan8frw2EC3P"
      },
      "source": [
        "## Standars"
      ]
    },
    {
      "cell_type": "markdown",
      "metadata": {
        "id": "2tkFoJJ1EPIs"
      },
      "source": [
        "## People, Roles, and Teams"
      ]
    }
  ]
}