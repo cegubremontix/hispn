{
  "nbformat": 4,
  "nbformat_minor": 0,
  "metadata": {
    "colab": {
      "name": "Low-Level Programming.ipynb",
      "provenance": [],
      "collapsed_sections": [],
      "authorship_tag": "ABX9TyPyb6HKlkRrXyR4kyU3/Wdt",
      "include_colab_link": true
    },
    "kernelspec": {
      "name": "python3",
      "display_name": "Python 3"
    },
    "language_info": {
      "name": "python"
    }
  },
  "cells": [
    {
      "cell_type": "markdown",
      "metadata": {
        "id": "view-in-github",
        "colab_type": "text"
      },
      "source": [
        "<a href=\"https://colab.research.google.com/github/dbremont/Notas/blob/main/Libros/computation/Low_Level_Programming.ipynb\" target=\"_parent\"><img src=\"https://colab.research.google.com/assets/colab-badge.svg\" alt=\"Open In Colab\"/></a>"
      ]
    },
    {
      "cell_type": "markdown",
      "source": [
        "https://github.com/Apress/low-level-programming"
      ],
      "metadata": {
        "id": "mTrbpOOd47RI"
      }
    },
    {
      "cell_type": "markdown",
      "source": [
        "How to study?\n",
        "\n",
        "- Try to answer the end-chapters questions.\n",
        "- Set up the dev environment to practice\n",
        "\n",
        "\n",
        "Dev Environment:\n",
        "- Debian GNU\n",
        "- GCC\n",
        "- GNU Make\n",
        "- GDB\n",
        "\n",
        "- Elf  Files - Debugging Support\n",
        "- Linker\n",
        "- Loader\n",
        "- ReadElf - Tool\n",
        "- Interrupts\n",
        "- System Calls\n",
        "- Models of Computation\n",
        "- C Type System\n",
        "- Memory Model\n",
        "- Syntax\n",
        "- Semantics\n",
        "- Pragmatics\n",
        "- Chomsky Hierarchy\n",
        "- Pre-loading\n",
        "- Memory Barriers\n",
        "- Pthreads\n",
        "- Models of Program Execution"
      ],
      "metadata": {
        "id": "Mv7j8w4EOMqd"
      }
    }
  ]
}