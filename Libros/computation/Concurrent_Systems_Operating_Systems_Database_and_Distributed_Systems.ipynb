{
  "nbformat": 4,
  "nbformat_minor": 0,
  "metadata": {
    "colab": {
      "name": "Concurrent Systems Operating Systems, Database and Distributed Systems .ipynb",
      "provenance": [],
      "toc_visible": true,
      "authorship_tag": "ABX9TyMPsiqIflAk3Xu+vivt38gN",
      "include_colab_link": true
    },
    "kernelspec": {
      "name": "python3",
      "display_name": "Python 3"
    },
    "language_info": {
      "name": "python"
    }
  },
  "cells": [
    {
      "cell_type": "markdown",
      "metadata": {
        "id": "view-in-github",
        "colab_type": "text"
      },
      "source": [
        "<a href=\"https://colab.research.google.com/github/dbremont/Notas/blob/main/Libros/Computacion/Concurrent_Systems_Operating_Systems_Database_and_Distributed_Systems.ipynb\" target=\"_parent\"><img src=\"https://colab.research.google.com/assets/colab-badge.svg\" alt=\"Open In Colab\"/></a>"
      ]
    },
    {
      "cell_type": "markdown",
      "metadata": {
        "id": "m1cBUyy5QRrc"
      },
      "source": [
        "## Introduction: Examples and requirements"
      ]
    },
    {
      "cell_type": "markdown",
      "source": [
        "Concurrent means \"at the same time\". \n",
        "- The meaning \"at the same time\" will be discuss.\n",
        "\n",
        "**Inherently concurrent systems**: Systems must respond to, or manage, simultanous activities in their external environment are inhenrently concurrent and may broadly be classified as , \n",
        "- real-time systems;\n",
        "- database management and transaction processing systems;\n",
        "- operating systems.\n",
        "\n",
        "Examples or real-time systems:\n",
        " - Process control,\n",
        " - Multimedia applications: shows moving pictures, text, graphics, audio in many windows.  \n",
        "    - Video conferencing\n",
        "\n",
        "\n",
        "**Database management and transaction processing systems**\n",
        "\n",
        "The DBMS is a concurrent system since it may have to handle several clients simultaneously.\n",
        "\n",
        "The term transaction is used for a request from a client to the **DBMS*.\n",
        "\n",
        "Applications of databases:\n",
        "- banking,\n",
        "- airline and other booking systems,\n",
        "- stock control for retailing,\n",
        "- records of employees,\n",
        "- Statistical databases,\n",
        "- ...\n",
        "\n",
        "Requirements:\n",
        "The requirements for building transaction processing and database management systems that have emerged from the above discussion may be summarized as follows:\n",
        "- There is a need to support separete activities.\n",
        "\n",
        "- There is a need to ensure that the separate activities access and update common data without interference\n",
        "\n",
        "- There is a need to ensure that the results of transactions are recorded permanently and securely before the user is told that an operation has been done\n",
        "\n",
        "**Operating systems and distributed operating systems**\n",
        "\n",
        "**Middleware**\n",
        "\n",
        "The Middleware  is a software layer above the heterogeneous operating systems to present a uniform **platform** above which distributed applications can run.\n",
        "\n",
        "**Potentially concurrent applications**\n",
        "\n",
        "- There is a large amount of computing to be done,\n",
        "- There is a large amount of data to be processes,\n",
        "- There is a real-time requirement for the result,\n",
        "- Hardware is avialable for running the potentially concurrent components in parallel.\n",
        "\n",
        "Some approaches to obtaining a concurrent solution the previous problems:\n",
        "- Replicated code, partitioned data,\n",
        "- Pipeline processing,\n",
        "- Tree-Structure algorithms\n",
        "\n",
        "**Architecture for supporting concurrent systems**\n",
        "\n",
        "Termonolgoy to classify processors:\n",
        "\n",
        "- SSSD: Single instruction stream, single data stream\n",
        "- SIMD: Single instruction stream, multiple data stream\n",
        "- MIMD: Multiple instruction stream, multiple data stream\n",
        "\n",
        "- Conventional uniprocessors\n",
        "- Shared-memory multiprocessors,\n",
        "- Multicomputer multiprocessors,\n",
        "- Dataflow (data-driven) architectures,\n",
        "- Architectures for functional languages,\n",
        "\n",
        "Architectures based on dataflow of function application are an alternative to the conventional von Neumann machine. They attempt to exploit all the potential concurrency of the application rather than that written down in a conventional programming language. Their challenge is to devise an efficient implementation, able to complete with the sophistication of current conventional processor and compiler technology. \n",
        "\n",
        "\n",
        "Exercises:\n",
        "\n",
        "- What is a real-time system?\n",
        "\n",
        "- Why is it useful to distinguish 'hard' from other real-time systems?\n",
        "\n",
        "- In what ways do operating systems which support real-time systems differ from those which support single-user workstations and multi-user, time-sharing systems?\n",
        "\n",
        "- Classify the following as hard-time, real-time or non-real-time systems: \n",
        "  - An embeded computer system which controsl the fuel mixture in a car engine\n",
        "  - A robot controller for a car production assembly line\n",
        "  - A on-line library catalogue system\n",
        "  - A single-user workstation which suppports graphics, digitized voice and video\n",
        "  - A worlwide electronic mail (email) system\n",
        "  - A network of computers for a banking system\n",
        "  - A hospital patient monitoring and control system\n",
        "  - An on-line medical record system\n",
        "  - A weather forecasting system based on a model of the earth's atmosphere\n",
        "  - An internaltional stock exchange computer system\n",
        "\n",
        "- Give Examples of monitoring and control activities in real-time and non-real-tiem systems\n",
        "\n",
        "- Define three general models for concurrent algorithms\n",
        "- On what kind of hardware could you run a concurrent algorithm and expect to archieve better performace than on a uniprocessor? Are any new overheads introduced for the hardware you mention?\n",
        "\n",
        "- What is a concurrent system?\n",
        "- Can a concurrent system run on a uniprocessor computer? Give examples and justify the answer\n",
        "\n",
        "- What is a shared-memory multiprocessor? Are any of the approaches for divising concurrent algorithms particulary suited to this kind of architecture?\n",
        "\n",
        "- What is the difference between communications handling for multicomputer system with hardware-controlled connections between specific computers and a network-based multicomputer system?"
      ],
      "metadata": {
        "id": "n4dEltqmOKiX"
      }
    },
    {
      "cell_type": "markdown",
      "metadata": {
        "id": "G2DiRQlgQYA3"
      },
      "source": [
        "# Background and Fundamentals"
      ]
    },
    {
      "cell_type": "markdown",
      "metadata": {
        "id": "2MndVjmxQbRc"
      },
      "source": [
        "## System structure and dynamic execution"
      ]
    },
    {
      "cell_type": "markdown",
      "metadata": {
        "id": "KvDCU9xuQe4n"
      },
      "source": [
        "## The hardware interface, I/O and communications"
      ]
    },
    {
      "cell_type": "markdown",
      "metadata": {
        "id": "OytlhFtmQjp9"
      },
      "source": [
        "## Support for processes"
      ]
    },
    {
      "cell_type": "markdown",
      "metadata": {
        "id": "ltc_jYyKQmP9"
      },
      "source": [
        "## Fundamentals of distributed systems"
      ]
    },
    {
      "cell_type": "markdown",
      "metadata": {
        "id": "yAm47K5zQplo"
      },
      "source": [
        "## Memory management"
      ]
    },
    {
      "cell_type": "markdown",
      "metadata": {
        "id": "pLoGCwdYQrLS"
      },
      "source": [
        "## File management"
      ]
    },
    {
      "cell_type": "markdown",
      "metadata": {
        "id": "zpPxfqBlQtw-"
      },
      "source": [
        "# Single Concurrent Actions"
      ]
    },
    {
      "cell_type": "markdown",
      "metadata": {
        "id": "cTqYOM4KQv8j"
      },
      "source": [
        "## System structure"
      ]
    },
    {
      "cell_type": "markdown",
      "metadata": {
        "id": "tV5PAbDPQyO8"
      },
      "source": [
        "## Low-level synchonization priitives: Implementation"
      ]
    },
    {
      "cell_type": "markdown",
      "metadata": {
        "id": "cqGYyhmyQ5nJ"
      },
      "source": [
        "## Low-Level primitives: Use in systems and languages"
      ]
    },
    {
      "cell_type": "markdown",
      "metadata": {
        "id": "A6sTvs2lQ92i"
      },
      "source": [
        "## Language primitives for shared memory"
      ]
    },
    {
      "cell_type": "markdown",
      "metadata": {
        "id": "ZlUGOgz1RA6X"
      },
      "source": [
        "## IPC and system structure"
      ]
    },
    {
      "cell_type": "markdown",
      "metadata": {
        "id": "ezzq7k5SRDeA"
      },
      "source": [
        "## IPC without shared memory"
      ]
    },
    {
      "cell_type": "markdown",
      "metadata": {
        "id": "wwit3mTIRH7X"
      },
      "source": [
        "## Crash resilience and persistent data"
      ]
    },
    {
      "cell_type": "markdown",
      "metadata": {
        "id": "IG2Rmk9tRMf7"
      },
      "source": [
        "## Distributed IPC"
      ]
    },
    {
      "cell_type": "markdown",
      "metadata": {
        "id": "SfQtz-jVRObk"
      },
      "source": [
        "# Concurrent Composite Actions"
      ]
    },
    {
      "cell_type": "markdown",
      "metadata": {
        "id": "23ffhfLRRRW0"
      },
      "source": [
        "## Decomposable abstract operations"
      ]
    },
    {
      "cell_type": "markdown",
      "metadata": {
        "id": "OncrLJFrRUO1"
      },
      "source": [
        "## Resource allocation and deadlock"
      ]
    },
    {
      "cell_type": "markdown",
      "metadata": {
        "id": "HdDKP5EvRX6c"
      },
      "source": [
        "## Transactions"
      ]
    },
    {
      "cell_type": "markdown",
      "metadata": {
        "id": "-nwC2ZKCRabU"
      },
      "source": [
        "## Concurrency Control"
      ]
    },
    {
      "cell_type": "markdown",
      "metadata": {
        "id": "zVe0wZb9RcQ2"
      },
      "source": [
        "## Recovery"
      ]
    },
    {
      "cell_type": "markdown",
      "metadata": {
        "id": "hPWFpj-KRdOl"
      },
      "source": [
        "## Distributed transactions"
      ]
    },
    {
      "cell_type": "markdown",
      "metadata": {
        "id": "ORlNdviyRfUs"
      },
      "source": [
        "## Distributed computations"
      ]
    },
    {
      "cell_type": "markdown",
      "metadata": {
        "id": "8UxZPJbyRiFu"
      },
      "source": [
        "# System Case Studies"
      ]
    },
    {
      "cell_type": "markdown",
      "metadata": {
        "id": "yaVwqhN-Rk7y"
      },
      "source": [
        "## Unix"
      ]
    },
    {
      "cell_type": "markdown",
      "metadata": {
        "id": "Q0PE_3cMRmXY"
      },
      "source": [
        "## Microkernels: Match and CHORUS"
      ]
    },
    {
      "cell_type": "markdown",
      "metadata": {
        "id": "2iD1ca-sRqv-"
      },
      "source": [
        "## Windows NT"
      ]
    },
    {
      "cell_type": "markdown",
      "metadata": {
        "id": "E1L6aoGRRsB_"
      },
      "source": [
        "## Middleware: CORBA and Java"
      ]
    },
    {
      "cell_type": "markdown",
      "metadata": {
        "id": "tmi-lUfRRvcS"
      },
      "source": [
        "## Transactions processing and monitors eand systems"
      ]
    },
    {
      "cell_type": "markdown",
      "metadata": {
        "id": "BW_-PMoBRy1j"
      },
      "source": [
        "## Evolution of computer systems"
      ]
    }
  ]
}