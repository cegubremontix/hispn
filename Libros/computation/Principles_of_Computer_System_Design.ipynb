{
  "nbformat": 4,
  "nbformat_minor": 0,
  "metadata": {
    "colab": {
      "name": "Principles of Computer System Design.ipynb",
      "provenance": [],
      "authorship_tag": "ABX9TyOKEeWlaTVqDpV39WWyUr6e",
      "include_colab_link": true
    },
    "kernelspec": {
      "name": "python3",
      "display_name": "Python 3"
    },
    "language_info": {
      "name": "python"
    }
  },
  "cells": [
    {
      "cell_type": "markdown",
      "metadata": {
        "id": "view-in-github",
        "colab_type": "text"
      },
      "source": [
        "<a href=\"https://colab.research.google.com/github/dbremont/Notas/blob/main/Libros/Computacion/Principles_of_Computer_System_Design.ipynb\" target=\"_parent\"><img src=\"https://colab.research.google.com/assets/colab-badge.svg\" alt=\"Open In Colab\"/></a>"
      ]
    },
    {
      "cell_type": "markdown",
      "metadata": {
        "id": "RItBpdoT0Z05"
      },
      "source": [
        "[Online](https://ocw.mit.edu/resources/res-6-004-principles-of-computer-system-design-an-introduction-spring-2009/)\n",
        "\n",
        "[Suggestions for Futher Reading](https://ocw.mit.edu/resources/res-6-004-principles-of-computer-system-design-an-introduction-spring-2009/online-textbook/readings_open_5_0.pdf)"
      ]
    },
    {
      "cell_type": "markdown",
      "metadata": {
        "id": "MKkMr2fingwF"
      },
      "source": [
        "## Systems"
      ]
    },
    {
      "cell_type": "markdown",
      "metadata": {
        "id": "WgNhyXc9nk3e"
      },
      "source": [
        "Systems\n",
        "\n",
        "Complexity\n",
        "\n",
        "Interfaces\n",
        "\n",
        "Environment\n",
        "\n",
        "Modularity\n",
        "\n",
        "Abstraction\n",
        "\n",
        "Layering\n",
        "\n",
        "Hierarchy\n",
        "\n",
        "Everything should be made as simple as possible, but  no simpler. - Albert Einstein\n",
        "\n",
        "Avoid excessive generality\n",
        "\n",
        "useful division of the problems encounterd in many areas:\n",
        "- properties,\n",
        "- propagation of effects,\n",
        "- inconmensuarable sacling, \n",
        "- and trade-offs\n",
        "\n",
        "Words used to Describe System Composition\n",
        "\n",
        "What is a computer system?\n",
        "\n",
        "Signs of complexity:\n",
        "- Large number of components,\n",
        "- Large number of interconnections,\n",
        "- Many irregularities,\n",
        "- A long description,\n",
        "- A team of designers, implementers, or maintainers\n",
        "\n",
        "Principle of escalatign complexity\n",
        "\n",
        "The best is the enemy of the good.\n",
        "\n",
        "A complex system that works is invariably found to have evolved from a simple system that works. - Jhon Gall, Systemantics\n",
        "\n",
        "Maintaining High Utilization\n",
        "\n",
        "The law of diminishing returns\n",
        "\n",
        "The probability of a failure ...\n",
        "\n",
        "Leaky abstraction\n",
        "\n",
        "Interation\n",
        "\n",
        "Design for Iteraction\n",
        "\n",
        "Keep It Simple\n",
        "\n",
        "Robutness principle\n",
        "\n",
        "Exercises \n",
        "1.1\n",
        "\n",
        "1.2\n",
        "\n",
        "1.3\n",
        "\n",
        "1.4\n",
        "\n",
        "1.5\n",
        "\n",
        "\n"
      ]
    },
    {
      "cell_type": "markdown",
      "metadata": {
        "id": "qBo1rJ14n_bl"
      },
      "source": [
        "## Element of Computer System Organization"
      ]
    },
    {
      "cell_type": "markdown",
      "metadata": {
        "id": "9nX3aEhYs2Dz"
      },
      "source": [
        "Memory\n",
        "\n",
        "Interpreters \n",
        "\n",
        "Communication Links\n",
        "\n",
        "The Naming Model\n",
        "\n",
        "Default and Expliit Context References\n",
        "\n",
        "Path Names \n",
        "\n",
        "Naming networks\n",
        "\n",
        "Recursive Name Resolution\n",
        "\n",
        "Name Discovery\n",
        "\n",
        "The Bus\n",
        "\n",
        "The File Abstraction\n",
        "\n",
        "Application Programming  Interface for the Unix File System\n",
        "\n",
        "The Block Layer\n",
        "\n",
        "The File Layer\n",
        "\n",
        "The Inode Number Layer\n",
        "\n",
        "The File Name Layer\n",
        "\n",
        "The Path Name Layer\n",
        "\n",
        "Links\n",
        "\n",
        "Renaming\n",
        "\n",
        "The Absolute Path Name Layer\n",
        "\n",
        "The  Symbolic Link Layer\n",
        "\n",
        "Implementing the File System API\n",
        "\n",
        "Exercises\n",
        "\n",
        "2.1\n",
        "\n",
        "2.2\n",
        "\n",
        "2.3\n",
        "\n",
        "2.4\n",
        "\n",
        "2.5"
      ]
    },
    {
      "cell_type": "markdown",
      "metadata": {
        "id": "Cm2ddPAnoDJo"
      },
      "source": [
        "## The Design of Naming Schemes"
      ]
    },
    {
      "cell_type": "markdown",
      "metadata": {
        "id": "bf5Uy9V_t9FC"
      },
      "source": [
        "Modular Sharing\n",
        "\n",
        "Metadata and Name Overloading\n",
        "\n",
        "Addresses: Names that Locate Objects\n",
        "\n",
        "Generating Unique Names\n",
        "\n",
        "Relative Lifetimes of Names\n",
        "\n",
        "Relative Lifetimes of Values\n",
        "\n",
        "Relative Lifetimes of Bindings\n",
        "\n",
        "Case Study: The Uniform Resource Locator (URL)\n",
        "\n",
        "Exercises\n",
        "\n",
        "3.1\n",
        "\n",
        "3.2\n",
        "\n",
        "3.3\n",
        "\n",
        "3.4\n",
        "\n",
        "3.5\n"
      ]
    },
    {
      "cell_type": "markdown",
      "metadata": {
        "id": "A5m3jsEWoIrh"
      },
      "source": [
        "## Enforcing Modularity with Clients and Services"
      ]
    },
    {
      "cell_type": "markdown",
      "metadata": {
        "id": "SZdJbIDlutPv"
      },
      "source": [
        "Soft Modularity\n",
        "\n",
        "Enforce Modularity\n",
        "\n",
        "Client/Service Organization\n",
        "\n",
        "Multiple Clients\n",
        "\n",
        "Multiple Services\n",
        "\n",
        "Trusted Intermediares\n",
        "\n",
        "Remote Procedure Call (RPC)\n",
        "\n",
        "RPCs are not Identical to Procedure Calls\n",
        "\n",
        "Communicating Through and Intermediary\n",
        "\n",
        "Name Resolution in DNS\n",
        "\n",
        "Hierarchical Name Management\n",
        "\n",
        "Other Features of DNS\n",
        "\n",
        "Trustworthiness of DNS Responses\n",
        "\n",
        "Naming Remote Files\n",
        "\n",
        "Naming REmote Directories\n",
        "\n",
        "NFS Remote Procedure Calls\n",
        "\n",
        "Coherence\n",
        "\n",
        "NFS Version 3 and Beyond\n",
        "\n",
        "Exersies\n",
        "\n",
        "4.1\n",
        "\n",
        "4.2\n",
        "\n",
        "4.3\n",
        "\n",
        "4.4\n",
        "\n",
        "4.5\n",
        "\n",
        "4.6\n",
        "\n",
        "4.7\n",
        "\n",
        "4.8\n",
        "\n",
        "\n",
        "\n"
      ]
    },
    {
      "cell_type": "markdown",
      "metadata": {
        "id": "YNrRNNfToNmH"
      },
      "source": [
        "## Enforcing Modularity with Virtualization"
      ]
    },
    {
      "cell_type": "markdown",
      "metadata": {
        "id": "j3FZaOzTwfz8"
      },
      "source": [
        "Abstractions for Virtualizing Computers\n",
        "\n",
        "Emulation and Virtual Machines\n",
        "\n",
        "Step-by-Step Virtualization\n",
        "\n",
        "Virtual LInks using SEND, RECIEVE, and Bounded Buffer\n",
        "\n",
        "Enforcing Modularity in Memory\n",
        "\n",
        "Virtualizing Memory\n",
        "\n",
        "Virtualizing Processors Using Threads\n",
        "\n",
        "Thread Primitives for Sequence Coordination\n",
        "\n",
        "Case Study: Evolution of Enforced Modularity in the Intel x86\n",
        "\n",
        "Application: Enforcing Modularity Using Virtual Machines\n",
        "\n",
        "Deadlock\n",
        "\n",
        "Kernel\n",
        "\n",
        "Exercises \n",
        "\n",
        "5.1\n",
        "\n",
        "5.2\n",
        "\n",
        "5.3\n",
        "\n",
        "5.4\n",
        "\n",
        "5.5\n",
        "\n",
        "5.6\n",
        "\n",
        "5.7\n",
        "\n",
        "5.8"
      ]
    },
    {
      "cell_type": "markdown",
      "metadata": {
        "id": "WRSs4hneoTYv"
      },
      "source": [
        "## Performace"
      ]
    },
    {
      "cell_type": "markdown",
      "metadata": {
        "id": "6dTRBguayNCS"
      },
      "source": [
        "Performace metrics\n",
        "\n",
        "Reducing Latency by Exploiting Workload Properties\n",
        "\n",
        "Reducing Latency using Concurrency\n",
        "\n",
        "Improving Throughput: Concurrency\n",
        "\n",
        "Queueing and Overload\n",
        "\n",
        "Fighting Bottlenecks\n",
        "\n",
        "I/O Bottleneck\n",
        "\n",
        "Multilevel Memories\n",
        "\n",
        "Memory Characterization\n",
        "\n",
        "Scheduling\n",
        "\n",
        "Scheduling Resources\n",
        "\n",
        "Scheduling Metrics\n",
        "\n",
        "Scheduling Policies\n",
        "\n",
        "Schedulign the Disk Arm\n",
        "\n",
        "Designing for Performace\n",
        "\n",
        "Exercises\n",
        "\n",
        "6.1\n",
        "\n",
        "6.2\n",
        "\n",
        "6.3\n",
        "\n",
        "6.4\n",
        "\n",
        "6.5\n",
        "\n",
        "6.6\n",
        "\n",
        "6.7\n",
        "\n",
        "6.8\n",
        "\n",
        "6.9\n",
        "\n",
        "6.10\n",
        "\n",
        "6.11\n",
        "\n",
        "6.12\n",
        "\n",
        "\n"
      ]
    },
    {
      "cell_type": "markdown",
      "metadata": {
        "id": "KLySEH7qoVKh"
      },
      "source": [
        "## The Network as a System and as a System Component\n",
        "\n",
        "[Online](https://ocw.mit.edu/resources/res-6-004-principles-of-computer-system-design-an-introduction-spring-2009/online-textbook/networks_open_5_0.pdf)\n",
        "\n"
      ]
    },
    {
      "cell_type": "markdown",
      "metadata": {
        "id": "IJD4v7Exod86"
      },
      "source": [
        "## Faul Tolerance: Reliable Systems from Unreliable Components\n",
        "\n",
        "[Online](https://ocw.mit.edu/resources/res-6-004-principles-of-computer-system-design-an-introduction-spring-2009/online-textbook/faults_open_5_0.pdf)"
      ]
    },
    {
      "cell_type": "markdown",
      "metadata": {
        "id": "ifrqfQveokbV"
      },
      "source": [
        "## Atomicity: All-or-nothing and Before-or-after\n",
        "\n",
        "[Online](https://ocw.mit.edu/resources/res-6-004-principles-of-computer-system-design-an-introduction-spring-2009/online-textbook/atomicity_open_5_0.pdf)"
      ]
    },
    {
      "cell_type": "markdown",
      "metadata": {
        "id": "QwZURvE3opf_"
      },
      "source": [
        "## Consistency\n",
        "\n",
        "[Online](https://ocw.mit.edu/resources/res-6-004-principles-of-computer-system-design-an-introduction-spring-2009/online-textbook/consistency_open_5_0.pdf)"
      ]
    },
    {
      "cell_type": "markdown",
      "metadata": {
        "id": "_Jl4LL5-orir"
      },
      "source": [
        "## Information Security\n",
        "\n",
        "[Online](https://ocw.mit.edu/resources/res-6-004-principles-of-computer-system-design-an-introduction-spring-2009/online-textbook/protection_open_5_0.pdf)"
      ]
    },
    {
      "cell_type": "markdown",
      "metadata": {
        "id": "r6XIAtXO01Wg"
      },
      "source": [
        "## Glossary"
      ]
    }
  ]
}