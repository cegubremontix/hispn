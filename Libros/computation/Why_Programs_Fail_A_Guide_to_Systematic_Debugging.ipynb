{
  "nbformat": 4,
  "nbformat_minor": 0,
  "metadata": {
    "colab": {
      "name": "Why Programs Fail: A Guide to Systematic Debugging.ipynb",
      "provenance": [],
      "authorship_tag": "ABX9TyMVyerY3bZGIBwp2KcrIsfM",
      "include_colab_link": true
    },
    "kernelspec": {
      "name": "python3",
      "display_name": "Python 3"
    },
    "language_info": {
      "name": "python"
    }
  },
  "cells": [
    {
      "cell_type": "markdown",
      "metadata": {
        "id": "view-in-github",
        "colab_type": "text"
      },
      "source": [
        "<a href=\"https://colab.research.google.com/github/dbremont/Notas/blob/main/Libros/Computacion/Why_Programs_Fail_A_Guide_to_Systematic_Debugging.ipynb\" target=\"_parent\"><img src=\"https://colab.research.google.com/assets/colab-badge.svg\" alt=\"Open In Colab\"/></a>"
      ]
    },
    {
      "cell_type": "markdown",
      "source": [
        "## How Failures Come to Be"
      ],
      "metadata": {
        "id": "xOxen7z7UYu-"
      }
    },
    {
      "cell_type": "markdown",
      "source": [
        "## Tracking Problems"
      ],
      "metadata": {
        "id": "zMIHMR3YUgCp"
      }
    },
    {
      "cell_type": "markdown",
      "source": [
        "## Making Programs Fail"
      ],
      "metadata": {
        "id": "ZYU3oKafUjKj"
      }
    },
    {
      "cell_type": "markdown",
      "source": [
        "## Reproducing Problems"
      ],
      "metadata": {
        "id": "v_3ZF5meUmku"
      }
    },
    {
      "cell_type": "markdown",
      "source": [
        "## Simplifying Problems"
      ],
      "metadata": {
        "id": "HwZ8I8PxUov1"
      }
    },
    {
      "cell_type": "markdown",
      "source": [
        "## Scientific Debugging"
      ],
      "metadata": {
        "id": "ofTD5913UslC"
      }
    },
    {
      "cell_type": "markdown",
      "source": [
        "## Deducing Errors"
      ],
      "metadata": {
        "id": "Rhqlw6EMUvqY"
      }
    },
    {
      "cell_type": "markdown",
      "source": [
        "## Observing Facts"
      ],
      "metadata": {
        "id": "2V1HTdKPUyhO"
      }
    },
    {
      "cell_type": "markdown",
      "source": [
        "## Tracking Origins"
      ],
      "metadata": {
        "id": "pHYGRqQaU0Sm"
      }
    },
    {
      "cell_type": "markdown",
      "source": [
        "## Asserting Expections"
      ],
      "metadata": {
        "id": "rbLpG5xyU3DK"
      }
    },
    {
      "cell_type": "markdown",
      "source": [
        "## Debugging Anomalies"
      ],
      "metadata": {
        "id": "fraz4jQBU6wQ"
      }
    },
    {
      "cell_type": "markdown",
      "source": [
        "## Causes and Effects"
      ],
      "metadata": {
        "id": "OQBhRyxBU-C9"
      }
    },
    {
      "cell_type": "markdown",
      "source": [
        "## Isolating Failure Causes"
      ],
      "metadata": {
        "id": "uL2i_UWFVBar"
      }
    },
    {
      "cell_type": "markdown",
      "source": [
        "## Isolating Cause-Effect Chains"
      ],
      "metadata": {
        "id": "Z_6PzM7PVGal"
      }
    },
    {
      "cell_type": "markdown",
      "source": [
        "## Fixing the Defect"
      ],
      "metadata": {
        "id": "LX6KwkkrVNoI"
      }
    },
    {
      "cell_type": "markdown",
      "source": [
        "## Learning from Mistakes"
      ],
      "metadata": {
        "id": "W50Pd5dWVQl3"
      }
    },
    {
      "cell_type": "markdown",
      "source": [
        "## Formal Definitions"
      ],
      "metadata": {
        "id": "IPrfTfVJVWwn"
      }
    }
  ]
}