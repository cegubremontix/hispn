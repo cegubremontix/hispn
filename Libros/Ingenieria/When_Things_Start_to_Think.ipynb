{
  "nbformat": 4,
  "nbformat_minor": 0,
  "metadata": {
    "colab": {
      "name": "When Things Start to Think.ipynb",
      "provenance": [],
      "toc_visible": true,
      "authorship_tag": "ABX9TyMlVoAmOg/89uvjm1A0OdZY",
      "include_colab_link": true
    },
    "kernelspec": {
      "name": "python3",
      "display_name": "Python 3"
    },
    "language_info": {
      "name": "python"
    }
  },
  "cells": [
    {
      "cell_type": "markdown",
      "metadata": {
        "id": "view-in-github",
        "colab_type": "text"
      },
      "source": [
        "<a href=\"https://colab.research.google.com/github/dbremont/Notas/blob/main/Libros/Ingenieria/When_Things_Start_to_Think.ipynb\" target=\"_parent\"><img src=\"https://colab.research.google.com/assets/colab-badge.svg\" alt=\"Open In Colab\"/></a>"
      ]
    },
    {
      "cell_type": "markdown",
      "metadata": {
        "id": "tJPw5Df91dQV"
      },
      "source": [
        "# When Things Start to Think"
      ]
    },
    {
      "cell_type": "markdown",
      "metadata": {
        "id": "GUyWsTjqOkch"
      },
      "source": [
        "## What"
      ]
    },
    {
      "cell_type": "markdown",
      "metadata": {
        "id": "qexoCqbM5Q65"
      },
      "source": [
        "### Bits and Books"
      ]
    },
    {
      "cell_type": "markdown",
      "metadata": {
        "id": "aC2UXtKd5aIt"
      },
      "source": [
        "### Digital Expression"
      ]
    },
    {
      "cell_type": "markdown",
      "metadata": {
        "id": "_1DCntC-5aTP"
      },
      "source": [
        "### Wear Ware Where?"
      ]
    },
    {
      "cell_type": "markdown",
      "metadata": {
        "id": "fpjqZfAp5fXx"
      },
      "source": [
        "### The Personal Fabricator"
      ]
    },
    {
      "cell_type": "markdown",
      "metadata": {
        "id": "s5mykFIr5ln4"
      },
      "source": [
        "### Smart Money"
      ]
    },
    {
      "cell_type": "markdown",
      "metadata": {
        "id": "IX1C-aib5LFW"
      },
      "source": [
        "## Why"
      ]
    },
    {
      "cell_type": "markdown",
      "metadata": {
        "id": "p4l_tv7c5RYU"
      },
      "source": [
        "### Rights and Reponsabilities"
      ]
    },
    {
      "cell_type": "markdown",
      "metadata": {
        "id": "a64Pdx695tmW"
      },
      "source": [
        "### Bad Words"
      ]
    },
    {
      "cell_type": "markdown",
      "metadata": {
        "id": "9D7q28GC5twl"
      },
      "source": [
        "### Bit Beliefs"
      ]
    },
    {
      "cell_type": "markdown",
      "metadata": {
        "id": "_Qhyry_S5zWM"
      },
      "source": [
        "### Seeing Through Windows"
      ]
    },
    {
      "cell_type": "markdown",
      "metadata": {
        "id": "iuUU_4405LMe"
      },
      "source": [
        "## How"
      ]
    },
    {
      "cell_type": "markdown",
      "metadata": {
        "id": "oNopff685R5U"
      },
      "source": [
        "### The Nature of Computation"
      ]
    },
    {
      "cell_type": "markdown",
      "metadata": {
        "id": "a7N1nlob5531"
      },
      "source": [
        "### The Business of Discovery"
      ]
    },
    {
      "cell_type": "markdown",
      "metadata": {
        "id": "nGSnoMH46ON5"
      },
      "source": [
        "### Information and Education"
      ]
    },
    {
      "cell_type": "markdown",
      "metadata": {
        "id": "_F92xpsS6OTL"
      },
      "source": [
        "### Things That Think"
      ]
    }
  ]
}