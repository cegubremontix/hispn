{
  "nbformat": 4,
  "nbformat_minor": 0,
  "metadata": {
    "colab": {
      "name": "Physics from Finance.ipynb",
      "provenance": [],
      "authorship_tag": "ABX9TyPO+UyFrFYwsObF65PEzN7i",
      "include_colab_link": true
    },
    "kernelspec": {
      "name": "python3",
      "display_name": "Python 3"
    },
    "language_info": {
      "name": "python"
    }
  },
  "cells": [
    {
      "cell_type": "markdown",
      "metadata": {
        "id": "view-in-github",
        "colab_type": "text"
      },
      "source": [
        "<a href=\"https://colab.research.google.com/github/dbremont/Notas/blob/main/Libros/Ciencia/Physics_from_Finance.ipynb\" target=\"_parent\"><img src=\"https://colab.research.google.com/assets/colab-badge.svg\" alt=\"Open In Colab\"/></a>"
      ]
    },
    {
      "cell_type": "markdown",
      "metadata": {
        "id": "C2iE7NtpIITO"
      },
      "source": [
        "# The Physics of Finance"
      ]
    },
    {
      "cell_type": "markdown",
      "metadata": {
        "id": "6vhmXKghIJNl"
      },
      "source": [
        "## Finance Intuitively"
      ]
    },
    {
      "cell_type": "markdown",
      "metadata": {
        "id": "cbd2vb4tIM_V"
      },
      "source": [
        "## Finance Mathematically"
      ]
    },
    {
      "cell_type": "markdown",
      "metadata": {
        "id": "KOMy0oSKIQHL"
      },
      "source": [
        "# The Physics of Nature"
      ]
    },
    {
      "cell_type": "markdown",
      "metadata": {
        "id": "C8uiea5NIRQx"
      },
      "source": [
        "## Elementary Particles"
      ]
    },
    {
      "cell_type": "markdown",
      "metadata": {
        "id": "VObEUzHGIUQP"
      },
      "source": [
        "## Quantum Mechanics"
      ]
    },
    {
      "cell_type": "markdown",
      "metadata": {
        "id": "3D-3UhgXIW3R"
      },
      "source": [
        "## Special Relativity and General Relativity"
      ]
    },
    {
      "cell_type": "markdown",
      "metadata": {
        "id": "DM22rN65IafR"
      },
      "source": [
        "## Closing Words"
      ]
    },
    {
      "cell_type": "markdown",
      "metadata": {
        "id": "QaV2d6wsIfBC"
      },
      "source": [
        "# Apendices"
      ]
    },
    {
      "cell_type": "markdown",
      "metadata": {
        "id": "jzRmOHacIh65"
      },
      "source": [
        "## Statistics"
      ]
    },
    {
      "cell_type": "markdown",
      "metadata": {
        "id": "ZFXw9p8GIljb"
      },
      "source": [
        "## Metrics"
      ]
    },
    {
      "cell_type": "markdown",
      "metadata": {
        "id": "M4pbkpj4IpGm"
      },
      "source": [
        "## Group Theory"
      ]
    },
    {
      "cell_type": "markdown",
      "metadata": {
        "id": "AU0K-ftxI582"
      },
      "source": [
        "## Fiber Bundles"
      ]
    },
    {
      "cell_type": "markdown",
      "metadata": {
        "id": "zxeh29IjI7_8"
      },
      "source": [
        "## Taylor Expansion"
      ]
    }
  ]
}