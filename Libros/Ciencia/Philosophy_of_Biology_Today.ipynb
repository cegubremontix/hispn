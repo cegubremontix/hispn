{
  "nbformat": 4,
  "nbformat_minor": 0,
  "metadata": {
    "colab": {
      "name": "Philosophy of Biology Today.ipynb",
      "provenance": [],
      "authorship_tag": "ABX9TyMc+7cYiQR1a3ujPi6y6kCM",
      "include_colab_link": true
    },
    "kernelspec": {
      "name": "python3",
      "display_name": "Python 3"
    },
    "language_info": {
      "name": "python"
    }
  },
  "cells": [
    {
      "cell_type": "markdown",
      "metadata": {
        "id": "view-in-github",
        "colab_type": "text"
      },
      "source": [
        "<a href=\"https://colab.research.google.com/github/dbremont/Notas/blob/main/Libros/Ciencia/Philosophy_of_Biology_Today.ipynb\" target=\"_parent\"><img src=\"https://colab.research.google.com/assets/colab-badge.svg\" alt=\"Open In Colab\"/></a>"
      ]
    },
    {
      "cell_type": "markdown",
      "metadata": {
        "id": "xZWwcIRaYKe_"
      },
      "source": [
        "# Philosophy of Biology Today\n"
      ]
    },
    {
      "cell_type": "markdown",
      "metadata": {
        "id": "7z2ephhEZAx1"
      },
      "source": [
        "## Evolutionary Theory"
      ]
    },
    {
      "cell_type": "markdown",
      "metadata": {
        "id": "ZsgcDR_LZHQk"
      },
      "source": [
        "## Population Genetics"
      ]
    },
    {
      "cell_type": "markdown",
      "metadata": {
        "id": "JUlr_-2LZN2W"
      },
      "source": [
        "## Molecular Biology"
      ]
    },
    {
      "cell_type": "markdown",
      "metadata": {
        "id": "82RIgymVZS_J"
      },
      "source": [
        "## Challenges to the Paradigm"
      ]
    },
    {
      "cell_type": "markdown",
      "metadata": {
        "id": "8ukxzm5oZYbM"
      },
      "source": [
        "## Teleology"
      ]
    },
    {
      "cell_type": "markdown",
      "metadata": {
        "id": "6oHYh2NZZufk"
      },
      "source": [
        "## Systematics"
      ]
    },
    {
      "cell_type": "markdown",
      "metadata": {
        "id": "LDuTnHzaZ6AX"
      },
      "source": [
        "## Human Biology"
      ]
    },
    {
      "cell_type": "markdown",
      "metadata": {
        "id": "Us3jksglZ-tM"
      },
      "source": [
        "## Philosophical Implications"
      ]
    },
    {
      "cell_type": "markdown",
      "metadata": {
        "id": "sGESGJajaCER"
      },
      "source": [
        "## Other Topics"
      ]
    },
    {
      "cell_type": "markdown",
      "metadata": {
        "id": "ei39HSCeaEo3"
      },
      "source": [
        "## Other Lands"
      ]
    }
  ]
}