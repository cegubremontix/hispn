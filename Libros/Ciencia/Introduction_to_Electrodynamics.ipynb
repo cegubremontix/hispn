{
  "nbformat": 4,
  "nbformat_minor": 0,
  "metadata": {
    "colab": {
      "name": "Introduction to Electrodynamics.ipynb",
      "provenance": [],
      "authorship_tag": "ABX9TyPYYLwguRow6JgJX0lKgSd/",
      "include_colab_link": true
    },
    "kernelspec": {
      "name": "python3",
      "display_name": "Python 3"
    },
    "language_info": {
      "name": "python"
    }
  },
  "cells": [
    {
      "cell_type": "markdown",
      "metadata": {
        "id": "view-in-github",
        "colab_type": "text"
      },
      "source": [
        "<a href=\"https://colab.research.google.com/github/dbremont/Notas/blob/main/Libros/Ciencia/Introduction_to_Electrodynamics.ipynb\" target=\"_parent\"><img src=\"https://colab.research.google.com/assets/colab-badge.svg\" alt=\"Open In Colab\"/></a>"
      ]
    },
    {
      "cell_type": "markdown",
      "metadata": {
        "id": "GrATZh_--72M"
      },
      "source": [
        "## Vector Analysis"
      ]
    },
    {
      "cell_type": "markdown",
      "metadata": {
        "id": "kHNz6XOf_ANh"
      },
      "source": [
        "## Electrostatics"
      ]
    },
    {
      "cell_type": "markdown",
      "metadata": {
        "id": "AdmN3AJ2_JHN"
      },
      "source": [
        "## Special Techniques"
      ]
    },
    {
      "cell_type": "markdown",
      "metadata": {
        "id": "Mf6lvK1L_MjD"
      },
      "source": [
        "## Electric Fields in Matter"
      ]
    },
    {
      "cell_type": "markdown",
      "metadata": {
        "id": "3tEBAlWL_PWI"
      },
      "source": [
        "## Magnetostatics"
      ]
    },
    {
      "cell_type": "markdown",
      "metadata": {
        "id": "nV1Nv7uN_UnC"
      },
      "source": [
        "## Magnetic Fields in Matter"
      ]
    },
    {
      "cell_type": "markdown",
      "metadata": {
        "id": "3c1dNT1J_Xnt"
      },
      "source": [
        "## Electrodynamics"
      ]
    },
    {
      "cell_type": "markdown",
      "metadata": {
        "id": "p9R9fa9w_daF"
      },
      "source": [
        "## Conversation Laws"
      ]
    },
    {
      "cell_type": "markdown",
      "metadata": {
        "id": "BEPmtsrG_f2I"
      },
      "source": [
        "## Electromagnetic Waves"
      ]
    },
    {
      "cell_type": "markdown",
      "metadata": {
        "id": "EB4fo6pJ_lNt"
      },
      "source": [
        "## Potentials and Fields"
      ]
    },
    {
      "cell_type": "markdown",
      "metadata": {
        "id": "6AJ6P6z0_o5l"
      },
      "source": [
        "## Radiation"
      ]
    },
    {
      "cell_type": "markdown",
      "metadata": {
        "id": "PViGggHY_sve"
      },
      "source": [
        "## Electrodynamics and Relativity"
      ]
    },
    {
      "cell_type": "markdown",
      "metadata": {
        "id": "RMVgk1m3_wVZ"
      },
      "source": [
        "## Vector Calculus in Curvilinear Coordinates"
      ]
    },
    {
      "cell_type": "markdown",
      "metadata": {
        "id": "mNGuQoCc_-Qa"
      },
      "source": [
        "## The Helmholz Theorem"
      ]
    }
  ]
}