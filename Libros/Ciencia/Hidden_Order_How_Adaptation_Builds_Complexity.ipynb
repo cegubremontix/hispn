{
  "nbformat": 4,
  "nbformat_minor": 0,
  "metadata": {
    "colab": {
      "name": "Hidden Order: How Adaptation Builds Complexity.ipynb",
      "provenance": [],
      "authorship_tag": "ABX9TyMurxp8F5lFKW8hnzJrbHhl",
      "include_colab_link": true
    },
    "kernelspec": {
      "name": "python3",
      "display_name": "Python 3"
    },
    "language_info": {
      "name": "python"
    }
  },
  "cells": [
    {
      "cell_type": "markdown",
      "metadata": {
        "id": "view-in-github",
        "colab_type": "text"
      },
      "source": [
        "<a href=\"https://colab.research.google.com/github/dbremont/Notas/blob/main/Libros/Ciencia/Hidden_Order_How_Adaptation_Builds_Complexity.ipynb\" target=\"_parent\"><img src=\"https://colab.research.google.com/assets/colab-badge.svg\" alt=\"Open In Colab\"/></a>"
      ]
    },
    {
      "cell_type": "markdown",
      "source": [
        "## Basic Elements"
      ],
      "metadata": {
        "id": "ZuYVg0T4sbjw"
      }
    },
    {
      "cell_type": "markdown",
      "source": [
        "## Adaptative Agents"
      ],
      "metadata": {
        "id": "XU3nrCdcLPZP"
      }
    },
    {
      "cell_type": "markdown",
      "source": [
        "## Echoing Emergence"
      ],
      "metadata": {
        "id": "NKvKNfLWLRA2"
      }
    },
    {
      "cell_type": "markdown",
      "source": [
        "## Simulating Echo"
      ],
      "metadata": {
        "id": "V3wU1RoHLUkP"
      }
    },
    {
      "cell_type": "markdown",
      "source": [
        "## Toward Theory"
      ],
      "metadata": {
        "id": "PCCnwZ8cLWnI"
      }
    }
  ]
}