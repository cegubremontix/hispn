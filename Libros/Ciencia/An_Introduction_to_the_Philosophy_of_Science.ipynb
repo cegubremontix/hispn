{
  "nbformat": 4,
  "nbformat_minor": 0,
  "metadata": {
    "colab": {
      "name": "An Introduction to the Philosophy of Science.ipynb",
      "provenance": [],
      "toc_visible": true,
      "authorship_tag": "ABX9TyO34QDgmNP1QJcXVzGmDOmj",
      "include_colab_link": true
    },
    "kernelspec": {
      "name": "python3",
      "display_name": "Python 3"
    },
    "language_info": {
      "name": "python"
    }
  },
  "cells": [
    {
      "cell_type": "markdown",
      "metadata": {
        "id": "view-in-github",
        "colab_type": "text"
      },
      "source": [
        "<a href=\"https://colab.research.google.com/github/dbremont/Notas/blob/main/Libros/Ciencia/An_Introduction_to_the_Philosophy_of_Science.ipynb\" target=\"_parent\"><img src=\"https://colab.research.google.com/assets/colab-badge.svg\" alt=\"Open In Colab\"/></a>"
      ]
    },
    {
      "cell_type": "markdown",
      "source": [
        "# Laws, Explanation, and Probability "
      ],
      "metadata": {
        "id": "HhSnFvyqceyU"
      }
    },
    {
      "cell_type": "markdown",
      "source": [
        "## The Value of Laws: Explanation and Prediction"
      ],
      "metadata": {
        "id": "Px1SM7vjdmYG"
      }
    },
    {
      "cell_type": "markdown",
      "source": [
        "## Induction and Statistical Probability"
      ],
      "metadata": {
        "id": "BPoyr6Cudrkb"
      }
    },
    {
      "cell_type": "markdown",
      "source": [
        "## Induction and Logical Probability"
      ],
      "metadata": {
        "id": "r_pRApJtdubq"
      }
    },
    {
      "cell_type": "markdown",
      "source": [
        "## The Experimental Method"
      ],
      "metadata": {
        "id": "w3Et7wt7dxFY"
      }
    },
    {
      "cell_type": "markdown",
      "source": [
        "# Measurement and Quantitative Language"
      ],
      "metadata": {
        "id": "Q2ePda1XdK61"
      }
    },
    {
      "cell_type": "markdown",
      "source": [
        "## Three Kinds of Concepts in Science"
      ],
      "metadata": {
        "id": "2J0wPUFEd0ST"
      }
    },
    {
      "cell_type": "markdown",
      "source": [
        "## The Measurement of Quantative Concepts"
      ],
      "metadata": {
        "id": "q0h0i-Gyd5Ix"
      }
    },
    {
      "cell_type": "markdown",
      "source": [
        "## Extensive Magnitudes"
      ],
      "metadata": {
        "id": "M1Bh_bqBd8Xn"
      }
    },
    {
      "cell_type": "markdown",
      "source": [
        "## Time "
      ],
      "metadata": {
        "id": "J7T8PFeAd_o9"
      }
    },
    {
      "cell_type": "markdown",
      "source": [
        "## Length"
      ],
      "metadata": {
        "id": "QduolaOQeA04"
      }
    },
    {
      "cell_type": "markdown",
      "source": [
        "## Derived Magnitudes and the Quantitative Language"
      ],
      "metadata": {
        "id": "D1pVqSnqeCM9"
      }
    },
    {
      "cell_type": "markdown",
      "source": [
        "## Merits of the Quantitative Language"
      ],
      "metadata": {
        "id": "JVZ8DktEeG-n"
      }
    },
    {
      "cell_type": "markdown",
      "source": [
        "## The Magic View of Language"
      ],
      "metadata": {
        "id": "pGb_vz4peMHw"
      }
    },
    {
      "cell_type": "markdown",
      "source": [
        "# The Structure of Space"
      ],
      "metadata": {
        "id": "CkQDLEXpdO7h"
      }
    },
    {
      "cell_type": "markdown",
      "source": [
        "## Euclid's Parallel Postulate"
      ],
      "metadata": {
        "id": "S0TAldEiePkv"
      }
    },
    {
      "cell_type": "markdown",
      "source": [
        "## Non-Euclidean Geometries"
      ],
      "metadata": {
        "id": "Si_Og_8FeTF1"
      }
    },
    {
      "cell_type": "markdown",
      "source": [
        "## Poincaré versus Einstein"
      ],
      "metadata": {
        "id": "z6ZqQJpeeXGX"
      }
    },
    {
      "cell_type": "markdown",
      "source": [
        "## Space in Relative  Theory"
      ],
      "metadata": {
        "id": "vHyNaAB8ecV9"
      }
    },
    {
      "cell_type": "markdown",
      "source": [
        "## Advantages of Non-Euclidean Physical Geometry"
      ],
      "metadata": {
        "id": "QVRDyrWjeg_b"
      }
    },
    {
      "cell_type": "markdown",
      "source": [
        "## Kant's Synthetic A Priori"
      ],
      "metadata": {
        "id": "qE9yj-xbel9V"
      }
    },
    {
      "cell_type": "markdown",
      "source": [
        "# Casuality and Determination"
      ],
      "metadata": {
        "id": "pyR22KXKdTDk"
      }
    },
    {
      "cell_type": "markdown",
      "source": [
        "## Causality"
      ],
      "metadata": {
        "id": "i9LJXpTGer9L"
      }
    },
    {
      "cell_type": "markdown",
      "source": [
        "## Does Casuality Imply Necessity?"
      ],
      "metadata": {
        "id": "j5qnVwHzeuCL"
      }
    },
    {
      "cell_type": "markdown",
      "source": [
        "## The Logic of Causal Modalities"
      ],
      "metadata": {
        "id": "PwAmpm3eeyi4"
      }
    },
    {
      "cell_type": "markdown",
      "source": [
        "## Determinism of Free Will"
      ],
      "metadata": {
        "id": "RMkapa-Je19u"
      }
    },
    {
      "cell_type": "markdown",
      "source": [
        "# Theoretical Laws and Theoretical Concepts"
      ],
      "metadata": {
        "id": "y-F3uHQIdWvP"
      }
    },
    {
      "cell_type": "markdown",
      "source": [
        "## Theories and Nonobservables"
      ],
      "metadata": {
        "id": "kBvlAKzwe4p0"
      }
    },
    {
      "cell_type": "markdown",
      "source": [
        "## Correspondence Rules"
      ],
      "metadata": {
        "id": "-HHuu5kDe88e"
      }
    },
    {
      "cell_type": "markdown",
      "source": [
        "## How New Empirical Laws Are Derived from Theoretical Laws"
      ],
      "metadata": {
        "id": "8rAfrNDUfA0M"
      }
    },
    {
      "cell_type": "markdown",
      "source": [
        "## The Ramsey Sentence"
      ],
      "metadata": {
        "id": "l117b7NKfIPU"
      }
    },
    {
      "cell_type": "markdown",
      "source": [
        "## Analyticity in an Observation Language"
      ],
      "metadata": {
        "id": "_XC3s6fifNSV"
      }
    },
    {
      "cell_type": "markdown",
      "source": [
        "## Analyticity in a Theoretical Language"
      ],
      "metadata": {
        "id": "nJJ5PtUEfSr_"
      }
    },
    {
      "cell_type": "markdown",
      "source": [
        "# Beyond Determinism"
      ],
      "metadata": {
        "id": "YYlVhX9xdbHu"
      }
    },
    {
      "cell_type": "markdown",
      "source": [
        "## Statistical Laws"
      ],
      "metadata": {
        "id": "M3NL7_bHfWfw"
      }
    },
    {
      "cell_type": "markdown",
      "source": [
        "## Indeterminism in Quantum Physics"
      ],
      "metadata": {
        "id": "SIf6teK8fYeg"
      }
    }
  ]
}