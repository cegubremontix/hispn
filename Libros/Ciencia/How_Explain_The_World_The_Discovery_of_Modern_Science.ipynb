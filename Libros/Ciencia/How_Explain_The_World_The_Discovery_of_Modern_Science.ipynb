{
  "nbformat": 4,
  "nbformat_minor": 0,
  "metadata": {
    "colab": {
      "name": "How Explain The World The Discovery of Modern Science.ipynb",
      "provenance": [],
      "toc_visible": true,
      "authorship_tag": "ABX9TyManQN++DnRBrkGN8b2wllE",
      "include_colab_link": true
    },
    "kernelspec": {
      "name": "python3",
      "display_name": "Python 3"
    },
    "language_info": {
      "name": "python"
    }
  },
  "cells": [
    {
      "cell_type": "markdown",
      "metadata": {
        "id": "view-in-github",
        "colab_type": "text"
      },
      "source": [
        "<a href=\"https://colab.research.google.com/github/dbremont/Notas/blob/main/Libros/Ciencia/How_Explain_The_World_The_Discovery_of_Modern_Science.ipynb\" target=\"_parent\"><img src=\"https://colab.research.google.com/assets/colab-badge.svg\" alt=\"Open In Colab\"/></a>"
      ]
    },
    {
      "cell_type": "markdown",
      "metadata": {
        "id": "XJdPagvzLvr8"
      },
      "source": [
        "How Explain The World The Discovery of Modern Science"
      ]
    },
    {
      "cell_type": "markdown",
      "metadata": {
        "id": "DhbJ7vFeLwXx"
      },
      "source": [
        "# Greek Physics"
      ]
    },
    {
      "cell_type": "markdown",
      "metadata": {
        "id": "MEws2czOL0No"
      },
      "source": [
        "## Matter and Poetry"
      ]
    },
    {
      "cell_type": "markdown",
      "metadata": {
        "id": "pZdmNpXkL4G9"
      },
      "source": [
        "## Motion and Philosophy"
      ]
    },
    {
      "cell_type": "markdown",
      "metadata": {
        "id": "Nx3ZR3GvL8Fc"
      },
      "source": [
        "## Hellenistic Physics and Technology"
      ]
    },
    {
      "cell_type": "markdown",
      "metadata": {
        "id": "nAb3u3JIMAVR"
      },
      "source": [
        "## Ancient Science and Religion"
      ]
    },
    {
      "cell_type": "markdown",
      "metadata": {
        "id": "xHrWxoGZMEBr"
      },
      "source": [
        "# Greek Astronomy"
      ]
    },
    {
      "cell_type": "markdown",
      "metadata": {
        "id": "2TwoJdugMG6j"
      },
      "source": [
        "## The Uses of Astronomy"
      ]
    },
    {
      "cell_type": "markdown",
      "metadata": {
        "id": "8IXtRGZTMJJf"
      },
      "source": [
        "## Measuring the Sun, Moon, and Earth"
      ]
    },
    {
      "cell_type": "markdown",
      "metadata": {
        "id": "C9lKV5RyMOgG"
      },
      "source": [
        "## The Problem of the Planets"
      ]
    },
    {
      "cell_type": "markdown",
      "metadata": {
        "id": "TU_PEyZlMSJO"
      },
      "source": [
        "# The Middle Ages"
      ]
    },
    {
      "cell_type": "markdown",
      "metadata": {
        "id": "0OyRLiLyMUGZ"
      },
      "source": [
        "## The Arabs"
      ]
    },
    {
      "cell_type": "markdown",
      "metadata": {
        "id": "-LYK-9xhMYLI"
      },
      "source": [
        "## Medieval Europe"
      ]
    },
    {
      "cell_type": "markdown",
      "metadata": {
        "id": "kvJJFin5Ma54"
      },
      "source": [
        "# The Scientific Revolution"
      ]
    },
    {
      "cell_type": "markdown",
      "metadata": {
        "id": "U27KD11XMecv"
      },
      "source": [
        "## The Solar System Solved"
      ]
    },
    {
      "cell_type": "markdown",
      "metadata": {
        "id": "ZrfZNjSVNaEW"
      },
      "source": [
        "## Experiments Begun"
      ]
    },
    {
      "cell_type": "markdown",
      "metadata": {
        "id": "jHPr-6gONcSh"
      },
      "source": [
        "## Method Reconsidered"
      ]
    },
    {
      "cell_type": "markdown",
      "metadata": {
        "id": "PTQIiHsINgpX"
      },
      "source": [
        "## The Newtonian Synthesis"
      ]
    },
    {
      "cell_type": "markdown",
      "metadata": {
        "id": "RZBMSLC6NlCM"
      },
      "source": [
        "## Epilogue: The Grand Reduction"
      ]
    }
  ]
}