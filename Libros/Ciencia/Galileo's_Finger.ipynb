{
  "nbformat": 4,
  "nbformat_minor": 0,
  "metadata": {
    "colab": {
      "name": "Galileo's Finger.ipynb",
      "provenance": [],
      "authorship_tag": "ABX9TyMzLciHtT7L4G5xjGIHkbOX",
      "include_colab_link": true
    },
    "kernelspec": {
      "name": "python3",
      "display_name": "Python 3"
    },
    "language_info": {
      "name": "python"
    }
  },
  "cells": [
    {
      "cell_type": "markdown",
      "metadata": {
        "id": "view-in-github",
        "colab_type": "text"
      },
      "source": [
        "<a href=\"https://colab.research.google.com/github/dbremont/Notas/blob/main/Libros/Ciencia/Galileo's_Finger.ipynb\" target=\"_parent\"><img src=\"https://colab.research.google.com/assets/colab-badge.svg\" alt=\"Open In Colab\"/></a>"
      ]
    },
    {
      "cell_type": "markdown",
      "metadata": {
        "id": "xZWwcIRaYKe_"
      },
      "source": [
        "# Galileo's Finger"
      ]
    },
    {
      "cell_type": "markdown",
      "metadata": {
        "id": "7z2ephhEZAx1"
      },
      "source": [
        "## Evolution\n",
        "The Emergence of Life"
      ]
    },
    {
      "cell_type": "markdown",
      "metadata": {
        "id": "ZsgcDR_LZHQk"
      },
      "source": [
        "## DNA\n",
        "The Emergence of Complexity"
      ]
    },
    {
      "cell_type": "markdown",
      "metadata": {
        "id": "JUlr_-2LZN2W"
      },
      "source": [
        "## Energy\n",
        "The Rationalization of Biology"
      ]
    },
    {
      "cell_type": "markdown",
      "metadata": {
        "id": "82RIgymVZS_J"
      },
      "source": [
        "## Entropy\n",
        "The Universalization of Accountancy"
      ]
    },
    {
      "cell_type": "markdown",
      "metadata": {
        "id": "8ukxzm5oZYbM"
      },
      "source": [
        "## Atoms\n",
        "The Reduction of Matter"
      ]
    },
    {
      "cell_type": "markdown",
      "metadata": {
        "id": "6oHYh2NZZufk"
      },
      "source": [
        "## Simmetry\n",
        "The Quantification of Beauty"
      ]
    },
    {
      "cell_type": "markdown",
      "metadata": {
        "id": "LDuTnHzaZ6AX"
      },
      "source": [
        "## Quanta\n",
        "The Simplification of Understanding"
      ]
    },
    {
      "cell_type": "markdown",
      "metadata": {
        "id": "Us3jksglZ-tM"
      },
      "source": [
        "## Cosmology\n",
        "The Globalization Reality"
      ]
    },
    {
      "cell_type": "markdown",
      "metadata": {
        "id": "sGESGJajaCER"
      },
      "source": [
        "## Spacetime\n",
        "The Arena of Action"
      ]
    },
    {
      "cell_type": "markdown",
      "metadata": {
        "id": "ei39HSCeaEo3"
      },
      "source": [
        "## Arithmetic\n",
        "The Limits of Reason"
      ]
    },
    {
      "cell_type": "markdown",
      "metadata": {
        "id": "8evMyqBfaHzW"
      },
      "source": [
        "## The Future of Understanding"
      ]
    }
  ]
}