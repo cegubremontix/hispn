{
  "nbformat": 4,
  "nbformat_minor": 0,
  "metadata": {
    "colab": {
      "name": "The Invention of Science: A New History of the Scientific Revolution.ipynb",
      "provenance": [],
      "authorship_tag": "ABX9TyOWGMtYO3Pc9dcLUK3k6+3u",
      "include_colab_link": true
    },
    "kernelspec": {
      "name": "python3",
      "display_name": "Python 3"
    },
    "language_info": {
      "name": "python"
    }
  },
  "cells": [
    {
      "cell_type": "markdown",
      "metadata": {
        "id": "view-in-github",
        "colab_type": "text"
      },
      "source": [
        "<a href=\"https://colab.research.google.com/github/dbremont/Notas/blob/main/Libros/Ciencia/The_Invention_of_Science_A_New_History_of_the_Scientific_Revolution.ipynb\" target=\"_parent\"><img src=\"https://colab.research.google.com/assets/colab-badge.svg\" alt=\"Open In Colab\"/></a>"
      ]
    },
    {
      "cell_type": "markdown",
      "source": [
        "# Introduction"
      ],
      "metadata": {
        "id": "AMubn3uBlRpE"
      }
    },
    {
      "cell_type": "markdown",
      "source": [
        "## Modern Minds"
      ],
      "metadata": {
        "id": "C7JAs5DIlTUy"
      }
    },
    {
      "cell_type": "markdown",
      "source": [
        "## The Idea of the Scientific Revolution"
      ],
      "metadata": {
        "id": "9cGFP_D_lUw3"
      }
    },
    {
      "cell_type": "markdown",
      "source": [
        "# The Heavens and the Earth"
      ],
      "metadata": {
        "id": "xR3b265llYlT"
      }
    },
    {
      "cell_type": "markdown",
      "source": [
        "## Inventing Discovery"
      ],
      "metadata": {
        "id": "Yc6VPeIMlbqX"
      }
    },
    {
      "cell_type": "markdown",
      "source": [
        "## Planet Earth"
      ],
      "metadata": {
        "id": "85PHTABdldlC"
      }
    },
    {
      "cell_type": "markdown",
      "source": [
        "# Seeing is Believing"
      ],
      "metadata": {
        "id": "dNpeAPDLlgeG"
      }
    },
    {
      "cell_type": "markdown",
      "source": [
        "## The Mathematization of the World"
      ],
      "metadata": {
        "id": "7Mt1z7PnljnO"
      }
    },
    {
      "cell_type": "markdown",
      "source": [
        "## Gulliver's Worlds"
      ],
      "metadata": {
        "id": "hkBdWMeglmIa"
      }
    },
    {
      "cell_type": "markdown",
      "source": [
        "# Making Knowledge"
      ],
      "metadata": {
        "id": "xJZgwLvKlpWP"
      }
    },
    {
      "cell_type": "markdown",
      "source": [
        "## Facts"
      ],
      "metadata": {
        "id": "Xv8tD7xJlr1g"
      }
    },
    {
      "cell_type": "markdown",
      "source": [
        "## Experiments"
      ],
      "metadata": {
        "id": "Ji-iQ0Hbltoc"
      }
    },
    {
      "cell_type": "markdown",
      "source": [
        "## Laws"
      ],
      "metadata": {
        "id": "LNX0AXxflvpq"
      }
    },
    {
      "cell_type": "markdown",
      "source": [
        "## Hypothesis/Theories"
      ],
      "metadata": {
        "id": "DYLUm-fvlw1T"
      }
    },
    {
      "cell_type": "markdown",
      "source": [
        "## Evidence and Judgement"
      ],
      "metadata": {
        "id": "rFzjnT1Wlzji"
      }
    },
    {
      "cell_type": "markdown",
      "source": [
        "# Birth of the Modern"
      ],
      "metadata": {
        "id": "m85wz6J2l5dt"
      }
    },
    {
      "cell_type": "markdown",
      "source": [
        "## Machines"
      ],
      "metadata": {
        "id": "9VHwVDsCl7aw"
      }
    },
    {
      "cell_type": "markdown",
      "source": [
        "## The Disenchantment of the World"
      ],
      "metadata": {
        "id": "OMiknpt0l8lN"
      }
    },
    {
      "cell_type": "markdown",
      "source": [
        "## Knowledge is Power"
      ],
      "metadata": {
        "id": "TpVpC_0GmBVK"
      }
    },
    {
      "cell_type": "markdown",
      "source": [
        "# The Invention of Science"
      ],
      "metadata": {
        "id": "CQa2mkXGmFpW"
      }
    },
    {
      "cell_type": "markdown",
      "source": [
        "## In Defense of Nature"
      ],
      "metadata": {
        "id": "uvjxF1s2mH_D"
      }
    },
    {
      "cell_type": "markdown",
      "source": [
        "## These Postmodern Days"
      ],
      "metadata": {
        "id": "-GiXFRTamK8_"
      }
    },
    {
      "cell_type": "markdown",
      "source": [
        "## 'What Do I Know?'"
      ],
      "metadata": {
        "id": "WcwxVzYimOM3"
      }
    }
  ]
}