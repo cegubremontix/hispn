{
  "nbformat": 4,
  "nbformat_minor": 0,
  "metadata": {
    "colab": {
      "name": "Thinking About Science: Max Delbruck and the Origins of Molecular Biology.ipynb",
      "provenance": [],
      "authorship_tag": "ABX9TyOukmpZrpis7GqtxZFraE88",
      "include_colab_link": true
    },
    "kernelspec": {
      "name": "python3",
      "display_name": "Python 3"
    },
    "language_info": {
      "name": "python"
    }
  },
  "cells": [
    {
      "cell_type": "markdown",
      "metadata": {
        "id": "view-in-github",
        "colab_type": "text"
      },
      "source": [
        "<a href=\"https://colab.research.google.com/github/dbremont/Notas/blob/main/Libros/Ciencia/Thinking_About_Science_Max_Delbruck_and_the_Origins_of_Molecular_Biology.ipynb\" target=\"_parent\"><img src=\"https://colab.research.google.com/assets/colab-badge.svg\" alt=\"Open In Colab\"/></a>"
      ]
    },
    {
      "cell_type": "markdown",
      "source": [
        "# New Physics in the old world"
      ],
      "metadata": {
        "id": "07tWyGQQOFtR"
      }
    },
    {
      "cell_type": "markdown",
      "source": [
        "## The Student and the Starts"
      ],
      "metadata": {
        "id": "IaNcihJzOPs2"
      }
    },
    {
      "cell_type": "markdown",
      "source": [
        "## Theoretical Physics: The Intellectual's Game"
      ],
      "metadata": {
        "id": "mYIyHGyAOXBj"
      }
    },
    {
      "cell_type": "markdown",
      "source": [
        "## The Berlin Years"
      ],
      "metadata": {
        "id": "sK6MGXV5Oc-i"
      }
    },
    {
      "cell_type": "markdown",
      "source": [
        "## Light and Life - The Great Challenge"
      ],
      "metadata": {
        "id": "TpgJXwz_OfzX"
      }
    },
    {
      "cell_type": "markdown",
      "source": [
        "# Molecular Biology in the new world"
      ],
      "metadata": {
        "id": "AlgQHCq4Ol_v"
      }
    },
    {
      "cell_type": "markdown",
      "source": [
        "## The Atom of Biology"
      ],
      "metadata": {
        "id": "FXxvrOtJOqy6"
      }
    },
    {
      "cell_type": "markdown",
      "source": [
        "## Inights from a Simple System"
      ],
      "metadata": {
        "id": "gJFlDPjdOtay"
      }
    },
    {
      "cell_type": "markdown",
      "source": [
        "## The Rise of Molecular Genetics"
      ],
      "metadata": {
        "id": "CDWAoTKNOy9L"
      }
    },
    {
      "cell_type": "markdown",
      "source": [
        "## The Great Denouement"
      ],
      "metadata": {
        "id": "iM6TqEaTO3PH"
      }
    },
    {
      "cell_type": "markdown",
      "source": [
        "# The restless world of a scientist"
      ],
      "metadata": {
        "id": "Nmb3dpt_O8K3"
      }
    },
    {
      "cell_type": "markdown",
      "source": [
        "## Looking at Biophysics"
      ],
      "metadata": {
        "id": "xDaRm1gwPBbi"
      }
    },
    {
      "cell_type": "markdown",
      "source": [
        "## The Phage of Vision"
      ],
      "metadata": {
        "id": "yEdjgDYWPEEy"
      }
    },
    {
      "cell_type": "markdown",
      "source": [
        "## The German Interlude"
      ],
      "metadata": {
        "id": "6LNEvCzQPGRC"
      }
    },
    {
      "cell_type": "markdown",
      "source": [
        "## Mind from Matter?"
      ],
      "metadata": {
        "id": "5Fb6mbfCPIfM"
      }
    },
    {
      "cell_type": "markdown",
      "source": [
        "## Epilogue: The Inner Unity"
      ],
      "metadata": {
        "id": "C8CDky5uPKjp"
      }
    }
  ]
}