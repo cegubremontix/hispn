{
  "nbformat": 4,
  "nbformat_minor": 0,
  "metadata": {
    "colab": {
      "name": "Information: The New Language of Science.ipynb",
      "provenance": [],
      "authorship_tag": "ABX9TyNeUD5oxW03tRFXcra6P7v0",
      "include_colab_link": true
    },
    "kernelspec": {
      "name": "python3",
      "display_name": "Python 3"
    },
    "language_info": {
      "name": "python"
    }
  },
  "cells": [
    {
      "cell_type": "markdown",
      "metadata": {
        "id": "view-in-github",
        "colab_type": "text"
      },
      "source": [
        "<a href=\"https://colab.research.google.com/github/dbremont/Notas/blob/main/Libros/Ciencia/Information_The_New_Language_of_Science.ipynb\" target=\"_parent\"><img src=\"https://colab.research.google.com/assets/colab-badge.svg\" alt=\"Open In Colab\"/></a>"
      ]
    },
    {
      "cell_type": "markdown",
      "source": [
        "# Background"
      ],
      "metadata": {
        "id": "jIBgrs7v7ZPO"
      }
    },
    {
      "cell_type": "markdown",
      "source": [
        "## Electric Rain:  Information in our lives"
      ],
      "metadata": {
        "id": "IlmJqN7w7en0"
      }
    },
    {
      "cell_type": "markdown",
      "source": [
        "## The Spell of Democritus: Why Information will transform physics 11"
      ],
      "metadata": {
        "id": "gtzpdppf7mhN"
      }
    },
    {
      "cell_type": "markdown",
      "source": [
        "## In-Formation: The roots of the concept"
      ],
      "metadata": {
        "id": "8GP7MX5X7tro"
      }
    },
    {
      "cell_type": "markdown",
      "source": [
        "## Counting Bits: The scientific measure of information"
      ],
      "metadata": {
        "id": "2cTcGKwO7wv4"
      }
    },
    {
      "cell_type": "markdown",
      "source": [
        "## Abstraction: Beyond concreate reality"
      ],
      "metadata": {
        "id": "ipBhT5Ft724k"
      }
    },
    {
      "cell_type": "markdown",
      "source": [
        "## The Book of Life: Generic Information"
      ],
      "metadata": {
        "id": "R2jtEi3977Xh"
      }
    },
    {
      "cell_type": "markdown",
      "source": [
        "## A Battle Among Giants: Reductionism and emergence"
      ],
      "metadata": {
        "id": "xIdYV5D68Ahb"
      }
    },
    {
      "cell_type": "markdown",
      "source": [
        "## The Oracle of Copenhagen: Science is about information"
      ],
      "metadata": {
        "id": "bsQSaDjn8H4h"
      }
    },
    {
      "cell_type": "markdown",
      "source": [
        "# Classical Information"
      ],
      "metadata": {
        "id": "xV0ZTG6N8NR6"
      }
    },
    {
      "cell_type": "markdown",
      "source": [
        "## Figuring the Odds: How probability measures information"
      ],
      "metadata": {
        "id": "Lrhp-rZh9CiE"
      }
    },
    {
      "cell_type": "markdown",
      "source": [
        "## Counting Digits: The ubiquitous logarithm"
      ],
      "metadata": {
        "id": "KUtX5kIX-nwS"
      }
    },
    {
      "cell_type": "markdown",
      "source": [
        "## The Message on the Tombstone: The meaning of entropy"
      ],
      "metadata": {
        "id": "bKihaI7U_3qF"
      }
    },
    {
      "cell_type": "markdown",
      "source": [
        "## Randomness: The flip side of information"
      ],
      "metadata": {
        "id": "2WB-gpf9_9ei"
      }
    },
    {
      "cell_type": "markdown",
      "source": [
        "## Electric Information: From Morse to Shannon"
      ],
      "metadata": {
        "id": "NXaz2Li1ADBL"
      }
    },
    {
      "cell_type": "markdown",
      "source": [
        "## Noise: Nuisance and necessity"
      ],
      "metadata": {
        "id": "NhhhVkeCAKLb"
      }
    },
    {
      "cell_type": "markdown",
      "source": [
        "## Ultimate Speed: The information speed limit"
      ],
      "metadata": {
        "id": "qRwFS2GTAPZd"
      }
    },
    {
      "cell_type": "markdown",
      "source": [
        "## Unpacking Information: The computer in the service of physics"
      ],
      "metadata": {
        "id": "LQohR92GAVrv"
      }
    },
    {
      "cell_type": "markdown",
      "source": [
        "## Bioinformatics: Biology meets information technology"
      ],
      "metadata": {
        "id": "kHHa-JieAacG"
      }
    },
    {
      "cell_type": "markdown",
      "source": [
        "## Information in Physical: The cost of forgetting"
      ],
      "metadata": {
        "id": "HYKYy98gAeHL"
      }
    },
    {
      "cell_type": "markdown",
      "source": [
        "# Quantum Information"
      ],
      "metadata": {
        "id": "UxtVgegvAj1h"
      }
    },
    {
      "cell_type": "markdown",
      "source": [
        "## The Quantum Gadget: Quantum weirdness brough to light"
      ],
      "metadata": {
        "id": "m9sW_aLuAlr8"
      }
    },
    {
      "cell_type": "markdown",
      "source": [
        "## A Game of Beads: The wonder of superpositon"
      ],
      "metadata": {
        "id": "wC6SzYx2At3W"
      }
    },
    {
      "cell_type": "markdown",
      "source": [
        "## The Qubit: Information in the quantum age"
      ],
      "metadata": {
        "id": "ppxQN572A0LG"
      }
    },
    {
      "cell_type": "markdown",
      "source": [
        "## Quantum Computing: Putting qubits to work"
      ],
      "metadata": {
        "id": "NZeaZDmYA5Pa"
      }
    },
    {
      "cell_type": "markdown",
      "source": [
        "## Black Holes: Where information goes to hide"
      ],
      "metadata": {
        "id": "m4_-AlJdA-nK"
      }
    },
    {
      "cell_type": "markdown",
      "source": [
        "# Work in Progress"
      ],
      "metadata": {
        "id": "rZJFTN9BBEKl"
      }
    },
    {
      "cell_type": "markdown",
      "source": [
        "## Bits, Bucks, Hits and Nuts: Information theory beyond Shannon"
      ],
      "metadata": {
        "id": "CkDSyi_3BHQl"
      }
    },
    {
      "cell_type": "markdown",
      "source": [
        "## Zeilinger's Principle: Information at the root fo reality"
      ],
      "metadata": {
        "id": "W3p24daTBN7w"
      }
    }
  ]
}