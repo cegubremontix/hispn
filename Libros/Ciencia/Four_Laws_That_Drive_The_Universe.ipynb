{
  "nbformat": 4,
  "nbformat_minor": 0,
  "metadata": {
    "colab": {
      "name": "Four Laws That Drive The Universe.ipynb",
      "provenance": [],
      "toc_visible": true,
      "authorship_tag": "ABX9TyONwpQmf8MUttEg3NBVJ2/9",
      "include_colab_link": true
    },
    "kernelspec": {
      "name": "python3",
      "display_name": "Python 3"
    },
    "language_info": {
      "name": "python"
    }
  },
  "cells": [
    {
      "cell_type": "markdown",
      "metadata": {
        "id": "view-in-github",
        "colab_type": "text"
      },
      "source": [
        "<a href=\"https://colab.research.google.com/github/dbremont/Notas/blob/main/Libros/Ciencia/Four_Laws_That_Drive_The_Universe.ipynb\" target=\"_parent\"><img src=\"https://colab.research.google.com/assets/colab-badge.svg\" alt=\"Open In Colab\"/></a>"
      ]
    },
    {
      "cell_type": "markdown",
      "metadata": {
        "id": "YHy0fXUNEF1k"
      },
      "source": [
        "# Four Laws That Drive The Universe"
      ]
    },
    {
      "cell_type": "markdown",
      "metadata": {
        "id": "5IuyVF7TEHyC"
      },
      "source": [
        "## First Law:  The Concept of temperature"
      ]
    },
    {
      "cell_type": "markdown",
      "metadata": {
        "id": "z5eNKRyfEPpr"
      },
      "source": [
        "## Second Law: The Concervation of energy"
      ]
    },
    {
      "cell_type": "markdown",
      "metadata": {
        "id": "OzCR_j7IETv_"
      },
      "source": [
        "## The increase in entropy"
      ]
    },
    {
      "cell_type": "markdown",
      "metadata": {
        "id": "kjipwqTsEW4K"
      },
      "source": [
        "## Thrid Law: Free Energy:  The availability of work"
      ]
    },
    {
      "cell_type": "markdown",
      "metadata": {
        "id": "tZ9dGw4zEaka"
      },
      "source": [
        "## Four Law: The unattainability of zero"
      ]
    }
  ]
}