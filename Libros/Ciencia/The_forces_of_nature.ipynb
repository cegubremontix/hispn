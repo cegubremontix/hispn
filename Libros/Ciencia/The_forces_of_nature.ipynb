{
  "nbformat": 4,
  "nbformat_minor": 0,
  "metadata": {
    "colab": {
      "name": "The forces of nature.ipynb",
      "provenance": [],
      "authorship_tag": "ABX9TyOPhi3nqY/dNvlp+WoRSZQt",
      "include_colab_link": true
    },
    "kernelspec": {
      "name": "python3",
      "display_name": "Python 3"
    },
    "language_info": {
      "name": "python"
    }
  },
  "cells": [
    {
      "cell_type": "markdown",
      "metadata": {
        "id": "view-in-github",
        "colab_type": "text"
      },
      "source": [
        "<a href=\"https://colab.research.google.com/github/dbremont/Notas/blob/main/Libros/Ciencia/The_forces_of_nature.ipynb\" target=\"_parent\"><img src=\"https://colab.research.google.com/assets/colab-badge.svg\" alt=\"Open In Colab\"/></a>"
      ]
    },
    {
      "cell_type": "markdown",
      "metadata": {
        "id": "xZWwcIRaYKe_"
      },
      "source": [
        "# The forces of nature"
      ]
    },
    {
      "cell_type": "markdown",
      "metadata": {
        "id": "7z2ephhEZAx1"
      },
      "source": [
        "## Forces and fields"
      ]
    },
    {
      "cell_type": "markdown",
      "metadata": {
        "id": "ZsgcDR_LZHQk"
      },
      "source": [
        "## The structure of matter"
      ]
    },
    {
      "cell_type": "markdown",
      "metadata": {
        "id": "JUlr_-2LZN2W"
      },
      "source": [
        "## Inside the nucleus"
      ]
    },
    {
      "cell_type": "markdown",
      "metadata": {
        "id": "82RIgymVZS_J"
      },
      "source": [
        "## Nuclear forces"
      ]
    },
    {
      "cell_type": "markdown",
      "metadata": {
        "id": "8ukxzm5oZYbM"
      },
      "source": [
        "## The road of unification"
      ]
    }
  ]
}