{
  "nbformat": 4,
  "nbformat_minor": 0,
  "metadata": {
    "colab": {
      "name": " From Strange Simplicity to Complex Familiarity: A Treatise on Matter, Information, Life and Thought.ipynb",
      "provenance": [],
      "authorship_tag": "ABX9TyPbVDSll7uFigf27O/hsZJy",
      "include_colab_link": true
    },
    "kernelspec": {
      "name": "python3",
      "display_name": "Python 3"
    },
    "language_info": {
      "name": "python"
    }
  },
  "cells": [
    {
      "cell_type": "markdown",
      "metadata": {
        "id": "view-in-github",
        "colab_type": "text"
      },
      "source": [
        "<a href=\"https://colab.research.google.com/github/dbremont/Notas/blob/main/Libros/Ciencia/From_Strange_Simplicity_to_Complex_Familiarity_A_Treatise_on_Matter%2C_Information%2C_Life_and_Thought.ipynb\" target=\"_parent\"><img src=\"https://colab.research.google.com/assets/colab-badge.svg\" alt=\"Open In Colab\"/></a>"
      ]
    },
    {
      "cell_type": "markdown",
      "source": [
        "## Matter and Energy"
      ],
      "metadata": {
        "id": "dhZaUA5e76o6"
      }
    },
    {
      "cell_type": "markdown",
      "source": [
        "## Energy and Entropy"
      ],
      "metadata": {
        "id": "Z1L8Q6xV9A5U"
      }
    },
    {
      "cell_type": "markdown",
      "source": [
        "## Entropy and Information"
      ],
      "metadata": {
        "id": "Xt0wNob79D1D"
      }
    },
    {
      "cell_type": "markdown",
      "source": [
        "## Information and Complexity"
      ],
      "metadata": {
        "id": "RWLRFYLW9G8O"
      }
    },
    {
      "cell_type": "markdown",
      "source": [
        "## Complexity and Self-Organization"
      ],
      "metadata": {
        "id": "WvdPak_69Jw2"
      }
    }
  ]
}