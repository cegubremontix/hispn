{
  "nbformat": 4,
  "nbformat_minor": 0,
  "metadata": {
    "colab": {
      "name": "From Strange Simplicity to Complex Familiarity: A Treatise on Matter, Information, Life and Thought.ipynb",
      "provenance": [],
      "authorship_tag": "ABX9TyPOXavAC4mEhtWQPnF7CUZR",
      "include_colab_link": true
    },
    "kernelspec": {
      "name": "python3",
      "display_name": "Python 3"
    },
    "language_info": {
      "name": "python"
    }
  },
  "cells": [
    {
      "cell_type": "markdown",
      "metadata": {
        "id": "view-in-github",
        "colab_type": "text"
      },
      "source": [
        "<a href=\"https://colab.research.google.com/github/dbremont/Notas/blob/main/Libros/Ciencia/From_Strange_Simplicity_to_Complex_Familiarity_A_Treatise_on_Matter%2C_Information%2C_Life_and_Thought.ipynb\" target=\"_parent\"><img src=\"https://colab.research.google.com/assets/colab-badge.svg\" alt=\"Open In Colab\"/></a>"
      ]
    },
    {
      "cell_type": "markdown",
      "source": [
        "https://www.amazon.com/progress-tracker/package/ref=pt_redirect_from_gp?_encoding=UTF8&from=gp&itemId=&orderId=111-3674428-2321821&packageIndex=0&shipmentId=17908413956025"
      ],
      "metadata": {
        "id": "ZuYVg0T4sbjw"
      }
    }
  ]
}