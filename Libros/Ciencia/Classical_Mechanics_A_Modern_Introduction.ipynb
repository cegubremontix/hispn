{
  "nbformat": 4,
  "nbformat_minor": 0,
  "metadata": {
    "colab": {
      "name": "Classical Mechanics A Modern Introduction.ipynb",
      "provenance": [],
      "toc_visible": true,
      "authorship_tag": "ABX9TyPqrvxd0Ng2WUAegUB4nDsf",
      "include_colab_link": true
    },
    "kernelspec": {
      "name": "python3",
      "display_name": "Python 3"
    },
    "language_info": {
      "name": "python"
    }
  },
  "cells": [
    {
      "cell_type": "markdown",
      "metadata": {
        "id": "view-in-github",
        "colab_type": "text"
      },
      "source": [
        "<a href=\"https://colab.research.google.com/github/dbremont/Notas/blob/main/Libros/Ciencia/Classical_Mechanics_A_Modern_Introduction.ipynb\" target=\"_parent\"><img src=\"https://colab.research.google.com/assets/colab-badge.svg\" alt=\"Open In Colab\"/></a>"
      ]
    },
    {
      "cell_type": "markdown",
      "metadata": {
        "id": "8d3YhII9VuK4"
      },
      "source": [
        "## Newton's Laws"
      ]
    },
    {
      "cell_type": "markdown",
      "metadata": {
        "id": "-6oleDtYWEQt"
      },
      "source": [
        "## One-Dimensional Motion"
      ]
    },
    {
      "cell_type": "markdown",
      "metadata": {
        "id": "VbqaNI7vWJ-C"
      },
      "source": [
        "## Oscillatory Motion"
      ]
    },
    {
      "cell_type": "markdown",
      "metadata": {
        "id": "w-dDqxrLZQoK"
      },
      "source": [
        "## Two-Body Dynamics"
      ]
    },
    {
      "cell_type": "markdown",
      "metadata": {
        "id": "7pNPWS3tZUua"
      },
      "source": [
        "## Relativity 1: Space and Time"
      ]
    },
    {
      "cell_type": "markdown",
      "metadata": {
        "id": "zRo8DObDZZNp"
      },
      "source": [
        "## Relativity 2: Energy and Momentum"
      ]
    },
    {
      "cell_type": "markdown",
      "metadata": {
        "id": "8X2lI-BhZduZ"
      },
      "source": [
        "## Gravitional Orbits"
      ]
    },
    {
      "cell_type": "markdown",
      "metadata": {
        "id": "4czpVZJbZgSw"
      },
      "source": [
        "## Rigid Body Dynamics"
      ]
    },
    {
      "cell_type": "markdown",
      "metadata": {
        "id": "aZNKQxE9ZkoT"
      },
      "source": [
        "## Rotating Frames"
      ]
    }
  ]
}