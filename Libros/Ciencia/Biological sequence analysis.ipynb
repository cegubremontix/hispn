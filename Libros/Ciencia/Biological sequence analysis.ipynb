{
 "cells": [
  {
   "cell_type": "markdown",
   "metadata": {},
   "source": [
    "1. Introduction\n",
    "2. Pairwise alignment\n",
    "3. Markov chains and hidden Markov data\n",
    "4. Pairwise alignment using HMMs\n",
    "5. Profile HMMs for sequence families\n",
    "6. Multiple sequence alignment methods\n",
    "7. Building phylogenetic trees\n",
    "8. Probabilistic approaches to phylogeny\n",
    "9. Transformational grammars\n",
    "10. RNA structure analysis\n",
    "11. Background on probability\n"
   ]
  }
 ],
 "metadata": {
  "kernelspec": {
   "display_name": "Python 2.7.18 64-bit",
   "name": "python2718jvsc74a57bd0f92b2924b84ff19c1c3dc485f7644d4486f64738191026bf8e6de303969141b5"
  },
  "language_info": {
   "name": "python",
   "version": ""
  },
  "metadata": {
   "interpreter": {
    "hash": "f92b2924b84ff19c1c3dc485f7644d4486f64738191026bf8e6de303969141b5"
   }
  },
  "orig_nbformat": 2
 },
 "nbformat": 4,
 "nbformat_minor": 2
}