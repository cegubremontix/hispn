{
  "nbformat": 4,
  "nbformat_minor": 0,
  "metadata": {
    "kernelspec": {
      "display_name": "Python 2.7.18 64-bit",
      "name": "python2718jvsc74a57bd0f92b2924b84ff19c1c3dc485f7644d4486f64738191026bf8e6de303969141b5"
    },
    "language_info": {
      "name": "python",
      "version": ""
    },
    "metadata": {
      "interpreter": {
        "hash": "f92b2924b84ff19c1c3dc485f7644d4486f64738191026bf8e6de303969141b5"
      }
    },
    "orig_nbformat": 2,
    "colab": {
      "name": "Biological sequence analysis.ipynb",
      "provenance": [],
      "toc_visible": true,
      "include_colab_link": true
    }
  },
  "cells": [
    {
      "cell_type": "markdown",
      "metadata": {
        "id": "view-in-github",
        "colab_type": "text"
      },
      "source": [
        "<a href=\"https://colab.research.google.com/github/dbremont/Notas/blob/main/Libros/Ciencia/Biological%20sequence%20analysis.ipynb\" target=\"_parent\"><img src=\"https://colab.research.google.com/assets/colab-badge.svg\" alt=\"Open In Colab\"/></a>"
      ]
    },
    {
      "cell_type": "markdown",
      "metadata": {
        "id": "sVaoeHH2fSIX"
      },
      "source": [
        "Our intented audience is any graduate or advanced undergraduate stedents with a background in one of these fields:\n",
        "  - Molecular biology,\n",
        "  - Mathematics,\n",
        "  - Computer science,\n",
        "  - physics\n",
        "\n",
        "We assume that readers are already familiar with the basic principles of molecular genetics, such as the Central Dogma that DNA makes RNA makes protein, and that nucleic acids are sequences composed of four nucleotide subunits and proteints are sequences composed of twenty amino acid subunits."
      ]
    },
    {
      "cell_type": "markdown",
      "metadata": {
        "id": "4-WpjmLFezh8"
      },
      "source": [
        "## Introduction"
      ]
    },
    {
      "cell_type": "markdown",
      "metadata": {
        "id": "QmjJpGPje1dM"
      },
      "source": [
        "## Pairwise alignment"
      ]
    },
    {
      "cell_type": "markdown",
      "metadata": {
        "id": "v5TR6Gqqe1u5"
      },
      "source": [
        "## Markov chains and hidden Markov data"
      ]
    },
    {
      "cell_type": "markdown",
      "metadata": {
        "id": "zcg2wJRqe2Er"
      },
      "source": [
        "## Pairwise alignment using HMMs"
      ]
    },
    {
      "cell_type": "markdown",
      "metadata": {
        "id": "BORgaDjje2e1"
      },
      "source": [
        "## Profile HMMs for sequence families"
      ]
    },
    {
      "cell_type": "markdown",
      "metadata": {
        "id": "mR8rd4gqe9Ze"
      },
      "source": [
        "## Multiple sequence alignment methods"
      ]
    },
    {
      "cell_type": "markdown",
      "metadata": {
        "id": "yDATSTCte9o6"
      },
      "source": [
        "## Building phylogenetic trees"
      ]
    },
    {
      "cell_type": "markdown",
      "metadata": {
        "id": "T3iuw4TCe9wc"
      },
      "source": [
        "## Probabilistic approaches to phylogeny"
      ]
    },
    {
      "cell_type": "markdown",
      "metadata": {
        "id": "MPBvLssoe91p"
      },
      "source": [
        "## Transformational grammars"
      ]
    },
    {
      "cell_type": "markdown",
      "metadata": {
        "id": "3KGjgzcGfK8N"
      },
      "source": [
        "## RNA structure analysis"
      ]
    },
    {
      "cell_type": "markdown",
      "metadata": {
        "id": "nsVFadZQfLbl"
      },
      "source": [
        "## Background on probability"
      ]
    }
  ]
}