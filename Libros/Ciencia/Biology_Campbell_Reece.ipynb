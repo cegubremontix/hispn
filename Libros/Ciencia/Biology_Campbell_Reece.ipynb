{
  "nbformat": 4,
  "nbformat_minor": 0,
  "metadata": {
    "colab": {
      "name": "Biology  Campbell - Reece.ipynb",
      "provenance": [],
      "toc_visible": true,
      "authorship_tag": "ABX9TyPTzIGLCS5i4xL2uhsvpCHG",
      "include_colab_link": true
    },
    "kernelspec": {
      "name": "python3",
      "display_name": "Python 3"
    },
    "language_info": {
      "name": "python"
    }
  },
  "cells": [
    {
      "cell_type": "markdown",
      "metadata": {
        "id": "view-in-github",
        "colab_type": "text"
      },
      "source": [
        "<a href=\"https://colab.research.google.com/github/dbremont/Notas/blob/main/Libros/Ciencia/Biology_Campbell_Reece.ipynb\" target=\"_parent\"><img src=\"https://colab.research.google.com/assets/colab-badge.svg\" alt=\"Open In Colab\"/></a>"
      ]
    },
    {
      "cell_type": "markdown",
      "metadata": {
        "id": "dw91jjjGkK56"
      },
      "source": [
        "# The Chemistry of Life"
      ]
    },
    {
      "cell_type": "markdown",
      "metadata": {
        "id": "n5pmZcmOlJIS"
      },
      "source": [
        "## The  Chemical Context of Life"
      ]
    },
    {
      "cell_type": "markdown",
      "metadata": {
        "id": "SZnMIbo6lQE2"
      },
      "source": [
        "## Water and the Fitness of the Environment"
      ]
    },
    {
      "cell_type": "markdown",
      "metadata": {
        "id": "PfXY1Ue7lZjj"
      },
      "source": [
        "## Carbon and the Molecular Diversity of Life"
      ]
    },
    {
      "cell_type": "markdown",
      "metadata": {
        "id": "09-c1PKVliBC"
      },
      "source": [
        "## The Structure and Function of Large"
      ]
    },
    {
      "cell_type": "markdown",
      "metadata": {
        "id": "lGfqL8L_lonp"
      },
      "source": [
        "## Biological Molecules"
      ]
    },
    {
      "cell_type": "markdown",
      "metadata": {
        "id": "dJeZ4yNNkjGZ"
      },
      "source": [
        "# The Cell"
      ]
    },
    {
      "cell_type": "markdown",
      "metadata": {
        "id": "XuQtfCajltsW"
      },
      "source": [
        "## A Tour of the Cell"
      ]
    },
    {
      "cell_type": "markdown",
      "metadata": {
        "id": "18O7m5-Fm8B1"
      },
      "source": [
        "## Membrane Structure and Function"
      ]
    },
    {
      "cell_type": "markdown",
      "metadata": {
        "id": "Pl84Rg2fnBK5"
      },
      "source": [
        "## An Introduction to Metabolism"
      ]
    },
    {
      "cell_type": "markdown",
      "metadata": {
        "id": "O-6TAmTGnHL8"
      },
      "source": [
        "## Cellular Respiration: Harvesting Chemical Energy"
      ]
    },
    {
      "cell_type": "markdown",
      "metadata": {
        "id": "xVrcFkn3nO-y"
      },
      "source": [
        "## Photosynthesis"
      ]
    },
    {
      "cell_type": "markdown",
      "metadata": {
        "id": "BwKXRrg3nTBM"
      },
      "source": [
        "## Cell Communication"
      ]
    },
    {
      "cell_type": "markdown",
      "metadata": {
        "id": "hF15pa4qnaFJ"
      },
      "source": [
        "## The Cell Cycle"
      ]
    },
    {
      "cell_type": "markdown",
      "metadata": {
        "id": "vuMuRw2tkloG"
      },
      "source": [
        "# Genetics"
      ]
    },
    {
      "cell_type": "markdown",
      "metadata": {
        "id": "5Ppf5rBrnfCa"
      },
      "source": [
        "## Meiosis and Sexual Life Cycles"
      ]
    },
    {
      "cell_type": "markdown",
      "metadata": {
        "id": "02-UGD-hntZ8"
      },
      "source": [
        "## Mendel and the Gene Idea"
      ]
    },
    {
      "cell_type": "markdown",
      "metadata": {
        "id": "zbBTGZYNnz7p"
      },
      "source": [
        "## The Chromosomal Basis of Inheritance"
      ]
    },
    {
      "cell_type": "markdown",
      "metadata": {
        "id": "n6eod21kn8WT"
      },
      "source": [
        "## The Molecular Basis of Inheritance"
      ]
    },
    {
      "cell_type": "markdown",
      "metadata": {
        "id": "GFefLCrIoFkR"
      },
      "source": [
        "## From Gene to Protein"
      ]
    },
    {
      "cell_type": "markdown",
      "metadata": {
        "id": "XLG7vB6ooJcu"
      },
      "source": [
        "## Regulation of Gene  Expression"
      ]
    },
    {
      "cell_type": "markdown",
      "metadata": {
        "id": "GDTHPygHoOn1"
      },
      "source": [
        "## Viruses"
      ]
    },
    {
      "cell_type": "markdown",
      "metadata": {
        "id": "qiWPJfSXoQjx"
      },
      "source": [
        "## Biotechnology"
      ]
    },
    {
      "cell_type": "markdown",
      "metadata": {
        "id": "cKusXnpjoTvS"
      },
      "source": [
        "## Genomes and Their Evolution"
      ]
    },
    {
      "cell_type": "markdown",
      "metadata": {
        "id": "gaddUKVBknqy"
      },
      "source": [
        "# Mechanisms of Evolution"
      ]
    },
    {
      "cell_type": "markdown",
      "metadata": {
        "id": "6yBIjPfSoaru"
      },
      "source": [
        "## Descent with Modification: A Darwinian View of Life"
      ]
    },
    {
      "cell_type": "markdown",
      "metadata": {
        "id": "jmqywp0Aok6-"
      },
      "source": [
        "## The Evolution of Populations"
      ]
    },
    {
      "cell_type": "markdown",
      "metadata": {
        "id": "HlG9YfV7opPn"
      },
      "source": [
        "## The Origin of Species"
      ]
    },
    {
      "cell_type": "markdown",
      "metadata": {
        "id": "F6zqpyIQouPn"
      },
      "source": [
        "## The History of Life on Earth"
      ]
    },
    {
      "cell_type": "markdown",
      "metadata": {
        "id": "ThdqzNS_kvpN"
      },
      "source": [
        "# The Evolutionary History of Biological Diversity"
      ]
    },
    {
      "cell_type": "markdown",
      "metadata": {
        "id": "eF1-DVbjo2O_"
      },
      "source": [
        "## Phylogeny and the Tree of Life"
      ]
    },
    {
      "cell_type": "markdown",
      "metadata": {
        "id": "8UwKvNWutcbi"
      },
      "source": [
        "## Bacteria and Archaea"
      ]
    },
    {
      "cell_type": "markdown",
      "metadata": {
        "id": "AdrOCER7thKw"
      },
      "source": [
        "## Protists"
      ]
    },
    {
      "cell_type": "markdown",
      "metadata": {
        "id": "xA8z_dBctj0j"
      },
      "source": [
        "## Plan Divsersity I: How Plants Colonized Land"
      ]
    },
    {
      "cell_type": "markdown",
      "metadata": {
        "id": "XhCNWXDEt1l7"
      },
      "source": [
        "## Plan Divsersity II: The Evolution of Seed Plants"
      ]
    },
    {
      "cell_type": "markdown",
      "metadata": {
        "id": "SGKgkxNht_UY"
      },
      "source": [
        "## Fungi"
      ]
    },
    {
      "cell_type": "markdown",
      "metadata": {
        "id": "xuF9lNrJuBW0"
      },
      "source": [
        "## An Introduction to Animal Diversity"
      ]
    },
    {
      "cell_type": "markdown",
      "metadata": {
        "id": "oG8CKhcuuFM0"
      },
      "source": [
        "## Invertebrates"
      ]
    },
    {
      "cell_type": "markdown",
      "metadata": {
        "id": "VgmFTYl10n_q"
      },
      "source": [
        "## Vertebrades"
      ]
    },
    {
      "cell_type": "markdown",
      "metadata": {
        "id": "u9dQHcVQk4Ou"
      },
      "source": [
        "# Plant Form and Function"
      ]
    },
    {
      "cell_type": "markdown",
      "metadata": {
        "id": "Y4FTXqxz0qcp"
      },
      "source": [
        "## Plant Structure, Growth, and Development"
      ]
    },
    {
      "cell_type": "markdown",
      "metadata": {
        "id": "cmFmsZ-Z0xAu"
      },
      "source": [
        "## Resource  Acquisition and Transport in Vascular Plants"
      ]
    },
    {
      "cell_type": "markdown",
      "metadata": {
        "id": "Yy4QyfXM0-Hl"
      },
      "source": [
        "## Soil and Plan Nutrition"
      ]
    },
    {
      "cell_type": "markdown",
      "metadata": {
        "id": "4vuUf1A-1CoF"
      },
      "source": [
        "## Angiosperm Reproduction and Biotechnology"
      ]
    },
    {
      "cell_type": "markdown",
      "metadata": {
        "id": "Jimn67d21G5j"
      },
      "source": [
        "## Plant Responses to Internal and External Signals"
      ]
    },
    {
      "cell_type": "markdown",
      "metadata": {
        "id": "Sl9lPCYYk94a"
      },
      "source": [
        "# Animal Form and Function"
      ]
    },
    {
      "cell_type": "markdown",
      "metadata": {
        "id": "XsC7E_PS1OES"
      },
      "source": [
        "## Basic Principles of Animal Form and Function"
      ]
    },
    {
      "cell_type": "markdown",
      "metadata": {
        "id": "XnXHybGQ1S9z"
      },
      "source": [
        "## Animal Nutrition"
      ]
    },
    {
      "cell_type": "markdown",
      "metadata": {
        "id": "1IOFdRwu1VbX"
      },
      "source": [
        "## Circulation and Gas Exchange"
      ]
    },
    {
      "cell_type": "markdown",
      "metadata": {
        "id": "YvMd_OFf1Zz3"
      },
      "source": [
        "## The Immuse System"
      ]
    },
    {
      "cell_type": "markdown",
      "metadata": {
        "id": "6l8hX3iA1dw2"
      },
      "source": [
        "## Osmoregulation and Excretion"
      ]
    },
    {
      "cell_type": "markdown",
      "metadata": {
        "id": "RwrYCI_b4LBO"
      },
      "source": [
        "## Hormones and the Endocrine System"
      ]
    },
    {
      "cell_type": "markdown",
      "metadata": {
        "id": "qWKtp1hV4RPr"
      },
      "source": [
        "## Animal Reproduction"
      ]
    },
    {
      "cell_type": "markdown",
      "metadata": {
        "id": "XMwDHV1t4WBk"
      },
      "source": [
        "## Animal Development"
      ]
    },
    {
      "cell_type": "markdown",
      "metadata": {
        "id": "Rrh5obIE4ZD2"
      },
      "source": [
        "## Neurons, Synapses, and Signaling"
      ]
    },
    {
      "cell_type": "markdown",
      "metadata": {
        "id": "5aPVTS9H4ehK"
      },
      "source": [
        "## Nervous Systems"
      ]
    },
    {
      "cell_type": "markdown",
      "metadata": {
        "id": "dv-cL2vl4ik8"
      },
      "source": [
        "## Sensory and Motor Mechanisms"
      ]
    },
    {
      "cell_type": "markdown",
      "metadata": {
        "id": "pnJPYucg4mfx"
      },
      "source": [
        "## Animal Behavior"
      ]
    },
    {
      "cell_type": "markdown",
      "metadata": {
        "id": "PESyMf8zlDNb"
      },
      "source": [
        "# Ecology"
      ]
    },
    {
      "cell_type": "markdown",
      "metadata": {
        "id": "9Xd6CfcvlGVH"
      },
      "source": [
        "## An Introduction to Ecology and the Biosphere\n"
      ]
    },
    {
      "cell_type": "markdown",
      "metadata": {
        "id": "DhUOeX4e4wMX"
      },
      "source": [
        "## Population Ecology"
      ]
    },
    {
      "cell_type": "markdown",
      "metadata": {
        "id": "FMjVbYew4zSF"
      },
      "source": [
        "## Community Ecology"
      ]
    },
    {
      "cell_type": "markdown",
      "metadata": {
        "id": "NSsK26_4462o"
      },
      "source": [
        "## Ecosystems"
      ]
    },
    {
      "cell_type": "markdown",
      "metadata": {
        "id": "BoyPRojj481P"
      },
      "source": [
        "## Conversation Biology and Restoration Ecology"
      ]
    }
  ]
}