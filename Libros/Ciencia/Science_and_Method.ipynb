{
  "nbformat": 4,
  "nbformat_minor": 0,
  "metadata": {
    "colab": {
      "name": "Science and Method.ipynb",
      "provenance": [],
      "toc_visible": true,
      "authorship_tag": "ABX9TyN2g25oybgXFAe/hGSEZPIg",
      "include_colab_link": true
    },
    "kernelspec": {
      "name": "python3",
      "display_name": "Python 3"
    },
    "language_info": {
      "name": "python"
    }
  },
  "cells": [
    {
      "cell_type": "markdown",
      "metadata": {
        "id": "view-in-github",
        "colab_type": "text"
      },
      "source": [
        "<a href=\"https://colab.research.google.com/github/dbremont/Notas/blob/main/Libros/Ciencia/Science_and_Method.ipynb\" target=\"_parent\"><img src=\"https://colab.research.google.com/assets/colab-badge.svg\" alt=\"Open In Colab\"/></a>"
      ]
    },
    {
      "cell_type": "markdown",
      "metadata": {
        "id": "YHy0fXUNEF1k"
      },
      "source": [
        "# Science and Method"
      ]
    },
    {
      "cell_type": "markdown",
      "metadata": {
        "id": "5IuyVF7TEHyC"
      },
      "source": [
        "## The Selection of Facts"
      ]
    },
    {
      "cell_type": "markdown",
      "metadata": {
        "id": "z5eNKRyfEPpr"
      },
      "source": [
        "## The Future of Mathematics"
      ]
    },
    {
      "cell_type": "markdown",
      "metadata": {
        "id": "OzCR_j7IETv_"
      },
      "source": [
        "## Mathematical Discovery"
      ]
    },
    {
      "cell_type": "markdown",
      "metadata": {
        "id": "kjipwqTsEW4K"
      },
      "source": [
        "## Change\n"
      ]
    },
    {
      "cell_type": "markdown",
      "metadata": {
        "id": "tZ9dGw4zEaka"
      },
      "source": [
        "# Mathematical Reasoning"
      ]
    },
    {
      "cell_type": "markdown",
      "metadata": {
        "id": "y2FKjYHkFmyd"
      },
      "source": [
        "## The Reality of Space"
      ]
    },
    {
      "cell_type": "markdown",
      "metadata": {
        "id": "IIbg4jxrFqva"
      },
      "source": [
        "## Mathematical Definitions and Education"
      ]
    },
    {
      "cell_type": "markdown",
      "metadata": {
        "id": "yLV-2fHJFuy3"
      },
      "source": [
        "## Mathematical and Logic"
      ]
    },
    {
      "cell_type": "markdown",
      "metadata": {
        "id": "FA1kx49rFyVy"
      },
      "source": [
        "## The New Logics"
      ]
    },
    {
      "cell_type": "markdown",
      "metadata": {
        "id": "1F1RygIWF3VC"
      },
      "source": [
        "## The Last Efforts of the Logisticians"
      ]
    },
    {
      "cell_type": "markdown",
      "metadata": {
        "id": "J9Yc3ljWF7hi"
      },
      "source": [
        "# The New  Mechanics"
      ]
    },
    {
      "cell_type": "markdown",
      "metadata": {
        "id": "_O4FEJ3YGBWG"
      },
      "source": [
        "## Mechanics and Radium"
      ]
    },
    {
      "cell_type": "markdown",
      "metadata": {
        "id": "lgm66NeZGEPn"
      },
      "source": [
        "## Mechanics and Optics"
      ]
    },
    {
      "cell_type": "markdown",
      "metadata": {
        "id": "uWnixv5KGHfk"
      },
      "source": [
        "## The New Mechanics and Astronomy"
      ]
    },
    {
      "cell_type": "markdown",
      "metadata": {
        "id": "62h-rblaGLaK"
      },
      "source": [
        "# Astronomical Science"
      ]
    },
    {
      "cell_type": "markdown",
      "metadata": {
        "id": "zO-K9StVGOHt"
      },
      "source": [
        "## The Milky Way and the Theory of Gases"
      ]
    },
    {
      "cell_type": "markdown",
      "metadata": {
        "id": "5Sv2pMEgGUUc"
      },
      "source": [
        "## French Geodesy"
      ]
    },
    {
      "cell_type": "markdown",
      "metadata": {
        "id": "c5vqKMKiGWtQ"
      },
      "source": [
        "# General Conclusions"
      ]
    }
  ]
}