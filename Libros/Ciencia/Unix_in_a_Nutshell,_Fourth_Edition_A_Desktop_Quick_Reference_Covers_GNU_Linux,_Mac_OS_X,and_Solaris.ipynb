{
  "nbformat": 4,
  "nbformat_minor": 0,
  "metadata": {
    "colab": {
      "name": "Unix in a Nutshell, Fourth Edition A Desktop Quick Reference - Covers GNU/Linux, Mac OS X,and Solaris.ipynb",
      "provenance": [],
      "authorship_tag": "ABX9TyNGlQ9+OEGo3xm2cdbVJuSg",
      "include_colab_link": true
    },
    "kernelspec": {
      "name": "python3",
      "display_name": "Python 3"
    },
    "language_info": {
      "name": "python"
    }
  },
  "cells": [
    {
      "cell_type": "markdown",
      "metadata": {
        "id": "view-in-github",
        "colab_type": "text"
      },
      "source": [
        "<a href=\"https://colab.research.google.com/github/dbremont/Notas/blob/main/Libros/Ciencia/Unix_in_a_Nutshell%2C_Fourth_Edition_A_Desktop_Quick_Reference_Covers_GNU_Linux%2C_Mac_OS_X%2Cand_Solaris.ipynb\" target=\"_parent\"><img src=\"https://colab.research.google.com/assets/colab-badge.svg\" alt=\"Open In Colab\"/></a>"
      ]
    }
  ]
}