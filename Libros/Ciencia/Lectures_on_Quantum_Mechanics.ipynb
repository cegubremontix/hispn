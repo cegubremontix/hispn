{
  "nbformat": 4,
  "nbformat_minor": 0,
  "metadata": {
    "colab": {
      "name": "Lectures on Quantum Mechanics.ipynb",
      "provenance": [],
      "authorship_tag": "ABX9TyMEoBteCfOMbHrEW7o22GK7",
      "include_colab_link": true
    },
    "kernelspec": {
      "name": "python3",
      "display_name": "Python 3"
    },
    "language_info": {
      "name": "python"
    }
  },
  "cells": [
    {
      "cell_type": "markdown",
      "metadata": {
        "id": "view-in-github",
        "colab_type": "text"
      },
      "source": [
        "<a href=\"https://colab.research.google.com/github/dbremont/Notas/blob/main/Libros/Ciencia/Lectures_on_Quantum_Mechanics.ipynb\" target=\"_parent\"><img src=\"https://colab.research.google.com/assets/colab-badge.svg\" alt=\"Open In Colab\"/></a>"
      ]
    },
    {
      "cell_type": "markdown",
      "metadata": {
        "id": "8d3YhII9VuK4"
      },
      "source": [
        "## Historical Introduction"
      ]
    },
    {
      "cell_type": "markdown",
      "metadata": {
        "id": "-6oleDtYWEQt"
      },
      "source": [
        "## Particle States in Central Potential"
      ]
    },
    {
      "cell_type": "markdown",
      "metadata": {
        "id": "VbqaNI7vWJ-C"
      },
      "source": [
        "## General Principles of Quantum Mechanics"
      ]
    },
    {
      "cell_type": "markdown",
      "metadata": {
        "id": "w-dDqxrLZQoK"
      },
      "source": [
        "## Spin Et Cetera"
      ]
    },
    {
      "cell_type": "markdown",
      "metadata": {
        "id": "7pNPWS3tZUua"
      },
      "source": [
        "## Approximations for Energy Eigenvalues"
      ]
    },
    {
      "cell_type": "markdown",
      "metadata": {
        "id": "zRo8DObDZZNp"
      },
      "source": [
        "## Approximations for Time-Dependent Problems"
      ]
    },
    {
      "cell_type": "markdown",
      "metadata": {
        "id": "8X2lI-BhZduZ"
      },
      "source": [
        "## Potential Scaterring"
      ]
    },
    {
      "cell_type": "markdown",
      "metadata": {
        "id": "4czpVZJbZgSw"
      },
      "source": [
        "## General Scattering Theory"
      ]
    },
    {
      "cell_type": "markdown",
      "metadata": {
        "id": "aZNKQxE9ZkoT"
      },
      "source": [
        "## The Canonical Formalism"
      ]
    },
    {
      "cell_type": "markdown",
      "metadata": {
        "id": "k-0M2PbvZqlG"
      },
      "source": [
        "## Charged Particles in Electromagnetic Fields"
      ]
    },
    {
      "cell_type": "markdown",
      "metadata": {
        "id": "_MG9AmbxaPTy"
      },
      "source": [
        "## The Quamtum Theory of Radiation"
      ]
    },
    {
      "cell_type": "markdown",
      "metadata": {
        "id": "b624m4ofcEZ0"
      },
      "source": [
        "## Entanglement"
      ]
    }
  ]
}