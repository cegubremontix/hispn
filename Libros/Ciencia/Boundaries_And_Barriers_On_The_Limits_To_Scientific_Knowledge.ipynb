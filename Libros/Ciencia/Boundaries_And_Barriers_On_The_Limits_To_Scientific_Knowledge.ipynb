{
  "nbformat": 4,
  "nbformat_minor": 0,
  "metadata": {
    "colab": {
      "name": "Boundaries And Barriers: On The Limits To Scientific Knowledge.ipynb",
      "provenance": [],
      "authorship_tag": "ABX9TyOSMK90ELJGAvrj/hhYw6h9",
      "include_colab_link": true
    },
    "kernelspec": {
      "name": "python3",
      "display_name": "Python 3"
    },
    "language_info": {
      "name": "python"
    }
  },
  "cells": [
    {
      "cell_type": "markdown",
      "metadata": {
        "id": "view-in-github",
        "colab_type": "text"
      },
      "source": [
        "<a href=\"https://colab.research.google.com/github/dbremont/Notas/blob/main/Libros/Ciencia/Boundaries_And_Barriers_On_The_Limits_To_Scientific_Knowledge.ipynb\" target=\"_parent\"><img src=\"https://colab.research.google.com/assets/colab-badge.svg\" alt=\"Open In Colab\"/></a>"
      ]
    },
    {
      "cell_type": "markdown",
      "source": [
        "## Introduction"
      ],
      "metadata": {
        "id": "HXfWwXJuLrH7"
      }
    },
    {
      "cell_type": "markdown",
      "source": [
        "## Limits of Science"
      ],
      "metadata": {
        "id": "NhGa9ejgLszP"
      }
    },
    {
      "cell_type": "markdown",
      "source": [
        "## The Outer Limits: In Search of the \"unknowable\" in Science"
      ],
      "metadata": {
        "id": "Jjx5BVC9Lufe"
      }
    },
    {
      "cell_type": "markdown",
      "source": [
        "## Variations in the Orignal Theme"
      ],
      "metadata": {
        "id": "oRBWLHBYMQD-"
      }
    },
    {
      "cell_type": "markdown",
      "source": [
        "## The Barrier of Objects: From Dynamical Systems"
      ],
      "metadata": {
        "id": "o3gSwDz2MTSI"
      }
    },
    {
      "cell_type": "markdown",
      "source": [
        "## Scientific Knowledge from the perspective of quamtum cosmology"
      ],
      "metadata": {
        "id": "3vR8kMJBMXvM"
      }
    },
    {
      "cell_type": "markdown",
      "source": [
        "## Structuring reality: the role of limits"
      ],
      "metadata": {
        "id": "GydUIlTuMgSu"
      }
    },
    {
      "cell_type": "markdown",
      "source": [
        "## Complexity and epistemology"
      ],
      "metadata": {
        "id": "4VGkUcciMluC"
      }
    },
    {
      "cell_type": "markdown",
      "source": [
        "## On the limitations of scientific knowledge"
      ],
      "metadata": {
        "id": "WIYJ5cQ1MpLF"
      }
    },
    {
      "cell_type": "markdown",
      "source": [
        "## Undecidability everywhere?"
      ],
      "metadata": {
        "id": "6T7wlcjCMst8"
      }
    },
    {
      "cell_type": "markdown",
      "source": [
        "## On reality and models?"
      ],
      "metadata": {
        "id": "qhLt9QdEMwry"
      }
    }
  ]
}