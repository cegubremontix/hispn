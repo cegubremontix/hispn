{
  "nbformat": 4,
  "nbformat_minor": 0,
  "metadata": {
    "colab": {
      "name": "What is Life? The Next Fifty Years.ipynb",
      "provenance": [],
      "toc_visible": true,
      "authorship_tag": "ABX9TyMxEdL5nCOgA3xhN2xARct5",
      "include_colab_link": true
    },
    "kernelspec": {
      "name": "python3",
      "display_name": "Python 3"
    },
    "language_info": {
      "name": "python"
    }
  },
  "cells": [
    {
      "cell_type": "markdown",
      "metadata": {
        "id": "view-in-github",
        "colab_type": "text"
      },
      "source": [
        "<a href=\"https://colab.research.google.com/github/dbremont/Notas/blob/main/Libros/Ciencia/What_is_Life%3F_The_Next_Fifty_Years.ipynb\" target=\"_parent\"><img src=\"https://colab.research.google.com/assets/colab-badge.svg\" alt=\"Open In Colab\"/></a>"
      ]
    },
    {
      "cell_type": "markdown",
      "metadata": {
        "id": "w4kydg_jk_Fp"
      },
      "source": [
        "# What is Life? The Next Fifty Years"
      ]
    },
    {
      "cell_type": "markdown",
      "metadata": {
        "id": "_2XanaglnSNK"
      },
      "source": [
        "## What is Life? The Next fifty years. An Introcution"
      ]
    },
    {
      "cell_type": "markdown",
      "metadata": {
        "id": "VvuhwN04lAb9"
      },
      "source": [
        "## What will endure of  20th century biology?"
      ]
    },
    {
      "cell_type": "markdown",
      "metadata": {
        "id": "ZW80n2YSlhQK"
      },
      "source": [
        "## The evolution of human inventiveness\n"
      ]
    },
    {
      "cell_type": "markdown",
      "metadata": {
        "id": "cKfi9n2Blk-D"
      },
      "source": [
        "## Development: is the egg computable or could we generate an angel or a dinosaur?"
      ]
    },
    {
      "cell_type": "markdown",
      "metadata": {
        "id": "qUOaafRHnWmW"
      },
      "source": [
        "## Language and life"
      ]
    },
    {
      "cell_type": "markdown",
      "metadata": {
        "id": "Di4NvfB0naTc"
      },
      "source": [
        "## RNA without protein or protein without RNA?"
      ]
    },
    {
      "cell_type": "markdown",
      "metadata": {
        "id": "Es1gQMvjndVs"
      },
      "source": [
        "## What is life?: was Schorodinger right?"
      ]
    },
    {
      "cell_type": "markdown",
      "metadata": {
        "id": "CawnhsY1nf-O"
      },
      "source": [
        "## Do the laws of Nature evolve?"
      ]
    },
    {
      "cell_type": "markdown",
      "metadata": {
        "id": "3OlPWbr7nkvW"
      },
      "source": [
        "## New laws to be expected in the organism: synergetics of brain and behavior"
      ]
    },
    {
      "cell_type": "markdown",
      "metadata": {
        "id": "jmH6aa5knuPn"
      },
      "source": [
        "## Order from disorder: the  thermodynamics fo complexity in biology"
      ]
    },
    {
      "cell_type": "markdown",
      "metadata": {
        "id": "Wqmo487WnxCe"
      },
      "source": [
        "## Reminiscences"
      ]
    }
  ]
}