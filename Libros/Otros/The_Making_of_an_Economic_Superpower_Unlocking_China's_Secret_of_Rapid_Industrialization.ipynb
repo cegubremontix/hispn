{
  "nbformat": 4,
  "nbformat_minor": 0,
  "metadata": {
    "colab": {
      "name": "The Making of an Economic Superpower: Unlocking China's Secret of Rapid Industrialization.ipynb",
      "provenance": [],
      "authorship_tag": "ABX9TyNYQc6p8uXx6uCVEArvBiON",
      "include_colab_link": true
    },
    "kernelspec": {
      "name": "python3",
      "display_name": "Python 3"
    },
    "language_info": {
      "name": "python"
    }
  },
  "cells": [
    {
      "cell_type": "markdown",
      "metadata": {
        "id": "view-in-github",
        "colab_type": "text"
      },
      "source": [
        "<a href=\"https://colab.research.google.com/github/dbremont/Notas/blob/main/Libros/Otros/The_Making_of_an_Economic_Superpower_Unlocking_China's_Secret_of_Rapid_Industrialization.ipynb\" target=\"_parent\"><img src=\"https://colab.research.google.com/assets/colab-badge.svg\" alt=\"Open In Colab\"/></a>"
      ]
    },
    {
      "cell_type": "markdown",
      "metadata": {
        "id": "9MonA0nFxUZl"
      },
      "source": [
        "# The Making of an Economic Superpower: Unlocking China's Secret of Rapid Industrialization "
      ]
    },
    {
      "cell_type": "markdown",
      "metadata": {
        "id": "kWxpcYl37cNo"
      },
      "source": [
        "## Introduction"
      ]
    },
    {
      "cell_type": "markdown",
      "metadata": {
        "id": "UOW6nvP_9Ojy"
      },
      "source": [
        "## Key Steps Taken by China to Set Off an Industrial Revolution"
      ]
    },
    {
      "cell_type": "markdown",
      "metadata": {
        "id": "cu1pAV1X-5KE"
      },
      "source": [
        "### Idiological Shift towar Commerce and Commercialism"
      ]
    },
    {
      "cell_type": "markdown",
      "metadata": {
        "id": "fbvpqptx-zd3"
      },
      "source": [
        "> Its ideas, not vested interests, which are dangerous for good or evil. Jhon Maynard Keynes\n",
        "\n",
        "Ironically, the proto-industrial revolution unleashed in China's rural areas after 1978 was attempted and envisioned first my Mao in 1958 and served as one of his fundamentals development strategies during the \"Great Leap Forward\". The initial 1.52 million village firms in 1978 were the legacy of the \"Great Leap Foward\" and served as the catalyst of China's long awaited rural industrialization.\n",
        "\n",
        "The market would help archieve microeconomic efficiency based on individual productivity and competition, whereas social plannning would help achieve macroeconomic efficiency based on strategic planning and aggregate management (similar to managing a giant company).\n",
        "\n",
        "Markets relies on commerce, commerse is the force that connects supply and demand, commerce build, creates, deppends, and nurtures markets; channels goods to mmet theire demand; provides information about the two ends of the market; encourages profit-seeking and arbitrage behavoirs to eliminate inefficiency and firm-level resource misallocations; and is thus the pathway of the market and the lubricant of the industrial wheel the market's fundamental \"natural selection\" mechanism for \"good\"  and \"bad\" firms and serving as the \"invisible\" mathchmaker between specialized demand and supply under the division of labor.\n",
        "\n",
        "\n"
      ]
    },
    {
      "cell_type": "markdown",
      "metadata": {
        "id": "AuvwFTIb9fAS"
      },
      "source": [
        "## Shedding Ligth on the Nature and Cause of the Industrial Revolution"
      ]
    },
    {
      "cell_type": "markdown",
      "metadata": {
        "id": "JvmZNNdM9o47"
      },
      "source": [
        "## Why Is China's Rise Unstoppable?"
      ]
    },
    {
      "cell_type": "markdown",
      "metadata": {
        "id": "MpaCjlBf9tHJ"
      },
      "source": [
        "## What's Wrong with the Whashintong Consensus and the Institutional Theories?"
      ]
    },
    {
      "cell_type": "markdown",
      "metadata": {
        "id": "VYSEM3E4-DR9"
      },
      "source": [
        "## Case Study of Yong Lian: A Poor Village's Path to Becoming a Modern Steel Town"
      ]
    },
    {
      "cell_type": "markdown",
      "metadata": {
        "id": "gW6lKXcw-Neb"
      },
      "source": [
        "## Conclusion: A New Stage Theory of Economic Development"
      ]
    }
  ]
}