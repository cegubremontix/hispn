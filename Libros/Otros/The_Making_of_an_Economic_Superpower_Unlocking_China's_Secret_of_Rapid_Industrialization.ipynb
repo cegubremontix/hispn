{
  "nbformat": 4,
  "nbformat_minor": 0,
  "metadata": {
    "colab": {
      "name": "The Making of an Economic Superpower: Unlocking China's Secret of Rapid Industrialization.ipynb",
      "provenance": [],
      "authorship_tag": "ABX9TyN1JUmXfMG82t0WAOi0Zbh+",
      "include_colab_link": true
    },
    "kernelspec": {
      "name": "python3",
      "display_name": "Python 3"
    },
    "language_info": {
      "name": "python"
    }
  },
  "cells": [
    {
      "cell_type": "markdown",
      "metadata": {
        "id": "view-in-github",
        "colab_type": "text"
      },
      "source": [
        "<a href=\"https://colab.research.google.com/github/dbremont/Notas/blob/main/Libros/Otros/The_Making_of_an_Economic_Superpower_Unlocking_China's_Secret_of_Rapid_Industrialization.ipynb\" target=\"_parent\"><img src=\"https://colab.research.google.com/assets/colab-badge.svg\" alt=\"Open In Colab\"/></a>"
      ]
    },
    {
      "cell_type": "markdown",
      "metadata": {
        "id": "9MonA0nFxUZl"
      },
      "source": [
        "# The Making of an Economic Superpower: Unlocking China's Secret of Rapid Industrialization\n",
        "\n",
        "- "
      ]
    }
  ]
}