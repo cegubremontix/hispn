{
  "nbformat": 4,
  "nbformat_minor": 0,
  "metadata": {
    "colab": {
      "name": "National Innovation Systems: A Comparative Analysis.ipynb",
      "provenance": [],
      "authorship_tag": "ABX9TyPWRn0u+dlJ+7/G4vnXSwZu",
      "include_colab_link": true
    },
    "kernelspec": {
      "name": "python3",
      "display_name": "Python 3"
    },
    "language_info": {
      "name": "python"
    }
  },
  "cells": [
    {
      "cell_type": "markdown",
      "metadata": {
        "id": "view-in-github",
        "colab_type": "text"
      },
      "source": [
        "<a href=\"https://colab.research.google.com/github/dbremont/Notas/blob/main/Libros/Otros/National_Innovation_Systems_A_Comparative_Analysis.ipynb\" target=\"_parent\"><img src=\"https://colab.research.google.com/assets/colab-badge.svg\" alt=\"Open In Colab\"/></a>"
      ]
    },
    {
      "cell_type": "markdown",
      "source": [
        "# Large High-Income Countries"
      ],
      "metadata": {
        "id": "qgNXCRafuFsx"
      }
    },
    {
      "cell_type": "markdown",
      "source": [
        "## The U.S National Innovation System"
      ],
      "metadata": {
        "id": "bGg_x67zuQsI"
      }
    },
    {
      "cell_type": "markdown",
      "source": [
        "## The Japonese System of Innovations: Past, Present, and Future"
      ],
      "metadata": {
        "id": "q3sa5cFeuTdl"
      }
    },
    {
      "cell_type": "markdown",
      "source": [
        "## The National System for Technical Innovation in Germany"
      ],
      "metadata": {
        "id": "YiL5kprUuZVm"
      }
    },
    {
      "cell_type": "markdown",
      "source": [
        "## National Innovation Sysetms: Britain"
      ],
      "metadata": {
        "id": "jmViDoJgud2l"
      }
    },
    {
      "cell_type": "markdown",
      "source": [
        "## The French National Systems of Innovation"
      ],
      "metadata": {
        "id": "30O_v5LzuhV0"
      }
    },
    {
      "cell_type": "markdown",
      "source": [
        "## The National Systems of Innovation: Itality"
      ],
      "metadata": {
        "id": "Vg3LdRarump_"
      }
    },
    {
      "cell_type": "markdown",
      "source": [
        "# Smaller High-Income Contries"
      ],
      "metadata": {
        "id": "Ry5wPMPXuqFy"
      }
    },
    {
      "cell_type": "markdown",
      "source": [
        "## Comparing the Danish and Swedish Systems of Innovation"
      ],
      "metadata": {
        "id": "l42_3Rwwuszm"
      }
    },
    {
      "cell_type": "markdown",
      "source": [
        "## Canadian System of Industrial Innnovation"
      ],
      "metadata": {
        "id": "owGvyoohuymb"
      }
    },
    {
      "cell_type": "markdown",
      "source": [
        "## The Australian Innovation System "
      ],
      "metadata": {
        "id": "5ghbT8Hcv4v6"
      }
    },
    {
      "cell_type": "markdown",
      "source": [
        "# Lower Income Countries"
      ],
      "metadata": {
        "id": "3PnkKRu-v8y7"
      }
    },
    {
      "cell_type": "markdown",
      "source": [
        "## National System of Industrial Innovation: Dynamics of Capability Building in Korea"
      ],
      "metadata": {
        "id": "TgCtta-Qv_L0"
      }
    },
    {
      "cell_type": "markdown",
      "source": [
        "## National Systems Supporting Technical Advance in Industry: The Case of Taiwan"
      ],
      "metadata": {
        "id": "tucedl75wIhP"
      }
    },
    {
      "cell_type": "markdown",
      "source": [
        "## National Systems Supporting Technicals Advanced in Industry: The Brazilian Experience"
      ],
      "metadata": {
        "id": "ptpu4UpowTS2"
      }
    },
    {
      "cell_type": "markdown",
      "source": [
        "## National  Systems of Innovation Supporting Technical Advance in Industry: The Case of Argentina"
      ],
      "metadata": {
        "id": "GDCgn8vTwdgN"
      }
    },
    {
      "cell_type": "markdown",
      "source": [
        "## The Innovation Systems of Israel: Description Performace, and Outstanding Issues"
      ],
      "metadata": {
        "id": "NGcZCYRXwpkj"
      }
    },
    {
      "cell_type": "markdown",
      "source": [
        "# National Innovations Systems"
      ],
      "metadata": {
        "id": "03Mmrw5QwyTt"
      }
    },
    {
      "cell_type": "markdown",
      "source": [
        "## A Retrospective"
      ],
      "metadata": {
        "id": "FQfmE6yew0Rv"
      }
    }
  ]
}