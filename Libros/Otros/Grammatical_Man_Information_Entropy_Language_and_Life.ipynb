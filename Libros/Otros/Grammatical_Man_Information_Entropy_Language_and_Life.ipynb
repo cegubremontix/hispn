{
  "nbformat": 4,
  "nbformat_minor": 0,
  "metadata": {
    "colab": {
      "name": "Grammatical Man: Information, Entropy, Language and Life.ipynb",
      "provenance": [],
      "authorship_tag": "ABX9TyP37v4GAiqfhETvU/XG4soO",
      "include_colab_link": true
    },
    "kernelspec": {
      "name": "python3",
      "display_name": "Python 3"
    },
    "language_info": {
      "name": "python"
    }
  },
  "cells": [
    {
      "cell_type": "markdown",
      "metadata": {
        "id": "view-in-github",
        "colab_type": "text"
      },
      "source": [
        "<a href=\"https://colab.research.google.com/github/dbremont/Notas/blob/main/Libros/Otros/Grammatical_Man_Information_Entropy_Language_and_Life.ipynb\" target=\"_parent\"><img src=\"https://colab.research.google.com/assets/colab-badge.svg\" alt=\"Open In Colab\"/></a>"
      ]
    },
    {
      "cell_type": "markdown",
      "source": [
        "# Establishing the Theory of Information"
      ],
      "metadata": {
        "id": "x7A7DdsCVSXd"
      }
    },
    {
      "cell_type": "markdown",
      "source": [
        "## The Second Law and the Yellow Peril"
      ],
      "metadata": {
        "id": "9139l-BJVVKl"
      }
    },
    {
      "cell_type": "markdown",
      "source": [
        "## The Noise of Heat"
      ],
      "metadata": {
        "id": "rmSlIrS8VZaz"
      }
    },
    {
      "cell_type": "markdown",
      "source": [
        "## The Demon Deposed"
      ],
      "metadata": {
        "id": "KqPNCcOAVe9-"
      }
    },
    {
      "cell_type": "markdown",
      "source": [
        "## A Nest of Subtleties and Traps"
      ],
      "metadata": {
        "id": "Uw3XyNp6VjNF"
      }
    },
    {
      "cell_type": "markdown",
      "source": [
        "## Not Too Dull, Not Too Exciting"
      ],
      "metadata": {
        "id": "_OsWS0ZmVmZ6"
      }
    },
    {
      "cell_type": "markdown",
      "source": [
        "# Nature as an Information Process"
      ],
      "metadata": {
        "id": "fcnbUXH2Vqcf"
      }
    },
    {
      "cell_type": "markdown",
      "source": [
        "## Arrows in All Directions"
      ],
      "metadata": {
        "id": "jB98CyjeVtUt"
      }
    },
    {
      "cell_type": "markdown",
      "source": [
        "## Chemical Word and Chemical Deed"
      ],
      "metadata": {
        "id": "45eJBXJsV0WF"
      }
    },
    {
      "cell_type": "markdown",
      "source": [
        "## Jumping the Complexity Barrier"
      ],
      "metadata": {
        "id": "AZKqFfvgV5oU"
      }
    },
    {
      "cell_type": "markdown",
      "source": [
        "##  Something Rather Subtle"
      ],
      "metadata": {
        "id": "xP3758XBV-Bh"
      }
    },
    {
      "cell_type": "markdown",
      "source": [
        "# Coding Language, Coding Life"
      ],
      "metadata": {
        "id": "r6lQ9iBJWCJn"
      }
    },
    {
      "cell_type": "markdown",
      "source": [
        "## Algorithms and Evolution"
      ],
      "metadata": {
        "id": "Zft14SKnWGV7"
      }
    },
    {
      "cell_type": "markdown",
      "source": [
        "## Partly Green Till the Day We Die"
      ],
      "metadata": {
        "id": "J6kLjaTQWL03"
      }
    },
    {
      "cell_type": "markdown",
      "source": [
        "## No Need for Ancient Astronauts"
      ],
      "metadata": {
        "id": "mriWBnsOWQ7M"
      }
    },
    {
      "cell_type": "markdown",
      "source": [
        "## The Clear and the Noisy Messages of Language"
      ],
      "metadata": {
        "id": "ss_OoxjXWVIa"
      }
    },
    {
      "cell_type": "markdown",
      "source": [
        "## A Mirror of the Mind"
      ],
      "metadata": {
        "id": "fZe-XYx8WZMB"
      }
    },
    {
      "cell_type": "markdown",
      "source": [
        "# How the Brain Puts It All Together"
      ],
      "metadata": {
        "id": "DqkE4IX2Wb4L"
      }
    },
    {
      "cell_type": "markdown",
      "source": [
        "## The Brain as Cat on a Hot Tin Roof and Other Fallacies"
      ],
      "metadata": {
        "id": "lNw-FIu4WiJ8"
      }
    },
    {
      "cell_type": "markdown",
      "source": [
        "## The Strategies of Seeing"
      ],
      "metadata": {
        "id": "iCTHjAzaWnml"
      }
    },
    {
      "cell_type": "markdown",
      "source": [
        "## The Bottom and Top of Memory"
      ],
      "metadata": {
        "id": "GvckjubmWqt9"
      }
    },
    {
      "cell_type": "markdown",
      "source": [
        "## The Information of Dreams"
      ],
      "metadata": {
        "id": "Ih2h1ONIWur9"
      }
    },
    {
      "cell_type": "markdown",
      "source": [
        "## The Left and Right of Knowing"
      ],
      "metadata": {
        "id": "y8TEGrE0WyI5"
      }
    },
    {
      "cell_type": "markdown",
      "source": [
        "## The Second-Theorem Society"
      ],
      "metadata": {
        "id": "hTP05CsCW2OU"
      }
    }
  ]
}