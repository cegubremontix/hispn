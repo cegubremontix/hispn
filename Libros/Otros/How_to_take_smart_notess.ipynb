{
  "nbformat": 4,
  "nbformat_minor": 0,
  "metadata": {
    "colab": {
      "name": "How to take smart notess.ipynb",
      "provenance": [],
      "toc_visible": true,
      "authorship_tag": "ABX9TyP4v4uvI/Z2yL611amUts9o",
      "include_colab_link": true
    },
    "kernelspec": {
      "name": "python3",
      "display_name": "Python 3"
    },
    "language_info": {
      "name": "python"
    }
  },
  "cells": [
    {
      "cell_type": "markdown",
      "metadata": {
        "id": "view-in-github",
        "colab_type": "text"
      },
      "source": [
        "<a href=\"https://colab.research.google.com/github/dbremont/Notas/blob/main/Libros/Otros/How_to_take_smart_notess.ipynb\" target=\"_parent\"><img src=\"https://colab.research.google.com/assets/colab-badge.svg\" alt=\"Open In Colab\"/></a>"
      ]
    },
    {
      "cell_type": "markdown",
      "metadata": {
        "id": "5oWqFYBJpu6f"
      },
      "source": [
        "# Introduction"
      ]
    },
    {
      "cell_type": "markdown",
      "metadata": {
        "id": "hKBla_a_qXQC"
      },
      "source": [
        "## Everything You Need to Know"
      ]
    },
    {
      "cell_type": "markdown",
      "metadata": {
        "id": "-1RY1pvkqb9g"
      },
      "source": [
        "## Everything You Need to Do"
      ]
    },
    {
      "cell_type": "markdown",
      "metadata": {
        "id": "Wkhya3XXqfil"
      },
      "source": [
        "## Everything You Need to Have"
      ]
    },
    {
      "cell_type": "markdown",
      "metadata": {
        "id": "muZAK1-2qmse"
      },
      "source": [
        "## A Few Things to Keep in Mind"
      ]
    },
    {
      "cell_type": "markdown",
      "metadata": {
        "id": "DvI0g80TquPJ"
      },
      "source": [
        "# The Four Underlying Principles"
      ]
    },
    {
      "cell_type": "markdown",
      "metadata": {
        "id": "WHC7rIX1q0Bm"
      },
      "source": [
        "## Writing in the Only Thing That Matters"
      ]
    },
    {
      "cell_type": "markdown",
      "metadata": {
        "id": "vp20qDOxtc3k"
      },
      "source": [
        "## Simplicity Is Paramount"
      ]
    },
    {
      "cell_type": "markdown",
      "metadata": {
        "id": "li6crBsOtiE9"
      },
      "source": [
        "## Nobody Ever Starts From Scratch"
      ]
    },
    {
      "cell_type": "markdown",
      "metadata": {
        "id": "fDr3uoyet6JG"
      },
      "source": [
        "## Let the Work Carry You Foward"
      ]
    },
    {
      "cell_type": "markdown",
      "metadata": {
        "id": "snWZ1087t-aj"
      },
      "source": [
        "# The Six Stepts to Successful Writing"
      ]
    },
    {
      "cell_type": "markdown",
      "metadata": {
        "id": "GzQF4DnLuHfE"
      },
      "source": [
        "## Separate and Interlocking Tasks"
      ]
    },
    {
      "cell_type": "markdown",
      "metadata": {
        "id": "m4LTiHEzuNW9"
      },
      "source": [
        "## Read and Interlocking Tasks"
      ]
    },
    {
      "cell_type": "markdown",
      "metadata": {
        "id": "GRkAQ2PeuS8x"
      },
      "source": [
        "## Take Smart Notes"
      ]
    },
    {
      "cell_type": "markdown",
      "metadata": {
        "id": "6Dx4aQ20uV4u"
      },
      "source": [
        "## Develop Ideas"
      ]
    },
    {
      "cell_type": "markdown",
      "metadata": {
        "id": "6YsId6tYubTt"
      },
      "source": [
        "## Share Your Insight"
      ]
    },
    {
      "cell_type": "markdown",
      "metadata": {
        "id": "bjA-eYtDufLW"
      },
      "source": [
        "## Make It a Habit"
      ]
    }
  ]
}