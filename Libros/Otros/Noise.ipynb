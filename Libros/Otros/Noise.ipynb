{
  "nbformat": 4,
  "nbformat_minor": 0,
  "metadata": {
    "colab": {
      "name": "Noise.ipynb",
      "provenance": [],
      "toc_visible": true,
      "authorship_tag": "ABX9TyP2PYlYk5PNhQH57GzNf4b1",
      "include_colab_link": true
    },
    "kernelspec": {
      "name": "python3",
      "display_name": "Python 3"
    },
    "language_info": {
      "name": "python"
    }
  },
  "cells": [
    {
      "cell_type": "markdown",
      "metadata": {
        "id": "view-in-github",
        "colab_type": "text"
      },
      "source": [
        "<a href=\"https://colab.research.google.com/github/dbremont/Notas/blob/main/Libros/Otros/Noise.ipynb\" target=\"_parent\"><img src=\"https://colab.research.google.com/assets/colab-badge.svg\" alt=\"Open In Colab\"/></a>"
      ]
    },
    {
      "cell_type": "markdown",
      "metadata": {
        "id": "qnju4X-z9BVo"
      },
      "source": [
        "# Noise\n",
        "A Flow in Human Judgment"
      ]
    },
    {
      "cell_type": "markdown",
      "metadata": {
        "id": "Al9A0Dog9Dbr"
      },
      "source": [
        "## Finding Noise\n",
        "\n",
        "Explore the between noise and bias."
      ]
    },
    {
      "cell_type": "markdown",
      "metadata": {
        "id": "EKaQrNgV9K_G"
      },
      "source": [
        "### Crime and Noisy Punishment"
      ]
    },
    {
      "cell_type": "markdown",
      "metadata": {
        "id": "74Baiz6D9N5T"
      },
      "source": [
        "### A Noisy System"
      ]
    },
    {
      "cell_type": "markdown",
      "metadata": {
        "id": "h9tKv4NI9Sjn"
      },
      "source": [
        "### Singular Decisions"
      ]
    },
    {
      "cell_type": "markdown",
      "metadata": {
        "id": "p4BZ2Nw_-MHS"
      },
      "source": [
        "## Your Mind Is a Measuring Instrument\n",
        "\n",
        "Investigate the nature of human judgment and explore how to measure accuracy and error."
      ]
    },
    {
      "cell_type": "markdown",
      "metadata": {
        "id": "JrpxYfWX-RdY"
      },
      "source": [
        "### Matters of Judgment"
      ]
    },
    {
      "cell_type": "markdown",
      "metadata": {
        "id": "7hsqiGXl-VRe"
      },
      "source": [
        "### Measuring Error"
      ]
    },
    {
      "cell_type": "markdown",
      "metadata": {
        "id": "kNiWyCuF-XUP"
      },
      "source": [
        "### The Analysis of Noise"
      ]
    },
    {
      "cell_type": "markdown",
      "metadata": {
        "id": "p51xw9_Z-a-d"
      },
      "source": [
        "### Occasion Noise"
      ]
    },
    {
      "cell_type": "markdown",
      "metadata": {
        "id": "JXxpV-X0-ghi"
      },
      "source": [
        "###  How Groups Amplify Noise"
      ]
    },
    {
      "cell_type": "markdown",
      "metadata": {
        "id": "NEhR47EF-nOp"
      },
      "source": [
        "## Noise in Predictive Judgments\n",
        "\n",
        "- Explore predictive judgment.\n",
        "\n",
        "- Explore the advantage of rules, formulas, and algorithms over humans whhen it comes to making prediction: contratry  to popular belief, it is not so much the superior insighit of rules but their noiselesness.\n"
      ]
    },
    {
      "cell_type": "markdown",
      "metadata": {
        "id": "adMYuQue-sJm"
      },
      "source": [
        "### Judgment and Models"
      ]
    },
    {
      "cell_type": "markdown",
      "metadata": {
        "id": "mpmTYtml-xPS"
      },
      "source": [
        "### Objective Ignorance"
      ]
    },
    {
      "cell_type": "markdown",
      "metadata": {
        "id": "pMC36fwi_I0G"
      },
      "source": [
        "### The Valley of the Normal"
      ]
    },
    {
      "cell_type": "markdown",
      "metadata": {
        "id": "8c6SRVVX_ORC"
      },
      "source": [
        "## How Noise Happends\n",
        "\n",
        "Explore the central issues that causes noise."
      ]
    },
    {
      "cell_type": "markdown",
      "metadata": {
        "id": "sJLKltQZ_T8z"
      },
      "source": [
        "### Heuristics, Biases, and Noise"
      ]
    },
    {
      "cell_type": "markdown",
      "metadata": {
        "id": "_f4mphO9_YyU"
      },
      "source": [
        "### The Matching Operation"
      ]
    },
    {
      "cell_type": "markdown",
      "metadata": {
        "id": "Cj1bG0YO_cHJ"
      },
      "source": [
        "### Scales"
      ]
    },
    {
      "cell_type": "markdown",
      "metadata": {
        "id": "JMZvyPQZB2Kj"
      },
      "source": [
        "### Patterns"
      ]
    },
    {
      "cell_type": "markdown",
      "metadata": {
        "id": "rsDwafeaB3m8"
      },
      "source": [
        "### The Sources of Noise"
      ]
    },
    {
      "cell_type": "markdown",
      "metadata": {
        "id": "bmhc-SxEB6Xi"
      },
      "source": [
        "## Improving Judgments\n",
        "Explore how to improve yo8ur judgments and prevent error. \n",
        "\n",
        "A practical reader can start reading the book from here."
      ]
    },
    {
      "cell_type": "markdown",
      "metadata": {
        "id": "ALbLplYzCAnl"
      },
      "source": [
        "### Better Judges for Better Judgments"
      ]
    },
    {
      "cell_type": "markdown",
      "metadata": {
        "id": "bBSzPFh7CFsP"
      },
      "source": [
        "### Debiasing and Decision Hygiene"
      ]
    },
    {
      "cell_type": "markdown",
      "metadata": {
        "id": "o_1YaOPxCJLd"
      },
      "source": [
        "### Sequencing Information in Forensic Science"
      ]
    },
    {
      "cell_type": "markdown",
      "metadata": {
        "id": "X-bEtFR-CPrn"
      },
      "source": [
        "### Selection and Aggregation in Forecasting"
      ]
    },
    {
      "cell_type": "markdown",
      "metadata": {
        "id": "EIj-F-drCbVr"
      },
      "source": [
        "### Guidelines in Medecine"
      ]
    },
    {
      "cell_type": "markdown",
      "metadata": {
        "id": "AgI63zAqCepN"
      },
      "source": [
        "### Defining the Scale in Performace Ratings"
      ]
    },
    {
      "cell_type": "markdown",
      "metadata": {
        "id": "_5bq1M-uCi3W"
      },
      "source": [
        "### Structure in Hiring"
      ]
    },
    {
      "cell_type": "markdown",
      "metadata": {
        "id": "1tJozQu3CmPE"
      },
      "source": [
        "### The Mediating Assessments Protocol"
      ]
    },
    {
      "cell_type": "markdown",
      "metadata": {
        "id": "GSlZK_VZCqSJ"
      },
      "source": [
        "## Optimal Noise"
      ]
    },
    {
      "cell_type": "markdown",
      "metadata": {
        "id": "awmA0EamCus0"
      },
      "source": [
        "### The Costs of Noise Reduction"
      ]
    },
    {
      "cell_type": "markdown",
      "metadata": {
        "id": "OMqOLpBXCxAA"
      },
      "source": [
        "### Dignity"
      ]
    },
    {
      "cell_type": "markdown",
      "metadata": {
        "id": "weha8r8jCy--"
      },
      "source": [
        "### Rules or Standards?"
      ]
    }
  ]
}