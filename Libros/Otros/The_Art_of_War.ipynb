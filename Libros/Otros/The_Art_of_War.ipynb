{
  "nbformat": 4,
  "nbformat_minor": 0,
  "metadata": {
    "colab": {
      "name": "The Art of War.ipynb",
      "provenance": [],
      "authorship_tag": "ABX9TyO8QyH+koWUxdERCEIrvQmz",
      "include_colab_link": true
    },
    "kernelspec": {
      "name": "python3",
      "display_name": "Python 3"
    },
    "language_info": {
      "name": "python"
    }
  },
  "cells": [
    {
      "cell_type": "markdown",
      "metadata": {
        "id": "view-in-github",
        "colab_type": "text"
      },
      "source": [
        "<a href=\"https://colab.research.google.com/github/dbremont/Notas/blob/main/Libros/Otros/The_Art_of_War.ipynb\" target=\"_parent\"><img src=\"https://colab.research.google.com/assets/colab-badge.svg\" alt=\"Open In Colab\"/></a>"
      ]
    },
    {
      "cell_type": "markdown",
      "source": [
        "## Strategic Assesments"
      ],
      "metadata": {
        "id": "9pVy-lJLw4M7"
      }
    },
    {
      "cell_type": "markdown",
      "source": [
        "## Doing Battle"
      ],
      "metadata": {
        "id": "QoZCx7G0w7zX"
      }
    },
    {
      "cell_type": "markdown",
      "source": [
        "## Planning a Siege"
      ],
      "metadata": {
        "id": "lR4aW7s-w8_8"
      }
    },
    {
      "cell_type": "markdown",
      "source": [
        "## Formation"
      ],
      "metadata": {
        "id": "11qoZ_Dnw_mZ"
      }
    },
    {
      "cell_type": "markdown",
      "source": [
        "## Force"
      ],
      "metadata": {
        "id": "79OrT9K5xC1y"
      }
    },
    {
      "cell_type": "markdown",
      "source": [
        "## Emptiness and Fullness"
      ],
      "metadata": {
        "id": "wKjIfITmxEM4"
      }
    },
    {
      "cell_type": "markdown",
      "source": [
        "## Armed Struggle"
      ],
      "metadata": {
        "id": "bWwAKQ25xHJi"
      }
    },
    {
      "cell_type": "markdown",
      "source": [
        "## Adaptations"
      ],
      "metadata": {
        "id": "pH-U7jQjxJgg"
      }
    },
    {
      "cell_type": "markdown",
      "source": [
        "## Meneuvering Armies"
      ],
      "metadata": {
        "id": "IG-Oh8GjxLC8"
      }
    },
    {
      "cell_type": "markdown",
      "source": [
        "## Terrain"
      ],
      "metadata": {
        "id": "Y3kixfOyxNc6"
      }
    },
    {
      "cell_type": "markdown",
      "source": [
        "## Nine Grounds"
      ],
      "metadata": {
        "id": "ExKo3jDkxOwZ"
      }
    },
    {
      "cell_type": "markdown",
      "source": [
        "## Fire Attack"
      ],
      "metadata": {
        "id": "_GTqTmcmxRSK"
      }
    },
    {
      "cell_type": "markdown",
      "source": [
        "## On the Use of Spies"
      ],
      "metadata": {
        "id": "ZlVzklQixTDP"
      }
    }
  ]
}