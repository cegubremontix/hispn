{
  "nbformat": 4,
  "nbformat_minor": 0,
  "metadata": {
    "colab": {
      "name": "Masters of War: Classical Strategic Thought Classical Strategic Thought.ipynb",
      "provenance": [],
      "authorship_tag": "ABX9TyMMA2ssFCc7EhJv1BDIFFa6",
      "include_colab_link": true
    },
    "kernelspec": {
      "name": "python3",
      "display_name": "Python 3"
    },
    "language_info": {
      "name": "python"
    }
  },
  "cells": [
    {
      "cell_type": "markdown",
      "metadata": {
        "id": "view-in-github",
        "colab_type": "text"
      },
      "source": [
        "<a href=\"https://colab.research.google.com/github/dbremont/Notas/blob/main/Libros/Otros/Masters_of_War_Classical_Strategic_Thought_Classical_Strategic_Thought.ipynb\" target=\"_parent\"><img src=\"https://colab.research.google.com/assets/colab-badge.svg\" alt=\"Open In Colab\"/></a>"
      ]
    },
    {
      "cell_type": "markdown",
      "source": [
        "## Strategy: Past Theories, Modern Practice"
      ],
      "metadata": {
        "id": "ebHNaAiFGF6I"
      }
    },
    {
      "cell_type": "markdown",
      "source": [
        "## Comparing Sun Tzu and Clausewitz"
      ],
      "metadata": {
        "id": "Ym3wtWRHGJsA"
      }
    },
    {
      "cell_type": "markdown",
      "source": [
        "## The Definition of War: A Question of the Level of Analysis"
      ],
      "metadata": {
        "id": "xh3BOpw0GNdB"
      }
    },
    {
      "cell_type": "markdown",
      "source": [
        "## Clausewitz and Mao Tse-tung on Theory and Practice in War"
      ],
      "metadata": {
        "id": "EsGjlrMjGS_H"
      }
    },
    {
      "cell_type": "markdown",
      "source": [
        "## 'Attacking the Enemy's Plan' and the Concept of 'The Center of Gravity': Eastern Psychology and Western Mechanics"
      ],
      "metadata": {
        "id": "h9ylBP7bGY75"
      }
    },
    {
      "cell_type": "markdown",
      "source": [
        "## The Primacy of Politics and the Military Commander"
      ],
      "metadata": {
        "id": "a4eXOlT1GqFo"
      }
    },
    {
      "cell_type": "markdown",
      "source": [
        "## The Relational Calculus of War: Correlating Ends and Means"
      ],
      "metadata": {
        "id": "ZAftKCVfGvew"
      }
    },
    {
      "cell_type": "markdown",
      "source": [
        "## Clausewitz on the Role of 'Moral Forces' in War"
      ],
      "metadata": {
        "id": "aUR1cMOOG1JC"
      }
    },
    {
      "cell_type": "markdown",
      "source": [
        "## The Supreme Act of Judgment: Understanding the 'Nature of War' and the 'Trinitarian Analysis'"
      ],
      "metadata": {
        "id": "HHxMxzYkG7jO"
      }
    },
    {
      "cell_type": "markdown",
      "source": [
        "## The First Element of the Remarkable Trinity: The People in Arms"
      ],
      "metadata": {
        "id": "9bNbioLBHEhk"
      }
    },
    {
      "cell_type": "markdown",
      "source": [
        "## The Ideal and the Real: Victory without Bloodshed and the Search for the Decisive Battle"
      ],
      "metadata": {
        "id": "nS6tdQdsHLYB"
      }
    },
    {
      "cell_type": "markdown",
      "source": [
        "## Speed, Numerical Superiority, and Victory"
      ],
      "metadata": {
        "id": "H0_uOgzHHVGl"
      }
    },
    {
      "cell_type": "markdown",
      "source": [
        "## The Principle of Continuity and the Culminating Point of Victory: The Countradictory Nature of War"
      ],
      "metadata": {
        "id": "rA6QbiQEHaH_"
      }
    },
    {
      "cell_type": "markdown",
      "source": [
        "## Clausewitz on War Termination"
      ],
      "metadata": {
        "id": "SGW81o7VHhz7"
      }
    },
    {
      "cell_type": "markdown",
      "source": [
        "## Deception, Surprise, adn Intelligence"
      ],
      "metadata": {
        "id": "WC7i08IvHk_W"
      }
    },
    {
      "cell_type": "markdown",
      "source": [
        "## On Military Leaddership"
      ],
      "metadata": {
        "id": "VwYvQkYkHpJV"
      }
    },
    {
      "cell_type": "markdown",
      "source": [
        "## Boldness and Calculating"
      ],
      "metadata": {
        "id": "1IgBIRKmHstt"
      }
    },
    {
      "cell_type": "markdown",
      "source": [
        "## Corbett, Clausewitz, and Sun Tzu"
      ],
      "metadata": {
        "id": "BXYESY3eHv4u"
      }
    },
    {
      "cell_type": "markdown",
      "source": [
        "## Conclucsions: Towards a Unified Theory of War"
      ],
      "metadata": {
        "id": "UAR_033EKk0O"
      }
    }
  ]
}