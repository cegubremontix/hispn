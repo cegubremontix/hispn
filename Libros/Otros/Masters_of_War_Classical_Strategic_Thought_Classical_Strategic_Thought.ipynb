{
  "nbformat": 4,
  "nbformat_minor": 0,
  "metadata": {
    "colab": {
      "name": "Masters of War: Classical Strategic Thought Classical Strategic Thought.ipynb",
      "provenance": [],
      "authorship_tag": "ABX9TyO4C6/H8MtvUgpn8jxAiu+a",
      "include_colab_link": true
    },
    "kernelspec": {
      "name": "python3",
      "display_name": "Python 3"
    },
    "language_info": {
      "name": "python"
    }
  },
  "cells": [
    {
      "cell_type": "markdown",
      "metadata": {
        "id": "view-in-github",
        "colab_type": "text"
      },
      "source": [
        "<a href=\"https://colab.research.google.com/github/dbremont/Notas/blob/main/Libros/Otros/Masters_of_War_Classical_Strategic_Thought_Classical_Strategic_Thought.ipynb\" target=\"_parent\"><img src=\"https://colab.research.google.com/assets/colab-badge.svg\" alt=\"Open In Colab\"/></a>"
      ]
    },
    {
      "cell_type": "markdown",
      "source": [
        "The art of war,\n",
        "art in the 1700 & 1800 means engineering (bulding stuff, doing stuff)\n",
        "\n",
        "So the art of war means (Engineering a war)"
      ],
      "metadata": {
        "id": "ByDApQ_FGLt7"
      }
    },
    {
      "cell_type": "markdown",
      "source": [
        "Creation and production lie in the realm of art: science will dominate where the object is inquiry and knowledge. It follows that the term 'art of war' is more suitawble than 'science of war'."
      ],
      "metadata": {
        "id": "TA0s-_0IGl5a"
      }
    },
    {
      "cell_type": "markdown",
      "source": [
        "![The Tree Dominant Tendencies of War](https://www.militarystrategymagazine.com/wp-content/uploads/2019/11/5x3x2_1.png)"
      ],
      "metadata": {
        "id": "qtkRKqKnG94M"
      }
    },
    {
      "cell_type": "markdown",
      "source": [
        "## Strategy: Past Theories, Modern Practice"
      ],
      "metadata": {
        "id": "ebHNaAiFGF6I"
      }
    },
    {
      "cell_type": "markdown",
      "source": [
        "## Comparing Sun Tzu and Clausewitz"
      ],
      "metadata": {
        "id": "Ym3wtWRHGJsA"
      }
    },
    {
      "cell_type": "markdown",
      "source": [
        "## The Definition of War: A Question of the Level of Analysis"
      ],
      "metadata": {
        "id": "xh3BOpw0GNdB"
      }
    },
    {
      "cell_type": "markdown",
      "source": [
        "## Clausewitz and Mao Tse-tung on Theory and Practice in War"
      ],
      "metadata": {
        "id": "EsGjlrMjGS_H"
      }
    },
    {
      "cell_type": "markdown",
      "source": [
        "## 'Attacking the Enemy's Plan' and the Concept of 'The Center of Gravity': Eastern Psychology and Western Mechanics"
      ],
      "metadata": {
        "id": "h9ylBP7bGY75"
      }
    },
    {
      "cell_type": "markdown",
      "source": [
        "## The Primacy of Politics and the Military Commander"
      ],
      "metadata": {
        "id": "a4eXOlT1GqFo"
      }
    },
    {
      "cell_type": "markdown",
      "source": [
        "## The Relational Calculus of War: Correlating Ends and Means"
      ],
      "metadata": {
        "id": "ZAftKCVfGvew"
      }
    },
    {
      "cell_type": "markdown",
      "source": [
        "## Clausewitz on the Role of 'Moral Forces' in War"
      ],
      "metadata": {
        "id": "aUR1cMOOG1JC"
      }
    },
    {
      "cell_type": "markdown",
      "source": [
        "## The Supreme Act of Judgment: Understanding the 'Nature of War' and the 'Trinitarian Analysis'"
      ],
      "metadata": {
        "id": "HHxMxzYkG7jO"
      }
    },
    {
      "cell_type": "markdown",
      "source": [
        "## The First Element of the Remarkable Trinity: The People in Arms"
      ],
      "metadata": {
        "id": "9bNbioLBHEhk"
      }
    },
    {
      "cell_type": "markdown",
      "source": [
        "## The Ideal and the Real: Victory without Bloodshed and the Search for the Decisive Battle"
      ],
      "metadata": {
        "id": "nS6tdQdsHLYB"
      }
    },
    {
      "cell_type": "markdown",
      "source": [
        "## Speed, Numerical Superiority, and Victory"
      ],
      "metadata": {
        "id": "H0_uOgzHHVGl"
      }
    },
    {
      "cell_type": "markdown",
      "source": [
        "## The Principle of Continuity and the Culminating Point of Victory: The Countradictory Nature of War"
      ],
      "metadata": {
        "id": "rA6QbiQEHaH_"
      }
    },
    {
      "cell_type": "markdown",
      "source": [
        "## Clausewitz on War Termination"
      ],
      "metadata": {
        "id": "SGW81o7VHhz7"
      }
    },
    {
      "cell_type": "markdown",
      "source": [
        "## Deception, Surprise, adn Intelligence"
      ],
      "metadata": {
        "id": "WC7i08IvHk_W"
      }
    },
    {
      "cell_type": "markdown",
      "source": [
        "## On Military Leaddership"
      ],
      "metadata": {
        "id": "VwYvQkYkHpJV"
      }
    },
    {
      "cell_type": "markdown",
      "source": [
        "## Boldness and Calculating"
      ],
      "metadata": {
        "id": "1IgBIRKmHstt"
      }
    },
    {
      "cell_type": "markdown",
      "source": [
        "## Corbett, Clausewitz, and Sun Tzu"
      ],
      "metadata": {
        "id": "BXYESY3eHv4u"
      }
    },
    {
      "cell_type": "markdown",
      "source": [
        "## Conclucsions: Towards a Unified Theory of War"
      ],
      "metadata": {
        "id": "UAR_033EKk0O"
      }
    }
  ]
}