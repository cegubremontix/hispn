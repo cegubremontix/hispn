{
  "nbformat": 4,
  "nbformat_minor": 0,
  "metadata": {
    "colab": {
      "name": "The Visual Display of Quantitative Information.ipynb",
      "provenance": [],
      "authorship_tag": "ABX9TyOKHf0EKDF213l/kNv54BZS",
      "include_colab_link": true
    },
    "kernelspec": {
      "name": "python3",
      "display_name": "Python 3"
    },
    "language_info": {
      "name": "python"
    }
  },
  "cells": [
    {
      "cell_type": "markdown",
      "metadata": {
        "id": "view-in-github",
        "colab_type": "text"
      },
      "source": [
        "<a href=\"https://colab.research.google.com/github/dbremont/Notas/blob/main/Libros/Otros/The_Visual_Display_of_Quantitative_Information.ipynb\" target=\"_parent\"><img src=\"https://colab.research.google.com/assets/colab-badge.svg\" alt=\"Open In Colab\"/></a>"
      ]
    },
    {
      "cell_type": "markdown",
      "metadata": {
        "id": "aYv3gMOlUkRh"
      },
      "source": [
        "# Graphical Practice"
      ]
    },
    {
      "cell_type": "markdown",
      "metadata": {
        "id": "xbQj8D6MUzTY"
      },
      "source": [
        "## Graphical Excellence"
      ]
    },
    {
      "cell_type": "markdown",
      "metadata": {
        "id": "q8YpCtRhU11t"
      },
      "source": [
        "## Graphical Integrity"
      ]
    },
    {
      "cell_type": "markdown",
      "metadata": {
        "id": "9-hdKkaVU6c6"
      },
      "source": [
        "## Sources of Graphical Integrity and Sophistication"
      ]
    },
    {
      "cell_type": "markdown",
      "metadata": {
        "id": "WjjGVX-bU_Yq"
      },
      "source": [
        "# Theory of Data Graphics"
      ]
    },
    {
      "cell_type": "markdown",
      "metadata": {
        "id": "y1LufGMSVB2q"
      },
      "source": [
        "## Data-Ink and Graphical Redisign"
      ]
    },
    {
      "cell_type": "markdown",
      "metadata": {
        "id": "O8McAHqEVFye"
      },
      "source": [
        "## Chartjunk: Vibrabations, Grids, and Ducks"
      ]
    },
    {
      "cell_type": "markdown",
      "metadata": {
        "id": "TKZF-Oh_VLXC"
      },
      "source": [
        "## Data-Ink Maximixation and Graphical Design"
      ]
    },
    {
      "cell_type": "markdown",
      "metadata": {
        "id": "ty32p5eAVQNE"
      },
      "source": [
        "## Multifunctioning Graphical Elements"
      ]
    },
    {
      "cell_type": "markdown",
      "metadata": {
        "id": "O_T8JXFbVVgN"
      },
      "source": [
        "## Data Desentity and Small Multiples"
      ]
    },
    {
      "cell_type": "markdown",
      "metadata": {
        "id": "WPJmFI3JViUa"
      },
      "source": [
        "## Aesthetics and Technique in Data Graphical Design"
      ]
    }
  ]
}