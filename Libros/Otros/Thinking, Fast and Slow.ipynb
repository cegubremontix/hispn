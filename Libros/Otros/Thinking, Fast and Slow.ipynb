{
  "nbformat": 4,
  "nbformat_minor": 0,
  "metadata": {
    "kernelspec": {
      "display_name": "Python 2.7.18 64-bit",
      "name": "python2718jvsc74a57bd0f92b2924b84ff19c1c3dc485f7644d4486f64738191026bf8e6de303969141b5"
    },
    "language_info": {
      "name": "python",
      "version": ""
    },
    "metadata": {
      "interpreter": {
        "hash": "f92b2924b84ff19c1c3dc485f7644d4486f64738191026bf8e6de303969141b5"
      }
    },
    "orig_nbformat": 2,
    "colab": {
      "name": "Thinking, Fast and Slow.ipynb",
      "provenance": [],
      "include_colab_link": true
    }
  },
  "cells": [
    {
      "cell_type": "markdown",
      "metadata": {
        "id": "view-in-github",
        "colab_type": "text"
      },
      "source": [
        "<a href=\"https://colab.research.google.com/github/dbremont/Notas/blob/main/Libros/Otros/Thinking%2C%20Fast%20and%20Slow.ipynb\" target=\"_parent\"><img src=\"https://colab.research.google.com/assets/colab-badge.svg\" alt=\"Open In Colab\"/></a>"
      ]
    },
    {
      "cell_type": "markdown",
      "metadata": {
        "id": "zm8TD1_MNIQl"
      },
      "source": [
        "Thinking, Fast and Slow"
      ]
    },
    {
      "cell_type": "markdown",
      "metadata": {
        "id": "fo4L3MeiH4y7"
      },
      "source": [
        "# Introduction"
      ]
    },
    {
      "cell_type": "markdown",
      "metadata": {
        "id": "zI_m-XHnINdI"
      },
      "source": [
        "Systematic errors are known as **biases**, and they recur predictably in particular circumstances.\n",
        "\n",
        "The aim of the book is to help the reader improve the ability to identify and understand errors of judgment and choice, in others and eventually in ourselves, by providing a richer and more precise language to discuss them."
      ]
    },
    {
      "cell_type": "markdown",
      "metadata": {
        "id": "KutKCqaqH-rr"
      },
      "source": [
        "# Two Systems"
      ]
    },
    {
      "cell_type": "markdown",
      "metadata": {
        "id": "PStGoP9TIBPO"
      },
      "source": [
        "# Heuristics and Biases"
      ]
    },
    {
      "cell_type": "markdown",
      "metadata": {
        "id": "E1L3PXthID8E"
      },
      "source": [
        "# Overconfidence"
      ]
    },
    {
      "cell_type": "markdown",
      "metadata": {
        "id": "4OTfPA0eIF8-"
      },
      "source": [
        "# Choices"
      ]
    },
    {
      "cell_type": "markdown",
      "metadata": {
        "id": "Bn3o7atEIHh7"
      },
      "source": [
        "# Two Selves"
      ]
    },
    {
      "cell_type": "markdown",
      "metadata": {
        "id": "6RZbXUcRIJkk"
      },
      "source": [
        "# Conclusions"
      ]
    }
  ]
}