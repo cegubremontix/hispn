{
  "nbformat": 4,
  "nbformat_minor": 0,
  "metadata": {
    "kernelspec": {
      "display_name": "Python 2.7.18 64-bit",
      "name": "python2718jvsc74a57bd0f92b2924b84ff19c1c3dc485f7644d4486f64738191026bf8e6de303969141b5"
    },
    "language_info": {
      "name": "python",
      "version": ""
    },
    "metadata": {
      "interpreter": {
        "hash": "f92b2924b84ff19c1c3dc485f7644d4486f64738191026bf8e6de303969141b5"
      }
    },
    "orig_nbformat": 2,
    "colab": {
      "name": "Thinking, Fast and Slow.ipynb",
      "provenance": [],
      "toc_visible": true,
      "include_colab_link": true
    }
  },
  "cells": [
    {
      "cell_type": "markdown",
      "metadata": {
        "id": "view-in-github",
        "colab_type": "text"
      },
      "source": [
        "<a href=\"https://colab.research.google.com/github/dbremont/Notas/blob/main/Libros/Otros/Thinking%2C%20Fast%20and%20Slow.ipynb\" target=\"_parent\"><img src=\"https://colab.research.google.com/assets/colab-badge.svg\" alt=\"Open In Colab\"/></a>"
      ]
    },
    {
      "cell_type": "markdown",
      "metadata": {
        "id": "zm8TD1_MNIQl"
      },
      "source": [
        "Thinking, Fast and Slow"
      ]
    },
    {
      "cell_type": "markdown",
      "metadata": {
        "id": "fo4L3MeiH4y7"
      },
      "source": [
        "# Introduction"
      ]
    },
    {
      "cell_type": "markdown",
      "metadata": {
        "id": "zI_m-XHnINdI"
      },
      "source": [
        "Systematic errors are known as **biases**, and they recur predictably in particular circumstances.\n",
        "\n",
        "Objectives:\n",
        "- help the reader improve the ability to identify and understand errors of judgment and choice, in others and eventually in ourselves, by providing a richer and more precise language to discuss them.\n",
        "\n",
        "- present a view of how the mind works that draws on recent development of cognitive and social psycology.\n",
        "\n",
        "Basic question in the life of Amos Tversky and Daniel Kahneman,\n",
        "**Are people good intuitive statisticians?**\n",
        "\n",
        "**Aviability heuristic**: We judge the size fo categories by the ease with which intances came to mind.\n",
        "\n",
        "Amos and I spend several years studying and documenting biases of intuitive thinking in various tasks\n",
        "  - asigning probabilities to events, \n",
        "  - forecasting the future,\n",
        "  - assesing hypotheses.\n",
        "\n",
        "Scrabble game.\n",
        "\n",
        "Judgement Under Uncertainty Heuristics and Baises article.\n",
        "\n",
        "We documented systematic errors in the thinking of normal people, and we traced these errors to the design of the **machinery of cognition** rather than to the corruption of **thought by emotion**.\n",
        "\n",
        "Theory of intuitive thought.\n",
        "\n",
        "Theory of intuitive judgment and choices.\n",
        "\n",
        "**Essence of Intuitive Heuristics**:\n",
        "\n",
        "- When faced with difficult question, we often answer an easier one instead, usually \"without noticing the substitution\".\n",
        "\n",
        "- Fast and Slow thinking\n",
        "- Subconcious Thinking vs deliberate and effortful form of thinking\n",
        "\n",
        "**Affect heuristic:** where judgements and decisions are guided directly by feelings of linking and dislinking, with litle deliberation or reasoning.\n",
        "\n",
        "The methafor of two agents producing involve in thinking:\n",
        "\n",
        "- System 1 (fast thinking),\n",
        "- System 2 (slow thinking) \n",
        "\n"
      ]
    },
    {
      "cell_type": "markdown",
      "metadata": {
        "id": "KutKCqaqH-rr"
      },
      "source": [
        "# Two Systems"
      ]
    },
    {
      "cell_type": "markdown",
      "metadata": {
        "id": "AoVYyeAzD_N-"
      },
      "source": [
        "Basic elements of a two-systems approach to judgment and choice. It elaborates the distintion between the automatic operations of **System 1** and the controlled operations of **System 2**,and shows how associative memory, the core of **System 1**, continually constructs a coherent interpretation of what is going on in our world at any instant.  I attempt to give a sense of the complexity and richness of the automatic and often unconscious processes that underlie **intuitive thinking**, and of how these automatic processes explain the heuristics of judgment. A goal is to introduce a langauge for thinking and talking about the mind."
      ]
    },
    {
      "cell_type": "markdown",
      "metadata": {
        "id": "PStGoP9TIBPO"
      },
      "source": [
        "# Heuristics and Biases"
      ]
    },
    {
      "cell_type": "markdown",
      "metadata": {
        "id": "pb6l6q7AIVFJ"
      },
      "source": [
        "Updades the study of judgement heuristics and explores a major puzzle: Why is it so difficult for us to think statistically? We easily think associatively, we think metaphorically, we think casually, but statistics requires thinking about many things at once, which is something that **System 1**  is not designed to do."
      ]
    },
    {
      "cell_type": "markdown",
      "metadata": {
        "id": "E1L3PXthID8E"
      },
      "source": [
        "# Overconfidence"
      ]
    },
    {
      "cell_type": "markdown",
      "metadata": {
        "id": "25orbjPJJnqq"
      },
      "source": [
        "The difficulties of statistical thinking contribute to the main theme, which describes a puzzling limination of our mind: our excesive confidence is what we believe we know, and our apparent inability to acknowledge the full extent of our ignorance and the uncertainty of the world we live in.  We are prone to overestimate how much we understand about the world and to understimate the role of change in events. \n",
        "\n",
        "Overconfidence is fed by the illusory  certainty of hindsight. My views on this topic have been influcenced by **Nassim Taleb**. \n",
        "\n",
        "Illusions of certainty."
      ]
    },
    {
      "cell_type": "markdown",
      "metadata": {
        "id": "4OTfPA0eIF8-"
      },
      "source": [
        "# Choices"
      ]
    },
    {
      "cell_type": "markdown",
      "metadata": {
        "id": "eSxbcdXaLnJ3"
      },
      "source": [
        "The focus is a conversation with the discipline of economics on the nature of decision making and on the assumption that economic agents are rational. This section of the book provides a current view, informed by the two-system model, of th key concepts of prospect theory, the model of choice that **Amos** and I published in 1979. Subsequent chapters adress several ways human choices deviate from the rules of rationality. I deal with the unfortuante tendency to reat problems in isoluation, and with fgraming effects, where decisions are shaped by inconsequential features of choice problems.\n",
        "\n",
        "These observations, whicih are readily explaiend by the features of **System 1**, present oa deep challenge to the rationality assumption favored in a standard economics."
      ]
    },
    {
      "cell_type": "markdown",
      "metadata": {
        "id": "Bn3o7atEIHh7"
      },
      "source": [
        "# Two Selves"
      ]
    },
    {
      "cell_type": "markdown",
      "metadata": {
        "id": "vgMnE314NXaR"
      },
      "source": [
        "Describes recent research that has introduced a distintion between two selves, the experiencing self and the remembering self, which do not have the same interest.\n"
      ]
    },
    {
      "cell_type": "markdown",
      "metadata": {
        "id": "6RZbXUcRIJkk"
      },
      "source": [
        "# Conclusions"
      ]
    },
    {
      "cell_type": "markdown",
      "metadata": {
        "id": "Al1gwpyuQMIv"
      },
      "source": [
        "The implications of three distintions drawn in the book:\n",
        "\n",
        "- between the experiencing and the remembering selves,\n",
        "\n",
        "- conceptions of agents in clasical economics and behavioral economics,\n",
        "\n",
        "- automatic **System 1** (automatics) vs System 2 (effortful),\n",
        "\n",
        "- educated gossip and to what organizatiosn might do to improve the quality of  judgments and ecisiosn that are made on their behalf.\n",
        "\n",
        "Two articles I wrote with Amos are reproduced as appendixes to the book. The first is the review of judgmeent udner uncertainty that I described earlier. The second, publised in 1984, summarizes prospect th eory as weel as our studies of framign effects. The articles present the contributiosn that wer cited by the Nobel commitee and you may be surprised by how simple tey are. REading them will give you as sence of how much we kenow as long time ago, and also  of how much we have learned in recent decades."
      ]
    },
    {
      "cell_type": "markdown",
      "metadata": {
        "id": "94xDeJoOc8jI"
      },
      "source": [
        "# Ankifi"
      ]
    },
    {
      "cell_type": "markdown",
      "metadata": {
        "id": "MKfZmBMPdAzE"
      },
      "source": [
        "**Aviability Heuristic**\n",
        "\n",
        "How can bias impact the answer to question like?\n",
        "\n",
        "- Does the polititians are more infidels than lawers?\n",
        "\n",
        "- Would you accept a bet on the toss of a coin where you win *\\$130* if the coin shows heads adn lose *\\$100* if it shows tails?\n",
        "\n",
        "**Essence of Intuitive Heuristics?**\n",
        "\n",
        "- When faced with difficult question, we often answer an easier one instead, usually \"without noticing the substitution\".\n",
        "\n",
        "- System 1 (Fast thinking)\n",
        "- System 2 (Slow thinking)\n",
        "\n",
        "**Associative Memory**"
      ]
    }
  ]
}