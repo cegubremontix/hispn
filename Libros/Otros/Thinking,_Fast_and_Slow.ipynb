{
  "nbformat": 4,
  "nbformat_minor": 0,
  "metadata": {
    "kernelspec": {
      "display_name": "Python 2.7.18 64-bit",
      "name": "python2718jvsc74a57bd0f92b2924b84ff19c1c3dc485f7644d4486f64738191026bf8e6de303969141b5"
    },
    "language_info": {
      "name": "python",
      "version": ""
    },
    "metadata": {
      "interpreter": {
        "hash": "f92b2924b84ff19c1c3dc485f7644d4486f64738191026bf8e6de303969141b5"
      }
    },
    "orig_nbformat": 2,
    "colab": {
      "name": "Thinking, Fast and Slow.ipynb",
      "provenance": [],
      "toc_visible": true,
      "include_colab_link": true
    }
  },
  "cells": [
    {
      "cell_type": "markdown",
      "metadata": {
        "id": "view-in-github",
        "colab_type": "text"
      },
      "source": [
        "<a href=\"https://colab.research.google.com/github/dbremont/Notas/blob/main/Libros/Otros/Thinking%2C%20Fast%20and%20Slow.ipynb\" target=\"_parent\"><img src=\"https://colab.research.google.com/assets/colab-badge.svg\" alt=\"Open In Colab\"/></a>"
      ]
    },
    {
      "cell_type": "markdown",
      "metadata": {
        "id": "zm8TD1_MNIQl"
      },
      "source": [
        "Thinking, Fast and Slow"
      ]
    },
    {
      "cell_type": "markdown",
      "metadata": {
        "id": "fo4L3MeiH4y7"
      },
      "source": [
        "# Introduction"
      ]
    },
    {
      "cell_type": "markdown",
      "metadata": {
        "id": "zI_m-XHnINdI"
      },
      "source": [
        "Systematic errors are known as **biases**, and they recur predictably in particular circumstances.\n",
        "\n",
        "Objectives:\n",
        "- help the reader improve the ability to identify and understand errors of judgment and choice, in others and eventually in ourselves, by providing a richer and more precise language to discuss them.\n",
        "\n",
        "- present a view of how the mind works that draws on recent development of cognitive and social psycology.\n",
        "\n",
        "Basic question in the life of Amos Tversky and Daniel Kahneman,\n",
        "**Are people good intuitive statisticians?**\n",
        "\n",
        "**Aviability heuristic**: We judge the size fo categories by the ease with which intances came to mind.\n",
        "\n",
        "Amos and I spend several years studying and documenting biases of intuitive thinking in various tasks\n",
        "  - asigning probabilities to events, \n",
        "  - forecasting the future,\n",
        "  - assesing hypotheses.\n",
        "\n",
        "Scrabble game.\n",
        "\n",
        "Judgement Under Uncertainty Heuristics and Baises article.\n",
        "\n",
        "We documented systematic errors in the thinking of normal people, and we traced these errors to the design of the **machinery of cognition** rather than to the corruption of **thought by emotion**.\n",
        "\n",
        "Theory of intuitive thought.\n",
        "\n",
        "Theory of intuitive judgment and choices.\n",
        "\n",
        "**Essence of Intuitive Heuristics**:\n",
        "\n",
        "- When faced with difficult question, we often answer an easier one instead, usually \"without noticing the substitution\".\n",
        "\n",
        "- Fast and Slow thinking\n",
        "- Subconcious Thinking vs deliberate and effortful form of thinking\n",
        "\n",
        "**Affect heuristic:** where judgements and decisions are guided directly by feelings of linking and dislinking, with litle deliberation or reasoning.\n",
        "\n",
        "The methafor of two agents producing involve in thinking:\n",
        "\n",
        "- System 1 (fast thinking),\n",
        "- System 2 (slow thinking) \n",
        "\n"
      ]
    },
    {
      "cell_type": "markdown",
      "metadata": {
        "id": "KutKCqaqH-rr"
      },
      "source": [
        "# Two Systems"
      ]
    },
    {
      "cell_type": "markdown",
      "metadata": {
        "id": "AoVYyeAzD_N-"
      },
      "source": [
        "Basic elements of a two-systems approach to judgment and choice. It elaborates the distintion between the automatic operations of **System 1** and the controlled operations of **System 2**,and shows how associative memory, the core of **System 1**, continually constructs a coherent interpretation of what is going on in our world at any instant.  I attempt to give a sense of the complexity and richness of the automatic and often unconscious processes that underlie **intuitive thinking**, and of how these automatic processes explain the heuristics of judgment. A goal is to introduce a langauge for thinking and talking about the mind."
      ]
    },
    {
      "cell_type": "markdown",
      "metadata": {
        "id": "KWW2qT7XQs45"
      },
      "source": [
        "You experience slow thinking as you proceeded through a sequence of steps.\n",
        "\n",
        "Characteristics of Slow Thingking:\n",
        "\n",
        "- Muscles tensed up,\n",
        "- your blood pressure rose,\n",
        "- and your heart rate increase,\n",
        "- pupile dilatation.\n",
        "\n",
        "**Remember system 1 and system two are methaphors and simplifications.**\n",
        "\n",
        "- System 1: operates automatically and quickly, with litle or no effort and no seence of voluntary control.\n",
        "\n",
        "- System 2: allocates attention to the efforful metnal activities that demand it, including complex computations.\n",
        "\n",
        "Examples of activities atributed to system 1:\n",
        "\n",
        " - detect the one object is more distnat than another.\n",
        " - orient to the source of suddent sound.\n",
        " - answer 2 + 2 =?\n",
        " - drive a car on a empty road.\n",
        " - ... \n",
        "\n",
        "Examples of activities atributed to system 2:\n",
        "\n",
        "  - Monitor the appropriateness of your behavior in a social situation.\n",
        "  \n",
        "  - Fill out a tax form.\n",
        "\n",
        "  - Check the validity of a complex logical argument.\n",
        "\n",
        "Kahneman says that “intuition is thinking that you know without knowing why you do.” It gives us confidence in our decision making; trouble is confidence is no predictor of accuracy.\n",
        "\n",
        "- If i pay attention to somethign, i am using system 2.\n",
        "- **Note** So monitoring attention and quality of time expend on some activity is key to improve.\n",
        "\n",
        "One can not takes all desitions with system two, is two slow and it will be impractial, but make sure of using him when the stakes are high.\n",
        "\n",
        "The definign feature of **System 2**, in this story, is that its operations are effortful, and one of its main charaacteristics is laziness, a reluctance to invest more effort than is strictly necessary.\n",
        "\n",
        "- The putil are indicadors of mental effort.\n",
        "- High intelligent individuals need \"less effort to solve the same problems\", as indicated by both pupil size and brain activity.\n",
        "\n",
        "- Laziness is build deep into our nature.\n",
        "\n",
        "- Switching from one task to another is efforfult, especially under time preasure.\n",
        "\n",
        "- Modern test of working memory require the individual to switch repeatedly between two demanding tasks, retaining the results of on operation while performing the other. People who do well on these tests tend to do well on test of general intelligence.\n",
        "\n",
        "- Exercise vs Alertness\n",
        "- Exercise and Short-Term Memory\n",
        "\n",
        "- Self-Control,  and cognitive effor are form of mental work.\n",
        "\n",
        "- System 1 has more influcnece on behavior when system 2 is busy?\n",
        "  - you are told that remembering  the digits is your top priority. While your attention is focused on the digits, you are offered a choice between two desserts: a sinful chocolate cake and a virtuous fruit salad. The evidence suggest  that you would be more likely to select the tempting chocolate cake when your mind is loaded with digits.\n",
        "\n",
        "- People you are **cognitively busy** are also more likey to make selfish choices, use sexist langauge, and make superifial judgments in social situations.\n",
        "\n",
        "- Self-control can also be inpacted with alcohol and a nighgt without sleep.\n",
        "\n",
        "- What task deplete self-control? All involve conflict and the ened to supress a natural tendency\n",
        "  \n",
        "  - avoiding the thought of white bears,\n",
        "  \n",
        "  - inhibiting the emotional response to a stirring film,\n",
        "  \n",
        "  - making a series of choices that involve conflict,\n",
        "\n",
        "  - trying to impress others,\n",
        "\n",
        "- List of indicators of deplition?\n",
        "  - deviating from one's diet,\n",
        "  - overspending on impulsive purchases, \n",
        "  - reacting aggressively to provocation,\n",
        "  - persisting less time in a handgrip task,\n",
        "  - performing poorly in cognitive tasks and logical decision making.\n",
        "\n",
        "- Cognitive load\n",
        "- Ego depletion\n",
        "\n",
        "- When you are actively involved in a difficult cognitive reasonign or engaed in a task that requires self-contro, your bloodd glucose level drops. The effect is analogous to a runner who draws down glucose stores in her muscles during  spring. The bold implication of this idea is that **ego depletion** could be undone by indgesting glucose, and in several experiments this was confirmed.\n",
        "\n",
        "- **Action**: verifiar bebidas para recuperar la glucosa.\n",
        "\n",
        "- Theory of judgment based on system 1 and system 2.\n",
        "\n",
        "- Those who avoid othe sin of intelelectual sloth could be called \"engaged\". They are more alert, more intellectually active, less willing to be satisfied with superficiallly attractive answers, more skeptical about their intuitions.\n",
        "\n",
        "\n",
        "- The cookie experiment, that test self-control, whenm the subjects shows us that subjects with more self-control twenty years later, have better performace in many aspects of life including cognitive ability.\n",
        "\n",
        "- Show is there a relation between self-control and cognitive performace?\n",
        "\n",
        "**The Assosiative Machine**\n",
        "\n",
        "Look at the following words:\n",
        " - Bananas,\n",
        " - Vomit\n",
        "\n",
        " ....\n",
        "\n",
        " In short, you responded to the disgusting word with an attenuated version of how you would react to the actual event. All of this is automatic beyond your control.\n",
        "\n",
        "**Associative activation**\n",
        "\n",
        "- Ideas that have ben evoked trigger many other ideas, in a spreading cascade of activity in your brain\n",
        "\n",
        "- Cognitive scientis have emphasized in recent years, cognition is embodied; you think with your body,. not only with your brain.\n",
        "\n",
        "- [What’s next for psychology’s embattled field of social priming](https://www.nature.com/articles/d41586-019-03755-2)\n",
        "\n",
        "**Cognitive Ease**\n",
        "\n",
        "- Cognitive ease or fluency is the measure of how easy it is for our brains to process information. \n",
        "\n",
        "  - Easy (facil),\n",
        "  - vs Strained (tenso)\n",
        "\n",
        "Causes of **Cognitive ease**\n",
        "  \n",
        "- Repeated Experience,\n",
        "- Clear display,\n",
        "- Primed idea **(ojo con prime research)**,\n",
        "- good mood\n",
        "\n",
        "consequences of **Cognitive ease**\n",
        " \n",
        "- feels familiar,\n",
        "- feels true,\n",
        "- feels good,\n",
        "- feels effortless\n",
        "\n",
        "Illusions of remembering\n",
        "\n",
        "- [Illusory memories: A cognitive neuroscience analysis](https://www.pnas.org/content/93/24/13527)\n",
        "\n",
        "- [Becoming Famous Overnight : Limits on the Ability to Avoid Unconscious Influences of the Past](https://www.semanticscholar.org/paper/Becoming-Famous-Overnight-%3A-Limits-on-the-Ability-Jacoby-Brown/2d4a60f9825fb448384d2b9a447d43e7965ec740)\n",
        "\n",
        "- impression of familiarity\n",
        "- quality of pastness\n",
        "  -  take a new word, mke it seasier to see, and it wil be more likely to have the quality of pastness.\n",
        "\n",
        "Illusions of truth\n",
        "\n",
        "- A reliable way to amek people believe in falsehoods is frequent repretion, because familiarity is not easily distinguished from truth.\n",
        "\n",
        "How to write a persuasive message\n",
        "\n",
        "- minimize cognitive ease.\n",
        "\n",
        "- Why the first sentence is more likely to be belieave?\n",
        "\n",
        "  - **Adold Hitler was born in 1892**.\n",
        "  - Adold Hitler was born in 1897.,\n",
        "  - experiments shows that, it 'looks more credible',\n",
        "\n",
        "- use simpler words [see](http://www2.psych.utoronto.ca/users/psy3001/files/simple%20writing.pdf)\n",
        "\n",
        "- credibility of a peace of text,\n",
        "- credibility of a speech.\n",
        "\n",
        "- try to make your ideas more jomoremorable, put your ideas in verse if you can; they wil be more likely to be taken as truth. what about aphorisms\n",
        "\n",
        "- al of this is good advice, but if you message is non-sencial then its not goin to make much effect.\n",
        "\n",
        "- How to overcome the *illusion of truth*? if you are strongly motivated to do so, but lazy *system 2*, will probably carry the suggestion deliverd by *system 1*.\n",
        "\n",
        "Strain and Effort\n",
        "\n",
        "- associative coherence\n",
        "- symettry of many associative connections\n",
        "\n",
        "- Shane Frederick's Cognitive Reflection Test\n",
        "\n",
        "The Pleasure of Cognitive Ease\n",
        "\n",
        "- investor in a swiss study project that predicts that companies with names like 'emmi' will outperform companies with mames like 'ypsomed'. Here the investors are usign system 1.\n",
        "\n",
        "- zanjonc argue that the effect of repetition on liking is a profoundly importnat biological fact, and that ist extend to all animals.\n",
        "\n",
        "- Zanjosc offered an eloquent summar yo fhis program of research:\n",
        "  - the consequences of repeated exposures benefit the organisms in its relations to the inmmediate animate and inanimate environemtn. they allow the organism to distinguish objects and habitas that are safe from those that are not, and they are the most primitive basis of social attachments. therefore, they form the bvasis for social organization and cohesion- the basis sources of phychological and social stability.\n",
        "\n",
        "Ease, mood, and intuition\n",
        "\n",
        "- around 1960, a young phycologist namedd sarnoff mednich thought he had identified the essence of creativity. creativity is associated with memory that works exeptionally well. So the remote association test (RAT) uses this principe  to stimate creativity.\n",
        "\n",
        "- manipulations that increate cognitive ease (clear font, pre-exposign words) all increae the tendency to the the words as liked.  \n",
        "\n",
        "- A sense of cognitive ease is apparently generated by a very faint signal from the associative machine, which \"knows\" that the three words are coherent (share and association) logn before the association is retrived.\n",
        "\n",
        "-  mood eveidelty efffects tha ooperation of **system 1**: when we are uncomfotable and unhapy, we lose touch with our intuition.\n",
        "\n",
        "- [Remote Associates Test](https://en.wikipedia.org/wiki/Remote_Associates_Test)\n",
        "\n",
        "  - [test](https://www.remote-associates-test.com/)\n",
        "\n",
        "speaking of cognitive ease\n",
        "\n",
        "- lets ont dismiss theire busienss plan jujust bcause thte font makes it heard to read.\n",
        "\n",
        "- we must be incluced to believe it because it has been repeated so often, but let's think it thourgh again.\n",
        "\n",
        "- familiarity breaeds linkin. this is a more exporuse effect.\n",
        "\n",
        "- i'm a very good modd today, and my system 2 is weaker than ususual. I should obe extra careful.\n"
      ]
    },
    {
      "cell_type": "markdown",
      "metadata": {
        "id": "PStGoP9TIBPO"
      },
      "source": [
        "# Heuristics and Biases"
      ]
    },
    {
      "cell_type": "markdown",
      "metadata": {
        "id": "pb6l6q7AIVFJ"
      },
      "source": [
        "Updades the study of judgement heuristics and explores a major puzzle: Why is it so difficult for us to think statistically? We easily think associatively, we think metaphorically, we think casually, but statistics requires thinking about many things at once, which is something that **System 1**  is not designed to do."
      ]
    },
    {
      "cell_type": "markdown",
      "metadata": {
        "id": "E1L3PXthID8E"
      },
      "source": [
        "# Overconfidence"
      ]
    },
    {
      "cell_type": "markdown",
      "metadata": {
        "id": "25orbjPJJnqq"
      },
      "source": [
        "The difficulties of statistical thinking contribute to the main theme, which describes a puzzling limination of our mind: our excesive confidence is what we believe we know, and our apparent inability to acknowledge the full extent of our ignorance and the uncertainty of the world we live in.  We are prone to overestimate how much we understand about the world and to understimate the role of change in events. \n",
        "\n",
        "Overconfidence is fed by the illusory  certainty of hindsight. My views on this topic have been influcenced by **Nassim Taleb**. \n",
        "\n",
        "Illusions of certainty."
      ]
    },
    {
      "cell_type": "markdown",
      "metadata": {
        "id": "4OTfPA0eIF8-"
      },
      "source": [
        "# Choices"
      ]
    },
    {
      "cell_type": "markdown",
      "metadata": {
        "id": "eSxbcdXaLnJ3"
      },
      "source": [
        "The focus is a conversation with the discipline of economics on the nature of decision making and on the assumption that economic agents are rational. This section of the book provides a current view, informed by the two-system model, of th key concepts of prospect theory, the model of choice that **Amos** and I published in 1979. Subsequent chapters adress several ways human choices deviate from the rules of rationality. I deal with the unfortuante tendency to reat problems in isoluation, and with fgraming effects, where decisions are shaped by inconsequential features of choice problems.\n",
        "\n",
        "These observations, whicih are readily explaiend by the features of **System 1**, present oa deep challenge to the rationality assumption favored in a standard economics."
      ]
    },
    {
      "cell_type": "markdown",
      "metadata": {
        "id": "Bn3o7atEIHh7"
      },
      "source": [
        "# Two Selves"
      ]
    },
    {
      "cell_type": "markdown",
      "metadata": {
        "id": "vgMnE314NXaR"
      },
      "source": [
        "Describes recent research that has introduced a distintion between two selves, the experiencing self and the remembering self, which do not have the same interest.\n"
      ]
    },
    {
      "cell_type": "markdown",
      "metadata": {
        "id": "6RZbXUcRIJkk"
      },
      "source": [
        "# Conclusions"
      ]
    },
    {
      "cell_type": "markdown",
      "metadata": {
        "id": "Al1gwpyuQMIv"
      },
      "source": [
        "The implications of three distintions drawn in the book:\n",
        "\n",
        "- between the experiencing and the remembering selves,\n",
        "\n",
        "- conceptions of agents in clasical economics and behavioral economics,\n",
        "\n",
        "- automatic **System 1** (automatics) vs System 2 (effortful),\n",
        "\n",
        "- educated gossip and to what organizatiosn might do to improve the quality of  judgments and ecisiosn that are made on their behalf.\n",
        "\n",
        "Two articles I wrote with Amos are reproduced as appendixes to the book. The first is the review of judgmeent udner uncertainty that I described earlier. The second, publised in 1984, summarizes prospect th eory as weel as our studies of framign effects. The articles present the contributiosn that wer cited by the Nobel commitee and you may be surprised by how simple tey are. REading them will give you as sence of how much we kenow as long time ago, and also  of how much we have learned in recent decades."
      ]
    },
    {
      "cell_type": "markdown",
      "metadata": {
        "id": "94xDeJoOc8jI"
      },
      "source": [
        "# Ankifi"
      ]
    },
    {
      "cell_type": "markdown",
      "metadata": {
        "id": "MKfZmBMPdAzE"
      },
      "source": [
        "**Aviability Heuristic**\n",
        "\n",
        "How can bias impact the answer to question like?\n",
        "\n",
        "- Does the polititians are more infidels than lawers?\n",
        "\n",
        "- Would you accept a bet on the toss of a coin where you win *\\$130* if the coin shows heads adn lose *\\$100* if it shows tails?\n",
        "\n",
        "**Essence of Intuitive Heuristics?**\n",
        "\n",
        "- When faced with difficult question, we often answer an easier one instead, usually \"without noticing the substitution\".\n",
        "\n",
        "- System 1 (Fast thinking)\n",
        "- System 2 (Slow thinking)\n",
        "\n",
        "**Associative Memory**\n",
        "\n",
        "What is System 1?\n",
        "  -  operates automatically and quickly, with litle or no effort and no seence of voluntary control.\n",
        "\n",
        "What is  System 2?\n",
        "- Allocates attention to the efforful metnal activities that demand it, including complex computations.\n",
        "\n",
        "- Use Short-Term memory to explain why 215 * 340? is a hard thing to answer?\n",
        "\n",
        "- Why self control requieres attention and efford? It used system 2\n",
        "\n",
        "- Relation with glucose and ego deplation?"
      ]
    }
  ]
}
