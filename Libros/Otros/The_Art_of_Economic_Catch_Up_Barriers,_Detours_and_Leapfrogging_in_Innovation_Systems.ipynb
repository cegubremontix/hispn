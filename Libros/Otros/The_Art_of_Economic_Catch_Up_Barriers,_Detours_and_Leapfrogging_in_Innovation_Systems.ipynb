{
  "nbformat": 4,
  "nbformat_minor": 0,
  "metadata": {
    "colab": {
      "name": "The Art of Economic Catch-Up: Barriers, Detours and Leapfrogging in Innovation Systems.ipynb",
      "provenance": [],
      "authorship_tag": "ABX9TyPHsha4Uke8gT/mbAYpdLft",
      "include_colab_link": true
    },
    "kernelspec": {
      "name": "python3",
      "display_name": "Python 3"
    },
    "language_info": {
      "name": "python"
    }
  },
  "cells": [
    {
      "cell_type": "markdown",
      "metadata": {
        "id": "view-in-github",
        "colab_type": "text"
      },
      "source": [
        "<a href=\"https://colab.research.google.com/github/dbremont/Notas/blob/main/Libros/Otros/The_Art_of_Economic_Catch_Up_Barriers%2C_Detours_and_Leapfrogging_in_Innovation_Systems.ipynb\" target=\"_parent\"><img src=\"https://colab.research.google.com/assets/colab-badge.svg\" alt=\"Open In Colab\"/></a>"
      ]
    },
    {
      "cell_type": "markdown",
      "metadata": {
        "id": "wqFEzPzPwoXS"
      },
      "source": [
        "# The Art of Economic Catch-Up: Barriers, Detours and Leapfrogging in Innovation Systems\n",
        "Libros/Otros"
      ]
    }
  ]
}