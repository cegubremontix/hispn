{
  "nbformat": 4,
  "nbformat_minor": 0,
  "metadata": {
    "colab": {
      "name": "The Art of Economic Catch-Up: Barriers, Detours and Leapfrogging in Innovation Systems.ipynb",
      "provenance": [],
      "authorship_tag": "ABX9TyN8761suQq3YPTAuC8MEUTF",
      "include_colab_link": true
    },
    "kernelspec": {
      "name": "python3",
      "display_name": "Python 3"
    },
    "language_info": {
      "name": "python"
    }
  },
  "cells": [
    {
      "cell_type": "markdown",
      "metadata": {
        "id": "view-in-github",
        "colab_type": "text"
      },
      "source": [
        "<a href=\"https://colab.research.google.com/github/dbremont/Notas/blob/main/Libros/Otros/The_Art_of_Economic_Catch_Up_Barriers%2C_Detours_and_Leapfrogging_in_Innovation_Systems.ipynb\" target=\"_parent\"><img src=\"https://colab.research.google.com/assets/colab-badge.svg\" alt=\"Open In Colab\"/></a>"
      ]
    },
    {
      "cell_type": "markdown",
      "metadata": {
        "id": "wqFEzPzPwoXS"
      },
      "source": [
        "# The Art of Economic Catch-Up: Barriers, Detours and Leapfrogging in Innovation Systems\n",
        "Libros/Otros"
      ]
    },
    {
      "cell_type": "markdown",
      "metadata": {
        "id": "BJEaYAw7g3Wy"
      },
      "source": [
        "- Introduction\n",
        "\n",
        "- The narrow passage between middle- and high income nations\n",
        "\n",
        "- Production function: (labor , capital) -> growth\n",
        "  -  what about technology?\n",
        "  - you develop accumulating capital, so you copy the institutions of advanced contries?\n",
        "\n",
        "- Advanced 'contries' have different grow mechanisms than other contries.\n",
        "\n",
        "- Middle income contries that can not innovate, are in problems\n",
        "  - cannot compite with low wages of low incomes contries.\n",
        "  - cannot compite with technology advanced contries.\n",
        "\n",
        "- The two failures and one barrier:\n",
        "  1. capabilities faulure firms in MIC  incapable of in-house  *R and D*.\n",
        "  2. Innovation pardox\n",
        "    - Size failures\n",
        "\n",
        "- How the move beyond the MIT:\n",
        " 1. Provides funds for **R and D**\n",
        " 2. **R and D** transfer\n",
        " 3. Public, private research patnerships\n",
        "\n",
        "- Servizacation\n",
        "- Having a bunch of microbusiness in services in a bad symtom\n",
        "- BB's\n",
        "\n",
        "- the patent and **WTO** reduce the policy space for late commers contries.\n",
        "\n",
        "- The detours to overcome the capability failure\n",
        "\n",
        "- \"two failures and one barrier\"\n",
        "\n",
        "- taking detours  to be able to build innovative capacities.\n",
        "\n",
        "- avoid replications the practices of advanced economies\n",
        "\n",
        "- national innovation systems (NIS)\n",
        "\n",
        "- IPR protection (bad at early stages of development)\n",
        "\n",
        "- sectoral innovation systems\n",
        "\n",
        "- capabilies bulding at specialization choices\n",
        "\n",
        "- short-cycle sectors\n",
        "\n",
        "- long-cycle sectors\n",
        "\n",
        "- flying on a ballon or leap frogging\n",
        "\n",
        "- in new technological sectors, latecomers contries have a head start in their catchup\n",
        "\n",
        "- fly a ballon when a window of opportunity\n",
        "\n",
        "- how to archieve systained economic grow remaisn unknown\n",
        "  - specific explantions / factors\n",
        "  - general explanations / factors\n",
        "\n",
        "- old grow model\n",
        "  - production function: (laboral, capital)\n",
        "  - production\n",
        "\n",
        "- the old grow model did not take into account technologies, and assumes the same into al contries.\n",
        "\n",
        "- increasing economic gap in contries.\n",
        "\n",
        "- the two failure and one barrier\n"
      ]
    }
  ]
}