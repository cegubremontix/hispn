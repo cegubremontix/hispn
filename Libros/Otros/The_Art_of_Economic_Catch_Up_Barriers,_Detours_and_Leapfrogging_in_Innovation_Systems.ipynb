{
  "nbformat": 4,
  "nbformat_minor": 0,
  "metadata": {
    "colab": {
      "name": "The Art of Economic Catch-Up: Barriers, Detours and Leapfrogging in Innovation Systems.ipynb",
      "provenance": [],
      "authorship_tag": "ABX9TyPXc362fq4/EvZeFV13pG84",
      "include_colab_link": true
    },
    "kernelspec": {
      "name": "python3",
      "display_name": "Python 3"
    },
    "language_info": {
      "name": "python"
    }
  },
  "cells": [
    {
      "cell_type": "markdown",
      "metadata": {
        "id": "view-in-github",
        "colab_type": "text"
      },
      "source": [
        "<a href=\"https://colab.research.google.com/github/dbremont/Notas/blob/main/Libros/Otros/The_Art_of_Economic_Catch_Up_Barriers%2C_Detours_and_Leapfrogging_in_Innovation_Systems.ipynb\" target=\"_parent\"><img src=\"https://colab.research.google.com/assets/colab-badge.svg\" alt=\"Open In Colab\"/></a>"
      ]
    },
    {
      "cell_type": "markdown",
      "metadata": {
        "id": "wqFEzPzPwoXS"
      },
      "source": [
        "# The Art of Economic Catch-Up: Barriers, Detours and Leapfrogging in Innovation Systems"
      ]
    },
    {
      "cell_type": "markdown",
      "metadata": {
        "id": "WZmnY16O2VTF"
      },
      "source": [
        "## Introduction"
      ]
    },
    {
      "cell_type": "markdown",
      "metadata": {
        "id": "dnG_VSFk3oFT"
      },
      "source": [
        "### The Narrow Passage between Middle and High-Income Nations"
      ]
    },
    {
      "cell_type": "markdown",
      "metadata": {
        "id": "NRx2bgMo3u0c"
      },
      "source": [
        "- How to archieve sustained economic growth remains unknown and has been a long standing topic in economic research.\n",
        "\n",
        "- **Old Growth Model**,  explain growth with a simple production function, with labor and capital as the primary factors of production and with their elasticities, and the associated technologies are also assumed to be the same across all contries.\n",
        "\n",
        "- Per Capita Income Levels of Contries as % of the United States.\n",
        "\n",
        "- **MIT**: Midle Income Trap.\n",
        "\n",
        "- **World Bank study suggests**: Middle-income economies tend to fall into MIT because they get caugth between low-wage manufactuers and high-wage innovators. Their wage rates are too high to compete with low-wage exporters and the level of their technological capability is too slow to enable them to compete with advanced contries."
      ]
    },
    {
      "cell_type": "markdown",
      "metadata": {
        "id": "R9TuChl56MeJ"
      },
      "source": [
        "## The Two Failures and One Barrier"
      ]
    },
    {
      "cell_type": "markdown",
      "metadata": {
        "id": "r00j9FOH3jDl"
      },
      "source": [
        "- The two failures and one barrier:\n",
        "  1. capabilities faulure firms in MIC  incapable of in-house  *R and D*.\n",
        "  2. Innovation pardox\n",
        "    - Size failures\n",
        "\n",
        "- How the move beyond the MIT:\n",
        " 1. Provides funds for **R and D**\n",
        " 2. **R and D** transfer\n",
        " 3. Public, private research patnerships\n",
        "\n",
        "- Servizacation\n",
        "- Having a bunch of microbusiness in services in a bad symtom\n",
        "- BB's\n",
        "\n",
        "- the patent and **WTO** reduce the policy space for late commers contries.\n",
        "\n",
        "- The detours to overcome the capability failure\n",
        "\n",
        "- \"two failures and one barrier\"\n",
        "\n",
        "- taking detours  to be able to build innovative capacities.\n",
        "\n",
        "- avoid replications the practices of advanced economies\n",
        "\n",
        "- national innovation systems (NIS)\n",
        "\n",
        "- IPR protection (bad at early stages of development)\n",
        "\n",
        "- sectoral innovation systems\n",
        "\n",
        "- capabilies bulding at specialization choices\n",
        "\n",
        "- short-cycle sectors\n",
        "\n",
        "- long-cycle sectors\n",
        "\n",
        "- flying on a ballon or leap frogging\n",
        "\n",
        "- in new technological sectors, latecomers contries have a head start in their catchup\n",
        "\n",
        "- fly a ballon when a window of opportunity\n",
        "\n",
        "- how to archieve systained economic grow remaisn unknown\n",
        "  - specific explantions / factors\n",
        "  - general explanations / factors\n",
        "\n",
        "- old grow model\n",
        "  - production function: (laboral, capital)\n",
        "  - production\n",
        "\n",
        "- the old grow model did not take into account technologies, and assumes the same into al contries.\n",
        "\n",
        "- increasing economic gap in contries.\n",
        "\n",
        "- the two failure and one barrier"
      ]
    },
    {
      "cell_type": "markdown",
      "metadata": {
        "id": "qetv-9nZ2YhF"
      },
      "source": [
        "## Different Mechanism of Growth in Poor and Rich Nations and the Narrow Pathway in Between"
      ]
    },
    {
      "cell_type": "markdown",
      "metadata": {
        "id": "ZHiItxvG2wGF"
      },
      "source": [
        "## The Three Detours and Capability-Building"
      ]
    },
    {
      "cell_type": "markdown",
      "metadata": {
        "id": "AM9d5yh523nq"
      },
      "source": [
        "## Detour of Promoting Big Businesses and SMEs during Transition"
      ]
    },
    {
      "cell_type": "markdown",
      "metadata": {
        "id": "GYgEm6vr2-w4"
      },
      "source": [
        "## Flying a Ballon Out of the Windows of Opportunity\n"
      ]
    },
    {
      "cell_type": "markdown",
      "metadata": {
        "id": "mXfd6jjv3TeT"
      },
      "source": [
        "## Recapitulation of the Art"
      ]
    },
    {
      "cell_type": "markdown",
      "metadata": {
        "id": "Zb0wXuZx3XNI"
      },
      "source": [
        "## Practicing the Art of Latecomers"
      ]
    },
    {
      "cell_type": "markdown",
      "metadata": {
        "id": "BJEaYAw7g3Wy"
      },
      "source": [
        ""
      ]
    }
  ]
}