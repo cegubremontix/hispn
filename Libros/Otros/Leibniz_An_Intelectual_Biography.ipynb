{
  "nbformat": 4,
  "nbformat_minor": 0,
  "metadata": {
    "colab": {
      "name": "Leibniz: An Intelectual Biography.ipynb",
      "provenance": [],
      "toc_visible": true,
      "authorship_tag": "ABX9TyMEMt7mRpx9xrR4b61Fl4LT",
      "include_colab_link": true
    },
    "kernelspec": {
      "name": "python3",
      "display_name": "Python 3"
    },
    "language_info": {
      "name": "python"
    }
  },
  "cells": [
    {
      "cell_type": "markdown",
      "metadata": {
        "id": "view-in-github",
        "colab_type": "text"
      },
      "source": [
        "<a href=\"https://colab.research.google.com/github/dbremont/Notas/blob/main/Libros/Otros/Leibniz_An_Intelectual_Biography.ipynb\" target=\"_parent\"><img src=\"https://colab.research.google.com/assets/colab-badge.svg\" alt=\"Open In Colab\"/></a>"
      ]
    },
    {
      "cell_type": "markdown",
      "metadata": {
        "id": "lSnQX4_ul5NP"
      },
      "source": [
        "Leibniz: An Intelectual Biography"
      ]
    },
    {
      "cell_type": "markdown",
      "metadata": {
        "id": "r4ETZ65Il5R8"
      },
      "source": [
        "# Youthful Vocations (1646-1676)"
      ]
    },
    {
      "cell_type": "markdown",
      "metadata": {
        "id": "S8RmfcUHmAXa"
      },
      "source": [
        "## The birth of a Vision: Background, Childhood, and Education"
      ]
    },
    {
      "cell_type": "markdown",
      "metadata": {
        "id": "ZP2uFMWimK_M"
      },
      "source": [
        "## The Vision Broadens: Nurembers, Frankfurt, and Mainz"
      ]
    },
    {
      "cell_type": "markdown",
      "metadata": {
        "id": "z34neCEvmVE_"
      },
      "source": [
        "## Old Wien in New Bottles: Paris, London, and Holland"
      ]
    },
    {
      "cell_type": "markdown",
      "metadata": {
        "id": "WIxbMDnSmcVk"
      },
      "source": [
        "# Dreams and Reality"
      ]
    },
    {
      "cell_type": "markdown",
      "metadata": {
        "id": "SV7xkzlXmfj5"
      },
      "source": [
        "## A Universal Genius as Libertarian, Historian, and Mining Engineer: Hanover and Lower Saxony"
      ]
    },
    {
      "cell_type": "markdown",
      "metadata": {
        "id": "56cL64JGmspM"
      },
      "source": [
        "## In the Footsteps of the Guelfs: Southern Germany, Austria, and Italy"
      ]
    },
    {
      "cell_type": "markdown",
      "metadata": {
        "id": "aIKVDztwm2eM"
      },
      "source": [
        "## Back under the Guelf Dukes: Honover and Wolfenbuttel"
      ]
    },
    {
      "cell_type": "markdown",
      "metadata": {
        "id": "B2R3U4O1m-Dp"
      },
      "source": [
        "## Betweeen Brother and Sister: Hanover and Berlin"
      ]
    },
    {
      "cell_type": "markdown",
      "metadata": {
        "id": "Dl__9pBPnnJU"
      },
      "source": [
        "## Light and Shadows: Honover, Berlin, Wofenbuttel, Viena"
      ]
    },
    {
      "cell_type": "markdown",
      "metadata": {
        "id": "s0iLkV3hoCuF"
      },
      "source": [
        "## Epilogue: Last Years in Hanover"
      ]
    }
  ]
}