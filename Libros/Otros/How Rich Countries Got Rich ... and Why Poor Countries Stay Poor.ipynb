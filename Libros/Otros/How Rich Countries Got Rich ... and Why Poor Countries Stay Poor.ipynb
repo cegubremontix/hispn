{
  "nbformat": 4,
  "nbformat_minor": 0,
  "metadata": {
    "kernelspec": {
      "display_name": "Python 2.7.18 64-bit",
      "name": "python2718jvsc74a57bd0f92b2924b84ff19c1c3dc485f7644d4486f64738191026bf8e6de303969141b5"
    },
    "language_info": {
      "name": "python",
      "version": ""
    },
    "metadata": {
      "interpreter": {
        "hash": "f92b2924b84ff19c1c3dc485f7644d4486f64738191026bf8e6de303969141b5"
      }
    },
    "orig_nbformat": 2,
    "colab": {
      "name": "How Rich Countries Got Rich ... and Why Poor Countries Stay Poor.ipynb",
      "provenance": [],
      "toc_visible": true,
      "include_colab_link": true
    }
  },
  "cells": [
    {
      "cell_type": "markdown",
      "metadata": {
        "id": "view-in-github",
        "colab_type": "text"
      },
      "source": [
        "<a href=\"https://colab.research.google.com/github/dbremont/Notas/blob/main/Libros/Otros/How%20Rich%20Countries%20Got%20Rich%20...%20and%20Why%20Poor%20Countries%20Stay%20Poor.ipynb\" target=\"_parent\"><img src=\"https://colab.research.google.com/assets/colab-badge.svg\" alt=\"Open In Colab\"/></a>"
      ]
    },
    {
      "cell_type": "markdown",
      "metadata": {
        "id": "rFIQPUeVoPuo"
      },
      "source": [
        "## Introduction"
      ]
    },
    {
      "cell_type": "markdown",
      "metadata": {
        "id": "FZKah5XDRtJv"
      },
      "source": [
        "- Economic development involves profound qualitative change, not only of the economic, but also of society. \n",
        "\n",
        "- Reducing economic development to litle more than capital accumulation and more efficient resource allocation has become a formula for perpetuating economic backwardness in many poor contries."
      ]
    },
    {
      "cell_type": "markdown",
      "metadata": {
        "id": "7i4fLh2JoRwj"
      },
      "source": [
        "## The Evolution of the Two Economic  Different Approaches"
      ]
    },
    {
      "cell_type": "markdown",
      "metadata": {
        "id": "XQ4QgJY-RoPg"
      },
      "source": [
        "This chapter traces the evolution of today's canonical sequence of authors from Physiocracy via **Adam Smith** and **David Ricardo** to standard \n",
        "textbook economics. This tradition is constracted with a much older and less abstract **Other Canon** of economics that provided the guidelines \n",
        "for  economic policy when today's presently wealthy nations made their historical transition from poverty to wealth; for example, \n",
        "England's pregression from 1485 through to the post-second  World War Marshall Plan.\n",
        "\n",
        "\n",
        "The approaches:\n",
        "\n",
        "* David Ricardo, and Adam Smith -> Standard Textbook Economics.\n",
        "* The Other Cannon.\n",
        "\n",
        "Rethoric and Reality (Standard Economic Theory):\n",
        " \n",
        " * England did listen to Adam Smith, they have higher tarrifs than the Frenchs.\n",
        " * The mayor of Chicago using public funds for high tech incubators.\n",
        " * The US Small Business Administration uses anually 20 billion of federal money for support of private american companies.\n",
        " * ...\n",
        "\n",
        "So, Looking behind 'high theory' in order to observe what actually happens therefore becomes an important exercise.\n",
        "\n",
        "Antonio Genovesi, quote 4. Example of rethoric and practice. \n",
        "\n",
        "Look. Factor price-equalization.\n",
        "Look. Factor price-polarization.\n",
        "\n",
        "Thorstein Veblen has said 'Economic Instints have been contaminated by their education'.\n",
        "\n",
        "\n",
        "- [Synergies](https://en.wikipedia.org/wiki/Synergy)\n",
        "  - Working Together\n",
        "- [Network effect](https://en.wikipedia.org/wiki/Network_effect)\n",
        "\n",
        "\n",
        "\n",
        "Victor Norman, Factual Knowledge in economics do not exists.\n",
        "\n",
        "Incresing returns, \"before we knew it by sense, now we know it by science\".\n",
        "\n",
        "   * Antonio Serra\n",
        "   * Pin Factory example\n",
        "   * Ernst Ludwig Carl\n",
        "   * The European Common market was promoted to electorates on a prmise of increasing returns that would increate wealth. (Cecchini Report 1998)\n",
        " \n",
        "\n",
        "Xenophon - Aeconomicus\n",
        "\n",
        "* Technology, and increasing returns, which are the main sources of economic power, create economic barriers to entry.\n",
        "\n",
        "Two vision of economic grow;\n",
        " - German  : Production, Knowledge, Innovations.\n",
        " - English :  Buying and Selling.\n",
        "\n",
        "Paul Samuelson - 'Economist work for applause of their own peers'.\n",
        "               - As Taleb would say, they don not have skin in the game.\n",
        "\n",
        "Mark Twain  - 'When all that you have is a hammer, all problems start looking like nails'.\n",
        "\n",
        "The enlightment created  classification systems called 'taxonomies' to **better** undertand the world around us.\n",
        "\n",
        "The Economy\n",
        " - Real Economy (Goods, and Services)\n",
        " - Financial/money economy (Money/Capital)\n",
        "\n",
        "Economist are ignorant of the causes of grow.\n",
        "\n",
        "Milton Fridman vs Moses Abrahamovitz.\n",
        "\n",
        "Jhon Kneneth Gralbraith ~ Oligopolistic Competition.\n",
        "\n",
        "Richard Nelson on sinergies between different inputs.\n",
        "\n",
        "\"Residual\" and grow, are industry specific.\n",
        "\n",
        "Quality of economic activities.\n",
        "\n",
        "Alfred Marshall -> Anation could tax the economy activities subject to decreasing returns \"row materials\" and pay a bounty (subsidy) to the industries,\n",
        "the economic activies subject to increasing returns.\n",
        "\n",
        "Emulate the economic structure.\n",
        "\n",
        "Industrias que requieren I+D y las que no.\n",
        "\n",
        "ETLA: Research Institute of the Finish Economy.\n",
        "\n",
        "Giuseppe Mazzini\n",
        "\n",
        "Alfred Marshall  (Marshall Plan) THe exhcnage between the contryside and the city its the basis of modern civilization.\n",
        "\n",
        "Johann Jaboc Meyen\n",
        "\n",
        "Factor-Price-Equalization\n",
        "\n",
        "Capturing productivity explition in order to be reach.\n",
        "\n",
        "Ibn Kaldun\n",
        "- Desert -> City -> Desert\n",
        "- Fighting for the control of static resources\n",
        "- Pre-Increasring return adn pre-common-weal production systems specializain in row materials create a type of feudal political structure.\n",
        "\n",
        "- Arrow of causality.\n",
        "\n",
        "- Biases towards scale.\n",
        "\n",
        "- Policy space.\n",
        "\n",
        "- Critical mass of increasing returns activities.\n",
        "\n",
        "- Real Wages?\n",
        "\n",
        "- Under-Comsumption?\n",
        "\n",
        "- Market Saturation\n",
        "\n",
        "- Row Materials amufactured goods\n",
        "\n",
        "- Economics the dismal science\n",
        "\n",
        "- If cost fall with increasing volume, this is good news.\n",
        "\n",
        "- Von Tunnen approach to economic activity.\n",
        "\n",
        "- Man-made competitive advantage\n",
        "- Natural-made competitive advange\n",
        "- Mario Simioly\n",
        "- Commodity loterry\n",
        "- Welfere colonialism\n",
        "- Scandinavian Fallacy\n",
        "\n",
        "- Planglosian economic theory.\n",
        "- superflous population -> superflows wealth\n",
        "\n",
        "- Realidad tiende a ser filtrada por una manera que lcontradigan los esperadas sean removidos.\n",
        "- Harmony is not natural state of society.\n",
        "- Labor-theory of value.\n",
        "- Production, production of the means of mass production.\n",
        "- David Hume - The best of improve agricultre is with industries.\n",
        "- Case study methodology of harvard business school.\n",
        "- Gustav Scholler.\n",
        "- Antonio Serra\n",
        "   - Napoles\n",
        "   - Venecia\n",
        "   \n",
        "- Johann Friedrich Von Pfieffer\n",
        "- Nation\n",
        "- Democracy\n",
        "- Thortein Veblen theories classification\n",
        "  - Esoteric\n",
        "  - Exoteric\n",
        "  \n",
        "- Veblen \"idle curiosity\"\n",
        "- Friedrich Nietzche - \"The Capital of spirit and will\".\n",
        "\n",
        "\n",
        "\n",
        "- returns to scale\n",
        "- economic scale\n",
        "\n",
        "- Carlota Perez\n"
      ]
    },
    {
      "cell_type": "markdown",
      "metadata": {
        "id": "j0HcNilxoXi5"
      },
      "source": [
        "## Emulation: How Rich Contries Got Rich"
      ]
    },
    {
      "cell_type": "markdown",
      "metadata": {
        "id": "RmAcxE9f6--y"
      },
      "source": [
        "**The toolbox of economic emulation and development**\n",
        "\n",
        "1. Observation of wealth synergies clustered around increasing returns' activities oand continous mechanizatio nin general. Recognition that \"We are  in the wrong business\". Conscious targeting, support and protection of these increasing returns' activities.\n",
        "\n",
        "2. Temporary monopolies/patents/protection given to targeted activities in a certain geographical area.\n",
        "\n",
        "3. Recognition of development as a synergic phenomenon, and consequently the need for a diversified manufacturing sector ('maximizing the division of labor').\n",
        "\n",
        "4. A manufacturing sector solves three policy problems endemic to the Third World simulataneously: \n",
        "  - increasing national value added (GDP),\n",
        "  - increasing employment,\n",
        "  - solving  balance of payments problems.\n",
        "\n",
        "5. Attracting foreigners to work in targeted activities (historically, religous persecutions have contributed to this in an important way).\n",
        "\n",
        "6. Relative suppresion of landed nobility and other groups with vested interests based  in the productio of row materials (from Henry VII in the 1480s to Korea in the 1960s), Americal Civil.\n",
        "\n",
        "7. Tax breaks for targeted industries.\n",
        "\n",
        "8. Cheat credit for targeted activities.\n",
        "\n",
        "9. Export bounties for targeted activities.\n",
        "\n",
        "10. Strong support for the agricultural sector, in spite of this bringing cearly seen as incapable of independently bringing the nation out of poverty.\n",
        "\n",
        "11. Emphasis on learning/education (UK apprentice system under Elizabeth I, Francis Bacon's New Atlantis, scientific academies, both in England and on the Continent).\n",
        "\n",
        "12. Patent protection for valuable knowlege (venice from 1490s).\n",
        "\n",
        "13. Frequent export tax/export ban on row materials in order to make row materials more expensive to competing  nations. (This started with Henry VII in the late 1400s, whose policy was very efficient in serverly damaging the woollen industry in Medici Florence)"
      ]
    },
    {
      "cell_type": "markdown",
      "metadata": {
        "id": "RKjTnIVVoa2D"
      },
      "source": [
        "## Globalization: the Arguments in Favour are also the Arguments Againts"
      ]
    },
    {
      "cell_type": "markdown",
      "metadata": {
        "id": "uvK-Q_YwS8CM"
      },
      "source": [
        "> It is known that primitive nations do not improve their customs and habits, later to find useful industries, but the other way around. - Johann Jabob Meyen\n",
        "\n",
        "> The bourgeoisie, by rapid improvement of all instruments of production, by the immensenly facilitated means of communication, draws all, even the most barbarian, nations into civilization. - Karl Marx & Friedrich Engels"
      ]
    },
    {
      "cell_type": "markdown",
      "metadata": {
        "id": "jYZXw5HRojHa"
      },
      "source": [
        "## Explaining Away Failure: Red Herrings at the End of History"
      ]
    },
    {
      "cell_type": "markdown",
      "metadata": {
        "id": "zKdl103morhI"
      },
      "source": [
        "## Palliative Economics: Why the Millenium Goals are a Bad Idea"
      ]
    },
    {
      "cell_type": "markdown",
      "metadata": {
        "id": "8tieoIMoo7Cd"
      },
      "source": [
        "## 'Get the economic activities right', or, the Lost Art of Creating Middle-Income Contries "
      ]
    },
    {
      "cell_type": "markdown",
      "metadata": {
        "id": "_DEnhkBMpGia"
      },
      "source": [
        "## Appendices"
      ]
    },
    {
      "cell_type": "markdown",
      "metadata": {
        "id": "fWlh19PSpL4D"
      },
      "source": [
        "### David Ricardo's Theory of Comparative Advantage in International Trade"
      ]
    },
    {
      "cell_type": "markdown",
      "metadata": {
        "id": "6k-TSNgfpUqJ"
      },
      "source": [
        "### Two Different Ways of Understanding  the Economic World and the Wealth and Poverty of Nations"
      ]
    },
    {
      "cell_type": "markdown",
      "metadata": {
        "id": "T7xahk3mpesu"
      },
      "source": [
        "### Frank Graham's Theory of Uneven Development"
      ]
    },
    {
      "cell_type": "markdown",
      "metadata": {
        "id": "P7B55F-7pk2w"
      },
      "source": [
        "### Two Ideal Types of Protectionism Compared"
      ]
    },
    {
      "cell_type": "markdown",
      "metadata": {
        "id": "idlNpGA9prUT"
      },
      "source": [
        "### Phillip von Hornigk's Nine Points on How to Emulate the Rich Contries (1684)"
      ]
    },
    {
      "cell_type": "markdown",
      "metadata": {
        "id": "DYQSrm3ip1-4"
      },
      "source": [
        "### The Quality Index of Economic Activities"
      ]
    },
    {
      "cell_type": "markdown",
      "metadata": {
        "id": "-UK4uZ4Stfqv"
      },
      "source": [
        "![Index of Economic Activities](https://www.researchgate.net/profile/Rainer-Kattel/publication/46473311/figure/fig1/AS:669382191636492@1536604559336/The-Quality-Index-of-Economic-Activities.ppm)"
      ]
    }
  ]
}