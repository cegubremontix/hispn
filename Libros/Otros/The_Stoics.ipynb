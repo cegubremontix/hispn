{
  "nbformat": 4,
  "nbformat_minor": 0,
  "metadata": {
    "colab": {
      "name": "The Stoics.ipynb",
      "provenance": [],
      "authorship_tag": "ABX9TyPGrBuXXrdaD6Kxd08JtWBN",
      "include_colab_link": true
    },
    "kernelspec": {
      "name": "python3",
      "display_name": "Python 3"
    },
    "language_info": {
      "name": "python"
    }
  },
  "cells": [
    {
      "cell_type": "markdown",
      "metadata": {
        "id": "view-in-github",
        "colab_type": "text"
      },
      "source": [
        "<a href=\"https://colab.research.google.com/github/dbremont/Notas/blob/main/Libros/Otros/The_Stoics.ipynb\" target=\"_parent\"><img src=\"https://colab.research.google.com/assets/colab-badge.svg\" alt=\"Open In Colab\"/></a>"
      ]
    },
    {
      "cell_type": "markdown",
      "metadata": {
        "id": "xtihRbVjOcMy"
      },
      "source": [
        "##  Introduction: Stoicsm, An Intellectual Odyssey"
      ]
    },
    {
      "cell_type": "markdown",
      "metadata": {
        "id": "FjkEAMX_OnIf"
      },
      "source": [
        "## The School in the Roman Imperial Period"
      ]
    },
    {
      "cell_type": "markdown",
      "metadata": {
        "id": "jbAbj8ZdOqza"
      },
      "source": [
        "## Stoic Spistemology"
      ]
    },
    {
      "cell_type": "markdown",
      "metadata": {
        "id": "rlnvPD4MO2KM"
      },
      "source": [
        "## Stoic Theology"
      ]
    },
    {
      "cell_type": "markdown",
      "metadata": {
        "id": "dGMUKkDFO6qI"
      },
      "source": [
        "## Stoic Determinism"
      ]
    },
    {
      "cell_type": "markdown",
      "metadata": {
        "id": "W2bUyStkO8YQ"
      },
      "source": [
        "## Stoic Metaphysics"
      ]
    },
    {
      "cell_type": "markdown",
      "metadata": {
        "id": "wQoX_8rjO_V8"
      },
      "source": [
        "## Stoic Ethics"
      ]
    },
    {
      "cell_type": "markdown",
      "metadata": {
        "id": "Tyh0GP2HPDYz"
      },
      "source": [
        "## Stoic Moral Phychology"
      ]
    },
    {
      "cell_type": "markdown",
      "metadata": {
        "id": "vD5eny7hPGWC"
      },
      "source": [
        "## The Stoic Contribution to Traditional Grammar"
      ]
    },
    {
      "cell_type": "markdown",
      "metadata": {
        "id": "SEv2vJOaPK5u"
      },
      "source": [
        "## The Stoics and the Astronomical Sciences"
      ]
    },
    {
      "cell_type": "markdown",
      "metadata": {
        "id": "-suXrbqPPOnS"
      },
      "source": [
        "## Stoic Naturalism and Its Critics"
      ]
    },
    {
      "cell_type": "markdown",
      "metadata": {
        "id": "LIfPF63NPUH5"
      },
      "source": [
        "## Stoicism inthe Philosophical Tradition: Spinoza, Lipsius, Butler"
      ]
    }
  ]
}