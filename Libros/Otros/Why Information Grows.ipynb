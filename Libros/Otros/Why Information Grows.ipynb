{
  "nbformat": 4,
  "nbformat_minor": 0,
  "metadata": {
    "kernelspec": {
      "display_name": "Python 2.7.18 64-bit",
      "name": "python2718jvsc74a57bd0f92b2924b84ff19c1c3dc485f7644d4486f64738191026bf8e6de303969141b5"
    },
    "language_info": {
      "name": "python",
      "version": ""
    },
    "metadata": {
      "interpreter": {
        "hash": "f92b2924b84ff19c1c3dc485f7644d4486f64738191026bf8e6de303969141b5"
      }
    },
    "orig_nbformat": 2,
    "colab": {
      "name": "Why Information Grows.ipynb",
      "provenance": [],
      "toc_visible": true,
      "include_colab_link": true
    }
  },
  "cells": [
    {
      "cell_type": "markdown",
      "metadata": {
        "id": "view-in-github",
        "colab_type": "text"
      },
      "source": [
        "<a href=\"https://colab.research.google.com/github/dbremont/Notas/blob/main/Libros/Otros/Why%20Information%20Grows.ipynb\" target=\"_parent\"><img src=\"https://colab.research.google.com/assets/colab-badge.svg\" alt=\"Open In Colab\"/></a>"
      ]
    },
    {
      "cell_type": "markdown",
      "metadata": {
        "id": "fQ_twc8oXBfy"
      },
      "source": [
        "## Words"
      ]
    },
    {
      "cell_type": "markdown",
      "metadata": {
        "id": "K3_ZZnKQN2ZD"
      },
      "source": [
        "- Agregation economic grow models [147-148, 162]\n",
        "- Augmentation of human capacities via products [65-71]\n",
        "- Balance of imagination [52-55]\n",
        "- Barbie doll mamufacturing network [101-102]\n",
        "- Industrie space [139, 141]\n",
        "- Bureaucratic burden (linking of large organizations)\n",
        "- Collective limits on accumulation of knowledge and knowhow [81-83]\n",
        "- Competivie advantage [147-148]\n",
        "- Complex products [78-79, 92-93]\n",
        "- Computation [35-37, 41, 176,178-178,181,6,8]\n",
        "- Computational capacity of an economy [75, 180-181]\n",
        "- Crystalizlized imagintaion [43-47, 178-180, 79, 61]\n",
        "- Diversification toward related varieties  [135-136]\n",
        "- Diversified economies [180]\n",
        "- Economic complexity [145-146]\n",
        "\n",
        "\n",
        "\n",
        "* Aggregation economic growth models 147-148, 162.\n",
        "\n",
        "The time is past when the best could be done with the lartge set of variables was to reduce their number by averaging them out or what is essentially the same, \n",
        "combining them into broad aggregates; now we can manipulate complicated analytical systems without suppressing the identify of their elements.\n",
        "  \n",
        "- [Aggregation problem](https://en.wikipedia.org/wiki/Aggregation_problem)\n",
        "\n",
        "Products as crystals of imagination.\n",
        "\n",
        "Understanding the world in terms of exchanges of embodied imagination can also help us challendge prevalent narratives.\n",
        "\n",
        "Economic development is not the ability to buy but the ability to make.\n",
        "\n",
        "That's al the motorcycle is, a system of concepts worked out in steel. There're not part in it, no shape in it, that is not out of someone's mind. Robert M. Pirsig"
      ]
    },
    {
      "cell_type": "markdown",
      "metadata": {
        "id": "e9pJSNrV8SEf"
      },
      "source": [
        "## 12. The Evolution of Physical Order, from Atoms to Economies"
      ]
    },
    {
      "cell_type": "markdown",
      "metadata": {
        "id": "VfG8VmzB8ZAg"
      },
      "source": [
        "1. Ability of matter to compute.\n",
        "\n",
        "2. Prigogine: The energy flows that keep a system out of equilibrium explain the spontaneous emergence of order or information.\n",
        "\n",
        "3. Information can be destroy.\n",
        "\n",
        "4. Erwin Schrodinger, What is life?\n",
        "   - Solid carries information.\n",
        "\n",
        "5. Long and short-range correlation, allow DNA  to pack lage amount of information.\n",
        "\n",
        "6. To carry information solids need to have structue, Random or periodic solid cannor embody information.\n",
        "\n",
        "7. Energy is needed for information to emerge, and solids are needed for information to endure. But for for growth of information to explode, we need on more ingredient: The ability of matter to compute.\n",
        "\n",
        "8. Cast- Re-cast (normal language, computing)\n",
        "\n",
        "9. Humans accumulate information in objects.\n",
        "\n",
        "- Our societiy and econocyk, as a a distributed computer that accumluate knowladge and knowhow .\n",
        "\n",
        "- Crystal and imagination from airplain to toothpate, knowhow ...\n",
        "\n",
        "- Because of the limited capacity of humans to embody knowledge.\n",
        "\n",
        "- To simplify our discrussion we called that maximum individual capacity one personbyte.\n",
        "\n",
        "- The personbyte theory suggest a relationship between the complexity of an economy activity and professional netwoek needte to execute it. It implies:\n",
        "\n",
        "  - Simpler economic activities will be moure ubiquitous.\n",
        "  - That diversified economies will be the only ones capable of executing complex economic activities.\n",
        "  - That contries will  diversify towards related products.\n",
        "  - That over the long run a rigion´s level of income wil approach the complexity of it´s economy.\n",
        "    - Products that a region produce inform us of the presenf of knowledge in that region.\n",
        "\n",
        "\n"
      ]
    },
    {
      "cell_type": "markdown",
      "metadata": {
        "id": "bi_Ovhn9YJ4l"
      },
      "source": [
        "- Information vs Entropy\n",
        "\n",
        "- Equivalent States\n",
        "  - Base on a set of pre-defined properties\n",
        "\n",
        "- Crystal of imagagination:\n",
        "  - information that we have generated though mental computations and then desembodied by creating on object that mimics that one we had in our head.\n",
        "\n",
        "- what is a market?\n",
        "- faraday's law of induction\n",
        "\n",
        "- marking a strong distinction betweeen the \"generation of value\" and the appropiation of \"monetary compensation\" helps us understand th edifferent betrween wealth and economic development.\n",
        "\n",
        "- economic development is the ability to buy but the **ability to make**.\n",
        "\n",
        "- we know more than we can tell\n",
        "\n",
        "- why is it hard for us to accumulate the knowledge and knowhow we need to transform our dreams into reality?\n",
        "\n",
        "- learning is experimental\n",
        "  -  buena frase\n",
        "  - knowhow is not present in books"
      ]
    }
  ]
}