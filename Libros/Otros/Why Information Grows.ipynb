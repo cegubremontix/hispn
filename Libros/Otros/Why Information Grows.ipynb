{
  "nbformat": 4,
  "nbformat_minor": 0,
  "metadata": {
    "kernelspec": {
      "display_name": "Python 2.7.18 64-bit",
      "name": "python2718jvsc74a57bd0f92b2924b84ff19c1c3dc485f7644d4486f64738191026bf8e6de303969141b5"
    },
    "language_info": {
      "name": "python",
      "version": ""
    },
    "metadata": {
      "interpreter": {
        "hash": "f92b2924b84ff19c1c3dc485f7644d4486f64738191026bf8e6de303969141b5"
      }
    },
    "orig_nbformat": 2,
    "colab": {
      "name": "Why Information Grows.ipynb",
      "provenance": [],
      "include_colab_link": true
    }
  },
  "cells": [
    {
      "cell_type": "markdown",
      "metadata": {
        "id": "view-in-github",
        "colab_type": "text"
      },
      "source": [
        "<a href=\"https://colab.research.google.com/github/dbremont/Notas/blob/main/Libros/Otros/Why%20Information%20Grows.ipynb\" target=\"_parent\"><img src=\"https://colab.research.google.com/assets/colab-badge.svg\" alt=\"Open In Colab\"/></a>"
      ]
    },
    {
      "cell_type": "markdown",
      "metadata": {
        "id": "K3_ZZnKQN2ZD"
      },
      "source": [
        "Words:\n",
        "\n",
        "- Agregation economic grow models [147-148, 162]\n",
        "- Augmentation of human capacities via products [65-71]\n",
        "- Balance of imagination [52-55]\n",
        "- Barbie doll mamufacturing network [101-102]\n",
        "- Industrie space [139, 141]\n",
        "- Bureaucratic burden (linking of large organizations)\n",
        "- Collective limits on accumulation of knowledge and knowhow [81-83]\n",
        "- Competivie advantage [147-148]\n",
        "- Complex products [78-79, 92-93]\n",
        "- Computation [35-37, 41, 176,178-178,181,6,8]\n",
        "- Computational capacity of an economy [75, 180-181]\n",
        "- Crystalizlized imagintaion [43-47, 178-180, 79, 61]\n",
        "- Diversification toward related varieties  [135-136]\n",
        "- Diversified economies [180]\n",
        "- Economic complexity [145-146]\n",
        "\n",
        "\n",
        "\n",
        "* Aggregation economic growth models 147-148, 162.\n",
        "\n",
        "The time is past when the best could be done with the lartge set of variables was to reduce their number by averaging them out or what is essentially the same, \n",
        "combining them into broad aggregates; now we can manipulate complicated analytical systems without suppressing the identify of their elements.\n",
        "  \n",
        "Aggregation problem\n",
        "https://en.wikipedia.org/wiki/Aggregation_problem\n",
        "\n",
        "Products as crystals of imagination.\n",
        "\n",
        "Understanding the world in terms of exchanges of embodied imagination can also help us challendge prevalent narratives.\n",
        "\n",
        "Economic development is not the ability to buy but the ability to make.\n",
        "\n",
        "That's al the motorcycle is, a system of concepts worked out in steel. There're not part in it, no shape in it, that is not out of someone's mind. Robert M. Pirsig\n",
        "\n",
        "\n"
      ]
    }
  ]
}