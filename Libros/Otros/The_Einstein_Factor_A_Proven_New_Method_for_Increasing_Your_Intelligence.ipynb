{
  "nbformat": 4,
  "nbformat_minor": 0,
  "metadata": {
    "colab": {
      "name": "The Einstein Factor - A Proven New Method for Increasing Your Intelligence.ipynb",
      "provenance": [],
      "authorship_tag": "ABX9TyOQB4UtsF951myR+dauibnp",
      "include_colab_link": true
    },
    "kernelspec": {
      "name": "python3",
      "display_name": "Python 3"
    },
    "language_info": {
      "name": "python"
    }
  },
  "cells": [
    {
      "cell_type": "markdown",
      "metadata": {
        "id": "view-in-github",
        "colab_type": "text"
      },
      "source": [
        "<a href=\"https://colab.research.google.com/github/dbremont/Notas/blob/main/Libros/Otros/The_Einstein_Factor_A_Proven_New_Method_for_Increasing_Your_Intelligence.ipynb\" target=\"_parent\"><img src=\"https://colab.research.google.com/assets/colab-badge.svg\" alt=\"Open In Colab\"/></a>"
      ]
    },
    {
      "cell_type": "markdown",
      "source": [
        "## Are You a Genius?"
      ],
      "metadata": {
        "id": "rsnDchv-Nopt"
      }
    },
    {
      "cell_type": "markdown",
      "source": [
        "## You Are Always Dreaming"
      ],
      "metadata": {
        "id": "anyLmbp_PRsa"
      }
    },
    {
      "cell_type": "markdown",
      "source": [
        "## Open Your Image Stream"
      ],
      "metadata": {
        "id": "RhlMalLAPVR5"
      }
    },
    {
      "cell_type": "markdown",
      "source": [
        "## Amplify Your Feedback"
      ],
      "metadata": {
        "id": "BEOpWGe9PsFb"
      }
    },
    {
      "cell_type": "markdown",
      "source": [
        "## The \"Surprise!\"  Effect"
      ],
      "metadata": {
        "id": "pcNW3xFDPxuf"
      }
    },
    {
      "cell_type": "markdown",
      "source": [
        "## Interpreting the Images"
      ],
      "metadata": {
        "id": "WJdCMYiLP1e0"
      }
    },
    {
      "cell_type": "markdown",
      "source": [
        "## The Power of Questions"
      ],
      "metadata": {
        "id": "K3UaPV7JP4V7"
      }
    },
    {
      "cell_type": "markdown",
      "source": [
        "## Model Thinking"
      ],
      "metadata": {
        "id": "QxP982pRP6e-"
      }
    },
    {
      "cell_type": "markdown",
      "source": [
        "## Total Recall"
      ],
      "metadata": {
        "id": "_eEMfr8oP8Z-"
      }
    },
    {
      "cell_type": "markdown",
      "source": [
        "## The Socractic Effect"
      ],
      "metadata": {
        "id": "cj-9qy9LP9-2"
      }
    },
    {
      "cell_type": "markdown",
      "source": [
        "## The Oxygen Factor"
      ],
      "metadata": {
        "id": "ncmFB5wAP_0O"
      }
    },
    {
      "cell_type": "markdown",
      "source": [
        "## Working in Groups"
      ],
      "metadata": {
        "id": "wt2lT5rCQCf6"
      }
    },
    {
      "cell_type": "markdown",
      "source": [
        "## The Window of Childhood"
      ],
      "metadata": {
        "id": "EoAG5yTRQEIv"
      }
    },
    {
      "cell_type": "markdown",
      "source": [
        "## Use The Force"
      ],
      "metadata": {
        "id": "a3yIvR-3QH7c"
      }
    },
    {
      "cell_type": "markdown",
      "source": [
        "## The Genius Meme"
      ],
      "metadata": {
        "id": "cdE4k23AQKA7"
      }
    }
  ]
}