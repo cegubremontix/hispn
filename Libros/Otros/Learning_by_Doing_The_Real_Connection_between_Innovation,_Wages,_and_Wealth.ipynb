{
  "nbformat": 4,
  "nbformat_minor": 0,
  "metadata": {
    "colab": {
      "name": "Learning by Doing: The Real Connection between Innovation, Wages, and Wealth.ipynb",
      "provenance": [],
      "authorship_tag": "ABX9TyMJzyvfaMJQyPFcksUNR73M",
      "include_colab_link": true
    },
    "kernelspec": {
      "name": "python3",
      "display_name": "Python 3"
    },
    "language_info": {
      "name": "python"
    }
  },
  "cells": [
    {
      "cell_type": "markdown",
      "metadata": {
        "id": "view-in-github",
        "colab_type": "text"
      },
      "source": [
        "<a href=\"https://colab.research.google.com/github/dbremont/Notas/blob/main/Libros/Otros/Learning_by_Doing_The_Real_Connection_between_Innovation%2C_Wages%2C_and_Wealth.ipynb\" target=\"_parent\"><img src=\"https://colab.research.google.com/assets/colab-badge.svg\" alt=\"Open In Colab\"/></a>"
      ]
    },
    {
      "cell_type": "markdown",
      "source": [
        "# Technology"
      ],
      "metadata": {
        "id": "y6ikzY4S0_SL"
      }
    },
    {
      "cell_type": "markdown",
      "source": [
        "## More Than Inventions"
      ],
      "metadata": {
        "id": "eADrIB4x1DDH"
      }
    },
    {
      "cell_type": "markdown",
      "source": [
        "## The Skills of the Unskilled"
      ],
      "metadata": {
        "id": "otwkhECx1GNE"
      }
    },
    {
      "cell_type": "markdown",
      "source": [
        "## Revolutions in Slow Motion"
      ],
      "metadata": {
        "id": "LI5IXCrf1JTe"
      }
    },
    {
      "cell_type": "markdown",
      "source": [
        "## Standard Knowledge"
      ],
      "metadata": {
        "id": "JcC9nQQq1Mgq"
      }
    },
    {
      "cell_type": "markdown",
      "source": [
        "# Wages"
      ],
      "metadata": {
        "id": "Gwf7ltmn1Yui"
      }
    },
    {
      "cell_type": "markdown",
      "source": [
        "## When Does Technology Raise Wages?"
      ],
      "metadata": {
        "id": "LHvV3sxD1aGt"
      }
    },
    {
      "cell_type": "markdown",
      "source": [
        "## How the Weavers Got Good Wages"
      ],
      "metadata": {
        "id": "AfLVDbKe1c7J"
      }
    },
    {
      "cell_type": "markdown",
      "source": [
        "## The Transition Today: Scarse Skills, Not Scarse Jobs"
      ],
      "metadata": {
        "id": "1yDOLzQZ1h0t"
      }
    },
    {
      "cell_type": "markdown",
      "source": [
        "# Technology Policy"
      ],
      "metadata": {
        "id": "mcAJRtG41ok-"
      }
    },
    {
      "cell_type": "markdown",
      "source": [
        "## Does Technology Require More College Diplomas?"
      ],
      "metadata": {
        "id": "ZuzGO_4l1p4T"
      }
    },
    {
      "cell_type": "markdown",
      "source": [
        "## Whose Knowledge Economy?"
      ],
      "metadata": {
        "id": "UrPS1ikF2tiB"
      }
    },
    {
      "cell_type": "markdown",
      "source": [
        "## Procuring New Knowledge"
      ],
      "metadata": {
        "id": "hOMCSoGN2xbH"
      }
    },
    {
      "cell_type": "markdown",
      "source": [
        "## Forgetting History of Knowledge Sharing"
      ],
      "metadata": {
        "id": "40oUe5JA20og"
      }
    },
    {
      "cell_type": "markdown",
      "source": [
        "## Patents and Early-Stage Knowledge"
      ],
      "metadata": {
        "id": "VJPtETjW24j9"
      }
    },
    {
      "cell_type": "markdown",
      "source": [
        "## The Political Economy of Technical Knowledge"
      ],
      "metadata": {
        "id": "rKLbhi9o280r"
      }
    },
    {
      "cell_type": "markdown",
      "source": [
        "## The Skills of the Many and the Prosperity of Nations"
      ],
      "metadata": {
        "id": "FtYe16AT3BaD"
      }
    }
  ]
}