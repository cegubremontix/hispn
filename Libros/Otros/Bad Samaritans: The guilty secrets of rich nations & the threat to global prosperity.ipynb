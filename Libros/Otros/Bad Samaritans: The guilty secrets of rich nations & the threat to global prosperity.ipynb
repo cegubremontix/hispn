{
 "cells": [
  {
   "cell_type": "markdown",
   "metadata": {
    "colab_type": "text",
    "id": "view-in-github"
   },
   "source": [
    "<a href=\"https://colab.research.google.com/github/dbremont/Notas/blob/main/Libros/Otros/Bad%20Samaritans%3A%20The%20guilty%20secrets%20of%20rich%20nations%20%26%20the%20threat%20to%20global%20prosperity.ipynb\" target=\"_parent\"><img src=\"https://colab.research.google.com/assets/colab-badge.svg\" alt=\"Open In Colab\"/></a>"
   ]
  },
  {
   "cell_type": "markdown",
   "metadata": {
    "id": "lKY8YoCwNJJy"
   },
   "source": [
    "Bad Samaritans: The guilty secrets of rich nations & the threat to global prosperity"
   ]
  },
  {
   "cell_type": "markdown",
   "metadata": {
    "id": "lKY8YoCwNJJy"
   },
   "source": [
    " ## The Nexus and the olive tree revisited"
   ]
  },
  {
   "cell_type": "markdown",
   "metadata": {
    "id": "lKY8YoCwNJJy"
   },
   "source": [
    " ## The double life of Daniel Defoe"
   ]
  },
  {
   "cell_type": "markdown",
   "metadata": {
    "id": "lKY8YoCwNJJy"
   },
   "source": [
    " ## My six-year-old son should get a job?"
   ]
  },
  {
   "cell_type": "markdown",
   "metadata": {
    "id": "lKY8YoCwNJJy"
   },
   "source": [
    " ## The Finn and the elephant"
   ]
  },
  {
   "cell_type": "markdown",
   "metadata": {
    "id": "lKY8YoCwNJJy"
   },
   "source": [
    " ## Man exploits man"
   ]
  },
  {
   "cell_type": "markdown",
   "metadata": {
    "id": "lKY8YoCwNJJy"
   },
   "source": [
    " ## Windows 98  in 1997"
   ]
  },
  {
   "cell_type": "markdown",
   "metadata": {
    "id": "lKY8YoCwNJJy"
   },
   "source": [
    " ## Mission imposible?"
   ]
  },
  {
   "cell_type": "markdown",
   "metadata": {
    "id": "lKY8YoCwNJJy"
   },
   "source": [
    " ## Zaire vs Indonesia"
   ]
  },
  {
   "cell_type": "markdown",
   "metadata": {
    "id": "lKY8YoCwNJJy"
   },
   "source": [
    " ## Lazy Japanese and thieving Germans"
   ]
  },
  {
   "cell_type": "markdown",
   "metadata": {
    "id": "lKY8YoCwNJJy"
   },
   "source": [
    " ## Epilogue\n",
    " \n",
    " San Pablo, Octubre 2037\n",
    " \n",
    " *Can things get better?*"
   ]
  },
  {
   "cell_type": "markdown",
   "metadata": {
    "id": "lKY8YoCwNJJy"
   },
   "source": [
    "- Be independent-minded.\n",
    "- Think for yourself.\n",
    "- Trade agreements.\n",
    "- One can't under-stimate what idiological polititions can do. \n",
    "- Low-productivities activities. (What is the relation with the knowledge used?\n",
    "- Why manufacturing matters.\n",
    "- Beurocratic capabilities.\n",
    "- Knowing and Implementation.\n",
    "- "
   ]
  }
 ],
 "metadata": {
  "colab": {
   "include_colab_link": true,
   "name": "Bad Samaritans: The guilty secrets of rich nations & the threat to global prosperity.ipynb",
   "provenance": []
  },
  "kernelspec": {
   "display_name": "Python 3",
   "language": "python",
   "name": "python3"
  },
  "language_info": {
   "codemirror_mode": {
    "name": "ipython",
    "version": 3
   },
   "file_extension": ".py",
   "mimetype": "text/x-python",
   "name": "python",
   "nbconvert_exporter": "python",
   "pygments_lexer": "ipython3",
   "version": "3.7.3"
  },
  "metadata": {
   "interpreter": {
    "hash": "f92b2924b84ff19c1c3dc485f7644d4486f64738191026bf8e6de303969141b5"
   }
  }
 },
 "nbformat": 4,
 "nbformat_minor": 1
}
