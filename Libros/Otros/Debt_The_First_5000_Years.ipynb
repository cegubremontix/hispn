{
  "nbformat": 4,
  "nbformat_minor": 0,
  "metadata": {
    "colab": {
      "name": "Debt: The First 5000 Years.ipynb",
      "provenance": [],
      "authorship_tag": "ABX9TyNgPPtQk0qL0/xpDUYkJSij",
      "include_colab_link": true
    },
    "kernelspec": {
      "name": "python3",
      "display_name": "Python 3"
    },
    "language_info": {
      "name": "python"
    }
  },
  "cells": [
    {
      "cell_type": "markdown",
      "metadata": {
        "id": "view-in-github",
        "colab_type": "text"
      },
      "source": [
        "<a href=\"https://colab.research.google.com/github/dbremont/Notas/blob/main/Libros/Otros/Debt_The_First_5000_Years.ipynb\" target=\"_parent\"><img src=\"https://colab.research.google.com/assets/colab-badge.svg\" alt=\"Open In Colab\"/></a>"
      ]
    },
    {
      "cell_type": "markdown",
      "metadata": {
        "id": "wqFEzPzPwoXS"
      },
      "source": [
        "# Debt: The First 5000 Years\n",
        "Libros/Otros"
      ]
    },
    {
      "cell_type": "markdown",
      "metadata": {
        "id": "_FQlaSkRcX_j"
      },
      "source": [
        "- Dionysius The Areopagite (pseudonym)\n",
        "- Talisman tradition in china, its seams that the ying/yang symbol grow of them.\n",
        "- In the islamic world market fluctionation we seen as merely another manifestation of devine will.\n",
        "\n",
        "- why if they were great 'capitals' in the islamic world the 'Industrials Revolution' did not happend\n",
        "\n",
        "- Maybe lack of competition, maybe, traders were not able to develop  'advaced' finantial machanism to deal with the riks. of the enterprise.\n",
        "\n",
        "- The modern idea of a compnay we develop in the high midle ages.\n",
        "\n",
        "- A company seems natural, but not when we study its history its a great idea.\n",
        "\n",
        "- Los monasterios de los 'cistenciences' parecidos a los monasterios budistas chinos. **Capitalismo Monastico**"
      ]
    }
  ]
}