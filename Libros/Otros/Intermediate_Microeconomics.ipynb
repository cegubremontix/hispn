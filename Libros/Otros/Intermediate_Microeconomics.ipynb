{
  "nbformat": 4,
  "nbformat_minor": 0,
  "metadata": {
    "colab": {
      "name": "Intermediate Microeconomics.ipynb",
      "provenance": [],
      "authorship_tag": "ABX9TyMn1sFrFbdSSab9HhZAWxbV",
      "include_colab_link": true
    },
    "kernelspec": {
      "name": "python3",
      "display_name": "Python 3"
    },
    "language_info": {
      "name": "python"
    }
  },
  "cells": [
    {
      "cell_type": "markdown",
      "metadata": {
        "id": "view-in-github",
        "colab_type": "text"
      },
      "source": [
        "<a href=\"https://colab.research.google.com/github/dbremont/Notas/blob/main/Libros/Otros/Intermediate_Microeconomics.ipynb\" target=\"_parent\"><img src=\"https://colab.research.google.com/assets/colab-badge.svg\" alt=\"Open In Colab\"/></a>"
      ]
    },
    {
      "cell_type": "markdown",
      "source": [
        "## The Market"
      ],
      "metadata": {
        "id": "APVlqQMV0546"
      }
    },
    {
      "cell_type": "markdown",
      "source": [
        "## Budget Constraint"
      ],
      "metadata": {
        "id": "-UAtuRhE05-I"
      }
    },
    {
      "cell_type": "markdown",
      "source": [
        "## Preferences"
      ],
      "metadata": {
        "id": "kskcYNKq0-va"
      }
    },
    {
      "cell_type": "markdown",
      "source": [
        "## Utility"
      ],
      "metadata": {
        "id": "p1Py2QS-1BIi"
      }
    },
    {
      "cell_type": "markdown",
      "source": [
        "## Choice"
      ],
      "metadata": {
        "id": "G2iZ7rH012he"
      }
    },
    {
      "cell_type": "markdown",
      "source": [
        "## Demand"
      ],
      "metadata": {
        "id": "Y8j1yvMl16B3"
      }
    },
    {
      "cell_type": "markdown",
      "source": [
        "## Revealed Preference"
      ],
      "metadata": {
        "id": "O3Opxz58164e"
      }
    },
    {
      "cell_type": "markdown",
      "source": [
        "## Slutsky Equation"
      ],
      "metadata": {
        "id": "4ZYD6ZFV1_B3"
      }
    },
    {
      "cell_type": "markdown",
      "source": [
        "## Buying and Selling"
      ],
      "metadata": {
        "id": "O43Gp_2z2B_V"
      }
    },
    {
      "cell_type": "markdown",
      "source": [
        "##  Intercorporal Choice"
      ],
      "metadata": {
        "id": "Wk9Ls3Tz2Esf"
      }
    },
    {
      "cell_type": "markdown",
      "source": [
        "## Asset Markets"
      ],
      "metadata": {
        "id": "FStv-xH-2IA9"
      }
    },
    {
      "cell_type": "markdown",
      "source": [
        "## Uncertainty"
      ],
      "metadata": {
        "id": "wed0Pnun2J1N"
      }
    },
    {
      "cell_type": "markdown",
      "source": [
        "## Risky Assets"
      ],
      "metadata": {
        "id": "ZzvJkIrv2M1G"
      }
    },
    {
      "cell_type": "markdown",
      "source": [
        "## Consumer's Surplus"
      ],
      "metadata": {
        "id": "R8nq78J_2PQy"
      }
    },
    {
      "cell_type": "markdown",
      "source": [
        "## Market Demand"
      ],
      "metadata": {
        "id": "sgO2uV7M2SdF"
      }
    },
    {
      "cell_type": "markdown",
      "source": [
        "## Equilibrium"
      ],
      "metadata": {
        "id": "4GhQw-3h2VQ7"
      }
    },
    {
      "cell_type": "markdown",
      "source": [
        "## Measurement"
      ],
      "metadata": {
        "id": "_4aCK1Eb2Y8D"
      }
    },
    {
      "cell_type": "markdown",
      "source": [
        "##  Auctions"
      ],
      "metadata": {
        "id": "j-D_4bqp2a_o"
      }
    },
    {
      "cell_type": "markdown",
      "source": [
        "## Technology"
      ],
      "metadata": {
        "id": "JiJeVVVc2dGJ"
      }
    },
    {
      "cell_type": "markdown",
      "source": [
        "## Profit Maximization"
      ],
      "metadata": {
        "id": "huXWWD862eoN"
      }
    },
    {
      "cell_type": "markdown",
      "source": [
        "## Cost Minimization"
      ],
      "metadata": {
        "id": "lqNNnpMO2gv3"
      }
    },
    {
      "cell_type": "markdown",
      "source": [
        "## Cost Curves"
      ],
      "metadata": {
        "id": "qy7JmKtV2lOX"
      }
    },
    {
      "cell_type": "markdown",
      "source": [
        "## Firm Supply"
      ],
      "metadata": {
        "id": "D95gkxRN2nyC"
      }
    },
    {
      "cell_type": "markdown",
      "source": [
        "## Industry Supply"
      ],
      "metadata": {
        "id": "9TGiu53O2pig"
      }
    },
    {
      "cell_type": "markdown",
      "source": [
        "## Monopoly"
      ],
      "metadata": {
        "id": "BRPjttwZ4pfV"
      }
    },
    {
      "cell_type": "markdown",
      "source": [
        "## Monopoly Behavior"
      ],
      "metadata": {
        "id": "0k6mqf5p4sRz"
      }
    },
    {
      "cell_type": "markdown",
      "source": [
        "## Factor Markets"
      ],
      "metadata": {
        "id": "xMa2IeS64vMW"
      }
    },
    {
      "cell_type": "markdown",
      "source": [
        "## Oligopoly"
      ],
      "metadata": {
        "id": "HM9cZYyc4xlf"
      }
    },
    {
      "cell_type": "markdown",
      "source": [
        "## Game Theory"
      ],
      "metadata": {
        "id": "VxVU1uOV4zSE"
      }
    },
    {
      "cell_type": "markdown",
      "source": [
        "## Game Applications"
      ],
      "metadata": {
        "id": "zw7hG4LX40qU"
      }
    },
    {
      "cell_type": "markdown",
      "source": [
        "## Behavioral Economics"
      ],
      "metadata": {
        "id": "jzJRr5qG44rH"
      }
    },
    {
      "cell_type": "markdown",
      "source": [
        "## Exchange"
      ],
      "metadata": {
        "id": "UzCuYjs_5Am4"
      }
    },
    {
      "cell_type": "markdown",
      "source": [
        "## Production"
      ],
      "metadata": {
        "id": "ajqFvVGO5DOe"
      }
    },
    {
      "cell_type": "markdown",
      "source": [
        "## Welfare"
      ],
      "metadata": {
        "id": "g2kxDtfJ5FUa"
      }
    },
    {
      "cell_type": "markdown",
      "source": [
        "## Externalities"
      ],
      "metadata": {
        "id": "T4bh7BWB5GxJ"
      }
    },
    {
      "cell_type": "markdown",
      "source": [
        "## Information Technology"
      ],
      "metadata": {
        "id": "KEMvjSMx5IET"
      }
    },
    {
      "cell_type": "markdown",
      "source": [
        "## Public Goods"
      ],
      "metadata": {
        "id": "dXRx-fAV5K3I"
      }
    },
    {
      "cell_type": "markdown",
      "source": [
        "## Asymmetric Information"
      ],
      "metadata": {
        "id": "G5-LKBkv5MGM"
      }
    },
    {
      "cell_type": "markdown",
      "source": [
        "## Mathematical Appendix"
      ],
      "metadata": {
        "id": "-EcDcftQ5PVh"
      }
    }
  ]
}