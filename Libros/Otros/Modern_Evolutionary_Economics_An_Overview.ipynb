{
  "nbformat": 4,
  "nbformat_minor": 0,
  "metadata": {
    "colab": {
      "name": "Modern Evolutionary Economics An Overview.ipynb",
      "provenance": [],
      "toc_visible": true,
      "authorship_tag": "ABX9TyMdsTKstW6CrMkZFBeUHfsR",
      "include_colab_link": true
    },
    "kernelspec": {
      "name": "python3",
      "display_name": "Python 3"
    },
    "language_info": {
      "name": "python"
    }
  },
  "cells": [
    {
      "cell_type": "markdown",
      "metadata": {
        "id": "view-in-github",
        "colab_type": "text"
      },
      "source": [
        "<a href=\"https://colab.research.google.com/github/dbremont/Notas/blob/main/Libros/Otros/Modern_Evolutionary_Economics_An_Overview.ipynb\" target=\"_parent\"><img src=\"https://colab.research.google.com/assets/colab-badge.svg\" alt=\"Open In Colab\"/></a>"
      ]
    },
    {
      "cell_type": "markdown",
      "metadata": {
        "id": "5oWqFYBJpu6f"
      },
      "source": [
        "## Economist from an Evolutionary Perspective"
      ]
    },
    {
      "cell_type": "markdown",
      "metadata": {
        "id": "hKBla_a_qXQC"
      },
      "source": [
        "## Technological Advanced jas an Evololutionary Process"
      ]
    },
    {
      "cell_type": "markdown",
      "metadata": {
        "id": "-1RY1pvkqb9g"
      },
      "source": [
        "## The Behavior of Capabilities of Firms"
      ]
    },
    {
      "cell_type": "markdown",
      "metadata": {
        "id": "Wkhya3XXqfil"
      },
      "source": [
        "## Shumpeterian Competition and Industrial Dynamics"
      ]
    },
    {
      "cell_type": "markdown",
      "metadata": {
        "id": "muZAK1-2qmse"
      },
      "source": [
        "## Evolutionary Perspectives on Long Run Economic Development"
      ]
    },
    {
      "cell_type": "markdown",
      "metadata": {
        "id": "DvI0g80TquPJ"
      },
      "source": [
        "## Economic Catch-up by Latecomers as an Evolutionary Process"
      ]
    },
    {
      "cell_type": "markdown",
      "metadata": {
        "id": "6TCl2WNovqnz"
      },
      "source": [
        "- Differences among national economies in their productivity levels.\n",
        "- Learning and capability building."
      ]
    },
    {
      "cell_type": "markdown",
      "metadata": {
        "id": "WHC7rIX1q0Bm"
      },
      "source": [
        "## The Evolution of Evolutionary Economics"
      ]
    }
  ]
}