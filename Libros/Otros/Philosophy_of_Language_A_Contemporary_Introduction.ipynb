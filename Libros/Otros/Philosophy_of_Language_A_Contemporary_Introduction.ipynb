{
  "nbformat": 4,
  "nbformat_minor": 0,
  "metadata": {
    "colab": {
      "name": "Philosophy of Language: A Contemporary Introduction.ipynb",
      "provenance": [],
      "authorship_tag": "ABX9TyMCqabvaU7JQOe63bTSWs7V",
      "include_colab_link": true
    },
    "kernelspec": {
      "name": "python3",
      "display_name": "Python 3"
    },
    "language_info": {
      "name": "python"
    }
  },
  "cells": [
    {
      "cell_type": "markdown",
      "metadata": {
        "id": "view-in-github",
        "colab_type": "text"
      },
      "source": [
        "<a href=\"https://colab.research.google.com/github/dbremont/Notas/blob/main/Libros/Otros/Philosophy_of_Language_A_Contemporary_Introduction.ipynb\" target=\"_parent\"><img src=\"https://colab.research.google.com/assets/colab-badge.svg\" alt=\"Open In Colab\"/></a>"
      ]
    },
    {
      "cell_type": "markdown",
      "source": [
        "https://www.amazon.com/progress-tracker/package/ref=pt_redirect_from_gp?_encoding=UTF8&from=gp&itemId=&orderId=111-3276479-9789839&packageIndex=0&shipmentId=17930818150025"
      ],
      "metadata": {
        "id": "ZuYVg0T4sbjw"
      }
    }
  ]
}