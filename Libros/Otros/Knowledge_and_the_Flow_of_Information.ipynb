{
  "nbformat": 4,
  "nbformat_minor": 0,
  "metadata": {
    "colab": {
      "name": "Knowledge and the Flow of Information.ipynb",
      "provenance": [],
      "authorship_tag": "ABX9TyM6X/cYvFMHxO4i5BDhYqyO",
      "include_colab_link": true
    },
    "kernelspec": {
      "name": "python3",
      "display_name": "Python 3"
    },
    "language_info": {
      "name": "python"
    }
  },
  "cells": [
    {
      "cell_type": "markdown",
      "metadata": {
        "id": "view-in-github",
        "colab_type": "text"
      },
      "source": [
        "<a href=\"https://colab.research.google.com/github/dbremont/Notas/blob/main/Libros/Otros/Knowledge_and_the_Flow_of_Information.ipynb\" target=\"_parent\"><img src=\"https://colab.research.google.com/assets/colab-badge.svg\" alt=\"Open In Colab\"/></a>"
      ]
    },
    {
      "cell_type": "markdown",
      "source": [
        "# Information"
      ],
      "metadata": {
        "id": "6XZQh0IKjkZQ"
      }
    },
    {
      "cell_type": "markdown",
      "source": [
        "## Communication Theory"
      ],
      "metadata": {
        "id": "6zPDUwOfkO-J"
      }
    },
    {
      "cell_type": "markdown",
      "source": [
        "## Communication and Information"
      ],
      "metadata": {
        "id": "FjdqzBy-kQm5"
      }
    },
    {
      "cell_type": "markdown",
      "source": [
        "## A Semantic Theory of Information"
      ],
      "metadata": {
        "id": "Majw4AClkTOo"
      }
    },
    {
      "cell_type": "markdown",
      "source": [
        "# Knowledge and Perception"
      ],
      "metadata": {
        "id": "UsbpvaN0kWb8"
      }
    },
    {
      "cell_type": "markdown",
      "source": [
        "# Knowledge"
      ],
      "metadata": {
        "id": "ju9GqqHekYkB"
      }
    },
    {
      "cell_type": "markdown",
      "source": [
        "##  The Communication Channel"
      ],
      "metadata": {
        "id": "q82U68Uekajo"
      }
    },
    {
      "cell_type": "markdown",
      "source": [
        "## Sensation and Perception"
      ],
      "metadata": {
        "id": "vtiwQ1zykeFj"
      }
    },
    {
      "cell_type": "markdown",
      "source": [
        "# Meaning and Belief"
      ],
      "metadata": {
        "id": "7guEkxckkgdi"
      }
    },
    {
      "cell_type": "markdown",
      "source": [
        "## Coding and Content"
      ],
      "metadata": {
        "id": "2mQnXHkSkjPT"
      }
    },
    {
      "cell_type": "markdown",
      "source": [
        "## The Structure of Belief"
      ],
      "metadata": {
        "id": "WVyhyqa3kl1i"
      }
    },
    {
      "cell_type": "markdown",
      "source": [
        "## Concepts and Meaning"
      ],
      "metadata": {
        "id": "HNofqmZJkpXH"
      }
    }
  ]
}