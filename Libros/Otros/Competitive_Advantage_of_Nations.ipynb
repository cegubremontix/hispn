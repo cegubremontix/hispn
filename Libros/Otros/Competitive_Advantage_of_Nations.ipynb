{
  "nbformat": 4,
  "nbformat_minor": 0,
  "metadata": {
    "colab": {
      "name": "Competitive Advantage of Nations.ipynb",
      "provenance": [],
      "authorship_tag": "ABX9TyNrN6/YQLxK5aiUcsjb6+uC",
      "include_colab_link": true
    },
    "kernelspec": {
      "name": "python3",
      "display_name": "Python 3"
    },
    "language_info": {
      "name": "python"
    }
  },
  "cells": [
    {
      "cell_type": "markdown",
      "metadata": {
        "id": "view-in-github",
        "colab_type": "text"
      },
      "source": [
        "<a href=\"https://colab.research.google.com/github/dbremont/Notas/blob/main/Libros/Otros/Competitive_Advantage_of_Nations.ipynb\" target=\"_parent\"><img src=\"https://colab.research.google.com/assets/colab-badge.svg\" alt=\"Open In Colab\"/></a>"
      ]
    },
    {
      "cell_type": "markdown",
      "source": [
        "## The Need for a New Paradigm"
      ],
      "metadata": {
        "id": "RzDX2zxG-Tmk"
      }
    },
    {
      "cell_type": "markdown",
      "source": [
        "# Foundations"
      ],
      "metadata": {
        "id": "OKTEN0EV-aAW"
      }
    },
    {
      "cell_type": "markdown",
      "source": [
        "## Determinands of National Competitive Advantage"
      ],
      "metadata": {
        "id": "bUbvRpqc-ciu"
      }
    },
    {
      "cell_type": "markdown",
      "source": [
        "## Dynamics of National Advantage"
      ],
      "metadata": {
        "id": "4B3RRUY4-hen"
      }
    },
    {
      "cell_type": "markdown",
      "source": [
        "# Industries"
      ],
      "metadata": {
        "id": "ShhGtlZ_-mb6"
      }
    },
    {
      "cell_type": "markdown",
      "source": [
        "## Four Studies in National Competitive Advantage"
      ],
      "metadata": {
        "id": "zO7XH86z-8B-"
      }
    },
    {
      "cell_type": "markdown",
      "source": [
        "## National Competitive Advantage in Services"
      ],
      "metadata": {
        "id": "X-wk9y0K_BtC"
      }
    },
    {
      "cell_type": "markdown",
      "source": [
        "# Nations"
      ],
      "metadata": {
        "id": "V5pwT2W2_HB-"
      }
    },
    {
      "cell_type": "markdown",
      "source": [
        "## Patterns of National Competive Advantage: The Early Postward Winners"
      ],
      "metadata": {
        "id": "j8hR81Ur_Jjr"
      }
    },
    {
      "cell_type": "markdown",
      "source": [
        "## Emerging Nations in the 1970s and 1980s"
      ],
      "metadata": {
        "id": "vv5UHHDn_Svm"
      }
    },
    {
      "cell_type": "markdown",
      "source": [
        "## Shifting National Advantage"
      ],
      "metadata": {
        "id": "mJu8lNhw_XjH"
      }
    },
    {
      "cell_type": "markdown",
      "source": [
        "## The Competitive Development of National Economist"
      ],
      "metadata": {
        "id": "Z9X7UgHv_b-f"
      }
    },
    {
      "cell_type": "markdown",
      "source": [
        "# Implications"
      ],
      "metadata": {
        "id": "5EghhfOF_gWN"
      }
    },
    {
      "cell_type": "markdown",
      "source": [
        "## Company Strategy"
      ],
      "metadata": {
        "id": "GZy9RQFH_iOK"
      }
    },
    {
      "cell_type": "markdown",
      "source": [
        "## Goverment Policy"
      ],
      "metadata": {
        "id": "hLxtn3tr_kNt"
      }
    },
    {
      "cell_type": "markdown",
      "source": [
        "## National Agendas"
      ],
      "metadata": {
        "id": "Lr6vFFf1_lyL"
      }
    }
  ]
}