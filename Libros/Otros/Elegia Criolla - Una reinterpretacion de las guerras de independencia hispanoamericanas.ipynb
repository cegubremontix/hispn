{
 "cells": [
  {
   "cell_type": "markdown",
   "metadata": {},
   "source": [
    "ri: F\n",
    "title: ELegia Criolla\n",
    "---\n",
    "\n",
    "Elegia: Genero literario que designa un poema  de lamentacion.\n",
    "Elegia biene del griego (Elegos) que significa lamento, canto triste.\n",
    "\n",
    "\"El pasado es un mundo estranio donde las cosas se hacen distintas que en el presente.\"\n",
    "\n",
    "La Legitimidad del Poder:\n",
    "\n",
    "- Como un grupo humano reconoce a otro la potestad de gobernar, dar leyes, recolectar impuestos, etc.\n",
    "- Distintas formas de conseguir un poder legito de gobernar, proceso?\n",
    "      - Legitimidad divina. (Rey por la gracia de dios).\n",
    "      - \n",
    "\n",
    "- El poder no se puede ejercer por el uso de la fuerza.\n",
    "- El reconocimiento puede ser implicito o explicito.\n",
    "\n",
    "\n",
    "------------------------------------------\n",
    "\n",
    "Por que volver sobre la guerras de independencia:\n",
    "\n",
    "- Entender el pasado permite imaginar distintos futuros.\n",
    "- Hay muchas explicaciones para la probresa y falta de institucionalidad, que se basan en versiones erradas del pasado. \n",
    "\n",
    " \n",
    "\n",
    "- Que es un Sujeto Politico?\n",
    "- Patria vs Nacion\n",
    "- Como han evolucionado el concepto de patria y nacion.\n",
    "\n",
    "- Que es una nacion?\n",
    "- La nacion en la modernidad?\n",
    "\n",
    "Es posible en el antiguo regimen hablar de colonias? Ya sea positivo o no el termino?\n",
    "Recordar que en el antituo regimen el soberano era el rey y no la nacion, ya que la nacion no era\n",
    "sujeto politico.\n",
    "\n",
    "- Espania como estado/nacion nace en el mismo lugar de mexico.\n",
    "\n",
    "- Las naciones en la america latina no son la causa de la independencia son la consecuencia de la indepedencia.\n",
    "\n",
    "- \"Las Guerras de indepedneica fueron un conflicto politico, de lucha poir  la legitimidad del poder, y es en este contexto el ue deben \n",
    "ser estudiadas si se quieren entender sus claves ultimas y definitivas\".\n",
    "\n",
    "- Ya que el conflico social estaba antes y despues  de las \"Guerras de Independencia\".\n",
    "\n",
    "- Modelo politico de la interpretacion de la indepedencia.\n",
    "\n",
    "Resumen: Marco politico de la indepedencia, manejando el marco de sus tiempo.\\\n",
    "Para responder la pregunta del capitulo, entender el pasado, nos permite plantearnos nuevos futuros.\n",
    "\n",
    "---------------------------------------------\n",
    "\n",
    "Las Palabras como armas: Revolucion, guerrra, de independencia o guerra civil?\n",
    "\n",
    "\n",
    "\n"
   ]
  }
 ],
 "metadata": {
  "kernelspec": {
   "display_name": "Python 2.7.18 64-bit",
   "name": "python2718jvsc74a57bd0f92b2924b84ff19c1c3dc485f7644d4486f64738191026bf8e6de303969141b5"
  },
  "language_info": {
   "name": "python",
   "version": ""
  },
  "metadata": {
   "interpreter": {
    "hash": "f92b2924b84ff19c1c3dc485f7644d4486f64738191026bf8e6de303969141b5"
   }
  },
  "orig_nbformat": 2
 },
 "nbformat": 4,
 "nbformat_minor": 2
}