{
  "nbformat": 4,
  "nbformat_minor": 0,
  "metadata": {
    "kernelspec": {
      "display_name": "Python 2.7.18 64-bit",
      "name": "python2718jvsc74a57bd0f92b2924b84ff19c1c3dc485f7644d4486f64738191026bf8e6de303969141b5"
    },
    "language_info": {
      "name": "python",
      "version": ""
    },
    "metadata": {
      "interpreter": {
        "hash": "f92b2924b84ff19c1c3dc485f7644d4486f64738191026bf8e6de303969141b5"
      }
    },
    "orig_nbformat": 2,
    "colab": {
      "name": "Elegia Criolla - Una reinterpretacion de las guerras de independencia hispanoamericanas.ipynb",
      "provenance": [],
      "toc_visible": true,
      "include_colab_link": true
    }
  },
  "cells": [
    {
      "cell_type": "markdown",
      "metadata": {
        "id": "view-in-github",
        "colab_type": "text"
      },
      "source": [
        "<a href=\"https://colab.research.google.com/github/dbremont/Notas/blob/main/Libros/Otros/Elegia%20Criolla%20-%20Una%20reinterpretacion%20de%20las%20guerras%20de%20independencia%20hispanoamericanas.ipynb\" target=\"_parent\"><img src=\"https://colab.research.google.com/assets/colab-badge.svg\" alt=\"Open In Colab\"/></a>"
      ]
    },
    {
      "cell_type": "markdown",
      "metadata": {
        "id": "vUYD6tACknpQ"
      },
      "source": [
        "# Elegia Criolla\n",
        "\n",
        "**Elegia**: Genero literario que designa un poema  de lamentacion.\n",
        "Elegia biene del griego (Elegos) que significa lamento, canto triste.\n",
        "\n",
        "```\n",
        "Y de esa gigantesca expedición panhelénica, la victoriosa, la ilustre,\n",
        "la renombrada, la glorificada\n",
        "como ninguna otra lo fuera nunca, \n",
        "de tal expedición de quien nacimos nosotros; un mundo\n",
        "griego inmenso, nuevo.\n",
        "\n",
        "Nosotros: los alejandrinos, los de Antioquía, \n",
        "los seléucidas, y tantos otros\n",
        "griegos de Egipto y de Siria,\n",
        "y los de Media, y los de Persia, y de otros sitios.\n",
        "\n",
        "Con nuestros opulentos estados,\n",
        "con la accción sutil de nuestros gobernantes.\n",
        "Y nuestra común lengua griega\n",
        "conocida por todos desde Bactria hasta la India\n",
        "\n",
        "< Constantino Kavafis, En el año  200 antes de cristo.\n",
        "```\n",
        "\n",
        "\n"
      ]
    },
    {
      "cell_type": "markdown",
      "metadata": {
        "id": "znBq1e-Q6r4M"
      },
      "source": [
        "## ¿Por qué volver sobre las guerras de independencia?"
      ]
    },
    {
      "cell_type": "markdown",
      "metadata": {
        "id": "ou-6MIIW7U4P"
      },
      "source": [
        "\"El pasado es un mundo estraño donde las cosas se hacen distintas que en el presente.\"\n",
        "\n",
        "> Volver sobre las guerras de independencia es tanto reescribir el pasado como soñar un futuro diferente. La posibilidad de represnar lo ocurrido  entre 1810 y 1821 como guerras civiles yu no como guerras de independencia no solo are la prespectiva de una nueva mirada sobre el pasado sino también sobre el presente y el futuro.\n",
        "\n",
        "La Legitimidad del Poder:\n",
        "\n",
        "- Como un grupo humano reconoce a otro la potestad de gobernar, dar leyes, recolectar impuestos, etc.\n",
        "- Distintas formas de conseguir un poder legito de gobernar, proceso?\n",
        "  - Legitimidad divina. (Rey por la gracia de dios).\n",
        "\n",
        "- El poder no se puede ejercer por el uso de la fuerza.\n",
        "- El reconocimiento puede ser implicito o explicito.\n",
        "\n",
        "---\n",
        "\n",
        "Por que volver sobre la guerras de independencia:\n",
        "\n",
        "- Entender el pasado permite imaginar distintos futuros.\n",
        "- Hay muchas explicaciones para la probresa y falta de institucionalidad, que se basan en versiones erradas del pasado. \n",
        "\n",
        " \n",
        "\n",
        "- Que es un Sujeto Politico?\n",
        "- Patria vs Nacion\n",
        "- Como han evolucionado el concepto de patria y nacion.\n",
        "\n",
        "- Que es una nacion?\n",
        "- La nacion en la modernidad?\n",
        "\n",
        "Es posible en el antiguo regimen hablar de colonias? Ya sea positivo o no el termino?\n",
        "Recordar que en el antituo regimen el soberano era el rey y no la nacion, ya que la nacion no era\n",
        "sujeto politico.\n",
        "\n",
        "- España como estado/nacion nace en el mismo lugar de mexico.\n",
        "\n",
        "- Las naciones en la america latina no son la causa de la independencia son la consecuencia de la indepedencia.\n",
        "\n",
        "- \"Las Guerras de indepedneica fueron un conflicto politico, de lucha poir  la legitimidad del poder, y es en este contexto el ue deben \n",
        "ser estudiadas si se quieren entender sus claves ultimas y definitivas\".\n",
        "\n",
        "- Ya que el conflico social estaba antes y despues  de las \"Guerras de Independencia\".\n",
        "\n",
        "- Modelo politico de la interpretacion de la indepedencia.\n",
        "\n",
        "Resumen: Marco politico de la indepedencia, manejando el marco de sus tiempo.\\\n",
        "Para responder la pregunta del capitulo, entender el pasado, nos permite plantearnos nuevos futuros.\n",
        "\n",
        "---------------------------------------------\n",
        "\n",
        "Las Palabras como armas: Revolucion, guerrra, de independencia o guerra civil?\n"
      ]
    },
    {
      "cell_type": "markdown",
      "metadata": {
        "id": "1FWyiPUf67sP"
      },
      "source": [
        "## ¿Unas guerras de liberación nacional sin naciones?"
      ]
    },
    {
      "cell_type": "markdown",
      "metadata": {
        "id": "3Di9ZHcA7AeI"
      },
      "source": [
        "## Criollos contra peninsulares: La bella leyenda"
      ]
    },
    {
      "cell_type": "markdown",
      "metadata": {
        "id": "KbRhFHkj7E-E"
      },
      "source": [
        "## De  la revolución de la Independia a las revoluciones de la independencias"
      ]
    }
  ]
}