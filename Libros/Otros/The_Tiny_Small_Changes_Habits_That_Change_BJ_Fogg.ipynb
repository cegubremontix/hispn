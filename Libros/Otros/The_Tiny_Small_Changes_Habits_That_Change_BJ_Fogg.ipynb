{
  "nbformat": 4,
  "nbformat_minor": 0,
  "metadata": {
    "kernelspec": {
      "display_name": "Python 2.7.18 64-bit",
      "name": "python2718jvsc74a57bd0f92b2924b84ff19c1c3dc485f7644d4486f64738191026bf8e6de303969141b5"
    },
    "language_info": {
      "name": "python",
      "version": ""
    },
    "metadata": {
      "interpreter": {
        "hash": "f92b2924b84ff19c1c3dc485f7644d4486f64738191026bf8e6de303969141b5"
      }
    },
    "orig_nbformat": 2,
    "colab": {
      "name": "The Tiny Small Changes Habits That Change BJ. Fogg.ipynb",
      "provenance": [],
      "include_colab_link": true
    }
  },
  "cells": [
    {
      "cell_type": "markdown",
      "metadata": {
        "id": "view-in-github",
        "colab_type": "text"
      },
      "source": [
        "<a href=\"https://colab.research.google.com/github/dbremont/Notas/blob/main/Libros/Otros/The_Tiny_Small_Changes_Habits_That_Change_BJ_Fogg.ipynb\" target=\"_parent\"><img src=\"https://colab.research.google.com/assets/colab-badge.svg\" alt=\"Open In Colab\"/></a>"
      ]
    },
    {
      "cell_type": "markdown",
      "metadata": {
        "id": "yW_VXPlXNHTd"
      },
      "source": [
        "The Tiny Small Changes Habits That Change BJ. Fogg"
      ]
    },
    {
      "cell_type": "markdown",
      "source": [
        "## The Elements of Behavior"
      ],
      "metadata": {
        "id": "87OhqtI7TzMm"
      }
    },
    {
      "cell_type": "markdown",
      "source": [
        "## Motivation-Focus on Matching"
      ],
      "metadata": {
        "id": "zizrm0f7XN9z"
      }
    },
    {
      "cell_type": "markdown",
      "source": [
        "## Ability-Easy Does It"
      ],
      "metadata": {
        "id": "wwdDZDTcXN2m"
      }
    },
    {
      "cell_type": "markdown",
      "source": [
        "## Prompts-The Power of After"
      ],
      "metadata": {
        "id": "zh6lBcv4XUte"
      }
    },
    {
      "cell_type": "markdown",
      "source": [
        "## Emotions Create Habits"
      ],
      "metadata": {
        "id": "celxzoKmXYzj"
      }
    },
    {
      "cell_type": "markdown",
      "source": [
        "## Growing Your Habits from Tiny to Transformative"
      ],
      "metadata": {
        "id": "0AMiusWrXdh2"
      }
    },
    {
      "cell_type": "markdown",
      "source": [
        "## Untangling Bad Habits: A Systematic Solution"
      ],
      "metadata": {
        "id": "ba60b1dlXh3M"
      }
    },
    {
      "cell_type": "markdown",
      "source": [
        "## How We Change Together"
      ],
      "metadata": {
        "id": "dpV-lp61XnKv"
      }
    },
    {
      "cell_type": "markdown",
      "source": [
        "## Conclucion: The Small Changes That Change Everything"
      ],
      "metadata": {
        "id": "dwlIebTKXpSB"
      }
    }
  ]
}