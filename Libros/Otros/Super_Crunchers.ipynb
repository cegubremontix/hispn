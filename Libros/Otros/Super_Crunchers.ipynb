{
  "nbformat": 4,
  "nbformat_minor": 0,
  "metadata": {
    "colab": {
      "name": "Super Crunchers.ipynb",
      "provenance": [],
      "authorship_tag": "ABX9TyNhTBSDJNf6rBucq4LoOnv9",
      "include_colab_link": true
    },
    "kernelspec": {
      "name": "python3",
      "display_name": "Python 3"
    },
    "language_info": {
      "name": "python"
    }
  },
  "cells": [
    {
      "cell_type": "markdown",
      "metadata": {
        "id": "view-in-github",
        "colab_type": "text"
      },
      "source": [
        "<a href=\"https://colab.research.google.com/github/dbremont/Notas/blob/main/Libros/Otros/Super_Crunchers.ipynb\" target=\"_parent\"><img src=\"https://colab.research.google.com/assets/colab-badge.svg\" alt=\"Open In Colab\"/></a>"
      ]
    },
    {
      "cell_type": "markdown",
      "source": [
        "## Who's Doing Your Thinking for You?"
      ],
      "metadata": {
        "id": "6PasEZbGbpLX"
      }
    },
    {
      "cell_type": "markdown",
      "source": [
        "## Creating Your Own Data with the Flip a Coin"
      ],
      "metadata": {
        "id": "hlJ17zMLbxEC"
      }
    },
    {
      "cell_type": "markdown",
      "source": [
        "## Government by Change"
      ],
      "metadata": {
        "id": "eXPCNkWfb2TF"
      }
    },
    {
      "cell_type": "markdown",
      "source": [
        "## How Should Physicians Treat Evidence-Based Medicine?"
      ],
      "metadata": {
        "id": "zFz6fOHIb4Ki"
      }
    },
    {
      "cell_type": "markdown",
      "source": [
        "## Exeprts Versus Equations"
      ],
      "metadata": {
        "id": "iXGI1vafb9A1"
      }
    },
    {
      "cell_type": "markdown",
      "source": [
        "# Why Not?"
      ],
      "metadata": {
        "id": "FJkujyAcb_bi"
      }
    },
    {
      "cell_type": "markdown",
      "source": [
        "## Are We Having Fun Yet?"
      ],
      "metadata": {
        "id": "qRQD7R2vcBCq"
      }
    },
    {
      "cell_type": "markdown",
      "source": [
        "## The Future of Intuition (and Expertise)"
      ],
      "metadata": {
        "id": "3RH1YxtNcFVj"
      }
    }
  ]
}