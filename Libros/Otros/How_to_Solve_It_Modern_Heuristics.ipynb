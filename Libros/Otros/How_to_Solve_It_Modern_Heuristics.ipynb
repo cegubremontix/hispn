{
  "nbformat": 4,
  "nbformat_minor": 0,
  "metadata": {
    "colab": {
      "name": "How to Solve It: Modern Heuristics.ipynb",
      "provenance": [],
      "authorship_tag": "ABX9TyMtqiRMWKkd9uodeU68VzBo",
      "include_colab_link": true
    },
    "kernelspec": {
      "name": "python3",
      "display_name": "Python 3"
    },
    "language_info": {
      "name": "python"
    }
  },
  "cells": [
    {
      "cell_type": "markdown",
      "metadata": {
        "id": "view-in-github",
        "colab_type": "text"
      },
      "source": [
        "<a href=\"https://colab.research.google.com/github/dbremont/Notas/blob/main/Libros/Otros/How_to_Solve_It_Modern_Heuristics.ipynb\" target=\"_parent\"><img src=\"https://colab.research.google.com/assets/colab-badge.svg\" alt=\"Open In Colab\"/></a>"
      ]
    },
    {
      "cell_type": "markdown",
      "source": [
        "## Introduction"
      ],
      "metadata": {
        "id": "cIkq5doSF7er"
      }
    },
    {
      "cell_type": "markdown",
      "source": [
        "## What Are the Ages of My Three Sons?"
      ],
      "metadata": {
        "id": "lv4CZTSdGDn1"
      }
    },
    {
      "cell_type": "markdown",
      "source": [
        "## How Important Is a Model?\n",
        "Basic Concepts"
      ],
      "metadata": {
        "id": "4izgFPlwGHCM"
      }
    },
    {
      "cell_type": "markdown",
      "source": [
        "## What Are the Prices 7-11?\n",
        "Traditional Methods - Part 1"
      ],
      "metadata": {
        "id": "cR7Bl-eGVuzf"
      }
    },
    {
      "cell_type": "markdown",
      "source": [
        "## What Are the Numbers?\n",
        "Traditional Methods - Part 2"
      ],
      "metadata": {
        "id": "JeWuaMVbGKyr"
      }
    },
    {
      "cell_type": "markdown",
      "source": [
        "# What's the Color of the Bear?\n",
        "Escaping Local Optima"
      ],
      "metadata": {
        "id": "NRs5rd4fGO3t"
      }
    },
    {
      "cell_type": "markdown",
      "source": [
        "## How Good Is Your  Intuition?\n",
        "An Evolutionary Approach"
      ],
      "metadata": {
        "id": "JUnFbBzcGRcC"
      }
    },
    {
      "cell_type": "markdown",
      "source": [
        "## One of These Things Is Not Like the Others\n",
        "Designing Evolutionary Algorithms"
      ],
      "metadata": {
        "id": "tTPqVR0sGUFy"
      }
    },
    {
      "cell_type": "markdown",
      "source": [
        "## What Is the Shortest Way?\n",
        "The Traveling Salesman Problem"
      ],
      "metadata": {
        "id": "1xWS5COTGYc_"
      }
    },
    {
      "cell_type": "markdown",
      "source": [
        "## Who Owns the Zebra?\n",
        "Constraint-Handling Techniques"
      ],
      "metadata": {
        "id": "7urRGb8MGcvJ"
      }
    },
    {
      "cell_type": "markdown",
      "source": [
        "## Can You Tune to the Problem?\n",
        "Tuning the Algorithm to the Problem"
      ],
      "metadata": {
        "id": "TeUYTeiJGhq2"
      }
    },
    {
      "cell_type": "markdown",
      "source": [
        "## Can You Mate in Two Moves?\n",
        "Time-Varying Environments and Noise"
      ],
      "metadata": {
        "id": "lQV8Rmy9GlL1"
      }
    },
    {
      "cell_type": "markdown",
      "source": [
        "## Day of Week of January 1st\n",
        "Neural Networks"
      ],
      "metadata": {
        "id": "av9LtpkXGoZO"
      }
    },
    {
      "cell_type": "markdown",
      "source": [
        "## What Was the Length of the Rope?\n",
        "Fuzzy Systems"
      ],
      "metadata": {
        "id": "gxgCJgTsGqrz"
      }
    },
    {
      "cell_type": "markdown",
      "source": [
        "## Everything Depends on Something Else\n",
        "Coevolutionary Systems"
      ],
      "metadata": {
        "id": "z_hqSYotGtXY"
      }
    },
    {
      "cell_type": "markdown",
      "source": [
        "## Who's Taller?\n",
        "Multicriteria Decision-Making"
      ],
      "metadata": {
        "id": "OpS_BmWgGxFv"
      }
    },
    {
      "cell_type": "markdown",
      "source": [
        "## Do You Like Simple Solutions?\n",
        "Hybrid Systems"
      ],
      "metadata": {
        "id": "Dmec0Ha8G0C7"
      }
    },
    {
      "cell_type": "markdown",
      "source": [
        "## Summary"
      ],
      "metadata": {
        "id": "cQyLvch3G3b5"
      }
    },
    {
      "cell_type": "markdown",
      "source": [
        "## Probability and Statistics"
      ],
      "metadata": {
        "id": "BczmssFTG7X5"
      }
    },
    {
      "cell_type": "markdown",
      "source": [
        "## Problems and Projects"
      ],
      "metadata": {
        "id": "_hA4odB6G85Q"
      }
    }
  ]
}