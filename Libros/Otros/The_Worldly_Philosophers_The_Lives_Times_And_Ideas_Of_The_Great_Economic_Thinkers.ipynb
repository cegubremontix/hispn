{
  "nbformat": 4,
  "nbformat_minor": 0,
  "metadata": {
    "colab": {
      "name": "The Worldly Philosophers: The Lives, Times And Ideas Of The Great Economic Thinkers.ipynb",
      "provenance": [],
      "authorship_tag": "ABX9TyN9osBkJALpK3cJGOlhqpJg",
      "include_colab_link": true
    },
    "kernelspec": {
      "name": "python3",
      "display_name": "Python 3"
    },
    "language_info": {
      "name": "python"
    }
  },
  "cells": [
    {
      "cell_type": "markdown",
      "metadata": {
        "id": "view-in-github",
        "colab_type": "text"
      },
      "source": [
        "<a href=\"https://colab.research.google.com/github/dbremont/Notas/blob/main/Libros/Otros/The_Worldly_Philosophers_The_Lives_Times_And_Ideas_Of_The_Great_Economic_Thinkers.ipynb\" target=\"_parent\"><img src=\"https://colab.research.google.com/assets/colab-badge.svg\" alt=\"Open In Colab\"/></a>"
      ]
    },
    {
      "cell_type": "markdown",
      "source": [
        "## Introduction"
      ],
      "metadata": {
        "id": "Vd_a0UEHCDHg"
      }
    },
    {
      "cell_type": "markdown",
      "source": [
        "## The Economic Revolution"
      ],
      "metadata": {
        "id": "IPR6GLHtCOmw"
      }
    },
    {
      "cell_type": "markdown",
      "source": [
        "## The Wonderful Wolrd of Adam Smith"
      ],
      "metadata": {
        "id": "2YinxY4PCRui"
      }
    },
    {
      "cell_type": "markdown",
      "source": [
        "## The Gloomy Presentiments of Parson Malthaus and David Ricardo"
      ],
      "metadata": {
        "id": "YCRgFmxXCVv3"
      }
    },
    {
      "cell_type": "markdown",
      "source": [
        "## The Dreams of the Utopian Socialists"
      ],
      "metadata": {
        "id": "hyR4hG3wCbWh"
      }
    },
    {
      "cell_type": "markdown",
      "source": [
        "## The Inexorable System of Karl Marx"
      ],
      "metadata": {
        "id": "fEl66MlkChRb"
      }
    },
    {
      "cell_type": "markdown",
      "source": [
        "## The Victorian World and the Underworld of Economics"
      ],
      "metadata": {
        "id": "Fq3SgzveClNs"
      }
    },
    {
      "cell_type": "markdown",
      "source": [
        "## The Savage Society of Thorstein Veblen"
      ],
      "metadata": {
        "id": "Nz112xdGCqaJ"
      }
    },
    {
      "cell_type": "markdown",
      "source": [
        "## The Heresies of Jhon Maynard Keynes"
      ],
      "metadata": {
        "id": "5gdBjZe5Cw8R"
      }
    },
    {
      "cell_type": "markdown",
      "source": [
        "## The Contradictiosn of Joseph Schumpeter"
      ],
      "metadata": {
        "id": "kVRHd2sxC0Dg"
      }
    },
    {
      "cell_type": "markdown",
      "source": [
        "## The End of the Worldly Philosophy?"
      ],
      "metadata": {
        "id": "kmEobp9WC4Lt"
      }
    },
    {
      "cell_type": "markdown",
      "source": [
        "## A Guide to Futher Reading"
      ],
      "metadata": {
        "id": "kLRYQpy9DBvh"
      }
    }
  ]
}