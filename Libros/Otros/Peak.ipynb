{
  "nbformat": 4,
  "nbformat_minor": 0,
  "metadata": {
    "colab": {
      "name": "Peak.ipynb",
      "provenance": [],
      "authorship_tag": "ABX9TyMlRSk/tXMTBqorbiI/g+88",
      "include_colab_link": true
    },
    "kernelspec": {
      "name": "python3",
      "display_name": "Python 3"
    },
    "language_info": {
      "name": "python"
    }
  },
  "cells": [
    {
      "cell_type": "markdown",
      "metadata": {
        "id": "view-in-github",
        "colab_type": "text"
      },
      "source": [
        "<a href=\"https://colab.research.google.com/github/dbremont/Notas/blob/main/Libros/Otros/Peak.ipynb\" target=\"_parent\"><img src=\"https://colab.research.google.com/assets/colab-badge.svg\" alt=\"Open In Colab\"/></a>"
      ]
    },
    {
      "cell_type": "markdown",
      "source": [
        "## The Power of Purposeful Practice"
      ],
      "metadata": {
        "id": "kfGMB558NqZw"
      }
    },
    {
      "cell_type": "markdown",
      "source": [
        "## Harnessing Adaptability"
      ],
      "metadata": {
        "id": "NUpKe5B0NwwV"
      }
    },
    {
      "cell_type": "markdown",
      "source": [
        "## Mental Representations"
      ],
      "metadata": {
        "id": "3Yd2pAH3NzN1"
      }
    },
    {
      "cell_type": "markdown",
      "source": [
        "##  The Gold Standard"
      ],
      "metadata": {
        "id": "4BRYhhhqN13i"
      }
    },
    {
      "cell_type": "markdown",
      "source": [
        "## Principles of Deliberate Practice on the Job"
      ],
      "metadata": {
        "id": "0-bTbQJkN4J2"
      }
    },
    {
      "cell_type": "markdown",
      "source": [
        "## Principles of Deliberate Practice in Everyday Life"
      ],
      "metadata": {
        "id": "7Sx1r47jN8nv"
      }
    },
    {
      "cell_type": "markdown",
      "source": [
        "## The Road to Extraordinary"
      ],
      "metadata": {
        "id": "bD7_N5GDOBwx"
      }
    },
    {
      "cell_type": "markdown",
      "source": [
        "## But What About Natural Talent?"
      ],
      "metadata": {
        "id": "fqSDYqptOEpL"
      }
    },
    {
      "cell_type": "markdown",
      "source": [
        "## Where Do We Go from Here?"
      ],
      "metadata": {
        "id": "bBwY8UbdOKQw"
      }
    }
  ]
}