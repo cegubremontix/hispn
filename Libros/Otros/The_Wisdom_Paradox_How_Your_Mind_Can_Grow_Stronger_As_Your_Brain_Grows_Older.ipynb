{
  "nbformat": 4,
  "nbformat_minor": 0,
  "metadata": {
    "colab": {
      "name": "The Wisdom Paradox: How Your Mind Can Grow Stronger As Your Brain Grows Older.ipynb",
      "provenance": [],
      "authorship_tag": "ABX9TyNgVujBfy+ZEWx6bBeu/pBE",
      "include_colab_link": true
    },
    "kernelspec": {
      "name": "python3",
      "display_name": "Python 3"
    },
    "language_info": {
      "name": "python"
    }
  },
  "cells": [
    {
      "cell_type": "markdown",
      "metadata": {
        "id": "view-in-github",
        "colab_type": "text"
      },
      "source": [
        "<a href=\"https://colab.research.google.com/github/dbremont/Notas/blob/main/Libros/Otros/The_Wisdom_Paradox_How_Your_Mind_Can_Grow_Stronger_As_Your_Brain_Grows_Older.ipynb\" target=\"_parent\"><img src=\"https://colab.research.google.com/assets/colab-badge.svg\" alt=\"Open In Colab\"/></a>"
      ]
    },
    {
      "cell_type": "markdown",
      "source": [
        "## The Life of Your Brain"
      ],
      "metadata": {
        "id": "8jNL9tQisTTg"
      }
    },
    {
      "cell_type": "markdown",
      "source": [
        "## Seasons of the Brain"
      ],
      "metadata": {
        "id": "SdokYza9sWxG"
      }
    },
    {
      "cell_type": "markdown",
      "source": [
        "## Aging and Powerful Minds in History"
      ],
      "metadata": {
        "id": "7WzyWA_tsYti"
      }
    },
    {
      "cell_type": "markdown",
      "source": [
        "## Wisdom Throughout Civilizations"
      ],
      "metadata": {
        "id": "Wt10Rl34seHO"
      }
    },
    {
      "cell_type": "markdown",
      "source": [
        "## Pattern Power"
      ],
      "metadata": {
        "id": "7emfp1OhshtR"
      }
    },
    {
      "cell_type": "markdown",
      "source": [
        "## Adventures on Memory Lane"
      ],
      "metadata": {
        "id": "L9Q2Xlj3sjet"
      }
    },
    {
      "cell_type": "markdown",
      "source": [
        "## Memories That Do Not Fade"
      ],
      "metadata": {
        "id": "LjyhHVKXsl4x"
      }
    },
    {
      "cell_type": "markdown",
      "source": [
        "## Memories, Patterns, and the Machinery of Wisdom"
      ],
      "metadata": {
        "id": "ENBZbqxNsp0T"
      }
    },
    {
      "cell_type": "markdown",
      "source": [
        "## Up-Front Decision-Making"
      ],
      "metadata": {
        "id": "6e1LZCSYsuHu"
      }
    },
    {
      "cell_type": "markdown",
      "source": [
        "## Novelty, Routines, the Two Sides of the Brain"
      ],
      "metadata": {
        "id": "kghGt-8zsxgm"
      }
    },
    {
      "cell_type": "markdown",
      "source": [
        "## Brain Duality in Action"
      ],
      "metadata": {
        "id": "D4miFif7s18J"
      }
    },
    {
      "cell_type": "markdown",
      "source": [
        "## Magellan on Prozac"
      ],
      "metadata": {
        "id": "jQpjRJ_ys5uZ"
      }
    },
    {
      "cell_type": "markdown",
      "source": [
        "## The Dog Days of Summer"
      ],
      "metadata": {
        "id": "Ljjdw9FBs-F9"
      }
    },
    {
      "cell_type": "markdown",
      "source": [
        "## Use Your Brain and Get More of It"
      ],
      "metadata": {
        "id": "fdEtU_lRtEBj"
      }
    },
    {
      "cell_type": "markdown",
      "source": [
        "## Pattern Boosters"
      ],
      "metadata": {
        "id": "TgnfYel3tJ-C"
      }
    }
  ]
}