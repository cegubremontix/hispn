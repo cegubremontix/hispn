{
  "nbformat": 4,
  "nbformat_minor": 0,
  "metadata": {
    "colab": {
      "name": "Usability Engineering.ipynb",
      "provenance": [],
      "authorship_tag": "ABX9TyMklQEoiLiXM93GWa9ZsF17",
      "include_colab_link": true
    },
    "kernelspec": {
      "name": "python3",
      "display_name": "Python 3"
    },
    "language_info": {
      "name": "python"
    }
  },
  "cells": [
    {
      "cell_type": "markdown",
      "metadata": {
        "id": "view-in-github",
        "colab_type": "text"
      },
      "source": [
        "<a href=\"https://colab.research.google.com/github/dbremont/Notas/blob/main/Libros/Otros/Usability_Engineering.ipynb\" target=\"_parent\"><img src=\"https://colab.research.google.com/assets/colab-badge.svg\" alt=\"Open In Colab\"/></a>"
      ]
    },
    {
      "cell_type": "markdown",
      "metadata": {
        "id": "p0ATfha-ILbe"
      },
      "source": [
        "## Executive Summary"
      ]
    },
    {
      "cell_type": "markdown",
      "metadata": {
        "id": "WPRsv0CrIRux"
      },
      "source": [
        "## What is Usability?"
      ]
    },
    {
      "cell_type": "markdown",
      "metadata": {
        "id": "djideoHNITX-"
      },
      "source": [
        "## Generations of User Interfaces"
      ]
    },
    {
      "cell_type": "markdown",
      "metadata": {
        "id": "47ALFgD7JoRm"
      },
      "source": [
        "## The Usability Engineering Lifecycle"
      ]
    },
    {
      "cell_type": "markdown",
      "metadata": {
        "id": "Y3Co_fXfJ3ay"
      },
      "source": [
        "## Usability Heuristics"
      ]
    },
    {
      "cell_type": "markdown",
      "metadata": {
        "id": "FYLvCjbVKA3n"
      },
      "source": [
        "## Usability Testing"
      ]
    },
    {
      "cell_type": "markdown",
      "metadata": {
        "id": "ng71s2FNKC5D"
      },
      "source": [
        "## Usability Assessment Methods beyond Testing"
      ]
    },
    {
      "cell_type": "markdown",
      "metadata": {
        "id": "5TepGEI3KShB"
      },
      "source": [
        "## Interface Standards"
      ]
    },
    {
      "cell_type": "markdown",
      "metadata": {
        "id": "CDFhaFD9KYmb"
      },
      "source": [
        "## International User Interfaces"
      ]
    },
    {
      "cell_type": "markdown",
      "metadata": {
        "id": "WF3B5KGaKqAz"
      },
      "source": [
        "## Future Developments"
      ]
    }
  ]
}