{
  "nbformat": 4,
  "nbformat_minor": 0,
  "metadata": {
    "colab": {
      "name": "Skin in the Game.ipynb",
      "provenance": [],
      "authorship_tag": "ABX9TyP/hRtxpeF0GoCTSOw/bNjU",
      "include_colab_link": true
    },
    "kernelspec": {
      "name": "python3",
      "display_name": "Python 3"
    },
    "language_info": {
      "name": "python"
    }
  },
  "cells": [
    {
      "cell_type": "markdown",
      "metadata": {
        "id": "view-in-github",
        "colab_type": "text"
      },
      "source": [
        "<a href=\"https://colab.research.google.com/github/dbremont/Notas/blob/main/Libros/Otros/Skin_in_the_Game.ipynb\" target=\"_parent\"><img src=\"https://colab.research.google.com/assets/colab-badge.svg\" alt=\"Open In Colab\"/></a>"
      ]
    },
    {
      "cell_type": "markdown",
      "source": [
        "# Introduction"
      ],
      "metadata": {
        "id": "mr9dWPmFUrEH"
      }
    },
    {
      "cell_type": "markdown",
      "source": [
        "# A Brief Tour of Symmetry"
      ],
      "metadata": {
        "id": "UIJ6OLUIV0uR"
      }
    },
    {
      "cell_type": "markdown",
      "source": [
        "## A First Look at Agency"
      ],
      "metadata": {
        "id": "P_Gbdq0RV8wt"
      }
    },
    {
      "cell_type": "markdown",
      "source": [
        "# The Greatest Asymmetry"
      ],
      "metadata": {
        "id": "HLCNWEIhWBa4"
      }
    },
    {
      "cell_type": "markdown",
      "source": [
        "# Wolves Among Dogs"
      ],
      "metadata": {
        "id": "ZX2HWDThWIOT"
      }
    },
    {
      "cell_type": "markdown",
      "source": [
        "# Being Alive Means Taking Certain Risks"
      ],
      "metadata": {
        "id": "fkcK5W9SWMQp"
      }
    },
    {
      "cell_type": "markdown",
      "source": [
        "# Deeper Into Agency"
      ],
      "metadata": {
        "id": "ZrPBkUr3WU6W"
      }
    },
    {
      "cell_type": "markdown",
      "source": [
        "# Religion, Belief, and Skin in the Game"
      ],
      "metadata": {
        "id": "Yg5T06BoWcYA"
      }
    },
    {
      "cell_type": "markdown",
      "source": [
        "# Risk and Rationality"
      ],
      "metadata": {
        "id": "xLVrvrZBWhq4"
      }
    }
  ]
}