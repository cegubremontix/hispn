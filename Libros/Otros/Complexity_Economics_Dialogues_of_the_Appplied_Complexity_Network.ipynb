{
  "nbformat": 4,
  "nbformat_minor": 0,
  "metadata": {
    "colab": {
      "name": "Complexity Economics - Dialogues of the Appplied Complexity Network.ipynb",
      "provenance": [],
      "authorship_tag": "ABX9TyOJaSMBaQZHckTXJNYwvemi",
      "include_colab_link": true
    },
    "kernelspec": {
      "name": "python3",
      "display_name": "Python 3"
    },
    "language_info": {
      "name": "python"
    }
  },
  "cells": [
    {
      "cell_type": "markdown",
      "metadata": {
        "id": "view-in-github",
        "colab_type": "text"
      },
      "source": [
        "<a href=\"https://colab.research.google.com/github/dbremont/Notas/blob/main/Libros/Otros/Complexity_Economics_Dialogues_of_the_Appplied_Complexity_Network.ipynb\" target=\"_parent\"><img src=\"https://colab.research.google.com/assets/colab-badge.svg\" alt=\"Open In Colab\"/></a>"
      ]
    },
    {
      "cell_type": "markdown",
      "metadata": {
        "id": "Rv8hjNunvQkp"
      },
      "source": [
        "## Complex Economies: From the Keynesian Orbit to the Darwinian Worm"
      ]
    },
    {
      "cell_type": "markdown",
      "metadata": {
        "id": "NUrWn225vYRM"
      },
      "source": [
        "## Can Complexity Economcics Save the World?"
      ]
    },
    {
      "cell_type": "markdown",
      "metadata": {
        "id": "T9B3Mz58vchi"
      },
      "source": [
        "## Consumers vs Citizens: Social Inequality & Democracy in a Big-Data World"
      ]
    },
    {
      "cell_type": "markdown",
      "metadata": {
        "id": "tDb6n1VqvtkP"
      },
      "source": [
        "## Ergodicity Economics"
      ]
    },
    {
      "cell_type": "markdown",
      "metadata": {
        "id": "QEpOPGZCvvtf"
      },
      "source": [
        "## Formal Markets and Informal Networks"
      ]
    },
    {
      "cell_type": "markdown",
      "metadata": {
        "id": "QFuvgTchvyxS"
      },
      "source": [
        "## Communication & Coordination in Experiments"
      ]
    },
    {
      "cell_type": "markdown",
      "metadata": {
        "id": "Q_pX3H1dv39R"
      },
      "source": [
        "## Complexity Economics: Why Does Economics Need This Different Approach?"
      ]
    },
    {
      "cell_type": "markdown",
      "metadata": {
        "id": "QUJy6gXCv_Nr"
      },
      "source": [
        "## Computation & Complex  Economies"
      ]
    },
    {
      "cell_type": "markdown",
      "metadata": {
        "id": "4siSShG9wn5n"
      },
      "source": [
        "- Physical perspective\n",
        "  - To understand the universe because we're goin to extremize a function. That's waht physics does- optimization, come least-action principle.\n",
        "\n",
        "- Computational perspective\n",
        "  - Inputs $\\rightarrow$ Output mappings , plus the notion of correcnes. \n",
        " \n",
        "- Biological (organistic) perspective\n",
        "  - Thinking about these agents as a collective in an ecological setting, quite different from physics and from computation.\n",
        "\n",
        "-  Evolution of Economic Theory\n",
        "  - Adam Smith and the pin factory.\n",
        "  - Top-Down study\n",
        "  - Botton-Up Study"
      ]
    },
    {
      "cell_type": "markdown",
      "metadata": {
        "id": "b45a_v9vwEfQ"
      },
      "source": [
        "## Physics & Economic Systems"
      ]
    },
    {
      "cell_type": "markdown",
      "metadata": {
        "id": "2wlgX9NCwKdY"
      },
      "source": [
        "## The Economic Organism"
      ]
    },
    {
      "cell_type": "markdown",
      "metadata": {
        "id": "tkRsMRrcwOd0"
      },
      "source": [
        "## Economic Architectures"
      ]
    },
    {
      "cell_type": "markdown",
      "metadata": {
        "id": "X7MryFxOwUw1"
      },
      "source": [
        "## From Theory to Application"
      ]
    },
    {
      "cell_type": "markdown",
      "metadata": {
        "id": "RQHxr3OBwZn9"
      },
      "source": [
        "## The Future of Complexity Economcis: Better Solutions to the World's Problems"
      ]
    }
  ]
}