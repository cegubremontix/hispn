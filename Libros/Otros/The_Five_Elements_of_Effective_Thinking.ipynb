{
  "nbformat": 4,
  "nbformat_minor": 0,
  "metadata": {
    "colab": {
      "name": "The Five Elements of Effective Thinking.ipynb",
      "provenance": [],
      "authorship_tag": "ABX9TyOz+uUaT4O+Q0D7Y/cJKcRX",
      "include_colab_link": true
    },
    "kernelspec": {
      "name": "python3",
      "display_name": "Python 3"
    },
    "language_info": {
      "name": "python"
    }
  },
  "cells": [
    {
      "cell_type": "markdown",
      "metadata": {
        "id": "view-in-github",
        "colab_type": "text"
      },
      "source": [
        "<a href=\"https://colab.research.google.com/github/dbremont/Notas/blob/main/Libros/Otros/The_Five_Elements_of_Effective_Thinking.ipynb\" target=\"_parent\"><img src=\"https://colab.research.google.com/assets/colab-badge.svg\" alt=\"Open In Colab\"/></a>"
      ]
    },
    {
      "cell_type": "markdown",
      "metadata": {
        "id": "hrhl8VdZ2nmJ"
      },
      "source": [
        "## The Five Elements of Effective Thinking"
      ]
    },
    {
      "cell_type": "markdown",
      "metadata": {
        "id": "STqiovoa25ZU"
      },
      "source": [
        ""
      ]
    }
  ]
}