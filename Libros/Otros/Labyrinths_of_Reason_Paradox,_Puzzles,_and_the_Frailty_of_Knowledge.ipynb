{
  "nbformat": 4,
  "nbformat_minor": 0,
  "metadata": {
    "colab": {
      "name": " Labyrinths of Reason: Paradox, Puzzles, and the Frailty of Knowledge.ipynb",
      "provenance": [],
      "authorship_tag": "ABX9TyPEtiLXxVRXFgt8jdO2L0QC",
      "include_colab_link": true
    },
    "kernelspec": {
      "name": "python3",
      "display_name": "Python 3"
    },
    "language_info": {
      "name": "python"
    }
  },
  "cells": [
    {
      "cell_type": "markdown",
      "metadata": {
        "id": "view-in-github",
        "colab_type": "text"
      },
      "source": [
        "<a href=\"https://colab.research.google.com/github/dbremont/Notas/blob/main/Libros/Otros/Labyrinths_of_Reason_Paradox%2C_Puzzles%2C_and_the_Frailty_of_Knowledge.ipynb\" target=\"_parent\"><img src=\"https://colab.research.google.com/assets/colab-badge.svg\" alt=\"Open In Colab\"/></a>"
      ]
    },
    {
      "cell_type": "markdown",
      "source": [
        "## Paradox"
      ],
      "metadata": {
        "id": "ooVwHS06GJ2X"
      }
    },
    {
      "cell_type": "markdown",
      "source": [
        "## Induction: Hempel's Raven"
      ],
      "metadata": {
        "id": "_Q05bD47GRYG"
      }
    },
    {
      "cell_type": "markdown",
      "source": [
        "## Categories: The Glue-Bleen Paradox"
      ],
      "metadata": {
        "id": "AD9_pYgQGX00"
      }
    },
    {
      "cell_type": "markdown",
      "source": [
        "## The Unknowable: Noctural Doubling"
      ],
      "metadata": {
        "id": "p8K0-UrLI5Wz"
      }
    },
    {
      "cell_type": "markdown",
      "source": [
        "## Interlude: The Puzzles of Jhon H. Watson, M.D"
      ],
      "metadata": {
        "id": "VBwjIE_bI-oT"
      }
    },
    {
      "cell_type": "markdown",
      "source": [
        "## Deduction: The Paradox of Heap"
      ],
      "metadata": {
        "id": "wEytiAYKJEoA"
      }
    },
    {
      "cell_type": "markdown",
      "source": [
        "## Belief: The Unexpected Hanging"
      ],
      "metadata": {
        "id": "gDayA5HrJQBT"
      }
    },
    {
      "cell_type": "markdown",
      "source": [
        "## The Impossible: The Expectancy Paradox"
      ],
      "metadata": {
        "id": "cqy2OPKFKtRq"
      }
    },
    {
      "cell_type": "markdown",
      "source": [
        "## Infinity: The Thomson Lamp"
      ],
      "metadata": {
        "id": "rfRbnap_Kxvb"
      }
    },
    {
      "cell_type": "markdown",
      "source": [
        "## NP-Completeness: Labryrinth of Ts'ui Pen"
      ],
      "metadata": {
        "id": "HGS4Tg_8K08g"
      }
    },
    {
      "cell_type": "markdown",
      "source": [
        "## Meaning Twin Earth"
      ],
      "metadata": {
        "id": "13JNANocK_WH"
      }
    },
    {
      "cell_type": "markdown",
      "source": [
        "## Mind: Searle's Chinese Room"
      ],
      "metadata": {
        "id": "paFvdbbMLCaB"
      }
    },
    {
      "cell_type": "markdown",
      "source": [
        "## Omniscience: Newcomb's Paradox"
      ],
      "metadata": {
        "id": "YRpI35ftLIpT"
      }
    }
  ]
}