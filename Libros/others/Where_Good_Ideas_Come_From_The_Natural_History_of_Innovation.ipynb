{
  "nbformat": 4,
  "nbformat_minor": 0,
  "metadata": {
    "colab": {
      "name": "Where Good Ideas Come From: The Natural History of Innovation.ipynb",
      "provenance": [],
      "authorship_tag": "ABX9TyMvpSVLsDUJHkVA+21cYRF5",
      "include_colab_link": true
    },
    "kernelspec": {
      "name": "python3",
      "display_name": "Python 3"
    },
    "language_info": {
      "name": "python"
    }
  },
  "cells": [
    {
      "cell_type": "markdown",
      "metadata": {
        "id": "view-in-github",
        "colab_type": "text"
      },
      "source": [
        "<a href=\"https://colab.research.google.com/github/dbremont/Notas/blob/main/Libros/Otros/Where_Good_Ideas_Come_From_The_Natural_History_of_Innovation.ipynb\" target=\"_parent\"><img src=\"https://colab.research.google.com/assets/colab-badge.svg\" alt=\"Open In Colab\"/></a>"
      ]
    },
    {
      "cell_type": "markdown",
      "source": [
        "## Reef, City, Web"
      ],
      "metadata": {
        "id": "vki7pGJtrh4W"
      }
    },
    {
      "cell_type": "markdown",
      "source": [
        "## The Adjacent Possible"
      ],
      "metadata": {
        "id": "ihyRd79Trt9v"
      }
    },
    {
      "cell_type": "markdown",
      "source": [
        "## Liquid Networks"
      ],
      "metadata": {
        "id": "vbZ29mRWrwcW"
      }
    },
    {
      "cell_type": "markdown",
      "source": [
        "## The Slow Hunch"
      ],
      "metadata": {
        "id": "2lptpIjQryXx"
      }
    },
    {
      "cell_type": "markdown",
      "source": [
        "## Serendipity"
      ],
      "metadata": {
        "id": "fk4lMEMYr0j3"
      }
    },
    {
      "cell_type": "markdown",
      "source": [
        "## Error"
      ],
      "metadata": {
        "id": "5UW20_Lor3nB"
      }
    },
    {
      "cell_type": "markdown",
      "source": [
        "## Exaptation"
      ],
      "metadata": {
        "id": "2tPLquhhr6PB"
      }
    },
    {
      "cell_type": "markdown",
      "source": [
        "## Platforms"
      ],
      "metadata": {
        "id": "d4sbgt_Zr-AF"
      }
    },
    {
      "cell_type": "markdown",
      "source": [
        "## The Fourth Quadrant"
      ],
      "metadata": {
        "id": "1IpurpMKsAO8"
      }
    }
  ]
}