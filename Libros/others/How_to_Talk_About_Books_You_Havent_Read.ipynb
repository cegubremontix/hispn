{
  "nbformat": 4,
  "nbformat_minor": 0,
  "metadata": {
    "colab": {
      "name": "How to Talk About Books You Haven't Read.ipynb",
      "provenance": [],
      "toc_visible": true,
      "authorship_tag": "ABX9TyPOHHiyWyIDO/YZR1/iRKSh",
      "include_colab_link": true
    },
    "kernelspec": {
      "name": "python3",
      "display_name": "Python 3"
    },
    "language_info": {
      "name": "python"
    }
  },
  "cells": [
    {
      "cell_type": "markdown",
      "metadata": {
        "id": "view-in-github",
        "colab_type": "text"
      },
      "source": [
        "<a href=\"https://colab.research.google.com/github/dbremont/Notas/blob/main/Libros/Otros/How_to_Talk_About_Books_You_Havent_Read.ipynb\" target=\"_parent\"><img src=\"https://colab.research.google.com/assets/colab-badge.svg\" alt=\"Open In Colab\"/></a>"
      ]
    },
    {
      "cell_type": "markdown",
      "source": [
        "# Ways of Not Reading"
      ],
      "metadata": {
        "id": "kvkilxCmpCU8"
      }
    },
    {
      "cell_type": "markdown",
      "source": [
        "## Books You Don't Know"
      ],
      "metadata": {
        "id": "McxS8rJFpF8q"
      }
    },
    {
      "cell_type": "markdown",
      "source": [
        "## Books You Have Skimmed"
      ],
      "metadata": {
        "id": "UyNmB9_ppTGU"
      }
    },
    {
      "cell_type": "markdown",
      "source": [
        "## Books You Have Heard Of"
      ],
      "metadata": {
        "id": "iVL0uFmypW-O"
      }
    },
    {
      "cell_type": "markdown",
      "source": [
        "## Books You  Have Forgotten"
      ],
      "metadata": {
        "id": "nejbIqcLpanC"
      }
    },
    {
      "cell_type": "markdown",
      "source": [
        "# Literacy Confrontations"
      ],
      "metadata": {
        "id": "XkUGj2ifpetn"
      }
    },
    {
      "cell_type": "markdown",
      "source": [
        "## Encounters in Society"
      ],
      "metadata": {
        "id": "U66kAptlpgmu"
      }
    },
    {
      "cell_type": "markdown",
      "source": [
        "## Encounters with Professors"
      ],
      "metadata": {
        "id": "O45sO4VHpjuK"
      }
    },
    {
      "cell_type": "markdown",
      "source": [
        "## Encounter with the Writer"
      ],
      "metadata": {
        "id": "vh_uOR_RpmXt"
      }
    },
    {
      "cell_type": "markdown",
      "source": [
        "## Encounters with Someone You Love"
      ],
      "metadata": {
        "id": "62VQ3Q2Tpom4"
      }
    },
    {
      "cell_type": "markdown",
      "source": [
        "# Ways of Behaving"
      ],
      "metadata": {
        "id": "T0hC9z9SpuYD"
      }
    },
    {
      "cell_type": "markdown",
      "source": [
        "## Not Being Ashmed"
      ],
      "metadata": {
        "id": "MVRkioy4pwrN"
      }
    },
    {
      "cell_type": "markdown",
      "source": [
        "## Imposing Your Ideas"
      ],
      "metadata": {
        "id": "D4A9Groepzl8"
      }
    },
    {
      "cell_type": "markdown",
      "source": [
        "## Inventing Books"
      ],
      "metadata": {
        "id": "t20DqZU2p2gu"
      }
    },
    {
      "cell_type": "markdown",
      "source": [
        "## Speaking About Yourself"
      ],
      "metadata": {
        "id": "jOevy8BPp6yW"
      }
    }
  ]
}