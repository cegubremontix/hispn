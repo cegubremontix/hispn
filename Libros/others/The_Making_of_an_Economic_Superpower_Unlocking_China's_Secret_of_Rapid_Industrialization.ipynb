{
  "nbformat": 4,
  "nbformat_minor": 0,
  "metadata": {
    "colab": {
      "name": "The Making of an Economic Superpower: Unlocking China's Secret of Rapid Industrialization.ipynb",
      "provenance": [],
      "toc_visible": true,
      "authorship_tag": "ABX9TyM0j9LyEuoDOTyjhawHq+zv",
      "include_colab_link": true
    },
    "kernelspec": {
      "name": "python3",
      "display_name": "Python 3"
    },
    "language_info": {
      "name": "python"
    }
  },
  "cells": [
    {
      "cell_type": "markdown",
      "metadata": {
        "id": "view-in-github",
        "colab_type": "text"
      },
      "source": [
        "<a href=\"https://colab.research.google.com/github/dbremont/Notas/blob/main/Libros/Otros/The_Making_of_an_Economic_Superpower_Unlocking_China's_Secret_of_Rapid_Industrialization.ipynb\" target=\"_parent\"><img src=\"https://colab.research.google.com/assets/colab-badge.svg\" alt=\"Open In Colab\"/></a>"
      ]
    },
    {
      "cell_type": "markdown",
      "metadata": {
        "id": "9MonA0nFxUZl"
      },
      "source": [
        "# The Making of an Economic Superpower: Unlocking China's Secret of Rapid Industrialization "
      ]
    },
    {
      "cell_type": "markdown",
      "metadata": {
        "id": "kWxpcYl37cNo"
      },
      "source": [
        "## Introduction"
      ]
    },
    {
      "cell_type": "markdown",
      "metadata": {
        "id": "UOW6nvP_9Ojy"
      },
      "source": [
        "## Key Steps Taken by China to Set Off an Industrial Revolution"
      ]
    },
    {
      "cell_type": "markdown",
      "metadata": {
        "id": "cu1pAV1X-5KE"
      },
      "source": [
        "### Idiological Shift towar Commerce and Commercialism"
      ]
    },
    {
      "cell_type": "markdown",
      "metadata": {
        "id": "fbvpqptx-zd3"
      },
      "source": [
        "> Its ideas, not vested interests, which are dangerous for good or evil. Jhon Maynard Keynes\n",
        "\n",
        "Ironically, the proto-industrial revolution unleashed in China's rural areas after 1978 was attempted and envisioned first my Mao in 1958 and served as one of his fundamentals development strategies during the \"Great Leap Forward\". The initial 1.52 million village firms in 1978 were the legacy of the \"Great Leap Foward\" and served as the catalyst of China's long awaited rural industrialization.\n",
        "\n",
        "The market would help archieve microeconomic efficiency based on individual productivity and competition, whereas social plannning would help achieve macroeconomic efficiency based on strategic planning and aggregate management (similar to managing a giant company).\n",
        "\n",
        "Markets relies on commerce, commerse is the force that connects supply and demand, commerce build, creates, deppends, and nurtures markets; channels goods to mmet theire demand; provides information about the two ends of the market; encourages profit-seeking and arbitrage behavoirs to eliminate inefficiency and firm-level resource misallocations; and is thus the pathway of the market and the lubricant of the industrial wheel the market's fundamental \"natural selection\" mechanism for \"good\"  and \"bad\" firms and serving as the \"invisible\" mathchmaker between specialized demand and supply under the division of labor.\n",
        "\n",
        "\n"
      ]
    },
    {
      "cell_type": "markdown",
      "metadata": {
        "id": "AuvwFTIb9fAS"
      },
      "source": [
        "## Shedding Ligth on the Nature and Cause of the Industrial Revolution"
      ]
    },
    {
      "cell_type": "markdown",
      "metadata": {
        "id": "JvmZNNdM9o47"
      },
      "source": [
        "## Why Is China's Rise Unstoppable?"
      ]
    },
    {
      "cell_type": "markdown",
      "metadata": {
        "id": "MpaCjlBf9tHJ"
      },
      "source": [
        "## What's Wrong with the Whashintong Consensus and the Institutional Theories?"
      ]
    },
    {
      "cell_type": "markdown",
      "metadata": {
        "id": "hWujS2VL8kmr"
      },
      "source": [
        "The Whashington consensus and its inherited neoliberalism idiology (the Chicago shool) was based on the belief that the two fundamental theorems of welfare ecnomics \n",
        "(which are the cornerstone  of neo-clasical econmic theory) more or less hold in reality. Hence, any economic policies and analysses bases on these theorems must also be more or less true, corerct, and applicable to the real world.  \n",
        "\n",
        "The author argue why this is wrong.\n",
        "\n",
        "- The first welfare theorem states that any competitive equilibrium or Walrasian equilibrium leads to a Pareto-efficient allocation of resources.\n",
        "- The second welfare theorem states that any efficient allocation can be sustained in a competitive equilibrium.\n",
        "The theorems oare often taken to be analytical proofs of Adam Smith's \"nvisisible hand\" hypothesis and suport of the non-interventionism idiology:\n",
        "Let the markets do the work and the outcome will be efficient.\n",
        "\n",
        "The two fundamental thorems of welfare eocnomics are devired(proved) analyticaly (mathematically) from several ke yassumptiosn about human behaviro sand social-economics\n",
        "structures that are hardl ymet or ture in the real world:\n",
        "\n",
        "- Complete markets (i.e, all imaginaglemarkets, such as markets of trade goods, services, assets, state contitent financial contrsact and futures, exist and are complete;\n",
        "agents trading in these markets are infinely lived with perfect rationality and wityout financial frictions such as borrowing constrains, or in the case of finite lives theire altruistis paretns are capable of taking good care of theire offspirn'welfare; and there exists perfect forceabilyt of contract that a full st of finanicla toosl can perfectl yinsure agensta agains all types of idiosyncratic risk by making state-contigent plans again spresent an dfuutre uncerttainties).\n",
        "\n",
        "- Complete information (i.e, al lmakrets participans have perfect inforamtion about the market structures of th economy including household preferences of the conomic including household preferences and firm production technologie and asset market trading rules, the prices signals, the quality of goods and services, the staticisal distributio nof exogenous sholcks, and each other's actio nan dtradign staretegies).\n",
        "\n",
        "- Price-takign behavior (i.e, all market participans behave \"nicely\" aas price takers, ther eis not cheating, collusion, roberry , stealing price manipulation, monopoly power, and cost of entry and exit from market).\n",
        "\n",
        "- No externalities (ie. indivisual self interest actiosn do not genrate direct benefits or harm o others persons productivity ad hapiines aiblity to perfrom theri market functiosn inclduign ifnromation processing,  and there are no public \"goods\" or \"bads\" that re esential or possible destructuive for poductionand market exchange, such as infraestructure provision or violence.\n",
        "\n",
        "- Non convexities in the utility functions, production technologies, annd market structures (i.e , no increasing retuns to scale in the divison of labor, in the speciiclaiction of composition an dproduction, and lno large fiexed cost of organizaing firms, creating oogds and services an dtheire production cpaciaties, signing and enforcing contract, and processign information or making decisions).\n",
        "\n",
        "Neoclasical economicst  overllok two of the most improtants pillars of free markets:\n",
        "- potical stabilty, and \n",
        "- social trust.\n",
        "\n",
        "Yet a safe and unified national market is the abosolute prerequirset of the *division of labor* and exsitne of cooperative, organize trade, and financial contracts.\n",
        "\n",
        "Welfare economic theorems ignore (or assume away) the prohibitive social-economic socat of  creating markets. Markets, especially a mass market, are ver y costly to create eve- social isolation (in papua new guinea there are languages spoken by five people)\n",
        "\n",
        "- creating market rules, to prevent cheating.\n",
        "\n",
        "What a market providess, among other things, is a form of impersoanl competition and creative desctruction, a displine on magnmetn and technolog yadoption, and a mechanis \n",
        "of darwinian \"naturally selection\" of the \"fittest\".  \n",
        "\n",
        "The washintong conssensus as antithesis of ISI (import substitusion)\n",
        "\n",
        "ISI was popular int he 18950s adn the 1070s and impelemtend to jumpt start industrilization in agrarian nations.\n",
        "The ISI features a strogn \"govermernt-led big push\" with aan  all-aroudn buildup of a comprehensive industrial, base from modern agriculture to effeienc tcapitalintensive heavy industries, based on the philogy of self-reliance and self-sufficnety. China try this approach under Mao's and failed. \n",
        "\n",
        "The key to the failure is the lack of understnading o fht econditiosn of masss production and the Smithinan (firts) principle that the division of labor is limitated by the extend of the market. \n",
        "\n",
        "Heavy instrutries correspond to the second stage of the industrial revolution, they require masive capital, human capital, sophisticated suply chians, sophisicat4d \n",
        "division of labor. \n",
        "\n",
        "Because proto-indsutrilization did not exists, the markets foir the heavy industries was not there, to render the enterprises profittable.\n",
        "So many contries build an \"industrial base\" that was improductive, uncompetitive, unbalanced, unrpfotitable, internationally  umcompetitive.\n",
        "\n",
        "The modern  industrial sate is a gigantic and unified organization baed on mass speciilizatio nand mass coordination of all social classes.\n",
        "Every citizen as weel as his monetary value has to either embrace and be govrned by this industrila system; or reject and be abondoned by it."
      ]
    },
    {
      "cell_type": "markdown",
      "metadata": {
        "id": "VYSEM3E4-DR9"
      },
      "source": [
        "## Case Study of Yong Lian: A Poor Village's Path to Becoming a Modern Steel Town"
      ]
    },
    {
      "cell_type": "markdown",
      "metadata": {
        "id": "gW6lKXcw-Neb"
      },
      "source": [
        "## Conclusion: A New Stage Theory of Economic Development"
      ]
    }
  ]
}