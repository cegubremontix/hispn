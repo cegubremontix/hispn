{
  "nbformat": 4,
  "nbformat_minor": 0,
  "metadata": {
    "colab": {
      "name": "The Bed Of Procrustes.ipynb",
      "provenance": [],
      "authorship_tag": "ABX9TyOAr7tS3bDPYKjmGaSkjPyQ",
      "include_colab_link": true
    },
    "kernelspec": {
      "name": "python3",
      "display_name": "Python 3"
    },
    "language_info": {
      "name": "python"
    }
  },
  "cells": [
    {
      "cell_type": "markdown",
      "metadata": {
        "id": "view-in-github",
        "colab_type": "text"
      },
      "source": [
        "<a href=\"https://colab.research.google.com/github/dbremont/Notas/blob/main/Libros/Otros/The_Bed_Of_Procrustes.ipynb\" target=\"_parent\"><img src=\"https://colab.research.google.com/assets/colab-badge.svg\" alt=\"Open In Colab\"/></a>"
      ]
    },
    {
      "cell_type": "markdown",
      "source": [
        "## Preludes"
      ],
      "metadata": {
        "id": "GMe2IaJuJKeT"
      }
    },
    {
      "cell_type": "markdown",
      "source": [
        "## Counter Narratives"
      ],
      "metadata": {
        "id": "UH0y5IARJh3g"
      }
    },
    {
      "cell_type": "markdown",
      "source": [
        "## Matters Ontological"
      ],
      "metadata": {
        "id": "ecr9hviFJkBT"
      }
    },
    {
      "cell_type": "markdown",
      "source": [
        "## The Scarted and The Profane"
      ],
      "metadata": {
        "id": "JHH8WJWGJxvj"
      }
    },
    {
      "cell_type": "markdown",
      "source": [
        "## Change, Sucess, Hapiness, and Stoicsm"
      ],
      "metadata": {
        "id": "IAIdOvQzJ05h"
      }
    },
    {
      "cell_type": "markdown",
      "source": [
        "## Charming and Less Charming Sucker Problems"
      ],
      "metadata": {
        "id": "xDCManzzJ6BZ"
      }
    },
    {
      "cell_type": "markdown",
      "source": [
        "## Theseus, Or Living the Paleo Life"
      ],
      "metadata": {
        "id": "gh4rHNOGKb-0"
      }
    },
    {
      "cell_type": "markdown",
      "source": [
        "## The Republic of Letters"
      ],
      "metadata": {
        "id": "qrDlCHdzKgR0"
      }
    },
    {
      "cell_type": "markdown",
      "source": [
        "## The Universal and The Particular"
      ],
      "metadata": {
        "id": "q7Wcmq_iKjQo"
      }
    },
    {
      "cell_type": "markdown",
      "source": [
        "## Fooled by Randomness"
      ],
      "metadata": {
        "id": "B1HTSOknKs9G"
      }
    },
    {
      "cell_type": "markdown",
      "source": [
        "## Aesthetics"
      ],
      "metadata": {
        "id": "Qj_qhuhjKv81"
      }
    },
    {
      "cell_type": "markdown",
      "source": [
        "## Ethics"
      ],
      "metadata": {
        "id": "HIWiUMXWKx6Z"
      }
    },
    {
      "cell_type": "markdown",
      "source": [
        "## Robustness and Antifragility"
      ],
      "metadata": {
        "id": "653Tea5-OERO"
      }
    },
    {
      "cell_type": "markdown",
      "source": [
        "## The Ludic Fallacy and Domain Dependece"
      ],
      "metadata": {
        "id": "k7UEOiBdOIgp"
      }
    },
    {
      "cell_type": "markdown",
      "source": [
        "## Epistemological and Subtractive Knowledge"
      ],
      "metadata": {
        "id": "ILHlwNpfOMYu"
      }
    },
    {
      "cell_type": "markdown",
      "source": [
        "## The Scandal of Prediction"
      ],
      "metadata": {
        "id": "GuJqTvGqORhT"
      }
    },
    {
      "cell_type": "markdown",
      "source": [
        "## Bring a Philosopher and Managing to Remain One"
      ],
      "metadata": {
        "id": "cmoO_DmjOUJW"
      }
    },
    {
      "cell_type": "markdown",
      "source": [
        "## Economic Life and Other Very Vulgar Subjects"
      ],
      "metadata": {
        "id": "Ya9FPRO6OZZp"
      }
    },
    {
      "cell_type": "markdown",
      "source": [
        "## The Sage, The Weak, and The Magnificent"
      ],
      "metadata": {
        "id": "8vh9HKiqOfWl"
      }
    },
    {
      "cell_type": "markdown",
      "source": [
        "## The Implicit and the Explicit"
      ],
      "metadata": {
        "id": "UHpW7OP5Olnt"
      }
    },
    {
      "cell_type": "markdown",
      "source": [
        "## On The Varieties of Love and Nonlove"
      ],
      "metadata": {
        "id": "ENi7SN-2OpEv"
      }
    }
  ]
}