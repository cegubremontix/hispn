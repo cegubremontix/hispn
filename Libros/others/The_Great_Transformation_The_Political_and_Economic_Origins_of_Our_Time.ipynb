{
  "nbformat": 4,
  "nbformat_minor": 0,
  "metadata": {
    "colab": {
      "name": "The Great Transformation: The Political and Economic Origins of Our Time.ipynb",
      "provenance": [],
      "authorship_tag": "ABX9TyMd7EgYF0Yfx292aKUXXkW0",
      "include_colab_link": true
    },
    "kernelspec": {
      "name": "python3",
      "display_name": "Python 3"
    },
    "language_info": {
      "name": "python"
    }
  },
  "cells": [
    {
      "cell_type": "markdown",
      "metadata": {
        "id": "view-in-github",
        "colab_type": "text"
      },
      "source": [
        "<a href=\"https://colab.research.google.com/github/dbremont/Notas/blob/main/Libros/Otros/The_Great_Transformation_The_Political_and_Economic_Origins_of_Our_Time.ipynb\" target=\"_parent\"><img src=\"https://colab.research.google.com/assets/colab-badge.svg\" alt=\"Open In Colab\"/></a>"
      ]
    },
    {
      "cell_type": "markdown",
      "source": [
        "# International System"
      ],
      "metadata": {
        "id": "AXDTpCWB4O7_"
      }
    },
    {
      "cell_type": "markdown",
      "source": [
        "## The Hundred Year's Peace"
      ],
      "metadata": {
        "id": "Oc7e0wIy4Ti3"
      }
    },
    {
      "cell_type": "markdown",
      "source": [
        "## Conservative Twenties, Revolutionary Thirties"
      ],
      "metadata": {
        "id": "hkNHoeQs4YmE"
      }
    },
    {
      "cell_type": "markdown",
      "source": [
        "# Rise and Fall of Market Economy"
      ],
      "metadata": {
        "id": "lN_x2zT54eVz"
      }
    },
    {
      "cell_type": "markdown",
      "source": [
        "## Habitation ver Improvement"
      ],
      "metadata": {
        "id": "ar625NPB4hEi"
      }
    },
    {
      "cell_type": "markdown",
      "source": [
        "## Societies and Economic Systems"
      ],
      "metadata": {
        "id": "BtEBbLLP4keo"
      }
    },
    {
      "cell_type": "markdown",
      "source": [
        "## Evolution of the Market Pattern"
      ],
      "metadata": {
        "id": "F7Od2SM04m-r"
      }
    },
    {
      "cell_type": "markdown",
      "source": [
        "## The Self-Regulating Market and the Fictitious Commodities: Labor, Land, and Money"
      ],
      "metadata": {
        "id": "z3hy9IjA4pgy"
      }
    },
    {
      "cell_type": "markdown",
      "source": [
        "## Sppenhamland, 1795"
      ],
      "metadata": {
        "id": "snGCJvnW4zcT"
      }
    },
    {
      "cell_type": "markdown",
      "source": [
        "## Pauperism and Utopia"
      ],
      "metadata": {
        "id": "y1oZUN7T424c"
      }
    },
    {
      "cell_type": "markdown",
      "source": [
        "## Political Economy and the Discovery of Society"
      ],
      "metadata": {
        "id": "3Jr-C95d44-R"
      }
    },
    {
      "cell_type": "markdown",
      "source": [
        "# Self-Protection of Society"
      ],
      "metadata": {
        "id": "VUlLD4kn4-pT"
      }
    },
    {
      "cell_type": "markdown",
      "source": [
        "## Man, Nature, and Productive Organization"
      ],
      "metadata": {
        "id": "Pi0TcYO75COq"
      }
    },
    {
      "cell_type": "markdown",
      "source": [
        "## Birth of the Liberal Creed"
      ],
      "metadata": {
        "id": "I7Q89Bab5FqU"
      }
    },
    {
      "cell_type": "markdown",
      "source": [
        "## Birth of the Liberal Creed (Continue): Class Interest and Social Change"
      ],
      "metadata": {
        "id": "ZUS0Jfh_5JbD"
      }
    },
    {
      "cell_type": "markdown",
      "source": [
        "## Market and Man"
      ],
      "metadata": {
        "id": "mmDRF0ZI5STF"
      }
    },
    {
      "cell_type": "markdown",
      "source": [
        "## Market and Nature"
      ],
      "metadata": {
        "id": "gSqaABLP5UVO"
      }
    },
    {
      "cell_type": "markdown",
      "source": [
        "## Market and Productive Organization"
      ],
      "metadata": {
        "id": "ciTpL_qH5X-S"
      }
    },
    {
      "cell_type": "markdown",
      "source": [
        "## Self-Regulation Impaired"
      ],
      "metadata": {
        "id": "UShSgJuS5cpP"
      }
    },
    {
      "cell_type": "markdown",
      "source": [
        "## Disruptive Strains"
      ],
      "metadata": {
        "id": "HFXXk0oA5haU"
      }
    },
    {
      "cell_type": "markdown",
      "source": [
        "# Transformation in Progress"
      ],
      "metadata": {
        "id": "n0JTZ9JX5lDQ"
      }
    },
    {
      "cell_type": "markdown",
      "source": [
        "## Popular Government and Market Economy"
      ],
      "metadata": {
        "id": "vZ34lwjz5m92"
      }
    },
    {
      "cell_type": "markdown",
      "source": [
        "## History in the Gear of Social Change"
      ],
      "metadata": {
        "id": "IYeAyfrF5qrz"
      }
    },
    {
      "cell_type": "markdown",
      "source": [
        "## Freedom in a Complex Society"
      ],
      "metadata": {
        "id": "_bwugszK5twu"
      }
    }
  ]
}