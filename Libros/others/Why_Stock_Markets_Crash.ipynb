{
  "nbformat": 4,
  "nbformat_minor": 0,
  "metadata": {
    "kernelspec": {
      "display_name": "Python 2.7.18 64-bit",
      "name": "python2718jvsc74a57bd0f92b2924b84ff19c1c3dc485f7644d4486f64738191026bf8e6de303969141b5"
    },
    "language_info": {
      "name": "python",
      "version": ""
    },
    "metadata": {
      "interpreter": {
        "hash": "f92b2924b84ff19c1c3dc485f7644d4486f64738191026bf8e6de303969141b5"
      }
    },
    "orig_nbformat": 2,
    "colab": {
      "name": "Why Stock Markets Crash.ipynb",
      "provenance": [],
      "include_colab_link": true
    }
  },
  "cells": [
    {
      "cell_type": "markdown",
      "metadata": {
        "id": "view-in-github",
        "colab_type": "text"
      },
      "source": [
        "<a href=\"https://colab.research.google.com/github/dbremont/Notas/blob/main/Libros/Otros/Why_Stock_Markets_Crash.ipynb\" target=\"_parent\"><img src=\"https://colab.research.google.com/assets/colab-badge.svg\" alt=\"Open In Colab\"/></a>"
      ]
    },
    {
      "cell_type": "markdown",
      "metadata": {
        "id": "6iNw-g8bMaJd"
      },
      "source": [
        "Why Stock Markets Crash"
      ]
    },
    {
      "cell_type": "markdown",
      "source": [
        "## Financial Crashes: What, How, Why, and When?"
      ],
      "metadata": {
        "id": "glEgNwC6yT9N"
      }
    },
    {
      "cell_type": "markdown",
      "source": [
        "## Fundamental of Financial Markets"
      ],
      "metadata": {
        "id": "qEEh_apo599F"
      }
    },
    {
      "cell_type": "markdown",
      "source": [
        "## Financial Crashes are \"Outliers\"?"
      ],
      "metadata": {
        "id": "gJX-VkgR6Cr7"
      }
    },
    {
      "cell_type": "markdown",
      "source": [
        "## Positive Feedbkacs"
      ],
      "metadata": {
        "id": "viBWQor56KRK"
      }
    },
    {
      "cell_type": "markdown",
      "source": [
        "## Modeling Financial Bubbles and Market Crashes"
      ],
      "metadata": {
        "id": "lN8HQYQo6LsE"
      }
    },
    {
      "cell_type": "markdown",
      "source": [
        "## Hierarchies, Complex Fractal Dimensions, and Log-Periodicity"
      ],
      "metadata": {
        "id": "Vq5LViWU6PRL"
      }
    },
    {
      "cell_type": "markdown",
      "source": [
        "## Autopsy of Major Crashes: Universal Exponents and Log-Periodicity"
      ],
      "metadata": {
        "id": "eOMRmVn96h4k"
      }
    },
    {
      "cell_type": "markdown",
      "source": [
        "## Bubbles, Crises and Crashes in Emergent Markets"
      ],
      "metadata": {
        "id": "az5JWRrV6qo1"
      }
    },
    {
      "cell_type": "markdown",
      "source": [
        "## Predictions of Bubbles, Crashes, and Antibubbles"
      ],
      "metadata": {
        "id": "q5SJO3JK6z-O"
      }
    },
    {
      "cell_type": "markdown",
      "source": [
        "## 2050: The End of Era The Growth Era?"
      ],
      "metadata": {
        "id": "G6OEogK467is"
      }
    }
  ]
}