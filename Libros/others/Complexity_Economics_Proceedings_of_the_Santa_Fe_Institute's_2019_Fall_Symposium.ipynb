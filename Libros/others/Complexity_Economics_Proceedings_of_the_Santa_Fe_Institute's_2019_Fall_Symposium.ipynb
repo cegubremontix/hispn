{
  "nbformat": 4,
  "nbformat_minor": 0,
  "metadata": {
    "colab": {
      "name": "Complexity Economics: Proceedings of the Santa Fe Institute's 2019 Fall Symposium.ipynb",
      "provenance": [],
      "authorship_tag": "ABX9TyMaSl6UPAnPm4KkKAjmFwiO",
      "include_colab_link": true
    },
    "kernelspec": {
      "name": "python3",
      "display_name": "Python 3"
    },
    "language_info": {
      "name": "python"
    }
  },
  "cells": [
    {
      "cell_type": "markdown",
      "metadata": {
        "id": "view-in-github",
        "colab_type": "text"
      },
      "source": [
        "<a href=\"https://colab.research.google.com/github/dbremont/Notas/blob/main/Libros/Otros/Complexity_Economics_Proceedings_of_the_Santa_Fe_Institute's_2019_Fall_Symposium.ipynb\" target=\"_parent\"><img src=\"https://colab.research.google.com/assets/colab-badge.svg\" alt=\"Open In Colab\"/></a>"
      ]
    },
    {
      "cell_type": "markdown",
      "metadata": {
        "id": "wqFEzPzPwoXS"
      },
      "source": [
        "# Complexity Economics: Proceedings of the Santa Fe Institute's 2019 Fall Symposium\n",
        "Libros/Otros"
      ]
    }
  ]
}