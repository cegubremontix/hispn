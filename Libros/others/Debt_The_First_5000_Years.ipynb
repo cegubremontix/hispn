{
  "nbformat": 4,
  "nbformat_minor": 0,
  "metadata": {
    "colab": {
      "name": "Debt: The First 5000 Years.ipynb",
      "provenance": [],
      "authorship_tag": "ABX9TyM3ZamG5h4YkVR3lgY/rpTy",
      "include_colab_link": true
    },
    "kernelspec": {
      "name": "python3",
      "display_name": "Python 3"
    },
    "language_info": {
      "name": "python"
    }
  },
  "cells": [
    {
      "cell_type": "markdown",
      "metadata": {
        "id": "view-in-github",
        "colab_type": "text"
      },
      "source": [
        "<a href=\"https://colab.research.google.com/github/dbremont/Notas/blob/main/Libros/others/Debt_The_First_5000_Years.ipynb\" target=\"_parent\"><img src=\"https://colab.research.google.com/assets/colab-badge.svg\" alt=\"Open In Colab\"/></a>"
      ]
    },
    {
      "cell_type": "markdown",
      "metadata": {
        "id": "wqFEzPzPwoXS"
      },
      "source": [
        "# Debt: The First 5000 Years\n",
        "Libros/Otros"
      ]
    },
    {
      "cell_type": "markdown",
      "metadata": {
        "id": "_FQlaSkRcX_j"
      },
      "source": [
        "- Dionysius The Areopagite (pseudonym)\n",
        "- Talisman tradition in china, its seams that the ying/yang symbol grow of them.\n",
        "- In the islamic world market fluctionation we seen as merely another manifestation of devine will.\n",
        "\n",
        "- why if they were great 'capitals' in the islamic world the 'Industrials Revolution' did not happend\n",
        "\n",
        "- Maybe lack of competition, maybe, traders were not able to develop  'advaced' finantial machanism to deal with the riks. of the enterprise.\n",
        "\n",
        "- The modern idea of a compnay we develop in the high midle ages.\n",
        "\n",
        "- A company seems natural, but not when we study its history its a great idea.\n",
        "\n",
        "- Los monasterios de los 'cistenciences' parecidos a los monasterios budistas chinos. **Capitalismo Monastico**\n",
        "\n",
        "- The Rise of Markets"
      ]
    },
    {
      "cell_type": "markdown",
      "source": [
        "Arguments:\n",
        "\n",
        "- Debt was the first mean of trade, money and barter transactiosn develop later.\n",
        "- Markets are foudned and usually by systematic state violence."
      ],
      "metadata": {
        "id": "1fA1OIJtkoLb"
      }
    },
    {
      "cell_type": "markdown",
      "source": [
        "¿What is the book \"Debt: The First 5000 Years\" about?\n",
        "\n",
        "- It's a book about the history of money, and markets, through the lence of an anthropologist.\n",
        "\n",
        "It arguees that debt was the first mean of trade, and came money(coins) and barter systems.\n",
        "\n",
        "Markets are foundd usually by systematic state violence.\n",
        "\n"
      ],
      "metadata": {
        "id": "4-Yrz3yzm1bI"
      }
    }
  ]
}