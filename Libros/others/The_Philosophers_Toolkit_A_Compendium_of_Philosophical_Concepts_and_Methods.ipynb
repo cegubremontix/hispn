{
  "nbformat": 4,
  "nbformat_minor": 0,
  "metadata": {
    "colab": {
      "name": " The Philosopher's Toolkit: A Compendium of Philosophical Concepts and Methods.ipynb",
      "provenance": [],
      "authorship_tag": "ABX9TyPGU6mkeVpQI9QOPUJ1SFw7",
      "include_colab_link": true
    },
    "kernelspec": {
      "name": "python3",
      "display_name": "Python 3"
    },
    "language_info": {
      "name": "python"
    }
  },
  "cells": [
    {
      "cell_type": "markdown",
      "metadata": {
        "id": "view-in-github",
        "colab_type": "text"
      },
      "source": [
        "<a href=\"https://colab.research.google.com/github/dbremont/Notas/blob/main/Libros/Otros/The_Philosophers_Toolkit_A_Compendium_of_Philosophical_Concepts_and_Methods.ipynb\" target=\"_parent\"><img src=\"https://colab.research.google.com/assets/colab-badge.svg\" alt=\"Open In Colab\"/></a>"
      ]
    },
    {
      "cell_type": "markdown",
      "source": [
        "## Basic Tools for Argument"
      ],
      "metadata": {
        "id": "areVjyJgIo25"
      }
    },
    {
      "cell_type": "markdown",
      "source": [
        "##  More Advance Tools"
      ],
      "metadata": {
        "id": "DNSiqnzvItuf"
      }
    },
    {
      "cell_type": "markdown",
      "source": [
        "## Tools for Assesment"
      ],
      "metadata": {
        "id": "yjHolNjeIzEx"
      }
    },
    {
      "cell_type": "markdown",
      "source": [
        "## Tools for Conceptual Distinctions"
      ],
      "metadata": {
        "id": "OT-yh796I415"
      }
    },
    {
      "cell_type": "markdown",
      "source": [
        "## Tools for Historical Schools and Philosophers"
      ],
      "metadata": {
        "id": "ZnhA3gx8I7qY"
      }
    },
    {
      "cell_type": "markdown",
      "source": [
        "## Tools for Radical Critique"
      ],
      "metadata": {
        "id": "yFG7TcHfJDaC"
      }
    },
    {
      "cell_type": "markdown",
      "source": [
        "## Tools at the Limit"
      ],
      "metadata": {
        "id": "FmTvdfxdJGWQ"
      }
    }
  ]
}