{
  "nbformat": 4,
  "nbformat_minor": 0,
  "metadata": {
    "colab": {
      "name": "Development and Modern Industrial Policy in Practice.ipynb",
      "provenance": [],
      "authorship_tag": "ABX9TyPLJdy49mzqHWmgdilUEprk",
      "include_colab_link": true
    },
    "kernelspec": {
      "name": "python3",
      "display_name": "Python 3"
    },
    "language_info": {
      "name": "python"
    }
  },
  "cells": [
    {
      "cell_type": "markdown",
      "metadata": {
        "id": "view-in-github",
        "colab_type": "text"
      },
      "source": [
        "<a href=\"https://colab.research.google.com/github/dbremont/Notas/blob/main/Libros/Otros/Development_and_Modern_Industrial_Policy_in_Practice.ipynb\" target=\"_parent\"><img src=\"https://colab.research.google.com/assets/colab-badge.svg\" alt=\"Open In Colab\"/></a>"
      ]
    },
    {
      "cell_type": "markdown",
      "source": [
        "## Modern industrial policy"
      ],
      "metadata": {
        "id": "Ua4MIkTY2zvM"
      }
    },
    {
      "cell_type": "markdown",
      "source": [
        "## Issues in modern industrial policy (I): sector selection, who, how, and sector promotion"
      ],
      "metadata": {
        "id": "L3NkPyfo3u9M"
      }
    },
    {
      "cell_type": "markdown",
      "source": [
        "## Issues in modern industrial policy (II): human capital and innovation, and monitoring and evaluation "
      ],
      "metadata": {
        "id": "nKOdyVM73zi3"
      }
    },
    {
      "cell_type": "markdown",
      "source": [
        "## Capability building and industrial diversification"
      ],
      "metadata": {
        "id": "JJdafT6433AO"
      }
    },
    {
      "cell_type": "markdown",
      "source": [
        "## Industrial Policy design and implementation"
      ],
      "metadata": {
        "id": "p77dkdl935U8"
      }
    },
    {
      "cell_type": "markdown",
      "source": [
        "## Catching up: structural transformatio and diversification"
      ],
      "metadata": {
        "id": "s_EFf3GI4B1e"
      }
    },
    {
      "cell_type": "markdown",
      "source": [
        "## Economic diversification: implications for Kazakhstan"
      ],
      "metadata": {
        "id": "B8qZCQl64Dyf"
      }
    },
    {
      "cell_type": "markdown",
      "source": [
        "## Industrial diversification in the People's Republic of China"
      ],
      "metadata": {
        "id": "SjJ4i2vk4Gus"
      }
    },
    {
      "cell_type": "markdown",
      "source": [
        "## Do as I say, or as I do? US innovation and industrial policy"
      ],
      "metadata": {
        "id": "2eWLTl3A4JNs"
      }
    },
    {
      "cell_type": "markdown",
      "source": [
        "## The Republic of Korea's financial support for small and medium-sized enterprises and venture business"
      ],
      "metadata": {
        "id": "tov62VeI4kU0"
      }
    },
    {
      "cell_type": "markdown",
      "source": [
        "## Industrial policy: the Australian experience"
      ],
      "metadata": {
        "id": "60-3g2xX457q"
      }
    },
    {
      "cell_type": "markdown",
      "source": [
        "## Diversification and industrial policy in Malaysia"
      ],
      "metadata": {
        "id": "7uEsKhGZ47qh"
      }
    },
    {
      "cell_type": "markdown",
      "source": [
        "## Industrial policy in the European Union"
      ],
      "metadata": {
        "id": "IJC8m-oh49pr"
      }
    }
  ]
}