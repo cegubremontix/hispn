{
  "nbformat": 4,
  "nbformat_minor": 0,
  "metadata": {
    "kernelspec": {
      "display_name": "Python 2.7.18 64-bit",
      "name": "python2718jvsc74a57bd0f92b2924b84ff19c1c3dc485f7644d4486f64738191026bf8e6de303969141b5"
    },
    "language_info": {
      "name": "python",
      "version": ""
    },
    "metadata": {
      "interpreter": {
        "hash": "f92b2924b84ff19c1c3dc485f7644d4486f64738191026bf8e6de303969141b5"
      }
    },
    "orig_nbformat": 2,
    "colab": {
      "name": "How to Read a Book.ipynb",
      "provenance": [],
      "toc_visible": true,
      "include_colab_link": true
    }
  },
  "cells": [
    {
      "cell_type": "markdown",
      "metadata": {
        "id": "view-in-github",
        "colab_type": "text"
      },
      "source": [
        "<a href=\"https://colab.research.google.com/github/dbremont/Notas/blob/main/Libros/Otros/How%20to%20Read%20a%20Book.ipynb\" target=\"_parent\"><img src=\"https://colab.research.google.com/assets/colab-badge.svg\" alt=\"Open In Colab\"/></a>"
      ]
    },
    {
      "cell_type": "markdown",
      "metadata": {
        "id": "V7sMmZWTNHuh"
      },
      "source": [
        "How to Read a Book\n",
        "\n",
        "* [How to Read a Book: The Ultimate Guide by Mortimer Adler](https://fs.blog/how-to-read-a-book/)\n",
        "\n",
        "* [How to (seriously) read a scientific paper](https://www.sciencemag.org/careers/2016/03/how-seriously-read-scientific-paper)\n",
        "\n",
        "* (D) [How to navigate a scientific paper with time constraints - A graphical approach](http://0.0.0.0:8000/5%20Ciencia/Articulos/How%20to%20navigate%20a%20scientific%20paper%20wit%20htime%20constraints%20-%20A%20graphical%20approach.pdf)\n",
        "\n",
        "* [How to Understand ML Papers Quickly](https://blog.evjang.com/2021/01/understanding-ml.html)\n",
        "\n",
        "* [ML Career Advice And Reading Papers](https://deeps.site/blog/2019/10/14/reading-research-papers-career-advice/)\n",
        "\n",
        "* [The Art of Reading More Effectively and Efficiently](https://aliabdaal.com/read-more-effectively/)\n",
        "\n",
        "\n",
        "* (D) [Efficient Reading of Papers in Science and Technology](http://0.0.0.0:8000/6%20Otros/Articulos/Efficient%20Reading%20of%20Papers%20in%20Science%20and%20Technology.pdf)\n",
        "\n",
        "* [How to Memorize Faster With The Spaced Repetition Learning Technique](https://productive.fish/blog/spaced-repetition/)\n",
        "\n",
        "* [The Complete Guide to Effective Reading](https://maartenvandoorn.nl/reading-guide/)\n",
        "\n",
        "* (D)[Introduction into Luhmanns Zettelkasten](http://0.0.0.0:8000/6%20Otros/Articulos/Introduction%20into%20Luhmanns%20Zettelkasten.pdf)\n",
        "\n",
        "* (D) [How to read a research paper](http://0.0.0.0:8000/6%20Otros/Articulos/How%20to%20read%20a%20research%20paper.pdf)\n",
        "\n",
        "* [The Feynman Technique: The Best Way to Learn Anything](https://fs.blog/2012/04/feynman-technique/)\n",
        "\n",
        "* [How to remember what you learn](https://vasilishynkarenka.com/learning/)\n",
        "\n",
        "* [Using spaced repetition systems to see through a piece of mathematics](http://cognitivemedium.com/srs-mathematics) \n",
        "\n",
        "* [How to take smart notes](https://www.lesswrong.com/posts/T382CLwAjsy3fmecf/how-to-take-smart-section-ahrens-2017)\n",
        "\n",
        "\n",
        "* [The Polymath Playbook](https://salman.io/posts/polymath-playbook/)\n",
        "\n",
        "* [Why Tacit Knowledge is More Important Than Deliberate Practice](https://commoncog.com/blog/tacit-knowledge-is-a-real-thing/)\n",
        "\n",
        "* [Recognizing vs Generating](https://mlu.red/52622266310.html)\n",
        "\n",
        "* [The Role of Deliberate Practice in the Acquisition of Expert Performance](https://mrbartonmaths.com/resourcesnew/8.%20Research/Explicit%20Instruction/Deliberate%20Practice.PDF)"
      ]
    },
    {
      "cell_type": "markdown",
      "metadata": {
        "id": "_3WYa-e3JBNI"
      },
      "source": [
        "# The Dimensions of Reading"
      ]
    },
    {
      "cell_type": "markdown",
      "metadata": {
        "id": "DaMBcYkQIoqJ"
      },
      "source": [
        "## The Activity and Art of Reading"
      ]
    },
    {
      "cell_type": "markdown",
      "metadata": {
        "id": "Q9qfAbUqIxHz"
      },
      "source": [
        "## The Levels of Reading"
      ]
    },
    {
      "cell_type": "markdown",
      "metadata": {
        "id": "XLBFr_43IzAF"
      },
      "source": [
        "## The First Level of Reading: Elementary Reading"
      ]
    },
    {
      "cell_type": "markdown",
      "metadata": {
        "id": "Scv9OAcmI3LK"
      },
      "source": [
        "## The Second Level of Reading: Inspectional Reading"
      ]
    },
    {
      "cell_type": "markdown",
      "metadata": {
        "id": "ZsKad9SRI84L"
      },
      "source": [
        "## How to Be a Demanding Reading"
      ]
    },
    {
      "cell_type": "markdown",
      "metadata": {
        "id": "xsDbgcUVJEUe"
      },
      "source": [
        "# The Thrid Level of Reading: Analytical Reading"
      ]
    },
    {
      "cell_type": "markdown",
      "metadata": {
        "id": "UyPNgGYZJN7l"
      },
      "source": [
        "## Pingeonholing a Book"
      ]
    },
    {
      "cell_type": "markdown",
      "metadata": {
        "id": "hnFznQVeJTsa"
      },
      "source": [
        "## X-raying a Book"
      ]
    },
    {
      "cell_type": "markdown",
      "metadata": {
        "id": "SWaIyaKqJiNl"
      },
      "source": [
        "## Coming to Terms with an Author"
      ]
    },
    {
      "cell_type": "markdown",
      "metadata": {
        "id": "FY4Ycb_5JlcY"
      },
      "source": [
        "## Determinign an Author's Message"
      ]
    },
    {
      "cell_type": "markdown",
      "metadata": {
        "id": "HZyjzC2nJp5S"
      },
      "source": [
        "## Criticizing a Book Fairly"
      ]
    },
    {
      "cell_type": "markdown",
      "metadata": {
        "id": "Z0oGbsm4J2Wk"
      },
      "source": [
        "## Agreeing on Disagreeing with an Author"
      ]
    },
    {
      "cell_type": "markdown",
      "metadata": {
        "id": "EY9BdK8ZJ7GD"
      },
      "source": [
        "## Aids to Reading"
      ]
    },
    {
      "cell_type": "markdown",
      "metadata": {
        "id": "w7ypoAMTJ9DA"
      },
      "source": [
        "# Approaches to Different Kinds of Reading Matter"
      ]
    },
    {
      "cell_type": "markdown",
      "metadata": {
        "id": "K8hV_Jz5KCZE"
      },
      "source": [
        "## How to Read Practical Books"
      ]
    },
    {
      "cell_type": "markdown",
      "metadata": {
        "id": "hwBRj5PwLhdX"
      },
      "source": [
        "## How to Read Imaginative Literature"
      ]
    },
    {
      "cell_type": "markdown",
      "metadata": {
        "id": "R2aIscg2LskD"
      },
      "source": [
        "## Suggestions for Reading Stories, Plays, and Poems"
      ]
    },
    {
      "cell_type": "markdown",
      "metadata": {
        "id": "2oFP2FqFLxq0"
      },
      "source": [
        "## How to Read History"
      ]
    },
    {
      "cell_type": "markdown",
      "metadata": {
        "id": "cU5XISBpMcXO"
      },
      "source": [
        "## How to Read Science and Mathematics"
      ]
    },
    {
      "cell_type": "markdown",
      "metadata": {
        "id": "k5FULaQXMhBZ"
      },
      "source": [
        "## How to Read Philosofy"
      ]
    },
    {
      "cell_type": "markdown",
      "metadata": {
        "id": "GoB4-lJZMkAP"
      },
      "source": [
        "## How to Read Social Science"
      ]
    },
    {
      "cell_type": "markdown",
      "metadata": {
        "id": "cccdDIGSMnXt"
      },
      "source": [
        "# The Ultimate Goals of Reading"
      ]
    },
    {
      "cell_type": "markdown",
      "metadata": {
        "id": "FOmrqRQhMqgc"
      },
      "source": [
        "# The Forth Level of Reading: Syntopical Reading"
      ]
    },
    {
      "cell_type": "markdown",
      "metadata": {
        "id": "uxdROZAhMvu_"
      },
      "source": [
        "## Reading and the Growth of the Mind"
      ]
    },
    {
      "cell_type": "markdown",
      "metadata": {
        "id": "XaRvo-BbM29W"
      },
      "source": [
        "# Appendix"
      ]
    },
    {
      "cell_type": "markdown",
      "metadata": {
        "id": "k629h5QBM4_g"
      },
      "source": [
        "## A Recommended Reading List"
      ]
    },
    {
      "cell_type": "markdown",
      "metadata": {
        "id": "N3Hqnwd3M7Df"
      },
      "source": [
        "## Exercises and Test at the Four Levels of Reading"
      ]
    }
  ]
}