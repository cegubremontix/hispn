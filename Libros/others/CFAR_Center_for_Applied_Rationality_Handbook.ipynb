{
  "nbformat": 4,
  "nbformat_minor": 0,
  "metadata": {
    "colab": {
      "name": "CFAR - Center for Applied Rationality Handbook.ipynb",
      "provenance": [],
      "authorship_tag": "ABX9TyOLd9LZGpCho3DD0mPa5qaj",
      "include_colab_link": true
    },
    "kernelspec": {
      "name": "python3",
      "display_name": "Python 3"
    },
    "language_info": {
      "name": "python"
    }
  },
  "cells": [
    {
      "cell_type": "markdown",
      "metadata": {
        "id": "view-in-github",
        "colab_type": "text"
      },
      "source": [
        "<a href=\"https://colab.research.google.com/github/dbremont/Notas/blob/main/Libros/Otros/CFAR_Center_for_Applied_Rationality_Handbook.ipynb\" target=\"_parent\"><img src=\"https://colab.research.google.com/assets/colab-badge.svg\" alt=\"Open In Colab\"/></a>"
      ]
    },
    {
      "cell_type": "markdown",
      "source": [
        "# Introduction"
      ],
      "metadata": {
        "id": "Ua4MIkTY2zvM"
      }
    },
    {
      "cell_type": "markdown",
      "source": [
        "## What is \"Applied Rationality\"?"
      ],
      "metadata": {
        "id": "L3NkPyfo3u9M"
      }
    },
    {
      "cell_type": "markdown",
      "source": [
        "## Advice from Opening Session"
      ],
      "metadata": {
        "id": "nKOdyVM73zi3"
      }
    },
    {
      "cell_type": "markdown",
      "source": [
        "# Core Classes"
      ],
      "metadata": {
        "id": "JJdafT6433AO"
      }
    },
    {
      "cell_type": "markdown",
      "source": [
        "## Units of Exchange"
      ],
      "metadata": {
        "id": "p77dkdl935U8"
      }
    },
    {
      "cell_type": "markdown",
      "source": [
        "## Inner Simulator"
      ],
      "metadata": {
        "id": "s_EFf3GI4B1e"
      }
    },
    {
      "cell_type": "markdown",
      "source": [
        "## Trigger-Action Planning"
      ],
      "metadata": {
        "id": "B8qZCQl64Dyf"
      }
    },
    {
      "cell_type": "markdown",
      "source": [
        "## Goal Factoring"
      ],
      "metadata": {
        "id": "SjJ4i2vk4Gus"
      }
    },
    {
      "cell_type": "markdown",
      "source": [
        "## Focusing"
      ],
      "metadata": {
        "id": "2eWLTl3A4JNs"
      }
    },
    {
      "cell_type": "markdown",
      "source": [
        "## Bucket Errors"
      ],
      "metadata": {
        "id": "tov62VeI4kU0"
      }
    },
    {
      "cell_type": "markdown",
      "source": [
        "## Double Crux"
      ],
      "metadata": {
        "id": "60-3g2xX457q"
      }
    },
    {
      "cell_type": "markdown",
      "source": [
        "## Systematization"
      ],
      "metadata": {
        "id": "7uEsKhGZ47qh"
      }
    },
    {
      "cell_type": "markdown",
      "source": [
        "## Taste & Shaping"
      ],
      "metadata": {
        "id": "IJC8m-oh49pr"
      }
    },
    {
      "cell_type": "markdown",
      "source": [
        "## Confort Zone Expantion"
      ],
      "metadata": {
        "id": "xFZCDhMn5ASe"
      }
    },
    {
      "cell_type": "markdown",
      "source": [
        "## Resolve Cycles"
      ],
      "metadata": {
        "id": "nIV7OIR-5IzQ"
      }
    },
    {
      "cell_type": "markdown",
      "source": [
        "## Hamming Question"
      ],
      "metadata": {
        "id": "xFCi9uOE5LXF"
      }
    },
    {
      "cell_type": "markdown",
      "source": [
        "## Internal Double Crux"
      ],
      "metadata": {
        "id": "J5SzuRIS5bQC"
      }
    },
    {
      "cell_type": "markdown",
      "source": [
        "# Flash Classes"
      ],
      "metadata": {
        "id": "nMm_D9yN5dyF"
      }
    },
    {
      "cell_type": "markdown",
      "source": [
        "## Pedagogical Content Knowledge"
      ],
      "metadata": {
        "id": "eYHxI_xU5f_J"
      }
    },
    {
      "cell_type": "markdown",
      "source": [
        "## Polaris"
      ],
      "metadata": {
        "id": "MKEc4nXx5n43"
      }
    },
    {
      "cell_type": "markdown",
      "source": [
        "## Socratic Ducking"
      ],
      "metadata": {
        "id": "kC5Spfo05pRA"
      }
    },
    {
      "cell_type": "markdown",
      "source": [
        "## Eat Dirt"
      ],
      "metadata": {
        "id": "izk1afKa5rtU"
      }
    },
    {
      "cell_type": "markdown",
      "source": [
        "## OODA Loops"
      ],
      "metadata": {
        "id": "7nxEj3FU5t9E"
      }
    },
    {
      "cell_type": "markdown",
      "source": [
        "## Gears-Level Understanding"
      ],
      "metadata": {
        "id": "Bq06y7sa5wSb"
      }
    },
    {
      "cell_type": "markdown",
      "source": [
        "## Understanding Shoulds"
      ],
      "metadata": {
        "id": "y-ji6rpE5znl"
      }
    },
    {
      "cell_type": "markdown",
      "source": [
        "## Overlearning"
      ],
      "metadata": {
        "id": "G-9rR30153N8"
      }
    },
    {
      "cell_type": "markdown",
      "source": [
        "## Policy-Level Decisionmaking"
      ],
      "metadata": {
        "id": "TGttNdP656WB"
      }
    },
    {
      "cell_type": "markdown",
      "source": [
        "## The Area Under the Curve"
      ],
      "metadata": {
        "id": "YCqATXyR59dH"
      }
    },
    {
      "cell_type": "markdown",
      "source": [
        "## Saving State"
      ],
      "metadata": {
        "id": "1zcg7qH46AfG"
      }
    },
    {
      "cell_type": "markdown",
      "source": [
        "## Five-Second Versions"
      ],
      "metadata": {
        "id": "io-skSHp6DLg"
      }
    },
    {
      "cell_type": "markdown",
      "source": [
        "## The Strategic Level"
      ],
      "metadata": {
        "id": "d5x1C37I6F-Q"
      }
    },
    {
      "cell_type": "markdown",
      "source": [
        "## Appendices"
      ],
      "metadata": {
        "id": "AiY3OkBF6IMC"
      }
    },
    {
      "cell_type": "markdown",
      "source": [
        "## Marginal Attention"
      ],
      "metadata": {
        "id": "7UhGmKy56KOX"
      }
    },
    {
      "cell_type": "markdown",
      "source": [
        "## Turbocarching"
      ],
      "metadata": {
        "id": "-jERFrAE6MOS"
      }
    },
    {
      "cell_type": "markdown",
      "source": [
        "## Againstness"
      ],
      "metadata": {
        "id": "_Vq7PhEn6Nzr"
      }
    },
    {
      "cell_type": "markdown",
      "source": [
        "## Aversion Factoring"
      ],
      "metadata": {
        "id": "fHBySj_q6P06"
      }
    },
    {
      "cell_type": "markdown",
      "source": [
        "## Copernicus and Chaos"
      ],
      "metadata": {
        "id": "f0TcTeHf6SIx"
      }
    },
    {
      "cell_type": "markdown",
      "source": [
        "## Frame-by-Frame Debugging"
      ],
      "metadata": {
        "id": "2eASHXWp6UXG"
      }
    },
    {
      "cell_type": "markdown",
      "source": [
        "## Mundanification"
      ],
      "metadata": {
        "id": "ODWsHyhW6XA1"
      }
    },
    {
      "cell_type": "markdown",
      "source": [
        "## Negative Visualization"
      ],
      "metadata": {
        "id": "UttqKJyN6Zb6"
      }
    },
    {
      "cell_type": "markdown",
      "source": [
        "## Delibarative Performace"
      ],
      "metadata": {
        "id": "hpY8AN2u6b_X"
      }
    },
    {
      "cell_type": "markdown",
      "source": [
        "## Glossary"
      ],
      "metadata": {
        "id": "l6aEfFi96jKp"
      }
    }
  ]
}