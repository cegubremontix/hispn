{
  "nbformat": 4,
  "nbformat_minor": 0,
  "metadata": {
    "colab": {
      "name": "The Black Swam.ipynb",
      "provenance": [],
      "authorship_tag": "ABX9TyPVcZyztL7UfVqH0mg2oi22",
      "include_colab_link": true
    },
    "kernelspec": {
      "name": "python3",
      "display_name": "Python 3"
    },
    "language_info": {
      "name": "python"
    }
  },
  "cells": [
    {
      "cell_type": "markdown",
      "metadata": {
        "id": "view-in-github",
        "colab_type": "text"
      },
      "source": [
        "<a href=\"https://colab.research.google.com/github/dbremont/Notas/blob/main/The_Black_Swam.ipynb\" target=\"_parent\"><img src=\"https://colab.research.google.com/assets/colab-badge.svg\" alt=\"Open In Colab\"/></a>"
      ]
    },
    {
      "cell_type": "markdown",
      "source": [
        "# Umberto Eco's Antilibrary, or How We Seek Validation"
      ],
      "metadata": {
        "id": "rOtBzCqyAXB7"
      }
    },
    {
      "cell_type": "markdown",
      "source": [
        "## The Apprenticeship of an Empirical Skeptic"
      ],
      "metadata": {
        "id": "II9SAolUAchz"
      }
    },
    {
      "cell_type": "markdown",
      "source": [
        "## Yevgenia's Black Swam"
      ],
      "metadata": {
        "id": "vYX674JRAgXD"
      }
    },
    {
      "cell_type": "markdown",
      "source": [
        "## The Speculator and the Prostitue"
      ],
      "metadata": {
        "id": "6z3-PGkhAsxY"
      }
    },
    {
      "cell_type": "markdown",
      "source": [
        "## One Thousand and One Days, or How Not to Be a Sucket"
      ],
      "metadata": {
        "id": "_EMGANMtAzXj"
      }
    },
    {
      "cell_type": "markdown",
      "source": [
        "## Confirmation Shmonfirmation!"
      ],
      "metadata": {
        "id": "guDcfLDZA5W8"
      }
    },
    {
      "cell_type": "markdown",
      "source": [
        "## The Narrative Fallacy"
      ],
      "metadata": {
        "id": "7XKsu8CkA9ew"
      }
    },
    {
      "cell_type": "markdown",
      "source": [
        "## Living in the Antechamber of Hope"
      ],
      "metadata": {
        "id": "4Z3BniQ5BAff"
      }
    },
    {
      "cell_type": "markdown",
      "source": [
        "## Giacomo Casanova's Unfailing Luck: The problem with Silent Evidence"
      ],
      "metadata": {
        "id": "8CQmSX4NBEBe"
      }
    },
    {
      "cell_type": "markdown",
      "source": [
        "## The Ludic Fallacy, or the Uncertainty of the Nerd"
      ],
      "metadata": {
        "id": "-ImgTpOzBLNP"
      }
    },
    {
      "cell_type": "markdown",
      "source": [
        "# We Just Can't Predict"
      ],
      "metadata": {
        "id": "28rfcUMkBQMT"
      }
    },
    {
      "cell_type": "markdown",
      "source": [
        "## The Scandal of Prediction"
      ],
      "metadata": {
        "id": "_LUhh_m-Bij3"
      }
    },
    {
      "cell_type": "markdown",
      "source": [
        "## How to Look for Bird Poop"
      ],
      "metadata": {
        "id": "3N1hI9RsBkqf"
      }
    },
    {
      "cell_type": "markdown",
      "source": [
        "## Epistemocracy, a Dream"
      ],
      "metadata": {
        "id": "HC18lgILBnmz"
      }
    },
    {
      "cell_type": "markdown",
      "source": [
        "## Apelles the Painter, or What Do You Do if You Cannot Predict?"
      ],
      "metadata": {
        "id": "IfxxeWsdBqTj"
      }
    },
    {
      "cell_type": "markdown",
      "source": [
        "# Those Gray Swams of Extremistan"
      ],
      "metadata": {
        "id": "d6h-efALBvTj"
      }
    },
    {
      "cell_type": "markdown",
      "source": [
        "## From Mediocristan to Extremistan, and Back"
      ],
      "metadata": {
        "id": "y46omJ0zB2Wk"
      }
    },
    {
      "cell_type": "markdown",
      "source": [
        "## The Bell Curve, The Great Intellectual Fraud"
      ],
      "metadata": {
        "id": "jGlKgsXbB6Zk"
      }
    },
    {
      "cell_type": "markdown",
      "source": [
        "## The Aesthetics of Randomness"
      ],
      "metadata": {
        "id": "xZJAFuy3CB5u"
      }
    },
    {
      "cell_type": "markdown",
      "source": [
        "## Locke's Madmen, or Bell Curves in the Wrong Places"
      ],
      "metadata": {
        "id": "ieBnVh4ZCGMo"
      }
    },
    {
      "cell_type": "markdown",
      "source": [
        "## The Uncertainty of the Phony"
      ],
      "metadata": {
        "id": "N_j9qotoCKux"
      }
    },
    {
      "cell_type": "markdown",
      "source": [
        "# The End"
      ],
      "metadata": {
        "id": "uQMD1swoCNkc"
      }
    },
    {
      "cell_type": "markdown",
      "source": [
        "## Half and Half, or How to Get Even with the Black Swam "
      ],
      "metadata": {
        "id": "5vaI8vrrCZVy"
      }
    },
    {
      "cell_type": "markdown",
      "source": [
        "# Postcriptic Essay: The Robustness and Fragility, Deeper Philosophical and Empirical Reflections "
      ],
      "metadata": {
        "id": "gN_JZM6nCf4d"
      }
    },
    {
      "cell_type": "markdown",
      "source": [
        "## Learning from Mother Nature, the Oldest and the Wisest"
      ],
      "metadata": {
        "id": "ZLvX9ANsCzb8"
      }
    },
    {
      "cell_type": "markdown",
      "source": [
        "## Why I Do All this Walking, or How Systems Become Fragile"
      ],
      "metadata": {
        "id": "_CCCNmG2C6Qr"
      }
    },
    {
      "cell_type": "markdown",
      "source": [
        "## Margaritas Ante Porcos"
      ],
      "metadata": {
        "id": "GjuXN4o1DAPs"
      }
    },
    {
      "cell_type": "markdown",
      "source": [
        "## Asperger and the Ontological Black Swam"
      ],
      "metadata": {
        "id": "fCd9wddEDDSD"
      }
    },
    {
      "cell_type": "markdown",
      "source": [
        "## (Perphas) The Most Useful Problem in the History of Modern Philosophy"
      ],
      "metadata": {
        "id": "s6-238YKDHMB"
      }
    },
    {
      "cell_type": "markdown",
      "source": [
        "## The Fourth Quadrant, the Solution to that Most Useful of Problems"
      ],
      "metadata": {
        "id": "iQpQZ7oYDPm3"
      }
    },
    {
      "cell_type": "markdown",
      "source": [
        "## What to Do with the Forth Quadrant"
      ],
      "metadata": {
        "id": "4jksglTJDVET"
      }
    },
    {
      "cell_type": "markdown",
      "source": [
        "## The Ten Principles for a Black-Swam-Robust Society"
      ],
      "metadata": {
        "id": "gpWVjj8JDYxK"
      }
    },
    {
      "cell_type": "markdown",
      "source": [
        "## Amar-Fati: How to Become Indestructible   "
      ],
      "metadata": {
        "id": "5FSToiRQDdpf"
      }
    }
  ]
}
