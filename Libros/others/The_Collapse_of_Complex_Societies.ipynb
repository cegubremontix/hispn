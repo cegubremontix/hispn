{
  "nbformat": 4,
  "nbformat_minor": 0,
  "metadata": {
    "colab": {
      "name": "The Collapse of Complex Societies.ipynb",
      "provenance": [],
      "collapsed_sections": [],
      "authorship_tag": "ABX9TyPulVzIZRoFhPduqlHuYf/U",
      "include_colab_link": true
    },
    "kernelspec": {
      "name": "python3",
      "display_name": "Python 3"
    },
    "language_info": {
      "name": "python"
    }
  },
  "cells": [
    {
      "cell_type": "markdown",
      "metadata": {
        "id": "view-in-github",
        "colab_type": "text"
      },
      "source": [
        "<a href=\"https://colab.research.google.com/github/dbremont/Notas/blob/main/Libros/others/The_Collapse_of_Complex_Societies.ipynb\" target=\"_parent\"><img src=\"https://colab.research.google.com/assets/colab-badge.svg\" alt=\"Open In Colab\"/></a>"
      ]
    },
    {
      "cell_type": "markdown",
      "source": [
        "The Collapse of Complex Societies\n",
        "\n",
        "Tainter, J. A. (1988). New studies in archaeology: The collapse of complex societies. Cambridge University Press."
      ],
      "metadata": {
        "id": "YP5UQN8A1RCR"
      }
    },
    {
      "cell_type": "markdown",
      "source": [
        "(The Collapse of Complex Societies) What is this book about?\n",
        "\n",
        "Its about models of the evolution of complexity in a society.\n",
        "- Grow / Order\n",
        "- Decline / Disordre"
      ],
      "metadata": {
        "id": "fWstWzzb1ZOy"
      }
    },
    {
      "cell_type": "markdown",
      "source": [
        "Why read it?\n",
        "\n",
        "It gives you a good framework to think about grow of complexity in a  society, and how that complexity disappears.\n",
        "\n"
      ],
      "metadata": {
        "id": "U8bVZqxt1b_6"
      }
    },
    {
      "cell_type": "markdown",
      "source": [
        "How this book is structure?\n",
        "\n",
        "- It first define the meaning of collapse, and the nature of complex societies.\n",
        "- Then it goes to explore the proceses that are common causes of collapse."
      ],
      "metadata": {
        "id": "IxQfgb961c-C"
      }
    },
    {
      "cell_type": "markdown",
      "source": [
        "So what ..."
      ],
      "metadata": {
        "id": "okxSNvvr1fyi"
      }
    },
    {
      "cell_type": "markdown",
      "source": [
        "For whom?"
      ],
      "metadata": {
        "id": "iZyo_qL01h5i"
      }
    },
    {
      "cell_type": "markdown",
      "source": [
        "## Secundarias"
      ],
      "metadata": {
        "id": "r1tefcx71lXT"
      }
    },
    {
      "cell_type": "markdown",
      "source": [
        "What is \"ad hoc\" solution?\n",
        "It means \"for this\".\n",
        "It's specific solution for a very precise problem. That can not generalize.\n",
        "\n",
        "For example:\n",
        "- Try to implement a program to solve only one instance of a problem.\n",
        "\n",
        "- La regla de validacion que solo trabaja para un tipo de documento. Por que hasta ahora los demás documentos no estan incluidos en el proceso, pero cuando lo esten nuestra solución no sera valida.\n",
        "\n"
      ],
      "metadata": {
        "id": "D3UEsRj_1oUE"
      }
    },
    {
      "cell_type": "markdown",
      "source": [
        "What are the features of complex societies?\n",
        "- Social Stratification,\n",
        "- Centralize control,\n",
        "- Rules / Regulation,\n",
        "- High Information Flow,\n",
        "- Large Information Networks,\n",
        "- A lot of social roles / Division of Labor / Specialization"
      ],
      "metadata": {
        "id": "VqOjKpV-1suL"
      }
    },
    {
      "cell_type": "markdown",
      "source": [
        "What is societal collapse?\n",
        "\n",
        "It a rapit decline in a the complexity level of a society.\n",
        "\n",
        "Examples:\n",
        "- Roman collapse\n"
      ],
      "metadata": {
        "id": "YJWu_lba1vvC"
      }
    },
    {
      "cell_type": "markdown",
      "source": [
        "Is there a differece between collapose and decline?\n",
        "\n",
        "Collapse is rapid, decline is a slow proces on the reduction of the complexity of the society."
      ],
      "metadata": {
        "id": "LzmZeu6Y1y47"
      }
    },
    {
      "cell_type": "markdown",
      "source": [
        "Why is the Hittite society consider complex?\n",
        "- Legal Systems / Rules / Hittite Codes\n",
        "- Diversify agriculture / Mining / Markets \n",
        "- Trade Networks\n",
        "- Writing"
      ],
      "metadata": {
        "id": "v6kbYNoA14QC"
      }
    },
    {
      "cell_type": "markdown",
      "source": [
        "Why are trives not consider complex societies?\n",
        "\n",
        "- Only a docen of social roles,\n",
        "- Ver simple social norms / Usully unwritten,\n",
        "- Trade is that un-common,\n",
        "- Minimal stratification"
      ],
      "metadata": {
        "id": "2fW4lk7O4K0J"
      }
    },
    {
      "cell_type": "markdown",
      "source": [
        "What is the state?\n",
        "\n",
        "Is a centralized politcal organizatio that imposes and enforces rules over population within a territory."
      ],
      "metadata": {
        "id": "o7XiZfJe4UUj"
      }
    }
  ]
}