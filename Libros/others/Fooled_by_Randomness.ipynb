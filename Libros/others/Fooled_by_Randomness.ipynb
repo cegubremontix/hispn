{
  "nbformat": 4,
  "nbformat_minor": 0,
  "metadata": {
    "colab": {
      "name": "Fooled by Randomness.ipynb",
      "provenance": [],
      "authorship_tag": "ABX9TyPyU4EYcM7PpmwzEqgQ2aTG",
      "include_colab_link": true
    },
    "kernelspec": {
      "name": "python3",
      "display_name": "Python 3"
    },
    "language_info": {
      "name": "python"
    }
  },
  "cells": [
    {
      "cell_type": "markdown",
      "metadata": {
        "id": "view-in-github",
        "colab_type": "text"
      },
      "source": [
        "<a href=\"https://colab.research.google.com/github/dbremont/Notas/blob/main/Libros/others/Fooled_by_Randomness.ipynb\" target=\"_parent\"><img src=\"https://colab.research.google.com/assets/colab-badge.svg\" alt=\"Open In Colab\"/></a>"
      ]
    },
    {
      "cell_type": "markdown",
      "source": [
        "Much has ben written about our biases (adquired or genetic) in dealing with randomnes over the past decade. \n",
        "\n",
        "Mechanisms by which the brain sees the world, less, far less, random than it actually is.\n",
        "\n",
        "\"Fat tails\" that wild brand of uncertainty that cuases large deviations (rare events explain more and more of the world we live in, but at the same time remain as counterintuitive to us as they were our ancerstors).\n",
        "\n",
        "Rules used to write the book:\n",
        "- Anything that I did not either personally witness on the topic or develop independently, \n",
        "- Anything that I have not distilled well enough to be able to write on the subject with only the slightest effort.\n",
        "\n",
        "**Handsight Bias** Pass events will always look less random than they actually were. \n",
        "\n",
        "\n"
      ],
      "metadata": {
        "id": "2iFFS2KHlOZP"
      }
    },
    {
      "cell_type": "markdown",
      "source": [
        "Recursos 1 - Parte\n",
        "\n",
        "[Monte Carlo method](https://en.wikipedia.org/wiki/Monte_Carlo_method)\n",
        "\n",
        "[Introduction to Monte Carlo and MCMC Methods](https://citeseerx.ist.psu.edu/viewdoc/download?doi=10.1.1.723.7150&rep=rep1&type=pdf)\n",
        "\n",
        "[Monte Carlo Methods](https://www.unige.ch/sciences/astro/files/2713/8971/4086/3_Paltani_MonteCarlo.pdf)\n",
        "\n",
        "[Theory of Value - An Axiomatic Analysis of Economic Equilibrium](https://cowles.yale.edu/sites/default/files/files/pub/mon/m17-all.pdf)\n",
        "\n",
        "[The Data Engine](http://dev.null.org/dadaengine/)\n",
        "\n",
        "[Postmodernism Generator](https://en.wikipedia.org/wiki/Postmodernism_Generator#cite_note-1)\n",
        "\n",
        "[Text Generator](https://text-generator.org/)\n",
        "\n",
        "[The snarXiv](http://davidsd.org/2010/03/the-snarxiv/)\n",
        "\n",
        "[eebot.pl](http://websites.umich.edu/~nelsonde/eebotsource.txt)\n",
        "\n",
        "[chomsky generator](http://websites.umich.edu/~jlawler/fogcode.html)"
      ],
      "metadata": {
        "id": "JD9iELL2ZqZN"
      }
    },
    {
      "cell_type": "markdown",
      "source": [
        "What's in the name \"Fooled by Ranmness?\"\n"
      ],
      "metadata": {
        "id": "5L1NY7yvdveQ"
      }
    },
    {
      "cell_type": "markdown",
      "source": [
        "Why our brain see the world less Random than it is? Pag. "
      ],
      "metadata": {
        "id": "M2bHNHKZd08f"
      }
    },
    {
      "cell_type": "markdown",
      "source": [
        "What is a \"fat tailed distribution\"?"
      ],
      "metadata": {
        "id": "ezeQU6RxeBbj"
      }
    },
    {
      "cell_type": "markdown",
      "source": [
        "Statistical Distribution of Outcomes of Phenomena"
      ],
      "metadata": {
        "id": "LNgQKqt4eJSF"
      }
    },
    {
      "cell_type": "markdown",
      "source": [
        "How a situation may change in the future? e.g hapiness"
      ],
      "metadata": {
        "id": "5SfGEw7seUB6"
      }
    },
    {
      "cell_type": "markdown",
      "source": [
        "What is the problem of induction?"
      ],
      "metadata": {
        "id": "9_6MrgWGee4B"
      }
    },
    {
      "cell_type": "markdown",
      "source": [
        "Rare events or black swams"
      ],
      "metadata": {
        "id": "mt1T6yI6ehyd"
      }
    },
    {
      "cell_type": "markdown",
      "source": [
        "Skewness issue - 4 solon"
      ],
      "metadata": {
        "id": "eFQ-DBqOemfZ"
      }
    },
    {
      "cell_type": "markdown",
      "source": [
        "How a large section of business mans with outstanding track records will be  no than better then randomly thrown darts? Pag 18"
      ],
      "metadata": {
        "id": "BjWzQSXoeutf"
      }
    },
    {
      "cell_type": "markdown",
      "source": [
        "How serotonine affects the perception of randomness? Pag 18"
      ],
      "metadata": {
        "id": "UsiMBM7WfHt6"
      }
    },
    {
      "cell_type": "markdown",
      "source": [
        "Tabeb Method for meassuring things? Pag 20"
      ],
      "metadata": {
        "id": "QixlVvSffPyn"
      }
    },
    {
      "cell_type": "markdown",
      "source": [
        "How to use \"alternative histories\" to measure the performace of desicition making? Pag - 20"
      ],
      "metadata": {
        "id": "nGD3VIbNfU2B"
      }
    },
    {
      "cell_type": "markdown",
      "source": [
        "What does the idea of \"state space\" in economies and \"alternative histories\" have in common?"
      ],
      "metadata": {
        "id": "smnD9DnDfcUk"
      }
    },
    {
      "cell_type": "markdown",
      "source": [
        "Describe \"Daniel Khaneman\" and \"Amos Tversky\" experiment of willigness to pay for insureance (Refactor this question) Pag 37"
      ],
      "metadata": {
        "id": "dKv0ZCGffoqn"
      }
    },
    {
      "cell_type": "markdown",
      "source": [
        "How to use monte carlo methods as a methaphor for \"understanding\" a sequence of random historical event? Pag - 43"
      ],
      "metadata": {
        "id": "UdQBOJouf4BK"
      }
    },
    {
      "cell_type": "markdown",
      "source": [
        "What are monto carlo methods? Pag 45"
      ],
      "metadata": {
        "id": "NR5dJ4wsgFoW"
      }
    },
    {
      "cell_type": "markdown",
      "source": [
        "Relation between \"alternatives histories\" and \"monte carlo methods\"? Pag 45"
      ],
      "metadata": {
        "id": "9Vcyh2SBgP9p"
      }
    },
    {
      "cell_type": "markdown",
      "source": [
        "What is sample? Pag 45"
      ],
      "metadata": {
        "id": "QMfAt5qSgX23"
      }
    },
    {
      "cell_type": "markdown",
      "source": [
        "What is a \"random sample path\"? Pag 45"
      ],
      "metadata": {
        "id": "yocvmlrXgbim"
      }
    },
    {
      "cell_type": "markdown",
      "source": [
        "What is an \"stochastic process\"? Pag 46"
      ],
      "metadata": {
        "id": "KSvhjwOJgh-K"
      }
    },
    {
      "cell_type": "markdown",
      "source": [
        "What is a \"monte carlo generator\"? Pag 46"
      ],
      "metadata": {
        "id": "Or5kc7xCgnRl"
      }
    },
    {
      "cell_type": "markdown",
      "source": [
        "What is a \"historica determination bias\"? - Pag 55"
      ],
      "metadata": {
        "id": "fl8yTRtWgsbm"
      }
    },
    {
      "cell_type": "markdown",
      "source": [
        "What is the \"hansight bias\"? Pag 56"
      ],
      "metadata": {
        "id": "fU_inPVVh5xG"
      }
    },
    {
      "cell_type": "markdown",
      "source": [
        "Noise vs Information - Pag 64"
      ],
      "metadata": {
        "id": "rUHwiQ2eh-52"
      }
    },
    {
      "cell_type": "markdown",
      "source": [
        "Scaling property of randomnes - Pag 66"
      ],
      "metadata": {
        "id": "x4grxXTDiGjf"
      }
    },
    {
      "cell_type": "markdown",
      "source": [
        "Application of monte carlo methods - Pag 66"
      ],
      "metadata": {
        "id": "rGy7_SquiMjl"
      }
    },
    {
      "cell_type": "markdown",
      "source": [
        "Inductive statements? - Pag 71"
      ],
      "metadata": {
        "id": "pMWjNhEciPyB"
      }
    },
    {
      "cell_type": "markdown",
      "source": [
        "Deductive statements - Pag 71"
      ],
      "metadata": {
        "id": "Nb9CtmfYiUzu"
      }
    },
    {
      "cell_type": "markdown",
      "source": [
        "Can economic theories / models train on past data, hide randonmess? Pag 91"
      ],
      "metadata": {
        "id": "YFYxJvE3iZ-V"
      }
    },
    {
      "cell_type": "markdown",
      "source": [
        "Can evolution lead to regression? Pag 95"
      ],
      "metadata": {
        "id": "tF1YCaRrikVB"
      }
    },
    {
      "cell_type": "markdown",
      "source": [
        "Explain the idea of genetic noise? Pag 95"
      ],
      "metadata": {
        "id": "YiUhCQgoioH8"
      }
    },
    {
      "cell_type": "markdown",
      "source": [
        "Are darwing ideas in evolution about? Pag 94 \n",
        "- **Fitnees** \n",
        "- Survival\n",
        "- Both\n",
        "- None"
      ],
      "metadata": {
        "id": "6EZntFSmitUI"
      }
    },
    {
      "cell_type": "markdown",
      "source": [
        "If there is an assymetry in outcomes what can you say about average vs median? Pag 98"
      ],
      "metadata": {
        "id": "0Y0KsVX3i4hB"
      }
    },
    {
      "cell_type": "markdown",
      "source": [
        "Explain the idea of expected value? pag 98"
      ],
      "metadata": {
        "id": "TN-zeKSRjEBk"
      }
    },
    {
      "cell_type": "markdown",
      "source": [
        "Why don't statisticians detect rare events? Pag-112"
      ],
      "metadata": {
        "id": "-S25okmajNYw"
      }
    },
    {
      "cell_type": "markdown",
      "source": [
        "Expand on the lucas critique? Pag 114"
      ],
      "metadata": {
        "id": "nQz3Z4tWjSLM"
      }
    },
    {
      "cell_type": "markdown",
      "source": [
        "State the problem of induction - Pag 116"
      ],
      "metadata": {
        "id": "s2w86I-CjWc3"
      }
    },
    {
      "cell_type": "markdown",
      "source": [
        "State the black swam problem of Jhon Stuard Mill - Pag 117"
      ],
      "metadata": {
        "id": "YiyaJy1OjaH_"
      }
    },
    {
      "cell_type": "markdown",
      "source": [
        "Expand on naive empririssism? Pag 118"
      ],
      "metadata": {
        "id": "_ZXVIOGCjgB_"
      }
    },
    {
      "cell_type": "markdown",
      "source": [
        "Use the following statement to explain naive empirisicm \"automobile accidents happen closer to home\"?"
      ],
      "metadata": {
        "id": "e7_F0iTgjl8Y"
      }
    },
    {
      "cell_type": "markdown",
      "source": [
        "Why a scientific theory is never right? Pag 126"
      ],
      "metadata": {
        "id": "8RhQsqSPjywP"
      }
    },
    {
      "cell_type": "markdown",
      "source": [
        "Pascal strategy to deal with the problem of induction? Pag 130"
      ],
      "metadata": {
        "id": "2Pxf-cB-j4z3"
      }
    },
    {
      "cell_type": "markdown",
      "source": [
        "# Solon's Warning"
      ],
      "metadata": {
        "id": "NeZbkJ2c6TEj"
      }
    },
    {
      "cell_type": "markdown",
      "source": [
        "## If you're so rich, why are'n you so smart?"
      ],
      "metadata": {
        "id": "bOvcEDph6iZ7"
      }
    },
    {
      "cell_type": "markdown",
      "source": [
        "## A Bizzare Accounting Method"
      ],
      "metadata": {
        "id": "RwpMMm5R6rLN"
      }
    },
    {
      "cell_type": "markdown",
      "source": [
        "## A Methematical Meditation on History"
      ],
      "metadata": {
        "id": "Ab0lnlFa6w17"
      }
    },
    {
      "cell_type": "markdown",
      "source": [
        "## Randonmess, Nonsense, and Actual Scientific Intellectual"
      ],
      "metadata": {
        "id": "nfeySW4p614-"
      }
    },
    {
      "cell_type": "markdown",
      "source": [
        "## Survival of the least fit, can evoluation be fooled by randomness?"
      ],
      "metadata": {
        "id": "mTqLdfun682c"
      }
    },
    {
      "cell_type": "markdown",
      "source": [
        "## Skewness and Asymetry"
      ],
      "metadata": {
        "id": "hpGSWbcX7C6u"
      }
    },
    {
      "cell_type": "markdown",
      "source": [
        "## The Problem of Induction"
      ],
      "metadata": {
        "id": "9z_2O4Ru7Ink"
      }
    },
    {
      "cell_type": "markdown",
      "source": [
        "# Monkeys on Typewriters"
      ],
      "metadata": {
        "id": "7Sx2NOkn6XB_"
      }
    },
    {
      "cell_type": "markdown",
      "source": [
        "## Too Many Millionaries Next Door"
      ],
      "metadata": {
        "id": "iodsMF8V7NYE"
      }
    },
    {
      "cell_type": "markdown",
      "source": [
        "## It is easier to buy and sell than fry an egg"
      ],
      "metadata": {
        "id": "7gU3Fu8G7TDO"
      }
    },
    {
      "cell_type": "markdown",
      "source": [
        "## Losers take all - On the nonlinearities of life"
      ],
      "metadata": {
        "id": "YsYNlH9W7WrD"
      }
    },
    {
      "cell_type": "markdown",
      "source": [
        "## Randomnes and our mind: We are probably blind"
      ],
      "metadata": {
        "id": "mCbs-r867cM6"
      }
    },
    {
      "cell_type": "markdown",
      "source": [
        "# Wax in my ears"
      ],
      "metadata": {
        "id": "ur5HTWuf6drk"
      }
    },
    {
      "cell_type": "markdown",
      "source": [
        "## Gambler's Tick and Pigeons in a Box"
      ],
      "metadata": {
        "id": "jsw7g6qq7i2-"
      }
    },
    {
      "cell_type": "markdown",
      "source": [
        "## Carneades comes to Rome: On Probability and Skepticism"
      ],
      "metadata": {
        "id": "unrBtxrF7oNb"
      }
    },
    {
      "cell_type": "markdown",
      "source": [
        "## Bacchus Abandon Antony"
      ],
      "metadata": {
        "id": "N5tWipMI7uod"
      }
    },
    {
      "cell_type": "markdown",
      "source": [
        "## Solon Told You So"
      ],
      "metadata": {
        "id": "fiKh7Q3z7y7G"
      }
    },
    {
      "cell_type": "markdown",
      "source": [
        "## Three Afterthoughts in the Shower"
      ],
      "metadata": {
        "id": "K1_eWM3p71ft"
      }
    }
  ]
}