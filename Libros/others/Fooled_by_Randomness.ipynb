{
  "nbformat": 4,
  "nbformat_minor": 0,
  "metadata": {
    "colab": {
      "name": "Fooled by Randomness.ipynb",
      "provenance": [],
      "authorship_tag": "ABX9TyMy4221LuygoI1ARA6tw5+8",
      "include_colab_link": true
    },
    "kernelspec": {
      "name": "python3",
      "display_name": "Python 3"
    },
    "language_info": {
      "name": "python"
    }
  },
  "cells": [
    {
      "cell_type": "markdown",
      "metadata": {
        "id": "view-in-github",
        "colab_type": "text"
      },
      "source": [
        "<a href=\"https://colab.research.google.com/github/dbremont/Notas/blob/main/Libros/others/Fooled_by_Randomness.ipynb\" target=\"_parent\"><img src=\"https://colab.research.google.com/assets/colab-badge.svg\" alt=\"Open In Colab\"/></a>"
      ]
    },
    {
      "cell_type": "markdown",
      "source": [
        "Much has ben written about our biases (adquired or genetic) in dealing with randomnes over the past decade. \n",
        "\n",
        "Mechanisms by which the brain sees the world, less, far less, random than it actually is.\n",
        "\n",
        "\"Fat tails\" that wild brand of uncertainty that cuases large deviations (rare events explain more and more of the world we live in, but at the same time remain as counterintuitive to us as they were our ancerstors).\n",
        "\n",
        "Rules used to write the book:\n",
        "- Anything that I did not either personally witness on the topic or develop independently, \n",
        "- Anything that I have not distilled well enough to be able to write on the subject with only the slightest effort.\n",
        "\n",
        "**Handsight Bias** Pass events will always look less random than they actually were. \n",
        "\n",
        "\n"
      ],
      "metadata": {
        "id": "2iFFS2KHlOZP"
      }
    },
    {
      "cell_type": "markdown",
      "source": [
        "Recursos 1 - Parte\n",
        "\n",
        "[Monte Carlo method](https://en.wikipedia.org/wiki/Monte_Carlo_method)\n",
        "\n",
        "[Introduction to Monte Carlo and MCMC Methods](https://citeseerx.ist.psu.edu/viewdoc/download?doi=10.1.1.723.7150&rep=rep1&type=pdf)\n",
        "\n",
        "[Monte Carlo Methods](https://www.unige.ch/sciences/astro/files/2713/8971/4086/3_Paltani_MonteCarlo.pdf)\n",
        "\n",
        "[Theory of Value - An Axiomatic Analysis of Economic Equilibrium](https://cowles.yale.edu/sites/default/files/files/pub/mon/m17-all.pdf)\n",
        "\n",
        "[The Data Engine](http://dev.null.org/dadaengine/)\n",
        "\n",
        "[Postmodernism Generator](https://en.wikipedia.org/wiki/Postmodernism_Generator#cite_note-1)\n",
        "\n",
        "[Text Generator](https://text-generator.org/)\n",
        "\n",
        "[The snarXiv](http://davidsd.org/2010/03/the-snarxiv/)\n",
        "\n",
        "[eebot.pl](http://websites.umich.edu/~nelsonde/eebotsource.txt)\n",
        "\n",
        "[chomsky generator](http://websites.umich.edu/~jlawler/fogcode.html)"
      ],
      "metadata": {
        "id": "JD9iELL2ZqZN"
      }
    },
    {
      "cell_type": "markdown",
      "source": [
        "# Solon's Warning"
      ],
      "metadata": {
        "id": "NeZbkJ2c6TEj"
      }
    },
    {
      "cell_type": "markdown",
      "source": [
        "## If you're so rich, why are'n you so smart?"
      ],
      "metadata": {
        "id": "bOvcEDph6iZ7"
      }
    },
    {
      "cell_type": "markdown",
      "source": [
        "## A Bizzare Accounting Method"
      ],
      "metadata": {
        "id": "RwpMMm5R6rLN"
      }
    },
    {
      "cell_type": "markdown",
      "source": [
        "## A Methematical Meditation on History"
      ],
      "metadata": {
        "id": "Ab0lnlFa6w17"
      }
    },
    {
      "cell_type": "markdown",
      "source": [
        "## Randonmess, Nonsense, and Actual Scientific Intellectual"
      ],
      "metadata": {
        "id": "nfeySW4p614-"
      }
    },
    {
      "cell_type": "markdown",
      "source": [
        "## Survival of the least fit, can evoluation be fooled by randomness?"
      ],
      "metadata": {
        "id": "mTqLdfun682c"
      }
    },
    {
      "cell_type": "markdown",
      "source": [
        "## Skewness and Asymetry"
      ],
      "metadata": {
        "id": "hpGSWbcX7C6u"
      }
    },
    {
      "cell_type": "markdown",
      "source": [
        "## The Problem of Induction"
      ],
      "metadata": {
        "id": "9z_2O4Ru7Ink"
      }
    },
    {
      "cell_type": "markdown",
      "source": [
        "# Monkeys on Typewriters"
      ],
      "metadata": {
        "id": "7Sx2NOkn6XB_"
      }
    },
    {
      "cell_type": "markdown",
      "source": [
        "## Too Many Millionaries Next Door"
      ],
      "metadata": {
        "id": "iodsMF8V7NYE"
      }
    },
    {
      "cell_type": "markdown",
      "source": [
        "## It is easier to buy and sell than fry an egg"
      ],
      "metadata": {
        "id": "7gU3Fu8G7TDO"
      }
    },
    {
      "cell_type": "markdown",
      "source": [
        "## Losers take all - On the nonlinearities of life"
      ],
      "metadata": {
        "id": "YsYNlH9W7WrD"
      }
    },
    {
      "cell_type": "markdown",
      "source": [
        "## Randomnes and our mind: We are probably blind"
      ],
      "metadata": {
        "id": "mCbs-r867cM6"
      }
    },
    {
      "cell_type": "markdown",
      "source": [
        "# Wax in my ears"
      ],
      "metadata": {
        "id": "ur5HTWuf6drk"
      }
    },
    {
      "cell_type": "markdown",
      "source": [
        "## Gambler's Tick and Pigeons in a Box"
      ],
      "metadata": {
        "id": "jsw7g6qq7i2-"
      }
    },
    {
      "cell_type": "markdown",
      "source": [
        "## Carneades comes to Rome: On Probability and Skepticism"
      ],
      "metadata": {
        "id": "unrBtxrF7oNb"
      }
    },
    {
      "cell_type": "markdown",
      "source": [
        "## Bacchus Abandon Antony"
      ],
      "metadata": {
        "id": "N5tWipMI7uod"
      }
    },
    {
      "cell_type": "markdown",
      "source": [
        "## Solon Told You So"
      ],
      "metadata": {
        "id": "fiKh7Q3z7y7G"
      }
    },
    {
      "cell_type": "markdown",
      "source": [
        "## Three Afterthoughts in the Shower"
      ],
      "metadata": {
        "id": "K1_eWM3p71ft"
      }
    }
  ]
}