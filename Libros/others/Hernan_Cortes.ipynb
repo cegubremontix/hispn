{
  "nbformat": 4,
  "nbformat_minor": 0,
  "metadata": {
    "colab": {
      "name": "Hernan Cortes.ipynb",
      "provenance": [],
      "authorship_tag": "ABX9TyOxBJftdFhMmDuTlEUm29K2",
      "include_colab_link": true
    },
    "kernelspec": {
      "name": "python3",
      "display_name": "Python 3"
    },
    "language_info": {
      "name": "python"
    }
  },
  "cells": [
    {
      "cell_type": "markdown",
      "metadata": {
        "id": "view-in-github",
        "colab_type": "text"
      },
      "source": [
        "<a href=\"https://colab.research.google.com/github/dbremont/Notas/blob/main/Libros/Otros/Hernan_Cortes.ipynb\" target=\"_parent\"><img src=\"https://colab.research.google.com/assets/colab-badge.svg\" alt=\"Open In Colab\"/></a>"
      ]
    },
    {
      "cell_type": "markdown",
      "metadata": {
        "id": "2nOeGqspsxvD"
      },
      "source": [
        "## Los Restos del Conquistador"
      ]
    },
    {
      "cell_type": "markdown",
      "metadata": {
        "id": "d_EvJZ9u3ahC"
      },
      "source": [
        "## La última batalla del de Hernan Cortés"
      ]
    },
    {
      "cell_type": "markdown",
      "metadata": {
        "id": "xSYnIj7F3guT"
      },
      "source": [
        "## El fin de una era"
      ]
    },
    {
      "cell_type": "markdown",
      "metadata": {
        "id": "GrbX60pI3ivA"
      },
      "source": [
        "## El misterio de Guadalupe"
      ]
    },
    {
      "cell_type": "markdown",
      "metadata": {
        "id": "kCR5v23R3ko7"
      },
      "source": [
        "## La última cruzada"
      ]
    },
    {
      "cell_type": "markdown",
      "metadata": {
        "id": "D1-kPhRx3m-5"
      },
      "source": [
        "## Entre Castilla y las Indias"
      ]
    },
    {
      "cell_type": "markdown",
      "metadata": {
        "id": "AYZs6gKa3qfo"
      },
      "source": [
        "## El imperio de los océanos"
      ]
    },
    {
      "cell_type": "markdown",
      "metadata": {
        "id": "IhKrdD153t-f"
      },
      "source": [
        "## La última cruzada"
      ]
    },
    {
      "cell_type": "markdown",
      "metadata": {
        "id": "tJc7kyIx32r6"
      },
      "source": [
        "## Entre Castila y las Indias"
      ]
    },
    {
      "cell_type": "markdown",
      "metadata": {
        "id": "36C0xazj35T0"
      },
      "source": [
        "## El imperio de los océanos"
      ]
    },
    {
      "cell_type": "markdown",
      "metadata": {
        "id": "_sl8J08X381F"
      },
      "source": [
        "## Las islas remotísimas"
      ]
    },
    {
      "cell_type": "markdown",
      "metadata": {
        "id": "i1Ej8i7T4ALv"
      },
      "source": [
        "## El cambio del mundo"
      ]
    },
    {
      "cell_type": "markdown",
      "metadata": {
        "id": "axSTLtrA4CEA"
      },
      "source": [
        "## El emperador del mundo"
      ]
    },
    {
      "cell_type": "markdown",
      "metadata": {
        "id": "qQGbXErJ4EmU"
      },
      "source": [
        "## El impulso de ir más allá"
      ]
    },
    {
      "cell_type": "markdown",
      "metadata": {
        "id": "FYdTZZBu4INE"
      },
      "source": [
        "## Las lenguas de Cortés"
      ]
    },
    {
      "cell_type": "markdown",
      "metadata": {
        "id": "SMcJ-1Ik4Kmp"
      },
      "source": [
        "## Quemar las naves"
      ]
    },
    {
      "cell_type": "markdown",
      "metadata": {
        "id": "H8goRPoF4NsJ"
      },
      "source": [
        "## La fuerza de la historia"
      ]
    },
    {
      "cell_type": "markdown",
      "metadata": {
        "id": "ZwrqF-164P5V"
      },
      "source": [
        "## Pueblo elegido y tierra prometida"
      ]
    },
    {
      "cell_type": "markdown",
      "metadata": {
        "id": "ING3MG0A4THT"
      },
      "source": [
        "## La cita con la historia"
      ]
    },
    {
      "cell_type": "markdown",
      "metadata": {
        "id": "FSfcsTzH4Wez"
      },
      "source": [
        "## La noche que Cortés lloró"
      ]
    },
    {
      "cell_type": "markdown",
      "metadata": {
        "id": "3ygefK7I4Z2g"
      },
      "source": [
        "## La muerte del quinto sol"
      ]
    },
    {
      "cell_type": "markdown",
      "metadata": {
        "id": "-TnV-Tif4b5w"
      },
      "source": [
        "## La construcción de algo nuevo"
      ]
    },
    {
      "cell_type": "markdown",
      "metadata": {
        "id": "tPdjJiHZ4g9g"
      },
      "source": [
        "## Las guerras de Carlos V"
      ]
    },
    {
      "cell_type": "markdown",
      "metadata": {
        "id": "QL2kICe-4j9a"
      },
      "source": [
        "## Cortés y Tonantzín"
      ]
    },
    {
      "cell_type": "markdown",
      "metadata": {
        "id": "vOug8YhV4okl"
      },
      "source": [
        "## El rey contra el conquistador"
      ]
    },
    {
      "cell_type": "markdown",
      "metadata": {
        "id": "7QrcFHRe4sUz"
      },
      "source": [
        "## Los sueños rotos de Hernán Cortés"
      ]
    },
    {
      "cell_type": "markdown",
      "metadata": {
        "id": "YYg-KwJL4w4z"
      },
      "source": [
        "## El ocaso del marqués del Valle"
      ]
    },
    {
      "cell_type": "markdown",
      "metadata": {
        "id": "7nLyoHn14zV-"
      },
      "source": [
        "## La batalla de la eternidad"
      ]
    },
    {
      "cell_type": "markdown",
      "metadata": {
        "id": "xg-awMYU41ym"
      },
      "source": [
        "## Los encuentros de la humanidad"
      ]
    },
    {
      "cell_type": "markdown",
      "metadata": {
        "id": "xb7NvIlk44Uu"
      },
      "source": [
        "## Fuentes de información y recomendaciones"
      ]
    }
  ]
}