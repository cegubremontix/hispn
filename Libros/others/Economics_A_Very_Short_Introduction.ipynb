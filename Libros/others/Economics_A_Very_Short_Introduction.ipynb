{
  "nbformat": 4,
  "nbformat_minor": 0,
  "metadata": {
    "colab": {
      "name": "Economics A Very Short Introduction.ipynb",
      "provenance": [],
      "authorship_tag": "ABX9TyNhNDID6F1GK+xChCbj1iOP",
      "include_colab_link": true
    },
    "kernelspec": {
      "name": "python3",
      "display_name": "Python 3"
    },
    "language_info": {
      "name": "python"
    }
  },
  "cells": [
    {
      "cell_type": "markdown",
      "metadata": {
        "id": "view-in-github",
        "colab_type": "text"
      },
      "source": [
        "<a href=\"https://colab.research.google.com/github/dbremont/Notas/blob/main/Libros/Otros/Economics_A_Very_Short_Introduction.ipynb\" target=\"_parent\"><img src=\"https://colab.research.google.com/assets/colab-badge.svg\" alt=\"Open In Colab\"/></a>"
      ]
    },
    {
      "cell_type": "markdown",
      "metadata": {
        "id": "XkcP87vwfkgZ"
      },
      "source": [
        "## Macroeconomic history"
      ]
    },
    {
      "cell_type": "markdown",
      "metadata": {
        "id": "ck1PkzVDmj0D"
      },
      "source": [
        "- **GDP**: the value of all the final goods taht are produced by its residents in a given year.\n",
        "\n",
        "- **GDP** is a measure of flow (dollars per year).\n",
        "- Market institutions.\n",
        "\n",
        "https://www.amazon.com/progress-tracker/package/ref=pt_redirect_from_gp?_encoding=UTF8&from=gp&itemId=&orderId=111-0502281-0382628&packageIndex=0&shipmentId=17934774380025"
      ]
    },
    {
      "cell_type": "markdown",
      "metadata": {
        "id": "qKcMYXwofoNT"
      },
      "source": [
        "## Trust"
      ]
    },
    {
      "cell_type": "markdown",
      "metadata": {
        "id": "Eauj4j2nfrNn"
      },
      "source": [
        "## Communities"
      ]
    },
    {
      "cell_type": "markdown",
      "metadata": {
        "id": "gOk66fUwftyk"
      },
      "source": [
        "## Markets"
      ]
    },
    {
      "cell_type": "markdown",
      "metadata": {
        "id": "NJ80Dh3Kfwec"
      },
      "source": [
        "## Science and Technology as institutions"
      ]
    },
    {
      "cell_type": "markdown",
      "metadata": {
        "id": "_eApdAJaf0Yv"
      },
      "source": [
        "## Households and firms"
      ]
    },
    {
      "cell_type": "markdown",
      "metadata": {
        "id": "_eLzaw9Ff3Nb"
      },
      "source": [
        "## Sustainable economic development"
      ]
    },
    {
      "cell_type": "markdown",
      "metadata": {
        "id": "KAnhqx9DgAwR"
      },
      "source": [
        "## Social well-being and democratic  "
      ]
    }
  ]
}