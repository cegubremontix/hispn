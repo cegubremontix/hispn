{
  "nbformat": 4,
  "nbformat_minor": 0,
  "metadata": {
    "colab": {
      "name": "La disputa del pasado: España, México y la leyenda negra.ipynb",
      "provenance": [],
      "toc_visible": true,
      "authorship_tag": "ABX9TyNhc3NoXExihdQEOAvV2gDP",
      "include_colab_link": true
    },
    "kernelspec": {
      "name": "python3",
      "display_name": "Python 3"
    },
    "language_info": {
      "name": "python"
    }
  },
  "cells": [
    {
      "cell_type": "markdown",
      "metadata": {
        "id": "view-in-github",
        "colab_type": "text"
      },
      "source": [
        "<a href=\"https://colab.research.google.com/github/dbremont/Notas/blob/main/Libros/Otros/La_disputa_del_pasado_Espa%C3%B1a%2C_M%C3%A9xico_y_la_leyenda_negra.ipynb\" target=\"_parent\"><img src=\"https://colab.research.google.com/assets/colab-badge.svg\" alt=\"Open In Colab\"/></a>"
      ]
    },
    {
      "cell_type": "markdown",
      "metadata": {
        "id": "DwUOvghi6-V4"
      },
      "source": [
        "# La disputa del pasado: España, México y la leyenda negra"
      ]
    },
    {
      "cell_type": "markdown",
      "metadata": {
        "id": "DYhPZ4DYCYnr"
      },
      "source": [
        "## Colonia, ¿Qué Colonia?\n"
      ]
    },
    {
      "cell_type": "markdown",
      "metadata": {
        "id": "kBLxjKulCecQ"
      },
      "source": [
        "- Monarquia catolica, mucha mas monarquia compuesta que imperio con colonias y en le que, como consecuencia, el uso de los términas  colonia y colonial resulta un gran parte anacrónico.\n",
        "\n",
        "- Los territorios americanos nunca fueron juridicamente colonias.\n",
        "\n",
        "- La monarquia catolica desaparecio sin que ninguno de los nuevos estados nacion nacidos de sus ruinas fuese capaz de ocupar su lugar como articulador del espacio geopolitico definido por las fronteras del antiguo Estado imperio, ni el español, que asumio como su heredero y continuador pero convertido en una potencia de segundo orden y como consecuencia sin ninguna capacidad de articulacion del antiguo espacio imperial; ni ninguno de los americanos, tambien todos de una manifiesta irrelevancia geopolitica y, sobre todo, construidos sobre el rechazo a una organizacion que paso a simbolizar la opresion y la tirania bajo la que habian estado subyugadas las naciones americanas durante tres siglos.\n",
        "\n",
        "- La constitucion politica de la monarquia española, que la primera del Estado nacion español.\n",
        "\n",
        "- Un asunto mas complejo y de mayor calado politico-idiologico, tambien en ultima instancia historiografico, es el de si tieen sentido hablar de colonias y metropolis, en un sitema politico basado en la condicion de subdido, no en la de ciudadano.\n"
      ]
    },
    {
      "cell_type": "markdown",
      "metadata": {
        "id": "S1ev6ohRMY0v"
      },
      "source": [
        "**Los reinos americanos y la monarquia catolica - el caso de la neuva españa**\n",
        "\n",
        "- Ciudad de mexico, centro artistico, cultural y comercial.\n",
        "- \"Muy noble, muy leal e imperial ciudad\".\n",
        "- Capitalismo y comercio en la nueva españa.\n",
        "- Los perdedores de la historia.\n",
        "- "
      ]
    },
    {
      "cell_type": "markdown",
      "metadata": {
        "id": "A63-nZbW7zR-"
      },
      "source": [
        "## Navegación en Mares Procelosos\n",
        "A Modo de epílogo\n",
        "\n",
        "> El señor de la Historia siempre actúa por encima de los atropellos y distorciones que los hombres dan a la Historia. -  Don Samuel Ruiz - Obispo de Chiapas  "
      ]
    },
    {
      "cell_type": "markdown",
      "metadata": {
        "id": "856xvAb7839z"
      },
      "source": [
        "- Fernando de Magallanes.\n",
        "\n",
        "- En palabras de \"**Elcano**\" al emperador \"**Carlos V**\": \"Hemos descubierto y redondeado toda la rondeza del mundo.\" \n",
        "  - Inicio de la globalizacion.\n",
        "\n",
        "- El capitulo trata de enlasar la aventura maritina con la aventura intectual de una \"revision\", profundicacion en ciertos aspectos de la historia del **mundo hispanico**.\n",
        "\n",
        "- [Anacronismo](https://es.wikipedia.org/wiki/Anacronismo)\n",
        "\n",
        "-  Amputacion de la historía.\n",
        "\n",
        "- Julían Jujerías (Libro La Leyenda Negra).\n",
        "\n",
        "- La historia es una unica fuente de datos de la actividad de la humanidad. Vida politica, comercial, etc.\n",
        "  - A que llevaria el rechazo de estos datos.\n",
        "  - Ha aventurarse siegamente a nuevos planes, que talvez el minimo conocimiento de las experiencas pasadas nos permita su mejor evaluacion y comprension.\n",
        "\n",
        "- La verdad es una conla realdiad, ya está ahí. Lo que nos queda es descubirla.\n"
      ]
    },
    {
      "cell_type": "markdown",
      "metadata": {
        "id": "uRisonPu9JGt"
      },
      "source": [
        "**Conquista, ¿qué conquista?**\n",
        "\n",
        "- El conde de Torre de Corsio\n",
        "\n",
        "- Martin Waldseemuller\n",
        "\n",
        "- Anacronismo de llamar america latina antes del siglo 19\n",
        "\n",
        "- Errores comunes en la interpretacion dela historia de mejico:\n",
        "  1. Mejico existia en tiempos de la consquista.\n",
        "  2. Los siglos virreinales solo impero la explotacion de los indigenas.\n",
        "  3. El mejico actual es un mejico meztiso."
      ]
    },
    {
      "cell_type": "markdown",
      "metadata": {
        "id": "jQ0R56t8Tsbj"
      },
      "source": [
        "**Colonia, ¿qué Colonia?**\n",
        "\n",
        "- Fray Servando Teresa de Mier, \"el desatino de de llamar colonias a unos reinos con todas las prerrogativas de los más distinguidos reinos de España\".\n",
        "\n",
        "- Alexander von Humboldt - \"Mexico debe constarse sin duda alguan entre las mas hermosas ciudades que los europeos han fundado en ambos hemisferios.\" \n",
        "\n",
        "- La plata de la moneda de mexico financio grandes proyectos en america, asia y europa.   "
      ]
    }
  ]
}