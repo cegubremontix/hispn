{
  "nbformat": 4,
  "nbformat_minor": 0,
  "metadata": {
    "colab": {
      "name": "The Warrior Diet: Switch on Your Biological Powerhouse For High Energy, Explosive Strength, and a Leaner, Harder Body Switch on Your Biological Powerhouse For High Energy, Explosive Strength, and a Leaner, Harder Body.ipynb",
      "provenance": [],
      "authorship_tag": "ABX9TyPFIOpxM4pJ60RT82A1gsB/",
      "include_colab_link": true
    },
    "kernelspec": {
      "name": "python3",
      "display_name": "Python 3"
    },
    "language_info": {
      "name": "python"
    }
  },
  "cells": [
    {
      "cell_type": "markdown",
      "metadata": {
        "id": "view-in-github",
        "colab_type": "text"
      },
      "source": [
        "<a href=\"https://colab.research.google.com/github/dbremont/Notas/blob/main/Libros/Otros/The_Warrior_Diet_Switch_on_Your_Biological_Powerhouse_For_High_Energy_Explosive_Strength_and_a_Leaner_Harder_Body_Switch_on_Your_Biological_Powerhouse_For_High_Energy_Explosive_Strength_and_a_Leaner_Harder_Body.ipynb\" target=\"_parent\"><img src=\"https://colab.research.google.com/assets/colab-badge.svg\" alt=\"Open In Colab\"/></a>"
      ]
    },
    {
      "cell_type": "markdown",
      "source": [
        "##  Introduction"
      ],
      "metadata": {
        "id": "HhSnFvyqceyU"
      }
    },
    {
      "cell_type": "markdown",
      "source": [
        "## The Warrior Instinct"
      ],
      "metadata": {
        "id": "XXCKlAPfhQxW"
      }
    },
    {
      "cell_type": "markdown",
      "source": [
        "## Teh Warrior Cycle"
      ],
      "metadata": {
        "id": "42xVj1VDhT4O"
      }
    },
    {
      "cell_type": "markdown",
      "source": [
        "## The Undereating Phase\n",
        "\n"
      ],
      "metadata": {
        "id": "TiA2oMpnhV5J"
      }
    },
    {
      "cell_type": "markdown",
      "source": [
        "## What to Consume During the Undereating Phase"
      ],
      "metadata": {
        "id": "ag2PSWgxhYt3"
      }
    },
    {
      "cell_type": "markdown",
      "source": [
        "## The Overeating Phase"
      ],
      "metadata": {
        "id": "d7l9SZaPhkrI"
      }
    },
    {
      "cell_type": "markdown",
      "source": [
        "## The Main Mean: Food Preparations for the Overeating Phase"
      ],
      "metadata": {
        "id": "Bi2_AduGhm4Y"
      }
    },
    {
      "cell_type": "markdown",
      "source": [
        "## Stubborn Fat"
      ],
      "metadata": {
        "id": "C_aT5gIhiF2j"
      }
    },
    {
      "cell_type": "markdown",
      "source": [
        "## The Worrior Diet Versus Other Diets"
      ],
      "metadata": {
        "id": "6JN9aTDLiI18"
      }
    },
    {
      "cell_type": "markdown",
      "source": [
        "## Lessons from History"
      ],
      "metadata": {
        "id": "1k2YYAcriMsV"
      }
    },
    {
      "cell_type": "markdown",
      "source": [
        "## The Warrior Diet Idea"
      ],
      "metadata": {
        "id": "fuTqSyKGiPc-"
      }
    },
    {
      "cell_type": "markdown",
      "source": [
        "## Question and Answers"
      ],
      "metadata": {
        "id": "gsYNueYdi1m5"
      }
    },
    {
      "cell_type": "markdown",
      "source": [
        "## Sex Drive, Potency, and Animal Magnetism"
      ],
      "metadata": {
        "id": "8_nMcf2li6oL"
      }
    },
    {
      "cell_type": "markdown",
      "source": [
        "## Women on the Warrior Diet"
      ],
      "metadata": {
        "id": "7Nv-ELgsjAnh"
      }
    },
    {
      "cell_type": "markdown",
      "source": [
        "## The Warrior Workout: Controlled-Fatigue Training"
      ],
      "metadata": {
        "id": "H7dpLin_jQr8"
      }
    },
    {
      "cell_type": "markdown",
      "source": [
        "## Warrior Meals and Recipies"
      ],
      "metadata": {
        "id": "A26HNDsUjZ3G"
      }
    }
  ]
}