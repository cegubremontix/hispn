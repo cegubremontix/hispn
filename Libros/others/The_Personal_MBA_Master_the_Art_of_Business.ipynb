{
  "nbformat": 4,
  "nbformat_minor": 0,
  "metadata": {
    "colab": {
      "name": "The Personal MBA: Master the Art of Business.ipynb",
      "provenance": [],
      "authorship_tag": "ABX9TyPkmiVm7RM6sJzik25lLMUJ",
      "include_colab_link": true
    },
    "kernelspec": {
      "name": "python3",
      "display_name": "Python 3"
    },
    "language_info": {
      "name": "python"
    }
  },
  "cells": [
    {
      "cell_type": "markdown",
      "metadata": {
        "id": "view-in-github",
        "colab_type": "text"
      },
      "source": [
        "<a href=\"https://colab.research.google.com/github/dbremont/Notas/blob/main/Libros/Otros/The_Personal_MBA_Master_the_Art_of_Business.ipynb\" target=\"_parent\"><img src=\"https://colab.research.google.com/assets/colab-badge.svg\" alt=\"Open In Colab\"/></a>"
      ]
    },
    {
      "cell_type": "markdown",
      "metadata": {
        "id": "wqFEzPzPwoXS"
      },
      "source": [
        "# The Personal MBA: Master the Art of Business\n",
        "Libros/Otros"
      ]
    }
  ]
}