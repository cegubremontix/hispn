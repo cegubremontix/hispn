{
  "nbformat": 4,
  "nbformat_minor": 0,
  "metadata": {
    "kernelspec": {
      "display_name": "Python 2.7.18 64-bit",
      "name": "python2718jvsc74a57bd0f92b2924b84ff19c1c3dc485f7644d4486f64738191026bf8e6de303969141b5"
    },
    "language_info": {
      "name": "python",
      "version": ""
    },
    "metadata": {
      "interpreter": {
        "hash": "f92b2924b84ff19c1c3dc485f7644d4486f64738191026bf8e6de303969141b5"
      }
    },
    "orig_nbformat": 2,
    "colab": {
      "name": "The Tiny Small Changes Habits That Change BJ. Fogg.ipynb",
      "provenance": [],
      "include_colab_link": true
    }
  },
  "cells": [
    {
      "cell_type": "markdown",
      "metadata": {
        "id": "view-in-github",
        "colab_type": "text"
      },
      "source": [
        "<a href=\"https://colab.research.google.com/github/dbremont/Notas/blob/main/Libros/Otros/The_Tiny_Small_Changes_Habits_That_Change_BJ_Fogg.ipynb\" target=\"_parent\"><img src=\"https://colab.research.google.com/assets/colab-badge.svg\" alt=\"Open In Colab\"/></a>"
      ]
    },
    {
      "cell_type": "markdown",
      "metadata": {
        "id": "yW_VXPlXNHTd"
      },
      "source": [
        "Behavioral Design Book\n",
        "\n"
      ]
    },
    {
      "cell_type": "markdown",
      "source": [
        "Building habits and creating positive change can be easy - if you have the right approach. A system based on human psychology really works.\n",
        "\n",
        "**Information Action Fallacy**: Given people the right information about what they have to change to improve, do not lead to improvement.\n",
        "\n",
        "The **Tiny Habits Method** for habits formation.\n",
        "\n",
        "In this book we explore the `Behavioral Design Models`\n",
        "\n",
        "This book will not prescribe habits in general, but it will describe a method.\n",
        "\n",
        "![Maui Habit](https://images.ctfassets.net/rxqefefl3t5b/45N41gjkWzxsqQP0ZNSoOI/aa1914d779cf8e4d2b9b01fe42a1a1ff/Screenshot_2019-12-20_at_09.53.56.png)\n",
        "\n",
        "**Tiny can grow big**\n",
        "\n",
        "- It easy to overestimate what can be accomplish in one year.\n",
        "- It easy to understimate what can be accomplish in ten years.\n",
        "\n",
        "\n",
        "**Tiny doesn't rely on motivation or willpower**\n",
        "\n",
        "![The Anatomy of Tiny Habits](https://miro.medium.com/max/1400/0*P_JsHbiLefAP-OA9)\n",
        "\n",
        "\n",
        "\n",
        "**Fogg Behavioral Model**\n",
        "\n",
        "Model to predict if a new behavior will get adopted.\n",
        "\n",
        "![Fogg Behavioral Model](https://behaviormodel.org/wp-content/uploads/2020/08/Fogg-Behavior-Model.jpg)\n",
        "\n",
        "**Ability**\n",
        "\n",
        "Your weakest link determines what makes a behavior hard to do.\n",
        "\n",
        "![Ability](https://behaviormodel.org/wp-content/uploads/2020/08/ability-chain-1536x1022.jpg)\n",
        "\n",
        "**Steps in Behavior Design**\n",
        "\n",
        "![Stepts in Behavior Design](https://behaviordesign.info/wp-content/uploads/2020/07/book-iilustration-2.png)\n",
        "\n",
        "\n",
        "**Encanedar Comportamientos para alzancar grandes objetivos**\n",
        "\n",
        "Los comportamientos se pueden encadenar, uno puede llevar a otro.\n",
        "- Me levanto agradezco, Cuando me levante y agradezca hacer 2 pechadas.\n",
        "....\n",
        "\n",
        "\n",
        "Los comportamientos se deben alinear con nuestras aspiraciones.\n",
        "\n",
        "Prompt -> Behavior -> Reward\n",
        "- After I ... -> I will .. -> Celebrate\n",
        "\n",
        "![b=map](https://ui-patterns.com/uploads/image/file/4306/best_bj-fogg-bmap-bmat-behavior-model.png)"
      ],
      "metadata": {
        "id": "mp0FxwyXim7z"
      }
    },
    {
      "cell_type": "markdown",
      "source": [
        "## The Elements of Behavior"
      ],
      "metadata": {
        "id": "87OhqtI7TzMm"
      }
    },
    {
      "cell_type": "markdown",
      "source": [
        ""
      ],
      "metadata": {
        "id": "qUT48Z7TXxk2"
      }
    },
    {
      "cell_type": "markdown",
      "source": [
        "## Motivation-Focus on Matching"
      ],
      "metadata": {
        "id": "zizrm0f7XN9z"
      }
    },
    {
      "cell_type": "markdown",
      "source": [
        "## Ability-Easy Does It"
      ],
      "metadata": {
        "id": "wwdDZDTcXN2m"
      }
    },
    {
      "cell_type": "markdown",
      "source": [
        "## Prompts-The Power of After"
      ],
      "metadata": {
        "id": "zh6lBcv4XUte"
      }
    },
    {
      "cell_type": "markdown",
      "source": [
        "## Emotions Create Habits"
      ],
      "metadata": {
        "id": "celxzoKmXYzj"
      }
    },
    {
      "cell_type": "markdown",
      "source": [
        "## Growing Your Habits from Tiny to Transformative"
      ],
      "metadata": {
        "id": "0AMiusWrXdh2"
      }
    },
    {
      "cell_type": "markdown",
      "source": [
        "## Untangling Bad Habits: A Systematic Solution"
      ],
      "metadata": {
        "id": "ba60b1dlXh3M"
      }
    },
    {
      "cell_type": "markdown",
      "source": [
        "## How We Change Together"
      ],
      "metadata": {
        "id": "dpV-lp61XnKv"
      }
    },
    {
      "cell_type": "markdown",
      "source": [
        "## Conclucion: The Small Changes That Change Everything"
      ],
      "metadata": {
        "id": "dwlIebTKXpSB"
      }
    }
  ]
}