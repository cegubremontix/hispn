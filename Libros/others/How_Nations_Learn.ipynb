{
  "nbformat": 4,
  "nbformat_minor": 0,
  "metadata": {
    "colab": {
      "name": "How Nations Learn.ipynb",
      "provenance": [],
      "authorship_tag": "ABX9TyOzBfi8KdosL3Yl0c5WpZEa",
      "include_colab_link": true
    },
    "kernelspec": {
      "name": "python3",
      "display_name": "Python 3"
    },
    "language_info": {
      "name": "python"
    }
  },
  "cells": [
    {
      "cell_type": "markdown",
      "metadata": {
        "id": "view-in-github",
        "colab_type": "text"
      },
      "source": [
        "<a href=\"https://colab.research.google.com/github/dbremont/Notas/blob/main/Libros/Otros/How_Nations_Learn.ipynb\" target=\"_parent\"><img src=\"https://colab.research.google.com/assets/colab-badge.svg\" alt=\"Open In Colab\"/></a>"
      ]
    },
    {
      "cell_type": "markdown",
      "source": [
        "## Technological Learning, Industrial Policy, and Catch-Up: Introduction"
      ],
      "metadata": {
        "id": "Ua4MIkTY2zvM"
      }
    },
    {
      "cell_type": "markdown",
      "source": [
        "# Context and Perspectives"
      ],
      "metadata": {
        "id": "L3NkPyfo3u9M"
      }
    },
    {
      "cell_type": "markdown",
      "source": [
        "## Catch-up and Constrains in the Twentieth and Twenty-first Centuries "
      ],
      "metadata": {
        "id": "nKOdyVM73zi3"
      }
    },
    {
      "cell_type": "markdown",
      "source": [
        "## Learning from East Asia: Catch-up and the Making of China's Development State"
      ],
      "metadata": {
        "id": "JJdafT6433AO"
      }
    },
    {
      "cell_type": "markdown",
      "source": [
        "## Catch-up and Mission-oriented Innovation"
      ],
      "metadata": {
        "id": "p77dkdl935U8"
      }
    },
    {
      "cell_type": "markdown",
      "source": [
        "# Empirical Perspectives"
      ],
      "metadata": {
        "id": "s_EFf3GI4B1e"
      }
    },
    {
      "cell_type": "markdown",
      "source": [
        "## Meiji Japan: Progressive Learning of Western Technology"
      ],
      "metadata": {
        "id": "B8qZCQl64Dyf"
      }
    },
    {
      "cell_type": "markdown",
      "source": [
        "## Catch-up and Learning in Taiwan: The Role of Industrial Policy"
      ],
      "metadata": {
        "id": "SjJ4i2vk4Gus"
      }
    },
    {
      "cell_type": "markdown",
      "source": [
        "## The Origin of Absortive Capacity in Korea: How Korean Industry Learnt"
      ],
      "metadata": {
        "id": "2eWLTl3A4JNs"
      }
    },
    {
      "cell_type": "markdown",
      "source": [
        "## China: Learning to Catch up in a Globalized World"
      ],
      "metadata": {
        "id": "tov62VeI4kU0"
      }
    },
    {
      "cell_type": "markdown",
      "source": [
        "## Learning and Catch-up in Singapore: Lessons for Developing Contries"
      ],
      "metadata": {
        "id": "60-3g2xX457q"
      }
    },
    {
      "cell_type": "markdown",
      "source": [
        "# Pathways to late-late development"
      ],
      "metadata": {
        "id": "7uEsKhGZ47qh"
      }
    },
    {
      "cell_type": "markdown",
      "source": [
        "## Industrial Policy and Learning: Lessons from Latin America"
      ],
      "metadata": {
        "id": "IJC8m-oh49pr"
      }
    },
    {
      "cell_type": "markdown",
      "source": [
        "## The Journey of Ethiopian Airlines: Technological Learning adn Catch-up in Aviation"
      ],
      "metadata": {
        "id": "Uw9gNJXOJIsh"
      }
    },
    {
      "cell_type": "markdown",
      "source": [
        "## Learning to Catch up in South East Asia"
      ],
      "metadata": {
        "id": "E6q5TqRwJPeU"
      }
    },
    {
      "cell_type": "markdown",
      "source": [
        "## Learning to Catch up in Africa"
      ],
      "metadata": {
        "id": "f4sIPbyGJTN2"
      }
    },
    {
      "cell_type": "markdown",
      "source": [
        "## How Nations Learn: Implications for Latecomers and Pathways to the Future"
      ],
      "metadata": {
        "id": "2_81Zq6ZJV_V"
      }
    }
  ]
}