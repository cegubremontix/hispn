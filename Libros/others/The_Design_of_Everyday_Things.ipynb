{
  "nbformat": 4,
  "nbformat_minor": 0,
  "metadata": {
    "colab": {
      "name": "The Design of Everyday Things.ipynb",
      "provenance": [],
      "authorship_tag": "ABX9TyOpKY/ebj15T/l5nmpGCaMm",
      "include_colab_link": true
    },
    "kernelspec": {
      "name": "python3",
      "display_name": "Python 3"
    },
    "language_info": {
      "name": "python"
    }
  },
  "cells": [
    {
      "cell_type": "markdown",
      "metadata": {
        "id": "view-in-github",
        "colab_type": "text"
      },
      "source": [
        "<a href=\"https://colab.research.google.com/github/dbremont/Notas/blob/main/Libros/Otros%20/The_Design_of_Everyday_Things.ipynb\" target=\"_parent\"><img src=\"https://colab.research.google.com/assets/colab-badge.svg\" alt=\"Open In Colab\"/></a>"
      ]
    },
    {
      "cell_type": "markdown",
      "metadata": {
        "id": "gkfjOx0VuD58"
      },
      "source": [
        "## The Psychopathology of Everyday Things"
      ]
    },
    {
      "cell_type": "markdown",
      "metadata": {
        "id": "v9ia5Je2vQZP"
      },
      "source": [
        "## The Psychology of Everyday Actions"
      ]
    },
    {
      "cell_type": "markdown",
      "metadata": {
        "id": "UYjqNNlkvR61"
      },
      "source": [
        "## Knowing What to Do: Constraints, Discoverability, and Feedback"
      ]
    },
    {
      "cell_type": "markdown",
      "metadata": {
        "id": "hM_AHgb5vUQR"
      },
      "source": [
        "## Human Error? No, Bad Design"
      ]
    },
    {
      "cell_type": "markdown",
      "metadata": {
        "id": "ZRmRZHLZvYqs"
      },
      "source": [
        "## Design Thinking"
      ]
    },
    {
      "cell_type": "markdown",
      "metadata": {
        "id": "k7Q9XXSnvdCR"
      },
      "source": [
        "## Design in the World of Business"
      ]
    }
  ]
}