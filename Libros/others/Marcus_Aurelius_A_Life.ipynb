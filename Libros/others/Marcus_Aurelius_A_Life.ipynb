{
  "nbformat": 4,
  "nbformat_minor": 0,
  "metadata": {
    "colab": {
      "name": "Marcus Aurelius A Life.ipynb",
      "provenance": [],
      "authorship_tag": "ABX9TyOzW0Y4ZvLC6YCxv7SXiR+Z",
      "include_colab_link": true
    },
    "kernelspec": {
      "name": "python3",
      "display_name": "Python 3"
    },
    "language_info": {
      "name": "python"
    }
  },
  "cells": [
    {
      "cell_type": "markdown",
      "metadata": {
        "id": "view-in-github",
        "colab_type": "text"
      },
      "source": [
        "<a href=\"https://colab.research.google.com/github/dbremont/Notas/blob/main/Libros/Otros/Marcus_Aurelius_A_Life.ipynb\" target=\"_parent\"><img src=\"https://colab.research.google.com/assets/colab-badge.svg\" alt=\"Open In Colab\"/></a>"
      ]
    },
    {
      "cell_type": "markdown",
      "metadata": {
        "id": "1tekw2oEZFkJ"
      },
      "source": [
        "## Introduction"
      ]
    },
    {
      "cell_type": "markdown",
      "metadata": {
        "id": "ivLMShhwZIBS"
      },
      "source": [
        "## Map: The Roman Empire During the Lifetime of Marcus Aurelius"
      ]
    },
    {
      "cell_type": "markdown",
      "metadata": {
        "id": "jJ8rLQ5HZOxB"
      },
      "source": [
        "## Map: The Eastern Provinces and Parthia"
      ]
    },
    {
      "cell_type": "markdown",
      "metadata": {
        "id": "zUnQtDEAZUWD"
      },
      "source": [
        "## Map: The Roman Empire's Northern Frontiers"
      ]
    },
    {
      "cell_type": "markdown",
      "metadata": {
        "id": "HScomNNRZY31"
      },
      "source": [
        "## Appendix One: Stoicism"
      ]
    },
    {
      "cell_type": "markdown",
      "metadata": {
        "id": "XzepsebdZc1_"
      },
      "source": [
        "## Appendix Two: The Reign of Antoninus Pius"
      ]
    },
    {
      "cell_type": "markdown",
      "metadata": {
        "id": "Opyt0eI-ZjIx"
      },
      "source": [
        "## Appendix Three: Solitude"
      ]
    },
    {
      "cell_type": "markdown",
      "metadata": {
        "id": "faUFA4zVZnTH"
      },
      "source": [
        "## Bibliography"
      ]
    },
    {
      "cell_type": "markdown",
      "metadata": {
        "id": "ayqtFLEBZpCE"
      },
      "source": [
        "## Notes"
      ]
    }
  ]
}