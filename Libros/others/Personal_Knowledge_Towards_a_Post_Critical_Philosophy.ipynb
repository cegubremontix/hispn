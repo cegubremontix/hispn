{
  "nbformat": 4,
  "nbformat_minor": 0,
  "metadata": {
    "colab": {
      "name": "Personal Knowledge Towards a Post-Critical Philosophy.ipynb",
      "provenance": [],
      "authorship_tag": "ABX9TyMeRa4AStAn2E/s4c0S11+c",
      "include_colab_link": true
    },
    "kernelspec": {
      "name": "python3",
      "display_name": "Python 3"
    },
    "language_info": {
      "name": "python"
    }
  },
  "cells": [
    {
      "cell_type": "markdown",
      "metadata": {
        "id": "view-in-github",
        "colab_type": "text"
      },
      "source": [
        "<a href=\"https://colab.research.google.com/github/dbremont/Notas/blob/main/%20Libros/Otros/Personal_Knowledge_Towards_a_Post_Critical_Philosophy.ipynb\" target=\"_parent\"><img src=\"https://colab.research.google.com/assets/colab-badge.svg\" alt=\"Open In Colab\"/></a>"
      ]
    },
    {
      "cell_type": "markdown",
      "metadata": {
        "id": "t8zZ8T_8JeMs"
      },
      "source": [
        "# The Art of Knowing"
      ]
    },
    {
      "cell_type": "markdown",
      "metadata": {
        "id": "hrPZWKvZZ_EP"
      },
      "source": [
        "## Objectivity"
      ]
    },
    {
      "cell_type": "markdown",
      "metadata": {
        "id": "NDxOHTXNaBlU"
      },
      "source": [
        "## Probability"
      ]
    },
    {
      "cell_type": "markdown",
      "metadata": {
        "id": "fVWSDhT_aEXn"
      },
      "source": [
        "## Order"
      ]
    },
    {
      "cell_type": "markdown",
      "metadata": {
        "id": "zFCJ5jr8aFin"
      },
      "source": [
        "## Skills"
      ]
    },
    {
      "cell_type": "markdown",
      "metadata": {
        "id": "5-n-pp97bzRz"
      },
      "source": [
        "# The Tacit Component"
      ]
    },
    {
      "cell_type": "markdown",
      "metadata": {
        "id": "bQVXg76zcDrM"
      },
      "source": [
        "## Articulation"
      ]
    },
    {
      "cell_type": "markdown",
      "metadata": {
        "id": "0X2rXwMacGTk"
      },
      "source": [
        "## Intellectual Passions"
      ]
    },
    {
      "cell_type": "markdown",
      "metadata": {
        "id": "PP8dppjscI8l"
      },
      "source": [
        "## Conviviality"
      ]
    },
    {
      "cell_type": "markdown",
      "metadata": {
        "id": "2MnCp94LcMLz"
      },
      "source": [
        "# The Justification of Personal Knowledge"
      ]
    },
    {
      "cell_type": "markdown",
      "metadata": {
        "id": "HTQoYOHXcSe9"
      },
      "source": [
        "## The Logic of Affirmation"
      ]
    },
    {
      "cell_type": "markdown",
      "metadata": {
        "id": "GS4M8kiUcV7K"
      },
      "source": [
        "## The Critique of Doubt"
      ]
    },
    {
      "cell_type": "markdown",
      "metadata": {
        "id": "lgJ-ywQ9cYFB"
      },
      "source": [
        "## Commitment"
      ]
    },
    {
      "cell_type": "markdown",
      "metadata": {
        "id": "mywLR4Qmcc5U"
      },
      "source": [
        "# Knowing and Being"
      ]
    },
    {
      "cell_type": "markdown",
      "metadata": {
        "id": "Hp05BIulcfBx"
      },
      "source": [
        "## The Logic of Achievement"
      ]
    },
    {
      "cell_type": "markdown",
      "metadata": {
        "id": "ct8rFCRwcjpG"
      },
      "source": [
        "## Knowing Life"
      ]
    },
    {
      "cell_type": "markdown",
      "metadata": {
        "id": "UYxR2f_bcmt2"
      },
      "source": [
        "## The Rise of Man"
      ]
    }
  ]
}