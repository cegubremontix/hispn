{
  "nbformat": 4,
  "nbformat_minor": 0,
  "metadata": {
    "colab": {
      "name": "Antifragile.ipynb",
      "provenance": [],
      "authorship_tag": "ABX9TyNsrmm6axtXdwLEZhZ+w0+J",
      "include_colab_link": true
    },
    "kernelspec": {
      "name": "python3",
      "display_name": "Python 3"
    },
    "language_info": {
      "name": "python"
    }
  },
  "cells": [
    {
      "cell_type": "markdown",
      "metadata": {
        "id": "view-in-github",
        "colab_type": "text"
      },
      "source": [
        "<a href=\"https://colab.research.google.com/github/dbremont/Notas/blob/main/Libros/Otros/Antifragile.ipynb\" target=\"_parent\"><img src=\"https://colab.research.google.com/assets/colab-badge.svg\" alt=\"Open In Colab\"/></a>"
      ]
    },
    {
      "cell_type": "markdown",
      "source": [
        "# The Antifrafile: An Introduction"
      ],
      "metadata": {
        "id": "o_aAETmMTQfF"
      }
    },
    {
      "cell_type": "markdown",
      "source": [
        "# Modernity and the Denial of Antifragility"
      ],
      "metadata": {
        "id": "7Fsxb0zHTVkg"
      }
    },
    {
      "cell_type": "markdown",
      "source": [
        "# A Nonpredictive view of the world"
      ],
      "metadata": {
        "id": "dT2zGhPzTbxJ"
      }
    },
    {
      "cell_type": "markdown",
      "source": [
        "# Optionaility, Technology, and the intellifence of antifragility"
      ],
      "metadata": {
        "id": "BO43LowsTjap"
      }
    },
    {
      "cell_type": "markdown",
      "source": [
        "## The Nonlinear and the Nonlinear"
      ],
      "metadata": {
        "id": "UZ7xc5ekTtFA"
      }
    },
    {
      "cell_type": "markdown",
      "source": [
        "## Via Negativa"
      ],
      "metadata": {
        "id": "bxmtZ4hgTvre"
      }
    },
    {
      "cell_type": "markdown",
      "source": [
        "## The Ethics of Frafility and Antifragility"
      ],
      "metadata": {
        "id": "z6Fdv_g_TyLV"
      }
    }
  ]
}