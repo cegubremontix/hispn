{
  "nbformat": 4,
  "nbformat_minor": 0,
  "metadata": {
    "colab": {
      "name": " The Elements of Computing Style.ipynb",
      "provenance": [],
      "collapsed_sections": [],
      "authorship_tag": "ABX9TyNpVPGEsq4tCBa1xv9eaMkb",
      "include_colab_link": true
    },
    "kernelspec": {
      "name": "python3",
      "display_name": "Python 3"
    },
    "language_info": {
      "name": "python"
    }
  },
  "cells": [
    {
      "cell_type": "markdown",
      "metadata": {
        "id": "view-in-github",
        "colab_type": "text"
      },
      "source": [
        "<a href=\"https://colab.research.google.com/github/dbremont/Notas/blob/main/Libros/Otros/The_Elements_of_Computing_Style.ipynb\" target=\"_parent\"><img src=\"https://colab.research.google.com/assets/colab-badge.svg\" alt=\"Open In Colab\"/></a>"
      ]
    },
    {
      "cell_type": "markdown",
      "source": [
        "## General"
      ],
      "metadata": {
        "id": "uhrt4HhtO4fT"
      }
    },
    {
      "cell_type": "markdown",
      "source": [
        "## Work Habits"
      ],
      "metadata": {
        "id": "NOEpWl43d7mx"
      }
    },
    {
      "cell_type": "markdown",
      "source": [
        "## Searching the Web\n"
      ],
      "metadata": {
        "id": "lXH0ftQ5d9G2"
      }
    },
    {
      "cell_type": "markdown",
      "source": [
        "## Web Tips and Tricks"
      ],
      "metadata": {
        "id": "kTYgQNeQd9Fz"
      }
    },
    {
      "cell_type": "markdown",
      "source": [
        "## Handling Email"
      ],
      "metadata": {
        "id": "6KEiyFaCeAOR"
      }
    },
    {
      "cell_type": "markdown",
      "source": [
        "## Email Smarts and Etiquette"
      ],
      "metadata": {
        "id": "LVA3zdqdeCDy"
      }
    },
    {
      "cell_type": "markdown",
      "source": [
        "## Working with Documents"
      ],
      "metadata": {
        "id": "dVLvtZiVeDqh"
      }
    },
    {
      "cell_type": "markdown",
      "source": [
        "## Working with Spreadsheets"
      ],
      "metadata": {
        "id": "PaKM_5sDeFsB"
      }
    },
    {
      "cell_type": "markdown",
      "source": [
        "## Preparing and Delivering Presentations"
      ],
      "metadata": {
        "id": "A8pBtOZreG8i"
      }
    },
    {
      "cell_type": "markdown",
      "source": [
        "## Icing the Cake: Typography"
      ],
      "metadata": {
        "id": "U000R9HfeH4q"
      }
    },
    {
      "cell_type": "markdown",
      "source": [
        "## Data Management"
      ],
      "metadata": {
        "id": "dENaX5hyeJFh"
      }
    },
    {
      "cell_type": "markdown",
      "source": [
        "## Security"
      ],
      "metadata": {
        "id": "hbitnik6fP1G"
      }
    },
    {
      "cell_type": "markdown",
      "source": [
        "## Privacy"
      ],
      "metadata": {
        "id": "3YC_lXJTfRN3"
      }
    },
    {
      "cell_type": "markdown",
      "source": [
        "## Digital Preservation"
      ],
      "metadata": {
        "id": "kUJcTlEVfSRu"
      }
    },
    {
      "cell_type": "markdown",
      "source": [
        "## Business Travel"
      ],
      "metadata": {
        "id": "i167JAP8fUBe"
      }
    },
    {
      "cell_type": "markdown",
      "source": [
        "## Dealing with IT Equipment"
      ],
      "metadata": {
        "id": "nSoRrnqKfVln"
      }
    },
    {
      "cell_type": "markdown",
      "source": [
        "## System Administration"
      ],
      "metadata": {
        "id": "DW-j1OeEfVk1"
      }
    },
    {
      "cell_type": "markdown",
      "source": [
        "## Ergonomics"
      ],
      "metadata": {
        "id": "aESvvlIpfYiO"
      }
    },
    {
      "cell_type": "markdown",
      "source": [
        "## Computers in our Life"
      ],
      "metadata": {
        "id": "JQn63M6GfZhu"
      }
    }
  ]
}