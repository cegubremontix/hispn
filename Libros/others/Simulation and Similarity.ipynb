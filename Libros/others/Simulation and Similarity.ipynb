{
  "nbformat": 4,
  "nbformat_minor": 0,
  "metadata": {
    "kernelspec": {
      "display_name": "Python 2.7.18 64-bit",
      "name": "python2718jvsc74a57bd0f92b2924b84ff19c1c3dc485f7644d4486f64738191026bf8e6de303969141b5"
    },
    "language_info": {
      "name": "python",
      "version": ""
    },
    "metadata": {
      "interpreter": {
        "hash": "f92b2924b84ff19c1c3dc485f7644d4486f64738191026bf8e6de303969141b5"
      }
    },
    "orig_nbformat": 2,
    "colab": {
      "name": "Simulation and Similarity.ipynb",
      "provenance": [],
      "toc_visible": true,
      "include_colab_link": true
    }
  },
  "cells": [
    {
      "cell_type": "markdown",
      "metadata": {
        "id": "view-in-github",
        "colab_type": "text"
      },
      "source": [
        "<a href=\"https://colab.research.google.com/github/dbremont/Notas/blob/main/Libros/Otros/Simulation%20and%20Similarity.ipynb\" target=\"_parent\"><img src=\"https://colab.research.google.com/assets/colab-badge.svg\" alt=\"Open In Colab\"/></a>"
      ]
    },
    {
      "cell_type": "markdown",
      "metadata": {
        "id": "Ao1kVPOlN3HG"
      },
      "source": [
        "Simulation and Similarity"
      ]
    },
    {
      "cell_type": "markdown",
      "metadata": {
        "id": "zZ-9Z28QYDME"
      },
      "source": [
        "## Introduction"
      ]
    },
    {
      "cell_type": "markdown",
      "metadata": {
        "id": "FW0dMMxxYL1M"
      },
      "source": [
        "## The Anatomy of Models"
      ]
    },
    {
      "cell_type": "markdown",
      "metadata": {
        "id": "FKjpOuiBYOYT"
      },
      "source": [
        "## Fictions and Folk Ontology"
      ]
    },
    {
      "cell_type": "markdown",
      "metadata": {
        "id": "zu1aRIwHYT6s"
      },
      "source": [
        "## Target-Directed Modeling"
      ]
    },
    {
      "cell_type": "markdown",
      "metadata": {
        "id": "R3s_65xHYbSp"
      },
      "source": [
        "## Idealization"
      ]
    },
    {
      "cell_type": "markdown",
      "metadata": {
        "id": "XOgiX0IQYdal"
      },
      "source": [
        "## Modeling Without a Specific Target"
      ]
    },
    {
      "cell_type": "markdown",
      "metadata": {
        "id": "uYnqVYzqYh26"
      },
      "source": [
        "## An Account of Similarity"
      ]
    },
    {
      "cell_type": "markdown",
      "metadata": {
        "id": "dk6ellJqYl0V"
      },
      "source": [
        "## Robutness Analysis  and Idealization"
      ]
    },
    {
      "cell_type": "markdown",
      "metadata": {
        "id": "RsTLP8tgYqp5"
      },
      "source": [
        "## Conclusion: The Practice of Modeling"
      ]
    },
    {
      "cell_type": "markdown",
      "metadata": {
        "id": "CV22E-EIZLW6"
      },
      "source": [
        "*Models* are potential representation fo target systems. \n",
        "\n",
        "Types of models:\n",
        "  - **Concrete**: are constructed out of physical structures,\n",
        "  - **Mathematical**: are constructed out of mathematical structures,\n",
        "  - **and Computational**: are constructed out of procedures.\n",
        "\n",
        "These different kinds of structure have different *representional capacities*.\n",
        "\n",
        "Parts of a model:\n",
        "  - **Structure**: Concreate, Mathematical and Computational.\n",
        "  - **Construal**, which is a modeler's interpretion of the structure. Construals are compose of three parts:\n",
        "  \n",
        "    - **Assigmments** give a denotatio to each structural element of the model.  \n",
        "    \n",
        "    - **Indented scope**, specifies which aspect of potential target phenomena are inteeted to be represented by the model, and which parts are simply excess structure.\n",
        "\n",
        "    - **Fidelity criteria**, standards that theoriets use to evaltue a models's abilty to represent real phenomena.\n",
        "\n",
        "**To be Continue**"
      ]
    }
  ]
}