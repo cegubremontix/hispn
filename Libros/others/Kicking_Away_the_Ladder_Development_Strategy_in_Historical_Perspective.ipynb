{
  "nbformat": 4,
  "nbformat_minor": 0,
  "metadata": {
    "colab": {
      "name": " Kicking Away the Ladder: Development Strategy in Historical Perspective.ipynb",
      "provenance": [],
      "authorship_tag": "ABX9TyPHRRDI+fX0tASABq5HT4ss",
      "include_colab_link": true
    },
    "kernelspec": {
      "name": "python3",
      "display_name": "Python 3"
    },
    "language_info": {
      "name": "python"
    }
  },
  "cells": [
    {
      "cell_type": "markdown",
      "metadata": {
        "id": "view-in-github",
        "colab_type": "text"
      },
      "source": [
        "<a href=\"https://colab.research.google.com/github/dbremont/Notas/blob/main/Libros/Otros/Kicking_Away_the_Ladder_Development_Strategy_in_Historical_Perspective.ipynb\" target=\"_parent\"><img src=\"https://colab.research.google.com/assets/colab-badge.svg\" alt=\"Open In Colab\"/></a>"
      ]
    },
    {
      "cell_type": "markdown",
      "source": [
        "## How Rich Contries Really Became Rich?"
      ],
      "metadata": {
        "id": "ZuYVg0T4sbjw"
      }
    },
    {
      "cell_type": "markdown",
      "source": [
        "## Policies for Economic Development: Industiral, Trade and Technological Policies in Historical Perspective"
      ],
      "metadata": {
        "id": "jkY2uQ5cqPKS"
      }
    },
    {
      "cell_type": "markdown",
      "source": [
        "## Institutions and Economcic Development: 'Good Governance' in Historical Perspective"
      ],
      "metadata": {
        "id": "1jvu_-KhqcrM"
      }
    },
    {
      "cell_type": "markdown",
      "source": [
        "## Lessons for the Present"
      ],
      "metadata": {
        "id": "WNcMPhSFqoKP"
      }
    }
  ]
}