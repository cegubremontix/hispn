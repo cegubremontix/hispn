{
  "nbformat": 4,
  "nbformat_minor": 0,
  "metadata": {
    "colab": {
      "name": "Social Physics: how good ideas spread - the lessons from a new science.ipynb",
      "provenance": [],
      "authorship_tag": "ABX9TyMi3TrZNv1SPSn7j4s9+r7T",
      "include_colab_link": true
    },
    "kernelspec": {
      "name": "python3",
      "display_name": "Python 3"
    },
    "language_info": {
      "name": "python"
    }
  },
  "cells": [
    {
      "cell_type": "markdown",
      "metadata": {
        "id": "view-in-github",
        "colab_type": "text"
      },
      "source": [
        "<a href=\"https://colab.research.google.com/github/dbremont/Notas/blob/main/Libros/Otros/Social_Physics_how_good_ideas_spread_the_lessons_from_a_new_science.ipynb\" target=\"_parent\"><img src=\"https://colab.research.google.com/assets/colab-badge.svg\" alt=\"Open In Colab\"/></a>"
      ]
    },
    {
      "cell_type": "markdown",
      "source": [
        "## From Ideas to Actions"
      ],
      "metadata": {
        "id": "X4CuhIC3JjLQ"
      }
    },
    {
      "cell_type": "markdown",
      "source": [
        "# Social Physics"
      ],
      "metadata": {
        "id": "FMyZeZBlLI8-"
      }
    },
    {
      "cell_type": "markdown",
      "source": [
        "## Exploration"
      ],
      "metadata": {
        "id": "7KD0OUrpLMw5"
      }
    },
    {
      "cell_type": "markdown",
      "source": [
        "## Idea Flow"
      ],
      "metadata": {
        "id": "LmVrtycBLPV3"
      }
    },
    {
      "cell_type": "markdown",
      "source": [
        "## Engagement"
      ],
      "metadata": {
        "id": "567RteCBLT_Z"
      }
    },
    {
      "cell_type": "markdown",
      "source": [
        "# Idea Machines"
      ],
      "metadata": {
        "id": "NgtdNyljLVjE"
      }
    },
    {
      "cell_type": "markdown",
      "source": [
        "## Collective Intelligence"
      ],
      "metadata": {
        "id": "F-daUPMRLX1x"
      }
    },
    {
      "cell_type": "markdown",
      "source": [
        "## Shaping Organizations"
      ],
      "metadata": {
        "id": "8qnFAtjFLaTD"
      }
    },
    {
      "cell_type": "markdown",
      "source": [
        "## Organizational Change"
      ],
      "metadata": {
        "id": "qjolpykMLcxl"
      }
    },
    {
      "cell_type": "markdown",
      "source": [
        "# Data-Driven Cities"
      ],
      "metadata": {
        "id": "O_rV_-nvLgSt"
      }
    },
    {
      "cell_type": "markdown",
      "source": [
        "## Sensing Cities"
      ],
      "metadata": {
        "id": "TQ94BpqjLiPo"
      }
    },
    {
      "cell_type": "markdown",
      "source": [
        "## City Science"
      ],
      "metadata": {
        "id": "nK1JrZaWLm5x"
      }
    },
    {
      "cell_type": "markdown",
      "source": [
        "# Data-Driven Society"
      ],
      "metadata": {
        "id": "Mi7jT6x_Lq6f"
      }
    },
    {
      "cell_type": "markdown",
      "source": [
        "##  Data-Driven Societies"
      ],
      "metadata": {
        "id": "kQj0VJXdLubl"
      }
    },
    {
      "cell_type": "markdown",
      "source": [
        "## Design for Harmony"
      ],
      "metadata": {
        "id": "F6qcBamaLxUO"
      }
    }
  ]
}