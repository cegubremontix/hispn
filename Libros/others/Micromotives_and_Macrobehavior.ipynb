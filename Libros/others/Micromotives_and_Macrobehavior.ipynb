{
  "nbformat": 4,
  "nbformat_minor": 0,
  "metadata": {
    "colab": {
      "name": "Micromotives and Macrobehavior.ipynb",
      "provenance": [],
      "authorship_tag": "ABX9TyMiG0urO11r0V7S0BKS+mDa",
      "include_colab_link": true
    },
    "kernelspec": {
      "name": "python3",
      "display_name": "Python 3"
    },
    "language_info": {
      "name": "python"
    }
  },
  "cells": [
    {
      "cell_type": "markdown",
      "metadata": {
        "id": "view-in-github",
        "colab_type": "text"
      },
      "source": [
        "<a href=\"https://colab.research.google.com/github/dbremont/Notas/blob/main/Libros/Otros/Micromotives_and_Macrobehavior.ipynb\" target=\"_parent\"><img src=\"https://colab.research.google.com/assets/colab-badge.svg\" alt=\"Open In Colab\"/></a>"
      ]
    },
    {
      "cell_type": "markdown",
      "source": [
        "## Micromotives and Macrobehaviors"
      ],
      "metadata": {
        "id": "XZOiQ8WN8DRo"
      }
    },
    {
      "cell_type": "markdown",
      "source": [
        "## The inescapable mathematics of musical chairs"
      ],
      "metadata": {
        "id": "ZxMxR3w-8Hrd"
      }
    },
    {
      "cell_type": "markdown",
      "source": [
        "## Termostats, lemons, and other families of models"
      ],
      "metadata": {
        "id": "xtqCIGGe8PB6"
      }
    },
    {
      "cell_type": "markdown",
      "source": [
        "## Sorting and mixing: race and sex"
      ],
      "metadata": {
        "id": "b-FwPDRR8Szs"
      }
    },
    {
      "cell_type": "markdown",
      "source": [
        "## Sorting and mixing: age and income"
      ],
      "metadata": {
        "id": "P13KqIeK8WxM"
      }
    },
    {
      "cell_type": "markdown",
      "source": [
        "## Choosing our children's genes"
      ],
      "metadata": {
        "id": "O16c6E3K8ZY6"
      }
    },
    {
      "cell_type": "markdown",
      "source": [
        "## Hockey helmets, daylight saving, and other binary choices"
      ],
      "metadata": {
        "id": "rK4dEP8j8cIJ"
      }
    },
    {
      "cell_type": "markdown",
      "source": [
        "## As astonishing sixty years: the legacy of hiroshima"
      ],
      "metadata": {
        "id": "uNfGP53j8cFu"
      }
    }
  ]
}