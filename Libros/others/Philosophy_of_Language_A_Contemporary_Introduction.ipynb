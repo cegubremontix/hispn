{
  "nbformat": 4,
  "nbformat_minor": 0,
  "metadata": {
    "colab": {
      "name": "Philosophy of Language: A Contemporary Introduction.ipynb",
      "provenance": [],
      "authorship_tag": "ABX9TyNyF9H+NzLYE2agNrXvGt3b",
      "include_colab_link": true
    },
    "kernelspec": {
      "name": "python3",
      "display_name": "Python 3"
    },
    "language_info": {
      "name": "python"
    }
  },
  "cells": [
    {
      "cell_type": "markdown",
      "metadata": {
        "id": "view-in-github",
        "colab_type": "text"
      },
      "source": [
        "<a href=\"https://colab.research.google.com/github/dbremont/Notas/blob/main/Libros/Otros/Philosophy_of_Language_A_Contemporary_Introduction.ipynb\" target=\"_parent\"><img src=\"https://colab.research.google.com/assets/colab-badge.svg\" alt=\"Open In Colab\"/></a>"
      ]
    },
    {
      "cell_type": "markdown",
      "source": [
        "https://www.amazon.com/progress-tracker/package/ref=pt_redirect_from_gp?_encoding=UTF8&from=gp&itemId=&orderId=111-3276479-9789839&packageIndex=0&shipmentId=17930818150025"
      ],
      "metadata": {
        "id": "ZuYVg0T4sbjw"
      }
    },
    {
      "cell_type": "markdown",
      "source": [
        "## Introduction: Meaning and Reference"
      ],
      "metadata": {
        "id": "in61eZHM9nR3"
      }
    },
    {
      "cell_type": "markdown",
      "source": [
        "# Reference and Referring"
      ],
      "metadata": {
        "id": "yT6YxvkW-ARK"
      }
    },
    {
      "cell_type": "markdown",
      "source": [
        "## Definite Descriptions"
      ],
      "metadata": {
        "id": "i_Rwdyq3-F9a"
      }
    },
    {
      "cell_type": "markdown",
      "source": [
        "## Proper Names: The Description Theory"
      ],
      "metadata": {
        "id": "pomASOlS-INk"
      }
    },
    {
      "cell_type": "markdown",
      "source": [
        "## Proper Names: Direct Reference and the Causal-Historical Theory"
      ],
      "metadata": {
        "id": "hxmBG95wAHVn"
      }
    },
    {
      "cell_type": "markdown",
      "source": [
        "# Theories"
      ],
      "metadata": {
        "id": "Uux2AneJAOkw"
      }
    },
    {
      "cell_type": "markdown",
      "source": [
        "## Traditional Theories of Meaning"
      ],
      "metadata": {
        "id": "Ihy7IYJaARIt"
      }
    },
    {
      "cell_type": "markdown",
      "source": [
        "## \"Use\" Theories"
      ],
      "metadata": {
        "id": "y8vS8uOEAU2Y"
      }
    },
    {
      "cell_type": "markdown",
      "source": [
        "## Psychological Theories: Grice's Program"
      ],
      "metadata": {
        "id": "okOmXxetAYEq"
      }
    },
    {
      "cell_type": "markdown",
      "source": [
        "## Verificationsm"
      ],
      "metadata": {
        "id": "XAPMY3zgAd0_"
      }
    },
    {
      "cell_type": "markdown",
      "source": [
        "## Truth-Condition Theories: Davidson's Program"
      ],
      "metadata": {
        "id": "Q-RWwYOFAhK_"
      }
    },
    {
      "cell_type": "markdown",
      "source": [
        "## Truth-Condition Theories: Possible Worlds and Intensional Semanatics"
      ],
      "metadata": {
        "id": "1TMQbG43AmKx"
      }
    },
    {
      "cell_type": "markdown",
      "source": [
        "# Pragmatics and Speech Acts"
      ],
      "metadata": {
        "id": "JJ9YaZK4AxSb"
      }
    },
    {
      "cell_type": "markdown",
      "source": [
        "## Semantic Pragmatics"
      ],
      "metadata": {
        "id": "grBVKRWeA0a_"
      }
    },
    {
      "cell_type": "markdown",
      "source": [
        "## Speech Acts and Illocutionary Force"
      ],
      "metadata": {
        "id": "nZlv2q5PA4yz"
      }
    },
    {
      "cell_type": "markdown",
      "source": [
        "## Implicative Relations"
      ],
      "metadata": {
        "id": "hn-LwrNlA9tX"
      }
    },
    {
      "cell_type": "markdown",
      "source": [
        "# Expressive and the Figurative"
      ],
      "metadata": {
        "id": "V2ciNWnVBAWR"
      }
    },
    {
      "cell_type": "markdown",
      "source": [
        "## Expressive Language"
      ],
      "metadata": {
        "id": "6QyuY8twBC4a"
      }
    },
    {
      "cell_type": "markdown",
      "source": [
        "## Metaphor"
      ],
      "metadata": {
        "id": "P2hd3M81BEkj"
      }
    }
  ]
}