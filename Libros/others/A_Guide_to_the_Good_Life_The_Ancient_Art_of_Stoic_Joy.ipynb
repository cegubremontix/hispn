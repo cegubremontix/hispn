{
  "nbformat": 4,
  "nbformat_minor": 0,
  "metadata": {
    "colab": {
      "name": "A Guide to the Good Life: The Ancient Art of Stoic Joy.ipynb",
      "provenance": [],
      "authorship_tag": "ABX9TyNHBiF87gxFV37NEwF7SBt5",
      "include_colab_link": true
    },
    "kernelspec": {
      "name": "python3",
      "display_name": "Python 3"
    },
    "language_info": {
      "name": "python"
    }
  },
  "cells": [
    {
      "cell_type": "markdown",
      "metadata": {
        "id": "view-in-github",
        "colab_type": "text"
      },
      "source": [
        "<a href=\"https://colab.research.google.com/github/dbremont/Notas/blob/main/Libros/Otros/A_Guide_to_the_Good_Life_The_Ancient_Art_of_Stoic_Joy.ipynb\" target=\"_parent\"><img src=\"https://colab.research.google.com/assets/colab-badge.svg\" alt=\"Open In Colab\"/></a>"
      ]
    },
    {
      "cell_type": "markdown",
      "metadata": {
        "id": "wqFEzPzPwoXS"
      },
      "source": [
        "# A Guide to the Good Life: The Ancient Art of Stoic Joy\n",
        "Libros/Otros"
      ]
    },
    {
      "cell_type": "code",
      "metadata": {
        "id": "zvkYmzIy4iNE"
      },
      "source": [
        ""
      ],
      "execution_count": null,
      "outputs": []
    }
  ]
}