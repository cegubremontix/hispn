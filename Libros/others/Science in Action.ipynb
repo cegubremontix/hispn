{
  "nbformat": 4,
  "nbformat_minor": 0,
  "metadata": {
    "kernelspec": {
      "display_name": "Python 2.7.18 64-bit",
      "name": "python2718jvsc74a57bd0f92b2924b84ff19c1c3dc485f7644d4486f64738191026bf8e6de303969141b5"
    },
    "language_info": {
      "name": "python",
      "version": ""
    },
    "metadata": {
      "interpreter": {
        "hash": "f92b2924b84ff19c1c3dc485f7644d4486f64738191026bf8e6de303969141b5"
      }
    },
    "orig_nbformat": 2,
    "colab": {
      "name": "Science in Action.ipynb",
      "provenance": [],
      "include_colab_link": true
    }
  },
  "cells": [
    {
      "cell_type": "markdown",
      "metadata": {
        "id": "view-in-github",
        "colab_type": "text"
      },
      "source": [
        "<a href=\"https://colab.research.google.com/github/dbremont/Notas/blob/main/Libros/Otros/Science%20in%20Action.ipynb\" target=\"_parent\"><img src=\"https://colab.research.google.com/assets/colab-badge.svg\" alt=\"Open In Colab\"/></a>"
      ]
    },
    {
      "cell_type": "markdown",
      "metadata": {
        "id": "CgTu7gaCjrFP"
      },
      "source": [
        "## Introduction Opening Pandora's Black Box"
      ]
    },
    {
      "cell_type": "markdown",
      "metadata": {
        "id": "xP-O80BcjyqL"
      },
      "source": [
        "## Laboratories"
      ]
    },
    {
      "cell_type": "markdown",
      "metadata": {
        "id": "Rdecp772j1Fd"
      },
      "source": [
        "## Machines"
      ]
    },
    {
      "cell_type": "markdown",
      "metadata": {
        "id": "qLF5LEa_j6pv"
      },
      "source": [
        "## Insiders Out"
      ]
    },
    {
      "cell_type": "markdown",
      "metadata": {
        "id": "nxlUPr14kBlw"
      },
      "source": [
        "## Tribunals of Reason"
      ]
    },
    {
      "cell_type": "markdown",
      "metadata": {
        "id": "IH-yt35ikQtE"
      },
      "source": [
        "## Centers of calculation"
      ]
    },
    {
      "cell_type": "markdown",
      "metadata": {
        "id": "Y7Yl0MFakTti"
      },
      "source": [
        "## Rules of Method"
      ]
    },
    {
      "cell_type": "markdown",
      "metadata": {
        "id": "TuU0Kn6ykXhX"
      },
      "source": [
        "## Principles"
      ]
    }
  ]
}