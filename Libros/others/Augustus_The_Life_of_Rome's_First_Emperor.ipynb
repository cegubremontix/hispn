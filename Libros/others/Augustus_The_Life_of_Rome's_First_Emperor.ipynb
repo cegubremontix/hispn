{
  "nbformat": 4,
  "nbformat_minor": 0,
  "metadata": {
    "colab": {
      "name": " Augustus: The Life of Rome's First Emperor.ipynb",
      "provenance": [],
      "authorship_tag": "ABX9TyPGplML3rJRe6BvanaYIkOz",
      "include_colab_link": true
    },
    "kernelspec": {
      "name": "python3",
      "display_name": "Python 3"
    },
    "language_info": {
      "name": "python"
    }
  },
  "cells": [
    {
      "cell_type": "markdown",
      "metadata": {
        "id": "view-in-github",
        "colab_type": "text"
      },
      "source": [
        "<a href=\"https://colab.research.google.com/github/dbremont/Notas/blob/main/Libros/Otros/Augustus_The_Life_of_Rome's_First_Emperor.ipynb\" target=\"_parent\"><img src=\"https://colab.research.google.com/assets/colab-badge.svg\" alt=\"Open In Colab\"/></a>"
      ]
    },
    {
      "cell_type": "markdown",
      "source": [
        "## Scenes froma provincial childhood"
      ],
      "metadata": {
        "id": "iu1RnNuWhnjA"
      }
    },
    {
      "cell_type": "markdown",
      "source": [
        "## The Great-Uncle"
      ],
      "metadata": {
        "id": "MCCNVWGYhrVW"
      }
    },
    {
      "cell_type": "markdown",
      "source": [
        "## A Political Master Class"
      ],
      "metadata": {
        "id": "uEjLm9C4huDz"
      }
    },
    {
      "cell_type": "markdown",
      "source": [
        "## Unfinished Business"
      ],
      "metadata": {
        "id": "cWY0g9yAhww7"
      }
    },
    {
      "cell_type": "markdown",
      "source": [
        "## A Boy With a Name"
      ],
      "metadata": {
        "id": "6xV7MixXh0y8"
      }
    },
    {
      "cell_type": "markdown",
      "source": [
        "## From Victory, Defeat"
      ],
      "metadata": {
        "id": "e5yEO_i-h4JR"
      }
    },
    {
      "cell_type": "markdown",
      "source": [
        "## Killing Fields"
      ],
      "metadata": {
        "id": "GUZdHXI8h7b8"
      }
    },
    {
      "cell_type": "markdown",
      "source": [
        "## Devided World"
      ],
      "metadata": {
        "id": "p99kBoHIh9vS"
      }
    },
    {
      "cell_type": "markdown",
      "source": [
        "## Golden Age"
      ],
      "metadata": {
        "id": "T3E-t4HPh__B"
      }
    },
    {
      "cell_type": "markdown",
      "source": [
        "## Fighting Neptune"
      ],
      "metadata": {
        "id": "m4q6ml-3iCen"
      }
    },
    {
      "cell_type": "markdown",
      "source": [
        "## Parthian Shots"
      ],
      "metadata": {
        "id": "lZYMgn2tiEQY"
      }
    },
    {
      "cell_type": "markdown",
      "source": [
        "## East is East and West is West"
      ],
      "metadata": {
        "id": "Ov79FY85iGs8"
      }
    },
    {
      "cell_type": "markdown",
      "source": [
        "## The Phony War"
      ],
      "metadata": {
        "id": "iAmNx2RdiMiQ"
      }
    },
    {
      "cell_type": "markdown",
      "source": [
        "## Showdown"
      ],
      "metadata": {
        "id": "Vlrtqw6XidR2"
      }
    },
    {
      "cell_type": "markdown",
      "source": [
        "## A Long Farewall"
      ],
      "metadata": {
        "id": "IuUqzz27ifGj"
      }
    },
    {
      "cell_type": "markdown",
      "source": [
        "## Abdication"
      ],
      "metadata": {
        "id": "3ncWIQ81iig-"
      }
    },
    {
      "cell_type": "markdown",
      "source": [
        "## Whom the gods love"
      ],
      "metadata": {
        "id": "7Qi9JEDCikPg"
      }
    },
    {
      "cell_type": "markdown",
      "source": [
        "## Exercising power"
      ],
      "metadata": {
        "id": "a3VaivGIiobq"
      }
    },
    {
      "cell_type": "markdown",
      "source": [
        "## The cult of virtue"
      ],
      "metadata": {
        "id": "Q-Nf4F7riqSD"
      }
    },
    {
      "cell_type": "markdown",
      "source": [
        "## Lite at court"
      ],
      "metadata": {
        "id": "8OxQH0HJisSr"
      }
    },
    {
      "cell_type": "markdown",
      "source": [
        "## Growing the empire"
      ],
      "metadata": {
        "id": "4cbIuvPVit9k"
      }
    },
    {
      "cell_type": "markdown",
      "source": [
        "## A family at war"
      ],
      "metadata": {
        "id": "hTgzNZgiiwR2"
      }
    },
    {
      "cell_type": "markdown",
      "source": [
        "## The unhappy return"
      ],
      "metadata": {
        "id": "tEOBLyGeiyTU"
      }
    },
    {
      "cell_type": "markdown",
      "source": [
        "## The bitter end"
      ],
      "metadata": {
        "id": "PV_Nx6coi3p1"
      }
    },
    {
      "cell_type": "markdown",
      "source": [
        "## Into the future"
      ],
      "metadata": {
        "id": "lS0Y-_dsi6dm"
      }
    }
  ]
}