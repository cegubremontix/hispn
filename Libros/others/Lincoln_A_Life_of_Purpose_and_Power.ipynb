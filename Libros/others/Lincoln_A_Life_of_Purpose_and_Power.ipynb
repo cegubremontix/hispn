{
  "nbformat": 4,
  "nbformat_minor": 0,
  "metadata": {
    "colab": {
      "name": "Lincoln: A Life of Purpose and Power.ipynb",
      "provenance": [],
      "authorship_tag": "ABX9TyNCn/f8tSuxZ9nbJE1+vm4f",
      "include_colab_link": true
    },
    "kernelspec": {
      "name": "python3",
      "display_name": "Python 3"
    },
    "language_info": {
      "name": "python"
    }
  },
  "cells": [
    {
      "cell_type": "markdown",
      "metadata": {
        "id": "view-in-github",
        "colab_type": "text"
      },
      "source": [
        "<a href=\"https://colab.research.google.com/github/dbremont/Notas/blob/main/Libros/Otros/Lincoln_A_Life_of_Purpose_and_Power.ipynb\" target=\"_parent\"><img src=\"https://colab.research.google.com/assets/colab-badge.svg\" alt=\"Open In Colab\"/></a>"
      ]
    },
    {
      "cell_type": "markdown",
      "source": [
        "https://www.amazon.com/progress-tracker/package/ref=pt_redirect_from_gp?_encoding=UTF8&from=gp&itemId=&orderId=111-9233546-3505807&packageIndex=0&shipmentId=17938178890025"
      ],
      "metadata": {
        "id": "ZuYVg0T4sbjw"
      }
    }
  ]
}