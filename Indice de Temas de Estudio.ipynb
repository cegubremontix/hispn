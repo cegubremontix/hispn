{
  "nbformat": 4,
  "nbformat_minor": 0,
  "metadata": {
    "colab": {
      "name": "Temas de Estudio Index.ipynb",
      "provenance": [],
      "collapsed_sections": [],
      "toc_visible": true,
      "authorship_tag": "ABX9TyNOQzVahcxiGaE5yjw/yIW2",
      "include_colab_link": true
    },
    "kernelspec": {
      "name": "python3",
      "display_name": "Python 3"
    }
  },
  "cells": [
    {
      "cell_type": "markdown",
      "metadata": {
        "id": "view-in-github",
        "colab_type": "text"
      },
      "source": [
        "<a href=\"https://colab.research.google.com/github/dbremont/Notas/blob/main/Indice%20de%20Temas%20de%20Estudio.ipynb\" target=\"_parent\"><img src=\"https://colab.research.google.com/assets/colab-badge.svg\" alt=\"Open In Colab\"/></a>"
      ]
    },
    {
      "cell_type": "markdown",
      "metadata": {
        "id": "qtNSJPLFebOt"
      },
      "source": [
        "* Find a proyect in this Topics.\n",
        "* Learn to Make the proyect.\n",
        "\n",
        "\n",
        "* [So You Want To Learn Physics...](https://www.susanjfowler.com/blog/2016/8/13/so-you-want-to-learn-physics)\n",
        "\n",
        "* [education - How do you start learning physics by yourself? - Physics Stack Exchange](https://physics.stackexchange.com/questions/33222/how-do-you-start-learning-physics-by-yourself)\n",
        "\n",
        "* [Ask HN: How to self-study physics? | Hacker News](https://news.ycombinator.com/item?id=22682837)\n",
        "\n",
        "* [How to become a GOOD Theoretical Physicist](https://webspace.science.uu.nl/~gadda001/goodtheorist/advmath.html)"
      ]
    },
    {
      "cell_type": "markdown",
      "metadata": {
        "id": "ne3V_Qt84t-l"
      },
      "source": [
        "\n",
        "# Temas de Estudio\n"
      ]
    },
    {
      "cell_type": "markdown",
      "metadata": {
        "id": "VmRGtoa9qs3L"
      },
      "source": [
        "* [Information Theory](https://colab.research.google.com/github/dbremont/Notas/blob/main/Temas%20de%20Estudio/Information%20Theory.ipynb)\n",
        "\n",
        "* [Signal Processing](https://colab.research.google.com/github/dbremont/Notas/blob/main/Temas%20de%20Estudio/Signal%20Processing.ipynb)\n",
        "\n",
        "* [Un paseo aleatorio por las matemáticas y ciencias computacionales](https://colab.research.google.com/github/dbremont/Notas/blob/main/Temas%20de%20Estudio/Un%20paseo%20aleatorio%20por%20las%20matem%C3%A1ticas%20y%20ciencias%20computacionales.ipynb)\n"
      ]
    },
    {
      "cell_type": "markdown",
      "metadata": {
        "id": "WixViPJw49HK"
      },
      "source": [
        "# Computacion"
      ]
    },
    {
      "cell_type": "markdown",
      "metadata": {
        "id": "F4cCDbmdLDau"
      },
      "source": [
        "* [Algorithms & Data Structures](https://colab.research.google.com/github/dbremont/Notas/blob/main/Temas%20de%20Estudio/Algorithms%20%26%20Data%20Structures.ipynb)\n",
        "\n",
        "* [Computer Architecture](https://colab.research.google.com/drive/1061zC3h6Y8WD-NdECMEqwtlurs-KVCS0)\n",
        "\n",
        "* [Systems](https://colab.research.google.com/github/dbremont/Notas/blob/main/Temas%20de%20Estudio/Systems.ipynb)"
      ]
    },
    {
      "cell_type": "markdown",
      "metadata": {
        "id": "xWOBLqlU4x06"
      },
      "source": [
        "\n",
        "# Mathematics"
      ]
    },
    {
      "cell_type": "markdown",
      "metadata": {
        "id": "eaP-9DHrzIS6"
      },
      "source": [
        "* [Continous Mathematics](https://colab.research.google.com/github/dbremont/Notas/blob/main/Temas%20de%20Estudio/Continous%20Mathematics.ipynb)\n",
        "\n",
        "* [Probability and Statistics](https://colab.research.google.com/github/dbremont/Notas/blob/main/Temas%20de%20Estudio/Probability%20and%20Statistics.ipynb)\n",
        "\n",
        "* [Linear Algebra](https://colab.research.google.com/github/dbremont/Notas/blob/main/Temas%20de%20Estudio/Linear%20Algebra.ipynb)"
      ]
    },
    {
      "cell_type": "markdown",
      "metadata": {
        "id": "jikcub9e44p_"
      },
      "source": [
        "\n",
        "# Aprendisaje Automatico"
      ]
    },
    {
      "cell_type": "markdown",
      "metadata": {
        "id": "AUFugfuqP4Bl"
      },
      "source": [
        "* [Machine Learning](https://colab.research.google.com/github/dbremont/Notas/blob/main/Temas%20de%20Estudio/Machine%20Learning.ipynb)\n",
        "\n",
        "* [Deep Learning](https://colab.research.google.com/github/dbremont/Notas/blob/main/Temas%20de%20Estudio/Deep%20Learning.ipynb)\n",
        "\n",
        "* [Computational Linguistics](https://colab.research.google.com/github/dbremont/Notas/blob/main/Temas%20de%20Estudio/Computational%20Linguistics.ipynb)"
      ]
    },
    {
      "cell_type": "markdown",
      "metadata": {
        "id": "uTmmR9Kp5H0T"
      },
      "source": [
        "# Ciencia y Aplicaciones"
      ]
    },
    {
      "cell_type": "markdown",
      "metadata": {
        "id": "1KxfaGOFaXtz"
      },
      "source": [
        "* [Science Essentials](https://colab.research.google.com/github/dbremont/Notas/blob/main/Temas%20de%20Estudio/Science%20Essentials.ipynb)\n",
        "\n",
        "* [Physics](https://colab.research.google.com/github/dbremont/Notas/blob/main/Temas%20de%20Estudio/Physics.ipynb)\n",
        "\n",
        "* [Chemistry](https://colab.research.google.com/github/dbremont/Notas/blob/main/Temas%20de%20Estudio/Chemistry.ipynb)\n",
        "\n",
        "* [Biology](https://colab.research.google.com/github/dbremont/Notas/blob/main/Temas%20de%20Estudio/Biology.ipynb)\n",
        "\n",
        "* [Brain and Cognitive Sciences](https://colab.research.google.com/github/dbremont/Notas/blob/main/Temas%20de%20Estudio/Brain%20and%20Cognitive%20Sciences.ipynb)\n",
        "\n",
        "- [Aplicaciones](https://colab.research.google.com/github/dbremont/Notas/blob/main/Temas%20de%20Estudio/Aplicaciones.ipynb)"
      ]
    },
    {
      "cell_type": "markdown",
      "metadata": {
        "id": "WH_ENf_dam7i"
      },
      "source": [
        "# General"
      ]
    },
    {
      "cell_type": "markdown",
      "metadata": {
        "id": "4-YAMPV0aog_"
      },
      "source": [
        "* [Soft Skills](https://colab.research.google.com/github/dbremont/Notas/blob/main/Temas%20de%20Estudio/Soft%20Skills.ipynb)\n",
        "\n",
        "* [Historia](https://colab.research.google.com/github/dbremont/Notas/blob/main/Temas%20de%20Estudio/Historia.ipynb)\n",
        "\n",
        "* [Ciencia política](https://colab.research.google.com/github/dbremont/Notas/blob/main/Temas%20de%20Estudio/Ciencia%20pol%C3%ADtica.ipynb)\n",
        "\n",
        "* [Economía](https://colab.research.google.com/github/dbremont/Notas/blob/main/Temas%20de%20Estudio/Econom%C3%ADa.ipynb)"
      ]
    },
    {
      "cell_type": "markdown",
      "metadata": {
        "id": "1j8dDuCn9jFz"
      },
      "source": [
        "Script for Some Interactivity if it gets converter to html\n",
        "\n",
        "<script src=\"https://cdnjs.cloudflare.com/ajax/libs/mousetrap/1.6.5/mousetrap.min.js\" integrity=\"sha512-+Jg3Ynmj9hse704K48H6rBBI3jdNBjReRGBCxUWFfOz3yVurnJFWtAWssDAsGtzWYw89xFWPxShuj2T6E9EOpg==\" crossorigin=\"anonymous\"></script>\n",
        "\n",
        "<script>\n",
        "\n",
        "var items = Array.from(document.querySelectorAll(\"li\"))\n",
        "\n",
        "items.forEach(function(a, index){\n",
        "    a.setAttribute(\"tabindex\", index)  \n",
        "})\n",
        "\n",
        "// Help\n",
        "Mousetrap.bind('?', function() { alert('Todo write the help of this.') });\n",
        "\n",
        "// Focus some random thing.\n",
        "Mousetrap.bind('r', function() {\n",
        "  var item = items[Math.floor(Math.random()*items.length)];\n",
        "  item.focus()\n",
        "});\n",
        "\n",
        "</script>"
      ]
    }
  ]
}