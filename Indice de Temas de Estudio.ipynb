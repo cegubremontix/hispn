{
  "nbformat": 4,
  "nbformat_minor": 0,
  "metadata": {
    "colab": {
      "name": "Temas de Estudio Index.ipynb",
      "provenance": [],
      "collapsed_sections": [],
      "toc_visible": true,
      "include_colab_link": true
    },
    "kernelspec": {
      "name": "python3",
      "display_name": "Python 3"
    }
  },
  "cells": [
    {
      "cell_type": "markdown",
      "metadata": {
        "id": "view-in-github",
        "colab_type": "text"
      },
      "source": [
        "<a href=\"https://colab.research.google.com/github/dbremont/Notas/blob/main/Indice%20de%20Temas%20de%20Estudio.ipynb\" target=\"_parent\"><img src=\"https://colab.research.google.com/assets/colab-badge.svg\" alt=\"Open In Colab\"/></a>"
      ]
    },
    {
      "cell_type": "markdown",
      "metadata": {
        "id": "dbZmSFZqKLBO"
      },
      "source": [
        "**Para ser práctico**:\n",
        "\n",
        "1. Encontrar/Elegir un proyecto.\n",
        "2. Verificar a cual tópico el proyecto pertenece.\n",
        "3. **PMV** Aprender lo suficiente para hacer el (Producto mínimo viable).\n",
        "\n",
        "- Remember Only one topic at a time.\n",
        "- Select something and stick with it. \n",
        "  - I am bad at this, and without this i can not make progess.\n",
        "\n",
        "- [Tech Crunch](https://techcrunch.com/)\n",
        "\n",
        "- [tweedeck.twitter.com](https://tweetdeck.twitter.com/)\n",
        "\n",
        "- [hacker news](https://news.ycombinator.com/)\n",
        "\n",
        "- [reddit api](https://api.pushshift.io/reddit/search/submission/?subreddit=java&sort=desc&sort_type=created_utc&after=1523588521&before=1523934121&size=1000)\n",
        "\n",
        "- [r/java](https://www.reddit.com/r/java/) | [r/ProgrammingLanguages](https://www.reddit.com/r/ProgrammingLanguages/)\n",
        "\n",
        "- [r/bash](https://www.reddit.com/r/bash/)\n",
        "\n",
        "- [r/physics](https://www.reddit.com/r/physics/) | [r/chemistry](https://www.reddit.com/r/chemistry/) | [r/neuroscience](https://www.reddit.com/r/neuroscience/)\n",
        "\n",
        "- [r/learnmachinelearning](https://www.reddit.com/r/learnmachinelearning/)  |  [r/MachineLearning](https://www.reddit.com/r/MachineLearning/) | [r/dataisbeautiful](https://www.reddit.com/r/dataisbeautiful/)\n",
        "\n",
        "- [r/statistics](https://www.reddit.com/r/statistics/)\n",
        "\n",
        "- [r/learnmath](https://www.reddit.com/r/learnmath/)\n",
        "\n",
        "- [Neuron Journal](https://www.cell.com/neuron/home)\n",
        "\n",
        "- [Nature](https://www.nature.com/)\n",
        "\n",
        "- [The Atlas Of Economic Complexity](https://atlas.cid.harvard.edu/)\n",
        "\n",
        "- [List of emerging technologies](https://en.wikipedia.org/wiki/List_of_emerging_technologies)\n",
        "\n",
        "- [usenix](https://www.usenix.org/) \n",
        "\n",
        "- [IEEE Transactions on Software Engineering](https://ieeexplore.ieee.org/xpl/RecentIssue.jsp?punumber=32)\n"
      ]
    },
    {
      "cell_type": "markdown",
      "metadata": {
        "id": "ne3V_Qt84t-l"
      },
      "source": [
        "\n",
        "# Temas de Estudio\n"
      ]
    },
    {
      "cell_type": "markdown",
      "metadata": {
        "id": "VmRGtoa9qs3L"
      },
      "source": [
        "* [How To Make (almost) Anything](https://colab.research.google.com/github/dbremont/Notas/blob/main/Temas%20de%20Estudio/How_To_Make_(almost)_Anything.ipynb)"
      ]
    },
    {
      "cell_type": "markdown",
      "metadata": {
        "id": "yN1U2yI7uBVB"
      },
      "source": [
        "# Computational"
      ]
    },
    {
      "cell_type": "markdown",
      "metadata": {
        "id": "m519sFr2O5C2"
      },
      "source": [
        "* [CS Articles](https://colab.research.google.com/github/dbremont/Notas/blob/main/Ingenerare/CS_Articles.ipynb)\n",
        "\n",
        "* [Algorithms & Data Structures](https://colab.research.google.com/github/dbremont/Notas/blob/main/Temas%20de%20Estudio/Algorithms.ipynb)\n",
        "\n"
      ]
    },
    {
      "cell_type": "markdown",
      "metadata": {
        "id": "u8YBRjx4ufyb"
      },
      "source": [
        "* [Software Construction](https://colab.research.google.com/github/dbremont/Notas/blob/main/Ingenerare/6_005_Software_Construction_in_Java.ipynb)\n",
        "\n",
        "* [Structure and Interpretation of Computer Programs](https://colab.research.google.com/github/dbremont/Notas/blob/main/Ingenerare/Structure_and_Interpretation_of_Computer_Programs.ipynb)\n"
      ]
    },
    {
      "cell_type": "markdown",
      "metadata": {
        "id": "_UByV546uj2q"
      },
      "source": [
        "* [6.004 Computation Structures](https://colab.research.google.com/github/dbremont/Notas/blob/main/Ingenerare/6_004_Computation_Structures.ipynb)\n",
        "\n",
        "* [Computer Systems / Programming](https://colab.research.google.com/github/dbremont/Notas/blob/main/Ingenerare/Computer_Systems.ipynb)\n",
        "\n",
        "* [Operating Systems](https://colab.research.google.com/github/dbremont/Notas/blob/main/Ingenerare/Operating_Systems.ipynb)\n",
        "\n",
        "* [Fundamentals of Computer Networks](https://colab.research.google.com/github/dbremont/Notas/blob/main/Ingenerare/Fundamentals_of_Computer_Networks.ipynb)\n",
        "\n",
        "* [Distributed Systems](https://colab.research.google.com/github/dbremont/Notas/blob/main/Ingenerare/Distributed_Systems.ipynb)\n",
        "\n",
        "* [Compilers](https://colab.research.google.com/github/dbremont/Notas/blob/main/Ingenerare/Compilers.ipynb)\n",
        "\n",
        "* [Databases](https://colab.research.google.com/github/dbremont/Notas/blob/main/Ingenerare/Databases.ipynb)\n",
        "\n",
        "* [Security](https://colab.research.google.com/github/dbremont/Notas/blob/main/Ingenerare/Computer_Security.ipynb)\n"
      ]
    },
    {
      "cell_type": "markdown",
      "metadata": {
        "id": "W5svyy_xuncV"
      },
      "source": [
        "* [Full Stack Deep Learning](https://fullstackdeeplearning.com/)\n",
        "\n",
        "* [Machine Learning Systems](https://pooyanjamshidi.github.io/mls/)"
      ]
    },
    {
      "cell_type": "markdown",
      "metadata": {
        "id": "BL8axyv6TrCi"
      },
      "source": [
        "* [Front End Frameworks](https://classroom.udacity.com/courses/ud894)\n",
        "\n",
        "* [JavaScript Design Patterns](https://classroom.udacity.com/courses/ud989)"
      ]
    },
    {
      "cell_type": "markdown",
      "metadata": {
        "id": "xWOBLqlU4x06"
      },
      "source": [
        "# Mathematical"
      ]
    },
    {
      "cell_type": "markdown",
      "metadata": {
        "id": "eaP-9DHrzIS6"
      },
      "source": [
        "* [Articulos Matematicas](https://colab.research.google.com/github/dbremont/Notas/blob/main/Ingenerare/Math_Articles.ipynb)\n",
        "\n",
        "* [Basic Mathematics](https://colab.research.google.com/github/dbremont/Notas/blob/main/Ingenerare/Basic_Mathematics.ipynb)\n",
        "\n",
        "* [Problem Solving](https://colab.research.google.com/github/dbremont/Notas/blob/main/Ingenerare/Problem_Solving.ipynb)\n",
        "\n",
        "* [Single Variable Calculus](https://colab.research.google.com/github/dbremont/Notas/blob/main/Temas%20de%20Estudio/Single_Variable_Calculus.ipynb)\n",
        "\n",
        "* [Multi Variable Calculus](https://colab.research.google.com/github/dbremont/Notas/blob/main/Temas%20de%20Estudio/Multi_Variable_Calculus.ipynb)\n",
        "\n",
        "* [Probability and Statistics](https://colab.research.google.com/github/dbremont/Notas/blob/main/Temas%20de%20Estudio/Probability%20and%20Statistics.ipynb)\n",
        "\n",
        "* [Linear Algebra](https://colab.research.google.com/github/dbremont/Notas/blob/main/Temas%20de%20Estudio/Linear%20Algebra.ipynb)\n",
        "\n",
        "* [Differential Equations](https://colab.research.google.com/github/dbremont/Notas/blob/main/Temas%20de%20Estudio/Differential_Equations.ipynb)"
      ]
    },
    {
      "cell_type": "markdown",
      "metadata": {
        "id": "jikcub9e44p_"
      },
      "source": [
        "\n",
        "# Computational Learning"
      ]
    },
    {
      "cell_type": "markdown",
      "metadata": {
        "id": "AUFugfuqP4Bl"
      },
      "source": [
        "* [Computational Learning Articles](https://colab.research.google.com/github/dbremont/Notas/blob/main/Ingenerare/Computational_Learning_Articles.ipynb)\n",
        "\n",
        "* [Machine Learning](https://colab.research.google.com/github/dbremont/Notas/blob/main/Temas%20de%20Estudio/Machine%20Learning.ipynb)\n",
        "\n",
        "* [Deep Learning](https://colab.research.google.com/github/dbremont/Notas/blob/main/Temas%20de%20Estudio/Deep%20Learning.ipynb)\n",
        "\n",
        "* [Natural Language Processing](https://colab.research.google.com/github/dbremont/Notas/blob/main/Temas%20de%20Estudio/Natural_Language_Processing.ipynb)\n",
        "\n",
        "* [AI For Trading](https://colab.research.google.com/github/dbremont/Notas/blob/main/Ingenerare/AI_for_Trading.ipynb)"
      ]
    },
    {
      "cell_type": "markdown",
      "metadata": {
        "id": "uTmmR9Kp5H0T"
      },
      "source": [
        "# Ciencia"
      ]
    },
    {
      "cell_type": "markdown",
      "metadata": {
        "id": "1KxfaGOFaXtz"
      },
      "source": [
        "* [Science Articles](https://colab.research.google.com/github/dbremont/Notas/blob/main/Ingenerare/Cience_Articles.ipynb)\n",
        "\n",
        "* [Science Essentials](https://brilliant.org/courses/science-essentials/)\n",
        "\n",
        "* [Scientific Thinking](https://brilliant.org/courses/puzzle-science/)\n",
        "\n",
        "* [Physics](https://colab.research.google.com/github/dbremont/Notas/blob/main/Temas%20de%20Estudio/Physics.ipynb)\n",
        "\n",
        "* [Neurociencia](https://colab.research.google.com/github/dbremont/Notas/blob/main/Temas%20de%20Estudio/Neurociencia.ipynb)\n"
      ]
    },
    {
      "cell_type": "markdown",
      "metadata": {
        "id": "WH_ENf_dam7i"
      },
      "source": [
        "\n",
        "# General"
      ]
    },
    {
      "cell_type": "markdown",
      "metadata": {
        "id": "4-YAMPV0aog_"
      },
      "source": [
        "* [Articulos Generales](https://colab.research.google.com/github/dbremont/Notas/blob/main/Ingenerare/Articulos_Generales.ipynb)\n",
        "\n",
        "* [Outsmart Yourself: Brain-Based Strategies to a Better You](https://www.thegreatcourses.com/player/Video/1670)\n",
        "\n",
        "* [The Science of Everyday Thinking](https://www.edx.org/es/course/the-science-of-everyday-thinking)\n",
        "\n",
        "* [Historia](https://colab.research.google.com/github/dbremont/Notas/blob/main/Temas%20de%20Estudio/Historia.ipynb)\n",
        "\n",
        "* [Economía](https://colab.research.google.com/github/dbremont/Notas/blob/main/Temas%20de%20Estudio/Econom%C3%ADa.ipynb)"
      ]
    },
    {
      "cell_type": "markdown",
      "metadata": {
        "id": "1j8dDuCn9jFz"
      },
      "source": [
        "- *Script for Some Interactivity if it gets converter to html*\n",
        "\n",
        "<script src=\"https://cdnjs.cloudflare.com/ajax/libs/mousetrap/1.6.5/mousetrap.min.js\" integrity=\"sha512-+Jg3Ynmj9hse704K48H6rBBI3jdNBjReRGBCxUWFfOz3yVurnJFWtAWssDAsGtzWYw89xFWPxShuj2T6E9EOpg==\" crossorigin=\"anonymous\"></script>\n",
        "\n",
        "<script>\n",
        "\n",
        "var items = Array.from(document.querySelectorAll(\"li\"))\n",
        "\n",
        "items.forEach(function(a, index){\n",
        "    a.setAttribute(\"tabindex\", index)  \n",
        "})\n",
        "\n",
        "// Help\n",
        "Mousetrap.bind('?', function() { alert('Todo write the help of this.') });\n",
        "\n",
        "// Focus some random thing.\n",
        "Mousetrap.bind('r', function() {\n",
        "  var item = items[Math.floor(Math.random()*items.length)];\n",
        "  item.focus()\n",
        "});\n",
        "\n",
        "</script>"
      ]
    }
  ]
}