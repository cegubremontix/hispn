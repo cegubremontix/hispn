{
  "nbformat": 4,
  "nbformat_minor": 0,
  "metadata": {
    "colab": {
      "name": "Temas de Estudio Index.ipynb",
      "provenance": [],
      "collapsed_sections": [],
      "toc_visible": true,
      "include_colab_link": true
    },
    "kernelspec": {
      "name": "python3",
      "display_name": "Python 3"
    }
  },
  "cells": [
    {
      "cell_type": "markdown",
      "metadata": {
        "id": "view-in-github",
        "colab_type": "text"
      },
      "source": [
        "<a href=\"https://colab.research.google.com/github/dbremont/Notas/blob/main/Indice%20de%20Temas%20de%20Estudio.ipynb\" target=\"_parent\"><img src=\"https://colab.research.google.com/assets/colab-badge.svg\" alt=\"Open In Colab\"/></a>"
      ]
    },
    {
      "cell_type": "markdown",
      "metadata": {
        "id": "ne3V_Qt84t-l"
      },
      "source": [
        "\n",
        "# Temas de Estudio\n"
      ]
    },
    {
      "cell_type": "markdown",
      "metadata": {
        "id": "VmRGtoa9qs3L"
      },
      "source": [
        "[How To Make (almost) Anything](https://colab.research.google.com/github/dbremont/Notas/blob/main/Temas%20de%20Estudio/How_To_Make_(almost)_Anything.ipynb)\n",
        "\n",
        "[Espalier | Software Design Group](https://sdg.csail.mit.edu/projects/espalier)\n",
        "\n",
        "[MIT Database Group](http://db.csail.mit.edu/)\n",
        "\n",
        "[MIT CSAIL Parallel and Distributed Operating Systems Group](https://pdos.csail.mit.edu/)"
      ]
    },
    {
      "cell_type": "markdown",
      "metadata": {
        "id": "yN1U2yI7uBVB"
      },
      "source": [
        "# Computational\n",
        "* [Articulos](https://colab.research.google.com/github/dbremont/Notas/blob/main/Ingenerare/CS_Articles.ipynb)\n",
        "\n",
        "* [ArsDigita University Curriculum](http://www.aduni.org/courses/)\n",
        "\n"
      ]
    },
    {
      "cell_type": "markdown",
      "metadata": {
        "id": "_UByV546uj2q"
      },
      "source": [
        "* [Algorithms & Data Structures](https://colab.research.google.com/github/dbremont/Notas/blob/main/Temas%20de%20Estudio/Algorithms.ipynb)\n",
        "\n",
        "* [Software Construction](https://colab.research.google.com/github/dbremont/Notas/blob/main/Ingenerare/6_005_Software_Construction_in_Java.ipynb)\n",
        "\n",
        "* [Computer Systems](https://colab.research.google.com/github/dbremont/Notas/blob/main/Ingenerare/Computer_Systems.ipynb)\n",
        "\n",
        "* [Operating Systems](https://colab.research.google.com/github/dbremont/Notas/blob/main/Ingenerare/Operating_Systems.ipynb)\n",
        "\n",
        "* [Network Systems](https://colab.research.google.com/github/dbremont/Notas/blob/main/Ingenerare/Fundamentals_of_Computer_Networks.ipynb)\n",
        "\n",
        "* [Distributed Systems](https://colab.research.google.com/github/dbremont/Notas/blob/main/Ingenerare/Distributed_Systems.ipynb)\n",
        "\n",
        "* [Compilers](https://colab.research.google.com/github/dbremont/Notas/blob/main/Ingenerare/Compilers.ipynb)\n",
        "\n",
        "* [Databases](https://colab.research.google.com/github/dbremont/Notas/blob/main/Ingenerare/Databases.ipynb)\n",
        "\n",
        "* [Security](https://colab.research.google.com/github/dbremont/Notas/blob/main/Ingenerare/Computer_Security.ipynb)\n",
        "\n",
        "* [Performace Engineering](https://colab.research.google.com/github/dbremont/Notas/blob/main/Temas%20de%20Estudio/Performace_Engineering.ipynb)\n",
        "\n",
        "\n",
        "* [Information Retrieval](https://colab.research.google.com/github/dbremont/Notas/blob/main/Temas%20de%20Estudio/Information_Retrieval.ipynb)"
      ]
    },
    {
      "cell_type": "markdown",
      "metadata": {
        "id": "xWOBLqlU4x06"
      },
      "source": [
        "# Mathematical\n",
        "\n",
        "* [Articulos](https://colab.research.google.com/github/dbremont/Notas/blob/main/Ingenerare/Math_Articles.ipynb)"
      ]
    },
    {
      "cell_type": "markdown",
      "metadata": {
        "id": "eaP-9DHrzIS6"
      },
      "source": [
        "\n",
        "\n",
        "* [Basic Mathematics](https://colab.research.google.com/github/dbremont/Notas/blob/main/Ingenerare/Basic_Mathematics.ipynb)\n",
        "\n",
        "* [Problem Solving](https://colab.research.google.com/github/dbremont/Notas/blob/main/Ingenerare/Problem_Solving.ipynb)\n",
        "\n",
        "* [Single Variable Calculus](https://colab.research.google.com/github/dbremont/Notas/blob/main/Temas%20de%20Estudio/Single_Variable_Calculus.ipynb)\n",
        "\n",
        "* [Multi Variable Calculus](https://colab.research.google.com/github/dbremont/Notas/blob/main/Temas%20de%20Estudio/Multi_Variable_Calculus.ipynb)\n",
        "\n",
        "* [Probability and Statistics](https://colab.research.google.com/github/dbremont/Notas/blob/main/Temas%20de%20Estudio/Probability%20and%20Statistics.ipynb)\n",
        "\n",
        "* [Linear Algebra](https://colab.research.google.com/github/dbremont/Notas/blob/main/Temas%20de%20Estudio/Linear%20Algebra.ipynb)\n",
        "\n",
        "* [Differential Equations](https://colab.research.google.com/github/dbremont/Notas/blob/main/Temas%20de%20Estudio/Differential_Equations.ipynb)"
      ]
    },
    {
      "cell_type": "markdown",
      "metadata": {
        "id": "jikcub9e44p_"
      },
      "source": [
        "# Computational Learning\n",
        "\n",
        "* [Articulos](https://colab.research.google.com/github/dbremont/Notas/blob/main/Ingenerare/Computational_Learning_Articles.ipynb)"
      ]
    },
    {
      "cell_type": "markdown",
      "metadata": {
        "id": "AUFugfuqP4Bl"
      },
      "source": [
        "* [Machine Learning](https://colab.research.google.com/github/dbremont/Notas/blob/main/Temas%20de%20Estudio/Machine%20Learning.ipynb)\n",
        "\n",
        "* [Deep Learning](https://colab.research.google.com/github/dbremont/Notas/blob/main/Temas%20de%20Estudio/Deep%20Learning.ipynb)\n",
        "\n",
        "* [Natural Language Processing](https://colab.research.google.com/github/dbremont/Notas/blob/main/Temas%20de%20Estudio/Natural_Language_Processing.ipynb)\n",
        "\n",
        "* [AI For Trading](https://colab.research.google.com/github/dbremont/Notas/blob/main/Ingenerare/AI_for_Trading.ipynb)\n",
        "\n",
        "* [Full Stack Deep Learning](https://fullstackdeeplearning.com/)\n",
        "\n",
        "* [Machine Learning Systems](https://pooyanjamshidi.github.io/mls/)"
      ]
    },
    {
      "cell_type": "markdown",
      "metadata": {
        "id": "uTmmR9Kp5H0T"
      },
      "source": [
        "# Ciencia\n",
        "\n",
        "* [Articulos](https://colab.research.google.com/github/dbremont/Notas/blob/main/Ingenerare/Cience_Articles.ipynb)"
      ]
    },
    {
      "cell_type": "markdown",
      "metadata": {
        "id": "1KxfaGOFaXtz"
      },
      "source": [
        "* [General](https://colab.research.google.com/github/dbremont/Notas/blob/main/Ingenerare/Ciencia_General.ipynb)\n",
        "\n",
        "* [Biology](https://colab.research.google.com/github/dbremont/Notas/blob/main/Temas%20de%20Estudio/Biology.ipynb)\n",
        "\n",
        "* [Physics](https://colab.research.google.com/github/dbremont/Notas/blob/main/Temas%20de%20Estudio/Physics.ipynb)\n",
        "\n",
        "* [Neurociencia](https://colab.research.google.com/github/dbremont/Notas/blob/main/Temas%20de%20Estudio/Neurociencia.ipynb)\n",
        "\n",
        "* [Quimica](https://colab.research.google.com/github/dbremont/Notas/blob/main/Temas%20de%20Estudio/Quimica.ipynb)"
      ]
    },
    {
      "cell_type": "markdown",
      "metadata": {
        "id": "WH_ENf_dam7i"
      },
      "source": [
        "# General\n",
        "\n",
        "* [Articulos](https://colab.research.google.com/github/dbremont/Notas/blob/main/Ingenerare/Articulos_Generales.ipynb)"
      ]
    },
    {
      "cell_type": "markdown",
      "metadata": {
        "id": "4-YAMPV0aog_"
      },
      "source": [
        "* [Think like a Stoic: Ancient Wisdom for Today's World](https://www.thegreatcourses.com/player/Video/5030?autoplay=false)\n",
        "\n",
        "* [Outsmart Yourself: Brain-Based Strategies to a Better You](https://www.thegreatcourses.com/player/Video/1670)\n",
        "\n",
        "* [The Science of Everyday Thinking](https://www.edx.org/es/course/the-science-of-everyday-thinking)\n",
        "\n",
        "* [Historia](https://colab.research.google.com/github/dbremont/Notas/blob/main/Temas%20de%20Estudio/Historia.ipynb)\n",
        "\n",
        "* [Economía](https://colab.research.google.com/github/dbremont/Notas/blob/main/Temas%20de%20Estudio/Econom%C3%ADa.ipynb)"
      ]
    },
    {
      "cell_type": "markdown",
      "metadata": {
        "id": "1j8dDuCn9jFz"
      },
      "source": [
        "- *Script for Some Interactivity if it gets converter to html*\n",
        "\n",
        "<script src=\"https://cdnjs.cloudflare.com/ajax/libs/mousetrap/1.6.5/mousetrap.min.js\" integrity=\"sha512-+Jg3Ynmj9hse704K48H6rBBI3jdNBjReRGBCxUWFfOz3yVurnJFWtAWssDAsGtzWYw89xFWPxShuj2T6E9EOpg==\" crossorigin=\"anonymous\"></script>\n",
        "\n",
        "<script>\n",
        "\n",
        "var items = Array.from(document.querySelectorAll(\"li\"))\n",
        "\n",
        "items.forEach(function(a, index){\n",
        "    a.setAttribute(\"tabindex\", index)  \n",
        "})\n",
        "\n",
        "// Help\n",
        "Mousetrap.bind('?', function() { alert('Todo write the help of this.') });\n",
        "\n",
        "// Focus some random thing.\n",
        "Mousetrap.bind('r', function() {\n",
        "  var item = items[Math.floor(Math.random()*items.length)];\n",
        "  item.focus()\n",
        "});\n",
        "\n",
        "</script>"
      ]
    }
  ]
}