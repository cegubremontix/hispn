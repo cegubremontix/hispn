{
  "nbformat": 4,
  "nbformat_minor": 0,
  "metadata": {
    "colab": {
      "name": "Temas de Estudio Index.ipynb",
      "provenance": [],
      "collapsed_sections": [],
      "toc_visible": true,
      "include_colab_link": true
    },
    "kernelspec": {
      "name": "python3",
      "display_name": "Python 3"
    }
  },
  "cells": [
    {
      "cell_type": "markdown",
      "metadata": {
        "id": "view-in-github",
        "colab_type": "text"
      },
      "source": [
        "<a href=\"https://colab.research.google.com/github/dbremont/Notas/blob/main/Indice%20de%20Temas%20de%20Estudio.ipynb\" target=\"_parent\"><img src=\"https://colab.research.google.com/assets/colab-badge.svg\" alt=\"Open In Colab\"/></a>"
      ]
    },
    {
      "cell_type": "markdown",
      "metadata": {
        "id": "dbZmSFZqKLBO"
      },
      "source": [
        "**Para ser práctico**:\n",
        "\n",
        "1. Encontrar/Elegir un proyecto.\n",
        "2. Verificar a cual tópico el proyecto pertenece.\n",
        "3. **PMV** Aprender lo suficiente para hacer el (Producto mínimo viable).\n",
        "\n",
        "- Remember Only one topic at a time.\n",
        "- Select something and stick with it. \n",
        "  - I am bad at this, and without this i can not make progess.\n",
        "\n",
        "- [reddit api](https://api.pushshift.io/reddit/search/submission/?subreddit=java&sort=desc&sort_type=created_utc&after=1523588521&before=1523934121&size=1000)\n",
        "\n",
        "- [r/computerscience](https://www.reddit.com/r/computerscience/) - [r/java](https://www.reddit.com/r/java/) | [r/ProgrammingLanguages](https://www.reddit.com/r/ProgrammingLanguages/) | [r/java](https://www.reddit.com/r/java/)\n",
        "\n",
        "- [r/bash](https://www.reddit.com/r/bash/) | [r/linux](https://www.reddit.com/r/linux/)\n",
        "\n",
        "- [r/science](https://www.reddit.com/r/science/) |  [r/physics](https://www.reddit.com/r/physics/) | [r/biology](https://www.reddit.com/r/biology/) | [r/chemistry](https://www.reddit.com/r/chemistry/)\n",
        "\n",
        "- [r/learnmachinelearning](https://www.reddit.com/r/learnmachinelearning/)  |  [r/MachineLearning](https://www.reddit.com/r/MachineLearning/) | [r/datascience](https://www.reddit.com/r/datascience/) | [r/dataisbeautiful](https://www.reddit.com/r/dataisbeautiful/)\n",
        "\n",
        "- [r/statistics](https://www.reddit.com/r/statistics/)\n",
        "\n",
        "- [r/math](https://www.reddit.com/r/math/) |  [r/learnmath](https://www.reddit.com/r/learnmath/)\n"
      ]
    },
    {
      "cell_type": "markdown",
      "metadata": {
        "id": "ne3V_Qt84t-l"
      },
      "source": [
        "\n",
        "# Temas de Estudio\n"
      ]
    },
    {
      "cell_type": "markdown",
      "metadata": {
        "id": "VmRGtoa9qs3L"
      },
      "source": [
        "*  [The Missing Semester of Your CS Education](https://missing.csail.mit.edu/2020/)\n",
        "\n",
        "* [How To Make (almost) Anything](https://colab.research.google.com/github/dbremont/Notas/blob/main/Temas%20de%20Estudio/How_To_Make_(almost)_Anything.ipynb#scrollTo=1244IurCM5oX)\n",
        "\n",
        "* [How to Make Something that Makes (almost) Anything](https://colab.research.google.com/github/dbremont/Notas/blob/main/Temas%20de%20Estudio/How_to_Make_Something_that_Makes_(almost)_Anything.ipynb#scrollTo=wKJPj2GBMlDi)\n",
        "\n",
        "* [Do-It-Yourself Engineering](https://www.thegreatcourses.com/player/Video/1144)"
      ]
    },
    {
      "cell_type": "markdown",
      "metadata": {
        "id": "yN1U2yI7uBVB"
      },
      "source": [
        "# Computational"
      ]
    },
    {
      "cell_type": "markdown",
      "metadata": {
        "id": "m519sFr2O5C2"
      },
      "source": [
        "* [Computer Science Fundamentals](https://brilliant.org/courses/computer-science-essentials/)\n",
        "\n",
        "* [Data Structures](https://brilliant.org/courses/computer-science-fundamentals/)\n",
        "\n",
        "* [Algorithms](https://colab.research.google.com/github/dbremont/Notas/blob/main/Temas%20de%20Estudio/Algorithms.ipynb)\n",
        "\n",
        "- The hardest problem in computer science is people; the second hardest problem is designing systems that are able to evolve & adapt to new goals & constraints over a span of many years or even decades\n"
      ]
    },
    {
      "cell_type": "markdown",
      "metadata": {
        "id": "u8YBRjx4ufyb"
      },
      "source": [
        "* [6.005 Software Construction in Java](https://colab.research.google.com/github/dbremont/Notas/blob/main/Ingenerare/6_005_Software_Construction_in_Java.ipynb)\n",
        "\n",
        "* [Structure and Interpretation of Computer Programs](https://colab.research.google.com/github/dbremont/Notas/blob/main/Ingenerare/Structure_and_Interpretation_of_Computer_Programs.ipynb)\n",
        "\n",
        "* [Front End Frameworks](https://classroom.udacity.com/courses/ud894)\n",
        "\n",
        "* [JavaScript Design Patterns](https://classroom.udacity.com/courses/ud989)\n",
        "\n",
        "\n",
        "* [Angular - The Complete Guide](https://www.udemy.com/course/the-complete-guide-to-angular-2/learn/lecture/13914134)"
      ]
    },
    {
      "cell_type": "markdown",
      "metadata": {
        "id": "ARbT6bt2WShs"
      },
      "source": [
        "* [Designing RESTful APIs](https://classroom.udacity.com/courses/ud388)"
      ]
    },
    {
      "cell_type": "markdown",
      "metadata": {
        "id": "AwdGD72IPYdm"
      },
      "source": [
        "* [Introduction to Jenkins](https://www.edx.org/es/course/introduction-to-jenkins)\n",
        "\n",
        "* [Website Performance Optimization](https://classroom.udacity.com/courses/ud884)\n",
        "\n",
        "* [Web Tooling & Automation](https://classroom.udacity.com/courses/ud892)\n",
        "\n",
        "* [Authentication & Authorization: OAuth](https://classroom.udacity.com/courses/ud330)\n"
      ]
    },
    {
      "cell_type": "markdown",
      "metadata": {
        "id": "dQJPZK57ugzj"
      },
      "source": [
        "* [6.004 Computation Structures](https://colab.research.google.com/github/dbremont/Notas/blob/main/Ingenerare/6_004_Computation_Structures.ipynb)"
      ]
    },
    {
      "cell_type": "markdown",
      "metadata": {
        "id": "_UByV546uj2q"
      },
      "source": [
        "* [Computer Systems / Programming](https://colab.research.google.com/github/dbremont/Notas/blob/main/Ingenerare/Computer_Systems.ipynb)\n",
        "\n",
        "* [Distributed Systems](https://colab.research.google.com/github/dbremont/Notas/blob/main/Ingenerare/Distributed_Systems.ipynb)\n",
        "\n",
        "* [Fundamentals of Computer Networks](https://colab.research.google.com/github/dbremont/Notas/blob/main/Ingenerare/Fundamentals_of_Computer_Networks.ipynb)\n",
        "\n",
        "* [Compilers](https://colab.research.google.com/github/dbremont/Notas/blob/main/Ingenerare/Compilers.ipynb)\n",
        "\n",
        "* [Virtual Machines](https://colab.research.google.com/github/dbremont/Notas/blob/main/Ingenerare/Virtual_Machines.ipynb)\n",
        "\n",
        "* [Databases](https://colab.research.google.com/github/dbremont/Notas/blob/main/Ingenerare/Databases.ipynb)"
      ]
    },
    {
      "cell_type": "markdown",
      "metadata": {
        "id": "34K-VZ6Uul2w"
      },
      "source": [
        "* [Operating Systems](https://colab.research.google.com/github/dbremont/Notas/blob/main/Ingenerare/Operating_Systems.ipynb)"
      ]
    },
    {
      "cell_type": "markdown",
      "metadata": {
        "id": "W5svyy_xuncV"
      },
      "source": [
        "* [Full Stack Deep Learning](https://fullstackdeeplearning.com/)\n",
        "\n",
        "* [Machine Learning Systems](https://pooyanjamshidi.github.io/mls/)\n",
        "\n",
        "* [Real-Time Analytics with Apache Storm](https://classroom.udacity.com/courses/ud381)"
      ]
    },
    {
      "cell_type": "markdown",
      "metadata": {
        "id": "BvX7DXIqurAM"
      },
      "source": [
        "* [High Performance Computing](https://colab.research.google.com/github/dbremont/Notas/blob/main/Ingenerare/High_Performance_Computing.ipynb)\n",
        "\n",
        "* [Security](https://colab.research.google.com/github/dbremont/Notas/blob/main/Ingenerare/Computer_Security.ipynb)\n"
      ]
    },
    {
      "cell_type": "markdown",
      "metadata": {
        "id": "xWOBLqlU4x06"
      },
      "source": [
        "# Mathematical"
      ]
    },
    {
      "cell_type": "markdown",
      "metadata": {
        "id": "eaP-9DHrzIS6"
      },
      "source": [
        "\n",
        "* [Basic Mathematics](https://colab.research.google.com/github/dbremont/Notas/blob/main/Ingenerare/Basic_Mathematics.ipynb)\n",
        "\n",
        "* [Problem Solving](https://colab.research.google.com/github/dbremont/Notas/blob/main/Ingenerare/Problem_Solving.ipynb)\n",
        "\n",
        "* [Single Variable Calculus](https://colab.research.google.com/github/dbremont/Notas/blob/main/Temas%20de%20Estudio/Single_Variable_Calculus.ipynb)\n",
        "\n",
        "* [Multi Variable Calculus](https://colab.research.google.com/github/dbremont/Notas/blob/main/Temas%20de%20Estudio/Multi_Variable_Calculus.ipynb)\n",
        "\n",
        "* [Probability and Statistics](https://colab.research.google.com/github/dbremont/Notas/blob/main/Temas%20de%20Estudio/Probability%20and%20Statistics.ipynb)\n",
        "\n",
        "* [Linear Algebra](https://colab.research.google.com/github/dbremont/Notas/blob/main/Temas%20de%20Estudio/Linear%20Algebra.ipynb)\n",
        "\n",
        "* [Differential Equations](https://colab.research.google.com/github/dbremont/Notas/blob/main/Temas%20de%20Estudio/Differential_Equations.ipynb)"
      ]
    },
    {
      "cell_type": "markdown",
      "metadata": {
        "id": "jikcub9e44p_"
      },
      "source": [
        "\n",
        "# Computational Learning"
      ]
    },
    {
      "cell_type": "markdown",
      "metadata": {
        "id": "AUFugfuqP4Bl"
      },
      "source": [
        "* [Machine Learning](https://colab.research.google.com/github/dbremont/Notas/blob/main/Temas%20de%20Estudio/Machine%20Learning.ipynb)\n",
        "\n",
        "* [Deep Learning](https://colab.research.google.com/github/dbremont/Notas/blob/main/Temas%20de%20Estudio/Deep%20Learning.ipynb)\n",
        "\n",
        "* [Natural Language Processing](https://colab.research.google.com/github/dbremont/Notas/blob/main/Temas%20de%20Estudio/Natural_Language_Processing.ipynb)\n",
        "\n",
        "* [AI For Trading](https://colab.research.google.com/github/dbremont/Notas/blob/main/Ingenerare/AI_for_Trading.ipynb)"
      ]
    },
    {
      "cell_type": "markdown",
      "metadata": {
        "id": "uTmmR9Kp5H0T"
      },
      "source": [
        "# Ciencia"
      ]
    },
    {
      "cell_type": "markdown",
      "metadata": {
        "id": "1KxfaGOFaXtz"
      },
      "source": [
        "* [Science Essentials](https://brilliant.org/courses/science-essentials/)\n",
        "\n",
        "* [Scientific Thinking](https://brilliant.org/courses/puzzle-science/)\n",
        "\n",
        "* [Physics](https://colab.research.google.com/github/dbremont/Notas/blob/main/Temas%20de%20Estudio/Physics.ipynb)\n",
        "\n",
        "* [Neuroscience](https://colab.research.google.com/github/dbremont/Notas/blob/main/Temas%20de%20Estudio/Neuroscience.ipynb)"
      ]
    },
    {
      "cell_type": "markdown",
      "metadata": {
        "id": "WH_ENf_dam7i"
      },
      "source": [
        "\n",
        "# General"
      ]
    },
    {
      "cell_type": "markdown",
      "metadata": {
        "id": "4-YAMPV0aog_"
      },
      "source": [
        "* [Outsmart Yourself: Brain-Based Strategies to a Better You](https://www.thegreatcourses.com/player/Video/1670)\n",
        "\n",
        "* [The Science of Everyday Thinking](https://www.edx.org/es/course/the-science-of-everyday-thinking)\n",
        "\n",
        "* [Historia](https://colab.research.google.com/github/dbremont/Notas/blob/main/Temas%20de%20Estudio/Historia.ipynb)\n",
        "\n",
        "* [Economía](https://colab.research.google.com/github/dbremont/Notas/blob/main/Temas%20de%20Estudio/Econom%C3%ADa.ipynb)"
      ]
    },
    {
      "cell_type": "markdown",
      "metadata": {
        "id": "1j8dDuCn9jFz"
      },
      "source": [
        "- *Script for Some Interactivity if it gets converter to html*\n",
        "\n",
        "<script src=\"https://cdnjs.cloudflare.com/ajax/libs/mousetrap/1.6.5/mousetrap.min.js\" integrity=\"sha512-+Jg3Ynmj9hse704K48H6rBBI3jdNBjReRGBCxUWFfOz3yVurnJFWtAWssDAsGtzWYw89xFWPxShuj2T6E9EOpg==\" crossorigin=\"anonymous\"></script>\n",
        "\n",
        "<script>\n",
        "\n",
        "var items = Array.from(document.querySelectorAll(\"li\"))\n",
        "\n",
        "items.forEach(function(a, index){\n",
        "    a.setAttribute(\"tabindex\", index)  \n",
        "})\n",
        "\n",
        "// Help\n",
        "Mousetrap.bind('?', function() { alert('Todo write the help of this.') });\n",
        "\n",
        "// Focus some random thing.\n",
        "Mousetrap.bind('r', function() {\n",
        "  var item = items[Math.floor(Math.random()*items.length)];\n",
        "  item.focus()\n",
        "});\n",
        "\n",
        "</script>"
      ]
    }
  ]
}