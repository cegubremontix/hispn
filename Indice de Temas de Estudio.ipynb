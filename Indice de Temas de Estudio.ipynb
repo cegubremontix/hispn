{
  "nbformat": 4,
  "nbformat_minor": 0,
  "metadata": {
    "colab": {
      "name": "Temas de Estudio Index.ipynb",
      "provenance": [],
      "collapsed_sections": [],
      "toc_visible": true,
      "authorship_tag": "ABX9TyN9yr+5CdZwi0qa14OTS8/x",
      "include_colab_link": true
    },
    "kernelspec": {
      "name": "python3",
      "display_name": "Python 3"
    }
  },
  "cells": [
    {
      "cell_type": "markdown",
      "metadata": {
        "id": "view-in-github",
        "colab_type": "text"
      },
      "source": [
        "<a href=\"https://colab.research.google.com/github/dbremont/Notas/blob/main/Indice%20de%20Temas%20de%20Estudio.ipynb\" target=\"_parent\"><img src=\"https://colab.research.google.com/assets/colab-badge.svg\" alt=\"Open In Colab\"/></a>"
      ]
    },
    {
      "cell_type": "markdown",
      "metadata": {
        "id": "qtNSJPLFebOt"
      },
      "source": [
        "* Find a proyect in this Topics.\n",
        "* Learn to Make the proyect.\n",
        "\n",
        "\n",
        "* [So You Want To Learn Physics...](https://www.susanjfowler.com/blog/2016/8/13/so-you-want-to-learn-physics)\n",
        "\n",
        "* [education - How do you start learning physics by yourself? - Physics Stack Exchange](https://physics.stackexchange.com/questions/33222/how-do-you-start-learning-physics-by-yourself)\n",
        "\n",
        "* [Ask HN: How to self-study physics? | Hacker News](https://news.ycombinator.com/item?id=22682837)\n",
        "\n",
        "* [How to become a GOOD Theoretical Physicist](https://webspace.science.uu.nl/~gadda001/goodtheorist/advmath.html)"
      ]
    },
    {
      "cell_type": "markdown",
      "metadata": {
        "id": "ne3V_Qt84t-l"
      },
      "source": [
        "\n",
        "# Temas de Estudio\n"
      ]
    },
    {
      "cell_type": "markdown",
      "metadata": {
        "id": "VmRGtoa9qs3L"
      },
      "source": [
        "* [Information Theory](https://colab.research.google.com/drive/1dB5kkwjCVO96-xHJP-w4qwFWVd-LBAhM)\n",
        "\n",
        "* [Signal Processing](https://colab.research.google.com/drive/1rWIgmzblcaUwrrj_y8v0a8yg9zg9yNk9)\n",
        "\n",
        "* [Un paseo aleatorio por las matemáticas y ciencias computacionales](https://colab.research.google.com/drive/1aDJXViDYDYVWpemDlWc766A4LT36v2JG)\n"
      ]
    },
    {
      "cell_type": "markdown",
      "metadata": {
        "id": "WixViPJw49HK"
      },
      "source": [
        "# Computacion"
      ]
    },
    {
      "cell_type": "markdown",
      "metadata": {
        "id": "F4cCDbmdLDau"
      },
      "source": [
        "* [Software Construction](https://colab.research.google.com/drive/159aWUoMsc4rLnCieiWNcI7chB9R4aEmc)\n",
        "\n",
        "* [Algorithms & Data Structures](https://colab.research.google.com/drive/1zDekp_0EWeCj5GiwsGZfMrSNwhIsO4I_)\n",
        "\n",
        "* [Computer Architecture](https://colab.research.google.com/drive/1061zC3h6Y8WD-NdECMEqwtlurs-KVCS0)\n",
        "\n",
        "* [Systems](https://colab.research.google.com/drive/1gtVDXJmJfLZwXSipQPre5TwQ0WzNO3hM)"
      ]
    },
    {
      "cell_type": "markdown",
      "metadata": {
        "id": "xWOBLqlU4x06"
      },
      "source": [
        "\n",
        "# Mathematics"
      ]
    },
    {
      "cell_type": "markdown",
      "metadata": {
        "id": "eaP-9DHrzIS6"
      },
      "source": [
        "* [Continous Mathematics](https://colab.research.google.com/drive/1FsBlNpRK7oSg-FWSAYc950H4lky8sYc4)\n",
        "\n",
        "* [Probability and Statistics](https://colab.research.google.com/drive/1yUWNY5qyeUBHw35nnkFfkS-BqXPTqct-)\n",
        "\n",
        "* [Linear Algebra](https://colab.research.google.com/drive/1DxUrhfZ6Jm33IQkuwOV47o1j_tkym2m_)"
      ]
    },
    {
      "cell_type": "markdown",
      "metadata": {
        "id": "jikcub9e44p_"
      },
      "source": [
        "\n",
        "# Aprendisaje Automatico"
      ]
    },
    {
      "cell_type": "markdown",
      "metadata": {
        "id": "AUFugfuqP4Bl"
      },
      "source": [
        "* [Machine Learning](https://colab.research.google.com/drive/1blyJSyCR4LKDM3Wu6YcwwWerDKQxUJv8)\n",
        "\n",
        "* [Deep Learning](https://colab.research.google.com/drive/17ie1mrIH9GvkDrLqTwJkiKXtsifZRA3P)\n",
        "\n",
        "* [Computational Linguistics](https://colab.research.google.com/drive/1IlmDEXDgS4qSeOue-2R6G59SLOTnNxfP)"
      ]
    },
    {
      "cell_type": "markdown",
      "metadata": {
        "id": "uTmmR9Kp5H0T"
      },
      "source": [
        "# Ciencia y Aplicaciones"
      ]
    },
    {
      "cell_type": "markdown",
      "metadata": {
        "id": "1KxfaGOFaXtz"
      },
      "source": [
        "* [Science Essentials](https://colab.research.google.com/drive/1LEKAIOchy170FapPfs1vPLkSe1ESl0rT)\n",
        "\n",
        "* [Physics](https://colab.research.google.com/drive/1pbzFPaghbGv9up9REnyHLpWvLqqEFW8f)\n",
        "\n",
        "* [Chemistry](https://colab.research.google.com/drive/1acJTTdAjDpHd14ZtRfcxNxLDefmP0E7Y)\n",
        "\n",
        "* [Biology](https://colab.research.google.com/drive/1ircKR1Y2esBCVUKwHT6FR-RXGf6SovRU)\n",
        "\n",
        "* [Brain and Cognitive Sciences](https://colab.research.google.com/drive/16CFm01S5m7FWMTLIYx4HyFmGz8iPpkSU)\n",
        "\n",
        "- [Aplicaciones](https://colab.research.google.com/drive/1hwnX5JQB_0JHduBYU5iJRGVrLOLSAQKO)"
      ]
    },
    {
      "cell_type": "markdown",
      "metadata": {
        "id": "WH_ENf_dam7i"
      },
      "source": [
        "# General"
      ]
    },
    {
      "cell_type": "markdown",
      "metadata": {
        "id": "4-YAMPV0aog_"
      },
      "source": [
        "* [Soft Skills](https://colab.research.google.com/drive/1AwcfkAIAOB42MFWK4o5kzEGFasmcGGud)\n",
        "\n",
        "* [Historia](https://colab.research.google.com/drive/1_4NfTMiYmQ4wK5jh87ZtwRK-13WiDGXh)\n",
        "\n",
        "* [Ciencia política](https://colab.research.google.com/drive/1xs2h3se-GaUX2-Ilto3x3bRIliBsztvV)\n",
        "\n",
        "* [Economía](https://colab.research.google.com/drive/1jlH2p1VHzWhb90MiOElF41E0H-EuVCoW)"
      ]
    },
    {
      "cell_type": "markdown",
      "metadata": {
        "id": "1j8dDuCn9jFz"
      },
      "source": [
        "Script for Some Interactivity if it gets converter to html\n",
        "\n",
        "<script src=\"https://cdnjs.cloudflare.com/ajax/libs/mousetrap/1.6.5/mousetrap.min.js\" integrity=\"sha512-+Jg3Ynmj9hse704K48H6rBBI3jdNBjReRGBCxUWFfOz3yVurnJFWtAWssDAsGtzWYw89xFWPxShuj2T6E9EOpg==\" crossorigin=\"anonymous\"></script>\n",
        "\n",
        "<script>\n",
        "\n",
        "var items = Array.from(document.querySelectorAll(\"li\"))\n",
        "\n",
        "items.forEach(function(a, index){\n",
        "    a.setAttribute(\"tabindex\", index)  \n",
        "})\n",
        "\n",
        "// Help\n",
        "Mousetrap.bind('?', function() { alert('Todo write the help of this.') });\n",
        "\n",
        "// Focus some random thing.\n",
        "Mousetrap.bind('r', function() {\n",
        "  var item = items[Math.floor(Math.random()*items.length)];\n",
        "  item.focus()\n",
        "});\n",
        "\n",
        "</script>"
      ]
    }
  ]
}