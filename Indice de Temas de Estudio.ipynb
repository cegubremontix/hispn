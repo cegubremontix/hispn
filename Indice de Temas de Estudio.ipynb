{
  "nbformat": 4,
  "nbformat_minor": 0,
  "metadata": {
    "colab": {
      "name": "Temas de Estudio Index.ipynb",
      "provenance": [],
      "collapsed_sections": [],
      "toc_visible": true,
      "include_colab_link": true
    },
    "kernelspec": {
      "name": "python3",
      "display_name": "Python 3"
    }
  },
  "cells": [
    {
      "cell_type": "markdown",
      "metadata": {
        "id": "view-in-github",
        "colab_type": "text"
      },
      "source": [
        "<a href=\"https://colab.research.google.com/github/dbremont/Notas/blob/main/Indice%20de%20Temas%20de%20Estudio.ipynb\" target=\"_parent\"><img src=\"https://colab.research.google.com/assets/colab-badge.svg\" alt=\"Open In Colab\"/></a>"
      ]
    },
    {
      "cell_type": "markdown",
      "metadata": {
        "id": "dbZmSFZqKLBO"
      },
      "source": [
        "**Para ser práctico**:\n",
        "\n",
        "1. Encontrar/Elegir un proyecto.\n",
        "2. Verificar a cual tópico el proyecto pertenece.\n",
        "3. **PMV** Aprender lo suficiente para hacer el (Producto mínimo viable).\n"
      ]
    },
    {
      "cell_type": "markdown",
      "metadata": {
        "id": "ne3V_Qt84t-l"
      },
      "source": [
        "\n",
        "# Temas de Estudio\n"
      ]
    },
    {
      "cell_type": "markdown",
      "metadata": {
        "id": "VmRGtoa9qs3L"
      },
      "source": [
        "*  [The Missing Semester of Your CS Education](https://missing.csail.mit.edu/2020/)\n",
        "\n",
        "* [Introduction to Jenkins](https://www.edx.org/es/course/introduction-to-jenkins)\n",
        "\n",
        "* [Bitcoin and Cryptocurrency Technologies](https://www.coursera.org/learn/cryptocurrency)\n",
        "\n",
        "* [Cyber-Physical Systems Design & Analysis](https://classroom.udacity.com/courses/ud9876)\n",
        "\n",
        "* [Front End Frameworks](https://classroom.udacity.com/courses/ud894)\n",
        "\n",
        "* [JavaScript Design Patterns](https://classroom.udacity.com/courses/ud989)\n",
        "\n",
        "* [Designing RESTful APIs](https://classroom.udacity.com/courses/ud388)\n",
        "\n",
        "* [Writing READMEs](https://classroom.udacity.com/courses/ud777)\n",
        "\n",
        "* [Intro to Progressive Web Apps](https://classroom.udacity.com/courses/ud811)\n",
        "\n",
        "* [Browser Rendering Optimization](https://classroom.udacity.com/courses/ud860)\n",
        "\n",
        "* [Website Performance Optimization](https://classroom.udacity.com/courses/ud884)\n",
        "\n",
        "* [Web Tooling & Automation](https://classroom.udacity.com/courses/ud892)\n",
        "\n",
        "* [Authentication & Authorization: OAuth](https://classroom.udacity.com/courses/ud330)\n",
        "\n",
        "\n",
        "* [Signal Processing](https://colab.research.google.com/github/dbremont/Notas/blob/main/Temas%20de%20Estudio/Signal%20Processing.ipynb)\n",
        "\n",
        "* [Structure and Interpretation of Computer Programs](https://colab.research.google.com/github/dbremont/Notas/blob/main/Ingenerare/Structure_and_Interpretation_of_Computer_Programs.ipynb)\n",
        "\n",
        "* [How To Make (almost) Anything](https://colab.research.google.com/github/dbremont/Notas/blob/main/Temas%20de%20Estudio/How_To_Make_(almost)_Anything.ipynb#scrollTo=1244IurCM5oX)\n",
        "\n",
        "* [How to Make Something that Makes (almost) Anything](https://colab.research.google.com/github/dbremont/Notas/blob/main/Temas%20de%20Estudio/How_to_Make_Something_that_Makes_(almost)_Anything.ipynb#scrollTo=wKJPj2GBMlDi)"
      ]
    },
    {
      "cell_type": "markdown",
      "metadata": {
        "id": "yN1U2yI7uBVB"
      },
      "source": [
        "## Computational Systems"
      ]
    },
    {
      "cell_type": "markdown",
      "metadata": {
        "id": "aQIFYELOuEcj"
      },
      "source": [
        "* [Systems](https://colab.research.google.com/github/dbremont/Notas/blob/main/Temas%20de%20Estudio/Systems.ipynb)"
      ]
    },
    {
      "cell_type": "markdown",
      "metadata": {
        "id": "u8YBRjx4ufyb"
      },
      "source": [
        "* [6.005 Software Construction in Java](https://colab.research.google.com/github/dbremont/Notas/blob/main/Ingenerare/6_005_Software_Construction_in_Java.ipynb)\n",
        "\n",
        "* [Structure and Interpretation of Computer Programs](https://ocw.mit.edu/courses/electrical-engineering-and-computer-science/6-001-structure-and-interpretation-of-computer-programs-spring-2005/)\n",
        "\n",
        "* [Programming Reactive Systems](https://www.coursera.org/learn/scala-akka-reactive/home/welcome)\n",
        "\n",
        "* [Parallel programming](https://www.coursera.org/learn/parprog1)"
      ]
    },
    {
      "cell_type": "markdown",
      "metadata": {
        "id": "dQJPZK57ugzj"
      },
      "source": [
        "* [6.004 Computation Structures](https://colab.research.google.com/github/dbremont/Notas/blob/main/Ingenerare/6_004_Computation_Structures.ipynb)\n",
        "\n",
        "* [Computer Architecture](https://colab.research.google.com/github/dbremont/Notas/blob/main/Ingenerare/Computer_Architecture.ipynb)"
      ]
    },
    {
      "cell_type": "markdown",
      "metadata": {
        "id": "_UByV546uj2q"
      },
      "source": [
        "* [Computer Systems / Programming](https://colab.research.google.com/github/dbremont/Notas/blob/main/Ingenerare/Computer_Systems.ipynb)\n",
        "\n",
        "* [Distributed Systems](https://colab.research.google.com/github/dbremont/Notas/blob/main/Ingenerare/Distributed_Systems.ipynb)\n",
        "\n",
        "* [Fundamentals of Computer Networks](https://colab.research.google.com/github/dbremont/Notas/blob/main/Ingenerare/Fundamentals_of_Computer_Networks.ipynb)\n",
        "\n",
        "* [Compilers](https://colab.research.google.com/github/dbremont/Notas/blob/main/Ingenerare/Compilers.ipynb)\n",
        "\n",
        "* [Virtual Machines](https://colab.research.google.com/github/dbremont/Notas/blob/main/Ingenerare/Virtual_Machines.ipynb)\n",
        "\n",
        "* [Databases](https://colab.research.google.com/github/dbremont/Notas/blob/main/Ingenerare/Databases.ipynb)"
      ]
    },
    {
      "cell_type": "markdown",
      "metadata": {
        "id": "34K-VZ6Uul2w"
      },
      "source": [
        "- [Operating Systems](https://colab.research.google.com/github/dbremont/Notas/blob/main/Ingenerare/Operating_Systems.ipynb)\n",
        "\n",
        "* [Introduction to Operating Systems](https://classroom.udacity.com/courses/ud923)\n",
        "\n",
        "* [Advanced Operating Systems](https://classroom.udacity.com/courses/ud189)"
      ]
    },
    {
      "cell_type": "markdown",
      "metadata": {
        "id": "W5svyy_xuncV"
      },
      "source": [
        "* [Full Stack Deep Learning](https://fullstackdeeplearning.com/)\n",
        "\n",
        "* [Machine Learning Systems](https://pooyanjamshidi.github.io/mls/)\n",
        "\n",
        "* [Real-Time Analytics with Apache Storm](https://classroom.udacity.com/courses/ud381)"
      ]
    },
    {
      "cell_type": "markdown",
      "metadata": {
        "id": "BvX7DXIqurAM"
      },
      "source": [
        "* [High Performance Computing](https://colab.research.google.com/github/dbremont/Notas/blob/main/Ingenerare/High_Performance_Computing.ipynb)\n",
        "\n",
        "* [Program Syntesis](https://colab.research.google.com/github/dbremont/Notas/blob/main/Ingenerare/Program_Syntesis.ipynb)\n",
        "\n",
        "* [Security](https://colab.research.google.com/github/dbremont/Notas/blob/main/Ingenerare/Computer_Security.ipynb)\n"
      ]
    },
    {
      "cell_type": "markdown",
      "metadata": {
        "id": "WixViPJw49HK"
      },
      "source": [
        "# Computational"
      ]
    },
    {
      "cell_type": "markdown",
      "metadata": {
        "id": "F4cCDbmdLDau"
      },
      "source": [
        "* [Un paseo aleatorio por las matemáticas y ciencias computacionales](https://colab.research.google.com/github/dbremont/Notas/blob/main/Temas%20de%20Estudio/Un%20paseo%20aleatorio%20por%20las%20matem%C3%A1ticas%20y%20ciencias%20computacionales.ipynb)\n",
        "\n",
        "\n",
        "\n",
        "* [Model Thinking](https://colab.research.google.com/github/dbremont/Notas/blob/main/Libros/Matematicas/The%20Model%20Thinker.ipynb)"
      ]
    },
    {
      "cell_type": "markdown",
      "metadata": {
        "id": "xWOBLqlU4x06"
      },
      "source": [
        "# Mathematical"
      ]
    },
    {
      "cell_type": "markdown",
      "metadata": {
        "id": "eaP-9DHrzIS6"
      },
      "source": [
        "* [Continous Mathematics](https://colab.research.google.com/github/dbremont/Notas/blob/main/Temas%20de%20Estudio/Continous%20Mathematics.ipynb)\n",
        "\n",
        "* [Probability and Statistics](https://colab.research.google.com/github/dbremont/Notas/blob/main/Temas%20de%20Estudio/Probability%20and%20Statistics.ipynb)\n",
        "\n",
        "* [Linear Algebra](https://colab.research.google.com/github/dbremont/Notas/blob/main/Temas%20de%20Estudio/Linear%20Algebra.ipynb)"
      ]
    },
    {
      "cell_type": "markdown",
      "metadata": {
        "id": "jikcub9e44p_"
      },
      "source": [
        "\n",
        "# Computational Learning"
      ]
    },
    {
      "cell_type": "markdown",
      "metadata": {
        "id": "AUFugfuqP4Bl"
      },
      "source": [
        "* [Machine Learning](https://colab.research.google.com/github/dbremont/Notas/blob/main/Temas%20de%20Estudio/Machine%20Learning.ipynb)\n",
        "\n",
        "* [Deep Learning](https://colab.research.google.com/github/dbremont/Notas/blob/main/Temas%20de%20Estudio/Deep%20Learning.ipynb)\n",
        "\n",
        "* [Natural Language Processing](https://colab.research.google.com/github/dbremont/Notas/blob/main/Temas%20de%20Estudio/Natural_Language_Processing.ipynb)\n",
        "\n",
        "* [Reinforcement Learning](https://classroom.udacity.com/courses/ud600)\n",
        "\n",
        "\n",
        "* [Introduction to Computer Vision](https://www.udacity.com/course/introduction-to-computer-vision--ud810)"
      ]
    },
    {
      "cell_type": "markdown",
      "metadata": {
        "id": "uTmmR9Kp5H0T"
      },
      "source": [
        "# Ciencia"
      ]
    },
    {
      "cell_type": "markdown",
      "metadata": {
        "id": "1KxfaGOFaXtz"
      },
      "source": [
        "* [Science Essentials](https://colab.research.google.com/github/dbremont/Notas/blob/main/Temas%20de%20Estudio/Science%20Essentials.ipynb)\n",
        "\n",
        "* [Physics](https://colab.research.google.com/github/dbremont/Notas/blob/main/Temas%20de%20Estudio/Physics.ipynb)\n",
        "\n",
        "* [Chemistry](https://colab.research.google.com/github/dbremont/Notas/blob/main/Temas%20de%20Estudio/Chemistry.ipynb)\n",
        "\n",
        "* [Synapses, Neurons and Brains](https://www.coursera.org/learn/synapses/home/welcome)\n",
        "\n",
        "* [Introduction to Neural Computation](https://ocw.mit.edu/courses/brain-and-cognitive-sciences/9-40-introduction-to-neural-computation-spring-2018/)\n",
        "\n",
        "* [Computational Neuroscience](https://www.coursera.org/learn/computational-neuroscience)\n",
        "\n",
        "* [Understanding the Brain: The Neurobiology of Everyday Life](https://www.coursera.org/learn/neurobiology)\n",
        "\n",
        "* [Advanced Neurobiology I](https://www.coursera.org/learn/advanced-neurobiology1)\n",
        "\n",
        "* [Advanced Neurobiology II](https://www.coursera.org/learn/advancedneurobiologyii)\n",
        "\n",
        "* [Introduction to Modern Brain-Computer Interface Design](https://www.youtube.com/embed/playlist?list=PLbbCsk7MUIGcO_lZMbyymWU2UezVHNaMq)"
      ]
    },
    {
      "cell_type": "markdown",
      "metadata": {
        "id": "WH_ENf_dam7i"
      },
      "source": [
        "\n",
        "# General"
      ]
    },
    {
      "cell_type": "markdown",
      "metadata": {
        "id": "4-YAMPV0aog_"
      },
      "source": [
        "* [Soft Skills](https://colab.research.google.com/github/dbremont/Notas/blob/main/Temas%20de%20Estudio/Soft%20Skills.ipynb)\n",
        "\n",
        "* [Historia](https://colab.research.google.com/github/dbremont/Notas/blob/main/Temas%20de%20Estudio/Historia.ipynb)\n",
        "\n",
        "* [Economía](https://colab.research.google.com/github/dbremont/Notas/blob/main/Temas%20de%20Estudio/Econom%C3%ADa.ipynb)\n",
        "\n",
        "* [Finanzas](https://colab.research.google.com/github/dbremont/Notas/blob/main/Ingenerare/Topics_in_Mathematics_with_Applications_in_Finance.ipynb)"
      ]
    },
    {
      "cell_type": "markdown",
      "metadata": {
        "id": "1j8dDuCn9jFz"
      },
      "source": [
        "- *Script for Some Interactivity if it gets converter to html*\n",
        "\n",
        "<script src=\"https://cdnjs.cloudflare.com/ajax/libs/mousetrap/1.6.5/mousetrap.min.js\" integrity=\"sha512-+Jg3Ynmj9hse704K48H6rBBI3jdNBjReRGBCxUWFfOz3yVurnJFWtAWssDAsGtzWYw89xFWPxShuj2T6E9EOpg==\" crossorigin=\"anonymous\"></script>\n",
        "\n",
        "<script>\n",
        "\n",
        "var items = Array.from(document.querySelectorAll(\"li\"))\n",
        "\n",
        "items.forEach(function(a, index){\n",
        "    a.setAttribute(\"tabindex\", index)  \n",
        "})\n",
        "\n",
        "// Help\n",
        "Mousetrap.bind('?', function() { alert('Todo write the help of this.') });\n",
        "\n",
        "// Focus some random thing.\n",
        "Mousetrap.bind('r', function() {\n",
        "  var item = items[Math.floor(Math.random()*items.length)];\n",
        "  item.focus()\n",
        "});\n",
        "\n",
        "</script>"
      ]
    }
  ]
}