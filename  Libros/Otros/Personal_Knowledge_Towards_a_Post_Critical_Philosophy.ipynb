{
  "nbformat": 4,
  "nbformat_minor": 0,
  "metadata": {
    "colab": {
      "name": "Personal Knowledge Towards a Post-Critical Philosophy.ipynb",
      "provenance": [],
      "authorship_tag": "ABX9TyNpSyynBvRUTsqvdP3Jb4fQ",
      "include_colab_link": true
    },
    "kernelspec": {
      "name": "python3",
      "display_name": "Python 3"
    },
    "language_info": {
      "name": "python"
    }
  },
  "cells": [
    {
      "cell_type": "markdown",
      "metadata": {
        "id": "view-in-github",
        "colab_type": "text"
      },
      "source": [
        "<a href=\"https://colab.research.google.com/github/dbremont/Notas/blob/main/%20Libros/Otros/Personal_Knowledge_Towards_a_Post_Critical_Philosophy.ipynb\" target=\"_parent\"><img src=\"https://colab.research.google.com/assets/colab-badge.svg\" alt=\"Open In Colab\"/></a>"
      ]
    },
    {
      "cell_type": "markdown",
      "metadata": {
        "id": "t8zZ8T_8JeMs"
      },
      "source": [
        ""
      ]
    }
  ]
}