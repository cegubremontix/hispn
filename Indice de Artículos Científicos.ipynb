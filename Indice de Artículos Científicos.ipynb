{
  "nbformat": 4,
  "nbformat_minor": 0,
  "metadata": {
    "kernelspec": {
      "display_name": "Python 2.7.18 64-bit",
      "name": "python2718jvsc74a57bd0f92b2924b84ff19c1c3dc485f7644d4486f64738191026bf8e6de303969141b5"
    },
    "language_info": {
      "name": "python",
      "version": ""
    },
    "metadata": {
      "interpreter": {
        "hash": "f92b2924b84ff19c1c3dc485f7644d4486f64738191026bf8e6de303969141b5"
      }
    },
    "orig_nbformat": 2,
    "colab": {
      "name": "Indice de Artículos Científicos.ipynb",
      "provenance": [],
      "include_colab_link": true
    }
  },
  "cells": [
    {
      "cell_type": "markdown",
      "metadata": {
        "id": "view-in-github",
        "colab_type": "text"
      },
      "source": [
        "<a href=\"https://colab.research.google.com/github/dbremont/Notas/blob/main/Indice%20de%20Art%C3%ADculos%20Cient%C3%ADficos.ipynb\" target=\"_parent\"><img src=\"https://colab.research.google.com/assets/colab-badge.svg\" alt=\"Open In Colab\"/></a>"
      ]
    },
    {
      "cell_type": "markdown",
      "metadata": {
        "id": "-UiCjP1JjLZk"
      },
      "source": [
        "# Indice de Artículos Científicos"
      ]
    },
    {
      "cell_type": "markdown",
      "metadata": {
        "id": "l1ox3dL4jLZp"
      },
      "source": [
        "# Matematicas"
      ]
    },
    {
      "cell_type": "markdown",
      "metadata": {
        "id": "mBzVVD1vjLZq"
      },
      "source": [
        "* [The Unreasonable Effectivenss Of Mathematics in the Natural Sciences](https://colab.research.google.com/github/dbremont/Notas/blob/main/Papers/Matematicas/The%20Unreasonable%20Effectivenss%20Of%20Mathematics%20in%20the%20Natural%20Sciences.ipynb)\n",
        "\n",
        "* [The why, how, and when of representations for complex systems](https://colab.research.google.com/github/dbremont/Notas/blob/main/Papers/Matematicas/The%20why%2C%20how%2C%20and%20when%20of%20representations%20for%20complex%20systems.ipynb)"
      ]
    },
    {
      "cell_type": "markdown",
      "metadata": {
        "id": "wSszUb8RjLZq"
      },
      "source": [
        "# Aprendisaje Automatico"
      ]
    },
    {
      "cell_type": "markdown",
      "metadata": {
        "id": "doNkoGXQjLZr"
      },
      "source": [
        "* [A Few Useful Things to Know About Machine Learning](https://colab.research.google.com/github/dbremont/Notas/blob/main/Papers/Aprendisaje%20Automatico/A%20Few%20Useful%20Things%20to%20Know%20About%20Machine%20Learning.ipynb)\n",
        "\n",
        "* [AI Enabling Technologies A Survey](https://colab.research.google.com/github/dbremont/Notas/blob/main/Papers/Aprendisaje%20Automatico/AI%20Enabling%20Technologies%20A%20Survey.ipynb)\n",
        "\n",
        "* [A Primer on Neural Network Models for Natural Language Processing](https://colab.research.google.com/github/dbremont/Notas/blob/main/Papers/Aprendisaje%20Automatico/A%20Primer%20on%20Neural%20Network%20Models%20for%20Natural%20Language%20Processing.ipynb)\n",
        "\n",
        "* [A Survey on Large-scale Machine Learning](https://colab.research.google.com/github/dbremont/Notas/blob/main/Papers/Aprendisaje%20Automatico/A%20Survey%20on%20Large-scale%20Machine%20Learning.ipynb)\n",
        "\n",
        "* [Attention Is All You Need](https://colab.research.google.com/github/dbremont/Notas/blob/main/Papers/Aprendisaje%20Automatico/Attention%20Is%20All%20You%20Need.ipynb)\n",
        "\n",
        "* (D) [Deep Learning’s Most Important Ideas - A Brief Historical Review](https://colab.research.google.com/github/dbremont/Notas/blob/main/Papers/Aprendisaje%20Automatico/Deep%20Learning%E2%80%99s%20Most%20Important%20Ideas%20-%20A%20Brief%20Historical%20Review.ipynb)\n",
        "\n",
        "* (D) [It’s Hard For Neural Networks to Learn the Game of Life](https://colab.research.google.com/github/dbremont/Notas/blob/main/Papers/Aprendisaje%20Automatico/It%E2%80%99s%20Hard%20For%20Neural%20Networks%20to%20Learn%20the%20Game%20of%20Life.ipynb)\n",
        "\n",
        "* (D) [Many Analysts, One Data Set Making Transparent How Variations in Analytic Choices Affect Results](http://0.0.0.0:8000/2%20Aprendisaje%20Automatico/Papers/Many%20Analysts%2C%20One%20Data%20Set%20Making%20Transparent%20How%20Variations%20in%20Analytic%20Choices%20Affect%20Results.pdf)\n",
        "\n",
        "* (D) [Mastering the game of Go with deep neural networks and tree search](https://colab.research.google.com/github/dbremont/Notas/blob/main/Papers/Aprendisaje%20Automatico/Mastering%20the%20game%20of%20Go%20with%20deep%20neural%20networks%20and%20tree%20search.ipynb)\n",
        "\n",
        "* (D) [On Chomsky and the Two Cultures of Statistical](https://colab.research.google.com/github/dbremont/Notas/blob/main/Papers/Aprendisaje%20Automatico/On%20Chomsky%20and%20the%20Two%20Cultures%20of%20Statistical.ipynb)\n",
        "\n",
        "* (D) [Statistical Modeling The Two Cultures](https://colab.research.google.com/github/dbremont/Notas/blob/main/Papers/Aprendisaje%20Automatico/Statistical%20Modeling%20The%20Two%20Cultures.ipynb)\n",
        "\n",
        "* (D) [On the Measure of Intelligence](https://colab.research.google.com/github/dbremont/Notas/blob/main/Papers/Aprendisaje%20Automatico/On%20the%20Measure%20of%20Intelligence.ipynb)\n",
        "\n",
        "* (D) [Statistics versus machine learning](https://colab.research.google.com/github/dbremont/Notas/blob/main/Papers/Aprendisaje%20Automatico/Statistics%20versus%20machine%20learning.ipynb)\n",
        "\n",
        "* (D) [The Five Greatest Applications of Markov Chains](https://colab.research.google.com/github/dbremont/Notas/blob/main/Papers/Aprendisaje%20Automatico/The%20Five%20Greatest%20Applications%20of%20Markov%20Chains.ipynb)\n",
        "\n",
        "* (D) [The limitations of using languages for description](https://colab.research.google.com/github/dbremont/Notas/blob/main/Papers/Aprendisaje%20Automatico/The%20limitations%20of%20using%20languages%20for%20description.ipynb)\n",
        "\n",
        "* (D) [The Robust Beauty of Improper Linear Models in Decision Making](https://colab.research.google.com/github/dbremont/Notas/blob/main/Papers/Aprendisaje%20Automatico/The%20Robust%20Beauty%20of%20Improper%20Linear%20Models%20in%20Decision%20Making.ipynb)\n",
        "\n",
        "* (D) [The Unreasonable Effectiveness of Data](https://colab.research.google.com/github/dbremont/Notas/blob/main/Papers/Aprendisaje%20Automatico/The%20Unreasonable%20Effectiveness%20of%20Data.ipynb)\n",
        "\n",
        "* (D) [Using Markov Chains for Identification of Writers](https://colab.research.google.com/github/dbremont/Notas/blob/main/Papers/Aprendisaje%20Automatico/Using%20Markov%20Chains%20for%20Identification%20of%20Writers.ipynb)\n",
        "\n",
        "* (D) [What are the most important statistical ideas of the past 50 years](https://colab.research.google.com/github/dbremont/Notas/blob/main/Papers/Aprendisaje%20Automatico/What%20are%20the%20most%20important%20statistical%20ideas%20of%20the%20past%2050%20years.ipynb)"
      ]
    },
    {
      "cell_type": "markdown",
      "metadata": {
        "id": "5b1FebvfjLZs"
      },
      "source": [
        "# Computacion"
      ]
    },
    {
      "cell_type": "markdown",
      "metadata": {
        "id": "fyQb0MbNjLZt"
      },
      "source": [
        "* [MapReduce: Simplified Data Processing on Large Clusters](https://colab.research.google.com/github/dbremont/Notas/blob/main/Papers/Computacion/MapReduce:%20Simplified%20Data%20Processing%20on%20Large%20Clusters.ipynb)\n",
        "\n",
        "* [The Little Manual of API Design](https://colab.research.google.com/github/dbremont/Notas/blob/main/Papers/Computacion/The%20Little%20Manual%20of%20API%20Design.ipynb)\n",
        "\n",
        "* [An Introduction to Software Architecture](https://colab.research.google.com/github/dbremont/Notas/blob/main/Papers/Computacion/An%20Introduction%20to%20Software%20Architecture.ipynb)\n",
        "\n",
        "* [Architecture of a Database System](https://colab.research.google.com/github/dbremont/Notas/blob/main/Papers/Computacion/Architecture%20of%20a%20Database%20System.ipynb)\n",
        "\n",
        "* [On Abstraction and Informatics](https://colab.research.google.com/github/dbremont/Notas/blob/main/Papers/Computacion/On%20Abstraction%20and%20Informatics.ipynb)\n",
        "\n",
        "* [The Art of the Interpreter or, The Modularity Complex](https://colab.research.google.com/github/dbremont/Notas/blob/main/Papers/Computacion/The%20Art%20of%20the%20Interpreter%20or%2C%20The%20Modularity%20Complex.ipynb)\n",
        "\n",
        "* [End-To-End Arguments in System Design](https://colab.research.google.com/github/dbremont/Notas/blob/main/Papers/Computacion/End-To-End%20Arguments%20in%20System%20Design.ipynb)\n",
        "\n",
        "* [Writing a Simple Operating System - from Scratch](https://colab.research.google.com/github/dbremont/Notas/blob/main/Papers/Computacion/Writing%20a%20Simple%20Operating%20System%20-%20from%20Scratch.ipynb)\n",
        "\n",
        "- [Software Aging](https://colab.research.google.com/github/dbremont/Notas/blob/main/Papers/Computacion/Software%20Aging.ipynb)\n",
        "\n",
        "- [The Value of Abstraction](https://colab.research.google.com/github/dbremont/Notas/blob/main/Papers/Computacion/The%20Value%20of%20Abstraction.ipynb)\n",
        "\n",
        "- [A History and Evaluation of System R](https://colab.research.google.com/github/dbremont/Notas/blob/main/Papers/Computacion/A%20History%20and%20Evaluation%20of%20System%20R.ipynb)\n",
        "\n",
        "- [Aegean Replication beyond the client-server model](https://colab.research.google.com/github/dbremont/Notas/blob/main/Papers/Computacion/Aegean%20Replication%20beyond%20the%20client-server%20model.ipynb)\n",
        "\n",
        "- [Bigtable A Distributed Storage System for Structured Data](https://colab.research.google.com/github/dbremont/Notas/blob/main/Papers/Computacion/Bigtable%20A%20Distributed%20Storage%20System%20for%20Structured%20Data.ipynb)\n",
        "\n",
        "- [Building Robust Systems an essay](https://colab.research.google.com/github/dbremont/Notas/blob/main/Papers/Computacion/Building%20Robust%20Systems%20an%20essay.ipynb)\n",
        "\n",
        "- [Chord A Scalable Peer-to-peer Lookup Service for Internet Applications](https://colab.research.google.com/github/dbremont/Notas/blob/main/Papers/Computacion/Chord%20A%20Scalable%20Peer-to-peer%20Lookup%20Service%20for%20Internet%20Applications.ipynb)\n",
        "\n",
        "- [Computer Science as Empirical Inquiry - Symbols and Search](https://colab.research.google.com/github/dbremont/Notas/blob/main/Papers/Computacion/Computer%20Science%20as%20Empirical%20Inquiry%20-%20Symbols%20and%20Search.ipynb)\n",
        "\n",
        "- [Designs, Lessons and Advice from Building Large Distributed Systems](https://colab.research.google.com/github/dbremont/Notas/blob/main/Papers/Computacion/Designs%2C%20Lessons%20and%20Advice%20from%20Building%20Large%20Distributed%20Systems.ipynb)\n",
        "\n",
        "- [Dynamo Amazon's Highly Available Key-value Store](https://colab.research.google.com/github/dbremont/Notas/blob/main/Papers/Computacion/Dynamo%20Amazon%E2%80%99s%20Highly%20Available%20Key-value%20Store.ipynb)\n",
        "\n",
        "-  [End-To-End Arguments in System Design](https://colab.research.google.com/github/dbremont/Notas/blob/main/Papers/Computacion/End-To-End%20Arguments%20in%20System%20Design.ipynb)\n",
        "\n",
        "- [Event-Driven Programming - Introduction, Tutorial, History](http://0.0.0.0:8000/3%20Computacion/Papers/Event-Driven%20Programming%20-%20Introduction%2C%20Tutorial%2C%20History.pdf)\n",
        "\n",
        "- [Harnessing vision for computation](https://colab.research.google.com/github/dbremont/Notas/blob/main/Papers/Computacion/Harnessing%20vision%20for%20computation.ipynb)\n",
        "- [Hints and Principles for Computer System Design](https://colab.research.google.com/github/dbremont/Notas/blob/main/Papers/Computacion/Hints%20and%20Principles%20for%20Computer%20System%20Design.ipynb)\n",
        "- [In-Home Daily-Life Captioning Using Radio Signals](https://colab.research.google.com/github/dbremont/Notas/blob/main/Papers/Computacion/In-Home%20Daily-Life%20Captioning%20Using%20Radio%20Signals.ipynb)\n",
        "- [Jeff Dean numbers](https://colab.research.google.com/github/dbremont/Notas/blob/main/Papers/Computacion/Jeff%20Dean%20numbers.ipynb)\n",
        "\n",
        "- [Local-First Software You Own Your Data, in spite of the cloud](https://colab.research.google.com/github/dbremont/Notas/blob/main/Papers/Computacion/Local-First%20Software%20You%20Own%20Your%20Data%2C%20in%20spite%20of%20the%20cloud.ipynb)\n",
        "\n",
        "- [Names - Distributed, Secure, Human-Readable - Choose Two](https://github.com/dbremont/Notas/blob/main/Papers/Computacion/Names%20-%20Distributed%2C%20Secure%2C%20Human-Readable%20-%20Choose%20Two.ipynb)\n",
        "\n",
        "- [On the expressive power of programming languages](https://colab.research.google.com/github/dbremont/Notas/blob/main/Papers/Computacion/On%20the%20expressive%20power%20of%20programming%20languages.ipynb)\n",
        "\n",
        "- [Our Software Dependency Problem](https://colab.research.google.com/github/dbremont/Notas/blob/main/Papers/Computacion/Our%20Software%20Dependency%20Problem.ipynb)\n",
        "\n",
        "- [Paxos Made Simple](https://colab.research.google.com/github/dbremont/Notas/blob/main/Papers/Computacion/Paxos%20Made%20Simple.ipynb)\n",
        "\n",
        "- [Programming tools for intelligent systems](https://colab.research.google.com/github/dbremont/Notas/blob/main/Papers/Computacion/Programming%20tools%20for%20intelligent%20systems.ipynb)\n",
        "\n",
        "- [Programming with a Read-Eval-Synth Loop](https://colab.research.google.com/github/dbremont/Notas/blob/main/Papers/Computacion/Programming%20with%20a%20Read-Eval-Synth%20Loop.ipynb)\n",
        "\n",
        "- [Ropes - an Alternative to Strings](https://colab.research.google.com/github/dbremont/Notas/blob/main/Papers/Computacion/Ropes%20-%20an%20Alternative%20to%20Strings.ipynb)\n",
        "\n",
        "- [Software Engineering at Google](https://colab.research.google.com/github/dbremont/Notas/blob/main/Papers/Computacion/Software%20Engineering%20at%20Google.ipynb)\n",
        "\n",
        "\n",
        "\n",
        "\n",
        "- [The Computational Human](https://colab.research.google.com/github/dbremont/Notas/blob/main/Papers/Computacion/The%20Computational%20Human.ipynb)\n",
        "- [The Google File System](https://colab.research.google.com/github/dbremont/Notas/blob/main/Papers/Computacion/The%20Google%20File%20System.ipynb)\n",
        "- [The Little Manual of API Design](https://colab.research.google.com/github/dbremont/Notas/blob/main/Papers/Computacion/The%20Little%20Manual%20of%20API%20Design.ipynb)\n",
        "- [What distinguishes great software engineers](https://colab.research.google.com/github/dbremont/Notas/blob/main/Papers/Computacion/What%20distinguishes%20great%20software%20engineers.ipynb)\n",
        "- [Worse is Better is Worse](http://0.0.0.0:8000/3%20Computacion/Papers/Worse%20is%20Better%20is%20Worse.pdf)\n",
        "\n",
        "\n",
        "\n",
        "* [Scikit-learn  Machine Learning in Python](https://colab.research.google.com/github/dbremont/Notas/blob/main/Papers/Computacion/Scikit-learn%20Machine%20Learning%20in%20Python.ipynb)\n",
        "\n",
        "* [Computing While Charging Building a Distributed Computing Infrastructure Using Smartphones](https://colab.research.google.com/github/dbremont/Notas/blob/main/Papers/Computacion/Computing%20While%20Charging%20Building%20a%20Distributed%20Computing%20Infrastructure%20Using%20Smartphones.ipynb)\n",
        "\n",
        "* [Towards Deploying Decommissioned Mobile Devices as Cheap Energy-Efficient Computer Nodes](https://colab.research.google.com/github/dbremont/Notas/blob/main/Papers/Computacion/Towards%20Deploying%20Decommissioned%20Mobile%20Devices%20as%20Cheap%20Energy-Efficient%20Computer%20Nodes.ipynb)\n",
        "\n",
        "* [Reflections on the Lack of Adoption of Domain Specific Languages](https://colab.research.google.com/github/dbremont/Notas/blob/main/Papers/Computacion/Reflections%20on%20the%20Lack%20of%20Adoption%20of%20Domain%20Specific%20Languages.ipynb)\n",
        "\n",
        "\n",
        "\n",
        "* [Computer Science as Empirical Inquiry - Symbols and Search](https://colab.research.google.com/github/dbremont/Notas/blob/main/Papers/Computacion/Computer%20Science%20as%20Empirical%20Inquiry%20-%20Symbols%20and%20Search.ipynb)\n",
        "\n",
        "* [Getting What You Measure Four common pitfalls in using software metrics for project mangement](https://colab.research.google.com/github/dbremont/Notas/blob/main/Papers/Computacion/Getting%20What%20You%20Measure%20Four%20common%20pitfalls%20in%20using%20software%20metrics%20for%20project%20mangement.ipynb)"
      ]
    },
    {
      "cell_type": "markdown",
      "metadata": {
        "id": "FM67bTGIjLZy"
      },
      "source": [
        "# Ingenieria"
      ]
    },
    {
      "cell_type": "markdown",
      "metadata": {
        "id": "RSaKlh58jLZ1"
      },
      "source": [
        "# Ciencia"
      ]
    },
    {
      "cell_type": "markdown",
      "metadata": {
        "id": "-PyziV_xjLZ1"
      },
      "source": [
        "* [YouTube resources for synthetic biology education](https://colab.research.google.com/github/dbremont/Notas/blob/main/Papers/Ciencia/YouTube%20resources%20for%20synthetic%20biology%20education.ipynb)\n",
        "\n",
        "* [All biology is computational biology](https://colab.research.google.com/github/dbremont/Notas/blob/main/Papers/Ciencia/All%20biology%20is%20computational%20biology.ipynb)\n",
        "\n",
        "* [Central Ideas in Chemistry An Alternative Perspective](https://colab.research.google.com/github/dbremont/Notas/blob/main/Papers/Ciencia/Central%20Ideas%20in%20Chemistry%20An%20Alternative%20Perspective.ipynb)\n",
        "\n",
        "* [Computational systems biology](https://colab.research.google.com/github/dbremont/Notas/blob/main/Papers/Ciencia/Computational%20systems%20biology.ipynb)\n",
        "\n",
        "* [Synthetic biology  applications come of age](https://colab.research.google.com/github/dbremont/Notas/blob/main/Papers/Ciencia/Synthetic%20biology%20applications%20come%20of%20age.ipynb)\n",
        "\n",
        "* [The Challenge of Understanding the Brain Where We Stand in 2015](https://colab.research.google.com/github/dbremont/Notas/blob/main/Papers/Ciencia/The%20Challenge%20of%20Understanding%20the%20Brain%20Where%20We%20Stand%20in%202015.ipynb)\n",
        "\n",
        "* [The Hierarchy of Models in Chemistry](https://colab.research.google.com/github/dbremont/Notas/blob/main/Papers/Ciencia/The%20Hierarchy%20of%20Models%20in%20Chemistry.ipynb)\n",
        "\n",
        "* [The importance of stupidity in scientific research](https://colab.research.google.com/github/dbremont/Notas/blob/main/Papers/Ciencia/The%20importance%20of%20stupidity%20in%20scientific%20research.ipynb)\n",
        "\n",
        "* [Fundamentals of Simulation Modeling](https://colab.research.google.com/github/dbremont/Notas/blob/main/Papers/Ciencia/Fundamentals%20of%20Simulation%20Modeling.ipynb)\n",
        "\n",
        "* [On the electrodynamics of moving bodies](https://colab.research.google.com/github/dbremont/Notas/blob/main/Papers/Ciencia/On%20the%20electrodynamics%20of%20moving%20bodies.ipynb)\n",
        "\n",
        "* [The role of symmetry in fundamental physics](https://colab.research.google.com/github/dbremont/Notas/blob/main/Papers/Ciencia/The%20role%20of%20symmetry%20in%20fundamental%20physics.ipynb)\n",
        "\n",
        "* [Does the inertia of a body depend upon its energy-content](https://colab.research.google.com/github/dbremont/Notas/blob/main/Papers/Ciencia/Does%20the%20inertia%20of%20a%20body%20depend%20upon%20its%20energy-content.ipynb)\n",
        "\n",
        "* [Engineering Life A Review of Synthetic Biology](https://colab.research.google.com/github/dbremont/Notas/blob/main/Papers/Ciencia/Engineering%20Life%20A%20Review%20of%20Synthetic%20Biology.ipynb)"
      ]
    },
    {
      "cell_type": "markdown",
      "metadata": {
        "id": "R_HjtszDjLZ2"
      },
      "source": [
        "# Otros"
      ]
    },
    {
      "cell_type": "markdown",
      "metadata": {
        "id": "Qu_3EiISjLZ2"
      },
      "source": [
        "* [How to Read a Computer Science Research Paper](https://colab.research.google.com/github/dbremont/Notas/blob/main/Papers/Otros/How%20to%20Read%20a%20Computer%20Science%20Research%20Paper.ipynb)\n",
        "\n",
        "* [The ten commandments of applied econometrics](https://colab.research.google.com/github/dbremont/Notas/blob/main/Papers/Otros/The%20ten%20commandments%20of%20applied%20econometrics.ipynb)\n",
        "\n",
        "* [Strengthening the Student Toolbox - Study Strategies to Boost Learning](https://colab.research.google.com/github/dbremont/Notas/blob/main/Papers/Otros/Strengthening%20the%20Student%20Toolbox%20-%20Study%20Strategies%20to%20Boost%20Learning.ipynb)\n",
        "\n",
        "* [Brain Drain The Mere Presence of One’s Own Smartphone Reduces Available Cognitive Capacity](https://colab.research.google.com/github/dbremont/Notas/blob/main/Papers/Otros/Brain%20Drain%20The%20Mere%20Presence%20of%20One%E2%80%99s%20Own%20Smartphone%20Reduces%20Available%20Cognitive%20Capacity.ipynb)\n",
        "\n",
        "* [The Rapid Adoption of Data-Driven Decision-Making](https://colab.research.google.com/github/dbremont/Notas/blob/main/Papers/Otros/The%20Rapid%20Adoption%20of%20Data-Driven%20Decision-Making.ipynb)"
      ]
    }
  ]
}