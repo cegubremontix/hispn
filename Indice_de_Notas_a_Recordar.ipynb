{
  "nbformat": 4,
  "nbformat_minor": 0,
  "metadata": {
    "colab": {
      "name": "Indice de Notas a Recordar.ipynb",
      "provenance": [],
      "include_colab_link": true
    },
    "kernelspec": {
      "name": "python3",
      "display_name": "Python 3"
    },
    "language_info": {
      "name": "python"
    }
  },
  "cells": [
    {
      "cell_type": "markdown",
      "metadata": {
        "id": "view-in-github",
        "colab_type": "text"
      },
      "source": [
        "<a href=\"https://colab.research.google.com/github/dbremont/Notas/blob/main/Indice_de_Notas_a_Recordar.ipynb\" target=\"_parent\"><img src=\"https://colab.research.google.com/assets/colab-badge.svg\" alt=\"Open In Colab\"/></a>"
      ]
    },
    {
      "cell_type": "markdown",
      "metadata": {
        "id": "vdZnK0esivui"
      },
      "source": [
        "# Indice de Notas a Recordar"
      ]
    },
    {
      "cell_type": "markdown",
      "metadata": {
        "id": "AssaujV4xFOz"
      },
      "source": [
        "- Economists expected April to create 1 million jobs in the US. It created 250,000. All Sunday TV shows ask what is wrong with the economy. Why is it not what is wrong with economists models?\n",
        "\n",
        "- "
      ]
    },
    {
      "cell_type": "markdown",
      "metadata": {
        "id": "a245F0nGjVKO"
      },
      "source": [
        "\"Never read a book if you don't expect to be surprised by something in it, while reading it.\" - Nassim Nicholas Taleb #books"
      ]
    },
    {
      "cell_type": "markdown",
      "metadata": {
        "id": "WLBtHHcDjV4O"
      },
      "source": [
        "- wow: \"If you keep making mistakes when practicing then you are just going to get good at making them\" - **@alexeyguzey**\n",
        "\n",
        "- See more in:\n",
        "  - [How I Practice Piano](https://frogurncitadel.wordpress.com/2021/03/27/how-i-practice-piano/)"
      ]
    },
    {
      "cell_type": "markdown",
      "metadata": {
        "id": "YtYtVwvWHQai"
      },
      "source": [
        "- My advice to people wanting to get into game programming has been to write small games completely from scratch while also working on commercial game mods and with unity or unreal. I’m following that myself for AI — I have some C++ backprop-from-scratch projects while also \\\n",
        "\n",
        "- \\ learning python / pytorch / jupyter and experimenting with pretrained models. I had to give myself a bit of a kick to not dwell too much in the lowest levels, but now I am enjoying the new world quite a bit. You can do a remarkable amount with very little code, but when I \\\n",
        "\n",
        "- \\ actually write a loop in python because I don’t know the correct way to do something with tensor ops I get reminded just how slow python is relative to C++."
      ]
    },
    {
      "cell_type": "markdown",
      "metadata": {
        "id": "Bru-2Z1AG3rC"
      },
      "source": [
        "- I get asked for career advice a lot, and while my \"learn deeply\" pitch may be good long term advice, it doesn't help breaking in -- being able to write your own tool chain with a hex editor is great and all, but it doesn't add value at most companies.\n",
        "\n",
        "- I suspect there is a useful path that I think of as the \"tool master\". Modern art and programming tools are enormously complex systems, and the typical user only touches a tiny fraction of their features. Picking a path of study that revolves around deeply learning a tool rather than building works is potentially backwards, but if you learn why every feature exists, you actually learn a lot about the craft the tool is used for, and you are very likely to be able to add value to a team almost immediately by teaching tricks to the existing developers,\n",
        "\n",
        "- or at least hit the ground running if you were selected for tool compatibility.  The \"Unix guru\" is a tool master, and so is the \"language lawyer\". Presumable Photoshop and Maya have similar roles. It would be critical for someone following this path to not become opinionated because they don't have the broader experience to justify it, but as a store of knowledge and skills it seems a useful distinguishing mark at an entry level for those inclined that way.\n",
        "\n",
        "This is a random thought at this point, does anyone involved in hiring want to comment?"
      ]
    },
    {
      "cell_type": "markdown",
      "metadata": {
        "id": "B6P3gprbEkZL"
      },
      "source": [
        "**The greatest performance improvement of all is when a system goes from not-working to working**\n",
        "\n",
        "- Programmers tend to worry too much and too soon about performance. Many college-level Computer Science classes focus on fancy algorithms to improve performance, but in real life performance rarely matters. Most real-world programs run plenty fast enough on today's machines without any particular attention to performance. The real challenges are getting programs completed quickly, ensuring their quality, and managing the complexity of large applications. Thus the primary design criterion for software should be simplicity, not speed.\n",
        "\n",
        "- Occasionally there will be parts of a program where performance matters, but you probably won't be able to predict where the performance issues will occur. If you try to optimize the performance of an application during the initial construction you will add complexity that will impact the timely delivery and quality of the application and probably won't help performance at all; in fact, it could actually reduce the performance (\"faster\" algorithms often have larger constant factors, meaning they are slower at small scale and only become more efficient at large scale). I've found that in most situations the simplest code is also the fastest. So, don't worry about performance until the application is running; if it isn't fast enough, then go in and carefully measure to figure out where the performance bottlenecks are (they are likely to be in places you wouldn't have guessed). Tune only the places where you have measured that there is an issue."
      ]
    },
    {
      "cell_type": "markdown",
      "metadata": {
        "id": "hrV1W823EqZE"
      },
      "source": [
        "**Use your intuition to ask questions, not to answer them**\n",
        "\n",
        "- Intuition is a wonderful thing. Once you have acquired knowledge and experience in an area, you start getting gut-level feelings about the right way to handle certain situations or problems, and these intuitions can save large amounts of time and effort. However, it's easy to become overconfident and assume that your intuition is infallible, and this can lead to mistakes. So, I try to treat intuition as a hypothesis to be verified, not an edict to be followed blindly.\n",
        "\n",
        "- For example, intuition works great when tracking down bugs; if I get a sense for where I think the problem is I can quickly go to the code and verify whether this really is the problem. For more abstract tasks such as design I find that intuition can also be valuable (I get a vague sense that a particular approach is good or bad), but the intuition needs to be followed up with a lot of additional analysis to expose all the underlying factors and verify whether the intuition was correct. The intuition helps me to focus my analysis, but it doesn't eliminate the need for analysis.\n",
        "\n",
        "- One area where people frequently misuse their intuition is performance analysis. Developers often jump to conclusions about the source of a performance problem and run off to make changes without making measurements to be sure that the intuition is correct (\"Of course it's the xyz that is slow\"). More often than not they are wrong, and the change ends up making the system more complicated without fixing the problem.\n",
        "\n",
        "- Another reason for constantly challenging and validating your intuitions is that over time this will sharpen your intuitions so that they work even better for you. Ironically, people who are most dogmatic about their intuitions often seem to have least well-developed intuitions. If they would challenge their intuitions more, they would find that their intuitions become more accurate."
      ]
    },
    {
      "cell_type": "markdown",
      "metadata": {
        "id": "qzGiMwzzE1Dn"
      },
      "source": [
        "**The most important component of evolution is death**\n",
        "\n",
        "- Or, said another way, it's easier to create a new organism than to change an existing one. Most organisms are highly resistant to change, but when they die it becomes possible for new and improved organisms to take their place. This rule applies to social structures such as corporations as well as biological organisms: very few companies are capable of making significant changes in their culture or business model, so it is good for companies eventually to go out of business, thereby opening space for better companies in the future.\n",
        "\n",
        "- Computer software is a counter-example to this rule, with ironic results. Software is incredibly malleable: it can be updated with new versions relatively easily to fix problems and add new features. It is easier to change existing software than to build new software, so software tends to live a long time. To a first approximation, software doesn't die (compare this to the hardware in a computer, which is completely replaced every few years). At the same time, it is difficult to make major structural improvements to software once it has been shipped, so mistakes in early versions of the program often live forever. As a result, software tends to live too long: just good enough to discourage replacement, but slowly rotting away with more and more problems that are hard to fix. I wonder if the overall quality of computer software would improve if there were a way of forcing all software to be replaced after some period of time."
      ]
    },
    {
      "cell_type": "markdown",
      "metadata": {
        "id": "7aveQyhNE9YH"
      },
      "source": [
        "**Facts precede concepts**\n",
        "\n",
        "- A fact is a piece of information that can be observed or measured; a concept is a general rule that can be used to predict many facts or a solution to many problems. Concepts are powerful and valuable, and acquiring them is the goal of most learning processes. However, before you can appreciate or develop a concept you need to observe a large number of facts related to the concept. This has implications both for teaching and for working in unfamiliar areas.\n",
        "\n",
        "- In teaching it's crucial to give lots of examples when introducing a new concept; otherwise the concept won't make sense to the students. Edward Tufte describes this process as \"general-specific-general\": start by explaining the concept, then give several specific examples to show where the concept does and does not apply, then reiterate the concept by showing how all the examples are related.\n",
        "\n",
        "- I also apply this principle when I'm working in a new area and trying to derive the underlying concepts for that area. Initially my goal is just to get experience (facts). Once I have a collection of facts to work from, then I start looking for patterns or themes; eventually these lead to concepts. For example, a few years ago I started working on my first large Web application. My goal was to develop a library of reusable classes on which to base the application, but being new to Web development I had no idea what those classes should be. So, I built the first simple version of the application without any shared code, creating each page separately. Once I had developed a dozen pages I was able to identify areas of functionality that were repeated over and over in different pages, and from this I was able to develop a set of classes that implemented the the shared functionality. These classes represented the key concepts of that particular application."
      ]
    },
    {
      "cell_type": "markdown",
      "metadata": {
        "id": "QTAVJTynFrf7"
      },
      "source": [
        " **If you don't know what the problem was, you haven't fixed it**\n",
        "\n",
        "- Here's a scenario that I have seen over and over:\n",
        "\n",
        "  - A developer is tracking down a difficult problem, often one that is not completely reproducible.\n",
        "\n",
        "  - In a status meeting the developer announces that the problem has been fixed.\n",
        "\n",
        "  - I ask \"what was the cause of the problem?\".\n",
        "  The developer responds \"I'm not really sure what the problem was, but I changed xyz and the problem went away.\"\n",
        "\n",
        "- Nine times out of ten this approach doesn't really fix the problem; it just submerges it (for example, the system timing might have changed so that the problem doesn't happen as frequently). In a few weeks or months the problem will reappear. Don't ever assume that a problem has been fixed until you can identify the exact lines of code that caused it and convince yourself that the particular code really explains the behavior you have seen. Ideally you should create a test case that reliably reproduces the problem, make your fix, and then use that test case to verify that the problem is gone.\n",
        "\n",
        "- If you do end up in a situation where you make a change and the problem mysteriously goes away, don't stop there. Undo the change and see if the problem recurs. If it doesn't, then the change is probably unrelated to the problem. If undoing the change causes the problem to recur, then figure out why. For example, try reducing the scope of the change to find the smallest possible modification that causes the problem to come and go. If this doesn't identify the source of the problem, add additional tracing to the system and compare the \"before\" and \"after\" traces to see how the change affected the behavior of the system. In my experience, once I have a code change that makes a problem come and go I can always find the source of the problem fairly quickly.\n",
        "\n"
      ]
    },
    {
      "cell_type": "markdown",
      "metadata": {
        "id": "UQIb3f7UF39u"
      },
      "source": [
        "**If it hasn't been used, it doesn't work**\n",
        "\n",
        "- This is one of the biggest frustrations of software development. You design and implement a new feature or application, you test it carefully, and you think you are done. Unfortunately you aren't. No matter how carefully you have tested, there will be problems as soon as QA gets their hands on it or someone tries to use the feature or application for real work. Either there will be bugs that you missed, or some of the features will be clumsy, or additional features will be needed. Sometimes the entire architecture turns out to be wrong. Unfortunately, the problems come out at a time when you are ready to move on to the next thing (or perhaps you already have moved on), so it's frustrating to go back and spend more time on a project that you thought was finished. And, of course, you didn't budget time for this so the cleanup work causes delays in your next project.\n",
        "\n",
        "- I don't know any solution to this problem except to realize its inevitability and plan for it. My rule of thumb is that when you think you are finished with a software project (coded, tested, and documented, and ready for QA or production use) you are really only 50-75% done. In other words, if you spent 3 months in initial construction, plan on spending another 4-8 weeks in follow-up work. One way to minimize this problem is to get your new software in use as soon as possible. If you can create a skeletal version that is still useful, get people trying it out so you can find out about problems before you think you're finished. This is one of the ideas behind Agile Development.\n",
        "\n",
        "- Sometimes people just refuse to do the follow-up work: \"It's not my highest priority\" or \"I will get to it when I have time\". If you take this approach you'll produce mediocre software. No software is ever gotten right the first time. The only way to produce high-quality software is to keep improving and improving it. There are 2 kinds of software in the world: software that starts out crappy and eventually becomes great, and software that starts out crappy and stays that way.\n",
        "\n"
      ]
    },
    {
      "cell_type": "markdown",
      "metadata": {
        "id": "6gJudP2_GAji"
      },
      "source": [
        "**The only thing worse than a problem that happens all the time is a problem that doesn't happen all the time**\n",
        "\n",
        "- Not much to say about this one: it's painful to debug a problem that isn't reproducible. I have spent as long as 6 months tracking down a single nondeterministic bug. Conversely, in my experience any problem that can be easily reproduced can also be tracked down pretty quickly."
      ]
    },
    {
      "cell_type": "markdown",
      "metadata": {
        "id": "z5KdmSkrGDux"
      },
      "source": [
        "**The three most powerful words for building credibility are \"I don't know\"**\n",
        "\n",
        "Many people worry that not knowing something is a sign of weakness, and that if a leader seems not to have all the answers they will lose the confidence of their team. Such people try to pretend they have the answer in every situation, making things up if necessary and never admitting mistakes.\n",
        "\n",
        "However, this approach ultimately backfires. Sooner or later people learn the truth and figure out that the person never admits when they don't know. When this happens the person loses all credibility: no-one can tell whether the person is speaking from authority or making something up, so it isn't safe to trust anything they say.\n",
        "\n",
        "On the other hand, if you admit that you don't know the answer, or that you made a mistake, you build credibility. People are more likely to trust you when you say that you do have the answer, because they have seen that you don't make things up."
      ]
    },
    {
      "cell_type": "markdown",
      "metadata": {
        "id": "Q787SEdfGJyJ"
      },
      "source": [
        "**Coherent systems are inherently unstable**\n",
        "\n",
        "A coherent system is one where everything is the same in some respect; the more things that are uniform or shared, the more coherent the system is. For example, a typical cornfield in Iowa is highly coherent: every corn stalk is from the same strain; they're all planted at the same time, fertilized at the same time, and harvested at the same time. The world of computing is also fairly coherent: most of the world's computers run one of a few versions of Windows, and almost any computer in the world can be reached using the IP/TCP protocol. Human-engineered systems tend to be coherent.\n",
        "\n",
        "Natural systems tend not to be coherent. For example, consider the ecosystem of a wetland: there are numerous different species of plant and animal sharing the same area, but behaving very differently with complex interrelationships. The behavior of the overall system is hard to predict from the behavior of any individual in it.\n",
        "\n",
        "Coherent systems often have advantages of efficiency, which is why humans gravitate towards them. For example, it's easier to plant the same seed everywhere in a cornfield, and given that some seeds are better than others, it's more efficient to use the best seed everywhere. It's also easier to harvest if all of the corn ripens at the same time. It's more efficient to have a single operating system running most of the world's computers: once a new facility is implemented for that system, everyone in the world can benefit from it. If there were dozens of different operating systems, then new applications would have to be reimplemented for each of them.\n",
        "\n",
        "Unfortunately, coherent systems are unstable: if a problem arises it can wipe out the whole system very quickly. For example, a new plant disease could quickly take out a large fraction of U.S. grain production. Computer viruses are another example: a virus that takes advantage of a bug in Windows can potentially impact most of the world's computers. The U.S. stock market exhibits a certain degree of coherency in the way people think and trade, which results in huge swings up and down as investors move en masse to buy the latest fad or sell when a recession looms.\n",
        "\n",
        "The incoherency of natural systems give them greater stability. For example, a particular plant disease could probably only affect a small fraction of the species in a wetland."
      ]
    },
    {
      "cell_type": "markdown",
      "metadata": {
        "id": "AnXRch5_8Jzl"
      },
      "source": [
        "- **Epílogo**: Parte final de un discurso o de una obra literaria en la que se ofrece un resumen general de su contenido."
      ]
    },
    {
      "cell_type": "markdown",
      "metadata": {
        "id": "m8qD1n-4guPe"
      },
      "source": [
        "- Jack of all trades master of nones.\n",
        "- Jack of one trade, connector of nones."
      ]
    },
    {
      "cell_type": "markdown",
      "metadata": {
        "id": "2NulJt1Gl4T6"
      },
      "source": [
        "- Learn the 20%   of the thing, that will give you the 80%."
      ]
    },
    {
      "cell_type": "markdown",
      "metadata": {
        "id": "yMJfcwingsl0"
      },
      "source": [
        "**ideas to improve machine learning engineering skills**:\n",
        "\n",
        "- practise data engineering with real-world datasets\n",
        "- document real-world use cases and best practices\n",
        "- efficiently and quickly incorporate recent ideas into your code\n",
        "- accessible & reproducible code\n",
        "- ML tooling deep dives"
      ]
    },
    {
      "cell_type": "markdown",
      "metadata": {
        "id": "pL-wzMWNRmZ6"
      },
      "source": [
        "- [Epiphenomenon](https://en.wikipedia.org/wiki/Epiphenomenon): An epiphenomenon (plural: epiphenomena) is a secondary phenomenon that occurs alongside or in parallel to a primary phenomenon\n",
        "\n",
        "- Note that in complex systems: Epiphenomenon can be used interchangeably with \"emergent efffect\""
      ]
    },
    {
      "cell_type": "markdown",
      "metadata": {
        "id": "VrLrl91dR59b"
      },
      "source": [
        "- [Emergent efffect](https://en.wikipedia.org/wiki/Emergence): emergence occurs when an entity is observed to have properties its parts do not have on their own, properties or behaviors which emerge only when the parts interact in a wider whole."
      ]
    },
    {
      "cell_type": "markdown",
      "metadata": {
        "id": "1Y7tXAscHG8Z"
      },
      "source": [
        "- Data Warerhouse (Almacen de datos)\n",
        "- DataMart <-> Esquemas de base de datos\n",
        "- Cubo Olap "
      ]
    },
    {
      "cell_type": "markdown",
      "metadata": {
        "id": "T3MHGkITyFid"
      },
      "source": [
        "- It takes a thousand men to invent a telegraph, or a steam engine, or a phonograph, or a photograph, or a telephone, or any other Important thing–and the last man gets the credit and we forget the others. He added his little mite–that is all he did.\n",
        "– **Mark Twain**"
      ]
    },
    {
      "cell_type": "markdown",
      "metadata": {
        "id": "tQMiBX7rtndj"
      },
      "source": [
        "- **Non sequitur** (del latín «no se sigue») es un argumento en el cual la conclusión no se deduce (no se sigue) de las premisas. En sentido amplio, se aplica a cualquier razonamiento inconsecuente o inválido, es decir, toda falacia es un non sequitur."
      ]
    },
    {
      "cell_type": "markdown",
      "metadata": {
        "id": "yDs86BqqiJnA"
      },
      "source": [
        "- [Citizen Science](https://en.wikipedia.org/wiki/Citizen_science), (CS; also known as community science, crowd science, crowd-sourced science, civic science, or volunteer monitoring) is scientific research conducted, in whole or in part, by amateur (or nonprofessional) scientists.\n",
        "\n",
        "- Citizen science is sometimes described as \"public participation in scientific research,\" participatory monitoring, and participatory action research whose outcomes are often advancements in scientific research by improving the scientific communities capacity, as well as increasing the public's understanding of science."
      ]
    },
    {
      "cell_type": "markdown",
      "metadata": {
        "id": "amtnsUFMicK1"
      },
      "source": [
        "- You'll know you understand it when you can build it, when you can see its structure."
      ]
    },
    {
      "cell_type": "markdown",
      "metadata": {
        "id": "g6TMjbL4isnL"
      },
      "source": [
        "- \"Smart data structures and dumb code works a lot better than the other way around.\" -- Guy Steele"
      ]
    },
    {
      "cell_type": "markdown",
      "metadata": {
        "id": "NSyZu4T0i1jr"
      },
      "source": [
        "- \"The Representation Principle: Once a problem is described using an appropriate representation, the problem is almost solved.\" -- P. H. Winston"
      ]
    },
    {
      "cell_type": "markdown",
      "metadata": {
        "id": "K76jwq0QjPgL"
      },
      "source": [
        "- **Rumpelstiltskin principle**: When you give a name to something, you gain power over it."
      ]
    },
    {
      "cell_type": "markdown",
      "metadata": {
        "id": "YiX7awPzjTMZ"
      },
      "source": [
        "- **Reification**: Turn an abstract idea into something concrete (ex. a cell in a data model)."
      ]
    },
    {
      "cell_type": "markdown",
      "metadata": {
        "id": "Ba72mKc4jWVR"
      },
      "source": [
        "- **Goldilocks principle**: To classify things, look at their **intermediate’’ features, not too small and not too large."
      ]
    },
    {
      "cell_type": "markdown",
      "metadata": {
        "id": "volP4rM1jeCa"
      },
      "source": [
        "- \"Show me your [code] and conceal your [data structures], and I shall continue to be mystified. Show me your [data structures], and I won't usually need your [code]; it'll be obvious.\" -- Fred Brooks"
      ]
    },
    {
      "cell_type": "markdown",
      "metadata": {
        "id": "fed2kGYUjihj"
      },
      "source": [
        "- \"Rule 5: Data dominates. If you've chosen the right data structures and organized things well, the algorithms will almost always be self-evident. Data structures, not algorithms, are central to programming.\" -- Rob Pike"
      ]
    },
    {
      "cell_type": "markdown",
      "metadata": {
        "id": "llGSxYQwjlv7"
      },
      "source": [
        "- \"What are tensors? The facts of the universe.\" -- Lillian Lieber"
      ]
    },
    {
      "cell_type": "markdown",
      "metadata": {
        "id": "ZqilPeJijqNd"
      },
      "source": [
        "- \"Information is antifragile; it feeds more on attempts to harm it than it does on efforts to promote it.\" - Nassim Nicholas Taleb"
      ]
    },
    {
      "cell_type": "markdown",
      "metadata": {
        "id": "F4Nl_aoLjyvb"
      },
      "source": [
        "* Brains and computers process information in radically different ways, with the constitutive elements of brains – synapses and neurons – exhibiting decidedly inferior performance characteristics, in terms of transmission speed, clock rate, signal-to-noise ratio, etc. Yet somehow, brains still outperform the best computer algorithms in most domains of sensory, motor, and cognitive function."
      ]
    },
    {
      "cell_type": "markdown",
      "metadata": {
        "id": "5TrjYuI7lM79"
      },
      "source": [
        "- Explore the emergent computational mechanisms and principles by which neural ensembles collectively instantiate remarkable behavioral competencies, despite the inherent limitations of messy biological wetware. This biologically-grounded perspective provides important insights in the domains of both neurobiology and neuro-inspired artificial intelligence. On the neurobiological side, we look to identify signatures of these computational mechanisms in actual neurophysiological data; on the artificial intelligence side, we gain an understanding of which biological motifs have been algorithmically implemented and which have not."
      ]
    },
    {
      "cell_type": "markdown",
      "metadata": {
        "id": "F02nD1_KIiuQ"
      },
      "source": [
        "- The McCulloch-Pitts neuron, classification task vs. functional mapping."
      ]
    },
    {
      "cell_type": "markdown",
      "metadata": {
        "id": "yHJWmg7kImRG"
      },
      "source": [
        "- Levels of abstraction: binary threshold unit, firing rate approximation w. linear sum + sigmoidal nonlinearity, leaky integrate-and-fire, Hodgkin-Huxley."
      ]
    },
    {
      "cell_type": "markdown",
      "metadata": {
        "id": "Xm14GsvQIozy"
      },
      "source": [
        "- Simple Perceptron and learning convergence, LMS algorithm, Minsky-Papert critique."
      ]
    },
    {
      "cell_type": "markdown",
      "metadata": {
        "id": "FQHC2CkoIroY"
      },
      "source": [
        "- Different types of learning: unsupervised, supervised, reinforcement."
      ]
    },
    {
      "cell_type": "markdown",
      "metadata": {
        "id": "8RFTa9DLJlmw"
      },
      "source": [
        "- Basic back-propagation (Werbos, Rumelhart et al.), kernel-based methods (radial basis functions) function approximation capability, gradient descent, generalization, biological plausibility."
      ]
    },
    {
      "cell_type": "markdown",
      "metadata": {
        "id": "_W4CG-zuJotf"
      },
      "source": [
        "- Stability, types of equilibrium points, attractor networks, Lyapunov functions."
      ]
    },
    {
      "cell_type": "markdown",
      "metadata": {
        "id": "OB_gZlaWJrDk"
      },
      "source": [
        "- Neuro Dynamical models and content-addressable memory: discrete Hopfield model, pattern completion, storage capacity, energy function, continuous Hopfield model, Cohen-Grossberg Theorem."
      ]
    },
    {
      "cell_type": "markdown",
      "metadata": {
        "id": "oim9rQfsJs9r"
      },
      "source": [
        "- Associative learning vs. auto-associative memory."
      ]
    },
    {
      "cell_type": "markdown",
      "metadata": {
        "id": "NjikwnQyJwYV"
      },
      "source": [
        "- Other models of memory: expansion recording (Marr/Albus model of the cerebellum), Kanerva’s sparse distributed memory, Marr model of the hippocampus."
      ]
    },
    {
      "cell_type": "markdown",
      "metadata": {
        "id": "NnHb0HDIJyb1"
      },
      "source": [
        "- Experimental data on memory: evidence of the cerebellum as an expansion recorder, CA3 as an attractor network, system-level consolidation, synaptic trace theory, engram cells."
      ]
    },
    {
      "cell_type": "markdown",
      "metadata": {
        "id": "B-9n_pljJ0eX"
      },
      "source": [
        "- Unsupervised learning basics: Hebbian learning, PCA, Oja’s rule, Sanger’s rule."
      ]
    },
    {
      "cell_type": "markdown",
      "metadata": {
        "id": "Mc3PydIMJ54x"
      },
      "source": [
        "- Competitive learning: recurrent competitive fields as automatic “gain control” (Grossberg), winner-take-all networks."
      ]
    },
    {
      "cell_type": "markdown",
      "metadata": {
        "id": "fITBY3gaJ-po"
      },
      "source": [
        "- Reinforcement learning, differences with supervised learning, level of biological plausibility."
      ]
    },
    {
      "cell_type": "markdown",
      "metadata": {
        "id": "OxmazqndKB3R"
      },
      "source": [
        "- Experimental data: feature maps in the visual/auditory systems, representation of acoustic sensorimotor structure in birdsong from beginner to expert, evidence of “gain control in V1."
      ]
    },
    {
      "cell_type": "markdown",
      "metadata": {
        "id": "QtaQ0JckKFb7"
      },
      "source": [
        "- Back-propagation through time (Werbos), recurrent neural networks, echo state networks and reservoir computing, Trade-off between Interference and generalization in distributed circuits, how the problem is solved in machine learning, biological solutions, synaptic dynamics."
      ]
    },
    {
      "cell_type": "markdown",
      "metadata": {
        "id": "LHuzZ_R6K1IB"
      },
      "source": [
        "- Adaptive resonance theory (Carpenter and Grossberg)."
      ]
    },
    {
      "cell_type": "markdown",
      "metadata": {
        "id": "yHIRxdWJK-nS"
      },
      "source": [
        "- Serialización"
      ]
    },
    {
      "cell_type": "markdown",
      "metadata": {
        "id": "_5JEBlpqLATA"
      },
      "source": [
        "- Des-serialización"
      ]
    },
    {
      "cell_type": "markdown",
      "metadata": {
        "id": "vbHsFbagLCuN"
      },
      "source": [
        "- \"Capitalism is about adventurers who get harmed by their mistakes, not people who harm others with their mistakes.\" - **Nassim Nicholas Taleb**"
      ]
    },
    {
      "cell_type": "markdown",
      "metadata": {
        "id": "JuiJvSEXLLxv"
      },
      "source": [
        "There’s a progression of understanding I’ve seen over and over. \n",
        "\n",
        "1. Oblivious to exceptions,  \n",
        "2. Aware of exceptions, \n",
        "3. Over-emphasis on exceptions, \n",
        "4. Exceptions in proper perspective. A lot of Twitter snipers are stuck on step \n",
        "\n",
        "Example: \n",
        "1. Dogs have four legs. \n",
        "2. A dog might not have four legs. \n",
        "3. A dog might have any number of legs. Maybe there’s a dog with 13 legs. You never know. \n",
        "4. Dogs nearly always have four legs. \n",
        "- **John D. Cook**"
      ]
    },
    {
      "cell_type": "markdown",
      "metadata": {
        "id": "Sq5mf_b6Lslq"
      },
      "source": [
        "- \"However beautiful the strategy, you should occasionally look at the results.\" -- **Winston Churchill**"
      ]
    },
    {
      "cell_type": "markdown",
      "metadata": {
        "id": "HGroUnopLuRy"
      },
      "source": [
        "- If a headline says \"study shows ...\" see whether it was a simulation study or an empirical study. This might be difficult since the author might not appreciate the difference. -- **John D. Cook**"
      ]
    },
    {
      "cell_type": "markdown",
      "metadata": {
        "id": "70Cw_MPBLxOX"
      },
      "source": [
        "- \"Walking on water and developing software from a specification are easy if both are frozen.\" – **Edward V. Berard**"
      ]
    },
    {
      "cell_type": "markdown",
      "metadata": {
        "id": "GQAsbtx-L6SK"
      },
      "source": [
        "- \"You never cure structural defects; the system corrects itself by collapsing.\" - **@nntaleb**"
      ]
    },
    {
      "cell_type": "markdown",
      "metadata": {
        "id": "39XfqvCCMHsG"
      },
      "source": [
        "- Abandon normal instruments"
      ]
    },
    {
      "cell_type": "markdown",
      "metadata": {
        "id": "xfgQUuzKMJsv"
      },
      "source": [
        "- Accept advice"
      ]
    },
    {
      "cell_type": "markdown",
      "metadata": {
        "id": "Jj9w16gRMLab"
      },
      "source": [
        "- Accretion"
      ]
    },
    {
      "cell_type": "markdown",
      "metadata": {
        "id": "hGuXPBMdMP2x"
      },
      "source": [
        "- A line has two sides"
      ]
    },
    {
      "cell_type": "markdown",
      "metadata": {
        "id": "cJkssxX4MWKJ"
      },
      "source": [
        "- It is easy to overestimate what you can do in a year, and underestimate what you can do in ten. **Patrick Winston**."
      ]
    },
    {
      "cell_type": "markdown",
      "metadata": {
        "id": "zEMiaA0kMaf4"
      },
      "source": [
        "- You cannot get educated by this self propagating system in which people study to pass exams, and teach others to pass exams, but nobody knows anything. **Richard Fayman.**"
      ]
    },
    {
      "cell_type": "markdown",
      "metadata": {
        "id": "skzqmDLTMqqh"
      },
      "source": [
        "- When you try to make fewer mistakes by making fewer mistakes,  you slow down feedback, learn less, and make more mistakes. When you speed feedback you learn more and make fewer mistakes.   **Kent Beck**"
      ]
    },
    {
      "cell_type": "markdown",
      "metadata": {
        "id": "lvDJ95V3Mt_P"
      },
      "source": [
        "- Take feedback from nature and markets, not from people. **Naval**"
      ]
    },
    {
      "cell_type": "markdown",
      "metadata": {
        "id": "p3NsK5HLMxyC"
      },
      "source": [
        "- Make it correct, make it clear, make it concise, make it fast.   **Wes Dyer**"
      ]
    },
    {
      "cell_type": "markdown",
      "metadata": {
        "id": "EP2gpE4oM16c"
      },
      "source": [
        "- The purpose of abstraction is not to be vague, but to create a new semantic level in which one can be absolutely precise. **Edsger Dijkstra**"
      ]
    },
    {
      "cell_type": "markdown",
      "metadata": {
        "id": "De0WNnkaM5i_"
      },
      "source": [
        "- Confía, pero verifica. **Proverbio Ruso**"
      ]
    },
    {
      "cell_type": "markdown",
      "metadata": {
        "id": "zF2V4pQIM9G7"
      },
      "source": [
        "- The scientist seeks to understand what is; the engineer seeks to create what never was. **Von Karman**"
      ]
    },
    {
      "cell_type": "markdown",
      "metadata": {
        "id": "AAisijboNAO3"
      },
      "source": [
        "- Programming is like cooking; in Python, you use pre-made bolognese, in c++ you start from fresh tomatoes and minced meat; in Assembly you have a farm and grow your tomatoes, and raise your cow. **@gr_barroso**"
      ]
    },
    {
      "cell_type": "markdown",
      "metadata": {
        "id": "7vEuNipGNPNG"
      },
      "source": [
        "- The Most dangerous phrase in the English language is it has always been done this way.  **Grace Hopper**"
      ]
    },
    {
      "cell_type": "markdown",
      "metadata": {
        "id": "8eoTLOuhNSUW"
      },
      "source": [
        "- The tools we use have a profound (and devious!) influence on our thinking habits, and therefore, on our thinking abilities. **Edsger W. Dijkstra**"
      ]
    },
    {
      "cell_type": "markdown",
      "metadata": {
        "id": "79Nrg7HANZPv"
      },
      "source": [
        "- Confusion is a feeling that precedes learning something. It means you should pay close attention, not disengage. **Anonimo**"
      ]
    },
    {
      "cell_type": "markdown",
      "metadata": {
        "id": "kj1Ib-BwNbq7"
      },
      "source": [
        "- Debugging is like being the detective in a crime movie where you are also the  murderer. **Felipe Fortes**"
      ]
    },
    {
      "cell_type": "markdown",
      "metadata": {
        "id": "uBOpGjg9NjAG"
      },
      "source": [
        "- If the work doesn't require creativity, delegate it, automate it, or leave it. **Naval**"
      ]
    },
    {
      "cell_type": "markdown",
      "metadata": {
        "id": "XwpwDusUNr8T"
      },
      "source": [
        "- The entire history of software engineering is about raising the level of abstraction. **Grady Booch**"
      ]
    },
    {
      "cell_type": "markdown",
      "metadata": {
        "id": "slV42c0CNt7r"
      },
      "source": [
        "How to become expert at things (**Andrej Kaparty**): \n",
        "\n",
        "1. Iteratively take on concrete projects and accomplish them depth wise, learning  ”on demand” (ie don’t learn bottom up breath wise) \n",
        "\n",
        "2. Teach/summarise everything you learn in your own words. \n",
        "\n",
        "3. Only compare yourself to younger you, never with others. \n"
      ]
    },
    {
      "cell_type": "markdown",
      "metadata": {
        "id": "Zz--GH0fN6zO"
      },
      "source": [
        "Factors of success of a system over different times-scales (army example) (**Francois Chollet**)\n",
        "\n",
        "1. Short term: execution  (ej. To win the next battle: Fight well),  \n",
        "2. Medium term: strategy (to win the year’s battle: strategize well), \n",
        "3. Long term: meta (make a better system) (to win the next work: economic development and tech R&D). "
      ]
    },
    {
      "cell_type": "markdown",
      "metadata": {
        "id": "0ExLiEXQOIaI"
      },
      "source": [
        "- In Practice randomness is incomplete information. **Taleb**"
      ]
    },
    {
      "cell_type": "markdown",
      "metadata": {
        "id": "30zrTNmUOMhb"
      },
      "source": [
        "- “Be curious. Read widely. Try new things. I think a lot of what people call Intelligence boils down to curiosity”.  **Aaron Swartz**"
      ]
    },
    {
      "cell_type": "markdown",
      "metadata": {
        "id": "DHO4t5u9OO7q"
      },
      "source": [
        "- So many of the great ideas of PL are “What if we took X and made it a first-class value?” X -> first-class value,  a procedure -> higher order function  , a stack -> continuations, some code -> quotation."
      ]
    },
    {
      "cell_type": "markdown",
      "metadata": {
        "id": "5zjiQvkrOV7l"
      },
      "source": [
        "- A good predictor in someone who knows *what to predict*. **Taleb**"
      ]
    },
    {
      "cell_type": "markdown",
      "metadata": {
        "id": "vRc6yhDbOZ91"
      },
      "source": [
        "Life as computation: if you zoom out a bit, \n",
        "\n",
        "- DNA is a filesystem, \n",
        "- and evolution is a computer that operates on it. \n",
        "- Environmental fitness (The sum of all interactions of all life forms with their environment and each other) is its input data. - Francois Chollet"
      ]
    },
    {
      "cell_type": "markdown",
      "metadata": {
        "id": "XsFUBCXgOnh4"
      },
      "source": [
        "- Machine learning is about fitting to a  static distribution -- human learning is about gathering knowledge that may turn out to be useful in future that is guaranteed to share little commonality with the past. - **Francois Chollet**\n"
      ]
    },
    {
      "cell_type": "markdown",
      "metadata": {
        "id": "pKp0yf3JQHsN"
      },
      "source": [
        "- The problem with data-driven decisions: you don’t see what happens to the long term. What looks good for metrics right now might kill your product in a few years. It’s like AI: data gives you local generalization but for long term, you need principles. - **Francois Chollet**"
      ]
    },
    {
      "cell_type": "markdown",
      "metadata": {
        "id": "TxclpLGDQ3x1"
      },
      "source": [
        "- Any problem can be treated as a pattern recognition problem if your training data covers a sufficiently dense sampling of the problem space. What’s interesting is what happens when your training data is a spare sampling of the space, to extrapolate, you will need intelligence. - **Francois Chollet**\n"
      ]
    },
    {
      "cell_type": "markdown",
      "metadata": {
        "id": "18IkJ4ANQ9T9"
      },
      "source": [
        "- The purpose of models it to generalise not to optimize. - **Francois Chollet**"
      ]
    },
    {
      "cell_type": "markdown",
      "metadata": {
        "id": "9jvRnrArQ9Sg"
      },
      "source": [
        "- In the  ML model that generalice are those with significant constraints-regularization, limited memory capacity, architecture  encoding, abstract assumptions about the data. - Francois Chollet"
      ]
    },
    {
      "cell_type": "markdown",
      "metadata": {
        "id": "CMSzN1toRKuq"
      },
      "source": [
        "- Thinking scientifically requires intellectual honesty: a desire to get to the truth, not just to gather data to confirm your views. - Francois Chollet"
      ]
    },
    {
      "cell_type": "markdown",
      "metadata": {
        "id": "FZNANM5HRPj8"
      },
      "source": [
        "- Arguably, intelligence is not about learning the latent manifold of some data, it is about taking control of the process that generated it. - **Francois Chollet**"
      ]
    },
    {
      "cell_type": "markdown",
      "metadata": {
        "id": "jIY5vRZCRVo_"
      },
      "source": [
        "- Considering that alternative outcomes could have taken place, that the world could have been different is the core of probabilistic thinking. - **Taleb**"
      ]
    },
    {
      "cell_type": "markdown",
      "metadata": {
        "id": "JEGX_O54RXhV"
      },
      "source": [
        "- In god we trust. All others must bring data. - **Richard Demming**"
      ]
    },
    {
      "cell_type": "markdown",
      "metadata": {
        "id": "Vxu6SlLWRkrf"
      },
      "source": [
        "- General methods that leverage computation are ultimately the most effective, and by a large margin. - **Sutton a bitter lesson**"
      ]
    },
    {
      "cell_type": "markdown",
      "metadata": {
        "id": "A0Hpwl7dR2lP"
      },
      "source": [
        "- Technology is the result of antifragility, exploited by risk takers in the form of tinkering and  trial and error, with nerd driven design confined to the backstage. - **Taleb**"
      ]
    },
    {
      "cell_type": "markdown",
      "metadata": {
        "id": "xTyLHy4jR7YO"
      },
      "source": [
        "- Los conceptos tienen unas definiciones que no se pueden cambiar, y si se hace hay que especificarlo. Y estructuran (organización)  conocimiento. Concepto <symbols | pronunciation |  word | set of words, meaning>\n"
      ]
    },
    {
      "cell_type": "markdown",
      "metadata": {
        "id": "OYftSFpISRU5"
      },
      "source": [
        "- Merely knowing that a different, better way is possible, causes the breakthrough to manifest into existence. Our beliefs determine our outcomes. **Chollet**"
      ]
    },
    {
      "cell_type": "markdown",
      "metadata": {
        "id": "_e4O6J5QSWBb"
      },
      "source": [
        "- To discover something, you must first expect to find it. **Chollet**"
      ]
    },
    {
      "cell_type": "markdown",
      "metadata": {
        "id": "Ujzi-gmfTEcg"
      },
      "source": [
        "**Heilmeier's Catechism** - A set of questions credited to Heilmeier that anyone proposing a research project or product development effort should be able to answer.  \n",
        "\n",
        "1. What are you trying to do? Articulate your objectives using absolutely no jargon. \n",
        "\n",
        "2. How is it done today, and what are the limits of current practice? \n",
        "\n",
        "3. What's new in your approach and why do you think it will be successful? \n",
        "\n",
        "4. Who cares? If you're successful, what difference will it make? \n",
        "\n",
        "5. What are the risks and the payoffs? \n",
        "\n",
        "6. How much will it cost? \n",
        "\n",
        "7. How long will it take? \n",
        "\n",
        "8. What are the midterm and final \"exams\" to check for success? "
      ]
    },
    {
      "cell_type": "markdown",
      "metadata": {
        "id": "VN7aLzgzTbOu"
      },
      "source": [
        "- Among the more egregious sins of our educational system is insistence that the best way to learn is from textbooks, rather than experience, in cloisters, rather than in nature, and from instruction, rather than converse with the wise. **Dee W Hock**\n"
      ]
    },
    {
      "cell_type": "markdown",
      "metadata": {
        "id": "-zqbQeE_T4tI"
      },
      "source": [
        "- **The frequentist approach**:\n",
        "\n",
        "  -  Observe data\n",
        "  -  These data were generated randomly (by Nature, by\n",
        "measurements, by designing a survey, etc...)\n",
        "  -  We made assumptions on the generating process (e.g., i.i.d.,\n",
        "Gaussian data, smooth density, linear regression function,\n",
        "etc...)\n",
        "  -  The generating process was associated to some object of\n",
        "interest (e.g., a parameter, a density, etc...)\n",
        "  -  This object was unknown but fixed and we wanted to find it:\n",
        "we either estimated it or tested a hypothesis about this object,\n",
        "etc... \n"
      ]
    },
    {
      "cell_type": "markdown",
      "metadata": {
        "id": "8dXR3q_iT_uX"
      },
      "source": [
        "- **The bayesian approach**:\n",
        "\n",
        "  - Now, we still observe data, assumed to be randomly generated\n",
        "by some process. Under some assumptions (e.g., parametric\n",
        "distribution), this process is associated with some fixed object.\n",
        "  - We have a prior belief about it.\n",
        "  - Using the data, we want to update that belief and transform\n",
        "it into a posterior belief. "
      ]
    },
    {
      "cell_type": "markdown",
      "metadata": {
        "id": "2brsfLlhULoV"
      },
      "source": [
        "- “The real difference in politics isn't the \"right\" vs \"left\" gradation but rather \"Greek\" vs \"Roman\". Greek = puts theory above practice. Roman= puts practice above theory.  Be Roman. Now.\" - **@nntaleb**"
      ]
    },
    {
      "cell_type": "markdown",
      "metadata": {
        "id": "P5494ekBURBh"
      },
      "source": [
        "- A human being should be able to change a diaper, plan an invasion, butcher a hog, conn a ship, design a building, write a sonnet, balance accounts, build a wall, set a bone, comfort the dying, take orders, give orders, cooperate, act alone, solve equations, analyse a new problem, pitch manure, program a computer, cook a tasty meal, fight efficiently, die gallantly. Specialization is for insects. — **Robert Heinlein**, Time Enough for Love"
      ]
    },
    {
      "cell_type": "markdown",
      "metadata": {
        "id": "0fOO4-QhUrAn"
      },
      "source": [
        "- La historia es “madre de la verdad, émula del tiempo, depósito de las acciones, testigo de lo pasado, ejemplo y aviso de lo presente, advertencia de lo porvenir”. - **Cervantes**"
      ]
    },
    {
      "cell_type": "markdown",
      "metadata": {
        "id": "xGHvQqOvUyF5"
      },
      "source": [
        "- **A statistical model** is a probability distribution constructed to enable inferences to be drawn or decisions made from data."
      ]
    },
    {
      "cell_type": "markdown",
      "metadata": {
        "id": "4PZIA201U5Xz"
      },
      "source": [
        "- \"As countries get rich they start increasing education and the very educated people tend to not like trial and error, because they think they're obligated to use the body of knowledge they have.\" - **Nassim Nicholas Taleb**"
      ]
    },
    {
      "cell_type": "markdown",
      "metadata": {
        "id": "ddLfw6kIVA6e"
      },
      "source": [
        "- “For learning input less and output more”. - **Dr. Robert Bjork**"
      ]
    },
    {
      "cell_type": "markdown",
      "metadata": {
        "id": "xTYyd8mtVGD-"
      },
      "source": [
        "- When programmers say \"I like solving problems\" they really mean \"I like implementing solutions\". - **Einar W. Høst**"
      ]
    },
    {
      "cell_type": "markdown",
      "metadata": {
        "id": "0deh8AfAVL5K"
      },
      "source": [
        "- A single system shouldn't do too much, as that ties the viability & success of the whole to the viability & success of the additional features. Feature expansion means repeatedly taking on additional risk & complexity. Know when to say no. **fchollet**"
      ]
    },
    {
      "cell_type": "markdown",
      "metadata": {
        "id": "VRjsDoYLVQXD"
      },
      "source": [
        "- Compartmentalize risk and complexity: start a new side system. If it fails, at least it doesn't bring down the whole. **Fchollet**"
      ]
    },
    {
      "cell_type": "markdown",
      "metadata": {
        "id": "v89I_qIDVVrK"
      },
      "source": [
        "- \"Social science means inventing a certain brand of human we can understand.\" - **Nassim Nicholas Taleb in The Bed of Procrustes**"
      ]
    },
    {
      "cell_type": "markdown",
      "metadata": {
        "id": "cLeDQU5BVa5C"
      },
      "source": [
        "- \"Too many people think in labels.\" - **Nassim Nicholas Taleb**"
      ]
    },
    {
      "cell_type": "markdown",
      "metadata": {
        "id": "4Y8FmQYwWav5"
      },
      "source": [
        "- Bitcoinism, like Statism, Communism, Soviet Socialism,  Architectural  Modernism, Naive Scale-free Libertarianism, is a severe form of UTOPIANISM (what I called \"Platonicity'' in the Incerto). There is this destructive urge to reinvent utopianism under new unrecognized forms. - **Nassim Nicholas Taleb**\n"
      ]
    },
    {
      "cell_type": "markdown",
      "metadata": {
        "id": "_Ebu0AG6WmAO"
      },
      "source": [
        "- Creo que se podría estimar la probabilidad de éxito de que un equipo saque adelante un proyecto por: A) comprensión lectora B) que los proyectos tengan un vocabulario definido y preciso. La de gente que confunde \"ganar\" con \"ingresar\", \"coste\" con \"precio\", etc - **Andres Torrubia**"
      ]
    },
    {
      "cell_type": "markdown",
      "metadata": {
        "id": "_lMm5PFGWqh7"
      },
      "source": [
        "- To understand the media, it is important to keep in mind that they are in the business of attention, more than information. That is not to say that they don’t care about truth or information, but it is to say that their survival depends on attracting attention. - **Cesar H. Hidalgo**\n"
      ]
    },
    {
      "cell_type": "markdown",
      "metadata": {
        "id": "suszRFHtW2AN"
      },
      "source": [
        "- \"Nature builds things that are antifragile. In the case of evolution, nature uses disorder to grow stronger. Occasional starvation or going to the gym also makes you stronger, because you subject your body to stressors and gain from them.\" - **@nntaleb**"
      ]
    },
    {
      "cell_type": "markdown",
      "metadata": {
        "id": "rzfD6viNW7lS"
      },
      "source": [
        "- If you are a beginner starting with @kaggle, I recommend the following: \n",
        "\n",
        "  -  Start with a couple of playground competitions (< 2 months),  \n",
        "  -  Read solutions from past competitions & implement them yourself, \n",
        "  - Immediately move to an on-going competition w/ prize money (most to learn)  \n",
        "  -  Also, try to join a competition that just recently started, and try to spend half an hour on it *every* day. PS: Don't look at anyone else's notebooks for the 1st 2 weeks. \n",
        "  - Exactly!!! If you look at someone's notebook when the competition has just started, you are compelled to think like them. You don't want that. Do it yourself first then look at what others are doing. I like to look at notebooks early but only the EDA ones and not too detailed.  - **abhi1thakur**\n"
      ]
    },
    {
      "cell_type": "markdown",
      "metadata": {
        "id": "wCuxkogaW7jk"
      },
      "source": [
        "- **Precepto**, Cada una de las instrucciones o reglas que se dan o establecen para el conocimiento o manejo de un arte o facultad.  - RAE\n"
      ]
    },
    {
      "cell_type": "markdown",
      "metadata": {
        "id": "pn3cORkCXU8u"
      },
      "source": [
        "- Ubuntu repositories\n",
        "- Apt cache\n",
        "- Bitacora\n",
        "- User groups in linux\n",
        "- Permission in linux\n",
        "- Execute a container in docker\n",
        "- Snaps app\n",
        "- Disk partition / storage partition\n",
        "- PPA\n",
        "\n"
      ]
    },
    {
      "cell_type": "markdown",
      "metadata": {
        "id": "2rduVtcuXm6b"
      },
      "source": [
        "- [Language Models](https://en.wikipedia.org/wiki/Language_model)"
      ]
    },
    {
      "cell_type": "markdown",
      "metadata": {
        "id": "pYzCEHdQYR31"
      },
      "source": [
        "- Bayesian network based  help desk\n",
        "- Markov Decision process\n",
        "- Self adjustment computation\n",
        "- Incremental computation\n",
        "- Directly computational problems\n",
        "- Indirectly computational problems\n"
      ]
    },
    {
      "cell_type": "markdown",
      "metadata": {
        "id": "Fnlw3WxXYZQW"
      },
      "source": [
        "- Ld-preload\n",
        "- Interposing\n",
        "- Signal hooking\n"
      ]
    },
    {
      "cell_type": "markdown",
      "metadata": {
        "id": "8KkWTeANYdj3"
      },
      "source": [
        "- Skill rating system\n",
        "- Conversational interfaces\n",
        "- Prediction markets\n"
      ]
    },
    {
      "cell_type": "markdown",
      "metadata": {
        "id": "b9KMwlhkYiKk"
      },
      "source": [
        "- Topology\n",
        "- Maths vs computer science\n",
        "- Monte carlo tree search\n",
        "- Embedding\n",
        "- Local computation\n",
        "- Batch processing\n"
      ]
    },
    {
      "cell_type": "markdown",
      "metadata": {
        "id": "erxf69kcYvuL"
      },
      "source": [
        "- Probability distribution\n",
        "- Joint probability distribution\n",
        "- Summary -> granularity\n",
        "- High-dimensional statistics\n",
        "- High-dimensional probability\n",
        "- What can I do when I know a probability distribution?\n"
      ]
    },
    {
      "cell_type": "markdown",
      "metadata": {
        "id": "9PbevF2PY_Pd"
      },
      "source": [
        "- Verificar la calidad de mi vocabulario, para eso grabar lo que hablo por semanas, y verificar las palabras que uso."
      ]
    },
    {
      "cell_type": "markdown",
      "metadata": {
        "id": "xCUj2u4ZZCHm"
      },
      "source": [
        "- Computational irreducibility"
      ]
    },
    {
      "cell_type": "markdown",
      "metadata": {
        "id": "4I0LGwstZCFw"
      },
      "source": [
        "- End-to-End data processing system"
      ]
    },
    {
      "cell_type": "markdown",
      "metadata": {
        "id": "f9LEeNaQZMcn"
      },
      "source": [
        "- Service availability\n",
        "- Up time of software systems\n",
        "- Log all cpu-instructions that a program is executing\n",
        "- Data-flow vs control flow\n",
        "- Latency\n",
        "- Container file system\n"
      ]
    },
    {
      "cell_type": "markdown",
      "metadata": {
        "id": "aCuCqNGMZQrE"
      },
      "source": [
        "- Computation time \n",
        "- Sim locked\n",
        "- Flashing  a cell phone to linux\n",
        "- Bootloader for you device is unlocked \n",
        "- Routing a phone\n",
        "- Convert a simple phone in a server \n",
        "- Virtual threads\n",
        "- Os threads\n"
      ]
    },
    {
      "cell_type": "markdown",
      "metadata": {
        "id": "JgGjPmxeZYTi"
      },
      "source": [
        "- Bitset, bitmap\n",
        "- BItmap index\n",
        "- HISTFILE\n"
      ]
    },
    {
      "cell_type": "markdown",
      "metadata": {
        "id": "0B1_KIFaZqGn"
      },
      "source": [
        "- Text encoding"
      ]
    },
    {
      "cell_type": "markdown",
      "metadata": {
        "id": "kE3ieuv9ZoST"
      },
      "source": [
        "- Why are gpu good at matrix multiplication?"
      ]
    },
    {
      "cell_type": "markdown",
      "metadata": {
        "id": "1ayP4ycQZlDs"
      },
      "source": [
        "- Conceptual integrity"
      ]
    },
    {
      "cell_type": "markdown",
      "metadata": {
        "id": "I6ZOc_CwZhYc"
      },
      "source": [
        "- Session:a temporary and interactive information interchange between two or more communication devices."
      ]
    },
    {
      "cell_type": "markdown",
      "metadata": {
        "id": "rul9kFlcZitf"
      },
      "source": [
        "- Learning and reading ~ upgrading your mental models."
      ]
    },
    {
      "cell_type": "markdown",
      "metadata": {
        "id": "rJFKZDkoZuX8"
      },
      "source": [
        "- Short  term desire is addiction, Long term desire is purpose."
      ]
    },
    {
      "cell_type": "markdown",
      "metadata": {
        "id": "X94QLN_XZxql"
      },
      "source": [
        "- Yield\n",
        "- Generator\n",
        "- Lazy evaluation\n",
        "- Eager evaluation\n"
      ]
    },
    {
      "cell_type": "markdown",
      "metadata": {
        "id": "JXwPosefZ3Ea"
      },
      "source": [
        "- Bayesian optimization\n",
        "- Auto ml - platform"
      ]
    },
    {
      "cell_type": "markdown",
      "metadata": {
        "id": "C4szkuvYZ7Ii"
      },
      "source": [
        "- Parallel computing"
      ]
    },
    {
      "cell_type": "markdown",
      "metadata": {
        "id": "dLztUVkGawoY"
      },
      "source": [
        "- Logging executed command files in bash\n",
        "- Prompt-command\n",
        "- Ssh session\n",
        "- Ssh keys"
      ]
    },
    {
      "cell_type": "markdown",
      "metadata": {
        "id": "j-r6sthdbAB5"
      },
      "source": [
        "- Closure"
      ]
    },
    {
      "cell_type": "markdown",
      "metadata": {
        "id": "R1GWNlR1bGcj"
      },
      "source": [
        "- Training loop\n",
        "- Grid and cluster computing"
      ]
    },
    {
      "cell_type": "markdown",
      "metadata": {
        "id": "GF7WfdjRbNHH"
      },
      "source": [
        "- Electromagnetism\n",
        "- Classical field theories\n",
        "- Hamiltonian dynamics\n",
        "- Gravitational potential energy\n",
        "\n"
      ]
    },
    {
      "cell_type": "markdown",
      "metadata": {
        "id": "ezwAkAqtbVAJ"
      },
      "source": [
        "- Devenir de la historia\n",
        "- Equilibrios de poder\n",
        "- Entidad o unidad política\n",
        "- Anacronismo"
      ]
    },
    {
      "cell_type": "markdown",
      "metadata": {
        "id": "Rx3M6iDPbatv"
      },
      "source": [
        "- Decision support system\n",
        "- Simulations\n",
        "- Anomaly detection\n",
        "- Summarization\n",
        "- Association rule mining\n",
        "- Ensemble mining\n",
        "- Intention mining"
      ]
    },
    {
      "cell_type": "markdown",
      "metadata": {
        "id": "PUz2ZrMYbarn"
      },
      "source": [
        "- Dynamic Linking (Loading library at run time)\n",
        "- Static Linking\n"
      ]
    },
    {
      "cell_type": "markdown",
      "metadata": {
        "id": "B4-4o-c9aFd1"
      },
      "source": [
        "- Agent-based modeling and simulation\n",
        "- Mathematical description of field theories\n",
        "- Data manifolds\n",
        "- Generalization\n",
        "- Facturas digitales\n",
        "- Signed documents\n",
        "- Homeostasis\n",
        "- Simultaneous equations\n",
        "- Systems of equations\n",
        "- Energy storage industry\n",
        "- Production chain\n",
        "- Prediction machines\n",
        "- Data  poisoning\n",
        "- Tinkerer\n",
        "- Simulation models\n",
        "- Market Design\n",
        "- Rate\n",
        "- Ratio\n",
        "- Goodharr’t law\n",
        "- Frontera tecnologica\n",
        "- Random number generator\n",
        "- Random seed\n",
        "- Memorizing the data distribution\n",
        "- Catchup and technological upgrading\n",
        "- Policity space and kitching away the ladder\n",
        "- Rabbit hole"
      ]
    },
    {
      "cell_type": "markdown",
      "metadata": {
        "id": "0mmWJ0qvamoo"
      },
      "source": [
        "- Model Compression\n",
        "- Hybrid AI\n",
        "- Knowledge basis\n",
        "- Ml ops\n",
        "- Deep RL\n",
        "- GNNs\n",
        "- Clustering\n",
        "- Neural Network\n",
        "- Topic Modelling\n",
        "- Graph analysis\n",
        "- Classification"
      ]
    },
    {
      "cell_type": "markdown",
      "metadata": {
        "id": "jJlZOhTneiJk"
      },
      "source": [
        "- A **range query** is a common database operation that retrieves all records where some value is between an upper and lower boundary."
      ]
    },
    {
      "cell_type": "markdown",
      "metadata": {
        "id": "_RbeHCRCeq84"
      },
      "source": [
        "- Cluster Index\n",
        "- Non-Cluster Index\n"
      ]
    },
    {
      "cell_type": "markdown",
      "metadata": {
        "id": "_FeesF9IT6nD"
      },
      "source": [
        "[Comentario : Académico de Harvard desmenuza la cultura empresarial chilena que frena el crecimiento](https://www.ciperchile.cl/2015/10/20/academico-de-harvard-desmenuza-la-cultura-empresarial-chilena-que-frena-el-crecimiento/) \n",
        "\n",
        "- Soy ingeniero civil de una universidad tradicional ligada históricamente a sectores populares. La educación fue clave en mi vida, no tanto por los conocimientos (3/4 de lo que estudié hoy es obsoleto), sino que para aprender a encontrar información y relacionarme con gente diversa. Hoy diseño y dirijo la fabricación de equipos médicos en China y Estados Unidos, algunos sumamente complejos y con certificaciones UL que permiten su uso en hospitales de Estados Unidos. He viajado bastante, tengo libertad financiera, y hace muchos años que no mandó un currículum a empresas chilenas. Algunos consejos para emprendedores: \n",
        "\n",
        "  1- Tu idea SI se puede, funciona, y hay mercado e inversionistas para tu idea. \n",
        "  \n",
        "  2- No busques nada en Chile, ni trabajo ni socios, porque van a contaminar tu emprendimiento con la idiosincrasia nacional. \n",
        "  \n",
        "  3- Aprende Inglés, El 11% de Internet está en castellano, no hablar inglés es como no tener computador. \n",
        "  \n",
        "  4- Busca oportunidades en países más distintos a Chile y más ricos. Las oportunidades están en las diferencias. No sirve vendernos cosas dentro del barrio entre latinos pobres, eso sólo le sirve a los Paulmann o a LAN. \n",
        "  \n",
        "  5- Busca un nicho poco explotado en el Extranjero, y especialízate en esa área. Sé el mejor y el único en el tema. \n",
        "  \n",
        "  6- Si puedes, invita inversionistas a Chile, a generar competencia y despertar de la siesta a los Matte, los Saieh y los demás monopolios, que alguna vez conozcan el stress de tener competencia y cuidar al cliente, igual que cualquier Pyme.\n"
      ]
    },
    {
      "cell_type": "markdown",
      "metadata": {
        "id": "0rKj2ItwmjBc"
      },
      "source": [
        "- **Inversion**: Avoiding stupidity is easier than trying to be brilliant. Instead of asking, “How can I help my company?” you should ask, “What’s hurting my company the most and how can I avoid it?” Identify obvious failure points, and steer clear of them."
      ]
    },
    {
      "cell_type": "markdown",
      "metadata": {
        "id": "SCB3QfYHmmCd"
      },
      "source": [
        "- **Doublespeak**: People often say the opposite of what they mean, especially in political language. It allows people to lie while looking like they’re telling the truth. As George Orwell famously wrote in 1984, “War is peace. Freedom is slavery. Ignorance is strength.” "
      ]
    },
    {
      "cell_type": "markdown",
      "metadata": {
        "id": "AQNk7lTOniHN"
      },
      "source": [
        "- **Theory of Constraints**: A system is only as strong as its weakest point. Focus on the bottleneck. Counterintuitively, if you break down the entire system and optimize each component individually, you’ll lower the effectiveness of the system. Optimize the entire system instead.\n",
        "\n",
        "  ![Theory Of Constrains](https://i0.wp.com/perell.com/wp-content/uploads/2020/05/IMG_84AE72B0BEE6-1.jpeg?w=750&ssl=1 \"Theory of Constrains\")"
      ]
    },
    {
      "cell_type": "markdown",
      "metadata": {
        "id": "ya8gDzZ2n0nq"
      },
      "source": [
        "- **Preference Falsification**: People lie about their true opinions and conform to socially acceptable preferences instead. In private they’ll say one thing. In public, they’ll say another. "
      ]
    },
    {
      "cell_type": "markdown",
      "metadata": {
        "id": "eFd2JOSyoAJZ"
      },
      "source": [
        "- **Mimetic Theory of Desire**: Humans are like sheep. We don’t know what we want, so we imitate each other. Instead of creating our own desires, we desire the same things as other people. The entire advertising industry is built on this idea. "
      ]
    },
    {
      "cell_type": "markdown",
      "metadata": {
        "id": "WXQvD9n6oEC2"
      },
      "source": [
        "- **Mimetic Theory of Conflict**: People who are similar are more likely to fight than people who are different. That’s why Civil Wars and family feuds create the worst conflicts. The closer two people are and the more equality between them, the greater the potential for conflict."
      ]
    },
    {
      "cell_type": "markdown",
      "metadata": {
        "id": "fvWiGawToJAL"
      },
      "source": [
        "- **Talent vs. Genius**: Society is good at training talent but terrible at cultivating genius. Talented people are good at hitting targets others can’t hit, but geniuses find targets others can’t see. They are opposite modes of excellence. Talent is predictable, genius is unpredictable. "
      ]
    },
    {
      "cell_type": "markdown",
      "metadata": {
        "id": "8PbpgqWJoRm7"
      },
      "source": [
        "- **Competition is for Losers**: Avoid competition. Stop copying what everybody else is doing. If you work at a for-profit company, work on problems that would not otherwise be solved. If you’re at a non-profit, fix unpopular problems. Life is easier when you don’t compete. (Hint: don’t start another bottled water company). "
      ]
    },
    {
      "cell_type": "markdown",
      "metadata": {
        "id": "-6_pZ_vuoaSx"
      },
      "source": [
        "- **The Never-Ending Now**: The structure of our social media feeds blinds us to history, as it causes us to live in an endless cycle of ephemeral content consumption. The structure of the Internet pulls people away from age-old wisdom. "
      ]
    },
    {
      "cell_type": "markdown",
      "metadata": {
        "id": "Ln1ur90npexK"
      },
      "source": [
        "- **Look for Things That Don’t Make Sense**: The world always makes sense. But it can be confusing. When it is, your model of the world is wrong. So, things that don’t make sense are a learning opportunity. Big opportunities won’t make sense until it’s too late to profit from them. "
      ]
    },
    {
      "cell_type": "markdown",
      "metadata": {
        "id": "sMGMYDTYqh-H"
      },
      "source": [
        "- **Opportunity Cost**: By reading this tweet, you are choosing not to read something else. Everything we do is like this. Doing one thing requires giving up another. Whenever you explicitly choose to do one thing, you implicitly choose not to do another thing. \n"
      ]
    },
    {
      "cell_type": "markdown",
      "metadata": {
        "id": "eamjZRMBqmlS"
      },
      "source": [
        "- **Overton Window**: You can control thought without limiting speech. You can do it by defining the limits of acceptable thought while allowing for lively debate within these barriers. For example, Fox News and MSNBC set limits on what political thoughts they consider acceptable, but in the grand scheme of things, they’re both fairly conventional. The political spectrum stretches far beyond the ideas they entertain, but ideas outside their limits are shunned. "
      ]
    },
    {
      "cell_type": "markdown",
      "metadata": {
        "id": "pdLxllSTqpm7"
      },
      "source": [
        "- **Planck’s Principle**: Science doesn’t progress because people change their views. Rather, each new generation of scientists has different views. As old generations pass away, new ideas are accepted and the scientific consensus changes."
      ]
    },
    {
      "cell_type": "markdown",
      "metadata": {
        "id": "_EEh3TiqqzEB"
      },
      "source": [
        "- **Bike-Shed Effect**: A group of people working on a project will fight over the most trivial ideas. They’ll ignore what’s complicated. They’ll focus too much on easy-to-understand ideas at the expense of important, but hard to talk about ideas. For example, instead of approving plans for a complicated spaceship, the team would argue over the color of the astronaut’s uniforms."
      ]
    },
    {
      "cell_type": "markdown",
      "metadata": {
        "id": "VEXjaPdbrKxj"
      },
      "source": [
        "- **Goodhart’s Law**: When a measure becomes a target, it ceases to be a good measure. One hospital took too long to admit patients so a penalty was given for 4+ hour wait times. In response, ambulance drivers were asked to slow down so they could shorten wait times. "
      ]
    },
    {
      "cell_type": "markdown",
      "metadata": {
        "id": "cQUGehlCri0y"
      },
      "source": [
        "- **Gall’s Law**: A complex system that works is invariably found to have evolved from a simple system that worked. A complex system designed from scratch never works and cannot be patched up to make it work. You have to start over with a working simple system."
      ]
    },
    {
      "cell_type": "markdown",
      "metadata": {
        "id": "F2mFsJ9Crnvz"
      },
      "source": [
        "- **Hock Principle**: Simple, clear purpose and principles give rise to complex and intelligent behavior. Complex rules and regulations give rise to simple and stupid behavior."
      ]
    },
    {
      "cell_type": "markdown",
      "metadata": {
        "id": "tftCsTyWrsuh"
      },
      "source": [
        "- **Parkinson’s Law**: Work expands to fill the time available. People don’t want to look like they’re lazy, so they find extra tasks to tackle, even if they’re trivial. If you have six months to complete a project, it will take six months to complete. Set deadlines accordingly.  "
      ]
    },
    {
      "cell_type": "markdown",
      "metadata": {
        "id": "dAK0sVQyr-yH"
      },
      "source": [
        "- **The Second Law of Thermodynamics**: The world tends towards disorder. That’s why your room becomes messier and messier over time. It’s also why an engine converts only ~35% of its energy into useful work. Time moves towards increasing one direction: increasing entropy. "
      ]
    },
    {
      "cell_type": "markdown",
      "metadata": {
        "id": "UDk9ATEHsLTV"
      },
      "source": [
        "- **The Paradox of Specificity**: Focus isn’t as constraining as it seems. In the age of the Internet, when everybody has Google search and personalized social media feeds, differentiation is free marketing. The more specific your goal, the more opportunities you’ll create for yourself. Narrowing your aperture can expand your horizons."
      ]
    },
    {
      "cell_type": "markdown",
      "metadata": {
        "id": "f8BbV6uosNgB"
      },
      "source": [
        "- **Emergence**: When things interact, they often birth new, unpredictable forms. Therefore, the sum total of a system is more than its component parts. As a system evolves, its structure can transform — just like how water becomes cold water until it turns into ice. \n",
        "\n"
      ]
    },
    {
      "cell_type": "markdown",
      "metadata": {
        "id": "YjXbhh0MsQK8"
      },
      "source": [
        "- **Occam’s Razor**: If there are multiple explanations for why something happened and they are equally persuasive, assume the simplest one is true. In the search for truth, remove unnecessary assumptions. Trust the lowest-complexity answer. "
      ]
    },
    {
      "cell_type": "markdown",
      "metadata": {
        "id": "a3o0DhdzsTlT"
      },
      "source": [
        "- **Hickam’s Dictum**: The opposite of Occam’s Razor. In a complex system, problems usually have more than one cause. For example, in medicine, people can have many diseases at the same time."
      ]
    },
    {
      "cell_type": "markdown",
      "metadata": {
        "id": "5KNg2D5jsZmm"
      },
      "source": [
        "- **Hormesis**: A low dose of something can have the opposite effect of a high dose. A little bit of stress wakes you up, but a lot of stress is bad for you. Lifting weights for 30 minutes per day is good for you, but lifting weights for 6 hours per day will destroy your muscles. Stress yourself, but not too much.\n",
        "\n",
        "  ![Hormesis Image](https://i2.wp.com/perell.com/wp-content/uploads/2020/05/IMG_46D1ADA6A988-1.jpeg?w=750&ssl=1)\n"
      ]
    },
    {
      "cell_type": "markdown",
      "metadata": {
        "id": "j_kaHhtTseZ4"
      },
      "source": [
        "- **Robustness Principle**: Be conservative in what you do, be liberal in what you accept from others. It’s a design guideline for software and a good rule for life: Hold yourself to a higher standard than you hold others to."
      ]
    },
    {
      "cell_type": "markdown",
      "metadata": {
        "id": "wG_HAEFds7pi"
      },
      "source": [
        "- **Legibility**: We are blind to what we cannot measure. Not everything that counts can be measured, and not everything that can be measured counts. But people manage what they can measure, so society repeats the same mistakes."
      ]
    },
    {
      "cell_type": "markdown",
      "metadata": {
        "id": "ioND-xFJtCdN"
      },
      "source": [
        "- **Horseshoe Theory**: Extreme opposites tend to look the same. For example, a far-right movement and a far-left movement can be equally violent or desire a similar outcome. People on both sides are more similar to each other than they are to people in the center. \n",
        "\n",
        "  ![Horseshoe Theory Image](https://i0.wp.com/perell.com/wp-content/uploads/2020/05/IMG_0E123649120C-1.jpeg?w=750&ssl=1)"
      ]
    },
    {
      "cell_type": "markdown",
      "metadata": {
        "id": "8b1Aun0KtMm7"
      },
      "source": [
        "- **Availability Cascade**: A self-reinforcing cycle that creates collective beliefs. An idea will gain traction once it enters the mainstream, which triggers a chain reaction, which causes lots of people to adopt it not because it’s true but because it’s popular. "
      ]
    },
    {
      "cell_type": "markdown",
      "metadata": {
        "id": "b4zEKMUMus5y"
      },
      "source": [
        "- **The Invisible Hand**: Markets aggregate knowledge. Rising prices signal falling supply or increased demand, which incentivizes an increase in production. The opposite is true for falling prices. Prices are a signal wrapped in an incentive."
      ]
    },
    {
      "cell_type": "markdown",
      "metadata": {
        "id": "4wMeD787u9jG"
      },
      "source": [
        "- **Circle of Competence**: Define the limits of your knowledge. Hint: the limits are smaller than you think. That’s because being an expert in one area doesn’t make you an expert in anything else. Be clear about what you know and don’t know. "
      ]
    },
    {
      "cell_type": "markdown",
      "metadata": {
        "id": "npnxfNjkvKFi"
      },
      "source": [
        "- **Convexity**: If you want to be lucky, look for opportunities with big upsides and low downsides. In addition to increased optionality, your errors will benefit you more than they harm you. Convex payoffs let you tinker your way to success and innovation. \n",
        "\n",
        "  ![Convexity Image](https://i2.wp.com/perell.com/wp-content/uploads/2020/05/IMG_C2C2C27DDDCD-1.jpeg?w=750&ssl=1)"
      ]
    },
    {
      "cell_type": "markdown",
      "metadata": {
        "id": "sOSxgr7uvlLT"
      },
      "source": [
        "- **The Go-For-It Window**: Large gaps between accelerating technologies and stagnating social norms create lucrative new business opportunities. But they are only available for a short time when people can capitalize on the difference between the real and perceived state of the world. For example, 2007 was the perfect time to launch the iPhone, but Google Glasses launched too early."
      ]
    },
    {
      "cell_type": "markdown",
      "metadata": {
        "id": "XXyq9La_vuIH"
      },
      "source": [
        "- **Via Negativa**: When we have a problem, our natural instinct is to add a new habit or purchase a fix. But sometimes, you can improve your life by taking things away. For example, the foods you avoid are more important than the foods you eat."
      ]
    },
    {
      "cell_type": "markdown",
      "metadata": {
        "id": "J5yhRl1pwedQ"
      },
      "source": [
        "- **Resource Curse**: Countries with an abundance of natural resources such as diamonds and fossil fuels tend to have less economic growth and worse development than countries with fewer natural resources. "
      ]
    },
    {
      "cell_type": "markdown",
      "metadata": {
        "id": "Kmk5YjJ6wlsl"
      },
      "source": [
        "- **The Paradox of Abundance**: The average quality of information is getting worse and worse. But the best stuff is getting better and better. Markets of abundance are simultaneously bad for the median consumer but good for conscious consumers."
      ]
    },
    {
      "cell_type": "markdown",
      "metadata": {
        "id": "Lmp6-z5nwqDB"
      },
      "source": [
        "- **The Map Is Not the Territory**: Reality will never match the elegance of theory. All models have inconsistencies, but some are still useful. Some maps are useful because they’re inaccurate. If you want to find an edge, look for what the map leaves out.  "
      ]
    },
    {
      "cell_type": "markdown",
      "metadata": {
        "id": "-aFhk6kBw8FJ"
      },
      "source": [
        "- **Baker’s Dozen**: The key to good hospitality is to delight your guests with an unexpected gift. If you run a hotel, leave a chocolate on the bed. If you run a bakery, give your customers one extra bagel. If you write a tweetstorm, share an extra idea. "
      ]
    },
    {
      "cell_type": "markdown",
      "metadata": {
        "id": "66YYxFipza2u"
      },
      "source": [
        "- Not fully and fully connected to the social network."
      ]
    },
    {
      "cell_type": "markdown",
      "metadata": {
        "id": "Bq1dBDX6zc0Q"
      },
      "source": [
        "- Language is an imperfect, incomplete, and low-bandwidth serialization protocol for the internal data structures we call thoughts. - Yann Lecun"
      ]
    },
    {
      "cell_type": "markdown",
      "metadata": {
        "id": "1XzfJ4x2zfMN"
      },
      "source": [
        "- Ergodicity: If you watch a stochastic process long enough you're going to see every possible outcome. Not only that, but also you can obtain the probabilities of such outcomes."
      ]
    },
    {
      "cell_type": "markdown",
      "metadata": {
        "id": "2Qy6jhZazhkH"
      },
      "source": [
        "- gcc: .c -> .cc preprocessing </br> .cc -> .as (c- compilar) </br> .as -> .obj (a.out executable)"
      ]
    },
    {
      "cell_type": "markdown",
      "metadata": {
        "id": "O0zMXogbzkX2"
      },
      "source": [
        "- [flags]  in enums for permission."
      ]
    },
    {
      "cell_type": "markdown",
      "metadata": {
        "id": "dR08biK5zspi"
      },
      "source": [
        "- docker."
      ]
    },
    {
      "cell_type": "markdown",
      "metadata": {
        "id": "k8NOYhI7z1VK"
      },
      "source": [
        "- Alternatives to backpropagation para  buscar al anillo.\n"
      ]
    },
    {
      "cell_type": "markdown",
      "metadata": {
        "id": "g2exEZiRz3IH"
      },
      "source": [
        "- Talk is easy but not very effective. Building is hard, but makes a real impact.\n"
      ]
    },
    {
      "cell_type": "markdown",
      "metadata": {
        "id": "DlbNJWycz4jC"
      },
      "source": [
        "- Underlying techniques of a software system."
      ]
    },
    {
      "cell_type": "markdown",
      "metadata": {
        "id": "wTboPkqyz7Tu"
      },
      "source": [
        "**The MIT Formula**: Theory  + Experiment =  discovery.\n",
        "\n",
        "- Academics, Deparments + Research, laboratories = discovery. \n",
        "- Note that implementing this formula often reduces to software and bytes."
      ]
    },
    {
      "cell_type": "markdown",
      "metadata": {
        "id": "fdPveeZO0JOl"
      },
      "source": [
        "- DMA: Direct memory access.\n",
        "- MPI: Message Passing.\n",
        "- DA: Distributed Arrays.\n",
        "- MW: Manager/Worker\n",
        "- MR: Map Reduce\n",
        "- DMR: Dynamic Distributed Dimensional Data Model"
      ]
    },
    {
      "cell_type": "markdown",
      "metadata": {
        "id": "JRpiopkF0LBg"
      },
      "source": [
        "- Statistical Signal\n",
        "- ML Inference as a Service."
      ]
    },
    {
      "cell_type": "markdown",
      "metadata": {
        "id": "omFY26XI0QaA"
      },
      "source": [
        "- **Research Program**: refers to a common thread of research that shares similar assumptions, methodology, etc."
      ]
    },
    {
      "cell_type": "markdown",
      "metadata": {
        "id": "CDC_iZLl0TWf"
      },
      "source": [
        "- Your product is an asset, your code is a liability."
      ]
    },
    {
      "cell_type": "markdown",
      "metadata": {
        "id": "t0r2rYPZ0U83"
      },
      "source": [
        "- Duplication is less costly than premature abstraction."
      ]
    },
    {
      "cell_type": "markdown",
      "metadata": {
        "id": "wC4zbgzU0Xbg"
      },
      "source": [
        "- Feedback loop as function composition, f(x) ->  f(f(x)) -> …"
      ]
    },
    {
      "cell_type": "markdown",
      "metadata": {
        "id": "jpxQkG_20ZJW"
      },
      "source": [
        "- Goodhart’s law: When a metric becomes a target it ceases to be a good metric."
      ]
    },
    {
      "cell_type": "markdown",
      "metadata": {
        "id": "8xtdY0N50bLQ"
      },
      "source": [
        "- Decreasing return (negative feedback)"
      ]
    },
    {
      "cell_type": "markdown",
      "metadata": {
        "id": "b5JrHapx0dKe"
      },
      "source": [
        "- Increasing return (positive feedback) (unstable equilibrium)"
      ]
    },
    {
      "cell_type": "markdown",
      "metadata": {
        "id": "yzTgPBa80gJl"
      },
      "source": [
        "- Economic surpluses.\n",
        "- Economic simulation software."
      ]
    },
    {
      "cell_type": "markdown",
      "metadata": {
        "id": "qPhj4S7O0iRC"
      },
      "source": [
        "- Control theory vs Reinforcement Learning."
      ]
    },
    {
      "cell_type": "markdown",
      "metadata": {
        "id": "YOKTCIZZ0kLI"
      },
      "source": [
        "- Real Wage."
      ]
    },
    {
      "cell_type": "markdown",
      "metadata": {
        "id": "g2RRvmBV0mW3"
      },
      "source": [
        "- How to get startup ideas: The way to get startup ideas is not to try to think of startup ideas. It’s to look for problems, preferably problems you have yourself."
      ]
    },
    {
      "cell_type": "markdown",
      "metadata": {
        "id": "ZFUA0K700oNs"
      },
      "source": [
        "The best startup ideas tend to have three things in common: \n",
        "\n",
        "1. There's something the founders want themselves.\n",
        "2. That they themselves can build.\n",
        "3. And that few others realize are worth doing.\n",
        "Build in order to learn."
      ]
    },
    {
      "cell_type": "markdown",
      "metadata": {
        "id": "GIk0bfa_0_kA"
      },
      "source": [
        "How to think clearly?\n",
        "\n",
        "1. Problem definition.\n",
        "2. Information gathering.\n",
        "3. Structuring the problem space.\n",
        "4. Identify knowledge gaps, fill or or postpone.\n",
        "5. Note ideas, don’t dive in.\n",
        "6. Research prior-art.\n",
        "7. Solving big to small.\n",
        "8. Full concept.\n",
        "9. Intermediate goals and stepping stones.\n",
        "10. Build, learn, adjust, iterate."
      ]
    },
    {
      "cell_type": "markdown",
      "metadata": {
        "id": "Kc4HRlFk1Caf"
      },
      "source": [
        "-  **How to start in a new field**:  Search classics papers of field x."
      ]
    },
    {
      "cell_type": "markdown",
      "metadata": {
        "id": "wrEST6wj1MKY"
      },
      "source": [
        "- Comparing apple to apple."
      ]
    },
    {
      "cell_type": "markdown",
      "metadata": {
        "id": "-BXjX4y31Npd"
      },
      "source": [
        "- Stream processing."
      ]
    },
    {
      "cell_type": "markdown",
      "metadata": {
        "id": "l_iROjjw1PX7"
      },
      "source": [
        "- Predicting scientific breakthroughs."
      ]
    },
    {
      "cell_type": "markdown",
      "metadata": {
        "id": "yhcmoOYQ1WFI"
      },
      "source": [
        "- The only learning “style” is the one you used as a child."
      ]
    },
    {
      "cell_type": "markdown",
      "metadata": {
        "id": "lcbD9XeP1TzM"
      },
      "source": [
        "How to become great at anything: \n",
        "\n",
        "1. Start with basics. What are the 20% of actions that produce 80% of results. \n",
        "2. Create a situation where you receive reliable feedback, quickly. \n",
        "3. Take the feedback . Iterate. Improve. \n",
        "4. Do this roughly 5k-10k hrs. \n",
        "5. Voila. You’re a badass."
      ]
    },
    {
      "cell_type": "markdown",
      "metadata": {
        "id": "m_7gARa91fO3"
      },
      "source": [
        "- A/B test."
      ]
    },
    {
      "cell_type": "markdown",
      "metadata": {
        "id": "lNkGlVQl1sHZ"
      },
      "source": [
        "- Naked objects.\n",
        "- Interoperable software."
      ]
    },
    {
      "cell_type": "markdown",
      "metadata": {
        "id": "3j63bbG51vr_"
      },
      "source": [
        "- Monte Carlo Simulation (using randomness to solve problems)."
      ]
    },
    {
      "cell_type": "markdown",
      "metadata": {
        "id": "b09JG07x1xgI"
      },
      "source": [
        "- CRDT (Conflict-free replicated data types)"
      ]
    },
    {
      "cell_type": "markdown",
      "metadata": {
        "id": "m9TF8dh-1zGn"
      },
      "source": [
        "- Centrifugal governor."
      ]
    },
    {
      "cell_type": "markdown",
      "metadata": {
        "id": "Mt3o4fzR10qf"
      },
      "source": [
        "- Machines that make machines."
      ]
    },
    {
      "cell_type": "markdown",
      "metadata": {
        "id": "L5_rXDdg12Ek"
      },
      "source": [
        "- The term ML model refers to the model artifact that is created by the training process."
      ]
    },
    {
      "cell_type": "markdown",
      "metadata": {
        "id": "PufQwy0P13eU"
      },
      "source": [
        "- **KPI**: Rates, Impressions, Conversion rates, operatantes, ROAS, page views, ROI, CPM, CPC, impression share, average position, sessions."
      ]
    },
    {
      "cell_type": "markdown",
      "metadata": {
        "id": "4I6KoHxi15vy"
      },
      "source": [
        "- Multiplicative effects."
      ]
    },
    {
      "cell_type": "markdown",
      "metadata": {
        "id": "TzyGnFvr19Hi"
      },
      "source": [
        "- Mathematics is the art of clear thinking."
      ]
    },
    {
      "cell_type": "markdown",
      "metadata": {
        "id": "WhEWrlvE1-vV"
      },
      "source": [
        "- True skill (Microsoft)."
      ]
    },
    {
      "cell_type": "markdown",
      "metadata": {
        "id": "-T3aKjA22ABM"
      },
      "source": [
        "- Theory  of the mind."
      ]
    },
    {
      "cell_type": "markdown",
      "metadata": {
        "id": "DBmAMH492BL8"
      },
      "source": [
        "- Incentive structure."
      ]
    },
    {
      "cell_type": "markdown",
      "metadata": {
        "id": "R2r_UZ4h2DMF"
      },
      "source": [
        "- **Models**: Simplified version of the real world each model has a purpose."
      ]
    },
    {
      "cell_type": "markdown",
      "metadata": {
        "id": "kgTIZvZO2Fd2"
      },
      "source": [
        "- If you’re not surprising yourself on a regular basis you’re not  creating you’re just following recipes."
      ]
    },
    {
      "cell_type": "markdown",
      "metadata": {
        "id": "jansrLIi2HXJ"
      },
      "source": [
        "- Strace\n",
        "- P-trace\n",
        "- Wget\n",
        "- Sq\n",
        "- Sed\n",
        "- Grep\n",
        "- Watch\n",
        "- Shuf -n 1"
      ]
    },
    {
      "cell_type": "markdown",
      "metadata": {
        "id": "PKMksUWu2LVA"
      },
      "source": [
        "- Git statistics"
      ]
    },
    {
      "cell_type": "markdown",
      "metadata": {
        "id": "_UdfcM6V2M0Q"
      },
      "source": [
        "- Computation graph."
      ]
    },
    {
      "cell_type": "markdown",
      "metadata": {
        "id": "v8sn1cx02OMp"
      },
      "source": [
        "- /likes to find papers on twitter."
      ]
    },
    {
      "cell_type": "markdown",
      "metadata": {
        "id": "QAx_aEs32QA3"
      },
      "source": [
        "- Permission system for running applications. Run application as “x” user? Meaning that."
      ]
    },
    {
      "cell_type": "markdown",
      "metadata": {
        "id": "RqHxIQc82RWv"
      },
      "source": [
        "-  Lifelong learning in ml."
      ]
    },
    {
      "cell_type": "markdown",
      "metadata": {
        "id": "rAznOqrZ2TMV"
      },
      "source": [
        "- Piping notation for programming languages."
      ]
    },
    {
      "cell_type": "markdown",
      "metadata": {
        "id": "zRi0SMPA2Wkf"
      },
      "source": [
        "- Using time series and signal processing to model the world?"
      ]
    },
    {
      "cell_type": "markdown",
      "metadata": {
        "id": "fSsUVlqV2Uz2"
      },
      "source": [
        "- **model**: assumptions, based on previous experience (other data! transfer learning etc), or beliefs about the regularities of the universe. "
      ]
    },
    {
      "cell_type": "markdown",
      "metadata": {
        "id": "UrHt2dMO2Z0u"
      },
      "source": [
        "- Inductive bias."
      ]
    },
    {
      "cell_type": "markdown",
      "metadata": {
        "id": "EzNtBG1h2koh"
      },
      "source": [
        "- The LLVM compiler infrastructure project is a set of compiler and toolchain technologies, which can be used to develop a front end for any programming language and a back end for any instruction set architecture.\n",
        "Hardware failure.\n"
      ]
    },
    {
      "cell_type": "markdown",
      "metadata": {
        "id": "RILPr6qy2mbT"
      },
      "source": [
        "- We keep re-learning this lesson a few times every year: *Every* a single \"reasonable\" assumption you think you can safely make about code is broken by somebody's real-world program."
      ]
    },
    {
      "cell_type": "markdown",
      "metadata": {
        "id": "uIMM7vz_3IAo"
      },
      "source": [
        "- Self-Reinforcement learning"
      ]
    },
    {
      "cell_type": "markdown",
      "metadata": {
        "id": "weFC5Sw13JUT"
      },
      "source": [
        "- Data generating process"
      ]
    },
    {
      "cell_type": "markdown",
      "metadata": {
        "id": "HTwp9I6U3Kxq"
      },
      "source": [
        "- “\\” is a metacharacter."
      ]
    },
    {
      "cell_type": "markdown",
      "metadata": {
        "id": "6a-H3XJT3Pe9"
      },
      "source": [
        "- The first kind is cognitive automation: encoding human abstractions in a piece of software and using it to automate tasks normally performed by humans. Nearly all of current machine learning & symbolic AI fall into this category."
      ]
    },
    {
      "cell_type": "markdown",
      "metadata": {
        "id": "5WKe_MEO3UAL"
      },
      "source": [
        "- The energy function F_w(x,y) is what is being minimized during *inference*; finding a y for which F_w(x,y) is small. The loss function is what is being minimized during *learning* (w.r.t parameters w). "
      ]
    },
    {
      "cell_type": "markdown",
      "metadata": {
        "id": "LuXpOJx63WAa"
      },
      "source": [
        "- Programming languages as a medium for describing computations."
      ]
    },
    {
      "cell_type": "markdown",
      "metadata": {
        "id": "oK8Ck7lQ3X4c"
      },
      "source": [
        "- Good decisions are made of knowledge, not on numbers. Plato"
      ]
    },
    {
      "cell_type": "markdown",
      "metadata": {
        "id": "yappjHbE3u8b"
      },
      "source": [
        "- Minimizing it shapes the energy in the right way."
      ]
    },
    {
      "cell_type": "markdown",
      "metadata": {
        "id": "n1SYTyji4oGA"
      },
      "source": [
        "- \"The people I go after are the false experts, those who do not accept the limits of their knowledge.\" - Nassim Nicholas Taleb"
      ]
    },
    {
      "cell_type": "markdown",
      "metadata": {
        "id": "GLy4CM1O4qpF"
      },
      "source": [
        "- There are three kinds of AI we could be making."
      ]
    },
    {
      "cell_type": "markdown",
      "metadata": {
        "id": "6EIN_qYx4yTa"
      },
      "source": [
        "- The last kind is cognitive autonomy: creating artificial minds that could thrive independently of us, that would exist for their own sake. Today and for the foreseeable future, this is stuff of science fiction.\n",
        "“Dying societies accumulate laws like dying men accumulate remedies.” —  Nicolás Gómez Dávila"
      ]
    },
    {
      "cell_type": "markdown",
      "metadata": {
        "id": "_5ccuXWj42m5"
      },
      "source": [
        "- **Cui bono** - Aquel a quien aprovecha el crimen es quien lo ha cometido."
      ]
    },
    {
      "cell_type": "markdown",
      "metadata": {
        "id": "EMyVpv4w46le"
      },
      "source": [
        "-  El chiste se cuenta solo."
      ]
    },
    {
      "cell_type": "markdown",
      "metadata": {
        "id": "b7elG3hf473f"
      },
      "source": [
        "-  Sitting down and watching real users try to make sense of your website is the quickest, easiest, most powerful way to unlock transformative insights. Once you combine these insights with hypothesis-driven optimisation, validated at scale… Well, that’s when the magic happens. "
      ]
    },
    {
      "cell_type": "markdown",
      "metadata": {
        "id": "7KJ4BrYs49Yp"
      },
      "source": [
        "- Aceptar la derrota es merecerla. - **Maria Elvira Roca Barea**"
      ]
    },
    {
      "cell_type": "markdown",
      "metadata": {
        "id": "vey2TJKA5L3p"
      },
      "source": [
        "- \"The inability to predict outliers implies the inability to predict the course of history.\" - Nassim Nicholas Taleb"
      ]
    },
    {
      "cell_type": "markdown",
      "metadata": {
        "id": "69yxo8qZ5PSJ"
      },
      "source": [
        "- Yo, ciudadano libre de la República de las Letras, ni esclavo de  Aristóteles ni aliado de sus enemigos, escucharé siempre con preferencia a toda autoridad privada lo que me dictaron la experiencia y la razón. - Benito Jerónimo Feijoo"
      ]
    },
    {
      "cell_type": "markdown",
      "metadata": {
        "id": "60Lp6rU15SLi"
      },
      "source": [
        "- Distribución “latin distributio” y significa “acción y efecto de repartir”."
      ]
    },
    {
      "cell_type": "markdown",
      "metadata": {
        "id": "fYOQJbqM5UeR"
      },
      "source": [
        "- Pre-attentive feature in data visualization."
      ]
    },
    {
      "cell_type": "markdown",
      "metadata": {
        "id": "HFCJH8j15V6k"
      },
      "source": [
        "- Criterio: Regla o norma conforme a la cual se establece un juicio o se toma una determinación."
      ]
    },
    {
      "cell_type": "markdown",
      "metadata": {
        "id": "3lEWfxYC5X9P"
      },
      "source": [
        "- Any organization that cannot outlast the loss of one of its members was not an organization to start with."
      ]
    },
    {
      "cell_type": "markdown",
      "metadata": {
        "id": "XBNxImrE5Zvc"
      },
      "source": [
        "- Zipf's Law"
      ]
    },
    {
      "cell_type": "markdown",
      "metadata": {
        "id": "ht3OYyzq5bWB"
      },
      "source": [
        "- When people think of solutions, they tend to overlook those that involve removing parts of a system. This bias towards adding, may help explain creeps of features in software, regulation in policy, hiring in organizations, etc. - Cesar Hidalgo"
      ]
    },
    {
      "cell_type": "markdown",
      "metadata": {
        "id": "ROeIacA-5fvj"
      },
      "source": [
        "- \"The simpler, the better. Complications lead to multiplicative chains of unanticipated effects.\" - Nassim Nicholas Taleb"
      ]
    },
    {
      "cell_type": "markdown",
      "metadata": {
        "id": "8Mh3L9Lw5hRE"
      },
      "source": [
        "- Tinker /ˈtiNGkər/ (verb) - To make small changes to something in order to improve or repair it."
      ]
    },
    {
      "cell_type": "markdown",
      "metadata": {
        "id": "oggSU-Rs5jlE"
      },
      "source": [
        "- I wish linear regression was never taught as  y = a + bx + e  and was instead taught as   y ~ Normal(Xb, sigma).  Because then explaining and learning GLM would be easier."
      ]
    },
    {
      "cell_type": "markdown",
      "metadata": {
        "id": "6bAk8dth5lxq"
      },
      "source": [
        "- The scientific ideal is to be able to say “I’ve been proved wrong. "
      ]
    },
    {
      "cell_type": "markdown",
      "metadata": {
        "id": "I0EcCaJl5nQs"
      },
      "source": [
        "- That’s great! I learned something.” I’ve known a few people who could rise to the ideal occasionally.\n",
        "Homeostasis"
      ]
    },
    {
      "cell_type": "markdown",
      "metadata": {
        "id": "ZFcd6qUO5pXv"
      },
      "source": [
        "- Tensor  - In mathematics is an algebraic object that describes a (multilinear) relationship between sets of algebraic objects related to a vector space. Objects that tensors may map between include vectors and scalars, and even other tensors. Tensors can take several different forms – for example: scalars and vectors (which are the simplest tensors), dual vectors, multilinear maps between vector spaces, and even some operations such as the dot product. Tensors are defined independent of any basis, although they are often referred to by their components in a basis related to a particular "
      ]
    }
  ]
}